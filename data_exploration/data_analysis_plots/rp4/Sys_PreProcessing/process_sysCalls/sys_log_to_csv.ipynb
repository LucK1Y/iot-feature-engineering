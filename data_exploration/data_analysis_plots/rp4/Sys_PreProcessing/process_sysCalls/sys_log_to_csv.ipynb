{
 "cells": [
  {
   "cell_type": "markdown",
   "id": "ef4d6369606a2912",
   "metadata": {
    "collapsed": false
   },
   "source": [
    "# Idea\n",
    "Read into all sys files of a given sensor and calc the TF-IDF Vector for each file.\n",
    "- Then Vocab as columns/features and each file as a row.\n",
    "- Then Analyse Columns as before"
   ]
  },
  {
   "cell_type": "code",
   "execution_count": 1,
   "id": "e9d8bc8b7c5d3bb9",
   "metadata": {
    "ExecuteTime": {
     "end_time": "2024-05-05T17:23:07.014219Z",
     "start_time": "2024-05-05T17:23:06.650101Z"
    },
    "collapsed": false
   },
   "outputs": [],
   "source": [
    "from pathlib import Path\n",
    "\n",
    "import numpy as np\n",
    "import pandas as pd"
   ]
  },
  {
   "cell_type": "code",
   "execution_count": 2,
   "id": "24f2302a5a8a86e2",
   "metadata": {
    "ExecuteTime": {
     "end_time": "2024-05-05T17:23:07.511779Z",
     "start_time": "2024-05-05T17:23:07.015297Z"
    },
    "collapsed": false
   },
   "outputs": [],
   "source": [
    "import sys\n",
    "sys.path.append(str(Path(\"./../../../../../\").resolve()))\n",
    "\n",
    "from py_dataset import advacned_sys_log_extraction\n",
    "from py_dataset import get_all_files_df\n",
    "from py_dataset import read_in_files\n",
    "from py_dataset import feature_plotting"
   ]
  },
  {
   "cell_type": "code",
   "execution_count": 12,
   "id": "0b3ca639",
   "metadata": {},
   "outputs": [],
   "source": [
    "# max CPUs to use\n",
    "max_workers = 3"
   ]
  },
  {
   "cell_type": "code",
   "execution_count": 3,
   "id": "129d8247844920e7",
   "metadata": {
    "ExecuteTime": {
     "end_time": "2024-05-05T17:23:07.597587Z",
     "start_time": "2024-05-05T17:23:07.512594Z"
    },
    "collapsed": false
   },
   "outputs": [],
   "source": [
    "data_path = Path('/media/<User>/DC/MAP_CreationOfNewDatasetsForDFL/code&data/0_raw_collected_data/')\n",
    "assert data_path.exists()"
   ]
  },
  {
   "cell_type": "code",
   "execution_count": 4,
   "id": "1bd21545",
   "metadata": {},
   "outputs": [],
   "source": [
    "output_path = Path(\n",
    "        '/media/<User>/DC/IS_Data_Exploration_and_Feature_Engineering_for_an_IoT_Device_Behavior_Fingerprinting_Dataset/advanced/')\n",
    "output_path.mkdir(exist_ok=True)\n",
    "\n",
    "assert output_path.exists()"
   ]
  },
  {
   "cell_type": "code",
   "execution_count": 5,
   "id": "907a50a043be4118",
   "metadata": {
    "ExecuteTime": {
     "end_time": "2024-05-05T17:23:09.996312Z",
     "start_time": "2024-05-05T17:23:07.598757Z"
    },
    "collapsed": false
   },
   "outputs": [
    {
     "name": "stdout",
     "output_type": "stream",
     "text": [
      "txt file found, will drop /media/<User>/DC/MAP_CreationOfNewDatasetsForDFL/code&data/0_raw_collected_data/Heqing/device1/3_thetick_4h/collections.txt\n",
      "txt file found, will drop /media/<User>/DC/MAP_CreationOfNewDatasetsForDFL/code&data/0_raw_collected_data/Heqing/device2/1_normal/note.txt\n",
      "                                           file_path\n",
      "0  /media/<User>/DC/MAP_CreationOfNewDatasetsForDFL/...\n",
      "RangeIndex(start=0, stop=622, step=1)\n",
      "filetype\n",
      "csv    530\n",
      "zip     92\n",
      "Name: count, dtype: int64\n",
      "                                           file_path filetype  filesize_bytes\n",
      "0  /media/<User>/DC/MAP_CreationOfNewDatasetsForDFL/...      csv           49419\n",
      "feature_family\n",
      "SYS_data        92\n",
      "KERN_data       91\n",
      "FLS_data        91\n",
      "RES_data        91\n",
      "block_data      91\n",
      "network_data    91\n",
      "entropy_data    75\n",
      "Name: count, dtype: int64\n"
     ]
    },
    {
     "data": {
      "text/html": [
       "<div>\n",
       "<style scoped>\n",
       "    .dataframe tbody tr th:only-of-type {\n",
       "        vertical-align: middle;\n",
       "    }\n",
       "\n",
       "    .dataframe tbody tr th {\n",
       "        vertical-align: top;\n",
       "    }\n",
       "\n",
       "    .dataframe thead th {\n",
       "        text-align: right;\n",
       "    }\n",
       "</style>\n",
       "<table border=\"1\" class=\"dataframe\">\n",
       "  <thead>\n",
       "    <tr style=\"text-align: right;\">\n",
       "      <th></th>\n",
       "      <th>file_path</th>\n",
       "      <th>filetype</th>\n",
       "      <th>filesize_bytes</th>\n",
       "      <th>researcher_name</th>\n",
       "      <th>device_name</th>\n",
       "      <th>experiment</th>\n",
       "      <th>feature_family</th>\n",
       "      <th>file_name</th>\n",
       "      <th>device</th>\n",
       "    </tr>\n",
       "  </thead>\n",
       "  <tbody>\n",
       "    <tr>\n",
       "      <th>0</th>\n",
       "      <td>/media/<User>/DC/MAP_CreationOfNewDatasetsForDFL/...</td>\n",
       "      <td>csv</td>\n",
       "      <td>49419</td>\n",
       "      <td>Heqing</td>\n",
       "      <td>device1</td>\n",
       "      <td>1_normal</td>\n",
       "      <td>block_data</td>\n",
       "      <td>e4_5f_01_68_35_e6.csv</td>\n",
       "      <td>Heqing_device1</td>\n",
       "    </tr>\n",
       "  </tbody>\n",
       "</table>\n",
       "</div>"
      ],
      "text/plain": [
       "                                           file_path filetype  filesize_bytes  \\\n",
       "0  /media/<User>/DC/MAP_CreationOfNewDatasetsForDFL/...      csv           49419   \n",
       "\n",
       "  researcher_name device_name experiment feature_family  \\\n",
       "0          Heqing     device1   1_normal     block_data   \n",
       "\n",
       "               file_name          device  \n",
       "0  e4_5f_01_68_35_e6.csv  Heqing_device1  "
      ]
     },
     "execution_count": 5,
     "metadata": {},
     "output_type": "execute_result"
    }
   ],
   "source": [
    "df = get_all_files_df.main(data_path)\n",
    "df.head(1)"
   ]
  },
  {
   "cell_type": "markdown",
   "id": "ced8ed86fdfcf83d",
   "metadata": {
    "collapsed": false
   },
   "source": [
    "# Get only DataSource = Sys and Device = Heqing_device2"
   ]
  },
  {
   "cell_type": "code",
   "execution_count": 6,
   "id": "50dcbe2a9cb8ea5e",
   "metadata": {
    "ExecuteTime": {
     "end_time": "2024-05-05T17:23:10.000947Z",
     "start_time": "2024-05-05T17:23:09.997907Z"
    },
    "collapsed": false
   },
   "outputs": [],
   "source": [
    "single_dev = df[df[\"device\"] == \"Heqing_device2\"]\n",
    "assert len(single_dev[\"device\"].unique()) == 1"
   ]
  },
  {
   "cell_type": "code",
   "execution_count": 7,
   "id": "68d97cd93b421804",
   "metadata": {
    "ExecuteTime": {
     "end_time": "2024-05-05T17:23:10.007389Z",
     "start_time": "2024-05-05T17:23:10.002457Z"
    },
    "collapsed": false
   },
   "outputs": [
    {
     "data": {
      "text/plain": [
       "(19, 9)"
      ]
     },
     "execution_count": 7,
     "metadata": {},
     "output_type": "execute_result"
    }
   ],
   "source": [
    "single_dev_single_data_source = single_dev[single_dev[\"feature_family\"] == \"SYS_data\"]\n",
    "assert len(single_dev_single_data_source[\"feature_family\"].unique()) == 1\n",
    "single_dev_single_data_source.shape"
   ]
  },
  {
   "cell_type": "code",
   "execution_count": 8,
   "id": "7f7b94c93fac6fe1",
   "metadata": {
    "ExecuteTime": {
     "end_time": "2024-05-05T17:23:10.016631Z",
     "start_time": "2024-05-05T17:23:10.008400Z"
    },
    "collapsed": false
   },
   "outputs": [
    {
     "data": {
      "text/html": [
       "<div>\n",
       "<style scoped>\n",
       "    .dataframe tbody tr th:only-of-type {\n",
       "        vertical-align: middle;\n",
       "    }\n",
       "\n",
       "    .dataframe tbody tr th {\n",
       "        vertical-align: top;\n",
       "    }\n",
       "\n",
       "    .dataframe thead th {\n",
       "        text-align: right;\n",
       "    }\n",
       "</style>\n",
       "<table border=\"1\" class=\"dataframe\">\n",
       "  <thead>\n",
       "    <tr style=\"text-align: right;\">\n",
       "      <th></th>\n",
       "      <th>file_path</th>\n",
       "      <th>filetype</th>\n",
       "      <th>filesize_bytes</th>\n",
       "      <th>researcher_name</th>\n",
       "      <th>device_name</th>\n",
       "      <th>experiment</th>\n",
       "      <th>feature_family</th>\n",
       "      <th>file_name</th>\n",
       "      <th>device</th>\n",
       "    </tr>\n",
       "  </thead>\n",
       "  <tbody>\n",
       "    <tr>\n",
       "      <th>139</th>\n",
       "      <td>/media/<User>/DC/MAP_CreationOfNewDatasetsForDFL/...</td>\n",
       "      <td>zip</td>\n",
       "      <td>3819463330</td>\n",
       "      <td>Heqing</td>\n",
       "      <td>device2</td>\n",
       "      <td>1_normal</td>\n",
       "      <td>SYS_data</td>\n",
       "      <td>device2_normal_157min_60G.zip</td>\n",
       "      <td>Heqing_device2</td>\n",
       "    </tr>\n",
       "  </tbody>\n",
       "</table>\n",
       "</div>"
      ],
      "text/plain": [
       "                                             file_path filetype  \\\n",
       "139  /media/<User>/DC/MAP_CreationOfNewDatasetsForDFL/...      zip   \n",
       "\n",
       "     filesize_bytes researcher_name device_name experiment feature_family  \\\n",
       "139      3819463330          Heqing     device2   1_normal       SYS_data   \n",
       "\n",
       "                         file_name          device  \n",
       "139  device2_normal_157min_60G.zip  Heqing_device2  "
      ]
     },
     "execution_count": 8,
     "metadata": {},
     "output_type": "execute_result"
    }
   ],
   "source": [
    "single_dev_single_data_source.head(1)"
   ]
  },
  {
   "cell_type": "code",
   "execution_count": 9,
   "id": "25a2832872f46d3f",
   "metadata": {
    "ExecuteTime": {
     "end_time": "2024-05-05T17:23:10.023409Z",
     "start_time": "2024-05-05T17:23:10.017814Z"
    },
    "collapsed": false
   },
   "outputs": [
    {
     "data": {
      "text/plain": [
       "file_name\n",
       "device2_normal_157min_60G.zip         1\n",
       "device2_normal_83min_32.8G.zip        1\n",
       "device2_ramsomware_90min_19.2G.zip    1\n",
       "device2_ransomware_62min_12.7G.zip    1\n",
       "device2_ransomware_90min_18.4G.zip    1\n",
       "device2_thetick_2h_43.2G.zip          1\n",
       "device2_thetick_2h_44.2G.zip          1\n",
       "device2_bashlite_2h_451.G.zip         1\n",
       "device2_Bashlite_2h_48.6G.zip         1\n",
       "device2_httpbackdoors_2h_47.8G.zip    1\n",
       "device2_httpbackdoor_2h_46.5G.zip     1\n",
       "device2_beurk_2h_43.6G.zip            1\n",
       "device2_beurk_2h_45.3G.zip            1\n",
       "device2_backdoor_2h_45.3G.zip         1\n",
       "device2_backdoor_2h_45.5G.zip         1\n",
       "device2_bdvl_2h_44G.zip               1\n",
       "device2_bdvl_2h_45.9G.zip             1\n",
       "device2_xmrig_2h_20.3G.zip            1\n",
       "device2_xmrig_2h_20.4G.zip            1\n",
       "Name: count, dtype: int64"
      ]
     },
     "execution_count": 9,
     "metadata": {},
     "output_type": "execute_result"
    }
   ],
   "source": [
    "single_dev_single_data_source[\"file_name\"].value_counts()"
   ]
  },
  {
   "cell_type": "code",
   "execution_count": 10,
   "id": "fbe89f3d0d56ced9",
   "metadata": {
    "ExecuteTime": {
     "end_time": "2024-05-05T17:23:10.034532Z",
     "start_time": "2024-05-05T17:23:10.024409Z"
    },
    "collapsed": false
   },
   "outputs": [],
   "source": [
    "from typing import Iterator, Tuple\n",
    "import zipfile\n",
    "from tqdm import tqdm\n",
    "\n",
    "\n",
    "def yield_log_files_from_zip(zip_file_path) -> Iterator[Tuple[str, str]]:\n",
    "    with zipfile.ZipFile(zip_file_path, 'r') as zip_file:\n",
    "        file_infos = [file_info for file_info in zip_file.infolist() if file_info.filename.endswith('.log')]\n",
    "        for file_info in tqdm(file_infos, desc=\"Reading log files from zip\", unit=\"files\"):\n",
    "            with zip_file.open(file_info) as file:\n",
    "                yield file_info.filename, file.read().decode('utf-8')"
   ]
  },
  {
   "cell_type": "code",
   "execution_count": 11,
   "id": "e108fddef0caded7",
   "metadata": {
    "ExecuteTime": {
     "end_time": "2024-05-05T17:23:10.038559Z",
     "start_time": "2024-05-05T17:23:10.035628Z"
    },
    "collapsed": false
   },
   "outputs": [],
   "source": [
    "import re\n",
    "\n",
    "\n",
    "def process_log_file(content: str):\n",
    "    processes, file_uptime = advacned_sys_log_extraction.parse(content)\n",
    "\n",
    "    # print(f\"Found {len(processes)} processes in log file. Uptime: {file_uptime}\", end=\"\\r\")\n",
    "    return processes"
   ]
  },
  {
   "cell_type": "code",
   "execution_count": 13,
   "id": "d2f8ff2bd06b259b",
   "metadata": {
    "ExecuteTime": {
     "end_time": "2024-05-05T17:23:10.044913Z",
     "start_time": "2024-05-05T17:23:10.039827Z"
    },
    "collapsed": false
   },
   "outputs": [],
   "source": [
    "import os\n",
    "import concurrent.futures\n",
    "\n",
    "\n",
    "def process_file(row):\n",
    "    assert row[\"filetype\"] == \"zip\", \"Only zip files are supported\"\n",
    "    logs = []\n",
    "    csv_file_name = f\"{row['file_name']}_logs.csv\"\n",
    "    path = output_path / csv_file_name\n",
    "    if path.exists():\n",
    "        print(f\"Skipping {csv_file_name}\")\n",
    "        return\n",
    "\n",
    "    for file_name, content in yield_log_files_from_zip(row[\"file_path\"]):\n",
    "        base_name = os.path.basename(file_name)\n",
    "        timestamp = os.path.splitext(base_name)[0]\n",
    "        procecess = process_log_file(content)\n",
    "\n",
    "        logs.append({\n",
    "            \"timestamp\": timestamp,\n",
    "            \"system_processes_and_calls\": procecess,\n",
    "            \"label\": row[\"experiment\"],\n",
    "        })\n",
    "\n",
    "    logs_df = pd.DataFrame(logs)\n",
    "    logs_df.to_csv(str(path), index=False)\n",
    "    print(f\"Saved {csv_file_name}\")\n",
    "\n",
    "\n",
    "def main():\n",
    "    with concurrent.futures.ProcessPoolExecutor(max_workers=max_workers) as executor:\n",
    "        futures = [executor.submit(process_file, row) for _, row in single_dev_single_data_source.iterrows()]\n",
    "        for future in concurrent.futures.as_completed(futures):\n",
    "            future.result()"
   ]
  },
  {
   "cell_type": "code",
   "execution_count": 14,
   "id": "76e38ac5",
   "metadata": {},
   "outputs": [
    {
     "name": "stderr",
     "output_type": "stream",
     "text": [
      "Reading log files from zip: 100%|██████████| 486/486 [01:57<00:00,  4.12files/s]\n",
      "Reading log files from zip:  46%|████▌     | 389/846 [02:24<02:29,  3.06files/s]"
     ]
    },
    {
     "name": "stdout",
     "output_type": "stream",
     "text": [
      "Saved device2_ramsomware_90min_19.2G.zip_logs.csv\n"
     ]
    },
    {
     "name": "stderr",
     "output_type": "stream",
     "text": [
      "Reading log files from zip: 100%|██████████| 532/532 [02:42<00:00,  3.27files/s]\n",
      "Reading log files from zip:  19%|█▉        | 65/341 [00:21<01:07,  4.09files/s]]"
     ]
    },
    {
     "name": "stdout",
     "output_type": "stream",
     "text": [
      "Saved device2_normal_83min_32.8G.zip_logs.csv\n"
     ]
    },
    {
     "name": "stderr",
     "output_type": "stream",
     "text": [
      "Reading log files from zip: 100%|██████████| 341/341 [01:37<00:00,  3.48files/s]\n",
      "Reading log files from zip:  73%|███████▎  | 359/489 [01:37<00:25,  5.16files/s]"
     ]
    },
    {
     "name": "stdout",
     "output_type": "stream",
     "text": [
      "Saved device2_ransomware_62min_12.7G.zip_logs.csv\n"
     ]
    },
    {
     "name": "stderr",
     "output_type": "stream",
     "text": [
      "Reading log files from zip: 100%|██████████| 489/489 [02:14<00:00,  3.63files/s]\n",
      "Reading log files from zip:  96%|█████████▋| 815/846 [05:36<00:12,  2.53files/s]"
     ]
    },
    {
     "name": "stdout",
     "output_type": "stream",
     "text": [
      "Saved device2_ransomware_90min_18.4G.zip_logs.csv\n"
     ]
    },
    {
     "name": "stderr",
     "output_type": "stream",
     "text": [
      "Reading log files from zip: 100%|██████████| 846/846 [05:52<00:00,  2.40files/s]\n",
      "Reading log files from zip:  37%|███▋      | 239/645 [01:33<02:03,  3.28files/s]"
     ]
    },
    {
     "name": "stdout",
     "output_type": "stream",
     "text": [
      "Saved device2_normal_157min_60G.zip_logs.csv\n"
     ]
    },
    {
     "name": "stderr",
     "output_type": "stream",
     "text": [
      "Reading log files from zip: 100%|██████████| 645/645 [04:05<00:00,  2.63files/s]\n",
      "Reading log files from zip:  73%|███████▎  | 475/647 [03:02<01:00,  2.82files/s]"
     ]
    },
    {
     "name": "stdout",
     "output_type": "stream",
     "text": [
      "Saved device2_thetick_2h_43.2G.zip_logs.csv\n"
     ]
    },
    {
     "name": "stderr",
     "output_type": "stream",
     "text": [
      "Reading log files from zip: 100%|██████████| 647/647 [04:09<00:00,  2.60files/s]\n",
      "Reading log files from zip:  26%|██▌       | 167/644 [01:15<02:54,  2.74files/s]"
     ]
    },
    {
     "name": "stdout",
     "output_type": "stream",
     "text": [
      "Saved device2_thetick_2h_44.2G.zip_logs.csv\n"
     ]
    },
    {
     "name": "stderr",
     "output_type": "stream",
     "text": [
      "Reading log files from zip: 100%|██████████| 646/646 [04:13<00:00,  2.54files/s]\n",
      "Reading log files from zip:  36%|███▌      | 229/644 [01:40<02:16,  3.05files/s]"
     ]
    },
    {
     "name": "stdout",
     "output_type": "stream",
     "text": [
      "Saved device2_bashlite_2h_451.G.zip_logs.csv\n"
     ]
    },
    {
     "name": "stderr",
     "output_type": "stream",
     "text": [
      "Reading log files from zip: 100%|██████████| 644/644 [04:44<00:00,  2.27files/s]\n",
      "Reading log files from zip:  70%|███████   | 453/645 [03:09<01:02,  3.08files/s]"
     ]
    },
    {
     "name": "stdout",
     "output_type": "stream",
     "text": [
      "Saved device2_Bashlite_2h_48.6G.zip_logs.csv"
     ]
    },
    {
     "name": "stderr",
     "output_type": "stream",
     "text": [
      "Reading log files from zip:  78%|███████▊  | 506/647 [03:35<00:45,  3.08files/s]"
     ]
    },
    {
     "name": "stdout",
     "output_type": "stream",
     "text": [
      "\n"
     ]
    },
    {
     "name": "stderr",
     "output_type": "stream",
     "text": [
      "Reading log files from zip: 100%|██████████| 647/647 [04:31<00:00,  2.39files/s]\n",
      "Reading log files from zip:  25%|██▌       | 163/648 [01:02<02:38,  3.07files/s]"
     ]
    },
    {
     "name": "stdout",
     "output_type": "stream",
     "text": [
      "Saved device2_httpbackdoors_2h_47.8G.zip_logs.csv\n"
     ]
    },
    {
     "name": "stderr",
     "output_type": "stream",
     "text": [
      "Reading log files from zip: 100%|██████████| 645/645 [04:27<00:00,  2.41files/s]\n",
      "Reading log files from zip:  34%|███▍      | 221/648 [01:25<02:10,  3.27files/s]"
     ]
    },
    {
     "name": "stdout",
     "output_type": "stream",
     "text": [
      "Saved device2_httpbackdoor_2h_46.5G.zip_logs.csv\n"
     ]
    },
    {
     "name": "stderr",
     "output_type": "stream",
     "text": [
      "Reading log files from zip: 100%|██████████| 648/648 [03:52<00:00,  2.78files/s]\n",
      "Reading log files from zip:  67%|██████▋   | 434/646 [02:39<01:10,  3.01files/s]"
     ]
    },
    {
     "name": "stdout",
     "output_type": "stream",
     "text": [
      "Saved device2_beurk_2h_43.6G.zip_logs.csv\n"
     ]
    },
    {
     "name": "stderr",
     "output_type": "stream",
     "text": [
      "Reading log files from zip: 100%|██████████| 650/650 [03:52<00:00,  2.80files/s]\n",
      "Reading log files from zip:  96%|█████████▌| 619/646 [03:40<00:06,  3.90files/s]"
     ]
    },
    {
     "name": "stdout",
     "output_type": "stream",
     "text": [
      "Saved device2_beurk_2h_45.3G.zip_logs.csv\n"
     ]
    },
    {
     "name": "stderr",
     "output_type": "stream",
     "text": [
      "Reading log files from zip: 100%|██████████| 646/646 [03:47<00:00,  2.84files/s]\n",
      "Reading log files from zip:  36%|███▌      | 230/646 [01:14<01:44,  3.98files/s]"
     ]
    },
    {
     "name": "stdout",
     "output_type": "stream",
     "text": [
      "Saved device2_backdoor_2h_45.3G.zip_logs.csv\n"
     ]
    },
    {
     "name": "stderr",
     "output_type": "stream",
     "text": [
      "Reading log files from zip: 100%|██████████| 646/646 [03:24<00:00,  3.17files/s]\n",
      "Reading log files from zip:  67%|██████▋   | 387/578 [02:18<00:59,  3.21files/s]"
     ]
    },
    {
     "name": "stdout",
     "output_type": "stream",
     "text": [
      "Saved device2_backdoor_2h_45.5G.zip_logs.csv\n"
     ]
    },
    {
     "name": "stderr",
     "output_type": "stream",
     "text": [
      "Reading log files from zip: 100%|██████████| 575/575 [03:18<00:00,  2.90files/s]\n",
      "Reading log files from zip:  61%|██████    | 373/612 [00:50<00:38,  6.25files/s]"
     ]
    },
    {
     "name": "stdout",
     "output_type": "stream",
     "text": [
      "Saved device2_bdvl_2h_44G.zip_logs.csv\n"
     ]
    },
    {
     "name": "stderr",
     "output_type": "stream",
     "text": [
      "Reading log files from zip: 100%|██████████| 578/578 [03:31<00:00,  2.73files/s]\n",
      "Reading log files from zip:  92%|█████████▏| 565/612 [01:18<00:10,  4.31files/s]"
     ]
    },
    {
     "name": "stdout",
     "output_type": "stream",
     "text": [
      "Saved device2_bdvl_2h_45.9G.zip_logs.csv\n"
     ]
    },
    {
     "name": "stderr",
     "output_type": "stream",
     "text": [
      "Reading log files from zip: 100%|██████████| 612/612 [01:26<00:00,  7.10files/s]\n",
      "Reading log files from zip:  43%|████▎     | 264/609 [00:38<00:35,  9.60files/s]"
     ]
    },
    {
     "name": "stdout",
     "output_type": "stream",
     "text": [
      "Saved device2_xmrig_2h_20.3G.zip_logs.csv\n"
     ]
    },
    {
     "name": "stderr",
     "output_type": "stream",
     "text": [
      "Reading log files from zip: 100%|██████████| 609/609 [01:12<00:00,  8.36files/s]\n"
     ]
    },
    {
     "name": "stdout",
     "output_type": "stream",
     "text": [
      "Saved device2_xmrig_2h_20.4G.zip_logs.csv\n"
     ]
    }
   ],
   "source": [
    "main()"
   ]
  }
 ],
 "metadata": {
  "kernelspec": {
   "display_name": "Python 3",
   "language": "python",
   "name": "python3"
  },
  "language_info": {
   "codemirror_mode": {
    "name": "ipython",
    "version": 3
   },
   "file_extension": ".py",
   "mimetype": "text/x-python",
   "name": "python",
   "nbconvert_exporter": "python",
   "pygments_lexer": "ipython3",
   "version": "3.10.12"
  }
 },
 "nbformat": 4,
 "nbformat_minor": 5
}
