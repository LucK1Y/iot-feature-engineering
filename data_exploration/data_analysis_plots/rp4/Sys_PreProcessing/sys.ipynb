{
 "cells": [
  {
   "cell_type": "markdown",
   "source": [
    "# Idea\n",
    "Read into all sys files of a given sensor and calc the TF-IDF Vector for each file.\n",
    "- Then Vocab as columns/features and each file as a row.\n",
    "- Then Analyse Columns as before"
   ],
   "metadata": {
    "collapsed": false
   },
   "id": "ef4d6369606a2912"
  },
  {
   "cell_type": "code",
   "outputs": [],
   "source": [
    "from pathlib import Path\n",
    "\n",
    "import numpy as np\n",
    "import pandas as pd"
   ],
   "metadata": {
    "collapsed": false,
    "ExecuteTime": {
     "end_time": "2024-05-05T17:23:07.014219Z",
     "start_time": "2024-05-05T17:23:06.650101Z"
    }
   },
   "id": "e9d8bc8b7c5d3bb9",
   "execution_count": 1
  },
  {
   "cell_type": "code",
   "outputs": [],
   "source": [
    "from py_dataset import get_all_files_df\n",
    "from py_dataset import read_in_files\n",
    "from py_dataset import feature_plotting"
   ],
   "metadata": {
    "collapsed": false,
    "ExecuteTime": {
     "end_time": "2024-05-05T17:23:07.511779Z",
     "start_time": "2024-05-05T17:23:07.015297Z"
    }
   },
   "id": "24f2302a5a8a86e2",
   "execution_count": 2
  },
  {
   "cell_type": "code",
   "outputs": [],
   "source": [
    "data_path = Path('/media/<User>/DC/MAP_CreationOfNewDatasetsForDFL/code&data/0_raw_collected_data/')\n",
    "assert data_path.exists()"
   ],
   "metadata": {
    "collapsed": false,
    "ExecuteTime": {
     "end_time": "2024-05-05T17:23:07.597587Z",
     "start_time": "2024-05-05T17:23:07.512594Z"
    }
   },
   "id": "129d8247844920e7",
   "execution_count": 3
  },
  {
   "cell_type": "code",
   "outputs": [
    {
     "name": "stdout",
     "output_type": "stream",
     "text": [
      "txt file found, will drop /media/<User>/DC/MAP_CreationOfNewDatasetsForDFL/code&data/0_raw_collected_data/Heqing/device1/3_thetick_4h/collections.txt\n",
      "txt file found, will drop /media/<User>/DC/MAP_CreationOfNewDatasetsForDFL/code&data/0_raw_collected_data/Heqing/device2/1_normal/note.txt\n",
      "                                           file_path\n",
      "0  /media/<User>/DC/MAP_CreationOfNewDatasetsForDFL/...\n",
      "RangeIndex(start=0, stop=622, step=1)\n",
      "filetype\n",
      "csv    530\n",
      "zip     92\n",
      "Name: count, dtype: int64\n",
      "                                           file_path filetype  filesize_bytes\n",
      "0  /media/<User>/DC/MAP_CreationOfNewDatasetsForDFL/...      csv           49419\n",
      "feature_family\n",
      "SYS_data        92\n",
      "KERN_data       91\n",
      "FLS_data        91\n",
      "RES_data        91\n",
      "block_data      91\n",
      "network_data    91\n",
      "entropy_data    75\n",
      "Name: count, dtype: int64\n"
     ]
    },
    {
     "data": {
      "text/plain": "                                           file_path filetype  filesize_bytes  \\\n0  /media/<User>/DC/MAP_CreationOfNewDatasetsForDFL/...      csv           49419   \n\n  researcher_name device_name experiment feature_family  \\\n0          Heqing     device1   1_normal     block_data   \n\n               file_name          device  \n0  e4_5f_01_68_35_e6.csv  Heqing_device1  ",
      "text/html": "<div>\n<style scoped>\n    .dataframe tbody tr th:only-of-type {\n        vertical-align: middle;\n    }\n\n    .dataframe tbody tr th {\n        vertical-align: top;\n    }\n\n    .dataframe thead th {\n        text-align: right;\n    }\n</style>\n<table border=\"1\" class=\"dataframe\">\n  <thead>\n    <tr style=\"text-align: right;\">\n      <th></th>\n      <th>file_path</th>\n      <th>filetype</th>\n      <th>filesize_bytes</th>\n      <th>researcher_name</th>\n      <th>device_name</th>\n      <th>experiment</th>\n      <th>feature_family</th>\n      <th>file_name</th>\n      <th>device</th>\n    </tr>\n  </thead>\n  <tbody>\n    <tr>\n      <th>0</th>\n      <td>/media/<User>/DC/MAP_CreationOfNewDatasetsForDFL/...</td>\n      <td>csv</td>\n      <td>49419</td>\n      <td>Heqing</td>\n      <td>device1</td>\n      <td>1_normal</td>\n      <td>block_data</td>\n      <td>e4_5f_01_68_35_e6.csv</td>\n      <td>Heqing_device1</td>\n    </tr>\n  </tbody>\n</table>\n</div>"
     },
     "execution_count": 4,
     "metadata": {},
     "output_type": "execute_result"
    }
   ],
   "source": [
    "df = get_all_files_df.main(data_path)\n",
    "df.head(1)"
   ],
   "metadata": {
    "collapsed": false,
    "ExecuteTime": {
     "end_time": "2024-05-05T17:23:09.996312Z",
     "start_time": "2024-05-05T17:23:07.598757Z"
    }
   },
   "id": "907a50a043be4118",
   "execution_count": 4
  },
  {
   "cell_type": "markdown",
   "source": [
    "# Get only DataSource = Sys and Device = Heqing_device2"
   ],
   "metadata": {
    "collapsed": false
   },
   "id": "ced8ed86fdfcf83d"
  },
  {
   "cell_type": "code",
   "outputs": [],
   "source": [
    "single_dev = df[df[\"device\"] == \"Heqing_device2\"]\n",
    "assert len(single_dev[\"device\"].unique()) == 1"
   ],
   "metadata": {
    "collapsed": false,
    "ExecuteTime": {
     "end_time": "2024-05-05T17:23:10.000947Z",
     "start_time": "2024-05-05T17:23:09.997907Z"
    }
   },
   "id": "50dcbe2a9cb8ea5e",
   "execution_count": 5
  },
  {
   "cell_type": "code",
   "outputs": [
    {
     "data": {
      "text/plain": "(19, 9)"
     },
     "execution_count": 6,
     "metadata": {},
     "output_type": "execute_result"
    }
   ],
   "source": [
    "single_dev_single_data_source = single_dev[single_dev[\"feature_family\"] == \"SYS_data\"]\n",
    "assert len(single_dev_single_data_source[\"feature_family\"].unique()) == 1\n",
    "single_dev_single_data_source.shape"
   ],
   "metadata": {
    "collapsed": false,
    "ExecuteTime": {
     "end_time": "2024-05-05T17:23:10.007389Z",
     "start_time": "2024-05-05T17:23:10.002457Z"
    }
   },
   "id": "68d97cd93b421804",
   "execution_count": 6
  },
  {
   "cell_type": "code",
   "outputs": [
    {
     "data": {
      "text/plain": "                                             file_path filetype  \\\n139  /media/<User>/DC/MAP_CreationOfNewDatasetsForDFL/...      zip   \n\n     filesize_bytes researcher_name device_name experiment feature_family  \\\n139      3819463330          Heqing     device2   1_normal       SYS_data   \n\n                         file_name          device  \n139  device2_normal_157min_60G.zip  Heqing_device2  ",
      "text/html": "<div>\n<style scoped>\n    .dataframe tbody tr th:only-of-type {\n        vertical-align: middle;\n    }\n\n    .dataframe tbody tr th {\n        vertical-align: top;\n    }\n\n    .dataframe thead th {\n        text-align: right;\n    }\n</style>\n<table border=\"1\" class=\"dataframe\">\n  <thead>\n    <tr style=\"text-align: right;\">\n      <th></th>\n      <th>file_path</th>\n      <th>filetype</th>\n      <th>filesize_bytes</th>\n      <th>researcher_name</th>\n      <th>device_name</th>\n      <th>experiment</th>\n      <th>feature_family</th>\n      <th>file_name</th>\n      <th>device</th>\n    </tr>\n  </thead>\n  <tbody>\n    <tr>\n      <th>139</th>\n      <td>/media/<User>/DC/MAP_CreationOfNewDatasetsForDFL/...</td>\n      <td>zip</td>\n      <td>3819463330</td>\n      <td>Heqing</td>\n      <td>device2</td>\n      <td>1_normal</td>\n      <td>SYS_data</td>\n      <td>device2_normal_157min_60G.zip</td>\n      <td>Heqing_device2</td>\n    </tr>\n  </tbody>\n</table>\n</div>"
     },
     "execution_count": 7,
     "metadata": {},
     "output_type": "execute_result"
    }
   ],
   "source": [
    "single_dev_single_data_source.head(1)"
   ],
   "metadata": {
    "collapsed": false,
    "ExecuteTime": {
     "end_time": "2024-05-05T17:23:10.016631Z",
     "start_time": "2024-05-05T17:23:10.008400Z"
    }
   },
   "id": "7f7b94c93fac6fe1",
   "execution_count": 7
  },
  {
   "cell_type": "code",
   "outputs": [
    {
     "data": {
      "text/plain": "file_name\ndevice2_normal_157min_60G.zip         1\ndevice2_normal_83min_32.8G.zip        1\ndevice2_ramsomware_90min_19.2G.zip    1\ndevice2_ransomware_62min_12.7G.zip    1\ndevice2_ransomware_90min_18.4G.zip    1\ndevice2_thetick_2h_43.2G.zip          1\ndevice2_thetick_2h_44.2G.zip          1\ndevice2_bashlite_2h_451.G.zip         1\ndevice2_Bashlite_2h_48.6G.zip         1\ndevice2_httpbackdoors_2h_47.8G.zip    1\ndevice2_httpbackdoor_2h_46.5G.zip     1\ndevice2_beurk_2h_43.6G.zip            1\ndevice2_beurk_2h_45.3G.zip            1\ndevice2_backdoor_2h_45.3G.zip         1\ndevice2_backdoor_2h_45.5G.zip         1\ndevice2_bdvl_2h_44G.zip               1\ndevice2_bdvl_2h_45.9G.zip             1\ndevice2_xmrig_2h_20.3G.zip            1\ndevice2_xmrig_2h_20.4G.zip            1\nName: count, dtype: int64"
     },
     "execution_count": 8,
     "metadata": {},
     "output_type": "execute_result"
    }
   ],
   "source": [
    "single_dev_single_data_source[\"file_name\"].value_counts()"
   ],
   "metadata": {
    "collapsed": false,
    "ExecuteTime": {
     "end_time": "2024-05-05T17:23:10.023409Z",
     "start_time": "2024-05-05T17:23:10.017814Z"
    }
   },
   "id": "25a2832872f46d3f",
   "execution_count": 8
  },
  {
   "cell_type": "code",
   "outputs": [],
   "source": [
    "from typing import Iterator, Tuple\n",
    "import zipfile\n",
    "from tqdm import tqdm\n",
    "\n",
    "\n",
    "def yield_log_files_from_zip(zip_file_path) -> Iterator[Tuple[str, str]]:\n",
    "    with zipfile.ZipFile(zip_file_path, 'r') as zip_file:\n",
    "        file_infos = [file_info for file_info in zip_file.infolist() if file_info.filename.endswith('.log')]\n",
    "        for file_info in tqdm(file_infos, desc=\"Reading log files from zip\", unit=\"files\"):\n",
    "            with zip_file.open(file_info) as file:\n",
    "                yield file_info.filename, file.read().decode('utf-8')"
   ],
   "metadata": {
    "collapsed": false,
    "ExecuteTime": {
     "end_time": "2024-05-05T17:23:10.034532Z",
     "start_time": "2024-05-05T17:23:10.024409Z"
    }
   },
   "id": "fbe89f3d0d56ced9",
   "execution_count": 9
  },
  {
   "cell_type": "code",
   "outputs": [],
   "source": [
    "import re\n",
    "\n",
    "\n",
    "def process_log_file(content: str):\n",
    "    system_calls = re.findall(r'(?<=\\s)(\\w+)(?=\\(arg0)', content)\n",
    "    system_calls_string = ' '.join(system_calls)\n",
    "\n",
    "    return system_calls_string"
   ],
   "metadata": {
    "collapsed": false,
    "ExecuteTime": {
     "end_time": "2024-05-05T17:23:10.038559Z",
     "start_time": "2024-05-05T17:23:10.035628Z"
    }
   },
   "id": "e108fddef0caded7",
   "execution_count": 10
  },
  {
   "cell_type": "code",
   "outputs": [],
   "source": [
    "import os\n",
    "import concurrent.futures\n",
    "\n",
    "\n",
    "def process_file(row):\n",
    "    assert row[\"filetype\"] == \"zip\", \"Only zip files are supported\"\n",
    "    logs = []\n",
    "    csv_file_name = f\"{row['file_name']}_logs.csv\"\n",
    "    path = Path(\n",
    "        '/media/<User>/DC/IS_Data_Exploration_and_Feature_Engineering_for_an_IoT_Device_Behavior_Fingerprinting_Dataset/') / csv_file_name\n",
    "    if path.exists():\n",
    "        print(f\"Skipping {csv_file_name}\")\n",
    "        return\n",
    "\n",
    "    for file_name, content in yield_log_files_from_zip(row[\"file_path\"]):\n",
    "        base_name = os.path.basename(file_name)\n",
    "        timestamp = os.path.splitext(base_name)[0]\n",
    "        system_calls_string = process_log_file(content)\n",
    "\n",
    "        logs.append({\n",
    "            \"timestamp\": timestamp,\n",
    "            \"system_calls\": system_calls_string,\n",
    "            \"experiment\": row[\"experiment\"],\n",
    "        })\n",
    "\n",
    "    logs_df = pd.DataFrame(logs)\n",
    "    logs_df.to_csv(str(path), index=False)\n",
    "\n",
    "\n",
    "def main():\n",
    "    with concurrent.futures.ProcessPoolExecutor() as executor:\n",
    "        futures = [executor.submit(process_file, row) for _, row in single_dev_single_data_source.iterrows()]\n",
    "        for future in concurrent.futures.as_completed(futures):\n",
    "            future.result()"
   ],
   "metadata": {
    "collapsed": false,
    "ExecuteTime": {
     "end_time": "2024-05-05T17:23:10.044913Z",
     "start_time": "2024-05-05T17:23:10.039827Z"
    }
   },
   "id": "d2f8ff2bd06b259b",
   "execution_count": 11
  }
 ],
 "metadata": {
  "kernelspec": {
   "display_name": "Python 3",
   "language": "python",
   "name": "python3"
  },
  "language_info": {
   "codemirror_mode": {
    "name": "ipython",
    "version": 2
   },
   "file_extension": ".py",
   "mimetype": "text/x-python",
   "name": "python",
   "nbconvert_exporter": "python",
   "pygments_lexer": "ipython2",
   "version": "2.7.6"
  }
 },
 "nbformat": 4,
 "nbformat_minor": 5
}
