{
 "cells": [
  {
   "cell_type": "code",
   "execution_count": 1,
   "id": "initial_id",
   "metadata": {
    "ExecuteTime": {
     "end_time": "2024-06-24T09:03:51.593509Z",
     "start_time": "2024-06-24T09:03:51.589689Z"
    },
    "collapsed": true
   },
   "outputs": [],
   "source": [
    "import re\n",
    "import time\n",
    "import zipfile\n",
    "\n",
    "import numpy as np\n",
    "import pandas as pd\n",
    "from pathlib import Path\n",
    "import os"
   ]
  },
  {
   "cell_type": "code",
   "execution_count": 2,
   "id": "47d63efaed0f24df",
   "metadata": {
    "collapsed": false
   },
   "outputs": [],
   "source": [
    "import sys\n",
    "\n",
    "repo_base_path = Path(\"./../\").resolve()\n",
    "assert str(repo_base_path).endswith(\"csg_is\"), f\"{repo_base_path} is not a valid path to the CSG_IS repository\"\n",
    "\n",
    "sys.path.append(str(repo_base_path))\n",
    "\n",
    "from py_dataset import get_all_files_df\n",
    "from py_dataset import read_in_files\n",
    "from py_dataset import feature_plotting\n",
    "from py_dataset import feature_selection\n",
    "from py_dataset import net_feature_engineering\n",
    "from py_dataset import entropy_feature_engineering\n",
    "from py_dataset import sys_func\n",
    "\n",
    "from py_dataset.classes import DataSource"
   ]
  },
  {
   "cell_type": "code",
   "execution_count": 5,
   "id": "fc785a64",
   "metadata": {},
   "outputs": [
    {
     "data": {
      "text/plain": [
       "{'BlockInputOutputEvents': 11,\n",
       " 'FileSystem': 179,\n",
       " 'KernelEvents': 80,\n",
       " 'NetRecords': 6,\n",
       " 'ResourceUsageEvents': 116,\n",
       " 'ResourceUsageEvents_RP4': 116,\n",
       " 'SystemCalls': 0,\n",
       " 'Entropy': 3}"
      ]
     },
     "execution_count": 5,
     "metadata": {},
     "output_type": "execute_result"
    }
   ],
   "source": [
    "counts = {}\n",
    "\n",
    "for k, v in DataSource._member_map_.items():\n",
    "    counts[k] = len(v.value)\n",
    "\n",
    "counts"
   ]
  },
  {
   "cell_type": "markdown",
   "id": "5d95aa9c",
   "metadata": {},
   "source": [
    "# After Encoding"
   ]
  },
  {
   "cell_type": "code",
   "execution_count": 6,
   "id": "effa39bf",
   "metadata": {},
   "outputs": [],
   "source": [
    "net_features = {\n",
    "    \"timestamp\": 1,\n",
    "    \"(OLD) PacketCount\": 0,\n",
    "    \"(OLD) TotalLength\": 0,\n",
    "    \"(OLD) AverageLength\": 0,\n",
    "    \"(OLD) MedianLength\": 0,\n",
    "    \"(OLD) MinLength\": 0,\n",
    "    \"(OLD) MaxLength\": 0,\n",
    "    \"(OLD) VarianceLength\": 0,\n",
    "    \"(OLD) DifferentSourcePorts\": 0,\n",
    "    \"(OLD) DifferentDestPorts\": 0,\n",
    "    \"TcpPacketCount\": 0,\n",
    "    \"UdpPacketCount\": 0,\n",
    "    \"TcpUdpProtocolRatio\": 0,\n",
    "    \"MeanInterPacketInterval\": 0,\n",
    "    \"VarianceInterPacketInterval\": 0,\n",
    "    \"MinInterPacketInterval\": 0,\n",
    "    \"MaxInterPacketInterval\": 0,\n",
    "    \"FirstDerivativeInterPacketInterval\": 0,\n",
    "    \"SecondDerivativeInterPacketInterval\": 0,\n",
    "    \"AverageBandwidth\": 0,\n",
    "    \"VarianceBandwidth\": 0,\n",
    "    \"MinBandwidth\": 0,\n",
    "    \"MaxBandwidth\": 0,\n",
    "    \"DifferentDestIPs\": 0,\n",
    "}"
   ]
  },
  {
   "cell_type": "code",
   "execution_count": 8,
   "id": "ac5884f0",
   "metadata": {},
   "outputs": [],
   "source": [
    "import pickle\n",
    "data_path = Path(\n",
    "    \"/media/<User>/DC/IS_Data_Exploration_and_Feature_Engineering_for_an_IoT_Device_Behavior_Fingerprinting_Dataset/sys_system_calls_Heqing_device2/\"\n",
    ")\n",
    "default_vocab_file = data_path / \"vocabulary.pkl\"\n",
    "\n",
    "if default_vocab_file.exists():\n",
    "    with open(str(default_vocab_file), \"rb\") as f:\n",
    "        vocabulary = pickle.load(f)"
   ]
  },
  {
   "cell_type": "code",
   "execution_count": 10,
   "id": "383e1020",
   "metadata": {},
   "outputs": [
    {
     "data": {
      "text/plain": [
       "{'BlockInputOutputEvents': 11,\n",
       " 'FileSystem': 179,\n",
       " 'KernelEvents': 80,\n",
       " 'NetRecords': 24,\n",
       " 'ResourceUsageEvents': 116,\n",
       " 'ResourceUsageEvents_RP4': 116,\n",
       " 'SystemCalls': 160,\n",
       " 'Entropy': 1}"
      ]
     },
     "execution_count": 10,
     "metadata": {},
     "output_type": "execute_result"
    }
   ],
   "source": [
    "counts[\"Entropy\"]=1\n",
    "counts[\"NetRecords\"]=len(net_features.keys())\n",
    "counts[\"SystemCalls\"]=len(vocabulary)\n",
    "counts"
   ]
  },
  {
   "cell_type": "code",
   "execution_count": 11,
   "id": "edf73635",
   "metadata": {},
   "outputs": [
    {
     "data": {
      "text/plain": [
       "687"
      ]
     },
     "execution_count": 11,
     "metadata": {},
     "output_type": "execute_result"
    }
   ],
   "source": [
    "sum(counts.values())"
   ]
  }
 ],
 "metadata": {
  "kernelspec": {
   "display_name": "Python 3",
   "language": "python",
   "name": "python3"
  },
  "language_info": {
   "codemirror_mode": {
    "name": "ipython",
    "version": 3
   },
   "file_extension": ".py",
   "mimetype": "text/x-python",
   "name": "python",
   "nbconvert_exporter": "python",
   "pygments_lexer": "ipython3",
   "version": "3.10.12"
  }
 },
 "nbformat": 4,
 "nbformat_minor": 5
}
