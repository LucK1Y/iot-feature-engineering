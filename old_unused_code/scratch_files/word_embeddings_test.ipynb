{
 "cells": [
  {
   "cell_type": "code",
   "execution_count": null,
   "metadata": {},
   "outputs": [],
   "source": [
    "from gensim.models import Word2Vec\n",
    "from gensim.test.utils import common_texts\n",
    "from gensim.models import KeyedVectors\n",
    "from glove import Corpus, Glove\n",
    "\n",
    "# Example corpus (replace this with your actual corpus)\n",
    "corpus = [\n",
    "    ['this', 'is', 'the', 'first', 'sentence', 'for', 'glove'],\n",
    "    ['this', 'is', 'the', 'second', 'sentence'],\n",
    "    ['yet', 'another', 'sentence'],\n",
    "    ['one', 'more', 'sentence'],\n",
    "    ['and', 'the', 'final', 'sentence']\n",
    "]\n",
    "\n",
    "# Training GloVe embeddings\n",
    "corpus_model = Corpus()\n",
    "corpus_model.fit(corpus, window=5)\n",
    "glove_model = Glove(no_components=100, learning_rate=0.05)\n",
    "glove_model.fit(corpus_model.matrix, epochs=30, no_threads=4, verbose=True)\n",
    "\n",
    "# Save the trained embeddings\n",
    "glove_model.save('glove_model.model')\n",
    "\n",
    "# Load the saved model\n",
    "loaded_model = Glove.load('glove_model.model')\n",
    "\n",
    "# Get the word vectors\n",
    "word_vectors = loaded_model.word_vectors\n",
    "\n",
    "# Accessing the vector for a specific word\n",
    "word_vector = word_vectors[loaded_model.dictionary['word']]\n",
    "\n",
    "# Finding similar words\n",
    "similar_words = loaded_model.most_similar('word', number=5)\n",
    "print(\"Similar words to 'word':\", similar_words)\n"
   ]
  }
 ],
 "metadata": {
  "language_info": {
   "name": "python"
  }
 },
 "nbformat": 4,
 "nbformat_minor": 2
}
