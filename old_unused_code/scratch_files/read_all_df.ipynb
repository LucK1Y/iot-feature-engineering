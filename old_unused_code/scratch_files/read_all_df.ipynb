{
 "cells": [
  {
   "cell_type": "code",
   "execution_count": 1,
   "id": "initial_id",
   "metadata": {
    "collapsed": true,
    "ExecuteTime": {
     "end_time": "2024-03-21T12:11:08.986229Z",
     "start_time": "2024-03-21T12:11:08.761325Z"
    }
   },
   "outputs": [],
   "source": [
    "import pandas as pd"
   ]
  },
  {
   "cell_type": "code",
   "outputs": [],
   "source": [
    "df = pd.read_csv('../data/all_df.csv')"
   ],
   "metadata": {
    "collapsed": false,
    "ExecuteTime": {
     "end_time": "2024-03-21T12:11:10.440125Z",
     "start_time": "2024-03-21T12:11:10.411036Z"
    }
   },
   "id": "7047a77f540aefa",
   "execution_count": 2
  },
  {
   "cell_type": "code",
   "outputs": [
    {
     "data": {
      "text/plain": "               timestamp  read_ops  write_ops  read_kbs  write_kbs  avgrq_sz  \\\n400  2023-11-13 19:37:30       0.0        0.0       0.0        0.0       0.0   \n564  2023-11-13 20:32:10       0.0        0.0       0.0        0.0       0.0   \n335  2023-11-13 19:15:50       0.0        0.0       0.0        0.0       0.0   \n412  2023-11-13 19:41:30       0.0        0.0       0.0        0.0       0.0   \n385  2023-11-13 19:32:30       0.0        0.0       0.0        0.0       0.0   \n130  2023-11-13 18:07:30       0.0        0.0       0.0        0.0       0.0   \n641  2023-11-13 20:57:50       0.0        0.0       0.0        0.0       0.0   \n405  2023-11-13 19:39:10       0.0        0.0       0.0        0.0       0.0   \n68   2023-11-13 17:46:50       0.0        0.0       0.0        0.0       0.0   \n467  2023-11-13 19:59:50       0.0        0.0       0.0        0.0       0.0   \n\n     avg_queue  await  r_await  w_await  ...  napi:napi_poll  tcp:tcp_probe.1  \\\n400        0.0    0.0      0.0      0.0  ...           442.0            421.0   \n564        0.0    0.0      0.0      0.0  ...           336.0            284.5   \n335        0.0    0.0      0.0      0.0  ...           504.0            475.5   \n412        0.0    0.0      0.0      0.0  ...           473.0            444.0   \n385        0.0    0.0      0.0      0.0  ...           454.0            416.0   \n130        0.0    0.0      0.0      0.0  ...           411.0            321.0   \n641        0.0    0.0      0.0      0.0  ...           290.0            244.0   \n405        0.0    0.0      0.0      0.0  ...           420.5            368.0   \n68         0.0    0.0      0.0      0.0  ...           502.5            492.0   \n467        0.0    0.0      0.0      0.0  ...           515.0            408.0   \n\n     net:netif_rx.1  gpio:gpio_value.1  irq:softirq_exit  \\\n400           526.0                5.0            8690.0   \n564           370.0                4.5            8144.5   \n335           597.0                4.0            9220.5   \n412           571.5                4.0            8806.0   \n385           537.0                5.0            8844.0   \n130           436.0                6.0            8144.0   \n641           320.0                5.0            7504.0   \n405           479.5                4.5            8226.0   \n68            617.5                4.5            9339.0   \n467           571.0                5.0            9212.0   \n\n     pagemap:mm_lru_activate  rpm:rpm_return_int  fib:fib_table_lookup.1  \\\n400                   1536.0               894.0                   213.0   \n564                    551.0               627.0                   165.5   \n335                   1780.5              1074.0                   242.0   \n412                   1052.5               931.0                   244.0   \n385                   1345.0               930.0                   246.0   \n130                      1.0               573.0                   234.0   \n641                      0.0               600.0                   147.0   \n405                    739.5               761.0                   226.0   \n68                    1689.5              1104.5                   249.0   \n467                      0.0               749.0                   323.0   \n\n     raw_syscalls:sys_enter.1  random:credit_entropy_bits  \n400                  313934.0                       130.0  \n564                  316573.5                       124.0  \n335                  319460.5                       134.5  \n412                  314793.0                       129.5  \n385                  308706.0                       130.0  \n130                  310431.0                       126.0  \n641                  315996.0                       129.0  \n405                  299919.0                       124.0  \n68                   318177.0                       134.5  \n467                  336484.0                       130.0  \n\n[10 rows x 398 columns]",
      "text/html": "<div>\n<style scoped>\n    .dataframe tbody tr th:only-of-type {\n        vertical-align: middle;\n    }\n\n    .dataframe tbody tr th {\n        vertical-align: top;\n    }\n\n    .dataframe thead th {\n        text-align: right;\n    }\n</style>\n<table border=\"1\" class=\"dataframe\">\n  <thead>\n    <tr style=\"text-align: right;\">\n      <th></th>\n      <th>timestamp</th>\n      <th>read_ops</th>\n      <th>write_ops</th>\n      <th>read_kbs</th>\n      <th>write_kbs</th>\n      <th>avgrq_sz</th>\n      <th>avg_queue</th>\n      <th>await</th>\n      <th>r_await</th>\n      <th>w_await</th>\n      <th>...</th>\n      <th>napi:napi_poll</th>\n      <th>tcp:tcp_probe.1</th>\n      <th>net:netif_rx.1</th>\n      <th>gpio:gpio_value.1</th>\n      <th>irq:softirq_exit</th>\n      <th>pagemap:mm_lru_activate</th>\n      <th>rpm:rpm_return_int</th>\n      <th>fib:fib_table_lookup.1</th>\n      <th>raw_syscalls:sys_enter.1</th>\n      <th>random:credit_entropy_bits</th>\n    </tr>\n  </thead>\n  <tbody>\n    <tr>\n      <th>400</th>\n      <td>2023-11-13 19:37:30</td>\n      <td>0.0</td>\n      <td>0.0</td>\n      <td>0.0</td>\n      <td>0.0</td>\n      <td>0.0</td>\n      <td>0.0</td>\n      <td>0.0</td>\n      <td>0.0</td>\n      <td>0.0</td>\n      <td>...</td>\n      <td>442.0</td>\n      <td>421.0</td>\n      <td>526.0</td>\n      <td>5.0</td>\n      <td>8690.0</td>\n      <td>1536.0</td>\n      <td>894.0</td>\n      <td>213.0</td>\n      <td>313934.0</td>\n      <td>130.0</td>\n    </tr>\n    <tr>\n      <th>564</th>\n      <td>2023-11-13 20:32:10</td>\n      <td>0.0</td>\n      <td>0.0</td>\n      <td>0.0</td>\n      <td>0.0</td>\n      <td>0.0</td>\n      <td>0.0</td>\n      <td>0.0</td>\n      <td>0.0</td>\n      <td>0.0</td>\n      <td>...</td>\n      <td>336.0</td>\n      <td>284.5</td>\n      <td>370.0</td>\n      <td>4.5</td>\n      <td>8144.5</td>\n      <td>551.0</td>\n      <td>627.0</td>\n      <td>165.5</td>\n      <td>316573.5</td>\n      <td>124.0</td>\n    </tr>\n    <tr>\n      <th>335</th>\n      <td>2023-11-13 19:15:50</td>\n      <td>0.0</td>\n      <td>0.0</td>\n      <td>0.0</td>\n      <td>0.0</td>\n      <td>0.0</td>\n      <td>0.0</td>\n      <td>0.0</td>\n      <td>0.0</td>\n      <td>0.0</td>\n      <td>...</td>\n      <td>504.0</td>\n      <td>475.5</td>\n      <td>597.0</td>\n      <td>4.0</td>\n      <td>9220.5</td>\n      <td>1780.5</td>\n      <td>1074.0</td>\n      <td>242.0</td>\n      <td>319460.5</td>\n      <td>134.5</td>\n    </tr>\n    <tr>\n      <th>412</th>\n      <td>2023-11-13 19:41:30</td>\n      <td>0.0</td>\n      <td>0.0</td>\n      <td>0.0</td>\n      <td>0.0</td>\n      <td>0.0</td>\n      <td>0.0</td>\n      <td>0.0</td>\n      <td>0.0</td>\n      <td>0.0</td>\n      <td>...</td>\n      <td>473.0</td>\n      <td>444.0</td>\n      <td>571.5</td>\n      <td>4.0</td>\n      <td>8806.0</td>\n      <td>1052.5</td>\n      <td>931.0</td>\n      <td>244.0</td>\n      <td>314793.0</td>\n      <td>129.5</td>\n    </tr>\n    <tr>\n      <th>385</th>\n      <td>2023-11-13 19:32:30</td>\n      <td>0.0</td>\n      <td>0.0</td>\n      <td>0.0</td>\n      <td>0.0</td>\n      <td>0.0</td>\n      <td>0.0</td>\n      <td>0.0</td>\n      <td>0.0</td>\n      <td>0.0</td>\n      <td>...</td>\n      <td>454.0</td>\n      <td>416.0</td>\n      <td>537.0</td>\n      <td>5.0</td>\n      <td>8844.0</td>\n      <td>1345.0</td>\n      <td>930.0</td>\n      <td>246.0</td>\n      <td>308706.0</td>\n      <td>130.0</td>\n    </tr>\n    <tr>\n      <th>130</th>\n      <td>2023-11-13 18:07:30</td>\n      <td>0.0</td>\n      <td>0.0</td>\n      <td>0.0</td>\n      <td>0.0</td>\n      <td>0.0</td>\n      <td>0.0</td>\n      <td>0.0</td>\n      <td>0.0</td>\n      <td>0.0</td>\n      <td>...</td>\n      <td>411.0</td>\n      <td>321.0</td>\n      <td>436.0</td>\n      <td>6.0</td>\n      <td>8144.0</td>\n      <td>1.0</td>\n      <td>573.0</td>\n      <td>234.0</td>\n      <td>310431.0</td>\n      <td>126.0</td>\n    </tr>\n    <tr>\n      <th>641</th>\n      <td>2023-11-13 20:57:50</td>\n      <td>0.0</td>\n      <td>0.0</td>\n      <td>0.0</td>\n      <td>0.0</td>\n      <td>0.0</td>\n      <td>0.0</td>\n      <td>0.0</td>\n      <td>0.0</td>\n      <td>0.0</td>\n      <td>...</td>\n      <td>290.0</td>\n      <td>244.0</td>\n      <td>320.0</td>\n      <td>5.0</td>\n      <td>7504.0</td>\n      <td>0.0</td>\n      <td>600.0</td>\n      <td>147.0</td>\n      <td>315996.0</td>\n      <td>129.0</td>\n    </tr>\n    <tr>\n      <th>405</th>\n      <td>2023-11-13 19:39:10</td>\n      <td>0.0</td>\n      <td>0.0</td>\n      <td>0.0</td>\n      <td>0.0</td>\n      <td>0.0</td>\n      <td>0.0</td>\n      <td>0.0</td>\n      <td>0.0</td>\n      <td>0.0</td>\n      <td>...</td>\n      <td>420.5</td>\n      <td>368.0</td>\n      <td>479.5</td>\n      <td>4.5</td>\n      <td>8226.0</td>\n      <td>739.5</td>\n      <td>761.0</td>\n      <td>226.0</td>\n      <td>299919.0</td>\n      <td>124.0</td>\n    </tr>\n    <tr>\n      <th>68</th>\n      <td>2023-11-13 17:46:50</td>\n      <td>0.0</td>\n      <td>0.0</td>\n      <td>0.0</td>\n      <td>0.0</td>\n      <td>0.0</td>\n      <td>0.0</td>\n      <td>0.0</td>\n      <td>0.0</td>\n      <td>0.0</td>\n      <td>...</td>\n      <td>502.5</td>\n      <td>492.0</td>\n      <td>617.5</td>\n      <td>4.5</td>\n      <td>9339.0</td>\n      <td>1689.5</td>\n      <td>1104.5</td>\n      <td>249.0</td>\n      <td>318177.0</td>\n      <td>134.5</td>\n    </tr>\n    <tr>\n      <th>467</th>\n      <td>2023-11-13 19:59:50</td>\n      <td>0.0</td>\n      <td>0.0</td>\n      <td>0.0</td>\n      <td>0.0</td>\n      <td>0.0</td>\n      <td>0.0</td>\n      <td>0.0</td>\n      <td>0.0</td>\n      <td>0.0</td>\n      <td>...</td>\n      <td>515.0</td>\n      <td>408.0</td>\n      <td>571.0</td>\n      <td>5.0</td>\n      <td>9212.0</td>\n      <td>0.0</td>\n      <td>749.0</td>\n      <td>323.0</td>\n      <td>336484.0</td>\n      <td>130.0</td>\n    </tr>\n  </tbody>\n</table>\n<p>10 rows × 398 columns</p>\n</div>"
     },
     "execution_count": 4,
     "metadata": {},
     "output_type": "execute_result"
    }
   ],
   "source": [
    "df.sample(10)"
   ],
   "metadata": {
    "collapsed": false,
    "ExecuteTime": {
     "end_time": "2024-03-21T12:11:53.026410Z",
     "start_time": "2024-03-21T12:11:53.002035Z"
    }
   },
   "id": "60301cd9c63cb5ca",
   "execution_count": 4
  },
  {
   "cell_type": "code",
   "outputs": [],
   "source": [],
   "metadata": {
    "collapsed": false
   },
   "id": "2dc06ec733f864dc"
  }
 ],
 "metadata": {
  "kernelspec": {
   "display_name": "Python 3",
   "language": "python",
   "name": "python3"
  },
  "language_info": {
   "codemirror_mode": {
    "name": "ipython",
    "version": 2
   },
   "file_extension": ".py",
   "mimetype": "text/x-python",
   "name": "python",
   "nbconvert_exporter": "python",
   "pygments_lexer": "ipython2",
   "version": "2.7.6"
  }
 },
 "nbformat": 4,
 "nbformat_minor": 5
}
