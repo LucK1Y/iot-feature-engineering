{
 "cells": [
  {
   "cell_type": "code",
   "execution_count": 1,
   "metadata": {},
   "outputs": [],
   "source": [
    "path = \"/media/<User>/DC/IS_Data_Exploration_and_Feature_Engineering_for_an_IoT_Device_Behavior_Fingerprinting_Dataset/0_raw_collected_dataZien_device1/\""
   ]
  },
  {
   "cell_type": "code",
   "execution_count": 2,
   "metadata": {},
   "outputs": [],
   "source": [
    "import time\n",
    "import glob\n",
    "import pandas as pd\n",
    "import os"
   ]
  },
  {
   "cell_type": "code",
   "execution_count": 5,
   "metadata": {},
   "outputs": [],
   "source": [
    "import pandas as pd\n",
    "import glob\n",
    "from typing import Tuple, Iterator\n",
    "\n",
    "pattern = os.path.join(path,'**/*.csv')\n",
    "def yield_temp_dataframes_from_csv() -> Iterator[Tuple[str, pd.DataFrame]]:\n",
    "    for csv_file_paths in glob.iglob(pattern, recursive=True):\n",
    "        yield os.path.basename(csv_file_paths),pd.read_csv(csv_file_paths)"
   ]
  },
  {
   "cell_type": "code",
   "execution_count": 13,
   "metadata": {},
   "outputs": [
    {
     "name": "stdout",
     "output_type": "stream",
     "text": [
      "b8_27_eb_b8_a5_9e.csv\n",
      "       timestamp  read_ops  write_ops  read_kbs  write_kbs  avgrq_sz  \\\n",
      "0  1699896250479       0.0        3.6       0.0        0.7       0.0   \n",
      "\n",
      "   avg_queue  await  r_await  w_await  svctm  util  \n",
      "0      77.78    0.0     15.5      0.0    0.0  18.0  \n",
      "(1276, 12)\n",
      "\n",
      "fs.csv\n",
      "      time      timestamp   seconds  connectivity  block:block_bio_backmerge  \\\n",
      "0  5.10498  1699896250497  5.104984             1                          7   \n",
      "\n",
      "   block:block_bio_bounce  block:block_bio_complete  \\\n",
      "0                       0                         0   \n",
      "\n",
      "   block:block_bio_frontmerge  block:block_bio_queue  block:block_bio_remap  \\\n",
      "0                           0                      9                      9   \n",
      "\n",
      "   ...  writeback:writeback_sb_inodes_requeue  \\\n",
      "0  ...                                      0   \n",
      "\n",
      "   writeback:writeback_single_inode  writeback:writeback_single_inode_start  \\\n",
      "0                                 0                                       0   \n",
      "\n",
      "   writeback:writeback_start  writeback:writeback_wait  \\\n",
      "0                          1                         0   \n",
      "\n",
      "   writeback:writeback_wait_iff_congested  \\\n",
      "0                                       0   \n",
      "\n",
      "   writeback:writeback_wake_background  writeback:writeback_write_inode  \\\n",
      "0                                    0                                0   \n",
      "\n",
      "   writeback:writeback_write_inode_start  writeback:writeback_written\\n  \n",
      "0                                      0                              1  \n",
      "\n",
      "[1 rows x 181 columns]\n",
      "(608, 181)\n",
      "\n",
      "kern.csv\n",
      "      time      timestamp  seconds  connectivity  alarmtimer:alarmtimer_fired  \\\n",
      "0  5.11965  1699896250406  5.11965             1                            0   \n",
      "\n",
      "   alarmtimer:alarmtimer_start  block:block_bio_backmerge  \\\n",
      "0                            0                          7   \n",
      "\n",
      "   block:block_bio_remap  block:block_dirty_buffer  block:block_getrq  ...  \\\n",
      "0                      9                         7                  2  ...   \n",
      "\n",
      "   writeback:sb_clear_inode_writeback  writeback:wbc_writepage  \\\n",
      "0                                   0                        0   \n",
      "\n",
      "   writeback:writeback_dirty_inode  writeback:writeback_dirty_inode_enqueue  \\\n",
      "0                              487                                        0   \n",
      "\n",
      "   writeback:writeback_dirty_page  writeback:writeback_mark_inode_dirty  \\\n",
      "0                               7                                   494   \n",
      "\n",
      "   writeback:writeback_pages_written  writeback:writeback_single_inode  \\\n",
      "0                                  1                                 0   \n",
      "\n",
      "   writeback:writeback_write_inode  writeback:writeback_written\\n  \n",
      "0                                0                              1  \n",
      "\n",
      "[1 rows x 82 columns]\n",
      "(1063, 82)\n",
      "\n",
      "net.csv\n",
      "           Time Protocol       SourceIP  SourcePort          DestIP  DestPort  \\\n",
      "0  1.699896e+09      TCP  192.168.31.34       55690  194.209.200.16      5001   \n",
      "\n",
      "   Length  \n",
      "0    1031  \n",
      "(158270, 7)\n",
      "\n",
      "res_1699894253.csv\n",
      "         time   cpu   seconds  ioread  iowrite  ioreadbytes  iowritebytes  \\\n",
      "0  1699896275  83.7  5.020252       1        1            1             1   \n",
      "\n",
      "   ioreadtime  iowritetime  iobusytime  ...  napi:napi_poll  tcp:tcp_probe  \\\n",
      "0           1            1           1  ...             417            328   \n",
      "\n",
      "   net:netif_rx  gpio:gpio_value  irq:softirq_exit  pagemap:mm_lru_activate  \\\n",
      "0           448               20              8516                        2   \n",
      "\n",
      "   rpm:rpm_return_int  fib:fib_table_lookup  raw_syscalls:sys_enter  \\\n",
      "0                 590                   239                  347748   \n",
      "\n",
      "   random:credit_entropy_bits  \n",
      "0                         123  \n",
      "\n",
      "[1 rows x 117 columns]\n",
      "(1138, 117)\n",
      "\n"
     ]
    }
   ],
   "source": [
    "for file, df in yield_temp_dataframes_from_csv():\n",
    "    print(file)\n",
    "    print(df.head(1))\n",
    "    print(df.shape)\n",
    "    print()"
   ]
  },
  {
   "cell_type": "code",
   "execution_count": null,
   "metadata": {},
   "outputs": [],
   "source": []
  }
 ],
 "metadata": {
  "kernelspec": {
   "display_name": ".venv",
   "language": "python",
   "name": "python3"
  },
  "language_info": {
   "codemirror_mode": {
    "name": "ipython",
    "version": 3
   },
   "file_extension": ".py",
   "mimetype": "text/x-python",
   "name": "python",
   "nbconvert_exporter": "python",
   "pygments_lexer": "ipython3",
   "version": "3.10.12"
  }
 },
 "nbformat": 4,
 "nbformat_minor": 2
}
