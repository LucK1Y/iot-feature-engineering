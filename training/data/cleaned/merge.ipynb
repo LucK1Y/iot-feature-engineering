{
 "cells": [
  {
   "cell_type": "code",
   "execution_count": 1,
   "metadata": {},
   "outputs": [],
   "source": [
    "import pandas as pd\n",
    "from pathlib import Path"
   ]
  },
  {
   "cell_type": "code",
   "execution_count": 2,
   "metadata": {},
   "outputs": [
    {
     "data": {
      "text/plain": [
       "[PosixPath('cleaned_all_df_30s_Jing_device2.csv'),\n",
       " PosixPath('cleaned_all_df_30s_Zien_device1.csv'),\n",
       " PosixPath('cleaned_all_df_30s_Xi_sensor_1.csv'),\n",
       " PosixPath('cleaned_all_df_30s_Heqing_device2_2.csv'),\n",
       " PosixPath('cleaned_all_df_30s_Heqing_device1.csv'),\n",
       " PosixPath('cleaned_all_df_30s_Heqing_device1_2.csv'),\n",
       " PosixPath('cleaned_all_df_30s_Xi_sensor_2.csv'),\n",
       " PosixPath('cleaned_all_df_30s_Heqing_device2.csv'),\n",
       " PosixPath('cleaned_all_df_30s_Zien_device2.csv'),\n",
       " PosixPath('cleaned_all_df_30s_Jing_device1.csv')]"
      ]
     },
     "execution_count": 2,
     "metadata": {},
     "output_type": "execute_result"
    }
   ],
   "source": [
    "csv_Files = list(Path(\".\").glob(\"*.csv\"))\n",
    "csv_Files.remove( Path('merged_df.csv'))\n",
    "csv_Files"
   ]
  },
  {
   "cell_type": "code",
   "execution_count": 3,
   "metadata": {},
   "outputs": [
    {
     "name": "stdout",
     "output_type": "stream",
     "text": [
      "(21455, 32)\n",
      "(21605, 32)\n",
      "(21550, 32)\n",
      "(21765, 32)\n",
      "(20448, 33)\n",
      "(20448, 32)\n",
      "(21215, 32)\n",
      "(21765, 33)\n",
      "(21595, 32)\n",
      "(21420, 32)\n"
     ]
    }
   ],
   "source": [
    "dfs = []\n",
    "for file in csv_Files:\n",
    "    df1 = pd.read_csv(str(file))\n",
    "    print(df1.shape)\n",
    "    dfs.append(df1)\n",
    "\n",
    "all_df = pd.concat(dfs, axis=0)"
   ]
  },
  {
   "cell_type": "code",
   "execution_count": 33,
   "metadata": {},
   "outputs": [
    {
     "name": "stdout",
     "output_type": "stream",
     "text": [
      "(21455, 32)\n",
      "(21605, 32)\n",
      "(21550, 32)\n",
      "(20448, 33)\n",
      "(20448, 32) (20448, 32)\n",
      "False\n",
      "(21215, 32)\n",
      "(21765, 33)\n",
      "(21765, 32) (21765, 32)\n",
      "False\n",
      "(21595, 32)\n",
      "(21420, 32)\n"
     ]
    }
   ],
   "source": [
    "for file in csv_Files:\n",
    "    df1 = pd.read_csv(str(file))\n",
    "    print(df1.shape)\n",
    "    if df1.shape[1] == 33:\n",
    "        df1.drop(columns=[\"armv7_cortex_a15/br_mis_pred/\"], inplace=True)\n",
    "        print(df1.dropna(axis=0, how=\"any\", inplace=False).shape, df1.shape)\n",
    "        print(df1.isna().any().any())\n",
    "        df1.to_csv(str(file)+ \"_2\", index=False)"
   ]
  },
  {
   "cell_type": "code",
   "execution_count": 23,
   "metadata": {},
   "outputs": [],
   "source": [
    "all_df.drop(columns=[\"armv7_cortex_a15/br_mis_pred/\"], inplace=True)"
   ]
  },
  {
   "cell_type": "code",
   "execution_count": 24,
   "metadata": {},
   "outputs": [
    {
     "data": {
      "text/plain": [
       "((171053, 32), (171053, 32))"
      ]
     },
     "execution_count": 24,
     "metadata": {},
     "output_type": "execute_result"
    }
   ],
   "source": [
    "all_df.dropna(axis=0, how=\"any\", inplace=False).shape, all_df.shape"
   ]
  },
  {
   "cell_type": "code",
   "execution_count": 25,
   "metadata": {},
   "outputs": [
    {
     "data": {
      "text/plain": [
       "False"
      ]
     },
     "execution_count": 25,
     "metadata": {},
     "output_type": "execute_result"
    }
   ],
   "source": [
    "all_df.isna().any().any()"
   ]
  },
  {
   "cell_type": "code",
   "execution_count": 26,
   "metadata": {},
   "outputs": [],
   "source": [
    "all_df.to_csv(\"merged_df.csv\", index=False)"
   ]
  }
 ],
 "metadata": {
  "kernelspec": {
   "display_name": ".venv",
   "language": "python",
   "name": "python3"
  },
  "language_info": {
   "codemirror_mode": {
    "name": "ipython",
    "version": 3
   },
   "file_extension": ".py",
   "mimetype": "text/x-python",
   "name": "python",
   "nbconvert_exporter": "python",
   "pygments_lexer": "ipython3",
   "version": "3.10.12"
  }
 },
 "nbformat": 4,
 "nbformat_minor": 2
}
