{
 "cells": [
  {
   "cell_type": "markdown",
   "metadata": {},
   "source": [
    "# Idea\n",
    "Do some training"
   ]
  },
  {
   "cell_type": "code",
   "execution_count": 7,
   "metadata": {},
   "outputs": [],
   "source": [
    "from pathlib import Path\n",
    "\n",
    "import numpy as np\n",
    "import pandas as pd\n",
    "import pickle"
   ]
  },
  {
   "cell_type": "code",
   "execution_count": 8,
   "metadata": {},
   "outputs": [],
   "source": [
    "import sys\n",
    "repo_base_path = Path(\"./../\").resolve()\n",
    "assert str(repo_base_path).endswith(\"csg_is\"), f\"{repo_base_path} is not a valid path to the CSG_IS repository\" \n",
    "\n",
    "sys.path.append(str(repo_base_path))\n",
    "\n",
    "# from py_dataset import get_all_files_df\n",
    "# from py_dataset import read_in_files\n",
    "from py_dataset import feature_plotting\n",
    "# from py_dataset import feature_selection\n",
    "# from py_dataset import net_feature_engineering\n",
    "# from py_dataset import entropy_feature_engineering\n",
    "# from py_dataset.classes import DataSource\n",
    "from py_dataset import sys_func\n",
    "\n"
   ]
  },
  {
   "cell_type": "code",
   "execution_count": 9,
   "metadata": {},
   "outputs": [],
   "source": [
    "df = pd.read_csv('all_df_top34.csv')\n",
    "df.set_index(\"timestamp\", inplace=True)"
   ]
  },
  {
   "cell_type": "code",
   "execution_count": 10,
   "metadata": {},
   "outputs": [
    {
     "data": {
      "text/plain": [
       "array(['1_normal', nan, '2_ransomware', '3_thetick', '4_bashlite',\n",
       "       '5_httpbackdoor', '6_beurk', '7_backdoor', '8_bdvl', '9_xmrig'],\n",
       "      dtype=object)"
      ]
     },
     "execution_count": 10,
     "metadata": {},
     "output_type": "execute_result"
    }
   ],
   "source": [
    "df[\"label\"].unique()"
   ]
  },
  {
   "cell_type": "markdown",
   "metadata": {},
   "source": [
    "### Preprocessings\n",
    "- remove Null values\n",
    "- drop timestamp\n",
    "- labelEncode\n",
    "- normalize"
   ]
  },
  {
   "cell_type": "code",
   "execution_count": 11,
   "metadata": {},
   "outputs": [
    {
     "name": "stdout",
     "output_type": "stream",
     "text": [
      "(29427, 34)\n",
      "(20345, 34)\n"
     ]
    }
   ],
   "source": [
    "print(df.shape)\n",
    "old_df = df.copy()\n",
    "df.dropna(axis=0, how='any', inplace=True)\n",
    "\n",
    "print(df.shape)"
   ]
  },
  {
   "cell_type": "code",
   "execution_count": 12,
   "metadata": {},
   "outputs": [],
   "source": [
    "df.reset_index(inplace=True, drop=True)"
   ]
  },
  {
   "cell_type": "code",
   "execution_count": 13,
   "metadata": {},
   "outputs": [],
   "source": [
    "label_encoder = sys_func.create_label_encoder_for_labels()\n",
    "df['label'] = label_encoder.transform(df['label'])"
   ]
  },
  {
   "cell_type": "code",
   "execution_count": 14,
   "metadata": {},
   "outputs": [],
   "source": [
    "df = feature_plotting.test_transform_all_to_numeric_columns(df)"
   ]
  },
  {
   "cell_type": "code",
   "execution_count": 15,
   "metadata": {},
   "outputs": [],
   "source": [
    "cols_to_exclude_from_scaling = [\"label\"]\n",
    "vectors = feature_plotting.minmax_scale_features(df,remove_outliers_iqr_all_columns=False,\n",
    "                                                        cols_to_exclude_from_scaling=cols_to_exclude_from_scaling)\n",
    "# print(vectors.shape)\n",
    "# print(\" with dropped null: \", vectors.dropna(axis=0, how='any', inplace=False).shape)"
   ]
  },
  {
   "cell_type": "code",
   "execution_count": 16,
   "metadata": {},
   "outputs": [
    {
     "data": {
      "text/plain": [
       "(array([0, 1, 2, 3, 4, 5, 6, 7, 8]), array([0, 1, 2, 3, 4, 5, 6, 7, 8]))"
      ]
     },
     "execution_count": 16,
     "metadata": {},
     "output_type": "execute_result"
    }
   ],
   "source": [
    "df[\"label\"].unique(), vectors[\"label\"].unique()"
   ]
  },
  {
   "cell_type": "markdown",
   "metadata": {},
   "source": [
    "### Setup"
   ]
  },
  {
   "cell_type": "code",
   "execution_count": 17,
   "metadata": {},
   "outputs": [],
   "source": [
    "from torch.utils.data import Dataset, DataLoader\n",
    "import torch\n",
    "\n",
    "class CustomeDataset(Dataset):\n",
    "    def __init__(self, some_df:pd.DataFrame):\n",
    "        \n",
    "        self.x = torch.tensor(some_df.drop(columns=[\"label\"], inplace=False).values, dtype=torch.float32)\n",
    "        self.labels = torch.tensor(some_df[\"label\"].values, dtype=torch.uint8)\n",
    "\n",
    "    def __len__(self):\n",
    "        return len(self.x)\n",
    "\n",
    "    def __getitem__(self, idx):\n",
    "        # if torch.is_tensor(idx):\n",
    "        #     idx = idx.tolist()\n",
    "        # print(self.x[idx], self.labels[idx])\n",
    "        return self.x[idx], self.labels[idx]"
   ]
  },
  {
   "cell_type": "code",
   "execution_count": 18,
   "metadata": {},
   "outputs": [
    {
     "name": "stderr",
     "output_type": "stream",
     "text": [
      "GPU available: True (cuda), used: True\n",
      "TPU available: False, using: 0 TPU cores\n",
      "IPU available: False, using: 0 IPUs\n",
      "HPU available: False, using: 0 HPUs\n"
     ]
    }
   ],
   "source": [
    "from mlp import MalwaresModelMLP\n",
    "from torch.utils.data import DataLoader\n",
    "import lightning\n",
    "from sklearn.model_selection import train_test_split\n",
    "from lightning import loggers as pl_loggers\n",
    "from lightning.pytorch.callbacks.early_stopping import EarlyStopping\n",
    "from lightning.pytorch.callbacks.model_checkpoint import ModelCheckpoint\n",
    "\n",
    "# tensorboard = pl_loggers.TensorBoardLogger('./')\n",
    "\n",
    "# split into train and val\n",
    "train, val = train_test_split(vectors, test_size=0.2)\n",
    "\n",
    "train_dataset = CustomeDataset(train)\n",
    "train_dataloader = DataLoader(train_dataset, batch_size=500, shuffle=True, num_workers=7)\n",
    "\n",
    "val_dataset = CustomeDataset(val)\n",
    "val_dataloader = DataLoader(val_dataset, batch_size=500, shuffle=False, num_workers=7)\n",
    "\n",
    "# trainer = lightning.Trainer(fast_dev_run=100)\n",
    "monitor = \"Validation/Accuracy\"\n",
    "early_stop_callback = EarlyStopping(monitor=monitor, patience=5, verbose=True, mode=\"max\")\n",
    "checkpoint_callback = ModelCheckpoint(save_top_k=1, monitor=monitor, mode=\"max\")\n",
    "\n",
    "trainer = lightning.Trainer(max_epochs=150, callbacks=[early_stop_callback, checkpoint_callback], enable_checkpointing=True) #logger=None, \n",
    "\n",
    "\n",
    "model = MalwaresModelMLP(input_size = vectors.shape[1]-1, output_size = len(label_encoder.classes_))"
   ]
  },
  {
   "cell_type": "code",
   "execution_count": 19,
   "metadata": {},
   "outputs": [
    {
     "name": "stderr",
     "output_type": "stream",
     "text": [
      "LOCAL_RANK: 0 - CUDA_VISIBLE_DEVICES: [0]\n",
      "\n",
      "  | Name          | Type                      | Params\n",
      "------------------------------------------------------------\n",
      "0 | train_metrics | MetricCollection          | 0     \n",
      "1 | val_metrics   | MetricCollection          | 0     \n",
      "2 | test_metrics  | MetricCollection          | 0     \n",
      "3 | cm            | MulticlassConfusionMatrix | 0     \n",
      "4 | criterion     | CrossEntropyLoss          | 0     \n",
      "5 | l1            | Linear                    | 1.0 K \n",
      "6 | l2            | Linear                    | 930   \n",
      "7 | l3            | Linear                    | 279   \n",
      "------------------------------------------------------------\n",
      "2.2 K     Trainable params\n",
      "0         Non-trainable params\n",
      "2.2 K     Total params\n",
      "0.009     Total estimated model params size (MB)\n"
     ]
    },
    {
     "data": {
      "application/vnd.jupyter.widget-view+json": {
       "model_id": "a3cace37c5f9445582accdab5633e58d",
       "version_major": 2,
       "version_minor": 0
      },
      "text/plain": [
       "Sanity Checking: |          | 0/? [00:00<?, ?it/s]"
      ]
     },
     "metadata": {},
     "output_type": "display_data"
    },
    {
     "name": "stdout",
     "output_type": "stream",
     "text": [
      "Epoch end: Validation, epoch number: 0\n",
      "ValidationEpoch/CM\n",
      " tensor([[  0,   0,   0,   0,   0,   0,   0,  89,   0],\n",
      "        [  0,   0,   0,   0,   0,  90,   0,  28,   0],\n",
      "        [  0,   0,   0,   0,   0,   1,   0, 188,   0],\n",
      "        [  0,   0,   0,   0,   0,   2,   0,  90,   0],\n",
      "        [  0,   0,   0,   0,   0,   0,   0, 111,   0],\n",
      "        [  0,   0,   0,   0,   0,   0,   0, 108,   0],\n",
      "        [  0,   0,   0,   0,   0,   0,   0, 105,   0],\n",
      "        [  0,   0,   0,   0,   0,   1,   0, 106,   0],\n",
      "        [  0,   0,   0,   0,   0,   4,   0,  77,   0]])\n"
     ]
    },
    {
     "name": "stderr",
     "output_type": "stream",
     "text": [
      "/home/<User>/repos/csg_is/.venv/lib/python3.10/site-packages/lightning/pytorch/loops/fit_loop.py:298: The number of training batches (33) is smaller than the logging interval Trainer(log_every_n_steps=50). Set a lower value for log_every_n_steps if you want to see logs for the training epoch.\n"
     ]
    },
    {
     "data": {
      "application/vnd.jupyter.widget-view+json": {
       "model_id": "b5adc4778f8d4a52b988316b4bb4c65f",
       "version_major": 2,
       "version_minor": 0
      },
      "text/plain": [
       "Training: |          | 0/? [00:00<?, ?it/s]"
      ]
     },
     "metadata": {},
     "output_type": "display_data"
    },
    {
     "data": {
      "application/vnd.jupyter.widget-view+json": {
       "model_id": "d379efe5b6044e969b93ea588b9750aa",
       "version_major": 2,
       "version_minor": 0
      },
      "text/plain": [
       "Validation: |          | 0/? [00:00<?, ?it/s]"
      ]
     },
     "metadata": {},
     "output_type": "display_data"
    },
    {
     "name": "stdout",
     "output_type": "stream",
     "text": [
      "Epoch end: Validation, epoch number: 1\n",
      "ValidationEpoch/CM\n",
      " tensor([[   0,  206, 1353,    0,  178,  102,    0,  266,    0],\n",
      "        [   0, 2073,    0,    0,    0,  130,    0,   90,    0],\n",
      "        [   0,  368, 2173,    0,  330,  276,    0,  536,    0],\n",
      "        [   0,  201, 1465,    0,  132,   73,    0,  314,    0],\n",
      "        [   0,  266, 1263,    0,  162,  216,    0,  304,    0],\n",
      "        [   0,  278, 1184,    0,   83,  373,    0,  295,    0],\n",
      "        [   0,  222, 1321,    0,  164,  174,    0,  312,    0],\n",
      "        [   0,  249, 1189,    0,   61,  382,    0,  356,    0],\n",
      "        [   0,    0,    0,    0,    1,    6,    0,  218, 2000]])\n",
      "Epoch end: Train, epoch number: 0\n",
      "TrainEpoch/CM\n",
      " tensor([[   0,  206, 1353,    0,  178,  102,    0,  266,    0],\n",
      "        [   0, 2073,    0,    0,    0,  130,    0,   90,    0],\n",
      "        [   0,  368, 2173,    0,  330,  276,    0,  536,    0],\n",
      "        [   0,  201, 1465,    0,  132,   73,    0,  314,    0],\n",
      "        [   0,  266, 1263,    0,  162,  216,    0,  304,    0],\n",
      "        [   0,  278, 1184,    0,   83,  373,    0,  295,    0],\n",
      "        [   0,  222, 1321,    0,  164,  174,    0,  312,    0],\n",
      "        [   0,  249, 1189,    0,   61,  382,    0,  356,    0],\n",
      "        [   0,    0,    0,    0,    1,    6,    0,  218, 2000]])\n"
     ]
    },
    {
     "name": "stderr",
     "output_type": "stream",
     "text": [
      "Metric Validation/Accuracy improved. New best score: 0.372\n"
     ]
    },
    {
     "data": {
      "application/vnd.jupyter.widget-view+json": {
       "model_id": "849f3233b97f475d9c794e5c1235564e",
       "version_major": 2,
       "version_minor": 0
      },
      "text/plain": [
       "Validation: |          | 0/? [00:00<?, ?it/s]"
      ]
     },
     "metadata": {},
     "output_type": "display_data"
    },
    {
     "name": "stdout",
     "output_type": "stream",
     "text": [
      "Epoch end: Validation, epoch number: 2\n",
      "ValidationEpoch/CM\n",
      " tensor([[  39,  206, 2855,  279,  193,  185,    0,  364,    0],\n",
      "        [   0, 4246,    0,    0,    0,  132,    0,   90,    0],\n",
      "        [  30,  378, 4811,  250,  363,  571,    0,  774,    0],\n",
      "        [  60,  201, 2975,  339,  150,  153,    0,  400,    0],\n",
      "        [  18,  266, 2731,  116,  182,  483,    0,  515,    0],\n",
      "        [   1,  279, 1948,   15,   95, 1207,    0,  773,    0],\n",
      "        [  20,  222, 2811,  154,  176,  405,    0,  493,    0],\n",
      "        [   4,  249, 1636,   22,   71,  893,    0, 1492,    0],\n",
      "        [   0,    0,    0,    0,    1,    6,    0,  218, 4144]])\n",
      "Epoch end: Train, epoch number: 1\n",
      "TrainEpoch/CM\n",
      " tensor([[  39,  206, 2855,  279,  193,  185,    0,  364,    0],\n",
      "        [   0, 4246,    0,    0,    0,  132,    0,   90,    0],\n",
      "        [  30,  378, 4811,  250,  363,  571,    0,  774,    0],\n",
      "        [  60,  201, 2975,  339,  150,  153,    0,  400,    0],\n",
      "        [  18,  266, 2731,  116,  182,  483,    0,  515,    0],\n",
      "        [   1,  279, 1948,   15,   95, 1207,    0,  773,    0],\n",
      "        [  20,  222, 2811,  154,  176,  405,    0,  493,    0],\n",
      "        [   4,  249, 1636,   22,   71,  893,    0, 1492,    0],\n",
      "        [   0,    0,    0,    0,    1,    6,    0,  218, 4144]])\n"
     ]
    },
    {
     "name": "stderr",
     "output_type": "stream",
     "text": [
      "Metric Validation/Accuracy improved by 0.081 >= min_delta = 0.0. New best score: 0.453\n"
     ]
    },
    {
     "data": {
      "application/vnd.jupyter.widget-view+json": {
       "model_id": "8240bd82ce644c058d54d92e928bdb8d",
       "version_major": 2,
       "version_minor": 0
      },
      "text/plain": [
       "Validation: |          | 0/? [00:00<?, ?it/s]"
      ]
     },
     "metadata": {},
     "output_type": "display_data"
    },
    {
     "name": "stdout",
     "output_type": "stream",
     "text": [
      "Epoch end: Validation, epoch number: 3\n",
      "ValidationEpoch/CM\n",
      " tensor([[ 120,  206, 4108,  810,  215,  236,    3,  439,    0],\n",
      "        [   0, 6418,    0,    0,    0,  135,    0,   90,    0],\n",
      "        [ 109,  384, 7295,  756,  418,  813,    3,  893,    0],\n",
      "        [ 128,  201, 4268,  962,  164,  202,    0,  446,    0],\n",
      "        [  53,  266, 4095,  284,  283,  788,    8,  634,    0],\n",
      "        [   1,  282, 2347,   37,  145, 2339,   12, 1260,    0],\n",
      "        [  61,  222, 4184,  464,  209,  610,    2,  617,    0],\n",
      "        [   4,  249, 1718,   58,   75, 1049,    3, 3341,    0],\n",
      "        [   0,    0,    0,    0,    1,    6,    0,  218, 6288]])\n",
      "Epoch end: Train, epoch number: 2\n",
      "TrainEpoch/CM\n",
      " tensor([[ 120,  206, 4108,  810,  215,  236,    3,  439,    0],\n",
      "        [   0, 6418,    0,    0,    0,  135,    0,   90,    0],\n",
      "        [ 109,  384, 7295,  756,  418,  813,    3,  893,    0],\n",
      "        [ 128,  201, 4268,  962,  164,  202,    0,  446,    0],\n",
      "        [  53,  266, 4095,  284,  283,  788,    8,  634,    0],\n",
      "        [   1,  282, 2347,   37,  145, 2339,   12, 1260,    0],\n",
      "        [  61,  222, 4184,  464,  209,  610,    2,  617,    0],\n",
      "        [   4,  249, 1718,   58,   75, 1049,    3, 3341,    0],\n",
      "        [   0,    0,    0,    0,    1,    6,    0,  218, 6288]])\n"
     ]
    },
    {
     "name": "stderr",
     "output_type": "stream",
     "text": [
      "Metric Validation/Accuracy improved by 0.069 >= min_delta = 0.0. New best score: 0.522\n"
     ]
    },
    {
     "data": {
      "application/vnd.jupyter.widget-view+json": {
       "model_id": "39ee26654fd042d8a068c926d347625f",
       "version_major": 2,
       "version_minor": 0
      },
      "text/plain": [
       "Validation: |          | 0/? [00:00<?, ?it/s]"
      ]
     },
     "metadata": {},
     "output_type": "display_data"
    },
    {
     "name": "stdout",
     "output_type": "stream",
     "text": [
      "Epoch end: Validation, epoch number: 4\n",
      "ValidationEpoch/CM\n",
      " tensor([[ 204,  206, 5454, 1239,  266,  261,   61,  462,    0],\n",
      "        [   0, 8591,    0,    0,    0,  137,    0,   90,    0],\n",
      "        [ 199,  384, 9954, 1081,  631,  928,   69,  919,    0],\n",
      "        [ 208,  201, 5703, 1387,  227,  226,   45,  467,    0],\n",
      "        [  74,  266, 5124,  366,  869, 1105,   35,  672,    0],\n",
      "        [   1,  285, 2526,   40,  319, 3874,   25, 1458,    0],\n",
      "        [ 105,  222, 5621,  645,  365,  781,   46,  672,    0],\n",
      "        [   7,  249, 1734,   70,   77, 1199,   10, 5281,    0],\n",
      "        [   0,    0,    0,    0,    1,    6,    0,  218, 8432]])\n",
      "Epoch end: Train, epoch number: 3\n",
      "TrainEpoch/CM\n",
      " tensor([[ 204,  206, 5454, 1239,  266,  261,   61,  462,    0],\n",
      "        [   0, 8591,    0,    0,    0,  137,    0,   90,    0],\n",
      "        [ 199,  384, 9954, 1081,  631,  928,   69,  919,    0],\n",
      "        [ 208,  201, 5703, 1387,  227,  226,   45,  467,    0],\n",
      "        [  74,  266, 5124,  366,  869, 1105,   35,  672,    0],\n",
      "        [   1,  285, 2526,   40,  319, 3874,   25, 1458,    0],\n",
      "        [ 105,  222, 5621,  645,  365,  781,   46,  672,    0],\n",
      "        [   7,  249, 1734,   70,   77, 1199,   10, 5281,    0],\n",
      "        [   0,    0,    0,    0,    1,    6,    0,  218, 8432]])\n"
     ]
    },
    {
     "name": "stderr",
     "output_type": "stream",
     "text": [
      "Metric Validation/Accuracy improved by 0.029 >= min_delta = 0.0. New best score: 0.550\n"
     ]
    },
    {
     "data": {
      "application/vnd.jupyter.widget-view+json": {
       "model_id": "b846a18ac09f4f5284967daf1a6c45c6",
       "version_major": 2,
       "version_minor": 0
      },
      "text/plain": [
       "Validation: |          | 0/? [00:00<?, ?it/s]"
      ]
     },
     "metadata": {},
     "output_type": "display_data"
    },
    {
     "name": "stdout",
     "output_type": "stream",
     "text": [
      "Epoch end: Validation, epoch number: 5\n",
      "ValidationEpoch/CM\n",
      " tensor([[  499,   206,  6784,  1441,   341,   282,   140,   476,     0],\n",
      "        [    0, 10766,     0,     0,     0,   137,     0,    90,     0],\n",
      "        [  344,   384, 12693,  1250,   926,   977,   153,   932,     0],\n",
      "        [  385,   201,  7169,  1603,   338,   246,   140,   475,     0],\n",
      "        [  102,   266,  5849,   412,  1812,  1368,   108,   694,     0],\n",
      "        [    1,   287,  2571,    40,   479,  5611,    67,  1577,     0],\n",
      "        [  206,   222,  6952,   744,   621,   917,   175,   708,     0],\n",
      "        [   10,   249,  1737,    73,    78,  1288,    24,  7298,     0],\n",
      "        [    0,     0,     0,     0,     1,     6,     0,   218, 10576]])\n",
      "Epoch end: Train, epoch number: 4\n"
     ]
    },
    {
     "name": "stderr",
     "output_type": "stream",
     "text": [
      "Metric Validation/Accuracy improved by 0.056 >= min_delta = 0.0. New best score: 0.606\n"
     ]
    },
    {
     "name": "stdout",
     "output_type": "stream",
     "text": [
      "TrainEpoch/CM\n",
      " tensor([[  499,   206,  6784,  1441,   341,   282,   140,   476,     0],\n",
      "        [    0, 10766,     0,     0,     0,   137,     0,    90,     0],\n",
      "        [  344,   384, 12693,  1250,   926,   977,   153,   932,     0],\n",
      "        [  385,   201,  7169,  1603,   338,   246,   140,   475,     0],\n",
      "        [  102,   266,  5849,   412,  1812,  1368,   108,   694,     0],\n",
      "        [    1,   287,  2571,    40,   479,  5611,    67,  1577,     0],\n",
      "        [  206,   222,  6952,   744,   621,   917,   175,   708,     0],\n",
      "        [   10,   249,  1737,    73,    78,  1288,    24,  7298,     0],\n",
      "        [    0,     0,     0,     0,     1,     6,     0,   218, 10576]])\n"
     ]
    },
    {
     "data": {
      "application/vnd.jupyter.widget-view+json": {
       "model_id": "43457765d7bb451dbd564faf6674db1f",
       "version_major": 2,
       "version_minor": 0
      },
      "text/plain": [
       "Validation: |          | 0/? [00:00<?, ?it/s]"
      ]
     },
     "metadata": {},
     "output_type": "display_data"
    },
    {
     "name": "stdout",
     "output_type": "stream",
     "text": [
      "Epoch end: Validation, epoch number: 6\n",
      "ValidationEpoch/CM\n",
      " tensor([[ 1251,   206,  7784,  1545,   412,   289,   211,   487,     0],\n",
      "        [    0, 12939,     0,     0,     0,   139,     0,    90,     0],\n",
      "        [  703,   384, 15440,  1311,  1153,  1002,   227,   933,     0],\n",
      "        [  806,   201,  8384,  1773,   505,   260,   242,   479,     0],\n",
      "        [  171,   266,  6421,   473,  2932,  1563,   173,   712,     0],\n",
      "        [    1,   287,  2584,    45,   627,  7449,    91,  1654,     0],\n",
      "        [  428,   222,  8228,   800,   871,  1024,   321,   739,     0],\n",
      "        [   21,   249,  1737,    75,    83,  1337,    39,  9346,     0],\n",
      "        [    0,     0,     0,     0,     1,     6,     0,   218, 12720]])\n",
      "Epoch end: Train, epoch number: 5\n",
      "TrainEpoch/CM\n",
      " tensor([[ 1251,   206,  7784,  1545,   412,   289,   211,   487,     0],\n",
      "        [    0, 12939,     0,     0,     0,   139,     0,    90,     0],\n",
      "        [  703,   384, 15440,  1311,  1153,  1002,   227,   933,     0],\n",
      "        [  806,   201,  8384,  1773,   505,   260,   242,   479,     0],\n",
      "        [  171,   266,  6421,   473,  2932,  1563,   173,   712,     0],\n",
      "        [    1,   287,  2584,    45,   627,  7449,    91,  1654,     0],\n",
      "        [  428,   222,  8228,   800,   871,  1024,   321,   739,     0],\n",
      "        [   21,   249,  1737,    75,    83,  1337,    39,  9346,     0],\n",
      "        [    0,     0,     0,     0,     1,     6,     0,   218, 12720]])\n"
     ]
    },
    {
     "name": "stderr",
     "output_type": "stream",
     "text": [
      "Metric Validation/Accuracy improved by 0.053 >= min_delta = 0.0. New best score: 0.658\n"
     ]
    },
    {
     "data": {
      "application/vnd.jupyter.widget-view+json": {
       "model_id": "7836244f75e04dab9f0450695d57bbc5",
       "version_major": 2,
       "version_minor": 0
      },
      "text/plain": [
       "Validation: |          | 0/? [00:00<?, ?it/s]"
      ]
     },
     "metadata": {},
     "output_type": "display_data"
    },
    {
     "name": "stdout",
     "output_type": "stream",
     "text": [
      "Epoch end: Validation, epoch number: 7\n",
      "ValidationEpoch/CM\n",
      " tensor([[ 2212,   206,  8508,  1687,   483,   295,   317,   493,     0],\n",
      "        [    0, 15112,     0,     0,     0,   141,     0,    90,     0],\n",
      "        [ 1004,   384, 18173,  1376,  1400,  1017,   358,   935,     0],\n",
      "        [ 1232,   201,  9378,  2051,   742,   285,   370,   484,     0],\n",
      "        [  250,   266,  6876,   557,  4127,  1731,   276,   728,     0],\n",
      "        [    1,   288,  2592,    49,   752,  9337,   121,  1703,     0],\n",
      "        [  643,   222,  9395,   882,  1115,  1132,   576,   756,     0],\n",
      "        [   37,   249,  1737,    78,    88,  1368,    49, 11411,     0],\n",
      "        [    0,     0,     0,     0,     1,     6,     0,   218, 14864]])\n",
      "Epoch end: Train, epoch number: 6\n",
      "TrainEpoch/CM\n",
      " tensor([[ 2212,   206,  8508,  1687,   483,   295,   317,   493,     0],\n",
      "        [    0, 15112,     0,     0,     0,   141,     0,    90,     0],\n",
      "        [ 1004,   384, 18173,  1376,  1400,  1017,   358,   935,     0],\n",
      "        [ 1232,   201,  9378,  2051,   742,   285,   370,   484,     0],\n",
      "        [  250,   266,  6876,   557,  4127,  1731,   276,   728,     0],\n",
      "        [    1,   288,  2592,    49,   752,  9337,   121,  1703,     0],\n",
      "        [  643,   222,  9395,   882,  1115,  1132,   576,   756,     0],\n",
      "        [   37,   249,  1737,    78,    88,  1368,    49, 11411,     0],\n",
      "        [    0,     0,     0,     0,     1,     6,     0,   218, 14864]])\n"
     ]
    },
    {
     "name": "stderr",
     "output_type": "stream",
     "text": [
      "Metric Validation/Accuracy improved by 0.028 >= min_delta = 0.0. New best score: 0.687\n"
     ]
    },
    {
     "data": {
      "application/vnd.jupyter.widget-view+json": {
       "model_id": "c02ebd9fad364798bf8f4e51124502f7",
       "version_major": 2,
       "version_minor": 0
      },
      "text/plain": [
       "Validation: |          | 0/? [00:00<?, ?it/s]"
      ]
     },
     "metadata": {},
     "output_type": "display_data"
    },
    {
     "name": "stdout",
     "output_type": "stream",
     "text": [
      "Epoch end: Validation, epoch number: 8\n",
      "ValidationEpoch/CM\n",
      " tensor([[ 3367,   206,  9025,  1909,   526,   297,   389,   498,     0],\n",
      "        [    0, 17282,     0,     0,     0,   143,     0,    93,     0],\n",
      "        [ 1350,   384, 20818,  1509,  1601,  1024,   520,   935,     0],\n",
      "        [ 1630,   201, 10239,  2507,   969,   297,   504,   489,     0],\n",
      "        [  308,   266,  7305,   688,  5356,  1872,   380,   736,     0],\n",
      "        [    1,   288,  2598,    52,   875, 11265,   145,  1724,     0],\n",
      "        [  823,   222, 10524,  1038,  1340,  1225,   865,   772,     0],\n",
      "        [   53,   249,  1737,    83,    93,  1385,    56, 13491,     0],\n",
      "        [    0,     0,     0,     0,     1,     6,     0,   218, 17008]])\n",
      "Epoch end: Train, epoch number: 7\n",
      "TrainEpoch/CM\n",
      " tensor([[ 3367,   206,  9025,  1909,   526,   297,   389,   498,     0],\n",
      "        [    0, 17282,     0,     0,     0,   143,     0,    93,     0],\n",
      "        [ 1350,   384, 20818,  1509,  1601,  1024,   520,   935,     0],\n",
      "        [ 1630,   201, 10239,  2507,   969,   297,   504,   489,     0],\n",
      "        [  308,   266,  7305,   688,  5356,  1872,   380,   736,     0],\n",
      "        [    1,   288,  2598,    52,   875, 11265,   145,  1724,     0],\n",
      "        [  823,   222, 10524,  1038,  1340,  1225,   865,   772,     0],\n",
      "        [   53,   249,  1737,    83,    93,  1385,    56, 13491,     0],\n",
      "        [    0,     0,     0,     0,     1,     6,     0,   218, 17008]])\n"
     ]
    },
    {
     "data": {
      "application/vnd.jupyter.widget-view+json": {
       "model_id": "ead37c6e8b5b4d7597e57726e3dd23d7",
       "version_major": 2,
       "version_minor": 0
      },
      "text/plain": [
       "Validation: |          | 0/? [00:00<?, ?it/s]"
      ]
     },
     "metadata": {},
     "output_type": "display_data"
    },
    {
     "name": "stdout",
     "output_type": "stream",
     "text": [
      "Epoch end: Validation, epoch number: 9\n",
      "ValidationEpoch/CM\n",
      " tensor([[ 4617,   206,  9431,  2128,   587,   299,   462,   501,     2],\n",
      "        [    0, 19454,     0,     0,     0,   143,     0,    96,     0],\n",
      "        [ 1649,   384, 23385,  1653,  1811,  1032,   786,   935,     0],\n",
      "        [ 1965,   201, 10999,  3033,  1273,   309,   656,   493,     0],\n",
      "        [  355,   266,  7632,   840,  6662,  1998,   512,   746,     0],\n",
      "        [    1,   288,  2598,    56,   980, 13228,   166,  1736,     0],\n",
      "        [  953,   222, 11513,  1232,  1575,  1332,  1285,   785,     0],\n",
      "        [   67,   249,  1737,    84,   101,  1396,    60, 15583,     0],\n",
      "        [    0,     0,     0,     0,     1,     6,     0,   218, 19152]])\n",
      "Epoch end: Train, epoch number: 8\n",
      "TrainEpoch/CM\n",
      " tensor([[ 4617,   206,  9431,  2128,   587,   299,   462,   501,     2],\n",
      "        [    0, 19454,     0,     0,     0,   143,     0,    96,     0],\n",
      "        [ 1649,   384, 23385,  1653,  1811,  1032,   786,   935,     0],\n",
      "        [ 1965,   201, 10999,  3033,  1273,   309,   656,   493,     0],\n",
      "        [  355,   266,  7632,   840,  6662,  1998,   512,   746,     0],\n",
      "        [    1,   288,  2598,    56,   980, 13228,   166,  1736,     0],\n",
      "        [  953,   222, 11513,  1232,  1575,  1332,  1285,   785,     0],\n",
      "        [   67,   249,  1737,    84,   101,  1396,    60, 15583,     0],\n",
      "        [    0,     0,     0,     0,     1,     6,     0,   218, 19152]])\n"
     ]
    },
    {
     "name": "stderr",
     "output_type": "stream",
     "text": [
      "Metric Validation/Accuracy improved by 0.044 >= min_delta = 0.0. New best score: 0.730\n"
     ]
    },
    {
     "data": {
      "application/vnd.jupyter.widget-view+json": {
       "model_id": "087d2b7d31f5480391b429c8df04f459",
       "version_major": 2,
       "version_minor": 0
      },
      "text/plain": [
       "Validation: |          | 0/? [00:00<?, ?it/s]"
      ]
     },
     "metadata": {},
     "output_type": "display_data"
    },
    {
     "name": "stdout",
     "output_type": "stream",
     "text": [
      "Epoch end: Validation, epoch number: 10\n",
      "ValidationEpoch/CM\n",
      " tensor([[ 6039,   206,  9712,  2360,   624,   299,   502,   504,     3],\n",
      "        [    0, 21625,     0,     0,     0,   144,     0,    99,     0],\n",
      "        [ 1925,   384, 25915,  1864,  2017,  1035,  1054,   935,     0],\n",
      "        [ 2254,   201, 11719,  3729,  1504,   318,   801,   496,     0],\n",
      "        [  401,   266,  7955,   998,  7985,  2086,   663,   757,     0],\n",
      "        [    1,   288,  2599,    60,  1067, 15208,   190,  1745,     0],\n",
      "        [ 1077,   222, 12445,  1489,  1789,  1426,  1740,   797,     0],\n",
      "        [   85,   249,  1737,    84,   107,  1400,    60, 17685,     0],\n",
      "        [    0,     0,     0,     0,     1,     6,     0,   218, 21296]])\n",
      "Epoch end: Train, epoch number: 9\n",
      "TrainEpoch/CM\n",
      " tensor([[ 6039,   206,  9712,  2360,   624,   299,   502,   504,     3],\n",
      "        [    0, 21625,     0,     0,     0,   144,     0,    99,     0],\n",
      "        [ 1925,   384, 25915,  1864,  2017,  1035,  1054,   935,     0],\n",
      "        [ 2254,   201, 11719,  3729,  1504,   318,   801,   496,     0],\n",
      "        [  401,   266,  7955,   998,  7985,  2086,   663,   757,     0],\n",
      "        [    1,   288,  2599,    60,  1067, 15208,   190,  1745,     0],\n",
      "        [ 1077,   222, 12445,  1489,  1789,  1426,  1740,   797,     0],\n",
      "        [   85,   249,  1737,    84,   107,  1400,    60, 17685,     0],\n",
      "        [    0,     0,     0,     0,     1,     6,     0,   218, 21296]])\n"
     ]
    },
    {
     "name": "stderr",
     "output_type": "stream",
     "text": [
      "Metric Validation/Accuracy improved by 0.025 >= min_delta = 0.0. New best score: 0.755\n"
     ]
    },
    {
     "data": {
      "application/vnd.jupyter.widget-view+json": {
       "model_id": "ccc30aa736d841109f94432825ab30c6",
       "version_major": 2,
       "version_minor": 0
      },
      "text/plain": [
       "Validation: |          | 0/? [00:00<?, ?it/s]"
      ]
     },
     "metadata": {},
     "output_type": "display_data"
    },
    {
     "name": "stdout",
     "output_type": "stream",
     "text": [
      "Epoch end: Validation, epoch number: 11\n",
      "ValidationEpoch/CM\n",
      " tensor([[ 7580,   206,  9933,  2534,   668,   299,   532,   508,     5],\n",
      "        [    0, 23797,     0,     0,     0,   145,     0,   101,     0],\n",
      "        [ 2117,   384, 28598,  2038,  2224,  1038,  1289,   935,     0],\n",
      "        [ 2470,   201, 12471,  4447,  1752,   325,   951,   498,     0],\n",
      "        [  437,   266,  8268,  1151,  9365,  2166,   790,   768,     0],\n",
      "        [    1,   288,  2600,    60,  1150, 17204,   211,  1749,     0],\n",
      "        [ 1161,   222, 13429,  1719,  1994,  1528,  2212,   808,     0],\n",
      "        [   97,   249,  1737,    84,   112,  1409,    61, 19788,     0],\n",
      "        [    0,     0,     0,     0,     1,     6,     0,   218, 23440]])\n",
      "Epoch end: Train, epoch number: 10\n",
      "TrainEpoch/CM\n",
      " tensor([[ 7580,   206,  9933,  2534,   668,   299,   532,   508,     5],\n",
      "        [    0, 23797,     0,     0,     0,   145,     0,   101,     0],\n",
      "        [ 2117,   384, 28598,  2038,  2224,  1038,  1289,   935,     0],\n",
      "        [ 2470,   201, 12471,  4447,  1752,   325,   951,   498,     0],\n",
      "        [  437,   266,  8268,  1151,  9365,  2166,   790,   768,     0],\n",
      "        [    1,   288,  2600,    60,  1150, 17204,   211,  1749,     0],\n",
      "        [ 1161,   222, 13429,  1719,  1994,  1528,  2212,   808,     0],\n",
      "        [   97,   249,  1737,    84,   112,  1409,    61, 19788,     0],\n",
      "        [    0,     0,     0,     0,     1,     6,     0,   218, 23440]])\n"
     ]
    },
    {
     "name": "stderr",
     "output_type": "stream",
     "text": [
      "Metric Validation/Accuracy improved by 0.004 >= min_delta = 0.0. New best score: 0.758\n"
     ]
    },
    {
     "data": {
      "application/vnd.jupyter.widget-view+json": {
       "model_id": "742aba9c88a04316a8da6aae35007927",
       "version_major": 2,
       "version_minor": 0
      },
      "text/plain": [
       "Validation: |          | 0/? [00:00<?, ?it/s]"
      ]
     },
     "metadata": {},
     "output_type": "display_data"
    },
    {
     "name": "stdout",
     "output_type": "stream",
     "text": [
      "Epoch end: Validation, epoch number: 12\n",
      "ValidationEpoch/CM\n",
      " tensor([[ 9224,   206, 10084,  2707,   693,   299,   549,   511,     8],\n",
      "        [    0, 25971,     0,     0,     0,   146,     0,   101,     0],\n",
      "        [ 2284,   384, 31198,  2310,  2413,  1043,  1550,   935,     0],\n",
      "        [ 2650,   201, 13155,  5366,  1932,   333,  1073,   498,     0],\n",
      "        [  465,   266,  8561,  1348, 10751,  2228,   912,   780,     0],\n",
      "        [    1,   288,  2601,    63,  1214, 19208,   234,  1759,     0],\n",
      "        [ 1230,   222, 14368,  2002,  2171,  1619,  2730,   819,     0],\n",
      "        [  111,   249,  1737,    84,   116,  1414,    63, 21893,     0],\n",
      "        [    0,     0,     0,     0,     1,     6,     0,   218, 25584]])\n",
      "Epoch end: Train, epoch number: 11\n",
      "TrainEpoch/CM\n",
      " tensor([[ 9224,   206, 10084,  2707,   693,   299,   549,   511,     8],\n",
      "        [    0, 25971,     0,     0,     0,   146,     0,   101,     0],\n",
      "        [ 2284,   384, 31198,  2310,  2413,  1043,  1550,   935,     0],\n",
      "        [ 2650,   201, 13155,  5366,  1932,   333,  1073,   498,     0],\n",
      "        [  465,   266,  8561,  1348, 10751,  2228,   912,   780,     0],\n",
      "        [    1,   288,  2601,    63,  1214, 19208,   234,  1759,     0],\n",
      "        [ 1230,   222, 14368,  2002,  2171,  1619,  2730,   819,     0],\n",
      "        [  111,   249,  1737,    84,   116,  1414,    63, 21893,     0],\n",
      "        [    0,     0,     0,     0,     1,     6,     0,   218, 25584]])\n"
     ]
    },
    {
     "name": "stderr",
     "output_type": "stream",
     "text": [
      "Metric Validation/Accuracy improved by 0.018 >= min_delta = 0.0. New best score: 0.776\n"
     ]
    },
    {
     "data": {
      "application/vnd.jupyter.widget-view+json": {
       "model_id": "5370440fb18946de8cd03be4970f6abd",
       "version_major": 2,
       "version_minor": 0
      },
      "text/plain": [
       "Validation: |          | 0/? [00:00<?, ?it/s]"
      ]
     },
     "metadata": {},
     "output_type": "display_data"
    },
    {
     "name": "stdout",
     "output_type": "stream",
     "text": [
      "Epoch end: Validation, epoch number: 13\n",
      "ValidationEpoch/CM\n",
      " tensor([[10898,   207, 10245,  2854,   710,   299,   561,   513,    10],\n",
      "        [    0, 28145,     0,     0,     0,   146,     0,   102,     0],\n",
      "        [ 2391,   384, 33974,  2550,  2566,  1045,  1766,   935,     0],\n",
      "        [ 2780,   201, 13926,  6270,  2097,   338,  1191,   498,     0],\n",
      "        [  494,   266,  8889,  1547, 12127,  2275,  1019,   794,     0],\n",
      "        [    1,   289,  2603,    67,  1263, 21220,   265,  1765,     0],\n",
      "        [ 1269,   222, 15415,  2282,  2346,  1701,  3186,   828,     0],\n",
      "        [  123,   249,  1737,    84,   122,  1421,    66, 23995,     0],\n",
      "        [    0,     0,     0,     0,     1,     6,     0,   218, 27728]])\n",
      "Epoch end: Train, epoch number: 12\n",
      "TrainEpoch/CM\n",
      " tensor([[10898,   207, 10245,  2854,   710,   299,   561,   513,    10],\n",
      "        [    0, 28145,     0,     0,     0,   146,     0,   102,     0],\n",
      "        [ 2391,   384, 33974,  2550,  2566,  1045,  1766,   935,     0],\n",
      "        [ 2780,   201, 13926,  6270,  2097,   338,  1191,   498,     0],\n",
      "        [  494,   266,  8889,  1547, 12127,  2275,  1019,   794,     0],\n",
      "        [    1,   289,  2603,    67,  1263, 21220,   265,  1765,     0],\n",
      "        [ 1269,   222, 15415,  2282,  2346,  1701,  3186,   828,     0],\n",
      "        [  123,   249,  1737,    84,   122,  1421,    66, 23995,     0],\n",
      "        [    0,     0,     0,     0,     1,     6,     0,   218, 27728]])\n"
     ]
    },
    {
     "data": {
      "application/vnd.jupyter.widget-view+json": {
       "model_id": "adc7ee26851746ba8448f437eb4b827d",
       "version_major": 2,
       "version_minor": 0
      },
      "text/plain": [
       "Validation: |          | 0/? [00:00<?, ?it/s]"
      ]
     },
     "metadata": {},
     "output_type": "display_data"
    },
    {
     "name": "stdout",
     "output_type": "stream",
     "text": [
      "Epoch end: Validation, epoch number: 14\n",
      "ValidationEpoch/CM\n",
      " tensor([[12609,   207, 10365,  3003,   733,   299,   570,   514,    13],\n",
      "        [    0, 30320,     0,     0,     0,   146,     0,   102,     0],\n",
      "        [ 2481,   384, 36778,  2786,  2702,  1047,  1992,   935,     0],\n",
      "        [ 2902,   201, 14668,  7219,  2257,   340,  1309,   498,     0],\n",
      "        [  513,   266,  9230,  1745, 13507,  2320,  1122,   808,     0],\n",
      "        [    1,   289,  2606,    71,  1315, 23228,   293,  1775,     0],\n",
      "        [ 1302,   222, 16477,  2567,  2498,  1776,  3654,   841,     0],\n",
      "        [  136,   249,  1737,    87,   128,  1433,    66, 26091,     0],\n",
      "        [    0,     0,     0,     0,     1,     6,     0,   218, 29872]])\n",
      "Epoch end: Train, epoch number: 13\n",
      "TrainEpoch/CM\n",
      " tensor([[12609,   207, 10365,  3003,   733,   299,   570,   514,    13],\n",
      "        [    0, 30320,     0,     0,     0,   146,     0,   102,     0],\n",
      "        [ 2481,   384, 36778,  2786,  2702,  1047,  1992,   935,     0],\n",
      "        [ 2902,   201, 14668,  7219,  2257,   340,  1309,   498,     0],\n",
      "        [  513,   266,  9230,  1745, 13507,  2320,  1122,   808,     0],\n",
      "        [    1,   289,  2606,    71,  1315, 23228,   293,  1775,     0],\n",
      "        [ 1302,   222, 16477,  2567,  2498,  1776,  3654,   841,     0],\n",
      "        [  136,   249,  1737,    87,   128,  1433,    66, 26091,     0],\n",
      "        [    0,     0,     0,     0,     1,     6,     0,   218, 29872]])\n"
     ]
    },
    {
     "data": {
      "application/vnd.jupyter.widget-view+json": {
       "model_id": "bf022c98e5744e7a96849b737daceb69",
       "version_major": 2,
       "version_minor": 0
      },
      "text/plain": [
       "Validation: |          | 0/? [00:00<?, ?it/s]"
      ]
     },
     "metadata": {},
     "output_type": "display_data"
    },
    {
     "name": "stdout",
     "output_type": "stream",
     "text": [
      "Epoch end: Validation, epoch number: 15\n",
      "ValidationEpoch/CM\n",
      " tensor([[14298,   207, 10481,  3172,   759,   299,   582,   517,    14],\n",
      "        [    0, 32495,     0,     0,     0,   146,     0,   102,     0],\n",
      "        [ 2570,   384, 39598,  3016,  2820,  1057,  2219,   935,     0],\n",
      "        [ 3013,   201, 15355,  8220,  2402,   348,  1450,   498,     0],\n",
      "        [  538,   266,  9517,  1963, 14899,  2370,  1237,   821,     0],\n",
      "        [    1,   289,  2607,    76,  1366, 25234,   329,  1781,     0],\n",
      "        [ 1342,   222, 17489,  2868,  2642,  1858,  4150,   854,     0],\n",
      "        [  146,   249,  1737,    88,   131,  1450,    68, 28188,     0],\n",
      "        [    2,     0,     0,     0,     1,     6,     0,   218, 32014]])\n",
      "Epoch end: Train, epoch number: 14\n",
      "TrainEpoch/CM\n",
      " tensor([[14298,   207, 10481,  3172,   759,   299,   582,   517,    14],\n",
      "        [    0, 32495,     0,     0,     0,   146,     0,   102,     0],\n",
      "        [ 2570,   384, 39598,  3016,  2820,  1057,  2219,   935,     0],\n",
      "        [ 3013,   201, 15355,  8220,  2402,   348,  1450,   498,     0],\n",
      "        [  538,   266,  9517,  1963, 14899,  2370,  1237,   821,     0],\n",
      "        [    1,   289,  2607,    76,  1366, 25234,   329,  1781,     0],\n",
      "        [ 1342,   222, 17489,  2868,  2642,  1858,  4150,   854,     0],\n",
      "        [  146,   249,  1737,    88,   131,  1450,    68, 28188,     0],\n",
      "        [    2,     0,     0,     0,     1,     6,     0,   218, 32014]])\n"
     ]
    },
    {
     "name": "stderr",
     "output_type": "stream",
     "text": [
      "Metric Validation/Accuracy improved by 0.002 >= min_delta = 0.0. New best score: 0.778\n"
     ]
    },
    {
     "data": {
      "application/vnd.jupyter.widget-view+json": {
       "model_id": "516bfad6f7b4473b9e450cbec9bebd8b",
       "version_major": 2,
       "version_minor": 0
      },
      "text/plain": [
       "Validation: |          | 0/? [00:00<?, ?it/s]"
      ]
     },
     "metadata": {},
     "output_type": "display_data"
    },
    {
     "name": "stdout",
     "output_type": "stream",
     "text": [
      "Epoch end: Validation, epoch number: 16\n",
      "ValidationEpoch/CM\n",
      " tensor([[16037,   207, 10579,  3307,   789,   299,   593,   519,    15],\n",
      "        [    0, 34669,     0,     0,     0,   146,     0,   103,     0],\n",
      "        [ 2670,   384, 42318,  3275,  2944,  1061,  2506,   935,     0],\n",
      "        [ 3151,   201, 16011,  9234,  2550,   349,  1585,   499,     0],\n",
      "        [  565,   266,  9781,  2185, 16334,  2405,  1347,   828,     0],\n",
      "        [    1,   290,  2612,    82,  1411, 27235,   366,  1791,     0],\n",
      "        [ 1375,   222, 18441,  3187,  2798,  1947,  4678,   865,     0],\n",
      "        [  154,   249,  1737,    90,   135,  1464,    71, 30287,     0],\n",
      "        [    2,     0,     0,     0,     1,     6,     0,   218, 34158]])\n"
     ]
    },
    {
     "name": "stderr",
     "output_type": "stream",
     "text": [
      "Metric Validation/Accuracy improved by 0.019 >= min_delta = 0.0. New best score: 0.797\n"
     ]
    },
    {
     "name": "stdout",
     "output_type": "stream",
     "text": [
      "Epoch end: Train, epoch number: 15\n",
      "TrainEpoch/CM\n",
      " tensor([[16037,   207, 10579,  3307,   789,   299,   593,   519,    15],\n",
      "        [    0, 34669,     0,     0,     0,   146,     0,   103,     0],\n",
      "        [ 2670,   384, 42318,  3275,  2944,  1061,  2506,   935,     0],\n",
      "        [ 3151,   201, 16011,  9234,  2550,   349,  1585,   499,     0],\n",
      "        [  565,   266,  9781,  2185, 16334,  2405,  1347,   828,     0],\n",
      "        [    1,   290,  2612,    82,  1411, 27235,   366,  1791,     0],\n",
      "        [ 1375,   222, 18441,  3187,  2798,  1947,  4678,   865,     0],\n",
      "        [  154,   249,  1737,    90,   135,  1464,    71, 30287,     0],\n",
      "        [    2,     0,     0,     0,     1,     6,     0,   218, 34158]])\n"
     ]
    },
    {
     "data": {
      "application/vnd.jupyter.widget-view+json": {
       "model_id": "9fcb0b5f350c49a7ad99912252b99723",
       "version_major": 2,
       "version_minor": 0
      },
      "text/plain": [
       "Validation: |          | 0/? [00:00<?, ?it/s]"
      ]
     },
     "metadata": {},
     "output_type": "display_data"
    },
    {
     "name": "stdout",
     "output_type": "stream",
     "text": [
      "Epoch end: Validation, epoch number: 17\n",
      "ValidationEpoch/CM\n",
      " tensor([[17799,   207, 10664,  3442,   813,   299,   601,   521,    15],\n",
      "        [    0, 36844,     0,     0,     0,   146,     0,   103,     0],\n",
      "        [ 2749,   384, 44946,  3582,  3077,  1065,  2849,   935,     0],\n",
      "        [ 3233,   201, 16630, 10341,  2704,   352,  1713,   499,     0],\n",
      "        [  583,   266, 10042,  2402, 17790,  2445,  1446,   837,     0],\n",
      "        [    1,   290,  2615,    90,  1445, 29260,   393,  1799,     0],\n",
      "        [ 1402,   222, 19341,  3497,  2957,  2034,  5275,   873,     0],\n",
      "        [  162,   249,  1737,    90,   137,  1478,    77, 32387,     0],\n",
      "        [    2,     0,     0,     0,     1,     6,     0,   218, 36302]])\n",
      "Epoch end: Train, epoch number: 16\n"
     ]
    },
    {
     "name": "stderr",
     "output_type": "stream",
     "text": [
      "Metric Validation/Accuracy improved by 0.003 >= min_delta = 0.0. New best score: 0.800\n"
     ]
    },
    {
     "name": "stdout",
     "output_type": "stream",
     "text": [
      "TrainEpoch/CM\n",
      " tensor([[17799,   207, 10664,  3442,   813,   299,   601,   521,    15],\n",
      "        [    0, 36844,     0,     0,     0,   146,     0,   103,     0],\n",
      "        [ 2749,   384, 44946,  3582,  3077,  1065,  2849,   935,     0],\n",
      "        [ 3233,   201, 16630, 10341,  2704,   352,  1713,   499,     0],\n",
      "        [  583,   266, 10042,  2402, 17790,  2445,  1446,   837,     0],\n",
      "        [    1,   290,  2615,    90,  1445, 29260,   393,  1799,     0],\n",
      "        [ 1402,   222, 19341,  3497,  2957,  2034,  5275,   873,     0],\n",
      "        [  162,   249,  1737,    90,   137,  1478,    77, 32387,     0],\n",
      "        [    2,     0,     0,     0,     1,     6,     0,   218, 36302]])\n"
     ]
    },
    {
     "data": {
      "application/vnd.jupyter.widget-view+json": {
       "model_id": "9a9777ab8f24474db444b84c303adb2f",
       "version_major": 2,
       "version_minor": 0
      },
      "text/plain": [
       "Validation: |          | 0/? [00:00<?, ?it/s]"
      ]
     },
     "metadata": {},
     "output_type": "display_data"
    },
    {
     "name": "stdout",
     "output_type": "stream",
     "text": [
      "Epoch end: Validation, epoch number: 18\n",
      "ValidationEpoch/CM\n",
      " tensor([[19550,   207, 10758,  3583,   833,   299,   609,   523,    15],\n",
      "        [    0, 39019,     0,     0,     0,   146,     0,   103,     0],\n",
      "        [ 2816,   384, 47714,  3820,  3197,  1067,  3148,   935,     0],\n",
      "        [ 3312,   201, 17259, 11439,  2854,   352,  1850,   499,     0],\n",
      "        [  602,   266, 10296,  2619, 19245,  2481,  1556,   846,     0],\n",
      "        [    1,   290,  2617,    96,  1473, 31283,   431,  1807,     0],\n",
      "        [ 1420,   222, 20278,  3784,  3114,  2104,  5885,   882,     0],\n",
      "        [  170,   249,  1737,    91,   140,  1490,    80, 34490,     0],\n",
      "        [    2,     0,     0,     0,     1,     6,     0,   218, 38446]])\n",
      "Epoch end: Train, epoch number: 17\n",
      "TrainEpoch/CM\n",
      " tensor([[19550,   207, 10758,  3583,   833,   299,   609,   523,    15],\n",
      "        [    0, 39019,     0,     0,     0,   146,     0,   103,     0],\n",
      "        [ 2816,   384, 47714,  3820,  3197,  1067,  3148,   935,     0],\n",
      "        [ 3312,   201, 17259, 11439,  2854,   352,  1850,   499,     0],\n",
      "        [  602,   266, 10296,  2619, 19245,  2481,  1556,   846,     0],\n",
      "        [    1,   290,  2617,    96,  1473, 31283,   431,  1807,     0],\n",
      "        [ 1420,   222, 20278,  3784,  3114,  2104,  5885,   882,     0],\n",
      "        [  170,   249,  1737,    91,   140,  1490,    80, 34490,     0],\n",
      "        [    2,     0,     0,     0,     1,     6,     0,   218, 38446]])\n"
     ]
    },
    {
     "data": {
      "application/vnd.jupyter.widget-view+json": {
       "model_id": "c502c8704a434e61b50957affc5d7114",
       "version_major": 2,
       "version_minor": 0
      },
      "text/plain": [
       "Validation: |          | 0/? [00:00<?, ?it/s]"
      ]
     },
     "metadata": {},
     "output_type": "display_data"
    },
    {
     "name": "stdout",
     "output_type": "stream",
     "text": [
      "Epoch end: Validation, epoch number: 19\n",
      "ValidationEpoch/CM\n",
      " tensor([[21314,   207, 10834,  3722,   865,   299,   613,   524,    15],\n",
      "        [    0, 41193,     0,     0,     0,   146,     0,   104,     0],\n",
      "        [ 2875,   384, 50397,  4057,  3363,  1070,  3494,   935,     0],\n",
      "        [ 3403,   201, 17874, 12474,  3055,   355,  1998,   499,     0],\n",
      "        [  621,   266, 10540,  2832, 20734,  2503,  1659,   856,     0],\n",
      "        [    1,   290,  2620,   100,  1511, 33301,   465,  1815,     0],\n",
      "        [ 1448,   222, 21195,  4070,  3313,  2176,  6461,   892,     0],\n",
      "        [  178,   249,  1737,    91,   145,  1506,    84, 36587,     0],\n",
      "        [    2,     0,     0,     0,     1,     6,     0,   218, 40590]])\n",
      "Epoch end: Train, epoch number: 18\n",
      "TrainEpoch/CM\n",
      " tensor([[21314,   207, 10834,  3722,   865,   299,   613,   524,    15],\n",
      "        [    0, 41193,     0,     0,     0,   146,     0,   104,     0],\n",
      "        [ 2875,   384, 50397,  4057,  3363,  1070,  3494,   935,     0],\n",
      "        [ 3403,   201, 17874, 12474,  3055,   355,  1998,   499,     0],\n",
      "        [  621,   266, 10540,  2832, 20734,  2503,  1659,   856,     0],\n",
      "        [    1,   290,  2620,   100,  1511, 33301,   465,  1815,     0],\n",
      "        [ 1448,   222, 21195,  4070,  3313,  2176,  6461,   892,     0],\n",
      "        [  178,   249,  1737,    91,   145,  1506,    84, 36587,     0],\n",
      "        [    2,     0,     0,     0,     1,     6,     0,   218, 40590]])\n"
     ]
    },
    {
     "data": {
      "application/vnd.jupyter.widget-view+json": {
       "model_id": "3ce3e75778b54f51986017713b1c3b51",
       "version_major": 2,
       "version_minor": 0
      },
      "text/plain": [
       "Validation: |          | 0/? [00:00<?, ?it/s]"
      ]
     },
     "metadata": {},
     "output_type": "display_data"
    },
    {
     "name": "stdout",
     "output_type": "stream",
     "text": [
      "Epoch end: Validation, epoch number: 20\n",
      "ValidationEpoch/CM\n",
      " tensor([[23086,   207, 10904,  3862,   894,   299,   618,   524,    15],\n",
      "        [    0, 43368,     0,     0,     0,   146,     0,   104,     0],\n",
      "        [ 2926,   384, 53182,  4304,  3477,  1074,  3787,   935,     0],\n",
      "        [ 3478,   201, 18481, 13597,  3224,   356,  2116,   499,     0],\n",
      "        [  640,   266, 10778,  3045, 22229,  2530,  1760,   863,     0],\n",
      "        [    1,   290,  2620,   104,  1532, 35339,   502,  1820,     0],\n",
      "        [ 1471,   222, 22096,  4356,  3461,  2256,  7102,   901,     0],\n",
      "        [  184,   249,  1737,    91,   147,  1521,    90, 38688,     0],\n",
      "        [    2,     0,     0,     0,     1,     6,     0,   218, 42734]])\n"
     ]
    },
    {
     "name": "stderr",
     "output_type": "stream",
     "text": [
      "Metric Validation/Accuracy improved by 0.004 >= min_delta = 0.0. New best score: 0.804\n"
     ]
    },
    {
     "name": "stdout",
     "output_type": "stream",
     "text": [
      "Epoch end: Train, epoch number: 19\n",
      "TrainEpoch/CM\n",
      " tensor([[23086,   207, 10904,  3862,   894,   299,   618,   524,    15],\n",
      "        [    0, 43368,     0,     0,     0,   146,     0,   104,     0],\n",
      "        [ 2926,   384, 53182,  4304,  3477,  1074,  3787,   935,     0],\n",
      "        [ 3478,   201, 18481, 13597,  3224,   356,  2116,   499,     0],\n",
      "        [  640,   266, 10778,  3045, 22229,  2530,  1760,   863,     0],\n",
      "        [    1,   290,  2620,   104,  1532, 35339,   502,  1820,     0],\n",
      "        [ 1471,   222, 22096,  4356,  3461,  2256,  7102,   901,     0],\n",
      "        [  184,   249,  1737,    91,   147,  1521,    90, 38688,     0],\n",
      "        [    2,     0,     0,     0,     1,     6,     0,   218, 42734]])\n"
     ]
    },
    {
     "data": {
      "application/vnd.jupyter.widget-view+json": {
       "model_id": "a81c6f54660e4e2486ac86c975f0e1b9",
       "version_major": 2,
       "version_minor": 0
      },
      "text/plain": [
       "Validation: |          | 0/? [00:00<?, ?it/s]"
      ]
     },
     "metadata": {},
     "output_type": "display_data"
    },
    {
     "name": "stdout",
     "output_type": "stream",
     "text": [
      "Epoch end: Validation, epoch number: 21\n",
      "ValidationEpoch/CM\n",
      " tensor([[24889,   207, 10971,  3980,   916,   299,   623,   525,    15],\n",
      "        [    0, 45543,     0,     0,     0,   146,     0,   104,     0],\n",
      "        [ 3023,   384, 55970,  4531,  3593,  1077,  4050,   935,     0],\n",
      "        [ 3609,   201, 19075, 14692,  3377,   357,  2235,   499,     0],\n",
      "        [  668,   266, 11008,  3266, 23735,  2548,  1851,   869,     0],\n",
      "        [    1,   290,  2621,   115,  1556, 37342,   557,  1831,     0],\n",
      "        [ 1499,   222, 23084,  4632,  3606,  2324,  7678,   908,     0],\n",
      "        [  190,   249,  1737,    91,   150,  1530,    97, 40793,     0],\n",
      "        [    2,     0,     0,     0,     1,     6,     0,   218, 44878]])\n",
      "Epoch end: Train, epoch number: 20\n",
      "TrainEpoch/CM\n",
      " tensor([[24889,   207, 10971,  3980,   916,   299,   623,   525,    15],\n",
      "        [    0, 45543,     0,     0,     0,   146,     0,   104,     0],\n",
      "        [ 3023,   384, 55970,  4531,  3593,  1077,  4050,   935,     0],\n",
      "        [ 3609,   201, 19075, 14692,  3377,   357,  2235,   499,     0],\n",
      "        [  668,   266, 11008,  3266, 23735,  2548,  1851,   869,     0],\n",
      "        [    1,   290,  2621,   115,  1556, 37342,   557,  1831,     0],\n",
      "        [ 1499,   222, 23084,  4632,  3606,  2324,  7678,   908,     0],\n",
      "        [  190,   249,  1737,    91,   150,  1530,    97, 40793,     0],\n",
      "        [    2,     0,     0,     0,     1,     6,     0,   218, 44878]])\n"
     ]
    },
    {
     "data": {
      "application/vnd.jupyter.widget-view+json": {
       "model_id": "c3e8fc5ba93142579f1a717fed6bf0e7",
       "version_major": 2,
       "version_minor": 0
      },
      "text/plain": [
       "Validation: |          | 0/? [00:00<?, ?it/s]"
      ]
     },
     "metadata": {},
     "output_type": "display_data"
    },
    {
     "name": "stdout",
     "output_type": "stream",
     "text": [
      "Epoch end: Validation, epoch number: 22\n",
      "ValidationEpoch/CM\n",
      " tensor([[26532,   209, 11078,  4189,   955,   299,   638,   526,    15],\n",
      "        [    0, 47718,     0,     0,     0,   146,     0,   104,     0],\n",
      "        [ 3108,   384, 58622,  4756,  3717,  1091,  4444,   935,     0],\n",
      "        [ 3749,   201, 19638, 15760,  3546,   363,  2381,   500,     0],\n",
      "        [  696,   266, 11226,  3463, 25223,  2607,  1955,   875,     0],\n",
      "        [    1,   290,  2626,   119,  1584, 39362,   595,  1841,     0],\n",
      "        [ 1533,   222, 23970,  4895,  3766,  2448,  8291,   916,     0],\n",
      "        [  196,   249,  1737,    91,   151,  1543,   105, 42895,     0],\n",
      "        [    2,     0,     0,     0,     1,     6,     0,   218, 47022]])\n",
      "Epoch end: Train, epoch number: 21\n",
      "TrainEpoch/CM\n",
      " tensor([[26532,   209, 11078,  4189,   955,   299,   638,   526,    15],\n",
      "        [    0, 47718,     0,     0,     0,   146,     0,   104,     0],\n",
      "        [ 3108,   384, 58622,  4756,  3717,  1091,  4444,   935,     0],\n",
      "        [ 3749,   201, 19638, 15760,  3546,   363,  2381,   500,     0],\n",
      "        [  696,   266, 11226,  3463, 25223,  2607,  1955,   875,     0],\n",
      "        [    1,   290,  2626,   119,  1584, 39362,   595,  1841,     0],\n",
      "        [ 1533,   222, 23970,  4895,  3766,  2448,  8291,   916,     0],\n",
      "        [  196,   249,  1737,    91,   151,  1543,   105, 42895,     0],\n",
      "        [    2,     0,     0,     0,     1,     6,     0,   218, 47022]])\n"
     ]
    },
    {
     "data": {
      "application/vnd.jupyter.widget-view+json": {
       "model_id": "35a25e69127e4bb9a3ec7624face51bf",
       "version_major": 2,
       "version_minor": 0
      },
      "text/plain": [
       "Validation: |          | 0/? [00:00<?, ?it/s]"
      ]
     },
     "metadata": {},
     "output_type": "display_data"
    },
    {
     "name": "stdout",
     "output_type": "stream",
     "text": [
      "Epoch end: Validation, epoch number: 23\n",
      "ValidationEpoch/CM\n",
      " tensor([[28275,   211, 11160,  4338,   985,   299,   647,   527,    15],\n",
      "        [    0, 49892,     0,     0,     0,   146,     0,   105,     0],\n",
      "        [ 3201,   384, 61437,  4975,  3830,  1094,  4695,   935,     0],\n",
      "        [ 3860,   201, 20265, 16854,  3700,   369,  2480,   502,     0],\n",
      "        [  729,   266, 11474,  3700, 26694,  2634,  2033,   881,     0],\n",
      "        [    1,   292,  2631,   130,  1601, 41383,   639,  1846,     0],\n",
      "        [ 1568,   222, 24990,  5175,  3915,  2519,  8818,   922,     0],\n",
      "        [  200,   249,  1737,    91,   151,  1552,   113, 45004,     0],\n",
      "        [    2,     0,     0,     0,     1,     6,     0,   218, 49166]])\n",
      "Epoch end: Train, epoch number: 22\n",
      "TrainEpoch/CM\n",
      " tensor([[28275,   211, 11160,  4338,   985,   299,   647,   527,    15],\n",
      "        [    0, 49892,     0,     0,     0,   146,     0,   105,     0],\n",
      "        [ 3201,   384, 61437,  4975,  3830,  1094,  4695,   935,     0],\n",
      "        [ 3860,   201, 20265, 16854,  3700,   369,  2480,   502,     0],\n",
      "        [  729,   266, 11474,  3700, 26694,  2634,  2033,   881,     0],\n",
      "        [    1,   292,  2631,   130,  1601, 41383,   639,  1846,     0],\n",
      "        [ 1568,   222, 24990,  5175,  3915,  2519,  8818,   922,     0],\n",
      "        [  200,   249,  1737,    91,   151,  1552,   113, 45004,     0],\n",
      "        [    2,     0,     0,     0,     1,     6,     0,   218, 49166]])\n"
     ]
    },
    {
     "data": {
      "application/vnd.jupyter.widget-view+json": {
       "model_id": "ae9ce4758472443cb6298e3125946872",
       "version_major": 2,
       "version_minor": 0
      },
      "text/plain": [
       "Validation: |          | 0/? [00:00<?, ?it/s]"
      ]
     },
     "metadata": {},
     "output_type": "display_data"
    },
    {
     "name": "stdout",
     "output_type": "stream",
     "text": [
      "Epoch end: Validation, epoch number: 24\n",
      "ValidationEpoch/CM\n",
      " tensor([[30074,   212, 11233,  4454,  1007,   299,   650,   527,    17],\n",
      "        [    0, 52067,     0,     0,     0,   146,     0,   105,     0],\n",
      "        [ 3294,   384, 64143,  5284,  3953,  1097,  4955,   935,     0],\n",
      "        [ 3966,   201, 20818, 18041,  3848,   372,  2576,   502,     0],\n",
      "        [  754,   266, 11677,  3973, 28184,  2645,  2126,   886,     0],\n",
      "        [    1,   293,  2636,   140,  1622, 43386,   695,  1855,     0],\n",
      "        [ 1601,   222, 25901,  5527,  4060,  2590,  9389,   927,     0],\n",
      "        [  208,   249,  1737,    92,   152,  1559,   119, 47111,     0],\n",
      "        [    3,     0,     0,     0,     1,     6,     0,   218, 51309]])\n",
      "Epoch end: Train, epoch number: 23\n",
      "TrainEpoch/CM\n",
      " tensor([[30074,   212, 11233,  4454,  1007,   299,   650,   527,    17],\n",
      "        [    0, 52067,     0,     0,     0,   146,     0,   105,     0],\n",
      "        [ 3294,   384, 64143,  5284,  3953,  1097,  4955,   935,     0],\n",
      "        [ 3966,   201, 20818, 18041,  3848,   372,  2576,   502,     0],\n",
      "        [  754,   266, 11677,  3973, 28184,  2645,  2126,   886,     0],\n",
      "        [    1,   293,  2636,   140,  1622, 43386,   695,  1855,     0],\n",
      "        [ 1601,   222, 25901,  5527,  4060,  2590,  9389,   927,     0],\n",
      "        [  208,   249,  1737,    92,   152,  1559,   119, 47111,     0],\n",
      "        [    3,     0,     0,     0,     1,     6,     0,   218, 51309]])\n"
     ]
    },
    {
     "data": {
      "application/vnd.jupyter.widget-view+json": {
       "model_id": "930ac15f6aa2481682f96035b579f4e6",
       "version_major": 2,
       "version_minor": 0
      },
      "text/plain": [
       "Validation: |          | 0/? [00:00<?, ?it/s]"
      ]
     },
     "metadata": {},
     "output_type": "display_data"
    },
    {
     "name": "stdout",
     "output_type": "stream",
     "text": [
      "Epoch end: Validation, epoch number: 25\n",
      "ValidationEpoch/CM\n",
      " tensor([[31869,   212, 11303,  4569,  1029,   299,   663,   527,    18],\n",
      "        [    0, 54242,     0,     0,     0,   146,     0,   105,     0],\n",
      "        [ 3370,   384, 66891,  5505,  4064,  1099,  5291,   935,     0],\n",
      "        [ 4074,   201, 21398, 19150,  4012,   373,  2707,   502,     0],\n",
      "        [  780,   266, 11896,  4216, 29668,  2659,  2237,   889,     0],\n",
      "        [    1,   293,  2637,   145,  1638, 45409,   749,  1861,     0],\n",
      "        [ 1625,   222, 26835,  5821,  4206,  2653, 10013,   930,     0],\n",
      "        [  213,   249,  1737,    92,   154,  1567,   125, 49220,     0],\n",
      "        [    3,     0,     0,     0,     1,     6,     0,   218, 53453]])\n",
      "Epoch end: Train, epoch number: 24\n",
      "TrainEpoch/CM\n",
      " tensor([[31869,   212, 11303,  4569,  1029,   299,   663,   527,    18],\n",
      "        [    0, 54242,     0,     0,     0,   146,     0,   105,     0],\n",
      "        [ 3370,   384, 66891,  5505,  4064,  1099,  5291,   935,     0],\n",
      "        [ 4074,   201, 21398, 19150,  4012,   373,  2707,   502,     0],\n",
      "        [  780,   266, 11896,  4216, 29668,  2659,  2237,   889,     0],\n",
      "        [    1,   293,  2637,   145,  1638, 45409,   749,  1861,     0],\n",
      "        [ 1625,   222, 26835,  5821,  4206,  2653, 10013,   930,     0],\n",
      "        [  213,   249,  1737,    92,   154,  1567,   125, 49220,     0],\n",
      "        [    3,     0,     0,     0,     1,     6,     0,   218, 53453]])\n"
     ]
    },
    {
     "name": "stderr",
     "output_type": "stream",
     "text": [
      "Monitored metric Validation/Accuracy did not improve in the last 5 records. Best score: 0.804. Signaling Trainer to stop.\n"
     ]
    }
   ],
   "source": [
    "trainer.fit(model=model, train_dataloaders=train_dataloader, val_dataloaders=val_dataloader)"
   ]
  },
  {
   "cell_type": "code",
   "execution_count": 20,
   "metadata": {},
   "outputs": [
    {
     "data": {
      "text/plain": [
       "MalwaresModelMLP(\n",
       "  (train_metrics): MetricCollection(\n",
       "    (MulticlassAccuracy): MulticlassAccuracy()\n",
       "    (MulticlassPrecision): MulticlassPrecision()\n",
       "    (MulticlassRecall): MulticlassRecall()\n",
       "    (MulticlassF1Score): MulticlassF1Score(),\n",
       "    prefix=Train/\n",
       "  )\n",
       "  (val_metrics): MetricCollection(\n",
       "    (MulticlassAccuracy): MulticlassAccuracy()\n",
       "    (MulticlassPrecision): MulticlassPrecision()\n",
       "    (MulticlassRecall): MulticlassRecall()\n",
       "    (MulticlassF1Score): MulticlassF1Score(),\n",
       "    prefix=Validation/\n",
       "  )\n",
       "  (test_metrics): MetricCollection(\n",
       "    (MulticlassAccuracy): MulticlassAccuracy()\n",
       "    (MulticlassPrecision): MulticlassPrecision()\n",
       "    (MulticlassRecall): MulticlassRecall()\n",
       "    (MulticlassF1Score): MulticlassF1Score(),\n",
       "    prefix=Test/\n",
       "  )\n",
       "  (cm): MulticlassConfusionMatrix()\n",
       "  (criterion): CrossEntropyLoss()\n",
       "  (l1): Linear(in_features=33, out_features=30, bias=True)\n",
       "  (l2): Linear(in_features=30, out_features=30, bias=True)\n",
       "  (l3): Linear(in_features=30, out_features=9, bias=True)\n",
       ")"
      ]
     },
     "execution_count": 20,
     "metadata": {},
     "output_type": "execute_result"
    }
   ],
   "source": [
    "model.eval()"
   ]
  },
  {
   "cell_type": "code",
   "execution_count": 21,
   "metadata": {},
   "outputs": [
    {
     "name": "stderr",
     "output_type": "stream",
     "text": [
      "LOCAL_RANK: 0 - CUDA_VISIBLE_DEVICES: [0]\n"
     ]
    },
    {
     "name": "stdout",
     "output_type": "stream",
     "text": [
      "/home/<User>/repos/csg_is/training/lightning_logs/version_8/checkpoints/epoch=19-step=660.ckpt\n",
      "tensor(0.8042, device='cuda:0')\n"
     ]
    },
    {
     "data": {
      "application/vnd.jupyter.widget-view+json": {
       "model_id": "62cbef20d58b452f9ab7e94368276d19",
       "version_major": 2,
       "version_minor": 0
      },
      "text/plain": [
       "Testing: |          | 0/? [00:00<?, ?it/s]"
      ]
     },
     "metadata": {},
     "output_type": "display_data"
    },
    {
     "name": "stdout",
     "output_type": "stream",
     "text": [
      "Epoch end: Test, epoch number: 0\n",
      "TestEpoch/CM\n",
      " tensor([[340,   0,  13,  45,   6,   0,   2,   0,   0],\n",
      "        [  0, 448,   0,   0,   0,   0,   0,   0,   0],\n",
      "        [  7,   0, 572,  57,  21,   1,  76,   0,   0],\n",
      "        [  4,   0, 101, 225,  28,   0,  19,   0,   0],\n",
      "        [  1,   0,  35,  61, 289,   9,  27,   1,   0],\n",
      "        [  0,   0,   0,   2,   2, 427,   5,   0,   0],\n",
      "        [  3,   0, 145,  58,  18,  19, 151,   2,   0],\n",
      "        [  1,   0,   0,   0,   0,   3,   1, 419,   0],\n",
      "        [  0,   0,   0,   0,   0,   0,   0,   0, 425]])\n",
      "────────────────────────────────────────────────────────────────────────────────────────────────────────────────────────\n",
      "       Test metric             DataLoader 0\n",
      "────────────────────────────────────────────────────────────────────────────────────────────────────────────────────────\n",
      "      Test/Accuracy         0.8042055368423462\n",
      "      Test/F1Score          0.8072361946105957\n",
      "        Test/Loss           0.5107317566871643\n",
      "     Test/Precision         0.8186952471733093\n",
      "       Test/Recall          0.8042055368423462\n",
      "   TestEpoch/Accuracy       0.8050711750984192\n",
      "    TestEpoch/F1Score       0.8086774349212646\n",
      "   TestEpoch/Precision      0.8191437125205994\n",
      "    TestEpoch/Recall        0.8050711750984192\n",
      "────────────────────────────────────────────────────────────────────────────────────────────────────────────────────────\n"
     ]
    },
    {
     "data": {
      "text/plain": [
       "[{'Test/Loss': 0.5107317566871643,\n",
       "  'Test/Accuracy': 0.8042055368423462,\n",
       "  'Test/Precision': 0.8186952471733093,\n",
       "  'Test/Recall': 0.8042055368423462,\n",
       "  'Test/F1Score': 0.8072361946105957,\n",
       "  'TestEpoch/Accuracy': 0.8050711750984192,\n",
       "  'TestEpoch/Precision': 0.8191437125205994,\n",
       "  'TestEpoch/Recall': 0.8050711750984192,\n",
       "  'TestEpoch/F1Score': 0.8086774349212646}]"
      ]
     },
     "execution_count": 21,
     "metadata": {},
     "output_type": "execute_result"
    }
   ],
   "source": [
    "print(checkpoint_callback.best_model_path)   # prints path to the best model's checkpoint\n",
    "print(checkpoint_callback.best_model_score) # and prints it score\n",
    "best_model = MalwaresModelMLP.load_from_checkpoint(checkpoint_callback.best_model_path, input_size = vectors.shape[1]-1, output_size = len(label_encoder.classes_))\n",
    "\n",
    "trainer.test(best_model, dataloaders=val_dataloader)"
   ]
  },
  {
   "cell_type": "code",
   "execution_count": 22,
   "metadata": {},
   "outputs": [
    {
     "data": {
      "text/plain": [
       "tensor([435,  10,  55, 323, 424, 132, 296, 420,  30])"
      ]
     },
     "execution_count": 22,
     "metadata": {},
     "output_type": "execute_result"
    }
   ],
   "source": [
    "x,t = next(iter(train_dataloader))\n",
    "\n",
    "z = model(x)\n",
    "\n",
    "torch.argmax(z, dim=0)"
   ]
  }
 ],
 "metadata": {
  "kernelspec": {
   "display_name": ".venv",
   "language": "python",
   "name": "python3"
  },
  "language_info": {
   "codemirror_mode": {
    "name": "ipython",
    "version": 3
   },
   "file_extension": ".py",
   "mimetype": "text/x-python",
   "name": "python",
   "nbconvert_exporter": "python",
   "pygments_lexer": "ipython3",
   "version": "3.10.12"
  }
 },
 "nbformat": 4,
 "nbformat_minor": 2
}
