{
 "cells": [
  {
   "cell_type": "markdown",
   "metadata": {},
   "source": [
    "# Idea\n",
    "Do some training"
   ]
  },
  {
   "cell_type": "code",
   "execution_count": 1,
   "metadata": {},
   "outputs": [],
   "source": [
    "from pathlib import Path\n",
    "\n",
    "import numpy as np\n",
    "import pandas as pd\n",
    "import pickle"
   ]
  },
  {
   "cell_type": "code",
   "execution_count": 2,
   "metadata": {},
   "outputs": [],
   "source": [
    "import sys\n",
    "repo_base_path = Path(\"./../\").resolve()\n",
    "assert str(repo_base_path).endswith(\"csg_is\"), f\"{repo_base_path} is not a valid path to the CSG_IS repository\" \n",
    "\n",
    "sys.path.append(str(repo_base_path))\n",
    "\n",
    "# from py_dataset import get_all_files_df\n",
    "# from py_dataset import read_in_files\n",
    "from py_dataset import feature_plotting\n",
    "# from py_dataset import feature_selection\n",
    "# from py_dataset import net_feature_engineering\n",
    "# from py_dataset import entropy_feature_engineering\n",
    "# from py_dataset.classes import DataSource\n",
    "from py_dataset import sys_func\n",
    "\n"
   ]
  },
  {
   "cell_type": "code",
   "execution_count": 3,
   "metadata": {},
   "outputs": [],
   "source": [
    "df = pd.read_csv('all_df.csv')\n",
    "df.set_index(\"timestamp\", inplace=True)"
   ]
  },
  {
   "cell_type": "code",
   "execution_count": 4,
   "metadata": {},
   "outputs": [
    {
     "data": {
      "text/plain": [
       "array(['1_normal', nan, '2_ransomware', '3_thetick', '4_bashlite',\n",
       "       '5_httpbackdoor', '6_beurk', '7_backdoor', '8_bdvl', '9_xmrig'],\n",
       "      dtype=object)"
      ]
     },
     "execution_count": 4,
     "metadata": {},
     "output_type": "execute_result"
    }
   ],
   "source": [
    "df[\"label\"].unique()"
   ]
  },
  {
   "cell_type": "markdown",
   "metadata": {},
   "source": [
    "### Preprocessings\n",
    "- remove Null values\n",
    "- drop timestamp\n",
    "- labelEncode\n",
    "- normalize"
   ]
  },
  {
   "cell_type": "code",
   "execution_count": 5,
   "metadata": {},
   "outputs": [
    {
     "name": "stdout",
     "output_type": "stream",
     "text": [
      "(43248, 306)\n",
      "(25770, 306)\n"
     ]
    }
   ],
   "source": [
    "print(df.shape)\n",
    "old_df = df.copy()\n",
    "df.dropna(axis=0, how='any', inplace=True)\n",
    "\n",
    "print(df.shape)"
   ]
  },
  {
   "cell_type": "code",
   "execution_count": 6,
   "metadata": {},
   "outputs": [],
   "source": [
    "df.reset_index(inplace=True, drop=True)"
   ]
  },
  {
   "cell_type": "code",
   "execution_count": 7,
   "metadata": {},
   "outputs": [],
   "source": [
    "label_encoder = sys_func.create_label_encoder_for_labels()\n",
    "df['label'] = label_encoder.transform(df['label'])"
   ]
  },
  {
   "cell_type": "code",
   "execution_count": 8,
   "metadata": {},
   "outputs": [],
   "source": [
    "df = feature_plotting.test_transform_all_to_numeric_columns(df)"
   ]
  },
  {
   "cell_type": "code",
   "execution_count": 9,
   "metadata": {},
   "outputs": [],
   "source": [
    "cols_to_exclude_from_scaling = [\"label\"]\n",
    "vectors = feature_plotting.minmax_scale_features(df,remove_outliers_iqr_all_columns=False,\n",
    "                                                        cols_to_exclude_from_scaling=cols_to_exclude_from_scaling)\n",
    "# print(vectors.shape)\n",
    "# print(\" with dropped null: \", vectors.dropna(axis=0, how='any', inplace=False).shape)"
   ]
  },
  {
   "cell_type": "code",
   "execution_count": 10,
   "metadata": {},
   "outputs": [
    {
     "data": {
      "text/plain": [
       "(array([0, 1, 2, 3, 4, 5, 6, 7, 8]), array([0, 1, 2, 3, 4, 5, 6, 7, 8]))"
      ]
     },
     "execution_count": 10,
     "metadata": {},
     "output_type": "execute_result"
    }
   ],
   "source": [
    "df[\"label\"].unique(), vectors[\"label\"].unique()"
   ]
  },
  {
   "cell_type": "markdown",
   "metadata": {},
   "source": [
    "### Setup"
   ]
  },
  {
   "cell_type": "code",
   "execution_count": 11,
   "metadata": {},
   "outputs": [],
   "source": [
    "from torch.utils.data import Dataset, DataLoader\n",
    "import torch\n",
    "\n",
    "class CustomeDataset(Dataset):\n",
    "    def __init__(self, some_df:pd.DataFrame):\n",
    "        \n",
    "        self.x = torch.tensor(some_df.drop(columns=[\"label\"], inplace=False).values, dtype=torch.float32)\n",
    "        self.labels = torch.tensor(some_df[\"label\"].values, dtype=torch.uint8)\n",
    "\n",
    "    def __len__(self):\n",
    "        return len(self.x)\n",
    "\n",
    "    def __getitem__(self, idx):\n",
    "        # if torch.is_tensor(idx):\n",
    "        #     idx = idx.tolist()\n",
    "        # print(self.x[idx], self.labels[idx])\n",
    "        return self.x[idx], self.labels[idx]"
   ]
  },
  {
   "cell_type": "code",
   "execution_count": 17,
   "metadata": {},
   "outputs": [
    {
     "name": "stderr",
     "output_type": "stream",
     "text": [
      "GPU available: True (cuda), used: True\n",
      "TPU available: False, using: 0 TPU cores\n",
      "IPU available: False, using: 0 IPUs\n",
      "HPU available: False, using: 0 HPUs\n"
     ]
    }
   ],
   "source": [
    "from mlp import MalwaresModelMLP\n",
    "from torch.utils.data import DataLoader\n",
    "import lightning\n",
    "from sklearn.model_selection import train_test_split\n",
    "from lightning import loggers as pl_loggers\n",
    "from lightning.pytorch.callbacks.early_stopping import EarlyStopping\n",
    "from lightning.pytorch.callbacks.model_checkpoint import ModelCheckpoint\n",
    "\n",
    "# tensorboard = pl_loggers.TensorBoardLogger('./')\n",
    "\n",
    "# split into train and val\n",
    "train, val = train_test_split(vectors, test_size=0.2)\n",
    "\n",
    "train_dataset = CustomeDataset(train)\n",
    "train_dataloader = DataLoader(train_dataset, batch_size=500, shuffle=True, num_workers=7)\n",
    "\n",
    "val_dataset = CustomeDataset(val)\n",
    "val_dataloader = DataLoader(val_dataset, batch_size=500, shuffle=False, num_workers=7)\n",
    "\n",
    "# trainer = lightning.Trainer(fast_dev_run=100)\n",
    "monitor = \"Validation/Accuracy\"\n",
    "early_stop_callback = EarlyStopping(monitor=monitor, patience=5, verbose=True, mode=\"max\")\n",
    "checkpoint_callback = ModelCheckpoint(save_top_k=1, monitor=monitor, mode=\"max\")\n",
    "\n",
    "trainer = lightning.Trainer(max_epochs=150, callbacks=[early_stop_callback, checkpoint_callback], enable_checkpointing=True) #logger=None, \n",
    "\n",
    "\n",
    "model = MalwaresModelMLP(input_size = vectors.shape[1]-1, output_size = len(label_encoder.classes_))"
   ]
  },
  {
   "cell_type": "code",
   "execution_count": 18,
   "metadata": {},
   "outputs": [
    {
     "name": "stderr",
     "output_type": "stream",
     "text": [
      "LOCAL_RANK: 0 - CUDA_VISIBLE_DEVICES: [0]\n",
      "\n",
      "  | Name          | Type                      | Params\n",
      "------------------------------------------------------------\n",
      "0 | train_metrics | MetricCollection          | 0     \n",
      "1 | val_metrics   | MetricCollection          | 0     \n",
      "2 | test_metrics  | MetricCollection          | 0     \n",
      "3 | cm            | MulticlassConfusionMatrix | 0     \n",
      "4 | criterion     | CrossEntropyLoss          | 0     \n",
      "5 | l1            | Linear                    | 9.2 K \n",
      "6 | l2            | Linear                    | 930   \n",
      "7 | l3            | Linear                    | 279   \n",
      "------------------------------------------------------------\n",
      "10.4 K    Trainable params\n",
      "0         Non-trainable params\n",
      "10.4 K    Total params\n",
      "0.042     Total estimated model params size (MB)\n"
     ]
    },
    {
     "data": {
      "application/vnd.jupyter.widget-view+json": {
       "model_id": "7160d5510ccc465ba0e32036707b5851",
       "version_major": 2,
       "version_minor": 0
      },
      "text/plain": [
       "Sanity Checking: |          | 0/? [00:00<?, ?it/s]"
      ]
     },
     "metadata": {},
     "output_type": "display_data"
    },
    {
     "name": "stdout",
     "output_type": "stream",
     "text": [
      "Epoch end: Validation, epoch number: 0\n",
      "ValidationEpoch/CM\n",
      " tensor([[  0,   0,   0,   0,   0,   0,   0,   0, 101],\n",
      "        [  0,   0,   0,   0,   0,   0,   1,   0, 117],\n",
      "        [  0,   0,   0,   0,   0,   0,   0,   0, 124],\n",
      "        [  0,   0,   0,   0,   0,   0,   0,   0, 105],\n",
      "        [  0,   0,   0,   0,   0,   0,   0,   0,  98],\n",
      "        [  0,   0,   0,   0,   0,   0,   0,   0, 113],\n",
      "        [  0,   0,   0,   0,   0,   0,   0,   0,  94],\n",
      "        [  0,   0,   0,   0,   0,   0,   2,   0, 119],\n",
      "        [  0,   0,   0,   0,   0,   0,   0,   0, 126]])\n"
     ]
    },
    {
     "name": "stderr",
     "output_type": "stream",
     "text": [
      "/home/<User>/repos/csg_is/.venv/lib/python3.10/site-packages/lightning/pytorch/loops/fit_loop.py:298: The number of training batches (42) is smaller than the logging interval Trainer(log_every_n_steps=50). Set a lower value for log_every_n_steps if you want to see logs for the training epoch.\n"
     ]
    },
    {
     "data": {
      "application/vnd.jupyter.widget-view+json": {
       "model_id": "461be380056b4dda97de0a49456be7e3",
       "version_major": 2,
       "version_minor": 0
      },
      "text/plain": [
       "Training: |          | 0/? [00:00<?, ?it/s]"
      ]
     },
     "metadata": {},
     "output_type": "display_data"
    },
    {
     "data": {
      "application/vnd.jupyter.widget-view+json": {
       "model_id": "ce122fbb5836452b83ce72f2ede44c1e",
       "version_major": 2,
       "version_minor": 0
      },
      "text/plain": [
       "Validation: |          | 0/? [00:00<?, ?it/s]"
      ]
     },
     "metadata": {},
     "output_type": "display_data"
    },
    {
     "name": "stdout",
     "output_type": "stream",
     "text": [
      "Epoch end: Validation, epoch number: 1\n",
      "ValidationEpoch/CM\n",
      " tensor([[ 530,  140,  454,  291,  850,    1,  226,    0,  159],\n",
      "        [   0, 3211,    0,    0,    0,    0,    2,    0,  185],\n",
      "        [ 107,  213, 1757,   94,  109,  191,  664,    0,  169],\n",
      "        [ 522,  155,  504,  310,  888,    2,  214,    0,  160],\n",
      "        [ 382,  133,  512,  232, 1191,   17,  195,    0,  151],\n",
      "        [   0,  174,  235,    0,    0, 2344,    5,    0,  175],\n",
      "        [ 214,  166, 1067,  152,  262,   93,  646,    0,  144],\n",
      "        [   0,  137,    0,    0,    0,    0,    3, 2467,  159],\n",
      "        [   0,  122,   13,    0,    0,    0,    0,    0, 3271]])\n"
     ]
    },
    {
     "name": "stderr",
     "output_type": "stream",
     "text": [
      "Metric Validation/Accuracy improved. New best score: 0.661\n"
     ]
    },
    {
     "name": "stdout",
     "output_type": "stream",
     "text": [
      "Epoch end: Train, epoch number: 0\n",
      "TrainEpoch/CM\n",
      " tensor([[ 530,  140,  454,  291,  850,    1,  226,    0,  159],\n",
      "        [   0, 3211,    0,    0,    0,    0,    2,    0,  185],\n",
      "        [ 107,  213, 1757,   94,  109,  191,  664,    0,  169],\n",
      "        [ 522,  155,  504,  310,  888,    2,  214,    0,  160],\n",
      "        [ 382,  133,  512,  232, 1191,   17,  195,    0,  151],\n",
      "        [   0,  174,  235,    0,    0, 2344,    5,    0,  175],\n",
      "        [ 214,  166, 1067,  152,  262,   93,  646,    0,  144],\n",
      "        [   0,  137,    0,    0,    0,    0,    3, 2467,  159],\n",
      "        [   0,  122,   13,    0,    0,    0,    0,    0, 3271]])\n"
     ]
    },
    {
     "data": {
      "application/vnd.jupyter.widget-view+json": {
       "model_id": "f37ed8f1b49546a384711c970a649767",
       "version_major": 2,
       "version_minor": 0
      },
      "text/plain": [
       "Validation: |          | 0/? [00:00<?, ?it/s]"
      ]
     },
     "metadata": {},
     "output_type": "display_data"
    },
    {
     "name": "stdout",
     "output_type": "stream",
     "text": [
      "Epoch end: Validation, epoch number: 2\n",
      "ValidationEpoch/CM\n",
      " tensor([[1911,  140,  469,  876, 1221,    1,  424,    0,  159],\n",
      "        [   0, 6491,    0,    0,    0,    0,    2,    0,  185],\n",
      "        [ 159,  213, 4087,  137,  113,  221, 1385,    0,  169],\n",
      "        [1596,  155,  547, 1149, 1287,    2,  504,    0,  165],\n",
      "        [ 653,  133,  533,  480, 3268,   29,  281,    0,  151],\n",
      "        [   0,  179,  238,    0,    0, 5156,    5,    0,  175],\n",
      "        [ 485,  166, 2044,  473,  323,  110, 1649,    0,  144],\n",
      "        [   0,  137,    0,    0,    0,    0,    3, 5112,  159],\n",
      "        [   0,  122,   13,    0,    0,    0,    0,    0, 6551]])\n",
      "Epoch end: Train, epoch number: 1\n",
      "TrainEpoch/CM\n",
      " tensor([[1911,  140,  469,  876, 1221,    1,  424,    0,  159],\n",
      "        [   0, 6491,    0,    0,    0,    0,    2,    0,  185],\n",
      "        [ 159,  213, 4087,  137,  113,  221, 1385,    0,  169],\n",
      "        [1596,  155,  547, 1149, 1287,    2,  504,    0,  165],\n",
      "        [ 653,  133,  533,  480, 3268,   29,  281,    0,  151],\n",
      "        [   0,  179,  238,    0,    0, 5156,    5,    0,  175],\n",
      "        [ 485,  166, 2044,  473,  323,  110, 1649,    0,  144],\n",
      "        [   0,  137,    0,    0,    0,    0,    3, 5112,  159],\n",
      "        [   0,  122,   13,    0,    0,    0,    0,    0, 6551]])\n"
     ]
    },
    {
     "name": "stderr",
     "output_type": "stream",
     "text": [
      "Metric Validation/Accuracy improved by 0.131 >= min_delta = 0.0. New best score: 0.792\n"
     ]
    },
    {
     "data": {
      "application/vnd.jupyter.widget-view+json": {
       "model_id": "e5d8d374704d466397a46851395ddb86",
       "version_major": 2,
       "version_minor": 0
      },
      "text/plain": [
       "Validation: |          | 0/? [00:00<?, ?it/s]"
      ]
     },
     "metadata": {},
     "output_type": "display_data"
    },
    {
     "name": "stdout",
     "output_type": "stream",
     "text": [
      "Epoch end: Validation, epoch number: 3\n",
      "ValidationEpoch/CM\n",
      " tensor([[3492,  140,  469, 1650, 1294,    1,  546,    0,  159],\n",
      "        [   0, 9771,    0,    0,    0,    0,    2,    0,  185],\n",
      "        [ 181,  213, 6572,  184,  115,  240, 1990,    0,  169],\n",
      "        [2728,  155,  558, 2364, 1349,    2,  734,    0,  165],\n",
      "        [ 745,  133,  539,  572, 5770,   29,  304,    0,  151],\n",
      "        [   0,  179,  245,    0,    0, 7969,    5,    0,  175],\n",
      "        [ 659,  166, 3014,  916,  338,  116, 2691,    0,  144],\n",
      "        [   0,  137,    0,    0,    0,    0,    3, 7757,  159],\n",
      "        [   0,  122,   13,    0,    0,    0,    0,    0, 9831]])\n",
      "Epoch end: Train, epoch number: 2\n"
     ]
    },
    {
     "name": "stderr",
     "output_type": "stream",
     "text": [
      "Metric Validation/Accuracy improved by 0.028 >= min_delta = 0.0. New best score: 0.820\n"
     ]
    },
    {
     "name": "stdout",
     "output_type": "stream",
     "text": [
      "TrainEpoch/CM\n",
      " tensor([[3492,  140,  469, 1650, 1294,    1,  546,    0,  159],\n",
      "        [   0, 9771,    0,    0,    0,    0,    2,    0,  185],\n",
      "        [ 181,  213, 6572,  184,  115,  240, 1990,    0,  169],\n",
      "        [2728,  155,  558, 2364, 1349,    2,  734,    0,  165],\n",
      "        [ 745,  133,  539,  572, 5770,   29,  304,    0,  151],\n",
      "        [   0,  179,  245,    0,    0, 7969,    5,    0,  175],\n",
      "        [ 659,  166, 3014,  916,  338,  116, 2691,    0,  144],\n",
      "        [   0,  137,    0,    0,    0,    0,    3, 7757,  159],\n",
      "        [   0,  122,   13,    0,    0,    0,    0,    0, 9831]])\n"
     ]
    },
    {
     "data": {
      "application/vnd.jupyter.widget-view+json": {
       "model_id": "62bf87faff664d86951c0c04e1d25198",
       "version_major": 2,
       "version_minor": 0
      },
      "text/plain": [
       "Validation: |          | 0/? [00:00<?, ?it/s]"
      ]
     },
     "metadata": {},
     "output_type": "display_data"
    },
    {
     "name": "stdout",
     "output_type": "stream",
     "text": [
      "Epoch end: Validation, epoch number: 4\n",
      "ValidationEpoch/CM\n",
      " tensor([[ 5314,   140,   469,  2282,  1297,     1,   639,     0,   159],\n",
      "        [    0, 13051,     0,     0,     0,     0,     2,     0,   185],\n",
      "        [  193,   213,  9080,   201,   115,   251,  2622,     0,   169],\n",
      "        [ 3795,   155,   571,  3743,  1356,     2,   918,     0,   165],\n",
      "        [  779,   133,   542,   632,  8377,    29,   315,     0,   151],\n",
      "        [    0,   179,   247,     0,     0, 10787,     5,     0,   175],\n",
      "        [  764,   166,  3933,  1217,   341,   123,  4006,     0,   144],\n",
      "        [    0,   137,     0,     0,     0,     0,     3, 10402,   159],\n",
      "        [    0,   122,    13,     0,     0,     0,     0,     0, 13111]])\n",
      "Epoch end: Train, epoch number: 3\n",
      "TrainEpoch/CM\n",
      " tensor([[ 5314,   140,   469,  2282,  1297,     1,   639,     0,   159],\n",
      "        [    0, 13051,     0,     0,     0,     0,     2,     0,   185],\n",
      "        [  193,   213,  9080,   201,   115,   251,  2622,     0,   169],\n",
      "        [ 3795,   155,   571,  3743,  1356,     2,   918,     0,   165],\n",
      "        [  779,   133,   542,   632,  8377,    29,   315,     0,   151],\n",
      "        [    0,   179,   247,     0,     0, 10787,     5,     0,   175],\n",
      "        [  764,   166,  3933,  1217,   341,   123,  4006,     0,   144],\n",
      "        [    0,   137,     0,     0,     0,     0,     3, 10402,   159],\n",
      "        [    0,   122,    13,     0,     0,     0,     0,     0, 13111]])\n"
     ]
    },
    {
     "name": "stderr",
     "output_type": "stream",
     "text": [
      "Metric Validation/Accuracy improved by 0.023 >= min_delta = 0.0. New best score: 0.843\n"
     ]
    },
    {
     "data": {
      "application/vnd.jupyter.widget-view+json": {
       "model_id": "f9dea16897ae434286e194ef674fdf3d",
       "version_major": 2,
       "version_minor": 0
      },
      "text/plain": [
       "Validation: |          | 0/? [00:00<?, ?it/s]"
      ]
     },
     "metadata": {},
     "output_type": "display_data"
    },
    {
     "name": "stdout",
     "output_type": "stream",
     "text": [
      "Epoch end: Validation, epoch number: 5\n",
      "ValidationEpoch/CM\n",
      " tensor([[ 7295,   140,   469,  2808,  1303,     1,   676,     0,   159],\n",
      "        [    0, 16331,     0,     0,     0,     0,     2,     0,   185],\n",
      "        [  195,   213, 11490,   217,   115,   254,  3371,     0,   169],\n",
      "        [ 4886,   155,   580,  5171,  1356,     2,  1040,     0,   165],\n",
      "        [  806,   133,   542,   664, 11024,    29,   324,     0,   151],\n",
      "        [    0,   179,   247,     0,     0, 13607,     5,     0,   175],\n",
      "        [  922,   166,  4668,  1477,   343,   125,  5499,     0,   144],\n",
      "        [    0,   137,     0,     0,     0,     0,     3, 13047,   159],\n",
      "        [    0,   122,    13,     0,     0,     0,     0,     0, 16391]])\n",
      "Epoch end: Train, epoch number: 4\n",
      "TrainEpoch/CM\n",
      " tensor([[ 7295,   140,   469,  2808,  1303,     1,   676,     0,   159],\n",
      "        [    0, 16331,     0,     0,     0,     0,     2,     0,   185],\n",
      "        [  195,   213, 11490,   217,   115,   254,  3371,     0,   169],\n",
      "        [ 4886,   155,   580,  5171,  1356,     2,  1040,     0,   165],\n",
      "        [  806,   133,   542,   664, 11024,    29,   324,     0,   151],\n",
      "        [    0,   179,   247,     0,     0, 13607,     5,     0,   175],\n",
      "        [  922,   166,  4668,  1477,   343,   125,  5499,     0,   144],\n",
      "        [    0,   137,     0,     0,     0,     0,     3, 13047,   159],\n",
      "        [    0,   122,    13,     0,     0,     0,     0,     0, 16391]])\n"
     ]
    },
    {
     "data": {
      "application/vnd.jupyter.widget-view+json": {
       "model_id": "3a8015b0ab9a4a47b2d191d82161f87e",
       "version_major": 2,
       "version_minor": 0
      },
      "text/plain": [
       "Validation: |          | 0/? [00:00<?, ?it/s]"
      ]
     },
     "metadata": {},
     "output_type": "display_data"
    },
    {
     "name": "stdout",
     "output_type": "stream",
     "text": [
      "Epoch end: Validation, epoch number: 6\n",
      "ValidationEpoch/CM\n",
      " tensor([[ 9054,   140,   469,  3558,  1303,     1,   717,     0,   159],\n",
      "        [    0, 19611,     0,     0,     0,     0,     2,     0,   185],\n",
      "        [  196,   213, 14177,   221,   115,   258,  3855,     0,   169],\n",
      "        [ 5415,   155,   586,  7172,  1361,     2,  1149,     0,   165],\n",
      "        [  811,   133,   542,   699, 13693,    29,   330,     0,   151],\n",
      "        [    0,   179,   247,     0,     0, 16427,     5,     0,   175],\n",
      "        [  991,   166,  5545,  1726,   344,   131,  6947,     0,   144],\n",
      "        [    0,   137,     0,     0,     0,     0,     3, 15692,   159],\n",
      "        [    0,   122,    13,     0,     0,     0,     0,     0, 19671]])\n",
      "Epoch end: Train, epoch number: 5\n",
      "TrainEpoch/CM\n",
      " tensor([[ 9054,   140,   469,  3558,  1303,     1,   717,     0,   159],\n",
      "        [    0, 19611,     0,     0,     0,     0,     2,     0,   185],\n",
      "        [  196,   213, 14177,   221,   115,   258,  3855,     0,   169],\n",
      "        [ 5415,   155,   586,  7172,  1361,     2,  1149,     0,   165],\n",
      "        [  811,   133,   542,   699, 13693,    29,   330,     0,   151],\n",
      "        [    0,   179,   247,     0,     0, 16427,     5,     0,   175],\n",
      "        [  991,   166,  5545,  1726,   344,   131,  6947,     0,   144],\n",
      "        [    0,   137,     0,     0,     0,     0,     3, 15692,   159],\n",
      "        [    0,   122,    13,     0,     0,     0,     0,     0, 19671]])\n"
     ]
    },
    {
     "name": "stderr",
     "output_type": "stream",
     "text": [
      "Metric Validation/Accuracy improved by 0.009 >= min_delta = 0.0. New best score: 0.852\n"
     ]
    },
    {
     "data": {
      "application/vnd.jupyter.widget-view+json": {
       "model_id": "73db6621c46047bd8f9a152d07f88ffa",
       "version_major": 2,
       "version_minor": 0
      },
      "text/plain": [
       "Validation: |          | 0/? [00:00<?, ?it/s]"
      ]
     },
     "metadata": {},
     "output_type": "display_data"
    },
    {
     "name": "stdout",
     "output_type": "stream",
     "text": [
      "Epoch end: Validation, epoch number: 7\n",
      "ValidationEpoch/CM\n",
      " tensor([[11216,   140,   469,  3912,  1307,     1,   747,     0,   159],\n",
      "        [    0, 22891,     0,     0,     0,     0,     2,     0,   185],\n",
      "        [  196,   213, 16698,   228,   115,   261,  4504,     0,   169],\n",
      "        [ 5838,   155,   589,  9311,  1365,     2,  1230,     0,   165],\n",
      "        [  821,   133,   542,   725, 16362,    29,   340,     0,   151],\n",
      "        [    0,   179,   250,     0,     0, 19240,     9,     0,   175],\n",
      "        [ 1043,   166,  6189,  2037,   346,   136,  8583,     0,   144],\n",
      "        [    0,   137,     0,     0,     0,     0,     3, 18337,   159],\n",
      "        [    0,   122,    13,     0,     0,     0,     0,     0, 22951]])\n",
      "Epoch end: Train, epoch number: 6\n",
      "TrainEpoch/CM\n",
      " tensor([[11216,   140,   469,  3912,  1307,     1,   747,     0,   159],\n",
      "        [    0, 22891,     0,     0,     0,     0,     2,     0,   185],\n",
      "        [  196,   213, 16698,   228,   115,   261,  4504,     0,   169],\n",
      "        [ 5838,   155,   589,  9311,  1365,     2,  1230,     0,   165],\n",
      "        [  821,   133,   542,   725, 16362,    29,   340,     0,   151],\n",
      "        [    0,   179,   250,     0,     0, 19240,     9,     0,   175],\n",
      "        [ 1043,   166,  6189,  2037,   346,   136,  8583,     0,   144],\n",
      "        [    0,   137,     0,     0,     0,     0,     3, 18337,   159],\n",
      "        [    0,   122,    13,     0,     0,     0,     0,     0, 22951]])\n"
     ]
    },
    {
     "name": "stderr",
     "output_type": "stream",
     "text": [
      "Metric Validation/Accuracy improved by 0.058 >= min_delta = 0.0. New best score: 0.910\n"
     ]
    },
    {
     "data": {
      "application/vnd.jupyter.widget-view+json": {
       "model_id": "ca4bbc4e853a41a09d284cc8e678f244",
       "version_major": 2,
       "version_minor": 0
      },
      "text/plain": [
       "Validation: |          | 0/? [00:00<?, ?it/s]"
      ]
     },
     "metadata": {},
     "output_type": "display_data"
    },
    {
     "name": "stdout",
     "output_type": "stream",
     "text": [
      "Epoch end: Validation, epoch number: 8\n",
      "ValidationEpoch/CM\n",
      " tensor([[13601,   140,   469,  4041,  1308,     1,   782,     0,   159],\n",
      "        [    0, 26171,     0,     0,     0,     0,     2,     0,   185],\n",
      "        [  196,   213, 19375,   233,   115,   264,  4999,     0,   169],\n",
      "        [ 6033,   155,   594, 11625,  1365,     2,  1366,     0,   165],\n",
      "        [  821,   133,   542,   729, 19071,    29,   342,     0,   151],\n",
      "        [    0,   179,   250,     0,     0, 22060,     9,     0,   175],\n",
      "        [ 1063,   166,  6732,  2273,   346,   140, 10430,     0,   144],\n",
      "        [    0,   137,     0,     0,     0,     0,     3, 20982,   159],\n",
      "        [    0,   122,    13,     0,     0,     0,     0,     0, 26231]])\n",
      "Epoch end: Train, epoch number: 7\n",
      "TrainEpoch/CM\n",
      " tensor([[13601,   140,   469,  4041,  1308,     1,   782,     0,   159],\n",
      "        [    0, 26171,     0,     0,     0,     0,     2,     0,   185],\n",
      "        [  196,   213, 19375,   233,   115,   264,  4999,     0,   169],\n",
      "        [ 6033,   155,   594, 11625,  1365,     2,  1366,     0,   165],\n",
      "        [  821,   133,   542,   729, 19071,    29,   342,     0,   151],\n",
      "        [    0,   179,   250,     0,     0, 22060,     9,     0,   175],\n",
      "        [ 1063,   166,  6732,  2273,   346,   140, 10430,     0,   144],\n",
      "        [    0,   137,     0,     0,     0,     0,     3, 20982,   159],\n",
      "        [    0,   122,    13,     0,     0,     0,     0,     0, 26231]])\n"
     ]
    },
    {
     "name": "stderr",
     "output_type": "stream",
     "text": [
      "Metric Validation/Accuracy improved by 0.025 >= min_delta = 0.0. New best score: 0.935\n"
     ]
    },
    {
     "data": {
      "application/vnd.jupyter.widget-view+json": {
       "model_id": "e8c3ad75558e4c6faf4776256f9bfad4",
       "version_major": 2,
       "version_minor": 0
      },
      "text/plain": [
       "Validation: |          | 0/? [00:00<?, ?it/s]"
      ]
     },
     "metadata": {},
     "output_type": "display_data"
    },
    {
     "name": "stdout",
     "output_type": "stream",
     "text": [
      "Epoch end: Validation, epoch number: 9\n",
      "ValidationEpoch/CM\n",
      " tensor([[16067,   140,   469,  4110,  1308,     1,   797,     0,   159],\n",
      "        [    0, 29451,     0,     0,     0,     0,     2,     0,   185],\n",
      "        [  196,   213, 21903,   240,   115,   264,  5644,     0,   169],\n",
      "        [ 6225,   155,   596, 13999,  1365,     2,  1448,     0,   165],\n",
      "        [  821,   133,   542,   731, 21784,    29,   342,     0,   151],\n",
      "        [    0,   179,   251,     0,     0, 24879,     9,     0,   175],\n",
      "        [ 1088,   166,  7175,  2475,   346,   143, 12407,     0,   144],\n",
      "        [    0,   137,     0,     0,     0,     0,     3, 23627,   159],\n",
      "        [    0,   122,    13,     0,     0,     0,     0,     0, 29511]])\n",
      "Epoch end: Train, epoch number: 8\n",
      "TrainEpoch/CM\n",
      " tensor([[16067,   140,   469,  4110,  1308,     1,   797,     0,   159],\n",
      "        [    0, 29451,     0,     0,     0,     0,     2,     0,   185],\n",
      "        [  196,   213, 21903,   240,   115,   264,  5644,     0,   169],\n",
      "        [ 6225,   155,   596, 13999,  1365,     2,  1448,     0,   165],\n",
      "        [  821,   133,   542,   731, 21784,    29,   342,     0,   151],\n",
      "        [    0,   179,   251,     0,     0, 24879,     9,     0,   175],\n",
      "        [ 1088,   166,  7175,  2475,   346,   143, 12407,     0,   144],\n",
      "        [    0,   137,     0,     0,     0,     0,     3, 23627,   159],\n",
      "        [    0,   122,    13,     0,     0,     0,     0,     0, 29511]])\n"
     ]
    },
    {
     "data": {
      "application/vnd.jupyter.widget-view+json": {
       "model_id": "60f8715d53c5438aa21fe7c15b88f3b4",
       "version_major": 2,
       "version_minor": 0
      },
      "text/plain": [
       "Validation: |          | 0/? [00:00<?, ?it/s]"
      ]
     },
     "metadata": {},
     "output_type": "display_data"
    },
    {
     "name": "stdout",
     "output_type": "stream",
     "text": [
      "Epoch end: Validation, epoch number: 10\n",
      "ValidationEpoch/CM\n",
      " tensor([[18581,   140,   469,  4138,  1308,     1,   805,     0,   159],\n",
      "        [    0, 32731,     0,     0,     0,     0,     2,     0,   185],\n",
      "        [  196,   213, 24656,   240,   115,   264,  6071,     0,   169],\n",
      "        [ 6275,   155,   601, 16526,  1365,     2,  1516,     0,   165],\n",
      "        [  821,   133,   542,   732, 24498,    29,   342,     0,   151],\n",
      "        [    0,   179,   251,     0,     0, 27699,     9,     0,   175],\n",
      "        [ 1099,   166,  7582,  2669,   347,   147, 14440,     0,   144],\n",
      "        [    0,   137,     0,     0,     0,     0,     3, 26272,   159],\n",
      "        [    0,   122,    13,     0,     0,     0,     0,     0, 32791]])\n",
      "Epoch end: Train, epoch number: 9\n",
      "TrainEpoch/CM\n",
      " tensor([[18581,   140,   469,  4138,  1308,     1,   805,     0,   159],\n",
      "        [    0, 32731,     0,     0,     0,     0,     2,     0,   185],\n",
      "        [  196,   213, 24656,   240,   115,   264,  6071,     0,   169],\n",
      "        [ 6275,   155,   601, 16526,  1365,     2,  1516,     0,   165],\n",
      "        [  821,   133,   542,   732, 24498,    29,   342,     0,   151],\n",
      "        [    0,   179,   251,     0,     0, 27699,     9,     0,   175],\n",
      "        [ 1099,   166,  7582,  2669,   347,   147, 14440,     0,   144],\n",
      "        [    0,   137,     0,     0,     0,     0,     3, 26272,   159],\n",
      "        [    0,   122,    13,     0,     0,     0,     0,     0, 32791]])\n"
     ]
    },
    {
     "name": "stderr",
     "output_type": "stream",
     "text": [
      "Metric Validation/Accuracy improved by 0.020 >= min_delta = 0.0. New best score: 0.955\n"
     ]
    },
    {
     "data": {
      "application/vnd.jupyter.widget-view+json": {
       "model_id": "c3f41d154ada4c1fa6e730deb4f13c61",
       "version_major": 2,
       "version_minor": 0
      },
      "text/plain": [
       "Validation: |          | 0/? [00:00<?, ?it/s]"
      ]
     },
     "metadata": {},
     "output_type": "display_data"
    },
    {
     "name": "stdout",
     "output_type": "stream",
     "text": [
      "Epoch end: Validation, epoch number: 11\n",
      "ValidationEpoch/CM\n",
      " tensor([[21098,   140,   469,  4162,  1308,     1,   814,     0,   159],\n",
      "        [    0, 36011,     0,     0,     0,     0,     2,     0,   185],\n",
      "        [  196,   213, 27448,   245,   115,   264,  6454,     0,   169],\n",
      "        [ 6322,   155,   606, 19038,  1365,     2,  1602,     0,   165],\n",
      "        [  821,   133,   542,   733, 27212,    29,   342,     0,   151],\n",
      "        [    0,   179,   251,     0,     0, 30519,     9,     0,   175],\n",
      "        [ 1109,   166,  7963,  2873,   347,   153, 16489,     0,   144],\n",
      "        [    0,   137,     0,     0,     0,     0,     3, 28917,   159],\n",
      "        [    0,   122,    13,     0,     0,     0,     0,     0, 36071]])\n",
      "Epoch end: Train, epoch number: 10\n",
      "TrainEpoch/CM\n",
      " tensor([[21098,   140,   469,  4162,  1308,     1,   814,     0,   159],\n",
      "        [    0, 36011,     0,     0,     0,     0,     2,     0,   185],\n",
      "        [  196,   213, 27448,   245,   115,   264,  6454,     0,   169],\n",
      "        [ 6322,   155,   606, 19038,  1365,     2,  1602,     0,   165],\n",
      "        [  821,   133,   542,   733, 27212,    29,   342,     0,   151],\n",
      "        [    0,   179,   251,     0,     0, 30519,     9,     0,   175],\n",
      "        [ 1109,   166,  7963,  2873,   347,   153, 16489,     0,   144],\n",
      "        [    0,   137,     0,     0,     0,     0,     3, 28917,   159],\n",
      "        [    0,   122,    13,     0,     0,     0,     0,     0, 36071]])\n"
     ]
    },
    {
     "name": "stderr",
     "output_type": "stream",
     "text": [
      "Metric Validation/Accuracy improved by 0.006 >= min_delta = 0.0. New best score: 0.961\n"
     ]
    },
    {
     "data": {
      "application/vnd.jupyter.widget-view+json": {
       "model_id": "0c7104c2dd5441d8bbb6e47abf59d702",
       "version_major": 2,
       "version_minor": 0
      },
      "text/plain": [
       "Validation: |          | 0/? [00:00<?, ?it/s]"
      ]
     },
     "metadata": {},
     "output_type": "display_data"
    },
    {
     "name": "stdout",
     "output_type": "stream",
     "text": [
      "Epoch end: Validation, epoch number: 12\n",
      "ValidationEpoch/CM\n",
      " tensor([[23547,   140,   469,  4243,  1308,     1,   834,     0,   159],\n",
      "        [    0, 39291,     0,     0,     0,     0,     2,     0,   185],\n",
      "        [  196,   213, 30304,   246,   115,   264,  6777,     0,   169],\n",
      "        [ 6396,   155,   611, 21546,  1365,     2,  1665,     0,   165],\n",
      "        [  821,   133,   542,   734, 29926,    29,   342,     0,   151],\n",
      "        [    0,   179,   251,     0,     0, 33339,     9,     0,   175],\n",
      "        [ 1121,   166,  8341,  3062,   348,   155, 18557,     0,   144],\n",
      "        [    0,   137,     0,     0,     0,     0,     3, 31562,   159],\n",
      "        [    0,   122,    13,     0,     0,     0,     0,     0, 39351]])\n",
      "Epoch end: Train, epoch number: 11\n",
      "TrainEpoch/CM\n",
      " tensor([[23547,   140,   469,  4243,  1308,     1,   834,     0,   159],\n",
      "        [    0, 39291,     0,     0,     0,     0,     2,     0,   185],\n",
      "        [  196,   213, 30304,   246,   115,   264,  6777,     0,   169],\n",
      "        [ 6396,   155,   611, 21546,  1365,     2,  1665,     0,   165],\n",
      "        [  821,   133,   542,   734, 29926,    29,   342,     0,   151],\n",
      "        [    0,   179,   251,     0,     0, 33339,     9,     0,   175],\n",
      "        [ 1121,   166,  8341,  3062,   348,   155, 18557,     0,   144],\n",
      "        [    0,   137,     0,     0,     0,     0,     3, 31562,   159],\n",
      "        [    0,   122,    13,     0,     0,     0,     0,     0, 39351]])\n"
     ]
    },
    {
     "data": {
      "application/vnd.jupyter.widget-view+json": {
       "model_id": "5c85a8b8be834cc986dd2f18c13c979e",
       "version_major": 2,
       "version_minor": 0
      },
      "text/plain": [
       "Validation: |          | 0/? [00:00<?, ?it/s]"
      ]
     },
     "metadata": {},
     "output_type": "display_data"
    },
    {
     "name": "stdout",
     "output_type": "stream",
     "text": [
      "Epoch end: Validation, epoch number: 13\n",
      "ValidationEpoch/CM\n",
      " tensor([[26062,   140,   469,  4268,  1308,     1,   844,     0,   159],\n",
      "        [    0, 42571,     0,     0,     0,     0,     2,     0,   185],\n",
      "        [  196,   213, 33180,   246,   115,   266,  7079,     0,   169],\n",
      "        [ 6437,   155,   616, 24075,  1365,     2,  1740,     0,   165],\n",
      "        [  821,   133,   542,   735, 32635,    29,   347,     0,   151],\n",
      "        [    0,   179,   253,     0,     0, 36155,    11,     0,   175],\n",
      "        [ 1133,   166,  8734,  3233,   349,   161, 20624,     0,   144],\n",
      "        [    0,   137,     0,     0,     0,     0,     3, 34207,   159],\n",
      "        [    0,   122,    13,     0,     0,     0,     0,     0, 42631]])\n",
      "Epoch end: Train, epoch number: 12\n"
     ]
    },
    {
     "name": "stderr",
     "output_type": "stream",
     "text": [
      "Metric Validation/Accuracy improved by 0.005 >= min_delta = 0.0. New best score: 0.966\n"
     ]
    },
    {
     "name": "stdout",
     "output_type": "stream",
     "text": [
      "TrainEpoch/CM\n",
      " tensor([[26062,   140,   469,  4268,  1308,     1,   844,     0,   159],\n",
      "        [    0, 42571,     0,     0,     0,     0,     2,     0,   185],\n",
      "        [  196,   213, 33180,   246,   115,   266,  7079,     0,   169],\n",
      "        [ 6437,   155,   616, 24075,  1365,     2,  1740,     0,   165],\n",
      "        [  821,   133,   542,   735, 32635,    29,   347,     0,   151],\n",
      "        [    0,   179,   253,     0,     0, 36155,    11,     0,   175],\n",
      "        [ 1133,   166,  8734,  3233,   349,   161, 20624,     0,   144],\n",
      "        [    0,   137,     0,     0,     0,     0,     3, 34207,   159],\n",
      "        [    0,   122,    13,     0,     0,     0,     0,     0, 42631]])\n"
     ]
    },
    {
     "data": {
      "application/vnd.jupyter.widget-view+json": {
       "model_id": "128a49c0a61c4d1399f23ddbbb5c95f7",
       "version_major": 2,
       "version_minor": 0
      },
      "text/plain": [
       "Validation: |          | 0/? [00:00<?, ?it/s]"
      ]
     },
     "metadata": {},
     "output_type": "display_data"
    },
    {
     "name": "stdout",
     "output_type": "stream",
     "text": [
      "Epoch end: Validation, epoch number: 14\n",
      "ValidationEpoch/CM\n",
      " tensor([[28606,   140,   469,  4274,  1308,     1,   844,     0,   159],\n",
      "        [    0, 45851,     0,     0,     0,     0,     2,     0,   185],\n",
      "        [  196,   213, 36133,   248,   115,   266,  7304,     0,   169],\n",
      "        [ 6449,   155,   622, 26633,  1365,     2,  1814,     0,   165],\n",
      "        [  821,   133,   542,   735, 35350,    29,   347,     0,   151],\n",
      "        [    0,   179,   253,     0,     0, 38975,    11,     0,   175],\n",
      "        [ 1136,   166,  8988,  3394,   349,   164, 22853,     0,   144],\n",
      "        [    0,   137,     0,     0,     0,     0,     3, 36852,   159],\n",
      "        [    0,   122,    13,     0,     0,     0,     0,     0, 45911]])\n"
     ]
    },
    {
     "name": "stderr",
     "output_type": "stream",
     "text": [
      "Metric Validation/Accuracy improved by 0.006 >= min_delta = 0.0. New best score: 0.972\n"
     ]
    },
    {
     "name": "stdout",
     "output_type": "stream",
     "text": [
      "Epoch end: Train, epoch number: 13\n",
      "TrainEpoch/CM\n",
      " tensor([[28606,   140,   469,  4274,  1308,     1,   844,     0,   159],\n",
      "        [    0, 45851,     0,     0,     0,     0,     2,     0,   185],\n",
      "        [  196,   213, 36133,   248,   115,   266,  7304,     0,   169],\n",
      "        [ 6449,   155,   622, 26633,  1365,     2,  1814,     0,   165],\n",
      "        [  821,   133,   542,   735, 35350,    29,   347,     0,   151],\n",
      "        [    0,   179,   253,     0,     0, 38975,    11,     0,   175],\n",
      "        [ 1136,   166,  8988,  3394,   349,   164, 22853,     0,   144],\n",
      "        [    0,   137,     0,     0,     0,     0,     3, 36852,   159],\n",
      "        [    0,   122,    13,     0,     0,     0,     0,     0, 45911]])\n"
     ]
    },
    {
     "data": {
      "application/vnd.jupyter.widget-view+json": {
       "model_id": "98daf3cfa29b410cbc70710c132e7a5c",
       "version_major": 2,
       "version_minor": 0
      },
      "text/plain": [
       "Validation: |          | 0/? [00:00<?, ?it/s]"
      ]
     },
     "metadata": {},
     "output_type": "display_data"
    },
    {
     "name": "stdout",
     "output_type": "stream",
     "text": [
      "Epoch end: Validation, epoch number: 15\n",
      "ValidationEpoch/CM\n",
      " tensor([[31150,   140,   469,  4276,  1308,     1,   848,     0,   159],\n",
      "        [    0, 49131,     0,     0,     0,     0,     2,     0,   185],\n",
      "        [  196,   213, 39021,   260,   115,   266,  7584,     0,   169],\n",
      "        [ 6463,   155,   627, 29147,  1365,     2,  1931,     0,   165],\n",
      "        [  821,   133,   542,   735, 38065,    29,   347,     0,   151],\n",
      "        [    0,   179,   253,     0,     0, 41795,    11,     0,   175],\n",
      "        [ 1139,   166,  9226,  3604,   349,   168, 25048,     0,   144],\n",
      "        [    0,   137,     0,     0,     0,     0,     3, 39497,   159],\n",
      "        [    0,   122,    13,     0,     0,     0,     0,     0, 49191]])\n",
      "Epoch end: Train, epoch number: 14\n",
      "TrainEpoch/CM\n",
      " tensor([[31150,   140,   469,  4276,  1308,     1,   848,     0,   159],\n",
      "        [    0, 49131,     0,     0,     0,     0,     2,     0,   185],\n",
      "        [  196,   213, 39021,   260,   115,   266,  7584,     0,   169],\n",
      "        [ 6463,   155,   627, 29147,  1365,     2,  1931,     0,   165],\n",
      "        [  821,   133,   542,   735, 38065,    29,   347,     0,   151],\n",
      "        [    0,   179,   253,     0,     0, 41795,    11,     0,   175],\n",
      "        [ 1139,   166,  9226,  3604,   349,   168, 25048,     0,   144],\n",
      "        [    0,   137,     0,     0,     0,     0,     3, 39497,   159],\n",
      "        [    0,   122,    13,     0,     0,     0,     0,     0, 49191]])\n"
     ]
    },
    {
     "data": {
      "application/vnd.jupyter.widget-view+json": {
       "model_id": "bbffb95306994d44838df2a51198526b",
       "version_major": 2,
       "version_minor": 0
      },
      "text/plain": [
       "Validation: |          | 0/? [00:00<?, ?it/s]"
      ]
     },
     "metadata": {},
     "output_type": "display_data"
    },
    {
     "name": "stdout",
     "output_type": "stream",
     "text": [
      "Epoch end: Validation, epoch number: 16\n",
      "ValidationEpoch/CM\n",
      " tensor([[33695,   140,   469,  4281,  1308,     1,   848,     0,   159],\n",
      "        [    0, 52411,     0,     0,     0,     0,     2,     0,   185],\n",
      "        [  196,   213, 41816,   262,   115,   266,  7967,     0,   169],\n",
      "        [ 6476,   155,   632, 31720,  1365,     2,  1990,     0,   165],\n",
      "        [  821,   133,   542,   735, 40780,    29,   347,     0,   151],\n",
      "        [    0,   179,   253,     0,     0, 44613,    13,     0,   175],\n",
      "        [ 1143,   166,  9423,  3766,   349,   170, 27333,     0,   144],\n",
      "        [    0,   137,     0,     0,     0,     0,     3, 42142,   159],\n",
      "        [    0,   122,    13,     0,     0,     0,     0,     0, 52471]])\n",
      "Epoch end: Train, epoch number: 15\n",
      "TrainEpoch/CM\n",
      " tensor([[33695,   140,   469,  4281,  1308,     1,   848,     0,   159],\n",
      "        [    0, 52411,     0,     0,     0,     0,     2,     0,   185],\n",
      "        [  196,   213, 41816,   262,   115,   266,  7967,     0,   169],\n",
      "        [ 6476,   155,   632, 31720,  1365,     2,  1990,     0,   165],\n",
      "        [  821,   133,   542,   735, 40780,    29,   347,     0,   151],\n",
      "        [    0,   179,   253,     0,     0, 44613,    13,     0,   175],\n",
      "        [ 1143,   166,  9423,  3766,   349,   170, 27333,     0,   144],\n",
      "        [    0,   137,     0,     0,     0,     0,     3, 42142,   159],\n",
      "        [    0,   122,    13,     0,     0,     0,     0,     0, 52471]])\n"
     ]
    },
    {
     "data": {
      "application/vnd.jupyter.widget-view+json": {
       "model_id": "3d1ded290880436cb300257f8e20a4f7",
       "version_major": 2,
       "version_minor": 0
      },
      "text/plain": [
       "Validation: |          | 0/? [00:00<?, ?it/s]"
      ]
     },
     "metadata": {},
     "output_type": "display_data"
    },
    {
     "name": "stdout",
     "output_type": "stream",
     "text": [
      "Epoch end: Validation, epoch number: 17\n",
      "ValidationEpoch/CM\n",
      " tensor([[36217,   140,   469,  4307,  1308,     1,   850,     0,   159],\n",
      "        [    0, 55691,     0,     0,     0,     0,     2,     0,   185],\n",
      "        [  196,   213, 44639,   262,   115,   267,  8323,     0,   169],\n",
      "        [ 6511,   155,   634, 34274,  1365,     2,  2049,     0,   165],\n",
      "        [  821,   133,   542,   735, 43495,    29,   347,     0,   151],\n",
      "        [    0,   179,   255,     0,     0, 47431,    13,     0,   175],\n",
      "        [ 1148,   166,  9699,  3930,   349,   176, 29532,     0,   144],\n",
      "        [    0,   137,     0,     0,     0,     0,     3, 44787,   159],\n",
      "        [    0,   122,    13,     0,     0,     0,     0,     0, 55751]])\n",
      "Epoch end: Train, epoch number: 16\n",
      "TrainEpoch/CM\n",
      " tensor([[36217,   140,   469,  4307,  1308,     1,   850,     0,   159],\n",
      "        [    0, 55691,     0,     0,     0,     0,     2,     0,   185],\n",
      "        [  196,   213, 44639,   262,   115,   267,  8323,     0,   169],\n",
      "        [ 6511,   155,   634, 34274,  1365,     2,  2049,     0,   165],\n",
      "        [  821,   133,   542,   735, 43495,    29,   347,     0,   151],\n",
      "        [    0,   179,   255,     0,     0, 47431,    13,     0,   175],\n",
      "        [ 1148,   166,  9699,  3930,   349,   176, 29532,     0,   144],\n",
      "        [    0,   137,     0,     0,     0,     0,     3, 44787,   159],\n",
      "        [    0,   122,    13,     0,     0,     0,     0,     0, 55751]])\n"
     ]
    },
    {
     "data": {
      "application/vnd.jupyter.widget-view+json": {
       "model_id": "c86f836211f845faba7fd2073f232138",
       "version_major": 2,
       "version_minor": 0
      },
      "text/plain": [
       "Validation: |          | 0/? [00:00<?, ?it/s]"
      ]
     },
     "metadata": {},
     "output_type": "display_data"
    },
    {
     "name": "stdout",
     "output_type": "stream",
     "text": [
      "Epoch end: Validation, epoch number: 18\n",
      "ValidationEpoch/CM\n",
      " tensor([[38762,   140,   469,  4312,  1308,     1,   850,     0,   159],\n",
      "        [    0, 58971,     0,     0,     0,     0,     2,     0,   185],\n",
      "        [  196,   213, 47644,   262,   115,   267,  8498,     0,   169],\n",
      "        [ 6519,   155,   640, 36836,  1365,     2,  2123,     0,   165],\n",
      "        [  821,   133,   542,   736, 46209,    29,   347,     0,   151],\n",
      "        [    0,   179,   255,     0,     0, 50251,    13,     0,   175],\n",
      "        [ 1148,   166, 10002,  4075,   349,   179, 31731,     0,   144],\n",
      "        [    0,   137,     0,     0,     0,     0,     3, 47432,   159],\n",
      "        [    0,   122,    13,     0,     0,     0,     0,     0, 59031]])\n",
      "Epoch end: Train, epoch number: 17\n",
      "TrainEpoch/CM\n",
      " tensor([[38762,   140,   469,  4312,  1308,     1,   850,     0,   159],\n",
      "        [    0, 58971,     0,     0,     0,     0,     2,     0,   185],\n",
      "        [  196,   213, 47644,   262,   115,   267,  8498,     0,   169],\n",
      "        [ 6519,   155,   640, 36836,  1365,     2,  2123,     0,   165],\n",
      "        [  821,   133,   542,   736, 46209,    29,   347,     0,   151],\n",
      "        [    0,   179,   255,     0,     0, 50251,    13,     0,   175],\n",
      "        [ 1148,   166, 10002,  4075,   349,   179, 31731,     0,   144],\n",
      "        [    0,   137,     0,     0,     0,     0,     3, 47432,   159],\n",
      "        [    0,   122,    13,     0,     0,     0,     0,     0, 59031]])\n"
     ]
    },
    {
     "data": {
      "application/vnd.jupyter.widget-view+json": {
       "model_id": "5c03a9b380ef4b7a9f6ede2f45e2442e",
       "version_major": 2,
       "version_minor": 0
      },
      "text/plain": [
       "Validation: |          | 0/? [00:00<?, ?it/s]"
      ]
     },
     "metadata": {},
     "output_type": "display_data"
    },
    {
     "name": "stdout",
     "output_type": "stream",
     "text": [
      "Epoch end: Validation, epoch number: 19\n",
      "ValidationEpoch/CM\n",
      " tensor([[41312,   140,   469,  4312,  1308,     1,   850,     0,   159],\n",
      "        [    0, 62251,     0,     0,     0,     0,     2,     0,   185],\n",
      "        [  196,   213, 50698,   262,   115,   267,  8624,     0,   169],\n",
      "        [ 6519,   155,   645, 39442,  1365,     2,  2162,     0,   165],\n",
      "        [  821,   133,   542,   736, 48924,    29,   347,     0,   151],\n",
      "        [    0,   179,   255,     0,     0, 53071,    13,     0,   175],\n",
      "        [ 1148,   166, 10182,  4204,   349,   179, 34072,     0,   144],\n",
      "        [    0,   137,     0,     0,     0,     0,     3, 50077,   159],\n",
      "        [    0,   122,    13,     0,     0,     0,     0,     0, 62311]])\n",
      "Epoch end: Train, epoch number: 18\n",
      "TrainEpoch/CM\n",
      " tensor([[41312,   140,   469,  4312,  1308,     1,   850,     0,   159],\n",
      "        [    0, 62251,     0,     0,     0,     0,     2,     0,   185],\n",
      "        [  196,   213, 50698,   262,   115,   267,  8624,     0,   169],\n",
      "        [ 6519,   155,   645, 39442,  1365,     2,  2162,     0,   165],\n",
      "        [  821,   133,   542,   736, 48924,    29,   347,     0,   151],\n",
      "        [    0,   179,   255,     0,     0, 53071,    13,     0,   175],\n",
      "        [ 1148,   166, 10182,  4204,   349,   179, 34072,     0,   144],\n",
      "        [    0,   137,     0,     0,     0,     0,     3, 50077,   159],\n",
      "        [    0,   122,    13,     0,     0,     0,     0,     0, 62311]])\n"
     ]
    },
    {
     "name": "stderr",
     "output_type": "stream",
     "text": [
      "Metric Validation/Accuracy improved by 0.012 >= min_delta = 0.0. New best score: 0.984\n"
     ]
    },
    {
     "data": {
      "application/vnd.jupyter.widget-view+json": {
       "model_id": "098625a13eb749cea8d38a1a4fbf2ad9",
       "version_major": 2,
       "version_minor": 0
      },
      "text/plain": [
       "Validation: |          | 0/? [00:00<?, ?it/s]"
      ]
     },
     "metadata": {},
     "output_type": "display_data"
    },
    {
     "name": "stdout",
     "output_type": "stream",
     "text": [
      "Epoch end: Validation, epoch number: 20\n",
      "ValidationEpoch/CM\n",
      " tensor([[43860,   140,   469,  4314,  1308,     1,   850,     0,   159],\n",
      "        [    0, 65531,     0,     0,     0,     0,     2,     0,   185],\n",
      "        [  196,   213, 53738,   264,   115,   267,  8762,     0,   169],\n",
      "        [ 6524,   155,   650, 42027,  1365,     2,  2217,     0,   165],\n",
      "        [  821,   133,   542,   736, 51639,    29,   347,     0,   151],\n",
      "        [    0,   179,   255,     0,     0, 55891,    13,     0,   175],\n",
      "        [ 1148,   166, 10339,  4341,   349,   181, 36426,     0,   144],\n",
      "        [    0,   137,     0,     0,     0,     0,     3, 52722,   159],\n",
      "        [    0,   122,    13,     0,     0,     0,     0,     0, 65591]])\n",
      "Epoch end: Train, epoch number: 19\n",
      "TrainEpoch/CM\n",
      " tensor([[43860,   140,   469,  4314,  1308,     1,   850,     0,   159],\n",
      "        [    0, 65531,     0,     0,     0,     0,     2,     0,   185],\n",
      "        [  196,   213, 53738,   264,   115,   267,  8762,     0,   169],\n",
      "        [ 6524,   155,   650, 42027,  1365,     2,  2217,     0,   165],\n",
      "        [  821,   133,   542,   736, 51639,    29,   347,     0,   151],\n",
      "        [    0,   179,   255,     0,     0, 55891,    13,     0,   175],\n",
      "        [ 1148,   166, 10339,  4341,   349,   181, 36426,     0,   144],\n",
      "        [    0,   137,     0,     0,     0,     0,     3, 52722,   159],\n",
      "        [    0,   122,    13,     0,     0,     0,     0,     0, 65591]])\n"
     ]
    },
    {
     "data": {
      "application/vnd.jupyter.widget-view+json": {
       "model_id": "8ad18bb50b2346fe97c2585cbe23378e",
       "version_major": 2,
       "version_minor": 0
      },
      "text/plain": [
       "Validation: |          | 0/? [00:00<?, ?it/s]"
      ]
     },
     "metadata": {},
     "output_type": "display_data"
    },
    {
     "name": "stdout",
     "output_type": "stream",
     "text": [
      "Epoch end: Validation, epoch number: 21\n",
      "ValidationEpoch/CM\n",
      " tensor([[46410,   140,   469,  4314,  1308,     1,   850,     0,   159],\n",
      "        [    0, 68811,     0,     0,     0,     0,     2,     0,   185],\n",
      "        [  196,   213, 56800,   266,   115,   267,  8878,     0,   169],\n",
      "        [ 6528,   155,   657, 44589,  1365,     2,  2294,     0,   165],\n",
      "        [  821,   133,   542,   736, 54354,    29,   347,     0,   151],\n",
      "        [    0,   179,   255,     0,     0, 58711,    13,     0,   175],\n",
      "        [ 1148,   166, 10479,  4480,   349,   184, 38794,     0,   144],\n",
      "        [    0,   137,     0,     0,     0,     0,     3, 55367,   159],\n",
      "        [    0,   122,    13,     0,     0,     0,     0,     0, 68871]])\n",
      "Epoch end: Train, epoch number: 20\n",
      "TrainEpoch/CM\n",
      " tensor([[46410,   140,   469,  4314,  1308,     1,   850,     0,   159],\n",
      "        [    0, 68811,     0,     0,     0,     0,     2,     0,   185],\n",
      "        [  196,   213, 56800,   266,   115,   267,  8878,     0,   169],\n",
      "        [ 6528,   155,   657, 44589,  1365,     2,  2294,     0,   165],\n",
      "        [  821,   133,   542,   736, 54354,    29,   347,     0,   151],\n",
      "        [    0,   179,   255,     0,     0, 58711,    13,     0,   175],\n",
      "        [ 1148,   166, 10479,  4480,   349,   184, 38794,     0,   144],\n",
      "        [    0,   137,     0,     0,     0,     0,     3, 55367,   159],\n",
      "        [    0,   122,    13,     0,     0,     0,     0,     0, 68871]])\n"
     ]
    },
    {
     "data": {
      "application/vnd.jupyter.widget-view+json": {
       "model_id": "23e23a62b7fc416c867b200daf856e32",
       "version_major": 2,
       "version_minor": 0
      },
      "text/plain": [
       "Validation: |          | 0/? [00:00<?, ?it/s]"
      ]
     },
     "metadata": {},
     "output_type": "display_data"
    },
    {
     "name": "stdout",
     "output_type": "stream",
     "text": [
      "Epoch end: Validation, epoch number: 22\n",
      "ValidationEpoch/CM\n",
      " tensor([[48960,   140,   469,  4314,  1308,     1,   850,     0,   159],\n",
      "        [    0, 72091,     0,     0,     0,     0,     2,     0,   185],\n",
      "        [  196,   213, 59838,   267,   115,   267,  9019,     0,   169],\n",
      "        [ 6532,   155,   664, 47079,  1365,     2,  2443,     0,   165],\n",
      "        [  821,   133,   542,   736, 57069,    29,   347,     0,   151],\n",
      "        [    0,   179,   255,     0,     0, 61531,    13,     0,   175],\n",
      "        [ 1148,   166, 10606,  4585,   349,   188, 41208,     0,   144],\n",
      "        [    0,   137,     0,     0,     0,     0,     3, 58012,   159],\n",
      "        [    0,   122,    13,     0,     0,     0,     0,     0, 72151]])\n",
      "Epoch end: Train, epoch number: 21\n",
      "TrainEpoch/CM\n",
      " tensor([[48960,   140,   469,  4314,  1308,     1,   850,     0,   159],\n",
      "        [    0, 72091,     0,     0,     0,     0,     2,     0,   185],\n",
      "        [  196,   213, 59838,   267,   115,   267,  9019,     0,   169],\n",
      "        [ 6532,   155,   664, 47079,  1365,     2,  2443,     0,   165],\n",
      "        [  821,   133,   542,   736, 57069,    29,   347,     0,   151],\n",
      "        [    0,   179,   255,     0,     0, 61531,    13,     0,   175],\n",
      "        [ 1148,   166, 10606,  4585,   349,   188, 41208,     0,   144],\n",
      "        [    0,   137,     0,     0,     0,     0,     3, 58012,   159],\n",
      "        [    0,   122,    13,     0,     0,     0,     0,     0, 72151]])\n"
     ]
    },
    {
     "data": {
      "application/vnd.jupyter.widget-view+json": {
       "model_id": "b12351c74aca4b7999ead83027a648c0",
       "version_major": 2,
       "version_minor": 0
      },
      "text/plain": [
       "Validation: |          | 0/? [00:00<?, ?it/s]"
      ]
     },
     "metadata": {},
     "output_type": "display_data"
    },
    {
     "name": "stdout",
     "output_type": "stream",
     "text": [
      "Epoch end: Validation, epoch number: 23\n",
      "ValidationEpoch/CM\n",
      " tensor([[51509,   140,   469,  4314,  1308,     1,   851,     0,   159],\n",
      "        [    0, 75371,     0,     0,     0,     0,     2,     0,   185],\n",
      "        [  196,   213, 62886,   269,   115,   267,  9149,     0,   169],\n",
      "        [ 6535,   155,   667, 49655,  1365,     2,  2511,     0,   165],\n",
      "        [  821,   133,   542,   736, 59784,    29,   347,     0,   151],\n",
      "        [    0,   179,   255,     0,     0, 64351,    13,     0,   175],\n",
      "        [ 1148,   166, 10729,  4702,   349,   189, 43617,     0,   144],\n",
      "        [    0,   137,     0,     0,     0,     0,     3, 60657,   159],\n",
      "        [    0,   122,    13,     0,     0,     0,     0,     0, 75431]])\n",
      "Epoch end: Train, epoch number: 22\n",
      "TrainEpoch/CM\n",
      " tensor([[51509,   140,   469,  4314,  1308,     1,   851,     0,   159],\n",
      "        [    0, 75371,     0,     0,     0,     0,     2,     0,   185],\n",
      "        [  196,   213, 62886,   269,   115,   267,  9149,     0,   169],\n",
      "        [ 6535,   155,   667, 49655,  1365,     2,  2511,     0,   165],\n",
      "        [  821,   133,   542,   736, 59784,    29,   347,     0,   151],\n",
      "        [    0,   179,   255,     0,     0, 64351,    13,     0,   175],\n",
      "        [ 1148,   166, 10729,  4702,   349,   189, 43617,     0,   144],\n",
      "        [    0,   137,     0,     0,     0,     0,     3, 60657,   159],\n",
      "        [    0,   122,    13,     0,     0,     0,     0,     0, 75431]])\n"
     ]
    },
    {
     "name": "stderr",
     "output_type": "stream",
     "text": [
      "Metric Validation/Accuracy improved by 0.001 >= min_delta = 0.0. New best score: 0.985\n"
     ]
    },
    {
     "data": {
      "application/vnd.jupyter.widget-view+json": {
       "model_id": "fd344859cea04f5b9446089250c4b2ef",
       "version_major": 2,
       "version_minor": 0
      },
      "text/plain": [
       "Validation: |          | 0/? [00:00<?, ?it/s]"
      ]
     },
     "metadata": {},
     "output_type": "display_data"
    },
    {
     "name": "stdout",
     "output_type": "stream",
     "text": [
      "Epoch end: Validation, epoch number: 24\n",
      "ValidationEpoch/CM\n",
      " tensor([[54056,   140,   469,  4317,  1308,     1,   851,     0,   159],\n",
      "        [    0, 78651,     0,     0,     0,     0,     2,     0,   185],\n",
      "        [  196,   213, 66028,   269,   115,   267,  9187,     0,   169],\n",
      "        [ 6535,   155,   669, 52283,  1365,     2,  2531,     0,   165],\n",
      "        [  821,   133,   542,   736, 62499,    29,   347,     0,   151],\n",
      "        [    0,   179,   257,     0,     0, 67169,    13,     0,   175],\n",
      "        [ 1148,   166, 10866,  4820,   349,   189, 46012,     0,   144],\n",
      "        [    0,   137,     0,     0,     0,     0,     3, 63302,   159],\n",
      "        [    0,   122,    13,     0,     0,     0,     0,     0, 78711]])\n",
      "Epoch end: Train, epoch number: 23\n",
      "TrainEpoch/CM\n",
      " tensor([[54056,   140,   469,  4317,  1308,     1,   851,     0,   159],\n",
      "        [    0, 78651,     0,     0,     0,     0,     2,     0,   185],\n",
      "        [  196,   213, 66028,   269,   115,   267,  9187,     0,   169],\n",
      "        [ 6535,   155,   669, 52283,  1365,     2,  2531,     0,   165],\n",
      "        [  821,   133,   542,   736, 62499,    29,   347,     0,   151],\n",
      "        [    0,   179,   257,     0,     0, 67169,    13,     0,   175],\n",
      "        [ 1148,   166, 10866,  4820,   349,   189, 46012,     0,   144],\n",
      "        [    0,   137,     0,     0,     0,     0,     3, 63302,   159],\n",
      "        [    0,   122,    13,     0,     0,     0,     0,     0, 78711]])\n"
     ]
    },
    {
     "data": {
      "application/vnd.jupyter.widget-view+json": {
       "model_id": "fffde3d984b746f08abbcbb4a6d36857",
       "version_major": 2,
       "version_minor": 0
      },
      "text/plain": [
       "Validation: |          | 0/? [00:00<?, ?it/s]"
      ]
     },
     "metadata": {},
     "output_type": "display_data"
    },
    {
     "name": "stdout",
     "output_type": "stream",
     "text": [
      "Epoch end: Validation, epoch number: 25\n",
      "ValidationEpoch/CM\n",
      " tensor([[56606,   140,   469,  4317,  1308,     1,   851,     0,   159],\n",
      "        [    0, 81931,     0,     0,     0,     0,     2,     0,   185],\n",
      "        [  196,   213, 69084,   269,   115,   271,  9307,     0,   169],\n",
      "        [ 6539,   155,   673, 54826,  1365,     2,  2630,     0,   165],\n",
      "        [  821,   133,   542,   736, 65214,    29,   347,     0,   151],\n",
      "        [    0,   179,   257,     0,     0, 69989,    13,     0,   175],\n",
      "        [ 1148,   166, 10996,  4907,   349,   194, 48440,     0,   144],\n",
      "        [    0,   137,     0,     0,     0,     0,     3, 65947,   159],\n",
      "        [    0,   122,    13,     0,     0,     0,     0,     0, 81991]])\n",
      "Epoch end: Train, epoch number: 24\n",
      "TrainEpoch/CM\n",
      " tensor([[56606,   140,   469,  4317,  1308,     1,   851,     0,   159],\n",
      "        [    0, 81931,     0,     0,     0,     0,     2,     0,   185],\n",
      "        [  196,   213, 69084,   269,   115,   271,  9307,     0,   169],\n",
      "        [ 6539,   155,   673, 54826,  1365,     2,  2630,     0,   165],\n",
      "        [  821,   133,   542,   736, 65214,    29,   347,     0,   151],\n",
      "        [    0,   179,   257,     0,     0, 69989,    13,     0,   175],\n",
      "        [ 1148,   166, 10996,  4907,   349,   194, 48440,     0,   144],\n",
      "        [    0,   137,     0,     0,     0,     0,     3, 65947,   159],\n",
      "        [    0,   122,    13,     0,     0,     0,     0,     0, 81991]])\n"
     ]
    },
    {
     "data": {
      "application/vnd.jupyter.widget-view+json": {
       "model_id": "712b48acae4e4a71a5aa92668bf65193",
       "version_major": 2,
       "version_minor": 0
      },
      "text/plain": [
       "Validation: |          | 0/? [00:00<?, ?it/s]"
      ]
     },
     "metadata": {},
     "output_type": "display_data"
    },
    {
     "name": "stdout",
     "output_type": "stream",
     "text": [
      "Epoch end: Validation, epoch number: 26\n",
      "ValidationEpoch/CM\n",
      " tensor([[59152,   140,   469,  4320,  1308,     1,   852,     0,   159],\n",
      "        [    0, 85211,     0,     0,     0,     0,     2,     0,   185],\n",
      "        [  196,   213, 72189,   269,   115,   271,  9382,     0,   169],\n",
      "        [ 6545,   155,   674, 57415,  1365,     2,  2684,     0,   165],\n",
      "        [  821,   133,   542,   736, 67929,    29,   347,     0,   151],\n",
      "        [    0,   179,   259,     0,     0, 72807,    13,     0,   175],\n",
      "        [ 1150,   166, 11188,  5031,   349,   194, 50772,     0,   144],\n",
      "        [    0,   137,     0,     0,     0,     0,     3, 68592,   159],\n",
      "        [    0,   122,    13,     0,     0,     0,     0,     0, 85271]])\n",
      "Epoch end: Train, epoch number: 25\n",
      "TrainEpoch/CM\n",
      " tensor([[59152,   140,   469,  4320,  1308,     1,   852,     0,   159],\n",
      "        [    0, 85211,     0,     0,     0,     0,     2,     0,   185],\n",
      "        [  196,   213, 72189,   269,   115,   271,  9382,     0,   169],\n",
      "        [ 6545,   155,   674, 57415,  1365,     2,  2684,     0,   165],\n",
      "        [  821,   133,   542,   736, 67929,    29,   347,     0,   151],\n",
      "        [    0,   179,   259,     0,     0, 72807,    13,     0,   175],\n",
      "        [ 1150,   166, 11188,  5031,   349,   194, 50772,     0,   144],\n",
      "        [    0,   137,     0,     0,     0,     0,     3, 68592,   159],\n",
      "        [    0,   122,    13,     0,     0,     0,     0,     0, 85271]])\n"
     ]
    },
    {
     "data": {
      "application/vnd.jupyter.widget-view+json": {
       "model_id": "0227ae4ba859460a8dc8b5b105e18a50",
       "version_major": 2,
       "version_minor": 0
      },
      "text/plain": [
       "Validation: |          | 0/? [00:00<?, ?it/s]"
      ]
     },
     "metadata": {},
     "output_type": "display_data"
    },
    {
     "name": "stdout",
     "output_type": "stream",
     "text": [
      "Epoch end: Validation, epoch number: 27\n",
      "ValidationEpoch/CM\n",
      " tensor([[61423,   140,   470,  4576,  1320,     1,   862,     0,   159],\n",
      "        [    0, 88490,     0,     0,     0,     0,     2,     1,   185],\n",
      "        [  200,   213, 74947,   272,   124,   292,  9767,     0,   169],\n",
      "        [ 6857,   155,   681, 59650,  1380,     2,  2765,     0,   165],\n",
      "        [  835,   133,   548,   758, 70596,    29,   353,     0,   151],\n",
      "        [    0,   179,   276,     0,     0, 75610,    13,     0,   175],\n",
      "        [ 1231,   166, 11688,  5233,   362,   212, 52608,     0,   144],\n",
      "        [    0,   137,     0,     0,     0,     0,     3, 71237,   159],\n",
      "        [    0,   122,    13,     0,     0,     0,     0,     0, 88551]])\n",
      "Epoch end: Train, epoch number: 26\n",
      "TrainEpoch/CM\n",
      " tensor([[61423,   140,   470,  4576,  1320,     1,   862,     0,   159],\n",
      "        [    0, 88490,     0,     0,     0,     0,     2,     1,   185],\n",
      "        [  200,   213, 74947,   272,   124,   292,  9767,     0,   169],\n",
      "        [ 6857,   155,   681, 59650,  1380,     2,  2765,     0,   165],\n",
      "        [  835,   133,   548,   758, 70596,    29,   353,     0,   151],\n",
      "        [    0,   179,   276,     0,     0, 75610,    13,     0,   175],\n",
      "        [ 1231,   166, 11688,  5233,   362,   212, 52608,     0,   144],\n",
      "        [    0,   137,     0,     0,     0,     0,     3, 71237,   159],\n",
      "        [    0,   122,    13,     0,     0,     0,     0,     0, 88551]])\n"
     ]
    },
    {
     "data": {
      "application/vnd.jupyter.widget-view+json": {
       "model_id": "ea4ee1d6609f446085d13400f392ec8b",
       "version_major": 2,
       "version_minor": 0
      },
      "text/plain": [
       "Validation: |          | 0/? [00:00<?, ?it/s]"
      ]
     },
     "metadata": {},
     "output_type": "display_data"
    },
    {
     "name": "stdout",
     "output_type": "stream",
     "text": [
      "Epoch end: Validation, epoch number: 28\n",
      "ValidationEpoch/CM\n",
      " tensor([[63961,   140,   470,  4586,  1320,     1,   864,     0,   159],\n",
      "        [    0, 91769,     0,     0,     0,     0,     2,     2,   185],\n",
      "        [  200,   213, 77973,   272,   124,   297,  9916,     0,   169],\n",
      "        [ 6863,   155,   682, 62234,  1380,     2,  2824,     0,   165],\n",
      "        [  835,   133,   548,   762, 73304,    29,   355,     1,   151],\n",
      "        [    0,   182,   276,     0,     0, 78427,    13,     0,   175],\n",
      "        [ 1235,   166, 11861,  5439,   362,   218, 54869,     0,   144],\n",
      "        [    0,   137,     0,     0,     0,     0,     3, 73882,   159],\n",
      "        [    0,   122,    14,     0,     0,     0,     0,     0, 91830]])\n"
     ]
    },
    {
     "name": "stderr",
     "output_type": "stream",
     "text": [
      "Monitored metric Validation/Accuracy did not improve in the last 5 records. Best score: 0.985. Signaling Trainer to stop.\n"
     ]
    },
    {
     "name": "stdout",
     "output_type": "stream",
     "text": [
      "Epoch end: Train, epoch number: 27\n",
      "TrainEpoch/CM\n",
      " tensor([[63961,   140,   470,  4586,  1320,     1,   864,     0,   159],\n",
      "        [    0, 91769,     0,     0,     0,     0,     2,     2,   185],\n",
      "        [  200,   213, 77973,   272,   124,   297,  9916,     0,   169],\n",
      "        [ 6863,   155,   682, 62234,  1380,     2,  2824,     0,   165],\n",
      "        [  835,   133,   548,   762, 73304,    29,   355,     1,   151],\n",
      "        [    0,   182,   276,     0,     0, 78427,    13,     0,   175],\n",
      "        [ 1235,   166, 11861,  5439,   362,   218, 54869,     0,   144],\n",
      "        [    0,   137,     0,     0,     0,     0,     3, 73882,   159],\n",
      "        [    0,   122,    14,     0,     0,     0,     0,     0, 91830]])\n"
     ]
    }
   ],
   "source": [
    "trainer.fit(model=model, train_dataloaders=train_dataloader, val_dataloaders=val_dataloader)"
   ]
  },
  {
   "cell_type": "code",
   "execution_count": 14,
   "metadata": {},
   "outputs": [
    {
     "data": {
      "text/plain": [
       "MalwaresModelMLP(\n",
       "  (train_metrics): MetricCollection(\n",
       "    (MulticlassAccuracy): MulticlassAccuracy()\n",
       "    (MulticlassPrecision): MulticlassPrecision()\n",
       "    (MulticlassRecall): MulticlassRecall()\n",
       "    (MulticlassF1Score): MulticlassF1Score(),\n",
       "    prefix=Train/\n",
       "  )\n",
       "  (val_metrics): MetricCollection(\n",
       "    (MulticlassAccuracy): MulticlassAccuracy()\n",
       "    (MulticlassPrecision): MulticlassPrecision()\n",
       "    (MulticlassRecall): MulticlassRecall()\n",
       "    (MulticlassF1Score): MulticlassF1Score(),\n",
       "    prefix=Validation/\n",
       "  )\n",
       "  (test_metrics): MetricCollection(\n",
       "    (MulticlassAccuracy): MulticlassAccuracy()\n",
       "    (MulticlassPrecision): MulticlassPrecision()\n",
       "    (MulticlassRecall): MulticlassRecall()\n",
       "    (MulticlassF1Score): MulticlassF1Score(),\n",
       "    prefix=Test/\n",
       "  )\n",
       "  (cm): MulticlassConfusionMatrix()\n",
       "  (criterion): CrossEntropyLoss()\n",
       "  (l1): Linear(in_features=305, out_features=30, bias=True)\n",
       "  (l2): Linear(in_features=30, out_features=30, bias=True)\n",
       "  (l3): Linear(in_features=30, out_features=9, bias=True)\n",
       ")"
      ]
     },
     "execution_count": 14,
     "metadata": {},
     "output_type": "execute_result"
    }
   ],
   "source": [
    "model.eval()"
   ]
  },
  {
   "cell_type": "code",
   "execution_count": 23,
   "metadata": {},
   "outputs": [
    {
     "name": "stderr",
     "output_type": "stream",
     "text": [
      "LOCAL_RANK: 0 - CUDA_VISIBLE_DEVICES: [0]\n"
     ]
    },
    {
     "name": "stdout",
     "output_type": "stream",
     "text": [
      "/home/<User>/repos/csg_is/training/lightning_logs/version_7/checkpoints/epoch=22-step=966.ckpt\n",
      "tensor(0.9851, device='cuda:0')\n"
     ]
    },
    {
     "data": {
      "application/vnd.jupyter.widget-view+json": {
       "model_id": "cd4f163b766240bcbab93d16afdc08f1",
       "version_major": 2,
       "version_minor": 0
      },
      "text/plain": [
       "Testing: |          | 0/? [00:00<?, ?it/s]"
      ]
     },
     "metadata": {},
     "output_type": "display_data"
    },
    {
     "name": "stdout",
     "output_type": "stream",
     "text": [
      "Epoch end: Test, epoch number: 0\n",
      "TestEpoch/CM\n",
      " tensor([[511,   0,   0,   0,   0,   0,   0,   0,   0],\n",
      "        [  0, 673,   0,   0,   0,   0,   0,   0,   0],\n",
      "        [  0,   0, 618,   0,   0,   0,  31,   0,   0],\n",
      "        [  0,   0,   0, 519,   0,   0,   7,   0,   0],\n",
      "        [  0,   0,   0,   0, 512,   0,   0,   0,   0],\n",
      "        [  0,   0,   0,   0,   0, 588,   0,   0,   0],\n",
      "        [  0,   0,  18,  18,   0,   0, 460,   0,   0],\n",
      "        [  0,   0,   0,   0,   0,   0,   0, 550,   0],\n",
      "        [  0,   0,   0,   0,   0,   0,   0,   0, 649]])\n",
      "────────────────────────────────────────────────────────────────────────────────────────────────────────────────────────\n",
      "       Test metric             DataLoader 0\n",
      "────────────────────────────────────────────────────────────────────────────────────────────────────────────────────────\n",
      "      Test/Accuracy         0.9850842952728271\n",
      "      Test/F1Score          0.9847362637519836\n",
      "        Test/Loss          0.042185284197330475\n",
      "     Test/Precision         0.9848151803016663\n",
      "       Test/Recall          0.9850842952728271\n",
      "   TestEpoch/Accuracy       0.9851495027542114\n",
      "    TestEpoch/F1Score       0.9848780632019043\n",
      "   TestEpoch/Precision       0.984652578830719\n",
      "    TestEpoch/Recall        0.9851495027542114\n",
      "────────────────────────────────────────────────────────────────────────────────────────────────────────────────────────\n"
     ]
    },
    {
     "data": {
      "text/plain": [
       "[{'Test/Loss': 0.042185284197330475,\n",
       "  'Test/Accuracy': 0.9850842952728271,\n",
       "  'Test/Precision': 0.9848151803016663,\n",
       "  'Test/Recall': 0.9850842952728271,\n",
       "  'Test/F1Score': 0.9847362637519836,\n",
       "  'TestEpoch/Accuracy': 0.9851495027542114,\n",
       "  'TestEpoch/Precision': 0.984652578830719,\n",
       "  'TestEpoch/Recall': 0.9851495027542114,\n",
       "  'TestEpoch/F1Score': 0.9848780632019043}]"
      ]
     },
     "execution_count": 23,
     "metadata": {},
     "output_type": "execute_result"
    }
   ],
   "source": [
    "print(checkpoint_callback.best_model_path)   # prints path to the best model's checkpoint\n",
    "print(checkpoint_callback.best_model_score) # and prints it score\n",
    "best_model = MalwaresModelMLP.load_from_checkpoint(checkpoint_callback.best_model_path, input_size = vectors.shape[1]-1, output_size = len(label_encoder.classes_))\n",
    "\n",
    "trainer.test(best_model, dataloaders=val_dataloader)"
   ]
  }
 ],
 "metadata": {
  "kernelspec": {
   "display_name": ".venv",
   "language": "python",
   "name": "python3"
  },
  "language_info": {
   "codemirror_mode": {
    "name": "ipython",
    "version": 3
   },
   "file_extension": ".py",
   "mimetype": "text/x-python",
   "name": "python",
   "nbconvert_exporter": "python",
   "pygments_lexer": "ipython3",
   "version": "3.10.12"
  }
 },
 "nbformat": 4,
 "nbformat_minor": 2
}
