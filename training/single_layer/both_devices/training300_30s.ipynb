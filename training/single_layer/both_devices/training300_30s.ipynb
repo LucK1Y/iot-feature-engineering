{
 "cells": [
  {
   "cell_type": "markdown",
   "metadata": {},
   "source": [
    "# Idea\n",
    "Do some training"
   ]
  },
  {
   "cell_type": "code",
   "execution_count": 1,
   "metadata": {},
   "outputs": [],
   "source": [
    "SEED = 133\n",
    "TIME_WINDOW = \"30s\"\n",
    "DATA_FILE = '../../data/all_df_30s_Xi_sensor_1.csv'\n",
    "DATA_FILE_2 = '../../data/all_df_30s_Heqing_device2.csv'\n",
    "\n",
    "COLUMNS_SELECTION_FILE_FROM_RP4 = \"../other_time_windows/weight_selected_30s.csv\""
   ]
  },
  {
   "cell_type": "code",
   "execution_count": 2,
   "metadata": {},
   "outputs": [],
   "source": [
    "from pathlib import Path\n",
    "\n",
    "import numpy as np\n",
    "import pandas as pd\n",
    "import pickle\n",
    "\n",
    "assert Path(DATA_FILE).exists()"
   ]
  },
  {
   "cell_type": "code",
   "execution_count": 3,
   "metadata": {},
   "outputs": [],
   "source": [
    "import sys\n",
    "repo_base_path = Path(\"./../../../\").resolve()\n",
    "assert str(repo_base_path).endswith(\"csg_is\"), f\"{repo_base_path} is not a valid path to the CSG_IS repository\" \n",
    "\n",
    "sys.path.append(str(repo_base_path))\n",
    "sys.path.append(\"..\")\n",
    "\n",
    "# from py_dataset import get_all_files_df\n",
    "# from py_dataset import read_in_files\n",
    "from py_dataset import feature_plotting\n",
    "# from py_dataset import feature_selection\n",
    "# from py_dataset import net_feature_engineering\n",
    "# from py_dataset import entropy_feature_engineering\n",
    "# from py_dataset.classes import DataSource\n",
    "from py_dataset import sys_func\n",
    "\n",
    "from py_dataset.classes import DataSource\n",
    "\n"
   ]
  },
  {
   "cell_type": "code",
   "execution_count": 4,
   "metadata": {},
   "outputs": [],
   "source": [
    "LOG_PATH = (repo_base_path / \"training\" / \"official_logs\")\n",
    "LOG_NAME = f\"single-layer_300_{TIME_WINDOW}_Xi_sensor_1_and_Heqing_device2\"\n",
    "LOG_NAME_EXPERIMENT_2 = f\"single-layer_30_from_rp4_weights_{TIME_WINDOW}_Xi_sensor_1_and_Heqing_device2\"\n",
    "LOG_NAME_EXPERIMENT_3 = f\"multi-layer_30_from_rp4_weights_{TIME_WINDOW}_Xi_sensor_1_and_Heqing_device2\"\n",
    "\n",
    "assert LOG_PATH.exists()\n",
    "assert not (LOG_PATH / LOG_NAME).exists(), \"are you sure to run this again?\"\n",
    "assert not (LOG_PATH / LOG_NAME_EXPERIMENT_2).exists(), \"are you sure to run this again?\"\n",
    "assert not (LOG_PATH / LOG_NAME_EXPERIMENT_3).exists(), \"are you sure to run this again?\""
   ]
  },
  {
   "cell_type": "code",
   "execution_count": 5,
   "metadata": {},
   "outputs": [
    {
     "name": "stderr",
     "output_type": "stream",
     "text": [
      "/tmp/ipykernel_15790/3829008155.py:1: DtypeWarning: Columns (189) have mixed types. Specify dtype option on import or set low_memory=False.\n",
      "  df1 = pd.read_csv(DATA_FILE)\n"
     ]
    }
   ],
   "source": [
    "df1 = pd.read_csv(DATA_FILE)\n",
    "df1.set_index(\"timestamp\", inplace=True)"
   ]
  },
  {
   "cell_type": "code",
   "execution_count": 6,
   "metadata": {},
   "outputs": [],
   "source": [
    "df2 = pd.read_csv(DATA_FILE_2)\n",
    "df2.set_index(\"timestamp\", inplace=True)"
   ]
  },
  {
   "cell_type": "code",
   "execution_count": 7,
   "metadata": {},
   "outputs": [
    {
     "data": {
      "text/plain": [
       "(67555, 306)"
      ]
     },
     "execution_count": 7,
     "metadata": {},
     "output_type": "execute_result"
    }
   ],
   "source": [
    "df = pd.concat([df1,df2])\n",
    "df.shape"
   ]
  },
  {
   "cell_type": "code",
   "execution_count": 8,
   "metadata": {},
   "outputs": [],
   "source": [
    "assert df[\"label\"].unique().shape == (10,)"
   ]
  },
  {
   "cell_type": "code",
   "execution_count": 13,
   "metadata": {},
   "outputs": [
    {
     "data": {
      "text/plain": [
       "{'armv7_cortex_a15/br_mis_pred/',\n",
       " 'armv7_cortex_a15/br_pred/',\n",
       " 'armv7_cortex_a15/bus_cycles/',\n",
       " 'armv7_cortex_a15/bus_cycles/.1',\n",
       " 'armv7_cortex_a15/cpu_cycles/',\n",
       " 'armv7_cortex_a15/exc_return/',\n",
       " 'armv7_cortex_a15/exc_taken/',\n",
       " 'armv7_cortex_a15/l1d_cache/',\n",
       " 'armv7_cortex_a15/l1d_cache_refill/',\n",
       " 'armv7_cortex_a15/l1d_tlb_refill/',\n",
       " 'armv7_cortex_a15/l1i_cache/',\n",
       " 'armv7_cortex_a15/l1i_cache_refill/',\n",
       " 'armv7_cortex_a15/l1i_tlb_refill/',\n",
       " 'armv7_cortex_a15/l2d_cache/',\n",
       " 'armv7_cortex_a15/l2d_cache_wb/',\n",
       " 'armv7_cortex_a15/mem_access/',\n",
       " 'gettimeofday',\n",
       " 'open'}"
      ]
     },
     "execution_count": 13,
     "metadata": {},
     "output_type": "execute_result"
    }
   ],
   "source": [
    "selected_columns = pd.read_csv(COLUMNS_SELECTION_FILE_FROM_RP4)[\"0\"].values\n",
    "set(df2.columns) - set(df1.columns)"
   ]
  },
  {
   "cell_type": "markdown",
   "metadata": {},
   "source": [
    "### Setup"
   ]
  },
  {
   "cell_type": "code",
   "execution_count": 11,
   "metadata": {},
   "outputs": [],
   "source": [
    "from torch.utils.data import Dataset, DataLoader\n",
    "import torch\n",
    "\n",
    "class CustomeDataset(Dataset):\n",
    "    def __init__(self, some_df:pd.DataFrame):\n",
    "        \n",
    "        self.x = torch.tensor(some_df.drop(columns=[\"label\"], inplace=False).values, dtype=torch.float32)\n",
    "        self.labels = torch.tensor(some_df[\"label\"].values, dtype=torch.uint8)\n",
    "\n",
    "    def __len__(self):\n",
    "        return len(self.x)\n",
    "\n",
    "    def __getitem__(self, idx):\n",
    "        # if torch.is_tensor(idx):\n",
    "        #     idx = idx.tolist()\n",
    "        # print(self.x[idx], self.labels[idx])\n",
    "        return self.x[idx], self.labels[idx]"
   ]
  },
  {
   "cell_type": "code",
   "execution_count": 12,
   "metadata": {},
   "outputs": [],
   "source": [
    "from mlp_single_layer import MalwaresModelLinearLayer\n",
    "from torch.utils.data import DataLoader\n",
    "import lightning\n",
    "from sklearn.model_selection import train_test_split\n",
    "from lightning import loggers as pl_loggers\n",
    "from lightning.pytorch.callbacks.early_stopping import EarlyStopping\n",
    "from lightning.pytorch.callbacks.model_checkpoint import ModelCheckpoint\n",
    "\n",
    "# tensorboard = pl_loggers.TensorBoardLogger(save_dir=LOG_PATH, name=LOG_NAME)\n",
    "\n",
    "# # split into train and val\n",
    "# train, val = train_test_split(vectors, test_size=0.2, random_state=SEED)\n",
    "\n",
    "# train_dataset = CustomeDataset(train)\n",
    "# train_dataloader = DataLoader(train_dataset, batch_size=500, shuffle=True, num_workers=7)\n",
    "\n",
    "# val_dataset = CustomeDataset(val)\n",
    "# val_dataloader = DataLoader(val_dataset, batch_size=500, shuffle=False, num_workers=7)\n",
    "\n",
    "# # trainer = lightning.Trainer(fast_dev_run=100)\n",
    "# monitor = \"Validation/Accuracy\"\n",
    "# early_stop_callback = EarlyStopping(monitor=monitor, patience=5, verbose=True, mode=\"max\")\n",
    "# checkpoint_callback = ModelCheckpoint(save_top_k=1, monitor=monitor, mode=\"max\")\n",
    "\n",
    "# trainer = lightning.Trainer(max_epochs=150, callbacks=[early_stop_callback, checkpoint_callback], enable_checkpointing=True, logger=tensorboard) #logger=None, \n",
    "\n",
    "\n",
    "# model = MalwaresModelLinearLayer(input_size = vectors.shape[1]-1, output_size = len(label_encoder.classes_), seed=SEED)\n",
    "\n",
    "# torch.manual_seed(SEED)\n",
    "# torch.cuda.manual_seed_all(SEED)\n"
   ]
  },
  {
   "cell_type": "code",
   "execution_count": null,
   "metadata": {},
   "outputs": [],
   "source": [
    "# trainer.fit(model=model, train_dataloaders=train_dataloader, val_dataloaders=val_dataloader)"
   ]
  },
  {
   "cell_type": "code",
   "execution_count": null,
   "metadata": {},
   "outputs": [],
   "source": [
    "# model.eval()"
   ]
  },
  {
   "cell_type": "code",
   "execution_count": null,
   "metadata": {},
   "outputs": [],
   "source": [
    "# print(checkpoint_callback.best_model_path)   # prints path to the best model's checkpoint\n",
    "# print(checkpoint_callback.best_model_score) # and prints it score\n",
    "# best_model = MalwaresModelLinearLayer.load_from_checkpoint(checkpoint_callback.best_model_path, input_size = vectors.shape[1]-1, output_size = len(label_encoder.classes_))\n",
    "\n",
    "# trainer.test(best_model, dataloaders=val_dataloader)"
   ]
  },
  {
   "cell_type": "markdown",
   "metadata": {},
   "source": [
    "### Preprocessings\n",
    "- remove Null values\n",
    "- drop timestamp\n",
    "- labelEncode\n",
    "- normalize"
   ]
  },
  {
   "cell_type": "code",
   "execution_count": 29,
   "metadata": {},
   "outputs": [
    {
     "name": "stdout",
     "output_type": "stream",
     "text": [
      "going to remove columns:  {'armv7_cortex_a15/br_mis_pred/'}\n"
     ]
    }
   ],
   "source": [
    "# select here df1 => remove cols from rp4 that are not in rp3\n",
    "print (\"going to remove columns: \", set(selected_columns) - set(df1.columns))\n",
    "selected_columns_that_are_in_rp3_dataset = list(set(selected_columns) & set(df1.columns))"
   ]
  },
  {
   "cell_type": "code",
   "execution_count": 30,
   "metadata": {},
   "outputs": [
    {
     "data": {
      "text/plain": [
       "(67555, 32)"
      ]
     },
     "execution_count": 30,
     "metadata": {},
     "output_type": "execute_result"
    }
   ],
   "source": [
    "df[selected_columns_that_are_in_rp3_dataset].shape"
   ]
  },
  {
   "cell_type": "code",
   "execution_count": 31,
   "metadata": {},
   "outputs": [
    {
     "data": {
      "text/plain": [
       "(67555, 32)"
      ]
     },
     "execution_count": 31,
     "metadata": {},
     "output_type": "execute_result"
    }
   ],
   "source": [
    "subset = df[selected_columns_that_are_in_rp3_dataset].copy()\n",
    "subset[\"label\"] = df[\"label\"]\n",
    "subset.shape"
   ]
  },
  {
   "cell_type": "code",
   "execution_count": 33,
   "metadata": {},
   "outputs": [
    {
     "name": "stdout",
     "output_type": "stream",
     "text": [
      "(67555, 32)\n",
      "(44286, 32)\n"
     ]
    }
   ],
   "source": [
    "print(subset.shape)\n",
    "old_df = subset.copy()\n",
    "subset.dropna(axis=0, how='any', inplace=True)\n",
    "\n",
    "print(subset.shape)"
   ]
  },
  {
   "cell_type": "code",
   "execution_count": 34,
   "metadata": {},
   "outputs": [],
   "source": [
    "subset.reset_index(inplace=True, drop=True)"
   ]
  },
  {
   "cell_type": "code",
   "execution_count": 35,
   "metadata": {},
   "outputs": [],
   "source": [
    "label_encoder = sys_func.create_label_encoder_for_labels()\n",
    "subset['label'] = label_encoder.transform(subset['label'])"
   ]
  },
  {
   "cell_type": "code",
   "execution_count": 36,
   "metadata": {},
   "outputs": [],
   "source": [
    "subset = feature_plotting.test_transform_all_to_numeric_columns(subset)"
   ]
  },
  {
   "cell_type": "code",
   "execution_count": 37,
   "metadata": {},
   "outputs": [],
   "source": [
    "cols_to_exclude_from_scaling = [\"label\"]\n",
    "vectors = feature_plotting.minmax_scale_features(subset,remove_outliers_iqr_all_columns=False,\n",
    "                                                        cols_to_exclude_from_scaling=cols_to_exclude_from_scaling)\n",
    "# print(vectors.shape)\n",
    "# print(\" with dropped null: \", vectors.dropna(axis=0, how='any', inplace=False).shape)"
   ]
  },
  {
   "cell_type": "code",
   "execution_count": 38,
   "metadata": {},
   "outputs": [
    {
     "data": {
      "text/plain": [
       "(array([0, 8, 4, 1, 5, 2, 7, 6, 3]), array([0, 8, 4, 1, 5, 2, 7, 6, 3]))"
      ]
     },
     "execution_count": 38,
     "metadata": {},
     "output_type": "execute_result"
    }
   ],
   "source": [
    "subset[\"label\"].unique(), vectors[\"label\"].unique()"
   ]
  },
  {
   "cell_type": "code",
   "execution_count": 40,
   "metadata": {},
   "outputs": [
    {
     "name": "stderr",
     "output_type": "stream",
     "text": [
      "GPU available: True (cuda), used: True\n",
      "TPU available: False, using: 0 TPU cores\n",
      "IPU available: False, using: 0 IPUs\n",
      "HPU available: False, using: 0 HPUs\n"
     ]
    }
   ],
   "source": [
    "# split into train and val\n",
    "train, val = train_test_split(vectors, test_size=0.2, random_state=SEED)\n",
    "\n",
    "train_dataset = CustomeDataset(train)\n",
    "train_dataloader = DataLoader(train_dataset, batch_size=500, shuffle=True, num_workers=7)\n",
    "\n",
    "val_dataset = CustomeDataset(val)\n",
    "val_dataloader = DataLoader(val_dataset, batch_size=500, shuffle=False, num_workers=7)\n",
    "\n",
    "# trainer = lightning.Trainer(fast_dev_run=100)\n",
    "monitor = \"Validation/Accuracy\"\n",
    "early_stop_callback = EarlyStopping(monitor=monitor, patience=5, verbose=True, mode=\"max\")\n",
    "checkpoint_callback = ModelCheckpoint(save_top_k=1, monitor=monitor, mode=\"max\")\n",
    "\n",
    "tensorboard = pl_loggers.TensorBoardLogger(save_dir=LOG_PATH, name=LOG_NAME_EXPERIMENT_2)\n",
    "trainer = lightning.Trainer(max_epochs=150, callbacks=[early_stop_callback, checkpoint_callback], enable_checkpointing=True, logger=tensorboard) #logger=None, \n",
    "\n",
    "\n",
    "model = MalwaresModelLinearLayer(input_size = vectors.shape[1]-1, output_size = len(label_encoder.classes_), seed=SEED)\n",
    "\n",
    "torch.manual_seed(SEED)\n",
    "torch.cuda.manual_seed_all(SEED)\n"
   ]
  },
  {
   "cell_type": "code",
   "execution_count": 42,
   "metadata": {},
   "outputs": [
    {
     "name": "stderr",
     "output_type": "stream",
     "text": [
      "/home/<User>/repos/csg_is/.venv/lib/python3.10/site-packages/lightning/pytorch/callbacks/model_checkpoint.py:653: Checkpoint directory /home/<User>/repos/csg_is/training/official_logs/single-layer_30_from_rp4_weights_30s_Xi_sensor_1_and_Heqing_device2/version_0/checkpoints exists and is not empty.\n",
      "LOCAL_RANK: 0 - CUDA_VISIBLE_DEVICES: [0]\n",
      "\n",
      "  | Name          | Type                      | Params\n",
      "------------------------------------------------------------\n",
      "0 | train_metrics | MetricCollection          | 0     \n",
      "1 | val_metrics   | MetricCollection          | 0     \n",
      "2 | test_metrics  | MetricCollection          | 0     \n",
      "3 | cm            | MulticlassConfusionMatrix | 0     \n",
      "4 | criterion     | CrossEntropyLoss          | 0     \n",
      "5 | l1            | Linear                    | 288   \n",
      "------------------------------------------------------------\n",
      "288       Trainable params\n",
      "0         Non-trainable params\n",
      "288       Total params\n",
      "0.001     Total estimated model params size (MB)\n"
     ]
    },
    {
     "data": {
      "application/vnd.jupyter.widget-view+json": {
       "model_id": "1fa8cdb5975e4c43b9ae60ab9bf78843",
       "version_major": 2,
       "version_minor": 0
      },
      "text/plain": [
       "Sanity Checking: |          | 0/? [00:00<?, ?it/s]"
      ]
     },
     "metadata": {},
     "output_type": "display_data"
    },
    {
     "name": "stdout",
     "output_type": "stream",
     "text": [
      "Epoch end: Validation, epoch number: 25\n",
      "ValidationEpoch/CM\n",
      " tensor([[ 53668,     82,   3419,  52835,     93,     87,     24,      0,   2446],\n",
      "        [     0, 114681,     90,      0,      1,    191,     50,      0,   1093],\n",
      "        [  3774,    372, 137051,   4245,    170,   1064,   1413,     75,    352],\n",
      "        [     0,      0,   5029, 108629,      0,    389,      8,     10,    239],\n",
      "        [    92,    221,   2632,  38652,  72368,    239,    159,      2,    461],\n",
      "        [     0,   1140,  14018,    100,      0,  96064,   2472,   1193,    185],\n",
      "        [     2,      0,  31436,  23496,     19,   1322,  31054,  26073,    206],\n",
      "        [     0,      2,    226,     99,      9,    121,  11287, 102762,      0],\n",
      "        [  1812,    543,   2102,  39969,      4,      4,     54,      0,  70684]])\n"
     ]
    },
    {
     "data": {
      "application/vnd.jupyter.widget-view+json": {
       "model_id": "81b6bc30414d4225b9608e49298274a4",
       "version_major": 2,
       "version_minor": 0
      },
      "text/plain": [
       "Training: |          | 0/? [00:00<?, ?it/s]"
      ]
     },
     "metadata": {},
     "output_type": "display_data"
    },
    {
     "data": {
      "application/vnd.jupyter.widget-view+json": {
       "model_id": "19a163e2c48249f9a33c92b3f88a09fd",
       "version_major": 2,
       "version_minor": 0
      },
      "text/plain": [
       "Validation: |          | 0/? [00:00<?, ?it/s]"
      ]
     },
     "metadata": {},
     "output_type": "display_data"
    },
    {
     "name": "stdout",
     "output_type": "stream",
     "text": [
      "Epoch end: Validation, epoch number: 26\n",
      "ValidationEpoch/CM\n",
      " tensor([[ 56003,     82,   3436,  55054,    108,     87,     26,      0,   2543],\n",
      "        [     0, 119496,     90,      0,      1,    191,     50,      0,   1108],\n",
      "        [  3864,    382, 142851,   4293,    170,   1106,   1600,     75,    352],\n",
      "        [     0,      0,   5093, 113311,      1,    389,      8,     10,    247],\n",
      "        [    97,    221,   2672,  39342,  76364,    239,    182,      2,    481],\n",
      "        [     0,   1145,  14194,    100,      0, 100663,   2482,   1193,    185],\n",
      "        [     6,      0,  32854,  24274,     31,   1367,  32735,  26845,    221],\n",
      "        [     0,      2,    226,     99,      9,    131,  11832, 106967,      0],\n",
      "        [  1878,    543,   2117,  40521,      6,      4,     54,      0,  74839]])\n",
      "Epoch end: Train, epoch number: 23\n",
      "TrainEpoch/CM\n",
      " tensor([[ 56003,     82,   3436,  55054,    108,     87,     26,      0,   2543],\n",
      "        [     0, 119496,     90,      0,      1,    191,     50,      0,   1108],\n",
      "        [  3864,    382, 142851,   4293,    170,   1106,   1600,     75,    352],\n",
      "        [     0,      0,   5093, 113311,      1,    389,      8,     10,    247],\n",
      "        [    97,    221,   2672,  39342,  76364,    239,    182,      2,    481],\n",
      "        [     0,   1145,  14194,    100,      0, 100663,   2482,   1193,    185],\n",
      "        [     6,      0,  32854,  24274,     31,   1367,  32735,  26845,    221],\n",
      "        [     0,      2,    226,     99,      9,    131,  11832, 106967,      0],\n",
      "        [  1878,    543,   2117,  40521,      6,      4,     54,      0,  74839]])\n"
     ]
    },
    {
     "name": "stderr",
     "output_type": "stream",
     "text": [
      "Metric Validation/Accuracy improved by 0.005 >= min_delta = 0.0. New best score: 0.825\n"
     ]
    },
    {
     "data": {
      "application/vnd.jupyter.widget-view+json": {
       "model_id": "5eb185a464944deca33f77018fef4866",
       "version_major": 2,
       "version_minor": 0
      },
      "text/plain": [
       "Validation: |          | 0/? [00:00<?, ?it/s]"
      ]
     },
     "metadata": {},
     "output_type": "display_data"
    },
    {
     "name": "stdout",
     "output_type": "stream",
     "text": [
      "Epoch end: Validation, epoch number: 27\n",
      "ValidationEpoch/CM\n",
      " tensor([[ 58371,     82,   3452,  57242,    122,     87,     28,      0,   2640],\n",
      "        [     0, 124319,     90,      0,      1,    191,     50,      0,   1115],\n",
      "        [  3957,    392, 148611,   4331,    170,   1147,   1835,     75,    352],\n",
      "        [     0,      0,   5160, 117984,      6,    389,      8,     10,    257],\n",
      "        [   102,    221,   2705,  39928,  80458,    239,    218,      2,    501],\n",
      "        [     0,   1150,  14332,    100,      0, 105300,   2492,   1193,    185],\n",
      "        [    12,      0,  34255,  25031,     45,   1412,  34464,  27603,    236],\n",
      "        [     0,      2,    226,     99,      9,    141,  12384, 111165,      0],\n",
      "        [  1950,    543,   2132,  40932,     11,      4,     54,      0,  79126]])\n",
      "Epoch end: Train, epoch number: 24\n",
      "TrainEpoch/CM\n",
      " tensor([[ 58371,     82,   3452,  57242,    122,     87,     28,      0,   2640],\n",
      "        [     0, 124319,     90,      0,      1,    191,     50,      0,   1115],\n",
      "        [  3957,    392, 148611,   4331,    170,   1147,   1835,     75,    352],\n",
      "        [     0,      0,   5160, 117984,      6,    389,      8,     10,    257],\n",
      "        [   102,    221,   2705,  39928,  80458,    239,    218,      2,    501],\n",
      "        [     0,   1150,  14332,    100,      0, 105300,   2492,   1193,    185],\n",
      "        [    12,      0,  34255,  25031,     45,   1412,  34464,  27603,    236],\n",
      "        [     0,      2,    226,     99,      9,    141,  12384, 111165,      0],\n",
      "        [  1950,    543,   2132,  40932,     11,      4,     54,      0,  79126]])\n"
     ]
    },
    {
     "name": "stderr",
     "output_type": "stream",
     "text": [
      "Metric Validation/Accuracy improved by 0.004 >= min_delta = 0.0. New best score: 0.829\n"
     ]
    },
    {
     "data": {
      "application/vnd.jupyter.widget-view+json": {
       "model_id": "3bba0e5daf2b4becb244e7f7775d6adf",
       "version_major": 2,
       "version_minor": 0
      },
      "text/plain": [
       "Validation: |          | 0/? [00:00<?, ?it/s]"
      ]
     },
     "metadata": {},
     "output_type": "display_data"
    },
    {
     "name": "stdout",
     "output_type": "stream",
     "text": [
      "Epoch end: Validation, epoch number: 28\n",
      "ValidationEpoch/CM\n",
      " tensor([[ 60765,     82,   3468,  59390,    145,     87,     31,      0,   2741],\n",
      "        [     0, 129149,     90,      0,      1,    191,     50,      0,   1115],\n",
      "        [  4048,    402, 154396,   4360,    170,   1186,   2058,     75,    352],\n",
      "        [     0,      0,   5221, 122656,     16,    389,     10,     10,    267],\n",
      "        [   107,    221,   2741,  40462,  84609,    239,    246,      2,    521],\n",
      "        [     0,   1155,  14464,    100,      0, 109943,   2502,   1193,    185],\n",
      "        [    18,      0,  35662,  25777,     64,   1457,  36211,  28342,    252],\n",
      "        [     0,      2,    226,     99,      9,    153,  12933, 115364,      0],\n",
      "        [  2018,    543,   2147,  41319,     15,      4,     54,      0,  83442]])\n",
      "Epoch end: Train, epoch number: 25\n",
      "TrainEpoch/CM\n",
      " tensor([[ 60765,     82,   3468,  59390,    145,     87,     31,      0,   2741],\n",
      "        [     0, 129149,     90,      0,      1,    191,     50,      0,   1115],\n",
      "        [  4048,    402, 154396,   4360,    170,   1186,   2058,     75,    352],\n",
      "        [     0,      0,   5221, 122656,     16,    389,     10,     10,    267],\n",
      "        [   107,    221,   2741,  40462,  84609,    239,    246,      2,    521],\n",
      "        [     0,   1155,  14464,    100,      0, 109943,   2502,   1193,    185],\n",
      "        [    18,      0,  35662,  25777,     64,   1457,  36211,  28342,    252],\n",
      "        [     0,      2,    226,     99,      9,    153,  12933, 115364,      0],\n",
      "        [  2018,    543,   2147,  41319,     15,      4,     54,      0,  83442]])\n"
     ]
    },
    {
     "name": "stderr",
     "output_type": "stream",
     "text": [
      "Metric Validation/Accuracy improved by 0.007 >= min_delta = 0.0. New best score: 0.835\n"
     ]
    },
    {
     "data": {
      "application/vnd.jupyter.widget-view+json": {
       "model_id": "a38e73f37321448396adc012374cfcbd",
       "version_major": 2,
       "version_minor": 0
      },
      "text/plain": [
       "Validation: |          | 0/? [00:00<?, ?it/s]"
      ]
     },
     "metadata": {},
     "output_type": "display_data"
    },
    {
     "name": "stdout",
     "output_type": "stream",
     "text": [
      "Epoch end: Validation, epoch number: 29\n",
      "ValidationEpoch/CM\n",
      " tensor([[ 63158,     82,   3483,  61538,    171,     87,     36,      0,   2839],\n",
      "        [     0, 133978,     91,      0,      1,    191,     50,      0,   1115],\n",
      "        [  4134,    409, 160171,   4381,    170,   1215,   2317,     75,    352],\n",
      "        [     0,      0,   5279, 127334,     22,    389,     13,     10,    277],\n",
      "        [   112,    221,   2772,  40900,  88850,    239,    285,      2,    541],\n",
      "        [     0,   1160,  14582,    100,      0, 114600,   2512,   1193,    185],\n",
      "        [    25,      0,  37047,  26502,     88,   1502,  38003,  29070,    271],\n",
      "        [     0,      2,    226,     99,      9,    168,  13476, 119566,      0],\n",
      "        [  2088,    543,   2162,  41607,     20,      4,     54,      0,  87854]])\n",
      "Epoch end: Train, epoch number: 26\n",
      "TrainEpoch/CM\n",
      " tensor([[ 63158,     82,   3483,  61538,    171,     87,     36,      0,   2839],\n",
      "        [     0, 133978,     91,      0,      1,    191,     50,      0,   1115],\n",
      "        [  4134,    409, 160171,   4381,    170,   1215,   2317,     75,    352],\n",
      "        [     0,      0,   5279, 127334,     22,    389,     13,     10,    277],\n",
      "        [   112,    221,   2772,  40900,  88850,    239,    285,      2,    541],\n",
      "        [     0,   1160,  14582,    100,      0, 114600,   2512,   1193,    185],\n",
      "        [    25,      0,  37047,  26502,     88,   1502,  38003,  29070,    271],\n",
      "        [     0,      2,    226,     99,      9,    168,  13476, 119566,      0],\n",
      "        [  2088,    543,   2162,  41607,     20,      4,     54,      0,  87854]])\n"
     ]
    },
    {
     "name": "stderr",
     "output_type": "stream",
     "text": [
      "Metric Validation/Accuracy improved by 0.003 >= min_delta = 0.0. New best score: 0.838\n"
     ]
    },
    {
     "data": {
      "application/vnd.jupyter.widget-view+json": {
       "model_id": "9b672ee7dd82484194624712430b7760",
       "version_major": 2,
       "version_minor": 0
      },
      "text/plain": [
       "Validation: |          | 0/? [00:00<?, ?it/s]"
      ]
     },
     "metadata": {},
     "output_type": "display_data"
    },
    {
     "name": "stdout",
     "output_type": "stream",
     "text": [
      "Epoch end: Validation, epoch number: 30\n",
      "ValidationEpoch/CM\n",
      " tensor([[ 65614,     82,   3500,  63621,    193,     87,     41,      0,   2941],\n",
      "        [     0, 138808,     91,      0,      1,    191,     50,      0,   1115],\n",
      "        [  4216,    414, 165964,   4401,    170,   1243,   2566,     75,    352],\n",
      "        [     5,      0,   5337, 132006,     30,    389,     14,     10,    288],\n",
      "        [   117,    221,   2800,  41312,  93122,    239,    322,      2,    561],\n",
      "        [     0,   1165,  14688,    100,      0, 119273,   2518,   1193,    185],\n",
      "        [    35,      0,  38446,  27220,    111,   1547,  39771,  29812,    291],\n",
      "        [     0,      2,    226,     99,      9,    183,  13998, 123789,      0],\n",
      "        [  2160,    543,   2177,  41863,     25,      4,     54,      0,  92296]])\n",
      "Epoch end: Train, epoch number: 27\n",
      "TrainEpoch/CM\n",
      " tensor([[ 65614,     82,   3500,  63621,    193,     87,     41,      0,   2941],\n",
      "        [     0, 138808,     91,      0,      1,    191,     50,      0,   1115],\n",
      "        [  4216,    414, 165964,   4401,    170,   1243,   2566,     75,    352],\n",
      "        [     5,      0,   5337, 132006,     30,    389,     14,     10,    288],\n",
      "        [   117,    221,   2800,  41312,  93122,    239,    322,      2,    561],\n",
      "        [     0,   1165,  14688,    100,      0, 119273,   2518,   1193,    185],\n",
      "        [    35,      0,  38446,  27220,    111,   1547,  39771,  29812,    291],\n",
      "        [     0,      2,    226,     99,      9,    183,  13998, 123789,      0],\n",
      "        [  2160,    543,   2177,  41863,     25,      4,     54,      0,  92296]])\n"
     ]
    },
    {
     "data": {
      "application/vnd.jupyter.widget-view+json": {
       "model_id": "11bc4e0133bf4df78a5090f6889d76fd",
       "version_major": 2,
       "version_minor": 0
      },
      "text/plain": [
       "Validation: |          | 0/? [00:00<?, ?it/s]"
      ]
     },
     "metadata": {},
     "output_type": "display_data"
    },
    {
     "name": "stdout",
     "output_type": "stream",
     "text": [
      "Epoch end: Validation, epoch number: 31\n",
      "ValidationEpoch/CM\n",
      " tensor([[ 68073,     82,   3514,  65701,    219,     87,     46,      0,   3042],\n",
      "        [     0, 143638,     91,      0,      1,    191,     50,      0,   1115],\n",
      "        [  4298,    419, 171734,   4418,    170,   1267,   2845,     75,    352],\n",
      "        [     6,      0,   5388, 136674,     44,    389,     22,     10,    301],\n",
      "        [   122,    221,   2821,  41699,  97425,    239,    360,      2,    581],\n",
      "        [     0,   1170,  14779,    100,      0, 123961,   2524,   1193,    185],\n",
      "        [    45,      0,  39816,  27919,    139,   1583,  41592,  30553,    311],\n",
      "        [     0,      2,    226,     99,      9,    198,  14510, 128022,      0],\n",
      "        [  2230,    543,   2190,  42104,     30,      4,     54,      0,  96757]])\n",
      "Epoch end: Train, epoch number: 28\n",
      "TrainEpoch/CM\n",
      " tensor([[ 68073,     82,   3514,  65701,    219,     87,     46,      0,   3042],\n",
      "        [     0, 143638,     91,      0,      1,    191,     50,      0,   1115],\n",
      "        [  4298,    419, 171734,   4418,    170,   1267,   2845,     75,    352],\n",
      "        [     6,      0,   5388, 136674,     44,    389,     22,     10,    301],\n",
      "        [   122,    221,   2821,  41699,  97425,    239,    360,      2,    581],\n",
      "        [     0,   1170,  14779,    100,      0, 123961,   2524,   1193,    185],\n",
      "        [    45,      0,  39816,  27919,    139,   1583,  41592,  30553,    311],\n",
      "        [     0,      2,    226,     99,      9,    198,  14510, 128022,      0],\n",
      "        [  2230,    543,   2190,  42104,     30,      4,     54,      0,  96757]])\n"
     ]
    },
    {
     "name": "stderr",
     "output_type": "stream",
     "text": [
      "Metric Validation/Accuracy improved by 0.004 >= min_delta = 0.0. New best score: 0.842\n"
     ]
    },
    {
     "data": {
      "application/vnd.jupyter.widget-view+json": {
       "model_id": "d22f5b8da7fe4e90ace7fcd6da9e1b25",
       "version_major": 2,
       "version_minor": 0
      },
      "text/plain": [
       "Validation: |          | 0/? [00:00<?, ?it/s]"
      ]
     },
     "metadata": {},
     "output_type": "display_data"
    },
    {
     "name": "stdout",
     "output_type": "stream",
     "text": [
      "Epoch end: Validation, epoch number: 32\n",
      "ValidationEpoch/CM\n",
      " tensor([[ 70628,     82,   3526,  67684,    249,     87,     52,      0,   3141],\n",
      "        [     0, 148468,     91,      0,      1,    191,     50,      0,   1115],\n",
      "        [  4388,    424, 177513,   4429,    170,   1291,   3113,     75,    352],\n",
      "        [    18,      0,   5440, 141324,     62,    389,     31,     10,    315],\n",
      "        [   127,    221,   2842,  42039, 101773,    239,    400,      2,    601],\n",
      "        [     0,   1175,  14864,    100,      0, 128655,   2530,   1193,    185],\n",
      "        [    55,      0,  41187,  28593,    174,   1613,  43444,  31285,    332],\n",
      "        [     0,      2,    226,     99,      9,    211,  15017, 132262,      0],\n",
      "        [  2305,    543,   2205,  42341,     35,      4,     54,      0, 101215]])\n"
     ]
    },
    {
     "name": "stderr",
     "output_type": "stream",
     "text": [
      "Metric Validation/Accuracy improved by 0.001 >= min_delta = 0.0. New best score: 0.843\n"
     ]
    },
    {
     "name": "stdout",
     "output_type": "stream",
     "text": [
      "Epoch end: Train, epoch number: 29\n",
      "TrainEpoch/CM\n",
      " tensor([[ 70628,     82,   3526,  67684,    249,     87,     52,      0,   3141],\n",
      "        [     0, 148468,     91,      0,      1,    191,     50,      0,   1115],\n",
      "        [  4388,    424, 177513,   4429,    170,   1291,   3113,     75,    352],\n",
      "        [    18,      0,   5440, 141324,     62,    389,     31,     10,    315],\n",
      "        [   127,    221,   2842,  42039, 101773,    239,    400,      2,    601],\n",
      "        [     0,   1175,  14864,    100,      0, 128655,   2530,   1193,    185],\n",
      "        [    55,      0,  41187,  28593,    174,   1613,  43444,  31285,    332],\n",
      "        [     0,      2,    226,     99,      9,    211,  15017, 132262,      0],\n",
      "        [  2305,    543,   2205,  42341,     35,      4,     54,      0, 101215]])\n"
     ]
    },
    {
     "data": {
      "application/vnd.jupyter.widget-view+json": {
       "model_id": "794aa5cc5ed04eb08aa6ac505dccaf90",
       "version_major": 2,
       "version_minor": 0
      },
      "text/plain": [
       "Validation: |          | 0/? [00:00<?, ?it/s]"
      ]
     },
     "metadata": {},
     "output_type": "display_data"
    },
    {
     "name": "stdout",
     "output_type": "stream",
     "text": [
      "Epoch end: Validation, epoch number: 33\n",
      "ValidationEpoch/CM\n",
      " tensor([[ 73213,     82,   3539,  69645,    272,     87,     57,      0,   3239],\n",
      "        [     0, 153298,     91,      0,      1,    191,     50,      0,   1115],\n",
      "        [  4478,    429, 183290,   4437,    170,   1315,   3386,     75,    352],\n",
      "        [    34,      0,   5490, 145977,     71,    389,     45,     10,    328],\n",
      "        [   132,    221,   2857,  42359, 106146,    239,    441,      2,    621],\n",
      "        [     0,   1180,  14939,    100,      0, 133361,   2534,   1193,    185],\n",
      "        [    70,      0,  42545,  29245,    212,   1642,  45350,  31989,    355],\n",
      "        [     0,      2,    226,     99,      9,    226,  15538, 136486,      0],\n",
      "        [  2378,    543,   2220,  42554,     40,      4,     54,      0, 105699]])\n",
      "Epoch end: Train, epoch number: 30\n",
      "TrainEpoch/CM\n",
      " tensor([[ 73213,     82,   3539,  69645,    272,     87,     57,      0,   3239],\n",
      "        [     0, 153298,     91,      0,      1,    191,     50,      0,   1115],\n",
      "        [  4478,    429, 183290,   4437,    170,   1315,   3386,     75,    352],\n",
      "        [    34,      0,   5490, 145977,     71,    389,     45,     10,    328],\n",
      "        [   132,    221,   2857,  42359, 106146,    239,    441,      2,    621],\n",
      "        [     0,   1180,  14939,    100,      0, 133361,   2534,   1193,    185],\n",
      "        [    70,      0,  42545,  29245,    212,   1642,  45350,  31989,    355],\n",
      "        [     0,      2,    226,     99,      9,    226,  15538, 136486,      0],\n",
      "        [  2378,    543,   2220,  42554,     40,      4,     54,      0, 105699]])\n"
     ]
    },
    {
     "name": "stderr",
     "output_type": "stream",
     "text": [
      "Metric Validation/Accuracy improved by 0.005 >= min_delta = 0.0. New best score: 0.848\n"
     ]
    },
    {
     "data": {
      "application/vnd.jupyter.widget-view+json": {
       "model_id": "f0b5a152ea9e4f1ba25034b960bc6aec",
       "version_major": 2,
       "version_minor": 0
      },
      "text/plain": [
       "Validation: |          | 0/? [00:00<?, ?it/s]"
      ]
     },
     "metadata": {},
     "output_type": "display_data"
    },
    {
     "name": "stdout",
     "output_type": "stream",
     "text": [
      "Epoch end: Validation, epoch number: 34\n",
      "ValidationEpoch/CM\n",
      " tensor([[ 75813,     82,   3551,  71595,    292,     87,     62,      0,   3337],\n",
      "        [     0, 158128,     91,      0,      1,    191,     50,      0,   1115],\n",
      "        [  4566,    434, 189076,   4445,    170,   1339,   3652,     75,    352],\n",
      "        [    44,      0,   5535, 150644,     82,    389,     54,     10,    341],\n",
      "        [   137,    221,   2872,  42658, 110543,    239,    479,      2,    641],\n",
      "        [     0,   1185,  15002,    100,      0, 138079,   2538,   1193,    185],\n",
      "        [    80,      0,  43902,  29909,    249,   1664,  47252,  32701,    376],\n",
      "        [     0,      2,    226,     99,      9,    243,  16053, 140714,      0],\n",
      "        [  2451,    543,   2233,  42761,     45,      4,     54,      0, 110191]])\n",
      "Epoch end: Train, epoch number: 31\n",
      "TrainEpoch/CM\n",
      " tensor([[ 75813,     82,   3551,  71595,    292,     87,     62,      0,   3337],\n",
      "        [     0, 158128,     91,      0,      1,    191,     50,      0,   1115],\n",
      "        [  4566,    434, 189076,   4445,    170,   1339,   3652,     75,    352],\n",
      "        [    44,      0,   5535, 150644,     82,    389,     54,     10,    341],\n",
      "        [   137,    221,   2872,  42658, 110543,    239,    479,      2,    641],\n",
      "        [     0,   1185,  15002,    100,      0, 138079,   2538,   1193,    185],\n",
      "        [    80,      0,  43902,  29909,    249,   1664,  47252,  32701,    376],\n",
      "        [     0,      2,    226,     99,      9,    243,  16053, 140714,      0],\n",
      "        [  2451,    543,   2233,  42761,     45,      4,     54,      0, 110191]])\n"
     ]
    },
    {
     "name": "stderr",
     "output_type": "stream",
     "text": [
      "Metric Validation/Accuracy improved by 0.004 >= min_delta = 0.0. New best score: 0.852\n"
     ]
    },
    {
     "data": {
      "application/vnd.jupyter.widget-view+json": {
       "model_id": "c17d60b25fe54899a053afd7128ca928",
       "version_major": 2,
       "version_minor": 0
      },
      "text/plain": [
       "Validation: |          | 0/? [00:00<?, ?it/s]"
      ]
     },
     "metadata": {},
     "output_type": "display_data"
    },
    {
     "name": "stdout",
     "output_type": "stream",
     "text": [
      "Epoch end: Validation, epoch number: 35\n",
      "ValidationEpoch/CM\n",
      " tensor([[ 78600,     82,   3564,  73357,    309,     87,     70,      0,   3435],\n",
      "        [     0, 162958,     91,      0,      1,    191,     50,      0,   1115],\n",
      "        [  4645,    439, 194864,   4453,    170,   1362,   3926,     75,    352],\n",
      "        [    78,      0,   5572, 155290,     96,    389,     66,     10,    353],\n",
      "        [   142,    221,   2887,  42901, 114989,    239,    524,      2,    661],\n",
      "        [     0,   1190,  15060,    100,      0, 142805,   2539,   1193,    185],\n",
      "        [   102,      0,  45250,  30529,    290,   1685,  49186,  33415,    401],\n",
      "        [     0,      2,    226,     99,      9,    261,  16549, 144960,      0],\n",
      "        [  2525,    543,   2246,  42949,     50,      4,     54,      0, 114701]])\n"
     ]
    },
    {
     "name": "stderr",
     "output_type": "stream",
     "text": [
      "Metric Validation/Accuracy improved by 0.007 >= min_delta = 0.0. New best score: 0.859\n"
     ]
    },
    {
     "name": "stdout",
     "output_type": "stream",
     "text": [
      "Epoch end: Train, epoch number: 32\n",
      "TrainEpoch/CM\n",
      " tensor([[ 78600,     82,   3564,  73357,    309,     87,     70,      0,   3435],\n",
      "        [     0, 162958,     91,      0,      1,    191,     50,      0,   1115],\n",
      "        [  4645,    439, 194864,   4453,    170,   1362,   3926,     75,    352],\n",
      "        [    78,      0,   5572, 155290,     96,    389,     66,     10,    353],\n",
      "        [   142,    221,   2887,  42901, 114989,    239,    524,      2,    661],\n",
      "        [     0,   1190,  15060,    100,      0, 142805,   2539,   1193,    185],\n",
      "        [   102,      0,  45250,  30529,    290,   1685,  49186,  33415,    401],\n",
      "        [     0,      2,    226,     99,      9,    261,  16549, 144960,      0],\n",
      "        [  2525,    543,   2246,  42949,     50,      4,     54,      0, 114701]])\n"
     ]
    },
    {
     "data": {
      "application/vnd.jupyter.widget-view+json": {
       "model_id": "99317679c01f49af908070a9e8f63a15",
       "version_major": 2,
       "version_minor": 0
      },
      "text/plain": [
       "Validation: |          | 0/? [00:00<?, ?it/s]"
      ]
     },
     "metadata": {},
     "output_type": "display_data"
    },
    {
     "name": "stdout",
     "output_type": "stream",
     "text": [
      "Epoch end: Validation, epoch number: 36\n",
      "ValidationEpoch/CM\n",
      " tensor([[ 81414,     82,   3577,  75093,    321,     87,     79,      0,   3536],\n",
      "        [     0, 167788,     91,      0,      1,    191,     50,      0,   1115],\n",
      "        [  4723,    444, 200670,   4461,    170,   1382,   4186,     75,    352],\n",
      "        [   124,      0,   5599, 159932,    108,    389,     80,     10,    367],\n",
      "        [   147,    221,   2902,  43121, 119455,    239,    572,      2,    681],\n",
      "        [     0,   1195,  15115,    100,      0, 147534,   2540,   1193,    185],\n",
      "        [   127,      0,  46594,  31140,    332,   1703,  51140,  34121,    426],\n",
      "        [     0,      2,    226,     99,      9,    280,  17049, 149201,      0],\n",
      "        [  2602,    543,   2257,  43129,     55,      4,     54,      0, 119218]])\n",
      "Epoch end: Train, epoch number: 33\n",
      "TrainEpoch/CM\n",
      " tensor([[ 81414,     82,   3577,  75093,    321,     87,     79,      0,   3536],\n",
      "        [     0, 167788,     91,      0,      1,    191,     50,      0,   1115],\n",
      "        [  4723,    444, 200670,   4461,    170,   1382,   4186,     75,    352],\n",
      "        [   124,      0,   5599, 159932,    108,    389,     80,     10,    367],\n",
      "        [   147,    221,   2902,  43121, 119455,    239,    572,      2,    681],\n",
      "        [     0,   1195,  15115,    100,      0, 147534,   2540,   1193,    185],\n",
      "        [   127,      0,  46594,  31140,    332,   1703,  51140,  34121,    426],\n",
      "        [     0,      2,    226,     99,      9,    280,  17049, 149201,      0],\n",
      "        [  2602,    543,   2257,  43129,     55,      4,     54,      0, 119218]])\n"
     ]
    },
    {
     "data": {
      "application/vnd.jupyter.widget-view+json": {
       "model_id": "180f92d938974acf90cc2c2113ceeeac",
       "version_major": 2,
       "version_minor": 0
      },
      "text/plain": [
       "Validation: |          | 0/? [00:00<?, ?it/s]"
      ]
     },
     "metadata": {},
     "output_type": "display_data"
    },
    {
     "name": "stdout",
     "output_type": "stream",
     "text": [
      "Epoch end: Validation, epoch number: 37\n",
      "ValidationEpoch/CM\n",
      " tensor([[ 84287,     82,   3589,  76785,    324,     87,     87,      0,   3633],\n",
      "        [     0, 172618,     91,      0,      1,    191,     50,      0,   1115],\n",
      "        [  4797,    449, 206480,   4469,    170,   1402,   4446,     75,    352],\n",
      "        [   165,      0,   5619, 164589,    115,    389,     95,     10,    382],\n",
      "        [   152,    221,   2917,  43331, 123930,    239,    621,      2,    701],\n",
      "        [     0,   1200,  15163,    100,      0, 152271,   2540,   1193,    185],\n",
      "        [   155,      0,  47922,  31750,    372,   1718,  53131,  34809,    451],\n",
      "        [     0,      2,    226,     99,      9,    304,  17532, 153454,      0],\n",
      "        [  2679,    543,   2267,  43304,     60,      4,     54,      0, 123741]])\n",
      "Epoch end: Train, epoch number: 34\n",
      "TrainEpoch/CM\n",
      " tensor([[ 84287,     82,   3589,  76785,    324,     87,     87,      0,   3633],\n",
      "        [     0, 172618,     91,      0,      1,    191,     50,      0,   1115],\n",
      "        [  4797,    449, 206480,   4469,    170,   1402,   4446,     75,    352],\n",
      "        [   165,      0,   5619, 164589,    115,    389,     95,     10,    382],\n",
      "        [   152,    221,   2917,  43331, 123930,    239,    621,      2,    701],\n",
      "        [     0,   1200,  15163,    100,      0, 152271,   2540,   1193,    185],\n",
      "        [   155,      0,  47922,  31750,    372,   1718,  53131,  34809,    451],\n",
      "        [     0,      2,    226,     99,      9,    304,  17532, 153454,      0],\n",
      "        [  2679,    543,   2267,  43304,     60,      4,     54,      0, 123741]])\n"
     ]
    },
    {
     "name": "stderr",
     "output_type": "stream",
     "text": [
      "Metric Validation/Accuracy improved by 0.001 >= min_delta = 0.0. New best score: 0.860\n"
     ]
    },
    {
     "data": {
      "application/vnd.jupyter.widget-view+json": {
       "model_id": "f93ba2f936a840ba8139e42248e0c070",
       "version_major": 2,
       "version_minor": 0
      },
      "text/plain": [
       "Validation: |          | 0/? [00:00<?, ?it/s]"
      ]
     },
     "metadata": {},
     "output_type": "display_data"
    },
    {
     "name": "stdout",
     "output_type": "stream",
     "text": [
      "Epoch end: Validation, epoch number: 38\n",
      "ValidationEpoch/CM\n",
      " tensor([[ 87205,     82,   3602,  78429,    326,     87,     97,      0,   3731],\n",
      "        [     0, 177448,     91,      0,      1,    191,     50,      0,   1115],\n",
      "        [  4875,    454, 212297,   4477,    170,   1422,   4695,     75,    352],\n",
      "        [   212,      0,   5637, 169241,    120,    389,    112,     10,    398],\n",
      "        [   157,    221,   2932,  43503, 128443,    239,    670,      2,    721],\n",
      "        [     0,   1205,  15211,    100,      0, 157008,   2540,   1193,    185],\n",
      "        [   185,      0,  49244,  32340,    414,   1733,  55145,  35496,    476],\n",
      "        [     0,      2,    226,     99,      9,    329,  18005, 157716,      0],\n",
      "        [  2751,    543,   2277,  43479,     65,      4,     54,      0, 128269]])\n"
     ]
    },
    {
     "name": "stderr",
     "output_type": "stream",
     "text": [
      "Metric Validation/Accuracy improved by 0.005 >= min_delta = 0.0. New best score: 0.865\n"
     ]
    },
    {
     "name": "stdout",
     "output_type": "stream",
     "text": [
      "Epoch end: Train, epoch number: 35\n",
      "TrainEpoch/CM\n",
      " tensor([[ 87205,     82,   3602,  78429,    326,     87,     97,      0,   3731],\n",
      "        [     0, 177448,     91,      0,      1,    191,     50,      0,   1115],\n",
      "        [  4875,    454, 212297,   4477,    170,   1422,   4695,     75,    352],\n",
      "        [   212,      0,   5637, 169241,    120,    389,    112,     10,    398],\n",
      "        [   157,    221,   2932,  43503, 128443,    239,    670,      2,    721],\n",
      "        [     0,   1205,  15211,    100,      0, 157008,   2540,   1193,    185],\n",
      "        [   185,      0,  49244,  32340,    414,   1733,  55145,  35496,    476],\n",
      "        [     0,      2,    226,     99,      9,    329,  18005, 157716,      0],\n",
      "        [  2751,    543,   2277,  43479,     65,      4,     54,      0, 128269]])\n"
     ]
    },
    {
     "data": {
      "application/vnd.jupyter.widget-view+json": {
       "model_id": "38ecd74ef8ef441f8a31600749101096",
       "version_major": 2,
       "version_minor": 0
      },
      "text/plain": [
       "Validation: |          | 0/? [00:00<?, ?it/s]"
      ]
     },
     "metadata": {},
     "output_type": "display_data"
    },
    {
     "name": "stdout",
     "output_type": "stream",
     "text": [
      "Epoch end: Validation, epoch number: 39\n",
      "ValidationEpoch/CM\n",
      " tensor([[ 90169,     82,   3617,  80031,    326,     87,    105,      0,   3827],\n",
      "        [     0, 182278,     91,      0,      1,    191,     50,      0,   1115],\n",
      "        [  4947,    459, 218125,   4485,    170,   1438,   4943,     75,    352],\n",
      "        [   262,      0,   5654, 173885,    130,    389,    130,     10,    414],\n",
      "        [   162,    221,   2944,  43654, 132984,    239,    715,      2,    741],\n",
      "        [     0,   1210,  15259,    100,      0, 161745,   2540,   1193,    185],\n",
      "        [   219,      0,  50561,  32923,    461,   1747,  57168,  36178,    501],\n",
      "        [     0,      2,    226,     99,      9,    354,  18473, 161983,      0],\n",
      "        [  2826,    543,   2287,  43650,     70,      4,     54,      0, 132798]])\n",
      "Epoch end: Train, epoch number: 36\n",
      "TrainEpoch/CM\n",
      " tensor([[ 90169,     82,   3617,  80031,    326,     87,    105,      0,   3827],\n",
      "        [     0, 182278,     91,      0,      1,    191,     50,      0,   1115],\n",
      "        [  4947,    459, 218125,   4485,    170,   1438,   4943,     75,    352],\n",
      "        [   262,      0,   5654, 173885,    130,    389,    130,     10,    414],\n",
      "        [   162,    221,   2944,  43654, 132984,    239,    715,      2,    741],\n",
      "        [     0,   1210,  15259,    100,      0, 161745,   2540,   1193,    185],\n",
      "        [   219,      0,  50561,  32923,    461,   1747,  57168,  36178,    501],\n",
      "        [     0,      2,    226,     99,      9,    354,  18473, 161983,      0],\n",
      "        [  2826,    543,   2287,  43650,     70,      4,     54,      0, 132798]])\n"
     ]
    },
    {
     "data": {
      "application/vnd.jupyter.widget-view+json": {
       "model_id": "5a082c4f7c9f4d4892027de8a8f9b2cd",
       "version_major": 2,
       "version_minor": 0
      },
      "text/plain": [
       "Validation: |          | 0/? [00:00<?, ?it/s]"
      ]
     },
     "metadata": {},
     "output_type": "display_data"
    },
    {
     "name": "stdout",
     "output_type": "stream",
     "text": [
      "Epoch end: Validation, epoch number: 40\n",
      "ValidationEpoch/CM\n",
      " tensor([[ 93127,     82,   3635,  81627,    334,     87,    115,      0,   3922],\n",
      "        [     0, 187108,     91,      0,      1,    191,     50,      0,   1115],\n",
      "        [  5017,    464, 223981,   4493,    170,   1449,   5170,     75,    352],\n",
      "        [   309,      0,   5673, 178533,    138,    389,    146,     10,    431],\n",
      "        [   167,    221,   2957,  43787, 137548,    239,    758,      2,    757],\n",
      "        [     0,   1215,  15306,    100,      0, 166483,   2540,   1193,    185],\n",
      "        [   257,      0,  51889,  33502,    506,   1760,  59175,  36868,    526],\n",
      "        [     0,      2,    226,     99,      9,    379,  18926, 166265,      0],\n",
      "        [  2904,    543,   2297,  43809,     75,      4,     54,      0, 137336]])\n",
      "Epoch end: Train, epoch number: 37\n",
      "TrainEpoch/CM\n",
      " tensor([[ 93127,     82,   3635,  81627,    334,     87,    115,      0,   3922],\n",
      "        [     0, 187108,     91,      0,      1,    191,     50,      0,   1115],\n",
      "        [  5017,    464, 223981,   4493,    170,   1449,   5170,     75,    352],\n",
      "        [   309,      0,   5673, 178533,    138,    389,    146,     10,    431],\n",
      "        [   167,    221,   2957,  43787, 137548,    239,    758,      2,    757],\n",
      "        [     0,   1215,  15306,    100,      0, 166483,   2540,   1193,    185],\n",
      "        [   257,      0,  51889,  33502,    506,   1760,  59175,  36868,    526],\n",
      "        [     0,      2,    226,     99,      9,    379,  18926, 166265,      0],\n",
      "        [  2904,    543,   2297,  43809,     75,      4,     54,      0, 137336]])\n"
     ]
    },
    {
     "name": "stderr",
     "output_type": "stream",
     "text": [
      "Metric Validation/Accuracy improved by 0.005 >= min_delta = 0.0. New best score: 0.870\n"
     ]
    },
    {
     "data": {
      "application/vnd.jupyter.widget-view+json": {
       "model_id": "7d6086e5b0c24aca881e441c0052327d",
       "version_major": 2,
       "version_minor": 0
      },
      "text/plain": [
       "Validation: |          | 0/? [00:00<?, ?it/s]"
      ]
     },
     "metadata": {},
     "output_type": "display_data"
    },
    {
     "name": "stdout",
     "output_type": "stream",
     "text": [
      "Epoch end: Validation, epoch number: 41\n",
      "ValidationEpoch/CM\n",
      " tensor([[ 96185,     82,   3650,  83133,    334,     87,    125,      0,   4018],\n",
      "        [     0, 191938,     91,      0,      1,    191,     50,      0,   1115],\n",
      "        [  5091,    469, 229827,   4501,    170,   1457,   5406,     75,    352],\n",
      "        [   378,      0,   5686, 183150,    147,    389,    170,     10,    454],\n",
      "        [   172,    221,   2971,  43910, 142116,    239,    805,      2,    774],\n",
      "        [     0,   1220,  15348,    100,      0, 171226,   2540,   1193,    185],\n",
      "        [   299,      0,  53193,  34064,    551,   1770,  61230,  37550,    551],\n",
      "        [     0,      2,    226,     99,      9,    402,  19380, 170548,      0],\n",
      "        [  2978,    543,   2307,  43967,     80,      4,     54,      0, 141879]])\n"
     ]
    },
    {
     "name": "stderr",
     "output_type": "stream",
     "text": [
      "Metric Validation/Accuracy improved by 0.001 >= min_delta = 0.0. New best score: 0.871\n"
     ]
    },
    {
     "name": "stdout",
     "output_type": "stream",
     "text": [
      "Epoch end: Train, epoch number: 38\n",
      "TrainEpoch/CM\n",
      " tensor([[ 96185,     82,   3650,  83133,    334,     87,    125,      0,   4018],\n",
      "        [     0, 191938,     91,      0,      1,    191,     50,      0,   1115],\n",
      "        [  5091,    469, 229827,   4501,    170,   1457,   5406,     75,    352],\n",
      "        [   378,      0,   5686, 183150,    147,    389,    170,     10,    454],\n",
      "        [   172,    221,   2971,  43910, 142116,    239,    805,      2,    774],\n",
      "        [     0,   1220,  15348,    100,      0, 171226,   2540,   1193,    185],\n",
      "        [   299,      0,  53193,  34064,    551,   1770,  61230,  37550,    551],\n",
      "        [     0,      2,    226,     99,      9,    402,  19380, 170548,      0],\n",
      "        [  2978,    543,   2307,  43967,     80,      4,     54,      0, 141879]])\n"
     ]
    },
    {
     "data": {
      "application/vnd.jupyter.widget-view+json": {
       "model_id": "c4b2d6e2b0b246e1b63e8bde7a7fb41d",
       "version_major": 2,
       "version_minor": 0
      },
      "text/plain": [
       "Validation: |          | 0/? [00:00<?, ?it/s]"
      ]
     },
     "metadata": {},
     "output_type": "display_data"
    },
    {
     "name": "stdout",
     "output_type": "stream",
     "text": [
      "Epoch end: Validation, epoch number: 42\n",
      "ValidationEpoch/CM\n",
      " tensor([[ 99247,     82,   3663,  84635,    334,     87,    135,      0,   4116],\n",
      "        [     0, 196768,     91,      0,      1,    191,     50,      0,   1115],\n",
      "        [  5168,    474, 235666,   4509,    170,   1465,   5646,     75,    352],\n",
      "        [   435,      0,   5698, 187781,    157,    389,    194,     10,    475],\n",
      "        [   177,    221,   2985,  44023, 146702,    239,    845,      2,    790],\n",
      "        [     0,   1225,  15383,    100,      0, 175976,   2540,   1193,    185],\n",
      "        [   342,      0,  54497,  34619,    600,   1780,  63314,  38205,    576],\n",
      "        [     0,      2,    226,     99,      9,    430,  19846, 174814,      0],\n",
      "        [  3051,    543,   2317,  44119,     85,      4,     54,      0, 146429]])\n",
      "Epoch end: Train, epoch number: 39\n",
      "TrainEpoch/CM\n",
      " tensor([[ 99247,     82,   3663,  84635,    334,     87,    135,      0,   4116],\n",
      "        [     0, 196768,     91,      0,      1,    191,     50,      0,   1115],\n",
      "        [  5168,    474, 235666,   4509,    170,   1465,   5646,     75,    352],\n",
      "        [   435,      0,   5698, 187781,    157,    389,    194,     10,    475],\n",
      "        [   177,    221,   2985,  44023, 146702,    239,    845,      2,    790],\n",
      "        [     0,   1225,  15383,    100,      0, 175976,   2540,   1193,    185],\n",
      "        [   342,      0,  54497,  34619,    600,   1780,  63314,  38205,    576],\n",
      "        [     0,      2,    226,     99,      9,    430,  19846, 174814,      0],\n",
      "        [  3051,    543,   2317,  44119,     85,      4,     54,      0, 146429]])\n"
     ]
    },
    {
     "name": "stderr",
     "output_type": "stream",
     "text": [
      "Metric Validation/Accuracy improved by 0.005 >= min_delta = 0.0. New best score: 0.876\n"
     ]
    },
    {
     "data": {
      "application/vnd.jupyter.widget-view+json": {
       "model_id": "201aa02174cd44a6af20dd1abe76a542",
       "version_major": 2,
       "version_minor": 0
      },
      "text/plain": [
       "Validation: |          | 0/? [00:00<?, ?it/s]"
      ]
     },
     "metadata": {},
     "output_type": "display_data"
    },
    {
     "name": "stdout",
     "output_type": "stream",
     "text": [
      "Epoch end: Validation, epoch number: 43\n",
      "ValidationEpoch/CM\n",
      " tensor([[102492,     82,   3681,  85946,    334,     87,    148,      0,   4214],\n",
      "        [     0, 201598,     91,      0,      1,    191,     50,      0,   1115],\n",
      "        [  5241,    479, 241493,   4515,    170,   1473,   5904,     75,    352],\n",
      "        [   522,      0,   5708, 192377,    167,    389,    220,     10,    501],\n",
      "        [   182,    221,   2997,  44128, 151297,    239,    887,      2,    805],\n",
      "        [     0,   1230,  15416,    100,      0, 180728,   2540,   1193,    185],\n",
      "        [   397,      0,  55771,  35152,    647,   1790,  65468,  38832,    601],\n",
      "        [     0,      2,    226,     99,      9,    455,  20326, 179069,      0],\n",
      "        [  3130,    543,   2327,  44260,     90,      4,     55,      0, 150983]])\n",
      "Epoch end: Train, epoch number: 40\n",
      "TrainEpoch/CM\n",
      " tensor([[102492,     82,   3681,  85946,    334,     87,    148,      0,   4214],\n",
      "        [     0, 201598,     91,      0,      1,    191,     50,      0,   1115],\n",
      "        [  5241,    479, 241493,   4515,    170,   1473,   5904,     75,    352],\n",
      "        [   522,      0,   5708, 192377,    167,    389,    220,     10,    501],\n",
      "        [   182,    221,   2997,  44128, 151297,    239,    887,      2,    805],\n",
      "        [     0,   1230,  15416,    100,      0, 180728,   2540,   1193,    185],\n",
      "        [   397,      0,  55771,  35152,    647,   1790,  65468,  38832,    601],\n",
      "        [     0,      2,    226,     99,      9,    455,  20326, 179069,      0],\n",
      "        [  3130,    543,   2327,  44260,     90,      4,     55,      0, 150983]])\n"
     ]
    },
    {
     "name": "stderr",
     "output_type": "stream",
     "text": [
      "Metric Validation/Accuracy improved by 0.003 >= min_delta = 0.0. New best score: 0.879\n"
     ]
    },
    {
     "data": {
      "application/vnd.jupyter.widget-view+json": {
       "model_id": "f6bf981f5da74120b7c6c78d57527bb4",
       "version_major": 2,
       "version_minor": 0
      },
      "text/plain": [
       "Validation: |          | 0/? [00:00<?, ?it/s]"
      ]
     },
     "metadata": {},
     "output_type": "display_data"
    },
    {
     "name": "stdout",
     "output_type": "stream",
     "text": [
      "Epoch end: Validation, epoch number: 44\n",
      "ValidationEpoch/CM\n",
      " tensor([[105665,     82,   3697,  87334,    334,     87,    158,      0,   4312],\n",
      "        [     0, 206428,     91,      0,      1,    191,     50,      0,   1115],\n",
      "        [  5314,    484, 247333,   4523,    170,   1481,   6147,     75,    352],\n",
      "        [   595,      0,   5716, 197000,    170,    389,    248,     10,    521],\n",
      "        [   187,    221,   3007,  44234, 155891,    239,    930,      2,    821],\n",
      "        [     0,   1234,  15443,    100,      0, 185487,   2540,   1193,    185],\n",
      "        [   456,      0,  57032,  35706,    686,   1800,  67603,  39474,    626],\n",
      "        [     0,      2,    226,     99,      9,    476,  20792, 183342,      0],\n",
      "        [  3196,    543,   2337,  44416,     95,      4,     56,      0, 155535]])\n"
     ]
    },
    {
     "name": "stderr",
     "output_type": "stream",
     "text": [
      "Metric Validation/Accuracy improved by 0.000 >= min_delta = 0.0. New best score: 0.879\n"
     ]
    },
    {
     "name": "stdout",
     "output_type": "stream",
     "text": [
      "Epoch end: Train, epoch number: 41\n",
      "TrainEpoch/CM\n",
      " tensor([[105665,     82,   3697,  87334,    334,     87,    158,      0,   4312],\n",
      "        [     0, 206428,     91,      0,      1,    191,     50,      0,   1115],\n",
      "        [  5314,    484, 247333,   4523,    170,   1481,   6147,     75,    352],\n",
      "        [   595,      0,   5716, 197000,    170,    389,    248,     10,    521],\n",
      "        [   187,    221,   3007,  44234, 155891,    239,    930,      2,    821],\n",
      "        [     0,   1234,  15443,    100,      0, 185487,   2540,   1193,    185],\n",
      "        [   456,      0,  57032,  35706,    686,   1800,  67603,  39474,    626],\n",
      "        [     0,      2,    226,     99,      9,    476,  20792, 183342,      0],\n",
      "        [  3196,    543,   2337,  44416,     95,      4,     56,      0, 155535]])\n"
     ]
    },
    {
     "data": {
      "application/vnd.jupyter.widget-view+json": {
       "model_id": "14b9866e747b44609959d1f4f86ad128",
       "version_major": 2,
       "version_minor": 0
      },
      "text/plain": [
       "Validation: |          | 0/? [00:00<?, ?it/s]"
      ]
     },
     "metadata": {},
     "output_type": "display_data"
    },
    {
     "name": "stdout",
     "output_type": "stream",
     "text": [
      "Epoch end: Validation, epoch number: 45\n",
      "ValidationEpoch/CM\n",
      " tensor([[108902,     82,   3714,  88656,    334,     87,    172,      0,   4407],\n",
      "        [     0, 211258,     91,      0,      1,    191,     50,      0,   1115],\n",
      "        [  5381,    488, 253189,   4530,    170,   1489,   6382,     75,    352],\n",
      "        [   674,      0,   5723, 201607,    175,    389,    280,     10,    546],\n",
      "        [   192,    221,   3017,  44332, 160498,    239,    969,      2,    836],\n",
      "        [     0,   1236,  15470,    100,      0, 190248,   2540,   1193,    185],\n",
      "        [   514,      0,  58297,  36227,    736,   1810,  69735,  40138,    651],\n",
      "        [     0,      2,    226,     99,      9,    501,  21227, 187642,      0],\n",
      "        [  3272,    543,   2347,  44549,    100,      4,     60,      0, 160097]])\n",
      "Epoch end: Train, epoch number: 42\n",
      "TrainEpoch/CM\n",
      " tensor([[108902,     82,   3714,  88656,    334,     87,    172,      0,   4407],\n",
      "        [     0, 211258,     91,      0,      1,    191,     50,      0,   1115],\n",
      "        [  5381,    488, 253189,   4530,    170,   1489,   6382,     75,    352],\n",
      "        [   674,      0,   5723, 201607,    175,    389,    280,     10,    546],\n",
      "        [   192,    221,   3017,  44332, 160498,    239,    969,      2,    836],\n",
      "        [     0,   1236,  15470,    100,      0, 190248,   2540,   1193,    185],\n",
      "        [   514,      0,  58297,  36227,    736,   1810,  69735,  40138,    651],\n",
      "        [     0,      2,    226,     99,      9,    501,  21227, 187642,      0],\n",
      "        [  3272,    543,   2347,  44549,    100,      4,     60,      0, 160097]])\n"
     ]
    },
    {
     "data": {
      "application/vnd.jupyter.widget-view+json": {
       "model_id": "24ae6b2145d04759aa829c7d95c59915",
       "version_major": 2,
       "version_minor": 0
      },
      "text/plain": [
       "Validation: |          | 0/? [00:00<?, ?it/s]"
      ]
     },
     "metadata": {},
     "output_type": "display_data"
    },
    {
     "name": "stdout",
     "output_type": "stream",
     "text": [
      "Epoch end: Validation, epoch number: 46\n",
      "ValidationEpoch/CM\n",
      " tensor([[112142,     82,   3733,  89967,    334,     87,    186,      0,   4508],\n",
      "        [     0, 216088,     91,      0,      1,    191,     50,      0,   1115],\n",
      "        [  5451,    492, 259058,   4538,    170,   1497,   6600,     75,    352],\n",
      "        [   754,      0,   5732, 206214,    177,    389,    308,     10,    575],\n",
      "        [   197,    221,   3028,  44431, 165102,    239,   1009,      2,    851],\n",
      "        [     0,   1237,  15493,    100,      0, 195014,   2540,   1193,    185],\n",
      "        [   575,      0,  59563,  36761,    782,   1820,  71887,  40769,    676],\n",
      "        [     0,      2,    226,     99,      9,    526,  21665, 191939,      0],\n",
      "        [  3338,    543,   2357,  44688,    105,      4,     60,      0, 164667]])\n",
      "Epoch end: Train, epoch number: 43\n",
      "TrainEpoch/CM\n",
      " tensor([[112142,     82,   3733,  89967,    334,     87,    186,      0,   4508],\n",
      "        [     0, 216088,     91,      0,      1,    191,     50,      0,   1115],\n",
      "        [  5451,    492, 259058,   4538,    170,   1497,   6600,     75,    352],\n",
      "        [   754,      0,   5732, 206214,    177,    389,    308,     10,    575],\n",
      "        [   197,    221,   3028,  44431, 165102,    239,   1009,      2,    851],\n",
      "        [     0,   1237,  15493,    100,      0, 195014,   2540,   1193,    185],\n",
      "        [   575,      0,  59563,  36761,    782,   1820,  71887,  40769,    676],\n",
      "        [     0,      2,    226,     99,      9,    526,  21665, 191939,      0],\n",
      "        [  3338,    543,   2357,  44688,    105,      4,     60,      0, 164667]])\n"
     ]
    },
    {
     "name": "stderr",
     "output_type": "stream",
     "text": [
      "Metric Validation/Accuracy improved by 0.000 >= min_delta = 0.0. New best score: 0.880\n"
     ]
    },
    {
     "data": {
      "application/vnd.jupyter.widget-view+json": {
       "model_id": "30ae4cde18fc4435a315250c67e71feb",
       "version_major": 2,
       "version_minor": 0
      },
      "text/plain": [
       "Validation: |          | 0/? [00:00<?, ?it/s]"
      ]
     },
     "metadata": {},
     "output_type": "display_data"
    },
    {
     "name": "stdout",
     "output_type": "stream",
     "text": [
      "Epoch end: Validation, epoch number: 47\n",
      "ValidationEpoch/CM\n",
      " tensor([[115485,     82,   3753,  91176,    334,     87,    201,      0,   4606],\n",
      "        [     0, 220918,     91,      0,      1,    191,     50,      0,   1115],\n",
      "        [  5517,    497, 264913,   4544,    170,   1505,   6837,     75,    352],\n",
      "        [   845,      0,   5737, 210809,    181,    389,    342,     10,    601],\n",
      "        [   202,    221,   3038,  44523, 169714,    239,   1049,      2,    866],\n",
      "        [     0,   1239,  15510,    100,      0, 199785,   2540,   1193,    185],\n",
      "        [   644,      0,  60787,  37273,    828,   1830,  74109,  41386,    701],\n",
      "        [     0,      2,    226,     99,      9,    551,  22112, 196227,      0],\n",
      "        [  3406,    543,   2367,  44817,    110,      4,     65,      0, 169240]])\n"
     ]
    },
    {
     "name": "stderr",
     "output_type": "stream",
     "text": [
      "Metric Validation/Accuracy improved by 0.004 >= min_delta = 0.0. New best score: 0.884\n"
     ]
    },
    {
     "name": "stdout",
     "output_type": "stream",
     "text": [
      "Epoch end: Train, epoch number: 44\n",
      "TrainEpoch/CM\n",
      " tensor([[115485,     82,   3753,  91176,    334,     87,    201,      0,   4606],\n",
      "        [     0, 220918,     91,      0,      1,    191,     50,      0,   1115],\n",
      "        [  5517,    497, 264913,   4544,    170,   1505,   6837,     75,    352],\n",
      "        [   845,      0,   5737, 210809,    181,    389,    342,     10,    601],\n",
      "        [   202,    221,   3038,  44523, 169714,    239,   1049,      2,    866],\n",
      "        [     0,   1239,  15510,    100,      0, 199785,   2540,   1193,    185],\n",
      "        [   644,      0,  60787,  37273,    828,   1830,  74109,  41386,    701],\n",
      "        [     0,      2,    226,     99,      9,    551,  22112, 196227,      0],\n",
      "        [  3406,    543,   2367,  44817,    110,      4,     65,      0, 169240]])\n"
     ]
    },
    {
     "data": {
      "application/vnd.jupyter.widget-view+json": {
       "model_id": "f34dfbb0fd4943c99d47443ba081cde5",
       "version_major": 2,
       "version_minor": 0
      },
      "text/plain": [
       "Validation: |          | 0/? [00:00<?, ?it/s]"
      ]
     },
     "metadata": {},
     "output_type": "display_data"
    },
    {
     "name": "stdout",
     "output_type": "stream",
     "text": [
      "Epoch end: Validation, epoch number: 48\n",
      "ValidationEpoch/CM\n",
      " tensor([[118869,     82,   3773,  92347,    334,     87,    216,      0,   4701],\n",
      "        [     0, 225748,     91,      0,      1,    191,     50,      0,   1115],\n",
      "        [  5581,    501, 270776,   4552,    170,   1513,   7067,     75,    352],\n",
      "        [   937,      0,   5742, 215407,    181,    389,    376,     10,    627],\n",
      "        [   207,    221,   3048,  44613, 174326,    239,   1090,      2,    882],\n",
      "        [     0,   1239,  15525,    100,      0, 204560,   2540,   1193,    185],\n",
      "        [   718,      0,  61996,  37795,    864,   1840,  76351,  41993,    726],\n",
      "        [     0,      2,    226,     99,      9,    576,  22550, 200524,      0],\n",
      "        [  3476,    543,   2377,  44948,    115,      4,     67,      0, 173812]])\n",
      "Epoch end: Train, epoch number: 45\n",
      "TrainEpoch/CM\n",
      " tensor([[118869,     82,   3773,  92347,    334,     87,    216,      0,   4701],\n",
      "        [     0, 225748,     91,      0,      1,    191,     50,      0,   1115],\n",
      "        [  5581,    501, 270776,   4552,    170,   1513,   7067,     75,    352],\n",
      "        [   937,      0,   5742, 215407,    181,    389,    376,     10,    627],\n",
      "        [   207,    221,   3048,  44613, 174326,    239,   1090,      2,    882],\n",
      "        [     0,   1239,  15525,    100,      0, 204560,   2540,   1193,    185],\n",
      "        [   718,      0,  61996,  37795,    864,   1840,  76351,  41993,    726],\n",
      "        [     0,      2,    226,     99,      9,    576,  22550, 200524,      0],\n",
      "        [  3476,    543,   2377,  44948,    115,      4,     67,      0, 173812]])\n"
     ]
    },
    {
     "data": {
      "application/vnd.jupyter.widget-view+json": {
       "model_id": "ca17e2d21b084421ad244a3265c3ff0b",
       "version_major": 2,
       "version_minor": 0
      },
      "text/plain": [
       "Validation: |          | 0/? [00:00<?, ?it/s]"
      ]
     },
     "metadata": {},
     "output_type": "display_data"
    },
    {
     "name": "stdout",
     "output_type": "stream",
     "text": [
      "Epoch end: Validation, epoch number: 49\n",
      "ValidationEpoch/CM\n",
      " tensor([[122289,     82,   3793,  93480,    334,     87,    231,      0,   4798],\n",
      "        [     0, 230578,     91,      0,      1,    191,     50,      0,   1115],\n",
      "        [  5648,    503, 276647,   4559,    170,   1521,   7289,     75,    352],\n",
      "        [  1035,      0,   5747, 219991,    183,    389,    409,     10,    660],\n",
      "        [   212,    221,   3058,  44694, 178951,    239,   1128,      2,    897],\n",
      "        [     0,   1239,  15537,    100,      0, 209338,   2540,   1193,    185],\n",
      "        [   794,      0,  63200,  38309,    908,   1850,  78594,  42602,    751],\n",
      "        [     0,      2,    226,     99,      9,    601,  22982, 204827,      0],\n",
      "        [  3546,    543,   2387,  45078,    120,      4,     71,      0, 178383]])\n",
      "Epoch end: Train, epoch number: 46\n"
     ]
    },
    {
     "name": "stderr",
     "output_type": "stream",
     "text": [
      "Metric Validation/Accuracy improved by 0.003 >= min_delta = 0.0. New best score: 0.887\n"
     ]
    },
    {
     "name": "stdout",
     "output_type": "stream",
     "text": [
      "TrainEpoch/CM\n",
      " tensor([[122289,     82,   3793,  93480,    334,     87,    231,      0,   4798],\n",
      "        [     0, 230578,     91,      0,      1,    191,     50,      0,   1115],\n",
      "        [  5648,    503, 276647,   4559,    170,   1521,   7289,     75,    352],\n",
      "        [  1035,      0,   5747, 219991,    183,    389,    409,     10,    660],\n",
      "        [   212,    221,   3058,  44694, 178951,    239,   1128,      2,    897],\n",
      "        [     0,   1239,  15537,    100,      0, 209338,   2540,   1193,    185],\n",
      "        [   794,      0,  63200,  38309,    908,   1850,  78594,  42602,    751],\n",
      "        [     0,      2,    226,     99,      9,    601,  22982, 204827,      0],\n",
      "        [  3546,    543,   2387,  45078,    120,      4,     71,      0, 178383]])\n"
     ]
    },
    {
     "data": {
      "application/vnd.jupyter.widget-view+json": {
       "model_id": "3667d8cfdfeb429fa61fdc168e23e377",
       "version_major": 2,
       "version_minor": 0
      },
      "text/plain": [
       "Validation: |          | 0/? [00:00<?, ?it/s]"
      ]
     },
     "metadata": {},
     "output_type": "display_data"
    },
    {
     "name": "stdout",
     "output_type": "stream",
     "text": [
      "Epoch end: Validation, epoch number: 50\n",
      "ValidationEpoch/CM\n",
      " tensor([[125714,     82,   3813,  94602,    334,     87,    246,      0,   4901],\n",
      "        [     0, 235408,     91,      0,      1,    191,     50,      0,   1115],\n",
      "        [  5712,    508, 282517,   4564,    170,   1529,   7514,     75,    352],\n",
      "        [  1136,      0,   5752, 224569,    184,    389,    444,     10,    695],\n",
      "        [   217,    221,   3068,  44777, 183572,    239,   1168,      2,    912],\n",
      "        [     0,   1239,  15545,    100,      0, 214120,   2540,   1193,    185],\n",
      "        [   870,      0,  64397,  38811,    951,   1860,  80867,  43201,    776],\n",
      "        [     0,      2,    226,     99,      9,    626,  23405, 209139,      0],\n",
      "        [  3616,    543,   2397,  45201,    125,      4,     76,      0, 182960]])\n",
      "Epoch end: Train, epoch number: 47\n",
      "TrainEpoch/CM\n",
      " tensor([[125714,     82,   3813,  94602,    334,     87,    246,      0,   4901],\n",
      "        [     0, 235408,     91,      0,      1,    191,     50,      0,   1115],\n",
      "        [  5712,    508, 282517,   4564,    170,   1529,   7514,     75,    352],\n",
      "        [  1136,      0,   5752, 224569,    184,    389,    444,     10,    695],\n",
      "        [   217,    221,   3068,  44777, 183572,    239,   1168,      2,    912],\n",
      "        [     0,   1239,  15545,    100,      0, 214120,   2540,   1193,    185],\n",
      "        [   870,      0,  64397,  38811,    951,   1860,  80867,  43201,    776],\n",
      "        [     0,      2,    226,     99,      9,    626,  23405, 209139,      0],\n",
      "        [  3616,    543,   2397,  45201,    125,      4,     76,      0, 182960]])\n"
     ]
    },
    {
     "data": {
      "application/vnd.jupyter.widget-view+json": {
       "model_id": "292ed529712b4d0ea43116b3b55243df",
       "version_major": 2,
       "version_minor": 0
      },
      "text/plain": [
       "Validation: |          | 0/? [00:00<?, ?it/s]"
      ]
     },
     "metadata": {},
     "output_type": "display_data"
    },
    {
     "name": "stdout",
     "output_type": "stream",
     "text": [
      "Epoch end: Validation, epoch number: 51\n",
      "ValidationEpoch/CM\n",
      " tensor([[129186,     82,   3833,  95679,    334,     87,    261,      0,   5002],\n",
      "        [     0, 240238,     91,      0,      1,    191,     50,      0,   1115],\n",
      "        [  5772,    512, 288385,   4567,    170,   1537,   7748,     75,    352],\n",
      "        [  1237,      0,   5757, 229146,    184,    389,    484,     10,    727],\n",
      "        [   222,    221,   3078,  44853, 188201,    239,   1207,      2,    927],\n",
      "        [     0,   1239,  15553,    100,      0, 218902,   2540,   1193,    185],\n",
      "        [   945,      0,  65585,  39301,    996,   1870,  83143,  43817,    801],\n",
      "        [     0,      2,    226,     99,      9,    650,  23812, 213468,      0],\n",
      "        [  3685,    543,   2407,  45329,    130,      4,     80,      0, 187534]])\n",
      "Epoch end: Train, epoch number: 48\n",
      "TrainEpoch/CM\n",
      " tensor([[129186,     82,   3833,  95679,    334,     87,    261,      0,   5002],\n",
      "        [     0, 240238,     91,      0,      1,    191,     50,      0,   1115],\n",
      "        [  5772,    512, 288385,   4567,    170,   1537,   7748,     75,    352],\n",
      "        [  1237,      0,   5757, 229146,    184,    389,    484,     10,    727],\n",
      "        [   222,    221,   3078,  44853, 188201,    239,   1207,      2,    927],\n",
      "        [     0,   1239,  15553,    100,      0, 218902,   2540,   1193,    185],\n",
      "        [   945,      0,  65585,  39301,    996,   1870,  83143,  43817,    801],\n",
      "        [     0,      2,    226,     99,      9,    650,  23812, 213468,      0],\n",
      "        [  3685,    543,   2407,  45329,    130,      4,     80,      0, 187534]])\n"
     ]
    },
    {
     "data": {
      "application/vnd.jupyter.widget-view+json": {
       "model_id": "2559dbe38fbb4eb2bd1e163e9eff9576",
       "version_major": 2,
       "version_minor": 0
      },
      "text/plain": [
       "Validation: |          | 0/? [00:00<?, ?it/s]"
      ]
     },
     "metadata": {},
     "output_type": "display_data"
    },
    {
     "name": "stdout",
     "output_type": "stream",
     "text": [
      "Epoch end: Validation, epoch number: 52\n",
      "ValidationEpoch/CM\n",
      " tensor([[132680,     82,   3853,  96731,    334,     87,    278,      0,   5104],\n",
      "        [     0, 245068,     91,      0,      1,    191,     50,      0,   1115],\n",
      "        [  5837,    514, 294252,   4571,    170,   1545,   7979,     75,    352],\n",
      "        [  1342,      0,   5762, 233727,    184,    389,    521,     10,    754],\n",
      "        [   227,    221,   3088,  44928, 192832,    239,   1245,      2,    942],\n",
      "        [     0,   1239,  15566,    100,      0, 223679,   2540,   1193,    185],\n",
      "        [  1025,      0,  66767,  39789,   1036,   1877,  85459,  44404,    826],\n",
      "        [     0,      2,    226,     99,      9,    673,  24259, 217758,      0],\n",
      "        [  3752,    543,   2417,  45450,    135,      4,     85,      0, 192116]])\n",
      "Epoch end: Train, epoch number: 49\n",
      "TrainEpoch/CM\n",
      " tensor([[132680,     82,   3853,  96731,    334,     87,    278,      0,   5104],\n",
      "        [     0, 245068,     91,      0,      1,    191,     50,      0,   1115],\n",
      "        [  5837,    514, 294252,   4571,    170,   1545,   7979,     75,    352],\n",
      "        [  1342,      0,   5762, 233727,    184,    389,    521,     10,    754],\n",
      "        [   227,    221,   3088,  44928, 192832,    239,   1245,      2,    942],\n",
      "        [     0,   1239,  15566,    100,      0, 223679,   2540,   1193,    185],\n",
      "        [  1025,      0,  66767,  39789,   1036,   1877,  85459,  44404,    826],\n",
      "        [     0,      2,    226,     99,      9,    673,  24259, 217758,      0],\n",
      "        [  3752,    543,   2417,  45450,    135,      4,     85,      0, 192116]])\n"
     ]
    },
    {
     "name": "stderr",
     "output_type": "stream",
     "text": [
      "Metric Validation/Accuracy improved by 0.003 >= min_delta = 0.0. New best score: 0.890\n"
     ]
    },
    {
     "data": {
      "application/vnd.jupyter.widget-view+json": {
       "model_id": "5dbb68574381443aa95ef47341090b8c",
       "version_major": 2,
       "version_minor": 0
      },
      "text/plain": [
       "Validation: |          | 0/? [00:00<?, ?it/s]"
      ]
     },
     "metadata": {},
     "output_type": "display_data"
    },
    {
     "name": "stdout",
     "output_type": "stream",
     "text": [
      "Epoch end: Validation, epoch number: 53\n",
      "ValidationEpoch/CM\n",
      " tensor([[136236,     82,   3872,  97718,    334,     87,    296,      0,   5209],\n",
      "        [     0, 249898,     91,      0,      1,    191,     50,      0,   1115],\n",
      "        [  5898,    514, 300137,   4574,    170,   1553,   8199,     75,    352],\n",
      "        [  1450,      0,   5767, 238301,    184,    389,    562,     10,    781],\n",
      "        [   232,    221,   3098,  44991, 197480,    239,   1278,      2,    957],\n",
      "        [     0,   1239,  15574,    100,      0, 228461,   2540,   1193,    185],\n",
      "        [  1109,      0,  67948,  40273,   1076,   1887,  87778,  44986,    851],\n",
      "        [     0,      2,    226,     99,      9,    698,  24676, 222076,      0],\n",
      "        [  3819,    543,   2427,  45574,    140,      4,     88,      0, 196697]])\n"
     ]
    },
    {
     "name": "stderr",
     "output_type": "stream",
     "text": [
      "Metric Validation/Accuracy improved by 0.004 >= min_delta = 0.0. New best score: 0.894\n"
     ]
    },
    {
     "name": "stdout",
     "output_type": "stream",
     "text": [
      "Epoch end: Train, epoch number: 50\n",
      "TrainEpoch/CM\n",
      " tensor([[136236,     82,   3872,  97718,    334,     87,    296,      0,   5209],\n",
      "        [     0, 249898,     91,      0,      1,    191,     50,      0,   1115],\n",
      "        [  5898,    514, 300137,   4574,    170,   1553,   8199,     75,    352],\n",
      "        [  1450,      0,   5767, 238301,    184,    389,    562,     10,    781],\n",
      "        [   232,    221,   3098,  44991, 197480,    239,   1278,      2,    957],\n",
      "        [     0,   1239,  15574,    100,      0, 228461,   2540,   1193,    185],\n",
      "        [  1109,      0,  67948,  40273,   1076,   1887,  87778,  44986,    851],\n",
      "        [     0,      2,    226,     99,      9,    698,  24676, 222076,      0],\n",
      "        [  3819,    543,   2427,  45574,    140,      4,     88,      0, 196697]])\n"
     ]
    },
    {
     "data": {
      "application/vnd.jupyter.widget-view+json": {
       "model_id": "895c5caf6acb4b6fa3d117154beb0774",
       "version_major": 2,
       "version_minor": 0
      },
      "text/plain": [
       "Validation: |          | 0/? [00:00<?, ?it/s]"
      ]
     },
     "metadata": {},
     "output_type": "display_data"
    },
    {
     "name": "stdout",
     "output_type": "stream",
     "text": [
      "Epoch end: Validation, epoch number: 54\n",
      "ValidationEpoch/CM\n",
      " tensor([[139809,     82,   3891,  98688,    334,     87,    316,      0,   5312],\n",
      "        [     0, 254728,     91,      0,      1,    191,     50,      0,   1115],\n",
      "        [  5959,    516, 306013,   4576,    170,   1560,   8428,     75,    352],\n",
      "        [  1562,      0,   5772, 242868,    185,    389,    603,     10,    810],\n",
      "        [   237,    221,   3108,  45053, 202128,    239,   1312,      2,    972],\n",
      "        [     0,   1239,  15581,    100,      0, 233244,   2540,   1193,    185],\n",
      "        [  1198,      0,  69113,  40747,   1114,   1894,  90141,  45550,    876],\n",
      "        [     0,      2,    226,     99,      9,    722,  25104, 226384,      0],\n",
      "        [  3892,    543,   2437,  45693,    145,      4,     93,      0, 201275]])\n"
     ]
    },
    {
     "name": "stderr",
     "output_type": "stream",
     "text": [
      "Metric Validation/Accuracy improved by 0.001 >= min_delta = 0.0. New best score: 0.895\n"
     ]
    },
    {
     "name": "stdout",
     "output_type": "stream",
     "text": [
      "Epoch end: Train, epoch number: 51\n",
      "TrainEpoch/CM\n",
      " tensor([[139809,     82,   3891,  98688,    334,     87,    316,      0,   5312],\n",
      "        [     0, 254728,     91,      0,      1,    191,     50,      0,   1115],\n",
      "        [  5959,    516, 306013,   4576,    170,   1560,   8428,     75,    352],\n",
      "        [  1562,      0,   5772, 242868,    185,    389,    603,     10,    810],\n",
      "        [   237,    221,   3108,  45053, 202128,    239,   1312,      2,    972],\n",
      "        [     0,   1239,  15581,    100,      0, 233244,   2540,   1193,    185],\n",
      "        [  1198,      0,  69113,  40747,   1114,   1894,  90141,  45550,    876],\n",
      "        [     0,      2,    226,     99,      9,    722,  25104, 226384,      0],\n",
      "        [  3892,    543,   2437,  45693,    145,      4,     93,      0, 201275]])\n"
     ]
    },
    {
     "data": {
      "application/vnd.jupyter.widget-view+json": {
       "model_id": "6584144c2fe4496c8cd5c3661c4148c4",
       "version_major": 2,
       "version_minor": 0
      },
      "text/plain": [
       "Validation: |          | 0/? [00:00<?, ?it/s]"
      ]
     },
     "metadata": {},
     "output_type": "display_data"
    },
    {
     "name": "stdout",
     "output_type": "stream",
     "text": [
      "Epoch end: Validation, epoch number: 55\n",
      "ValidationEpoch/CM\n",
      " tensor([[143426,     82,   3907,  99611,    334,     87,    340,      0,   5417],\n",
      "        [     0, 259558,     91,      0,      1,    191,     50,      0,   1115],\n",
      "        [  6024,    516, 311893,   4579,    170,   1564,   8653,     75,    352],\n",
      "        [  1669,      0,   5777, 247432,    185,    389,    649,     10,    843],\n",
      "        [   242,    221,   3118,  45107, 206790,    239,   1340,      2,    987],\n",
      "        [     0,   1239,  15592,    100,      0, 238023,   2540,   1193,    185],\n",
      "        [  1285,      0,  70279,  41218,   1154,   1901,  92498,  46122,    901],\n",
      "        [     0,      2,    226,     99,      9,    745,  25510, 230715,      0],\n",
      "        [  3959,    543,   2447,  45812,    150,      4,     98,      0, 205859]])\n",
      "Epoch end: Train, epoch number: 52\n",
      "TrainEpoch/CM\n",
      " tensor([[143426,     82,   3907,  99611,    334,     87,    340,      0,   5417],\n",
      "        [     0, 259558,     91,      0,      1,    191,     50,      0,   1115],\n",
      "        [  6024,    516, 311893,   4579,    170,   1564,   8653,     75,    352],\n",
      "        [  1669,      0,   5777, 247432,    185,    389,    649,     10,    843],\n",
      "        [   242,    221,   3118,  45107, 206790,    239,   1340,      2,    987],\n",
      "        [     0,   1239,  15592,    100,      0, 238023,   2540,   1193,    185],\n",
      "        [  1285,      0,  70279,  41218,   1154,   1901,  92498,  46122,    901],\n",
      "        [     0,      2,    226,     99,      9,    745,  25510, 230715,      0],\n",
      "        [  3959,    543,   2447,  45812,    150,      4,     98,      0, 205859]])\n"
     ]
    },
    {
     "data": {
      "application/vnd.jupyter.widget-view+json": {
       "model_id": "86291b5e956047a7abb9b39a0837dae4",
       "version_major": 2,
       "version_minor": 0
      },
      "text/plain": [
       "Validation: |          | 0/? [00:00<?, ?it/s]"
      ]
     },
     "metadata": {},
     "output_type": "display_data"
    },
    {
     "name": "stdout",
     "output_type": "stream",
     "text": [
      "Epoch end: Validation, epoch number: 56\n",
      "ValidationEpoch/CM\n",
      " tensor([[147059,     82,   3923, 100519,    334,     87,    363,      0,   5522],\n",
      "        [     0, 264388,     91,      0,      1,    191,     50,      0,   1115],\n",
      "        [  6086,    516, 317782,   4581,    170,   1568,   8873,     75,    352],\n",
      "        [  1781,      0,   5782, 251996,    185,    389,    692,     10,    874],\n",
      "        [   247,    221,   3128,  45165, 211446,    239,   1370,      2,   1002],\n",
      "        [     0,   1239,  15601,    100,      0, 242804,   2540,   1193,    185],\n",
      "        [  1375,      0,  71452,  41694,   1188,   1906,  94835,  46707,    926],\n",
      "        [     0,      2,    226,     99,      9,    769,  25914, 235047,      0],\n",
      "        [  4022,    543,   2456,  45932,    155,      4,    103,      0, 210447]])\n",
      "Epoch end: Train, epoch number: 53\n",
      "TrainEpoch/CM\n",
      " tensor([[147059,     82,   3923, 100519,    334,     87,    363,      0,   5522],\n",
      "        [     0, 264388,     91,      0,      1,    191,     50,      0,   1115],\n",
      "        [  6086,    516, 317782,   4581,    170,   1568,   8873,     75,    352],\n",
      "        [  1781,      0,   5782, 251996,    185,    389,    692,     10,    874],\n",
      "        [   247,    221,   3128,  45165, 211446,    239,   1370,      2,   1002],\n",
      "        [     0,   1239,  15601,    100,      0, 242804,   2540,   1193,    185],\n",
      "        [  1375,      0,  71452,  41694,   1188,   1906,  94835,  46707,    926],\n",
      "        [     0,      2,    226,     99,      9,    769,  25914, 235047,      0],\n",
      "        [  4022,    543,   2456,  45932,    155,      4,    103,      0, 210447]])\n"
     ]
    },
    {
     "data": {
      "application/vnd.jupyter.widget-view+json": {
       "model_id": "9b2b3d8ff3db47cd8f8fa02c07d6982b",
       "version_major": 2,
       "version_minor": 0
      },
      "text/plain": [
       "Validation: |          | 0/? [00:00<?, ?it/s]"
      ]
     },
     "metadata": {},
     "output_type": "display_data"
    },
    {
     "name": "stdout",
     "output_type": "stream",
     "text": [
      "Epoch end: Validation, epoch number: 57\n",
      "ValidationEpoch/CM\n",
      " tensor([[150716,     82,   3936, 101402,    334,     87,    388,      0,   5629],\n",
      "        [     0, 269218,     91,      0,      1,    191,     50,      0,   1115],\n",
      "        [  6149,    516, 323659,   4584,    170,   1573,   9102,     75,    352],\n",
      "        [  1893,      0,   5787, 256558,    186,    389,    737,     10,    904],\n",
      "        [   252,    221,   3137,  45215, 216116,    239,   1395,      2,   1017],\n",
      "        [     0,   1239,  15612,    100,      0, 247583,   2540,   1193,    185],\n",
      "        [  1468,      0,  72591,  42160,   1222,   1911,  97223,  47282,    951],\n",
      "        [     0,      2,    226,     99,      9,    789,  26306, 239395,      0],\n",
      "        [  4090,    543,   2466,  46046,    160,      4,    108,      0, 215035]])\n",
      "Epoch end: Train, epoch number: 54\n",
      "TrainEpoch/CM\n",
      " tensor([[150716,     82,   3936, 101402,    334,     87,    388,      0,   5629],\n",
      "        [     0, 269218,     91,      0,      1,    191,     50,      0,   1115],\n",
      "        [  6149,    516, 323659,   4584,    170,   1573,   9102,     75,    352],\n",
      "        [  1893,      0,   5787, 256558,    186,    389,    737,     10,    904],\n",
      "        [   252,    221,   3137,  45215, 216116,    239,   1395,      2,   1017],\n",
      "        [     0,   1239,  15612,    100,      0, 247583,   2540,   1193,    185],\n",
      "        [  1468,      0,  72591,  42160,   1222,   1911,  97223,  47282,    951],\n",
      "        [     0,      2,    226,     99,      9,    789,  26306, 239395,      0],\n",
      "        [  4090,    543,   2466,  46046,    160,      4,    108,      0, 215035]])\n"
     ]
    },
    {
     "name": "stderr",
     "output_type": "stream",
     "text": [
      "Metric Validation/Accuracy improved by 0.002 >= min_delta = 0.0. New best score: 0.897\n"
     ]
    },
    {
     "data": {
      "application/vnd.jupyter.widget-view+json": {
       "model_id": "9a0657d8f60c4281b74083d03dfed3d8",
       "version_major": 2,
       "version_minor": 0
      },
      "text/plain": [
       "Validation: |          | 0/? [00:00<?, ?it/s]"
      ]
     },
     "metadata": {},
     "output_type": "display_data"
    },
    {
     "name": "stdout",
     "output_type": "stream",
     "text": [
      "Epoch end: Validation, epoch number: 58\n",
      "ValidationEpoch/CM\n",
      " tensor([[154422,     82,   3951, 102233,    334,     87,    413,      0,   5737],\n",
      "        [     0, 274048,     91,      0,      1,    191,     50,      0,   1115],\n",
      "        [  6214,    516, 329539,   4585,    170,   1577,   9329,     75,    352],\n",
      "        [  2008,      0,   5792, 261107,    186,    389,    786,     10,    941],\n",
      "        [   257,    221,   3147,  45264, 220786,    239,   1420,      2,   1032],\n",
      "        [     0,   1239,  15621,    100,      0, 252364,   2540,   1193,    185],\n",
      "        [  1561,      0,  73738,  42613,   1257,   1916,  99606,  47865,    977],\n",
      "        [     0,      2,    226,     99,      9,    809,  26696, 243745,      0],\n",
      "        [  4157,    543,   2473,  46162,    165,      4,    113,      0, 219625]])\n",
      "Epoch end: Train, epoch number: 55\n",
      "TrainEpoch/CM\n",
      " tensor([[154422,     82,   3951, 102233,    334,     87,    413,      0,   5737],\n",
      "        [     0, 274048,     91,      0,      1,    191,     50,      0,   1115],\n",
      "        [  6214,    516, 329539,   4585,    170,   1577,   9329,     75,    352],\n",
      "        [  2008,      0,   5792, 261107,    186,    389,    786,     10,    941],\n",
      "        [   257,    221,   3147,  45264, 220786,    239,   1420,      2,   1032],\n",
      "        [     0,   1239,  15621,    100,      0, 252364,   2540,   1193,    185],\n",
      "        [  1561,      0,  73738,  42613,   1257,   1916,  99606,  47865,    977],\n",
      "        [     0,      2,    226,     99,      9,    809,  26696, 243745,      0],\n",
      "        [  4157,    543,   2473,  46162,    165,      4,    113,      0, 219625]])\n"
     ]
    },
    {
     "data": {
      "application/vnd.jupyter.widget-view+json": {
       "model_id": "5f7579de690d45d4bb82cf733c7e240a",
       "version_major": 2,
       "version_minor": 0
      },
      "text/plain": [
       "Validation: |          | 0/? [00:00<?, ?it/s]"
      ]
     },
     "metadata": {},
     "output_type": "display_data"
    },
    {
     "name": "stdout",
     "output_type": "stream",
     "text": [
      "Epoch end: Validation, epoch number: 59\n",
      "ValidationEpoch/CM\n",
      " tensor([[158115,     82,   3966, 103079,    334,     87,    438,      0,   5843],\n",
      "        [     0, 278878,     91,      0,      1,    191,     50,      0,   1115],\n",
      "        [  6274,    516, 335420,   4589,    170,   1581,   9557,     75,    352],\n",
      "        [  2118,      0,   5797, 265669,    190,    389,    830,     10,    971],\n",
      "        [   262,    221,   3156,  45318, 225452,    239,   1445,      2,   1047],\n",
      "        [     0,   1239,  15628,    100,      0, 257147,   2540,   1193,    185],\n",
      "        [  1657,      0,  74889,  43064,   1290,   1921, 101991,  48444,   1002],\n",
      "        [     0,      2,    226,     99,      9,    829,  27086, 248095,      0],\n",
      "        [  4226,    543,   2481,  46280,    170,      4,    118,      0, 224210]])\n",
      "Epoch end: Train, epoch number: 56\n",
      "TrainEpoch/CM\n",
      " tensor([[158115,     82,   3966, 103079,    334,     87,    438,      0,   5843],\n",
      "        [     0, 278878,     91,      0,      1,    191,     50,      0,   1115],\n",
      "        [  6274,    516, 335420,   4589,    170,   1581,   9557,     75,    352],\n",
      "        [  2118,      0,   5797, 265669,    190,    389,    830,     10,    971],\n",
      "        [   262,    221,   3156,  45318, 225452,    239,   1445,      2,   1047],\n",
      "        [     0,   1239,  15628,    100,      0, 257147,   2540,   1193,    185],\n",
      "        [  1657,      0,  74889,  43064,   1290,   1921, 101991,  48444,   1002],\n",
      "        [     0,      2,    226,     99,      9,    829,  27086, 248095,      0],\n",
      "        [  4226,    543,   2481,  46280,    170,      4,    118,      0, 224210]])\n"
     ]
    },
    {
     "name": "stderr",
     "output_type": "stream",
     "text": [
      "Metric Validation/Accuracy improved by 0.002 >= min_delta = 0.0. New best score: 0.899\n"
     ]
    },
    {
     "data": {
      "application/vnd.jupyter.widget-view+json": {
       "model_id": "45b2a3705cd74ec7a9f33d3e0ee0119d",
       "version_major": 2,
       "version_minor": 0
      },
      "text/plain": [
       "Validation: |          | 0/? [00:00<?, ?it/s]"
      ]
     },
     "metadata": {},
     "output_type": "display_data"
    },
    {
     "name": "stdout",
     "output_type": "stream",
     "text": [
      "Epoch end: Validation, epoch number: 60\n",
      "ValidationEpoch/CM\n",
      " tensor([[161878,     82,   3981, 103855,    334,     87,    463,      0,   5949],\n",
      "        [     0, 283708,     91,      0,      1,    191,     50,      0,   1115],\n",
      "        [  6342,    516, 341288,   4593,    170,   1585,   9790,     75,    352],\n",
      "        [  2232,      0,   5802, 270227,    192,    389,    879,     10,    998],\n",
      "        [   267,    221,   3165,  45364, 230126,    239,   1470,      2,   1062],\n",
      "        [     0,   1239,  15634,    100,      0, 261931,   2540,   1193,    185],\n",
      "        [  1753,      0,  76017,  43504,   1324,   1926, 104413,  49019,   1027],\n",
      "        [     0,      2,    226,     99,      9,    850,  27480, 252440,      0],\n",
      "        [  4292,    543,   2489,  46395,    175,      4,    123,      0, 228801]])\n",
      "Epoch end: Train, epoch number: 57\n",
      "TrainEpoch/CM\n",
      " tensor([[161878,     82,   3981, 103855,    334,     87,    463,      0,   5949],\n",
      "        [     0, 283708,     91,      0,      1,    191,     50,      0,   1115],\n",
      "        [  6342,    516, 341288,   4593,    170,   1585,   9790,     75,    352],\n",
      "        [  2232,      0,   5802, 270227,    192,    389,    879,     10,    998],\n",
      "        [   267,    221,   3165,  45364, 230126,    239,   1470,      2,   1062],\n",
      "        [     0,   1239,  15634,    100,      0, 261931,   2540,   1193,    185],\n",
      "        [  1753,      0,  76017,  43504,   1324,   1926, 104413,  49019,   1027],\n",
      "        [     0,      2,    226,     99,      9,    850,  27480, 252440,      0],\n",
      "        [  4292,    543,   2489,  46395,    175,      4,    123,      0, 228801]])\n"
     ]
    },
    {
     "data": {
      "application/vnd.jupyter.widget-view+json": {
       "model_id": "b43f0a9f89cf450ba653d06b390bfa59",
       "version_major": 2,
       "version_minor": 0
      },
      "text/plain": [
       "Validation: |          | 0/? [00:00<?, ?it/s]"
      ]
     },
     "metadata": {},
     "output_type": "display_data"
    },
    {
     "name": "stdout",
     "output_type": "stream",
     "text": [
      "Epoch end: Validation, epoch number: 61\n",
      "ValidationEpoch/CM\n",
      " tensor([[165675,     82,   3996, 104595,    334,     87,    486,      0,   6059],\n",
      "        [     0, 288538,     91,      0,      1,    191,     50,      0,   1115],\n",
      "        [  6403,    518, 347166,   4596,    170,   1589,  10019,     75,    352],\n",
      "        [  2360,      0,   5807, 274767,    195,    389,    926,     10,   1030],\n",
      "        [   272,    221,   3174,  45409, 234802,    239,   1494,      2,   1077],\n",
      "        [     0,   1239,  15644,    100,      0, 266711,   2540,   1193,    185],\n",
      "        [  1864,      0,  77150,  43934,   1359,   1931, 106827,  49591,   1052],\n",
      "        [     0,      2,    226,     99,      9,    870,  27861, 256799,      0],\n",
      "        [  4356,    543,   2499,  46505,    180,      4,    128,      0, 233397]])\n"
     ]
    },
    {
     "name": "stderr",
     "output_type": "stream",
     "text": [
      "Metric Validation/Accuracy improved by 0.001 >= min_delta = 0.0. New best score: 0.900\n"
     ]
    },
    {
     "name": "stdout",
     "output_type": "stream",
     "text": [
      "Epoch end: Train, epoch number: 58\n",
      "TrainEpoch/CM\n",
      " tensor([[165675,     82,   3996, 104595,    334,     87,    486,      0,   6059],\n",
      "        [     0, 288538,     91,      0,      1,    191,     50,      0,   1115],\n",
      "        [  6403,    518, 347166,   4596,    170,   1589,  10019,     75,    352],\n",
      "        [  2360,      0,   5807, 274767,    195,    389,    926,     10,   1030],\n",
      "        [   272,    221,   3174,  45409, 234802,    239,   1494,      2,   1077],\n",
      "        [     0,   1239,  15644,    100,      0, 266711,   2540,   1193,    185],\n",
      "        [  1864,      0,  77150,  43934,   1359,   1931, 106827,  49591,   1052],\n",
      "        [     0,      2,    226,     99,      9,    870,  27861, 256799,      0],\n",
      "        [  4356,    543,   2499,  46505,    180,      4,    128,      0, 233397]])\n"
     ]
    },
    {
     "data": {
      "application/vnd.jupyter.widget-view+json": {
       "model_id": "0be30ef91e6b441a80469db00b73fca1",
       "version_major": 2,
       "version_minor": 0
      },
      "text/plain": [
       "Validation: |          | 0/? [00:00<?, ?it/s]"
      ]
     },
     "metadata": {},
     "output_type": "display_data"
    },
    {
     "name": "stdout",
     "output_type": "stream",
     "text": [
      "Epoch end: Validation, epoch number: 62\n",
      "ValidationEpoch/CM\n",
      " tensor([[169466,     82,   4011, 105338,    334,     87,    511,      0,   6170],\n",
      "        [     0, 293368,     91,      0,      1,    191,     50,      0,   1115],\n",
      "        [  6463,    518, 353047,   4596,    170,   1593,  10251,     75,    352],\n",
      "        [  2479,      0,   5812, 279311,    198,    389,    976,     10,   1064],\n",
      "        [   277,    221,   3183,  45454, 239483,    239,   1513,      2,   1092],\n",
      "        [     0,   1239,  15653,    100,      0, 271492,   2540,   1193,    185],\n",
      "        [  1964,      0,  78258,  44361,   1394,   1936, 109279,  50164,   1077],\n",
      "        [     0,      2,    226,     99,      9,    889,  28246, 261155,      0],\n",
      "        [  4421,    543,   2508,  46613,    185,      4,    133,      0, 237995]])\n"
     ]
    },
    {
     "name": "stderr",
     "output_type": "stream",
     "text": [
      "Metric Validation/Accuracy improved by 0.001 >= min_delta = 0.0. New best score: 0.900\n"
     ]
    },
    {
     "name": "stdout",
     "output_type": "stream",
     "text": [
      "Epoch end: Train, epoch number: 59\n",
      "TrainEpoch/CM\n",
      " tensor([[169466,     82,   4011, 105338,    334,     87,    511,      0,   6170],\n",
      "        [     0, 293368,     91,      0,      1,    191,     50,      0,   1115],\n",
      "        [  6463,    518, 353047,   4596,    170,   1593,  10251,     75,    352],\n",
      "        [  2479,      0,   5812, 279311,    198,    389,    976,     10,   1064],\n",
      "        [   277,    221,   3183,  45454, 239483,    239,   1513,      2,   1092],\n",
      "        [     0,   1239,  15653,    100,      0, 271492,   2540,   1193,    185],\n",
      "        [  1964,      0,  78258,  44361,   1394,   1936, 109279,  50164,   1077],\n",
      "        [     0,      2,    226,     99,      9,    889,  28246, 261155,      0],\n",
      "        [  4421,    543,   2508,  46613,    185,      4,    133,      0, 237995]])\n"
     ]
    },
    {
     "data": {
      "application/vnd.jupyter.widget-view+json": {
       "model_id": "01106a448dec40e5886b9558a08e33a9",
       "version_major": 2,
       "version_minor": 0
      },
      "text/plain": [
       "Validation: |          | 0/? [00:00<?, ?it/s]"
      ]
     },
     "metadata": {},
     "output_type": "display_data"
    },
    {
     "name": "stdout",
     "output_type": "stream",
     "text": [
      "Epoch end: Validation, epoch number: 63\n",
      "ValidationEpoch/CM\n",
      " tensor([[173283,     82,   4026, 106062,    334,     87,    536,      0,   6274],\n",
      "        [     0, 298198,     91,      0,      1,    191,     50,      0,   1115],\n",
      "        [  6526,    518, 358943,   4599,    170,   1597,  10462,     75,    352],\n",
      "        [  2601,      0,   5817, 283868,    198,    389,   1026,     10,   1085],\n",
      "        [   282,    221,   3192,  45499, 244164,    239,   1532,      2,   1107],\n",
      "        [     0,   1239,  15661,    100,      0, 276274,   2540,   1193,    185],\n",
      "        [  2067,      0,  79390,  44803,   1427,   1941, 111713,  50715,   1102],\n",
      "        [     0,      2,    226,     99,      9,    911,  28628, 265511,      0],\n",
      "        [  4489,    543,   2516,  46729,    190,      4,    138,      0, 242583]])\n",
      "Epoch end: Train, epoch number: 60\n",
      "TrainEpoch/CM\n",
      " tensor([[173283,     82,   4026, 106062,    334,     87,    536,      0,   6274],\n",
      "        [     0, 298198,     91,      0,      1,    191,     50,      0,   1115],\n",
      "        [  6526,    518, 358943,   4599,    170,   1597,  10462,     75,    352],\n",
      "        [  2601,      0,   5817, 283868,    198,    389,   1026,     10,   1085],\n",
      "        [   282,    221,   3192,  45499, 244164,    239,   1532,      2,   1107],\n",
      "        [     0,   1239,  15661,    100,      0, 276274,   2540,   1193,    185],\n",
      "        [  2067,      0,  79390,  44803,   1427,   1941, 111713,  50715,   1102],\n",
      "        [     0,      2,    226,     99,      9,    911,  28628, 265511,      0],\n",
      "        [  4489,    543,   2516,  46729,    190,      4,    138,      0, 242583]])\n"
     ]
    },
    {
     "name": "stderr",
     "output_type": "stream",
     "text": [
      "Metric Validation/Accuracy improved by 0.001 >= min_delta = 0.0. New best score: 0.902\n"
     ]
    },
    {
     "data": {
      "application/vnd.jupyter.widget-view+json": {
       "model_id": "8b8c6149cf104018a1713ac91b700af9",
       "version_major": 2,
       "version_minor": 0
      },
      "text/plain": [
       "Validation: |          | 0/? [00:00<?, ?it/s]"
      ]
     },
     "metadata": {},
     "output_type": "display_data"
    },
    {
     "name": "stdout",
     "output_type": "stream",
     "text": [
      "Epoch end: Validation, epoch number: 64\n",
      "ValidationEpoch/CM\n",
      " tensor([[177103,     82,   4041, 106780,    334,     87,    561,      0,   6381],\n",
      "        [     0, 303028,     91,      0,      1,    191,     50,      0,   1115],\n",
      "        [  6585,    518, 364813,   4602,    170,   1601,  10703,     75,    352],\n",
      "        [  2716,      0,   5822, 288431,    198,    389,   1073,     10,   1110],\n",
      "        [   287,    221,   3200,  45544, 248845,    239,   1552,      2,   1122],\n",
      "        [     0,   1239,  15666,    100,      0, 281059,   2540,   1193,    185],\n",
      "        [  2170,      0,  80483,  45238,   1458,   1946, 114202,  51258,   1128],\n",
      "        [     0,      2,    226,     99,      9,    930,  29008, 269872,      0],\n",
      "        [  4551,    543,   2521,  46844,    195,      4,    143,      0, 247181]])\n"
     ]
    },
    {
     "name": "stderr",
     "output_type": "stream",
     "text": [
      "Metric Validation/Accuracy improved by 0.000 >= min_delta = 0.0. New best score: 0.902\n"
     ]
    },
    {
     "name": "stdout",
     "output_type": "stream",
     "text": [
      "Epoch end: Train, epoch number: 61\n",
      "TrainEpoch/CM\n",
      " tensor([[177103,     82,   4041, 106780,    334,     87,    561,      0,   6381],\n",
      "        [     0, 303028,     91,      0,      1,    191,     50,      0,   1115],\n",
      "        [  6585,    518, 364813,   4602,    170,   1601,  10703,     75,    352],\n",
      "        [  2716,      0,   5822, 288431,    198,    389,   1073,     10,   1110],\n",
      "        [   287,    221,   3200,  45544, 248845,    239,   1552,      2,   1122],\n",
      "        [     0,   1239,  15666,    100,      0, 281059,   2540,   1193,    185],\n",
      "        [  2170,      0,  80483,  45238,   1458,   1946, 114202,  51258,   1128],\n",
      "        [     0,      2,    226,     99,      9,    930,  29008, 269872,      0],\n",
      "        [  4551,    543,   2521,  46844,    195,      4,    143,      0, 247181]])\n"
     ]
    },
    {
     "data": {
      "application/vnd.jupyter.widget-view+json": {
       "model_id": "80c0f55398354fbc8fa6a7da18e4e10b",
       "version_major": 2,
       "version_minor": 0
      },
      "text/plain": [
       "Validation: |          | 0/? [00:00<?, ?it/s]"
      ]
     },
     "metadata": {},
     "output_type": "display_data"
    },
    {
     "name": "stdout",
     "output_type": "stream",
     "text": [
      "Epoch end: Validation, epoch number: 65\n",
      "ValidationEpoch/CM\n",
      " tensor([[180926,     82,   4056, 107493,    334,     87,    586,      0,   6490],\n",
      "        [     0, 307858,     91,      0,      1,    191,     50,      0,   1115],\n",
      "        [  6648,    518, 370686,   4605,    170,   1605,  10937,     75,    352],\n",
      "        [  2839,      0,   5827, 292985,    198,    389,   1121,     10,   1135],\n",
      "        [   292,    221,   3210,  45587, 253525,    239,   1573,      2,   1137],\n",
      "        [     0,   1239,  15672,    100,      0, 285843,   2540,   1193,    185],\n",
      "        [  2275,      0,  81581,  45672,   1488,   1951, 116677,  51811,   1153],\n",
      "        [     0,      2,    226,     99,      9,    947,  29392, 274231,      0],\n",
      "        [  4615,    543,   2528,  46958,    200,      4,    148,      0, 251776]])\n",
      "Epoch end: Train, epoch number: 62\n",
      "TrainEpoch/CM\n",
      " tensor([[180926,     82,   4056, 107493,    334,     87,    586,      0,   6490],\n",
      "        [     0, 307858,     91,      0,      1,    191,     50,      0,   1115],\n",
      "        [  6648,    518, 370686,   4605,    170,   1605,  10937,     75,    352],\n",
      "        [  2839,      0,   5827, 292985,    198,    389,   1121,     10,   1135],\n",
      "        [   292,    221,   3210,  45587, 253525,    239,   1573,      2,   1137],\n",
      "        [     0,   1239,  15672,    100,      0, 285843,   2540,   1193,    185],\n",
      "        [  2275,      0,  81581,  45672,   1488,   1951, 116677,  51811,   1153],\n",
      "        [     0,      2,    226,     99,      9,    947,  29392, 274231,      0],\n",
      "        [  4615,    543,   2528,  46958,    200,      4,    148,      0, 251776]])\n"
     ]
    },
    {
     "data": {
      "application/vnd.jupyter.widget-view+json": {
       "model_id": "eaccfc4a6b8e4a3fac611496a3adf979",
       "version_major": 2,
       "version_minor": 0
      },
      "text/plain": [
       "Validation: |          | 0/? [00:00<?, ?it/s]"
      ]
     },
     "metadata": {},
     "output_type": "display_data"
    },
    {
     "name": "stdout",
     "output_type": "stream",
     "text": [
      "Epoch end: Validation, epoch number: 66\n",
      "ValidationEpoch/CM\n",
      " tensor([[184752,     82,   4071, 108205,    334,     87,    611,      0,   6597],\n",
      "        [     0, 312688,     91,      0,      1,    191,     50,      0,   1115],\n",
      "        [  6705,    518, 376571,   4607,    170,   1609,  11166,     75,    352],\n",
      "        [  2958,      0,   5832, 297541,    199,    389,   1169,     10,   1161],\n",
      "        [   297,    221,   3220,  45630, 258207,    239,   1592,      2,   1152],\n",
      "        [     0,   1239,  15677,    100,      0, 290628,   2540,   1193,    185],\n",
      "        [  2374,      0,  82685,  46103,   1518,   1956, 119159,  52357,   1181],\n",
      "        [     0,      2,    226,     99,      9,    967,  29760, 278603,      0],\n",
      "        [  4676,    543,   2535,  47068,    205,      4,    153,      0, 256378]])\n"
     ]
    },
    {
     "name": "stderr",
     "output_type": "stream",
     "text": [
      "Metric Validation/Accuracy improved by 0.002 >= min_delta = 0.0. New best score: 0.904\n"
     ]
    },
    {
     "name": "stdout",
     "output_type": "stream",
     "text": [
      "Epoch end: Train, epoch number: 63\n",
      "TrainEpoch/CM\n",
      " tensor([[184752,     82,   4071, 108205,    334,     87,    611,      0,   6597],\n",
      "        [     0, 312688,     91,      0,      1,    191,     50,      0,   1115],\n",
      "        [  6705,    518, 376571,   4607,    170,   1609,  11166,     75,    352],\n",
      "        [  2958,      0,   5832, 297541,    199,    389,   1169,     10,   1161],\n",
      "        [   297,    221,   3220,  45630, 258207,    239,   1592,      2,   1152],\n",
      "        [     0,   1239,  15677,    100,      0, 290628,   2540,   1193,    185],\n",
      "        [  2374,      0,  82685,  46103,   1518,   1956, 119159,  52357,   1181],\n",
      "        [     0,      2,    226,     99,      9,    967,  29760, 278603,      0],\n",
      "        [  4676,    543,   2535,  47068,    205,      4,    153,      0, 256378]])\n"
     ]
    },
    {
     "data": {
      "application/vnd.jupyter.widget-view+json": {
       "model_id": "899b385b2a1f42c08162e4c7955451ac",
       "version_major": 2,
       "version_minor": 0
      },
      "text/plain": [
       "Validation: |          | 0/? [00:00<?, ?it/s]"
      ]
     },
     "metadata": {},
     "output_type": "display_data"
    },
    {
     "name": "stdout",
     "output_type": "stream",
     "text": [
      "Epoch end: Validation, epoch number: 67\n",
      "ValidationEpoch/CM\n",
      " tensor([[188600,     82,   4089, 108889,    334,     87,    636,      0,   6707],\n",
      "        [     0, 317518,     91,      0,      1,    191,     50,      0,   1115],\n",
      "        [  6766,    518, 382450,   4608,    170,   1613,  11398,     75,    352],\n",
      "        [  3074,      0,   5837, 302099,    199,    389,   1219,     10,   1187],\n",
      "        [   302,    221,   3229,  45670, 262890,    239,   1615,      2,   1166],\n",
      "        [     0,   1239,  15685,    100,      0, 295410,   2540,   1193,    185],\n",
      "        [  2487,      0,  83774,  46521,   1547,   1961, 121650,  52909,   1209],\n",
      "        [     0,      2,    226,     99,      9,    984,  30115, 282991,      0],\n",
      "        [  4736,    543,   2542,  47182,    210,      4,    158,      0, 260977]])\n",
      "Epoch end: Train, epoch number: 64\n",
      "TrainEpoch/CM\n",
      " tensor([[188600,     82,   4089, 108889,    334,     87,    636,      0,   6707],\n",
      "        [     0, 317518,     91,      0,      1,    191,     50,      0,   1115],\n",
      "        [  6766,    518, 382450,   4608,    170,   1613,  11398,     75,    352],\n",
      "        [  3074,      0,   5837, 302099,    199,    389,   1219,     10,   1187],\n",
      "        [   302,    221,   3229,  45670, 262890,    239,   1615,      2,   1166],\n",
      "        [     0,   1239,  15685,    100,      0, 295410,   2540,   1193,    185],\n",
      "        [  2487,      0,  83774,  46521,   1547,   1961, 121650,  52909,   1209],\n",
      "        [     0,      2,    226,     99,      9,    984,  30115, 282991,      0],\n",
      "        [  4736,    543,   2542,  47182,    210,      4,    158,      0, 260977]])\n"
     ]
    },
    {
     "data": {
      "application/vnd.jupyter.widget-view+json": {
       "model_id": "9eda108f57ec41c88c9fc5c8e61647e2",
       "version_major": 2,
       "version_minor": 0
      },
      "text/plain": [
       "Validation: |          | 0/? [00:00<?, ?it/s]"
      ]
     },
     "metadata": {},
     "output_type": "display_data"
    },
    {
     "name": "stdout",
     "output_type": "stream",
     "text": [
      "Epoch end: Validation, epoch number: 68\n",
      "ValidationEpoch/CM\n",
      " tensor([[192527,     82,   4105, 109496,    334,     87,    663,      0,   6815],\n",
      "        [     0, 322348,     91,      0,      1,    191,     50,      0,   1115],\n",
      "        [  6826,    518, 388328,   4609,    170,   1617,  11632,     75,    352],\n",
      "        [  3207,      0,   5842, 306643,    200,    389,   1269,     10,   1209],\n",
      "        [   307,    221,   3236,  45706, 267580,    239,   1636,      2,   1181],\n",
      "        [     0,   1239,  15692,    100,      0, 300193,   2540,   1193,    185],\n",
      "        [  2600,      0,  84862,  46930,   1576,   1966, 124176,  53439,   1234],\n",
      "        [     0,      2,    226,     99,      9,   1002,  30492, 287356,      0],\n",
      "        [  4799,    543,   2550,  47290,    215,      4,    163,      0, 265578]])\n"
     ]
    },
    {
     "name": "stderr",
     "output_type": "stream",
     "text": [
      "Metric Validation/Accuracy improved by 0.002 >= min_delta = 0.0. New best score: 0.906\n"
     ]
    },
    {
     "name": "stdout",
     "output_type": "stream",
     "text": [
      "Epoch end: Train, epoch number: 65\n",
      "TrainEpoch/CM\n",
      " tensor([[192527,     82,   4105, 109496,    334,     87,    663,      0,   6815],\n",
      "        [     0, 322348,     91,      0,      1,    191,     50,      0,   1115],\n",
      "        [  6826,    518, 388328,   4609,    170,   1617,  11632,     75,    352],\n",
      "        [  3207,      0,   5842, 306643,    200,    389,   1269,     10,   1209],\n",
      "        [   307,    221,   3236,  45706, 267580,    239,   1636,      2,   1181],\n",
      "        [     0,   1239,  15692,    100,      0, 300193,   2540,   1193,    185],\n",
      "        [  2600,      0,  84862,  46930,   1576,   1966, 124176,  53439,   1234],\n",
      "        [     0,      2,    226,     99,      9,   1002,  30492, 287356,      0],\n",
      "        [  4799,    543,   2550,  47290,    215,      4,    163,      0, 265578]])\n"
     ]
    },
    {
     "data": {
      "application/vnd.jupyter.widget-view+json": {
       "model_id": "fad7d73d535942a2a006910c28cc766b",
       "version_major": 2,
       "version_minor": 0
      },
      "text/plain": [
       "Validation: |          | 0/? [00:00<?, ?it/s]"
      ]
     },
     "metadata": {},
     "output_type": "display_data"
    },
    {
     "name": "stdout",
     "output_type": "stream",
     "text": [
      "Epoch end: Validation, epoch number: 69\n",
      "ValidationEpoch/CM\n",
      " tensor([[196445,     82,   4120, 110112,    334,     87,    691,      0,   6923],\n",
      "        [     0, 327178,     91,      0,      1,    191,     50,      0,   1115],\n",
      "        [  6885,    518, 394209,   4610,    170,   1621,  11864,     75,    352],\n",
      "        [  3335,      0,   5847, 311189,    205,    389,   1318,     10,   1231],\n",
      "        [   312,    221,   3243,  45743, 272272,    239,   1654,      2,   1196],\n",
      "        [     0,   1239,  15698,    100,      0, 304977,   2540,   1193,    185],\n",
      "        [  2712,      0,  85942,  47346,   1605,   1971, 126693,  53979,   1260],\n",
      "        [     0,      2,    226,     99,      9,   1021,  30851, 291738,      0],\n",
      "        [  4863,    543,   2555,  47396,    220,      4,    168,      0, 270183]])\n",
      "Epoch end: Train, epoch number: 66\n",
      "TrainEpoch/CM\n",
      " tensor([[196445,     82,   4120, 110112,    334,     87,    691,      0,   6923],\n",
      "        [     0, 327178,     91,      0,      1,    191,     50,      0,   1115],\n",
      "        [  6885,    518, 394209,   4610,    170,   1621,  11864,     75,    352],\n",
      "        [  3335,      0,   5847, 311189,    205,    389,   1318,     10,   1231],\n",
      "        [   312,    221,   3243,  45743, 272272,    239,   1654,      2,   1196],\n",
      "        [     0,   1239,  15698,    100,      0, 304977,   2540,   1193,    185],\n",
      "        [  2712,      0,  85942,  47346,   1605,   1971, 126693,  53979,   1260],\n",
      "        [     0,      2,    226,     99,      9,   1021,  30851, 291738,      0],\n",
      "        [  4863,    543,   2555,  47396,    220,      4,    168,      0, 270183]])\n"
     ]
    },
    {
     "name": "stderr",
     "output_type": "stream",
     "text": [
      "Metric Validation/Accuracy improved by 0.001 >= min_delta = 0.0. New best score: 0.907\n"
     ]
    },
    {
     "data": {
      "application/vnd.jupyter.widget-view+json": {
       "model_id": "7747938863e846b890bc8dd5f3f8f16b",
       "version_major": 2,
       "version_minor": 0
      },
      "text/plain": [
       "Validation: |          | 0/? [00:00<?, ?it/s]"
      ]
     },
     "metadata": {},
     "output_type": "display_data"
    },
    {
     "name": "stdout",
     "output_type": "stream",
     "text": [
      "Epoch end: Validation, epoch number: 70\n",
      "ValidationEpoch/CM\n",
      " tensor([[200369,     82,   4133, 110718,    334,     87,    720,      0,   7036],\n",
      "        [     0, 332008,     91,      0,      1,    191,     50,      0,   1115],\n",
      "        [  6945,    518, 400086,   4612,    170,   1625,  12098,     75,    352],\n",
      "        [  3460,      0,   5852, 315740,    206,    389,   1366,     10,   1256],\n",
      "        [   317,    221,   3252,  45777, 276964,    239,   1675,      2,   1209],\n",
      "        [     0,   1239,  15704,    100,      0, 309761,   2540,   1193,    185],\n",
      "        [  2823,      0,  87003,  47755,   1631,   1976, 129246,  54512,   1287],\n",
      "        [     0,      2,    226,     99,      9,   1037,  31215, 296118,      0],\n",
      "        [  4922,    543,   2560,  47500,    225,      4,    173,      0, 274795]])\n",
      "Epoch end: Train, epoch number: 67\n",
      "TrainEpoch/CM\n",
      " tensor([[200369,     82,   4133, 110718,    334,     87,    720,      0,   7036],\n",
      "        [     0, 332008,     91,      0,      1,    191,     50,      0,   1115],\n",
      "        [  6945,    518, 400086,   4612,    170,   1625,  12098,     75,    352],\n",
      "        [  3460,      0,   5852, 315740,    206,    389,   1366,     10,   1256],\n",
      "        [   317,    221,   3252,  45777, 276964,    239,   1675,      2,   1209],\n",
      "        [     0,   1239,  15704,    100,      0, 309761,   2540,   1193,    185],\n",
      "        [  2823,      0,  87003,  47755,   1631,   1976, 129246,  54512,   1287],\n",
      "        [     0,      2,    226,     99,      9,   1037,  31215, 296118,      0],\n",
      "        [  4922,    543,   2560,  47500,    225,      4,    173,      0, 274795]])\n"
     ]
    },
    {
     "data": {
      "application/vnd.jupyter.widget-view+json": {
       "model_id": "f161538f6d1c44e6865a3fe53734c1ce",
       "version_major": 2,
       "version_minor": 0
      },
      "text/plain": [
       "Validation: |          | 0/? [00:00<?, ?it/s]"
      ]
     },
     "metadata": {},
     "output_type": "display_data"
    },
    {
     "name": "stdout",
     "output_type": "stream",
     "text": [
      "Epoch end: Validation, epoch number: 71\n",
      "ValidationEpoch/CM\n",
      " tensor([[204292,     82,   4148, 111326,    334,     87,    750,      0,   7145],\n",
      "        [     0, 336838,     91,      0,      1,    191,     50,      0,   1115],\n",
      "        [  7003,    518, 405958,   4612,    170,   1629,  12341,     75,    352],\n",
      "        [  3579,      0,   5857, 320298,    206,    389,   1416,     10,   1279],\n",
      "        [   322,    221,   3258,  45811, 281664,    239,   1696,      2,   1217],\n",
      "        [     0,   1239,  15709,    100,      0, 314546,   2540,   1193,    185],\n",
      "        [  2923,      0,  88051,  48162,   1659,   1981, 131806,  55061,   1315],\n",
      "        [     0,      2,    226,     99,      9,   1054,  31562, 300514,      0],\n",
      "        [  4984,    543,   2565,  47614,    230,      4,    178,      0, 279394]])\n",
      "Epoch end: Train, epoch number: 68\n",
      "TrainEpoch/CM\n",
      " tensor([[204292,     82,   4148, 111326,    334,     87,    750,      0,   7145],\n",
      "        [     0, 336838,     91,      0,      1,    191,     50,      0,   1115],\n",
      "        [  7003,    518, 405958,   4612,    170,   1629,  12341,     75,    352],\n",
      "        [  3579,      0,   5857, 320298,    206,    389,   1416,     10,   1279],\n",
      "        [   322,    221,   3258,  45811, 281664,    239,   1696,      2,   1217],\n",
      "        [     0,   1239,  15709,    100,      0, 314546,   2540,   1193,    185],\n",
      "        [  2923,      0,  88051,  48162,   1659,   1981, 131806,  55061,   1315],\n",
      "        [     0,      2,    226,     99,      9,   1054,  31562, 300514,      0],\n",
      "        [  4984,    543,   2565,  47614,    230,      4,    178,      0, 279394]])\n"
     ]
    },
    {
     "data": {
      "application/vnd.jupyter.widget-view+json": {
       "model_id": "0d3f7a24ff954ae0906d2008c7204088",
       "version_major": 2,
       "version_minor": 0
      },
      "text/plain": [
       "Validation: |          | 0/? [00:00<?, ?it/s]"
      ]
     },
     "metadata": {},
     "output_type": "display_data"
    },
    {
     "name": "stdout",
     "output_type": "stream",
     "text": [
      "Epoch end: Validation, epoch number: 72\n",
      "ValidationEpoch/CM\n",
      " tensor([[208206,     82,   4163, 111943,    334,     87,    777,      0,   7257],\n",
      "        [     0, 341668,     91,      0,      1,    191,     50,      0,   1115],\n",
      "        [  7058,    518, 411852,   4616,    170,   1633,  12561,     75,    352],\n",
      "        [  3696,      0,   5862, 324859,    206,    389,   1464,     10,   1303],\n",
      "        [   327,    221,   3267,  45844, 286362,    239,   1716,      2,   1226],\n",
      "        [     0,   1239,  15714,    100,      0, 319331,   2540,   1193,    185],\n",
      "        [  3030,      0,  89136,  48579,   1687,   1986, 134318,  55606,   1341],\n",
      "        [     0,      2,    226,     99,      9,   1074,  31905, 304911,      0],\n",
      "        [  5048,    543,   2570,  47721,    235,      4,    183,      0, 283998]])\n",
      "Epoch end: Train, epoch number: 69\n",
      "TrainEpoch/CM\n",
      " tensor([[208206,     82,   4163, 111943,    334,     87,    777,      0,   7257],\n",
      "        [     0, 341668,     91,      0,      1,    191,     50,      0,   1115],\n",
      "        [  7058,    518, 411852,   4616,    170,   1633,  12561,     75,    352],\n",
      "        [  3696,      0,   5862, 324859,    206,    389,   1464,     10,   1303],\n",
      "        [   327,    221,   3267,  45844, 286362,    239,   1716,      2,   1226],\n",
      "        [     0,   1239,  15714,    100,      0, 319331,   2540,   1193,    185],\n",
      "        [  3030,      0,  89136,  48579,   1687,   1986, 134318,  55606,   1341],\n",
      "        [     0,      2,    226,     99,      9,   1074,  31905, 304911,      0],\n",
      "        [  5048,    543,   2570,  47721,    235,      4,    183,      0, 283998]])\n"
     ]
    },
    {
     "data": {
      "application/vnd.jupyter.widget-view+json": {
       "model_id": "2861f53b7afb4da686a53fa7359f4ea5",
       "version_major": 2,
       "version_minor": 0
      },
      "text/plain": [
       "Validation: |          | 0/? [00:00<?, ?it/s]"
      ]
     },
     "metadata": {},
     "output_type": "display_data"
    },
    {
     "name": "stdout",
     "output_type": "stream",
     "text": [
      "Epoch end: Validation, epoch number: 73\n",
      "ValidationEpoch/CM\n",
      " tensor([[212221,     82,   4178, 112452,    334,     87,    808,      0,   7372],\n",
      "        [     0, 346498,     91,      0,      1,    191,     50,      0,   1115],\n",
      "        [  7114,    518, 417736,   4618,    170,   1637,  12792,     75,    352],\n",
      "        [  3832,      0,   5867, 329395,    206,    389,   1516,     10,   1329],\n",
      "        [   332,    221,   3273,  45874, 291070,    239,   1736,      2,   1231],\n",
      "        [     0,   1239,  15719,    100,      0, 324116,   2540,   1193,    185],\n",
      "        [  3146,      0,  90178,  48966,   1715,   1991, 136932,  56110,   1370],\n",
      "        [     0,      2,    226,     99,      9,   1094,  32267, 309289,      0],\n",
      "        [  5111,    543,   2575,  47823,    240,      4,    188,      0, 288608]])\n"
     ]
    },
    {
     "name": "stderr",
     "output_type": "stream",
     "text": [
      "Metric Validation/Accuracy improved by 0.003 >= min_delta = 0.0. New best score: 0.911\n"
     ]
    },
    {
     "name": "stdout",
     "output_type": "stream",
     "text": [
      "Epoch end: Train, epoch number: 70\n",
      "TrainEpoch/CM\n",
      " tensor([[212221,     82,   4178, 112452,    334,     87,    808,      0,   7372],\n",
      "        [     0, 346498,     91,      0,      1,    191,     50,      0,   1115],\n",
      "        [  7114,    518, 417736,   4618,    170,   1637,  12792,     75,    352],\n",
      "        [  3832,      0,   5867, 329395,    206,    389,   1516,     10,   1329],\n",
      "        [   332,    221,   3273,  45874, 291070,    239,   1736,      2,   1231],\n",
      "        [     0,   1239,  15719,    100,      0, 324116,   2540,   1193,    185],\n",
      "        [  3146,      0,  90178,  48966,   1715,   1991, 136932,  56110,   1370],\n",
      "        [     0,      2,    226,     99,      9,   1094,  32267, 309289,      0],\n",
      "        [  5111,    543,   2575,  47823,    240,      4,    188,      0, 288608]])\n"
     ]
    },
    {
     "data": {
      "application/vnd.jupyter.widget-view+json": {
       "model_id": "171a2f8a9f694daf9fc5e17e590ea67a",
       "version_major": 2,
       "version_minor": 0
      },
      "text/plain": [
       "Validation: |          | 0/? [00:00<?, ?it/s]"
      ]
     },
     "metadata": {},
     "output_type": "display_data"
    },
    {
     "name": "stdout",
     "output_type": "stream",
     "text": [
      "Epoch end: Validation, epoch number: 74\n",
      "ValidationEpoch/CM\n",
      " tensor([[216174,     82,   4199, 113026,    334,     87,    838,      0,   7479],\n",
      "        [     0, 351328,     91,      0,      1,    191,     50,      0,   1115],\n",
      "        [  7172,    518, 423606,   4618,    170,   1641,  13037,     75,    352],\n",
      "        [  3945,      0,   5872, 333960,    206,    389,   1568,     10,   1349],\n",
      "        [   337,    221,   3280,  45907, 295769,    239,   1756,      2,   1241],\n",
      "        [     0,   1239,  15724,    100,      0, 328901,   2540,   1193,    185],\n",
      "        [  3243,      0,  91214,  49374,   1740,   1996, 139539,  56631,   1396],\n",
      "        [     0,      2,    226,     99,      9,   1112,  32618, 313680,      0],\n",
      "        [  5177,    543,   2580,  47929,    245,      4,    193,      0, 293211]])\n",
      "Epoch end: Train, epoch number: 71\n",
      "TrainEpoch/CM\n",
      " tensor([[216174,     82,   4199, 113026,    334,     87,    838,      0,   7479],\n",
      "        [     0, 351328,     91,      0,      1,    191,     50,      0,   1115],\n",
      "        [  7172,    518, 423606,   4618,    170,   1641,  13037,     75,    352],\n",
      "        [  3945,      0,   5872, 333960,    206,    389,   1568,     10,   1349],\n",
      "        [   337,    221,   3280,  45907, 295769,    239,   1756,      2,   1241],\n",
      "        [     0,   1239,  15724,    100,      0, 328901,   2540,   1193,    185],\n",
      "        [  3243,      0,  91214,  49374,   1740,   1996, 139539,  56631,   1396],\n",
      "        [     0,      2,    226,     99,      9,   1112,  32618, 313680,      0],\n",
      "        [  5177,    543,   2580,  47929,    245,      4,    193,      0, 293211]])\n"
     ]
    },
    {
     "data": {
      "application/vnd.jupyter.widget-view+json": {
       "model_id": "d0abe77af74b4a7bb20cb90d2fa643f6",
       "version_major": 2,
       "version_minor": 0
      },
      "text/plain": [
       "Validation: |          | 0/? [00:00<?, ?it/s]"
      ]
     },
     "metadata": {},
     "output_type": "display_data"
    },
    {
     "name": "stdout",
     "output_type": "stream",
     "text": [
      "Epoch end: Validation, epoch number: 75\n",
      "ValidationEpoch/CM\n",
      " tensor([[220110,     82,   4218, 113610,    334,     87,    870,      0,   7593],\n",
      "        [     0, 356158,     91,      0,      1,    191,     50,      0,   1115],\n",
      "        [  7226,    518, 429494,   4619,    170,   1645,  13267,     75,    352],\n",
      "        [  4073,      0,   5877, 338511,    206,    389,   1617,     10,   1371],\n",
      "        [   342,    221,   3287,  45937, 300473,    239,   1776,      2,   1249],\n",
      "        [     0,   1239,  15729,    100,      0, 333686,   2540,   1193,    185],\n",
      "        [  3350,      0,  92253,  49785,   1768,   2001, 142113,  57163,   1425],\n",
      "        [     0,      2,    226,     99,      9,   1130,  32957, 318083,      0],\n",
      "        [  5232,    543,   2585,  48032,    250,      4,    198,      0, 297828]])\n"
     ]
    },
    {
     "name": "stderr",
     "output_type": "stream",
     "text": [
      "Metric Validation/Accuracy improved by 0.000 >= min_delta = 0.0. New best score: 0.911\n"
     ]
    },
    {
     "name": "stdout",
     "output_type": "stream",
     "text": [
      "Epoch end: Train, epoch number: 72\n",
      "TrainEpoch/CM\n",
      " tensor([[220110,     82,   4218, 113610,    334,     87,    870,      0,   7593],\n",
      "        [     0, 356158,     91,      0,      1,    191,     50,      0,   1115],\n",
      "        [  7226,    518, 429494,   4619,    170,   1645,  13267,     75,    352],\n",
      "        [  4073,      0,   5877, 338511,    206,    389,   1617,     10,   1371],\n",
      "        [   342,    221,   3287,  45937, 300473,    239,   1776,      2,   1249],\n",
      "        [     0,   1239,  15729,    100,      0, 333686,   2540,   1193,    185],\n",
      "        [  3350,      0,  92253,  49785,   1768,   2001, 142113,  57163,   1425],\n",
      "        [     0,      2,    226,     99,      9,   1130,  32957, 318083,      0],\n",
      "        [  5232,    543,   2585,  48032,    250,      4,    198,      0, 297828]])\n"
     ]
    },
    {
     "data": {
      "application/vnd.jupyter.widget-view+json": {
       "model_id": "abce2bf9a96149b88ed8032e3035ffda",
       "version_major": 2,
       "version_minor": 0
      },
      "text/plain": [
       "Validation: |          | 0/? [00:00<?, ?it/s]"
      ]
     },
     "metadata": {},
     "output_type": "display_data"
    },
    {
     "name": "stdout",
     "output_type": "stream",
     "text": [
      "Epoch end: Validation, epoch number: 76\n",
      "ValidationEpoch/CM\n",
      " tensor([[224099,     82,   4233, 114146,    334,     87,    900,      0,   7708],\n",
      "        [     0, 360988,     91,      0,      1,    191,     50,      0,   1115],\n",
      "        [  7285,    518, 435380,   4621,    170,   1649,  13493,     75,    352],\n",
      "        [  4196,      0,   5882, 343065,    206,    389,   1668,     10,   1393],\n",
      "        [   347,    221,   3294,  45967, 305180,    239,   1796,      2,   1254],\n",
      "        [     0,   1239,  15734,    100,      0, 338471,   2540,   1193,    185],\n",
      "        [  3459,      0,  93277,  50188,   1792,   2006, 144721,  57688,   1452],\n",
      "        [     0,      2,    226,     99,      9,   1149,  33289, 322492,      0],\n",
      "        [  5293,    543,   2590,  48137,    255,      4,    203,      0, 302437]])\n",
      "Epoch end: Train, epoch number: 73\n"
     ]
    },
    {
     "name": "stderr",
     "output_type": "stream",
     "text": [
      "Metric Validation/Accuracy improved by 0.002 >= min_delta = 0.0. New best score: 0.912\n"
     ]
    },
    {
     "name": "stdout",
     "output_type": "stream",
     "text": [
      "TrainEpoch/CM\n",
      " tensor([[224099,     82,   4233, 114146,    334,     87,    900,      0,   7708],\n",
      "        [     0, 360988,     91,      0,      1,    191,     50,      0,   1115],\n",
      "        [  7285,    518, 435380,   4621,    170,   1649,  13493,     75,    352],\n",
      "        [  4196,      0,   5882, 343065,    206,    389,   1668,     10,   1393],\n",
      "        [   347,    221,   3294,  45967, 305180,    239,   1796,      2,   1254],\n",
      "        [     0,   1239,  15734,    100,      0, 338471,   2540,   1193,    185],\n",
      "        [  3459,      0,  93277,  50188,   1792,   2006, 144721,  57688,   1452],\n",
      "        [     0,      2,    226,     99,      9,   1149,  33289, 322492,      0],\n",
      "        [  5293,    543,   2590,  48137,    255,      4,    203,      0, 302437]])\n"
     ]
    },
    {
     "data": {
      "application/vnd.jupyter.widget-view+json": {
       "model_id": "9d2072615e4a40f2aea6489c572e1fe5",
       "version_major": 2,
       "version_minor": 0
      },
      "text/plain": [
       "Validation: |          | 0/? [00:00<?, ?it/s]"
      ]
     },
     "metadata": {},
     "output_type": "display_data"
    },
    {
     "name": "stdout",
     "output_type": "stream",
     "text": [
      "Epoch end: Validation, epoch number: 77\n",
      "ValidationEpoch/CM\n",
      " tensor([[228134,     82,   4248, 114637,    334,     87,    932,      0,   7820],\n",
      "        [     0, 365818,     91,      0,      1,    191,     50,      0,   1115],\n",
      "        [  7339,    518, 441272,   4621,    170,   1653,  13720,     75,    352],\n",
      "        [  4321,      0,   5887, 347615,    206,    389,   1720,     10,   1416],\n",
      "        [   352,    221,   3299,  45997, 309889,    239,   1816,      2,   1259],\n",
      "        [     0,   1239,  15739,    100,      0, 343256,   2540,   1193,    185],\n",
      "        [  3573,      0,  94302,  50578,   1816,   2011, 147349,  58199,   1480],\n",
      "        [     0,      2,    226,     99,      9,   1166,  33637, 326887,      0],\n",
      "        [  5352,    543,   2595,  48243,    260,      4,    208,      0, 307047]])\n",
      "Epoch end: Train, epoch number: 74\n",
      "TrainEpoch/CM\n",
      " tensor([[228134,     82,   4248, 114637,    334,     87,    932,      0,   7820],\n",
      "        [     0, 365818,     91,      0,      1,    191,     50,      0,   1115],\n",
      "        [  7339,    518, 441272,   4621,    170,   1653,  13720,     75,    352],\n",
      "        [  4321,      0,   5887, 347615,    206,    389,   1720,     10,   1416],\n",
      "        [   352,    221,   3299,  45997, 309889,    239,   1816,      2,   1259],\n",
      "        [     0,   1239,  15739,    100,      0, 343256,   2540,   1193,    185],\n",
      "        [  3573,      0,  94302,  50578,   1816,   2011, 147349,  58199,   1480],\n",
      "        [     0,      2,    226,     99,      9,   1166,  33637, 326887,      0],\n",
      "        [  5352,    543,   2595,  48243,    260,      4,    208,      0, 307047]])\n"
     ]
    },
    {
     "data": {
      "application/vnd.jupyter.widget-view+json": {
       "model_id": "5fd00277d1264d8eb891760f9a82acc6",
       "version_major": 2,
       "version_minor": 0
      },
      "text/plain": [
       "Validation: |          | 0/? [00:00<?, ?it/s]"
      ]
     },
     "metadata": {},
     "output_type": "display_data"
    },
    {
     "name": "stdout",
     "output_type": "stream",
     "text": [
      "Epoch end: Validation, epoch number: 78\n",
      "ValidationEpoch/CM\n",
      " tensor([[232151,     82,   4263, 115144,    334,     87,    965,      0,   7933],\n",
      "        [     0, 370648,     91,      0,      1,    191,     50,      0,   1115],\n",
      "        [  7392,    518, 447163,   4623,    170,   1657,  13947,     75,    352],\n",
      "        [  4451,      0,   5892, 352161,    206,    389,   1773,     10,   1437],\n",
      "        [   357,    221,   3304,  46027, 314598,    239,   1836,      2,   1264],\n",
      "        [     0,   1239,  15744,    100,      0, 348041,   2540,   1193,    185],\n",
      "        [  3682,      0,  95313,  50967,   1841,   2016, 150006,  58698,   1510],\n",
      "        [     0,      2,    226,     99,      9,   1183,  33998, 331269,      0],\n",
      "        [  5414,    543,   2600,  48342,    265,      4,    213,      0, 311661]])\n",
      "Epoch end: Train, epoch number: 75\n",
      "TrainEpoch/CM\n",
      " tensor([[232151,     82,   4263, 115144,    334,     87,    965,      0,   7933],\n",
      "        [     0, 370648,     91,      0,      1,    191,     50,      0,   1115],\n",
      "        [  7392,    518, 447163,   4623,    170,   1657,  13947,     75,    352],\n",
      "        [  4451,      0,   5892, 352161,    206,    389,   1773,     10,   1437],\n",
      "        [   357,    221,   3304,  46027, 314598,    239,   1836,      2,   1264],\n",
      "        [     0,   1239,  15744,    100,      0, 348041,   2540,   1193,    185],\n",
      "        [  3682,      0,  95313,  50967,   1841,   2016, 150006,  58698,   1510],\n",
      "        [     0,      2,    226,     99,      9,   1183,  33998, 331269,      0],\n",
      "        [  5414,    543,   2600,  48342,    265,      4,    213,      0, 311661]])\n"
     ]
    },
    {
     "data": {
      "application/vnd.jupyter.widget-view+json": {
       "model_id": "7bbd00365e3a403abaf969d0bb1b42c3",
       "version_major": 2,
       "version_minor": 0
      },
      "text/plain": [
       "Validation: |          | 0/? [00:00<?, ?it/s]"
      ]
     },
     "metadata": {},
     "output_type": "display_data"
    },
    {
     "name": "stdout",
     "output_type": "stream",
     "text": [
      "Epoch end: Validation, epoch number: 79\n",
      "ValidationEpoch/CM\n",
      " tensor([[236210,     82,   4278, 115615,    334,     87,    996,      0,   8042],\n",
      "        [     0, 375478,     91,      0,      1,    191,     50,      0,   1115],\n",
      "        [  7446,    518, 453059,   4624,    170,   1661,  14169,     75,    352],\n",
      "        [  4583,      0,   5897, 356702,    206,    389,   1828,     10,   1459],\n",
      "        [   362,    221,   3309,  46057, 319307,    239,   1856,      2,   1269],\n",
      "        [     0,   1239,  15749,    100,      0, 352826,   2540,   1193,    185],\n",
      "        [  3793,      0,  96336,  51364,   1863,   2021, 152617,  59228,   1536],\n",
      "        [     0,      2,    226,     99,      9,   1196,  34331, 335683,      0],\n",
      "        [  5474,    543,   2605,  48443,    270,      4,    218,      0, 316275]])\n",
      "Epoch end: Train, epoch number: 76\n",
      "TrainEpoch/CM\n",
      " tensor([[236210,     82,   4278, 115615,    334,     87,    996,      0,   8042],\n",
      "        [     0, 375478,     91,      0,      1,    191,     50,      0,   1115],\n",
      "        [  7446,    518, 453059,   4624,    170,   1661,  14169,     75,    352],\n",
      "        [  4583,      0,   5897, 356702,    206,    389,   1828,     10,   1459],\n",
      "        [   362,    221,   3309,  46057, 319307,    239,   1856,      2,   1269],\n",
      "        [     0,   1239,  15749,    100,      0, 352826,   2540,   1193,    185],\n",
      "        [  3793,      0,  96336,  51364,   1863,   2021, 152617,  59228,   1536],\n",
      "        [     0,      2,    226,     99,      9,   1196,  34331, 335683,      0],\n",
      "        [  5474,    543,   2605,  48443,    270,      4,    218,      0, 316275]])\n"
     ]
    },
    {
     "name": "stderr",
     "output_type": "stream",
     "text": [
      "Metric Validation/Accuracy improved by 0.000 >= min_delta = 0.0. New best score: 0.913\n"
     ]
    },
    {
     "data": {
      "application/vnd.jupyter.widget-view+json": {
       "model_id": "428de5e81fe44e40b5aaafdf8c65fc62",
       "version_major": 2,
       "version_minor": 0
      },
      "text/plain": [
       "Validation: |          | 0/? [00:00<?, ?it/s]"
      ]
     },
     "metadata": {},
     "output_type": "display_data"
    },
    {
     "name": "stdout",
     "output_type": "stream",
     "text": [
      "Epoch end: Validation, epoch number: 80\n",
      "ValidationEpoch/CM\n",
      " tensor([[240275,     82,   4294, 116080,    334,     87,   1026,      0,   8151],\n",
      "        [     0, 380308,     91,      0,      1,    191,     50,      0,   1115],\n",
      "        [  7503,    518, 458947,   4628,    170,   1665,  14393,     75,    352],\n",
      "        [  4709,      0,   5902, 361253,    206,    389,   1882,     10,   1478],\n",
      "        [   367,    221,   3315,  46087, 324015,    239,   1876,      2,   1274],\n",
      "        [     0,   1239,  15754,    100,      0, 357611,   2540,   1193,    185],\n",
      "        [  3907,      0,  97334,  51757,   1882,   2026, 155291,  59723,   1563],\n",
      "        [     0,      2,    226,     99,      9,   1215,  34669, 340086,      0],\n",
      "        [  5537,    543,   2610,  48545,    275,      4,    223,      0, 320885]])\n",
      "Epoch end: Train, epoch number: 77\n",
      "TrainEpoch/CM\n",
      " tensor([[240275,     82,   4294, 116080,    334,     87,   1026,      0,   8151],\n",
      "        [     0, 380308,     91,      0,      1,    191,     50,      0,   1115],\n",
      "        [  7503,    518, 458947,   4628,    170,   1665,  14393,     75,    352],\n",
      "        [  4709,      0,   5902, 361253,    206,    389,   1882,     10,   1478],\n",
      "        [   367,    221,   3315,  46087, 324015,    239,   1876,      2,   1274],\n",
      "        [     0,   1239,  15754,    100,      0, 357611,   2540,   1193,    185],\n",
      "        [  3907,      0,  97334,  51757,   1882,   2026, 155291,  59723,   1563],\n",
      "        [     0,      2,    226,     99,      9,   1215,  34669, 340086,      0],\n",
      "        [  5537,    543,   2610,  48545,    275,      4,    223,      0, 320885]])\n"
     ]
    },
    {
     "name": "stderr",
     "output_type": "stream",
     "text": [
      "Metric Validation/Accuracy improved by 0.003 >= min_delta = 0.0. New best score: 0.916\n"
     ]
    },
    {
     "data": {
      "application/vnd.jupyter.widget-view+json": {
       "model_id": "3c8cc740a1f94b61b006a3564a1f10ce",
       "version_major": 2,
       "version_minor": 0
      },
      "text/plain": [
       "Validation: |          | 0/? [00:00<?, ?it/s]"
      ]
     },
     "metadata": {},
     "output_type": "display_data"
    },
    {
     "name": "stdout",
     "output_type": "stream",
     "text": [
      "Epoch end: Validation, epoch number: 81\n",
      "ValidationEpoch/CM\n",
      " tensor([[244337,     82,   4310, 116543,    334,     87,   1057,      0,   8264],\n",
      "        [     0, 385138,     91,      0,      1,    191,     50,      0,   1115],\n",
      "        [  7558,    518, 464830,   4630,    170,   1669,  14626,     75,    352],\n",
      "        [  4833,      0,   5907, 365801,    206,    389,   1937,     10,   1501],\n",
      "        [   372,    221,   3321,  46117, 328723,    239,   1896,      2,   1279],\n",
      "        [     0,   1239,  15759,    100,      0, 362396,   2540,   1193,    185],\n",
      "        [  4014,      0,  98310,  52153,   1903,   2031, 157984,  60223,   1590],\n",
      "        [     0,      2,    226,     99,      9,   1225,  35000, 344505,      0],\n",
      "        [  5597,    543,   2615,  48653,    280,      4,    228,      0, 325492]])\n",
      "Epoch end: Train, epoch number: 78\n",
      "TrainEpoch/CM\n",
      " tensor([[244337,     82,   4310, 116543,    334,     87,   1057,      0,   8264],\n",
      "        [     0, 385138,     91,      0,      1,    191,     50,      0,   1115],\n",
      "        [  7558,    518, 464830,   4630,    170,   1669,  14626,     75,    352],\n",
      "        [  4833,      0,   5907, 365801,    206,    389,   1937,     10,   1501],\n",
      "        [   372,    221,   3321,  46117, 328723,    239,   1896,      2,   1279],\n",
      "        [     0,   1239,  15759,    100,      0, 362396,   2540,   1193,    185],\n",
      "        [  4014,      0,  98310,  52153,   1903,   2031, 157984,  60223,   1590],\n",
      "        [     0,      2,    226,     99,      9,   1225,  35000, 344505,      0],\n",
      "        [  5597,    543,   2615,  48653,    280,      4,    228,      0, 325492]])\n"
     ]
    },
    {
     "data": {
      "application/vnd.jupyter.widget-view+json": {
       "model_id": "f8ddd56be7ec4729bdaa7f334e7ba943",
       "version_major": 2,
       "version_minor": 0
      },
      "text/plain": [
       "Validation: |          | 0/? [00:00<?, ?it/s]"
      ]
     },
     "metadata": {},
     "output_type": "display_data"
    },
    {
     "name": "stdout",
     "output_type": "stream",
     "text": [
      "Epoch end: Validation, epoch number: 82\n",
      "ValidationEpoch/CM\n",
      " tensor([[248412,     82,   4326, 116989,    334,     87,   1091,      0,   8378],\n",
      "        [     0, 389968,     91,      0,      1,    191,     50,      0,   1115],\n",
      "        [  7614,    518, 470717,   4632,    170,   1673,  14854,     75,    352],\n",
      "        [  4957,      0,   5912, 370353,    206,    389,   1991,     10,   1521],\n",
      "        [   377,    221,   3326,  46147, 333432,    239,   1916,      2,   1284],\n",
      "        [     0,   1239,  15764,    100,      0, 367181,   2540,   1193,    185],\n",
      "        [  4128,      0,  99288,  52540,   1926,   2036, 160654,  60742,   1619],\n",
      "        [     0,      2,    226,     99,      9,   1235,  35319, 348936,      0],\n",
      "        [  5656,    543,   2620,  48754,    285,      4,    233,      0, 330107]])\n",
      "Epoch end: Train, epoch number: 79\n",
      "TrainEpoch/CM\n",
      " tensor([[248412,     82,   4326, 116989,    334,     87,   1091,      0,   8378],\n",
      "        [     0, 389968,     91,      0,      1,    191,     50,      0,   1115],\n",
      "        [  7614,    518, 470717,   4632,    170,   1673,  14854,     75,    352],\n",
      "        [  4957,      0,   5912, 370353,    206,    389,   1991,     10,   1521],\n",
      "        [   377,    221,   3326,  46147, 333432,    239,   1916,      2,   1284],\n",
      "        [     0,   1239,  15764,    100,      0, 367181,   2540,   1193,    185],\n",
      "        [  4128,      0,  99288,  52540,   1926,   2036, 160654,  60742,   1619],\n",
      "        [     0,      2,    226,     99,      9,   1235,  35319, 348936,      0],\n",
      "        [  5656,    543,   2620,  48754,    285,      4,    233,      0, 330107]])\n"
     ]
    },
    {
     "data": {
      "application/vnd.jupyter.widget-view+json": {
       "model_id": "b29ee254cf0442648a8cf7a55493fea6",
       "version_major": 2,
       "version_minor": 0
      },
      "text/plain": [
       "Validation: |          | 0/? [00:00<?, ?it/s]"
      ]
     },
     "metadata": {},
     "output_type": "display_data"
    },
    {
     "name": "stdout",
     "output_type": "stream",
     "text": [
      "Epoch end: Validation, epoch number: 83\n",
      "ValidationEpoch/CM\n",
      " tensor([[252500,     82,   4346, 117421,    334,     87,   1126,      0,   8488],\n",
      "        [     0, 394798,     91,      0,      1,    191,     50,      0,   1115],\n",
      "        [  7667,    518, 476613,   4633,    170,   1677,  15077,     75,    352],\n",
      "        [  5084,      0,   5917, 374900,    206,    389,   2044,     10,   1544],\n",
      "        [   382,    221,   3332,  46173, 338144,    239,   1936,      2,   1289],\n",
      "        [     0,   1239,  15769,    100,      0, 371966,   2540,   1193,    185],\n",
      "        [  4241,      0, 100270,  52922,   1948,   2041, 163351,  61237,   1648],\n",
      "        [     0,      2,    226,     99,      9,   1250,  35645, 353355,      0],\n",
      "        [  5716,    543,   2625,  48853,    290,      4,    238,      0, 334723]])\n",
      "Epoch end: Train, epoch number: 80\n",
      "TrainEpoch/CM\n",
      " tensor([[252500,     82,   4346, 117421,    334,     87,   1126,      0,   8488],\n",
      "        [     0, 394798,     91,      0,      1,    191,     50,      0,   1115],\n",
      "        [  7667,    518, 476613,   4633,    170,   1677,  15077,     75,    352],\n",
      "        [  5084,      0,   5917, 374900,    206,    389,   2044,     10,   1544],\n",
      "        [   382,    221,   3332,  46173, 338144,    239,   1936,      2,   1289],\n",
      "        [     0,   1239,  15769,    100,      0, 371966,   2540,   1193,    185],\n",
      "        [  4241,      0, 100270,  52922,   1948,   2041, 163351,  61237,   1648],\n",
      "        [     0,      2,    226,     99,      9,   1250,  35645, 353355,      0],\n",
      "        [  5716,    543,   2625,  48853,    290,      4,    238,      0, 334723]])\n"
     ]
    },
    {
     "data": {
      "application/vnd.jupyter.widget-view+json": {
       "model_id": "15e1d82d6c0a4f04a0c244f94ae17acf",
       "version_major": 2,
       "version_minor": 0
      },
      "text/plain": [
       "Validation: |          | 0/? [00:00<?, ?it/s]"
      ]
     },
     "metadata": {},
     "output_type": "display_data"
    },
    {
     "name": "stdout",
     "output_type": "stream",
     "text": [
      "Epoch end: Validation, epoch number: 84\n",
      "ValidationEpoch/CM\n",
      " tensor([[256583,     82,   4368, 117858,    334,     87,   1161,      0,   8596],\n",
      "        [     0, 399628,     91,      0,      1,    191,     50,      0,   1115],\n",
      "        [  7720,    518, 482512,   4636,    170,   1681,  15295,     75,    352],\n",
      "        [  5204,      0,   5922, 379455,    206,    389,   2098,     10,   1565],\n",
      "        [   387,    221,   3339,  46202, 342852,    239,   1956,      2,   1294],\n",
      "        [     0,   1239,  15774,    100,      0, 376751,   2540,   1193,    185],\n",
      "        [  4353,      0, 101257,  53318,   1966,   2046, 166044,  61723,   1676],\n",
      "        [     0,      2,    226,     99,      9,   1263,  35975, 357772,      0],\n",
      "        [  5773,    543,   2630,  48958,    295,      4,    243,      0, 339336]])\n",
      "Epoch end: Train, epoch number: 81\n",
      "TrainEpoch/CM\n",
      " tensor([[256583,     82,   4368, 117858,    334,     87,   1161,      0,   8596],\n",
      "        [     0, 399628,     91,      0,      1,    191,     50,      0,   1115],\n",
      "        [  7720,    518, 482512,   4636,    170,   1681,  15295,     75,    352],\n",
      "        [  5204,      0,   5922, 379455,    206,    389,   2098,     10,   1565],\n",
      "        [   387,    221,   3339,  46202, 342852,    239,   1956,      2,   1294],\n",
      "        [     0,   1239,  15774,    100,      0, 376751,   2540,   1193,    185],\n",
      "        [  4353,      0, 101257,  53318,   1966,   2046, 166044,  61723,   1676],\n",
      "        [     0,      2,    226,     99,      9,   1263,  35975, 357772,      0],\n",
      "        [  5773,    543,   2630,  48958,    295,      4,    243,      0, 339336]])\n"
     ]
    },
    {
     "data": {
      "application/vnd.jupyter.widget-view+json": {
       "model_id": "1e936868f3164b31973f7e9e3f2f2ee0",
       "version_major": 2,
       "version_minor": 0
      },
      "text/plain": [
       "Validation: |          | 0/? [00:00<?, ?it/s]"
      ]
     },
     "metadata": {},
     "output_type": "display_data"
    },
    {
     "name": "stdout",
     "output_type": "stream",
     "text": [
      "Epoch end: Validation, epoch number: 85\n",
      "ValidationEpoch/CM\n",
      " tensor([[260698,     82,   4385, 118269,    334,     87,   1196,      0,   8703],\n",
      "        [     0, 404458,     91,      0,      1,    191,     50,      0,   1115],\n",
      "        [  7779,    518, 488400,   4636,    170,   1685,  15521,     75,    352],\n",
      "        [  5332,      0,   5927, 384002,    206,    389,   2153,     10,   1585],\n",
      "        [   392,    221,   3345,  46229, 347563,    239,   1976,      2,   1299],\n",
      "        [     0,   1239,  15779,    100,      0, 381536,   2540,   1193,    185],\n",
      "        [  4472,      0, 102220,  53694,   1988,   2051, 168750,  62228,   1705],\n",
      "        [     0,      2,    226,     99,      9,   1276,  36289, 362205,      0],\n",
      "        [  5831,    543,   2636,  49061,    300,      4,    248,      0, 343949]])\n",
      "Epoch end: Train, epoch number: 82\n"
     ]
    },
    {
     "name": "stderr",
     "output_type": "stream",
     "text": [
      "Monitored metric Validation/Accuracy did not improve in the last 5 records. Best score: 0.916. Signaling Trainer to stop.\n"
     ]
    },
    {
     "name": "stdout",
     "output_type": "stream",
     "text": [
      "TrainEpoch/CM\n",
      " tensor([[260698,     82,   4385, 118269,    334,     87,   1196,      0,   8703],\n",
      "        [     0, 404458,     91,      0,      1,    191,     50,      0,   1115],\n",
      "        [  7779,    518, 488400,   4636,    170,   1685,  15521,     75,    352],\n",
      "        [  5332,      0,   5927, 384002,    206,    389,   2153,     10,   1585],\n",
      "        [   392,    221,   3345,  46229, 347563,    239,   1976,      2,   1299],\n",
      "        [     0,   1239,  15779,    100,      0, 381536,   2540,   1193,    185],\n",
      "        [  4472,      0, 102220,  53694,   1988,   2051, 168750,  62228,   1705],\n",
      "        [     0,      2,    226,     99,      9,   1276,  36289, 362205,      0],\n",
      "        [  5831,    543,   2636,  49061,    300,      4,    248,      0, 343949]])\n"
     ]
    }
   ],
   "source": [
    "trainer.fit(model=model, train_dataloaders=train_dataloader, val_dataloaders=val_dataloader)"
   ]
  },
  {
   "cell_type": "code",
   "execution_count": 43,
   "metadata": {},
   "outputs": [
    {
     "name": "stderr",
     "output_type": "stream",
     "text": [
      "LOCAL_RANK: 0 - CUDA_VISIBLE_DEVICES: [0]\n"
     ]
    },
    {
     "name": "stdout",
     "output_type": "stream",
     "text": [
      "/home/<User>/repos/csg_is/training/official_logs/single-layer_30_from_rp4_weights_30s_Xi_sensor_1_and_Heqing_device2/version_0/checkpoints/epoch=78-step=5609.ckpt\n",
      "tensor(0.9156, device='cuda:0')\n"
     ]
    },
    {
     "data": {
      "application/vnd.jupyter.widget-view+json": {
       "model_id": "d8dc6d5944d144558c2b1f92a8714b31",
       "version_major": 2,
       "version_minor": 0
      },
      "text/plain": [
       "Testing: |          | 0/? [00:00<?, ?it/s]"
      ]
     },
     "metadata": {},
     "output_type": "display_data"
    },
    {
     "name": "stdout",
     "output_type": "stream",
     "text": [
      "Epoch end: Test, epoch number: 0\n",
      "TestEpoch/CM\n",
      " tensor([[ 838,    0,    5,   84,    0,    0,    7,    0,   23],\n",
      "        [   0,  904,    0,    0,    0,    0,    0,    0,    0],\n",
      "        [   9,    0, 1148,    0,    0,    1,   57,    0,    0],\n",
      "        [  19,    0,    0,  877,    0,    0,    9,    0,    3],\n",
      "        [   1,    0,    1,    3,  945,    0,    6,    0,    0],\n",
      "        [   0,    0,    0,    0,    0,  997,    0,    0,    0],\n",
      "        [  27,    0,  191,   76,    2,    2,  558,   99,    6],\n",
      "        [   0,    0,    0,    0,    0,    1,   74,  930,    0],\n",
      "        [  11,    0,    2,   25,    0,    0,    1,    0,  916]])\n",
      "────────────────────────────────────────────────────────────────────────────────────────────────────────────────────────\n",
      "       Test metric             DataLoader 0\n",
      "────────────────────────────────────────────────────────────────────────────────────────────────────────────────────────\n",
      "      Test/Accuracy         0.9156419038772583\n",
      "      Test/F1Score          0.9124975800514221\n",
      "        Test/Loss           0.31683042645454407\n",
      "     Test/Precision          0.916144847869873\n",
      "       Test/Recall          0.9156419038772583\n",
      "   TestEpoch/Accuracy        0.915560245513916\n",
      "    TestEpoch/F1Score       0.9134067296981812\n",
      "   TestEpoch/Precision      0.9165933132171631\n",
      "    TestEpoch/Recall         0.915560245513916\n",
      "────────────────────────────────────────────────────────────────────────────────────────────────────────────────────────\n"
     ]
    },
    {
     "data": {
      "text/plain": [
       "[{'Test/Loss': 0.31683042645454407,\n",
       "  'Test/Accuracy': 0.9156419038772583,\n",
       "  'Test/Precision': 0.916144847869873,\n",
       "  'Test/Recall': 0.9156419038772583,\n",
       "  'Test/F1Score': 0.9124975800514221,\n",
       "  'TestEpoch/Accuracy': 0.915560245513916,\n",
       "  'TestEpoch/Precision': 0.9165933132171631,\n",
       "  'TestEpoch/Recall': 0.915560245513916,\n",
       "  'TestEpoch/F1Score': 0.9134067296981812}]"
      ]
     },
     "execution_count": 43,
     "metadata": {},
     "output_type": "execute_result"
    }
   ],
   "source": [
    "print(checkpoint_callback.best_model_path)   # prints path to the best model's checkpoint\n",
    "print(checkpoint_callback.best_model_score) # and prints it score\n",
    "best_model = MalwaresModelLinearLayer.load_from_checkpoint(checkpoint_callback.best_model_path, input_size = vectors.shape[1]-1, output_size = len(label_encoder.classes_))\n",
    "\n",
    "trainer.test(best_model, dataloaders=val_dataloader)"
   ]
  },
  {
   "cell_type": "code",
   "execution_count": 44,
   "metadata": {},
   "outputs": [],
   "source": [
    "sys.path.append(str(repo_base_path  / \"training\"))"
   ]
  },
  {
   "cell_type": "code",
   "execution_count": 47,
   "metadata": {},
   "outputs": [
    {
     "name": "stderr",
     "output_type": "stream",
     "text": [
      "GPU available: True (cuda), used: True\n",
      "TPU available: False, using: 0 TPU cores\n",
      "IPU available: False, using: 0 IPUs\n",
      "HPU available: False, using: 0 HPUs\n"
     ]
    }
   ],
   "source": [
    "# tensorboard = pl_loggers.TensorBoardLogger('./')\n",
    "\n",
    "from mlp import MalwaresModelMLP\n",
    "\n",
    "# split into train and val\n",
    "train, val = train_test_split(vectors, test_size=0.2, random_state=SEED)\n",
    "\n",
    "train_dataset = CustomeDataset(train)\n",
    "train_dataloader = DataLoader(train_dataset, batch_size=500, shuffle=True, num_workers=7)\n",
    "\n",
    "val_dataset = CustomeDataset(val)\n",
    "val_dataloader = DataLoader(val_dataset, batch_size=500, shuffle=False, num_workers=7)\n",
    "\n",
    "# trainer = lightning.Trainer(fast_dev_run=100)\n",
    "monitor = \"Validation/Accuracy\"\n",
    "early_stop_callback = EarlyStopping(monitor=monitor, patience=5, verbose=True, mode=\"max\")\n",
    "checkpoint_callback = ModelCheckpoint(save_top_k=1, monitor=monitor, mode=\"max\")\n",
    "\n",
    "tensorboard = pl_loggers.TensorBoardLogger(save_dir=LOG_PATH, name=LOG_NAME_EXPERIMENT_3)\n",
    "trainer = lightning.Trainer(max_epochs=150, callbacks=[early_stop_callback, checkpoint_callback], enable_checkpointing=True, logger=tensorboard) #logger=None, \n",
    "\n",
    "\n",
    "model = MalwaresModelMLP(input_size = vectors.shape[1]-1, output_size = len(label_encoder.classes_), seed=SEED)\n",
    "\n",
    "torch.manual_seed(SEED)\n",
    "torch.cuda.manual_seed_all(SEED)\n"
   ]
  },
  {
   "cell_type": "code",
   "execution_count": 48,
   "metadata": {},
   "outputs": [
    {
     "name": "stderr",
     "output_type": "stream",
     "text": [
      "LOCAL_RANK: 0 - CUDA_VISIBLE_DEVICES: [0]\n",
      "\n",
      "  | Name          | Type                      | Params\n",
      "------------------------------------------------------------\n",
      "0 | train_metrics | MetricCollection          | 0     \n",
      "1 | val_metrics   | MetricCollection          | 0     \n",
      "2 | test_metrics  | MetricCollection          | 0     \n",
      "3 | cm            | MulticlassConfusionMatrix | 0     \n",
      "4 | criterion     | CrossEntropyLoss          | 0     \n",
      "5 | l1            | Linear                    | 960   \n",
      "6 | l2            | Linear                    | 930   \n",
      "7 | l3            | Linear                    | 279   \n",
      "------------------------------------------------------------\n",
      "2.2 K     Trainable params\n",
      "0         Non-trainable params\n",
      "2.2 K     Total params\n",
      "0.009     Total estimated model params size (MB)\n"
     ]
    },
    {
     "data": {
      "application/vnd.jupyter.widget-view+json": {
       "model_id": "7575e92a7a0941fc8feb0d9a151ceccc",
       "version_major": 2,
       "version_minor": 0
      },
      "text/plain": [
       "Sanity Checking: |          | 0/? [00:00<?, ?it/s]"
      ]
     },
     "metadata": {},
     "output_type": "display_data"
    },
    {
     "name": "stdout",
     "output_type": "stream",
     "text": [
      "Epoch end: Validation, epoch number: 0\n",
      "ValidationEpoch/CM\n",
      " tensor([[  0,   0, 107,   0,   0,   0,   0,   0,   0],\n",
      "        [  0,   0,  83,   0,   0,   0,  10,   0,   0],\n",
      "        [  0,   0, 134,   0,   0,   0,   0,   0,   0],\n",
      "        [  0,   0,  92,   0,   0,   0,   0,   0,   0],\n",
      "        [  0,   0, 125,   0,   0,   0,   0,   0,   0],\n",
      "        [  0,   0, 106,   0,   0,   0,   0,   0,   0],\n",
      "        [  0,   0,  99,   0,   0,   0,   5,   0,   0],\n",
      "        [  0,   0,  75,   0,   0,   0,  58,   0,   0],\n",
      "        [  0,   0, 106,   0,   0,   0,   0,   0,   0]])\n"
     ]
    },
    {
     "data": {
      "application/vnd.jupyter.widget-view+json": {
       "model_id": "30ec4010e96e4c5184ef6eb4dd73ffdc",
       "version_major": 2,
       "version_minor": 0
      },
      "text/plain": [
       "Training: |          | 0/? [00:00<?, ?it/s]"
      ]
     },
     "metadata": {},
     "output_type": "display_data"
    },
    {
     "data": {
      "application/vnd.jupyter.widget-view+json": {
       "model_id": "6c3ed897b55e40abaaaf00ff0f934360",
       "version_major": 2,
       "version_minor": 0
      },
      "text/plain": [
       "Validation: |          | 0/? [00:00<?, ?it/s]"
      ]
     },
     "metadata": {},
     "output_type": "display_data"
    },
    {
     "name": "stdout",
     "output_type": "stream",
     "text": [
      "Epoch end: Validation, epoch number: 1\n",
      "ValidationEpoch/CM\n",
      " tensor([[1104,    0, 1263, 1487,  785,    0,    2,    2,  149],\n",
      "        [   0, 4470,  277,    0,   16,  143,   17,    0,    0],\n",
      "        [ 174,    6, 4514,  645,  624,   24,  178,    7,  139],\n",
      "        [   5,    0, 1929, 2893,    0,    4,   11,    1,    4],\n",
      "        [ 303,    0, 1188, 1148, 2254,    0,    5,    0,    1],\n",
      "        [   0,  116,  458,    1,  219, 3267,  529,  304,    2],\n",
      "        [   0,   68, 1610,  856,    0,   15,  853, 1427,    0],\n",
      "        [   0,  182,  194,    0,    0,    0,  599, 3918,    0],\n",
      "        [  54,    0, 1278, 1558,  334,   71,    0,    0, 1601]])\n",
      "Epoch end: Train, epoch number: 0\n",
      "TrainEpoch/CM\n",
      " tensor([[1104,    0, 1263, 1487,  785,    0,    2,    2,  149],\n",
      "        [   0, 4470,  277,    0,   16,  143,   17,    0,    0],\n",
      "        [ 174,    6, 4514,  645,  624,   24,  178,    7,  139],\n",
      "        [   5,    0, 1929, 2893,    0,    4,   11,    1,    4],\n",
      "        [ 303,    0, 1188, 1148, 2254,    0,    5,    0,    1],\n",
      "        [   0,  116,  458,    1,  219, 3267,  529,  304,    2],\n",
      "        [   0,   68, 1610,  856,    0,   15,  853, 1427,    0],\n",
      "        [   0,  182,  194,    0,    0,    0,  599, 3918,    0],\n",
      "        [  54,    0, 1278, 1558,  334,   71,    0,    0, 1601]])\n"
     ]
    },
    {
     "name": "stderr",
     "output_type": "stream",
     "text": [
      "Metric Validation/Accuracy improved. New best score: 0.737\n"
     ]
    },
    {
     "data": {
      "application/vnd.jupyter.widget-view+json": {
       "model_id": "44c866b139774bbca3c8d2ca80b32807",
       "version_major": 2,
       "version_minor": 0
      },
      "text/plain": [
       "Validation: |          | 0/? [00:00<?, ?it/s]"
      ]
     },
     "metadata": {},
     "output_type": "display_data"
    },
    {
     "name": "stdout",
     "output_type": "stream",
     "text": [
      "Epoch end: Validation, epoch number: 2\n",
      "ValidationEpoch/CM\n",
      " tensor([[ 3380,     0,  1297,  3629,   887,     0,    17,     2,   265],\n",
      "        [    0,  9299,   277,     0,    16,   144,    17,     0,     0],\n",
      "        [  233,    13, 10372,   691,   624,    52,   341,     7,   155],\n",
      "        [    9,     0,  1997,  7410,    52,     4,    93,     1,    36],\n",
      "        [  348,     0,  1198,  2370,  5726,     0,    28,     0,     3],\n",
      "        [    0,   118,   470,     1,   219,  8043,   529,   304,     2],\n",
      "        [    0,    68,  2905,  1657,     7,    15,  2574,  2323,     5],\n",
      "        [    0,   182,   194,     0,     0,     0,  1277,  8000,     0],\n",
      "        [  167,     0,  1291,  3411,   347,    71,    19,     0,  4380]])\n",
      "Epoch end: Train, epoch number: 1\n",
      "TrainEpoch/CM\n",
      " tensor([[ 3380,     0,  1297,  3629,   887,     0,    17,     2,   265],\n",
      "        [    0,  9299,   277,     0,    16,   144,    17,     0,     0],\n",
      "        [  233,    13, 10372,   691,   624,    52,   341,     7,   155],\n",
      "        [    9,     0,  1997,  7410,    52,     4,    93,     1,    36],\n",
      "        [  348,     0,  1198,  2370,  5726,     0,    28,     0,     3],\n",
      "        [    0,   118,   470,     1,   219,  8043,   529,   304,     2],\n",
      "        [    0,    68,  2905,  1657,     7,    15,  2574,  2323,     5],\n",
      "        [    0,   182,   194,     0,     0,     0,  1277,  8000,     0],\n",
      "        [  167,     0,  1291,  3411,   347,    71,    19,     0,  4380]])\n"
     ]
    },
    {
     "name": "stderr",
     "output_type": "stream",
     "text": [
      "Metric Validation/Accuracy improved by 0.070 >= min_delta = 0.0. New best score: 0.808\n"
     ]
    },
    {
     "data": {
      "application/vnd.jupyter.widget-view+json": {
       "model_id": "62ee9c2f8d884d26bf74e419c6571095",
       "version_major": 2,
       "version_minor": 0
      },
      "text/plain": [
       "Validation: |          | 0/? [00:00<?, ?it/s]"
      ]
     },
     "metadata": {},
     "output_type": "display_data"
    },
    {
     "name": "stdout",
     "output_type": "stream",
     "text": [
      "Epoch end: Validation, epoch number: 3\n",
      "ValidationEpoch/CM\n",
      " tensor([[ 5850,     0,  1321,  5464,  1128,     0,    38,     2,   359],\n",
      "        [    0, 14126,   277,     0,    16,   147,    17,     0,     0],\n",
      "        [  260,    13, 16243,   705,   627,    67,   584,     7,   159],\n",
      "        [   65,     0,  2006, 11905,   108,     4,   167,     1,   101],\n",
      "        [  421,     0,  1198,  2943,  9817,     0,    61,     0,     7],\n",
      "        [    0,   123,   478,     1,   219, 12820,   529,   304,     2],\n",
      "        [   31,    68,  4047,  2263,    14,    15,  4676,  3141,    24],\n",
      "        [    0,   182,   194,     0,     0,     0,  1904, 12133,     0],\n",
      "        [  252,     0,  1296,  3791,   347,    71,    44,     0,  8675]])\n"
     ]
    },
    {
     "name": "stderr",
     "output_type": "stream",
     "text": [
      "Metric Validation/Accuracy improved by 0.046 >= min_delta = 0.0. New best score: 0.854\n"
     ]
    },
    {
     "name": "stdout",
     "output_type": "stream",
     "text": [
      "Epoch end: Train, epoch number: 2\n",
      "TrainEpoch/CM\n",
      " tensor([[ 5850,     0,  1321,  5464,  1128,     0,    38,     2,   359],\n",
      "        [    0, 14126,   277,     0,    16,   147,    17,     0,     0],\n",
      "        [  260,    13, 16243,   705,   627,    67,   584,     7,   159],\n",
      "        [   65,     0,  2006, 11905,   108,     4,   167,     1,   101],\n",
      "        [  421,     0,  1198,  2943,  9817,     0,    61,     0,     7],\n",
      "        [    0,   123,   478,     1,   219, 12820,   529,   304,     2],\n",
      "        [   31,    68,  4047,  2263,    14,    15,  4676,  3141,    24],\n",
      "        [    0,   182,   194,     0,     0,     0,  1904, 12133,     0],\n",
      "        [  252,     0,  1296,  3791,   347,    71,    44,     0,  8675]])\n"
     ]
    },
    {
     "data": {
      "application/vnd.jupyter.widget-view+json": {
       "model_id": "2c7396686c394f6b9ab0cb08fed2ffc4",
       "version_major": 2,
       "version_minor": 0
      },
      "text/plain": [
       "Validation: |          | 0/? [00:00<?, ?it/s]"
      ]
     },
     "metadata": {},
     "output_type": "display_data"
    },
    {
     "name": "stdout",
     "output_type": "stream",
     "text": [
      "Epoch end: Validation, epoch number: 4\n",
      "ValidationEpoch/CM\n",
      " tensor([[ 9024,     0,  1341,  6664,  1255,     0,   117,     2,   444],\n",
      "        [    0, 18956,   277,     0,    16,   147,    17,     0,     0],\n",
      "        [  294,    13, 22078,   708,   628,    71,   883,     7,   160],\n",
      "        [  295,     0,  2012, 16251,   125,     4,   271,     1,   153],\n",
      "        [  505,     0,  1199,  3090, 14298,     0,   113,     0,    16],\n",
      "        [    0,   126,   482,     1,   219, 17596,   536,   304,     2],\n",
      "        [  152,    68,  5120,  2611,    15,    18,  7004,  3974,    42],\n",
      "        [    0,   182,   194,     0,     0,     0,  2422, 16375,     0],\n",
      "        [  327,     0,  1300,  3921,   348,    71,    62,     0, 13237]])\n",
      "Epoch end: Train, epoch number: 3\n",
      "TrainEpoch/CM\n",
      " tensor([[ 9024,     0,  1341,  6664,  1255,     0,   117,     2,   444],\n",
      "        [    0, 18956,   277,     0,    16,   147,    17,     0,     0],\n",
      "        [  294,    13, 22078,   708,   628,    71,   883,     7,   160],\n",
      "        [  295,     0,  2012, 16251,   125,     4,   271,     1,   153],\n",
      "        [  505,     0,  1199,  3090, 14298,     0,   113,     0,    16],\n",
      "        [    0,   126,   482,     1,   219, 17596,   536,   304,     2],\n",
      "        [  152,    68,  5120,  2611,    15,    18,  7004,  3974,    42],\n",
      "        [    0,   182,   194,     0,     0,     0,  2422, 16375,     0],\n",
      "        [  327,     0,  1300,  3921,   348,    71,    62,     0, 13237]])\n"
     ]
    },
    {
     "name": "stderr",
     "output_type": "stream",
     "text": [
      "Metric Validation/Accuracy improved by 0.023 >= min_delta = 0.0. New best score: 0.877\n"
     ]
    },
    {
     "data": {
      "application/vnd.jupyter.widget-view+json": {
       "model_id": "fc563695c6b84cd2ac801c8ebff535d6",
       "version_major": 2,
       "version_minor": 0
      },
      "text/plain": [
       "Validation: |          | 0/? [00:00<?, ?it/s]"
      ]
     },
     "metadata": {},
     "output_type": "display_data"
    },
    {
     "name": "stdout",
     "output_type": "stream",
     "text": [
      "Epoch end: Validation, epoch number: 5\n",
      "ValidationEpoch/CM\n",
      " tensor([[12959,     0,  1356,  7183,  1296,     0,   210,     2,   526],\n",
      "        [    0, 23786,   277,     0,    16,   147,    17,     0,     0],\n",
      "        [  331,    13, 27936,   712,   630,    76,  1154,     7,   160],\n",
      "        [  526,     0,  2017, 20624,   126,     4,   381,     1,   188],\n",
      "        [  577,     0,  1199,  3126, 18920,     0,   148,     0,    25],\n",
      "        [    0,   128,   482,     1,   219, 22384,   536,   304,     2],\n",
      "        [  283,    68,  6168,  2910,    15,    21,  9428,  4781,    55],\n",
      "        [    0,   182,   194,     0,     0,     0,  2872, 20685,     0],\n",
      "        [  403,     0,  1302,  4007,   349,    71,    70,     0, 17854]])\n",
      "Epoch end: Train, epoch number: 4\n",
      "TrainEpoch/CM\n",
      " tensor([[12959,     0,  1356,  7183,  1296,     0,   210,     2,   526],\n",
      "        [    0, 23786,   277,     0,    16,   147,    17,     0,     0],\n",
      "        [  331,    13, 27936,   712,   630,    76,  1154,     7,   160],\n",
      "        [  526,     0,  2017, 20624,   126,     4,   381,     1,   188],\n",
      "        [  577,     0,  1199,  3126, 18920,     0,   148,     0,    25],\n",
      "        [    0,   128,   482,     1,   219, 22384,   536,   304,     2],\n",
      "        [  283,    68,  6168,  2910,    15,    21,  9428,  4781,    55],\n",
      "        [    0,   182,   194,     0,     0,     0,  2872, 20685,     0],\n",
      "        [  403,     0,  1302,  4007,   349,    71,    70,     0, 17854]])\n"
     ]
    },
    {
     "name": "stderr",
     "output_type": "stream",
     "text": [
      "Metric Validation/Accuracy improved by 0.023 >= min_delta = 0.0. New best score: 0.900\n"
     ]
    },
    {
     "data": {
      "application/vnd.jupyter.widget-view+json": {
       "model_id": "201114ef462c45ba80118b11367edbff",
       "version_major": 2,
       "version_minor": 0
      },
      "text/plain": [
       "Validation: |          | 0/? [00:00<?, ?it/s]"
      ]
     },
     "metadata": {},
     "output_type": "display_data"
    },
    {
     "name": "stdout",
     "output_type": "stream",
     "text": [
      "Epoch end: Validation, epoch number: 6\n",
      "ValidationEpoch/CM\n",
      " tensor([[17218,     0,  1368,  7433,  1310,     0,   286,     2,   600],\n",
      "        [    0, 28616,   277,     0,    16,   147,    17,     0,     0],\n",
      "        [  364,    13, 33820,   713,   634,    79,  1406,     7,   160],\n",
      "        [  710,     0,  2021, 25072,   126,     4,   467,     1,   221],\n",
      "        [  617,     0,  1202,  3154, 23597,     0,   171,     0,    28],\n",
      "        [    0,   128,   483,     1,   219, 27173,   536,   304,     2],\n",
      "        [  431,    68,  7204,  3217,    15,    22, 11988,  5450,    59],\n",
      "        [    0,   182,   194,     0,     0,     0,  3322, 24995,     0],\n",
      "        [  476,     0,  1304,  4085,   349,    71,    75,     0, 22486]])\n",
      "Epoch end: Train, epoch number: 5\n",
      "TrainEpoch/CM\n",
      " tensor([[17218,     0,  1368,  7433,  1310,     0,   286,     2,   600],\n",
      "        [    0, 28616,   277,     0,    16,   147,    17,     0,     0],\n",
      "        [  364,    13, 33820,   713,   634,    79,  1406,     7,   160],\n",
      "        [  710,     0,  2021, 25072,   126,     4,   467,     1,   221],\n",
      "        [  617,     0,  1202,  3154, 23597,     0,   171,     0,    28],\n",
      "        [    0,   128,   483,     1,   219, 27173,   536,   304,     2],\n",
      "        [  431,    68,  7204,  3217,    15,    22, 11988,  5450,    59],\n",
      "        [    0,   182,   194,     0,     0,     0,  3322, 24995,     0],\n",
      "        [  476,     0,  1304,  4085,   349,    71,    75,     0, 22486]])\n"
     ]
    },
    {
     "name": "stderr",
     "output_type": "stream",
     "text": [
      "Metric Validation/Accuracy improved by 0.016 >= min_delta = 0.0. New best score: 0.917\n"
     ]
    },
    {
     "data": {
      "application/vnd.jupyter.widget-view+json": {
       "model_id": "54bb21c94e414ab1b6f3177659e24518",
       "version_major": 2,
       "version_minor": 0
      },
      "text/plain": [
       "Validation: |          | 0/? [00:00<?, ?it/s]"
      ]
     },
     "metadata": {},
     "output_type": "display_data"
    },
    {
     "name": "stdout",
     "output_type": "stream",
     "text": [
      "Epoch end: Validation, epoch number: 7\n",
      "ValidationEpoch/CM\n",
      " tensor([[21551,     0,  1388,  7611,  1326,     0,   355,     2,   669],\n",
      "        [    0, 33446,   277,     0,    16,   147,    17,     0,     0],\n",
      "        [  385,    13, 39708,   714,   640,    81,  1664,     8,   160],\n",
      "        [  810,     0,  2024, 29612,   126,     4,   549,     1,   251],\n",
      "        [  647,     0,  1203,  3170, 28303,     0,   192,     0,    28],\n",
      "        [    0,   129,   483,     1,   219, 31962,   536,   304,     2],\n",
      "        [  520,    68,  8204,  3566,    15,    22, 14824,  5899,    61],\n",
      "        [    0,   182,   194,     0,     0,     0,  3732, 29345,     0],\n",
      "        [  544,     0,  1307,  4200,   349,    71,    80,     0, 27085]])\n",
      "Epoch end: Train, epoch number: 6\n",
      "TrainEpoch/CM\n",
      " tensor([[21551,     0,  1388,  7611,  1326,     0,   355,     2,   669],\n",
      "        [    0, 33446,   277,     0,    16,   147,    17,     0,     0],\n",
      "        [  385,    13, 39708,   714,   640,    81,  1664,     8,   160],\n",
      "        [  810,     0,  2024, 29612,   126,     4,   549,     1,   251],\n",
      "        [  647,     0,  1203,  3170, 28303,     0,   192,     0,    28],\n",
      "        [    0,   129,   483,     1,   219, 31962,   536,   304,     2],\n",
      "        [  520,    68,  8204,  3566,    15,    22, 14824,  5899,    61],\n",
      "        [    0,   182,   194,     0,     0,     0,  3732, 29345,     0],\n",
      "        [  544,     0,  1307,  4200,   349,    71,    80,     0, 27085]])\n"
     ]
    },
    {
     "name": "stderr",
     "output_type": "stream",
     "text": [
      "Metric Validation/Accuracy improved by 0.007 >= min_delta = 0.0. New best score: 0.923\n"
     ]
    },
    {
     "data": {
      "application/vnd.jupyter.widget-view+json": {
       "model_id": "6a1434412a1d46ca8833d16142290a0f",
       "version_major": 2,
       "version_minor": 0
      },
      "text/plain": [
       "Validation: |          | 0/? [00:00<?, ?it/s]"
      ]
     },
     "metadata": {},
     "output_type": "display_data"
    },
    {
     "name": "stdout",
     "output_type": "stream",
     "text": [
      "Epoch end: Validation, epoch number: 8\n",
      "ValidationEpoch/CM\n",
      " tensor([[26031,     0,  1404,  7694,  1332,     0,   412,     2,   712],\n",
      "        [    0, 38276,   277,     0,    16,   147,    17,     0,     0],\n",
      "        [  409,    13, 45621,   714,   640,    81,  1903,     9,   160],\n",
      "        [  892,     0,  2024, 34153,   126,     4,   641,     1,   291],\n",
      "        [  661,     0,  1206,  3180, 33045,     0,   197,     0,    28],\n",
      "        [    0,   129,   483,     1,   219, 36752,   536,   304,     2],\n",
      "        [  603,    68,  9133,  3891,    15,    22, 17757,  6353,    62],\n",
      "        [    0,   182,   194,     0,     0,     0,  4052, 33785,     0],\n",
      "        [  604,     0,  1310,  4290,   349,    71,    85,     0, 31717]])\n"
     ]
    },
    {
     "name": "stderr",
     "output_type": "stream",
     "text": [
      "Metric Validation/Accuracy improved by 0.010 >= min_delta = 0.0. New best score: 0.933\n"
     ]
    },
    {
     "name": "stdout",
     "output_type": "stream",
     "text": [
      "Epoch end: Train, epoch number: 7\n",
      "TrainEpoch/CM\n",
      " tensor([[26031,     0,  1404,  7694,  1332,     0,   412,     2,   712],\n",
      "        [    0, 38276,   277,     0,    16,   147,    17,     0,     0],\n",
      "        [  409,    13, 45621,   714,   640,    81,  1903,     9,   160],\n",
      "        [  892,     0,  2024, 34153,   126,     4,   641,     1,   291],\n",
      "        [  661,     0,  1206,  3180, 33045,     0,   197,     0,    28],\n",
      "        [    0,   129,   483,     1,   219, 36752,   536,   304,     2],\n",
      "        [  603,    68,  9133,  3891,    15,    22, 17757,  6353,    62],\n",
      "        [    0,   182,   194,     0,     0,     0,  4052, 33785,     0],\n",
      "        [  604,     0,  1310,  4290,   349,    71,    85,     0, 31717]])\n"
     ]
    },
    {
     "data": {
      "application/vnd.jupyter.widget-view+json": {
       "model_id": "89df23be481d4645a95ae0e9b917b945",
       "version_major": 2,
       "version_minor": 0
      },
      "text/plain": [
       "Validation: |          | 0/? [00:00<?, ?it/s]"
      ]
     },
     "metadata": {},
     "output_type": "display_data"
    },
    {
     "name": "stdout",
     "output_type": "stream",
     "text": [
      "Epoch end: Validation, epoch number: 9\n",
      "ValidationEpoch/CM\n",
      " tensor([[30546,     0,  1422,  7745,  1340,     0,   455,     2,   762],\n",
      "        [    0, 43106,   277,     0,    16,   147,    17,     0,     0],\n",
      "        [  436,    13, 51490,   714,   641,    81,  2180,    12,   160],\n",
      "        [  920,     0,  2024, 38748,   126,     4,   741,     1,   323],\n",
      "        [  671,     0,  1207,  3185, 37800,     0,   200,     0,    28],\n",
      "        [    0,   129,   483,     1,   219, 41542,   536,   304,     2],\n",
      "        [  653,    68,  9917,  4226,    15,    22, 20953,  6711,    64],\n",
      "        [    0,   182,   194,     0,     0,     0,  4335, 38262,     0],\n",
      "        [  691,     0,  1310,  4371,   349,    71,    90,     0, 36334]])\n"
     ]
    },
    {
     "name": "stderr",
     "output_type": "stream",
     "text": [
      "Metric Validation/Accuracy improved by 0.009 >= min_delta = 0.0. New best score: 0.942\n"
     ]
    },
    {
     "name": "stdout",
     "output_type": "stream",
     "text": [
      "Epoch end: Train, epoch number: 8\n",
      "TrainEpoch/CM\n",
      " tensor([[30546,     0,  1422,  7745,  1340,     0,   455,     2,   762],\n",
      "        [    0, 43106,   277,     0,    16,   147,    17,     0,     0],\n",
      "        [  436,    13, 51490,   714,   641,    81,  2180,    12,   160],\n",
      "        [  920,     0,  2024, 38748,   126,     4,   741,     1,   323],\n",
      "        [  671,     0,  1207,  3185, 37800,     0,   200,     0,    28],\n",
      "        [    0,   129,   483,     1,   219, 41542,   536,   304,     2],\n",
      "        [  653,    68,  9917,  4226,    15,    22, 20953,  6711,    64],\n",
      "        [    0,   182,   194,     0,     0,     0,  4335, 38262,     0],\n",
      "        [  691,     0,  1310,  4371,   349,    71,    90,     0, 36334]])\n"
     ]
    },
    {
     "data": {
      "application/vnd.jupyter.widget-view+json": {
       "model_id": "f48365d087cb4927aeb6554cb66a75aa",
       "version_major": 2,
       "version_minor": 0
      },
      "text/plain": [
       "Validation: |          | 0/? [00:00<?, ?it/s]"
      ]
     },
     "metadata": {},
     "output_type": "display_data"
    },
    {
     "name": "stdout",
     "output_type": "stream",
     "text": [
      "Epoch end: Validation, epoch number: 10\n",
      "ValidationEpoch/CM\n",
      " tensor([[35083,     0,  1436,  7778,  1346,     0,   499,     2,   813],\n",
      "        [    0, 47936,   277,     0,    16,   147,    17,     0,     0],\n",
      "        [  455,    13, 57365,   714,   641,    82,  2461,    13,   160],\n",
      "        [  946,     0,  2024, 43352,   126,     4,   842,     1,   347],\n",
      "        [  681,     0,  1211,  3193, 42549,     0,   203,     0,    28],\n",
      "        [    0,   129,   483,     1,   219, 46332,   536,   304,     2],\n",
      "        [  707,    68, 10615,  4558,    15,    22, 24301,  7002,    66],\n",
      "        [    0,   182,   194,     0,     0,     0,  4637, 42720,     0],\n",
      "        [  739,     0,  1310,  4447,   349,    71,    95,     0, 40995]])\n",
      "Epoch end: Train, epoch number: 9\n",
      "TrainEpoch/CM\n",
      " tensor([[35083,     0,  1436,  7778,  1346,     0,   499,     2,   813],\n",
      "        [    0, 47936,   277,     0,    16,   147,    17,     0,     0],\n",
      "        [  455,    13, 57365,   714,   641,    82,  2461,    13,   160],\n",
      "        [  946,     0,  2024, 43352,   126,     4,   842,     1,   347],\n",
      "        [  681,     0,  1211,  3193, 42549,     0,   203,     0,    28],\n",
      "        [    0,   129,   483,     1,   219, 46332,   536,   304,     2],\n",
      "        [  707,    68, 10615,  4558,    15,    22, 24301,  7002,    66],\n",
      "        [    0,   182,   194,     0,     0,     0,  4637, 42720,     0],\n",
      "        [  739,     0,  1310,  4447,   349,    71,    95,     0, 40995]])\n"
     ]
    },
    {
     "name": "stderr",
     "output_type": "stream",
     "text": [
      "Metric Validation/Accuracy improved by 0.005 >= min_delta = 0.0. New best score: 0.947\n"
     ]
    },
    {
     "data": {
      "application/vnd.jupyter.widget-view+json": {
       "model_id": "8ded0076ff734374aca154213fcde710",
       "version_major": 2,
       "version_minor": 0
      },
      "text/plain": [
       "Validation: |          | 0/? [00:00<?, ?it/s]"
      ]
     },
     "metadata": {},
     "output_type": "display_data"
    },
    {
     "name": "stdout",
     "output_type": "stream",
     "text": [
      "Epoch end: Validation, epoch number: 11\n",
      "ValidationEpoch/CM\n",
      " tensor([[39659,     0,  1450,  7796,  1352,     1,   527,     2,   855],\n",
      "        [    0, 52766,   277,     0,    16,   147,    17,     0,     0],\n",
      "        [  484,    13, 63190,   714,   644,    82,  2781,    13,   160],\n",
      "        [  960,     0,  2024, 47956,   126,     4,   956,     1,   370],\n",
      "        [  688,     0,  1214,  3197, 47307,     0,   205,     0,    28],\n",
      "        [    0,   129,   483,     1,   219, 51122,   536,   304,     2],\n",
      "        [  751,    68, 11143,  4880,    15,    22, 27814,  7320,    66],\n",
      "        [    0,   182,   194,     0,     0,     0,  4856, 47261,     0],\n",
      "        [  780,     0,  1310,  4508,   349,    71,   100,     0, 45678]])\n"
     ]
    },
    {
     "name": "stderr",
     "output_type": "stream",
     "text": [
      "Metric Validation/Accuracy improved by 0.006 >= min_delta = 0.0. New best score: 0.953\n"
     ]
    },
    {
     "name": "stdout",
     "output_type": "stream",
     "text": [
      "Epoch end: Train, epoch number: 10\n",
      "TrainEpoch/CM\n",
      " tensor([[39659,     0,  1450,  7796,  1352,     1,   527,     2,   855],\n",
      "        [    0, 52766,   277,     0,    16,   147,    17,     0,     0],\n",
      "        [  484,    13, 63190,   714,   644,    82,  2781,    13,   160],\n",
      "        [  960,     0,  2024, 47956,   126,     4,   956,     1,   370],\n",
      "        [  688,     0,  1214,  3197, 47307,     0,   205,     0,    28],\n",
      "        [    0,   129,   483,     1,   219, 51122,   536,   304,     2],\n",
      "        [  751,    68, 11143,  4880,    15,    22, 27814,  7320,    66],\n",
      "        [    0,   182,   194,     0,     0,     0,  4856, 47261,     0],\n",
      "        [  780,     0,  1310,  4508,   349,    71,   100,     0, 45678]])\n"
     ]
    },
    {
     "data": {
      "application/vnd.jupyter.widget-view+json": {
       "model_id": "f111c77a2d2b464288b944320f4dceee",
       "version_major": 2,
       "version_minor": 0
      },
      "text/plain": [
       "Validation: |          | 0/? [00:00<?, ?it/s]"
      ]
     },
     "metadata": {},
     "output_type": "display_data"
    },
    {
     "name": "stdout",
     "output_type": "stream",
     "text": [
      "Epoch end: Validation, epoch number: 12\n",
      "ValidationEpoch/CM\n",
      " tensor([[44258,     0,  1458,  7808,  1354,     1,   554,     2,   892],\n",
      "        [    0, 57596,   277,     0,    16,   147,    17,     0,     0],\n",
      "        [  506,    13, 69002,   714,   647,    82,  3121,    13,   160],\n",
      "        [  971,     0,  2024, 52562,   126,     4,  1072,     1,   392],\n",
      "        [  695,     0,  1217,  3199, 52067,     0,   207,     0,    28],\n",
      "        [    0,   129,   483,     1,   219, 55912,   536,   304,     2],\n",
      "        [  780,    68, 11603,  5205,    15,    22, 31440,  7605,    66],\n",
      "        [    0,   182,   194,     0,     0,     0,  5021, 51856,     0],\n",
      "        [  821,     0,  1310,  4565,   349,    71,   105,     0, 50365]])\n",
      "Epoch end: Train, epoch number: 11\n",
      "TrainEpoch/CM\n",
      " tensor([[44258,     0,  1458,  7808,  1354,     1,   554,     2,   892],\n",
      "        [    0, 57596,   277,     0,    16,   147,    17,     0,     0],\n",
      "        [  506,    13, 69002,   714,   647,    82,  3121,    13,   160],\n",
      "        [  971,     0,  2024, 52562,   126,     4,  1072,     1,   392],\n",
      "        [  695,     0,  1217,  3199, 52067,     0,   207,     0,    28],\n",
      "        [    0,   129,   483,     1,   219, 55912,   536,   304,     2],\n",
      "        [  780,    68, 11603,  5205,    15,    22, 31440,  7605,    66],\n",
      "        [    0,   182,   194,     0,     0,     0,  5021, 51856,     0],\n",
      "        [  821,     0,  1310,  4565,   349,    71,   105,     0, 50365]])\n"
     ]
    },
    {
     "name": "stderr",
     "output_type": "stream",
     "text": [
      "Metric Validation/Accuracy improved by 0.005 >= min_delta = 0.0. New best score: 0.958\n"
     ]
    },
    {
     "data": {
      "application/vnd.jupyter.widget-view+json": {
       "model_id": "6d7662199e074a6a9177a7d002c5ae96",
       "version_major": 2,
       "version_minor": 0
      },
      "text/plain": [
       "Validation: |          | 0/? [00:00<?, ?it/s]"
      ]
     },
     "metadata": {},
     "output_type": "display_data"
    },
    {
     "name": "stdout",
     "output_type": "stream",
     "text": [
      "Epoch end: Validation, epoch number: 13\n",
      "ValidationEpoch/CM\n",
      " tensor([[48861,     0,  1467,  7814,  1359,     1,   575,     2,   933],\n",
      "        [    0, 62426,   277,     0,    16,   147,    17,     0,     0],\n",
      "        [  523,    13, 74836,   714,   647,    85,  3444,    13,   160],\n",
      "        [  978,     0,  2024, 57174,   126,     4,  1189,     1,   411],\n",
      "        [  704,     0,  1222,  3202, 56821,     0,   210,     0,    28],\n",
      "        [    0,   129,   483,     1,   219, 60702,   536,   304,     2],\n",
      "        [  799,    68, 12017,  5520,    15,    22, 35180,  7842,    66],\n",
      "        [    0,   182,   194,     0,     0,     0,  5197, 56440,     0],\n",
      "        [  859,     0,  1310,  4604,   349,    71,   109,     0, 55074]])\n",
      "Epoch end: Train, epoch number: 12\n",
      "TrainEpoch/CM\n",
      " tensor([[48861,     0,  1467,  7814,  1359,     1,   575,     2,   933],\n",
      "        [    0, 62426,   277,     0,    16,   147,    17,     0,     0],\n",
      "        [  523,    13, 74836,   714,   647,    85,  3444,    13,   160],\n",
      "        [  978,     0,  2024, 57174,   126,     4,  1189,     1,   411],\n",
      "        [  704,     0,  1222,  3202, 56821,     0,   210,     0,    28],\n",
      "        [    0,   129,   483,     1,   219, 60702,   536,   304,     2],\n",
      "        [  799,    68, 12017,  5520,    15,    22, 35180,  7842,    66],\n",
      "        [    0,   182,   194,     0,     0,     0,  5197, 56440,     0],\n",
      "        [  859,     0,  1310,  4604,   349,    71,   109,     0, 55074]])\n"
     ]
    },
    {
     "name": "stderr",
     "output_type": "stream",
     "text": [
      "Metric Validation/Accuracy improved by 0.005 >= min_delta = 0.0. New best score: 0.963\n"
     ]
    },
    {
     "data": {
      "application/vnd.jupyter.widget-view+json": {
       "model_id": "5990c538a3514cc69449340bf2bf876d",
       "version_major": 2,
       "version_minor": 0
      },
      "text/plain": [
       "Validation: |          | 0/? [00:00<?, ?it/s]"
      ]
     },
     "metadata": {},
     "output_type": "display_data"
    },
    {
     "name": "stdout",
     "output_type": "stream",
     "text": [
      "Epoch end: Validation, epoch number: 14\n",
      "ValidationEpoch/CM\n",
      " tensor([[53461,     0,  1478,  7818,  1361,     1,   595,     2,   981],\n",
      "        [    0, 67256,   277,     0,    16,   147,    17,     0,     0],\n",
      "        [  535,    13, 80716,   714,   648,    85,  3728,    13,   160],\n",
      "        [  982,     0,  2025, 61789,   126,     4,  1313,     1,   422],\n",
      "        [  713,     0,  1225,  3204, 61578,     0,   213,     0,    28],\n",
      "        [    0,   129,   483,     1,   219, 65492,   536,   304,     2],\n",
      "        [  815,    68, 12503,  5834,    15,    22, 38873,  8058,    66],\n",
      "        [    0,   182,   194,     0,     0,     0,  5339, 61058,     0],\n",
      "        [  904,     0,  1310,  4642,   349,    71,   111,     0, 59779]])\n",
      "Epoch end: Train, epoch number: 13\n",
      "TrainEpoch/CM\n",
      " tensor([[53461,     0,  1478,  7818,  1361,     1,   595,     2,   981],\n",
      "        [    0, 67256,   277,     0,    16,   147,    17,     0,     0],\n",
      "        [  535,    13, 80716,   714,   648,    85,  3728,    13,   160],\n",
      "        [  982,     0,  2025, 61789,   126,     4,  1313,     1,   422],\n",
      "        [  713,     0,  1225,  3204, 61578,     0,   213,     0,    28],\n",
      "        [    0,   129,   483,     1,   219, 65492,   536,   304,     2],\n",
      "        [  815,    68, 12503,  5834,    15,    22, 38873,  8058,    66],\n",
      "        [    0,   182,   194,     0,     0,     0,  5339, 61058,     0],\n",
      "        [  904,     0,  1310,  4642,   349,    71,   111,     0, 59779]])\n"
     ]
    },
    {
     "data": {
      "application/vnd.jupyter.widget-view+json": {
       "model_id": "4bcb8aacade844c3ba90ea7525c44de8",
       "version_major": 2,
       "version_minor": 0
      },
      "text/plain": [
       "Validation: |          | 0/? [00:00<?, ?it/s]"
      ]
     },
     "metadata": {},
     "output_type": "display_data"
    },
    {
     "name": "stdout",
     "output_type": "stream",
     "text": [
      "Epoch end: Validation, epoch number: 15\n",
      "ValidationEpoch/CM\n",
      " tensor([[58069,     0,  1495,  7822,  1365,     1,   615,     2,  1013],\n",
      "        [    0, 72086,   277,     0,    16,   147,    17,     0,     0],\n",
      "        [  561,    13, 86584,   714,   649,    86,  4009,    13,   160],\n",
      "        [  984,     0,  2025, 66398,   126,     4,  1446,     1,   433],\n",
      "        [  720,     0,  1229,  3207, 66337,     0,   214,     0,    28],\n",
      "        [    0,   129,   483,     1,   219, 70282,   536,   304,     2],\n",
      "        [  824,    68, 12893,  6132,    15,    22, 42756,  8202,    67],\n",
      "        [    0,   182,   194,     0,     0,     0,  5488, 65669,     0],\n",
      "        [  953,     0,  1310,  4668,   349,    71,   112,     0, 64493]])\n"
     ]
    },
    {
     "name": "stderr",
     "output_type": "stream",
     "text": [
      "Metric Validation/Accuracy improved by 0.001 >= min_delta = 0.0. New best score: 0.964\n"
     ]
    },
    {
     "name": "stdout",
     "output_type": "stream",
     "text": [
      "Epoch end: Train, epoch number: 14\n",
      "TrainEpoch/CM\n",
      " tensor([[58069,     0,  1495,  7822,  1365,     1,   615,     2,  1013],\n",
      "        [    0, 72086,   277,     0,    16,   147,    17,     0,     0],\n",
      "        [  561,    13, 86584,   714,   649,    86,  4009,    13,   160],\n",
      "        [  984,     0,  2025, 66398,   126,     4,  1446,     1,   433],\n",
      "        [  720,     0,  1229,  3207, 66337,     0,   214,     0,    28],\n",
      "        [    0,   129,   483,     1,   219, 70282,   536,   304,     2],\n",
      "        [  824,    68, 12893,  6132,    15,    22, 42756,  8202,    67],\n",
      "        [    0,   182,   194,     0,     0,     0,  5488, 65669,     0],\n",
      "        [  953,     0,  1310,  4668,   349,    71,   112,     0, 64493]])\n"
     ]
    },
    {
     "data": {
      "application/vnd.jupyter.widget-view+json": {
       "model_id": "f0057a3963784a6a96fa88c82f71bb5a",
       "version_major": 2,
       "version_minor": 0
      },
      "text/plain": [
       "Validation: |          | 0/? [00:00<?, ?it/s]"
      ]
     },
     "metadata": {},
     "output_type": "display_data"
    },
    {
     "name": "stdout",
     "output_type": "stream",
     "text": [
      "Epoch end: Validation, epoch number: 16\n",
      "ValidationEpoch/CM\n",
      " tensor([[62693,     0,  1502,  7824,  1365,     1,   630,     2,  1050],\n",
      "        [    0, 76916,   277,     0,    16,   147,    17,     0,     0],\n",
      "        [  578,    13, 92397,   714,   649,    86,  4356,    13,   160],\n",
      "        [  984,     0,  2026, 71010,   126,     4,  1579,     1,   442],\n",
      "        [  731,     0,  1233,  3208, 71095,     0,   214,     0,    28],\n",
      "        [    0,   129,   483,     1,   219, 75072,   536,   304,     2],\n",
      "        [  830,    68, 13219,  6426,    15,    22, 46658,  8399,    67],\n",
      "        [    0,   182,   194,     0,     0,     0,  5620, 70297,     0],\n",
      "        [  994,     0,  1310,  4685,   349,    71,   114,     0, 69223]])\n",
      "Epoch end: Train, epoch number: 15\n"
     ]
    },
    {
     "name": "stderr",
     "output_type": "stream",
     "text": [
      "Metric Validation/Accuracy improved by 0.005 >= min_delta = 0.0. New best score: 0.969\n"
     ]
    },
    {
     "name": "stdout",
     "output_type": "stream",
     "text": [
      "TrainEpoch/CM\n",
      " tensor([[62693,     0,  1502,  7824,  1365,     1,   630,     2,  1050],\n",
      "        [    0, 76916,   277,     0,    16,   147,    17,     0,     0],\n",
      "        [  578,    13, 92397,   714,   649,    86,  4356,    13,   160],\n",
      "        [  984,     0,  2026, 71010,   126,     4,  1579,     1,   442],\n",
      "        [  731,     0,  1233,  3208, 71095,     0,   214,     0,    28],\n",
      "        [    0,   129,   483,     1,   219, 75072,   536,   304,     2],\n",
      "        [  830,    68, 13219,  6426,    15,    22, 46658,  8399,    67],\n",
      "        [    0,   182,   194,     0,     0,     0,  5620, 70297,     0],\n",
      "        [  994,     0,  1310,  4685,   349,    71,   114,     0, 69223]])\n"
     ]
    },
    {
     "data": {
      "application/vnd.jupyter.widget-view+json": {
       "model_id": "9f87f2206ba740b9bfd9812ae865c435",
       "version_major": 2,
       "version_minor": 0
      },
      "text/plain": [
       "Validation: |          | 0/? [00:00<?, ?it/s]"
      ]
     },
     "metadata": {},
     "output_type": "display_data"
    },
    {
     "name": "stdout",
     "output_type": "stream",
     "text": [
      "Epoch end: Validation, epoch number: 17\n",
      "ValidationEpoch/CM\n",
      " tensor([[67324,     0,  1508,  7824,  1366,     1,   642,     2,  1085],\n",
      "        [    0, 81746,   277,     0,    16,   147,    17,     0,     0],\n",
      "        [  588,    13, 98259,   714,   650,    86,  4660,    13,   160],\n",
      "        [  984,     0,  2029, 75643,   126,     4,  1694,     1,   446],\n",
      "        [  741,     0,  1235,  3211, 75853,     0,   215,     0,    28],\n",
      "        [    0,   129,   483,     1,   219, 79862,   536,   304,     2],\n",
      "        [  835,    68, 13546,  6746,    15,    22, 50595,  8535,    67],\n",
      "        [    0,   182,   194,     0,     0,     0,  5724, 74953,     0],\n",
      "        [ 1030,     0,  1310,  4709,   349,    71,   114,     0, 73953]])\n"
     ]
    },
    {
     "name": "stderr",
     "output_type": "stream",
     "text": [
      "Metric Validation/Accuracy improved by 0.001 >= min_delta = 0.0. New best score: 0.970\n"
     ]
    },
    {
     "name": "stdout",
     "output_type": "stream",
     "text": [
      "Epoch end: Train, epoch number: 16\n",
      "TrainEpoch/CM\n",
      " tensor([[67324,     0,  1508,  7824,  1366,     1,   642,     2,  1085],\n",
      "        [    0, 81746,   277,     0,    16,   147,    17,     0,     0],\n",
      "        [  588,    13, 98259,   714,   650,    86,  4660,    13,   160],\n",
      "        [  984,     0,  2029, 75643,   126,     4,  1694,     1,   446],\n",
      "        [  741,     0,  1235,  3211, 75853,     0,   215,     0,    28],\n",
      "        [    0,   129,   483,     1,   219, 79862,   536,   304,     2],\n",
      "        [  835,    68, 13546,  6746,    15,    22, 50595,  8535,    67],\n",
      "        [    0,   182,   194,     0,     0,     0,  5724, 74953,     0],\n",
      "        [ 1030,     0,  1310,  4709,   349,    71,   114,     0, 73953]])\n"
     ]
    },
    {
     "data": {
      "application/vnd.jupyter.widget-view+json": {
       "model_id": "513e993341f241e892793062d8afe569",
       "version_major": 2,
       "version_minor": 0
      },
      "text/plain": [
       "Validation: |          | 0/? [00:00<?, ?it/s]"
      ]
     },
     "metadata": {},
     "output_type": "display_data"
    },
    {
     "name": "stdout",
     "output_type": "stream",
     "text": [
      "Epoch end: Validation, epoch number: 18\n",
      "ValidationEpoch/CM\n",
      " tensor([[ 71961,      0,   1518,   7824,   1366,      1,    651,      2,   1114],\n",
      "        [     0,  86576,    277,      0,     16,    147,     17,      0,      0],\n",
      "        [   607,     13, 104080,    714,    651,     86,   4996,     13,    160],\n",
      "        [   985,      0,   2029,  80247,    126,      4,   1837,      1,    453],\n",
      "        [   746,      0,   1237,   3211,  80620,      0,    215,      0,     28],\n",
      "        [     0,    130,    483,      1,    219,  84651,    536,    304,      2],\n",
      "        [   840,     68,  13830,   7027,     15,     22,  54625,   8660,     67],\n",
      "        [     0,    182,    194,      0,      0,      0,   5810,  79627,      0],\n",
      "        [  1063,      0,   1310,   4724,    349,     71,    114,      0,  78695]])\n",
      "Epoch end: Train, epoch number: 17\n"
     ]
    },
    {
     "name": "stderr",
     "output_type": "stream",
     "text": [
      "Metric Validation/Accuracy improved by 0.002 >= min_delta = 0.0. New best score: 0.971\n"
     ]
    },
    {
     "name": "stdout",
     "output_type": "stream",
     "text": [
      "TrainEpoch/CM\n",
      " tensor([[ 71961,      0,   1518,   7824,   1366,      1,    651,      2,   1114],\n",
      "        [     0,  86576,    277,      0,     16,    147,     17,      0,      0],\n",
      "        [   607,     13, 104080,    714,    651,     86,   4996,     13,    160],\n",
      "        [   985,      0,   2029,  80247,    126,      4,   1837,      1,    453],\n",
      "        [   746,      0,   1237,   3211,  80620,      0,    215,      0,     28],\n",
      "        [     0,    130,    483,      1,    219,  84651,    536,    304,      2],\n",
      "        [   840,     68,  13830,   7027,     15,     22,  54625,   8660,     67],\n",
      "        [     0,    182,    194,      0,      0,      0,   5810,  79627,      0],\n",
      "        [  1063,      0,   1310,   4724,    349,     71,    114,      0,  78695]])\n"
     ]
    },
    {
     "data": {
      "application/vnd.jupyter.widget-view+json": {
       "model_id": "356bef67aa2a4c32b1de2af7b7caa2ea",
       "version_major": 2,
       "version_minor": 0
      },
      "text/plain": [
       "Validation: |          | 0/? [00:00<?, ?it/s]"
      ]
     },
     "metadata": {},
     "output_type": "display_data"
    },
    {
     "name": "stdout",
     "output_type": "stream",
     "text": [
      "Epoch end: Validation, epoch number: 19\n",
      "ValidationEpoch/CM\n",
      " tensor([[ 76597,      0,   1531,   7825,   1367,      1,    662,      2,   1137],\n",
      "        [     0,  91406,    277,      0,     16,    147,     17,      0,      0],\n",
      "        [   622,     13, 109976,    714,    653,     86,   5260,     13,    160],\n",
      "        [   985,      0,   2031,  84887,    126,      4,   1945,      1,    458],\n",
      "        [   750,      0,   1241,   3215,  85381,      0,    216,      0,     28],\n",
      "        [     0,    130,    483,      1,    219,  89441,    536,    304,      2],\n",
      "        [   845,     68,  14134,   7332,     15,     22,  58611,   8785,     67],\n",
      "        [     0,    182,    194,      0,      0,      0,   5890,  84307,      0],\n",
      "        [  1098,      0,   1310,   4745,    349,     71,    114,      0,  83429]])\n",
      "Epoch end: Train, epoch number: 18\n",
      "TrainEpoch/CM\n",
      " tensor([[ 76597,      0,   1531,   7825,   1367,      1,    662,      2,   1137],\n",
      "        [     0,  91406,    277,      0,     16,    147,     17,      0,      0],\n",
      "        [   622,     13, 109976,    714,    653,     86,   5260,     13,    160],\n",
      "        [   985,      0,   2031,  84887,    126,      4,   1945,      1,    458],\n",
      "        [   750,      0,   1241,   3215,  85381,      0,    216,      0,     28],\n",
      "        [     0,    130,    483,      1,    219,  89441,    536,    304,      2],\n",
      "        [   845,     68,  14134,   7332,     15,     22,  58611,   8785,     67],\n",
      "        [     0,    182,    194,      0,      0,      0,   5890,  84307,      0],\n",
      "        [  1098,      0,   1310,   4745,    349,     71,    114,      0,  83429]])\n"
     ]
    },
    {
     "data": {
      "application/vnd.jupyter.widget-view+json": {
       "model_id": "45237abbdb274a78aaecd1d813733d07",
       "version_major": 2,
       "version_minor": 0
      },
      "text/plain": [
       "Validation: |          | 0/? [00:00<?, ?it/s]"
      ]
     },
     "metadata": {},
     "output_type": "display_data"
    },
    {
     "name": "stdout",
     "output_type": "stream",
     "text": [
      "Epoch end: Validation, epoch number: 20\n",
      "ValidationEpoch/CM\n",
      " tensor([[ 81230,      0,   1536,   7826,   1368,      1,    670,      2,   1174],\n",
      "        [     0,  96236,    277,      0,     16,    147,     17,      0,      0],\n",
      "        [   635,     13, 115902,    714,    657,     86,   5492,     13,    162],\n",
      "        [   985,      0,   2032,  89514,    126,      4,   2069,      1,    461],\n",
      "        [   756,      0,   1245,   3218,  90140,      0,    218,      0,     28],\n",
      "        [     0,    130,    483,      1,    219,  94231,    536,    304,      2],\n",
      "        [   848,     68,  14421,   7639,     15,     22,  62627,   8897,     67],\n",
      "        [     0,    182,    194,      0,      0,      0,   5969,  88988,      0],\n",
      "        [  1130,      0,   1310,   4765,    349,     71,    114,      0,  88167]])\n",
      "Epoch end: Train, epoch number: 19\n",
      "TrainEpoch/CM\n",
      " tensor([[ 81230,      0,   1536,   7826,   1368,      1,    670,      2,   1174],\n",
      "        [     0,  96236,    277,      0,     16,    147,     17,      0,      0],\n",
      "        [   635,     13, 115902,    714,    657,     86,   5492,     13,    162],\n",
      "        [   985,      0,   2032,  89514,    126,      4,   2069,      1,    461],\n",
      "        [   756,      0,   1245,   3218,  90140,      0,    218,      0,     28],\n",
      "        [     0,    130,    483,      1,    219,  94231,    536,    304,      2],\n",
      "        [   848,     68,  14421,   7639,     15,     22,  62627,   8897,     67],\n",
      "        [     0,    182,    194,      0,      0,      0,   5969,  88988,      0],\n",
      "        [  1130,      0,   1310,   4765,    349,     71,    114,      0,  88167]])\n"
     ]
    },
    {
     "name": "stderr",
     "output_type": "stream",
     "text": [
      "Metric Validation/Accuracy improved by 0.000 >= min_delta = 0.0. New best score: 0.972\n"
     ]
    },
    {
     "data": {
      "application/vnd.jupyter.widget-view+json": {
       "model_id": "be5e19ef95424ca4aa0c6575ded86f40",
       "version_major": 2,
       "version_minor": 0
      },
      "text/plain": [
       "Validation: |          | 0/? [00:00<?, ?it/s]"
      ]
     },
     "metadata": {},
     "output_type": "display_data"
    },
    {
     "name": "stdout",
     "output_type": "stream",
     "text": [
      "Epoch end: Validation, epoch number: 21\n",
      "ValidationEpoch/CM\n",
      " tensor([[ 85866,      0,   1543,   7826,   1368,      1,    677,      2,   1209],\n",
      "        [     0, 101066,    277,      0,     16,    147,     17,      0,      0],\n",
      "        [   652,     13, 121722,    714,    659,     88,   5828,     13,    162],\n",
      "        [   985,      0,   2033,  94150,    126,      4,   2183,      1,    465],\n",
      "        [   761,      0,   1250,   3221,  94899,      0,    220,      0,     28],\n",
      "        [     0,    130,    483,      1,    219,  99021,    536,    304,      2],\n",
      "        [   851,     68,  14670,   7936,     17,     22,  66712,   8986,     67],\n",
      "        [     0,    182,    194,      0,      0,      0,   6081,  93636,      0],\n",
      "        [  1159,      0,   1310,   4783,    349,     71,    114,      0,  92910]])\n",
      "Epoch end: Train, epoch number: 20\n",
      "TrainEpoch/CM\n",
      " tensor([[ 85866,      0,   1543,   7826,   1368,      1,    677,      2,   1209],\n",
      "        [     0, 101066,    277,      0,     16,    147,     17,      0,      0],\n",
      "        [   652,     13, 121722,    714,    659,     88,   5828,     13,    162],\n",
      "        [   985,      0,   2033,  94150,    126,      4,   2183,      1,    465],\n",
      "        [   761,      0,   1250,   3221,  94899,      0,    220,      0,     28],\n",
      "        [     0,    130,    483,      1,    219,  99021,    536,    304,      2],\n",
      "        [   851,     68,  14670,   7936,     17,     22,  66712,   8986,     67],\n",
      "        [     0,    182,    194,      0,      0,      0,   6081,  93636,      0],\n",
      "        [  1159,      0,   1310,   4783,    349,     71,    114,      0,  92910]])\n"
     ]
    },
    {
     "data": {
      "application/vnd.jupyter.widget-view+json": {
       "model_id": "b677e087c5e745388c4d1694a00e1698",
       "version_major": 2,
       "version_minor": 0
      },
      "text/plain": [
       "Validation: |          | 0/? [00:00<?, ?it/s]"
      ]
     },
     "metadata": {},
     "output_type": "display_data"
    },
    {
     "name": "stdout",
     "output_type": "stream",
     "text": [
      "Epoch end: Validation, epoch number: 22\n",
      "ValidationEpoch/CM\n",
      " tensor([[ 90507,      0,   1551,   7826,   1368,      1,    684,      2,   1238],\n",
      "        [     0, 105896,    277,      0,     16,    147,     17,      0,      0],\n",
      "        [   665,     13, 127647,    714,    663,     89,   6062,     13,    162],\n",
      "        [   985,      0,   2033,  98769,    126,      4,   2314,      1,    470],\n",
      "        [   764,      0,   1255,   3224,  99661,      0,    221,      0,     28],\n",
      "        [     0,    130,    485,      1,    219, 103809,    536,    304,      2],\n",
      "        [   855,     68,  14923,   8200,     17,     22,  70826,   9076,     67],\n",
      "        [     0,    182,    194,      0,      0,      0,   6158,  98319,      0],\n",
      "        [  1194,      0,   1310,   4793,    349,     71,    114,      0,  97655]])\n"
     ]
    },
    {
     "name": "stderr",
     "output_type": "stream",
     "text": [
      "Metric Validation/Accuracy improved by 0.004 >= min_delta = 0.0. New best score: 0.976\n"
     ]
    },
    {
     "name": "stdout",
     "output_type": "stream",
     "text": [
      "Epoch end: Train, epoch number: 21\n",
      "TrainEpoch/CM\n",
      " tensor([[ 90507,      0,   1551,   7826,   1368,      1,    684,      2,   1238],\n",
      "        [     0, 105896,    277,      0,     16,    147,     17,      0,      0],\n",
      "        [   665,     13, 127647,    714,    663,     89,   6062,     13,    162],\n",
      "        [   985,      0,   2033,  98769,    126,      4,   2314,      1,    470],\n",
      "        [   764,      0,   1255,   3224,  99661,      0,    221,      0,     28],\n",
      "        [     0,    130,    485,      1,    219, 103809,    536,    304,      2],\n",
      "        [   855,     68,  14923,   8200,     17,     22,  70826,   9076,     67],\n",
      "        [     0,    182,    194,      0,      0,      0,   6158,  98319,      0],\n",
      "        [  1194,      0,   1310,   4793,    349,     71,    114,      0,  97655]])\n"
     ]
    },
    {
     "data": {
      "application/vnd.jupyter.widget-view+json": {
       "model_id": "0f4569b8c2ee47548f495b7e79a47813",
       "version_major": 2,
       "version_minor": 0
      },
      "text/plain": [
       "Validation: |          | 0/? [00:00<?, ?it/s]"
      ]
     },
     "metadata": {},
     "output_type": "display_data"
    },
    {
     "name": "stdout",
     "output_type": "stream",
     "text": [
      "Epoch end: Validation, epoch number: 23\n",
      "ValidationEpoch/CM\n",
      " tensor([[ 95152,      0,   1554,   7827,   1368,      1,    696,      2,   1262],\n",
      "        [     0, 110726,    277,      0,     16,    147,     17,      0,      0],\n",
      "        [   673,     13, 133583,    715,    664,     89,   6293,     13,    162],\n",
      "        [   986,      0,   2033, 103381,    126,      4,   2452,      1,    474],\n",
      "        [   765,      0,   1258,   3226, 104429,      0,    221,      0,     28],\n",
      "        [     0,    130,    485,      1,    219, 108599,    536,    304,      2],\n",
      "        [   857,     68,  15166,   8461,     17,     22,  74937,   9184,     67],\n",
      "        [     0,    182,    194,      0,      0,      0,   6211, 103026,      0],\n",
      "        [  1227,      0,   1310,   4806,    349,     71,    114,      0, 102399]])\n",
      "Epoch end: Train, epoch number: 22\n",
      "TrainEpoch/CM\n",
      " tensor([[ 95152,      0,   1554,   7827,   1368,      1,    696,      2,   1262],\n",
      "        [     0, 110726,    277,      0,     16,    147,     17,      0,      0],\n",
      "        [   673,     13, 133583,    715,    664,     89,   6293,     13,    162],\n",
      "        [   986,      0,   2033, 103381,    126,      4,   2452,      1,    474],\n",
      "        [   765,      0,   1258,   3226, 104429,      0,    221,      0,     28],\n",
      "        [     0,    130,    485,      1,    219, 108599,    536,    304,      2],\n",
      "        [   857,     68,  15166,   8461,     17,     22,  74937,   9184,     67],\n",
      "        [     0,    182,    194,      0,      0,      0,   6211, 103026,      0],\n",
      "        [  1227,      0,   1310,   4806,    349,     71,    114,      0, 102399]])\n"
     ]
    },
    {
     "data": {
      "application/vnd.jupyter.widget-view+json": {
       "model_id": "91fb1117e9f9474f83f6bf87ea8821a7",
       "version_major": 2,
       "version_minor": 0
      },
      "text/plain": [
       "Validation: |          | 0/? [00:00<?, ?it/s]"
      ]
     },
     "metadata": {},
     "output_type": "display_data"
    },
    {
     "name": "stdout",
     "output_type": "stream",
     "text": [
      "Epoch end: Validation, epoch number: 24\n",
      "ValidationEpoch/CM\n",
      " tensor([[ 99805,      0,   1561,   7827,   1370,      1,    702,      2,   1279],\n",
      "        [     0, 115556,    277,      0,     16,    147,     17,      0,      0],\n",
      "        [   684,     13, 139540,    715,    669,     89,   6497,     13,    162],\n",
      "        [   986,      0,   2033, 108018,    126,      4,   2568,      1,    476],\n",
      "        [   770,      0,   1261,   3229, 109192,      0,    221,      0,     28],\n",
      "        [     0,    130,    485,      1,    219, 113389,    536,    304,      2],\n",
      "        [   858,     68,  15474,   8734,     18,     22,  78986,   9277,     67],\n",
      "        [     0,    182,    194,      0,      0,      0,   6286, 107711,      0],\n",
      "        [  1267,      0,   1310,   4822,    349,     71,    114,      0, 107133]])\n",
      "Epoch end: Train, epoch number: 23\n",
      "TrainEpoch/CM\n",
      " tensor([[ 99805,      0,   1561,   7827,   1370,      1,    702,      2,   1279],\n",
      "        [     0, 115556,    277,      0,     16,    147,     17,      0,      0],\n",
      "        [   684,     13, 139540,    715,    669,     89,   6497,     13,    162],\n",
      "        [   986,      0,   2033, 108018,    126,      4,   2568,      1,    476],\n",
      "        [   770,      0,   1261,   3229, 109192,      0,    221,      0,     28],\n",
      "        [     0,    130,    485,      1,    219, 113389,    536,    304,      2],\n",
      "        [   858,     68,  15474,   8734,     18,     22,  78986,   9277,     67],\n",
      "        [     0,    182,    194,      0,      0,      0,   6286, 107711,      0],\n",
      "        [  1267,      0,   1310,   4822,    349,     71,    114,      0, 107133]])\n"
     ]
    },
    {
     "data": {
      "application/vnd.jupyter.widget-view+json": {
       "model_id": "21a6ca64b4c741a4acbe9bf0d883ad67",
       "version_major": 2,
       "version_minor": 0
      },
      "text/plain": [
       "Validation: |          | 0/? [00:00<?, ?it/s]"
      ]
     },
     "metadata": {},
     "output_type": "display_data"
    },
    {
     "name": "stdout",
     "output_type": "stream",
     "text": [
      "Epoch end: Validation, epoch number: 25\n",
      "ValidationEpoch/CM\n",
      " tensor([[104466,      0,   1567,   7827,   1372,      1,    704,      2,   1293],\n",
      "        [     0, 120386,    277,      0,     16,    147,     17,      0,      0],\n",
      "        [   710,     13, 145485,    715,    674,     89,   6698,     13,    162],\n",
      "        [   986,      0,   2034, 112637,    126,      4,   2698,      1,    481],\n",
      "        [   773,      0,   1264,   3231, 113958,      0,    221,      0,     28],\n",
      "        [     0,    130,    485,      1,    219, 118179,    536,    304,      2],\n",
      "        [   859,     68,  15723,   8989,     18,     22,  83122,   9361,     67],\n",
      "        [     0,    182,    194,      0,      0,      0,   6359, 112398,      0],\n",
      "        [  1293,      0,   1310,   4839,    349,     71,    114,      0, 111880]])\n"
     ]
    },
    {
     "name": "stderr",
     "output_type": "stream",
     "text": [
      "Metric Validation/Accuracy improved by 0.000 >= min_delta = 0.0. New best score: 0.977\n"
     ]
    },
    {
     "name": "stdout",
     "output_type": "stream",
     "text": [
      "Epoch end: Train, epoch number: 24\n",
      "TrainEpoch/CM\n",
      " tensor([[104466,      0,   1567,   7827,   1372,      1,    704,      2,   1293],\n",
      "        [     0, 120386,    277,      0,     16,    147,     17,      0,      0],\n",
      "        [   710,     13, 145485,    715,    674,     89,   6698,     13,    162],\n",
      "        [   986,      0,   2034, 112637,    126,      4,   2698,      1,    481],\n",
      "        [   773,      0,   1264,   3231, 113958,      0,    221,      0,     28],\n",
      "        [     0,    130,    485,      1,    219, 118179,    536,    304,      2],\n",
      "        [   859,     68,  15723,   8989,     18,     22,  83122,   9361,     67],\n",
      "        [     0,    182,    194,      0,      0,      0,   6359, 112398,      0],\n",
      "        [  1293,      0,   1310,   4839,    349,     71,    114,      0, 111880]])\n"
     ]
    },
    {
     "data": {
      "application/vnd.jupyter.widget-view+json": {
       "model_id": "93a0393eb5ce45e5b6a2c63ea03ff54e",
       "version_major": 2,
       "version_minor": 0
      },
      "text/plain": [
       "Validation: |          | 0/? [00:00<?, ?it/s]"
      ]
     },
     "metadata": {},
     "output_type": "display_data"
    },
    {
     "name": "stdout",
     "output_type": "stream",
     "text": [
      "Epoch end: Validation, epoch number: 26\n",
      "ValidationEpoch/CM\n",
      " tensor([[109037,      0,   1645,   7828,   1376,      1,    714,      2,   1314],\n",
      "        [     0, 125215,    277,      0,     16,    148,     17,      0,      0],\n",
      "        [   751,     13, 151384,    716,    681,     93,   6923,     13,    162],\n",
      "        [   986,      0,   2034, 117273,    126,      4,   2814,      1,    484],\n",
      "        [   777,      0,   1271,   3233, 118714,      0,    226,      0,     28],\n",
      "        [     0,    131,    489,      1,    219, 122963,    536,    304,      3],\n",
      "        [   862,     68,  15974,   9240,     19,     22,  87237,   9464,     68],\n",
      "        [     0,    182,    194,      0,      0,      0,   6434, 117083,      0],\n",
      "        [  1326,      0,   1311,   4858,    349,     82,    115,      0, 116605]])\n",
      "Epoch end: Train, epoch number: 25\n",
      "TrainEpoch/CM\n",
      " tensor([[109037,      0,   1645,   7828,   1376,      1,    714,      2,   1314],\n",
      "        [     0, 125215,    277,      0,     16,    148,     17,      0,      0],\n",
      "        [   751,     13, 151384,    716,    681,     93,   6923,     13,    162],\n",
      "        [   986,      0,   2034, 117273,    126,      4,   2814,      1,    484],\n",
      "        [   777,      0,   1271,   3233, 118714,      0,    226,      0,     28],\n",
      "        [     0,    131,    489,      1,    219, 122963,    536,    304,      3],\n",
      "        [   862,     68,  15974,   9240,     19,     22,  87237,   9464,     68],\n",
      "        [     0,    182,    194,      0,      0,      0,   6434, 117083,      0],\n",
      "        [  1326,      0,   1311,   4858,    349,     82,    115,      0, 116605]])\n"
     ]
    },
    {
     "data": {
      "application/vnd.jupyter.widget-view+json": {
       "model_id": "0fff9588f49a4e1dacfba626e87ae9a1",
       "version_major": 2,
       "version_minor": 0
      },
      "text/plain": [
       "Validation: |          | 0/? [00:00<?, ?it/s]"
      ]
     },
     "metadata": {},
     "output_type": "display_data"
    },
    {
     "name": "stdout",
     "output_type": "stream",
     "text": [
      "Epoch end: Validation, epoch number: 27\n",
      "ValidationEpoch/CM\n",
      " tensor([[113669,      0,   1681,   7829,   1376,      1,    720,      2,   1324],\n",
      "        [     0, 130045,    277,      0,     16,    148,     17,      0,      0],\n",
      "        [   789,     13, 157299,    716,    681,     93,   7146,     13,    163],\n",
      "        [   988,      0,   2035, 121921,    126,      4,   2912,      1,    490],\n",
      "        [   777,      0,   1274,   3235, 123479,      0,    230,      0,     28],\n",
      "        [     0,    131,    489,      1,    219, 127753,    536,    304,      3],\n",
      "        [   862,     68,  16228,   9522,     19,     22,  91341,   9549,     68],\n",
      "        [     0,    182,    194,      0,      0,      0,   6496, 121781,      0],\n",
      "        [  1346,      0,   1311,   4878,    349,     84,    115,      0, 121353]])\n"
     ]
    },
    {
     "name": "stderr",
     "output_type": "stream",
     "text": [
      "Metric Validation/Accuracy improved by 0.002 >= min_delta = 0.0. New best score: 0.979\n"
     ]
    },
    {
     "name": "stdout",
     "output_type": "stream",
     "text": [
      "Epoch end: Train, epoch number: 26\n",
      "TrainEpoch/CM\n",
      " tensor([[113669,      0,   1681,   7829,   1376,      1,    720,      2,   1324],\n",
      "        [     0, 130045,    277,      0,     16,    148,     17,      0,      0],\n",
      "        [   789,     13, 157299,    716,    681,     93,   7146,     13,    163],\n",
      "        [   988,      0,   2035, 121921,    126,      4,   2912,      1,    490],\n",
      "        [   777,      0,   1274,   3235, 123479,      0,    230,      0,     28],\n",
      "        [     0,    131,    489,      1,    219, 127753,    536,    304,      3],\n",
      "        [   862,     68,  16228,   9522,     19,     22,  91341,   9549,     68],\n",
      "        [     0,    182,    194,      0,      0,      0,   6496, 121781,      0],\n",
      "        [  1346,      0,   1311,   4878,    349,     84,    115,      0, 121353]])\n"
     ]
    },
    {
     "data": {
      "application/vnd.jupyter.widget-view+json": {
       "model_id": "8c50d13e608543648d5ba6045c743f2b",
       "version_major": 2,
       "version_minor": 0
      },
      "text/plain": [
       "Validation: |          | 0/? [00:00<?, ?it/s]"
      ]
     },
     "metadata": {},
     "output_type": "display_data"
    },
    {
     "name": "stdout",
     "output_type": "stream",
     "text": [
      "Epoch end: Validation, epoch number: 28\n",
      "ValidationEpoch/CM\n",
      " tensor([[118326,      0,   1684,   7829,   1377,      1,    724,      2,   1344],\n",
      "        [     0, 134875,    277,      0,     16,    148,     17,      0,      0],\n",
      "        [   798,     13, 163242,    717,    682,     93,   7369,     13,    163],\n",
      "        [   988,      0,   2036, 126531,    126,      4,   3047,      1,    499],\n",
      "        [   777,      0,   1278,   3236, 128247,      0,    231,      0,     28],\n",
      "        [     0,    131,    489,      1,    219, 132543,    536,    304,      3],\n",
      "        [   864,     68,  16443,   9774,     20,     22,  95523,   9620,     70],\n",
      "        [     0,    182,    194,      0,      0,      0,   6573, 126464,      0],\n",
      "        [  1364,      0,   1311,   4892,    349,     84,    115,      0, 126111]])\n",
      "Epoch end: Train, epoch number: 27\n"
     ]
    },
    {
     "name": "stderr",
     "output_type": "stream",
     "text": [
      "Metric Validation/Accuracy improved by 0.002 >= min_delta = 0.0. New best score: 0.980\n"
     ]
    },
    {
     "name": "stdout",
     "output_type": "stream",
     "text": [
      "TrainEpoch/CM\n",
      " tensor([[118326,      0,   1684,   7829,   1377,      1,    724,      2,   1344],\n",
      "        [     0, 134875,    277,      0,     16,    148,     17,      0,      0],\n",
      "        [   798,     13, 163242,    717,    682,     93,   7369,     13,    163],\n",
      "        [   988,      0,   2036, 126531,    126,      4,   3047,      1,    499],\n",
      "        [   777,      0,   1278,   3236, 128247,      0,    231,      0,     28],\n",
      "        [     0,    131,    489,      1,    219, 132543,    536,    304,      3],\n",
      "        [   864,     68,  16443,   9774,     20,     22,  95523,   9620,     70],\n",
      "        [     0,    182,    194,      0,      0,      0,   6573, 126464,      0],\n",
      "        [  1364,      0,   1311,   4892,    349,     84,    115,      0, 126111]])\n"
     ]
    },
    {
     "data": {
      "application/vnd.jupyter.widget-view+json": {
       "model_id": "768e236ac7cc49768790c400559225aa",
       "version_major": 2,
       "version_minor": 0
      },
      "text/plain": [
       "Validation: |          | 0/? [00:00<?, ?it/s]"
      ]
     },
     "metadata": {},
     "output_type": "display_data"
    },
    {
     "name": "stdout",
     "output_type": "stream",
     "text": [
      "Epoch end: Validation, epoch number: 29\n",
      "ValidationEpoch/CM\n",
      " tensor([[122997,      0,   1685,   7829,   1377,      1,    724,      2,   1357],\n",
      "        [     0, 139705,    277,      0,     16,    148,     17,      0,      0],\n",
      "        [   807,     13, 169199,    719,    685,     93,   7575,     13,    163],\n",
      "        [   988,      0,   2036, 131170,    126,      4,   3160,      1,    502],\n",
      "        [   777,      0,   1281,   3238, 133016,      0,    231,      0,     28],\n",
      "        [     0,    131,    489,      1,    219, 137333,    536,    304,      3],\n",
      "        [   864,     68,  16610,  10026,     20,     22,  99741,   9708,     70],\n",
      "        [     0,    182,    194,      0,      0,      0,   6629, 131168,      0],\n",
      "        [  1379,      0,   1311,   4899,    349,     84,    115,      0, 130879]])\n",
      "Epoch end: Train, epoch number: 28\n",
      "TrainEpoch/CM\n",
      " tensor([[122997,      0,   1685,   7829,   1377,      1,    724,      2,   1357],\n",
      "        [     0, 139705,    277,      0,     16,    148,     17,      0,      0],\n",
      "        [   807,     13, 169199,    719,    685,     93,   7575,     13,    163],\n",
      "        [   988,      0,   2036, 131170,    126,      4,   3160,      1,    502],\n",
      "        [   777,      0,   1281,   3238, 133016,      0,    231,      0,     28],\n",
      "        [     0,    131,    489,      1,    219, 137333,    536,    304,      3],\n",
      "        [   864,     68,  16610,  10026,     20,     22,  99741,   9708,     70],\n",
      "        [     0,    182,    194,      0,      0,      0,   6629, 131168,      0],\n",
      "        [  1379,      0,   1311,   4899,    349,     84,    115,      0, 130879]])\n"
     ]
    },
    {
     "data": {
      "application/vnd.jupyter.widget-view+json": {
       "model_id": "9bebc29e577f48eaa315de5439f4c13c",
       "version_major": 2,
       "version_minor": 0
      },
      "text/plain": [
       "Validation: |          | 0/? [00:00<?, ?it/s]"
      ]
     },
     "metadata": {},
     "output_type": "display_data"
    },
    {
     "name": "stdout",
     "output_type": "stream",
     "text": [
      "Epoch end: Validation, epoch number: 30\n",
      "ValidationEpoch/CM\n",
      " tensor([[127670,      0,   1689,   7829,   1377,      1,    725,      2,   1364],\n",
      "        [     0, 144535,    277,      0,     16,    148,     17,      0,      0],\n",
      "        [   819,     13, 175127,    719,    686,     93,   7811,     13,    163],\n",
      "        [   988,      0,   2037, 135793,    126,      4,   3284,      1,    509],\n",
      "        [   777,      0,   1282,   3241, 137785,      0,    232,      0,     28],\n",
      "        [     0,    131,    489,      1,    219, 142123,    536,    304,      3],\n",
      "        [   865,     68,  16779,  10264,     20,     22, 103957,   9809,     70],\n",
      "        [     0,    182,    194,      0,      0,      0,   6674, 135883,      0],\n",
      "        [  1390,      0,   1311,   4909,    349,     84,    115,      0, 135648]])\n",
      "Epoch end: Train, epoch number: 29\n",
      "TrainEpoch/CM\n",
      " tensor([[127670,      0,   1689,   7829,   1377,      1,    725,      2,   1364],\n",
      "        [     0, 144535,    277,      0,     16,    148,     17,      0,      0],\n",
      "        [   819,     13, 175127,    719,    686,     93,   7811,     13,    163],\n",
      "        [   988,      0,   2037, 135793,    126,      4,   3284,      1,    509],\n",
      "        [   777,      0,   1282,   3241, 137785,      0,    232,      0,     28],\n",
      "        [     0,    131,    489,      1,    219, 142123,    536,    304,      3],\n",
      "        [   865,     68,  16779,  10264,     20,     22, 103957,   9809,     70],\n",
      "        [     0,    182,    194,      0,      0,      0,   6674, 135883,      0],\n",
      "        [  1390,      0,   1311,   4909,    349,     84,    115,      0, 135648]])\n"
     ]
    },
    {
     "data": {
      "application/vnd.jupyter.widget-view+json": {
       "model_id": "c3f248d706d14780a791a6bd3d4c9d4e",
       "version_major": 2,
       "version_minor": 0
      },
      "text/plain": [
       "Validation: |          | 0/? [00:00<?, ?it/s]"
      ]
     },
     "metadata": {},
     "output_type": "display_data"
    },
    {
     "name": "stdout",
     "output_type": "stream",
     "text": [
      "Epoch end: Validation, epoch number: 31\n",
      "ValidationEpoch/CM\n",
      " tensor([[132339,      0,   1692,   7829,   1377,      1,    727,      2,   1375],\n",
      "        [     0, 149365,    277,      0,     16,    148,     17,      0,      0],\n",
      "        [   829,     13, 181065,    719,    691,     93,   8035,     13,    163],\n",
      "        [   988,      0,   2037, 140450,    126,      4,   3380,      1,    511],\n",
      "        [   777,      0,   1285,   3242, 142555,      0,    232,      0,     28],\n",
      "        [     0,    131,    489,      1,    219, 146913,    536,    304,      3],\n",
      "        [   865,     68,  16956,  10535,     20,     22, 108167,   9875,     71],\n",
      "        [     0,    182,    194,      0,      0,      0,   6733, 140584,      0],\n",
      "        [  1402,      0,   1311,   4922,    349,     84,    115,      0, 140413]])\n",
      "Epoch end: Train, epoch number: 30\n",
      "TrainEpoch/CM\n",
      " tensor([[132339,      0,   1692,   7829,   1377,      1,    727,      2,   1375],\n",
      "        [     0, 149365,    277,      0,     16,    148,     17,      0,      0],\n",
      "        [   829,     13, 181065,    719,    691,     93,   8035,     13,    163],\n",
      "        [   988,      0,   2037, 140450,    126,      4,   3380,      1,    511],\n",
      "        [   777,      0,   1285,   3242, 142555,      0,    232,      0,     28],\n",
      "        [     0,    131,    489,      1,    219, 146913,    536,    304,      3],\n",
      "        [   865,     68,  16956,  10535,     20,     22, 108167,   9875,     71],\n",
      "        [     0,    182,    194,      0,      0,      0,   6733, 140584,      0],\n",
      "        [  1402,      0,   1311,   4922,    349,     84,    115,      0, 140413]])\n"
     ]
    },
    {
     "data": {
      "application/vnd.jupyter.widget-view+json": {
       "model_id": "adb5020993f34eebbd1ae557ccdb715f",
       "version_major": 2,
       "version_minor": 0
      },
      "text/plain": [
       "Validation: |          | 0/? [00:00<?, ?it/s]"
      ]
     },
     "metadata": {},
     "output_type": "display_data"
    },
    {
     "name": "stdout",
     "output_type": "stream",
     "text": [
      "Epoch end: Validation, epoch number: 32\n",
      "ValidationEpoch/CM\n",
      " tensor([[137000,      0,   1699,   7829,   1377,      1,    732,      2,   1387],\n",
      "        [     0, 154195,    277,      0,     16,    148,     17,      0,      0],\n",
      "        [   836,     13, 187064,    719,    696,     93,   8201,     13,    163],\n",
      "        [   988,      0,   2037, 145093,    126,      4,   3488,      1,    515],\n",
      "        [   777,      0,   1289,   3244, 147323,      0,    232,      0,     28],\n",
      "        [     0,    131,    489,      1,    219, 151703,    536,    304,      3],\n",
      "        [   865,     68,  17139,  10784,     20,     22, 112397,   9938,     71],\n",
      "        [     0,    182,    194,      0,      0,      0,   6785, 145292,      0],\n",
      "        [  1419,      0,   1311,   4934,    349,     84,    115,      0, 145174]])\n",
      "Epoch end: Train, epoch number: 31\n"
     ]
    },
    {
     "name": "stderr",
     "output_type": "stream",
     "text": [
      "Metric Validation/Accuracy improved by 0.001 >= min_delta = 0.0. New best score: 0.981\n"
     ]
    },
    {
     "name": "stdout",
     "output_type": "stream",
     "text": [
      "TrainEpoch/CM\n",
      " tensor([[137000,      0,   1699,   7829,   1377,      1,    732,      2,   1387],\n",
      "        [     0, 154195,    277,      0,     16,    148,     17,      0,      0],\n",
      "        [   836,     13, 187064,    719,    696,     93,   8201,     13,    163],\n",
      "        [   988,      0,   2037, 145093,    126,      4,   3488,      1,    515],\n",
      "        [   777,      0,   1289,   3244, 147323,      0,    232,      0,     28],\n",
      "        [     0,    131,    489,      1,    219, 151703,    536,    304,      3],\n",
      "        [   865,     68,  17139,  10784,     20,     22, 112397,   9938,     71],\n",
      "        [     0,    182,    194,      0,      0,      0,   6785, 145292,      0],\n",
      "        [  1419,      0,   1311,   4934,    349,     84,    115,      0, 145174]])\n"
     ]
    },
    {
     "data": {
      "application/vnd.jupyter.widget-view+json": {
       "model_id": "df6e99d9e94a4c6eb8dc5bb9406218e8",
       "version_major": 2,
       "version_minor": 0
      },
      "text/plain": [
       "Validation: |          | 0/? [00:00<?, ?it/s]"
      ]
     },
     "metadata": {},
     "output_type": "display_data"
    },
    {
     "name": "stdout",
     "output_type": "stream",
     "text": [
      "Epoch end: Validation, epoch number: 33\n",
      "ValidationEpoch/CM\n",
      " tensor([[141657,      0,   1701,   7829,   1377,      1,    735,      2,   1410],\n",
      "        [     0, 159025,    277,      0,     16,    148,     17,      0,      0],\n",
      "        [   848,     13, 193048,    719,    697,     93,   8381,     13,    163],\n",
      "        [   992,      0,   2038, 149736,    126,      4,   3594,      1,    516],\n",
      "        [   777,      0,   1294,   3244, 152090,      0,    234,      0,     28],\n",
      "        [     0,    131,    489,      1,    219, 156493,    536,    304,      3],\n",
      "        [   867,     68,  17296,  11030,     20,     22, 116646,  10009,     71],\n",
      "        [     0,    182,    194,      0,      0,      0,   6829, 150008,      0],\n",
      "        [  1429,      0,   1311,   4946,    349,     84,    115,      0, 149942]])\n",
      "Epoch end: Train, epoch number: 32\n",
      "TrainEpoch/CM\n",
      " tensor([[141657,      0,   1701,   7829,   1377,      1,    735,      2,   1410],\n",
      "        [     0, 159025,    277,      0,     16,    148,     17,      0,      0],\n",
      "        [   848,     13, 193048,    719,    697,     93,   8381,     13,    163],\n",
      "        [   992,      0,   2038, 149736,    126,      4,   3594,      1,    516],\n",
      "        [   777,      0,   1294,   3244, 152090,      0,    234,      0,     28],\n",
      "        [     0,    131,    489,      1,    219, 156493,    536,    304,      3],\n",
      "        [   867,     68,  17296,  11030,     20,     22, 116646,  10009,     71],\n",
      "        [     0,    182,    194,      0,      0,      0,   6829, 150008,      0],\n",
      "        [  1429,      0,   1311,   4946,    349,     84,    115,      0, 149942]])\n"
     ]
    },
    {
     "data": {
      "application/vnd.jupyter.widget-view+json": {
       "model_id": "1a75a4abb301438bbfd43f4590458e60",
       "version_major": 2,
       "version_minor": 0
      },
      "text/plain": [
       "Validation: |          | 0/? [00:00<?, ?it/s]"
      ]
     },
     "metadata": {},
     "output_type": "display_data"
    },
    {
     "name": "stdout",
     "output_type": "stream",
     "text": [
      "Epoch end: Validation, epoch number: 34\n",
      "ValidationEpoch/CM\n",
      " tensor([[146320,      0,   1705,   7829,   1377,      1,    736,      2,   1427],\n",
      "        [     0, 163855,    277,      0,     16,    148,     17,      0,      0],\n",
      "        [   856,     13, 199061,    719,    704,     93,   8530,     13,    163],\n",
      "        [   992,      0,   2038, 154381,    126,      4,   3704,      1,    516],\n",
      "        [   777,      0,   1296,   3246, 156859,      0,    235,      0,     28],\n",
      "        [     0,    131,    489,      1,    219, 161283,    536,    304,      3],\n",
      "        [   867,     68,  17475,  11264,     22,     22, 120900,  10065,     71],\n",
      "        [     0,    182,    194,      0,      0,      0,   6884, 154713,      0],\n",
      "        [  1451,      0,   1311,   4954,    349,     84,    115,      0, 154702]])\n"
     ]
    },
    {
     "name": "stderr",
     "output_type": "stream",
     "text": [
      "Metric Validation/Accuracy improved by 0.001 >= min_delta = 0.0. New best score: 0.982\n"
     ]
    },
    {
     "name": "stdout",
     "output_type": "stream",
     "text": [
      "Epoch end: Train, epoch number: 33\n",
      "TrainEpoch/CM\n",
      " tensor([[146320,      0,   1705,   7829,   1377,      1,    736,      2,   1427],\n",
      "        [     0, 163855,    277,      0,     16,    148,     17,      0,      0],\n",
      "        [   856,     13, 199061,    719,    704,     93,   8530,     13,    163],\n",
      "        [   992,      0,   2038, 154381,    126,      4,   3704,      1,    516],\n",
      "        [   777,      0,   1296,   3246, 156859,      0,    235,      0,     28],\n",
      "        [     0,    131,    489,      1,    219, 161283,    536,    304,      3],\n",
      "        [   867,     68,  17475,  11264,     22,     22, 120900,  10065,     71],\n",
      "        [     0,    182,    194,      0,      0,      0,   6884, 154713,      0],\n",
      "        [  1451,      0,   1311,   4954,    349,     84,    115,      0, 154702]])\n"
     ]
    },
    {
     "data": {
      "application/vnd.jupyter.widget-view+json": {
       "model_id": "870426c351394e39a22ce8c0c226585d",
       "version_major": 2,
       "version_minor": 0
      },
      "text/plain": [
       "Validation: |          | 0/? [00:00<?, ?it/s]"
      ]
     },
     "metadata": {},
     "output_type": "display_data"
    },
    {
     "name": "stdout",
     "output_type": "stream",
     "text": [
      "Epoch end: Validation, epoch number: 35\n",
      "ValidationEpoch/CM\n",
      " tensor([[150983,      0,   1714,   7829,   1377,      1,    736,      2,   1440],\n",
      "        [     0, 168685,    277,      0,     16,    148,     17,      0,      0],\n",
      "        [   868,     13, 205073,    719,    707,     93,   8680,     13,    163],\n",
      "        [   992,      0,   2038, 159043,    126,      4,   3796,      1,    517],\n",
      "        [   777,      0,   1300,   3248, 161626,      0,    236,      0,     28],\n",
      "        [     0,    131,    489,      1,    219, 166073,    536,    304,      3],\n",
      "        [   867,     68,  17630,  11497,     22,     22, 125182,  10120,     71],\n",
      "        [     0,    182,    194,      0,      0,      0,   6926, 159431,      0],\n",
      "        [  1464,      0,   1311,   4963,    349,     85,    115,      0, 159469]])\n"
     ]
    },
    {
     "name": "stderr",
     "output_type": "stream",
     "text": [
      "Metric Validation/Accuracy improved by 0.001 >= min_delta = 0.0. New best score: 0.983\n"
     ]
    },
    {
     "name": "stdout",
     "output_type": "stream",
     "text": [
      "Epoch end: Train, epoch number: 34\n",
      "TrainEpoch/CM\n",
      " tensor([[150983,      0,   1714,   7829,   1377,      1,    736,      2,   1440],\n",
      "        [     0, 168685,    277,      0,     16,    148,     17,      0,      0],\n",
      "        [   868,     13, 205073,    719,    707,     93,   8680,     13,    163],\n",
      "        [   992,      0,   2038, 159043,    126,      4,   3796,      1,    517],\n",
      "        [   777,      0,   1300,   3248, 161626,      0,    236,      0,     28],\n",
      "        [     0,    131,    489,      1,    219, 166073,    536,    304,      3],\n",
      "        [   867,     68,  17630,  11497,     22,     22, 125182,  10120,     71],\n",
      "        [     0,    182,    194,      0,      0,      0,   6926, 159431,      0],\n",
      "        [  1464,      0,   1311,   4963,    349,     85,    115,      0, 159469]])\n"
     ]
    },
    {
     "data": {
      "application/vnd.jupyter.widget-view+json": {
       "model_id": "9f400531fe2047308f68c80e1c06f207",
       "version_major": 2,
       "version_minor": 0
      },
      "text/plain": [
       "Validation: |          | 0/? [00:00<?, ?it/s]"
      ]
     },
     "metadata": {},
     "output_type": "display_data"
    },
    {
     "name": "stdout",
     "output_type": "stream",
     "text": [
      "Epoch end: Validation, epoch number: 36\n",
      "ValidationEpoch/CM\n",
      " tensor([[155635,      0,   1716,   7829,   1377,      1,    737,      2,   1470],\n",
      "        [     0, 173515,    277,      0,     16,    148,     17,      0,      0],\n",
      "        [   880,     13, 211064,    719,    707,     95,   8852,     13,    163],\n",
      "        [   992,      0,   2038, 163697,    126,      4,   3897,      1,    517],\n",
      "        [   778,      0,   1302,   3251, 166394,      0,    236,      0,     28],\n",
      "        [     0,    131,    489,      1,    219, 170863,    536,    304,      3],\n",
      "        [   867,     68,  17792,  11727,     23,     22, 129431,  10203,     71],\n",
      "        [     0,    182,    194,      0,      0,      0,   6971, 164146,      0],\n",
      "        [  1473,      0,   1311,   4972,    349,     85,    115,      0, 164241]])\n",
      "Epoch end: Train, epoch number: 35\n",
      "TrainEpoch/CM\n",
      " tensor([[155635,      0,   1716,   7829,   1377,      1,    737,      2,   1470],\n",
      "        [     0, 173515,    277,      0,     16,    148,     17,      0,      0],\n",
      "        [   880,     13, 211064,    719,    707,     95,   8852,     13,    163],\n",
      "        [   992,      0,   2038, 163697,    126,      4,   3897,      1,    517],\n",
      "        [   778,      0,   1302,   3251, 166394,      0,    236,      0,     28],\n",
      "        [     0,    131,    489,      1,    219, 170863,    536,    304,      3],\n",
      "        [   867,     68,  17792,  11727,     23,     22, 129431,  10203,     71],\n",
      "        [     0,    182,    194,      0,      0,      0,   6971, 164146,      0],\n",
      "        [  1473,      0,   1311,   4972,    349,     85,    115,      0, 164241]])\n"
     ]
    },
    {
     "data": {
      "application/vnd.jupyter.widget-view+json": {
       "model_id": "a217ed246da34a6b84409b494b5c30e4",
       "version_major": 2,
       "version_minor": 0
      },
      "text/plain": [
       "Validation: |          | 0/? [00:00<?, ?it/s]"
      ]
     },
     "metadata": {},
     "output_type": "display_data"
    },
    {
     "name": "stdout",
     "output_type": "stream",
     "text": [
      "Epoch end: Validation, epoch number: 37\n",
      "ValidationEpoch/CM\n",
      " tensor([[160300,      0,   1718,   7829,   1377,      1,    737,      2,   1488],\n",
      "        [     0, 178345,    277,      0,     16,    148,     17,      0,      0],\n",
      "        [   888,     13, 217095,    720,    714,     95,   8982,     13,    163],\n",
      "        [   992,      0,   2038, 168348,    126,      4,   3997,      1,    521],\n",
      "        [   779,      0,   1305,   3251, 171163,      0,    237,      0,     28],\n",
      "        [     0,    131,    489,      1,    219, 175653,    536,    304,      3],\n",
      "        [   867,     68,  17970,  11961,     23,     22, 133667,  10280,     71],\n",
      "        [     0,    182,    194,      0,      0,      0,   7021, 168856,      0],\n",
      "        [  1499,      0,   1311,   4986,    349,     85,    115,      0, 168991]])\n",
      "Epoch end: Train, epoch number: 36\n",
      "TrainEpoch/CM\n",
      " tensor([[160300,      0,   1718,   7829,   1377,      1,    737,      2,   1488],\n",
      "        [     0, 178345,    277,      0,     16,    148,     17,      0,      0],\n",
      "        [   888,     13, 217095,    720,    714,     95,   8982,     13,    163],\n",
      "        [   992,      0,   2038, 168348,    126,      4,   3997,      1,    521],\n",
      "        [   779,      0,   1305,   3251, 171163,      0,    237,      0,     28],\n",
      "        [     0,    131,    489,      1,    219, 175653,    536,    304,      3],\n",
      "        [   867,     68,  17970,  11961,     23,     22, 133667,  10280,     71],\n",
      "        [     0,    182,    194,      0,      0,      0,   7021, 168856,      0],\n",
      "        [  1499,      0,   1311,   4986,    349,     85,    115,      0, 168991]])\n"
     ]
    },
    {
     "data": {
      "application/vnd.jupyter.widget-view+json": {
       "model_id": "3ab8e0aaa501468bad63e990f24c5652",
       "version_major": 2,
       "version_minor": 0
      },
      "text/plain": [
       "Validation: |          | 0/? [00:00<?, ?it/s]"
      ]
     },
     "metadata": {},
     "output_type": "display_data"
    },
    {
     "name": "stdout",
     "output_type": "stream",
     "text": [
      "Epoch end: Validation, epoch number: 38\n",
      "ValidationEpoch/CM\n",
      " tensor([[164972,      0,   1728,   7829,   1377,      1,    737,      2,   1491],\n",
      "        [     0, 183175,    277,      0,     16,    148,     17,      0,      0],\n",
      "        [   902,     13, 223112,    721,    717,     95,   9124,     13,    163],\n",
      "        [   992,      0,   2038, 173005,    126,      4,   4095,      1,    521],\n",
      "        [   779,      0,   1308,   3251, 175933,      0,    238,      0,     28],\n",
      "        [     0,    131,    489,      1,    219, 180443,    536,    304,      3],\n",
      "        [   867,     68,  18115,  12190,     23,     22, 137963,  10335,     71],\n",
      "        [     0,    182,    194,      0,      0,      0,   7080, 173557,      0],\n",
      "        [  1509,      0,   1311,   4991,    349,     85,    115,      0, 173766]])\n",
      "Epoch end: Train, epoch number: 37\n"
     ]
    },
    {
     "name": "stderr",
     "output_type": "stream",
     "text": [
      "Metric Validation/Accuracy improved by 0.001 >= min_delta = 0.0. New best score: 0.984\n"
     ]
    },
    {
     "name": "stdout",
     "output_type": "stream",
     "text": [
      "TrainEpoch/CM\n",
      " tensor([[164972,      0,   1728,   7829,   1377,      1,    737,      2,   1491],\n",
      "        [     0, 183175,    277,      0,     16,    148,     17,      0,      0],\n",
      "        [   902,     13, 223112,    721,    717,     95,   9124,     13,    163],\n",
      "        [   992,      0,   2038, 173005,    126,      4,   4095,      1,    521],\n",
      "        [   779,      0,   1308,   3251, 175933,      0,    238,      0,     28],\n",
      "        [     0,    131,    489,      1,    219, 180443,    536,    304,      3],\n",
      "        [   867,     68,  18115,  12190,     23,     22, 137963,  10335,     71],\n",
      "        [     0,    182,    194,      0,      0,      0,   7080, 173557,      0],\n",
      "        [  1509,      0,   1311,   4991,    349,     85,    115,      0, 173766]])\n"
     ]
    },
    {
     "data": {
      "application/vnd.jupyter.widget-view+json": {
       "model_id": "0b6b44fbdefa46489b676cc7e0ade0bb",
       "version_major": 2,
       "version_minor": 0
      },
      "text/plain": [
       "Validation: |          | 0/? [00:00<?, ?it/s]"
      ]
     },
     "metadata": {},
     "output_type": "display_data"
    },
    {
     "name": "stdout",
     "output_type": "stream",
     "text": [
      "Epoch end: Validation, epoch number: 39\n",
      "ValidationEpoch/CM\n",
      " tensor([[169648,      0,   1730,   7829,   1377,      1,    737,      2,   1498],\n",
      "        [     0, 188005,    277,      0,     16,    148,     17,      0,      0],\n",
      "        [   911,     13, 229128,    722,    720,     95,   9272,     13,    163],\n",
      "        [   992,      0,   2038, 177663,    126,      4,   4191,      1,    522],\n",
      "        [   779,      0,   1310,   3252, 180702,      0,    240,      0,     28],\n",
      "        [     0,    131,    489,      1,    219, 185233,    536,    304,      3],\n",
      "        [   867,     68,  18262,  12415,     23,     22, 142243,  10408,     71],\n",
      "        [     0,    182,    194,      0,      0,      0,   7122, 178275,      0],\n",
      "        [  1522,      0,   1311,   4995,    349,     85,    115,      0, 178539]])\n",
      "Epoch end: Train, epoch number: 38\n",
      "TrainEpoch/CM\n",
      " tensor([[169648,      0,   1730,   7829,   1377,      1,    737,      2,   1498],\n",
      "        [     0, 188005,    277,      0,     16,    148,     17,      0,      0],\n",
      "        [   911,     13, 229128,    722,    720,     95,   9272,     13,    163],\n",
      "        [   992,      0,   2038, 177663,    126,      4,   4191,      1,    522],\n",
      "        [   779,      0,   1310,   3252, 180702,      0,    240,      0,     28],\n",
      "        [     0,    131,    489,      1,    219, 185233,    536,    304,      3],\n",
      "        [   867,     68,  18262,  12415,     23,     22, 142243,  10408,     71],\n",
      "        [     0,    182,    194,      0,      0,      0,   7122, 178275,      0],\n",
      "        [  1522,      0,   1311,   4995,    349,     85,    115,      0, 178539]])\n"
     ]
    },
    {
     "data": {
      "application/vnd.jupyter.widget-view+json": {
       "model_id": "f8789afea7ac47a1b7c127d5ef493652",
       "version_major": 2,
       "version_minor": 0
      },
      "text/plain": [
       "Validation: |          | 0/? [00:00<?, ?it/s]"
      ]
     },
     "metadata": {},
     "output_type": "display_data"
    },
    {
     "name": "stdout",
     "output_type": "stream",
     "text": [
      "Epoch end: Validation, epoch number: 40\n",
      "ValidationEpoch/CM\n",
      " tensor([[174324,      0,   1733,   7829,   1377,      1,    737,      2,   1504],\n",
      "        [     0, 192835,    277,      0,     16,    148,     17,      0,      0],\n",
      "        [   920,     13, 235167,    723,    721,     95,   9399,     13,    163],\n",
      "        [   992,      0,   2038, 182302,    126,      4,   4305,      1,    524],\n",
      "        [   779,      0,   1312,   3255, 185471,      0,    240,      0,     28],\n",
      "        [     0,    131,    489,      1,    219, 190023,    536,    304,      3],\n",
      "        [   867,     68,  18407,  12638,     24,     22, 146564,  10443,     71],\n",
      "        [     0,    182,    194,      0,      0,      0,   7164, 182993,      0],\n",
      "        [  1528,      0,   1311,   5001,    349,     85,    115,      0, 183317]])\n",
      "Epoch end: Train, epoch number: 39\n",
      "TrainEpoch/CM\n",
      " tensor([[174324,      0,   1733,   7829,   1377,      1,    737,      2,   1504],\n",
      "        [     0, 192835,    277,      0,     16,    148,     17,      0,      0],\n",
      "        [   920,     13, 235167,    723,    721,     95,   9399,     13,    163],\n",
      "        [   992,      0,   2038, 182302,    126,      4,   4305,      1,    524],\n",
      "        [   779,      0,   1312,   3255, 185471,      0,    240,      0,     28],\n",
      "        [     0,    131,    489,      1,    219, 190023,    536,    304,      3],\n",
      "        [   867,     68,  18407,  12638,     24,     22, 146564,  10443,     71],\n",
      "        [     0,    182,    194,      0,      0,      0,   7164, 182993,      0],\n",
      "        [  1528,      0,   1311,   5001,    349,     85,    115,      0, 183317]])\n"
     ]
    },
    {
     "data": {
      "application/vnd.jupyter.widget-view+json": {
       "model_id": "b50f29b36b5045178571e6075889abc4",
       "version_major": 2,
       "version_minor": 0
      },
      "text/plain": [
       "Validation: |          | 0/? [00:00<?, ?it/s]"
      ]
     },
     "metadata": {},
     "output_type": "display_data"
    },
    {
     "name": "stdout",
     "output_type": "stream",
     "text": [
      "Epoch end: Validation, epoch number: 41\n",
      "ValidationEpoch/CM\n",
      " tensor([[178985,      0,   1738,   7829,   1377,      1,    741,      2,   1519],\n",
      "        [     0, 197665,    277,      0,     16,    148,     17,      0,      0],\n",
      "        [   929,     13, 241197,    723,    727,     95,   9531,     13,    163],\n",
      "        [   992,      0,   2039, 186956,    126,      4,   4404,      1,    525],\n",
      "        [   779,      0,   1313,   3256, 190242,      0,    241,      0,     28],\n",
      "        [     0,    132,    489,      1,    219, 194811,    536,    304,      4],\n",
      "        [   867,     68,  18542,  12861,     26,     22, 150875,  10497,     71],\n",
      "        [     0,    182,    194,      0,      0,      0,   7195, 187722,      0],\n",
      "        [  1537,      0,   1312,   5003,    349,     85,    115,      0, 188095]])\n",
      "Epoch end: Train, epoch number: 40\n",
      "TrainEpoch/CM\n",
      " tensor([[178985,      0,   1738,   7829,   1377,      1,    741,      2,   1519],\n",
      "        [     0, 197665,    277,      0,     16,    148,     17,      0,      0],\n",
      "        [   929,     13, 241197,    723,    727,     95,   9531,     13,    163],\n",
      "        [   992,      0,   2039, 186956,    126,      4,   4404,      1,    525],\n",
      "        [   779,      0,   1313,   3256, 190242,      0,    241,      0,     28],\n",
      "        [     0,    132,    489,      1,    219, 194811,    536,    304,      4],\n",
      "        [   867,     68,  18542,  12861,     26,     22, 150875,  10497,     71],\n",
      "        [     0,    182,    194,      0,      0,      0,   7195, 187722,      0],\n",
      "        [  1537,      0,   1312,   5003,    349,     85,    115,      0, 188095]])\n"
     ]
    },
    {
     "data": {
      "application/vnd.jupyter.widget-view+json": {
       "model_id": "1d68455e56db414b835f308c7adf423b",
       "version_major": 2,
       "version_minor": 0
      },
      "text/plain": [
       "Validation: |          | 0/? [00:00<?, ?it/s]"
      ]
     },
     "metadata": {},
     "output_type": "display_data"
    },
    {
     "name": "stdout",
     "output_type": "stream",
     "text": [
      "Epoch end: Validation, epoch number: 42\n",
      "ValidationEpoch/CM\n",
      " tensor([[183657,      0,   1742,   7829,   1378,      1,    741,      2,   1527],\n",
      "        [     0, 202495,    277,      0,     16,    148,     17,      0,      0],\n",
      "        [   939,     13, 247227,    723,    728,     95,   9667,     13,    163],\n",
      "        [   992,      0,   2039, 191635,    126,      4,   4480,      1,    525],\n",
      "        [   779,      0,   1313,   3256, 195012,      0,    245,      0,     28],\n",
      "        [     0,    132,    489,      1,    219, 199601,    536,    304,      4],\n",
      "        [   867,     68,  18694,  13091,     26,     22, 155162,  10553,     71],\n",
      "        [     0,    182,    194,      0,      0,      0,   7241, 192436,      0],\n",
      "        [  1548,      0,   1312,   5012,    349,     85,    115,      0, 192865]])\n",
      "Epoch end: Train, epoch number: 41\n",
      "TrainEpoch/CM\n",
      " tensor([[183657,      0,   1742,   7829,   1378,      1,    741,      2,   1527],\n",
      "        [     0, 202495,    277,      0,     16,    148,     17,      0,      0],\n",
      "        [   939,     13, 247227,    723,    728,     95,   9667,     13,    163],\n",
      "        [   992,      0,   2039, 191635,    126,      4,   4480,      1,    525],\n",
      "        [   779,      0,   1313,   3256, 195012,      0,    245,      0,     28],\n",
      "        [     0,    132,    489,      1,    219, 199601,    536,    304,      4],\n",
      "        [   867,     68,  18694,  13091,     26,     22, 155162,  10553,     71],\n",
      "        [     0,    182,    194,      0,      0,      0,   7241, 192436,      0],\n",
      "        [  1548,      0,   1312,   5012,    349,     85,    115,      0, 192865]])\n"
     ]
    },
    {
     "name": "stderr",
     "output_type": "stream",
     "text": [
      "Metric Validation/Accuracy improved by 0.000 >= min_delta = 0.0. New best score: 0.984\n"
     ]
    },
    {
     "data": {
      "application/vnd.jupyter.widget-view+json": {
       "model_id": "c87c3e5ffb66443191a7a707fa5c955a",
       "version_major": 2,
       "version_minor": 0
      },
      "text/plain": [
       "Validation: |          | 0/? [00:00<?, ?it/s]"
      ]
     },
     "metadata": {},
     "output_type": "display_data"
    },
    {
     "name": "stdout",
     "output_type": "stream",
     "text": [
      "Epoch end: Validation, epoch number: 43\n",
      "ValidationEpoch/CM\n",
      " tensor([[188332,      0,   1749,   7829,   1378,      1,    742,      2,   1529],\n",
      "        [     0, 207325,    277,      0,     16,    148,     17,      0,      0],\n",
      "        [   953,     13, 253268,    723,    731,     95,   9786,     13,    163],\n",
      "        [   992,      0,   2039, 196292,    126,      4,   4578,      1,    525],\n",
      "        [   782,      0,   1313,   3257, 199778,      0,    249,      0,     28],\n",
      "        [     0,    132,    489,      1,    219, 204391,    536,    304,      4],\n",
      "        [   867,     68,  18824,  13295,     26,     22, 159502,  10604,     71],\n",
      "        [     0,    182,    194,      0,      0,      0,   7268, 197169,      0],\n",
      "        [  1560,      0,   1312,   5016,    349,     85,    115,      0, 197639]])\n",
      "Epoch end: Train, epoch number: 42\n",
      "TrainEpoch/CM\n",
      " tensor([[188332,      0,   1749,   7829,   1378,      1,    742,      2,   1529],\n",
      "        [     0, 207325,    277,      0,     16,    148,     17,      0,      0],\n",
      "        [   953,     13, 253268,    723,    731,     95,   9786,     13,    163],\n",
      "        [   992,      0,   2039, 196292,    126,      4,   4578,      1,    525],\n",
      "        [   782,      0,   1313,   3257, 199778,      0,    249,      0,     28],\n",
      "        [     0,    132,    489,      1,    219, 204391,    536,    304,      4],\n",
      "        [   867,     68,  18824,  13295,     26,     22, 159502,  10604,     71],\n",
      "        [     0,    182,    194,      0,      0,      0,   7268, 197169,      0],\n",
      "        [  1560,      0,   1312,   5016,    349,     85,    115,      0, 197639]])\n"
     ]
    },
    {
     "data": {
      "application/vnd.jupyter.widget-view+json": {
       "model_id": "9c2edfd65ea64b1cba7d15ebe79bfc69",
       "version_major": 2,
       "version_minor": 0
      },
      "text/plain": [
       "Validation: |          | 0/? [00:00<?, ?it/s]"
      ]
     },
     "metadata": {},
     "output_type": "display_data"
    },
    {
     "name": "stdout",
     "output_type": "stream",
     "text": [
      "Epoch end: Validation, epoch number: 44\n",
      "ValidationEpoch/CM\n",
      " tensor([[193008,      0,   1753,   7829,   1378,      1,    742,      2,   1534],\n",
      "        [     0, 212155,    277,      0,     16,    148,     17,      0,      0],\n",
      "        [   962,     13, 259307,    725,    733,     95,   9911,     13,    163],\n",
      "        [   992,      0,   2039, 200951,    126,      4,   4673,      1,    526],\n",
      "        [   782,      0,   1314,   3258, 204548,      0,    251,      0,     28],\n",
      "        [     0,    132,    489,      1,    219, 209181,    536,    304,      4],\n",
      "        [   867,     68,  18957,  13514,     28,     22, 163831,  10646,     71],\n",
      "        [     0,    182,    194,      0,      0,      0,   7307, 201890,      0],\n",
      "        [  1573,      0,   1312,   5019,    349,     85,    115,      0, 202413]])\n",
      "Epoch end: Train, epoch number: 43\n",
      "TrainEpoch/CM\n",
      " tensor([[193008,      0,   1753,   7829,   1378,      1,    742,      2,   1534],\n",
      "        [     0, 212155,    277,      0,     16,    148,     17,      0,      0],\n",
      "        [   962,     13, 259307,    725,    733,     95,   9911,     13,    163],\n",
      "        [   992,      0,   2039, 200951,    126,      4,   4673,      1,    526],\n",
      "        [   782,      0,   1314,   3258, 204548,      0,    251,      0,     28],\n",
      "        [     0,    132,    489,      1,    219, 209181,    536,    304,      4],\n",
      "        [   867,     68,  18957,  13514,     28,     22, 163831,  10646,     71],\n",
      "        [     0,    182,    194,      0,      0,      0,   7307, 201890,      0],\n",
      "        [  1573,      0,   1312,   5019,    349,     85,    115,      0, 202413]])\n"
     ]
    },
    {
     "name": "stderr",
     "output_type": "stream",
     "text": [
      "Metric Validation/Accuracy improved by 0.001 >= min_delta = 0.0. New best score: 0.986\n"
     ]
    },
    {
     "data": {
      "application/vnd.jupyter.widget-view+json": {
       "model_id": "a9afa08f70004ade8bf747f720cc3b3f",
       "version_major": 2,
       "version_minor": 0
      },
      "text/plain": [
       "Validation: |          | 0/? [00:00<?, ?it/s]"
      ]
     },
     "metadata": {},
     "output_type": "display_data"
    },
    {
     "name": "stdout",
     "output_type": "stream",
     "text": [
      "Epoch end: Validation, epoch number: 45\n",
      "ValidationEpoch/CM\n",
      " tensor([[197683,      0,   1758,   7829,   1378,      1,    743,      2,   1538],\n",
      "        [     0, 216985,    277,      0,     16,    148,     17,      0,      0],\n",
      "        [   973,     13, 265356,    725,    735,     95,  10026,     13,    163],\n",
      "        [   994,      0,   2039, 205608,    128,      4,   4767,      1,    526],\n",
      "        [   782,      0,   1314,   3261, 209318,      0,    252,      0,     28],\n",
      "        [     0,    132,    489,      1,    219, 213971,    536,    304,      4],\n",
      "        [   868,     68,  19088,  13739,     29,     22, 168127,  10717,     71],\n",
      "        [     0,    182,    194,      0,      0,      0,   7358, 206599,      0],\n",
      "        [  1580,      0,   1312,   5029,    349,     87,    115,      0, 207184]])\n"
     ]
    },
    {
     "name": "stderr",
     "output_type": "stream",
     "text": [
      "Metric Validation/Accuracy improved by 0.001 >= min_delta = 0.0. New best score: 0.987\n"
     ]
    },
    {
     "name": "stdout",
     "output_type": "stream",
     "text": [
      "Epoch end: Train, epoch number: 44\n",
      "TrainEpoch/CM\n",
      " tensor([[197683,      0,   1758,   7829,   1378,      1,    743,      2,   1538],\n",
      "        [     0, 216985,    277,      0,     16,    148,     17,      0,      0],\n",
      "        [   973,     13, 265356,    725,    735,     95,  10026,     13,    163],\n",
      "        [   994,      0,   2039, 205608,    128,      4,   4767,      1,    526],\n",
      "        [   782,      0,   1314,   3261, 209318,      0,    252,      0,     28],\n",
      "        [     0,    132,    489,      1,    219, 213971,    536,    304,      4],\n",
      "        [   868,     68,  19088,  13739,     29,     22, 168127,  10717,     71],\n",
      "        [     0,    182,    194,      0,      0,      0,   7358, 206599,      0],\n",
      "        [  1580,      0,   1312,   5029,    349,     87,    115,      0, 207184]])\n"
     ]
    },
    {
     "data": {
      "application/vnd.jupyter.widget-view+json": {
       "model_id": "002ca270ff554e98b9076d36ed28cfaa",
       "version_major": 2,
       "version_minor": 0
      },
      "text/plain": [
       "Validation: |          | 0/? [00:00<?, ?it/s]"
      ]
     },
     "metadata": {},
     "output_type": "display_data"
    },
    {
     "name": "stdout",
     "output_type": "stream",
     "text": [
      "Epoch end: Validation, epoch number: 46\n",
      "ValidationEpoch/CM\n",
      " tensor([[202357,      0,   1763,   7829,   1378,      1,    743,      2,   1544],\n",
      "        [     0, 221815,    277,      0,     16,    148,     17,      0,      0],\n",
      "        [   981,     13, 271406,    726,    736,     95,  10143,     13,    163],\n",
      "        [   994,      0,   2039, 210273,    128,      4,   4857,      1,    526],\n",
      "        [   784,      0,   1314,   3263, 214088,      0,    252,      0,     28],\n",
      "        [     0,    132,    489,      1,    219, 218761,    536,    304,      4],\n",
      "        [   868,     68,  19177,  13962,     29,     22, 172504,  10753,     71],\n",
      "        [     0,    182,    194,      0,      0,      0,   7398, 211319,      0],\n",
      "        [  1590,      0,   1313,   5031,    349,     87,    115,      0, 211961]])\n",
      "Epoch end: Train, epoch number: 45\n",
      "TrainEpoch/CM\n",
      " tensor([[202357,      0,   1763,   7829,   1378,      1,    743,      2,   1544],\n",
      "        [     0, 221815,    277,      0,     16,    148,     17,      0,      0],\n",
      "        [   981,     13, 271406,    726,    736,     95,  10143,     13,    163],\n",
      "        [   994,      0,   2039, 210273,    128,      4,   4857,      1,    526],\n",
      "        [   784,      0,   1314,   3263, 214088,      0,    252,      0,     28],\n",
      "        [     0,    132,    489,      1,    219, 218761,    536,    304,      4],\n",
      "        [   868,     68,  19177,  13962,     29,     22, 172504,  10753,     71],\n",
      "        [     0,    182,    194,      0,      0,      0,   7398, 211319,      0],\n",
      "        [  1590,      0,   1313,   5031,    349,     87,    115,      0, 211961]])\n"
     ]
    },
    {
     "data": {
      "application/vnd.jupyter.widget-view+json": {
       "model_id": "b6112011ae5e4ec983edc33e32bbced1",
       "version_major": 2,
       "version_minor": 0
      },
      "text/plain": [
       "Validation: |          | 0/? [00:00<?, ?it/s]"
      ]
     },
     "metadata": {},
     "output_type": "display_data"
    },
    {
     "name": "stdout",
     "output_type": "stream",
     "text": [
      "Epoch end: Validation, epoch number: 47\n",
      "ValidationEpoch/CM\n",
      " tensor([[207033,      0,   1766,   7829,   1378,      1,    743,      2,   1550],\n",
      "        [     0, 226644,    277,      0,     16,    148,     17,      0,      1],\n",
      "        [   992,     13, 277455,    726,    738,     95,  10258,     13,    163],\n",
      "        [   994,      0,   2039, 214950,    128,      4,   4935,      1,    526],\n",
      "        [   784,      0,   1314,   3263, 218861,      0,    253,      0,     28],\n",
      "        [     0,    133,    489,      1,    219, 223550,    536,    304,      4],\n",
      "        [   868,     68,  19302,  14193,     29,     22, 176830,  10796,     71],\n",
      "        [     0,    182,    194,      0,      0,      0,   7470, 216007,      0],\n",
      "        [  1600,      0,   1313,   5035,    349,     88,    115,      0, 216736]])\n",
      "Epoch end: Train, epoch number: 46\n",
      "TrainEpoch/CM\n",
      " tensor([[207033,      0,   1766,   7829,   1378,      1,    743,      2,   1550],\n",
      "        [     0, 226644,    277,      0,     16,    148,     17,      0,      1],\n",
      "        [   992,     13, 277455,    726,    738,     95,  10258,     13,    163],\n",
      "        [   994,      0,   2039, 214950,    128,      4,   4935,      1,    526],\n",
      "        [   784,      0,   1314,   3263, 218861,      0,    253,      0,     28],\n",
      "        [     0,    133,    489,      1,    219, 223550,    536,    304,      4],\n",
      "        [   868,     68,  19302,  14193,     29,     22, 176830,  10796,     71],\n",
      "        [     0,    182,    194,      0,      0,      0,   7470, 216007,      0],\n",
      "        [  1600,      0,   1313,   5035,    349,     88,    115,      0, 216736]])\n"
     ]
    },
    {
     "data": {
      "application/vnd.jupyter.widget-view+json": {
       "model_id": "99e69a2253b145309d500383307ae704",
       "version_major": 2,
       "version_minor": 0
      },
      "text/plain": [
       "Validation: |          | 0/? [00:00<?, ?it/s]"
      ]
     },
     "metadata": {},
     "output_type": "display_data"
    },
    {
     "name": "stdout",
     "output_type": "stream",
     "text": [
      "Epoch end: Validation, epoch number: 48\n",
      "ValidationEpoch/CM\n",
      " tensor([[211692,      0,   1771,   7830,   1378,      1,    743,      2,   1570],\n",
      "        [     0, 231474,    277,      0,     16,    148,     17,      0,      1],\n",
      "        [  1000,     13, 283458,    727,    741,     95,  10420,     13,    163],\n",
      "        [   994,      0,   2039, 219604,    128,      4,   5036,      1,    526],\n",
      "        [   784,      0,   1314,   3264, 223628,      0,    259,      0,     28],\n",
      "        [     0,    133,    489,      1,    219, 228340,    536,    304,      4],\n",
      "        [   868,     68,  19415,  14405,     29,     22, 181178,  10848,     71],\n",
      "        [     0,    182,    194,      0,      0,      0,   7512, 220725,      0],\n",
      "        [  1606,      0,   1313,   5036,    349,     88,    115,      0, 221519]])\n",
      "Epoch end: Train, epoch number: 47\n",
      "TrainEpoch/CM\n",
      " tensor([[211692,      0,   1771,   7830,   1378,      1,    743,      2,   1570],\n",
      "        [     0, 231474,    277,      0,     16,    148,     17,      0,      1],\n",
      "        [  1000,     13, 283458,    727,    741,     95,  10420,     13,    163],\n",
      "        [   994,      0,   2039, 219604,    128,      4,   5036,      1,    526],\n",
      "        [   784,      0,   1314,   3264, 223628,      0,    259,      0,     28],\n",
      "        [     0,    133,    489,      1,    219, 228340,    536,    304,      4],\n",
      "        [   868,     68,  19415,  14405,     29,     22, 181178,  10848,     71],\n",
      "        [     0,    182,    194,      0,      0,      0,   7512, 220725,      0],\n",
      "        [  1606,      0,   1313,   5036,    349,     88,    115,      0, 221519]])\n"
     ]
    },
    {
     "data": {
      "application/vnd.jupyter.widget-view+json": {
       "model_id": "3c10377fcf8a4798875f05d6d497a5e2",
       "version_major": 2,
       "version_minor": 0
      },
      "text/plain": [
       "Validation: |          | 0/? [00:00<?, ?it/s]"
      ]
     },
     "metadata": {},
     "output_type": "display_data"
    },
    {
     "name": "stdout",
     "output_type": "stream",
     "text": [
      "Epoch end: Validation, epoch number: 49\n",
      "ValidationEpoch/CM\n",
      " tensor([[216356,      0,   1780,   7830,   1378,      1,    743,      2,   1582],\n",
      "        [     0, 236304,    277,      0,     16,    148,     17,      0,      1],\n",
      "        [  1026,     13, 289495,    728,    742,     95,  10532,     13,    163],\n",
      "        [   994,      0,   2039, 224290,    128,      4,   5105,      1,    526],\n",
      "        [   784,      0,   1315,   3264, 228395,      0,    265,      0,     28],\n",
      "        [     0,    133,    489,      1,    219, 233130,    536,    304,      4],\n",
      "        [   868,     68,  19535,  14640,     31,     22, 185509,  10885,     71],\n",
      "        [     0,    182,    194,      0,      0,      0,   7558, 225439,      0],\n",
      "        [  1617,      0,   1313,   5038,    349,     88,    115,      0, 226296]])\n",
      "Epoch end: Train, epoch number: 48\n",
      "TrainEpoch/CM\n",
      " tensor([[216356,      0,   1780,   7830,   1378,      1,    743,      2,   1582],\n",
      "        [     0, 236304,    277,      0,     16,    148,     17,      0,      1],\n",
      "        [  1026,     13, 289495,    728,    742,     95,  10532,     13,    163],\n",
      "        [   994,      0,   2039, 224290,    128,      4,   5105,      1,    526],\n",
      "        [   784,      0,   1315,   3264, 228395,      0,    265,      0,     28],\n",
      "        [     0,    133,    489,      1,    219, 233130,    536,    304,      4],\n",
      "        [   868,     68,  19535,  14640,     31,     22, 185509,  10885,     71],\n",
      "        [     0,    182,    194,      0,      0,      0,   7558, 225439,      0],\n",
      "        [  1617,      0,   1313,   5038,    349,     88,    115,      0, 226296]])\n"
     ]
    },
    {
     "data": {
      "application/vnd.jupyter.widget-view+json": {
       "model_id": "5719ad83794b4cc09d9dd8c7cfedaeb9",
       "version_major": 2,
       "version_minor": 0
      },
      "text/plain": [
       "Validation: |          | 0/? [00:00<?, ?it/s]"
      ]
     },
     "metadata": {},
     "output_type": "display_data"
    },
    {
     "name": "stdout",
     "output_type": "stream",
     "text": [
      "Epoch end: Validation, epoch number: 50\n",
      "ValidationEpoch/CM\n",
      " tensor([[221033,      0,   1781,   7830,   1378,      1,    743,      2,   1589],\n",
      "        [     0, 241134,    277,      0,     16,    148,     17,      0,      1],\n",
      "        [  1035,     13, 295534,    728,    743,     95,  10660,     13,    163],\n",
      "        [   994,      0,   2039, 228955,    128,      4,   5195,      1,    526],\n",
      "        [   784,      0,   1315,   3264, 233165,      0,    269,      0,     28],\n",
      "        [     0,    133,    489,      1,    219, 237920,    536,    304,      4],\n",
      "        [   868,     68,  19618,  14847,     32,     22, 189900,  10928,     71],\n",
      "        [     0,    182,    194,      0,      0,      0,   7592, 230165,      0],\n",
      "        [  1628,      0,   1313,   5038,    349,     88,    115,      0, 231075]])\n",
      "Epoch end: Train, epoch number: 49\n"
     ]
    },
    {
     "name": "stderr",
     "output_type": "stream",
     "text": [
      "Monitored metric Validation/Accuracy did not improve in the last 5 records. Best score: 0.987. Signaling Trainer to stop.\n"
     ]
    },
    {
     "name": "stdout",
     "output_type": "stream",
     "text": [
      "TrainEpoch/CM\n",
      " tensor([[221033,      0,   1781,   7830,   1378,      1,    743,      2,   1589],\n",
      "        [     0, 241134,    277,      0,     16,    148,     17,      0,      1],\n",
      "        [  1035,     13, 295534,    728,    743,     95,  10660,     13,    163],\n",
      "        [   994,      0,   2039, 228955,    128,      4,   5195,      1,    526],\n",
      "        [   784,      0,   1315,   3264, 233165,      0,    269,      0,     28],\n",
      "        [     0,    133,    489,      1,    219, 237920,    536,    304,      4],\n",
      "        [   868,     68,  19618,  14847,     32,     22, 189900,  10928,     71],\n",
      "        [     0,    182,    194,      0,      0,      0,   7592, 230165,      0],\n",
      "        [  1628,      0,   1313,   5038,    349,     88,    115,      0, 231075]])\n"
     ]
    }
   ],
   "source": [
    "\n",
    "trainer.fit(model=model, train_dataloaders=train_dataloader, val_dataloaders=val_dataloader)\n"
   ]
  },
  {
   "cell_type": "code",
   "execution_count": 49,
   "metadata": {},
   "outputs": [
    {
     "name": "stderr",
     "output_type": "stream",
     "text": [
      "LOCAL_RANK: 0 - CUDA_VISIBLE_DEVICES: [0]\n"
     ]
    },
    {
     "name": "stdout",
     "output_type": "stream",
     "text": [
      "/home/<User>/repos/csg_is/training/official_logs/multi-layer_30_from_rp4_weights_30s_Xi_sensor_1_and_Heqing_device2/version_0/checkpoints/epoch=44-step=3195.ckpt\n",
      "tensor(0.9868, device='cuda:0')\n"
     ]
    },
    {
     "data": {
      "application/vnd.jupyter.widget-view+json": {
       "model_id": "9db9b5d0f45e4ef49a7386d39c8b7d52",
       "version_major": 2,
       "version_minor": 0
      },
      "text/plain": [
       "Testing: |          | 0/? [00:00<?, ?it/s]"
      ]
     },
     "metadata": {},
     "output_type": "display_data"
    },
    {
     "name": "stdout",
     "output_type": "stream",
     "text": [
      "Epoch end: Test, epoch number: 0\n",
      "TestEpoch/CM\n",
      " tensor([[ 957,    0,    0,    0,    0,    0,    0,    0,    0],\n",
      "        [   0,  904,    0,    0,    0,    0,    0,    0,    0],\n",
      "        [   2,    0, 1199,    0,    0,    0,   14,    0,    0],\n",
      "        [   0,    0,    0,  899,    0,    0,    9,    0,    0],\n",
      "        [   0,    0,    0,    0,  956,    0,    0,    0,    0],\n",
      "        [   0,    0,    0,    0,    0,  997,    0,    0,    0],\n",
      "        [   0,    0,   24,   40,    0,    0,  886,   11,    0],\n",
      "        [   0,    0,    0,    0,    0,    0,    5, 1000,    0],\n",
      "        [   3,    0,    0,    5,    0,    2,    0,    0,  945]])\n",
      "────────────────────────────────────────────────────────────────────────────────────────────────────────────────────────\n",
      "       Test metric             DataLoader 0\n",
      "────────────────────────────────────────────────────────────────────────────────────────────────────────────────────────\n",
      "      Test/Accuracy         0.9868288636207581\n",
      "      Test/F1Score           0.986780047416687\n",
      "        Test/Loss           0.04320938140153885\n",
      "     Test/Precision         0.9871439337730408\n",
      "       Test/Recall          0.9868288636207581\n",
      "   TestEpoch/Accuracy       0.9870476722717285\n",
      "    TestEpoch/F1Score       0.9869661331176758\n",
      "   TestEpoch/Precision      0.9871102571487427\n",
      "    TestEpoch/Recall        0.9870476722717285\n",
      "────────────────────────────────────────────────────────────────────────────────────────────────────────────────────────\n"
     ]
    },
    {
     "data": {
      "text/plain": [
       "[{'Test/Loss': 0.04320938140153885,\n",
       "  'Test/Accuracy': 0.9868288636207581,\n",
       "  'Test/Precision': 0.9871439337730408,\n",
       "  'Test/Recall': 0.9868288636207581,\n",
       "  'Test/F1Score': 0.986780047416687,\n",
       "  'TestEpoch/Accuracy': 0.9870476722717285,\n",
       "  'TestEpoch/Precision': 0.9871102571487427,\n",
       "  'TestEpoch/Recall': 0.9870476722717285,\n",
       "  'TestEpoch/F1Score': 0.9869661331176758}]"
      ]
     },
     "execution_count": 49,
     "metadata": {},
     "output_type": "execute_result"
    }
   ],
   "source": [
    "\n",
    "print(checkpoint_callback.best_model_path)   # prints path to the best model's checkpoint\n",
    "print(checkpoint_callback.best_model_score) # and prints it score\n",
    "best_model = MalwaresModelMLP.load_from_checkpoint(checkpoint_callback.best_model_path, input_size = vectors.shape[1]-1, output_size = len(label_encoder.classes_))\n",
    "\n",
    "trainer.test(best_model, dataloaders=val_dataloader)"
   ]
  },
  {
   "cell_type": "code",
   "execution_count": null,
   "metadata": {},
   "outputs": [],
   "source": [
    "vectors.columns.to_frame().to_csv(f\"weight_selected_{TIME_WINDOW}.csv\", index=False)"
   ]
  }
 ],
 "metadata": {
  "kernelspec": {
   "display_name": ".venv",
   "language": "python",
   "name": "python3"
  },
  "language_info": {
   "codemirror_mode": {
    "name": "ipython",
    "version": 3
   },
   "file_extension": ".py",
   "mimetype": "text/x-python",
   "name": "python",
   "nbconvert_exporter": "python",
   "pygments_lexer": "ipython3",
   "version": "3.10.12"
  }
 },
 "nbformat": 4,
 "nbformat_minor": 2
}
