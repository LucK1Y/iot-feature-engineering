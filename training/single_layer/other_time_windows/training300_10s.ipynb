{
 "cells": [
  {
   "cell_type": "markdown",
   "metadata": {},
   "source": [
    "# Idea\n",
    "Do some training"
   ]
  },
  {
   "cell_type": "code",
   "execution_count": 1,
   "metadata": {},
   "outputs": [],
   "source": [
    "SEED = 133\n",
    "TIME_WINDOW = \"10s\"\n",
    "DATA_FILE = '../../data/all_df_10s_Heqing_device2.csv'"
   ]
  },
  {
   "cell_type": "code",
   "execution_count": 2,
   "metadata": {},
   "outputs": [],
   "source": [
    "from pathlib import Path\n",
    "\n",
    "import numpy as np\n",
    "import pandas as pd\n",
    "import pickle\n",
    "\n",
    "assert Path(DATA_FILE).exists()"
   ]
  },
  {
   "cell_type": "code",
   "execution_count": 3,
   "metadata": {},
   "outputs": [],
   "source": [
    "import sys\n",
    "repo_base_path = Path(\"./../../../\").resolve()\n",
    "assert str(repo_base_path).endswith(\"csg_is\"), f\"{repo_base_path} is not a valid path to the CSG_IS repository\" \n",
    "\n",
    "sys.path.append(str(repo_base_path))\n",
    "sys.path.append(\"..\")\n",
    "\n",
    "# from py_dataset import get_all_files_df\n",
    "# from py_dataset import read_in_files\n",
    "from py_dataset import feature_plotting\n",
    "# from py_dataset import feature_selection\n",
    "# from py_dataset import net_feature_engineering\n",
    "# from py_dataset import entropy_feature_engineering\n",
    "# from py_dataset.classes import DataSource\n",
    "from py_dataset import sys_func\n",
    "\n",
    "from py_dataset.classes import DataSource\n",
    "\n"
   ]
  },
  {
   "cell_type": "code",
   "execution_count": 4,
   "metadata": {},
   "outputs": [],
   "source": [
    "LOG_PATH = (repo_base_path / \"training\" / \"official_logs\")\n",
    "LOG_NAME = f\"single-layer_300_{TIME_WINDOW}\"\n",
    "LOG_NAME_EXPERIMENT_2 = f\"single-layer_30_from_weights_{TIME_WINDOW}\"\n",
    "LOG_NAME_EXPERIMENT_3 = f\"multi-layer_30_from_weights_{TIME_WINDOW}\"\n",
    "\n",
    "assert LOG_PATH.exists()\n",
    "assert not (LOG_PATH / LOG_NAME).exists(), \"are you sure to run this again?\"\n",
    "assert not (LOG_PATH / LOG_NAME_EXPERIMENT_2).exists(), \"are you sure to run this again?\"\n",
    "assert not (LOG_PATH / LOG_NAME_EXPERIMENT_3).exists(), \"are you sure to run this again?\""
   ]
  },
  {
   "cell_type": "code",
   "execution_count": 5,
   "metadata": {},
   "outputs": [
    {
     "name": "stderr",
     "output_type": "stream",
     "text": [
      "/tmp/ipykernel_50881/1931635172.py:1: DtypeWarning: Columns (205) have mixed types. Specify dtype option on import or set low_memory=False.\n",
      "  df = pd.read_csv(DATA_FILE)\n"
     ]
    }
   ],
   "source": [
    "df = pd.read_csv(DATA_FILE)\n",
    "df.set_index(\"timestamp\", inplace=True)"
   ]
  },
  {
   "cell_type": "code",
   "execution_count": 6,
   "metadata": {},
   "outputs": [],
   "source": [
    "assert df[\"label\"].unique().shape == (10,)"
   ]
  },
  {
   "cell_type": "markdown",
   "metadata": {},
   "source": [
    "### Preprocessings\n",
    "- remove Null values\n",
    "- drop timestamp\n",
    "- labelEncode\n",
    "- normalize"
   ]
  },
  {
   "cell_type": "code",
   "execution_count": 7,
   "metadata": {},
   "outputs": [
    {
     "name": "stdout",
     "output_type": "stream",
     "text": [
      "(86419, 306)\n",
      "(14501, 306)\n"
     ]
    }
   ],
   "source": [
    "print(df.shape)\n",
    "old_df = df.copy()\n",
    "df.dropna(axis=0, how='any', inplace=True)\n",
    "\n",
    "print(df.shape)"
   ]
  },
  {
   "cell_type": "code",
   "execution_count": 8,
   "metadata": {},
   "outputs": [],
   "source": [
    "df.reset_index(inplace=True, drop=True)"
   ]
  },
  {
   "cell_type": "code",
   "execution_count": 9,
   "metadata": {},
   "outputs": [],
   "source": [
    "label_encoder = sys_func.create_label_encoder_for_labels()\n",
    "df['label'] = label_encoder.transform(df['label'])"
   ]
  },
  {
   "cell_type": "code",
   "execution_count": 10,
   "metadata": {},
   "outputs": [],
   "source": [
    "df = feature_plotting.test_transform_all_to_numeric_columns(df)"
   ]
  },
  {
   "cell_type": "code",
   "execution_count": 11,
   "metadata": {},
   "outputs": [],
   "source": [
    "cols_to_exclude_from_scaling = [\"label\"]\n",
    "vectors = feature_plotting.minmax_scale_features(df,remove_outliers_iqr_all_columns=False,\n",
    "                                                        cols_to_exclude_from_scaling=cols_to_exclude_from_scaling)\n",
    "# print(vectors.shape)\n",
    "# print(\" with dropped null: \", vectors.dropna(axis=0, how='any', inplace=False).shape)"
   ]
  },
  {
   "cell_type": "code",
   "execution_count": 12,
   "metadata": {},
   "outputs": [
    {
     "data": {
      "text/plain": [
       "(array([0, 1, 2, 3, 4, 5, 6, 7, 8]), array([0, 1, 2, 3, 4, 5, 6, 7, 8]))"
      ]
     },
     "execution_count": 12,
     "metadata": {},
     "output_type": "execute_result"
    }
   ],
   "source": [
    "df[\"label\"].unique(), vectors[\"label\"].unique()"
   ]
  },
  {
   "cell_type": "markdown",
   "metadata": {},
   "source": [
    "### Setup"
   ]
  },
  {
   "cell_type": "code",
   "execution_count": 13,
   "metadata": {},
   "outputs": [],
   "source": [
    "from torch.utils.data import Dataset, DataLoader\n",
    "import torch\n",
    "\n",
    "class CustomeDataset(Dataset):\n",
    "    def __init__(self, some_df:pd.DataFrame):\n",
    "        \n",
    "        self.x = torch.tensor(some_df.drop(columns=[\"label\"], inplace=False).values, dtype=torch.float32)\n",
    "        self.labels = torch.tensor(some_df[\"label\"].values, dtype=torch.uint8)\n",
    "\n",
    "    def __len__(self):\n",
    "        return len(self.x)\n",
    "\n",
    "    def __getitem__(self, idx):\n",
    "        # if torch.is_tensor(idx):\n",
    "        #     idx = idx.tolist()\n",
    "        # print(self.x[idx], self.labels[idx])\n",
    "        return self.x[idx], self.labels[idx]"
   ]
  },
  {
   "cell_type": "code",
   "execution_count": 14,
   "metadata": {},
   "outputs": [
    {
     "name": "stderr",
     "output_type": "stream",
     "text": [
      "GPU available: True (cuda), used: True\n",
      "TPU available: False, using: 0 TPU cores\n",
      "IPU available: False, using: 0 IPUs\n",
      "HPU available: False, using: 0 HPUs\n"
     ]
    }
   ],
   "source": [
    "from mlp_single_layer import MalwaresModelLinearLayer\n",
    "from torch.utils.data import DataLoader\n",
    "import lightning\n",
    "from sklearn.model_selection import train_test_split\n",
    "from lightning import loggers as pl_loggers\n",
    "from lightning.pytorch.callbacks.early_stopping import EarlyStopping\n",
    "from lightning.pytorch.callbacks.model_checkpoint import ModelCheckpoint\n",
    "\n",
    "tensorboard = pl_loggers.TensorBoardLogger(save_dir=LOG_PATH, name=LOG_NAME)\n",
    "\n",
    "# split into train and val\n",
    "train, val = train_test_split(vectors, test_size=0.2, random_state=SEED)\n",
    "\n",
    "train_dataset = CustomeDataset(train)\n",
    "train_dataloader = DataLoader(train_dataset, batch_size=500, shuffle=True, num_workers=7)\n",
    "\n",
    "val_dataset = CustomeDataset(val)\n",
    "val_dataloader = DataLoader(val_dataset, batch_size=500, shuffle=False, num_workers=7)\n",
    "\n",
    "# trainer = lightning.Trainer(fast_dev_run=100)\n",
    "monitor = \"Validation/Accuracy\"\n",
    "early_stop_callback = EarlyStopping(monitor=monitor, patience=5, verbose=True, mode=\"max\")\n",
    "checkpoint_callback = ModelCheckpoint(save_top_k=1, monitor=monitor, mode=\"max\")\n",
    "\n",
    "trainer = lightning.Trainer(max_epochs=150, callbacks=[early_stop_callback, checkpoint_callback], enable_checkpointing=True, logger=tensorboard) #logger=None, \n",
    "\n",
    "\n",
    "model = MalwaresModelLinearLayer(input_size = vectors.shape[1]-1, output_size = len(label_encoder.classes_), seed=SEED)\n",
    "\n",
    "torch.manual_seed(SEED)\n",
    "torch.cuda.manual_seed_all(SEED)\n"
   ]
  },
  {
   "cell_type": "code",
   "execution_count": 15,
   "metadata": {},
   "outputs": [
    {
     "name": "stderr",
     "output_type": "stream",
     "text": [
      "LOCAL_RANK: 0 - CUDA_VISIBLE_DEVICES: [0]\n",
      "\n",
      "  | Name          | Type                      | Params\n",
      "------------------------------------------------------------\n",
      "0 | train_metrics | MetricCollection          | 0     \n",
      "1 | val_metrics   | MetricCollection          | 0     \n",
      "2 | test_metrics  | MetricCollection          | 0     \n",
      "3 | cm            | MulticlassConfusionMatrix | 0     \n",
      "4 | criterion     | CrossEntropyLoss          | 0     \n",
      "5 | l1            | Linear                    | 2.8 K \n",
      "------------------------------------------------------------\n",
      "2.8 K     Trainable params\n",
      "0         Non-trainable params\n",
      "2.8 K     Total params\n",
      "0.011     Total estimated model params size (MB)\n"
     ]
    },
    {
     "data": {
      "application/vnd.jupyter.widget-view+json": {
       "model_id": "c5c29d73986349e589ad0f7bcbb6df62",
       "version_major": 2,
       "version_minor": 0
      },
      "text/plain": [
       "Sanity Checking: |          | 0/? [00:00<?, ?it/s]"
      ]
     },
     "metadata": {},
     "output_type": "display_data"
    },
    {
     "name": "stdout",
     "output_type": "stream",
     "text": [
      "Epoch end: Validation, epoch number: 0\n",
      "ValidationEpoch/CM\n",
      " tensor([[101,   0,   0,   0,   0,   0,   0,   0,   9],\n",
      "        [  1,   0,   0,   0,   0,   0,   0, 105,   0],\n",
      "        [ 91,   0,   0,   0,   0,   0,   0,  17,  20],\n",
      "        [123,   1,   0,   0,   0,   0,   0,   0,   5],\n",
      "        [107,   0,   0,   0,   0,   0,   0,   0,   5],\n",
      "        [ 58,   0,   0,   0,   0,   0,   0,  51,  14],\n",
      "        [ 75,   0,   0,   0,   0,   0,   0,   4,   3],\n",
      "        [ 75,   0,   0,   0,   0,   0,   0,   0,   2],\n",
      "        [127,   0,   5,   0,   0,   0,   0,   1,   0]])\n"
     ]
    },
    {
     "name": "stderr",
     "output_type": "stream",
     "text": [
      "/home/<User>/repos/csg_is/.venv/lib/python3.10/site-packages/lightning/pytorch/loops/fit_loop.py:298: The number of training batches (24) is smaller than the logging interval Trainer(log_every_n_steps=50). Set a lower value for log_every_n_steps if you want to see logs for the training epoch.\n"
     ]
    },
    {
     "data": {
      "application/vnd.jupyter.widget-view+json": {
       "model_id": "374ef27f7eb94c6aa90fc4c80aad96db",
       "version_major": 2,
       "version_minor": 0
      },
      "text/plain": [
       "Training: |          | 0/? [00:00<?, ?it/s]"
      ]
     },
     "metadata": {},
     "output_type": "display_data"
    },
    {
     "data": {
      "application/vnd.jupyter.widget-view+json": {
       "model_id": "d86226cb387d49f4bf8f15e172539203",
       "version_major": 2,
       "version_minor": 0
      },
      "text/plain": [
       "Validation: |          | 0/? [00:00<?, ?it/s]"
      ]
     },
     "metadata": {},
     "output_type": "display_data"
    },
    {
     "name": "stdout",
     "output_type": "stream",
     "text": [
      "Epoch end: Validation, epoch number: 1\n",
      "ValidationEpoch/CM\n",
      " tensor([[ 313,  128,  189,  419,  420,    2,   88,    0,   11],\n",
      "        [   1, 1963,    0,    0,    0,    1,    0,  171,    0],\n",
      "        [ 197,  194,  900,  218,  222,  161,   79,   20,   33],\n",
      "        [ 325,  159,  200,  488,  448,    5,   93,    0,    6],\n",
      "        [ 237,  149,  124,  354,  749,   10,   43,    0,    6],\n",
      "        [  87,  195,   68,    5,    0, 1264,    4,   75,   20],\n",
      "        [ 189,  134,  516,  239,  189,   83,  120,    5,    7],\n",
      "        [ 118,  110,    0,    0,    0,    4,    0,  943,    2],\n",
      "        [ 188,   37,   92,    0,    0,    0,    0,    2, 1679]])\n"
     ]
    },
    {
     "name": "stderr",
     "output_type": "stream",
     "text": [
      "Metric Validation/Accuracy improved. New best score: 0.644\n"
     ]
    },
    {
     "name": "stdout",
     "output_type": "stream",
     "text": [
      "Epoch end: Train, epoch number: 0\n",
      "TrainEpoch/CM\n",
      " tensor([[ 313,  128,  189,  419,  420,    2,   88,    0,   11],\n",
      "        [   1, 1963,    0,    0,    0,    1,    0,  171,    0],\n",
      "        [ 197,  194,  900,  218,  222,  161,   79,   20,   33],\n",
      "        [ 325,  159,  200,  488,  448,    5,   93,    0,    6],\n",
      "        [ 237,  149,  124,  354,  749,   10,   43,    0,    6],\n",
      "        [  87,  195,   68,    5,    0, 1264,    4,   75,   20],\n",
      "        [ 189,  134,  516,  239,  189,   83,  120,    5,    7],\n",
      "        [ 118,  110,    0,    0,    0,    4,    0,  943,    2],\n",
      "        [ 188,   37,   92,    0,    0,    0,    0,    2, 1679]])\n"
     ]
    },
    {
     "data": {
      "application/vnd.jupyter.widget-view+json": {
       "model_id": "9d671fe9764844e39749e4c8049eb93d",
       "version_major": 2,
       "version_minor": 0
      },
      "text/plain": [
       "Validation: |          | 0/? [00:00<?, ?it/s]"
      ]
     },
     "metadata": {},
     "output_type": "display_data"
    },
    {
     "name": "stdout",
     "output_type": "stream",
     "text": [
      "Epoch end: Validation, epoch number: 2\n",
      "ValidationEpoch/CM\n",
      " tensor([[ 445,  128,  349,  897,  814,    2,  384,    0,   11],\n",
      "        [   1, 3991,    0,    0,    0,    3,    0,  171,    0],\n",
      "        [ 212,  194, 2069,  371,  488,  248,  285,   20,   33],\n",
      "        [ 405,  159,  391, 1125,  865,    6,  362,    0,    6],\n",
      "        [ 252,  149,  273,  537, 1786,   15,  214,    0,    6],\n",
      "        [  87,  195,   91,    5,    0, 2836,    4,   75,   20],\n",
      "        [ 225,  134, 1073,  409,  404,  125,  500,    5,    7],\n",
      "        [ 118,  110,    0,    0,    0,    4,    0, 2043,    2],\n",
      "        [ 188,   37,   92,    0,    0,    0,    0,    2, 3544]])\n",
      "Epoch end: Train, epoch number: 1\n",
      "TrainEpoch/CM\n",
      " tensor([[ 445,  128,  349,  897,  814,    2,  384,    0,   11],\n",
      "        [   1, 3991,    0,    0,    0,    3,    0,  171,    0],\n",
      "        [ 212,  194, 2069,  371,  488,  248,  285,   20,   33],\n",
      "        [ 405,  159,  391, 1125,  865,    6,  362,    0,    6],\n",
      "        [ 252,  149,  273,  537, 1786,   15,  214,    0,    6],\n",
      "        [  87,  195,   91,    5,    0, 2836,    4,   75,   20],\n",
      "        [ 225,  134, 1073,  409,  404,  125,  500,    5,    7],\n",
      "        [ 118,  110,    0,    0,    0,    4,    0, 2043,    2],\n",
      "        [ 188,   37,   92,    0,    0,    0,    0,    2, 3544]])\n"
     ]
    },
    {
     "name": "stderr",
     "output_type": "stream",
     "text": [
      "Metric Validation/Accuracy improved by 0.010 >= min_delta = 0.0. New best score: 0.654\n"
     ]
    },
    {
     "data": {
      "application/vnd.jupyter.widget-view+json": {
       "model_id": "5c5e8dccf2454c53bb947ca813d9e0b8",
       "version_major": 2,
       "version_minor": 0
      },
      "text/plain": [
       "Validation: |          | 0/? [00:00<?, ?it/s]"
      ]
     },
     "metadata": {},
     "output_type": "display_data"
    },
    {
     "name": "stdout",
     "output_type": "stream",
     "text": [
      "Epoch end: Validation, epoch number: 3\n",
      "ValidationEpoch/CM\n",
      " tensor([[ 740,  128,  507, 1473, 1115,    2,  514,    0,   11],\n",
      "        [   1, 6016,    0,    0,    0,    8,    0,  171,    0],\n",
      "        [ 244,  194, 3474,  513,  654,  297,  387,   20,   33],\n",
      "        [ 578,  159,  553, 1963, 1142,    6,  507,    0,    6],\n",
      "        [ 293,  149,  414,  747, 2866,   20,  297,    0,    6],\n",
      "        [  87,  195,  115,    5,    0, 4407,    4,   75,   20],\n",
      "        [ 284,  134, 1740,  609,  579,  148,  776,    5,    7],\n",
      "        [ 118,  110,    0,    0,    0,    4,    0, 3143,    2],\n",
      "        [ 188,   37,   92,    0,    0,    0,    0,    2, 5409]])\n",
      "Epoch end: Train, epoch number: 2\n",
      "TrainEpoch/CM\n",
      " tensor([[ 740,  128,  507, 1473, 1115,    2,  514,    0,   11],\n",
      "        [   1, 6016,    0,    0,    0,    8,    0,  171,    0],\n",
      "        [ 244,  194, 3474,  513,  654,  297,  387,   20,   33],\n",
      "        [ 578,  159,  553, 1963, 1142,    6,  507,    0,    6],\n",
      "        [ 293,  149,  414,  747, 2866,   20,  297,    0,    6],\n",
      "        [  87,  195,  115,    5,    0, 4407,    4,   75,   20],\n",
      "        [ 284,  134, 1740,  609,  579,  148,  776,    5,    7],\n",
      "        [ 118,  110,    0,    0,    0,    4,    0, 3143,    2],\n",
      "        [ 188,   37,   92,    0,    0,    0,    0,    2, 5409]])\n"
     ]
    },
    {
     "name": "stderr",
     "output_type": "stream",
     "text": [
      "Metric Validation/Accuracy improved by 0.064 >= min_delta = 0.0. New best score: 0.718\n"
     ]
    },
    {
     "data": {
      "application/vnd.jupyter.widget-view+json": {
       "model_id": "26703fc9d7ff4a5680154f6038285155",
       "version_major": 2,
       "version_minor": 0
      },
      "text/plain": [
       "Validation: |          | 0/? [00:00<?, ?it/s]"
      ]
     },
     "metadata": {},
     "output_type": "display_data"
    },
    {
     "name": "stdout",
     "output_type": "stream",
     "text": [
      "Epoch end: Validation, epoch number: 4\n",
      "ValidationEpoch/CM\n",
      " tensor([[1339,  128,  602, 1953, 1275,    2,  640,    0,   11],\n",
      "        [   1, 8041,    0,    0,    0,   13,    0,  171,    0],\n",
      "        [ 286,  194, 4962,  607,  752,  333,  525,   20,   33],\n",
      "        [ 841,  159,  671, 2915, 1268,    6,  643,    0,    6],\n",
      "        [ 356,  149,  519,  806, 4130,   25,  361,    0,    6],\n",
      "        [  87,  195,  134,    5,    0, 5983,    4,   75,   20],\n",
      "        [ 387,  134, 2312,  794,  716,  167, 1160,    5,    7],\n",
      "        [ 118,  110,    0,    0,    0,    4,    0, 4243,    2],\n",
      "        [ 188,   37,   92,    0,    0,    0,    0,    2, 7274]])\n",
      "Epoch end: Train, epoch number: 3\n",
      "TrainEpoch/CM\n",
      " tensor([[1339,  128,  602, 1953, 1275,    2,  640,    0,   11],\n",
      "        [   1, 8041,    0,    0,    0,   13,    0,  171,    0],\n",
      "        [ 286,  194, 4962,  607,  752,  333,  525,   20,   33],\n",
      "        [ 841,  159,  671, 2915, 1268,    6,  643,    0,    6],\n",
      "        [ 356,  149,  519,  806, 4130,   25,  361,    0,    6],\n",
      "        [  87,  195,  134,    5,    0, 5983,    4,   75,   20],\n",
      "        [ 387,  134, 2312,  794,  716,  167, 1160,    5,    7],\n",
      "        [ 118,  110,    0,    0,    0,    4,    0, 4243,    2],\n",
      "        [ 188,   37,   92,    0,    0,    0,    0,    2, 7274]])\n"
     ]
    },
    {
     "name": "stderr",
     "output_type": "stream",
     "text": [
      "Metric Validation/Accuracy improved by 0.063 >= min_delta = 0.0. New best score: 0.781\n"
     ]
    },
    {
     "data": {
      "application/vnd.jupyter.widget-view+json": {
       "model_id": "cae0ecccb26e4820bcae168185cee57d",
       "version_major": 2,
       "version_minor": 0
      },
      "text/plain": [
       "Validation: |          | 0/? [00:00<?, ?it/s]"
      ]
     },
     "metadata": {},
     "output_type": "display_data"
    },
    {
     "name": "stdout",
     "output_type": "stream",
     "text": [
      "Epoch end: Validation, epoch number: 5\n",
      "ValidationEpoch/CM\n",
      " tensor([[ 1956,   128,   671,  2505,  1431,     2,   706,     0,    11],\n",
      "        [    1, 10066,     0,     0,     0,    18,     0,   171,     0],\n",
      "        [  325,   194,  6496,   698,   809,   360,   673,    20,    33],\n",
      "        [ 1068,   159,   721,  4021,  1355,     6,   768,     0,     6],\n",
      "        [  416,   149,   573,   886,  5432,    30,   420,     0,     6],\n",
      "        [   87,   195,   141,     5,     0,  7571,     4,    75,    20],\n",
      "        [  489,   134,  2827,  1019,   837,   182,  1582,     5,     7],\n",
      "        [  118,   110,     0,     0,     0,     4,     0,  5343,     2],\n",
      "        [  188,    37,    92,     0,     0,     0,     0,     2,  9139]])\n",
      "Epoch end: Train, epoch number: 4\n",
      "TrainEpoch/CM\n",
      " tensor([[ 1956,   128,   671,  2505,  1431,     2,   706,     0,    11],\n",
      "        [    1, 10066,     0,     0,     0,    18,     0,   171,     0],\n",
      "        [  325,   194,  6496,   698,   809,   360,   673,    20,    33],\n",
      "        [ 1068,   159,   721,  4021,  1355,     6,   768,     0,     6],\n",
      "        [  416,   149,   573,   886,  5432,    30,   420,     0,     6],\n",
      "        [   87,   195,   141,     5,     0,  7571,     4,    75,    20],\n",
      "        [  489,   134,  2827,  1019,   837,   182,  1582,     5,     7],\n",
      "        [  118,   110,     0,     0,     0,     4,     0,  5343,     2],\n",
      "        [  188,    37,    92,     0,     0,     0,     0,     2,  9139]])\n"
     ]
    },
    {
     "data": {
      "application/vnd.jupyter.widget-view+json": {
       "model_id": "6d0018411bba45ceb38ae97e638daf2d",
       "version_major": 2,
       "version_minor": 0
      },
      "text/plain": [
       "Validation: |          | 0/? [00:00<?, ?it/s]"
      ]
     },
     "metadata": {},
     "output_type": "display_data"
    },
    {
     "name": "stdout",
     "output_type": "stream",
     "text": [
      "Epoch end: Validation, epoch number: 6\n",
      "ValidationEpoch/CM\n",
      " tensor([[ 2622,   128,   714,  3100,  1511,     2,   782,     0,    11],\n",
      "        [    1, 12091,     0,     0,     0,    23,     0,   171,     0],\n",
      "        [  359,   194,  8061,   774,   839,   382,   842,    20,    33],\n",
      "        [ 1311,   159,   760,  5180,  1416,     6,   861,     0,     6],\n",
      "        [  481,   149,   620,   968,  6753,    35,   460,     0,     6],\n",
      "        [   87,   195,   146,     5,     0,  9161,     4,    75,    20],\n",
      "        [  580,   134,  3358,  1290,   920,   195,  1993,     5,     7],\n",
      "        [  118,   110,     0,     0,     0,     4,     0,  6443,     2],\n",
      "        [  188,    37,    92,     0,     0,     0,     0,     2, 11004]])\n",
      "Epoch end: Train, epoch number: 5\n",
      "TrainEpoch/CM\n",
      " tensor([[ 2622,   128,   714,  3100,  1511,     2,   782,     0,    11],\n",
      "        [    1, 12091,     0,     0,     0,    23,     0,   171,     0],\n",
      "        [  359,   194,  8061,   774,   839,   382,   842,    20,    33],\n",
      "        [ 1311,   159,   760,  5180,  1416,     6,   861,     0,     6],\n",
      "        [  481,   149,   620,   968,  6753,    35,   460,     0,     6],\n",
      "        [   87,   195,   146,     5,     0,  9161,     4,    75,    20],\n",
      "        [  580,   134,  3358,  1290,   920,   195,  1993,     5,     7],\n",
      "        [  118,   110,     0,     0,     0,     4,     0,  6443,     2],\n",
      "        [  188,    37,    92,     0,     0,     0,     0,     2, 11004]])\n"
     ]
    },
    {
     "name": "stderr",
     "output_type": "stream",
     "text": [
      "Metric Validation/Accuracy improved by 0.030 >= min_delta = 0.0. New best score: 0.810\n"
     ]
    },
    {
     "data": {
      "application/vnd.jupyter.widget-view+json": {
       "model_id": "390abd34decc41209276d83973d1f611",
       "version_major": 2,
       "version_minor": 0
      },
      "text/plain": [
       "Validation: |          | 0/? [00:00<?, ?it/s]"
      ]
     },
     "metadata": {},
     "output_type": "display_data"
    },
    {
     "name": "stdout",
     "output_type": "stream",
     "text": [
      "Epoch end: Validation, epoch number: 7\n",
      "ValidationEpoch/CM\n",
      " tensor([[ 3429,   128,   746,  3573,  1571,     2,   870,     0,    11],\n",
      "        [    1, 14116,     0,     0,     0,    28,     0,   171,     0],\n",
      "        [  388,   194,  9557,   842,   865,   404,  1097,    20,    33],\n",
      "        [ 1538,   159,   784,  6353,  1460,     6,   988,     0,     6],\n",
      "        [  526,   149,   656,  1035,  8114,    39,   507,     0,     6],\n",
      "        [   87,   195,   151,     5,     0, 10751,     4,    75,    20],\n",
      "        [  691,   134,  3811,  1515,   980,   206,  2533,     5,     7],\n",
      "        [  118,   110,     0,     0,     0,     4,     0,  7543,     2],\n",
      "        [  188,    37,    92,     0,     0,     0,     0,     2, 12869]])\n"
     ]
    },
    {
     "name": "stderr",
     "output_type": "stream",
     "text": [
      "Metric Validation/Accuracy improved by 0.013 >= min_delta = 0.0. New best score: 0.823\n"
     ]
    },
    {
     "name": "stdout",
     "output_type": "stream",
     "text": [
      "Epoch end: Train, epoch number: 6\n",
      "TrainEpoch/CM\n",
      " tensor([[ 3429,   128,   746,  3573,  1571,     2,   870,     0,    11],\n",
      "        [    1, 14116,     0,     0,     0,    28,     0,   171,     0],\n",
      "        [  388,   194,  9557,   842,   865,   404,  1097,    20,    33],\n",
      "        [ 1538,   159,   784,  6353,  1460,     6,   988,     0,     6],\n",
      "        [  526,   149,   656,  1035,  8114,    39,   507,     0,     6],\n",
      "        [   87,   195,   151,     5,     0, 10751,     4,    75,    20],\n",
      "        [  691,   134,  3811,  1515,   980,   206,  2533,     5,     7],\n",
      "        [  118,   110,     0,     0,     0,     4,     0,  7543,     2],\n",
      "        [  188,    37,    92,     0,     0,     0,     0,     2, 12869]])\n"
     ]
    },
    {
     "data": {
      "application/vnd.jupyter.widget-view+json": {
       "model_id": "6f0f7badc8fa466a9886376f6c9867d0",
       "version_major": 2,
       "version_minor": 0
      },
      "text/plain": [
       "Validation: |          | 0/? [00:00<?, ?it/s]"
      ]
     },
     "metadata": {},
     "output_type": "display_data"
    },
    {
     "name": "stdout",
     "output_type": "stream",
     "text": [
      "Epoch end: Validation, epoch number: 8\n",
      "ValidationEpoch/CM\n",
      " tensor([[ 4333,   128,   782,  3998,  1598,     2,   938,     0,    11],\n",
      "        [    1, 16141,     0,     0,     0,    33,     0,   171,     0],\n",
      "        [  415,   194, 11133,   908,   881,   425,  1287,    20,    33],\n",
      "        [ 1782,   159,   817,  7547,  1492,     6,  1080,     0,     6],\n",
      "        [  569,   149,   693,  1099,  9482,    41,   553,     0,     6],\n",
      "        [   87,   195,   154,     5,     0, 12343,     4,    75,    20],\n",
      "        [  800,   134,  4274,  1755,  1034,   220,  3053,     5,     7],\n",
      "        [  118,   110,     0,     0,     0,     4,     0,  8643,     2],\n",
      "        [  188,    37,    92,     0,     0,     0,     0,     2, 14734]])\n",
      "Epoch end: Train, epoch number: 7\n",
      "TrainEpoch/CM\n",
      " tensor([[ 4333,   128,   782,  3998,  1598,     2,   938,     0,    11],\n",
      "        [    1, 16141,     0,     0,     0,    33,     0,   171,     0],\n",
      "        [  415,   194, 11133,   908,   881,   425,  1287,    20,    33],\n",
      "        [ 1782,   159,   817,  7547,  1492,     6,  1080,     0,     6],\n",
      "        [  569,   149,   693,  1099,  9482,    41,   553,     0,     6],\n",
      "        [   87,   195,   154,     5,     0, 12343,     4,    75,    20],\n",
      "        [  800,   134,  4274,  1755,  1034,   220,  3053,     5,     7],\n",
      "        [  118,   110,     0,     0,     0,     4,     0,  8643,     2],\n",
      "        [  188,    37,    92,     0,     0,     0,     0,     2, 14734]])\n"
     ]
    },
    {
     "name": "stderr",
     "output_type": "stream",
     "text": [
      "Metric Validation/Accuracy improved by 0.012 >= min_delta = 0.0. New best score: 0.834\n"
     ]
    },
    {
     "data": {
      "application/vnd.jupyter.widget-view+json": {
       "model_id": "dcc14005d4704bf791f6fa1d94fbc27d",
       "version_major": 2,
       "version_minor": 0
      },
      "text/plain": [
       "Validation: |          | 0/? [00:00<?, ?it/s]"
      ]
     },
     "metadata": {},
     "output_type": "display_data"
    },
    {
     "name": "stdout",
     "output_type": "stream",
     "text": [
      "Epoch end: Validation, epoch number: 9\n",
      "ValidationEpoch/CM\n",
      " tensor([[ 5300,   128,   813,  4382,  1619,     2,   995,     0,    11],\n",
      "        [    1, 18166,     0,     0,     0,    38,     0,   171,     0],\n",
      "        [  464,   194, 12600,   950,   889,   449,  1593,    20,    33],\n",
      "        [ 2239,   159,   848,  8563,  1512,     6,  1151,     0,     6],\n",
      "        [  651,   149,   730,  1147, 10831,    42,   596,     0,     6],\n",
      "        [   87,   195,   162,     5,     0, 13930,     4,    75,    20],\n",
      "        [  969,   134,  4694,  1950,  1075,   233,  3615,     5,     7],\n",
      "        [  118,   110,     0,     0,     0,     4,     0,  9743,     2],\n",
      "        [  188,    37,    92,     0,     0,     0,     0,     2, 16599]])\n",
      "Epoch end: Train, epoch number: 8\n",
      "TrainEpoch/CM\n",
      " tensor([[ 5300,   128,   813,  4382,  1619,     2,   995,     0,    11],\n",
      "        [    1, 18166,     0,     0,     0,    38,     0,   171,     0],\n",
      "        [  464,   194, 12600,   950,   889,   449,  1593,    20,    33],\n",
      "        [ 2239,   159,   848,  8563,  1512,     6,  1151,     0,     6],\n",
      "        [  651,   149,   730,  1147, 10831,    42,   596,     0,     6],\n",
      "        [   87,   195,   162,     5,     0, 13930,     4,    75,    20],\n",
      "        [  969,   134,  4694,  1950,  1075,   233,  3615,     5,     7],\n",
      "        [  118,   110,     0,     0,     0,     4,     0,  9743,     2],\n",
      "        [  188,    37,    92,     0,     0,     0,     0,     2, 16599]])\n"
     ]
    },
    {
     "data": {
      "application/vnd.jupyter.widget-view+json": {
       "model_id": "c3564ac637ff4af8a26fb4624d7170a2",
       "version_major": 2,
       "version_minor": 0
      },
      "text/plain": [
       "Validation: |          | 0/? [00:00<?, ?it/s]"
      ]
     },
     "metadata": {},
     "output_type": "display_data"
    },
    {
     "name": "stdout",
     "output_type": "stream",
     "text": [
      "Epoch end: Validation, epoch number: 10\n",
      "ValidationEpoch/CM\n",
      " tensor([[ 6336,   128,   842,  4706,  1639,     2,  1046,     0,    11],\n",
      "        [    1, 20191,     0,     0,     0,    43,     0,   171,     0],\n",
      "        [  508,   194, 14178,   984,   897,   460,  1814,    20,    33],\n",
      "        [ 2622,   159,   870,  9662,  1526,     6,  1228,     0,     6],\n",
      "        [  695,   149,   769,  1182, 12238,    43,   630,     0,     6],\n",
      "        [   87,   195,   169,     5,     0, 15518,     4,    75,    20],\n",
      "        [ 1122,   134,  5155,  2156,  1121,   245,  4137,     5,     7],\n",
      "        [  118,   110,     0,     0,     0,     4,     0, 10843,     2],\n",
      "        [  188,    37,    92,     0,     0,     0,     0,     2, 18464]])\n",
      "Epoch end: Train, epoch number: 9\n",
      "TrainEpoch/CM\n",
      " tensor([[ 6336,   128,   842,  4706,  1639,     2,  1046,     0,    11],\n",
      "        [    1, 20191,     0,     0,     0,    43,     0,   171,     0],\n",
      "        [  508,   194, 14178,   984,   897,   460,  1814,    20,    33],\n",
      "        [ 2622,   159,   870,  9662,  1526,     6,  1228,     0,     6],\n",
      "        [  695,   149,   769,  1182, 12238,    43,   630,     0,     6],\n",
      "        [   87,   195,   169,     5,     0, 15518,     4,    75,    20],\n",
      "        [ 1122,   134,  5155,  2156,  1121,   245,  4137,     5,     7],\n",
      "        [  118,   110,     0,     0,     0,     4,     0, 10843,     2],\n",
      "        [  188,    37,    92,     0,     0,     0,     0,     2, 18464]])\n"
     ]
    },
    {
     "name": "stderr",
     "output_type": "stream",
     "text": [
      "Metric Validation/Accuracy improved by 0.016 >= min_delta = 0.0. New best score: 0.850\n"
     ]
    },
    {
     "data": {
      "application/vnd.jupyter.widget-view+json": {
       "model_id": "32a8832230ea434fa68e79cd2344dc15",
       "version_major": 2,
       "version_minor": 0
      },
      "text/plain": [
       "Validation: |          | 0/? [00:00<?, ?it/s]"
      ]
     },
     "metadata": {},
     "output_type": "display_data"
    },
    {
     "name": "stdout",
     "output_type": "stream",
     "text": [
      "Epoch end: Validation, epoch number: 11\n",
      "ValidationEpoch/CM\n",
      " tensor([[ 7331,   128,   872,  5070,  1659,     2,  1097,     0,    11],\n",
      "        [    1, 22216,     0,     0,     0,    48,     0,   171,     0],\n",
      "        [  530,   194, 15818,  1030,   909,   476,  1974,    20,    33],\n",
      "        [ 2852,   159,   890, 10908,  1539,     6,  1314,     0,     6],\n",
      "        [  724,   149,   809,  1226, 13652,    43,   663,     0,     6],\n",
      "        [   87,   195,   173,     5,     0, 17109,     4,    75,    20],\n",
      "        [ 1214,   134,  5617,  2401,  1155,   254,  4695,     5,     7],\n",
      "        [  118,   110,     0,     0,     0,     4,     0, 11943,     2],\n",
      "        [  188,    37,    92,     0,     0,     0,     0,     2, 20329]])\n",
      "Epoch end: Train, epoch number: 10\n",
      "TrainEpoch/CM\n",
      " tensor([[ 7331,   128,   872,  5070,  1659,     2,  1097,     0,    11],\n",
      "        [    1, 22216,     0,     0,     0,    48,     0,   171,     0],\n",
      "        [  530,   194, 15818,  1030,   909,   476,  1974,    20,    33],\n",
      "        [ 2852,   159,   890, 10908,  1539,     6,  1314,     0,     6],\n",
      "        [  724,   149,   809,  1226, 13652,    43,   663,     0,     6],\n",
      "        [   87,   195,   173,     5,     0, 17109,     4,    75,    20],\n",
      "        [ 1214,   134,  5617,  2401,  1155,   254,  4695,     5,     7],\n",
      "        [  118,   110,     0,     0,     0,     4,     0, 11943,     2],\n",
      "        [  188,    37,    92,     0,     0,     0,     0,     2, 20329]])\n"
     ]
    },
    {
     "data": {
      "application/vnd.jupyter.widget-view+json": {
       "model_id": "e19e1fc3d68a458f9a07eb85f68bf90d",
       "version_major": 2,
       "version_minor": 0
      },
      "text/plain": [
       "Validation: |          | 0/? [00:00<?, ?it/s]"
      ]
     },
     "metadata": {},
     "output_type": "display_data"
    },
    {
     "name": "stdout",
     "output_type": "stream",
     "text": [
      "Epoch end: Validation, epoch number: 12\n",
      "ValidationEpoch/CM\n",
      " tensor([[ 8405,   128,   896,  5360,  1673,     2,  1155,     0,    11],\n",
      "        [    1, 24241,     0,     0,     0,    53,     0,   171,     0],\n",
      "        [  555,   194, 17434,  1067,   919,   488,  2170,    20,    33],\n",
      "        [ 3088,   159,   917, 12148,  1557,     6,  1388,     0,     6],\n",
      "        [  749,   149,   844,  1263, 15080,    43,   698,     0,     6],\n",
      "        [   87,   195,   176,     5,     0, 18701,     4,    75,    20],\n",
      "        [ 1321,   134,  6073,  2620,  1189,   262,  5271,     5,     7],\n",
      "        [  118,   110,     0,     0,     0,     4,     0, 13043,     2],\n",
      "        [  188,    37,    92,     0,     0,     0,     0,     2, 22194]])\n",
      "Epoch end: Train, epoch number: 11\n",
      "TrainEpoch/CM\n",
      " tensor([[ 8405,   128,   896,  5360,  1673,     2,  1155,     0,    11],\n",
      "        [    1, 24241,     0,     0,     0,    53,     0,   171,     0],\n",
      "        [  555,   194, 17434,  1067,   919,   488,  2170,    20,    33],\n",
      "        [ 3088,   159,   917, 12148,  1557,     6,  1388,     0,     6],\n",
      "        [  749,   149,   844,  1263, 15080,    43,   698,     0,     6],\n",
      "        [   87,   195,   176,     5,     0, 18701,     4,    75,    20],\n",
      "        [ 1321,   134,  6073,  2620,  1189,   262,  5271,     5,     7],\n",
      "        [  118,   110,     0,     0,     0,     4,     0, 13043,     2],\n",
      "        [  188,    37,    92,     0,     0,     0,     0,     2, 22194]])\n"
     ]
    },
    {
     "name": "stderr",
     "output_type": "stream",
     "text": [
      "Metric Validation/Accuracy improved by 0.008 >= min_delta = 0.0. New best score: 0.858\n"
     ]
    },
    {
     "data": {
      "application/vnd.jupyter.widget-view+json": {
       "model_id": "96b32f2589b14c35be787166ed9d4f26",
       "version_major": 2,
       "version_minor": 0
      },
      "text/plain": [
       "Validation: |          | 0/? [00:00<?, ?it/s]"
      ]
     },
     "metadata": {},
     "output_type": "display_data"
    },
    {
     "name": "stdout",
     "output_type": "stream",
     "text": [
      "Epoch end: Validation, epoch number: 13\n",
      "ValidationEpoch/CM\n",
      " tensor([[ 9489,   128,   917,  5640,  1689,     2,  1214,     0,    11],\n",
      "        [    1, 26266,     0,     0,     0,    58,     0,   171,     0],\n",
      "        [  587,   194, 19046,  1099,   921,   496,  2380,    20,    33],\n",
      "        [ 3338,   159,   929, 13396,  1568,     6,  1462,     0,     6],\n",
      "        [  792,   149,   871,  1295, 16501,    43,   735,     0,     6],\n",
      "        [   87,   195,   179,     5,     0, 20293,     4,    75,    20],\n",
      "        [ 1426,   134,  6496,  2846,  1218,   269,  5881,     5,     7],\n",
      "        [  118,   110,     0,     0,     0,     4,     0, 14143,     2],\n",
      "        [  188,    37,    92,     0,     0,     0,     0,     2, 24059]])\n",
      "Epoch end: Train, epoch number: 12\n",
      "TrainEpoch/CM\n",
      " tensor([[ 9489,   128,   917,  5640,  1689,     2,  1214,     0,    11],\n",
      "        [    1, 26266,     0,     0,     0,    58,     0,   171,     0],\n",
      "        [  587,   194, 19046,  1099,   921,   496,  2380,    20,    33],\n",
      "        [ 3338,   159,   929, 13396,  1568,     6,  1462,     0,     6],\n",
      "        [  792,   149,   871,  1295, 16501,    43,   735,     0,     6],\n",
      "        [   87,   195,   179,     5,     0, 20293,     4,    75,    20],\n",
      "        [ 1426,   134,  6496,  2846,  1218,   269,  5881,     5,     7],\n",
      "        [  118,   110,     0,     0,     0,     4,     0, 14143,     2],\n",
      "        [  188,    37,    92,     0,     0,     0,     0,     2, 24059]])\n"
     ]
    },
    {
     "name": "stderr",
     "output_type": "stream",
     "text": [
      "Metric Validation/Accuracy improved by 0.009 >= min_delta = 0.0. New best score: 0.867\n"
     ]
    },
    {
     "data": {
      "application/vnd.jupyter.widget-view+json": {
       "model_id": "4b3a5cf4e8c84a4186cb19e19f8aaa4f",
       "version_major": 2,
       "version_minor": 0
      },
      "text/plain": [
       "Validation: |          | 0/? [00:00<?, ?it/s]"
      ]
     },
     "metadata": {},
     "output_type": "display_data"
    },
    {
     "name": "stdout",
     "output_type": "stream",
     "text": [
      "Epoch end: Validation, epoch number: 14\n",
      "ValidationEpoch/CM\n",
      " tensor([[10651,   128,   942,  5867,  1696,     2,  1253,     0,    11],\n",
      "        [    1, 28291,     0,     0,     0,    63,     0,   171,     0],\n",
      "        [  604,   194, 20698,  1134,   927,   507,  2555,    20,    33],\n",
      "        [ 3624,   159,   945, 14606,  1584,     6,  1529,     0,     6],\n",
      "        [  817,   149,   898,  1335, 17939,    43,   765,     0,     6],\n",
      "        [   87,   195,   181,     5,     0, 21886,     4,    75,    20],\n",
      "        [ 1552,   134,  6919,  3062,  1247,   278,  6478,     5,     7],\n",
      "        [  118,   110,     0,     0,     0,     4,     0, 15243,     2],\n",
      "        [  188,    37,    92,     0,     0,     0,     0,     2, 25924]])\n",
      "Epoch end: Train, epoch number: 13\n",
      "TrainEpoch/CM\n",
      " tensor([[10651,   128,   942,  5867,  1696,     2,  1253,     0,    11],\n",
      "        [    1, 28291,     0,     0,     0,    63,     0,   171,     0],\n",
      "        [  604,   194, 20698,  1134,   927,   507,  2555,    20,    33],\n",
      "        [ 3624,   159,   945, 14606,  1584,     6,  1529,     0,     6],\n",
      "        [  817,   149,   898,  1335, 17939,    43,   765,     0,     6],\n",
      "        [   87,   195,   181,     5,     0, 21886,     4,    75,    20],\n",
      "        [ 1552,   134,  6919,  3062,  1247,   278,  6478,     5,     7],\n",
      "        [  118,   110,     0,     0,     0,     4,     0, 15243,     2],\n",
      "        [  188,    37,    92,     0,     0,     0,     0,     2, 25924]])\n"
     ]
    },
    {
     "name": "stderr",
     "output_type": "stream",
     "text": [
      "Metric Validation/Accuracy improved by 0.000 >= min_delta = 0.0. New best score: 0.867\n"
     ]
    },
    {
     "data": {
      "application/vnd.jupyter.widget-view+json": {
       "model_id": "8c0e5bb817f14fc78d214f965b4acf45",
       "version_major": 2,
       "version_minor": 0
      },
      "text/plain": [
       "Validation: |          | 0/? [00:00<?, ?it/s]"
      ]
     },
     "metadata": {},
     "output_type": "display_data"
    },
    {
     "name": "stdout",
     "output_type": "stream",
     "text": [
      "Epoch end: Validation, epoch number: 15\n",
      "ValidationEpoch/CM\n",
      " tensor([[11763,   128,   958,  6146,  1700,     2,  1302,     0,    11],\n",
      "        [    1, 30316,     0,     0,     0,    68,     0,   171,     0],\n",
      "        [  629,   194, 22329,  1168,   930,   517,  2748,    20,    33],\n",
      "        [ 3869,   159,   954, 15861,  1593,     6,  1606,     0,     6],\n",
      "        [  843,   149,   919,  1365, 19386,    43,   801,     0,     6],\n",
      "        [   87,   195,   183,     5,     0, 23478,     5,    75,    20],\n",
      "        [ 1662,   134,  7313,  3274,  1264,   287,  7136,     5,     7],\n",
      "        [  118,   110,     0,     0,     0,     4,     0, 16343,     2],\n",
      "        [  188,    37,    92,     0,     0,     0,     0,     2, 27789]])\n",
      "Epoch end: Train, epoch number: 14\n"
     ]
    },
    {
     "name": "stderr",
     "output_type": "stream",
     "text": [
      "Metric Validation/Accuracy improved by 0.006 >= min_delta = 0.0. New best score: 0.873\n"
     ]
    },
    {
     "name": "stdout",
     "output_type": "stream",
     "text": [
      "TrainEpoch/CM\n",
      " tensor([[11763,   128,   958,  6146,  1700,     2,  1302,     0,    11],\n",
      "        [    1, 30316,     0,     0,     0,    68,     0,   171,     0],\n",
      "        [  629,   194, 22329,  1168,   930,   517,  2748,    20,    33],\n",
      "        [ 3869,   159,   954, 15861,  1593,     6,  1606,     0,     6],\n",
      "        [  843,   149,   919,  1365, 19386,    43,   801,     0,     6],\n",
      "        [   87,   195,   183,     5,     0, 23478,     5,    75,    20],\n",
      "        [ 1662,   134,  7313,  3274,  1264,   287,  7136,     5,     7],\n",
      "        [  118,   110,     0,     0,     0,     4,     0, 16343,     2],\n",
      "        [  188,    37,    92,     0,     0,     0,     0,     2, 27789]])\n"
     ]
    },
    {
     "data": {
      "application/vnd.jupyter.widget-view+json": {
       "model_id": "d1ccffd8b66c459e8c73349c6d787ef8",
       "version_major": 2,
       "version_minor": 0
      },
      "text/plain": [
       "Validation: |          | 0/? [00:00<?, ?it/s]"
      ]
     },
     "metadata": {},
     "output_type": "display_data"
    },
    {
     "name": "stdout",
     "output_type": "stream",
     "text": [
      "Epoch end: Validation, epoch number: 16\n",
      "ValidationEpoch/CM\n",
      " tensor([[12959,   128,   976,  6343,  1703,     2,  1348,     0,    11],\n",
      "        [    1, 32341,     0,     0,     0,    73,     0,   171,     0],\n",
      "        [  648,   194, 23963,  1193,   930,   525,  2958,    20,    33],\n",
      "        [ 4130,   159,   964, 17114,  1601,     6,  1669,     0,     6],\n",
      "        [  863,   149,   940,  1384, 20857,    43,   830,     0,     6],\n",
      "        [   87,   195,   187,     5,     0, 25069,     5,    75,    20],\n",
      "        [ 1789,   134,  7693,  3467,  1281,   296,  7810,     5,     7],\n",
      "        [  118,   110,     0,     0,     0,     4,     0, 17443,     2],\n",
      "        [  188,    37,    92,     0,     0,     0,     0,     2, 29654]])\n",
      "Epoch end: Train, epoch number: 15\n",
      "TrainEpoch/CM\n",
      " tensor([[12959,   128,   976,  6343,  1703,     2,  1348,     0,    11],\n",
      "        [    1, 32341,     0,     0,     0,    73,     0,   171,     0],\n",
      "        [  648,   194, 23963,  1193,   930,   525,  2958,    20,    33],\n",
      "        [ 4130,   159,   964, 17114,  1601,     6,  1669,     0,     6],\n",
      "        [  863,   149,   940,  1384, 20857,    43,   830,     0,     6],\n",
      "        [   87,   195,   187,     5,     0, 25069,     5,    75,    20],\n",
      "        [ 1789,   134,  7693,  3467,  1281,   296,  7810,     5,     7],\n",
      "        [  118,   110,     0,     0,     0,     4,     0, 17443,     2],\n",
      "        [  188,    37,    92,     0,     0,     0,     0,     2, 29654]])\n"
     ]
    },
    {
     "name": "stderr",
     "output_type": "stream",
     "text": [
      "Metric Validation/Accuracy improved by 0.006 >= min_delta = 0.0. New best score: 0.879\n"
     ]
    },
    {
     "data": {
      "application/vnd.jupyter.widget-view+json": {
       "model_id": "6beb4cdd15094388b62a1fb499962eb6",
       "version_major": 2,
       "version_minor": 0
      },
      "text/plain": [
       "Validation: |          | 0/? [00:00<?, ?it/s]"
      ]
     },
     "metadata": {},
     "output_type": "display_data"
    },
    {
     "name": "stdout",
     "output_type": "stream",
     "text": [
      "Epoch end: Validation, epoch number: 17\n",
      "ValidationEpoch/CM\n",
      " tensor([[14170,   128,   991,  6543,  1703,     2,  1382,     0,    11],\n",
      "        [    1, 34367,     0,     0,     0,    77,     0,   171,     0],\n",
      "        [  668,   194, 25550,  1216,   930,   535,  3214,    20,    33],\n",
      "        [ 4513,   159,   969, 18238,  1608,     6,  1745,     0,     6],\n",
      "        [  884,   149,   964,  1403, 22331,    43,   852,     0,     6],\n",
      "        [   87,   195,   189,     5,     0, 26661,     6,    75,    20],\n",
      "        [ 1922,   134,  8072,  3649,  1294,   304,  8495,     5,     7],\n",
      "        [  118,   110,     0,     0,     0,     4,     0, 18543,     2],\n",
      "        [  188,    37,    92,     0,     0,     0,     0,     2, 31519]])\n",
      "Epoch end: Train, epoch number: 16\n",
      "TrainEpoch/CM\n",
      " tensor([[14170,   128,   991,  6543,  1703,     2,  1382,     0,    11],\n",
      "        [    1, 34367,     0,     0,     0,    77,     0,   171,     0],\n",
      "        [  668,   194, 25550,  1216,   930,   535,  3214,    20,    33],\n",
      "        [ 4513,   159,   969, 18238,  1608,     6,  1745,     0,     6],\n",
      "        [  884,   149,   964,  1403, 22331,    43,   852,     0,     6],\n",
      "        [   87,   195,   189,     5,     0, 26661,     6,    75,    20],\n",
      "        [ 1922,   134,  8072,  3649,  1294,   304,  8495,     5,     7],\n",
      "        [  118,   110,     0,     0,     0,     4,     0, 18543,     2],\n",
      "        [  188,    37,    92,     0,     0,     0,     0,     2, 31519]])\n"
     ]
    },
    {
     "data": {
      "application/vnd.jupyter.widget-view+json": {
       "model_id": "749ddc0a417c49b3a3208cc914fe60c3",
       "version_major": 2,
       "version_minor": 0
      },
      "text/plain": [
       "Validation: |          | 0/? [00:00<?, ?it/s]"
      ]
     },
     "metadata": {},
     "output_type": "display_data"
    },
    {
     "name": "stdout",
     "output_type": "stream",
     "text": [
      "Epoch end: Validation, epoch number: 18\n",
      "ValidationEpoch/CM\n",
      " tensor([[15342,   128,  1007,  6770,  1706,     2,  1424,     0,    11],\n",
      "        [    1, 36392,     0,     0,     0,    82,     0,   171,     0],\n",
      "        [  669,   194, 27070,  1241,   930,   545,  3554,    20,    33],\n",
      "        [ 4772,   159,   978, 19472,  1615,     6,  1831,     0,     6],\n",
      "        [  894,   149,   989,  1426, 23802,    43,   883,     0,     6],\n",
      "        [   87,   195,   190,     5,     0, 28252,     9,    75,    20],\n",
      "        [ 2018,   134,  8408,  3850,  1302,   312,  9246,     5,     7],\n",
      "        [  118,   110,     0,     0,     0,     4,     0, 19643,     2],\n",
      "        [  188,    37,    92,     0,     0,     0,     0,     2, 33384]])\n",
      "Epoch end: Train, epoch number: 17\n",
      "TrainEpoch/CM\n",
      " tensor([[15342,   128,  1007,  6770,  1706,     2,  1424,     0,    11],\n",
      "        [    1, 36392,     0,     0,     0,    82,     0,   171,     0],\n",
      "        [  669,   194, 27070,  1241,   930,   545,  3554,    20,    33],\n",
      "        [ 4772,   159,   978, 19472,  1615,     6,  1831,     0,     6],\n",
      "        [  894,   149,   989,  1426, 23802,    43,   883,     0,     6],\n",
      "        [   87,   195,   190,     5,     0, 28252,     9,    75,    20],\n",
      "        [ 2018,   134,  8408,  3850,  1302,   312,  9246,     5,     7],\n",
      "        [  118,   110,     0,     0,     0,     4,     0, 19643,     2],\n",
      "        [  188,    37,    92,     0,     0,     0,     0,     2, 33384]])\n"
     ]
    },
    {
     "data": {
      "application/vnd.jupyter.widget-view+json": {
       "model_id": "ca35746d1e0d434f87a046787002e25f",
       "version_major": 2,
       "version_minor": 0
      },
      "text/plain": [
       "Validation: |          | 0/? [00:00<?, ?it/s]"
      ]
     },
     "metadata": {},
     "output_type": "display_data"
    },
    {
     "name": "stdout",
     "output_type": "stream",
     "text": [
      "Epoch end: Validation, epoch number: 19\n",
      "ValidationEpoch/CM\n",
      " tensor([[16555,   128,  1020,  6962,  1708,     2,  1464,     0,    11],\n",
      "        [    1, 38417,     0,     0,     0,    87,     0,   171,     0],\n",
      "        [  678,   194, 28582,  1261,   930,   552,  3902,    20,    33],\n",
      "        [ 5040,   159,   984, 20702,  1623,     6,  1914,     0,     6],\n",
      "        [  909,   149,  1006,  1450, 25274,    43,   915,     0,     6],\n",
      "        [   87,   195,   192,     5,     0, 29843,    11,    75,    20],\n",
      "        [ 2127,   134,  8771,  4047,  1317,   319,  9955,     5,     7],\n",
      "        [  118,   110,     0,     0,     0,     4,     0, 20743,     2],\n",
      "        [  188,    37,    92,     0,     0,     0,     0,     2, 35249]])\n",
      "Epoch end: Train, epoch number: 18\n",
      "TrainEpoch/CM\n",
      " tensor([[16555,   128,  1020,  6962,  1708,     2,  1464,     0,    11],\n",
      "        [    1, 38417,     0,     0,     0,    87,     0,   171,     0],\n",
      "        [  678,   194, 28582,  1261,   930,   552,  3902,    20,    33],\n",
      "        [ 5040,   159,   984, 20702,  1623,     6,  1914,     0,     6],\n",
      "        [  909,   149,  1006,  1450, 25274,    43,   915,     0,     6],\n",
      "        [   87,   195,   192,     5,     0, 29843,    11,    75,    20],\n",
      "        [ 2127,   134,  8771,  4047,  1317,   319,  9955,     5,     7],\n",
      "        [  118,   110,     0,     0,     0,     4,     0, 20743,     2],\n",
      "        [  188,    37,    92,     0,     0,     0,     0,     2, 35249]])\n"
     ]
    },
    {
     "data": {
      "application/vnd.jupyter.widget-view+json": {
       "model_id": "ddda8f8b6d5a46d2a1791c4acfff3edb",
       "version_major": 2,
       "version_minor": 0
      },
      "text/plain": [
       "Validation: |          | 0/? [00:00<?, ?it/s]"
      ]
     },
     "metadata": {},
     "output_type": "display_data"
    },
    {
     "name": "stdout",
     "output_type": "stream",
     "text": [
      "Epoch end: Validation, epoch number: 20\n",
      "ValidationEpoch/CM\n",
      " tensor([[17733,   128,  1034,  7200,  1708,     2,  1494,     0,    11],\n",
      "        [    1, 40442,     0,     0,     0,    92,     0,   171,     0],\n",
      "        [  685,   194, 30181,  1280,   930,   559,  4166,    20,    33],\n",
      "        [ 5296,   159,   993, 21951,  1630,     6,  1988,     0,     6],\n",
      "        [  924,   149,  1021,  1474, 26749,    43,   946,     0,     6],\n",
      "        [   87,   195,   193,     5,     0, 31435,    13,    75,    20],\n",
      "        [ 2211,   134,  9117,  4254,  1325,   329, 10700,     5,     7],\n",
      "        [  118,   110,     0,     0,     0,     4,     0, 21843,     2],\n",
      "        [  188,    37,    92,     0,     0,     0,     0,     2, 37114]])\n",
      "Epoch end: Train, epoch number: 19\n",
      "TrainEpoch/CM\n",
      " tensor([[17733,   128,  1034,  7200,  1708,     2,  1494,     0,    11],\n",
      "        [    1, 40442,     0,     0,     0,    92,     0,   171,     0],\n",
      "        [  685,   194, 30181,  1280,   930,   559,  4166,    20,    33],\n",
      "        [ 5296,   159,   993, 21951,  1630,     6,  1988,     0,     6],\n",
      "        [  924,   149,  1021,  1474, 26749,    43,   946,     0,     6],\n",
      "        [   87,   195,   193,     5,     0, 31435,    13,    75,    20],\n",
      "        [ 2211,   134,  9117,  4254,  1325,   329, 10700,     5,     7],\n",
      "        [  118,   110,     0,     0,     0,     4,     0, 21843,     2],\n",
      "        [  188,    37,    92,     0,     0,     0,     0,     2, 37114]])\n"
     ]
    },
    {
     "name": "stderr",
     "output_type": "stream",
     "text": [
      "Metric Validation/Accuracy improved by 0.005 >= min_delta = 0.0. New best score: 0.884\n"
     ]
    },
    {
     "data": {
      "application/vnd.jupyter.widget-view+json": {
       "model_id": "649ce916af694c3bb967903cb921346a",
       "version_major": 2,
       "version_minor": 0
      },
      "text/plain": [
       "Validation: |          | 0/? [00:00<?, ?it/s]"
      ]
     },
     "metadata": {},
     "output_type": "display_data"
    },
    {
     "name": "stdout",
     "output_type": "stream",
     "text": [
      "Epoch end: Validation, epoch number: 21\n",
      "ValidationEpoch/CM\n",
      " tensor([[18920,   128,  1048,  7421,  1708,     2,  1532,     0,    11],\n",
      "        [    1, 42469,     0,     0,     0,    95,     0,   171,     0],\n",
      "        [  689,   194, 31834,  1305,   930,   563,  4376,    20,    33],\n",
      "        [ 5492,   159,  1004, 23277,  1635,     6,  2045,     0,     6],\n",
      "        [  928,   149,  1038,  1501, 28240,    43,   967,     0,     6],\n",
      "        [   87,   195,   195,     5,     0, 33028,    13,    75,    20],\n",
      "        [ 2295,   134,  9505,  4467,  1329,   334, 11406,     5,     7],\n",
      "        [  118,   110,     0,     0,     0,     4,     0, 22943,     2],\n",
      "        [  188,    37,    92,     0,     0,     0,     0,     2, 38979]])\n",
      "Epoch end: Train, epoch number: 20\n",
      "TrainEpoch/CM\n",
      " tensor([[18920,   128,  1048,  7421,  1708,     2,  1532,     0,    11],\n",
      "        [    1, 42469,     0,     0,     0,    95,     0,   171,     0],\n",
      "        [  689,   194, 31834,  1305,   930,   563,  4376,    20,    33],\n",
      "        [ 5492,   159,  1004, 23277,  1635,     6,  2045,     0,     6],\n",
      "        [  928,   149,  1038,  1501, 28240,    43,   967,     0,     6],\n",
      "        [   87,   195,   195,     5,     0, 33028,    13,    75,    20],\n",
      "        [ 2295,   134,  9505,  4467,  1329,   334, 11406,     5,     7],\n",
      "        [  118,   110,     0,     0,     0,     4,     0, 22943,     2],\n",
      "        [  188,    37,    92,     0,     0,     0,     0,     2, 38979]])\n"
     ]
    },
    {
     "name": "stderr",
     "output_type": "stream",
     "text": [
      "Metric Validation/Accuracy improved by 0.003 >= min_delta = 0.0. New best score: 0.888\n"
     ]
    },
    {
     "data": {
      "application/vnd.jupyter.widget-view+json": {
       "model_id": "ede5a4885af943f0b26a35c117dedddc",
       "version_major": 2,
       "version_minor": 0
      },
      "text/plain": [
       "Validation: |          | 0/? [00:00<?, ?it/s]"
      ]
     },
     "metadata": {},
     "output_type": "display_data"
    },
    {
     "name": "stdout",
     "output_type": "stream",
     "text": [
      "Epoch end: Validation, epoch number: 22\n",
      "ValidationEpoch/CM\n",
      " tensor([[20129,   128,  1062,  7620,  1708,     2,  1570,     0,    11],\n",
      "        [    1, 44494,     0,     0,     0,   100,     0,   171,     0],\n",
      "        [  700,   194, 33472,  1326,   930,   567,  4598,    20,    33],\n",
      "        [ 5708,   159,  1012, 24572,  1640,     6,  2116,     0,     6],\n",
      "        [  936,   149,  1054,  1511, 29744,    43,   989,     0,     6],\n",
      "        [   87,   195,   196,     5,     0, 34622,    13,    75,    20],\n",
      "        [ 2369,   134,  9861,  4671,  1332,   341, 12162,     5,     7],\n",
      "        [  118,   110,     0,     0,     0,     4,     0, 24043,     2],\n",
      "        [  188,    37,    92,     0,     0,     0,     0,     2, 40844]])\n",
      "Epoch end: Train, epoch number: 21\n"
     ]
    },
    {
     "name": "stderr",
     "output_type": "stream",
     "text": [
      "Metric Validation/Accuracy improved by 0.005 >= min_delta = 0.0. New best score: 0.893\n"
     ]
    },
    {
     "name": "stdout",
     "output_type": "stream",
     "text": [
      "TrainEpoch/CM\n",
      " tensor([[20129,   128,  1062,  7620,  1708,     2,  1570,     0,    11],\n",
      "        [    1, 44494,     0,     0,     0,   100,     0,   171,     0],\n",
      "        [  700,   194, 33472,  1326,   930,   567,  4598,    20,    33],\n",
      "        [ 5708,   159,  1012, 24572,  1640,     6,  2116,     0,     6],\n",
      "        [  936,   149,  1054,  1511, 29744,    43,   989,     0,     6],\n",
      "        [   87,   195,   196,     5,     0, 34622,    13,    75,    20],\n",
      "        [ 2369,   134,  9861,  4671,  1332,   341, 12162,     5,     7],\n",
      "        [  118,   110,     0,     0,     0,     4,     0, 24043,     2],\n",
      "        [  188,    37,    92,     0,     0,     0,     0,     2, 40844]])\n"
     ]
    },
    {
     "data": {
      "application/vnd.jupyter.widget-view+json": {
       "model_id": "c2a934c4ddf147e7bafcdfe5d9a1d21e",
       "version_major": 2,
       "version_minor": 0
      },
      "text/plain": [
       "Validation: |          | 0/? [00:00<?, ?it/s]"
      ]
     },
     "metadata": {},
     "output_type": "display_data"
    },
    {
     "name": "stdout",
     "output_type": "stream",
     "text": [
      "Epoch end: Validation, epoch number: 23\n",
      "ValidationEpoch/CM\n",
      " tensor([[21409,   128,  1077,  7760,  1708,     2,  1595,     0,    11],\n",
      "        [    1, 46519,     0,     0,     0,   105,     0,   171,     0],\n",
      "        [  705,   194, 35131,  1350,   930,   573,  4800,    20,    33],\n",
      "        [ 5936,   159,  1019, 25844,  1645,     6,  2199,     0,     6],\n",
      "        [  944,   149,  1067,  1522, 31251,    43,  1010,     0,     6],\n",
      "        [   87,   195,   196,     5,     0, 36215,    15,    75,    20],\n",
      "        [ 2470,   134, 10201,  4857,  1333,   347, 12928,     5,     7],\n",
      "        [  118,   110,     0,     0,     0,     4,     0, 25143,     2],\n",
      "        [  188,    37,    92,     0,     0,     0,     0,     2, 42709]])\n",
      "Epoch end: Train, epoch number: 22\n",
      "TrainEpoch/CM\n",
      " tensor([[21409,   128,  1077,  7760,  1708,     2,  1595,     0,    11],\n",
      "        [    1, 46519,     0,     0,     0,   105,     0,   171,     0],\n",
      "        [  705,   194, 35131,  1350,   930,   573,  4800,    20,    33],\n",
      "        [ 5936,   159,  1019, 25844,  1645,     6,  2199,     0,     6],\n",
      "        [  944,   149,  1067,  1522, 31251,    43,  1010,     0,     6],\n",
      "        [   87,   195,   196,     5,     0, 36215,    15,    75,    20],\n",
      "        [ 2470,   134, 10201,  4857,  1333,   347, 12928,     5,     7],\n",
      "        [  118,   110,     0,     0,     0,     4,     0, 25143,     2],\n",
      "        [  188,    37,    92,     0,     0,     0,     0,     2, 42709]])\n"
     ]
    },
    {
     "name": "stderr",
     "output_type": "stream",
     "text": [
      "Metric Validation/Accuracy improved by 0.006 >= min_delta = 0.0. New best score: 0.899\n"
     ]
    },
    {
     "data": {
      "application/vnd.jupyter.widget-view+json": {
       "model_id": "6e0ec1a71de5401098c17f3ce3260582",
       "version_major": 2,
       "version_minor": 0
      },
      "text/plain": [
       "Validation: |          | 0/? [00:00<?, ?it/s]"
      ]
     },
     "metadata": {},
     "output_type": "display_data"
    },
    {
     "name": "stdout",
     "output_type": "stream",
     "text": [
      "Epoch end: Validation, epoch number: 24\n",
      "ValidationEpoch/CM\n",
      " tensor([[22678,   128,  1089,  7909,  1708,     2,  1625,     0,    11],\n",
      "        [    1, 48544,     0,     0,     0,   110,     0,   171,     0],\n",
      "        [  706,   194, 36779,  1372,   930,   573,  5025,    20,    33],\n",
      "        [ 6140,   159,  1024, 27173,  1650,     6,  2251,     0,     6],\n",
      "        [  951,   149,  1082,  1526, 32768,    43,  1027,     0,     6],\n",
      "        [   87,   195,   196,     5,     0, 37810,    15,    75,    20],\n",
      "        [ 2552,   134, 10544,  5049,  1334,   352, 13705,     5,     7],\n",
      "        [  118,   110,     0,     0,     0,     4,     0, 26243,     2],\n",
      "        [  188,    37,    92,     0,     0,     0,     0,     2, 44574]])\n",
      "Epoch end: Train, epoch number: 23\n",
      "TrainEpoch/CM\n",
      " tensor([[22678,   128,  1089,  7909,  1708,     2,  1625,     0,    11],\n",
      "        [    1, 48544,     0,     0,     0,   110,     0,   171,     0],\n",
      "        [  706,   194, 36779,  1372,   930,   573,  5025,    20,    33],\n",
      "        [ 6140,   159,  1024, 27173,  1650,     6,  2251,     0,     6],\n",
      "        [  951,   149,  1082,  1526, 32768,    43,  1027,     0,     6],\n",
      "        [   87,   195,   196,     5,     0, 37810,    15,    75,    20],\n",
      "        [ 2552,   134, 10544,  5049,  1334,   352, 13705,     5,     7],\n",
      "        [  118,   110,     0,     0,     0,     4,     0, 26243,     2],\n",
      "        [  188,    37,    92,     0,     0,     0,     0,     2, 44574]])\n"
     ]
    },
    {
     "name": "stderr",
     "output_type": "stream",
     "text": [
      "Metric Validation/Accuracy improved by 0.001 >= min_delta = 0.0. New best score: 0.900\n"
     ]
    },
    {
     "data": {
      "application/vnd.jupyter.widget-view+json": {
       "model_id": "5303428c11ef4596b6cab443ab6614c1",
       "version_major": 2,
       "version_minor": 0
      },
      "text/plain": [
       "Validation: |          | 0/? [00:00<?, ?it/s]"
      ]
     },
     "metadata": {},
     "output_type": "display_data"
    },
    {
     "name": "stdout",
     "output_type": "stream",
     "text": [
      "Epoch end: Validation, epoch number: 25\n",
      "ValidationEpoch/CM\n",
      " tensor([[23936,   128,  1104,  8071,  1710,     2,  1648,     0,    11],\n",
      "        [    1, 50571,     0,     0,     0,   113,     0,   171,     0],\n",
      "        [  708,   194, 38410,  1393,   930,   576,  5264,    20,    33],\n",
      "        [ 6334,   159,  1034, 28515,  1655,     6,  2295,     0,     6],\n",
      "        [  954,   149,  1095,  1536, 34287,    43,  1042,     0,     6],\n",
      "        [   87,   195,   196,     5,     0, 39404,    16,    75,    20],\n",
      "        [ 2637,   134, 10906,  5240,  1334,   358, 14461,     5,     7],\n",
      "        [  118,   110,     0,     0,     0,     4,     0, 27343,     2],\n",
      "        [  188,    37,    92,     0,     0,     0,     0,     2, 46439]])\n",
      "Epoch end: Train, epoch number: 24\n",
      "TrainEpoch/CM\n",
      " tensor([[23936,   128,  1104,  8071,  1710,     2,  1648,     0,    11],\n",
      "        [    1, 50571,     0,     0,     0,   113,     0,   171,     0],\n",
      "        [  708,   194, 38410,  1393,   930,   576,  5264,    20,    33],\n",
      "        [ 6334,   159,  1034, 28515,  1655,     6,  2295,     0,     6],\n",
      "        [  954,   149,  1095,  1536, 34287,    43,  1042,     0,     6],\n",
      "        [   87,   195,   196,     5,     0, 39404,    16,    75,    20],\n",
      "        [ 2637,   134, 10906,  5240,  1334,   358, 14461,     5,     7],\n",
      "        [  118,   110,     0,     0,     0,     4,     0, 27343,     2],\n",
      "        [  188,    37,    92,     0,     0,     0,     0,     2, 46439]])\n"
     ]
    },
    {
     "name": "stderr",
     "output_type": "stream",
     "text": [
      "Metric Validation/Accuracy improved by 0.001 >= min_delta = 0.0. New best score: 0.901\n"
     ]
    },
    {
     "data": {
      "application/vnd.jupyter.widget-view+json": {
       "model_id": "f7249fe97e604794a6fc834b62bbb0e4",
       "version_major": 2,
       "version_minor": 0
      },
      "text/plain": [
       "Validation: |          | 0/? [00:00<?, ?it/s]"
      ]
     },
     "metadata": {},
     "output_type": "display_data"
    },
    {
     "name": "stdout",
     "output_type": "stream",
     "text": [
      "Epoch end: Validation, epoch number: 26\n",
      "ValidationEpoch/CM\n",
      " tensor([[25163,   128,  1119,  8259,  1710,     2,  1678,     0,    11],\n",
      "        [    1, 52598,     0,     0,     0,   116,     0,   171,     0],\n",
      "        [  717,   194, 40049,  1411,   930,   577,  5493,    20,    33],\n",
      "        [ 6509,   159,  1042, 29872,  1660,     6,  2345,     0,     6],\n",
      "        [  955,   149,  1106,  1542, 35819,    43,  1052,     0,     6],\n",
      "        [   87,   195,   196,     5,     0, 40998,    17,    75,    20],\n",
      "        [ 2715,   134, 11248,  5436,  1334,   363, 15240,     5,     7],\n",
      "        [  118,   110,     0,     0,     0,     4,     0, 28443,     2],\n",
      "        [  188,    37,    92,     0,     0,     0,     0,     2, 48304]])\n",
      "Epoch end: Train, epoch number: 25\n",
      "TrainEpoch/CM\n",
      " tensor([[25163,   128,  1119,  8259,  1710,     2,  1678,     0,    11],\n",
      "        [    1, 52598,     0,     0,     0,   116,     0,   171,     0],\n",
      "        [  717,   194, 40049,  1411,   930,   577,  5493,    20,    33],\n",
      "        [ 6509,   159,  1042, 29872,  1660,     6,  2345,     0,     6],\n",
      "        [  955,   149,  1106,  1542, 35819,    43,  1052,     0,     6],\n",
      "        [   87,   195,   196,     5,     0, 40998,    17,    75,    20],\n",
      "        [ 2715,   134, 11248,  5436,  1334,   363, 15240,     5,     7],\n",
      "        [  118,   110,     0,     0,     0,     4,     0, 28443,     2],\n",
      "        [  188,    37,    92,     0,     0,     0,     0,     2, 48304]])\n"
     ]
    },
    {
     "data": {
      "application/vnd.jupyter.widget-view+json": {
       "model_id": "d9e377149624424d880214c1585a6737",
       "version_major": 2,
       "version_minor": 0
      },
      "text/plain": [
       "Validation: |          | 0/? [00:00<?, ?it/s]"
      ]
     },
     "metadata": {},
     "output_type": "display_data"
    },
    {
     "name": "stdout",
     "output_type": "stream",
     "text": [
      "Epoch end: Validation, epoch number: 27\n",
      "ValidationEpoch/CM\n",
      " tensor([[26405,   128,  1130,  8449,  1710,     2,  1695,     0,    11],\n",
      "        [    1, 54627,     0,     0,     0,   117,     0,   171,     0],\n",
      "        [  727,   194, 41736,  1426,   930,   577,  5677,    20,    33],\n",
      "        [ 6704,   159,  1050, 31217,  1663,     6,  2389,     0,     6],\n",
      "        [  960,   149,  1121,  1561, 37327,    43,  1065,     0,     6],\n",
      "        [   87,   195,   196,     5,     0, 42593,    17,    75,    20],\n",
      "        [ 2790,   134, 11597,  5638,  1339,   368, 16004,     5,     7],\n",
      "        [  118,   110,     0,     0,     0,     4,     0, 29543,     2],\n",
      "        [  188,    37,    92,     0,     0,     0,     0,     2, 50169]])\n",
      "Epoch end: Train, epoch number: 26\n",
      "TrainEpoch/CM\n",
      " tensor([[26405,   128,  1130,  8449,  1710,     2,  1695,     0,    11],\n",
      "        [    1, 54627,     0,     0,     0,   117,     0,   171,     0],\n",
      "        [  727,   194, 41736,  1426,   930,   577,  5677,    20,    33],\n",
      "        [ 6704,   159,  1050, 31217,  1663,     6,  2389,     0,     6],\n",
      "        [  960,   149,  1121,  1561, 37327,    43,  1065,     0,     6],\n",
      "        [   87,   195,   196,     5,     0, 42593,    17,    75,    20],\n",
      "        [ 2790,   134, 11597,  5638,  1339,   368, 16004,     5,     7],\n",
      "        [  118,   110,     0,     0,     0,     4,     0, 29543,     2],\n",
      "        [  188,    37,    92,     0,     0,     0,     0,     2, 50169]])\n"
     ]
    },
    {
     "name": "stderr",
     "output_type": "stream",
     "text": [
      "Metric Validation/Accuracy improved by 0.002 >= min_delta = 0.0. New best score: 0.903\n"
     ]
    },
    {
     "data": {
      "application/vnd.jupyter.widget-view+json": {
       "model_id": "a853df73b91d4f3490e64fb6fd75371d",
       "version_major": 2,
       "version_minor": 0
      },
      "text/plain": [
       "Validation: |          | 0/? [00:00<?, ?it/s]"
      ]
     },
     "metadata": {},
     "output_type": "display_data"
    },
    {
     "name": "stdout",
     "output_type": "stream",
     "text": [
      "Epoch end: Validation, epoch number: 28\n",
      "ValidationEpoch/CM\n",
      " tensor([[27545,   128,  1144,  8742,  1710,     2,  1708,     0,    11],\n",
      "        [    1, 56653,     0,     0,     0,   121,     0,   171,     0],\n",
      "        [  731,   194, 43431,  1444,   930,   577,  5856,    20,    33],\n",
      "        [ 6863,   159,  1060, 32611,  1665,     6,  2419,     0,     6],\n",
      "        [  964,   149,  1135,  1579, 38845,    43,  1071,     0,     6],\n",
      "        [   87,   195,   196,     5,     0, 44188,    17,    75,    20],\n",
      "        [ 2865,   134, 11963,  5876,  1339,   373, 16720,     5,     7],\n",
      "        [  118,   110,     0,     0,     0,     4,     0, 30643,     2],\n",
      "        [  188,    37,    92,     0,     0,     0,     0,     2, 52034]])\n",
      "Epoch end: Train, epoch number: 27\n",
      "TrainEpoch/CM\n",
      " tensor([[27545,   128,  1144,  8742,  1710,     2,  1708,     0,    11],\n",
      "        [    1, 56653,     0,     0,     0,   121,     0,   171,     0],\n",
      "        [  731,   194, 43431,  1444,   930,   577,  5856,    20,    33],\n",
      "        [ 6863,   159,  1060, 32611,  1665,     6,  2419,     0,     6],\n",
      "        [  964,   149,  1135,  1579, 38845,    43,  1071,     0,     6],\n",
      "        [   87,   195,   196,     5,     0, 44188,    17,    75,    20],\n",
      "        [ 2865,   134, 11963,  5876,  1339,   373, 16720,     5,     7],\n",
      "        [  118,   110,     0,     0,     0,     4,     0, 30643,     2],\n",
      "        [  188,    37,    92,     0,     0,     0,     0,     2, 52034]])\n"
     ]
    },
    {
     "data": {
      "application/vnd.jupyter.widget-view+json": {
       "model_id": "8a13e479b7b442d9b82642d891e74c67",
       "version_major": 2,
       "version_minor": 0
      },
      "text/plain": [
       "Validation: |          | 0/? [00:00<?, ?it/s]"
      ]
     },
     "metadata": {},
     "output_type": "display_data"
    },
    {
     "name": "stdout",
     "output_type": "stream",
     "text": [
      "Epoch end: Validation, epoch number: 29\n",
      "ValidationEpoch/CM\n",
      " tensor([[28793,   128,  1156,  8916,  1711,     2,  1733,     0,    11],\n",
      "        [    1, 58683,     0,     0,     0,   121,     0,   171,     0],\n",
      "        [  732,   194, 45120,  1460,   930,   577,  6046,    20,    33],\n",
      "        [ 7023,   159,  1066, 33987,  1666,     6,  2471,     0,     6],\n",
      "        [  964,   149,  1145,  1587, 40373,    43,  1085,     0,     6],\n",
      "        [   87,   195,   196,     5,     0, 45783,    17,    75,    20],\n",
      "        [ 2934,   134, 12330,  6081,  1340,   378, 17473,     5,     7],\n",
      "        [  118,   110,     0,     0,     0,     4,     0, 31743,     2],\n",
      "        [  188,    37,    92,     0,     0,     0,     0,     2, 53899]])\n",
      "Epoch end: Train, epoch number: 28\n",
      "TrainEpoch/CM\n",
      " tensor([[28793,   128,  1156,  8916,  1711,     2,  1733,     0,    11],\n",
      "        [    1, 58683,     0,     0,     0,   121,     0,   171,     0],\n",
      "        [  732,   194, 45120,  1460,   930,   577,  6046,    20,    33],\n",
      "        [ 7023,   159,  1066, 33987,  1666,     6,  2471,     0,     6],\n",
      "        [  964,   149,  1145,  1587, 40373,    43,  1085,     0,     6],\n",
      "        [   87,   195,   196,     5,     0, 45783,    17,    75,    20],\n",
      "        [ 2934,   134, 12330,  6081,  1340,   378, 17473,     5,     7],\n",
      "        [  118,   110,     0,     0,     0,     4,     0, 31743,     2],\n",
      "        [  188,    37,    92,     0,     0,     0,     0,     2, 53899]])\n"
     ]
    },
    {
     "name": "stderr",
     "output_type": "stream",
     "text": [
      "Metric Validation/Accuracy improved by 0.003 >= min_delta = 0.0. New best score: 0.906\n"
     ]
    },
    {
     "data": {
      "application/vnd.jupyter.widget-view+json": {
       "model_id": "7da26e73b75946dc8246debfb7cf87b0",
       "version_major": 2,
       "version_minor": 0
      },
      "text/plain": [
       "Validation: |          | 0/? [00:00<?, ?it/s]"
      ]
     },
     "metadata": {},
     "output_type": "display_data"
    },
    {
     "name": "stdout",
     "output_type": "stream",
     "text": [
      "Epoch end: Validation, epoch number: 30\n",
      "ValidationEpoch/CM\n",
      " tensor([[30069,   128,  1165,  9072,  1711,     2,  1752,     0,    11],\n",
      "        [    1, 60713,     0,     0,     0,   121,     0,   171,     0],\n",
      "        [  739,   194, 46800,  1474,   930,   577,  6241,    20,    33],\n",
      "        [ 7222,   159,  1072, 35331,  1669,     6,  2514,     0,     6],\n",
      "        [  965,   149,  1157,  1595, 41904,    43,  1093,     0,     6],\n",
      "        [   87,   195,   196,     5,     0, 47378,    17,    75,    20],\n",
      "        [ 3031,   134, 12652,  6260,  1341,   383, 18269,     5,     7],\n",
      "        [  118,   110,     0,     0,     0,     4,     0, 32843,     2],\n",
      "        [  188,    37,    92,     0,     0,     0,     0,     2, 55764]])\n",
      "Epoch end: Train, epoch number: 29\n",
      "TrainEpoch/CM\n",
      " tensor([[30069,   128,  1165,  9072,  1711,     2,  1752,     0,    11],\n",
      "        [    1, 60713,     0,     0,     0,   121,     0,   171,     0],\n",
      "        [  739,   194, 46800,  1474,   930,   577,  6241,    20,    33],\n",
      "        [ 7222,   159,  1072, 35331,  1669,     6,  2514,     0,     6],\n",
      "        [  965,   149,  1157,  1595, 41904,    43,  1093,     0,     6],\n",
      "        [   87,   195,   196,     5,     0, 47378,    17,    75,    20],\n",
      "        [ 3031,   134, 12652,  6260,  1341,   383, 18269,     5,     7],\n",
      "        [  118,   110,     0,     0,     0,     4,     0, 32843,     2],\n",
      "        [  188,    37,    92,     0,     0,     0,     0,     2, 55764]])\n"
     ]
    },
    {
     "name": "stderr",
     "output_type": "stream",
     "text": [
      "Metric Validation/Accuracy improved by 0.006 >= min_delta = 0.0. New best score: 0.912\n"
     ]
    },
    {
     "data": {
      "application/vnd.jupyter.widget-view+json": {
       "model_id": "3ac0e172d60e42b0984aded35dc22ab4",
       "version_major": 2,
       "version_minor": 0
      },
      "text/plain": [
       "Validation: |          | 0/? [00:00<?, ?it/s]"
      ]
     },
     "metadata": {},
     "output_type": "display_data"
    },
    {
     "name": "stdout",
     "output_type": "stream",
     "text": [
      "Epoch end: Validation, epoch number: 31\n",
      "ValidationEpoch/CM\n",
      " tensor([[31391,   128,  1179,  9182,  1711,     2,  1766,     0,    11],\n",
      "        [    1, 62743,     0,     0,     0,   121,     0,   171,     0],\n",
      "        [  750,   194, 48508,  1486,   930,   577,  6406,    20,    33],\n",
      "        [ 7442,   159,  1077, 36656,  1670,     6,  2558,     0,     6],\n",
      "        [  965,   149,  1169,  1599, 43438,    43,  1103,     0,     6],\n",
      "        [   87,   195,   196,     5,     0, 48973,    17,    75,    20],\n",
      "        [ 3127,   134, 12976,  6431,  1344,   388, 19070,     5,     7],\n",
      "        [  118,   110,     0,     0,     0,     4,     0, 33943,     2],\n",
      "        [  188,    37,    92,     0,     0,     0,     0,     2, 57629]])\n",
      "Epoch end: Train, epoch number: 30\n",
      "TrainEpoch/CM\n",
      " tensor([[31391,   128,  1179,  9182,  1711,     2,  1766,     0,    11],\n",
      "        [    1, 62743,     0,     0,     0,   121,     0,   171,     0],\n",
      "        [  750,   194, 48508,  1486,   930,   577,  6406,    20,    33],\n",
      "        [ 7442,   159,  1077, 36656,  1670,     6,  2558,     0,     6],\n",
      "        [  965,   149,  1169,  1599, 43438,    43,  1103,     0,     6],\n",
      "        [   87,   195,   196,     5,     0, 48973,    17,    75,    20],\n",
      "        [ 3127,   134, 12976,  6431,  1344,   388, 19070,     5,     7],\n",
      "        [  118,   110,     0,     0,     0,     4,     0, 33943,     2],\n",
      "        [  188,    37,    92,     0,     0,     0,     0,     2, 57629]])\n"
     ]
    },
    {
     "data": {
      "application/vnd.jupyter.widget-view+json": {
       "model_id": "b37de666586049339ac1356cf94f63f9",
       "version_major": 2,
       "version_minor": 0
      },
      "text/plain": [
       "Validation: |          | 0/? [00:00<?, ?it/s]"
      ]
     },
     "metadata": {},
     "output_type": "display_data"
    },
    {
     "name": "stdout",
     "output_type": "stream",
     "text": [
      "Epoch end: Validation, epoch number: 32\n",
      "ValidationEpoch/CM\n",
      " tensor([[32699,   128,  1194,  9300,  1711,     2,  1785,     0,    11],\n",
      "        [    1, 64773,     0,     0,     0,   121,     0,   171,     0],\n",
      "        [  754,   194, 50213,  1504,   930,   577,  6575,    20,    33],\n",
      "        [ 7616,   159,  1085, 38028,  1672,     6,  2597,     0,     6],\n",
      "        [  965,   149,  1180,  1603, 44978,    43,  1108,     0,     6],\n",
      "        [   87,   195,   196,     5,     0, 50568,    17,    75,    20],\n",
      "        [ 3201,   134, 13296,  6632,  1345,   393, 19869,     5,     7],\n",
      "        [  118,   110,     0,     0,     0,     4,     0, 35043,     2],\n",
      "        [  188,    37,    92,     0,     0,     0,     0,     2, 59494]])\n",
      "Epoch end: Train, epoch number: 31\n"
     ]
    },
    {
     "name": "stderr",
     "output_type": "stream",
     "text": [
      "Metric Validation/Accuracy improved by 0.002 >= min_delta = 0.0. New best score: 0.915\n"
     ]
    },
    {
     "name": "stdout",
     "output_type": "stream",
     "text": [
      "TrainEpoch/CM\n",
      " tensor([[32699,   128,  1194,  9300,  1711,     2,  1785,     0,    11],\n",
      "        [    1, 64773,     0,     0,     0,   121,     0,   171,     0],\n",
      "        [  754,   194, 50213,  1504,   930,   577,  6575,    20,    33],\n",
      "        [ 7616,   159,  1085, 38028,  1672,     6,  2597,     0,     6],\n",
      "        [  965,   149,  1180,  1603, 44978,    43,  1108,     0,     6],\n",
      "        [   87,   195,   196,     5,     0, 50568,    17,    75,    20],\n",
      "        [ 3201,   134, 13296,  6632,  1345,   393, 19869,     5,     7],\n",
      "        [  118,   110,     0,     0,     0,     4,     0, 35043,     2],\n",
      "        [  188,    37,    92,     0,     0,     0,     0,     2, 59494]])\n"
     ]
    },
    {
     "data": {
      "application/vnd.jupyter.widget-view+json": {
       "model_id": "8e7a6ad8f90c404584f812e992913b95",
       "version_major": 2,
       "version_minor": 0
      },
      "text/plain": [
       "Validation: |          | 0/? [00:00<?, ?it/s]"
      ]
     },
     "metadata": {},
     "output_type": "display_data"
    },
    {
     "name": "stdout",
     "output_type": "stream",
     "text": [
      "Epoch end: Validation, epoch number: 33\n",
      "ValidationEpoch/CM\n",
      " tensor([[34014,   128,  1210,  9411,  1711,     2,  1803,     0,    11],\n",
      "        [    1, 66802,     0,     0,     0,   122,     0,   171,     0],\n",
      "        [  757,   194, 51930,  1520,   930,   577,  6735,    20,    33],\n",
      "        [ 7767,   159,  1093, 39430,  1672,     6,  2631,     0,     6],\n",
      "        [  965,   149,  1190,  1603, 46528,    43,  1108,     0,     6],\n",
      "        [   87,   195,   196,     5,     0, 52163,    17,    75,    20],\n",
      "        [ 3268,   134, 13621,  6833,  1347,   398, 20669,     5,     7],\n",
      "        [  118,   110,     0,     0,     0,     4,     0, 36143,     2],\n",
      "        [  188,    37,    92,     0,     0,     0,     0,     2, 61359]])\n",
      "Epoch end: Train, epoch number: 32\n",
      "TrainEpoch/CM\n",
      " tensor([[34014,   128,  1210,  9411,  1711,     2,  1803,     0,    11],\n",
      "        [    1, 66802,     0,     0,     0,   122,     0,   171,     0],\n",
      "        [  757,   194, 51930,  1520,   930,   577,  6735,    20,    33],\n",
      "        [ 7767,   159,  1093, 39430,  1672,     6,  2631,     0,     6],\n",
      "        [  965,   149,  1190,  1603, 46528,    43,  1108,     0,     6],\n",
      "        [   87,   195,   196,     5,     0, 52163,    17,    75,    20],\n",
      "        [ 3268,   134, 13621,  6833,  1347,   398, 20669,     5,     7],\n",
      "        [  118,   110,     0,     0,     0,     4,     0, 36143,     2],\n",
      "        [  188,    37,    92,     0,     0,     0,     0,     2, 61359]])\n"
     ]
    },
    {
     "data": {
      "application/vnd.jupyter.widget-view+json": {
       "model_id": "ae8eb35ea9924e008a4df9de1a3e0009",
       "version_major": 2,
       "version_minor": 0
      },
      "text/plain": [
       "Validation: |          | 0/? [00:00<?, ?it/s]"
      ]
     },
     "metadata": {},
     "output_type": "display_data"
    },
    {
     "name": "stdout",
     "output_type": "stream",
     "text": [
      "Epoch end: Validation, epoch number: 34\n",
      "ValidationEpoch/CM\n",
      " tensor([[35348,   128,  1220,  9506,  1711,     2,  1824,     0,    11],\n",
      "        [    1, 68830,     0,     0,     0,   124,     0,   171,     0],\n",
      "        [  757,   194, 53615,  1533,   930,   577,  6933,    20,    33],\n",
      "        [ 7940,   159,  1100, 40788,  1672,     6,  2688,     0,     6],\n",
      "        [  965,   149,  1201,  1603, 48073,    43,  1112,     0,     6],\n",
      "        [   87,   195,   196,     5,     0, 53758,    17,    75,    20],\n",
      "        [ 3349,   134, 13923,  7012,  1348,   403, 21501,     5,     7],\n",
      "        [  118,   110,     0,     0,     0,     4,     0, 37243,     2],\n",
      "        [  188,    37,    92,     0,     0,     0,     0,     2, 63224]])\n",
      "Epoch end: Train, epoch number: 33\n"
     ]
    },
    {
     "name": "stderr",
     "output_type": "stream",
     "text": [
      "Metric Validation/Accuracy improved by 0.002 >= min_delta = 0.0. New best score: 0.916\n"
     ]
    },
    {
     "name": "stdout",
     "output_type": "stream",
     "text": [
      "TrainEpoch/CM\n",
      " tensor([[35348,   128,  1220,  9506,  1711,     2,  1824,     0,    11],\n",
      "        [    1, 68830,     0,     0,     0,   124,     0,   171,     0],\n",
      "        [  757,   194, 53615,  1533,   930,   577,  6933,    20,    33],\n",
      "        [ 7940,   159,  1100, 40788,  1672,     6,  2688,     0,     6],\n",
      "        [  965,   149,  1201,  1603, 48073,    43,  1112,     0,     6],\n",
      "        [   87,   195,   196,     5,     0, 53758,    17,    75,    20],\n",
      "        [ 3349,   134, 13923,  7012,  1348,   403, 21501,     5,     7],\n",
      "        [  118,   110,     0,     0,     0,     4,     0, 37243,     2],\n",
      "        [  188,    37,    92,     0,     0,     0,     0,     2, 63224]])\n"
     ]
    },
    {
     "data": {
      "application/vnd.jupyter.widget-view+json": {
       "model_id": "f390c668a8dc46afa0caca63257a224d",
       "version_major": 2,
       "version_minor": 0
      },
      "text/plain": [
       "Validation: |          | 0/? [00:00<?, ?it/s]"
      ]
     },
     "metadata": {},
     "output_type": "display_data"
    },
    {
     "name": "stdout",
     "output_type": "stream",
     "text": [
      "Epoch end: Validation, epoch number: 35\n",
      "ValidationEpoch/CM\n",
      " tensor([[36632,   128,  1234,  9652,  1711,     2,  1840,     0,    11],\n",
      "        [    1, 70860,     0,     0,     0,   124,     0,   171,     0],\n",
      "        [  757,   194, 55302,  1549,   930,   577,  7126,    20,    33],\n",
      "        [ 8061,   159,  1110, 42216,  1673,     6,  2723,     0,     6],\n",
      "        [  965,   149,  1210,  1608, 49613,    43,  1118,     0,     6],\n",
      "        [   87,   195,   196,     5,     0, 55353,    17,    75,    20],\n",
      "        [ 3408,   134, 14237,  7213,  1350,   408, 22320,     5,     7],\n",
      "        [  118,   110,     0,     0,     0,     4,     0, 38343,     2],\n",
      "        [  188,    37,    92,     0,     0,     0,     0,     2, 65089]])\n",
      "Epoch end: Train, epoch number: 34\n",
      "TrainEpoch/CM\n",
      " tensor([[36632,   128,  1234,  9652,  1711,     2,  1840,     0,    11],\n",
      "        [    1, 70860,     0,     0,     0,   124,     0,   171,     0],\n",
      "        [  757,   194, 55302,  1549,   930,   577,  7126,    20,    33],\n",
      "        [ 8061,   159,  1110, 42216,  1673,     6,  2723,     0,     6],\n",
      "        [  965,   149,  1210,  1608, 49613,    43,  1118,     0,     6],\n",
      "        [   87,   195,   196,     5,     0, 55353,    17,    75,    20],\n",
      "        [ 3408,   134, 14237,  7213,  1350,   408, 22320,     5,     7],\n",
      "        [  118,   110,     0,     0,     0,     4,     0, 38343,     2],\n",
      "        [  188,    37,    92,     0,     0,     0,     0,     2, 65089]])\n"
     ]
    },
    {
     "data": {
      "application/vnd.jupyter.widget-view+json": {
       "model_id": "86f8d19ce7a547c9b198dc90f89cebbf",
       "version_major": 2,
       "version_minor": 0
      },
      "text/plain": [
       "Validation: |          | 0/? [00:00<?, ?it/s]"
      ]
     },
     "metadata": {},
     "output_type": "display_data"
    },
    {
     "name": "stdout",
     "output_type": "stream",
     "text": [
      "Epoch end: Validation, epoch number: 36\n",
      "ValidationEpoch/CM\n",
      " tensor([[37949,   128,  1239,  9775,  1711,     2,  1855,     0,    11],\n",
      "        [    1, 72890,     0,     0,     0,   124,     0,   171,     0],\n",
      "        [  762,   194, 56999,  1563,   930,   577,  7306,    20,    33],\n",
      "        [ 8233,   159,  1121, 43594,  1673,     6,  2757,     0,     6],\n",
      "        [  965,   149,  1220,  1614, 51153,    43,  1122,     0,     6],\n",
      "        [   87,   195,   196,     5,     0, 56948,    17,    75,    20],\n",
      "        [ 3480,   134, 14543,  7402,  1351,   413, 23147,     5,     7],\n",
      "        [  118,   110,     0,     0,     0,     4,     0, 39443,     2],\n",
      "        [  188,    37,    92,     0,     0,     0,     0,     2, 66954]])\n"
     ]
    },
    {
     "name": "stderr",
     "output_type": "stream",
     "text": [
      "Metric Validation/Accuracy improved by 0.002 >= min_delta = 0.0. New best score: 0.918\n"
     ]
    },
    {
     "name": "stdout",
     "output_type": "stream",
     "text": [
      "Epoch end: Train, epoch number: 35\n",
      "TrainEpoch/CM\n",
      " tensor([[37949,   128,  1239,  9775,  1711,     2,  1855,     0,    11],\n",
      "        [    1, 72890,     0,     0,     0,   124,     0,   171,     0],\n",
      "        [  762,   194, 56999,  1563,   930,   577,  7306,    20,    33],\n",
      "        [ 8233,   159,  1121, 43594,  1673,     6,  2757,     0,     6],\n",
      "        [  965,   149,  1220,  1614, 51153,    43,  1122,     0,     6],\n",
      "        [   87,   195,   196,     5,     0, 56948,    17,    75,    20],\n",
      "        [ 3480,   134, 14543,  7402,  1351,   413, 23147,     5,     7],\n",
      "        [  118,   110,     0,     0,     0,     4,     0, 39443,     2],\n",
      "        [  188,    37,    92,     0,     0,     0,     0,     2, 66954]])\n"
     ]
    },
    {
     "data": {
      "application/vnd.jupyter.widget-view+json": {
       "model_id": "c2fa76462ca84e58b951c0b78e018a89",
       "version_major": 2,
       "version_minor": 0
      },
      "text/plain": [
       "Validation: |          | 0/? [00:00<?, ?it/s]"
      ]
     },
     "metadata": {},
     "output_type": "display_data"
    },
    {
     "name": "stdout",
     "output_type": "stream",
     "text": [
      "Epoch end: Validation, epoch number: 37\n",
      "ValidationEpoch/CM\n",
      " tensor([[39244,   128,  1252,  9908,  1711,     2,  1874,     0,    11],\n",
      "        [    1, 74920,     0,     0,     0,   124,     0,   171,     0],\n",
      "        [  763,   194, 58697,  1579,   930,   577,  7487,    20,    33],\n",
      "        [ 8355,   159,  1129, 45021,  1673,     6,  2795,     0,     6],\n",
      "        [  965,   149,  1231,  1619, 52694,    43,  1125,     0,     6],\n",
      "        [   87,   195,   196,     5,     0, 58543,    17,    75,    20],\n",
      "        [ 3537,   134, 14847,  7588,  1353,   418, 23993,     5,     7],\n",
      "        [  118,   110,     0,     0,     0,     4,     0, 40543,     2],\n",
      "        [  188,    37,    92,     0,     0,     0,     0,     2, 68819]])\n",
      "Epoch end: Train, epoch number: 36\n",
      "TrainEpoch/CM\n",
      " tensor([[39244,   128,  1252,  9908,  1711,     2,  1874,     0,    11],\n",
      "        [    1, 74920,     0,     0,     0,   124,     0,   171,     0],\n",
      "        [  763,   194, 58697,  1579,   930,   577,  7487,    20,    33],\n",
      "        [ 8355,   159,  1129, 45021,  1673,     6,  2795,     0,     6],\n",
      "        [  965,   149,  1231,  1619, 52694,    43,  1125,     0,     6],\n",
      "        [   87,   195,   196,     5,     0, 58543,    17,    75,    20],\n",
      "        [ 3537,   134, 14847,  7588,  1353,   418, 23993,     5,     7],\n",
      "        [  118,   110,     0,     0,     0,     4,     0, 40543,     2],\n",
      "        [  188,    37,    92,     0,     0,     0,     0,     2, 68819]])\n"
     ]
    },
    {
     "data": {
      "application/vnd.jupyter.widget-view+json": {
       "model_id": "514814739c0b4858bc4cac0189c136b8",
       "version_major": 2,
       "version_minor": 0
      },
      "text/plain": [
       "Validation: |          | 0/? [00:00<?, ?it/s]"
      ]
     },
     "metadata": {},
     "output_type": "display_data"
    },
    {
     "name": "stdout",
     "output_type": "stream",
     "text": [
      "Epoch end: Validation, epoch number: 38\n",
      "ValidationEpoch/CM\n",
      " tensor([[40565,   128,  1265, 10028,  1711,     2,  1880,     0,    11],\n",
      "        [    1, 76950,     0,     0,     0,   124,     0,   171,     0],\n",
      "        [  766,   194, 60427,  1591,   930,   577,  7638,    20,    33],\n",
      "        [ 8496,   159,  1137, 46435,  1673,     6,  2827,     0,     6],\n",
      "        [  965,   149,  1241,  1620, 54241,    43,  1127,     0,     6],\n",
      "        [   87,   195,   196,     5,     0, 60138,    17,    75,    20],\n",
      "        [ 3602,   134, 15173,  7778,  1354,   423, 24806,     5,     7],\n",
      "        [  118,   110,     0,     0,     0,     4,     0, 41643,     2],\n",
      "        [  188,    37,    92,     0,     0,     0,     0,     2, 70684]])\n"
     ]
    },
    {
     "name": "stderr",
     "output_type": "stream",
     "text": [
      "Metric Validation/Accuracy improved by 0.001 >= min_delta = 0.0. New best score: 0.920\n"
     ]
    },
    {
     "name": "stdout",
     "output_type": "stream",
     "text": [
      "Epoch end: Train, epoch number: 37\n",
      "TrainEpoch/CM\n",
      " tensor([[40565,   128,  1265, 10028,  1711,     2,  1880,     0,    11],\n",
      "        [    1, 76950,     0,     0,     0,   124,     0,   171,     0],\n",
      "        [  766,   194, 60427,  1591,   930,   577,  7638,    20,    33],\n",
      "        [ 8496,   159,  1137, 46435,  1673,     6,  2827,     0,     6],\n",
      "        [  965,   149,  1241,  1620, 54241,    43,  1127,     0,     6],\n",
      "        [   87,   195,   196,     5,     0, 60138,    17,    75,    20],\n",
      "        [ 3602,   134, 15173,  7778,  1354,   423, 24806,     5,     7],\n",
      "        [  118,   110,     0,     0,     0,     4,     0, 41643,     2],\n",
      "        [  188,    37,    92,     0,     0,     0,     0,     2, 70684]])\n"
     ]
    },
    {
     "data": {
      "application/vnd.jupyter.widget-view+json": {
       "model_id": "29d0f7709a484343a82ae2ad98698a88",
       "version_major": 2,
       "version_minor": 0
      },
      "text/plain": [
       "Validation: |          | 0/? [00:00<?, ?it/s]"
      ]
     },
     "metadata": {},
     "output_type": "display_data"
    },
    {
     "name": "stdout",
     "output_type": "stream",
     "text": [
      "Epoch end: Validation, epoch number: 39\n",
      "ValidationEpoch/CM\n",
      " tensor([[41884,   128,  1278, 10140,  1711,     2,  1896,     0,    11],\n",
      "        [    1, 78980,     0,     0,     0,   124,     0,   171,     0],\n",
      "        [  767,   194, 62152,  1602,   930,   577,  7797,    20,    33],\n",
      "        [ 8614,   159,  1146, 47876,  1673,     6,  2854,     0,     6],\n",
      "        [  965,   149,  1250,  1620, 55789,    43,  1130,     0,     6],\n",
      "        [   87,   195,   196,     5,     0, 61733,    17,    75,    20],\n",
      "        [ 3662,   134, 15483,  7970,  1356,   428, 25637,     5,     7],\n",
      "        [  118,   110,     0,     0,     0,     4,     0, 42743,     2],\n",
      "        [  188,    37,    92,     0,     0,     0,     0,     2, 72549]])\n",
      "Epoch end: Train, epoch number: 38\n",
      "TrainEpoch/CM\n",
      " tensor([[41884,   128,  1278, 10140,  1711,     2,  1896,     0,    11],\n",
      "        [    1, 78980,     0,     0,     0,   124,     0,   171,     0],\n",
      "        [  767,   194, 62152,  1602,   930,   577,  7797,    20,    33],\n",
      "        [ 8614,   159,  1146, 47876,  1673,     6,  2854,     0,     6],\n",
      "        [  965,   149,  1250,  1620, 55789,    43,  1130,     0,     6],\n",
      "        [   87,   195,   196,     5,     0, 61733,    17,    75,    20],\n",
      "        [ 3662,   134, 15483,  7970,  1356,   428, 25637,     5,     7],\n",
      "        [  118,   110,     0,     0,     0,     4,     0, 42743,     2],\n",
      "        [  188,    37,    92,     0,     0,     0,     0,     2, 72549]])\n"
     ]
    },
    {
     "data": {
      "application/vnd.jupyter.widget-view+json": {
       "model_id": "0783fff52fe14cd7a3cb6f51c4689188",
       "version_major": 2,
       "version_minor": 0
      },
      "text/plain": [
       "Validation: |          | 0/? [00:00<?, ?it/s]"
      ]
     },
     "metadata": {},
     "output_type": "display_data"
    },
    {
     "name": "stdout",
     "output_type": "stream",
     "text": [
      "Epoch end: Validation, epoch number: 40\n",
      "ValidationEpoch/CM\n",
      " tensor([[43244,   128,  1288, 10222,  1711,     2,  1904,     0,    11],\n",
      "        [    1, 81010,     0,     0,     0,   124,     0,   171,     0],\n",
      "        [  767,   194, 63875,  1614,   930,   577,  7958,    20,    33],\n",
      "        [ 8757,   159,  1153, 49283,  1673,     6,  2892,     0,     6],\n",
      "        [  965,   149,  1258,  1620, 57340,    43,  1131,     0,     6],\n",
      "        [   87,   195,   196,     5,     0, 63328,    17,    75,    20],\n",
      "        [ 3725,   134, 15784,  8151,  1358,   433, 26485,     5,     7],\n",
      "        [  118,   110,     0,     0,     0,     4,     0, 43843,     2],\n",
      "        [  188,    37,    92,     0,     0,     0,     0,     2, 74414]])\n"
     ]
    },
    {
     "name": "stderr",
     "output_type": "stream",
     "text": [
      "Metric Validation/Accuracy improved by 0.004 >= min_delta = 0.0. New best score: 0.924\n"
     ]
    },
    {
     "name": "stdout",
     "output_type": "stream",
     "text": [
      "Epoch end: Train, epoch number: 39\n",
      "TrainEpoch/CM\n",
      " tensor([[43244,   128,  1288, 10222,  1711,     2,  1904,     0,    11],\n",
      "        [    1, 81010,     0,     0,     0,   124,     0,   171,     0],\n",
      "        [  767,   194, 63875,  1614,   930,   577,  7958,    20,    33],\n",
      "        [ 8757,   159,  1153, 49283,  1673,     6,  2892,     0,     6],\n",
      "        [  965,   149,  1258,  1620, 57340,    43,  1131,     0,     6],\n",
      "        [   87,   195,   196,     5,     0, 63328,    17,    75,    20],\n",
      "        [ 3725,   134, 15784,  8151,  1358,   433, 26485,     5,     7],\n",
      "        [  118,   110,     0,     0,     0,     4,     0, 43843,     2],\n",
      "        [  188,    37,    92,     0,     0,     0,     0,     2, 74414]])\n"
     ]
    },
    {
     "data": {
      "application/vnd.jupyter.widget-view+json": {
       "model_id": "b9d8222f407c489fa6c55b0393fb134e",
       "version_major": 2,
       "version_minor": 0
      },
      "text/plain": [
       "Validation: |          | 0/? [00:00<?, ?it/s]"
      ]
     },
     "metadata": {},
     "output_type": "display_data"
    },
    {
     "name": "stdout",
     "output_type": "stream",
     "text": [
      "Epoch end: Validation, epoch number: 41\n",
      "ValidationEpoch/CM\n",
      " tensor([[44612,   128,  1296, 10295,  1711,     2,  1915,     0,    11],\n",
      "        [    1, 83040,     0,     0,     0,   124,     0,   171,     0],\n",
      "        [  768,   194, 65577,  1626,   930,   577,  8139,    20,    33],\n",
      "        [ 8894,   159,  1160, 50700,  1673,     6,  2926,     0,     6],\n",
      "        [  965,   149,  1266,  1620, 58890,    43,  1133,     0,     6],\n",
      "        [   87,   195,   196,     5,     0, 64923,    17,    75,    20],\n",
      "        [ 3790,   134, 16065,  8319,  1360,   438, 27364,     5,     7],\n",
      "        [  118,   110,     0,     0,     0,     4,     0, 44943,     2],\n",
      "        [  188,    37,    92,     0,     0,     0,     0,     2, 76279]])\n",
      "Epoch end: Train, epoch number: 40\n",
      "TrainEpoch/CM\n",
      " tensor([[44612,   128,  1296, 10295,  1711,     2,  1915,     0,    11],\n",
      "        [    1, 83040,     0,     0,     0,   124,     0,   171,     0],\n",
      "        [  768,   194, 65577,  1626,   930,   577,  8139,    20,    33],\n",
      "        [ 8894,   159,  1160, 50700,  1673,     6,  2926,     0,     6],\n",
      "        [  965,   149,  1266,  1620, 58890,    43,  1133,     0,     6],\n",
      "        [   87,   195,   196,     5,     0, 64923,    17,    75,    20],\n",
      "        [ 3790,   134, 16065,  8319,  1360,   438, 27364,     5,     7],\n",
      "        [  118,   110,     0,     0,     0,     4,     0, 44943,     2],\n",
      "        [  188,    37,    92,     0,     0,     0,     0,     2, 76279]])\n"
     ]
    },
    {
     "data": {
      "application/vnd.jupyter.widget-view+json": {
       "model_id": "27ebaa6f7e444ef0925a0b55efb8a077",
       "version_major": 2,
       "version_minor": 0
      },
      "text/plain": [
       "Validation: |          | 0/? [00:00<?, ?it/s]"
      ]
     },
     "metadata": {},
     "output_type": "display_data"
    },
    {
     "name": "stdout",
     "output_type": "stream",
     "text": [
      "Epoch end: Validation, epoch number: 42\n",
      "ValidationEpoch/CM\n",
      " tensor([[45975,   128,  1304, 10373,  1711,     2,  1926,     0,    11],\n",
      "        [    1, 85070,     0,     0,     0,   124,     0,   171,     0],\n",
      "        [  768,   194, 67272,  1638,   930,   577,  8328,    20,    33],\n",
      "        [ 9020,   159,  1167, 52121,  1673,     6,  2967,     0,     6],\n",
      "        [  965,   149,  1274,  1620, 60441,    43,  1134,     0,     6],\n",
      "        [   87,   195,   196,     5,     0, 66518,    17,    75,    20],\n",
      "        [ 3850,   134, 16346,  8485,  1364,   443, 28248,     5,     7],\n",
      "        [  118,   110,     0,     0,     0,     4,     0, 46043,     2],\n",
      "        [  188,    37,    92,     0,     0,     0,     0,     2, 78144]])\n",
      "Epoch end: Train, epoch number: 41\n",
      "TrainEpoch/CM\n",
      " tensor([[45975,   128,  1304, 10373,  1711,     2,  1926,     0,    11],\n",
      "        [    1, 85070,     0,     0,     0,   124,     0,   171,     0],\n",
      "        [  768,   194, 67272,  1638,   930,   577,  8328,    20,    33],\n",
      "        [ 9020,   159,  1167, 52121,  1673,     6,  2967,     0,     6],\n",
      "        [  965,   149,  1274,  1620, 60441,    43,  1134,     0,     6],\n",
      "        [   87,   195,   196,     5,     0, 66518,    17,    75,    20],\n",
      "        [ 3850,   134, 16346,  8485,  1364,   443, 28248,     5,     7],\n",
      "        [  118,   110,     0,     0,     0,     4,     0, 46043,     2],\n",
      "        [  188,    37,    92,     0,     0,     0,     0,     2, 78144]])\n"
     ]
    },
    {
     "name": "stderr",
     "output_type": "stream",
     "text": [
      "Metric Validation/Accuracy improved by 0.001 >= min_delta = 0.0. New best score: 0.925\n"
     ]
    },
    {
     "data": {
      "application/vnd.jupyter.widget-view+json": {
       "model_id": "f92bb1a6ae434524bd8c9b9f08c3fc90",
       "version_major": 2,
       "version_minor": 0
      },
      "text/plain": [
       "Validation: |          | 0/? [00:00<?, ?it/s]"
      ]
     },
     "metadata": {},
     "output_type": "display_data"
    },
    {
     "name": "stdout",
     "output_type": "stream",
     "text": [
      "Epoch end: Validation, epoch number: 43\n",
      "ValidationEpoch/CM\n",
      " tensor([[47347,   128,  1314, 10442,  1711,     2,  1935,     0,    11],\n",
      "        [    1, 87100,     0,     0,     0,   124,     0,   171,     0],\n",
      "        [  768,   194, 68941,  1648,   930,   577,  8545,    20,    33],\n",
      "        [ 9177,   159,  1178, 53505,  1673,     6,  3010,     0,     6],\n",
      "        [  965,   149,  1278,  1621, 61995,    43,  1135,     0,     6],\n",
      "        [   87,   195,   196,     5,     0, 68113,    17,    75,    20],\n",
      "        [ 3904,   134, 16613,  8659,  1367,   448, 29145,     5,     7],\n",
      "        [  118,   110,     0,     0,     0,     4,     0, 47143,     2],\n",
      "        [  188,    37,    92,     0,     0,     0,     0,     2, 80009]])\n",
      "Epoch end: Train, epoch number: 42\n",
      "TrainEpoch/CM\n",
      " tensor([[47347,   128,  1314, 10442,  1711,     2,  1935,     0,    11],\n",
      "        [    1, 87100,     0,     0,     0,   124,     0,   171,     0],\n",
      "        [  768,   194, 68941,  1648,   930,   577,  8545,    20,    33],\n",
      "        [ 9177,   159,  1178, 53505,  1673,     6,  3010,     0,     6],\n",
      "        [  965,   149,  1278,  1621, 61995,    43,  1135,     0,     6],\n",
      "        [   87,   195,   196,     5,     0, 68113,    17,    75,    20],\n",
      "        [ 3904,   134, 16613,  8659,  1367,   448, 29145,     5,     7],\n",
      "        [  118,   110,     0,     0,     0,     4,     0, 47143,     2],\n",
      "        [  188,    37,    92,     0,     0,     0,     0,     2, 80009]])\n"
     ]
    },
    {
     "data": {
      "application/vnd.jupyter.widget-view+json": {
       "model_id": "462ae8ff46e0415f932a949b20d69841",
       "version_major": 2,
       "version_minor": 0
      },
      "text/plain": [
       "Validation: |          | 0/? [00:00<?, ?it/s]"
      ]
     },
     "metadata": {},
     "output_type": "display_data"
    },
    {
     "name": "stdout",
     "output_type": "stream",
     "text": [
      "Epoch end: Validation, epoch number: 44\n",
      "ValidationEpoch/CM\n",
      " tensor([[48698,   128,  1325, 10525,  1711,     2,  1950,     0,    11],\n",
      "        [    1, 89130,     0,     0,     0,   124,     0,   171,     0],\n",
      "        [  768,   194, 70674,  1660,   930,   577,  8696,    20,    33],\n",
      "        [ 9281,   159,  1187, 54949,  1673,     6,  3048,     0,     6],\n",
      "        [  965,   149,  1287,  1623, 63543,    43,  1136,     0,     6],\n",
      "        [   87,   195,   196,     5,     0, 69708,    17,    75,    20],\n",
      "        [ 3939,   134, 16920,  8839,  1371,   453, 30014,     5,     7],\n",
      "        [  118,   110,     0,     0,     0,     4,     0, 48243,     2],\n",
      "        [  188,    37,    92,     0,     0,     0,     0,     2, 81874]])\n",
      "Epoch end: Train, epoch number: 43\n",
      "TrainEpoch/CM\n",
      " tensor([[48698,   128,  1325, 10525,  1711,     2,  1950,     0,    11],\n",
      "        [    1, 89130,     0,     0,     0,   124,     0,   171,     0],\n",
      "        [  768,   194, 70674,  1660,   930,   577,  8696,    20,    33],\n",
      "        [ 9281,   159,  1187, 54949,  1673,     6,  3048,     0,     6],\n",
      "        [  965,   149,  1287,  1623, 63543,    43,  1136,     0,     6],\n",
      "        [   87,   195,   196,     5,     0, 69708,    17,    75,    20],\n",
      "        [ 3939,   134, 16920,  8839,  1371,   453, 30014,     5,     7],\n",
      "        [  118,   110,     0,     0,     0,     4,     0, 48243,     2],\n",
      "        [  188,    37,    92,     0,     0,     0,     0,     2, 81874]])\n"
     ]
    },
    {
     "name": "stderr",
     "output_type": "stream",
     "text": [
      "Metric Validation/Accuracy improved by 0.006 >= min_delta = 0.0. New best score: 0.930\n"
     ]
    },
    {
     "data": {
      "application/vnd.jupyter.widget-view+json": {
       "model_id": "0984d8230bc3404a9b99badfc8c1d618",
       "version_major": 2,
       "version_minor": 0
      },
      "text/plain": [
       "Validation: |          | 0/? [00:00<?, ?it/s]"
      ]
     },
     "metadata": {},
     "output_type": "display_data"
    },
    {
     "name": "stdout",
     "output_type": "stream",
     "text": [
      "Epoch end: Validation, epoch number: 45\n",
      "ValidationEpoch/CM\n",
      " tensor([[50087,   128,  1334, 10576,  1711,     2,  1961,     0,    11],\n",
      "        [    1, 91160,     0,     0,     0,   124,     0,   171,     0],\n",
      "        [  769,   194, 72370,  1672,   930,   577,  8883,    20,    33],\n",
      "        [ 9421,   159,  1194, 56348,  1673,     6,  3097,     0,     6],\n",
      "        [  965,   149,  1290,  1623, 65098,    43,  1138,     0,     6],\n",
      "        [   87,   195,   196,     5,     0, 71303,    17,    75,    20],\n",
      "        [ 3992,   134, 17198,  8999,  1375,   458, 30914,     5,     7],\n",
      "        [  118,   110,     0,     0,     0,     4,     0, 49343,     2],\n",
      "        [  188,    37,    92,     0,     0,     0,     0,     2, 83739]])\n",
      "Epoch end: Train, epoch number: 44\n",
      "TrainEpoch/CM\n",
      " tensor([[50087,   128,  1334, 10576,  1711,     2,  1961,     0,    11],\n",
      "        [    1, 91160,     0,     0,     0,   124,     0,   171,     0],\n",
      "        [  769,   194, 72370,  1672,   930,   577,  8883,    20,    33],\n",
      "        [ 9421,   159,  1194, 56348,  1673,     6,  3097,     0,     6],\n",
      "        [  965,   149,  1290,  1623, 65098,    43,  1138,     0,     6],\n",
      "        [   87,   195,   196,     5,     0, 71303,    17,    75,    20],\n",
      "        [ 3992,   134, 17198,  8999,  1375,   458, 30914,     5,     7],\n",
      "        [  118,   110,     0,     0,     0,     4,     0, 49343,     2],\n",
      "        [  188,    37,    92,     0,     0,     0,     0,     2, 83739]])\n"
     ]
    },
    {
     "data": {
      "application/vnd.jupyter.widget-view+json": {
       "model_id": "f9d40b7e67f54b2db35366107be4f98f",
       "version_major": 2,
       "version_minor": 0
      },
      "text/plain": [
       "Validation: |          | 0/? [00:00<?, ?it/s]"
      ]
     },
     "metadata": {},
     "output_type": "display_data"
    },
    {
     "name": "stdout",
     "output_type": "stream",
     "text": [
      "Epoch end: Validation, epoch number: 46\n",
      "ValidationEpoch/CM\n",
      " tensor([[51472,   128,  1344, 10635,  1711,     2,  1967,     0,    11],\n",
      "        [    1, 93190,     0,     0,     0,   124,     0,   171,     0],\n",
      "        [  771,   194, 74101,  1683,   930,   577,  9035,    20,    33],\n",
      "        [ 9562,   159,  1203, 57763,  1673,     6,  3127,     0,     6],\n",
      "        [  965,   149,  1295,  1623, 66653,    43,  1138,     0,     6],\n",
      "        [   87,   195,   196,     5,     0, 72898,    17,    75,    20],\n",
      "        [ 4054,   134, 17481,  9170,  1379,   463, 31789,     5,     7],\n",
      "        [  118,   110,     0,     0,     0,     4,     0, 50443,     2],\n",
      "        [  188,    37,    92,     0,     0,     0,     0,     2, 85604]])\n"
     ]
    },
    {
     "name": "stderr",
     "output_type": "stream",
     "text": [
      "Metric Validation/Accuracy improved by 0.001 >= min_delta = 0.0. New best score: 0.932\n"
     ]
    },
    {
     "name": "stdout",
     "output_type": "stream",
     "text": [
      "Epoch end: Train, epoch number: 45\n",
      "TrainEpoch/CM\n",
      " tensor([[51472,   128,  1344, 10635,  1711,     2,  1967,     0,    11],\n",
      "        [    1, 93190,     0,     0,     0,   124,     0,   171,     0],\n",
      "        [  771,   194, 74101,  1683,   930,   577,  9035,    20,    33],\n",
      "        [ 9562,   159,  1203, 57763,  1673,     6,  3127,     0,     6],\n",
      "        [  965,   149,  1295,  1623, 66653,    43,  1138,     0,     6],\n",
      "        [   87,   195,   196,     5,     0, 72898,    17,    75,    20],\n",
      "        [ 4054,   134, 17481,  9170,  1379,   463, 31789,     5,     7],\n",
      "        [  118,   110,     0,     0,     0,     4,     0, 50443,     2],\n",
      "        [  188,    37,    92,     0,     0,     0,     0,     2, 85604]])\n"
     ]
    },
    {
     "data": {
      "application/vnd.jupyter.widget-view+json": {
       "model_id": "3f121bc128aa4b68acc7a0043884ad0e",
       "version_major": 2,
       "version_minor": 0
      },
      "text/plain": [
       "Validation: |          | 0/? [00:00<?, ?it/s]"
      ]
     },
     "metadata": {},
     "output_type": "display_data"
    },
    {
     "name": "stdout",
     "output_type": "stream",
     "text": [
      "Epoch end: Validation, epoch number: 47\n",
      "ValidationEpoch/CM\n",
      " tensor([[52860,   128,  1352, 10692,  1711,     2,  1974,     0,    11],\n",
      "        [    1, 95220,     0,     0,     0,   124,     0,   171,     0],\n",
      "        [  774,   194, 75829,  1695,   930,   577,  9188,    20,    33],\n",
      "        [ 9695,   159,  1212, 59185,  1673,     6,  3158,     0,     6],\n",
      "        [  965,   149,  1301,  1623, 68206,    43,  1139,     0,     6],\n",
      "        [   87,   195,   196,     5,     0, 74493,    17,    75,    20],\n",
      "        [ 4104,   134, 17762,  9344,  1383,   468, 32675,     5,     7],\n",
      "        [  118,   110,     0,     0,     0,     4,     0, 51543,     2],\n",
      "        [  188,    37,    92,     0,     0,     0,     0,     2, 87469]])\n"
     ]
    },
    {
     "name": "stderr",
     "output_type": "stream",
     "text": [
      "Metric Validation/Accuracy improved by 0.000 >= min_delta = 0.0. New best score: 0.932\n"
     ]
    },
    {
     "name": "stdout",
     "output_type": "stream",
     "text": [
      "Epoch end: Train, epoch number: 46\n",
      "TrainEpoch/CM\n",
      " tensor([[52860,   128,  1352, 10692,  1711,     2,  1974,     0,    11],\n",
      "        [    1, 95220,     0,     0,     0,   124,     0,   171,     0],\n",
      "        [  774,   194, 75829,  1695,   930,   577,  9188,    20,    33],\n",
      "        [ 9695,   159,  1212, 59185,  1673,     6,  3158,     0,     6],\n",
      "        [  965,   149,  1301,  1623, 68206,    43,  1139,     0,     6],\n",
      "        [   87,   195,   196,     5,     0, 74493,    17,    75,    20],\n",
      "        [ 4104,   134, 17762,  9344,  1383,   468, 32675,     5,     7],\n",
      "        [  118,   110,     0,     0,     0,     4,     0, 51543,     2],\n",
      "        [  188,    37,    92,     0,     0,     0,     0,     2, 87469]])\n"
     ]
    },
    {
     "data": {
      "application/vnd.jupyter.widget-view+json": {
       "model_id": "62ae3aaa382a4cacb5aeee3881a3b650",
       "version_major": 2,
       "version_minor": 0
      },
      "text/plain": [
       "Validation: |          | 0/? [00:00<?, ?it/s]"
      ]
     },
     "metadata": {},
     "output_type": "display_data"
    },
    {
     "name": "stdout",
     "output_type": "stream",
     "text": [
      "Epoch end: Validation, epoch number: 48\n",
      "ValidationEpoch/CM\n",
      " tensor([[54231,   128,  1363, 10765,  1711,     2,  1979,     0,    11],\n",
      "        [    1, 97250,     0,     0,     0,   124,     0,   171,     0],\n",
      "        [  776,   194, 77546,  1707,   930,   577,  9353,    20,    33],\n",
      "        [ 9787,   159,  1221, 60652,  1673,     6,  3185,     0,     6],\n",
      "        [  965,   149,  1306,  1623, 69761,    43,  1139,     0,     6],\n",
      "        [   87,   195,   196,     5,     0, 76088,    17,    75,    20],\n",
      "        [ 4151,   134, 18072,  9534,  1387,   473, 33519,     5,     7],\n",
      "        [  118,   110,     0,     0,     0,     4,     0, 52643,     2],\n",
      "        [  188,    37,    92,     0,     0,     0,     0,     2, 89334]])\n",
      "Epoch end: Train, epoch number: 47\n",
      "TrainEpoch/CM\n",
      " tensor([[54231,   128,  1363, 10765,  1711,     2,  1979,     0,    11],\n",
      "        [    1, 97250,     0,     0,     0,   124,     0,   171,     0],\n",
      "        [  776,   194, 77546,  1707,   930,   577,  9353,    20,    33],\n",
      "        [ 9787,   159,  1221, 60652,  1673,     6,  3185,     0,     6],\n",
      "        [  965,   149,  1306,  1623, 69761,    43,  1139,     0,     6],\n",
      "        [   87,   195,   196,     5,     0, 76088,    17,    75,    20],\n",
      "        [ 4151,   134, 18072,  9534,  1387,   473, 33519,     5,     7],\n",
      "        [  118,   110,     0,     0,     0,     4,     0, 52643,     2],\n",
      "        [  188,    37,    92,     0,     0,     0,     0,     2, 89334]])\n"
     ]
    },
    {
     "data": {
      "application/vnd.jupyter.widget-view+json": {
       "model_id": "deff538467794abf9d685a21136ebcee",
       "version_major": 2,
       "version_minor": 0
      },
      "text/plain": [
       "Validation: |          | 0/? [00:00<?, ?it/s]"
      ]
     },
     "metadata": {},
     "output_type": "display_data"
    },
    {
     "name": "stdout",
     "output_type": "stream",
     "text": [
      "Epoch end: Validation, epoch number: 49\n",
      "ValidationEpoch/CM\n",
      " tensor([[55610,   128,  1375, 10828,  1711,     2,  1985,     0,    11],\n",
      "        [    1, 99280,     0,     0,     0,   124,     0,   171,     0],\n",
      "        [  776,   194, 79291,  1719,   930,   577,  9492,    20,    33],\n",
      "        [ 9869,   159,  1228, 62134,  1673,     6,  3209,     0,     6],\n",
      "        [  965,   149,  1310,  1623, 71317,    43,  1139,     0,     6],\n",
      "        [   87,   195,   196,     5,     0, 77683,    17,    75,    20],\n",
      "        [ 4186,   134, 18357,  9714,  1390,   478, 34411,     5,     7],\n",
      "        [  118,   110,     0,     0,     0,     4,     0, 53743,     2],\n",
      "        [  188,    37,    92,     0,     0,     0,     0,     2, 91199]])\n",
      "Epoch end: Train, epoch number: 48\n",
      "TrainEpoch/CM\n",
      " tensor([[55610,   128,  1375, 10828,  1711,     2,  1985,     0,    11],\n",
      "        [    1, 99280,     0,     0,     0,   124,     0,   171,     0],\n",
      "        [  776,   194, 79291,  1719,   930,   577,  9492,    20,    33],\n",
      "        [ 9869,   159,  1228, 62134,  1673,     6,  3209,     0,     6],\n",
      "        [  965,   149,  1310,  1623, 71317,    43,  1139,     0,     6],\n",
      "        [   87,   195,   196,     5,     0, 77683,    17,    75,    20],\n",
      "        [ 4186,   134, 18357,  9714,  1390,   478, 34411,     5,     7],\n",
      "        [  118,   110,     0,     0,     0,     4,     0, 53743,     2],\n",
      "        [  188,    37,    92,     0,     0,     0,     0,     2, 91199]])\n"
     ]
    },
    {
     "name": "stderr",
     "output_type": "stream",
     "text": [
      "Metric Validation/Accuracy improved by 0.005 >= min_delta = 0.0. New best score: 0.937\n"
     ]
    },
    {
     "data": {
      "application/vnd.jupyter.widget-view+json": {
       "model_id": "a6e91353355a450ea44e81722fbc069f",
       "version_major": 2,
       "version_minor": 0
      },
      "text/plain": [
       "Validation: |          | 0/? [00:00<?, ?it/s]"
      ]
     },
     "metadata": {},
     "output_type": "display_data"
    },
    {
     "name": "stdout",
     "output_type": "stream",
     "text": [
      "Epoch end: Validation, epoch number: 50\n",
      "ValidationEpoch/CM\n",
      " tensor([[ 56990,    128,   1384,  10893,   1711,      2,   1991,      0,     11],\n",
      "        [     1, 101310,      0,      0,      0,    124,      0,    171,      0],\n",
      "        [   776,    194,  81011,   1731,    930,    577,   9656,     20,     33],\n",
      "        [  9959,    159,   1237,  63605,   1673,      6,   3234,      0,      6],\n",
      "        [   965,    149,   1312,   1623,  72874,     43,   1140,      0,      6],\n",
      "        [    87,    195,    196,      5,      0,  79278,     17,     75,     20],\n",
      "        [  4214,    134,  18651,   9887,   1394,    483,  35307,      5,      7],\n",
      "        [   118,    110,      0,      0,      0,      4,      0,  54843,      2],\n",
      "        [   188,     37,     92,      0,      0,      0,      0,      2,  93064]])\n"
     ]
    },
    {
     "name": "stderr",
     "output_type": "stream",
     "text": [
      "Metric Validation/Accuracy improved by 0.001 >= min_delta = 0.0. New best score: 0.937\n"
     ]
    },
    {
     "name": "stdout",
     "output_type": "stream",
     "text": [
      "Epoch end: Train, epoch number: 49\n",
      "TrainEpoch/CM\n",
      " tensor([[ 56990,    128,   1384,  10893,   1711,      2,   1991,      0,     11],\n",
      "        [     1, 101310,      0,      0,      0,    124,      0,    171,      0],\n",
      "        [   776,    194,  81011,   1731,    930,    577,   9656,     20,     33],\n",
      "        [  9959,    159,   1237,  63605,   1673,      6,   3234,      0,      6],\n",
      "        [   965,    149,   1312,   1623,  72874,     43,   1140,      0,      6],\n",
      "        [    87,    195,    196,      5,      0,  79278,     17,     75,     20],\n",
      "        [  4214,    134,  18651,   9887,   1394,    483,  35307,      5,      7],\n",
      "        [   118,    110,      0,      0,      0,      4,      0,  54843,      2],\n",
      "        [   188,     37,     92,      0,      0,      0,      0,      2,  93064]])\n"
     ]
    },
    {
     "data": {
      "application/vnd.jupyter.widget-view+json": {
       "model_id": "b9bbabc395024ff59362cf15bdcb58e1",
       "version_major": 2,
       "version_minor": 0
      },
      "text/plain": [
       "Validation: |          | 0/? [00:00<?, ?it/s]"
      ]
     },
     "metadata": {},
     "output_type": "display_data"
    },
    {
     "name": "stdout",
     "output_type": "stream",
     "text": [
      "Epoch end: Validation, epoch number: 51\n",
      "ValidationEpoch/CM\n",
      " tensor([[ 58366,    128,   1391,  10967,   1711,      2,   1994,      0,     11],\n",
      "        [     1, 103340,      0,      0,      0,    124,      0,    171,      0],\n",
      "        [   776,    194,  82760,   1743,    930,    577,   9791,     20,     33],\n",
      "        [ 10044,    159,   1245,  65081,   1673,      6,   3260,      0,      6],\n",
      "        [   965,    149,   1317,   1623,  74428,     43,   1141,      0,      6],\n",
      "        [    87,    195,    196,      5,      0,  80873,     17,     75,     20],\n",
      "        [  4245,    134,  18935,  10071,   1398,    488,  36199,      5,      7],\n",
      "        [   118,    110,      0,      0,      0,      4,      0,  55943,      2],\n",
      "        [   188,     37,     92,      0,      0,      0,      0,      2,  94929]])\n",
      "Epoch end: Train, epoch number: 50\n",
      "TrainEpoch/CM\n",
      " tensor([[ 58366,    128,   1391,  10967,   1711,      2,   1994,      0,     11],\n",
      "        [     1, 103340,      0,      0,      0,    124,      0,    171,      0],\n",
      "        [   776,    194,  82760,   1743,    930,    577,   9791,     20,     33],\n",
      "        [ 10044,    159,   1245,  65081,   1673,      6,   3260,      0,      6],\n",
      "        [   965,    149,   1317,   1623,  74428,     43,   1141,      0,      6],\n",
      "        [    87,    195,    196,      5,      0,  80873,     17,     75,     20],\n",
      "        [  4245,    134,  18935,  10071,   1398,    488,  36199,      5,      7],\n",
      "        [   118,    110,      0,      0,      0,      4,      0,  55943,      2],\n",
      "        [   188,     37,     92,      0,      0,      0,      0,      2,  94929]])\n"
     ]
    },
    {
     "data": {
      "application/vnd.jupyter.widget-view+json": {
       "model_id": "aaf813d9e98a4ebf8707e5b7ab4e85a4",
       "version_major": 2,
       "version_minor": 0
      },
      "text/plain": [
       "Validation: |          | 0/? [00:00<?, ?it/s]"
      ]
     },
     "metadata": {},
     "output_type": "display_data"
    },
    {
     "name": "stdout",
     "output_type": "stream",
     "text": [
      "Epoch end: Validation, epoch number: 52\n",
      "ValidationEpoch/CM\n",
      " tensor([[ 59736,    128,   1400,  11041,   1711,      2,   2001,      0,     11],\n",
      "        [     1, 105370,      0,      0,      0,    124,      0,    171,      0],\n",
      "        [   776,    194,  84508,   1755,    930,    577,   9927,     20,     33],\n",
      "        [ 10127,    159,   1253,  66553,   1673,      6,   3292,      0,      6],\n",
      "        [   965,    149,   1320,   1623,  75985,     43,   1141,      0,      6],\n",
      "        [    87,    195,    196,      5,      0,  82468,     17,     75,     20],\n",
      "        [  4272,    134,  19200,  10252,   1401,    493,  37118,      5,      7],\n",
      "        [   118,    110,      0,      0,      0,      4,      0,  57043,      2],\n",
      "        [   188,     37,     92,      0,      0,      0,      0,      2,  96794]])\n"
     ]
    },
    {
     "name": "stderr",
     "output_type": "stream",
     "text": [
      "Metric Validation/Accuracy improved by 0.001 >= min_delta = 0.0. New best score: 0.938\n"
     ]
    },
    {
     "name": "stdout",
     "output_type": "stream",
     "text": [
      "Epoch end: Train, epoch number: 51\n",
      "TrainEpoch/CM\n",
      " tensor([[ 59736,    128,   1400,  11041,   1711,      2,   2001,      0,     11],\n",
      "        [     1, 105370,      0,      0,      0,    124,      0,    171,      0],\n",
      "        [   776,    194,  84508,   1755,    930,    577,   9927,     20,     33],\n",
      "        [ 10127,    159,   1253,  66553,   1673,      6,   3292,      0,      6],\n",
      "        [   965,    149,   1320,   1623,  75985,     43,   1141,      0,      6],\n",
      "        [    87,    195,    196,      5,      0,  82468,     17,     75,     20],\n",
      "        [  4272,    134,  19200,  10252,   1401,    493,  37118,      5,      7],\n",
      "        [   118,    110,      0,      0,      0,      4,      0,  57043,      2],\n",
      "        [   188,     37,     92,      0,      0,      0,      0,      2,  96794]])\n"
     ]
    },
    {
     "data": {
      "application/vnd.jupyter.widget-view+json": {
       "model_id": "c44fbd76a08847ab8a81936bc5d46d93",
       "version_major": 2,
       "version_minor": 0
      },
      "text/plain": [
       "Validation: |          | 0/? [00:00<?, ?it/s]"
      ]
     },
     "metadata": {},
     "output_type": "display_data"
    },
    {
     "name": "stdout",
     "output_type": "stream",
     "text": [
      "Epoch end: Validation, epoch number: 53\n",
      "ValidationEpoch/CM\n",
      " tensor([[ 61119,    128,   1408,  11099,   1711,      2,   2012,      0,     11],\n",
      "        [     1, 107400,      0,      0,      0,    124,      0,    171,      0],\n",
      "        [   779,    194,  86214,   1764,    930,    577,  10105,     20,     33],\n",
      "        [ 10222,    159,   1259,  68011,   1674,      6,   3327,      0,      6],\n",
      "        [   965,    149,   1320,   1623,  77545,     43,   1141,      0,      6],\n",
      "        [    87,    195,    196,      5,      0,  84063,     17,     75,     20],\n",
      "        [  4304,    134,  19453,  10424,   1404,    498,  38053,      5,      7],\n",
      "        [   118,    110,      0,      0,      0,      4,      0,  58143,      2],\n",
      "        [   188,     37,     92,      0,      0,      0,      0,      2,  98659]])\n",
      "Epoch end: Train, epoch number: 52\n",
      "TrainEpoch/CM\n",
      " tensor([[ 61119,    128,   1408,  11099,   1711,      2,   2012,      0,     11],\n",
      "        [     1, 107400,      0,      0,      0,    124,      0,    171,      0],\n",
      "        [   779,    194,  86214,   1764,    930,    577,  10105,     20,     33],\n",
      "        [ 10222,    159,   1259,  68011,   1674,      6,   3327,      0,      6],\n",
      "        [   965,    149,   1320,   1623,  77545,     43,   1141,      0,      6],\n",
      "        [    87,    195,    196,      5,      0,  84063,     17,     75,     20],\n",
      "        [  4304,    134,  19453,  10424,   1404,    498,  38053,      5,      7],\n",
      "        [   118,    110,      0,      0,      0,      4,      0,  58143,      2],\n",
      "        [   188,     37,     92,      0,      0,      0,      0,      2,  98659]])\n"
     ]
    },
    {
     "data": {
      "application/vnd.jupyter.widget-view+json": {
       "model_id": "1d9efa966a7b43a3804b4add81145002",
       "version_major": 2,
       "version_minor": 0
      },
      "text/plain": [
       "Validation: |          | 0/? [00:00<?, ?it/s]"
      ]
     },
     "metadata": {},
     "output_type": "display_data"
    },
    {
     "name": "stdout",
     "output_type": "stream",
     "text": [
      "Epoch end: Validation, epoch number: 54\n",
      "ValidationEpoch/CM\n",
      " tensor([[ 62512,    128,   1414,  11156,   1711,      2,   2016,      0,     11],\n",
      "        [     1, 109430,      0,      0,      0,    124,      0,    171,      0],\n",
      "        [   779,    194,  87940,   1773,    930,    577,  10266,     20,     33],\n",
      "        [ 10299,    159,   1267,  69488,   1674,      6,   3360,      0,      6],\n",
      "        [   965,    149,   1322,   1623,  79102,     43,   1142,      0,      6],\n",
      "        [    87,    195,    196,      5,      0,  85658,     17,     75,     20],\n",
      "        [  4327,    134,  19718,  10597,   1409,    503,  38982,      5,      7],\n",
      "        [   118,    110,      0,      0,      0,      4,      0,  59243,      2],\n",
      "        [   188,     37,     92,      0,      0,      0,      0,      2, 100524]])\n",
      "Epoch end: Train, epoch number: 53\n",
      "TrainEpoch/CM\n",
      " tensor([[ 62512,    128,   1414,  11156,   1711,      2,   2016,      0,     11],\n",
      "        [     1, 109430,      0,      0,      0,    124,      0,    171,      0],\n",
      "        [   779,    194,  87940,   1773,    930,    577,  10266,     20,     33],\n",
      "        [ 10299,    159,   1267,  69488,   1674,      6,   3360,      0,      6],\n",
      "        [   965,    149,   1322,   1623,  79102,     43,   1142,      0,      6],\n",
      "        [    87,    195,    196,      5,      0,  85658,     17,     75,     20],\n",
      "        [  4327,    134,  19718,  10597,   1409,    503,  38982,      5,      7],\n",
      "        [   118,    110,      0,      0,      0,      4,      0,  59243,      2],\n",
      "        [   188,     37,     92,      0,      0,      0,      0,      2, 100524]])\n"
     ]
    },
    {
     "name": "stderr",
     "output_type": "stream",
     "text": [
      "Metric Validation/Accuracy improved by 0.006 >= min_delta = 0.0. New best score: 0.944\n"
     ]
    },
    {
     "data": {
      "application/vnd.jupyter.widget-view+json": {
       "model_id": "7e9dc04a28dd41809bbe76eebfa65a16",
       "version_major": 2,
       "version_minor": 0
      },
      "text/plain": [
       "Validation: |          | 0/? [00:00<?, ?it/s]"
      ]
     },
     "metadata": {},
     "output_type": "display_data"
    },
    {
     "name": "stdout",
     "output_type": "stream",
     "text": [
      "Epoch end: Validation, epoch number: 55\n",
      "ValidationEpoch/CM\n",
      " tensor([[ 63914,    128,   1421,  11204,   1711,      2,   2019,      0,     11],\n",
      "        [     1, 111460,      0,      0,      0,    124,      0,    171,      0],\n",
      "        [   780,    194,  89689,   1785,    930,    577,  10400,     20,     33],\n",
      "        [ 10396,    159,   1274,  70949,   1674,      6,   3390,      0,      6],\n",
      "        [   965,    149,   1324,   1623,  80660,     43,   1142,      0,      6],\n",
      "        [    87,    195,    196,      5,      0,  87253,     17,     75,     20],\n",
      "        [  4360,    134,  20012,  10765,   1414,    508,  39877,      5,      7],\n",
      "        [   118,    110,      0,      0,      0,      4,      0,  60343,      2],\n",
      "        [   188,     37,     92,      0,      0,      0,      0,      2, 102389]])\n",
      "Epoch end: Train, epoch number: 54\n",
      "TrainEpoch/CM\n",
      " tensor([[ 63914,    128,   1421,  11204,   1711,      2,   2019,      0,     11],\n",
      "        [     1, 111460,      0,      0,      0,    124,      0,    171,      0],\n",
      "        [   780,    194,  89689,   1785,    930,    577,  10400,     20,     33],\n",
      "        [ 10396,    159,   1274,  70949,   1674,      6,   3390,      0,      6],\n",
      "        [   965,    149,   1324,   1623,  80660,     43,   1142,      0,      6],\n",
      "        [    87,    195,    196,      5,      0,  87253,     17,     75,     20],\n",
      "        [  4360,    134,  20012,  10765,   1414,    508,  39877,      5,      7],\n",
      "        [   118,    110,      0,      0,      0,      4,      0,  60343,      2],\n",
      "        [   188,     37,     92,      0,      0,      0,      0,      2, 102389]])\n"
     ]
    },
    {
     "data": {
      "application/vnd.jupyter.widget-view+json": {
       "model_id": "94ad771cef8f4f30a91e6f4747114da8",
       "version_major": 2,
       "version_minor": 0
      },
      "text/plain": [
       "Validation: |          | 0/? [00:00<?, ?it/s]"
      ]
     },
     "metadata": {},
     "output_type": "display_data"
    },
    {
     "name": "stdout",
     "output_type": "stream",
     "text": [
      "Epoch end: Validation, epoch number: 56\n",
      "ValidationEpoch/CM\n",
      " tensor([[ 65316,    128,   1426,  11252,   1711,      2,   2024,      0,     11],\n",
      "        [     1, 113490,      0,      0,      0,    124,      0,    171,      0],\n",
      "        [   780,    194,  91429,   1793,    930,    577,  10548,     20,     33],\n",
      "        [ 10502,    159,   1281,  72392,   1674,      6,   3429,      0,      6],\n",
      "        [   965,    149,   1326,   1624,  82217,     43,   1142,      0,      6],\n",
      "        [    87,    195,    196,      5,      0,  88848,     17,     75,     20],\n",
      "        [  4389,    134,  20285,  10933,   1419,    512,  40798,      5,      7],\n",
      "        [   118,    110,      0,      0,      0,      4,      0,  61443,      2],\n",
      "        [   188,     37,     92,      0,      0,      0,      0,      2, 104254]])\n",
      "Epoch end: Train, epoch number: 55\n",
      "TrainEpoch/CM\n",
      " tensor([[ 65316,    128,   1426,  11252,   1711,      2,   2024,      0,     11],\n",
      "        [     1, 113490,      0,      0,      0,    124,      0,    171,      0],\n",
      "        [   780,    194,  91429,   1793,    930,    577,  10548,     20,     33],\n",
      "        [ 10502,    159,   1281,  72392,   1674,      6,   3429,      0,      6],\n",
      "        [   965,    149,   1326,   1624,  82217,     43,   1142,      0,      6],\n",
      "        [    87,    195,    196,      5,      0,  88848,     17,     75,     20],\n",
      "        [  4389,    134,  20285,  10933,   1419,    512,  40798,      5,      7],\n",
      "        [   118,    110,      0,      0,      0,      4,      0,  61443,      2],\n",
      "        [   188,     37,     92,      0,      0,      0,      0,      2, 104254]])\n"
     ]
    },
    {
     "data": {
      "application/vnd.jupyter.widget-view+json": {
       "model_id": "14b38d46161049e680e5149337c5fa1a",
       "version_major": 2,
       "version_minor": 0
      },
      "text/plain": [
       "Validation: |          | 0/? [00:00<?, ?it/s]"
      ]
     },
     "metadata": {},
     "output_type": "display_data"
    },
    {
     "name": "stdout",
     "output_type": "stream",
     "text": [
      "Epoch end: Validation, epoch number: 57\n",
      "ValidationEpoch/CM\n",
      " tensor([[ 66679,    128,   1438,  11329,   1711,      2,   2032,      0,     11],\n",
      "        [     1, 115520,      0,      0,      0,    124,      0,    171,      0],\n",
      "        [   789,    194,  93170,   1799,    930,    577,  10688,     20,     33],\n",
      "        [ 10619,    159,   1291,  73823,   1674,      6,   3466,      0,      6],\n",
      "        [   965,    149,   1328,   1624,  83775,     43,   1142,      0,      6],\n",
      "        [    87,    195,    196,      5,      0,  90443,     17,     75,     20],\n",
      "        [  4425,    134,  20540,  11086,   1423,    517,  41745,      5,      7],\n",
      "        [   118,    110,      0,      0,      0,      4,      0,  62543,      2],\n",
      "        [   188,     37,     92,      0,      0,      0,      0,      2, 106119]])\n",
      "Epoch end: Train, epoch number: 56\n",
      "TrainEpoch/CM\n",
      " tensor([[ 66679,    128,   1438,  11329,   1711,      2,   2032,      0,     11],\n",
      "        [     1, 115520,      0,      0,      0,    124,      0,    171,      0],\n",
      "        [   789,    194,  93170,   1799,    930,    577,  10688,     20,     33],\n",
      "        [ 10619,    159,   1291,  73823,   1674,      6,   3466,      0,      6],\n",
      "        [   965,    149,   1328,   1624,  83775,     43,   1142,      0,      6],\n",
      "        [    87,    195,    196,      5,      0,  90443,     17,     75,     20],\n",
      "        [  4425,    134,  20540,  11086,   1423,    517,  41745,      5,      7],\n",
      "        [   118,    110,      0,      0,      0,      4,      0,  62543,      2],\n",
      "        [   188,     37,     92,      0,      0,      0,      0,      2, 106119]])\n"
     ]
    },
    {
     "data": {
      "application/vnd.jupyter.widget-view+json": {
       "model_id": "da966597c9024e4a81cdaf973a2a801c",
       "version_major": 2,
       "version_minor": 0
      },
      "text/plain": [
       "Validation: |          | 0/? [00:00<?, ?it/s]"
      ]
     },
     "metadata": {},
     "output_type": "display_data"
    },
    {
     "name": "stdout",
     "output_type": "stream",
     "text": [
      "Epoch end: Validation, epoch number: 58\n",
      "ValidationEpoch/CM\n",
      " tensor([[ 68070,    128,   1448,  11382,   1711,      2,   2038,      0,     11],\n",
      "        [     1, 117550,      0,      0,      0,    124,      0,    171,      0],\n",
      "        [   792,    194,  94880,   1808,    930,    577,  10862,     20,     33],\n",
      "        [ 10732,    159,   1297,  75263,   1674,      6,   3502,      0,      6],\n",
      "        [   965,    149,   1328,   1624,  85335,     43,   1142,      0,      6],\n",
      "        [    87,    195,    196,      5,      0,  92038,     17,     75,     20],\n",
      "        [  4459,    134,  20773,  11254,   1424,    522,  42704,      5,      7],\n",
      "        [   118,    110,      0,      0,      0,      4,      0,  63643,      2],\n",
      "        [   188,     37,     92,      0,      0,      0,      0,      2, 107984]])\n",
      "Epoch end: Train, epoch number: 57\n",
      "TrainEpoch/CM\n",
      " tensor([[ 68070,    128,   1448,  11382,   1711,      2,   2038,      0,     11],\n",
      "        [     1, 117550,      0,      0,      0,    124,      0,    171,      0],\n",
      "        [   792,    194,  94880,   1808,    930,    577,  10862,     20,     33],\n",
      "        [ 10732,    159,   1297,  75263,   1674,      6,   3502,      0,      6],\n",
      "        [   965,    149,   1328,   1624,  85335,     43,   1142,      0,      6],\n",
      "        [    87,    195,    196,      5,      0,  92038,     17,     75,     20],\n",
      "        [  4459,    134,  20773,  11254,   1424,    522,  42704,      5,      7],\n",
      "        [   118,    110,      0,      0,      0,      4,      0,  63643,      2],\n",
      "        [   188,     37,     92,      0,      0,      0,      0,      2, 107984]])\n"
     ]
    },
    {
     "data": {
      "application/vnd.jupyter.widget-view+json": {
       "model_id": "e31bd3f430f04e5f8e6f91391934a3eb",
       "version_major": 2,
       "version_minor": 0
      },
      "text/plain": [
       "Validation: |          | 0/? [00:00<?, ?it/s]"
      ]
     },
     "metadata": {},
     "output_type": "display_data"
    },
    {
     "name": "stdout",
     "output_type": "stream",
     "text": [
      "Epoch end: Validation, epoch number: 59\n",
      "ValidationEpoch/CM\n",
      " tensor([[ 69456,    128,   1455,  11445,   1711,      2,   2042,      0,     11],\n",
      "        [     1, 119580,      0,      0,      0,    124,      0,    171,      0],\n",
      "        [   793,    194,  96622,   1818,    930,    577,  11005,     20,     33],\n",
      "        [ 10842,    159,   1310,  76715,   1674,      6,   3522,      0,      6],\n",
      "        [   965,    149,   1329,   1624,  86894,     43,   1142,      0,      6],\n",
      "        [    87,    195,    196,      5,      0,  93633,     17,     75,     20],\n",
      "        [  4492,    134,  21044,  11415,   1428,    527,  43630,      5,      7],\n",
      "        [   118,    110,      0,      0,      0,      4,      0,  64743,      2],\n",
      "        [   188,     37,     92,      0,      0,      0,      0,      2, 109849]])\n",
      "Epoch end: Train, epoch number: 58\n",
      "TrainEpoch/CM\n",
      " tensor([[ 69456,    128,   1455,  11445,   1711,      2,   2042,      0,     11],\n",
      "        [     1, 119580,      0,      0,      0,    124,      0,    171,      0],\n",
      "        [   793,    194,  96622,   1818,    930,    577,  11005,     20,     33],\n",
      "        [ 10842,    159,   1310,  76715,   1674,      6,   3522,      0,      6],\n",
      "        [   965,    149,   1329,   1624,  86894,     43,   1142,      0,      6],\n",
      "        [    87,    195,    196,      5,      0,  93633,     17,     75,     20],\n",
      "        [  4492,    134,  21044,  11415,   1428,    527,  43630,      5,      7],\n",
      "        [   118,    110,      0,      0,      0,      4,      0,  64743,      2],\n",
      "        [   188,     37,     92,      0,      0,      0,      0,      2, 109849]])\n"
     ]
    },
    {
     "name": "stderr",
     "output_type": "stream",
     "text": [
      "Monitored metric Validation/Accuracy did not improve in the last 5 records. Best score: 0.944. Signaling Trainer to stop.\n"
     ]
    }
   ],
   "source": [
    "trainer.fit(model=model, train_dataloaders=train_dataloader, val_dataloaders=val_dataloader)"
   ]
  },
  {
   "cell_type": "code",
   "execution_count": 16,
   "metadata": {},
   "outputs": [
    {
     "data": {
      "text/plain": [
       "MalwaresModelLinearLayer(\n",
       "  (train_metrics): MetricCollection(\n",
       "    (MulticlassAccuracy): MulticlassAccuracy()\n",
       "    (MulticlassPrecision): MulticlassPrecision()\n",
       "    (MulticlassRecall): MulticlassRecall()\n",
       "    (MulticlassF1Score): MulticlassF1Score(),\n",
       "    prefix=Train/\n",
       "  )\n",
       "  (val_metrics): MetricCollection(\n",
       "    (MulticlassAccuracy): MulticlassAccuracy()\n",
       "    (MulticlassPrecision): MulticlassPrecision()\n",
       "    (MulticlassRecall): MulticlassRecall()\n",
       "    (MulticlassF1Score): MulticlassF1Score(),\n",
       "    prefix=Validation/\n",
       "  )\n",
       "  (test_metrics): MetricCollection(\n",
       "    (MulticlassAccuracy): MulticlassAccuracy()\n",
       "    (MulticlassPrecision): MulticlassPrecision()\n",
       "    (MulticlassRecall): MulticlassRecall()\n",
       "    (MulticlassF1Score): MulticlassF1Score(),\n",
       "    prefix=Test/\n",
       "  )\n",
       "  (cm): MulticlassConfusionMatrix()\n",
       "  (criterion): CrossEntropyLoss()\n",
       "  (l1): Linear(in_features=305, out_features=9, bias=True)\n",
       ")"
      ]
     },
     "execution_count": 16,
     "metadata": {},
     "output_type": "execute_result"
    }
   ],
   "source": [
    "model.eval()"
   ]
  },
  {
   "cell_type": "code",
   "execution_count": 17,
   "metadata": {},
   "outputs": [
    {
     "name": "stderr",
     "output_type": "stream",
     "text": [
      "LOCAL_RANK: 0 - CUDA_VISIBLE_DEVICES: [0]\n"
     ]
    },
    {
     "name": "stdout",
     "output_type": "stream",
     "text": [
      "/home/<User>/repos/csg_is/training/official_logs/single-layer_300_10s/version_0/checkpoints/epoch=53-step=1296.ckpt\n",
      "tensor(0.9440, device='cuda:0')\n"
     ]
    },
    {
     "data": {
      "application/vnd.jupyter.widget-view+json": {
       "model_id": "14977b3d761e4a848936e92e2622769b",
       "version_major": 2,
       "version_minor": 0
      },
      "text/plain": [
       "Testing: |          | 0/? [00:00<?, ?it/s]"
      ]
     },
     "metadata": {},
     "output_type": "display_data"
    },
    {
     "name": "stdout",
     "output_type": "stream",
     "text": [
      "Epoch end: Test, epoch number: 0\n",
      "TestEpoch/CM\n",
      " tensor([[316,   0,   0,  21,   0,   0,   0,   0,   0],\n",
      "        [  0, 349,   0,   0,   0,   0,   0,   0,   0],\n",
      "        [  0,   0, 359,   2,   0,   0,  15,   0,   0],\n",
      "        [ 11,   0,   1, 319,   0,   0,   3,   0,   0],\n",
      "        [  0,   0,   0,   0, 301,   0,   0,   0,   0],\n",
      "        [  0,   0,   0,   0,   0, 354,   0,   0,   0],\n",
      "        [  4,   0,  48,  43,   0,   1, 176,   0,   0],\n",
      "        [  0,   0,   0,   0,   0,   0,   0, 202,   0],\n",
      "        [  0,   0,   0,   0,   0,   0,   0,   0, 376]])\n",
      "────────────────────────────────────────────────────────────────────────────────────────────────────────────────────────\n",
      "       Test metric             DataLoader 0\n",
      "────────────────────────────────────────────────────────────────────────────────────────────────────────────────────────\n",
      "      Test/Accuracy         0.9440145492553711\n",
      "      Test/F1Score          0.9442408680915833\n",
      "        Test/Loss           0.2531762719154358\n",
      "     Test/Precision         0.9514034986495972\n",
      "       Test/Recall          0.9440145492553711\n",
      "   TestEpoch/Accuracy       0.9438468217849731\n",
      "    TestEpoch/F1Score       0.9448024034500122\n",
      "   TestEpoch/Precision      0.9519506096839905\n",
      "    TestEpoch/Recall        0.9438468217849731\n",
      "────────────────────────────────────────────────────────────────────────────────────────────────────────────────────────\n"
     ]
    },
    {
     "data": {
      "text/plain": [
       "[{'Test/Loss': 0.2531762719154358,\n",
       "  'Test/Accuracy': 0.9440145492553711,\n",
       "  'Test/Precision': 0.9514034986495972,\n",
       "  'Test/Recall': 0.9440145492553711,\n",
       "  'Test/F1Score': 0.9442408680915833,\n",
       "  'TestEpoch/Accuracy': 0.9438468217849731,\n",
       "  'TestEpoch/Precision': 0.9519506096839905,\n",
       "  'TestEpoch/Recall': 0.9438468217849731,\n",
       "  'TestEpoch/F1Score': 0.9448024034500122}]"
      ]
     },
     "execution_count": 17,
     "metadata": {},
     "output_type": "execute_result"
    }
   ],
   "source": [
    "print(checkpoint_callback.best_model_path)   # prints path to the best model's checkpoint\n",
    "print(checkpoint_callback.best_model_score) # and prints it score\n",
    "best_model = MalwaresModelLinearLayer.load_from_checkpoint(checkpoint_callback.best_model_path, input_size = vectors.shape[1]-1, output_size = len(label_encoder.classes_))\n",
    "\n",
    "trainer.test(best_model, dataloaders=val_dataloader)"
   ]
  },
  {
   "cell_type": "code",
   "execution_count": 18,
   "metadata": {},
   "outputs": [
    {
     "name": "stdout",
     "output_type": "stream",
     "text": [
      "Feature importance based on weights:\n",
      "Rank 1: Feature 16writeback:global_dirty_state_FLS_data with weight -0.7168315649032593\n",
      "Rank 2: Feature 243inotify_add_watch with weight 0.13704286515712738\n",
      "Rank 3: Feature 116L1-icache-load-misses with weight -0.30816102027893066\n",
      "Rank 4: Feature 153napi:napi_poll with weight 0.21017998456954956\n",
      "Rank 5: Feature 218dup2 with weight -0.3637770116329193\n",
      "Rank 6: Feature 65signal:signal_generate with weight -0.6312534809112549\n",
      "Rank 7: Feature 71timer:timer_start_KERN_data with weight 0.03948609530925751\n",
      "Rank 8: Feature 101sched:sched_process_free with weight -0.5713912844657898\n",
      "Rank 9: Feature 296getsockname with weight -0.17245560884475708\n",
      "Rank 10: Feature 126armv7_cortex_a15/l1i_cache_refill/ with weight -0.08251269906759262\n",
      "Rank 11: Feature 163armv7_cortex_a15/l2d_cache/ with weight -0.39360371232032776\n",
      "Rank 12: Feature 128LLC-loads with weight -0.291718453168869\n",
      "Rank 13: Feature 298wait4 with weight -0.49714240431785583\n",
      "Rank 14: Feature 64sched:sched_process_wait with weight -0.5294314622879028\n",
      "Rank 15: Feature 233writev with weight -0.3803921341896057\n",
      "Rank 16: Feature 110LLC-stores with weight -0.578496515750885\n",
      "Rank 17: Feature 70writeback:global_dirty_state_KERN_data with weight -0.3162630498409271\n",
      "Rank 18: Feature 236getegid32 with weight -1.996900200843811\n",
      "Rank 19: Feature 61irq:softirq_entry with weight 0.10133685171604156\n",
      "Rank 20: Feature 277dup with weight -0.7434619069099426\n",
      "Rank 21: Feature 162ext4:ext4_releasepage_RES_data with weight -0.0945243313908577\n",
      "Rank 22: Feature 11ext4:ext4_invalidatepage with weight -0.0762062519788742\n",
      "Rank 23: Feature 282munmap with weight -0.010358347557485104\n",
      "Rank 24: Feature 77signal:signal_deliver with weight -0.670891284942627\n",
      "Rank 25: Feature 33ext4:ext4_da_update_reserve_space_FLS_data with weight 0.03205033764243126\n",
      "Rank 26: Feature 288recvfrom with weight 0.14500559866428375\n",
      "Rank 27: Feature 230timerfd_create with weight -0.11109305173158646\n",
      "Rank 28: Feature 53ext4:ext4_da_reserve_space with weight -0.1242074966430664\n",
      "Rank 29: Feature 73writeback:writeback_dirty_inode_KERN_data with weight -0.12494643032550812\n",
      "Rank 30: Feature 51ext4:ext4_truncate_enter with weight -0.2395744025707245\n",
      "Rank 31: Feature 106task:task_newtask_KERN_data with weight -0.5931413769721985\n",
      "Rank 32: Feature 240madvise with weight -0.20829302072525024\n",
      "Rank 33: Feature 286fstatat64 with weight -1.0193350315093994\n",
      "Rank 34: Feature 48ext4:ext4_mark_inode_dirty with weight -0.27102604508399963\n",
      "Rank 35: Feature 4block:block_dirty_buffer_FLS_data with weight -0.26970580220222473\n",
      "Rank 36: Feature 229ioctl with weight -0.1459467113018036\n",
      "Rank 37: Feature 39block:block_unplug_FLS_data with weight -1.024224042892456\n",
      "Rank 38: Feature 72filemap:mm_filemap_add_to_page_cache_KERN_data with weight -0.055288586765527725\n",
      "Rank 39: Feature 108random:get_random_bytes with weight -1.3764638900756836\n",
      "Rank 40: Feature 223kcmp with weight -0.4273870289325714\n",
      "Rank 41: Feature 23ext4:ext4_ext_remove_space_done with weight -0.2852894067764282\n",
      "Rank 42: Feature 294set_tid_address with weight -0.2174062281847\n",
      "Rank 43: Feature 2ext4:ext4_da_write_end with weight -0.16629992425441742\n",
      "Rank 44: Feature 13ext4:ext4_releasepage_FLS_data with weight -0.07375364005565643\n",
      "Rank 45: Feature 293rmdir with weight -0.25797873735427856\n",
      "Rank 46: Feature 37jbd2:jbd2_handle_stats_FLS_data with weight -0.25058794021606445\n",
      "Rank 47: Feature 127timer:timer_init with weight -0.4338779151439667\n",
      "Rank 48: Feature 302pipe2 with weight -0.0241058599203825\n",
      "Rank 49: Feature 17ext4:ext4_writepages_result_FLS_data with weight 0.5395290851593018\n",
      "Rank 50: Feature 44ext4:ext4_truncate_exit with weight -0.2819913327693939\n",
      "Rank 51: Feature 7ext4:ext4_da_write_begin with weight -0.10303471237421036\n",
      "Rank 52: Feature 251poll with weight -0.23772157728672028\n",
      "Rank 53: Feature 0writeback:sb_clear_inode_writeback_FLS_data with weight -0.017066922038793564\n",
      "Rank 54: Feature 186timer:timer_start_RES_data with weight 0.009070384316146374\n",
      "Rank 55: Feature 69tcp:tcp_probe_KERN_data with weight 0.6884849667549133\n",
      "Rank 56: Feature 197L1-dcache-load-misses with weight -0.7973149418830872\n",
      "Rank 57: Feature 49ext4:ext4_begin_ordered_truncate with weight -0.04988311231136322\n",
      "Rank 58: Feature 281getsockopt with weight -0.13640964031219482\n",
      "Rank 59: Feature 26ext4:ext4_discard_preallocations with weight -0.4882890284061432\n",
      "Rank 60: Feature 54writeback:sb_clear_inode_writeback_KERN_data with weight -1.2307430505752563\n",
      "Rank 61: Feature 55writeback:writeback_mark_inode_dirty_KERN_data with weight -0.1060006394982338\n",
      "Rank 62: Feature 8ext4:ext4_es_insert_delayed_block with weight -0.1308094710111618\n",
      "Rank 63: Feature 248connect with weight -0.8408374786376953\n",
      "Rank 64: Feature 195jbd2:jbd2_handle_stats_RES_data with weight -0.06156774237751961\n",
      "Rank 65: Feature 138ext4:ext4_writepages_result_RES_data with weight 1.4561206102371216\n",
      "Rank 66: Feature 137writeback:global_dirty_state_RES_data with weight 0.6183783411979675\n",
      "Rank 67: Feature 31ext4:ext4_unlink_exit with weight -2.1014456748962402\n",
      "Rank 68: Feature 278mmap2 with weight -1.3162375688552856\n",
      "Rank 69: Feature 200write_ops with weight -0.5452114343643188\n",
      "Rank 70: Feature 170armv7_cortex_a15/l1d_cache_refill/ with weight -1.1445320844650269\n",
      "Rank 71: Feature 76jbd2:jbd2_handle_start_KERN_data with weight -0.30950573086738586\n",
      "Rank 72: Feature 283unlink with weight -4.911920070648193\n",
      "Rank 73: Feature 245shutdown with weight -0.8874824643135071\n",
      "Rank 74: Feature 89qdisc:qdisc_dequeue with weight -0.07245331257581711\n",
      "Rank 75: Feature 178task:task_newtask_RES_data with weight -1.409868597984314\n",
      "Rank 76: Feature 27ext4:ext4_ext_remove_space with weight -0.31325840950012207\n",
      "Rank 77: Feature 35writeback:writeback_dirty_page_FLS_data with weight -0.08505585789680481\n",
      "Rank 78: Feature 297getuid32 with weight -0.8429630994796753\n",
      "Rank 79: Feature 18ext4:ext4_journal_start_FLS_data with weight -0.21807332336902618\n",
      "Rank 80: Feature 40ext4:ext4_ext_rm_leaf with weight -0.3585021197795868\n",
      "Rank 81: Feature 246brk with weight 10.357758522033691\n",
      "Rank 82: Feature 276read with weight -0.11120419204235077\n",
      "Rank 83: Feature 202(OLD) AverageLength with weight 0.12099583446979523\n",
      "Rank 84: Feature 46jbd2:jbd2_commit_locking with weight -0.05360404774546623\n",
      "Rank 85: Feature 198cache-misses with weight -0.7468550801277161\n",
      "Rank 86: Feature 87sched:sched_process_exec_KERN_data with weight -1.3755706548690796\n",
      "Rank 87: Feature 111block:block_dirty_buffer_RES_data with weight -0.3622051477432251\n",
      "Rank 88: Feature 180bus-cycles with weight 0.4918650686740875\n",
      "Rank 89: Feature 217setsid with weight -0.24045294523239136\n",
      "Rank 90: Feature 119filemap:mm_filemap_add_to_page_cache_RES_data with weight 0.008349720388650894\n",
      "Rank 91: Feature 84qdisc:qdisc_dequeue.1 with weight -0.09447728842496872\n",
      "Rank 92: Feature 122fib:fib_table_lookup_RES_data with weight -0.6265214681625366\n",
      "Rank 93: Feature 114armv7_cortex_a15/br_pred/ with weight 0.5329322814941406\n",
      "Rank 94: Feature 20filemap:mm_filemap_add_to_page_cache_FLS_data with weight 0.07163584232330322\n",
      "Rank 95: Feature 22jbd2:jbd2_handle_start_FLS_data with weight -0.20685498416423798\n",
      "Rank 96: Feature 181writeback:sb_clear_inode_writeback_RES_data with weight 0.2712774872779846\n",
      "Rank 97: Feature 255waitid with weight -0.24888604879379272\n",
      "Rank 98: Feature 148branch-loads with weight 0.7165642976760864\n",
      "Rank 99: Feature 14jbd2:jbd2_commit_logging with weight -0.0889701098203659\n",
      "Rank 100: Feature 57block:block_dirty_buffer_KERN_data with weight -0.28756052255630493\n",
      "Rank 101: Feature 115branch-instructions with weight 0.7770332098007202\n",
      "Rank 102: Feature 271epoll_ctl with weight 0.21110838651657104\n",
      "Rank 103: Feature 215setitimer with weight -2.933002233505249\n",
      "Rank 104: Feature 34ext4:ext4_unlink_enter_FLS_data with weight -2.1298935413360596\n",
      "Rank 105: Feature 95writeback:writeback_dirty_page_KERN_data with weight -0.18914641439914703\n",
      "Rank 106: Feature 29block:block_touch_buffer_FLS_data with weight 1.0373653173446655\n",
      "Rank 107: Feature 231epoll_create1 with weight 0.5726320147514343\n",
      "Rank 108: Feature 205sendmsg with weight -1.0828291177749634\n",
      "Rank 109: Feature 24block:block_bio_remap_FLS_data with weight -2.614819049835205\n",
      "Rank 110: Feature 160cpu-cycles with weight 0.5387312769889832\n",
      "Rank 111: Feature 97skb:skb_copy_datagram_iovec with weight 0.5515879988670349\n",
      "Rank 112: Feature 19jbd2:jbd2_drop_transaction with weight -0.4293733835220337\n",
      "Rank 113: Feature 117ext4:ext4_journal_start_RES_data with weight 0.029705332592129707\n",
      "Rank 114: Feature 125sched:sched_process_exec_RES_data with weight -1.6476606130599976\n",
      "Rank 115: Feature 99block:block_unplug_KERN_data with weight -1.5201681852340698\n",
      "Rank 116: Feature 52block:block_rq_insert with weight -3.2550203800201416\n",
      "Rank 117: Feature 185armv7_cortex_a15/cpu_cycles/ with weight 0.38302215933799744\n",
      "Rank 118: Feature 83block:block_touch_buffer_KERN_data with weight 0.4153752326965332\n",
      "Rank 119: Feature 191timer:timer_cancel with weight 0.20551103353500366\n",
      "Rank 120: Feature 152iowritebytes with weight -1.2329113483428955\n",
      "Rank 121: Feature 269prctl with weight -0.21441993117332458\n",
      "Rank 122: Feature 142block:block_touch_buffer_RES_data with weight 0.3858952224254608\n",
      "Rank 123: Feature 264chdir with weight 0.968700110912323\n",
      "Rank 124: Feature 259lstat64 with weight -0.7372519373893738\n",
      "Rank 125: Feature 235setresgid32 with weight -0.21598181128501892\n",
      "Rank 126: Feature 75gpio:gpio_value_KERN_data with weight -3.376668691635132\n",
      "Rank 127: Feature 15jbd2:jbd2_run_stats with weight -0.1374051868915558\n",
      "Rank 128: Feature 36ext4:ext4_free_inode_FLS_data with weight -2.591489315032959\n",
      "Rank 129: Feature 155iobusytime with weight -2.412022352218628\n",
      "Rank 130: Feature 25block:block_bio_backmerge_FLS_data with weight -1.9629347324371338\n",
      "Rank 131: Feature 43block:block_rq_issue with weight -3.257305860519409\n",
      "Rank 132: Feature 5ext4:ext4_es_lookup_extent_enter_FLS_data with weight -0.7829984426498413\n",
      "Rank 133: Feature 63preemptirq:irq_enable with weight 0.6269402503967285\n",
      "Rank 134: Feature 159iowritetime with weight -5.865786552429199\n",
      "Rank 135: Feature 182irq:softirq_exit with weight 0.01675448566675186\n",
      "Rank 136: Feature 32jbd2:jbd2_start_commit_FLS_data with weight -0.05620482563972473\n",
      "Rank 137: Feature 105block:block_getrq_KERN_data with weight -3.6581101417541504\n",
      "Rank 138: Feature 188ext4:ext4_da_update_reserve_space_RES_data with weight 1.5545974969863892\n",
      "Rank 139: Feature 42jbd2:jbd2_commit_flushing with weight -0.13840417563915253\n",
      "Rank 140: Feature 136tcp:tcp_probe_RES_data with weight 0.4062388837337494\n",
      "Rank 141: Feature 50block:block_getrq_FLS_data with weight -3.1319446563720703\n",
      "Rank 142: Feature 189armv7_cortex_a15/bus_cycles/ with weight 0.4779278337955475\n",
      "Rank 143: Feature 12block:block_rq_complete with weight -3.1078908443450928\n",
      "Rank 144: Feature 225setsockopt with weight 0.07530777156352997\n",
      "Rank 145: Feature 10jbd2:jbd2_end_commit with weight -0.06080484762787819\n",
      "Rank 146: Feature 140instructions with weight 0.5795738101005554\n",
      "Rank 147: Feature 150armv7_cortex_a15/bus_cycles/.1 with weight 0.4630471169948578\n",
      "Rank 148: Feature 30block:block_bio_queue with weight -2.6180009841918945\n",
      "Rank 149: Feature 3jbd2:jbd2_checkpoint_stats_FLS_data with weight -0.458015501499176\n",
      "Rank 150: Feature 78block:block_bio_remap_KERN_data with weight -3.150352954864502\n",
      "Rank 151: Feature 45jbd2:jbd2_handle_extend with weight -0.20653782784938812\n",
      "Rank 152: Feature 290clone with weight -0.21942070126533508\n",
      "Rank 153: Feature 242gettimeofday with weight 1.3628476858139038\n",
      "Rank 154: Feature 213dup3 with weight 2.519428253173828\n",
      "Rank 155: Feature 38ext4:ext4_es_lookup_extent_exit with weight -0.8699750304222107\n",
      "Rank 156: Feature 270readlink with weight -0.5199484825134277\n",
      "Rank 157: Feature 167gpio:gpio_value_RES_data with weight -2.6889333724975586\n",
      "Rank 158: Feature 74fib:fib_table_lookup_KERN_data with weight -0.9007336497306824\n",
      "Rank 159: Feature 262open with weight -0.4423677623271942\n",
      "Rank 160: Feature 219geteuid32 with weight -5.3788652420043945\n",
      "Rank 161: Feature 203(OLD) VarianceLength with weight 0.0024898452684283257\n",
      "Rank 162: Feature 58net:net_dev_xmit with weight 0.11982084810733795\n",
      "Rank 163: Feature 295getcwd with weight 0.15213613212108612\n",
      "Rank 164: Feature 79kmem:kmem_cache_free with weight -0.42122018337249756\n",
      "Rank 165: Feature 147kmem:kmem_cache_alloc_RES_data with weight -0.8242084980010986\n",
      "Rank 166: Feature 199write_kbs with weight -4.049176216125488\n",
      "Rank 167: Feature 92kmem:kmem_cache_alloc_KERN_data with weight -0.41886523365974426\n",
      "Rank 168: Feature 133jbd2:jbd2_checkpoint_stats_RES_data with weight -1.5683684349060059\n",
      "Rank 169: Feature 272pipe with weight -0.5112234950065613\n",
      "Rank 170: Feature 145L1-dcache-loads with weight 0.5142720341682434\n",
      "Rank 171: Feature 164iowrite with weight -3.9973020553588867\n",
      "Rank 172: Feature 279uname with weight -1.261350393295288\n",
      "Rank 173: Feature 146ext4:ext4_unlink_enter_RES_data with weight -2.132547616958618\n",
      "Rank 174: Feature 80block:block_bio_backmerge_KERN_data with weight -2.490320920944214\n",
      "Rank 175: Feature 227fstat64 with weight -0.11747879534959793\n",
      "Rank 176: Feature 169block:block_bio_remap_RES_data with weight -3.418046712875366\n",
      "Rank 177: Feature 132LLC-load-misses with weight 0.11328909546136856\n",
      "Rank 178: Feature 210mkdir with weight -0.7341911196708679\n",
      "Rank 179: Feature 275setxattr with weight 0.240888312458992\n",
      "Rank 180: Feature 151net_in with weight 0.4134265184402466\n",
      "Rank 181: Feature 82net:net_dev_queue with weight -0.0621856153011322\n",
      "Rank 182: Feature 156filemap:mm_filemap_delete_from_page_cache_RES_data with weight -0.042970191687345505\n",
      "Rank 183: Feature 226rt_sigprocmask with weight 0.20362038910388947\n",
      "Rank 184: Feature 67skb:consume_skb.1 with weight 0.18589679896831512\n",
      "Rank 185: Feature 59skb:consume_skb with weight 0.26332446932792664\n",
      "Rank 186: Feature 6filemap:mm_filemap_delete_from_page_cache_FLS_data with weight 0.5054622292518616\n",
      "Rank 187: Feature 291stat64 with weight -1.151001214981079\n",
      "Rank 188: Feature 193cache-references with weight 0.5770189762115479\n",
      "Rank 189: Feature 157rpm:rpm_return_int with weight -0.5295621752738953\n",
      "Rank 190: Feature 175armv7_cortex_a15/l1d_cache/ with weight 0.3922460675239563\n",
      "Rank 191: Feature 172ext4:ext4_free_inode_RES_data with weight -3.2937819957733154\n",
      "Rank 192: Feature 91workqueue:workqueue_activate_work with weight -0.6253330707550049\n",
      "Rank 193: Feature 183ext4:ext4_es_lookup_extent_enter_RES_data with weight -0.026493676006793976\n",
      "Rank 194: Feature 86jbd2:jbd2_start_commit_KERN_data with weight -1.2223423719406128\n",
      "Rank 195: Feature 284recv with weight -0.038029927760362625\n",
      "Rank 196: Feature 265clock_gettime with weight 0.23863554000854492\n",
      "Rank 197: Feature 9writeback:writeback_dirty_inode_start with weight 0.05888344347476959\n",
      "Rank 198: Feature 254setresuid32 with weight -0.3417406678199768\n",
      "Rank 199: Feature 220statfs64 with weight -3.2920029163360596\n",
      "Rank 200: Feature 154armv7_cortex_a15/l1i_cache/ with weight 0.4607291519641876\n",
      "Rank 201: Feature 103kmem:kfree_KERN_data with weight -0.5666601657867432\n",
      "Rank 202: Feature 216accept4 with weight -1.1220089197158813\n",
      "Rank 203: Feature 1writeback:writeback_mark_inode_dirty_FLS_data with weight 0.05847979336977005\n",
      "Rank 204: Feature 96kmem:mm_page_free_KERN_data with weight 0.3341887593269348\n",
      "Rank 205: Feature 123write_merge with weight -5.6344428062438965\n",
      "Rank 206: Feature 260close with weight 0.3424665629863739\n",
      "Rank 207: Feature 289llseek with weight -0.8722426891326904\n",
      "Rank 208: Feature 168armv7_cortex_a15/mem_access/ with weight 0.5885351300239563\n",
      "Rank 209: Feature 113L1-icache-loads with weight 0.41480743885040283\n",
      "Rank 210: Feature 98page-faults_KERN_data with weight 0.47613388299942017\n",
      "Rank 211: Feature 174page-faults_RES_data with weight -0.7054917812347412\n",
      "Rank 212: Feature 201util with weight 2.685980796813965\n",
      "Rank 213: Feature 256sysinfo with weight -1.5166635513305664\n",
      "Rank 214: Feature 257socket with weight -0.7329607605934143\n",
      "Rank 215: Feature 60random:urandom_read with weight 0.2108684927225113\n",
      "Rank 216: Feature 228getpid with weight 0.296398788690567\n",
      "Rank 217: Feature 244faccessat with weight -4.534505367279053\n",
      "Rank 218: Feature 149kmem:mm_page_free_RES_data with weight -0.08671193569898605\n",
      "Rank 219: Feature 274getxattr with weight -1.336051344871521\n",
      "Rank 220: Feature 221getppid with weight 0.11862123757600784\n",
      "Rank 221: Feature 212capget with weight 0.26383304595947266\n",
      "Rank 222: Feature 304fchmod with weight -0.16337838768959045\n",
      "Rank 223: Feature 299mprotect with weight 0.1705694943666458\n",
      "Rank 224: Feature 253readlinkat with weight -0.9931166768074036\n",
      "Rank 225: Feature 209lgetxattr with weight 9.362709999084473\n",
      "Rank 226: Feature 232getdents64 with weight -1.38736093044281\n",
      "Rank 227: Feature 158L1-dcache-stores with weight 0.36142274737358093\n",
      "Rank 228: Feature 222getrandom with weight -0.886991560459137\n",
      "Rank 229: Feature 176minor-faults with weight -0.6744466423988342\n",
      "Rank 230: Feature 234access with weight -1.0440160036087036\n",
      "Rank 231: Feature 287exit_group with weight -0.42556676268577576\n",
      "Rank 232: Feature 224rt_sigaction with weight -0.08107002824544907\n",
      "Rank 233: Feature 21writeback:writeback_dirty_inode_FLS_data with weight 0.016136534512043\n",
      "Rank 234: Feature 214setuid32 with weight -3.663242816925049\n",
      "Rank 235: Feature 28seconds_FLS_data with weight -0.9567247629165649\n",
      "Rank 236: Feature 208timerfd_settime with weight -4.541377544403076\n",
      "Rank 237: Feature 273pause with weight -1.65951669216156\n",
      "Rank 238: Feature 247setgroups32 with weight -1.5808579921722412\n",
      "Rank 239: Feature 303sigaltstack with weight -0.5483271479606628\n",
      "Rank 240: Feature 292umask with weight -0.04370703175663948\n",
      "Rank 241: Feature 131armv7_cortex_a15/exc_taken/ with weight 0.3771648705005646\n",
      "Rank 242: Feature 268epoll_wait with weight -0.14541471004486084\n",
      "Rank 243: Feature 120workqueue:workqueue_execute_start with weight -0.30765300989151\n",
      "Rank 244: Feature 261exit with weight -0.7633444666862488\n",
      "Rank 245: Feature 109kmem:mm_page_alloc with weight 0.4853856563568115\n",
      "Rank 246: Feature 173pkt_in with weight 0.5703881978988647\n",
      "Rank 247: Feature 207ftruncate64 with weight -0.7552662491798401\n",
      "Rank 248: Feature 90kmem:mm_page_pcpu_drain with weight 0.07911653816699982\n",
      "Rank 249: Feature 301getpeername with weight -3.963200807571411\n",
      "Rank 250: Feature 177cpu with weight 0.5145236253738403\n",
      "Rank 251: Feature 187sched:sched_stat_runtime with weight -0.5178624987602234\n",
      "Rank 252: Feature 267capset with weight -0.6917322874069214\n",
      "Rank 253: Feature 144branch-misses with weight 0.5920237898826599\n",
      "Rank 254: Feature 100timer:hrtimer_start with weight -0.9486836194992065\n",
      "Rank 255: Feature 66cs with weight -0.47862809896469116\n",
      "Rank 256: Feature 68irq:irq_handler_entry with weight -0.7862443923950195\n",
      "Rank 257: Feature 239getpgrp with weight 0.04982585832476616\n",
      "Rank 258: Feature 263openat with weight -0.9034802317619324\n",
      "Rank 259: Feature 300mremap with weight -0.15688124299049377\n",
      "Rank 260: Feature 104writeback:writeback_dirty_inode_enqueue_KERN_data with weight -0.5660934448242188\n",
      "Rank 261: Feature 237send with weight -1.7051230669021606\n",
      "Rank 262: Feature 94kmem:kmalloc with weight -0.4690277874469757\n",
      "Rank 263: Feature 280execve with weight -0.31206372380256653\n",
      "Rank 264: Feature 204label with weight -0.13774141669273376\n",
      "Rank 265: Feature 165armv7_cortex_a15/br_mis_pred/ with weight 0.3892762362957001\n",
      "Rank 266: Feature 285sendto with weight -0.17829518020153046\n",
      "Rank 267: Feature 41ext4:ext4_readpage with weight -3.68192195892334\n",
      "Rank 268: Feature 171context-switches with weight -1.108407974243164\n",
      "Rank 269: Feature 250prlimit64 with weight -1.4106770753860474\n",
      "Rank 270: Feature 249set_robust_list with weight -0.5167730450630188\n",
      "Rank 271: Feature 161armv7_cortex_a15/l2d_cache_wb/ with weight 0.9188000559806824\n",
      "Rank 272: Feature 252chown32 with weight 0.6268435716629028\n",
      "Rank 273: Feature 118pkt_out with weight 0.18076683580875397\n",
      "Rank 274: Feature 238rename with weight 0.6077563762664795\n",
      "Rank 275: Feature 211ugetrlimit with weight 0.7563046216964722\n",
      "Rank 276: Feature 190branch-load-misses with weight 0.7742920517921448\n",
      "Rank 277: Feature 56sched:sched_wakeup with weight -0.6369277238845825\n",
      "Rank 278: Feature 81seconds_KERN_data with weight -0.7341594099998474\n",
      "Rank 279: Feature 135sched:sched_waking with weight -0.8798995018005371\n",
      "Rank 280: Feature 196cpu-migrations_RES_data with weight -0.2255164384841919\n",
      "Rank 281: Feature 102cpu-migrations_KERN_data with weight 0.6212040185928345\n",
      "Rank 282: Feature 88pagemap:mm_lru_insertion with weight 0.6638443470001221\n",
      "Rank 283: Feature 93skb:kfree_skb with weight 0.5760089755058289\n",
      "Rank 284: Feature 47writeback:writeback_dirty_inode_enqueue_FLS_data with weight -0.471499502658844\n",
      "Rank 285: Feature 206sigreturn with weight 0.20067359507083893\n",
      "Rank 286: Feature 241getgid32 with weight -0.19023552536964417\n",
      "Rank 287: Feature 134LLC-store-misses with weight 1.1131764650344849\n",
      "Rank 288: Feature 194pagemap:mm_lru_activate with weight -1.0196863412857056\n",
      "Rank 289: Feature 85sched:sched_switch with weight -0.4755726754665375\n",
      "Rank 290: Feature 124seconds_RES_data with weight -3.536403179168701\n",
      "Rank 291: Feature 130kmem:kfree_RES_data with weight -0.6568816304206848\n",
      "Rank 292: Feature 62skb:kfree_skb.1 with weight 0.497702419757843\n",
      "Rank 293: Feature 107kmem:mm_page_alloc_zone_locked_KERN_data with weight 0.22771486639976501\n",
      "Rank 294: Feature 192memory with weight -1.5360374450683594\n",
      "Rank 295: Feature 258sched_yield with weight 0.6906533241271973\n",
      "Rank 296: Feature 184net_out with weight 0.8301166892051697\n",
      "Rank 297: Feature 266newselect with weight 1.6896158456802368\n",
      "Rank 298: Feature 139armv7_cortex_a15/l1i_tlb_refill/ with weight 0.1552586555480957\n",
      "Rank 299: Feature 179kmem:mm_page_alloc_zone_locked_RES_data with weight -0.5517750382423401\n",
      "Rank 300: Feature 112armv7_cortex_a15/l1d_tlb_refill/ with weight 0.6590801477432251\n",
      "Rank 301: Feature 141timer:tick_stop with weight 0.741346538066864\n",
      "Rank 302: Feature 121dTLB-load-misses with weight 0.9002065062522888\n",
      "Rank 303: Feature 143dTLB-store-misses with weight -0.7209473848342896\n",
      "Rank 304: Feature 129armv7_cortex_a15/exc_return/ with weight 0.47536376118659973\n",
      "Rank 305: Feature 166iTLB-load-misses with weight -0.19257616996765137\n"
     ]
    }
   ],
   "source": [
    "# Extract the weights from the linear layer\n",
    "weights = best_model.l1.weight.data\n",
    "\n",
    "# Convert to numpy array for easier manipulation\n",
    "weights_np = weights.numpy()\n",
    "\n",
    "# Calculate the absolute values of the weights\n",
    "abs_weights = abs(weights_np)\n",
    "\n",
    "# Get the indices of the top features based on weight magnitude\n",
    "top_features = abs_weights.argsort()[::-1]\n",
    "\n",
    "# Print the top features\n",
    "print(\"Feature importance based on weights:\")\n",
    "for i, feature_idx in enumerate(top_features[0]):\n",
    "    feature_name = df.columns[feature_idx]\n",
    "    print(f\"Rank {i+1}: Feature {feature_idx}{feature_name} with weight {weights_np[0][feature_idx]}\")\n"
   ]
  },
  {
   "cell_type": "code",
   "execution_count": 19,
   "metadata": {},
   "outputs": [
    {
     "data": {
      "image/png": "[encoded data removed]",
      "text/plain": [
       "<Figure size 1000x600 with 1 Axes>"
      ]
     },
     "metadata": {},
     "output_type": "display_data"
    }
   ],
   "source": [
    "import matplotlib.pyplot as plt\n",
    "\n",
    "# Convert to numpy array for easier manipulation\n",
    "weights_np = weights.numpy().flatten()  # Flatten to 1D array\n",
    "\n",
    "# Calculate the absolute values of the weights\n",
    "abs_weights = np.abs(weights_np)\n",
    "\n",
    "# Get the indices of the top features based on weight magnitude\n",
    "top_features = abs_weights.argsort()[::-1]\n",
    "\n",
    "# Plotting\n",
    "plt.figure(figsize=(10, 6))\n",
    "plt.bar(range(len(weights_np)), abs_weights[top_features])\n",
    "plt.xlabel('Feature Index')\n",
    "plt.ylabel('Absolute Weight')\n",
    "plt.title('Feature Importance Based on Linear Layer Weights')\n",
    "plt.xticks(range(len(weights_np)), top_features, rotation=90)\n",
    "plt.show()"
   ]
  },
  {
   "cell_type": "code",
   "execution_count": 20,
   "metadata": {},
   "outputs": [],
   "source": [
    "weights = best_model.l1.weight.data.numpy()\n",
    "abs_weights = np.abs(weights.flatten())"
   ]
  },
  {
   "cell_type": "code",
   "execution_count": 21,
   "metadata": {},
   "outputs": [
    {
     "data": {
      "image/png": "[encoded data removed]",
      "text/plain": [
       "<Figure size 1500x2500 with 9 Axes>"
      ]
     },
     "metadata": {},
     "output_type": "display_data"
    }
   ],
   "source": [
    "nrows = weights.shape[0]\n",
    "xrows = weights.shape[1]\n",
    "\n",
    "fig, axes = plt.subplots(nrows=nrows, ncols=1, figsize=(15, 25), sharex=True)\n",
    "\n",
    "for i in range(nrows):\n",
    "    axes[i].bar(range(xrows), abs_weights[i*xrows:(i+1)*xrows])\n",
    "    axes[i].set_title(f'Feature Importance for Class {i}')\n",
    "    axes[i].set_ylabel('Absolute Weight')\n",
    "\n",
    "plt.xlabel('Feature Index')\n",
    "plt.show()"
   ]
  },
  {
   "cell_type": "markdown",
   "metadata": {},
   "source": [
    "### Plotting Mean over Classes"
   ]
  },
  {
   "cell_type": "code",
   "execution_count": 22,
   "metadata": {},
   "outputs": [],
   "source": [
    "from sklearn.preprocessing import minmax_scale\n",
    "\n",
    "scaled_weights = minmax_scale(weights, axis=0)\n",
    "weights_mean = np.abs(scaled_weights).mean(axis=0)"
   ]
  },
  {
   "cell_type": "code",
   "execution_count": 23,
   "metadata": {},
   "outputs": [],
   "source": [
    "sorted_idx = weights_mean.argsort()[::-1]"
   ]
  },
  {
   "cell_type": "code",
   "execution_count": 24,
   "metadata": {},
   "outputs": [
    {
     "data": {
      "image/png": "[encoded data removed]",
      "text/plain": [
       "<Figure size 1000x600 with 1 Axes>"
      ]
     },
     "metadata": {},
     "output_type": "display_data"
    }
   ],
   "source": [
    "plt.figure(figsize=(10, 6))\n",
    "plt.bar(range(len(weights_mean[sorted_idx])), weights_mean[sorted_idx])\n",
    "plt.xlabel('Feature Index')\n",
    "plt.ylabel('Absolute Weight')\n",
    "plt.title('Feature Importance Based on Linear Layer Weights')\n",
    "# plt.xticks(sorted_idx, sorted_idx, rotation=90)\n",
    "plt.show()"
   ]
  },
  {
   "cell_type": "code",
   "execution_count": 25,
   "metadata": {},
   "outputs": [
    {
     "data": {
      "image/png": "[encoded data removed]",
      "text/plain": [
       "<Figure size 1000x600 with 1 Axes>"
      ]
     },
     "metadata": {},
     "output_type": "display_data"
    }
   ],
   "source": [
    "top_k = 50\n",
    "\n",
    "plt.figure(figsize=(10, 6))\n",
    "plt.bar(range(len(weights_mean[sorted_idx[:top_k]])), weights_mean[sorted_idx[:top_k]])\n",
    "plt.xlabel('Feature Index')\n",
    "plt.ylabel('Absolute Weight')\n",
    "plt.title('Feature Importance Based on Linear Layer Weights')\n",
    "# plt.xticks(sorted_idx[:20], sorted_idx[:20], rotation=90)\n",
    "plt.show()"
   ]
  },
  {
   "cell_type": "markdown",
   "metadata": {},
   "source": [
    "### Plotting top k per class"
   ]
  },
  {
   "cell_type": "code",
   "execution_count": 26,
   "metadata": {},
   "outputs": [],
   "source": [
    "topk = 4"
   ]
  },
  {
   "cell_type": "code",
   "execution_count": 27,
   "metadata": {},
   "outputs": [
    {
     "data": {
      "text/plain": [
       "(9, 4)"
      ]
     },
     "execution_count": 27,
     "metadata": {},
     "output_type": "execute_result"
    }
   ],
   "source": [
    "topk_indices = weights.argpartition( -topk, axis=1)[:, -topk:]\n",
    "topk_indices.shape"
   ]
  },
  {
   "cell_type": "code",
   "execution_count": 28,
   "metadata": {},
   "outputs": [
    {
     "data": {
      "text/plain": [
       "(9, 4)"
      ]
     },
     "execution_count": 28,
     "metadata": {},
     "output_type": "execute_result"
    }
   ],
   "source": [
    "topk_indices_sorted = np.take_along_axis(topk_indices, np.argsort(-weights[np.arange(weights.shape[0])[:, None], topk_indices]), axis=1)\n",
    "topk_indices_sorted.shape"
   ]
  },
  {
   "cell_type": "code",
   "execution_count": 29,
   "metadata": {},
   "outputs": [
    {
     "data": {
      "text/plain": [
       "(27,)"
      ]
     },
     "execution_count": 29,
     "metadata": {},
     "output_type": "execute_result"
    }
   ],
   "source": [
    "selected_features = np.array(list(set(topk_indices_sorted.flatten())))\n",
    "selected_features.shape"
   ]
  },
  {
   "cell_type": "code",
   "execution_count": 30,
   "metadata": {},
   "outputs": [
    {
     "data": {
      "image/png": "[encoded data removed]",
      "text/plain": [
       "<Figure size 1000x600 with 1 Axes>"
      ]
     },
     "metadata": {},
     "output_type": "display_data"
    }
   ],
   "source": [
    "plt.figure(figsize=(10, 6))\n",
    "plt.bar(range(len(weights_mean[selected_features])), weights_mean[selected_features])\n",
    "plt.xlabel('Feature Index')\n",
    "plt.ylabel('Absolute Weight')\n",
    "plt.title('Feature Importance Based on Linear Layer Weights')\n",
    "# plt.xticks(sorted_idx[:20], sorted_idx[:20], rotation=90)\n",
    "plt.show()"
   ]
  },
  {
   "cell_type": "markdown",
   "metadata": {},
   "source": [
    "### Train again"
   ]
  },
  {
   "cell_type": "code",
   "execution_count": 31,
   "metadata": {},
   "outputs": [
    {
     "data": {
      "text/plain": [
       "(14501, 27)"
      ]
     },
     "execution_count": 31,
     "metadata": {},
     "output_type": "execute_result"
    }
   ],
   "source": [
    "vectors.iloc[:,selected_features].shape"
   ]
  },
  {
   "cell_type": "code",
   "execution_count": 32,
   "metadata": {},
   "outputs": [
    {
     "name": "stderr",
     "output_type": "stream",
     "text": [
      "/tmp/ipykernel_50881/650136668.py:2: SettingWithCopyWarning: \n",
      "A value is trying to be set on a copy of a slice from a DataFrame.\n",
      "Try using .loc[row_indexer,col_indexer] = value instead\n",
      "\n",
      "See the caveats in the documentation: https://pandas.pydata.org/pandas-docs/stable/user_guide/indexing.html#returning-a-view-versus-a-copy\n",
      "  subset[\"label\"] = df[\"label\"]\n"
     ]
    }
   ],
   "source": [
    "subset = vectors.iloc[:,selected_features]\n",
    "subset[\"label\"] = df[\"label\"]"
   ]
  },
  {
   "cell_type": "code",
   "execution_count": 33,
   "metadata": {},
   "outputs": [
    {
     "name": "stderr",
     "output_type": "stream",
     "text": [
      "GPU available: True (cuda), used: True\n",
      "TPU available: False, using: 0 TPU cores\n",
      "IPU available: False, using: 0 IPUs\n",
      "HPU available: False, using: 0 HPUs\n"
     ]
    }
   ],
   "source": [
    "# split into train and val\n",
    "train, val = train_test_split(subset, test_size=0.2, random_state=SEED)\n",
    "\n",
    "train_dataset = CustomeDataset(train)\n",
    "train_dataloader = DataLoader(train_dataset, batch_size=500, shuffle=True, num_workers=7)\n",
    "\n",
    "val_dataset = CustomeDataset(val)\n",
    "val_dataloader = DataLoader(val_dataset, batch_size=500, shuffle=False, num_workers=7)\n",
    "\n",
    "# trainer = lightning.Trainer(fast_dev_run=100)\n",
    "monitor = \"Validation/Accuracy\"\n",
    "early_stop_callback = EarlyStopping(monitor=monitor, patience=5, verbose=True, mode=\"max\")\n",
    "checkpoint_callback = ModelCheckpoint(save_top_k=1, monitor=monitor, mode=\"max\")\n",
    "\n",
    "tensorboard = pl_loggers.TensorBoardLogger(save_dir=LOG_PATH, name=LOG_NAME_EXPERIMENT_2)\n",
    "trainer = lightning.Trainer(max_epochs=150, callbacks=[early_stop_callback, checkpoint_callback], enable_checkpointing=True, logger=tensorboard) #logger=None, \n",
    "\n",
    "\n",
    "model = MalwaresModelLinearLayer(input_size = subset.shape[1]-1, output_size = len(label_encoder.classes_), seed=SEED)\n",
    "\n",
    "torch.manual_seed(SEED)\n",
    "torch.cuda.manual_seed_all(SEED)\n"
   ]
  },
  {
   "cell_type": "code",
   "execution_count": 34,
   "metadata": {},
   "outputs": [
    {
     "name": "stderr",
     "output_type": "stream",
     "text": [
      "LOCAL_RANK: 0 - CUDA_VISIBLE_DEVICES: [0]\n",
      "\n",
      "  | Name          | Type                      | Params\n",
      "------------------------------------------------------------\n",
      "0 | train_metrics | MetricCollection          | 0     \n",
      "1 | val_metrics   | MetricCollection          | 0     \n",
      "2 | test_metrics  | MetricCollection          | 0     \n",
      "3 | cm            | MulticlassConfusionMatrix | 0     \n",
      "4 | criterion     | CrossEntropyLoss          | 0     \n",
      "5 | l1            | Linear                    | 252   \n",
      "------------------------------------------------------------\n",
      "252       Trainable params\n",
      "0         Non-trainable params\n",
      "252       Total params\n",
      "0.001     Total estimated model params size (MB)\n"
     ]
    },
    {
     "data": {
      "application/vnd.jupyter.widget-view+json": {
       "model_id": "926791a3fa894f7ab7083a9a034d54f0",
       "version_major": 2,
       "version_minor": 0
      },
      "text/plain": [
       "Sanity Checking: |          | 0/? [00:00<?, ?it/s]"
      ]
     },
     "metadata": {},
     "output_type": "display_data"
    },
    {
     "name": "stdout",
     "output_type": "stream",
     "text": [
      "Epoch end: Validation, epoch number: 0\n",
      "ValidationEpoch/CM\n",
      " tensor([[110,   0,   0,   0,   0,   0,   0,   0,   0],\n",
      "        [ 73,   0,  20,   1,   0,   0,   4,   8,   0],\n",
      "        [128,   0,   0,   0,   0,   0,   0,   0,   0],\n",
      "        [129,   0,   0,   0,   0,   0,   0,   0,   0],\n",
      "        [112,   0,   0,   0,   0,   0,   0,   0,   0],\n",
      "        [123,   0,   0,   0,   0,   0,   0,   0,   0],\n",
      "        [ 82,   0,   0,   0,   0,   0,   0,   0,   0],\n",
      "        [ 11,   0,   1,  65,   0,   0,   0,   0,   0],\n",
      "        [133,   0,   0,   0,   0,   0,   0,   0,   0]])\n"
     ]
    },
    {
     "name": "stderr",
     "output_type": "stream",
     "text": [
      "/home/<User>/repos/csg_is/.venv/lib/python3.10/site-packages/lightning/pytorch/loops/fit_loop.py:298: The number of training batches (24) is smaller than the logging interval Trainer(log_every_n_steps=50). Set a lower value for log_every_n_steps if you want to see logs for the training epoch.\n"
     ]
    },
    {
     "data": {
      "application/vnd.jupyter.widget-view+json": {
       "model_id": "415cc4954a6c4a25a6ceff9a25eb7cd6",
       "version_major": 2,
       "version_minor": 0
      },
      "text/plain": [
       "Training: |          | 0/? [00:00<?, ?it/s]"
      ]
     },
     "metadata": {},
     "output_type": "display_data"
    },
    {
     "data": {
      "application/vnd.jupyter.widget-view+json": {
       "model_id": "e510a569933e481b9cb503c5c70124c9",
       "version_major": 2,
       "version_minor": 0
      },
      "text/plain": [
       "Validation: |          | 0/? [00:00<?, ?it/s]"
      ]
     },
     "metadata": {},
     "output_type": "display_data"
    },
    {
     "name": "stdout",
     "output_type": "stream",
     "text": [
      "Epoch end: Validation, epoch number: 1\n",
      "ValidationEpoch/CM\n",
      " tensor([[ 344, 1098,    2,    0,    2,    0,    0,    0,  124],\n",
      "        [ 110, 1946,   43,    2,    0,    0,    6,   29,    0],\n",
      "        [ 407, 1580,   13,    0,    0,    0,    0,    0,   24],\n",
      "        [ 386, 1163,    3,    0,    0,    0,    0,    0,  172],\n",
      "        [ 355, 1209,    0,    0,    0,    0,    0,    0,  108],\n",
      "        [ 355, 1362,    0,    0,    0,    0,    0,    0,    1],\n",
      "        [ 279, 1095,   18,    0,    0,    0,    0,    0,   90],\n",
      "        [  23,  246,   18,  186,    0,    0,    0,  704,    0],\n",
      "        [ 761,   73,   95,    0,    0,    0,    0,    0, 1069]])\n",
      "Epoch end: Train, epoch number: 0\n",
      "TrainEpoch/CM\n",
      " tensor([[ 344, 1098,    2,    0,    2,    0,    0,    0,  124],\n",
      "        [ 110, 1946,   43,    2,    0,    0,    6,   29,    0],\n",
      "        [ 407, 1580,   13,    0,    0,    0,    0,    0,   24],\n",
      "        [ 386, 1163,    3,    0,    0,    0,    0,    0,  172],\n",
      "        [ 355, 1209,    0,    0,    0,    0,    0,    0,  108],\n",
      "        [ 355, 1362,    0,    0,    0,    0,    0,    0,    1],\n",
      "        [ 279, 1095,   18,    0,    0,    0,    0,    0,   90],\n",
      "        [  23,  246,   18,  186,    0,    0,    0,  704,    0],\n",
      "        [ 761,   73,   95,    0,    0,    0,    0,    0, 1069]])\n"
     ]
    },
    {
     "name": "stderr",
     "output_type": "stream",
     "text": [
      "Metric Validation/Accuracy improved. New best score: 0.333\n"
     ]
    },
    {
     "data": {
      "application/vnd.jupyter.widget-view+json": {
       "model_id": "822a5c0883b64194991d2a2a7755ba1c",
       "version_major": 2,
       "version_minor": 0
      },
      "text/plain": [
       "Validation: |          | 0/? [00:00<?, ?it/s]"
      ]
     },
     "metadata": {},
     "output_type": "display_data"
    },
    {
     "name": "stdout",
     "output_type": "stream",
     "text": [
      "Epoch end: Validation, epoch number: 2\n",
      "ValidationEpoch/CM\n",
      " tensor([[ 344, 1230,  164,    0,    7,    3,    0,    0, 1282],\n",
      "        [ 110, 3976,   43,    2,    0,    0,    6,   29,    0],\n",
      "        [ 407, 1913,  938,    0,    0,    2,    0,    0,  660],\n",
      "        [ 386, 1309,  102,    0,    0,   11,    0,    0, 1511],\n",
      "        [ 355, 1421,   59,    0,   24,    7,    0,    0, 1366],\n",
      "        [ 355, 2128,  167,    0,    0,  589,    0,    0,   74],\n",
      "        [ 279, 1284,  451,    0,    0,   17,    0,    0,  851],\n",
      "        [  23,  249,   18,  186,    0,    0,    0, 1801,    0],\n",
      "        [ 761,   73,   95,    0,    0,    0,    0,    0, 2934]])\n"
     ]
    },
    {
     "name": "stderr",
     "output_type": "stream",
     "text": [
      "Metric Validation/Accuracy improved by 0.179 >= min_delta = 0.0. New best score: 0.512\n"
     ]
    },
    {
     "name": "stdout",
     "output_type": "stream",
     "text": [
      "Epoch end: Train, epoch number: 1\n",
      "TrainEpoch/CM\n",
      " tensor([[ 344, 1230,  164,    0,    7,    3,    0,    0, 1282],\n",
      "        [ 110, 3976,   43,    2,    0,    0,    6,   29,    0],\n",
      "        [ 407, 1913,  938,    0,    0,    2,    0,    0,  660],\n",
      "        [ 386, 1309,  102,    0,    0,   11,    0,    0, 1511],\n",
      "        [ 355, 1421,   59,    0,   24,    7,    0,    0, 1366],\n",
      "        [ 355, 2128,  167,    0,    0,  589,    0,    0,   74],\n",
      "        [ 279, 1284,  451,    0,    0,   17,    0,    0,  851],\n",
      "        [  23,  249,   18,  186,    0,    0,    0, 1801,    0],\n",
      "        [ 761,   73,   95,    0,    0,    0,    0,    0, 2934]])\n"
     ]
    },
    {
     "data": {
      "application/vnd.jupyter.widget-view+json": {
       "model_id": "6a137a81f6774b739237baa893f5b0ce",
       "version_major": 2,
       "version_minor": 0
      },
      "text/plain": [
       "Validation: |          | 0/? [00:00<?, ?it/s]"
      ]
     },
     "metadata": {},
     "output_type": "display_data"
    },
    {
     "name": "stdout",
     "output_type": "stream",
     "text": [
      "Epoch end: Validation, epoch number: 3\n",
      "ValidationEpoch/CM\n",
      " tensor([[ 344, 1230, 1338,    0,   25,   13,    0,    0, 1540],\n",
      "        [ 110, 6006,   43,    2,    0,    0,    6,   29,    0],\n",
      "        [ 407, 1913, 2734,    0,    0,   14,    0,    0,  748],\n",
      "        [ 386, 1310, 1134,    0,   16,   36,    0,    0, 2032],\n",
      "        [ 355, 1423,  285,    0,  888,   40,    0,    0, 1801],\n",
      "        [ 355, 2129,  504,    0,    0, 1818,    0,    0,  102],\n",
      "        [ 279, 1284, 1619,    0,    5,   57,    0,    0, 1038],\n",
      "        [  23,  249,   18,  186,    0,    0,    0, 2901,    0],\n",
      "        [ 761,   73,   95,    0,    0,    0,    0,    0, 4799]])\n"
     ]
    },
    {
     "name": "stderr",
     "output_type": "stream",
     "text": [
      "Metric Validation/Accuracy improved by 0.105 >= min_delta = 0.0. New best score: 0.617\n"
     ]
    },
    {
     "name": "stdout",
     "output_type": "stream",
     "text": [
      "Epoch end: Train, epoch number: 2\n",
      "TrainEpoch/CM\n",
      " tensor([[ 344, 1230, 1338,    0,   25,   13,    0,    0, 1540],\n",
      "        [ 110, 6006,   43,    2,    0,    0,    6,   29,    0],\n",
      "        [ 407, 1913, 2734,    0,    0,   14,    0,    0,  748],\n",
      "        [ 386, 1310, 1134,    0,   16,   36,    0,    0, 2032],\n",
      "        [ 355, 1423,  285,    0,  888,   40,    0,    0, 1801],\n",
      "        [ 355, 2129,  504,    0,    0, 1818,    0,    0,  102],\n",
      "        [ 279, 1284, 1619,    0,    5,   57,    0,    0, 1038],\n",
      "        [  23,  249,   18,  186,    0,    0,    0, 2901,    0],\n",
      "        [ 761,   73,   95,    0,    0,    0,    0,    0, 4799]])\n"
     ]
    },
    {
     "data": {
      "application/vnd.jupyter.widget-view+json": {
       "model_id": "67f339c3c1a44c7f8bc3cd4bc82f1844",
       "version_major": 2,
       "version_minor": 0
      },
      "text/plain": [
       "Validation: |          | 0/? [00:00<?, ?it/s]"
      ]
     },
     "metadata": {},
     "output_type": "display_data"
    },
    {
     "name": "stdout",
     "output_type": "stream",
     "text": [
      "Epoch end: Validation, epoch number: 4\n",
      "ValidationEpoch/CM\n",
      " tensor([[ 344, 1230, 2734,    2,   52,   23,    0,    0, 1565],\n",
      "        [ 110, 8036,   43,    2,    0,    0,    6,   29,    0],\n",
      "        [ 407, 1913, 4611,    0,    0,   26,    0,    0,  755],\n",
      "        [ 386, 1310, 2593,   18,   57,   61,    0,    0, 2084],\n",
      "        [ 355, 1423,  444,    0, 2234,   75,    0,    0, 1821],\n",
      "        [ 355, 2129,  807,    0,    0, 3103,    0,    0,  109],\n",
      "        [ 279, 1284, 2944,    0,   16,   97,    0,    0, 1062],\n",
      "        [  23,  249,   18,  186,    0,    0,    0, 4001,    0],\n",
      "        [ 761,   73,   95,    0,    0,    0,    0,    0, 6664]])\n"
     ]
    },
    {
     "name": "stderr",
     "output_type": "stream",
     "text": [
      "Metric Validation/Accuracy improved by 0.021 >= min_delta = 0.0. New best score: 0.638\n"
     ]
    },
    {
     "name": "stdout",
     "output_type": "stream",
     "text": [
      "Epoch end: Train, epoch number: 3\n",
      "TrainEpoch/CM\n",
      " tensor([[ 344, 1230, 2734,    2,   52,   23,    0,    0, 1565],\n",
      "        [ 110, 8036,   43,    2,    0,    0,    6,   29,    0],\n",
      "        [ 407, 1913, 4611,    0,    0,   26,    0,    0,  755],\n",
      "        [ 386, 1310, 2593,   18,   57,   61,    0,    0, 2084],\n",
      "        [ 355, 1423,  444,    0, 2234,   75,    0,    0, 1821],\n",
      "        [ 355, 2129,  807,    0,    0, 3103,    0,    0,  109],\n",
      "        [ 279, 1284, 2944,    0,   16,   97,    0,    0, 1062],\n",
      "        [  23,  249,   18,  186,    0,    0,    0, 4001,    0],\n",
      "        [ 761,   73,   95,    0,    0,    0,    0,    0, 6664]])\n"
     ]
    },
    {
     "data": {
      "application/vnd.jupyter.widget-view+json": {
       "model_id": "25160744719d46a3b6f264aa7aca3aa4",
       "version_major": 2,
       "version_minor": 0
      },
      "text/plain": [
       "Validation: |          | 0/? [00:00<?, ?it/s]"
      ]
     },
     "metadata": {},
     "output_type": "display_data"
    },
    {
     "name": "stdout",
     "output_type": "stream",
     "text": [
      "Epoch end: Validation, epoch number: 5\n",
      "ValidationEpoch/CM\n",
      " tensor([[  344,  1230,  4122,    13,    87,    33,     0,     0,  1581],\n",
      "        [  110, 10066,    43,     2,     0,     0,     6,    29,     0],\n",
      "        [  407,  1913,  6495,     0,     0,    38,     0,     0,   755],\n",
      "        [  386,  1310,  3945,   151,   113,    86,     0,     0,  2113],\n",
      "        [  355,  1423,   572,     0,  3628,   110,     0,     0,  1824],\n",
      "        [  355,  2129,  1092,     0,     0,  4409,     0,     0,   113],\n",
      "        [  279,  1284,  4281,     1,    31,   137,     0,     0,  1069],\n",
      "        [   23,   249,    18,   186,     0,     0,     0,  5101,     0],\n",
      "        [  761,    73,    95,     0,     0,     0,     0,     0,  8529]])\n"
     ]
    },
    {
     "name": "stderr",
     "output_type": "stream",
     "text": [
      "Metric Validation/Accuracy improved by 0.001 >= min_delta = 0.0. New best score: 0.639\n"
     ]
    },
    {
     "name": "stdout",
     "output_type": "stream",
     "text": [
      "Epoch end: Train, epoch number: 4\n",
      "TrainEpoch/CM\n",
      " tensor([[  344,  1230,  4122,    13,    87,    33,     0,     0,  1581],\n",
      "        [  110, 10066,    43,     2,     0,     0,     6,    29,     0],\n",
      "        [  407,  1913,  6495,     0,     0,    38,     0,     0,   755],\n",
      "        [  386,  1310,  3945,   151,   113,    86,     0,     0,  2113],\n",
      "        [  355,  1423,   572,     0,  3628,   110,     0,     0,  1824],\n",
      "        [  355,  2129,  1092,     0,     0,  4409,     0,     0,   113],\n",
      "        [  279,  1284,  4281,     1,    31,   137,     0,     0,  1069],\n",
      "        [   23,   249,    18,   186,     0,     0,     0,  5101,     0],\n",
      "        [  761,    73,    95,     0,     0,     0,     0,     0,  8529]])\n"
     ]
    },
    {
     "data": {
      "application/vnd.jupyter.widget-view+json": {
       "model_id": "ee560403d06a49c7ae272d0325cbc21a",
       "version_major": 2,
       "version_minor": 0
      },
      "text/plain": [
       "Validation: |          | 0/? [00:00<?, ?it/s]"
      ]
     },
     "metadata": {},
     "output_type": "display_data"
    },
    {
     "name": "stdout",
     "output_type": "stream",
     "text": [
      "Epoch end: Validation, epoch number: 6\n",
      "ValidationEpoch/CM\n",
      " tensor([[  344,  1230,  5505,    37,   124,    43,     0,     0,  1587],\n",
      "        [  110, 12096,    43,     2,     0,     0,     6,    29,     0],\n",
      "        [  407,  1913,  8379,     0,     0,    50,     0,     0,   755],\n",
      "        [  386,  1310,  5272,   317,   178,   111,     0,     0,  2125],\n",
      "        [  355,  1423,   689,     0,  5036,   145,     0,     0,  1824],\n",
      "        [  355,  2129,  1404,     0,     0,  5692,     0,     0,   113],\n",
      "        [  279,  1284,  5613,     3,    52,   177,     0,     0,  1074],\n",
      "        [   23,   249,    18,   186,     0,     0,     0,  6201,     0],\n",
      "        [  761,    73,    95,     0,     0,     0,     0,     0, 10394]])\n"
     ]
    },
    {
     "name": "stderr",
     "output_type": "stream",
     "text": [
      "Metric Validation/Accuracy improved by 0.014 >= min_delta = 0.0. New best score: 0.653\n"
     ]
    },
    {
     "name": "stdout",
     "output_type": "stream",
     "text": [
      "Epoch end: Train, epoch number: 5\n",
      "TrainEpoch/CM\n",
      " tensor([[  344,  1230,  5505,    37,   124,    43,     0,     0,  1587],\n",
      "        [  110, 12096,    43,     2,     0,     0,     6,    29,     0],\n",
      "        [  407,  1913,  8379,     0,     0,    50,     0,     0,   755],\n",
      "        [  386,  1310,  5272,   317,   178,   111,     0,     0,  2125],\n",
      "        [  355,  1423,   689,     0,  5036,   145,     0,     0,  1824],\n",
      "        [  355,  2129,  1404,     0,     0,  5692,     0,     0,   113],\n",
      "        [  279,  1284,  5613,     3,    52,   177,     0,     0,  1074],\n",
      "        [   23,   249,    18,   186,     0,     0,     0,  6201,     0],\n",
      "        [  761,    73,    95,     0,     0,     0,     0,     0, 10394]])\n"
     ]
    },
    {
     "data": {
      "application/vnd.jupyter.widget-view+json": {
       "model_id": "6359bb1de93d43729f8e65d0716016ed",
       "version_major": 2,
       "version_minor": 0
      },
      "text/plain": [
       "Validation: |          | 0/? [00:00<?, ?it/s]"
      ]
     },
     "metadata": {},
     "output_type": "display_data"
    },
    {
     "name": "stdout",
     "output_type": "stream",
     "text": [
      "Epoch end: Validation, epoch number: 7\n",
      "ValidationEpoch/CM\n",
      " tensor([[  350,  1230,  6542,   335,   228,    53,     0,     0,  1592],\n",
      "        [  110, 14126,    43,     2,     0,     0,     6,    29,     0],\n",
      "        [  407,  1913, 10257,     0,     6,    62,     0,     0,   755],\n",
      "        [  386,  1310,  6249,   721,   362,   136,     0,     0,  2130],\n",
      "        [  355,  1423,   746,     0,  6504,   180,     0,     0,  1824],\n",
      "        [  355,  2129,  1626,     0,     0,  7065,     0,     0,   113],\n",
      "        [  279,  1284,  6867,    44,   112,   217,     0,     0,  1079],\n",
      "        [   23,   249,    18,   186,     0,     0,     0,  7301,     0],\n",
      "        [  761,    73,    95,     0,     0,     0,     0,     0, 12259]])\n"
     ]
    },
    {
     "name": "stderr",
     "output_type": "stream",
     "text": [
      "Metric Validation/Accuracy improved by 0.025 >= min_delta = 0.0. New best score: 0.678\n"
     ]
    },
    {
     "name": "stdout",
     "output_type": "stream",
     "text": [
      "Epoch end: Train, epoch number: 6\n",
      "TrainEpoch/CM\n",
      " tensor([[  350,  1230,  6542,   335,   228,    53,     0,     0,  1592],\n",
      "        [  110, 14126,    43,     2,     0,     0,     6,    29,     0],\n",
      "        [  407,  1913, 10257,     0,     6,    62,     0,     0,   755],\n",
      "        [  386,  1310,  6249,   721,   362,   136,     0,     0,  2130],\n",
      "        [  355,  1423,   746,     0,  6504,   180,     0,     0,  1824],\n",
      "        [  355,  2129,  1626,     0,     0,  7065,     0,     0,   113],\n",
      "        [  279,  1284,  6867,    44,   112,   217,     0,     0,  1079],\n",
      "        [   23,   249,    18,   186,     0,     0,     0,  7301,     0],\n",
      "        [  761,    73,    95,     0,     0,     0,     0,     0, 12259]])\n"
     ]
    },
    {
     "data": {
      "application/vnd.jupyter.widget-view+json": {
       "model_id": "c4e054eb0b574d32b3a11bf4cc3ee1c3",
       "version_major": 2,
       "version_minor": 0
      },
      "text/plain": [
       "Validation: |          | 0/? [00:00<?, ?it/s]"
      ]
     },
     "metadata": {},
     "output_type": "display_data"
    },
    {
     "name": "stdout",
     "output_type": "stream",
     "text": [
      "Epoch end: Validation, epoch number: 8\n",
      "ValidationEpoch/CM\n",
      " tensor([[  399,  1230,  7501,   698,   302,    63,     0,     0,  1597],\n",
      "        [  110, 16156,    43,     2,     0,     0,     6,    29,     0],\n",
      "        [  407,  1913, 12136,     0,    11,    74,     0,     0,   755],\n",
      "        [  386,  1310,  7142,  1209,   551,   161,     0,     0,  2130],\n",
      "        [  355,  1423,   812,     1,  7962,   215,     0,     0,  1824],\n",
      "        [  355,  2129,  1846,     0,     0,  8440,     0,     0,   113],\n",
      "        [  279,  1284,  8121,   101,   159,   257,     0,     0,  1081],\n",
      "        [   23,   249,    18,   186,     0,     0,     0,  8401,     0],\n",
      "        [  761,    73,    95,     0,     0,     0,     0,     0, 14124]])\n"
     ]
    },
    {
     "name": "stderr",
     "output_type": "stream",
     "text": [
      "Metric Validation/Accuracy improved by 0.005 >= min_delta = 0.0. New best score: 0.683\n"
     ]
    },
    {
     "name": "stdout",
     "output_type": "stream",
     "text": [
      "Epoch end: Train, epoch number: 7\n",
      "TrainEpoch/CM\n",
      " tensor([[  399,  1230,  7501,   698,   302,    63,     0,     0,  1597],\n",
      "        [  110, 16156,    43,     2,     0,     0,     6,    29,     0],\n",
      "        [  407,  1913, 12136,     0,    11,    74,     0,     0,   755],\n",
      "        [  386,  1310,  7142,  1209,   551,   161,     0,     0,  2130],\n",
      "        [  355,  1423,   812,     1,  7962,   215,     0,     0,  1824],\n",
      "        [  355,  2129,  1846,     0,     0,  8440,     0,     0,   113],\n",
      "        [  279,  1284,  8121,   101,   159,   257,     0,     0,  1081],\n",
      "        [   23,   249,    18,   186,     0,     0,     0,  8401,     0],\n",
      "        [  761,    73,    95,     0,     0,     0,     0,     0, 14124]])\n"
     ]
    },
    {
     "data": {
      "application/vnd.jupyter.widget-view+json": {
       "model_id": "6b7ce49294d0413d947fdab3b9cc4c51",
       "version_major": 2,
       "version_minor": 0
      },
      "text/plain": [
       "Validation: |          | 0/? [00:00<?, ?it/s]"
      ]
     },
     "metadata": {},
     "output_type": "display_data"
    },
    {
     "name": "stdout",
     "output_type": "stream",
     "text": [
      "Epoch end: Validation, epoch number: 9\n",
      "ValidationEpoch/CM\n",
      " tensor([[  621,  1230,  8155,  1224,   345,    73,     0,     0,  1602],\n",
      "        [  110, 18186,    43,     2,     0,     0,     6,    29,     0],\n",
      "        [  407,  1913, 13994,    16,    21,    86,     0,     0,   755],\n",
      "        [  386,  1310,  7865,  1862,   745,   186,     0,     0,  2130],\n",
      "        [  355,  1423,   865,     6,  9429,   250,     0,     0,  1824],\n",
      "        [  355,  2129,  2098,     0,     0,  9783,     0,     0,   113],\n",
      "        [  279,  1284,  9309,   225,   207,   297,     0,     0,  1081],\n",
      "        [   23,   249,    18,   186,     0,     0,     0,  9501,     0],\n",
      "        [  761,    73,    95,     0,     0,     0,     0,     0, 15989]])\n",
      "Epoch end: Train, epoch number: 8\n",
      "TrainEpoch/CM\n",
      " "
     ]
    },
    {
     "name": "stderr",
     "output_type": "stream",
     "text": [
      "Metric Validation/Accuracy improved by 0.029 >= min_delta = 0.0. New best score: 0.712\n"
     ]
    },
    {
     "name": "stdout",
     "output_type": "stream",
     "text": [
      "tensor([[  621,  1230,  8155,  1224,   345,    73,     0,     0,  1602],\n",
      "        [  110, 18186,    43,     2,     0,     0,     6,    29,     0],\n",
      "        [  407,  1913, 13994,    16,    21,    86,     0,     0,   755],\n",
      "        [  386,  1310,  7865,  1862,   745,   186,     0,     0,  2130],\n",
      "        [  355,  1423,   865,     6,  9429,   250,     0,     0,  1824],\n",
      "        [  355,  2129,  2098,     0,     0,  9783,     0,     0,   113],\n",
      "        [  279,  1284,  9309,   225,   207,   297,     0,     0,  1081],\n",
      "        [   23,   249,    18,   186,     0,     0,     0,  9501,     0],\n",
      "        [  761,    73,    95,     0,     0,     0,     0,     0, 15989]])\n"
     ]
    },
    {
     "data": {
      "application/vnd.jupyter.widget-view+json": {
       "model_id": "4b3a43dfec7140e4b9f355e3f0bc5f02",
       "version_major": 2,
       "version_minor": 0
      },
      "text/plain": [
       "Validation: |          | 0/? [00:00<?, ?it/s]"
      ]
     },
     "metadata": {},
     "output_type": "display_data"
    },
    {
     "name": "stdout",
     "output_type": "stream",
     "text": [
      "Epoch end: Validation, epoch number: 10\n",
      "ValidationEpoch/CM\n",
      " tensor([[ 1041,  1230,  8727,  1656,   365,    84,     0,     0,  1607],\n",
      "        [  110, 20216,    43,     2,     0,     0,     6,    29,     0],\n",
      "        [  407,  1913, 15849,    33,    33,    98,     0,     0,   755],\n",
      "        [  386,  1310,  8592,  2515,   935,   211,     0,     0,  2130],\n",
      "        [  355,  1423,   918,    10, 10897,   285,     0,     0,  1824],\n",
      "        [  355,  2129,  2264,     0,     0, 11212,     0,     0,   113],\n",
      "        [  279,  1284, 10489,   350,   262,   337,     0,     0,  1081],\n",
      "        [   23,   249,    18,   186,     0,     0,     0, 10601,     0],\n",
      "        [  761,    73,    95,     0,     0,     0,     0,     0, 17854]])\n",
      "Epoch end: Train, epoch number: 9\n",
      "TrainEpoch/CM\n",
      " tensor([[ 1041,  1230,  8727,  1656,   365,    84,     0,     0,  1607],\n",
      "        [  110, 20216,    43,     2,     0,     0,     6,    29,     0],\n",
      "        [  407,  1913, 15849,    33,    33,    98,     0,     0,   755],\n",
      "        [  386,  1310,  8592,  2515,   935,   211,     0,     0,  2130],\n",
      "        [  355,  1423,   918,    10, 10897,   285,     0,     0,  1824],\n",
      "        [  355,  2129,  2264,     0,     0, 11212,     0,     0,   113],\n",
      "        [  279,  1284, 10489,   350,   262,   337,     0,     0,  1081],\n",
      "        [   23,   249,    18,   186,     0,     0,     0, 10601,     0],\n",
      "        [  761,    73,    95,     0,     0,     0,     0,     0, 17854]])\n"
     ]
    },
    {
     "name": "stderr",
     "output_type": "stream",
     "text": [
      "Metric Validation/Accuracy improved by 0.010 >= min_delta = 0.0. New best score: 0.722\n"
     ]
    },
    {
     "data": {
      "application/vnd.jupyter.widget-view+json": {
       "model_id": "5d65bd2f61c5490f813ede46159802a0",
       "version_major": 2,
       "version_minor": 0
      },
      "text/plain": [
       "Validation: |          | 0/? [00:00<?, ?it/s]"
      ]
     },
     "metadata": {},
     "output_type": "display_data"
    },
    {
     "name": "stdout",
     "output_type": "stream",
     "text": [
      "Epoch end: Validation, epoch number: 11\n",
      "ValidationEpoch/CM\n",
      " tensor([[ 1571,  1230,  9179,  2099,   385,    94,     0,     0,  1612],\n",
      "        [  110, 22246,    43,     2,     0,     0,     6,    29,     0],\n",
      "        [  407,  1913, 17696,    63,    40,   110,     0,     0,   755],\n",
      "        [  386,  1310,  9204,  3271,  1137,   236,     0,     0,  2130],\n",
      "        [  355,  1423,   971,    15, 12364,   320,     0,     0,  1824],\n",
      "        [  355,  2129,  2506,     0,     2, 12563,     0,     0,   113],\n",
      "        [  279,  1284, 11630,   518,   313,   377,     0,     0,  1081],\n",
      "        [   23,   249,    18,   186,     0,     0,     0, 11701,     0],\n",
      "        [  761,    73,    95,     0,     0,     0,     0,     0, 19719]])\n",
      "Epoch end: Train, epoch number: 10\n",
      "TrainEpoch/CM\n",
      " tensor([[ 1571,  1230,  9179,  2099,   385,    94,     0,     0,  1612],\n",
      "        [  110, 22246,    43,     2,     0,     0,     6,    29,     0],\n",
      "        [  407,  1913, 17696,    63,    40,   110,     0,     0,   755],\n",
      "        [  386,  1310,  9204,  3271,  1137,   236,     0,     0,  2130],\n",
      "        [  355,  1423,   971,    15, 12364,   320,     0,     0,  1824],\n",
      "        [  355,  2129,  2506,     0,     2, 12563,     0,     0,   113],\n",
      "        [  279,  1284, 11630,   518,   313,   377,     0,     0,  1081],\n",
      "        [   23,   249,    18,   186,     0,     0,     0, 11701,     0],\n",
      "        [  761,    73,    95,     0,     0,     0,     0,     0, 19719]])\n"
     ]
    },
    {
     "name": "stderr",
     "output_type": "stream",
     "text": [
      "Metric Validation/Accuracy improved by 0.034 >= min_delta = 0.0. New best score: 0.756\n"
     ]
    },
    {
     "data": {
      "application/vnd.jupyter.widget-view+json": {
       "model_id": "3215140f81e84367bf59bd0eb7712bbd",
       "version_major": 2,
       "version_minor": 0
      },
      "text/plain": [
       "Validation: |          | 0/? [00:00<?, ?it/s]"
      ]
     },
     "metadata": {},
     "output_type": "display_data"
    },
    {
     "name": "stdout",
     "output_type": "stream",
     "text": [
      "Epoch end: Validation, epoch number: 12\n",
      "ValidationEpoch/CM\n",
      " tensor([[ 2279,  1230,  9514,  2481,   405,   104,     0,     0,  1617],\n",
      "        [  110, 24276,    43,     2,     0,     0,     6,    29,     0],\n",
      "        [  407,  1913, 19526,   100,    57,   122,     0,     0,   755],\n",
      "        [  386,  1310,  9723,  4052,  1407,   261,     0,     0,  2130],\n",
      "        [  355,  1423,  1007,    20, 13848,   355,     0,     0,  1824],\n",
      "        [  355,  2129,  2674,     0,     5, 13987,     0,     0,   113],\n",
      "        [  279,  1284, 12735,   673,   413,   417,     0,     0,  1081],\n",
      "        [   23,   249,    18,   186,     0,     0,     0, 12801,     0],\n",
      "        [  761,    73,    95,     0,     0,     0,     0,     0, 21584]])\n",
      "Epoch end: Train, epoch number: 11\n",
      "TrainEpoch/CM\n",
      " tensor([[ 2279,  1230,  9514,  2481,   405,   104,     0,     0,  1617],\n",
      "        [  110, 24276,    43,     2,     0,     0,     6,    29,     0],\n",
      "        [  407,  1913, 19526,   100,    57,   122,     0,     0,   755],\n",
      "        [  386,  1310,  9723,  4052,  1407,   261,     0,     0,  2130],\n",
      "        [  355,  1423,  1007,    20, 13848,   355,     0,     0,  1824],\n",
      "        [  355,  2129,  2674,     0,     5, 13987,     0,     0,   113],\n",
      "        [  279,  1284, 12735,   673,   413,   417,     0,     0,  1081],\n",
      "        [   23,   249,    18,   186,     0,     0,     0, 12801,     0],\n",
      "        [  761,    73,    95,     0,     0,     0,     0,     0, 21584]])\n"
     ]
    },
    {
     "name": "stderr",
     "output_type": "stream",
     "text": [
      "Metric Validation/Accuracy improved by 0.010 >= min_delta = 0.0. New best score: 0.766\n"
     ]
    },
    {
     "data": {
      "application/vnd.jupyter.widget-view+json": {
       "model_id": "014aed7393fb4e4193787993eae9a193",
       "version_major": 2,
       "version_minor": 0
      },
      "text/plain": [
       "Validation: |          | 0/? [00:00<?, ?it/s]"
      ]
     },
     "metadata": {},
     "output_type": "display_data"
    },
    {
     "name": "stdout",
     "output_type": "stream",
     "text": [
      "Epoch end: Validation, epoch number: 13\n",
      "ValidationEpoch/CM\n",
      " tensor([[ 3107,  1230,  9752,  2851,   414,   114,     0,     0,  1622],\n",
      "        [  110, 26306,    43,     2,     0,     0,     6,    29,     0],\n",
      "        [  407,  1913, 21352,   156,    59,   134,     0,     0,   755],\n",
      "        [  396,  1310, 10233,  4918,  1591,   286,     0,     0,  2130],\n",
      "        [  359,  1423,  1059,    27, 15310,   390,     0,     0,  1824],\n",
      "        [  355,  2129,  2873,     0,     5, 15383,     0,     0,   113],\n",
      "        [  281,  1284, 13857,   863,   459,   457,     0,     0,  1081],\n",
      "        [   23,   249,    18,   186,     0,     0,     0, 13901,     0],\n",
      "        [  761,    73,    95,     0,     0,     0,     0,     0, 23449]])\n",
      "Epoch end: Train, epoch number: 12\n",
      "TrainEpoch/CM\n",
      " tensor([[ 3107,  1230,  9752,  2851,   414,   114,     0,     0,  1622],\n",
      "        [  110, 26306,    43,     2,     0,     0,     6,    29,     0],\n",
      "        [  407,  1913, 21352,   156,    59,   134,     0,     0,   755],\n",
      "        [  396,  1310, 10233,  4918,  1591,   286,     0,     0,  2130],\n",
      "        [  359,  1423,  1059,    27, 15310,   390,     0,     0,  1824],\n",
      "        [  355,  2129,  2873,     0,     5, 15383,     0,     0,   113],\n",
      "        [  281,  1284, 13857,   863,   459,   457,     0,     0,  1081],\n",
      "        [   23,   249,    18,   186,     0,     0,     0, 13901,     0],\n",
      "        [  761,    73,    95,     0,     0,     0,     0,     0, 23449]])\n"
     ]
    },
    {
     "name": "stderr",
     "output_type": "stream",
     "text": [
      "Metric Validation/Accuracy improved by 0.008 >= min_delta = 0.0. New best score: 0.775\n"
     ]
    },
    {
     "data": {
      "application/vnd.jupyter.widget-view+json": {
       "model_id": "93aedc2524b94fd7a2719cc0c89dfa67",
       "version_major": 2,
       "version_minor": 0
      },
      "text/plain": [
       "Validation: |          | 0/? [00:00<?, ?it/s]"
      ]
     },
     "metadata": {},
     "output_type": "display_data"
    },
    {
     "name": "stdout",
     "output_type": "stream",
     "text": [
      "Epoch end: Validation, epoch number: 14\n",
      "ValidationEpoch/CM\n",
      " tensor([[ 3985,  1230,  9874,  3285,   425,   124,     0,     0,  1627],\n",
      "        [  110, 28336,    43,     2,     0,     0,     6,    29,     0],\n",
      "        [  407,  1913, 23110,   267,    74,   146,     0,     0,   755],\n",
      "        [  398,  1310, 10502,  5966,  1842,   311,     0,     0,  2130],\n",
      "        [  359,  1423,  1090,    37, 16795,   424,     0,     0,  1824],\n",
      "        [  355,  2129,  3001,     0,     5, 16850,     0,     0,   113],\n",
      "        [  286,  1284, 14838,  1133,   563,   497,     0,     0,  1081],\n",
      "        [   23,   249,    18,   186,     0,     0,     0, 15001,     0],\n",
      "        [  761,    73,    95,     0,     0,     0,     0,     0, 25314]])\n"
     ]
    },
    {
     "name": "stderr",
     "output_type": "stream",
     "text": [
      "Metric Validation/Accuracy improved by 0.011 >= min_delta = 0.0. New best score: 0.785\n"
     ]
    },
    {
     "name": "stdout",
     "output_type": "stream",
     "text": [
      "Epoch end: Train, epoch number: 13\n",
      "TrainEpoch/CM\n",
      " tensor([[ 3985,  1230,  9874,  3285,   425,   124,     0,     0,  1627],\n",
      "        [  110, 28336,    43,     2,     0,     0,     6,    29,     0],\n",
      "        [  407,  1913, 23110,   267,    74,   146,     0,     0,   755],\n",
      "        [  398,  1310, 10502,  5966,  1842,   311,     0,     0,  2130],\n",
      "        [  359,  1423,  1090,    37, 16795,   424,     0,     0,  1824],\n",
      "        [  355,  2129,  3001,     0,     5, 16850,     0,     0,   113],\n",
      "        [  286,  1284, 14838,  1133,   563,   497,     0,     0,  1081],\n",
      "        [   23,   249,    18,   186,     0,     0,     0, 15001,     0],\n",
      "        [  761,    73,    95,     0,     0,     0,     0,     0, 25314]])\n"
     ]
    },
    {
     "data": {
      "application/vnd.jupyter.widget-view+json": {
       "model_id": "b32f58051ed845bab0a9f8edebd0161f",
       "version_major": 2,
       "version_minor": 0
      },
      "text/plain": [
       "Validation: |          | 0/? [00:00<?, ?it/s]"
      ]
     },
     "metadata": {},
     "output_type": "display_data"
    },
    {
     "name": "stdout",
     "output_type": "stream",
     "text": [
      "Epoch end: Validation, epoch number: 15\n",
      "ValidationEpoch/CM\n",
      " tensor([[ 4913,  1230, 10045,  3624,   432,   134,     0,     0,  1632],\n",
      "        [  110, 30366,    43,     2,     0,     0,     6,    29,     0],\n",
      "        [  407,  1913, 24917,   344,    74,   158,     0,     0,   755],\n",
      "        [  420,  1310, 10912,  6902,  2044,   336,     0,     0,  2130],\n",
      "        [  364,  1423,  1134,    47, 18266,   454,     0,     0,  1824],\n",
      "        [  355,  2129,  3171,     0,     5, 18275,     0,     0,   113],\n",
      "        [  293,  1284, 15909,  1353,   625,   537,     0,     0,  1081],\n",
      "        [   23,   249,    18,   186,     0,     0,     0, 16101,     0],\n",
      "        [  761,    73,    95,     0,     0,     0,     0,     0, 27179]])\n",
      "Epoch end: Train, epoch number: 14\n",
      "TrainEpoch/CM\n",
      " tensor([[ 4913,  1230, 10045,  3624,   432,   134,     0,     0,  1632],\n",
      "        [  110, 30366,    43,     2,     0,     0,     6,    29,     0],\n",
      "        [  407,  1913, 24917,   344,    74,   158,     0,     0,   755],\n",
      "        [  420,  1310, 10912,  6902,  2044,   336,     0,     0,  2130],\n",
      "        [  364,  1423,  1134,    47, 18266,   454,     0,     0,  1824],\n",
      "        [  355,  2129,  3171,     0,     5, 18275,     0,     0,   113],\n",
      "        [  293,  1284, 15909,  1353,   625,   537,     0,     0,  1081],\n",
      "        [   23,   249,    18,   186,     0,     0,     0, 16101,     0],\n",
      "        [  761,    73,    95,     0,     0,     0,     0,     0, 27179]])\n"
     ]
    },
    {
     "name": "stderr",
     "output_type": "stream",
     "text": [
      "Metric Validation/Accuracy improved by 0.004 >= min_delta = 0.0. New best score: 0.789\n"
     ]
    },
    {
     "data": {
      "application/vnd.jupyter.widget-view+json": {
       "model_id": "ff825fb6f52743e69a3759774064c356",
       "version_major": 2,
       "version_minor": 0
      },
      "text/plain": [
       "Validation: |          | 0/? [00:00<?, ?it/s]"
      ]
     },
     "metadata": {},
     "output_type": "display_data"
    },
    {
     "name": "stdout",
     "output_type": "stream",
     "text": [
      "Epoch end: Validation, epoch number: 16\n",
      "ValidationEpoch/CM\n",
      " tensor([[ 5839,  1230, 10158,  4018,   444,   144,     0,     0,  1637],\n",
      "        [  110, 32396,    43,     2,     0,     0,     6,    29,     0],\n",
      "        [  407,  1913, 26685,   439,    95,   170,     0,     0,   755],\n",
      "        [  427,  1310, 11178,  7935,  2308,   361,     0,     0,  2130],\n",
      "        [  365,  1423,  1149,    57, 19775,   479,     0,     0,  1824],\n",
      "        [  355,  2129,  3311,     0,     5, 19730,     0,     0,   113],\n",
      "        [  298,  1284, 16897,  1603,   742,   577,     0,     0,  1081],\n",
      "        [   23,   249,    18,   186,     0,     0,     0, 17201,     0],\n",
      "        [  761,    73,    95,     0,     0,     0,     0,     0, 29044]])\n"
     ]
    },
    {
     "name": "stderr",
     "output_type": "stream",
     "text": [
      "Metric Validation/Accuracy improved by 0.006 >= min_delta = 0.0. New best score: 0.795\n"
     ]
    },
    {
     "name": "stdout",
     "output_type": "stream",
     "text": [
      "Epoch end: Train, epoch number: 15\n",
      "TrainEpoch/CM\n",
      " tensor([[ 5839,  1230, 10158,  4018,   444,   144,     0,     0,  1637],\n",
      "        [  110, 32396,    43,     2,     0,     0,     6,    29,     0],\n",
      "        [  407,  1913, 26685,   439,    95,   170,     0,     0,   755],\n",
      "        [  427,  1310, 11178,  7935,  2308,   361,     0,     0,  2130],\n",
      "        [  365,  1423,  1149,    57, 19775,   479,     0,     0,  1824],\n",
      "        [  355,  2129,  3311,     0,     5, 19730,     0,     0,   113],\n",
      "        [  298,  1284, 16897,  1603,   742,   577,     0,     0,  1081],\n",
      "        [   23,   249,    18,   186,     0,     0,     0, 17201,     0],\n",
      "        [  761,    73,    95,     0,     0,     0,     0,     0, 29044]])\n"
     ]
    },
    {
     "data": {
      "application/vnd.jupyter.widget-view+json": {
       "model_id": "9b8c21a43b45453d9f2cf69c0d6e5b53",
       "version_major": 2,
       "version_minor": 0
      },
      "text/plain": [
       "Validation: |          | 0/? [00:00<?, ?it/s]"
      ]
     },
     "metadata": {},
     "output_type": "display_data"
    },
    {
     "name": "stdout",
     "output_type": "stream",
     "text": [
      "Epoch end: Validation, epoch number: 17\n",
      "ValidationEpoch/CM\n",
      " tensor([[ 6895,  1230, 10239,  4321,   449,   154,     0,     0,  1642],\n",
      "        [  110, 34426,    43,     2,     0,     0,     6,    29,     0],\n",
      "        [  407,  1913, 28427,   569,   107,   182,     0,     0,   755],\n",
      "        [  491,  1310, 11386,  9001,  2536,   386,     4,     0,  2130],\n",
      "        [  370,  1423,  1175,    70, 21267,   503,     0,     0,  1824],\n",
      "        [  355,  2129,  3445,     0,     5, 21191,     0,     0,   113],\n",
      "        [  309,  1284, 17843,  1897,   851,   617,     0,     0,  1081],\n",
      "        [   23,   249,    18,   186,     0,     0,     0, 18301,     0],\n",
      "        [  761,    73,    95,     0,     0,     0,     0,     0, 30909]])\n",
      "Epoch end: Train, epoch number: 16\n",
      "TrainEpoch/CM\n",
      " tensor([[ 6895,  1230, 10239,  4321,   449,   154,     0,     0,  1642],\n",
      "        [  110, 34426,    43,     2,     0,     0,     6,    29,     0],\n",
      "        [  407,  1913, 28427,   569,   107,   182,     0,     0,   755],\n",
      "        [  491,  1310, 11386,  9001,  2536,   386,     4,     0,  2130],\n",
      "        [  370,  1423,  1175,    70, 21267,   503,     0,     0,  1824],\n",
      "        [  355,  2129,  3445,     0,     5, 21191,     0,     0,   113],\n",
      "        [  309,  1284, 17843,  1897,   851,   617,     0,     0,  1081],\n",
      "        [   23,   249,    18,   186,     0,     0,     0, 18301,     0],\n",
      "        [  761,    73,    95,     0,     0,     0,     0,     0, 30909]])\n"
     ]
    },
    {
     "name": "stderr",
     "output_type": "stream",
     "text": [
      "Metric Validation/Accuracy improved by 0.005 >= min_delta = 0.0. New best score: 0.800\n"
     ]
    },
    {
     "data": {
      "application/vnd.jupyter.widget-view+json": {
       "model_id": "0a02f365be4846d291f08a995926efad",
       "version_major": 2,
       "version_minor": 0
      },
      "text/plain": [
       "Validation: |          | 0/? [00:00<?, ?it/s]"
      ]
     },
     "metadata": {},
     "output_type": "display_data"
    },
    {
     "name": "stdout",
     "output_type": "stream",
     "text": [
      "Epoch end: Validation, epoch number: 18\n",
      "ValidationEpoch/CM\n",
      " tensor([[ 8019,  1230, 10312,  4564,   454,   164,     0,     0,  1647],\n",
      "        [  110, 36456,    43,     2,     0,     0,     6,    29,     0],\n",
      "        [  422,  1913, 30189,   671,   111,   194,     1,     0,   755],\n",
      "        [  576,  1310, 11619, 10028,  2756,   411,     9,     0,  2130],\n",
      "        [  375,  1423,  1203,    80, 22764,   523,     0,     0,  1824],\n",
      "        [  355,  2129,  3569,     0,     5, 22662,     0,     0,   113],\n",
      "        [  325,  1284, 18817,  2166,   952,   657,     0,     0,  1081],\n",
      "        [   23,   249,    18,   186,     0,     0,     0, 19401,     0],\n",
      "        [  761,    73,    95,     0,     0,     0,     0,     0, 32774]])\n",
      "Epoch end: Train, epoch number: 17\n",
      "TrainEpoch/CM\n",
      " tensor([[ 8019,  1230, 10312,  4564,   454,   164,     0,     0,  1647],\n",
      "        [  110, 36456,    43,     2,     0,     0,     6,    29,     0],\n",
      "        [  422,  1913, 30189,   671,   111,   194,     1,     0,   755],\n",
      "        [  576,  1310, 11619, 10028,  2756,   411,     9,     0,  2130],\n",
      "        [  375,  1423,  1203,    80, 22764,   523,     0,     0,  1824],\n",
      "        [  355,  2129,  3569,     0,     5, 22662,     0,     0,   113],\n",
      "        [  325,  1284, 18817,  2166,   952,   657,     0,     0,  1081],\n",
      "        [   23,   249,    18,   186,     0,     0,     0, 19401,     0],\n",
      "        [  761,    73,    95,     0,     0,     0,     0,     0, 32774]])\n"
     ]
    },
    {
     "name": "stderr",
     "output_type": "stream",
     "text": [
      "Metric Validation/Accuracy improved by 0.000 >= min_delta = 0.0. New best score: 0.800\n"
     ]
    },
    {
     "data": {
      "application/vnd.jupyter.widget-view+json": {
       "model_id": "da2c80734e97436a814f6e6b8b49b7d2",
       "version_major": 2,
       "version_minor": 0
      },
      "text/plain": [
       "Validation: |          | 0/? [00:00<?, ?it/s]"
      ]
     },
     "metadata": {},
     "output_type": "display_data"
    },
    {
     "name": "stdout",
     "output_type": "stream",
     "text": [
      "Epoch end: Validation, epoch number: 19\n",
      "ValidationEpoch/CM\n",
      " tensor([[ 9031,  1230, 10377,  4927,   459,   174,     0,     0,  1652],\n",
      "        [  110, 38486,    43,     2,     0,     0,     6,    29,     0],\n",
      "        [  422,  1913, 31898,   825,   116,   206,    17,     0,   755],\n",
      "        [  630,  1310, 11800, 11149,  2965,   436,    14,     0,  2130],\n",
      "        [  380,  1423,  1220,    97, 24272,   536,     0,     0,  1824],\n",
      "        [  355,  2129,  3681,     0,     5, 24145,     0,     0,   113],\n",
      "        [  335,  1284, 19720,  2500,  1058,   697,     7,     0,  1081],\n",
      "        [   23,   249,    18,   186,     0,     0,     0, 20501,     0],\n",
      "        [  761,    73,    95,     0,     0,     0,     0,     0, 34639]])\n",
      "Epoch end: Train, epoch number: 18\n",
      "TrainEpoch/CM\n",
      " tensor([[ 9031,  1230, 10377,  4927,   459,   174,     0,     0,  1652],\n",
      "        [  110, 38486,    43,     2,     0,     0,     6,    29,     0],\n",
      "        [  422,  1913, 31898,   825,   116,   206,    17,     0,   755],\n",
      "        [  630,  1310, 11800, 11149,  2965,   436,    14,     0,  2130],\n",
      "        [  380,  1423,  1220,    97, 24272,   536,     0,     0,  1824],\n",
      "        [  355,  2129,  3681,     0,     5, 24145,     0,     0,   113],\n",
      "        [  335,  1284, 19720,  2500,  1058,   697,     7,     0,  1081],\n",
      "        [   23,   249,    18,   186,     0,     0,     0, 20501,     0],\n",
      "        [  761,    73,    95,     0,     0,     0,     0,     0, 34639]])\n"
     ]
    },
    {
     "name": "stderr",
     "output_type": "stream",
     "text": [
      "Metric Validation/Accuracy improved by 0.001 >= min_delta = 0.0. New best score: 0.802\n"
     ]
    },
    {
     "data": {
      "application/vnd.jupyter.widget-view+json": {
       "model_id": "b0d5cb9349be4db3b57d9a6e9d4ba0af",
       "version_major": 2,
       "version_minor": 0
      },
      "text/plain": [
       "Validation: |          | 0/? [00:00<?, ?it/s]"
      ]
     },
     "metadata": {},
     "output_type": "display_data"
    },
    {
     "name": "stdout",
     "output_type": "stream",
     "text": [
      "Epoch end: Validation, epoch number: 20\n",
      "ValidationEpoch/CM\n",
      " tensor([[10149,  1230, 10448,  5178,   464,   184,     0,     0,  1657],\n",
      "        [  110, 40516,    43,     2,     0,     0,     6,    29,     0],\n",
      "        [  436,  1913, 33633,   955,   116,   218,    22,     0,   755],\n",
      "        [  729,  1310, 12015, 12202,  3165,   459,    19,     0,  2130],\n",
      "        [  385,  1423,  1248,   111, 25785,   536,     0,     0,  1824],\n",
      "        [  355,  2129,  3821,     0,     5, 25600,     0,     0,   113],\n",
      "        [  358,  1284, 20669,  2789,  1155,   737,     9,     0,  1081],\n",
      "        [   23,   249,    18,   186,     0,     0,     0, 21601,     0],\n",
      "        [  761,    73,    95,     0,     0,     0,     0,     0, 36504]])\n",
      "Epoch end: Train, epoch number: 19\n",
      "TrainEpoch/CM\n",
      " tensor([[10149,  1230, 10448,  5178,   464,   184,     0,     0,  1657],\n",
      "        [  110, 40516,    43,     2,     0,     0,     6,    29,     0],\n",
      "        [  436,  1913, 33633,   955,   116,   218,    22,     0,   755],\n",
      "        [  729,  1310, 12015, 12202,  3165,   459,    19,     0,  2130],\n",
      "        [  385,  1423,  1248,   111, 25785,   536,     0,     0,  1824],\n",
      "        [  355,  2129,  3821,     0,     5, 25600,     0,     0,   113],\n",
      "        [  358,  1284, 20669,  2789,  1155,   737,     9,     0,  1081],\n",
      "        [   23,   249,    18,   186,     0,     0,     0, 21601,     0],\n",
      "        [  761,    73,    95,     0,     0,     0,     0,     0, 36504]])\n"
     ]
    },
    {
     "name": "stderr",
     "output_type": "stream",
     "text": [
      "Metric Validation/Accuracy improved by 0.004 >= min_delta = 0.0. New best score: 0.806\n"
     ]
    },
    {
     "data": {
      "application/vnd.jupyter.widget-view+json": {
       "model_id": "a9d25e17074e4ae3bf9462c2e90bf9a3",
       "version_major": 2,
       "version_minor": 0
      },
      "text/plain": [
       "Validation: |          | 0/? [00:00<?, ?it/s]"
      ]
     },
     "metadata": {},
     "output_type": "display_data"
    },
    {
     "name": "stdout",
     "output_type": "stream",
     "text": [
      "Epoch end: Validation, epoch number: 21\n",
      "ValidationEpoch/CM\n",
      " tensor([[11239,  1230, 10499,  5477,   469,   194,     0,     0,  1662],\n",
      "        [  110, 42545,    43,     2,     0,     1,     6,    29,     0],\n",
      "        [  446,  1913, 35338,  1112,   116,   230,    34,     0,   755],\n",
      "        [  810,  1310, 12176, 13355,  3339,   480,    24,     0,  2130],\n",
      "        [  390,  1423,  1282,   129, 27283,   541,     0,     0,  1824],\n",
      "        [  355,  2129,  3932,     0,     5, 27084,     0,     0,   113],\n",
      "        [  377,  1284, 21587,  3129,  1233,   777,    14,     0,  1081],\n",
      "        [   23,   249,    18,   186,     0,     0,     0, 22701,     0],\n",
      "        [  761,    73,    95,     0,     0,     0,     0,     0, 38369]])\n",
      "Epoch end: Train, epoch number: 20\n"
     ]
    },
    {
     "name": "stderr",
     "output_type": "stream",
     "text": [
      "Metric Validation/Accuracy improved by 0.005 >= min_delta = 0.0. New best score: 0.810\n"
     ]
    },
    {
     "name": "stdout",
     "output_type": "stream",
     "text": [
      "TrainEpoch/CM\n",
      " tensor([[11239,  1230, 10499,  5477,   469,   194,     0,     0,  1662],\n",
      "        [  110, 42545,    43,     2,     0,     1,     6,    29,     0],\n",
      "        [  446,  1913, 35338,  1112,   116,   230,    34,     0,   755],\n",
      "        [  810,  1310, 12176, 13355,  3339,   480,    24,     0,  2130],\n",
      "        [  390,  1423,  1282,   129, 27283,   541,     0,     0,  1824],\n",
      "        [  355,  2129,  3932,     0,     5, 27084,     0,     0,   113],\n",
      "        [  377,  1284, 21587,  3129,  1233,   777,    14,     0,  1081],\n",
      "        [   23,   249,    18,   186,     0,     0,     0, 22701,     0],\n",
      "        [  761,    73,    95,     0,     0,     0,     0,     0, 38369]])\n"
     ]
    },
    {
     "data": {
      "application/vnd.jupyter.widget-view+json": {
       "model_id": "08a55b6b36ca45a7895372e3caec3e2f",
       "version_major": 2,
       "version_minor": 0
      },
      "text/plain": [
       "Validation: |          | 0/? [00:00<?, ?it/s]"
      ]
     },
     "metadata": {},
     "output_type": "display_data"
    },
    {
     "name": "stdout",
     "output_type": "stream",
     "text": [
      "Epoch end: Validation, epoch number: 22\n",
      "ValidationEpoch/CM\n",
      " tensor([[12362,  1230, 10570,  5723,   474,   204,     0,     0,  1667],\n",
      "        [  110, 44573,    43,     2,     0,     3,     6,    29,     0],\n",
      "        [  458,  1913, 37064,  1246,   116,   242,    46,     0,   755],\n",
      "        [  903,  1310, 12389, 14428,  3532,   498,    29,     0,  2130],\n",
      "        [  395,  1423,  1313,   144, 28792,   541,     0,     0,  1824],\n",
      "        [  355,  2129,  4048,     0,     5, 28563,     0,     0,   113],\n",
      "        [  394,  1284, 22530,  3422,  1329,   817,    25,     0,  1081],\n",
      "        [   23,   249,    18,   186,     0,     0,     0, 23801,     0],\n",
      "        [  761,    73,    95,     0,     0,     0,     0,     0, 40234]])\n",
      "Epoch end: Train, epoch number: 21\n",
      "TrainEpoch/CM\n",
      " tensor([[12362,  1230, 10570,  5723,   474,   204,     0,     0,  1667],\n",
      "        [  110, 44573,    43,     2,     0,     3,     6,    29,     0],\n",
      "        [  458,  1913, 37064,  1246,   116,   242,    46,     0,   755],\n",
      "        [  903,  1310, 12389, 14428,  3532,   498,    29,     0,  2130],\n",
      "        [  395,  1423,  1313,   144, 28792,   541,     0,     0,  1824],\n",
      "        [  355,  2129,  4048,     0,     5, 28563,     0,     0,   113],\n",
      "        [  394,  1284, 22530,  3422,  1329,   817,    25,     0,  1081],\n",
      "        [   23,   249,    18,   186,     0,     0,     0, 23801,     0],\n",
      "        [  761,    73,    95,     0,     0,     0,     0,     0, 40234]])\n"
     ]
    },
    {
     "data": {
      "application/vnd.jupyter.widget-view+json": {
       "model_id": "a509d1a7df4f491ca152ad9fe6386828",
       "version_major": 2,
       "version_minor": 0
      },
      "text/plain": [
       "Validation: |          | 0/? [00:00<?, ?it/s]"
      ]
     },
     "metadata": {},
     "output_type": "display_data"
    },
    {
     "name": "stdout",
     "output_type": "stream",
     "text": [
      "Epoch end: Validation, epoch number: 23\n",
      "ValidationEpoch/CM\n",
      " tensor([[13489,  1230, 10622,  5984,   479,   214,     0,     0,  1672],\n",
      "        [  110, 46600,    43,     2,     0,     6,     6,    29,     0],\n",
      "        [  479,  1913, 38773,  1388,   116,   254,    58,     0,   755],\n",
      "        [ 1003,  1310, 12545, 15564,  3715,   513,    34,     0,  2130],\n",
      "        [  400,  1423,  1334,   159, 30311,   541,     0,     0,  1824],\n",
      "        [  355,  2129,  4149,     0,     5, 30057,     0,     0,   113],\n",
      "        [  415,  1284, 23425,  3755,  1427,   857,    38,     0,  1081],\n",
      "        [   23,   249,    18,   186,     0,     0,     0, 24901,     0],\n",
      "        [  761,    73,    95,     0,     0,     0,     0,     0, 42099]])\n"
     ]
    },
    {
     "name": "stderr",
     "output_type": "stream",
     "text": [
      "Metric Validation/Accuracy improved by 0.002 >= min_delta = 0.0. New best score: 0.813\n"
     ]
    },
    {
     "name": "stdout",
     "output_type": "stream",
     "text": [
      "Epoch end: Train, epoch number: 22\n",
      "TrainEpoch/CM\n",
      " tensor([[13489,  1230, 10622,  5984,   479,   214,     0,     0,  1672],\n",
      "        [  110, 46600,    43,     2,     0,     6,     6,    29,     0],\n",
      "        [  479,  1913, 38773,  1388,   116,   254,    58,     0,   755],\n",
      "        [ 1003,  1310, 12545, 15564,  3715,   513,    34,     0,  2130],\n",
      "        [  400,  1423,  1334,   159, 30311,   541,     0,     0,  1824],\n",
      "        [  355,  2129,  4149,     0,     5, 30057,     0,     0,   113],\n",
      "        [  415,  1284, 23425,  3755,  1427,   857,    38,     0,  1081],\n",
      "        [   23,   249,    18,   186,     0,     0,     0, 24901,     0],\n",
      "        [  761,    73,    95,     0,     0,     0,     0,     0, 42099]])\n"
     ]
    },
    {
     "data": {
      "application/vnd.jupyter.widget-view+json": {
       "model_id": "53c79b7835af46e6900252528aeebb9a",
       "version_major": 2,
       "version_minor": 0
      },
      "text/plain": [
       "Validation: |          | 0/? [00:00<?, ?it/s]"
      ]
     },
     "metadata": {},
     "output_type": "display_data"
    },
    {
     "name": "stdout",
     "output_type": "stream",
     "text": [
      "Epoch end: Validation, epoch number: 24\n",
      "ValidationEpoch/CM\n",
      " tensor([[14676,  1230, 10666,  6193,   484,   224,     0,     0,  1677],\n",
      "        [  110, 48628,    43,     2,     0,     8,     6,    29,     0],\n",
      "        [  515,  1913, 40477,  1520,   116,   266,    70,     0,   755],\n",
      "        [ 1173,  1310, 12697, 16648,  3884,   528,    39,     0,  2130],\n",
      "        [  405,  1423,  1354,   174, 31831,   541,     0,     0,  1824],\n",
      "        [  355,  2129,  4249,     0,     5, 31552,     0,     0,   113],\n",
      "        [  466,  1284, 24303,  4065,  1515,   897,    71,     0,  1081],\n",
      "        [   23,   249,    18,   186,     0,     0,     0, 26001,     0],\n",
      "        [  761,    73,    95,     0,     0,     0,     0,     0, 43964]])\n",
      "Epoch end: Train, epoch number: 23\n",
      "TrainEpoch/CM\n",
      " tensor([[14676,  1230, 10666,  6193,   484,   224,     0,     0,  1677],\n",
      "        [  110, 48628,    43,     2,     0,     8,     6,    29,     0],\n",
      "        [  515,  1913, 40477,  1520,   116,   266,    70,     0,   755],\n",
      "        [ 1173,  1310, 12697, 16648,  3884,   528,    39,     0,  2130],\n",
      "        [  405,  1423,  1354,   174, 31831,   541,     0,     0,  1824],\n",
      "        [  355,  2129,  4249,     0,     5, 31552,     0,     0,   113],\n",
      "        [  466,  1284, 24303,  4065,  1515,   897,    71,     0,  1081],\n",
      "        [   23,   249,    18,   186,     0,     0,     0, 26001,     0],\n",
      "        [  761,    73,    95,     0,     0,     0,     0,     0, 43964]])\n"
     ]
    },
    {
     "data": {
      "application/vnd.jupyter.widget-view+json": {
       "model_id": "8be32fd8f842499bb1a82d5905919bf6",
       "version_major": 2,
       "version_minor": 0
      },
      "text/plain": [
       "Validation: |          | 0/? [00:00<?, ?it/s]"
      ]
     },
     "metadata": {},
     "output_type": "display_data"
    },
    {
     "name": "stdout",
     "output_type": "stream",
     "text": [
      "Epoch end: Validation, epoch number: 25\n",
      "ValidationEpoch/CM\n",
      " tensor([[15825,  1230, 10707,  6443,   489,   234,     0,     0,  1682],\n",
      "        [  110, 50655,    43,     2,     0,    11,     6,    29,     0],\n",
      "        [  546,  1913, 42163,  1675,   116,   278,    82,     0,   755],\n",
      "        [ 1292,  1310, 12833, 17802,  4050,   543,    44,     0,  2130],\n",
      "        [  410,  1423,  1378,   190, 33346,   541,     0,     0,  1824],\n",
      "        [  355,  2129,  4350,     0,     5, 33046,     0,     0,   113],\n",
      "        [  498,  1284, 25167,  4418,  1603,   937,    94,     0,  1081],\n",
      "        [   23,   249,    18,   186,     0,     0,     0, 27101,     0],\n",
      "        [  761,    73,    95,     0,     0,     0,     0,     0, 45829]])\n",
      "Epoch end: Train, epoch number: 24\n",
      "TrainEpoch/CM\n",
      " tensor([[15825,  1230, 10707,  6443,   489,   234,     0,     0,  1682],\n",
      "        [  110, 50655,    43,     2,     0,    11,     6,    29,     0],\n",
      "        [  546,  1913, 42163,  1675,   116,   278,    82,     0,   755],\n",
      "        [ 1292,  1310, 12833, 17802,  4050,   543,    44,     0,  2130],\n",
      "        [  410,  1423,  1378,   190, 33346,   541,     0,     0,  1824],\n",
      "        [  355,  2129,  4350,     0,     5, 33046,     0,     0,   113],\n",
      "        [  498,  1284, 25167,  4418,  1603,   937,    94,     0,  1081],\n",
      "        [   23,   249,    18,   186,     0,     0,     0, 27101,     0],\n",
      "        [  761,    73,    95,     0,     0,     0,     0,     0, 45829]])\n"
     ]
    },
    {
     "name": "stderr",
     "output_type": "stream",
     "text": [
      "Metric Validation/Accuracy improved by 0.002 >= min_delta = 0.0. New best score: 0.815\n"
     ]
    },
    {
     "data": {
      "application/vnd.jupyter.widget-view+json": {
       "model_id": "34f9360607fc4234bdc0441142aebc4b",
       "version_major": 2,
       "version_minor": 0
      },
      "text/plain": [
       "Validation: |          | 0/? [00:00<?, ?it/s]"
      ]
     },
     "metadata": {},
     "output_type": "display_data"
    },
    {
     "name": "stdout",
     "output_type": "stream",
     "text": [
      "Epoch end: Validation, epoch number: 26\n",
      "ValidationEpoch/CM\n",
      " tensor([[17012,  1230, 10758,  6645,   494,   244,     0,     0,  1687],\n",
      "        [  110, 52682,    43,     2,     0,    14,     6,    29,     0],\n",
      "        [  578,  1913, 43868,  1806,   116,   290,    98,     0,   755],\n",
      "        [ 1440,  1310, 12991, 18897,  4219,   558,    54,     0,  2130],\n",
      "        [  415,  1423,  1397,   205, 34867,   541,     0,     0,  1824],\n",
      "        [  355,  2129,  4450,     0,     5, 34541,     0,     0,   113],\n",
      "        [  535,  1284, 26064,  4720,  1684,   977,   137,     0,  1081],\n",
      "        [   23,   249,    18,   186,     0,     0,     0, 28201,     0],\n",
      "        [  761,    73,    95,     0,     0,     0,     0,     0, 47694]])\n",
      "Epoch end: Train, epoch number: 25\n",
      "TrainEpoch/CM\n",
      " tensor([[17012,  1230, 10758,  6645,   494,   244,     0,     0,  1687],\n",
      "        [  110, 52682,    43,     2,     0,    14,     6,    29,     0],\n",
      "        [  578,  1913, 43868,  1806,   116,   290,    98,     0,   755],\n",
      "        [ 1440,  1310, 12991, 18897,  4219,   558,    54,     0,  2130],\n",
      "        [  415,  1423,  1397,   205, 34867,   541,     0,     0,  1824],\n",
      "        [  355,  2129,  4450,     0,     5, 34541,     0,     0,   113],\n",
      "        [  535,  1284, 26064,  4720,  1684,   977,   137,     0,  1081],\n",
      "        [   23,   249,    18,   186,     0,     0,     0, 28201,     0],\n",
      "        [  761,    73,    95,     0,     0,     0,     0,     0, 47694]])\n"
     ]
    },
    {
     "name": "stderr",
     "output_type": "stream",
     "text": [
      "Metric Validation/Accuracy improved by 0.001 >= min_delta = 0.0. New best score: 0.816\n"
     ]
    },
    {
     "data": {
      "application/vnd.jupyter.widget-view+json": {
       "model_id": "3a20a06d2f7e4ef1bd53e10d0c8dea4a",
       "version_major": 2,
       "version_minor": 0
      },
      "text/plain": [
       "Validation: |          | 0/? [00:00<?, ?it/s]"
      ]
     },
     "metadata": {},
     "output_type": "display_data"
    },
    {
     "name": "stdout",
     "output_type": "stream",
     "text": [
      "Epoch end: Validation, epoch number: 27\n",
      "ValidationEpoch/CM\n",
      " tensor([[18164,  1230, 10784,  6907,   499,   254,     0,     0,  1692],\n",
      "        [  110, 54707,    43,     2,     0,    19,     6,    29,     0],\n",
      "        [  601,  1913, 45537,  1970,   120,   302,   122,     0,   755],\n",
      "        [ 1546,  1310, 13079, 20093,  4389,   573,    74,     0,  2130],\n",
      "        [  420,  1423,  1412,   224, 36388,   541,     0,     0,  1824],\n",
      "        [  355,  2129,  4533,     0,     5, 36053,     0,     0,   113],\n",
      "        [  567,  1284, 26869,  5115,  1769,  1017,   180,     0,  1081],\n",
      "        [   23,   249,    18,   186,     0,     0,     0, 29301,     0],\n",
      "        [  761,    73,    95,     0,     0,     0,     0,     0, 49559]])\n"
     ]
    },
    {
     "name": "stderr",
     "output_type": "stream",
     "text": [
      "Metric Validation/Accuracy improved by 0.009 >= min_delta = 0.0. New best score: 0.824\n"
     ]
    },
    {
     "name": "stdout",
     "output_type": "stream",
     "text": [
      "Epoch end: Train, epoch number: 26\n",
      "TrainEpoch/CM\n",
      " tensor([[18164,  1230, 10784,  6907,   499,   254,     0,     0,  1692],\n",
      "        [  110, 54707,    43,     2,     0,    19,     6,    29,     0],\n",
      "        [  601,  1913, 45537,  1970,   120,   302,   122,     0,   755],\n",
      "        [ 1546,  1310, 13079, 20093,  4389,   573,    74,     0,  2130],\n",
      "        [  420,  1423,  1412,   224, 36388,   541,     0,     0,  1824],\n",
      "        [  355,  2129,  4533,     0,     5, 36053,     0,     0,   113],\n",
      "        [  567,  1284, 26869,  5115,  1769,  1017,   180,     0,  1081],\n",
      "        [   23,   249,    18,   186,     0,     0,     0, 29301,     0],\n",
      "        [  761,    73,    95,     0,     0,     0,     0,     0, 49559]])\n"
     ]
    },
    {
     "data": {
      "application/vnd.jupyter.widget-view+json": {
       "model_id": "2104a79666e44bf88ae34704b7f6a68b",
       "version_major": 2,
       "version_minor": 0
      },
      "text/plain": [
       "Validation: |          | 0/? [00:00<?, ?it/s]"
      ]
     },
     "metadata": {},
     "output_type": "display_data"
    },
    {
     "name": "stdout",
     "output_type": "stream",
     "text": [
      "Epoch end: Validation, epoch number: 28\n",
      "ValidationEpoch/CM\n",
      " tensor([[19362,  1230, 10811,  7122,   504,   264,     0,     0,  1697],\n",
      "        [  110, 56732,    43,     2,     0,    24,     6,    29,     0],\n",
      "        [  643,  1913, 47211,  2126,   120,   314,   134,     0,   755],\n",
      "        [ 1698,  1310, 13191, 21245,  4540,   588,    87,     0,  2130],\n",
      "        [  425,  1423,  1429,   242, 37908,   541,     0,     0,  1824],\n",
      "        [  355,  2129,  4619,     0,     5, 37562,     0,     0,   113],\n",
      "        [  611,  1284, 27712,  5474,  1844,  1057,   219,     0,  1081],\n",
      "        [   23,   249,    18,   186,     0,     0,     0, 30401,     0],\n",
      "        [  761,    73,    95,     0,     0,     0,     0,     0, 51424]])\n",
      "Epoch end: Train, epoch number: 27\n",
      "TrainEpoch/CM\n",
      " tensor([[19362,  1230, 10811,  7122,   504,   264,     0,     0,  1697],\n",
      "        [  110, 56732,    43,     2,     0,    24,     6,    29,     0],\n",
      "        [  643,  1913, 47211,  2126,   120,   314,   134,     0,   755],\n",
      "        [ 1698,  1310, 13191, 21245,  4540,   588,    87,     0,  2130],\n",
      "        [  425,  1423,  1429,   242, 37908,   541,     0,     0,  1824],\n",
      "        [  355,  2129,  4619,     0,     5, 37562,     0,     0,   113],\n",
      "        [  611,  1284, 27712,  5474,  1844,  1057,   219,     0,  1081],\n",
      "        [   23,   249,    18,   186,     0,     0,     0, 30401,     0],\n",
      "        [  761,    73,    95,     0,     0,     0,     0,     0, 51424]])\n"
     ]
    },
    {
     "data": {
      "application/vnd.jupyter.widget-view+json": {
       "model_id": "a990f7d42246477abacc6536858d42bd",
       "version_major": 2,
       "version_minor": 0
      },
      "text/plain": [
       "Validation: |          | 0/? [00:00<?, ?it/s]"
      ]
     },
     "metadata": {},
     "output_type": "display_data"
    },
    {
     "name": "stdout",
     "output_type": "stream",
     "text": [
      "Epoch end: Validation, epoch number: 29\n",
      "ValidationEpoch/CM\n",
      " tensor([[20517,  1230, 10854,  7364,   509,   274,     0,     0,  1702],\n",
      "        [  110, 58757,    43,     2,     0,    29,     6,    29,     0],\n",
      "        [  667,  1913, 48909,  2270,   120,   326,   152,     0,   755],\n",
      "        [ 1806,  1310, 13339, 22427,  4672,   603,    97,     0,  2130],\n",
      "        [  430,  1423,  1466,   262, 39406,   541,     0,     0,  1824],\n",
      "        [  355,  2129,  4715,     0,     5, 39061,     0,     0,   113],\n",
      "        [  641,  1284, 28590,  5837,  1894,  1097,   258,     0,  1081],\n",
      "        [   23,   249,    18,   186,     0,     0,     0, 31501,     0],\n",
      "        [  761,    73,    95,     0,     0,     0,     0,     0, 53289]])\n",
      "Epoch end: Train, epoch number: 28\n",
      "TrainEpoch/CM\n",
      " tensor([[20517,  1230, 10854,  7364,   509,   274,     0,     0,  1702],\n",
      "        [  110, 58757,    43,     2,     0,    29,     6,    29,     0],\n",
      "        [  667,  1913, 48909,  2270,   120,   326,   152,     0,   755],\n",
      "        [ 1806,  1310, 13339, 22427,  4672,   603,    97,     0,  2130],\n",
      "        [  430,  1423,  1466,   262, 39406,   541,     0,     0,  1824],\n",
      "        [  355,  2129,  4715,     0,     5, 39061,     0,     0,   113],\n",
      "        [  641,  1284, 28590,  5837,  1894,  1097,   258,     0,  1081],\n",
      "        [   23,   249,    18,   186,     0,     0,     0, 31501,     0],\n",
      "        [  761,    73,    95,     0,     0,     0,     0,     0, 53289]])\n"
     ]
    },
    {
     "data": {
      "application/vnd.jupyter.widget-view+json": {
       "model_id": "ab46b352d3b34a558ca9a7648efd152b",
       "version_major": 2,
       "version_minor": 0
      },
      "text/plain": [
       "Validation: |          | 0/? [00:00<?, ?it/s]"
      ]
     },
     "metadata": {},
     "output_type": "display_data"
    },
    {
     "name": "stdout",
     "output_type": "stream",
     "text": [
      "Epoch end: Validation, epoch number: 30\n",
      "ValidationEpoch/CM\n",
      " tensor([[21680,  1230, 10875,  7620,   514,   284,     0,     0,  1707],\n",
      "        [  110, 60782,    43,     2,     0,    34,     6,    29,     0],\n",
      "        [  695,  1913, 50572,  2443,   120,   338,   172,     0,   755],\n",
      "        [ 1920,  1310, 13418, 23651,  4815,   618,   117,     0,  2130],\n",
      "        [  435,  1423,  1481,   286, 40922,   541,     0,     0,  1824],\n",
      "        [  355,  2129,  4780,     0,     5, 40591,     0,     0,   113],\n",
      "        [  673,  1284, 29395,  6249,  1958,  1137,   305,     0,  1081],\n",
      "        [   23,   249,    18,   186,     0,     0,     0, 32601,     0],\n",
      "        [  761,    73,    95,     0,     0,     0,     0,     0, 55154]])\n"
     ]
    },
    {
     "name": "stderr",
     "output_type": "stream",
     "text": [
      "Metric Validation/Accuracy improved by 0.001 >= min_delta = 0.0. New best score: 0.826\n"
     ]
    },
    {
     "name": "stdout",
     "output_type": "stream",
     "text": [
      "Epoch end: Train, epoch number: 29\n",
      "TrainEpoch/CM\n",
      " tensor([[21680,  1230, 10875,  7620,   514,   284,     0,     0,  1707],\n",
      "        [  110, 60782,    43,     2,     0,    34,     6,    29,     0],\n",
      "        [  695,  1913, 50572,  2443,   120,   338,   172,     0,   755],\n",
      "        [ 1920,  1310, 13418, 23651,  4815,   618,   117,     0,  2130],\n",
      "        [  435,  1423,  1481,   286, 40922,   541,     0,     0,  1824],\n",
      "        [  355,  2129,  4780,     0,     5, 40591,     0,     0,   113],\n",
      "        [  673,  1284, 29395,  6249,  1958,  1137,   305,     0,  1081],\n",
      "        [   23,   249,    18,   186,     0,     0,     0, 32601,     0],\n",
      "        [  761,    73,    95,     0,     0,     0,     0,     0, 55154]])\n"
     ]
    },
    {
     "data": {
      "application/vnd.jupyter.widget-view+json": {
       "model_id": "10ad816483614dbe8939f508241ed97a",
       "version_major": 2,
       "version_minor": 0
      },
      "text/plain": [
       "Validation: |          | 0/? [00:00<?, ?it/s]"
      ]
     },
     "metadata": {},
     "output_type": "display_data"
    },
    {
     "name": "stdout",
     "output_type": "stream",
     "text": [
      "Epoch end: Validation, epoch number: 31\n",
      "ValidationEpoch/CM\n",
      " tensor([[22881,  1230, 10900,  7834,   519,   294,     0,     0,  1712],\n",
      "        [  110, 62807,    43,     2,     0,    39,     6,    29,     0],\n",
      "        [  737,  1913, 52240,  2599,   120,   350,   190,     0,   755],\n",
      "        [ 2066,  1310, 13507, 24826,  4960,   633,   142,     0,  2130],\n",
      "        [  440,  1423,  1497,   305, 42442,   541,     0,     0,  1824],\n",
      "        [  355,  2129,  4851,     0,     5, 42115,     0,     0,   113],\n",
      "        [  716,  1284, 30215,  6615,  2034,  1177,   360,     0,  1081],\n",
      "        [   23,   249,    18,   186,     0,     0,     0, 33701,     0],\n",
      "        [  761,    73,    95,     0,     0,     0,     0,     0, 57019]])\n",
      "Epoch end: Train, epoch number: 30\n",
      "TrainEpoch/CM\n",
      " tensor([[22881,  1230, 10900,  7834,   519,   294,     0,     0,  1712],\n",
      "        [  110, 62807,    43,     2,     0,    39,     6,    29,     0],\n",
      "        [  737,  1913, 52240,  2599,   120,   350,   190,     0,   755],\n",
      "        [ 2066,  1310, 13507, 24826,  4960,   633,   142,     0,  2130],\n",
      "        [  440,  1423,  1497,   305, 42442,   541,     0,     0,  1824],\n",
      "        [  355,  2129,  4851,     0,     5, 42115,     0,     0,   113],\n",
      "        [  716,  1284, 30215,  6615,  2034,  1177,   360,     0,  1081],\n",
      "        [   23,   249,    18,   186,     0,     0,     0, 33701,     0],\n",
      "        [  761,    73,    95,     0,     0,     0,     0,     0, 57019]])\n"
     ]
    },
    {
     "data": {
      "application/vnd.jupyter.widget-view+json": {
       "model_id": "cad2ce6bb32c4a559e3b4223d183fcdb",
       "version_major": 2,
       "version_minor": 0
      },
      "text/plain": [
       "Validation: |          | 0/? [00:00<?, ?it/s]"
      ]
     },
     "metadata": {},
     "output_type": "display_data"
    },
    {
     "name": "stdout",
     "output_type": "stream",
     "text": [
      "Epoch end: Validation, epoch number: 32\n",
      "ValidationEpoch/CM\n",
      " tensor([[24129,  1230, 10919,  8007,   524,   304,     0,     0,  1717],\n",
      "        [  110, 64832,    43,     2,     0,    44,     6,    29,     0],\n",
      "        [  780,  1913, 53908,  2755,   120,   362,   207,     0,   755],\n",
      "        [ 2239,  1310, 13591, 25979,  5101,   648,   171,     0,  2130],\n",
      "        [  445,  1423,  1512,   324, 43963,   541,     0,     0,  1824],\n",
      "        [  355,  2129,  4921,     0,     5, 43640,     0,     0,   113],\n",
      "        [  767,  1284, 31024,  6980,  2106,  1217,   423,     0,  1081],\n",
      "        [   23,   249,    18,   186,     0,     0,     0, 34801,     0],\n",
      "        [  761,    73,    95,     0,     0,     0,     0,     0, 58884]])\n"
     ]
    },
    {
     "name": "stderr",
     "output_type": "stream",
     "text": [
      "Metric Validation/Accuracy improved by 0.001 >= min_delta = 0.0. New best score: 0.827\n"
     ]
    },
    {
     "name": "stdout",
     "output_type": "stream",
     "text": [
      "Epoch end: Train, epoch number: 31\n",
      "TrainEpoch/CM\n",
      " tensor([[24129,  1230, 10919,  8007,   524,   304,     0,     0,  1717],\n",
      "        [  110, 64832,    43,     2,     0,    44,     6,    29,     0],\n",
      "        [  780,  1913, 53908,  2755,   120,   362,   207,     0,   755],\n",
      "        [ 2239,  1310, 13591, 25979,  5101,   648,   171,     0,  2130],\n",
      "        [  445,  1423,  1512,   324, 43963,   541,     0,     0,  1824],\n",
      "        [  355,  2129,  4921,     0,     5, 43640,     0,     0,   113],\n",
      "        [  767,  1284, 31024,  6980,  2106,  1217,   423,     0,  1081],\n",
      "        [   23,   249,    18,   186,     0,     0,     0, 34801,     0],\n",
      "        [  761,    73,    95,     0,     0,     0,     0,     0, 58884]])\n"
     ]
    },
    {
     "data": {
      "application/vnd.jupyter.widget-view+json": {
       "model_id": "5cbac23c7bd74989b15c0cde3d375e91",
       "version_major": 2,
       "version_minor": 0
      },
      "text/plain": [
       "Validation: |          | 0/? [00:00<?, ?it/s]"
      ]
     },
     "metadata": {},
     "output_type": "display_data"
    },
    {
     "name": "stdout",
     "output_type": "stream",
     "text": [
      "Epoch end: Validation, epoch number: 33\n",
      "ValidationEpoch/CM\n",
      " tensor([[25347,  1230, 10943,  8205,   529,   314,     0,     0,  1722],\n",
      "        [  110, 66857,    43,     2,     0,    49,     6,    29,     0],\n",
      "        [  822,  1913, 55576,  2911,   120,   374,   225,     0,   755],\n",
      "        [ 2377,  1310, 13684, 27156,  5246,   663,   198,     0,  2130],\n",
      "        [  450,  1423,  1527,   342, 45485,   541,     0,     0,  1824],\n",
      "        [  355,  2129,  4985,     0,     5, 45171,     0,     0,   113],\n",
      "        [  813,  1284, 31840,  7350,  2174,  1257,   483,     0,  1081],\n",
      "        [   23,   249,    18,   186,     0,     0,     0, 35901,     0],\n",
      "        [  761,    73,    95,     0,     0,     0,     0,     0, 60749]])\n"
     ]
    },
    {
     "name": "stderr",
     "output_type": "stream",
     "text": [
      "Metric Validation/Accuracy improved by 0.001 >= min_delta = 0.0. New best score: 0.828\n"
     ]
    },
    {
     "name": "stdout",
     "output_type": "stream",
     "text": [
      "Epoch end: Train, epoch number: 32\n",
      "TrainEpoch/CM\n",
      " tensor([[25347,  1230, 10943,  8205,   529,   314,     0,     0,  1722],\n",
      "        [  110, 66857,    43,     2,     0,    49,     6,    29,     0],\n",
      "        [  822,  1913, 55576,  2911,   120,   374,   225,     0,   755],\n",
      "        [ 2377,  1310, 13684, 27156,  5246,   663,   198,     0,  2130],\n",
      "        [  450,  1423,  1527,   342, 45485,   541,     0,     0,  1824],\n",
      "        [  355,  2129,  4985,     0,     5, 45171,     0,     0,   113],\n",
      "        [  813,  1284, 31840,  7350,  2174,  1257,   483,     0,  1081],\n",
      "        [   23,   249,    18,   186,     0,     0,     0, 35901,     0],\n",
      "        [  761,    73,    95,     0,     0,     0,     0,     0, 60749]])\n"
     ]
    },
    {
     "data": {
      "application/vnd.jupyter.widget-view+json": {
       "model_id": "fcc49a4f49a34d568139cbd9740875f0",
       "version_major": 2,
       "version_minor": 0
      },
      "text/plain": [
       "Validation: |          | 0/? [00:00<?, ?it/s]"
      ]
     },
     "metadata": {},
     "output_type": "display_data"
    },
    {
     "name": "stdout",
     "output_type": "stream",
     "text": [
      "Epoch end: Validation, epoch number: 34\n",
      "ValidationEpoch/CM\n",
      " tensor([[26538,  1230, 10968,  8429,   534,   324,     0,     0,  1727],\n",
      "        [  110, 68882,    43,     2,     0,    54,     6,    29,     0],\n",
      "        [  849,  1913, 57248,  3067,   120,   386,   254,     0,   755],\n",
      "        [ 2494,  1310, 13763, 28369,  5379,   678,   236,     0,  2130],\n",
      "        [  455,  1423,  1545,   365, 46999,   541,     0,     0,  1824],\n",
      "        [  355,  2129,  5047,     0,     5, 46704,     0,     0,   113],\n",
      "        [  848,  1284, 32654,  7742,  2219,  1297,   557,     0,  1081],\n",
      "        [   23,   249,    18,   186,     0,     0,     0, 37001,     0],\n",
      "        [  761,    73,    95,     0,     0,     0,     0,     0, 62614]])\n",
      "Epoch end: Train, epoch number: 33\n",
      "TrainEpoch/CM\n",
      " tensor([[26538,  1230, 10968,  8429,   534,   324,     0,     0,  1727],\n",
      "        [  110, 68882,    43,     2,     0,    54,     6,    29,     0],\n",
      "        [  849,  1913, 57248,  3067,   120,   386,   254,     0,   755],\n",
      "        [ 2494,  1310, 13763, 28369,  5379,   678,   236,     0,  2130],\n",
      "        [  455,  1423,  1545,   365, 46999,   541,     0,     0,  1824],\n",
      "        [  355,  2129,  5047,     0,     5, 46704,     0,     0,   113],\n",
      "        [  848,  1284, 32654,  7742,  2219,  1297,   557,     0,  1081],\n",
      "        [   23,   249,    18,   186,     0,     0,     0, 37001,     0],\n",
      "        [  761,    73,    95,     0,     0,     0,     0,     0, 62614]])\n"
     ]
    },
    {
     "name": "stderr",
     "output_type": "stream",
     "text": [
      "Metric Validation/Accuracy improved by 0.002 >= min_delta = 0.0. New best score: 0.831\n"
     ]
    },
    {
     "data": {
      "application/vnd.jupyter.widget-view+json": {
       "model_id": "205985e8198e422f9d8d45a6846daf08",
       "version_major": 2,
       "version_minor": 0
      },
      "text/plain": [
       "Validation: |          | 0/? [00:00<?, ?it/s]"
      ]
     },
     "metadata": {},
     "output_type": "display_data"
    },
    {
     "name": "stdout",
     "output_type": "stream",
     "text": [
      "Epoch end: Validation, epoch number: 35\n",
      "ValidationEpoch/CM\n",
      " tensor([[27807,  1230, 10984,  8584,   539,   334,     0,     0,  1732],\n",
      "        [  110, 70911,    43,     2,     0,    55,     6,    29,     0],\n",
      "        [  880,  1913, 58916,  3223,   120,   398,   283,     0,   755],\n",
      "        [ 2666,  1310, 13844, 29516,  5509,   693,   286,     0,  2130],\n",
      "        [  460,  1423,  1561,   381, 48522,   541,     0,     0,  1824],\n",
      "        [  355,  2129,  5105,     0,     5, 48241,     0,     0,   113],\n",
      "        [  899,  1284, 33430,  8109,  2274,  1337,   668,     0,  1081],\n",
      "        [   23,   249,    18,   186,     0,     0,     0, 38101,     0],\n",
      "        [  761,    73,    95,     0,     0,     0,     0,     0, 64479]])\n"
     ]
    },
    {
     "name": "stderr",
     "output_type": "stream",
     "text": [
      "Metric Validation/Accuracy improved by 0.001 >= min_delta = 0.0. New best score: 0.832\n"
     ]
    },
    {
     "name": "stdout",
     "output_type": "stream",
     "text": [
      "Epoch end: Train, epoch number: 34\n",
      "TrainEpoch/CM\n",
      " tensor([[27807,  1230, 10984,  8584,   539,   334,     0,     0,  1732],\n",
      "        [  110, 70911,    43,     2,     0,    55,     6,    29,     0],\n",
      "        [  880,  1913, 58916,  3223,   120,   398,   283,     0,   755],\n",
      "        [ 2666,  1310, 13844, 29516,  5509,   693,   286,     0,  2130],\n",
      "        [  460,  1423,  1561,   381, 48522,   541,     0,     0,  1824],\n",
      "        [  355,  2129,  5105,     0,     5, 48241,     0,     0,   113],\n",
      "        [  899,  1284, 33430,  8109,  2274,  1337,   668,     0,  1081],\n",
      "        [   23,   249,    18,   186,     0,     0,     0, 38101,     0],\n",
      "        [  761,    73,    95,     0,     0,     0,     0,     0, 64479]])\n"
     ]
    },
    {
     "data": {
      "application/vnd.jupyter.widget-view+json": {
       "model_id": "1154f020c8e24020bceef09d7471acd6",
       "version_major": 2,
       "version_minor": 0
      },
      "text/plain": [
       "Validation: |          | 0/? [00:00<?, ?it/s]"
      ]
     },
     "metadata": {},
     "output_type": "display_data"
    },
    {
     "name": "stdout",
     "output_type": "stream",
     "text": [
      "Epoch end: Validation, epoch number: 36\n",
      "ValidationEpoch/CM\n",
      " tensor([[29008,  1230, 11000,  8807,   544,   349,     0,     0,  1732],\n",
      "        [  110, 72937,    43,     2,     0,    59,     6,    29,     0],\n",
      "        [  911,  1913, 60577,  3388,   120,   410,   310,     0,   755],\n",
      "        [ 2787,  1310, 13903, 30755,  5635,   708,   321,     0,  2130],\n",
      "        [  465,  1423,  1576,   406, 50037,   541,     0,     0,  1824],\n",
      "        [  355,  2129,  5150,     0,     5, 49791,     0,     0,   113],\n",
      "        [  938,  1284, 34194,  8540,  2318,  1377,   750,     0,  1081],\n",
      "        [   23,   249,    18,   186,     0,     0,     0, 39201,     0],\n",
      "        [  761,    73,    95,     0,     0,     0,     0,     0, 66344]])\n"
     ]
    },
    {
     "name": "stderr",
     "output_type": "stream",
     "text": [
      "Metric Validation/Accuracy improved by 0.002 >= min_delta = 0.0. New best score: 0.834\n"
     ]
    },
    {
     "name": "stdout",
     "output_type": "stream",
     "text": [
      "Epoch end: Train, epoch number: 35\n",
      "TrainEpoch/CM\n",
      " tensor([[29008,  1230, 11000,  8807,   544,   349,     0,     0,  1732],\n",
      "        [  110, 72937,    43,     2,     0,    59,     6,    29,     0],\n",
      "        [  911,  1913, 60577,  3388,   120,   410,   310,     0,   755],\n",
      "        [ 2787,  1310, 13903, 30755,  5635,   708,   321,     0,  2130],\n",
      "        [  465,  1423,  1576,   406, 50037,   541,     0,     0,  1824],\n",
      "        [  355,  2129,  5150,     0,     5, 49791,     0,     0,   113],\n",
      "        [  938,  1284, 34194,  8540,  2318,  1377,   750,     0,  1081],\n",
      "        [   23,   249,    18,   186,     0,     0,     0, 39201,     0],\n",
      "        [  761,    73,    95,     0,     0,     0,     0,     0, 66344]])\n"
     ]
    },
    {
     "data": {
      "application/vnd.jupyter.widget-view+json": {
       "model_id": "ccf48794bbcc4550b22c9ad30381cb4f",
       "version_major": 2,
       "version_minor": 0
      },
      "text/plain": [
       "Validation: |          | 0/? [00:00<?, ?it/s]"
      ]
     },
     "metadata": {},
     "output_type": "display_data"
    },
    {
     "name": "stdout",
     "output_type": "stream",
     "text": [
      "Epoch end: Validation, epoch number: 37\n",
      "ValidationEpoch/CM\n",
      " tensor([[30266,  1230, 11026,  8963,   549,   364,     0,     0,  1732],\n",
      "        [  110, 74962,    43,     2,     0,    64,     6,    29,     0],\n",
      "        [  935,  1913, 62238,  3544,   120,   410,   365,     0,   755],\n",
      "        [ 2929,  1310, 13986, 31911,  5759,   723,   396,     0,  2130],\n",
      "        [  470,  1423,  1595,   429, 51550,   541,     0,     0,  1824],\n",
      "        [  355,  2129,  5206,     0,     5, 51330,     0,     0,   113],\n",
      "        [  970,  1284, 34973,  8899,  2357,  1417,   901,     0,  1081],\n",
      "        [   23,   249,    18,   186,     0,     0,     0, 40301,     0],\n",
      "        [  761,    73,    95,     0,     0,     0,     0,     0, 68209]])\n"
     ]
    },
    {
     "name": "stderr",
     "output_type": "stream",
     "text": [
      "Metric Validation/Accuracy improved by 0.002 >= min_delta = 0.0. New best score: 0.835\n"
     ]
    },
    {
     "name": "stdout",
     "output_type": "stream",
     "text": [
      "Epoch end: Train, epoch number: 36\n",
      "TrainEpoch/CM\n",
      " tensor([[30266,  1230, 11026,  8963,   549,   364,     0,     0,  1732],\n",
      "        [  110, 74962,    43,     2,     0,    64,     6,    29,     0],\n",
      "        [  935,  1913, 62238,  3544,   120,   410,   365,     0,   755],\n",
      "        [ 2929,  1310, 13986, 31911,  5759,   723,   396,     0,  2130],\n",
      "        [  470,  1423,  1595,   429, 51550,   541,     0,     0,  1824],\n",
      "        [  355,  2129,  5206,     0,     5, 51330,     0,     0,   113],\n",
      "        [  970,  1284, 34973,  8899,  2357,  1417,   901,     0,  1081],\n",
      "        [   23,   249,    18,   186,     0,     0,     0, 40301,     0],\n",
      "        [  761,    73,    95,     0,     0,     0,     0,     0, 68209]])\n"
     ]
    },
    {
     "data": {
      "application/vnd.jupyter.widget-view+json": {
       "model_id": "3165ca6e39d34b4abb7a3763c4e67585",
       "version_major": 2,
       "version_minor": 0
      },
      "text/plain": [
       "Validation: |          | 0/? [00:00<?, ?it/s]"
      ]
     },
     "metadata": {},
     "output_type": "display_data"
    },
    {
     "name": "stdout",
     "output_type": "stream",
     "text": [
      "Epoch end: Validation, epoch number: 38\n",
      "ValidationEpoch/CM\n",
      " tensor([[31501,  1230, 11046,  9148,   554,   379,     0,     0,  1732],\n",
      "        [  110, 76988,    43,     2,     0,    68,     6,    29,     0],\n",
      "        [  965,  1913, 63901,  3705,   120,   410,   407,     0,   755],\n",
      "        [ 3049,  1310, 14051, 33131,  5890,   738,   440,     0,  2130],\n",
      "        [  475,  1423,  1611,   454, 53064,   541,     0,     0,  1824],\n",
      "        [  355,  2129,  5258,     0,     5, 52873,     0,     0,   113],\n",
      "        [ 1012,  1284, 35734,  9301,  2402,  1457,  1011,     0,  1081],\n",
      "        [   23,   249,    18,   186,     0,     0,     0, 41401,     0],\n",
      "        [  761,    73,    95,     0,     0,     0,     0,     0, 70074]])\n"
     ]
    },
    {
     "name": "stderr",
     "output_type": "stream",
     "text": [
      "Metric Validation/Accuracy improved by 0.004 >= min_delta = 0.0. New best score: 0.839\n"
     ]
    },
    {
     "name": "stdout",
     "output_type": "stream",
     "text": [
      "Epoch end: Train, epoch number: 37\n",
      "TrainEpoch/CM\n",
      " tensor([[31501,  1230, 11046,  9148,   554,   379,     0,     0,  1732],\n",
      "        [  110, 76988,    43,     2,     0,    68,     6,    29,     0],\n",
      "        [  965,  1913, 63901,  3705,   120,   410,   407,     0,   755],\n",
      "        [ 3049,  1310, 14051, 33131,  5890,   738,   440,     0,  2130],\n",
      "        [  475,  1423,  1611,   454, 53064,   541,     0,     0,  1824],\n",
      "        [  355,  2129,  5258,     0,     5, 52873,     0,     0,   113],\n",
      "        [ 1012,  1284, 35734,  9301,  2402,  1457,  1011,     0,  1081],\n",
      "        [   23,   249,    18,   186,     0,     0,     0, 41401,     0],\n",
      "        [  761,    73,    95,     0,     0,     0,     0,     0, 70074]])\n"
     ]
    },
    {
     "data": {
      "application/vnd.jupyter.widget-view+json": {
       "model_id": "0f0a3130194b436696ca0d144993db91",
       "version_major": 2,
       "version_minor": 0
      },
      "text/plain": [
       "Validation: |          | 0/? [00:00<?, ?it/s]"
      ]
     },
     "metadata": {},
     "output_type": "display_data"
    },
    {
     "name": "stdout",
     "output_type": "stream",
     "text": [
      "Epoch end: Validation, epoch number: 39\n",
      "ValidationEpoch/CM\n",
      " tensor([[32758,  1230, 11070,  9307,   559,   394,     0,     0,  1732],\n",
      "        [  110, 79014,    43,     2,     0,    72,     6,    29,     0],\n",
      "        [  990,  1913, 65566,  3861,   120,   410,   457,     0,   755],\n",
      "        [ 3172,  1310, 14125, 34320,  6013,   753,   511,     0,  2130],\n",
      "        [  480,  1423,  1632,   477, 54575,   541,     0,     0,  1824],\n",
      "        [  355,  2129,  5318,     0,     5, 54408,     0,     0,   113],\n",
      "        [ 1055,  1284, 36512,  9674,  2443,  1497,  1136,     0,  1081],\n",
      "        [   23,   249,    18,   186,     0,     0,     0, 42501,     0],\n",
      "        [  761,    73,    95,     0,     0,     0,     0,     0, 71939]])\n"
     ]
    },
    {
     "name": "stderr",
     "output_type": "stream",
     "text": [
      "Metric Validation/Accuracy improved by 0.004 >= min_delta = 0.0. New best score: 0.843\n"
     ]
    },
    {
     "name": "stdout",
     "output_type": "stream",
     "text": [
      "Epoch end: Train, epoch number: 38\n",
      "TrainEpoch/CM\n",
      " tensor([[32758,  1230, 11070,  9307,   559,   394,     0,     0,  1732],\n",
      "        [  110, 79014,    43,     2,     0,    72,     6,    29,     0],\n",
      "        [  990,  1913, 65566,  3861,   120,   410,   457,     0,   755],\n",
      "        [ 3172,  1310, 14125, 34320,  6013,   753,   511,     0,  2130],\n",
      "        [  480,  1423,  1632,   477, 54575,   541,     0,     0,  1824],\n",
      "        [  355,  2129,  5318,     0,     5, 54408,     0,     0,   113],\n",
      "        [ 1055,  1284, 36512,  9674,  2443,  1497,  1136,     0,  1081],\n",
      "        [   23,   249,    18,   186,     0,     0,     0, 42501,     0],\n",
      "        [  761,    73,    95,     0,     0,     0,     0,     0, 71939]])\n"
     ]
    },
    {
     "data": {
      "application/vnd.jupyter.widget-view+json": {
       "model_id": "df1215fa8cf9438896ab8a9909a580f7",
       "version_major": 2,
       "version_minor": 0
      },
      "text/plain": [
       "Validation: |          | 0/? [00:00<?, ?it/s]"
      ]
     },
     "metadata": {},
     "output_type": "display_data"
    },
    {
     "name": "stdout",
     "output_type": "stream",
     "text": [
      "Epoch end: Validation, epoch number: 40\n",
      "ValidationEpoch/CM\n",
      " tensor([[33997,  1230, 11085,  9493,   564,   409,     0,     0,  1732],\n",
      "        [  110, 81042,    43,     2,     0,    74,     6,    29,     0],\n",
      "        [ 1014,  1913, 67220,  4025,   120,   410,   511,     0,   755],\n",
      "        [ 3286,  1310, 14175, 35560,  6120,   768,   580,     0,  2130],\n",
      "        [  485,  1423,  1647,   502, 56090,   541,     0,     0,  1824],\n",
      "        [  355,  2129,  5366,     0,     5, 55955,     0,     0,   113],\n",
      "        [ 1095,  1284, 37258, 10073,  2483,  1535,  1273,     0,  1081],\n",
      "        [   23,   249,    18,   186,     0,     0,     0, 43601,     0],\n",
      "        [  761,    73,    95,     0,     0,     0,     0,     0, 73804]])\n",
      "Epoch end: Train, epoch number: 39\n",
      "TrainEpoch/CM\n",
      " tensor([[33997,  1230, 11085,  9493,   564,   409,     0,     0,  1732],\n",
      "        [  110, 81042,    43,     2,     0,    74,     6,    29,     0],\n",
      "        [ 1014,  1913, 67220,  4025,   120,   410,   511,     0,   755],\n",
      "        [ 3286,  1310, 14175, 35560,  6120,   768,   580,     0,  2130],\n",
      "        [  485,  1423,  1647,   502, 56090,   541,     0,     0,  1824],\n",
      "        [  355,  2129,  5366,     0,     5, 55955,     0,     0,   113],\n",
      "        [ 1095,  1284, 37258, 10073,  2483,  1535,  1273,     0,  1081],\n",
      "        [   23,   249,    18,   186,     0,     0,     0, 43601,     0],\n",
      "        [  761,    73,    95,     0,     0,     0,     0,     0, 73804]])\n"
     ]
    },
    {
     "data": {
      "application/vnd.jupyter.widget-view+json": {
       "model_id": "61c6d9dd12c343e0a20ece6637ff00ee",
       "version_major": 2,
       "version_minor": 0
      },
      "text/plain": [
       "Validation: |          | 0/? [00:00<?, ?it/s]"
      ]
     },
     "metadata": {},
     "output_type": "display_data"
    },
    {
     "name": "stdout",
     "output_type": "stream",
     "text": [
      "Epoch end: Validation, epoch number: 41\n",
      "ValidationEpoch/CM\n",
      " tensor([[35270,  1230, 11100,  9645,   569,   424,     0,     0,  1732],\n",
      "        [  110, 83072,    43,     2,     0,    74,     6,    29,     0],\n",
      "        [ 1040,  1913, 68880,  4181,   120,   410,   565,     0,   755],\n",
      "        [ 3408,  1310, 14230, 36778,  6237,   783,   648,     0,  2130],\n",
      "        [  490,  1423,  1662,   527, 57605,   541,     0,     0,  1824],\n",
      "        [  355,  2129,  5414,     0,     5, 57502,     0,     0,   113],\n",
      "        [ 1135,  1284, 38013, 10469,  2528,  1570,  1402,     0,  1081],\n",
      "        [   23,   249,    18,   186,     0,     0,     0, 44701,     0],\n",
      "        [  761,    73,    95,     0,     0,     0,     0,     0, 75669]])\n",
      "Epoch end: Train, epoch number: 40\n",
      "TrainEpoch/CM\n",
      " tensor([[35270,  1230, 11100,  9645,   569,   424,     0,     0,  1732],\n",
      "        [  110, 83072,    43,     2,     0,    74,     6,    29,     0],\n",
      "        [ 1040,  1913, 68880,  4181,   120,   410,   565,     0,   755],\n",
      "        [ 3408,  1310, 14230, 36778,  6237,   783,   648,     0,  2130],\n",
      "        [  490,  1423,  1662,   527, 57605,   541,     0,     0,  1824],\n",
      "        [  355,  2129,  5414,     0,     5, 57502,     0,     0,   113],\n",
      "        [ 1135,  1284, 38013, 10469,  2528,  1570,  1402,     0,  1081],\n",
      "        [   23,   249,    18,   186,     0,     0,     0, 44701,     0],\n",
      "        [  761,    73,    95,     0,     0,     0,     0,     0, 75669]])\n"
     ]
    },
    {
     "data": {
      "application/vnd.jupyter.widget-view+json": {
       "model_id": "36ac1d4f7a4b4bca80cdd334006b7365",
       "version_major": 2,
       "version_minor": 0
      },
      "text/plain": [
       "Validation: |          | 0/? [00:00<?, ?it/s]"
      ]
     },
     "metadata": {},
     "output_type": "display_data"
    },
    {
     "name": "stdout",
     "output_type": "stream",
     "text": [
      "Epoch end: Validation, epoch number: 42\n",
      "ValidationEpoch/CM\n",
      " tensor([[36572,  1230, 11115,  9768,   574,   439,     0,     0,  1732],\n",
      "        [  110, 85102,    43,     2,     0,    74,     6,    29,     0],\n",
      "        [ 1064,  1913, 70536,  4337,   120,   410,   625,     0,   755],\n",
      "        [ 3544,  1310, 14284, 37984,  6350,   798,   719,     0,  2130],\n",
      "        [  495,  1423,  1677,   552, 59120,   541,     0,     0,  1824],\n",
      "        [  355,  2129,  5456,     0,     5, 59055,     0,     0,   113],\n",
      "        [ 1182,  1284, 38751, 10858,  2574,  1599,  1553,     0,  1081],\n",
      "        [   23,   249,    18,   186,     0,     0,     0, 45801,     0],\n",
      "        [  761,    73,    95,     0,     0,     0,     0,     0, 77534]])\n",
      "Epoch end: Train, epoch number: 41\n",
      "TrainEpoch/CM\n",
      " tensor([[36572,  1230, 11115,  9768,   574,   439,     0,     0,  1732],\n",
      "        [  110, 85102,    43,     2,     0,    74,     6,    29,     0],\n",
      "        [ 1064,  1913, 70536,  4337,   120,   410,   625,     0,   755],\n",
      "        [ 3544,  1310, 14284, 37984,  6350,   798,   719,     0,  2130],\n",
      "        [  495,  1423,  1677,   552, 59120,   541,     0,     0,  1824],\n",
      "        [  355,  2129,  5456,     0,     5, 59055,     0,     0,   113],\n",
      "        [ 1182,  1284, 38751, 10858,  2574,  1599,  1553,     0,  1081],\n",
      "        [   23,   249,    18,   186,     0,     0,     0, 45801,     0],\n",
      "        [  761,    73,    95,     0,     0,     0,     0,     0, 77534]])\n"
     ]
    },
    {
     "name": "stderr",
     "output_type": "stream",
     "text": [
      "Metric Validation/Accuracy improved by 0.002 >= min_delta = 0.0. New best score: 0.845\n"
     ]
    },
    {
     "data": {
      "application/vnd.jupyter.widget-view+json": {
       "model_id": "5d90f60311af4d2e8fe48680876eb2b2",
       "version_major": 2,
       "version_minor": 0
      },
      "text/plain": [
       "Validation: |          | 0/? [00:00<?, ?it/s]"
      ]
     },
     "metadata": {},
     "output_type": "display_data"
    },
    {
     "name": "stdout",
     "output_type": "stream",
     "text": [
      "Epoch end: Validation, epoch number: 43\n",
      "ValidationEpoch/CM\n",
      " tensor([[37854,  1230, 11130,  9911,   579,   454,     0,     0,  1732],\n",
      "        [  110, 87130,    43,     2,     0,    76,     6,    29,     0],\n",
      "        [ 1088,  1913, 72187,  4498,   120,   410,   685,     0,   755],\n",
      "        [ 3668,  1310, 14329, 39217,  6450,   813,   797,     0,  2130],\n",
      "        [  500,  1423,  1693,   577, 60634,   541,     0,     0,  1824],\n",
      "        [  355,  2129,  5498,     0,     5, 60608,     0,     0,   113],\n",
      "        [ 1223,  1284, 39490, 11256,  2611,  1624,  1713,     0,  1081],\n",
      "        [   23,   249,    18,   186,     0,     0,     0, 46901,     0],\n",
      "        [  761,    73,    95,     0,     0,     0,     0,     0, 79399]])\n",
      "Epoch end: Train, epoch number: 42\n",
      "TrainEpoch/CM\n",
      " tensor([[37854,  1230, 11130,  9911,   579,   454,     0,     0,  1732],\n",
      "        [  110, 87130,    43,     2,     0,    76,     6,    29,     0],\n",
      "        [ 1088,  1913, 72187,  4498,   120,   410,   685,     0,   755],\n",
      "        [ 3668,  1310, 14329, 39217,  6450,   813,   797,     0,  2130],\n",
      "        [  500,  1423,  1693,   577, 60634,   541,     0,     0,  1824],\n",
      "        [  355,  2129,  5498,     0,     5, 60608,     0,     0,   113],\n",
      "        [ 1223,  1284, 39490, 11256,  2611,  1624,  1713,     0,  1081],\n",
      "        [   23,   249,    18,   186,     0,     0,     0, 46901,     0],\n",
      "        [  761,    73,    95,     0,     0,     0,     0,     0, 79399]])\n"
     ]
    },
    {
     "data": {
      "application/vnd.jupyter.widget-view+json": {
       "model_id": "1402aee8340642f08bfe9aa75b72cc6d",
       "version_major": 2,
       "version_minor": 0
      },
      "text/plain": [
       "Validation: |          | 0/? [00:00<?, ?it/s]"
      ]
     },
     "metadata": {},
     "output_type": "display_data"
    },
    {
     "name": "stdout",
     "output_type": "stream",
     "text": [
      "Epoch end: Validation, epoch number: 44\n",
      "ValidationEpoch/CM\n",
      " tensor([[39141,  1230, 11148, 10051,   584,   464,     0,     0,  1732],\n",
      "        [  110, 89160,    43,     2,     0,    76,     6,    29,     0],\n",
      "        [ 1112,  1913, 73843,  4654,   120,   410,   745,     0,   755],\n",
      "        [ 3785,  1310, 14384, 40444,  6557,   828,   871,     0,  2130],\n",
      "        [  505,  1423,  1708,   602, 62149,   541,     0,     0,  1824],\n",
      "        [  355,  2129,  5546,     0,     5, 62155,     0,     0,   113],\n",
      "        [ 1263,  1284, 40237, 11649,  2653,  1649,  1866,     0,  1081],\n",
      "        [   23,   249,    18,   186,     0,     0,     0, 48001,     0],\n",
      "        [  761,    73,    95,     0,     0,     0,     0,     0, 81264]])\n",
      "Epoch end: Train, epoch number: 43\n",
      "TrainEpoch/CM\n",
      " tensor([[39141,  1230, 11148, 10051,   584,   464,     0,     0,  1732],\n",
      "        [  110, 89160,    43,     2,     0,    76,     6,    29,     0],\n",
      "        [ 1112,  1913, 73843,  4654,   120,   410,   745,     0,   755],\n",
      "        [ 3785,  1310, 14384, 40444,  6557,   828,   871,     0,  2130],\n",
      "        [  505,  1423,  1708,   602, 62149,   541,     0,     0,  1824],\n",
      "        [  355,  2129,  5546,     0,     5, 62155,     0,     0,   113],\n",
      "        [ 1263,  1284, 40237, 11649,  2653,  1649,  1866,     0,  1081],\n",
      "        [   23,   249,    18,   186,     0,     0,     0, 48001,     0],\n",
      "        [  761,    73,    95,     0,     0,     0,     0,     0, 81264]])\n"
     ]
    },
    {
     "name": "stderr",
     "output_type": "stream",
     "text": [
      "Metric Validation/Accuracy improved by 0.002 >= min_delta = 0.0. New best score: 0.847\n"
     ]
    },
    {
     "data": {
      "application/vnd.jupyter.widget-view+json": {
       "model_id": "f14937400ed94aea81c671d173ba4d16",
       "version_major": 2,
       "version_minor": 0
      },
      "text/plain": [
       "Validation: |          | 0/? [00:00<?, ?it/s]"
      ]
     },
     "metadata": {},
     "output_type": "display_data"
    },
    {
     "name": "stdout",
     "output_type": "stream",
     "text": [
      "Epoch end: Validation, epoch number: 45\n",
      "ValidationEpoch/CM\n",
      " tensor([[40426,  1230, 11163, 10193,   589,   477,     0,     0,  1732],\n",
      "        [  110, 91190,    43,     2,     0,    76,     6,    29,     0],\n",
      "        [ 1136,  1913, 75489,  4820,   120,   410,   805,     0,   755],\n",
      "        [ 3905,  1310, 14422, 41683,  6657,   843,   954,     0,  2130],\n",
      "        [  510,  1423,  1723,   627, 63664,   541,     0,     0,  1824],\n",
      "        [  355,  2129,  5586,     0,     5, 63710,     0,     0,   113],\n",
      "        [ 1296,  1284, 40964, 12054,  2686,  1674,  2043,     0,  1081],\n",
      "        [   23,   249,    18,   186,     0,     0,     0, 49101,     0],\n",
      "        [  761,    73,    95,     0,     0,     0,     0,     0, 83129]])\n"
     ]
    },
    {
     "name": "stderr",
     "output_type": "stream",
     "text": [
      "Metric Validation/Accuracy improved by 0.002 >= min_delta = 0.0. New best score: 0.849\n"
     ]
    },
    {
     "name": "stdout",
     "output_type": "stream",
     "text": [
      "Epoch end: Train, epoch number: 44\n",
      "TrainEpoch/CM\n",
      " tensor([[40426,  1230, 11163, 10193,   589,   477,     0,     0,  1732],\n",
      "        [  110, 91190,    43,     2,     0,    76,     6,    29,     0],\n",
      "        [ 1136,  1913, 75489,  4820,   120,   410,   805,     0,   755],\n",
      "        [ 3905,  1310, 14422, 41683,  6657,   843,   954,     0,  2130],\n",
      "        [  510,  1423,  1723,   627, 63664,   541,     0,     0,  1824],\n",
      "        [  355,  2129,  5586,     0,     5, 63710,     0,     0,   113],\n",
      "        [ 1296,  1284, 40964, 12054,  2686,  1674,  2043,     0,  1081],\n",
      "        [   23,   249,    18,   186,     0,     0,     0, 49101,     0],\n",
      "        [  761,    73,    95,     0,     0,     0,     0,     0, 83129]])\n"
     ]
    },
    {
     "data": {
      "application/vnd.jupyter.widget-view+json": {
       "model_id": "ae835e89e9424bae8dbc778501a353d9",
       "version_major": 2,
       "version_minor": 0
      },
      "text/plain": [
       "Validation: |          | 0/? [00:00<?, ?it/s]"
      ]
     },
     "metadata": {},
     "output_type": "display_data"
    },
    {
     "name": "stdout",
     "output_type": "stream",
     "text": [
      "Epoch end: Validation, epoch number: 46\n",
      "ValidationEpoch/CM\n",
      " tensor([[41714,  1230, 11180, 10333,   594,   487,     0,     0,  1732],\n",
      "        [  110, 93220,    43,     2,     0,    76,     6,    29,     0],\n",
      "        [ 1160,  1913, 77139,  4980,   120,   410,   867,     0,   755],\n",
      "        [ 4019,  1310, 14465, 42921,  6753,   858,  1043,     0,  2130],\n",
      "        [  515,  1423,  1740,   652, 65177,   541,     0,     0,  1824],\n",
      "        [  355,  2129,  5633,     0,     5, 65258,     0,     0,   113],\n",
      "        [ 1326,  1284, 41694, 12457,  2711,  1699,  2230,     0,  1081],\n",
      "        [   23,   249,    18,   186,     0,     0,     0, 50201,     0],\n",
      "        [  761,    73,    95,     0,     0,     0,     0,     0, 84994]])\n"
     ]
    },
    {
     "name": "stderr",
     "output_type": "stream",
     "text": [
      "Metric Validation/Accuracy improved by 0.001 >= min_delta = 0.0. New best score: 0.850\n"
     ]
    },
    {
     "name": "stdout",
     "output_type": "stream",
     "text": [
      "Epoch end: Train, epoch number: 45\n",
      "TrainEpoch/CM\n",
      " tensor([[41714,  1230, 11180, 10333,   594,   487,     0,     0,  1732],\n",
      "        [  110, 93220,    43,     2,     0,    76,     6,    29,     0],\n",
      "        [ 1160,  1913, 77139,  4980,   120,   410,   867,     0,   755],\n",
      "        [ 4019,  1310, 14465, 42921,  6753,   858,  1043,     0,  2130],\n",
      "        [  515,  1423,  1740,   652, 65177,   541,     0,     0,  1824],\n",
      "        [  355,  2129,  5633,     0,     5, 65258,     0,     0,   113],\n",
      "        [ 1326,  1284, 41694, 12457,  2711,  1699,  2230,     0,  1081],\n",
      "        [   23,   249,    18,   186,     0,     0,     0, 50201,     0],\n",
      "        [  761,    73,    95,     0,     0,     0,     0,     0, 84994]])\n"
     ]
    },
    {
     "data": {
      "application/vnd.jupyter.widget-view+json": {
       "model_id": "a8f446980ff94efb9a97f9c070e4cbd3",
       "version_major": 2,
       "version_minor": 0
      },
      "text/plain": [
       "Validation: |          | 0/? [00:00<?, ?it/s]"
      ]
     },
     "metadata": {},
     "output_type": "display_data"
    },
    {
     "name": "stdout",
     "output_type": "stream",
     "text": [
      "Epoch end: Validation, epoch number: 47\n",
      "ValidationEpoch/CM\n",
      " tensor([[43026,  1230, 11196, 10450,   599,   497,     0,     0,  1732],\n",
      "        [  110, 95247,    43,     2,     0,    79,     6,    29,     0],\n",
      "        [ 1188,  1913, 78795,  5136,   120,   410,   923,     0,   755],\n",
      "        [ 4145,  1310, 14512, 44168,  6849,   873,  1107,     0,  2130],\n",
      "        [  520,  1423,  1757,   677, 66690,   541,     0,     0,  1824],\n",
      "        [  355,  2129,  5673,     0,     5, 66813,     0,     0,   113],\n",
      "        [ 1370,  1284, 42434, 12860,  2743,  1724,  2386,     0,  1081],\n",
      "        [   23,   249,    18,   186,     0,     0,     0, 51301,     0],\n",
      "        [  761,    73,    95,     0,     0,     0,     0,     0, 86859]])\n"
     ]
    },
    {
     "name": "stderr",
     "output_type": "stream",
     "text": [
      "Metric Validation/Accuracy improved by 0.001 >= min_delta = 0.0. New best score: 0.852\n"
     ]
    },
    {
     "name": "stdout",
     "output_type": "stream",
     "text": [
      "Epoch end: Train, epoch number: 46\n",
      "TrainEpoch/CM\n",
      " tensor([[43026,  1230, 11196, 10450,   599,   497,     0,     0,  1732],\n",
      "        [  110, 95247,    43,     2,     0,    79,     6,    29,     0],\n",
      "        [ 1188,  1913, 78795,  5136,   120,   410,   923,     0,   755],\n",
      "        [ 4145,  1310, 14512, 44168,  6849,   873,  1107,     0,  2130],\n",
      "        [  520,  1423,  1757,   677, 66690,   541,     0,     0,  1824],\n",
      "        [  355,  2129,  5673,     0,     5, 66813,     0,     0,   113],\n",
      "        [ 1370,  1284, 42434, 12860,  2743,  1724,  2386,     0,  1081],\n",
      "        [   23,   249,    18,   186,     0,     0,     0, 51301,     0],\n",
      "        [  761,    73,    95,     0,     0,     0,     0,     0, 86859]])\n"
     ]
    },
    {
     "data": {
      "application/vnd.jupyter.widget-view+json": {
       "model_id": "62e66ff4ef064060b840e14b5f513a90",
       "version_major": 2,
       "version_minor": 0
      },
      "text/plain": [
       "Validation: |          | 0/? [00:00<?, ?it/s]"
      ]
     },
     "metadata": {},
     "output_type": "display_data"
    },
    {
     "name": "stdout",
     "output_type": "stream",
     "text": [
      "Epoch end: Validation, epoch number: 48\n",
      "ValidationEpoch/CM\n",
      " tensor([[44328,  1230, 11211, 10578,   604,   507,     0,     0,  1732],\n",
      "        [  110, 97277,    43,     2,     0,    79,     6,    29,     0],\n",
      "        [ 1212,  1913, 80440,  5299,   120,   410,   987,     0,   755],\n",
      "        [ 4268,  1310, 14550, 45428,  6932,   888,  1183,     0,  2130],\n",
      "        [  525,  1423,  1772,   702, 68205,   541,     0,     0,  1824],\n",
      "        [  355,  2129,  5715,     0,     5, 68366,     0,     0,   113],\n",
      "        [ 1408,  1284, 43154, 13268,  2768,  1749,  2570,     0,  1081],\n",
      "        [   23,   249,    18,   186,     0,     0,     0, 52401,     0],\n",
      "        [  761,    73,    95,     0,     0,     0,     0,     0, 88724]])\n",
      "Epoch end: Train, epoch number: 47\n",
      "TrainEpoch/CM\n",
      " tensor([[44328,  1230, 11211, 10578,   604,   507,     0,     0,  1732],\n",
      "        [  110, 97277,    43,     2,     0,    79,     6,    29,     0],\n",
      "        [ 1212,  1913, 80440,  5299,   120,   410,   987,     0,   755],\n",
      "        [ 4268,  1310, 14550, 45428,  6932,   888,  1183,     0,  2130],\n",
      "        [  525,  1423,  1772,   702, 68205,   541,     0,     0,  1824],\n",
      "        [  355,  2129,  5715,     0,     5, 68366,     0,     0,   113],\n",
      "        [ 1408,  1284, 43154, 13268,  2768,  1749,  2570,     0,  1081],\n",
      "        [   23,   249,    18,   186,     0,     0,     0, 52401,     0],\n",
      "        [  761,    73,    95,     0,     0,     0,     0,     0, 88724]])\n"
     ]
    },
    {
     "data": {
      "application/vnd.jupyter.widget-view+json": {
       "model_id": "f5f2ef895bc847339efefedae3d5aec1",
       "version_major": 2,
       "version_minor": 0
      },
      "text/plain": [
       "Validation: |          | 0/? [00:00<?, ?it/s]"
      ]
     },
     "metadata": {},
     "output_type": "display_data"
    },
    {
     "name": "stdout",
     "output_type": "stream",
     "text": [
      "Epoch end: Validation, epoch number: 49\n",
      "ValidationEpoch/CM\n",
      " tensor([[45632,  1230, 11230, 10700,   609,   517,     0,     0,  1732],\n",
      "        [  110, 99307,    43,     2,     0,    79,     6,    29,     0],\n",
      "        [ 1236,  1913, 82091,  5455,   120,   410,  1052,     0,   755],\n",
      "        [ 4376,  1310, 14595, 46659,  7026,   903,  1285,     0,  2130],\n",
      "        [  530,  1423,  1790,   727, 69717,   541,     0,     0,  1824],\n",
      "        [  355,  2129,  5759,     0,     5, 69917,     0,     0,   113],\n",
      "        [ 1431,  1284, 43880, 13656,  2793,  1774,  2783,     0,  1081],\n",
      "        [   23,   249,    18,   186,     0,     0,     0, 53501,     0],\n",
      "        [  761,    73,    95,     0,     0,     0,     0,     0, 90589]])\n"
     ]
    },
    {
     "name": "stderr",
     "output_type": "stream",
     "text": [
      "Metric Validation/Accuracy improved by 0.001 >= min_delta = 0.0. New best score: 0.852\n"
     ]
    },
    {
     "name": "stdout",
     "output_type": "stream",
     "text": [
      "Epoch end: Train, epoch number: 48\n",
      "TrainEpoch/CM\n",
      " tensor([[45632,  1230, 11230, 10700,   609,   517,     0,     0,  1732],\n",
      "        [  110, 99307,    43,     2,     0,    79,     6,    29,     0],\n",
      "        [ 1236,  1913, 82091,  5455,   120,   410,  1052,     0,   755],\n",
      "        [ 4376,  1310, 14595, 46659,  7026,   903,  1285,     0,  2130],\n",
      "        [  530,  1423,  1790,   727, 69717,   541,     0,     0,  1824],\n",
      "        [  355,  2129,  5759,     0,     5, 69917,     0,     0,   113],\n",
      "        [ 1431,  1284, 43880, 13656,  2793,  1774,  2783,     0,  1081],\n",
      "        [   23,   249,    18,   186,     0,     0,     0, 53501,     0],\n",
      "        [  761,    73,    95,     0,     0,     0,     0,     0, 90589]])\n"
     ]
    },
    {
     "data": {
      "application/vnd.jupyter.widget-view+json": {
       "model_id": "54ae39ae6d9f4446bcc683f7aad3f022",
       "version_major": 2,
       "version_minor": 0
      },
      "text/plain": [
       "Validation: |          | 0/? [00:00<?, ?it/s]"
      ]
     },
     "metadata": {},
     "output_type": "display_data"
    },
    {
     "name": "stdout",
     "output_type": "stream",
     "text": [
      "Epoch end: Validation, epoch number: 50\n",
      "ValidationEpoch/CM\n",
      " tensor([[ 46926,   1230,  11245,  10836,    614,    527,      0,      0,   1732],\n",
      "        [   110, 101337,     43,      2,      0,     79,      6,     29,      0],\n",
      "        [  1260,   1913,  83735,   5619,    120,    410,   1116,      0,    755],\n",
      "        [  4490,   1310,  14635,  47938,   7103,    918,   1355,      0,   2130],\n",
      "        [   535,   1423,   1805,    752,  71232,    541,      0,      0,   1824],\n",
      "        [   355,   2129,   5804,      0,      5,  71467,      0,      0,    113],\n",
      "        [  1469,   1284,  44601,  14066,   2821,   1799,   2961,      0,   1081],\n",
      "        [    23,    249,     18,    186,      0,      0,      0,  54601,      0],\n",
      "        [   761,     73,     95,      0,      0,      0,      0,      0,  92454]])\n",
      "Epoch end: Train, epoch number: 49\n"
     ]
    },
    {
     "name": "stderr",
     "output_type": "stream",
     "text": [
      "Metric Validation/Accuracy improved by 0.003 >= min_delta = 0.0. New best score: 0.855\n"
     ]
    },
    {
     "name": "stdout",
     "output_type": "stream",
     "text": [
      "TrainEpoch/CM\n",
      " tensor([[ 46926,   1230,  11245,  10836,    614,    527,      0,      0,   1732],\n",
      "        [   110, 101337,     43,      2,      0,     79,      6,     29,      0],\n",
      "        [  1260,   1913,  83735,   5619,    120,    410,   1116,      0,    755],\n",
      "        [  4490,   1310,  14635,  47938,   7103,    918,   1355,      0,   2130],\n",
      "        [   535,   1423,   1805,    752,  71232,    541,      0,      0,   1824],\n",
      "        [   355,   2129,   5804,      0,      5,  71467,      0,      0,    113],\n",
      "        [  1469,   1284,  44601,  14066,   2821,   1799,   2961,      0,   1081],\n",
      "        [    23,    249,     18,    186,      0,      0,      0,  54601,      0],\n",
      "        [   761,     73,     95,      0,      0,      0,      0,      0,  92454]])\n"
     ]
    },
    {
     "data": {
      "application/vnd.jupyter.widget-view+json": {
       "model_id": "58caa85f0c9b46cda7f1025626865573",
       "version_major": 2,
       "version_minor": 0
      },
      "text/plain": [
       "Validation: |          | 0/? [00:00<?, ?it/s]"
      ]
     },
     "metadata": {},
     "output_type": "display_data"
    },
    {
     "name": "stdout",
     "output_type": "stream",
     "text": [
      "Epoch end: Validation, epoch number: 51\n",
      "ValidationEpoch/CM\n",
      " tensor([[ 48238,   1230,  11260,  10954,    619,    537,      0,      0,   1732],\n",
      "        [   110, 103367,     43,      2,      0,     79,      6,     29,      0],\n",
      "        [  1284,   1913,  85371,   5783,    120,    410,   1188,      0,    755],\n",
      "        [  4592,   1310,  14667,  49202,   7180,    933,   1460,      0,   2130],\n",
      "        [   540,   1423,   1820,    777,  72747,    541,      0,      0,   1824],\n",
      "        [   355,   2129,   5837,      0,      5,  73029,      0,      0,    113],\n",
      "        [  1488,   1284,  45286,  14468,   2846,   1825,   3204,      0,   1081],\n",
      "        [    23,    249,     18,    186,      0,      0,      0,  55701,      0],\n",
      "        [   761,     73,     95,      0,      0,      0,      0,      0,  94319]])\n"
     ]
    },
    {
     "name": "stderr",
     "output_type": "stream",
     "text": [
      "Metric Validation/Accuracy improved by 0.003 >= min_delta = 0.0. New best score: 0.858\n"
     ]
    },
    {
     "name": "stdout",
     "output_type": "stream",
     "text": [
      "Epoch end: Train, epoch number: 50\n",
      "TrainEpoch/CM\n",
      " tensor([[ 48238,   1230,  11260,  10954,    619,    537,      0,      0,   1732],\n",
      "        [   110, 103367,     43,      2,      0,     79,      6,     29,      0],\n",
      "        [  1284,   1913,  85371,   5783,    120,    410,   1188,      0,    755],\n",
      "        [  4592,   1310,  14667,  49202,   7180,    933,   1460,      0,   2130],\n",
      "        [   540,   1423,   1820,    777,  72747,    541,      0,      0,   1824],\n",
      "        [   355,   2129,   5837,      0,      5,  73029,      0,      0,    113],\n",
      "        [  1488,   1284,  45286,  14468,   2846,   1825,   3204,      0,   1081],\n",
      "        [    23,    249,     18,    186,      0,      0,      0,  55701,      0],\n",
      "        [   761,     73,     95,      0,      0,      0,      0,      0,  94319]])\n"
     ]
    },
    {
     "data": {
      "application/vnd.jupyter.widget-view+json": {
       "model_id": "de8c00a15f6040a8823081128831a942",
       "version_major": 2,
       "version_minor": 0
      },
      "text/plain": [
       "Validation: |          | 0/? [00:00<?, ?it/s]"
      ]
     },
     "metadata": {},
     "output_type": "display_data"
    },
    {
     "name": "stdout",
     "output_type": "stream",
     "text": [
      "Epoch end: Validation, epoch number: 52\n",
      "ValidationEpoch/CM\n",
      " tensor([[ 49572,   1230,  11276,  11047,    624,    547,      2,      0,   1732],\n",
      "        [   110, 105397,     43,      2,      0,     79,      6,     29,      0],\n",
      "        [  1308,   1913,  87019,   5941,    120,    410,   1254,      0,    755],\n",
      "        [  4703,   1310,  14707,  50451,   7258,    948,   1562,      0,   2130],\n",
      "        [   545,   1423,   1838,    802,  74259,    541,      0,      0,   1824],\n",
      "        [   355,   2129,   5875,      0,      5,  74586,      0,      0,    113],\n",
      "        [  1511,   1284,  45991,  14856,   2871,   1850,   3438,      0,   1081],\n",
      "        [    23,    249,     18,    186,      0,      0,      0,  56801,      0],\n",
      "        [   761,     73,     95,      0,      0,      0,      0,      0,  96184]])\n",
      "Epoch end: Train, epoch number: 51\n",
      "TrainEpoch/CM\n",
      " tensor([[ 49572,   1230,  11276,  11047,    624,    547,      2,      0,   1732],\n",
      "        [   110, 105397,     43,      2,      0,     79,      6,     29,      0],\n",
      "        [  1308,   1913,  87019,   5941,    120,    410,   1254,      0,    755],\n",
      "        [  4703,   1310,  14707,  50451,   7258,    948,   1562,      0,   2130],\n",
      "        [   545,   1423,   1838,    802,  74259,    541,      0,      0,   1824],\n",
      "        [   355,   2129,   5875,      0,      5,  74586,      0,      0,    113],\n",
      "        [  1511,   1284,  45991,  14856,   2871,   1850,   3438,      0,   1081],\n",
      "        [    23,    249,     18,    186,      0,      0,      0,  56801,      0],\n",
      "        [   761,     73,     95,      0,      0,      0,      0,      0,  96184]])\n"
     ]
    },
    {
     "data": {
      "application/vnd.jupyter.widget-view+json": {
       "model_id": "4cf821e9c132412aa35fb4a19f00815a",
       "version_major": 2,
       "version_minor": 0
      },
      "text/plain": [
       "Validation: |          | 0/? [00:00<?, ?it/s]"
      ]
     },
     "metadata": {},
     "output_type": "display_data"
    },
    {
     "name": "stdout",
     "output_type": "stream",
     "text": [
      "Epoch end: Validation, epoch number: 53\n",
      "ValidationEpoch/CM\n",
      " tensor([[ 50894,   1230,  11291,  11155,    629,    557,      2,      0,   1732],\n",
      "        [   110, 107427,     43,      2,      0,     79,      6,     29,      0],\n",
      "        [  1332,   1913,  88648,   6109,    120,    410,   1329,      0,    755],\n",
      "        [  4801,   1310,  14729,  51741,   7331,    963,   1659,      0,   2130],\n",
      "        [   550,   1423,   1853,    827,  75774,    541,      0,      0,   1824],\n",
      "        [   355,   2129,   5896,      0,      5,  76160,      0,      0,    113],\n",
      "        [  1538,   1284,  46643,  15264,   2896,   1878,   3698,      0,   1081],\n",
      "        [    23,    249,     18,    186,      0,      0,      0,  57901,      0],\n",
      "        [   761,     73,     95,      0,      0,      0,      0,      0,  98049]])\n",
      "Epoch end: Train, epoch number: 52\n",
      "TrainEpoch/CM\n",
      " tensor([[ 50894,   1230,  11291,  11155,    629,    557,      2,      0,   1732],\n",
      "        [   110, 107427,     43,      2,      0,     79,      6,     29,      0],\n",
      "        [  1332,   1913,  88648,   6109,    120,    410,   1329,      0,    755],\n",
      "        [  4801,   1310,  14729,  51741,   7331,    963,   1659,      0,   2130],\n",
      "        [   550,   1423,   1853,    827,  75774,    541,      0,      0,   1824],\n",
      "        [   355,   2129,   5896,      0,      5,  76160,      0,      0,    113],\n",
      "        [  1538,   1284,  46643,  15264,   2896,   1878,   3698,      0,   1081],\n",
      "        [    23,    249,     18,    186,      0,      0,      0,  57901,      0],\n",
      "        [   761,     73,     95,      0,      0,      0,      0,      0,  98049]])\n"
     ]
    },
    {
     "name": "stderr",
     "output_type": "stream",
     "text": [
      "Metric Validation/Accuracy improved by 0.001 >= min_delta = 0.0. New best score: 0.859\n"
     ]
    },
    {
     "data": {
      "application/vnd.jupyter.widget-view+json": {
       "model_id": "bf6095b9f4e948059c7f4bd00a237617",
       "version_major": 2,
       "version_minor": 0
      },
      "text/plain": [
       "Validation: |          | 0/? [00:00<?, ?it/s]"
      ]
     },
     "metadata": {},
     "output_type": "display_data"
    },
    {
     "name": "stdout",
     "output_type": "stream",
     "text": [
      "Epoch end: Validation, epoch number: 54\n",
      "ValidationEpoch/CM\n",
      " tensor([[ 52243,   1230,  11306,  11236,    634,    567,      2,      0,   1732],\n",
      "        [   110, 109457,     43,      2,      0,     79,      6,     29,      0],\n",
      "        [  1356,   1913,  90292,   6265,    120,    410,   1401,      0,    755],\n",
      "        [  4909,   1310,  14767,  53005,   7398,    967,   1773,      0,   2130],\n",
      "        [   555,   1423,   1870,    852,  77287,    541,      0,      0,   1824],\n",
      "        [   355,   2129,   5938,      0,      5,  77713,      0,      0,    113],\n",
      "        [  1568,   1284,  47341,  15647,   2921,   1903,   3937,      0,   1081],\n",
      "        [    23,    249,     18,    186,      0,      0,      0,  59001,      0],\n",
      "        [   761,     73,     95,      0,      0,      0,      0,      0,  99914]])\n",
      "Epoch end: Train, epoch number: 53\n",
      "TrainEpoch/CM\n",
      " tensor([[ 52243,   1230,  11306,  11236,    634,    567,      2,      0,   1732],\n",
      "        [   110, 109457,     43,      2,      0,     79,      6,     29,      0],\n",
      "        [  1356,   1913,  90292,   6265,    120,    410,   1401,      0,    755],\n",
      "        [  4909,   1310,  14767,  53005,   7398,    967,   1773,      0,   2130],\n",
      "        [   555,   1423,   1870,    852,  77287,    541,      0,      0,   1824],\n",
      "        [   355,   2129,   5938,      0,      5,  77713,      0,      0,    113],\n",
      "        [  1568,   1284,  47341,  15647,   2921,   1903,   3937,      0,   1081],\n",
      "        [    23,    249,     18,    186,      0,      0,      0,  59001,      0],\n",
      "        [   761,     73,     95,      0,      0,      0,      0,      0,  99914]])\n"
     ]
    },
    {
     "name": "stderr",
     "output_type": "stream",
     "text": [
      "Metric Validation/Accuracy improved by 0.000 >= min_delta = 0.0. New best score: 0.860\n"
     ]
    },
    {
     "data": {
      "application/vnd.jupyter.widget-view+json": {
       "model_id": "9fa91d05add4461ab12bfec63025329b",
       "version_major": 2,
       "version_minor": 0
      },
      "text/plain": [
       "Validation: |          | 0/? [00:00<?, ?it/s]"
      ]
     },
     "metadata": {},
     "output_type": "display_data"
    },
    {
     "name": "stdout",
     "output_type": "stream",
     "text": [
      "Epoch end: Validation, epoch number: 55\n",
      "ValidationEpoch/CM\n",
      " tensor([[ 53533,   1230,  11323,  11374,    639,    577,      2,      0,   1732],\n",
      "        [   110, 111487,     43,      2,      0,     79,      6,     29,      0],\n",
      "        [  1374,   1913,  91923,   6435,    120,    410,   1478,      0,    755],\n",
      "        [  4991,   1310,  14790,  54312,   7467,    967,   1887,      0,   2130],\n",
      "        [   560,   1423,   1885,    877,  78802,    541,      0,      0,   1824],\n",
      "        [   355,   2129,   5965,      0,      5,  79281,      0,      0,    113],\n",
      "        [  1579,   1284,  48007,  16056,   2946,   1932,   4197,      0,   1081],\n",
      "        [    23,    249,     18,    186,      0,      0,      0,  60101,      0],\n",
      "        [   761,     73,     95,      0,      0,      0,      0,      0, 101779]])\n"
     ]
    },
    {
     "name": "stderr",
     "output_type": "stream",
     "text": [
      "Metric Validation/Accuracy improved by 0.001 >= min_delta = 0.0. New best score: 0.861\n"
     ]
    },
    {
     "name": "stdout",
     "output_type": "stream",
     "text": [
      "Epoch end: Train, epoch number: 54\n",
      "TrainEpoch/CM\n",
      " tensor([[ 53533,   1230,  11323,  11374,    639,    577,      2,      0,   1732],\n",
      "        [   110, 111487,     43,      2,      0,     79,      6,     29,      0],\n",
      "        [  1374,   1913,  91923,   6435,    120,    410,   1478,      0,    755],\n",
      "        [  4991,   1310,  14790,  54312,   7467,    967,   1887,      0,   2130],\n",
      "        [   560,   1423,   1885,    877,  78802,    541,      0,      0,   1824],\n",
      "        [   355,   2129,   5965,      0,      5,  79281,      0,      0,    113],\n",
      "        [  1579,   1284,  48007,  16056,   2946,   1932,   4197,      0,   1081],\n",
      "        [    23,    249,     18,    186,      0,      0,      0,  60101,      0],\n",
      "        [   761,     73,     95,      0,      0,      0,      0,      0, 101779]])\n"
     ]
    },
    {
     "data": {
      "application/vnd.jupyter.widget-view+json": {
       "model_id": "5112ea396d7a475d8b24fb471d895ab7",
       "version_major": 2,
       "version_minor": 0
      },
      "text/plain": [
       "Validation: |          | 0/? [00:00<?, ?it/s]"
      ]
     },
     "metadata": {},
     "output_type": "display_data"
    },
    {
     "name": "stdout",
     "output_type": "stream",
     "text": [
      "Epoch end: Validation, epoch number: 56\n",
      "ValidationEpoch/CM\n",
      " tensor([[ 54884,   1230,  11338,  11453,    644,    587,      2,      0,   1732],\n",
      "        [   110, 113517,     43,      2,      0,     79,      6,     29,      0],\n",
      "        [  1398,   1913,  93555,   6591,    120,    410,   1562,      0,    755],\n",
      "        [  5096,   1310,  14820,  55577,   7539,    967,   2010,      0,   2130],\n",
      "        [   565,   1423,   1900,    902,  80317,    541,      0,      0,   1824],\n",
      "        [   355,   2129,   5996,      0,      5,  80845,      0,      0,    113],\n",
      "        [  1601,   1284,  48678,  16440,   2971,   1961,   4466,      0,   1081],\n",
      "        [    23,    249,     18,    186,      0,      0,      0,  61201,      0],\n",
      "        [   761,     73,     95,      0,      0,      0,      0,      0, 103644]])\n"
     ]
    },
    {
     "name": "stderr",
     "output_type": "stream",
     "text": [
      "Metric Validation/Accuracy improved by 0.001 >= min_delta = 0.0. New best score: 0.862\n"
     ]
    },
    {
     "name": "stdout",
     "output_type": "stream",
     "text": [
      "Epoch end: Train, epoch number: 55\n",
      "TrainEpoch/CM\n",
      " tensor([[ 54884,   1230,  11338,  11453,    644,    587,      2,      0,   1732],\n",
      "        [   110, 113517,     43,      2,      0,     79,      6,     29,      0],\n",
      "        [  1398,   1913,  93555,   6591,    120,    410,   1562,      0,    755],\n",
      "        [  5096,   1310,  14820,  55577,   7539,    967,   2010,      0,   2130],\n",
      "        [   565,   1423,   1900,    902,  80317,    541,      0,      0,   1824],\n",
      "        [   355,   2129,   5996,      0,      5,  80845,      0,      0,    113],\n",
      "        [  1601,   1284,  48678,  16440,   2971,   1961,   4466,      0,   1081],\n",
      "        [    23,    249,     18,    186,      0,      0,      0,  61201,      0],\n",
      "        [   761,     73,     95,      0,      0,      0,      0,      0, 103644]])\n"
     ]
    },
    {
     "data": {
      "application/vnd.jupyter.widget-view+json": {
       "model_id": "1e4cf28e87de449492ddcf43eeef1ad4",
       "version_major": 2,
       "version_minor": 0
      },
      "text/plain": [
       "Validation: |          | 0/? [00:00<?, ?it/s]"
      ]
     },
     "metadata": {},
     "output_type": "display_data"
    },
    {
     "name": "stdout",
     "output_type": "stream",
     "text": [
      "Epoch end: Validation, epoch number: 57\n",
      "ValidationEpoch/CM\n",
      " tensor([[ 56229,   1230,  11353,  11538,    649,    597,      2,      0,   1732],\n",
      "        [   110, 115547,     43,      2,      0,     79,      6,     29,      0],\n",
      "        [  1422,   1913,  95190,   6752,    120,    410,   1638,      0,    755],\n",
      "        [  5197,   1310,  14847,  56876,   7603,    970,   2111,      0,   2130],\n",
      "        [   570,   1423,   1915,    927,  81832,    541,      0,      0,   1824],\n",
      "        [   355,   2129,   6021,      0,      5,  82415,      0,      0,    113],\n",
      "        [  1631,   1284,  49351,  16845,   2996,   1991,   4703,      0,   1081],\n",
      "        [    23,    249,     18,    186,      0,      0,      0,  62301,      0],\n",
      "        [   761,     73,     95,      0,      0,      0,      0,      0, 105509]])\n",
      "Epoch end: Train, epoch number: 56\n",
      "TrainEpoch/CM\n",
      " tensor([[ 56229,   1230,  11353,  11538,    649,    597,      2,      0,   1732],\n",
      "        [   110, 115547,     43,      2,      0,     79,      6,     29,      0],\n",
      "        [  1422,   1913,  95190,   6752,    120,    410,   1638,      0,    755],\n",
      "        [  5197,   1310,  14847,  56876,   7603,    970,   2111,      0,   2130],\n",
      "        [   570,   1423,   1915,    927,  81832,    541,      0,      0,   1824],\n",
      "        [   355,   2129,   6021,      0,      5,  82415,      0,      0,    113],\n",
      "        [  1631,   1284,  49351,  16845,   2996,   1991,   4703,      0,   1081],\n",
      "        [    23,    249,     18,    186,      0,      0,      0,  62301,      0],\n",
      "        [   761,     73,     95,      0,      0,      0,      0,      0, 105509]])\n"
     ]
    },
    {
     "data": {
      "application/vnd.jupyter.widget-view+json": {
       "model_id": "6ffcdf5abd9446f58eb0166e8ef34ef3",
       "version_major": 2,
       "version_minor": 0
      },
      "text/plain": [
       "Validation: |          | 0/? [00:00<?, ?it/s]"
      ]
     },
     "metadata": {},
     "output_type": "display_data"
    },
    {
     "name": "stdout",
     "output_type": "stream",
     "text": [
      "Epoch end: Validation, epoch number: 58\n",
      "ValidationEpoch/CM\n",
      " tensor([[ 57557,   1230,  11372,  11636,    654,    607,      2,      0,   1732],\n",
      "        [   110, 117577,     43,      2,      0,     79,      6,     29,      0],\n",
      "        [  1446,   1913,  96834,   6908,    120,    410,   1710,      0,    755],\n",
      "        [  5282,   1310,  14881,  58169,   7667,    970,   2230,      0,   2130],\n",
      "        [   575,   1423,   1934,    952,  83343,    541,      0,      0,   1824],\n",
      "        [   355,   2129,   6050,      0,      5,  83981,      0,      0,    113],\n",
      "        [  1646,   1284,  50043,  17234,   3019,   2016,   4959,      0,   1081],\n",
      "        [    23,    249,     18,    186,      0,      0,      0,  63401,      0],\n",
      "        [   761,     73,     95,      0,      0,      0,      0,      0, 107374]])\n"
     ]
    },
    {
     "name": "stderr",
     "output_type": "stream",
     "text": [
      "Metric Validation/Accuracy improved by 0.003 >= min_delta = 0.0. New best score: 0.865\n"
     ]
    },
    {
     "name": "stdout",
     "output_type": "stream",
     "text": [
      "Epoch end: Train, epoch number: 57\n",
      "TrainEpoch/CM\n",
      " tensor([[ 57557,   1230,  11372,  11636,    654,    607,      2,      0,   1732],\n",
      "        [   110, 117577,     43,      2,      0,     79,      6,     29,      0],\n",
      "        [  1446,   1913,  96834,   6908,    120,    410,   1710,      0,    755],\n",
      "        [  5282,   1310,  14881,  58169,   7667,    970,   2230,      0,   2130],\n",
      "        [   575,   1423,   1934,    952,  83343,    541,      0,      0,   1824],\n",
      "        [   355,   2129,   6050,      0,      5,  83981,      0,      0,    113],\n",
      "        [  1646,   1284,  50043,  17234,   3019,   2016,   4959,      0,   1081],\n",
      "        [    23,    249,     18,    186,      0,      0,      0,  63401,      0],\n",
      "        [   761,     73,     95,      0,      0,      0,      0,      0, 107374]])\n"
     ]
    },
    {
     "data": {
      "application/vnd.jupyter.widget-view+json": {
       "model_id": "f3074197483f47499af365f65ed64c39",
       "version_major": 2,
       "version_minor": 0
      },
      "text/plain": [
       "Validation: |          | 0/? [00:00<?, ?it/s]"
      ]
     },
     "metadata": {},
     "output_type": "display_data"
    },
    {
     "name": "stdout",
     "output_type": "stream",
     "text": [
      "Epoch end: Validation, epoch number: 59\n",
      "ValidationEpoch/CM\n",
      " tensor([[ 58907,   1230,  11387,  11716,    659,    617,      2,      0,   1732],\n",
      "        [   110, 119607,     43,      2,      0,     79,      6,     29,      0],\n",
      "        [  1470,   1913,  98450,   7072,    120,    410,   1802,      0,    755],\n",
      "        [  5373,   1310,  14894,  59483,   7723,    970,   2351,      0,   2130],\n",
      "        [   580,   1423,   1949,    977,  84858,    541,      0,      0,   1824],\n",
      "        [   355,   2129,   6076,      0,      5,  85550,      0,      0,    113],\n",
      "        [  1672,   1284,  50675,  17633,   3042,   2043,   5252,      0,   1081],\n",
      "        [    23,    249,     18,    186,      0,      0,      0,  64501,      0],\n",
      "        [   761,     73,     95,      0,      0,      0,      0,      0, 109239]])\n",
      "Epoch end: Train, epoch number: 58\n",
      "TrainEpoch/CM\n",
      " tensor([[ 58907,   1230,  11387,  11716,    659,    617,      2,      0,   1732],\n",
      "        [   110, 119607,     43,      2,      0,     79,      6,     29,      0],\n",
      "        [  1470,   1913,  98450,   7072,    120,    410,   1802,      0,    755],\n",
      "        [  5373,   1310,  14894,  59483,   7723,    970,   2351,      0,   2130],\n",
      "        [   580,   1423,   1949,    977,  84858,    541,      0,      0,   1824],\n",
      "        [   355,   2129,   6076,      0,      5,  85550,      0,      0,    113],\n",
      "        [  1672,   1284,  50675,  17633,   3042,   2043,   5252,      0,   1081],\n",
      "        [    23,    249,     18,    186,      0,      0,      0,  64501,      0],\n",
      "        [   761,     73,     95,      0,      0,      0,      0,      0, 109239]])\n"
     ]
    },
    {
     "data": {
      "application/vnd.jupyter.widget-view+json": {
       "model_id": "6b90fe6907a84d09b59a31619ac1911b",
       "version_major": 2,
       "version_minor": 0
      },
      "text/plain": [
       "Validation: |          | 0/? [00:00<?, ?it/s]"
      ]
     },
     "metadata": {},
     "output_type": "display_data"
    },
    {
     "name": "stdout",
     "output_type": "stream",
     "text": [
      "Epoch end: Validation, epoch number: 60\n",
      "ValidationEpoch/CM\n",
      " tensor([[ 60228,   1230,  11405,  11820,    664,    627,      4,      0,   1732],\n",
      "        [   110, 121637,     43,      2,      0,     79,      6,     29,      0],\n",
      "        [  1494,   1913, 100086,   7228,    120,    410,   1882,      0,    755],\n",
      "        [  5449,   1310,  14925,  60783,   7779,    970,   2483,      0,   2130],\n",
      "        [   585,   1423,   1969,   1002,  86368,    541,      0,      0,   1824],\n",
      "        [   355,   2129,   6111,      0,      5,  87110,      0,      0,    113],\n",
      "        [  1683,   1284,  51354,  18020,   3062,   2068,   5530,      0,   1081],\n",
      "        [    23,    249,     18,    186,      0,      0,      0,  65601,      0],\n",
      "        [   761,     73,     95,      0,      0,      0,      0,      0, 111104]])\n",
      "Epoch end: Train, epoch number: 59\n",
      "TrainEpoch/CM\n",
      " tensor([[ 60228,   1230,  11405,  11820,    664,    627,      4,      0,   1732],\n",
      "        [   110, 121637,     43,      2,      0,     79,      6,     29,      0],\n",
      "        [  1494,   1913, 100086,   7228,    120,    410,   1882,      0,    755],\n",
      "        [  5449,   1310,  14925,  60783,   7779,    970,   2483,      0,   2130],\n",
      "        [   585,   1423,   1969,   1002,  86368,    541,      0,      0,   1824],\n",
      "        [   355,   2129,   6111,      0,      5,  87110,      0,      0,    113],\n",
      "        [  1683,   1284,  51354,  18020,   3062,   2068,   5530,      0,   1081],\n",
      "        [    23,    249,     18,    186,      0,      0,      0,  65601,      0],\n",
      "        [   761,     73,     95,      0,      0,      0,      0,      0, 111104]])\n"
     ]
    },
    {
     "data": {
      "application/vnd.jupyter.widget-view+json": {
       "model_id": "f4b77af8d5e241eeba8dfb7198aa5fa2",
       "version_major": 2,
       "version_minor": 0
      },
      "text/plain": [
       "Validation: |          | 0/? [00:00<?, ?it/s]"
      ]
     },
     "metadata": {},
     "output_type": "display_data"
    },
    {
     "name": "stdout",
     "output_type": "stream",
     "text": [
      "Epoch end: Validation, epoch number: 61\n",
      "ValidationEpoch/CM\n",
      " tensor([[ 61580,   1230,  11420,  11897,    669,    637,      5,      0,   1732],\n",
      "        [   110, 123667,     43,      2,      0,     79,      6,     29,      0],\n",
      "        [  1518,   1913, 101718,   7384,    120,    410,   1966,      0,    755],\n",
      "        [  5536,   1310,  14951,  62079,   7835,    970,   2613,      0,   2130],\n",
      "        [   590,   1423,   1985,   1026,  87883,    541,      0,      0,   1824],\n",
      "        [   355,   2129,   6136,      0,      5,  88680,      0,      0,    113],\n",
      "        [  1697,   1284,  52012,  18404,   3083,   2098,   5823,      0,   1081],\n",
      "        [    23,    249,     18,    186,      0,      0,      0,  66701,      0],\n",
      "        [   761,     73,     95,      0,      0,      0,      0,      0, 112969]])\n",
      "Epoch end: Train, epoch number: 60\n",
      "TrainEpoch/CM\n",
      " tensor([[ 61580,   1230,  11420,  11897,    669,    637,      5,      0,   1732],\n",
      "        [   110, 123667,     43,      2,      0,     79,      6,     29,      0],\n",
      "        [  1518,   1913, 101718,   7384,    120,    410,   1966,      0,    755],\n",
      "        [  5536,   1310,  14951,  62079,   7835,    970,   2613,      0,   2130],\n",
      "        [   590,   1423,   1985,   1026,  87883,    541,      0,      0,   1824],\n",
      "        [   355,   2129,   6136,      0,      5,  88680,      0,      0,    113],\n",
      "        [  1697,   1284,  52012,  18404,   3083,   2098,   5823,      0,   1081],\n",
      "        [    23,    249,     18,    186,      0,      0,      0,  66701,      0],\n",
      "        [   761,     73,     95,      0,      0,      0,      0,      0, 112969]])\n"
     ]
    },
    {
     "data": {
      "application/vnd.jupyter.widget-view+json": {
       "model_id": "2f87909f7397448bbc9864cd793e9856",
       "version_major": 2,
       "version_minor": 0
      },
      "text/plain": [
       "Validation: |          | 0/? [00:00<?, ?it/s]"
      ]
     },
     "metadata": {},
     "output_type": "display_data"
    },
    {
     "name": "stdout",
     "output_type": "stream",
     "text": [
      "Epoch end: Validation, epoch number: 62\n",
      "ValidationEpoch/CM\n",
      " tensor([[ 62913,   1230,  11435,  11990,    674,    647,      9,      0,   1732],\n",
      "        [   110, 125697,     43,      2,      0,     79,      6,     29,      0],\n",
      "        [  1542,   1913, 103346,   7540,    120,    410,   2054,      0,    755],\n",
      "        [  5607,   1310,  14970,  63398,   7888,    970,   2746,      0,   2130],\n",
      "        [   595,   1423,   2000,   1051,  89398,    541,      0,      0,   1824],\n",
      "        [   355,   2129,   6161,      0,      5,  90250,      0,      0,    113],\n",
      "        [  1707,   1284,  52644,  18799,   3103,   2126,   6138,      0,   1081],\n",
      "        [    23,    249,     18,    186,      0,      0,      0,  67801,      0],\n",
      "        [   761,     73,     95,      0,      0,      0,      0,      0, 114834]])\n"
     ]
    },
    {
     "name": "stderr",
     "output_type": "stream",
     "text": [
      "Metric Validation/Accuracy improved by 0.002 >= min_delta = 0.0. New best score: 0.867\n"
     ]
    },
    {
     "name": "stdout",
     "output_type": "stream",
     "text": [
      "Epoch end: Train, epoch number: 61\n",
      "TrainEpoch/CM\n",
      " tensor([[ 62913,   1230,  11435,  11990,    674,    647,      9,      0,   1732],\n",
      "        [   110, 125697,     43,      2,      0,     79,      6,     29,      0],\n",
      "        [  1542,   1913, 103346,   7540,    120,    410,   2054,      0,    755],\n",
      "        [  5607,   1310,  14970,  63398,   7888,    970,   2746,      0,   2130],\n",
      "        [   595,   1423,   2000,   1051,  89398,    541,      0,      0,   1824],\n",
      "        [   355,   2129,   6161,      0,      5,  90250,      0,      0,    113],\n",
      "        [  1707,   1284,  52644,  18799,   3103,   2126,   6138,      0,   1081],\n",
      "        [    23,    249,     18,    186,      0,      0,      0,  67801,      0],\n",
      "        [   761,     73,     95,      0,      0,      0,      0,      0, 114834]])\n"
     ]
    },
    {
     "data": {
      "application/vnd.jupyter.widget-view+json": {
       "model_id": "66f9011d09494c31a0cd3055d4560ceb",
       "version_major": 2,
       "version_minor": 0
      },
      "text/plain": [
       "Validation: |          | 0/? [00:00<?, ?it/s]"
      ]
     },
     "metadata": {},
     "output_type": "display_data"
    },
    {
     "name": "stdout",
     "output_type": "stream",
     "text": [
      "Epoch end: Validation, epoch number: 63\n",
      "ValidationEpoch/CM\n",
      " tensor([[ 64264,   1230,  11450,  12069,    679,    657,      9,      0,   1732],\n",
      "        [   110, 127727,     43,      2,      0,     79,      6,     29,      0],\n",
      "        [  1566,   1913, 104978,   7696,    120,    410,   2138,      0,    755],\n",
      "        [  5686,   1310,  14991,  64705,   7938,    970,   2884,      0,   2130],\n",
      "        [   600,   1423,   2016,   1076,  90912,    541,      0,      0,   1824],\n",
      "        [   355,   2129,   6186,      0,      5,  91820,      0,      0,    113],\n",
      "        [  1719,   1284,  53299,  19194,   3123,   2151,   6431,      0,   1081],\n",
      "        [    23,    249,     18,    186,      0,      0,      0,  68901,      0],\n",
      "        [   761,     73,     95,      0,      0,      0,      0,      0, 116699]])\n",
      "Epoch end: Train, epoch number: 62\n",
      "TrainEpoch/CM\n",
      " tensor([[ 64264,   1230,  11450,  12069,    679,    657,      9,      0,   1732],\n",
      "        [   110, 127727,     43,      2,      0,     79,      6,     29,      0],\n",
      "        [  1566,   1913, 104978,   7696,    120,    410,   2138,      0,    755],\n",
      "        [  5686,   1310,  14991,  64705,   7938,    970,   2884,      0,   2130],\n",
      "        [   600,   1423,   2016,   1076,  90912,    541,      0,      0,   1824],\n",
      "        [   355,   2129,   6186,      0,      5,  91820,      0,      0,    113],\n",
      "        [  1719,   1284,  53299,  19194,   3123,   2151,   6431,      0,   1081],\n",
      "        [    23,    249,     18,    186,      0,      0,      0,  68901,      0],\n",
      "        [   761,     73,     95,      0,      0,      0,      0,      0, 116699]])\n"
     ]
    },
    {
     "name": "stderr",
     "output_type": "stream",
     "text": [
      "Metric Validation/Accuracy improved by 0.001 >= min_delta = 0.0. New best score: 0.868\n"
     ]
    },
    {
     "data": {
      "application/vnd.jupyter.widget-view+json": {
       "model_id": "65865934814a4e3286b1e178b19d9d77",
       "version_major": 2,
       "version_minor": 0
      },
      "text/plain": [
       "Validation: |          | 0/? [00:00<?, ?it/s]"
      ]
     },
     "metadata": {},
     "output_type": "display_data"
    },
    {
     "name": "stdout",
     "output_type": "stream",
     "text": [
      "Epoch end: Validation, epoch number: 64\n",
      "ValidationEpoch/CM\n",
      " tensor([[ 65607,   1230,  11469,  12152,    684,    667,      9,      0,   1732],\n",
      "        [   110, 129757,     43,      2,      0,     79,      6,     29,      0],\n",
      "        [  1590,   1913, 106612,   7852,    120,    410,   2220,      0,    755],\n",
      "        [  5759,   1310,  15021,  66019,   7992,    970,   3008,      0,   2130],\n",
      "        [   605,   1423,   2034,   1101,  92424,    541,      0,      0,   1824],\n",
      "        [   355,   2129,   6215,      0,      5,  93386,      0,      0,    113],\n",
      "        [  1733,   1284,  53970,  19589,   3143,   2178,   6704,      0,   1081],\n",
      "        [    23,    249,     18,    186,      0,      0,      0,  70001,      0],\n",
      "        [   761,     73,     95,      0,      0,      0,      0,      0, 118564]])\n",
      "Epoch end: Train, epoch number: 63\n",
      "TrainEpoch/CM\n",
      " tensor([[ 65607,   1230,  11469,  12152,    684,    667,      9,      0,   1732],\n",
      "        [   110, 129757,     43,      2,      0,     79,      6,     29,      0],\n",
      "        [  1590,   1913, 106612,   7852,    120,    410,   2220,      0,    755],\n",
      "        [  5759,   1310,  15021,  66019,   7992,    970,   3008,      0,   2130],\n",
      "        [   605,   1423,   2034,   1101,  92424,    541,      0,      0,   1824],\n",
      "        [   355,   2129,   6215,      0,      5,  93386,      0,      0,    113],\n",
      "        [  1733,   1284,  53970,  19589,   3143,   2178,   6704,      0,   1081],\n",
      "        [    23,    249,     18,    186,      0,      0,      0,  70001,      0],\n",
      "        [   761,     73,     95,      0,      0,      0,      0,      0, 118564]])\n"
     ]
    },
    {
     "name": "stderr",
     "output_type": "stream",
     "text": [
      "Metric Validation/Accuracy improved by 0.001 >= min_delta = 0.0. New best score: 0.869\n"
     ]
    },
    {
     "data": {
      "application/vnd.jupyter.widget-view+json": {
       "model_id": "44a284632c1d44e1b922a05fcf005bb3",
       "version_major": 2,
       "version_minor": 0
      },
      "text/plain": [
       "Validation: |          | 0/? [00:00<?, ?it/s]"
      ]
     },
     "metadata": {},
     "output_type": "display_data"
    },
    {
     "name": "stdout",
     "output_type": "stream",
     "text": [
      "Epoch end: Validation, epoch number: 65\n",
      "ValidationEpoch/CM\n",
      " tensor([[ 66956,   1230,  11484,  12233,    686,    677,     12,      0,   1732],\n",
      "        [   110, 131787,     43,      2,      0,     79,      6,     29,      0],\n",
      "        [  1614,   1913, 108212,   8018,    120,    410,   2326,      0,    755],\n",
      "        [  5834,   1310,  15031,  67339,   8042,    970,   3148,      0,   2130],\n",
      "        [   610,   1423,   2049,   1126,  93939,    541,      0,      0,   1824],\n",
      "        [   355,   2129,   6232,      0,      5,  94964,      0,      0,    113],\n",
      "        [  1745,   1284,  54555,  19981,   3163,   2208,   7065,      0,   1081],\n",
      "        [    23,    249,     18,    186,      0,      0,      0,  71101,      0],\n",
      "        [   761,     73,     95,      0,      0,      0,      0,      0, 120429]])\n",
      "Epoch end: Train, epoch number: 64\n",
      "TrainEpoch/CM\n",
      " tensor([[ 66956,   1230,  11484,  12233,    686,    677,     12,      0,   1732],\n",
      "        [   110, 131787,     43,      2,      0,     79,      6,     29,      0],\n",
      "        [  1614,   1913, 108212,   8018,    120,    410,   2326,      0,    755],\n",
      "        [  5834,   1310,  15031,  67339,   8042,    970,   3148,      0,   2130],\n",
      "        [   610,   1423,   2049,   1126,  93939,    541,      0,      0,   1824],\n",
      "        [   355,   2129,   6232,      0,      5,  94964,      0,      0,    113],\n",
      "        [  1745,   1284,  54555,  19981,   3163,   2208,   7065,      0,   1081],\n",
      "        [    23,    249,     18,    186,      0,      0,      0,  71101,      0],\n",
      "        [   761,     73,     95,      0,      0,      0,      0,      0, 120429]])\n"
     ]
    },
    {
     "name": "stderr",
     "output_type": "stream",
     "text": [
      "Metric Validation/Accuracy improved by 0.001 >= min_delta = 0.0. New best score: 0.870\n"
     ]
    },
    {
     "data": {
      "application/vnd.jupyter.widget-view+json": {
       "model_id": "5966cfe0ed5e42dab3c130b8adfc41b5",
       "version_major": 2,
       "version_minor": 0
      },
      "text/plain": [
       "Validation: |          | 0/? [00:00<?, ?it/s]"
      ]
     },
     "metadata": {},
     "output_type": "display_data"
    },
    {
     "name": "stdout",
     "output_type": "stream",
     "text": [
      "Epoch end: Validation, epoch number: 66\n",
      "ValidationEpoch/CM\n",
      " tensor([[ 68308,   1230,  11504,  12311,    686,    687,     12,      0,   1732],\n",
      "        [   110, 133817,     43,      2,      0,     79,      6,     29,      0],\n",
      "        [  1638,   1913, 109844,   8174,    120,    410,   2410,      0,    755],\n",
      "        [  5907,   1310,  15053,  68647,   8092,    970,   3290,      0,   2130],\n",
      "        [   615,   1423,   2069,   1149,  95451,    541,      0,      0,   1824],\n",
      "        [   355,   2129,   6256,      0,      5,  96535,      0,      0,    113],\n",
      "        [  1755,   1284,  55213,  20361,   3183,   2233,   7372,      0,   1081],\n",
      "        [    23,    249,     18,    186,      0,      0,      0,  72201,      0],\n",
      "        [   761,     73,     95,      0,      0,      0,      0,      0, 122294]])\n",
      "Epoch end: Train, epoch number: 65\n",
      "TrainEpoch/CM\n",
      " tensor([[ 68308,   1230,  11504,  12311,    686,    687,     12,      0,   1732],\n",
      "        [   110, 133817,     43,      2,      0,     79,      6,     29,      0],\n",
      "        [  1638,   1913, 109844,   8174,    120,    410,   2410,      0,    755],\n",
      "        [  5907,   1310,  15053,  68647,   8092,    970,   3290,      0,   2130],\n",
      "        [   615,   1423,   2069,   1149,  95451,    541,      0,      0,   1824],\n",
      "        [   355,   2129,   6256,      0,      5,  96535,      0,      0,    113],\n",
      "        [  1755,   1284,  55213,  20361,   3183,   2233,   7372,      0,   1081],\n",
      "        [    23,    249,     18,    186,      0,      0,      0,  72201,      0],\n",
      "        [   761,     73,     95,      0,      0,      0,      0,      0, 122294]])\n"
     ]
    },
    {
     "data": {
      "application/vnd.jupyter.widget-view+json": {
       "model_id": "6f156042942a4e38aa6f4fa8797a7e13",
       "version_major": 2,
       "version_minor": 0
      },
      "text/plain": [
       "Validation: |          | 0/? [00:00<?, ?it/s]"
      ]
     },
     "metadata": {},
     "output_type": "display_data"
    },
    {
     "name": "stdout",
     "output_type": "stream",
     "text": [
      "Epoch end: Validation, epoch number: 67\n",
      "ValidationEpoch/CM\n",
      " tensor([[ 69667,   1230,  11520,  12386,    686,    697,     12,      0,   1732],\n",
      "        [   110, 135847,     43,      2,      0,     79,      6,     29,      0],\n",
      "        [  1662,   1913, 111465,   8333,    120,    410,   2502,      0,    755],\n",
      "        [  5981,   1310,  15066,  69967,   8142,    970,   3428,      0,   2130],\n",
      "        [   620,   1423,   2084,   1173,  96967,    541,      0,      0,   1824],\n",
      "        [   355,   2129,   6280,      0,      5,  98106,      0,      0,    113],\n",
      "        [  1765,   1284,  55815,  20752,   3203,   2263,   7719,      0,   1081],\n",
      "        [    23,    249,     18,    186,      0,      0,      0,  73301,      0],\n",
      "        [   761,     73,     95,      0,      0,      0,      0,      0, 124159]])\n",
      "Epoch end: Train, epoch number: 66\n",
      "TrainEpoch/CM\n",
      " tensor([[ 69667,   1230,  11520,  12386,    686,    697,     12,      0,   1732],\n",
      "        [   110, 135847,     43,      2,      0,     79,      6,     29,      0],\n",
      "        [  1662,   1913, 111465,   8333,    120,    410,   2502,      0,    755],\n",
      "        [  5981,   1310,  15066,  69967,   8142,    970,   3428,      0,   2130],\n",
      "        [   620,   1423,   2084,   1173,  96967,    541,      0,      0,   1824],\n",
      "        [   355,   2129,   6280,      0,      5,  98106,      0,      0,    113],\n",
      "        [  1765,   1284,  55815,  20752,   3203,   2263,   7719,      0,   1081],\n",
      "        [    23,    249,     18,    186,      0,      0,      0,  73301,      0],\n",
      "        [   761,     73,     95,      0,      0,      0,      0,      0, 124159]])\n"
     ]
    },
    {
     "name": "stderr",
     "output_type": "stream",
     "text": [
      "Metric Validation/Accuracy improved by 0.000 >= min_delta = 0.0. New best score: 0.870\n"
     ]
    },
    {
     "data": {
      "application/vnd.jupyter.widget-view+json": {
       "model_id": "715176d5fd7d4ed9b903d4f28f483304",
       "version_major": 2,
       "version_minor": 0
      },
      "text/plain": [
       "Validation: |          | 0/? [00:00<?, ?it/s]"
      ]
     },
     "metadata": {},
     "output_type": "display_data"
    },
    {
     "name": "stdout",
     "output_type": "stream",
     "text": [
      "Epoch end: Validation, epoch number: 68\n",
      "ValidationEpoch/CM\n",
      " tensor([[ 71009,   1230,  11539,  12470,    686,    707,     17,      0,   1732],\n",
      "        [   110, 137877,     43,      2,      0,     79,      6,     29,      0],\n",
      "        [  1684,   1913, 113099,   8489,    120,    410,   2586,      0,    755],\n",
      "        [  6039,   1310,  15086,  71284,   8192,    970,   3578,      0,   2130],\n",
      "        [   625,   1423,   2103,   1197,  98479,    541,      0,      0,   1824],\n",
      "        [   355,   2129,   6305,      0,      5,  99676,      0,      0,    113],\n",
      "        [  1775,   1284,  56444,  21131,   3223,   2292,   8052,      0,   1081],\n",
      "        [    23,    249,     18,    186,      0,      0,      0,  74401,      0],\n",
      "        [   761,     73,     95,      0,      0,      0,      0,      0, 126024]])\n",
      "Epoch end: Train, epoch number: 67\n",
      "TrainEpoch/CM\n",
      " tensor([[ 71009,   1230,  11539,  12470,    686,    707,     17,      0,   1732],\n",
      "        [   110, 137877,     43,      2,      0,     79,      6,     29,      0],\n",
      "        [  1684,   1913, 113099,   8489,    120,    410,   2586,      0,    755],\n",
      "        [  6039,   1310,  15086,  71284,   8192,    970,   3578,      0,   2130],\n",
      "        [   625,   1423,   2103,   1197,  98479,    541,      0,      0,   1824],\n",
      "        [   355,   2129,   6305,      0,      5,  99676,      0,      0,    113],\n",
      "        [  1775,   1284,  56444,  21131,   3223,   2292,   8052,      0,   1081],\n",
      "        [    23,    249,     18,    186,      0,      0,      0,  74401,      0],\n",
      "        [   761,     73,     95,      0,      0,      0,      0,      0, 126024]])\n"
     ]
    },
    {
     "data": {
      "application/vnd.jupyter.widget-view+json": {
       "model_id": "ae3833f3ad9f49fea9ff1b5219f466ec",
       "version_major": 2,
       "version_minor": 0
      },
      "text/plain": [
       "Validation: |          | 0/? [00:00<?, ?it/s]"
      ]
     },
     "metadata": {},
     "output_type": "display_data"
    },
    {
     "name": "stdout",
     "output_type": "stream",
     "text": [
      "Epoch end: Validation, epoch number: 69\n",
      "ValidationEpoch/CM\n",
      " tensor([[ 72352,   1230,  11556,  12556,    686,    717,     21,      0,   1732],\n",
      "        [   110, 139907,     43,      2,      0,     79,      6,     29,      0],\n",
      "        [  1702,   1913, 114717,   8652,    120,    410,   2683,      0,    755],\n",
      "        [  6099,   1310,  15098,  72622,   8237,    970,   3718,      0,   2130],\n",
      "        [   630,   1423,   2119,   1222,  99993,    541,      0,      0,   1824],\n",
      "        [   355,   2129,   6329,      0,      5, 101247,      0,      0,    113],\n",
      "        [  1785,   1284,  57039,  21519,   3243,   2322,   8409,      0,   1081],\n",
      "        [    23,    249,     18,    186,      0,      0,      0,  75501,      0],\n",
      "        [   761,     73,     95,      0,      0,      0,      0,      0, 127889]])\n"
     ]
    },
    {
     "name": "stderr",
     "output_type": "stream",
     "text": [
      "Metric Validation/Accuracy improved by 0.002 >= min_delta = 0.0. New best score: 0.872\n"
     ]
    },
    {
     "name": "stdout",
     "output_type": "stream",
     "text": [
      "Epoch end: Train, epoch number: 68\n",
      "TrainEpoch/CM\n",
      " tensor([[ 72352,   1230,  11556,  12556,    686,    717,     21,      0,   1732],\n",
      "        [   110, 139907,     43,      2,      0,     79,      6,     29,      0],\n",
      "        [  1702,   1913, 114717,   8652,    120,    410,   2683,      0,    755],\n",
      "        [  6099,   1310,  15098,  72622,   8237,    970,   3718,      0,   2130],\n",
      "        [   630,   1423,   2119,   1222,  99993,    541,      0,      0,   1824],\n",
      "        [   355,   2129,   6329,      0,      5, 101247,      0,      0,    113],\n",
      "        [  1785,   1284,  57039,  21519,   3243,   2322,   8409,      0,   1081],\n",
      "        [    23,    249,     18,    186,      0,      0,      0,  75501,      0],\n",
      "        [   761,     73,     95,      0,      0,      0,      0,      0, 127889]])\n"
     ]
    },
    {
     "data": {
      "application/vnd.jupyter.widget-view+json": {
       "model_id": "67b54b786fdc4b98bcccb396c5a391ad",
       "version_major": 2,
       "version_minor": 0
      },
      "text/plain": [
       "Validation: |          | 0/? [00:00<?, ?it/s]"
      ]
     },
     "metadata": {},
     "output_type": "display_data"
    },
    {
     "name": "stdout",
     "output_type": "stream",
     "text": [
      "Epoch end: Validation, epoch number: 70\n",
      "ValidationEpoch/CM\n",
      " tensor([[ 73720,   1230,  11572,  12622,    686,    727,     21,      0,   1732],\n",
      "        [   110, 141937,     43,      2,      0,     79,      6,     29,      0],\n",
      "        [  1726,   1913, 116349,   8808,    120,    410,   2767,      0,    755],\n",
      "        [  6167,   1310,  15118,  73931,   8287,    970,   3866,      0,   2130],\n",
      "        [   635,   1423,   2135,   1244, 101510,    541,      0,      0,   1824],\n",
      "        [   355,   2129,   6349,      0,      5, 102822,      0,      0,    113],\n",
      "        [  1795,   1284,  57643,  21904,   3263,   2352,   8760,      0,   1081],\n",
      "        [    23,    249,     18,    186,      0,      0,      0,  76601,      0],\n",
      "        [   761,     73,     95,      0,      0,      0,      0,      0, 129754]])\n",
      "Epoch end: Train, epoch number: 69\n",
      "TrainEpoch/CM\n",
      " tensor([[ 73720,   1230,  11572,  12622,    686,    727,     21,      0,   1732],\n",
      "        [   110, 141937,     43,      2,      0,     79,      6,     29,      0],\n",
      "        [  1726,   1913, 116349,   8808,    120,    410,   2767,      0,    755],\n",
      "        [  6167,   1310,  15118,  73931,   8287,    970,   3866,      0,   2130],\n",
      "        [   635,   1423,   2135,   1244, 101510,    541,      0,      0,   1824],\n",
      "        [   355,   2129,   6349,      0,      5, 102822,      0,      0,    113],\n",
      "        [  1795,   1284,  57643,  21904,   3263,   2352,   8760,      0,   1081],\n",
      "        [    23,    249,     18,    186,      0,      0,      0,  76601,      0],\n",
      "        [   761,     73,     95,      0,      0,      0,      0,      0, 129754]])\n"
     ]
    },
    {
     "data": {
      "application/vnd.jupyter.widget-view+json": {
       "model_id": "e25de500807849b8a217acc3d8e0be4e",
       "version_major": 2,
       "version_minor": 0
      },
      "text/plain": [
       "Validation: |          | 0/? [00:00<?, ?it/s]"
      ]
     },
     "metadata": {},
     "output_type": "display_data"
    },
    {
     "name": "stdout",
     "output_type": "stream",
     "text": [
      "Epoch end: Validation, epoch number: 71\n",
      "ValidationEpoch/CM\n",
      " tensor([[ 75068,   1230,  11591,  12705,    686,    737,     21,      0,   1732],\n",
      "        [   110, 143967,     43,      2,      0,     79,      6,     29,      0],\n",
      "        [  1742,   1913, 117981,   8972,    120,    410,   2851,      0,    755],\n",
      "        [  6222,   1310,  15133,  75301,   8332,    970,   3976,      0,   2130],\n",
      "        [   640,   1423,   2152,   1269, 103023,    541,      0,      0,   1824],\n",
      "        [   355,   2129,   6372,      0,      5, 104394,      0,      0,    113],\n",
      "        [  1805,   1284,  58266,  22297,   3283,   2382,   9084,      0,   1081],\n",
      "        [    23,    249,     18,    186,      0,      0,      0,  77701,      0],\n",
      "        [   761,     73,     95,      0,      0,      0,      0,      0, 131619]])\n",
      "Epoch end: Train, epoch number: 70\n",
      "TrainEpoch/CM\n",
      " tensor([[ 75068,   1230,  11591,  12705,    686,    737,     21,      0,   1732],\n",
      "        [   110, 143967,     43,      2,      0,     79,      6,     29,      0],\n",
      "        [  1742,   1913, 117981,   8972,    120,    410,   2851,      0,    755],\n",
      "        [  6222,   1310,  15133,  75301,   8332,    970,   3976,      0,   2130],\n",
      "        [   640,   1423,   2152,   1269, 103023,    541,      0,      0,   1824],\n",
      "        [   355,   2129,   6372,      0,      5, 104394,      0,      0,    113],\n",
      "        [  1805,   1284,  58266,  22297,   3283,   2382,   9084,      0,   1081],\n",
      "        [    23,    249,     18,    186,      0,      0,      0,  77701,      0],\n",
      "        [   761,     73,     95,      0,      0,      0,      0,      0, 131619]])\n"
     ]
    },
    {
     "name": "stderr",
     "output_type": "stream",
     "text": [
      "Metric Validation/Accuracy improved by 0.002 >= min_delta = 0.0. New best score: 0.874\n"
     ]
    },
    {
     "data": {
      "application/vnd.jupyter.widget-view+json": {
       "model_id": "af623c2cd20e4b249996b193c4acba90",
       "version_major": 2,
       "version_minor": 0
      },
      "text/plain": [
       "Validation: |          | 0/? [00:00<?, ?it/s]"
      ]
     },
     "metadata": {},
     "output_type": "display_data"
    },
    {
     "name": "stdout",
     "output_type": "stream",
     "text": [
      "Epoch end: Validation, epoch number: 72\n",
      "ValidationEpoch/CM\n",
      " tensor([[ 76449,   1230,  11606,  12760,    686,    744,     23,      0,   1732],\n",
      "        [   110, 145997,     43,      2,      0,     79,      6,     29,      0],\n",
      "        [  1766,   1913, 119602,   9128,    120,    410,   2946,      0,    755],\n",
      "        [  6297,   1310,  15152,  76619,   8380,    970,   4111,      0,   2130],\n",
      "        [   645,   1423,   2167,   1290, 104542,    541,      0,      0,   1824],\n",
      "        [   355,   2129,   6391,      0,      5, 105970,      0,      0,    113],\n",
      "        [  1815,   1284,  58861,  22676,   3303,   2412,   9450,      0,   1081],\n",
      "        [    23,    249,     18,    186,      0,      0,      0,  78801,      0],\n",
      "        [   761,     73,     95,      0,      0,      0,      0,      0, 133484]])\n",
      "Epoch end: Train, epoch number: 71\n",
      "TrainEpoch/CM\n",
      " tensor([[ 76449,   1230,  11606,  12760,    686,    744,     23,      0,   1732],\n",
      "        [   110, 145997,     43,      2,      0,     79,      6,     29,      0],\n",
      "        [  1766,   1913, 119602,   9128,    120,    410,   2946,      0,    755],\n",
      "        [  6297,   1310,  15152,  76619,   8380,    970,   4111,      0,   2130],\n",
      "        [   645,   1423,   2167,   1290, 104542,    541,      0,      0,   1824],\n",
      "        [   355,   2129,   6391,      0,      5, 105970,      0,      0,    113],\n",
      "        [  1815,   1284,  58861,  22676,   3303,   2412,   9450,      0,   1081],\n",
      "        [    23,    249,     18,    186,      0,      0,      0,  78801,      0],\n",
      "        [   761,     73,     95,      0,      0,      0,      0,      0, 133484]])\n"
     ]
    },
    {
     "data": {
      "application/vnd.jupyter.widget-view+json": {
       "model_id": "533104bf10244e0cab44136dcceec78b",
       "version_major": 2,
       "version_minor": 0
      },
      "text/plain": [
       "Validation: |          | 0/? [00:00<?, ?it/s]"
      ]
     },
     "metadata": {},
     "output_type": "display_data"
    },
    {
     "name": "stdout",
     "output_type": "stream",
     "text": [
      "Epoch end: Validation, epoch number: 73\n",
      "ValidationEpoch/CM\n",
      " tensor([[ 77795,   1230,  11624,  12850,    686,    750,     23,      0,   1732],\n",
      "        [   110, 148027,     43,      2,      0,     79,      6,     29,      0],\n",
      "        [  1782,   1913, 121234,   9292,    120,    410,   3030,      0,    755],\n",
      "        [  6350,   1310,  15166,  77986,   8425,    970,   4227,      0,   2130],\n",
      "        [   650,   1423,   2182,   1315, 106057,    541,      0,      0,   1824],\n",
      "        [   355,   2129,   6406,      0,      5, 107550,      0,      0,    113],\n",
      "        [  1825,   1284,  59474,  23068,   3323,   2442,   9785,      0,   1081],\n",
      "        [    23,    249,     18,    186,      0,      0,      0,  79901,      0],\n",
      "        [   761,     73,     95,      0,      0,      0,      0,      0, 135349]])\n",
      "Epoch end: Train, epoch number: 72\n",
      "TrainEpoch/CM\n",
      " tensor([[ 77795,   1230,  11624,  12850,    686,    750,     23,      0,   1732],\n",
      "        [   110, 148027,     43,      2,      0,     79,      6,     29,      0],\n",
      "        [  1782,   1913, 121234,   9292,    120,    410,   3030,      0,    755],\n",
      "        [  6350,   1310,  15166,  77986,   8425,    970,   4227,      0,   2130],\n",
      "        [   650,   1423,   2182,   1315, 106057,    541,      0,      0,   1824],\n",
      "        [   355,   2129,   6406,      0,      5, 107550,      0,      0,    113],\n",
      "        [  1825,   1284,  59474,  23068,   3323,   2442,   9785,      0,   1081],\n",
      "        [    23,    249,     18,    186,      0,      0,      0,  79901,      0],\n",
      "        [   761,     73,     95,      0,      0,      0,      0,      0, 135349]])\n"
     ]
    },
    {
     "data": {
      "application/vnd.jupyter.widget-view+json": {
       "model_id": "ec8a1ed9826642979dfdca0a4f925876",
       "version_major": 2,
       "version_minor": 0
      },
      "text/plain": [
       "Validation: |          | 0/? [00:00<?, ?it/s]"
      ]
     },
     "metadata": {},
     "output_type": "display_data"
    },
    {
     "name": "stdout",
     "output_type": "stream",
     "text": [
      "Epoch end: Validation, epoch number: 74\n",
      "ValidationEpoch/CM\n",
      " tensor([[ 79150,   1230,  11644,  12920,    686,    756,     32,      0,   1732],\n",
      "        [   110, 150057,     43,      2,      0,     79,      6,     29,      0],\n",
      "        [  1801,   1913, 122847,   9453,    120,    410,   3133,      0,    755],\n",
      "        [  6401,   1310,  15186,  79311,   8473,    970,   4378,      0,   2130],\n",
      "        [   655,   1423,   2197,   1336, 107576,    541,      0,      0,   1824],\n",
      "        [   355,   2129,   6423,      0,      5, 109128,      0,      0,    113],\n",
      "        [  1835,   1284,  60069,  23434,   3343,   2466,  10170,      0,   1081],\n",
      "        [    23,    249,     18,    186,      0,      0,      0,  81001,      0],\n",
      "        [   761,     73,     95,      0,      0,      0,      0,      0, 137214]])\n",
      "Epoch end: Train, epoch number: 73\n",
      "TrainEpoch/CM\n",
      " tensor([[ 79150,   1230,  11644,  12920,    686,    756,     32,      0,   1732],\n",
      "        [   110, 150057,     43,      2,      0,     79,      6,     29,      0],\n",
      "        [  1801,   1913, 122847,   9453,    120,    410,   3133,      0,    755],\n",
      "        [  6401,   1310,  15186,  79311,   8473,    970,   4378,      0,   2130],\n",
      "        [   655,   1423,   2197,   1336, 107576,    541,      0,      0,   1824],\n",
      "        [   355,   2129,   6423,      0,      5, 109128,      0,      0,    113],\n",
      "        [  1835,   1284,  60069,  23434,   3343,   2466,  10170,      0,   1081],\n",
      "        [    23,    249,     18,    186,      0,      0,      0,  81001,      0],\n",
      "        [   761,     73,     95,      0,      0,      0,      0,      0, 137214]])\n"
     ]
    },
    {
     "data": {
      "application/vnd.jupyter.widget-view+json": {
       "model_id": "287dc8918bb446678d6f31a8dd78c090",
       "version_major": 2,
       "version_minor": 0
      },
      "text/plain": [
       "Validation: |          | 0/? [00:00<?, ?it/s]"
      ]
     },
     "metadata": {},
     "output_type": "display_data"
    },
    {
     "name": "stdout",
     "output_type": "stream",
     "text": [
      "Epoch end: Validation, epoch number: 75\n",
      "ValidationEpoch/CM\n",
      " tensor([[ 80496,   1230,  11663,  13007,    686,    761,     35,      0,   1732],\n",
      "        [   110, 152087,     43,      2,      0,     79,      6,     29,      0],\n",
      "        [  1816,   1913, 124468,   9618,    120,    410,   3228,      0,    755],\n",
      "        [  6448,   1310,  15201,  80684,   8518,    970,   4493,      0,   2130],\n",
      "        [   660,   1423,   2215,   1360, 109089,    541,      0,      0,   1824],\n",
      "        [   355,   2129,   6430,      0,      5, 110716,      0,      0,    113],\n",
      "        [  1845,   1284,  60660,  23825,   3362,   2495,  10530,      0,   1081],\n",
      "        [    23,    249,     18,    186,      0,      0,      0,  82101,      0],\n",
      "        [   761,     73,     95,      0,      0,      0,      0,      0, 139079]])\n"
     ]
    },
    {
     "name": "stderr",
     "output_type": "stream",
     "text": [
      "Metric Validation/Accuracy improved by 0.003 >= min_delta = 0.0. New best score: 0.876\n"
     ]
    },
    {
     "name": "stdout",
     "output_type": "stream",
     "text": [
      "Epoch end: Train, epoch number: 74\n",
      "TrainEpoch/CM\n",
      " tensor([[ 80496,   1230,  11663,  13007,    686,    761,     35,      0,   1732],\n",
      "        [   110, 152087,     43,      2,      0,     79,      6,     29,      0],\n",
      "        [  1816,   1913, 124468,   9618,    120,    410,   3228,      0,    755],\n",
      "        [  6448,   1310,  15201,  80684,   8518,    970,   4493,      0,   2130],\n",
      "        [   660,   1423,   2215,   1360, 109089,    541,      0,      0,   1824],\n",
      "        [   355,   2129,   6430,      0,      5, 110716,      0,      0,    113],\n",
      "        [  1845,   1284,  60660,  23825,   3362,   2495,  10530,      0,   1081],\n",
      "        [    23,    249,     18,    186,      0,      0,      0,  82101,      0],\n",
      "        [   761,     73,     95,      0,      0,      0,      0,      0, 139079]])\n"
     ]
    },
    {
     "data": {
      "application/vnd.jupyter.widget-view+json": {
       "model_id": "600c4191d5f548c39c025d3a2e166715",
       "version_major": 2,
       "version_minor": 0
      },
      "text/plain": [
       "Validation: |          | 0/? [00:00<?, ?it/s]"
      ]
     },
     "metadata": {},
     "output_type": "display_data"
    },
    {
     "name": "stdout",
     "output_type": "stream",
     "text": [
      "Epoch end: Validation, epoch number: 76\n",
      "ValidationEpoch/CM\n",
      " tensor([[ 81846,   1230,  11680,  13095,    686,    766,     35,      0,   1732],\n",
      "        [   110, 154117,     43,      2,      0,     79,      6,     29,      0],\n",
      "        [  1824,   1913, 126097,   9786,    120,    410,   3319,      0,    755],\n",
      "        [  6496,   1310,  15214,  82071,   8563,    970,   4595,      0,   2130],\n",
      "        [   665,   1423,   2233,   1385, 110601,    541,      0,      0,   1824],\n",
      "        [   355,   2129,   6437,      0,      5, 112304,      0,      0,    113],\n",
      "        [  1855,   1284,  61257,  24220,   3382,   2525,  10878,      0,   1081],\n",
      "        [    23,    249,     18,    186,      0,      0,      0,  83201,      0],\n",
      "        [   761,     73,     95,      0,      0,      0,      0,      0, 140944]])\n",
      "Epoch end: Train, epoch number: 75\n",
      "TrainEpoch/CM\n",
      " tensor([[ 81846,   1230,  11680,  13095,    686,    766,     35,      0,   1732],\n",
      "        [   110, 154117,     43,      2,      0,     79,      6,     29,      0],\n",
      "        [  1824,   1913, 126097,   9786,    120,    410,   3319,      0,    755],\n",
      "        [  6496,   1310,  15214,  82071,   8563,    970,   4595,      0,   2130],\n",
      "        [   665,   1423,   2233,   1385, 110601,    541,      0,      0,   1824],\n",
      "        [   355,   2129,   6437,      0,      5, 112304,      0,      0,    113],\n",
      "        [  1855,   1284,  61257,  24220,   3382,   2525,  10878,      0,   1081],\n",
      "        [    23,    249,     18,    186,      0,      0,      0,  83201,      0],\n",
      "        [   761,     73,     95,      0,      0,      0,      0,      0, 140944]])\n"
     ]
    },
    {
     "data": {
      "application/vnd.jupyter.widget-view+json": {
       "model_id": "9d877a15fd3341ca8334d33722c3fd81",
       "version_major": 2,
       "version_minor": 0
      },
      "text/plain": [
       "Validation: |          | 0/? [00:00<?, ?it/s]"
      ]
     },
     "metadata": {},
     "output_type": "display_data"
    },
    {
     "name": "stdout",
     "output_type": "stream",
     "text": [
      "Epoch end: Validation, epoch number: 77\n",
      "ValidationEpoch/CM\n",
      " tensor([[ 83209,   1230,  11700,  13158,    686,    771,     44,      0,   1732],\n",
      "        [   110, 156147,     43,      2,      0,     79,      6,     29,      0],\n",
      "        [  1843,   1913, 127701,   9947,    120,    410,   3431,      0,    755],\n",
      "        [  6546,   1310,  15233,  83409,   8608,    970,   4738,      0,   2130],\n",
      "        [   670,   1423,   2248,   1405, 112121,    541,      0,      0,   1824],\n",
      "        [   355,   2129,   6442,      0,      5, 113894,      0,      0,    113],\n",
      "        [  1865,   1284,  61814,  24585,   3402,   2550,  11301,      0,   1081],\n",
      "        [    23,    249,     18,    186,      0,      0,      0,  84301,      0],\n",
      "        [   761,     73,     95,      0,      0,      0,      0,      0, 142809]])\n"
     ]
    },
    {
     "name": "stderr",
     "output_type": "stream",
     "text": [
      "Metric Validation/Accuracy improved by 0.001 >= min_delta = 0.0. New best score: 0.877\n"
     ]
    },
    {
     "name": "stdout",
     "output_type": "stream",
     "text": [
      "Epoch end: Train, epoch number: 76\n",
      "TrainEpoch/CM\n",
      " tensor([[ 83209,   1230,  11700,  13158,    686,    771,     44,      0,   1732],\n",
      "        [   110, 156147,     43,      2,      0,     79,      6,     29,      0],\n",
      "        [  1843,   1913, 127701,   9947,    120,    410,   3431,      0,    755],\n",
      "        [  6546,   1310,  15233,  83409,   8608,    970,   4738,      0,   2130],\n",
      "        [   670,   1423,   2248,   1405, 112121,    541,      0,      0,   1824],\n",
      "        [   355,   2129,   6442,      0,      5, 113894,      0,      0,    113],\n",
      "        [  1865,   1284,  61814,  24585,   3402,   2550,  11301,      0,   1081],\n",
      "        [    23,    249,     18,    186,      0,      0,      0,  84301,      0],\n",
      "        [   761,     73,     95,      0,      0,      0,      0,      0, 142809]])\n"
     ]
    },
    {
     "data": {
      "application/vnd.jupyter.widget-view+json": {
       "model_id": "8fdab816daaa444aad9116b11df8178f",
       "version_major": 2,
       "version_minor": 0
      },
      "text/plain": [
       "Validation: |          | 0/? [00:00<?, ?it/s]"
      ]
     },
     "metadata": {},
     "output_type": "display_data"
    },
    {
     "name": "stdout",
     "output_type": "stream",
     "text": [
      "Epoch end: Validation, epoch number: 78\n",
      "ValidationEpoch/CM\n",
      " tensor([[ 84564,   1230,  11720,  13236,    686,    776,     46,      0,   1732],\n",
      "        [   110, 158177,     43,      2,      0,     79,      6,     29,      0],\n",
      "        [  1848,   1913, 129336,  10115,    120,    410,   3519,      0,    755],\n",
      "        [  6595,   1310,  15253,  84783,   8650,    970,   4848,      0,   2130],\n",
      "        [   675,   1423,   2268,   1428, 113633,    541,      0,      0,   1824],\n",
      "        [   355,   2129,   6453,      0,      5, 115478,      0,      0,    113],\n",
      "        [  1875,   1284,  62429,  24974,   3417,   2574,  11648,      0,   1081],\n",
      "        [    23,    249,     18,    186,      0,      0,      0,  85401,      0],\n",
      "        [   761,     73,     95,      0,      0,      0,      0,      0, 144674]])\n",
      "Epoch end: Train, epoch number: 77\n",
      "TrainEpoch/CM\n",
      " tensor([[ 84564,   1230,  11720,  13236,    686,    776,     46,      0,   1732],\n",
      "        [   110, 158177,     43,      2,      0,     79,      6,     29,      0],\n",
      "        [  1848,   1913, 129336,  10115,    120,    410,   3519,      0,    755],\n",
      "        [  6595,   1310,  15253,  84783,   8650,    970,   4848,      0,   2130],\n",
      "        [   675,   1423,   2268,   1428, 113633,    541,      0,      0,   1824],\n",
      "        [   355,   2129,   6453,      0,      5, 115478,      0,      0,    113],\n",
      "        [  1875,   1284,  62429,  24974,   3417,   2574,  11648,      0,   1081],\n",
      "        [    23,    249,     18,    186,      0,      0,      0,  85401,      0],\n",
      "        [   761,     73,     95,      0,      0,      0,      0,      0, 144674]])\n"
     ]
    },
    {
     "name": "stderr",
     "output_type": "stream",
     "text": [
      "Metric Validation/Accuracy improved by 0.001 >= min_delta = 0.0. New best score: 0.878\n"
     ]
    },
    {
     "data": {
      "application/vnd.jupyter.widget-view+json": {
       "model_id": "15e6eb7472b64364a619883b15a1904d",
       "version_major": 2,
       "version_minor": 0
      },
      "text/plain": [
       "Validation: |          | 0/? [00:00<?, ?it/s]"
      ]
     },
     "metadata": {},
     "output_type": "display_data"
    },
    {
     "name": "stdout",
     "output_type": "stream",
     "text": [
      "Epoch end: Validation, epoch number: 79\n",
      "ValidationEpoch/CM\n",
      " tensor([[ 85935,   1230,  11740,  13298,    686,    781,     48,      0,   1732],\n",
      "        [   110, 160207,     43,      2,      0,     79,      6,     29,      0],\n",
      "        [  1862,   1913, 130962,  10278,    120,    410,   3612,      0,    755],\n",
      "        [  6645,   1310,  15273,  86137,   8695,    970,   4974,      0,   2130],\n",
      "        [   680,   1423,   2283,   1448, 115153,    541,      0,      0,   1824],\n",
      "        [   355,   2129,   6458,      0,      5, 117068,      0,      0,    113],\n",
      "        [  1885,   1284,  63009,  25345,   3437,   2599,  12042,      0,   1081],\n",
      "        [    23,    249,     18,    186,      0,      0,      0,  86501,      0],\n",
      "        [   761,     73,     95,      0,      0,      0,      0,      0, 146539]])\n"
     ]
    },
    {
     "name": "stderr",
     "output_type": "stream",
     "text": [
      "Metric Validation/Accuracy improved by 0.002 >= min_delta = 0.0. New best score: 0.881\n"
     ]
    },
    {
     "name": "stdout",
     "output_type": "stream",
     "text": [
      "Epoch end: Train, epoch number: 78\n",
      "TrainEpoch/CM\n",
      " tensor([[ 85935,   1230,  11740,  13298,    686,    781,     48,      0,   1732],\n",
      "        [   110, 160207,     43,      2,      0,     79,      6,     29,      0],\n",
      "        [  1862,   1913, 130962,  10278,    120,    410,   3612,      0,    755],\n",
      "        [  6645,   1310,  15273,  86137,   8695,    970,   4974,      0,   2130],\n",
      "        [   680,   1423,   2283,   1448, 115153,    541,      0,      0,   1824],\n",
      "        [   355,   2129,   6458,      0,      5, 117068,      0,      0,    113],\n",
      "        [  1885,   1284,  63009,  25345,   3437,   2599,  12042,      0,   1081],\n",
      "        [    23,    249,     18,    186,      0,      0,      0,  86501,      0],\n",
      "        [   761,     73,     95,      0,      0,      0,      0,      0, 146539]])\n"
     ]
    },
    {
     "data": {
      "application/vnd.jupyter.widget-view+json": {
       "model_id": "5eef91c4980047e9a67f53dd43a21aac",
       "version_major": 2,
       "version_minor": 0
      },
      "text/plain": [
       "Validation: |          | 0/? [00:00<?, ?it/s]"
      ]
     },
     "metadata": {},
     "output_type": "display_data"
    },
    {
     "name": "stdout",
     "output_type": "stream",
     "text": [
      "Epoch end: Validation, epoch number: 80\n",
      "ValidationEpoch/CM\n",
      " tensor([[ 87291,   1230,  11760,  13372,    686,    786,     53,      0,   1732],\n",
      "        [   110, 162237,     43,      2,      0,     79,      6,     29,      0],\n",
      "        [  1873,   1913, 132569,  10446,    120,    410,   3722,      0,    755],\n",
      "        [  6687,   1310,  15288,  87516,   8738,    970,   5090,      0,   2130],\n",
      "        [   685,   1423,   2298,   1469, 116672,    541,      0,      0,   1824],\n",
      "        [   355,   2129,   6463,      0,      5, 118658,      0,      0,    113],\n",
      "        [  1895,   1284,  63566,  25726,   3455,   2622,  12453,      0,   1081],\n",
      "        [    23,    249,     18,    186,      0,      0,      0,  87601,      0],\n",
      "        [   761,     73,     95,      0,      0,      0,      0,      0, 148404]])\n"
     ]
    },
    {
     "name": "stderr",
     "output_type": "stream",
     "text": [
      "Metric Validation/Accuracy improved by 0.002 >= min_delta = 0.0. New best score: 0.883\n"
     ]
    },
    {
     "name": "stdout",
     "output_type": "stream",
     "text": [
      "Epoch end: Train, epoch number: 79\n",
      "TrainEpoch/CM\n",
      " tensor([[ 87291,   1230,  11760,  13372,    686,    786,     53,      0,   1732],\n",
      "        [   110, 162237,     43,      2,      0,     79,      6,     29,      0],\n",
      "        [  1873,   1913, 132569,  10446,    120,    410,   3722,      0,    755],\n",
      "        [  6687,   1310,  15288,  87516,   8738,    970,   5090,      0,   2130],\n",
      "        [   685,   1423,   2298,   1469, 116672,    541,      0,      0,   1824],\n",
      "        [   355,   2129,   6463,      0,      5, 118658,      0,      0,    113],\n",
      "        [  1895,   1284,  63566,  25726,   3455,   2622,  12453,      0,   1081],\n",
      "        [    23,    249,     18,    186,      0,      0,      0,  87601,      0],\n",
      "        [   761,     73,     95,      0,      0,      0,      0,      0, 148404]])\n"
     ]
    },
    {
     "data": {
      "application/vnd.jupyter.widget-view+json": {
       "model_id": "195f56894ac7403f941044e23a30a713",
       "version_major": 2,
       "version_minor": 0
      },
      "text/plain": [
       "Validation: |          | 0/? [00:00<?, ?it/s]"
      ]
     },
     "metadata": {},
     "output_type": "display_data"
    },
    {
     "name": "stdout",
     "output_type": "stream",
     "text": [
      "Epoch end: Validation, epoch number: 81\n",
      "ValidationEpoch/CM\n",
      " tensor([[ 88656,   1230,  11780,  13440,    686,    791,     55,      0,   1732],\n",
      "        [   110, 164267,     43,      2,      0,     79,      6,     29,      0],\n",
      "        [  1879,   1913, 134184,  10614,    120,    410,   3829,      0,    755],\n",
      "        [  6731,   1310,  15299,  88893,   8782,    970,   5209,      0,   2130],\n",
      "        [   690,   1423,   2314,   1489, 118191,    541,      0,      0,   1824],\n",
      "        [   355,   2129,   6468,      0,      5, 120248,      0,      0,    113],\n",
      "        [  1905,   1284,  64121,  26103,   3472,   2643,  12873,      0,   1081],\n",
      "        [    23,    249,     18,    186,      0,      0,      0,  88701,      0],\n",
      "        [   761,     73,     95,      0,      0,      0,      0,      0, 150269]])\n",
      "Epoch end: Train, epoch number: 80\n",
      "TrainEpoch/CM\n",
      " tensor([[ 88656,   1230,  11780,  13440,    686,    791,     55,      0,   1732],\n",
      "        [   110, 164267,     43,      2,      0,     79,      6,     29,      0],\n",
      "        [  1879,   1913, 134184,  10614,    120,    410,   3829,      0,    755],\n",
      "        [  6731,   1310,  15299,  88893,   8782,    970,   5209,      0,   2130],\n",
      "        [   690,   1423,   2314,   1489, 118191,    541,      0,      0,   1824],\n",
      "        [   355,   2129,   6468,      0,      5, 120248,      0,      0,    113],\n",
      "        [  1905,   1284,  64121,  26103,   3472,   2643,  12873,      0,   1081],\n",
      "        [    23,    249,     18,    186,      0,      0,      0,  88701,      0],\n",
      "        [   761,     73,     95,      0,      0,      0,      0,      0, 150269]])\n"
     ]
    },
    {
     "data": {
      "application/vnd.jupyter.widget-view+json": {
       "model_id": "a246a77da89c474e8a734f7501d79d61",
       "version_major": 2,
       "version_minor": 0
      },
      "text/plain": [
       "Validation: |          | 0/? [00:00<?, ?it/s]"
      ]
     },
     "metadata": {},
     "output_type": "display_data"
    },
    {
     "name": "stdout",
     "output_type": "stream",
     "text": [
      "Epoch end: Validation, epoch number: 82\n",
      "ValidationEpoch/CM\n",
      " tensor([[ 90019,   1230,  11800,  13507,    686,    796,     60,      0,   1732],\n",
      "        [   110, 166297,     43,      2,      0,     79,      6,     29,      0],\n",
      "        [  1880,   1913, 135814,  10782,    120,    410,   3926,      0,    755],\n",
      "        [  6771,   1310,  15317,  90263,   8824,    970,   5334,      0,   2130],\n",
      "        [   695,   1423,   2332,   1509, 119708,    541,      0,      0,   1824],\n",
      "        [   355,   2129,   6474,      0,      5, 121837,      0,      0,    113],\n",
      "        [  1915,   1284,  64692,  26474,   3492,   2664,  13280,      0,   1081],\n",
      "        [    23,    249,     18,    186,      0,      0,      0,  89801,      0],\n",
      "        [   761,     73,     95,      0,      0,      0,      0,      0, 152134]])\n",
      "Epoch end: Train, epoch number: 81\n",
      "TrainEpoch/CM\n",
      " tensor([[ 90019,   1230,  11800,  13507,    686,    796,     60,      0,   1732],\n",
      "        [   110, 166297,     43,      2,      0,     79,      6,     29,      0],\n",
      "        [  1880,   1913, 135814,  10782,    120,    410,   3926,      0,    755],\n",
      "        [  6771,   1310,  15317,  90263,   8824,    970,   5334,      0,   2130],\n",
      "        [   695,   1423,   2332,   1509, 119708,    541,      0,      0,   1824],\n",
      "        [   355,   2129,   6474,      0,      5, 121837,      0,      0,    113],\n",
      "        [  1915,   1284,  64692,  26474,   3492,   2664,  13280,      0,   1081],\n",
      "        [    23,    249,     18,    186,      0,      0,      0,  89801,      0],\n",
      "        [   761,     73,     95,      0,      0,      0,      0,      0, 152134]])\n"
     ]
    },
    {
     "name": "stderr",
     "output_type": "stream",
     "text": [
      "Metric Validation/Accuracy improved by 0.001 >= min_delta = 0.0. New best score: 0.883\n"
     ]
    },
    {
     "data": {
      "application/vnd.jupyter.widget-view+json": {
       "model_id": "067cb98951144486928af2caf6a28cec",
       "version_major": 2,
       "version_minor": 0
      },
      "text/plain": [
       "Validation: |          | 0/? [00:00<?, ?it/s]"
      ]
     },
     "metadata": {},
     "output_type": "display_data"
    },
    {
     "name": "stdout",
     "output_type": "stream",
     "text": [
      "Epoch end: Validation, epoch number: 83\n",
      "ValidationEpoch/CM\n",
      " tensor([[ 91390,   1230,  11819,  13571,    686,    801,     61,      0,   1732],\n",
      "        [   110, 168327,     43,      2,      0,     79,      6,     29,      0],\n",
      "        [  1883,   1913, 137430,  10950,    120,    410,   4035,      0,    755],\n",
      "        [  6816,   1310,  15331,  91649,   8864,    970,   5444,      0,   2130],\n",
      "        [   700,   1423,   2352,   1533, 121219,    541,      0,      0,   1824],\n",
      "        [   355,   2129,   6479,      0,      5, 123427,      0,      0,    113],\n",
      "        [  1925,   1284,  65249,  26851,   3507,   2684,  13701,      0,   1081],\n",
      "        [    23,    249,     18,    186,      0,      0,      0,  90901,      0],\n",
      "        [   761,     73,     95,      0,      0,      0,      0,      0, 153999]])\n",
      "Epoch end: Train, epoch number: 82\n",
      "TrainEpoch/CM\n",
      " tensor([[ 91390,   1230,  11819,  13571,    686,    801,     61,      0,   1732],\n",
      "        [   110, 168327,     43,      2,      0,     79,      6,     29,      0],\n",
      "        [  1883,   1913, 137430,  10950,    120,    410,   4035,      0,    755],\n",
      "        [  6816,   1310,  15331,  91649,   8864,    970,   5444,      0,   2130],\n",
      "        [   700,   1423,   2352,   1533, 121219,    541,      0,      0,   1824],\n",
      "        [   355,   2129,   6479,      0,      5, 123427,      0,      0,    113],\n",
      "        [  1925,   1284,  65249,  26851,   3507,   2684,  13701,      0,   1081],\n",
      "        [    23,    249,     18,    186,      0,      0,      0,  90901,      0],\n",
      "        [   761,     73,     95,      0,      0,      0,      0,      0, 153999]])\n"
     ]
    },
    {
     "data": {
      "application/vnd.jupyter.widget-view+json": {
       "model_id": "1525fb2066124e64a3ee30ede26140db",
       "version_major": 2,
       "version_minor": 0
      },
      "text/plain": [
       "Validation: |          | 0/? [00:00<?, ?it/s]"
      ]
     },
     "metadata": {},
     "output_type": "display_data"
    },
    {
     "name": "stdout",
     "output_type": "stream",
     "text": [
      "Epoch end: Validation, epoch number: 84\n",
      "ValidationEpoch/CM\n",
      " tensor([[ 92763,   1230,  11839,  13629,    686,    806,     65,      0,   1732],\n",
      "        [   110, 170357,     43,      2,      0,     79,      6,     29,      0],\n",
      "        [  1883,   1913, 139056,  11118,    120,    410,   4137,      0,    755],\n",
      "        [  6856,   1310,  15348,  93011,   8908,    970,   5576,      0,   2130],\n",
      "        [   705,   1423,   2367,   1553, 122739,    541,      0,      0,   1824],\n",
      "        [   355,   2129,   6484,      0,      5, 125017,      0,      0,    113],\n",
      "        [  1935,   1284,  65796,  27214,   3527,   2704,  14141,      0,   1081],\n",
      "        [    23,    249,     18,    186,      0,      0,      0,  92001,      0],\n",
      "        [   761,     73,     95,      0,      0,      0,      0,      0, 155864]])\n",
      "Epoch end: Train, epoch number: 83\n",
      "TrainEpoch/CM\n",
      " tensor([[ 92763,   1230,  11839,  13629,    686,    806,     65,      0,   1732],\n",
      "        [   110, 170357,     43,      2,      0,     79,      6,     29,      0],\n",
      "        [  1883,   1913, 139056,  11118,    120,    410,   4137,      0,    755],\n",
      "        [  6856,   1310,  15348,  93011,   8908,    970,   5576,      0,   2130],\n",
      "        [   705,   1423,   2367,   1553, 122739,    541,      0,      0,   1824],\n",
      "        [   355,   2129,   6484,      0,      5, 125017,      0,      0,    113],\n",
      "        [  1935,   1284,  65796,  27214,   3527,   2704,  14141,      0,   1081],\n",
      "        [    23,    249,     18,    186,      0,      0,      0,  92001,      0],\n",
      "        [   761,     73,     95,      0,      0,      0,      0,      0, 155864]])\n"
     ]
    },
    {
     "name": "stderr",
     "output_type": "stream",
     "text": [
      "Metric Validation/Accuracy improved by 0.001 >= min_delta = 0.0. New best score: 0.885\n"
     ]
    },
    {
     "data": {
      "application/vnd.jupyter.widget-view+json": {
       "model_id": "75d16c2641b6454189c4ead9577a69d8",
       "version_major": 2,
       "version_minor": 0
      },
      "text/plain": [
       "Validation: |          | 0/? [00:00<?, ?it/s]"
      ]
     },
     "metadata": {},
     "output_type": "display_data"
    },
    {
     "name": "stdout",
     "output_type": "stream",
     "text": [
      "Epoch end: Validation, epoch number: 85\n",
      "ValidationEpoch/CM\n",
      " tensor([[ 94125,   1230,  11859,  13697,    686,    811,     70,      0,   1732],\n",
      "        [   110, 172387,     43,      2,      0,     79,      6,     29,      0],\n",
      "        [  1883,   1913, 140675,  11286,    120,    410,   4246,      0,    755],\n",
      "        [  6891,   1310,  15365,  94392,   8948,    970,   5698,      0,   2130],\n",
      "        [   710,   1423,   2385,   1573, 124256,    541,      0,      0,   1824],\n",
      "        [   355,   2129,   6489,      0,      5, 126607,      0,      0,    113],\n",
      "        [  1945,   1284,  66347,  27588,   3542,   2724,  14571,      0,   1081],\n",
      "        [    23,    249,     18,    186,      0,      0,      0,  93101,      0],\n",
      "        [   761,     73,     95,      0,      0,      0,      0,      0, 157729]])\n",
      "Epoch end: Train, epoch number: 84\n",
      "TrainEpoch/CM\n",
      " tensor([[ 94125,   1230,  11859,  13697,    686,    811,     70,      0,   1732],\n",
      "        [   110, 172387,     43,      2,      0,     79,      6,     29,      0],\n",
      "        [  1883,   1913, 140675,  11286,    120,    410,   4246,      0,    755],\n",
      "        [  6891,   1310,  15365,  94392,   8948,    970,   5698,      0,   2130],\n",
      "        [   710,   1423,   2385,   1573, 124256,    541,      0,      0,   1824],\n",
      "        [   355,   2129,   6489,      0,      5, 126607,      0,      0,    113],\n",
      "        [  1945,   1284,  66347,  27588,   3542,   2724,  14571,      0,   1081],\n",
      "        [    23,    249,     18,    186,      0,      0,      0,  93101,      0],\n",
      "        [   761,     73,     95,      0,      0,      0,      0,      0, 157729]])\n"
     ]
    },
    {
     "data": {
      "application/vnd.jupyter.widget-view+json": {
       "model_id": "81922bd8751547d1807565ddf1436bbf",
       "version_major": 2,
       "version_minor": 0
      },
      "text/plain": [
       "Validation: |          | 0/? [00:00<?, ?it/s]"
      ]
     },
     "metadata": {},
     "output_type": "display_data"
    },
    {
     "name": "stdout",
     "output_type": "stream",
     "text": [
      "Epoch end: Validation, epoch number: 86\n",
      "ValidationEpoch/CM\n",
      " tensor([[ 95509,   1230,  11879,  13745,    686,    816,     73,      0,   1732],\n",
      "        [   110, 174417,     43,      2,      0,     79,      6,     29,      0],\n",
      "        [  1894,   1913, 142279,  11449,    120,    410,   4364,      0,    755],\n",
      "        [  6933,   1310,  15385,  95749,   8988,    970,   5834,      0,   2130],\n",
      "        [   715,   1423,   2401,   1593, 125775,    541,      0,      0,   1824],\n",
      "        [   355,   2129,   6494,      0,      5, 128197,      0,      0,    113],\n",
      "        [  1955,   1284,  66889,  27947,   3561,   2744,  15021,      0,   1081],\n",
      "        [    23,    249,     18,    186,      0,      0,      0,  94201,      0],\n",
      "        [   761,     73,     95,      0,      0,      0,      0,      0, 159594]])\n",
      "Epoch end: Train, epoch number: 85\n",
      "TrainEpoch/CM\n",
      " tensor([[ 95509,   1230,  11879,  13745,    686,    816,     73,      0,   1732],\n",
      "        [   110, 174417,     43,      2,      0,     79,      6,     29,      0],\n",
      "        [  1894,   1913, 142279,  11449,    120,    410,   4364,      0,    755],\n",
      "        [  6933,   1310,  15385,  95749,   8988,    970,   5834,      0,   2130],\n",
      "        [   715,   1423,   2401,   1593, 125775,    541,      0,      0,   1824],\n",
      "        [   355,   2129,   6494,      0,      5, 128197,      0,      0,    113],\n",
      "        [  1955,   1284,  66889,  27947,   3561,   2744,  15021,      0,   1081],\n",
      "        [    23,    249,     18,    186,      0,      0,      0,  94201,      0],\n",
      "        [   761,     73,     95,      0,      0,      0,      0,      0, 159594]])\n"
     ]
    },
    {
     "data": {
      "application/vnd.jupyter.widget-view+json": {
       "model_id": "0ec51bc715714251aa0000daa7f26fe4",
       "version_major": 2,
       "version_minor": 0
      },
      "text/plain": [
       "Validation: |          | 0/? [00:00<?, ?it/s]"
      ]
     },
     "metadata": {},
     "output_type": "display_data"
    },
    {
     "name": "stdout",
     "output_type": "stream",
     "text": [
      "Epoch end: Validation, epoch number: 87\n",
      "ValidationEpoch/CM\n",
      " tensor([[ 96861,   1230,  11899,  13823,    686,    821,     78,      0,   1732],\n",
      "        [   110, 176447,     43,      2,      0,     79,      6,     29,      0],\n",
      "        [  1894,   1913, 143907,  11617,    120,    410,   4464,      0,    755],\n",
      "        [  6962,   1310,  15402,  97147,   9028,    970,   5945,      0,   2130],\n",
      "        [   720,   1423,   2419,   1613, 127292,    541,      0,      0,   1824],\n",
      "        [   355,   2129,   6499,      0,      5, 129787,      0,      0,    113],\n",
      "        [  1965,   1284,  67445,  28323,   3576,   2764,  15444,      0,   1081],\n",
      "        [    23,    249,     18,    186,      0,      0,      0,  95301,      0],\n",
      "        [   761,     73,     95,      0,      0,      0,      0,      0, 161459]])\n",
      "Epoch end: Train, epoch number: 86\n",
      "TrainEpoch/CM\n",
      " tensor([[ 96861,   1230,  11899,  13823,    686,    821,     78,      0,   1732],\n",
      "        [   110, 176447,     43,      2,      0,     79,      6,     29,      0],\n",
      "        [  1894,   1913, 143907,  11617,    120,    410,   4464,      0,    755],\n",
      "        [  6962,   1310,  15402,  97147,   9028,    970,   5945,      0,   2130],\n",
      "        [   720,   1423,   2419,   1613, 127292,    541,      0,      0,   1824],\n",
      "        [   355,   2129,   6499,      0,      5, 129787,      0,      0,    113],\n",
      "        [  1965,   1284,  67445,  28323,   3576,   2764,  15444,      0,   1081],\n",
      "        [    23,    249,     18,    186,      0,      0,      0,  95301,      0],\n",
      "        [   761,     73,     95,      0,      0,      0,      0,      0, 161459]])\n"
     ]
    },
    {
     "data": {
      "application/vnd.jupyter.widget-view+json": {
       "model_id": "856a24ce28344cf48620688a597a7d06",
       "version_major": 2,
       "version_minor": 0
      },
      "text/plain": [
       "Validation: |          | 0/? [00:00<?, ?it/s]"
      ]
     },
     "metadata": {},
     "output_type": "display_data"
    },
    {
     "name": "stdout",
     "output_type": "stream",
     "text": [
      "Epoch end: Validation, epoch number: 88\n",
      "ValidationEpoch/CM\n",
      " tensor([[ 98229,   1230,  11919,  13886,    686,    826,     82,      0,   1732],\n",
      "        [   110, 178477,     43,      2,      0,     79,      6,     29,      0],\n",
      "        [  1894,   1913, 145527,  11785,    120,    410,   4572,      0,    755],\n",
      "        [  6992,   1310,  15413,  98557,   9068,    970,   6049,      0,   2130],\n",
      "        [   725,   1423,   2438,   1634, 128807,    541,      0,      0,   1824],\n",
      "        [   355,   2129,   6504,      0,      5, 131377,      0,      0,    113],\n",
      "        [  1975,   1284,  67988,  28701,   3591,   2784,  15878,      0,   1081],\n",
      "        [    23,    249,     18,    186,      0,      0,      0,  96401,      0],\n",
      "        [   761,     73,     95,      0,      0,      0,      0,      0, 163324]])\n",
      "Epoch end: Train, epoch number: 87\n"
     ]
    },
    {
     "name": "stderr",
     "output_type": "stream",
     "text": [
      "Metric Validation/Accuracy improved by 0.002 >= min_delta = 0.0. New best score: 0.886\n"
     ]
    },
    {
     "name": "stdout",
     "output_type": "stream",
     "text": [
      "TrainEpoch/CM\n",
      " tensor([[ 98229,   1230,  11919,  13886,    686,    826,     82,      0,   1732],\n",
      "        [   110, 178477,     43,      2,      0,     79,      6,     29,      0],\n",
      "        [  1894,   1913, 145527,  11785,    120,    410,   4572,      0,    755],\n",
      "        [  6992,   1310,  15413,  98557,   9068,    970,   6049,      0,   2130],\n",
      "        [   725,   1423,   2438,   1634, 128807,    541,      0,      0,   1824],\n",
      "        [   355,   2129,   6504,      0,      5, 131377,      0,      0,    113],\n",
      "        [  1975,   1284,  67988,  28701,   3591,   2784,  15878,      0,   1081],\n",
      "        [    23,    249,     18,    186,      0,      0,      0,  96401,      0],\n",
      "        [   761,     73,     95,      0,      0,      0,      0,      0, 163324]])\n"
     ]
    },
    {
     "data": {
      "application/vnd.jupyter.widget-view+json": {
       "model_id": "f96a7b8697854181b1555d1873b6a91f",
       "version_major": 2,
       "version_minor": 0
      },
      "text/plain": [
       "Validation: |          | 0/? [00:00<?, ?it/s]"
      ]
     },
     "metadata": {},
     "output_type": "display_data"
    },
    {
     "name": "stdout",
     "output_type": "stream",
     "text": [
      "Epoch end: Validation, epoch number: 89\n",
      "ValidationEpoch/CM\n",
      " tensor([[ 99613,   1230,  11939,  13932,    686,    831,     87,      0,   1732],\n",
      "        [   110, 180507,     43,      2,      0,     79,      6,     29,      0],\n",
      "        [  1898,   1913, 147147,  11949,    120,    410,   4680,      0,    755],\n",
      "        [  7028,   1310,  15433,  99925,   9108,    970,   6180,      0,   2130],\n",
      "        [   730,   1423,   2455,   1654, 130325,    541,      0,      0,   1824],\n",
      "        [   355,   2129,   6509,      0,      5, 132967,      0,      0,    113],\n",
      "        [  1985,   1284,  68535,  29063,   3606,   2798,  16330,      0,   1081],\n",
      "        [    23,    249,     18,    186,      0,      0,      0,  97501,      0],\n",
      "        [   761,     73,     95,      0,      0,      0,      0,      0, 165189]])\n",
      "Epoch end: Train, epoch number: 88\n",
      "TrainEpoch/CM\n",
      " tensor([[ 99613,   1230,  11939,  13932,    686,    831,     87,      0,   1732],\n",
      "        [   110, 180507,     43,      2,      0,     79,      6,     29,      0],\n",
      "        [  1898,   1913, 147147,  11949,    120,    410,   4680,      0,    755],\n",
      "        [  7028,   1310,  15433,  99925,   9108,    970,   6180,      0,   2130],\n",
      "        [   730,   1423,   2455,   1654, 130325,    541,      0,      0,   1824],\n",
      "        [   355,   2129,   6509,      0,      5, 132967,      0,      0,    113],\n",
      "        [  1985,   1284,  68535,  29063,   3606,   2798,  16330,      0,   1081],\n",
      "        [    23,    249,     18,    186,      0,      0,      0,  97501,      0],\n",
      "        [   761,     73,     95,      0,      0,      0,      0,      0, 165189]])\n"
     ]
    },
    {
     "data": {
      "application/vnd.jupyter.widget-view+json": {
       "model_id": "47d6857b09254d20938c43a46a58447a",
       "version_major": 2,
       "version_minor": 0
      },
      "text/plain": [
       "Validation: |          | 0/? [00:00<?, ?it/s]"
      ]
     },
     "metadata": {},
     "output_type": "display_data"
    },
    {
     "name": "stdout",
     "output_type": "stream",
     "text": [
      "Epoch end: Validation, epoch number: 90\n",
      "ValidationEpoch/CM\n",
      " tensor([[100993,   1230,  11959,  13982,    686,    836,     92,      0,   1732],\n",
      "        [   110, 182537,     43,      2,      0,     79,      6,     29,      0],\n",
      "        [  1898,   1913, 148761,  12117,    120,    410,   4794,      0,    755],\n",
      "        [  7059,   1310,  15452, 101299,   9145,    970,   6314,      0,   2130],\n",
      "        [   735,   1423,   2475,   1674, 131840,    541,      0,      0,   1824],\n",
      "        [   355,   2129,   6514,      0,      5, 134557,      0,      0,    113],\n",
      "        [  1995,   1284,  69076,  29425,   3621,   2813,  16787,      0,   1081],\n",
      "        [    23,    249,     18,    186,      0,      0,      0,  98601,      0],\n",
      "        [   761,     73,     95,      0,      0,      0,      0,      0, 167054]])\n",
      "Epoch end: Train, epoch number: 89\n",
      "TrainEpoch/CM\n",
      " tensor([[100993,   1230,  11959,  13982,    686,    836,     92,      0,   1732],\n",
      "        [   110, 182537,     43,      2,      0,     79,      6,     29,      0],\n",
      "        [  1898,   1913, 148761,  12117,    120,    410,   4794,      0,    755],\n",
      "        [  7059,   1310,  15452, 101299,   9145,    970,   6314,      0,   2130],\n",
      "        [   735,   1423,   2475,   1674, 131840,    541,      0,      0,   1824],\n",
      "        [   355,   2129,   6514,      0,      5, 134557,      0,      0,    113],\n",
      "        [  1995,   1284,  69076,  29425,   3621,   2813,  16787,      0,   1081],\n",
      "        [    23,    249,     18,    186,      0,      0,      0,  98601,      0],\n",
      "        [   761,     73,     95,      0,      0,      0,      0,      0, 167054]])\n"
     ]
    },
    {
     "data": {
      "application/vnd.jupyter.widget-view+json": {
       "model_id": "043b3f9377d244398c58be22ad6d1e9e",
       "version_major": 2,
       "version_minor": 0
      },
      "text/plain": [
       "Validation: |          | 0/? [00:00<?, ?it/s]"
      ]
     },
     "metadata": {},
     "output_type": "display_data"
    },
    {
     "name": "stdout",
     "output_type": "stream",
     "text": [
      "Epoch end: Validation, epoch number: 91\n",
      "ValidationEpoch/CM\n",
      " tensor([[102378,   1230,  11979,  14031,    686,    841,     93,      0,   1732],\n",
      "        [   110, 184567,     43,      2,      0,     79,      6,     29,      0],\n",
      "        [  1898,   1913, 150374,  12285,    120,    410,   4909,      0,    755],\n",
      "        [  7091,   1310,  15472, 102675,   9181,    970,   6445,      0,   2130],\n",
      "        [   740,   1423,   2495,   1694, 133355,    541,      0,      0,   1824],\n",
      "        [   355,   2129,   6519,      0,      5, 136147,      0,      0,    113],\n",
      "        [  2005,   1284,  69616,  29788,   3636,   2829,  17243,      0,   1081],\n",
      "        [    23,    249,     18,    186,      0,      0,      0,  99701,      0],\n",
      "        [   761,     73,     95,      0,      0,      0,      0,      0, 168919]])\n",
      "Epoch end: Train, epoch number: 90\n",
      "TrainEpoch/CM\n",
      " tensor([[102378,   1230,  11979,  14031,    686,    841,     93,      0,   1732],\n",
      "        [   110, 184567,     43,      2,      0,     79,      6,     29,      0],\n",
      "        [  1898,   1913, 150374,  12285,    120,    410,   4909,      0,    755],\n",
      "        [  7091,   1310,  15472, 102675,   9181,    970,   6445,      0,   2130],\n",
      "        [   740,   1423,   2495,   1694, 133355,    541,      0,      0,   1824],\n",
      "        [   355,   2129,   6519,      0,      5, 136147,      0,      0,    113],\n",
      "        [  2005,   1284,  69616,  29788,   3636,   2829,  17243,      0,   1081],\n",
      "        [    23,    249,     18,    186,      0,      0,      0,  99701,      0],\n",
      "        [   761,     73,     95,      0,      0,      0,      0,      0, 168919]])\n"
     ]
    },
    {
     "data": {
      "application/vnd.jupyter.widget-view+json": {
       "model_id": "c53070ca19034037909dafaf71ef1c94",
       "version_major": 2,
       "version_minor": 0
      },
      "text/plain": [
       "Validation: |          | 0/? [00:00<?, ?it/s]"
      ]
     },
     "metadata": {},
     "output_type": "display_data"
    },
    {
     "name": "stdout",
     "output_type": "stream",
     "text": [
      "Epoch end: Validation, epoch number: 92\n",
      "ValidationEpoch/CM\n",
      " tensor([[103760,   1230,  11999,  14081,    686,    846,     96,      0,   1732],\n",
      "        [   110, 186597,     43,      2,      0,     79,      6,     29,      0],\n",
      "        [  1898,   1913, 151982,  12453,    120,    410,   5029,      0,    755],\n",
      "        [  7122,   1310,  15486, 104055,   9220,    970,   6576,      0,   2130],\n",
      "        [   745,   1423,   2510,   1714, 134875,    541,      0,      0,   1824],\n",
      "        [   355,   2129,   6524,      0,      5, 137737,      0,      0,    113],\n",
      "        [  2015,   1284,  70137,  30150,   3653,   2844,  17718,      0,   1081],\n",
      "        [    23,    249,     18,    186,      0,      0,      0, 100801,      0],\n",
      "        [   761,     73,     95,      0,      0,      0,      0,      0, 170784]])\n",
      "Epoch end: Train, epoch number: 91\n",
      "TrainEpoch/CM\n",
      " tensor([[103760,   1230,  11999,  14081,    686,    846,     96,      0,   1732],\n",
      "        [   110, 186597,     43,      2,      0,     79,      6,     29,      0],\n",
      "        [  1898,   1913, 151982,  12453,    120,    410,   5029,      0,    755],\n",
      "        [  7122,   1310,  15486, 104055,   9220,    970,   6576,      0,   2130],\n",
      "        [   745,   1423,   2510,   1714, 134875,    541,      0,      0,   1824],\n",
      "        [   355,   2129,   6524,      0,      5, 137737,      0,      0,    113],\n",
      "        [  2015,   1284,  70137,  30150,   3653,   2844,  17718,      0,   1081],\n",
      "        [    23,    249,     18,    186,      0,      0,      0, 100801,      0],\n",
      "        [   761,     73,     95,      0,      0,      0,      0,      0, 170784]])\n"
     ]
    },
    {
     "data": {
      "application/vnd.jupyter.widget-view+json": {
       "model_id": "c91db3e4f7914db5b850c3272e192ac5",
       "version_major": 2,
       "version_minor": 0
      },
      "text/plain": [
       "Validation: |          | 0/? [00:00<?, ?it/s]"
      ]
     },
     "metadata": {},
     "output_type": "display_data"
    },
    {
     "name": "stdout",
     "output_type": "stream",
     "text": [
      "Epoch end: Validation, epoch number: 93\n",
      "ValidationEpoch/CM\n",
      " tensor([[105144,   1230,  12019,  14131,    686,    851,     97,      0,   1732],\n",
      "        [   110, 188627,     43,      2,      0,     79,      6,     29,      0],\n",
      "        [  1898,   1913, 153607,  12621,    120,    410,   5132,      0,    755],\n",
      "        [  7152,   1310,  15503, 105443,   9255,    970,   6701,      0,   2130],\n",
      "        [   750,   1423,   2529,   1734, 136391,    541,      0,      0,   1824],\n",
      "        [   355,   2129,   6529,      0,      5, 139327,      0,      0,    113],\n",
      "        [  2025,   1284,  70678,  30516,   3668,   2859,  18171,      0,   1081],\n",
      "        [    23,    249,     18,    186,      0,      0,      0, 101901,      0],\n",
      "        [   761,     73,     95,      0,      0,      0,      0,      0, 172649]])\n"
     ]
    },
    {
     "name": "stderr",
     "output_type": "stream",
     "text": [
      "Monitored metric Validation/Accuracy did not improve in the last 5 records. Best score: 0.886. Signaling Trainer to stop.\n"
     ]
    },
    {
     "name": "stdout",
     "output_type": "stream",
     "text": [
      "Epoch end: Train, epoch number: 92\n",
      "TrainEpoch/CM\n",
      " tensor([[105144,   1230,  12019,  14131,    686,    851,     97,      0,   1732],\n",
      "        [   110, 188627,     43,      2,      0,     79,      6,     29,      0],\n",
      "        [  1898,   1913, 153607,  12621,    120,    410,   5132,      0,    755],\n",
      "        [  7152,   1310,  15503, 105443,   9255,    970,   6701,      0,   2130],\n",
      "        [   750,   1423,   2529,   1734, 136391,    541,      0,      0,   1824],\n",
      "        [   355,   2129,   6529,      0,      5, 139327,      0,      0,    113],\n",
      "        [  2025,   1284,  70678,  30516,   3668,   2859,  18171,      0,   1081],\n",
      "        [    23,    249,     18,    186,      0,      0,      0, 101901,      0],\n",
      "        [   761,     73,     95,      0,      0,      0,      0,      0, 172649]])\n"
     ]
    }
   ],
   "source": [
    "trainer.fit(model=model, train_dataloaders=train_dataloader, val_dataloaders=val_dataloader)"
   ]
  },
  {
   "cell_type": "code",
   "execution_count": 35,
   "metadata": {},
   "outputs": [
    {
     "name": "stderr",
     "output_type": "stream",
     "text": [
      "LOCAL_RANK: 0 - CUDA_VISIBLE_DEVICES: [0]\n"
     ]
    },
    {
     "name": "stdout",
     "output_type": "stream",
     "text": [
      "/home/<User>/repos/csg_is/training/official_logs/single-layer_30_from_weights_10s/version_0/checkpoints/epoch=87-step=2112.ckpt\n",
      "tensor(0.8863, device='cuda:0')\n"
     ]
    },
    {
     "data": {
      "application/vnd.jupyter.widget-view+json": {
       "model_id": "9583637346e84b1d86f76efe03f06d4e",
       "version_major": 2,
       "version_minor": 0
      },
      "text/plain": [
       "Testing: |          | 0/? [00:00<?, ?it/s]"
      ]
     },
     "metadata": {},
     "output_type": "display_data"
    },
    {
     "name": "stdout",
     "output_type": "stream",
     "text": [
      "Epoch end: Test, epoch number: 0\n",
      "TestEpoch/CM\n",
      " tensor([[320,   0,   3,  13,   0,   1,   0,   0,   0],\n",
      "        [  0, 349,   0,   0,   0,   0,   0,   0,   0],\n",
      "        [  0,   0, 321,  39,   0,   0,  16,   0,   0],\n",
      "        [  4,   0,   3, 297,   7,   0,  23,   0,   0],\n",
      "        [  1,   0,   3,   5, 292,   0,   0,   0,   0],\n",
      "        [  0,   0,   1,   0,   0, 353,   0,   0,   0],\n",
      "        [  1,   0,  99,  84,   2,   2,  84,   0,   0],\n",
      "        [  0,   0,   0,   0,   0,   0,   0, 202,   0],\n",
      "        [  0,   0,   0,   0,   0,   0,   0,   0, 376]])\n",
      "────────────────────────────────────────────────────────────────────────────────────────────────────────────────────────\n",
      "       Test metric             DataLoader 0\n",
      "────────────────────────────────────────────────────────────────────────────────────────────────────────────────────────\n",
      "      Test/Accuracy         0.8863093852996826\n",
      "      Test/F1Score          0.8797603845596313\n",
      "        Test/Loss           0.45410922169685364\n",
      "     Test/Precision         0.8959644436836243\n",
      "       Test/Recall          0.8863093852996826\n",
      "   TestEpoch/Accuracy       0.8853998184204102\n",
      "    TestEpoch/F1Score       0.8801164031028748\n",
      "   TestEpoch/Precision      0.8945320248603821\n",
      "    TestEpoch/Recall        0.8853998184204102\n",
      "────────────────────────────────────────────────────────────────────────────────────────────────────────────────────────\n"
     ]
    },
    {
     "data": {
      "text/plain": [
       "[{'Test/Loss': 0.45410922169685364,\n",
       "  'Test/Accuracy': 0.8863093852996826,\n",
       "  'Test/Precision': 0.8959644436836243,\n",
       "  'Test/Recall': 0.8863093852996826,\n",
       "  'Test/F1Score': 0.8797603845596313,\n",
       "  'TestEpoch/Accuracy': 0.8853998184204102,\n",
       "  'TestEpoch/Precision': 0.8945320248603821,\n",
       "  'TestEpoch/Recall': 0.8853998184204102,\n",
       "  'TestEpoch/F1Score': 0.8801164031028748}]"
      ]
     },
     "execution_count": 35,
     "metadata": {},
     "output_type": "execute_result"
    }
   ],
   "source": [
    "print(checkpoint_callback.best_model_path)   # prints path to the best model's checkpoint\n",
    "print(checkpoint_callback.best_model_score) # and prints it score\n",
    "best_model = MalwaresModelLinearLayer.load_from_checkpoint(checkpoint_callback.best_model_path, input_size = subset.shape[1]-1, output_size = len(label_encoder.classes_))\n",
    "\n",
    "trainer.test(best_model, dataloaders=val_dataloader)"
   ]
  },
  {
   "cell_type": "code",
   "execution_count": 36,
   "metadata": {},
   "outputs": [],
   "source": [
    "sys.path.append(str(repo_base_path  / \"training\"))"
   ]
  },
  {
   "cell_type": "code",
   "execution_count": 37,
   "metadata": {},
   "outputs": [
    {
     "name": "stderr",
     "output_type": "stream",
     "text": [
      "GPU available: True (cuda), used: True\n",
      "TPU available: False, using: 0 TPU cores\n",
      "IPU available: False, using: 0 IPUs\n",
      "HPU available: False, using: 0 HPUs\n"
     ]
    }
   ],
   "source": [
    "# tensorboard = pl_loggers.TensorBoardLogger('./')\n",
    "\n",
    "from mlp import MalwaresModelMLP\n",
    "\n",
    "# split into train and val\n",
    "train, val = train_test_split(subset, test_size=0.2, random_state=SEED)\n",
    "\n",
    "train_dataset = CustomeDataset(train)\n",
    "train_dataloader = DataLoader(train_dataset, batch_size=500, shuffle=True, num_workers=7)\n",
    "\n",
    "val_dataset = CustomeDataset(val)\n",
    "val_dataloader = DataLoader(val_dataset, batch_size=500, shuffle=False, num_workers=7)\n",
    "\n",
    "# trainer = lightning.Trainer(fast_dev_run=100)\n",
    "monitor = \"Validation/Accuracy\"\n",
    "early_stop_callback = EarlyStopping(monitor=monitor, patience=5, verbose=True, mode=\"max\")\n",
    "checkpoint_callback = ModelCheckpoint(save_top_k=1, monitor=monitor, mode=\"max\")\n",
    "\n",
    "tensorboard = pl_loggers.TensorBoardLogger(save_dir=LOG_PATH, name=LOG_NAME_EXPERIMENT_3)\n",
    "trainer = lightning.Trainer(max_epochs=150, callbacks=[early_stop_callback, checkpoint_callback], enable_checkpointing=True, logger=tensorboard) #logger=None, \n",
    "\n",
    "\n",
    "model = MalwaresModelMLP(input_size = subset.shape[1]-1, output_size = len(label_encoder.classes_), seed=SEED)\n",
    "\n",
    "torch.manual_seed(SEED)\n",
    "torch.cuda.manual_seed_all(SEED)\n"
   ]
  },
  {
   "cell_type": "code",
   "execution_count": 38,
   "metadata": {},
   "outputs": [
    {
     "name": "stderr",
     "output_type": "stream",
     "text": [
      "LOCAL_RANK: 0 - CUDA_VISIBLE_DEVICES: [0]\n",
      "\n",
      "  | Name          | Type                      | Params\n",
      "------------------------------------------------------------\n",
      "0 | train_metrics | MetricCollection          | 0     \n",
      "1 | val_metrics   | MetricCollection          | 0     \n",
      "2 | test_metrics  | MetricCollection          | 0     \n",
      "3 | cm            | MulticlassConfusionMatrix | 0     \n",
      "4 | criterion     | CrossEntropyLoss          | 0     \n",
      "5 | l1            | Linear                    | 840   \n",
      "6 | l2            | Linear                    | 930   \n",
      "7 | l3            | Linear                    | 279   \n",
      "------------------------------------------------------------\n",
      "2.0 K     Trainable params\n",
      "0         Non-trainable params\n",
      "2.0 K     Total params\n",
      "0.008     Total estimated model params size (MB)\n"
     ]
    },
    {
     "data": {
      "application/vnd.jupyter.widget-view+json": {
       "model_id": "d72c6df39e274b39b859bf238b7fc62a",
       "version_major": 2,
       "version_minor": 0
      },
      "text/plain": [
       "Sanity Checking: |          | 0/? [00:00<?, ?it/s]"
      ]
     },
     "metadata": {},
     "output_type": "display_data"
    },
    {
     "name": "stdout",
     "output_type": "stream",
     "text": [
      "Epoch end: Validation, epoch number: 0\n",
      "ValidationEpoch/CM\n",
      " tensor([[  0, 110,   0,   0,   0,   0,   0,   0,   0],\n",
      "        [  0, 106,   0,   0,   0,   0,   0,   0,   0],\n",
      "        [  0, 128,   0,   0,   0,   0,   0,   0,   0],\n",
      "        [  0, 129,   0,   0,   0,   0,   0,   0,   0],\n",
      "        [  0, 112,   0,   0,   0,   0,   0,   0,   0],\n",
      "        [  0, 123,   0,   0,   0,   0,   0,   0,   0],\n",
      "        [  0,  82,   0,   0,   0,   0,   0,   0,   0],\n",
      "        [  0,  77,   0,   0,   0,   0,   0,   0,   0],\n",
      "        [  0, 133,   0,   0,   0,   0,   0,   0,   0]])\n"
     ]
    },
    {
     "name": "stderr",
     "output_type": "stream",
     "text": [
      "/home/<User>/repos/csg_is/.venv/lib/python3.10/site-packages/lightning/pytorch/loops/fit_loop.py:298: The number of training batches (24) is smaller than the logging interval Trainer(log_every_n_steps=50). Set a lower value for log_every_n_steps if you want to see logs for the training epoch.\n"
     ]
    },
    {
     "data": {
      "application/vnd.jupyter.widget-view+json": {
       "model_id": "b23da1b83fbb49428000d747d9dcf286",
       "version_major": 2,
       "version_minor": 0
      },
      "text/plain": [
       "Training: |          | 0/? [00:00<?, ?it/s]"
      ]
     },
     "metadata": {},
     "output_type": "display_data"
    },
    {
     "data": {
      "application/vnd.jupyter.widget-view+json": {
       "model_id": "e1f13a9c89834d28b5af4a5b18c5e9a9",
       "version_major": 2,
       "version_minor": 0
      },
      "text/plain": [
       "Validation: |          | 0/? [00:00<?, ?it/s]"
      ]
     },
     "metadata": {},
     "output_type": "display_data"
    },
    {
     "name": "stdout",
     "output_type": "stream",
     "text": [
      "Epoch end: Validation, epoch number: 1\n",
      "ValidationEpoch/CM\n",
      " tensor([[   0,  517,  462,    0,    0,   16,    0,    0,  575],\n",
      "        [   0, 2136,    0,    0,    0,    0,    0,    0,    0],\n",
      "        [   0,  659,  583,    0,    0,   13,    0,    0,  769],\n",
      "        [   0,  567,  444,    0,    0,    5,    0,    0,  708],\n",
      "        [   0,  570,  416,    1,    0,   18,    0,    0,  667],\n",
      "        [   0,  724,   16,    0,    0,  666,    0,    0,  312],\n",
      "        [   0,  455,  402,    0,    0,   12,    0,    0,  613],\n",
      "        [   0,  563,    0,    0,    0,    0,    0,  614,    0],\n",
      "        [   0,  327,    3,    0,    0,    0,    0,    0, 1668]])\n"
     ]
    },
    {
     "name": "stderr",
     "output_type": "stream",
     "text": [
      "Metric Validation/Accuracy improved. New best score: 0.550\n"
     ]
    },
    {
     "name": "stdout",
     "output_type": "stream",
     "text": [
      "Epoch end: Train, epoch number: 0\n",
      "TrainEpoch/CM\n",
      " tensor([[   0,  517,  462,    0,    0,   16,    0,    0,  575],\n",
      "        [   0, 2136,    0,    0,    0,    0,    0,    0,    0],\n",
      "        [   0,  659,  583,    0,    0,   13,    0,    0,  769],\n",
      "        [   0,  567,  444,    0,    0,    5,    0,    0,  708],\n",
      "        [   0,  570,  416,    1,    0,   18,    0,    0,  667],\n",
      "        [   0,  724,   16,    0,    0,  666,    0,    0,  312],\n",
      "        [   0,  455,  402,    0,    0,   12,    0,    0,  613],\n",
      "        [   0,  563,    0,    0,    0,    0,    0,  614,    0],\n",
      "        [   0,  327,    3,    0,    0,    0,    0,    0, 1668]])\n"
     ]
    },
    {
     "data": {
      "application/vnd.jupyter.widget-view+json": {
       "model_id": "678018c8c0ea44298880b584c1f9ee40",
       "version_major": 2,
       "version_minor": 0
      },
      "text/plain": [
       "Validation: |          | 0/? [00:00<?, ?it/s]"
      ]
     },
     "metadata": {},
     "output_type": "display_data"
    },
    {
     "name": "stdout",
     "output_type": "stream",
     "text": [
      "Epoch end: Validation, epoch number: 2\n",
      "ValidationEpoch/CM\n",
      " tensor([[   0,  517, 1263,  205,  188,   42,  236,    0,  579],\n",
      "        [   0, 4165,    0,    0,    0,    1,    0,    0,    0],\n",
      "        [   1,  659, 2018,   85,  116,   94,  178,    0,  769],\n",
      "        [   2,  567, 1129,  289,  312,   35,  277,    0,  708],\n",
      "        [   0,  570,  997,  220,  672,   61,   45,    0,  667],\n",
      "        [   0,  724,   41,    0,    0, 2232,    4,    0,  312],\n",
      "        [   1,  455, 1242,  138,  173,   78,  182,    0,  613],\n",
      "        [   0,  563,    0,    0,    0,    0,    0, 1714,    0],\n",
      "        [   0,  327,    3,    0,    0,    0,    0,    0, 3533]])\n",
      "Epoch end: Train, epoch number: 1\n",
      "TrainEpoch/CM\n",
      " tensor([[   0,  517, 1263,  205,  188,   42,  236,    0,  579],\n",
      "        [   0, 4165,    0,    0,    0,    1,    0,    0,    0],\n",
      "        [   1,  659, 2018,   85,  116,   94,  178,    0,  769],\n",
      "        [   2,  567, 1129,  289,  312,   35,  277,    0,  708],\n",
      "        [   0,  570,  997,  220,  672,   61,   45,    0,  667],\n",
      "        [   0,  724,   41,    0,    0, 2232,    4,    0,  312],\n",
      "        [   1,  455, 1242,  138,  173,   78,  182,    0,  613],\n",
      "        [   0,  563,    0,    0,    0,    0,    0, 1714,    0],\n",
      "        [   0,  327,    3,    0,    0,    0,    0,    0, 3533]])\n"
     ]
    },
    {
     "name": "stderr",
     "output_type": "stream",
     "text": [
      "Metric Validation/Accuracy improved by 0.107 >= min_delta = 0.0. New best score: 0.657\n"
     ]
    },
    {
     "data": {
      "application/vnd.jupyter.widget-view+json": {
       "model_id": "164c6efbe49e4af49e8bbe8072220418",
       "version_major": 2,
       "version_minor": 0
      },
      "text/plain": [
       "Validation: |          | 0/? [00:00<?, ?it/s]"
      ]
     },
     "metadata": {},
     "output_type": "display_data"
    },
    {
     "name": "stdout",
     "output_type": "stream",
     "text": [
      "Epoch end: Validation, epoch number: 3\n",
      "ValidationEpoch/CM\n",
      " tensor([[ 247,  517, 1830,  685,  258,   47,  324,    0,  582],\n",
      "        [   0, 6195,    0,    0,    0,    1,    0,    0,    0],\n",
      "        [  60,  659, 3552,  244,  174,  117,  241,    0,  769],\n",
      "        [ 206,  567, 1578,  887,  542,   38,  388,    0,  708],\n",
      "        [   5,  570, 1135,  306, 1980,   74,   55,    0,  667],\n",
      "        [   0,  724,   75,    0,    0, 3793,    4,    0,  312],\n",
      "        [ 131,  455, 2010,  446,  277,  101,  249,    0,  613],\n",
      "        [   0,  563,    0,    0,    0,    0,    0, 2814,    0],\n",
      "        [   0,  327,    3,    0,    0,    0,    0,    0, 5398]])\n"
     ]
    },
    {
     "name": "stderr",
     "output_type": "stream",
     "text": [
      "Metric Validation/Accuracy improved by 0.053 >= min_delta = 0.0. New best score: 0.710\n"
     ]
    },
    {
     "name": "stdout",
     "output_type": "stream",
     "text": [
      "Epoch end: Train, epoch number: 2\n",
      "TrainEpoch/CM\n",
      " tensor([[ 247,  517, 1830,  685,  258,   47,  324,    0,  582],\n",
      "        [   0, 6195,    0,    0,    0,    1,    0,    0,    0],\n",
      "        [  60,  659, 3552,  244,  174,  117,  241,    0,  769],\n",
      "        [ 206,  567, 1578,  887,  542,   38,  388,    0,  708],\n",
      "        [   5,  570, 1135,  306, 1980,   74,   55,    0,  667],\n",
      "        [   0,  724,   75,    0,    0, 3793,    4,    0,  312],\n",
      "        [ 131,  455, 2010,  446,  277,  101,  249,    0,  613],\n",
      "        [   0,  563,    0,    0,    0,    0,    0, 2814,    0],\n",
      "        [   0,  327,    3,    0,    0,    0,    0,    0, 5398]])\n"
     ]
    },
    {
     "data": {
      "application/vnd.jupyter.widget-view+json": {
       "model_id": "5eccf6c2a45f4ea5aa9d5d080c0b951c",
       "version_major": 2,
       "version_minor": 0
      },
      "text/plain": [
       "Validation: |          | 0/? [00:00<?, ?it/s]"
      ]
     },
     "metadata": {},
     "output_type": "display_data"
    },
    {
     "name": "stdout",
     "output_type": "stream",
     "text": [
      "Epoch end: Validation, epoch number: 4\n",
      "ValidationEpoch/CM\n",
      " tensor([[1006,  517, 2087, 1046,  270,   47,  390,    0,  587],\n",
      "        [   0, 8222,    0,    0,    3,    1,    0,    0,    0],\n",
      "        [ 205,  659, 5140,  347,  187,  141,  264,    0,  769],\n",
      "        [ 690,  567, 1782, 1584,  642,   38,  498,    0,  708],\n",
      "        [   6,  570, 1159,  363, 3457,   74,   56,    0,  667],\n",
      "        [   0,  724,  110,    0,    0, 5348,    9,    0,  312],\n",
      "        [ 388,  455, 2699,  753,  327,  113,  334,    0,  613],\n",
      "        [   0,  563,    0,    0,    0,    0,    0, 3914,    0],\n",
      "        [   0,  327,    3,    0,    0,    0,    0,    0, 7263]])\n"
     ]
    },
    {
     "name": "stderr",
     "output_type": "stream",
     "text": [
      "Metric Validation/Accuracy improved by 0.066 >= min_delta = 0.0. New best score: 0.776\n"
     ]
    },
    {
     "name": "stdout",
     "output_type": "stream",
     "text": [
      "Epoch end: Train, epoch number: 3\n",
      "TrainEpoch/CM\n",
      " tensor([[1006,  517, 2087, 1046,  270,   47,  390,    0,  587],\n",
      "        [   0, 8222,    0,    0,    3,    1,    0,    0,    0],\n",
      "        [ 205,  659, 5140,  347,  187,  141,  264,    0,  769],\n",
      "        [ 690,  567, 1782, 1584,  642,   38,  498,    0,  708],\n",
      "        [   6,  570, 1159,  363, 3457,   74,   56,    0,  667],\n",
      "        [   0,  724,  110,    0,    0, 5348,    9,    0,  312],\n",
      "        [ 388,  455, 2699,  753,  327,  113,  334,    0,  613],\n",
      "        [   0,  563,    0,    0,    0,    0,    0, 3914,    0],\n",
      "        [   0,  327,    3,    0,    0,    0,    0,    0, 7263]])\n"
     ]
    },
    {
     "data": {
      "application/vnd.jupyter.widget-view+json": {
       "model_id": "24d1bd1db4194a27acb89dbe4fec9b89",
       "version_major": 2,
       "version_minor": 0
      },
      "text/plain": [
       "Validation: |          | 0/? [00:00<?, ?it/s]"
      ]
     },
     "metadata": {},
     "output_type": "display_data"
    },
    {
     "name": "stdout",
     "output_type": "stream",
     "text": [
      "Epoch end: Validation, epoch number: 5\n",
      "ValidationEpoch/CM\n",
      " tensor([[ 2016,   517,  2136,  1359,   274,    47,   469,     0,   592],\n",
      "        [    0, 10252,     0,     0,     3,     1,     0,     0,     0],\n",
      "        [  270,   659,  6752,   446,   187,   155,   370,     0,   769],\n",
      "        [ 1032,   567,  1839,  2599,   680,    38,   641,     0,   708],\n",
      "        [    6,   570,  1171,   401,  4965,    74,    58,     0,   667],\n",
      "        [    0,   724,   131,     0,     0,  6905,    26,     0,   312],\n",
      "        [  559,   455,  3377,  1095,   348,   125,   510,     0,   613],\n",
      "        [    0,   563,     0,     0,     0,     0,     0,  5014,     0],\n",
      "        [    0,   327,     3,     0,     0,     0,     0,     0,  9128]])\n"
     ]
    },
    {
     "name": "stderr",
     "output_type": "stream",
     "text": [
      "Metric Validation/Accuracy improved by 0.045 >= min_delta = 0.0. New best score: 0.820\n"
     ]
    },
    {
     "name": "stdout",
     "output_type": "stream",
     "text": [
      "Epoch end: Train, epoch number: 4\n",
      "TrainEpoch/CM\n",
      " tensor([[ 2016,   517,  2136,  1359,   274,    47,   469,     0,   592],\n",
      "        [    0, 10252,     0,     0,     3,     1,     0,     0,     0],\n",
      "        [  270,   659,  6752,   446,   187,   155,   370,     0,   769],\n",
      "        [ 1032,   567,  1839,  2599,   680,    38,   641,     0,   708],\n",
      "        [    6,   570,  1171,   401,  4965,    74,    58,     0,   667],\n",
      "        [    0,   724,   131,     0,     0,  6905,    26,     0,   312],\n",
      "        [  559,   455,  3377,  1095,   348,   125,   510,     0,   613],\n",
      "        [    0,   563,     0,     0,     0,     0,     0,  5014,     0],\n",
      "        [    0,   327,     3,     0,     0,     0,     0,     0,  9128]])\n"
     ]
    },
    {
     "data": {
      "application/vnd.jupyter.widget-view+json": {
       "model_id": "aea729917e834bf68627700262aa1356",
       "version_major": 2,
       "version_minor": 0
      },
      "text/plain": [
       "Validation: |          | 0/? [00:00<?, ?it/s]"
      ]
     },
     "metadata": {},
     "output_type": "display_data"
    },
    {
     "name": "stdout",
     "output_type": "stream",
     "text": [
      "Epoch end: Validation, epoch number: 6\n",
      "ValidationEpoch/CM\n",
      " tensor([[ 3236,   517,  2149,  1542,   274,    47,   508,     0,   597],\n",
      "        [    0, 12278,     0,     0,     4,     4,     0,     0,     0],\n",
      "        [  308,   659,  8316,   542,   187,   168,   555,     0,   769],\n",
      "        [ 1282,   567,  1865,  3766,   709,    38,   764,     0,   708],\n",
      "        [    6,   570,  1181,   428,  6486,    74,    60,     0,   667],\n",
      "        [    0,   728,   145,     1,     0,  8458,    49,     0,   312],\n",
      "        [  633,   455,  4046,  1501,   358,   137,   739,     0,   613],\n",
      "        [    0,   563,     0,     0,     0,     0,     0,  6114,     0],\n",
      "        [    0,   327,     3,     0,     0,     0,     0,     0, 10993]])\n",
      "Epoch end: Train, epoch number: 5\n"
     ]
    },
    {
     "name": "stderr",
     "output_type": "stream",
     "text": [
      "Metric Validation/Accuracy improved by 0.021 >= min_delta = 0.0. New best score: 0.842\n"
     ]
    },
    {
     "name": "stdout",
     "output_type": "stream",
     "text": [
      "TrainEpoch/CM\n",
      " tensor([[ 3236,   517,  2149,  1542,   274,    47,   508,     0,   597],\n",
      "        [    0, 12278,     0,     0,     4,     4,     0,     0,     0],\n",
      "        [  308,   659,  8316,   542,   187,   168,   555,     0,   769],\n",
      "        [ 1282,   567,  1865,  3766,   709,    38,   764,     0,   708],\n",
      "        [    6,   570,  1181,   428,  6486,    74,    60,     0,   667],\n",
      "        [    0,   728,   145,     1,     0,  8458,    49,     0,   312],\n",
      "        [  633,   455,  4046,  1501,   358,   137,   739,     0,   613],\n",
      "        [    0,   563,     0,     0,     0,     0,     0,  6114,     0],\n",
      "        [    0,   327,     3,     0,     0,     0,     0,     0, 10993]])\n"
     ]
    },
    {
     "data": {
      "application/vnd.jupyter.widget-view+json": {
       "model_id": "43da58b59d67495f81915a1162766822",
       "version_major": 2,
       "version_minor": 0
      },
      "text/plain": [
       "Validation: |          | 0/? [00:00<?, ?it/s]"
      ]
     },
     "metadata": {},
     "output_type": "display_data"
    },
    {
     "name": "stdout",
     "output_type": "stream",
     "text": [
      "Epoch end: Validation, epoch number: 7\n",
      "ValidationEpoch/CM\n",
      " tensor([[ 4589,   517,  2151,  1629,   274,    47,   521,     0,   602],\n",
      "        [    0, 14304,     0,     0,     4,     8,     0,     0,     0],\n",
      "        [  332,   659,  9832,   626,   187,   180,   815,     0,   769],\n",
      "        [ 1440,   567,  1879,  5018,   735,    38,   909,     0,   708],\n",
      "        [    6,   570,  1189,   452,  8007,    74,    67,     0,   667],\n",
      "        [    0,   733,   152,     2,     0, 10022,    67,     0,   312],\n",
      "        [  675,   455,  4661,  1875,   366,   148,  1089,     0,   613],\n",
      "        [    0,   563,     0,     0,     0,     0,     0,  7214,     0],\n",
      "        [    0,   329,     3,     0,     0,     0,     0,     0, 12856]])\n",
      "Epoch end: Train, epoch number: 6\n",
      "TrainEpoch/CM\n",
      " tensor([[ 4589,   517,  2151,  1629,   274,    47,   521,     0,   602],\n",
      "        [    0, 14304,     0,     0,     4,     8,     0,     0,     0],\n",
      "        [  332,   659,  9832,   626,   187,   180,   815,     0,   769],\n",
      "        [ 1440,   567,  1879,  5018,   735,    38,   909,     0,   708],\n",
      "        [    6,   570,  1189,   452,  8007,    74,    67,     0,   667],\n",
      "        [    0,   733,   152,     2,     0, 10022,    67,     0,   312],\n",
      "        [  675,   455,  4661,  1875,   366,   148,  1089,     0,   613],\n",
      "        [    0,   563,     0,     0,     0,     0,     0,  7214,     0],\n",
      "        [    0,   329,     3,     0,     0,     0,     0,     0, 12856]])\n"
     ]
    },
    {
     "name": "stderr",
     "output_type": "stream",
     "text": [
      "Metric Validation/Accuracy improved by 0.025 >= min_delta = 0.0. New best score: 0.866\n"
     ]
    },
    {
     "data": {
      "application/vnd.jupyter.widget-view+json": {
       "model_id": "8732296275c945dd9d9fbebc44858d62",
       "version_major": 2,
       "version_minor": 0
      },
      "text/plain": [
       "Validation: |          | 0/? [00:00<?, ?it/s]"
      ]
     },
     "metadata": {},
     "output_type": "display_data"
    },
    {
     "name": "stdout",
     "output_type": "stream",
     "text": [
      "Epoch end: Validation, epoch number: 8\n",
      "ValidationEpoch/CM\n",
      " tensor([[ 5983,   517,  2151,  1674,   274,    47,   537,     0,   607],\n",
      "        [    0, 16329,     0,     0,     5,    12,     0,     0,     0],\n",
      "        [  344,   659, 11340,   719,   187,   193,  1085,     0,   769],\n",
      "        [ 1537,   567,  1896,  6333,   760,    38,  1050,     0,   708],\n",
      "        [    6,   570,  1199,   481,  9524,    74,    71,     0,   667],\n",
      "        [    0,   738,   154,     2,     0, 11596,    81,     0,   312],\n",
      "        [  706,   455,  5270,  2238,   372,   156,  1472,     0,   613],\n",
      "        [    0,   563,     0,     0,     0,     0,     0,  8314,     0],\n",
      "        [    0,   329,     3,     0,     0,     0,     0,     0, 14721]])\n"
     ]
    },
    {
     "name": "stderr",
     "output_type": "stream",
     "text": [
      "Metric Validation/Accuracy improved by 0.006 >= min_delta = 0.0. New best score: 0.872\n"
     ]
    },
    {
     "name": "stdout",
     "output_type": "stream",
     "text": [
      "Epoch end: Train, epoch number: 7\n",
      "TrainEpoch/CM\n",
      " tensor([[ 5983,   517,  2151,  1674,   274,    47,   537,     0,   607],\n",
      "        [    0, 16329,     0,     0,     5,    12,     0,     0,     0],\n",
      "        [  344,   659, 11340,   719,   187,   193,  1085,     0,   769],\n",
      "        [ 1537,   567,  1896,  6333,   760,    38,  1050,     0,   708],\n",
      "        [    6,   570,  1199,   481,  9524,    74,    71,     0,   667],\n",
      "        [    0,   738,   154,     2,     0, 11596,    81,     0,   312],\n",
      "        [  706,   455,  5270,  2238,   372,   156,  1472,     0,   613],\n",
      "        [    0,   563,     0,     0,     0,     0,     0,  8314,     0],\n",
      "        [    0,   329,     3,     0,     0,     0,     0,     0, 14721]])\n"
     ]
    },
    {
     "data": {
      "application/vnd.jupyter.widget-view+json": {
       "model_id": "3badf1821c094d23a33e3716d99bce48",
       "version_major": 2,
       "version_minor": 0
      },
      "text/plain": [
       "Validation: |          | 0/? [00:00<?, ?it/s]"
      ]
     },
     "metadata": {},
     "output_type": "display_data"
    },
    {
     "name": "stdout",
     "output_type": "stream",
     "text": [
      "Epoch end: Validation, epoch number: 9\n",
      "ValidationEpoch/CM\n",
      " tensor([[ 7377,   517,  2153,  1715,   274,    47,   555,     0,   612],\n",
      "        [    0, 18356,     0,     0,     5,    15,     0,     0,     0],\n",
      "        [  350,   659, 12814,   793,   187,   203,  1417,     0,   769],\n",
      "        [ 1606,   567,  1908,  7653,   783,    38,  1221,     0,   708],\n",
      "        [    6,   570,  1207,   505, 11050,    74,    73,     0,   667],\n",
      "        [    0,   741,   154,     5,     0, 13176,    90,     0,   312],\n",
      "        [  736,   455,  5865,  2586,   378,   168,  1881,     0,   613],\n",
      "        [    0,   563,     0,     0,     0,     0,     0,  9414,     0],\n",
      "        [    0,   330,     3,     0,     0,     0,     0,     0, 16585]])\n"
     ]
    },
    {
     "name": "stderr",
     "output_type": "stream",
     "text": [
      "Metric Validation/Accuracy improved by 0.004 >= min_delta = 0.0. New best score: 0.876\n"
     ]
    },
    {
     "name": "stdout",
     "output_type": "stream",
     "text": [
      "Epoch end: Train, epoch number: 8\n",
      "TrainEpoch/CM\n",
      " tensor([[ 7377,   517,  2153,  1715,   274,    47,   555,     0,   612],\n",
      "        [    0, 18356,     0,     0,     5,    15,     0,     0,     0],\n",
      "        [  350,   659, 12814,   793,   187,   203,  1417,     0,   769],\n",
      "        [ 1606,   567,  1908,  7653,   783,    38,  1221,     0,   708],\n",
      "        [    6,   570,  1207,   505, 11050,    74,    73,     0,   667],\n",
      "        [    0,   741,   154,     5,     0, 13176,    90,     0,   312],\n",
      "        [  736,   455,  5865,  2586,   378,   168,  1881,     0,   613],\n",
      "        [    0,   563,     0,     0,     0,     0,     0,  9414,     0],\n",
      "        [    0,   330,     3,     0,     0,     0,     0,     0, 16585]])\n"
     ]
    },
    {
     "data": {
      "application/vnd.jupyter.widget-view+json": {
       "model_id": "fcc41656c9b74865848d854eab83d632",
       "version_major": 2,
       "version_minor": 0
      },
      "text/plain": [
       "Validation: |          | 0/? [00:00<?, ?it/s]"
      ]
     },
     "metadata": {},
     "output_type": "display_data"
    },
    {
     "name": "stdout",
     "output_type": "stream",
     "text": [
      "Epoch end: Validation, epoch number: 10\n",
      "ValidationEpoch/CM\n",
      " tensor([[ 8787,   517,  2157,  1741,   274,    47,   570,     0,   617],\n",
      "        [    0, 20385,     0,     0,     5,    16,     0,     0,     0],\n",
      "        [  351,   659, 14330,   869,   187,   208,  1715,     0,   769],\n",
      "        [ 1655,   567,  1926,  8991,   808,    38,  1386,     0,   708],\n",
      "        [    6,   570,  1213,   532, 12573,    74,    77,     0,   667],\n",
      "        [    0,   743,   155,     5,     0, 14763,    95,     0,   312],\n",
      "        [  757,   455,  6487,  2921,   385,   179,  2285,     0,   613],\n",
      "        [    0,   563,     0,     0,     0,     0,     0, 10514,     0],\n",
      "        [    0,   331,     3,     0,     0,     0,     0,     0, 18449]])\n",
      "Epoch end: Train, epoch number: 9\n",
      "TrainEpoch/CM\n",
      " tensor([[ 8787,   517,  2157,  1741,   274,    47,   570,     0,   617],\n",
      "        [    0, 20385,     0,     0,     5,    16,     0,     0,     0],\n",
      "        [  351,   659, 14330,   869,   187,   208,  1715,     0,   769],\n",
      "        [ 1655,   567,  1926,  8991,   808,    38,  1386,     0,   708],\n",
      "        [    6,   570,  1213,   532, 12573,    74,    77,     0,   667],\n",
      "        [    0,   743,   155,     5,     0, 14763,    95,     0,   312],\n",
      "        [  757,   455,  6487,  2921,   385,   179,  2285,     0,   613],\n",
      "        [    0,   563,     0,     0,     0,     0,     0, 10514,     0],\n",
      "        [    0,   331,     3,     0,     0,     0,     0,     0, 18449]])\n"
     ]
    },
    {
     "name": "stderr",
     "output_type": "stream",
     "text": [
      "Metric Validation/Accuracy improved by 0.002 >= min_delta = 0.0. New best score: 0.878\n"
     ]
    },
    {
     "data": {
      "application/vnd.jupyter.widget-view+json": {
       "model_id": "a370480d6ca141f4b95b372b82418fed",
       "version_major": 2,
       "version_minor": 0
      },
      "text/plain": [
       "Validation: |          | 0/? [00:00<?, ?it/s]"
      ]
     },
     "metadata": {},
     "output_type": "display_data"
    },
    {
     "name": "stdout",
     "output_type": "stream",
     "text": [
      "Epoch end: Validation, epoch number: 11\n",
      "ValidationEpoch/CM\n",
      " tensor([[10204,   517,  2159,  1764,   274,    47,   583,     0,   622],\n",
      "        [    0, 22415,     0,     0,     5,    16,     0,     0,     0],\n",
      "        [  355,   659, 15898,   929,   187,   212,  1975,     0,   769],\n",
      "        [ 1701,   567,  1941, 10327,   830,    38,  1562,     0,   708],\n",
      "        [    6,   570,  1220,   555, 14101,    74,    79,     0,   667],\n",
      "        [    0,   743,   155,     5,     0, 16352,   101,     0,   312],\n",
      "        [  775,   455,  7111,  3237,   392,   182,  2717,     0,   613],\n",
      "        [    0,   563,     0,     0,     0,     0,     0, 11614,     0],\n",
      "        [    0,   333,     3,     0,     0,     0,     0,     0, 20312]])\n",
      "Epoch end: Train, epoch number: 10\n",
      "TrainEpoch/CM\n",
      " tensor([[10204,   517,  2159,  1764,   274,    47,   583,     0,   622],\n",
      "        [    0, 22415,     0,     0,     5,    16,     0,     0,     0],\n",
      "        [  355,   659, 15898,   929,   187,   212,  1975,     0,   769],\n",
      "        [ 1701,   567,  1941, 10327,   830,    38,  1562,     0,   708],\n",
      "        [    6,   570,  1220,   555, 14101,    74,    79,     0,   667],\n",
      "        [    0,   743,   155,     5,     0, 16352,   101,     0,   312],\n",
      "        [  775,   455,  7111,  3237,   392,   182,  2717,     0,   613],\n",
      "        [    0,   563,     0,     0,     0,     0,     0, 11614,     0],\n",
      "        [    0,   333,     3,     0,     0,     0,     0,     0, 20312]])\n"
     ]
    },
    {
     "data": {
      "application/vnd.jupyter.widget-view+json": {
       "model_id": "8b2667962c6a4ea1a95a57fac17c2a61",
       "version_major": 2,
       "version_minor": 0
      },
      "text/plain": [
       "Validation: |          | 0/? [00:00<?, ?it/s]"
      ]
     },
     "metadata": {},
     "output_type": "display_data"
    },
    {
     "name": "stdout",
     "output_type": "stream",
     "text": [
      "Epoch end: Validation, epoch number: 12\n",
      "ValidationEpoch/CM\n",
      " tensor([[11617,   517,  2159,  1793,   274,    47,   597,     0,   626],\n",
      "        [    0, 24444,     0,     0,     5,    16,     0,     1,     0],\n",
      "        [  361,   659, 17445,  1005,   187,   218,  2236,     0,   769],\n",
      "        [ 1742,   567,  1953, 11713,   855,    38,  1693,     0,   708],\n",
      "        [    6,   570,  1229,   574, 15633,    74,    79,     0,   667],\n",
      "        [    0,   743,   155,     5,     0, 17942,   106,     0,   312],\n",
      "        [  788,   455,  7693,  3568,   398,   188,  3179,     0,   613],\n",
      "        [    0,   563,     0,     0,     0,     0,     0, 12714,     0],\n",
      "        [    0,   335,     3,     0,     0,     0,     0,     0, 22175]])\n",
      "Epoch end: Train, epoch number: 11\n",
      "TrainEpoch/CM\n",
      " tensor([[11617,   517,  2159,  1793,   274,    47,   597,     0,   626],\n",
      "        [    0, 24444,     0,     0,     5,    16,     0,     1,     0],\n",
      "        [  361,   659, 17445,  1005,   187,   218,  2236,     0,   769],\n",
      "        [ 1742,   567,  1953, 11713,   855,    38,  1693,     0,   708],\n",
      "        [    6,   570,  1229,   574, 15633,    74,    79,     0,   667],\n",
      "        [    0,   743,   155,     5,     0, 17942,   106,     0,   312],\n",
      "        [  788,   455,  7693,  3568,   398,   188,  3179,     0,   613],\n",
      "        [    0,   563,     0,     0,     0,     0,     0, 12714,     0],\n",
      "        [    0,   335,     3,     0,     0,     0,     0,     0, 22175]])\n"
     ]
    },
    {
     "name": "stderr",
     "output_type": "stream",
     "text": [
      "Metric Validation/Accuracy improved by 0.004 >= min_delta = 0.0. New best score: 0.883\n"
     ]
    },
    {
     "data": {
      "application/vnd.jupyter.widget-view+json": {
       "model_id": "96a23e818ecd403cbf6b481496fcdbfa",
       "version_major": 2,
       "version_minor": 0
      },
      "text/plain": [
       "Validation: |          | 0/? [00:00<?, ?it/s]"
      ]
     },
     "metadata": {},
     "output_type": "display_data"
    },
    {
     "name": "stdout",
     "output_type": "stream",
     "text": [
      "Epoch end: Validation, epoch number: 13\n",
      "ValidationEpoch/CM\n",
      " tensor([[13027,   517,  2160,  1825,   274,    47,   609,     0,   631],\n",
      "        [    0, 26474,     0,     0,     5,    16,     0,     1,     0],\n",
      "        [  363,   659, 18981,  1083,   187,   221,  2513,     0,   769],\n",
      "        [ 1773,   567,  1965, 13139,   878,    38,  1796,     0,   708],\n",
      "        [    6,   570,  1232,   591, 17168,    74,    84,     0,   667],\n",
      "        [    0,   743,   155,     5,     0, 19530,   113,     0,   312],\n",
      "        [  800,   455,  8249,  3924,   404,   192,  3645,     0,   613],\n",
      "        [    0,   563,     0,     0,     0,     0,     0, 13814,     0],\n",
      "        [    0,   335,     3,     0,     0,     0,     0,     0, 24040]])\n"
     ]
    },
    {
     "name": "stderr",
     "output_type": "stream",
     "text": [
      "Metric Validation/Accuracy improved by 0.004 >= min_delta = 0.0. New best score: 0.886\n"
     ]
    },
    {
     "name": "stdout",
     "output_type": "stream",
     "text": [
      "Epoch end: Train, epoch number: 12\n",
      "TrainEpoch/CM\n",
      " tensor([[13027,   517,  2160,  1825,   274,    47,   609,     0,   631],\n",
      "        [    0, 26474,     0,     0,     5,    16,     0,     1,     0],\n",
      "        [  363,   659, 18981,  1083,   187,   221,  2513,     0,   769],\n",
      "        [ 1773,   567,  1965, 13139,   878,    38,  1796,     0,   708],\n",
      "        [    6,   570,  1232,   591, 17168,    74,    84,     0,   667],\n",
      "        [    0,   743,   155,     5,     0, 19530,   113,     0,   312],\n",
      "        [  800,   455,  8249,  3924,   404,   192,  3645,     0,   613],\n",
      "        [    0,   563,     0,     0,     0,     0,     0, 13814,     0],\n",
      "        [    0,   335,     3,     0,     0,     0,     0,     0, 24040]])\n"
     ]
    },
    {
     "data": {
      "application/vnd.jupyter.widget-view+json": {
       "model_id": "688c77f53e4e4f029170574ac7345e2d",
       "version_major": 2,
       "version_minor": 0
      },
      "text/plain": [
       "Validation: |          | 0/? [00:00<?, ?it/s]"
      ]
     },
     "metadata": {},
     "output_type": "display_data"
    },
    {
     "name": "stdout",
     "output_type": "stream",
     "text": [
      "Epoch end: Validation, epoch number: 14\n",
      "ValidationEpoch/CM\n",
      " tensor([[14453,   517,  2160,  1847,   274,    47,   620,     0,   632],\n",
      "        [    0, 28504,     0,     0,     5,    16,     0,     1,     0],\n",
      "        [  365,   659, 20537,  1156,   187,   225,  2774,     0,   769],\n",
      "        [ 1801,   567,  1978, 14560,   897,    38,  1910,     0,   708],\n",
      "        [    6,   570,  1241,   606, 18703,    74,    85,     0,   667],\n",
      "        [    0,   743,   155,     5,     0, 21119,   119,     0,   312],\n",
      "        [  810,   455,  8818,  4264,   409,   199,  4114,     0,   613],\n",
      "        [    0,   563,     0,     0,     0,     0,     0, 14914,     0],\n",
      "        [    1,   335,     3,     0,     0,     0,     0,     0, 25904]])\n",
      "Epoch end: Train, epoch number: 13\n",
      "TrainEpoch/CM\n",
      " tensor([[14453,   517,  2160,  1847,   274,    47,   620,     0,   632],\n",
      "        [    0, 28504,     0,     0,     5,    16,     0,     1,     0],\n",
      "        [  365,   659, 20537,  1156,   187,   225,  2774,     0,   769],\n",
      "        [ 1801,   567,  1978, 14560,   897,    38,  1910,     0,   708],\n",
      "        [    6,   570,  1241,   606, 18703,    74,    85,     0,   667],\n",
      "        [    0,   743,   155,     5,     0, 21119,   119,     0,   312],\n",
      "        [  810,   455,  8818,  4264,   409,   199,  4114,     0,   613],\n",
      "        [    0,   563,     0,     0,     0,     0,     0, 14914,     0],\n",
      "        [    1,   335,     3,     0,     0,     0,     0,     0, 25904]])\n"
     ]
    },
    {
     "name": "stderr",
     "output_type": "stream",
     "text": [
      "Metric Validation/Accuracy improved by 0.001 >= min_delta = 0.0. New best score: 0.887\n"
     ]
    },
    {
     "data": {
      "application/vnd.jupyter.widget-view+json": {
       "model_id": "7ee8b8a5e81b4f32b8f8410750bc2220",
       "version_major": 2,
       "version_minor": 0
      },
      "text/plain": [
       "Validation: |          | 0/? [00:00<?, ?it/s]"
      ]
     },
     "metadata": {},
     "output_type": "display_data"
    },
    {
     "name": "stdout",
     "output_type": "stream",
     "text": [
      "Epoch end: Validation, epoch number: 15\n",
      "ValidationEpoch/CM\n",
      " tensor([[15882,   517,  2160,  1865,   274,    47,   630,     0,   635],\n",
      "        [    0, 30534,     0,     0,     5,    16,     0,     1,     0],\n",
      "        [  366,   659, 22100,  1212,   187,   225,  3050,     0,   769],\n",
      "        [ 1826,   567,  1991, 15991,   917,    38,  2016,     0,   708],\n",
      "        [    6,   570,  1249,   624, 20237,    74,    85,     0,   667],\n",
      "        [    0,   743,   155,     5,     0, 22709,   124,     0,   312],\n",
      "        [  822,   455,  9352,  4584,   419,   200,  4637,     0,   613],\n",
      "        [    0,   563,     0,     0,     0,     0,     0, 16014,     0],\n",
      "        [    1,   335,     3,     0,     0,     0,     0,     0, 27769]])\n"
     ]
    },
    {
     "name": "stderr",
     "output_type": "stream",
     "text": [
      "Metric Validation/Accuracy improved by 0.007 >= min_delta = 0.0. New best score: 0.894\n"
     ]
    },
    {
     "name": "stdout",
     "output_type": "stream",
     "text": [
      "Epoch end: Train, epoch number: 14\n",
      "TrainEpoch/CM\n",
      " tensor([[15882,   517,  2160,  1865,   274,    47,   630,     0,   635],\n",
      "        [    0, 30534,     0,     0,     5,    16,     0,     1,     0],\n",
      "        [  366,   659, 22100,  1212,   187,   225,  3050,     0,   769],\n",
      "        [ 1826,   567,  1991, 15991,   917,    38,  2016,     0,   708],\n",
      "        [    6,   570,  1249,   624, 20237,    74,    85,     0,   667],\n",
      "        [    0,   743,   155,     5,     0, 22709,   124,     0,   312],\n",
      "        [  822,   455,  9352,  4584,   419,   200,  4637,     0,   613],\n",
      "        [    0,   563,     0,     0,     0,     0,     0, 16014,     0],\n",
      "        [    1,   335,     3,     0,     0,     0,     0,     0, 27769]])\n"
     ]
    },
    {
     "data": {
      "application/vnd.jupyter.widget-view+json": {
       "model_id": "326d5f9fa0f14cd48f7eab10c122b0de",
       "version_major": 2,
       "version_minor": 0
      },
      "text/plain": [
       "Validation: |          | 0/? [00:00<?, ?it/s]"
      ]
     },
     "metadata": {},
     "output_type": "display_data"
    },
    {
     "name": "stdout",
     "output_type": "stream",
     "text": [
      "Epoch end: Validation, epoch number: 16\n",
      "ValidationEpoch/CM\n",
      " tensor([[17323,   517,  2161,  1877,   274,    47,   635,     0,   636],\n",
      "        [    0, 32564,     0,     0,     5,    16,     0,     1,     0],\n",
      "        [  366,   659, 23654,  1264,   187,   225,  3340,     0,   769],\n",
      "        [ 1856,   567,  1999, 17406,   936,    38,  2139,     0,   708],\n",
      "        [    6,   570,  1254,   639, 21774,    74,    88,     0,   667],\n",
      "        [    0,   743,   155,     5,     0, 24299,   129,     0,   312],\n",
      "        [  834,   455,  9875,  4895,   426,   200,  5184,     0,   613],\n",
      "        [    0,   563,     0,     0,     0,     0,     0, 17114,     0],\n",
      "        [    1,   336,     3,     0,     0,     0,     0,     0, 29633]])\n"
     ]
    },
    {
     "name": "stderr",
     "output_type": "stream",
     "text": [
      "Metric Validation/Accuracy improved by 0.002 >= min_delta = 0.0. New best score: 0.896\n"
     ]
    },
    {
     "name": "stdout",
     "output_type": "stream",
     "text": [
      "Epoch end: Train, epoch number: 15\n",
      "TrainEpoch/CM\n",
      " tensor([[17323,   517,  2161,  1877,   274,    47,   635,     0,   636],\n",
      "        [    0, 32564,     0,     0,     5,    16,     0,     1,     0],\n",
      "        [  366,   659, 23654,  1264,   187,   225,  3340,     0,   769],\n",
      "        [ 1856,   567,  1999, 17406,   936,    38,  2139,     0,   708],\n",
      "        [    6,   570,  1254,   639, 21774,    74,    88,     0,   667],\n",
      "        [    0,   743,   155,     5,     0, 24299,   129,     0,   312],\n",
      "        [  834,   455,  9875,  4895,   426,   200,  5184,     0,   613],\n",
      "        [    0,   563,     0,     0,     0,     0,     0, 17114,     0],\n",
      "        [    1,   336,     3,     0,     0,     0,     0,     0, 29633]])\n"
     ]
    },
    {
     "data": {
      "application/vnd.jupyter.widget-view+json": {
       "model_id": "fdfa21064f444b319545c6bab4cf86e9",
       "version_major": 2,
       "version_minor": 0
      },
      "text/plain": [
       "Validation: |          | 0/? [00:00<?, ?it/s]"
      ]
     },
     "metadata": {},
     "output_type": "display_data"
    },
    {
     "name": "stdout",
     "output_type": "stream",
     "text": [
      "Epoch end: Validation, epoch number: 17\n",
      "ValidationEpoch/CM\n",
      " tensor([[18748,   517,  2161,  1898,   274,    48,   645,     0,   639],\n",
      "        [    1, 34593,     0,     0,     5,    16,     0,     1,     0],\n",
      "        [  368,   659, 25223,  1316,   187,   225,  3613,     0,   769],\n",
      "        [ 1873,   567,  2015, 18820,   953,    38,  2270,     0,   708],\n",
      "        [    6,   570,  1259,   651, 23317,    74,    88,     0,   667],\n",
      "        [    0,   743,   155,     5,     0, 25886,   137,     0,   312],\n",
      "        [  844,   455, 10418,  5185,   434,   207,  5726,     0,   613],\n",
      "        [    0,   563,     0,     0,     0,     0,     0, 18214,     0],\n",
      "        [    1,   337,     3,     0,     0,     0,     0,     0, 31497]])\n",
      "Epoch end: Train, epoch number: 16\n",
      "TrainEpoch/CM\n",
      " tensor([[18748,   517,  2161,  1898,   274,    48,   645,     0,   639],\n",
      "        [    1, 34593,     0,     0,     5,    16,     0,     1,     0],\n",
      "        [  368,   659, 25223,  1316,   187,   225,  3613,     0,   769],\n",
      "        [ 1873,   567,  2015, 18820,   953,    38,  2270,     0,   708],\n",
      "        [    6,   570,  1259,   651, 23317,    74,    88,     0,   667],\n",
      "        [    0,   743,   155,     5,     0, 25886,   137,     0,   312],\n",
      "        [  844,   455, 10418,  5185,   434,   207,  5726,     0,   613],\n",
      "        [    0,   563,     0,     0,     0,     0,     0, 18214,     0],\n",
      "        [    1,   337,     3,     0,     0,     0,     0,     0, 31497]])\n"
     ]
    },
    {
     "name": "stderr",
     "output_type": "stream",
     "text": [
      "Metric Validation/Accuracy improved by 0.001 >= min_delta = 0.0. New best score: 0.898\n"
     ]
    },
    {
     "data": {
      "application/vnd.jupyter.widget-view+json": {
       "model_id": "5fbbf505d10341ef86a4331f557386cd",
       "version_major": 2,
       "version_minor": 0
      },
      "text/plain": [
       "Validation: |          | 0/? [00:00<?, ?it/s]"
      ]
     },
     "metadata": {},
     "output_type": "display_data"
    },
    {
     "name": "stdout",
     "output_type": "stream",
     "text": [
      "Epoch end: Validation, epoch number: 18\n",
      "ValidationEpoch/CM\n",
      " tensor([[20191,   517,  2162,  1910,   274,    48,   648,     0,   640],\n",
      "        [    1, 36623,     0,     0,     5,    16,     0,     1,     0],\n",
      "        [  370,   659, 26695,  1368,   187,   225,  3983,     0,   769],\n",
      "        [ 1893,   567,  2025, 20255,   968,    38,  2385,     0,   708],\n",
      "        [    6,   570,  1264,   664, 24859,    74,    88,     0,   667],\n",
      "        [    0,   743,   155,     5,     0, 27477,   141,     0,   312],\n",
      "        [  857,   455, 10915,  5482,   442,   215,  6303,     0,   613],\n",
      "        [    0,   563,     0,     0,     0,     0,     0, 19314,     0],\n",
      "        [    1,   338,     3,     0,     0,     0,     0,     0, 33361]])\n",
      "Epoch end: Train, epoch number: 17\n",
      "TrainEpoch/CM\n",
      " tensor([[20191,   517,  2162,  1910,   274,    48,   648,     0,   640],\n",
      "        [    1, 36623,     0,     0,     5,    16,     0,     1,     0],\n",
      "        [  370,   659, 26695,  1368,   187,   225,  3983,     0,   769],\n",
      "        [ 1893,   567,  2025, 20255,   968,    38,  2385,     0,   708],\n",
      "        [    6,   570,  1264,   664, 24859,    74,    88,     0,   667],\n",
      "        [    0,   743,   155,     5,     0, 27477,   141,     0,   312],\n",
      "        [  857,   455, 10915,  5482,   442,   215,  6303,     0,   613],\n",
      "        [    0,   563,     0,     0,     0,     0,     0, 19314,     0],\n",
      "        [    1,   338,     3,     0,     0,     0,     0,     0, 33361]])\n"
     ]
    },
    {
     "data": {
      "application/vnd.jupyter.widget-view+json": {
       "model_id": "2d8dff031fb441779a21d6f36e17e8e6",
       "version_major": 2,
       "version_minor": 0
      },
      "text/plain": [
       "Validation: |          | 0/? [00:00<?, ?it/s]"
      ]
     },
     "metadata": {},
     "output_type": "display_data"
    },
    {
     "name": "stdout",
     "output_type": "stream",
     "text": [
      "Epoch end: Validation, epoch number: 19\n",
      "ValidationEpoch/CM\n",
      " tensor([[21629,   517,  2162,  1921,   274,    51,   654,     0,   642],\n",
      "        [    1, 38653,     0,     0,     5,    16,     0,     1,     0],\n",
      "        [  371,   659, 28226,  1409,   187,   225,  4306,     0,   769],\n",
      "        [ 1907,   567,  2035, 21640,   985,    38,  2554,     0,   708],\n",
      "        [    6,   570,  1268,   674, 26405,    74,    88,     0,   667],\n",
      "        [    0,   743,   156,     5,     0, 29069,   143,     0,   312],\n",
      "        [  865,   455, 11426,  5758,   449,   220,  6896,     0,   613],\n",
      "        [    0,   563,     0,     0,     0,     0,     0, 20414,     0],\n",
      "        [    1,   338,     3,     0,     0,     0,     0,     0, 35226]])\n"
     ]
    },
    {
     "name": "stderr",
     "output_type": "stream",
     "text": [
      "Metric Validation/Accuracy improved by 0.000 >= min_delta = 0.0. New best score: 0.898\n"
     ]
    },
    {
     "name": "stdout",
     "output_type": "stream",
     "text": [
      "Epoch end: Train, epoch number: 18\n",
      "TrainEpoch/CM\n",
      " tensor([[21629,   517,  2162,  1921,   274,    51,   654,     0,   642],\n",
      "        [    1, 38653,     0,     0,     5,    16,     0,     1,     0],\n",
      "        [  371,   659, 28226,  1409,   187,   225,  4306,     0,   769],\n",
      "        [ 1907,   567,  2035, 21640,   985,    38,  2554,     0,   708],\n",
      "        [    6,   570,  1268,   674, 26405,    74,    88,     0,   667],\n",
      "        [    0,   743,   156,     5,     0, 29069,   143,     0,   312],\n",
      "        [  865,   455, 11426,  5758,   449,   220,  6896,     0,   613],\n",
      "        [    0,   563,     0,     0,     0,     0,     0, 20414,     0],\n",
      "        [    1,   338,     3,     0,     0,     0,     0,     0, 35226]])\n"
     ]
    },
    {
     "data": {
      "application/vnd.jupyter.widget-view+json": {
       "model_id": "03d9feeb477e42edbd108d487f31fc73",
       "version_major": 2,
       "version_minor": 0
      },
      "text/plain": [
       "Validation: |          | 0/? [00:00<?, ?it/s]"
      ]
     },
     "metadata": {},
     "output_type": "display_data"
    },
    {
     "name": "stdout",
     "output_type": "stream",
     "text": [
      "Epoch end: Validation, epoch number: 20\n",
      "ValidationEpoch/CM\n",
      " tensor([[23066,   517,  2162,  1932,   274,    53,   663,     0,   643],\n",
      "        [    1, 40683,     0,     0,     5,    16,     0,     1,     0],\n",
      "        [  372,   659, 29764,  1459,   187,   225,  4613,     0,   769],\n",
      "        [ 1920,   567,  2047, 23055,  1003,    38,  2691,     0,   708],\n",
      "        [    6,   570,  1271,   686, 27949,    74,    89,     0,   667],\n",
      "        [    0,   743,   156,     5,     0, 30659,   148,     0,   312],\n",
      "        [  872,   455, 11930,  6028,   460,   223,  7501,     0,   613],\n",
      "        [    0,   563,     0,     0,     0,     0,     0, 21514,     0],\n",
      "        [    1,   338,     3,     0,     0,     0,     0,     0, 37091]])\n"
     ]
    },
    {
     "name": "stderr",
     "output_type": "stream",
     "text": [
      "Metric Validation/Accuracy improved by 0.006 >= min_delta = 0.0. New best score: 0.904\n"
     ]
    },
    {
     "name": "stdout",
     "output_type": "stream",
     "text": [
      "Epoch end: Train, epoch number: 19\n",
      "TrainEpoch/CM\n",
      " tensor([[23066,   517,  2162,  1932,   274,    53,   663,     0,   643],\n",
      "        [    1, 40683,     0,     0,     5,    16,     0,     1,     0],\n",
      "        [  372,   659, 29764,  1459,   187,   225,  4613,     0,   769],\n",
      "        [ 1920,   567,  2047, 23055,  1003,    38,  2691,     0,   708],\n",
      "        [    6,   570,  1271,   686, 27949,    74,    89,     0,   667],\n",
      "        [    0,   743,   156,     5,     0, 30659,   148,     0,   312],\n",
      "        [  872,   455, 11930,  6028,   460,   223,  7501,     0,   613],\n",
      "        [    0,   563,     0,     0,     0,     0,     0, 21514,     0],\n",
      "        [    1,   338,     3,     0,     0,     0,     0,     0, 37091]])\n"
     ]
    },
    {
     "data": {
      "application/vnd.jupyter.widget-view+json": {
       "model_id": "40a73fd7526b4e099e96249282bd5b94",
       "version_major": 2,
       "version_minor": 0
      },
      "text/plain": [
       "Validation: |          | 0/? [00:00<?, ?it/s]"
      ]
     },
     "metadata": {},
     "output_type": "display_data"
    },
    {
     "name": "stdout",
     "output_type": "stream",
     "text": [
      "Epoch end: Validation, epoch number: 21\n",
      "ValidationEpoch/CM\n",
      " tensor([[24499,   517,  2162,  1953,   274,    53,   669,     0,   643],\n",
      "        [    1, 42713,     0,     0,     5,    16,     0,     1,     0],\n",
      "        [  374,   659, 31330,  1506,   187,   226,  4893,     0,   769],\n",
      "        [ 1939,   567,  2061, 24444,  1016,    38,  2851,     0,   708],\n",
      "        [    6,   570,  1276,   701, 29488,    74,    90,     0,   667],\n",
      "        [    0,   743,   156,     5,     0, 32249,   153,     0,   312],\n",
      "        [  885,   455, 12436,  6283,   469,   228,  8113,     0,   613],\n",
      "        [    0,   563,     0,     0,     0,     0,     0, 22614,     0],\n",
      "        [    1,   338,     3,     0,     0,     0,     0,     0, 38956]])\n",
      "Epoch end: Train, epoch number: 20\n",
      "TrainEpoch/CM\n",
      " tensor([[24499,   517,  2162,  1953,   274,    53,   669,     0,   643],\n",
      "        [    1, 42713,     0,     0,     5,    16,     0,     1,     0],\n",
      "        [  374,   659, 31330,  1506,   187,   226,  4893,     0,   769],\n",
      "        [ 1939,   567,  2061, 24444,  1016,    38,  2851,     0,   708],\n",
      "        [    6,   570,  1276,   701, 29488,    74,    90,     0,   667],\n",
      "        [    0,   743,   156,     5,     0, 32249,   153,     0,   312],\n",
      "        [  885,   455, 12436,  6283,   469,   228,  8113,     0,   613],\n",
      "        [    0,   563,     0,     0,     0,     0,     0, 22614,     0],\n",
      "        [    1,   338,     3,     0,     0,     0,     0,     0, 38956]])\n"
     ]
    },
    {
     "data": {
      "application/vnd.jupyter.widget-view+json": {
       "model_id": "8699a972a51643cca91f95ea09df35ea",
       "version_major": 2,
       "version_minor": 0
      },
      "text/plain": [
       "Validation: |          | 0/? [00:00<?, ?it/s]"
      ]
     },
     "metadata": {},
     "output_type": "display_data"
    },
    {
     "name": "stdout",
     "output_type": "stream",
     "text": [
      "Epoch end: Validation, epoch number: 22\n",
      "ValidationEpoch/CM\n",
      " tensor([[25942,   517,  2163,  1965,   274,    54,   672,     0,   643],\n",
      "        [    1, 44743,     0,     0,     5,    16,     0,     1,     0],\n",
      "        [  374,   659, 32911,  1548,   187,   226,  5166,     0,   769],\n",
      "        [ 1965,   567,  2074, 25865,  1028,    38,  2974,     0,   708],\n",
      "        [    6,   570,  1277,   715, 31031,    74,    92,     0,   667],\n",
      "        [    0,   743,   156,     5,     0, 33839,   158,     0,   312],\n",
      "        [  898,   455, 12917,  6541,   472,   233,  8753,     0,   613],\n",
      "        [    0,   563,     0,     0,     0,     0,     0, 23714,     0],\n",
      "        [    1,   338,     3,     0,     0,     0,     0,     0, 40821]])\n"
     ]
    },
    {
     "name": "stderr",
     "output_type": "stream",
     "text": [
      "Metric Validation/Accuracy improved by 0.002 >= min_delta = 0.0. New best score: 0.906\n"
     ]
    },
    {
     "name": "stdout",
     "output_type": "stream",
     "text": [
      "Epoch end: Train, epoch number: 21\n",
      "TrainEpoch/CM\n",
      " tensor([[25942,   517,  2163,  1965,   274,    54,   672,     0,   643],\n",
      "        [    1, 44743,     0,     0,     5,    16,     0,     1,     0],\n",
      "        [  374,   659, 32911,  1548,   187,   226,  5166,     0,   769],\n",
      "        [ 1965,   567,  2074, 25865,  1028,    38,  2974,     0,   708],\n",
      "        [    6,   570,  1277,   715, 31031,    74,    92,     0,   667],\n",
      "        [    0,   743,   156,     5,     0, 33839,   158,     0,   312],\n",
      "        [  898,   455, 12917,  6541,   472,   233,  8753,     0,   613],\n",
      "        [    0,   563,     0,     0,     0,     0,     0, 23714,     0],\n",
      "        [    1,   338,     3,     0,     0,     0,     0,     0, 40821]])\n"
     ]
    },
    {
     "data": {
      "application/vnd.jupyter.widget-view+json": {
       "model_id": "62a80edee7a548ddb1577962164344cf",
       "version_major": 2,
       "version_minor": 0
      },
      "text/plain": [
       "Validation: |          | 0/? [00:00<?, ?it/s]"
      ]
     },
     "metadata": {},
     "output_type": "display_data"
    },
    {
     "name": "stdout",
     "output_type": "stream",
     "text": [
      "Epoch end: Validation, epoch number: 23\n",
      "ValidationEpoch/CM\n",
      " tensor([[27388,   517,  2163,  1976,   274,    55,   673,     0,   644],\n",
      "        [    1, 46773,     0,     0,     5,    16,     0,     1,     0],\n",
      "        [  375,   659, 34509,  1593,   187,   226,  5418,     0,   769],\n",
      "        [ 1979,   567,  2087, 27290,  1042,    38,  3103,     0,   708],\n",
      "        [    6,   570,  1280,   724, 32579,    74,    92,     0,   667],\n",
      "        [    0,   743,   156,     5,     0, 35429,   163,     0,   312],\n",
      "        [  906,   455, 13398,  6803,   480,   235,  9392,     0,   613],\n",
      "        [    0,   563,     0,     0,     0,     0,     0, 24814,     0],\n",
      "        [    1,   338,     3,     0,     0,     0,     0,     0, 42686]])\n",
      "Epoch end: Train, epoch number: 22\n",
      "TrainEpoch/CM\n",
      " tensor([[27388,   517,  2163,  1976,   274,    55,   673,     0,   644],\n",
      "        [    1, 46773,     0,     0,     5,    16,     0,     1,     0],\n",
      "        [  375,   659, 34509,  1593,   187,   226,  5418,     0,   769],\n",
      "        [ 1979,   567,  2087, 27290,  1042,    38,  3103,     0,   708],\n",
      "        [    6,   570,  1280,   724, 32579,    74,    92,     0,   667],\n",
      "        [    0,   743,   156,     5,     0, 35429,   163,     0,   312],\n",
      "        [  906,   455, 13398,  6803,   480,   235,  9392,     0,   613],\n",
      "        [    0,   563,     0,     0,     0,     0,     0, 24814,     0],\n",
      "        [    1,   338,     3,     0,     0,     0,     0,     0, 42686]])\n"
     ]
    },
    {
     "name": "stderr",
     "output_type": "stream",
     "text": [
      "Metric Validation/Accuracy improved by 0.004 >= min_delta = 0.0. New best score: 0.910\n"
     ]
    },
    {
     "data": {
      "application/vnd.jupyter.widget-view+json": {
       "model_id": "8fdbdb4800a2407c827047cd52a2f134",
       "version_major": 2,
       "version_minor": 0
      },
      "text/plain": [
       "Validation: |          | 0/? [00:00<?, ?it/s]"
      ]
     },
     "metadata": {},
     "output_type": "display_data"
    },
    {
     "name": "stdout",
     "output_type": "stream",
     "text": [
      "Epoch end: Validation, epoch number: 24\n",
      "ValidationEpoch/CM\n",
      " tensor([[28839,   517,  2163,  1985,   274,    55,   673,     0,   644],\n",
      "        [    1, 48803,     0,     0,     5,    16,     0,     1,     0],\n",
      "        [  375,   659, 36124,  1643,   187,   226,  5649,     0,   769],\n",
      "        [ 1987,   567,  2101, 28733,  1058,    38,  3217,     0,   708],\n",
      "        [    6,   570,  1282,   732, 34129,    74,    92,     0,   667],\n",
      "        [    0,   743,   156,     5,     0, 37020,   167,     0,   312],\n",
      "        [  909,   455, 13866,  7070,   482,   239, 10048,     0,   613],\n",
      "        [    0,   563,     0,     0,     0,     0,     0, 25914,     0],\n",
      "        [    1,   338,     3,     0,     0,     0,     0,     0, 44551]])\n"
     ]
    },
    {
     "name": "stderr",
     "output_type": "stream",
     "text": [
      "Metric Validation/Accuracy improved by 0.003 >= min_delta = 0.0. New best score: 0.913\n"
     ]
    },
    {
     "name": "stdout",
     "output_type": "stream",
     "text": [
      "Epoch end: Train, epoch number: 23\n",
      "TrainEpoch/CM\n",
      " tensor([[28839,   517,  2163,  1985,   274,    55,   673,     0,   644],\n",
      "        [    1, 48803,     0,     0,     5,    16,     0,     1,     0],\n",
      "        [  375,   659, 36124,  1643,   187,   226,  5649,     0,   769],\n",
      "        [ 1987,   567,  2101, 28733,  1058,    38,  3217,     0,   708],\n",
      "        [    6,   570,  1282,   732, 34129,    74,    92,     0,   667],\n",
      "        [    0,   743,   156,     5,     0, 37020,   167,     0,   312],\n",
      "        [  909,   455, 13866,  7070,   482,   239, 10048,     0,   613],\n",
      "        [    0,   563,     0,     0,     0,     0,     0, 25914,     0],\n",
      "        [    1,   338,     3,     0,     0,     0,     0,     0, 44551]])\n"
     ]
    },
    {
     "data": {
      "application/vnd.jupyter.widget-view+json": {
       "model_id": "dbf9b79616484509a873cb0e51a017c8",
       "version_major": 2,
       "version_minor": 0
      },
      "text/plain": [
       "Validation: |          | 0/? [00:00<?, ?it/s]"
      ]
     },
     "metadata": {},
     "output_type": "display_data"
    },
    {
     "name": "stdout",
     "output_type": "stream",
     "text": [
      "Epoch end: Validation, epoch number: 25\n",
      "ValidationEpoch/CM\n",
      " tensor([[30292,   517,  2164,  1990,   274,    56,   673,     0,   644],\n",
      "        [    1, 50833,     0,     0,     5,    16,     0,     1,     0],\n",
      "        [  375,   659, 37702,  1686,   187,   226,  5924,     0,   769],\n",
      "        [ 1994,   567,  2129, 30125,  1071,    38,  3372,     0,   708],\n",
      "        [    6,   570,  1283,   738, 35680,    74,    94,     0,   667],\n",
      "        [    0,   743,   156,     5,     0, 38610,   172,     0,   312],\n",
      "        [  913,   455, 14382,  7295,   484,   240, 10700,     0,   613],\n",
      "        [    0,   563,     0,     0,     0,     0,     0, 27014,     0],\n",
      "        [    1,   338,     3,     0,     0,     0,     0,     0, 46416]])\n",
      "Epoch end: Train, epoch number: 24\n",
      "TrainEpoch/CM\n",
      " tensor([[30292,   517,  2164,  1990,   274,    56,   673,     0,   644],\n",
      "        [    1, 50833,     0,     0,     5,    16,     0,     1,     0],\n",
      "        [  375,   659, 37702,  1686,   187,   226,  5924,     0,   769],\n",
      "        [ 1994,   567,  2129, 30125,  1071,    38,  3372,     0,   708],\n",
      "        [    6,   570,  1283,   738, 35680,    74,    94,     0,   667],\n",
      "        [    0,   743,   156,     5,     0, 38610,   172,     0,   312],\n",
      "        [  913,   455, 14382,  7295,   484,   240, 10700,     0,   613],\n",
      "        [    0,   563,     0,     0,     0,     0,     0, 27014,     0],\n",
      "        [    1,   338,     3,     0,     0,     0,     0,     0, 46416]])\n"
     ]
    },
    {
     "data": {
      "application/vnd.jupyter.widget-view+json": {
       "model_id": "f9c0f78a47354085a60d4394a63eb595",
       "version_major": 2,
       "version_minor": 0
      },
      "text/plain": [
       "Validation: |          | 0/? [00:00<?, ?it/s]"
      ]
     },
     "metadata": {},
     "output_type": "display_data"
    },
    {
     "name": "stdout",
     "output_type": "stream",
     "text": [
      "Epoch end: Validation, epoch number: 26\n",
      "ValidationEpoch/CM\n",
      " tensor([[31738,   517,  2166,  1999,   274,    57,   675,     0,   644],\n",
      "        [    1, 52863,     0,     0,     5,    16,     0,     1,     0],\n",
      "        [  376,   659, 39258,  1731,   188,   226,  6217,     0,   769],\n",
      "        [ 2013,   567,  2150, 31492,  1086,    38,  3545,     0,   708],\n",
      "        [    6,   570,  1286,   744, 37227,    74,    98,     0,   667],\n",
      "        [    0,   743,   156,     5,     0, 40201,   176,     0,   312],\n",
      "        [  921,   455, 14873,  7532,   490,   245, 11353,     0,   613],\n",
      "        [    0,   563,     0,     0,     0,     0,     0, 28114,     0],\n",
      "        [    1,   338,     3,     0,     0,     0,     0,     0, 48281]])\n",
      "Epoch end: Train, epoch number: 25\n",
      "TrainEpoch/CM\n",
      " tensor([[31738,   517,  2166,  1999,   274,    57,   675,     0,   644],\n",
      "        [    1, 52863,     0,     0,     5,    16,     0,     1,     0],\n",
      "        [  376,   659, 39258,  1731,   188,   226,  6217,     0,   769],\n",
      "        [ 2013,   567,  2150, 31492,  1086,    38,  3545,     0,   708],\n",
      "        [    6,   570,  1286,   744, 37227,    74,    98,     0,   667],\n",
      "        [    0,   743,   156,     5,     0, 40201,   176,     0,   312],\n",
      "        [  921,   455, 14873,  7532,   490,   245, 11353,     0,   613],\n",
      "        [    0,   563,     0,     0,     0,     0,     0, 28114,     0],\n",
      "        [    1,   338,     3,     0,     0,     0,     0,     0, 48281]])\n"
     ]
    },
    {
     "data": {
      "application/vnd.jupyter.widget-view+json": {
       "model_id": "ce2606eb24ff40fb99d50f90313abc06",
       "version_major": 2,
       "version_minor": 0
      },
      "text/plain": [
       "Validation: |          | 0/? [00:00<?, ?it/s]"
      ]
     },
     "metadata": {},
     "output_type": "display_data"
    },
    {
     "name": "stdout",
     "output_type": "stream",
     "text": [
      "Epoch end: Validation, epoch number: 27\n",
      "ValidationEpoch/CM\n",
      " tensor([[33185,   517,  2166,  2010,   274,    58,   676,     0,   644],\n",
      "        [    1, 54893,     0,     0,     5,    16,     0,     1,     0],\n",
      "        [  379,   659, 40847,  1786,   188,   226,  6466,     0,   769],\n",
      "        [ 2019,   567,  2167, 32929,  1102,    38,  3664,     0,   708],\n",
      "        [    6,   570,  1287,   753, 38777,    74,    98,     0,   667],\n",
      "        [    0,   743,   156,     5,     0, 41794,   178,     0,   312],\n",
      "        [  927,   455, 15339,  7807,   490,   250, 12001,     0,   613],\n",
      "        [    0,   563,     0,     0,     0,     0,     0, 29214,     0],\n",
      "        [    1,   339,     3,     0,     0,     0,     0,     0, 50145]])\n",
      "Epoch end: Train, epoch number: 26\n",
      "TrainEpoch/CM\n",
      " tensor([[33185,   517,  2166,  2010,   274,    58,   676,     0,   644],\n",
      "        [    1, 54893,     0,     0,     5,    16,     0,     1,     0],\n",
      "        [  379,   659, 40847,  1786,   188,   226,  6466,     0,   769],\n",
      "        [ 2019,   567,  2167, 32929,  1102,    38,  3664,     0,   708],\n",
      "        [    6,   570,  1287,   753, 38777,    74,    98,     0,   667],\n",
      "        [    0,   743,   156,     5,     0, 41794,   178,     0,   312],\n",
      "        [  927,   455, 15339,  7807,   490,   250, 12001,     0,   613],\n",
      "        [    0,   563,     0,     0,     0,     0,     0, 29214,     0],\n",
      "        [    1,   339,     3,     0,     0,     0,     0,     0, 50145]])\n"
     ]
    },
    {
     "data": {
      "application/vnd.jupyter.widget-view+json": {
       "model_id": "4d7c141ad0824403aac686d1104a84bd",
       "version_major": 2,
       "version_minor": 0
      },
      "text/plain": [
       "Validation: |          | 0/? [00:00<?, ?it/s]"
      ]
     },
     "metadata": {},
     "output_type": "display_data"
    },
    {
     "name": "stdout",
     "output_type": "stream",
     "text": [
      "Epoch end: Validation, epoch number: 28\n",
      "ValidationEpoch/CM\n",
      " tensor([[34637,   517,  2166,  2016,   274,    59,   676,     0,   645],\n",
      "        [    1, 56923,     0,     0,     5,    16,     0,     1,     0],\n",
      "        [  381,   659, 42489,  1840,   188,   226,  6664,     0,   769],\n",
      "        [ 2025,   567,  2209, 34331,  1116,    38,  3795,     0,   708],\n",
      "        [    6,   570,  1288,   759, 40328,    74,   100,     0,   667],\n",
      "        [    0,   743,   156,     5,     0, 43387,   180,     0,   312],\n",
      "        [  934,   455, 15868,  8041,   490,   253, 12628,     0,   613],\n",
      "        [    0,   563,     0,     0,     0,     0,     0, 30314,     0],\n",
      "        [    1,   339,     3,     0,     0,     0,     0,     0, 52010]])\n",
      "Epoch end: Train, epoch number: 27\n",
      "TrainEpoch/CM\n",
      " tensor([[34637,   517,  2166,  2016,   274,    59,   676,     0,   645],\n",
      "        [    1, 56923,     0,     0,     5,    16,     0,     1,     0],\n",
      "        [  381,   659, 42489,  1840,   188,   226,  6664,     0,   769],\n",
      "        [ 2025,   567,  2209, 34331,  1116,    38,  3795,     0,   708],\n",
      "        [    6,   570,  1288,   759, 40328,    74,   100,     0,   667],\n",
      "        [    0,   743,   156,     5,     0, 43387,   180,     0,   312],\n",
      "        [  934,   455, 15868,  8041,   490,   253, 12628,     0,   613],\n",
      "        [    0,   563,     0,     0,     0,     0,     0, 30314,     0],\n",
      "        [    1,   339,     3,     0,     0,     0,     0,     0, 52010]])\n"
     ]
    },
    {
     "data": {
      "application/vnd.jupyter.widget-view+json": {
       "model_id": "9a8209d1967241088b604e7a6a0f3b9b",
       "version_major": 2,
       "version_minor": 0
      },
      "text/plain": [
       "Validation: |          | 0/? [00:00<?, ?it/s]"
      ]
     },
     "metadata": {},
     "output_type": "display_data"
    },
    {
     "name": "stdout",
     "output_type": "stream",
     "text": [
      "Epoch end: Validation, epoch number: 29\n",
      "ValidationEpoch/CM\n",
      " tensor([[36090,   517,  2166,  2022,   274,    60,   676,     0,   645],\n",
      "        [    1, 58953,     0,     0,     5,    16,     0,     1,     0],\n",
      "        [  381,   659, 44063,  1891,   188,   228,  6933,     0,   769],\n",
      "        [ 2038,   567,  2225, 35774,  1128,    38,  3906,     0,   708],\n",
      "        [    6,   570,  1289,   769, 41877,    74,   100,     0,   667],\n",
      "        [    0,   743,   156,     5,     0, 44979,   183,     0,   312],\n",
      "        [  937,   455, 16300,  8292,   492,   261, 13332,     0,   613],\n",
      "        [    0,   563,     0,     0,     0,     0,     0, 31414,     0],\n",
      "        [    1,   339,     3,     0,     0,     0,     0,     0, 53875]])\n"
     ]
    },
    {
     "name": "stderr",
     "output_type": "stream",
     "text": [
      "Monitored metric Validation/Accuracy did not improve in the last 5 records. Best score: 0.913. Signaling Trainer to stop.\n"
     ]
    },
    {
     "name": "stdout",
     "output_type": "stream",
     "text": [
      "Epoch end: Train, epoch number: 28\n",
      "TrainEpoch/CM\n",
      " tensor([[36090,   517,  2166,  2022,   274,    60,   676,     0,   645],\n",
      "        [    1, 58953,     0,     0,     5,    16,     0,     1,     0],\n",
      "        [  381,   659, 44063,  1891,   188,   228,  6933,     0,   769],\n",
      "        [ 2038,   567,  2225, 35774,  1128,    38,  3906,     0,   708],\n",
      "        [    6,   570,  1289,   769, 41877,    74,   100,     0,   667],\n",
      "        [    0,   743,   156,     5,     0, 44979,   183,     0,   312],\n",
      "        [  937,   455, 16300,  8292,   492,   261, 13332,     0,   613],\n",
      "        [    0,   563,     0,     0,     0,     0,     0, 31414,     0],\n",
      "        [    1,   339,     3,     0,     0,     0,     0,     0, 53875]])\n"
     ]
    }
   ],
   "source": [
    "\n",
    "trainer.fit(model=model, train_dataloaders=train_dataloader, val_dataloaders=val_dataloader)\n"
   ]
  },
  {
   "cell_type": "code",
   "execution_count": 39,
   "metadata": {},
   "outputs": [
    {
     "name": "stderr",
     "output_type": "stream",
     "text": [
      "LOCAL_RANK: 0 - CUDA_VISIBLE_DEVICES: [0]\n"
     ]
    },
    {
     "name": "stdout",
     "output_type": "stream",
     "text": [
      "/home/<User>/repos/csg_is/training/official_logs/multi-layer_30_from_weights_10s/version_0/checkpoints/epoch=23-step=576.ckpt\n",
      "tensor(0.9132, device='cuda:0')\n"
     ]
    },
    {
     "data": {
      "application/vnd.jupyter.widget-view+json": {
       "model_id": "0d11bbfd3c164f65a41f6433bd960fb0",
       "version_major": 2,
       "version_minor": 0
      },
      "text/plain": [
       "Testing: |          | 0/? [00:00<?, ?it/s]"
      ]
     },
     "metadata": {},
     "output_type": "display_data"
    },
    {
     "name": "stdout",
     "output_type": "stream",
     "text": [
      "Epoch end: Test, epoch number: 0\n",
      "TestEpoch/CM\n",
      " tensor([[337,   0,   0,   0,   0,   0,   0,   0,   0],\n",
      "        [  0, 349,   0,   0,   0,   0,   0,   0,   0],\n",
      "        [  0,   0, 322,   8,   0,   0,  46,   0,   0],\n",
      "        [  0,   0,   2, 310,   3,   0,  19,   0,   0],\n",
      "        [  0,   0,   0,   2, 299,   0,   0,   0,   0],\n",
      "        [  0,   0,   0,   0,   0, 354,   0,   0,   0],\n",
      "        [  0,   0,  87,  64,   0,   2, 119,   0,   0],\n",
      "        [  0,   0,   0,   0,   0,   0,   0, 202,   0],\n",
      "        [  0,   0,   0,   0,   0,   0,   0,   0, 376]])\n",
      "────────────────────────────────────────────────────────────────────────────────────────────────────────────────────────\n",
      "       Test metric             DataLoader 0\n",
      "────────────────────────────────────────────────────────────────────────────────────────────────────────────────────────\n",
      "      Test/Accuracy         0.9132450819015503\n",
      "      Test/F1Score          0.9096336364746094\n",
      "        Test/Loss           0.2039816826581955\n",
      "     Test/Precision         0.9131526947021484\n",
      "       Test/Recall          0.9132450819015503\n",
      "   TestEpoch/Accuracy       0.9128202199935913\n",
      "    TestEpoch/F1Score       0.9102920293807983\n",
      "   TestEpoch/Precision      0.9135482311248779\n",
      "    TestEpoch/Recall        0.9128202199935913\n",
      "────────────────────────────────────────────────────────────────────────────────────────────────────────────────────────\n"
     ]
    },
    {
     "data": {
      "text/plain": [
       "[{'Test/Loss': 0.2039816826581955,\n",
       "  'Test/Accuracy': 0.9132450819015503,\n",
       "  'Test/Precision': 0.9131526947021484,\n",
       "  'Test/Recall': 0.9132450819015503,\n",
       "  'Test/F1Score': 0.9096336364746094,\n",
       "  'TestEpoch/Accuracy': 0.9128202199935913,\n",
       "  'TestEpoch/Precision': 0.9135482311248779,\n",
       "  'TestEpoch/Recall': 0.9128202199935913,\n",
       "  'TestEpoch/F1Score': 0.9102920293807983}]"
      ]
     },
     "execution_count": 39,
     "metadata": {},
     "output_type": "execute_result"
    }
   ],
   "source": [
    "\n",
    "print(checkpoint_callback.best_model_path)   # prints path to the best model's checkpoint\n",
    "print(checkpoint_callback.best_model_score) # and prints it score\n",
    "best_model = MalwaresModelMLP.load_from_checkpoint(checkpoint_callback.best_model_path, input_size = subset.shape[1]-1, output_size = len(label_encoder.classes_))\n",
    "\n",
    "trainer.test(best_model, dataloaders=val_dataloader)"
   ]
  },
  {
   "cell_type": "code",
   "execution_count": 40,
   "metadata": {},
   "outputs": [],
   "source": [
    "# subset.columns.to_frame().to_csv(\"weight_selected.csv\", index=False)"
   ]
  }
 ],
 "metadata": {
  "kernelspec": {
   "display_name": ".venv",
   "language": "python",
   "name": "python3"
  },
  "language_info": {
   "codemirror_mode": {
    "name": "ipython",
    "version": 3
   },
   "file_extension": ".py",
   "mimetype": "text/x-python",
   "name": "python",
   "nbconvert_exporter": "python",
   "pygments_lexer": "ipython3",
   "version": "3.10.12"
  }
 },
 "nbformat": 4,
 "nbformat_minor": 2
}
