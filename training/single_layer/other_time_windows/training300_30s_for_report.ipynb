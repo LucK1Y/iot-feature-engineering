{
 "cells": [
  {
   "cell_type": "markdown",
   "metadata": {},
   "source": [
    "# Idea\n",
    "Do some training"
   ]
  },
  {
   "cell_type": "code",
   "execution_count": 1,
   "metadata": {},
   "outputs": [],
   "source": [
    "SEED = 133\n",
    "TIME_WINDOW = \"30s\"\n",
    "DATA_FILE = '../../data/all_df_30s_Heqing_device2.csv'"
   ]
  },
  {
   "cell_type": "code",
   "execution_count": 2,
   "metadata": {},
   "outputs": [],
   "source": [
    "from pathlib import Path\n",
    "\n",
    "import numpy as np\n",
    "import pandas as pd\n",
    "import pickle\n",
    "\n",
    "assert Path(DATA_FILE).exists()"
   ]
  },
  {
   "cell_type": "code",
   "execution_count": 3,
   "metadata": {},
   "outputs": [],
   "source": [
    "import sys\n",
    "repo_base_path = Path(\"./../../../\").resolve()\n",
    "assert str(repo_base_path).endswith(\"csg_is\"), f\"{repo_base_path} is not a valid path to the CSG_IS repository\" \n",
    "\n",
    "sys.path.append(str(repo_base_path))\n",
    "sys.path.append(\"..\")\n",
    "\n",
    "# from py_dataset import get_all_files_df\n",
    "# from py_dataset import read_in_files\n",
    "from py_dataset import feature_plotting\n",
    "# from py_dataset import feature_selection\n",
    "# from py_dataset import net_feature_engineering\n",
    "# from py_dataset import entropy_feature_engineering\n",
    "# from py_dataset.classes import DataSource\n",
    "from py_dataset import sys_func\n",
    "\n",
    "from py_dataset.classes import DataSource\n",
    "\n"
   ]
  },
  {
   "cell_type": "code",
   "execution_count": 4,
   "metadata": {},
   "outputs": [
    {
     "ename": "AssertionError",
     "evalue": "are you sure to run this again?",
     "output_type": "error",
     "traceback": [
      "\u001b[0;31m---------------------------------------------------------------------------\u001b[0m",
      "\u001b[0;31mAssertionError\u001b[0m                            Traceback (most recent call last)",
      "Cell \u001b[0;32mIn[4], line 8\u001b[0m\n\u001b[1;32m      6\u001b[0m \u001b[38;5;28;01massert\u001b[39;00m LOG_PATH\u001b[38;5;241m.\u001b[39mexists()\n\u001b[1;32m      7\u001b[0m \u001b[38;5;28;01massert\u001b[39;00m \u001b[38;5;129;01mnot\u001b[39;00m (LOG_PATH \u001b[38;5;241m/\u001b[39m LOG_NAME)\u001b[38;5;241m.\u001b[39mexists(), \u001b[38;5;124m\"\u001b[39m\u001b[38;5;124mare you sure to run this again?\u001b[39m\u001b[38;5;124m\"\u001b[39m\n\u001b[0;32m----> 8\u001b[0m \u001b[38;5;28;01massert\u001b[39;00m \u001b[38;5;129;01mnot\u001b[39;00m (LOG_PATH \u001b[38;5;241m/\u001b[39m LOG_NAME_EXPERIMENT_2)\u001b[38;5;241m.\u001b[39mexists(), \u001b[38;5;124m\"\u001b[39m\u001b[38;5;124mare you sure to run this again?\u001b[39m\u001b[38;5;124m\"\u001b[39m\n\u001b[1;32m      9\u001b[0m \u001b[38;5;28;01massert\u001b[39;00m \u001b[38;5;129;01mnot\u001b[39;00m (LOG_PATH \u001b[38;5;241m/\u001b[39m LOG_NAME_EXPERIMENT_3)\u001b[38;5;241m.\u001b[39mexists(), \u001b[38;5;124m\"\u001b[39m\u001b[38;5;124mare you sure to run this again?\u001b[39m\u001b[38;5;124m\"\u001b[39m\n",
      "\u001b[0;31mAssertionError\u001b[0m: are you sure to run this again?"
     ]
    }
   ],
   "source": [
    "LOG_PATH = (repo_base_path / \"training\" / \"official_logs\")\n",
    "LOG_NAME = f\"multi-layer_300_{TIME_WINDOW}\"\n",
    "LOG_NAME_EXPERIMENT_2 = f\"single-layer_30_from_weights_{TIME_WINDOW}\"\n",
    "LOG_NAME_EXPERIMENT_3 = f\"multi-layer_30_from_weights_{TIME_WINDOW}\"\n",
    "\n",
    "assert LOG_PATH.exists()\n",
    "assert not (LOG_PATH / LOG_NAME).exists(), \"are you sure to run this again?\"\n",
    "assert not (LOG_PATH / LOG_NAME_EXPERIMENT_2).exists(), \"are you sure to run this again?\"\n",
    "assert not (LOG_PATH / LOG_NAME_EXPERIMENT_3).exists(), \"are you sure to run this again?\""
   ]
  },
  {
   "cell_type": "code",
   "execution_count": 5,
   "metadata": {},
   "outputs": [],
   "source": [
    "df = pd.read_csv(DATA_FILE)\n",
    "df.set_index(\"timestamp\", inplace=True)"
   ]
  },
  {
   "cell_type": "code",
   "execution_count": 6,
   "metadata": {},
   "outputs": [],
   "source": [
    "assert df[\"label\"].unique().shape == (10,)"
   ]
  },
  {
   "cell_type": "markdown",
   "metadata": {},
   "source": [
    "### Preprocessings\n",
    "- remove Null values\n",
    "- drop timestamp\n",
    "- labelEncode\n",
    "- normalize"
   ]
  },
  {
   "cell_type": "code",
   "execution_count": 7,
   "metadata": {},
   "outputs": [
    {
     "name": "stdout",
     "output_type": "stream",
     "text": [
      "(28869, 306)\n",
      "(21765, 306)\n"
     ]
    }
   ],
   "source": [
    "print(df.shape)\n",
    "old_df = df.copy()\n",
    "df.dropna(axis=0, how='any', inplace=True)\n",
    "\n",
    "print(df.shape)"
   ]
  },
  {
   "cell_type": "code",
   "execution_count": 8,
   "metadata": {},
   "outputs": [],
   "source": [
    "df.reset_index(inplace=True, drop=True)"
   ]
  },
  {
   "cell_type": "code",
   "execution_count": 9,
   "metadata": {},
   "outputs": [],
   "source": [
    "label_encoder = sys_func.create_label_encoder_for_labels()\n",
    "df['label'] = label_encoder.transform(df['label'])"
   ]
  },
  {
   "cell_type": "code",
   "execution_count": 10,
   "metadata": {},
   "outputs": [],
   "source": [
    "df = feature_plotting.test_transform_all_to_numeric_columns(df)"
   ]
  },
  {
   "cell_type": "code",
   "execution_count": 11,
   "metadata": {},
   "outputs": [],
   "source": [
    "cols_to_exclude_from_scaling = [\"label\"]\n",
    "vectors = feature_plotting.minmax_scale_features(df,remove_outliers_iqr_all_columns=False,\n",
    "                                                        cols_to_exclude_from_scaling=cols_to_exclude_from_scaling)\n",
    "# print(vectors.shape)\n",
    "# print(\" with dropped null: \", vectors.dropna(axis=0, how='any', inplace=False).shape)"
   ]
  },
  {
   "cell_type": "code",
   "execution_count": 12,
   "metadata": {},
   "outputs": [
    {
     "data": {
      "text/plain": [
       "(array([0, 1, 2, 3, 4, 5, 6, 7, 8]), array([0, 1, 2, 3, 4, 5, 6, 7, 8]))"
      ]
     },
     "execution_count": 12,
     "metadata": {},
     "output_type": "execute_result"
    }
   ],
   "source": [
    "df[\"label\"].unique(), vectors[\"label\"].unique()"
   ]
  },
  {
   "cell_type": "code",
   "execution_count": 13,
   "metadata": {},
   "outputs": [
    {
     "name": "stdout",
     "output_type": "stream",
     "text": [
      "Label 0: 2285 samples\n",
      "Label 1: 2420 samples\n",
      "Label 2: 2820 samples\n",
      "Label 3: 2355 samples\n",
      "Label 4: 2365 samples\n",
      "Label 5: 2390 samples\n",
      "Label 6: 2370 samples\n",
      "Label 7: 2360 samples\n",
      "Label 8: 2400 samples\n"
     ]
    },
    {
     "data": {
      "image/png": "[encoded data removed]",
      "text/plain": [
       "<Figure size 640x480 with 1 Axes>"
      ]
     },
     "metadata": {},
     "output_type": "display_data"
    }
   ],
   "source": [
    "feature_plotting.check_label_distribution(vectors)"
   ]
  },
  {
   "cell_type": "markdown",
   "metadata": {},
   "source": [
    "### Setup"
   ]
  },
  {
   "cell_type": "code",
   "execution_count": 14,
   "metadata": {},
   "outputs": [],
   "source": [
    "from torch.utils.data import Dataset, DataLoader\n",
    "import torch\n",
    "\n",
    "class CustomeDataset(Dataset):\n",
    "    def __init__(self, some_df:pd.DataFrame):\n",
    "        \n",
    "        self.x = torch.tensor(some_df.drop(columns=[\"label\"], inplace=False).values, dtype=torch.float32)\n",
    "        self.labels = torch.tensor(some_df[\"label\"].values, dtype=torch.uint8)\n",
    "\n",
    "    def __len__(self):\n",
    "        return len(self.x)\n",
    "\n",
    "    def __getitem__(self, idx):\n",
    "        # if torch.is_tensor(idx):\n",
    "        #     idx = idx.tolist()\n",
    "        # print(self.x[idx], self.labels[idx])\n",
    "        return self.x[idx], self.labels[idx]"
   ]
  },
  {
   "cell_type": "code",
   "execution_count": 15,
   "metadata": {},
   "outputs": [],
   "source": [
    "sys.path.append(str(repo_base_path  / \"training\"))"
   ]
  },
  {
   "cell_type": "code",
   "execution_count": 17,
   "metadata": {},
   "outputs": [
    {
     "name": "stderr",
     "output_type": "stream",
     "text": [
      "GPU available: True (cuda), used: True\n",
      "TPU available: False, using: 0 TPU cores\n",
      "IPU available: False, using: 0 IPUs\n",
      "HPU available: False, using: 0 HPUs\n"
     ]
    }
   ],
   "source": [
    "from mlp import MalwaresModelMLP\n",
    "from torch.utils.data import DataLoader\n",
    "import lightning\n",
    "from sklearn.model_selection import train_test_split\n",
    "from pytorch_lightning import loggers as pl_loggers\n",
    "from lightning.pytorch.callbacks.early_stopping import EarlyStopping\n",
    "from lightning.pytorch.callbacks.model_checkpoint import ModelCheckpoint\n",
    "\n",
    "tensorboard = pl_loggers.TensorBoardLogger(save_dir=LOG_PATH, name=LOG_NAME)\n",
    "\n",
    "# split into train and val\n",
    "train, val = train_test_split(vectors, test_size=0.2, random_state=SEED)\n",
    "\n",
    "train_dataset = CustomeDataset(train)\n",
    "train_dataloader = DataLoader(train_dataset, batch_size=500, shuffle=True, num_workers=7)\n",
    "\n",
    "val_dataset = CustomeDataset(val)\n",
    "val_dataloader = DataLoader(val_dataset, batch_size=500, shuffle=False, num_workers=7)\n",
    "\n",
    "# trainer = lightning.Trainer(fast_dev_run=100)\n",
    "monitor = \"Validation/Accuracy\"\n",
    "early_stop_callback = EarlyStopping(monitor=monitor, patience=5, verbose=True, mode=\"max\")\n",
    "checkpoint_callback = ModelCheckpoint(save_top_k=1, monitor=monitor, mode=\"max\")\n",
    "\n",
    "trainer = lightning.Trainer(max_epochs=150, callbacks=[early_stop_callback, checkpoint_callback], enable_checkpointing=True, logger=tensorboard) #logger=None, \n",
    "\n",
    "\n",
    "model = MalwaresModelMLP(input_size = vectors.shape[1]-1, output_size = len(label_encoder.classes_), seed=SEED)\n",
    "\n",
    "torch.manual_seed(SEED)\n",
    "torch.cuda.manual_seed_all(SEED)\n"
   ]
  },
  {
   "cell_type": "code",
   "execution_count": 18,
   "metadata": {},
   "outputs": [
    {
     "name": "stderr",
     "output_type": "stream",
     "text": [
      "Missing logger folder: /home/<User>/repos/csg_is/training/official_logs/multi-layer_300_30s\n",
      "LOCAL_RANK: 0 - CUDA_VISIBLE_DEVICES: [0]\n",
      "\n",
      "  | Name          | Type                      | Params\n",
      "------------------------------------------------------------\n",
      "0 | train_metrics | MetricCollection          | 0     \n",
      "1 | val_metrics   | MetricCollection          | 0     \n",
      "2 | test_metrics  | MetricCollection          | 0     \n",
      "3 | cm            | MulticlassConfusionMatrix | 0     \n",
      "4 | criterion     | CrossEntropyLoss          | 0     \n",
      "5 | l1            | Linear                    | 9.2 K \n",
      "6 | l2            | Linear                    | 930   \n",
      "7 | l3            | Linear                    | 279   \n",
      "------------------------------------------------------------\n",
      "10.4 K    Trainable params\n",
      "0         Non-trainable params\n",
      "10.4 K    Total params\n",
      "0.042     Total estimated model params size (MB)\n"
     ]
    },
    {
     "data": {
      "application/vnd.jupyter.widget-view+json": {
       "model_id": "133c6dc84e124db2866724197dd09584",
       "version_major": 2,
       "version_minor": 0
      },
      "text/plain": [
       "Sanity Checking: 0it [00:00, ?it/s]"
      ]
     },
     "metadata": {},
     "output_type": "display_data"
    },
    {
     "name": "stdout",
     "output_type": "stream",
     "text": [
      "Epoch end: Validation, epoch number: 0\n",
      "ValidationEpoch/CM\n",
      " tensor([[  0,   0,   0,   0,   0,  98,   0,   0,   0],\n",
      "        [  0,   0,   0,   0,   0, 123,   0,   0,   0],\n",
      "        [  0,   0,   0,   0,   0, 133,   0,   0,   0],\n",
      "        [  0,   0,   0,   0,   0,  95,   0,   0,   0],\n",
      "        [  0,   0,   0,   0,   0, 113,   0,   0,   0],\n",
      "        [  0,   0,   0,   0,   0, 118,   0,   0,   0],\n",
      "        [  0,   0,   0,   0,   0, 101,   0,   0,   0],\n",
      "        [  0,   0,   0,   0,   0, 109,   0,   0,   0],\n",
      "        [  0,   0,   0,   0,   0, 110,   0,   0,   0]])\n"
     ]
    },
    {
     "name": "stderr",
     "output_type": "stream",
     "text": [
      "/home/<User>/repos/csg_is/.venv/lib/python3.10/site-packages/lightning/pytorch/loops/fit_loop.py:280: The number of training batches (35) is smaller than the logging interval Trainer(log_every_n_steps=50). Set a lower value for log_every_n_steps if you want to see logs for the training epoch.\n"
     ]
    },
    {
     "data": {
      "application/vnd.jupyter.widget-view+json": {
       "model_id": "6691f31befd64b34982da12d2f1ec5a5",
       "version_major": 2,
       "version_minor": 0
      },
      "text/plain": [
       "Training: 0it [00:00, ?it/s]"
      ]
     },
     "metadata": {},
     "output_type": "display_data"
    },
    {
     "data": {
      "application/vnd.jupyter.widget-view+json": {
       "model_id": "2986a281aeb148898ea4c18f5a625095",
       "version_major": 2,
       "version_minor": 0
      },
      "text/plain": [
       "Validation: 0it [00:00, ?it/s]"
      ]
     },
     "metadata": {},
     "output_type": "display_data"
    },
    {
     "name": "stdout",
     "output_type": "stream",
     "text": [
      "Epoch end: Validation, epoch number: 1\n",
      "ValidationEpoch/CM\n",
      " tensor([[ 337,    1,  274,  898,  377,  276,  175,   45,    0],\n",
      "        [   0, 2333,    0,    0,    0,  209,    0,    1,    0],\n",
      "        [  78,   13, 1417,  163,  121,  516,  494,  151,    0],\n",
      "        [ 411,    0,  265,  913,  319,  307,  193,   42,    0],\n",
      "        [ 141,    0,  193,  593,  989,  309,  213,   40,    0],\n",
      "        [   0,   38,  185,    0,    0, 2015,    5,  265,    0],\n",
      "        [ 122,    0,  871,  243,  180,  366,  577,  112,    0],\n",
      "        [   0,    0,    0,    0,    0,  172,    0, 2297,    0],\n",
      "        [   0,    0,    0,    0,    0,  181,    0,    4, 2325]])\n",
      "Epoch end: Train, epoch number: 0\n",
      "TrainEpoch/CM\n",
      " tensor([[ 337,    1,  274,  898,  377,  276,  175,   45,    0],\n",
      "        [   0, 2333,    0,    0,    0,  209,    0,    1,    0],\n",
      "        [  78,   13, 1417,  163,  121,  516,  494,  151,    0],\n",
      "        [ 411,    0,  265,  913,  319,  307,  193,   42,    0],\n",
      "        [ 141,    0,  193,  593,  989,  309,  213,   40,    0],\n",
      "        [   0,   38,  185,    0,    0, 2015,    5,  265,    0],\n",
      "        [ 122,    0,  871,  243,  180,  366,  577,  112,    0],\n",
      "        [   0,    0,    0,    0,    0,  172,    0, 2297,    0],\n",
      "        [   0,    0,    0,    0,    0,  181,    0,    4, 2325]])\n"
     ]
    },
    {
     "name": "stderr",
     "output_type": "stream",
     "text": [
      "Metric Validation/Accuracy improved. New best score: 0.714\n"
     ]
    },
    {
     "data": {
      "application/vnd.jupyter.widget-view+json": {
       "model_id": "5299c1c3239040928c4f345e00df1380",
       "version_major": 2,
       "version_minor": 0
      },
      "text/plain": [
       "Validation: 0it [00:00, ?it/s]"
      ]
     },
     "metadata": {},
     "output_type": "display_data"
    },
    {
     "name": "stdout",
     "output_type": "stream",
     "text": [
      "Epoch end: Validation, epoch number: 2\n",
      "ValidationEpoch/CM\n",
      " tensor([[1175,    1,  283, 2122,  458,  276,  308,   45,    0],\n",
      "        [   0, 4753,    0,    0,    0,  209,    0,    1,    0],\n",
      "        [ 116,   19, 3609,  213,  131,  560,  974,  151,    0],\n",
      "        [1220,    0,  313, 2155,  379,  307,  389,   42,    0],\n",
      "        [ 221,    0,  205,  760, 3009,  319,  289,   40,    0],\n",
      "        [   0,   38,  201,    0,    0, 4389,    5,  265,    0],\n",
      "        [ 301,    0, 1911,  551,  224,  381, 1361,  112,    0],\n",
      "        [   0,    0,    0,    0,    0,  172,    0, 4657,    0],\n",
      "        [   0,    0,    0,    0,    0,  181,    0,    4, 4725]])\n"
     ]
    },
    {
     "name": "stderr",
     "output_type": "stream",
     "text": [
      "Metric Validation/Accuracy improved by 0.061 >= min_delta = 0.0. New best score: 0.776\n"
     ]
    },
    {
     "name": "stdout",
     "output_type": "stream",
     "text": [
      "Epoch end: Train, epoch number: 1\n",
      "TrainEpoch/CM\n",
      " tensor([[1175,    1,  283, 2122,  458,  276,  308,   45,    0],\n",
      "        [   0, 4753,    0,    0,    0,  209,    0,    1,    0],\n",
      "        [ 116,   19, 3609,  213,  131,  560,  974,  151,    0],\n",
      "        [1220,    0,  313, 2155,  379,  307,  389,   42,    0],\n",
      "        [ 221,    0,  205,  760, 3009,  319,  289,   40,    0],\n",
      "        [   0,   38,  201,    0,    0, 4389,    5,  265,    0],\n",
      "        [ 301,    0, 1911,  551,  224,  381, 1361,  112,    0],\n",
      "        [   0,    0,    0,    0,    0,  172,    0, 4657,    0],\n",
      "        [   0,    0,    0,    0,    0,  181,    0,    4, 4725]])\n"
     ]
    },
    {
     "data": {
      "application/vnd.jupyter.widget-view+json": {
       "model_id": "5849fb2d82d443ff8942da8e01c50d71",
       "version_major": 2,
       "version_minor": 0
      },
      "text/plain": [
       "Validation: 0it [00:00, ?it/s]"
      ]
     },
     "metadata": {},
     "output_type": "display_data"
    },
    {
     "name": "stdout",
     "output_type": "stream",
     "text": [
      "Epoch end: Validation, epoch number: 3\n",
      "ValidationEpoch/CM\n",
      " tensor([[2653,    1,  283, 2852,  477,  276,  366,   45,    0],\n",
      "        [   0, 7173,    0,    0,    0,  209,    0,    1,    0],\n",
      "        [ 123,   19, 5771,  237,  133,  586, 1573,  151,    0],\n",
      "        [2525,    0,  329, 3011,  387,  307,  559,   42,    0],\n",
      "        [ 253,    0,  205,  767, 5325,  320,  298,   40,    0],\n",
      "        [   0,   38,  202,    0,    0, 6778,    5,  265,    0],\n",
      "        [ 529,    0, 2699,  777,  237,  388, 2469,  112,    0],\n",
      "        [   0,    0,    0,    0,    0,  172,    0, 7017,    0],\n",
      "        [   0,    0,    0,    0,    0,  181,    0,    4, 7125]])\n",
      "Epoch end: Train, epoch number: 2\n",
      "TrainEpoch/CM\n",
      " tensor([[2653,    1,  283, 2852,  477,  276,  366,   45,    0],\n",
      "        [   0, 7173,    0,    0,    0,  209,    0,    1,    0],\n",
      "        [ 123,   19, 5771,  237,  133,  586, 1573,  151,    0],\n",
      "        [2525,    0,  329, 3011,  387,  307,  559,   42,    0],\n",
      "        [ 253,    0,  205,  767, 5325,  320,  298,   40,    0],\n",
      "        [   0,   38,  202,    0,    0, 6778,    5,  265,    0],\n",
      "        [ 529,    0, 2699,  777,  237,  388, 2469,  112,    0],\n",
      "        [   0,    0,    0,    0,    0,  172,    0, 7017,    0],\n",
      "        [   0,    0,    0,    0,    0,  181,    0,    4, 7125]])\n"
     ]
    },
    {
     "name": "stderr",
     "output_type": "stream",
     "text": [
      "Metric Validation/Accuracy improved by 0.035 >= min_delta = 0.0. New best score: 0.810\n"
     ]
    },
    {
     "data": {
      "application/vnd.jupyter.widget-view+json": {
       "model_id": "b462ab33340841e4a91326f47a991c25",
       "version_major": 2,
       "version_minor": 0
      },
      "text/plain": [
       "Validation: 0it [00:00, ?it/s]"
      ]
     },
     "metadata": {},
     "output_type": "display_data"
    },
    {
     "name": "stdout",
     "output_type": "stream",
     "text": [
      "Epoch end: Validation, epoch number: 4\n",
      "ValidationEpoch/CM\n",
      " tensor([[3899,    1,  283, 3767,  488,  276,  479,   45,    0],\n",
      "        [   0, 9593,    0,    0,    0,  209,    0,    1,    0],\n",
      "        [ 125,   19, 8010,  250,  133,  601, 2124,  151,    0],\n",
      "        [3320,    0,  330, 4362,  388,  307,  766,   42,    0],\n",
      "        [ 274,    0,  205,  767, 7669,  320,  298,   40,    0],\n",
      "        [   0,   38,  204,    0,    0, 9166,    5,  265,    0],\n",
      "        [ 634,    0, 3465, 1039,  237,  396, 3698,  112,    0],\n",
      "        [   0,    0,    0,    0,    0,  172,    0, 9377,    0],\n",
      "        [   0,    0,    0,    0,    0,  181,    0,    4, 9525]])\n"
     ]
    },
    {
     "name": "stderr",
     "output_type": "stream",
     "text": [
      "Metric Validation/Accuracy improved by 0.018 >= min_delta = 0.0. New best score: 0.828\n"
     ]
    },
    {
     "name": "stdout",
     "output_type": "stream",
     "text": [
      "Epoch end: Train, epoch number: 3\n",
      "TrainEpoch/CM\n",
      " tensor([[3899,    1,  283, 3767,  488,  276,  479,   45,    0],\n",
      "        [   0, 9593,    0,    0,    0,  209,    0,    1,    0],\n",
      "        [ 125,   19, 8010,  250,  133,  601, 2124,  151,    0],\n",
      "        [3320,    0,  330, 4362,  388,  307,  766,   42,    0],\n",
      "        [ 274,    0,  205,  767, 7669,  320,  298,   40,    0],\n",
      "        [   0,   38,  204,    0,    0, 9166,    5,  265,    0],\n",
      "        [ 634,    0, 3465, 1039,  237,  396, 3698,  112,    0],\n",
      "        [   0,    0,    0,    0,    0,  172,    0, 9377,    0],\n",
      "        [   0,    0,    0,    0,    0,  181,    0,    4, 9525]])\n"
     ]
    },
    {
     "data": {
      "application/vnd.jupyter.widget-view+json": {
       "model_id": "2aa8eabf87534e06a875f3fd11fc8553",
       "version_major": 2,
       "version_minor": 0
      },
      "text/plain": [
       "Validation: 0it [00:00, ?it/s]"
      ]
     },
     "metadata": {},
     "output_type": "display_data"
    },
    {
     "name": "stdout",
     "output_type": "stream",
     "text": [
      "Epoch end: Validation, epoch number: 5\n",
      "ValidationEpoch/CM\n",
      " tensor([[ 5180,     1,   283,  4718,   491,   276,   529,    45,     0],\n",
      "        [    0, 12013,     0,     0,     0,   209,     0,     1,     0],\n",
      "        [  125,    19, 10407,   251,   133,   607,  2540,   151,     0],\n",
      "        [ 3926,     0,   331,  6005,   388,   307,   871,    42,     0],\n",
      "        [  292,     0,   205,   768, 10015,   320,   298,    40,     0],\n",
      "        [    0,    38,   204,     0,     0, 11555,     6,   265,     0],\n",
      "        [  708,     0,  4229,  1314,   238,   399,  4951,   112,     0],\n",
      "        [    0,     0,     0,     0,     0,   172,     0, 11737,     0],\n",
      "        [    0,     0,     0,     0,     0,   181,     0,     4, 11925]])\n",
      "Epoch end: Train, epoch number: 4\n",
      "TrainEpoch/CM\n",
      " tensor([[ 5180,     1,   283,  4718,   491,   276,   529,    45,     0],\n",
      "        [    0, 12013,     0,     0,     0,   209,     0,     1,     0],\n",
      "        [  125,    19, 10407,   251,   133,   607,  2540,   151,     0],\n",
      "        [ 3926,     0,   331,  6005,   388,   307,   871,    42,     0],\n",
      "        [  292,     0,   205,   768, 10015,   320,   298,    40,     0],\n",
      "        [    0,    38,   204,     0,     0, 11555,     6,   265,     0],\n",
      "        [  708,     0,  4229,  1314,   238,   399,  4951,   112,     0],\n",
      "        [    0,     0,     0,     0,     0,   172,     0, 11737,     0],\n",
      "        [    0,     0,     0,     0,     0,   181,     0,     4, 11925]])\n"
     ]
    },
    {
     "data": {
      "application/vnd.jupyter.widget-view+json": {
       "model_id": "9f3211aedd2b4842b8608e30ed705e58",
       "version_major": 2,
       "version_minor": 0
      },
      "text/plain": [
       "Validation: 0it [00:00, ?it/s]"
      ]
     },
     "metadata": {},
     "output_type": "display_data"
    },
    {
     "name": "stdout",
     "output_type": "stream",
     "text": [
      "Epoch end: Validation, epoch number: 6\n",
      "ValidationEpoch/CM\n",
      " tensor([[ 6896,     1,   283,  5239,   504,   276,   564,    45,     0],\n",
      "        [    0, 14433,     0,     0,     0,   209,     0,     1,     0],\n",
      "        [  125,    19, 12666,   251,   133,   619,  3089,   151,     0],\n",
      "        [ 4509,     0,   331,  7666,   389,   307,   981,    42,     0],\n",
      "        [  310,     0,   205,   771, 12356,   320,   301,    40,     0],\n",
      "        [    0,    38,   204,     0,     0, 13945,     6,   265,     0],\n",
      "        [  758,     0,  4795,  1551,   240,   409,  6456,   112,     0],\n",
      "        [    0,     0,     0,     0,     0,   172,     0, 14097,     0],\n",
      "        [    0,     0,     0,     0,     0,   181,     0,     4, 14325]])\n",
      "Epoch end: Train, epoch number: 5\n"
     ]
    },
    {
     "name": "stderr",
     "output_type": "stream",
     "text": [
      "Metric Validation/Accuracy improved by 0.067 >= min_delta = 0.0. New best score: 0.895\n"
     ]
    },
    {
     "name": "stdout",
     "output_type": "stream",
     "text": [
      "TrainEpoch/CM\n",
      " tensor([[ 6896,     1,   283,  5239,   504,   276,   564,    45,     0],\n",
      "        [    0, 14433,     0,     0,     0,   209,     0,     1,     0],\n",
      "        [  125,    19, 12666,   251,   133,   619,  3089,   151,     0],\n",
      "        [ 4509,     0,   331,  7666,   389,   307,   981,    42,     0],\n",
      "        [  310,     0,   205,   771, 12356,   320,   301,    40,     0],\n",
      "        [    0,    38,   204,     0,     0, 13945,     6,   265,     0],\n",
      "        [  758,     0,  4795,  1551,   240,   409,  6456,   112,     0],\n",
      "        [    0,     0,     0,     0,     0,   172,     0, 14097,     0],\n",
      "        [    0,     0,     0,     0,     0,   181,     0,     4, 14325]])\n"
     ]
    },
    {
     "data": {
      "application/vnd.jupyter.widget-view+json": {
       "model_id": "af2a29e4a57f4c0e975b189bec033ee6",
       "version_major": 2,
       "version_minor": 0
      },
      "text/plain": [
       "Validation: 0it [00:00, ?it/s]"
      ]
     },
     "metadata": {},
     "output_type": "display_data"
    },
    {
     "name": "stdout",
     "output_type": "stream",
     "text": [
      "Epoch end: Validation, epoch number: 7\n",
      "ValidationEpoch/CM\n",
      " tensor([[ 8772,     1,   283,  5618,   512,   276,   586,    45,     0],\n",
      "        [    0, 16853,     0,     0,     0,   209,     0,     1,     0],\n",
      "        [  125,    19, 15117,   251,   133,   624,  3453,   151,     0],\n",
      "        [ 4864,     0,   331,  9565,   390,   307,  1081,    42,     0],\n",
      "        [  333,     0,   205,   771, 14690,   320,   309,    40,     0],\n",
      "        [    0,    38,   204,     0,     0, 16335,     6,   265,     0],\n",
      "        [  793,     0,  5522,  1802,   242,   412,  7808,   112,     0],\n",
      "        [    0,     0,     0,     0,     0,   172,     0, 16457,     0],\n",
      "        [    0,     0,     0,     0,     0,   181,     0,     4, 16725]])\n",
      "Epoch end: Train, epoch number: 6\n",
      "TrainEpoch/CM\n",
      " tensor([[ 8772,     1,   283,  5618,   512,   276,   586,    45,     0],\n",
      "        [    0, 16853,     0,     0,     0,   209,     0,     1,     0],\n",
      "        [  125,    19, 15117,   251,   133,   624,  3453,   151,     0],\n",
      "        [ 4864,     0,   331,  9565,   390,   307,  1081,    42,     0],\n",
      "        [  333,     0,   205,   771, 14690,   320,   309,    40,     0],\n",
      "        [    0,    38,   204,     0,     0, 16335,     6,   265,     0],\n",
      "        [  793,     0,  5522,  1802,   242,   412,  7808,   112,     0],\n",
      "        [    0,     0,     0,     0,     0,   172,     0, 16457,     0],\n",
      "        [    0,     0,     0,     0,     0,   181,     0,     4, 16725]])\n"
     ]
    },
    {
     "data": {
      "application/vnd.jupyter.widget-view+json": {
       "model_id": "68ddee15d0fd438e9f6e447222b30d23",
       "version_major": 2,
       "version_minor": 0
      },
      "text/plain": [
       "Validation: 0it [00:00, ?it/s]"
      ]
     },
     "metadata": {},
     "output_type": "display_data"
    },
    {
     "name": "stdout",
     "output_type": "stream",
     "text": [
      "Epoch end: Validation, epoch number: 8\n",
      "ValidationEpoch/CM\n",
      " tensor([[10835,     1,   283,  5825,   516,   276,   597,    45,     0],\n",
      "        [    0, 19273,     0,     0,     0,   209,     0,     1,     0],\n",
      "        [  125,    19, 17456,   251,   133,   632,  3926,   151,     0],\n",
      "        [ 5230,     0,   331, 11486,   390,   307,  1149,    42,     0],\n",
      "        [  338,     0,   205,   771, 17046,   320,   313,    40,     0],\n",
      "        [    0,    38,   204,     0,     0, 18725,     6,   265,     0],\n",
      "        [  830,     0,  6012,  2041,   242,   415,  9409,   112,     0],\n",
      "        [    0,     0,     0,     0,     0,   172,     0, 18817,     0],\n",
      "        [    0,     0,     0,     0,     0,   181,     0,     4, 19125]])\n",
      "Epoch end: Train, epoch number: 7\n",
      "TrainEpoch/CM\n",
      " tensor([[10835,     1,   283,  5825,   516,   276,   597,    45,     0],\n",
      "        [    0, 19273,     0,     0,     0,   209,     0,     1,     0],\n",
      "        [  125,    19, 17456,   251,   133,   632,  3926,   151,     0],\n",
      "        [ 5230,     0,   331, 11486,   390,   307,  1149,    42,     0],\n",
      "        [  338,     0,   205,   771, 17046,   320,   313,    40,     0],\n",
      "        [    0,    38,   204,     0,     0, 18725,     6,   265,     0],\n",
      "        [  830,     0,  6012,  2041,   242,   415,  9409,   112,     0],\n",
      "        [    0,     0,     0,     0,     0,   172,     0, 18817,     0],\n",
      "        [    0,     0,     0,     0,     0,   181,     0,     4, 19125]])\n"
     ]
    },
    {
     "name": "stderr",
     "output_type": "stream",
     "text": [
      "Metric Validation/Accuracy improved by 0.010 >= min_delta = 0.0. New best score: 0.906\n"
     ]
    },
    {
     "data": {
      "application/vnd.jupyter.widget-view+json": {
       "model_id": "291969af7d424b3794b55c954838afd3",
       "version_major": 2,
       "version_minor": 0
      },
      "text/plain": [
       "Validation: 0it [00:00, ?it/s]"
      ]
     },
     "metadata": {},
     "output_type": "display_data"
    },
    {
     "name": "stdout",
     "output_type": "stream",
     "text": [
      "Epoch end: Validation, epoch number: 9\n",
      "ValidationEpoch/CM\n",
      " tensor([[13018,     1,   283,  5906,   520,   276,   614,    45,     0],\n",
      "        [    0, 21693,     0,     0,     0,   209,     0,     1,     0],\n",
      "        [  125,    19, 19935,   253,   133,   634,  4263,   151,     0],\n",
      "        [ 5372,     0,   331, 13609,   390,   307,  1239,    42,     0],\n",
      "        [  345,     0,   205,   771, 19401,   320,   316,    40,     0],\n",
      "        [    0,    38,   204,     0,     0, 21115,     6,   265,     0],\n",
      "        [  843,     0,  6445,  2303,   242,   417, 11069,   112,     0],\n",
      "        [    0,     0,     0,     0,     0,   172,     0, 21177,     0],\n",
      "        [    0,     0,     0,     0,     0,   181,     0,     4, 21525]])\n",
      "Epoch end: Train, epoch number: 8\n",
      "TrainEpoch/CM\n",
      " tensor([[13018,     1,   283,  5906,   520,   276,   614,    45,     0],\n",
      "        [    0, 21693,     0,     0,     0,   209,     0,     1,     0],\n",
      "        [  125,    19, 19935,   253,   133,   634,  4263,   151,     0],\n",
      "        [ 5372,     0,   331, 13609,   390,   307,  1239,    42,     0],\n",
      "        [  345,     0,   205,   771, 19401,   320,   316,    40,     0],\n",
      "        [    0,    38,   204,     0,     0, 21115,     6,   265,     0],\n",
      "        [  843,     0,  6445,  2303,   242,   417, 11069,   112,     0],\n",
      "        [    0,     0,     0,     0,     0,   172,     0, 21177,     0],\n",
      "        [    0,     0,     0,     0,     0,   181,     0,     4, 21525]])\n"
     ]
    },
    {
     "name": "stderr",
     "output_type": "stream",
     "text": [
      "Metric Validation/Accuracy improved by 0.043 >= min_delta = 0.0. New best score: 0.949\n"
     ]
    },
    {
     "data": {
      "application/vnd.jupyter.widget-view+json": {
       "model_id": "2e42b6bd77514f48abd490ff3a8d353f",
       "version_major": 2,
       "version_minor": 0
      },
      "text/plain": [
       "Validation: 0it [00:00, ?it/s]"
      ]
     },
     "metadata": {},
     "output_type": "display_data"
    },
    {
     "name": "stdout",
     "output_type": "stream",
     "text": [
      "Epoch end: Validation, epoch number: 10\n",
      "ValidationEpoch/CM\n",
      " tensor([[15206,     1,   283,  5993,   522,   276,   622,    45,     0],\n",
      "        [    0, 24113,     0,     0,     0,   209,     0,     1,     0],\n",
      "        [  125,    19, 22353,   253,   133,   636,  4663,   151,     0],\n",
      "        [ 5535,     0,   331, 15739,   390,   307,  1301,    42,     0],\n",
      "        [  346,     0,   205,   771, 21759,   320,   322,    40,     0],\n",
      "        [    0,    38,   204,     0,     0, 23505,     6,   265,     0],\n",
      "        [  864,     0,  6857,  2481,   244,   419, 12824,   112,     0],\n",
      "        [    0,     0,     0,     0,     0,   172,     0, 23537,     0],\n",
      "        [    0,     0,     0,     0,     0,   181,     0,     4, 23925]])\n",
      "Epoch end: Train, epoch number: 9\n",
      "TrainEpoch/CM\n",
      " "
     ]
    },
    {
     "name": "stderr",
     "output_type": "stream",
     "text": [
      "Metric Validation/Accuracy improved by 0.001 >= min_delta = 0.0. New best score: 0.949\n"
     ]
    },
    {
     "name": "stdout",
     "output_type": "stream",
     "text": [
      "tensor([[15206,     1,   283,  5993,   522,   276,   622,    45,     0],\n",
      "        [    0, 24113,     0,     0,     0,   209,     0,     1,     0],\n",
      "        [  125,    19, 22353,   253,   133,   636,  4663,   151,     0],\n",
      "        [ 5535,     0,   331, 15739,   390,   307,  1301,    42,     0],\n",
      "        [  346,     0,   205,   771, 21759,   320,   322,    40,     0],\n",
      "        [    0,    38,   204,     0,     0, 23505,     6,   265,     0],\n",
      "        [  864,     0,  6857,  2481,   244,   419, 12824,   112,     0],\n",
      "        [    0,     0,     0,     0,     0,   172,     0, 23537,     0],\n",
      "        [    0,     0,     0,     0,     0,   181,     0,     4, 23925]])\n"
     ]
    },
    {
     "data": {
      "application/vnd.jupyter.widget-view+json": {
       "model_id": "492beb42ec2041d291c31399e8abdcf8",
       "version_major": 2,
       "version_minor": 0
      },
      "text/plain": [
       "Validation: 0it [00:00, ?it/s]"
      ]
     },
     "metadata": {},
     "output_type": "display_data"
    },
    {
     "name": "stdout",
     "output_type": "stream",
     "text": [
      "Epoch end: Validation, epoch number: 11\n",
      "ValidationEpoch/CM\n",
      " tensor([[17425,     1,   283,  6053,   522,   276,   628,    45,     0],\n",
      "        [    0, 26533,     0,     0,     0,   209,     0,     1,     0],\n",
      "        [  125,    19, 24828,   253,   133,   636,  5008,   151,     0],\n",
      "        [ 5621,     0,   331, 17932,   390,   307,  1377,    42,     0],\n",
      "        [  347,     0,   205,   771, 24115,   320,   330,    40,     0],\n",
      "        [    0,    38,   204,     0,     0, 25895,     6,   265,     0],\n",
      "        [  869,     0,  7208,  2644,   244,   423, 14671,   112,     0],\n",
      "        [    0,     0,     0,     0,     0,   172,     0, 25897,     0],\n",
      "        [    0,     0,     0,     0,     0,   181,     0,     4, 26325]])\n",
      "Epoch end: Train, epoch number: 10\n",
      "TrainEpoch/CM\n",
      " tensor([[17425,     1,   283,  6053,   522,   276,   628,    45,     0],\n",
      "        [    0, 26533,     0,     0,     0,   209,     0,     1,     0],\n",
      "        [  125,    19, 24828,   253,   133,   636,  5008,   151,     0],\n",
      "        [ 5621,     0,   331, 17932,   390,   307,  1377,    42,     0],\n",
      "        [  347,     0,   205,   771, 24115,   320,   330,    40,     0],\n",
      "        [    0,    38,   204,     0,     0, 25895,     6,   265,     0],\n",
      "        [  869,     0,  7208,  2644,   244,   423, 14671,   112,     0],\n",
      "        [    0,     0,     0,     0,     0,   172,     0, 25897,     0],\n",
      "        [    0,     0,     0,     0,     0,   181,     0,     4, 26325]])\n"
     ]
    },
    {
     "name": "stderr",
     "output_type": "stream",
     "text": [
      "Metric Validation/Accuracy improved by 0.008 >= min_delta = 0.0. New best score: 0.957\n"
     ]
    },
    {
     "data": {
      "application/vnd.jupyter.widget-view+json": {
       "model_id": "6cb1cefeadc641ffb3becd1ca66e8307",
       "version_major": 2,
       "version_minor": 0
      },
      "text/plain": [
       "Validation: 0it [00:00, ?it/s]"
      ]
     },
     "metadata": {},
     "output_type": "display_data"
    },
    {
     "name": "stdout",
     "output_type": "stream",
     "text": [
      "Epoch end: Validation, epoch number: 12\n",
      "ValidationEpoch/CM\n",
      " tensor([[19668,     1,   283,  6093,   522,   276,   630,    45,     0],\n",
      "        [    0, 28953,     0,     0,     0,   209,     0,     1,     0],\n",
      "        [  125,    19, 27382,   253,   133,   636,  5274,   151,     0],\n",
      "        [ 5672,     0,   331, 20180,   390,   307,  1433,    42,     0],\n",
      "        [  347,     0,   205,   771, 26477,   320,   333,    40,     0],\n",
      "        [    0,    38,   204,     0,     0, 28285,     6,   265,     0],\n",
      "        [  876,     0,  7522,  2819,   245,   426, 16541,   112,     0],\n",
      "        [    0,     0,     0,     0,     0,   172,     0, 28257,     0],\n",
      "        [    0,     0,     0,     0,     0,   181,     0,     4, 28725]])\n",
      "Epoch end: Train, epoch number: 11\n",
      "TrainEpoch/CM\n",
      " tensor([[19668,     1,   283,  6093,   522,   276,   630,    45,     0],\n",
      "        [    0, 28953,     0,     0,     0,   209,     0,     1,     0],\n",
      "        [  125,    19, 27382,   253,   133,   636,  5274,   151,     0],\n",
      "        [ 5672,     0,   331, 20180,   390,   307,  1433,    42,     0],\n",
      "        [  347,     0,   205,   771, 26477,   320,   333,    40,     0],\n",
      "        [    0,    38,   204,     0,     0, 28285,     6,   265,     0],\n",
      "        [  876,     0,  7522,  2819,   245,   426, 16541,   112,     0],\n",
      "        [    0,     0,     0,     0,     0,   172,     0, 28257,     0],\n",
      "        [    0,     0,     0,     0,     0,   181,     0,     4, 28725]])\n"
     ]
    },
    {
     "name": "stderr",
     "output_type": "stream",
     "text": [
      "Metric Validation/Accuracy improved by 0.008 >= min_delta = 0.0. New best score: 0.965\n"
     ]
    },
    {
     "data": {
      "application/vnd.jupyter.widget-view+json": {
       "model_id": "d1d2b5dd5a1840ed9c99dbb00603d2b6",
       "version_major": 2,
       "version_minor": 0
      },
      "text/plain": [
       "Validation: 0it [00:00, ?it/s]"
      ]
     },
     "metadata": {},
     "output_type": "display_data"
    },
    {
     "name": "stdout",
     "output_type": "stream",
     "text": [
      "Epoch end: Validation, epoch number: 13\n",
      "ValidationEpoch/CM\n",
      " tensor([[21941,     1,   283,  6105,   522,   276,   630,    45,     0],\n",
      "        [    0, 31373,     0,     0,     0,   209,     0,     1,     0],\n",
      "        [  125,    19, 30019,   253,   133,   636,  5457,   151,     0],\n",
      "        [ 5683,     0,   331, 22488,   390,   307,  1469,    42,     0],\n",
      "        [  347,     0,   205,   771, 28837,   320,   338,    40,     0],\n",
      "        [    0,    38,   204,     0,     0, 30675,     6,   265,     0],\n",
      "        [  876,     0,  7838,  2977,   245,   426, 18437,   112,     0],\n",
      "        [    0,     0,     0,     0,     0,   172,     0, 30617,     0],\n",
      "        [    0,     0,     0,     0,     0,   181,     0,     4, 31125]])\n"
     ]
    },
    {
     "name": "stderr",
     "output_type": "stream",
     "text": [
      "Metric Validation/Accuracy improved by 0.000 >= min_delta = 0.0. New best score: 0.966\n"
     ]
    },
    {
     "name": "stdout",
     "output_type": "stream",
     "text": [
      "Epoch end: Train, epoch number: 12\n",
      "TrainEpoch/CM\n",
      " tensor([[21941,     1,   283,  6105,   522,   276,   630,    45,     0],\n",
      "        [    0, 31373,     0,     0,     0,   209,     0,     1,     0],\n",
      "        [  125,    19, 30019,   253,   133,   636,  5457,   151,     0],\n",
      "        [ 5683,     0,   331, 22488,   390,   307,  1469,    42,     0],\n",
      "        [  347,     0,   205,   771, 28837,   320,   338,    40,     0],\n",
      "        [    0,    38,   204,     0,     0, 30675,     6,   265,     0],\n",
      "        [  876,     0,  7838,  2977,   245,   426, 18437,   112,     0],\n",
      "        [    0,     0,     0,     0,     0,   172,     0, 30617,     0],\n",
      "        [    0,     0,     0,     0,     0,   181,     0,     4, 31125]])\n"
     ]
    },
    {
     "data": {
      "application/vnd.jupyter.widget-view+json": {
       "model_id": "4392df122f494f3cb9193bafc0dc2278",
       "version_major": 2,
       "version_minor": 0
      },
      "text/plain": [
       "Validation: 0it [00:00, ?it/s]"
      ]
     },
     "metadata": {},
     "output_type": "display_data"
    },
    {
     "name": "stdout",
     "output_type": "stream",
     "text": [
      "Epoch end: Validation, epoch number: 14\n",
      "ValidationEpoch/CM\n",
      " tensor([[24211,     1,   283,  6120,   522,   276,   630,    45,     0],\n",
      "        [    0, 33793,     0,     0,     0,   209,     0,     1,     0],\n",
      "        [  125,    19, 32593,   253,   133,   636,  5703,   151,     0],\n",
      "        [ 5697,     0,   331, 24778,   390,   307,  1520,    42,     0],\n",
      "        [  347,     0,   205,   771, 31197,   320,   343,    40,     0],\n",
      "        [    0,    38,   204,     0,     0, 33065,     6,   265,     0],\n",
      "        [  877,     0,  8061,  3124,   245,   426, 20436,   112,     0],\n",
      "        [    0,     0,     0,     0,     0,   172,     0, 32977,     0],\n",
      "        [    0,     0,     0,     0,     0,   181,     0,     4, 33525]])\n",
      "Epoch end: Train, epoch number: 13\n",
      "TrainEpoch/CM\n",
      " tensor([[24211,     1,   283,  6120,   522,   276,   630,    45,     0],\n",
      "        [    0, 33793,     0,     0,     0,   209,     0,     1,     0],\n",
      "        [  125,    19, 32593,   253,   133,   636,  5703,   151,     0],\n",
      "        [ 5697,     0,   331, 24778,   390,   307,  1520,    42,     0],\n",
      "        [  347,     0,   205,   771, 31197,   320,   343,    40,     0],\n",
      "        [    0,    38,   204,     0,     0, 33065,     6,   265,     0],\n",
      "        [  877,     0,  8061,  3124,   245,   426, 20436,   112,     0],\n",
      "        [    0,     0,     0,     0,     0,   172,     0, 32977,     0],\n",
      "        [    0,     0,     0,     0,     0,   181,     0,     4, 33525]])\n"
     ]
    },
    {
     "name": "stderr",
     "output_type": "stream",
     "text": [
      "Metric Validation/Accuracy improved by 0.006 >= min_delta = 0.0. New best score: 0.972\n"
     ]
    },
    {
     "data": {
      "application/vnd.jupyter.widget-view+json": {
       "model_id": "549218c2972441358b6a967d0255a51b",
       "version_major": 2,
       "version_minor": 0
      },
      "text/plain": [
       "Validation: 0it [00:00, ?it/s]"
      ]
     },
     "metadata": {},
     "output_type": "display_data"
    },
    {
     "name": "stdout",
     "output_type": "stream",
     "text": [
      "Epoch end: Validation, epoch number: 15\n",
      "ValidationEpoch/CM\n",
      " tensor([[26487,     1,   283,  6125,   522,   276,   634,    45,     0],\n",
      "        [    0, 36213,     0,     0,     0,   209,     0,     1,     0],\n",
      "        [  125,    19, 35181,   253,   133,   636,  5935,   151,     0],\n",
      "        [ 5703,     0,   331, 27063,   390,   307,  1584,    42,     0],\n",
      "        [  347,     0,   205,   771, 33557,   320,   348,    40,     0],\n",
      "        [    0,    38,   204,     0,     0, 35455,     6,   265,     0],\n",
      "        [  877,     0,  8257,  3260,   245,   427, 22473,   112,     0],\n",
      "        [    0,     0,     0,     0,     0,   172,     0, 35337,     0],\n",
      "        [    0,     0,     0,     0,     0,   181,     0,     4, 35925]])\n",
      "Epoch end: Train, epoch number: 14\n",
      "TrainEpoch/CM\n",
      " tensor([[26487,     1,   283,  6125,   522,   276,   634,    45,     0],\n",
      "        [    0, 36213,     0,     0,     0,   209,     0,     1,     0],\n",
      "        [  125,    19, 35181,   253,   133,   636,  5935,   151,     0],\n",
      "        [ 5703,     0,   331, 27063,   390,   307,  1584,    42,     0],\n",
      "        [  347,     0,   205,   771, 33557,   320,   348,    40,     0],\n",
      "        [    0,    38,   204,     0,     0, 35455,     6,   265,     0],\n",
      "        [  877,     0,  8257,  3260,   245,   427, 22473,   112,     0],\n",
      "        [    0,     0,     0,     0,     0,   172,     0, 35337,     0],\n",
      "        [    0,     0,     0,     0,     0,   181,     0,     4, 35925]])\n"
     ]
    },
    {
     "data": {
      "application/vnd.jupyter.widget-view+json": {
       "model_id": "c1d6479aca28407aba035960b736ff2e",
       "version_major": 2,
       "version_minor": 0
      },
      "text/plain": [
       "Validation: 0it [00:00, ?it/s]"
      ]
     },
     "metadata": {},
     "output_type": "display_data"
    },
    {
     "name": "stdout",
     "output_type": "stream",
     "text": [
      "Epoch end: Validation, epoch number: 16\n",
      "ValidationEpoch/CM\n",
      " tensor([[28731,     1,   283,  6164,   523,   276,   635,    45,     0],\n",
      "        [    0, 38633,     0,     0,     0,   209,     0,     1,     0],\n",
      "        [  125,    19, 37839,   253,   133,   637,  6096,   151,     0],\n",
      "        [ 5727,     0,   331, 29334,   390,   307,  1644,    42,     0],\n",
      "        [  348,     0,   205,   771, 35904,   320,   365,    40,     0],\n",
      "        [    0,    38,   204,     0,     0, 37845,     6,   265,     0],\n",
      "        [  877,     0,  8596,  3410,   247,   427, 24352,   112,     0],\n",
      "        [    0,     0,     0,     0,     0,   172,     0, 37697,     0],\n",
      "        [    0,     0,     0,     0,     0,   181,     0,     4, 38325]])\n",
      "Epoch end: Train, epoch number: 15\n",
      "TrainEpoch/CM\n",
      " tensor([[28731,     1,   283,  6164,   523,   276,   635,    45,     0],\n",
      "        [    0, 38633,     0,     0,     0,   209,     0,     1,     0],\n",
      "        [  125,    19, 37839,   253,   133,   637,  6096,   151,     0],\n",
      "        [ 5727,     0,   331, 29334,   390,   307,  1644,    42,     0],\n",
      "        [  348,     0,   205,   771, 35904,   320,   365,    40,     0],\n",
      "        [    0,    38,   204,     0,     0, 37845,     6,   265,     0],\n",
      "        [  877,     0,  8596,  3410,   247,   427, 24352,   112,     0],\n",
      "        [    0,     0,     0,     0,     0,   172,     0, 37697,     0],\n",
      "        [    0,     0,     0,     0,     0,   181,     0,     4, 38325]])\n"
     ]
    },
    {
     "data": {
      "application/vnd.jupyter.widget-view+json": {
       "model_id": "522676786af3453fbaf4a2e07057be1b",
       "version_major": 2,
       "version_minor": 0
      },
      "text/plain": [
       "Validation: 0it [00:00, ?it/s]"
      ]
     },
     "metadata": {},
     "output_type": "display_data"
    },
    {
     "name": "stdout",
     "output_type": "stream",
     "text": [
      "Epoch end: Validation, epoch number: 17\n",
      "ValidationEpoch/CM\n",
      " tensor([[30953,     1,   283,  6218,   525,   276,   642,    45,     0],\n",
      "        [    0, 41053,     0,     0,     0,   209,     0,     1,     0],\n",
      "        [  125,    19, 40459,   257,   133,   637,  6292,   151,     0],\n",
      "        [ 5792,     0,   334, 31541,   390,   307,  1724,    42,     0],\n",
      "        [  349,     0,   205,   771, 38261,   320,   372,    40,     0],\n",
      "        [    0,    38,   204,     0,     0, 40235,     6,   265,     0],\n",
      "        [  887,     0,  8816,  3569,   248,   427, 26332,   112,     0],\n",
      "        [    0,     0,     0,     0,     0,   172,     0, 40057,     0],\n",
      "        [    0,     0,     0,     0,     0,   181,     0,     4, 40725]])\n"
     ]
    },
    {
     "name": "stderr",
     "output_type": "stream",
     "text": [
      "Metric Validation/Accuracy improved by 0.004 >= min_delta = 0.0. New best score: 0.976\n"
     ]
    },
    {
     "name": "stdout",
     "output_type": "stream",
     "text": [
      "Epoch end: Train, epoch number: 16\n",
      "TrainEpoch/CM\n",
      " tensor([[30953,     1,   283,  6218,   525,   276,   642,    45,     0],\n",
      "        [    0, 41053,     0,     0,     0,   209,     0,     1,     0],\n",
      "        [  125,    19, 40459,   257,   133,   637,  6292,   151,     0],\n",
      "        [ 5792,     0,   334, 31541,   390,   307,  1724,    42,     0],\n",
      "        [  349,     0,   205,   771, 38261,   320,   372,    40,     0],\n",
      "        [    0,    38,   204,     0,     0, 40235,     6,   265,     0],\n",
      "        [  887,     0,  8816,  3569,   248,   427, 26332,   112,     0],\n",
      "        [    0,     0,     0,     0,     0,   172,     0, 40057,     0],\n",
      "        [    0,     0,     0,     0,     0,   181,     0,     4, 40725]])\n"
     ]
    },
    {
     "data": {
      "application/vnd.jupyter.widget-view+json": {
       "model_id": "56fcf32faaf9400b82cd9da32d4a23b3",
       "version_major": 2,
       "version_minor": 0
      },
      "text/plain": [
       "Validation: 0it [00:00, ?it/s]"
      ]
     },
     "metadata": {},
     "output_type": "display_data"
    },
    {
     "name": "stdout",
     "output_type": "stream",
     "text": [
      "Epoch end: Validation, epoch number: 18\n",
      "ValidationEpoch/CM\n",
      " tensor([[33231,     1,   283,  6223,   525,   276,   644,    45,     0],\n",
      "        [    0, 43473,     0,     0,     0,   209,     0,     1,     0],\n",
      "        [  125,    19, 43187,   257,   133,   637,  6384,   151,     0],\n",
      "        [ 5796,     0,   334, 33836,   390,   307,  1780,    42,     0],\n",
      "        [  349,     0,   205,   771, 40622,   320,   376,    40,     0],\n",
      "        [    0,    38,   204,     0,     0, 42625,     6,   265,     0],\n",
      "        [  890,     0,  8997,  3699,   248,   428, 28387,   112,     0],\n",
      "        [    0,     0,     0,     0,     0,   172,     0, 42417,     0],\n",
      "        [    0,     0,     0,     0,     0,   181,     0,     4, 43125]])\n",
      "Epoch end: Train, epoch number: 17\n",
      "TrainEpoch/CM\n",
      " tensor([[33231,     1,   283,  6223,   525,   276,   644,    45,     0],\n",
      "        [    0, 43473,     0,     0,     0,   209,     0,     1,     0],\n",
      "        [  125,    19, 43187,   257,   133,   637,  6384,   151,     0],\n",
      "        [ 5796,     0,   334, 33836,   390,   307,  1780,    42,     0],\n",
      "        [  349,     0,   205,   771, 40622,   320,   376,    40,     0],\n",
      "        [    0,    38,   204,     0,     0, 42625,     6,   265,     0],\n",
      "        [  890,     0,  8997,  3699,   248,   428, 28387,   112,     0],\n",
      "        [    0,     0,     0,     0,     0,   172,     0, 42417,     0],\n",
      "        [    0,     0,     0,     0,     0,   181,     0,     4, 43125]])\n"
     ]
    },
    {
     "data": {
      "application/vnd.jupyter.widget-view+json": {
       "model_id": "82bc940e3e34422d9d9eec97fa9a7da1",
       "version_major": 2,
       "version_minor": 0
      },
      "text/plain": [
       "Validation: 0it [00:00, ?it/s]"
      ]
     },
     "metadata": {},
     "output_type": "display_data"
    },
    {
     "name": "stdout",
     "output_type": "stream",
     "text": [
      "Epoch end: Validation, epoch number: 19\n",
      "ValidationEpoch/CM\n",
      " tensor([[35478,     1,   283,  6261,   525,   276,   644,    45,     0],\n",
      "        [    0, 45893,     0,     0,     0,   209,     0,     1,     0],\n",
      "        [  125,    19, 45848,   257,   133,   637,  6543,   151,     0],\n",
      "        [ 5827,     0,   334, 36119,   390,   307,  1821,    42,     0],\n",
      "        [  349,     0,   205,   771, 42974,   320,   389,    40,     0],\n",
      "        [    0,    38,   204,     0,     0, 45015,     6,   265,     0],\n",
      "        [  894,     0,  9292,  3841,   248,   428, 30316,   112,     0],\n",
      "        [    0,     0,     0,     0,     0,   172,     0, 44777,     0],\n",
      "        [    0,     0,     0,     0,     0,   181,     0,     4, 45525]])\n",
      "Epoch end: Train, epoch number: 18\n",
      "TrainEpoch/CM\n",
      " tensor([[35478,     1,   283,  6261,   525,   276,   644,    45,     0],\n",
      "        [    0, 45893,     0,     0,     0,   209,     0,     1,     0],\n",
      "        [  125,    19, 45848,   257,   133,   637,  6543,   151,     0],\n",
      "        [ 5827,     0,   334, 36119,   390,   307,  1821,    42,     0],\n",
      "        [  349,     0,   205,   771, 42974,   320,   389,    40,     0],\n",
      "        [    0,    38,   204,     0,     0, 45015,     6,   265,     0],\n",
      "        [  894,     0,  9292,  3841,   248,   428, 30316,   112,     0],\n",
      "        [    0,     0,     0,     0,     0,   172,     0, 44777,     0],\n",
      "        [    0,     0,     0,     0,     0,   181,     0,     4, 45525]])\n"
     ]
    },
    {
     "data": {
      "application/vnd.jupyter.widget-view+json": {
       "model_id": "306f325e0ed7402fb64e9abf2b1947d7",
       "version_major": 2,
       "version_minor": 0
      },
      "text/plain": [
       "Validation: 0it [00:00, ?it/s]"
      ]
     },
     "metadata": {},
     "output_type": "display_data"
    },
    {
     "name": "stdout",
     "output_type": "stream",
     "text": [
      "Epoch end: Validation, epoch number: 20\n",
      "ValidationEpoch/CM\n",
      " tensor([[37707,     1,   283,  6315,   525,   276,   646,    45,     0],\n",
      "        [    0, 48313,     0,     0,     0,   209,     0,     1,     0],\n",
      "        [  125,    19, 48451,   257,   133,   637,  6760,   151,     0],\n",
      "        [ 5877,     0,   334, 38396,   390,   307,  1849,    42,     0],\n",
      "        [  349,     0,   205,   771, 45325,   320,   403,    40,     0],\n",
      "        [    0,    38,   204,     0,     0, 47405,     6,   265,     0],\n",
      "        [  902,     0,  9572,  3987,   256,   428, 32244,   112,     0],\n",
      "        [    0,     0,     0,     0,     0,   172,     0, 47137,     0],\n",
      "        [    0,     0,     0,     0,     0,   181,     0,     4, 47925]])\n",
      "Epoch end: Train, epoch number: 19\n",
      "TrainEpoch/CM\n",
      " tensor([[37707,     1,   283,  6315,   525,   276,   646,    45,     0],\n",
      "        [    0, 48313,     0,     0,     0,   209,     0,     1,     0],\n",
      "        [  125,    19, 48451,   257,   133,   637,  6760,   151,     0],\n",
      "        [ 5877,     0,   334, 38396,   390,   307,  1849,    42,     0],\n",
      "        [  349,     0,   205,   771, 45325,   320,   403,    40,     0],\n",
      "        [    0,    38,   204,     0,     0, 47405,     6,   265,     0],\n",
      "        [  902,     0,  9572,  3987,   256,   428, 32244,   112,     0],\n",
      "        [    0,     0,     0,     0,     0,   172,     0, 47137,     0],\n",
      "        [    0,     0,     0,     0,     0,   181,     0,     4, 47925]])\n"
     ]
    },
    {
     "name": "stderr",
     "output_type": "stream",
     "text": [
      "Metric Validation/Accuracy improved by 0.004 >= min_delta = 0.0. New best score: 0.980\n"
     ]
    },
    {
     "data": {
      "application/vnd.jupyter.widget-view+json": {
       "model_id": "c81021ede36f4596932ef191559b1dae",
       "version_major": 2,
       "version_minor": 0
      },
      "text/plain": [
       "Validation: 0it [00:00, ?it/s]"
      ]
     },
     "metadata": {},
     "output_type": "display_data"
    },
    {
     "name": "stdout",
     "output_type": "stream",
     "text": [
      "Epoch end: Validation, epoch number: 21\n",
      "ValidationEpoch/CM\n",
      " tensor([[39985,     1,   283,  6321,   526,   276,   646,    45,     0],\n",
      "        [    0, 50733,     0,     0,     0,   209,     0,     1,     0],\n",
      "        [  125,    19, 51178,   257,   133,   637,  6853,   151,     0],\n",
      "        [ 5882,     0,   334, 40703,   390,   307,  1892,    42,     0],\n",
      "        [  349,     0,   205,   771, 47684,   320,   409,    40,     0],\n",
      "        [    0,    38,   204,     0,     0, 49795,     6,   265,     0],\n",
      "        [  903,     0,  9694,  4137,   258,   428, 34339,   112,     0],\n",
      "        [    0,     0,     0,     0,     0,   172,     0, 49497,     0],\n",
      "        [    0,     0,     0,     0,     0,   181,     0,     4, 50325]])\n",
      "Epoch end: Train, epoch number: 20\n"
     ]
    },
    {
     "name": "stderr",
     "output_type": "stream",
     "text": [
      "Metric Validation/Accuracy improved by 0.007 >= min_delta = 0.0. New best score: 0.986\n"
     ]
    },
    {
     "name": "stdout",
     "output_type": "stream",
     "text": [
      "TrainEpoch/CM\n",
      " tensor([[39985,     1,   283,  6321,   526,   276,   646,    45,     0],\n",
      "        [    0, 50733,     0,     0,     0,   209,     0,     1,     0],\n",
      "        [  125,    19, 51178,   257,   133,   637,  6853,   151,     0],\n",
      "        [ 5882,     0,   334, 40703,   390,   307,  1892,    42,     0],\n",
      "        [  349,     0,   205,   771, 47684,   320,   409,    40,     0],\n",
      "        [    0,    38,   204,     0,     0, 49795,     6,   265,     0],\n",
      "        [  903,     0,  9694,  4137,   258,   428, 34339,   112,     0],\n",
      "        [    0,     0,     0,     0,     0,   172,     0, 49497,     0],\n",
      "        [    0,     0,     0,     0,     0,   181,     0,     4, 50325]])\n"
     ]
    },
    {
     "data": {
      "application/vnd.jupyter.widget-view+json": {
       "model_id": "86f39ecf52ac4c918b5957dd021e20d3",
       "version_major": 2,
       "version_minor": 0
      },
      "text/plain": [
       "Validation: 0it [00:00, ?it/s]"
      ]
     },
     "metadata": {},
     "output_type": "display_data"
    },
    {
     "name": "stdout",
     "output_type": "stream",
     "text": [
      "Epoch end: Validation, epoch number: 22\n",
      "ValidationEpoch/CM\n",
      " tensor([[42267,     1,   283,  6323,   526,   276,   647,    45,     0],\n",
      "        [    0, 53153,     0,     0,     0,   209,     0,     1,     0],\n",
      "        [  125,    19, 53937,   257,   133,   637,  6914,   151,     0],\n",
      "        [ 5882,     0,   334, 43033,   390,   307,  1917,    42,     0],\n",
      "        [  349,     0,   205,   771, 50049,   320,   409,    40,     0],\n",
      "        [    0,    38,   204,     0,     0, 52185,     6,   265,     0],\n",
      "        [  903,     0,  9789,  4253,   258,   428, 36498,   112,     0],\n",
      "        [    0,     0,     0,     0,     0,   172,     0, 51857,     0],\n",
      "        [    0,     0,     0,     0,     0,   181,     0,     4, 52725]])\n",
      "Epoch end: Train, epoch number: 21\n"
     ]
    },
    {
     "name": "stderr",
     "output_type": "stream",
     "text": [
      "Metric Validation/Accuracy improved by 0.004 >= min_delta = 0.0. New best score: 0.990\n"
     ]
    },
    {
     "name": "stdout",
     "output_type": "stream",
     "text": [
      "TrainEpoch/CM\n",
      " tensor([[42267,     1,   283,  6323,   526,   276,   647,    45,     0],\n",
      "        [    0, 53153,     0,     0,     0,   209,     0,     1,     0],\n",
      "        [  125,    19, 53937,   257,   133,   637,  6914,   151,     0],\n",
      "        [ 5882,     0,   334, 43033,   390,   307,  1917,    42,     0],\n",
      "        [  349,     0,   205,   771, 50049,   320,   409,    40,     0],\n",
      "        [    0,    38,   204,     0,     0, 52185,     6,   265,     0],\n",
      "        [  903,     0,  9789,  4253,   258,   428, 36498,   112,     0],\n",
      "        [    0,     0,     0,     0,     0,   172,     0, 51857,     0],\n",
      "        [    0,     0,     0,     0,     0,   181,     0,     4, 52725]])\n"
     ]
    },
    {
     "data": {
      "application/vnd.jupyter.widget-view+json": {
       "model_id": "4c883948de7142d0ad215cc0b712e4a8",
       "version_major": 2,
       "version_minor": 0
      },
      "text/plain": [
       "Validation: 0it [00:00, ?it/s]"
      ]
     },
     "metadata": {},
     "output_type": "display_data"
    },
    {
     "name": "stdout",
     "output_type": "stream",
     "text": [
      "Epoch end: Validation, epoch number: 23\n",
      "ValidationEpoch/CM\n",
      " tensor([[44134,     1,   283,  6741,   526,   276,   647,    45,     0],\n",
      "        [    0, 55573,     0,     0,     0,   209,     0,     1,     0],\n",
      "        [  125,    19, 56597,   257,   133,   637,  7074,   151,     0],\n",
      "        [ 5935,     0,   362, 45276,   390,   307,  1948,    42,     0],\n",
      "        [  350,     0,   205,   771, 52362,   320,   460,    40,     0],\n",
      "        [    0,    38,   204,     0,     0, 54575,     6,   265,     0],\n",
      "        [  910,     0, 10320,  4373,   260,   431, 38201,   116,     0],\n",
      "        [    0,     0,     0,     0,     0,   172,     0, 54217,     0],\n",
      "        [    0,     0,     0,     0,     0,   181,     0,     4, 55125]])\n",
      "Epoch end: Train, epoch number: 22\n",
      "TrainEpoch/CM\n",
      " tensor([[44134,     1,   283,  6741,   526,   276,   647,    45,     0],\n",
      "        [    0, 55573,     0,     0,     0,   209,     0,     1,     0],\n",
      "        [  125,    19, 56597,   257,   133,   637,  7074,   151,     0],\n",
      "        [ 5935,     0,   362, 45276,   390,   307,  1948,    42,     0],\n",
      "        [  350,     0,   205,   771, 52362,   320,   460,    40,     0],\n",
      "        [    0,    38,   204,     0,     0, 54575,     6,   265,     0],\n",
      "        [  910,     0, 10320,  4373,   260,   431, 38201,   116,     0],\n",
      "        [    0,     0,     0,     0,     0,   172,     0, 54217,     0],\n",
      "        [    0,     0,     0,     0,     0,   181,     0,     4, 55125]])\n"
     ]
    },
    {
     "data": {
      "application/vnd.jupyter.widget-view+json": {
       "model_id": "1fad4ffe9d5a47409d55d0b4a9513e03",
       "version_major": 2,
       "version_minor": 0
      },
      "text/plain": [
       "Validation: 0it [00:00, ?it/s]"
      ]
     },
     "metadata": {},
     "output_type": "display_data"
    },
    {
     "name": "stdout",
     "output_type": "stream",
     "text": [
      "Epoch end: Validation, epoch number: 24\n",
      "ValidationEpoch/CM\n",
      " tensor([[46318,     1,   283,  6842,   526,   276,   647,    45,     0],\n",
      "        [    0, 57993,     0,     0,     0,   209,     0,     1,     0],\n",
      "        [  125,    19, 59178,   257,   133,   637,  7313,   151,     0],\n",
      "        [ 6005,     0,   363, 47535,   391,   307,  1972,    42,     0],\n",
      "        [  350,     0,   205,   771, 54707,   320,   480,    40,     0],\n",
      "        [    0,    38,   204,     0,     0, 56962,     6,   268,     0],\n",
      "        [  919,     0, 10632,  4489,   274,   432, 40117,   118,     0],\n",
      "        [    0,     0,     0,     0,     0,   173,     0, 56576,     0],\n",
      "        [    0,     0,     0,     0,     0,   181,     0,     4, 57525]])\n",
      "Epoch end: Train, epoch number: 23\n",
      "TrainEpoch/CM\n",
      " tensor([[46318,     1,   283,  6842,   526,   276,   647,    45,     0],\n",
      "        [    0, 57993,     0,     0,     0,   209,     0,     1,     0],\n",
      "        [  125,    19, 59178,   257,   133,   637,  7313,   151,     0],\n",
      "        [ 6005,     0,   363, 47535,   391,   307,  1972,    42,     0],\n",
      "        [  350,     0,   205,   771, 54707,   320,   480,    40,     0],\n",
      "        [    0,    38,   204,     0,     0, 56962,     6,   268,     0],\n",
      "        [  919,     0, 10632,  4489,   274,   432, 40117,   118,     0],\n",
      "        [    0,     0,     0,     0,     0,   173,     0, 56576,     0],\n",
      "        [    0,     0,     0,     0,     0,   181,     0,     4, 57525]])\n"
     ]
    },
    {
     "data": {
      "application/vnd.jupyter.widget-view+json": {
       "model_id": "0df83614f5804b7ba6b5a049a528d6eb",
       "version_major": 2,
       "version_minor": 0
      },
      "text/plain": [
       "Validation: 0it [00:00, ?it/s]"
      ]
     },
     "metadata": {},
     "output_type": "display_data"
    },
    {
     "name": "stdout",
     "output_type": "stream",
     "text": [
      "Epoch end: Validation, epoch number: 25\n",
      "ValidationEpoch/CM\n",
      " tensor([[48603,     1,   283,  6842,   526,   276,   647,    45,     0],\n",
      "        [    0, 60413,     0,     0,     0,   209,     0,     1,     0],\n",
      "        [  125,    19, 61933,   257,   133,   637,  7378,   151,     0],\n",
      "        [ 6005,     0,   363, 49849,   391,   307,  2013,    42,     0],\n",
      "        [  350,     0,   205,   771, 57072,   320,   480,    40,     0],\n",
      "        [    0,    38,   204,     0,     0, 59352,     6,   268,     0],\n",
      "        [  919,     0, 10715,  4605,   274,   432, 42288,   118,     0],\n",
      "        [    0,     0,     0,     0,     0,   173,     0, 58936,     0],\n",
      "        [    0,     0,     0,     0,     0,   181,     0,     4, 59925]])\n",
      "Epoch end: Train, epoch number: 24\n",
      "TrainEpoch/CM\n",
      " tensor([[48603,     1,   283,  6842,   526,   276,   647,    45,     0],\n",
      "        [    0, 60413,     0,     0,     0,   209,     0,     1,     0],\n",
      "        [  125,    19, 61933,   257,   133,   637,  7378,   151,     0],\n",
      "        [ 6005,     0,   363, 49849,   391,   307,  2013,    42,     0],\n",
      "        [  350,     0,   205,   771, 57072,   320,   480,    40,     0],\n",
      "        [    0,    38,   204,     0,     0, 59352,     6,   268,     0],\n",
      "        [  919,     0, 10715,  4605,   274,   432, 42288,   118,     0],\n",
      "        [    0,     0,     0,     0,     0,   173,     0, 58936,     0],\n",
      "        [    0,     0,     0,     0,     0,   181,     0,     4, 59925]])\n"
     ]
    },
    {
     "name": "stderr",
     "output_type": "stream",
     "text": [
      "Metric Validation/Accuracy improved by 0.001 >= min_delta = 0.0. New best score: 0.991\n"
     ]
    },
    {
     "data": {
      "application/vnd.jupyter.widget-view+json": {
       "model_id": "ba6a7e643d7646a2ae86b71c96310523",
       "version_major": 2,
       "version_minor": 0
      },
      "text/plain": [
       "Validation: 0it [00:00, ?it/s]"
      ]
     },
     "metadata": {},
     "output_type": "display_data"
    },
    {
     "name": "stdout",
     "output_type": "stream",
     "text": [
      "Epoch end: Validation, epoch number: 26\n",
      "ValidationEpoch/CM\n",
      " tensor([[50884,     1,   283,  6844,   527,   276,   648,    45,     0],\n",
      "        [    0, 62833,     0,     0,     0,   209,     0,     1,     0],\n",
      "        [  125,    19, 64677,   260,   133,   637,  7451,   151,     0],\n",
      "        [ 6008,     0,   365, 52158,   391,   307,  2054,    42,     0],\n",
      "        [  352,     0,   205,   771, 59433,   320,   482,    40,     0],\n",
      "        [    0,    38,   204,     0,     0, 61742,     6,   268,     0],\n",
      "        [  921,     0, 10800,  4736,   274,   432, 44440,   118,     0],\n",
      "        [    0,     0,     0,     0,     0,   173,     0, 61296,     0],\n",
      "        [    0,     0,     0,     0,     0,   181,     0,     4, 62325]])\n"
     ]
    },
    {
     "name": "stderr",
     "output_type": "stream",
     "text": [
      "Metric Validation/Accuracy improved by 0.001 >= min_delta = 0.0. New best score: 0.992\n"
     ]
    },
    {
     "name": "stdout",
     "output_type": "stream",
     "text": [
      "Epoch end: Train, epoch number: 25\n",
      "TrainEpoch/CM\n",
      " tensor([[50884,     1,   283,  6844,   527,   276,   648,    45,     0],\n",
      "        [    0, 62833,     0,     0,     0,   209,     0,     1,     0],\n",
      "        [  125,    19, 64677,   260,   133,   637,  7451,   151,     0],\n",
      "        [ 6008,     0,   365, 52158,   391,   307,  2054,    42,     0],\n",
      "        [  352,     0,   205,   771, 59433,   320,   482,    40,     0],\n",
      "        [    0,    38,   204,     0,     0, 61742,     6,   268,     0],\n",
      "        [  921,     0, 10800,  4736,   274,   432, 44440,   118,     0],\n",
      "        [    0,     0,     0,     0,     0,   173,     0, 61296,     0],\n",
      "        [    0,     0,     0,     0,     0,   181,     0,     4, 62325]])\n"
     ]
    },
    {
     "data": {
      "application/vnd.jupyter.widget-view+json": {
       "model_id": "f00fc6ca1a4d4de3be9cacef5b88cbfa",
       "version_major": 2,
       "version_minor": 0
      },
      "text/plain": [
       "Validation: 0it [00:00, ?it/s]"
      ]
     },
     "metadata": {},
     "output_type": "display_data"
    },
    {
     "name": "stdout",
     "output_type": "stream",
     "text": [
      "Epoch end: Validation, epoch number: 27\n",
      "ValidationEpoch/CM\n",
      " tensor([[53169,     1,   283,  6844,   527,   276,   648,    45,     0],\n",
      "        [    0, 65253,     0,     0,     0,   209,     0,     1,     0],\n",
      "        [  125,    19, 67442,   260,   133,   637,  7506,   151,     0],\n",
      "        [ 6008,     0,   365, 54493,   391,   307,  2074,    42,     0],\n",
      "        [  352,     0,   205,   771, 61796,   320,   484,    40,     0],\n",
      "        [    0,    38,   204,     0,     0, 64132,     6,   268,     0],\n",
      "        [  922,     0, 10893,  4842,   274,   432, 46610,   118,     0],\n",
      "        [    0,     0,     0,     0,     0,   173,     0, 63656,     0],\n",
      "        [    0,     0,     0,     0,     0,   181,     0,     4, 64725]])\n",
      "Epoch end: Train, epoch number: 26\n",
      "TrainEpoch/CM\n",
      " tensor([[53169,     1,   283,  6844,   527,   276,   648,    45,     0],\n",
      "        [    0, 65253,     0,     0,     0,   209,     0,     1,     0],\n",
      "        [  125,    19, 67442,   260,   133,   637,  7506,   151,     0],\n",
      "        [ 6008,     0,   365, 54493,   391,   307,  2074,    42,     0],\n",
      "        [  352,     0,   205,   771, 61796,   320,   484,    40,     0],\n",
      "        [    0,    38,   204,     0,     0, 64132,     6,   268,     0],\n",
      "        [  922,     0, 10893,  4842,   274,   432, 46610,   118,     0],\n",
      "        [    0,     0,     0,     0,     0,   173,     0, 63656,     0],\n",
      "        [    0,     0,     0,     0,     0,   181,     0,     4, 64725]])\n"
     ]
    },
    {
     "data": {
      "application/vnd.jupyter.widget-view+json": {
       "model_id": "b3340a6224694cc08affc2cddab751bf",
       "version_major": 2,
       "version_minor": 0
      },
      "text/plain": [
       "Validation: 0it [00:00, ?it/s]"
      ]
     },
     "metadata": {},
     "output_type": "display_data"
    },
    {
     "name": "stdout",
     "output_type": "stream",
     "text": [
      "Epoch end: Validation, epoch number: 28\n",
      "ValidationEpoch/CM\n",
      " tensor([[55453,     1,   283,  6845,   527,   276,   648,    45,     0],\n",
      "        [    0, 67673,     0,     0,     0,   209,     0,     1,     0],\n",
      "        [  125,    19, 70225,   260,   133,   637,  7543,   151,     0],\n",
      "        [ 6008,     0,   365, 56829,   391,   307,  2093,    42,     0],\n",
      "        [  352,     0,   205,   771, 64161,   320,   484,    40,     0],\n",
      "        [    0,    38,   204,     0,     0, 66522,     6,   268,     0],\n",
      "        [  922,     0, 10946,  4938,   274,   432, 48831,   118,     0],\n",
      "        [    0,     0,     0,     0,     0,   173,     0, 66016,     0],\n",
      "        [    0,     0,     0,     0,     0,   181,     0,     4, 67125]])\n",
      "Epoch end: Train, epoch number: 27\n",
      "TrainEpoch/CM\n",
      " tensor([[55453,     1,   283,  6845,   527,   276,   648,    45,     0],\n",
      "        [    0, 67673,     0,     0,     0,   209,     0,     1,     0],\n",
      "        [  125,    19, 70225,   260,   133,   637,  7543,   151,     0],\n",
      "        [ 6008,     0,   365, 56829,   391,   307,  2093,    42,     0],\n",
      "        [  352,     0,   205,   771, 64161,   320,   484,    40,     0],\n",
      "        [    0,    38,   204,     0,     0, 66522,     6,   268,     0],\n",
      "        [  922,     0, 10946,  4938,   274,   432, 48831,   118,     0],\n",
      "        [    0,     0,     0,     0,     0,   173,     0, 66016,     0],\n",
      "        [    0,     0,     0,     0,     0,   181,     0,     4, 67125]])\n"
     ]
    },
    {
     "name": "stderr",
     "output_type": "stream",
     "text": [
      "Metric Validation/Accuracy improved by 0.002 >= min_delta = 0.0. New best score: 0.994\n"
     ]
    },
    {
     "data": {
      "application/vnd.jupyter.widget-view+json": {
       "model_id": "324134aaef7f47ec85678979cf470340",
       "version_major": 2,
       "version_minor": 0
      },
      "text/plain": [
       "Validation: 0it [00:00, ?it/s]"
      ]
     },
     "metadata": {},
     "output_type": "display_data"
    },
    {
     "name": "stdout",
     "output_type": "stream",
     "text": [
      "Epoch end: Validation, epoch number: 29\n",
      "ValidationEpoch/CM\n",
      " tensor([[57738,     1,   283,  6845,   527,   276,   648,    45,     0],\n",
      "        [    0, 70093,     0,     0,     0,   209,     0,     1,     0],\n",
      "        [  125,    19, 72967,   260,   133,   637,  7621,   151,     0],\n",
      "        [ 6008,     0,   365, 59147,   391,   307,  2130,    42,     0],\n",
      "        [  352,     0,   205,   771, 66524,   320,   486,    40,     0],\n",
      "        [    0,    38,   204,     0,     0, 68912,     6,   268,     0],\n",
      "        [  922,     0, 10999,  5023,   274,   432, 51063,   118,     0],\n",
      "        [    0,     0,     0,     0,     0,   173,     0, 68376,     0],\n",
      "        [    0,     0,     0,     0,     0,   181,     0,     4, 69525]])\n",
      "Epoch end: Train, epoch number: 28\n",
      "TrainEpoch/CM\n",
      " tensor([[57738,     1,   283,  6845,   527,   276,   648,    45,     0],\n",
      "        [    0, 70093,     0,     0,     0,   209,     0,     1,     0],\n",
      "        [  125,    19, 72967,   260,   133,   637,  7621,   151,     0],\n",
      "        [ 6008,     0,   365, 59147,   391,   307,  2130,    42,     0],\n",
      "        [  352,     0,   205,   771, 66524,   320,   486,    40,     0],\n",
      "        [    0,    38,   204,     0,     0, 68912,     6,   268,     0],\n",
      "        [  922,     0, 10999,  5023,   274,   432, 51063,   118,     0],\n",
      "        [    0,     0,     0,     0,     0,   173,     0, 68376,     0],\n",
      "        [    0,     0,     0,     0,     0,   181,     0,     4, 69525]])\n"
     ]
    },
    {
     "data": {
      "application/vnd.jupyter.widget-view+json": {
       "model_id": "9b7974676cb7418abc74fcb668c3f800",
       "version_major": 2,
       "version_minor": 0
      },
      "text/plain": [
       "Validation: 0it [00:00, ?it/s]"
      ]
     },
     "metadata": {},
     "output_type": "display_data"
    },
    {
     "name": "stdout",
     "output_type": "stream",
     "text": [
      "Epoch end: Validation, epoch number: 30\n",
      "ValidationEpoch/CM\n",
      " tensor([[60023,     1,   283,  6845,   527,   276,   648,    45,     0],\n",
      "        [    0, 72513,     0,     0,     0,   209,     0,     1,     0],\n",
      "        [  125,    19, 75752,   260,   133,   637,  7656,   151,     0],\n",
      "        [ 6008,     0,   365, 61468,   391,   307,  2164,    42,     0],\n",
      "        [  352,     0,   205,   771, 68889,   320,   486,    40,     0],\n",
      "        [    0,    38,   204,     0,     0, 71302,     6,   268,     0],\n",
      "        [  922,     0, 11047,  5121,   274,   432, 53287,   118,     0],\n",
      "        [    0,     0,     0,     0,     0,   173,     0, 70736,     0],\n",
      "        [    0,     0,     0,     0,     0,   181,     0,     4, 71925]])\n",
      "Epoch end: Train, epoch number: 29\n",
      "TrainEpoch/CM\n",
      " tensor([[60023,     1,   283,  6845,   527,   276,   648,    45,     0],\n",
      "        [    0, 72513,     0,     0,     0,   209,     0,     1,     0],\n",
      "        [  125,    19, 75752,   260,   133,   637,  7656,   151,     0],\n",
      "        [ 6008,     0,   365, 61468,   391,   307,  2164,    42,     0],\n",
      "        [  352,     0,   205,   771, 68889,   320,   486,    40,     0],\n",
      "        [    0,    38,   204,     0,     0, 71302,     6,   268,     0],\n",
      "        [  922,     0, 11047,  5121,   274,   432, 53287,   118,     0],\n",
      "        [    0,     0,     0,     0,     0,   173,     0, 70736,     0],\n",
      "        [    0,     0,     0,     0,     0,   181,     0,     4, 71925]])\n"
     ]
    },
    {
     "data": {
      "application/vnd.jupyter.widget-view+json": {
       "model_id": "1f5b793b2f704dbc98a14411f520e5c9",
       "version_major": 2,
       "version_minor": 0
      },
      "text/plain": [
       "Validation: 0it [00:00, ?it/s]"
      ]
     },
     "metadata": {},
     "output_type": "display_data"
    },
    {
     "name": "stdout",
     "output_type": "stream",
     "text": [
      "Epoch end: Validation, epoch number: 31\n",
      "ValidationEpoch/CM\n",
      " tensor([[62307,     1,   283,  6845,   528,   276,   648,    45,     0],\n",
      "        [    0, 74933,     0,     0,     0,   209,     0,     1,     0],\n",
      "        [  125,    19, 78538,   261,   133,   637,  7689,   151,     0],\n",
      "        [ 6008,     0,   365, 63781,   391,   307,  2206,    42,     0],\n",
      "        [  352,     0,   205,   771, 71254,   320,   486,    40,     0],\n",
      "        [    0,    38,   204,     0,     0, 73692,     6,   268,     0],\n",
      "        [  922,     0, 11099,  5220,   274,   432, 55506,   118,     0],\n",
      "        [    0,     0,     0,     0,     0,   173,     0, 73096,     0],\n",
      "        [    0,     0,     0,     0,     0,   181,     0,     4, 74325]])\n"
     ]
    },
    {
     "name": "stderr",
     "output_type": "stream",
     "text": [
      "Metric Validation/Accuracy improved by 0.001 >= min_delta = 0.0. New best score: 0.995\n"
     ]
    },
    {
     "name": "stdout",
     "output_type": "stream",
     "text": [
      "Epoch end: Train, epoch number: 30\n",
      "TrainEpoch/CM\n",
      " tensor([[62307,     1,   283,  6845,   528,   276,   648,    45,     0],\n",
      "        [    0, 74933,     0,     0,     0,   209,     0,     1,     0],\n",
      "        [  125,    19, 78538,   261,   133,   637,  7689,   151,     0],\n",
      "        [ 6008,     0,   365, 63781,   391,   307,  2206,    42,     0],\n",
      "        [  352,     0,   205,   771, 71254,   320,   486,    40,     0],\n",
      "        [    0,    38,   204,     0,     0, 73692,     6,   268,     0],\n",
      "        [  922,     0, 11099,  5220,   274,   432, 55506,   118,     0],\n",
      "        [    0,     0,     0,     0,     0,   173,     0, 73096,     0],\n",
      "        [    0,     0,     0,     0,     0,   181,     0,     4, 74325]])\n"
     ]
    },
    {
     "data": {
      "application/vnd.jupyter.widget-view+json": {
       "model_id": "d202b6231d664cf9b23e156b88b865cc",
       "version_major": 2,
       "version_minor": 0
      },
      "text/plain": [
       "Validation: 0it [00:00, ?it/s]"
      ]
     },
     "metadata": {},
     "output_type": "display_data"
    },
    {
     "name": "stdout",
     "output_type": "stream",
     "text": [
      "Epoch end: Validation, epoch number: 32\n",
      "ValidationEpoch/CM\n",
      " tensor([[64592,     1,   283,  6845,   528,   276,   648,    45,     0],\n",
      "        [    0, 77353,     0,     0,     0,   209,     0,     1,     0],\n",
      "        [  125,    19, 81353,   261,   133,   637,  7694,   151,     0],\n",
      "        [ 6008,     0,   365, 66122,   391,   307,  2220,    42,     0],\n",
      "        [  352,     0,   205,   771, 73619,   320,   486,    40,     0],\n",
      "        [    0,    38,   204,     0,     0, 76082,     6,   268,     0],\n",
      "        [  922,     0, 11123,  5293,   274,   432, 57779,   118,     0],\n",
      "        [    0,     0,     0,     0,     0,   173,     0, 75456,     0],\n",
      "        [    0,     0,     0,     0,     0,   181,     0,     4, 76725]])\n",
      "Epoch end: Train, epoch number: 31\n",
      "TrainEpoch/CM\n",
      " tensor([[64592,     1,   283,  6845,   528,   276,   648,    45,     0],\n",
      "        [    0, 77353,     0,     0,     0,   209,     0,     1,     0],\n",
      "        [  125,    19, 81353,   261,   133,   637,  7694,   151,     0],\n",
      "        [ 6008,     0,   365, 66122,   391,   307,  2220,    42,     0],\n",
      "        [  352,     0,   205,   771, 73619,   320,   486,    40,     0],\n",
      "        [    0,    38,   204,     0,     0, 76082,     6,   268,     0],\n",
      "        [  922,     0, 11123,  5293,   274,   432, 57779,   118,     0],\n",
      "        [    0,     0,     0,     0,     0,   173,     0, 75456,     0],\n",
      "        [    0,     0,     0,     0,     0,   181,     0,     4, 76725]])\n"
     ]
    },
    {
     "data": {
      "application/vnd.jupyter.widget-view+json": {
       "model_id": "ef7f44a9a2b44c37a3aedacf06ea3c9e",
       "version_major": 2,
       "version_minor": 0
      },
      "text/plain": [
       "Validation: 0it [00:00, ?it/s]"
      ]
     },
     "metadata": {},
     "output_type": "display_data"
    },
    {
     "name": "stdout",
     "output_type": "stream",
     "text": [
      "Epoch end: Validation, epoch number: 33\n",
      "ValidationEpoch/CM\n",
      " tensor([[66877,     1,   283,  6845,   528,   276,   648,    45,     0],\n",
      "        [    0, 79773,     0,     0,     0,   209,     0,     1,     0],\n",
      "        [  125,    19, 84163,   261,   133,   637,  7704,   151,     0],\n",
      "        [ 6008,     0,   365, 68459,   391,   307,  2238,    42,     0],\n",
      "        [  352,     0,   205,   771, 75984,   320,   486,    40,     0],\n",
      "        [    0,    38,   204,     0,     0, 78472,     6,   268,     0],\n",
      "        [  922,     0, 11168,  5366,   274,   432, 60031,   118,     0],\n",
      "        [    0,     0,     0,     0,     0,   173,     0, 77816,     0],\n",
      "        [    0,     0,     0,     0,     0,   181,     0,     4, 79125]])\n",
      "Epoch end: Train, epoch number: 32\n",
      "TrainEpoch/CM\n",
      " tensor([[66877,     1,   283,  6845,   528,   276,   648,    45,     0],\n",
      "        [    0, 79773,     0,     0,     0,   209,     0,     1,     0],\n",
      "        [  125,    19, 84163,   261,   133,   637,  7704,   151,     0],\n",
      "        [ 6008,     0,   365, 68459,   391,   307,  2238,    42,     0],\n",
      "        [  352,     0,   205,   771, 75984,   320,   486,    40,     0],\n",
      "        [    0,    38,   204,     0,     0, 78472,     6,   268,     0],\n",
      "        [  922,     0, 11168,  5366,   274,   432, 60031,   118,     0],\n",
      "        [    0,     0,     0,     0,     0,   173,     0, 77816,     0],\n",
      "        [    0,     0,     0,     0,     0,   181,     0,     4, 79125]])\n"
     ]
    },
    {
     "data": {
      "application/vnd.jupyter.widget-view+json": {
       "model_id": "3705430da1464d018c9bd3bfea7423d5",
       "version_major": 2,
       "version_minor": 0
      },
      "text/plain": [
       "Validation: 0it [00:00, ?it/s]"
      ]
     },
     "metadata": {},
     "output_type": "display_data"
    },
    {
     "name": "stdout",
     "output_type": "stream",
     "text": [
      "Epoch end: Validation, epoch number: 34\n",
      "ValidationEpoch/CM\n",
      " tensor([[69162,     1,   283,  6845,   528,   276,   648,    45,     0],\n",
      "        [    0, 82193,     0,     0,     0,   209,     0,     1,     0],\n",
      "        [  125,    19, 86973,   261,   133,   637,  7714,   151,     0],\n",
      "        [ 6008,     0,   365, 70799,   391,   307,  2253,    42,     0],\n",
      "        [  352,     0,   205,   771, 78349,   320,   486,    40,     0],\n",
      "        [    0,    38,   204,     0,     0, 80862,     6,   268,     0],\n",
      "        [  922,     0, 11188,  5426,   274,   432, 62321,   118,     0],\n",
      "        [    0,     0,     0,     0,     0,   173,     0, 80176,     0],\n",
      "        [    0,     0,     0,     0,     0,   181,     0,     4, 81525]])\n",
      "Epoch end: Train, epoch number: 33\n",
      "TrainEpoch/CM\n",
      " tensor([[69162,     1,   283,  6845,   528,   276,   648,    45,     0],\n",
      "        [    0, 82193,     0,     0,     0,   209,     0,     1,     0],\n",
      "        [  125,    19, 86973,   261,   133,   637,  7714,   151,     0],\n",
      "        [ 6008,     0,   365, 70799,   391,   307,  2253,    42,     0],\n",
      "        [  352,     0,   205,   771, 78349,   320,   486,    40,     0],\n",
      "        [    0,    38,   204,     0,     0, 80862,     6,   268,     0],\n",
      "        [  922,     0, 11188,  5426,   274,   432, 62321,   118,     0],\n",
      "        [    0,     0,     0,     0,     0,   173,     0, 80176,     0],\n",
      "        [    0,     0,     0,     0,     0,   181,     0,     4, 81525]])\n"
     ]
    },
    {
     "name": "stderr",
     "output_type": "stream",
     "text": [
      "Metric Validation/Accuracy improved by 0.002 >= min_delta = 0.0. New best score: 0.997\n"
     ]
    },
    {
     "data": {
      "application/vnd.jupyter.widget-view+json": {
       "model_id": "39aa3118f3f244e3ba731cd81b6e473b",
       "version_major": 2,
       "version_minor": 0
      },
      "text/plain": [
       "Validation: 0it [00:00, ?it/s]"
      ]
     },
     "metadata": {},
     "output_type": "display_data"
    },
    {
     "name": "stdout",
     "output_type": "stream",
     "text": [
      "Epoch end: Validation, epoch number: 35\n",
      "ValidationEpoch/CM\n",
      " tensor([[71447,     1,   283,  6845,   528,   276,   648,    45,     0],\n",
      "        [    0, 84613,     0,     0,     0,   209,     0,     1,     0],\n",
      "        [  125,    19, 89772,   262,   133,   637,  7734,   151,     0],\n",
      "        [ 6008,     0,   365, 73122,   391,   307,  2285,    42,     0],\n",
      "        [  352,     0,   205,   771, 80714,   320,   486,    40,     0],\n",
      "        [    0,    38,   204,     0,     0, 83252,     6,   268,     0],\n",
      "        [  922,     0, 11226,  5499,   274,   432, 64580,   118,     0],\n",
      "        [    0,     0,     0,     0,     0,   173,     0, 82536,     0],\n",
      "        [    0,     0,     0,     0,     0,   181,     0,     4, 83925]])\n",
      "Epoch end: Train, epoch number: 34\n",
      "TrainEpoch/CM\n",
      " tensor([[71447,     1,   283,  6845,   528,   276,   648,    45,     0],\n",
      "        [    0, 84613,     0,     0,     0,   209,     0,     1,     0],\n",
      "        [  125,    19, 89772,   262,   133,   637,  7734,   151,     0],\n",
      "        [ 6008,     0,   365, 73122,   391,   307,  2285,    42,     0],\n",
      "        [  352,     0,   205,   771, 80714,   320,   486,    40,     0],\n",
      "        [    0,    38,   204,     0,     0, 83252,     6,   268,     0],\n",
      "        [  922,     0, 11226,  5499,   274,   432, 64580,   118,     0],\n",
      "        [    0,     0,     0,     0,     0,   173,     0, 82536,     0],\n",
      "        [    0,     0,     0,     0,     0,   181,     0,     4, 83925]])\n"
     ]
    },
    {
     "name": "stderr",
     "output_type": "stream",
     "text": [
      "Metric Validation/Accuracy improved by 0.001 >= min_delta = 0.0. New best score: 0.997\n"
     ]
    },
    {
     "data": {
      "application/vnd.jupyter.widget-view+json": {
       "model_id": "79006824d57a457eaf36639ad00686ac",
       "version_major": 2,
       "version_minor": 0
      },
      "text/plain": [
       "Validation: 0it [00:00, ?it/s]"
      ]
     },
     "metadata": {},
     "output_type": "display_data"
    },
    {
     "name": "stdout",
     "output_type": "stream",
     "text": [
      "Epoch end: Validation, epoch number: 36\n",
      "ValidationEpoch/CM\n",
      " tensor([[73728,     1,   283,  6846,   528,   276,   651,    45,     0],\n",
      "        [    0, 87033,     0,     0,     0,   209,     0,     1,     0],\n",
      "        [  125,    19, 92567,   262,   133,   637,  7759,   151,     0],\n",
      "        [ 6008,     0,   365, 75423,   391,   307,  2339,    42,     0],\n",
      "        [  352,     0,   205,   771, 83079,   320,   486,    40,     0],\n",
      "        [    0,    38,   204,     0,     0, 85642,     6,   268,     0],\n",
      "        [  922,     0, 11273,  5553,   274,   432, 66849,   118,     0],\n",
      "        [    0,     0,     0,     0,     0,   173,     0, 84896,     0],\n",
      "        [    0,     0,     0,     0,     0,   181,     0,     4, 86325]])\n",
      "Epoch end: Train, epoch number: 35\n",
      "TrainEpoch/CM\n",
      " tensor([[73728,     1,   283,  6846,   528,   276,   651,    45,     0],\n",
      "        [    0, 87033,     0,     0,     0,   209,     0,     1,     0],\n",
      "        [  125,    19, 92567,   262,   133,   637,  7759,   151,     0],\n",
      "        [ 6008,     0,   365, 75423,   391,   307,  2339,    42,     0],\n",
      "        [  352,     0,   205,   771, 83079,   320,   486,    40,     0],\n",
      "        [    0,    38,   204,     0,     0, 85642,     6,   268,     0],\n",
      "        [  922,     0, 11273,  5553,   274,   432, 66849,   118,     0],\n",
      "        [    0,     0,     0,     0,     0,   173,     0, 84896,     0],\n",
      "        [    0,     0,     0,     0,     0,   181,     0,     4, 86325]])\n"
     ]
    },
    {
     "data": {
      "application/vnd.jupyter.widget-view+json": {
       "model_id": "2420c5d3c46b4a969e04bcb3815e99a6",
       "version_major": 2,
       "version_minor": 0
      },
      "text/plain": [
       "Validation: 0it [00:00, ?it/s]"
      ]
     },
     "metadata": {},
     "output_type": "display_data"
    },
    {
     "name": "stdout",
     "output_type": "stream",
     "text": [
      "Epoch end: Validation, epoch number: 37\n",
      "ValidationEpoch/CM\n",
      " tensor([[76012,     1,   283,  6847,   528,   276,   651,    45,     0],\n",
      "        [    0, 89453,     0,     0,     0,   209,     0,     1,     0],\n",
      "        [  125,    19, 95059,   262,   133,   637,  8087,   151,     0],\n",
      "        [ 6057,     0,   365, 77634,   391,   307,  2434,    42,     0],\n",
      "        [  352,     0,   205,   771, 85441,   320,   489,    40,     0],\n",
      "        [    0,    38,   204,     0,     0, 88032,     6,   268,     0],\n",
      "        [  924,     0, 11333,  5629,   281,   432, 69074,   118,     0],\n",
      "        [    0,     0,     0,     0,     0,   173,     0, 87256,     0],\n",
      "        [    0,     0,     0,     0,     0,   181,     0,     4, 88725]])\n",
      "Epoch end: Train, epoch number: 36\n",
      "TrainEpoch/CM\n",
      " tensor([[76012,     1,   283,  6847,   528,   276,   651,    45,     0],\n",
      "        [    0, 89453,     0,     0,     0,   209,     0,     1,     0],\n",
      "        [  125,    19, 95059,   262,   133,   637,  8087,   151,     0],\n",
      "        [ 6057,     0,   365, 77634,   391,   307,  2434,    42,     0],\n",
      "        [  352,     0,   205,   771, 85441,   320,   489,    40,     0],\n",
      "        [    0,    38,   204,     0,     0, 88032,     6,   268,     0],\n",
      "        [  924,     0, 11333,  5629,   281,   432, 69074,   118,     0],\n",
      "        [    0,     0,     0,     0,     0,   173,     0, 87256,     0],\n",
      "        [    0,     0,     0,     0,     0,   181,     0,     4, 88725]])\n"
     ]
    },
    {
     "data": {
      "application/vnd.jupyter.widget-view+json": {
       "model_id": "5a465ec35ceb49368d6331f9b837c097",
       "version_major": 2,
       "version_minor": 0
      },
      "text/plain": [
       "Validation: 0it [00:00, ?it/s]"
      ]
     },
     "metadata": {},
     "output_type": "display_data"
    },
    {
     "name": "stdout",
     "output_type": "stream",
     "text": [
      "Epoch end: Validation, epoch number: 38\n",
      "ValidationEpoch/CM\n",
      " tensor([[78257,     1,   283,  6884,   529,   276,   653,    45,     0],\n",
      "        [    0, 91870,     0,     0,     0,   209,     3,     1,     0],\n",
      "        [  125,    19, 97754,   263,   133,   637,  8211,   151,     0],\n",
      "        [ 6100,     0,   369, 79912,   391,   307,  2464,    42,     0],\n",
      "        [  352,     0,   205,   771, 87798,   320,   497,    40,     0],\n",
      "        [    0,    38,   204,     0,     0, 90422,     6,   268,     0],\n",
      "        [  929,     0, 11453,  5722,   284,   433, 71222,   118,     0],\n",
      "        [    0,     0,     0,     0,     0,   173,     0, 89616,     0],\n",
      "        [    0,     0,     0,     0,     0,   181,     0,     4, 91125]])\n",
      "Epoch end: Train, epoch number: 37\n",
      "TrainEpoch/CM\n",
      " tensor([[78257,     1,   283,  6884,   529,   276,   653,    45,     0],\n",
      "        [    0, 91870,     0,     0,     0,   209,     3,     1,     0],\n",
      "        [  125,    19, 97754,   263,   133,   637,  8211,   151,     0],\n",
      "        [ 6100,     0,   369, 79912,   391,   307,  2464,    42,     0],\n",
      "        [  352,     0,   205,   771, 87798,   320,   497,    40,     0],\n",
      "        [    0,    38,   204,     0,     0, 90422,     6,   268,     0],\n",
      "        [  929,     0, 11453,  5722,   284,   433, 71222,   118,     0],\n",
      "        [    0,     0,     0,     0,     0,   173,     0, 89616,     0],\n",
      "        [    0,     0,     0,     0,     0,   181,     0,     4, 91125]])\n"
     ]
    },
    {
     "data": {
      "application/vnd.jupyter.widget-view+json": {
       "model_id": "f591491ff1fc48a5b37b73e8f609930c",
       "version_major": 2,
       "version_minor": 0
      },
      "text/plain": [
       "Validation: 0it [00:00, ?it/s]"
      ]
     },
     "metadata": {},
     "output_type": "display_data"
    },
    {
     "name": "stdout",
     "output_type": "stream",
     "text": [
      "Epoch end: Validation, epoch number: 39\n",
      "ValidationEpoch/CM\n",
      " tensor([[ 80530,      1,    283,   6891,    530,    276,    657,     45,      0],\n",
      "        [     0,  94290,      0,      0,      0,    209,      3,      1,      0],\n",
      "        [   125,     19, 100499,    264,    133,    637,   8285,    151,      0],\n",
      "        [  6113,      0,    373,  82186,    391,    307,   2528,     42,      0],\n",
      "        [   353,      0,    205,    771,  90160,    320,    499,     40,      0],\n",
      "        [     0,     38,    204,      0,      0,  92812,      6,    268,      0],\n",
      "        [   937,      0,  11522,   5842,    285,    434,  73393,    118,      0],\n",
      "        [     0,      0,      0,      0,      0,    173,      0,  91976,      0],\n",
      "        [     0,      0,      0,      0,      0,    181,      0,      4,  93525]])\n",
      "Epoch end: Train, epoch number: 38\n",
      "TrainEpoch/CM\n",
      " tensor([[ 80530,      1,    283,   6891,    530,    276,    657,     45,      0],\n",
      "        [     0,  94290,      0,      0,      0,    209,      3,      1,      0],\n",
      "        [   125,     19, 100499,    264,    133,    637,   8285,    151,      0],\n",
      "        [  6113,      0,    373,  82186,    391,    307,   2528,     42,      0],\n",
      "        [   353,      0,    205,    771,  90160,    320,    499,     40,      0],\n",
      "        [     0,     38,    204,      0,      0,  92812,      6,    268,      0],\n",
      "        [   937,      0,  11522,   5842,    285,    434,  73393,    118,      0],\n",
      "        [     0,      0,      0,      0,      0,    173,      0,  91976,      0],\n",
      "        [     0,      0,      0,      0,      0,    181,      0,      4,  93525]])\n"
     ]
    },
    {
     "data": {
      "application/vnd.jupyter.widget-view+json": {
       "model_id": "3051198bd5f64561ac22473f31ff10fe",
       "version_major": 2,
       "version_minor": 0
      },
      "text/plain": [
       "Validation: 0it [00:00, ?it/s]"
      ]
     },
     "metadata": {},
     "output_type": "display_data"
    },
    {
     "name": "stdout",
     "output_type": "stream",
     "text": [
      "Epoch end: Validation, epoch number: 40\n",
      "ValidationEpoch/CM\n",
      " tensor([[ 82813,      1,    283,   6891,    530,    276,    659,     45,      0],\n",
      "        [     0,  96710,      0,      0,      0,    209,      3,      1,      0],\n",
      "        [   125,     19, 103316,    264,    133,    637,   8288,    151,      0],\n",
      "        [  6114,      0,    373,  84496,    391,    307,   2572,     42,      0],\n",
      "        [   353,      0,    205,    771,  92525,    320,    499,     40,      0],\n",
      "        [     0,     38,    204,      0,      0,  95202,      6,    268,      0],\n",
      "        [   937,      0,  11535,   5898,    285,    434,  75694,    118,      0],\n",
      "        [     0,      0,      0,      0,      0,    173,      0,  94336,      0],\n",
      "        [     0,      0,      0,      0,      0,    181,      0,      4,  95925]])\n",
      "Epoch end: Train, epoch number: 39\n",
      "TrainEpoch/CM\n",
      " tensor([[ 82813,      1,    283,   6891,    530,    276,    659,     45,      0],\n",
      "        [     0,  96710,      0,      0,      0,    209,      3,      1,      0],\n",
      "        [   125,     19, 103316,    264,    133,    637,   8288,    151,      0],\n",
      "        [  6114,      0,    373,  84496,    391,    307,   2572,     42,      0],\n",
      "        [   353,      0,    205,    771,  92525,    320,    499,     40,      0],\n",
      "        [     0,     38,    204,      0,      0,  95202,      6,    268,      0],\n",
      "        [   937,      0,  11535,   5898,    285,    434,  75694,    118,      0],\n",
      "        [     0,      0,      0,      0,      0,    173,      0,  94336,      0],\n",
      "        [     0,      0,      0,      0,      0,    181,      0,      4,  95925]])\n"
     ]
    },
    {
     "name": "stderr",
     "output_type": "stream",
     "text": [
      "Monitored metric Validation/Accuracy did not improve in the last 5 records. Best score: 0.997. Signaling Trainer to stop.\n"
     ]
    }
   ],
   "source": [
    "trainer.fit(model=model, train_dataloaders=train_dataloader, val_dataloaders=val_dataloader)"
   ]
  },
  {
   "cell_type": "code",
   "execution_count": 19,
   "metadata": {},
   "outputs": [
    {
     "data": {
      "text/plain": [
       "MalwaresModelMLP(\n",
       "  (train_metrics): MetricCollection(\n",
       "    (MulticlassAccuracy): MulticlassAccuracy()\n",
       "    (MulticlassPrecision): MulticlassPrecision()\n",
       "    (MulticlassRecall): MulticlassRecall()\n",
       "    (MulticlassF1Score): MulticlassF1Score(),\n",
       "    prefix=Train/\n",
       "  )\n",
       "  (val_metrics): MetricCollection(\n",
       "    (MulticlassAccuracy): MulticlassAccuracy()\n",
       "    (MulticlassPrecision): MulticlassPrecision()\n",
       "    (MulticlassRecall): MulticlassRecall()\n",
       "    (MulticlassF1Score): MulticlassF1Score(),\n",
       "    prefix=Validation/\n",
       "  )\n",
       "  (test_metrics): MetricCollection(\n",
       "    (MulticlassAccuracy): MulticlassAccuracy()\n",
       "    (MulticlassPrecision): MulticlassPrecision()\n",
       "    (MulticlassRecall): MulticlassRecall()\n",
       "    (MulticlassF1Score): MulticlassF1Score(),\n",
       "    prefix=Test/\n",
       "  )\n",
       "  (cm): MulticlassConfusionMatrix()\n",
       "  (criterion): CrossEntropyLoss()\n",
       "  (l1): Linear(in_features=305, out_features=30, bias=True)\n",
       "  (l2): Linear(in_features=30, out_features=30, bias=True)\n",
       "  (l3): Linear(in_features=30, out_features=9, bias=True)\n",
       ")"
      ]
     },
     "execution_count": 19,
     "metadata": {},
     "output_type": "execute_result"
    }
   ],
   "source": [
    "model.eval()"
   ]
  },
  {
   "cell_type": "code",
   "execution_count": 20,
   "metadata": {},
   "outputs": [
    {
     "name": "stderr",
     "output_type": "stream",
     "text": [
      "LOCAL_RANK: 0 - CUDA_VISIBLE_DEVICES: [0]\n"
     ]
    },
    {
     "name": "stdout",
     "output_type": "stream",
     "text": [
      "/home/<User>/repos/csg_is/training/official_logs/multi-layer_300_30s/version_0/checkpoints/epoch=34-step=1225.ckpt\n",
      "tensor(0.9971, device='cuda:0')\n"
     ]
    },
    {
     "data": {
      "application/vnd.jupyter.widget-view+json": {
       "model_id": "29b959110cf0419ba9e4f9c9d0e8bba2",
       "version_major": 2,
       "version_minor": 0
      },
      "text/plain": [
       "Testing: 0it [00:00, ?it/s]"
      ]
     },
     "metadata": {},
     "output_type": "display_data"
    },
    {
     "name": "stdout",
     "output_type": "stream",
     "text": [
      "Epoch end: Test, epoch number: 0\n",
      "TestEpoch/CM\n",
      " tensor([[472,   0,   0,   0,   0,   0,   0,   0,   0],\n",
      "        [  0, 479,   0,   0,   0,   0,   0,   0,   0],\n",
      "        [  0,   0, 561,   0,   0,   0,   0,   0,   0],\n",
      "        [  0,   0,   0, 473,   0,   0,   3,   0,   0],\n",
      "        [  0,   0,   0,   0, 459,   0,   0,   0,   0],\n",
      "        [  0,   0,   0,   0,   0, 501,   0,   0,   0],\n",
      "        [  0,   0,   1,   8,   0,   0, 457,   0,   0],\n",
      "        [  0,   0,   0,   0,   0,   0,   0, 474,   0],\n",
      "        [  0,   0,   0,   0,   0,   0,   0,   0, 465]])\n",
      "┏━━━━━━━━━━━━━━━━━━━━━━━━━━━┳━━━━━━━━━━━━━━━━━━━━━━━━━━━┓\n",
      "┃\u001b[1m \u001b[0m\u001b[1m       Test metric       \u001b[0m\u001b[1m \u001b[0m┃\u001b[1m \u001b[0m\u001b[1m      DataLoader 0       \u001b[0m\u001b[1m \u001b[0m┃\n",
      "┡━━━━━━━━━━━━━━━━━━━━━━━━━━━╇━━━━━━━━━━━━━━━━━━━━━━━━━━━┩\n",
      "│\u001b[36m \u001b[0m\u001b[36m      Test/Accuracy      \u001b[0m\u001b[36m \u001b[0m│\u001b[35m \u001b[0m\u001b[35m   0.9971290826797485    \u001b[0m\u001b[35m \u001b[0m│\n",
      "│\u001b[36m \u001b[0m\u001b[36m      Test/F1Score       \u001b[0m\u001b[36m \u001b[0m│\u001b[35m \u001b[0m\u001b[35m   0.9971990585327148    \u001b[0m\u001b[35m \u001b[0m│\n",
      "│\u001b[36m \u001b[0m\u001b[36m        Test/Loss        \u001b[0m\u001b[36m \u001b[0m│\u001b[35m \u001b[0m\u001b[35m  0.019031815230846405   \u001b[0m\u001b[35m \u001b[0m│\n",
      "│\u001b[36m \u001b[0m\u001b[36m     Test/Precision      \u001b[0m\u001b[36m \u001b[0m│\u001b[35m \u001b[0m\u001b[35m   0.9973207712173462    \u001b[0m\u001b[35m \u001b[0m│\n",
      "│\u001b[36m \u001b[0m\u001b[36m       Test/Recall       \u001b[0m\u001b[36m \u001b[0m│\u001b[35m \u001b[0m\u001b[35m   0.9971290826797485    \u001b[0m\u001b[35m \u001b[0m│\n",
      "│\u001b[36m \u001b[0m\u001b[36m   TestEpoch/Accuracy    \u001b[0m\u001b[36m \u001b[0m│\u001b[35m \u001b[0m\u001b[35m   0.9971538186073303    \u001b[0m\u001b[35m \u001b[0m│\n",
      "│\u001b[36m \u001b[0m\u001b[36m    TestEpoch/F1Score    \u001b[0m\u001b[36m \u001b[0m│\u001b[35m \u001b[0m\u001b[35m   0.9971840381622314    \u001b[0m\u001b[35m \u001b[0m│\n",
      "│\u001b[36m \u001b[0m\u001b[36m   TestEpoch/Precision   \u001b[0m\u001b[36m \u001b[0m│\u001b[35m \u001b[0m\u001b[35m   0.9972296357154846    \u001b[0m\u001b[35m \u001b[0m│\n",
      "│\u001b[36m \u001b[0m\u001b[36m    TestEpoch/Recall     \u001b[0m\u001b[36m \u001b[0m│\u001b[35m \u001b[0m\u001b[35m   0.9971538186073303    \u001b[0m\u001b[35m \u001b[0m│\n",
      "└───────────────────────────┴───────────────────────────┘\n"
     ]
    },
    {
     "data": {
      "text/plain": [
       "[{'Test/Loss': 0.019031815230846405,\n",
       "  'Test/Accuracy': 0.9971290826797485,\n",
       "  'Test/Precision': 0.9973207712173462,\n",
       "  'Test/Recall': 0.9971290826797485,\n",
       "  'Test/F1Score': 0.9971990585327148,\n",
       "  'TestEpoch/Accuracy': 0.9971538186073303,\n",
       "  'TestEpoch/Precision': 0.9972296357154846,\n",
       "  'TestEpoch/Recall': 0.9971538186073303,\n",
       "  'TestEpoch/F1Score': 0.9971840381622314}]"
      ]
     },
     "execution_count": 20,
     "metadata": {},
     "output_type": "execute_result"
    }
   ],
   "source": [
    "print(checkpoint_callback.best_model_path)   # prints path to the best model's checkpoint\n",
    "print(checkpoint_callback.best_model_score) # and prints it score\n",
    "best_model = MalwaresModelMLP.load_from_checkpoint(checkpoint_callback.best_model_path, input_size = vectors.shape[1]-1, output_size = len(label_encoder.classes_))\n",
    "\n",
    "trainer.test(best_model, dataloaders=val_dataloader)"
   ]
  }
 ],
 "metadata": {
  "kernelspec": {
   "display_name": ".venv",
   "language": "python",
   "name": "python3"
  },
  "language_info": {
   "codemirror_mode": {
    "name": "ipython",
    "version": 3
   },
   "file_extension": ".py",
   "mimetype": "text/x-python",
   "name": "python",
   "nbconvert_exporter": "python",
   "pygments_lexer": "ipython3",
   "version": "3.10.12"
  }
 },
 "nbformat": 4,
 "nbformat_minor": 2
}
