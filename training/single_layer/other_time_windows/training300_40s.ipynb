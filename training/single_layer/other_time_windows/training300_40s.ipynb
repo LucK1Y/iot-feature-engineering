{
 "cells": [
  {
   "cell_type": "markdown",
   "metadata": {},
   "source": [
    "# Idea\n",
    "Do some training"
   ]
  },
  {
   "cell_type": "code",
   "execution_count": 1,
   "metadata": {},
   "outputs": [],
   "source": [
    "SEED = 133\n",
    "TIME_WINDOW = \"40s\"\n",
    "DATA_FILE = '../../data/all_df_40s_Heqing_device2.csv'"
   ]
  },
  {
   "cell_type": "code",
   "execution_count": 2,
   "metadata": {},
   "outputs": [],
   "source": [
    "from pathlib import Path\n",
    "\n",
    "import numpy as np\n",
    "import pandas as pd\n",
    "import pickle\n",
    "\n",
    "assert Path(DATA_FILE).exists()"
   ]
  },
  {
   "cell_type": "code",
   "execution_count": 3,
   "metadata": {},
   "outputs": [],
   "source": [
    "import sys\n",
    "repo_base_path = Path(\"./../../../\").resolve()\n",
    "assert str(repo_base_path).endswith(\"csg_is\"), f\"{repo_base_path} is not a valid path to the CSG_IS repository\" \n",
    "\n",
    "sys.path.append(str(repo_base_path))\n",
    "sys.path.append(\"..\")\n",
    "\n",
    "# from py_dataset import get_all_files_df\n",
    "# from py_dataset import read_in_files\n",
    "from py_dataset import feature_plotting\n",
    "# from py_dataset import feature_selection\n",
    "# from py_dataset import net_feature_engineering\n",
    "# from py_dataset import entropy_feature_engineering\n",
    "# from py_dataset.classes import DataSource\n",
    "from py_dataset import sys_func\n",
    "\n",
    "from py_dataset.classes import DataSource\n",
    "\n"
   ]
  },
  {
   "cell_type": "code",
   "execution_count": 4,
   "metadata": {},
   "outputs": [],
   "source": [
    "LOG_PATH = (repo_base_path / \"training\" / \"official_logs\")\n",
    "LOG_NAME = f\"single-layer_300_{TIME_WINDOW}\"\n",
    "LOG_NAME_EXPERIMENT_2 = f\"single-layer_30_from_weights_{TIME_WINDOW}\"\n",
    "LOG_NAME_EXPERIMENT_3 = f\"multi-layer_30_from_weights_{TIME_WINDOW}\"\n",
    "\n",
    "assert LOG_PATH.exists()\n",
    "assert not (LOG_PATH / LOG_NAME).exists(), \"are you sure to run this again?\"\n",
    "assert not (LOG_PATH / LOG_NAME_EXPERIMENT_2).exists(), \"are you sure to run this again?\"\n",
    "assert not (LOG_PATH / LOG_NAME_EXPERIMENT_3).exists(), \"are you sure to run this again?\""
   ]
  },
  {
   "cell_type": "code",
   "execution_count": 5,
   "metadata": {},
   "outputs": [],
   "source": [
    "df = pd.read_csv(DATA_FILE)\n",
    "df.set_index(\"timestamp\", inplace=True)"
   ]
  },
  {
   "cell_type": "code",
   "execution_count": 6,
   "metadata": {},
   "outputs": [],
   "source": [
    "assert df[\"label\"].unique().shape == (10,)"
   ]
  },
  {
   "cell_type": "markdown",
   "metadata": {},
   "source": [
    "### Preprocessings\n",
    "- remove Null values\n",
    "- drop timestamp\n",
    "- labelEncode\n",
    "- normalize"
   ]
  },
  {
   "cell_type": "code",
   "execution_count": 7,
   "metadata": {},
   "outputs": [
    {
     "name": "stdout",
     "output_type": "stream",
     "text": [
      "(21673, 306)\n",
      "(16515, 306)\n"
     ]
    }
   ],
   "source": [
    "print(df.shape)\n",
    "old_df = df.copy()\n",
    "df.dropna(axis=0, how='any', inplace=True)\n",
    "\n",
    "print(df.shape)"
   ]
  },
  {
   "cell_type": "code",
   "execution_count": 8,
   "metadata": {},
   "outputs": [],
   "source": [
    "df.reset_index(inplace=True, drop=True)"
   ]
  },
  {
   "cell_type": "code",
   "execution_count": 9,
   "metadata": {},
   "outputs": [],
   "source": [
    "label_encoder = sys_func.create_label_encoder_for_labels()\n",
    "df['label'] = label_encoder.transform(df['label'])"
   ]
  },
  {
   "cell_type": "code",
   "execution_count": 10,
   "metadata": {},
   "outputs": [],
   "source": [
    "df = feature_plotting.test_transform_all_to_numeric_columns(df)"
   ]
  },
  {
   "cell_type": "code",
   "execution_count": 11,
   "metadata": {},
   "outputs": [],
   "source": [
    "cols_to_exclude_from_scaling = [\"label\"]\n",
    "vectors = feature_plotting.minmax_scale_features(df,remove_outliers_iqr_all_columns=False,\n",
    "                                                        cols_to_exclude_from_scaling=cols_to_exclude_from_scaling)\n",
    "# print(vectors.shape)\n",
    "# print(\" with dropped null: \", vectors.dropna(axis=0, how='any', inplace=False).shape)"
   ]
  },
  {
   "cell_type": "code",
   "execution_count": 12,
   "metadata": {},
   "outputs": [
    {
     "data": {
      "text/plain": [
       "(array([0, 1, 2, 3, 4, 5, 6, 7, 8]), array([0, 1, 2, 3, 4, 5, 6, 7, 8]))"
      ]
     },
     "execution_count": 12,
     "metadata": {},
     "output_type": "execute_result"
    }
   ],
   "source": [
    "df[\"label\"].unique(), vectors[\"label\"].unique()"
   ]
  },
  {
   "cell_type": "markdown",
   "metadata": {},
   "source": [
    "### Setup"
   ]
  },
  {
   "cell_type": "code",
   "execution_count": 13,
   "metadata": {},
   "outputs": [],
   "source": [
    "from torch.utils.data import Dataset, DataLoader\n",
    "import torch\n",
    "\n",
    "class CustomeDataset(Dataset):\n",
    "    def __init__(self, some_df:pd.DataFrame):\n",
    "        \n",
    "        self.x = torch.tensor(some_df.drop(columns=[\"label\"], inplace=False).values, dtype=torch.float32)\n",
    "        self.labels = torch.tensor(some_df[\"label\"].values, dtype=torch.uint8)\n",
    "\n",
    "    def __len__(self):\n",
    "        return len(self.x)\n",
    "\n",
    "    def __getitem__(self, idx):\n",
    "        # if torch.is_tensor(idx):\n",
    "        #     idx = idx.tolist()\n",
    "        # print(self.x[idx], self.labels[idx])\n",
    "        return self.x[idx], self.labels[idx]"
   ]
  },
  {
   "cell_type": "code",
   "execution_count": 14,
   "metadata": {},
   "outputs": [
    {
     "name": "stderr",
     "output_type": "stream",
     "text": [
      "GPU available: True (cuda), used: True\n",
      "TPU available: False, using: 0 TPU cores\n",
      "IPU available: False, using: 0 IPUs\n",
      "HPU available: False, using: 0 HPUs\n"
     ]
    }
   ],
   "source": [
    "from mlp_single_layer import MalwaresModelLinearLayer\n",
    "from torch.utils.data import DataLoader\n",
    "import lightning\n",
    "from sklearn.model_selection import train_test_split\n",
    "from lightning import loggers as pl_loggers\n",
    "from lightning.pytorch.callbacks.early_stopping import EarlyStopping\n",
    "from lightning.pytorch.callbacks.model_checkpoint import ModelCheckpoint\n",
    "\n",
    "tensorboard = pl_loggers.TensorBoardLogger(save_dir=LOG_PATH, name=LOG_NAME)\n",
    "\n",
    "# split into train and val\n",
    "train, val = train_test_split(vectors, test_size=0.2, random_state=SEED)\n",
    "\n",
    "train_dataset = CustomeDataset(train)\n",
    "train_dataloader = DataLoader(train_dataset, batch_size=500, shuffle=True, num_workers=7)\n",
    "\n",
    "val_dataset = CustomeDataset(val)\n",
    "val_dataloader = DataLoader(val_dataset, batch_size=500, shuffle=False, num_workers=7)\n",
    "\n",
    "# trainer = lightning.Trainer(fast_dev_run=100)\n",
    "monitor = \"Validation/Accuracy\"\n",
    "early_stop_callback = EarlyStopping(monitor=monitor, patience=5, verbose=True, mode=\"max\")\n",
    "checkpoint_callback = ModelCheckpoint(save_top_k=1, monitor=monitor, mode=\"max\")\n",
    "\n",
    "trainer = lightning.Trainer(max_epochs=150, callbacks=[early_stop_callback, checkpoint_callback], enable_checkpointing=True, logger=tensorboard) #logger=None, \n",
    "\n",
    "\n",
    "model = MalwaresModelLinearLayer(input_size = vectors.shape[1]-1, output_size = len(label_encoder.classes_), seed=SEED)\n",
    "\n",
    "torch.manual_seed(SEED)\n",
    "torch.cuda.manual_seed_all(SEED)\n"
   ]
  },
  {
   "cell_type": "code",
   "execution_count": 15,
   "metadata": {},
   "outputs": [
    {
     "name": "stderr",
     "output_type": "stream",
     "text": [
      "LOCAL_RANK: 0 - CUDA_VISIBLE_DEVICES: [0]\n",
      "\n",
      "  | Name          | Type                      | Params\n",
      "------------------------------------------------------------\n",
      "0 | train_metrics | MetricCollection          | 0     \n",
      "1 | val_metrics   | MetricCollection          | 0     \n",
      "2 | test_metrics  | MetricCollection          | 0     \n",
      "3 | cm            | MulticlassConfusionMatrix | 0     \n",
      "4 | criterion     | CrossEntropyLoss          | 0     \n",
      "5 | l1            | Linear                    | 2.8 K \n",
      "------------------------------------------------------------\n",
      "2.8 K     Trainable params\n",
      "0         Non-trainable params\n",
      "2.8 K     Total params\n",
      "0.011     Total estimated model params size (MB)\n"
     ]
    },
    {
     "data": {
      "application/vnd.jupyter.widget-view+json": {
       "model_id": "d2ba6bf65e624d8f904e57fc5c0bb01d",
       "version_major": 2,
       "version_minor": 0
      },
      "text/plain": [
       "Sanity Checking: |          | 0/? [00:00<?, ?it/s]"
      ]
     },
     "metadata": {},
     "output_type": "display_data"
    },
    {
     "name": "stdout",
     "output_type": "stream",
     "text": [
      "Epoch end: Validation, epoch number: 0\n",
      "ValidationEpoch/CM\n",
      " tensor([[107,   0,   0,   0,   0,   0,   0,   0,   0],\n",
      "        [ 82,   0,   0,   0,   8,   0,   0,  19,   0],\n",
      "        [134,   0,   0,   0,   0,   0,   0,   2,   0],\n",
      "        [111,   0,   0,   0,   0,   0,   0,   2,   0],\n",
      "        [106,   0,   0,   0,   0,   0,   0,   1,   0],\n",
      "        [111,   0,   0,   0,   0,   0,   0,   0,   0],\n",
      "        [104,   0,   1,   0,   0,   0,   0,   0,   0],\n",
      "        [101,   0,   0,   0,   0,   0,   0,   0,   0],\n",
      "        [  0,   0,   0,   0,   0,   0,   0, 111,   0]])\n"
     ]
    },
    {
     "name": "stderr",
     "output_type": "stream",
     "text": [
      "/home/<User>/repos/csg_is/.venv/lib/python3.10/site-packages/lightning/pytorch/loops/fit_loop.py:298: The number of training batches (27) is smaller than the logging interval Trainer(log_every_n_steps=50). Set a lower value for log_every_n_steps if you want to see logs for the training epoch.\n"
     ]
    },
    {
     "data": {
      "application/vnd.jupyter.widget-view+json": {
       "model_id": "8aeb9893092448d2b8eea4a192f1eb81",
       "version_major": 2,
       "version_minor": 0
      },
      "text/plain": [
       "Training: |          | 0/? [00:00<?, ?it/s]"
      ]
     },
     "metadata": {},
     "output_type": "display_data"
    },
    {
     "data": {
      "application/vnd.jupyter.widget-view+json": {
       "model_id": "144c2e1bfdee438497e729088d10178a",
       "version_major": 2,
       "version_minor": 0
      },
      "text/plain": [
       "Validation: |          | 0/? [00:00<?, ?it/s]"
      ]
     },
     "metadata": {},
     "output_type": "display_data"
    },
    {
     "name": "stdout",
     "output_type": "stream",
     "text": [
      "Epoch end: Validation, epoch number: 1\n",
      "ValidationEpoch/CM\n",
      " tensor([[ 188,    1,  293,  598,  595,    0,  162,    0,    0],\n",
      "        [ 124, 1775,    0,    0,   14,    0,    0,   21,    0],\n",
      "        [ 232,   43, 1368,   92,  305,  133,  120,    3,    0],\n",
      "        [ 191,    2,  346,  772,  444,    1,  150,    7,    0],\n",
      "        [ 165,    5,  210,  166, 1264,   15,   86,    1,    0],\n",
      "        [ 163,  116,   62,    0,    1, 1556,    0,    3,    0],\n",
      "        [ 177,   13,  897,  169,  369,  102,  183,    0,    0],\n",
      "        [ 161,    0,    0,    0,    0,    0,    0, 1740,    0],\n",
      "        [   3,    2,   49,   17,    0,    0,    0,  201, 1639]])\n",
      "Epoch end: Train, epoch number: 0\n",
      "TrainEpoch/CM\n",
      " tensor([[ 188,    1,  293,  598,  595,    0,  162,    0,    0],\n",
      "        [ 124, 1775,    0,    0,   14,    0,    0,   21,    0],\n",
      "        [ 232,   43, 1368,   92,  305,  133,  120,    3,    0],\n",
      "        [ 191,    2,  346,  772,  444,    1,  150,    7,    0],\n",
      "        [ 165,    5,  210,  166, 1264,   15,   86,    1,    0],\n",
      "        [ 163,  116,   62,    0,    1, 1556,    0,    3,    0],\n",
      "        [ 177,   13,  897,  169,  369,  102,  183,    0,    0],\n",
      "        [ 161,    0,    0,    0,    0,    0,    0, 1740,    0],\n",
      "        [   3,    2,   49,   17,    0,    0,    0,  201, 1639]])\n"
     ]
    },
    {
     "name": "stderr",
     "output_type": "stream",
     "text": [
      "Metric Validation/Accuracy improved. New best score: 0.683\n"
     ]
    },
    {
     "data": {
      "application/vnd.jupyter.widget-view+json": {
       "model_id": "5d0daf460d5841688339a0251073b153",
       "version_major": 2,
       "version_minor": 0
      },
      "text/plain": [
       "Validation: |          | 0/? [00:00<?, ?it/s]"
      ]
     },
     "metadata": {},
     "output_type": "display_data"
    },
    {
     "name": "stdout",
     "output_type": "stream",
     "text": [
      "Epoch end: Validation, epoch number: 2\n",
      "ValidationEpoch/CM\n",
      " tensor([[ 778,    1,  441, 1088,  933,    0,  326,    0,    0],\n",
      "        [ 124, 3600,    0,    0,   14,    0,    0,   21,    0],\n",
      "        [ 357,   43, 2994,  148,  473,  167,  271,    3,    0],\n",
      "        [ 402,    2,  588, 1731,  684,    1,  293,   12,    0],\n",
      "        [ 272,    5,  315,  226, 2673,   30,  195,    1,    0],\n",
      "        [ 163,  116,   66,    0,    1, 3342,    0,    3,    0],\n",
      "        [ 364,   13, 1734,  284,  607,  130,  583,    0,    0],\n",
      "        [ 161,    0,    0,    0,    0,    0,    0, 3540,    0],\n",
      "        [   3,    2,   49,   17,    0,    0,    0,  201, 3439]])\n",
      "Epoch end: Train, epoch number: 1\n",
      "TrainEpoch/CM\n",
      " tensor([[ 778,    1,  441, 1088,  933,    0,  326,    0,    0],\n",
      "        [ 124, 3600,    0,    0,   14,    0,    0,   21,    0],\n",
      "        [ 357,   43, 2994,  148,  473,  167,  271,    3,    0],\n",
      "        [ 402,    2,  588, 1731,  684,    1,  293,   12,    0],\n",
      "        [ 272,    5,  315,  226, 2673,   30,  195,    1,    0],\n",
      "        [ 163,  116,   66,    0,    1, 3342,    0,    3,    0],\n",
      "        [ 364,   13, 1734,  284,  607,  130,  583,    0,    0],\n",
      "        [ 161,    0,    0,    0,    0,    0,    0, 3540,    0],\n",
      "        [   3,    2,   49,   17,    0,    0,    0,  201, 3439]])\n"
     ]
    },
    {
     "name": "stderr",
     "output_type": "stream",
     "text": [
      "Metric Validation/Accuracy improved by 0.080 >= min_delta = 0.0. New best score: 0.763\n"
     ]
    },
    {
     "data": {
      "application/vnd.jupyter.widget-view+json": {
       "model_id": "83838c8d36e6496e827549790e48c569",
       "version_major": 2,
       "version_minor": 0
      },
      "text/plain": [
       "Validation: |          | 0/? [00:00<?, ?it/s]"
      ]
     },
     "metadata": {},
     "output_type": "display_data"
    },
    {
     "name": "stdout",
     "output_type": "stream",
     "text": [
      "Epoch end: Validation, epoch number: 3\n",
      "ValidationEpoch/CM\n",
      " tensor([[1647,    1,  477, 1632, 1014,    0,  526,    0,    0],\n",
      "        [ 124, 5425,    0,    0,   14,    0,    0,   21,    0],\n",
      "        [ 495,   43, 4648,  209,  565,  188,  465,    3,    0],\n",
      "        [ 652,    2,  730, 2925,  743,    1,  443,   17,    0],\n",
      "        [ 351,    5,  357,  282, 4181,   43,  302,    1,    0],\n",
      "        [ 163,  116,   72,    0,    1, 5126,    0,    3,    0],\n",
      "        [ 553,   13, 2387,  430,  752,  141, 1244,    0,    0],\n",
      "        [ 161,    0,    0,    0,    0,    0,    0, 5340,    0],\n",
      "        [   3,    2,   49,   17,    0,    0,    0,  201, 5239]])\n",
      "Epoch end: Train, epoch number: 2\n",
      "TrainEpoch/CM\n",
      " tensor([[1647,    1,  477, 1632, 1014,    0,  526,    0,    0],\n",
      "        [ 124, 5425,    0,    0,   14,    0,    0,   21,    0],\n",
      "        [ 495,   43, 4648,  209,  565,  188,  465,    3,    0],\n",
      "        [ 652,    2,  730, 2925,  743,    1,  443,   17,    0],\n",
      "        [ 351,    5,  357,  282, 4181,   43,  302,    1,    0],\n",
      "        [ 163,  116,   72,    0,    1, 5126,    0,    3,    0],\n",
      "        [ 553,   13, 2387,  430,  752,  141, 1244,    0,    0],\n",
      "        [ 161,    0,    0,    0,    0,    0,    0, 5340,    0],\n",
      "        [   3,    2,   49,   17,    0,    0,    0,  201, 5239]])\n"
     ]
    },
    {
     "name": "stderr",
     "output_type": "stream",
     "text": [
      "Metric Validation/Accuracy improved by 0.044 >= min_delta = 0.0. New best score: 0.807\n"
     ]
    },
    {
     "data": {
      "application/vnd.jupyter.widget-view+json": {
       "model_id": "c24aa41e853647efaf6ee59612b1e3f1",
       "version_major": 2,
       "version_minor": 0
      },
      "text/plain": [
       "Validation: |          | 0/? [00:00<?, ?it/s]"
      ]
     },
     "metadata": {},
     "output_type": "display_data"
    },
    {
     "name": "stdout",
     "output_type": "stream",
     "text": [
      "Epoch end: Validation, epoch number: 4\n",
      "ValidationEpoch/CM\n",
      " tensor([[2776,    1,  488, 2058, 1035,    0,  669,    0,    0],\n",
      "        [ 124, 7250,    0,    0,   14,    0,    0,   21,    0],\n",
      "        [ 628,   43, 6348,  252,  609,  208,  685,    3,    0],\n",
      "        [ 959,    2,  812, 4170,  763,    1,  585,   21,    0],\n",
      "        [ 393,    5,  370,  320, 5816,   54,  368,    1,    0],\n",
      "        [ 163,  116,   77,    0,    1, 6911,    0,    3,    0],\n",
      "        [ 737,   13, 2993,  573,  844,  147, 2018,    0,    0],\n",
      "        [ 161,    0,    0,    0,    0,    0,    0, 7140,    0],\n",
      "        [   3,    2,   49,   17,    0,    0,    0,  201, 7039]])\n",
      "Epoch end: Train, epoch number: 3\n",
      "TrainEpoch/CM\n",
      " tensor([[2776,    1,  488, 2058, 1035,    0,  669,    0,    0],\n",
      "        [ 124, 7250,    0,    0,   14,    0,    0,   21,    0],\n",
      "        [ 628,   43, 6348,  252,  609,  208,  685,    3,    0],\n",
      "        [ 959,    2,  812, 4170,  763,    1,  585,   21,    0],\n",
      "        [ 393,    5,  370,  320, 5816,   54,  368,    1,    0],\n",
      "        [ 163,  116,   77,    0,    1, 6911,    0,    3,    0],\n",
      "        [ 737,   13, 2993,  573,  844,  147, 2018,    0,    0],\n",
      "        [ 161,    0,    0,    0,    0,    0,    0, 7140,    0],\n",
      "        [   3,    2,   49,   17,    0,    0,    0,  201, 7039]])\n"
     ]
    },
    {
     "name": "stderr",
     "output_type": "stream",
     "text": [
      "Metric Validation/Accuracy improved by 0.029 >= min_delta = 0.0. New best score: 0.836\n"
     ]
    },
    {
     "data": {
      "application/vnd.jupyter.widget-view+json": {
       "model_id": "42b5e054a84645178a1a8db5e18edf65",
       "version_major": 2,
       "version_minor": 0
      },
      "text/plain": [
       "Validation: |          | 0/? [00:00<?, ?it/s]"
      ]
     },
     "metadata": {},
     "output_type": "display_data"
    },
    {
     "name": "stdout",
     "output_type": "stream",
     "text": [
      "Epoch end: Validation, epoch number: 5\n",
      "ValidationEpoch/CM\n",
      " tensor([[3874,    1,  501, 2512, 1040,    0,  829,    0,    0],\n",
      "        [ 124, 9075,    0,    0,   14,    0,    0,   21,    0],\n",
      "        [ 712,   43, 8080,  310,  618,  224,  946,    3,    0],\n",
      "        [1223,    2,  882, 5474,  773,    1,  732,   26,    0],\n",
      "        [ 419,    5,  381,  347, 7506,   64,  409,    1,    0],\n",
      "        [ 163,  116,   80,    0,    1, 8698,    0,    3,    0],\n",
      "        [ 869,   13, 3585,  743,  902,  149, 2869,    0,    0],\n",
      "        [ 161,    0,    0,    0,    0,    0,    0, 8940,    0],\n",
      "        [   3,    2,   49,   17,    0,    0,    0,  201, 8839]])\n",
      "Epoch end: Train, epoch number: 4\n",
      "TrainEpoch/CM\n",
      " tensor([[3874,    1,  501, 2512, 1040,    0,  829,    0,    0],\n",
      "        [ 124, 9075,    0,    0,   14,    0,    0,   21,    0],\n",
      "        [ 712,   43, 8080,  310,  618,  224,  946,    3,    0],\n",
      "        [1223,    2,  882, 5474,  773,    1,  732,   26,    0],\n",
      "        [ 419,    5,  381,  347, 7506,   64,  409,    1,    0],\n",
      "        [ 163,  116,   80,    0,    1, 8698,    0,    3,    0],\n",
      "        [ 869,   13, 3585,  743,  902,  149, 2869,    0,    0],\n",
      "        [ 161,    0,    0,    0,    0,    0,    0, 8940,    0],\n",
      "        [   3,    2,   49,   17,    0,    0,    0,  201, 8839]])\n"
     ]
    },
    {
     "name": "stderr",
     "output_type": "stream",
     "text": [
      "Metric Validation/Accuracy improved by 0.001 >= min_delta = 0.0. New best score: 0.837\n"
     ]
    },
    {
     "data": {
      "application/vnd.jupyter.widget-view+json": {
       "model_id": "35a6595d2af945b7b7089c8221d21b30",
       "version_major": 2,
       "version_minor": 0
      },
      "text/plain": [
       "Validation: |          | 0/? [00:00<?, ?it/s]"
      ]
     },
     "metadata": {},
     "output_type": "display_data"
    },
    {
     "name": "stdout",
     "output_type": "stream",
     "text": [
      "Epoch end: Validation, epoch number: 6\n",
      "ValidationEpoch/CM\n",
      " tensor([[ 5173,     1,   502,  2854,  1040,     0,   917,     0,     0],\n",
      "        [  124, 10900,     0,     0,    14,     0,     0,    21,     0],\n",
      "        [  815,    43,  9815,   350,   618,   237,  1215,     3,     0],\n",
      "        [ 1628,     2,   917,  6677,   777,     1,   885,    26,     0],\n",
      "        [  453,     5,   384,   369,  9229,    71,   425,     1,     0],\n",
      "        [  163,   116,    85,     0,     1, 10483,     0,     3,     0],\n",
      "        [ 1024,    13,  4117,   885,   933,   149,  3814,     0,     0],\n",
      "        [  161,     0,     0,     0,     0,     0,     0, 10740,     0],\n",
      "        [    3,     2,    49,    17,     0,     0,     0,   201, 10639]])\n",
      "Epoch end: Train, epoch number: 5\n",
      "TrainEpoch/CM\n",
      " tensor([[ 5173,     1,   502,  2854,  1040,     0,   917,     0,     0],\n",
      "        [  124, 10900,     0,     0,    14,     0,     0,    21,     0],\n",
      "        [  815,    43,  9815,   350,   618,   237,  1215,     3,     0],\n",
      "        [ 1628,     2,   917,  6677,   777,     1,   885,    26,     0],\n",
      "        [  453,     5,   384,   369,  9229,    71,   425,     1,     0],\n",
      "        [  163,   116,    85,     0,     1, 10483,     0,     3,     0],\n",
      "        [ 1024,    13,  4117,   885,   933,   149,  3814,     0,     0],\n",
      "        [  161,     0,     0,     0,     0,     0,     0, 10740,     0],\n",
      "        [    3,     2,    49,    17,     0,     0,     0,   201, 10639]])\n"
     ]
    },
    {
     "name": "stderr",
     "output_type": "stream",
     "text": [
      "Metric Validation/Accuracy improved by 0.003 >= min_delta = 0.0. New best score: 0.840\n"
     ]
    },
    {
     "data": {
      "application/vnd.jupyter.widget-view+json": {
       "model_id": "6e73d859ef634a2faf3a65de5fe7b53b",
       "version_major": 2,
       "version_minor": 0
      },
      "text/plain": [
       "Validation: |          | 0/? [00:00<?, ?it/s]"
      ]
     },
     "metadata": {},
     "output_type": "display_data"
    },
    {
     "name": "stdout",
     "output_type": "stream",
     "text": [
      "Epoch end: Validation, epoch number: 7\n",
      "ValidationEpoch/CM\n",
      " tensor([[ 6304,     1,   502,  3336,  1041,     0,  1033,     0,     0],\n",
      "        [  124, 12725,     0,     0,    14,     0,     0,    21,     0],\n",
      "        [  885,    43, 11529,   396,   618,   250,  1532,     3,     0],\n",
      "        [ 1933,     2,   948,  7994,   782,     1,  1027,    26,     0],\n",
      "        [  482,     5,   384,   386, 10976,    76,   432,     1,     0],\n",
      "        [  163,   116,    88,     0,     1, 12270,     0,     3,     0],\n",
      "        [ 1150,    13,  4574,  1054,   954,   149,  4846,     0,     0],\n",
      "        [  161,     0,     0,     0,     0,     0,     0, 12540,     0],\n",
      "        [    3,     2,    49,    17,     0,     0,     0,   201, 12439]])\n"
     ]
    },
    {
     "name": "stderr",
     "output_type": "stream",
     "text": [
      "Metric Validation/Accuracy improved by 0.020 >= min_delta = 0.0. New best score: 0.860\n"
     ]
    },
    {
     "name": "stdout",
     "output_type": "stream",
     "text": [
      "Epoch end: Train, epoch number: 6\n",
      "TrainEpoch/CM\n",
      " tensor([[ 6304,     1,   502,  3336,  1041,     0,  1033,     0,     0],\n",
      "        [  124, 12725,     0,     0,    14,     0,     0,    21,     0],\n",
      "        [  885,    43, 11529,   396,   618,   250,  1532,     3,     0],\n",
      "        [ 1933,     2,   948,  7994,   782,     1,  1027,    26,     0],\n",
      "        [  482,     5,   384,   386, 10976,    76,   432,     1,     0],\n",
      "        [  163,   116,    88,     0,     1, 12270,     0,     3,     0],\n",
      "        [ 1150,    13,  4574,  1054,   954,   149,  4846,     0,     0],\n",
      "        [  161,     0,     0,     0,     0,     0,     0, 12540,     0],\n",
      "        [    3,     2,    49,    17,     0,     0,     0,   201, 12439]])\n"
     ]
    },
    {
     "data": {
      "application/vnd.jupyter.widget-view+json": {
       "model_id": "55bf9cc33b4f44c08d4a59ac47a7c0e4",
       "version_major": 2,
       "version_minor": 0
      },
      "text/plain": [
       "Validation: |          | 0/? [00:00<?, ?it/s]"
      ]
     },
     "metadata": {},
     "output_type": "display_data"
    },
    {
     "name": "stdout",
     "output_type": "stream",
     "text": [
      "Epoch end: Validation, epoch number: 8\n",
      "ValidationEpoch/CM\n",
      " tensor([[ 7680,     1,   502,  3619,  1042,     0,  1103,     0,     0],\n",
      "        [  124, 14550,     0,     0,    14,     0,     0,    21,     0],\n",
      "        [  938,    43, 13256,   434,   618,   262,  1862,     3,     0],\n",
      "        [ 2226,     2,   981,  9332,   782,     1,  1163,    26,     0],\n",
      "        [  488,     5,   384,   404, 12746,    81,   438,     1,     0],\n",
      "        [  163,   116,    93,     0,     1, 14055,     0,     3,     0],\n",
      "        [ 1261,    13,  5074,  1200,   978,   149,  5870,     0,     0],\n",
      "        [  161,     0,     0,     0,     0,     0,     0, 14340,     0],\n",
      "        [    3,     2,    49,    17,     0,     0,     0,   201, 14239]])\n",
      "Epoch end: Train, epoch number: 7\n",
      "TrainEpoch/CM\n",
      " tensor([[ 7680,     1,   502,  3619,  1042,     0,  1103,     0,     0],\n",
      "        [  124, 14550,     0,     0,    14,     0,     0,    21,     0],\n",
      "        [  938,    43, 13256,   434,   618,   262,  1862,     3,     0],\n",
      "        [ 2226,     2,   981,  9332,   782,     1,  1163,    26,     0],\n",
      "        [  488,     5,   384,   404, 12746,    81,   438,     1,     0],\n",
      "        [  163,   116,    93,     0,     1, 14055,     0,     3,     0],\n",
      "        [ 1261,    13,  5074,  1200,   978,   149,  5870,     0,     0],\n",
      "        [  161,     0,     0,     0,     0,     0,     0, 14340,     0],\n",
      "        [    3,     2,    49,    17,     0,     0,     0,   201, 14239]])\n"
     ]
    },
    {
     "name": "stderr",
     "output_type": "stream",
     "text": [
      "Metric Validation/Accuracy improved by 0.022 >= min_delta = 0.0. New best score: 0.882\n"
     ]
    },
    {
     "data": {
      "application/vnd.jupyter.widget-view+json": {
       "model_id": "7731590198124601aa8a772bcbe90a1d",
       "version_major": 2,
       "version_minor": 0
      },
      "text/plain": [
       "Validation: |          | 0/? [00:00<?, ?it/s]"
      ]
     },
     "metadata": {},
     "output_type": "display_data"
    },
    {
     "name": "stdout",
     "output_type": "stream",
     "text": [
      "Epoch end: Validation, epoch number: 9\n",
      "ValidationEpoch/CM\n",
      " tensor([[ 9005,     1,   502,  3954,  1042,     0,  1173,     0,     0],\n",
      "        [  124, 16375,     0,     0,    14,     0,     0,    21,     0],\n",
      "        [  971,    43, 15016,   468,   618,   271,  2186,     3,     0],\n",
      "        [ 2447,     2,  1004, 10760,   784,     1,  1289,    26,     0],\n",
      "        [  507,     5,   384,   412, 14516,    86,   441,     1,     0],\n",
      "        [  163,   116,    95,     0,     1, 15843,     0,     3,     0],\n",
      "        [ 1346,    13,  5542,  1351,   990,   149,  6959,     0,     0],\n",
      "        [  161,     0,     0,     0,     0,     0,     0, 16140,     0],\n",
      "        [    3,     2,    49,    17,     0,     0,     0,   201, 16039]])\n",
      "Epoch end: Train, epoch number: 8\n",
      "TrainEpoch/CM\n",
      " tensor([[ 9005,     1,   502,  3954,  1042,     0,  1173,     0,     0],\n",
      "        [  124, 16375,     0,     0,    14,     0,     0,    21,     0],\n",
      "        [  971,    43, 15016,   468,   618,   271,  2186,     3,     0],\n",
      "        [ 2447,     2,  1004, 10760,   784,     1,  1289,    26,     0],\n",
      "        [  507,     5,   384,   412, 14516,    86,   441,     1,     0],\n",
      "        [  163,   116,    95,     0,     1, 15843,     0,     3,     0],\n",
      "        [ 1346,    13,  5542,  1351,   990,   149,  6959,     0,     0],\n",
      "        [  161,     0,     0,     0,     0,     0,     0, 16140,     0],\n",
      "        [    3,     2,    49,    17,     0,     0,     0,   201, 16039]])\n"
     ]
    },
    {
     "data": {
      "application/vnd.jupyter.widget-view+json": {
       "model_id": "1daff82e73ef4d0c9307f16ca688e25e",
       "version_major": 2,
       "version_minor": 0
      },
      "text/plain": [
       "Validation: |          | 0/? [00:00<?, ?it/s]"
      ]
     },
     "metadata": {},
     "output_type": "display_data"
    },
    {
     "name": "stdout",
     "output_type": "stream",
     "text": [
      "Epoch end: Validation, epoch number: 10\n",
      "ValidationEpoch/CM\n",
      " tensor([[10490,     1,   502,  4159,  1042,     0,  1213,     0,     0],\n",
      "        [  124, 18200,     0,     0,    14,     0,     0,    21,     0],\n",
      "        [ 1016,    43, 16777,   497,   618,   275,  2507,     3,     0],\n",
      "        [ 2747,     2,  1020, 12113,   784,     1,  1420,    26,     0],\n",
      "        [  517,     5,   384,   417, 16298,    91,   444,     1,     0],\n",
      "        [  163,   116,    96,     0,     1, 17632,     0,     3,     0],\n",
      "        [ 1455,    13,  5968,  1488,   999,   149,  8083,     0,     0],\n",
      "        [  161,     0,     0,     0,     0,     0,     0, 17940,     0],\n",
      "        [    3,     2,    49,    17,     0,     0,     0,   201, 17839]])\n"
     ]
    },
    {
     "name": "stderr",
     "output_type": "stream",
     "text": [
      "Metric Validation/Accuracy improved by 0.003 >= min_delta = 0.0. New best score: 0.885\n"
     ]
    },
    {
     "name": "stdout",
     "output_type": "stream",
     "text": [
      "Epoch end: Train, epoch number: 9\n",
      "TrainEpoch/CM\n",
      " tensor([[10490,     1,   502,  4159,  1042,     0,  1213,     0,     0],\n",
      "        [  124, 18200,     0,     0,    14,     0,     0,    21,     0],\n",
      "        [ 1016,    43, 16777,   497,   618,   275,  2507,     3,     0],\n",
      "        [ 2747,     2,  1020, 12113,   784,     1,  1420,    26,     0],\n",
      "        [  517,     5,   384,   417, 16298,    91,   444,     1,     0],\n",
      "        [  163,   116,    96,     0,     1, 17632,     0,     3,     0],\n",
      "        [ 1455,    13,  5968,  1488,   999,   149,  8083,     0,     0],\n",
      "        [  161,     0,     0,     0,     0,     0,     0, 17940,     0],\n",
      "        [    3,     2,    49,    17,     0,     0,     0,   201, 17839]])\n"
     ]
    },
    {
     "data": {
      "application/vnd.jupyter.widget-view+json": {
       "model_id": "55104f909b394a5cb5c9f7856dd79fc1",
       "version_major": 2,
       "version_minor": 0
      },
      "text/plain": [
       "Validation: |          | 0/? [00:00<?, ?it/s]"
      ]
     },
     "metadata": {},
     "output_type": "display_data"
    },
    {
     "name": "stdout",
     "output_type": "stream",
     "text": [
      "Epoch end: Validation, epoch number: 11\n",
      "ValidationEpoch/CM\n",
      " tensor([[11929,     1,   502,  4400,  1042,     0,  1263,     0,     0],\n",
      "        [  124, 20025,     0,     0,    14,     0,     0,    21,     0],\n",
      "        [ 1041,    43, 18525,   526,   618,   283,  2857,     3,     0],\n",
      "        [ 2960,     2,  1037, 13555,   784,     1,  1548,    26,     0],\n",
      "        [  524,     5,   384,   424, 18082,    96,   446,     1,     0],\n",
      "        [  163,   116,    99,     0,     1, 19419,     0,     3,     0],\n",
      "        [ 1537,    13,  6362,  1630,  1008,   149,  9261,     0,     0],\n",
      "        [  161,     0,     0,     0,     0,     0,     0, 19740,     0],\n",
      "        [    3,     2,    49,    17,     0,     0,     0,   201, 19639]])\n",
      "Epoch end: Train, epoch number: 10\n",
      "TrainEpoch/CM\n",
      " tensor([[11929,     1,   502,  4400,  1042,     0,  1263,     0,     0],\n",
      "        [  124, 20025,     0,     0,    14,     0,     0,    21,     0],\n",
      "        [ 1041,    43, 18525,   526,   618,   283,  2857,     3,     0],\n",
      "        [ 2960,     2,  1037, 13555,   784,     1,  1548,    26,     0],\n",
      "        [  524,     5,   384,   424, 18082,    96,   446,     1,     0],\n",
      "        [  163,   116,    99,     0,     1, 19419,     0,     3,     0],\n",
      "        [ 1537,    13,  6362,  1630,  1008,   149,  9261,     0,     0],\n",
      "        [  161,     0,     0,     0,     0,     0,     0, 19740,     0],\n",
      "        [    3,     2,    49,    17,     0,     0,     0,   201, 19639]])\n"
     ]
    },
    {
     "name": "stderr",
     "output_type": "stream",
     "text": [
      "Metric Validation/Accuracy improved by 0.013 >= min_delta = 0.0. New best score: 0.898\n"
     ]
    },
    {
     "data": {
      "application/vnd.jupyter.widget-view+json": {
       "model_id": "035dd136e8be4e34ad0c667dfaa70dbf",
       "version_major": 2,
       "version_minor": 0
      },
      "text/plain": [
       "Validation: |          | 0/? [00:00<?, ?it/s]"
      ]
     },
     "metadata": {},
     "output_type": "display_data"
    },
    {
     "name": "stdout",
     "output_type": "stream",
     "text": [
      "Epoch end: Validation, epoch number: 12\n",
      "ValidationEpoch/CM\n",
      " tensor([[13430,     1,   502,  4608,  1042,     0,  1284,     0,     0],\n",
      "        [  124, 21850,     0,     0,    14,     0,     0,    21,     0],\n",
      "        [ 1061,    43, 20329,   551,   618,   286,  3165,     3,     0],\n",
      "        [ 3167,     2,  1061, 15042,   784,     1,  1630,    26,     0],\n",
      "        [  527,     5,   384,   429, 19874,   101,   446,     1,     0],\n",
      "        [  163,   116,   102,     0,     1, 21206,     0,     3,     0],\n",
      "        [ 1622,    13,  6830,  1787,  1013,   149, 10351,     0,     0],\n",
      "        [  161,     0,     0,     0,     0,     0,     0, 21540,     0],\n",
      "        [    3,     2,    49,    17,     0,     0,     0,   201, 21439]])\n",
      "Epoch end: Train, epoch number: 11\n",
      "TrainEpoch/CM\n",
      " tensor([[13430,     1,   502,  4608,  1042,     0,  1284,     0,     0],\n",
      "        [  124, 21850,     0,     0,    14,     0,     0,    21,     0],\n",
      "        [ 1061,    43, 20329,   551,   618,   286,  3165,     3,     0],\n",
      "        [ 3167,     2,  1061, 15042,   784,     1,  1630,    26,     0],\n",
      "        [  527,     5,   384,   429, 19874,   101,   446,     1,     0],\n",
      "        [  163,   116,   102,     0,     1, 21206,     0,     3,     0],\n",
      "        [ 1622,    13,  6830,  1787,  1013,   149, 10351,     0,     0],\n",
      "        [  161,     0,     0,     0,     0,     0,     0, 21540,     0],\n",
      "        [    3,     2,    49,    17,     0,     0,     0,   201, 21439]])\n"
     ]
    },
    {
     "data": {
      "application/vnd.jupyter.widget-view+json": {
       "model_id": "c7a2cb1301544563ab01f5415a9cd3c2",
       "version_major": 2,
       "version_minor": 0
      },
      "text/plain": [
       "Validation: |          | 0/? [00:00<?, ?it/s]"
      ]
     },
     "metadata": {},
     "output_type": "display_data"
    },
    {
     "name": "stdout",
     "output_type": "stream",
     "text": [
      "Epoch end: Validation, epoch number: 13\n",
      "ValidationEpoch/CM\n",
      " tensor([[14963,     1,   502,  4775,  1042,     0,  1314,     0,     0],\n",
      "        [  124, 23675,     0,     0,    14,     0,     0,    21,     0],\n",
      "        [ 1085,    43, 22129,   571,   618,   286,  3481,     3,     0],\n",
      "        [ 3438,     2,  1090, 16450,   784,     1,  1722,    26,     0],\n",
      "        [  532,     5,   384,   434, 21664,   106,   446,     1,     0],\n",
      "        [  163,   116,   104,     0,     1, 22994,     0,     3,     0],\n",
      "        [ 1721,    13,  7276,  1917,  1019,   149, 11475,     0,     0],\n",
      "        [  161,     0,     0,     0,     0,     0,     0, 23340,     0],\n",
      "        [    3,     2,    49,    17,     0,     0,     0,   201, 23239]])\n",
      "Epoch end: Train, epoch number: 12\n",
      "TrainEpoch/CM\n",
      " tensor([[14963,     1,   502,  4775,  1042,     0,  1314,     0,     0],\n",
      "        [  124, 23675,     0,     0,    14,     0,     0,    21,     0],\n",
      "        [ 1085,    43, 22129,   571,   618,   286,  3481,     3,     0],\n",
      "        [ 3438,     2,  1090, 16450,   784,     1,  1722,    26,     0],\n",
      "        [  532,     5,   384,   434, 21664,   106,   446,     1,     0],\n",
      "        [  163,   116,   104,     0,     1, 22994,     0,     3,     0],\n",
      "        [ 1721,    13,  7276,  1917,  1019,   149, 11475,     0,     0],\n",
      "        [  161,     0,     0,     0,     0,     0,     0, 23340,     0],\n",
      "        [    3,     2,    49,    17,     0,     0,     0,   201, 23239]])\n"
     ]
    },
    {
     "data": {
      "application/vnd.jupyter.widget-view+json": {
       "model_id": "9a21961a8ee041a7a25c6bb47147123c",
       "version_major": 2,
       "version_minor": 0
      },
      "text/plain": [
       "Validation: |          | 0/? [00:00<?, ?it/s]"
      ]
     },
     "metadata": {},
     "output_type": "display_data"
    },
    {
     "name": "stdout",
     "output_type": "stream",
     "text": [
      "Epoch end: Validation, epoch number: 14\n",
      "ValidationEpoch/CM\n",
      " tensor([[16457,     1,   502,  4980,  1042,     0,  1345,     0,     0],\n",
      "        [  124, 25500,     0,     0,    14,     0,     0,    21,     0],\n",
      "        [ 1101,    43, 23913,   588,   618,   289,  3821,     3,     0],\n",
      "        [ 3631,     2,  1101, 17943,   784,     1,  1825,    26,     0],\n",
      "        [  535,     5,   384,   439, 23456,   111,   446,     1,     0],\n",
      "        [  163,   116,   106,     0,     1, 24782,     0,     3,     0],\n",
      "        [ 1788,    13,  7660,  2068,  1024,   149, 12673,     0,     0],\n",
      "        [  161,     0,     0,     0,     0,     0,     0, 25140,     0],\n",
      "        [    3,     2,    49,    17,     0,     0,     0,   201, 25039]])\n",
      "Epoch end: Train, epoch number: 13\n",
      "TrainEpoch/CM\n",
      " tensor([[16457,     1,   502,  4980,  1042,     0,  1345,     0,     0],\n",
      "        [  124, 25500,     0,     0,    14,     0,     0,    21,     0],\n",
      "        [ 1101,    43, 23913,   588,   618,   289,  3821,     3,     0],\n",
      "        [ 3631,     2,  1101, 17943,   784,     1,  1825,    26,     0],\n",
      "        [  535,     5,   384,   439, 23456,   111,   446,     1,     0],\n",
      "        [  163,   116,   106,     0,     1, 24782,     0,     3,     0],\n",
      "        [ 1788,    13,  7660,  2068,  1024,   149, 12673,     0,     0],\n",
      "        [  161,     0,     0,     0,     0,     0,     0, 25140,     0],\n",
      "        [    3,     2,    49,    17,     0,     0,     0,   201, 25039]])\n"
     ]
    },
    {
     "name": "stderr",
     "output_type": "stream",
     "text": [
      "Metric Validation/Accuracy improved by 0.011 >= min_delta = 0.0. New best score: 0.909\n"
     ]
    },
    {
     "data": {
      "application/vnd.jupyter.widget-view+json": {
       "model_id": "faddb51f85844d1dbb249dfb6ad69d9e",
       "version_major": 2,
       "version_minor": 0
      },
      "text/plain": [
       "Validation: |          | 0/? [00:00<?, ?it/s]"
      ]
     },
     "metadata": {},
     "output_type": "display_data"
    },
    {
     "name": "stdout",
     "output_type": "stream",
     "text": [
      "Epoch end: Validation, epoch number: 15\n",
      "ValidationEpoch/CM\n",
      " tensor([[18017,     1,   502,  5123,  1042,     0,  1372,     0,     0],\n",
      "        [  124, 27325,     0,     0,    14,     0,     0,    21,     0],\n",
      "        [ 1119,    43, 25699,   601,   618,   289,  4164,     3,     0],\n",
      "        [ 3839,     2,  1105, 19427,   784,     1,  1929,    26,     0],\n",
      "        [  535,     5,   384,   444, 25253,   114,   446,     1,     0],\n",
      "        [  163,   116,   106,     0,     1, 26572,     0,     3,     0],\n",
      "        [ 1858,    13,  8019,  2204,  1029,   149, 13908,     0,     0],\n",
      "        [  161,     0,     0,     0,     0,     0,     0, 26940,     0],\n",
      "        [    3,     2,    49,    17,     0,     0,     0,   201, 26839]])\n"
     ]
    },
    {
     "name": "stderr",
     "output_type": "stream",
     "text": [
      "Metric Validation/Accuracy improved by 0.004 >= min_delta = 0.0. New best score: 0.913\n"
     ]
    },
    {
     "name": "stdout",
     "output_type": "stream",
     "text": [
      "Epoch end: Train, epoch number: 14\n",
      "TrainEpoch/CM\n",
      " tensor([[18017,     1,   502,  5123,  1042,     0,  1372,     0,     0],\n",
      "        [  124, 27325,     0,     0,    14,     0,     0,    21,     0],\n",
      "        [ 1119,    43, 25699,   601,   618,   289,  4164,     3,     0],\n",
      "        [ 3839,     2,  1105, 19427,   784,     1,  1929,    26,     0],\n",
      "        [  535,     5,   384,   444, 25253,   114,   446,     1,     0],\n",
      "        [  163,   116,   106,     0,     1, 26572,     0,     3,     0],\n",
      "        [ 1858,    13,  8019,  2204,  1029,   149, 13908,     0,     0],\n",
      "        [  161,     0,     0,     0,     0,     0,     0, 26940,     0],\n",
      "        [    3,     2,    49,    17,     0,     0,     0,   201, 26839]])\n"
     ]
    },
    {
     "data": {
      "application/vnd.jupyter.widget-view+json": {
       "model_id": "4b6d24b854814d26a0be83d570b4e9c1",
       "version_major": 2,
       "version_minor": 0
      },
      "text/plain": [
       "Validation: |          | 0/? [00:00<?, ?it/s]"
      ]
     },
     "metadata": {},
     "output_type": "display_data"
    },
    {
     "name": "stdout",
     "output_type": "stream",
     "text": [
      "Epoch end: Validation, epoch number: 16\n",
      "ValidationEpoch/CM\n",
      " tensor([[19582,     1,   502,  5261,  1042,     0,  1399,     0,     0],\n",
      "        [  124, 29150,     0,     0,    14,     0,     0,    21,     0],\n",
      "        [ 1131,    43, 27515,   610,   618,   289,  4487,     3,     0],\n",
      "        [ 4002,     2,  1116, 20962,   784,     1,  2020,    26,     0],\n",
      "        [  536,     5,   384,   449, 27046,   118,   448,     1,     0],\n",
      "        [  163,   116,   106,     0,     1, 28362,     0,     3,     0],\n",
      "        [ 1929,    13,  8414,  2360,  1035,   149, 15085,     0,     0],\n",
      "        [  161,     0,     0,     0,     0,     0,     0, 28740,     0],\n",
      "        [    3,     2,    49,    17,     0,     0,     0,   201, 28639]])\n",
      "Epoch end: Train, epoch number: 15\n",
      "TrainEpoch/CM\n",
      " tensor([[19582,     1,   502,  5261,  1042,     0,  1399,     0,     0],\n",
      "        [  124, 29150,     0,     0,    14,     0,     0,    21,     0],\n",
      "        [ 1131,    43, 27515,   610,   618,   289,  4487,     3,     0],\n",
      "        [ 4002,     2,  1116, 20962,   784,     1,  2020,    26,     0],\n",
      "        [  536,     5,   384,   449, 27046,   118,   448,     1,     0],\n",
      "        [  163,   116,   106,     0,     1, 28362,     0,     3,     0],\n",
      "        [ 1929,    13,  8414,  2360,  1035,   149, 15085,     0,     0],\n",
      "        [  161,     0,     0,     0,     0,     0,     0, 28740,     0],\n",
      "        [    3,     2,    49,    17,     0,     0,     0,   201, 28639]])\n"
     ]
    },
    {
     "name": "stderr",
     "output_type": "stream",
     "text": [
      "Metric Validation/Accuracy improved by 0.000 >= min_delta = 0.0. New best score: 0.913\n"
     ]
    },
    {
     "data": {
      "application/vnd.jupyter.widget-view+json": {
       "model_id": "c55a2d8bdbac4351b59962ccea8340e7",
       "version_major": 2,
       "version_minor": 0
      },
      "text/plain": [
       "Validation: |          | 0/? [00:00<?, ?it/s]"
      ]
     },
     "metadata": {},
     "output_type": "display_data"
    },
    {
     "name": "stdout",
     "output_type": "stream",
     "text": [
      "Epoch end: Validation, epoch number: 17\n",
      "ValidationEpoch/CM\n",
      " tensor([[21183,     1,   502,  5371,  1042,     0,  1418,     0,     0],\n",
      "        [  124, 30975,     0,     0,    14,     0,     0,    21,     0],\n",
      "        [ 1143,    43, 29335,   621,   618,   289,  4804,     3,     0],\n",
      "        [ 4200,     2,  1122, 22467,   784,     1,  2111,    26,     0],\n",
      "        [  536,     5,   384,   454, 28846,   118,   448,     1,     0],\n",
      "        [  163,   116,   106,     0,     1, 30152,     0,     3,     0],\n",
      "        [ 1991,    13,  8777,  2500,  1040,   149, 16320,     0,     0],\n",
      "        [  161,     0,     0,     0,     0,     0,     0, 30540,     0],\n",
      "        [    3,     2,    49,    17,     0,     0,     0,   201, 30439]])\n",
      "Epoch end: Train, epoch number: 16\n",
      "TrainEpoch/CM\n",
      " tensor([[21183,     1,   502,  5371,  1042,     0,  1418,     0,     0],\n",
      "        [  124, 30975,     0,     0,    14,     0,     0,    21,     0],\n",
      "        [ 1143,    43, 29335,   621,   618,   289,  4804,     3,     0],\n",
      "        [ 4200,     2,  1122, 22467,   784,     1,  2111,    26,     0],\n",
      "        [  536,     5,   384,   454, 28846,   118,   448,     1,     0],\n",
      "        [  163,   116,   106,     0,     1, 30152,     0,     3,     0],\n",
      "        [ 1991,    13,  8777,  2500,  1040,   149, 16320,     0,     0],\n",
      "        [  161,     0,     0,     0,     0,     0,     0, 30540,     0],\n",
      "        [    3,     2,    49,    17,     0,     0,     0,   201, 30439]])\n"
     ]
    },
    {
     "name": "stderr",
     "output_type": "stream",
     "text": [
      "Metric Validation/Accuracy improved by 0.006 >= min_delta = 0.0. New best score: 0.919\n"
     ]
    },
    {
     "data": {
      "application/vnd.jupyter.widget-view+json": {
       "model_id": "0fe8dcbdab8a4d13a38df97e834bd7c9",
       "version_major": 2,
       "version_minor": 0
      },
      "text/plain": [
       "Validation: |          | 0/? [00:00<?, ?it/s]"
      ]
     },
     "metadata": {},
     "output_type": "display_data"
    },
    {
     "name": "stdout",
     "output_type": "stream",
     "text": [
      "Epoch end: Validation, epoch number: 18\n",
      "ValidationEpoch/CM\n",
      " tensor([[22799,     1,   502,  5465,  1042,     0,  1438,     0,     0],\n",
      "        [  124, 32800,     0,     0,    14,     0,     0,    21,     0],\n",
      "        [ 1155,    43, 31149,   627,   618,   289,  5132,     3,     0],\n",
      "        [ 4376,     2,  1128, 24001,   784,     1,  2195,    26,     0],\n",
      "        [  536,     5,   384,   459, 30646,   118,   448,     1,     0],\n",
      "        [  163,   116,   106,     0,     1, 31942,     0,     3,     0],\n",
      "        [ 2053,    13,  9107,  2645,  1045,   149, 17583,     0,     0],\n",
      "        [  161,     0,     0,     0,     0,     0,     0, 32340,     0],\n",
      "        [    3,     2,    49,    17,     0,     0,     0,   201, 32239]])\n"
     ]
    },
    {
     "name": "stderr",
     "output_type": "stream",
     "text": [
      "Metric Validation/Accuracy improved by 0.001 >= min_delta = 0.0. New best score: 0.920\n"
     ]
    },
    {
     "name": "stdout",
     "output_type": "stream",
     "text": [
      "Epoch end: Train, epoch number: 17\n",
      "TrainEpoch/CM\n",
      " tensor([[22799,     1,   502,  5465,  1042,     0,  1438,     0,     0],\n",
      "        [  124, 32800,     0,     0,    14,     0,     0,    21,     0],\n",
      "        [ 1155,    43, 31149,   627,   618,   289,  5132,     3,     0],\n",
      "        [ 4376,     2,  1128, 24001,   784,     1,  2195,    26,     0],\n",
      "        [  536,     5,   384,   459, 30646,   118,   448,     1,     0],\n",
      "        [  163,   116,   106,     0,     1, 31942,     0,     3,     0],\n",
      "        [ 2053,    13,  9107,  2645,  1045,   149, 17583,     0,     0],\n",
      "        [  161,     0,     0,     0,     0,     0,     0, 32340,     0],\n",
      "        [    3,     2,    49,    17,     0,     0,     0,   201, 32239]])\n"
     ]
    },
    {
     "data": {
      "application/vnd.jupyter.widget-view+json": {
       "model_id": "feb64115d8244664a0d498287ee2f84d",
       "version_major": 2,
       "version_minor": 0
      },
      "text/plain": [
       "Validation: |          | 0/? [00:00<?, ?it/s]"
      ]
     },
     "metadata": {},
     "output_type": "display_data"
    },
    {
     "name": "stdout",
     "output_type": "stream",
     "text": [
      "Epoch end: Validation, epoch number: 19\n",
      "ValidationEpoch/CM\n",
      " tensor([[24326,     1,   502,  5644,  1042,     0,  1462,     0,     0],\n",
      "        [  124, 34625,     0,     0,    14,     0,     0,    21,     0],\n",
      "        [ 1167,    43, 32977,   632,   618,   289,  5447,     3,     0],\n",
      "        [ 4550,     2,  1134, 25537,   784,     1,  2279,    26,     0],\n",
      "        [  537,     5,   384,   464, 32445,   118,   448,     1,     0],\n",
      "        [  163,   116,   106,     0,     1, 33732,     0,     3,     0],\n",
      "        [ 2105,    13,  9436,  2794,  1050,   149, 18853,     0,     0],\n",
      "        [  161,     0,     0,     0,     0,     0,     0, 34140,     0],\n",
      "        [    3,     2,    49,    17,     0,     0,     0,   201, 34039]])\n",
      "Epoch end: Train, epoch number: 18\n",
      "TrainEpoch/CM\n",
      " tensor([[24326,     1,   502,  5644,  1042,     0,  1462,     0,     0],\n",
      "        [  124, 34625,     0,     0,    14,     0,     0,    21,     0],\n",
      "        [ 1167,    43, 32977,   632,   618,   289,  5447,     3,     0],\n",
      "        [ 4550,     2,  1134, 25537,   784,     1,  2279,    26,     0],\n",
      "        [  537,     5,   384,   464, 32445,   118,   448,     1,     0],\n",
      "        [  163,   116,   106,     0,     1, 33732,     0,     3,     0],\n",
      "        [ 2105,    13,  9436,  2794,  1050,   149, 18853,     0,     0],\n",
      "        [  161,     0,     0,     0,     0,     0,     0, 34140,     0],\n",
      "        [    3,     2,    49,    17,     0,     0,     0,   201, 34039]])\n"
     ]
    },
    {
     "data": {
      "application/vnd.jupyter.widget-view+json": {
       "model_id": "87e3ac7a77c649959ad1196aec75ab46",
       "version_major": 2,
       "version_minor": 0
      },
      "text/plain": [
       "Validation: |          | 0/? [00:00<?, ?it/s]"
      ]
     },
     "metadata": {},
     "output_type": "display_data"
    },
    {
     "name": "stdout",
     "output_type": "stream",
     "text": [
      "Epoch end: Validation, epoch number: 20\n",
      "ValidationEpoch/CM\n",
      " tensor([[25865,     1,   502,  5813,  1042,     0,  1484,     0,     0],\n",
      "        [  124, 36450,     0,     0,    14,     0,     0,    21,     0],\n",
      "        [ 1179,    43, 34842,   633,   618,   289,  5729,     3,     0],\n",
      "        [ 4697,     2,  1151, 27109,   784,     1,  2343,    26,     0],\n",
      "        [  538,     5,   384,   469, 34244,   118,   448,     1,     0],\n",
      "        [  163,   116,   106,     0,     1, 35522,     0,     3,     0],\n",
      "        [ 2156,    13,  9840,  2950,  1055,   149, 20042,     0,     0],\n",
      "        [  161,     0,     0,     0,     0,     0,     0, 35940,     0],\n",
      "        [    3,     2,    49,    17,     0,     0,     0,   201, 35839]])\n",
      "Epoch end: Train, epoch number: 19\n",
      "TrainEpoch/CM\n",
      " tensor([[25865,     1,   502,  5813,  1042,     0,  1484,     0,     0],\n",
      "        [  124, 36450,     0,     0,    14,     0,     0,    21,     0],\n",
      "        [ 1179,    43, 34842,   633,   618,   289,  5729,     3,     0],\n",
      "        [ 4697,     2,  1151, 27109,   784,     1,  2343,    26,     0],\n",
      "        [  538,     5,   384,   469, 34244,   118,   448,     1,     0],\n",
      "        [  163,   116,   106,     0,     1, 35522,     0,     3,     0],\n",
      "        [ 2156,    13,  9840,  2950,  1055,   149, 20042,     0,     0],\n",
      "        [  161,     0,     0,     0,     0,     0,     0, 35940,     0],\n",
      "        [    3,     2,    49,    17,     0,     0,     0,   201, 35839]])\n"
     ]
    },
    {
     "data": {
      "application/vnd.jupyter.widget-view+json": {
       "model_id": "f894353267544760a8fd56bb0b345886",
       "version_major": 2,
       "version_minor": 0
      },
      "text/plain": [
       "Validation: |          | 0/? [00:00<?, ?it/s]"
      ]
     },
     "metadata": {},
     "output_type": "display_data"
    },
    {
     "name": "stdout",
     "output_type": "stream",
     "text": [
      "Epoch end: Validation, epoch number: 21\n",
      "ValidationEpoch/CM\n",
      " tensor([[27495,     1,   502,  5892,  1042,     0,  1505,     0,     0],\n",
      "        [  124, 38275,     0,     0,    14,     0,     0,    21,     0],\n",
      "        [ 1191,    43, 36651,   635,   618,   289,  6066,     3,     0],\n",
      "        [ 4855,     2,  1155, 28662,   784,     1,  2428,    26,     0],\n",
      "        [  538,     5,   384,   472, 36046,   118,   448,     1,     0],\n",
      "        [  163,   116,   106,     0,     1, 37312,     0,     3,     0],\n",
      "        [ 2205,    13, 10125,  3087,  1060,   149, 21371,     0,     0],\n",
      "        [  161,     0,     0,     0,     0,     0,     0, 37740,     0],\n",
      "        [    3,     2,    49,    17,     0,     0,     0,   201, 37639]])\n",
      "Epoch end: Train, epoch number: 20\n",
      "TrainEpoch/CM\n",
      " tensor([[27495,     1,   502,  5892,  1042,     0,  1505,     0,     0],\n",
      "        [  124, 38275,     0,     0,    14,     0,     0,    21,     0],\n",
      "        [ 1191,    43, 36651,   635,   618,   289,  6066,     3,     0],\n",
      "        [ 4855,     2,  1155, 28662,   784,     1,  2428,    26,     0],\n",
      "        [  538,     5,   384,   472, 36046,   118,   448,     1,     0],\n",
      "        [  163,   116,   106,     0,     1, 37312,     0,     3,     0],\n",
      "        [ 2205,    13, 10125,  3087,  1060,   149, 21371,     0,     0],\n",
      "        [  161,     0,     0,     0,     0,     0,     0, 37740,     0],\n",
      "        [    3,     2,    49,    17,     0,     0,     0,   201, 37639]])\n"
     ]
    },
    {
     "name": "stderr",
     "output_type": "stream",
     "text": [
      "Metric Validation/Accuracy improved by 0.009 >= min_delta = 0.0. New best score: 0.929\n"
     ]
    },
    {
     "data": {
      "application/vnd.jupyter.widget-view+json": {
       "model_id": "dbfb7435a80f40afa10a78d35d50d66f",
       "version_major": 2,
       "version_minor": 0
      },
      "text/plain": [
       "Validation: |          | 0/? [00:00<?, ?it/s]"
      ]
     },
     "metadata": {},
     "output_type": "display_data"
    },
    {
     "name": "stdout",
     "output_type": "stream",
     "text": [
      "Epoch end: Validation, epoch number: 22\n",
      "ValidationEpoch/CM\n",
      " tensor([[29150,     1,   502,  5949,  1042,     0,  1523,     0,     0],\n",
      "        [  124, 40100,     0,     0,    14,     0,     0,    21,     0],\n",
      "        [ 1202,    43, 38551,   637,   618,   289,  6313,     3,     0],\n",
      "        [ 5012,     2,  1173, 30228,   784,     1,  2487,    26,     0],\n",
      "        [  538,     5,   384,   475, 37848,   118,   448,     1,     0],\n",
      "        [  163,   116,   106,     0,     1, 39102,     0,     3,     0],\n",
      "        [ 2278,    13, 10544,  3224,  1065,   149, 22542,     0,     0],\n",
      "        [  161,     0,     0,     0,     0,     0,     0, 39540,     0],\n",
      "        [    3,     2,    49,    17,     0,     0,     0,   201, 39439]])\n",
      "Epoch end: Train, epoch number: 21\n",
      "TrainEpoch/CM\n",
      " tensor([[29150,     1,   502,  5949,  1042,     0,  1523,     0,     0],\n",
      "        [  124, 40100,     0,     0,    14,     0,     0,    21,     0],\n",
      "        [ 1202,    43, 38551,   637,   618,   289,  6313,     3,     0],\n",
      "        [ 5012,     2,  1173, 30228,   784,     1,  2487,    26,     0],\n",
      "        [  538,     5,   384,   475, 37848,   118,   448,     1,     0],\n",
      "        [  163,   116,   106,     0,     1, 39102,     0,     3,     0],\n",
      "        [ 2278,    13, 10544,  3224,  1065,   149, 22542,     0,     0],\n",
      "        [  161,     0,     0,     0,     0,     0,     0, 39540,     0],\n",
      "        [    3,     2,    49,    17,     0,     0,     0,   201, 39439]])\n"
     ]
    },
    {
     "data": {
      "application/vnd.jupyter.widget-view+json": {
       "model_id": "656af9768a2d47ac9e8638e8ebb4a1a8",
       "version_major": 2,
       "version_minor": 0
      },
      "text/plain": [
       "Validation: |          | 0/? [00:00<?, ?it/s]"
      ]
     },
     "metadata": {},
     "output_type": "display_data"
    },
    {
     "name": "stdout",
     "output_type": "stream",
     "text": [
      "Epoch end: Validation, epoch number: 23\n",
      "ValidationEpoch/CM\n",
      " tensor([[30807,     1,   502,  6006,  1042,     0,  1539,     0,     0],\n",
      "        [  124, 41925,     0,     0,    14,     0,     0,    21,     0],\n",
      "        [ 1214,    43, 40433,   638,   618,   289,  6578,     3,     0],\n",
      "        [ 5164,     2,  1184, 31801,   784,     1,  2551,    26,     0],\n",
      "        [  538,     5,   384,   477, 39651,   118,   448,     1,     0],\n",
      "        [  163,   116,   106,     0,     1, 40892,     0,     3,     0],\n",
      "        [ 2336,    13, 10880,  3359,  1070,   149, 23813,     0,     0],\n",
      "        [  161,     0,     0,     0,     0,     0,     0, 41340,     0],\n",
      "        [    3,     2,    49,    17,     0,     0,     0,   201, 41239]])\n",
      "Epoch end: Train, epoch number: 22\n",
      "TrainEpoch/CM\n",
      " tensor([[30807,     1,   502,  6006,  1042,     0,  1539,     0,     0],\n",
      "        [  124, 41925,     0,     0,    14,     0,     0,    21,     0],\n",
      "        [ 1214,    43, 40433,   638,   618,   289,  6578,     3,     0],\n",
      "        [ 5164,     2,  1184, 31801,   784,     1,  2551,    26,     0],\n",
      "        [  538,     5,   384,   477, 39651,   118,   448,     1,     0],\n",
      "        [  163,   116,   106,     0,     1, 40892,     0,     3,     0],\n",
      "        [ 2336,    13, 10880,  3359,  1070,   149, 23813,     0,     0],\n",
      "        [  161,     0,     0,     0,     0,     0,     0, 41340,     0],\n",
      "        [    3,     2,    49,    17,     0,     0,     0,   201, 41239]])\n"
     ]
    },
    {
     "data": {
      "application/vnd.jupyter.widget-view+json": {
       "model_id": "88c8aeb9dd9c46b593cd73a66ef3bcff",
       "version_major": 2,
       "version_minor": 0
      },
      "text/plain": [
       "Validation: |          | 0/? [00:00<?, ?it/s]"
      ]
     },
     "metadata": {},
     "output_type": "display_data"
    },
    {
     "name": "stdout",
     "output_type": "stream",
     "text": [
      "Epoch end: Validation, epoch number: 24\n",
      "ValidationEpoch/CM\n",
      " tensor([[32446,     1,   502,  6079,  1042,     0,  1557,     0,     0],\n",
      "        [  124, 43750,     0,     0,    14,     0,     0,    21,     0],\n",
      "        [ 1223,    43, 42272,   638,   618,   289,  6890,     3,     0],\n",
      "        [ 5302,     2,  1190, 33379,   784,     1,  2629,    26,     0],\n",
      "        [  538,     5,   384,   480, 41453,   118,   448,     1,     0],\n",
      "        [  163,   116,   106,     0,     1, 42682,     0,     3,     0],\n",
      "        [ 2379,    13, 11159,  3496,  1075,   149, 25154,     0,     0],\n",
      "        [  161,     0,     0,     0,     0,     0,     0, 43140,     0],\n",
      "        [    3,     2,    49,    17,     0,     0,     0,   201, 43039]])\n",
      "Epoch end: Train, epoch number: 23\n",
      "TrainEpoch/CM\n",
      " tensor([[32446,     1,   502,  6079,  1042,     0,  1557,     0,     0],\n",
      "        [  124, 43750,     0,     0,    14,     0,     0,    21,     0],\n",
      "        [ 1223,    43, 42272,   638,   618,   289,  6890,     3,     0],\n",
      "        [ 5302,     2,  1190, 33379,   784,     1,  2629,    26,     0],\n",
      "        [  538,     5,   384,   480, 41453,   118,   448,     1,     0],\n",
      "        [  163,   116,   106,     0,     1, 42682,     0,     3,     0],\n",
      "        [ 2379,    13, 11159,  3496,  1075,   149, 25154,     0,     0],\n",
      "        [  161,     0,     0,     0,     0,     0,     0, 43140,     0],\n",
      "        [    3,     2,    49,    17,     0,     0,     0,   201, 43039]])\n"
     ]
    },
    {
     "name": "stderr",
     "output_type": "stream",
     "text": [
      "Metric Validation/Accuracy improved by 0.006 >= min_delta = 0.0. New best score: 0.935\n"
     ]
    },
    {
     "data": {
      "application/vnd.jupyter.widget-view+json": {
       "model_id": "a839668e17844dcb9b2fc05e9c1d31bc",
       "version_major": 2,
       "version_minor": 0
      },
      "text/plain": [
       "Validation: |          | 0/? [00:00<?, ?it/s]"
      ]
     },
     "metadata": {},
     "output_type": "display_data"
    },
    {
     "name": "stdout",
     "output_type": "stream",
     "text": [
      "Epoch end: Validation, epoch number: 25\n",
      "ValidationEpoch/CM\n",
      " tensor([[34100,     1,   502,  6136,  1042,     0,  1576,     0,     0],\n",
      "        [  124, 45575,     0,     0,    14,     0,     0,    21,     0],\n",
      "        [ 1233,    43, 44149,   643,   618,   289,  7158,     3,     0],\n",
      "        [ 5423,     2,  1197, 34978,   784,     1,  2702,    26,     0],\n",
      "        [  538,     5,   384,   481, 43257,   118,   448,     1,     0],\n",
      "        [  163,   116,   106,     0,     1, 44472,     0,     3,     0],\n",
      "        [ 2429,    13, 11466,  3632,  1080,   149, 26461,     0,     0],\n",
      "        [  161,     0,     0,     0,     0,     0,     0, 44940,     0],\n",
      "        [    3,     2,    49,    17,     0,     0,     0,   201, 44839]])\n",
      "Epoch end: Train, epoch number: 24\n",
      "TrainEpoch/CM\n",
      " tensor([[34100,     1,   502,  6136,  1042,     0,  1576,     0,     0],\n",
      "        [  124, 45575,     0,     0,    14,     0,     0,    21,     0],\n",
      "        [ 1233,    43, 44149,   643,   618,   289,  7158,     3,     0],\n",
      "        [ 5423,     2,  1197, 34978,   784,     1,  2702,    26,     0],\n",
      "        [  538,     5,   384,   481, 43257,   118,   448,     1,     0],\n",
      "        [  163,   116,   106,     0,     1, 44472,     0,     3,     0],\n",
      "        [ 2429,    13, 11466,  3632,  1080,   149, 26461,     0,     0],\n",
      "        [  161,     0,     0,     0,     0,     0,     0, 44940,     0],\n",
      "        [    3,     2,    49,    17,     0,     0,     0,   201, 44839]])\n"
     ]
    },
    {
     "data": {
      "application/vnd.jupyter.widget-view+json": {
       "model_id": "9a3ef02fa5dd4586a3fb616ab1714a37",
       "version_major": 2,
       "version_minor": 0
      },
      "text/plain": [
       "Validation: |          | 0/? [00:00<?, ?it/s]"
      ]
     },
     "metadata": {},
     "output_type": "display_data"
    },
    {
     "name": "stdout",
     "output_type": "stream",
     "text": [
      "Epoch end: Validation, epoch number: 26\n",
      "ValidationEpoch/CM\n",
      " tensor([[35756,     1,   502,  6189,  1042,     0,  1597,     0,     0],\n",
      "        [  124, 47400,     0,     0,    14,     0,     0,    21,     0],\n",
      "        [ 1245,    43, 46004,   643,   618,   289,  7451,     3,     0],\n",
      "        [ 5532,     2,  1201, 36598,   784,     1,  2769,    26,     0],\n",
      "        [  538,     5,   384,   483, 45060,   118,   448,     1,     0],\n",
      "        [  163,   116,   106,     0,     1, 46262,     0,     3,     0],\n",
      "        [ 2475,    13, 11714,  3762,  1085,   149, 27837,     0,     0],\n",
      "        [  161,     0,     0,     0,     0,     0,     0, 46740,     0],\n",
      "        [    3,     2,    49,    17,     0,     0,     0,   201, 46639]])\n",
      "Epoch end: Train, epoch number: 25\n",
      "TrainEpoch/CM\n",
      " tensor([[35756,     1,   502,  6189,  1042,     0,  1597,     0,     0],\n",
      "        [  124, 47400,     0,     0,    14,     0,     0,    21,     0],\n",
      "        [ 1245,    43, 46004,   643,   618,   289,  7451,     3,     0],\n",
      "        [ 5532,     2,  1201, 36598,   784,     1,  2769,    26,     0],\n",
      "        [  538,     5,   384,   483, 45060,   118,   448,     1,     0],\n",
      "        [  163,   116,   106,     0,     1, 46262,     0,     3,     0],\n",
      "        [ 2475,    13, 11714,  3762,  1085,   149, 27837,     0,     0],\n",
      "        [  161,     0,     0,     0,     0,     0,     0, 46740,     0],\n",
      "        [    3,     2,    49,    17,     0,     0,     0,   201, 46639]])\n"
     ]
    },
    {
     "name": "stderr",
     "output_type": "stream",
     "text": [
      "Metric Validation/Accuracy improved by 0.005 >= min_delta = 0.0. New best score: 0.939\n"
     ]
    },
    {
     "data": {
      "application/vnd.jupyter.widget-view+json": {
       "model_id": "5a4b62eb39bd40bfa846fbfc5bb78923",
       "version_major": 2,
       "version_minor": 0
      },
      "text/plain": [
       "Validation: |          | 0/? [00:00<?, ?it/s]"
      ]
     },
     "metadata": {},
     "output_type": "display_data"
    },
    {
     "name": "stdout",
     "output_type": "stream",
     "text": [
      "Epoch end: Validation, epoch number: 27\n",
      "ValidationEpoch/CM\n",
      " tensor([[37428,     1,   502,  6229,  1042,     0,  1615,     0,     0],\n",
      "        [  124, 49225,     0,     0,    14,     0,     0,    21,     0],\n",
      "        [ 1255,    43, 47882,   643,   618,   289,  7723,     3,     0],\n",
      "        [ 5632,     2,  1209, 38235,   784,     1,  2824,    26,     0],\n",
      "        [  538,     5,   384,   485, 46863,   118,   448,     1,     0],\n",
      "        [  163,   116,   106,     0,     1, 48052,     0,     3,     0],\n",
      "        [ 2519,    13, 11976,  3889,  1089,   149, 29205,     0,     0],\n",
      "        [  161,     0,     0,     0,     0,     0,     0, 48540,     0],\n",
      "        [    3,     2,    49,    17,     0,     0,     0,   201, 48439]])\n",
      "Epoch end: Train, epoch number: 26\n",
      "TrainEpoch/CM\n",
      " tensor([[37428,     1,   502,  6229,  1042,     0,  1615,     0,     0],\n",
      "        [  124, 49225,     0,     0,    14,     0,     0,    21,     0],\n",
      "        [ 1255,    43, 47882,   643,   618,   289,  7723,     3,     0],\n",
      "        [ 5632,     2,  1209, 38235,   784,     1,  2824,    26,     0],\n",
      "        [  538,     5,   384,   485, 46863,   118,   448,     1,     0],\n",
      "        [  163,   116,   106,     0,     1, 48052,     0,     3,     0],\n",
      "        [ 2519,    13, 11976,  3889,  1089,   149, 29205,     0,     0],\n",
      "        [  161,     0,     0,     0,     0,     0,     0, 48540,     0],\n",
      "        [    3,     2,    49,    17,     0,     0,     0,   201, 48439]])\n"
     ]
    },
    {
     "data": {
      "application/vnd.jupyter.widget-view+json": {
       "model_id": "65ab7d4b8b1e48b38cd0d1541e6ced0e",
       "version_major": 2,
       "version_minor": 0
      },
      "text/plain": [
       "Validation: |          | 0/? [00:00<?, ?it/s]"
      ]
     },
     "metadata": {},
     "output_type": "display_data"
    },
    {
     "name": "stdout",
     "output_type": "stream",
     "text": [
      "Epoch end: Validation, epoch number: 28\n",
      "ValidationEpoch/CM\n",
      " tensor([[39109,     1,   502,  6259,  1042,     0,  1634,     0,     0],\n",
      "        [  124, 51050,     0,     0,    14,     0,     0,    21,     0],\n",
      "        [ 1260,    43, 49775,   643,   618,   289,  7985,     3,     0],\n",
      "        [ 5735,     2,  1219, 39854,   784,     1,  2892,    26,     0],\n",
      "        [  538,     5,   384,   487, 48666,   118,   448,     1,     0],\n",
      "        [  163,   116,   106,     0,     1, 49842,     0,     3,     0],\n",
      "        [ 2569,    13, 12230,  4009,  1093,   149, 30582,     0,     0],\n",
      "        [  161,     0,     0,     0,     0,     0,     0, 50340,     0],\n",
      "        [    3,     2,    49,    17,     0,     0,     0,   201, 50239]])\n",
      "Epoch end: Train, epoch number: 27\n",
      "TrainEpoch/CM\n",
      " tensor([[39109,     1,   502,  6259,  1042,     0,  1634,     0,     0],\n",
      "        [  124, 51050,     0,     0,    14,     0,     0,    21,     0],\n",
      "        [ 1260,    43, 49775,   643,   618,   289,  7985,     3,     0],\n",
      "        [ 5735,     2,  1219, 39854,   784,     1,  2892,    26,     0],\n",
      "        [  538,     5,   384,   487, 48666,   118,   448,     1,     0],\n",
      "        [  163,   116,   106,     0,     1, 49842,     0,     3,     0],\n",
      "        [ 2569,    13, 12230,  4009,  1093,   149, 30582,     0,     0],\n",
      "        [  161,     0,     0,     0,     0,     0,     0, 50340,     0],\n",
      "        [    3,     2,    49,    17,     0,     0,     0,   201, 50239]])\n"
     ]
    },
    {
     "name": "stderr",
     "output_type": "stream",
     "text": [
      "Metric Validation/Accuracy improved by 0.000 >= min_delta = 0.0. New best score: 0.940\n"
     ]
    },
    {
     "data": {
      "application/vnd.jupyter.widget-view+json": {
       "model_id": "b1afb819e9074b6681822333e00b4e00",
       "version_major": 2,
       "version_minor": 0
      },
      "text/plain": [
       "Validation: |          | 0/? [00:00<?, ?it/s]"
      ]
     },
     "metadata": {},
     "output_type": "display_data"
    },
    {
     "name": "stdout",
     "output_type": "stream",
     "text": [
      "Epoch end: Validation, epoch number: 29\n",
      "ValidationEpoch/CM\n",
      " tensor([[40763,     1,   502,  6316,  1042,     0,  1653,     0,     0],\n",
      "        [  124, 52875,     0,     0,    14,     0,     0,    21,     0],\n",
      "        [ 1270,    43, 51671,   643,   618,   289,  8239,     3,     0],\n",
      "        [ 5823,     2,  1228, 41497,   784,     1,  2952,    26,     0],\n",
      "        [  538,     5,   384,   489, 50469,   118,   448,     1,     0],\n",
      "        [  163,   116,   106,     0,     1, 51632,     0,     3,     0],\n",
      "        [ 2611,    13, 12471,  4132,  1097,   149, 31977,     0,     0],\n",
      "        [  161,     0,     0,     0,     0,     0,     0, 52140,     0],\n",
      "        [    3,     2,    49,    17,     0,     0,     0,   201, 52039]])\n",
      "Epoch end: Train, epoch number: 28\n",
      "TrainEpoch/CM\n",
      " tensor([[40763,     1,   502,  6316,  1042,     0,  1653,     0,     0],\n",
      "        [  124, 52875,     0,     0,    14,     0,     0,    21,     0],\n",
      "        [ 1270,    43, 51671,   643,   618,   289,  8239,     3,     0],\n",
      "        [ 5823,     2,  1228, 41497,   784,     1,  2952,    26,     0],\n",
      "        [  538,     5,   384,   489, 50469,   118,   448,     1,     0],\n",
      "        [  163,   116,   106,     0,     1, 51632,     0,     3,     0],\n",
      "        [ 2611,    13, 12471,  4132,  1097,   149, 31977,     0,     0],\n",
      "        [  161,     0,     0,     0,     0,     0,     0, 52140,     0],\n",
      "        [    3,     2,    49,    17,     0,     0,     0,   201, 52039]])\n"
     ]
    },
    {
     "name": "stderr",
     "output_type": "stream",
     "text": [
      "Metric Validation/Accuracy improved by 0.002 >= min_delta = 0.0. New best score: 0.941\n"
     ]
    },
    {
     "data": {
      "application/vnd.jupyter.widget-view+json": {
       "model_id": "f9104eeb4fee472a8cb9c6fb02e2e3cc",
       "version_major": 2,
       "version_minor": 0
      },
      "text/plain": [
       "Validation: |          | 0/? [00:00<?, ?it/s]"
      ]
     },
     "metadata": {},
     "output_type": "display_data"
    },
    {
     "name": "stdout",
     "output_type": "stream",
     "text": [
      "Epoch end: Validation, epoch number: 30\n",
      "ValidationEpoch/CM\n",
      " tensor([[42439,     1,   502,  6350,  1042,     0,  1673,     0,     0],\n",
      "        [  124, 54700,     0,     0,    14,     0,     0,    21,     0],\n",
      "        [ 1274,    43, 53588,   643,   618,   289,  8478,     3,     0],\n",
      "        [ 5907,     2,  1236, 43151,   784,     1,  3006,    26,     0],\n",
      "        [  538,     5,   384,   491, 52272,   118,   448,     1,     0],\n",
      "        [  163,   116,   106,     0,     1, 53422,     0,     3,     0],\n",
      "        [ 2651,    13, 12743,  4265,  1102,   149, 33332,     0,     0],\n",
      "        [  161,     0,     0,     0,     0,     0,     0, 53940,     0],\n",
      "        [    3,     2,    49,    17,     0,     0,     0,   201, 53839]])\n",
      "Epoch end: Train, epoch number: 29\n",
      "TrainEpoch/CM\n",
      " tensor([[42439,     1,   502,  6350,  1042,     0,  1673,     0,     0],\n",
      "        [  124, 54700,     0,     0,    14,     0,     0,    21,     0],\n",
      "        [ 1274,    43, 53588,   643,   618,   289,  8478,     3,     0],\n",
      "        [ 5907,     2,  1236, 43151,   784,     1,  3006,    26,     0],\n",
      "        [  538,     5,   384,   491, 52272,   118,   448,     1,     0],\n",
      "        [  163,   116,   106,     0,     1, 53422,     0,     3,     0],\n",
      "        [ 2651,    13, 12743,  4265,  1102,   149, 33332,     0,     0],\n",
      "        [  161,     0,     0,     0,     0,     0,     0, 53940,     0],\n",
      "        [    3,     2,    49,    17,     0,     0,     0,   201, 53839]])\n"
     ]
    },
    {
     "name": "stderr",
     "output_type": "stream",
     "text": [
      "Metric Validation/Accuracy improved by 0.000 >= min_delta = 0.0. New best score: 0.942\n"
     ]
    },
    {
     "data": {
      "application/vnd.jupyter.widget-view+json": {
       "model_id": "3ab4647ca47240729f6762e6e79249a9",
       "version_major": 2,
       "version_minor": 0
      },
      "text/plain": [
       "Validation: |          | 0/? [00:00<?, ?it/s]"
      ]
     },
     "metadata": {},
     "output_type": "display_data"
    },
    {
     "name": "stdout",
     "output_type": "stream",
     "text": [
      "Epoch end: Validation, epoch number: 31\n",
      "ValidationEpoch/CM\n",
      " tensor([[44134,     1,   502,  6366,  1042,     0,  1692,     0,     0],\n",
      "        [  124, 56525,     0,     0,    14,     0,     0,    21,     0],\n",
      "        [ 1275,    43, 55483,   643,   618,   289,  8742,     3,     0],\n",
      "        [ 6000,     2,  1244, 44793,   784,     1,  3063,    26,     0],\n",
      "        [  538,     5,   384,   492, 54076,   118,   448,     1,     0],\n",
      "        [  163,   116,   106,     0,     1, 55212,     0,     3,     0],\n",
      "        [ 2702,    13, 12971,  4383,  1104,   149, 34738,     0,     0],\n",
      "        [  161,     0,     0,     0,     0,     0,     0, 55740,     0],\n",
      "        [    3,     2,    49,    17,     0,     0,     0,   201, 55639]])\n"
     ]
    },
    {
     "name": "stderr",
     "output_type": "stream",
     "text": [
      "Metric Validation/Accuracy improved by 0.002 >= min_delta = 0.0. New best score: 0.944\n"
     ]
    },
    {
     "name": "stdout",
     "output_type": "stream",
     "text": [
      "Epoch end: Train, epoch number: 30\n",
      "TrainEpoch/CM\n",
      " tensor([[44134,     1,   502,  6366,  1042,     0,  1692,     0,     0],\n",
      "        [  124, 56525,     0,     0,    14,     0,     0,    21,     0],\n",
      "        [ 1275,    43, 55483,   643,   618,   289,  8742,     3,     0],\n",
      "        [ 6000,     2,  1244, 44793,   784,     1,  3063,    26,     0],\n",
      "        [  538,     5,   384,   492, 54076,   118,   448,     1,     0],\n",
      "        [  163,   116,   106,     0,     1, 55212,     0,     3,     0],\n",
      "        [ 2702,    13, 12971,  4383,  1104,   149, 34738,     0,     0],\n",
      "        [  161,     0,     0,     0,     0,     0,     0, 55740,     0],\n",
      "        [    3,     2,    49,    17,     0,     0,     0,   201, 55639]])\n"
     ]
    },
    {
     "data": {
      "application/vnd.jupyter.widget-view+json": {
       "model_id": "0893bcab91ed44c2911c168fb1b01d25",
       "version_major": 2,
       "version_minor": 0
      },
      "text/plain": [
       "Validation: |          | 0/? [00:00<?, ?it/s]"
      ]
     },
     "metadata": {},
     "output_type": "display_data"
    },
    {
     "name": "stdout",
     "output_type": "stream",
     "text": [
      "Epoch end: Validation, epoch number: 32\n",
      "ValidationEpoch/CM\n",
      " tensor([[45820,     1,   502,  6391,  1042,     0,  1711,     0,     0],\n",
      "        [  124, 58350,     0,     0,    14,     0,     0,    21,     0],\n",
      "        [ 1278,    43, 57395,   643,   618,   289,  8987,     3,     0],\n",
      "        [ 6098,     2,  1247, 46437,   784,     1,  3118,    26,     0],\n",
      "        [  538,     5,   384,   493, 55880,   118,   448,     1,     0],\n",
      "        [  163,   116,   106,     0,     1, 57002,     0,     3,     0],\n",
      "        [ 2748,    13, 13185,  4506,  1107,   149, 36157,     0,     0],\n",
      "        [  161,     0,     0,     0,     0,     0,     0, 57540,     0],\n",
      "        [    3,     2,    49,    17,     0,     0,     0,   201, 57439]])\n",
      "Epoch end: Train, epoch number: 31\n",
      "TrainEpoch/CM\n",
      " tensor([[45820,     1,   502,  6391,  1042,     0,  1711,     0,     0],\n",
      "        [  124, 58350,     0,     0,    14,     0,     0,    21,     0],\n",
      "        [ 1278,    43, 57395,   643,   618,   289,  8987,     3,     0],\n",
      "        [ 6098,     2,  1247, 46437,   784,     1,  3118,    26,     0],\n",
      "        [  538,     5,   384,   493, 55880,   118,   448,     1,     0],\n",
      "        [  163,   116,   106,     0,     1, 57002,     0,     3,     0],\n",
      "        [ 2748,    13, 13185,  4506,  1107,   149, 36157,     0,     0],\n",
      "        [  161,     0,     0,     0,     0,     0,     0, 57540,     0],\n",
      "        [    3,     2,    49,    17,     0,     0,     0,   201, 57439]])\n"
     ]
    },
    {
     "name": "stderr",
     "output_type": "stream",
     "text": [
      "Metric Validation/Accuracy improved by 0.003 >= min_delta = 0.0. New best score: 0.947\n"
     ]
    },
    {
     "data": {
      "application/vnd.jupyter.widget-view+json": {
       "model_id": "e43c5c32600a47549bcba58d7470901e",
       "version_major": 2,
       "version_minor": 0
      },
      "text/plain": [
       "Validation: |          | 0/? [00:00<?, ?it/s]"
      ]
     },
     "metadata": {},
     "output_type": "display_data"
    },
    {
     "name": "stdout",
     "output_type": "stream",
     "text": [
      "Epoch end: Validation, epoch number: 33\n",
      "ValidationEpoch/CM\n",
      " tensor([[47500,     1,   502,  6423,  1042,     0,  1729,     0,     0],\n",
      "        [  124, 60175,     0,     0,    14,     0,     0,    21,     0],\n",
      "        [ 1282,    43, 59324,   643,   618,   289,  9214,     3,     0],\n",
      "        [ 6173,     2,  1251, 48115,   784,     1,  3161,    26,     0],\n",
      "        [  538,     5,   384,   494, 57684,   118,   448,     1,     0],\n",
      "        [  163,   116,   106,     0,     1, 58792,     0,     3,     0],\n",
      "        [ 2787,    13, 13424,  4643,  1110,   149, 37544,     0,     0],\n",
      "        [  161,     0,     0,     0,     0,     0,     0, 59340,     0],\n",
      "        [    3,     2,    49,    17,     0,     0,     0,   201, 59239]])\n",
      "Epoch end: Train, epoch number: 32\n",
      "TrainEpoch/CM\n",
      " tensor([[47500,     1,   502,  6423,  1042,     0,  1729,     0,     0],\n",
      "        [  124, 60175,     0,     0,    14,     0,     0,    21,     0],\n",
      "        [ 1282,    43, 59324,   643,   618,   289,  9214,     3,     0],\n",
      "        [ 6173,     2,  1251, 48115,   784,     1,  3161,    26,     0],\n",
      "        [  538,     5,   384,   494, 57684,   118,   448,     1,     0],\n",
      "        [  163,   116,   106,     0,     1, 58792,     0,     3,     0],\n",
      "        [ 2787,    13, 13424,  4643,  1110,   149, 37544,     0,     0],\n",
      "        [  161,     0,     0,     0,     0,     0,     0, 59340,     0],\n",
      "        [    3,     2,    49,    17,     0,     0,     0,   201, 59239]])\n"
     ]
    },
    {
     "data": {
      "application/vnd.jupyter.widget-view+json": {
       "model_id": "c6aa58c178fb415391d16ee544bde489",
       "version_major": 2,
       "version_minor": 0
      },
      "text/plain": [
       "Validation: |          | 0/? [00:00<?, ?it/s]"
      ]
     },
     "metadata": {},
     "output_type": "display_data"
    },
    {
     "name": "stdout",
     "output_type": "stream",
     "text": [
      "Epoch end: Validation, epoch number: 34\n",
      "ValidationEpoch/CM\n",
      " tensor([[49198,     1,   502,  6434,  1042,     0,  1750,     0,     0],\n",
      "        [  124, 62000,     0,     0,    14,     0,     0,    21,     0],\n",
      "        [ 1282,    43, 61244,   643,   618,   289,  9454,     3,     0],\n",
      "        [ 6246,     2,  1252, 49784,   784,     1,  3218,    26,     0],\n",
      "        [  538,     5,   384,   495, 59488,   118,   448,     1,     0],\n",
      "        [  163,   116,   106,     0,     1, 60582,     0,     3,     0],\n",
      "        [ 2831,    13, 13644,  4761,  1110,   149, 38967,     0,     0],\n",
      "        [  161,     0,     0,     0,     0,     0,     0, 61140,     0],\n",
      "        [    3,     2,    49,    17,     0,     0,     0,   201, 61039]])\n",
      "Epoch end: Train, epoch number: 33\n",
      "TrainEpoch/CM\n",
      " tensor([[49198,     1,   502,  6434,  1042,     0,  1750,     0,     0],\n",
      "        [  124, 62000,     0,     0,    14,     0,     0,    21,     0],\n",
      "        [ 1282,    43, 61244,   643,   618,   289,  9454,     3,     0],\n",
      "        [ 6246,     2,  1252, 49784,   784,     1,  3218,    26,     0],\n",
      "        [  538,     5,   384,   495, 59488,   118,   448,     1,     0],\n",
      "        [  163,   116,   106,     0,     1, 60582,     0,     3,     0],\n",
      "        [ 2831,    13, 13644,  4761,  1110,   149, 38967,     0,     0],\n",
      "        [  161,     0,     0,     0,     0,     0,     0, 61140,     0],\n",
      "        [    3,     2,    49,    17,     0,     0,     0,   201, 61039]])\n"
     ]
    },
    {
     "name": "stderr",
     "output_type": "stream",
     "text": [
      "Metric Validation/Accuracy improved by 0.004 >= min_delta = 0.0. New best score: 0.951\n"
     ]
    },
    {
     "data": {
      "application/vnd.jupyter.widget-view+json": {
       "model_id": "6c9359f534274af8983bca5eb4ef52b1",
       "version_major": 2,
       "version_minor": 0
      },
      "text/plain": [
       "Validation: |          | 0/? [00:00<?, ?it/s]"
      ]
     },
     "metadata": {},
     "output_type": "display_data"
    },
    {
     "name": "stdout",
     "output_type": "stream",
     "text": [
      "Epoch end: Validation, epoch number: 35\n",
      "ValidationEpoch/CM\n",
      " tensor([[50876,     1,   502,  6468,  1042,     0,  1768,     0,     0],\n",
      "        [  124, 63825,     0,     0,    14,     0,     0,    21,     0],\n",
      "        [ 1282,    43, 63181,   643,   618,   289,  9677,     3,     0],\n",
      "        [ 6309,     2,  1253, 51477,   784,     1,  3261,    26,     0],\n",
      "        [  538,     5,   384,   495, 61293,   118,   448,     1,     0],\n",
      "        [  163,   116,   106,     0,     1, 62372,     0,     3,     0],\n",
      "        [ 2868,    13, 13865,  4893,  1110,   149, 40382,     0,     0],\n",
      "        [  161,     0,     0,     0,     0,     0,     0, 62940,     0],\n",
      "        [    3,     2,    49,    17,     0,     0,     0,   201, 62839]])\n",
      "Epoch end: Train, epoch number: 34\n",
      "TrainEpoch/CM\n",
      " tensor([[50876,     1,   502,  6468,  1042,     0,  1768,     0,     0],\n",
      "        [  124, 63825,     0,     0,    14,     0,     0,    21,     0],\n",
      "        [ 1282,    43, 63181,   643,   618,   289,  9677,     3,     0],\n",
      "        [ 6309,     2,  1253, 51477,   784,     1,  3261,    26,     0],\n",
      "        [  538,     5,   384,   495, 61293,   118,   448,     1,     0],\n",
      "        [  163,   116,   106,     0,     1, 62372,     0,     3,     0],\n",
      "        [ 2868,    13, 13865,  4893,  1110,   149, 40382,     0,     0],\n",
      "        [  161,     0,     0,     0,     0,     0,     0, 62940,     0],\n",
      "        [    3,     2,    49,    17,     0,     0,     0,   201, 62839]])\n"
     ]
    },
    {
     "data": {
      "application/vnd.jupyter.widget-view+json": {
       "model_id": "2c8c113932554c928655cdd18ce2ff56",
       "version_major": 2,
       "version_minor": 0
      },
      "text/plain": [
       "Validation: |          | 0/? [00:00<?, ?it/s]"
      ]
     },
     "metadata": {},
     "output_type": "display_data"
    },
    {
     "name": "stdout",
     "output_type": "stream",
     "text": [
      "Epoch end: Validation, epoch number: 36\n",
      "ValidationEpoch/CM\n",
      " tensor([[52567,     1,   502,  6490,  1042,     0,  1785,     0,     0],\n",
      "        [  124, 65650,     0,     0,    14,     0,     0,    21,     0],\n",
      "        [ 1282,    43, 65109,   643,   618,   289,  9909,     3,     0],\n",
      "        [ 6392,     2,  1254, 53148,   784,     1,  3306,    26,     0],\n",
      "        [  538,     5,   384,   497, 63096,   118,   448,     1,     0],\n",
      "        [  163,   116,   106,     0,     1, 64162,     0,     3,     0],\n",
      "        [ 2911,    13, 14065,  5019,  1110,   149, 41818,     0,     0],\n",
      "        [  161,     0,     0,     0,     0,     0,     0, 64740,     0],\n",
      "        [    3,     2,    49,    17,     0,     0,     0,   201, 64639]])\n",
      "Epoch end: Train, epoch number: 35\n",
      "TrainEpoch/CM\n",
      " tensor([[52567,     1,   502,  6490,  1042,     0,  1785,     0,     0],\n",
      "        [  124, 65650,     0,     0,    14,     0,     0,    21,     0],\n",
      "        [ 1282,    43, 65109,   643,   618,   289,  9909,     3,     0],\n",
      "        [ 6392,     2,  1254, 53148,   784,     1,  3306,    26,     0],\n",
      "        [  538,     5,   384,   497, 63096,   118,   448,     1,     0],\n",
      "        [  163,   116,   106,     0,     1, 64162,     0,     3,     0],\n",
      "        [ 2911,    13, 14065,  5019,  1110,   149, 41818,     0,     0],\n",
      "        [  161,     0,     0,     0,     0,     0,     0, 64740,     0],\n",
      "        [    3,     2,    49,    17,     0,     0,     0,   201, 64639]])\n"
     ]
    },
    {
     "name": "stderr",
     "output_type": "stream",
     "text": [
      "Metric Validation/Accuracy improved by 0.001 >= min_delta = 0.0. New best score: 0.952\n"
     ]
    },
    {
     "data": {
      "application/vnd.jupyter.widget-view+json": {
       "model_id": "0c0b89d191544208a5e41839905c7c51",
       "version_major": 2,
       "version_minor": 0
      },
      "text/plain": [
       "Validation: |          | 0/? [00:00<?, ?it/s]"
      ]
     },
     "metadata": {},
     "output_type": "display_data"
    },
    {
     "name": "stdout",
     "output_type": "stream",
     "text": [
      "Epoch end: Validation, epoch number: 37\n",
      "ValidationEpoch/CM\n",
      " tensor([[54266,     1,   502,  6501,  1042,     0,  1805,     0,     0],\n",
      "        [  124, 67475,     0,     0,    14,     0,     0,    21,     0],\n",
      "        [ 1282,    43, 67042,   643,   618,   289, 10136,     3,     0],\n",
      "        [ 6452,     2,  1255, 54841,   784,     1,  3352,    26,     0],\n",
      "        [  538,     5,   384,   497, 64901,   118,   448,     1,     0],\n",
      "        [  163,   116,   106,     0,     1, 65952,     0,     3,     0],\n",
      "        [ 2958,    13, 14256,  5136,  1110,   149, 43268,     0,     0],\n",
      "        [  161,     0,     0,     0,     0,     0,     0, 66540,     0],\n",
      "        [    3,     2,    49,    17,     0,     0,     0,   201, 66439]])\n",
      "Epoch end: Train, epoch number: 36\n",
      "TrainEpoch/CM\n",
      " tensor([[54266,     1,   502,  6501,  1042,     0,  1805,     0,     0],\n",
      "        [  124, 67475,     0,     0,    14,     0,     0,    21,     0],\n",
      "        [ 1282,    43, 67042,   643,   618,   289, 10136,     3,     0],\n",
      "        [ 6452,     2,  1255, 54841,   784,     1,  3352,    26,     0],\n",
      "        [  538,     5,   384,   497, 64901,   118,   448,     1,     0],\n",
      "        [  163,   116,   106,     0,     1, 65952,     0,     3,     0],\n",
      "        [ 2958,    13, 14256,  5136,  1110,   149, 43268,     0,     0],\n",
      "        [  161,     0,     0,     0,     0,     0,     0, 66540,     0],\n",
      "        [    3,     2,    49,    17,     0,     0,     0,   201, 66439]])\n"
     ]
    },
    {
     "name": "stderr",
     "output_type": "stream",
     "text": [
      "Metric Validation/Accuracy improved by 0.000 >= min_delta = 0.0. New best score: 0.952\n"
     ]
    },
    {
     "data": {
      "application/vnd.jupyter.widget-view+json": {
       "model_id": "e2fe3b6bc40547088ba45cbe2660c01f",
       "version_major": 2,
       "version_minor": 0
      },
      "text/plain": [
       "Validation: |          | 0/? [00:00<?, ?it/s]"
      ]
     },
     "metadata": {},
     "output_type": "display_data"
    },
    {
     "name": "stdout",
     "output_type": "stream",
     "text": [
      "Epoch end: Validation, epoch number: 38\n",
      "ValidationEpoch/CM\n",
      " tensor([[55959,     1,   502,  6520,  1042,     0,  1823,     0,     0],\n",
      "        [  124, 69300,     0,     0,    14,     0,     0,    21,     0],\n",
      "        [ 1282,    43, 68973,   643,   618,   289, 10365,     3,     0],\n",
      "        [ 6507,     2,  1257, 56537,   784,     1,  3399,    26,     0],\n",
      "        [  538,     5,   384,   498, 66705,   118,   448,     1,     0],\n",
      "        [  163,   116,   106,     0,     1, 67742,     0,     3,     0],\n",
      "        [ 2989,    13, 14438,  5261,  1110,   149, 44735,     0,     0],\n",
      "        [  161,     0,     0,     0,     0,     0,     0, 68340,     0],\n",
      "        [    3,     2,    49,    17,     0,     0,     0,   201, 68239]])\n"
     ]
    },
    {
     "name": "stderr",
     "output_type": "stream",
     "text": [
      "Metric Validation/Accuracy improved by 0.001 >= min_delta = 0.0. New best score: 0.953\n"
     ]
    },
    {
     "name": "stdout",
     "output_type": "stream",
     "text": [
      "Epoch end: Train, epoch number: 37\n",
      "TrainEpoch/CM\n",
      " tensor([[55959,     1,   502,  6520,  1042,     0,  1823,     0,     0],\n",
      "        [  124, 69300,     0,     0,    14,     0,     0,    21,     0],\n",
      "        [ 1282,    43, 68973,   643,   618,   289, 10365,     3,     0],\n",
      "        [ 6507,     2,  1257, 56537,   784,     1,  3399,    26,     0],\n",
      "        [  538,     5,   384,   498, 66705,   118,   448,     1,     0],\n",
      "        [  163,   116,   106,     0,     1, 67742,     0,     3,     0],\n",
      "        [ 2989,    13, 14438,  5261,  1110,   149, 44735,     0,     0],\n",
      "        [  161,     0,     0,     0,     0,     0,     0, 68340,     0],\n",
      "        [    3,     2,    49,    17,     0,     0,     0,   201, 68239]])\n"
     ]
    },
    {
     "data": {
      "application/vnd.jupyter.widget-view+json": {
       "model_id": "bb66490ca947484e878957822e3a736d",
       "version_major": 2,
       "version_minor": 0
      },
      "text/plain": [
       "Validation: |          | 0/? [00:00<?, ?it/s]"
      ]
     },
     "metadata": {},
     "output_type": "display_data"
    },
    {
     "name": "stdout",
     "output_type": "stream",
     "text": [
      "Epoch end: Validation, epoch number: 39\n",
      "ValidationEpoch/CM\n",
      " tensor([[57667,     1,   502,  6527,  1042,     0,  1838,     0,     0],\n",
      "        [  124, 71125,     0,     0,    14,     0,     0,    21,     0],\n",
      "        [ 1282,    43, 70944,   643,   618,   289, 10554,     3,     0],\n",
      "        [ 6567,     2,  1257, 58231,   784,     1,  3445,    26,     0],\n",
      "        [  538,     5,   384,   498, 68510,   118,   448,     1,     0],\n",
      "        [  163,   116,   106,     0,     1, 69532,     0,     3,     0],\n",
      "        [ 3029,    13, 14641,  5375,  1110,   149, 46183,     0,     0],\n",
      "        [  161,     0,     0,     0,     0,     0,     0, 70140,     0],\n",
      "        [    3,     2,    49,    17,     0,     0,     0,   201, 70039]])\n",
      "Epoch end: Train, epoch number: 38\n",
      "TrainEpoch/CM\n",
      " tensor([[57667,     1,   502,  6527,  1042,     0,  1838,     0,     0],\n",
      "        [  124, 71125,     0,     0,    14,     0,     0,    21,     0],\n",
      "        [ 1282,    43, 70944,   643,   618,   289, 10554,     3,     0],\n",
      "        [ 6567,     2,  1257, 58231,   784,     1,  3445,    26,     0],\n",
      "        [  538,     5,   384,   498, 68510,   118,   448,     1,     0],\n",
      "        [  163,   116,   106,     0,     1, 69532,     0,     3,     0],\n",
      "        [ 3029,    13, 14641,  5375,  1110,   149, 46183,     0,     0],\n",
      "        [  161,     0,     0,     0,     0,     0,     0, 70140,     0],\n",
      "        [    3,     2,    49,    17,     0,     0,     0,   201, 70039]])\n"
     ]
    },
    {
     "name": "stderr",
     "output_type": "stream",
     "text": [
      "Metric Validation/Accuracy improved by 0.002 >= min_delta = 0.0. New best score: 0.955\n"
     ]
    },
    {
     "data": {
      "application/vnd.jupyter.widget-view+json": {
       "model_id": "1b2b0ecd1d054de7acb32531870da220",
       "version_major": 2,
       "version_minor": 0
      },
      "text/plain": [
       "Validation: |          | 0/? [00:00<?, ?it/s]"
      ]
     },
     "metadata": {},
     "output_type": "display_data"
    },
    {
     "name": "stdout",
     "output_type": "stream",
     "text": [
      "Epoch end: Validation, epoch number: 40\n",
      "ValidationEpoch/CM\n",
      " tensor([[59372,     1,   502,  6533,  1042,     0,  1857,     0,     0],\n",
      "        [  124, 72950,     0,     0,    14,     0,     0,    21,     0],\n",
      "        [ 1282,    43, 72886,   643,   618,   289, 10772,     3,     0],\n",
      "        [ 6622,     2,  1257, 59927,   784,     1,  3494,    26,     0],\n",
      "        [  538,     5,   384,   498, 70315,   118,   448,     1,     0],\n",
      "        [  163,   116,   106,     0,     1, 71322,     0,     3,     0],\n",
      "        [ 3066,    13, 14834,  5492,  1110,   149, 47641,     0,     0],\n",
      "        [  161,     0,     0,     0,     0,     0,     0, 71940,     0],\n",
      "        [    3,     2,    49,    17,     0,     0,     0,   201, 71839]])\n",
      "Epoch end: Train, epoch number: 39\n",
      "TrainEpoch/CM\n",
      " tensor([[59372,     1,   502,  6533,  1042,     0,  1857,     0,     0],\n",
      "        [  124, 72950,     0,     0,    14,     0,     0,    21,     0],\n",
      "        [ 1282,    43, 72886,   643,   618,   289, 10772,     3,     0],\n",
      "        [ 6622,     2,  1257, 59927,   784,     1,  3494,    26,     0],\n",
      "        [  538,     5,   384,   498, 70315,   118,   448,     1,     0],\n",
      "        [  163,   116,   106,     0,     1, 71322,     0,     3,     0],\n",
      "        [ 3066,    13, 14834,  5492,  1110,   149, 47641,     0,     0],\n",
      "        [  161,     0,     0,     0,     0,     0,     0, 71940,     0],\n",
      "        [    3,     2,    49,    17,     0,     0,     0,   201, 71839]])\n"
     ]
    },
    {
     "name": "stderr",
     "output_type": "stream",
     "text": [
      "Metric Validation/Accuracy improved by 0.000 >= min_delta = 0.0. New best score: 0.955\n"
     ]
    },
    {
     "data": {
      "application/vnd.jupyter.widget-view+json": {
       "model_id": "910ad2e172f94df99cf19b12456ba359",
       "version_major": 2,
       "version_minor": 0
      },
      "text/plain": [
       "Validation: |          | 0/? [00:00<?, ?it/s]"
      ]
     },
     "metadata": {},
     "output_type": "display_data"
    },
    {
     "name": "stdout",
     "output_type": "stream",
     "text": [
      "Epoch end: Validation, epoch number: 41\n",
      "ValidationEpoch/CM\n",
      " tensor([[61076,     1,   502,  6544,  1042,     0,  1872,     0,     0],\n",
      "        [  124, 74775,     0,     0,    14,     0,     0,    21,     0],\n",
      "        [ 1282,    43, 74852,   643,   618,   289, 10966,     3,     0],\n",
      "        [ 6676,     2,  1259, 61626,   784,     1,  3539,    26,     0],\n",
      "        [  538,     5,   384,   498, 72120,   118,   448,     1,     0],\n",
      "        [  163,   116,   106,     0,     1, 73112,     0,     3,     0],\n",
      "        [ 3100,    13, 15019,  5614,  1110,   149, 49105,     0,     0],\n",
      "        [  161,     0,     0,     0,     0,     0,     0, 73740,     0],\n",
      "        [    3,     2,    49,    17,     0,     0,     0,   201, 73639]])\n",
      "Epoch end: Train, epoch number: 40\n",
      "TrainEpoch/CM\n",
      " tensor([[61076,     1,   502,  6544,  1042,     0,  1872,     0,     0],\n",
      "        [  124, 74775,     0,     0,    14,     0,     0,    21,     0],\n",
      "        [ 1282,    43, 74852,   643,   618,   289, 10966,     3,     0],\n",
      "        [ 6676,     2,  1259, 61626,   784,     1,  3539,    26,     0],\n",
      "        [  538,     5,   384,   498, 72120,   118,   448,     1,     0],\n",
      "        [  163,   116,   106,     0,     1, 73112,     0,     3,     0],\n",
      "        [ 3100,    13, 15019,  5614,  1110,   149, 49105,     0,     0],\n",
      "        [  161,     0,     0,     0,     0,     0,     0, 73740,     0],\n",
      "        [    3,     2,    49,    17,     0,     0,     0,   201, 73639]])\n"
     ]
    },
    {
     "name": "stderr",
     "output_type": "stream",
     "text": [
      "Metric Validation/Accuracy improved by 0.006 >= min_delta = 0.0. New best score: 0.961\n"
     ]
    },
    {
     "data": {
      "application/vnd.jupyter.widget-view+json": {
       "model_id": "86f0670a983842efaa87da5dd4019e21",
       "version_major": 2,
       "version_minor": 0
      },
      "text/plain": [
       "Validation: |          | 0/? [00:00<?, ?it/s]"
      ]
     },
     "metadata": {},
     "output_type": "display_data"
    },
    {
     "name": "stdout",
     "output_type": "stream",
     "text": [
      "Epoch end: Validation, epoch number: 42\n",
      "ValidationEpoch/CM\n",
      " tensor([[62783,     1,   502,  6555,  1042,     0,  1884,     0,     0],\n",
      "        [  124, 76600,     0,     0,    14,     0,     0,    21,     0],\n",
      "        [ 1282,    43, 76836,   643,   618,   289, 11142,     3,     0],\n",
      "        [ 6729,     2,  1259, 63338,   784,     1,  3574,    26,     0],\n",
      "        [  538,     5,   384,   498, 73925,   118,   448,     1,     0],\n",
      "        [  163,   116,   106,     0,     1, 74902,     0,     3,     0],\n",
      "        [ 3137,    13, 15238,  5740,  1110,   149, 50528,     0,     0],\n",
      "        [  161,     0,     0,     0,     0,     0,     0, 75540,     0],\n",
      "        [    3,     2,    49,    17,     0,     0,     0,   201, 75439]])\n",
      "Epoch end: Train, epoch number: 41\n",
      "TrainEpoch/CM\n",
      " tensor([[62783,     1,   502,  6555,  1042,     0,  1884,     0,     0],\n",
      "        [  124, 76600,     0,     0,    14,     0,     0,    21,     0],\n",
      "        [ 1282,    43, 76836,   643,   618,   289, 11142,     3,     0],\n",
      "        [ 6729,     2,  1259, 63338,   784,     1,  3574,    26,     0],\n",
      "        [  538,     5,   384,   498, 73925,   118,   448,     1,     0],\n",
      "        [  163,   116,   106,     0,     1, 74902,     0,     3,     0],\n",
      "        [ 3137,    13, 15238,  5740,  1110,   149, 50528,     0,     0],\n",
      "        [  161,     0,     0,     0,     0,     0,     0, 75540,     0],\n",
      "        [    3,     2,    49,    17,     0,     0,     0,   201, 75439]])\n"
     ]
    },
    {
     "data": {
      "application/vnd.jupyter.widget-view+json": {
       "model_id": "68962e790a924897b7b6303384f54c51",
       "version_major": 2,
       "version_minor": 0
      },
      "text/plain": [
       "Validation: |          | 0/? [00:00<?, ?it/s]"
      ]
     },
     "metadata": {},
     "output_type": "display_data"
    },
    {
     "name": "stdout",
     "output_type": "stream",
     "text": [
      "Epoch end: Validation, epoch number: 43\n",
      "ValidationEpoch/CM\n",
      " tensor([[64488,     1,   502,  6562,  1042,     0,  1902,     0,     0],\n",
      "        [  124, 78425,     0,     0,    14,     0,     0,    21,     0],\n",
      "        [ 1282,    43, 78812,   643,   618,   289, 11326,     3,     0],\n",
      "        [ 6782,     2,  1259, 65043,   784,     1,  3616,    26,     0],\n",
      "        [  538,     5,   384,   498, 75730,   118,   448,     1,     0],\n",
      "        [  163,   116,   106,     0,     1, 76692,     0,     3,     0],\n",
      "        [ 3181,    13, 15427,  5852,  1110,   149, 51988,     0,     0],\n",
      "        [  161,     0,     0,     0,     0,     0,     0, 77340,     0],\n",
      "        [    3,     2,    49,    17,     0,     0,     0,   201, 77239]])\n",
      "Epoch end: Train, epoch number: 42\n",
      "TrainEpoch/CM\n",
      " tensor([[64488,     1,   502,  6562,  1042,     0,  1902,     0,     0],\n",
      "        [  124, 78425,     0,     0,    14,     0,     0,    21,     0],\n",
      "        [ 1282,    43, 78812,   643,   618,   289, 11326,     3,     0],\n",
      "        [ 6782,     2,  1259, 65043,   784,     1,  3616,    26,     0],\n",
      "        [  538,     5,   384,   498, 75730,   118,   448,     1,     0],\n",
      "        [  163,   116,   106,     0,     1, 76692,     0,     3,     0],\n",
      "        [ 3181,    13, 15427,  5852,  1110,   149, 51988,     0,     0],\n",
      "        [  161,     0,     0,     0,     0,     0,     0, 77340,     0],\n",
      "        [    3,     2,    49,    17,     0,     0,     0,   201, 77239]])\n"
     ]
    },
    {
     "data": {
      "application/vnd.jupyter.widget-view+json": {
       "model_id": "5065a4e578734a3e9bddcb473e385256",
       "version_major": 2,
       "version_minor": 0
      },
      "text/plain": [
       "Validation: |          | 0/? [00:00<?, ?it/s]"
      ]
     },
     "metadata": {},
     "output_type": "display_data"
    },
    {
     "name": "stdout",
     "output_type": "stream",
     "text": [
      "Epoch end: Validation, epoch number: 44\n",
      "ValidationEpoch/CM\n",
      " tensor([[66177,     1,   502,  6585,  1042,     0,  1920,     0,     0],\n",
      "        [  124, 80250,     0,     0,    14,     0,     0,    21,     0],\n",
      "        [ 1282,    43, 80785,   643,   618,   289, 11513,     3,     0],\n",
      "        [ 6849,     2,  1260, 66735,   784,     1,  3656,    26,     0],\n",
      "        [  538,     5,   384,   498, 77535,   118,   448,     1,     0],\n",
      "        [  163,   116,   106,     0,     1, 78482,     0,     3,     0],\n",
      "        [ 3219,    13, 15588,  5971,  1110,   149, 53475,     0,     0],\n",
      "        [  161,     0,     0,     0,     0,     0,     0, 79140,     0],\n",
      "        [    3,     2,    49,    17,     0,     0,     0,   201, 79039]])\n",
      "Epoch end: Train, epoch number: 43\n",
      "TrainEpoch/CM\n",
      " tensor([[66177,     1,   502,  6585,  1042,     0,  1920,     0,     0],\n",
      "        [  124, 80250,     0,     0,    14,     0,     0,    21,     0],\n",
      "        [ 1282,    43, 80785,   643,   618,   289, 11513,     3,     0],\n",
      "        [ 6849,     2,  1260, 66735,   784,     1,  3656,    26,     0],\n",
      "        [  538,     5,   384,   498, 77535,   118,   448,     1,     0],\n",
      "        [  163,   116,   106,     0,     1, 78482,     0,     3,     0],\n",
      "        [ 3219,    13, 15588,  5971,  1110,   149, 53475,     0,     0],\n",
      "        [  161,     0,     0,     0,     0,     0,     0, 79140,     0],\n",
      "        [    3,     2,    49,    17,     0,     0,     0,   201, 79039]])\n"
     ]
    },
    {
     "data": {
      "application/vnd.jupyter.widget-view+json": {
       "model_id": "37834a1528984c2bb99091013b176149",
       "version_major": 2,
       "version_minor": 0
      },
      "text/plain": [
       "Validation: |          | 0/? [00:00<?, ?it/s]"
      ]
     },
     "metadata": {},
     "output_type": "display_data"
    },
    {
     "name": "stdout",
     "output_type": "stream",
     "text": [
      "Epoch end: Validation, epoch number: 45\n",
      "ValidationEpoch/CM\n",
      " tensor([[67879,     1,   502,  6597,  1042,     0,  1936,     0,     0],\n",
      "        [  124, 82075,     0,     0,    14,     0,     0,    21,     0],\n",
      "        [ 1282,    43, 82779,   643,   618,   289, 11679,     3,     0],\n",
      "        [ 6897,     2,  1260, 68447,   784,     1,  3696,    26,     0],\n",
      "        [  538,     5,   384,   498, 79340,   118,   448,     1,     0],\n",
      "        [  163,   116,   106,     0,     1, 80272,     0,     3,     0],\n",
      "        [ 3249,    13, 15745,  6087,  1110,   149, 54977,     0,     0],\n",
      "        [  161,     0,     0,     0,     0,     0,     0, 80940,     0],\n",
      "        [    3,     2,    49,    17,     0,     0,     0,   201, 80839]])\n",
      "Epoch end: Train, epoch number: 44\n"
     ]
    },
    {
     "name": "stderr",
     "output_type": "stream",
     "text": [
      "Metric Validation/Accuracy improved by 0.004 >= min_delta = 0.0. New best score: 0.966\n"
     ]
    },
    {
     "name": "stdout",
     "output_type": "stream",
     "text": [
      "TrainEpoch/CM\n",
      " tensor([[67879,     1,   502,  6597,  1042,     0,  1936,     0,     0],\n",
      "        [  124, 82075,     0,     0,    14,     0,     0,    21,     0],\n",
      "        [ 1282,    43, 82779,   643,   618,   289, 11679,     3,     0],\n",
      "        [ 6897,     2,  1260, 68447,   784,     1,  3696,    26,     0],\n",
      "        [  538,     5,   384,   498, 79340,   118,   448,     1,     0],\n",
      "        [  163,   116,   106,     0,     1, 80272,     0,     3,     0],\n",
      "        [ 3249,    13, 15745,  6087,  1110,   149, 54977,     0,     0],\n",
      "        [  161,     0,     0,     0,     0,     0,     0, 80940,     0],\n",
      "        [    3,     2,    49,    17,     0,     0,     0,   201, 80839]])\n"
     ]
    },
    {
     "data": {
      "application/vnd.jupyter.widget-view+json": {
       "model_id": "c1621eaceeb1490ba03952b9d42d461b",
       "version_major": 2,
       "version_minor": 0
      },
      "text/plain": [
       "Validation: |          | 0/? [00:00<?, ?it/s]"
      ]
     },
     "metadata": {},
     "output_type": "display_data"
    },
    {
     "name": "stdout",
     "output_type": "stream",
     "text": [
      "Epoch end: Validation, epoch number: 46\n",
      "ValidationEpoch/CM\n",
      " tensor([[69586,     1,   502,  6602,  1042,     0,  1954,     0,     0],\n",
      "        [  124, 83900,     0,     0,    14,     0,     0,    21,     0],\n",
      "        [ 1282,    43, 84744,   643,   618,   289, 11874,     3,     0],\n",
      "        [ 6954,     2,  1260, 70146,   784,     1,  3740,    26,     0],\n",
      "        [  538,     5,   384,   498, 81145,   118,   448,     1,     0],\n",
      "        [  163,   116,   106,     0,     1, 82062,     0,     3,     0],\n",
      "        [ 3283,    13, 15898,  6197,  1110,   149, 56485,     0,     0],\n",
      "        [  161,     0,     0,     0,     0,     0,     0, 82740,     0],\n",
      "        [    3,     2,    49,    17,     0,     0,     0,   201, 82639]])\n",
      "Epoch end: Train, epoch number: 45\n",
      "TrainEpoch/CM\n",
      " tensor([[69586,     1,   502,  6602,  1042,     0,  1954,     0,     0],\n",
      "        [  124, 83900,     0,     0,    14,     0,     0,    21,     0],\n",
      "        [ 1282,    43, 84744,   643,   618,   289, 11874,     3,     0],\n",
      "        [ 6954,     2,  1260, 70146,   784,     1,  3740,    26,     0],\n",
      "        [  538,     5,   384,   498, 81145,   118,   448,     1,     0],\n",
      "        [  163,   116,   106,     0,     1, 82062,     0,     3,     0],\n",
      "        [ 3283,    13, 15898,  6197,  1110,   149, 56485,     0,     0],\n",
      "        [  161,     0,     0,     0,     0,     0,     0, 82740,     0],\n",
      "        [    3,     2,    49,    17,     0,     0,     0,   201, 82639]])\n"
     ]
    },
    {
     "data": {
      "application/vnd.jupyter.widget-view+json": {
       "model_id": "b0c430e560904cc997a796d7f887604c",
       "version_major": 2,
       "version_minor": 0
      },
      "text/plain": [
       "Validation: |          | 0/? [00:00<?, ?it/s]"
      ]
     },
     "metadata": {},
     "output_type": "display_data"
    },
    {
     "name": "stdout",
     "output_type": "stream",
     "text": [
      "Epoch end: Validation, epoch number: 47\n",
      "ValidationEpoch/CM\n",
      " tensor([[71295,     1,   502,  6610,  1042,     0,  1967,     0,     0],\n",
      "        [  124, 85725,     0,     0,    14,     0,     0,    21,     0],\n",
      "        [ 1282,    43, 86744,   643,   618,   289, 12034,     3,     0],\n",
      "        [ 7000,     2,  1261, 71854,   784,     1,  3785,    26,     0],\n",
      "        [  538,     5,   384,   498, 82950,   118,   448,     1,     0],\n",
      "        [  163,   116,   106,     0,     1, 83852,     0,     3,     0],\n",
      "        [ 3310,    13, 16068,  6313,  1110,   149, 57977,     0,     0],\n",
      "        [  161,     0,     0,     0,     0,     0,     0, 84540,     0],\n",
      "        [    3,     2,    49,    17,     0,     0,     0,   201, 84439]])\n",
      "Epoch end: Train, epoch number: 46\n",
      "TrainEpoch/CM\n",
      " tensor([[71295,     1,   502,  6610,  1042,     0,  1967,     0,     0],\n",
      "        [  124, 85725,     0,     0,    14,     0,     0,    21,     0],\n",
      "        [ 1282,    43, 86744,   643,   618,   289, 12034,     3,     0],\n",
      "        [ 7000,     2,  1261, 71854,   784,     1,  3785,    26,     0],\n",
      "        [  538,     5,   384,   498, 82950,   118,   448,     1,     0],\n",
      "        [  163,   116,   106,     0,     1, 83852,     0,     3,     0],\n",
      "        [ 3310,    13, 16068,  6313,  1110,   149, 57977,     0,     0],\n",
      "        [  161,     0,     0,     0,     0,     0,     0, 84540,     0],\n",
      "        [    3,     2,    49,    17,     0,     0,     0,   201, 84439]])\n"
     ]
    },
    {
     "data": {
      "application/vnd.jupyter.widget-view+json": {
       "model_id": "7f295f3748434ce1bc0c1635143cec64",
       "version_major": 2,
       "version_minor": 0
      },
      "text/plain": [
       "Validation: |          | 0/? [00:00<?, ?it/s]"
      ]
     },
     "metadata": {},
     "output_type": "display_data"
    },
    {
     "name": "stdout",
     "output_type": "stream",
     "text": [
      "Epoch end: Validation, epoch number: 48\n",
      "ValidationEpoch/CM\n",
      " tensor([[73003,     1,   502,  6619,  1042,     0,  1980,     0,     0],\n",
      "        [  124, 87550,     0,     0,    14,     0,     0,    21,     0],\n",
      "        [ 1282,    43, 88756,   643,   618,   289, 12182,     3,     0],\n",
      "        [ 7031,     2,  1261, 73588,   784,     1,  3820,    26,     0],\n",
      "        [  538,     5,   384,   498, 84755,   118,   448,     1,     0],\n",
      "        [  163,   116,   106,     0,     1, 85642,     0,     3,     0],\n",
      "        [ 3341,    13, 16227,  6427,  1110,   149, 59478,     0,     0],\n",
      "        [  161,     0,     0,     0,     0,     0,     0, 86340,     0],\n",
      "        [    3,     2,    49,    17,     0,     0,     0,   201, 86239]])\n",
      "Epoch end: Train, epoch number: 47\n",
      "TrainEpoch/CM\n",
      " tensor([[73003,     1,   502,  6619,  1042,     0,  1980,     0,     0],\n",
      "        [  124, 87550,     0,     0,    14,     0,     0,    21,     0],\n",
      "        [ 1282,    43, 88756,   643,   618,   289, 12182,     3,     0],\n",
      "        [ 7031,     2,  1261, 73588,   784,     1,  3820,    26,     0],\n",
      "        [  538,     5,   384,   498, 84755,   118,   448,     1,     0],\n",
      "        [  163,   116,   106,     0,     1, 85642,     0,     3,     0],\n",
      "        [ 3341,    13, 16227,  6427,  1110,   149, 59478,     0,     0],\n",
      "        [  161,     0,     0,     0,     0,     0,     0, 86340,     0],\n",
      "        [    3,     2,    49,    17,     0,     0,     0,   201, 86239]])\n"
     ]
    },
    {
     "name": "stderr",
     "output_type": "stream",
     "text": [
      "Metric Validation/Accuracy improved by 0.002 >= min_delta = 0.0. New best score: 0.968\n"
     ]
    },
    {
     "data": {
      "application/vnd.jupyter.widget-view+json": {
       "model_id": "47ca5ceb80a74497a4a25310edce3f20",
       "version_major": 2,
       "version_minor": 0
      },
      "text/plain": [
       "Validation: |          | 0/? [00:00<?, ?it/s]"
      ]
     },
     "metadata": {},
     "output_type": "display_data"
    },
    {
     "name": "stdout",
     "output_type": "stream",
     "text": [
      "Epoch end: Validation, epoch number: 49\n",
      "ValidationEpoch/CM\n",
      " tensor([[74723,     1,   502,  6622,  1042,     0,  1987,     0,     0],\n",
      "        [  124, 89375,     0,     0,    14,     0,     0,    21,     0],\n",
      "        [ 1282,    43, 90786,   643,   618,   289, 12312,     3,     0],\n",
      "        [ 7062,     2,  1261, 75322,   784,     1,  3855,    26,     0],\n",
      "        [  538,     5,   384,   498, 86560,   118,   448,     1,     0],\n",
      "        [  163,   116,   106,     0,     1, 87432,     0,     3,     0],\n",
      "        [ 3371,    13, 16407,  6545,  1110,   149, 60955,     0,     0],\n",
      "        [  161,     0,     0,     0,     0,     0,     0, 88140,     0],\n",
      "        [    3,     2,    49,    17,     0,     0,     0,   201, 88039]])\n",
      "Epoch end: Train, epoch number: 48\n",
      "TrainEpoch/CM\n",
      " tensor([[74723,     1,   502,  6622,  1042,     0,  1987,     0,     0],\n",
      "        [  124, 89375,     0,     0,    14,     0,     0,    21,     0],\n",
      "        [ 1282,    43, 90786,   643,   618,   289, 12312,     3,     0],\n",
      "        [ 7062,     2,  1261, 75322,   784,     1,  3855,    26,     0],\n",
      "        [  538,     5,   384,   498, 86560,   118,   448,     1,     0],\n",
      "        [  163,   116,   106,     0,     1, 87432,     0,     3,     0],\n",
      "        [ 3371,    13, 16407,  6545,  1110,   149, 60955,     0,     0],\n",
      "        [  161,     0,     0,     0,     0,     0,     0, 88140,     0],\n",
      "        [    3,     2,    49,    17,     0,     0,     0,   201, 88039]])\n"
     ]
    },
    {
     "data": {
      "application/vnd.jupyter.widget-view+json": {
       "model_id": "52d8b2260ac846678d6c330c27f78986",
       "version_major": 2,
       "version_minor": 0
      },
      "text/plain": [
       "Validation: |          | 0/? [00:00<?, ?it/s]"
      ]
     },
     "metadata": {},
     "output_type": "display_data"
    },
    {
     "name": "stdout",
     "output_type": "stream",
     "text": [
      "Epoch end: Validation, epoch number: 50\n",
      "ValidationEpoch/CM\n",
      " tensor([[76440,     1,   502,  6623,  1042,     0,  1999,     0,     0],\n",
      "        [  124, 91200,     0,     0,    14,     0,     0,    21,     0],\n",
      "        [ 1282,    43, 92795,   643,   618,   289, 12463,     3,     0],\n",
      "        [ 7093,     2,  1261, 77048,   784,     1,  3898,    26,     0],\n",
      "        [  538,     5,   384,   498, 88365,   118,   448,     1,     0],\n",
      "        [  163,   116,   106,     0,     1, 89222,     0,     3,     0],\n",
      "        [ 3401,    13, 16559,  6655,  1110,   149, 62468,     0,     0],\n",
      "        [  161,     0,     0,     0,     0,     0,     0, 89940,     0],\n",
      "        [    3,     2,    49,    17,     0,     0,     0,   201, 89839]])\n",
      "Epoch end: Train, epoch number: 49\n",
      "TrainEpoch/CM\n",
      " tensor([[76440,     1,   502,  6623,  1042,     0,  1999,     0,     0],\n",
      "        [  124, 91200,     0,     0,    14,     0,     0,    21,     0],\n",
      "        [ 1282,    43, 92795,   643,   618,   289, 12463,     3,     0],\n",
      "        [ 7093,     2,  1261, 77048,   784,     1,  3898,    26,     0],\n",
      "        [  538,     5,   384,   498, 88365,   118,   448,     1,     0],\n",
      "        [  163,   116,   106,     0,     1, 89222,     0,     3,     0],\n",
      "        [ 3401,    13, 16559,  6655,  1110,   149, 62468,     0,     0],\n",
      "        [  161,     0,     0,     0,     0,     0,     0, 89940,     0],\n",
      "        [    3,     2,    49,    17,     0,     0,     0,   201, 89839]])\n"
     ]
    },
    {
     "data": {
      "application/vnd.jupyter.widget-view+json": {
       "model_id": "a65ad62a34524a75894547ae0799f51a",
       "version_major": 2,
       "version_minor": 0
      },
      "text/plain": [
       "Validation: |          | 0/? [00:00<?, ?it/s]"
      ]
     },
     "metadata": {},
     "output_type": "display_data"
    },
    {
     "name": "stdout",
     "output_type": "stream",
     "text": [
      "Epoch end: Validation, epoch number: 51\n",
      "ValidationEpoch/CM\n",
      " tensor([[78155,     1,   502,  6628,  1042,     0,  2009,     0,     0],\n",
      "        [  124, 93025,     0,     0,    14,     0,     0,    21,     0],\n",
      "        [ 1282,    43, 94803,   643,   618,   289, 12615,     3,     0],\n",
      "        [ 7124,     2,  1261, 78776,   784,     1,  3939,    26,     0],\n",
      "        [  538,     5,   384,   498, 90170,   118,   448,     1,     0],\n",
      "        [  163,   116,   106,     0,     1, 91012,     0,     3,     0],\n",
      "        [ 3428,    13, 16704,  6762,  1110,   149, 63994,     0,     0],\n",
      "        [  161,     0,     0,     0,     0,     0,     0, 91740,     0],\n",
      "        [    3,     2,    49,    17,     0,     0,     0,   201, 91639]])\n",
      "Epoch end: Train, epoch number: 50\n",
      "TrainEpoch/CM\n",
      " tensor([[78155,     1,   502,  6628,  1042,     0,  2009,     0,     0],\n",
      "        [  124, 93025,     0,     0,    14,     0,     0,    21,     0],\n",
      "        [ 1282,    43, 94803,   643,   618,   289, 12615,     3,     0],\n",
      "        [ 7124,     2,  1261, 78776,   784,     1,  3939,    26,     0],\n",
      "        [  538,     5,   384,   498, 90170,   118,   448,     1,     0],\n",
      "        [  163,   116,   106,     0,     1, 91012,     0,     3,     0],\n",
      "        [ 3428,    13, 16704,  6762,  1110,   149, 63994,     0,     0],\n",
      "        [  161,     0,     0,     0,     0,     0,     0, 91740,     0],\n",
      "        [    3,     2,    49,    17,     0,     0,     0,   201, 91639]])\n"
     ]
    },
    {
     "name": "stderr",
     "output_type": "stream",
     "text": [
      "Metric Validation/Accuracy improved by 0.001 >= min_delta = 0.0. New best score: 0.969\n"
     ]
    },
    {
     "data": {
      "application/vnd.jupyter.widget-view+json": {
       "model_id": "316e72d678a441b8ba545d2c9f065442",
       "version_major": 2,
       "version_minor": 0
      },
      "text/plain": [
       "Validation: |          | 0/? [00:00<?, ?it/s]"
      ]
     },
     "metadata": {},
     "output_type": "display_data"
    },
    {
     "name": "stdout",
     "output_type": "stream",
     "text": [
      "Epoch end: Validation, epoch number: 52\n",
      "ValidationEpoch/CM\n",
      " tensor([[79864,     1,   502,  6633,  1042,     0,  2025,     0,     0],\n",
      "        [  124, 94850,     0,     0,    14,     0,     0,    21,     0],\n",
      "        [ 1282,    43, 96804,   643,   618,   289, 12774,     3,     0],\n",
      "        [ 7152,     2,  1261, 80514,   784,     1,  3973,    26,     0],\n",
      "        [  538,     5,   384,   498, 91975,   118,   448,     1,     0],\n",
      "        [  163,   116,   106,     0,     1, 92802,     0,     3,     0],\n",
      "        [ 3453,    13, 16841,  6882,  1110,   149, 65517,     0,     0],\n",
      "        [  161,     0,     0,     0,     0,     0,     0, 93540,     0],\n",
      "        [    3,     2,    49,    17,     0,     0,     0,   201, 93439]])\n",
      "Epoch end: Train, epoch number: 51\n",
      "TrainEpoch/CM\n",
      " tensor([[79864,     1,   502,  6633,  1042,     0,  2025,     0,     0],\n",
      "        [  124, 94850,     0,     0,    14,     0,     0,    21,     0],\n",
      "        [ 1282,    43, 96804,   643,   618,   289, 12774,     3,     0],\n",
      "        [ 7152,     2,  1261, 80514,   784,     1,  3973,    26,     0],\n",
      "        [  538,     5,   384,   498, 91975,   118,   448,     1,     0],\n",
      "        [  163,   116,   106,     0,     1, 92802,     0,     3,     0],\n",
      "        [ 3453,    13, 16841,  6882,  1110,   149, 65517,     0,     0],\n",
      "        [  161,     0,     0,     0,     0,     0,     0, 93540,     0],\n",
      "        [    3,     2,    49,    17,     0,     0,     0,   201, 93439]])\n"
     ]
    },
    {
     "data": {
      "application/vnd.jupyter.widget-view+json": {
       "model_id": "cd2b31093e9c42f08d83f10c90b6bd53",
       "version_major": 2,
       "version_minor": 0
      },
      "text/plain": [
       "Validation: |          | 0/? [00:00<?, ?it/s]"
      ]
     },
     "metadata": {},
     "output_type": "display_data"
    },
    {
     "name": "stdout",
     "output_type": "stream",
     "text": [
      "Epoch end: Validation, epoch number: 53\n",
      "ValidationEpoch/CM\n",
      " tensor([[81580,     1,   502,  6638,  1042,     0,  2034,     0,     0],\n",
      "        [  124, 96675,     0,     0,    14,     0,     0,    21,     0],\n",
      "        [ 1282,    43, 98815,   643,   618,   289, 12923,     3,     0],\n",
      "        [ 7173,     2,  1261, 82256,   784,     1,  4010,    26,     0],\n",
      "        [  538,     5,   384,   498, 93780,   118,   448,     1,     0],\n",
      "        [  163,   116,   106,     0,     1, 94592,     0,     3,     0],\n",
      "        [ 3473,    13, 16998,  7006,  1110,   149, 67021,     0,     0],\n",
      "        [  161,     0,     0,     0,     0,     0,     0, 95340,     0],\n",
      "        [    3,     2,    49,    17,     0,     0,     0,   201, 95239]])\n",
      "Epoch end: Train, epoch number: 52\n",
      "TrainEpoch/CM\n",
      " tensor([[81580,     1,   502,  6638,  1042,     0,  2034,     0,     0],\n",
      "        [  124, 96675,     0,     0,    14,     0,     0,    21,     0],\n",
      "        [ 1282,    43, 98815,   643,   618,   289, 12923,     3,     0],\n",
      "        [ 7173,     2,  1261, 82256,   784,     1,  4010,    26,     0],\n",
      "        [  538,     5,   384,   498, 93780,   118,   448,     1,     0],\n",
      "        [  163,   116,   106,     0,     1, 94592,     0,     3,     0],\n",
      "        [ 3473,    13, 16998,  7006,  1110,   149, 67021,     0,     0],\n",
      "        [  161,     0,     0,     0,     0,     0,     0, 95340,     0],\n",
      "        [    3,     2,    49,    17,     0,     0,     0,   201, 95239]])\n"
     ]
    },
    {
     "data": {
      "application/vnd.jupyter.widget-view+json": {
       "model_id": "6c4b0e89a72d4406b276ffa18bbc6b99",
       "version_major": 2,
       "version_minor": 0
      },
      "text/plain": [
       "Validation: |          | 0/? [00:00<?, ?it/s]"
      ]
     },
     "metadata": {},
     "output_type": "display_data"
    },
    {
     "name": "stdout",
     "output_type": "stream",
     "text": [
      "Epoch end: Validation, epoch number: 54\n",
      "ValidationEpoch/CM\n",
      " tensor([[ 83295,      1,    502,   6642,   1042,      0,   2045,      0,      0],\n",
      "        [   124,  98500,      0,      0,     14,      0,      0,     21,      0],\n",
      "        [  1282,     43, 100853,    643,    618,    289,  13045,      3,      0],\n",
      "        [  7197,      2,   1261,  84000,    784,      1,   4042,     26,      0],\n",
      "        [   538,      5,    384,    498,  95585,    118,    448,      1,      0],\n",
      "        [   163,    116,    106,      0,      1,  96382,      0,      3,      0],\n",
      "        [  3497,     13,  17154,   7135,   1110,    149,  68517,      0,      0],\n",
      "        [   161,      0,      0,      0,      0,      0,      0,  97140,      0],\n",
      "        [     3,      2,     49,     17,      0,      0,      0,    201,  97039]])\n",
      "Epoch end: Train, epoch number: 53\n",
      "TrainEpoch/CM\n",
      " tensor([[ 83295,      1,    502,   6642,   1042,      0,   2045,      0,      0],\n",
      "        [   124,  98500,      0,      0,     14,      0,      0,     21,      0],\n",
      "        [  1282,     43, 100853,    643,    618,    289,  13045,      3,      0],\n",
      "        [  7197,      2,   1261,  84000,    784,      1,   4042,     26,      0],\n",
      "        [   538,      5,    384,    498,  95585,    118,    448,      1,      0],\n",
      "        [   163,    116,    106,      0,      1,  96382,      0,      3,      0],\n",
      "        [  3497,     13,  17154,   7135,   1110,    149,  68517,      0,      0],\n",
      "        [   161,      0,      0,      0,      0,      0,      0,  97140,      0],\n",
      "        [     3,      2,     49,     17,      0,      0,      0,    201,  97039]])\n"
     ]
    },
    {
     "data": {
      "application/vnd.jupyter.widget-view+json": {
       "model_id": "2354981feca44aef863ea1f8ac49d345",
       "version_major": 2,
       "version_minor": 0
      },
      "text/plain": [
       "Validation: |          | 0/? [00:00<?, ?it/s]"
      ]
     },
     "metadata": {},
     "output_type": "display_data"
    },
    {
     "name": "stdout",
     "output_type": "stream",
     "text": [
      "Epoch end: Validation, epoch number: 55\n",
      "ValidationEpoch/CM\n",
      " tensor([[ 85011,      1,    502,   6647,   1042,      0,   2054,      0,      0],\n",
      "        [   124, 100325,      0,      0,     14,      0,      0,     21,      0],\n",
      "        [  1282,     43, 102867,    643,    618,    289,  13191,      3,      0],\n",
      "        [  7220,      2,   1261,  85747,    784,      1,   4072,     26,      0],\n",
      "        [   538,      5,    384,    498,  97390,    118,    448,      1,      0],\n",
      "        [   163,    116,    106,      0,      1,  98172,      0,      3,      0],\n",
      "        [  3520,     13,  17290,   7245,   1110,    149,  70053,      0,      0],\n",
      "        [   161,      0,      0,      0,      0,      0,      0,  98940,      0],\n",
      "        [     3,      2,     49,     17,      0,      0,      0,    201,  98839]])\n"
     ]
    },
    {
     "name": "stderr",
     "output_type": "stream",
     "text": [
      "Metric Validation/Accuracy improved by 0.001 >= min_delta = 0.0. New best score: 0.970\n"
     ]
    },
    {
     "name": "stdout",
     "output_type": "stream",
     "text": [
      "Epoch end: Train, epoch number: 54\n",
      "TrainEpoch/CM\n",
      " tensor([[ 85011,      1,    502,   6647,   1042,      0,   2054,      0,      0],\n",
      "        [   124, 100325,      0,      0,     14,      0,      0,     21,      0],\n",
      "        [  1282,     43, 102867,    643,    618,    289,  13191,      3,      0],\n",
      "        [  7220,      2,   1261,  85747,    784,      1,   4072,     26,      0],\n",
      "        [   538,      5,    384,    498,  97390,    118,    448,      1,      0],\n",
      "        [   163,    116,    106,      0,      1,  98172,      0,      3,      0],\n",
      "        [  3520,     13,  17290,   7245,   1110,    149,  70053,      0,      0],\n",
      "        [   161,      0,      0,      0,      0,      0,      0,  98940,      0],\n",
      "        [     3,      2,     49,     17,      0,      0,      0,    201,  98839]])\n"
     ]
    },
    {
     "data": {
      "application/vnd.jupyter.widget-view+json": {
       "model_id": "9afeb29fc19c464da96eb1e5d27e7f3e",
       "version_major": 2,
       "version_minor": 0
      },
      "text/plain": [
       "Validation: |          | 0/? [00:00<?, ?it/s]"
      ]
     },
     "metadata": {},
     "output_type": "display_data"
    },
    {
     "name": "stdout",
     "output_type": "stream",
     "text": [
      "Epoch end: Validation, epoch number: 56\n",
      "ValidationEpoch/CM\n",
      " tensor([[ 86728,      1,    502,   6656,   1042,      0,   2058,      0,      0],\n",
      "        [   124, 102150,      0,      0,     14,      0,      0,     21,      0],\n",
      "        [  1282,     43, 104905,    643,    618,    289,  13313,      3,      0],\n",
      "        [  7270,      2,   1261,  87463,    784,      1,   4106,     26,      0],\n",
      "        [   538,      5,    384,    498,  99195,    118,    448,      1,      0],\n",
      "        [   163,    116,    106,      0,      1,  99962,      0,      3,      0],\n",
      "        [  3548,     13,  17432,   7344,   1110,    149,  71589,      0,      0],\n",
      "        [   161,      0,      0,      0,      0,      0,      0, 100740,      0],\n",
      "        [     3,      2,     49,     17,      0,      0,      0,    201, 100639]])\n",
      "Epoch end: Train, epoch number: 55\n",
      "TrainEpoch/CM\n",
      " tensor([[ 86728,      1,    502,   6656,   1042,      0,   2058,      0,      0],\n",
      "        [   124, 102150,      0,      0,     14,      0,      0,     21,      0],\n",
      "        [  1282,     43, 104905,    643,    618,    289,  13313,      3,      0],\n",
      "        [  7270,      2,   1261,  87463,    784,      1,   4106,     26,      0],\n",
      "        [   538,      5,    384,    498,  99195,    118,    448,      1,      0],\n",
      "        [   163,    116,    106,      0,      1,  99962,      0,      3,      0],\n",
      "        [  3548,     13,  17432,   7344,   1110,    149,  71589,      0,      0],\n",
      "        [   161,      0,      0,      0,      0,      0,      0, 100740,      0],\n",
      "        [     3,      2,     49,     17,      0,      0,      0,    201, 100639]])\n"
     ]
    },
    {
     "data": {
      "application/vnd.jupyter.widget-view+json": {
       "model_id": "b6b16f10d4074a858d589431a728fc2b",
       "version_major": 2,
       "version_minor": 0
      },
      "text/plain": [
       "Validation: |          | 0/? [00:00<?, ?it/s]"
      ]
     },
     "metadata": {},
     "output_type": "display_data"
    },
    {
     "name": "stdout",
     "output_type": "stream",
     "text": [
      "Epoch end: Validation, epoch number: 57\n",
      "ValidationEpoch/CM\n",
      " tensor([[ 88448,      1,    502,   6658,   1042,      0,   2066,      0,      0],\n",
      "        [   124, 103975,      0,      0,     14,      0,      0,     21,      0],\n",
      "        [  1282,     43, 106951,    643,    618,    289,  13427,      3,      0],\n",
      "        [  7295,      2,   1261,  89206,    784,      1,   4138,     26,      0],\n",
      "        [   538,      5,    384,    498, 101000,    118,    448,      1,      0],\n",
      "        [   163,    116,    106,      0,      1, 101752,      0,      3,      0],\n",
      "        [  3571,     13,  17581,   7453,   1110,    149,  73113,      0,      0],\n",
      "        [   161,      0,      0,      0,      0,      0,      0, 102540,      0],\n",
      "        [     3,      2,     49,     17,      0,      0,      0,    201, 102439]])\n",
      "Epoch end: Train, epoch number: 56\n",
      "TrainEpoch/CM\n",
      " tensor([[ 88448,      1,    502,   6658,   1042,      0,   2066,      0,      0],\n",
      "        [   124, 103975,      0,      0,     14,      0,      0,     21,      0],\n",
      "        [  1282,     43, 106951,    643,    618,    289,  13427,      3,      0],\n",
      "        [  7295,      2,   1261,  89206,    784,      1,   4138,     26,      0],\n",
      "        [   538,      5,    384,    498, 101000,    118,    448,      1,      0],\n",
      "        [   163,    116,    106,      0,      1, 101752,      0,      3,      0],\n",
      "        [  3571,     13,  17581,   7453,   1110,    149,  73113,      0,      0],\n",
      "        [   161,      0,      0,      0,      0,      0,      0, 102540,      0],\n",
      "        [     3,      2,     49,     17,      0,      0,      0,    201, 102439]])\n"
     ]
    },
    {
     "name": "stderr",
     "output_type": "stream",
     "text": [
      "Metric Validation/Accuracy improved by 0.002 >= min_delta = 0.0. New best score: 0.972\n"
     ]
    },
    {
     "data": {
      "application/vnd.jupyter.widget-view+json": {
       "model_id": "f7ab3d488e2e45c0bc39c5fa4f32c52b",
       "version_major": 2,
       "version_minor": 0
      },
      "text/plain": [
       "Validation: |          | 0/? [00:00<?, ?it/s]"
      ]
     },
     "metadata": {},
     "output_type": "display_data"
    },
    {
     "name": "stdout",
     "output_type": "stream",
     "text": [
      "Epoch end: Validation, epoch number: 58\n",
      "ValidationEpoch/CM\n",
      " tensor([[ 90164,      1,    502,   6659,   1042,      0,   2079,      0,      0],\n",
      "        [   124, 105800,      0,      0,     14,      0,      0,     21,      0],\n",
      "        [  1283,     43, 108977,    643,    618,    289,  13560,      3,      0],\n",
      "        [  7316,      2,   1261,  90950,    784,      1,   4173,     26,      0],\n",
      "        [   538,      5,    384,    498, 102805,    118,    448,      1,      0],\n",
      "        [   163,    116,    106,      0,      1, 103542,      0,      3,      0],\n",
      "        [  3590,     13,  17708,   7555,   1110,    149,  74670,      0,      0],\n",
      "        [   161,      0,      0,      0,      0,      0,      0, 104340,      0],\n",
      "        [     3,      2,     49,     17,      0,      0,      0,    201, 104239]])\n",
      "Epoch end: Train, epoch number: 57\n",
      "TrainEpoch/CM\n",
      " tensor([[ 90164,      1,    502,   6659,   1042,      0,   2079,      0,      0],\n",
      "        [   124, 105800,      0,      0,     14,      0,      0,     21,      0],\n",
      "        [  1283,     43, 108977,    643,    618,    289,  13560,      3,      0],\n",
      "        [  7316,      2,   1261,  90950,    784,      1,   4173,     26,      0],\n",
      "        [   538,      5,    384,    498, 102805,    118,    448,      1,      0],\n",
      "        [   163,    116,    106,      0,      1, 103542,      0,      3,      0],\n",
      "        [  3590,     13,  17708,   7555,   1110,    149,  74670,      0,      0],\n",
      "        [   161,      0,      0,      0,      0,      0,      0, 104340,      0],\n",
      "        [     3,      2,     49,     17,      0,      0,      0,    201, 104239]])\n"
     ]
    },
    {
     "data": {
      "application/vnd.jupyter.widget-view+json": {
       "model_id": "6154792cceca4cfca2034837160bf104",
       "version_major": 2,
       "version_minor": 0
      },
      "text/plain": [
       "Validation: |          | 0/? [00:00<?, ?it/s]"
      ]
     },
     "metadata": {},
     "output_type": "display_data"
    },
    {
     "name": "stdout",
     "output_type": "stream",
     "text": [
      "Epoch end: Validation, epoch number: 59\n",
      "ValidationEpoch/CM\n",
      " tensor([[ 91885,      1,    502,   6661,   1042,      0,   2086,      0,      0],\n",
      "        [   124, 107625,      0,      0,     14,      0,      0,     21,      0],\n",
      "        [  1283,     43, 111012,    643,    618,    289,  13685,      3,      0],\n",
      "        [  7341,      2,   1261,  92685,    784,      1,   4213,     26,      0],\n",
      "        [   538,      5,    384,    498, 104610,    118,    448,      1,      0],\n",
      "        [   163,    116,    106,      0,      1, 105332,      0,      3,      0],\n",
      "        [  3613,     13,  17845,   7655,   1110,    149,  76215,      0,      0],\n",
      "        [   161,      0,      0,      0,      0,      0,      0, 106140,      0],\n",
      "        [     3,      2,     49,     17,      0,      0,      0,    201, 106039]])\n",
      "Epoch end: Train, epoch number: 58\n",
      "TrainEpoch/CM\n",
      " tensor([[ 91885,      1,    502,   6661,   1042,      0,   2086,      0,      0],\n",
      "        [   124, 107625,      0,      0,     14,      0,      0,     21,      0],\n",
      "        [  1283,     43, 111012,    643,    618,    289,  13685,      3,      0],\n",
      "        [  7341,      2,   1261,  92685,    784,      1,   4213,     26,      0],\n",
      "        [   538,      5,    384,    498, 104610,    118,    448,      1,      0],\n",
      "        [   163,    116,    106,      0,      1, 105332,      0,      3,      0],\n",
      "        [  3613,     13,  17845,   7655,   1110,    149,  76215,      0,      0],\n",
      "        [   161,      0,      0,      0,      0,      0,      0, 106140,      0],\n",
      "        [     3,      2,     49,     17,      0,      0,      0,    201, 106039]])\n"
     ]
    },
    {
     "data": {
      "application/vnd.jupyter.widget-view+json": {
       "model_id": "4b8099c9d9e944239cee3a10f0560da4",
       "version_major": 2,
       "version_minor": 0
      },
      "text/plain": [
       "Validation: |          | 0/? [00:00<?, ?it/s]"
      ]
     },
     "metadata": {},
     "output_type": "display_data"
    },
    {
     "name": "stdout",
     "output_type": "stream",
     "text": [
      "Epoch end: Validation, epoch number: 60\n",
      "ValidationEpoch/CM\n",
      " tensor([[ 93586,      1,    502,   6677,   1042,      0,   2099,      0,      0],\n",
      "        [   124, 109450,      0,      0,     14,      0,      0,     21,      0],\n",
      "        [  1283,     43, 113065,    643,    618,    289,  13792,      3,      0],\n",
      "        [  7374,      2,   1261,  94424,    784,      1,   4241,     26,      0],\n",
      "        [   538,      5,    384,    498, 106415,    118,    448,      1,      0],\n",
      "        [   163,    116,    106,      0,      1, 107122,      0,      3,      0],\n",
      "        [  3635,     13,  17985,   7767,   1110,    149,  77746,      0,      0],\n",
      "        [   161,      0,      0,      0,      0,      0,      0, 107940,      0],\n",
      "        [     3,      2,     49,     17,      0,      0,      0,    201, 107839]])\n",
      "Epoch end: Train, epoch number: 59\n",
      "TrainEpoch/CM\n",
      " tensor([[ 93586,      1,    502,   6677,   1042,      0,   2099,      0,      0],\n",
      "        [   124, 109450,      0,      0,     14,      0,      0,     21,      0],\n",
      "        [  1283,     43, 113065,    643,    618,    289,  13792,      3,      0],\n",
      "        [  7374,      2,   1261,  94424,    784,      1,   4241,     26,      0],\n",
      "        [   538,      5,    384,    498, 106415,    118,    448,      1,      0],\n",
      "        [   163,    116,    106,      0,      1, 107122,      0,      3,      0],\n",
      "        [  3635,     13,  17985,   7767,   1110,    149,  77746,      0,      0],\n",
      "        [   161,      0,      0,      0,      0,      0,      0, 107940,      0],\n",
      "        [     3,      2,     49,     17,      0,      0,      0,    201, 107839]])\n"
     ]
    },
    {
     "data": {
      "application/vnd.jupyter.widget-view+json": {
       "model_id": "9603b10808ff46cf864e9e7d5ed7c9d7",
       "version_major": 2,
       "version_minor": 0
      },
      "text/plain": [
       "Validation: |          | 0/? [00:00<?, ?it/s]"
      ]
     },
     "metadata": {},
     "output_type": "display_data"
    },
    {
     "name": "stdout",
     "output_type": "stream",
     "text": [
      "Epoch end: Validation, epoch number: 61\n",
      "ValidationEpoch/CM\n",
      " tensor([[ 95306,      1,    502,   6680,   1042,      0,   2106,      0,      0],\n",
      "        [   124, 111275,      0,      0,     14,      0,      0,     21,      0],\n",
      "        [  1283,     43, 115096,    643,    618,    289,  13921,      3,      0],\n",
      "        [  7395,      2,   1261,  96168,    784,      1,   4276,     26,      0],\n",
      "        [   538,      5,    384,    498, 108220,    118,    448,      1,      0],\n",
      "        [   163,    116,    106,      0,      1, 108912,      0,      3,      0],\n",
      "        [  3655,     13,  18111,   7870,   1110,    149,  79302,      0,      0],\n",
      "        [   161,      0,      0,      0,      0,      0,      0, 109740,      0],\n",
      "        [     3,      2,     49,     17,      0,      0,      0,    201, 109639]])\n",
      "Epoch end: Train, epoch number: 60\n",
      "TrainEpoch/CM\n",
      " tensor([[ 95306,      1,    502,   6680,   1042,      0,   2106,      0,      0],\n",
      "        [   124, 111275,      0,      0,     14,      0,      0,     21,      0],\n",
      "        [  1283,     43, 115096,    643,    618,    289,  13921,      3,      0],\n",
      "        [  7395,      2,   1261,  96168,    784,      1,   4276,     26,      0],\n",
      "        [   538,      5,    384,    498, 108220,    118,    448,      1,      0],\n",
      "        [   163,    116,    106,      0,      1, 108912,      0,      3,      0],\n",
      "        [  3655,     13,  18111,   7870,   1110,    149,  79302,      0,      0],\n",
      "        [   161,      0,      0,      0,      0,      0,      0, 109740,      0],\n",
      "        [     3,      2,     49,     17,      0,      0,      0,    201, 109639]])\n"
     ]
    },
    {
     "data": {
      "application/vnd.jupyter.widget-view+json": {
       "model_id": "a6a55f42ab6549db829e01aec264bd5d",
       "version_major": 2,
       "version_minor": 0
      },
      "text/plain": [
       "Validation: |          | 0/? [00:00<?, ?it/s]"
      ]
     },
     "metadata": {},
     "output_type": "display_data"
    },
    {
     "name": "stdout",
     "output_type": "stream",
     "text": [
      "Epoch end: Validation, epoch number: 62\n",
      "ValidationEpoch/CM\n",
      " tensor([[ 97028,      1,    502,   6683,   1042,      0,   2111,      0,      0],\n",
      "        [   124, 113100,      0,      0,     14,      0,      0,     21,      0],\n",
      "        [  1283,     43, 117129,    643,    618,    289,  14048,      3,      0],\n",
      "        [  7407,      2,   1261,  97927,    784,      1,   4305,     26,      0],\n",
      "        [   538,      5,    384,    498, 110025,    118,    448,      1,      0],\n",
      "        [   163,    116,    106,      0,      1, 110702,      0,      3,      0],\n",
      "        [  3673,     13,  18236,   7979,   1110,    149,  80855,      0,      0],\n",
      "        [   161,      0,      0,      0,      0,      0,      0, 111540,      0],\n",
      "        [     3,      2,     49,     17,      0,      0,      0,    201, 111439]])\n",
      "Epoch end: Train, epoch number: 61\n"
     ]
    },
    {
     "name": "stderr",
     "output_type": "stream",
     "text": [
      "Monitored metric Validation/Accuracy did not improve in the last 5 records. Best score: 0.972. Signaling Trainer to stop.\n"
     ]
    },
    {
     "name": "stdout",
     "output_type": "stream",
     "text": [
      "TrainEpoch/CM\n",
      " tensor([[ 97028,      1,    502,   6683,   1042,      0,   2111,      0,      0],\n",
      "        [   124, 113100,      0,      0,     14,      0,      0,     21,      0],\n",
      "        [  1283,     43, 117129,    643,    618,    289,  14048,      3,      0],\n",
      "        [  7407,      2,   1261,  97927,    784,      1,   4305,     26,      0],\n",
      "        [   538,      5,    384,    498, 110025,    118,    448,      1,      0],\n",
      "        [   163,    116,    106,      0,      1, 110702,      0,      3,      0],\n",
      "        [  3673,     13,  18236,   7979,   1110,    149,  80855,      0,      0],\n",
      "        [   161,      0,      0,      0,      0,      0,      0, 111540,      0],\n",
      "        [     3,      2,     49,     17,      0,      0,      0,    201, 111439]])\n"
     ]
    }
   ],
   "source": [
    "trainer.fit(model=model, train_dataloaders=train_dataloader, val_dataloaders=val_dataloader)"
   ]
  },
  {
   "cell_type": "code",
   "execution_count": 16,
   "metadata": {},
   "outputs": [
    {
     "data": {
      "text/plain": [
       "MalwaresModelLinearLayer(\n",
       "  (train_metrics): MetricCollection(\n",
       "    (MulticlassAccuracy): MulticlassAccuracy()\n",
       "    (MulticlassPrecision): MulticlassPrecision()\n",
       "    (MulticlassRecall): MulticlassRecall()\n",
       "    (MulticlassF1Score): MulticlassF1Score(),\n",
       "    prefix=Train/\n",
       "  )\n",
       "  (val_metrics): MetricCollection(\n",
       "    (MulticlassAccuracy): MulticlassAccuracy()\n",
       "    (MulticlassPrecision): MulticlassPrecision()\n",
       "    (MulticlassRecall): MulticlassRecall()\n",
       "    (MulticlassF1Score): MulticlassF1Score(),\n",
       "    prefix=Validation/\n",
       "  )\n",
       "  (test_metrics): MetricCollection(\n",
       "    (MulticlassAccuracy): MulticlassAccuracy()\n",
       "    (MulticlassPrecision): MulticlassPrecision()\n",
       "    (MulticlassRecall): MulticlassRecall()\n",
       "    (MulticlassF1Score): MulticlassF1Score(),\n",
       "    prefix=Test/\n",
       "  )\n",
       "  (cm): MulticlassConfusionMatrix()\n",
       "  (criterion): CrossEntropyLoss()\n",
       "  (l1): Linear(in_features=305, out_features=9, bias=True)\n",
       ")"
      ]
     },
     "execution_count": 16,
     "metadata": {},
     "output_type": "execute_result"
    }
   ],
   "source": [
    "model.eval()"
   ]
  },
  {
   "cell_type": "code",
   "execution_count": 17,
   "metadata": {},
   "outputs": [
    {
     "name": "stderr",
     "output_type": "stream",
     "text": [
      "LOCAL_RANK: 0 - CUDA_VISIBLE_DEVICES: [0]\n"
     ]
    },
    {
     "name": "stdout",
     "output_type": "stream",
     "text": [
      "/home/<User>/repos/csg_is/training/official_logs/single-layer_300_40s/version_0/checkpoints/epoch=56-step=1539.ckpt\n",
      "tensor(0.9722, device='cuda:0')\n"
     ]
    },
    {
     "data": {
      "application/vnd.jupyter.widget-view+json": {
       "model_id": "60bcbe6733c94d239528df425d31803a",
       "version_major": 2,
       "version_minor": 0
      },
      "text/plain": [
       "Testing: |          | 0/? [00:00<?, ?it/s]"
      ]
     },
     "metadata": {},
     "output_type": "display_data"
    },
    {
     "name": "stdout",
     "output_type": "stream",
     "text": [
      "Epoch end: Test, epoch number: 0\n",
      "TestEpoch/CM\n",
      " tensor([[373,   0,   0,   0,   0,   0,   3,   0,   0],\n",
      "        [  0, 317,   0,   0,   0,   0,   0,   0,   0],\n",
      "        [  0,   0, 424,   0,   0,   0,  19,   0,   0],\n",
      "        [  1,   0,   0, 365,   0,   0,   6,   0,   0],\n",
      "        [  0,   0,   0,   0, 340,   0,   0,   0,   0],\n",
      "        [  0,   0,   0,   0,   0, 367,   0,   0,   0],\n",
      "        [  5,   0,  32,  29,   0,   0, 300,   0,   0],\n",
      "        [  0,   0,   0,   0,   0,   0,   0, 342,   0],\n",
      "        [  0,   0,   0,   0,   0,   0,   0,   0, 380]])\n",
      "────────────────────────────────────────────────────────────────────────────────────────────────────────────────────────\n",
      "       Test metric             DataLoader 0\n",
      "────────────────────────────────────────────────────────────────────────────────────────────────────────────────────────\n",
      "      Test/Accuracy         0.9722215533256531\n",
      "      Test/F1Score          0.9716337323188782\n",
      "        Test/Loss           0.16170167922973633\n",
      "     Test/Precision         0.9723992943763733\n",
      "       Test/Recall          0.9722215533256531\n",
      "   TestEpoch/Accuracy        0.972220778465271\n",
      "    TestEpoch/F1Score       0.9721006751060486\n",
      "   TestEpoch/Precision      0.9727804064750671\n",
      "    TestEpoch/Recall         0.972220778465271\n",
      "────────────────────────────────────────────────────────────────────────────────────────────────────────────────────────\n"
     ]
    },
    {
     "data": {
      "text/plain": [
       "[{'Test/Loss': 0.16170167922973633,\n",
       "  'Test/Accuracy': 0.9722215533256531,\n",
       "  'Test/Precision': 0.9723992943763733,\n",
       "  'Test/Recall': 0.9722215533256531,\n",
       "  'Test/F1Score': 0.9716337323188782,\n",
       "  'TestEpoch/Accuracy': 0.972220778465271,\n",
       "  'TestEpoch/Precision': 0.9727804064750671,\n",
       "  'TestEpoch/Recall': 0.972220778465271,\n",
       "  'TestEpoch/F1Score': 0.9721006751060486}]"
      ]
     },
     "execution_count": 17,
     "metadata": {},
     "output_type": "execute_result"
    }
   ],
   "source": [
    "print(checkpoint_callback.best_model_path)   # prints path to the best model's checkpoint\n",
    "print(checkpoint_callback.best_model_score) # and prints it score\n",
    "best_model = MalwaresModelLinearLayer.load_from_checkpoint(checkpoint_callback.best_model_path, input_size = vectors.shape[1]-1, output_size = len(label_encoder.classes_))\n",
    "\n",
    "trainer.test(best_model, dataloaders=val_dataloader)"
   ]
  },
  {
   "cell_type": "code",
   "execution_count": 18,
   "metadata": {},
   "outputs": [
    {
     "name": "stdout",
     "output_type": "stream",
     "text": [
      "Feature importance based on weights:\n",
      "Rank 1: Feature 213recv with weight 0.4343167543411255\n",
      "Rank 2: Feature 129armv7_cortex_a15/bus_cycles/.1 with weight 0.36796993017196655\n",
      "Rank 3: Feature 304ftruncate64 with weight 0.1933601200580597\n",
      "Rank 4: Feature 152cache-misses with weight -1.6966577768325806\n",
      "Rank 5: Feature 194armv7_cortex_a15/bus_cycles/ with weight 0.26859334111213684\n",
      "Rank 6: Feature 180armv7_cortex_a15/l1d_cache_refill/ with weight -1.68044912815094\n",
      "Rank 7: Feature 170branch-instructions with weight 0.8481209874153137\n",
      "Rank 8: Feature 139bus-cycles with weight 0.3224261999130249\n",
      "Rank 9: Feature 101sched:sched_process_free with weight -0.7980035543441772\n",
      "Rank 10: Feature 117writeback:global_dirty_state_RES_data with weight 0.33235397934913635\n",
      "Rank 11: Feature 162napi:napi_poll with weight 0.41353321075439453\n",
      "Rank 12: Feature 85tcp:tcp_probe_KERN_data with weight 0.626781165599823\n",
      "Rank 13: Feature 57skb:skb_copy_datagram_iovec with weight 0.25802621245384216\n",
      "Rank 14: Feature 187tcp:tcp_probe_RES_data with weight 0.7500156164169312\n",
      "Rank 15: Feature 155armv7_cortex_a15/cpu_cycles/ with weight 0.575995683670044\n",
      "Rank 16: Feature 277uname with weight -0.41220852732658386\n",
      "Rank 17: Feature 106timer:timer_start_KERN_data with weight -0.21770815551280975\n",
      "Rank 18: Feature 39writeback:writeback_dirty_inode_FLS_data with weight -0.05772025138139725\n",
      "Rank 19: Feature 302send with weight -0.8954868316650391\n",
      "Rank 20: Feature 159armv7_cortex_a15/br_pred/ with weight 1.0727288722991943\n",
      "Rank 21: Feature 255timerfd_settime with weight -0.5457072854042053\n",
      "Rank 22: Feature 11ext4:ext4_da_reserve_space with weight -0.054689668118953705\n",
      "Rank 23: Feature 301accept4 with weight -1.6752222776412964\n",
      "Rank 24: Feature 80sched:sched_process_wait with weight -0.6043593287467957\n",
      "Rank 25: Feature 189rpm:rpm_return_int with weight -0.03543592616915703\n",
      "Rank 26: Feature 53ext4:ext4_invalidatepage with weight -0.0870937779545784\n",
      "Rank 27: Feature 286rename with weight -0.5389836430549622\n",
      "Rank 28: Feature 77signal:signal_generate with weight -0.7064880728721619\n",
      "Rank 29: Feature 16writeback:global_dirty_state_FLS_data with weight 0.7969517111778259\n",
      "Rank 30: Feature 242chdir with weight -0.2159890979528427\n",
      "Rank 31: Feature 163writeback:sb_clear_inode_writeback_RES_data with weight -0.37020567059516907\n",
      "Rank 32: Feature 179net_in with weight 0.2616211771965027\n",
      "Rank 33: Feature 210getsockopt with weight -0.878822922706604\n",
      "Rank 34: Feature 176L1-dcache-load-misses with weight -1.6554754972457886\n",
      "Rank 35: Feature 128timer:timer_start_RES_data with weight 0.21954452991485596\n",
      "Rank 36: Feature 0writeback:writeback_dirty_page_FLS_data with weight -0.13636906445026398\n",
      "Rank 37: Feature 2writeback:writeback_dirty_inode_start with weight -0.07279980927705765\n",
      "Rank 38: Feature 93qdisc:qdisc_dequeue.1 with weight -0.06786267459392548\n",
      "Rank 39: Feature 63writeback:global_dirty_state_KERN_data with weight 0.25584927201271057\n",
      "Rank 40: Feature 81signal:signal_deliver with weight -0.43371543288230896\n",
      "Rank 41: Feature 33ext4:ext4_da_write_begin with weight -0.04789546877145767\n",
      "Rank 42: Feature 46ext4:ext4_writepages_result_FLS_data with weight 0.4755309820175171\n",
      "Rank 43: Feature 266getdents64 with weight -1.52706778049469\n",
      "Rank 44: Feature 78qdisc:qdisc_dequeue with weight -0.1488812267780304\n",
      "Rank 45: Feature 259getpid with weight -0.27374380826950073\n",
      "Rank 46: Feature 214llseek with weight -0.4029074013233185\n",
      "Rank 47: Feature 118timer:timer_cancel with weight 0.22977685928344727\n",
      "Rank 48: Feature 140cpu-cycles with weight 0.5072832107543945\n",
      "Rank 49: Feature 72block:block_dirty_buffer_KERN_data with weight -0.23148700594902039\n",
      "Rank 50: Feature 138ext4:ext4_journal_start_RES_data with weight -0.05683380737900734\n",
      "Rank 51: Feature 24writeback:writeback_mark_inode_dirty_FLS_data with weight -0.032539576292037964\n",
      "Rank 52: Feature 271kcmp with weight -0.26599469780921936\n",
      "Rank 53: Feature 235dup3 with weight -0.24551239609718323\n",
      "Rank 54: Feature 202(OLD) AverageLength with weight 1.0008537769317627\n",
      "Rank 55: Feature 268dup2 with weight -0.12078486382961273\n",
      "Rank 56: Feature 265openat with weight 1.1218442916870117\n",
      "Rank 57: Feature 7ext4:ext4_da_write_end with weight -0.06756844371557236\n",
      "Rank 58: Feature 14ext4:ext4_begin_ordered_truncate with weight 0.03959423303604126\n",
      "Rank 59: Feature 172jbd2:jbd2_handle_stats_RES_data with weight -0.132930189371109\n",
      "Rank 60: Feature 174sched:sched_process_exec_RES_data with weight -1.7365871667861938\n",
      "Rank 61: Feature 55writeback:writeback_dirty_page_KERN_data with weight -0.18465232849121094\n",
      "Rank 62: Feature 164branch-loads with weight 0.9565061926841736\n",
      "Rank 63: Feature 6ext4:ext4_ext_remove_space with weight -0.2579662501811981\n",
      "Rank 64: Feature 43jbd2:jbd2_handle_stats_FLS_data with weight -0.138536274433136\n",
      "Rank 65: Feature 50ext4:ext4_es_insert_delayed_block with weight -0.058820854872465134\n",
      "Rank 66: Feature 148block:block_touch_buffer_RES_data with weight 0.07275065779685974\n",
      "Rank 67: Feature 62writeback:sb_clear_inode_writeback_KERN_data with weight 0.011703061871230602\n",
      "Rank 68: Feature 52block:block_unplug_FLS_data with weight -0.525993287563324\n",
      "Rank 69: Feature 15writeback:sb_clear_inode_writeback_FLS_data with weight -0.22487224638462067\n",
      "Rank 70: Feature 88writeback:writeback_dirty_inode_KERN_data with weight -0.0975981056690216\n",
      "Rank 71: Feature 230exit with weight -0.18470565974712372\n",
      "Rank 72: Feature 113irq:softirq_exit with weight 0.24767406284809113\n",
      "Rank 73: Feature 108block:block_unplug_KERN_data with weight -0.8499420285224915\n",
      "Rank 74: Feature 299pipe with weight -4.902219295501709\n",
      "Rank 75: Feature 137timer:timer_init with weight -0.4491630494594574\n",
      "Rank 76: Feature 44ext4:ext4_truncate_enter with weight -0.24419288337230682\n",
      "Rank 77: Feature 100task:task_newtask_KERN_data with weight -0.831455647945404\n",
      "Rank 78: Feature 175task:task_newtask_RES_data with weight -0.9022395014762878\n",
      "Rank 79: Feature 228clone with weight -0.947613537311554\n",
      "Rank 80: Feature 127ext4:ext4_writepages_result_RES_data with weight 0.8143762946128845\n",
      "Rank 81: Feature 236getgid32 with weight -0.06796767562627792\n",
      "Rank 82: Feature 289sigaltstack with weight 1.2766718864440918\n",
      "Rank 83: Feature 165L1-icache-load-misses with weight -0.2607382535934448\n",
      "Rank 84: Feature 200write_ops with weight -0.5553198456764221\n",
      "Rank 85: Feature 38filemap:mm_filemap_add_to_page_cache_FLS_data with weight -0.042850349098443985\n",
      "Rank 86: Feature 116armv7_cortex_a15/l1i_cache_refill/ with weight -0.14371357858181\n",
      "Rank 87: Feature 28block:block_dirty_buffer_FLS_data with weight -0.14773958921432495\n",
      "Rank 88: Feature 67fib:fib_table_lookup_KERN_data with weight -1.5772433280944824\n",
      "Rank 89: Feature 8ext4:ext4_truncate_exit with weight -0.22107388079166412\n",
      "Rank 90: Feature 182ext4:ext4_es_lookup_extent_enter_RES_data with weight -0.20297332108020782\n",
      "Rank 91: Feature 86block:block_touch_buffer_KERN_data with weight 0.6044239401817322\n",
      "Rank 92: Feature 243getuid32 with weight -4.012731552124023\n",
      "Rank 93: Feature 223wait4 with weight -0.053127557039260864\n",
      "Rank 94: Feature 74preemptirq:irq_enable with weight -0.09367189556360245\n",
      "Rank 95: Feature 257exit_group with weight -0.22296488285064697\n",
      "Rank 96: Feature 29ext4:ext4_da_update_reserve_space_FLS_data with weight 0.22028717398643494\n",
      "Rank 97: Feature 288lgetxattr with weight -0.024160007014870644\n",
      "Rank 98: Feature 221sendto with weight 0.8868504762649536\n",
      "Rank 99: Feature 10ext4:ext4_journal_start_FLS_data with weight -0.07650887221097946\n",
      "Rank 100: Feature 167fib:fib_table_lookup_RES_data with weight -0.8331164717674255\n",
      "Rank 101: Feature 186filemap:mm_filemap_add_to_page_cache_RES_data with weight -0.11953003704547882\n",
      "Rank 102: Feature 256rt_sigaction with weight -1.2173625230789185\n",
      "Rank 103: Feature 68writeback:writeback_mark_inode_dirty_KERN_data with weight -0.19641099870204926\n",
      "Rank 104: Feature 193iowritebytes with weight -0.8717410564422607\n",
      "Rank 105: Feature 168LLC-stores with weight -1.5495750904083252\n",
      "Rank 106: Feature 42ext4:ext4_ext_rm_leaf with weight -0.24250978231430054\n",
      "Rank 107: Feature 19jbd2:jbd2_handle_extend with weight -0.26378586888313293\n",
      "Rank 108: Feature 45jbd2:jbd2_handle_start_FLS_data with weight -0.1776626855134964\n",
      "Rank 109: Feature 75net:net_dev_queue with weight -0.022348616272211075\n",
      "Rank 110: Feature 122block:block_dirty_buffer_RES_data with weight -0.21979433298110962\n",
      "Rank 111: Feature 36block:block_touch_buffer_FLS_data with weight 0.2262120395898819\n",
      "Rank 112: Feature 206epoll_wait with weight 0.10134860128164291\n",
      "Rank 113: Feature 48jbd2:jbd2_commit_locking with weight -0.1435987651348114\n",
      "Rank 114: Feature 123ext4:ext4_da_update_reserve_space_RES_data with weight 0.9315775036811829\n",
      "Rank 115: Feature 59irq:softirq_entry with weight 0.009846018627285957\n",
      "Rank 116: Feature 102random:get_random_bytes with weight -1.6220364570617676\n",
      "Rank 117: Feature 247ugetrlimit with weight -0.17858083546161652\n",
      "Rank 118: Feature 65workqueue:workqueue_activate_work with weight -0.33535057306289673\n",
      "Rank 119: Feature 126iowritetime with weight -4.135590076446533\n",
      "Rank 120: Feature 41ext4:ext4_mark_inode_dirty with weight -0.23950602114200592\n",
      "Rank 121: Feature 83filemap:mm_filemap_add_to_page_cache_KERN_data with weight -0.11842295527458191\n",
      "Rank 122: Feature 5ext4:ext4_es_lookup_extent_exit with weight -1.1297478675842285\n",
      "Rank 123: Feature 300setitimer with weight -2.3974571228027344\n",
      "Rank 124: Feature 278access with weight 0.46442875266075134\n",
      "Rank 125: Feature 95jbd2:jbd2_handle_start_KERN_data with weight -0.10931544005870819\n",
      "Rank 126: Feature 184pkt_in with weight 0.4859248399734497\n",
      "Rank 127: Feature 79gpio:gpio_value_KERN_data with weight -2.65140700340271\n",
      "Rank 128: Feature 1ext4:ext4_ext_remove_space_done with weight -0.2065831869840622\n",
      "Rank 129: Feature 37block:block_getrq_FLS_data with weight -1.8191120624542236\n",
      "Rank 130: Feature 208pause with weight 0.16734373569488525\n",
      "Rank 131: Feature 23block:block_rq_complete with weight -1.6866551637649536\n",
      "Rank 132: Feature 240setsid with weight -0.9872173070907593\n",
      "Rank 133: Feature 192instructions with weight 0.6259085536003113\n",
      "Rank 134: Feature 190iobusytime with weight -1.7240705490112305\n",
      "Rank 135: Feature 212prctl with weight -5.778073310852051\n",
      "Rank 136: Feature 158LLC-load-misses with weight 0.3145379424095154\n",
      "Rank 137: Feature 267munmap with weight -0.6370683908462524\n",
      "Rank 138: Feature 99sched:sched_process_exec_KERN_data with weight -1.6937354803085327\n",
      "Rank 139: Feature 31jbd2:jbd2_end_commit with weight -0.17677542567253113\n",
      "Rank 140: Feature 32jbd2:jbd2_drop_transaction with weight 0.07129136472940445\n",
      "Rank 141: Feature 197ext4:ext4_releasepage_RES_data with weight -0.14046424627304077\n",
      "Rank 142: Feature 219dup with weight 10.86487865447998\n",
      "Rank 143: Feature 71net:net_dev_xmit with weight -0.10741259902715683\n",
      "Rank 144: Feature 293mkdir with weight -0.029795171692967415\n",
      "Rank 145: Feature 26ext4:ext4_es_lookup_extent_enter_FLS_data with weight -1.159536600112915\n",
      "Rank 146: Feature 56skb:consume_skb with weight -0.17917349934577942\n",
      "Rank 147: Feature 21jbd2:jbd2_checkpoint_stats_FLS_data with weight 0.11944341659545898\n",
      "Rank 148: Feature 276epoll_ctl with weight -1.604246735572815\n",
      "Rank 149: Feature 18block:block_rq_insert with weight -1.854936957359314\n",
      "Rank 150: Feature 87block:block_getrq_KERN_data with weight -2.7619223594665527\n",
      "Rank 151: Feature 169gpio:gpio_value_RES_data with weight -2.7409801483154297\n",
      "Rank 152: Feature 218inotify_add_watch with weight -0.1017061397433281\n",
      "Rank 153: Feature 226setresgid32 with weight -0.8997839093208313\n",
      "Rank 154: Feature 76skb:consume_skb.1 with weight -0.23141148686408997\n",
      "Rank 155: Feature 3jbd2:jbd2_commit_logging with weight -0.18201908469200134\n",
      "Rank 156: Feature 27jbd2:jbd2_start_commit_FLS_data with weight -0.12022122740745544\n",
      "Rank 157: Feature 195iowrite with weight -3.582487106323242\n",
      "Rank 158: Feature 133kmem:kmem_cache_alloc_RES_data with weight -1.1145658493041992\n",
      "Rank 159: Feature 25block:block_bio_queue with weight -1.9613362550735474\n",
      "Rank 160: Feature 20block:block_rq_issue with weight -1.8537793159484863\n",
      "Rank 161: Feature 22jbd2:jbd2_run_stats with weight -0.18708541989326477\n",
      "Rank 162: Feature 264shutdown with weight -0.6138125658035278\n",
      "Rank 163: Feature 30jbd2:jbd2_commit_flushing with weight -0.1542980670928955\n",
      "Rank 164: Feature 84block:block_bio_remap_KERN_data with weight -3.5110831260681152\n",
      "Rank 165: Feature 207faccessat with weight 0.05551274120807648\n",
      "Rank 166: Feature 35block:block_bio_remap_FLS_data with weight -1.9593228101730347\n",
      "Rank 167: Feature 115armv7_cortex_a15/l2d_cache/ with weight -0.8351098895072937\n",
      "Rank 168: Feature 274getxattr with weight 0.2873924672603607\n",
      "Rank 169: Feature 222setuid32 with weight -0.9806376099586487\n",
      "Rank 170: Feature 284prlimit64 with weight 0.3158580958843231\n",
      "Rank 171: Feature 120jbd2:jbd2_checkpoint_stats_RES_data with weight -2.5461394786834717\n",
      "Rank 172: Feature 40block:block_bio_backmerge_FLS_data with weight -2.197155237197876\n",
      "Rank 173: Feature 258chown32 with weight 0.1358800083398819\n",
      "Rank 174: Feature 171block:block_bio_remap_RES_data with weight -3.6066157817840576\n",
      "Rank 175: Feature 4ext4:ext4_unlink_enter_FLS_data with weight -2.1406733989715576\n",
      "Rank 176: Feature 199write_kbs with weight -4.744792461395264\n",
      "Rank 177: Feature 198pkt_out with weight 0.0004089921712875366\n",
      "Rank 178: Feature 298connect with weight -0.034688208252191544\n",
      "Rank 179: Feature 12ext4:ext4_discard_preallocations with weight -0.2646009624004364\n",
      "Rank 180: Feature 107kmem:kmem_cache_free with weight -1.0844019651412964\n",
      "Rank 181: Feature 246setresuid32 with weight -0.6512167453765869\n",
      "Rank 182: Feature 227close with weight -0.9132931232452393\n",
      "Rank 183: Feature 141LLC-loads with weight -0.751171350479126\n",
      "Rank 184: Feature 9filemap:mm_filemap_delete_from_page_cache_FLS_data with weight 0.049981679767370224\n",
      "Rank 185: Feature 196page-faults_RES_data with weight -0.4135381877422333\n",
      "Rank 186: Feature 89block:block_bio_backmerge_KERN_data with weight -4.045070648193359\n",
      "Rank 187: Feature 147ext4:ext4_free_inode_RES_data with weight -3.4548118114471436\n",
      "Rank 188: Feature 73random:urandom_read with weight 1.0042905807495117\n",
      "Rank 189: Feature 70jbd2:jbd2_start_commit_KERN_data with weight -3.1044275760650635\n",
      "Rank 190: Feature 215geteuid32 with weight 0.3409416675567627\n",
      "Rank 191: Feature 156kmem:kfree_RES_data with weight -1.0310434103012085\n",
      "Rank 192: Feature 250open with weight 0.20165418088436127\n",
      "Rank 193: Feature 291execve with weight 0.09786814451217651\n",
      "Rank 194: Feature 60kmem:kmem_cache_alloc_KERN_data with weight -1.1036186218261719\n",
      "Rank 195: Feature 201util with weight 1.6988540887832642\n",
      "Rank 196: Feature 149minor-faults with weight -0.399871289730072\n",
      "Rank 197: Feature 166L1-icache-loads with weight 0.5703295469284058\n",
      "Rank 198: Feature 134write_merge with weight -5.497280597686768\n",
      "Rank 199: Feature 132ext4:ext4_unlink_enter_RES_data with weight -2.593247175216675\n",
      "Rank 200: Feature 203(OLD) VarianceLength with weight -0.24248278141021729\n",
      "Rank 201: Feature 297socket with weight -3.6400516033172607\n",
      "Rank 202: Feature 13ext4:ext4_unlink_exit with weight -2.0453195571899414\n",
      "Rank 203: Feature 231getcwd with weight -2.9907538890838623\n",
      "Rank 204: Feature 261waitid with weight 0.45360007882118225\n",
      "Rank 205: Feature 104page-faults_KERN_data with weight 0.6093477606773376\n",
      "Rank 206: Feature 237sysinfo with weight 0.389291375875473\n",
      "Rank 207: Feature 51ext4:ext4_releasepage_FLS_data with weight -0.10128705948591232\n",
      "Rank 208: Feature 269epoll_create1 with weight 0.421795517206192\n",
      "Rank 209: Feature 275rt_sigprocmask with weight -0.196970134973526\n",
      "Rank 210: Feature 157sched:sched_stat_runtime with weight -0.6645599603652954\n",
      "Rank 211: Feature 220setgroups32 with weight -0.28271588683128357\n",
      "Rank 212: Feature 290capset with weight -1.205155849456787\n",
      "Rank 213: Feature 260lstat64 with weight -0.35633039474487305\n",
      "Rank 214: Feature 153cpu with weight 0.7672887444496155\n",
      "Rank 215: Feature 34ext4:ext4_free_inode_FLS_data with weight -2.67989444732666\n",
      "Rank 216: Feature 205poll with weight -0.34455811977386475\n",
      "Rank 217: Feature 234setsockopt with weight 0.37194839119911194\n",
      "Rank 218: Feature 143armv7_cortex_a15/exc_taken/ with weight 0.22797226905822754\n",
      "Rank 219: Feature 262getsockname with weight -1.0901445150375366\n",
      "Rank 220: Feature 109kmem:mm_page_free_KERN_data with weight 0.5530783534049988\n",
      "Rank 221: Feature 294stat64 with weight -0.5846635103225708\n",
      "Rank 222: Feature 144armv7_cortex_a15/l2d_cache_wb/ with weight 1.364183783531189\n",
      "Rank 223: Feature 131armv7_cortex_a15/l1i_cache/ with weight 0.8816758990287781\n",
      "Rank 224: Feature 241sigreturn with weight -1.0876294374465942\n",
      "Rank 225: Feature 248readlink with weight -0.9027839303016663\n",
      "Rank 226: Feature 216write with weight -0.5813395380973816\n",
      "Rank 227: Feature 280writev with weight -0.5007963180541992\n",
      "Rank 228: Feature 188workqueue:workqueue_execute_start with weight -0.05268443003296852\n",
      "Rank 229: Feature 49seconds_FLS_data with weight -0.26049724221229553\n",
      "Rank 230: Feature 279capget with weight -1.433725357055664\n",
      "Rank 231: Feature 244statfs64 with weight -3.255673408508301\n",
      "Rank 232: Feature 233getpgrp with weight 0.4638157784938812\n",
      "Rank 233: Feature 142memory with weight -1.0063449144363403\n",
      "Rank 234: Feature 146LLC-store-misses with weight 1.415754795074463\n",
      "Rank 235: Feature 232getppid with weight -0.8288989067077637\n",
      "Rank 236: Feature 270getpeername with weight -0.6403517723083496\n",
      "Rank 237: Feature 296madvise with weight -3.5018503665924072\n",
      "Rank 238: Feature 98sched:sched_wakeup with weight -0.5712610483169556\n",
      "Rank 239: Feature 253sendmsg with weight 0.40940114855766296\n",
      "Rank 240: Feature 92kmem:kmalloc with weight -1.0231510400772095\n",
      "Rank 241: Feature 54kmem:kfree_KERN_data with weight -0.9846505522727966\n",
      "Rank 242: Feature 292fstat64 with weight 10.124101638793945\n",
      "Rank 243: Feature 272set_tid_address with weight 0.45006662607192993\n",
      "Rank 244: Feature 178sched:sched_waking with weight -0.7972642183303833\n",
      "Rank 245: Feature 114pagemap:mm_lru_activate with weight -0.9628597497940063\n",
      "Rank 246: Feature 154kmem:mm_page_free_RES_data with weight -0.06136536970734596\n",
      "Rank 247: Feature 238ioctl with weight -0.6739391088485718\n",
      "Rank 248: Feature 64kmem:mm_page_pcpu_drain with weight 0.40947502851486206\n",
      "Rank 249: Feature 273getrandom with weight -2.579435348510742\n",
      "Rank 250: Feature 282readlinkat with weight -1.0873478651046753\n",
      "Rank 251: Feature 229brk with weight -0.5042941570281982\n",
      "Rank 252: Feature 161L1-dcache-loads with weight 0.6751220226287842\n",
      "Rank 253: Feature 150cpu-migrations_RES_data with weight 0.11527226120233536\n",
      "Rank 254: Feature 239fchmod with weight -1.2544623613357544\n",
      "Rank 255: Feature 160filemap:mm_filemap_delete_from_page_cache_RES_data with weight 0.2686156928539276\n",
      "Rank 256: Feature 191seconds_RES_data with weight -0.3170182704925537\n",
      "Rank 257: Feature 245pipe2 with weight -0.8958374261856079\n",
      "Rank 258: Feature 249setxattr with weight -0.7298189997673035\n",
      "Rank 259: Feature 17ext4:ext4_readpage with weight -3.60429310798645\n",
      "Rank 260: Feature 125branch-misses with weight 1.0524743795394897\n",
      "Rank 261: Feature 285read with weight -2.264918088912964\n",
      "Rank 262: Feature 173dTLB-load-misses with weight 1.202160120010376\n",
      "Rank 263: Feature 90cpu-migrations_KERN_data with weight 0.7411876916885376\n",
      "Rank 264: Feature 209unlink with weight 0.25697416067123413\n",
      "Rank 265: Feature 251newselect with weight -0.7533327341079712\n",
      "Rank 266: Feature 225rmdir with weight -0.9371564388275146\n",
      "Rank 267: Feature 105cs with weight -0.49538227915763855\n",
      "Rank 268: Feature 211set_robust_list with weight -0.3703750669956207\n",
      "Rank 269: Feature 110kmem:mm_page_alloc_zone_locked_RES_data with weight -0.8204939961433411\n",
      "Rank 270: Feature 281recvfrom with weight -0.13796553015708923\n",
      "Rank 271: Feature 224timerfd_create with weight -0.3988803029060364\n",
      "Rank 272: Feature 97sched:sched_switch with weight -0.48385006189346313\n",
      "Rank 273: Feature 263umask with weight -4.184203624725342\n",
      "Rank 274: Feature 112armv7_cortex_a15/mem_access/ with weight 0.959486186504364\n",
      "Rank 275: Feature 103skb:kfree_skb with weight 1.0217597484588623\n",
      "Rank 276: Feature 283mremap with weight 0.885222315788269\n",
      "Rank 277: Feature 151iTLB-load-misses with weight -0.08546087145805359\n",
      "Rank 278: Feature 185branch-load-misses with weight 1.1432398557662964\n",
      "Rank 279: Feature 61irq:irq_handler_entry with weight -0.6076405048370361\n",
      "Rank 280: Feature 254gettimeofday with weight -0.7227761149406433\n",
      "Rank 281: Feature 204label with weight -0.17607943713665009\n",
      "Rank 282: Feature 66kmem:mm_page_alloc with weight 0.47170862555503845\n",
      "Rank 283: Feature 124context-switches with weight -0.7508830428123474\n",
      "Rank 284: Feature 287mprotect with weight -4.746041297912598\n",
      "Rank 285: Feature 252sched_yield with weight 0.3841453492641449\n",
      "Rank 286: Feature 303mmap2 with weight 0.18774938583374023\n",
      "Rank 287: Feature 82timer:hrtimer_start with weight -0.7936326265335083\n",
      "Rank 288: Feature 295getegid32 with weight -0.24258144199848175\n",
      "Rank 289: Feature 130cache-references with weight 0.5734239816665649\n",
      "Rank 290: Feature 181armv7_cortex_a15/br_mis_pred/ with weight 0.9071515202522278\n",
      "Rank 291: Feature 177armv7_cortex_a15/l1d_tlb_refill/ with weight 1.5562443733215332\n",
      "Rank 292: Feature 58kmem:mm_page_alloc_zone_locked_KERN_data with weight -0.02249067835509777\n",
      "Rank 293: Feature 91pagemap:mm_lru_insertion with weight 0.6546384692192078\n",
      "Rank 294: Feature 47writeback:writeback_dirty_inode_enqueue_FLS_data with weight -0.6914933919906616\n",
      "Rank 295: Feature 121armv7_cortex_a15/l1d_cache/ with weight 0.8142721652984619\n",
      "Rank 296: Feature 96seconds_KERN_data with weight 0.9057011008262634\n",
      "Rank 297: Feature 119L1-dcache-stores with weight 0.4063926339149475\n",
      "Rank 298: Feature 135net_out with weight 0.7147749662399292\n",
      "Rank 299: Feature 111dTLB-store-misses with weight -1.3793317079544067\n",
      "Rank 300: Feature 94writeback:writeback_dirty_inode_enqueue_KERN_data with weight -1.2071032524108887\n",
      "Rank 301: Feature 69skb:kfree_skb.1 with weight 1.0276731252670288\n",
      "Rank 302: Feature 183armv7_cortex_a15/exc_return/ with weight 0.3160621225833893\n",
      "Rank 303: Feature 136armv7_cortex_a15/l1i_tlb_refill/ with weight 0.4116390645503998\n",
      "Rank 304: Feature 145timer:tick_stop with weight 1.7134840488433838\n",
      "Rank 305: Feature 217fstatat64 with weight 1.4241259098052979\n"
     ]
    }
   ],
   "source": [
    "# Extract the weights from the linear layer\n",
    "weights = best_model.l1.weight.data\n",
    "\n",
    "# Convert to numpy array for easier manipulation\n",
    "weights_np = weights.numpy()\n",
    "\n",
    "# Calculate the absolute values of the weights\n",
    "abs_weights = abs(weights_np)\n",
    "\n",
    "# Get the indices of the top features based on weight magnitude\n",
    "top_features = abs_weights.argsort()[::-1]\n",
    "\n",
    "# Print the top features\n",
    "print(\"Feature importance based on weights:\")\n",
    "for i, feature_idx in enumerate(top_features[0]):\n",
    "    feature_name = df.columns[feature_idx]\n",
    "    print(f\"Rank {i+1}: Feature {feature_idx}{feature_name} with weight {weights_np[0][feature_idx]}\")\n"
   ]
  },
  {
   "cell_type": "code",
   "execution_count": 19,
   "metadata": {},
   "outputs": [
    {
     "data": {
      "image/png": "[encoded data removed]",
      "text/plain": [
       "<Figure size 1000x600 with 1 Axes>"
      ]
     },
     "metadata": {},
     "output_type": "display_data"
    }
   ],
   "source": [
    "import matplotlib.pyplot as plt\n",
    "\n",
    "# Convert to numpy array for easier manipulation\n",
    "weights_np = weights.numpy().flatten()  # Flatten to 1D array\n",
    "\n",
    "# Calculate the absolute values of the weights\n",
    "abs_weights = np.abs(weights_np)\n",
    "\n",
    "# Get the indices of the top features based on weight magnitude\n",
    "top_features = abs_weights.argsort()[::-1]\n",
    "\n",
    "# Plotting\n",
    "plt.figure(figsize=(10, 6))\n",
    "plt.bar(range(len(weights_np)), abs_weights[top_features])\n",
    "plt.xlabel('Feature Index')\n",
    "plt.ylabel('Absolute Weight')\n",
    "plt.title('Feature Importance Based on Linear Layer Weights')\n",
    "plt.xticks(range(len(weights_np)), top_features, rotation=90)\n",
    "plt.show()"
   ]
  },
  {
   "cell_type": "code",
   "execution_count": 20,
   "metadata": {},
   "outputs": [],
   "source": [
    "weights = best_model.l1.weight.data.numpy()\n",
    "abs_weights = np.abs(weights.flatten())"
   ]
  },
  {
   "cell_type": "code",
   "execution_count": 21,
   "metadata": {},
   "outputs": [
    {
     "data": {
      "image/png": "[encoded data removed]",
      "text/plain": [
       "<Figure size 1500x2500 with 9 Axes>"
      ]
     },
     "metadata": {},
     "output_type": "display_data"
    }
   ],
   "source": [
    "nrows = weights.shape[0]\n",
    "xrows = weights.shape[1]\n",
    "\n",
    "fig, axes = plt.subplots(nrows=nrows, ncols=1, figsize=(15, 25), sharex=True)\n",
    "\n",
    "for i in range(nrows):\n",
    "    axes[i].bar(range(xrows), abs_weights[i*xrows:(i+1)*xrows])\n",
    "    axes[i].set_title(f'Feature Importance for Class {i}')\n",
    "    axes[i].set_ylabel('Absolute Weight')\n",
    "\n",
    "plt.xlabel('Feature Index')\n",
    "plt.show()"
   ]
  },
  {
   "cell_type": "markdown",
   "metadata": {},
   "source": [
    "### Plotting Mean over Classes"
   ]
  },
  {
   "cell_type": "code",
   "execution_count": 22,
   "metadata": {},
   "outputs": [],
   "source": [
    "from sklearn.preprocessing import minmax_scale\n",
    "\n",
    "scaled_weights = minmax_scale(weights, axis=0)\n",
    "weights_mean = np.abs(scaled_weights).mean(axis=0)"
   ]
  },
  {
   "cell_type": "code",
   "execution_count": 23,
   "metadata": {},
   "outputs": [],
   "source": [
    "sorted_idx = weights_mean.argsort()[::-1]"
   ]
  },
  {
   "cell_type": "code",
   "execution_count": 24,
   "metadata": {},
   "outputs": [
    {
     "data": {
      "image/png": "[encoded data removed]",
      "text/plain": [
       "<Figure size 1000x600 with 1 Axes>"
      ]
     },
     "metadata": {},
     "output_type": "display_data"
    }
   ],
   "source": [
    "plt.figure(figsize=(10, 6))\n",
    "plt.bar(range(len(weights_mean[sorted_idx])), weights_mean[sorted_idx])\n",
    "plt.xlabel('Feature Index')\n",
    "plt.ylabel('Absolute Weight')\n",
    "plt.title('Feature Importance Based on Linear Layer Weights')\n",
    "# plt.xticks(sorted_idx, sorted_idx, rotation=90)\n",
    "plt.show()"
   ]
  },
  {
   "cell_type": "code",
   "execution_count": 25,
   "metadata": {},
   "outputs": [
    {
     "data": {
      "image/png": "[encoded data removed]",
      "text/plain": [
       "<Figure size 1000x600 with 1 Axes>"
      ]
     },
     "metadata": {},
     "output_type": "display_data"
    }
   ],
   "source": [
    "top_k = 50\n",
    "\n",
    "plt.figure(figsize=(10, 6))\n",
    "plt.bar(range(len(weights_mean[sorted_idx[:top_k]])), weights_mean[sorted_idx[:top_k]])\n",
    "plt.xlabel('Feature Index')\n",
    "plt.ylabel('Absolute Weight')\n",
    "plt.title('Feature Importance Based on Linear Layer Weights')\n",
    "# plt.xticks(sorted_idx[:20], sorted_idx[:20], rotation=90)\n",
    "plt.show()"
   ]
  },
  {
   "cell_type": "markdown",
   "metadata": {},
   "source": [
    "### Plotting top k per class"
   ]
  },
  {
   "cell_type": "code",
   "execution_count": 26,
   "metadata": {},
   "outputs": [],
   "source": [
    "topk = 4"
   ]
  },
  {
   "cell_type": "code",
   "execution_count": 27,
   "metadata": {},
   "outputs": [
    {
     "data": {
      "text/plain": [
       "(9, 4)"
      ]
     },
     "execution_count": 27,
     "metadata": {},
     "output_type": "execute_result"
    }
   ],
   "source": [
    "topk_indices = weights.argpartition( -topk, axis=1)[:, -topk:]\n",
    "topk_indices.shape"
   ]
  },
  {
   "cell_type": "code",
   "execution_count": 28,
   "metadata": {},
   "outputs": [
    {
     "data": {
      "text/plain": [
       "(9, 4)"
      ]
     },
     "execution_count": 28,
     "metadata": {},
     "output_type": "execute_result"
    }
   ],
   "source": [
    "topk_indices_sorted = np.take_along_axis(topk_indices, np.argsort(-weights[np.arange(weights.shape[0])[:, None], topk_indices]), axis=1)\n",
    "topk_indices_sorted.shape"
   ]
  },
  {
   "cell_type": "code",
   "execution_count": 29,
   "metadata": {},
   "outputs": [
    {
     "data": {
      "text/plain": [
       "(34,)"
      ]
     },
     "execution_count": 29,
     "metadata": {},
     "output_type": "execute_result"
    }
   ],
   "source": [
    "selected_features = np.array(list(set(topk_indices_sorted.flatten())))\n",
    "selected_features.shape"
   ]
  },
  {
   "cell_type": "code",
   "execution_count": 30,
   "metadata": {},
   "outputs": [
    {
     "data": {
      "image/png": "[encoded data removed]",
      "text/plain": [
       "<Figure size 1000x600 with 1 Axes>"
      ]
     },
     "metadata": {},
     "output_type": "display_data"
    }
   ],
   "source": [
    "plt.figure(figsize=(10, 6))\n",
    "plt.bar(range(len(weights_mean[selected_features])), weights_mean[selected_features])\n",
    "plt.xlabel('Feature Index')\n",
    "plt.ylabel('Absolute Weight')\n",
    "plt.title('Feature Importance Based on Linear Layer Weights')\n",
    "# plt.xticks(sorted_idx[:20], sorted_idx[:20], rotation=90)\n",
    "plt.show()"
   ]
  },
  {
   "cell_type": "markdown",
   "metadata": {},
   "source": [
    "### Train again"
   ]
  },
  {
   "cell_type": "code",
   "execution_count": 31,
   "metadata": {},
   "outputs": [
    {
     "data": {
      "text/plain": [
       "(16515, 34)"
      ]
     },
     "execution_count": 31,
     "metadata": {},
     "output_type": "execute_result"
    }
   ],
   "source": [
    "vectors.iloc[:,selected_features].shape"
   ]
  },
  {
   "cell_type": "code",
   "execution_count": 32,
   "metadata": {},
   "outputs": [
    {
     "name": "stderr",
     "output_type": "stream",
     "text": [
      "/tmp/ipykernel_135900/650136668.py:2: SettingWithCopyWarning: \n",
      "A value is trying to be set on a copy of a slice from a DataFrame.\n",
      "Try using .loc[row_indexer,col_indexer] = value instead\n",
      "\n",
      "See the caveats in the documentation: https://pandas.pydata.org/pandas-docs/stable/user_guide/indexing.html#returning-a-view-versus-a-copy\n",
      "  subset[\"label\"] = df[\"label\"]\n"
     ]
    }
   ],
   "source": [
    "subset = vectors.iloc[:,selected_features]\n",
    "subset[\"label\"] = df[\"label\"]"
   ]
  },
  {
   "cell_type": "code",
   "execution_count": 33,
   "metadata": {},
   "outputs": [
    {
     "name": "stderr",
     "output_type": "stream",
     "text": [
      "GPU available: True (cuda), used: True\n",
      "TPU available: False, using: 0 TPU cores\n",
      "IPU available: False, using: 0 IPUs\n",
      "HPU available: False, using: 0 HPUs\n"
     ]
    }
   ],
   "source": [
    "# split into train and val\n",
    "train, val = train_test_split(subset, test_size=0.2, random_state=SEED)\n",
    "\n",
    "train_dataset = CustomeDataset(train)\n",
    "train_dataloader = DataLoader(train_dataset, batch_size=500, shuffle=True, num_workers=7)\n",
    "\n",
    "val_dataset = CustomeDataset(val)\n",
    "val_dataloader = DataLoader(val_dataset, batch_size=500, shuffle=False, num_workers=7)\n",
    "\n",
    "# trainer = lightning.Trainer(fast_dev_run=100)\n",
    "monitor = \"Validation/Accuracy\"\n",
    "early_stop_callback = EarlyStopping(monitor=monitor, patience=5, verbose=True, mode=\"max\")\n",
    "checkpoint_callback = ModelCheckpoint(save_top_k=1, monitor=monitor, mode=\"max\")\n",
    "\n",
    "tensorboard = pl_loggers.TensorBoardLogger(save_dir=LOG_PATH, name=LOG_NAME_EXPERIMENT_2)\n",
    "trainer = lightning.Trainer(max_epochs=150, callbacks=[early_stop_callback, checkpoint_callback], enable_checkpointing=True, logger=tensorboard) #logger=None, \n",
    "\n",
    "\n",
    "model = MalwaresModelLinearLayer(input_size = subset.shape[1]-1, output_size = len(label_encoder.classes_), seed=SEED)\n",
    "\n",
    "torch.manual_seed(SEED)\n",
    "torch.cuda.manual_seed_all(SEED)\n"
   ]
  },
  {
   "cell_type": "code",
   "execution_count": 34,
   "metadata": {},
   "outputs": [
    {
     "name": "stderr",
     "output_type": "stream",
     "text": [
      "LOCAL_RANK: 0 - CUDA_VISIBLE_DEVICES: [0]\n",
      "\n",
      "  | Name          | Type                      | Params\n",
      "------------------------------------------------------------\n",
      "0 | train_metrics | MetricCollection          | 0     \n",
      "1 | val_metrics   | MetricCollection          | 0     \n",
      "2 | test_metrics  | MetricCollection          | 0     \n",
      "3 | cm            | MulticlassConfusionMatrix | 0     \n",
      "4 | criterion     | CrossEntropyLoss          | 0     \n",
      "5 | l1            | Linear                    | 315   \n",
      "------------------------------------------------------------\n",
      "315       Trainable params\n",
      "0         Non-trainable params\n",
      "315       Total params\n",
      "0.001     Total estimated model params size (MB)\n"
     ]
    },
    {
     "data": {
      "application/vnd.jupyter.widget-view+json": {
       "model_id": "84f75aa1ae5447e4abea50ad36718fa8",
       "version_major": 2,
       "version_minor": 0
      },
      "text/plain": [
       "Sanity Checking: |          | 0/? [00:00<?, ?it/s]"
      ]
     },
     "metadata": {},
     "output_type": "display_data"
    },
    {
     "name": "stdout",
     "output_type": "stream",
     "text": [
      "Epoch end: Validation, epoch number: 0\n",
      "ValidationEpoch/CM\n",
      " tensor([[  0,   0,   0,   0,   0,  80,   0,  27,   0],\n",
      "        [  6,   0,   5,   0,   0,  98,   0,   0,   0],\n",
      "        [  2,   0,   0,   0,   0, 106,   0,  28,   0],\n",
      "        [  0,   0,   0,   0,   0,  69,   0,  44,   0],\n",
      "        [ 29,   0,   0,   0,   9,  44,   0,   6,  19],\n",
      "        [  0,   0,   0,   0,   0,  93,   0,  18,   0],\n",
      "        [  3,   0,   0,   0,   0,  76,   0,  26,   0],\n",
      "        [ 78,   0,   0,   0,   0,  23,   0,   0,   0],\n",
      "        [  3,   0,   0,   0,   0,   0,   0,   0, 108]])\n"
     ]
    },
    {
     "name": "stderr",
     "output_type": "stream",
     "text": [
      "/home/<User>/repos/csg_is/.venv/lib/python3.10/site-packages/lightning/pytorch/loops/fit_loop.py:298: The number of training batches (27) is smaller than the logging interval Trainer(log_every_n_steps=50). Set a lower value for log_every_n_steps if you want to see logs for the training epoch.\n"
     ]
    },
    {
     "data": {
      "application/vnd.jupyter.widget-view+json": {
       "model_id": "0cc51c0a94a4429482e29b6f5c5da340",
       "version_major": 2,
       "version_minor": 0
      },
      "text/plain": [
       "Training: |          | 0/? [00:00<?, ?it/s]"
      ]
     },
     "metadata": {},
     "output_type": "display_data"
    },
    {
     "data": {
      "application/vnd.jupyter.widget-view+json": {
       "model_id": "aa5290aed776451996cc38df5807aa97",
       "version_major": 2,
       "version_minor": 0
      },
      "text/plain": [
       "Validation: |          | 0/? [00:00<?, ?it/s]"
      ]
     },
     "metadata": {},
     "output_type": "display_data"
    },
    {
     "name": "stdout",
     "output_type": "stream",
     "text": [
      "Epoch end: Validation, epoch number: 1\n",
      "ValidationEpoch/CM\n",
      " tensor([[   0,  474,   27,    0,  712,  166,    0,  324,  134],\n",
      "        [  18, 1647,   26,    0,    0,  241,    0,    2,    0],\n",
      "        [   6, 1089,  587,    0,    2,  290,    0,  322,    0],\n",
      "        [   0,  485,   48,    0,  757,  158,    0,  346,  119],\n",
      "        [  40,  323,    0,    0, 1180,   92,    0,   35,  242],\n",
      "        [   0, 1253,    2,    0,    0,  365,    0,  281,    0],\n",
      "        [   3,  722,  454,    0,  160,  195,    0,  366,   10],\n",
      "        [ 143,  103,    0,    0,    0,   40,    0, 1615,    0],\n",
      "        [   3,    0,    0,    0,    0,    0,    0,    0, 1908]])\n"
     ]
    },
    {
     "name": "stderr",
     "output_type": "stream",
     "text": [
      "Metric Validation/Accuracy improved. New best score: 0.595\n"
     ]
    },
    {
     "name": "stdout",
     "output_type": "stream",
     "text": [
      "Epoch end: Train, epoch number: 0\n",
      "TrainEpoch/CM\n",
      " tensor([[   0,  474,   27,    0,  712,  166,    0,  324,  134],\n",
      "        [  18, 1647,   26,    0,    0,  241,    0,    2,    0],\n",
      "        [   6, 1089,  587,    0,    2,  290,    0,  322,    0],\n",
      "        [   0,  485,   48,    0,  757,  158,    0,  346,  119],\n",
      "        [  40,  323,    0,    0, 1180,   92,    0,   35,  242],\n",
      "        [   0, 1253,    2,    0,    0,  365,    0,  281,    0],\n",
      "        [   3,  722,  454,    0,  160,  195,    0,  366,   10],\n",
      "        [ 143,  103,    0,    0,    0,   40,    0, 1615,    0],\n",
      "        [   3,    0,    0,    0,    0,    0,    0,    0, 1908]])\n"
     ]
    },
    {
     "data": {
      "application/vnd.jupyter.widget-view+json": {
       "model_id": "ff076f9b98b04c6087a6eaf8a8e3b37e",
       "version_major": 2,
       "version_minor": 0
      },
      "text/plain": [
       "Validation: |          | 0/? [00:00<?, ?it/s]"
      ]
     },
     "metadata": {},
     "output_type": "display_data"
    },
    {
     "name": "stdout",
     "output_type": "stream",
     "text": [
      "Epoch end: Validation, epoch number: 2\n",
      "ValidationEpoch/CM\n",
      " tensor([[   0,  474, 1128,    0, 1279,  202,    0,  324,  160],\n",
      "        [  18, 3472,   26,    0,    0,  241,    0,    2,    0],\n",
      "        [   6, 1103, 2606,    0,    2,  416,    0,  323,    0],\n",
      "        [   0,  486, 1279,    4, 1270,  189,    0,  346,  139],\n",
      "        [  40,  329,    7,    0, 2970,   94,    0,   35,  242],\n",
      "        [   0, 1287,   20,    0,    0, 2079,    0,  305,    0],\n",
      "        [   3,  722, 2134,    0,  213,  267,    0,  366,   10],\n",
      "        [ 143,  103,    0,    0,    0,   40,    0, 3415,    0],\n",
      "        [   3,    0,    0,    0,    0,    0,    0,    0, 3708]])\n",
      "Epoch end: Train, epoch number: 1\n",
      "TrainEpoch/CM\n",
      " tensor([[   0,  474, 1128,    0, 1279,  202,    0,  324,  160],\n",
      "        [  18, 3472,   26,    0,    0,  241,    0,    2,    0],\n",
      "        [   6, 1103, 2606,    0,    2,  416,    0,  323,    0],\n",
      "        [   0,  486, 1279,    4, 1270,  189,    0,  346,  139],\n",
      "        [  40,  329,    7,    0, 2970,   94,    0,   35,  242],\n",
      "        [   0, 1287,   20,    0,    0, 2079,    0,  305,    0],\n",
      "        [   3,  722, 2134,    0,  213,  267,    0,  366,   10],\n",
      "        [ 143,  103,    0,    0,    0,   40,    0, 3415,    0],\n",
      "        [   3,    0,    0,    0,    0,    0,    0,    0, 3708]])\n"
     ]
    },
    {
     "name": "stderr",
     "output_type": "stream",
     "text": [
      "Metric Validation/Accuracy improved by 0.069 >= min_delta = 0.0. New best score: 0.664\n"
     ]
    },
    {
     "data": {
      "application/vnd.jupyter.widget-view+json": {
       "model_id": "d3a5757efe2d42e18c174e0678f50a05",
       "version_major": 2,
       "version_minor": 0
      },
      "text/plain": [
       "Validation: |          | 0/? [00:00<?, ?it/s]"
      ]
     },
     "metadata": {},
     "output_type": "display_data"
    },
    {
     "name": "stdout",
     "output_type": "stream",
     "text": [
      "Epoch end: Validation, epoch number: 3\n",
      "ValidationEpoch/CM\n",
      " tensor([[  50,  474, 1803,   28, 2256,  202,    0,  324,  160],\n",
      "        [  18, 5297,   26,    0,    0,  241,    0,    2,    0],\n",
      "        [   6, 1107, 4747,    0,   10,  423,    0,  323,    0],\n",
      "        [   0,  486, 2171,   85, 2097,  189,    0,  346,  139],\n",
      "        [  40,  329,    9,    0, 4768,   99,    0,   35,  242],\n",
      "        [   0, 1287,   53,    0,    0, 3831,    0,  310,    0],\n",
      "        [   3,  722, 3838,    0,  312,  269,    0,  366,   10],\n",
      "        [ 143,  103,    0,    0,    0,   40,    0, 5215,    0],\n",
      "        [   3,    0,    0,    0,    0,    0,    0,    0, 5508]])\n"
     ]
    },
    {
     "name": "stderr",
     "output_type": "stream",
     "text": [
      "Metric Validation/Accuracy improved by 0.024 >= min_delta = 0.0. New best score: 0.689\n"
     ]
    },
    {
     "name": "stdout",
     "output_type": "stream",
     "text": [
      "Epoch end: Train, epoch number: 2\n",
      "TrainEpoch/CM\n",
      " tensor([[  50,  474, 1803,   28, 2256,  202,    0,  324,  160],\n",
      "        [  18, 5297,   26,    0,    0,  241,    0,    2,    0],\n",
      "        [   6, 1107, 4747,    0,   10,  423,    0,  323,    0],\n",
      "        [   0,  486, 2171,   85, 2097,  189,    0,  346,  139],\n",
      "        [  40,  329,    9,    0, 4768,   99,    0,   35,  242],\n",
      "        [   0, 1287,   53,    0,    0, 3831,    0,  310,    0],\n",
      "        [   3,  722, 3838,    0,  312,  269,    0,  366,   10],\n",
      "        [ 143,  103,    0,    0,    0,   40,    0, 5215,    0],\n",
      "        [   3,    0,    0,    0,    0,    0,    0,    0, 5508]])\n"
     ]
    },
    {
     "data": {
      "application/vnd.jupyter.widget-view+json": {
       "model_id": "e8b8565f133846de89d80e43a7f899ec",
       "version_major": 2,
       "version_minor": 0
      },
      "text/plain": [
       "Validation: |          | 0/? [00:00<?, ?it/s]"
      ]
     },
     "metadata": {},
     "output_type": "display_data"
    },
    {
     "name": "stdout",
     "output_type": "stream",
     "text": [
      "Epoch end: Validation, epoch number: 4\n",
      "ValidationEpoch/CM\n",
      " tensor([[ 534,  474, 2453,  464, 2416,  202,    0,  324,  160],\n",
      "        [  18, 7122,   26,    0,    0,  241,    0,    2,    0],\n",
      "        [   6, 1107, 6875,    0,   22,  443,    0,  323,    0],\n",
      "        [   0,  486, 2912,  977, 2264,  189,    0,  346,  139],\n",
      "        [  40,  329,   14,    0, 6563,  104,    0,   35,  242],\n",
      "        [   0, 1287,   72,    0,    0, 5597,    0,  315,    0],\n",
      "        [   3,  722, 5581,   43,  329,  271,    0,  366,   10],\n",
      "        [ 143,  103,    0,    0,    0,   40,    0, 7015,    0],\n",
      "        [   3,    0,    0,    0,    0,    0,    0,    0, 7308]])\n"
     ]
    },
    {
     "name": "stderr",
     "output_type": "stream",
     "text": [
      "Metric Validation/Accuracy improved by 0.120 >= min_delta = 0.0. New best score: 0.808\n"
     ]
    },
    {
     "name": "stdout",
     "output_type": "stream",
     "text": [
      "Epoch end: Train, epoch number: 3\n",
      "TrainEpoch/CM\n",
      " tensor([[ 534,  474, 2453,  464, 2416,  202,    0,  324,  160],\n",
      "        [  18, 7122,   26,    0,    0,  241,    0,    2,    0],\n",
      "        [   6, 1107, 6875,    0,   22,  443,    0,  323,    0],\n",
      "        [   0,  486, 2912,  977, 2264,  189,    0,  346,  139],\n",
      "        [  40,  329,   14,    0, 6563,  104,    0,   35,  242],\n",
      "        [   0, 1287,   72,    0,    0, 5597,    0,  315,    0],\n",
      "        [   3,  722, 5581,   43,  329,  271,    0,  366,   10],\n",
      "        [ 143,  103,    0,    0,    0,   40,    0, 7015,    0],\n",
      "        [   3,    0,    0,    0,    0,    0,    0,    0, 7308]])\n"
     ]
    },
    {
     "data": {
      "application/vnd.jupyter.widget-view+json": {
       "model_id": "5c32c97ce5ff40c5ba23da5435ba2fd0",
       "version_major": 2,
       "version_minor": 0
      },
      "text/plain": [
       "Validation: |          | 0/? [00:00<?, ?it/s]"
      ]
     },
     "metadata": {},
     "output_type": "display_data"
    },
    {
     "name": "stdout",
     "output_type": "stream",
     "text": [
      "Epoch end: Validation, epoch number: 5\n",
      "ValidationEpoch/CM\n",
      " tensor([[1767,  474, 2504,  894, 2432,  202,    0,  324,  160],\n",
      "        [  18, 8942,   26,    0,    0,  246,    0,    2,    0],\n",
      "        [   6, 1107, 8997,    0,   34,  469,    0,  323,    0],\n",
      "        [   3,  486, 3087, 2514, 2330,  189,   19,  346,  139],\n",
      "        [  40,  329,   19,    0, 8358,  109,    0,   35,  242],\n",
      "        [   0, 1287,   79,    0,    0, 7375,    0,  320,    0],\n",
      "        [   3,  722, 7229,  172,  345,  276,    7,  366,   10],\n",
      "        [ 143,  103,    0,    0,    0,   40,    0, 8815,    0],\n",
      "        [   3,    0,    0,    0,    0,    0,    0,    0, 9108]])\n"
     ]
    },
    {
     "name": "stderr",
     "output_type": "stream",
     "text": [
      "Metric Validation/Accuracy improved by 0.032 >= min_delta = 0.0. New best score: 0.840\n"
     ]
    },
    {
     "name": "stdout",
     "output_type": "stream",
     "text": [
      "Epoch end: Train, epoch number: 4\n",
      "TrainEpoch/CM\n",
      " tensor([[1767,  474, 2504,  894, 2432,  202,    0,  324,  160],\n",
      "        [  18, 8942,   26,    0,    0,  246,    0,    2,    0],\n",
      "        [   6, 1107, 8997,    0,   34,  469,    0,  323,    0],\n",
      "        [   3,  486, 3087, 2514, 2330,  189,   19,  346,  139],\n",
      "        [  40,  329,   19,    0, 8358,  109,    0,   35,  242],\n",
      "        [   0, 1287,   79,    0,    0, 7375,    0,  320,    0],\n",
      "        [   3,  722, 7229,  172,  345,  276,    7,  366,   10],\n",
      "        [ 143,  103,    0,    0,    0,   40,    0, 8815,    0],\n",
      "        [   3,    0,    0,    0,    0,    0,    0,    0, 9108]])\n"
     ]
    },
    {
     "data": {
      "application/vnd.jupyter.widget-view+json": {
       "model_id": "1b44d96d14d54f309e210946a685a4b6",
       "version_major": 2,
       "version_minor": 0
      },
      "text/plain": [
       "Validation: |          | 0/? [00:00<?, ?it/s]"
      ]
     },
     "metadata": {},
     "output_type": "display_data"
    },
    {
     "name": "stdout",
     "output_type": "stream",
     "text": [
      "Epoch end: Validation, epoch number: 6\n",
      "ValidationEpoch/CM\n",
      " tensor([[ 2665,   474,  2529,  1696,  2437,   202,     0,   324,   160],\n",
      "        [   18, 10761,    26,     0,     0,   252,     0,     2,     0],\n",
      "        [    6,  1107, 11102,     0,    46,   512,     0,   323,     0],\n",
      "        [    8,   486,  3161,  4210,  2355,   189,    19,   346,   139],\n",
      "        [   40,   329,    22,     0, 10155,   114,     0,    35,   242],\n",
      "        [    0,  1287,    79,     0,     0,  9160,     0,   325,     0],\n",
      "        [    3,   722,  8809,   369,   364,   285,     7,   366,    10],\n",
      "        [  143,   103,     0,     0,     0,    40,     0, 10615,     0],\n",
      "        [    3,     0,     0,     0,     0,     0,     0,     0, 10908]])\n",
      "Epoch end: Train, epoch number: 5\n",
      "TrainEpoch/CM\n",
      " tensor([[ 2665,   474,  2529,  1696,  2437,   202,     0,   324,   160],\n",
      "        [   18, 10761,    26,     0,     0,   252,     0,     2,     0],\n",
      "        [    6,  1107, 11102,     0,    46,   512,     0,   323,     0],\n",
      "        [    8,   486,  3161,  4210,  2355,   189,    19,   346,   139],\n",
      "        [   40,   329,    22,     0, 10155,   114,     0,    35,   242],\n",
      "        [    0,  1287,    79,     0,     0,  9160,     0,   325,     0],\n",
      "        [    3,   722,  8809,   369,   364,   285,     7,   366,    10],\n",
      "        [  143,   103,     0,     0,     0,    40,     0, 10615,     0],\n",
      "        [    3,     0,     0,     0,     0,     0,     0,     0, 10908]])\n"
     ]
    },
    {
     "name": "stderr",
     "output_type": "stream",
     "text": [
      "Metric Validation/Accuracy improved by 0.002 >= min_delta = 0.0. New best score: 0.842\n"
     ]
    },
    {
     "data": {
      "application/vnd.jupyter.widget-view+json": {
       "model_id": "7bbe47861d504084a0caa21187a68b99",
       "version_major": 2,
       "version_minor": 0
      },
      "text/plain": [
       "Validation: |          | 0/? [00:00<?, ?it/s]"
      ]
     },
     "metadata": {},
     "output_type": "display_data"
    },
    {
     "name": "stdout",
     "output_type": "stream",
     "text": [
      "Epoch end: Validation, epoch number: 7\n",
      "ValidationEpoch/CM\n",
      " tensor([[ 4210,   474,  2536,  1874,  2437,   202,     0,   324,   160],\n",
      "        [   18, 12576,    26,     0,     0,   262,     0,     2,     0],\n",
      "        [    6,  1107, 13220,     0,    58,   542,     0,   323,     0],\n",
      "        [   54,   486,  3216,  5888,  2373,   189,    22,   346,   139],\n",
      "        [   40,   329,    27,     0, 11950,   119,     0,    35,   242],\n",
      "        [    0,  1287,    79,     0,     0, 10947,     0,   328,     0],\n",
      "        [   11,   722, 10378,   561,   378,   290,    24,   366,    10],\n",
      "        [  143,   103,     0,     0,     0,    40,     0, 12415,     0],\n",
      "        [    3,     0,     0,     0,     0,     0,     0,     0, 12708]])\n",
      "Epoch end: Train, epoch number: 6\n",
      "TrainEpoch/CM\n",
      " tensor([[ 4210,   474,  2536,  1874,  2437,   202,     0,   324,   160],\n",
      "        [   18, 12576,    26,     0,     0,   262,     0,     2,     0],\n",
      "        [    6,  1107, 13220,     0,    58,   542,     0,   323,     0],\n",
      "        [   54,   486,  3216,  5888,  2373,   189,    22,   346,   139],\n",
      "        [   40,   329,    27,     0, 11950,   119,     0,    35,   242],\n",
      "        [    0,  1287,    79,     0,     0, 10947,     0,   328,     0],\n",
      "        [   11,   722, 10378,   561,   378,   290,    24,   366,    10],\n",
      "        [  143,   103,     0,     0,     0,    40,     0, 12415,     0],\n",
      "        [    3,     0,     0,     0,     0,     0,     0,     0, 12708]])\n"
     ]
    },
    {
     "name": "stderr",
     "output_type": "stream",
     "text": [
      "Metric Validation/Accuracy improved by 0.028 >= min_delta = 0.0. New best score: 0.870\n"
     ]
    },
    {
     "data": {
      "application/vnd.jupyter.widget-view+json": {
       "model_id": "b48c832d6f674cde9e3e49764416efa8",
       "version_major": 2,
       "version_minor": 0
      },
      "text/plain": [
       "Validation: |          | 0/? [00:00<?, ?it/s]"
      ]
     },
     "metadata": {},
     "output_type": "display_data"
    },
    {
     "name": "stdout",
     "output_type": "stream",
     "text": [
      "Epoch end: Validation, epoch number: 8\n",
      "ValidationEpoch/CM\n",
      " tensor([[ 5793,   474,  2545,  2012,  2437,   202,     0,   324,   160],\n",
      "        [   18, 14391,    26,     0,     0,   272,     0,     2,     0],\n",
      "        [    6,  1107, 15324,     0,    70,   586,     0,   323,     0],\n",
      "        [   94,   486,  3267,  7589,  2381,   189,    22,   346,   139],\n",
      "        [   40,   329,    31,     0, 13746,   124,     0,    35,   242],\n",
      "        [    0,  1287,    79,     0,     0, 12737,     0,   328,     0],\n",
      "        [   21,   722, 11916,   783,   391,   300,    36,   366,    10],\n",
      "        [  143,   103,     0,     0,     0,    40,     0, 14215,     0],\n",
      "        [    3,     0,     0,     0,     0,     0,     0,     0, 14508]])\n"
     ]
    },
    {
     "name": "stderr",
     "output_type": "stream",
     "text": [
      "Metric Validation/Accuracy improved by 0.005 >= min_delta = 0.0. New best score: 0.874\n"
     ]
    },
    {
     "name": "stdout",
     "output_type": "stream",
     "text": [
      "Epoch end: Train, epoch number: 7\n",
      "TrainEpoch/CM\n",
      " tensor([[ 5793,   474,  2545,  2012,  2437,   202,     0,   324,   160],\n",
      "        [   18, 14391,    26,     0,     0,   272,     0,     2,     0],\n",
      "        [    6,  1107, 15324,     0,    70,   586,     0,   323,     0],\n",
      "        [   94,   486,  3267,  7589,  2381,   189,    22,   346,   139],\n",
      "        [   40,   329,    31,     0, 13746,   124,     0,    35,   242],\n",
      "        [    0,  1287,    79,     0,     0, 12737,     0,   328,     0],\n",
      "        [   21,   722, 11916,   783,   391,   300,    36,   366,    10],\n",
      "        [  143,   103,     0,     0,     0,    40,     0, 14215,     0],\n",
      "        [    3,     0,     0,     0,     0,     0,     0,     0, 14508]])\n"
     ]
    },
    {
     "data": {
      "application/vnd.jupyter.widget-view+json": {
       "model_id": "75b9366fadab4d829fa094fbc370e6fc",
       "version_major": 2,
       "version_minor": 0
      },
      "text/plain": [
       "Validation: |          | 0/? [00:00<?, ?it/s]"
      ]
     },
     "metadata": {},
     "output_type": "display_data"
    },
    {
     "name": "stdout",
     "output_type": "stream",
     "text": [
      "Epoch end: Validation, epoch number: 9\n",
      "ValidationEpoch/CM\n",
      " tensor([[ 7422,   474,  2550,  2108,  2437,   202,     0,   324,   160],\n",
      "        [   18, 16206,    26,     0,     0,   282,     0,     2,     0],\n",
      "        [    6,  1107, 17427,     0,    82,   631,     0,   323,     0],\n",
      "        [  142,   486,  3301,  9294,  2392,   189,    24,   346,   139],\n",
      "        [   40,   329,    31,     1, 15545,   129,     0,    35,   242],\n",
      "        [    0,  1287,    79,     0,     0, 14527,     0,   328,     0],\n",
      "        [   36,   722, 13327,  1053,   414,   311,   111,   366,    10],\n",
      "        [  143,   103,     0,     0,     0,    40,     0, 16015,     0],\n",
      "        [    3,     0,     0,     0,     0,     0,     0,     0, 16308]])\n",
      "Epoch end: Train, epoch number: 8\n"
     ]
    },
    {
     "name": "stderr",
     "output_type": "stream",
     "text": [
      "Metric Validation/Accuracy improved by 0.000 >= min_delta = 0.0. New best score: 0.875\n"
     ]
    },
    {
     "name": "stdout",
     "output_type": "stream",
     "text": [
      "TrainEpoch/CM\n",
      " tensor([[ 7422,   474,  2550,  2108,  2437,   202,     0,   324,   160],\n",
      "        [   18, 16206,    26,     0,     0,   282,     0,     2,     0],\n",
      "        [    6,  1107, 17427,     0,    82,   631,     0,   323,     0],\n",
      "        [  142,   486,  3301,  9294,  2392,   189,    24,   346,   139],\n",
      "        [   40,   329,    31,     1, 15545,   129,     0,    35,   242],\n",
      "        [    0,  1287,    79,     0,     0, 14527,     0,   328,     0],\n",
      "        [   36,   722, 13327,  1053,   414,   311,   111,   366,    10],\n",
      "        [  143,   103,     0,     0,     0,    40,     0, 16015,     0],\n",
      "        [    3,     0,     0,     0,     0,     0,     0,     0, 16308]])\n"
     ]
    },
    {
     "data": {
      "application/vnd.jupyter.widget-view+json": {
       "model_id": "d2a8a397aabe452dbdaea4cc21daab47",
       "version_major": 2,
       "version_minor": 0
      },
      "text/plain": [
       "Validation: |          | 0/? [00:00<?, ?it/s]"
      ]
     },
     "metadata": {},
     "output_type": "display_data"
    },
    {
     "name": "stdout",
     "output_type": "stream",
     "text": [
      "Epoch end: Validation, epoch number: 10\n",
      "ValidationEpoch/CM\n",
      " tensor([[ 8912,   474,  2555,  2343,  2437,   202,     0,   324,   160],\n",
      "        [   18, 18021,    26,     0,     0,   292,     0,     2,     0],\n",
      "        [    6,  1107, 19518,     9,    94,   679,     0,   323,     0],\n",
      "        [  164,   486,  3315, 11056,  2394,   189,    24,   346,   139],\n",
      "        [   40,   329,    34,     6, 17337,   134,     0,    35,   242],\n",
      "        [    0,  1287,    79,     0,     0, 16317,     0,   328,     0],\n",
      "        [   46,   722, 14720,  1377,   420,   321,   173,   366,    10],\n",
      "        [  143,   103,     0,     0,     0,    40,     0, 17815,     0],\n",
      "        [    3,     0,     0,     0,     0,     0,     0,     0, 18108]])\n"
     ]
    },
    {
     "name": "stderr",
     "output_type": "stream",
     "text": [
      "Metric Validation/Accuracy improved by 0.004 >= min_delta = 0.0. New best score: 0.879\n"
     ]
    },
    {
     "name": "stdout",
     "output_type": "stream",
     "text": [
      "Epoch end: Train, epoch number: 9\n",
      "TrainEpoch/CM\n",
      " tensor([[ 8912,   474,  2555,  2343,  2437,   202,     0,   324,   160],\n",
      "        [   18, 18021,    26,     0,     0,   292,     0,     2,     0],\n",
      "        [    6,  1107, 19518,     9,    94,   679,     0,   323,     0],\n",
      "        [  164,   486,  3315, 11056,  2394,   189,    24,   346,   139],\n",
      "        [   40,   329,    34,     6, 17337,   134,     0,    35,   242],\n",
      "        [    0,  1287,    79,     0,     0, 16317,     0,   328,     0],\n",
      "        [   46,   722, 14720,  1377,   420,   321,   173,   366,    10],\n",
      "        [  143,   103,     0,     0,     0,    40,     0, 17815,     0],\n",
      "        [    3,     0,     0,     0,     0,     0,     0,     0, 18108]])\n"
     ]
    },
    {
     "data": {
      "application/vnd.jupyter.widget-view+json": {
       "model_id": "7d5ed87017b045439ddef6b5297010c8",
       "version_major": 2,
       "version_minor": 0
      },
      "text/plain": [
       "Validation: |          | 0/? [00:00<?, ?it/s]"
      ]
     },
     "metadata": {},
     "output_type": "display_data"
    },
    {
     "name": "stdout",
     "output_type": "stream",
     "text": [
      "Epoch end: Validation, epoch number: 11\n",
      "ValidationEpoch/CM\n",
      " tensor([[10586,   474,  2560,  2394,  2437,   202,     0,   324,   160],\n",
      "        [   18, 19836,    26,     0,     0,   302,     0,     2,     0],\n",
      "        [    6,  1107, 21616,    11,   106,   727,     0,   323,     0],\n",
      "        [  249,   486,  3339, 12737,  2399,   189,    29,   346,   139],\n",
      "        [   40,   329,    40,    11, 19126,   139,     0,    35,   242],\n",
      "        [    0,  1287,    79,     0,     0, 18107,     0,   328,     0],\n",
      "        [   86,   722, 16097,  1618,   426,   331,   304,   366,    10],\n",
      "        [  143,   103,     0,     0,     0,    40,     0, 19615,     0],\n",
      "        [    3,     0,     0,     0,     0,     0,     0,     0, 19908]])\n"
     ]
    },
    {
     "name": "stderr",
     "output_type": "stream",
     "text": [
      "Metric Validation/Accuracy improved by 0.001 >= min_delta = 0.0. New best score: 0.879\n"
     ]
    },
    {
     "name": "stdout",
     "output_type": "stream",
     "text": [
      "Epoch end: Train, epoch number: 10\n",
      "TrainEpoch/CM\n",
      " tensor([[10586,   474,  2560,  2394,  2437,   202,     0,   324,   160],\n",
      "        [   18, 19836,    26,     0,     0,   302,     0,     2,     0],\n",
      "        [    6,  1107, 21616,    11,   106,   727,     0,   323,     0],\n",
      "        [  249,   486,  3339, 12737,  2399,   189,    29,   346,   139],\n",
      "        [   40,   329,    40,    11, 19126,   139,     0,    35,   242],\n",
      "        [    0,  1287,    79,     0,     0, 18107,     0,   328,     0],\n",
      "        [   86,   722, 16097,  1618,   426,   331,   304,   366,    10],\n",
      "        [  143,   103,     0,     0,     0,    40,     0, 19615,     0],\n",
      "        [    3,     0,     0,     0,     0,     0,     0,     0, 19908]])\n"
     ]
    },
    {
     "data": {
      "application/vnd.jupyter.widget-view+json": {
       "model_id": "44ce5a1214a542acaa5b6d3baa6fa10d",
       "version_major": 2,
       "version_minor": 0
      },
      "text/plain": [
       "Validation: |          | 0/? [00:00<?, ?it/s]"
      ]
     },
     "metadata": {},
     "output_type": "display_data"
    },
    {
     "name": "stdout",
     "output_type": "stream",
     "text": [
      "Epoch end: Validation, epoch number: 12\n",
      "ValidationEpoch/CM\n",
      " tensor([[12159,   474,  2562,  2549,  2437,   202,     0,   324,   160],\n",
      "        [   18, 21651,    26,     0,     0,   312,     0,     2,     0],\n",
      "        [    6,  1107, 23696,    23,   118,   775,     8,   323,     0],\n",
      "        [  272,   486,  3349, 14495,  2399,   189,    38,   346,   139],\n",
      "        [   40,   329,    45,    16, 20916,   144,     0,    35,   242],\n",
      "        [    0,  1287,    79,     0,     0, 19897,     0,   328,     0],\n",
      "        [  100,   722, 17377,  1920,   431,   341,   498,   366,    10],\n",
      "        [  143,   103,     0,     0,     0,    40,     0, 21415,     0],\n",
      "        [    3,     0,     0,     0,     0,     0,     0,     0, 21708]])\n",
      "Epoch end: Train, epoch number: 11\n",
      "TrainEpoch/CM\n",
      " tensor([[12159,   474,  2562,  2549,  2437,   202,     0,   324,   160],\n",
      "        [   18, 21651,    26,     0,     0,   312,     0,     2,     0],\n",
      "        [    6,  1107, 23696,    23,   118,   775,     8,   323,     0],\n",
      "        [  272,   486,  3349, 14495,  2399,   189,    38,   346,   139],\n",
      "        [   40,   329,    45,    16, 20916,   144,     0,    35,   242],\n",
      "        [    0,  1287,    79,     0,     0, 19897,     0,   328,     0],\n",
      "        [  100,   722, 17377,  1920,   431,   341,   498,   366,    10],\n",
      "        [  143,   103,     0,     0,     0,    40,     0, 21415,     0],\n",
      "        [    3,     0,     0,     0,     0,     0,     0,     0, 21708]])\n"
     ]
    },
    {
     "data": {
      "application/vnd.jupyter.widget-view+json": {
       "model_id": "793b9a6546a847c7b03437852d3d1efe",
       "version_major": 2,
       "version_minor": 0
      },
      "text/plain": [
       "Validation: |          | 0/? [00:00<?, ?it/s]"
      ]
     },
     "metadata": {},
     "output_type": "display_data"
    },
    {
     "name": "stdout",
     "output_type": "stream",
     "text": [
      "Epoch end: Validation, epoch number: 13\n",
      "ValidationEpoch/CM\n",
      " tensor([[13821,   474,  2566,  2613,  2437,   202,     0,   324,   160],\n",
      "        [   18, 23466,    26,     0,     0,   322,     0,     2,     0],\n",
      "        [    6,  1107, 25799,    31,   130,   807,    13,   323,     0],\n",
      "        [  345,   486,  3365, 16204,  2399,   189,    40,   346,   139],\n",
      "        [   40,   329,    53,    21, 22703,   149,     0,    35,   242],\n",
      "        [    0,  1287,    82,     0,     0, 21684,     0,   328,     0],\n",
      "        [  130,   722, 18737,  2200,   436,   351,   618,   366,    10],\n",
      "        [  143,   103,     0,     0,     0,    40,     0, 23215,     0],\n",
      "        [    3,     0,     0,     0,     0,     0,     0,     0, 23508]])\n",
      "Epoch end: Train, epoch number: 12\n",
      "TrainEpoch/CM\n",
      " tensor([[13821,   474,  2566,  2613,  2437,   202,     0,   324,   160],\n",
      "        [   18, 23466,    26,     0,     0,   322,     0,     2,     0],\n",
      "        [    6,  1107, 25799,    31,   130,   807,    13,   323,     0],\n",
      "        [  345,   486,  3365, 16204,  2399,   189,    40,   346,   139],\n",
      "        [   40,   329,    53,    21, 22703,   149,     0,    35,   242],\n",
      "        [    0,  1287,    82,     0,     0, 21684,     0,   328,     0],\n",
      "        [  130,   722, 18737,  2200,   436,   351,   618,   366,    10],\n",
      "        [  143,   103,     0,     0,     0,    40,     0, 23215,     0],\n",
      "        [    3,     0,     0,     0,     0,     0,     0,     0, 23508]])\n"
     ]
    },
    {
     "name": "stderr",
     "output_type": "stream",
     "text": [
      "Metric Validation/Accuracy improved by 0.004 >= min_delta = 0.0. New best score: 0.884\n"
     ]
    },
    {
     "data": {
      "application/vnd.jupyter.widget-view+json": {
       "model_id": "567c7decd54746c98406059d31925e0c",
       "version_major": 2,
       "version_minor": 0
      },
      "text/plain": [
       "Validation: |          | 0/? [00:00<?, ?it/s]"
      ]
     },
     "metadata": {},
     "output_type": "display_data"
    },
    {
     "name": "stdout",
     "output_type": "stream",
     "text": [
      "Epoch end: Validation, epoch number: 14\n",
      "ValidationEpoch/CM\n",
      " tensor([[15492,   474,  2568,  2670,  2437,   202,     0,   324,   160],\n",
      "        [   18, 25281,    26,     0,     0,   332,     0,     2,     0],\n",
      "        [    6,  1107, 27867,    43,   142,   854,    34,   323,     0],\n",
      "        [  422,   486,  3376, 17911,  2399,   189,    45,   346,   139],\n",
      "        [   40,   329,    60,    26, 24491,   154,     0,    35,   242],\n",
      "        [    0,  1287,    82,     0,     0, 23474,     0,   328,     0],\n",
      "        [  167,   722, 19985,  2482,   441,   361,   841,   366,    10],\n",
      "        [  143,   103,     0,     0,     0,    40,     0, 25015,     0],\n",
      "        [    3,     0,     0,     0,     0,     0,     0,     0, 25308]])\n",
      "Epoch end: Train, epoch number: 13\n",
      "TrainEpoch/CM\n",
      " tensor([[15492,   474,  2568,  2670,  2437,   202,     0,   324,   160],\n",
      "        [   18, 25281,    26,     0,     0,   332,     0,     2,     0],\n",
      "        [    6,  1107, 27867,    43,   142,   854,    34,   323,     0],\n",
      "        [  422,   486,  3376, 17911,  2399,   189,    45,   346,   139],\n",
      "        [   40,   329,    60,    26, 24491,   154,     0,    35,   242],\n",
      "        [    0,  1287,    82,     0,     0, 23474,     0,   328,     0],\n",
      "        [  167,   722, 19985,  2482,   441,   361,   841,   366,    10],\n",
      "        [  143,   103,     0,     0,     0,    40,     0, 25015,     0],\n",
      "        [    3,     0,     0,     0,     0,     0,     0,     0, 25308]])\n"
     ]
    },
    {
     "name": "stderr",
     "output_type": "stream",
     "text": [
      "Metric Validation/Accuracy improved by 0.002 >= min_delta = 0.0. New best score: 0.886\n"
     ]
    },
    {
     "data": {
      "application/vnd.jupyter.widget-view+json": {
       "model_id": "0964b40a0db24abcba708ba3cc3d2279",
       "version_major": 2,
       "version_minor": 0
      },
      "text/plain": [
       "Validation: |          | 0/? [00:00<?, ?it/s]"
      ]
     },
     "metadata": {},
     "output_type": "display_data"
    },
    {
     "name": "stdout",
     "output_type": "stream",
     "text": [
      "Epoch end: Validation, epoch number: 15\n",
      "ValidationEpoch/CM\n",
      " tensor([[17179,   474,  2569,  2712,  2437,   202,     0,   324,   160],\n",
      "        [   18, 27096,    26,     0,     0,   342,     0,     2,     0],\n",
      "        [    6,  1107, 29941,    55,   154,   897,    53,   323,     0],\n",
      "        [  511,   486,  3391, 19602,  2399,   189,    50,   346,   139],\n",
      "        [   40,   329,    70,    31, 26276,   159,     0,    35,   242],\n",
      "        [    0,  1287,    83,     0,     0, 25263,     0,   328,     0],\n",
      "        [  207,   722, 21237,  2735,   446,   371,  1086,   366,    10],\n",
      "        [  143,   103,     0,     0,     0,    40,     0, 26815,     0],\n",
      "        [    3,     0,     0,     0,     0,     0,     0,     0, 27108]])\n",
      "Epoch end: Train, epoch number: 14\n",
      "TrainEpoch/CM\n",
      " tensor([[17179,   474,  2569,  2712,  2437,   202,     0,   324,   160],\n",
      "        [   18, 27096,    26,     0,     0,   342,     0,     2,     0],\n",
      "        [    6,  1107, 29941,    55,   154,   897,    53,   323,     0],\n",
      "        [  511,   486,  3391, 19602,  2399,   189,    50,   346,   139],\n",
      "        [   40,   329,    70,    31, 26276,   159,     0,    35,   242],\n",
      "        [    0,  1287,    83,     0,     0, 25263,     0,   328,     0],\n",
      "        [  207,   722, 21237,  2735,   446,   371,  1086,   366,    10],\n",
      "        [  143,   103,     0,     0,     0,    40,     0, 26815,     0],\n",
      "        [    3,     0,     0,     0,     0,     0,     0,     0, 27108]])\n"
     ]
    },
    {
     "data": {
      "application/vnd.jupyter.widget-view+json": {
       "model_id": "fceab50d8339430ea394c7388e96f99e",
       "version_major": 2,
       "version_minor": 0
      },
      "text/plain": [
       "Validation: |          | 0/? [00:00<?, ?it/s]"
      ]
     },
     "metadata": {},
     "output_type": "display_data"
    },
    {
     "name": "stdout",
     "output_type": "stream",
     "text": [
      "Epoch end: Validation, epoch number: 16\n",
      "ValidationEpoch/CM\n",
      " tensor([[18867,   474,  2569,  2754,  2437,   202,     0,   324,   160],\n",
      "        [   18, 28911,    26,     0,     0,   352,     0,     2,     0],\n",
      "        [    6,  1107, 32006,    67,   166,   942,    79,   323,     0],\n",
      "        [  591,   486,  3401, 21306,  2399,   189,    56,   346,   139],\n",
      "        [   40,   329,    75,    36, 28066,   164,     0,    35,   242],\n",
      "        [    0,  1287,    83,     0,     0, 27053,     0,   328,     0],\n",
      "        [  251,   722, 22392,  3001,   451,   381,  1411,   366,    10],\n",
      "        [  143,   103,     0,     0,     0,    40,     0, 28615,     0],\n",
      "        [    3,     0,     0,     0,     0,     0,     0,     0, 28908]])\n",
      "Epoch end: Train, epoch number: 15\n",
      "TrainEpoch/CM\n",
      " tensor([[18867,   474,  2569,  2754,  2437,   202,     0,   324,   160],\n",
      "        [   18, 28911,    26,     0,     0,   352,     0,     2,     0],\n",
      "        [    6,  1107, 32006,    67,   166,   942,    79,   323,     0],\n",
      "        [  591,   486,  3401, 21306,  2399,   189,    56,   346,   139],\n",
      "        [   40,   329,    75,    36, 28066,   164,     0,    35,   242],\n",
      "        [    0,  1287,    83,     0,     0, 27053,     0,   328,     0],\n",
      "        [  251,   722, 22392,  3001,   451,   381,  1411,   366,    10],\n",
      "        [  143,   103,     0,     0,     0,    40,     0, 28615,     0],\n",
      "        [    3,     0,     0,     0,     0,     0,     0,     0, 28908]])\n"
     ]
    },
    {
     "name": "stderr",
     "output_type": "stream",
     "text": [
      "Metric Validation/Accuracy improved by 0.005 >= min_delta = 0.0. New best score: 0.891\n"
     ]
    },
    {
     "data": {
      "application/vnd.jupyter.widget-view+json": {
       "model_id": "578a507e32a94721955bbeb4baa0b64b",
       "version_major": 2,
       "version_minor": 0
      },
      "text/plain": [
       "Validation: |          | 0/? [00:00<?, ?it/s]"
      ]
     },
     "metadata": {},
     "output_type": "display_data"
    },
    {
     "name": "stdout",
     "output_type": "stream",
     "text": [
      "Epoch end: Validation, epoch number: 17\n",
      "ValidationEpoch/CM\n",
      " tensor([[20543,   474,  2569,  2808,  2437,   202,     0,   324,   160],\n",
      "        [   18, 30726,    26,     0,     0,   362,     0,     2,     0],\n",
      "        [    6,  1107, 34077,    79,   178,   983,   103,   323,     0],\n",
      "        [  658,   486,  3412, 23023,  2399,   189,    61,   346,   139],\n",
      "        [   40,   329,    83,    41, 29853,   169,     0,    35,   242],\n",
      "        [    0,  1287,    84,     0,     0, 28842,     0,   328,     0],\n",
      "        [  278,   722, 23598,  3276,   456,   391,  1693,   366,    10],\n",
      "        [  143,   103,     0,     0,     0,    40,     0, 30415,     0],\n",
      "        [    3,     0,     0,     0,     0,     0,     0,     0, 30708]])\n",
      "Epoch end: Train, epoch number: 16\n",
      "TrainEpoch/CM\n",
      " tensor([[20543,   474,  2569,  2808,  2437,   202,     0,   324,   160],\n",
      "        [   18, 30726,    26,     0,     0,   362,     0,     2,     0],\n",
      "        [    6,  1107, 34077,    79,   178,   983,   103,   323,     0],\n",
      "        [  658,   486,  3412, 23023,  2399,   189,    61,   346,   139],\n",
      "        [   40,   329,    83,    41, 29853,   169,     0,    35,   242],\n",
      "        [    0,  1287,    84,     0,     0, 28842,     0,   328,     0],\n",
      "        [  278,   722, 23598,  3276,   456,   391,  1693,   366,    10],\n",
      "        [  143,   103,     0,     0,     0,    40,     0, 30415,     0],\n",
      "        [    3,     0,     0,     0,     0,     0,     0,     0, 30708]])\n"
     ]
    },
    {
     "data": {
      "application/vnd.jupyter.widget-view+json": {
       "model_id": "5534061d48594fd3b61eeb4ce3f9228e",
       "version_major": 2,
       "version_minor": 0
      },
      "text/plain": [
       "Validation: |          | 0/? [00:00<?, ?it/s]"
      ]
     },
     "metadata": {},
     "output_type": "display_data"
    },
    {
     "name": "stdout",
     "output_type": "stream",
     "text": [
      "Epoch end: Validation, epoch number: 18\n",
      "ValidationEpoch/CM\n",
      " tensor([[22233,   474,  2569,  2848,  2437,   202,     0,   324,   160],\n",
      "        [   18, 32541,    26,     0,     0,   372,     0,     2,     0],\n",
      "        [    6,  1107, 36144,    91,   190,  1024,   131,   323,     0],\n",
      "        [  740,   486,  3424, 24723,  2399,   189,    67,   346,   139],\n",
      "        [   40,   329,    92,    46, 31639,   174,     0,    35,   242],\n",
      "        [    0,  1287,    86,     0,     0, 30630,     0,   328,     0],\n",
      "        [  316,   722, 24743,  3535,   461,   401,  2041,   366,    10],\n",
      "        [  143,   103,     0,     0,     0,    40,     0, 32215,     0],\n",
      "        [    3,     0,     0,     0,     0,     0,     0,     0, 32508]])\n",
      "Epoch end: Train, epoch number: 17\n",
      "TrainEpoch/CM\n",
      " tensor([[22233,   474,  2569,  2848,  2437,   202,     0,   324,   160],\n",
      "        [   18, 32541,    26,     0,     0,   372,     0,     2,     0],\n",
      "        [    6,  1107, 36144,    91,   190,  1024,   131,   323,     0],\n",
      "        [  740,   486,  3424, 24723,  2399,   189,    67,   346,   139],\n",
      "        [   40,   329,    92,    46, 31639,   174,     0,    35,   242],\n",
      "        [    0,  1287,    86,     0,     0, 30630,     0,   328,     0],\n",
      "        [  316,   722, 24743,  3535,   461,   401,  2041,   366,    10],\n",
      "        [  143,   103,     0,     0,     0,    40,     0, 32215,     0],\n",
      "        [    3,     0,     0,     0,     0,     0,     0,     0, 32508]])\n"
     ]
    },
    {
     "data": {
      "application/vnd.jupyter.widget-view+json": {
       "model_id": "b64b7f4129e44c948a04ed0681addaa6",
       "version_major": 2,
       "version_minor": 0
      },
      "text/plain": [
       "Validation: |          | 0/? [00:00<?, ?it/s]"
      ]
     },
     "metadata": {},
     "output_type": "display_data"
    },
    {
     "name": "stdout",
     "output_type": "stream",
     "text": [
      "Epoch end: Validation, epoch number: 19\n",
      "ValidationEpoch/CM\n",
      " tensor([[23923,   474,  2569,  2888,  2437,   202,     0,   324,   160],\n",
      "        [   18, 34356,    26,     0,     0,   382,     0,     2,     0],\n",
      "        [    6,  1107, 38209,   103,   202,  1063,   163,   323,     0],\n",
      "        [  822,   486,  3436, 26420,  2399,   189,    76,   346,   139],\n",
      "        [   40,   329,   100,    51, 33426,   179,     0,    35,   242],\n",
      "        [    0,  1287,    88,     0,     0, 32418,     0,   328,     0],\n",
      "        [  356,   722, 25809,  3789,   466,   408,  2474,   366,    10],\n",
      "        [  143,   103,     0,     0,     0,    40,     0, 34015,     0],\n",
      "        [    3,     0,     0,     0,     0,     0,     0,     0, 34308]])\n"
     ]
    },
    {
     "name": "stderr",
     "output_type": "stream",
     "text": [
      "Metric Validation/Accuracy improved by 0.008 >= min_delta = 0.0. New best score: 0.899\n"
     ]
    },
    {
     "name": "stdout",
     "output_type": "stream",
     "text": [
      "Epoch end: Train, epoch number: 18\n",
      "TrainEpoch/CM\n",
      " tensor([[23923,   474,  2569,  2888,  2437,   202,     0,   324,   160],\n",
      "        [   18, 34356,    26,     0,     0,   382,     0,     2,     0],\n",
      "        [    6,  1107, 38209,   103,   202,  1063,   163,   323,     0],\n",
      "        [  822,   486,  3436, 26420,  2399,   189,    76,   346,   139],\n",
      "        [   40,   329,   100,    51, 33426,   179,     0,    35,   242],\n",
      "        [    0,  1287,    88,     0,     0, 32418,     0,   328,     0],\n",
      "        [  356,   722, 25809,  3789,   466,   408,  2474,   366,    10],\n",
      "        [  143,   103,     0,     0,     0,    40,     0, 34015,     0],\n",
      "        [    3,     0,     0,     0,     0,     0,     0,     0, 34308]])\n"
     ]
    },
    {
     "data": {
      "application/vnd.jupyter.widget-view+json": {
       "model_id": "b2b8fe8cf62749dd920eeb16de7d9c5d",
       "version_major": 2,
       "version_minor": 0
      },
      "text/plain": [
       "Validation: |          | 0/? [00:00<?, ?it/s]"
      ]
     },
     "metadata": {},
     "output_type": "display_data"
    },
    {
     "name": "stdout",
     "output_type": "stream",
     "text": [
      "Epoch end: Validation, epoch number: 20\n",
      "ValidationEpoch/CM\n",
      " tensor([[25611,   474,  2569,  2930,  2437,   202,     0,   324,   160],\n",
      "        [   18, 36171,    26,     0,     0,   392,     0,     2,     0],\n",
      "        [    6,  1107, 40275,   115,   214,  1104,   192,   323,     0],\n",
      "        [  907,   486,  3445, 28119,  2399,   189,    83,   346,   139],\n",
      "        [   40,   329,   108,    56, 35213,   184,     0,    35,   242],\n",
      "        [    0,  1287,    88,     0,     0, 34208,     0,   328,     0],\n",
      "        [  388,   722, 26899,  4057,   471,   418,  2874,   366,    10],\n",
      "        [  143,   103,     0,     0,     0,    40,     0, 35815,     0],\n",
      "        [    3,     0,     0,     0,     0,     0,     0,     0, 36108]])\n",
      "Epoch end: Train, epoch number: 19\n",
      "TrainEpoch/CM\n",
      " tensor([[25611,   474,  2569,  2930,  2437,   202,     0,   324,   160],\n",
      "        [   18, 36171,    26,     0,     0,   392,     0,     2,     0],\n",
      "        [    6,  1107, 40275,   115,   214,  1104,   192,   323,     0],\n",
      "        [  907,   486,  3445, 28119,  2399,   189,    83,   346,   139],\n",
      "        [   40,   329,   108,    56, 35213,   184,     0,    35,   242],\n",
      "        [    0,  1287,    88,     0,     0, 34208,     0,   328,     0],\n",
      "        [  388,   722, 26899,  4057,   471,   418,  2874,   366,    10],\n",
      "        [  143,   103,     0,     0,     0,    40,     0, 35815,     0],\n",
      "        [    3,     0,     0,     0,     0,     0,     0,     0, 36108]])\n"
     ]
    },
    {
     "data": {
      "application/vnd.jupyter.widget-view+json": {
       "model_id": "86e1f66fee824d08b9ab9d2baad4799b",
       "version_major": 2,
       "version_minor": 0
      },
      "text/plain": [
       "Validation: |          | 0/? [00:00<?, ?it/s]"
      ]
     },
     "metadata": {},
     "output_type": "display_data"
    },
    {
     "name": "stdout",
     "output_type": "stream",
     "text": [
      "Epoch end: Validation, epoch number: 21\n",
      "ValidationEpoch/CM\n",
      " tensor([[27298,   474,  2569,  2973,  2437,   202,     0,   324,   160],\n",
      "        [   18, 37986,    26,     0,     0,   402,     0,     2,     0],\n",
      "        [    6,  1107, 42335,   127,   226,  1144,   228,   323,     0],\n",
      "        [  985,   486,  3453, 29825,  2399,   189,    91,   346,   139],\n",
      "        [   40,   329,   119,    64, 36994,   189,     0,    35,   242],\n",
      "        [    0,  1287,    92,     0,     0, 35994,     0,   328,     0],\n",
      "        [  418,   722, 27966,  4321,   476,   425,  3306,   366,    10],\n",
      "        [  143,   103,     0,     0,     0,    40,     0, 37615,     0],\n",
      "        [    3,     0,     0,     0,     0,     0,     0,     0, 37908]])\n",
      "Epoch end: Train, epoch number: 20\n",
      "TrainEpoch/CM\n",
      " tensor([[27298,   474,  2569,  2973,  2437,   202,     0,   324,   160],\n",
      "        [   18, 37986,    26,     0,     0,   402,     0,     2,     0],\n",
      "        [    6,  1107, 42335,   127,   226,  1144,   228,   323,     0],\n",
      "        [  985,   486,  3453, 29825,  2399,   189,    91,   346,   139],\n",
      "        [   40,   329,   119,    64, 36994,   189,     0,    35,   242],\n",
      "        [    0,  1287,    92,     0,     0, 35994,     0,   328,     0],\n",
      "        [  418,   722, 27966,  4321,   476,   425,  3306,   366,    10],\n",
      "        [  143,   103,     0,     0,     0,    40,     0, 37615,     0],\n",
      "        [    3,     0,     0,     0,     0,     0,     0,     0, 37908]])\n"
     ]
    },
    {
     "name": "stderr",
     "output_type": "stream",
     "text": [
      "Metric Validation/Accuracy improved by 0.003 >= min_delta = 0.0. New best score: 0.902\n"
     ]
    },
    {
     "data": {
      "application/vnd.jupyter.widget-view+json": {
       "model_id": "f10046a14d934231b3725828f0764723",
       "version_major": 2,
       "version_minor": 0
      },
      "text/plain": [
       "Validation: |          | 0/? [00:00<?, ?it/s]"
      ]
     },
     "metadata": {},
     "output_type": "display_data"
    },
    {
     "name": "stdout",
     "output_type": "stream",
     "text": [
      "Epoch end: Validation, epoch number: 22\n",
      "ValidationEpoch/CM\n",
      " tensor([[28994,   474,  2569,  3007,  2437,   202,     0,   324,   160],\n",
      "        [   18, 39801,    26,     0,     0,   412,     0,     2,     0],\n",
      "        [    6,  1107, 44366,   139,   238,  1184,   293,   323,     0],\n",
      "        [ 1074,   486,  3458, 31519,  2399,   189,   103,   346,   139],\n",
      "        [   40,   329,   126,    69, 38782,   194,     0,    35,   242],\n",
      "        [    0,  1287,    92,     0,     0, 37784,     0,   328,     0],\n",
      "        [  463,   722, 28876,  4550,   481,   430,  3917,   366,    10],\n",
      "        [  143,   103,     0,     0,     0,    40,     0, 39415,     0],\n",
      "        [    3,     0,     0,     0,     0,     0,     0,     0, 39708]])\n"
     ]
    },
    {
     "name": "stderr",
     "output_type": "stream",
     "text": [
      "Metric Validation/Accuracy improved by 0.002 >= min_delta = 0.0. New best score: 0.905\n"
     ]
    },
    {
     "name": "stdout",
     "output_type": "stream",
     "text": [
      "Epoch end: Train, epoch number: 21\n",
      "TrainEpoch/CM\n",
      " tensor([[28994,   474,  2569,  3007,  2437,   202,     0,   324,   160],\n",
      "        [   18, 39801,    26,     0,     0,   412,     0,     2,     0],\n",
      "        [    6,  1107, 44366,   139,   238,  1184,   293,   323,     0],\n",
      "        [ 1074,   486,  3458, 31519,  2399,   189,   103,   346,   139],\n",
      "        [   40,   329,   126,    69, 38782,   194,     0,    35,   242],\n",
      "        [    0,  1287,    92,     0,     0, 37784,     0,   328,     0],\n",
      "        [  463,   722, 28876,  4550,   481,   430,  3917,   366,    10],\n",
      "        [  143,   103,     0,     0,     0,    40,     0, 39415,     0],\n",
      "        [    3,     0,     0,     0,     0,     0,     0,     0, 39708]])\n"
     ]
    },
    {
     "data": {
      "application/vnd.jupyter.widget-view+json": {
       "model_id": "a3ecab6119684b56a402c15c34bd05c5",
       "version_major": 2,
       "version_minor": 0
      },
      "text/plain": [
       "Validation: |          | 0/? [00:00<?, ?it/s]"
      ]
     },
     "metadata": {},
     "output_type": "display_data"
    },
    {
     "name": "stdout",
     "output_type": "stream",
     "text": [
      "Epoch end: Validation, epoch number: 23\n",
      "ValidationEpoch/CM\n",
      " tensor([[30685,   474,  2569,  3046,  2437,   202,     0,   324,   160],\n",
      "        [   18, 41616,    26,     0,     0,   422,     0,     2,     0],\n",
      "        [    6,  1107, 46420,   151,   250,  1220,   339,   323,     0],\n",
      "        [ 1147,   486,  3463, 33229,  2399,   189,   115,   346,   139],\n",
      "        [   40,   329,   134,    76, 40567,   199,     0,    35,   242],\n",
      "        [    0,  1287,    97,     0,     0, 39569,     0,   328,     0],\n",
      "        [  501,   722, 29845,  4801,   486,   435,  4454,   366,    10],\n",
      "        [  143,   103,     0,     0,     0,    40,     0, 41215,     0],\n",
      "        [    3,     0,     0,     0,     0,     0,     0,     0, 41508]])\n",
      "Epoch end: Train, epoch number: 22\n",
      "TrainEpoch/CM\n",
      " tensor([[30685,   474,  2569,  3046,  2437,   202,     0,   324,   160],\n",
      "        [   18, 41616,    26,     0,     0,   422,     0,     2,     0],\n",
      "        [    6,  1107, 46420,   151,   250,  1220,   339,   323,     0],\n",
      "        [ 1147,   486,  3463, 33229,  2399,   189,   115,   346,   139],\n",
      "        [   40,   329,   134,    76, 40567,   199,     0,    35,   242],\n",
      "        [    0,  1287,    97,     0,     0, 39569,     0,   328,     0],\n",
      "        [  501,   722, 29845,  4801,   486,   435,  4454,   366,    10],\n",
      "        [  143,   103,     0,     0,     0,    40,     0, 41215,     0],\n",
      "        [    3,     0,     0,     0,     0,     0,     0,     0, 41508]])\n"
     ]
    },
    {
     "data": {
      "application/vnd.jupyter.widget-view+json": {
       "model_id": "b07170d31703433790024a3e47c3fcc8",
       "version_major": 2,
       "version_minor": 0
      },
      "text/plain": [
       "Validation: |          | 0/? [00:00<?, ?it/s]"
      ]
     },
     "metadata": {},
     "output_type": "display_data"
    },
    {
     "name": "stdout",
     "output_type": "stream",
     "text": [
      "Epoch end: Validation, epoch number: 24\n",
      "ValidationEpoch/CM\n",
      " tensor([[32380,   474,  2569,  3081,  2437,   202,     0,   324,   160],\n",
      "        [   18, 43431,    26,     0,     0,   432,     0,     2,     0],\n",
      "        [    6,  1107, 48478,   163,   262,  1255,   382,   323,     0],\n",
      "        [ 1227,   486,  3468, 34929,  2399,   189,   130,   346,   139],\n",
      "        [   40,   329,   143,    85, 42349,   204,     0,    35,   242],\n",
      "        [    0,  1287,   102,     0,     0, 41354,     0,   328,     0],\n",
      "        [  540,   722, 30792,  5038,   490,   440,  5027,   366,    10],\n",
      "        [  143,   103,     0,     0,     0,    40,     0, 43015,     0],\n",
      "        [    3,     0,     0,     0,     0,     0,     0,     0, 43308]])\n",
      "Epoch end: Train, epoch number: 23\n",
      "TrainEpoch/CM\n",
      " tensor([[32380,   474,  2569,  3081,  2437,   202,     0,   324,   160],\n",
      "        [   18, 43431,    26,     0,     0,   432,     0,     2,     0],\n",
      "        [    6,  1107, 48478,   163,   262,  1255,   382,   323,     0],\n",
      "        [ 1227,   486,  3468, 34929,  2399,   189,   130,   346,   139],\n",
      "        [   40,   329,   143,    85, 42349,   204,     0,    35,   242],\n",
      "        [    0,  1287,   102,     0,     0, 41354,     0,   328,     0],\n",
      "        [  540,   722, 30792,  5038,   490,   440,  5027,   366,    10],\n",
      "        [  143,   103,     0,     0,     0,    40,     0, 43015,     0],\n",
      "        [    3,     0,     0,     0,     0,     0,     0,     0, 43308]])\n"
     ]
    },
    {
     "name": "stderr",
     "output_type": "stream",
     "text": [
      "Metric Validation/Accuracy improved by 0.002 >= min_delta = 0.0. New best score: 0.907\n"
     ]
    },
    {
     "data": {
      "application/vnd.jupyter.widget-view+json": {
       "model_id": "3ff3179437024d5b839eb9b94b87af8c",
       "version_major": 2,
       "version_minor": 0
      },
      "text/plain": [
       "Validation: |          | 0/? [00:00<?, ?it/s]"
      ]
     },
     "metadata": {},
     "output_type": "display_data"
    },
    {
     "name": "stdout",
     "output_type": "stream",
     "text": [
      "Epoch end: Validation, epoch number: 25\n",
      "ValidationEpoch/CM\n",
      " tensor([[34076,   474,  2569,  3115,  2437,   202,     0,   324,   160],\n",
      "        [   18, 45246,    26,     0,     0,   442,     0,     2,     0],\n",
      "        [    6,  1107, 50530,   175,   274,  1291,   430,   323,     0],\n",
      "        [ 1316,   486,  3471, 36626,  2399,   189,   141,   346,   139],\n",
      "        [   40,   329,   151,    93, 44133,   209,     0,    35,   242],\n",
      "        [    0,  1287,   106,     0,     0, 43140,     0,   328,     0],\n",
      "        [  585,   722, 31697,  5278,   490,   445,  5637,   366,    10],\n",
      "        [  143,   103,     0,     0,     0,    40,     0, 44815,     0],\n",
      "        [    3,     0,     0,     0,     0,     0,     0,     0, 45108]])\n",
      "Epoch end: Train, epoch number: 24\n",
      "TrainEpoch/CM\n",
      " tensor([[34076,   474,  2569,  3115,  2437,   202,     0,   324,   160],\n",
      "        [   18, 45246,    26,     0,     0,   442,     0,     2,     0],\n",
      "        [    6,  1107, 50530,   175,   274,  1291,   430,   323,     0],\n",
      "        [ 1316,   486,  3471, 36626,  2399,   189,   141,   346,   139],\n",
      "        [   40,   329,   151,    93, 44133,   209,     0,    35,   242],\n",
      "        [    0,  1287,   106,     0,     0, 43140,     0,   328,     0],\n",
      "        [  585,   722, 31697,  5278,   490,   445,  5637,   366,    10],\n",
      "        [  143,   103,     0,     0,     0,    40,     0, 44815,     0],\n",
      "        [    3,     0,     0,     0,     0,     0,     0,     0, 45108]])\n"
     ]
    },
    {
     "data": {
      "application/vnd.jupyter.widget-view+json": {
       "model_id": "cea3c26d2cb7411e8a809655641e4d4c",
       "version_major": 2,
       "version_minor": 0
      },
      "text/plain": [
       "Validation: |          | 0/? [00:00<?, ?it/s]"
      ]
     },
     "metadata": {},
     "output_type": "display_data"
    },
    {
     "name": "stdout",
     "output_type": "stream",
     "text": [
      "Epoch end: Validation, epoch number: 26\n",
      "ValidationEpoch/CM\n",
      " tensor([[35768,   474,  2569,  3153,  2437,   202,     0,   324,   160],\n",
      "        [   18, 47061,    26,     0,     0,   452,     0,     2,     0],\n",
      "        [    6,  1107, 52582,   187,   280,  1327,   484,   323,     0],\n",
      "        [ 1385,   486,  3471, 38341,  2399,   189,   157,   346,   139],\n",
      "        [   40,   329,   159,    99, 45919,   214,     0,    35,   242],\n",
      "        [    0,  1287,   109,     0,     0, 44927,     0,   328,     0],\n",
      "        [  618,   722, 32580,  5516,   490,   450,  6283,   366,    10],\n",
      "        [  143,   103,     0,     0,     0,    40,     0, 46615,     0],\n",
      "        [    3,     0,     0,     0,     0,     0,     0,     0, 46908]])\n",
      "Epoch end: Train, epoch number: 25\n",
      "TrainEpoch/CM\n",
      " tensor([[35768,   474,  2569,  3153,  2437,   202,     0,   324,   160],\n",
      "        [   18, 47061,    26,     0,     0,   452,     0,     2,     0],\n",
      "        [    6,  1107, 52582,   187,   280,  1327,   484,   323,     0],\n",
      "        [ 1385,   486,  3471, 38341,  2399,   189,   157,   346,   139],\n",
      "        [   40,   329,   159,    99, 45919,   214,     0,    35,   242],\n",
      "        [    0,  1287,   109,     0,     0, 44927,     0,   328,     0],\n",
      "        [  618,   722, 32580,  5516,   490,   450,  6283,   366,    10],\n",
      "        [  143,   103,     0,     0,     0,    40,     0, 46615,     0],\n",
      "        [    3,     0,     0,     0,     0,     0,     0,     0, 46908]])\n"
     ]
    },
    {
     "name": "stderr",
     "output_type": "stream",
     "text": [
      "Metric Validation/Accuracy improved by 0.002 >= min_delta = 0.0. New best score: 0.908\n"
     ]
    },
    {
     "data": {
      "application/vnd.jupyter.widget-view+json": {
       "model_id": "3cbc6b2e8efe4ce18365d7430353bc8b",
       "version_major": 2,
       "version_minor": 0
      },
      "text/plain": [
       "Validation: |          | 0/? [00:00<?, ?it/s]"
      ]
     },
     "metadata": {},
     "output_type": "display_data"
    },
    {
     "name": "stdout",
     "output_type": "stream",
     "text": [
      "Epoch end: Validation, epoch number: 27\n",
      "ValidationEpoch/CM\n",
      " tensor([[37468,   474,  2569,  3183,  2437,   202,     0,   324,   160],\n",
      "        [   18, 48876,    26,     0,     0,   462,     0,     2,     0],\n",
      "        [    6,  1107, 54619,   199,   288,  1365,   549,   323,     0],\n",
      "        [ 1496,   486,  3471, 40015,  2399,   189,   172,   346,   139],\n",
      "        [   40,   329,   170,   104, 47703,   219,     0,    35,   242],\n",
      "        [    0,  1287,   109,     0,     0, 46717,     0,   328,     0],\n",
      "        [  666,   722, 33434,  5719,   490,   455,  6978,   366,    10],\n",
      "        [  143,   103,     0,     0,     0,    40,     0, 48415,     0],\n",
      "        [    3,     0,     0,     0,     0,     0,     0,     0, 48708]])\n"
     ]
    },
    {
     "name": "stderr",
     "output_type": "stream",
     "text": [
      "Metric Validation/Accuracy improved by 0.000 >= min_delta = 0.0. New best score: 0.909\n"
     ]
    },
    {
     "name": "stdout",
     "output_type": "stream",
     "text": [
      "Epoch end: Train, epoch number: 26\n",
      "TrainEpoch/CM\n",
      " tensor([[37468,   474,  2569,  3183,  2437,   202,     0,   324,   160],\n",
      "        [   18, 48876,    26,     0,     0,   462,     0,     2,     0],\n",
      "        [    6,  1107, 54619,   199,   288,  1365,   549,   323,     0],\n",
      "        [ 1496,   486,  3471, 40015,  2399,   189,   172,   346,   139],\n",
      "        [   40,   329,   170,   104, 47703,   219,     0,    35,   242],\n",
      "        [    0,  1287,   109,     0,     0, 46717,     0,   328,     0],\n",
      "        [  666,   722, 33434,  5719,   490,   455,  6978,   366,    10],\n",
      "        [  143,   103,     0,     0,     0,    40,     0, 48415,     0],\n",
      "        [    3,     0,     0,     0,     0,     0,     0,     0, 48708]])\n"
     ]
    },
    {
     "data": {
      "application/vnd.jupyter.widget-view+json": {
       "model_id": "25299d669c48473fb2da1e616715a6e2",
       "version_major": 2,
       "version_minor": 0
      },
      "text/plain": [
       "Validation: |          | 0/? [00:00<?, ?it/s]"
      ]
     },
     "metadata": {},
     "output_type": "display_data"
    },
    {
     "name": "stdout",
     "output_type": "stream",
     "text": [
      "Epoch end: Validation, epoch number: 28\n",
      "ValidationEpoch/CM\n",
      " tensor([[39163,   474,  2569,  3218,  2437,   202,     0,   324,   160],\n",
      "        [   18, 50691,    26,     0,     0,   472,     0,     2,     0],\n",
      "        [    6,  1107, 56674,   211,   288,  1396,   611,   323,     0],\n",
      "        [ 1566,   486,  3474, 41720,  2399,   189,   194,   346,   139],\n",
      "        [   40,   329,   184,   114, 49479,   224,     0,    35,   242],\n",
      "        [    0,  1287,   114,     0,     0, 48502,     0,   328,     0],\n",
      "        [  701,   722, 34308,  5926,   490,   460,  7662,   366,    10],\n",
      "        [  143,   103,     0,     0,     0,    40,     0, 50215,     0],\n",
      "        [    3,     0,     0,     0,     0,     0,     0,     0, 50508]])\n",
      "Epoch end: Train, epoch number: 27\n",
      "TrainEpoch/CM\n",
      " tensor([[39163,   474,  2569,  3218,  2437,   202,     0,   324,   160],\n",
      "        [   18, 50691,    26,     0,     0,   472,     0,     2,     0],\n",
      "        [    6,  1107, 56674,   211,   288,  1396,   611,   323,     0],\n",
      "        [ 1566,   486,  3474, 41720,  2399,   189,   194,   346,   139],\n",
      "        [   40,   329,   184,   114, 49479,   224,     0,    35,   242],\n",
      "        [    0,  1287,   114,     0,     0, 48502,     0,   328,     0],\n",
      "        [  701,   722, 34308,  5926,   490,   460,  7662,   366,    10],\n",
      "        [  143,   103,     0,     0,     0,    40,     0, 50215,     0],\n",
      "        [    3,     0,     0,     0,     0,     0,     0,     0, 50508]])\n"
     ]
    },
    {
     "name": "stderr",
     "output_type": "stream",
     "text": [
      "Metric Validation/Accuracy improved by 0.002 >= min_delta = 0.0. New best score: 0.910\n"
     ]
    },
    {
     "data": {
      "application/vnd.jupyter.widget-view+json": {
       "model_id": "50269e3edccc46b9b625afd96cc458c3",
       "version_major": 2,
       "version_minor": 0
      },
      "text/plain": [
       "Validation: |          | 0/? [00:00<?, ?it/s]"
      ]
     },
     "metadata": {},
     "output_type": "display_data"
    },
    {
     "name": "stdout",
     "output_type": "stream",
     "text": [
      "Epoch end: Validation, epoch number: 29\n",
      "ValidationEpoch/CM\n",
      " tensor([[40863,   474,  2569,  3248,  2437,   202,     0,   324,   160],\n",
      "        [   18, 52506,    26,     0,     0,   482,     0,     2,     0],\n",
      "        [    6,  1107, 58733,   223,   288,  1432,   664,   323,     0],\n",
      "        [ 1650,   486,  3474, 43419,  2399,   189,   211,   346,   139],\n",
      "        [   40,   329,   193,   122, 51262,   229,     0,    35,   242],\n",
      "        [    0,  1287,   117,     0,     0, 50289,     0,   328,     0],\n",
      "        [  748,   722, 35216,  6144,   490,   465,  8289,   366,    10],\n",
      "        [  143,   103,     0,     0,     0,    40,     0, 52015,     0],\n",
      "        [    3,     0,     0,     0,     0,     0,     0,     0, 52308]])\n",
      "Epoch end: Train, epoch number: 28\n",
      "TrainEpoch/CM\n",
      " tensor([[40863,   474,  2569,  3248,  2437,   202,     0,   324,   160],\n",
      "        [   18, 52506,    26,     0,     0,   482,     0,     2,     0],\n",
      "        [    6,  1107, 58733,   223,   288,  1432,   664,   323,     0],\n",
      "        [ 1650,   486,  3474, 43419,  2399,   189,   211,   346,   139],\n",
      "        [   40,   329,   193,   122, 51262,   229,     0,    35,   242],\n",
      "        [    0,  1287,   117,     0,     0, 50289,     0,   328,     0],\n",
      "        [  748,   722, 35216,  6144,   490,   465,  8289,   366,    10],\n",
      "        [  143,   103,     0,     0,     0,    40,     0, 52015,     0],\n",
      "        [    3,     0,     0,     0,     0,     0,     0,     0, 52308]])\n"
     ]
    },
    {
     "name": "stderr",
     "output_type": "stream",
     "text": [
      "Metric Validation/Accuracy improved by 0.003 >= min_delta = 0.0. New best score: 0.914\n"
     ]
    },
    {
     "data": {
      "application/vnd.jupyter.widget-view+json": {
       "model_id": "bc0e1d4a8b3d45d6a819b3156c984576",
       "version_major": 2,
       "version_minor": 0
      },
      "text/plain": [
       "Validation: |          | 0/? [00:00<?, ?it/s]"
      ]
     },
     "metadata": {},
     "output_type": "display_data"
    },
    {
     "name": "stdout",
     "output_type": "stream",
     "text": [
      "Epoch end: Validation, epoch number: 30\n",
      "ValidationEpoch/CM\n",
      " tensor([[42559,   474,  2569,  3282,  2437,   202,     0,   324,   160],\n",
      "        [   18, 54324,    26,     0,     0,   489,     0,     2,     0],\n",
      "        [    6,  1107, 60781,   235,   288,  1462,   734,   323,     0],\n",
      "        [ 1721,   486,  3474, 45121,  2399,   189,   238,   346,   139],\n",
      "        [   40,   329,   198,   129, 53050,   234,     0,    35,   242],\n",
      "        [    0,  1287,   120,     0,     0, 52076,     0,   328,     0],\n",
      "        [  773,   722, 35993,  6347,   490,   470,  9084,   366,    10],\n",
      "        [  143,   103,     0,     0,     0,    40,     0, 53815,     0],\n",
      "        [    3,     0,     0,     0,     0,     0,     0,     0, 54108]])\n"
     ]
    },
    {
     "name": "stderr",
     "output_type": "stream",
     "text": [
      "Metric Validation/Accuracy improved by 0.000 >= min_delta = 0.0. New best score: 0.914\n"
     ]
    },
    {
     "name": "stdout",
     "output_type": "stream",
     "text": [
      "Epoch end: Train, epoch number: 29\n",
      "TrainEpoch/CM\n",
      " tensor([[42559,   474,  2569,  3282,  2437,   202,     0,   324,   160],\n",
      "        [   18, 54324,    26,     0,     0,   489,     0,     2,     0],\n",
      "        [    6,  1107, 60781,   235,   288,  1462,   734,   323,     0],\n",
      "        [ 1721,   486,  3474, 45121,  2399,   189,   238,   346,   139],\n",
      "        [   40,   329,   198,   129, 53050,   234,     0,    35,   242],\n",
      "        [    0,  1287,   120,     0,     0, 52076,     0,   328,     0],\n",
      "        [  773,   722, 35993,  6347,   490,   470,  9084,   366,    10],\n",
      "        [  143,   103,     0,     0,     0,    40,     0, 53815,     0],\n",
      "        [    3,     0,     0,     0,     0,     0,     0,     0, 54108]])\n"
     ]
    },
    {
     "data": {
      "application/vnd.jupyter.widget-view+json": {
       "model_id": "f714c22a29cd498fbd5a43fe13a0a7a9",
       "version_major": 2,
       "version_minor": 0
      },
      "text/plain": [
       "Validation: |          | 0/? [00:00<?, ?it/s]"
      ]
     },
     "metadata": {},
     "output_type": "display_data"
    },
    {
     "name": "stdout",
     "output_type": "stream",
     "text": [
      "Epoch end: Validation, epoch number: 31\n",
      "ValidationEpoch/CM\n",
      " tensor([[44255,   474,  2569,  3316,  2437,   202,     0,   324,   160],\n",
      "        [   18, 56141,    26,     0,     0,   497,     0,     2,     0],\n",
      "        [    6,  1107, 62814,   247,   288,  1494,   817,   323,     0],\n",
      "        [ 1797,   486,  3474, 46824,  2399,   189,   259,   346,   139],\n",
      "        [   40,   329,   208,   141, 54828,   239,     0,    35,   242],\n",
      "        [    0,  1287,   120,     0,     0, 53866,     0,   328,     0],\n",
      "        [  808,   722, 36804,  6564,   490,   475,  9821,   366,    10],\n",
      "        [  143,   103,     0,     0,     0,    40,     0, 55615,     0],\n",
      "        [    3,     0,     0,     0,     0,     0,     0,     0, 55908]])\n",
      "Epoch end: Train, epoch number: 30\n",
      "TrainEpoch/CM\n",
      " tensor([[44255,   474,  2569,  3316,  2437,   202,     0,   324,   160],\n",
      "        [   18, 56141,    26,     0,     0,   497,     0,     2,     0],\n",
      "        [    6,  1107, 62814,   247,   288,  1494,   817,   323,     0],\n",
      "        [ 1797,   486,  3474, 46824,  2399,   189,   259,   346,   139],\n",
      "        [   40,   329,   208,   141, 54828,   239,     0,    35,   242],\n",
      "        [    0,  1287,   120,     0,     0, 53866,     0,   328,     0],\n",
      "        [  808,   722, 36804,  6564,   490,   475,  9821,   366,    10],\n",
      "        [  143,   103,     0,     0,     0,    40,     0, 55615,     0],\n",
      "        [    3,     0,     0,     0,     0,     0,     0,     0, 55908]])\n"
     ]
    },
    {
     "data": {
      "application/vnd.jupyter.widget-view+json": {
       "model_id": "eafad7d992734cc894f48d6e8c146531",
       "version_major": 2,
       "version_minor": 0
      },
      "text/plain": [
       "Validation: |          | 0/? [00:00<?, ?it/s]"
      ]
     },
     "metadata": {},
     "output_type": "display_data"
    },
    {
     "name": "stdout",
     "output_type": "stream",
     "text": [
      "Epoch end: Validation, epoch number: 32\n",
      "ValidationEpoch/CM\n",
      " tensor([[45953,   474,  2569,  3348,  2437,   202,     0,   324,   160],\n",
      "        [   18, 57965,    26,     0,     0,   498,     0,     2,     0],\n",
      "        [    6,  1107, 64878,   259,   288,  1523,   872,   323,     0],\n",
      "        [ 1876,   486,  3476, 48523,  2399,   189,   279,   346,   139],\n",
      "        [   40,   329,   217,   147, 56613,   244,     0,    35,   242],\n",
      "        [    0,  1287,   125,     0,     0, 55651,     0,   328,     0],\n",
      "        [  850,   722, 37671,  6779,   490,   480, 10497,   366,    10],\n",
      "        [  143,   103,     0,     0,     0,    40,     0, 57415,     0],\n",
      "        [    3,     0,     0,     0,     0,     0,     0,     0, 57708]])\n",
      "Epoch end: Train, epoch number: 31\n",
      "TrainEpoch/CM\n",
      " tensor([[45953,   474,  2569,  3348,  2437,   202,     0,   324,   160],\n",
      "        [   18, 57965,    26,     0,     0,   498,     0,     2,     0],\n",
      "        [    6,  1107, 64878,   259,   288,  1523,   872,   323,     0],\n",
      "        [ 1876,   486,  3476, 48523,  2399,   189,   279,   346,   139],\n",
      "        [   40,   329,   217,   147, 56613,   244,     0,    35,   242],\n",
      "        [    0,  1287,   125,     0,     0, 55651,     0,   328,     0],\n",
      "        [  850,   722, 37671,  6779,   490,   480, 10497,   366,    10],\n",
      "        [  143,   103,     0,     0,     0,    40,     0, 57415,     0],\n",
      "        [    3,     0,     0,     0,     0,     0,     0,     0, 57708]])\n"
     ]
    },
    {
     "name": "stderr",
     "output_type": "stream",
     "text": [
      "Metric Validation/Accuracy improved by 0.002 >= min_delta = 0.0. New best score: 0.916\n"
     ]
    },
    {
     "data": {
      "application/vnd.jupyter.widget-view+json": {
       "model_id": "270ddfebd0914ba0be2da9fe27339122",
       "version_major": 2,
       "version_minor": 0
      },
      "text/plain": [
       "Validation: |          | 0/? [00:00<?, ?it/s]"
      ]
     },
     "metadata": {},
     "output_type": "display_data"
    },
    {
     "name": "stdout",
     "output_type": "stream",
     "text": [
      "Epoch end: Validation, epoch number: 33\n",
      "ValidationEpoch/CM\n",
      " tensor([[47651,   474,  2569,  3380,  2437,   202,     0,   324,   160],\n",
      "        [   18, 59789,    26,     0,     0,   499,     0,     2,     0],\n",
      "        [    6,  1107, 66912,   271,   288,  1553,   956,   323,     0],\n",
      "        [ 1943,   486,  3476, 50229,  2399,   189,   306,   346,   139],\n",
      "        [   40,   329,   225,   157, 58395,   249,     0,    35,   242],\n",
      "        [    0,  1287,   127,     0,     0, 57439,     0,   328,     0],\n",
      "        [  875,   722, 38425,  6977,   490,   485, 11320,   366,    10],\n",
      "        [  143,   103,     0,     0,     0,    40,     0, 59215,     0],\n",
      "        [    3,     0,     0,     0,     0,     0,     0,     0, 59508]])\n",
      "Epoch end: Train, epoch number: 32\n",
      "TrainEpoch/CM\n",
      " tensor([[47651,   474,  2569,  3380,  2437,   202,     0,   324,   160],\n",
      "        [   18, 59789,    26,     0,     0,   499,     0,     2,     0],\n",
      "        [    6,  1107, 66912,   271,   288,  1553,   956,   323,     0],\n",
      "        [ 1943,   486,  3476, 50229,  2399,   189,   306,   346,   139],\n",
      "        [   40,   329,   225,   157, 58395,   249,     0,    35,   242],\n",
      "        [    0,  1287,   127,     0,     0, 57439,     0,   328,     0],\n",
      "        [  875,   722, 38425,  6977,   490,   485, 11320,   366,    10],\n",
      "        [  143,   103,     0,     0,     0,    40,     0, 59215,     0],\n",
      "        [    3,     0,     0,     0,     0,     0,     0,     0, 59508]])\n"
     ]
    },
    {
     "data": {
      "application/vnd.jupyter.widget-view+json": {
       "model_id": "fdaf6bae407d4f0e9d8403b49cad443f",
       "version_major": 2,
       "version_minor": 0
      },
      "text/plain": [
       "Validation: |          | 0/? [00:00<?, ?it/s]"
      ]
     },
     "metadata": {},
     "output_type": "display_data"
    },
    {
     "name": "stdout",
     "output_type": "stream",
     "text": [
      "Epoch end: Validation, epoch number: 34\n",
      "ValidationEpoch/CM\n",
      " tensor([[49351,   474,  2569,  3410,  2437,   202,     0,   324,   160],\n",
      "        [   18, 61610,    26,     0,     0,   503,     0,     2,     0],\n",
      "        [    6,  1107, 68945,   283,   288,  1585,  1039,   323,     0],\n",
      "        [ 2017,   486,  3476, 51935,  2399,   189,   326,   346,   139],\n",
      "        [   40,   329,   230,   167, 60180,   254,     0,    35,   242],\n",
      "        [    0,  1287,   127,     0,     0, 59229,     0,   328,     0],\n",
      "        [  910,   722, 39228,  7180,   490,   490, 12079,   366,    10],\n",
      "        [  143,   103,     0,     0,     0,    40,     0, 61015,     0],\n",
      "        [    3,     0,     0,     0,     0,     0,     0,     0, 61308]])\n",
      "Epoch end: Train, epoch number: 33\n",
      "TrainEpoch/CM\n",
      " tensor([[49351,   474,  2569,  3410,  2437,   202,     0,   324,   160],\n",
      "        [   18, 61610,    26,     0,     0,   503,     0,     2,     0],\n",
      "        [    6,  1107, 68945,   283,   288,  1585,  1039,   323,     0],\n",
      "        [ 2017,   486,  3476, 51935,  2399,   189,   326,   346,   139],\n",
      "        [   40,   329,   230,   167, 60180,   254,     0,    35,   242],\n",
      "        [    0,  1287,   127,     0,     0, 59229,     0,   328,     0],\n",
      "        [  910,   722, 39228,  7180,   490,   490, 12079,   366,    10],\n",
      "        [  143,   103,     0,     0,     0,    40,     0, 61015,     0],\n",
      "        [    3,     0,     0,     0,     0,     0,     0,     0, 61308]])\n"
     ]
    },
    {
     "data": {
      "application/vnd.jupyter.widget-view+json": {
       "model_id": "79b93a2fa89e4f5a81a5b57cc2193d4e",
       "version_major": 2,
       "version_minor": 0
      },
      "text/plain": [
       "Validation: |          | 0/? [00:00<?, ?it/s]"
      ]
     },
     "metadata": {},
     "output_type": "display_data"
    },
    {
     "name": "stdout",
     "output_type": "stream",
     "text": [
      "Epoch end: Validation, epoch number: 35\n",
      "ValidationEpoch/CM\n",
      " tensor([[51050,   474,  2569,  3441,  2437,   202,     0,   324,   160],\n",
      "        [   18, 63435,    26,     0,     0,   503,     0,     2,     0],\n",
      "        [    6,  1107, 70994,   295,   288,  1615,  1108,   323,     0],\n",
      "        [ 2091,   486,  3476, 53634,  2399,   189,   353,   346,   139],\n",
      "        [   40,   329,   243,   176, 61958,   259,     0,    35,   242],\n",
      "        [    0,  1287,   129,     0,     0, 61017,     0,   328,     0],\n",
      "        [  946,   722, 39989,  7375,   490,   495, 12887,   366,    10],\n",
      "        [  143,   103,     0,     0,     0,    40,     0, 62815,     0],\n",
      "        [    3,     0,     0,     0,     0,     0,     0,     0, 63108]])\n"
     ]
    },
    {
     "name": "stderr",
     "output_type": "stream",
     "text": [
      "Metric Validation/Accuracy improved by 0.010 >= min_delta = 0.0. New best score: 0.925\n"
     ]
    },
    {
     "name": "stdout",
     "output_type": "stream",
     "text": [
      "Epoch end: Train, epoch number: 34\n",
      "TrainEpoch/CM\n",
      " tensor([[51050,   474,  2569,  3441,  2437,   202,     0,   324,   160],\n",
      "        [   18, 63435,    26,     0,     0,   503,     0,     2,     0],\n",
      "        [    6,  1107, 70994,   295,   288,  1615,  1108,   323,     0],\n",
      "        [ 2091,   486,  3476, 53634,  2399,   189,   353,   346,   139],\n",
      "        [   40,   329,   243,   176, 61958,   259,     0,    35,   242],\n",
      "        [    0,  1287,   129,     0,     0, 61017,     0,   328,     0],\n",
      "        [  946,   722, 39989,  7375,   490,   495, 12887,   366,    10],\n",
      "        [  143,   103,     0,     0,     0,    40,     0, 62815,     0],\n",
      "        [    3,     0,     0,     0,     0,     0,     0,     0, 63108]])\n"
     ]
    },
    {
     "data": {
      "application/vnd.jupyter.widget-view+json": {
       "model_id": "f1ccaedae95b41d7a3b005450f02b4ae",
       "version_major": 2,
       "version_minor": 0
      },
      "text/plain": [
       "Validation: |          | 0/? [00:00<?, ?it/s]"
      ]
     },
     "metadata": {},
     "output_type": "display_data"
    },
    {
     "name": "stdout",
     "output_type": "stream",
     "text": [
      "Epoch end: Validation, epoch number: 36\n",
      "ValidationEpoch/CM\n",
      " tensor([[52748,   474,  2569,  3473,  2437,   202,     0,   324,   160],\n",
      "        [   18, 65260,    26,     0,     0,   503,     0,     2,     0],\n",
      "        [    6,  1107, 73026,   307,   288,  1644,  1195,   323,     0],\n",
      "        [ 2158,   486,  3476, 55339,  2399,   189,   381,   346,   139],\n",
      "        [   40,   329,   251,   186, 63740,   264,     0,    35,   242],\n",
      "        [    0,  1287,   131,     0,     0, 62805,     0,   328,     0],\n",
      "        [  972,   722, 40669,  7572,   490,   500, 13784,   366,    10],\n",
      "        [  143,   103,     0,     0,     0,    40,     0, 64615,     0],\n",
      "        [    3,     0,     0,     0,     0,     0,     0,     0, 64908]])\n",
      "Epoch end: Train, epoch number: 35\n",
      "TrainEpoch/CM\n",
      " tensor([[52748,   474,  2569,  3473,  2437,   202,     0,   324,   160],\n",
      "        [   18, 65260,    26,     0,     0,   503,     0,     2,     0],\n",
      "        [    6,  1107, 73026,   307,   288,  1644,  1195,   323,     0],\n",
      "        [ 2158,   486,  3476, 55339,  2399,   189,   381,   346,   139],\n",
      "        [   40,   329,   251,   186, 63740,   264,     0,    35,   242],\n",
      "        [    0,  1287,   131,     0,     0, 62805,     0,   328,     0],\n",
      "        [  972,   722, 40669,  7572,   490,   500, 13784,   366,    10],\n",
      "        [  143,   103,     0,     0,     0,    40,     0, 64615,     0],\n",
      "        [    3,     0,     0,     0,     0,     0,     0,     0, 64908]])\n"
     ]
    },
    {
     "data": {
      "application/vnd.jupyter.widget-view+json": {
       "model_id": "39d6b0a3432a4924a19ab6000a844a16",
       "version_major": 2,
       "version_minor": 0
      },
      "text/plain": [
       "Validation: |          | 0/? [00:00<?, ?it/s]"
      ]
     },
     "metadata": {},
     "output_type": "display_data"
    },
    {
     "name": "stdout",
     "output_type": "stream",
     "text": [
      "Epoch end: Validation, epoch number: 37\n",
      "ValidationEpoch/CM\n",
      " tensor([[54444,   474,  2569,  3507,  2437,   202,     0,   324,   160],\n",
      "        [   18, 67085,    26,     0,     0,   503,     0,     2,     0],\n",
      "        [    6,  1107, 75077,   319,   288,  1672,  1264,   323,     0],\n",
      "        [ 2222,   486,  3476, 57049,  2399,   189,   407,   346,   139],\n",
      "        [   40,   329,   258,   196, 65523,   269,     0,    35,   242],\n",
      "        [    0,  1287,   133,     0,     0, 64593,     0,   328,     0],\n",
      "        [  998,   722, 41439,  7776,   490,   505, 14584,   366,    10],\n",
      "        [  143,   103,     0,     0,     0,    40,     0, 66415,     0],\n",
      "        [    3,     0,     0,     0,     0,     0,     0,     0, 66708]])\n",
      "Epoch end: Train, epoch number: 36\n",
      "TrainEpoch/CM\n",
      " tensor([[54444,   474,  2569,  3507,  2437,   202,     0,   324,   160],\n",
      "        [   18, 67085,    26,     0,     0,   503,     0,     2,     0],\n",
      "        [    6,  1107, 75077,   319,   288,  1672,  1264,   323,     0],\n",
      "        [ 2222,   486,  3476, 57049,  2399,   189,   407,   346,   139],\n",
      "        [   40,   329,   258,   196, 65523,   269,     0,    35,   242],\n",
      "        [    0,  1287,   133,     0,     0, 64593,     0,   328,     0],\n",
      "        [  998,   722, 41439,  7776,   490,   505, 14584,   366,    10],\n",
      "        [  143,   103,     0,     0,     0,    40,     0, 66415,     0],\n",
      "        [    3,     0,     0,     0,     0,     0,     0,     0, 66708]])\n"
     ]
    },
    {
     "data": {
      "application/vnd.jupyter.widget-view+json": {
       "model_id": "45a23c260e294119b5f493f7ec85669e",
       "version_major": 2,
       "version_minor": 0
      },
      "text/plain": [
       "Validation: |          | 0/? [00:00<?, ?it/s]"
      ]
     },
     "metadata": {},
     "output_type": "display_data"
    },
    {
     "name": "stdout",
     "output_type": "stream",
     "text": [
      "Epoch end: Validation, epoch number: 38\n",
      "ValidationEpoch/CM\n",
      " tensor([[56143,   474,  2569,  3538,  2437,   202,     0,   324,   160],\n",
      "        [   18, 68910,    26,     0,     0,   503,     0,     2,     0],\n",
      "        [    6,  1107, 77107,   331,   288,  1700,  1354,   323,     0],\n",
      "        [ 2287,   486,  3476, 58749,  2399,   189,   442,   346,   139],\n",
      "        [   40,   329,   267,   206, 67304,   274,     0,    35,   242],\n",
      "        [    0,  1287,   133,     0,     0, 66383,     0,   328,     0],\n",
      "        [ 1027,   722, 42057,  7962,   490,   510, 15551,   366,    10],\n",
      "        [  143,   103,     0,     0,     0,    40,     0, 68215,     0],\n",
      "        [    3,     0,     0,     0,     0,     0,     0,     0, 68508]])\n",
      "Epoch end: Train, epoch number: 37\n",
      "TrainEpoch/CM\n",
      " tensor([[56143,   474,  2569,  3538,  2437,   202,     0,   324,   160],\n",
      "        [   18, 68910,    26,     0,     0,   503,     0,     2,     0],\n",
      "        [    6,  1107, 77107,   331,   288,  1700,  1354,   323,     0],\n",
      "        [ 2287,   486,  3476, 58749,  2399,   189,   442,   346,   139],\n",
      "        [   40,   329,   267,   206, 67304,   274,     0,    35,   242],\n",
      "        [    0,  1287,   133,     0,     0, 66383,     0,   328,     0],\n",
      "        [ 1027,   722, 42057,  7962,   490,   510, 15551,   366,    10],\n",
      "        [  143,   103,     0,     0,     0,    40,     0, 68215,     0],\n",
      "        [    3,     0,     0,     0,     0,     0,     0,     0, 68508]])\n"
     ]
    },
    {
     "data": {
      "application/vnd.jupyter.widget-view+json": {
       "model_id": "cfeba29042de4544b289dcbf840337ef",
       "version_major": 2,
       "version_minor": 0
      },
      "text/plain": [
       "Validation: |          | 0/? [00:00<?, ?it/s]"
      ]
     },
     "metadata": {},
     "output_type": "display_data"
    },
    {
     "name": "stdout",
     "output_type": "stream",
     "text": [
      "Epoch end: Validation, epoch number: 39\n",
      "ValidationEpoch/CM\n",
      " tensor([[57843,   474,  2569,  3568,  2437,   202,     0,   324,   160],\n",
      "        [   18, 70735,    26,     0,     0,   503,     0,     2,     0],\n",
      "        [    6,  1107, 79146,   343,   288,  1725,  1438,   323,     0],\n",
      "        [ 2352,   486,  3476, 60449,  2399,   189,   477,   346,   139],\n",
      "        [   40,   329,   274,   215, 69088,   279,     0,    35,   242],\n",
      "        [    0,  1287,   133,     0,     0, 68173,     0,   328,     0],\n",
      "        [ 1052,   722, 42695,  8149,   490,   515, 16501,   366,    10],\n",
      "        [  143,   103,     0,     0,     0,    40,     0, 70015,     0],\n",
      "        [    3,     0,     0,     0,     0,     0,     0,     0, 70308]])\n",
      "Epoch end: Train, epoch number: 38\n",
      "TrainEpoch/CM\n",
      " tensor([[57843,   474,  2569,  3568,  2437,   202,     0,   324,   160],\n",
      "        [   18, 70735,    26,     0,     0,   503,     0,     2,     0],\n",
      "        [    6,  1107, 79146,   343,   288,  1725,  1438,   323,     0],\n",
      "        [ 2352,   486,  3476, 60449,  2399,   189,   477,   346,   139],\n",
      "        [   40,   329,   274,   215, 69088,   279,     0,    35,   242],\n",
      "        [    0,  1287,   133,     0,     0, 68173,     0,   328,     0],\n",
      "        [ 1052,   722, 42695,  8149,   490,   515, 16501,   366,    10],\n",
      "        [  143,   103,     0,     0,     0,    40,     0, 70015,     0],\n",
      "        [    3,     0,     0,     0,     0,     0,     0,     0, 70308]])\n"
     ]
    },
    {
     "data": {
      "application/vnd.jupyter.widget-view+json": {
       "model_id": "d860554338b54ce2b9e2569e7cadc144",
       "version_major": 2,
       "version_minor": 0
      },
      "text/plain": [
       "Validation: |          | 0/? [00:00<?, ?it/s]"
      ]
     },
     "metadata": {},
     "output_type": "display_data"
    },
    {
     "name": "stdout",
     "output_type": "stream",
     "text": [
      "Epoch end: Validation, epoch number: 40\n",
      "ValidationEpoch/CM\n",
      " tensor([[59541,   474,  2569,  3600,  2437,   202,     0,   324,   160],\n",
      "        [   18, 72560,    26,     0,     0,   503,     0,     2,     0],\n",
      "        [    6,  1107, 81198,   355,   288,  1749,  1510,   323,     0],\n",
      "        [ 2417,   486,  3476, 62153,  2399,   189,   508,   346,   139],\n",
      "        [   40,   329,   282,   225, 70870,   284,     0,    35,   242],\n",
      "        [    0,  1287,   133,     0,     0, 69963,     0,   328,     0],\n",
      "        [ 1079,   722, 43387,  8342,   490,   520, 17389,   366,    10],\n",
      "        [  143,   103,     0,     0,     0,    40,     0, 71815,     0],\n",
      "        [    3,     0,     0,     0,     0,     0,     0,     0, 72108]])\n",
      "Epoch end: Train, epoch number: 39\n",
      "TrainEpoch/CM\n",
      " tensor([[59541,   474,  2569,  3600,  2437,   202,     0,   324,   160],\n",
      "        [   18, 72560,    26,     0,     0,   503,     0,     2,     0],\n",
      "        [    6,  1107, 81198,   355,   288,  1749,  1510,   323,     0],\n",
      "        [ 2417,   486,  3476, 62153,  2399,   189,   508,   346,   139],\n",
      "        [   40,   329,   282,   225, 70870,   284,     0,    35,   242],\n",
      "        [    0,  1287,   133,     0,     0, 69963,     0,   328,     0],\n",
      "        [ 1079,   722, 43387,  8342,   490,   520, 17389,   366,    10],\n",
      "        [  143,   103,     0,     0,     0,    40,     0, 71815,     0],\n",
      "        [    3,     0,     0,     0,     0,     0,     0,     0, 72108]])\n"
     ]
    },
    {
     "name": "stderr",
     "output_type": "stream",
     "text": [
      "Monitored metric Validation/Accuracy did not improve in the last 5 records. Best score: 0.925. Signaling Trainer to stop.\n"
     ]
    }
   ],
   "source": [
    "trainer.fit(model=model, train_dataloaders=train_dataloader, val_dataloaders=val_dataloader)"
   ]
  },
  {
   "cell_type": "code",
   "execution_count": 35,
   "metadata": {},
   "outputs": [
    {
     "name": "stdout",
     "output_type": "stream",
     "text": [
      "/home/<User>/repos/csg_is/training/official_logs/single-layer_30_from_weights_40s/version_0/checkpoints/epoch=34-step=945.ckpt\n",
      "tensor(0.9254, device='cuda:0')\n"
     ]
    },
    {
     "name": "stderr",
     "output_type": "stream",
     "text": [
      "LOCAL_RANK: 0 - CUDA_VISIBLE_DEVICES: [0]\n"
     ]
    },
    {
     "data": {
      "application/vnd.jupyter.widget-view+json": {
       "model_id": "f1019ae9cbf945d7af5e095e7caed6bf",
       "version_major": 2,
       "version_minor": 0
      },
      "text/plain": [
       "Testing: |          | 0/? [00:00<?, ?it/s]"
      ]
     },
     "metadata": {},
     "output_type": "display_data"
    },
    {
     "name": "stdout",
     "output_type": "stream",
     "text": [
      "Epoch end: Test, epoch number: 0\n",
      "TestEpoch/CM\n",
      " tensor([[367,   0,   0,   9,   0,   0,   0,   0,   0],\n",
      "        [  0, 317,   0,   0,   0,   0,   0,   0,   0],\n",
      "        [  0,   0, 407,   2,   0,   8,  26,   0,   0],\n",
      "        [ 13,   0,   0, 350,   0,   0,   9,   0,   0],\n",
      "        [  0,   0,   2,   2, 336,   0,   0,   0,   0],\n",
      "        [  0,   0,   0,   0,   0, 367,   0,   0,   0],\n",
      "        [ 10,   0, 131,  41,   0,   0, 184,   0,   0],\n",
      "        [  0,   0,   0,   0,   0,   0,   0, 342,   0],\n",
      "        [  0,   0,   0,   0,   0,   0,   0,   0, 380]])\n",
      "────────────────────────────────────────────────────────────────────────────────────────────────────────────────────────\n",
      "       Test metric             DataLoader 0\n",
      "────────────────────────────────────────────────────────────────────────────────────────────────────────────────────────\n",
      "      Test/Accuracy         0.9254440665245056\n",
      "      Test/F1Score          0.9216607213020325\n",
      "        Test/Loss           0.4790020287036896\n",
      "     Test/Precision         0.9307817816734314\n",
      "       Test/Recall          0.9254440665245056\n",
      "   TestEpoch/Accuracy       0.9251808524131775\n",
      "    TestEpoch/F1Score       0.9223027229309082\n",
      "   TestEpoch/Precision      0.9311016798019409\n",
      "    TestEpoch/Recall        0.9251808524131775\n",
      "────────────────────────────────────────────────────────────────────────────────────────────────────────────────────────\n"
     ]
    },
    {
     "data": {
      "text/plain": [
       "[{'Test/Loss': 0.4790020287036896,\n",
       "  'Test/Accuracy': 0.9254440665245056,\n",
       "  'Test/Precision': 0.9307817816734314,\n",
       "  'Test/Recall': 0.9254440665245056,\n",
       "  'Test/F1Score': 0.9216607213020325,\n",
       "  'TestEpoch/Accuracy': 0.9251808524131775,\n",
       "  'TestEpoch/Precision': 0.9311016798019409,\n",
       "  'TestEpoch/Recall': 0.9251808524131775,\n",
       "  'TestEpoch/F1Score': 0.9223027229309082}]"
      ]
     },
     "execution_count": 35,
     "metadata": {},
     "output_type": "execute_result"
    }
   ],
   "source": [
    "print(checkpoint_callback.best_model_path)   # prints path to the best model's checkpoint\n",
    "print(checkpoint_callback.best_model_score) # and prints it score\n",
    "best_model = MalwaresModelLinearLayer.load_from_checkpoint(checkpoint_callback.best_model_path, input_size = subset.shape[1]-1, output_size = len(label_encoder.classes_))\n",
    "\n",
    "trainer.test(best_model, dataloaders=val_dataloader)"
   ]
  },
  {
   "cell_type": "code",
   "execution_count": 36,
   "metadata": {},
   "outputs": [],
   "source": [
    "sys.path.append(str(repo_base_path  / \"training\"))"
   ]
  },
  {
   "cell_type": "code",
   "execution_count": 37,
   "metadata": {},
   "outputs": [
    {
     "name": "stderr",
     "output_type": "stream",
     "text": [
      "GPU available: True (cuda), used: True\n",
      "TPU available: False, using: 0 TPU cores\n",
      "IPU available: False, using: 0 IPUs\n",
      "HPU available: False, using: 0 HPUs\n"
     ]
    }
   ],
   "source": [
    "# tensorboard = pl_loggers.TensorBoardLogger('./')\n",
    "\n",
    "from mlp import MalwaresModelMLP\n",
    "\n",
    "# split into train and val\n",
    "train, val = train_test_split(subset, test_size=0.2, random_state=SEED)\n",
    "\n",
    "train_dataset = CustomeDataset(train)\n",
    "train_dataloader = DataLoader(train_dataset, batch_size=500, shuffle=True, num_workers=7)\n",
    "\n",
    "val_dataset = CustomeDataset(val)\n",
    "val_dataloader = DataLoader(val_dataset, batch_size=500, shuffle=False, num_workers=7)\n",
    "\n",
    "# trainer = lightning.Trainer(fast_dev_run=100)\n",
    "monitor = \"Validation/Accuracy\"\n",
    "early_stop_callback = EarlyStopping(monitor=monitor, patience=5, verbose=True, mode=\"max\")\n",
    "checkpoint_callback = ModelCheckpoint(save_top_k=1, monitor=monitor, mode=\"max\")\n",
    "\n",
    "tensorboard = pl_loggers.TensorBoardLogger(save_dir=LOG_PATH, name=LOG_NAME_EXPERIMENT_3)\n",
    "trainer = lightning.Trainer(max_epochs=150, callbacks=[early_stop_callback, checkpoint_callback], enable_checkpointing=True, logger=tensorboard) #logger=None, \n",
    "\n",
    "\n",
    "model = MalwaresModelMLP(input_size = subset.shape[1]-1, output_size = len(label_encoder.classes_), seed=SEED)\n",
    "\n",
    "torch.manual_seed(SEED)\n",
    "torch.cuda.manual_seed_all(SEED)\n"
   ]
  },
  {
   "cell_type": "code",
   "execution_count": 38,
   "metadata": {},
   "outputs": [
    {
     "name": "stderr",
     "output_type": "stream",
     "text": [
      "LOCAL_RANK: 0 - CUDA_VISIBLE_DEVICES: [0]\n",
      "\n",
      "  | Name          | Type                      | Params\n",
      "------------------------------------------------------------\n",
      "0 | train_metrics | MetricCollection          | 0     \n",
      "1 | val_metrics   | MetricCollection          | 0     \n",
      "2 | test_metrics  | MetricCollection          | 0     \n",
      "3 | cm            | MulticlassConfusionMatrix | 0     \n",
      "4 | criterion     | CrossEntropyLoss          | 0     \n",
      "5 | l1            | Linear                    | 1.1 K \n",
      "6 | l2            | Linear                    | 930   \n",
      "7 | l3            | Linear                    | 279   \n",
      "------------------------------------------------------------\n",
      "2.3 K     Trainable params\n",
      "0         Non-trainable params\n",
      "2.3 K     Total params\n",
      "0.009     Total estimated model params size (MB)\n"
     ]
    },
    {
     "data": {
      "application/vnd.jupyter.widget-view+json": {
       "model_id": "abc09bb461594565ae203cdb1013ec25",
       "version_major": 2,
       "version_minor": 0
      },
      "text/plain": [
       "Sanity Checking: |          | 0/? [00:00<?, ?it/s]"
      ]
     },
     "metadata": {},
     "output_type": "display_data"
    },
    {
     "name": "stdout",
     "output_type": "stream",
     "text": [
      "Epoch end: Validation, epoch number: 0\n",
      "ValidationEpoch/CM\n",
      " tensor([[  0,   0,   0,   0,   0,   0,   0,   0, 107],\n",
      "        [  0,   0,   0,   0,   0,   0,   0,   0, 109],\n",
      "        [  0,   0,   0,   0,   0,   0,   0,   0, 136],\n",
      "        [  0,   0,   0,   0,   0,   0,   0,   0, 113],\n",
      "        [  0,   0,   0,   0,   0,   0,   0,   0, 107],\n",
      "        [  0,   0,   0,   0,   0,   0,   0,   0, 111],\n",
      "        [  0,   0,   0,   0,   0,   0,   0,   0, 105],\n",
      "        [  0,   0,   0,   0,   0,   0,   0,   0, 101],\n",
      "        [  0,   0,   0,   0,   0,   0,   0,   0, 111]])\n"
     ]
    },
    {
     "name": "stderr",
     "output_type": "stream",
     "text": [
      "/home/<User>/repos/csg_is/.venv/lib/python3.10/site-packages/lightning/pytorch/loops/fit_loop.py:298: The number of training batches (27) is smaller than the logging interval Trainer(log_every_n_steps=50). Set a lower value for log_every_n_steps if you want to see logs for the training epoch.\n"
     ]
    },
    {
     "data": {
      "application/vnd.jupyter.widget-view+json": {
       "model_id": "54366c4546d84a0281383348a1f250df",
       "version_major": 2,
       "version_minor": 0
      },
      "text/plain": [
       "Training: |          | 0/? [00:00<?, ?it/s]"
      ]
     },
     "metadata": {},
     "output_type": "display_data"
    },
    {
     "data": {
      "application/vnd.jupyter.widget-view+json": {
       "model_id": "2ea68ac18bb34011be6ea79c79182028",
       "version_major": 2,
       "version_minor": 0
      },
      "text/plain": [
       "Validation: |          | 0/? [00:00<?, ?it/s]"
      ]
     },
     "metadata": {},
     "output_type": "display_data"
    },
    {
     "name": "stdout",
     "output_type": "stream",
     "text": [
      "Epoch end: Validation, epoch number: 1\n",
      "ValidationEpoch/CM\n",
      " tensor([[   0,  436, 1073,    0,    0,    2,    5,    0,  321],\n",
      "        [   0, 1696,    0,    0,    0,    1,    0,    0,  237],\n",
      "        [   0,  580, 1131,    0,    0,  131,   42,   17,  395],\n",
      "        [   0,  419, 1142,    0,    0,    1,    5,    0,  346],\n",
      "        [   0,  453,  999,    0,   57,    4,   31,    4,  364],\n",
      "        [   0,  495,   57,    0,    0,  714,    0,  315,  320],\n",
      "        [   0,  496, 1047,    0,    0,   46,   12,    4,  305],\n",
      "        [   0,    0,    0,    0,    0,    0,    0, 1687,  214],\n",
      "        [   0,    0,    0,    0,    0,    0,    0,    0, 1911]])\n"
     ]
    },
    {
     "name": "stderr",
     "output_type": "stream",
     "text": [
      "Metric Validation/Accuracy improved. New best score: 0.544\n"
     ]
    },
    {
     "name": "stdout",
     "output_type": "stream",
     "text": [
      "Epoch end: Train, epoch number: 0\n",
      "TrainEpoch/CM\n",
      " tensor([[   0,  436, 1073,    0,    0,    2,    5,    0,  321],\n",
      "        [   0, 1696,    0,    0,    0,    1,    0,    0,  237],\n",
      "        [   0,  580, 1131,    0,    0,  131,   42,   17,  395],\n",
      "        [   0,  419, 1142,    0,    0,    1,    5,    0,  346],\n",
      "        [   0,  453,  999,    0,   57,    4,   31,    4,  364],\n",
      "        [   0,  495,   57,    0,    0,  714,    0,  315,  320],\n",
      "        [   0,  496, 1047,    0,    0,   46,   12,    4,  305],\n",
      "        [   0,    0,    0,    0,    0,    0,    0, 1687,  214],\n",
      "        [   0,    0,    0,    0,    0,    0,    0,    0, 1911]])\n"
     ]
    },
    {
     "data": {
      "application/vnd.jupyter.widget-view+json": {
       "model_id": "4f7c91a8b12e4e06893a4606eeb0058d",
       "version_major": 2,
       "version_minor": 0
      },
      "text/plain": [
       "Validation: |          | 0/? [00:00<?, ?it/s]"
      ]
     },
     "metadata": {},
     "output_type": "display_data"
    },
    {
     "name": "stdout",
     "output_type": "stream",
     "text": [
      "Epoch end: Validation, epoch number: 2\n",
      "ValidationEpoch/CM\n",
      " tensor([[ 470,  436, 1715,  360,  149,    2,  114,    0,  321],\n",
      "        [   0, 3512,    0,    0,    0,   10,    0,    0,  237],\n",
      "        [   1,  581, 3139,    0,   18,  222,   83,   17,  395],\n",
      "        [ 323,  419, 1731,  549,  265,    2,   78,    0,  346],\n",
      "        [  15,  453, 1138,    9, 1693,   10,   31,    4,  364],\n",
      "        [   0,  495,   65,    0,    0, 2495,    0,  316,  320],\n",
      "        [ 112,  496, 2490,   84,   32,   71,  121,    4,  305],\n",
      "        [   0,    0,    0,    0,    0,    0,    0, 3487,  214],\n",
      "        [   0,    0,    0,    0,    0,    0,    0,    0, 3711]])\n",
      "Epoch end: Train, epoch number: 1\n"
     ]
    },
    {
     "name": "stderr",
     "output_type": "stream",
     "text": [
      "Metric Validation/Accuracy improved by 0.240 >= min_delta = 0.0. New best score: 0.784\n"
     ]
    },
    {
     "name": "stdout",
     "output_type": "stream",
     "text": [
      "TrainEpoch/CM\n",
      " tensor([[ 470,  436, 1715,  360,  149,    2,  114,    0,  321],\n",
      "        [   0, 3512,    0,    0,    0,   10,    0,    0,  237],\n",
      "        [   1,  581, 3139,    0,   18,  222,   83,   17,  395],\n",
      "        [ 323,  419, 1731,  549,  265,    2,   78,    0,  346],\n",
      "        [  15,  453, 1138,    9, 1693,   10,   31,    4,  364],\n",
      "        [   0,  495,   65,    0,    0, 2495,    0,  316,  320],\n",
      "        [ 112,  496, 2490,   84,   32,   71,  121,    4,  305],\n",
      "        [   0,    0,    0,    0,    0,    0,    0, 3487,  214],\n",
      "        [   0,    0,    0,    0,    0,    0,    0,    0, 3711]])\n"
     ]
    },
    {
     "data": {
      "application/vnd.jupyter.widget-view+json": {
       "model_id": "ef572587f8964e35a5823652f175c42d",
       "version_major": 2,
       "version_minor": 0
      },
      "text/plain": [
       "Validation: |          | 0/? [00:00<?, ?it/s]"
      ]
     },
     "metadata": {},
     "output_type": "display_data"
    },
    {
     "name": "stdout",
     "output_type": "stream",
     "text": [
      "Epoch end: Validation, epoch number: 3\n",
      "ValidationEpoch/CM\n",
      " tensor([[1386,  436, 1729, 1080,  155,    2,  188,    0,  321],\n",
      "        [   0, 5336,    0,    0,    0,   11,    0,    0,  237],\n",
      "        [   2,  592, 5092,    0,   19,  222,  277,   17,  395],\n",
      "        [ 766,  419, 1747, 1794,  280,    2,  159,    0,  346],\n",
      "        [  27,  453, 1139,   59, 3426,   15,   35,    4,  364],\n",
      "        [   0,  495,   75,    0,    0, 4275,    0,  316,  320],\n",
      "        [ 268,  496, 3331,  230,   32,   71,  783,    4,  305],\n",
      "        [   0,    0,    0,    0,    0,    0,    0, 5287,  214],\n",
      "        [   0,    0,    0,    0,    0,    0,    0,    0, 5511]])\n"
     ]
    },
    {
     "name": "stderr",
     "output_type": "stream",
     "text": [
      "Metric Validation/Accuracy improved by 0.081 >= min_delta = 0.0. New best score: 0.865\n"
     ]
    },
    {
     "name": "stdout",
     "output_type": "stream",
     "text": [
      "Epoch end: Train, epoch number: 2\n",
      "TrainEpoch/CM\n",
      " tensor([[1386,  436, 1729, 1080,  155,    2,  188,    0,  321],\n",
      "        [   0, 5336,    0,    0,    0,   11,    0,    0,  237],\n",
      "        [   2,  592, 5092,    0,   19,  222,  277,   17,  395],\n",
      "        [ 766,  419, 1747, 1794,  280,    2,  159,    0,  346],\n",
      "        [  27,  453, 1139,   59, 3426,   15,   35,    4,  364],\n",
      "        [   0,  495,   75,    0,    0, 4275,    0,  316,  320],\n",
      "        [ 268,  496, 3331,  230,   32,   71,  783,    4,  305],\n",
      "        [   0,    0,    0,    0,    0,    0,    0, 5287,  214],\n",
      "        [   0,    0,    0,    0,    0,    0,    0,    0, 5511]])\n"
     ]
    },
    {
     "data": {
      "application/vnd.jupyter.widget-view+json": {
       "model_id": "ddccecd9a95e430e98b0011a82d94711",
       "version_major": 2,
       "version_minor": 0
      },
      "text/plain": [
       "Validation: |          | 0/? [00:00<?, ?it/s]"
      ]
     },
     "metadata": {},
     "output_type": "display_data"
    },
    {
     "name": "stdout",
     "output_type": "stream",
     "text": [
      "Epoch end: Validation, epoch number: 4\n",
      "ValidationEpoch/CM\n",
      " tensor([[2753,  436, 1729, 1422,  155,    2,  209,    0,  321],\n",
      "        [   0, 7156,    3,    0,    0,   13,    0,    0,  237],\n",
      "        [   2,  602, 6926,    0,   19,  222,  593,   17,  395],\n",
      "        [1037,  419, 1747, 3244,  285,    2,  233,    0,  346],\n",
      "        [  28,  456, 1141,   95, 5184,   15,   40,    4,  364],\n",
      "        [   0,  495,   85,    0,    0, 6055,    0,  316,  320],\n",
      "        [ 332,  496, 3952,  353,   32,   71, 1780,    4,  305],\n",
      "        [   0,    0,    0,    0,    0,    0,    0, 7087,  214],\n",
      "        [   0,    0,    0,    0,    0,    0,    0,    0, 7311]])\n",
      "Epoch end: Train, epoch number: 3\n"
     ]
    },
    {
     "name": "stderr",
     "output_type": "stream",
     "text": [
      "Metric Validation/Accuracy improved by 0.047 >= min_delta = 0.0. New best score: 0.912\n"
     ]
    },
    {
     "name": "stdout",
     "output_type": "stream",
     "text": [
      "TrainEpoch/CM\n",
      " tensor([[2753,  436, 1729, 1422,  155,    2,  209,    0,  321],\n",
      "        [   0, 7156,    3,    0,    0,   13,    0,    0,  237],\n",
      "        [   2,  602, 6926,    0,   19,  222,  593,   17,  395],\n",
      "        [1037,  419, 1747, 3244,  285,    2,  233,    0,  346],\n",
      "        [  28,  456, 1141,   95, 5184,   15,   40,    4,  364],\n",
      "        [   0,  495,   85,    0,    0, 6055,    0,  316,  320],\n",
      "        [ 332,  496, 3952,  353,   32,   71, 1780,    4,  305],\n",
      "        [   0,    0,    0,    0,    0,    0,    0, 7087,  214],\n",
      "        [   0,    0,    0,    0,    0,    0,    0,    0, 7311]])\n"
     ]
    },
    {
     "data": {
      "application/vnd.jupyter.widget-view+json": {
       "model_id": "e0c639a93af04dcd918641c1df35f53b",
       "version_major": 2,
       "version_minor": 0
      },
      "text/plain": [
       "Validation: |          | 0/? [00:00<?, ?it/s]"
      ]
     },
     "metadata": {},
     "output_type": "display_data"
    },
    {
     "name": "stdout",
     "output_type": "stream",
     "text": [
      "Epoch end: Validation, epoch number: 5\n",
      "ValidationEpoch/CM\n",
      " tensor([[4407,  436, 1729, 1492,  155,    2,  215,    0,  321],\n",
      "        [   0, 8977,    7,    0,    0,   13,    0,    0,  237],\n",
      "        [   2,  609, 8765,    0,   19,  222,  907,   17,  395],\n",
      "        [1105,  419, 1747, 4910,  291,    2,  293,    0,  346],\n",
      "        [  28,  456, 1141,  128, 6953,   15,   43,    4,  364],\n",
      "        [   0,  495,   95,    0,    0, 7835,    0,  316,  320],\n",
      "        [ 350,  496, 4498,  495,   32,   71, 2879,    4,  305],\n",
      "        [   0,    0,    0,    0,    0,    0,    0, 8887,  214],\n",
      "        [   0,    0,    0,    0,    0,    0,    0,    0, 9111]])\n"
     ]
    },
    {
     "name": "stderr",
     "output_type": "stream",
     "text": [
      "Metric Validation/Accuracy improved by 0.024 >= min_delta = 0.0. New best score: 0.936\n"
     ]
    },
    {
     "name": "stdout",
     "output_type": "stream",
     "text": [
      "Epoch end: Train, epoch number: 4\n",
      "TrainEpoch/CM\n",
      " tensor([[4407,  436, 1729, 1492,  155,    2,  215,    0,  321],\n",
      "        [   0, 8977,    7,    0,    0,   13,    0,    0,  237],\n",
      "        [   2,  609, 8765,    0,   19,  222,  907,   17,  395],\n",
      "        [1105,  419, 1747, 4910,  291,    2,  293,    0,  346],\n",
      "        [  28,  456, 1141,  128, 6953,   15,   43,    4,  364],\n",
      "        [   0,  495,   95,    0,    0, 7835,    0,  316,  320],\n",
      "        [ 350,  496, 4498,  495,   32,   71, 2879,    4,  305],\n",
      "        [   0,    0,    0,    0,    0,    0,    0, 8887,  214],\n",
      "        [   0,    0,    0,    0,    0,    0,    0,    0, 9111]])\n"
     ]
    },
    {
     "data": {
      "application/vnd.jupyter.widget-view+json": {
       "model_id": "9afee737bd9545778e5f2ac36f0b45ad",
       "version_major": 2,
       "version_minor": 0
      },
      "text/plain": [
       "Validation: |          | 0/? [00:00<?, ?it/s]"
      ]
     },
     "metadata": {},
     "output_type": "display_data"
    },
    {
     "name": "stdout",
     "output_type": "stream",
     "text": [
      "Epoch end: Validation, epoch number: 6\n",
      "ValidationEpoch/CM\n",
      " tensor([[ 6114,   436,  1729,  1515,   155,     2,   215,     0,   321],\n",
      "        [    0, 10799,     9,     0,     0,    14,     0,     0,   237],\n",
      "        [    2,   615, 10621,     0,    19,   222,  1205,    17,   395],\n",
      "        [ 1109,   419,  1747,  6645,   296,     2,   349,     0,   346],\n",
      "        [   28,   456,  1141,   139,  8740,    15,    50,     4,   364],\n",
      "        [    0,   495,   105,     0,     0,  9615,     0,   316,   320],\n",
      "        [  355,   496,  4999,   632,    32,    71,  4041,     4,   305],\n",
      "        [    0,     0,     0,     0,     0,     0,     0, 10687,   214],\n",
      "        [    0,     0,     0,     0,     0,     0,     0,     0, 10911]])\n"
     ]
    },
    {
     "name": "stderr",
     "output_type": "stream",
     "text": [
      "Metric Validation/Accuracy improved by 0.006 >= min_delta = 0.0. New best score: 0.942\n"
     ]
    },
    {
     "name": "stdout",
     "output_type": "stream",
     "text": [
      "Epoch end: Train, epoch number: 5\n",
      "TrainEpoch/CM\n",
      " tensor([[ 6114,   436,  1729,  1515,   155,     2,   215,     0,   321],\n",
      "        [    0, 10799,     9,     0,     0,    14,     0,     0,   237],\n",
      "        [    2,   615, 10621,     0,    19,   222,  1205,    17,   395],\n",
      "        [ 1109,   419,  1747,  6645,   296,     2,   349,     0,   346],\n",
      "        [   28,   456,  1141,   139,  8740,    15,    50,     4,   364],\n",
      "        [    0,   495,   105,     0,     0,  9615,     0,   316,   320],\n",
      "        [  355,   496,  4999,   632,    32,    71,  4041,     4,   305],\n",
      "        [    0,     0,     0,     0,     0,     0,     0, 10687,   214],\n",
      "        [    0,     0,     0,     0,     0,     0,     0,     0, 10911]])\n"
     ]
    },
    {
     "data": {
      "application/vnd.jupyter.widget-view+json": {
       "model_id": "d871072dcec749e199434df05ff3b4ba",
       "version_major": 2,
       "version_minor": 0
      },
      "text/plain": [
       "Validation: |          | 0/? [00:00<?, ?it/s]"
      ]
     },
     "metadata": {},
     "output_type": "display_data"
    },
    {
     "name": "stdout",
     "output_type": "stream",
     "text": [
      "Epoch end: Validation, epoch number: 7\n",
      "ValidationEpoch/CM\n",
      " tensor([[ 7836,   436,  1729,  1523,   155,     2,   215,     0,   321],\n",
      "        [    0, 12623,    10,     0,     0,    14,     0,     0,   237],\n",
      "        [    2,   615, 12487,     0,    19,   222,  1499,    17,   395],\n",
      "        [ 1109,   419,  1747,  8387,   301,     2,   402,     0,   346],\n",
      "        [   28,   456,  1141,   145, 10535,    15,    54,     4,   364],\n",
      "        [    0,   495,   112,     0,     0, 11398,     0,   316,   320],\n",
      "        [  355,   496,  5374,   765,    32,    71,  5338,     4,   305],\n",
      "        [    0,     0,     0,     0,     0,     0,     0, 12487,   214],\n",
      "        [    0,     0,     0,     0,     0,     0,     0,     0, 12711]])\n"
     ]
    },
    {
     "name": "stderr",
     "output_type": "stream",
     "text": [
      "Metric Validation/Accuracy improved by 0.015 >= min_delta = 0.0. New best score: 0.957\n"
     ]
    },
    {
     "name": "stdout",
     "output_type": "stream",
     "text": [
      "Epoch end: Train, epoch number: 6\n",
      "TrainEpoch/CM\n",
      " tensor([[ 7836,   436,  1729,  1523,   155,     2,   215,     0,   321],\n",
      "        [    0, 12623,    10,     0,     0,    14,     0,     0,   237],\n",
      "        [    2,   615, 12487,     0,    19,   222,  1499,    17,   395],\n",
      "        [ 1109,   419,  1747,  8387,   301,     2,   402,     0,   346],\n",
      "        [   28,   456,  1141,   145, 10535,    15,    54,     4,   364],\n",
      "        [    0,   495,   112,     0,     0, 11398,     0,   316,   320],\n",
      "        [  355,   496,  5374,   765,    32,    71,  5338,     4,   305],\n",
      "        [    0,     0,     0,     0,     0,     0,     0, 12487,   214],\n",
      "        [    0,     0,     0,     0,     0,     0,     0,     0, 12711]])\n"
     ]
    },
    {
     "data": {
      "application/vnd.jupyter.widget-view+json": {
       "model_id": "cf41e488d7764e9ea570a7d6e5137262",
       "version_major": 2,
       "version_minor": 0
      },
      "text/plain": [
       "Validation: |          | 0/? [00:00<?, ?it/s]"
      ]
     },
     "metadata": {},
     "output_type": "display_data"
    },
    {
     "name": "stdout",
     "output_type": "stream",
     "text": [
      "Epoch end: Validation, epoch number: 8\n",
      "ValidationEpoch/CM\n",
      " tensor([[ 9560,   436,  1729,  1529,   155,     2,   215,     0,   321],\n",
      "        [    0, 14447,    10,     0,     1,    14,     0,     0,   237],\n",
      "        [    2,   615, 14443,     0,    19,   222,  1703,    17,   395],\n",
      "        [ 1109,   419,  1747, 10127,   303,     2,   460,     0,   346],\n",
      "        [   28,   456,  1141,   147, 12338,    15,    54,     4,   364],\n",
      "        [    0,   495,   114,     0,     0, 13185,     1,   316,   320],\n",
      "        [  357,   496,  5711,   892,    32,    71,  6677,     4,   305],\n",
      "        [    0,     0,     0,     0,     0,     0,     0, 14287,   214],\n",
      "        [    0,     0,     0,     0,     0,     0,     0,     0, 14511]])\n"
     ]
    },
    {
     "name": "stderr",
     "output_type": "stream",
     "text": [
      "Metric Validation/Accuracy improved by 0.005 >= min_delta = 0.0. New best score: 0.962\n"
     ]
    },
    {
     "name": "stdout",
     "output_type": "stream",
     "text": [
      "Epoch end: Train, epoch number: 7\n",
      "TrainEpoch/CM\n",
      " tensor([[ 9560,   436,  1729,  1529,   155,     2,   215,     0,   321],\n",
      "        [    0, 14447,    10,     0,     1,    14,     0,     0,   237],\n",
      "        [    2,   615, 14443,     0,    19,   222,  1703,    17,   395],\n",
      "        [ 1109,   419,  1747, 10127,   303,     2,   460,     0,   346],\n",
      "        [   28,   456,  1141,   147, 12338,    15,    54,     4,   364],\n",
      "        [    0,   495,   114,     0,     0, 13185,     1,   316,   320],\n",
      "        [  357,   496,  5711,   892,    32,    71,  6677,     4,   305],\n",
      "        [    0,     0,     0,     0,     0,     0,     0, 14287,   214],\n",
      "        [    0,     0,     0,     0,     0,     0,     0,     0, 14511]])\n"
     ]
    },
    {
     "data": {
      "application/vnd.jupyter.widget-view+json": {
       "model_id": "12b7aabdaccf43069972c5c7f51f6ce9",
       "version_major": 2,
       "version_minor": 0
      },
      "text/plain": [
       "Validation: |          | 0/? [00:00<?, ?it/s]"
      ]
     },
     "metadata": {},
     "output_type": "display_data"
    },
    {
     "name": "stdout",
     "output_type": "stream",
     "text": [
      "Epoch end: Validation, epoch number: 9\n",
      "ValidationEpoch/CM\n",
      " tensor([[11285,   436,  1729,  1534,   155,     2,   215,     0,   321],\n",
      "        [    0, 16272,    10,     0,     1,    14,     0,     0,   237],\n",
      "        [    2,   615, 16472,     0,    19,   222,  1834,    17,   395],\n",
      "        [ 1109,   419,  1747, 11884,   304,     2,   502,     0,   346],\n",
      "        [   28,   456,  1141,   147, 14143,    15,    54,     4,   364],\n",
      "        [    0,   495,   114,     0,     0, 14974,     2,   316,   320],\n",
      "        [  357,   496,  5910,  1020,    32,    71,  8155,     4,   305],\n",
      "        [    0,     0,     0,     0,     0,     0,     0, 16087,   214],\n",
      "        [    0,     0,     0,     0,     0,     0,     0,     0, 16311]])\n",
      "Epoch end: Train, epoch number: 8\n"
     ]
    },
    {
     "name": "stderr",
     "output_type": "stream",
     "text": [
      "Metric Validation/Accuracy improved by 0.011 >= min_delta = 0.0. New best score: 0.972\n"
     ]
    },
    {
     "name": "stdout",
     "output_type": "stream",
     "text": [
      "TrainEpoch/CM\n",
      " tensor([[11285,   436,  1729,  1534,   155,     2,   215,     0,   321],\n",
      "        [    0, 16272,    10,     0,     1,    14,     0,     0,   237],\n",
      "        [    2,   615, 16472,     0,    19,   222,  1834,    17,   395],\n",
      "        [ 1109,   419,  1747, 11884,   304,     2,   502,     0,   346],\n",
      "        [   28,   456,  1141,   147, 14143,    15,    54,     4,   364],\n",
      "        [    0,   495,   114,     0,     0, 14974,     2,   316,   320],\n",
      "        [  357,   496,  5910,  1020,    32,    71,  8155,     4,   305],\n",
      "        [    0,     0,     0,     0,     0,     0,     0, 16087,   214],\n",
      "        [    0,     0,     0,     0,     0,     0,     0,     0, 16311]])\n"
     ]
    },
    {
     "data": {
      "application/vnd.jupyter.widget-view+json": {
       "model_id": "6353158b5fa54490bc7d0605f808928b",
       "version_major": 2,
       "version_minor": 0
      },
      "text/plain": [
       "Validation: |          | 0/? [00:00<?, ?it/s]"
      ]
     },
     "metadata": {},
     "output_type": "display_data"
    },
    {
     "name": "stdout",
     "output_type": "stream",
     "text": [
      "Epoch end: Validation, epoch number: 10\n",
      "ValidationEpoch/CM\n",
      " tensor([[13010,   436,  1729,  1539,   155,     2,   215,     0,   321],\n",
      "        [    0, 18097,    10,     0,     1,    14,     0,     0,   237],\n",
      "        [    2,   615, 18511,     0,    19,   222,  1955,    17,   395],\n",
      "        [ 1109,   419,  1747, 13637,   304,     2,   549,     0,   346],\n",
      "        [   28,   456,  1141,   147, 15948,    15,    54,     4,   364],\n",
      "        [    0,   495,   114,     0,     0, 16764,     2,   316,   320],\n",
      "        [  357,   496,  6038,  1142,    32,    71,  9710,     4,   305],\n",
      "        [    0,     0,     0,     0,     0,     0,     0, 17887,   214],\n",
      "        [    0,     0,     0,     0,     0,     0,     0,     0, 18111]])\n",
      "Epoch end: Train, epoch number: 9\n",
      "TrainEpoch/CM\n",
      " tensor([[13010,   436,  1729,  1539,   155,     2,   215,     0,   321],\n",
      "        [    0, 18097,    10,     0,     1,    14,     0,     0,   237],\n",
      "        [    2,   615, 18511,     0,    19,   222,  1955,    17,   395],\n",
      "        [ 1109,   419,  1747, 13637,   304,     2,   549,     0,   346],\n",
      "        [   28,   456,  1141,   147, 15948,    15,    54,     4,   364],\n",
      "        [    0,   495,   114,     0,     0, 16764,     2,   316,   320],\n",
      "        [  357,   496,  6038,  1142,    32,    71,  9710,     4,   305],\n",
      "        [    0,     0,     0,     0,     0,     0,     0, 17887,   214],\n",
      "        [    0,     0,     0,     0,     0,     0,     0,     0, 18111]])\n"
     ]
    },
    {
     "name": "stderr",
     "output_type": "stream",
     "text": [
      "Metric Validation/Accuracy improved by 0.001 >= min_delta = 0.0. New best score: 0.973\n"
     ]
    },
    {
     "data": {
      "application/vnd.jupyter.widget-view+json": {
       "model_id": "2ab9472c9c964299b53201f1521af2c5",
       "version_major": 2,
       "version_minor": 0
      },
      "text/plain": [
       "Validation: |          | 0/? [00:00<?, ?it/s]"
      ]
     },
     "metadata": {},
     "output_type": "display_data"
    },
    {
     "name": "stdout",
     "output_type": "stream",
     "text": [
      "Epoch end: Validation, epoch number: 11\n",
      "ValidationEpoch/CM\n",
      " tensor([[14736,   436,  1729,  1543,   155,     2,   215,     0,   321],\n",
      "        [    0, 19922,    10,     0,     1,    14,     0,     0,   237],\n",
      "        [    2,   615, 20562,     0,    19,   222,  2064,    17,   395],\n",
      "        [ 1109,   419,  1747, 15398,   304,     2,   588,     0,   346],\n",
      "        [   28,   456,  1141,   147, 17753,    15,    54,     4,   364],\n",
      "        [    0,   495,   114,     0,     0, 18554,     2,   316,   320],\n",
      "        [  357,   496,  6126,  1263,    32,    71, 11306,     4,   305],\n",
      "        [    0,     0,     0,     0,     0,     0,     0, 19687,   214],\n",
      "        [    0,     0,     0,     0,     0,     0,     0,     0, 19911]])\n"
     ]
    },
    {
     "name": "stderr",
     "output_type": "stream",
     "text": [
      "Metric Validation/Accuracy improved by 0.006 >= min_delta = 0.0. New best score: 0.980\n"
     ]
    },
    {
     "name": "stdout",
     "output_type": "stream",
     "text": [
      "Epoch end: Train, epoch number: 10\n",
      "TrainEpoch/CM\n",
      " tensor([[14736,   436,  1729,  1543,   155,     2,   215,     0,   321],\n",
      "        [    0, 19922,    10,     0,     1,    14,     0,     0,   237],\n",
      "        [    2,   615, 20562,     0,    19,   222,  2064,    17,   395],\n",
      "        [ 1109,   419,  1747, 15398,   304,     2,   588,     0,   346],\n",
      "        [   28,   456,  1141,   147, 17753,    15,    54,     4,   364],\n",
      "        [    0,   495,   114,     0,     0, 18554,     2,   316,   320],\n",
      "        [  357,   496,  6126,  1263,    32,    71, 11306,     4,   305],\n",
      "        [    0,     0,     0,     0,     0,     0,     0, 19687,   214],\n",
      "        [    0,     0,     0,     0,     0,     0,     0,     0, 19911]])\n"
     ]
    },
    {
     "data": {
      "application/vnd.jupyter.widget-view+json": {
       "model_id": "6b402001707040478564e3d809e05b56",
       "version_major": 2,
       "version_minor": 0
      },
      "text/plain": [
       "Validation: |          | 0/? [00:00<?, ?it/s]"
      ]
     },
     "metadata": {},
     "output_type": "display_data"
    },
    {
     "name": "stdout",
     "output_type": "stream",
     "text": [
      "Epoch end: Validation, epoch number: 12\n",
      "ValidationEpoch/CM\n",
      " tensor([[16461,   436,  1729,  1548,   155,     2,   215,     0,   321],\n",
      "        [    0, 21747,    10,     0,     1,    14,     0,     0,   237],\n",
      "        [    2,   615, 22631,     0,    19,   222,  2155,    17,   395],\n",
      "        [ 1109,   419,  1747, 17164,   304,     2,   622,     0,   346],\n",
      "        [   28,   456,  1141,   147, 19558,    15,    54,     4,   364],\n",
      "        [    0,   495,   114,     0,     0, 20344,     2,   316,   320],\n",
      "        [  357,   496,  6181,  1376,    32,    71, 12943,     4,   305],\n",
      "        [    0,     0,     0,     0,     0,     0,     0, 21487,   214],\n",
      "        [    0,     0,     0,     0,     0,     0,     0,     0, 21711]])\n",
      "Epoch end: Train, epoch number: 11\n",
      "TrainEpoch/CM\n",
      " tensor([[16461,   436,  1729,  1548,   155,     2,   215,     0,   321],\n",
      "        [    0, 21747,    10,     0,     1,    14,     0,     0,   237],\n",
      "        [    2,   615, 22631,     0,    19,   222,  2155,    17,   395],\n",
      "        [ 1109,   419,  1747, 17164,   304,     2,   622,     0,   346],\n",
      "        [   28,   456,  1141,   147, 19558,    15,    54,     4,   364],\n",
      "        [    0,   495,   114,     0,     0, 20344,     2,   316,   320],\n",
      "        [  357,   496,  6181,  1376,    32,    71, 12943,     4,   305],\n",
      "        [    0,     0,     0,     0,     0,     0,     0, 21487,   214],\n",
      "        [    0,     0,     0,     0,     0,     0,     0,     0, 21711]])\n"
     ]
    },
    {
     "name": "stderr",
     "output_type": "stream",
     "text": [
      "Metric Validation/Accuracy improved by 0.002 >= min_delta = 0.0. New best score: 0.981\n"
     ]
    },
    {
     "data": {
      "application/vnd.jupyter.widget-view+json": {
       "model_id": "30b95567af9149fb960cb78db573b51a",
       "version_major": 2,
       "version_minor": 0
      },
      "text/plain": [
       "Validation: |          | 0/? [00:00<?, ?it/s]"
      ]
     },
     "metadata": {},
     "output_type": "display_data"
    },
    {
     "name": "stdout",
     "output_type": "stream",
     "text": [
      "Epoch end: Validation, epoch number: 13\n",
      "ValidationEpoch/CM\n",
      " tensor([[18186,   436,  1729,  1553,   155,     2,   215,     0,   321],\n",
      "        [    0, 23572,    10,     0,     1,    14,     0,     0,   237],\n",
      "        [    2,   615, 24698,     0,    19,   222,  2248,    17,   395],\n",
      "        [ 1109,   419,  1747, 18936,   304,     2,   650,     0,   346],\n",
      "        [   28,   456,  1141,   147, 21363,    15,    54,     4,   364],\n",
      "        [    0,   495,   114,     0,     0, 22134,     2,   316,   320],\n",
      "        [  357,   496,  6230,  1486,    32,    71, 14589,     4,   305],\n",
      "        [    0,     0,     0,     0,     0,     0,     0, 23287,   214],\n",
      "        [    0,     0,     0,     0,     0,     0,     0,     0, 23511]])\n",
      "Epoch end: Train, epoch number: 12\n",
      "TrainEpoch/CM\n",
      " tensor([[18186,   436,  1729,  1553,   155,     2,   215,     0,   321],\n",
      "        [    0, 23572,    10,     0,     1,    14,     0,     0,   237],\n",
      "        [    2,   615, 24698,     0,    19,   222,  2248,    17,   395],\n",
      "        [ 1109,   419,  1747, 18936,   304,     2,   650,     0,   346],\n",
      "        [   28,   456,  1141,   147, 21363,    15,    54,     4,   364],\n",
      "        [    0,   495,   114,     0,     0, 22134,     2,   316,   320],\n",
      "        [  357,   496,  6230,  1486,    32,    71, 14589,     4,   305],\n",
      "        [    0,     0,     0,     0,     0,     0,     0, 23287,   214],\n",
      "        [    0,     0,     0,     0,     0,     0,     0,     0, 23511]])\n"
     ]
    },
    {
     "name": "stderr",
     "output_type": "stream",
     "text": [
      "Metric Validation/Accuracy improved by 0.000 >= min_delta = 0.0. New best score: 0.981\n"
     ]
    },
    {
     "data": {
      "application/vnd.jupyter.widget-view+json": {
       "model_id": "ef9a5adf81834aadadb0a4f3804ae60e",
       "version_major": 2,
       "version_minor": 0
      },
      "text/plain": [
       "Validation: |          | 0/? [00:00<?, ?it/s]"
      ]
     },
     "metadata": {},
     "output_type": "display_data"
    },
    {
     "name": "stdout",
     "output_type": "stream",
     "text": [
      "Epoch end: Validation, epoch number: 14\n",
      "ValidationEpoch/CM\n",
      " tensor([[19913,   436,  1729,  1556,   155,     2,   215,     0,   321],\n",
      "        [    0, 25397,    10,     0,     1,    14,     0,     0,   237],\n",
      "        [    2,   615, 26776,     0,    19,   222,  2330,    17,   395],\n",
      "        [ 1109,   419,  1747, 20707,   304,     2,   679,     0,   346],\n",
      "        [   28,   456,  1141,   147, 23168,    15,    54,     4,   364],\n",
      "        [    0,   495,   114,     0,     0, 23924,     2,   316,   320],\n",
      "        [  357,   496,  6272,  1594,    32,    71, 16244,     4,   305],\n",
      "        [    0,     0,     0,     0,     0,     0,     0, 25087,   214],\n",
      "        [    0,     0,     0,     0,     0,     0,     0,     0, 25311]])\n"
     ]
    },
    {
     "name": "stderr",
     "output_type": "stream",
     "text": [
      "Metric Validation/Accuracy improved by 0.000 >= min_delta = 0.0. New best score: 0.981\n"
     ]
    },
    {
     "name": "stdout",
     "output_type": "stream",
     "text": [
      "Epoch end: Train, epoch number: 13\n",
      "TrainEpoch/CM\n",
      " tensor([[19913,   436,  1729,  1556,   155,     2,   215,     0,   321],\n",
      "        [    0, 25397,    10,     0,     1,    14,     0,     0,   237],\n",
      "        [    2,   615, 26776,     0,    19,   222,  2330,    17,   395],\n",
      "        [ 1109,   419,  1747, 20707,   304,     2,   679,     0,   346],\n",
      "        [   28,   456,  1141,   147, 23168,    15,    54,     4,   364],\n",
      "        [    0,   495,   114,     0,     0, 23924,     2,   316,   320],\n",
      "        [  357,   496,  6272,  1594,    32,    71, 16244,     4,   305],\n",
      "        [    0,     0,     0,     0,     0,     0,     0, 25087,   214],\n",
      "        [    0,     0,     0,     0,     0,     0,     0,     0, 25311]])\n"
     ]
    },
    {
     "data": {
      "application/vnd.jupyter.widget-view+json": {
       "model_id": "65348989ea0d43cfae16378edb5b8c03",
       "version_major": 2,
       "version_minor": 0
      },
      "text/plain": [
       "Validation: |          | 0/? [00:00<?, ?it/s]"
      ]
     },
     "metadata": {},
     "output_type": "display_data"
    },
    {
     "name": "stdout",
     "output_type": "stream",
     "text": [
      "Epoch end: Validation, epoch number: 15\n",
      "ValidationEpoch/CM\n",
      " tensor([[21638,   436,  1729,  1561,   155,     2,   215,     0,   321],\n",
      "        [    0, 27222,    10,     0,     1,    14,     0,     0,   237],\n",
      "        [    2,   615, 28861,     0,    19,   222,  2405,    17,   395],\n",
      "        [ 1109,   419,  1747, 22485,   304,     2,   701,     0,   346],\n",
      "        [   28,   456,  1141,   147, 24973,    15,    54,     4,   364],\n",
      "        [    0,   495,   114,     0,     0, 25714,     2,   316,   320],\n",
      "        [  357,   496,  6315,  1696,    32,    71, 17904,     4,   305],\n",
      "        [    0,     0,     0,     0,     0,     0,     0, 26887,   214],\n",
      "        [    0,     0,     0,     0,     0,     0,     0,     0, 27111]])\n"
     ]
    },
    {
     "name": "stderr",
     "output_type": "stream",
     "text": [
      "Metric Validation/Accuracy improved by 0.002 >= min_delta = 0.0. New best score: 0.983\n"
     ]
    },
    {
     "name": "stdout",
     "output_type": "stream",
     "text": [
      "Epoch end: Train, epoch number: 14\n",
      "TrainEpoch/CM\n",
      " tensor([[21638,   436,  1729,  1561,   155,     2,   215,     0,   321],\n",
      "        [    0, 27222,    10,     0,     1,    14,     0,     0,   237],\n",
      "        [    2,   615, 28861,     0,    19,   222,  2405,    17,   395],\n",
      "        [ 1109,   419,  1747, 22485,   304,     2,   701,     0,   346],\n",
      "        [   28,   456,  1141,   147, 24973,    15,    54,     4,   364],\n",
      "        [    0,   495,   114,     0,     0, 25714,     2,   316,   320],\n",
      "        [  357,   496,  6315,  1696,    32,    71, 17904,     4,   305],\n",
      "        [    0,     0,     0,     0,     0,     0,     0, 26887,   214],\n",
      "        [    0,     0,     0,     0,     0,     0,     0,     0, 27111]])\n"
     ]
    },
    {
     "data": {
      "application/vnd.jupyter.widget-view+json": {
       "model_id": "0691ac88bddc46418c6d24428cc857b4",
       "version_major": 2,
       "version_minor": 0
      },
      "text/plain": [
       "Validation: |          | 0/? [00:00<?, ?it/s]"
      ]
     },
     "metadata": {},
     "output_type": "display_data"
    },
    {
     "name": "stdout",
     "output_type": "stream",
     "text": [
      "Epoch end: Validation, epoch number: 16\n",
      "ValidationEpoch/CM\n",
      " tensor([[23364,   436,  1729,  1565,   155,     2,   215,     0,   321],\n",
      "        [    0, 29047,    10,     0,     1,    14,     0,     0,   237],\n",
      "        [    2,   615, 30959,     0,    19,   222,  2467,    17,   395],\n",
      "        [ 1109,   419,  1747, 24267,   304,     2,   719,     0,   346],\n",
      "        [   28,   456,  1141,   147, 26778,    15,    54,     4,   364],\n",
      "        [    0,   495,   114,     0,     0, 27504,     2,   316,   320],\n",
      "        [  357,   496,  6370,  1797,    32,    71, 19553,     4,   305],\n",
      "        [    0,     0,     0,     0,     0,     0,     0, 28687,   214],\n",
      "        [    0,     0,     0,     0,     0,     0,     0,     0, 28911]])\n",
      "Epoch end: Train, epoch number: 15\n",
      "TrainEpoch/CM\n",
      " tensor([[23364,   436,  1729,  1565,   155,     2,   215,     0,   321],\n",
      "        [    0, 29047,    10,     0,     1,    14,     0,     0,   237],\n",
      "        [    2,   615, 30959,     0,    19,   222,  2467,    17,   395],\n",
      "        [ 1109,   419,  1747, 24267,   304,     2,   719,     0,   346],\n",
      "        [   28,   456,  1141,   147, 26778,    15,    54,     4,   364],\n",
      "        [    0,   495,   114,     0,     0, 27504,     2,   316,   320],\n",
      "        [  357,   496,  6370,  1797,    32,    71, 19553,     4,   305],\n",
      "        [    0,     0,     0,     0,     0,     0,     0, 28687,   214],\n",
      "        [    0,     0,     0,     0,     0,     0,     0,     0, 28911]])\n"
     ]
    },
    {
     "data": {
      "application/vnd.jupyter.widget-view+json": {
       "model_id": "70755bb883a2425391a318a99bbc4dac",
       "version_major": 2,
       "version_minor": 0
      },
      "text/plain": [
       "Validation: |          | 0/? [00:00<?, ?it/s]"
      ]
     },
     "metadata": {},
     "output_type": "display_data"
    },
    {
     "name": "stdout",
     "output_type": "stream",
     "text": [
      "Epoch end: Validation, epoch number: 17\n",
      "ValidationEpoch/CM\n",
      " tensor([[25093,   436,  1729,  1566,   155,     2,   215,     0,   321],\n",
      "        [    0, 30872,    10,     0,     1,    14,     0,     0,   237],\n",
      "        [    2,   615, 33026,     0,    19,   222,  2560,    17,   395],\n",
      "        [ 1109,   419,  1747, 26031,   304,     2,   755,     0,   346],\n",
      "        [   28,   456,  1141,   147, 28583,    15,    54,     4,   364],\n",
      "        [    0,   495,   114,     0,     0, 29294,     2,   316,   320],\n",
      "        [  360,   496,  6436,  1882,    32,    71, 21204,     4,   305],\n",
      "        [    0,     0,     0,     0,     0,     0,     0, 30487,   214],\n",
      "        [    0,     0,     0,     0,     0,     0,     0,     0, 30711]])\n"
     ]
    },
    {
     "name": "stderr",
     "output_type": "stream",
     "text": [
      "Metric Validation/Accuracy improved by 0.000 >= min_delta = 0.0. New best score: 0.983\n"
     ]
    },
    {
     "name": "stdout",
     "output_type": "stream",
     "text": [
      "Epoch end: Train, epoch number: 16\n",
      "TrainEpoch/CM\n",
      " tensor([[25093,   436,  1729,  1566,   155,     2,   215,     0,   321],\n",
      "        [    0, 30872,    10,     0,     1,    14,     0,     0,   237],\n",
      "        [    2,   615, 33026,     0,    19,   222,  2560,    17,   395],\n",
      "        [ 1109,   419,  1747, 26031,   304,     2,   755,     0,   346],\n",
      "        [   28,   456,  1141,   147, 28583,    15,    54,     4,   364],\n",
      "        [    0,   495,   114,     0,     0, 29294,     2,   316,   320],\n",
      "        [  360,   496,  6436,  1882,    32,    71, 21204,     4,   305],\n",
      "        [    0,     0,     0,     0,     0,     0,     0, 30487,   214],\n",
      "        [    0,     0,     0,     0,     0,     0,     0,     0, 30711]])\n"
     ]
    },
    {
     "data": {
      "application/vnd.jupyter.widget-view+json": {
       "model_id": "f58afec5576e444595701661046a77de",
       "version_major": 2,
       "version_minor": 0
      },
      "text/plain": [
       "Validation: |          | 0/? [00:00<?, ?it/s]"
      ]
     },
     "metadata": {},
     "output_type": "display_data"
    },
    {
     "name": "stdout",
     "output_type": "stream",
     "text": [
      "Epoch end: Validation, epoch number: 18\n",
      "ValidationEpoch/CM\n",
      " tensor([[26820,   436,  1729,  1569,   155,     2,   215,     0,   321],\n",
      "        [    0, 32697,    10,     0,     1,    14,     0,     0,   237],\n",
      "        [    2,   615, 35106,     0,    19,   222,  2640,    17,   395],\n",
      "        [ 1109,   419,  1747, 27809,   304,     2,   777,     0,   346],\n",
      "        [   28,   456,  1141,   147, 30388,    15,    54,     4,   364],\n",
      "        [    0,   495,   114,     0,     0, 31084,     2,   316,   320],\n",
      "        [  363,   496,  6486,  1969,    32,    71, 22869,     4,   305],\n",
      "        [    0,     0,     0,     0,     0,     0,     0, 32287,   214],\n",
      "        [    0,     0,     0,     0,     0,     0,     0,     0, 32511]])\n",
      "Epoch end: Train, epoch number: 17\n",
      "TrainEpoch/CM\n",
      " tensor([[26820,   436,  1729,  1569,   155,     2,   215,     0,   321],\n",
      "        [    0, 32697,    10,     0,     1,    14,     0,     0,   237],\n",
      "        [    2,   615, 35106,     0,    19,   222,  2640,    17,   395],\n",
      "        [ 1109,   419,  1747, 27809,   304,     2,   777,     0,   346],\n",
      "        [   28,   456,  1141,   147, 30388,    15,    54,     4,   364],\n",
      "        [    0,   495,   114,     0,     0, 31084,     2,   316,   320],\n",
      "        [  363,   496,  6486,  1969,    32,    71, 22869,     4,   305],\n",
      "        [    0,     0,     0,     0,     0,     0,     0, 32287,   214],\n",
      "        [    0,     0,     0,     0,     0,     0,     0,     0, 32511]])\n"
     ]
    },
    {
     "name": "stderr",
     "output_type": "stream",
     "text": [
      "Metric Validation/Accuracy improved by 0.002 >= min_delta = 0.0. New best score: 0.985\n"
     ]
    },
    {
     "data": {
      "application/vnd.jupyter.widget-view+json": {
       "model_id": "3677f6ebfee04d91bb61c5697e19e8c5",
       "version_major": 2,
       "version_minor": 0
      },
      "text/plain": [
       "Validation: |          | 0/? [00:00<?, ?it/s]"
      ]
     },
     "metadata": {},
     "output_type": "display_data"
    },
    {
     "name": "stdout",
     "output_type": "stream",
     "text": [
      "Epoch end: Validation, epoch number: 19\n",
      "ValidationEpoch/CM\n",
      " tensor([[28548,   436,  1729,  1571,   155,     2,   215,     0,   321],\n",
      "        [    0, 34522,    10,     0,     1,    14,     0,     0,   237],\n",
      "        [    2,   615, 37198,     0,    19,   222,  2708,    17,   395],\n",
      "        [ 1109,   419,  1747, 29586,   304,     2,   800,     0,   346],\n",
      "        [   28,   456,  1141,   147, 32193,    15,    54,     4,   364],\n",
      "        [    0,   495,   114,     0,     0, 32874,     2,   316,   320],\n",
      "        [  366,   496,  6548,  2051,    32,    71, 24527,     4,   305],\n",
      "        [    0,     0,     0,     0,     0,     0,     0, 34087,   214],\n",
      "        [    0,     0,     0,     0,     0,     0,     0,     0, 34311]])\n"
     ]
    },
    {
     "name": "stderr",
     "output_type": "stream",
     "text": [
      "Metric Validation/Accuracy improved by 0.002 >= min_delta = 0.0. New best score: 0.987\n"
     ]
    },
    {
     "name": "stdout",
     "output_type": "stream",
     "text": [
      "Epoch end: Train, epoch number: 18\n",
      "TrainEpoch/CM\n",
      " tensor([[28548,   436,  1729,  1571,   155,     2,   215,     0,   321],\n",
      "        [    0, 34522,    10,     0,     1,    14,     0,     0,   237],\n",
      "        [    2,   615, 37198,     0,    19,   222,  2708,    17,   395],\n",
      "        [ 1109,   419,  1747, 29586,   304,     2,   800,     0,   346],\n",
      "        [   28,   456,  1141,   147, 32193,    15,    54,     4,   364],\n",
      "        [    0,   495,   114,     0,     0, 32874,     2,   316,   320],\n",
      "        [  366,   496,  6548,  2051,    32,    71, 24527,     4,   305],\n",
      "        [    0,     0,     0,     0,     0,     0,     0, 34087,   214],\n",
      "        [    0,     0,     0,     0,     0,     0,     0,     0, 34311]])\n"
     ]
    },
    {
     "data": {
      "application/vnd.jupyter.widget-view+json": {
       "model_id": "fd6d761045f947c487526ff85f1a0097",
       "version_major": 2,
       "version_minor": 0
      },
      "text/plain": [
       "Validation: |          | 0/? [00:00<?, ?it/s]"
      ]
     },
     "metadata": {},
     "output_type": "display_data"
    },
    {
     "name": "stdout",
     "output_type": "stream",
     "text": [
      "Epoch end: Validation, epoch number: 20\n",
      "ValidationEpoch/CM\n",
      " tensor([[30275,   436,  1729,  1574,   155,     2,   215,     0,   321],\n",
      "        [    0, 36347,    10,     0,     1,    14,     0,     0,   237],\n",
      "        [    2,   615, 39302,     0,    19,   222,  2764,    17,   395],\n",
      "        [ 1109,   419,  1747, 31372,   304,     2,   814,     0,   346],\n",
      "        [   28,   456,  1141,   147, 33998,    15,    54,     4,   364],\n",
      "        [    0,   495,   114,     0,     0, 34664,     2,   316,   320],\n",
      "        [  368,   496,  6602,  2128,    32,    71, 26199,     4,   305],\n",
      "        [    0,     0,     0,     0,     0,     0,     0, 35887,   214],\n",
      "        [    0,     0,     0,     0,     0,     0,     0,     0, 36111]])\n",
      "Epoch end: Train, epoch number: 19\n",
      "TrainEpoch/CM\n",
      " tensor([[30275,   436,  1729,  1574,   155,     2,   215,     0,   321],\n",
      "        [    0, 36347,    10,     0,     1,    14,     0,     0,   237],\n",
      "        [    2,   615, 39302,     0,    19,   222,  2764,    17,   395],\n",
      "        [ 1109,   419,  1747, 31372,   304,     2,   814,     0,   346],\n",
      "        [   28,   456,  1141,   147, 33998,    15,    54,     4,   364],\n",
      "        [    0,   495,   114,     0,     0, 34664,     2,   316,   320],\n",
      "        [  368,   496,  6602,  2128,    32,    71, 26199,     4,   305],\n",
      "        [    0,     0,     0,     0,     0,     0,     0, 35887,   214],\n",
      "        [    0,     0,     0,     0,     0,     0,     0,     0, 36111]])\n"
     ]
    },
    {
     "data": {
      "application/vnd.jupyter.widget-view+json": {
       "model_id": "3ac46d94ec974d59a81c35a47b24eba0",
       "version_major": 2,
       "version_minor": 0
      },
      "text/plain": [
       "Validation: |          | 0/? [00:00<?, ?it/s]"
      ]
     },
     "metadata": {},
     "output_type": "display_data"
    },
    {
     "name": "stdout",
     "output_type": "stream",
     "text": [
      "Epoch end: Validation, epoch number: 21\n",
      "ValidationEpoch/CM\n",
      " tensor([[32003,   436,  1729,  1576,   155,     2,   215,     0,   321],\n",
      "        [    0, 38172,    10,     0,     1,    14,     0,     0,   237],\n",
      "        [    2,   615, 41407,     0,    19,   222,  2819,    17,   395],\n",
      "        [ 1109,   419,  1747, 33157,   304,     2,   829,     0,   346],\n",
      "        [   28,   456,  1141,   147, 35803,    15,    54,     4,   364],\n",
      "        [    0,   495,   114,     0,     0, 36454,     2,   316,   320],\n",
      "        [  368,   496,  6638,  2188,    32,    71, 27908,     4,   305],\n",
      "        [    0,     0,     0,     0,     0,     0,     0, 37687,   214],\n",
      "        [    0,     0,     0,     0,     0,     0,     0,     0, 37911]])\n"
     ]
    },
    {
     "name": "stderr",
     "output_type": "stream",
     "text": [
      "Metric Validation/Accuracy improved by 0.003 >= min_delta = 0.0. New best score: 0.990\n"
     ]
    },
    {
     "name": "stdout",
     "output_type": "stream",
     "text": [
      "Epoch end: Train, epoch number: 20\n",
      "TrainEpoch/CM\n",
      " tensor([[32003,   436,  1729,  1576,   155,     2,   215,     0,   321],\n",
      "        [    0, 38172,    10,     0,     1,    14,     0,     0,   237],\n",
      "        [    2,   615, 41407,     0,    19,   222,  2819,    17,   395],\n",
      "        [ 1109,   419,  1747, 33157,   304,     2,   829,     0,   346],\n",
      "        [   28,   456,  1141,   147, 35803,    15,    54,     4,   364],\n",
      "        [    0,   495,   114,     0,     0, 36454,     2,   316,   320],\n",
      "        [  368,   496,  6638,  2188,    32,    71, 27908,     4,   305],\n",
      "        [    0,     0,     0,     0,     0,     0,     0, 37687,   214],\n",
      "        [    0,     0,     0,     0,     0,     0,     0,     0, 37911]])\n"
     ]
    },
    {
     "data": {
      "application/vnd.jupyter.widget-view+json": {
       "model_id": "2f183f3b00e54fd39a24d0b09afb06c4",
       "version_major": 2,
       "version_minor": 0
      },
      "text/plain": [
       "Validation: |          | 0/? [00:00<?, ?it/s]"
      ]
     },
     "metadata": {},
     "output_type": "display_data"
    },
    {
     "name": "stdout",
     "output_type": "stream",
     "text": [
      "Epoch end: Validation, epoch number: 22\n",
      "ValidationEpoch/CM\n",
      " tensor([[33731,   436,  1729,  1578,   155,     2,   215,     0,   321],\n",
      "        [    0, 39997,    10,     0,     1,    14,     0,     0,   237],\n",
      "        [    2,   615, 43519,     0,    19,   222,  2867,    17,   395],\n",
      "        [ 1109,   419,  1747, 34949,   304,     2,   837,     0,   346],\n",
      "        [   28,   456,  1141,   147, 37608,    15,    54,     4,   364],\n",
      "        [    0,   495,   114,     0,     0, 38244,     2,   316,   320],\n",
      "        [  368,   496,  6688,  2253,    32,    72, 29597,     4,   305],\n",
      "        [    0,     0,     0,     0,     0,     0,     0, 39487,   214],\n",
      "        [    0,     0,     0,     0,     0,     0,     0,     0, 39711]])\n",
      "Epoch end: Train, epoch number: 21\n",
      "TrainEpoch/CM\n",
      " tensor([[33731,   436,  1729,  1578,   155,     2,   215,     0,   321],\n",
      "        [    0, 39997,    10,     0,     1,    14,     0,     0,   237],\n",
      "        [    2,   615, 43519,     0,    19,   222,  2867,    17,   395],\n",
      "        [ 1109,   419,  1747, 34949,   304,     2,   837,     0,   346],\n",
      "        [   28,   456,  1141,   147, 37608,    15,    54,     4,   364],\n",
      "        [    0,   495,   114,     0,     0, 38244,     2,   316,   320],\n",
      "        [  368,   496,  6688,  2253,    32,    72, 29597,     4,   305],\n",
      "        [    0,     0,     0,     0,     0,     0,     0, 39487,   214],\n",
      "        [    0,     0,     0,     0,     0,     0,     0,     0, 39711]])\n"
     ]
    },
    {
     "data": {
      "application/vnd.jupyter.widget-view+json": {
       "model_id": "d27385239c454e199e3a746e1b22091e",
       "version_major": 2,
       "version_minor": 0
      },
      "text/plain": [
       "Validation: |          | 0/? [00:00<?, ?it/s]"
      ]
     },
     "metadata": {},
     "output_type": "display_data"
    },
    {
     "name": "stdout",
     "output_type": "stream",
     "text": [
      "Epoch end: Validation, epoch number: 23\n",
      "ValidationEpoch/CM\n",
      " tensor([[35461,   436,  1729,  1578,   155,     2,   215,     0,   321],\n",
      "        [    0, 41822,    10,     0,     1,    14,     0,     0,   237],\n",
      "        [    2,   615, 45634,     0,    19,   222,  2912,    17,   395],\n",
      "        [ 1109,   419,  1747, 36739,   304,     2,   847,     0,   346],\n",
      "        [   28,   456,  1141,   147, 39413,    15,    54,     4,   364],\n",
      "        [    0,   495,   114,     0,     0, 40034,     2,   316,   320],\n",
      "        [  368,   496,  6740,  2321,    32,    73, 31281,     4,   305],\n",
      "        [    0,     0,     0,     0,     0,     0,     0, 41287,   214],\n",
      "        [    0,     0,     0,     0,     0,     0,     0,     0, 41511]])\n",
      "Epoch end: Train, epoch number: 22\n",
      "TrainEpoch/CM\n",
      " tensor([[35461,   436,  1729,  1578,   155,     2,   215,     0,   321],\n",
      "        [    0, 41822,    10,     0,     1,    14,     0,     0,   237],\n",
      "        [    2,   615, 45634,     0,    19,   222,  2912,    17,   395],\n",
      "        [ 1109,   419,  1747, 36739,   304,     2,   847,     0,   346],\n",
      "        [   28,   456,  1141,   147, 39413,    15,    54,     4,   364],\n",
      "        [    0,   495,   114,     0,     0, 40034,     2,   316,   320],\n",
      "        [  368,   496,  6740,  2321,    32,    73, 31281,     4,   305],\n",
      "        [    0,     0,     0,     0,     0,     0,     0, 41287,   214],\n",
      "        [    0,     0,     0,     0,     0,     0,     0,     0, 41511]])\n"
     ]
    },
    {
     "data": {
      "application/vnd.jupyter.widget-view+json": {
       "model_id": "3557c6d6e70f4e72b8406c4e6fff0f4e",
       "version_major": 2,
       "version_minor": 0
      },
      "text/plain": [
       "Validation: |          | 0/? [00:00<?, ?it/s]"
      ]
     },
     "metadata": {},
     "output_type": "display_data"
    },
    {
     "name": "stdout",
     "output_type": "stream",
     "text": [
      "Epoch end: Validation, epoch number: 24\n",
      "ValidationEpoch/CM\n",
      " tensor([[37190,   436,  1729,  1579,   155,     2,   215,     0,   321],\n",
      "        [    0, 43647,    10,     0,     1,    14,     0,     0,   237],\n",
      "        [    2,   615, 47743,     0,    19,   222,  2963,    17,   395],\n",
      "        [ 1109,   419,  1747, 38526,   304,     2,   860,     0,   346],\n",
      "        [   28,   456,  1141,   147, 41218,    15,    54,     4,   364],\n",
      "        [    0,   495,   114,     0,     0, 41824,     2,   316,   320],\n",
      "        [  368,   496,  6779,  2379,    32,    73, 32989,     4,   305],\n",
      "        [    0,     0,     0,     0,     0,     0,     0, 43087,   214],\n",
      "        [    0,     0,     0,     0,     0,     0,     0,     0, 43311]])\n",
      "Epoch end: Train, epoch number: 23\n",
      "TrainEpoch/CM\n",
      " tensor([[37190,   436,  1729,  1579,   155,     2,   215,     0,   321],\n",
      "        [    0, 43647,    10,     0,     1,    14,     0,     0,   237],\n",
      "        [    2,   615, 47743,     0,    19,   222,  2963,    17,   395],\n",
      "        [ 1109,   419,  1747, 38526,   304,     2,   860,     0,   346],\n",
      "        [   28,   456,  1141,   147, 41218,    15,    54,     4,   364],\n",
      "        [    0,   495,   114,     0,     0, 41824,     2,   316,   320],\n",
      "        [  368,   496,  6779,  2379,    32,    73, 32989,     4,   305],\n",
      "        [    0,     0,     0,     0,     0,     0,     0, 43087,   214],\n",
      "        [    0,     0,     0,     0,     0,     0,     0,     0, 43311]])\n"
     ]
    },
    {
     "data": {
      "application/vnd.jupyter.widget-view+json": {
       "model_id": "806dc6de4cac41fc9d5171d351dfbca6",
       "version_major": 2,
       "version_minor": 0
      },
      "text/plain": [
       "Validation: |          | 0/? [00:00<?, ?it/s]"
      ]
     },
     "metadata": {},
     "output_type": "display_data"
    },
    {
     "name": "stdout",
     "output_type": "stream",
     "text": [
      "Epoch end: Validation, epoch number: 25\n",
      "ValidationEpoch/CM\n",
      " tensor([[38920,   436,  1729,  1579,   155,     2,   215,     0,   321],\n",
      "        [    0, 45472,    10,     0,     1,    14,     0,     0,   237],\n",
      "        [    2,   615, 49839,     0,    19,   222,  3027,    17,   395],\n",
      "        [ 1109,   419,  1747, 40313,   304,     2,   873,     0,   346],\n",
      "        [   28,   456,  1141,   147, 43023,    15,    54,     4,   364],\n",
      "        [    0,   495,   114,     0,     0, 43614,     2,   316,   320],\n",
      "        [  368,   496,  6811,  2435,    32,    75, 34704,     4,   305],\n",
      "        [    0,     0,     0,     0,     0,     0,     0, 44887,   214],\n",
      "        [    0,     0,     0,     0,     0,     0,     0,     0, 45111]])\n",
      "Epoch end: Train, epoch number: 24\n",
      "TrainEpoch/CM\n",
      " tensor([[38920,   436,  1729,  1579,   155,     2,   215,     0,   321],\n",
      "        [    0, 45472,    10,     0,     1,    14,     0,     0,   237],\n",
      "        [    2,   615, 49839,     0,    19,   222,  3027,    17,   395],\n",
      "        [ 1109,   419,  1747, 40313,   304,     2,   873,     0,   346],\n",
      "        [   28,   456,  1141,   147, 43023,    15,    54,     4,   364],\n",
      "        [    0,   495,   114,     0,     0, 43614,     2,   316,   320],\n",
      "        [  368,   496,  6811,  2435,    32,    75, 34704,     4,   305],\n",
      "        [    0,     0,     0,     0,     0,     0,     0, 44887,   214],\n",
      "        [    0,     0,     0,     0,     0,     0,     0,     0, 45111]])\n"
     ]
    },
    {
     "data": {
      "application/vnd.jupyter.widget-view+json": {
       "model_id": "e694cad30aa14aa3a1b4ddaa54aff46a",
       "version_major": 2,
       "version_minor": 0
      },
      "text/plain": [
       "Validation: |          | 0/? [00:00<?, ?it/s]"
      ]
     },
     "metadata": {},
     "output_type": "display_data"
    },
    {
     "name": "stdout",
     "output_type": "stream",
     "text": [
      "Epoch end: Validation, epoch number: 26\n",
      "ValidationEpoch/CM\n",
      " tensor([[40648,   436,  1729,  1581,   155,     2,   215,     0,   321],\n",
      "        [    0, 47297,    10,     0,     1,    14,     0,     0,   237],\n",
      "        [    2,   615, 51957,     0,    19,   222,  3069,    17,   395],\n",
      "        [ 1109,   419,  1747, 42099,   304,     2,   887,     0,   346],\n",
      "        [   28,   456,  1141,   147, 44828,    15,    54,     4,   364],\n",
      "        [    0,   495,   114,     0,     0, 45404,     2,   316,   320],\n",
      "        [  368,   496,  6841,  2480,    32,    75, 36434,     4,   305],\n",
      "        [    0,     0,     0,     0,     0,     0,     0, 46687,   214],\n",
      "        [    0,     0,     0,     0,     0,     0,     0,     0, 46911]])\n"
     ]
    },
    {
     "name": "stderr",
     "output_type": "stream",
     "text": [
      "Metric Validation/Accuracy improved by 0.001 >= min_delta = 0.0. New best score: 0.991\n"
     ]
    },
    {
     "name": "stdout",
     "output_type": "stream",
     "text": [
      "Epoch end: Train, epoch number: 25\n",
      "TrainEpoch/CM\n",
      " tensor([[40648,   436,  1729,  1581,   155,     2,   215,     0,   321],\n",
      "        [    0, 47297,    10,     0,     1,    14,     0,     0,   237],\n",
      "        [    2,   615, 51957,     0,    19,   222,  3069,    17,   395],\n",
      "        [ 1109,   419,  1747, 42099,   304,     2,   887,     0,   346],\n",
      "        [   28,   456,  1141,   147, 44828,    15,    54,     4,   364],\n",
      "        [    0,   495,   114,     0,     0, 45404,     2,   316,   320],\n",
      "        [  368,   496,  6841,  2480,    32,    75, 36434,     4,   305],\n",
      "        [    0,     0,     0,     0,     0,     0,     0, 46687,   214],\n",
      "        [    0,     0,     0,     0,     0,     0,     0,     0, 46911]])\n"
     ]
    },
    {
     "data": {
      "application/vnd.jupyter.widget-view+json": {
       "model_id": "f2f564ed864a43439b82ae7759cf6f61",
       "version_major": 2,
       "version_minor": 0
      },
      "text/plain": [
       "Validation: |          | 0/? [00:00<?, ?it/s]"
      ]
     },
     "metadata": {},
     "output_type": "display_data"
    },
    {
     "name": "stdout",
     "output_type": "stream",
     "text": [
      "Epoch end: Validation, epoch number: 27\n",
      "ValidationEpoch/CM\n",
      " tensor([[42378,   436,  1729,  1581,   155,     2,   215,     0,   321],\n",
      "        [    0, 49122,    10,     0,     1,    14,     0,     0,   237],\n",
      "        [    2,   615, 54075,     0,    19,   222,  3111,    17,   395],\n",
      "        [ 1109,   419,  1747, 43885,   304,     2,   901,     0,   346],\n",
      "        [   28,   456,  1141,   147, 46633,    15,    54,     4,   364],\n",
      "        [    0,   495,   114,     0,     0, 47194,     2,   316,   320],\n",
      "        [  368,   496,  6872,  2527,    32,    75, 38161,     4,   305],\n",
      "        [    0,     0,     0,     0,     0,     0,     0, 48487,   214],\n",
      "        [    0,     0,     0,     0,     0,     0,     0,     0, 48711]])\n",
      "Epoch end: Train, epoch number: 26\n",
      "TrainEpoch/CM\n",
      " tensor([[42378,   436,  1729,  1581,   155,     2,   215,     0,   321],\n",
      "        [    0, 49122,    10,     0,     1,    14,     0,     0,   237],\n",
      "        [    2,   615, 54075,     0,    19,   222,  3111,    17,   395],\n",
      "        [ 1109,   419,  1747, 43885,   304,     2,   901,     0,   346],\n",
      "        [   28,   456,  1141,   147, 46633,    15,    54,     4,   364],\n",
      "        [    0,   495,   114,     0,     0, 47194,     2,   316,   320],\n",
      "        [  368,   496,  6872,  2527,    32,    75, 38161,     4,   305],\n",
      "        [    0,     0,     0,     0,     0,     0,     0, 48487,   214],\n",
      "        [    0,     0,     0,     0,     0,     0,     0,     0, 48711]])\n"
     ]
    },
    {
     "data": {
      "application/vnd.jupyter.widget-view+json": {
       "model_id": "ede0d38077c847f98af5a3726908be62",
       "version_major": 2,
       "version_minor": 0
      },
      "text/plain": [
       "Validation: |          | 0/? [00:00<?, ?it/s]"
      ]
     },
     "metadata": {},
     "output_type": "display_data"
    },
    {
     "name": "stdout",
     "output_type": "stream",
     "text": [
      "Epoch end: Validation, epoch number: 28\n",
      "ValidationEpoch/CM\n",
      " tensor([[44108,   436,  1729,  1581,   155,     2,   215,     0,   321],\n",
      "        [    0, 50947,    10,     0,     1,    14,     0,     0,   237],\n",
      "        [    2,   615, 56197,     0,    19,   222,  3149,    17,   395],\n",
      "        [ 1109,   419,  1747, 45672,   304,     2,   914,     0,   346],\n",
      "        [   28,   456,  1141,   147, 48438,    15,    54,     4,   364],\n",
      "        [    0,   495,   114,     0,     0, 48984,     2,   316,   320],\n",
      "        [  368,   496,  6892,  2570,    32,    75, 39903,     4,   305],\n",
      "        [    0,     0,     0,     0,     0,     0,     0, 50287,   214],\n",
      "        [    0,     0,     0,     0,     0,     0,     0,     0, 50511]])\n"
     ]
    },
    {
     "name": "stderr",
     "output_type": "stream",
     "text": [
      "Metric Validation/Accuracy improved by 0.001 >= min_delta = 0.0. New best score: 0.991\n"
     ]
    },
    {
     "name": "stdout",
     "output_type": "stream",
     "text": [
      "Epoch end: Train, epoch number: 27\n",
      "TrainEpoch/CM\n",
      " tensor([[44108,   436,  1729,  1581,   155,     2,   215,     0,   321],\n",
      "        [    0, 50947,    10,     0,     1,    14,     0,     0,   237],\n",
      "        [    2,   615, 56197,     0,    19,   222,  3149,    17,   395],\n",
      "        [ 1109,   419,  1747, 45672,   304,     2,   914,     0,   346],\n",
      "        [   28,   456,  1141,   147, 48438,    15,    54,     4,   364],\n",
      "        [    0,   495,   114,     0,     0, 48984,     2,   316,   320],\n",
      "        [  368,   496,  6892,  2570,    32,    75, 39903,     4,   305],\n",
      "        [    0,     0,     0,     0,     0,     0,     0, 50287,   214],\n",
      "        [    0,     0,     0,     0,     0,     0,     0,     0, 50511]])\n"
     ]
    },
    {
     "data": {
      "application/vnd.jupyter.widget-view+json": {
       "model_id": "e234be92c96e43cdb516e29c7e6764eb",
       "version_major": 2,
       "version_minor": 0
      },
      "text/plain": [
       "Validation: |          | 0/? [00:00<?, ?it/s]"
      ]
     },
     "metadata": {},
     "output_type": "display_data"
    },
    {
     "name": "stdout",
     "output_type": "stream",
     "text": [
      "Epoch end: Validation, epoch number: 29\n",
      "ValidationEpoch/CM\n",
      " tensor([[45837,   436,  1729,  1582,   155,     2,   215,     0,   321],\n",
      "        [    0, 52772,    10,     0,     1,    14,     0,     0,   237],\n",
      "        [    2,   615, 58331,     0,    19,   222,  3175,    17,   395],\n",
      "        [ 1109,   419,  1747, 47458,   304,     2,   928,     0,   346],\n",
      "        [   28,   456,  1141,   147, 50243,    15,    54,     4,   364],\n",
      "        [    0,   495,   114,     0,     0, 50774,     2,   316,   320],\n",
      "        [  368,   496,  6924,  2613,    32,    75, 41633,     4,   305],\n",
      "        [    0,     0,     0,     0,     0,     0,     0, 52087,   214],\n",
      "        [    0,     0,     0,     0,     0,     0,     0,     0, 52311]])\n",
      "Epoch end: Train, epoch number: 28\n",
      "TrainEpoch/CM\n",
      " tensor([[45837,   436,  1729,  1582,   155,     2,   215,     0,   321],\n",
      "        [    0, 52772,    10,     0,     1,    14,     0,     0,   237],\n",
      "        [    2,   615, 58331,     0,    19,   222,  3175,    17,   395],\n",
      "        [ 1109,   419,  1747, 47458,   304,     2,   928,     0,   346],\n",
      "        [   28,   456,  1141,   147, 50243,    15,    54,     4,   364],\n",
      "        [    0,   495,   114,     0,     0, 50774,     2,   316,   320],\n",
      "        [  368,   496,  6924,  2613,    32,    75, 41633,     4,   305],\n",
      "        [    0,     0,     0,     0,     0,     0,     0, 52087,   214],\n",
      "        [    0,     0,     0,     0,     0,     0,     0,     0, 52311]])\n"
     ]
    },
    {
     "data": {
      "application/vnd.jupyter.widget-view+json": {
       "model_id": "8d0c7e61b0ee4cdfb99f52b4cc26cf19",
       "version_major": 2,
       "version_minor": 0
      },
      "text/plain": [
       "Validation: |          | 0/? [00:00<?, ?it/s]"
      ]
     },
     "metadata": {},
     "output_type": "display_data"
    },
    {
     "name": "stdout",
     "output_type": "stream",
     "text": [
      "Epoch end: Validation, epoch number: 30\n",
      "ValidationEpoch/CM\n",
      " tensor([[47566,   436,  1729,  1583,   155,     2,   215,     0,   321],\n",
      "        [    0, 54597,    10,     0,     1,    14,     0,     0,   237],\n",
      "        [    2,   615, 60452,     0,    19,   222,  3214,    17,   395],\n",
      "        [ 1109,   419,  1747, 49248,   304,     2,   938,     0,   346],\n",
      "        [   28,   456,  1141,   147, 52048,    15,    54,     4,   364],\n",
      "        [    0,   495,   114,     0,     0, 52564,     2,   316,   320],\n",
      "        [  368,   496,  6962,  2655,    32,    75, 43358,     4,   305],\n",
      "        [    0,     0,     0,     0,     0,     0,     0, 53887,   214],\n",
      "        [    0,     0,     0,     0,     0,     0,     0,     0, 54111]])\n",
      "Epoch end: Train, epoch number: 29\n",
      "TrainEpoch/CM\n",
      " tensor([[47566,   436,  1729,  1583,   155,     2,   215,     0,   321],\n",
      "        [    0, 54597,    10,     0,     1,    14,     0,     0,   237],\n",
      "        [    2,   615, 60452,     0,    19,   222,  3214,    17,   395],\n",
      "        [ 1109,   419,  1747, 49248,   304,     2,   938,     0,   346],\n",
      "        [   28,   456,  1141,   147, 52048,    15,    54,     4,   364],\n",
      "        [    0,   495,   114,     0,     0, 52564,     2,   316,   320],\n",
      "        [  368,   496,  6962,  2655,    32,    75, 43358,     4,   305],\n",
      "        [    0,     0,     0,     0,     0,     0,     0, 53887,   214],\n",
      "        [    0,     0,     0,     0,     0,     0,     0,     0, 54111]])\n"
     ]
    },
    {
     "data": {
      "application/vnd.jupyter.widget-view+json": {
       "model_id": "358793d621d444c4a7c51ced273c27c2",
       "version_major": 2,
       "version_minor": 0
      },
      "text/plain": [
       "Validation: |          | 0/? [00:00<?, ?it/s]"
      ]
     },
     "metadata": {},
     "output_type": "display_data"
    },
    {
     "name": "stdout",
     "output_type": "stream",
     "text": [
      "Epoch end: Validation, epoch number: 31\n",
      "ValidationEpoch/CM\n",
      " tensor([[49296,   436,  1729,  1583,   155,     2,   215,     0,   321],\n",
      "        [    0, 56422,    10,     0,     1,    14,     0,     0,   237],\n",
      "        [    2,   615, 62582,     0,    19,   222,  3244,    17,   395],\n",
      "        [ 1109,   419,  1747, 51038,   304,     2,   948,     0,   346],\n",
      "        [   28,   456,  1141,   147, 53853,    15,    54,     4,   364],\n",
      "        [    0,   495,   114,     0,     0, 54354,     2,   316,   320],\n",
      "        [  368,   496,  6992,  2690,    32,    75, 45098,     4,   305],\n",
      "        [    0,     0,     0,     0,     0,     0,     0, 55687,   214],\n",
      "        [    0,     0,     0,     0,     0,     0,     0,     0, 55911]])\n",
      "Epoch end: Train, epoch number: 30\n",
      "TrainEpoch/CM\n",
      " tensor([[49296,   436,  1729,  1583,   155,     2,   215,     0,   321],\n",
      "        [    0, 56422,    10,     0,     1,    14,     0,     0,   237],\n",
      "        [    2,   615, 62582,     0,    19,   222,  3244,    17,   395],\n",
      "        [ 1109,   419,  1747, 51038,   304,     2,   948,     0,   346],\n",
      "        [   28,   456,  1141,   147, 53853,    15,    54,     4,   364],\n",
      "        [    0,   495,   114,     0,     0, 54354,     2,   316,   320],\n",
      "        [  368,   496,  6992,  2690,    32,    75, 45098,     4,   305],\n",
      "        [    0,     0,     0,     0,     0,     0,     0, 55687,   214],\n",
      "        [    0,     0,     0,     0,     0,     0,     0,     0, 55911]])\n"
     ]
    },
    {
     "data": {
      "application/vnd.jupyter.widget-view+json": {
       "model_id": "6eb74da966144b34853183a288352a58",
       "version_major": 2,
       "version_minor": 0
      },
      "text/plain": [
       "Validation: |          | 0/? [00:00<?, ?it/s]"
      ]
     },
     "metadata": {},
     "output_type": "display_data"
    },
    {
     "name": "stdout",
     "output_type": "stream",
     "text": [
      "Epoch end: Validation, epoch number: 32\n",
      "ValidationEpoch/CM\n",
      " tensor([[51026,   436,  1729,  1583,   155,     2,   215,     0,   321],\n",
      "        [    0, 58247,    10,     0,     1,    14,     0,     0,   237],\n",
      "        [    2,   615, 64701,     0,    19,   222,  3285,    17,   395],\n",
      "        [ 1109,   419,  1747, 52808,   304,     2,   978,     0,   346],\n",
      "        [   28,   456,  1141,   147, 55658,    15,    54,     4,   364],\n",
      "        [    0,   495,   114,     0,     0, 56144,     2,   316,   320],\n",
      "        [  368,   496,  7010,  2719,    32,    75, 46856,     4,   305],\n",
      "        [    0,     0,     0,     0,     0,     0,     0, 57487,   214],\n",
      "        [    0,     0,     0,     0,     0,     0,     0,     0, 57711]])\n"
     ]
    },
    {
     "name": "stderr",
     "output_type": "stream",
     "text": [
      "Metric Validation/Accuracy improved by 0.002 >= min_delta = 0.0. New best score: 0.993\n"
     ]
    },
    {
     "name": "stdout",
     "output_type": "stream",
     "text": [
      "Epoch end: Train, epoch number: 31\n",
      "TrainEpoch/CM\n",
      " tensor([[51026,   436,  1729,  1583,   155,     2,   215,     0,   321],\n",
      "        [    0, 58247,    10,     0,     1,    14,     0,     0,   237],\n",
      "        [    2,   615, 64701,     0,    19,   222,  3285,    17,   395],\n",
      "        [ 1109,   419,  1747, 52808,   304,     2,   978,     0,   346],\n",
      "        [   28,   456,  1141,   147, 55658,    15,    54,     4,   364],\n",
      "        [    0,   495,   114,     0,     0, 56144,     2,   316,   320],\n",
      "        [  368,   496,  7010,  2719,    32,    75, 46856,     4,   305],\n",
      "        [    0,     0,     0,     0,     0,     0,     0, 57487,   214],\n",
      "        [    0,     0,     0,     0,     0,     0,     0,     0, 57711]])\n"
     ]
    },
    {
     "data": {
      "application/vnd.jupyter.widget-view+json": {
       "model_id": "ea4b25fa50804442a8cc29be717fa367",
       "version_major": 2,
       "version_minor": 0
      },
      "text/plain": [
       "Validation: |          | 0/? [00:00<?, ?it/s]"
      ]
     },
     "metadata": {},
     "output_type": "display_data"
    },
    {
     "name": "stdout",
     "output_type": "stream",
     "text": [
      "Epoch end: Validation, epoch number: 33\n",
      "ValidationEpoch/CM\n",
      " tensor([[52756,   436,  1729,  1583,   155,     2,   215,     0,   321],\n",
      "        [    0, 60072,    10,     0,     1,    14,     0,     0,   237],\n",
      "        [    2,   615, 66828,     0,    19,   222,  3318,    17,   395],\n",
      "        [ 1109,   419,  1747, 54593,   304,     2,   993,     0,   346],\n",
      "        [   28,   456,  1141,   148, 57462,    15,    54,     4,   364],\n",
      "        [    0,   495,   114,     0,     0, 57934,     2,   316,   320],\n",
      "        [  368,   496,  7036,  2756,    32,    75, 48598,     4,   305],\n",
      "        [    0,     0,     0,     0,     0,     0,     0, 59287,   214],\n",
      "        [    0,     0,     0,     0,     0,     0,     0,     0, 59511]])\n",
      "Epoch end: Train, epoch number: 32\n",
      "TrainEpoch/CM\n",
      " tensor([[52756,   436,  1729,  1583,   155,     2,   215,     0,   321],\n",
      "        [    0, 60072,    10,     0,     1,    14,     0,     0,   237],\n",
      "        [    2,   615, 66828,     0,    19,   222,  3318,    17,   395],\n",
      "        [ 1109,   419,  1747, 54593,   304,     2,   993,     0,   346],\n",
      "        [   28,   456,  1141,   148, 57462,    15,    54,     4,   364],\n",
      "        [    0,   495,   114,     0,     0, 57934,     2,   316,   320],\n",
      "        [  368,   496,  7036,  2756,    32,    75, 48598,     4,   305],\n",
      "        [    0,     0,     0,     0,     0,     0,     0, 59287,   214],\n",
      "        [    0,     0,     0,     0,     0,     0,     0,     0, 59511]])\n"
     ]
    },
    {
     "data": {
      "application/vnd.jupyter.widget-view+json": {
       "model_id": "064b35afeecb4ca7ba1d09e301f68677",
       "version_major": 2,
       "version_minor": 0
      },
      "text/plain": [
       "Validation: |          | 0/? [00:00<?, ?it/s]"
      ]
     },
     "metadata": {},
     "output_type": "display_data"
    },
    {
     "name": "stdout",
     "output_type": "stream",
     "text": [
      "Epoch end: Validation, epoch number: 34\n",
      "ValidationEpoch/CM\n",
      " tensor([[54486,   436,  1729,  1583,   155,     2,   215,     0,   321],\n",
      "        [    0, 61897,    10,     0,     1,    14,     0,     0,   237],\n",
      "        [    2,   615, 68955,     0,    19,   222,  3351,    17,   395],\n",
      "        [ 1109,   419,  1747, 56385,   304,     2,  1001,     0,   346],\n",
      "        [   28,   456,  1141,   148, 59267,    15,    54,     4,   364],\n",
      "        [    0,   495,   114,     0,     0, 59724,     2,   316,   320],\n",
      "        [  368,   496,  7054,  2787,    32,    75, 50354,     4,   305],\n",
      "        [    0,     0,     0,     0,     0,     0,     0, 61087,   214],\n",
      "        [    0,     0,     0,     0,     0,     0,     0,     0, 61311]])\n",
      "Epoch end: Train, epoch number: 33\n",
      "TrainEpoch/CM\n",
      " tensor([[54486,   436,  1729,  1583,   155,     2,   215,     0,   321],\n",
      "        [    0, 61897,    10,     0,     1,    14,     0,     0,   237],\n",
      "        [    2,   615, 68955,     0,    19,   222,  3351,    17,   395],\n",
      "        [ 1109,   419,  1747, 56385,   304,     2,  1001,     0,   346],\n",
      "        [   28,   456,  1141,   148, 59267,    15,    54,     4,   364],\n",
      "        [    0,   495,   114,     0,     0, 59724,     2,   316,   320],\n",
      "        [  368,   496,  7054,  2787,    32,    75, 50354,     4,   305],\n",
      "        [    0,     0,     0,     0,     0,     0,     0, 61087,   214],\n",
      "        [    0,     0,     0,     0,     0,     0,     0,     0, 61311]])\n"
     ]
    },
    {
     "data": {
      "application/vnd.jupyter.widget-view+json": {
       "model_id": "f5a001b4a50d4f8887f26f9946bd9c58",
       "version_major": 2,
       "version_minor": 0
      },
      "text/plain": [
       "Validation: |          | 0/? [00:00<?, ?it/s]"
      ]
     },
     "metadata": {},
     "output_type": "display_data"
    },
    {
     "name": "stdout",
     "output_type": "stream",
     "text": [
      "Epoch end: Validation, epoch number: 35\n",
      "ValidationEpoch/CM\n",
      " tensor([[56214,   436,  1729,  1585,   155,     2,   215,     0,   321],\n",
      "        [    0, 63722,    10,     0,     1,    14,     0,     0,   237],\n",
      "        [    2,   615, 71072,     0,    19,   222,  3394,    17,   395],\n",
      "        [ 1109,   419,  1747, 58170,   304,     2,  1016,     0,   346],\n",
      "        [   28,   456,  1141,   148, 61072,    15,    54,     4,   364],\n",
      "        [    0,   495,   114,     0,     0, 61514,     2,   316,   320],\n",
      "        [  368,   496,  7076,  2814,    32,    75, 52110,     4,   305],\n",
      "        [    0,     0,     0,     0,     0,     0,     0, 62887,   214],\n",
      "        [    0,     0,     0,     0,     0,     0,     0,     0, 63111]])\n",
      "Epoch end: Train, epoch number: 34\n",
      "TrainEpoch/CM\n",
      " tensor([[56214,   436,  1729,  1585,   155,     2,   215,     0,   321],\n",
      "        [    0, 63722,    10,     0,     1,    14,     0,     0,   237],\n",
      "        [    2,   615, 71072,     0,    19,   222,  3394,    17,   395],\n",
      "        [ 1109,   419,  1747, 58170,   304,     2,  1016,     0,   346],\n",
      "        [   28,   456,  1141,   148, 61072,    15,    54,     4,   364],\n",
      "        [    0,   495,   114,     0,     0, 61514,     2,   316,   320],\n",
      "        [  368,   496,  7076,  2814,    32,    75, 52110,     4,   305],\n",
      "        [    0,     0,     0,     0,     0,     0,     0, 62887,   214],\n",
      "        [    0,     0,     0,     0,     0,     0,     0,     0, 63111]])\n"
     ]
    },
    {
     "data": {
      "application/vnd.jupyter.widget-view+json": {
       "model_id": "5ed7c2564cdc479cbd6b813c604be273",
       "version_major": 2,
       "version_minor": 0
      },
      "text/plain": [
       "Validation: |          | 0/? [00:00<?, ?it/s]"
      ]
     },
     "metadata": {},
     "output_type": "display_data"
    },
    {
     "name": "stdout",
     "output_type": "stream",
     "text": [
      "Epoch end: Validation, epoch number: 36\n",
      "ValidationEpoch/CM\n",
      " tensor([[57944,   436,  1729,  1585,   155,     2,   215,     0,   321],\n",
      "        [    0, 65547,    10,     0,     1,    14,     0,     0,   237],\n",
      "        [    2,   615, 73197,     0,    19,   222,  3429,    17,   395],\n",
      "        [ 1109,   419,  1747, 59956,   304,     2,  1030,     0,   346],\n",
      "        [   28,   456,  1141,   148, 62877,    15,    54,     4,   364],\n",
      "        [    0,   495,   114,     0,     0, 63304,     2,   316,   320],\n",
      "        [  368,   496,  7087,  2842,    32,    75, 53876,     4,   305],\n",
      "        [    0,     0,     0,     0,     0,     0,     0, 64687,   214],\n",
      "        [    0,     0,     0,     0,     0,     0,     0,     0, 64911]])\n"
     ]
    },
    {
     "name": "stderr",
     "output_type": "stream",
     "text": [
      "Metric Validation/Accuracy improved by 0.001 >= min_delta = 0.0. New best score: 0.994\n"
     ]
    },
    {
     "name": "stdout",
     "output_type": "stream",
     "text": [
      "Epoch end: Train, epoch number: 35\n",
      "TrainEpoch/CM\n",
      " tensor([[57944,   436,  1729,  1585,   155,     2,   215,     0,   321],\n",
      "        [    0, 65547,    10,     0,     1,    14,     0,     0,   237],\n",
      "        [    2,   615, 73197,     0,    19,   222,  3429,    17,   395],\n",
      "        [ 1109,   419,  1747, 59956,   304,     2,  1030,     0,   346],\n",
      "        [   28,   456,  1141,   148, 62877,    15,    54,     4,   364],\n",
      "        [    0,   495,   114,     0,     0, 63304,     2,   316,   320],\n",
      "        [  368,   496,  7087,  2842,    32,    75, 53876,     4,   305],\n",
      "        [    0,     0,     0,     0,     0,     0,     0, 64687,   214],\n",
      "        [    0,     0,     0,     0,     0,     0,     0,     0, 64911]])\n"
     ]
    },
    {
     "data": {
      "application/vnd.jupyter.widget-view+json": {
       "model_id": "3de12313a1ca4116ab1ce8118f53bd2a",
       "version_major": 2,
       "version_minor": 0
      },
      "text/plain": [
       "Validation: |          | 0/? [00:00<?, ?it/s]"
      ]
     },
     "metadata": {},
     "output_type": "display_data"
    },
    {
     "name": "stdout",
     "output_type": "stream",
     "text": [
      "Epoch end: Validation, epoch number: 37\n",
      "ValidationEpoch/CM\n",
      " tensor([[59674,   436,  1729,  1585,   155,     2,   215,     0,   321],\n",
      "        [    0, 67372,    10,     0,     1,    14,     0,     0,   237],\n",
      "        [    2,   615, 75301,     0,    19,   222,  3485,    17,   395],\n",
      "        [ 1109,   419,  1747, 61736,   304,     2,  1050,     0,   346],\n",
      "        [   28,   456,  1141,   148, 64682,    15,    54,     4,   364],\n",
      "        [    0,   495,   114,     0,     0, 65094,     2,   316,   320],\n",
      "        [  368,   496,  7097,  2858,    32,    75, 55655,     4,   305],\n",
      "        [    0,     0,     0,     0,     0,     0,     0, 66487,   214],\n",
      "        [    0,     0,     0,     0,     0,     0,     0,     0, 66711]])\n",
      "Epoch end: Train, epoch number: 36\n",
      "TrainEpoch/CM\n",
      " tensor([[59674,   436,  1729,  1585,   155,     2,   215,     0,   321],\n",
      "        [    0, 67372,    10,     0,     1,    14,     0,     0,   237],\n",
      "        [    2,   615, 75301,     0,    19,   222,  3485,    17,   395],\n",
      "        [ 1109,   419,  1747, 61736,   304,     2,  1050,     0,   346],\n",
      "        [   28,   456,  1141,   148, 64682,    15,    54,     4,   364],\n",
      "        [    0,   495,   114,     0,     0, 65094,     2,   316,   320],\n",
      "        [  368,   496,  7097,  2858,    32,    75, 55655,     4,   305],\n",
      "        [    0,     0,     0,     0,     0,     0,     0, 66487,   214],\n",
      "        [    0,     0,     0,     0,     0,     0,     0,     0, 66711]])\n"
     ]
    },
    {
     "data": {
      "application/vnd.jupyter.widget-view+json": {
       "model_id": "d6913a6f12c74fd38d505e3c2ae8afb6",
       "version_major": 2,
       "version_minor": 0
      },
      "text/plain": [
       "Validation: |          | 0/? [00:00<?, ?it/s]"
      ]
     },
     "metadata": {},
     "output_type": "display_data"
    },
    {
     "name": "stdout",
     "output_type": "stream",
     "text": [
      "Epoch end: Validation, epoch number: 38\n",
      "ValidationEpoch/CM\n",
      " tensor([[61404,   436,  1729,  1585,   155,     2,   215,     0,   321],\n",
      "        [    0, 69197,    10,     0,     1,    14,     0,     0,   237],\n",
      "        [    2,   615, 77422,     0,    19,   222,  3524,    17,   395],\n",
      "        [ 1109,   419,  1747, 63523,   304,     2,  1063,     0,   346],\n",
      "        [   28,   456,  1141,   148, 66487,    15,    54,     4,   364],\n",
      "        [    0,   495,   114,     0,     0, 66884,     2,   316,   320],\n",
      "        [  368,   496,  7121,  2891,    32,    75, 57403,     4,   305],\n",
      "        [    0,     0,     0,     0,     0,     0,     0, 68287,   214],\n",
      "        [    0,     0,     0,     0,     0,     0,     0,     0, 68511]])\n",
      "Epoch end: Train, epoch number: 37\n",
      "TrainEpoch/CM\n",
      " tensor([[61404,   436,  1729,  1585,   155,     2,   215,     0,   321],\n",
      "        [    0, 69197,    10,     0,     1,    14,     0,     0,   237],\n",
      "        [    2,   615, 77422,     0,    19,   222,  3524,    17,   395],\n",
      "        [ 1109,   419,  1747, 63523,   304,     2,  1063,     0,   346],\n",
      "        [   28,   456,  1141,   148, 66487,    15,    54,     4,   364],\n",
      "        [    0,   495,   114,     0,     0, 66884,     2,   316,   320],\n",
      "        [  368,   496,  7121,  2891,    32,    75, 57403,     4,   305],\n",
      "        [    0,     0,     0,     0,     0,     0,     0, 68287,   214],\n",
      "        [    0,     0,     0,     0,     0,     0,     0,     0, 68511]])\n"
     ]
    },
    {
     "data": {
      "application/vnd.jupyter.widget-view+json": {
       "model_id": "a07923c7cd424ba7abe577246a6f8b73",
       "version_major": 2,
       "version_minor": 0
      },
      "text/plain": [
       "Validation: |          | 0/? [00:00<?, ?it/s]"
      ]
     },
     "metadata": {},
     "output_type": "display_data"
    },
    {
     "name": "stdout",
     "output_type": "stream",
     "text": [
      "Epoch end: Validation, epoch number: 39\n",
      "ValidationEpoch/CM\n",
      " tensor([[63134,   436,  1729,  1585,   155,     2,   215,     0,   321],\n",
      "        [    0, 71022,    10,     0,     1,    14,     0,     0,   237],\n",
      "        [    2,   615, 79543,     0,    19,   222,  3563,    17,   395],\n",
      "        [ 1109,   419,  1747, 65297,   304,     2,  1089,     0,   346],\n",
      "        [   28,   456,  1141,   148, 68292,    15,    54,     4,   364],\n",
      "        [    0,   495,   114,     0,     0, 68674,     2,   316,   320],\n",
      "        [  368,   496,  7137,  2911,    32,    76, 59171,     4,   305],\n",
      "        [    0,     0,     0,     0,     0,     0,     0, 70087,   214],\n",
      "        [    0,     0,     0,     0,     0,     0,     0,     0, 70311]])\n",
      "Epoch end: Train, epoch number: 38\n",
      "TrainEpoch/CM\n",
      " tensor([[63134,   436,  1729,  1585,   155,     2,   215,     0,   321],\n",
      "        [    0, 71022,    10,     0,     1,    14,     0,     0,   237],\n",
      "        [    2,   615, 79543,     0,    19,   222,  3563,    17,   395],\n",
      "        [ 1109,   419,  1747, 65297,   304,     2,  1089,     0,   346],\n",
      "        [   28,   456,  1141,   148, 68292,    15,    54,     4,   364],\n",
      "        [    0,   495,   114,     0,     0, 68674,     2,   316,   320],\n",
      "        [  368,   496,  7137,  2911,    32,    76, 59171,     4,   305],\n",
      "        [    0,     0,     0,     0,     0,     0,     0, 70087,   214],\n",
      "        [    0,     0,     0,     0,     0,     0,     0,     0, 70311]])\n"
     ]
    },
    {
     "data": {
      "application/vnd.jupyter.widget-view+json": {
       "model_id": "600dee0172434f66bc291d8decd46d9f",
       "version_major": 2,
       "version_minor": 0
      },
      "text/plain": [
       "Validation: |          | 0/? [00:00<?, ?it/s]"
      ]
     },
     "metadata": {},
     "output_type": "display_data"
    },
    {
     "name": "stdout",
     "output_type": "stream",
     "text": [
      "Epoch end: Validation, epoch number: 40\n",
      "ValidationEpoch/CM\n",
      " tensor([[64864,   436,  1729,  1585,   155,     2,   215,     0,   321],\n",
      "        [    0, 72847,    10,     0,     1,    14,     0,     0,   237],\n",
      "        [    2,   615, 81674,     0,    19,   222,  3592,    17,   395],\n",
      "        [ 1109,   419,  1747, 67077,   304,     2,  1109,     0,   346],\n",
      "        [   28,   456,  1141,   148, 70097,    15,    54,     4,   364],\n",
      "        [    0,   495,   114,     0,     0, 70464,     2,   316,   320],\n",
      "        [  368,   496,  7156,  2947,    32,    76, 60921,     4,   305],\n",
      "        [    0,     0,     0,     0,     0,     0,     0, 71887,   214],\n",
      "        [    0,     0,     0,     0,     0,     0,     0,     0, 72111]])\n",
      "Epoch end: Train, epoch number: 39\n",
      "TrainEpoch/CM\n",
      " tensor([[64864,   436,  1729,  1585,   155,     2,   215,     0,   321],\n",
      "        [    0, 72847,    10,     0,     1,    14,     0,     0,   237],\n",
      "        [    2,   615, 81674,     0,    19,   222,  3592,    17,   395],\n",
      "        [ 1109,   419,  1747, 67077,   304,     2,  1109,     0,   346],\n",
      "        [   28,   456,  1141,   148, 70097,    15,    54,     4,   364],\n",
      "        [    0,   495,   114,     0,     0, 70464,     2,   316,   320],\n",
      "        [  368,   496,  7156,  2947,    32,    76, 60921,     4,   305],\n",
      "        [    0,     0,     0,     0,     0,     0,     0, 71887,   214],\n",
      "        [    0,     0,     0,     0,     0,     0,     0,     0, 72111]])\n"
     ]
    },
    {
     "data": {
      "application/vnd.jupyter.widget-view+json": {
       "model_id": "048c72ff48c24d649030c236ff4dffca",
       "version_major": 2,
       "version_minor": 0
      },
      "text/plain": [
       "Validation: |          | 0/? [00:00<?, ?it/s]"
      ]
     },
     "metadata": {},
     "output_type": "display_data"
    },
    {
     "name": "stdout",
     "output_type": "stream",
     "text": [
      "Epoch end: Validation, epoch number: 41\n",
      "ValidationEpoch/CM\n",
      " tensor([[66594,   436,  1729,  1585,   155,     2,   215,     0,   321],\n",
      "        [    0, 74672,    10,     0,     1,    14,     0,     0,   237],\n",
      "        [    2,   615, 83812,     0,    19,   222,  3614,    17,   395],\n",
      "        [ 1109,   419,  1747, 68869,   304,     2,  1117,     0,   346],\n",
      "        [   28,   456,  1141,   148, 71902,    15,    54,     4,   364],\n",
      "        [    0,   495,   114,     0,     0, 72254,     2,   316,   320],\n",
      "        [  368,   496,  7180,  2971,    32,    79, 62675,     4,   305],\n",
      "        [    0,     0,     0,     0,     0,     0,     0, 73687,   214],\n",
      "        [    0,     0,     0,     0,     0,     0,     0,     0, 73911]])\n"
     ]
    },
    {
     "name": "stderr",
     "output_type": "stream",
     "text": [
      "Monitored metric Validation/Accuracy did not improve in the last 5 records. Best score: 0.994. Signaling Trainer to stop.\n"
     ]
    },
    {
     "name": "stdout",
     "output_type": "stream",
     "text": [
      "Epoch end: Train, epoch number: 40\n",
      "TrainEpoch/CM\n",
      " tensor([[66594,   436,  1729,  1585,   155,     2,   215,     0,   321],\n",
      "        [    0, 74672,    10,     0,     1,    14,     0,     0,   237],\n",
      "        [    2,   615, 83812,     0,    19,   222,  3614,    17,   395],\n",
      "        [ 1109,   419,  1747, 68869,   304,     2,  1117,     0,   346],\n",
      "        [   28,   456,  1141,   148, 71902,    15,    54,     4,   364],\n",
      "        [    0,   495,   114,     0,     0, 72254,     2,   316,   320],\n",
      "        [  368,   496,  7180,  2971,    32,    79, 62675,     4,   305],\n",
      "        [    0,     0,     0,     0,     0,     0,     0, 73687,   214],\n",
      "        [    0,     0,     0,     0,     0,     0,     0,     0, 73911]])\n"
     ]
    }
   ],
   "source": [
    "\n",
    "trainer.fit(model=model, train_dataloaders=train_dataloader, val_dataloaders=val_dataloader)\n"
   ]
  },
  {
   "cell_type": "code",
   "execution_count": 39,
   "metadata": {},
   "outputs": [
    {
     "name": "stderr",
     "output_type": "stream",
     "text": [
      "LOCAL_RANK: 0 - CUDA_VISIBLE_DEVICES: [0]\n"
     ]
    },
    {
     "name": "stdout",
     "output_type": "stream",
     "text": [
      "/home/<User>/repos/csg_is/training/official_logs/multi-layer_30_from_weights_40s/version_0/checkpoints/epoch=35-step=972.ckpt\n",
      "tensor(0.9944, device='cuda:0')\n"
     ]
    },
    {
     "data": {
      "application/vnd.jupyter.widget-view+json": {
       "model_id": "77ec8966f7c844c39c1660ae1a39be27",
       "version_major": 2,
       "version_minor": 0
      },
      "text/plain": [
       "Testing: |          | 0/? [00:00<?, ?it/s]"
      ]
     },
     "metadata": {},
     "output_type": "display_data"
    },
    {
     "name": "stdout",
     "output_type": "stream",
     "text": [
      "Epoch end: Test, epoch number: 0\n",
      "TestEpoch/CM\n",
      " tensor([[376,   0,   0,   0,   0,   0,   0,   0,   0],\n",
      "        [  0, 317,   0,   0,   0,   0,   0,   0,   0],\n",
      "        [  0,   0, 433,   0,   0,   0,  10,   0,   0],\n",
      "        [  0,   0,   0, 368,   0,   0,   4,   0,   0],\n",
      "        [  0,   0,   0,   0, 340,   0,   0,   0,   0],\n",
      "        [  0,   0,   0,   0,   0, 367,   0,   0,   0],\n",
      "        [  0,   0,   0,   6,   0,   0, 360,   0,   0],\n",
      "        [  0,   0,   0,   0,   0,   0,   0, 342,   0],\n",
      "        [  0,   0,   0,   0,   0,   0,   0,   0, 380]])\n",
      "────────────────────────────────────────────────────────────────────────────────────────────────────────────────────────\n",
      "       Test metric             DataLoader 0\n",
      "────────────────────────────────────────────────────────────────────────────────────────────────────────────────────────\n",
      "      Test/Accuracy          0.994367241859436\n",
      "      Test/F1Score          0.9942400455474854\n",
      "        Test/Loss           0.01591234840452671\n",
      "     Test/Precision         0.9942847490310669\n",
      "       Test/Recall           0.994367241859436\n",
      "   TestEpoch/Accuracy       0.9944756627082825\n",
      "    TestEpoch/F1Score       0.9942392110824585\n",
      "   TestEpoch/Precision      0.9940582513809204\n",
      "    TestEpoch/Recall        0.9944756627082825\n",
      "────────────────────────────────────────────────────────────────────────────────────────────────────────────────────────\n"
     ]
    },
    {
     "data": {
      "text/plain": [
       "[{'Test/Loss': 0.01591234840452671,\n",
       "  'Test/Accuracy': 0.994367241859436,\n",
       "  'Test/Precision': 0.9942847490310669,\n",
       "  'Test/Recall': 0.994367241859436,\n",
       "  'Test/F1Score': 0.9942400455474854,\n",
       "  'TestEpoch/Accuracy': 0.9944756627082825,\n",
       "  'TestEpoch/Precision': 0.9940582513809204,\n",
       "  'TestEpoch/Recall': 0.9944756627082825,\n",
       "  'TestEpoch/F1Score': 0.9942392110824585}]"
      ]
     },
     "execution_count": 39,
     "metadata": {},
     "output_type": "execute_result"
    }
   ],
   "source": [
    "\n",
    "print(checkpoint_callback.best_model_path)   # prints path to the best model's checkpoint\n",
    "print(checkpoint_callback.best_model_score) # and prints it score\n",
    "best_model = MalwaresModelMLP.load_from_checkpoint(checkpoint_callback.best_model_path, input_size = subset.shape[1]-1, output_size = len(label_encoder.classes_))\n",
    "\n",
    "trainer.test(best_model, dataloaders=val_dataloader)"
   ]
  },
  {
   "cell_type": "code",
   "execution_count": 40,
   "metadata": {},
   "outputs": [],
   "source": [
    "subset.columns.to_frame().to_csv(f\"weight_selected_{TIME_WINDOW}.csv\", index=False)"
   ]
  }
 ],
 "metadata": {
  "kernelspec": {
   "display_name": ".venv",
   "language": "python",
   "name": "python3"
  },
  "language_info": {
   "codemirror_mode": {
    "name": "ipython",
    "version": 3
   },
   "file_extension": ".py",
   "mimetype": "text/x-python",
   "name": "python",
   "nbconvert_exporter": "python",
   "pygments_lexer": "ipython3",
   "version": "3.10.12"
  }
 },
 "nbformat": 4,
 "nbformat_minor": 2
}
