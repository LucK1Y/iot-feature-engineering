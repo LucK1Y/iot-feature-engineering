{
 "cells": [
  {
   "cell_type": "markdown",
   "metadata": {},
   "source": [
    "# Idea\n",
    "Do some training"
   ]
  },
  {
   "cell_type": "code",
   "execution_count": 1,
   "metadata": {},
   "outputs": [],
   "source": [
    "SEED = 133\n",
    "TIME_WINDOW = \"30s\"\n",
    "DATA_FILE = '../../data/all_df_30s_Heqing_device2.csv'"
   ]
  },
  {
   "cell_type": "code",
   "execution_count": 2,
   "metadata": {},
   "outputs": [],
   "source": [
    "from pathlib import Path\n",
    "\n",
    "import numpy as np\n",
    "import pandas as pd\n",
    "import pickle\n",
    "\n",
    "assert Path(DATA_FILE).exists()"
   ]
  },
  {
   "cell_type": "code",
   "execution_count": 3,
   "metadata": {},
   "outputs": [],
   "source": [
    "import sys\n",
    "repo_base_path = Path(\"./../../../\").resolve()\n",
    "assert str(repo_base_path).endswith(\"csg_is\"), f\"{repo_base_path} is not a valid path to the CSG_IS repository\" \n",
    "\n",
    "sys.path.append(str(repo_base_path))\n",
    "sys.path.append(\"..\")\n",
    "\n",
    "# from py_dataset import get_all_files_df\n",
    "# from py_dataset import read_in_files\n",
    "from py_dataset import feature_plotting\n",
    "# from py_dataset import feature_selection\n",
    "# from py_dataset import net_feature_engineering\n",
    "# from py_dataset import entropy_feature_engineering\n",
    "# from py_dataset.classes import DataSource\n",
    "from py_dataset import sys_func\n",
    "\n",
    "from py_dataset.classes import DataSource\n",
    "\n"
   ]
  },
  {
   "cell_type": "code",
   "execution_count": 4,
   "metadata": {},
   "outputs": [
    {
     "ename": "AssertionError",
     "evalue": "are you sure to run this again?",
     "output_type": "error",
     "traceback": [
      "\u001b[0;31m---------------------------------------------------------------------------\u001b[0m",
      "\u001b[0;31mAssertionError\u001b[0m                            Traceback (most recent call last)",
      "Cell \u001b[0;32mIn[4], line 7\u001b[0m\n\u001b[1;32m      4\u001b[0m LOG_NAME_EXPERIMENT_3 \u001b[38;5;241m=\u001b[39m \u001b[38;5;124mf\u001b[39m\u001b[38;5;124m\"\u001b[39m\u001b[38;5;124mmulti-layer_30_from_weights_\u001b[39m\u001b[38;5;132;01m{\u001b[39;00mTIME_WINDOW\u001b[38;5;132;01m}\u001b[39;00m\u001b[38;5;124m\"\u001b[39m\n\u001b[1;32m      6\u001b[0m \u001b[38;5;28;01massert\u001b[39;00m LOG_PATH\u001b[38;5;241m.\u001b[39mexists()\n\u001b[0;32m----> 7\u001b[0m \u001b[38;5;28;01massert\u001b[39;00m \u001b[38;5;129;01mnot\u001b[39;00m (LOG_PATH \u001b[38;5;241m/\u001b[39m LOG_NAME)\u001b[38;5;241m.\u001b[39mexists(), \u001b[38;5;124m\"\u001b[39m\u001b[38;5;124mare you sure to run this again?\u001b[39m\u001b[38;5;124m\"\u001b[39m\n\u001b[1;32m      8\u001b[0m \u001b[38;5;28;01massert\u001b[39;00m \u001b[38;5;129;01mnot\u001b[39;00m (LOG_PATH \u001b[38;5;241m/\u001b[39m LOG_NAME_EXPERIMENT_2)\u001b[38;5;241m.\u001b[39mexists(), \u001b[38;5;124m\"\u001b[39m\u001b[38;5;124mare you sure to run this again?\u001b[39m\u001b[38;5;124m\"\u001b[39m\n\u001b[1;32m      9\u001b[0m \u001b[38;5;28;01massert\u001b[39;00m \u001b[38;5;129;01mnot\u001b[39;00m (LOG_PATH \u001b[38;5;241m/\u001b[39m LOG_NAME_EXPERIMENT_3)\u001b[38;5;241m.\u001b[39mexists(), \u001b[38;5;124m\"\u001b[39m\u001b[38;5;124mare you sure to run this again?\u001b[39m\u001b[38;5;124m\"\u001b[39m\n",
      "\u001b[0;31mAssertionError\u001b[0m: are you sure to run this again?"
     ]
    }
   ],
   "source": [
    "LOG_PATH = (repo_base_path / \"training\" / \"official_logs\")\n",
    "LOG_NAME = f\"single-layer_300_{TIME_WINDOW}\"\n",
    "LOG_NAME_EXPERIMENT_2 = f\"single-layer_30_from_weights_{TIME_WINDOW}\"\n",
    "LOG_NAME_EXPERIMENT_3 = f\"multi-layer_30_from_weights_{TIME_WINDOW}\"\n",
    "\n",
    "assert LOG_PATH.exists()\n",
    "assert not (LOG_PATH / LOG_NAME).exists(), \"are you sure to run this again?\"\n",
    "assert not (LOG_PATH / LOG_NAME_EXPERIMENT_2).exists(), \"are you sure to run this again?\"\n",
    "assert not (LOG_PATH / LOG_NAME_EXPERIMENT_3).exists(), \"are you sure to run this again?\""
   ]
  },
  {
   "cell_type": "code",
   "execution_count": 18,
   "metadata": {},
   "outputs": [],
   "source": [
    "df = pd.read_csv(DATA_FILE)\n",
    "df.set_index(\"timestamp\", inplace=True)"
   ]
  },
  {
   "cell_type": "code",
   "execution_count": 20,
   "metadata": {},
   "outputs": [],
   "source": [
    "assert df[\"label\"].unique().shape == (10,)"
   ]
  },
  {
   "cell_type": "markdown",
   "metadata": {},
   "source": [
    "### Preprocessings\n",
    "- remove Null values\n",
    "- drop timestamp\n",
    "- labelEncode\n",
    "- normalize"
   ]
  },
  {
   "cell_type": "code",
   "execution_count": 21,
   "metadata": {},
   "outputs": [
    {
     "name": "stdout",
     "output_type": "stream",
     "text": [
      "(28869, 306)\n",
      "(21765, 306)\n"
     ]
    }
   ],
   "source": [
    "print(df.shape)\n",
    "old_df = df.copy()\n",
    "df.dropna(axis=0, how='any', inplace=True)\n",
    "\n",
    "print(df.shape)"
   ]
  },
  {
   "cell_type": "code",
   "execution_count": 11,
   "metadata": {},
   "outputs": [],
   "source": [
    "df.reset_index(inplace=True, drop=True)"
   ]
  },
  {
   "cell_type": "code",
   "execution_count": 12,
   "metadata": {},
   "outputs": [],
   "source": [
    "label_encoder = sys_func.create_label_encoder_for_labels()\n",
    "df['label'] = label_encoder.transform(df['label'])"
   ]
  },
  {
   "cell_type": "code",
   "execution_count": 13,
   "metadata": {},
   "outputs": [],
   "source": [
    "df = feature_plotting.test_transform_all_to_numeric_columns(df)"
   ]
  },
  {
   "cell_type": "code",
   "execution_count": 14,
   "metadata": {},
   "outputs": [],
   "source": [
    "cols_to_exclude_from_scaling = [\"label\"]\n",
    "vectors = feature_plotting.minmax_scale_features(df,remove_outliers_iqr_all_columns=False,\n",
    "                                                        cols_to_exclude_from_scaling=cols_to_exclude_from_scaling)\n",
    "# print(vectors.shape)\n",
    "# print(\" with dropped null: \", vectors.dropna(axis=0, how='any', inplace=False).shape)"
   ]
  },
  {
   "cell_type": "code",
   "execution_count": 15,
   "metadata": {},
   "outputs": [
    {
     "data": {
      "text/plain": [
       "(array([0, 1, 2, 3, 4, 5, 6, 7, 8]), array([0, 1, 2, 3, 4, 5, 6, 7, 8]))"
      ]
     },
     "execution_count": 15,
     "metadata": {},
     "output_type": "execute_result"
    }
   ],
   "source": [
    "df[\"label\"].unique(), vectors[\"label\"].unique()"
   ]
  },
  {
   "cell_type": "code",
   "execution_count": 17,
   "metadata": {},
   "outputs": [
    {
     "name": "stdout",
     "output_type": "stream",
     "text": [
      "Label 0: 2285 samples\n",
      "Label 1: 2420 samples\n",
      "Label 2: 2820 samples\n",
      "Label 3: 2355 samples\n",
      "Label 4: 2365 samples\n",
      "Label 5: 2390 samples\n",
      "Label 6: 2370 samples\n",
      "Label 7: 2360 samples\n",
      "Label 8: 2400 samples\n"
     ]
    },
    {
     "data": {
      "image/png": "[encoded data removed]",
      "text/plain": [
       "<Figure size 640x480 with 1 Axes>"
      ]
     },
     "metadata": {},
     "output_type": "display_data"
    }
   ],
   "source": [
    "feature_plotting.check_label_distribution(vectors)"
   ]
  },
  {
   "cell_type": "markdown",
   "metadata": {},
   "source": [
    "### Setup"
   ]
  },
  {
   "cell_type": "code",
   "execution_count": 13,
   "metadata": {},
   "outputs": [],
   "source": [
    "from torch.utils.data import Dataset, DataLoader\n",
    "import torch\n",
    "\n",
    "class CustomeDataset(Dataset):\n",
    "    def __init__(self, some_df:pd.DataFrame):\n",
    "        \n",
    "        self.x = torch.tensor(some_df.drop(columns=[\"label\"], inplace=False).values, dtype=torch.float32)\n",
    "        self.labels = torch.tensor(some_df[\"label\"].values, dtype=torch.uint8)\n",
    "\n",
    "    def __len__(self):\n",
    "        return len(self.x)\n",
    "\n",
    "    def __getitem__(self, idx):\n",
    "        # if torch.is_tensor(idx):\n",
    "        #     idx = idx.tolist()\n",
    "        # print(self.x[idx], self.labels[idx])\n",
    "        return self.x[idx], self.labels[idx]"
   ]
  },
  {
   "cell_type": "code",
   "execution_count": 14,
   "metadata": {},
   "outputs": [
    {
     "name": "stderr",
     "output_type": "stream",
     "text": [
      "GPU available: True (cuda), used: True\n",
      "TPU available: False, using: 0 TPU cores\n",
      "IPU available: False, using: 0 IPUs\n",
      "HPU available: False, using: 0 HPUs\n"
     ]
    }
   ],
   "source": [
    "from mlp_single_layer import MalwaresModelLinearLayer\n",
    "from torch.utils.data import DataLoader\n",
    "import lightning\n",
    "from sklearn.model_selection import train_test_split\n",
    "from lightning import loggers as pl_loggers\n",
    "from lightning.pytorch.callbacks.early_stopping import EarlyStopping\n",
    "from lightning.pytorch.callbacks.model_checkpoint import ModelCheckpoint\n",
    "\n",
    "tensorboard = pl_loggers.TensorBoardLogger(save_dir=LOG_PATH, name=LOG_NAME)\n",
    "\n",
    "# split into train and val\n",
    "train, val = train_test_split(vectors, test_size=0.2, random_state=SEED)\n",
    "\n",
    "train_dataset = CustomeDataset(train)\n",
    "train_dataloader = DataLoader(train_dataset, batch_size=500, shuffle=True, num_workers=7)\n",
    "\n",
    "val_dataset = CustomeDataset(val)\n",
    "val_dataloader = DataLoader(val_dataset, batch_size=500, shuffle=False, num_workers=7)\n",
    "\n",
    "# trainer = lightning.Trainer(fast_dev_run=100)\n",
    "monitor = \"Validation/Accuracy\"\n",
    "early_stop_callback = EarlyStopping(monitor=monitor, patience=5, verbose=True, mode=\"max\")\n",
    "checkpoint_callback = ModelCheckpoint(save_top_k=1, monitor=monitor, mode=\"max\")\n",
    "\n",
    "trainer = lightning.Trainer(max_epochs=150, callbacks=[early_stop_callback, checkpoint_callback], enable_checkpointing=True, logger=tensorboard) #logger=None, \n",
    "\n",
    "\n",
    "model = MalwaresModelLinearLayer(input_size = vectors.shape[1]-1, output_size = len(label_encoder.classes_), seed=SEED)\n",
    "\n",
    "torch.manual_seed(SEED)\n",
    "torch.cuda.manual_seed_all(SEED)\n"
   ]
  },
  {
   "cell_type": "code",
   "execution_count": 15,
   "metadata": {},
   "outputs": [
    {
     "name": "stderr",
     "output_type": "stream",
     "text": [
      "LOCAL_RANK: 0 - CUDA_VISIBLE_DEVICES: [0]\n",
      "\n",
      "  | Name          | Type                      | Params\n",
      "------------------------------------------------------------\n",
      "0 | train_metrics | MetricCollection          | 0     \n",
      "1 | val_metrics   | MetricCollection          | 0     \n",
      "2 | test_metrics  | MetricCollection          | 0     \n",
      "3 | cm            | MulticlassConfusionMatrix | 0     \n",
      "4 | criterion     | CrossEntropyLoss          | 0     \n",
      "5 | l1            | Linear                    | 2.8 K \n",
      "------------------------------------------------------------\n",
      "2.8 K     Trainable params\n",
      "0         Non-trainable params\n",
      "2.8 K     Total params\n",
      "0.011     Total estimated model params size (MB)\n"
     ]
    },
    {
     "data": {
      "application/vnd.jupyter.widget-view+json": {
       "model_id": "907946861006497baccb7804b9896d47",
       "version_major": 2,
       "version_minor": 0
      },
      "text/plain": [
       "Sanity Checking: |          | 0/? [00:00<?, ?it/s]"
      ]
     },
     "metadata": {},
     "output_type": "display_data"
    },
    {
     "name": "stdout",
     "output_type": "stream",
     "text": [
      "Epoch end: Validation, epoch number: 0\n",
      "ValidationEpoch/CM\n",
      " tensor([[  0,   0,   7,   0,   0,   0,   0,  91,   0],\n",
      "        [  0,   0,  20,   0,   0,   7,   0,  96,   0],\n",
      "        [  0,   0,   1,   0,   0,   0,   0, 132,   0],\n",
      "        [  0,   0,  12,   0,   0,   0,   0,  83,   0],\n",
      "        [  0,   0,   2,   0,   0,   0,   0, 111,   0],\n",
      "        [  0,   0,   0,   0,   0,   0,   0, 118,   0],\n",
      "        [  0,   0,   2,   0,   0,   0,   0,  99,   0],\n",
      "        [ 14,   0,   0,   0,   0,  21,   0,  74,   0],\n",
      "        [  0,   0,   0,   0,   0,   1,   0, 106,   3]])\n"
     ]
    },
    {
     "name": "stderr",
     "output_type": "stream",
     "text": [
      "/home/<User>/repos/csg_is/.venv/lib/python3.10/site-packages/lightning/pytorch/loops/fit_loop.py:298: The number of training batches (35) is smaller than the logging interval Trainer(log_every_n_steps=50). Set a lower value for log_every_n_steps if you want to see logs for the training epoch.\n"
     ]
    },
    {
     "data": {
      "application/vnd.jupyter.widget-view+json": {
       "model_id": "12ee5b75e5d84ac18876b804b7edf55a",
       "version_major": 2,
       "version_minor": 0
      },
      "text/plain": [
       "Training: |          | 0/? [00:00<?, ?it/s]"
      ]
     },
     "metadata": {},
     "output_type": "display_data"
    },
    {
     "data": {
      "application/vnd.jupyter.widget-view+json": {
       "model_id": "7db0c8207e6943cfb5bee609b59f73c9",
       "version_major": 2,
       "version_minor": 0
      },
      "text/plain": [
       "Validation: |          | 0/? [00:00<?, ?it/s]"
      ]
     },
     "metadata": {},
     "output_type": "display_data"
    },
    {
     "name": "stdout",
     "output_type": "stream",
     "text": [
      "Epoch end: Validation, epoch number: 1\n",
      "ValidationEpoch/CM\n",
      " tensor([[ 435,   26,  343,  450,  620,   18,  350,  141,    0],\n",
      "        [   0, 2357,   28,    0,    0,   11,    0,  147,    0],\n",
      "        [  82,   87, 1626,  168,  337,  250,  215,  188,    0],\n",
      "        [ 315,   23,  435,  639,  556,   16,  337,  129,    0],\n",
      "        [  89,   35,  266,  383, 1354,   19,  184,  148,    0],\n",
      "        [   0,  108,  161,    0,    3, 2056,    0,  180,    0],\n",
      "        [  86,   56,  982,  203,  396,  162,  425,  161,    0],\n",
      "        [  27,   79,    0,    0,    0,   27,    0, 2336,    0],\n",
      "        [   0,   13,    2,   10,    0,   12,    8,  169, 2296]])\n",
      "Epoch end: Train, epoch number: 0\n",
      "TrainEpoch/CM\n",
      " tensor([[ 435,   26,  343,  450,  620,   18,  350,  141,    0],\n",
      "        [   0, 2357,   28,    0,    0,   11,    0,  147,    0],\n",
      "        [  82,   87, 1626,  168,  337,  250,  215,  188,    0],\n",
      "        [ 315,   23,  435,  639,  556,   16,  337,  129,    0],\n",
      "        [  89,   35,  266,  383, 1354,   19,  184,  148,    0],\n",
      "        [   0,  108,  161,    0,    3, 2056,    0,  180,    0],\n",
      "        [  86,   56,  982,  203,  396,  162,  425,  161,    0],\n",
      "        [  27,   79,    0,    0,    0,   27,    0, 2336,    0],\n",
      "        [   0,   13,    2,   10,    0,   12,    8,  169, 2296]])\n"
     ]
    },
    {
     "name": "stderr",
     "output_type": "stream",
     "text": [
      "Metric Validation/Accuracy improved. New best score: 0.673\n"
     ]
    },
    {
     "data": {
      "application/vnd.jupyter.widget-view+json": {
       "model_id": "376c6008bd44475cbe6b3dcd2388b037",
       "version_major": 2,
       "version_minor": 0
      },
      "text/plain": [
       "Validation: |          | 0/? [00:00<?, ?it/s]"
      ]
     },
     "metadata": {},
     "output_type": "display_data"
    },
    {
     "name": "stdout",
     "output_type": "stream",
     "text": [
      "Epoch end: Validation, epoch number: 2\n",
      "ValidationEpoch/CM\n",
      " tensor([[1598,   26,  403,  964,  871,   18,  647,  141,    0],\n",
      "        [   0, 4777,   28,    0,    0,   11,    0,  147,    0],\n",
      "        [ 217,   98, 3679,  293,  619,  319,  360,  188,    0],\n",
      "        [ 915,   23,  637, 1692,  781,   16,  612,  129,    0],\n",
      "        [ 238,   35,  352,  482, 3132,   24,  432,  148,    0],\n",
      "        [   0,  108,  175,    0,    3, 4432,    0,  180,    0],\n",
      "        [ 293,   56, 1923,  411,  692,  214, 1091,  161,    0],\n",
      "        [  27,   79,    0,    0,    0,   27,    0, 4696,    0],\n",
      "        [   0,   13,    2,   10,    0,   12,    8,  169, 4696]])\n",
      "Epoch end: Train, epoch number: 1\n",
      "TrainEpoch/CM\n",
      " tensor([[1598,   26,  403,  964,  871,   18,  647,  141,    0],\n",
      "        [   0, 4777,   28,    0,    0,   11,    0,  147,    0],\n",
      "        [ 217,   98, 3679,  293,  619,  319,  360,  188,    0],\n",
      "        [ 915,   23,  637, 1692,  781,   16,  612,  129,    0],\n",
      "        [ 238,   35,  352,  482, 3132,   24,  432,  148,    0],\n",
      "        [   0,  108,  175,    0,    3, 4432,    0,  180,    0],\n",
      "        [ 293,   56, 1923,  411,  692,  214, 1091,  161,    0],\n",
      "        [  27,   79,    0,    0,    0,   27,    0, 4696,    0],\n",
      "        [   0,   13,    2,   10,    0,   12,    8,  169, 4696]])\n"
     ]
    },
    {
     "name": "stderr",
     "output_type": "stream",
     "text": [
      "Metric Validation/Accuracy improved by 0.109 >= min_delta = 0.0. New best score: 0.782\n"
     ]
    },
    {
     "data": {
      "application/vnd.jupyter.widget-view+json": {
       "model_id": "e1610819430c47c7ab00d563c1d8e289",
       "version_major": 2,
       "version_minor": 0
      },
      "text/plain": [
       "Validation: |          | 0/? [00:00<?, ?it/s]"
      ]
     },
     "metadata": {},
     "output_type": "display_data"
    },
    {
     "name": "stdout",
     "output_type": "stream",
     "text": [
      "Epoch end: Validation, epoch number: 3\n",
      "ValidationEpoch/CM\n",
      " tensor([[3076,   26,  426, 1524,  916,   18,  826,  141,    0],\n",
      "        [   0, 7197,   28,    0,    0,   11,    0,  147,    0],\n",
      "        [ 319,   98, 5903,  422,  733,  353,  577,  188,    0],\n",
      "        [1420,   23,  750, 3147,  848,   16,  827,  129,    0],\n",
      "        [ 314,   35,  399,  588, 5098,   32,  594,  148,    0],\n",
      "        [   0,  108,  196,    0,    3, 6801,    0,  180,    0],\n",
      "        [ 475,   56, 2745,  680,  875,  243, 1976,  161,    0],\n",
      "        [  27,   79,    0,    0,    0,   27,    0, 7056,    0],\n",
      "        [   0,   13,    2,   10,    0,   12,    8,  169, 7096]])\n",
      "Epoch end: Train, epoch number: 2\n",
      "TrainEpoch/CM\n",
      " tensor([[3076,   26,  426, 1524,  916,   18,  826,  141,    0],\n",
      "        [   0, 7197,   28,    0,    0,   11,    0,  147,    0],\n",
      "        [ 319,   98, 5903,  422,  733,  353,  577,  188,    0],\n",
      "        [1420,   23,  750, 3147,  848,   16,  827,  129,    0],\n",
      "        [ 314,   35,  399,  588, 5098,   32,  594,  148,    0],\n",
      "        [   0,  108,  196,    0,    3, 6801,    0,  180,    0],\n",
      "        [ 475,   56, 2745,  680,  875,  243, 1976,  161,    0],\n",
      "        [  27,   79,    0,    0,    0,   27,    0, 7056,    0],\n",
      "        [   0,   13,    2,   10,    0,   12,    8,  169, 7096]])\n"
     ]
    },
    {
     "name": "stderr",
     "output_type": "stream",
     "text": [
      "Metric Validation/Accuracy improved by 0.046 >= min_delta = 0.0. New best score: 0.827\n"
     ]
    },
    {
     "data": {
      "application/vnd.jupyter.widget-view+json": {
       "model_id": "58c15e8fa8f046499963c136e244941c",
       "version_major": 2,
       "version_minor": 0
      },
      "text/plain": [
       "Validation: |          | 0/? [00:00<?, ?it/s]"
      ]
     },
     "metadata": {},
     "output_type": "display_data"
    },
    {
     "name": "stdout",
     "output_type": "stream",
     "text": [
      "Epoch end: Validation, epoch number: 4\n",
      "ValidationEpoch/CM\n",
      " tensor([[4634,   26,  434, 2105,  925,   18,  955,  141,    0],\n",
      "        [   0, 9617,   28,    0,    0,   11,    0,  147,    0],\n",
      "        [ 427,   98, 8180,  539,  768,  379,  834,  188,    0],\n",
      "        [1921,   23,  823, 4719,  869,   16, 1015,  129,    0],\n",
      "        [ 386,   35,  412,  687, 7198,   42,  665,  148,    0],\n",
      "        [   0,  108,  214,    0,    3, 9173,    0,  180,    0],\n",
      "        [ 678,   56, 3566, 1009,  963,  267, 2881,  161,    0],\n",
      "        [  27,   79,    0,    0,    0,   27,    0, 9416,    0],\n",
      "        [   0,   13,    2,   10,    0,   12,    8,  169, 9496]])\n"
     ]
    },
    {
     "name": "stderr",
     "output_type": "stream",
     "text": [
      "Metric Validation/Accuracy improved by 0.000 >= min_delta = 0.0. New best score: 0.827\n"
     ]
    },
    {
     "name": "stdout",
     "output_type": "stream",
     "text": [
      "Epoch end: Train, epoch number: 3\n",
      "TrainEpoch/CM\n",
      " tensor([[4634,   26,  434, 2105,  925,   18,  955,  141,    0],\n",
      "        [   0, 9617,   28,    0,    0,   11,    0,  147,    0],\n",
      "        [ 427,   98, 8180,  539,  768,  379,  834,  188,    0],\n",
      "        [1921,   23,  823, 4719,  869,   16, 1015,  129,    0],\n",
      "        [ 386,   35,  412,  687, 7198,   42,  665,  148,    0],\n",
      "        [   0,  108,  214,    0,    3, 9173,    0,  180,    0],\n",
      "        [ 678,   56, 3566, 1009,  963,  267, 2881,  161,    0],\n",
      "        [  27,   79,    0,    0,    0,   27,    0, 9416,    0],\n",
      "        [   0,   13,    2,   10,    0,   12,    8,  169, 9496]])\n"
     ]
    },
    {
     "data": {
      "application/vnd.jupyter.widget-view+json": {
       "model_id": "6dffc15a4a93407780c97f52914a5f57",
       "version_major": 2,
       "version_minor": 0
      },
      "text/plain": [
       "Validation: |          | 0/? [00:00<?, ?it/s]"
      ]
     },
     "metadata": {},
     "output_type": "display_data"
    },
    {
     "name": "stdout",
     "output_type": "stream",
     "text": [
      "Epoch end: Validation, epoch number: 5\n",
      "ValidationEpoch/CM\n",
      " tensor([[ 6427,    26,   439,  2493,   930,    18,  1049,   141,     0],\n",
      "        [    0, 12037,    28,     0,     0,    11,     0,   147,     0],\n",
      "        [  511,    98, 10458,   638,   794,   403,  1143,   188,     0],\n",
      "        [ 2464,    23,   897,  6269,   874,    16,  1198,   129,     0],\n",
      "        [  443,    35,   422,   734,  9398,    51,   707,   148,     0],\n",
      "        [    0,   108,   228,     0,     3, 11549,     0,   180,     0],\n",
      "        [  868,    56,  4292,  1278,  1017,   285,  3994,   161,     0],\n",
      "        [   27,    79,     0,     0,     0,    27,     0, 11776,     0],\n",
      "        [    0,    13,     2,    10,     0,    12,     8,   169, 11896]])\n",
      "Epoch end: Train, epoch number: 4\n",
      "TrainEpoch/CM\n",
      " tensor([[ 6427,    26,   439,  2493,   930,    18,  1049,   141,     0],\n",
      "        [    0, 12037,    28,     0,     0,    11,     0,   147,     0],\n",
      "        [  511,    98, 10458,   638,   794,   403,  1143,   188,     0],\n",
      "        [ 2464,    23,   897,  6269,   874,    16,  1198,   129,     0],\n",
      "        [  443,    35,   422,   734,  9398,    51,   707,   148,     0],\n",
      "        [    0,   108,   228,     0,     3, 11549,     0,   180,     0],\n",
      "        [  868,    56,  4292,  1278,  1017,   285,  3994,   161,     0],\n",
      "        [   27,    79,     0,     0,     0,    27,     0, 11776,     0],\n",
      "        [    0,    13,     2,    10,     0,    12,     8,   169, 11896]])\n"
     ]
    },
    {
     "name": "stderr",
     "output_type": "stream",
     "text": [
      "Metric Validation/Accuracy improved by 0.032 >= min_delta = 0.0. New best score: 0.859\n"
     ]
    },
    {
     "data": {
      "application/vnd.jupyter.widget-view+json": {
       "model_id": "097121490e884114975140beea8b4f77",
       "version_major": 2,
       "version_minor": 0
      },
      "text/plain": [
       "Validation: |          | 0/? [00:00<?, ?it/s]"
      ]
     },
     "metadata": {},
     "output_type": "display_data"
    },
    {
     "name": "stdout",
     "output_type": "stream",
     "text": [
      "Epoch end: Validation, epoch number: 6\n",
      "ValidationEpoch/CM\n",
      " tensor([[ 8119,    26,   446,  2994,   932,    18,  1132,   141,     0],\n",
      "        [    0, 14457,    28,     0,     0,    11,     0,   147,     0],\n",
      "        [  580,    98, 12775,   741,   812,   426,  1433,   188,     0],\n",
      "        [ 2906,    23,   951,  7959,   876,    16,  1365,   129,     0],\n",
      "        [  472,    35,   423,   794, 11643,    56,   732,   148,     0],\n",
      "        [    0,   108,   235,     0,     3, 13932,     0,   180,     0],\n",
      "        [ 1024,    56,  5021,  1577,  1043,   301,  5138,   161,     0],\n",
      "        [   27,    79,     0,     0,     0,    27,     0, 14136,     0],\n",
      "        [    0,    13,     2,    10,     0,    12,     8,   169, 14296]])\n",
      "Epoch end: Train, epoch number: 5\n",
      "TrainEpoch/CM\n",
      " tensor([[ 8119,    26,   446,  2994,   932,    18,  1132,   141,     0],\n",
      "        [    0, 14457,    28,     0,     0,    11,     0,   147,     0],\n",
      "        [  580,    98, 12775,   741,   812,   426,  1433,   188,     0],\n",
      "        [ 2906,    23,   951,  7959,   876,    16,  1365,   129,     0],\n",
      "        [  472,    35,   423,   794, 11643,    56,   732,   148,     0],\n",
      "        [    0,   108,   235,     0,     3, 13932,     0,   180,     0],\n",
      "        [ 1024,    56,  5021,  1577,  1043,   301,  5138,   161,     0],\n",
      "        [   27,    79,     0,     0,     0,    27,     0, 14136,     0],\n",
      "        [    0,    13,     2,    10,     0,    12,     8,   169, 14296]])\n"
     ]
    },
    {
     "data": {
      "application/vnd.jupyter.widget-view+json": {
       "model_id": "d375576b66cb47e592dcbaf3f7d16ab6",
       "version_major": 2,
       "version_minor": 0
      },
      "text/plain": [
       "Validation: |          | 0/? [00:00<?, ?it/s]"
      ]
     },
     "metadata": {},
     "output_type": "display_data"
    },
    {
     "name": "stdout",
     "output_type": "stream",
     "text": [
      "Epoch end: Validation, epoch number: 7\n",
      "ValidationEpoch/CM\n",
      " tensor([[ 9824,    26,   452,  3482,   933,    18,  1217,   141,     0],\n",
      "        [    0, 16877,    28,     0,     0,    11,     0,   147,     0],\n",
      "        [  632,    98, 15020,   829,   819,   450,  1837,   188,     0],\n",
      "        [ 3325,    23,   980,  9703,   876,    16,  1528,   129,     0],\n",
      "        [  496,    35,   423,   853, 13887,    61,   765,   148,     0],\n",
      "        [    0,   108,   240,     0,     3, 16317,     0,   180,     0],\n",
      "        [ 1173,    56,  5614,  1863,  1059,   317,  6448,   161,     0],\n",
      "        [   27,    79,     0,     0,     0,    27,     0, 16496,     0],\n",
      "        [    0,    13,     2,    10,     0,    12,     8,   169, 16696]])\n"
     ]
    },
    {
     "name": "stderr",
     "output_type": "stream",
     "text": [
      "Metric Validation/Accuracy improved by 0.008 >= min_delta = 0.0. New best score: 0.867\n"
     ]
    },
    {
     "name": "stdout",
     "output_type": "stream",
     "text": [
      "Epoch end: Train, epoch number: 6\n",
      "TrainEpoch/CM\n",
      " tensor([[ 9824,    26,   452,  3482,   933,    18,  1217,   141,     0],\n",
      "        [    0, 16877,    28,     0,     0,    11,     0,   147,     0],\n",
      "        [  632,    98, 15020,   829,   819,   450,  1837,   188,     0],\n",
      "        [ 3325,    23,   980,  9703,   876,    16,  1528,   129,     0],\n",
      "        [  496,    35,   423,   853, 13887,    61,   765,   148,     0],\n",
      "        [    0,   108,   240,     0,     3, 16317,     0,   180,     0],\n",
      "        [ 1173,    56,  5614,  1863,  1059,   317,  6448,   161,     0],\n",
      "        [   27,    79,     0,     0,     0,    27,     0, 16496,     0],\n",
      "        [    0,    13,     2,    10,     0,    12,     8,   169, 16696]])\n"
     ]
    },
    {
     "data": {
      "application/vnd.jupyter.widget-view+json": {
       "model_id": "4a93ee08791c4eb880f2d02a763cb17c",
       "version_major": 2,
       "version_minor": 0
      },
      "text/plain": [
       "Validation: |          | 0/? [00:00<?, ?it/s]"
      ]
     },
     "metadata": {},
     "output_type": "display_data"
    },
    {
     "name": "stdout",
     "output_type": "stream",
     "text": [
      "Epoch end: Validation, epoch number: 8\n",
      "ValidationEpoch/CM\n",
      " tensor([[11745,    26,   457,  3780,   933,    18,  1278,   141,     0],\n",
      "        [    0, 19297,    28,     0,     0,    11,     0,   147,     0],\n",
      "        [  696,    98, 17371,   891,   825,   468,  2156,   188,     0],\n",
      "        [ 3765,    23,  1024, 11432,   876,    16,  1670,   129,     0],\n",
      "        [  521,    35,   423,   883, 16185,    66,   772,   148,     0],\n",
      "        [    0,   108,   244,     0,     3, 18703,     0,   180,     0],\n",
      "        [ 1340,    56,  6282,  2121,  1078,   333,  7690,   161,     0],\n",
      "        [   27,    79,     0,     0,     0,    27,     0, 18856,     0],\n",
      "        [    0,    13,     2,    10,     0,    12,     8,   169, 19096]])\n",
      "Epoch end: Train, epoch number: 7\n",
      "TrainEpoch/CM\n",
      " tensor([[11745,    26,   457,  3780,   933,    18,  1278,   141,     0],\n",
      "        [    0, 19297,    28,     0,     0,    11,     0,   147,     0],\n",
      "        [  696,    98, 17371,   891,   825,   468,  2156,   188,     0],\n",
      "        [ 3765,    23,  1024, 11432,   876,    16,  1670,   129,     0],\n",
      "        [  521,    35,   423,   883, 16185,    66,   772,   148,     0],\n",
      "        [    0,   108,   244,     0,     3, 18703,     0,   180,     0],\n",
      "        [ 1340,    56,  6282,  2121,  1078,   333,  7690,   161,     0],\n",
      "        [   27,    79,     0,     0,     0,    27,     0, 18856,     0],\n",
      "        [    0,    13,     2,    10,     0,    12,     8,   169, 19096]])\n"
     ]
    },
    {
     "name": "stderr",
     "output_type": "stream",
     "text": [
      "Metric Validation/Accuracy improved by 0.007 >= min_delta = 0.0. New best score: 0.874\n"
     ]
    },
    {
     "data": {
      "application/vnd.jupyter.widget-view+json": {
       "model_id": "3e6d5ae2cc374418b2fc1aab623d027f",
       "version_major": 2,
       "version_minor": 0
      },
      "text/plain": [
       "Validation: |          | 0/? [00:00<?, ?it/s]"
      ]
     },
     "metadata": {},
     "output_type": "display_data"
    },
    {
     "name": "stdout",
     "output_type": "stream",
     "text": [
      "Epoch end: Validation, epoch number: 9\n",
      "ValidationEpoch/CM\n",
      " tensor([[13686,    26,   464,  4057,   933,    18,  1338,   141,     0],\n",
      "        [    0, 21717,    28,     0,     0,    11,     0,   147,     0],\n",
      "        [  724,    98, 19748,   951,   829,   483,  2492,   188,     0],\n",
      "        [ 4212,    23,  1066, 13157,   876,    16,  1811,   129,     0],\n",
      "        [  536,    35,   423,   903, 18505,    71,   777,   148,     0],\n",
      "        [    0,   108,   248,     0,     3, 21089,     0,   180,     0],\n",
      "        [ 1482,    56,  6912,  2391,  1091,   351,  8987,   161,     0],\n",
      "        [   27,    79,     0,     0,     0,    27,     0, 21216,     0],\n",
      "        [    0,    13,     2,    10,     0,    12,     8,   169, 21496]])\n",
      "Epoch end: Train, epoch number: 8\n",
      "TrainEpoch/CM\n",
      " tensor([[13686,    26,   464,  4057,   933,    18,  1338,   141,     0],\n",
      "        [    0, 21717,    28,     0,     0,    11,     0,   147,     0],\n",
      "        [  724,    98, 19748,   951,   829,   483,  2492,   188,     0],\n",
      "        [ 4212,    23,  1066, 13157,   876,    16,  1811,   129,     0],\n",
      "        [  536,    35,   423,   903, 18505,    71,   777,   148,     0],\n",
      "        [    0,   108,   248,     0,     3, 21089,     0,   180,     0],\n",
      "        [ 1482,    56,  6912,  2391,  1091,   351,  8987,   161,     0],\n",
      "        [   27,    79,     0,     0,     0,    27,     0, 21216,     0],\n",
      "        [    0,    13,     2,    10,     0,    12,     8,   169, 21496]])\n"
     ]
    },
    {
     "name": "stderr",
     "output_type": "stream",
     "text": [
      "Metric Validation/Accuracy improved by 0.013 >= min_delta = 0.0. New best score: 0.887\n"
     ]
    },
    {
     "data": {
      "application/vnd.jupyter.widget-view+json": {
       "model_id": "e8f812e9a86d47d9987cb41f53aa4839",
       "version_major": 2,
       "version_minor": 0
      },
      "text/plain": [
       "Validation: |          | 0/? [00:00<?, ?it/s]"
      ]
     },
     "metadata": {},
     "output_type": "display_data"
    },
    {
     "name": "stdout",
     "output_type": "stream",
     "text": [
      "Epoch end: Validation, epoch number: 10\n",
      "ValidationEpoch/CM\n",
      " tensor([[15658,    26,   470,  4309,   933,    18,  1393,   141,     0],\n",
      "        [    0, 24137,    28,     0,     0,    11,     0,   147,     0],\n",
      "        [  751,    98, 22115,  1000,   829,   495,  2857,   188,     0],\n",
      "        [ 4638,    23,  1089, 14929,   876,    16,  1945,   129,     0],\n",
      "        [  545,    35,   423,   929, 20826,    76,   781,   148,     0],\n",
      "        [    0,   108,   253,     0,     3, 23474,     0,   180,     0],\n",
      "        [ 1635,    56,  7481,  2638,  1100,   366, 10364,   161,     0],\n",
      "        [   27,    79,     0,     0,     0,    27,     0, 23576,     0],\n",
      "        [    0,    13,     2,    10,     0,    12,     8,   169, 23896]])\n",
      "Epoch end: Train, epoch number: 9\n",
      "TrainEpoch/CM\n",
      " tensor([[15658,    26,   470,  4309,   933,    18,  1393,   141,     0],\n",
      "        [    0, 24137,    28,     0,     0,    11,     0,   147,     0],\n",
      "        [  751,    98, 22115,  1000,   829,   495,  2857,   188,     0],\n",
      "        [ 4638,    23,  1089, 14929,   876,    16,  1945,   129,     0],\n",
      "        [  545,    35,   423,   929, 20826,    76,   781,   148,     0],\n",
      "        [    0,   108,   253,     0,     3, 23474,     0,   180,     0],\n",
      "        [ 1635,    56,  7481,  2638,  1100,   366, 10364,   161,     0],\n",
      "        [   27,    79,     0,     0,     0,    27,     0, 23576,     0],\n",
      "        [    0,    13,     2,    10,     0,    12,     8,   169, 23896]])\n"
     ]
    },
    {
     "name": "stderr",
     "output_type": "stream",
     "text": [
      "Metric Validation/Accuracy improved by 0.003 >= min_delta = 0.0. New best score: 0.890\n"
     ]
    },
    {
     "data": {
      "application/vnd.jupyter.widget-view+json": {
       "model_id": "6acfe2213c6d4cc485cb6640940e7c74",
       "version_major": 2,
       "version_minor": 0
      },
      "text/plain": [
       "Validation: |          | 0/? [00:00<?, ?it/s]"
      ]
     },
     "metadata": {},
     "output_type": "display_data"
    },
    {
     "name": "stdout",
     "output_type": "stream",
     "text": [
      "Epoch end: Validation, epoch number: 11\n",
      "ValidationEpoch/CM\n",
      " tensor([[17680,    26,   475,  4531,   933,    18,  1429,   141,     0],\n",
      "        [    0, 26557,    28,     0,     0,    11,     0,   147,     0],\n",
      "        [  778,    98, 24501,  1050,   829,   507,  3202,   188,     0],\n",
      "        [ 5025,    23,  1109, 16753,   876,    16,  2069,   129,     0],\n",
      "        [  565,    35,   423,   946, 23149,    81,   781,   148,     0],\n",
      "        [    0,   108,   254,     0,     3, 25863,     0,   180,     0],\n",
      "        [ 1777,    56,  8065,  2875,  1108,   381, 11748,   161,     0],\n",
      "        [   27,    79,     0,     0,     0,    27,     0, 25936,     0],\n",
      "        [    0,    13,     2,    10,     0,    12,     8,   169, 26296]])\n",
      "Epoch end: Train, epoch number: 10\n",
      "TrainEpoch/CM\n",
      " tensor([[17680,    26,   475,  4531,   933,    18,  1429,   141,     0],\n",
      "        [    0, 26557,    28,     0,     0,    11,     0,   147,     0],\n",
      "        [  778,    98, 24501,  1050,   829,   507,  3202,   188,     0],\n",
      "        [ 5025,    23,  1109, 16753,   876,    16,  2069,   129,     0],\n",
      "        [  565,    35,   423,   946, 23149,    81,   781,   148,     0],\n",
      "        [    0,   108,   254,     0,     3, 25863,     0,   180,     0],\n",
      "        [ 1777,    56,  8065,  2875,  1108,   381, 11748,   161,     0],\n",
      "        [   27,    79,     0,     0,     0,    27,     0, 25936,     0],\n",
      "        [    0,    13,     2,    10,     0,    12,     8,   169, 26296]])\n"
     ]
    },
    {
     "name": "stderr",
     "output_type": "stream",
     "text": [
      "Metric Validation/Accuracy improved by 0.005 >= min_delta = 0.0. New best score: 0.896\n"
     ]
    },
    {
     "data": {
      "application/vnd.jupyter.widget-view+json": {
       "model_id": "76a3ebcc7fc54a6fa72f365e35782b1a",
       "version_major": 2,
       "version_minor": 0
      },
      "text/plain": [
       "Validation: |          | 0/? [00:00<?, ?it/s]"
      ]
     },
     "metadata": {},
     "output_type": "display_data"
    },
    {
     "name": "stdout",
     "output_type": "stream",
     "text": [
      "Epoch end: Validation, epoch number: 12\n",
      "ValidationEpoch/CM\n",
      " tensor([[19705,    26,   482,  4746,   933,    18,  1467,   141,     0],\n",
      "        [    0, 28977,    28,     0,     0,    11,     0,   147,     0],\n",
      "        [  788,    98, 26924,  1087,   829,   518,  3541,   188,     0],\n",
      "        [ 5356,    23,  1124, 18634,   876,    16,  2197,   129,     0],\n",
      "        [  582,    35,   423,   958, 25480,    86,   781,   148,     0],\n",
      "        [    0,   108,   257,     0,     3, 28250,     0,   180,     0],\n",
      "        [ 1893,    56,  8642,  3124,  1116,   396, 13153,   161,     0],\n",
      "        [   27,    79,     0,     0,     0,    27,     0, 28296,     0],\n",
      "        [    0,    13,     2,    10,     0,    12,     8,   169, 28696]])\n",
      "Epoch end: Train, epoch number: 11\n",
      "TrainEpoch/CM\n",
      " tensor([[19705,    26,   482,  4746,   933,    18,  1467,   141,     0],\n",
      "        [    0, 28977,    28,     0,     0,    11,     0,   147,     0],\n",
      "        [  788,    98, 26924,  1087,   829,   518,  3541,   188,     0],\n",
      "        [ 5356,    23,  1124, 18634,   876,    16,  2197,   129,     0],\n",
      "        [  582,    35,   423,   958, 25480,    86,   781,   148,     0],\n",
      "        [    0,   108,   257,     0,     3, 28250,     0,   180,     0],\n",
      "        [ 1893,    56,  8642,  3124,  1116,   396, 13153,   161,     0],\n",
      "        [   27,    79,     0,     0,     0,    27,     0, 28296,     0],\n",
      "        [    0,    13,     2,    10,     0,    12,     8,   169, 28696]])\n"
     ]
    },
    {
     "name": "stderr",
     "output_type": "stream",
     "text": [
      "Metric Validation/Accuracy improved by 0.007 >= min_delta = 0.0. New best score: 0.903\n"
     ]
    },
    {
     "data": {
      "application/vnd.jupyter.widget-view+json": {
       "model_id": "3f3582f7ee9344c28566d0c56df03c28",
       "version_major": 2,
       "version_minor": 0
      },
      "text/plain": [
       "Validation: |          | 0/? [00:00<?, ?it/s]"
      ]
     },
     "metadata": {},
     "output_type": "display_data"
    },
    {
     "name": "stdout",
     "output_type": "stream",
     "text": [
      "Epoch end: Validation, epoch number: 13\n",
      "ValidationEpoch/CM\n",
      " tensor([[21667,    26,   487,  5031,   933,    18,  1500,   141,     0],\n",
      "        [    0, 31397,    28,     0,     0,    11,     0,   147,     0],\n",
      "        [  795,    98, 29361,  1126,   829,   525,  3871,   188,     0],\n",
      "        [ 5667,    23,  1142, 20559,   876,    16,  2298,   129,     0],\n",
      "        [  594,    35,   423,   974, 27812,    91,   781,   148,     0],\n",
      "        [    0,   108,   260,     0,     3, 30637,     0,   180,     0],\n",
      "        [ 2006,    56,  9207,  3378,  1122,   408, 14573,   161,     0],\n",
      "        [   27,    79,     0,     0,     0,    27,     0, 30656,     0],\n",
      "        [    0,    13,     2,    10,     0,    12,     8,   169, 31096]])\n",
      "Epoch end: Train, epoch number: 12\n",
      "TrainEpoch/CM\n",
      " tensor([[21667,    26,   487,  5031,   933,    18,  1500,   141,     0],\n",
      "        [    0, 31397,    28,     0,     0,    11,     0,   147,     0],\n",
      "        [  795,    98, 29361,  1126,   829,   525,  3871,   188,     0],\n",
      "        [ 5667,    23,  1142, 20559,   876,    16,  2298,   129,     0],\n",
      "        [  594,    35,   423,   974, 27812,    91,   781,   148,     0],\n",
      "        [    0,   108,   260,     0,     3, 30637,     0,   180,     0],\n",
      "        [ 2006,    56,  9207,  3378,  1122,   408, 14573,   161,     0],\n",
      "        [   27,    79,     0,     0,     0,    27,     0, 30656,     0],\n",
      "        [    0,    13,     2,    10,     0,    12,     8,   169, 31096]])\n"
     ]
    },
    {
     "data": {
      "application/vnd.jupyter.widget-view+json": {
       "model_id": "9ba43c573f9549b98596bc544661c89e",
       "version_major": 2,
       "version_minor": 0
      },
      "text/plain": [
       "Validation: |          | 0/? [00:00<?, ?it/s]"
      ]
     },
     "metadata": {},
     "output_type": "display_data"
    },
    {
     "name": "stdout",
     "output_type": "stream",
     "text": [
      "Epoch end: Validation, epoch number: 14\n",
      "ValidationEpoch/CM\n",
      " tensor([[23666,    26,   489,  5269,   933,    18,  1546,   141,     0],\n",
      "        [    0, 33817,    28,     0,     0,    11,     0,   147,     0],\n",
      "        [  803,    98, 31685,  1160,   829,   537,  4313,   188,     0],\n",
      "        [ 5957,    23,  1154, 22484,   876,    16,  2426,   129,     0],\n",
      "        [  601,    35,   423,   986, 30153,    96,   781,   148,     0],\n",
      "        [    0,   108,   260,     0,     3, 33027,     0,   180,     0],\n",
      "        [ 2134,    56,  9674,  3601,  1127,   419, 16109,   161,     0],\n",
      "        [   27,    79,     0,     0,     0,    27,     0, 33016,     0],\n",
      "        [    0,    13,     2,    10,     0,    12,     8,   169, 33496]])\n",
      "Epoch end: Train, epoch number: 13\n",
      "TrainEpoch/CM\n",
      " tensor([[23666,    26,   489,  5269,   933,    18,  1546,   141,     0],\n",
      "        [    0, 33817,    28,     0,     0,    11,     0,   147,     0],\n",
      "        [  803,    98, 31685,  1160,   829,   537,  4313,   188,     0],\n",
      "        [ 5957,    23,  1154, 22484,   876,    16,  2426,   129,     0],\n",
      "        [  601,    35,   423,   986, 30153,    96,   781,   148,     0],\n",
      "        [    0,   108,   260,     0,     3, 33027,     0,   180,     0],\n",
      "        [ 2134,    56,  9674,  3601,  1127,   419, 16109,   161,     0],\n",
      "        [   27,    79,     0,     0,     0,    27,     0, 33016,     0],\n",
      "        [    0,    13,     2,    10,     0,    12,     8,   169, 33496]])\n"
     ]
    },
    {
     "name": "stderr",
     "output_type": "stream",
     "text": [
      "Metric Validation/Accuracy improved by 0.011 >= min_delta = 0.0. New best score: 0.914\n"
     ]
    },
    {
     "data": {
      "application/vnd.jupyter.widget-view+json": {
       "model_id": "198172bbf8c64207a5bf3af1f28abe61",
       "version_major": 2,
       "version_minor": 0
      },
      "text/plain": [
       "Validation: |          | 0/? [00:00<?, ?it/s]"
      ]
     },
     "metadata": {},
     "output_type": "display_data"
    },
    {
     "name": "stdout",
     "output_type": "stream",
     "text": [
      "Epoch end: Validation, epoch number: 15\n",
      "ValidationEpoch/CM\n",
      " tensor([[25740,    26,   491,  5439,   933,    18,  1585,   141,     0],\n",
      "        [    0, 36237,    28,     0,     0,    11,     0,   147,     0],\n",
      "        [  808,    98, 34075,  1188,   829,   541,  4706,   188,     0],\n",
      "        [ 6226,    23,  1166, 24443,   876,    16,  2541,   129,     0],\n",
      "        [  603,    35,   423,  1000, 32499,    99,   781,   148,     0],\n",
      "        [    0,   108,   261,     0,     3, 35416,     0,   180,     0],\n",
      "        [ 2246,    56, 10124,  3841,  1130,   428, 17665,   161,     0],\n",
      "        [   27,    79,     0,     0,     0,    27,     0, 35376,     0],\n",
      "        [    0,    13,     2,    10,     0,    12,     8,   169, 35896]])\n",
      "Epoch end: Train, epoch number: 14\n",
      "TrainEpoch/CM\n",
      " tensor([[25740,    26,   491,  5439,   933,    18,  1585,   141,     0],\n",
      "        [    0, 36237,    28,     0,     0,    11,     0,   147,     0],\n",
      "        [  808,    98, 34075,  1188,   829,   541,  4706,   188,     0],\n",
      "        [ 6226,    23,  1166, 24443,   876,    16,  2541,   129,     0],\n",
      "        [  603,    35,   423,  1000, 32499,    99,   781,   148,     0],\n",
      "        [    0,   108,   261,     0,     3, 35416,     0,   180,     0],\n",
      "        [ 2246,    56, 10124,  3841,  1130,   428, 17665,   161,     0],\n",
      "        [   27,    79,     0,     0,     0,    27,     0, 35376,     0],\n",
      "        [    0,    13,     2,    10,     0,    12,     8,   169, 35896]])\n"
     ]
    },
    {
     "name": "stderr",
     "output_type": "stream",
     "text": [
      "Metric Validation/Accuracy improved by 0.010 >= min_delta = 0.0. New best score: 0.924\n"
     ]
    },
    {
     "data": {
      "application/vnd.jupyter.widget-view+json": {
       "model_id": "c71b469f35214aeb9000bc5748b9f3e0",
       "version_major": 2,
       "version_minor": 0
      },
      "text/plain": [
       "Validation: |          | 0/? [00:00<?, ?it/s]"
      ]
     },
     "metadata": {},
     "output_type": "display_data"
    },
    {
     "name": "stdout",
     "output_type": "stream",
     "text": [
      "Epoch end: Validation, epoch number: 16\n",
      "ValidationEpoch/CM\n",
      " tensor([[27862,    26,   495,  5574,   933,    18,  1609,   141,     0],\n",
      "        [    0, 38657,    28,     0,     0,    11,     0,   147,     0],\n",
      "        [  813,    98, 36513,  1210,   829,   545,  5057,   188,     0],\n",
      "        [ 6534,    23,  1178, 26373,   876,    16,  2646,   129,     0],\n",
      "        [  607,    35,   423,  1011, 34849,    99,   781,   148,     0],\n",
      "        [    0,   108,   261,     0,     3, 37806,     0,   180,     0],\n",
      "        [ 2371,    56, 10649,  4076,  1134,   437, 19137,   161,     0],\n",
      "        [   27,    79,     0,     0,     0,    27,     0, 37736,     0],\n",
      "        [    0,    13,     2,    10,     0,    12,     8,   169, 38296]])\n",
      "Epoch end: Train, epoch number: 15\n",
      "TrainEpoch/CM\n",
      " tensor([[27862,    26,   495,  5574,   933,    18,  1609,   141,     0],\n",
      "        [    0, 38657,    28,     0,     0,    11,     0,   147,     0],\n",
      "        [  813,    98, 36513,  1210,   829,   545,  5057,   188,     0],\n",
      "        [ 6534,    23,  1178, 26373,   876,    16,  2646,   129,     0],\n",
      "        [  607,    35,   423,  1011, 34849,    99,   781,   148,     0],\n",
      "        [    0,   108,   261,     0,     3, 37806,     0,   180,     0],\n",
      "        [ 2371,    56, 10649,  4076,  1134,   437, 19137,   161,     0],\n",
      "        [   27,    79,     0,     0,     0,    27,     0, 37736,     0],\n",
      "        [    0,    13,     2,    10,     0,    12,     8,   169, 38296]])\n"
     ]
    },
    {
     "data": {
      "application/vnd.jupyter.widget-view+json": {
       "model_id": "532c3e78534e456a954f02b64eab6dde",
       "version_major": 2,
       "version_minor": 0
      },
      "text/plain": [
       "Validation: |          | 0/? [00:00<?, ?it/s]"
      ]
     },
     "metadata": {},
     "output_type": "display_data"
    },
    {
     "name": "stdout",
     "output_type": "stream",
     "text": [
      "Epoch end: Validation, epoch number: 17\n",
      "ValidationEpoch/CM\n",
      " tensor([[29997,    26,   497,  5695,   933,    18,  1636,   141,     0],\n",
      "        [    0, 41077,    28,     0,     0,    11,     0,   147,     0],\n",
      "        [  817,    98, 38954,  1230,   829,   547,  5410,   188,     0],\n",
      "        [ 6886,    23,  1186, 28248,   876,    16,  2766,   129,     0],\n",
      "        [  613,    35,   423,  1017, 37202,    99,   781,   148,     0],\n",
      "        [    0,   108,   261,     0,     3, 40196,     0,   180,     0],\n",
      "        [ 2480,    56, 11098,  4303,  1135,   444, 20714,   161,     0],\n",
      "        [   27,    79,     0,     0,     0,    27,     0, 40096,     0],\n",
      "        [    0,    13,     2,    10,     0,    12,     8,   169, 40696]])\n",
      "Epoch end: Train, epoch number: 16\n",
      "TrainEpoch/CM\n",
      " tensor([[29997,    26,   497,  5695,   933,    18,  1636,   141,     0],\n",
      "        [    0, 41077,    28,     0,     0,    11,     0,   147,     0],\n",
      "        [  817,    98, 38954,  1230,   829,   547,  5410,   188,     0],\n",
      "        [ 6886,    23,  1186, 28248,   876,    16,  2766,   129,     0],\n",
      "        [  613,    35,   423,  1017, 37202,    99,   781,   148,     0],\n",
      "        [    0,   108,   261,     0,     3, 40196,     0,   180,     0],\n",
      "        [ 2480,    56, 11098,  4303,  1135,   444, 20714,   161,     0],\n",
      "        [   27,    79,     0,     0,     0,    27,     0, 40096,     0],\n",
      "        [    0,    13,     2,    10,     0,    12,     8,   169, 40696]])\n"
     ]
    },
    {
     "data": {
      "application/vnd.jupyter.widget-view+json": {
       "model_id": "760d777a60a0420182148e5988e4508e",
       "version_major": 2,
       "version_minor": 0
      },
      "text/plain": [
       "Validation: |          | 0/? [00:00<?, ?it/s]"
      ]
     },
     "metadata": {},
     "output_type": "display_data"
    },
    {
     "name": "stdout",
     "output_type": "stream",
     "text": [
      "Epoch end: Validation, epoch number: 18\n",
      "ValidationEpoch/CM\n",
      " tensor([[32123,    26,   499,  5820,   933,    18,  1668,   141,     0],\n",
      "        [    0, 43497,    28,     0,     0,    11,     0,   147,     0],\n",
      "        [  825,    98, 41443,  1247,   829,   547,  5716,   188,     0],\n",
      "        [ 7276,    23,  1195, 30108,   876,    16,  2862,   129,     0],\n",
      "        [  619,    35,   423,  1021, 39557,    99,   781,   148,     0],\n",
      "        [    0,   108,   261,     0,     3, 42586,     0,   180,     0],\n",
      "        [ 2611,    56, 11599,  4508,  1138,   453, 22235,   161,     0],\n",
      "        [   27,    79,     0,     0,     0,    27,     0, 42456,     0],\n",
      "        [    0,    13,     2,    10,     0,    12,     8,   169, 43096]])\n",
      "Epoch end: Train, epoch number: 17\n",
      "TrainEpoch/CM\n",
      " tensor([[32123,    26,   499,  5820,   933,    18,  1668,   141,     0],\n",
      "        [    0, 43497,    28,     0,     0,    11,     0,   147,     0],\n",
      "        [  825,    98, 41443,  1247,   829,   547,  5716,   188,     0],\n",
      "        [ 7276,    23,  1195, 30108,   876,    16,  2862,   129,     0],\n",
      "        [  619,    35,   423,  1021, 39557,    99,   781,   148,     0],\n",
      "        [    0,   108,   261,     0,     3, 42586,     0,   180,     0],\n",
      "        [ 2611,    56, 11599,  4508,  1138,   453, 22235,   161,     0],\n",
      "        [   27,    79,     0,     0,     0,    27,     0, 42456,     0],\n",
      "        [    0,    13,     2,    10,     0,    12,     8,   169, 43096]])\n"
     ]
    },
    {
     "data": {
      "application/vnd.jupyter.widget-view+json": {
       "model_id": "7f308b6920974c8d8fcdf6160b669975",
       "version_major": 2,
       "version_minor": 0
      },
      "text/plain": [
       "Validation: |          | 0/? [00:00<?, ?it/s]"
      ]
     },
     "metadata": {},
     "output_type": "display_data"
    },
    {
     "name": "stdout",
     "output_type": "stream",
     "text": [
      "Epoch end: Validation, epoch number: 19\n",
      "ValidationEpoch/CM\n",
      " tensor([[34291,    26,   501,  5909,   933,    18,  1694,   141,     0],\n",
      "        [    0, 45917,    28,     0,     0,    11,     0,   147,     0],\n",
      "        [  825,    98, 43909,  1258,   829,   549,  6057,   188,     0],\n",
      "        [ 7494,    23,  1206, 32152,   876,    16,  2944,   129,     0],\n",
      "        [  623,    35,   423,  1025, 41914,    99,   781,   148,     0],\n",
      "        [    0,   108,   261,     0,     3, 44976,     0,   180,     0],\n",
      "        [ 2706,    56, 12015,  4740,  1141,   462, 23850,   161,     0],\n",
      "        [   27,    79,     0,     0,     0,    27,     0, 44816,     0],\n",
      "        [    0,    13,     2,    10,     0,    12,     8,   169, 45496]])\n"
     ]
    },
    {
     "name": "stderr",
     "output_type": "stream",
     "text": [
      "Metric Validation/Accuracy improved by 0.011 >= min_delta = 0.0. New best score: 0.935\n"
     ]
    },
    {
     "name": "stdout",
     "output_type": "stream",
     "text": [
      "Epoch end: Train, epoch number: 18\n",
      "TrainEpoch/CM\n",
      " tensor([[34291,    26,   501,  5909,   933,    18,  1694,   141,     0],\n",
      "        [    0, 45917,    28,     0,     0,    11,     0,   147,     0],\n",
      "        [  825,    98, 43909,  1258,   829,   549,  6057,   188,     0],\n",
      "        [ 7494,    23,  1206, 32152,   876,    16,  2944,   129,     0],\n",
      "        [  623,    35,   423,  1025, 41914,    99,   781,   148,     0],\n",
      "        [    0,   108,   261,     0,     3, 44976,     0,   180,     0],\n",
      "        [ 2706,    56, 12015,  4740,  1141,   462, 23850,   161,     0],\n",
      "        [   27,    79,     0,     0,     0,    27,     0, 44816,     0],\n",
      "        [    0,    13,     2,    10,     0,    12,     8,   169, 45496]])\n"
     ]
    },
    {
     "data": {
      "application/vnd.jupyter.widget-view+json": {
       "model_id": "7981b1a3c4904be3a7bf587fd84640fa",
       "version_major": 2,
       "version_minor": 0
      },
      "text/plain": [
       "Validation: |          | 0/? [00:00<?, ?it/s]"
      ]
     },
     "metadata": {},
     "output_type": "display_data"
    },
    {
     "name": "stdout",
     "output_type": "stream",
     "text": [
      "Epoch end: Validation, epoch number: 20\n",
      "ValidationEpoch/CM\n",
      " tensor([[36459,    26,   501,  6001,   933,    18,  1719,   141,     0],\n",
      "        [    0, 48337,    28,     0,     0,    11,     0,   147,     0],\n",
      "        [  826,    98, 46406,  1266,   829,   549,  6371,   188,     0],\n",
      "        [ 7715,    23,  1215, 34198,   876,    16,  3023,   129,     0],\n",
      "        [  624,    35,   423,  1027, 44276,    99,   781,   148,     0],\n",
      "        [    0,   108,   261,     0,     3, 47366,     0,   180,     0],\n",
      "        [ 2808,    56, 12477,  4960,  1144,   466, 25429,   161,     0],\n",
      "        [   27,    79,     0,     0,     0,    27,     0, 47176,     0],\n",
      "        [    0,    13,     2,    10,     0,    12,     8,   169, 47896]])\n",
      "Epoch end: Train, epoch number: 19\n",
      "TrainEpoch/CM\n",
      " tensor([[36459,    26,   501,  6001,   933,    18,  1719,   141,     0],\n",
      "        [    0, 48337,    28,     0,     0,    11,     0,   147,     0],\n",
      "        [  826,    98, 46406,  1266,   829,   549,  6371,   188,     0],\n",
      "        [ 7715,    23,  1215, 34198,   876,    16,  3023,   129,     0],\n",
      "        [  624,    35,   423,  1027, 44276,    99,   781,   148,     0],\n",
      "        [    0,   108,   261,     0,     3, 47366,     0,   180,     0],\n",
      "        [ 2808,    56, 12477,  4960,  1144,   466, 25429,   161,     0],\n",
      "        [   27,    79,     0,     0,     0,    27,     0, 47176,     0],\n",
      "        [    0,    13,     2,    10,     0,    12,     8,   169, 47896]])\n"
     ]
    },
    {
     "data": {
      "application/vnd.jupyter.widget-view+json": {
       "model_id": "27f33dffc50d4f2d857b68bb04ce3b67",
       "version_major": 2,
       "version_minor": 0
      },
      "text/plain": [
       "Validation: |          | 0/? [00:00<?, ?it/s]"
      ]
     },
     "metadata": {},
     "output_type": "display_data"
    },
    {
     "name": "stdout",
     "output_type": "stream",
     "text": [
      "Epoch end: Validation, epoch number: 21\n",
      "ValidationEpoch/CM\n",
      " tensor([[38624,    26,   501,  6099,   933,    18,  1741,   141,     0],\n",
      "        [    0, 50757,    28,     0,     0,    11,     0,   147,     0],\n",
      "        [  826,    98, 48912,  1273,   829,   549,  6678,   188,     0],\n",
      "        [ 7901,    23,  1228, 36285,   876,    16,  3092,   129,     0],\n",
      "        [  625,    35,   423,  1030, 46637,    99,   781,   148,     0],\n",
      "        [    0,   108,   261,     0,     3, 49756,     0,   180,     0],\n",
      "        [ 2898,    56, 12930,  5198,  1146,   471, 27011,   161,     0],\n",
      "        [   27,    79,     0,     0,     0,    27,     0, 49536,     0],\n",
      "        [    0,    13,     2,    10,     0,    12,     8,   169, 50296]])\n",
      "Epoch end: Train, epoch number: 20\n",
      "TrainEpoch/CM\n",
      " tensor([[38624,    26,   501,  6099,   933,    18,  1741,   141,     0],\n",
      "        [    0, 50757,    28,     0,     0,    11,     0,   147,     0],\n",
      "        [  826,    98, 48912,  1273,   829,   549,  6678,   188,     0],\n",
      "        [ 7901,    23,  1228, 36285,   876,    16,  3092,   129,     0],\n",
      "        [  625,    35,   423,  1030, 46637,    99,   781,   148,     0],\n",
      "        [    0,   108,   261,     0,     3, 49756,     0,   180,     0],\n",
      "        [ 2898,    56, 12930,  5198,  1146,   471, 27011,   161,     0],\n",
      "        [   27,    79,     0,     0,     0,    27,     0, 49536,     0],\n",
      "        [    0,    13,     2,    10,     0,    12,     8,   169, 50296]])\n"
     ]
    },
    {
     "data": {
      "application/vnd.jupyter.widget-view+json": {
       "model_id": "f7d1325d0aed4657926f425dc6d5645a",
       "version_major": 2,
       "version_minor": 0
      },
      "text/plain": [
       "Validation: |          | 0/? [00:00<?, ?it/s]"
      ]
     },
     "metadata": {},
     "output_type": "display_data"
    },
    {
     "name": "stdout",
     "output_type": "stream",
     "text": [
      "Epoch end: Validation, epoch number: 22\n",
      "ValidationEpoch/CM\n",
      " tensor([[40822,    26,   502,  6168,   933,    18,  1758,   141,     0],\n",
      "        [    0, 53177,    28,     0,     0,    11,     0,   147,     0],\n",
      "        [  826,    98, 51375,  1280,   829,   549,  7028,   188,     0],\n",
      "        [ 8150,    23,  1237, 38289,   876,    16,  3185,   129,     0],\n",
      "        [  625,    35,   423,  1032, 49000,    99,   781,   148,     0],\n",
      "        [    0,   108,   261,     0,     3, 52146,     0,   180,     0],\n",
      "        [ 2981,    56, 13321,  5413,  1146,   473, 28690,   161,     0],\n",
      "        [   27,    79,     0,     0,     0,    27,     0, 51896,     0],\n",
      "        [    0,    13,     2,    10,     0,    12,     8,   169, 52696]])\n",
      "Epoch end: Train, epoch number: 21\n",
      "TrainEpoch/CM\n",
      " tensor([[40822,    26,   502,  6168,   933,    18,  1758,   141,     0],\n",
      "        [    0, 53177,    28,     0,     0,    11,     0,   147,     0],\n",
      "        [  826,    98, 51375,  1280,   829,   549,  7028,   188,     0],\n",
      "        [ 8150,    23,  1237, 38289,   876,    16,  3185,   129,     0],\n",
      "        [  625,    35,   423,  1032, 49000,    99,   781,   148,     0],\n",
      "        [    0,   108,   261,     0,     3, 52146,     0,   180,     0],\n",
      "        [ 2981,    56, 13321,  5413,  1146,   473, 28690,   161,     0],\n",
      "        [   27,    79,     0,     0,     0,    27,     0, 51896,     0],\n",
      "        [    0,    13,     2,    10,     0,    12,     8,   169, 52696]])\n"
     ]
    },
    {
     "data": {
      "application/vnd.jupyter.widget-view+json": {
       "model_id": "dcd1cae025084156947b2e9e06445046",
       "version_major": 2,
       "version_minor": 0
      },
      "text/plain": [
       "Validation: |          | 0/? [00:00<?, ?it/s]"
      ]
     },
     "metadata": {},
     "output_type": "display_data"
    },
    {
     "name": "stdout",
     "output_type": "stream",
     "text": [
      "Epoch end: Validation, epoch number: 23\n",
      "ValidationEpoch/CM\n",
      " tensor([[43025,    26,   502,  6233,   933,    18,  1775,   141,     0],\n",
      "        [    0, 55597,    28,     0,     0,    11,     0,   147,     0],\n",
      "        [  826,    98, 53883,  1288,   829,   549,  7332,   188,     0],\n",
      "        [ 8348,    23,  1247, 40372,   876,    16,  3249,   129,     0],\n",
      "        [  627,    35,   423,  1035, 51360,    99,   781,   148,     0],\n",
      "        [    0,   108,   261,     0,     3, 54536,     0,   180,     0],\n",
      "        [ 3070,    56, 13736,  5636,  1146,   475, 30331,   161,     0],\n",
      "        [   27,    79,     0,     0,     0,    27,     0, 54256,     0],\n",
      "        [    0,    13,     2,    10,     0,    12,     8,   169, 55096]])\n",
      "Epoch end: Train, epoch number: 22\n",
      "TrainEpoch/CM\n",
      " tensor([[43025,    26,   502,  6233,   933,    18,  1775,   141,     0],\n",
      "        [    0, 55597,    28,     0,     0,    11,     0,   147,     0],\n",
      "        [  826,    98, 53883,  1288,   829,   549,  7332,   188,     0],\n",
      "        [ 8348,    23,  1247, 40372,   876,    16,  3249,   129,     0],\n",
      "        [  627,    35,   423,  1035, 51360,    99,   781,   148,     0],\n",
      "        [    0,   108,   261,     0,     3, 54536,     0,   180,     0],\n",
      "        [ 3070,    56, 13736,  5636,  1146,   475, 30331,   161,     0],\n",
      "        [   27,    79,     0,     0,     0,    27,     0, 54256,     0],\n",
      "        [    0,    13,     2,    10,     0,    12,     8,   169, 55096]])\n"
     ]
    },
    {
     "name": "stderr",
     "output_type": "stream",
     "text": [
      "Metric Validation/Accuracy improved by 0.004 >= min_delta = 0.0. New best score: 0.938\n"
     ]
    },
    {
     "data": {
      "application/vnd.jupyter.widget-view+json": {
       "model_id": "68d8b7b7b2954fde8c7d2a0584a51534",
       "version_major": 2,
       "version_minor": 0
      },
      "text/plain": [
       "Validation: |          | 0/? [00:00<?, ?it/s]"
      ]
     },
     "metadata": {},
     "output_type": "display_data"
    },
    {
     "name": "stdout",
     "output_type": "stream",
     "text": [
      "Epoch end: Validation, epoch number: 24\n",
      "ValidationEpoch/CM\n",
      " tensor([[45227,    26,   502,  6300,   933,    18,  1791,   141,     0],\n",
      "        [    0, 58017,    28,     0,     0,    11,     0,   147,     0],\n",
      "        [  826,    98, 56395,  1292,   829,   549,  7636,   188,     0],\n",
      "        [ 8540,    23,  1257, 42465,   876,    16,  3309,   129,     0],\n",
      "        [  629,    35,   423,  1036, 53722,    99,   781,   148,     0],\n",
      "        [    0,   108,   261,     0,     3, 56926,     0,   180,     0],\n",
      "        [ 3158,    56, 14132,  5860,  1146,   476, 31992,   161,     0],\n",
      "        [   27,    79,     0,     0,     0,    27,     0, 56616,     0],\n",
      "        [    0,    13,     2,    10,     0,    12,     8,   169, 57496]])\n",
      "Epoch end: Train, epoch number: 23\n",
      "TrainEpoch/CM\n",
      " tensor([[45227,    26,   502,  6300,   933,    18,  1791,   141,     0],\n",
      "        [    0, 58017,    28,     0,     0,    11,     0,   147,     0],\n",
      "        [  826,    98, 56395,  1292,   829,   549,  7636,   188,     0],\n",
      "        [ 8540,    23,  1257, 42465,   876,    16,  3309,   129,     0],\n",
      "        [  629,    35,   423,  1036, 53722,    99,   781,   148,     0],\n",
      "        [    0,   108,   261,     0,     3, 56926,     0,   180,     0],\n",
      "        [ 3158,    56, 14132,  5860,  1146,   476, 31992,   161,     0],\n",
      "        [   27,    79,     0,     0,     0,    27,     0, 56616,     0],\n",
      "        [    0,    13,     2,    10,     0,    12,     8,   169, 57496]])\n"
     ]
    },
    {
     "name": "stderr",
     "output_type": "stream",
     "text": [
      "Metric Validation/Accuracy improved by 0.007 >= min_delta = 0.0. New best score: 0.945\n"
     ]
    },
    {
     "data": {
      "application/vnd.jupyter.widget-view+json": {
       "model_id": "dca63cfeb0fd4a269faddc46d815b02e",
       "version_major": 2,
       "version_minor": 0
      },
      "text/plain": [
       "Validation: |          | 0/? [00:00<?, ?it/s]"
      ]
     },
     "metadata": {},
     "output_type": "display_data"
    },
    {
     "name": "stdout",
     "output_type": "stream",
     "text": [
      "Epoch end: Validation, epoch number: 25\n",
      "ValidationEpoch/CM\n",
      " tensor([[47369,    26,   503,  6423,   933,    18,  1810,   141,     0],\n",
      "        [    0, 60437,    28,     0,     0,    11,     0,   147,     0],\n",
      "        [  826,    98, 58926,  1300,   829,   549,  7917,   188,     0],\n",
      "        [ 8710,    23,  1264, 44573,   876,    16,  3379,   129,     0],\n",
      "        [  629,    35,   423,  1039, 56084,    99,   781,   148,     0],\n",
      "        [    0,   108,   261,     0,     3, 59316,     0,   180,     0],\n",
      "        [ 3233,    56, 14561,  6108,  1146,   477, 33609,   161,     0],\n",
      "        [   27,    79,     0,     0,     0,    27,     0, 58976,     0],\n",
      "        [    0,    13,     2,    10,     0,    12,     8,   169, 59896]])\n",
      "Epoch end: Train, epoch number: 24\n",
      "TrainEpoch/CM\n",
      " tensor([[47369,    26,   503,  6423,   933,    18,  1810,   141,     0],\n",
      "        [    0, 60437,    28,     0,     0,    11,     0,   147,     0],\n",
      "        [  826,    98, 58926,  1300,   829,   549,  7917,   188,     0],\n",
      "        [ 8710,    23,  1264, 44573,   876,    16,  3379,   129,     0],\n",
      "        [  629,    35,   423,  1039, 56084,    99,   781,   148,     0],\n",
      "        [    0,   108,   261,     0,     3, 59316,     0,   180,     0],\n",
      "        [ 3233,    56, 14561,  6108,  1146,   477, 33609,   161,     0],\n",
      "        [   27,    79,     0,     0,     0,    27,     0, 58976,     0],\n",
      "        [    0,    13,     2,    10,     0,    12,     8,   169, 59896]])\n"
     ]
    },
    {
     "data": {
      "application/vnd.jupyter.widget-view+json": {
       "model_id": "3b0c04c8050445b1916252c863b1c38b",
       "version_major": 2,
       "version_minor": 0
      },
      "text/plain": [
       "Validation: |          | 0/? [00:00<?, ?it/s]"
      ]
     },
     "metadata": {},
     "output_type": "display_data"
    },
    {
     "name": "stdout",
     "output_type": "stream",
     "text": [
      "Epoch end: Validation, epoch number: 26\n",
      "ValidationEpoch/CM\n",
      " tensor([[49586,    26,   504,  6469,   933,    18,  1831,   141,     0],\n",
      "        [    0, 62857,    28,     0,     0,    11,     0,   147,     0],\n",
      "        [  828,    98, 61414,  1305,   829,   549,  8242,   188,     0],\n",
      "        [ 8879,    23,  1274, 46674,   876,    16,  3454,   129,     0],\n",
      "        [  629,    35,   423,  1040, 58448,    99,   781,   148,     0],\n",
      "        [    0,   108,   261,     0,     3, 61706,     0,   180,     0],\n",
      "        [ 3314,    56, 14934,  6330,  1146,   478, 35302,   161,     0],\n",
      "        [   27,    79,     0,     0,     0,    27,     0, 61336,     0],\n",
      "        [    0,    13,     2,    10,     0,    12,     8,   169, 62296]])\n",
      "Epoch end: Train, epoch number: 25\n",
      "TrainEpoch/CM\n",
      " tensor([[49586,    26,   504,  6469,   933,    18,  1831,   141,     0],\n",
      "        [    0, 62857,    28,     0,     0,    11,     0,   147,     0],\n",
      "        [  828,    98, 61414,  1305,   829,   549,  8242,   188,     0],\n",
      "        [ 8879,    23,  1274, 46674,   876,    16,  3454,   129,     0],\n",
      "        [  629,    35,   423,  1040, 58448,    99,   781,   148,     0],\n",
      "        [    0,   108,   261,     0,     3, 61706,     0,   180,     0],\n",
      "        [ 3314,    56, 14934,  6330,  1146,   478, 35302,   161,     0],\n",
      "        [   27,    79,     0,     0,     0,    27,     0, 61336,     0],\n",
      "        [    0,    13,     2,    10,     0,    12,     8,   169, 62296]])\n"
     ]
    },
    {
     "name": "stderr",
     "output_type": "stream",
     "text": [
      "Metric Validation/Accuracy improved by 0.002 >= min_delta = 0.0. New best score: 0.947\n"
     ]
    },
    {
     "data": {
      "application/vnd.jupyter.widget-view+json": {
       "model_id": "cccf9e62d5404659be281946ed2a9675",
       "version_major": 2,
       "version_minor": 0
      },
      "text/plain": [
       "Validation: |          | 0/? [00:00<?, ?it/s]"
      ]
     },
     "metadata": {},
     "output_type": "display_data"
    },
    {
     "name": "stdout",
     "output_type": "stream",
     "text": [
      "Epoch end: Validation, epoch number: 27\n",
      "ValidationEpoch/CM\n",
      " tensor([[51789,    26,   504,  6533,   933,    18,  1849,   141,     0],\n",
      "        [    0, 65277,    28,     0,     0,    11,     0,   147,     0],\n",
      "        [  830,    98, 63901,  1306,   829,   549,  8572,   188,     0],\n",
      "        [ 9059,    23,  1282, 48775,   876,    16,  3520,   129,     0],\n",
      "        [  629,    35,   423,  1040, 60813,    99,   781,   148,     0],\n",
      "        [    0,   108,   261,     0,     3, 64096,     0,   180,     0],\n",
      "        [ 3400,    56, 15267,  6539,  1146,   478, 37044,   161,     0],\n",
      "        [   27,    79,     0,     0,     0,    27,     0, 63696,     0],\n",
      "        [    0,    13,     2,    10,     0,    12,     8,   169, 64696]])\n",
      "Epoch end: Train, epoch number: 26\n",
      "TrainEpoch/CM\n",
      " tensor([[51789,    26,   504,  6533,   933,    18,  1849,   141,     0],\n",
      "        [    0, 65277,    28,     0,     0,    11,     0,   147,     0],\n",
      "        [  830,    98, 63901,  1306,   829,   549,  8572,   188,     0],\n",
      "        [ 9059,    23,  1282, 48775,   876,    16,  3520,   129,     0],\n",
      "        [  629,    35,   423,  1040, 60813,    99,   781,   148,     0],\n",
      "        [    0,   108,   261,     0,     3, 64096,     0,   180,     0],\n",
      "        [ 3400,    56, 15267,  6539,  1146,   478, 37044,   161,     0],\n",
      "        [   27,    79,     0,     0,     0,    27,     0, 63696,     0],\n",
      "        [    0,    13,     2,    10,     0,    12,     8,   169, 64696]])\n"
     ]
    },
    {
     "name": "stderr",
     "output_type": "stream",
     "text": [
      "Metric Validation/Accuracy improved by 0.003 >= min_delta = 0.0. New best score: 0.950\n"
     ]
    },
    {
     "data": {
      "application/vnd.jupyter.widget-view+json": {
       "model_id": "1ca907fe9f4849559fc83542342b3fa2",
       "version_major": 2,
       "version_minor": 0
      },
      "text/plain": [
       "Validation: |          | 0/? [00:00<?, ?it/s]"
      ]
     },
     "metadata": {},
     "output_type": "display_data"
    },
    {
     "name": "stdout",
     "output_type": "stream",
     "text": [
      "Epoch end: Validation, epoch number: 28\n",
      "ValidationEpoch/CM\n",
      " tensor([[53972,    26,   504,  6619,   933,    18,  1865,   141,     0],\n",
      "        [    0, 67697,    28,     0,     0,    11,     0,   147,     0],\n",
      "        [  830,    98, 66407,  1309,   829,   549,  8883,   188,     0],\n",
      "        [ 9207,    23,  1290, 50911,   876,    16,  3583,   129,     0],\n",
      "        [  629,    35,   423,  1041, 63177,    99,   781,   148,     0],\n",
      "        [    0,   108,   261,     0,     3, 66486,     0,   180,     0],\n",
      "        [ 3466,    56, 15610,  6751,  1146,   478, 38793,   161,     0],\n",
      "        [   27,    79,     0,     0,     0,    27,     0, 66056,     0],\n",
      "        [    0,    13,     2,    10,     0,    12,     8,   169, 67096]])\n",
      "Epoch end: Train, epoch number: 27\n",
      "TrainEpoch/CM\n",
      " tensor([[53972,    26,   504,  6619,   933,    18,  1865,   141,     0],\n",
      "        [    0, 67697,    28,     0,     0,    11,     0,   147,     0],\n",
      "        [  830,    98, 66407,  1309,   829,   549,  8883,   188,     0],\n",
      "        [ 9207,    23,  1290, 50911,   876,    16,  3583,   129,     0],\n",
      "        [  629,    35,   423,  1041, 63177,    99,   781,   148,     0],\n",
      "        [    0,   108,   261,     0,     3, 66486,     0,   180,     0],\n",
      "        [ 3466,    56, 15610,  6751,  1146,   478, 38793,   161,     0],\n",
      "        [   27,    79,     0,     0,     0,    27,     0, 66056,     0],\n",
      "        [    0,    13,     2,    10,     0,    12,     8,   169, 67096]])\n"
     ]
    },
    {
     "name": "stderr",
     "output_type": "stream",
     "text": [
      "Metric Validation/Accuracy improved by 0.002 >= min_delta = 0.0. New best score: 0.952\n"
     ]
    },
    {
     "data": {
      "application/vnd.jupyter.widget-view+json": {
       "model_id": "0b14c4c102b64ad9b4bbb82de8c5a85d",
       "version_major": 2,
       "version_minor": 0
      },
      "text/plain": [
       "Validation: |          | 0/? [00:00<?, ?it/s]"
      ]
     },
     "metadata": {},
     "output_type": "display_data"
    },
    {
     "name": "stdout",
     "output_type": "stream",
     "text": [
      "Epoch end: Validation, epoch number: 29\n",
      "ValidationEpoch/CM\n",
      " tensor([[56192,    26,   504,  6668,   933,    18,  1881,   141,     0],\n",
      "        [    0, 70117,    28,     0,     0,    11,     0,   147,     0],\n",
      "        [  830,    98, 68965,  1310,   829,   549,  9144,   188,     0],\n",
      "        [ 9401,    23,  1300, 52997,   876,    16,  3648,   129,     0],\n",
      "        [  629,    35,   423,  1041, 65542,    99,   781,   148,     0],\n",
      "        [    0,   108,   261,     0,     3, 68876,     0,   180,     0],\n",
      "        [ 3541,    56, 16017,  6958,  1146,   481, 40471,   161,     0],\n",
      "        [   27,    79,     0,     0,     0,    27,     0, 68416,     0],\n",
      "        [    0,    13,     2,    10,     0,    12,     8,   169, 69496]])\n",
      "Epoch end: Train, epoch number: 28\n",
      "TrainEpoch/CM\n",
      " tensor([[56192,    26,   504,  6668,   933,    18,  1881,   141,     0],\n",
      "        [    0, 70117,    28,     0,     0,    11,     0,   147,     0],\n",
      "        [  830,    98, 68965,  1310,   829,   549,  9144,   188,     0],\n",
      "        [ 9401,    23,  1300, 52997,   876,    16,  3648,   129,     0],\n",
      "        [  629,    35,   423,  1041, 65542,    99,   781,   148,     0],\n",
      "        [    0,   108,   261,     0,     3, 68876,     0,   180,     0],\n",
      "        [ 3541,    56, 16017,  6958,  1146,   481, 40471,   161,     0],\n",
      "        [   27,    79,     0,     0,     0,    27,     0, 68416,     0],\n",
      "        [    0,    13,     2,    10,     0,    12,     8,   169, 69496]])\n"
     ]
    },
    {
     "data": {
      "application/vnd.jupyter.widget-view+json": {
       "model_id": "3ee2fa699a7b4e01a977fcbfe4a13e65",
       "version_major": 2,
       "version_minor": 0
      },
      "text/plain": [
       "Validation: |          | 0/? [00:00<?, ?it/s]"
      ]
     },
     "metadata": {},
     "output_type": "display_data"
    },
    {
     "name": "stdout",
     "output_type": "stream",
     "text": [
      "Epoch end: Validation, epoch number: 30\n",
      "ValidationEpoch/CM\n",
      " tensor([[58425,    26,   505,  6705,   933,    18,  1895,   141,     0],\n",
      "        [    0, 72537,    28,     0,     0,    11,     0,   147,     0],\n",
      "        [  831,    98, 71513,  1316,   829,   549,  9409,   188,     0],\n",
      "        [ 9548,    23,  1308, 55144,   876,    16,  3701,   129,     0],\n",
      "        [  629,    35,   423,  1041, 67907,    99,   781,   148,     0],\n",
      "        [    0,   108,   261,     0,     3, 71266,     0,   180,     0],\n",
      "        [ 3620,    56, 16404,  7176,  1146,   481, 42157,   161,     0],\n",
      "        [   27,    79,     0,     0,     0,    27,     0, 70776,     0],\n",
      "        [    0,    13,     2,    10,     0,    12,     8,   169, 71896]])\n",
      "Epoch end: Train, epoch number: 29\n",
      "TrainEpoch/CM\n",
      " tensor([[58425,    26,   505,  6705,   933,    18,  1895,   141,     0],\n",
      "        [    0, 72537,    28,     0,     0,    11,     0,   147,     0],\n",
      "        [  831,    98, 71513,  1316,   829,   549,  9409,   188,     0],\n",
      "        [ 9548,    23,  1308, 55144,   876,    16,  3701,   129,     0],\n",
      "        [  629,    35,   423,  1041, 67907,    99,   781,   148,     0],\n",
      "        [    0,   108,   261,     0,     3, 71266,     0,   180,     0],\n",
      "        [ 3620,    56, 16404,  7176,  1146,   481, 42157,   161,     0],\n",
      "        [   27,    79,     0,     0,     0,    27,     0, 70776,     0],\n",
      "        [    0,    13,     2,    10,     0,    12,     8,   169, 71896]])\n"
     ]
    },
    {
     "data": {
      "application/vnd.jupyter.widget-view+json": {
       "model_id": "aa7ef9ac73bc48229ff3e920e3741b9b",
       "version_major": 2,
       "version_minor": 0
      },
      "text/plain": [
       "Validation: |          | 0/? [00:00<?, ?it/s]"
      ]
     },
     "metadata": {},
     "output_type": "display_data"
    },
    {
     "name": "stdout",
     "output_type": "stream",
     "text": [
      "Epoch end: Validation, epoch number: 31\n",
      "ValidationEpoch/CM\n",
      " tensor([[60661,    26,   505,  6738,   933,    18,  1911,   141,     0],\n",
      "        [    0, 74957,    28,     0,     0,    11,     0,   147,     0],\n",
      "        [  831,    98, 74075,  1324,   829,   549,  9659,   188,     0],\n",
      "        [ 9659,    23,  1313, 57334,   876,    16,  3750,   129,     0],\n",
      "        [  629,    35,   423,  1041, 70272,    99,   781,   148,     0],\n",
      "        [    0,   108,   261,     0,     3, 73656,     0,   180,     0],\n",
      "        [ 3687,    56, 16801,  7398,  1146,   483, 43839,   161,     0],\n",
      "        [   27,    79,     0,     0,     0,    27,     0, 73136,     0],\n",
      "        [    0,    13,     2,    10,     0,    12,     8,   169, 74296]])\n",
      "Epoch end: Train, epoch number: 30\n",
      "TrainEpoch/CM\n",
      " tensor([[60661,    26,   505,  6738,   933,    18,  1911,   141,     0],\n",
      "        [    0, 74957,    28,     0,     0,    11,     0,   147,     0],\n",
      "        [  831,    98, 74075,  1324,   829,   549,  9659,   188,     0],\n",
      "        [ 9659,    23,  1313, 57334,   876,    16,  3750,   129,     0],\n",
      "        [  629,    35,   423,  1041, 70272,    99,   781,   148,     0],\n",
      "        [    0,   108,   261,     0,     3, 73656,     0,   180,     0],\n",
      "        [ 3687,    56, 16801,  7398,  1146,   483, 43839,   161,     0],\n",
      "        [   27,    79,     0,     0,     0,    27,     0, 73136,     0],\n",
      "        [    0,    13,     2,    10,     0,    12,     8,   169, 74296]])\n"
     ]
    },
    {
     "data": {
      "application/vnd.jupyter.widget-view+json": {
       "model_id": "cc9a459d8f4848b3a65f1714e4b45066",
       "version_major": 2,
       "version_minor": 0
      },
      "text/plain": [
       "Validation: |          | 0/? [00:00<?, ?it/s]"
      ]
     },
     "metadata": {},
     "output_type": "display_data"
    },
    {
     "name": "stdout",
     "output_type": "stream",
     "text": [
      "Epoch end: Validation, epoch number: 32\n",
      "ValidationEpoch/CM\n",
      " tensor([[62903,    26,   505,  6766,   933,    18,  1926,   141,     0],\n",
      "        [    0, 77377,    28,     0,     0,    11,     0,   147,     0],\n",
      "        [  831,    98, 76636,  1325,   829,   549,  9917,   188,     0],\n",
      "        [ 9796,    23,  1322, 59481,   876,    16,  3812,   129,     0],\n",
      "        [  629,    35,   423,  1041, 72637,    99,   781,   148,     0],\n",
      "        [    0,   108,   261,     0,     3, 76046,     0,   180,     0],\n",
      "        [ 3759,    56, 17166,  7604,  1146,   484, 45565,   161,     0],\n",
      "        [   27,    79,     0,     0,     0,    27,     0, 75496,     0],\n",
      "        [    0,    13,     2,    10,     0,    12,     8,   169, 76696]])\n",
      "Epoch end: Train, epoch number: 31\n",
      "TrainEpoch/CM\n",
      " tensor([[62903,    26,   505,  6766,   933,    18,  1926,   141,     0],\n",
      "        [    0, 77377,    28,     0,     0,    11,     0,   147,     0],\n",
      "        [  831,    98, 76636,  1325,   829,   549,  9917,   188,     0],\n",
      "        [ 9796,    23,  1322, 59481,   876,    16,  3812,   129,     0],\n",
      "        [  629,    35,   423,  1041, 72637,    99,   781,   148,     0],\n",
      "        [    0,   108,   261,     0,     3, 76046,     0,   180,     0],\n",
      "        [ 3759,    56, 17166,  7604,  1146,   484, 45565,   161,     0],\n",
      "        [   27,    79,     0,     0,     0,    27,     0, 75496,     0],\n",
      "        [    0,    13,     2,    10,     0,    12,     8,   169, 76696]])\n"
     ]
    },
    {
     "data": {
      "application/vnd.jupyter.widget-view+json": {
       "model_id": "e238f2f9bcb543cc9a063c4994027869",
       "version_major": 2,
       "version_minor": 0
      },
      "text/plain": [
       "Validation: |          | 0/? [00:00<?, ?it/s]"
      ]
     },
     "metadata": {},
     "output_type": "display_data"
    },
    {
     "name": "stdout",
     "output_type": "stream",
     "text": [
      "Epoch end: Validation, epoch number: 33\n",
      "ValidationEpoch/CM\n",
      " tensor([[65134,    26,   505,  6805,   933,    18,  1941,   141,     0],\n",
      "        [    0, 79797,    28,     0,     0,    11,     0,   147,     0],\n",
      "        [  831,    98, 79193,  1327,   829,   549, 10178,   188,     0],\n",
      "        [ 9943,    23,  1328, 61629,   876,    16,  3866,   129,     0],\n",
      "        [  629,    35,   423,  1041, 75002,    99,   781,   148,     0],\n",
      "        [    0,   108,   261,     0,     3, 78436,     0,   180,     0],\n",
      "        [ 3822,    56, 17496,  7816,  1146,   486, 47328,   161,     0],\n",
      "        [   27,    79,     0,     0,     0,    27,     0, 77856,     0],\n",
      "        [    0,    13,     2,    10,     0,    12,     8,   169, 79096]])\n",
      "Epoch end: Train, epoch number: 32\n",
      "TrainEpoch/CM\n",
      " tensor([[65134,    26,   505,  6805,   933,    18,  1941,   141,     0],\n",
      "        [    0, 79797,    28,     0,     0,    11,     0,   147,     0],\n",
      "        [  831,    98, 79193,  1327,   829,   549, 10178,   188,     0],\n",
      "        [ 9943,    23,  1328, 61629,   876,    16,  3866,   129,     0],\n",
      "        [  629,    35,   423,  1041, 75002,    99,   781,   148,     0],\n",
      "        [    0,   108,   261,     0,     3, 78436,     0,   180,     0],\n",
      "        [ 3822,    56, 17496,  7816,  1146,   486, 47328,   161,     0],\n",
      "        [   27,    79,     0,     0,     0,    27,     0, 77856,     0],\n",
      "        [    0,    13,     2,    10,     0,    12,     8,   169, 79096]])\n"
     ]
    },
    {
     "name": "stderr",
     "output_type": "stream",
     "text": [
      "Monitored metric Validation/Accuracy did not improve in the last 5 records. Best score: 0.952. Signaling Trainer to stop.\n"
     ]
    }
   ],
   "source": [
    "trainer.fit(model=model, train_dataloaders=train_dataloader, val_dataloaders=val_dataloader)"
   ]
  },
  {
   "cell_type": "code",
   "execution_count": 16,
   "metadata": {},
   "outputs": [
    {
     "data": {
      "text/plain": [
       "MalwaresModelLinearLayer(\n",
       "  (train_metrics): MetricCollection(\n",
       "    (MulticlassAccuracy): MulticlassAccuracy()\n",
       "    (MulticlassPrecision): MulticlassPrecision()\n",
       "    (MulticlassRecall): MulticlassRecall()\n",
       "    (MulticlassF1Score): MulticlassF1Score(),\n",
       "    prefix=Train/\n",
       "  )\n",
       "  (val_metrics): MetricCollection(\n",
       "    (MulticlassAccuracy): MulticlassAccuracy()\n",
       "    (MulticlassPrecision): MulticlassPrecision()\n",
       "    (MulticlassRecall): MulticlassRecall()\n",
       "    (MulticlassF1Score): MulticlassF1Score(),\n",
       "    prefix=Validation/\n",
       "  )\n",
       "  (test_metrics): MetricCollection(\n",
       "    (MulticlassAccuracy): MulticlassAccuracy()\n",
       "    (MulticlassPrecision): MulticlassPrecision()\n",
       "    (MulticlassRecall): MulticlassRecall()\n",
       "    (MulticlassF1Score): MulticlassF1Score(),\n",
       "    prefix=Test/\n",
       "  )\n",
       "  (cm): MulticlassConfusionMatrix()\n",
       "  (criterion): CrossEntropyLoss()\n",
       "  (l1): Linear(in_features=305, out_features=9, bias=True)\n",
       ")"
      ]
     },
     "execution_count": 16,
     "metadata": {},
     "output_type": "execute_result"
    }
   ],
   "source": [
    "model.eval()"
   ]
  },
  {
   "cell_type": "code",
   "execution_count": 17,
   "metadata": {},
   "outputs": [
    {
     "name": "stderr",
     "output_type": "stream",
     "text": [
      "LOCAL_RANK: 0 - CUDA_VISIBLE_DEVICES: [0]\n"
     ]
    },
    {
     "name": "stdout",
     "output_type": "stream",
     "text": [
      "/home/<User>/repos/csg_is/training/old_logs/single-layer_300_30s/version_0/checkpoints/epoch=27-step=980.ckpt\n",
      "tensor(0.9524, device='cuda:0')\n"
     ]
    },
    {
     "data": {
      "application/vnd.jupyter.widget-view+json": {
       "model_id": "b640a550e49543ee8aa307cc6739c5a4",
       "version_major": 2,
       "version_minor": 0
      },
      "text/plain": [
       "Testing: |          | 0/? [00:00<?, ?it/s]"
      ]
     },
     "metadata": {},
     "output_type": "display_data"
    },
    {
     "name": "stdout",
     "output_type": "stream",
     "text": [
      "Epoch end: Test, epoch number: 0\n",
      "TestEpoch/CM\n",
      " tensor([[455,   0,   0,  14,   0,   0,   3,   0,   0],\n",
      "        [  0, 479,   0,   0,   0,   0,   0,   0,   0],\n",
      "        [  0,   0, 489,   0,   0,   0,  72,   0,   0],\n",
      "        [ 15,   0,   1, 447,   0,   0,  13,   0,   0],\n",
      "        [  0,   0,   0,   0, 459,   0,   0,   0,   0],\n",
      "        [  0,   0,   0,   0,   0, 501,   0,   0,   0],\n",
      "        [  8,   0,  50,  37,   0,   0, 371,   0,   0],\n",
      "        [  0,   0,   0,   0,   0,   0,   0, 474,   0],\n",
      "        [  0,   0,   0,   0,   0,   0,   0,   0, 465]])\n",
      "────────────────────────────────────────────────────────────────────────────────────────────────────────────────────────\n",
      "       Test metric             DataLoader 0\n",
      "────────────────────────────────────────────────────────────────────────────────────────────────────────────────────────\n",
      "      Test/Accuracy         0.9523912668228149\n",
      "      Test/F1Score          0.9515997171401978\n",
      "        Test/Loss           0.23852555453777313\n",
      "     Test/Precision         0.9518693685531616\n",
      "       Test/Recall          0.9523912668228149\n",
      "   TestEpoch/Accuracy       0.9523170590400696\n",
      "    TestEpoch/F1Score        0.951800525188446\n",
      "   TestEpoch/Precision      0.9514786005020142\n",
      "    TestEpoch/Recall        0.9523170590400696\n",
      "────────────────────────────────────────────────────────────────────────────────────────────────────────────────────────\n"
     ]
    },
    {
     "data": {
      "text/plain": [
       "[{'Test/Loss': 0.23852555453777313,\n",
       "  'Test/Accuracy': 0.9523912668228149,\n",
       "  'Test/Precision': 0.9518693685531616,\n",
       "  'Test/Recall': 0.9523912668228149,\n",
       "  'Test/F1Score': 0.9515997171401978,\n",
       "  'TestEpoch/Accuracy': 0.9523170590400696,\n",
       "  'TestEpoch/Precision': 0.9514786005020142,\n",
       "  'TestEpoch/Recall': 0.9523170590400696,\n",
       "  'TestEpoch/F1Score': 0.951800525188446}]"
      ]
     },
     "execution_count": 17,
     "metadata": {},
     "output_type": "execute_result"
    }
   ],
   "source": [
    "print(checkpoint_callback.best_model_path)   # prints path to the best model's checkpoint\n",
    "print(checkpoint_callback.best_model_score) # and prints it score\n",
    "best_model = MalwaresModelLinearLayer.load_from_checkpoint(checkpoint_callback.best_model_path, input_size = vectors.shape[1]-1, output_size = len(label_encoder.classes_))\n",
    "\n",
    "trainer.test(best_model, dataloaders=val_dataloader)"
   ]
  },
  {
   "cell_type": "code",
   "execution_count": 18,
   "metadata": {},
   "outputs": [
    {
     "name": "stdout",
     "output_type": "stream",
     "text": [
      "Feature importance based on weights:\n",
      "Rank 1: Feature 12writeback:writeback_dirty_inode_start with weight 0.0456441193819046\n",
      "Rank 2: Feature 131timer:timer_cancel with weight -0.009365249425172806\n",
      "Rank 3: Feature 228getsockopt with weight -0.2979276478290558\n",
      "Rank 4: Feature 3writeback:writeback_dirty_inode_FLS_data with weight 0.01916448026895523\n",
      "Rank 5: Feature 194tcp:tcp_probe_RES_data with weight 0.4069821834564209\n",
      "Rank 6: Feature 82sched:sched_process_wait with weight -0.52554851770401\n",
      "Rank 7: Feature 285ioctl with weight 0.5016101002693176\n",
      "Rank 8: Feature 303readlink with weight -1.5149829387664795\n",
      "Rank 9: Feature 188writeback:global_dirty_state_RES_data with weight -0.08187131583690643\n",
      "Rank 10: Feature 205exit_group with weight -0.3949398696422577\n",
      "Rank 11: Feature 111cache-misses with weight -1.1937795877456665\n",
      "Rank 12: Feature 152cpu-cycles with weight 0.44854554533958435\n",
      "Rank 13: Feature 65timer:timer_start_KERN_data with weight -0.2362551987171173\n",
      "Rank 14: Feature 125branch-instructions with weight 0.8331584334373474\n",
      "Rank 15: Feature 88writeback:global_dirty_state_KERN_data with weight 0.1212485209107399\n",
      "Rank 16: Feature 236llseek with weight -1.116066575050354\n",
      "Rank 17: Feature 224close with weight -0.6763312816619873\n",
      "Rank 18: Feature 240capset with weight -4.1309309005737305\n",
      "Rank 19: Feature 72writeback:writeback_mark_inode_dirty_KERN_data with weight -0.06461925804615021\n",
      "Rank 20: Feature 137timer:timer_start_RES_data with weight 0.038959115743637085\n",
      "Rank 21: Feature 11writeback:writeback_mark_inode_dirty_FLS_data with weight -0.006672499235719442\n",
      "Rank 22: Feature 295getegid32 with weight -0.710178792476654\n",
      "Rank 23: Feature 248epoll_wait with weight -0.08103284239768982\n",
      "Rank 24: Feature 112armv7_cortex_a15/bus_cycles/.1 with weight 0.45989537239074707\n",
      "Rank 25: Feature 253getrandom with weight -1.6976454257965088\n",
      "Rank 26: Feature 190armv7_cortex_a15/br_pred/ with weight 0.9791158437728882\n",
      "Rank 27: Feature 24writeback:global_dirty_state_FLS_data with weight 0.4255742132663727\n",
      "Rank 28: Feature 222madvise with weight -0.2487180531024933\n",
      "Rank 29: Feature 104signal:signal_deliver with weight -0.49234095215797424\n",
      "Rank 30: Feature 77qdisc:qdisc_dequeue.1 with weight -0.1252484768629074\n",
      "Rank 31: Feature 126bus-cycles with weight 0.5260123014450073\n",
      "Rank 32: Feature 203(OLD) AverageLength with weight 0.7463880777359009\n",
      "Rank 33: Feature 139net_in with weight 0.1745593100786209\n",
      "Rank 34: Feature 182task:task_newtask_RES_data with weight -0.7685585021972656\n",
      "Rank 35: Feature 86qdisc:qdisc_dequeue with weight -0.1262107640504837\n",
      "Rank 36: Feature 265setgroups32 with weight 0.046454526484012604\n",
      "Rank 37: Feature 184armv7_cortex_a15/bus_cycles/ with weight 0.4444800019264221\n",
      "Rank 38: Feature 301dup3 with weight -0.3299705386161804\n",
      "Rank 39: Feature 259socket with weight -0.05831199511885643\n",
      "Rank 40: Feature 57writeback:writeback_dirty_inode_KERN_data with weight -0.0764818862080574\n",
      "Rank 41: Feature 186L1-dcache-load-misses with weight -1.3564244508743286\n",
      "Rank 42: Feature 14ext4:ext4_da_write_begin with weight -0.1138966903090477\n",
      "Rank 43: Feature 46ext4:ext4_writepages_result_FLS_data with weight 0.19121988117694855\n",
      "Rank 44: Feature 83signal:signal_generate with weight -0.5160917043685913\n",
      "Rank 45: Feature 6ext4:ext4_es_insert_delayed_block with weight -0.13951145112514496\n",
      "Rank 46: Feature 235pipe with weight 0.3096596300601959\n",
      "Rank 47: Feature 53ext4:ext4_journal_start_FLS_data with weight -0.17695918679237366\n",
      "Rank 48: Feature 280uname with weight -0.7451686859130859\n",
      "Rank 49: Feature 9filemap:mm_filemap_add_to_page_cache_FLS_data with weight -0.04455878213047981\n",
      "Rank 50: Feature 61writeback:sb_clear_inode_writeback_KERN_data with weight -0.17922592163085938\n",
      "Rank 51: Feature 158armv7_cortex_a15/l1d_cache_refill/ with weight -1.0971131324768066\n",
      "Rank 52: Feature 181sched:sched_process_exec_RES_data with weight -1.509729266166687\n",
      "Rank 53: Feature 215setresgid32 with weight -0.5408569574356079\n",
      "Rank 54: Feature 147armv7_cortex_a15/cpu_cycles/ with weight 0.582950234413147\n",
      "Rank 55: Feature 124block:block_dirty_buffer_RES_data with weight -0.3045958876609802\n",
      "Rank 56: Feature 166fib:fib_table_lookup_RES_data with weight -0.603130578994751\n",
      "Rank 57: Feature 17ext4:ext4_da_reserve_space with weight -0.09548873454332352\n",
      "Rank 58: Feature 48ext4:ext4_truncate_exit with weight -0.35439345240592957\n",
      "Rank 59: Feature 304send with weight -0.14992353320121765\n",
      "Rank 60: Feature 107block:block_touch_buffer_KERN_data with weight 0.2540861964225769\n",
      "Rank 61: Feature 150ext4:ext4_da_update_reserve_space_RES_data with weight 0.9291446208953857\n",
      "Rank 62: Feature 7writeback:sb_clear_inode_writeback_FLS_data with weight -0.4193366765975952\n",
      "Rank 63: Feature 52ext4:ext4_begin_ordered_truncate with weight -0.14385105669498444\n",
      "Rank 64: Feature 204label with weight -0.7524951696395874\n",
      "Rank 65: Feature 189timer:timer_init with weight -0.2757478952407837\n",
      "Rank 66: Feature 63irq:softirq_entry with weight -0.03619300574064255\n",
      "Rank 67: Feature 135writeback:sb_clear_inode_writeback_RES_data with weight -0.06293094903230667\n",
      "Rank 68: Feature 0ext4:ext4_truncate_enter with weight -0.41583505272865295\n",
      "Rank 69: Feature 163iowritebytes with weight -0.8082226514816284\n",
      "Rank 70: Feature 286getdents64 with weight -0.30544888973236084\n",
      "Rank 71: Feature 279ftruncate64 with weight -1.2424017190933228\n",
      "Rank 72: Feature 273rt_sigprocmask with weight -0.425174742937088\n",
      "Rank 73: Feature 43ext4:ext4_da_update_reserve_space_FLS_data with weight -0.07777244597673416\n",
      "Rank 74: Feature 230accept4 with weight -0.23662251234054565\n",
      "Rank 75: Feature 208getsockname with weight -0.6218720078468323\n",
      "Rank 76: Feature 229set_tid_address with weight -1.925855278968811\n",
      "Rank 77: Feature 302mprotect with weight -0.1863299459218979\n",
      "Rank 78: Feature 100sched:sched_process_free with weight -0.6917101740837097\n",
      "Rank 79: Feature 179L1-icache-load-misses with weight -0.1829807013273239\n",
      "Rank 80: Feature 106skb:skb_copy_datagram_iovec with weight 0.1563248187303543\n",
      "Rank 81: Feature 269open with weight 0.8521148562431335\n",
      "Rank 82: Feature 211getxattr with weight -0.1593756526708603\n",
      "Rank 83: Feature 138napi:napi_poll with weight 0.2720676362514496\n",
      "Rank 84: Feature 141ext4:ext4_es_lookup_extent_enter_RES_data with weight -0.19285793602466583\n",
      "Rank 85: Feature 142branch-loads with weight 0.8453420996665955\n",
      "Rank 86: Feature 74preemptirq:irq_enable with weight 0.10671927034854889\n",
      "Rank 87: Feature 199write_ops with weight -0.673641562461853\n",
      "Rank 88: Feature 70task:task_newtask_KERN_data with weight -0.5422552227973938\n",
      "Rank 89: Feature 157block:block_touch_buffer_RES_data with weight -0.12675361335277557\n",
      "Rank 90: Feature 98tcp:tcp_probe_KERN_data with weight 0.4983850419521332\n",
      "Rank 91: Feature 15jbd2:jbd2_checkpoint_stats_FLS_data with weight 0.054741159081459045\n",
      "Rank 92: Feature 218writev with weight -0.12923850119113922\n",
      "Rank 93: Feature 76random:get_random_bytes with weight -1.3159077167510986\n",
      "Rank 94: Feature 239dup with weight 1.2988574504852295\n",
      "Rank 95: Feature 292timerfd_settime with weight -4.2428059577941895\n",
      "Rank 96: Feature 32block:block_dirty_buffer_FLS_data with weight -0.2063908725976944\n",
      "Rank 97: Feature 36jbd2:jbd2_handle_stats_FLS_data with weight -0.2047235071659088\n",
      "Rank 98: Feature 220unlink with weight -0.1911543607711792\n",
      "Rank 99: Feature 26ext4:ext4_invalidatepage with weight -0.11906019598245621\n",
      "Rank 100: Feature 93block:block_unplug_KERN_data with weight -0.9946905970573425\n",
      "Rank 101: Feature 238kcmp with weight -0.1909000128507614\n",
      "Rank 102: Feature 288setuid32 with weight -0.19631023705005646\n",
      "Rank 103: Feature 51jbd2:jbd2_commit_locking with weight -0.12601876258850098\n",
      "Rank 104: Feature 132ext4:ext4_journal_start_RES_data with weight -0.07598947733640671\n",
      "Rank 105: Feature 287getgid32 with weight 0.7834399342536926\n",
      "Rank 106: Feature 160armv7_cortex_a15/l1i_cache_refill/ with weight -0.024133581668138504\n",
      "Rank 107: Feature 28writeback:writeback_dirty_page_FLS_data with weight -0.1933905929327011\n",
      "Rank 108: Feature 145jbd2:jbd2_handle_stats_RES_data with weight -0.135429248213768\n",
      "Rank 109: Feature 39jbd2:jbd2_commit_logging with weight -0.1699865460395813\n",
      "Rank 110: Feature 183filemap:mm_filemap_add_to_page_cache_RES_data with weight -0.07919804751873016\n",
      "Rank 111: Feature 1ext4:ext4_da_write_end with weight -0.0901859924197197\n",
      "Rank 112: Feature 130ext4:ext4_writepages_result_RES_data with weight 0.7054960131645203\n",
      "Rank 113: Feature 234newselect with weight -0.003135252743959427\n",
      "Rank 114: Feature 68sched:sched_process_exec_KERN_data with weight -1.3488138914108276\n",
      "Rank 115: Feature 10jbd2:jbd2_handle_start_FLS_data with weight -0.13911493122577667\n",
      "Rank 116: Feature 71jbd2:jbd2_handle_start_KERN_data with weight -0.1676861047744751\n",
      "Rank 117: Feature 187irq:softirq_exit with weight 0.05392194166779518\n",
      "Rank 118: Feature 91writeback:writeback_dirty_page_KERN_data with weight -0.3144799470901489\n",
      "Rank 119: Feature 40ext4:ext4_mark_inode_dirty with weight -0.3019165098667145\n",
      "Rank 120: Feature 37jbd2:jbd2_end_commit with weight -0.17976994812488556\n",
      "Rank 121: Feature 264fstatat64 with weight 7.858067035675049\n",
      "Rank 122: Feature 41jbd2:jbd2_drop_transaction with weight -0.05119350552558899\n",
      "Rank 123: Feature 246mkdir with weight -0.38177570700645447\n",
      "Rank 124: Feature 33block:block_rq_insert with weight -1.9542220830917358\n",
      "Rank 125: Feature 49block:block_touch_buffer_FLS_data with weight 0.17361997067928314\n",
      "Rank 126: Feature 143LLC-stores with weight -1.3437952995300293\n",
      "Rank 127: Feature 34ext4:ext4_ext_remove_space_done with weight -0.46708905696868896\n",
      "Rank 128: Feature 165rpm:rpm_return_int with weight -0.9249275922775269\n",
      "Rank 129: Feature 159iowritetime with weight -3.5196447372436523\n",
      "Rank 130: Feature 297prlimit64 with weight -3.6137661933898926\n",
      "Rank 131: Feature 79block:block_getrq_KERN_data with weight -2.68393874168396\n",
      "Rank 132: Feature 69filemap:mm_filemap_add_to_page_cache_KERN_data with weight -0.144871324300766\n",
      "Rank 133: Feature 16jbd2:jbd2_commit_flushing with weight -0.09616465121507645\n",
      "Rank 134: Feature 22ext4:ext4_ext_remove_space with weight -0.4516444802284241\n",
      "Rank 135: Feature 30ext4:ext4_ext_rm_leaf with weight -0.40495216846466064\n",
      "Rank 136: Feature 23ext4:ext4_es_lookup_extent_enter_FLS_data with weight -1.2112104892730713\n",
      "Rank 137: Feature 29block:block_unplug_FLS_data with weight -0.6977910399436951\n",
      "Rank 138: Feature 44ext4:ext4_es_lookup_extent_exit with weight -1.2605541944503784\n",
      "Rank 139: Feature 94block:block_dirty_buffer_KERN_data with weight -0.30171191692352295\n",
      "Rank 140: Feature 219timerfd_create with weight 0.4333309829235077\n",
      "Rank 141: Feature 67gpio:gpio_value_KERN_data with weight -2.69760799407959\n",
      "Rank 142: Feature 4block:block_bio_backmerge_FLS_data with weight -1.9858030080795288\n",
      "Rank 143: Feature 207sched_yield with weight 1.8017016649246216\n",
      "Rank 144: Feature 5jbd2:jbd2_handle_extend with weight -0.4362823963165283\n",
      "Rank 145: Feature 105net:net_dev_queue with weight -0.1635633260011673\n",
      "Rank 146: Feature 75fib:fib_table_lookup_KERN_data with weight -0.9835900664329529\n",
      "Rank 147: Feature 242openat with weight 0.7056794762611389\n",
      "Rank 148: Feature 266faccessat with weight -0.1640649437904358\n",
      "Rank 149: Feature 191iobusytime with weight -1.6210075616836548\n",
      "Rank 150: Feature 196instructions with weight 0.6545730829238892\n",
      "Rank 151: Feature 8block:block_bio_remap_FLS_data with weight -2.004951238632202\n",
      "Rank 152: Feature 167iowrite with weight -3.207345962524414\n",
      "Rank 153: Feature 241setitimer with weight -0.39033451676368713\n",
      "Rank 154: Feature 18block:block_rq_complete with weight -1.932045340538025\n",
      "Rank 155: Feature 25jbd2:jbd2_run_stats with weight -0.09915898740291595\n",
      "Rank 156: Feature 156LLC-loads with weight -0.6407915353775024\n",
      "Rank 157: Feature 97net:net_dev_xmit with weight -0.045483626425266266\n",
      "Rank 158: Feature 27block:block_rq_issue with weight -1.993256688117981\n",
      "Rank 159: Feature 195armv7_cortex_a15/l2d_cache/ with weight -0.6679707765579224\n",
      "Rank 160: Feature 42block:block_bio_queue with weight -2.029590129852295\n",
      "Rank 161: Feature 161block:block_bio_remap_RES_data with weight -3.171175003051758\n",
      "Rank 162: Feature 20jbd2:jbd2_start_commit_FLS_data with weight -0.09806481003761292\n",
      "Rank 163: Feature 209sigreturn with weight 0.0654175728559494\n",
      "Rank 164: Feature 223access with weight -0.5767280459403992\n",
      "Rank 165: Feature 272mremap with weight 0.10470797121524811\n",
      "Rank 166: Feature 298statfs64 with weight 0.321411669254303\n",
      "Rank 167: Feature 21block:block_getrq_FLS_data with weight -2.021266460418701\n",
      "Rank 168: Feature 225set_robust_list with weight 0.21476294100284576\n",
      "Rank 169: Feature 108skb:consume_skb.1 with weight -0.0516454242169857\n",
      "Rank 170: Feature 162gpio:gpio_value_RES_data with weight -2.5817580223083496\n",
      "Rank 171: Feature 109kmem:kmem_cache_free with weight -0.6739780902862549\n",
      "Rank 172: Feature 192minor-faults with weight -0.4113712012767792\n",
      "Rank 173: Feature 19ext4:ext4_unlink_enter_FLS_data with weight -1.5953283309936523\n",
      "Rank 174: Feature 66block:block_bio_remap_KERN_data with weight -3.07059907913208\n",
      "Rank 175: Feature 118ext4:ext4_unlink_enter_RES_data with weight -2.5747642517089844\n",
      "Rank 176: Feature 151ext4:ext4_releasepage_RES_data with weight -0.12347936630249023\n",
      "Rank 177: Feature 64workqueue:workqueue_activate_work with weight -0.6351380348205566\n",
      "Rank 178: Feature 117jbd2:jbd2_checkpoint_stats_RES_data with weight -1.896117091178894\n",
      "Rank 179: Feature 290sendmsg with weight -0.8185959458351135\n",
      "Rank 180: Feature 119LLC-load-misses with weight -0.019814714789390564\n",
      "Rank 181: Feature 58block:block_bio_backmerge_KERN_data with weight -3.3827648162841797\n",
      "Rank 182: Feature 202(OLD) VarianceLength with weight -0.5515673756599426\n",
      "Rank 183: Feature 250setresuid32 with weight 0.1463954746723175\n",
      "Rank 184: Feature 294waitid with weight -0.40458807349205017\n",
      "Rank 185: Feature 171armv7_cortex_a15/exc_taken/ with weight 0.42440956830978394\n",
      "Rank 186: Feature 78jbd2:jbd2_start_commit_KERN_data with weight -2.740758180618286\n",
      "Rank 187: Feature 201write_kbs with weight -3.906524896621704\n",
      "Rank 188: Feature 81kmem:kmem_cache_alloc_KERN_data with weight -0.5887556076049805\n",
      "Rank 189: Feature 31filemap:mm_filemap_delete_from_page_cache_FLS_data with weight 0.22692792117595673\n",
      "Rank 190: Feature 177page-faults_RES_data with weight -0.40053024888038635\n",
      "Rank 191: Feature 168kmem:kmem_cache_alloc_RES_data with weight -0.9419556260108948\n",
      "Rank 192: Feature 55page-faults_KERN_data with weight 0.3404780626296997\n",
      "Rank 193: Feature 212epoll_create1 with weight -0.4055041968822479\n",
      "Rank 194: Feature 54skb:consume_skb with weight -0.036616381257772446\n",
      "Rank 195: Feature 226epoll_ctl with weight 0.4189276099205017\n",
      "Rank 196: Feature 169pkt_in with weight 0.34608498215675354\n",
      "Rank 197: Feature 267stat64 with weight -0.7837382555007935\n",
      "Rank 198: Feature 170workqueue:workqueue_execute_start with weight -0.16228970885276794\n",
      "Rank 199: Feature 216wait4 with weight -1.7992444038391113\n",
      "Rank 200: Feature 35ext4:ext4_unlink_exit with weight -1.5936444997787476\n",
      "Rank 201: Feature 233gettimeofday with weight 0.5627060532569885\n",
      "Rank 202: Feature 260inotify_add_watch with weight 0.01053323782980442\n",
      "Rank 203: Feature 275umask with weight -2.732717514038086\n",
      "Rank 204: Feature 213ugetrlimit with weight -0.07739362865686417\n",
      "Rank 205: Feature 293recv with weight -0.08799039572477341\n",
      "Rank 206: Feature 153L1-icache-loads with weight 0.5504956245422363\n",
      "Rank 207: Feature 178write_merge with weight -4.399878978729248\n",
      "Rank 208: Feature 193ext4:ext4_free_inode_RES_data with weight -3.2262933254241943\n",
      "Rank 209: Feature 200util with weight 1.702267050743103\n",
      "Rank 210: Feature 38ext4:ext4_free_inode_FLS_data with weight -2.1851868629455566\n",
      "Rank 211: Feature 274geteuid32 with weight -0.7229523062705994\n",
      "Rank 212: Feature 282readlinkat with weight -0.24632981419563293\n",
      "Rank 213: Feature 47ext4:ext4_releasepage_FLS_data with weight -0.11717788875102997\n",
      "Rank 214: Feature 217rename with weight -1.1800788640975952\n",
      "Rank 215: Feature 261sendto with weight -1.102637529373169\n",
      "Rank 216: Feature 101random:urandom_read with weight 0.4189597964286804\n",
      "Rank 217: Feature 244connect with weight -0.31425660848617554\n",
      "Rank 218: Feature 252getpeername with weight 0.5178787708282471\n",
      "Rank 219: Feature 149armv7_cortex_a15/l2d_cache_wb/ with weight 0.8780887126922607\n",
      "Rank 220: Feature 270clock_gettime with weight -0.18538933992385864\n",
      "Rank 221: Feature 62kmem:kfree_KERN_data with weight -0.7056101560592651\n",
      "Rank 222: Feature 206rt_sigaction with weight -0.625236451625824\n",
      "Rank 223: Feature 249getuid32 with weight -0.6777712106704712\n",
      "Rank 224: Feature 116cpu with weight 0.2591441869735718\n",
      "Rank 225: Feature 173cpu-migrations_RES_data with weight -0.07121209055185318\n",
      "Rank 226: Feature 136kmem:kfree_RES_data with weight -0.8069393634796143\n",
      "Rank 227: Feature 247dup2 with weight -0.0073355636559426785\n",
      "Rank 228: Feature 283prctl with weight 0.5183908343315125\n",
      "Rank 229: Feature 256poll with weight -0.7879989147186279\n",
      "Rank 230: Feature 243capget with weight -2.097439765930176\n",
      "Rank 231: Feature 231getcwd with weight -1.314823031425476\n",
      "Rank 232: Feature 96cpu-migrations_KERN_data with weight 0.42022839188575745\n",
      "Rank 233: Feature 180kmem:mm_page_free_RES_data with weight -0.15538133680820465\n",
      "Rank 234: Feature 276pipe2 with weight -1.8904750347137451\n",
      "Rank 235: Feature 258shutdown with weight -2.002831220626831\n",
      "Rank 236: Feature 50ext4:ext4_discard_preallocations with weight -0.44294363260269165\n",
      "Rank 237: Feature 232chdir with weight 0.1765703707933426\n",
      "Rank 238: Feature 45seconds_FLS_data with weight -0.9322778582572937\n",
      "Rank 239: Feature 103pagemap:mm_lru_insertion with weight 0.5263532996177673\n",
      "Rank 240: Feature 262setsid with weight 0.3583744168281555\n",
      "Rank 241: Feature 257getpgrp with weight -3.7663686275482178\n",
      "Rank 242: Feature 214recvfrom with weight -0.6461782455444336\n",
      "Rank 243: Feature 80sched:sched_wakeup with weight -0.570491373538971\n",
      "Rank 244: Feature 60kmem:mm_page_free_KERN_data with weight 0.6344035863876343\n",
      "Rank 245: Feature 245setxattr with weight 7.373711109161377\n",
      "Rank 246: Feature 278lgetxattr with weight 0.5034258365631104\n",
      "Rank 247: Feature 263setsockopt with weight -0.32295355200767517\n",
      "Rank 248: Feature 85kmem:mm_page_pcpu_drain with weight 0.6020216345787048\n",
      "Rank 249: Feature 300fchmod with weight 0.6179506778717041\n",
      "Rank 250: Feature 123filemap:mm_filemap_delete_from_page_cache_RES_data with weight 0.21847909688949585\n",
      "Rank 251: Feature 284write with weight 0.14338508248329163\n",
      "Rank 252: Feature 197armv7_cortex_a15/l1i_cache/ with weight 0.8031376600265503\n",
      "Rank 253: Feature 89kmem:kmalloc with weight -0.6167768239974976\n",
      "Rank 254: Feature 154branch-load-misses with weight 0.3672909736633301\n",
      "Rank 255: Feature 2writeback:writeback_dirty_inode_enqueue_FLS_data with weight -0.7587843537330627\n",
      "Rank 256: Feature 84kmem:mm_page_alloc with weight 0.28773579001426697\n",
      "Rank 257: Feature 121branch-misses with weight 0.5676479935646057\n",
      "Rank 258: Feature 281brk with weight -0.06269346177577972\n",
      "Rank 259: Feature 148L1-dcache-loads with weight 0.6317335367202759\n",
      "Rank 260: Feature 254lstat64 with weight -0.27299514412879944\n",
      "Rank 261: Feature 237munmap with weight -0.3756980299949646\n",
      "Rank 262: Feature 251read with weight 0.35531383752822876\n",
      "Rank 263: Feature 271rmdir with weight -1.047802448272705\n",
      "Rank 264: Feature 56writeback:writeback_dirty_inode_enqueue_KERN_data with weight -1.1781871318817139\n",
      "Rank 265: Feature 175armv7_cortex_a15/l1d_tlb_refill/ with weight 1.2000136375427246\n",
      "Rank 266: Feature 120LLC-store-misses with weight 0.9193756580352783\n",
      "Rank 267: Feature 73timer:hrtimer_start with weight -0.6598604321479797\n",
      "Rank 268: Feature 128sched:sched_stat_runtime with weight -0.7406182289123535\n",
      "Rank 269: Feature 210fstat64 with weight -2.486504554748535\n",
      "Rank 270: Feature 59cs with weight -0.38099008798599243\n",
      "Rank 271: Feature 268clone with weight -0.6609967350959778\n",
      "Rank 272: Feature 176pkt_out with weight 0.05559951066970825\n",
      "Rank 273: Feature 291execve with weight -0.6694873571395874\n",
      "Rank 274: Feature 92irq:irq_handler_entry with weight -0.6622729301452637\n",
      "Rank 275: Feature 102seconds_KERN_data with weight 0.5143861174583435\n",
      "Rank 276: Feature 289sysinfo with weight 0.33383992314338684\n",
      "Rank 277: Feature 185memory with weight -1.1733149290084839\n",
      "Rank 278: Feature 227getpid with weight 0.15643788874149323\n",
      "Rank 279: Feature 122pagemap:mm_lru_activate with weight -0.5179170966148376\n",
      "Rank 280: Feature 90sched:sched_switch with weight -0.4530712962150574\n",
      "Rank 281: Feature 174kmem:mm_page_alloc_zone_locked_RES_data with weight -0.5215373039245605\n",
      "Rank 282: Feature 133dTLB-load-misses with weight 0.9622756838798523\n",
      "Rank 283: Feature 129seconds_RES_data with weight -0.8346481919288635\n",
      "Rank 284: Feature 134cache-references with weight 0.5889192223548889\n",
      "Rank 285: Feature 146armv7_cortex_a15/l1i_tlb_refill/ with weight 0.3014049530029297\n",
      "Rank 286: Feature 114armv7_cortex_a15/mem_access/ with weight 0.8241810202598572\n",
      "Rank 287: Feature 172sched:sched_waking with weight -0.6886332035064697\n",
      "Rank 288: Feature 13ext4:ext4_readpage with weight -3.0512197017669678\n",
      "Rank 289: Feature 115armv7_cortex_a15/l1d_cache/ with weight 0.8267218470573425\n",
      "Rank 290: Feature 198context-switches with weight -0.6826629638671875\n",
      "Rank 291: Feature 277getppid with weight -4.19362211227417\n",
      "Rank 292: Feature 255exit with weight 0.09103226661682129\n",
      "Rank 293: Feature 110armv7_cortex_a15/br_mis_pred/ with weight 0.4137289524078369\n",
      "Rank 294: Feature 113dTLB-store-misses with weight -0.8392819166183472\n",
      "Rank 295: Feature 155timer:tick_stop with weight 1.3747363090515137\n",
      "Rank 296: Feature 127L1-dcache-stores with weight 0.48724251985549927\n",
      "Rank 297: Feature 296mmap2 with weight 1.3926106691360474\n",
      "Rank 298: Feature 221chown32 with weight -0.20758260786533356\n",
      "Rank 299: Feature 140armv7_cortex_a15/exc_return/ with weight 0.49332955479621887\n",
      "Rank 300: Feature 87skb:kfree_skb.1 with weight 0.7449172139167786\n",
      "Rank 301: Feature 99kmem:mm_page_alloc_zone_locked_KERN_data with weight 0.010854445397853851\n",
      "Rank 302: Feature 95skb:kfree_skb with weight 0.7523140907287598\n",
      "Rank 303: Feature 144iTLB-load-misses with weight -0.01357161533087492\n",
      "Rank 304: Feature 164net_out with weight 0.541050910949707\n",
      "Rank 305: Feature 299pause with weight -0.6114307045936584\n"
     ]
    }
   ],
   "source": [
    "# Extract the weights from the linear layer\n",
    "weights = best_model.l1.weight.data\n",
    "\n",
    "# Convert to numpy array for easier manipulation\n",
    "weights_np = weights.numpy()\n",
    "\n",
    "# Calculate the absolute values of the weights\n",
    "abs_weights = abs(weights_np)\n",
    "\n",
    "# Get the indices of the top features based on weight magnitude\n",
    "top_features = abs_weights.argsort()[::-1]\n",
    "\n",
    "# Print the top features\n",
    "print(\"Feature importance based on weights:\")\n",
    "for i, feature_idx in enumerate(top_features[0]):\n",
    "    feature_name = df.columns[feature_idx]\n",
    "    print(f\"Rank {i+1}: Feature {feature_idx}{feature_name} with weight {weights_np[0][feature_idx]}\")\n"
   ]
  },
  {
   "cell_type": "code",
   "execution_count": 19,
   "metadata": {},
   "outputs": [
    {
     "data": {
      "image/png": "[encoded data removed]",
      "text/plain": [
       "<Figure size 1000x600 with 1 Axes>"
      ]
     },
     "metadata": {},
     "output_type": "display_data"
    }
   ],
   "source": [
    "import matplotlib.pyplot as plt\n",
    "\n",
    "# Convert to numpy array for easier manipulation\n",
    "weights_np = weights.numpy().flatten()  # Flatten to 1D array\n",
    "\n",
    "# Calculate the absolute values of the weights\n",
    "abs_weights = np.abs(weights_np)\n",
    "\n",
    "# Get the indices of the top features based on weight magnitude\n",
    "top_features = abs_weights.argsort()[::-1]\n",
    "\n",
    "# Plotting\n",
    "plt.figure(figsize=(10, 6))\n",
    "plt.bar(range(len(weights_np)), abs_weights[top_features])\n",
    "plt.xlabel('Feature Index')\n",
    "plt.ylabel('Absolute Weight')\n",
    "plt.title('Feature Importance Based on Linear Layer Weights')\n",
    "plt.xticks(range(len(weights_np)), top_features, rotation=90)\n",
    "plt.show()"
   ]
  },
  {
   "cell_type": "code",
   "execution_count": 20,
   "metadata": {},
   "outputs": [],
   "source": [
    "weights = best_model.l1.weight.data.numpy()\n",
    "abs_weights = np.abs(weights.flatten())"
   ]
  },
  {
   "cell_type": "code",
   "execution_count": 21,
   "metadata": {},
   "outputs": [
    {
     "data": {
      "image/png": "[encoded data removed]",
      "text/plain": [
       "<Figure size 1500x2500 with 9 Axes>"
      ]
     },
     "metadata": {},
     "output_type": "display_data"
    }
   ],
   "source": [
    "nrows = weights.shape[0]\n",
    "xrows = weights.shape[1]\n",
    "\n",
    "fig, axes = plt.subplots(nrows=nrows, ncols=1, figsize=(15, 25), sharex=True)\n",
    "\n",
    "for i in range(nrows):\n",
    "    axes[i].bar(range(xrows), abs_weights[i*xrows:(i+1)*xrows])\n",
    "    axes[i].set_title(f'Feature Importance for Class {i}')\n",
    "    axes[i].set_ylabel('Absolute Weight')\n",
    "\n",
    "plt.xlabel('Feature Index')\n",
    "plt.show()"
   ]
  },
  {
   "cell_type": "markdown",
   "metadata": {},
   "source": [
    "### Plotting Mean over Classes"
   ]
  },
  {
   "cell_type": "code",
   "execution_count": 22,
   "metadata": {},
   "outputs": [],
   "source": [
    "from sklearn.preprocessing import minmax_scale\n",
    "\n",
    "scaled_weights = minmax_scale(weights, axis=0)\n",
    "weights_mean = np.abs(scaled_weights).mean(axis=0)"
   ]
  },
  {
   "cell_type": "code",
   "execution_count": 23,
   "metadata": {},
   "outputs": [],
   "source": [
    "sorted_idx = weights_mean.argsort()[::-1]"
   ]
  },
  {
   "cell_type": "code",
   "execution_count": 24,
   "metadata": {},
   "outputs": [
    {
     "data": {
      "image/png": "[encoded data removed]",
      "text/plain": [
       "<Figure size 1000x600 with 1 Axes>"
      ]
     },
     "metadata": {},
     "output_type": "display_data"
    }
   ],
   "source": [
    "plt.figure(figsize=(10, 6))\n",
    "plt.bar(range(len(weights_mean[sorted_idx])), weights_mean[sorted_idx])\n",
    "plt.xlabel('Feature Index')\n",
    "plt.ylabel('Absolute Weight')\n",
    "plt.title('Feature Importance Based on Linear Layer Weights')\n",
    "# plt.xticks(sorted_idx, sorted_idx, rotation=90)\n",
    "plt.show()"
   ]
  },
  {
   "cell_type": "code",
   "execution_count": 25,
   "metadata": {},
   "outputs": [
    {
     "data": {
      "image/png": "[encoded data removed]",
      "text/plain": [
       "<Figure size 1000x600 with 1 Axes>"
      ]
     },
     "metadata": {},
     "output_type": "display_data"
    }
   ],
   "source": [
    "top_k = 50\n",
    "\n",
    "plt.figure(figsize=(10, 6))\n",
    "plt.bar(range(len(weights_mean[sorted_idx[:top_k]])), weights_mean[sorted_idx[:top_k]])\n",
    "plt.xlabel('Feature Index')\n",
    "plt.ylabel('Absolute Weight')\n",
    "plt.title('Feature Importance Based on Linear Layer Weights')\n",
    "# plt.xticks(sorted_idx[:20], sorted_idx[:20], rotation=90)\n",
    "plt.show()"
   ]
  },
  {
   "cell_type": "markdown",
   "metadata": {},
   "source": [
    "### Plotting top k per class"
   ]
  },
  {
   "cell_type": "code",
   "execution_count": 26,
   "metadata": {},
   "outputs": [],
   "source": [
    "topk = 4"
   ]
  },
  {
   "cell_type": "code",
   "execution_count": 27,
   "metadata": {},
   "outputs": [
    {
     "data": {
      "text/plain": [
       "(9, 4)"
      ]
     },
     "execution_count": 27,
     "metadata": {},
     "output_type": "execute_result"
    }
   ],
   "source": [
    "topk_indices = weights.argpartition( -topk, axis=1)[:, -topk:]\n",
    "topk_indices.shape"
   ]
  },
  {
   "cell_type": "code",
   "execution_count": 28,
   "metadata": {},
   "outputs": [
    {
     "data": {
      "text/plain": [
       "(9, 4)"
      ]
     },
     "execution_count": 28,
     "metadata": {},
     "output_type": "execute_result"
    }
   ],
   "source": [
    "topk_indices_sorted = np.take_along_axis(topk_indices, np.argsort(-weights[np.arange(weights.shape[0])[:, None], topk_indices]), axis=1)\n",
    "topk_indices_sorted.shape"
   ]
  },
  {
   "cell_type": "code",
   "execution_count": 29,
   "metadata": {},
   "outputs": [
    {
     "data": {
      "text/plain": [
       "(32,)"
      ]
     },
     "execution_count": 29,
     "metadata": {},
     "output_type": "execute_result"
    }
   ],
   "source": [
    "selected_features = np.array(list(set(topk_indices_sorted.flatten())))\n",
    "selected_features.shape"
   ]
  },
  {
   "cell_type": "code",
   "execution_count": 30,
   "metadata": {},
   "outputs": [
    {
     "data": {
      "image/png": "[encoded data removed]",
      "text/plain": [
       "<Figure size 1000x600 with 1 Axes>"
      ]
     },
     "metadata": {},
     "output_type": "display_data"
    }
   ],
   "source": [
    "plt.figure(figsize=(10, 6))\n",
    "plt.bar(range(len(weights_mean[selected_features])), weights_mean[selected_features])\n",
    "plt.xlabel('Feature Index')\n",
    "plt.ylabel('Absolute Weight')\n",
    "plt.title('Feature Importance Based on Linear Layer Weights')\n",
    "# plt.xticks(sorted_idx[:20], sorted_idx[:20], rotation=90)\n",
    "plt.show()"
   ]
  },
  {
   "cell_type": "markdown",
   "metadata": {},
   "source": [
    "### Train again"
   ]
  },
  {
   "cell_type": "code",
   "execution_count": 31,
   "metadata": {},
   "outputs": [
    {
     "data": {
      "text/plain": [
       "(21765, 32)"
      ]
     },
     "execution_count": 31,
     "metadata": {},
     "output_type": "execute_result"
    }
   ],
   "source": [
    "vectors.iloc[:,selected_features].shape"
   ]
  },
  {
   "cell_type": "code",
   "execution_count": 32,
   "metadata": {},
   "outputs": [
    {
     "name": "stderr",
     "output_type": "stream",
     "text": [
      "/tmp/ipykernel_211628/650136668.py:2: SettingWithCopyWarning: \n",
      "A value is trying to be set on a copy of a slice from a DataFrame.\n",
      "Try using .loc[row_indexer,col_indexer] = value instead\n",
      "\n",
      "See the caveats in the documentation: https://pandas.pydata.org/pandas-docs/stable/user_guide/indexing.html#returning-a-view-versus-a-copy\n",
      "  subset[\"label\"] = df[\"label\"]\n"
     ]
    }
   ],
   "source": [
    "subset = vectors.iloc[:,selected_features]\n",
    "subset[\"label\"] = df[\"label\"]"
   ]
  },
  {
   "cell_type": "code",
   "execution_count": 33,
   "metadata": {},
   "outputs": [
    {
     "name": "stderr",
     "output_type": "stream",
     "text": [
      "GPU available: True (cuda), used: True\n",
      "TPU available: False, using: 0 TPU cores\n",
      "IPU available: False, using: 0 IPUs\n",
      "HPU available: False, using: 0 HPUs\n"
     ]
    }
   ],
   "source": [
    "# split into train and val\n",
    "train, val = train_test_split(subset, test_size=0.2, random_state=SEED)\n",
    "\n",
    "train_dataset = CustomeDataset(train)\n",
    "train_dataloader = DataLoader(train_dataset, batch_size=500, shuffle=True, num_workers=7)\n",
    "\n",
    "val_dataset = CustomeDataset(val)\n",
    "val_dataloader = DataLoader(val_dataset, batch_size=500, shuffle=False, num_workers=7)\n",
    "\n",
    "# trainer = lightning.Trainer(fast_dev_run=100)\n",
    "monitor = \"Validation/Accuracy\"\n",
    "early_stop_callback = EarlyStopping(monitor=monitor, patience=5, verbose=True, mode=\"max\")\n",
    "checkpoint_callback = ModelCheckpoint(save_top_k=1, monitor=monitor, mode=\"max\")\n",
    "\n",
    "tensorboard = pl_loggers.TensorBoardLogger(save_dir=LOG_PATH, name=LOG_NAME_EXPERIMENT_2)\n",
    "trainer = lightning.Trainer(max_epochs=150, callbacks=[early_stop_callback, checkpoint_callback], enable_checkpointing=True, logger=tensorboard) #logger=None, \n",
    "\n",
    "\n",
    "model = MalwaresModelLinearLayer(input_size = subset.shape[1]-1, output_size = len(label_encoder.classes_), seed=SEED)\n",
    "\n",
    "torch.manual_seed(SEED)\n",
    "torch.cuda.manual_seed_all(SEED)\n"
   ]
  },
  {
   "cell_type": "code",
   "execution_count": 34,
   "metadata": {},
   "outputs": [
    {
     "name": "stderr",
     "output_type": "stream",
     "text": [
      "LOCAL_RANK: 0 - CUDA_VISIBLE_DEVICES: [0]\n",
      "\n",
      "  | Name          | Type                      | Params\n",
      "------------------------------------------------------------\n",
      "0 | train_metrics | MetricCollection          | 0     \n",
      "1 | val_metrics   | MetricCollection          | 0     \n",
      "2 | test_metrics  | MetricCollection          | 0     \n",
      "3 | cm            | MulticlassConfusionMatrix | 0     \n",
      "4 | criterion     | CrossEntropyLoss          | 0     \n",
      "5 | l1            | Linear                    | 297   \n",
      "------------------------------------------------------------\n",
      "297       Trainable params\n",
      "0         Non-trainable params\n",
      "297       Total params\n",
      "0.001     Total estimated model params size (MB)\n"
     ]
    },
    {
     "data": {
      "application/vnd.jupyter.widget-view+json": {
       "model_id": "6295abc35ac345b49b9ac76c2caeffa4",
       "version_major": 2,
       "version_minor": 0
      },
      "text/plain": [
       "Sanity Checking: |          | 0/? [00:00<?, ?it/s]"
      ]
     },
     "metadata": {},
     "output_type": "display_data"
    },
    {
     "name": "stdout",
     "output_type": "stream",
     "text": [
      "Epoch end: Validation, epoch number: 0\n",
      "ValidationEpoch/CM\n",
      " tensor([[  0,  90,   4,   0,   4,   0,   0,   0,   0],\n",
      "        [ 54,   0,   0,   0,  69,   0,   0,   0,   0],\n",
      "        [  0, 128,   0,   0,   5,   0,   0,   0,   0],\n",
      "        [  0,  91,   2,   0,   2,   0,   0,   0,   0],\n",
      "        [  0, 107,   5,   0,   1,   0,   0,   0,   0],\n",
      "        [  0,  33,   1,   0,  84,   0,   0,   0,   0],\n",
      "        [  0,  96,   1,   0,   4,   0,   0,   0,   0],\n",
      "        [  0,   0,  55,   0,  53,   0,   1,   0,   0],\n",
      "        [  0, 110,   0,   0,   0,   0,   0,   0,   0]])\n"
     ]
    },
    {
     "name": "stderr",
     "output_type": "stream",
     "text": [
      "/home/<User>/repos/csg_is/.venv/lib/python3.10/site-packages/lightning/pytorch/loops/fit_loop.py:298: The number of training batches (35) is smaller than the logging interval Trainer(log_every_n_steps=50). Set a lower value for log_every_n_steps if you want to see logs for the training epoch.\n"
     ]
    },
    {
     "data": {
      "application/vnd.jupyter.widget-view+json": {
       "model_id": "af4fad033a9a4cb591cb010d7761bfea",
       "version_major": 2,
       "version_minor": 0
      },
      "text/plain": [
       "Training: |          | 0/? [00:00<?, ?it/s]"
      ]
     },
     "metadata": {},
     "output_type": "display_data"
    },
    {
     "data": {
      "application/vnd.jupyter.widget-view+json": {
       "model_id": "6f8853188c754625850b827cc6f88d76",
       "version_major": 2,
       "version_minor": 0
      },
      "text/plain": [
       "Validation: |          | 0/? [00:00<?, ?it/s]"
      ]
     },
     "metadata": {},
     "output_type": "display_data"
    },
    {
     "name": "stdout",
     "output_type": "stream",
     "text": [
      "Epoch end: Validation, epoch number: 1\n",
      "ValidationEpoch/CM\n",
      " tensor([[   0, 1204, 1103,    0,   10,   10,    0,    0,   56],\n",
      "        [ 121, 2217,    1,    0,  204,    0,    0,    0,    0],\n",
      "        [   0, 1668, 1267,    0,    5,   13,    0,    0,    0],\n",
      "        [   0, 1205, 1119,    0,    6,    8,    0,    0,  112],\n",
      "        [   0, 1576,  716,    0,   62,    6,    0,    0,  118],\n",
      "        [   0, 1611,  162,    0,  143,  583,    0,    9,    0],\n",
      "        [   0, 1317, 1110,    0,   10,   20,    0,    0,   14],\n",
      "        [   0,  109,  121,    0,  123,    0,    5, 2111,    0],\n",
      "        [   0, 1232,    0,    0,    0,    0,    0,    0, 1278]])\n",
      "Epoch end: Train, epoch number: 0\n",
      "TrainEpoch/CM\n",
      " tensor([[   0, 1204, 1103,    0,   10,   10,    0,    0,   56],\n",
      "        [ 121, 2217,    1,    0,  204,    0,    0,    0,    0],\n",
      "        [   0, 1668, 1267,    0,    5,   13,    0,    0,    0],\n",
      "        [   0, 1205, 1119,    0,    6,    8,    0,    0,  112],\n",
      "        [   0, 1576,  716,    0,   62,    6,    0,    0,  118],\n",
      "        [   0, 1611,  162,    0,  143,  583,    0,    9,    0],\n",
      "        [   0, 1317, 1110,    0,   10,   20,    0,    0,   14],\n",
      "        [   0,  109,  121,    0,  123,    0,    5, 2111,    0],\n",
      "        [   0, 1232,    0,    0,    0,    0,    0,    0, 1278]])\n"
     ]
    },
    {
     "name": "stderr",
     "output_type": "stream",
     "text": [
      "Metric Validation/Accuracy improved. New best score: 0.537\n"
     ]
    },
    {
     "data": {
      "application/vnd.jupyter.widget-view+json": {
       "model_id": "7b80644d43724e33bef33b9fdd60b107",
       "version_major": 2,
       "version_minor": 0
      },
      "text/plain": [
       "Validation: |          | 0/? [00:00<?, ?it/s]"
      ]
     },
     "metadata": {},
     "output_type": "display_data"
    },
    {
     "name": "stdout",
     "output_type": "stream",
     "text": [
      "Epoch end: Validation, epoch number: 2\n",
      "ValidationEpoch/CM\n",
      " tensor([[   0, 1210, 3308,    0,   10,   44,    0,    0,   96],\n",
      "        [ 121, 4637,    1,    0,  204,    0,    0,    0,    0],\n",
      "        [   0, 1683, 4048,    0,    5,   37,    0,    0,    0],\n",
      "        [   0, 1205, 3358,    0,    6,   33,    0,    0,  203],\n",
      "        [   0, 1577, 1655,    0, 1435,   27,    0,    0,  149],\n",
      "        [   0, 1625,  622,    0,  143, 2499,    0,    9,    0],\n",
      "        [   0, 1317, 3407,    0,   10,   85,    0,    0,   22],\n",
      "        [   0,  109,  121,    0,  123,    0,    5, 4471,    0],\n",
      "        [   0, 1232,    0,    0,    0,    0,    0,    0, 3678]])\n",
      "Epoch end: Train, epoch number: 1\n",
      "TrainEpoch/CM\n",
      " tensor([[   0, 1210, 3308,    0,   10,   44,    0,    0,   96],\n",
      "        [ 121, 4637,    1,    0,  204,    0,    0,    0,    0],\n",
      "        [   0, 1683, 4048,    0,    5,   37,    0,    0,    0],\n",
      "        [   0, 1205, 3358,    0,    6,   33,    0,    0,  203],\n",
      "        [   0, 1577, 1655,    0, 1435,   27,    0,    0,  149],\n",
      "        [   0, 1625,  622,    0,  143, 2499,    0,    9,    0],\n",
      "        [   0, 1317, 3407,    0,   10,   85,    0,    0,   22],\n",
      "        [   0,  109,  121,    0,  123,    0,    5, 4471,    0],\n",
      "        [   0, 1232,    0,    0,    0,    0,    0,    0, 3678]])\n"
     ]
    },
    {
     "name": "stderr",
     "output_type": "stream",
     "text": [
      "Metric Validation/Accuracy improved by 0.067 >= min_delta = 0.0. New best score: 0.604\n"
     ]
    },
    {
     "data": {
      "application/vnd.jupyter.widget-view+json": {
       "model_id": "d54e95bf84004f86ae86644943361355",
       "version_major": 2,
       "version_minor": 0
      },
      "text/plain": [
       "Validation: |          | 0/? [00:00<?, ?it/s]"
      ]
     },
     "metadata": {},
     "output_type": "display_data"
    },
    {
     "name": "stdout",
     "output_type": "stream",
     "text": [
      "Epoch end: Validation, epoch number: 3\n",
      "ValidationEpoch/CM\n",
      " tensor([[   9, 1215, 5487,   36,   10,   74,    0,    0,  122],\n",
      "        [ 121, 7057,    1,    0,  204,    0,    0,    0,    0],\n",
      "        [   0, 1695, 6832,    0,    5,   61,    0,    0,    0],\n",
      "        [   0, 1205, 5445,  182,    9,   58,    0,    0,  261],\n",
      "        [   0, 1577, 2003,    4, 3427,   43,    0,    0,  154],\n",
      "        [   0, 1627, 1208,    0,  143, 4298,    3,    9,    0],\n",
      "        [   0, 1317, 5705,    2,   10,  150,    0,    0,   27],\n",
      "        [   0,  109,  121,    0,  123,    0,    5, 6831,    0],\n",
      "        [   0, 1232,    0,    0,    0,    0,    0,    0, 6078]])\n",
      "Epoch end: Train, epoch number: 2\n",
      "TrainEpoch/CM\n",
      " tensor([[   9, 1215, 5487,   36,   10,   74,    0,    0,  122],\n",
      "        [ 121, 7057,    1,    0,  204,    0,    0,    0,    0],\n",
      "        [   0, 1695, 6832,    0,    5,   61,    0,    0,    0],\n",
      "        [   0, 1205, 5445,  182,    9,   58,    0,    0,  261],\n",
      "        [   0, 1577, 2003,    4, 3427,   43,    0,    0,  154],\n",
      "        [   0, 1627, 1208,    0,  143, 4298,    3,    9,    0],\n",
      "        [   0, 1317, 5705,    2,   10,  150,    0,    0,   27],\n",
      "        [   0,  109,  121,    0,  123,    0,    5, 6831,    0],\n",
      "        [   0, 1232,    0,    0,    0,    0,    0,    0, 6078]])\n"
     ]
    },
    {
     "name": "stderr",
     "output_type": "stream",
     "text": [
      "Metric Validation/Accuracy improved by 0.051 >= min_delta = 0.0. New best score: 0.655\n"
     ]
    },
    {
     "data": {
      "application/vnd.jupyter.widget-view+json": {
       "model_id": "0d0d8735defd41f28b6cc7c183a535a6",
       "version_major": 2,
       "version_minor": 0
      },
      "text/plain": [
       "Validation: |          | 0/? [00:00<?, ?it/s]"
      ]
     },
     "metadata": {},
     "output_type": "display_data"
    },
    {
     "name": "stdout",
     "output_type": "stream",
     "text": [
      "Epoch end: Validation, epoch number: 4\n",
      "ValidationEpoch/CM\n",
      " tensor([[ 516, 1217, 6852,  371,   34,  108,    1,    0,  139],\n",
      "        [ 121, 9477,    1,    0,  204,    0,    0,    0,    0],\n",
      "        [   0, 1707, 9616,    0,    5,   85,    0,    0,    0],\n",
      "        [   2, 1205, 6668, 1256,   27,   83,    2,    0,  272],\n",
      "        [   0, 1577, 2199,    4, 5576,   58,    0,    0,  159],\n",
      "        [   0, 1627, 1593,    0,  143, 6293,   13,    9,    0],\n",
      "        [   0, 1317, 7959,   43,   10,  215,    5,    0,   32],\n",
      "        [   0,  109,  121,    0,  123,    0,    5, 9191,    0],\n",
      "        [   0, 1232,    0,    0,    0,    0,    0,    0, 8478]])\n",
      "Epoch end: Train, epoch number: 3\n",
      "TrainEpoch/CM\n",
      " tensor([[ 516, 1217, 6852,  371,   34,  108,    1,    0,  139],\n",
      "        [ 121, 9477,    1,    0,  204,    0,    0,    0,    0],\n",
      "        [   0, 1707, 9616,    0,    5,   85,    0,    0,    0],\n",
      "        [   2, 1205, 6668, 1256,   27,   83,    2,    0,  272],\n",
      "        [   0, 1577, 2199,    4, 5576,   58,    0,    0,  159],\n",
      "        [   0, 1627, 1593,    0,  143, 6293,   13,    9,    0],\n",
      "        [   0, 1317, 7959,   43,   10,  215,    5,    0,   32],\n",
      "        [   0,  109,  121,    0,  123,    0,    5, 9191,    0],\n",
      "        [   0, 1232,    0,    0,    0,    0,    0,    0, 8478]])\n"
     ]
    },
    {
     "name": "stderr",
     "output_type": "stream",
     "text": [
      "Metric Validation/Accuracy improved by 0.099 >= min_delta = 0.0. New best score: 0.754\n"
     ]
    },
    {
     "data": {
      "application/vnd.jupyter.widget-view+json": {
       "model_id": "f7df33c4140d40c5b13f6fe3ae5cab18",
       "version_major": 2,
       "version_minor": 0
      },
      "text/plain": [
       "Validation: |          | 0/? [00:00<?, ?it/s]"
      ]
     },
     "metadata": {},
     "output_type": "display_data"
    },
    {
     "name": "stdout",
     "output_type": "stream",
     "text": [
      "Epoch end: Validation, epoch number: 5\n",
      "ValidationEpoch/CM\n",
      " tensor([[ 2102,  1217,  7235,   642,    40,   137,     1,     0,   149],\n",
      "        [  121, 11897,     1,     0,   204,     0,     0,     0,     0],\n",
      "        [    0,  1711, 12400,     0,    13,   109,     0,     0,     0],\n",
      "        [   15,  1205,  7406,  2818,    34,   108,     7,     0,   277],\n",
      "        [    0,  1577,  2380,    10,  7734,    73,     0,     0,   164],\n",
      "        [    0,  1627,  1984,     0,   143,  8282,    23,     9,     0],\n",
      "        [    0,  1317, 10172,   126,    10,   280,    10,     0,    36],\n",
      "        [    0,   109,   121,     0,   123,     0,     5, 11551,     0],\n",
      "        [    0,  1232,     0,     0,     0,     0,     0,     0, 10878]])\n",
      "Epoch end: Train, epoch number: 4\n",
      "TrainEpoch/CM\n",
      " tensor([[ 2102,  1217,  7235,   642,    40,   137,     1,     0,   149],\n",
      "        [  121, 11897,     1,     0,   204,     0,     0,     0,     0],\n",
      "        [    0,  1711, 12400,     0,    13,   109,     0,     0,     0],\n",
      "        [   15,  1205,  7406,  2818,    34,   108,     7,     0,   277],\n",
      "        [    0,  1577,  2380,    10,  7734,    73,     0,     0,   164],\n",
      "        [    0,  1627,  1984,     0,   143,  8282,    23,     9,     0],\n",
      "        [    0,  1317, 10172,   126,    10,   280,    10,     0,    36],\n",
      "        [    0,   109,   121,     0,   123,     0,     5, 11551,     0],\n",
      "        [    0,  1232,     0,     0,     0,     0,     0,     0, 10878]])\n"
     ]
    },
    {
     "name": "stderr",
     "output_type": "stream",
     "text": [
      "Metric Validation/Accuracy improved by 0.032 >= min_delta = 0.0. New best score: 0.786\n"
     ]
    },
    {
     "data": {
      "application/vnd.jupyter.widget-view+json": {
       "model_id": "0fdc5fb2b3d445a1a6299145da88035a",
       "version_major": 2,
       "version_minor": 0
      },
      "text/plain": [
       "Validation: |          | 0/? [00:00<?, ?it/s]"
      ]
     },
     "metadata": {},
     "output_type": "display_data"
    },
    {
     "name": "stdout",
     "output_type": "stream",
     "text": [
      "Epoch end: Validation, epoch number: 6\n",
      "ValidationEpoch/CM\n",
      " tensor([[ 3919,  1217,  7303,  1014,    46,   154,     1,     0,   154],\n",
      "        [  121, 14317,     1,     0,   204,     0,     0,     0,     0],\n",
      "        [    0,  1711, 15184,     0,    25,   133,     0,     0,     0],\n",
      "        [   54,  1205,  7631,  4858,    49,   133,    18,     0,   277],\n",
      "        [    0,  1577,  2490,    63,  9920,    88,     0,     0,   165],\n",
      "        [    0,  1627,  2412,     0,   143, 10234,    33,     9,     0],\n",
      "        [    0,  1317, 12270,   327,    11,   345,    15,     0,    36],\n",
      "        [    0,   109,   121,     0,   123,     0,     5, 13911,     0],\n",
      "        [    0,  1232,     0,     0,     0,     0,     0,     0, 13278]])\n"
     ]
    },
    {
     "name": "stderr",
     "output_type": "stream",
     "text": [
      "Metric Validation/Accuracy improved by 0.049 >= min_delta = 0.0. New best score: 0.835\n"
     ]
    },
    {
     "name": "stdout",
     "output_type": "stream",
     "text": [
      "Epoch end: Train, epoch number: 5\n",
      "TrainEpoch/CM\n",
      " tensor([[ 3919,  1217,  7303,  1014,    46,   154,     1,     0,   154],\n",
      "        [  121, 14317,     1,     0,   204,     0,     0,     0,     0],\n",
      "        [    0,  1711, 15184,     0,    25,   133,     0,     0,     0],\n",
      "        [   54,  1205,  7631,  4858,    49,   133,    18,     0,   277],\n",
      "        [    0,  1577,  2490,    63,  9920,    88,     0,     0,   165],\n",
      "        [    0,  1627,  2412,     0,   143, 10234,    33,     9,     0],\n",
      "        [    0,  1317, 12270,   327,    11,   345,    15,     0,    36],\n",
      "        [    0,   109,   121,     0,   123,     0,     5, 13911,     0],\n",
      "        [    0,  1232,     0,     0,     0,     0,     0,     0, 13278]])\n"
     ]
    },
    {
     "data": {
      "application/vnd.jupyter.widget-view+json": {
       "model_id": "1a32313612124b109f9ff63196412ebf",
       "version_major": 2,
       "version_minor": 0
      },
      "text/plain": [
       "Validation: |          | 0/? [00:00<?, ?it/s]"
      ]
     },
     "metadata": {},
     "output_type": "display_data"
    },
    {
     "name": "stdout",
     "output_type": "stream",
     "text": [
      "Epoch end: Validation, epoch number: 7\n",
      "ValidationEpoch/CM\n",
      " tensor([[ 5994,  1217,  7316,  1186,    51,   169,     1,     0,   159],\n",
      "        [  121, 16737,     1,     0,   204,     0,     0,     0,     0],\n",
      "        [    0,  1711, 17968,     0,    37,   157,     0,     0,     0],\n",
      "        [  132,  1205,  7784,  6941,    58,   158,    25,     0,   277],\n",
      "        [    3,  1577,  2571,   133, 12116,   103,     0,     0,   165],\n",
      "        [    0,  1627,  2840,     0,   143, 12186,    43,     9,     0],\n",
      "        [    9,  1317, 14318,   569,    12,   410,    20,     0,    36],\n",
      "        [    0,   109,   121,     0,   123,     0,     5, 16271,     0],\n",
      "        [    0,  1232,     0,     0,     0,     0,     0,     0, 15678]])\n"
     ]
    },
    {
     "name": "stderr",
     "output_type": "stream",
     "text": [
      "Metric Validation/Accuracy improved by 0.008 >= min_delta = 0.0. New best score: 0.843\n"
     ]
    },
    {
     "name": "stdout",
     "output_type": "stream",
     "text": [
      "Epoch end: Train, epoch number: 6\n",
      "TrainEpoch/CM\n",
      " tensor([[ 5994,  1217,  7316,  1186,    51,   169,     1,     0,   159],\n",
      "        [  121, 16737,     1,     0,   204,     0,     0,     0,     0],\n",
      "        [    0,  1711, 17968,     0,    37,   157,     0,     0,     0],\n",
      "        [  132,  1205,  7784,  6941,    58,   158,    25,     0,   277],\n",
      "        [    3,  1577,  2571,   133, 12116,   103,     0,     0,   165],\n",
      "        [    0,  1627,  2840,     0,   143, 12186,    43,     9,     0],\n",
      "        [    9,  1317, 14318,   569,    12,   410,    20,     0,    36],\n",
      "        [    0,   109,   121,     0,   123,     0,     5, 16271,     0],\n",
      "        [    0,  1232,     0,     0,     0,     0,     0,     0, 15678]])\n"
     ]
    },
    {
     "data": {
      "application/vnd.jupyter.widget-view+json": {
       "model_id": "b275615e023c4f11b24294e052a046b6",
       "version_major": 2,
       "version_minor": 0
      },
      "text/plain": [
       "Validation: |          | 0/? [00:00<?, ?it/s]"
      ]
     },
     "metadata": {},
     "output_type": "display_data"
    },
    {
     "name": "stdout",
     "output_type": "stream",
     "text": [
      "Epoch end: Validation, epoch number: 8\n",
      "ValidationEpoch/CM\n",
      " tensor([[ 8063,  1217,  7321,  1372,    56,   184,     1,     0,   164],\n",
      "        [  121, 19157,     1,     0,   204,     0,     0,     0,     0],\n",
      "        [    0,  1711, 20752,     0,    49,   181,     0,     0,     0],\n",
      "        [  234,  1205,  7825,  9099,    66,   183,    46,     0,   277],\n",
      "        [    8,  1577,  2619,   240, 14309,   115,     0,     0,   165],\n",
      "        [    0,  1627,  3162,     0,   143, 14244,    53,     9,     0],\n",
      "        [   45,  1317, 16154,   946,    16,   475,    72,     0,    36],\n",
      "        [    0,   109,   121,     0,   123,     0,     5, 18631,     0],\n",
      "        [    0,  1232,     0,     0,     0,     0,     0,     0, 18078]])\n",
      "Epoch end: Train, epoch number: 7\n",
      "TrainEpoch/CM\n",
      " tensor([[ 8063,  1217,  7321,  1372,    56,   184,     1,     0,   164],\n",
      "        [  121, 19157,     1,     0,   204,     0,     0,     0,     0],\n",
      "        [    0,  1711, 20752,     0,    49,   181,     0,     0,     0],\n",
      "        [  234,  1205,  7825,  9099,    66,   183,    46,     0,   277],\n",
      "        [    8,  1577,  2619,   240, 14309,   115,     0,     0,   165],\n",
      "        [    0,  1627,  3162,     0,   143, 14244,    53,     9,     0],\n",
      "        [   45,  1317, 16154,   946,    16,   475,    72,     0,    36],\n",
      "        [    0,   109,   121,     0,   123,     0,     5, 18631,     0],\n",
      "        [    0,  1232,     0,     0,     0,     0,     0,     0, 18078]])\n"
     ]
    },
    {
     "data": {
      "application/vnd.jupyter.widget-view+json": {
       "model_id": "26f50376b4f7467d8ed8bfec72ac35b6",
       "version_major": 2,
       "version_minor": 0
      },
      "text/plain": [
       "Validation: |          | 0/? [00:00<?, ?it/s]"
      ]
     },
     "metadata": {},
     "output_type": "display_data"
    },
    {
     "name": "stdout",
     "output_type": "stream",
     "text": [
      "Epoch end: Validation, epoch number: 9\n",
      "ValidationEpoch/CM\n",
      " tensor([[10111,  1217,  7328,  1581,    61,   199,     1,     0,   165],\n",
      "        [  121, 21577,     1,     0,   204,     0,     0,     0,     0],\n",
      "        [    0,  1711, 23536,     0,    61,   205,     0,     0,     0],\n",
      "        [  318,  1205,  7878, 11278,    72,   208,    54,     0,   277],\n",
      "        [   13,  1577,  2673,   352, 16498,   120,     0,     0,   165],\n",
      "        [    0,  1627,  3557,     0,   143, 16229,    63,     9,     0],\n",
      "        [   73,  1317, 18035,  1322,    20,   540,    88,     0,    36],\n",
      "        [    0,   109,   121,     0,   123,     0,     5, 20991,     0],\n",
      "        [    0,  1232,     0,     0,     0,     0,     0,     0, 20478]])\n",
      "Epoch end: Train, epoch number: 8\n",
      "TrainEpoch/CM\n",
      " tensor([[10111,  1217,  7328,  1581,    61,   199,     1,     0,   165],\n",
      "        [  121, 21577,     1,     0,   204,     0,     0,     0,     0],\n",
      "        [    0,  1711, 23536,     0,    61,   205,     0,     0,     0],\n",
      "        [  318,  1205,  7878, 11278,    72,   208,    54,     0,   277],\n",
      "        [   13,  1577,  2673,   352, 16498,   120,     0,     0,   165],\n",
      "        [    0,  1627,  3557,     0,   143, 16229,    63,     9,     0],\n",
      "        [   73,  1317, 18035,  1322,    20,   540,    88,     0,    36],\n",
      "        [    0,   109,   121,     0,   123,     0,     5, 20991,     0],\n",
      "        [    0,  1232,     0,     0,     0,     0,     0,     0, 20478]])\n"
     ]
    },
    {
     "name": "stderr",
     "output_type": "stream",
     "text": [
      "Metric Validation/Accuracy improved by 0.003 >= min_delta = 0.0. New best score: 0.845\n"
     ]
    },
    {
     "data": {
      "application/vnd.jupyter.widget-view+json": {
       "model_id": "3d5a882520ef4037a258e4f90a44fbe0",
       "version_major": 2,
       "version_minor": 0
      },
      "text/plain": [
       "Validation: |          | 0/? [00:00<?, ?it/s]"
      ]
     },
     "metadata": {},
     "output_type": "display_data"
    },
    {
     "name": "stdout",
     "output_type": "stream",
     "text": [
      "Epoch end: Validation, epoch number: 10\n",
      "ValidationEpoch/CM\n",
      " tensor([[12291,  1217,  7333,  1661,    66,   214,     1,     0,   165],\n",
      "        [  121, 23997,     1,     0,   204,     0,     0,     0,     0],\n",
      "        [    0,  1711, 26320,     0,    73,   229,     0,     0,     0],\n",
      "        [  486,  1205,  7908, 13383,    79,   233,    74,     0,   277],\n",
      "        [   20,  1577,  2716,   452, 18708,   125,     0,     0,   165],\n",
      "        [    0,  1627,  3906,     0,   143, 18260,    73,     9,     0],\n",
      "        [  135,  1317, 19821,  1716,    26,   605,   145,     0,    36],\n",
      "        [    0,   109,   121,     0,   123,     0,     5, 23351,     0],\n",
      "        [    0,  1232,     0,     0,     0,     0,     0,     0, 22878]])\n",
      "Epoch end: Train, epoch number: 9\n",
      "TrainEpoch/CM\n",
      " tensor([[12291,  1217,  7333,  1661,    66,   214,     1,     0,   165],\n",
      "        [  121, 23997,     1,     0,   204,     0,     0,     0,     0],\n",
      "        [    0,  1711, 26320,     0,    73,   229,     0,     0,     0],\n",
      "        [  486,  1205,  7908, 13383,    79,   233,    74,     0,   277],\n",
      "        [   20,  1577,  2716,   452, 18708,   125,     0,     0,   165],\n",
      "        [    0,  1627,  3906,     0,   143, 18260,    73,     9,     0],\n",
      "        [  135,  1317, 19821,  1716,    26,   605,   145,     0,    36],\n",
      "        [    0,   109,   121,     0,   123,     0,     5, 23351,     0],\n",
      "        [    0,  1232,     0,     0,     0,     0,     0,     0, 22878]])\n"
     ]
    },
    {
     "name": "stderr",
     "output_type": "stream",
     "text": [
      "Metric Validation/Accuracy improved by 0.005 >= min_delta = 0.0. New best score: 0.851\n"
     ]
    },
    {
     "data": {
      "application/vnd.jupyter.widget-view+json": {
       "model_id": "5fa4cdf4ff564023881af6149c34babe",
       "version_major": 2,
       "version_minor": 0
      },
      "text/plain": [
       "Validation: |          | 0/? [00:00<?, ?it/s]"
      ]
     },
     "metadata": {},
     "output_type": "display_data"
    },
    {
     "name": "stdout",
     "output_type": "stream",
     "text": [
      "Epoch end: Validation, epoch number: 11\n",
      "ValidationEpoch/CM\n",
      " tensor([[14458,  1217,  7338,  1754,    71,   229,     1,     0,   165],\n",
      "        [  121, 26417,     1,     0,   204,     0,     0,     0,     0],\n",
      "        [    0,  1711, 29104,     0,    85,   253,     0,     0,     0],\n",
      "        [  630,  1205,  7930, 15517,    85,   256,   100,     0,   277],\n",
      "        [   25,  1577,  2756,   561, 20914,   130,     0,     0,   165],\n",
      "        [    0,  1627,  4212,     0,   143, 20334,    83,     9,     0],\n",
      "        [  199,  1317, 21565,  2132,    31,   670,   221,     0,    36],\n",
      "        [    0,   109,   121,     0,   123,     0,     5, 25711,     0],\n",
      "        [    0,  1232,     0,     0,     0,     0,     0,     0, 25278]])\n",
      "Epoch end: Train, epoch number: 10\n",
      "TrainEpoch/CM\n",
      " tensor([[14458,  1217,  7338,  1754,    71,   229,     1,     0,   165],\n",
      "        [  121, 26417,     1,     0,   204,     0,     0,     0,     0],\n",
      "        [    0,  1711, 29104,     0,    85,   253,     0,     0,     0],\n",
      "        [  630,  1205,  7930, 15517,    85,   256,   100,     0,   277],\n",
      "        [   25,  1577,  2756,   561, 20914,   130,     0,     0,   165],\n",
      "        [    0,  1627,  4212,     0,   143, 20334,    83,     9,     0],\n",
      "        [  199,  1317, 21565,  2132,    31,   670,   221,     0,    36],\n",
      "        [    0,   109,   121,     0,   123,     0,     5, 25711,     0],\n",
      "        [    0,  1232,     0,     0,     0,     0,     0,     0, 25278]])\n"
     ]
    },
    {
     "name": "stderr",
     "output_type": "stream",
     "text": [
      "Metric Validation/Accuracy improved by 0.004 >= min_delta = 0.0. New best score: 0.855\n"
     ]
    },
    {
     "data": {
      "application/vnd.jupyter.widget-view+json": {
       "model_id": "88806d710fad4bd889f6ddbf9a2ba36c",
       "version_major": 2,
       "version_minor": 0
      },
      "text/plain": [
       "Validation: |          | 0/? [00:00<?, ?it/s]"
      ]
     },
     "metadata": {},
     "output_type": "display_data"
    },
    {
     "name": "stdout",
     "output_type": "stream",
     "text": [
      "Epoch end: Validation, epoch number: 12\n",
      "ValidationEpoch/CM\n",
      " tensor([[16622,  1217,  7343,  1850,    76,   244,     1,     0,   165],\n",
      "        [  121, 28837,     1,     0,   204,     0,     0,     0,     0],\n",
      "        [    0,  1711, 31888,     0,    97,   277,     0,     0,     0],\n",
      "        [  789,  1205,  7936, 17654,    90,   276,   128,     0,   277],\n",
      "        [   32,  1577,  2788,   684, 23112,   135,     0,     0,   165],\n",
      "        [    0,  1627,  4481,     0,   143, 22445,    93,     9,     0],\n",
      "        [  277,  1317, 23179,  2635,    36,   735,   326,     0,    36],\n",
      "        [    0,   109,   121,     0,   123,     0,     5, 28071,     0],\n",
      "        [    0,  1232,     0,     0,     0,     0,     0,     0, 27678]])\n",
      "Epoch end: Train, epoch number: 11\n",
      "TrainEpoch/CM\n",
      " tensor([[16622,  1217,  7343,  1850,    76,   244,     1,     0,   165],\n",
      "        [  121, 28837,     1,     0,   204,     0,     0,     0,     0],\n",
      "        [    0,  1711, 31888,     0,    97,   277,     0,     0,     0],\n",
      "        [  789,  1205,  7936, 17654,    90,   276,   128,     0,   277],\n",
      "        [   32,  1577,  2788,   684, 23112,   135,     0,     0,   165],\n",
      "        [    0,  1627,  4481,     0,   143, 22445,    93,     9,     0],\n",
      "        [  277,  1317, 23179,  2635,    36,   735,   326,     0,    36],\n",
      "        [    0,   109,   121,     0,   123,     0,     5, 28071,     0],\n",
      "        [    0,  1232,     0,     0,     0,     0,     0,     0, 27678]])\n"
     ]
    },
    {
     "name": "stderr",
     "output_type": "stream",
     "text": [
      "Metric Validation/Accuracy improved by 0.005 >= min_delta = 0.0. New best score: 0.860\n"
     ]
    },
    {
     "data": {
      "application/vnd.jupyter.widget-view+json": {
       "model_id": "ae73edef347d4d7c907c9eb420d0c076",
       "version_major": 2,
       "version_minor": 0
      },
      "text/plain": [
       "Validation: |          | 0/? [00:00<?, ?it/s]"
      ]
     },
     "metadata": {},
     "output_type": "display_data"
    },
    {
     "name": "stdout",
     "output_type": "stream",
     "text": [
      "Epoch end: Validation, epoch number: 13\n",
      "ValidationEpoch/CM\n",
      " tensor([[18810,  1217,  7348,  1922,    81,   259,     1,     0,   165],\n",
      "        [  121, 31257,     1,     0,   204,     0,     0,     0,     0],\n",
      "        [    0,  1711, 34672,     0,   109,   301,     0,     0,     0],\n",
      "        [  957,  1205,  7941, 19775,    95,   296,   164,     0,   277],\n",
      "        [   39,  1577,  2831,   800, 25308,   138,     0,     0,   165],\n",
      "        [    0,  1627,  4740,     0,   143, 24566,   103,     9,     0],\n",
      "        [  350,  1317, 24806,  3081,    41,   800,   480,     0,    36],\n",
      "        [    0,   109,   121,     0,   123,     0,     5, 30431,     0],\n",
      "        [    0,  1232,     0,     0,     0,     0,     0,     0, 30078]])\n",
      "Epoch end: Train, epoch number: 12\n",
      "TrainEpoch/CM\n",
      " tensor([[18810,  1217,  7348,  1922,    81,   259,     1,     0,   165],\n",
      "        [  121, 31257,     1,     0,   204,     0,     0,     0,     0],\n",
      "        [    0,  1711, 34672,     0,   109,   301,     0,     0,     0],\n",
      "        [  957,  1205,  7941, 19775,    95,   296,   164,     0,   277],\n",
      "        [   39,  1577,  2831,   800, 25308,   138,     0,     0,   165],\n",
      "        [    0,  1627,  4740,     0,   143, 24566,   103,     9,     0],\n",
      "        [  350,  1317, 24806,  3081,    41,   800,   480,     0,    36],\n",
      "        [    0,   109,   121,     0,   123,     0,     5, 30431,     0],\n",
      "        [    0,  1232,     0,     0,     0,     0,     0,     0, 30078]])\n"
     ]
    },
    {
     "name": "stderr",
     "output_type": "stream",
     "text": [
      "Metric Validation/Accuracy improved by 0.001 >= min_delta = 0.0. New best score: 0.860\n"
     ]
    },
    {
     "data": {
      "application/vnd.jupyter.widget-view+json": {
       "model_id": "8203fcfa6fc047eca2991bba2bebe392",
       "version_major": 2,
       "version_minor": 0
      },
      "text/plain": [
       "Validation: |          | 0/? [00:00<?, ?it/s]"
      ]
     },
     "metadata": {},
     "output_type": "display_data"
    },
    {
     "name": "stdout",
     "output_type": "stream",
     "text": [
      "Epoch end: Validation, epoch number: 14\n",
      "ValidationEpoch/CM\n",
      " tensor([[20988,  1217,  7353,  2004,    86,   274,     1,     0,   165],\n",
      "        [  121, 33677,     1,     0,   204,     0,     0,     0,     0],\n",
      "        [    0,  1711, 37456,     0,   121,   325,     0,     0,     0],\n",
      "        [ 1091,  1205,  7946, 21930,   100,   316,   200,     0,   277],\n",
      "        [   44,  1577,  2861,   927, 27511,   138,     0,     0,   165],\n",
      "        [    0,  1627,  4987,     0,   143, 26699,   113,     9,     0],\n",
      "        [  415,  1317, 26386,  3573,    46,   865,   643,     0,    36],\n",
      "        [    0,   109,   121,     0,   123,     0,     5, 32791,     0],\n",
      "        [    0,  1232,     0,     0,     0,     0,     0,     0, 32478]])\n",
      "Epoch end: Train, epoch number: 13\n",
      "TrainEpoch/CM\n",
      " tensor([[20988,  1217,  7353,  2004,    86,   274,     1,     0,   165],\n",
      "        [  121, 33677,     1,     0,   204,     0,     0,     0,     0],\n",
      "        [    0,  1711, 37456,     0,   121,   325,     0,     0,     0],\n",
      "        [ 1091,  1205,  7946, 21930,   100,   316,   200,     0,   277],\n",
      "        [   44,  1577,  2861,   927, 27511,   138,     0,     0,   165],\n",
      "        [    0,  1627,  4987,     0,   143, 26699,   113,     9,     0],\n",
      "        [  415,  1317, 26386,  3573,    46,   865,   643,     0,    36],\n",
      "        [    0,   109,   121,     0,   123,     0,     5, 32791,     0],\n",
      "        [    0,  1232,     0,     0,     0,     0,     0,     0, 32478]])\n"
     ]
    },
    {
     "name": "stderr",
     "output_type": "stream",
     "text": [
      "Metric Validation/Accuracy improved by 0.006 >= min_delta = 0.0. New best score: 0.866\n"
     ]
    },
    {
     "data": {
      "application/vnd.jupyter.widget-view+json": {
       "model_id": "129892c3a0bf423790e05f70d4b93879",
       "version_major": 2,
       "version_minor": 0
      },
      "text/plain": [
       "Validation: |          | 0/? [00:00<?, ?it/s]"
      ]
     },
     "metadata": {},
     "output_type": "display_data"
    },
    {
     "name": "stdout",
     "output_type": "stream",
     "text": [
      "Epoch end: Validation, epoch number: 15\n",
      "ValidationEpoch/CM\n",
      " tensor([[23198,  1217,  7358,  2054,    91,   289,     1,     0,   165],\n",
      "        [  121, 36097,     1,     0,   204,     0,     0,     0,     0],\n",
      "        [    0,  1711, 40234,     0,   132,   349,     7,     0,     0],\n",
      "        [ 1262,  1205,  7950, 24045,   105,   336,   240,     0,   277],\n",
      "        [   53,  1577,  2897,  1042, 29715,   138,     1,     0,   165],\n",
      "        [    0,  1627,  5202,     0,   143, 28864,   123,     9,     0],\n",
      "        [  500,  1317, 27861,  4023,    51,   930,   933,     0,    36],\n",
      "        [    0,   109,   121,     0,   123,     0,     5, 35151,     0],\n",
      "        [    0,  1232,     0,     0,     0,     0,     0,     0, 34878]])\n",
      "Epoch end: Train, epoch number: 14\n",
      "TrainEpoch/CM\n",
      " tensor([[23198,  1217,  7358,  2054,    91,   289,     1,     0,   165],\n",
      "        [  121, 36097,     1,     0,   204,     0,     0,     0,     0],\n",
      "        [    0,  1711, 40234,     0,   132,   349,     7,     0,     0],\n",
      "        [ 1262,  1205,  7950, 24045,   105,   336,   240,     0,   277],\n",
      "        [   53,  1577,  2897,  1042, 29715,   138,     1,     0,   165],\n",
      "        [    0,  1627,  5202,     0,   143, 28864,   123,     9,     0],\n",
      "        [  500,  1317, 27861,  4023,    51,   930,   933,     0,    36],\n",
      "        [    0,   109,   121,     0,   123,     0,     5, 35151,     0],\n",
      "        [    0,  1232,     0,     0,     0,     0,     0,     0, 34878]])\n"
     ]
    },
    {
     "data": {
      "application/vnd.jupyter.widget-view+json": {
       "model_id": "bcb6ba5dcca24329b09eead17620696b",
       "version_major": 2,
       "version_minor": 0
      },
      "text/plain": [
       "Validation: |          | 0/? [00:00<?, ?it/s]"
      ]
     },
     "metadata": {},
     "output_type": "display_data"
    },
    {
     "name": "stdout",
     "output_type": "stream",
     "text": [
      "Epoch end: Validation, epoch number: 16\n",
      "ValidationEpoch/CM\n",
      " tensor([[25404,  1217,  7363,  2111,    96,   301,     1,     0,   165],\n",
      "        [  121, 38517,     1,     0,   204,     0,     0,     0,     0],\n",
      "        [    0,  1711, 43018,     0,   134,   373,    17,     0,     0],\n",
      "        [ 1425,  1205,  7952, 26169,   110,   356,   281,     0,   277],\n",
      "        [   59,  1577,  2943,  1162, 31908,   138,     1,     0,   165],\n",
      "        [    0,  1627,  5410,     0,   143, 31036,   133,     9,     0],\n",
      "        [  575,  1317, 29313,  4487,    56,   995,  1242,     0,    36],\n",
      "        [    0,   109,   121,     0,   123,     0,     5, 37511,     0],\n",
      "        [    0,  1232,     0,     0,     0,     0,     0,     0, 37278]])\n",
      "Epoch end: Train, epoch number: 15\n",
      "TrainEpoch/CM\n",
      " tensor([[25404,  1217,  7363,  2111,    96,   301,     1,     0,   165],\n",
      "        [  121, 38517,     1,     0,   204,     0,     0,     0,     0],\n",
      "        [    0,  1711, 43018,     0,   134,   373,    17,     0,     0],\n",
      "        [ 1425,  1205,  7952, 26169,   110,   356,   281,     0,   277],\n",
      "        [   59,  1577,  2943,  1162, 31908,   138,     1,     0,   165],\n",
      "        [    0,  1627,  5410,     0,   143, 31036,   133,     9,     0],\n",
      "        [  575,  1317, 29313,  4487,    56,   995,  1242,     0,    36],\n",
      "        [    0,   109,   121,     0,   123,     0,     5, 37511,     0],\n",
      "        [    0,  1232,     0,     0,     0,     0,     0,     0, 37278]])\n"
     ]
    },
    {
     "name": "stderr",
     "output_type": "stream",
     "text": [
      "Metric Validation/Accuracy improved by 0.013 >= min_delta = 0.0. New best score: 0.879\n"
     ]
    },
    {
     "data": {
      "application/vnd.jupyter.widget-view+json": {
       "model_id": "30652e569f3d47dc87ae6ba791508d4c",
       "version_major": 2,
       "version_minor": 0
      },
      "text/plain": [
       "Validation: |          | 0/? [00:00<?, ?it/s]"
      ]
     },
     "metadata": {},
     "output_type": "display_data"
    },
    {
     "name": "stdout",
     "output_type": "stream",
     "text": [
      "Epoch end: Validation, epoch number: 17\n",
      "ValidationEpoch/CM\n",
      " tensor([[27604,  1217,  7368,  2176,   101,   311,     1,     0,   165],\n",
      "        [  121, 40937,     1,     0,   204,     0,     0,     0,     0],\n",
      "        [    0,  1711, 45789,     0,   138,   397,    38,     0,     0],\n",
      "        [ 1569,  1205,  7956, 28310,   115,   376,   322,     0,   277],\n",
      "        [   66,  1577,  2981,  1284, 34106,   138,     1,     0,   165],\n",
      "        [    0,  1627,  5590,     0,   143, 33236,   143,     9,     0],\n",
      "        [  642,  1317, 30721,  4977,    61,  1060,  1577,     0,    36],\n",
      "        [    0,   109,   121,     0,   123,     0,     5, 39871,     0],\n",
      "        [    0,  1232,     0,     0,     0,     0,     0,     0, 39678]])\n",
      "Epoch end: Train, epoch number: 16\n",
      "TrainEpoch/CM\n",
      " tensor([[27604,  1217,  7368,  2176,   101,   311,     1,     0,   165],\n",
      "        [  121, 40937,     1,     0,   204,     0,     0,     0,     0],\n",
      "        [    0,  1711, 45789,     0,   138,   397,    38,     0,     0],\n",
      "        [ 1569,  1205,  7956, 28310,   115,   376,   322,     0,   277],\n",
      "        [   66,  1577,  2981,  1284, 34106,   138,     1,     0,   165],\n",
      "        [    0,  1627,  5590,     0,   143, 33236,   143,     9,     0],\n",
      "        [  642,  1317, 30721,  4977,    61,  1060,  1577,     0,    36],\n",
      "        [    0,   109,   121,     0,   123,     0,     5, 39871,     0],\n",
      "        [    0,  1232,     0,     0,     0,     0,     0,     0, 39678]])\n"
     ]
    },
    {
     "data": {
      "application/vnd.jupyter.widget-view+json": {
       "model_id": "f7ccae72c01e4f8cb12ddedf98307140",
       "version_major": 2,
       "version_minor": 0
      },
      "text/plain": [
       "Validation: |          | 0/? [00:00<?, ?it/s]"
      ]
     },
     "metadata": {},
     "output_type": "display_data"
    },
    {
     "name": "stdout",
     "output_type": "stream",
     "text": [
      "Epoch end: Validation, epoch number: 18\n",
      "ValidationEpoch/CM\n",
      " tensor([[29804,  1217,  7373,  2243,   106,   319,     1,     0,   165],\n",
      "        [  121, 43357,     1,     0,   204,     0,     0,     0,     0],\n",
      "        [    0,  1711, 48569,     0,   138,   421,    54,     0,     0],\n",
      "        [ 1716,  1205,  7960, 30451,   120,   391,   365,     0,   277],\n",
      "        [   72,  1577,  3020,  1406, 36301,   138,     4,     0,   165],\n",
      "        [    0,  1627,  5768,     0,   143, 35438,   153,     9,     0],\n",
      "        [  709,  1317, 32153,  5456,    66,  1125,  1899,     0,    36],\n",
      "        [    0,   109,   121,     0,   123,     0,     5, 42231,     0],\n",
      "        [    0,  1232,     0,     0,     0,     0,     0,     0, 42078]])\n",
      "Epoch end: Train, epoch number: 17\n",
      "TrainEpoch/CM\n",
      " tensor([[29804,  1217,  7373,  2243,   106,   319,     1,     0,   165],\n",
      "        [  121, 43357,     1,     0,   204,     0,     0,     0,     0],\n",
      "        [    0,  1711, 48569,     0,   138,   421,    54,     0,     0],\n",
      "        [ 1716,  1205,  7960, 30451,   120,   391,   365,     0,   277],\n",
      "        [   72,  1577,  3020,  1406, 36301,   138,     4,     0,   165],\n",
      "        [    0,  1627,  5768,     0,   143, 35438,   153,     9,     0],\n",
      "        [  709,  1317, 32153,  5456,    66,  1125,  1899,     0,    36],\n",
      "        [    0,   109,   121,     0,   123,     0,     5, 42231,     0],\n",
      "        [    0,  1232,     0,     0,     0,     0,     0,     0, 42078]])\n"
     ]
    },
    {
     "data": {
      "application/vnd.jupyter.widget-view+json": {
       "model_id": "71a09b0e4fb740458df53e69c7905c7f",
       "version_major": 2,
       "version_minor": 0
      },
      "text/plain": [
       "Validation: |          | 0/? [00:00<?, ?it/s]"
      ]
     },
     "metadata": {},
     "output_type": "display_data"
    },
    {
     "name": "stdout",
     "output_type": "stream",
     "text": [
      "Epoch end: Validation, epoch number: 19\n",
      "ValidationEpoch/CM\n",
      " tensor([[32042,  1217,  7378,  2275,   111,   324,     1,     0,   165],\n",
      "        [  121, 45777,     1,     0,   204,     0,     0,     0,     0],\n",
      "        [    0,  1711, 51341,     0,   138,   445,    78,     0,     0],\n",
      "        [ 1898,  1205,  7961, 32552,   125,   405,   417,     0,   277],\n",
      "        [   86,  1577,  3058,  1516, 38499,   138,     9,     0,   165],\n",
      "        [    0,  1627,  5925,     0,   143, 37661,   163,     9,     0],\n",
      "        [  791,  1317, 33449,  5863,    71,  1190,  2414,     0,    36],\n",
      "        [    0,   109,   121,     0,   123,     0,     5, 44591,     0],\n",
      "        [    0,  1232,     0,     0,     0,     0,     0,     0, 44478]])\n",
      "Epoch end: Train, epoch number: 18\n",
      "TrainEpoch/CM\n",
      " tensor([[32042,  1217,  7378,  2275,   111,   324,     1,     0,   165],\n",
      "        [  121, 45777,     1,     0,   204,     0,     0,     0,     0],\n",
      "        [    0,  1711, 51341,     0,   138,   445,    78,     0,     0],\n",
      "        [ 1898,  1205,  7961, 32552,   125,   405,   417,     0,   277],\n",
      "        [   86,  1577,  3058,  1516, 38499,   138,     9,     0,   165],\n",
      "        [    0,  1627,  5925,     0,   143, 37661,   163,     9,     0],\n",
      "        [  791,  1317, 33449,  5863,    71,  1190,  2414,     0,    36],\n",
      "        [    0,   109,   121,     0,   123,     0,     5, 44591,     0],\n",
      "        [    0,  1232,     0,     0,     0,     0,     0,     0, 44478]])\n"
     ]
    },
    {
     "data": {
      "application/vnd.jupyter.widget-view+json": {
       "model_id": "ff1e9c7d495b498ba68a62ddd1319dc2",
       "version_major": 2,
       "version_minor": 0
      },
      "text/plain": [
       "Validation: |          | 0/? [00:00<?, ?it/s]"
      ]
     },
     "metadata": {},
     "output_type": "display_data"
    },
    {
     "name": "stdout",
     "output_type": "stream",
     "text": [
      "Epoch end: Validation, epoch number: 20\n",
      "ValidationEpoch/CM\n",
      " tensor([[34272,  1217,  7383,  2315,   116,   329,     1,     0,   165],\n",
      "        [  121, 48197,     1,     0,   204,     0,     0,     0,     0],\n",
      "        [    0,  1711, 54113,     0,   138,   469,   102,     0,     0],\n",
      "        [ 2057,  1205,  7961, 34689,   130,   414,   462,     0,   277],\n",
      "        [   94,  1577,  3091,  1639, 40695,   138,    14,     0,   165],\n",
      "        [    0,  1627,  6073,     0,   143, 39893,   173,     9,     0],\n",
      "        [  868,  1317, 34733,  6331,    76,  1255,  2885,     0,    36],\n",
      "        [    0,   109,   121,     0,   123,     0,     5, 46951,     0],\n",
      "        [    0,  1232,     0,     0,     0,     0,     0,     0, 46878]])\n",
      "Epoch end: Train, epoch number: 19\n",
      "TrainEpoch/CM\n",
      " tensor([[34272,  1217,  7383,  2315,   116,   329,     1,     0,   165],\n",
      "        [  121, 48197,     1,     0,   204,     0,     0,     0,     0],\n",
      "        [    0,  1711, 54113,     0,   138,   469,   102,     0,     0],\n",
      "        [ 2057,  1205,  7961, 34689,   130,   414,   462,     0,   277],\n",
      "        [   94,  1577,  3091,  1639, 40695,   138,    14,     0,   165],\n",
      "        [    0,  1627,  6073,     0,   143, 39893,   173,     9,     0],\n",
      "        [  868,  1317, 34733,  6331,    76,  1255,  2885,     0,    36],\n",
      "        [    0,   109,   121,     0,   123,     0,     5, 46951,     0],\n",
      "        [    0,  1232,     0,     0,     0,     0,     0,     0, 46878]])\n"
     ]
    },
    {
     "data": {
      "application/vnd.jupyter.widget-view+json": {
       "model_id": "dd80ba96b0cf4fae927c6379f6cae3d3",
       "version_major": 2,
       "version_minor": 0
      },
      "text/plain": [
       "Validation: |          | 0/? [00:00<?, ?it/s]"
      ]
     },
     "metadata": {},
     "output_type": "display_data"
    },
    {
     "name": "stdout",
     "output_type": "stream",
     "text": [
      "Epoch end: Validation, epoch number: 21\n",
      "ValidationEpoch/CM\n",
      " tensor([[36501,  1217,  7388,  2361,   121,   329,     1,     0,   165],\n",
      "        [  121, 50617,     1,     0,   204,     0,     0,     0,     0],\n",
      "        [    0,  1711, 56885,     0,   138,   493,   126,     0,     0],\n",
      "        [ 2206,  1205,  7962, 36834,   135,   422,   509,     0,   277],\n",
      "        [  101,  1577,  3131,  1759, 42890,   138,    17,     0,   165],\n",
      "        [    0,  1627,  6220,     0,   143, 42126,   183,     9,     0],\n",
      "        [  937,  1317, 36009,  6784,    81,  1320,  3387,     0,    36],\n",
      "        [    0,   109,   121,     0,   123,     0,     5, 49311,     0],\n",
      "        [    0,  1232,     0,     0,     0,     0,     0,     0, 49278]])\n",
      "Epoch end: Train, epoch number: 20\n",
      "TrainEpoch/CM\n",
      " tensor([[36501,  1217,  7388,  2361,   121,   329,     1,     0,   165],\n",
      "        [  121, 50617,     1,     0,   204,     0,     0,     0,     0],\n",
      "        [    0,  1711, 56885,     0,   138,   493,   126,     0,     0],\n",
      "        [ 2206,  1205,  7962, 36834,   135,   422,   509,     0,   277],\n",
      "        [  101,  1577,  3131,  1759, 42890,   138,    17,     0,   165],\n",
      "        [    0,  1627,  6220,     0,   143, 42126,   183,     9,     0],\n",
      "        [  937,  1317, 36009,  6784,    81,  1320,  3387,     0,    36],\n",
      "        [    0,   109,   121,     0,   123,     0,     5, 49311,     0],\n",
      "        [    0,  1232,     0,     0,     0,     0,     0,     0, 49278]])\n"
     ]
    },
    {
     "name": "stderr",
     "output_type": "stream",
     "text": [
      "Metric Validation/Accuracy improved by 0.011 >= min_delta = 0.0. New best score: 0.890\n"
     ]
    },
    {
     "data": {
      "application/vnd.jupyter.widget-view+json": {
       "model_id": "600aa726819b4ccb8531cbb8628456a5",
       "version_major": 2,
       "version_minor": 0
      },
      "text/plain": [
       "Validation: |          | 0/? [00:00<?, ?it/s]"
      ]
     },
     "metadata": {},
     "output_type": "display_data"
    },
    {
     "name": "stdout",
     "output_type": "stream",
     "text": [
      "Epoch end: Validation, epoch number: 22\n",
      "ValidationEpoch/CM\n",
      " tensor([[38729,  1217,  7393,  2408,   126,   329,     1,     0,   165],\n",
      "        [  121, 53037,     1,     0,   204,     0,     0,     0,     0],\n",
      "        [    0,  1711, 59657,     0,   138,   517,   150,     0,     0],\n",
      "        [ 2355,  1205,  7962, 38979,   140,   427,   560,     0,   277],\n",
      "        [  108,  1577,  3167,  1883, 45084,   138,    21,     0,   165],\n",
      "        [    0,  1627,  6349,     0,   143, 44377,   193,     9,     0],\n",
      "        [ 1013,  1317, 37211,  7242,    86,  1385,  3951,     0,    36],\n",
      "        [    0,   109,   121,     0,   123,     1,     5, 51670,     0],\n",
      "        [    0,  1232,     0,     0,     0,     0,     0,     0, 51678]])\n",
      "Epoch end: Train, epoch number: 21\n",
      "TrainEpoch/CM\n",
      " tensor([[38729,  1217,  7393,  2408,   126,   329,     1,     0,   165],\n",
      "        [  121, 53037,     1,     0,   204,     0,     0,     0,     0],\n",
      "        [    0,  1711, 59657,     0,   138,   517,   150,     0,     0],\n",
      "        [ 2355,  1205,  7962, 38979,   140,   427,   560,     0,   277],\n",
      "        [  108,  1577,  3167,  1883, 45084,   138,    21,     0,   165],\n",
      "        [    0,  1627,  6349,     0,   143, 44377,   193,     9,     0],\n",
      "        [ 1013,  1317, 37211,  7242,    86,  1385,  3951,     0,    36],\n",
      "        [    0,   109,   121,     0,   123,     1,     5, 51670,     0],\n",
      "        [    0,  1232,     0,     0,     0,     0,     0,     0, 51678]])\n"
     ]
    },
    {
     "data": {
      "application/vnd.jupyter.widget-view+json": {
       "model_id": "4a92cf0e73c24b0381195ea2e670e67c",
       "version_major": 2,
       "version_minor": 0
      },
      "text/plain": [
       "Validation: |          | 0/? [00:00<?, ?it/s]"
      ]
     },
     "metadata": {},
     "output_type": "display_data"
    },
    {
     "name": "stdout",
     "output_type": "stream",
     "text": [
      "Epoch end: Validation, epoch number: 23\n",
      "ValidationEpoch/CM\n",
      " tensor([[40971,  1217,  7398,  2441,   131,   329,     1,     0,   165],\n",
      "        [  121, 55457,     1,     0,   204,     0,     0,     0,     0],\n",
      "        [    0,  1711, 62429,     0,   138,   541,   174,     0,     0],\n",
      "        [ 2509,  1205,  7962, 41116,   145,   432,   614,     0,   277],\n",
      "        [  115,  1577,  3202,  2001, 47284,   138,    26,     0,   165],\n",
      "        [    0,  1627,  6469,     0,   143, 46637,   203,     9,     0],\n",
      "        [ 1091,  1317, 38359,  7675,    91,  1450,  4592,     0,    36],\n",
      "        [    0,   109,   121,     0,   123,     3,     5, 54028,     0],\n",
      "        [    0,  1232,     0,     0,     0,     0,     0,     0, 54078]])\n",
      "Epoch end: Train, epoch number: 22\n"
     ]
    },
    {
     "name": "stderr",
     "output_type": "stream",
     "text": [
      "Metric Validation/Accuracy improved by 0.001 >= min_delta = 0.0. New best score: 0.891\n"
     ]
    },
    {
     "name": "stdout",
     "output_type": "stream",
     "text": [
      "TrainEpoch/CM\n",
      " tensor([[40971,  1217,  7398,  2441,   131,   329,     1,     0,   165],\n",
      "        [  121, 55457,     1,     0,   204,     0,     0,     0,     0],\n",
      "        [    0,  1711, 62429,     0,   138,   541,   174,     0,     0],\n",
      "        [ 2509,  1205,  7962, 41116,   145,   432,   614,     0,   277],\n",
      "        [  115,  1577,  3202,  2001, 47284,   138,    26,     0,   165],\n",
      "        [    0,  1627,  6469,     0,   143, 46637,   203,     9,     0],\n",
      "        [ 1091,  1317, 38359,  7675,    91,  1450,  4592,     0,    36],\n",
      "        [    0,   109,   121,     0,   123,     3,     5, 54028,     0],\n",
      "        [    0,  1232,     0,     0,     0,     0,     0,     0, 54078]])\n"
     ]
    },
    {
     "data": {
      "application/vnd.jupyter.widget-view+json": {
       "model_id": "71e45968ccfa4b87902256258448958b",
       "version_major": 2,
       "version_minor": 0
      },
      "text/plain": [
       "Validation: |          | 0/? [00:00<?, ?it/s]"
      ]
     },
     "metadata": {},
     "output_type": "display_data"
    },
    {
     "name": "stdout",
     "output_type": "stream",
     "text": [
      "Epoch end: Validation, epoch number: 24\n",
      "ValidationEpoch/CM\n",
      " tensor([[43213,  1217,  7403,  2474,   136,   329,     1,     0,   165],\n",
      "        [  121, 57877,     1,     0,   204,     0,     0,     0,     0],\n",
      "        [    0,  1711, 65201,     0,   138,   565,   198,     0,     0],\n",
      "        [ 2666,  1205,  7962, 43252,   150,   437,   666,     0,   277],\n",
      "        [  125,  1577,  3238,  2116, 49482,   138,    32,     0,   165],\n",
      "        [    0,  1627,  6594,     0,   143, 48892,   213,     9,     0],\n",
      "        [ 1162,  1317, 39509,  8102,    96,  1515,  5244,     0,    36],\n",
      "        [    0,   109,   121,     0,   123,     9,     5, 56382,     0],\n",
      "        [    0,  1232,     0,     0,     0,     0,     0,     0, 56478]])\n",
      "Epoch end: Train, epoch number: 23\n",
      "TrainEpoch/CM\n",
      " tensor([[43213,  1217,  7403,  2474,   136,   329,     1,     0,   165],\n",
      "        [  121, 57877,     1,     0,   204,     0,     0,     0,     0],\n",
      "        [    0,  1711, 65201,     0,   138,   565,   198,     0,     0],\n",
      "        [ 2666,  1205,  7962, 43252,   150,   437,   666,     0,   277],\n",
      "        [  125,  1577,  3238,  2116, 49482,   138,    32,     0,   165],\n",
      "        [    0,  1627,  6594,     0,   143, 48892,   213,     9,     0],\n",
      "        [ 1162,  1317, 39509,  8102,    96,  1515,  5244,     0,    36],\n",
      "        [    0,   109,   121,     0,   123,     9,     5, 56382,     0],\n",
      "        [    0,  1232,     0,     0,     0,     0,     0,     0, 56478]])\n"
     ]
    },
    {
     "data": {
      "application/vnd.jupyter.widget-view+json": {
       "model_id": "f1ba1616c116411b90d01dd30075ef6f",
       "version_major": 2,
       "version_minor": 0
      },
      "text/plain": [
       "Validation: |          | 0/? [00:00<?, ?it/s]"
      ]
     },
     "metadata": {},
     "output_type": "display_data"
    },
    {
     "name": "stdout",
     "output_type": "stream",
     "text": [
      "Epoch end: Validation, epoch number: 25\n",
      "ValidationEpoch/CM\n",
      " tensor([[45446,  1217,  7407,  2516,   141,   329,     2,     0,   165],\n",
      "        [  121, 60297,     1,     0,   204,     0,     0,     0,     0],\n",
      "        [    0,  1711, 67971,     0,   138,   589,   224,     0,     0],\n",
      "        [ 2800,  1205,  7962, 45407,   155,   442,   722,     0,   277],\n",
      "        [  131,  1577,  3273,  2235, 51680,   138,    39,     0,   165],\n",
      "        [    0,  1627,  6701,     0,   143, 51165,   223,     9,     0],\n",
      "        [ 1223,  1317, 40564,  8538,   101,  1580,  5992,     0,    36],\n",
      "        [    0,   109,   121,     0,   123,    16,     5, 58735,     0],\n",
      "        [    0,  1232,     0,     0,     0,     0,     0,     0, 58878]])\n",
      "Epoch end: Train, epoch number: 24\n",
      "TrainEpoch/CM\n",
      " tensor([[45446,  1217,  7407,  2516,   141,   329,     2,     0,   165],\n",
      "        [  121, 60297,     1,     0,   204,     0,     0,     0,     0],\n",
      "        [    0,  1711, 67971,     0,   138,   589,   224,     0,     0],\n",
      "        [ 2800,  1205,  7962, 45407,   155,   442,   722,     0,   277],\n",
      "        [  131,  1577,  3273,  2235, 51680,   138,    39,     0,   165],\n",
      "        [    0,  1627,  6701,     0,   143, 51165,   223,     9,     0],\n",
      "        [ 1223,  1317, 40564,  8538,   101,  1580,  5992,     0,    36],\n",
      "        [    0,   109,   121,     0,   123,    16,     5, 58735,     0],\n",
      "        [    0,  1232,     0,     0,     0,     0,     0,     0, 58878]])\n"
     ]
    },
    {
     "data": {
      "application/vnd.jupyter.widget-view+json": {
       "model_id": "d0b13fee1363423fafe408f8e850fdd7",
       "version_major": 2,
       "version_minor": 0
      },
      "text/plain": [
       "Validation: |          | 0/? [00:00<?, ?it/s]"
      ]
     },
     "metadata": {},
     "output_type": "display_data"
    },
    {
     "name": "stdout",
     "output_type": "stream",
     "text": [
      "Epoch end: Validation, epoch number: 26\n",
      "ValidationEpoch/CM\n",
      " tensor([[47684,  1217,  7412,  2553,   146,   329,     2,     0,   165],\n",
      "        [  121, 62717,     1,     0,   204,     0,     0,     0,     0],\n",
      "        [    0,  1711, 70742,     0,   138,   613,   249,     0,     0],\n",
      "        [ 2932,  1205,  7962, 47560,   160,   447,   782,     0,   277],\n",
      "        [  138,  1577,  3308,  2353, 53879,   138,    45,     0,   165],\n",
      "        [    0,  1627,  6802,     0,   143, 53444,   233,     9,     0],\n",
      "        [ 1284,  1317, 41660,  8968,   106,  1645,  6705,     0,    36],\n",
      "        [    0,   109,   121,     0,   123,    26,     5, 61085,     0],\n",
      "        [    0,  1232,     0,     0,     0,     0,     0,     0, 61278]])\n",
      "Epoch end: Train, epoch number: 25\n",
      "TrainEpoch/CM\n",
      " tensor([[47684,  1217,  7412,  2553,   146,   329,     2,     0,   165],\n",
      "        [  121, 62717,     1,     0,   204,     0,     0,     0,     0],\n",
      "        [    0,  1711, 70742,     0,   138,   613,   249,     0,     0],\n",
      "        [ 2932,  1205,  7962, 47560,   160,   447,   782,     0,   277],\n",
      "        [  138,  1577,  3308,  2353, 53879,   138,    45,     0,   165],\n",
      "        [    0,  1627,  6802,     0,   143, 53444,   233,     9,     0],\n",
      "        [ 1284,  1317, 41660,  8968,   106,  1645,  6705,     0,    36],\n",
      "        [    0,   109,   121,     0,   123,    26,     5, 61085,     0],\n",
      "        [    0,  1232,     0,     0,     0,     0,     0,     0, 61278]])\n"
     ]
    },
    {
     "data": {
      "application/vnd.jupyter.widget-view+json": {
       "model_id": "471d0378d18d45faa720180c2ecf1b06",
       "version_major": 2,
       "version_minor": 0
      },
      "text/plain": [
       "Validation: |          | 0/? [00:00<?, ?it/s]"
      ]
     },
     "metadata": {},
     "output_type": "display_data"
    },
    {
     "name": "stdout",
     "output_type": "stream",
     "text": [
      "Epoch end: Validation, epoch number: 27\n",
      "ValidationEpoch/CM\n",
      " tensor([[49925,  1217,  7417,  2587,   151,   329,     2,     0,   165],\n",
      "        [  121, 65137,     1,     0,   204,     0,     0,     0,     0],\n",
      "        [    0,  1711, 73511,     0,   138,   637,   276,     0,     0],\n",
      "        [ 3067,  1205,  7962, 49716,   165,   452,   836,     0,   277],\n",
      "        [  148,  1577,  3343,  2468, 56074,   138,    55,     0,   165],\n",
      "        [    0,  1627,  6904,     0,   143, 55722,   243,     9,     0],\n",
      "        [ 1346,  1317, 42721,  9392,   111,  1706,  7462,     0,    36],\n",
      "        [    0,   109,   121,     0,   123,    36,     5, 63435,     0],\n",
      "        [    0,  1232,     0,     0,     0,     0,     0,     0, 63678]])\n"
     ]
    },
    {
     "name": "stderr",
     "output_type": "stream",
     "text": [
      "Metric Validation/Accuracy improved by 0.011 >= min_delta = 0.0. New best score: 0.902\n"
     ]
    },
    {
     "name": "stdout",
     "output_type": "stream",
     "text": [
      "Epoch end: Train, epoch number: 26\n",
      "TrainEpoch/CM\n",
      " tensor([[49925,  1217,  7417,  2587,   151,   329,     2,     0,   165],\n",
      "        [  121, 65137,     1,     0,   204,     0,     0,     0,     0],\n",
      "        [    0,  1711, 73511,     0,   138,   637,   276,     0,     0],\n",
      "        [ 3067,  1205,  7962, 49716,   165,   452,   836,     0,   277],\n",
      "        [  148,  1577,  3343,  2468, 56074,   138,    55,     0,   165],\n",
      "        [    0,  1627,  6904,     0,   143, 55722,   243,     9,     0],\n",
      "        [ 1346,  1317, 42721,  9392,   111,  1706,  7462,     0,    36],\n",
      "        [    0,   109,   121,     0,   123,    36,     5, 63435,     0],\n",
      "        [    0,  1232,     0,     0,     0,     0,     0,     0, 63678]])\n"
     ]
    },
    {
     "data": {
      "application/vnd.jupyter.widget-view+json": {
       "model_id": "9289421c8d74468fa1219105d5c239c9",
       "version_major": 2,
       "version_minor": 0
      },
      "text/plain": [
       "Validation: |          | 0/? [00:00<?, ?it/s]"
      ]
     },
     "metadata": {},
     "output_type": "display_data"
    },
    {
     "name": "stdout",
     "output_type": "stream",
     "text": [
      "Epoch end: Validation, epoch number: 28\n",
      "ValidationEpoch/CM\n",
      " tensor([[52162,  1217,  7422,  2625,   156,   329,     2,     0,   165],\n",
      "        [  121, 67557,     1,     0,   204,     0,     0,     0,     0],\n",
      "        [    0,  1711, 76283,     0,   138,   653,   308,     0,     0],\n",
      "        [ 3208,  1205,  7962, 51864,   170,   457,   892,     0,   277],\n",
      "        [  154,  1577,  3376,  2589, 58273,   138,    61,     0,   165],\n",
      "        [    0,  1627,  6994,     0,   143, 58012,   253,     9,     0],\n",
      "        [ 1417,  1317, 43752,  9820,   116,  1762,  8241,     0,    36],\n",
      "        [    0,   109,   121,     0,   123,    46,     5, 65785,     0],\n",
      "        [    0,  1232,     0,     0,     0,     0,     0,     0, 66078]])\n",
      "Epoch end: Train, epoch number: 27\n",
      "TrainEpoch/CM\n",
      " tensor([[52162,  1217,  7422,  2625,   156,   329,     2,     0,   165],\n",
      "        [  121, 67557,     1,     0,   204,     0,     0,     0,     0],\n",
      "        [    0,  1711, 76283,     0,   138,   653,   308,     0,     0],\n",
      "        [ 3208,  1205,  7962, 51864,   170,   457,   892,     0,   277],\n",
      "        [  154,  1577,  3376,  2589, 58273,   138,    61,     0,   165],\n",
      "        [    0,  1627,  6994,     0,   143, 58012,   253,     9,     0],\n",
      "        [ 1417,  1317, 43752,  9820,   116,  1762,  8241,     0,    36],\n",
      "        [    0,   109,   121,     0,   123,    46,     5, 65785,     0],\n",
      "        [    0,  1232,     0,     0,     0,     0,     0,     0, 66078]])\n"
     ]
    },
    {
     "data": {
      "application/vnd.jupyter.widget-view+json": {
       "model_id": "32fdf5ad958640a39d819bcd774db796",
       "version_major": 2,
       "version_minor": 0
      },
      "text/plain": [
       "Validation: |          | 0/? [00:00<?, ?it/s]"
      ]
     },
     "metadata": {},
     "output_type": "display_data"
    },
    {
     "name": "stdout",
     "output_type": "stream",
     "text": [
      "Epoch end: Validation, epoch number: 29\n",
      "ValidationEpoch/CM\n",
      " tensor([[54413,  1217,  7426,  2649,   161,   329,     3,     0,   165],\n",
      "        [  121, 69977,     1,     0,   204,     0,     0,     0,     0],\n",
      "        [    0,  1711, 79054,     0,   138,   665,   345,     0,     0],\n",
      "        [ 3355,  1205,  7962, 54001,   175,   462,   953,     0,   277],\n",
      "        [  162,  1577,  3411,  2706, 60469,   138,    70,     0,   165],\n",
      "        [    0,  1627,  7083,     0,   143, 60303,   263,     9,     0],\n",
      "        [ 1475,  1317, 44740, 10216,   121,  1808,  9118,     0,    36],\n",
      "        [    0,   109,   121,     0,   123,    56,     5, 68135,     0],\n",
      "        [    0,  1232,     0,     0,     0,     0,     0,     0, 68478]])\n",
      "Epoch end: Train, epoch number: 28\n",
      "TrainEpoch/CM\n",
      " tensor([[54413,  1217,  7426,  2649,   161,   329,     3,     0,   165],\n",
      "        [  121, 69977,     1,     0,   204,     0,     0,     0,     0],\n",
      "        [    0,  1711, 79054,     0,   138,   665,   345,     0,     0],\n",
      "        [ 3355,  1205,  7962, 54001,   175,   462,   953,     0,   277],\n",
      "        [  162,  1577,  3411,  2706, 60469,   138,    70,     0,   165],\n",
      "        [    0,  1627,  7083,     0,   143, 60303,   263,     9,     0],\n",
      "        [ 1475,  1317, 44740, 10216,   121,  1808,  9118,     0,    36],\n",
      "        [    0,   109,   121,     0,   123,    56,     5, 68135,     0],\n",
      "        [    0,  1232,     0,     0,     0,     0,     0,     0, 68478]])\n"
     ]
    },
    {
     "name": "stderr",
     "output_type": "stream",
     "text": [
      "Metric Validation/Accuracy improved by 0.004 >= min_delta = 0.0. New best score: 0.905\n"
     ]
    },
    {
     "data": {
      "application/vnd.jupyter.widget-view+json": {
       "model_id": "727b1cff52194edb82289ab2704531b0",
       "version_major": 2,
       "version_minor": 0
      },
      "text/plain": [
       "Validation: |          | 0/? [00:00<?, ?it/s]"
      ]
     },
     "metadata": {},
     "output_type": "display_data"
    },
    {
     "name": "stdout",
     "output_type": "stream",
     "text": [
      "Epoch end: Validation, epoch number: 30\n",
      "ValidationEpoch/CM\n",
      " tensor([[56657,  1217,  7427,  2680,   166,   329,     7,     0,   165],\n",
      "        [  121, 72397,     1,     0,   204,     0,     0,     0,     0],\n",
      "        [    0,  1711, 81820,     0,   138,   677,   387,     0,     0],\n",
      "        [ 3479,  1205,  7962, 56149,   180,   467,  1026,     0,   277],\n",
      "        [  168,  1577,  3446,  2825, 62663,   138,    81,     0,   165],\n",
      "        [    0,  1627,  7185,     0,   143, 62581,   273,     9,     0],\n",
      "        [ 1525,  1317, 45713, 10605,   124,  1848, 10033,     0,    36],\n",
      "        [    0,   109,   121,     0,   123,    66,     5, 70485,     0],\n",
      "        [    0,  1232,     0,     0,     0,     0,     0,     0, 70878]])\n",
      "Epoch end: Train, epoch number: 29\n",
      "TrainEpoch/CM\n",
      " tensor([[56657,  1217,  7427,  2680,   166,   329,     7,     0,   165],\n",
      "        [  121, 72397,     1,     0,   204,     0,     0,     0,     0],\n",
      "        [    0,  1711, 81820,     0,   138,   677,   387,     0,     0],\n",
      "        [ 3479,  1205,  7962, 56149,   180,   467,  1026,     0,   277],\n",
      "        [  168,  1577,  3446,  2825, 62663,   138,    81,     0,   165],\n",
      "        [    0,  1627,  7185,     0,   143, 62581,   273,     9,     0],\n",
      "        [ 1525,  1317, 45713, 10605,   124,  1848, 10033,     0,    36],\n",
      "        [    0,   109,   121,     0,   123,    66,     5, 70485,     0],\n",
      "        [    0,  1232,     0,     0,     0,     0,     0,     0, 70878]])\n"
     ]
    },
    {
     "data": {
      "application/vnd.jupyter.widget-view+json": {
       "model_id": "ea335c9be279460ea4d7ab2b96e09979",
       "version_major": 2,
       "version_minor": 0
      },
      "text/plain": [
       "Validation: |          | 0/? [00:00<?, ?it/s]"
      ]
     },
     "metadata": {},
     "output_type": "display_data"
    },
    {
     "name": "stdout",
     "output_type": "stream",
     "text": [
      "Epoch end: Validation, epoch number: 31\n",
      "ValidationEpoch/CM\n",
      " tensor([[58911,  1219,  7427,  2702,   169,   329,    11,     0,   165],\n",
      "        [  121, 74817,     1,     0,   204,     0,     0,     0,     0],\n",
      "        [    0,  1711, 84576,     0,   138,   689,   439,     0,     0],\n",
      "        [ 3620,  1205,  7962, 58286,   185,   470,  1095,     0,   277],\n",
      "        [  177,  1577,  3477,  2944, 64857,   138,    93,     0,   165],\n",
      "        [    0,  1627,  7268,     0,   143, 64878,   283,     9,     0],\n",
      "        [ 1583,  1317, 46661, 11007,   128,  1888, 10951,     0,    36],\n",
      "        [    0,   109,   121,     0,   123,    76,     5, 72835,     0],\n",
      "        [    0,  1232,     0,     0,     0,     0,     0,     0, 73278]])\n",
      "Epoch end: Train, epoch number: 30\n",
      "TrainEpoch/CM\n",
      " tensor([[58911,  1219,  7427,  2702,   169,   329,    11,     0,   165],\n",
      "        [  121, 74817,     1,     0,   204,     0,     0,     0,     0],\n",
      "        [    0,  1711, 84576,     0,   138,   689,   439,     0,     0],\n",
      "        [ 3620,  1205,  7962, 58286,   185,   470,  1095,     0,   277],\n",
      "        [  177,  1577,  3477,  2944, 64857,   138,    93,     0,   165],\n",
      "        [    0,  1627,  7268,     0,   143, 64878,   283,     9,     0],\n",
      "        [ 1583,  1317, 46661, 11007,   128,  1888, 10951,     0,    36],\n",
      "        [    0,   109,   121,     0,   123,    76,     5, 72835,     0],\n",
      "        [    0,  1232,     0,     0,     0,     0,     0,     0, 73278]])\n"
     ]
    },
    {
     "name": "stderr",
     "output_type": "stream",
     "text": [
      "Metric Validation/Accuracy improved by 0.002 >= min_delta = 0.0. New best score: 0.907\n"
     ]
    },
    {
     "data": {
      "application/vnd.jupyter.widget-view+json": {
       "model_id": "6495b81548994b1083c7659cf1cd74d4",
       "version_major": 2,
       "version_minor": 0
      },
      "text/plain": [
       "Validation: |          | 0/? [00:00<?, ?it/s]"
      ]
     },
     "metadata": {},
     "output_type": "display_data"
    },
    {
     "name": "stdout",
     "output_type": "stream",
     "text": [
      "Epoch end: Validation, epoch number: 32\n",
      "ValidationEpoch/CM\n",
      " tensor([[61157,  1224,  7430,  2731,   169,   329,    13,     0,   165],\n",
      "        [  121, 77237,     1,     0,   204,     0,     0,     0,     0],\n",
      "        [    0,  1711, 87335,     0,   138,   701,   488,     0,     0],\n",
      "        [ 3742,  1205,  7962, 60440,   190,   470,  1169,     0,   277],\n",
      "        [  182,  1577,  3512,  3066, 67050,   138,   103,     0,   165],\n",
      "        [    0,  1627,  7357,     0,   143, 67169,   293,     9,     0],\n",
      "        [ 1622,  1317, 47614, 11404,   133,  1928, 11887,     0,    36],\n",
      "        [    0,   109,   121,     0,   123,    86,     5, 75185,     0],\n",
      "        [    0,  1232,     0,     0,     0,     0,     0,     0, 75678]])\n",
      "Epoch end: Train, epoch number: 31\n",
      "TrainEpoch/CM\n",
      " tensor([[61157,  1224,  7430,  2731,   169,   329,    13,     0,   165],\n",
      "        [  121, 77237,     1,     0,   204,     0,     0,     0,     0],\n",
      "        [    0,  1711, 87335,     0,   138,   701,   488,     0,     0],\n",
      "        [ 3742,  1205,  7962, 60440,   190,   470,  1169,     0,   277],\n",
      "        [  182,  1577,  3512,  3066, 67050,   138,   103,     0,   165],\n",
      "        [    0,  1627,  7357,     0,   143, 67169,   293,     9,     0],\n",
      "        [ 1622,  1317, 47614, 11404,   133,  1928, 11887,     0,    36],\n",
      "        [    0,   109,   121,     0,   123,    86,     5, 75185,     0],\n",
      "        [    0,  1232,     0,     0,     0,     0,     0,     0, 75678]])\n"
     ]
    },
    {
     "data": {
      "application/vnd.jupyter.widget-view+json": {
       "model_id": "728003593b95481ab0298d3d0cceff08",
       "version_major": 2,
       "version_minor": 0
      },
      "text/plain": [
       "Validation: |          | 0/? [00:00<?, ?it/s]"
      ]
     },
     "metadata": {},
     "output_type": "display_data"
    },
    {
     "name": "stdout",
     "output_type": "stream",
     "text": [
      "Epoch end: Validation, epoch number: 33\n",
      "ValidationEpoch/CM\n",
      " tensor([[63409,  1229,  7432,  2754,   169,   329,    16,     0,   165],\n",
      "        [  121, 79657,     1,     0,   204,     0,     0,     0,     0],\n",
      "        [    0,  1711, 90091,     0,   138,   713,   540,     0,     0],\n",
      "        [ 3870,  1205,  7962, 62586,   195,   470,  1245,     0,   277],\n",
      "        [  190,  1577,  3547,  3183, 69246,   138,   112,     0,   165],\n",
      "        [    0,  1627,  7437,     0,   143, 69469,   303,     9,     0],\n",
      "        [ 1670,  1317, 48536, 11790,   138,  1968, 12856,     0,    36],\n",
      "        [    0,   109,   121,     0,   123,    96,     5, 77535,     0],\n",
      "        [    0,  1232,     0,     0,     0,     0,     0,     0, 78078]])\n",
      "Epoch end: Train, epoch number: 32\n",
      "TrainEpoch/CM\n",
      " tensor([[63409,  1229,  7432,  2754,   169,   329,    16,     0,   165],\n",
      "        [  121, 79657,     1,     0,   204,     0,     0,     0,     0],\n",
      "        [    0,  1711, 90091,     0,   138,   713,   540,     0,     0],\n",
      "        [ 3870,  1205,  7962, 62586,   195,   470,  1245,     0,   277],\n",
      "        [  190,  1577,  3547,  3183, 69246,   138,   112,     0,   165],\n",
      "        [    0,  1627,  7437,     0,   143, 69469,   303,     9,     0],\n",
      "        [ 1670,  1317, 48536, 11790,   138,  1968, 12856,     0,    36],\n",
      "        [    0,   109,   121,     0,   123,    96,     5, 77535,     0],\n",
      "        [    0,  1232,     0,     0,     0,     0,     0,     0, 78078]])\n"
     ]
    },
    {
     "data": {
      "application/vnd.jupyter.widget-view+json": {
       "model_id": "04a2d433a0694be0802296c7afeeb54e",
       "version_major": 2,
       "version_minor": 0
      },
      "text/plain": [
       "Validation: |          | 0/? [00:00<?, ?it/s]"
      ]
     },
     "metadata": {},
     "output_type": "display_data"
    },
    {
     "name": "stdout",
     "output_type": "stream",
     "text": [
      "Epoch end: Validation, epoch number: 34\n",
      "ValidationEpoch/CM\n",
      " tensor([[65658,  1234,  7434,  2780,   169,   329,    19,     0,   165],\n",
      "        [  121, 82077,     1,     0,   204,     0,     0,     0,     0],\n",
      "        [    0,  1711, 92840,     0,   138,   725,   599,     0,     0],\n",
      "        [ 3988,  1205,  7962, 64743,   200,   470,  1320,     0,   277],\n",
      "        [  196,  1577,  3580,  3299, 71446,   138,   122,     0,   165],\n",
      "        [    0,  1627,  7512,     0,   143, 71774,   313,     9,     0],\n",
      "        [ 1717,  1317, 49429, 12177,   143,  2005, 13857,     0,    36],\n",
      "        [    0,   109,   121,     0,   123,   106,     5, 79885,     0],\n",
      "        [    0,  1232,     0,     0,     0,     0,     0,     0, 80478]])\n",
      "Epoch end: Train, epoch number: 33\n",
      "TrainEpoch/CM\n",
      " tensor([[65658,  1234,  7434,  2780,   169,   329,    19,     0,   165],\n",
      "        [  121, 82077,     1,     0,   204,     0,     0,     0,     0],\n",
      "        [    0,  1711, 92840,     0,   138,   725,   599,     0,     0],\n",
      "        [ 3988,  1205,  7962, 64743,   200,   470,  1320,     0,   277],\n",
      "        [  196,  1577,  3580,  3299, 71446,   138,   122,     0,   165],\n",
      "        [    0,  1627,  7512,     0,   143, 71774,   313,     9,     0],\n",
      "        [ 1717,  1317, 49429, 12177,   143,  2005, 13857,     0,    36],\n",
      "        [    0,   109,   121,     0,   123,   106,     5, 79885,     0],\n",
      "        [    0,  1232,     0,     0,     0,     0,     0,     0, 80478]])\n"
     ]
    },
    {
     "name": "stderr",
     "output_type": "stream",
     "text": [
      "Metric Validation/Accuracy improved by 0.005 >= min_delta = 0.0. New best score: 0.912\n"
     ]
    },
    {
     "data": {
      "application/vnd.jupyter.widget-view+json": {
       "model_id": "2b75622a085e4f9cb11d198a16f3e4a2",
       "version_major": 2,
       "version_minor": 0
      },
      "text/plain": [
       "Validation: |          | 0/? [00:00<?, ?it/s]"
      ]
     },
     "metadata": {},
     "output_type": "display_data"
    },
    {
     "name": "stdout",
     "output_type": "stream",
     "text": [
      "Epoch end: Validation, epoch number: 35\n",
      "ValidationEpoch/CM\n",
      " tensor([[67909,  1239,  7435,  2804,   169,   329,    23,     0,   165],\n",
      "        [  121, 84497,     1,     0,   204,     0,     0,     0,     0],\n",
      "        [    0,  1711, 95581,     0,   138,   737,   666,     0,     0],\n",
      "        [ 4106,  1205,  7962, 66899,   205,   470,  1396,     0,   277],\n",
      "        [  201,  1577,  3612,  3416, 73644,   138,   135,     0,   165],\n",
      "        [    0,  1627,  7580,     0,   143, 74087,   322,     9,     0],\n",
      "        [ 1755,  1317, 50275, 12561,   147,  2039, 14921,     0,    36],\n",
      "        [    0,   109,   121,     0,   123,   116,     5, 82235,     0],\n",
      "        [    0,  1232,     0,     0,     0,     0,     0,     0, 82878]])\n",
      "Epoch end: Train, epoch number: 34\n",
      "TrainEpoch/CM\n",
      " tensor([[67909,  1239,  7435,  2804,   169,   329,    23,     0,   165],\n",
      "        [  121, 84497,     1,     0,   204,     0,     0,     0,     0],\n",
      "        [    0,  1711, 95581,     0,   138,   737,   666,     0,     0],\n",
      "        [ 4106,  1205,  7962, 66899,   205,   470,  1396,     0,   277],\n",
      "        [  201,  1577,  3612,  3416, 73644,   138,   135,     0,   165],\n",
      "        [    0,  1627,  7580,     0,   143, 74087,   322,     9,     0],\n",
      "        [ 1755,  1317, 50275, 12561,   147,  2039, 14921,     0,    36],\n",
      "        [    0,   109,   121,     0,   123,   116,     5, 82235,     0],\n",
      "        [    0,  1232,     0,     0,     0,     0,     0,     0, 82878]])\n"
     ]
    },
    {
     "name": "stderr",
     "output_type": "stream",
     "text": [
      "Metric Validation/Accuracy improved by 0.004 >= min_delta = 0.0. New best score: 0.917\n"
     ]
    },
    {
     "data": {
      "application/vnd.jupyter.widget-view+json": {
       "model_id": "ee71ecf8a8e048c089dd9dc4ed24df7f",
       "version_major": 2,
       "version_minor": 0
      },
      "text/plain": [
       "Validation: |          | 0/? [00:00<?, ?it/s]"
      ]
     },
     "metadata": {},
     "output_type": "display_data"
    },
    {
     "name": "stdout",
     "output_type": "stream",
     "text": [
      "Epoch end: Validation, epoch number: 36\n",
      "ValidationEpoch/CM\n",
      " tensor([[70164,  1244,  7435,  2826,   169,   329,    26,     0,   165],\n",
      "        [  121, 86917,     1,     0,   204,     0,     0,     0,     0],\n",
      "        [    0,  1711, 98322,     0,   138,   749,   733,     0,     0],\n",
      "        [ 4228,  1205,  7962, 69048,   210,   470,  1475,     0,   277],\n",
      "        [  206,  1577,  3643,  3533, 75847,   138,   144,     0,   165],\n",
      "        [    0,  1627,  7651,     0,   143, 76398,   330,     9,     0],\n",
      "        [ 1791,  1317, 51114, 12931,   152,  2070, 16010,     0,    36],\n",
      "        [    0,   109,   121,     0,   123,   126,     5, 84585,     0],\n",
      "        [    0,  1232,     0,     0,     0,     0,     0,     0, 85278]])\n",
      "Epoch end: Train, epoch number: 35\n",
      "TrainEpoch/CM\n",
      " tensor([[70164,  1244,  7435,  2826,   169,   329,    26,     0,   165],\n",
      "        [  121, 86917,     1,     0,   204,     0,     0,     0,     0],\n",
      "        [    0,  1711, 98322,     0,   138,   749,   733,     0,     0],\n",
      "        [ 4228,  1205,  7962, 69048,   210,   470,  1475,     0,   277],\n",
      "        [  206,  1577,  3643,  3533, 75847,   138,   144,     0,   165],\n",
      "        [    0,  1627,  7651,     0,   143, 76398,   330,     9,     0],\n",
      "        [ 1791,  1317, 51114, 12931,   152,  2070, 16010,     0,    36],\n",
      "        [    0,   109,   121,     0,   123,   126,     5, 84585,     0],\n",
      "        [    0,  1232,     0,     0,     0,     0,     0,     0, 85278]])\n"
     ]
    },
    {
     "data": {
      "application/vnd.jupyter.widget-view+json": {
       "model_id": "0085765912604e22805839152d5c7ba5",
       "version_major": 2,
       "version_minor": 0
      },
      "text/plain": [
       "Validation: |          | 0/? [00:00<?, ?it/s]"
      ]
     },
     "metadata": {},
     "output_type": "display_data"
    },
    {
     "name": "stdout",
     "output_type": "stream",
     "text": [
      "Epoch end: Validation, epoch number: 37\n",
      "ValidationEpoch/CM\n",
      " tensor([[ 72419,   1249,   7435,   2847,    169,    329,     30,      0,    165],\n",
      "        [   121,  89337,      1,      0,    204,      0,      0,      0,      0],\n",
      "        [     0,   1711, 101060,      0,    138,    761,    803,      0,      0],\n",
      "        [  4347,   1205,   7962,  71198,    215,    470,   1556,      0,    277],\n",
      "        [   211,   1577,   3674,   3649,  78053,    138,    151,      0,    165],\n",
      "        [     0,   1627,   7717,      0,    143,  78715,    337,      9,      0],\n",
      "        [  1825,   1317,  51929,  13310,    156,   2098,  17120,      0,     36],\n",
      "        [     0,    109,    121,      0,    123,    136,      5,  86935,      0],\n",
      "        [     0,   1232,      0,      0,      0,      0,      0,      0,  87678]])\n",
      "Epoch end: Train, epoch number: 36\n",
      "TrainEpoch/CM\n",
      " tensor([[ 72419,   1249,   7435,   2847,    169,    329,     30,      0,    165],\n",
      "        [   121,  89337,      1,      0,    204,      0,      0,      0,      0],\n",
      "        [     0,   1711, 101060,      0,    138,    761,    803,      0,      0],\n",
      "        [  4347,   1205,   7962,  71198,    215,    470,   1556,      0,    277],\n",
      "        [   211,   1577,   3674,   3649,  78053,    138,    151,      0,    165],\n",
      "        [     0,   1627,   7717,      0,    143,  78715,    337,      9,      0],\n",
      "        [  1825,   1317,  51929,  13310,    156,   2098,  17120,      0,     36],\n",
      "        [     0,    109,    121,      0,    123,    136,      5,  86935,      0],\n",
      "        [     0,   1232,      0,      0,      0,      0,      0,      0,  87678]])\n"
     ]
    },
    {
     "data": {
      "application/vnd.jupyter.widget-view+json": {
       "model_id": "083aec0b2ecc4ff4bc836fc2b17cc513",
       "version_major": 2,
       "version_minor": 0
      },
      "text/plain": [
       "Validation: |          | 0/? [00:00<?, ?it/s]"
      ]
     },
     "metadata": {},
     "output_type": "display_data"
    },
    {
     "name": "stdout",
     "output_type": "stream",
     "text": [
      "Epoch end: Validation, epoch number: 38\n",
      "ValidationEpoch/CM\n",
      " tensor([[ 74665,   1254,   7435,   2876,    169,    329,     35,      0,    165],\n",
      "        [   121,  91757,      1,      0,    204,      0,      0,      0,      0],\n",
      "        [     0,   1711, 103801,      0,    138,    770,    873,      0,      0],\n",
      "        [  4446,   1205,   7962,  73376,    220,    470,   1629,      0,    277],\n",
      "        [   217,   1577,   3704,   3765,  80259,    138,    158,      0,    165],\n",
      "        [     0,   1627,   7784,      0,    143,  81033,    342,      9,      0],\n",
      "        [  1856,   1317,  52775,  13694,    160,   2119,  18204,      0,     36],\n",
      "        [     0,    109,    121,      0,    123,    146,      5,  89285,      0],\n",
      "        [     0,   1232,      0,      0,      0,      0,      0,      0,  90078]])\n",
      "Epoch end: Train, epoch number: 37\n",
      "TrainEpoch/CM\n",
      " tensor([[ 74665,   1254,   7435,   2876,    169,    329,     35,      0,    165],\n",
      "        [   121,  91757,      1,      0,    204,      0,      0,      0,      0],\n",
      "        [     0,   1711, 103801,      0,    138,    770,    873,      0,      0],\n",
      "        [  4446,   1205,   7962,  73376,    220,    470,   1629,      0,    277],\n",
      "        [   217,   1577,   3704,   3765,  80259,    138,    158,      0,    165],\n",
      "        [     0,   1627,   7784,      0,    143,  81033,    342,      9,      0],\n",
      "        [  1856,   1317,  52775,  13694,    160,   2119,  18204,      0,     36],\n",
      "        [     0,    109,    121,      0,    123,    146,      5,  89285,      0],\n",
      "        [     0,   1232,      0,      0,      0,      0,      0,      0,  90078]])\n"
     ]
    },
    {
     "name": "stderr",
     "output_type": "stream",
     "text": [
      "Metric Validation/Accuracy improved by 0.001 >= min_delta = 0.0. New best score: 0.918\n"
     ]
    },
    {
     "data": {
      "application/vnd.jupyter.widget-view+json": {
       "model_id": "4d4b4b5cdd414232b0ff2f2efa139e29",
       "version_major": 2,
       "version_minor": 0
      },
      "text/plain": [
       "Validation: |          | 0/? [00:00<?, ?it/s]"
      ]
     },
     "metadata": {},
     "output_type": "display_data"
    },
    {
     "name": "stdout",
     "output_type": "stream",
     "text": [
      "Epoch end: Validation, epoch number: 39\n",
      "ValidationEpoch/CM\n",
      " tensor([[ 76922,   1259,   7435,   2894,    169,    329,     40,      0,    165],\n",
      "        [   121,  94177,      1,      0,    204,      0,      0,      0,      0],\n",
      "        [     0,   1711, 106520,      0,    138,    770,    974,      0,      0],\n",
      "        [  4565,   1205,   7962,  75519,    225,    470,   1717,      0,    277],\n",
      "        [   225,   1577,   3734,   3877,  82464,    138,    168,      0,    165],\n",
      "        [     0,   1627,   7834,      0,    143,  83368,    347,      9,      0],\n",
      "        [  1885,   1317,  53517,  14040,    162,   2134,  19440,      0,     36],\n",
      "        [     0,    109,    121,      0,    123,    156,      5,  91635,      0],\n",
      "        [     0,   1232,      0,      0,      0,      0,      0,      0,  92478]])\n",
      "Epoch end: Train, epoch number: 38\n",
      "TrainEpoch/CM\n",
      " tensor([[ 76922,   1259,   7435,   2894,    169,    329,     40,      0,    165],\n",
      "        [   121,  94177,      1,      0,    204,      0,      0,      0,      0],\n",
      "        [     0,   1711, 106520,      0,    138,    770,    974,      0,      0],\n",
      "        [  4565,   1205,   7962,  75519,    225,    470,   1717,      0,    277],\n",
      "        [   225,   1577,   3734,   3877,  82464,    138,    168,      0,    165],\n",
      "        [     0,   1627,   7834,      0,    143,  83368,    347,      9,      0],\n",
      "        [  1885,   1317,  53517,  14040,    162,   2134,  19440,      0,     36],\n",
      "        [     0,    109,    121,      0,    123,    156,      5,  91635,      0],\n",
      "        [     0,   1232,      0,      0,      0,      0,      0,      0,  92478]])\n"
     ]
    },
    {
     "data": {
      "application/vnd.jupyter.widget-view+json": {
       "model_id": "c6add601531e495e8201e758da6c3f33",
       "version_major": 2,
       "version_minor": 0
      },
      "text/plain": [
       "Validation: |          | 0/? [00:00<?, ?it/s]"
      ]
     },
     "metadata": {},
     "output_type": "display_data"
    },
    {
     "name": "stdout",
     "output_type": "stream",
     "text": [
      "Epoch end: Validation, epoch number: 40\n",
      "ValidationEpoch/CM\n",
      " tensor([[ 79177,   1264,   7435,   2914,    169,    329,     45,      0,    165],\n",
      "        [   121,  96597,      1,      0,    204,      0,      0,      0,      0],\n",
      "        [     0,   1711, 109247,      0,    138,    770,   1067,      0,      0],\n",
      "        [  4675,   1205,   7962,  77672,    230,    470,   1804,      0,    277],\n",
      "        [   232,   1577,   3763,   3992,  84668,    138,    178,      0,    165],\n",
      "        [     0,   1627,   7901,      0,    143,  85686,    352,      9,      0],\n",
      "        [  1909,   1317,  54296,  14402,    164,   2147,  20630,      0,     36],\n",
      "        [     0,    109,    121,      0,    123,    166,      5,  93985,      0],\n",
      "        [     0,   1232,      0,      0,      0,      0,      0,      0,  94878]])\n",
      "Epoch end: Train, epoch number: 39\n",
      "TrainEpoch/CM\n",
      " tensor([[ 79177,   1264,   7435,   2914,    169,    329,     45,      0,    165],\n",
      "        [   121,  96597,      1,      0,    204,      0,      0,      0,      0],\n",
      "        [     0,   1711, 109247,      0,    138,    770,   1067,      0,      0],\n",
      "        [  4675,   1205,   7962,  77672,    230,    470,   1804,      0,    277],\n",
      "        [   232,   1577,   3763,   3992,  84668,    138,    178,      0,    165],\n",
      "        [     0,   1627,   7901,      0,    143,  85686,    352,      9,      0],\n",
      "        [  1909,   1317,  54296,  14402,    164,   2147,  20630,      0,     36],\n",
      "        [     0,    109,    121,      0,    123,    166,      5,  93985,      0],\n",
      "        [     0,   1232,      0,      0,      0,      0,      0,      0,  94878]])\n"
     ]
    },
    {
     "data": {
      "application/vnd.jupyter.widget-view+json": {
       "model_id": "2aec47cef0744372bf156e4cca2e7e3f",
       "version_major": 2,
       "version_minor": 0
      },
      "text/plain": [
       "Validation: |          | 0/? [00:00<?, ?it/s]"
      ]
     },
     "metadata": {},
     "output_type": "display_data"
    },
    {
     "name": "stdout",
     "output_type": "stream",
     "text": [
      "Epoch end: Validation, epoch number: 41\n",
      "ValidationEpoch/CM\n",
      " tensor([[ 81430,   1269,   7436,   2936,    169,    329,     49,      0,    165],\n",
      "        [   121,  99017,      1,      0,    204,      0,      0,      0,      0],\n",
      "        [     0,   1711, 111986,      0,    138,    770,   1148,      0,      0],\n",
      "        [  4772,   1205,   7962,  79845,    235,    470,   1884,      0,    277],\n",
      "        [   237,   1577,   3789,   4105,  86880,    138,    187,      0,    165],\n",
      "        [     0,   1627,   7950,      0,    143,  88022,    357,      9,      0],\n",
      "        [  1932,   1317,  55093,  14777,    168,   2162,  21786,      0,     36],\n",
      "        [     0,    109,    121,      0,    123,    176,      5,  96335,      0],\n",
      "        [     0,   1232,      0,      0,      0,      0,      0,      0,  97278]])\n"
     ]
    },
    {
     "name": "stderr",
     "output_type": "stream",
     "text": [
      "Metric Validation/Accuracy improved by 0.004 >= min_delta = 0.0. New best score: 0.922\n"
     ]
    },
    {
     "name": "stdout",
     "output_type": "stream",
     "text": [
      "Epoch end: Train, epoch number: 40\n",
      "TrainEpoch/CM\n",
      " tensor([[ 81430,   1269,   7436,   2936,    169,    329,     49,      0,    165],\n",
      "        [   121,  99017,      1,      0,    204,      0,      0,      0,      0],\n",
      "        [     0,   1711, 111986,      0,    138,    770,   1148,      0,      0],\n",
      "        [  4772,   1205,   7962,  79845,    235,    470,   1884,      0,    277],\n",
      "        [   237,   1577,   3789,   4105,  86880,    138,    187,      0,    165],\n",
      "        [     0,   1627,   7950,      0,    143,  88022,    357,      9,      0],\n",
      "        [  1932,   1317,  55093,  14777,    168,   2162,  21786,      0,     36],\n",
      "        [     0,    109,    121,      0,    123,    176,      5,  96335,      0],\n",
      "        [     0,   1232,      0,      0,      0,      0,      0,      0,  97278]])\n"
     ]
    },
    {
     "data": {
      "application/vnd.jupyter.widget-view+json": {
       "model_id": "e380c29b50c744afbce751233e96546e",
       "version_major": 2,
       "version_minor": 0
      },
      "text/plain": [
       "Validation: |          | 0/? [00:00<?, ?it/s]"
      ]
     },
     "metadata": {},
     "output_type": "display_data"
    },
    {
     "name": "stdout",
     "output_type": "stream",
     "text": [
      "Epoch end: Validation, epoch number: 42\n",
      "ValidationEpoch/CM\n",
      " tensor([[ 83685,   1274,   7436,   2956,    169,    329,     54,      0,    165],\n",
      "        [   121, 101437,      1,      0,    204,      0,      0,      0,      0],\n",
      "        [     0,   1711, 114703,      0,    138,    770,   1251,      0,      0],\n",
      "        [  4859,   1205,   7962,  82023,    240,    470,   1969,      0,    277],\n",
      "        [   242,   1577,   3811,   4220,  89095,    138,    195,      0,    165],\n",
      "        [     0,   1627,   7988,      0,    143,  90369,    362,      9,      0],\n",
      "        [  1952,   1317,  55825,  15143,    173,   2172,  23023,      0,     36],\n",
      "        [     0,    109,    121,      0,    123,    186,      5,  98685,      0],\n",
      "        [     0,   1232,      0,      0,      0,      0,      0,      0,  99678]])\n",
      "Epoch end: Train, epoch number: 41\n",
      "TrainEpoch/CM\n",
      " tensor([[ 83685,   1274,   7436,   2956,    169,    329,     54,      0,    165],\n",
      "        [   121, 101437,      1,      0,    204,      0,      0,      0,      0],\n",
      "        [     0,   1711, 114703,      0,    138,    770,   1251,      0,      0],\n",
      "        [  4859,   1205,   7962,  82023,    240,    470,   1969,      0,    277],\n",
      "        [   242,   1577,   3811,   4220,  89095,    138,    195,      0,    165],\n",
      "        [     0,   1627,   7988,      0,    143,  90369,    362,      9,      0],\n",
      "        [  1952,   1317,  55825,  15143,    173,   2172,  23023,      0,     36],\n",
      "        [     0,    109,    121,      0,    123,    186,      5,  98685,      0],\n",
      "        [     0,   1232,      0,      0,      0,      0,      0,      0,  99678]])\n"
     ]
    },
    {
     "data": {
      "application/vnd.jupyter.widget-view+json": {
       "model_id": "8f5e1c389d204b59ae38f93daf4c22dc",
       "version_major": 2,
       "version_minor": 0
      },
      "text/plain": [
       "Validation: |          | 0/? [00:00<?, ?it/s]"
      ]
     },
     "metadata": {},
     "output_type": "display_data"
    },
    {
     "name": "stdout",
     "output_type": "stream",
     "text": [
      "Epoch end: Validation, epoch number: 43\n",
      "ValidationEpoch/CM\n",
      " tensor([[ 85940,   1279,   7436,   2976,    169,    329,     59,      0,    165],\n",
      "        [   121, 103857,      1,      0,    204,      0,      0,      0,      0],\n",
      "        [     0,   1711, 117419,      0,    138,    770,   1355,      0,      0],\n",
      "        [  4949,   1205,   7962,  84200,    245,    470,   2052,      0,    277],\n",
      "        [   252,   1577,   3834,   4335,  91302,    138,    205,      0,    165],\n",
      "        [     0,   1627,   8024,      0,    143,  92718,    367,      9,      0],\n",
      "        [  1975,   1317,  56570,  15498,    177,   2182,  24256,      0,     36],\n",
      "        [     0,    109,    121,      0,    123,    196,      5, 101035,      0],\n",
      "        [     0,   1232,      0,      0,      0,      0,      0,      0, 102078]])\n",
      "Epoch end: Train, epoch number: 42\n",
      "TrainEpoch/CM\n",
      " tensor([[ 85940,   1279,   7436,   2976,    169,    329,     59,      0,    165],\n",
      "        [   121, 103857,      1,      0,    204,      0,      0,      0,      0],\n",
      "        [     0,   1711, 117419,      0,    138,    770,   1355,      0,      0],\n",
      "        [  4949,   1205,   7962,  84200,    245,    470,   2052,      0,    277],\n",
      "        [   252,   1577,   3834,   4335,  91302,    138,    205,      0,    165],\n",
      "        [     0,   1627,   8024,      0,    143,  92718,    367,      9,      0],\n",
      "        [  1975,   1317,  56570,  15498,    177,   2182,  24256,      0,     36],\n",
      "        [     0,    109,    121,      0,    123,    196,      5, 101035,      0],\n",
      "        [     0,   1232,      0,      0,      0,      0,      0,      0, 102078]])\n"
     ]
    },
    {
     "data": {
      "application/vnd.jupyter.widget-view+json": {
       "model_id": "3761200032bc45e8922c0c2fd7815e2f",
       "version_major": 2,
       "version_minor": 0
      },
      "text/plain": [
       "Validation: |          | 0/? [00:00<?, ?it/s]"
      ]
     },
     "metadata": {},
     "output_type": "display_data"
    },
    {
     "name": "stdout",
     "output_type": "stream",
     "text": [
      "Epoch end: Validation, epoch number: 44\n",
      "ValidationEpoch/CM\n",
      " tensor([[ 88195,   1284,   7436,   2996,    169,    329,     64,      0,    165],\n",
      "        [   121, 106277,      1,      0,    204,      0,      0,      0,      0],\n",
      "        [     0,   1711, 120134,      0,    138,    770,   1460,      0,      0],\n",
      "        [  5041,   1205,   7962,  86363,    250,    470,   2147,      0,    277],\n",
      "        [   261,   1577,   3857,   4444,  93518,    138,    213,      0,    165],\n",
      "        [     0,   1627,   8065,      0,    143,  95062,    372,      9,      0],\n",
      "        [  1995,   1317,  57274,  15821,    180,   2192,  25566,      0,     36],\n",
      "        [     0,    109,    121,      0,    123,    206,      5, 103385,      0],\n",
      "        [     0,   1232,      0,      0,      0,      0,      0,      0, 104478]])\n",
      "Epoch end: Train, epoch number: 43\n",
      "TrainEpoch/CM\n",
      " tensor([[ 88195,   1284,   7436,   2996,    169,    329,     64,      0,    165],\n",
      "        [   121, 106277,      1,      0,    204,      0,      0,      0,      0],\n",
      "        [     0,   1711, 120134,      0,    138,    770,   1460,      0,      0],\n",
      "        [  5041,   1205,   7962,  86363,    250,    470,   2147,      0,    277],\n",
      "        [   261,   1577,   3857,   4444,  93518,    138,    213,      0,    165],\n",
      "        [     0,   1627,   8065,      0,    143,  95062,    372,      9,      0],\n",
      "        [  1995,   1317,  57274,  15821,    180,   2192,  25566,      0,     36],\n",
      "        [     0,    109,    121,      0,    123,    206,      5, 103385,      0],\n",
      "        [     0,   1232,      0,      0,      0,      0,      0,      0, 104478]])\n"
     ]
    },
    {
     "data": {
      "application/vnd.jupyter.widget-view+json": {
       "model_id": "7b1bbd867c834559982b181bca07bcf6",
       "version_major": 2,
       "version_minor": 0
      },
      "text/plain": [
       "Validation: |          | 0/? [00:00<?, ?it/s]"
      ]
     },
     "metadata": {},
     "output_type": "display_data"
    },
    {
     "name": "stdout",
     "output_type": "stream",
     "text": [
      "Epoch end: Validation, epoch number: 45\n",
      "ValidationEpoch/CM\n",
      " tensor([[ 90450,   1289,   7436,   3016,    169,    329,     69,      0,    165],\n",
      "        [   121, 108697,      1,      0,    204,      0,      0,      0,      0],\n",
      "        [     0,   1711, 122831,      0,    138,    770,   1583,      0,      0],\n",
      "        [  5129,   1205,   7962,  88535,    255,    470,   2237,      0,    277],\n",
      "        [   271,   1577,   3878,   4554,  95735,    138,    220,      0,    165],\n",
      "        [     0,   1627,   8100,      0,    143,  97412,    377,      9,      0],\n",
      "        [  2013,   1317,  57964,  16158,    184,   2202,  26877,      0,     36],\n",
      "        [     0,    109,    121,      0,    123,    216,      5, 105735,      0],\n",
      "        [     0,   1232,      0,      0,      0,      0,      0,      0, 106878]])\n",
      "Epoch end: Train, epoch number: 44\n",
      "TrainEpoch/CM\n",
      " tensor([[ 90450,   1289,   7436,   3016,    169,    329,     69,      0,    165],\n",
      "        [   121, 108697,      1,      0,    204,      0,      0,      0,      0],\n",
      "        [     0,   1711, 122831,      0,    138,    770,   1583,      0,      0],\n",
      "        [  5129,   1205,   7962,  88535,    255,    470,   2237,      0,    277],\n",
      "        [   271,   1577,   3878,   4554,  95735,    138,    220,      0,    165],\n",
      "        [     0,   1627,   8100,      0,    143,  97412,    377,      9,      0],\n",
      "        [  2013,   1317,  57964,  16158,    184,   2202,  26877,      0,     36],\n",
      "        [     0,    109,    121,      0,    123,    216,      5, 105735,      0],\n",
      "        [     0,   1232,      0,      0,      0,      0,      0,      0, 106878]])\n"
     ]
    },
    {
     "data": {
      "application/vnd.jupyter.widget-view+json": {
       "model_id": "9ce5036d9fdb46dcbcaa5f2a31182f9f",
       "version_major": 2,
       "version_minor": 0
      },
      "text/plain": [
       "Validation: |          | 0/? [00:00<?, ?it/s]"
      ]
     },
     "metadata": {},
     "output_type": "display_data"
    },
    {
     "name": "stdout",
     "output_type": "stream",
     "text": [
      "Epoch end: Validation, epoch number: 46\n",
      "ValidationEpoch/CM\n",
      " tensor([[ 92712,   1294,   7436,   3031,    169,    329,     72,      0,    165],\n",
      "        [   121, 111117,      1,      0,    204,      0,      0,      0,      0],\n",
      "        [     0,   1711, 125547,      0,    138,    770,   1687,      0,      0],\n",
      "        [  5222,   1205,   7962,  90708,    260,    470,   2321,      0,    277],\n",
      "        [   281,   1577,   3901,   4666,  97947,    138,    228,      0,    165],\n",
      "        [     0,   1627,   8135,      0,    143,  99762,    382,      9,      0],\n",
      "        [  2036,   1317,  58663,  16502,    187,   2212,  28168,      0,     36],\n",
      "        [     0,    109,    121,      0,    123,    226,      5, 108085,      0],\n",
      "        [     0,   1232,      0,      0,      0,      0,      0,      0, 109278]])\n"
     ]
    },
    {
     "name": "stderr",
     "output_type": "stream",
     "text": [
      "Metric Validation/Accuracy improved by 0.008 >= min_delta = 0.0. New best score: 0.930\n"
     ]
    },
    {
     "name": "stdout",
     "output_type": "stream",
     "text": [
      "Epoch end: Train, epoch number: 45\n",
      "TrainEpoch/CM\n",
      " tensor([[ 92712,   1294,   7436,   3031,    169,    329,     72,      0,    165],\n",
      "        [   121, 111117,      1,      0,    204,      0,      0,      0,      0],\n",
      "        [     0,   1711, 125547,      0,    138,    770,   1687,      0,      0],\n",
      "        [  5222,   1205,   7962,  90708,    260,    470,   2321,      0,    277],\n",
      "        [   281,   1577,   3901,   4666,  97947,    138,    228,      0,    165],\n",
      "        [     0,   1627,   8135,      0,    143,  99762,    382,      9,      0],\n",
      "        [  2036,   1317,  58663,  16502,    187,   2212,  28168,      0,     36],\n",
      "        [     0,    109,    121,      0,    123,    226,      5, 108085,      0],\n",
      "        [     0,   1232,      0,      0,      0,      0,      0,      0, 109278]])\n"
     ]
    },
    {
     "data": {
      "application/vnd.jupyter.widget-view+json": {
       "model_id": "6afb63ea9b1d494bb3c5601865d04ca7",
       "version_major": 2,
       "version_minor": 0
      },
      "text/plain": [
       "Validation: |          | 0/? [00:00<?, ?it/s]"
      ]
     },
     "metadata": {},
     "output_type": "display_data"
    },
    {
     "name": "stdout",
     "output_type": "stream",
     "text": [
      "Epoch end: Validation, epoch number: 47\n",
      "ValidationEpoch/CM\n",
      " tensor([[ 94965,   1299,   7436,   3053,    169,    329,     77,      0,    165],\n",
      "        [   121, 113537,      1,      0,    204,      0,      0,      0,      0],\n",
      "        [     0,   1711, 128247,      0,    138,    770,   1807,      0,      0],\n",
      "        [  5295,   1205,   7962,  92897,    265,    470,   2409,      0,    277],\n",
      "        [   291,   1577,   3921,   4780, 100160,    138,    236,      0,    165],\n",
      "        [     0,   1627,   8170,      0,    143, 102112,    387,      9,      0],\n",
      "        [  2052,   1317,  59310,  16841,    190,   2222,  29523,      0,     36],\n",
      "        [     0,    109,    121,      0,    123,    236,      5, 110435,      0],\n",
      "        [     0,   1232,      0,      0,      0,      0,      0,      0, 111678]])\n",
      "Epoch end: Train, epoch number: 46\n",
      "TrainEpoch/CM\n",
      " tensor([[ 94965,   1299,   7436,   3053,    169,    329,     77,      0,    165],\n",
      "        [   121, 113537,      1,      0,    204,      0,      0,      0,      0],\n",
      "        [     0,   1711, 128247,      0,    138,    770,   1807,      0,      0],\n",
      "        [  5295,   1205,   7962,  92897,    265,    470,   2409,      0,    277],\n",
      "        [   291,   1577,   3921,   4780, 100160,    138,    236,      0,    165],\n",
      "        [     0,   1627,   8170,      0,    143, 102112,    387,      9,      0],\n",
      "        [  2052,   1317,  59310,  16841,    190,   2222,  29523,      0,     36],\n",
      "        [     0,    109,    121,      0,    123,    236,      5, 110435,      0],\n",
      "        [     0,   1232,      0,      0,      0,      0,      0,      0, 111678]])\n"
     ]
    },
    {
     "data": {
      "application/vnd.jupyter.widget-view+json": {
       "model_id": "c3a34c5b1cba485f85b125249c3531cb",
       "version_major": 2,
       "version_minor": 0
      },
      "text/plain": [
       "Validation: |          | 0/? [00:00<?, ?it/s]"
      ]
     },
     "metadata": {},
     "output_type": "display_data"
    },
    {
     "name": "stdout",
     "output_type": "stream",
     "text": [
      "Epoch end: Validation, epoch number: 48\n",
      "ValidationEpoch/CM\n",
      " tensor([[ 97223,   1304,   7436,   3070,    169,    329,     82,      0,    165],\n",
      "        [   121, 115957,      1,      0,    204,      0,      0,      0,      0],\n",
      "        [     0,   1711, 130947,      0,    138,    770,   1927,      0,      0],\n",
      "        [  5387,   1205,   7962,  95060,    270,    470,   2504,      0,    277],\n",
      "        [   298,   1577,   3941,   4889, 102380,    138,    245,      0,    165],\n",
      "        [     0,   1627,   8205,      0,    143, 104462,    392,      9,      0],\n",
      "        [  2071,   1317,  59964,  17148,    190,   2232,  30903,      0,     36],\n",
      "        [     0,    109,    121,      0,    123,    246,      5, 112785,      0],\n",
      "        [     0,   1232,      0,      0,      0,      0,      0,      0, 114078]])\n",
      "Epoch end: Train, epoch number: 47\n",
      "TrainEpoch/CM\n",
      " tensor([[ 97223,   1304,   7436,   3070,    169,    329,     82,      0,    165],\n",
      "        [   121, 115957,      1,      0,    204,      0,      0,      0,      0],\n",
      "        [     0,   1711, 130947,      0,    138,    770,   1927,      0,      0],\n",
      "        [  5387,   1205,   7962,  95060,    270,    470,   2504,      0,    277],\n",
      "        [   298,   1577,   3941,   4889, 102380,    138,    245,      0,    165],\n",
      "        [     0,   1627,   8205,      0,    143, 104462,    392,      9,      0],\n",
      "        [  2071,   1317,  59964,  17148,    190,   2232,  30903,      0,     36],\n",
      "        [     0,    109,    121,      0,    123,    246,      5, 112785,      0],\n",
      "        [     0,   1232,      0,      0,      0,      0,      0,      0, 114078]])\n"
     ]
    },
    {
     "data": {
      "application/vnd.jupyter.widget-view+json": {
       "model_id": "bb94c546585c47e6980a3fe4596e97b0",
       "version_major": 2,
       "version_minor": 0
      },
      "text/plain": [
       "Validation: |          | 0/? [00:00<?, ?it/s]"
      ]
     },
     "metadata": {},
     "output_type": "display_data"
    },
    {
     "name": "stdout",
     "output_type": "stream",
     "text": [
      "Epoch end: Validation, epoch number: 49\n",
      "ValidationEpoch/CM\n",
      " tensor([[ 99475,   1309,   7436,   3093,    169,    329,     87,      0,    165],\n",
      "        [   121, 118377,      1,      0,    204,      0,      0,      0,      0],\n",
      "        [     0,   1711, 133643,      0,    138,    770,   2051,      0,      0],\n",
      "        [  5454,   1205,   7962,  97257,    275,    470,   2590,      0,    277],\n",
      "        [   303,   1577,   3961,   4998, 104606,    138,    250,      0,    165],\n",
      "        [     0,   1627,   8240,      0,    143, 106812,    397,      9,      0],\n",
      "        [  2090,   1317,  60581,  17476,    191,   2242,  32298,      0,     36],\n",
      "        [     0,    109,    121,      0,    123,    256,      5, 115135,      0],\n",
      "        [     0,   1232,      0,      0,      0,      0,      0,      0, 116478]])\n",
      "Epoch end: Train, epoch number: 48\n",
      "TrainEpoch/CM\n",
      " tensor([[ 99475,   1309,   7436,   3093,    169,    329,     87,      0,    165],\n",
      "        [   121, 118377,      1,      0,    204,      0,      0,      0,      0],\n",
      "        [     0,   1711, 133643,      0,    138,    770,   2051,      0,      0],\n",
      "        [  5454,   1205,   7962,  97257,    275,    470,   2590,      0,    277],\n",
      "        [   303,   1577,   3961,   4998, 104606,    138,    250,      0,    165],\n",
      "        [     0,   1627,   8240,      0,    143, 106812,    397,      9,      0],\n",
      "        [  2090,   1317,  60581,  17476,    191,   2242,  32298,      0,     36],\n",
      "        [     0,    109,    121,      0,    123,    256,      5, 115135,      0],\n",
      "        [     0,   1232,      0,      0,      0,      0,      0,      0, 116478]])\n"
     ]
    },
    {
     "name": "stderr",
     "output_type": "stream",
     "text": [
      "Metric Validation/Accuracy improved by 0.001 >= min_delta = 0.0. New best score: 0.931\n"
     ]
    },
    {
     "data": {
      "application/vnd.jupyter.widget-view+json": {
       "model_id": "5dbe240f2d0448fcb667799678ef5192",
       "version_major": 2,
       "version_minor": 0
      },
      "text/plain": [
       "Validation: |          | 0/? [00:00<?, ?it/s]"
      ]
     },
     "metadata": {},
     "output_type": "display_data"
    },
    {
     "name": "stdout",
     "output_type": "stream",
     "text": [
      "Epoch end: Validation, epoch number: 50\n",
      "ValidationEpoch/CM\n",
      " tensor([[101738,   1314,   7436,   3105,    169,    329,     92,      0,    165],\n",
      "        [   121, 120797,      1,      0,    204,      0,      0,      0,      0],\n",
      "        [     0,   1711, 136343,      0,    138,    770,   2171,      0,      0],\n",
      "        [  5535,   1205,   7962,  99425,    280,    470,   2691,      0,    277],\n",
      "        [   310,   1577,   3981,   5105, 106829,    138,    258,      0,    165],\n",
      "        [     0,   1627,   8275,      0,    143, 109162,    402,      9,      0],\n",
      "        [  2107,   1317,  61185,  17774,    191,   2252,  33739,      0,     36],\n",
      "        [     0,    109,    121,      0,    123,    266,      5, 117485,      0],\n",
      "        [     0,   1232,      0,      0,      0,      0,      0,      0, 118878]])\n",
      "Epoch end: Train, epoch number: 49\n",
      "TrainEpoch/CM\n",
      " tensor([[101738,   1314,   7436,   3105,    169,    329,     92,      0,    165],\n",
      "        [   121, 120797,      1,      0,    204,      0,      0,      0,      0],\n",
      "        [     0,   1711, 136343,      0,    138,    770,   2171,      0,      0],\n",
      "        [  5535,   1205,   7962,  99425,    280,    470,   2691,      0,    277],\n",
      "        [   310,   1577,   3981,   5105, 106829,    138,    258,      0,    165],\n",
      "        [     0,   1627,   8275,      0,    143, 109162,    402,      9,      0],\n",
      "        [  2107,   1317,  61185,  17774,    191,   2252,  33739,      0,     36],\n",
      "        [     0,    109,    121,      0,    123,    266,      5, 117485,      0],\n",
      "        [     0,   1232,      0,      0,      0,      0,      0,      0, 118878]])\n"
     ]
    },
    {
     "name": "stderr",
     "output_type": "stream",
     "text": [
      "Metric Validation/Accuracy improved by 0.001 >= min_delta = 0.0. New best score: 0.932\n"
     ]
    },
    {
     "data": {
      "application/vnd.jupyter.widget-view+json": {
       "model_id": "03e3b975854445cb8678959f3ffc8ca5",
       "version_major": 2,
       "version_minor": 0
      },
      "text/plain": [
       "Validation: |          | 0/? [00:00<?, ?it/s]"
      ]
     },
     "metadata": {},
     "output_type": "display_data"
    },
    {
     "name": "stdout",
     "output_type": "stream",
     "text": [
      "Epoch end: Validation, epoch number: 51\n",
      "ValidationEpoch/CM\n",
      " tensor([[103993,   1319,   7436,   3125,    169,    329,     97,      0,    165],\n",
      "        [   121, 123217,      1,      0,    204,      0,      0,      0,      0],\n",
      "        [     0,   1711, 139043,      0,    138,    770,   2291,      0,      0],\n",
      "        [  5605,   1205,   7962, 101612,    285,    470,   2784,      0,    277],\n",
      "        [   315,   1577,   4001,   5215, 109053,    138,    264,      0,    165],\n",
      "        [     0,   1627,   8310,      0,    143, 111512,    407,      9,      0],\n",
      "        [  2123,   1317,  61777,  18085,    191,   2262,  35180,      0,     36],\n",
      "        [     0,    109,    121,      0,    123,    273,      5, 119838,      0],\n",
      "        [     0,   1232,      0,      0,      0,      0,      0,      0, 121278]])\n",
      "Epoch end: Train, epoch number: 50\n",
      "TrainEpoch/CM\n",
      " tensor([[103993,   1319,   7436,   3125,    169,    329,     97,      0,    165],\n",
      "        [   121, 123217,      1,      0,    204,      0,      0,      0,      0],\n",
      "        [     0,   1711, 139043,      0,    138,    770,   2291,      0,      0],\n",
      "        [  5605,   1205,   7962, 101612,    285,    470,   2784,      0,    277],\n",
      "        [   315,   1577,   4001,   5215, 109053,    138,    264,      0,    165],\n",
      "        [     0,   1627,   8310,      0,    143, 111512,    407,      9,      0],\n",
      "        [  2123,   1317,  61777,  18085,    191,   2262,  35180,      0,     36],\n",
      "        [     0,    109,    121,      0,    123,    273,      5, 119838,      0],\n",
      "        [     0,   1232,      0,      0,      0,      0,      0,      0, 121278]])\n"
     ]
    },
    {
     "data": {
      "application/vnd.jupyter.widget-view+json": {
       "model_id": "c3ee1a6c41a04464885d221be31268f7",
       "version_major": 2,
       "version_minor": 0
      },
      "text/plain": [
       "Validation: |          | 0/? [00:00<?, ?it/s]"
      ]
     },
     "metadata": {},
     "output_type": "display_data"
    },
    {
     "name": "stdout",
     "output_type": "stream",
     "text": [
      "Epoch end: Validation, epoch number: 52\n",
      "ValidationEpoch/CM\n",
      " tensor([[106261,   1324,   7436,   3134,    169,    329,    100,      0,    165],\n",
      "        [   121, 125637,      1,      0,    204,      0,      0,      0,      0],\n",
      "        [     0,   1711, 141739,      0,    138,    770,   2415,      0,      0],\n",
      "        [  5682,   1205,   7962, 103800,    290,    470,   2869,      0,    277],\n",
      "        [   320,   1577,   4020,   5319, 111285,    138,    269,      0,    165],\n",
      "        [     0,   1627,   8344,      0,    143, 113863,    412,      9,      0],\n",
      "        [  2143,   1317,  62397,  18399,    193,   2272,  36584,      0,     36],\n",
      "        [     0,    109,    121,      0,    123,    280,      5, 122191,      0],\n",
      "        [     0,   1232,      0,      0,      0,      0,      0,      0, 123678]])\n",
      "Epoch end: Train, epoch number: 51\n",
      "TrainEpoch/CM\n",
      " tensor([[106261,   1324,   7436,   3134,    169,    329,    100,      0,    165],\n",
      "        [   121, 125637,      1,      0,    204,      0,      0,      0,      0],\n",
      "        [     0,   1711, 141739,      0,    138,    770,   2415,      0,      0],\n",
      "        [  5682,   1205,   7962, 103800,    290,    470,   2869,      0,    277],\n",
      "        [   320,   1577,   4020,   5319, 111285,    138,    269,      0,    165],\n",
      "        [     0,   1627,   8344,      0,    143, 113863,    412,      9,      0],\n",
      "        [  2143,   1317,  62397,  18399,    193,   2272,  36584,      0,     36],\n",
      "        [     0,    109,    121,      0,    123,    280,      5, 122191,      0],\n",
      "        [     0,   1232,      0,      0,      0,      0,      0,      0, 123678]])\n"
     ]
    },
    {
     "name": "stderr",
     "output_type": "stream",
     "text": [
      "Metric Validation/Accuracy improved by 0.002 >= min_delta = 0.0. New best score: 0.934\n"
     ]
    },
    {
     "data": {
      "application/vnd.jupyter.widget-view+json": {
       "model_id": "15bb2727aeb945e7a18e5d4530f95b49",
       "version_major": 2,
       "version_minor": 0
      },
      "text/plain": [
       "Validation: |          | 0/? [00:00<?, ?it/s]"
      ]
     },
     "metadata": {},
     "output_type": "display_data"
    },
    {
     "name": "stdout",
     "output_type": "stream",
     "text": [
      "Epoch end: Validation, epoch number: 53\n",
      "ValidationEpoch/CM\n",
      " tensor([[108518,   1329,   7436,   3152,    169,    329,    105,      0,    165],\n",
      "        [   121, 128057,      1,      0,    204,      0,      0,      0,      0],\n",
      "        [     0,   1711, 144421,      0,    138,    770,   2553,      0,      0],\n",
      "        [  5742,   1205,   7962, 105979,    295,    470,   2980,      0,    277],\n",
      "        [   325,   1577,   4040,   5418, 113519,    138,    276,      0,    165],\n",
      "        [     0,   1627,   8374,      0,    143, 116218,    417,      9,      0],\n",
      "        [  2158,   1317,  62955,  18683,    193,   2282,  38087,      0,     36],\n",
      "        [     0,    109,    121,      0,    123,    286,      5, 124545,      0],\n",
      "        [     0,   1232,      0,      0,      0,      0,      0,      0, 126078]])\n",
      "Epoch end: Train, epoch number: 52\n",
      "TrainEpoch/CM\n",
      " tensor([[108518,   1329,   7436,   3152,    169,    329,    105,      0,    165],\n",
      "        [   121, 128057,      1,      0,    204,      0,      0,      0,      0],\n",
      "        [     0,   1711, 144421,      0,    138,    770,   2553,      0,      0],\n",
      "        [  5742,   1205,   7962, 105979,    295,    470,   2980,      0,    277],\n",
      "        [   325,   1577,   4040,   5418, 113519,    138,    276,      0,    165],\n",
      "        [     0,   1627,   8374,      0,    143, 116218,    417,      9,      0],\n",
      "        [  2158,   1317,  62955,  18683,    193,   2282,  38087,      0,     36],\n",
      "        [     0,    109,    121,      0,    123,    286,      5, 124545,      0],\n",
      "        [     0,   1232,      0,      0,      0,      0,      0,      0, 126078]])\n"
     ]
    },
    {
     "name": "stderr",
     "output_type": "stream",
     "text": [
      "Metric Validation/Accuracy improved by 0.003 >= min_delta = 0.0. New best score: 0.937\n"
     ]
    },
    {
     "data": {
      "application/vnd.jupyter.widget-view+json": {
       "model_id": "4a55adbe64e247f78f43a071829612d3",
       "version_major": 2,
       "version_minor": 0
      },
      "text/plain": [
       "Validation: |          | 0/? [00:00<?, ?it/s]"
      ]
     },
     "metadata": {},
     "output_type": "display_data"
    },
    {
     "name": "stdout",
     "output_type": "stream",
     "text": [
      "Epoch end: Validation, epoch number: 54\n",
      "ValidationEpoch/CM\n",
      " tensor([[110779,   1334,   7436,   3166,    169,    329,    110,      0,    165],\n",
      "        [   121, 130477,      1,      0,    204,      0,      0,      0,      0],\n",
      "        [     0,   1711, 147109,      0,    138,    770,   2685,      0,      0],\n",
      "        [  5815,   1205,   7962, 108159,    300,    470,   3077,      0,    277],\n",
      "        [   330,   1577,   4060,   5522, 115750,    138,    281,      0,    165],\n",
      "        [     0,   1627,   8405,      0,    143, 118572,    422,      9,      0],\n",
      "        [  2174,   1317,  63521,  18974,    194,   2292,  39573,      0,     36],\n",
      "        [     0,    109,    121,      0,    123,    295,      5, 126896,      0],\n",
      "        [     0,   1232,      0,      0,      0,      0,      0,      0, 128478]])\n",
      "Epoch end: Train, epoch number: 53\n",
      "TrainEpoch/CM\n",
      " tensor([[110779,   1334,   7436,   3166,    169,    329,    110,      0,    165],\n",
      "        [   121, 130477,      1,      0,    204,      0,      0,      0,      0],\n",
      "        [     0,   1711, 147109,      0,    138,    770,   2685,      0,      0],\n",
      "        [  5815,   1205,   7962, 108159,    300,    470,   3077,      0,    277],\n",
      "        [   330,   1577,   4060,   5522, 115750,    138,    281,      0,    165],\n",
      "        [     0,   1627,   8405,      0,    143, 118572,    422,      9,      0],\n",
      "        [  2174,   1317,  63521,  18974,    194,   2292,  39573,      0,     36],\n",
      "        [     0,    109,    121,      0,    123,    295,      5, 126896,      0],\n",
      "        [     0,   1232,      0,      0,      0,      0,      0,      0, 128478]])\n"
     ]
    },
    {
     "data": {
      "application/vnd.jupyter.widget-view+json": {
       "model_id": "09533c22cc9d4f17b61c62f75089f78e",
       "version_major": 2,
       "version_minor": 0
      },
      "text/plain": [
       "Validation: |          | 0/? [00:00<?, ?it/s]"
      ]
     },
     "metadata": {},
     "output_type": "display_data"
    },
    {
     "name": "stdout",
     "output_type": "stream",
     "text": [
      "Epoch end: Validation, epoch number: 55\n",
      "ValidationEpoch/CM\n",
      " tensor([[113039,   1339,   7436,   3181,    169,    329,    115,      0,    165],\n",
      "        [   121, 132897,      1,      0,    204,      0,      0,      0,      0],\n",
      "        [     0,   1711, 149795,      0,    138,    770,   2819,      0,      0],\n",
      "        [  5878,   1205,   7962, 110349,    305,    470,   3174,      0,    277],\n",
      "        [   335,   1577,   4080,   5618, 117989,    138,    286,      0,    165],\n",
      "        [     0,   1627,   8434,      0,    143, 120928,    427,      9,      0],\n",
      "        [  2189,   1317,  64088,  19254,    194,   2302,  41071,      0,     36],\n",
      "        [     0,    109,    121,      0,    123,    301,      5, 129250,      0],\n",
      "        [     0,   1232,      0,      0,      0,      0,      0,      0, 130878]])\n",
      "Epoch end: Train, epoch number: 54\n"
     ]
    },
    {
     "name": "stderr",
     "output_type": "stream",
     "text": [
      "Metric Validation/Accuracy improved by 0.000 >= min_delta = 0.0. New best score: 0.938\n"
     ]
    },
    {
     "name": "stdout",
     "output_type": "stream",
     "text": [
      "TrainEpoch/CM\n",
      " tensor([[113039,   1339,   7436,   3181,    169,    329,    115,      0,    165],\n",
      "        [   121, 132897,      1,      0,    204,      0,      0,      0,      0],\n",
      "        [     0,   1711, 149795,      0,    138,    770,   2819,      0,      0],\n",
      "        [  5878,   1205,   7962, 110349,    305,    470,   3174,      0,    277],\n",
      "        [   335,   1577,   4080,   5618, 117989,    138,    286,      0,    165],\n",
      "        [     0,   1627,   8434,      0,    143, 120928,    427,      9,      0],\n",
      "        [  2189,   1317,  64088,  19254,    194,   2302,  41071,      0,     36],\n",
      "        [     0,    109,    121,      0,    123,    301,      5, 129250,      0],\n",
      "        [     0,   1232,      0,      0,      0,      0,      0,      0, 130878]])\n"
     ]
    },
    {
     "data": {
      "application/vnd.jupyter.widget-view+json": {
       "model_id": "c1ab7bacf4be4d8db40e91623a9099ea",
       "version_major": 2,
       "version_minor": 0
      },
      "text/plain": [
       "Validation: |          | 0/? [00:00<?, ?it/s]"
      ]
     },
     "metadata": {},
     "output_type": "display_data"
    },
    {
     "name": "stdout",
     "output_type": "stream",
     "text": [
      "Epoch end: Validation, epoch number: 56\n",
      "ValidationEpoch/CM\n",
      " tensor([[115300,   1344,   7436,   3195,    169,    329,    120,      0,    165],\n",
      "        [   121, 135317,      1,      0,    204,      0,      0,      0,      0],\n",
      "        [     0,   1711, 152478,      0,    138,    770,   2956,      0,      0],\n",
      "        [  5935,   1205,   7962, 112547,    310,    470,   3269,      0,    277],\n",
      "        [   340,   1577,   4100,   5718, 120224,    138,    291,      0,    165],\n",
      "        [     0,   1627,   8459,      0,    143, 123288,    432,      9,      0],\n",
      "        [  2204,   1317,  64638,  19542,    194,   2312,  42578,      0,     36],\n",
      "        [     0,    109,    121,      0,    123,    306,      5, 131605,      0],\n",
      "        [     0,   1232,      0,      0,      0,      0,      0,      0, 133278]])\n",
      "Epoch end: Train, epoch number: 55\n",
      "TrainEpoch/CM\n",
      " tensor([[115300,   1344,   7436,   3195,    169,    329,    120,      0,    165],\n",
      "        [   121, 135317,      1,      0,    204,      0,      0,      0,      0],\n",
      "        [     0,   1711, 152478,      0,    138,    770,   2956,      0,      0],\n",
      "        [  5935,   1205,   7962, 112547,    310,    470,   3269,      0,    277],\n",
      "        [   340,   1577,   4100,   5718, 120224,    138,    291,      0,    165],\n",
      "        [     0,   1627,   8459,      0,    143, 123288,    432,      9,      0],\n",
      "        [  2204,   1317,  64638,  19542,    194,   2312,  42578,      0,     36],\n",
      "        [     0,    109,    121,      0,    123,    306,      5, 131605,      0],\n",
      "        [     0,   1232,      0,      0,      0,      0,      0,      0, 133278]])\n"
     ]
    },
    {
     "name": "stderr",
     "output_type": "stream",
     "text": [
      "Metric Validation/Accuracy improved by 0.000 >= min_delta = 0.0. New best score: 0.938\n"
     ]
    },
    {
     "data": {
      "application/vnd.jupyter.widget-view+json": {
       "model_id": "31423786dad7459a9226c2569570955d",
       "version_major": 2,
       "version_minor": 0
      },
      "text/plain": [
       "Validation: |          | 0/? [00:00<?, ?it/s]"
      ]
     },
     "metadata": {},
     "output_type": "display_data"
    },
    {
     "name": "stdout",
     "output_type": "stream",
     "text": [
      "Epoch end: Validation, epoch number: 57\n",
      "ValidationEpoch/CM\n",
      " tensor([[117564,   1349,   7436,   3209,    169,    329,    122,      0,    165],\n",
      "        [   121, 137737,      1,      0,    204,      0,      0,      0,      0],\n",
      "        [     0,   1711, 155144,      0,    138,    770,   3110,      0,      0],\n",
      "        [  5992,   1205,   7962, 114727,    315,    470,   3382,      0,    277],\n",
      "        [   345,   1577,   4117,   5803, 122477,    138,    296,      0,    165],\n",
      "        [     0,   1627,   8481,      0,    143, 125651,    437,      9,      0],\n",
      "        [  2219,   1317,  65189,  19813,    194,   2322,  44101,      0,     36],\n",
      "        [     0,    109,    121,      0,    123,    311,      5, 133960,      0],\n",
      "        [     0,   1232,      0,      0,      0,      0,      0,      0, 135678]])\n",
      "Epoch end: Train, epoch number: 56\n",
      "TrainEpoch/CM\n",
      " tensor([[117564,   1349,   7436,   3209,    169,    329,    122,      0,    165],\n",
      "        [   121, 137737,      1,      0,    204,      0,      0,      0,      0],\n",
      "        [     0,   1711, 155144,      0,    138,    770,   3110,      0,      0],\n",
      "        [  5992,   1205,   7962, 114727,    315,    470,   3382,      0,    277],\n",
      "        [   345,   1577,   4117,   5803, 122477,    138,    296,      0,    165],\n",
      "        [     0,   1627,   8481,      0,    143, 125651,    437,      9,      0],\n",
      "        [  2219,   1317,  65189,  19813,    194,   2322,  44101,      0,     36],\n",
      "        [     0,    109,    121,      0,    123,    311,      5, 133960,      0],\n",
      "        [     0,   1232,      0,      0,      0,      0,      0,      0, 135678]])\n"
     ]
    },
    {
     "data": {
      "application/vnd.jupyter.widget-view+json": {
       "model_id": "711967d7b9aa4263a70ea08fd0eeac41",
       "version_major": 2,
       "version_minor": 0
      },
      "text/plain": [
       "Validation: |          | 0/? [00:00<?, ?it/s]"
      ]
     },
     "metadata": {},
     "output_type": "display_data"
    },
    {
     "name": "stdout",
     "output_type": "stream",
     "text": [
      "Epoch end: Validation, epoch number: 58\n",
      "ValidationEpoch/CM\n",
      " tensor([[119829,   1354,   7436,   3219,    169,    329,    127,      0,    165],\n",
      "        [   121, 140157,      1,      0,    204,      0,      0,      0,      0],\n",
      "        [     0,   1711, 157817,      0,    138,    770,   3257,      0,      0],\n",
      "        [  6049,   1205,   7962, 116919,    320,    470,   3483,      0,    277],\n",
      "        [   350,   1577,   4136,   5891, 124725,    138,    301,      0,    165],\n",
      "        [     0,   1627,   8501,      0,    143, 128016,    442,      9,      0],\n",
      "        [  2234,   1317,  65730,  20085,    194,   2332,  45633,      0,     36],\n",
      "        [     0,    109,    121,      0,    123,    316,      5, 136315,      0],\n",
      "        [     0,   1232,      0,      0,      0,      0,      0,      0, 138078]])\n",
      "Epoch end: Train, epoch number: 57\n",
      "TrainEpoch/CM\n",
      " tensor([[119829,   1354,   7436,   3219,    169,    329,    127,      0,    165],\n",
      "        [   121, 140157,      1,      0,    204,      0,      0,      0,      0],\n",
      "        [     0,   1711, 157817,      0,    138,    770,   3257,      0,      0],\n",
      "        [  6049,   1205,   7962, 116919,    320,    470,   3483,      0,    277],\n",
      "        [   350,   1577,   4136,   5891, 124725,    138,    301,      0,    165],\n",
      "        [     0,   1627,   8501,      0,    143, 128016,    442,      9,      0],\n",
      "        [  2234,   1317,  65730,  20085,    194,   2332,  45633,      0,     36],\n",
      "        [     0,    109,    121,      0,    123,    316,      5, 136315,      0],\n",
      "        [     0,   1232,      0,      0,      0,      0,      0,      0, 138078]])\n"
     ]
    },
    {
     "data": {
      "application/vnd.jupyter.widget-view+json": {
       "model_id": "3761437078554135ac6834c62a0f788f",
       "version_major": 2,
       "version_minor": 0
      },
      "text/plain": [
       "Validation: |          | 0/? [00:00<?, ?it/s]"
      ]
     },
     "metadata": {},
     "output_type": "display_data"
    },
    {
     "name": "stdout",
     "output_type": "stream",
     "text": [
      "Epoch end: Validation, epoch number: 59\n",
      "ValidationEpoch/CM\n",
      " tensor([[122097,   1359,   7436,   3226,    169,    329,    132,      0,    165],\n",
      "        [   121, 142577,      1,      0,    204,      0,      0,      0,      0],\n",
      "        [     0,   1711, 160488,      0,    138,    770,   3406,      0,      0],\n",
      "        [  6105,   1205,   7962, 119107,    325,    470,   3589,      0,    277],\n",
      "        [   355,   1577,   4156,   5980, 126971,    138,    306,      0,    165],\n",
      "        [     0,   1627,   8518,      0,    143, 130384,    447,      9,      0],\n",
      "        [  2249,   1317,  66269,  20351,    194,   2342,  47173,      0,     36],\n",
      "        [     0,    109,    121,      0,    123,    321,      5, 138670,      0],\n",
      "        [     0,   1232,      0,      0,      0,      0,      0,      0, 140478]])\n",
      "Epoch end: Train, epoch number: 58\n",
      "TrainEpoch/CM\n",
      " tensor([[122097,   1359,   7436,   3226,    169,    329,    132,      0,    165],\n",
      "        [   121, 142577,      1,      0,    204,      0,      0,      0,      0],\n",
      "        [     0,   1711, 160488,      0,    138,    770,   3406,      0,      0],\n",
      "        [  6105,   1205,   7962, 119107,    325,    470,   3589,      0,    277],\n",
      "        [   355,   1577,   4156,   5980, 126971,    138,    306,      0,    165],\n",
      "        [     0,   1627,   8518,      0,    143, 130384,    447,      9,      0],\n",
      "        [  2249,   1317,  66269,  20351,    194,   2342,  47173,      0,     36],\n",
      "        [     0,    109,    121,      0,    123,    321,      5, 138670,      0],\n",
      "        [     0,   1232,      0,      0,      0,      0,      0,      0, 140478]])\n"
     ]
    },
    {
     "name": "stderr",
     "output_type": "stream",
     "text": [
      "Metric Validation/Accuracy improved by 0.000 >= min_delta = 0.0. New best score: 0.938\n"
     ]
    },
    {
     "data": {
      "application/vnd.jupyter.widget-view+json": {
       "model_id": "a869baa56c684ebda8e9969bdb325315",
       "version_major": 2,
       "version_minor": 0
      },
      "text/plain": [
       "Validation: |          | 0/? [00:00<?, ?it/s]"
      ]
     },
     "metadata": {},
     "output_type": "display_data"
    },
    {
     "name": "stdout",
     "output_type": "stream",
     "text": [
      "Epoch end: Validation, epoch number: 60\n",
      "ValidationEpoch/CM\n",
      " tensor([[124365,   1364,   7436,   3234,    169,    329,    136,      0,    165],\n",
      "        [   121, 144997,      1,      0,    204,      0,      0,      0,      0],\n",
      "        [     0,   1711, 163159,      0,    138,    770,   3555,      0,      0],\n",
      "        [  6162,   1205,   7962, 121298,    330,    470,   3691,      0,    277],\n",
      "        [   360,   1577,   4176,   6072, 129214,    138,    311,      0,    165],\n",
      "        [     0,   1627,   8533,      0,    143, 132754,    452,      9,      0],\n",
      "        [  2264,   1317,  66794,  20620,    194,   2352,  48724,      0,     36],\n",
      "        [     0,    109,    121,      0,    123,    326,      5, 141025,      0],\n",
      "        [     0,   1232,      0,      0,      0,      0,      0,      0, 142878]])\n",
      "Epoch end: Train, epoch number: 59\n",
      "TrainEpoch/CM\n",
      " tensor([[124365,   1364,   7436,   3234,    169,    329,    136,      0,    165],\n",
      "        [   121, 144997,      1,      0,    204,      0,      0,      0,      0],\n",
      "        [     0,   1711, 163159,      0,    138,    770,   3555,      0,      0],\n",
      "        [  6162,   1205,   7962, 121298,    330,    470,   3691,      0,    277],\n",
      "        [   360,   1577,   4176,   6072, 129214,    138,    311,      0,    165],\n",
      "        [     0,   1627,   8533,      0,    143, 132754,    452,      9,      0],\n",
      "        [  2264,   1317,  66794,  20620,    194,   2352,  48724,      0,     36],\n",
      "        [     0,    109,    121,      0,    123,    326,      5, 141025,      0],\n",
      "        [     0,   1232,      0,      0,      0,      0,      0,      0, 142878]])\n"
     ]
    },
    {
     "data": {
      "application/vnd.jupyter.widget-view+json": {
       "model_id": "5d161169aa4e492abc5c13e3aab4644e",
       "version_major": 2,
       "version_minor": 0
      },
      "text/plain": [
       "Validation: |          | 0/? [00:00<?, ?it/s]"
      ]
     },
     "metadata": {},
     "output_type": "display_data"
    },
    {
     "name": "stdout",
     "output_type": "stream",
     "text": [
      "Epoch end: Validation, epoch number: 61\n",
      "ValidationEpoch/CM\n",
      " tensor([[126625,   1369,   7436,   3249,    169,    329,    141,      0,    165],\n",
      "        [   121, 147417,      1,      0,    204,      0,      0,      0,      0],\n",
      "        [     0,   1711, 165827,      0,    138,    770,   3707,      0,      0],\n",
      "        [  6216,   1205,   7962, 123496,    335,    470,   3789,      0,    277],\n",
      "        [   365,   1577,   4192,   6159, 131466,    138,    316,      0,    165],\n",
      "        [     0,   1627,   8548,      0,    143, 135124,    457,      9,      0],\n",
      "        [  2279,   1317,  67308,  20889,    194,   2362,  50286,      0,     36],\n",
      "        [     0,    109,    121,      0,    123,    331,      5, 143380,      0],\n",
      "        [     0,   1232,      0,      0,      0,      0,      0,      0, 145278]])\n",
      "Epoch end: Train, epoch number: 60\n",
      "TrainEpoch/CM\n",
      " tensor([[126625,   1369,   7436,   3249,    169,    329,    141,      0,    165],\n",
      "        [   121, 147417,      1,      0,    204,      0,      0,      0,      0],\n",
      "        [     0,   1711, 165827,      0,    138,    770,   3707,      0,      0],\n",
      "        [  6216,   1205,   7962, 123496,    335,    470,   3789,      0,    277],\n",
      "        [   365,   1577,   4192,   6159, 131466,    138,    316,      0,    165],\n",
      "        [     0,   1627,   8548,      0,    143, 135124,    457,      9,      0],\n",
      "        [  2279,   1317,  67308,  20889,    194,   2362,  50286,      0,     36],\n",
      "        [     0,    109,    121,      0,    123,    331,      5, 143380,      0],\n",
      "        [     0,   1232,      0,      0,      0,      0,      0,      0, 145278]])\n"
     ]
    },
    {
     "name": "stderr",
     "output_type": "stream",
     "text": [
      "Metric Validation/Accuracy improved by 0.003 >= min_delta = 0.0. New best score: 0.941\n"
     ]
    },
    {
     "data": {
      "application/vnd.jupyter.widget-view+json": {
       "model_id": "8455bb7e4cc6484fbcf292c2bdc1e3e9",
       "version_major": 2,
       "version_minor": 0
      },
      "text/plain": [
       "Validation: |          | 0/? [00:00<?, ?it/s]"
      ]
     },
     "metadata": {},
     "output_type": "display_data"
    },
    {
     "name": "stdout",
     "output_type": "stream",
     "text": [
      "Epoch end: Validation, epoch number: 62\n",
      "ValidationEpoch/CM\n",
      " tensor([[128899,   1374,   7436,   3254,    169,    329,    142,      0,    165],\n",
      "        [   121, 149837,      1,      0,    204,      0,      0,      0,      0],\n",
      "        [     0,   1711, 168512,      0,    138,    770,   3842,      0,      0],\n",
      "        [  6271,   1205,   7962, 125684,    340,    470,   3896,      0,    277],\n",
      "        [   370,   1577,   4211,   6245, 133716,    138,    321,      0,    165],\n",
      "        [     0,   1627,   8563,      0,    143, 137494,    462,      9,      0],\n",
      "        [  2294,   1317,  67851,  21148,    194,   2371,  51830,      0,     36],\n",
      "        [     0,    109,    121,      0,    123,    336,      5, 145735,      0],\n",
      "        [     0,   1232,      0,      0,      0,      0,      0,      0, 147678]])\n",
      "Epoch end: Train, epoch number: 61\n",
      "TrainEpoch/CM\n",
      " tensor([[128899,   1374,   7436,   3254,    169,    329,    142,      0,    165],\n",
      "        [   121, 149837,      1,      0,    204,      0,      0,      0,      0],\n",
      "        [     0,   1711, 168512,      0,    138,    770,   3842,      0,      0],\n",
      "        [  6271,   1205,   7962, 125684,    340,    470,   3896,      0,    277],\n",
      "        [   370,   1577,   4211,   6245, 133716,    138,    321,      0,    165],\n",
      "        [     0,   1627,   8563,      0,    143, 137494,    462,      9,      0],\n",
      "        [  2294,   1317,  67851,  21148,    194,   2371,  51830,      0,     36],\n",
      "        [     0,    109,    121,      0,    123,    336,      5, 145735,      0],\n",
      "        [     0,   1232,      0,      0,      0,      0,      0,      0, 147678]])\n"
     ]
    },
    {
     "data": {
      "application/vnd.jupyter.widget-view+json": {
       "model_id": "a46e7771cf5740f8a01798148b47cfa1",
       "version_major": 2,
       "version_minor": 0
      },
      "text/plain": [
       "Validation: |          | 0/? [00:00<?, ?it/s]"
      ]
     },
     "metadata": {},
     "output_type": "display_data"
    },
    {
     "name": "stdout",
     "output_type": "stream",
     "text": [
      "Epoch end: Validation, epoch number: 63\n",
      "ValidationEpoch/CM\n",
      " tensor([[131161,   1379,   7436,   3267,    169,    329,    147,      0,    165],\n",
      "        [   121, 152257,      1,      0,    204,      0,      0,      0,      0],\n",
      "        [     0,   1711, 171168,      0,    138,    770,   4006,      0,      0],\n",
      "        [  6321,   1205,   7962, 127888,    345,    470,   3992,      0,    277],\n",
      "        [   375,   1577,   4228,   6333, 135966,    138,    326,      0,    165],\n",
      "        [     0,   1627,   8578,      0,    143, 139864,    467,      9,      0],\n",
      "        [  2309,   1317,  68361,  21419,    194,   2376,  53399,      0,     36],\n",
      "        [     0,    109,    121,      0,    123,    341,      5, 148090,      0],\n",
      "        [     0,   1232,      0,      0,      0,      0,      0,      0, 150078]])\n"
     ]
    },
    {
     "name": "stderr",
     "output_type": "stream",
     "text": [
      "Metric Validation/Accuracy improved by 0.001 >= min_delta = 0.0. New best score: 0.942\n"
     ]
    },
    {
     "name": "stdout",
     "output_type": "stream",
     "text": [
      "Epoch end: Train, epoch number: 62\n",
      "TrainEpoch/CM\n",
      " tensor([[131161,   1379,   7436,   3267,    169,    329,    147,      0,    165],\n",
      "        [   121, 152257,      1,      0,    204,      0,      0,      0,      0],\n",
      "        [     0,   1711, 171168,      0,    138,    770,   4006,      0,      0],\n",
      "        [  6321,   1205,   7962, 127888,    345,    470,   3992,      0,    277],\n",
      "        [   375,   1577,   4228,   6333, 135966,    138,    326,      0,    165],\n",
      "        [     0,   1627,   8578,      0,    143, 139864,    467,      9,      0],\n",
      "        [  2309,   1317,  68361,  21419,    194,   2376,  53399,      0,     36],\n",
      "        [     0,    109,    121,      0,    123,    341,      5, 148090,      0],\n",
      "        [     0,   1232,      0,      0,      0,      0,      0,      0, 150078]])\n"
     ]
    },
    {
     "data": {
      "application/vnd.jupyter.widget-view+json": {
       "model_id": "35f6c7f49a484a049bf7e111afcea99a",
       "version_major": 2,
       "version_minor": 0
      },
      "text/plain": [
       "Validation: |          | 0/? [00:00<?, ?it/s]"
      ]
     },
     "metadata": {},
     "output_type": "display_data"
    },
    {
     "name": "stdout",
     "output_type": "stream",
     "text": [
      "Epoch end: Validation, epoch number: 64\n",
      "ValidationEpoch/CM\n",
      " tensor([[133431,   1384,   7436,   3272,    169,    329,    152,      0,    165],\n",
      "        [   121, 154677,      1,      0,    204,      0,      0,      0,      0],\n",
      "        [     0,   1711, 173830,      0,    138,    770,   4164,      0,      0],\n",
      "        [  6374,   1205,   7962, 130073,    350,    470,   4104,      0,    277],\n",
      "        [   380,   1577,   4246,   6418, 138218,    138,    331,      0,    165],\n",
      "        [     0,   1627,   8593,      0,    143, 142234,    472,      9,      0],\n",
      "        [  2324,   1317,  68876,  21654,    194,   2381,  54999,      0,     36],\n",
      "        [     0,    109,    121,      0,    123,    346,      5, 150445,      0],\n",
      "        [     0,   1232,      0,      0,      0,      0,      0,      0, 152478]])\n",
      "Epoch end: Train, epoch number: 63\n",
      "TrainEpoch/CM\n",
      " tensor([[133431,   1384,   7436,   3272,    169,    329,    152,      0,    165],\n",
      "        [   121, 154677,      1,      0,    204,      0,      0,      0,      0],\n",
      "        [     0,   1711, 173830,      0,    138,    770,   4164,      0,      0],\n",
      "        [  6374,   1205,   7962, 130073,    350,    470,   4104,      0,    277],\n",
      "        [   380,   1577,   4246,   6418, 138218,    138,    331,      0,    165],\n",
      "        [     0,   1627,   8593,      0,    143, 142234,    472,      9,      0],\n",
      "        [  2324,   1317,  68876,  21654,    194,   2381,  54999,      0,     36],\n",
      "        [     0,    109,    121,      0,    123,    346,      5, 150445,      0],\n",
      "        [     0,   1232,      0,      0,      0,      0,      0,      0, 152478]])\n"
     ]
    },
    {
     "data": {
      "application/vnd.jupyter.widget-view+json": {
       "model_id": "4e449f8c7b0e45859da67e60b089e0c9",
       "version_major": 2,
       "version_minor": 0
      },
      "text/plain": [
       "Validation: |          | 0/? [00:00<?, ?it/s]"
      ]
     },
     "metadata": {},
     "output_type": "display_data"
    },
    {
     "name": "stdout",
     "output_type": "stream",
     "text": [
      "Epoch end: Validation, epoch number: 65\n",
      "ValidationEpoch/CM\n",
      " tensor([[135702,   1389,   7436,   3277,    169,    329,    156,      0,    165],\n",
      "        [   121, 157097,      1,      0,    204,      0,      0,      0,      0],\n",
      "        [     0,   1711, 176470,      0,    138,    772,   4342,      0,      0],\n",
      "        [  6422,   1205,   7962, 132269,    355,    470,   4210,      0,    277],\n",
      "        [   385,   1577,   4263,   6504, 140470,    138,    336,      0,    165],\n",
      "        [     0,   1627,   8605,      0,    143, 144608,    476,      9,      0],\n",
      "        [  2339,   1317,  69350,  21912,    194,   2387,  56616,      0,     36],\n",
      "        [     0,    109,    121,      0,    123,    351,      5, 152800,      0],\n",
      "        [     0,   1232,      0,      0,      0,      0,      0,      0, 154878]])\n",
      "Epoch end: Train, epoch number: 64\n",
      "TrainEpoch/CM\n",
      " tensor([[135702,   1389,   7436,   3277,    169,    329,    156,      0,    165],\n",
      "        [   121, 157097,      1,      0,    204,      0,      0,      0,      0],\n",
      "        [     0,   1711, 176470,      0,    138,    772,   4342,      0,      0],\n",
      "        [  6422,   1205,   7962, 132269,    355,    470,   4210,      0,    277],\n",
      "        [   385,   1577,   4263,   6504, 140470,    138,    336,      0,    165],\n",
      "        [     0,   1627,   8605,      0,    143, 144608,    476,      9,      0],\n",
      "        [  2339,   1317,  69350,  21912,    194,   2387,  56616,      0,     36],\n",
      "        [     0,    109,    121,      0,    123,    351,      5, 152800,      0],\n",
      "        [     0,   1232,      0,      0,      0,      0,      0,      0, 154878]])\n"
     ]
    },
    {
     "data": {
      "application/vnd.jupyter.widget-view+json": {
       "model_id": "aea170f5c84c44feb97f1930a4ebf547",
       "version_major": 2,
       "version_minor": 0
      },
      "text/plain": [
       "Validation: |          | 0/? [00:00<?, ?it/s]"
      ]
     },
     "metadata": {},
     "output_type": "display_data"
    },
    {
     "name": "stdout",
     "output_type": "stream",
     "text": [
      "Epoch end: Validation, epoch number: 66\n",
      "ValidationEpoch/CM\n",
      " tensor([[137970,   1394,   7436,   3287,    169,    329,    158,      0,    165],\n",
      "        [   121, 159517,      1,      0,    204,      0,      0,      0,      0],\n",
      "        [     0,   1711, 179125,      0,    138,    772,   4507,      0,      0],\n",
      "        [  6467,   1205,   7962, 134479,    360,    470,   4305,      0,    277],\n",
      "        [   390,   1577,   4278,   6589, 142725,    138,    341,      0,    165],\n",
      "        [     0,   1627,   8620,      0,    143, 146982,    477,      9,      0],\n",
      "        [  2354,   1317,  69849,  22164,    194,   2389,  58218,      0,     36],\n",
      "        [     0,    109,    121,      0,    123,    356,      5, 155155,      0],\n",
      "        [     0,   1232,      0,      0,      0,      0,      0,      0, 157278]])\n"
     ]
    },
    {
     "name": "stderr",
     "output_type": "stream",
     "text": [
      "Metric Validation/Accuracy improved by 0.001 >= min_delta = 0.0. New best score: 0.943\n"
     ]
    },
    {
     "name": "stdout",
     "output_type": "stream",
     "text": [
      "Epoch end: Train, epoch number: 65\n",
      "TrainEpoch/CM\n",
      " tensor([[137970,   1394,   7436,   3287,    169,    329,    158,      0,    165],\n",
      "        [   121, 159517,      1,      0,    204,      0,      0,      0,      0],\n",
      "        [     0,   1711, 179125,      0,    138,    772,   4507,      0,      0],\n",
      "        [  6467,   1205,   7962, 134479,    360,    470,   4305,      0,    277],\n",
      "        [   390,   1577,   4278,   6589, 142725,    138,    341,      0,    165],\n",
      "        [     0,   1627,   8620,      0,    143, 146982,    477,      9,      0],\n",
      "        [  2354,   1317,  69849,  22164,    194,   2389,  58218,      0,     36],\n",
      "        [     0,    109,    121,      0,    123,    356,      5, 155155,      0],\n",
      "        [     0,   1232,      0,      0,      0,      0,      0,      0, 157278]])\n"
     ]
    },
    {
     "data": {
      "application/vnd.jupyter.widget-view+json": {
       "model_id": "a3c7f996ffaf41498886e459d55c8b23",
       "version_major": 2,
       "version_minor": 0
      },
      "text/plain": [
       "Validation: |          | 0/? [00:00<?, ?it/s]"
      ]
     },
     "metadata": {},
     "output_type": "display_data"
    },
    {
     "name": "stdout",
     "output_type": "stream",
     "text": [
      "Epoch end: Validation, epoch number: 67\n",
      "ValidationEpoch/CM\n",
      " tensor([[140242,   1399,   7436,   3292,    169,    329,    161,      0,    165],\n",
      "        [   121, 161937,      1,      0,    204,      0,      0,      0,      0],\n",
      "        [     0,   1711, 181766,      0,    138,    772,   4686,      0,      0],\n",
      "        [  6512,   1205,   7962, 136677,    365,    470,   4412,      0,    277],\n",
      "        [   395,   1577,   4293,   6674, 144980,    138,    346,      0,    165],\n",
      "        [     0,   1627,   8635,      0,    143, 149357,    477,      9,      0],\n",
      "        [  2369,   1317,  70333,  22402,    194,   2394,  59846,      0,     36],\n",
      "        [     0,    109,    121,      0,    123,    361,      5, 157510,      0],\n",
      "        [     0,   1232,      0,      0,      0,      0,      0,      0, 159678]])\n"
     ]
    },
    {
     "name": "stderr",
     "output_type": "stream",
     "text": [
      "Metric Validation/Accuracy improved by 0.000 >= min_delta = 0.0. New best score: 0.943\n"
     ]
    },
    {
     "name": "stdout",
     "output_type": "stream",
     "text": [
      "Epoch end: Train, epoch number: 66\n",
      "TrainEpoch/CM\n",
      " tensor([[140242,   1399,   7436,   3292,    169,    329,    161,      0,    165],\n",
      "        [   121, 161937,      1,      0,    204,      0,      0,      0,      0],\n",
      "        [     0,   1711, 181766,      0,    138,    772,   4686,      0,      0],\n",
      "        [  6512,   1205,   7962, 136677,    365,    470,   4412,      0,    277],\n",
      "        [   395,   1577,   4293,   6674, 144980,    138,    346,      0,    165],\n",
      "        [     0,   1627,   8635,      0,    143, 149357,    477,      9,      0],\n",
      "        [  2369,   1317,  70333,  22402,    194,   2394,  59846,      0,     36],\n",
      "        [     0,    109,    121,      0,    123,    361,      5, 157510,      0],\n",
      "        [     0,   1232,      0,      0,      0,      0,      0,      0, 159678]])\n"
     ]
    },
    {
     "data": {
      "application/vnd.jupyter.widget-view+json": {
       "model_id": "bd5ebf2ac7484c568d7f5e2645aeca8f",
       "version_major": 2,
       "version_minor": 0
      },
      "text/plain": [
       "Validation: |          | 0/? [00:00<?, ?it/s]"
      ]
     },
     "metadata": {},
     "output_type": "display_data"
    },
    {
     "name": "stdout",
     "output_type": "stream",
     "text": [
      "Epoch end: Validation, epoch number: 68\n",
      "ValidationEpoch/CM\n",
      " tensor([[142514,   1404,   7436,   3297,    169,    329,    164,      0,    165],\n",
      "        [   121, 164357,      1,      0,    204,      0,      0,      0,      0],\n",
      "        [     0,   1711, 184426,      0,    138,    772,   4846,      0,      0],\n",
      "        [  6559,   1205,   7962, 138881,    370,    470,   4511,      0,    277],\n",
      "        [   400,   1577,   4309,   6759, 147234,    138,    351,      0,    165],\n",
      "        [     0,   1627,   8650,      0,    143, 151732,    477,      9,      0],\n",
      "        [  2384,   1317,  70841,  22651,    194,   2398,  61440,      0,     36],\n",
      "        [     0,    109,    121,      0,    123,    366,      5, 159865,      0],\n",
      "        [     0,   1232,      0,      0,      0,      0,      0,      0, 162078]])\n",
      "Epoch end: Train, epoch number: 67\n",
      "TrainEpoch/CM\n",
      " tensor([[142514,   1404,   7436,   3297,    169,    329,    164,      0,    165],\n",
      "        [   121, 164357,      1,      0,    204,      0,      0,      0,      0],\n",
      "        [     0,   1711, 184426,      0,    138,    772,   4846,      0,      0],\n",
      "        [  6559,   1205,   7962, 138881,    370,    470,   4511,      0,    277],\n",
      "        [   400,   1577,   4309,   6759, 147234,    138,    351,      0,    165],\n",
      "        [     0,   1627,   8650,      0,    143, 151732,    477,      9,      0],\n",
      "        [  2384,   1317,  70841,  22651,    194,   2398,  61440,      0,     36],\n",
      "        [     0,    109,    121,      0,    123,    366,      5, 159865,      0],\n",
      "        [     0,   1232,      0,      0,      0,      0,      0,      0, 162078]])\n"
     ]
    },
    {
     "data": {
      "application/vnd.jupyter.widget-view+json": {
       "model_id": "eadc449159cb4da8854b2d2dbecc76b5",
       "version_major": 2,
       "version_minor": 0
      },
      "text/plain": [
       "Validation: |          | 0/? [00:00<?, ?it/s]"
      ]
     },
     "metadata": {},
     "output_type": "display_data"
    },
    {
     "name": "stdout",
     "output_type": "stream",
     "text": [
      "Epoch end: Validation, epoch number: 69\n",
      "ValidationEpoch/CM\n",
      " tensor([[144786,   1409,   7436,   3302,    169,    329,    167,      0,    165],\n",
      "        [   121, 166777,      1,      0,    204,      0,      0,      0,      0],\n",
      "        [     0,   1711, 187068,      0,    138,    772,   5024,      0,      0],\n",
      "        [  6603,   1205,   7962, 141082,    375,    470,   4616,      0,    277],\n",
      "        [   405,   1577,   4324,   6843, 149490,    138,    356,      0,    165],\n",
      "        [     0,   1627,   8662,      0,    143, 154110,    477,      9,      0],\n",
      "        [  2399,   1317,  71322,  22887,    194,   2398,  63078,      0,     36],\n",
      "        [     0,    109,    121,      0,    123,    371,      5, 162220,      0],\n",
      "        [     0,   1232,      0,      0,      0,      0,      0,      0, 164478]])\n",
      "Epoch end: Train, epoch number: 68\n",
      "TrainEpoch/CM\n",
      " tensor([[144786,   1409,   7436,   3302,    169,    329,    167,      0,    165],\n",
      "        [   121, 166777,      1,      0,    204,      0,      0,      0,      0],\n",
      "        [     0,   1711, 187068,      0,    138,    772,   5024,      0,      0],\n",
      "        [  6603,   1205,   7962, 141082,    375,    470,   4616,      0,    277],\n",
      "        [   405,   1577,   4324,   6843, 149490,    138,    356,      0,    165],\n",
      "        [     0,   1627,   8662,      0,    143, 154110,    477,      9,      0],\n",
      "        [  2399,   1317,  71322,  22887,    194,   2398,  63078,      0,     36],\n",
      "        [     0,    109,    121,      0,    123,    371,      5, 162220,      0],\n",
      "        [     0,   1232,      0,      0,      0,      0,      0,      0, 164478]])\n"
     ]
    },
    {
     "data": {
      "application/vnd.jupyter.widget-view+json": {
       "model_id": "e5ebf7ed6a764a3ab08ee043c9080e27",
       "version_major": 2,
       "version_minor": 0
      },
      "text/plain": [
       "Validation: |          | 0/? [00:00<?, ?it/s]"
      ]
     },
     "metadata": {},
     "output_type": "display_data"
    },
    {
     "name": "stdout",
     "output_type": "stream",
     "text": [
      "Epoch end: Validation, epoch number: 70\n",
      "ValidationEpoch/CM\n",
      " tensor([[147058,   1414,   7436,   3307,    169,    329,    170,      0,    165],\n",
      "        [   121, 169197,      1,      0,    204,      0,      0,      0,      0],\n",
      "        [     0,   1711, 189710,      0,    138,    772,   5202,      0,      0],\n",
      "        [  6639,   1205,   7962, 143305,    380,    470,   4707,      0,    277],\n",
      "        [   410,   1577,   4339,   6923, 151750,    138,    361,      0,    165],\n",
      "        [     0,   1627,   8677,      0,    143, 156485,    477,      9,      0],\n",
      "        [  2414,   1317,  71801,  23132,    194,   2398,  64709,      0,     36],\n",
      "        [     0,    109,    121,      0,    123,    376,      5, 164575,      0],\n",
      "        [     0,   1232,      0,      0,      0,      0,      0,      0, 166878]])\n",
      "Epoch end: Train, epoch number: 69\n",
      "TrainEpoch/CM\n",
      " tensor([[147058,   1414,   7436,   3307,    169,    329,    170,      0,    165],\n",
      "        [   121, 169197,      1,      0,    204,      0,      0,      0,      0],\n",
      "        [     0,   1711, 189710,      0,    138,    772,   5202,      0,      0],\n",
      "        [  6639,   1205,   7962, 143305,    380,    470,   4707,      0,    277],\n",
      "        [   410,   1577,   4339,   6923, 151750,    138,    361,      0,    165],\n",
      "        [     0,   1627,   8677,      0,    143, 156485,    477,      9,      0],\n",
      "        [  2414,   1317,  71801,  23132,    194,   2398,  64709,      0,     36],\n",
      "        [     0,    109,    121,      0,    123,    376,      5, 164575,      0],\n",
      "        [     0,   1232,      0,      0,      0,      0,      0,      0, 166878]])\n"
     ]
    },
    {
     "name": "stderr",
     "output_type": "stream",
     "text": [
      "Metric Validation/Accuracy improved by 0.004 >= min_delta = 0.0. New best score: 0.947\n"
     ]
    },
    {
     "data": {
      "application/vnd.jupyter.widget-view+json": {
       "model_id": "b43391507e834e6796f206e9f719c7fb",
       "version_major": 2,
       "version_minor": 0
      },
      "text/plain": [
       "Validation: |          | 0/? [00:00<?, ?it/s]"
      ]
     },
     "metadata": {},
     "output_type": "display_data"
    },
    {
     "name": "stdout",
     "output_type": "stream",
     "text": [
      "Epoch end: Validation, epoch number: 71\n",
      "ValidationEpoch/CM\n",
      " tensor([[149330,   1419,   7436,   3312,    169,    329,    173,      0,    165],\n",
      "        [   121, 171617,      1,      0,    204,      0,      0,      0,      0],\n",
      "        [     0,   1711, 192345,      0,    138,    772,   5387,      0,      0],\n",
      "        [  6672,   1205,   7962, 145509,    385,    470,   4820,      0,    277],\n",
      "        [   415,   1577,   4356,   7007, 154004,    138,    366,      0,    165],\n",
      "        [     0,   1627,   8689,      0,    143, 158863,    477,      9,      0],\n",
      "        [  2429,   1317,  72264,  23362,    194,   2398,  66371,      0,     36],\n",
      "        [     0,    109,    121,      0,    123,    381,      5, 166930,      0],\n",
      "        [     0,   1232,      0,      0,      0,      0,      0,      0, 169278]])\n",
      "Epoch end: Train, epoch number: 70\n",
      "TrainEpoch/CM\n",
      " tensor([[149330,   1419,   7436,   3312,    169,    329,    173,      0,    165],\n",
      "        [   121, 171617,      1,      0,    204,      0,      0,      0,      0],\n",
      "        [     0,   1711, 192345,      0,    138,    772,   5387,      0,      0],\n",
      "        [  6672,   1205,   7962, 145509,    385,    470,   4820,      0,    277],\n",
      "        [   415,   1577,   4356,   7007, 154004,    138,    366,      0,    165],\n",
      "        [     0,   1627,   8689,      0,    143, 158863,    477,      9,      0],\n",
      "        [  2429,   1317,  72264,  23362,    194,   2398,  66371,      0,     36],\n",
      "        [     0,    109,    121,      0,    123,    381,      5, 166930,      0],\n",
      "        [     0,   1232,      0,      0,      0,      0,      0,      0, 169278]])\n"
     ]
    },
    {
     "data": {
      "application/vnd.jupyter.widget-view+json": {
       "model_id": "a7755e0691004f4db6e1784d11f49800",
       "version_major": 2,
       "version_minor": 0
      },
      "text/plain": [
       "Validation: |          | 0/? [00:00<?, ?it/s]"
      ]
     },
     "metadata": {},
     "output_type": "display_data"
    },
    {
     "name": "stdout",
     "output_type": "stream",
     "text": [
      "Epoch end: Validation, epoch number: 72\n",
      "ValidationEpoch/CM\n",
      " tensor([[151602,   1424,   7436,   3317,    169,    329,    176,      0,    165],\n",
      "        [   121, 174037,      1,      0,    204,      0,      0,      0,      0],\n",
      "        [     0,   1711, 194983,      0,    138,    772,   5569,      0,      0],\n",
      "        [  6706,   1205,   7962, 147729,    390,    470,   4916,      0,    277],\n",
      "        [   420,   1577,   4371,   7084, 156267,    138,    371,      0,    165],\n",
      "        [     0,   1627,   8699,      0,    143, 161243,    477,      9,      0],\n",
      "        [  2444,   1317,  72722,  23599,    195,   2399,  68029,      0,     36],\n",
      "        [     0,    109,    121,      0,    123,    386,      5, 169285,      0],\n",
      "        [     0,   1232,      0,      0,      0,      0,      0,      0, 171678]])\n",
      "Epoch end: Train, epoch number: 71\n",
      "TrainEpoch/CM\n",
      " tensor([[151602,   1424,   7436,   3317,    169,    329,    176,      0,    165],\n",
      "        [   121, 174037,      1,      0,    204,      0,      0,      0,      0],\n",
      "        [     0,   1711, 194983,      0,    138,    772,   5569,      0,      0],\n",
      "        [  6706,   1205,   7962, 147729,    390,    470,   4916,      0,    277],\n",
      "        [   420,   1577,   4371,   7084, 156267,    138,    371,      0,    165],\n",
      "        [     0,   1627,   8699,      0,    143, 161243,    477,      9,      0],\n",
      "        [  2444,   1317,  72722,  23599,    195,   2399,  68029,      0,     36],\n",
      "        [     0,    109,    121,      0,    123,    386,      5, 169285,      0],\n",
      "        [     0,   1232,      0,      0,      0,      0,      0,      0, 171678]])\n"
     ]
    },
    {
     "name": "stderr",
     "output_type": "stream",
     "text": [
      "Metric Validation/Accuracy improved by 0.000 >= min_delta = 0.0. New best score: 0.947\n"
     ]
    },
    {
     "data": {
      "application/vnd.jupyter.widget-view+json": {
       "model_id": "ea673ff4554d48eba6359d2e5ea8ef8c",
       "version_major": 2,
       "version_minor": 0
      },
      "text/plain": [
       "Validation: |          | 0/? [00:00<?, ?it/s]"
      ]
     },
     "metadata": {},
     "output_type": "display_data"
    },
    {
     "name": "stdout",
     "output_type": "stream",
     "text": [
      "Epoch end: Validation, epoch number: 73\n",
      "ValidationEpoch/CM\n",
      " tensor([[153876,   1429,   7436,   3320,    169,    329,    179,      0,    165],\n",
      "        [   121, 176457,      1,      0,    204,      0,      0,      0,      0],\n",
      "        [     0,   1711, 197617,      0,    138,    772,   5755,      0,      0],\n",
      "        [  6742,   1205,   7962, 149937,    395,    470,   5022,      0,    277],\n",
      "        [   425,   1577,   4386,   7162, 158529,    138,    376,      0,    165],\n",
      "        [     0,   1627,   8709,      0,    143, 163623,    477,      9,      0],\n",
      "        [  2456,   1317,  73192,  23827,    195,   2399,  69689,      0,     36],\n",
      "        [     0,    109,    121,      0,    123,    391,      5, 171640,      0],\n",
      "        [     0,   1232,      0,      0,      0,      0,      0,      0, 174078]])\n",
      "Epoch end: Train, epoch number: 72\n",
      "TrainEpoch/CM\n",
      " tensor([[153876,   1429,   7436,   3320,    169,    329,    179,      0,    165],\n",
      "        [   121, 176457,      1,      0,    204,      0,      0,      0,      0],\n",
      "        [     0,   1711, 197617,      0,    138,    772,   5755,      0,      0],\n",
      "        [  6742,   1205,   7962, 149937,    395,    470,   5022,      0,    277],\n",
      "        [   425,   1577,   4386,   7162, 158529,    138,    376,      0,    165],\n",
      "        [     0,   1627,   8709,      0,    143, 163623,    477,      9,      0],\n",
      "        [  2456,   1317,  73192,  23827,    195,   2399,  69689,      0,     36],\n",
      "        [     0,    109,    121,      0,    123,    391,      5, 171640,      0],\n",
      "        [     0,   1232,      0,      0,      0,      0,      0,      0, 174078]])\n"
     ]
    },
    {
     "data": {
      "application/vnd.jupyter.widget-view+json": {
       "model_id": "ea07d4adae914762b6fd03c40c3ae4c8",
       "version_major": 2,
       "version_minor": 0
      },
      "text/plain": [
       "Validation: |          | 0/? [00:00<?, ?it/s]"
      ]
     },
     "metadata": {},
     "output_type": "display_data"
    },
    {
     "name": "stdout",
     "output_type": "stream",
     "text": [
      "Epoch end: Validation, epoch number: 74\n",
      "ValidationEpoch/CM\n",
      " tensor([[156144,   1434,   7436,   3328,    169,    329,    183,      0,    165],\n",
      "        [   121, 178877,      1,      0,    204,      0,      0,      0,      0],\n",
      "        [     0,   1711, 200242,      0,    138,    772,   5950,      0,      0],\n",
      "        [  6769,   1205,   7962, 152152,    400,    470,   5130,      0,    277],\n",
      "        [   430,   1577,   4401,   7239, 160792,    138,    381,      0,    165],\n",
      "        [     0,   1627,   8719,      0,    143, 166003,    477,      9,      0],\n",
      "        [  2469,   1317,  73634,  24051,    195,   2399,  71380,      0,     36],\n",
      "        [     0,    109,    121,      0,    123,    396,      5, 173995,      0],\n",
      "        [     0,   1232,      0,      0,      0,      0,      0,      0, 176478]])\n"
     ]
    },
    {
     "name": "stderr",
     "output_type": "stream",
     "text": [
      "Metric Validation/Accuracy improved by 0.002 >= min_delta = 0.0. New best score: 0.949\n"
     ]
    },
    {
     "name": "stdout",
     "output_type": "stream",
     "text": [
      "Epoch end: Train, epoch number: 73\n",
      "TrainEpoch/CM\n",
      " tensor([[156144,   1434,   7436,   3328,    169,    329,    183,      0,    165],\n",
      "        [   121, 178877,      1,      0,    204,      0,      0,      0,      0],\n",
      "        [     0,   1711, 200242,      0,    138,    772,   5950,      0,      0],\n",
      "        [  6769,   1205,   7962, 152152,    400,    470,   5130,      0,    277],\n",
      "        [   430,   1577,   4401,   7239, 160792,    138,    381,      0,    165],\n",
      "        [     0,   1627,   8719,      0,    143, 166003,    477,      9,      0],\n",
      "        [  2469,   1317,  73634,  24051,    195,   2399,  71380,      0,     36],\n",
      "        [     0,    109,    121,      0,    123,    396,      5, 173995,      0],\n",
      "        [     0,   1232,      0,      0,      0,      0,      0,      0, 176478]])\n"
     ]
    },
    {
     "data": {
      "application/vnd.jupyter.widget-view+json": {
       "model_id": "a06ebf204d434dc39a13a9468be7a32d",
       "version_major": 2,
       "version_minor": 0
      },
      "text/plain": [
       "Validation: |          | 0/? [00:00<?, ?it/s]"
      ]
     },
     "metadata": {},
     "output_type": "display_data"
    },
    {
     "name": "stdout",
     "output_type": "stream",
     "text": [
      "Epoch end: Validation, epoch number: 75\n",
      "ValidationEpoch/CM\n",
      " tensor([[158420,   1439,   7436,   3332,    169,    329,    183,      0,    165],\n",
      "        [   121, 181297,      1,      0,    204,      0,      0,      0,      0],\n",
      "        [     0,   1711, 202862,      0,    138,    772,   6150,      0,      0],\n",
      "        [  6799,   1205,   7962, 154367,    405,    470,   5235,      0,    277],\n",
      "        [   435,   1577,   4416,   7314, 163057,    138,    386,      0,    165],\n",
      "        [     0,   1627,   8729,      0,    143, 168383,    477,      9,      0],\n",
      "        [  2484,   1317,  74066,  24266,    195,   2399,  73088,      0,     36],\n",
      "        [     0,    109,    121,      0,    123,    401,      5, 176350,      0],\n",
      "        [     0,   1232,      0,      0,      0,      0,      0,      0, 178878]])\n",
      "Epoch end: Train, epoch number: 74\n",
      "TrainEpoch/CM\n",
      " tensor([[158420,   1439,   7436,   3332,    169,    329,    183,      0,    165],\n",
      "        [   121, 181297,      1,      0,    204,      0,      0,      0,      0],\n",
      "        [     0,   1711, 202862,      0,    138,    772,   6150,      0,      0],\n",
      "        [  6799,   1205,   7962, 154367,    405,    470,   5235,      0,    277],\n",
      "        [   435,   1577,   4416,   7314, 163057,    138,    386,      0,    165],\n",
      "        [     0,   1627,   8729,      0,    143, 168383,    477,      9,      0],\n",
      "        [  2484,   1317,  74066,  24266,    195,   2399,  73088,      0,     36],\n",
      "        [     0,    109,    121,      0,    123,    401,      5, 176350,      0],\n",
      "        [     0,   1232,      0,      0,      0,      0,      0,      0, 178878]])\n"
     ]
    },
    {
     "data": {
      "application/vnd.jupyter.widget-view+json": {
       "model_id": "d233b67802f94c36b30dbb592eff43ef",
       "version_major": 2,
       "version_minor": 0
      },
      "text/plain": [
       "Validation: |          | 0/? [00:00<?, ?it/s]"
      ]
     },
     "metadata": {},
     "output_type": "display_data"
    },
    {
     "name": "stdout",
     "output_type": "stream",
     "text": [
      "Epoch end: Validation, epoch number: 76\n",
      "ValidationEpoch/CM\n",
      " tensor([[160695,   1444,   7436,   3337,    169,    329,    183,      0,    165],\n",
      "        [   121, 183717,      1,      0,    204,      0,      0,      0,      0],\n",
      "        [     0,   1711, 205493,      0,    138,    772,   6339,      0,      0],\n",
      "        [  6824,   1205,   7962, 156584,    410,    470,   5343,      0,    277],\n",
      "        [   440,   1577,   4431,   7389, 165322,    138,    391,      0,    165],\n",
      "        [     0,   1627,   8739,      0,    143, 170763,    477,      9,      0],\n",
      "        [  2499,   1317,  74515,  24485,    195,   2399,  74775,      0,     36],\n",
      "        [     0,    109,    121,      0,    123,    406,      5, 178705,      0],\n",
      "        [     0,   1232,      0,      0,      0,      0,      0,      0, 181278]])\n",
      "Epoch end: Train, epoch number: 75\n",
      "TrainEpoch/CM\n",
      " tensor([[160695,   1444,   7436,   3337,    169,    329,    183,      0,    165],\n",
      "        [   121, 183717,      1,      0,    204,      0,      0,      0,      0],\n",
      "        [     0,   1711, 205493,      0,    138,    772,   6339,      0,      0],\n",
      "        [  6824,   1205,   7962, 156584,    410,    470,   5343,      0,    277],\n",
      "        [   440,   1577,   4431,   7389, 165322,    138,    391,      0,    165],\n",
      "        [     0,   1627,   8739,      0,    143, 170763,    477,      9,      0],\n",
      "        [  2499,   1317,  74515,  24485,    195,   2399,  74775,      0,     36],\n",
      "        [     0,    109,    121,      0,    123,    406,      5, 178705,      0],\n",
      "        [     0,   1232,      0,      0,      0,      0,      0,      0, 181278]])\n"
     ]
    },
    {
     "data": {
      "application/vnd.jupyter.widget-view+json": {
       "model_id": "212bb598ff2c40b996800194ce9f037f",
       "version_major": 2,
       "version_minor": 0
      },
      "text/plain": [
       "Validation: |          | 0/? [00:00<?, ?it/s]"
      ]
     },
     "metadata": {},
     "output_type": "display_data"
    },
    {
     "name": "stdout",
     "output_type": "stream",
     "text": [
      "Epoch end: Validation, epoch number: 77\n",
      "ValidationEpoch/CM\n",
      " tensor([[162969,   1449,   7436,   3342,    169,    329,    184,      0,    165],\n",
      "        [   121, 186137,      1,      0,    204,      0,      0,      0,      0],\n",
      "        [     0,   1711, 208121,      0,    138,    772,   6531,      0,      0],\n",
      "        [  6846,   1205,   7962, 158805,    415,    470,   5450,      0,    277],\n",
      "        [   445,   1577,   4446,   7461, 167590,    138,    396,      0,    165],\n",
      "        [     0,   1627,   8750,      0,    143, 173142,    477,      9,      0],\n",
      "        [  2513,   1317,  74957,  24711,    195,   2399,  76463,      0,     36],\n",
      "        [     0,    109,    121,      0,    123,    411,      5, 181060,      0],\n",
      "        [     0,   1232,      0,      0,      0,      0,      0,      0, 183678]])\n"
     ]
    },
    {
     "name": "stderr",
     "output_type": "stream",
     "text": [
      "Metric Validation/Accuracy improved by 0.001 >= min_delta = 0.0. New best score: 0.950\n"
     ]
    },
    {
     "name": "stdout",
     "output_type": "stream",
     "text": [
      "Epoch end: Train, epoch number: 76\n",
      "TrainEpoch/CM\n",
      " tensor([[162969,   1449,   7436,   3342,    169,    329,    184,      0,    165],\n",
      "        [   121, 186137,      1,      0,    204,      0,      0,      0,      0],\n",
      "        [     0,   1711, 208121,      0,    138,    772,   6531,      0,      0],\n",
      "        [  6846,   1205,   7962, 158805,    415,    470,   5450,      0,    277],\n",
      "        [   445,   1577,   4446,   7461, 167590,    138,    396,      0,    165],\n",
      "        [     0,   1627,   8750,      0,    143, 173142,    477,      9,      0],\n",
      "        [  2513,   1317,  74957,  24711,    195,   2399,  76463,      0,     36],\n",
      "        [     0,    109,    121,      0,    123,    411,      5, 181060,      0],\n",
      "        [     0,   1232,      0,      0,      0,      0,      0,      0, 183678]])\n"
     ]
    },
    {
     "data": {
      "application/vnd.jupyter.widget-view+json": {
       "model_id": "e1cb1978ae9d45b6a54d2fc26915b273",
       "version_major": 2,
       "version_minor": 0
      },
      "text/plain": [
       "Validation: |          | 0/? [00:00<?, ?it/s]"
      ]
     },
     "metadata": {},
     "output_type": "display_data"
    },
    {
     "name": "stdout",
     "output_type": "stream",
     "text": [
      "Epoch end: Validation, epoch number: 78\n",
      "ValidationEpoch/CM\n",
      " tensor([[165244,   1454,   7436,   3347,    169,    329,    184,      0,    165],\n",
      "        [   121, 188557,      1,      0,    204,      0,      0,      0,      0],\n",
      "        [     0,   1711, 210748,      0,    138,    772,   6724,      0,      0],\n",
      "        [  6869,   1205,   7962, 161037,    420,    470,   5545,      0,    277],\n",
      "        [   450,   1577,   4461,   7533, 169858,    138,    401,      0,    165],\n",
      "        [     0,   1627,   8760,      0,    143, 175522,    477,      9,      0],\n",
      "        [  2528,   1317,  75392,  24924,    195,   2399,  78170,      0,     36],\n",
      "        [     0,    109,    121,      0,    123,    416,      5, 183415,      0],\n",
      "        [     0,   1232,      0,      0,      0,      0,      0,      0, 186078]])\n",
      "Epoch end: Train, epoch number: 77\n",
      "TrainEpoch/CM\n",
      " tensor([[165244,   1454,   7436,   3347,    169,    329,    184,      0,    165],\n",
      "        [   121, 188557,      1,      0,    204,      0,      0,      0,      0],\n",
      "        [     0,   1711, 210748,      0,    138,    772,   6724,      0,      0],\n",
      "        [  6869,   1205,   7962, 161037,    420,    470,   5545,      0,    277],\n",
      "        [   450,   1577,   4461,   7533, 169858,    138,    401,      0,    165],\n",
      "        [     0,   1627,   8760,      0,    143, 175522,    477,      9,      0],\n",
      "        [  2528,   1317,  75392,  24924,    195,   2399,  78170,      0,     36],\n",
      "        [     0,    109,    121,      0,    123,    416,      5, 183415,      0],\n",
      "        [     0,   1232,      0,      0,      0,      0,      0,      0, 186078]])\n"
     ]
    },
    {
     "data": {
      "application/vnd.jupyter.widget-view+json": {
       "model_id": "204c0652047542a19d573a58b238fb89",
       "version_major": 2,
       "version_minor": 0
      },
      "text/plain": [
       "Validation: |          | 0/? [00:00<?, ?it/s]"
      ]
     },
     "metadata": {},
     "output_type": "display_data"
    },
    {
     "name": "stdout",
     "output_type": "stream",
     "text": [
      "Epoch end: Validation, epoch number: 79\n",
      "ValidationEpoch/CM\n",
      " tensor([[167519,   1459,   7436,   3352,    169,    329,    184,      0,    165],\n",
      "        [   121, 190977,      1,      0,    204,      0,      0,      0,      0],\n",
      "        [     0,   1711, 213376,      0,    138,    772,   6916,      0,      0],\n",
      "        [  6891,   1205,   7962, 163264,    425,    470,   5646,      0,    277],\n",
      "        [   455,   1577,   4476,   7603, 172128,    138,    406,      0,    165],\n",
      "        [     0,   1627,   8770,      0,    143, 177902,    477,      9,      0],\n",
      "        [  2542,   1317,  75818,  25132,    195,   2399,  79892,      0,     36],\n",
      "        [     0,    109,    121,      0,    123,    421,      5, 185770,      0],\n",
      "        [     0,   1232,      0,      0,      0,      0,      0,      0, 188478]])\n",
      "Epoch end: Train, epoch number: 78\n",
      "TrainEpoch/CM\n",
      " tensor([[167519,   1459,   7436,   3352,    169,    329,    184,      0,    165],\n",
      "        [   121, 190977,      1,      0,    204,      0,      0,      0,      0],\n",
      "        [     0,   1711, 213376,      0,    138,    772,   6916,      0,      0],\n",
      "        [  6891,   1205,   7962, 163264,    425,    470,   5646,      0,    277],\n",
      "        [   455,   1577,   4476,   7603, 172128,    138,    406,      0,    165],\n",
      "        [     0,   1627,   8770,      0,    143, 177902,    477,      9,      0],\n",
      "        [  2542,   1317,  75818,  25132,    195,   2399,  79892,      0,     36],\n",
      "        [     0,    109,    121,      0,    123,    421,      5, 185770,      0],\n",
      "        [     0,   1232,      0,      0,      0,      0,      0,      0, 188478]])\n"
     ]
    },
    {
     "name": "stderr",
     "output_type": "stream",
     "text": [
      "Metric Validation/Accuracy improved by 0.001 >= min_delta = 0.0. New best score: 0.951\n"
     ]
    },
    {
     "data": {
      "application/vnd.jupyter.widget-view+json": {
       "model_id": "20f5a9d408af4422ae47184f1f65e430",
       "version_major": 2,
       "version_minor": 0
      },
      "text/plain": [
       "Validation: |          | 0/? [00:00<?, ?it/s]"
      ]
     },
     "metadata": {},
     "output_type": "display_data"
    },
    {
     "name": "stdout",
     "output_type": "stream",
     "text": [
      "Epoch end: Validation, epoch number: 80\n",
      "ValidationEpoch/CM\n",
      " tensor([[169794,   1464,   7436,   3357,    169,    329,    184,      0,    165],\n",
      "        [   121, 193397,      1,      0,    204,      0,      0,      0,      0],\n",
      "        [     0,   1711, 216015,      0,    138,    772,   7097,      0,      0],\n",
      "        [  6913,   1205,   7962, 165483,    430,    470,   5755,      0,    277],\n",
      "        [   460,   1577,   4491,   7676, 174395,    138,    411,      0,    165],\n",
      "        [     0,   1627,   8780,      0,    143, 180282,    477,      9,      0],\n",
      "        [  2552,   1317,  76269,  25341,    195,   2399,  81592,      0,     36],\n",
      "        [     0,    109,    121,      0,    123,    426,      5, 188125,      0],\n",
      "        [     0,   1232,      0,      0,      0,      0,      0,      0, 190878]])\n",
      "Epoch end: Train, epoch number: 79\n",
      "TrainEpoch/CM\n",
      " tensor([[169794,   1464,   7436,   3357,    169,    329,    184,      0,    165],\n",
      "        [   121, 193397,      1,      0,    204,      0,      0,      0,      0],\n",
      "        [     0,   1711, 216015,      0,    138,    772,   7097,      0,      0],\n",
      "        [  6913,   1205,   7962, 165483,    430,    470,   5755,      0,    277],\n",
      "        [   460,   1577,   4491,   7676, 174395,    138,    411,      0,    165],\n",
      "        [     0,   1627,   8780,      0,    143, 180282,    477,      9,      0],\n",
      "        [  2552,   1317,  76269,  25341,    195,   2399,  81592,      0,     36],\n",
      "        [     0,    109,    121,      0,    123,    426,      5, 188125,      0],\n",
      "        [     0,   1232,      0,      0,      0,      0,      0,      0, 190878]])\n"
     ]
    },
    {
     "data": {
      "application/vnd.jupyter.widget-view+json": {
       "model_id": "d0447b68dd44411b9b1df2cf8f1de22b",
       "version_major": 2,
       "version_minor": 0
      },
      "text/plain": [
       "Validation: |          | 0/? [00:00<?, ?it/s]"
      ]
     },
     "metadata": {},
     "output_type": "display_data"
    },
    {
     "name": "stdout",
     "output_type": "stream",
     "text": [
      "Epoch end: Validation, epoch number: 81\n",
      "ValidationEpoch/CM\n",
      " tensor([[172069,   1468,   7436,   3362,    169,    329,    185,      0,    165],\n",
      "        [   121, 195817,      1,      0,    204,      0,      0,      0,      0],\n",
      "        [     0,   1711, 218646,      0,    138,    772,   7286,      0,      0],\n",
      "        [  6934,   1205,   7962, 167713,    435,    470,   5854,      0,    277],\n",
      "        [   465,   1577,   4503,   7746, 176668,    138,    416,      0,    165],\n",
      "        [     0,   1627,   8790,      0,    143, 182662,    477,      9,      0],\n",
      "        [  2565,   1317,  76704,  25552,    195,   2399,  83303,      0,     36],\n",
      "        [     0,    109,    121,      0,    123,    431,      5, 190480,      0],\n",
      "        [     0,   1232,      0,      0,      0,      0,      0,      0, 193278]])\n",
      "Epoch end: Train, epoch number: 80\n",
      "TrainEpoch/CM\n",
      " tensor([[172069,   1468,   7436,   3362,    169,    329,    185,      0,    165],\n",
      "        [   121, 195817,      1,      0,    204,      0,      0,      0,      0],\n",
      "        [     0,   1711, 218646,      0,    138,    772,   7286,      0,      0],\n",
      "        [  6934,   1205,   7962, 167713,    435,    470,   5854,      0,    277],\n",
      "        [   465,   1577,   4503,   7746, 176668,    138,    416,      0,    165],\n",
      "        [     0,   1627,   8790,      0,    143, 182662,    477,      9,      0],\n",
      "        [  2565,   1317,  76704,  25552,    195,   2399,  83303,      0,     36],\n",
      "        [     0,    109,    121,      0,    123,    431,      5, 190480,      0],\n",
      "        [     0,   1232,      0,      0,      0,      0,      0,      0, 193278]])\n"
     ]
    },
    {
     "data": {
      "application/vnd.jupyter.widget-view+json": {
       "model_id": "04bafb054a004c25a1569aced9d71faf",
       "version_major": 2,
       "version_minor": 0
      },
      "text/plain": [
       "Validation: |          | 0/? [00:00<?, ?it/s]"
      ]
     },
     "metadata": {},
     "output_type": "display_data"
    },
    {
     "name": "stdout",
     "output_type": "stream",
     "text": [
      "Epoch end: Validation, epoch number: 82\n",
      "ValidationEpoch/CM\n",
      " tensor([[174345,   1472,   7436,   3367,    169,    329,    185,      0,    165],\n",
      "        [   121, 198237,      1,      0,    204,      0,      0,      0,      0],\n",
      "        [     0,   1711, 221276,      0,    138,    772,   7476,      0,      0],\n",
      "        [  6954,   1205,   7962, 169932,    440,    470,   5965,      0,    277],\n",
      "        [   470,   1577,   4517,   7816, 178939,    138,    421,      0,    165],\n",
      "        [     0,   1627,   8800,      0,    143, 185042,    477,      9,      0],\n",
      "        [  2578,   1317,  77125,  25747,    195,   2399,  85044,      0,     36],\n",
      "        [     0,    109,    121,      0,    123,    436,      5, 192835,      0],\n",
      "        [     0,   1232,      0,      0,      0,      0,      0,      0, 195678]])\n",
      "Epoch end: Train, epoch number: 81\n",
      "TrainEpoch/CM\n",
      " tensor([[174345,   1472,   7436,   3367,    169,    329,    185,      0,    165],\n",
      "        [   121, 198237,      1,      0,    204,      0,      0,      0,      0],\n",
      "        [     0,   1711, 221276,      0,    138,    772,   7476,      0,      0],\n",
      "        [  6954,   1205,   7962, 169932,    440,    470,   5965,      0,    277],\n",
      "        [   470,   1577,   4517,   7816, 178939,    138,    421,      0,    165],\n",
      "        [     0,   1627,   8800,      0,    143, 185042,    477,      9,      0],\n",
      "        [  2578,   1317,  77125,  25747,    195,   2399,  85044,      0,     36],\n",
      "        [     0,    109,    121,      0,    123,    436,      5, 192835,      0],\n",
      "        [     0,   1232,      0,      0,      0,      0,      0,      0, 195678]])\n"
     ]
    },
    {
     "data": {
      "application/vnd.jupyter.widget-view+json": {
       "model_id": "1eb5c4656bef4639bf942e07889d488b",
       "version_major": 2,
       "version_minor": 0
      },
      "text/plain": [
       "Validation: |          | 0/? [00:00<?, ?it/s]"
      ]
     },
     "metadata": {},
     "output_type": "display_data"
    },
    {
     "name": "stdout",
     "output_type": "stream",
     "text": [
      "Epoch end: Validation, epoch number: 83\n",
      "ValidationEpoch/CM\n",
      " tensor([[176625,   1472,   7436,   3372,    169,    329,    185,      0,    165],\n",
      "        [   121, 200657,      1,      0,    204,      0,      0,      0,      0],\n",
      "        [     0,   1711, 223908,      0,    138,    772,   7664,      0,      0],\n",
      "        [  6974,   1205,   7962, 172159,    445,    470,   6068,      0,    277],\n",
      "        [   475,   1577,   4532,   7886, 181209,    138,    426,      0,    165],\n",
      "        [     0,   1627,   8810,      0,    143, 187422,    477,      9,      0],\n",
      "        [  2590,   1317,  77554,  25957,    195,   2399,  86763,      0,     36],\n",
      "        [     0,    109,    121,      0,    123,    441,      5, 195190,      0],\n",
      "        [     0,   1232,      0,      0,      0,      0,      0,      0, 198078]])\n",
      "Epoch end: Train, epoch number: 82\n",
      "TrainEpoch/CM\n",
      " tensor([[176625,   1472,   7436,   3372,    169,    329,    185,      0,    165],\n",
      "        [   121, 200657,      1,      0,    204,      0,      0,      0,      0],\n",
      "        [     0,   1711, 223908,      0,    138,    772,   7664,      0,      0],\n",
      "        [  6974,   1205,   7962, 172159,    445,    470,   6068,      0,    277],\n",
      "        [   475,   1577,   4532,   7886, 181209,    138,    426,      0,    165],\n",
      "        [     0,   1627,   8810,      0,    143, 187422,    477,      9,      0],\n",
      "        [  2590,   1317,  77554,  25957,    195,   2399,  86763,      0,     36],\n",
      "        [     0,    109,    121,      0,    123,    441,      5, 195190,      0],\n",
      "        [     0,   1232,      0,      0,      0,      0,      0,      0, 198078]])\n"
     ]
    },
    {
     "data": {
      "application/vnd.jupyter.widget-view+json": {
       "model_id": "e9647e6da88f40e69d7de40eb5512c59",
       "version_major": 2,
       "version_minor": 0
      },
      "text/plain": [
       "Validation: |          | 0/? [00:00<?, ?it/s]"
      ]
     },
     "metadata": {},
     "output_type": "display_data"
    },
    {
     "name": "stdout",
     "output_type": "stream",
     "text": [
      "Epoch end: Validation, epoch number: 84\n",
      "ValidationEpoch/CM\n",
      " tensor([[178905,   1472,   7436,   3377,    169,    329,    185,      0,    165],\n",
      "        [   121, 203077,      1,      0,    204,      0,      0,      0,      0],\n",
      "        [     0,   1711, 226537,      0,    138,    772,   7855,      0,      0],\n",
      "        [  6994,   1205,   7962, 174382,    450,    470,   6175,      0,    277],\n",
      "        [   480,   1577,   4544,   7956, 183482,    138,    431,      0,    165],\n",
      "        [     0,   1627,   8820,      0,    143, 189802,    477,      9,      0],\n",
      "        [  2600,   1317,  77980,  26159,    195,   2399,  88495,      0,     36],\n",
      "        [     0,    109,    121,      0,    123,    446,      5, 197545,      0],\n",
      "        [     0,   1232,      0,      0,      0,      0,      0,      0, 200478]])\n",
      "Epoch end: Train, epoch number: 83\n",
      "TrainEpoch/CM\n",
      " tensor([[178905,   1472,   7436,   3377,    169,    329,    185,      0,    165],\n",
      "        [   121, 203077,      1,      0,    204,      0,      0,      0,      0],\n",
      "        [     0,   1711, 226537,      0,    138,    772,   7855,      0,      0],\n",
      "        [  6994,   1205,   7962, 174382,    450,    470,   6175,      0,    277],\n",
      "        [   480,   1577,   4544,   7956, 183482,    138,    431,      0,    165],\n",
      "        [     0,   1627,   8820,      0,    143, 189802,    477,      9,      0],\n",
      "        [  2600,   1317,  77980,  26159,    195,   2399,  88495,      0,     36],\n",
      "        [     0,    109,    121,      0,    123,    446,      5, 197545,      0],\n",
      "        [     0,   1232,      0,      0,      0,      0,      0,      0, 200478]])\n"
     ]
    },
    {
     "name": "stderr",
     "output_type": "stream",
     "text": [
      "Monitored metric Validation/Accuracy did not improve in the last 5 records. Best score: 0.951. Signaling Trainer to stop.\n"
     ]
    }
   ],
   "source": [
    "trainer.fit(model=model, train_dataloaders=train_dataloader, val_dataloaders=val_dataloader)"
   ]
  },
  {
   "cell_type": "code",
   "execution_count": 35,
   "metadata": {},
   "outputs": [
    {
     "name": "stderr",
     "output_type": "stream",
     "text": [
      "LOCAL_RANK: 0 - CUDA_VISIBLE_DEVICES: [0]\n"
     ]
    },
    {
     "name": "stdout",
     "output_type": "stream",
     "text": [
      "/home/<User>/repos/csg_is/training/old_logs/single-layer_30_from_weights_30s/version_0/checkpoints/epoch=78-step=2765.ckpt\n",
      "tensor(0.9506, device='cuda:0')\n"
     ]
    },
    {
     "data": {
      "application/vnd.jupyter.widget-view+json": {
       "model_id": "0372b9cd90394d52ad1842fb2a1ed5f1",
       "version_major": 2,
       "version_minor": 0
      },
      "text/plain": [
       "Testing: |          | 0/? [00:00<?, ?it/s]"
      ]
     },
     "metadata": {},
     "output_type": "display_data"
    },
    {
     "name": "stdout",
     "output_type": "stream",
     "text": [
      "Epoch end: Test, epoch number: 0\n",
      "TestEpoch/CM\n",
      " tensor([[471,   1,   0,   0,   0,   0,   0,   0,   0],\n",
      "        [  0, 479,   0,   0,   0,   0,   0,   0,   0],\n",
      "        [  0,   0, 516,   0,   0,   0,  45,   0,   0],\n",
      "        [  5,   0,   0, 450,   1,   0,  20,   0,   0],\n",
      "        [  0,   0,   2,  14, 443,   0,   0,   0,   0],\n",
      "        [  0,   0,   4,   0,   0, 497,   0,   0,   0],\n",
      "        [  6,   0,  83,  33,   0,   0, 344,   0,   0],\n",
      "        [  0,   0,   0,   0,   0,   2,   0, 472,   0],\n",
      "        [  0,   0,   0,   0,   0,   0,   0,   0, 465]])\n",
      "────────────────────────────────────────────────────────────────────────────────────────────────────────────────────────\n",
      "       Test metric             DataLoader 0\n",
      "────────────────────────────────────────────────────────────────────────────────────────────────────────────────────────\n",
      "      Test/Accuracy         0.9506299495697021\n",
      "      Test/F1Score          0.9502536654472351\n",
      "        Test/Loss           0.26925912499427795\n",
      "     Test/Precision         0.9517836570739746\n",
      "       Test/Recall          0.9506299495697021\n",
      "   TestEpoch/Accuracy       0.9504645466804504\n",
      "    TestEpoch/F1Score       0.9506417512893677\n",
      "   TestEpoch/Precision      0.9520261287689209\n",
      "    TestEpoch/Recall        0.9504645466804504\n",
      "────────────────────────────────────────────────────────────────────────────────────────────────────────────────────────\n"
     ]
    },
    {
     "data": {
      "text/plain": [
       "[{'Test/Loss': 0.26925912499427795,\n",
       "  'Test/Accuracy': 0.9506299495697021,\n",
       "  'Test/Precision': 0.9517836570739746,\n",
       "  'Test/Recall': 0.9506299495697021,\n",
       "  'Test/F1Score': 0.9502536654472351,\n",
       "  'TestEpoch/Accuracy': 0.9504645466804504,\n",
       "  'TestEpoch/Precision': 0.9520261287689209,\n",
       "  'TestEpoch/Recall': 0.9504645466804504,\n",
       "  'TestEpoch/F1Score': 0.9506417512893677}]"
      ]
     },
     "execution_count": 35,
     "metadata": {},
     "output_type": "execute_result"
    }
   ],
   "source": [
    "print(checkpoint_callback.best_model_path)   # prints path to the best model's checkpoint\n",
    "print(checkpoint_callback.best_model_score) # and prints it score\n",
    "best_model = MalwaresModelLinearLayer.load_from_checkpoint(checkpoint_callback.best_model_path, input_size = subset.shape[1]-1, output_size = len(label_encoder.classes_))\n",
    "\n",
    "trainer.test(best_model, dataloaders=val_dataloader)"
   ]
  },
  {
   "cell_type": "code",
   "execution_count": 36,
   "metadata": {},
   "outputs": [],
   "source": [
    "sys.path.append(str(repo_base_path  / \"training\"))"
   ]
  },
  {
   "cell_type": "code",
   "execution_count": 37,
   "metadata": {},
   "outputs": [
    {
     "name": "stderr",
     "output_type": "stream",
     "text": [
      "GPU available: True (cuda), used: True\n",
      "TPU available: False, using: 0 TPU cores\n",
      "IPU available: False, using: 0 IPUs\n",
      "HPU available: False, using: 0 HPUs\n"
     ]
    }
   ],
   "source": [
    "# tensorboard = pl_loggers.TensorBoardLogger('./')\n",
    "\n",
    "from mlp import MalwaresModelMLP\n",
    "\n",
    "# split into train and val\n",
    "train, val = train_test_split(subset, test_size=0.2, random_state=SEED)\n",
    "\n",
    "train_dataset = CustomeDataset(train)\n",
    "train_dataloader = DataLoader(train_dataset, batch_size=500, shuffle=True, num_workers=7)\n",
    "\n",
    "val_dataset = CustomeDataset(val)\n",
    "val_dataloader = DataLoader(val_dataset, batch_size=500, shuffle=False, num_workers=7)\n",
    "\n",
    "# trainer = lightning.Trainer(fast_dev_run=100)\n",
    "monitor = \"Validation/Accuracy\"\n",
    "early_stop_callback = EarlyStopping(monitor=monitor, patience=5, verbose=True, mode=\"max\")\n",
    "checkpoint_callback = ModelCheckpoint(save_top_k=1, monitor=monitor, mode=\"max\")\n",
    "\n",
    "tensorboard = pl_loggers.TensorBoardLogger(save_dir=LOG_PATH, name=LOG_NAME_EXPERIMENT_3)\n",
    "trainer = lightning.Trainer(max_epochs=150, callbacks=[early_stop_callback, checkpoint_callback], enable_checkpointing=True, logger=tensorboard) #logger=None, \n",
    "\n",
    "\n",
    "model = MalwaresModelMLP(input_size = subset.shape[1]-1, output_size = len(label_encoder.classes_), seed=SEED)\n",
    "\n",
    "torch.manual_seed(SEED)\n",
    "torch.cuda.manual_seed_all(SEED)\n"
   ]
  },
  {
   "cell_type": "code",
   "execution_count": 38,
   "metadata": {},
   "outputs": [
    {
     "name": "stderr",
     "output_type": "stream",
     "text": [
      "LOCAL_RANK: 0 - CUDA_VISIBLE_DEVICES: [0]\n",
      "\n",
      "  | Name          | Type                      | Params\n",
      "------------------------------------------------------------\n",
      "0 | train_metrics | MetricCollection          | 0     \n",
      "1 | val_metrics   | MetricCollection          | 0     \n",
      "2 | test_metrics  | MetricCollection          | 0     \n",
      "3 | cm            | MulticlassConfusionMatrix | 0     \n",
      "4 | criterion     | CrossEntropyLoss          | 0     \n",
      "5 | l1            | Linear                    | 990   \n",
      "6 | l2            | Linear                    | 930   \n",
      "7 | l3            | Linear                    | 279   \n",
      "------------------------------------------------------------\n",
      "2.2 K     Trainable params\n",
      "0         Non-trainable params\n",
      "2.2 K     Total params\n",
      "0.009     Total estimated model params size (MB)\n"
     ]
    },
    {
     "data": {
      "application/vnd.jupyter.widget-view+json": {
       "model_id": "a34771220bf449b38022f3499e409f43",
       "version_major": 2,
       "version_minor": 0
      },
      "text/plain": [
       "Sanity Checking: |          | 0/? [00:00<?, ?it/s]"
      ]
     },
     "metadata": {},
     "output_type": "display_data"
    },
    {
     "name": "stdout",
     "output_type": "stream",
     "text": [
      "Epoch end: Validation, epoch number: 0\n",
      "ValidationEpoch/CM\n",
      " tensor([[  0,   0,   0,   0,   0,   0,  98,   0,   0],\n",
      "        [  0,   0,   0,   0,   0,   0, 123,   0,   0],\n",
      "        [  0,   0,   0,   0,   0,   0, 133,   0,   0],\n",
      "        [  0,   0,   0,   0,   0,   0,  95,   0,   0],\n",
      "        [  0,   0,   0,   0,   0,   0, 113,   0,   0],\n",
      "        [  0,   0,   0,   0,   0,   0, 118,   0,   0],\n",
      "        [  0,   0,   0,   0,   0,   0, 101,   0,   0],\n",
      "        [  0,   0,   0,   0,   0,   0, 109,   0,   0],\n",
      "        [  0,   0,   0,   0,   0,   0, 110,   0,   0]])\n"
     ]
    },
    {
     "name": "stderr",
     "output_type": "stream",
     "text": [
      "/home/<User>/repos/csg_is/.venv/lib/python3.10/site-packages/lightning/pytorch/loops/fit_loop.py:298: The number of training batches (35) is smaller than the logging interval Trainer(log_every_n_steps=50). Set a lower value for log_every_n_steps if you want to see logs for the training epoch.\n"
     ]
    },
    {
     "data": {
      "application/vnd.jupyter.widget-view+json": {
       "model_id": "74e4337edf144a319ee5d6459b96161c",
       "version_major": 2,
       "version_minor": 0
      },
      "text/plain": [
       "Training: |          | 0/? [00:00<?, ?it/s]"
      ]
     },
     "metadata": {},
     "output_type": "display_data"
    },
    {
     "data": {
      "application/vnd.jupyter.widget-view+json": {
       "model_id": "0d8ba82bea644179bc0abe696ff60094",
       "version_major": 2,
       "version_minor": 0
      },
      "text/plain": [
       "Validation: |          | 0/? [00:00<?, ?it/s]"
      ]
     },
     "metadata": {},
     "output_type": "display_data"
    },
    {
     "name": "stdout",
     "output_type": "stream",
     "text": [
      "Epoch end: Validation, epoch number: 1\n",
      "ValidationEpoch/CM\n",
      " tensor([[   0,    2,  877,  216,   23,    7,  392,    0,  866],\n",
      "        [   0, 2159,    0,    0,    0,   48,  308,    0,   28],\n",
      "        [   0,   10, 1521,    0,    0,   60,  486,    2,  874],\n",
      "        [   0,    0,  809,  238,   35,    7,  373,    0,  988],\n",
      "        [   0,    0,  546,  110,  448,   12,  415,    0,  947],\n",
      "        [   0,   24,  253,    0,    0, 1195,  429,  449,  158],\n",
      "        [   0,    0, 1159,   53,    1,   21,  392,    0,  845],\n",
      "        [   0,    0,    0,    0,    0,    0,  404, 2063,    2],\n",
      "        [   0,    0,    0,    0,    0,    0,  311,    0, 2199]])\n"
     ]
    },
    {
     "name": "stderr",
     "output_type": "stream",
     "text": [
      "Metric Validation/Accuracy improved. New best score: 0.678\n"
     ]
    },
    {
     "name": "stdout",
     "output_type": "stream",
     "text": [
      "Epoch end: Train, epoch number: 0\n",
      "TrainEpoch/CM\n",
      " tensor([[   0,    2,  877,  216,   23,    7,  392,    0,  866],\n",
      "        [   0, 2159,    0,    0,    0,   48,  308,    0,   28],\n",
      "        [   0,   10, 1521,    0,    0,   60,  486,    2,  874],\n",
      "        [   0,    0,  809,  238,   35,    7,  373,    0,  988],\n",
      "        [   0,    0,  546,  110,  448,   12,  415,    0,  947],\n",
      "        [   0,   24,  253,    0,    0, 1195,  429,  449,  158],\n",
      "        [   0,    0, 1159,   53,    1,   21,  392,    0,  845],\n",
      "        [   0,    0,    0,    0,    0,    0,  404, 2063,    2],\n",
      "        [   0,    0,    0,    0,    0,    0,  311,    0, 2199]])\n"
     ]
    },
    {
     "data": {
      "application/vnd.jupyter.widget-view+json": {
       "model_id": "754f97394d9840a1abf2612cefef262e",
       "version_major": 2,
       "version_minor": 0
      },
      "text/plain": [
       "Validation: |          | 0/? [00:00<?, ?it/s]"
      ]
     },
     "metadata": {},
     "output_type": "display_data"
    },
    {
     "name": "stdout",
     "output_type": "stream",
     "text": [
      "Epoch end: Validation, epoch number: 2\n",
      "ValidationEpoch/CM\n",
      " tensor([[ 867,    2, 1289,  853,  291,   10,  490,    0,  866],\n",
      "        [   0, 4579,    0,    0,    0,   48,  308,    0,   28],\n",
      "        [  20,   19, 4078,   14,    8,  102,  656,    2,  874],\n",
      "        [ 891,    0, 1113,  945,  409,   12,  447,    0,  988],\n",
      "        [  66,    0,  618,  186, 2591,   16,  419,    0,  947],\n",
      "        [   0,   24,  253,    0,    0, 3585,  429,  449,  158],\n",
      "        [ 316,    0, 2637,  291,   74,   46,  632,    0,  845],\n",
      "        [   0,    0,    0,    0,    0,    0,  404, 4423,    2],\n",
      "        [   0,    0,    0,    0,    0,    0,  311,    0, 4599]])\n"
     ]
    },
    {
     "name": "stderr",
     "output_type": "stream",
     "text": [
      "Metric Validation/Accuracy improved by 0.087 >= min_delta = 0.0. New best score: 0.765\n"
     ]
    },
    {
     "name": "stdout",
     "output_type": "stream",
     "text": [
      "Epoch end: Train, epoch number: 1\n",
      "TrainEpoch/CM\n",
      " tensor([[ 867,    2, 1289,  853,  291,   10,  490,    0,  866],\n",
      "        [   0, 4579,    0,    0,    0,   48,  308,    0,   28],\n",
      "        [  20,   19, 4078,   14,    8,  102,  656,    2,  874],\n",
      "        [ 891,    0, 1113,  945,  409,   12,  447,    0,  988],\n",
      "        [  66,    0,  618,  186, 2591,   16,  419,    0,  947],\n",
      "        [   0,   24,  253,    0,    0, 3585,  429,  449,  158],\n",
      "        [ 316,    0, 2637,  291,   74,   46,  632,    0,  845],\n",
      "        [   0,    0,    0,    0,    0,    0,  404, 4423,    2],\n",
      "        [   0,    0,    0,    0,    0,    0,  311,    0, 4599]])\n"
     ]
    },
    {
     "data": {
      "application/vnd.jupyter.widget-view+json": {
       "model_id": "cf9302085bca426b9819a5b754d98245",
       "version_major": 2,
       "version_minor": 0
      },
      "text/plain": [
       "Validation: |          | 0/? [00:00<?, ?it/s]"
      ]
     },
     "metadata": {},
     "output_type": "display_data"
    },
    {
     "name": "stdout",
     "output_type": "stream",
     "text": [
      "Epoch end: Validation, epoch number: 3\n",
      "ValidationEpoch/CM\n",
      " tensor([[2241,    2, 1296, 1666,  319,   10,  553,    0,  866],\n",
      "        [   0, 6999,    0,    0,    0,   48,  308,    0,   28],\n",
      "        [  27,   31, 6457,   15,    8,  129, 1050,    2,  874],\n",
      "        [1678,    0, 1120, 2339,  441,   12,  582,    0,  988],\n",
      "        [ 165,    0,  622,  246, 4780,   16,  432,    0,  947],\n",
      "        [   0,   24,  253,    0,    0, 5975,  429,  449,  158],\n",
      "        [ 506,    0, 3658,  568,   74,   46, 1514,    0,  845],\n",
      "        [   0,    0,    0,    0,    0,    0,  404, 6783,    2],\n",
      "        [   0,    0,    0,    0,    0,    0,  311,    0, 6999]])\n",
      "Epoch end: Train, epoch number: 2\n",
      "TrainEpoch/CM\n",
      " tensor([[2241,    2, 1296, 1666,  319,   10,  553,    0,  866],\n",
      "        [   0, 6999,    0,    0,    0,   48,  308,    0,   28],\n",
      "        [  27,   31, 6457,   15,    8,  129, 1050,    2,  874],\n",
      "        [1678,    0, 1120, 2339,  441,   12,  582,    0,  988],\n",
      "        [ 165,    0,  622,  246, 4780,   16,  432,    0,  947],\n",
      "        [   0,   24,  253,    0,    0, 5975,  429,  449,  158],\n",
      "        [ 506,    0, 3658,  568,   74,   46, 1514,    0,  845],\n",
      "        [   0,    0,    0,    0,    0,    0,  404, 6783,    2],\n",
      "        [   0,    0,    0,    0,    0,    0,  311,    0, 6999]])\n"
     ]
    },
    {
     "name": "stderr",
     "output_type": "stream",
     "text": [
      "Metric Validation/Accuracy improved by 0.081 >= min_delta = 0.0. New best score: 0.846\n"
     ]
    },
    {
     "data": {
      "application/vnd.jupyter.widget-view+json": {
       "model_id": "000e14e849f34b2dacfc970ef29d1a25",
       "version_major": 2,
       "version_minor": 0
      },
      "text/plain": [
       "Validation: |          | 0/? [00:00<?, ?it/s]"
      ]
     },
     "metadata": {},
     "output_type": "display_data"
    },
    {
     "name": "stdout",
     "output_type": "stream",
     "text": [
      "Epoch end: Validation, epoch number: 4\n",
      "ValidationEpoch/CM\n",
      " tensor([[4034,    2, 1296, 2114,  339,   10,  577,    0,  866],\n",
      "        [   0, 9415,    4,    0,    0,   48,  308,    0,   28],\n",
      "        [  27,   42, 8839,   15,    8,  151, 1455,    2,  874],\n",
      "        [2076,    0, 1121, 4158,  467,   12,  693,    0,  988],\n",
      "        [ 207,    0,  622,  293, 7037,   16,  451,    0,  947],\n",
      "        [   0,   24,  253,    0,    0, 8365,  429,  449,  158],\n",
      "        [ 567,    0, 4612,  871,   74,   47, 2565,    0,  845],\n",
      "        [   0,    0,    0,    0,    0,    0,  404, 9143,    2],\n",
      "        [   0,    0,    0,    0,    0,    0,  311,    0, 9399]])\n"
     ]
    },
    {
     "name": "stderr",
     "output_type": "stream",
     "text": [
      "Metric Validation/Accuracy improved by 0.035 >= min_delta = 0.0. New best score: 0.882\n"
     ]
    },
    {
     "name": "stdout",
     "output_type": "stream",
     "text": [
      "Epoch end: Train, epoch number: 3\n",
      "TrainEpoch/CM\n",
      " tensor([[4034,    2, 1296, 2114,  339,   10,  577,    0,  866],\n",
      "        [   0, 9415,    4,    0,    0,   48,  308,    0,   28],\n",
      "        [  27,   42, 8839,   15,    8,  151, 1455,    2,  874],\n",
      "        [2076,    0, 1121, 4158,  467,   12,  693,    0,  988],\n",
      "        [ 207,    0,  622,  293, 7037,   16,  451,    0,  947],\n",
      "        [   0,   24,  253,    0,    0, 8365,  429,  449,  158],\n",
      "        [ 567,    0, 4612,  871,   74,   47, 2565,    0,  845],\n",
      "        [   0,    0,    0,    0,    0,    0,  404, 9143,    2],\n",
      "        [   0,    0,    0,    0,    0,    0,  311,    0, 9399]])\n"
     ]
    },
    {
     "data": {
      "application/vnd.jupyter.widget-view+json": {
       "model_id": "2196667bb8e04bf8b1b08e12795ea74e",
       "version_major": 2,
       "version_minor": 0
      },
      "text/plain": [
       "Validation: |          | 0/? [00:00<?, ?it/s]"
      ]
     },
     "metadata": {},
     "output_type": "display_data"
    },
    {
     "name": "stdout",
     "output_type": "stream",
     "text": [
      "Epoch end: Validation, epoch number: 5\n",
      "ValidationEpoch/CM\n",
      " tensor([[ 6141,     2,  1296,  2268,   348,    10,   592,     0,   866],\n",
      "        [    0, 11830,     9,     0,     0,    48,   308,     0,    28],\n",
      "        [   27,    51, 11172,    15,     8,   166,  1918,     2,   874],\n",
      "        [ 2226,     0,  1121,  6219,   479,    12,   825,     0,   988],\n",
      "        [  219,     0,   623,   332,  9336,    16,   465,     0,   947],\n",
      "        [    0,    25,   253,     0,     0, 10754,   429,   449,   158],\n",
      "        [  579,     0,  5451,  1177,    76,    48,  3775,     0,   845],\n",
      "        [    0,     0,     0,     0,     0,     0,   404, 11503,     2],\n",
      "        [    0,     0,     0,     0,     0,     0,   311,     0, 11799]])\n"
     ]
    },
    {
     "name": "stderr",
     "output_type": "stream",
     "text": [
      "Metric Validation/Accuracy improved by 0.034 >= min_delta = 0.0. New best score: 0.916\n"
     ]
    },
    {
     "name": "stdout",
     "output_type": "stream",
     "text": [
      "Epoch end: Train, epoch number: 4\n",
      "TrainEpoch/CM\n",
      " tensor([[ 6141,     2,  1296,  2268,   348,    10,   592,     0,   866],\n",
      "        [    0, 11830,     9,     0,     0,    48,   308,     0,    28],\n",
      "        [   27,    51, 11172,    15,     8,   166,  1918,     2,   874],\n",
      "        [ 2226,     0,  1121,  6219,   479,    12,   825,     0,   988],\n",
      "        [  219,     0,   623,   332,  9336,    16,   465,     0,   947],\n",
      "        [    0,    25,   253,     0,     0, 10754,   429,   449,   158],\n",
      "        [  579,     0,  5451,  1177,    76,    48,  3775,     0,   845],\n",
      "        [    0,     0,     0,     0,     0,     0,   404, 11503,     2],\n",
      "        [    0,     0,     0,     0,     0,     0,   311,     0, 11799]])\n"
     ]
    },
    {
     "data": {
      "application/vnd.jupyter.widget-view+json": {
       "model_id": "dcf1dbfaaecc4d589c48bfe35f499526",
       "version_major": 2,
       "version_minor": 0
      },
      "text/plain": [
       "Validation: |          | 0/? [00:00<?, ?it/s]"
      ]
     },
     "metadata": {},
     "output_type": "display_data"
    },
    {
     "name": "stdout",
     "output_type": "stream",
     "text": [
      "Epoch end: Validation, epoch number: 6\n",
      "ValidationEpoch/CM\n",
      " tensor([[ 8335,     2,  1296,  2350,   352,    10,   597,     0,   866],\n",
      "        [    0, 14245,    13,     0,     1,    48,   308,     0,    28],\n",
      "        [   27,    54, 13567,    15,     8,   180,  2326,     2,   874],\n",
      "        [ 2260,     0,  1121,  8415,   493,    12,   936,     0,   988],\n",
      "        [  222,     0,   624,   351, 11671,    16,   472,     0,   947],\n",
      "        [    0,    25,   253,     0,     0, 13144,   429,   449,   158],\n",
      "        [  586,     0,  6207,  1475,    76,    48,  5084,     0,   845],\n",
      "        [    0,     0,     0,     0,     0,     0,   404, 13863,     2],\n",
      "        [    0,     0,     0,     0,     0,     0,   311,     0, 14199]])\n"
     ]
    },
    {
     "name": "stderr",
     "output_type": "stream",
     "text": [
      "Metric Validation/Accuracy improved by 0.012 >= min_delta = 0.0. New best score: 0.927\n"
     ]
    },
    {
     "name": "stdout",
     "output_type": "stream",
     "text": [
      "Epoch end: Train, epoch number: 5\n",
      "TrainEpoch/CM\n",
      " tensor([[ 8335,     2,  1296,  2350,   352,    10,   597,     0,   866],\n",
      "        [    0, 14245,    13,     0,     1,    48,   308,     0,    28],\n",
      "        [   27,    54, 13567,    15,     8,   180,  2326,     2,   874],\n",
      "        [ 2260,     0,  1121,  8415,   493,    12,   936,     0,   988],\n",
      "        [  222,     0,   624,   351, 11671,    16,   472,     0,   947],\n",
      "        [    0,    25,   253,     0,     0, 13144,   429,   449,   158],\n",
      "        [  586,     0,  6207,  1475,    76,    48,  5084,     0,   845],\n",
      "        [    0,     0,     0,     0,     0,     0,   404, 13863,     2],\n",
      "        [    0,     0,     0,     0,     0,     0,   311,     0, 14199]])\n"
     ]
    },
    {
     "data": {
      "application/vnd.jupyter.widget-view+json": {
       "model_id": "e02983c42f694d5e9facc44fb4f909a4",
       "version_major": 2,
       "version_minor": 0
      },
      "text/plain": [
       "Validation: |          | 0/? [00:00<?, ?it/s]"
      ]
     },
     "metadata": {},
     "output_type": "display_data"
    },
    {
     "name": "stdout",
     "output_type": "stream",
     "text": [
      "Epoch end: Validation, epoch number: 7\n",
      "ValidationEpoch/CM\n",
      " tensor([[10578,     2,  1296,  2383,   354,    10,   604,     0,   866],\n",
      "        [    0, 16661,    17,     0,     1,    48,   308,     0,    28],\n",
      "        [   27,    54, 15970,    15,     8,   185,  2738,     2,   874],\n",
      "        [ 2273,     0,  1121, 10617,   510,    12,  1059,     0,   988],\n",
      "        [  226,     0,   627,   362, 14013,    16,   477,     0,   947],\n",
      "        [    0,    25,   253,     0,     0, 15534,   429,   449,   158],\n",
      "        [  594,     0,  6922,  1750,    76,    48,  6456,     0,   845],\n",
      "        [    0,     0,     0,     0,     0,     0,   404, 16223,     2],\n",
      "        [    0,     0,     0,     0,     0,     0,   311,     0, 16599]])\n",
      "Epoch end: Train, epoch number: 6\n",
      "TrainEpoch/CM\n",
      " tensor([[10578,     2,  1296,  2383,   354,    10,   604,     0,   866],\n",
      "        [    0, 16661,    17,     0,     1,    48,   308,     0,    28],\n",
      "        [   27,    54, 15970,    15,     8,   185,  2738,     2,   874],\n",
      "        [ 2273,     0,  1121, 10617,   510,    12,  1059,     0,   988],\n",
      "        [  226,     0,   627,   362, 14013,    16,   477,     0,   947],\n",
      "        [    0,    25,   253,     0,     0, 15534,   429,   449,   158],\n",
      "        [  594,     0,  6922,  1750,    76,    48,  6456,     0,   845],\n",
      "        [    0,     0,     0,     0,     0,     0,   404, 16223,     2],\n",
      "        [    0,     0,     0,     0,     0,     0,   311,     0, 16599]])\n"
     ]
    },
    {
     "data": {
      "application/vnd.jupyter.widget-view+json": {
       "model_id": "8649b58518454712a3a00c087da99322",
       "version_major": 2,
       "version_minor": 0
      },
      "text/plain": [
       "Validation: |          | 0/? [00:00<?, ?it/s]"
      ]
     },
     "metadata": {},
     "output_type": "display_data"
    },
    {
     "name": "stdout",
     "output_type": "stream",
     "text": [
      "Epoch end: Validation, epoch number: 8\n",
      "ValidationEpoch/CM\n",
      " tensor([[12835,     2,  1296,  2404,   356,    10,   609,     0,   866],\n",
      "        [    0, 19077,    18,     0,     4,    48,   308,     0,    28],\n",
      "        [   27,    54, 18396,    15,     8,   185,  3132,     2,   874],\n",
      "        [ 2280,     0,  1121, 12849,   518,    12,  1167,     0,   988],\n",
      "        [  231,     0,   628,   372, 16361,    16,   478,     0,   947],\n",
      "        [    0,    25,   253,     0,     0, 17924,   429,   449,   158],\n",
      "        [  599,     0,  7557,  2013,    76,    48,  7923,     0,   845],\n",
      "        [    0,     0,     0,     0,     0,     0,   404, 18583,     2],\n",
      "        [    0,     0,     0,     0,     0,     0,   311,     0, 18999]])\n"
     ]
    },
    {
     "name": "stderr",
     "output_type": "stream",
     "text": [
      "Metric Validation/Accuracy improved by 0.011 >= min_delta = 0.0. New best score: 0.938\n"
     ]
    },
    {
     "name": "stdout",
     "output_type": "stream",
     "text": [
      "Epoch end: Train, epoch number: 7\n",
      "TrainEpoch/CM\n",
      " tensor([[12835,     2,  1296,  2404,   356,    10,   609,     0,   866],\n",
      "        [    0, 19077,    18,     0,     4,    48,   308,     0,    28],\n",
      "        [   27,    54, 18396,    15,     8,   185,  3132,     2,   874],\n",
      "        [ 2280,     0,  1121, 12849,   518,    12,  1167,     0,   988],\n",
      "        [  231,     0,   628,   372, 16361,    16,   478,     0,   947],\n",
      "        [    0,    25,   253,     0,     0, 17924,   429,   449,   158],\n",
      "        [  599,     0,  7557,  2013,    76,    48,  7923,     0,   845],\n",
      "        [    0,     0,     0,     0,     0,     0,   404, 18583,     2],\n",
      "        [    0,     0,     0,     0,     0,     0,   311,     0, 18999]])\n"
     ]
    },
    {
     "data": {
      "application/vnd.jupyter.widget-view+json": {
       "model_id": "b7968bc269544d7d879f4dd54b456157",
       "version_major": 2,
       "version_minor": 0
      },
      "text/plain": [
       "Validation: |          | 0/? [00:00<?, ?it/s]"
      ]
     },
     "metadata": {},
     "output_type": "display_data"
    },
    {
     "name": "stdout",
     "output_type": "stream",
     "text": [
      "Epoch end: Validation, epoch number: 9\n",
      "ValidationEpoch/CM\n",
      " tensor([[15103,     2,  1296,  2416,   356,    10,   614,     0,   866],\n",
      "        [    0, 21496,    18,     0,     5,    48,   308,     0,    28],\n",
      "        [   27,    54, 20811,    15,     8,   185,  3537,     2,   874],\n",
      "        [ 2282,     0,  1121, 15099,   519,    12,  1269,     0,   988],\n",
      "        [  235,     0,   629,   382, 18710,    16,   479,     0,   947],\n",
      "        [    0,    25,   253,     0,     0, 20314,   429,   449,   158],\n",
      "        [  604,     0,  8024,  2258,    76,    48,  9576,     0,   845],\n",
      "        [    0,     0,     0,     0,     0,     0,   404, 20943,     2],\n",
      "        [    0,     0,     0,     0,     0,     0,   311,     0, 21399]])\n"
     ]
    },
    {
     "name": "stderr",
     "output_type": "stream",
     "text": [
      "Metric Validation/Accuracy improved by 0.009 >= min_delta = 0.0. New best score: 0.947\n"
     ]
    },
    {
     "name": "stdout",
     "output_type": "stream",
     "text": [
      "Epoch end: Train, epoch number: 8\n",
      "TrainEpoch/CM\n",
      " tensor([[15103,     2,  1296,  2416,   356,    10,   614,     0,   866],\n",
      "        [    0, 21496,    18,     0,     5,    48,   308,     0,    28],\n",
      "        [   27,    54, 20811,    15,     8,   185,  3537,     2,   874],\n",
      "        [ 2282,     0,  1121, 15099,   519,    12,  1269,     0,   988],\n",
      "        [  235,     0,   629,   382, 18710,    16,   479,     0,   947],\n",
      "        [    0,    25,   253,     0,     0, 20314,   429,   449,   158],\n",
      "        [  604,     0,  8024,  2258,    76,    48,  9576,     0,   845],\n",
      "        [    0,     0,     0,     0,     0,     0,   404, 20943,     2],\n",
      "        [    0,     0,     0,     0,     0,     0,   311,     0, 21399]])\n"
     ]
    },
    {
     "data": {
      "application/vnd.jupyter.widget-view+json": {
       "model_id": "d5599ef6eaf44a26ba60f10750bfdccd",
       "version_major": 2,
       "version_minor": 0
      },
      "text/plain": [
       "Validation: |          | 0/? [00:00<?, ?it/s]"
      ]
     },
     "metadata": {},
     "output_type": "display_data"
    },
    {
     "name": "stdout",
     "output_type": "stream",
     "text": [
      "Epoch end: Validation, epoch number: 10\n",
      "ValidationEpoch/CM\n",
      " tensor([[17378,     2,  1296,  2426,   356,    10,   614,     0,   866],\n",
      "        [    0, 23916,    18,     0,     5,    48,   308,     0,    28],\n",
      "        [   27,    54, 23238,    15,     8,   185,  3930,     2,   874],\n",
      "        [ 2283,     0,  1121, 17367,   520,    12,  1354,     0,   988],\n",
      "        [  236,     0,   629,   390, 21066,    16,   479,     0,   947],\n",
      "        [    0,    25,   253,     0,     0, 22704,   429,   449,   158],\n",
      "        [  609,     0,  8429,  2495,    76,    48, 11299,     0,   845],\n",
      "        [    0,     0,     0,     0,     0,     0,   404, 23303,     2],\n",
      "        [    0,     0,     0,     0,     0,     0,   311,     0, 23799]])\n"
     ]
    },
    {
     "name": "stderr",
     "output_type": "stream",
     "text": [
      "Metric Validation/Accuracy improved by 0.006 >= min_delta = 0.0. New best score: 0.953\n"
     ]
    },
    {
     "name": "stdout",
     "output_type": "stream",
     "text": [
      "Epoch end: Train, epoch number: 9\n",
      "TrainEpoch/CM\n",
      " tensor([[17378,     2,  1296,  2426,   356,    10,   614,     0,   866],\n",
      "        [    0, 23916,    18,     0,     5,    48,   308,     0,    28],\n",
      "        [   27,    54, 23238,    15,     8,   185,  3930,     2,   874],\n",
      "        [ 2283,     0,  1121, 17367,   520,    12,  1354,     0,   988],\n",
      "        [  236,     0,   629,   390, 21066,    16,   479,     0,   947],\n",
      "        [    0,    25,   253,     0,     0, 22704,   429,   449,   158],\n",
      "        [  609,     0,  8429,  2495,    76,    48, 11299,     0,   845],\n",
      "        [    0,     0,     0,     0,     0,     0,   404, 23303,     2],\n",
      "        [    0,     0,     0,     0,     0,     0,   311,     0, 23799]])\n"
     ]
    },
    {
     "data": {
      "application/vnd.jupyter.widget-view+json": {
       "model_id": "7d9682fc19e44522beeb971795f87eaf",
       "version_major": 2,
       "version_minor": 0
      },
      "text/plain": [
       "Validation: |          | 0/? [00:00<?, ?it/s]"
      ]
     },
     "metadata": {},
     "output_type": "display_data"
    },
    {
     "name": "stdout",
     "output_type": "stream",
     "text": [
      "Epoch end: Validation, epoch number: 11\n",
      "ValidationEpoch/CM\n",
      " tensor([[19655,     2,  1296,  2434,   356,    10,   614,     0,   866],\n",
      "        [    0, 26336,    18,     0,     5,    48,   308,     0,    28],\n",
      "        [   27,    54, 25742,    15,     8,   185,  4246,     2,   874],\n",
      "        [ 2283,     0,  1121, 19630,   520,    12,  1446,     0,   988],\n",
      "        [  236,     0,   629,   395, 23426,    16,   479,     0,   947],\n",
      "        [    0,    25,   253,     0,     0, 25094,   429,   449,   158],\n",
      "        [  614,     0,  8852,  2713,    76,    48, 13023,     0,   845],\n",
      "        [    0,     0,     0,     0,     0,     0,   404, 25663,     2],\n",
      "        [    0,     0,     0,     0,     0,     0,   311,     0, 26199]])\n",
      "Epoch end: Train, epoch number: 10\n",
      "TrainEpoch/CM\n",
      " tensor([[19655,     2,  1296,  2434,   356,    10,   614,     0,   866],\n",
      "        [    0, 26336,    18,     0,     5,    48,   308,     0,    28],\n",
      "        [   27,    54, 25742,    15,     8,   185,  4246,     2,   874],\n",
      "        [ 2283,     0,  1121, 19630,   520,    12,  1446,     0,   988],\n",
      "        [  236,     0,   629,   395, 23426,    16,   479,     0,   947],\n",
      "        [    0,    25,   253,     0,     0, 25094,   429,   449,   158],\n",
      "        [  614,     0,  8852,  2713,    76,    48, 13023,     0,   845],\n",
      "        [    0,     0,     0,     0,     0,     0,   404, 25663,     2],\n",
      "        [    0,     0,     0,     0,     0,     0,   311,     0, 26199]])\n"
     ]
    },
    {
     "data": {
      "application/vnd.jupyter.widget-view+json": {
       "model_id": "da3d30486c7449ec91174a7ad89d7609",
       "version_major": 2,
       "version_minor": 0
      },
      "text/plain": [
       "Validation: |          | 0/? [00:00<?, ?it/s]"
      ]
     },
     "metadata": {},
     "output_type": "display_data"
    },
    {
     "name": "stdout",
     "output_type": "stream",
     "text": [
      "Epoch end: Validation, epoch number: 12\n",
      "ValidationEpoch/CM\n",
      " tensor([[21933,     2,  1296,  2441,   356,    10,   614,     0,   866],\n",
      "        [    0, 28756,    18,     0,     5,    48,   308,     0,    28],\n",
      "        [   27,    54, 28237,    15,     8,   185,  4571,     2,   874],\n",
      "        [ 2283,     0,  1121, 21876,   520,    12,  1555,     0,   988],\n",
      "        [  236,     0,   629,   401, 25784,    16,   480,     0,   947],\n",
      "        [    0,    25,   253,     0,     0, 27484,   429,   449,   158],\n",
      "        [  617,     0,  9245,  2914,    76,    48, 14796,     0,   845],\n",
      "        [    0,     0,     0,     0,     0,     0,   404, 28023,     2],\n",
      "        [    0,     0,     0,     0,     0,     0,   311,     0, 28599]])\n"
     ]
    },
    {
     "name": "stderr",
     "output_type": "stream",
     "text": [
      "Metric Validation/Accuracy improved by 0.001 >= min_delta = 0.0. New best score: 0.954\n"
     ]
    },
    {
     "name": "stdout",
     "output_type": "stream",
     "text": [
      "Epoch end: Train, epoch number: 11\n",
      "TrainEpoch/CM\n",
      " tensor([[21933,     2,  1296,  2441,   356,    10,   614,     0,   866],\n",
      "        [    0, 28756,    18,     0,     5,    48,   308,     0,    28],\n",
      "        [   27,    54, 28237,    15,     8,   185,  4571,     2,   874],\n",
      "        [ 2283,     0,  1121, 21876,   520,    12,  1555,     0,   988],\n",
      "        [  236,     0,   629,   401, 25784,    16,   480,     0,   947],\n",
      "        [    0,    25,   253,     0,     0, 27484,   429,   449,   158],\n",
      "        [  617,     0,  9245,  2914,    76,    48, 14796,     0,   845],\n",
      "        [    0,     0,     0,     0,     0,     0,   404, 28023,     2],\n",
      "        [    0,     0,     0,     0,     0,     0,   311,     0, 28599]])\n"
     ]
    },
    {
     "data": {
      "application/vnd.jupyter.widget-view+json": {
       "model_id": "67067c5ebd5f47a1bd8453d8892666f9",
       "version_major": 2,
       "version_minor": 0
      },
      "text/plain": [
       "Validation: |          | 0/? [00:00<?, ?it/s]"
      ]
     },
     "metadata": {},
     "output_type": "display_data"
    },
    {
     "name": "stdout",
     "output_type": "stream",
     "text": [
      "Epoch end: Validation, epoch number: 13\n",
      "ValidationEpoch/CM\n",
      " tensor([[24211,     2,  1296,  2448,   356,    10,   614,     0,   866],\n",
      "        [    0, 31176,    18,     0,     5,    48,   308,     0,    28],\n",
      "        [   27,    54, 30722,    15,     8,   185,  4906,     2,   874],\n",
      "        [ 2283,     0,  1121, 24151,   520,    12,  1635,     0,   988],\n",
      "        [  236,     0,   629,   407, 28143,    16,   480,     0,   947],\n",
      "        [    0,    25,   253,     0,     0, 29874,   429,   449,   158],\n",
      "        [  620,     0,  9588,  3117,    76,    48, 16617,     0,   845],\n",
      "        [    0,     0,     0,     0,     0,     0,   404, 30383,     2],\n",
      "        [    0,     0,     0,     0,     0,     0,   311,     0, 30999]])\n"
     ]
    },
    {
     "name": "stderr",
     "output_type": "stream",
     "text": [
      "Metric Validation/Accuracy improved by 0.007 >= min_delta = 0.0. New best score: 0.961\n"
     ]
    },
    {
     "name": "stdout",
     "output_type": "stream",
     "text": [
      "Epoch end: Train, epoch number: 12\n",
      "TrainEpoch/CM\n",
      " tensor([[24211,     2,  1296,  2448,   356,    10,   614,     0,   866],\n",
      "        [    0, 31176,    18,     0,     5,    48,   308,     0,    28],\n",
      "        [   27,    54, 30722,    15,     8,   185,  4906,     2,   874],\n",
      "        [ 2283,     0,  1121, 24151,   520,    12,  1635,     0,   988],\n",
      "        [  236,     0,   629,   407, 28143,    16,   480,     0,   947],\n",
      "        [    0,    25,   253,     0,     0, 29874,   429,   449,   158],\n",
      "        [  620,     0,  9588,  3117,    76,    48, 16617,     0,   845],\n",
      "        [    0,     0,     0,     0,     0,     0,   404, 30383,     2],\n",
      "        [    0,     0,     0,     0,     0,     0,   311,     0, 30999]])\n"
     ]
    },
    {
     "data": {
      "application/vnd.jupyter.widget-view+json": {
       "model_id": "114af30b4c804d1099a74ef7af8fad67",
       "version_major": 2,
       "version_minor": 0
      },
      "text/plain": [
       "Validation: |          | 0/? [00:00<?, ?it/s]"
      ]
     },
     "metadata": {},
     "output_type": "display_data"
    },
    {
     "name": "stdout",
     "output_type": "stream",
     "text": [
      "Epoch end: Validation, epoch number: 14\n",
      "ValidationEpoch/CM\n",
      " tensor([[26491,     2,  1296,  2453,   356,    10,   614,     0,   866],\n",
      "        [    0, 33596,    18,     0,     5,    48,   308,     0,    28],\n",
      "        [   27,    54, 33201,    15,     8,   185,  5247,     2,   874],\n",
      "        [ 2283,     0,  1121, 26405,   520,    12,  1736,     0,   988],\n",
      "        [  236,     0,   629,   416, 30499,    16,   480,     0,   947],\n",
      "        [    0,    25,   253,     0,     0, 32264,   429,   449,   158],\n",
      "        [  622,     0,  9870,  3297,    76,    48, 18523,     0,   845],\n",
      "        [    0,     0,     0,     0,     0,     0,   404, 32743,     2],\n",
      "        [    0,     0,     0,     0,     0,     0,   311,     0, 33399]])\n"
     ]
    },
    {
     "name": "stderr",
     "output_type": "stream",
     "text": [
      "Metric Validation/Accuracy improved by 0.003 >= min_delta = 0.0. New best score: 0.964\n"
     ]
    },
    {
     "name": "stdout",
     "output_type": "stream",
     "text": [
      "Epoch end: Train, epoch number: 13\n",
      "TrainEpoch/CM\n",
      " tensor([[26491,     2,  1296,  2453,   356,    10,   614,     0,   866],\n",
      "        [    0, 33596,    18,     0,     5,    48,   308,     0,    28],\n",
      "        [   27,    54, 33201,    15,     8,   185,  5247,     2,   874],\n",
      "        [ 2283,     0,  1121, 26405,   520,    12,  1736,     0,   988],\n",
      "        [  236,     0,   629,   416, 30499,    16,   480,     0,   947],\n",
      "        [    0,    25,   253,     0,     0, 32264,   429,   449,   158],\n",
      "        [  622,     0,  9870,  3297,    76,    48, 18523,     0,   845],\n",
      "        [    0,     0,     0,     0,     0,     0,   404, 32743,     2],\n",
      "        [    0,     0,     0,     0,     0,     0,   311,     0, 33399]])\n"
     ]
    },
    {
     "data": {
      "application/vnd.jupyter.widget-view+json": {
       "model_id": "6b9071562384426b900f64c139ee95c9",
       "version_major": 2,
       "version_minor": 0
      },
      "text/plain": [
       "Validation: |          | 0/? [00:00<?, ?it/s]"
      ]
     },
     "metadata": {},
     "output_type": "display_data"
    },
    {
     "name": "stdout",
     "output_type": "stream",
     "text": [
      "Epoch end: Validation, epoch number: 15\n",
      "ValidationEpoch/CM\n",
      " tensor([[28772,     2,  1296,  2457,   356,    10,   614,     0,   866],\n",
      "        [    0, 36016,    18,     0,     5,    48,   308,     0,    28],\n",
      "        [   27,    54, 35733,    15,     8,   185,  5535,     2,   874],\n",
      "        [ 2283,     0,  1121, 28638,   520,    12,  1858,     0,   988],\n",
      "        [  236,     0,   629,   419, 32861,    16,   480,     0,   947],\n",
      "        [    0,    25,   253,     0,     0, 34654,   429,   449,   158],\n",
      "        [  622,     0, 10160,  3478,    76,    48, 20422,     0,   845],\n",
      "        [    0,     0,     0,     0,     0,     0,   404, 35103,     2],\n",
      "        [    0,     0,     0,     0,     0,     0,   311,     0, 35799]])\n",
      "Epoch end: Train, epoch number: 14\n",
      "TrainEpoch/CM\n",
      " tensor([[28772,     2,  1296,  2457,   356,    10,   614,     0,   866],\n",
      "        [    0, 36016,    18,     0,     5,    48,   308,     0,    28],\n",
      "        [   27,    54, 35733,    15,     8,   185,  5535,     2,   874],\n",
      "        [ 2283,     0,  1121, 28638,   520,    12,  1858,     0,   988],\n",
      "        [  236,     0,   629,   419, 32861,    16,   480,     0,   947],\n",
      "        [    0,    25,   253,     0,     0, 34654,   429,   449,   158],\n",
      "        [  622,     0, 10160,  3478,    76,    48, 20422,     0,   845],\n",
      "        [    0,     0,     0,     0,     0,     0,   404, 35103,     2],\n",
      "        [    0,     0,     0,     0,     0,     0,   311,     0, 35799]])\n"
     ]
    },
    {
     "data": {
      "application/vnd.jupyter.widget-view+json": {
       "model_id": "ee45b1e7b8f449b9989ed6382288a4dc",
       "version_major": 2,
       "version_minor": 0
      },
      "text/plain": [
       "Validation: |          | 0/? [00:00<?, ?it/s]"
      ]
     },
     "metadata": {},
     "output_type": "display_data"
    },
    {
     "name": "stdout",
     "output_type": "stream",
     "text": [
      "Epoch end: Validation, epoch number: 16\n",
      "ValidationEpoch/CM\n",
      " tensor([[31054,     2,  1296,  2460,   356,    10,   614,     0,   866],\n",
      "        [    0, 38436,    18,     0,     5,    48,   308,     0,    28],\n",
      "        [   27,    54, 38268,    15,     8,   185,  5820,     2,   874],\n",
      "        [ 2283,     0,  1121, 30899,   520,    12,  1952,     0,   988],\n",
      "        [  236,     0,   629,   425, 35220,    16,   480,     0,   947],\n",
      "        [    0,    25,   253,     0,     0, 37044,   429,   449,   158],\n",
      "        [  622,     0, 10413,  3653,    76,    48, 22364,     0,   845],\n",
      "        [    0,     0,     0,     0,     0,     0,   404, 37463,     2],\n",
      "        [    0,     0,     0,     0,     0,     0,   311,     0, 38199]])\n",
      "Epoch end: Train, epoch number: 15\n",
      "TrainEpoch/CM\n",
      " tensor([[31054,     2,  1296,  2460,   356,    10,   614,     0,   866],\n",
      "        [    0, 38436,    18,     0,     5,    48,   308,     0,    28],\n",
      "        [   27,    54, 38268,    15,     8,   185,  5820,     2,   874],\n",
      "        [ 2283,     0,  1121, 30899,   520,    12,  1952,     0,   988],\n",
      "        [  236,     0,   629,   425, 35220,    16,   480,     0,   947],\n",
      "        [    0,    25,   253,     0,     0, 37044,   429,   449,   158],\n",
      "        [  622,     0, 10413,  3653,    76,    48, 22364,     0,   845],\n",
      "        [    0,     0,     0,     0,     0,     0,   404, 37463,     2],\n",
      "        [    0,     0,     0,     0,     0,     0,   311,     0, 38199]])\n"
     ]
    },
    {
     "name": "stderr",
     "output_type": "stream",
     "text": [
      "Metric Validation/Accuracy improved by 0.002 >= min_delta = 0.0. New best score: 0.966\n"
     ]
    },
    {
     "data": {
      "application/vnd.jupyter.widget-view+json": {
       "model_id": "3149d965bd0f48b38b6c380c501997ed",
       "version_major": 2,
       "version_minor": 0
      },
      "text/plain": [
       "Validation: |          | 0/? [00:00<?, ?it/s]"
      ]
     },
     "metadata": {},
     "output_type": "display_data"
    },
    {
     "name": "stdout",
     "output_type": "stream",
     "text": [
      "Epoch end: Validation, epoch number: 17\n",
      "ValidationEpoch/CM\n",
      " tensor([[33338,     2,  1296,  2461,   356,    10,   614,     0,   866],\n",
      "        [    0, 40856,    18,     0,     5,    48,   308,     0,    28],\n",
      "        [   27,    54, 40837,    15,     8,   185,  6071,     2,   874],\n",
      "        [ 2283,     0,  1121, 33157,   522,    12,  2047,     0,   988],\n",
      "        [  236,     0,   629,   430, 37580,    16,   480,     0,   947],\n",
      "        [    0,    25,   253,     0,     0, 39434,   429,   449,   158],\n",
      "        [  622,     0, 10686,  3808,    76,    48, 24306,     0,   845],\n",
      "        [    0,     0,     0,     0,     0,     0,   404, 39823,     2],\n",
      "        [    0,     0,     0,     0,     0,     0,   311,     0, 40599]])\n",
      "Epoch end: Train, epoch number: 16\n",
      "TrainEpoch/CM\n",
      " tensor([[33338,     2,  1296,  2461,   356,    10,   614,     0,   866],\n",
      "        [    0, 40856,    18,     0,     5,    48,   308,     0,    28],\n",
      "        [   27,    54, 40837,    15,     8,   185,  6071,     2,   874],\n",
      "        [ 2283,     0,  1121, 33157,   522,    12,  2047,     0,   988],\n",
      "        [  236,     0,   629,   430, 37580,    16,   480,     0,   947],\n",
      "        [    0,    25,   253,     0,     0, 39434,   429,   449,   158],\n",
      "        [  622,     0, 10686,  3808,    76,    48, 24306,     0,   845],\n",
      "        [    0,     0,     0,     0,     0,     0,   404, 39823,     2],\n",
      "        [    0,     0,     0,     0,     0,     0,   311,     0, 40599]])\n"
     ]
    },
    {
     "data": {
      "application/vnd.jupyter.widget-view+json": {
       "model_id": "884f1e69bd8944f9b84a64048c571273",
       "version_major": 2,
       "version_minor": 0
      },
      "text/plain": [
       "Validation: |          | 0/? [00:00<?, ?it/s]"
      ]
     },
     "metadata": {},
     "output_type": "display_data"
    },
    {
     "name": "stdout",
     "output_type": "stream",
     "text": [
      "Epoch end: Validation, epoch number: 18\n",
      "ValidationEpoch/CM\n",
      " tensor([[35623,     2,  1296,  2461,   356,    10,   614,     0,   866],\n",
      "        [    0, 43276,    18,     0,     5,    48,   308,     0,    28],\n",
      "        [   27,    54, 43401,    15,     8,   185,  6327,     2,   874],\n",
      "        [ 2283,     0,  1121, 35425,   523,    12,  2133,     0,   988],\n",
      "        [  236,     0,   629,   435, 39940,    16,   480,     0,   947],\n",
      "        [    0,    25,   253,     0,     0, 41824,   429,   449,   158],\n",
      "        [  622,     0, 10941,  3959,    76,    48, 26270,     0,   845],\n",
      "        [    0,     0,     0,     0,     0,     0,   404, 42183,     2],\n",
      "        [    0,     0,     0,     0,     0,     0,   311,     0, 42999]])\n",
      "Epoch end: Train, epoch number: 17\n",
      "TrainEpoch/CM\n",
      " tensor([[35623,     2,  1296,  2461,   356,    10,   614,     0,   866],\n",
      "        [    0, 43276,    18,     0,     5,    48,   308,     0,    28],\n",
      "        [   27,    54, 43401,    15,     8,   185,  6327,     2,   874],\n",
      "        [ 2283,     0,  1121, 35425,   523,    12,  2133,     0,   988],\n",
      "        [  236,     0,   629,   435, 39940,    16,   480,     0,   947],\n",
      "        [    0,    25,   253,     0,     0, 41824,   429,   449,   158],\n",
      "        [  622,     0, 10941,  3959,    76,    48, 26270,     0,   845],\n",
      "        [    0,     0,     0,     0,     0,     0,   404, 42183,     2],\n",
      "        [    0,     0,     0,     0,     0,     0,   311,     0, 42999]])\n"
     ]
    },
    {
     "data": {
      "application/vnd.jupyter.widget-view+json": {
       "model_id": "0d7bed20f59b4edfbad9d6478381296a",
       "version_major": 2,
       "version_minor": 0
      },
      "text/plain": [
       "Validation: |          | 0/? [00:00<?, ?it/s]"
      ]
     },
     "metadata": {},
     "output_type": "display_data"
    },
    {
     "name": "stdout",
     "output_type": "stream",
     "text": [
      "Epoch end: Validation, epoch number: 19\n",
      "ValidationEpoch/CM\n",
      " tensor([[37907,     2,  1296,  2462,   356,    10,   614,     0,   866],\n",
      "        [    0, 45696,    18,     0,     5,    48,   308,     0,    28],\n",
      "        [   27,    54, 45977,    15,     8,   185,  6571,     2,   874],\n",
      "        [ 2283,     0,  1121, 37705,   523,    12,  2208,     0,   988],\n",
      "        [  236,     0,   629,   444, 42296,    16,   480,     0,   947],\n",
      "        [    0,    25,   253,     0,     0, 44214,   429,   449,   158],\n",
      "        [  622,     0, 11146,  4106,    76,    48, 28288,     0,   845],\n",
      "        [    0,     0,     0,     0,     0,     0,   404, 44543,     2],\n",
      "        [    0,     0,     0,     0,     0,     0,   311,     0, 45399]])\n"
     ]
    },
    {
     "name": "stderr",
     "output_type": "stream",
     "text": [
      "Metric Validation/Accuracy improved by 0.005 >= min_delta = 0.0. New best score: 0.972\n"
     ]
    },
    {
     "name": "stdout",
     "output_type": "stream",
     "text": [
      "Epoch end: Train, epoch number: 18\n",
      "TrainEpoch/CM\n",
      " tensor([[37907,     2,  1296,  2462,   356,    10,   614,     0,   866],\n",
      "        [    0, 45696,    18,     0,     5,    48,   308,     0,    28],\n",
      "        [   27,    54, 45977,    15,     8,   185,  6571,     2,   874],\n",
      "        [ 2283,     0,  1121, 37705,   523,    12,  2208,     0,   988],\n",
      "        [  236,     0,   629,   444, 42296,    16,   480,     0,   947],\n",
      "        [    0,    25,   253,     0,     0, 44214,   429,   449,   158],\n",
      "        [  622,     0, 11146,  4106,    76,    48, 28288,     0,   845],\n",
      "        [    0,     0,     0,     0,     0,     0,   404, 44543,     2],\n",
      "        [    0,     0,     0,     0,     0,     0,   311,     0, 45399]])\n"
     ]
    },
    {
     "data": {
      "application/vnd.jupyter.widget-view+json": {
       "model_id": "0b336772b8a44221b9682fae31723126",
       "version_major": 2,
       "version_minor": 0
      },
      "text/plain": [
       "Validation: |          | 0/? [00:00<?, ?it/s]"
      ]
     },
     "metadata": {},
     "output_type": "display_data"
    },
    {
     "name": "stdout",
     "output_type": "stream",
     "text": [
      "Epoch end: Validation, epoch number: 20\n",
      "ValidationEpoch/CM\n",
      " tensor([[40192,     2,  1296,  2462,   356,    10,   614,     0,   866],\n",
      "        [    0, 48116,    18,     0,     5,    48,   308,     0,    28],\n",
      "        [   27,    54, 48569,    15,     8,   185,  6799,     2,   874],\n",
      "        [ 2283,     0,  1121, 40000,   524,    12,  2267,     0,   988],\n",
      "        [  236,     0,   629,   454, 44651,    16,   480,     0,   947],\n",
      "        [    0,    25,   253,     0,     0, 46604,   429,   449,   158],\n",
      "        [  622,     0, 11357,  4253,    77,    48, 30299,     0,   845],\n",
      "        [    0,     0,     0,     0,     0,     0,   404, 46903,     2],\n",
      "        [    0,     0,     0,     0,     0,     0,   311,     0, 47799]])\n",
      "Epoch end: Train, epoch number: 19\n",
      "TrainEpoch/CM\n",
      " tensor([[40192,     2,  1296,  2462,   356,    10,   614,     0,   866],\n",
      "        [    0, 48116,    18,     0,     5,    48,   308,     0,    28],\n",
      "        [   27,    54, 48569,    15,     8,   185,  6799,     2,   874],\n",
      "        [ 2283,     0,  1121, 40000,   524,    12,  2267,     0,   988],\n",
      "        [  236,     0,   629,   454, 44651,    16,   480,     0,   947],\n",
      "        [    0,    25,   253,     0,     0, 46604,   429,   449,   158],\n",
      "        [  622,     0, 11357,  4253,    77,    48, 30299,     0,   845],\n",
      "        [    0,     0,     0,     0,     0,     0,   404, 46903,     2],\n",
      "        [    0,     0,     0,     0,     0,     0,   311,     0, 47799]])\n"
     ]
    },
    {
     "name": "stderr",
     "output_type": "stream",
     "text": [
      "Metric Validation/Accuracy improved by 0.001 >= min_delta = 0.0. New best score: 0.973\n"
     ]
    },
    {
     "data": {
      "application/vnd.jupyter.widget-view+json": {
       "model_id": "4903b35b516141ea9b59f0c559ce0e50",
       "version_major": 2,
       "version_minor": 0
      },
      "text/plain": [
       "Validation: |          | 0/? [00:00<?, ?it/s]"
      ]
     },
     "metadata": {},
     "output_type": "display_data"
    },
    {
     "name": "stdout",
     "output_type": "stream",
     "text": [
      "Epoch end: Validation, epoch number: 21\n",
      "ValidationEpoch/CM\n",
      " tensor([[42477,     2,  1296,  2462,   356,    10,   614,     0,   866],\n",
      "        [    0, 50536,    18,     0,     5,    48,   308,     0,    28],\n",
      "        [   27,    54, 51145,    15,     8,   185,  7043,     2,   874],\n",
      "        [ 2283,     0,  1121, 42297,   524,    12,  2325,     0,   988],\n",
      "        [  236,     0,   629,   470, 47000,    16,   480,     0,   947],\n",
      "        [    0,    25,   253,     0,     0, 48994,   429,   449,   158],\n",
      "        [  622,     0, 11540,  4402,    78,    48, 32336,     0,   845],\n",
      "        [    0,     0,     0,     0,     0,     0,   404, 49263,     2],\n",
      "        [    0,     0,     0,     0,     0,     0,   311,     0, 50199]])\n",
      "Epoch end: Train, epoch number: 20\n",
      "TrainEpoch/CM\n",
      " tensor([[42477,     2,  1296,  2462,   356,    10,   614,     0,   866],\n",
      "        [    0, 50536,    18,     0,     5,    48,   308,     0,    28],\n",
      "        [   27,    54, 51145,    15,     8,   185,  7043,     2,   874],\n",
      "        [ 2283,     0,  1121, 42297,   524,    12,  2325,     0,   988],\n",
      "        [  236,     0,   629,   470, 47000,    16,   480,     0,   947],\n",
      "        [    0,    25,   253,     0,     0, 48994,   429,   449,   158],\n",
      "        [  622,     0, 11540,  4402,    78,    48, 32336,     0,   845],\n",
      "        [    0,     0,     0,     0,     0,     0,   404, 49263,     2],\n",
      "        [    0,     0,     0,     0,     0,     0,   311,     0, 50199]])\n"
     ]
    },
    {
     "data": {
      "application/vnd.jupyter.widget-view+json": {
       "model_id": "5c4c1999b8f941c9ae74adc19cccf830",
       "version_major": 2,
       "version_minor": 0
      },
      "text/plain": [
       "Validation: |          | 0/? [00:00<?, ?it/s]"
      ]
     },
     "metadata": {},
     "output_type": "display_data"
    },
    {
     "name": "stdout",
     "output_type": "stream",
     "text": [
      "Epoch end: Validation, epoch number: 22\n",
      "ValidationEpoch/CM\n",
      " tensor([[44762,     2,  1296,  2462,   356,    10,   614,     0,   866],\n",
      "        [    0, 52956,    18,     0,     5,    48,   308,     0,    28],\n",
      "        [   27,    54, 53761,    15,     8,   185,  7247,     2,   874],\n",
      "        [ 2283,     0,  1121, 44590,   525,    12,  2386,     0,   988],\n",
      "        [  236,     0,   629,   478, 49357,    16,   480,     0,   947],\n",
      "        [    0,    25,   253,     0,     0, 51384,   429,   449,   158],\n",
      "        [  622,     0, 11744,  4535,    79,    48, 34368,     0,   845],\n",
      "        [    0,     0,     0,     0,     0,     0,   404, 51623,     2],\n",
      "        [    0,     0,     0,     0,     0,     0,   311,     0, 52599]])\n",
      "Epoch end: Train, epoch number: 21\n",
      "TrainEpoch/CM\n",
      " tensor([[44762,     2,  1296,  2462,   356,    10,   614,     0,   866],\n",
      "        [    0, 52956,    18,     0,     5,    48,   308,     0,    28],\n",
      "        [   27,    54, 53761,    15,     8,   185,  7247,     2,   874],\n",
      "        [ 2283,     0,  1121, 44590,   525,    12,  2386,     0,   988],\n",
      "        [  236,     0,   629,   478, 49357,    16,   480,     0,   947],\n",
      "        [    0,    25,   253,     0,     0, 51384,   429,   449,   158],\n",
      "        [  622,     0, 11744,  4535,    79,    48, 34368,     0,   845],\n",
      "        [    0,     0,     0,     0,     0,     0,   404, 51623,     2],\n",
      "        [    0,     0,     0,     0,     0,     0,   311,     0, 52599]])\n"
     ]
    },
    {
     "name": "stderr",
     "output_type": "stream",
     "text": [
      "Metric Validation/Accuracy improved by 0.001 >= min_delta = 0.0. New best score: 0.974\n"
     ]
    },
    {
     "data": {
      "application/vnd.jupyter.widget-view+json": {
       "model_id": "193ae4d0d6ee444caec8861837837e17",
       "version_major": 2,
       "version_minor": 0
      },
      "text/plain": [
       "Validation: |          | 0/? [00:00<?, ?it/s]"
      ]
     },
     "metadata": {},
     "output_type": "display_data"
    },
    {
     "name": "stdout",
     "output_type": "stream",
     "text": [
      "Epoch end: Validation, epoch number: 23\n",
      "ValidationEpoch/CM\n",
      " tensor([[47047,     2,  1296,  2462,   356,    10,   614,     0,   866],\n",
      "        [    0, 55376,    18,     0,     5,    48,   308,     0,    28],\n",
      "        [   27,    54, 56381,    15,     8,   185,  7447,     2,   874],\n",
      "        [ 2283,     0,  1121, 46885,   525,    12,  2446,     0,   988],\n",
      "        [  236,     0,   629,   492, 51708,    16,   480,     0,   947],\n",
      "        [    0,    25,   253,     0,     0, 53774,   429,   449,   158],\n",
      "        [  622,     0, 11919,  4655,    79,    48, 36443,     0,   845],\n",
      "        [    0,     0,     0,     0,     0,     0,   404, 53983,     2],\n",
      "        [    0,     0,     0,     0,     0,     0,   311,     0, 54999]])\n"
     ]
    },
    {
     "name": "stderr",
     "output_type": "stream",
     "text": [
      "Metric Validation/Accuracy improved by 0.003 >= min_delta = 0.0. New best score: 0.977\n"
     ]
    },
    {
     "name": "stdout",
     "output_type": "stream",
     "text": [
      "Epoch end: Train, epoch number: 22\n",
      "TrainEpoch/CM\n",
      " tensor([[47047,     2,  1296,  2462,   356,    10,   614,     0,   866],\n",
      "        [    0, 55376,    18,     0,     5,    48,   308,     0,    28],\n",
      "        [   27,    54, 56381,    15,     8,   185,  7447,     2,   874],\n",
      "        [ 2283,     0,  1121, 46885,   525,    12,  2446,     0,   988],\n",
      "        [  236,     0,   629,   492, 51708,    16,   480,     0,   947],\n",
      "        [    0,    25,   253,     0,     0, 53774,   429,   449,   158],\n",
      "        [  622,     0, 11919,  4655,    79,    48, 36443,     0,   845],\n",
      "        [    0,     0,     0,     0,     0,     0,   404, 53983,     2],\n",
      "        [    0,     0,     0,     0,     0,     0,   311,     0, 54999]])\n"
     ]
    },
    {
     "data": {
      "application/vnd.jupyter.widget-view+json": {
       "model_id": "cab23ced63364cc3b72f3a0c3effad48",
       "version_major": 2,
       "version_minor": 0
      },
      "text/plain": [
       "Validation: |          | 0/? [00:00<?, ?it/s]"
      ]
     },
     "metadata": {},
     "output_type": "display_data"
    },
    {
     "name": "stdout",
     "output_type": "stream",
     "text": [
      "Epoch end: Validation, epoch number: 24\n",
      "ValidationEpoch/CM\n",
      " tensor([[49332,     2,  1296,  2462,   356,    10,   614,     0,   866],\n",
      "        [    0, 57796,    18,     0,     5,    48,   308,     0,    28],\n",
      "        [   27,    54, 58984,    15,     9,   185,  7663,     2,   874],\n",
      "        [ 2283,     0,  1121, 49184,   526,    12,  2501,     0,   988],\n",
      "        [  236,     0,   629,   506, 54059,    16,   480,     0,   947],\n",
      "        [    0,    25,   253,     0,     0, 56164,   429,   449,   158],\n",
      "        [  622,     0, 12075,  4772,    80,    48, 38539,     0,   845],\n",
      "        [    0,     0,     0,     0,     0,     0,   404, 56343,     2],\n",
      "        [    0,     0,     0,     0,     0,     0,   311,     0, 57399]])\n"
     ]
    },
    {
     "name": "stderr",
     "output_type": "stream",
     "text": [
      "Metric Validation/Accuracy improved by 0.000 >= min_delta = 0.0. New best score: 0.978\n"
     ]
    },
    {
     "name": "stdout",
     "output_type": "stream",
     "text": [
      "Epoch end: Train, epoch number: 23\n",
      "TrainEpoch/CM\n",
      " tensor([[49332,     2,  1296,  2462,   356,    10,   614,     0,   866],\n",
      "        [    0, 57796,    18,     0,     5,    48,   308,     0,    28],\n",
      "        [   27,    54, 58984,    15,     9,   185,  7663,     2,   874],\n",
      "        [ 2283,     0,  1121, 49184,   526,    12,  2501,     0,   988],\n",
      "        [  236,     0,   629,   506, 54059,    16,   480,     0,   947],\n",
      "        [    0,    25,   253,     0,     0, 56164,   429,   449,   158],\n",
      "        [  622,     0, 12075,  4772,    80,    48, 38539,     0,   845],\n",
      "        [    0,     0,     0,     0,     0,     0,   404, 56343,     2],\n",
      "        [    0,     0,     0,     0,     0,     0,   311,     0, 57399]])\n"
     ]
    },
    {
     "data": {
      "application/vnd.jupyter.widget-view+json": {
       "model_id": "4a7dd55816ec461f8f10458952ff5518",
       "version_major": 2,
       "version_minor": 0
      },
      "text/plain": [
       "Validation: |          | 0/? [00:00<?, ?it/s]"
      ]
     },
     "metadata": {},
     "output_type": "display_data"
    },
    {
     "name": "stdout",
     "output_type": "stream",
     "text": [
      "Epoch end: Validation, epoch number: 25\n",
      "ValidationEpoch/CM\n",
      " tensor([[51617,     2,  1296,  2462,   356,    10,   614,     0,   866],\n",
      "        [    0, 60216,    18,     0,     5,    48,   308,     0,    28],\n",
      "        [   27,    54, 61606,    15,    10,   185,  7860,     2,   874],\n",
      "        [ 2283,     0,  1121, 51496,   526,    12,  2544,     0,   988],\n",
      "        [  236,     0,   629,   521, 56409,    16,   480,     0,   947],\n",
      "        [    0,    25,   253,     0,     0, 58554,   429,   449,   158],\n",
      "        [  622,     0, 12229,  4909,    80,    48, 40618,     0,   845],\n",
      "        [    0,     0,     0,     0,     0,     0,   404, 58703,     2],\n",
      "        [    0,     0,     0,     0,     0,     0,   311,     0, 59799]])\n",
      "Epoch end: Train, epoch number: 24\n",
      "TrainEpoch/CM\n",
      " tensor([[51617,     2,  1296,  2462,   356,    10,   614,     0,   866],\n",
      "        [    0, 60216,    18,     0,     5,    48,   308,     0,    28],\n",
      "        [   27,    54, 61606,    15,    10,   185,  7860,     2,   874],\n",
      "        [ 2283,     0,  1121, 51496,   526,    12,  2544,     0,   988],\n",
      "        [  236,     0,   629,   521, 56409,    16,   480,     0,   947],\n",
      "        [    0,    25,   253,     0,     0, 58554,   429,   449,   158],\n",
      "        [  622,     0, 12229,  4909,    80,    48, 40618,     0,   845],\n",
      "        [    0,     0,     0,     0,     0,     0,   404, 58703,     2],\n",
      "        [    0,     0,     0,     0,     0,     0,   311,     0, 59799]])\n"
     ]
    },
    {
     "data": {
      "application/vnd.jupyter.widget-view+json": {
       "model_id": "ac38b367a6bd43aab5e94cc89d77d098",
       "version_major": 2,
       "version_minor": 0
      },
      "text/plain": [
       "Validation: |          | 0/? [00:00<?, ?it/s]"
      ]
     },
     "metadata": {},
     "output_type": "display_data"
    },
    {
     "name": "stdout",
     "output_type": "stream",
     "text": [
      "Epoch end: Validation, epoch number: 26\n",
      "ValidationEpoch/CM\n",
      " tensor([[53902,     2,  1296,  2462,   356,    10,   614,     0,   866],\n",
      "        [    0, 62636,    18,     0,     5,    48,   308,     0,    28],\n",
      "        [   27,    54, 64246,    15,    12,   185,  8038,     2,   874],\n",
      "        [ 2283,     0,  1121, 53801,   526,    12,  2594,     0,   988],\n",
      "        [  236,     0,   629,   531, 58764,    16,   480,     0,   947],\n",
      "        [    0,    25,   253,     0,     0, 60944,   429,   449,   158],\n",
      "        [  622,     0, 12391,  5020,    80,    48, 42715,     0,   845],\n",
      "        [    0,     0,     0,     0,     0,     0,   404, 61063,     2],\n",
      "        [    0,     0,     0,     0,     0,     0,   311,     0, 62199]])\n"
     ]
    },
    {
     "name": "stderr",
     "output_type": "stream",
     "text": [
      "Metric Validation/Accuracy improved by 0.000 >= min_delta = 0.0. New best score: 0.978\n"
     ]
    },
    {
     "name": "stdout",
     "output_type": "stream",
     "text": [
      "Epoch end: Train, epoch number: 25\n",
      "TrainEpoch/CM\n",
      " tensor([[53902,     2,  1296,  2462,   356,    10,   614,     0,   866],\n",
      "        [    0, 62636,    18,     0,     5,    48,   308,     0,    28],\n",
      "        [   27,    54, 64246,    15,    12,   185,  8038,     2,   874],\n",
      "        [ 2283,     0,  1121, 53801,   526,    12,  2594,     0,   988],\n",
      "        [  236,     0,   629,   531, 58764,    16,   480,     0,   947],\n",
      "        [    0,    25,   253,     0,     0, 60944,   429,   449,   158],\n",
      "        [  622,     0, 12391,  5020,    80,    48, 42715,     0,   845],\n",
      "        [    0,     0,     0,     0,     0,     0,   404, 61063,     2],\n",
      "        [    0,     0,     0,     0,     0,     0,   311,     0, 62199]])\n"
     ]
    },
    {
     "data": {
      "application/vnd.jupyter.widget-view+json": {
       "model_id": "38c19e3142d743a68cc3a881a1542590",
       "version_major": 2,
       "version_minor": 0
      },
      "text/plain": [
       "Validation: |          | 0/? [00:00<?, ?it/s]"
      ]
     },
     "metadata": {},
     "output_type": "display_data"
    },
    {
     "name": "stdout",
     "output_type": "stream",
     "text": [
      "Epoch end: Validation, epoch number: 27\n",
      "ValidationEpoch/CM\n",
      " tensor([[56187,     2,  1296,  2462,   356,    10,   614,     0,   866],\n",
      "        [    0, 65056,    18,     0,     5,    48,   308,     0,    28],\n",
      "        [   27,    54, 66895,    15,    12,   185,  8209,     2,   874],\n",
      "        [ 2283,     0,  1121, 56104,   526,    12,  2646,     0,   988],\n",
      "        [  236,     0,   629,   545, 61115,    16,   480,     0,   947],\n",
      "        [    0,    25,   253,     0,     0, 63334,   429,   449,   158],\n",
      "        [  622,     0, 12540,  5113,    80,    48, 44843,     0,   845],\n",
      "        [    0,     0,     0,     0,     0,     0,   404, 63423,     2],\n",
      "        [    0,     0,     0,     0,     0,     0,   311,     0, 64599]])\n",
      "Epoch end: Train, epoch number: 26\n",
      "TrainEpoch/CM\n",
      " tensor([[56187,     2,  1296,  2462,   356,    10,   614,     0,   866],\n",
      "        [    0, 65056,    18,     0,     5,    48,   308,     0,    28],\n",
      "        [   27,    54, 66895,    15,    12,   185,  8209,     2,   874],\n",
      "        [ 2283,     0,  1121, 56104,   526,    12,  2646,     0,   988],\n",
      "        [  236,     0,   629,   545, 61115,    16,   480,     0,   947],\n",
      "        [    0,    25,   253,     0,     0, 63334,   429,   449,   158],\n",
      "        [  622,     0, 12540,  5113,    80,    48, 44843,     0,   845],\n",
      "        [    0,     0,     0,     0,     0,     0,   404, 63423,     2],\n",
      "        [    0,     0,     0,     0,     0,     0,   311,     0, 64599]])\n"
     ]
    },
    {
     "name": "stderr",
     "output_type": "stream",
     "text": [
      "Metric Validation/Accuracy improved by 0.003 >= min_delta = 0.0. New best score: 0.981\n"
     ]
    },
    {
     "data": {
      "application/vnd.jupyter.widget-view+json": {
       "model_id": "357f88ba742a452989e8a3428f08bdda",
       "version_major": 2,
       "version_minor": 0
      },
      "text/plain": [
       "Validation: |          | 0/? [00:00<?, ?it/s]"
      ]
     },
     "metadata": {},
     "output_type": "display_data"
    },
    {
     "name": "stdout",
     "output_type": "stream",
     "text": [
      "Epoch end: Validation, epoch number: 28\n",
      "ValidationEpoch/CM\n",
      " tensor([[58472,     2,  1296,  2462,   356,    10,   614,     0,   866],\n",
      "        [    0, 67476,    18,     0,     5,    48,   308,     0,    28],\n",
      "        [   27,    54, 69564,    15,    12,   185,  8360,     2,   874],\n",
      "        [ 2283,     0,  1121, 58416,   526,    12,  2689,     0,   988],\n",
      "        [  236,     0,   629,   556, 63469,    16,   480,     0,   947],\n",
      "        [    0,    25,   253,     0,     0, 65724,   429,   449,   158],\n",
      "        [  622,     0, 12703,  5212,    80,    48, 46951,     0,   845],\n",
      "        [    0,     0,     0,     0,     0,     0,   404, 65783,     2],\n",
      "        [    0,     0,     0,     0,     0,     0,   311,     0, 66999]])\n",
      "Epoch end: Train, epoch number: 27\n",
      "TrainEpoch/CM\n",
      " tensor([[58472,     2,  1296,  2462,   356,    10,   614,     0,   866],\n",
      "        [    0, 67476,    18,     0,     5,    48,   308,     0,    28],\n",
      "        [   27,    54, 69564,    15,    12,   185,  8360,     2,   874],\n",
      "        [ 2283,     0,  1121, 58416,   526,    12,  2689,     0,   988],\n",
      "        [  236,     0,   629,   556, 63469,    16,   480,     0,   947],\n",
      "        [    0,    25,   253,     0,     0, 65724,   429,   449,   158],\n",
      "        [  622,     0, 12703,  5212,    80,    48, 46951,     0,   845],\n",
      "        [    0,     0,     0,     0,     0,     0,   404, 65783,     2],\n",
      "        [    0,     0,     0,     0,     0,     0,   311,     0, 66999]])\n"
     ]
    },
    {
     "data": {
      "application/vnd.jupyter.widget-view+json": {
       "model_id": "b88dcfb0a19f4ebab291f85f29e406ea",
       "version_major": 2,
       "version_minor": 0
      },
      "text/plain": [
       "Validation: |          | 0/? [00:00<?, ?it/s]"
      ]
     },
     "metadata": {},
     "output_type": "display_data"
    },
    {
     "name": "stdout",
     "output_type": "stream",
     "text": [
      "Epoch end: Validation, epoch number: 29\n",
      "ValidationEpoch/CM\n",
      " tensor([[60757,     2,  1296,  2462,   356,    10,   614,     0,   866],\n",
      "        [    0, 69896,    18,     0,     5,    48,   308,     0,    28],\n",
      "        [   27,    54, 72231,    15,    17,   185,  8508,     2,   874],\n",
      "        [ 2283,     0,  1121, 60725,   527,    12,  2734,     0,   988],\n",
      "        [  236,     0,   629,   562, 65828,    16,   480,     0,   947],\n",
      "        [    0,    25,   253,     0,     0, 68114,   429,   449,   158],\n",
      "        [  622,     0, 12852,  5308,    80,    48, 49076,     0,   845],\n",
      "        [    0,     0,     0,     0,     0,     0,   404, 68143,     2],\n",
      "        [    0,     0,     0,     0,     0,     0,   311,     0, 69399]])\n"
     ]
    },
    {
     "name": "stderr",
     "output_type": "stream",
     "text": [
      "Metric Validation/Accuracy improved by 0.000 >= min_delta = 0.0. New best score: 0.981\n"
     ]
    },
    {
     "name": "stdout",
     "output_type": "stream",
     "text": [
      "Epoch end: Train, epoch number: 28\n",
      "TrainEpoch/CM\n",
      " tensor([[60757,     2,  1296,  2462,   356,    10,   614,     0,   866],\n",
      "        [    0, 69896,    18,     0,     5,    48,   308,     0,    28],\n",
      "        [   27,    54, 72231,    15,    17,   185,  8508,     2,   874],\n",
      "        [ 2283,     0,  1121, 60725,   527,    12,  2734,     0,   988],\n",
      "        [  236,     0,   629,   562, 65828,    16,   480,     0,   947],\n",
      "        [    0,    25,   253,     0,     0, 68114,   429,   449,   158],\n",
      "        [  622,     0, 12852,  5308,    80,    48, 49076,     0,   845],\n",
      "        [    0,     0,     0,     0,     0,     0,   404, 68143,     2],\n",
      "        [    0,     0,     0,     0,     0,     0,   311,     0, 69399]])\n"
     ]
    },
    {
     "data": {
      "application/vnd.jupyter.widget-view+json": {
       "model_id": "4d68d703916c40758706b055f7e181fd",
       "version_major": 2,
       "version_minor": 0
      },
      "text/plain": [
       "Validation: |          | 0/? [00:00<?, ?it/s]"
      ]
     },
     "metadata": {},
     "output_type": "display_data"
    },
    {
     "name": "stdout",
     "output_type": "stream",
     "text": [
      "Epoch end: Validation, epoch number: 30\n",
      "ValidationEpoch/CM\n",
      " tensor([[63042,     2,  1296,  2462,   356,    10,   614,     0,   866],\n",
      "        [    0, 72316,    18,     0,     5,    48,   308,     0,    28],\n",
      "        [   27,    54, 74877,    15,    21,   185,  8678,     2,   874],\n",
      "        [ 2283,     0,  1121, 63040,   529,    12,  2772,     0,   988],\n",
      "        [  236,     0,   629,   577, 68178,    16,   480,     0,   947],\n",
      "        [    0,    25,   253,     0,     0, 70504,   429,   449,   158],\n",
      "        [  622,     0, 12989,  5405,    80,    48, 51212,     0,   845],\n",
      "        [    0,     0,     0,     0,     0,     0,   404, 70503,     2],\n",
      "        [    0,     0,     0,     0,     0,     0,   311,     0, 71799]])\n"
     ]
    },
    {
     "name": "stderr",
     "output_type": "stream",
     "text": [
      "Metric Validation/Accuracy improved by 0.002 >= min_delta = 0.0. New best score: 0.983\n"
     ]
    },
    {
     "name": "stdout",
     "output_type": "stream",
     "text": [
      "Epoch end: Train, epoch number: 29\n",
      "TrainEpoch/CM\n",
      " tensor([[63042,     2,  1296,  2462,   356,    10,   614,     0,   866],\n",
      "        [    0, 72316,    18,     0,     5,    48,   308,     0,    28],\n",
      "        [   27,    54, 74877,    15,    21,   185,  8678,     2,   874],\n",
      "        [ 2283,     0,  1121, 63040,   529,    12,  2772,     0,   988],\n",
      "        [  236,     0,   629,   577, 68178,    16,   480,     0,   947],\n",
      "        [    0,    25,   253,     0,     0, 70504,   429,   449,   158],\n",
      "        [  622,     0, 12989,  5405,    80,    48, 51212,     0,   845],\n",
      "        [    0,     0,     0,     0,     0,     0,   404, 70503,     2],\n",
      "        [    0,     0,     0,     0,     0,     0,   311,     0, 71799]])\n"
     ]
    },
    {
     "data": {
      "application/vnd.jupyter.widget-view+json": {
       "model_id": "e25de4de0b79488e89004b0116288010",
       "version_major": 2,
       "version_minor": 0
      },
      "text/plain": [
       "Validation: |          | 0/? [00:00<?, ?it/s]"
      ]
     },
     "metadata": {},
     "output_type": "display_data"
    },
    {
     "name": "stdout",
     "output_type": "stream",
     "text": [
      "Epoch end: Validation, epoch number: 31\n",
      "ValidationEpoch/CM\n",
      " tensor([[65327,     2,  1296,  2462,   356,    10,   614,     0,   866],\n",
      "        [    0, 74736,    18,     0,     5,    48,   308,     0,    28],\n",
      "        [   27,    54, 77553,    15,    22,   185,  8821,     2,   874],\n",
      "        [ 2283,     0,  1121, 65356,   532,    12,  2808,     0,   988],\n",
      "        [  236,     0,   629,   587, 70533,    16,   480,     0,   947],\n",
      "        [    0,    25,   253,     0,     0, 72894,   429,   449,   158],\n",
      "        [  622,     0, 13146,  5496,    80,    48, 53334,     0,   845],\n",
      "        [    0,     0,     0,     0,     0,     0,   404, 72863,     2],\n",
      "        [    0,     0,     0,     0,     0,     0,   311,     0, 74199]])\n",
      "Epoch end: Train, epoch number: 30\n",
      "TrainEpoch/CM\n",
      " tensor([[65327,     2,  1296,  2462,   356,    10,   614,     0,   866],\n",
      "        [    0, 74736,    18,     0,     5,    48,   308,     0,    28],\n",
      "        [   27,    54, 77553,    15,    22,   185,  8821,     2,   874],\n",
      "        [ 2283,     0,  1121, 65356,   532,    12,  2808,     0,   988],\n",
      "        [  236,     0,   629,   587, 70533,    16,   480,     0,   947],\n",
      "        [    0,    25,   253,     0,     0, 72894,   429,   449,   158],\n",
      "        [  622,     0, 13146,  5496,    80,    48, 53334,     0,   845],\n",
      "        [    0,     0,     0,     0,     0,     0,   404, 72863,     2],\n",
      "        [    0,     0,     0,     0,     0,     0,   311,     0, 74199]])\n"
     ]
    },
    {
     "data": {
      "application/vnd.jupyter.widget-view+json": {
       "model_id": "00bed217bac24c0fa42a49798168398e",
       "version_major": 2,
       "version_minor": 0
      },
      "text/plain": [
       "Validation: |          | 0/? [00:00<?, ?it/s]"
      ]
     },
     "metadata": {},
     "output_type": "display_data"
    },
    {
     "name": "stdout",
     "output_type": "stream",
     "text": [
      "Epoch end: Validation, epoch number: 32\n",
      "ValidationEpoch/CM\n",
      " tensor([[67612,     2,  1296,  2462,   356,    10,   614,     0,   866],\n",
      "        [    0, 77156,    18,     0,     5,    48,   308,     0,    28],\n",
      "        [   27,    54, 80232,    15,    30,   185,  8954,     2,   874],\n",
      "        [ 2283,     0,  1121, 67677,   533,    12,  2841,     0,   988],\n",
      "        [  236,     0,   629,   599, 72886,    16,   480,     0,   947],\n",
      "        [    0,    25,   253,     0,     0, 75284,   429,   449,   158],\n",
      "        [  622,     0, 13288,  5583,    80,    48, 55475,     0,   845],\n",
      "        [    0,     0,     0,     0,     0,     0,   404, 75223,     2],\n",
      "        [    0,     0,     0,     0,     0,     0,   311,     0, 76599]])\n",
      "Epoch end: Train, epoch number: 31\n",
      "TrainEpoch/CM\n",
      " tensor([[67612,     2,  1296,  2462,   356,    10,   614,     0,   866],\n",
      "        [    0, 77156,    18,     0,     5,    48,   308,     0,    28],\n",
      "        [   27,    54, 80232,    15,    30,   185,  8954,     2,   874],\n",
      "        [ 2283,     0,  1121, 67677,   533,    12,  2841,     0,   988],\n",
      "        [  236,     0,   629,   599, 72886,    16,   480,     0,   947],\n",
      "        [    0,    25,   253,     0,     0, 75284,   429,   449,   158],\n",
      "        [  622,     0, 13288,  5583,    80,    48, 55475,     0,   845],\n",
      "        [    0,     0,     0,     0,     0,     0,   404, 75223,     2],\n",
      "        [    0,     0,     0,     0,     0,     0,   311,     0, 76599]])\n"
     ]
    },
    {
     "data": {
      "application/vnd.jupyter.widget-view+json": {
       "model_id": "8d13c58e4821478296fdf6ddae5e2436",
       "version_major": 2,
       "version_minor": 0
      },
      "text/plain": [
       "Validation: |          | 0/? [00:00<?, ?it/s]"
      ]
     },
     "metadata": {},
     "output_type": "display_data"
    },
    {
     "name": "stdout",
     "output_type": "stream",
     "text": [
      "Epoch end: Validation, epoch number: 33\n",
      "ValidationEpoch/CM\n",
      " tensor([[69897,     2,  1296,  2462,   356,    10,   614,     0,   866],\n",
      "        [    0, 79576,    18,     0,     5,    48,   308,     0,    28],\n",
      "        [   27,    54, 82925,    15,    32,   185,  9079,     2,   874],\n",
      "        [ 2283,     0,  1121, 69981,   538,    12,  2887,     0,   988],\n",
      "        [  236,     0,   629,   610, 75240,    16,   480,     0,   947],\n",
      "        [    0,    25,   253,     0,     0, 77674,   429,   449,   158],\n",
      "        [  622,     0, 13436,  5664,    80,    48, 57616,     0,   845],\n",
      "        [    0,     0,     0,     0,     0,     0,   404, 77583,     2],\n",
      "        [    0,     0,     0,     0,     0,     0,   311,     0, 78999]])\n",
      "Epoch end: Train, epoch number: 32\n",
      "TrainEpoch/CM\n",
      " tensor([[69897,     2,  1296,  2462,   356,    10,   614,     0,   866],\n",
      "        [    0, 79576,    18,     0,     5,    48,   308,     0,    28],\n",
      "        [   27,    54, 82925,    15,    32,   185,  9079,     2,   874],\n",
      "        [ 2283,     0,  1121, 69981,   538,    12,  2887,     0,   988],\n",
      "        [  236,     0,   629,   610, 75240,    16,   480,     0,   947],\n",
      "        [    0,    25,   253,     0,     0, 77674,   429,   449,   158],\n",
      "        [  622,     0, 13436,  5664,    80,    48, 57616,     0,   845],\n",
      "        [    0,     0,     0,     0,     0,     0,   404, 77583,     2],\n",
      "        [    0,     0,     0,     0,     0,     0,   311,     0, 78999]])\n"
     ]
    },
    {
     "data": {
      "application/vnd.jupyter.widget-view+json": {
       "model_id": "4fedfcfba21643bdbbc5ee0f1d78403d",
       "version_major": 2,
       "version_minor": 0
      },
      "text/plain": [
       "Validation: |          | 0/? [00:00<?, ?it/s]"
      ]
     },
     "metadata": {},
     "output_type": "display_data"
    },
    {
     "name": "stdout",
     "output_type": "stream",
     "text": [
      "Epoch end: Validation, epoch number: 34\n",
      "ValidationEpoch/CM\n",
      " tensor([[72182,     2,  1296,  2462,   356,    10,   614,     0,   866],\n",
      "        [    0, 81996,    18,     0,     5,    48,   308,     0,    28],\n",
      "        [   27,    54, 85622,    15,    37,   185,  9197,     2,   874],\n",
      "        [ 2283,     0,  1121, 72296,   540,    12,  2925,     0,   988],\n",
      "        [  236,     0,   629,   623, 77592,    16,   480,     0,   947],\n",
      "        [    0,    25,   253,     0,     0, 80064,   429,   449,   158],\n",
      "        [  622,     0, 13578,  5739,    80,    48, 59769,     0,   845],\n",
      "        [    0,     0,     0,     0,     0,     0,   404, 79943,     2],\n",
      "        [    0,     0,     0,     0,     0,     0,   311,     0, 81399]])\n",
      "Epoch end: Train, epoch number: 33\n",
      "TrainEpoch/CM\n",
      " tensor([[72182,     2,  1296,  2462,   356,    10,   614,     0,   866],\n",
      "        [    0, 81996,    18,     0,     5,    48,   308,     0,    28],\n",
      "        [   27,    54, 85622,    15,    37,   185,  9197,     2,   874],\n",
      "        [ 2283,     0,  1121, 72296,   540,    12,  2925,     0,   988],\n",
      "        [  236,     0,   629,   623, 77592,    16,   480,     0,   947],\n",
      "        [    0,    25,   253,     0,     0, 80064,   429,   449,   158],\n",
      "        [  622,     0, 13578,  5739,    80,    48, 59769,     0,   845],\n",
      "        [    0,     0,     0,     0,     0,     0,   404, 79943,     2],\n",
      "        [    0,     0,     0,     0,     0,     0,   311,     0, 81399]])\n"
     ]
    },
    {
     "data": {
      "application/vnd.jupyter.widget-view+json": {
       "model_id": "2a76027a29e84600a71aeab2522026a0",
       "version_major": 2,
       "version_minor": 0
      },
      "text/plain": [
       "Validation: |          | 0/? [00:00<?, ?it/s]"
      ]
     },
     "metadata": {},
     "output_type": "display_data"
    },
    {
     "name": "stdout",
     "output_type": "stream",
     "text": [
      "Epoch end: Validation, epoch number: 35\n",
      "ValidationEpoch/CM\n",
      " tensor([[74467,     2,  1296,  2462,   356,    10,   614,     0,   866],\n",
      "        [    0, 84416,    18,     0,     5,    48,   308,     0,    28],\n",
      "        [   27,    54, 88296,    15,    40,   185,  9340,     2,   874],\n",
      "        [ 2283,     0,  1121, 74615,   541,    12,  2960,     0,   988],\n",
      "        [  236,     0,   629,   634, 79946,    16,   480,     0,   947],\n",
      "        [    0,    25,   253,     0,     0, 82454,   429,   449,   158],\n",
      "        [  622,     0, 13707,  5816,    80,    48, 61933,     0,   845],\n",
      "        [    0,     0,     0,     0,     0,     0,   404, 82303,     2],\n",
      "        [    0,     0,     0,     0,     0,     0,   311,     0, 83799]])\n"
     ]
    },
    {
     "name": "stderr",
     "output_type": "stream",
     "text": [
      "Metric Validation/Accuracy improved by 0.003 >= min_delta = 0.0. New best score: 0.986\n"
     ]
    },
    {
     "name": "stdout",
     "output_type": "stream",
     "text": [
      "Epoch end: Train, epoch number: 34\n",
      "TrainEpoch/CM\n",
      " tensor([[74467,     2,  1296,  2462,   356,    10,   614,     0,   866],\n",
      "        [    0, 84416,    18,     0,     5,    48,   308,     0,    28],\n",
      "        [   27,    54, 88296,    15,    40,   185,  9340,     2,   874],\n",
      "        [ 2283,     0,  1121, 74615,   541,    12,  2960,     0,   988],\n",
      "        [  236,     0,   629,   634, 79946,    16,   480,     0,   947],\n",
      "        [    0,    25,   253,     0,     0, 82454,   429,   449,   158],\n",
      "        [  622,     0, 13707,  5816,    80,    48, 61933,     0,   845],\n",
      "        [    0,     0,     0,     0,     0,     0,   404, 82303,     2],\n",
      "        [    0,     0,     0,     0,     0,     0,   311,     0, 83799]])\n"
     ]
    },
    {
     "data": {
      "application/vnd.jupyter.widget-view+json": {
       "model_id": "b45b596c4a9d4a62b06de773c7b06564",
       "version_major": 2,
       "version_minor": 0
      },
      "text/plain": [
       "Validation: |          | 0/? [00:00<?, ?it/s]"
      ]
     },
     "metadata": {},
     "output_type": "display_data"
    },
    {
     "name": "stdout",
     "output_type": "stream",
     "text": [
      "Epoch end: Validation, epoch number: 36\n",
      "ValidationEpoch/CM\n",
      " tensor([[76752,     2,  1296,  2462,   356,    10,   614,     0,   866],\n",
      "        [    0, 86836,    18,     0,     5,    48,   308,     0,    28],\n",
      "        [   27,    54, 90982,    15,    44,   185,  9470,     2,   874],\n",
      "        [ 2283,     0,  1121, 76933,   545,    12,  2993,     0,   988],\n",
      "        [  236,     0,   629,   643, 82302,    16,   480,     0,   947],\n",
      "        [    0,    25,   253,     0,     0, 84844,   429,   449,   158],\n",
      "        [  622,     0, 13829,  5883,    80,    48, 64114,     0,   845],\n",
      "        [    0,     0,     0,     0,     0,     0,   404, 84663,     2],\n",
      "        [    0,     0,     0,     0,     0,     0,   311,     0, 86199]])\n",
      "Epoch end: Train, epoch number: 35\n",
      "TrainEpoch/CM\n",
      " tensor([[76752,     2,  1296,  2462,   356,    10,   614,     0,   866],\n",
      "        [    0, 86836,    18,     0,     5,    48,   308,     0,    28],\n",
      "        [   27,    54, 90982,    15,    44,   185,  9470,     2,   874],\n",
      "        [ 2283,     0,  1121, 76933,   545,    12,  2993,     0,   988],\n",
      "        [  236,     0,   629,   643, 82302,    16,   480,     0,   947],\n",
      "        [    0,    25,   253,     0,     0, 84844,   429,   449,   158],\n",
      "        [  622,     0, 13829,  5883,    80,    48, 64114,     0,   845],\n",
      "        [    0,     0,     0,     0,     0,     0,   404, 84663,     2],\n",
      "        [    0,     0,     0,     0,     0,     0,   311,     0, 86199]])\n"
     ]
    },
    {
     "data": {
      "application/vnd.jupyter.widget-view+json": {
       "model_id": "b7e4605b49d8400c8910665a36733937",
       "version_major": 2,
       "version_minor": 0
      },
      "text/plain": [
       "Validation: |          | 0/? [00:00<?, ?it/s]"
      ]
     },
     "metadata": {},
     "output_type": "display_data"
    },
    {
     "name": "stdout",
     "output_type": "stream",
     "text": [
      "Epoch end: Validation, epoch number: 37\n",
      "ValidationEpoch/CM\n",
      " tensor([[79037,     2,  1296,  2462,   356,    10,   614,     0,   866],\n",
      "        [    0, 89256,    18,     0,     5,    48,   308,     0,    28],\n",
      "        [   27,    54, 93683,    15,    46,   185,  9587,     2,   874],\n",
      "        [ 2283,     0,  1121, 79253,   548,    12,  3025,     0,   988],\n",
      "        [  236,     0,   629,   651, 84659,    16,   480,     0,   947],\n",
      "        [    0,    25,   253,     0,     0, 87234,   429,   449,   158],\n",
      "        [  622,     0, 13957,  5959,    80,    48, 66280,     0,   845],\n",
      "        [    0,     0,     0,     0,     0,     0,   404, 87023,     2],\n",
      "        [    0,     0,     0,     0,     0,     0,   311,     0, 88599]])\n",
      "Epoch end: Train, epoch number: 36\n",
      "TrainEpoch/CM\n",
      " tensor([[79037,     2,  1296,  2462,   356,    10,   614,     0,   866],\n",
      "        [    0, 89256,    18,     0,     5,    48,   308,     0,    28],\n",
      "        [   27,    54, 93683,    15,    46,   185,  9587,     2,   874],\n",
      "        [ 2283,     0,  1121, 79253,   548,    12,  3025,     0,   988],\n",
      "        [  236,     0,   629,   651, 84659,    16,   480,     0,   947],\n",
      "        [    0,    25,   253,     0,     0, 87234,   429,   449,   158],\n",
      "        [  622,     0, 13957,  5959,    80,    48, 66280,     0,   845],\n",
      "        [    0,     0,     0,     0,     0,     0,   404, 87023,     2],\n",
      "        [    0,     0,     0,     0,     0,     0,   311,     0, 88599]])\n"
     ]
    },
    {
     "data": {
      "application/vnd.jupyter.widget-view+json": {
       "model_id": "5208c412636d4ffb99368cd246c5f3e7",
       "version_major": 2,
       "version_minor": 0
      },
      "text/plain": [
       "Validation: |          | 0/? [00:00<?, ?it/s]"
      ]
     },
     "metadata": {},
     "output_type": "display_data"
    },
    {
     "name": "stdout",
     "output_type": "stream",
     "text": [
      "Epoch end: Validation, epoch number: 38\n",
      "ValidationEpoch/CM\n",
      " tensor([[81322,     2,  1296,  2462,   356,    10,   614,     0,   866],\n",
      "        [    0, 91676,    18,     0,     5,    48,   308,     0,    28],\n",
      "        [   27,    54, 96382,    15,    47,   185,  9707,     2,   874],\n",
      "        [ 2283,     0,  1121, 81573,   551,    12,  3057,     0,   988],\n",
      "        [  236,     0,   629,   657, 87018,    16,   480,     0,   947],\n",
      "        [    0,    25,   253,     0,     0, 89624,   429,   449,   158],\n",
      "        [  622,     0, 14101,  6030,    80,    48, 68435,     0,   845],\n",
      "        [    0,     0,     0,     0,     0,     0,   404, 89383,     2],\n",
      "        [    0,     0,     0,     0,     0,     0,   311,     0, 90999]])\n",
      "Epoch end: Train, epoch number: 37\n",
      "TrainEpoch/CM\n",
      " tensor([[81322,     2,  1296,  2462,   356,    10,   614,     0,   866],\n",
      "        [    0, 91676,    18,     0,     5,    48,   308,     0,    28],\n",
      "        [   27,    54, 96382,    15,    47,   185,  9707,     2,   874],\n",
      "        [ 2283,     0,  1121, 81573,   551,    12,  3057,     0,   988],\n",
      "        [  236,     0,   629,   657, 87018,    16,   480,     0,   947],\n",
      "        [    0,    25,   253,     0,     0, 89624,   429,   449,   158],\n",
      "        [  622,     0, 14101,  6030,    80,    48, 68435,     0,   845],\n",
      "        [    0,     0,     0,     0,     0,     0,   404, 89383,     2],\n",
      "        [    0,     0,     0,     0,     0,     0,   311,     0, 90999]])\n"
     ]
    },
    {
     "data": {
      "application/vnd.jupyter.widget-view+json": {
       "model_id": "0ccea146e49e4ccea24d83036879a1d3",
       "version_major": 2,
       "version_minor": 0
      },
      "text/plain": [
       "Validation: |          | 0/? [00:00<?, ?it/s]"
      ]
     },
     "metadata": {},
     "output_type": "display_data"
    },
    {
     "name": "stdout",
     "output_type": "stream",
     "text": [
      "Epoch end: Validation, epoch number: 39\n",
      "ValidationEpoch/CM\n",
      " tensor([[83607,     2,  1296,  2462,   356,    10,   614,     0,   866],\n",
      "        [    0, 94096,    18,     0,     5,    48,   308,     0,    28],\n",
      "        [   27,    54, 99088,    15,    49,   185,  9819,     2,   874],\n",
      "        [ 2283,     0,  1121, 83893,   552,    12,  3091,     0,   988],\n",
      "        [  236,     0,   629,   665, 89375,    16,   480,     0,   947],\n",
      "        [    0,    25,   253,     0,     0, 92014,   429,   449,   158],\n",
      "        [  622,     0, 14204,  6092,    80,    48, 70640,     0,   845],\n",
      "        [    0,     0,     0,     0,     0,     0,   404, 91743,     2],\n",
      "        [    0,     0,     0,     0,     0,     0,   311,     0, 93399]])\n",
      "Epoch end: Train, epoch number: 38\n",
      "TrainEpoch/CM\n",
      " tensor([[83607,     2,  1296,  2462,   356,    10,   614,     0,   866],\n",
      "        [    0, 94096,    18,     0,     5,    48,   308,     0,    28],\n",
      "        [   27,    54, 99088,    15,    49,   185,  9819,     2,   874],\n",
      "        [ 2283,     0,  1121, 83893,   552,    12,  3091,     0,   988],\n",
      "        [  236,     0,   629,   665, 89375,    16,   480,     0,   947],\n",
      "        [    0,    25,   253,     0,     0, 92014,   429,   449,   158],\n",
      "        [  622,     0, 14204,  6092,    80,    48, 70640,     0,   845],\n",
      "        [    0,     0,     0,     0,     0,     0,   404, 91743,     2],\n",
      "        [    0,     0,     0,     0,     0,     0,   311,     0, 93399]])\n"
     ]
    },
    {
     "name": "stderr",
     "output_type": "stream",
     "text": [
      "Metric Validation/Accuracy improved by 0.002 >= min_delta = 0.0. New best score: 0.988\n"
     ]
    },
    {
     "data": {
      "application/vnd.jupyter.widget-view+json": {
       "model_id": "cf28fb8fcf614f84bc99881fc7cf24b2",
       "version_major": 2,
       "version_minor": 0
      },
      "text/plain": [
       "Validation: |          | 0/? [00:00<?, ?it/s]"
      ]
     },
     "metadata": {},
     "output_type": "display_data"
    },
    {
     "name": "stdout",
     "output_type": "stream",
     "text": [
      "Epoch end: Validation, epoch number: 40\n",
      "ValidationEpoch/CM\n",
      " tensor([[ 85892,      2,   1296,   2462,    356,     10,    614,      0,    866],\n",
      "        [     0,  96516,     18,      0,      5,     48,    308,      0,     28],\n",
      "        [    27,     54, 101809,     15,     49,    185,   9918,      2,    874],\n",
      "        [  2283,      0,   1121,  86221,    554,     12,   3116,      0,    988],\n",
      "        [   236,      0,    629,    672,  91733,     16,    480,      0,    947],\n",
      "        [     0,     25,    253,      0,      0,  94404,    429,    449,    158],\n",
      "        [   622,      0,  14308,   6156,     80,     48,  72842,      0,    845],\n",
      "        [     0,      0,      0,      0,      0,      0,    404,  94103,      2],\n",
      "        [     0,      0,      0,      0,      0,      0,    311,      0,  95799]])\n",
      "Epoch end: Train, epoch number: 39\n",
      "TrainEpoch/CM\n",
      " tensor([[ 85892,      2,   1296,   2462,    356,     10,    614,      0,    866],\n",
      "        [     0,  96516,     18,      0,      5,     48,    308,      0,     28],\n",
      "        [    27,     54, 101809,     15,     49,    185,   9918,      2,    874],\n",
      "        [  2283,      0,   1121,  86221,    554,     12,   3116,      0,    988],\n",
      "        [   236,      0,    629,    672,  91733,     16,    480,      0,    947],\n",
      "        [     0,     25,    253,      0,      0,  94404,    429,    449,    158],\n",
      "        [   622,      0,  14308,   6156,     80,     48,  72842,      0,    845],\n",
      "        [     0,      0,      0,      0,      0,      0,    404,  94103,      2],\n",
      "        [     0,      0,      0,      0,      0,      0,    311,      0,  95799]])\n"
     ]
    },
    {
     "data": {
      "application/vnd.jupyter.widget-view+json": {
       "model_id": "86f61f3ca9404f318ac737427f64af8f",
       "version_major": 2,
       "version_minor": 0
      },
      "text/plain": [
       "Validation: |          | 0/? [00:00<?, ?it/s]"
      ]
     },
     "metadata": {},
     "output_type": "display_data"
    },
    {
     "name": "stdout",
     "output_type": "stream",
     "text": [
      "Epoch end: Validation, epoch number: 41\n",
      "ValidationEpoch/CM\n",
      " tensor([[ 88177,      2,   1296,   2462,    356,     10,    614,      0,    866],\n",
      "        [     0,  98936,     18,      0,      5,     48,    308,      0,     28],\n",
      "        [    27,     54, 104520,     15,     49,    185,  10027,      2,    874],\n",
      "        [  2283,      0,   1121,  88546,    557,     12,   3143,      0,    988],\n",
      "        [   236,      0,    629,    678,  94092,     16,    480,      0,    947],\n",
      "        [     0,     25,    253,      0,      0,  96794,    429,    449,    158],\n",
      "        [   622,      0,  14423,   6227,     80,     48,  75026,      0,    845],\n",
      "        [     0,      0,      0,      0,      0,      0,    404,  96463,      2],\n",
      "        [     0,      0,      0,      0,      0,      0,    311,      0,  98199]])\n",
      "Epoch end: Train, epoch number: 40\n",
      "TrainEpoch/CM\n",
      " tensor([[ 88177,      2,   1296,   2462,    356,     10,    614,      0,    866],\n",
      "        [     0,  98936,     18,      0,      5,     48,    308,      0,     28],\n",
      "        [    27,     54, 104520,     15,     49,    185,  10027,      2,    874],\n",
      "        [  2283,      0,   1121,  88546,    557,     12,   3143,      0,    988],\n",
      "        [   236,      0,    629,    678,  94092,     16,    480,      0,    947],\n",
      "        [     0,     25,    253,      0,      0,  96794,    429,    449,    158],\n",
      "        [   622,      0,  14423,   6227,     80,     48,  75026,      0,    845],\n",
      "        [     0,      0,      0,      0,      0,      0,    404,  96463,      2],\n",
      "        [     0,      0,      0,      0,      0,      0,    311,      0,  98199]])\n"
     ]
    },
    {
     "data": {
      "application/vnd.jupyter.widget-view+json": {
       "model_id": "f2cfb0021af0419bbf1349963f6c6745",
       "version_major": 2,
       "version_minor": 0
      },
      "text/plain": [
       "Validation: |          | 0/? [00:00<?, ?it/s]"
      ]
     },
     "metadata": {},
     "output_type": "display_data"
    },
    {
     "name": "stdout",
     "output_type": "stream",
     "text": [
      "Epoch end: Validation, epoch number: 42\n",
      "ValidationEpoch/CM\n",
      " tensor([[ 90462,      2,   1296,   2462,    356,     10,    614,      0,    866],\n",
      "        [     0, 101356,     18,      0,      5,     48,    308,      0,     28],\n",
      "        [    27,     54, 107185,     15,     50,    185,  10181,      2,    874],\n",
      "        [  2283,      0,   1121,  90864,    561,     12,   3176,      0,    988],\n",
      "        [   236,      0,    629,    689,  96446,     16,    480,      0,    947],\n",
      "        [     0,     25,    253,      0,      0,  99184,    429,    449,    158],\n",
      "        [   622,      0,  14548,   6287,     80,     48,  77211,      0,    845],\n",
      "        [     0,      0,      0,      0,      0,      0,    404,  98823,      2],\n",
      "        [     0,      0,      0,      0,      0,      0,    311,      0, 100599]])\n",
      "Epoch end: Train, epoch number: 41\n"
     ]
    },
    {
     "name": "stderr",
     "output_type": "stream",
     "text": [
      "Metric Validation/Accuracy improved by 0.001 >= min_delta = 0.0. New best score: 0.989\n"
     ]
    },
    {
     "name": "stdout",
     "output_type": "stream",
     "text": [
      "TrainEpoch/CM\n",
      " tensor([[ 90462,      2,   1296,   2462,    356,     10,    614,      0,    866],\n",
      "        [     0, 101356,     18,      0,      5,     48,    308,      0,     28],\n",
      "        [    27,     54, 107185,     15,     50,    185,  10181,      2,    874],\n",
      "        [  2283,      0,   1121,  90864,    561,     12,   3176,      0,    988],\n",
      "        [   236,      0,    629,    689,  96446,     16,    480,      0,    947],\n",
      "        [     0,     25,    253,      0,      0,  99184,    429,    449,    158],\n",
      "        [   622,      0,  14548,   6287,     80,     48,  77211,      0,    845],\n",
      "        [     0,      0,      0,      0,      0,      0,    404,  98823,      2],\n",
      "        [     0,      0,      0,      0,      0,      0,    311,      0, 100599]])\n"
     ]
    },
    {
     "data": {
      "application/vnd.jupyter.widget-view+json": {
       "model_id": "84dad5fb9b2b4c93af8085be72cdfbed",
       "version_major": 2,
       "version_minor": 0
      },
      "text/plain": [
       "Validation: |          | 0/? [00:00<?, ?it/s]"
      ]
     },
     "metadata": {},
     "output_type": "display_data"
    },
    {
     "name": "stdout",
     "output_type": "stream",
     "text": [
      "Epoch end: Validation, epoch number: 43\n",
      "ValidationEpoch/CM\n",
      " tensor([[ 92747,      2,   1296,   2462,    356,     10,    614,      0,    866],\n",
      "        [     0, 103776,     18,      0,      5,     48,    308,      0,     28],\n",
      "        [    27,     54, 109909,     15,     50,    185,  10277,      2,    874],\n",
      "        [  2283,      0,   1121,  93195,    561,     12,   3200,      0,    988],\n",
      "        [   236,      0,    629,    693,  98807,     16,    480,      0,    947],\n",
      "        [     0,     25,    253,      0,      0, 101574,    429,    449,    158],\n",
      "        [   622,      0,  14631,   6345,     80,     48,  79440,      0,    845],\n",
      "        [     0,      0,      0,      0,      0,      0,    404, 101183,      2],\n",
      "        [     0,      0,      0,      0,      0,      0,    311,      0, 102999]])\n"
     ]
    },
    {
     "name": "stderr",
     "output_type": "stream",
     "text": [
      "Metric Validation/Accuracy improved by 0.001 >= min_delta = 0.0. New best score: 0.990\n"
     ]
    },
    {
     "name": "stdout",
     "output_type": "stream",
     "text": [
      "Epoch end: Train, epoch number: 42\n",
      "TrainEpoch/CM\n",
      " tensor([[ 92747,      2,   1296,   2462,    356,     10,    614,      0,    866],\n",
      "        [     0, 103776,     18,      0,      5,     48,    308,      0,     28],\n",
      "        [    27,     54, 109909,     15,     50,    185,  10277,      2,    874],\n",
      "        [  2283,      0,   1121,  93195,    561,     12,   3200,      0,    988],\n",
      "        [   236,      0,    629,    693,  98807,     16,    480,      0,    947],\n",
      "        [     0,     25,    253,      0,      0, 101574,    429,    449,    158],\n",
      "        [   622,      0,  14631,   6345,     80,     48,  79440,      0,    845],\n",
      "        [     0,      0,      0,      0,      0,      0,    404, 101183,      2],\n",
      "        [     0,      0,      0,      0,      0,      0,    311,      0, 102999]])\n"
     ]
    },
    {
     "data": {
      "application/vnd.jupyter.widget-view+json": {
       "model_id": "524c252ff3904ef39990eaf5477b7130",
       "version_major": 2,
       "version_minor": 0
      },
      "text/plain": [
       "Validation: |          | 0/? [00:00<?, ?it/s]"
      ]
     },
     "metadata": {},
     "output_type": "display_data"
    },
    {
     "name": "stdout",
     "output_type": "stream",
     "text": [
      "Epoch end: Validation, epoch number: 44\n",
      "ValidationEpoch/CM\n",
      " tensor([[ 95032,      2,   1296,   2462,    356,     10,    614,      0,    866],\n",
      "        [     0, 106196,     18,      0,      5,     48,    308,      0,     28],\n",
      "        [    27,     54, 112626,     15,     50,    185,  10380,      2,    874],\n",
      "        [  2283,      0,   1121,  95525,    561,     12,   3225,      0,    988],\n",
      "        [   236,      0,    629,    701, 101164,     16,    480,      0,    947],\n",
      "        [     0,     25,    253,      0,      0, 103964,    429,    449,    158],\n",
      "        [   622,      0,  14710,   6406,     80,     48,  81670,      0,    845],\n",
      "        [     0,      0,      0,      0,      0,      0,    404, 103543,      2],\n",
      "        [     0,      0,      0,      0,      0,      0,    311,      0, 105399]])\n",
      "Epoch end: Train, epoch number: 43\n",
      "TrainEpoch/CM\n",
      " tensor([[ 95032,      2,   1296,   2462,    356,     10,    614,      0,    866],\n",
      "        [     0, 106196,     18,      0,      5,     48,    308,      0,     28],\n",
      "        [    27,     54, 112626,     15,     50,    185,  10380,      2,    874],\n",
      "        [  2283,      0,   1121,  95525,    561,     12,   3225,      0,    988],\n",
      "        [   236,      0,    629,    701, 101164,     16,    480,      0,    947],\n",
      "        [     0,     25,    253,      0,      0, 103964,    429,    449,    158],\n",
      "        [   622,      0,  14710,   6406,     80,     48,  81670,      0,    845],\n",
      "        [     0,      0,      0,      0,      0,      0,    404, 103543,      2],\n",
      "        [     0,      0,      0,      0,      0,      0,    311,      0, 105399]])\n"
     ]
    },
    {
     "data": {
      "application/vnd.jupyter.widget-view+json": {
       "model_id": "530b1c4692254c0b9b25190e0a1700dd",
       "version_major": 2,
       "version_minor": 0
      },
      "text/plain": [
       "Validation: |          | 0/? [00:00<?, ?it/s]"
      ]
     },
     "metadata": {},
     "output_type": "display_data"
    },
    {
     "name": "stdout",
     "output_type": "stream",
     "text": [
      "Epoch end: Validation, epoch number: 45\n",
      "ValidationEpoch/CM\n",
      " tensor([[ 97317,      2,   1296,   2462,    356,     10,    614,      0,    866],\n",
      "        [     0, 108616,     18,      0,      5,     48,    308,      0,     28],\n",
      "        [    27,     54, 115344,     15,     50,    185,  10482,      2,    874],\n",
      "        [  2283,      0,   1121,  97853,    562,     12,   3251,      0,    988],\n",
      "        [   236,      0,    629,    706, 103524,     16,    480,      0,    947],\n",
      "        [     0,     25,    253,      0,      0, 106354,    429,    449,    158],\n",
      "        [   622,      0,  14810,   6467,     80,     48,  83879,      0,    845],\n",
      "        [     0,      0,      0,      0,      0,      0,    404, 105903,      2],\n",
      "        [     0,      0,      0,      0,      0,      0,    311,      0, 107799]])\n",
      "Epoch end: Train, epoch number: 44\n",
      "TrainEpoch/CM\n",
      " tensor([[ 97317,      2,   1296,   2462,    356,     10,    614,      0,    866],\n",
      "        [     0, 108616,     18,      0,      5,     48,    308,      0,     28],\n",
      "        [    27,     54, 115344,     15,     50,    185,  10482,      2,    874],\n",
      "        [  2283,      0,   1121,  97853,    562,     12,   3251,      0,    988],\n",
      "        [   236,      0,    629,    706, 103524,     16,    480,      0,    947],\n",
      "        [     0,     25,    253,      0,      0, 106354,    429,    449,    158],\n",
      "        [   622,      0,  14810,   6467,     80,     48,  83879,      0,    845],\n",
      "        [     0,      0,      0,      0,      0,      0,    404, 105903,      2],\n",
      "        [     0,      0,      0,      0,      0,      0,    311,      0, 107799]])\n"
     ]
    },
    {
     "data": {
      "application/vnd.jupyter.widget-view+json": {
       "model_id": "013b3dc42b0748d2977e0385b4c850a3",
       "version_major": 2,
       "version_minor": 0
      },
      "text/plain": [
       "Validation: |          | 0/? [00:00<?, ?it/s]"
      ]
     },
     "metadata": {},
     "output_type": "display_data"
    },
    {
     "name": "stdout",
     "output_type": "stream",
     "text": [
      "Epoch end: Validation, epoch number: 46\n",
      "ValidationEpoch/CM\n",
      " tensor([[ 99602,      2,   1296,   2462,    356,     10,    614,      0,    866],\n",
      "        [     0, 111036,     18,      0,      5,     48,    308,      0,     28],\n",
      "        [    27,     54, 118066,     17,     50,    185,  10578,      2,    874],\n",
      "        [  2283,      0,   1121, 100185,    562,     12,   3274,      0,    988],\n",
      "        [   236,      0,    629,    709, 105886,     16,    480,      0,    947],\n",
      "        [     0,     25,    253,      0,      0, 108744,    429,    449,    158],\n",
      "        [   622,      0,  14909,   6521,     80,     48,  86096,      0,    845],\n",
      "        [     0,      0,      0,      0,      0,      0,    404, 108263,      2],\n",
      "        [     0,      0,      0,      0,      0,      0,    311,      0, 110199]])\n",
      "Epoch end: Train, epoch number: 45\n",
      "TrainEpoch/CM\n",
      " tensor([[ 99602,      2,   1296,   2462,    356,     10,    614,      0,    866],\n",
      "        [     0, 111036,     18,      0,      5,     48,    308,      0,     28],\n",
      "        [    27,     54, 118066,     17,     50,    185,  10578,      2,    874],\n",
      "        [  2283,      0,   1121, 100185,    562,     12,   3274,      0,    988],\n",
      "        [   236,      0,    629,    709, 105886,     16,    480,      0,    947],\n",
      "        [     0,     25,    253,      0,      0, 108744,    429,    449,    158],\n",
      "        [   622,      0,  14909,   6521,     80,     48,  86096,      0,    845],\n",
      "        [     0,      0,      0,      0,      0,      0,    404, 108263,      2],\n",
      "        [     0,      0,      0,      0,      0,      0,    311,      0, 110199]])\n"
     ]
    },
    {
     "data": {
      "application/vnd.jupyter.widget-view+json": {
       "model_id": "69beb10df6f84eeabf21588c79fb3e23",
       "version_major": 2,
       "version_minor": 0
      },
      "text/plain": [
       "Validation: |          | 0/? [00:00<?, ?it/s]"
      ]
     },
     "metadata": {},
     "output_type": "display_data"
    },
    {
     "name": "stdout",
     "output_type": "stream",
     "text": [
      "Epoch end: Validation, epoch number: 47\n",
      "ValidationEpoch/CM\n",
      " tensor([[101887,      2,   1296,   2462,    356,     10,    614,      0,    866],\n",
      "        [     0, 113456,     18,      0,      5,     48,    308,      0,     28],\n",
      "        [    27,     54, 120777,     17,     50,    185,  10687,      2,    874],\n",
      "        [  2283,      0,   1121, 102515,    562,     12,   3299,      0,    988],\n",
      "        [   236,      0,    629,    713, 108247,     16,    480,      0,    947],\n",
      "        [     0,     25,    253,      0,      0, 111134,    429,    449,    158],\n",
      "        [   622,      0,  14985,   6568,     80,     48,  88343,      0,    845],\n",
      "        [     0,      0,      0,      0,      0,      0,    404, 110623,      2],\n",
      "        [     0,      0,      0,      0,      0,      0,    311,      0, 112599]])\n"
     ]
    },
    {
     "name": "stderr",
     "output_type": "stream",
     "text": [
      "Metric Validation/Accuracy improved by 0.002 >= min_delta = 0.0. New best score: 0.992\n"
     ]
    },
    {
     "name": "stdout",
     "output_type": "stream",
     "text": [
      "Epoch end: Train, epoch number: 46\n",
      "TrainEpoch/CM\n",
      " tensor([[101887,      2,   1296,   2462,    356,     10,    614,      0,    866],\n",
      "        [     0, 113456,     18,      0,      5,     48,    308,      0,     28],\n",
      "        [    27,     54, 120777,     17,     50,    185,  10687,      2,    874],\n",
      "        [  2283,      0,   1121, 102515,    562,     12,   3299,      0,    988],\n",
      "        [   236,      0,    629,    713, 108247,     16,    480,      0,    947],\n",
      "        [     0,     25,    253,      0,      0, 111134,    429,    449,    158],\n",
      "        [   622,      0,  14985,   6568,     80,     48,  88343,      0,    845],\n",
      "        [     0,      0,      0,      0,      0,      0,    404, 110623,      2],\n",
      "        [     0,      0,      0,      0,      0,      0,    311,      0, 112599]])\n"
     ]
    },
    {
     "data": {
      "application/vnd.jupyter.widget-view+json": {
       "model_id": "0d1cc8ce90614f29aaddf324b67c4bc1",
       "version_major": 2,
       "version_minor": 0
      },
      "text/plain": [
       "Validation: |          | 0/? [00:00<?, ?it/s]"
      ]
     },
     "metadata": {},
     "output_type": "display_data"
    },
    {
     "name": "stdout",
     "output_type": "stream",
     "text": [
      "Epoch end: Validation, epoch number: 48\n",
      "ValidationEpoch/CM\n",
      " tensor([[104172,      2,   1296,   2462,    356,     10,    614,      0,    866],\n",
      "        [     0, 115876,     18,      0,      5,     48,    308,      0,     28],\n",
      "        [    27,     54, 123498,     17,     50,    185,  10786,      2,    874],\n",
      "        [  2283,      0,   1121, 104841,    562,     12,   3328,      0,    988],\n",
      "        [   236,      0,    629,    715, 110610,     16,    480,      0,    947],\n",
      "        [     0,     25,    253,      0,      0, 113524,    429,    449,    158],\n",
      "        [   622,      0,  15078,   6622,     80,     48,  90566,      0,    845],\n",
      "        [     0,      0,      0,      0,      0,      0,    404, 112983,      2],\n",
      "        [     0,      0,      0,      0,      0,      0,    311,      0, 114999]])\n",
      "Epoch end: Train, epoch number: 47\n",
      "TrainEpoch/CM\n",
      " tensor([[104172,      2,   1296,   2462,    356,     10,    614,      0,    866],\n",
      "        [     0, 115876,     18,      0,      5,     48,    308,      0,     28],\n",
      "        [    27,     54, 123498,     17,     50,    185,  10786,      2,    874],\n",
      "        [  2283,      0,   1121, 104841,    562,     12,   3328,      0,    988],\n",
      "        [   236,      0,    629,    715, 110610,     16,    480,      0,    947],\n",
      "        [     0,     25,    253,      0,      0, 113524,    429,    449,    158],\n",
      "        [   622,      0,  15078,   6622,     80,     48,  90566,      0,    845],\n",
      "        [     0,      0,      0,      0,      0,      0,    404, 112983,      2],\n",
      "        [     0,      0,      0,      0,      0,      0,    311,      0, 114999]])\n"
     ]
    },
    {
     "data": {
      "application/vnd.jupyter.widget-view+json": {
       "model_id": "7801fdb6d779474e8e0cec7ba3715d9c",
       "version_major": 2,
       "version_minor": 0
      },
      "text/plain": [
       "Validation: |          | 0/? [00:00<?, ?it/s]"
      ]
     },
     "metadata": {},
     "output_type": "display_data"
    },
    {
     "name": "stdout",
     "output_type": "stream",
     "text": [
      "Epoch end: Validation, epoch number: 49\n",
      "ValidationEpoch/CM\n",
      " tensor([[106457,      2,   1296,   2462,    356,     10,    614,      0,    866],\n",
      "        [     0, 118296,     18,      0,      5,     48,    308,      0,     28],\n",
      "        [    27,     54, 126208,     18,     50,    185,  10895,      2,    874],\n",
      "        [  2283,      0,   1122, 107168,    562,     12,   3355,      0,    988],\n",
      "        [   236,      0,    629,    719, 112971,     16,    480,      0,    947],\n",
      "        [     0,     25,    253,      0,      0, 115914,    429,    449,    158],\n",
      "        [   622,      0,  15153,   6677,     80,     48,  92806,      0,    845],\n",
      "        [     0,      0,      0,      0,      0,      0,    404, 115343,      2],\n",
      "        [     0,      0,      0,      0,      0,      0,    311,      0, 117399]])\n",
      "Epoch end: Train, epoch number: 48\n",
      "TrainEpoch/CM\n",
      " tensor([[106457,      2,   1296,   2462,    356,     10,    614,      0,    866],\n",
      "        [     0, 118296,     18,      0,      5,     48,    308,      0,     28],\n",
      "        [    27,     54, 126208,     18,     50,    185,  10895,      2,    874],\n",
      "        [  2283,      0,   1122, 107168,    562,     12,   3355,      0,    988],\n",
      "        [   236,      0,    629,    719, 112971,     16,    480,      0,    947],\n",
      "        [     0,     25,    253,      0,      0, 115914,    429,    449,    158],\n",
      "        [   622,      0,  15153,   6677,     80,     48,  92806,      0,    845],\n",
      "        [     0,      0,      0,      0,      0,      0,    404, 115343,      2],\n",
      "        [     0,      0,      0,      0,      0,      0,    311,      0, 117399]])\n"
     ]
    },
    {
     "data": {
      "application/vnd.jupyter.widget-view+json": {
       "model_id": "39730591ec7b4487baa5ef9bc6c21c60",
       "version_major": 2,
       "version_minor": 0
      },
      "text/plain": [
       "Validation: |          | 0/? [00:00<?, ?it/s]"
      ]
     },
     "metadata": {},
     "output_type": "display_data"
    },
    {
     "name": "stdout",
     "output_type": "stream",
     "text": [
      "Epoch end: Validation, epoch number: 50\n",
      "ValidationEpoch/CM\n",
      " tensor([[108742,      2,   1296,   2462,    356,     10,    614,      0,    866],\n",
      "        [     0, 120716,     18,      0,      5,     48,    308,      0,     28],\n",
      "        [    27,     54, 128938,     18,     50,    185,  10985,      2,    874],\n",
      "        [  2283,      0,   1122, 109503,    562,     12,   3375,      0,    988],\n",
      "        [   236,      0,    629,    720, 115335,     16,    480,      0,    947],\n",
      "        [     0,     25,    253,      0,      0, 118304,    429,    449,    158],\n",
      "        [   622,      0,  15216,   6721,     80,     48,  95069,      0,    845],\n",
      "        [     0,      0,      0,      0,      0,      0,    404, 117703,      2],\n",
      "        [     0,      0,      0,      0,      0,      0,    311,      0, 119799]])\n",
      "Epoch end: Train, epoch number: 49\n",
      "TrainEpoch/CM\n",
      " tensor([[108742,      2,   1296,   2462,    356,     10,    614,      0,    866],\n",
      "        [     0, 120716,     18,      0,      5,     48,    308,      0,     28],\n",
      "        [    27,     54, 128938,     18,     50,    185,  10985,      2,    874],\n",
      "        [  2283,      0,   1122, 109503,    562,     12,   3375,      0,    988],\n",
      "        [   236,      0,    629,    720, 115335,     16,    480,      0,    947],\n",
      "        [     0,     25,    253,      0,      0, 118304,    429,    449,    158],\n",
      "        [   622,      0,  15216,   6721,     80,     48,  95069,      0,    845],\n",
      "        [     0,      0,      0,      0,      0,      0,    404, 117703,      2],\n",
      "        [     0,      0,      0,      0,      0,      0,    311,      0, 119799]])\n"
     ]
    },
    {
     "data": {
      "application/vnd.jupyter.widget-view+json": {
       "model_id": "3346fad492404524a9a2a0b02d5a8b12",
       "version_major": 2,
       "version_minor": 0
      },
      "text/plain": [
       "Validation: |          | 0/? [00:00<?, ?it/s]"
      ]
     },
     "metadata": {},
     "output_type": "display_data"
    },
    {
     "name": "stdout",
     "output_type": "stream",
     "text": [
      "Epoch end: Validation, epoch number: 51\n",
      "ValidationEpoch/CM\n",
      " tensor([[111027,      2,   1296,   2462,    356,     10,    614,      0,    866],\n",
      "        [     0, 123136,     18,      0,      5,     48,    308,      0,     28],\n",
      "        [    27,     54, 131660,     18,     50,    185,  11083,      2,    874],\n",
      "        [  2283,      0,   1122, 111830,    562,     12,   3403,      0,    988],\n",
      "        [   236,      0,    629,    721, 117699,     16,    480,      0,    947],\n",
      "        [     0,     25,    253,      0,      0, 120694,    429,    449,    158],\n",
      "        [   622,      0,  15306,   6768,     80,     48,  97302,      0,    845],\n",
      "        [     0,      0,      0,      0,      0,      0,    404, 120063,      2],\n",
      "        [     0,      0,      0,      0,      0,      0,    311,      0, 122199]])\n",
      "Epoch end: Train, epoch number: 50\n",
      "TrainEpoch/CM\n",
      " tensor([[111027,      2,   1296,   2462,    356,     10,    614,      0,    866],\n",
      "        [     0, 123136,     18,      0,      5,     48,    308,      0,     28],\n",
      "        [    27,     54, 131660,     18,     50,    185,  11083,      2,    874],\n",
      "        [  2283,      0,   1122, 111830,    562,     12,   3403,      0,    988],\n",
      "        [   236,      0,    629,    721, 117699,     16,    480,      0,    947],\n",
      "        [     0,     25,    253,      0,      0, 120694,    429,    449,    158],\n",
      "        [   622,      0,  15306,   6768,     80,     48,  97302,      0,    845],\n",
      "        [     0,      0,      0,      0,      0,      0,    404, 120063,      2],\n",
      "        [     0,      0,      0,      0,      0,      0,    311,      0, 122199]])\n"
     ]
    },
    {
     "data": {
      "application/vnd.jupyter.widget-view+json": {
       "model_id": "718d22de67e84b0ab5cb2038158adcfe",
       "version_major": 2,
       "version_minor": 0
      },
      "text/plain": [
       "Validation: |          | 0/? [00:00<?, ?it/s]"
      ]
     },
     "metadata": {},
     "output_type": "display_data"
    },
    {
     "name": "stdout",
     "output_type": "stream",
     "text": [
      "Epoch end: Validation, epoch number: 52\n",
      "ValidationEpoch/CM\n",
      " tensor([[113312,      2,   1296,   2462,    356,     10,    614,      0,    866],\n",
      "        [     0, 125556,     18,      0,      5,     48,    308,      0,     28],\n",
      "        [    27,     54, 134378,     18,     50,    185,  11185,      2,    874],\n",
      "        [  2283,      0,   1122, 114162,    562,     12,   3426,      0,    988],\n",
      "        [   236,      0,    629,    723, 120062,     16,    480,      0,    947],\n",
      "        [     0,     25,    253,      0,      0, 123084,    429,    449,    158],\n",
      "        [   622,      0,  15408,   6814,     80,     48,  99524,      0,    845],\n",
      "        [     0,      0,      0,      0,      0,      0,    404, 122423,      2],\n",
      "        [     0,      0,      0,      0,      0,      0,    311,      0, 124599]])\n"
     ]
    },
    {
     "name": "stderr",
     "output_type": "stream",
     "text": [
      "Monitored metric Validation/Accuracy did not improve in the last 5 records. Best score: 0.992. Signaling Trainer to stop.\n"
     ]
    },
    {
     "name": "stdout",
     "output_type": "stream",
     "text": [
      "Epoch end: Train, epoch number: 51\n",
      "TrainEpoch/CM\n",
      " tensor([[113312,      2,   1296,   2462,    356,     10,    614,      0,    866],\n",
      "        [     0, 125556,     18,      0,      5,     48,    308,      0,     28],\n",
      "        [    27,     54, 134378,     18,     50,    185,  11185,      2,    874],\n",
      "        [  2283,      0,   1122, 114162,    562,     12,   3426,      0,    988],\n",
      "        [   236,      0,    629,    723, 120062,     16,    480,      0,    947],\n",
      "        [     0,     25,    253,      0,      0, 123084,    429,    449,    158],\n",
      "        [   622,      0,  15408,   6814,     80,     48,  99524,      0,    845],\n",
      "        [     0,      0,      0,      0,      0,      0,    404, 122423,      2],\n",
      "        [     0,      0,      0,      0,      0,      0,    311,      0, 124599]])\n"
     ]
    }
   ],
   "source": [
    "\n",
    "trainer.fit(model=model, train_dataloaders=train_dataloader, val_dataloaders=val_dataloader)\n"
   ]
  },
  {
   "cell_type": "code",
   "execution_count": 39,
   "metadata": {},
   "outputs": [
    {
     "name": "stderr",
     "output_type": "stream",
     "text": [
      "LOCAL_RANK: 0 - CUDA_VISIBLE_DEVICES: [0]\n"
     ]
    },
    {
     "name": "stdout",
     "output_type": "stream",
     "text": [
      "/home/<User>/repos/csg_is/training/old_logs/multi-layer_30_from_weights_30s/version_0/checkpoints/epoch=46-step=1645.ckpt\n",
      "tensor(0.9920, device='cuda:0')\n"
     ]
    },
    {
     "data": {
      "application/vnd.jupyter.widget-view+json": {
       "model_id": "8928fac9bcda4d14aae337e5042d89b2",
       "version_major": 2,
       "version_minor": 0
      },
      "text/plain": [
       "Testing: |          | 0/? [00:00<?, ?it/s]"
      ]
     },
     "metadata": {},
     "output_type": "display_data"
    },
    {
     "name": "stdout",
     "output_type": "stream",
     "text": [
      "Epoch end: Test, epoch number: 0\n",
      "TestEpoch/CM\n",
      " tensor([[472,   0,   0,   0,   0,   0,   0,   0,   0],\n",
      "        [  0, 479,   0,   0,   0,   0,   0,   0,   0],\n",
      "        [  0,   0, 536,   0,   0,   0,  25,   0,   0],\n",
      "        [  0,   0,   0, 471,   0,   0,   5,   0,   0],\n",
      "        [  0,   0,   0,   1, 458,   0,   0,   0,   0],\n",
      "        [  0,   0,   0,   0,   0, 501,   0,   0,   0],\n",
      "        [  0,   0,   6,   1,   0,   0, 459,   0,   0],\n",
      "        [  0,   0,   0,   0,   0,   0,   0, 474,   0],\n",
      "        [  0,   0,   0,   0,   0,   0,   0,   0, 465]])\n",
      "────────────────────────────────────────────────────────────────────────────────────────────────────────────────────────\n",
      "       Test metric             DataLoader 0\n",
      "────────────────────────────────────────────────────────────────────────────────────────────────────────────────────────\n",
      "      Test/Accuracy         0.9920117259025574\n",
      "      Test/F1Score          0.9915660619735718\n",
      "        Test/Loss           0.03264231234788895\n",
      "     Test/Precision         0.9914994239807129\n",
      "       Test/Recall          0.9920117259025574\n",
      "   TestEpoch/Accuracy       0.9919702410697937\n",
      "    TestEpoch/F1Score       0.9916316866874695\n",
      "   TestEpoch/Precision      0.9914835095405579\n",
      "    TestEpoch/Recall        0.9919702410697937\n",
      "────────────────────────────────────────────────────────────────────────────────────────────────────────────────────────\n"
     ]
    },
    {
     "data": {
      "text/plain": [
       "[{'Test/Loss': 0.03264231234788895,\n",
       "  'Test/Accuracy': 0.9920117259025574,\n",
       "  'Test/Precision': 0.9914994239807129,\n",
       "  'Test/Recall': 0.9920117259025574,\n",
       "  'Test/F1Score': 0.9915660619735718,\n",
       "  'TestEpoch/Accuracy': 0.9919702410697937,\n",
       "  'TestEpoch/Precision': 0.9914835095405579,\n",
       "  'TestEpoch/Recall': 0.9919702410697937,\n",
       "  'TestEpoch/F1Score': 0.9916316866874695}]"
      ]
     },
     "execution_count": 39,
     "metadata": {},
     "output_type": "execute_result"
    }
   ],
   "source": [
    "\n",
    "print(checkpoint_callback.best_model_path)   # prints path to the best model's checkpoint\n",
    "print(checkpoint_callback.best_model_score) # and prints it score\n",
    "best_model = MalwaresModelMLP.load_from_checkpoint(checkpoint_callback.best_model_path, input_size = subset.shape[1]-1, output_size = len(label_encoder.classes_))\n",
    "\n",
    "trainer.test(best_model, dataloaders=val_dataloader)"
   ]
  },
  {
   "cell_type": "code",
   "execution_count": 40,
   "metadata": {},
   "outputs": [],
   "source": [
    "subset.columns.to_frame().to_csv(f\"weight_selected_{TIME_WINDOW}.csv\", index=False)"
   ]
  }
 ],
 "metadata": {
  "kernelspec": {
   "display_name": ".venv",
   "language": "python",
   "name": "python3"
  },
  "language_info": {
   "codemirror_mode": {
    "name": "ipython",
    "version": 3
   },
   "file_extension": ".py",
   "mimetype": "text/x-python",
   "name": "python",
   "nbconvert_exporter": "python",
   "pygments_lexer": "ipython3",
   "version": "3.10.12"
  }
 },
 "nbformat": 4,
 "nbformat_minor": 2
}
