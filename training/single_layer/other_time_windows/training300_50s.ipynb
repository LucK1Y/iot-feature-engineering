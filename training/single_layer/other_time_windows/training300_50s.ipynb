{
 "cells": [
  {
   "cell_type": "markdown",
   "metadata": {},
   "source": [
    "# Idea\n",
    "Do some training"
   ]
  },
  {
   "cell_type": "code",
   "execution_count": 1,
   "metadata": {},
   "outputs": [],
   "source": [
    "SEED = 133\n",
    "TIME_WINDOW = \"50s\"\n",
    "DATA_FILE = '../../data/all_df_50s_Heqing_device2.csv'"
   ]
  },
  {
   "cell_type": "code",
   "execution_count": 2,
   "metadata": {},
   "outputs": [],
   "source": [
    "from pathlib import Path\n",
    "\n",
    "import numpy as np\n",
    "import pandas as pd\n",
    "import pickle\n",
    "\n",
    "assert Path(DATA_FILE).exists()"
   ]
  },
  {
   "cell_type": "code",
   "execution_count": 3,
   "metadata": {},
   "outputs": [],
   "source": [
    "import sys\n",
    "repo_base_path = Path(\"./../../../\").resolve()\n",
    "assert str(repo_base_path).endswith(\"csg_is\"), f\"{repo_base_path} is not a valid path to the CSG_IS repository\" \n",
    "\n",
    "sys.path.append(str(repo_base_path))\n",
    "sys.path.append(\"..\")\n",
    "\n",
    "# from py_dataset import get_all_files_df\n",
    "# from py_dataset import read_in_files\n",
    "from py_dataset import feature_plotting\n",
    "# from py_dataset import feature_selection\n",
    "# from py_dataset import net_feature_engineering\n",
    "# from py_dataset import entropy_feature_engineering\n",
    "# from py_dataset.classes import DataSource\n",
    "from py_dataset import sys_func\n",
    "\n",
    "from py_dataset.classes import DataSource\n",
    "\n"
   ]
  },
  {
   "cell_type": "code",
   "execution_count": 4,
   "metadata": {},
   "outputs": [],
   "source": [
    "LOG_PATH = (repo_base_path / \"training\" / \"official_logs\")\n",
    "LOG_NAME = f\"single-layer_300_{TIME_WINDOW}\"\n",
    "LOG_NAME_EXPERIMENT_2 = f\"single-layer_30_from_weights_{TIME_WINDOW}\"\n",
    "LOG_NAME_EXPERIMENT_3 = f\"multi-layer_30_from_weights_{TIME_WINDOW}\"\n",
    "\n",
    "assert LOG_PATH.exists()\n",
    "assert not (LOG_PATH / LOG_NAME).exists(), \"are you sure to run this again?\"\n",
    "assert not (LOG_PATH / LOG_NAME_EXPERIMENT_2).exists(), \"are you sure to run this again?\"\n",
    "assert not (LOG_PATH / LOG_NAME_EXPERIMENT_3).exists(), \"are you sure to run this again?\""
   ]
  },
  {
   "cell_type": "code",
   "execution_count": 5,
   "metadata": {},
   "outputs": [],
   "source": [
    "df = pd.read_csv(DATA_FILE)\n",
    "df.set_index(\"timestamp\", inplace=True)"
   ]
  },
  {
   "cell_type": "code",
   "execution_count": 6,
   "metadata": {},
   "outputs": [],
   "source": [
    "assert df[\"label\"].unique().shape == (10,)"
   ]
  },
  {
   "cell_type": "markdown",
   "metadata": {},
   "source": [
    "### Preprocessings\n",
    "- remove Null values\n",
    "- drop timestamp\n",
    "- labelEncode\n",
    "- normalize"
   ]
  },
  {
   "cell_type": "code",
   "execution_count": 7,
   "metadata": {},
   "outputs": [
    {
     "name": "stdout",
     "output_type": "stream",
     "text": [
      "(17340, 306)\n",
      "(13228, 306)\n"
     ]
    }
   ],
   "source": [
    "print(df.shape)\n",
    "old_df = df.copy()\n",
    "df.dropna(axis=0, how='any', inplace=True)\n",
    "\n",
    "print(df.shape)"
   ]
  },
  {
   "cell_type": "code",
   "execution_count": 8,
   "metadata": {},
   "outputs": [],
   "source": [
    "df.reset_index(inplace=True, drop=True)"
   ]
  },
  {
   "cell_type": "code",
   "execution_count": 9,
   "metadata": {},
   "outputs": [],
   "source": [
    "label_encoder = sys_func.create_label_encoder_for_labels()\n",
    "df['label'] = label_encoder.transform(df['label'])"
   ]
  },
  {
   "cell_type": "code",
   "execution_count": 10,
   "metadata": {},
   "outputs": [],
   "source": [
    "df = feature_plotting.test_transform_all_to_numeric_columns(df)"
   ]
  },
  {
   "cell_type": "code",
   "execution_count": 11,
   "metadata": {},
   "outputs": [],
   "source": [
    "cols_to_exclude_from_scaling = [\"label\"]\n",
    "vectors = feature_plotting.minmax_scale_features(df,remove_outliers_iqr_all_columns=False,\n",
    "                                                        cols_to_exclude_from_scaling=cols_to_exclude_from_scaling)\n",
    "# print(vectors.shape)\n",
    "# print(\" with dropped null: \", vectors.dropna(axis=0, how='any', inplace=False).shape)"
   ]
  },
  {
   "cell_type": "code",
   "execution_count": 12,
   "metadata": {},
   "outputs": [
    {
     "data": {
      "text/plain": [
       "(array([0, 1, 2, 3, 4, 5, 6, 7, 8]), array([0, 1, 2, 3, 4, 5, 6, 7, 8]))"
      ]
     },
     "execution_count": 12,
     "metadata": {},
     "output_type": "execute_result"
    }
   ],
   "source": [
    "df[\"label\"].unique(), vectors[\"label\"].unique()"
   ]
  },
  {
   "cell_type": "markdown",
   "metadata": {},
   "source": [
    "### Setup"
   ]
  },
  {
   "cell_type": "code",
   "execution_count": 13,
   "metadata": {},
   "outputs": [],
   "source": [
    "from torch.utils.data import Dataset, DataLoader\n",
    "import torch\n",
    "\n",
    "class CustomeDataset(Dataset):\n",
    "    def __init__(self, some_df:pd.DataFrame):\n",
    "        \n",
    "        self.x = torch.tensor(some_df.drop(columns=[\"label\"], inplace=False).values, dtype=torch.float32)\n",
    "        self.labels = torch.tensor(some_df[\"label\"].values, dtype=torch.uint8)\n",
    "\n",
    "    def __len__(self):\n",
    "        return len(self.x)\n",
    "\n",
    "    def __getitem__(self, idx):\n",
    "        # if torch.is_tensor(idx):\n",
    "        #     idx = idx.tolist()\n",
    "        # print(self.x[idx], self.labels[idx])\n",
    "        return self.x[idx], self.labels[idx]"
   ]
  },
  {
   "cell_type": "code",
   "execution_count": 14,
   "metadata": {},
   "outputs": [
    {
     "name": "stderr",
     "output_type": "stream",
     "text": [
      "GPU available: True (cuda), used: True\n",
      "TPU available: False, using: 0 TPU cores\n",
      "IPU available: False, using: 0 IPUs\n",
      "HPU available: False, using: 0 HPUs\n"
     ]
    }
   ],
   "source": [
    "from mlp_single_layer import MalwaresModelLinearLayer\n",
    "from torch.utils.data import DataLoader\n",
    "import lightning\n",
    "from sklearn.model_selection import train_test_split\n",
    "from lightning import loggers as pl_loggers\n",
    "from lightning.pytorch.callbacks.early_stopping import EarlyStopping\n",
    "from lightning.pytorch.callbacks.model_checkpoint import ModelCheckpoint\n",
    "\n",
    "tensorboard = pl_loggers.TensorBoardLogger(save_dir=LOG_PATH, name=LOG_NAME)\n",
    "\n",
    "# split into train and val\n",
    "train, val = train_test_split(vectors, test_size=0.2, random_state=SEED)\n",
    "\n",
    "train_dataset = CustomeDataset(train)\n",
    "train_dataloader = DataLoader(train_dataset, batch_size=500, shuffle=True, num_workers=7)\n",
    "\n",
    "val_dataset = CustomeDataset(val)\n",
    "val_dataloader = DataLoader(val_dataset, batch_size=500, shuffle=False, num_workers=7)\n",
    "\n",
    "# trainer = lightning.Trainer(fast_dev_run=100)\n",
    "monitor = \"Validation/Accuracy\"\n",
    "early_stop_callback = EarlyStopping(monitor=monitor, patience=5, verbose=True, mode=\"max\")\n",
    "checkpoint_callback = ModelCheckpoint(save_top_k=1, monitor=monitor, mode=\"max\")\n",
    "\n",
    "trainer = lightning.Trainer(max_epochs=150, callbacks=[early_stop_callback, checkpoint_callback], enable_checkpointing=True, logger=tensorboard) #logger=None, \n",
    "\n",
    "\n",
    "model = MalwaresModelLinearLayer(input_size = vectors.shape[1]-1, output_size = len(label_encoder.classes_), seed=SEED)\n",
    "\n",
    "torch.manual_seed(SEED)\n",
    "torch.cuda.manual_seed_all(SEED)\n"
   ]
  },
  {
   "cell_type": "code",
   "execution_count": 15,
   "metadata": {},
   "outputs": [
    {
     "name": "stderr",
     "output_type": "stream",
     "text": [
      "LOCAL_RANK: 0 - CUDA_VISIBLE_DEVICES: [0]\n",
      "\n",
      "  | Name          | Type                      | Params\n",
      "------------------------------------------------------------\n",
      "0 | train_metrics | MetricCollection          | 0     \n",
      "1 | val_metrics   | MetricCollection          | 0     \n",
      "2 | test_metrics  | MetricCollection          | 0     \n",
      "3 | cm            | MulticlassConfusionMatrix | 0     \n",
      "4 | criterion     | CrossEntropyLoss          | 0     \n",
      "5 | l1            | Linear                    | 2.8 K \n",
      "------------------------------------------------------------\n",
      "2.8 K     Trainable params\n",
      "0         Non-trainable params\n",
      "2.8 K     Total params\n",
      "0.011     Total estimated model params size (MB)\n"
     ]
    },
    {
     "data": {
      "application/vnd.jupyter.widget-view+json": {
       "model_id": "ce9ddc7321b94fafa54046b301cb8392",
       "version_major": 2,
       "version_minor": 0
      },
      "text/plain": [
       "Sanity Checking: |          | 0/? [00:00<?, ?it/s]"
      ]
     },
     "metadata": {},
     "output_type": "display_data"
    },
    {
     "name": "stdout",
     "output_type": "stream",
     "text": [
      "Epoch end: Validation, epoch number: 0\n",
      "ValidationEpoch/CM\n",
      " tensor([[102,   0,   0,   0,   0,  10,   0,   8,   0],\n",
      "        [ 24,   0,   0,   0,  61,   4,   0,   0,   0],\n",
      "        [122,   0,   0,   0,   0,   6,   0,   1,   0],\n",
      "        [ 98,   0,   0,   0,   0,  14,   0,   4,   0],\n",
      "        [ 49,   0,   0,   0,   0,  40,   0,  34,   0],\n",
      "        [ 92,   0,   0,   0,   0,   0,   0,   0,   0],\n",
      "        [108,   0,   0,   0,   0,   5,   0,   7,   0],\n",
      "        [ 82,   0,   0,   0,   0,   0,   0,   0,   0],\n",
      "        [ 58,   0,   0,   0,   0,   0,   0,  71,   0]])\n"
     ]
    },
    {
     "name": "stderr",
     "output_type": "stream",
     "text": [
      "/home/<User>/repos/csg_is/.venv/lib/python3.10/site-packages/lightning/pytorch/loops/fit_loop.py:298: The number of training batches (22) is smaller than the logging interval Trainer(log_every_n_steps=50). Set a lower value for log_every_n_steps if you want to see logs for the training epoch.\n"
     ]
    },
    {
     "data": {
      "application/vnd.jupyter.widget-view+json": {
       "model_id": "f21ce6f56581444cb18f4d2e0bc8b355",
       "version_major": 2,
       "version_minor": 0
      },
      "text/plain": [
       "Training: |          | 0/? [00:00<?, ?it/s]"
      ]
     },
     "metadata": {},
     "output_type": "display_data"
    },
    {
     "data": {
      "application/vnd.jupyter.widget-view+json": {
       "model_id": "0180da4108cc44f3b038e3447cee1abd",
       "version_major": 2,
       "version_minor": 0
      },
      "text/plain": [
       "Validation: |          | 0/? [00:00<?, ?it/s]"
      ]
     },
     "metadata": {},
     "output_type": "display_data"
    },
    {
     "name": "stdout",
     "output_type": "stream",
     "text": [
      "Epoch end: Validation, epoch number: 1\n",
      "ValidationEpoch/CM\n",
      " tensor([[ 503,    0,  135,  497,  135,   44,  187,    9,    0],\n",
      "        [  40, 1409,    0,    0,   95,    5,    0,    0,    0],\n",
      "        [ 273,    3, 1073,   47,   52,  176,  229,    4,    0],\n",
      "        [ 338,    2,  208,  660,   87,   58,  190,   13,    0],\n",
      "        [ 239,    0,  144,  134,  728,  101,  160,   57,    0],\n",
      "        [ 149,   15,  101,    0,    0, 1261,    0,    6,    0],\n",
      "        [ 363,    0,  566,  108,   65,  124,  327,   12,    0],\n",
      "        [ 143,    0,    0,    0,    0,    0,    0, 1379,    0],\n",
      "        [  88,   60,    0,    0,    0,    0,    0,  101, 1325]])\n",
      "Epoch end: Train, epoch number: 0\n",
      "TrainEpoch/CM\n",
      " tensor([[ 503,    0,  135,  497,  135,   44,  187,    9,    0],\n",
      "        [  40, 1409,    0,    0,   95,    5,    0,    0,    0],\n",
      "        [ 273,    3, 1073,   47,   52,  176,  229,    4,    0],\n",
      "        [ 338,    2,  208,  660,   87,   58,  190,   13,    0],\n",
      "        [ 239,    0,  144,  134,  728,  101,  160,   57,    0],\n",
      "        [ 149,   15,  101,    0,    0, 1261,    0,    6,    0],\n",
      "        [ 363,    0,  566,  108,   65,  124,  327,   12,    0],\n",
      "        [ 143,    0,    0,    0,    0,    0,    0, 1379,    0],\n",
      "        [  88,   60,    0,    0,    0,    0,    0,  101, 1325]])\n"
     ]
    },
    {
     "name": "stderr",
     "output_type": "stream",
     "text": [
      "Metric Validation/Accuracy improved. New best score: 0.715\n"
     ]
    },
    {
     "data": {
      "application/vnd.jupyter.widget-view+json": {
       "model_id": "2a481434166344dba25e9ee57c98f3a1",
       "version_major": 2,
       "version_minor": 0
      },
      "text/plain": [
       "Validation: |          | 0/? [00:00<?, ?it/s]"
      ]
     },
     "metadata": {},
     "output_type": "display_data"
    },
    {
     "name": "stdout",
     "output_type": "stream",
     "text": [
      "Epoch end: Validation, epoch number: 2\n",
      "ValidationEpoch/CM\n",
      " tensor([[ 895,    0,  187, 1182,  290,   44,  293,    9,    0],\n",
      "        [  40, 2869,    0,    0,   95,    5,    0,    0,    0],\n",
      "        [ 335,    3, 2501,  116,  117,  181,  328,    4,    0],\n",
      "        [ 556,    2,  335, 1529,  213,   58,  285,   18,    0],\n",
      "        [ 317,    0,  184,  324, 1746,  101,  274,   57,    0],\n",
      "        [ 149,   20,  104,    0,    0, 2693,    0,    6,    0],\n",
      "        [ 529,    0, 1166,  299,  172,  132,  700,   12,    0],\n",
      "        [ 143,    0,    0,    0,    0,    0,    0, 2819,    0],\n",
      "        [  88,   60,    0,    0,    0,    0,    0,  101, 2770]])\n",
      "Epoch end: Train, epoch number: 1\n",
      "TrainEpoch/CM\n",
      " tensor([[ 895,    0,  187, 1182,  290,   44,  293,    9,    0],\n",
      "        [  40, 2869,    0,    0,   95,    5,    0,    0,    0],\n",
      "        [ 335,    3, 2501,  116,  117,  181,  328,    4,    0],\n",
      "        [ 556,    2,  335, 1529,  213,   58,  285,   18,    0],\n",
      "        [ 317,    0,  184,  324, 1746,  101,  274,   57,    0],\n",
      "        [ 149,   20,  104,    0,    0, 2693,    0,    6,    0],\n",
      "        [ 529,    0, 1166,  299,  172,  132,  700,   12,    0],\n",
      "        [ 143,    0,    0,    0,    0,    0,    0, 2819,    0],\n",
      "        [  88,   60,    0,    0,    0,    0,    0,  101, 2770]])\n"
     ]
    },
    {
     "data": {
      "application/vnd.jupyter.widget-view+json": {
       "model_id": "00690ca59f344b8386c7bb2d259cbb06",
       "version_major": 2,
       "version_minor": 0
      },
      "text/plain": [
       "Validation: |          | 0/? [00:00<?, ?it/s]"
      ]
     },
     "metadata": {},
     "output_type": "display_data"
    },
    {
     "name": "stdout",
     "output_type": "stream",
     "text": [
      "Epoch end: Validation, epoch number: 3\n",
      "ValidationEpoch/CM\n",
      " tensor([[1498,    0,  202, 1792,  314,   44,  431,    9,    0],\n",
      "        [  40, 4329,    0,    0,   95,    5,    0,    0,    0],\n",
      "        [ 380,    3, 4030,  147,  163,  184,  402,    4,    0],\n",
      "        [ 774,    2,  450, 2526,  228,   58,  375,   23,    0],\n",
      "        [ 339,    0,  209,  402, 2917,  101,  418,   57,    0],\n",
      "        [ 149,   25,  105,    0,    0, 4127,    0,    6,    0],\n",
      "        [ 650,    0, 1727,  492,  236,  136, 1202,   12,    0],\n",
      "        [ 143,    0,    0,    0,    0,    0,    0, 4259,    0],\n",
      "        [  88,   60,    0,    0,    0,    0,    0,  101, 4215]])\n"
     ]
    },
    {
     "name": "stderr",
     "output_type": "stream",
     "text": [
      "Metric Validation/Accuracy improved by 0.081 >= min_delta = 0.0. New best score: 0.796\n"
     ]
    },
    {
     "name": "stdout",
     "output_type": "stream",
     "text": [
      "Epoch end: Train, epoch number: 2\n",
      "TrainEpoch/CM\n",
      " tensor([[1498,    0,  202, 1792,  314,   44,  431,    9,    0],\n",
      "        [  40, 4329,    0,    0,   95,    5,    0,    0,    0],\n",
      "        [ 380,    3, 4030,  147,  163,  184,  402,    4,    0],\n",
      "        [ 774,    2,  450, 2526,  228,   58,  375,   23,    0],\n",
      "        [ 339,    0,  209,  402, 2917,  101,  418,   57,    0],\n",
      "        [ 149,   25,  105,    0,    0, 4127,    0,    6,    0],\n",
      "        [ 650,    0, 1727,  492,  236,  136, 1202,   12,    0],\n",
      "        [ 143,    0,    0,    0,    0,    0,    0, 4259,    0],\n",
      "        [  88,   60,    0,    0,    0,    0,    0,  101, 4215]])\n"
     ]
    },
    {
     "data": {
      "application/vnd.jupyter.widget-view+json": {
       "model_id": "f5f99ebe58074c72acb20cf76b643777",
       "version_major": 2,
       "version_minor": 0
      },
      "text/plain": [
       "Validation: |          | 0/? [00:00<?, ?it/s]"
      ]
     },
     "metadata": {},
     "output_type": "display_data"
    },
    {
     "name": "stdout",
     "output_type": "stream",
     "text": [
      "Epoch end: Validation, epoch number: 4\n",
      "ValidationEpoch/CM\n",
      " tensor([[2380,    0,  216, 2165,  319,   44,  547,    9,    0],\n",
      "        [  40, 5789,    0,    0,   95,    5,    0,    0,    0],\n",
      "        [ 435,    3, 5504,  152,  209,  186,  548,    4,    0],\n",
      "        [1126,    2,  521, 3427,  235,   58,  479,   28,    0],\n",
      "        [ 369,    0,  218,  425, 4166,  101,  547,   57,    0],\n",
      "        [ 149,   30,  109,    0,    0, 5558,    0,    6,    0],\n",
      "        [ 799,    0, 2187,  621,  279,  138, 1864,   12,    0],\n",
      "        [ 143,    0,    0,    0,    0,    0,    0, 5699,    0],\n",
      "        [  88,   60,    0,    0,    0,    0,    0,  101, 5660]])\n",
      "Epoch end: Train, epoch number: 3\n",
      "TrainEpoch/CM\n",
      " tensor([[2380,    0,  216, 2165,  319,   44,  547,    9,    0],\n",
      "        [  40, 5789,    0,    0,   95,    5,    0,    0,    0],\n",
      "        [ 435,    3, 5504,  152,  209,  186,  548,    4,    0],\n",
      "        [1126,    2,  521, 3427,  235,   58,  479,   28,    0],\n",
      "        [ 369,    0,  218,  425, 4166,  101,  547,   57,    0],\n",
      "        [ 149,   30,  109,    0,    0, 5558,    0,    6,    0],\n",
      "        [ 799,    0, 2187,  621,  279,  138, 1864,   12,    0],\n",
      "        [ 143,    0,    0,    0,    0,    0,    0, 5699,    0],\n",
      "        [  88,   60,    0,    0,    0,    0,    0,  101, 5660]])\n"
     ]
    },
    {
     "name": "stderr",
     "output_type": "stream",
     "text": [
      "Metric Validation/Accuracy improved by 0.042 >= min_delta = 0.0. New best score: 0.838\n"
     ]
    },
    {
     "data": {
      "application/vnd.jupyter.widget-view+json": {
       "model_id": "246ed54749d54d5a9d19e11f7b73cab4",
       "version_major": 2,
       "version_minor": 0
      },
      "text/plain": [
       "Validation: |          | 0/? [00:00<?, ?it/s]"
      ]
     },
     "metadata": {},
     "output_type": "display_data"
    },
    {
     "name": "stdout",
     "output_type": "stream",
     "text": [
      "Epoch end: Validation, epoch number: 5\n",
      "ValidationEpoch/CM\n",
      " tensor([[3289,    0,  220, 2556,  322,   44,  630,    9,    0],\n",
      "        [  40, 7249,    0,    0,   95,    5,    0,    0,    0],\n",
      "        [ 475,    3, 7007,  169,  247,  186,  678,    4,    0],\n",
      "        [1518,    2,  569, 4321,  242,   58,  577,   29,    0],\n",
      "        [ 399,    0,  220,  455, 5474,  101,  617,   57,    0],\n",
      "        [ 149,   35,  114,    0,    0, 6988,    0,    6,    0],\n",
      "        [ 927,    0, 2593,  752,  319,  138, 2604,   12,    0],\n",
      "        [ 143,    0,    0,    0,    0,    0,    0, 7139,    0],\n",
      "        [  88,   60,    0,    0,    0,    0,    0,  101, 7105]])\n",
      "Epoch end: Train, epoch number: 4\n",
      "TrainEpoch/CM\n",
      " tensor([[3289,    0,  220, 2556,  322,   44,  630,    9,    0],\n",
      "        [  40, 7249,    0,    0,   95,    5,    0,    0,    0],\n",
      "        [ 475,    3, 7007,  169,  247,  186,  678,    4,    0],\n",
      "        [1518,    2,  569, 4321,  242,   58,  577,   29,    0],\n",
      "        [ 399,    0,  220,  455, 5474,  101,  617,   57,    0],\n",
      "        [ 149,   35,  114,    0,    0, 6988,    0,    6,    0],\n",
      "        [ 927,    0, 2593,  752,  319,  138, 2604,   12,    0],\n",
      "        [ 143,    0,    0,    0,    0,    0,    0, 7139,    0],\n",
      "        [  88,   60,    0,    0,    0,    0,    0,  101, 7105]])\n"
     ]
    },
    {
     "name": "stderr",
     "output_type": "stream",
     "text": [
      "Metric Validation/Accuracy improved by 0.017 >= min_delta = 0.0. New best score: 0.855\n"
     ]
    },
    {
     "data": {
      "application/vnd.jupyter.widget-view+json": {
       "model_id": "0e9fdfec06b84be1a3eeff33073198f4",
       "version_major": 2,
       "version_minor": 0
      },
      "text/plain": [
       "Validation: |          | 0/? [00:00<?, ?it/s]"
      ]
     },
     "metadata": {},
     "output_type": "display_data"
    },
    {
     "name": "stdout",
     "output_type": "stream",
     "text": [
      "Epoch end: Validation, epoch number: 6\n",
      "ValidationEpoch/CM\n",
      " tensor([[4111,    0,  222, 3037,  322,   44,  715,    9,    0],\n",
      "        [  40, 8709,    0,    0,   95,    5,    0,    0,    0],\n",
      "        [ 491,    3, 8431,  190,  272,  186,  920,    4,    0],\n",
      "        [1860,    2,  626, 5284,  248,   58,  649,   29,    0],\n",
      "        [ 419,    0,  226,  496, 6801,  101,  663,   57,    0],\n",
      "        [ 149,   36,  119,    0,    0, 8422,    0,    6,    0],\n",
      "        [1025,    0, 3009,  880,  350,  139, 3375,   12,    0],\n",
      "        [ 143,    0,    0,    0,    0,    0,    0, 8579,    0],\n",
      "        [  88,   60,    0,    0,    0,    0,    0,  101, 8550]])\n",
      "Epoch end: Train, epoch number: 5\n",
      "TrainEpoch/CM\n",
      " tensor([[4111,    0,  222, 3037,  322,   44,  715,    9,    0],\n",
      "        [  40, 8709,    0,    0,   95,    5,    0,    0,    0],\n",
      "        [ 491,    3, 8431,  190,  272,  186,  920,    4,    0],\n",
      "        [1860,    2,  626, 5284,  248,   58,  649,   29,    0],\n",
      "        [ 419,    0,  226,  496, 6801,  101,  663,   57,    0],\n",
      "        [ 149,   36,  119,    0,    0, 8422,    0,    6,    0],\n",
      "        [1025,    0, 3009,  880,  350,  139, 3375,   12,    0],\n",
      "        [ 143,    0,    0,    0,    0,    0,    0, 8579,    0],\n",
      "        [  88,   60,    0,    0,    0,    0,    0,  101, 8550]])\n"
     ]
    },
    {
     "data": {
      "application/vnd.jupyter.widget-view+json": {
       "model_id": "636f5a36e6434341bcd852784efcdf8a",
       "version_major": 2,
       "version_minor": 0
      },
      "text/plain": [
       "Validation: |          | 0/? [00:00<?, ?it/s]"
      ]
     },
     "metadata": {},
     "output_type": "display_data"
    },
    {
     "name": "stdout",
     "output_type": "stream",
     "text": [
      "Epoch end: Validation, epoch number: 7\n",
      "ValidationEpoch/CM\n",
      " tensor([[ 5103,     0,   228,  3366,   323,    44,   777,     9,     0],\n",
      "        [   40, 10169,     0,     0,    95,     5,     0,     0,     0],\n",
      "        [  512,     3,  9915,   201,   284,   186,  1120,     4,     0],\n",
      "        [ 2127,     2,   664,  6353,   251,    58,   712,    29,     0],\n",
      "        [  448,     0,   226,   524,  8160,   101,   687,    57,     0],\n",
      "        [  149,    36,   124,     0,     0,  9857,     0,     6,     0],\n",
      "        [ 1136,     0,  3435,  1009,   372,   140,  4131,    12,     0],\n",
      "        [  143,     0,     0,     0,     0,     0,     0, 10019,     0],\n",
      "        [   88,    60,     0,     0,     0,     0,     0,   101,  9995]])\n"
     ]
    },
    {
     "name": "stderr",
     "output_type": "stream",
     "text": [
      "Metric Validation/Accuracy improved by 0.015 >= min_delta = 0.0. New best score: 0.870\n"
     ]
    },
    {
     "name": "stdout",
     "output_type": "stream",
     "text": [
      "Epoch end: Train, epoch number: 6\n",
      "TrainEpoch/CM\n",
      " tensor([[ 5103,     0,   228,  3366,   323,    44,   777,     9,     0],\n",
      "        [   40, 10169,     0,     0,    95,     5,     0,     0,     0],\n",
      "        [  512,     3,  9915,   201,   284,   186,  1120,     4,     0],\n",
      "        [ 2127,     2,   664,  6353,   251,    58,   712,    29,     0],\n",
      "        [  448,     0,   226,   524,  8160,   101,   687,    57,     0],\n",
      "        [  149,    36,   124,     0,     0,  9857,     0,     6,     0],\n",
      "        [ 1136,     0,  3435,  1009,   372,   140,  4131,    12,     0],\n",
      "        [  143,     0,     0,     0,     0,     0,     0, 10019,     0],\n",
      "        [   88,    60,     0,     0,     0,     0,     0,   101,  9995]])\n"
     ]
    },
    {
     "data": {
      "application/vnd.jupyter.widget-view+json": {
       "model_id": "cc34389138c74d4a88c1c8efb5a30b27",
       "version_major": 2,
       "version_minor": 0
      },
      "text/plain": [
       "Validation: |          | 0/? [00:00<?, ?it/s]"
      ]
     },
     "metadata": {},
     "output_type": "display_data"
    },
    {
     "name": "stdout",
     "output_type": "stream",
     "text": [
      "Epoch end: Validation, epoch number: 8\n",
      "ValidationEpoch/CM\n",
      " tensor([[ 6141,     0,   231,  3636,   324,    44,   855,     9,     0],\n",
      "        [   40, 11629,     0,     0,    95,     5,     0,     0,     0],\n",
      "        [  530,     3, 11414,   211,   286,   186,  1319,     4,     0],\n",
      "        [ 2393,     2,   691,  7413,   253,    58,   797,    29,     0],\n",
      "        [  467,     0,   228,   548,  9547,   101,   695,    57,     0],\n",
      "        [  149,    36,   129,     0,     0, 11292,     0,     6,     0],\n",
      "        [ 1221,     0,  3823,  1122,   393,   140,  4969,    12,     0],\n",
      "        [  143,     0,     0,     0,     0,     0,     0, 11459,     0],\n",
      "        [   88,    60,     0,     0,     0,     0,     0,   101, 11440]])\n",
      "Epoch end: Train, epoch number: 7\n",
      "TrainEpoch/CM\n",
      " tensor([[ 6141,     0,   231,  3636,   324,    44,   855,     9,     0],\n",
      "        [   40, 11629,     0,     0,    95,     5,     0,     0,     0],\n",
      "        [  530,     3, 11414,   211,   286,   186,  1319,     4,     0],\n",
      "        [ 2393,     2,   691,  7413,   253,    58,   797,    29,     0],\n",
      "        [  467,     0,   228,   548,  9547,   101,   695,    57,     0],\n",
      "        [  149,    36,   129,     0,     0, 11292,     0,     6,     0],\n",
      "        [ 1221,     0,  3823,  1122,   393,   140,  4969,    12,     0],\n",
      "        [  143,     0,     0,     0,     0,     0,     0, 11459,     0],\n",
      "        [   88,    60,     0,     0,     0,     0,     0,   101, 11440]])\n"
     ]
    },
    {
     "name": "stderr",
     "output_type": "stream",
     "text": [
      "Metric Validation/Accuracy improved by 0.006 >= min_delta = 0.0. New best score: 0.877\n"
     ]
    },
    {
     "data": {
      "application/vnd.jupyter.widget-view+json": {
       "model_id": "e3a3b902b70042b69713842877be9528",
       "version_major": 2,
       "version_minor": 0
      },
      "text/plain": [
       "Validation: |          | 0/? [00:00<?, ?it/s]"
      ]
     },
     "metadata": {},
     "output_type": "display_data"
    },
    {
     "name": "stdout",
     "output_type": "stream",
     "text": [
      "Epoch end: Validation, epoch number: 9\n",
      "ValidationEpoch/CM\n",
      " tensor([[ 7253,     0,   233,  3851,   324,    44,   916,     9,     0],\n",
      "        [   40, 13089,     0,     0,    95,     5,     0,     0,     0],\n",
      "        [  542,     3, 12923,   218,   287,   186,  1518,     4,     0],\n",
      "        [ 2654,     2,   710,  8494,   256,    58,   873,    29,     0],\n",
      "        [  481,     0,   228,   570, 10944,   101,   702,    57,     0],\n",
      "        [  149,    36,   134,     0,     0, 12727,     0,     6,     0],\n",
      "        [ 1301,     0,  4186,  1233,   412,   140,  5841,    12,     0],\n",
      "        [  143,     0,     0,     0,     0,     0,     0, 12899,     0],\n",
      "        [   88,    60,     0,     0,     0,     0,     0,   101, 12885]])\n"
     ]
    },
    {
     "name": "stderr",
     "output_type": "stream",
     "text": [
      "Metric Validation/Accuracy improved by 0.014 >= min_delta = 0.0. New best score: 0.890\n"
     ]
    },
    {
     "name": "stdout",
     "output_type": "stream",
     "text": [
      "Epoch end: Train, epoch number: 8\n",
      "TrainEpoch/CM\n",
      " tensor([[ 7253,     0,   233,  3851,   324,    44,   916,     9,     0],\n",
      "        [   40, 13089,     0,     0,    95,     5,     0,     0,     0],\n",
      "        [  542,     3, 12923,   218,   287,   186,  1518,     4,     0],\n",
      "        [ 2654,     2,   710,  8494,   256,    58,   873,    29,     0],\n",
      "        [  481,     0,   228,   570, 10944,   101,   702,    57,     0],\n",
      "        [  149,    36,   134,     0,     0, 12727,     0,     6,     0],\n",
      "        [ 1301,     0,  4186,  1233,   412,   140,  5841,    12,     0],\n",
      "        [  143,     0,     0,     0,     0,     0,     0, 12899,     0],\n",
      "        [   88,    60,     0,     0,     0,     0,     0,   101, 12885]])\n"
     ]
    },
    {
     "data": {
      "application/vnd.jupyter.widget-view+json": {
       "model_id": "3bcedf83eeb04c3c827921843c80ef9e",
       "version_major": 2,
       "version_minor": 0
      },
      "text/plain": [
       "Validation: |          | 0/? [00:00<?, ?it/s]"
      ]
     },
     "metadata": {},
     "output_type": "display_data"
    },
    {
     "name": "stdout",
     "output_type": "stream",
     "text": [
      "Epoch end: Validation, epoch number: 10\n",
      "ValidationEpoch/CM\n",
      " tensor([[ 8328,     0,   233,  4115,   324,    44,   967,     9,     0],\n",
      "        [   40, 14549,     0,     0,    95,     5,     0,     0,     0],\n",
      "        [  557,     3, 14419,   219,   287,   186,  1734,     4,     0],\n",
      "        [ 2867,     2,   727,  9629,   257,    58,   947,    29,     0],\n",
      "        [  487,     0,   228,   575, 12368,   101,   707,    57,     0],\n",
      "        [  149,    36,   139,     0,     0, 14162,     0,     6,     0],\n",
      "        [ 1368,     0,  4547,  1340,   434,   140,  6729,    12,     0],\n",
      "        [  143,     0,     0,     0,     0,     0,     0, 14339,     0],\n",
      "        [   88,    60,     0,     0,     0,     0,     0,   101, 14330]])\n",
      "Epoch end: Train, epoch number: 9\n",
      "TrainEpoch/CM\n",
      " tensor([[ 8328,     0,   233,  4115,   324,    44,   967,     9,     0],\n",
      "        [   40, 14549,     0,     0,    95,     5,     0,     0,     0],\n",
      "        [  557,     3, 14419,   219,   287,   186,  1734,     4,     0],\n",
      "        [ 2867,     2,   727,  9629,   257,    58,   947,    29,     0],\n",
      "        [  487,     0,   228,   575, 12368,   101,   707,    57,     0],\n",
      "        [  149,    36,   139,     0,     0, 14162,     0,     6,     0],\n",
      "        [ 1368,     0,  4547,  1340,   434,   140,  6729,    12,     0],\n",
      "        [  143,     0,     0,     0,     0,     0,     0, 14339,     0],\n",
      "        [   88,    60,     0,     0,     0,     0,     0,   101, 14330]])\n"
     ]
    },
    {
     "data": {
      "application/vnd.jupyter.widget-view+json": {
       "model_id": "f08e61df3dea4ec7af5242755afde59b",
       "version_major": 2,
       "version_minor": 0
      },
      "text/plain": [
       "Validation: |          | 0/? [00:00<?, ?it/s]"
      ]
     },
     "metadata": {},
     "output_type": "display_data"
    },
    {
     "name": "stdout",
     "output_type": "stream",
     "text": [
      "Epoch end: Validation, epoch number: 11\n",
      "ValidationEpoch/CM\n",
      " tensor([[ 9401,     0,   233,  4384,   324,    44,  1015,     9,     0],\n",
      "        [   40, 16009,     0,     0,    95,     5,     0,     0,     0],\n",
      "        [  569,     3, 15906,   226,   287,   186,  1956,     4,     0],\n",
      "        [ 3124,     2,   742, 10730,   258,    58,  1013,    29,     0],\n",
      "        [  490,     0,   228,   591, 13789,   101,   707,    57,     0],\n",
      "        [  149,    36,   144,     0,     0, 15597,     0,     6,     0],\n",
      "        [ 1438,     0,  4887,  1454,   446,   140,  7638,    12,     0],\n",
      "        [  143,     0,     0,     0,     0,     0,     0, 15779,     0],\n",
      "        [   88,    60,     0,     0,     0,     0,     0,   101, 15775]])\n"
     ]
    },
    {
     "name": "stderr",
     "output_type": "stream",
     "text": [
      "Metric Validation/Accuracy improved by 0.010 >= min_delta = 0.0. New best score: 0.900\n"
     ]
    },
    {
     "name": "stdout",
     "output_type": "stream",
     "text": [
      "Epoch end: Train, epoch number: 10\n",
      "TrainEpoch/CM\n",
      " tensor([[ 9401,     0,   233,  4384,   324,    44,  1015,     9,     0],\n",
      "        [   40, 16009,     0,     0,    95,     5,     0,     0,     0],\n",
      "        [  569,     3, 15906,   226,   287,   186,  1956,     4,     0],\n",
      "        [ 3124,     2,   742, 10730,   258,    58,  1013,    29,     0],\n",
      "        [  490,     0,   228,   591, 13789,   101,   707,    57,     0],\n",
      "        [  149,    36,   144,     0,     0, 15597,     0,     6,     0],\n",
      "        [ 1438,     0,  4887,  1454,   446,   140,  7638,    12,     0],\n",
      "        [  143,     0,     0,     0,     0,     0,     0, 15779,     0],\n",
      "        [   88,    60,     0,     0,     0,     0,     0,   101, 15775]])\n"
     ]
    },
    {
     "data": {
      "application/vnd.jupyter.widget-view+json": {
       "model_id": "aa7b1d77c0e746b9b958e10fc2a5f8db",
       "version_major": 2,
       "version_minor": 0
      },
      "text/plain": [
       "Validation: |          | 0/? [00:00<?, ?it/s]"
      ]
     },
     "metadata": {},
     "output_type": "display_data"
    },
    {
     "name": "stdout",
     "output_type": "stream",
     "text": [
      "Epoch end: Validation, epoch number: 12\n",
      "ValidationEpoch/CM\n",
      " tensor([[10529,     0,   233,  4606,   324,    44,  1055,     9,     0],\n",
      "        [   40, 17469,     0,     0,    95,     5,     0,     0,     0],\n",
      "        [  581,     3, 17405,   227,   287,   186,  2172,     4,     0],\n",
      "        [ 3344,     2,   755, 11891,   258,    58,  1059,    29,     0],\n",
      "        [  493,     0,   228,   598, 15219,   101,   707,    57,     0],\n",
      "        [  149,    36,   149,     0,     0, 17032,     0,     6,     0],\n",
      "        [ 1503,     0,  5208,  1557,   464,   140,  8576,    12,     0],\n",
      "        [  143,     0,     0,     0,     0,     0,     0, 17219,     0],\n",
      "        [   88,    60,     0,     0,     0,     0,     0,   101, 17220]])\n",
      "Epoch end: Train, epoch number: 11\n",
      "TrainEpoch/CM\n",
      " tensor([[10529,     0,   233,  4606,   324,    44,  1055,     9,     0],\n",
      "        [   40, 17469,     0,     0,    95,     5,     0,     0,     0],\n",
      "        [  581,     3, 17405,   227,   287,   186,  2172,     4,     0],\n",
      "        [ 3344,     2,   755, 11891,   258,    58,  1059,    29,     0],\n",
      "        [  493,     0,   228,   598, 15219,   101,   707,    57,     0],\n",
      "        [  149,    36,   149,     0,     0, 17032,     0,     6,     0],\n",
      "        [ 1503,     0,  5208,  1557,   464,   140,  8576,    12,     0],\n",
      "        [  143,     0,     0,     0,     0,     0,     0, 17219,     0],\n",
      "        [   88,    60,     0,     0,     0,     0,     0,   101, 17220]])\n"
     ]
    },
    {
     "data": {
      "application/vnd.jupyter.widget-view+json": {
       "model_id": "578a8a37be84460f971a2487d1be7503",
       "version_major": 2,
       "version_minor": 0
      },
      "text/plain": [
       "Validation: |          | 0/? [00:00<?, ?it/s]"
      ]
     },
     "metadata": {},
     "output_type": "display_data"
    },
    {
     "name": "stdout",
     "output_type": "stream",
     "text": [
      "Epoch end: Validation, epoch number: 13\n",
      "ValidationEpoch/CM\n",
      " tensor([[11682,     0,   233,  4798,   324,    44,  1100,     9,     0],\n",
      "        [   40, 18929,     0,     0,    95,     5,     0,     0,     0],\n",
      "        [  593,     3, 18883,   230,   287,   186,  2407,     4,     0],\n",
      "        [ 3548,     2,   766, 13061,   261,    58,  1111,    29,     0],\n",
      "        [  506,     0,   228,   605, 16635,   101,   711,    57,     0],\n",
      "        [  149,    36,   154,     0,     0, 18467,     0,     6,     0],\n",
      "        [ 1565,     0,  5495,  1653,   474,   140,  9566,    12,     0],\n",
      "        [  143,     0,     0,     0,     0,     0,     0, 18659,     0],\n",
      "        [   88,    60,     0,     0,     0,     0,     0,   101, 18665]])\n",
      "Epoch end: Train, epoch number: 12\n",
      "TrainEpoch/CM\n",
      " tensor([[11682,     0,   233,  4798,   324,    44,  1100,     9,     0],\n",
      "        [   40, 18929,     0,     0,    95,     5,     0,     0,     0],\n",
      "        [  593,     3, 18883,   230,   287,   186,  2407,     4,     0],\n",
      "        [ 3548,     2,   766, 13061,   261,    58,  1111,    29,     0],\n",
      "        [  506,     0,   228,   605, 16635,   101,   711,    57,     0],\n",
      "        [  149,    36,   154,     0,     0, 18467,     0,     6,     0],\n",
      "        [ 1565,     0,  5495,  1653,   474,   140,  9566,    12,     0],\n",
      "        [  143,     0,     0,     0,     0,     0,     0, 18659,     0],\n",
      "        [   88,    60,     0,     0,     0,     0,     0,   101, 18665]])\n"
     ]
    },
    {
     "name": "stderr",
     "output_type": "stream",
     "text": [
      "Metric Validation/Accuracy improved by 0.007 >= min_delta = 0.0. New best score: 0.907\n"
     ]
    },
    {
     "data": {
      "application/vnd.jupyter.widget-view+json": {
       "model_id": "5b9de747a5804818be135653e899a295",
       "version_major": 2,
       "version_minor": 0
      },
      "text/plain": [
       "Validation: |          | 0/? [00:00<?, ?it/s]"
      ]
     },
     "metadata": {},
     "output_type": "display_data"
    },
    {
     "name": "stdout",
     "output_type": "stream",
     "text": [
      "Epoch end: Validation, epoch number: 14\n",
      "ValidationEpoch/CM\n",
      " tensor([[12893,     0,   233,  4940,   324,    44,  1137,     9,     0],\n",
      "        [   40, 20389,     0,     0,    95,     5,     0,     0,     0],\n",
      "        [  605,     3, 20348,   234,   287,   186,  2654,     4,     0],\n",
      "        [ 3755,     2,   782, 14222,   261,    58,  1167,    29,     0],\n",
      "        [  510,     0,   228,   610, 18064,   101,   713,    57,     0],\n",
      "        [  149,    36,   159,     0,     0, 19902,     0,     6,     0],\n",
      "        [ 1625,     0,  5799,  1746,   482,   140, 10546,    12,     0],\n",
      "        [  143,     0,     0,     0,     0,     0,     0, 20099,     0],\n",
      "        [   88,    60,     0,     0,     0,     0,     0,   101, 20110]])\n",
      "Epoch end: Train, epoch number: 13\n",
      "TrainEpoch/CM\n",
      " tensor([[12893,     0,   233,  4940,   324,    44,  1137,     9,     0],\n",
      "        [   40, 20389,     0,     0,    95,     5,     0,     0,     0],\n",
      "        [  605,     3, 20348,   234,   287,   186,  2654,     4,     0],\n",
      "        [ 3755,     2,   782, 14222,   261,    58,  1167,    29,     0],\n",
      "        [  510,     0,   228,   610, 18064,   101,   713,    57,     0],\n",
      "        [  149,    36,   159,     0,     0, 19902,     0,     6,     0],\n",
      "        [ 1625,     0,  5799,  1746,   482,   140, 10546,    12,     0],\n",
      "        [  143,     0,     0,     0,     0,     0,     0, 20099,     0],\n",
      "        [   88,    60,     0,     0,     0,     0,     0,   101, 20110]])\n"
     ]
    },
    {
     "name": "stderr",
     "output_type": "stream",
     "text": [
      "Metric Validation/Accuracy improved by 0.005 >= min_delta = 0.0. New best score: 0.912\n"
     ]
    },
    {
     "data": {
      "application/vnd.jupyter.widget-view+json": {
       "model_id": "d22c059868f9461480800e5431a259e7",
       "version_major": 2,
       "version_minor": 0
      },
      "text/plain": [
       "Validation: |          | 0/? [00:00<?, ?it/s]"
      ]
     },
     "metadata": {},
     "output_type": "display_data"
    },
    {
     "name": "stdout",
     "output_type": "stream",
     "text": [
      "Epoch end: Validation, epoch number: 15\n",
      "ValidationEpoch/CM\n",
      " tensor([[14121,     0,   233,  5068,   324,    44,  1171,     9,     0],\n",
      "        [   40, 21849,     0,     0,    95,     5,     0,     0,     0],\n",
      "        [  617,     3, 21838,   234,   287,   186,  2880,     4,     0],\n",
      "        [ 3956,     2,   795, 15398,   261,    58,  1217,    29,     0],\n",
      "        [  510,     0,   228,   615, 19499,   101,   713,    57,     0],\n",
      "        [  149,    36,   164,     0,     0, 21337,     0,     6,     0],\n",
      "        [ 1683,     0,  6086,  1842,   493,   140, 11539,    12,     0],\n",
      "        [  143,     0,     0,     0,     0,     0,     0, 21539,     0],\n",
      "        [   88,    60,     0,     0,     0,     0,     0,   101, 21555]])\n"
     ]
    },
    {
     "name": "stderr",
     "output_type": "stream",
     "text": [
      "Metric Validation/Accuracy improved by 0.006 >= min_delta = 0.0. New best score: 0.918\n"
     ]
    },
    {
     "name": "stdout",
     "output_type": "stream",
     "text": [
      "Epoch end: Train, epoch number: 14\n",
      "TrainEpoch/CM\n",
      " tensor([[14121,     0,   233,  5068,   324,    44,  1171,     9,     0],\n",
      "        [   40, 21849,     0,     0,    95,     5,     0,     0,     0],\n",
      "        [  617,     3, 21838,   234,   287,   186,  2880,     4,     0],\n",
      "        [ 3956,     2,   795, 15398,   261,    58,  1217,    29,     0],\n",
      "        [  510,     0,   228,   615, 19499,   101,   713,    57,     0],\n",
      "        [  149,    36,   164,     0,     0, 21337,     0,     6,     0],\n",
      "        [ 1683,     0,  6086,  1842,   493,   140, 11539,    12,     0],\n",
      "        [  143,     0,     0,     0,     0,     0,     0, 21539,     0],\n",
      "        [   88,    60,     0,     0,     0,     0,     0,   101, 21555]])\n"
     ]
    },
    {
     "data": {
      "application/vnd.jupyter.widget-view+json": {
       "model_id": "0e522080daa0456783c474e5e230700e",
       "version_major": 2,
       "version_minor": 0
      },
      "text/plain": [
       "Validation: |          | 0/? [00:00<?, ?it/s]"
      ]
     },
     "metadata": {},
     "output_type": "display_data"
    },
    {
     "name": "stdout",
     "output_type": "stream",
     "text": [
      "Epoch end: Validation, epoch number: 16\n",
      "ValidationEpoch/CM\n",
      " tensor([[15334,     0,   233,  5206,   324,    44,  1210,     9,     0],\n",
      "        [   40, 23309,     0,     0,    95,     5,     0,     0,     0],\n",
      "        [  625,     3, 23365,   234,   287,   186,  3073,     4,     0],\n",
      "        [ 4145,     2,   806, 16588,   261,    58,  1267,    29,     0],\n",
      "        [  511,     0,   228,   620, 20933,   101,   713,    57,     0],\n",
      "        [  149,    36,   169,     0,     0, 22772,     0,     6,     0],\n",
      "        [ 1736,     0,  6390,  1936,   499,   140, 12527,    12,     0],\n",
      "        [  143,     0,     0,     0,     0,     0,     0, 22979,     0],\n",
      "        [   88,    60,     0,     0,     0,     0,     0,   101, 23000]])\n",
      "Epoch end: Train, epoch number: 15\n",
      "TrainEpoch/CM\n",
      " tensor([[15334,     0,   233,  5206,   324,    44,  1210,     9,     0],\n",
      "        [   40, 23309,     0,     0,    95,     5,     0,     0,     0],\n",
      "        [  625,     3, 23365,   234,   287,   186,  3073,     4,     0],\n",
      "        [ 4145,     2,   806, 16588,   261,    58,  1267,    29,     0],\n",
      "        [  511,     0,   228,   620, 20933,   101,   713,    57,     0],\n",
      "        [  149,    36,   169,     0,     0, 22772,     0,     6,     0],\n",
      "        [ 1736,     0,  6390,  1936,   499,   140, 12527,    12,     0],\n",
      "        [  143,     0,     0,     0,     0,     0,     0, 22979,     0],\n",
      "        [   88,    60,     0,     0,     0,     0,     0,   101, 23000]])\n"
     ]
    },
    {
     "data": {
      "application/vnd.jupyter.widget-view+json": {
       "model_id": "ff23002fd828427399dfb1c7ab275302",
       "version_major": 2,
       "version_minor": 0
      },
      "text/plain": [
       "Validation: |          | 0/? [00:00<?, ?it/s]"
      ]
     },
     "metadata": {},
     "output_type": "display_data"
    },
    {
     "name": "stdout",
     "output_type": "stream",
     "text": [
      "Epoch end: Validation, epoch number: 17\n",
      "ValidationEpoch/CM\n",
      " tensor([[16522,     0,   233,  5368,   324,    44,  1250,     9,     0],\n",
      "        [   40, 24769,     0,     0,    95,     5,     0,     0,     0],\n",
      "        [  629,     3, 24889,   234,   287,   186,  3273,     4,     0],\n",
      "        [ 4325,     2,   817, 17788,   261,    58,  1316,    29,     0],\n",
      "        [  513,     0,   228,   624, 22367,   101,   713,    57,     0],\n",
      "        [  149,    36,   174,     0,     0, 24207,     0,     6,     0],\n",
      "        [ 1785,     0,  6679,  2030,   505,   140, 13534,    12,     0],\n",
      "        [  143,     0,     0,     0,     0,     0,     0, 24419,     0],\n",
      "        [   88,    60,     0,     0,     0,     0,     0,   101, 24445]])\n",
      "Epoch end: Train, epoch number: 16\n",
      "TrainEpoch/CM\n",
      " tensor([[16522,     0,   233,  5368,   324,    44,  1250,     9,     0],\n",
      "        [   40, 24769,     0,     0,    95,     5,     0,     0,     0],\n",
      "        [  629,     3, 24889,   234,   287,   186,  3273,     4,     0],\n",
      "        [ 4325,     2,   817, 17788,   261,    58,  1316,    29,     0],\n",
      "        [  513,     0,   228,   624, 22367,   101,   713,    57,     0],\n",
      "        [  149,    36,   174,     0,     0, 24207,     0,     6,     0],\n",
      "        [ 1785,     0,  6679,  2030,   505,   140, 13534,    12,     0],\n",
      "        [  143,     0,     0,     0,     0,     0,     0, 24419,     0],\n",
      "        [   88,    60,     0,     0,     0,     0,     0,   101, 24445]])\n"
     ]
    },
    {
     "data": {
      "application/vnd.jupyter.widget-view+json": {
       "model_id": "4cc67ab640c844d08384e9d695422bff",
       "version_major": 2,
       "version_minor": 0
      },
      "text/plain": [
       "Validation: |          | 0/? [00:00<?, ?it/s]"
      ]
     },
     "metadata": {},
     "output_type": "display_data"
    },
    {
     "name": "stdout",
     "output_type": "stream",
     "text": [
      "Epoch end: Validation, epoch number: 18\n",
      "ValidationEpoch/CM\n",
      " tensor([[17748,     0,   233,  5495,   324,    44,  1287,     9,     0],\n",
      "        [   40, 26229,     0,     0,    95,     5,     0,     0,     0],\n",
      "        [  640,     3, 26361,   234,   287,   186,  3518,     4,     0],\n",
      "        [ 4500,     2,   827, 19004,   261,    58,  1355,    29,     0],\n",
      "        [  514,     0,   228,   629, 23799,   101,   715,    57,     0],\n",
      "        [  149,    36,   176,     0,     0, 25645,     0,     6,     0],\n",
      "        [ 1836,     0,  6957,  2117,   507,   140, 14561,    12,     0],\n",
      "        [  143,     0,     0,     0,     0,     0,     0, 25859,     0],\n",
      "        [   88,    60,     0,     0,     0,     0,     0,   101, 25890]])\n",
      "Epoch end: Train, epoch number: 17\n",
      "TrainEpoch/CM\n",
      " tensor([[17748,     0,   233,  5495,   324,    44,  1287,     9,     0],\n",
      "        [   40, 26229,     0,     0,    95,     5,     0,     0,     0],\n",
      "        [  640,     3, 26361,   234,   287,   186,  3518,     4,     0],\n",
      "        [ 4500,     2,   827, 19004,   261,    58,  1355,    29,     0],\n",
      "        [  514,     0,   228,   629, 23799,   101,   715,    57,     0],\n",
      "        [  149,    36,   176,     0,     0, 25645,     0,     6,     0],\n",
      "        [ 1836,     0,  6957,  2117,   507,   140, 14561,    12,     0],\n",
      "        [  143,     0,     0,     0,     0,     0,     0, 25859,     0],\n",
      "        [   88,    60,     0,     0,     0,     0,     0,   101, 25890]])\n"
     ]
    },
    {
     "name": "stderr",
     "output_type": "stream",
     "text": [
      "Metric Validation/Accuracy improved by 0.003 >= min_delta = 0.0. New best score: 0.920\n"
     ]
    },
    {
     "data": {
      "application/vnd.jupyter.widget-view+json": {
       "model_id": "f07bb05b33b347eeb8ce4d7aa4e9a3ef",
       "version_major": 2,
       "version_minor": 0
      },
      "text/plain": [
       "Validation: |          | 0/? [00:00<?, ?it/s]"
      ]
     },
     "metadata": {},
     "output_type": "display_data"
    },
    {
     "name": "stdout",
     "output_type": "stream",
     "text": [
      "Epoch end: Validation, epoch number: 19\n",
      "ValidationEpoch/CM\n",
      " tensor([[18972,     0,   233,  5625,   324,    44,  1323,     9,     0],\n",
      "        [   40, 27689,     0,     0,    95,     5,     0,     0,     0],\n",
      "        [  650,     3, 27840,   236,   287,   186,  3755,     4,     0],\n",
      "        [ 4663,     2,   834, 20233,   261,    58,  1396,    29,     0],\n",
      "        [  514,     0,   228,   631, 25237,   101,   715,    57,     0],\n",
      "        [  149,    36,   177,     0,     0, 27084,     0,     6,     0],\n",
      "        [ 1883,     0,  7233,  2213,   513,   140, 15581,    12,     0],\n",
      "        [  143,     0,     0,     0,     0,     0,     0, 27299,     0],\n",
      "        [   88,    60,     0,     0,     0,     0,     0,   101, 27335]])\n",
      "Epoch end: Train, epoch number: 18\n",
      "TrainEpoch/CM\n",
      " tensor([[18972,     0,   233,  5625,   324,    44,  1323,     9,     0],\n",
      "        [   40, 27689,     0,     0,    95,     5,     0,     0,     0],\n",
      "        [  650,     3, 27840,   236,   287,   186,  3755,     4,     0],\n",
      "        [ 4663,     2,   834, 20233,   261,    58,  1396,    29,     0],\n",
      "        [  514,     0,   228,   631, 25237,   101,   715,    57,     0],\n",
      "        [  149,    36,   177,     0,     0, 27084,     0,     6,     0],\n",
      "        [ 1883,     0,  7233,  2213,   513,   140, 15581,    12,     0],\n",
      "        [  143,     0,     0,     0,     0,     0,     0, 27299,     0],\n",
      "        [   88,    60,     0,     0,     0,     0,     0,   101, 27335]])\n"
     ]
    },
    {
     "name": "stderr",
     "output_type": "stream",
     "text": [
      "Metric Validation/Accuracy improved by 0.003 >= min_delta = 0.0. New best score: 0.923\n"
     ]
    },
    {
     "data": {
      "application/vnd.jupyter.widget-view+json": {
       "model_id": "9e551fc138044ad5866e24310baf440b",
       "version_major": 2,
       "version_minor": 0
      },
      "text/plain": [
       "Validation: |          | 0/? [00:00<?, ?it/s]"
      ]
     },
     "metadata": {},
     "output_type": "display_data"
    },
    {
     "name": "stdout",
     "output_type": "stream",
     "text": [
      "Epoch end: Validation, epoch number: 20\n",
      "ValidationEpoch/CM\n",
      " tensor([[20238,     0,   233,  5721,   324,    44,  1351,     9,     0],\n",
      "        [   40, 29149,     0,     0,    95,     5,     0,     0,     0],\n",
      "        [  656,     3, 29355,   236,   287,   186,  3962,     4,     0],\n",
      "        [ 4843,     2,   840, 21443,   261,    58,  1440,    29,     0],\n",
      "        [  518,     0,   228,   636, 26668,   101,   715,    57,     0],\n",
      "        [  149,    36,   180,     0,     0, 28521,     0,     6,     0],\n",
      "        [ 1932,     0,  7490,  2300,   518,   140, 16628,    12,     0],\n",
      "        [  143,     0,     0,     0,     0,     0,     0, 28739,     0],\n",
      "        [   88,    60,     0,     0,     0,     0,     0,   101, 28780]])\n",
      "Epoch end: Train, epoch number: 19\n",
      "TrainEpoch/CM\n",
      " tensor([[20238,     0,   233,  5721,   324,    44,  1351,     9,     0],\n",
      "        [   40, 29149,     0,     0,    95,     5,     0,     0,     0],\n",
      "        [  656,     3, 29355,   236,   287,   186,  3962,     4,     0],\n",
      "        [ 4843,     2,   840, 21443,   261,    58,  1440,    29,     0],\n",
      "        [  518,     0,   228,   636, 26668,   101,   715,    57,     0],\n",
      "        [  149,    36,   180,     0,     0, 28521,     0,     6,     0],\n",
      "        [ 1932,     0,  7490,  2300,   518,   140, 16628,    12,     0],\n",
      "        [  143,     0,     0,     0,     0,     0,     0, 28739,     0],\n",
      "        [   88,    60,     0,     0,     0,     0,     0,   101, 28780]])\n"
     ]
    },
    {
     "name": "stderr",
     "output_type": "stream",
     "text": [
      "Metric Validation/Accuracy improved by 0.002 >= min_delta = 0.0. New best score: 0.926\n"
     ]
    },
    {
     "data": {
      "application/vnd.jupyter.widget-view+json": {
       "model_id": "9d46d8ce119746028131f09a9aff4d6a",
       "version_major": 2,
       "version_minor": 0
      },
      "text/plain": [
       "Validation: |          | 0/? [00:00<?, ?it/s]"
      ]
     },
     "metadata": {},
     "output_type": "display_data"
    },
    {
     "name": "stdout",
     "output_type": "stream",
     "text": [
      "Epoch end: Validation, epoch number: 21\n",
      "ValidationEpoch/CM\n",
      " tensor([[21515,     0,   233,  5801,   324,    44,  1384,     9,     0],\n",
      "        [   40, 30609,     0,     0,    95,     5,     0,     0,     0],\n",
      "        [  658,     3, 30844,   236,   287,   186,  4199,     4,     0],\n",
      "        [ 5022,     2,   846, 22653,   261,    58,  1485,    29,     0],\n",
      "        [  521,     0,   228,   639, 28102,   101,   715,    57,     0],\n",
      "        [  149,    36,   185,     0,     0, 29956,     0,     6,     0],\n",
      "        [ 1976,     0,  7753,  2386,   519,   140, 17679,    12,     0],\n",
      "        [  143,     0,     0,     0,     0,     0,     0, 30179,     0],\n",
      "        [   88,    60,     0,     0,     0,     0,     0,   101, 30225]])\n"
     ]
    },
    {
     "name": "stderr",
     "output_type": "stream",
     "text": [
      "Metric Validation/Accuracy improved by 0.001 >= min_delta = 0.0. New best score: 0.927\n"
     ]
    },
    {
     "name": "stdout",
     "output_type": "stream",
     "text": [
      "Epoch end: Train, epoch number: 20\n",
      "TrainEpoch/CM\n",
      " tensor([[21515,     0,   233,  5801,   324,    44,  1384,     9,     0],\n",
      "        [   40, 30609,     0,     0,    95,     5,     0,     0,     0],\n",
      "        [  658,     3, 30844,   236,   287,   186,  4199,     4,     0],\n",
      "        [ 5022,     2,   846, 22653,   261,    58,  1485,    29,     0],\n",
      "        [  521,     0,   228,   639, 28102,   101,   715,    57,     0],\n",
      "        [  149,    36,   185,     0,     0, 29956,     0,     6,     0],\n",
      "        [ 1976,     0,  7753,  2386,   519,   140, 17679,    12,     0],\n",
      "        [  143,     0,     0,     0,     0,     0,     0, 30179,     0],\n",
      "        [   88,    60,     0,     0,     0,     0,     0,   101, 30225]])\n"
     ]
    },
    {
     "data": {
      "application/vnd.jupyter.widget-view+json": {
       "model_id": "59fb4d2d48f04c83961a58505ed807a0",
       "version_major": 2,
       "version_minor": 0
      },
      "text/plain": [
       "Validation: |          | 0/? [00:00<?, ?it/s]"
      ]
     },
     "metadata": {},
     "output_type": "display_data"
    },
    {
     "name": "stdout",
     "output_type": "stream",
     "text": [
      "Epoch end: Validation, epoch number: 22\n",
      "ValidationEpoch/CM\n",
      " tensor([[22793,     0,   233,  5891,   324,    44,  1406,     9,     0],\n",
      "        [   40, 32069,     0,     0,    95,     5,     0,     0,     0],\n",
      "        [  660,     3, 32358,   236,   287,   186,  4411,     4,     0],\n",
      "        [ 5172,     2,   852, 23903,   261,    58,  1519,    29,     0],\n",
      "        [  521,     0,   228,   644, 29537,   101,   715,    57,     0],\n",
      "        [  149,    36,   190,     0,     0, 31391,     0,     6,     0],\n",
      "        [ 2022,     0,  8029,  2473,   523,   140, 18711,    12,     0],\n",
      "        [  143,     0,     0,     0,     0,     0,     0, 31619,     0],\n",
      "        [   88,    60,     0,     0,     0,     0,     0,   101, 31670]])\n"
     ]
    },
    {
     "name": "stderr",
     "output_type": "stream",
     "text": [
      "Metric Validation/Accuracy improved by 0.007 >= min_delta = 0.0. New best score: 0.934\n"
     ]
    },
    {
     "name": "stdout",
     "output_type": "stream",
     "text": [
      "Epoch end: Train, epoch number: 21\n",
      "TrainEpoch/CM\n",
      " tensor([[22793,     0,   233,  5891,   324,    44,  1406,     9,     0],\n",
      "        [   40, 32069,     0,     0,    95,     5,     0,     0,     0],\n",
      "        [  660,     3, 32358,   236,   287,   186,  4411,     4,     0],\n",
      "        [ 5172,     2,   852, 23903,   261,    58,  1519,    29,     0],\n",
      "        [  521,     0,   228,   644, 29537,   101,   715,    57,     0],\n",
      "        [  149,    36,   190,     0,     0, 31391,     0,     6,     0],\n",
      "        [ 2022,     0,  8029,  2473,   523,   140, 18711,    12,     0],\n",
      "        [  143,     0,     0,     0,     0,     0,     0, 31619,     0],\n",
      "        [   88,    60,     0,     0,     0,     0,     0,   101, 31670]])\n"
     ]
    },
    {
     "data": {
      "application/vnd.jupyter.widget-view+json": {
       "model_id": "3421696a180b4a4e86dec1fb54cbc905",
       "version_major": 2,
       "version_minor": 0
      },
      "text/plain": [
       "Validation: |          | 0/? [00:00<?, ?it/s]"
      ]
     },
     "metadata": {},
     "output_type": "display_data"
    },
    {
     "name": "stdout",
     "output_type": "stream",
     "text": [
      "Epoch end: Validation, epoch number: 23\n",
      "ValidationEpoch/CM\n",
      " tensor([[24067,     0,   233,  5992,   324,    44,  1421,     9,     0],\n",
      "        [   40, 33529,     0,     0,    95,     5,     0,     0,     0],\n",
      "        [  664,     3, 33907,   236,   287,   186,  4586,     4,     0],\n",
      "        [ 5295,     2,   858, 25182,   261,    58,  1551,    29,     0],\n",
      "        [  521,     0,   228,   648, 30973,   101,   715,    57,     0],\n",
      "        [  149,    36,   194,     0,     0, 32827,     0,     6,     0],\n",
      "        [ 2063,     0,  8305,  2565,   527,   140, 19743,    12,     0],\n",
      "        [  143,     0,     0,     0,     0,     0,     0, 33059,     0],\n",
      "        [   88,    60,     0,     0,     0,     0,     0,   101, 33115]])\n",
      "Epoch end: Train, epoch number: 22\n",
      "TrainEpoch/CM\n",
      " tensor([[24067,     0,   233,  5992,   324,    44,  1421,     9,     0],\n",
      "        [   40, 33529,     0,     0,    95,     5,     0,     0,     0],\n",
      "        [  664,     3, 33907,   236,   287,   186,  4586,     4,     0],\n",
      "        [ 5295,     2,   858, 25182,   261,    58,  1551,    29,     0],\n",
      "        [  521,     0,   228,   648, 30973,   101,   715,    57,     0],\n",
      "        [  149,    36,   194,     0,     0, 32827,     0,     6,     0],\n",
      "        [ 2063,     0,  8305,  2565,   527,   140, 19743,    12,     0],\n",
      "        [  143,     0,     0,     0,     0,     0,     0, 33059,     0],\n",
      "        [   88,    60,     0,     0,     0,     0,     0,   101, 33115]])\n"
     ]
    },
    {
     "data": {
      "application/vnd.jupyter.widget-view+json": {
       "model_id": "54c40c420b9c4b7daa3c89265d1911c3",
       "version_major": 2,
       "version_minor": 0
      },
      "text/plain": [
       "Validation: |          | 0/? [00:00<?, ?it/s]"
      ]
     },
     "metadata": {},
     "output_type": "display_data"
    },
    {
     "name": "stdout",
     "output_type": "stream",
     "text": [
      "Epoch end: Validation, epoch number: 24\n",
      "ValidationEpoch/CM\n",
      " tensor([[25335,     0,   233,  6092,   324,    44,  1443,     9,     0],\n",
      "        [   40, 34989,     0,     0,    95,     5,     0,     0,     0],\n",
      "        [  666,     3, 35432,   236,   287,   186,  4787,     4,     0],\n",
      "        [ 5433,     2,   864, 26441,   261,    58,  1588,    29,     0],\n",
      "        [  521,     0,   228,   648, 32413,   101,   715,    57,     0],\n",
      "        [  149,    36,   199,     0,     0, 34262,     0,     6,     0],\n",
      "        [ 2102,     0,  8581,  2648,   530,   140, 20787,    12,     0],\n",
      "        [  143,     0,     0,     0,     0,     0,     0, 34499,     0],\n",
      "        [   88,    60,     0,     0,     0,     0,     0,   101, 34560]])\n",
      "Epoch end: Train, epoch number: 23\n",
      "TrainEpoch/CM\n",
      " tensor([[25335,     0,   233,  6092,   324,    44,  1443,     9,     0],\n",
      "        [   40, 34989,     0,     0,    95,     5,     0,     0,     0],\n",
      "        [  666,     3, 35432,   236,   287,   186,  4787,     4,     0],\n",
      "        [ 5433,     2,   864, 26441,   261,    58,  1588,    29,     0],\n",
      "        [  521,     0,   228,   648, 32413,   101,   715,    57,     0],\n",
      "        [  149,    36,   199,     0,     0, 34262,     0,     6,     0],\n",
      "        [ 2102,     0,  8581,  2648,   530,   140, 20787,    12,     0],\n",
      "        [  143,     0,     0,     0,     0,     0,     0, 34499,     0],\n",
      "        [   88,    60,     0,     0,     0,     0,     0,   101, 34560]])\n"
     ]
    },
    {
     "data": {
      "application/vnd.jupyter.widget-view+json": {
       "model_id": "9fe95f7d81f44804a3dc4b88515ef9da",
       "version_major": 2,
       "version_minor": 0
      },
      "text/plain": [
       "Validation: |          | 0/? [00:00<?, ?it/s]"
      ]
     },
     "metadata": {},
     "output_type": "display_data"
    },
    {
     "name": "stdout",
     "output_type": "stream",
     "text": [
      "Epoch end: Validation, epoch number: 25\n",
      "ValidationEpoch/CM\n",
      " tensor([[26605,     0,   233,  6194,   324,    44,  1461,     9,     0],\n",
      "        [   40, 36449,     0,     0,    95,     5,     0,     0,     0],\n",
      "        [  667,     3, 36983,   236,   287,   186,  4963,     4,     0],\n",
      "        [ 5550,     2,   869, 27728,   261,    58,  1619,    29,     0],\n",
      "        [  521,     0,   228,   652, 33849,   101,   715,    57,     0],\n",
      "        [  149,    36,   204,     0,     0, 35697,     0,     6,     0],\n",
      "        [ 2138,     0,  8819,  2738,   532,   140, 21866,    12,     0],\n",
      "        [  143,     0,     0,     0,     0,     0,     0, 35939,     0],\n",
      "        [   88,    60,     0,     0,     0,     0,     0,   101, 36005]])\n",
      "Epoch end: Train, epoch number: 24\n",
      "TrainEpoch/CM\n",
      " tensor([[26605,     0,   233,  6194,   324,    44,  1461,     9,     0],\n",
      "        [   40, 36449,     0,     0,    95,     5,     0,     0,     0],\n",
      "        [  667,     3, 36983,   236,   287,   186,  4963,     4,     0],\n",
      "        [ 5550,     2,   869, 27728,   261,    58,  1619,    29,     0],\n",
      "        [  521,     0,   228,   652, 33849,   101,   715,    57,     0],\n",
      "        [  149,    36,   204,     0,     0, 35697,     0,     6,     0],\n",
      "        [ 2138,     0,  8819,  2738,   532,   140, 21866,    12,     0],\n",
      "        [  143,     0,     0,     0,     0,     0,     0, 35939,     0],\n",
      "        [   88,    60,     0,     0,     0,     0,     0,   101, 36005]])\n"
     ]
    },
    {
     "data": {
      "application/vnd.jupyter.widget-view+json": {
       "model_id": "fb80f9dac2cb46569b4f6adf504bf68e",
       "version_major": 2,
       "version_minor": 0
      },
      "text/plain": [
       "Validation: |          | 0/? [00:00<?, ?it/s]"
      ]
     },
     "metadata": {},
     "output_type": "display_data"
    },
    {
     "name": "stdout",
     "output_type": "stream",
     "text": [
      "Epoch end: Validation, epoch number: 26\n",
      "ValidationEpoch/CM\n",
      " tensor([[27874,     0,   233,  6298,   324,    44,  1478,     9,     0],\n",
      "        [   40, 37909,     0,     0,    95,     5,     0,     0,     0],\n",
      "        [  667,     3, 38536,   236,   287,   186,  5138,     4,     0],\n",
      "        [ 5659,     2,   874, 29024,   261,    58,  1649,    29,     0],\n",
      "        [  521,     0,   228,   656, 35285,   101,   715,    57,     0],\n",
      "        [  149,    36,   209,     0,     0, 37132,     0,     6,     0],\n",
      "        [ 2173,     0,  9060,  2826,   533,   140, 22946,    12,     0],\n",
      "        [  143,     0,     0,     0,     0,     0,     0, 37379,     0],\n",
      "        [   88,    60,     0,     0,     0,     0,     0,   101, 37450]])\n"
     ]
    },
    {
     "name": "stderr",
     "output_type": "stream",
     "text": [
      "Metric Validation/Accuracy improved by 0.003 >= min_delta = 0.0. New best score: 0.937\n"
     ]
    },
    {
     "name": "stdout",
     "output_type": "stream",
     "text": [
      "Epoch end: Train, epoch number: 25\n",
      "TrainEpoch/CM\n",
      " tensor([[27874,     0,   233,  6298,   324,    44,  1478,     9,     0],\n",
      "        [   40, 37909,     0,     0,    95,     5,     0,     0,     0],\n",
      "        [  667,     3, 38536,   236,   287,   186,  5138,     4,     0],\n",
      "        [ 5659,     2,   874, 29024,   261,    58,  1649,    29,     0],\n",
      "        [  521,     0,   228,   656, 35285,   101,   715,    57,     0],\n",
      "        [  149,    36,   209,     0,     0, 37132,     0,     6,     0],\n",
      "        [ 2173,     0,  9060,  2826,   533,   140, 22946,    12,     0],\n",
      "        [  143,     0,     0,     0,     0,     0,     0, 37379,     0],\n",
      "        [   88,    60,     0,     0,     0,     0,     0,   101, 37450]])\n"
     ]
    },
    {
     "data": {
      "application/vnd.jupyter.widget-view+json": {
       "model_id": "03bb978659c04c999783c6fb30323e2d",
       "version_major": 2,
       "version_minor": 0
      },
      "text/plain": [
       "Validation: |          | 0/? [00:00<?, ?it/s]"
      ]
     },
     "metadata": {},
     "output_type": "display_data"
    },
    {
     "name": "stdout",
     "output_type": "stream",
     "text": [
      "Epoch end: Validation, epoch number: 27\n",
      "ValidationEpoch/CM\n",
      " tensor([[29196,     0,   233,  6353,   324,    44,  1491,     9,     0],\n",
      "        [   40, 39369,     0,     0,    95,     5,     0,     0,     0],\n",
      "        [  669,     3, 40072,   236,   287,   186,  5328,     4,     0],\n",
      "        [ 5796,     2,   879, 30291,   261,    58,  1680,    29,     0],\n",
      "        [  521,     0,   228,   657, 36724,   101,   715,    57,     0],\n",
      "        [  149,    36,   214,     0,     0, 38567,     0,     6,     0],\n",
      "        [ 2211,     0,  9291,  2908,   533,   140, 24040,    12,     0],\n",
      "        [  143,     0,     0,     0,     0,     0,     0, 38819,     0],\n",
      "        [   88,    60,     0,     0,     0,     0,     0,   101, 38895]])\n",
      "Epoch end: Train, epoch number: 26\n",
      "TrainEpoch/CM\n",
      " tensor([[29196,     0,   233,  6353,   324,    44,  1491,     9,     0],\n",
      "        [   40, 39369,     0,     0,    95,     5,     0,     0,     0],\n",
      "        [  669,     3, 40072,   236,   287,   186,  5328,     4,     0],\n",
      "        [ 5796,     2,   879, 30291,   261,    58,  1680,    29,     0],\n",
      "        [  521,     0,   228,   657, 36724,   101,   715,    57,     0],\n",
      "        [  149,    36,   214,     0,     0, 38567,     0,     6,     0],\n",
      "        [ 2211,     0,  9291,  2908,   533,   140, 24040,    12,     0],\n",
      "        [  143,     0,     0,     0,     0,     0,     0, 38819,     0],\n",
      "        [   88,    60,     0,     0,     0,     0,     0,   101, 38895]])\n"
     ]
    },
    {
     "data": {
      "application/vnd.jupyter.widget-view+json": {
       "model_id": "2aa7d2d3942d4abaae33903d091438ee",
       "version_major": 2,
       "version_minor": 0
      },
      "text/plain": [
       "Validation: |          | 0/? [00:00<?, ?it/s]"
      ]
     },
     "metadata": {},
     "output_type": "display_data"
    },
    {
     "name": "stdout",
     "output_type": "stream",
     "text": [
      "Epoch end: Validation, epoch number: 28\n",
      "ValidationEpoch/CM\n",
      " tensor([[30489,     0,   233,  6435,   324,    44,  1506,     9,     0],\n",
      "        [   40, 40829,     0,     0,    95,     5,     0,     0,     0],\n",
      "        [  669,     3, 41614,   236,   287,   186,  5514,     4,     0],\n",
      "        [ 5920,     2,   884, 31568,   261,    58,  1714,    29,     0],\n",
      "        [  521,     0,   228,   657, 38164,   101,   715,    57,     0],\n",
      "        [  149,    36,   219,     0,     0, 40002,     0,     6,     0],\n",
      "        [ 2248,     0,  9506,  2988,   534,   140, 25152,    12,     0],\n",
      "        [  143,     0,     0,     0,     0,     0,     0, 40259,     0],\n",
      "        [   88,    60,     0,     0,     0,     0,     0,   101, 40340]])\n"
     ]
    },
    {
     "name": "stderr",
     "output_type": "stream",
     "text": [
      "Metric Validation/Accuracy improved by 0.004 >= min_delta = 0.0. New best score: 0.942\n"
     ]
    },
    {
     "name": "stdout",
     "output_type": "stream",
     "text": [
      "Epoch end: Train, epoch number: 27\n",
      "TrainEpoch/CM\n",
      " tensor([[30489,     0,   233,  6435,   324,    44,  1506,     9,     0],\n",
      "        [   40, 40829,     0,     0,    95,     5,     0,     0,     0],\n",
      "        [  669,     3, 41614,   236,   287,   186,  5514,     4,     0],\n",
      "        [ 5920,     2,   884, 31568,   261,    58,  1714,    29,     0],\n",
      "        [  521,     0,   228,   657, 38164,   101,   715,    57,     0],\n",
      "        [  149,    36,   219,     0,     0, 40002,     0,     6,     0],\n",
      "        [ 2248,     0,  9506,  2988,   534,   140, 25152,    12,     0],\n",
      "        [  143,     0,     0,     0,     0,     0,     0, 40259,     0],\n",
      "        [   88,    60,     0,     0,     0,     0,     0,   101, 40340]])\n"
     ]
    },
    {
     "data": {
      "application/vnd.jupyter.widget-view+json": {
       "model_id": "d75f2ea7e1414348be5b7da5712ccfa9",
       "version_major": 2,
       "version_minor": 0
      },
      "text/plain": [
       "Validation: |          | 0/? [00:00<?, ?it/s]"
      ]
     },
     "metadata": {},
     "output_type": "display_data"
    },
    {
     "name": "stdout",
     "output_type": "stream",
     "text": [
      "Epoch end: Validation, epoch number: 29\n",
      "ValidationEpoch/CM\n",
      " tensor([[31803,     0,   233,  6496,   324,    44,  1521,     9,     0],\n",
      "        [   40, 42289,     0,     0,    95,     5,     0,     0,     0],\n",
      "        [  670,     3, 43175,   236,   287,   186,  5680,     4,     0],\n",
      "        [ 6027,     2,   889, 32861,   261,    58,  1749,    29,     0],\n",
      "        [  521,     0,   228,   660, 39601,   101,   715,    57,     0],\n",
      "        [  149,    36,   224,     0,     0, 41437,     0,     6,     0],\n",
      "        [ 2283,     0,  9744,  3075,   534,   140, 26237,    12,     0],\n",
      "        [  143,     0,     0,     0,     0,     0,     0, 41699,     0],\n",
      "        [   88,    60,     0,     0,     0,     0,     0,   101, 41785]])\n",
      "Epoch end: Train, epoch number: 28\n",
      "TrainEpoch/CM\n",
      " tensor([[31803,     0,   233,  6496,   324,    44,  1521,     9,     0],\n",
      "        [   40, 42289,     0,     0,    95,     5,     0,     0,     0],\n",
      "        [  670,     3, 43175,   236,   287,   186,  5680,     4,     0],\n",
      "        [ 6027,     2,   889, 32861,   261,    58,  1749,    29,     0],\n",
      "        [  521,     0,   228,   660, 39601,   101,   715,    57,     0],\n",
      "        [  149,    36,   224,     0,     0, 41437,     0,     6,     0],\n",
      "        [ 2283,     0,  9744,  3075,   534,   140, 26237,    12,     0],\n",
      "        [  143,     0,     0,     0,     0,     0,     0, 41699,     0],\n",
      "        [   88,    60,     0,     0,     0,     0,     0,   101, 41785]])\n"
     ]
    },
    {
     "name": "stderr",
     "output_type": "stream",
     "text": [
      "Metric Validation/Accuracy improved by 0.004 >= min_delta = 0.0. New best score: 0.945\n"
     ]
    },
    {
     "data": {
      "application/vnd.jupyter.widget-view+json": {
       "model_id": "48299284da8942919391ac2d9717eaa1",
       "version_major": 2,
       "version_minor": 0
      },
      "text/plain": [
       "Validation: |          | 0/? [00:00<?, ?it/s]"
      ]
     },
     "metadata": {},
     "output_type": "display_data"
    },
    {
     "name": "stdout",
     "output_type": "stream",
     "text": [
      "Epoch end: Validation, epoch number: 30\n",
      "ValidationEpoch/CM\n",
      " tensor([[33113,     0,   233,  6559,   324,    44,  1538,     9,     0],\n",
      "        [   40, 43749,     0,     0,    95,     5,     0,     0,     0],\n",
      "        [  670,     3, 44724,   236,   287,   186,  5859,     4,     0],\n",
      "        [ 6142,     2,   894, 34143,   261,    58,  1787,    29,     0],\n",
      "        [  521,     0,   228,   660, 41041,   101,   715,    57,     0],\n",
      "        [  149,    36,   228,     0,     0, 42873,     0,     6,     0],\n",
      "        [ 2325,     0,  9943,  3150,   534,   140, 27366,    12,     0],\n",
      "        [  143,     0,     0,     0,     0,     0,     0, 43139,     0],\n",
      "        [   88,    60,     0,     0,     0,     0,     0,   101, 43230]])\n",
      "Epoch end: Train, epoch number: 29\n",
      "TrainEpoch/CM\n",
      " tensor([[33113,     0,   233,  6559,   324,    44,  1538,     9,     0],\n",
      "        [   40, 43749,     0,     0,    95,     5,     0,     0,     0],\n",
      "        [  670,     3, 44724,   236,   287,   186,  5859,     4,     0],\n",
      "        [ 6142,     2,   894, 34143,   261,    58,  1787,    29,     0],\n",
      "        [  521,     0,   228,   660, 41041,   101,   715,    57,     0],\n",
      "        [  149,    36,   228,     0,     0, 42873,     0,     6,     0],\n",
      "        [ 2325,     0,  9943,  3150,   534,   140, 27366,    12,     0],\n",
      "        [  143,     0,     0,     0,     0,     0,     0, 43139,     0],\n",
      "        [   88,    60,     0,     0,     0,     0,     0,   101, 43230]])\n"
     ]
    },
    {
     "data": {
      "application/vnd.jupyter.widget-view+json": {
       "model_id": "cce6088d864146b6a31f3edf7a9b7b87",
       "version_major": 2,
       "version_minor": 0
      },
      "text/plain": [
       "Validation: |          | 0/? [00:00<?, ?it/s]"
      ]
     },
     "metadata": {},
     "output_type": "display_data"
    },
    {
     "name": "stdout",
     "output_type": "stream",
     "text": [
      "Epoch end: Validation, epoch number: 31\n",
      "ValidationEpoch/CM\n",
      " tensor([[34447,     0,   233,  6605,   324,    44,  1548,     9,     0],\n",
      "        [   40, 45209,     0,     0,    95,     5,     0,     0,     0],\n",
      "        [  670,     3, 46276,   236,   287,   186,  6035,     4,     0],\n",
      "        [ 6244,     2,   899, 35449,   261,    58,  1814,    29,     0],\n",
      "        [  521,     0,   228,   660, 42481,   101,   715,    57,     0],\n",
      "        [  149,    36,   232,     0,     0, 44309,     0,     6,     0],\n",
      "        [ 2363,     0, 10154,  3232,   534,   140, 28480,    12,     0],\n",
      "        [  143,     0,     0,     0,     0,     0,     0, 44579,     0],\n",
      "        [   88,    60,     0,     0,     0,     0,     0,   101, 44675]])\n",
      "Epoch end: Train, epoch number: 30\n",
      "TrainEpoch/CM\n",
      " tensor([[34447,     0,   233,  6605,   324,    44,  1548,     9,     0],\n",
      "        [   40, 45209,     0,     0,    95,     5,     0,     0,     0],\n",
      "        [  670,     3, 46276,   236,   287,   186,  6035,     4,     0],\n",
      "        [ 6244,     2,   899, 35449,   261,    58,  1814,    29,     0],\n",
      "        [  521,     0,   228,   660, 42481,   101,   715,    57,     0],\n",
      "        [  149,    36,   232,     0,     0, 44309,     0,     6,     0],\n",
      "        [ 2363,     0, 10154,  3232,   534,   140, 28480,    12,     0],\n",
      "        [  143,     0,     0,     0,     0,     0,     0, 44579,     0],\n",
      "        [   88,    60,     0,     0,     0,     0,     0,   101, 44675]])\n"
     ]
    },
    {
     "data": {
      "application/vnd.jupyter.widget-view+json": {
       "model_id": "819a0b3ea45e4f10ad2bac3a6bc1ae15",
       "version_major": 2,
       "version_minor": 0
      },
      "text/plain": [
       "Validation: |          | 0/? [00:00<?, ?it/s]"
      ]
     },
     "metadata": {},
     "output_type": "display_data"
    },
    {
     "name": "stdout",
     "output_type": "stream",
     "text": [
      "Epoch end: Validation, epoch number: 32\n",
      "ValidationEpoch/CM\n",
      " tensor([[35795,     0,   233,  6641,   324,    44,  1554,     9,     0],\n",
      "        [   40, 46669,     0,     0,    95,     5,     0,     0,     0],\n",
      "        [  670,     3, 47849,   236,   287,   186,  6190,     4,     0],\n",
      "        [ 6331,     2,   904, 36776,   261,    58,  1835,    29,     0],\n",
      "        [  521,     0,   228,   661, 43920,   101,   715,    57,     0],\n",
      "        [  149,    36,   235,     0,     0, 45746,     0,     6,     0],\n",
      "        [ 2398,     0, 10378,  3327,   534,   140, 29571,    12,     0],\n",
      "        [  143,     0,     0,     0,     0,     0,     0, 46019,     0],\n",
      "        [   88,    60,     0,     0,     0,     0,     0,   101, 46120]])\n",
      "Epoch end: Train, epoch number: 31\n",
      "TrainEpoch/CM\n",
      " tensor([[35795,     0,   233,  6641,   324,    44,  1554,     9,     0],\n",
      "        [   40, 46669,     0,     0,    95,     5,     0,     0,     0],\n",
      "        [  670,     3, 47849,   236,   287,   186,  6190,     4,     0],\n",
      "        [ 6331,     2,   904, 36776,   261,    58,  1835,    29,     0],\n",
      "        [  521,     0,   228,   661, 43920,   101,   715,    57,     0],\n",
      "        [  149,    36,   235,     0,     0, 45746,     0,     6,     0],\n",
      "        [ 2398,     0, 10378,  3327,   534,   140, 29571,    12,     0],\n",
      "        [  143,     0,     0,     0,     0,     0,     0, 46019,     0],\n",
      "        [   88,    60,     0,     0,     0,     0,     0,   101, 46120]])\n"
     ]
    },
    {
     "name": "stderr",
     "output_type": "stream",
     "text": [
      "Metric Validation/Accuracy improved by 0.006 >= min_delta = 0.0. New best score: 0.952\n"
     ]
    },
    {
     "data": {
      "application/vnd.jupyter.widget-view+json": {
       "model_id": "d35d4aeb4dd94bae9967e863c96464f0",
       "version_major": 2,
       "version_minor": 0
      },
      "text/plain": [
       "Validation: |          | 0/? [00:00<?, ?it/s]"
      ]
     },
     "metadata": {},
     "output_type": "display_data"
    },
    {
     "name": "stdout",
     "output_type": "stream",
     "text": [
      "Epoch end: Validation, epoch number: 33\n",
      "ValidationEpoch/CM\n",
      " tensor([[37131,     0,   233,  6689,   324,    44,  1560,     9,     0],\n",
      "        [   40, 48129,     0,     0,    95,     5,     0,     0,     0],\n",
      "        [  670,     3, 49432,   236,   287,   186,  6335,     4,     0],\n",
      "        [ 6449,     2,   909, 38062,   261,    58,  1866,    29,     0],\n",
      "        [  521,     0,   228,   661, 45360,   101,   715,    57,     0],\n",
      "        [  149,    36,   240,     0,     0, 47181,     0,     6,     0],\n",
      "        [ 2435,     0, 10597,  3410,   534,   140, 30677,    12,     0],\n",
      "        [  143,     0,     0,     0,     0,     0,     0, 47459,     0],\n",
      "        [   88,    60,     0,     0,     0,     0,     0,   101, 47565]])\n",
      "Epoch end: Train, epoch number: 32\n",
      "TrainEpoch/CM\n",
      " tensor([[37131,     0,   233,  6689,   324,    44,  1560,     9,     0],\n",
      "        [   40, 48129,     0,     0,    95,     5,     0,     0,     0],\n",
      "        [  670,     3, 49432,   236,   287,   186,  6335,     4,     0],\n",
      "        [ 6449,     2,   909, 38062,   261,    58,  1866,    29,     0],\n",
      "        [  521,     0,   228,   661, 45360,   101,   715,    57,     0],\n",
      "        [  149,    36,   240,     0,     0, 47181,     0,     6,     0],\n",
      "        [ 2435,     0, 10597,  3410,   534,   140, 30677,    12,     0],\n",
      "        [  143,     0,     0,     0,     0,     0,     0, 47459,     0],\n",
      "        [   88,    60,     0,     0,     0,     0,     0,   101, 47565]])\n"
     ]
    },
    {
     "data": {
      "application/vnd.jupyter.widget-view+json": {
       "model_id": "5cf2ba1ff46f4d4aab4b360a600caabb",
       "version_major": 2,
       "version_minor": 0
      },
      "text/plain": [
       "Validation: |          | 0/? [00:00<?, ?it/s]"
      ]
     },
     "metadata": {},
     "output_type": "display_data"
    },
    {
     "name": "stdout",
     "output_type": "stream",
     "text": [
      "Epoch end: Validation, epoch number: 34\n",
      "ValidationEpoch/CM\n",
      " tensor([[38459,     0,   233,  6734,   324,    44,  1577,     9,     0],\n",
      "        [   40, 49589,     0,     0,    95,     5,     0,     0,     0],\n",
      "        [  670,     3, 50985,   236,   287,   186,  6510,     4,     0],\n",
      "        [ 6524,     2,   914, 39394,   261,    58,  1894,    29,     0],\n",
      "        [  521,     0,   228,   661, 46800,   101,   715,    57,     0],\n",
      "        [  149,    36,   242,     0,     0, 48619,     0,     6,     0],\n",
      "        [ 2463,     0, 10782,  3493,   534,   140, 31826,    12,     0],\n",
      "        [  143,     0,     0,     0,     0,     0,     0, 48899,     0],\n",
      "        [   88,    60,     0,     0,     0,     0,     0,   101, 49010]])\n",
      "Epoch end: Train, epoch number: 33\n",
      "TrainEpoch/CM\n",
      " tensor([[38459,     0,   233,  6734,   324,    44,  1577,     9,     0],\n",
      "        [   40, 49589,     0,     0,    95,     5,     0,     0,     0],\n",
      "        [  670,     3, 50985,   236,   287,   186,  6510,     4,     0],\n",
      "        [ 6524,     2,   914, 39394,   261,    58,  1894,    29,     0],\n",
      "        [  521,     0,   228,   661, 46800,   101,   715,    57,     0],\n",
      "        [  149,    36,   242,     0,     0, 48619,     0,     6,     0],\n",
      "        [ 2463,     0, 10782,  3493,   534,   140, 31826,    12,     0],\n",
      "        [  143,     0,     0,     0,     0,     0,     0, 48899,     0],\n",
      "        [   88,    60,     0,     0,     0,     0,     0,   101, 49010]])\n"
     ]
    },
    {
     "data": {
      "application/vnd.jupyter.widget-view+json": {
       "model_id": "c1b24a23d47148098af2a6b490ed9fbc",
       "version_major": 2,
       "version_minor": 0
      },
      "text/plain": [
       "Validation: |          | 0/? [00:00<?, ?it/s]"
      ]
     },
     "metadata": {},
     "output_type": "display_data"
    },
    {
     "name": "stdout",
     "output_type": "stream",
     "text": [
      "Epoch end: Validation, epoch number: 35\n",
      "ValidationEpoch/CM\n",
      " tensor([[39752,     0,   233,  6814,   324,    44,  1594,     9,     0],\n",
      "        [   40, 51049,     0,     0,    95,     5,     0,     0,     0],\n",
      "        [  670,     3, 52551,   236,   287,   186,  6672,     4,     0],\n",
      "        [ 6614,     2,   919, 40717,   261,    58,  1916,    29,     0],\n",
      "        [  521,     0,   228,   661, 48240,   101,   715,    57,     0],\n",
      "        [  149,    36,   246,     0,     0, 50055,     0,     6,     0],\n",
      "        [ 2488,     0, 10988,  3578,   534,   140, 32955,    12,     0],\n",
      "        [  143,     0,     0,     0,     0,     0,     0, 50339,     0],\n",
      "        [   88,    60,     0,     0,     0,     0,     0,   101, 50455]])\n",
      "Epoch end: Train, epoch number: 34\n",
      "TrainEpoch/CM\n",
      " tensor([[39752,     0,   233,  6814,   324,    44,  1594,     9,     0],\n",
      "        [   40, 51049,     0,     0,    95,     5,     0,     0,     0],\n",
      "        [  670,     3, 52551,   236,   287,   186,  6672,     4,     0],\n",
      "        [ 6614,     2,   919, 40717,   261,    58,  1916,    29,     0],\n",
      "        [  521,     0,   228,   661, 48240,   101,   715,    57,     0],\n",
      "        [  149,    36,   246,     0,     0, 50055,     0,     6,     0],\n",
      "        [ 2488,     0, 10988,  3578,   534,   140, 32955,    12,     0],\n",
      "        [  143,     0,     0,     0,     0,     0,     0, 50339,     0],\n",
      "        [   88,    60,     0,     0,     0,     0,     0,   101, 50455]])\n"
     ]
    },
    {
     "data": {
      "application/vnd.jupyter.widget-view+json": {
       "model_id": "c992aeb452074c8f8db759c0ea94e7c9",
       "version_major": 2,
       "version_minor": 0
      },
      "text/plain": [
       "Validation: |          | 0/? [00:00<?, ?it/s]"
      ]
     },
     "metadata": {},
     "output_type": "display_data"
    },
    {
     "name": "stdout",
     "output_type": "stream",
     "text": [
      "Epoch end: Validation, epoch number: 36\n",
      "ValidationEpoch/CM\n",
      " tensor([[41064,     0,   233,  6883,   324,    44,  1603,     9,     0],\n",
      "        [   40, 52509,     0,     0,    95,     5,     0,     0,     0],\n",
      "        [  670,     3, 54159,   236,   287,   186,  6792,     4,     0],\n",
      "        [ 6705,     2,   924, 42043,   261,    58,  1934,    29,     0],\n",
      "        [  521,     0,   228,   661, 49680,   101,   715,    57,     0],\n",
      "        [  149,    36,   250,     0,     0, 51491,     0,     6,     0],\n",
      "        [ 2516,     0, 11211,  3660,   534,   140, 34067,    12,     0],\n",
      "        [  143,     0,     0,     0,     0,     0,     0, 51779,     0],\n",
      "        [   88,    60,     0,     0,     0,     0,     0,   101, 51900]])\n",
      "Epoch end: Train, epoch number: 35\n",
      "TrainEpoch/CM\n",
      " tensor([[41064,     0,   233,  6883,   324,    44,  1603,     9,     0],\n",
      "        [   40, 52509,     0,     0,    95,     5,     0,     0,     0],\n",
      "        [  670,     3, 54159,   236,   287,   186,  6792,     4,     0],\n",
      "        [ 6705,     2,   924, 42043,   261,    58,  1934,    29,     0],\n",
      "        [  521,     0,   228,   661, 49680,   101,   715,    57,     0],\n",
      "        [  149,    36,   250,     0,     0, 51491,     0,     6,     0],\n",
      "        [ 2516,     0, 11211,  3660,   534,   140, 34067,    12,     0],\n",
      "        [  143,     0,     0,     0,     0,     0,     0, 51779,     0],\n",
      "        [   88,    60,     0,     0,     0,     0,     0,   101, 51900]])\n"
     ]
    },
    {
     "name": "stderr",
     "output_type": "stream",
     "text": [
      "Metric Validation/Accuracy improved by 0.004 >= min_delta = 0.0. New best score: 0.956\n"
     ]
    },
    {
     "data": {
      "application/vnd.jupyter.widget-view+json": {
       "model_id": "7a4d741f2bec4fb2994b0ff36abf7b03",
       "version_major": 2,
       "version_minor": 0
      },
      "text/plain": [
       "Validation: |          | 0/? [00:00<?, ?it/s]"
      ]
     },
     "metadata": {},
     "output_type": "display_data"
    },
    {
     "name": "stdout",
     "output_type": "stream",
     "text": [
      "Epoch end: Validation, epoch number: 37\n",
      "ValidationEpoch/CM\n",
      " tensor([[42410,     0,   233,  6916,   324,    44,  1614,     9,     0],\n",
      "        [   40, 53969,     0,     0,    95,     5,     0,     0,     0],\n",
      "        [  670,     3, 55748,   236,   287,   186,  6931,     4,     0],\n",
      "        [ 6770,     2,   929, 43386,   261,    58,  1961,    29,     0],\n",
      "        [  521,     0,   228,   661, 51120,   101,   715,    57,     0],\n",
      "        [  149,    36,   254,     0,     0, 52927,     0,     6,     0],\n",
      "        [ 2546,     0, 11410,  3736,   534,   140, 35207,    12,     0],\n",
      "        [  143,     0,     0,     0,     0,     0,     0, 53219,     0],\n",
      "        [   88,    60,     0,     0,     0,     0,     0,   101, 53345]])\n",
      "Epoch end: Train, epoch number: 36\n",
      "TrainEpoch/CM\n",
      " tensor([[42410,     0,   233,  6916,   324,    44,  1614,     9,     0],\n",
      "        [   40, 53969,     0,     0,    95,     5,     0,     0,     0],\n",
      "        [  670,     3, 55748,   236,   287,   186,  6931,     4,     0],\n",
      "        [ 6770,     2,   929, 43386,   261,    58,  1961,    29,     0],\n",
      "        [  521,     0,   228,   661, 51120,   101,   715,    57,     0],\n",
      "        [  149,    36,   254,     0,     0, 52927,     0,     6,     0],\n",
      "        [ 2546,     0, 11410,  3736,   534,   140, 35207,    12,     0],\n",
      "        [  143,     0,     0,     0,     0,     0,     0, 53219,     0],\n",
      "        [   88,    60,     0,     0,     0,     0,     0,   101, 53345]])\n"
     ]
    },
    {
     "data": {
      "application/vnd.jupyter.widget-view+json": {
       "model_id": "646375ee076c4573bd01766b1e479a67",
       "version_major": 2,
       "version_minor": 0
      },
      "text/plain": [
       "Validation: |          | 0/? [00:00<?, ?it/s]"
      ]
     },
     "metadata": {},
     "output_type": "display_data"
    },
    {
     "name": "stdout",
     "output_type": "stream",
     "text": [
      "Epoch end: Validation, epoch number: 38\n",
      "ValidationEpoch/CM\n",
      " tensor([[43774,     0,   233,  6936,   324,    44,  1620,     9,     0],\n",
      "        [   40, 55429,     0,     0,    95,     5,     0,     0,     0],\n",
      "        [  670,     3, 57343,   236,   287,   186,  7064,     4,     0],\n",
      "        [ 6833,     2,   934, 44737,   261,    58,  1982,    29,     0],\n",
      "        [  521,     0,   228,   661, 52560,   101,   715,    57,     0],\n",
      "        [  149,    36,   257,     0,     0, 54364,     0,     6,     0],\n",
      "        [ 2571,     0, 11615,  3819,   534,   140, 36339,    12,     0],\n",
      "        [  143,     0,     0,     0,     0,     0,     0, 54659,     0],\n",
      "        [   88,    60,     0,     0,     0,     0,     0,   101, 54790]])\n",
      "Epoch end: Train, epoch number: 37\n",
      "TrainEpoch/CM\n",
      " tensor([[43774,     0,   233,  6936,   324,    44,  1620,     9,     0],\n",
      "        [   40, 55429,     0,     0,    95,     5,     0,     0,     0],\n",
      "        [  670,     3, 57343,   236,   287,   186,  7064,     4,     0],\n",
      "        [ 6833,     2,   934, 44737,   261,    58,  1982,    29,     0],\n",
      "        [  521,     0,   228,   661, 52560,   101,   715,    57,     0],\n",
      "        [  149,    36,   257,     0,     0, 54364,     0,     6,     0],\n",
      "        [ 2571,     0, 11615,  3819,   534,   140, 36339,    12,     0],\n",
      "        [  143,     0,     0,     0,     0,     0,     0, 54659,     0],\n",
      "        [   88,    60,     0,     0,     0,     0,     0,   101, 54790]])\n"
     ]
    },
    {
     "name": "stderr",
     "output_type": "stream",
     "text": [
      "Metric Validation/Accuracy improved by 0.003 >= min_delta = 0.0. New best score: 0.959\n"
     ]
    },
    {
     "data": {
      "application/vnd.jupyter.widget-view+json": {
       "model_id": "9b42ab1f3d574557813c19eef2e94e04",
       "version_major": 2,
       "version_minor": 0
      },
      "text/plain": [
       "Validation: |          | 0/? [00:00<?, ?it/s]"
      ]
     },
     "metadata": {},
     "output_type": "display_data"
    },
    {
     "name": "stdout",
     "output_type": "stream",
     "text": [
      "Epoch end: Validation, epoch number: 39\n",
      "ValidationEpoch/CM\n",
      " tensor([[45132,     0,   233,  6963,   324,    44,  1625,     9,     0],\n",
      "        [   40, 56889,     0,     0,    95,     5,     0,     0,     0],\n",
      "        [  670,     3, 58943,   236,   287,   186,  7192,     4,     0],\n",
      "        [ 6893,     2,   939, 46089,   261,    58,  2005,    29,     0],\n",
      "        [  521,     0,   228,   661, 54000,   101,   715,    57,     0],\n",
      "        [  149,    36,   260,     0,     0, 55801,     0,     6,     0],\n",
      "        [ 2597,     0, 11808,  3900,   534,   140, 37484,    12,     0],\n",
      "        [  143,     0,     0,     0,     0,     0,     0, 56099,     0],\n",
      "        [   88,    60,     0,     0,     0,     0,     0,   101, 56235]])\n",
      "Epoch end: Train, epoch number: 38\n",
      "TrainEpoch/CM\n",
      " tensor([[45132,     0,   233,  6963,   324,    44,  1625,     9,     0],\n",
      "        [   40, 56889,     0,     0,    95,     5,     0,     0,     0],\n",
      "        [  670,     3, 58943,   236,   287,   186,  7192,     4,     0],\n",
      "        [ 6893,     2,   939, 46089,   261,    58,  2005,    29,     0],\n",
      "        [  521,     0,   228,   661, 54000,   101,   715,    57,     0],\n",
      "        [  149,    36,   260,     0,     0, 55801,     0,     6,     0],\n",
      "        [ 2597,     0, 11808,  3900,   534,   140, 37484,    12,     0],\n",
      "        [  143,     0,     0,     0,     0,     0,     0, 56099,     0],\n",
      "        [   88,    60,     0,     0,     0,     0,     0,   101, 56235]])\n"
     ]
    },
    {
     "name": "stderr",
     "output_type": "stream",
     "text": [
      "Metric Validation/Accuracy improved by 0.000 >= min_delta = 0.0. New best score: 0.959\n"
     ]
    },
    {
     "data": {
      "application/vnd.jupyter.widget-view+json": {
       "model_id": "e6c82339bc07455eb652b2ab711d3e62",
       "version_major": 2,
       "version_minor": 0
      },
      "text/plain": [
       "Validation: |          | 0/? [00:00<?, ?it/s]"
      ]
     },
     "metadata": {},
     "output_type": "display_data"
    },
    {
     "name": "stdout",
     "output_type": "stream",
     "text": [
      "Epoch end: Validation, epoch number: 40\n",
      "ValidationEpoch/CM\n",
      " tensor([[46483,     0,   233,  6993,   324,    44,  1634,     9,     0],\n",
      "        [   40, 58349,     0,     0,    95,     5,     0,     0,     0],\n",
      "        [  670,     3, 60541,   236,   287,   186,  7322,     4,     0],\n",
      "        [ 6945,     2,   944, 47450,   261,    58,  2027,    29,     0],\n",
      "        [  521,     0,   228,   661, 55440,   101,   715,    57,     0],\n",
      "        [  149,    36,   260,     0,     0, 57241,     0,     6,     0],\n",
      "        [ 2626,     0, 11980,  3973,   534,   140, 38655,    12,     0],\n",
      "        [  143,     0,     0,     0,     0,     0,     0, 57539,     0],\n",
      "        [   88,    60,     0,     0,     0,     0,     0,   101, 57680]])\n"
     ]
    },
    {
     "name": "stderr",
     "output_type": "stream",
     "text": [
      "Metric Validation/Accuracy improved by 0.001 >= min_delta = 0.0. New best score: 0.960\n"
     ]
    },
    {
     "name": "stdout",
     "output_type": "stream",
     "text": [
      "Epoch end: Train, epoch number: 39\n",
      "TrainEpoch/CM\n",
      " tensor([[46483,     0,   233,  6993,   324,    44,  1634,     9,     0],\n",
      "        [   40, 58349,     0,     0,    95,     5,     0,     0,     0],\n",
      "        [  670,     3, 60541,   236,   287,   186,  7322,     4,     0],\n",
      "        [ 6945,     2,   944, 47450,   261,    58,  2027,    29,     0],\n",
      "        [  521,     0,   228,   661, 55440,   101,   715,    57,     0],\n",
      "        [  149,    36,   260,     0,     0, 57241,     0,     6,     0],\n",
      "        [ 2626,     0, 11980,  3973,   534,   140, 38655,    12,     0],\n",
      "        [  143,     0,     0,     0,     0,     0,     0, 57539,     0],\n",
      "        [   88,    60,     0,     0,     0,     0,     0,   101, 57680]])\n"
     ]
    },
    {
     "data": {
      "application/vnd.jupyter.widget-view+json": {
       "model_id": "0bd1ccef61144ffb88b3a8aebdc7a41d",
       "version_major": 2,
       "version_minor": 0
      },
      "text/plain": [
       "Validation: |          | 0/? [00:00<?, ?it/s]"
      ]
     },
     "metadata": {},
     "output_type": "display_data"
    },
    {
     "name": "stdout",
     "output_type": "stream",
     "text": [
      "Epoch end: Validation, epoch number: 41\n",
      "ValidationEpoch/CM\n",
      " tensor([[47843,     0,   233,  7015,   324,    44,  1642,     9,     0],\n",
      "        [   40, 59809,     0,     0,    95,     5,     0,     0,     0],\n",
      "        [  670,     3, 62148,   236,   287,   186,  7443,     4,     0],\n",
      "        [ 6986,     2,   949, 48824,   261,    58,  2047,    29,     0],\n",
      "        [  521,     0,   228,   661, 56880,   101,   715,    57,     0],\n",
      "        [  149,    36,   261,     0,     0, 58680,     0,     6,     0],\n",
      "        [ 2648,     0, 12170,  4057,   534,   140, 39804,    12,     0],\n",
      "        [  143,     0,     0,     0,     0,     0,     0, 58979,     0],\n",
      "        [   88,    60,     0,     0,     0,     0,     0,   101, 59125]])\n",
      "Epoch end: Train, epoch number: 40\n",
      "TrainEpoch/CM\n",
      " tensor([[47843,     0,   233,  7015,   324,    44,  1642,     9,     0],\n",
      "        [   40, 59809,     0,     0,    95,     5,     0,     0,     0],\n",
      "        [  670,     3, 62148,   236,   287,   186,  7443,     4,     0],\n",
      "        [ 6986,     2,   949, 48824,   261,    58,  2047,    29,     0],\n",
      "        [  521,     0,   228,   661, 56880,   101,   715,    57,     0],\n",
      "        [  149,    36,   261,     0,     0, 58680,     0,     6,     0],\n",
      "        [ 2648,     0, 12170,  4057,   534,   140, 39804,    12,     0],\n",
      "        [  143,     0,     0,     0,     0,     0,     0, 58979,     0],\n",
      "        [   88,    60,     0,     0,     0,     0,     0,   101, 59125]])\n"
     ]
    },
    {
     "name": "stderr",
     "output_type": "stream",
     "text": [
      "Metric Validation/Accuracy improved by 0.003 >= min_delta = 0.0. New best score: 0.963\n"
     ]
    },
    {
     "data": {
      "application/vnd.jupyter.widget-view+json": {
       "model_id": "2847b1a26aaf432ea300f0ab377b9b57",
       "version_major": 2,
       "version_minor": 0
      },
      "text/plain": [
       "Validation: |          | 0/? [00:00<?, ?it/s]"
      ]
     },
     "metadata": {},
     "output_type": "display_data"
    },
    {
     "name": "stdout",
     "output_type": "stream",
     "text": [
      "Epoch end: Validation, epoch number: 42\n",
      "ValidationEpoch/CM\n",
      " tensor([[49206,     0,   233,  7036,   324,    44,  1648,     9,     0],\n",
      "        [   40, 61269,     0,     0,    95,     5,     0,     0,     0],\n",
      "        [  670,     3, 63741,   236,   287,   186,  7578,     4,     0],\n",
      "        [ 7020,     2,   954, 50212,   261,    58,  2060,    29,     0],\n",
      "        [  521,     0,   228,   661, 58320,   101,   715,    57,     0],\n",
      "        [  149,    36,   262,     0,     0, 60119,     0,     6,     0],\n",
      "        [ 2668,     0, 12341,  4144,   534,   140, 40971,    12,     0],\n",
      "        [  143,     0,     0,     0,     0,     0,     0, 60419,     0],\n",
      "        [   88,    60,     0,     0,     0,     0,     0,   101, 60570]])\n",
      "Epoch end: Train, epoch number: 41\n",
      "TrainEpoch/CM\n",
      " tensor([[49206,     0,   233,  7036,   324,    44,  1648,     9,     0],\n",
      "        [   40, 61269,     0,     0,    95,     5,     0,     0,     0],\n",
      "        [  670,     3, 63741,   236,   287,   186,  7578,     4,     0],\n",
      "        [ 7020,     2,   954, 50212,   261,    58,  2060,    29,     0],\n",
      "        [  521,     0,   228,   661, 58320,   101,   715,    57,     0],\n",
      "        [  149,    36,   262,     0,     0, 60119,     0,     6,     0],\n",
      "        [ 2668,     0, 12341,  4144,   534,   140, 40971,    12,     0],\n",
      "        [  143,     0,     0,     0,     0,     0,     0, 60419,     0],\n",
      "        [   88,    60,     0,     0,     0,     0,     0,   101, 60570]])\n"
     ]
    },
    {
     "name": "stderr",
     "output_type": "stream",
     "text": [
      "Metric Validation/Accuracy improved by 0.003 >= min_delta = 0.0. New best score: 0.966\n"
     ]
    },
    {
     "data": {
      "application/vnd.jupyter.widget-view+json": {
       "model_id": "87bf6fc7ba32423983db18cf9e211375",
       "version_major": 2,
       "version_minor": 0
      },
      "text/plain": [
       "Validation: |          | 0/? [00:00<?, ?it/s]"
      ]
     },
     "metadata": {},
     "output_type": "display_data"
    },
    {
     "name": "stdout",
     "output_type": "stream",
     "text": [
      "Epoch end: Validation, epoch number: 43\n",
      "ValidationEpoch/CM\n",
      " tensor([[50575,     0,   233,  7049,   324,    44,  1656,     9,     0],\n",
      "        [   40, 62729,     0,     0,    95,     5,     0,     0,     0],\n",
      "        [  670,     3, 65330,   236,   287,   186,  7717,     4,     0],\n",
      "        [ 7058,     2,   958, 51596,   261,    58,  2074,    29,     0],\n",
      "        [  521,     0,   228,   661, 59760,   101,   715,    57,     0],\n",
      "        [  149,    36,   264,     0,     0, 61557,     0,     6,     0],\n",
      "        [ 2690,     0, 12532,  4236,   534,   140, 42111,    12,     0],\n",
      "        [  143,     0,     0,     0,     0,     0,     0, 61859,     0],\n",
      "        [   88,    60,     0,     0,     0,     0,     0,   101, 62015]])\n",
      "Epoch end: Train, epoch number: 42\n",
      "TrainEpoch/CM\n",
      " tensor([[50575,     0,   233,  7049,   324,    44,  1656,     9,     0],\n",
      "        [   40, 62729,     0,     0,    95,     5,     0,     0,     0],\n",
      "        [  670,     3, 65330,   236,   287,   186,  7717,     4,     0],\n",
      "        [ 7058,     2,   958, 51596,   261,    58,  2074,    29,     0],\n",
      "        [  521,     0,   228,   661, 59760,   101,   715,    57,     0],\n",
      "        [  149,    36,   264,     0,     0, 61557,     0,     6,     0],\n",
      "        [ 2690,     0, 12532,  4236,   534,   140, 42111,    12,     0],\n",
      "        [  143,     0,     0,     0,     0,     0,     0, 61859,     0],\n",
      "        [   88,    60,     0,     0,     0,     0,     0,   101, 62015]])\n"
     ]
    },
    {
     "data": {
      "application/vnd.jupyter.widget-view+json": {
       "model_id": "2a906b5dde8c4ad79b4cebc9465f4e01",
       "version_major": 2,
       "version_minor": 0
      },
      "text/plain": [
       "Validation: |          | 0/? [00:00<?, ?it/s]"
      ]
     },
     "metadata": {},
     "output_type": "display_data"
    },
    {
     "name": "stdout",
     "output_type": "stream",
     "text": [
      "Epoch end: Validation, epoch number: 44\n",
      "ValidationEpoch/CM\n",
      " tensor([[51945,     0,   233,  7063,   324,    44,  1662,     9,     0],\n",
      "        [   40, 64189,     0,     0,    95,     5,     0,     0,     0],\n",
      "        [  670,     3, 66935,   236,   287,   186,  7840,     4,     0],\n",
      "        [ 7097,     2,   963, 52975,   261,    58,  2091,    29,     0],\n",
      "        [  521,     0,   228,   661, 61200,   101,   715,    57,     0],\n",
      "        [  149,    36,   264,     0,     0, 62997,     0,     6,     0],\n",
      "        [ 2719,     0, 12702,  4316,   534,   140, 43277,    12,     0],\n",
      "        [  143,     0,     0,     0,     0,     0,     0, 63299,     0],\n",
      "        [   88,    60,     0,     0,     0,     0,     0,   101, 63460]])\n",
      "Epoch end: Train, epoch number: 43\n",
      "TrainEpoch/CM\n",
      " tensor([[51945,     0,   233,  7063,   324,    44,  1662,     9,     0],\n",
      "        [   40, 64189,     0,     0,    95,     5,     0,     0,     0],\n",
      "        [  670,     3, 66935,   236,   287,   186,  7840,     4,     0],\n",
      "        [ 7097,     2,   963, 52975,   261,    58,  2091,    29,     0],\n",
      "        [  521,     0,   228,   661, 61200,   101,   715,    57,     0],\n",
      "        [  149,    36,   264,     0,     0, 62997,     0,     6,     0],\n",
      "        [ 2719,     0, 12702,  4316,   534,   140, 43277,    12,     0],\n",
      "        [  143,     0,     0,     0,     0,     0,     0, 63299,     0],\n",
      "        [   88,    60,     0,     0,     0,     0,     0,   101, 63460]])\n"
     ]
    },
    {
     "data": {
      "application/vnd.jupyter.widget-view+json": {
       "model_id": "063317100d3b40a8b79141d75fe055b0",
       "version_major": 2,
       "version_minor": 0
      },
      "text/plain": [
       "Validation: |          | 0/? [00:00<?, ?it/s]"
      ]
     },
     "metadata": {},
     "output_type": "display_data"
    },
    {
     "name": "stdout",
     "output_type": "stream",
     "text": [
      "Epoch end: Validation, epoch number: 45\n",
      "ValidationEpoch/CM\n",
      " tensor([[53314,     0,   233,  7078,   324,    44,  1668,     9,     0],\n",
      "        [   40, 65649,     0,     0,    95,     5,     0,     0,     0],\n",
      "        [  670,     3, 68534,   236,   287,   186,  7969,     4,     0],\n",
      "        [ 7143,     2,   968, 54353,   261,    58,  2102,    29,     0],\n",
      "        [  521,     0,   228,   661, 62640,   101,   715,    57,     0],\n",
      "        [  149,    36,   264,     0,     0, 64437,     0,     6,     0],\n",
      "        [ 2748,     0, 12883,  4396,   534,   140, 44432,    12,     0],\n",
      "        [  143,     0,     0,     0,     0,     0,     0, 64739,     0],\n",
      "        [   88,    60,     0,     0,     0,     0,     0,   101, 64905]])\n",
      "Epoch end: Train, epoch number: 44\n",
      "TrainEpoch/CM\n",
      " tensor([[53314,     0,   233,  7078,   324,    44,  1668,     9,     0],\n",
      "        [   40, 65649,     0,     0,    95,     5,     0,     0,     0],\n",
      "        [  670,     3, 68534,   236,   287,   186,  7969,     4,     0],\n",
      "        [ 7143,     2,   968, 54353,   261,    58,  2102,    29,     0],\n",
      "        [  521,     0,   228,   661, 62640,   101,   715,    57,     0],\n",
      "        [  149,    36,   264,     0,     0, 64437,     0,     6,     0],\n",
      "        [ 2748,     0, 12883,  4396,   534,   140, 44432,    12,     0],\n",
      "        [  143,     0,     0,     0,     0,     0,     0, 64739,     0],\n",
      "        [   88,    60,     0,     0,     0,     0,     0,   101, 64905]])\n"
     ]
    },
    {
     "data": {
      "application/vnd.jupyter.widget-view+json": {
       "model_id": "3db3e346a2d04b6a915f1e9d20c208dc",
       "version_major": 2,
       "version_minor": 0
      },
      "text/plain": [
       "Validation: |          | 0/? [00:00<?, ?it/s]"
      ]
     },
     "metadata": {},
     "output_type": "display_data"
    },
    {
     "name": "stdout",
     "output_type": "stream",
     "text": [
      "Epoch end: Validation, epoch number: 46\n",
      "ValidationEpoch/CM\n",
      " tensor([[54678,     0,   233,  7100,   324,    44,  1672,     9,     0],\n",
      "        [   40, 67109,     0,     0,    95,     5,     0,     0,     0],\n",
      "        [  670,     3, 70144,   236,   287,   186,  8087,     4,     0],\n",
      "        [ 7198,     2,   973, 55723,   261,    58,  2112,    29,     0],\n",
      "        [  521,     0,   228,   661, 64080,   101,   715,    57,     0],\n",
      "        [  149,    36,   264,     0,     0, 65877,     0,     6,     0],\n",
      "        [ 2776,     0, 13059,  4478,   534,   140, 45591,    12,     0],\n",
      "        [  143,     0,     0,     0,     0,     0,     0, 66179,     0],\n",
      "        [   88,    60,     0,     0,     0,     0,     0,   101, 66350]])\n",
      "Epoch end: Train, epoch number: 45\n",
      "TrainEpoch/CM\n",
      " tensor([[54678,     0,   233,  7100,   324,    44,  1672,     9,     0],\n",
      "        [   40, 67109,     0,     0,    95,     5,     0,     0,     0],\n",
      "        [  670,     3, 70144,   236,   287,   186,  8087,     4,     0],\n",
      "        [ 7198,     2,   973, 55723,   261,    58,  2112,    29,     0],\n",
      "        [  521,     0,   228,   661, 64080,   101,   715,    57,     0],\n",
      "        [  149,    36,   264,     0,     0, 65877,     0,     6,     0],\n",
      "        [ 2776,     0, 13059,  4478,   534,   140, 45591,    12,     0],\n",
      "        [  143,     0,     0,     0,     0,     0,     0, 66179,     0],\n",
      "        [   88,    60,     0,     0,     0,     0,     0,   101, 66350]])\n"
     ]
    },
    {
     "name": "stderr",
     "output_type": "stream",
     "text": [
      "Metric Validation/Accuracy improved by 0.000 >= min_delta = 0.0. New best score: 0.966\n"
     ]
    },
    {
     "data": {
      "application/vnd.jupyter.widget-view+json": {
       "model_id": "9fcf3a5d9648480ba2012d902661726f",
       "version_major": 2,
       "version_minor": 0
      },
      "text/plain": [
       "Validation: |          | 0/? [00:00<?, ?it/s]"
      ]
     },
     "metadata": {},
     "output_type": "display_data"
    },
    {
     "name": "stdout",
     "output_type": "stream",
     "text": [
      "Epoch end: Validation, epoch number: 47\n",
      "ValidationEpoch/CM\n",
      " tensor([[56059,     0,   233,  7104,   324,    44,  1677,     9,     0],\n",
      "        [   40, 68569,     0,     0,    95,     5,     0,     0,     0],\n",
      "        [  670,     3, 71743,   236,   287,   186,  8216,     4,     0],\n",
      "        [ 7232,     2,   978, 57113,   261,    58,  2123,    29,     0],\n",
      "        [  521,     0,   228,   661, 65520,   101,   715,    57,     0],\n",
      "        [  149,    36,   264,     0,     0, 67317,     0,     6,     0],\n",
      "        [ 2801,     0, 13207,  4560,   534,   140, 46781,    12,     0],\n",
      "        [  143,     0,     0,     0,     0,     0,     0, 67619,     0],\n",
      "        [   88,    60,     0,     0,     0,     0,     0,   101, 67795]])\n",
      "Epoch end: Train, epoch number: 46\n",
      "TrainEpoch/CM\n",
      " tensor([[56059,     0,   233,  7104,   324,    44,  1677,     9,     0],\n",
      "        [   40, 68569,     0,     0,    95,     5,     0,     0,     0],\n",
      "        [  670,     3, 71743,   236,   287,   186,  8216,     4,     0],\n",
      "        [ 7232,     2,   978, 57113,   261,    58,  2123,    29,     0],\n",
      "        [  521,     0,   228,   661, 65520,   101,   715,    57,     0],\n",
      "        [  149,    36,   264,     0,     0, 67317,     0,     6,     0],\n",
      "        [ 2801,     0, 13207,  4560,   534,   140, 46781,    12,     0],\n",
      "        [  143,     0,     0,     0,     0,     0,     0, 67619,     0],\n",
      "        [   88,    60,     0,     0,     0,     0,     0,   101, 67795]])\n"
     ]
    },
    {
     "name": "stderr",
     "output_type": "stream",
     "text": [
      "Metric Validation/Accuracy improved by 0.001 >= min_delta = 0.0. New best score: 0.968\n"
     ]
    },
    {
     "data": {
      "application/vnd.jupyter.widget-view+json": {
       "model_id": "8f9b87ac0373486a998a3d68d54dd8d5",
       "version_major": 2,
       "version_minor": 0
      },
      "text/plain": [
       "Validation: |          | 0/? [00:00<?, ?it/s]"
      ]
     },
     "metadata": {},
     "output_type": "display_data"
    },
    {
     "name": "stdout",
     "output_type": "stream",
     "text": [
      "Epoch end: Validation, epoch number: 48\n",
      "ValidationEpoch/CM\n",
      " tensor([[57437,     0,   233,  7111,   324,    44,  1682,     9,     0],\n",
      "        [   40, 70029,     0,     0,    95,     5,     0,     0,     0],\n",
      "        [  670,     3, 73366,   236,   287,   186,  8321,     4,     0],\n",
      "        [ 7270,     2,   983, 58498,   261,    58,  2135,    29,     0],\n",
      "        [  521,     0,   228,   661, 66960,   101,   715,    57,     0],\n",
      "        [  149,    36,   264,     0,     0, 68757,     0,     6,     0],\n",
      "        [ 2824,     0, 13366,  4647,   534,   140, 47957,    12,     0],\n",
      "        [  143,     0,     0,     0,     0,     0,     0, 69059,     0],\n",
      "        [   88,    60,     0,     0,     0,     0,     0,   101, 69240]])\n",
      "Epoch end: Train, epoch number: 47\n",
      "TrainEpoch/CM\n",
      " tensor([[57437,     0,   233,  7111,   324,    44,  1682,     9,     0],\n",
      "        [   40, 70029,     0,     0,    95,     5,     0,     0,     0],\n",
      "        [  670,     3, 73366,   236,   287,   186,  8321,     4,     0],\n",
      "        [ 7270,     2,   983, 58498,   261,    58,  2135,    29,     0],\n",
      "        [  521,     0,   228,   661, 66960,   101,   715,    57,     0],\n",
      "        [  149,    36,   264,     0,     0, 68757,     0,     6,     0],\n",
      "        [ 2824,     0, 13366,  4647,   534,   140, 47957,    12,     0],\n",
      "        [  143,     0,     0,     0,     0,     0,     0, 69059,     0],\n",
      "        [   88,    60,     0,     0,     0,     0,     0,   101, 69240]])\n"
     ]
    },
    {
     "data": {
      "application/vnd.jupyter.widget-view+json": {
       "model_id": "9e6d66c145e4474f9f615198bfcf7fe0",
       "version_major": 2,
       "version_minor": 0
      },
      "text/plain": [
       "Validation: |          | 0/? [00:00<?, ?it/s]"
      ]
     },
     "metadata": {},
     "output_type": "display_data"
    },
    {
     "name": "stdout",
     "output_type": "stream",
     "text": [
      "Epoch end: Validation, epoch number: 49\n",
      "ValidationEpoch/CM\n",
      " tensor([[58807,     0,   233,  7125,   324,    44,  1688,     9,     0],\n",
      "        [   40, 71489,     0,     0,    95,     5,     0,     0,     0],\n",
      "        [  670,     3, 74962,   236,   287,   186,  8453,     4,     0],\n",
      "        [ 7309,     2,   988, 59884,   261,    58,  2145,    29,     0],\n",
      "        [  521,     0,   228,   661, 68400,   101,   715,    57,     0],\n",
      "        [  149,    36,   265,     0,     0, 70196,     0,     6,     0],\n",
      "        [ 2851,     0, 13521,  4726,   534,   140, 49141,    12,     0],\n",
      "        [  143,     0,     0,     0,     0,     0,     0, 70499,     0],\n",
      "        [   88,    60,     0,     0,     0,     0,     0,   101, 70685]])\n",
      "Epoch end: Train, epoch number: 48\n",
      "TrainEpoch/CM\n",
      " tensor([[58807,     0,   233,  7125,   324,    44,  1688,     9,     0],\n",
      "        [   40, 71489,     0,     0,    95,     5,     0,     0,     0],\n",
      "        [  670,     3, 74962,   236,   287,   186,  8453,     4,     0],\n",
      "        [ 7309,     2,   988, 59884,   261,    58,  2145,    29,     0],\n",
      "        [  521,     0,   228,   661, 68400,   101,   715,    57,     0],\n",
      "        [  149,    36,   265,     0,     0, 70196,     0,     6,     0],\n",
      "        [ 2851,     0, 13521,  4726,   534,   140, 49141,    12,     0],\n",
      "        [  143,     0,     0,     0,     0,     0,     0, 70499,     0],\n",
      "        [   88,    60,     0,     0,     0,     0,     0,   101, 70685]])\n"
     ]
    },
    {
     "data": {
      "application/vnd.jupyter.widget-view+json": {
       "model_id": "8803300885b44374bfea737f60b52713",
       "version_major": 2,
       "version_minor": 0
      },
      "text/plain": [
       "Validation: |          | 0/? [00:00<?, ?it/s]"
      ]
     },
     "metadata": {},
     "output_type": "display_data"
    },
    {
     "name": "stdout",
     "output_type": "stream",
     "text": [
      "Epoch end: Validation, epoch number: 50\n",
      "ValidationEpoch/CM\n",
      " tensor([[60186,     0,   233,  7131,   324,    44,  1693,     9,     0],\n",
      "        [   40, 72949,     0,     0,    95,     5,     0,     0,     0],\n",
      "        [  670,     3, 76566,   236,   287,   186,  8577,     4,     0],\n",
      "        [ 7347,     2,   993, 61268,   261,    58,  2158,    29,     0],\n",
      "        [  521,     0,   228,   661, 69840,   101,   715,    57,     0],\n",
      "        [  149,    36,   265,     0,     0, 71636,     0,     6,     0],\n",
      "        [ 2880,     0, 13672,  4804,   534,   140, 50328,    12,     0],\n",
      "        [  143,     0,     0,     0,     0,     0,     0, 71939,     0],\n",
      "        [   88,    60,     0,     0,     0,     0,     0,   101, 72130]])\n",
      "Epoch end: Train, epoch number: 49\n",
      "TrainEpoch/CM\n",
      " tensor([[60186,     0,   233,  7131,   324,    44,  1693,     9,     0],\n",
      "        [   40, 72949,     0,     0,    95,     5,     0,     0,     0],\n",
      "        [  670,     3, 76566,   236,   287,   186,  8577,     4,     0],\n",
      "        [ 7347,     2,   993, 61268,   261,    58,  2158,    29,     0],\n",
      "        [  521,     0,   228,   661, 69840,   101,   715,    57,     0],\n",
      "        [  149,    36,   265,     0,     0, 71636,     0,     6,     0],\n",
      "        [ 2880,     0, 13672,  4804,   534,   140, 50328,    12,     0],\n",
      "        [  143,     0,     0,     0,     0,     0,     0, 71939,     0],\n",
      "        [   88,    60,     0,     0,     0,     0,     0,   101, 72130]])\n"
     ]
    },
    {
     "data": {
      "application/vnd.jupyter.widget-view+json": {
       "model_id": "66547b55d8bd4f83b9b90b0fa3a0bbfe",
       "version_major": 2,
       "version_minor": 0
      },
      "text/plain": [
       "Validation: |          | 0/? [00:00<?, ?it/s]"
      ]
     },
     "metadata": {},
     "output_type": "display_data"
    },
    {
     "name": "stdout",
     "output_type": "stream",
     "text": [
      "Epoch end: Validation, epoch number: 51\n",
      "ValidationEpoch/CM\n",
      " tensor([[61567,     0,   233,  7135,   324,    44,  1698,     9,     0],\n",
      "        [   40, 74409,     0,     0,    95,     5,     0,     0,     0],\n",
      "        [  670,     3, 78183,   236,   287,   186,  8688,     4,     0],\n",
      "        [ 7371,     2,   998, 62674,   261,    58,  2163,    29,     0],\n",
      "        [  521,     0,   228,   661, 71280,   101,   715,    57,     0],\n",
      "        [  149,    36,   266,     0,     0, 73075,     0,     6,     0],\n",
      "        [ 2907,     0, 13838,  4889,   534,   140, 51495,    12,     0],\n",
      "        [  143,     0,     0,     0,     0,     0,     0, 73379,     0],\n",
      "        [   88,    60,     0,     0,     0,     0,     0,   101, 73575]])\n",
      "Epoch end: Train, epoch number: 50\n",
      "TrainEpoch/CM\n",
      " tensor([[61567,     0,   233,  7135,   324,    44,  1698,     9,     0],\n",
      "        [   40, 74409,     0,     0,    95,     5,     0,     0,     0],\n",
      "        [  670,     3, 78183,   236,   287,   186,  8688,     4,     0],\n",
      "        [ 7371,     2,   998, 62674,   261,    58,  2163,    29,     0],\n",
      "        [  521,     0,   228,   661, 71280,   101,   715,    57,     0],\n",
      "        [  149,    36,   266,     0,     0, 73075,     0,     6,     0],\n",
      "        [ 2907,     0, 13838,  4889,   534,   140, 51495,    12,     0],\n",
      "        [  143,     0,     0,     0,     0,     0,     0, 73379,     0],\n",
      "        [   88,    60,     0,     0,     0,     0,     0,   101, 73575]])\n"
     ]
    },
    {
     "data": {
      "application/vnd.jupyter.widget-view+json": {
       "model_id": "6df6fc8fe6104c809431c106a749acf2",
       "version_major": 2,
       "version_minor": 0
      },
      "text/plain": [
       "Validation: |          | 0/? [00:00<?, ?it/s]"
      ]
     },
     "metadata": {},
     "output_type": "display_data"
    },
    {
     "name": "stdout",
     "output_type": "stream",
     "text": [
      "Epoch end: Validation, epoch number: 52\n",
      "ValidationEpoch/CM\n",
      " tensor([[62949,     0,   233,  7138,   324,    44,  1703,     9,     0],\n",
      "        [   40, 75869,     0,     0,    95,     5,     0,     0,     0],\n",
      "        [  670,     3, 79797,   236,   287,   186,  8802,     4,     0],\n",
      "        [ 7395,     2,  1003, 64079,   261,    58,  2169,    29,     0],\n",
      "        [  521,     0,   228,   661, 72720,   101,   715,    57,     0],\n",
      "        [  149,    36,   266,     0,     0, 74515,     0,     6,     0],\n",
      "        [ 2934,     0, 14000,  4968,   534,   140, 52672,    12,     0],\n",
      "        [  143,     0,     0,     0,     0,     0,     0, 74819,     0],\n",
      "        [   88,    60,     0,     0,     0,     0,     0,   101, 75020]])\n",
      "Epoch end: Train, epoch number: 51\n",
      "TrainEpoch/CM\n",
      " tensor([[62949,     0,   233,  7138,   324,    44,  1703,     9,     0],\n",
      "        [   40, 75869,     0,     0,    95,     5,     0,     0,     0],\n",
      "        [  670,     3, 79797,   236,   287,   186,  8802,     4,     0],\n",
      "        [ 7395,     2,  1003, 64079,   261,    58,  2169,    29,     0],\n",
      "        [  521,     0,   228,   661, 72720,   101,   715,    57,     0],\n",
      "        [  149,    36,   266,     0,     0, 74515,     0,     6,     0],\n",
      "        [ 2934,     0, 14000,  4968,   534,   140, 52672,    12,     0],\n",
      "        [  143,     0,     0,     0,     0,     0,     0, 74819,     0],\n",
      "        [   88,    60,     0,     0,     0,     0,     0,   101, 75020]])\n"
     ]
    },
    {
     "name": "stderr",
     "output_type": "stream",
     "text": [
      "Monitored metric Validation/Accuracy did not improve in the last 5 records. Best score: 0.968. Signaling Trainer to stop.\n"
     ]
    }
   ],
   "source": [
    "trainer.fit(model=model, train_dataloaders=train_dataloader, val_dataloaders=val_dataloader)"
   ]
  },
  {
   "cell_type": "code",
   "execution_count": 16,
   "metadata": {},
   "outputs": [
    {
     "data": {
      "text/plain": [
       "MalwaresModelLinearLayer(\n",
       "  (train_metrics): MetricCollection(\n",
       "    (MulticlassAccuracy): MulticlassAccuracy()\n",
       "    (MulticlassPrecision): MulticlassPrecision()\n",
       "    (MulticlassRecall): MulticlassRecall()\n",
       "    (MulticlassF1Score): MulticlassF1Score(),\n",
       "    prefix=Train/\n",
       "  )\n",
       "  (val_metrics): MetricCollection(\n",
       "    (MulticlassAccuracy): MulticlassAccuracy()\n",
       "    (MulticlassPrecision): MulticlassPrecision()\n",
       "    (MulticlassRecall): MulticlassRecall()\n",
       "    (MulticlassF1Score): MulticlassF1Score(),\n",
       "    prefix=Validation/\n",
       "  )\n",
       "  (test_metrics): MetricCollection(\n",
       "    (MulticlassAccuracy): MulticlassAccuracy()\n",
       "    (MulticlassPrecision): MulticlassPrecision()\n",
       "    (MulticlassRecall): MulticlassRecall()\n",
       "    (MulticlassF1Score): MulticlassF1Score(),\n",
       "    prefix=Test/\n",
       "  )\n",
       "  (cm): MulticlassConfusionMatrix()\n",
       "  (criterion): CrossEntropyLoss()\n",
       "  (l1): Linear(in_features=305, out_features=9, bias=True)\n",
       ")"
      ]
     },
     "execution_count": 16,
     "metadata": {},
     "output_type": "execute_result"
    }
   ],
   "source": [
    "model.eval()"
   ]
  },
  {
   "cell_type": "code",
   "execution_count": 17,
   "metadata": {},
   "outputs": [
    {
     "name": "stderr",
     "output_type": "stream",
     "text": [
      "LOCAL_RANK: 0 - CUDA_VISIBLE_DEVICES: [0]\n"
     ]
    },
    {
     "name": "stdout",
     "output_type": "stream",
     "text": [
      "/home/<User>/repos/csg_is/training/official_logs/single-layer_300_50s/version_0/checkpoints/epoch=46-step=1034.ckpt\n",
      "tensor(0.9679, device='cuda:0')\n"
     ]
    },
    {
     "data": {
      "application/vnd.jupyter.widget-view+json": {
       "model_id": "fcd53d75673a453581dfb05fd9d89c74",
       "version_major": 2,
       "version_minor": 0
      },
      "text/plain": [
       "Testing: |          | 0/? [00:00<?, ?it/s]"
      ]
     },
     "metadata": {},
     "output_type": "display_data"
    },
    {
     "name": "stdout",
     "output_type": "stream",
     "text": [
      "Epoch end: Test, epoch number: 0\n",
      "TestEpoch/CM\n",
      " tensor([[296,   0,   0,   0,   0,   0,   1,   0,   0],\n",
      "        [  0, 271,   0,   0,   0,   0,   0,   0,   0],\n",
      "        [  0,   0, 327,   0,   0,   0,  35,   0,   0],\n",
      "        [  1,   0,   1, 273,   0,   0,   4,   0,   0],\n",
      "        [  0,   0,   0,   0, 314,   0,   0,   0,   0],\n",
      "        [  0,   0,   0,   0,   0, 249,   0,   0,   0],\n",
      "        [  6,   0,  27,  16,   0,   0, 247,   0,   0],\n",
      "        [  0,   0,   0,   0,   0,   0,   0, 274,   0],\n",
      "        [  0,   0,   0,   0,   0,   0,   0,   0, 304]])\n",
      "────────────────────────────────────────────────────────────────────────────────────────────────────────────────────────\n",
      "       Test metric             DataLoader 0\n",
      "────────────────────────────────────────────────────────────────────────────────────────────────────────────────────────\n",
      "      Test/Accuracy          0.967934787273407\n",
      "      Test/F1Score          0.9671220183372498\n",
      "        Test/Loss           0.1785883903503418\n",
      "     Test/Precision         0.9668720960617065\n",
      "       Test/Recall           0.967934787273407\n",
      "   TestEpoch/Accuracy       0.9681002497673035\n",
      "    TestEpoch/F1Score       0.9674899578094482\n",
      "   TestEpoch/Precision      0.9670320749282837\n",
      "    TestEpoch/Recall        0.9681002497673035\n",
      "────────────────────────────────────────────────────────────────────────────────────────────────────────────────────────\n"
     ]
    },
    {
     "data": {
      "text/plain": [
       "[{'Test/Loss': 0.1785883903503418,\n",
       "  'Test/Accuracy': 0.967934787273407,\n",
       "  'Test/Precision': 0.9668720960617065,\n",
       "  'Test/Recall': 0.967934787273407,\n",
       "  'Test/F1Score': 0.9671220183372498,\n",
       "  'TestEpoch/Accuracy': 0.9681002497673035,\n",
       "  'TestEpoch/Precision': 0.9670320749282837,\n",
       "  'TestEpoch/Recall': 0.9681002497673035,\n",
       "  'TestEpoch/F1Score': 0.9674899578094482}]"
      ]
     },
     "execution_count": 17,
     "metadata": {},
     "output_type": "execute_result"
    }
   ],
   "source": [
    "print(checkpoint_callback.best_model_path)   # prints path to the best model's checkpoint\n",
    "print(checkpoint_callback.best_model_score) # and prints it score\n",
    "best_model = MalwaresModelLinearLayer.load_from_checkpoint(checkpoint_callback.best_model_path, input_size = vectors.shape[1]-1, output_size = len(label_encoder.classes_))\n",
    "\n",
    "trainer.test(best_model, dataloaders=val_dataloader)"
   ]
  },
  {
   "cell_type": "code",
   "execution_count": 18,
   "metadata": {},
   "outputs": [
    {
     "name": "stdout",
     "output_type": "stream",
     "text": [
      "Feature importance based on weights:\n",
      "Rank 1: Feature 227pipe2 with weight -0.2404422163963318\n",
      "Rank 2: Feature 259exit_group with weight 0.17754817008972168\n",
      "Rank 3: Feature 85sched:sched_process_free with weight -0.7627748847007751\n",
      "Rank 4: Feature 216lstat64 with weight -0.4018964469432831\n",
      "Rank 5: Feature 111ext4:ext4_releasepage_RES_data with weight -0.11490052938461304\n",
      "Rank 6: Feature 121armv7_cortex_a15/l1d_cache_refill/ with weight -1.2272144556045532\n",
      "Rank 7: Feature 249read with weight -0.7269622683525085\n",
      "Rank 8: Feature 51ext4:ext4_da_update_reserve_space_FLS_data with weight 0.2048231065273285\n",
      "Rank 9: Feature 268rmdir with weight 0.19163142144680023\n",
      "Rank 10: Feature 24writeback:sb_clear_inode_writeback_FLS_data with weight 0.1829730123281479\n",
      "Rank 11: Feature 128net_in with weight 0.22643423080444336\n",
      "Rank 12: Feature 91timer:timer_start_KERN_data with weight -0.19433967769145966\n",
      "Rank 13: Feature 82tcp:tcp_probe_KERN_data with weight 0.4542008638381958\n",
      "Rank 14: Feature 217mprotect with weight -0.24858656525611877\n",
      "Rank 15: Feature 123timer:timer_start_RES_data with weight 0.15726245939731598\n",
      "Rank 16: Feature 278epoll_wait with weight -1.378872275352478\n",
      "Rank 17: Feature 100signal:signal_deliver with weight -0.5267458558082581\n",
      "Rank 18: Feature 287getegid32 with weight -0.3272359073162079\n",
      "Rank 19: Feature 90sched:sched_process_wait with weight -0.6411038041114807\n",
      "Rank 20: Feature 177task:task_newtask_RES_data with weight -0.8885824084281921\n",
      "Rank 21: Feature 48ext4:ext4_journal_start_FLS_data with weight -0.0726572647690773\n",
      "Rank 22: Feature 19filemap:mm_filemap_add_to_page_cache_FLS_data with weight -0.003834097646176815\n",
      "Rank 23: Feature 108signal:signal_generate with weight -0.7102072238922119\n",
      "Rank 24: Feature 65sched:sched_process_exec_KERN_data with weight -1.2411017417907715\n",
      "Rank 25: Feature 0writeback:writeback_dirty_inode_FLS_data with weight -0.015307136811316013\n",
      "Rank 26: Feature 301dup2 with weight -0.664131224155426\n",
      "Rank 27: Feature 98qdisc:qdisc_dequeue with weight 0.057099826633930206\n",
      "Rank 28: Feature 193timer:timer_cancel with weight 0.12337221205234528\n",
      "Rank 29: Feature 37ext4:ext4_ext_remove_space_done with weight -0.2540357708930969\n",
      "Rank 30: Feature 273getsockopt with weight 0.012601464055478573\n",
      "Rank 31: Feature 54writeback:writeback_dirty_inode_KERN_data with weight 0.015369616448879242\n",
      "Rank 32: Feature 44ext4:ext4_begin_ordered_truncate with weight 0.09291163086891174\n",
      "Rank 33: Feature 76writeback:global_dirty_state_KERN_data with weight 0.10863494873046875\n",
      "Rank 34: Feature 33ext4:ext4_es_lookup_extent_exit with weight -0.8974860906600952\n",
      "Rank 35: Feature 77qdisc:qdisc_dequeue.1 with weight -0.020358284935355186\n",
      "Rank 36: Feature 192irq:softirq_exit with weight 0.086155466735363\n",
      "Rank 37: Feature 14jbd2:jbd2_handle_start_FLS_data with weight -0.11259041726589203\n",
      "Rank 38: Feature 184tcp:tcp_probe_RES_data with weight 0.5021599531173706\n",
      "Rank 39: Feature 60task:task_newtask_KERN_data with weight -0.7313875555992126\n",
      "Rank 40: Feature 270chown32 with weight -0.05284180864691734\n",
      "Rank 41: Feature 18writeback:global_dirty_state_FLS_data with weight 0.24638566374778748\n",
      "Rank 42: Feature 5ext4:ext4_ext_remove_space with weight -0.17866209149360657\n",
      "Rank 43: Feature 265execve with weight -1.458857774734497\n",
      "Rank 44: Feature 146jbd2:jbd2_handle_stats_RES_data with weight -0.18404346704483032\n",
      "Rank 45: Feature 246clone with weight -0.13748988509178162\n",
      "Rank 46: Feature 239sigreturn with weight -4.214224338531494\n",
      "Rank 47: Feature 109block:block_touch_buffer_KERN_data with weight 0.1614294946193695\n",
      "Rank 48: Feature 53block:block_touch_buffer_FLS_data with weight -0.02571851573884487\n",
      "Rank 49: Feature 291getxattr with weight -0.4104805290699005\n",
      "Rank 50: Feature 155sched:sched_process_exec_RES_data with weight -1.5202109813690186\n",
      "Rank 51: Feature 236capget with weight -0.09774721413850784\n",
      "Rank 52: Feature 180timer:timer_init with weight -0.5053989291191101\n",
      "Rank 53: Feature 299recv with weight 0.5589917302131653\n",
      "Rank 54: Feature 182filemap:mm_filemap_add_to_page_cache_RES_data with weight -0.08339928090572357\n",
      "Rank 55: Feature 92writeback:writeback_dirty_page_KERN_data with weight -0.23751769959926605\n",
      "Rank 56: Feature 79filemap:mm_filemap_add_to_page_cache_KERN_data with weight -0.10389000922441483\n",
      "Rank 57: Feature 150block:block_touch_buffer_RES_data with weight -0.059141870588064194\n",
      "Rank 58: Feature 8ext4:ext4_releasepage_FLS_data with weight -0.11664604395627975\n",
      "Rank 59: Feature 302mmap2 with weight -0.26000410318374634\n",
      "Rank 60: Feature 285sendmsg with weight -0.25580543279647827\n",
      "Rank 61: Feature 129armv7_cortex_a15/bus_cycles/ with weight 0.37451502680778503\n",
      "Rank 62: Feature 7ext4:ext4_mark_inode_dirty with weight -0.13713164627552032\n",
      "Rank 63: Feature 36ext4:ext4_es_insert_delayed_block with weight -0.11977130174636841\n",
      "Rank 64: Feature 149ext4:ext4_da_update_reserve_space_RES_data with weight 0.6290426254272461\n",
      "Rank 65: Feature 120writeback:sb_clear_inode_writeback_RES_data with weight -0.011553476564586163\n",
      "Rank 66: Feature 70writeback:writeback_mark_inode_dirty_KERN_data with weight -0.008639288134872913\n",
      "Rank 67: Feature 12ext4:ext4_da_write_begin with weight -0.06295036524534225\n",
      "Rank 68: Feature 86random:get_random_bytes with weight -1.2611604928970337\n",
      "Rank 69: Feature 202(OLD) AverageLength with weight 0.9162205457687378\n",
      "Rank 70: Feature 131iowritebytes with weight -0.6028156876564026\n",
      "Rank 71: Feature 26ext4:ext4_writepages_result_FLS_data with weight 0.3320028483867645\n",
      "Rank 72: Feature 49ext4:ext4_truncate_exit with weight -0.1964787244796753\n",
      "Rank 73: Feature 219getpgrp with weight -0.13997943699359894\n",
      "Rank 74: Feature 141writeback:global_dirty_state_RES_data with weight 0.10498389601707458\n",
      "Rank 75: Feature 215close with weight -0.6481996178627014\n",
      "Rank 76: Feature 32writeback:writeback_dirty_inode_start with weight -0.03239596635103226\n",
      "Rank 77: Feature 25block:block_dirty_buffer_FLS_data with weight -0.11475172638893127\n",
      "Rank 78: Feature 47ext4:ext4_da_write_end with weight -0.05387626215815544\n",
      "Rank 79: Feature 83writeback:sb_clear_inode_writeback_KERN_data with weight 0.41813087463378906\n",
      "Rank 80: Feature 241rt_sigprocmask with weight 7.694342613220215\n",
      "Rank 81: Feature 200write_ops with weight -0.4202054440975189\n",
      "Rank 82: Feature 295pipe with weight 0.015943026170134544\n",
      "Rank 83: Feature 35writeback:writeback_dirty_page_FLS_data with weight -0.10049697756767273\n",
      "Rank 84: Feature 167ext4:ext4_es_lookup_extent_enter_RES_data with weight -0.24789516627788544\n",
      "Rank 85: Feature 243exit with weight 0.7450373768806458\n",
      "Rank 86: Feature 10ext4:ext4_ext_rm_leaf with weight -0.1577063649892807\n",
      "Rank 87: Feature 69fib:fib_table_lookup_KERN_data with weight -1.2169421911239624\n",
      "Rank 88: Feature 11block:block_rq_issue with weight -1.1734365224838257\n",
      "Rank 89: Feature 81block:block_dirty_buffer_KERN_data with weight -0.20427408814430237\n",
      "Rank 90: Feature 30ext4:ext4_invalidatepage with weight -0.059198569506406784\n",
      "Rank 91: Feature 20ext4:ext4_da_reserve_space with weight -0.13338406383991241\n",
      "Rank 92: Feature 144cache-misses with weight -1.5343502759933472\n",
      "Rank 93: Feature 183block:block_dirty_buffer_RES_data with weight -0.18515802919864655\n",
      "Rank 94: Feature 266send with weight -1.1832455396652222\n",
      "Rank 95: Feature 40jbd2:jbd2_handle_stats_FLS_data with weight -0.17953287065029144\n",
      "Rank 96: Feature 297capset with weight -0.6686422228813171\n",
      "Rank 97: Feature 130ext4:ext4_journal_start_RES_data with weight -0.0927111953496933\n",
      "Rank 98: Feature 134instructions with weight 0.5623034238815308\n",
      "Rank 99: Feature 28ext4:ext4_es_lookup_extent_enter_FLS_data with weight -0.9506537318229675\n",
      "Rank 100: Feature 39block:block_rq_complete with weight -1.181659460067749\n",
      "Rank 101: Feature 71jbd2:jbd2_handle_start_KERN_data with weight -0.08638980984687805\n",
      "Rank 102: Feature 168rpm:rpm_return_int with weight -0.07348590344190598\n",
      "Rank 103: Feature 21ext4:ext4_truncate_enter with weight -0.2447248250246048\n",
      "Rank 104: Feature 27block:block_unplug_FLS_data with weight -0.34396952390670776\n",
      "Rank 105: Feature 298brk with weight -4.35365629196167\n",
      "Rank 106: Feature 122ext4:ext4_writepages_result_RES_data with weight 0.6720396280288696\n",
      "Rank 107: Feature 191armv7_cortex_a15/bus_cycles/.1 with weight 0.3487522006034851\n",
      "Rank 108: Feature 160L1-dcache-load-misses with weight -1.4156742095947266\n",
      "Rank 109: Feature 189LLC-stores with weight -1.2101517915725708\n",
      "Rank 110: Feature 247getcwd with weight 0.42922085523605347\n",
      "Rank 111: Feature 52block:block_getrq_FLS_data with weight -1.1971204280853271\n",
      "Rank 112: Feature 159pkt_in with weight 0.4150867760181427\n",
      "Rank 113: Feature 88block:block_unplug_KERN_data with weight -0.695605993270874\n",
      "Rank 114: Feature 142branch-loads with weight 0.7605090737342834\n",
      "Rank 115: Feature 269clock_gettime with weight -0.1676439642906189\n",
      "Rank 116: Feature 13writeback:writeback_mark_inode_dirty_FLS_data with weight -0.007859188131988049\n",
      "Rank 117: Feature 6jbd2:jbd2_checkpoint_stats_FLS_data with weight -0.19926896691322327\n",
      "Rank 118: Feature 161iobusytime with weight -1.0920436382293701\n",
      "Rank 119: Feature 101skb:skb_copy_datagram_iovec with weight 0.22975735366344452\n",
      "Rank 120: Feature 300getdents64 with weight -0.5547229647636414\n",
      "Rank 121: Feature 238prlimit64 with weight -0.7739139795303345\n",
      "Rank 122: Feature 2jbd2:jbd2_drop_transaction with weight -0.28233832120895386\n",
      "Rank 123: Feature 59skb:consume_skb.1 with weight -0.03307594358921051\n",
      "Rank 124: Feature 293setresgid32 with weight -1.7901667356491089\n",
      "Rank 125: Feature 124napi:napi_poll with weight 0.26363006234169006\n",
      "Rank 126: Feature 263umask with weight -0.06668702512979507\n",
      "Rank 127: Feature 118block:block_bio_remap_RES_data with weight -2.4511992931365967\n",
      "Rank 128: Feature 147kmem:kmem_cache_alloc_RES_data with weight -0.9646848440170288\n",
      "Rank 129: Feature 257sendto with weight -0.8197458982467651\n",
      "Rank 130: Feature 133fib:fib_table_lookup_RES_data with weight -0.7168737649917603\n",
      "Rank 131: Feature 232open with weight -0.08195038884878159\n",
      "Rank 132: Feature 181L1-icache-load-misses with weight -0.3223615288734436\n",
      "Rank 133: Feature 31ext4:ext4_discard_preallocations with weight -0.2299208641052246\n",
      "Rank 134: Feature 99net:net_dev_xmit with weight -0.0027472705114632845\n",
      "Rank 135: Feature 58net:net_dev_queue with weight 0.027467112988233566\n",
      "Rank 136: Feature 78preemptirq:irq_enable with weight -0.4306342601776123\n",
      "Rank 137: Feature 119branch-instructions with weight 0.772262454032898\n",
      "Rank 138: Feature 56block:block_getrq_KERN_data with weight -1.9612150192260742\n",
      "Rank 139: Feature 96kmem:kmem_cache_alloc_KERN_data with weight -0.7049749493598938\n",
      "Rank 140: Feature 258wait4 with weight -0.863797664642334\n",
      "Rank 141: Feature 253rename with weight -0.0031955712474882603\n",
      "Rank 142: Feature 23block:block_bio_queue with weight -1.4794973134994507\n",
      "Rank 143: Feature 116armv7_cortex_a15/br_pred/ with weight 0.9382954835891724\n",
      "Rank 144: Feature 84gpio:gpio_value_KERN_data with weight -1.926673412322998\n",
      "Rank 145: Feature 296unlink with weight 0.8567787408828735\n",
      "Rank 146: Feature 102skb:consume_skb with weight -0.050669293850660324\n",
      "Rank 147: Feature 185iowrite with weight -2.0078418254852295\n",
      "Rank 148: Feature 224getsockname with weight -2.836604118347168\n",
      "Rank 149: Feature 4jbd2:jbd2_end_commit with weight -0.37048789858818054\n",
      "Rank 150: Feature 46ext4:ext4_unlink_exit with weight -1.4218196868896484\n",
      "Rank 151: Feature 179bus-cycles with weight 0.37674134969711304\n",
      "Rank 152: Feature 186armv7_cortex_a15/cpu_cycles/ with weight 0.5322668552398682\n",
      "Rank 153: Feature 140iowritetime with weight -2.500828504562378\n",
      "Rank 154: Feature 105workqueue:workqueue_activate_work with weight -0.5165616273880005\n",
      "Rank 155: Feature 115LLC-load-misses with weight 0.23965036869049072\n",
      "Rank 156: Feature 212lgetxattr with weight -0.046120960265398026\n",
      "Rank 157: Feature 214write with weight -0.576744794845581\n",
      "Rank 158: Feature 34jbd2:jbd2_handle_extend with weight -0.5252938866615295\n",
      "Rank 159: Feature 279munmap with weight -0.47599443793296814\n",
      "Rank 160: Feature 240setitimer with weight 0.23536182940006256\n",
      "Rank 161: Feature 143gpio:gpio_value_RES_data with weight -1.7913187742233276\n",
      "Rank 162: Feature 38block:block_rq_insert with weight -1.2747318744659424\n",
      "Rank 163: Feature 55jbd2:jbd2_start_commit_KERN_data with weight -2.5593178272247314\n",
      "Rank 164: Feature 97block:block_bio_backmerge_KERN_data with weight -3.1464409828186035\n",
      "Rank 165: Feature 235ioctl with weight 0.37440863251686096\n",
      "Rank 166: Feature 157armv7_cortex_a15/l1i_cache_refill/ with weight -0.1446855366230011\n",
      "Rank 167: Feature 43block:block_bio_backmerge_FLS_data with weight -1.7447649240493774\n",
      "Rank 168: Feature 50jbd2:jbd2_commit_flushing with weight -0.284353107213974\n",
      "Rank 169: Feature 154jbd2:jbd2_checkpoint_stats_RES_data with weight -2.0472660064697266\n",
      "Rank 170: Feature 62kmem:kmem_cache_free with weight -0.755793035030365\n",
      "Rank 171: Feature 286getgid32 with weight -0.5096787214279175\n",
      "Rank 172: Feature 22block:block_bio_remap_FLS_data with weight -1.501247525215149\n",
      "Rank 173: Feature 73irq:softirq_entry with weight -0.08297423273324966\n",
      "Rank 174: Feature 3jbd2:jbd2_commit_locking with weight -0.30771976709365845\n",
      "Rank 175: Feature 80block:block_bio_remap_KERN_data with weight -2.6373684406280518\n",
      "Rank 176: Feature 170armv7_cortex_a15/l2d_cache/ with weight -0.728975236415863\n",
      "Rank 177: Feature 201write_kbs with weight -3.118516445159912\n",
      "Rank 178: Feature 271epoll_create1 with weight 0.11867979168891907\n",
      "Rank 179: Feature 223connect with weight 0.3575011193752289\n",
      "Rank 180: Feature 29jbd2:jbd2_commit_logging with weight -0.2948351204395294\n",
      "Rank 181: Feature 138pkt_out with weight 0.11505126953125\n",
      "Rank 182: Feature 248setuid32 with weight 0.2889108657836914\n",
      "Rank 183: Feature 208setsid with weight 0.07723299413919449\n",
      "Rank 184: Feature 126page-faults_RES_data with weight -0.43103641271591187\n",
      "Rank 185: Feature 188cpu-cycles with weight 0.39341771602630615\n",
      "Rank 186: Feature 169ext4:ext4_unlink_enter_RES_data with weight -1.8214824199676514\n",
      "Rank 187: Feature 41jbd2:jbd2_run_stats with weight -0.36004215478897095\n",
      "Rank 188: Feature 1jbd2:jbd2_start_commit_FLS_data with weight -0.23362284898757935\n",
      "Rank 189: Feature 210ftruncate64 with weight -0.539976179599762\n",
      "Rank 190: Feature 42ext4:ext4_unlink_enter_FLS_data with weight -1.5065325498580933\n",
      "Rank 191: Feature 288geteuid32 with weight 0.24133270978927612\n",
      "Rank 192: Feature 261gettimeofday with weight -0.2241882085800171\n",
      "Rank 193: Feature 63random:urandom_read with weight 0.9116809368133545\n",
      "Rank 194: Feature 294accept4 with weight -0.04071204736828804\n",
      "Rank 195: Feature 250set_robust_list with weight -0.3743687570095062\n",
      "Rank 196: Feature 15ext4:ext4_free_inode_FLS_data with weight -2.2057645320892334\n",
      "Rank 197: Feature 135ext4:ext4_free_inode_RES_data with weight -2.342520236968994\n",
      "Rank 198: Feature 205mremap with weight -0.28570157289505005\n",
      "Rank 199: Feature 251waitid with weight -0.904137909412384\n",
      "Rank 200: Feature 303set_tid_address with weight -2.4411869049072266\n",
      "Rank 201: Feature 203(OLD) VarianceLength with weight -0.008696443401277065\n",
      "Rank 202: Feature 187kmem:mm_page_free_RES_data with weight -0.17422159016132355\n",
      "Rank 203: Feature 282prctl with weight -0.5863253474235535\n",
      "Rank 204: Feature 117armv7_cortex_a15/l1i_cache/ with weight 0.7176347970962524\n",
      "Rank 205: Feature 199util with weight 1.1329597234725952\n",
      "Rank 206: Feature 72kmem:kmalloc with weight -0.5672193765640259\n",
      "Rank 207: Feature 276poll with weight -3.2111892700195312\n",
      "Rank 208: Feature 245recvfrom with weight -0.635507345199585\n",
      "Rank 209: Feature 195armv7_cortex_a15/l2d_cache_wb/ with weight 0.9876026511192322\n",
      "Rank 210: Feature 166sched:sched_stat_runtime with weight -0.5168591737747192\n",
      "Rank 211: Feature 262epoll_ctl with weight -0.6373974680900574\n",
      "Rank 212: Feature 244inotify_add_watch with weight -0.22366179525852203\n",
      "Rank 213: Feature 234socket with weight 0.25705456733703613\n",
      "Rank 214: Feature 152minor-faults with weight -0.518886387348175\n",
      "Rank 215: Feature 16filemap:mm_filemap_delete_from_page_cache_FLS_data with weight 0.566766083240509\n",
      "Rank 216: Feature 136write_merge with weight -3.485367774963379\n",
      "Rank 217: Feature 264sigaltstack with weight -0.9554171562194824\n",
      "Rank 218: Feature 218access with weight -0.4905349016189575\n",
      "Rank 219: Feature 145cpu with weight 0.5395651459693909\n",
      "Rank 220: Feature 137filemap:mm_filemap_delete_from_page_cache_RES_data with weight 0.16204434633255005\n",
      "Rank 221: Feature 231dup3 with weight -0.6236605644226074\n",
      "Rank 222: Feature 172LLC-store-misses with weight 1.0660151243209839\n",
      "Rank 223: Feature 280openat with weight -0.28787773847579956\n",
      "Rank 224: Feature 153kmem:kfree_RES_data with weight -0.7644941210746765\n",
      "Rank 225: Feature 162LLC-loads with weight -0.679054856300354\n",
      "Rank 226: Feature 221fchmod with weight -0.5917372107505798\n",
      "Rank 227: Feature 292rt_sigaction with weight -0.506607174873352\n",
      "Rank 228: Feature 237readlink with weight 0.6426926851272583\n",
      "Rank 229: Feature 229madvise with weight 7.086817741394043\n",
      "Rank 230: Feature 272fstat64 with weight 0.047819677740335464\n",
      "Rank 231: Feature 233sysinfo with weight -3.092604637145996\n",
      "Rank 232: Feature 256getpeername with weight -0.11567609012126923\n",
      "Rank 233: Feature 207chdir with weight -0.7737858295440674\n",
      "Rank 234: Feature 213stat64 with weight 0.12782053649425507\n",
      "Rank 235: Feature 260llseek with weight 0.10872703045606613\n",
      "Rank 236: Feature 255readlinkat with weight 0.1312522292137146\n",
      "Rank 237: Feature 252writev with weight -1.3465675115585327\n",
      "Rank 238: Feature 87cs with weight -0.4480578899383545\n",
      "Rank 239: Feature 151workqueue:workqueue_execute_start with weight -0.08558033406734467\n",
      "Rank 240: Feature 281setxattr with weight -0.1640959233045578\n",
      "Rank 241: Feature 57kmem:kfree_KERN_data with weight -0.7450864911079407\n",
      "Rank 242: Feature 171sched:sched_waking with weight -0.6198652982711792\n",
      "Rank 243: Feature 94page-faults_KERN_data with weight 0.20575815439224243\n",
      "Rank 244: Feature 242setgroups32 with weight -0.5838662385940552\n",
      "Rank 245: Feature 277shutdown with weight -0.24291132390499115\n",
      "Rank 246: Feature 127pagemap:mm_lru_activate with weight -0.45316460728645325\n",
      "Rank 247: Feature 226kcmp with weight -2.6321914196014404\n",
      "Rank 248: Feature 267uname with weight -0.09763640910387039\n",
      "Rank 249: Feature 125context-switches with weight -0.5732298493385315\n",
      "Rank 250: Feature 228getuid32 with weight -0.29300010204315186\n",
      "Rank 251: Feature 284setsockopt with weight 0.21669557690620422\n",
      "Rank 252: Feature 209getpid with weight 0.3375927805900574\n",
      "Rank 253: Feature 230mkdir with weight 0.3298962116241455\n",
      "Rank 254: Feature 175armv7_cortex_a15/l1d_cache/ with weight 0.6120299100875854\n",
      "Rank 255: Feature 132seconds_RES_data with weight -1.0932912826538086\n",
      "Rank 256: Feature 194L1-icache-loads with weight 0.4348704516887665\n",
      "Rank 257: Feature 206pause with weight -0.6158348321914673\n",
      "Rank 258: Feature 113branch-load-misses with weight 0.9555496573448181\n",
      "Rank 259: Feature 222sched_yield with weight -3.1379928588867188\n",
      "Rank 260: Feature 75writeback:writeback_dirty_inode_enqueue_KERN_data with weight -0.8077223896980286\n",
      "Rank 261: Feature 220timerfd_create with weight -0.5325790047645569\n",
      "Rank 262: Feature 254dup with weight 0.05306714400649071\n",
      "Rank 263: Feature 289newselect with weight -0.09633029997348785\n",
      "Rank 264: Feature 106pagemap:mm_lru_insertion with weight 0.43344753980636597\n",
      "Rank 265: Feature 112armv7_cortex_a15/exc_taken/ with weight 0.3155035674571991\n",
      "Rank 266: Feature 17writeback:writeback_dirty_inode_enqueue_FLS_data with weight -0.9290791749954224\n",
      "Rank 267: Feature 198L1-dcache-stores with weight 0.3419193625450134\n",
      "Rank 268: Feature 139L1-dcache-loads with weight 0.5740141272544861\n",
      "Rank 269: Feature 156kmem:mm_page_alloc_zone_locked_RES_data with weight -0.5642574429512024\n",
      "Rank 270: Feature 173iTLB-load-misses with weight 0.05515781790018082\n",
      "Rank 271: Feature 107cpu-migrations_KERN_data with weight 0.3903522491455078\n",
      "Rank 272: Feature 89kmem:mm_page_free_KERN_data with weight 0.24860362708568573\n",
      "Rank 273: Feature 67seconds_KERN_data with weight 0.9133337140083313\n",
      "Rank 274: Feature 225statfs64 with weight -0.41418391466140747\n",
      "Rank 275: Feature 74sched:sched_switch with weight -0.45883217453956604\n",
      "Rank 276: Feature 9seconds_FLS_data with weight 0.29109421372413635\n",
      "Rank 277: Feature 290fstatat64 with weight -1.8692958354949951\n",
      "Rank 278: Feature 93kmem:mm_page_pcpu_drain with weight 0.16459602117538452\n",
      "Rank 279: Feature 274faccessat with weight -0.5128511190414429\n",
      "Rank 280: Feature 204label with weight -0.7653587460517883\n",
      "Rank 281: Feature 174dTLB-load-misses with weight 1.0126339197158813\n",
      "Rank 282: Feature 283setresuid32 with weight 0.15307384729385376\n",
      "Rank 283: Feature 211ugetrlimit with weight -3.8562211990356445\n",
      "Rank 284: Feature 61timer:hrtimer_start with weight -0.6063951253890991\n",
      "Rank 285: Feature 304getppid with weight 0.29772159457206726\n",
      "Rank 286: Feature 104skb:kfree_skb.1 with weight 0.9288851618766785\n",
      "Rank 287: Feature 66kmem:mm_page_alloc with weight 0.25185561180114746\n",
      "Rank 288: Feature 196armv7_cortex_a15/l1i_tlb_refill/ with weight 0.34125879406929016\n",
      "Rank 289: Feature 176cpu-migrations_RES_data with weight 0.11127278953790665\n",
      "Rank 290: Feature 197memory with weight -1.01024329662323\n",
      "Rank 291: Feature 64irq:irq_handler_entry with weight -0.4338477849960327\n",
      "Rank 292: Feature 103sched:sched_wakeup with weight -0.5311394333839417\n",
      "Rank 293: Feature 114dTLB-store-misses with weight -0.7694969773292542\n",
      "Rank 294: Feature 163armv7_cortex_a15/br_mis_pred/ with weight 0.793377161026001\n",
      "Rank 295: Feature 110branch-misses with weight 0.8023436665534973\n",
      "Rank 296: Feature 164armv7_cortex_a15/l1d_tlb_refill/ with weight 1.2120695114135742\n",
      "Rank 297: Feature 165cache-references with weight 0.5225787162780762\n",
      "Rank 298: Feature 275timerfd_settime with weight -0.2971423268318176\n",
      "Rank 299: Feature 148net_out with weight 0.45923250913619995\n",
      "Rank 300: Feature 178armv7_cortex_a15/mem_access/ with weight 0.8144057989120483\n",
      "Rank 301: Feature 45ext4:ext4_readpage with weight -3.542560338973999\n",
      "Rank 302: Feature 68kmem:mm_page_alloc_zone_locked_KERN_data with weight -0.07244078069925308\n",
      "Rank 303: Feature 190timer:tick_stop with weight 1.1873427629470825\n",
      "Rank 304: Feature 158armv7_cortex_a15/exc_return/ with weight 0.2919028103351593\n",
      "Rank 305: Feature 95skb:kfree_skb with weight 0.9423717856407166\n"
     ]
    }
   ],
   "source": [
    "# Extract the weights from the linear layer\n",
    "weights = best_model.l1.weight.data\n",
    "\n",
    "# Convert to numpy array for easier manipulation\n",
    "weights_np = weights.numpy()\n",
    "\n",
    "# Calculate the absolute values of the weights\n",
    "abs_weights = abs(weights_np)\n",
    "\n",
    "# Get the indices of the top features based on weight magnitude\n",
    "top_features = abs_weights.argsort()[::-1]\n",
    "\n",
    "# Print the top features\n",
    "print(\"Feature importance based on weights:\")\n",
    "for i, feature_idx in enumerate(top_features[0]):\n",
    "    feature_name = df.columns[feature_idx]\n",
    "    print(f\"Rank {i+1}: Feature {feature_idx}{feature_name} with weight {weights_np[0][feature_idx]}\")\n"
   ]
  },
  {
   "cell_type": "code",
   "execution_count": 19,
   "metadata": {},
   "outputs": [
    {
     "data": {
      "image/png": "[encoded data removed]",
      "text/plain": [
       "<Figure size 1000x600 with 1 Axes>"
      ]
     },
     "metadata": {},
     "output_type": "display_data"
    }
   ],
   "source": [
    "import matplotlib.pyplot as plt\n",
    "\n",
    "# Convert to numpy array for easier manipulation\n",
    "weights_np = weights.numpy().flatten()  # Flatten to 1D array\n",
    "\n",
    "# Calculate the absolute values of the weights\n",
    "abs_weights = np.abs(weights_np)\n",
    "\n",
    "# Get the indices of the top features based on weight magnitude\n",
    "top_features = abs_weights.argsort()[::-1]\n",
    "\n",
    "# Plotting\n",
    "plt.figure(figsize=(10, 6))\n",
    "plt.bar(range(len(weights_np)), abs_weights[top_features])\n",
    "plt.xlabel('Feature Index')\n",
    "plt.ylabel('Absolute Weight')\n",
    "plt.title('Feature Importance Based on Linear Layer Weights')\n",
    "plt.xticks(range(len(weights_np)), top_features, rotation=90)\n",
    "plt.show()"
   ]
  },
  {
   "cell_type": "code",
   "execution_count": 20,
   "metadata": {},
   "outputs": [],
   "source": [
    "weights = best_model.l1.weight.data.numpy()\n",
    "abs_weights = np.abs(weights.flatten())"
   ]
  },
  {
   "cell_type": "code",
   "execution_count": 21,
   "metadata": {},
   "outputs": [
    {
     "data": {
      "image/png": "[encoded data removed]",
      "text/plain": [
       "<Figure size 1500x2500 with 9 Axes>"
      ]
     },
     "metadata": {},
     "output_type": "display_data"
    }
   ],
   "source": [
    "nrows = weights.shape[0]\n",
    "xrows = weights.shape[1]\n",
    "\n",
    "fig, axes = plt.subplots(nrows=nrows, ncols=1, figsize=(15, 25), sharex=True)\n",
    "\n",
    "for i in range(nrows):\n",
    "    axes[i].bar(range(xrows), abs_weights[i*xrows:(i+1)*xrows])\n",
    "    axes[i].set_title(f'Feature Importance for Class {i}')\n",
    "    axes[i].set_ylabel('Absolute Weight')\n",
    "\n",
    "plt.xlabel('Feature Index')\n",
    "plt.show()"
   ]
  },
  {
   "cell_type": "markdown",
   "metadata": {},
   "source": [
    "### Plotting Mean over Classes"
   ]
  },
  {
   "cell_type": "code",
   "execution_count": 22,
   "metadata": {},
   "outputs": [],
   "source": [
    "from sklearn.preprocessing import minmax_scale\n",
    "\n",
    "scaled_weights = minmax_scale(weights, axis=0)\n",
    "weights_mean = np.abs(scaled_weights).mean(axis=0)"
   ]
  },
  {
   "cell_type": "code",
   "execution_count": 23,
   "metadata": {},
   "outputs": [],
   "source": [
    "sorted_idx = weights_mean.argsort()[::-1]"
   ]
  },
  {
   "cell_type": "code",
   "execution_count": 24,
   "metadata": {},
   "outputs": [
    {
     "data": {
      "image/png": "[encoded data removed]",
      "text/plain": [
       "<Figure size 1000x600 with 1 Axes>"
      ]
     },
     "metadata": {},
     "output_type": "display_data"
    }
   ],
   "source": [
    "plt.figure(figsize=(10, 6))\n",
    "plt.bar(range(len(weights_mean[sorted_idx])), weights_mean[sorted_idx])\n",
    "plt.xlabel('Feature Index')\n",
    "plt.ylabel('Absolute Weight')\n",
    "plt.title('Feature Importance Based on Linear Layer Weights')\n",
    "# plt.xticks(sorted_idx, sorted_idx, rotation=90)\n",
    "plt.show()"
   ]
  },
  {
   "cell_type": "code",
   "execution_count": 25,
   "metadata": {},
   "outputs": [
    {
     "data": {
      "image/png": "[encoded data removed]",
      "text/plain": [
       "<Figure size 1000x600 with 1 Axes>"
      ]
     },
     "metadata": {},
     "output_type": "display_data"
    }
   ],
   "source": [
    "top_k = 50\n",
    "\n",
    "plt.figure(figsize=(10, 6))\n",
    "plt.bar(range(len(weights_mean[sorted_idx[:top_k]])), weights_mean[sorted_idx[:top_k]])\n",
    "plt.xlabel('Feature Index')\n",
    "plt.ylabel('Absolute Weight')\n",
    "plt.title('Feature Importance Based on Linear Layer Weights')\n",
    "# plt.xticks(sorted_idx[:20], sorted_idx[:20], rotation=90)\n",
    "plt.show()"
   ]
  },
  {
   "cell_type": "markdown",
   "metadata": {},
   "source": [
    "### Plotting top k per class"
   ]
  },
  {
   "cell_type": "code",
   "execution_count": 26,
   "metadata": {},
   "outputs": [],
   "source": [
    "topk = 4"
   ]
  },
  {
   "cell_type": "code",
   "execution_count": 27,
   "metadata": {},
   "outputs": [
    {
     "data": {
      "text/plain": [
       "(9, 4)"
      ]
     },
     "execution_count": 27,
     "metadata": {},
     "output_type": "execute_result"
    }
   ],
   "source": [
    "topk_indices = weights.argpartition( -topk, axis=1)[:, -topk:]\n",
    "topk_indices.shape"
   ]
  },
  {
   "cell_type": "code",
   "execution_count": 28,
   "metadata": {},
   "outputs": [
    {
     "data": {
      "text/plain": [
       "(9, 4)"
      ]
     },
     "execution_count": 28,
     "metadata": {},
     "output_type": "execute_result"
    }
   ],
   "source": [
    "topk_indices_sorted = np.take_along_axis(topk_indices, np.argsort(-weights[np.arange(weights.shape[0])[:, None], topk_indices]), axis=1)\n",
    "topk_indices_sorted.shape"
   ]
  },
  {
   "cell_type": "code",
   "execution_count": 29,
   "metadata": {},
   "outputs": [
    {
     "data": {
      "text/plain": [
       "(36,)"
      ]
     },
     "execution_count": 29,
     "metadata": {},
     "output_type": "execute_result"
    }
   ],
   "source": [
    "selected_features = np.array(list(set(topk_indices_sorted.flatten())))\n",
    "selected_features.shape"
   ]
  },
  {
   "cell_type": "code",
   "execution_count": 30,
   "metadata": {},
   "outputs": [
    {
     "data": {
      "image/png": "[encoded data removed]",
      "text/plain": [
       "<Figure size 1000x600 with 1 Axes>"
      ]
     },
     "metadata": {},
     "output_type": "display_data"
    }
   ],
   "source": [
    "plt.figure(figsize=(10, 6))\n",
    "plt.bar(range(len(weights_mean[selected_features])), weights_mean[selected_features])\n",
    "plt.xlabel('Feature Index')\n",
    "plt.ylabel('Absolute Weight')\n",
    "plt.title('Feature Importance Based on Linear Layer Weights')\n",
    "# plt.xticks(sorted_idx[:20], sorted_idx[:20], rotation=90)\n",
    "plt.show()"
   ]
  },
  {
   "cell_type": "markdown",
   "metadata": {},
   "source": [
    "### Train again"
   ]
  },
  {
   "cell_type": "code",
   "execution_count": 31,
   "metadata": {},
   "outputs": [
    {
     "data": {
      "text/plain": [
       "(13228, 36)"
      ]
     },
     "execution_count": 31,
     "metadata": {},
     "output_type": "execute_result"
    }
   ],
   "source": [
    "vectors.iloc[:,selected_features].shape"
   ]
  },
  {
   "cell_type": "code",
   "execution_count": 32,
   "metadata": {},
   "outputs": [
    {
     "name": "stderr",
     "output_type": "stream",
     "text": [
      "/tmp/ipykernel_157994/650136668.py:2: SettingWithCopyWarning: \n",
      "A value is trying to be set on a copy of a slice from a DataFrame.\n",
      "Try using .loc[row_indexer,col_indexer] = value instead\n",
      "\n",
      "See the caveats in the documentation: https://pandas.pydata.org/pandas-docs/stable/user_guide/indexing.html#returning-a-view-versus-a-copy\n",
      "  subset[\"label\"] = df[\"label\"]\n"
     ]
    }
   ],
   "source": [
    "subset = vectors.iloc[:,selected_features]\n",
    "subset[\"label\"] = df[\"label\"]"
   ]
  },
  {
   "cell_type": "code",
   "execution_count": 33,
   "metadata": {},
   "outputs": [
    {
     "name": "stderr",
     "output_type": "stream",
     "text": [
      "GPU available: True (cuda), used: True\n",
      "TPU available: False, using: 0 TPU cores\n",
      "IPU available: False, using: 0 IPUs\n",
      "HPU available: False, using: 0 HPUs\n"
     ]
    }
   ],
   "source": [
    "# split into train and val\n",
    "train, val = train_test_split(subset, test_size=0.2, random_state=SEED)\n",
    "\n",
    "train_dataset = CustomeDataset(train)\n",
    "train_dataloader = DataLoader(train_dataset, batch_size=500, shuffle=True, num_workers=7)\n",
    "\n",
    "val_dataset = CustomeDataset(val)\n",
    "val_dataloader = DataLoader(val_dataset, batch_size=500, shuffle=False, num_workers=7)\n",
    "\n",
    "# trainer = lightning.Trainer(fast_dev_run=100)\n",
    "monitor = \"Validation/Accuracy\"\n",
    "early_stop_callback = EarlyStopping(monitor=monitor, patience=5, verbose=True, mode=\"max\")\n",
    "checkpoint_callback = ModelCheckpoint(save_top_k=1, monitor=monitor, mode=\"max\")\n",
    "\n",
    "tensorboard = pl_loggers.TensorBoardLogger(save_dir=LOG_PATH, name=LOG_NAME_EXPERIMENT_2)\n",
    "trainer = lightning.Trainer(max_epochs=150, callbacks=[early_stop_callback, checkpoint_callback], enable_checkpointing=True, logger=tensorboard) #logger=None, \n",
    "\n",
    "\n",
    "model = MalwaresModelLinearLayer(input_size = subset.shape[1]-1, output_size = len(label_encoder.classes_), seed=SEED)\n",
    "\n",
    "torch.manual_seed(SEED)\n",
    "torch.cuda.manual_seed_all(SEED)\n"
   ]
  },
  {
   "cell_type": "code",
   "execution_count": 34,
   "metadata": {},
   "outputs": [
    {
     "name": "stderr",
     "output_type": "stream",
     "text": [
      "LOCAL_RANK: 0 - CUDA_VISIBLE_DEVICES: [0]\n",
      "\n",
      "  | Name          | Type                      | Params\n",
      "------------------------------------------------------------\n",
      "0 | train_metrics | MetricCollection          | 0     \n",
      "1 | val_metrics   | MetricCollection          | 0     \n",
      "2 | test_metrics  | MetricCollection          | 0     \n",
      "3 | cm            | MulticlassConfusionMatrix | 0     \n",
      "4 | criterion     | CrossEntropyLoss          | 0     \n",
      "5 | l1            | Linear                    | 333   \n",
      "------------------------------------------------------------\n",
      "333       Trainable params\n",
      "0         Non-trainable params\n",
      "333       Total params\n",
      "0.001     Total estimated model params size (MB)\n"
     ]
    },
    {
     "data": {
      "application/vnd.jupyter.widget-view+json": {
       "model_id": "6159e07abce84029819c903e10f6903a",
       "version_major": 2,
       "version_minor": 0
      },
      "text/plain": [
       "Sanity Checking: |          | 0/? [00:00<?, ?it/s]"
      ]
     },
     "metadata": {},
     "output_type": "display_data"
    },
    {
     "name": "stdout",
     "output_type": "stream",
     "text": [
      "Epoch end: Validation, epoch number: 0\n",
      "ValidationEpoch/CM\n",
      " tensor([[  0,   0,   0,   0,   0,   0, 120,   0,   0],\n",
      "        [  0,   0,   0,   0,   0,   0,   0,   0,  89],\n",
      "        [  0,   0,   0,   0,   0,   0, 129,   0,   0],\n",
      "        [  0,   0,   0,   0,   0,   0, 116,   0,   0],\n",
      "        [  0,   0,   0,   0,   0,   0, 123,   0,   0],\n",
      "        [  0,   0,   0,   0,   0,   0,  92,   0,   0],\n",
      "        [  0,   0,   0,   0,   0,   0, 120,   0,   0],\n",
      "        [  0,   0,   0,   0,   0,   0,   0,   0,  82],\n",
      "        [  2,   0,   0,   0,   0,   0, 127,   0,   0]])\n"
     ]
    },
    {
     "name": "stderr",
     "output_type": "stream",
     "text": [
      "/home/<User>/repos/csg_is/.venv/lib/python3.10/site-packages/lightning/pytorch/loops/fit_loop.py:298: The number of training batches (22) is smaller than the logging interval Trainer(log_every_n_steps=50). Set a lower value for log_every_n_steps if you want to see logs for the training epoch.\n"
     ]
    },
    {
     "data": {
      "application/vnd.jupyter.widget-view+json": {
       "model_id": "4fa00185c3c24a92bae27cc8c3102c6a",
       "version_major": 2,
       "version_minor": 0
      },
      "text/plain": [
       "Training: |          | 0/? [00:00<?, ?it/s]"
      ]
     },
     "metadata": {},
     "output_type": "display_data"
    },
    {
     "data": {
      "application/vnd.jupyter.widget-view+json": {
       "model_id": "67b63cd85b3641c6af24ff04ebf66663",
       "version_major": 2,
       "version_minor": 0
      },
      "text/plain": [
       "Validation: |          | 0/? [00:00<?, ?it/s]"
      ]
     },
     "metadata": {},
     "output_type": "display_data"
    },
    {
     "name": "stdout",
     "output_type": "stream",
     "text": [
      "Epoch end: Validation, epoch number: 1\n",
      "ValidationEpoch/CM\n",
      " tensor([[   0,   24,  941,    0,    6,   28,  474,   37,    0],\n",
      "        [   0, 1267,    0,    0,    0,    0,    0,    0,  282],\n",
      "        [   0,   10, 1029,    0,    0,   64,  551,  201,    2],\n",
      "        [   0,   17, 1025,    0,    6,   16,  462,   30,    0],\n",
      "        [   0,   39,  761,    0,  299,    2,  459,    3,    0],\n",
      "        [   0,   84,   10,    0,    0,  517,  328,  593,    0],\n",
      "        [   0,    6,  897,    0,    3,   59,  481,  119,    0],\n",
      "        [   0,  198,    0,    0,    0,   87,    0,  973,  264],\n",
      "        [   2,  246,    0,    0,    0,    0,  316,    0, 1010]])\n",
      "Epoch end: Train, epoch number: 0\n",
      "TrainEpoch/CM\n",
      " tensor([[   0,   24,  941,    0,    6,   28,  474,   37,    0],\n",
      "        [   0, 1267,    0,    0,    0,    0,    0,    0,  282],\n",
      "        [   0,   10, 1029,    0,    0,   64,  551,  201,    2],\n",
      "        [   0,   17, 1025,    0,    6,   16,  462,   30,    0],\n",
      "        [   0,   39,  761,    0,  299,    2,  459,    3,    0],\n",
      "        [   0,   84,   10,    0,    0,  517,  328,  593,    0],\n",
      "        [   0,    6,  897,    0,    3,   59,  481,  119,    0],\n",
      "        [   0,  198,    0,    0,    0,   87,    0,  973,  264],\n",
      "        [   2,  246,    0,    0,    0,    0,  316,    0, 1010]])\n"
     ]
    },
    {
     "name": "stderr",
     "output_type": "stream",
     "text": [
      "Metric Validation/Accuracy improved. New best score: 0.604\n"
     ]
    },
    {
     "data": {
      "application/vnd.jupyter.widget-view+json": {
       "model_id": "afb4e7ece55b4f78866961e0fc8c06f1",
       "version_major": 2,
       "version_minor": 0
      },
      "text/plain": [
       "Validation: |          | 0/? [00:00<?, ?it/s]"
      ]
     },
     "metadata": {},
     "output_type": "display_data"
    },
    {
     "name": "stdout",
     "output_type": "stream",
     "text": [
      "Epoch end: Validation, epoch number: 2\n",
      "ValidationEpoch/CM\n",
      " tensor([[   0,   24, 2290,    0,   47,   28,  474,   37,    0],\n",
      "        [   0, 2727,    0,    0,    0,    0,    0,    0,  282],\n",
      "        [   0,   22, 2745,    0,    0,   64,  551,  201,    2],\n",
      "        [   0,   17, 2416,    5,   46,   16,  466,   30,    0],\n",
      "        [   0,   39,  894,    0, 1606,    2,  459,    3,    0],\n",
      "        [   0,   97,  227,    0,    0, 1690,  328,  630,    0],\n",
      "        [   0,    6, 2331,    0,   14,   59,  481,  119,    0],\n",
      "        [   0,  198,    0,    0,    0,   87,    0, 2413,  264],\n",
      "        [   2,  246,    0,    0,    0,    0,  316,    0, 2455]])\n"
     ]
    },
    {
     "name": "stderr",
     "output_type": "stream",
     "text": [
      "Metric Validation/Accuracy improved by 0.048 >= min_delta = 0.0. New best score: 0.652\n"
     ]
    },
    {
     "name": "stdout",
     "output_type": "stream",
     "text": [
      "Epoch end: Train, epoch number: 1\n",
      "TrainEpoch/CM\n",
      " tensor([[   0,   24, 2290,    0,   47,   28,  474,   37,    0],\n",
      "        [   0, 2727,    0,    0,    0,    0,    0,    0,  282],\n",
      "        [   0,   22, 2745,    0,    0,   64,  551,  201,    2],\n",
      "        [   0,   17, 2416,    5,   46,   16,  466,   30,    0],\n",
      "        [   0,   39,  894,    0, 1606,    2,  459,    3,    0],\n",
      "        [   0,   97,  227,    0,    0, 1690,  328,  630,    0],\n",
      "        [   0,    6, 2331,    0,   14,   59,  481,  119,    0],\n",
      "        [   0,  198,    0,    0,    0,   87,    0, 2413,  264],\n",
      "        [   2,  246,    0,    0,    0,    0,  316,    0, 2455]])\n"
     ]
    },
    {
     "data": {
      "application/vnd.jupyter.widget-view+json": {
       "model_id": "5d93a463a657426f904e4edf9a4beef0",
       "version_major": 2,
       "version_minor": 0
      },
      "text/plain": [
       "Validation: |          | 0/? [00:00<?, ?it/s]"
      ]
     },
     "metadata": {},
     "output_type": "display_data"
    },
    {
     "name": "stdout",
     "output_type": "stream",
     "text": [
      "Epoch end: Validation, epoch number: 3\n",
      "ValidationEpoch/CM\n",
      " tensor([[ 207,   24, 2844,  622,   50,   28,  478,   37,    0],\n",
      "        [   0, 4187,    0,    0,    0,    0,    0,    0,  282],\n",
      "        [   0,   27, 4461,    0,    7,   64,  551,  201,    2],\n",
      "        [  18,   17, 3084,  735,   65,   16,  471,   30,    0],\n",
      "        [   0,   39,  936,    0, 3003,    3,  459,    3,    0],\n",
      "        [   0,  103,  256,    0,    4, 3091,  328,  630,    0],\n",
      "        [   0,    6, 3737,   27,   19,   59,  488,  119,    0],\n",
      "        [   0,  198,    0,    0,    0,   87,    0, 3853,  264],\n",
      "        [   2,  246,    0,    0,    0,    0,  316,    0, 3900]])\n",
      "Epoch end: Train, epoch number: 2\n",
      "TrainEpoch/CM\n",
      " tensor([[ 207,   24, 2844,  622,   50,   28,  478,   37,    0],\n",
      "        [   0, 4187,    0,    0,    0,    0,    0,    0,  282],\n",
      "        [   0,   27, 4461,    0,    7,   64,  551,  201,    2],\n",
      "        [  18,   17, 3084,  735,   65,   16,  471,   30,    0],\n",
      "        [   0,   39,  936,    0, 3003,    3,  459,    3,    0],\n",
      "        [   0,  103,  256,    0,    4, 3091,  328,  630,    0],\n",
      "        [   0,    6, 3737,   27,   19,   59,  488,  119,    0],\n",
      "        [   0,  198,    0,    0,    0,   87,    0, 3853,  264],\n",
      "        [   2,  246,    0,    0,    0,    0,  316,    0, 3900]])\n"
     ]
    },
    {
     "name": "stderr",
     "output_type": "stream",
     "text": [
      "Metric Validation/Accuracy improved by 0.122 >= min_delta = 0.0. New best score: 0.774\n"
     ]
    },
    {
     "data": {
      "application/vnd.jupyter.widget-view+json": {
       "model_id": "24bee532d7954288999a24f782d49ed4",
       "version_major": 2,
       "version_minor": 0
      },
      "text/plain": [
       "Validation: |          | 0/? [00:00<?, ?it/s]"
      ]
     },
     "metadata": {},
     "output_type": "display_data"
    },
    {
     "name": "stdout",
     "output_type": "stream",
     "text": [
      "Epoch end: Validation, epoch number: 4\n",
      "ValidationEpoch/CM\n",
      " tensor([[ 865,   24, 2930, 1253,   61,   28,  482,   37,    0],\n",
      "        [   0, 5647,    0,    0,    0,    0,    0,    0,  282],\n",
      "        [   0,   27, 6177,    0,   19,   64,  551,  201,    2],\n",
      "        [  68,   17, 3290, 1848,  131,   16,  476,   30,    0],\n",
      "        [   0,   39,  936,    0, 4443,    3,  459,    3,    0],\n",
      "        [   0,  108,  262,    0,    9, 4515,  328,  630,    0],\n",
      "        [  10,    6, 5094,   87,   31,   59,  494,  119,    0],\n",
      "        [   0,  198,    0,    0,    0,   87,    0, 5293,  264],\n",
      "        [   2,  246,    0,    0,    0,    0,  316,    0, 5345]])\n"
     ]
    },
    {
     "name": "stderr",
     "output_type": "stream",
     "text": [
      "Metric Validation/Accuracy improved by 0.038 >= min_delta = 0.0. New best score: 0.812\n"
     ]
    },
    {
     "name": "stdout",
     "output_type": "stream",
     "text": [
      "Epoch end: Train, epoch number: 3\n",
      "TrainEpoch/CM\n",
      " tensor([[ 865,   24, 2930, 1253,   61,   28,  482,   37,    0],\n",
      "        [   0, 5647,    0,    0,    0,    0,    0,    0,  282],\n",
      "        [   0,   27, 6177,    0,   19,   64,  551,  201,    2],\n",
      "        [  68,   17, 3290, 1848,  131,   16,  476,   30,    0],\n",
      "        [   0,   39,  936,    0, 4443,    3,  459,    3,    0],\n",
      "        [   0,  108,  262,    0,    9, 4515,  328,  630,    0],\n",
      "        [  10,    6, 5094,   87,   31,   59,  494,  119,    0],\n",
      "        [   0,  198,    0,    0,    0,   87,    0, 5293,  264],\n",
      "        [   2,  246,    0,    0,    0,    0,  316,    0, 5345]])\n"
     ]
    },
    {
     "data": {
      "application/vnd.jupyter.widget-view+json": {
       "model_id": "6d1f75d0bb904debb189baabcd4e808f",
       "version_major": 2,
       "version_minor": 0
      },
      "text/plain": [
       "Validation: |          | 0/? [00:00<?, ?it/s]"
      ]
     },
     "metadata": {},
     "output_type": "display_data"
    },
    {
     "name": "stdout",
     "output_type": "stream",
     "text": [
      "Epoch end: Validation, epoch number: 5\n",
      "ValidationEpoch/CM\n",
      " tensor([[1832,   24, 2936, 1668,   61,   28,  484,   37,    0],\n",
      "        [   0, 7105,    0,    0,    0,    2,    0,    0,  282],\n",
      "        [   0,   27, 7886,    0,   31,   71,  551,  201,    2],\n",
      "        [ 204,   17, 3333, 3064,  159,   16,  493,   30,    0],\n",
      "        [   0,   39,  936,    0, 5883,    3,  459,    3,    0],\n",
      "        [   0,  113,  262,    0,   14, 5945,  328,  630,    0],\n",
      "        [  66,    6, 6304,  235,   34,   59,  522,  119,    0],\n",
      "        [   0,  198,    0,    0,    0,   87,    0, 6733,  264],\n",
      "        [   2,  246,    0,    0,    0,    0,  316,    0, 6790]])\n",
      "Epoch end: Train, epoch number: 4\n"
     ]
    },
    {
     "name": "stderr",
     "output_type": "stream",
     "text": [
      "Metric Validation/Accuracy improved by 0.017 >= min_delta = 0.0. New best score: 0.829\n"
     ]
    },
    {
     "name": "stdout",
     "output_type": "stream",
     "text": [
      "TrainEpoch/CM\n",
      " tensor([[1832,   24, 2936, 1668,   61,   28,  484,   37,    0],\n",
      "        [   0, 7105,    0,    0,    0,    2,    0,    0,  282],\n",
      "        [   0,   27, 7886,    0,   31,   71,  551,  201,    2],\n",
      "        [ 204,   17, 3333, 3064,  159,   16,  493,   30,    0],\n",
      "        [   0,   39,  936,    0, 5883,    3,  459,    3,    0],\n",
      "        [   0,  113,  262,    0,   14, 5945,  328,  630,    0],\n",
      "        [  66,    6, 6304,  235,   34,   59,  522,  119,    0],\n",
      "        [   0,  198,    0,    0,    0,   87,    0, 6733,  264],\n",
      "        [   2,  246,    0,    0,    0,    0,  316,    0, 6790]])\n"
     ]
    },
    {
     "data": {
      "application/vnd.jupyter.widget-view+json": {
       "model_id": "98bcaaacddcb4175b89bb7be10c62a85",
       "version_major": 2,
       "version_minor": 0
      },
      "text/plain": [
       "Validation: |          | 0/? [00:00<?, ?it/s]"
      ]
     },
     "metadata": {},
     "output_type": "display_data"
    },
    {
     "name": "stdout",
     "output_type": "stream",
     "text": [
      "Epoch end: Validation, epoch number: 6\n",
      "ValidationEpoch/CM\n",
      " tensor([[2856,   24, 2938, 2032,   61,   28,  484,   37,    0],\n",
      "        [   0, 8560,    0,    0,    0,    7,    0,    0,  282],\n",
      "        [   0,   27, 9596,    0,   43,   77,  551,  201,    2],\n",
      "        [ 325,   17, 3348, 4342,  179,   16,  499,   30,    0],\n",
      "        [   0,   39,  936,    0, 7323,    3,  459,    3,    0],\n",
      "        [   0,  118,  262,    0,   19, 7375,  328,  630,    0],\n",
      "        [ 145,    6, 7447,  445,   38,   59,  531,  119,    0],\n",
      "        [   0,  198,    0,    0,    0,   87,    0, 8173,  264],\n",
      "        [   2,  246,    0,    0,    0,    0,  316,    0, 8235]])\n",
      "Epoch end: Train, epoch number: 5\n",
      "TrainEpoch/CM\n",
      " tensor([[2856,   24, 2938, 2032,   61,   28,  484,   37,    0],\n",
      "        [   0, 8560,    0,    0,    0,    7,    0,    0,  282],\n",
      "        [   0,   27, 9596,    0,   43,   77,  551,  201,    2],\n",
      "        [ 325,   17, 3348, 4342,  179,   16,  499,   30,    0],\n",
      "        [   0,   39,  936,    0, 7323,    3,  459,    3,    0],\n",
      "        [   0,  118,  262,    0,   19, 7375,  328,  630,    0],\n",
      "        [ 145,    6, 7447,  445,   38,   59,  531,  119,    0],\n",
      "        [   0,  198,    0,    0,    0,   87,    0, 8173,  264],\n",
      "        [   2,  246,    0,    0,    0,    0,  316,    0, 8235]])\n"
     ]
    },
    {
     "name": "stderr",
     "output_type": "stream",
     "text": [
      "Metric Validation/Accuracy improved by 0.016 >= min_delta = 0.0. New best score: 0.844\n"
     ]
    },
    {
     "data": {
      "application/vnd.jupyter.widget-view+json": {
       "model_id": "c648f0bddd124083beed74f04d83fcd1",
       "version_major": 2,
       "version_minor": 0
      },
      "text/plain": [
       "Validation: |          | 0/? [00:00<?, ?it/s]"
      ]
     },
     "metadata": {},
     "output_type": "display_data"
    },
    {
     "name": "stdout",
     "output_type": "stream",
     "text": [
      "Epoch end: Validation, epoch number: 7\n",
      "ValidationEpoch/CM\n",
      " tensor([[ 3710,    24,  2938,  2568,    61,    28,   484,    37,     0],\n",
      "        [    0, 10015,     0,     0,     0,    12,     0,     0,   282],\n",
      "        [    0,    27, 11301,     0,    55,    88,   551,   201,     2],\n",
      "        [  380,    17,  3358,  5666,   213,    16,   516,    30,     0],\n",
      "        [    0,    39,   936,     0,  8763,     3,   459,     3,     0],\n",
      "        [    0,   123,   262,     0,    24,  8805,   328,   630,     0],\n",
      "        [  191,     6,  8511,   703,    46,    59,   600,   119,     0],\n",
      "        [    0,   198,     0,     0,     0,    87,     0,  9613,   264],\n",
      "        [    2,   246,     0,     0,     0,     0,   316,     0,  9680]])\n",
      "Epoch end: Train, epoch number: 6\n",
      "TrainEpoch/CM\n",
      " tensor([[ 3710,    24,  2938,  2568,    61,    28,   484,    37,     0],\n",
      "        [    0, 10015,     0,     0,     0,    12,     0,     0,   282],\n",
      "        [    0,    27, 11301,     0,    55,    88,   551,   201,     2],\n",
      "        [  380,    17,  3358,  5666,   213,    16,   516,    30,     0],\n",
      "        [    0,    39,   936,     0,  8763,     3,   459,     3,     0],\n",
      "        [    0,   123,   262,     0,    24,  8805,   328,   630,     0],\n",
      "        [  191,     6,  8511,   703,    46,    59,   600,   119,     0],\n",
      "        [    0,   198,     0,     0,     0,    87,     0,  9613,   264],\n",
      "        [    2,   246,     0,     0,     0,     0,   316,     0,  9680]])\n"
     ]
    },
    {
     "data": {
      "application/vnd.jupyter.widget-view+json": {
       "model_id": "6c979df4a52e46caa0c0390948063f4a",
       "version_major": 2,
       "version_minor": 0
      },
      "text/plain": [
       "Validation: |          | 0/? [00:00<?, ?it/s]"
      ]
     },
     "metadata": {},
     "output_type": "display_data"
    },
    {
     "name": "stdout",
     "output_type": "stream",
     "text": [
      "Epoch end: Validation, epoch number: 8\n",
      "ValidationEpoch/CM\n",
      " tensor([[ 4655,    24,  2938,  3013,    61,    28,   484,    37,     0],\n",
      "        [    0, 11470,     0,     0,     0,    17,     0,     0,   282],\n",
      "        [    0,    27, 13011,     0,    67,    94,   551,   201,     2],\n",
      "        [  475,    17,  3368,  6979,   228,    16,   523,    30,     0],\n",
      "        [    0,    39,   936,     0, 10203,     3,   459,     3,     0],\n",
      "        [    0,   128,   262,     0,    29, 10235,   328,   630,     0],\n",
      "        [  269,     6,  9550,   992,    49,    59,   636,   119,     0],\n",
      "        [    0,   198,     0,     0,     0,    87,     0, 11053,   264],\n",
      "        [    2,   246,     0,     0,     0,     0,   316,     0, 11125]])\n"
     ]
    },
    {
     "name": "stderr",
     "output_type": "stream",
     "text": [
      "Metric Validation/Accuracy improved by 0.011 >= min_delta = 0.0. New best score: 0.855\n"
     ]
    },
    {
     "name": "stdout",
     "output_type": "stream",
     "text": [
      "Epoch end: Train, epoch number: 7\n",
      "TrainEpoch/CM\n",
      " tensor([[ 4655,    24,  2938,  3013,    61,    28,   484,    37,     0],\n",
      "        [    0, 11470,     0,     0,     0,    17,     0,     0,   282],\n",
      "        [    0,    27, 13011,     0,    67,    94,   551,   201,     2],\n",
      "        [  475,    17,  3368,  6979,   228,    16,   523,    30,     0],\n",
      "        [    0,    39,   936,     0, 10203,     3,   459,     3,     0],\n",
      "        [    0,   128,   262,     0,    29, 10235,   328,   630,     0],\n",
      "        [  269,     6,  9550,   992,    49,    59,   636,   119,     0],\n",
      "        [    0,   198,     0,     0,     0,    87,     0, 11053,   264],\n",
      "        [    2,   246,     0,     0,     0,     0,   316,     0, 11125]])\n"
     ]
    },
    {
     "data": {
      "application/vnd.jupyter.widget-view+json": {
       "model_id": "701875899e09495ab10bfc454bad2a0e",
       "version_major": 2,
       "version_minor": 0
      },
      "text/plain": [
       "Validation: |          | 0/? [00:00<?, ?it/s]"
      ]
     },
     "metadata": {},
     "output_type": "display_data"
    },
    {
     "name": "stdout",
     "output_type": "stream",
     "text": [
      "Epoch end: Validation, epoch number: 9\n",
      "ValidationEpoch/CM\n",
      " tensor([[ 5927,    24,  2938,  3131,    61,    28,   484,    37,     0],\n",
      "        [    0, 12925,     0,     0,     0,    22,     0,     0,   282],\n",
      "        [    0,    27, 14692,     0,    79,   115,   565,   201,     2],\n",
      "        [  646,    17,  3375,  8199,   243,    16,   550,    30,     0],\n",
      "        [    0,    39,   936,     0, 11643,     3,   459,     3,     0],\n",
      "        [    0,   133,   262,     0,    34, 11665,   328,   630,     0],\n",
      "        [  393,     6, 10504,  1215,    50,    62,   776,   119,     0],\n",
      "        [    0,   198,     0,     0,     0,    87,     0, 12493,   264],\n",
      "        [    2,   246,     0,     0,     0,     0,   316,     0, 12570]])\n"
     ]
    },
    {
     "name": "stderr",
     "output_type": "stream",
     "text": [
      "Metric Validation/Accuracy improved by 0.007 >= min_delta = 0.0. New best score: 0.861\n"
     ]
    },
    {
     "name": "stdout",
     "output_type": "stream",
     "text": [
      "Epoch end: Train, epoch number: 8\n",
      "TrainEpoch/CM\n",
      " tensor([[ 5927,    24,  2938,  3131,    61,    28,   484,    37,     0],\n",
      "        [    0, 12925,     0,     0,     0,    22,     0,     0,   282],\n",
      "        [    0,    27, 14692,     0,    79,   115,   565,   201,     2],\n",
      "        [  646,    17,  3375,  8199,   243,    16,   550,    30,     0],\n",
      "        [    0,    39,   936,     0, 11643,     3,   459,     3,     0],\n",
      "        [    0,   133,   262,     0,    34, 11665,   328,   630,     0],\n",
      "        [  393,     6, 10504,  1215,    50,    62,   776,   119,     0],\n",
      "        [    0,   198,     0,     0,     0,    87,     0, 12493,   264],\n",
      "        [    2,   246,     0,     0,     0,     0,   316,     0, 12570]])\n"
     ]
    },
    {
     "data": {
      "application/vnd.jupyter.widget-view+json": {
       "model_id": "0322f86c942748b1adf0652dad451322",
       "version_major": 2,
       "version_minor": 0
      },
      "text/plain": [
       "Validation: |          | 0/? [00:00<?, ?it/s]"
      ]
     },
     "metadata": {},
     "output_type": "display_data"
    },
    {
     "name": "stdout",
     "output_type": "stream",
     "text": [
      "Epoch end: Validation, epoch number: 10\n",
      "ValidationEpoch/CM\n",
      " tensor([[ 7093,    24,  2940,  3353,    61,    28,   484,    37,     0],\n",
      "        [    0, 14380,     0,     0,     0,    27,     0,     0,   282],\n",
      "        [    0,    27, 16394,     0,    91,   124,   570,   201,     2],\n",
      "        [  771,    17,  3385,  9483,   258,    16,   556,    30,     0],\n",
      "        [    0,    39,   936,     0, 13083,     3,   459,     3,     0],\n",
      "        [    0,   138,   262,     0,    39, 13095,   328,   630,     0],\n",
      "        [  494,     6, 11524,  1480,    50,    62,   835,   119,     0],\n",
      "        [    0,   198,     0,     0,     0,    87,     0, 13933,   264],\n",
      "        [    2,   246,     0,     0,     0,     0,   316,     0, 14015]])\n",
      "Epoch end: Train, epoch number: 9\n",
      "TrainEpoch/CM\n",
      " tensor([[ 7093,    24,  2940,  3353,    61,    28,   484,    37,     0],\n",
      "        [    0, 14380,     0,     0,     0,    27,     0,     0,   282],\n",
      "        [    0,    27, 16394,     0,    91,   124,   570,   201,     2],\n",
      "        [  771,    17,  3385,  9483,   258,    16,   556,    30,     0],\n",
      "        [    0,    39,   936,     0, 13083,     3,   459,     3,     0],\n",
      "        [    0,   138,   262,     0,    39, 13095,   328,   630,     0],\n",
      "        [  494,     6, 11524,  1480,    50,    62,   835,   119,     0],\n",
      "        [    0,   198,     0,     0,     0,    87,     0, 13933,   264],\n",
      "        [    2,   246,     0,     0,     0,     0,   316,     0, 14015]])\n"
     ]
    },
    {
     "data": {
      "application/vnd.jupyter.widget-view+json": {
       "model_id": "ec67eeba1baa453baac2e74d391d9863",
       "version_major": 2,
       "version_minor": 0
      },
      "text/plain": [
       "Validation: |          | 0/? [00:00<?, ?it/s]"
      ]
     },
     "metadata": {},
     "output_type": "display_data"
    },
    {
     "name": "stdout",
     "output_type": "stream",
     "text": [
      "Epoch end: Validation, epoch number: 11\n",
      "ValidationEpoch/CM\n",
      " tensor([[ 8280,    24,  2940,  3556,    61,    28,   484,    37,     0],\n",
      "        [    0, 15835,     0,     0,     0,    32,     0,     0,   282],\n",
      "        [    0,    27, 18086,     2,   103,   134,   582,   201,     2],\n",
      "        [  892,    17,  3395, 10759,   273,    16,   574,    30,     0],\n",
      "        [    0,    39,   936,     0, 14523,     3,   459,     3,     0],\n",
      "        [    0,   143,   262,     0,    44, 14525,   328,   630,     0],\n",
      "        [  598,     6, 12465,  1747,    53,    62,   965,   119,     0],\n",
      "        [    0,   198,     0,     0,     0,    87,     0, 15373,   264],\n",
      "        [    2,   246,     0,     0,     0,     0,   316,     0, 15460]])\n",
      "Epoch end: Train, epoch number: 10\n",
      "TrainEpoch/CM\n",
      " tensor([[ 8280,    24,  2940,  3556,    61,    28,   484,    37,     0],\n",
      "        [    0, 15835,     0,     0,     0,    32,     0,     0,   282],\n",
      "        [    0,    27, 18086,     2,   103,   134,   582,   201,     2],\n",
      "        [  892,    17,  3395, 10759,   273,    16,   574,    30,     0],\n",
      "        [    0,    39,   936,     0, 14523,     3,   459,     3,     0],\n",
      "        [    0,   143,   262,     0,    44, 14525,   328,   630,     0],\n",
      "        [  598,     6, 12465,  1747,    53,    62,   965,   119,     0],\n",
      "        [    0,   198,     0,     0,     0,    87,     0, 15373,   264],\n",
      "        [    2,   246,     0,     0,     0,     0,   316,     0, 15460]])\n"
     ]
    },
    {
     "data": {
      "application/vnd.jupyter.widget-view+json": {
       "model_id": "bf401bc15ddc41ebab10b7386babc766",
       "version_major": 2,
       "version_minor": 0
      },
      "text/plain": [
       "Validation: |          | 0/? [00:00<?, ?it/s]"
      ]
     },
     "metadata": {},
     "output_type": "display_data"
    },
    {
     "name": "stdout",
     "output_type": "stream",
     "text": [
      "Epoch end: Validation, epoch number: 12\n",
      "ValidationEpoch/CM\n",
      " tensor([[ 9498,    24,  2940,  3728,    61,    28,   484,    37,     0],\n",
      "        [    0, 17293,     0,     0,     0,    34,     0,     0,   282],\n",
      "        [    0,    27, 19766,     9,   115,   154,   591,   201,     2],\n",
      "        [ 1034,    17,  3405, 12028,   286,    16,   580,    30,     0],\n",
      "        [    0,    39,   936,     0, 15963,     3,   459,     3,     0],\n",
      "        [    0,   148,   262,     0,    49, 15955,   328,   630,     0],\n",
      "        [  729,     6, 13377,  2045,    55,    64,  1065,   119,     0],\n",
      "        [    0,   198,     0,     0,     0,    87,     0, 16813,   264],\n",
      "        [    2,   246,     0,     0,     0,     0,   316,     0, 16905]])\n"
     ]
    },
    {
     "name": "stderr",
     "output_type": "stream",
     "text": [
      "Metric Validation/Accuracy improved by 0.006 >= min_delta = 0.0. New best score: 0.868\n"
     ]
    },
    {
     "name": "stdout",
     "output_type": "stream",
     "text": [
      "Epoch end: Train, epoch number: 11\n",
      "TrainEpoch/CM\n",
      " tensor([[ 9498,    24,  2940,  3728,    61,    28,   484,    37,     0],\n",
      "        [    0, 17293,     0,     0,     0,    34,     0,     0,   282],\n",
      "        [    0,    27, 19766,     9,   115,   154,   591,   201,     2],\n",
      "        [ 1034,    17,  3405, 12028,   286,    16,   580,    30,     0],\n",
      "        [    0,    39,   936,     0, 15963,     3,   459,     3,     0],\n",
      "        [    0,   148,   262,     0,    49, 15955,   328,   630,     0],\n",
      "        [  729,     6, 13377,  2045,    55,    64,  1065,   119,     0],\n",
      "        [    0,   198,     0,     0,     0,    87,     0, 16813,   264],\n",
      "        [    2,   246,     0,     0,     0,     0,   316,     0, 16905]])\n"
     ]
    },
    {
     "data": {
      "application/vnd.jupyter.widget-view+json": {
       "model_id": "9b880003ae554d0c91b9fe14b49e20f1",
       "version_major": 2,
       "version_minor": 0
      },
      "text/plain": [
       "Validation: |          | 0/? [00:00<?, ?it/s]"
      ]
     },
     "metadata": {},
     "output_type": "display_data"
    },
    {
     "name": "stdout",
     "output_type": "stream",
     "text": [
      "Epoch end: Validation, epoch number: 13\n",
      "ValidationEpoch/CM\n",
      " tensor([[10725,    24,  2940,  3891,    61,    28,   484,    37,     0],\n",
      "        [    0, 18753,     0,     0,     0,    34,     0,     0,   282],\n",
      "        [    0,    27, 21453,    19,   122,   166,   603,   201,     2],\n",
      "        [ 1177,    17,  3413, 13298,   296,    16,   589,    30,     0],\n",
      "        [    0,    39,   936,     0, 17403,     3,   459,     3,     0],\n",
      "        [    0,   153,   262,     0,    54, 17385,   328,   630,     0],\n",
      "        [  850,     6, 14268,  2337,    55,    64,  1206,   119,     0],\n",
      "        [    0,   198,     0,     0,     0,    87,     0, 18253,   264],\n",
      "        [    2,   246,     0,     0,     0,     0,   316,     0, 18350]])\n",
      "Epoch end: Train, epoch number: 12\n",
      "TrainEpoch/CM\n",
      " tensor([[10725,    24,  2940,  3891,    61,    28,   484,    37,     0],\n",
      "        [    0, 18753,     0,     0,     0,    34,     0,     0,   282],\n",
      "        [    0,    27, 21453,    19,   122,   166,   603,   201,     2],\n",
      "        [ 1177,    17,  3413, 13298,   296,    16,   589,    30,     0],\n",
      "        [    0,    39,   936,     0, 17403,     3,   459,     3,     0],\n",
      "        [    0,   153,   262,     0,    54, 17385,   328,   630,     0],\n",
      "        [  850,     6, 14268,  2337,    55,    64,  1206,   119,     0],\n",
      "        [    0,   198,     0,     0,     0,    87,     0, 18253,   264],\n",
      "        [    2,   246,     0,     0,     0,     0,   316,     0, 18350]])\n"
     ]
    },
    {
     "name": "stderr",
     "output_type": "stream",
     "text": [
      "Metric Validation/Accuracy improved by 0.007 >= min_delta = 0.0. New best score: 0.875\n"
     ]
    },
    {
     "data": {
      "application/vnd.jupyter.widget-view+json": {
       "model_id": "b2b93ca7c19f4a98b75a607a0d078dfa",
       "version_major": 2,
       "version_minor": 0
      },
      "text/plain": [
       "Validation: |          | 0/? [00:00<?, ?it/s]"
      ]
     },
     "metadata": {},
     "output_type": "display_data"
    },
    {
     "name": "stdout",
     "output_type": "stream",
     "text": [
      "Epoch end: Validation, epoch number: 14\n",
      "ValidationEpoch/CM\n",
      " tensor([[12063,    24,  2940,  3943,    61,    28,   484,    37,     0],\n",
      "        [    0, 20213,     0,     0,     0,    34,     0,     0,   282],\n",
      "        [    8,    27, 23140,    19,   131,   178,   615,   201,     2],\n",
      "        [ 1376,    17,  3422, 14505,   309,    16,   601,    30,     0],\n",
      "        [    0,    39,   936,     0, 18843,     3,   459,     3,     0],\n",
      "        [    0,   158,   262,     0,    59, 18815,   328,   630,     0],\n",
      "        [ 1026,     6, 15168,  2567,    56,    64,  1344,   119,     0],\n",
      "        [    0,   198,     0,     0,     0,    87,     0, 19693,   264],\n",
      "        [    2,   246,     0,     0,     0,     0,   316,     0, 19795]])\n",
      "Epoch end: Train, epoch number: 13\n",
      "TrainEpoch/CM\n",
      " tensor([[12063,    24,  2940,  3943,    61,    28,   484,    37,     0],\n",
      "        [    0, 20213,     0,     0,     0,    34,     0,     0,   282],\n",
      "        [    8,    27, 23140,    19,   131,   178,   615,   201,     2],\n",
      "        [ 1376,    17,  3422, 14505,   309,    16,   601,    30,     0],\n",
      "        [    0,    39,   936,     0, 18843,     3,   459,     3,     0],\n",
      "        [    0,   158,   262,     0,    59, 18815,   328,   630,     0],\n",
      "        [ 1026,     6, 15168,  2567,    56,    64,  1344,   119,     0],\n",
      "        [    0,   198,     0,     0,     0,    87,     0, 19693,   264],\n",
      "        [    2,   246,     0,     0,     0,     0,   316,     0, 19795]])\n"
     ]
    },
    {
     "data": {
      "application/vnd.jupyter.widget-view+json": {
       "model_id": "b6cdda0dea0d4f4d8f02139a641afbf2",
       "version_major": 2,
       "version_minor": 0
      },
      "text/plain": [
       "Validation: |          | 0/? [00:00<?, ?it/s]"
      ]
     },
     "metadata": {},
     "output_type": "display_data"
    },
    {
     "name": "stdout",
     "output_type": "stream",
     "text": [
      "Epoch end: Validation, epoch number: 15\n",
      "ValidationEpoch/CM\n",
      " tensor([[13379,    24,  2940,  4017,    61,    28,   484,    37,     0],\n",
      "        [    0, 21673,     0,     0,     0,    34,     0,     0,   282],\n",
      "        [    8,    27, 24832,    21,   131,   190,   637,   201,     2],\n",
      "        [ 1550,    17,  3427, 15735,   319,    16,   622,    30,     0],\n",
      "        [    0,    39,   936,     0, 20283,     3,   459,     3,     0],\n",
      "        [    0,   163,   262,     0,    64, 20245,   328,   630,     0],\n",
      "        [ 1148,     6, 15999,  2818,    56,    64,  1585,   119,     0],\n",
      "        [    0,   198,     0,     0,     0,    87,     0, 21133,   264],\n",
      "        [    2,   246,     0,     0,     0,     0,   316,     0, 21240]])\n"
     ]
    },
    {
     "name": "stderr",
     "output_type": "stream",
     "text": [
      "Metric Validation/Accuracy improved by 0.008 >= min_delta = 0.0. New best score: 0.883\n"
     ]
    },
    {
     "name": "stdout",
     "output_type": "stream",
     "text": [
      "Epoch end: Train, epoch number: 14\n",
      "TrainEpoch/CM\n",
      " tensor([[13379,    24,  2940,  4017,    61,    28,   484,    37,     0],\n",
      "        [    0, 21673,     0,     0,     0,    34,     0,     0,   282],\n",
      "        [    8,    27, 24832,    21,   131,   190,   637,   201,     2],\n",
      "        [ 1550,    17,  3427, 15735,   319,    16,   622,    30,     0],\n",
      "        [    0,    39,   936,     0, 20283,     3,   459,     3,     0],\n",
      "        [    0,   163,   262,     0,    64, 20245,   328,   630,     0],\n",
      "        [ 1148,     6, 15999,  2818,    56,    64,  1585,   119,     0],\n",
      "        [    0,   198,     0,     0,     0,    87,     0, 21133,   264],\n",
      "        [    2,   246,     0,     0,     0,     0,   316,     0, 21240]])\n"
     ]
    },
    {
     "data": {
      "application/vnd.jupyter.widget-view+json": {
       "model_id": "aa2ae2b237ff442eb5f94aa75268d850",
       "version_major": 2,
       "version_minor": 0
      },
      "text/plain": [
       "Validation: |          | 0/? [00:00<?, ?it/s]"
      ]
     },
     "metadata": {},
     "output_type": "display_data"
    },
    {
     "name": "stdout",
     "output_type": "stream",
     "text": [
      "Epoch end: Validation, epoch number: 16\n",
      "ValidationEpoch/CM\n",
      " tensor([[14689,    24,  2940,  4097,    61,    28,   484,    37,     0],\n",
      "        [    0, 23133,     0,     0,     0,    34,     0,     0,   282],\n",
      "        [    8,    27, 26518,    21,   132,   204,   664,   201,     2],\n",
      "        [ 1700,    17,  3433, 16989,   330,    16,   641,    30,     0],\n",
      "        [    0,    39,   936,     0, 21723,     3,   459,     3,     0],\n",
      "        [    0,   168,   262,     0,    69, 21675,   328,   630,     0],\n",
      "        [ 1266,     6, 16816,  3080,    56,    64,  1833,   119,     0],\n",
      "        [    0,   198,     0,     0,     0,    87,     0, 22573,   264],\n",
      "        [    2,   246,     0,     0,     0,     0,   316,     0, 22685]])\n",
      "Epoch end: Train, epoch number: 15\n",
      "TrainEpoch/CM\n",
      " tensor([[14689,    24,  2940,  4097,    61,    28,   484,    37,     0],\n",
      "        [    0, 23133,     0,     0,     0,    34,     0,     0,   282],\n",
      "        [    8,    27, 26518,    21,   132,   204,   664,   201,     2],\n",
      "        [ 1700,    17,  3433, 16989,   330,    16,   641,    30,     0],\n",
      "        [    0,    39,   936,     0, 21723,     3,   459,     3,     0],\n",
      "        [    0,   168,   262,     0,    69, 21675,   328,   630,     0],\n",
      "        [ 1266,     6, 16816,  3080,    56,    64,  1833,   119,     0],\n",
      "        [    0,   198,     0,     0,     0,    87,     0, 22573,   264],\n",
      "        [    2,   246,     0,     0,     0,     0,   316,     0, 22685]])\n"
     ]
    },
    {
     "data": {
      "application/vnd.jupyter.widget-view+json": {
       "model_id": "51c861fe171e4cd7bfc74ecbe77f9793",
       "version_major": 2,
       "version_minor": 0
      },
      "text/plain": [
       "Validation: |          | 0/? [00:00<?, ?it/s]"
      ]
     },
     "metadata": {},
     "output_type": "display_data"
    },
    {
     "name": "stdout",
     "output_type": "stream",
     "text": [
      "Epoch end: Validation, epoch number: 17\n",
      "ValidationEpoch/CM\n",
      " tensor([[15977,    24,  2940,  4199,    61,    28,   484,    37,     0],\n",
      "        [    0, 24593,     0,     0,     0,    34,     0,     0,   282],\n",
      "        [    8,    27, 28221,    26,   132,   216,   672,   201,     2],\n",
      "        [ 1847,    17,  3442, 18256,   341,    16,   647,    30,     0],\n",
      "        [    0,    39,   936,     0, 23163,     3,   459,     3,     0],\n",
      "        [    0,   173,   262,     0,    74, 23105,   328,   630,     0],\n",
      "        [ 1387,     6, 17720,  3347,    56,    64,  1986,   119,     0],\n",
      "        [    0,   198,     0,     0,     0,    87,     0, 24013,   264],\n",
      "        [    2,   246,     0,     0,     0,     0,   316,     0, 24130]])\n",
      "Epoch end: Train, epoch number: 16\n",
      "TrainEpoch/CM\n",
      " tensor([[15977,    24,  2940,  4199,    61,    28,   484,    37,     0],\n",
      "        [    0, 24593,     0,     0,     0,    34,     0,     0,   282],\n",
      "        [    8,    27, 28221,    26,   132,   216,   672,   201,     2],\n",
      "        [ 1847,    17,  3442, 18256,   341,    16,   647,    30,     0],\n",
      "        [    0,    39,   936,     0, 23163,     3,   459,     3,     0],\n",
      "        [    0,   173,   262,     0,    74, 23105,   328,   630,     0],\n",
      "        [ 1387,     6, 17720,  3347,    56,    64,  1986,   119,     0],\n",
      "        [    0,   198,     0,     0,     0,    87,     0, 24013,   264],\n",
      "        [    2,   246,     0,     0,     0,     0,   316,     0, 24130]])\n"
     ]
    },
    {
     "name": "stderr",
     "output_type": "stream",
     "text": [
      "Metric Validation/Accuracy improved by 0.001 >= min_delta = 0.0. New best score: 0.884\n"
     ]
    },
    {
     "data": {
      "application/vnd.jupyter.widget-view+json": {
       "model_id": "f6d567c4c08a468288019faa9ffcebec",
       "version_major": 2,
       "version_minor": 0
      },
      "text/plain": [
       "Validation: |          | 0/? [00:00<?, ?it/s]"
      ]
     },
     "metadata": {},
     "output_type": "display_data"
    },
    {
     "name": "stdout",
     "output_type": "stream",
     "text": [
      "Epoch end: Validation, epoch number: 18\n",
      "ValidationEpoch/CM\n",
      " tensor([[17307,    24,  2940,  4259,    61,    28,   484,    37,     0],\n",
      "        [    0, 26053,     0,     0,     0,    34,     0,     0,   282],\n",
      "        [    8,    27, 29913,    26,   132,   228,   696,   201,     2],\n",
      "        [ 2000,    17,  3448, 19508,   351,    16,   666,    30,     0],\n",
      "        [    0,    39,   936,     0, 24603,     3,   459,     3,     0],\n",
      "        [    0,   178,   262,     0,    79, 24535,   328,   630,     0],\n",
      "        [ 1497,     6, 18562,  3598,    56,    64,  2228,   119,     0],\n",
      "        [    0,   198,     0,     0,     0,    87,     0, 25453,   264],\n",
      "        [    2,   246,     0,     0,     0,     0,   316,     0, 25575]])\n",
      "Epoch end: Train, epoch number: 17\n",
      "TrainEpoch/CM\n",
      " tensor([[17307,    24,  2940,  4259,    61,    28,   484,    37,     0],\n",
      "        [    0, 26053,     0,     0,     0,    34,     0,     0,   282],\n",
      "        [    8,    27, 29913,    26,   132,   228,   696,   201,     2],\n",
      "        [ 2000,    17,  3448, 19508,   351,    16,   666,    30,     0],\n",
      "        [    0,    39,   936,     0, 24603,     3,   459,     3,     0],\n",
      "        [    0,   178,   262,     0,    79, 24535,   328,   630,     0],\n",
      "        [ 1497,     6, 18562,  3598,    56,    64,  2228,   119,     0],\n",
      "        [    0,   198,     0,     0,     0,    87,     0, 25453,   264],\n",
      "        [    2,   246,     0,     0,     0,     0,   316,     0, 25575]])\n"
     ]
    },
    {
     "name": "stderr",
     "output_type": "stream",
     "text": [
      "Metric Validation/Accuracy improved by 0.005 >= min_delta = 0.0. New best score: 0.889\n"
     ]
    },
    {
     "data": {
      "application/vnd.jupyter.widget-view+json": {
       "model_id": "7ba1f76122e248d6915fc3d9d0d368b0",
       "version_major": 2,
       "version_minor": 0
      },
      "text/plain": [
       "Validation: |          | 0/? [00:00<?, ?it/s]"
      ]
     },
     "metadata": {},
     "output_type": "display_data"
    },
    {
     "name": "stdout",
     "output_type": "stream",
     "text": [
      "Epoch end: Validation, epoch number: 19\n",
      "ValidationEpoch/CM\n",
      " tensor([[18648,    24,  2940,  4308,    61,    28,   484,    37,     0],\n",
      "        [    0, 27513,     0,     0,     0,    34,     0,     0,   282],\n",
      "        [    8,    27, 31571,    26,   132,   240,   754,   201,     2],\n",
      "        [ 2171,    17,  3453, 20737,   361,    16,   691,    30,     0],\n",
      "        [    0,    39,   936,     0, 26043,     3,   459,     3,     0],\n",
      "        [    0,   183,   262,     0,    82, 25967,   328,   630,     0],\n",
      "        [ 1595,     6, 19317,  3842,    56,    66,  2574,   119,     0],\n",
      "        [    0,   198,     0,     0,     0,    87,     0, 26893,   264],\n",
      "        [    2,   246,     0,     0,     0,     0,   316,     0, 27020]])\n",
      "Epoch end: Train, epoch number: 18\n",
      "TrainEpoch/CM\n",
      " tensor([[18648,    24,  2940,  4308,    61,    28,   484,    37,     0],\n",
      "        [    0, 27513,     0,     0,     0,    34,     0,     0,   282],\n",
      "        [    8,    27, 31571,    26,   132,   240,   754,   201,     2],\n",
      "        [ 2171,    17,  3453, 20737,   361,    16,   691,    30,     0],\n",
      "        [    0,    39,   936,     0, 26043,     3,   459,     3,     0],\n",
      "        [    0,   183,   262,     0,    82, 25967,   328,   630,     0],\n",
      "        [ 1595,     6, 19317,  3842,    56,    66,  2574,   119,     0],\n",
      "        [    0,   198,     0,     0,     0,    87,     0, 26893,   264],\n",
      "        [    2,   246,     0,     0,     0,     0,   316,     0, 27020]])\n"
     ]
    },
    {
     "data": {
      "application/vnd.jupyter.widget-view+json": {
       "model_id": "c7f7805c83274a8899b0af0151a5df1a",
       "version_major": 2,
       "version_minor": 0
      },
      "text/plain": [
       "Validation: |          | 0/? [00:00<?, ?it/s]"
      ]
     },
     "metadata": {},
     "output_type": "display_data"
    },
    {
     "name": "stdout",
     "output_type": "stream",
     "text": [
      "Epoch end: Validation, epoch number: 20\n",
      "ValidationEpoch/CM\n",
      " tensor([[19982,    24,  2940,  4364,    61,    28,   484,    37,     0],\n",
      "        [    0, 28973,     0,     0,     0,    34,     0,     0,   282],\n",
      "        [   14,    27, 33254,    26,   132,   252,   781,   201,     2],\n",
      "        [ 2327,    17,  3458, 21986,   371,    16,   711,    30,     0],\n",
      "        [    0,    39,   936,     0, 27483,     3,   459,     3,     0],\n",
      "        [    0,   188,   262,     0,    86, 27398,   328,   630,     0],\n",
      "        [ 1702,     6, 20116,  4099,    56,    66,  2856,   119,     0],\n",
      "        [    0,   198,     0,     0,     0,    87,     0, 28333,   264],\n",
      "        [    2,   246,     0,     0,     0,     0,   316,     0, 28465]])\n"
     ]
    },
    {
     "name": "stderr",
     "output_type": "stream",
     "text": [
      "Metric Validation/Accuracy improved by 0.002 >= min_delta = 0.0. New best score: 0.891\n"
     ]
    },
    {
     "name": "stdout",
     "output_type": "stream",
     "text": [
      "Epoch end: Train, epoch number: 19\n",
      "TrainEpoch/CM\n",
      " tensor([[19982,    24,  2940,  4364,    61,    28,   484,    37,     0],\n",
      "        [    0, 28973,     0,     0,     0,    34,     0,     0,   282],\n",
      "        [   14,    27, 33254,    26,   132,   252,   781,   201,     2],\n",
      "        [ 2327,    17,  3458, 21986,   371,    16,   711,    30,     0],\n",
      "        [    0,    39,   936,     0, 27483,     3,   459,     3,     0],\n",
      "        [    0,   188,   262,     0,    86, 27398,   328,   630,     0],\n",
      "        [ 1702,     6, 20116,  4099,    56,    66,  2856,   119,     0],\n",
      "        [    0,   198,     0,     0,     0,    87,     0, 28333,   264],\n",
      "        [    2,   246,     0,     0,     0,     0,   316,     0, 28465]])\n"
     ]
    },
    {
     "data": {
      "application/vnd.jupyter.widget-view+json": {
       "model_id": "dedd85230c4f41e4ade0167eb90843ea",
       "version_major": 2,
       "version_minor": 0
      },
      "text/plain": [
       "Validation: |          | 0/? [00:00<?, ?it/s]"
      ]
     },
     "metadata": {},
     "output_type": "display_data"
    },
    {
     "name": "stdout",
     "output_type": "stream",
     "text": [
      "Epoch end: Validation, epoch number: 21\n",
      "ValidationEpoch/CM\n",
      " tensor([[21315,    24,  2940,  4421,    61,    28,   484,    37,     0],\n",
      "        [    0, 30433,     0,     0,     0,    34,     0,     0,   282],\n",
      "        [   14,    27, 34937,    26,   132,   264,   814,   201,     2],\n",
      "        [ 2477,    17,  3463, 23241,   381,    16,   731,    30,     0],\n",
      "        [    0,    39,   936,     0, 28923,     3,   459,     3,     0],\n",
      "        [    0,   193,   262,     0,    86, 28833,   328,   630,     0],\n",
      "        [ 1799,     6, 20904,  4353,    56,    66,  3162,   119,     0],\n",
      "        [    0,   198,     0,     0,     0,    87,     0, 29773,   264],\n",
      "        [    2,   246,     0,     0,     0,     0,   316,     0, 29910]])\n",
      "Epoch end: Train, epoch number: 20\n",
      "TrainEpoch/CM\n",
      " tensor([[21315,    24,  2940,  4421,    61,    28,   484,    37,     0],\n",
      "        [    0, 30433,     0,     0,     0,    34,     0,     0,   282],\n",
      "        [   14,    27, 34937,    26,   132,   264,   814,   201,     2],\n",
      "        [ 2477,    17,  3463, 23241,   381,    16,   731,    30,     0],\n",
      "        [    0,    39,   936,     0, 28923,     3,   459,     3,     0],\n",
      "        [    0,   193,   262,     0,    86, 28833,   328,   630,     0],\n",
      "        [ 1799,     6, 20904,  4353,    56,    66,  3162,   119,     0],\n",
      "        [    0,   198,     0,     0,     0,    87,     0, 29773,   264],\n",
      "        [    2,   246,     0,     0,     0,     0,   316,     0, 29910]])\n"
     ]
    },
    {
     "name": "stderr",
     "output_type": "stream",
     "text": [
      "Metric Validation/Accuracy improved by 0.001 >= min_delta = 0.0. New best score: 0.892\n"
     ]
    },
    {
     "data": {
      "application/vnd.jupyter.widget-view+json": {
       "model_id": "ccbae9e47dc845688e013fc36981032f",
       "version_major": 2,
       "version_minor": 0
      },
      "text/plain": [
       "Validation: |          | 0/? [00:00<?, ?it/s]"
      ]
     },
     "metadata": {},
     "output_type": "display_data"
    },
    {
     "name": "stdout",
     "output_type": "stream",
     "text": [
      "Epoch end: Validation, epoch number: 22\n",
      "ValidationEpoch/CM\n",
      " tensor([[22643,    24,  2940,  4483,    61,    28,   484,    37,     0],\n",
      "        [    0, 31893,     0,     0,     0,    34,     0,     0,   282],\n",
      "        [   14,    27, 36581,    26,   132,   276,   886,   201,     2],\n",
      "        [ 2613,    17,  3468, 24496,   391,    16,   765,    30,     0],\n",
      "        [    0,    39,   936,     0, 30363,     3,   459,     3,     0],\n",
      "        [    0,   198,   262,     0,    89, 30265,   328,   630,     0],\n",
      "        [ 1874,     6, 21599,  4598,    56,    66,  3592,   119,     0],\n",
      "        [    0,   198,     0,     0,     0,    87,     0, 31213,   264],\n",
      "        [    2,   246,     0,     0,     0,     0,   316,     0, 31355]])\n",
      "Epoch end: Train, epoch number: 21\n",
      "TrainEpoch/CM\n",
      " tensor([[22643,    24,  2940,  4483,    61,    28,   484,    37,     0],\n",
      "        [    0, 31893,     0,     0,     0,    34,     0,     0,   282],\n",
      "        [   14,    27, 36581,    26,   132,   276,   886,   201,     2],\n",
      "        [ 2613,    17,  3468, 24496,   391,    16,   765,    30,     0],\n",
      "        [    0,    39,   936,     0, 30363,     3,   459,     3,     0],\n",
      "        [    0,   198,   262,     0,    89, 30265,   328,   630,     0],\n",
      "        [ 1874,     6, 21599,  4598,    56,    66,  3592,   119,     0],\n",
      "        [    0,   198,     0,     0,     0,    87,     0, 31213,   264],\n",
      "        [    2,   246,     0,     0,     0,     0,   316,     0, 31355]])\n"
     ]
    },
    {
     "name": "stderr",
     "output_type": "stream",
     "text": [
      "Metric Validation/Accuracy improved by 0.000 >= min_delta = 0.0. New best score: 0.892\n"
     ]
    },
    {
     "data": {
      "application/vnd.jupyter.widget-view+json": {
       "model_id": "0891a2a189e14d5f986deff2f587121d",
       "version_major": 2,
       "version_minor": 0
      },
      "text/plain": [
       "Validation: |          | 0/? [00:00<?, ?it/s]"
      ]
     },
     "metadata": {},
     "output_type": "display_data"
    },
    {
     "name": "stdout",
     "output_type": "stream",
     "text": [
      "Epoch end: Validation, epoch number: 23\n",
      "ValidationEpoch/CM\n",
      " tensor([[24007,    24,  2940,  4509,    61,    28,   484,    37,     0],\n",
      "        [    0, 33353,     0,     0,     0,    34,     0,     0,   282],\n",
      "        [   20,    27, 38259,    26,   132,   288,   918,   201,     2],\n",
      "        [ 2796,    17,  3475, 25718,   401,    16,   783,    30,     0],\n",
      "        [    0,    39,   936,     0, 31803,     3,   459,     3,     0],\n",
      "        [    0,   203,   262,     0,    89, 31700,   328,   630,     0],\n",
      "        [ 1992,     6, 22399,  4834,    56,    66,  3883,   119,     0],\n",
      "        [    0,   198,     0,     0,     0,    87,     0, 32653,   264],\n",
      "        [    2,   246,     0,     0,     0,     0,   316,     0, 32800]])\n"
     ]
    },
    {
     "name": "stderr",
     "output_type": "stream",
     "text": [
      "Metric Validation/Accuracy improved by 0.003 >= min_delta = 0.0. New best score: 0.895\n"
     ]
    },
    {
     "name": "stdout",
     "output_type": "stream",
     "text": [
      "Epoch end: Train, epoch number: 22\n",
      "TrainEpoch/CM\n",
      " tensor([[24007,    24,  2940,  4509,    61,    28,   484,    37,     0],\n",
      "        [    0, 33353,     0,     0,     0,    34,     0,     0,   282],\n",
      "        [   20,    27, 38259,    26,   132,   288,   918,   201,     2],\n",
      "        [ 2796,    17,  3475, 25718,   401,    16,   783,    30,     0],\n",
      "        [    0,    39,   936,     0, 31803,     3,   459,     3,     0],\n",
      "        [    0,   203,   262,     0,    89, 31700,   328,   630,     0],\n",
      "        [ 1992,     6, 22399,  4834,    56,    66,  3883,   119,     0],\n",
      "        [    0,   198,     0,     0,     0,    87,     0, 32653,   264],\n",
      "        [    2,   246,     0,     0,     0,     0,   316,     0, 32800]])\n"
     ]
    },
    {
     "data": {
      "application/vnd.jupyter.widget-view+json": {
       "model_id": "848c01f2ce3d4d249c8584feab8f5a65",
       "version_major": 2,
       "version_minor": 0
      },
      "text/plain": [
       "Validation: |          | 0/? [00:00<?, ?it/s]"
      ]
     },
     "metadata": {},
     "output_type": "display_data"
    },
    {
     "name": "stdout",
     "output_type": "stream",
     "text": [
      "Epoch end: Validation, epoch number: 24\n",
      "ValidationEpoch/CM\n",
      " tensor([[25317,    24,  2940,  4589,    61,    28,   484,    37,     0],\n",
      "        [    0, 34813,     0,     0,     0,    34,     0,     0,   282],\n",
      "        [   20,    27, 39909,    26,   132,   300,   984,   201,     2],\n",
      "        [ 2925,    17,  3480, 26991,   407,    16,   810,    30,     0],\n",
      "        [    0,    39,   936,     0, 33243,     3,   459,     3,     0],\n",
      "        [    0,   208,   262,     0,    89, 33135,   328,   630,     0],\n",
      "        [ 2077,     6, 23119,  5096,    56,    66,  4261,   119,     0],\n",
      "        [    0,   198,     0,     0,     0,    87,     0, 34093,   264],\n",
      "        [    2,   246,     0,     0,     0,     0,   316,     0, 34245]])\n",
      "Epoch end: Train, epoch number: 23\n",
      "TrainEpoch/CM\n",
      " tensor([[25317,    24,  2940,  4589,    61,    28,   484,    37,     0],\n",
      "        [    0, 34813,     0,     0,     0,    34,     0,     0,   282],\n",
      "        [   20,    27, 39909,    26,   132,   300,   984,   201,     2],\n",
      "        [ 2925,    17,  3480, 26991,   407,    16,   810,    30,     0],\n",
      "        [    0,    39,   936,     0, 33243,     3,   459,     3,     0],\n",
      "        [    0,   208,   262,     0,    89, 33135,   328,   630,     0],\n",
      "        [ 2077,     6, 23119,  5096,    56,    66,  4261,   119,     0],\n",
      "        [    0,   198,     0,     0,     0,    87,     0, 34093,   264],\n",
      "        [    2,   246,     0,     0,     0,     0,   316,     0, 34245]])\n"
     ]
    },
    {
     "data": {
      "application/vnd.jupyter.widget-view+json": {
       "model_id": "582d8452f6a141719a02b9eb50ab844a",
       "version_major": 2,
       "version_minor": 0
      },
      "text/plain": [
       "Validation: |          | 0/? [00:00<?, ?it/s]"
      ]
     },
     "metadata": {},
     "output_type": "display_data"
    },
    {
     "name": "stdout",
     "output_type": "stream",
     "text": [
      "Epoch end: Validation, epoch number: 25\n",
      "ValidationEpoch/CM\n",
      " tensor([[26690,    24,  2940,  4606,    61,    28,   484,    37,     0],\n",
      "        [    0, 36273,     0,     0,     0,    34,     0,     0,   282],\n",
      "        [   20,    27, 41567,    26,   132,   312,  1042,   201,     2],\n",
      "        [ 3127,    17,  3485, 28180,   417,    16,   844,    30,     0],\n",
      "        [    0,    39,   936,     0, 34683,     3,   459,     3,     0],\n",
      "        [    0,   213,   262,     0,    89, 34570,   328,   630,     0],\n",
      "        [ 2160,     6, 23852,  5286,    56,    66,  4700,   119,     0],\n",
      "        [    0,   198,     0,     0,     0,    87,     0, 35533,   264],\n",
      "        [    2,   246,     0,     0,     0,     0,   316,     0, 35690]])\n"
     ]
    },
    {
     "name": "stderr",
     "output_type": "stream",
     "text": [
      "Metric Validation/Accuracy improved by 0.001 >= min_delta = 0.0. New best score: 0.895\n"
     ]
    },
    {
     "name": "stdout",
     "output_type": "stream",
     "text": [
      "Epoch end: Train, epoch number: 24\n",
      "TrainEpoch/CM\n",
      " tensor([[26690,    24,  2940,  4606,    61,    28,   484,    37,     0],\n",
      "        [    0, 36273,     0,     0,     0,    34,     0,     0,   282],\n",
      "        [   20,    27, 41567,    26,   132,   312,  1042,   201,     2],\n",
      "        [ 3127,    17,  3485, 28180,   417,    16,   844,    30,     0],\n",
      "        [    0,    39,   936,     0, 34683,     3,   459,     3,     0],\n",
      "        [    0,   213,   262,     0,    89, 34570,   328,   630,     0],\n",
      "        [ 2160,     6, 23852,  5286,    56,    66,  4700,   119,     0],\n",
      "        [    0,   198,     0,     0,     0,    87,     0, 35533,   264],\n",
      "        [    2,   246,     0,     0,     0,     0,   316,     0, 35690]])\n"
     ]
    },
    {
     "data": {
      "application/vnd.jupyter.widget-view+json": {
       "model_id": "bed907ac840046ab90c34df4576fbc1e",
       "version_major": 2,
       "version_minor": 0
      },
      "text/plain": [
       "Validation: |          | 0/? [00:00<?, ?it/s]"
      ]
     },
     "metadata": {},
     "output_type": "display_data"
    },
    {
     "name": "stdout",
     "output_type": "stream",
     "text": [
      "Epoch end: Validation, epoch number: 26\n",
      "ValidationEpoch/CM\n",
      " tensor([[28031,    24,  2940,  4655,    61,    28,   484,    37,     0],\n",
      "        [    0, 37733,     0,     0,     0,    34,     0,     0,   282],\n",
      "        [   20,    27, 43239,    26,   132,   324,  1086,   201,     2],\n",
      "        [ 3271,    17,  3490, 29449,   422,    16,   861,    30,     0],\n",
      "        [    0,    39,   936,     0, 36123,     3,   459,     3,     0],\n",
      "        [    0,   218,   262,     0,    89, 36005,   328,   630,     0],\n",
      "        [ 2247,     6, 24603,  5547,    56,    66,  5046,   119,     0],\n",
      "        [    0,   198,     0,     0,     0,    87,     0, 36973,   264],\n",
      "        [    2,   246,     0,     0,     0,     0,   316,     0, 37135]])\n"
     ]
    },
    {
     "name": "stderr",
     "output_type": "stream",
     "text": [
      "Metric Validation/Accuracy improved by 0.002 >= min_delta = 0.0. New best score: 0.897\n"
     ]
    },
    {
     "name": "stdout",
     "output_type": "stream",
     "text": [
      "Epoch end: Train, epoch number: 25\n",
      "TrainEpoch/CM\n",
      " tensor([[28031,    24,  2940,  4655,    61,    28,   484,    37,     0],\n",
      "        [    0, 37733,     0,     0,     0,    34,     0,     0,   282],\n",
      "        [   20,    27, 43239,    26,   132,   324,  1086,   201,     2],\n",
      "        [ 3271,    17,  3490, 29449,   422,    16,   861,    30,     0],\n",
      "        [    0,    39,   936,     0, 36123,     3,   459,     3,     0],\n",
      "        [    0,   218,   262,     0,    89, 36005,   328,   630,     0],\n",
      "        [ 2247,     6, 24603,  5547,    56,    66,  5046,   119,     0],\n",
      "        [    0,   198,     0,     0,     0,    87,     0, 36973,   264],\n",
      "        [    2,   246,     0,     0,     0,     0,   316,     0, 37135]])\n"
     ]
    },
    {
     "data": {
      "application/vnd.jupyter.widget-view+json": {
       "model_id": "d82d5f21379a4f62a15a3c2d0b914dc3",
       "version_major": 2,
       "version_minor": 0
      },
      "text/plain": [
       "Validation: |          | 0/? [00:00<?, ?it/s]"
      ]
     },
     "metadata": {},
     "output_type": "display_data"
    },
    {
     "name": "stdout",
     "output_type": "stream",
     "text": [
      "Epoch end: Validation, epoch number: 27\n",
      "ValidationEpoch/CM\n",
      " tensor([[29374,    24,  2940,  4702,    61,    28,   484,    37,     0],\n",
      "        [    0, 39193,     0,     0,     0,    34,     0,     0,   282],\n",
      "        [   20,    27, 44903,    26,   132,   336,  1138,   201,     2],\n",
      "        [ 3410,    17,  3495, 30711,   427,    16,   890,    30,     0],\n",
      "        [    0,    39,   936,     0, 37563,     3,   459,     3,     0],\n",
      "        [    0,   223,   262,     0,    89, 37440,   328,   630,     0],\n",
      "        [ 2324,     6, 25322,  5788,    56,    66,  5454,   119,     0],\n",
      "        [    0,   198,     0,     0,     0,    87,     0, 38413,   264],\n",
      "        [    2,   246,     0,     0,     0,     0,   316,     0, 38580]])\n",
      "Epoch end: Train, epoch number: 26\n",
      "TrainEpoch/CM\n",
      " tensor([[29374,    24,  2940,  4702,    61,    28,   484,    37,     0],\n",
      "        [    0, 39193,     0,     0,     0,    34,     0,     0,   282],\n",
      "        [   20,    27, 44903,    26,   132,   336,  1138,   201,     2],\n",
      "        [ 3410,    17,  3495, 30711,   427,    16,   890,    30,     0],\n",
      "        [    0,    39,   936,     0, 37563,     3,   459,     3,     0],\n",
      "        [    0,   223,   262,     0,    89, 37440,   328,   630,     0],\n",
      "        [ 2324,     6, 25322,  5788,    56,    66,  5454,   119,     0],\n",
      "        [    0,   198,     0,     0,     0,    87,     0, 38413,   264],\n",
      "        [    2,   246,     0,     0,     0,     0,   316,     0, 38580]])\n"
     ]
    },
    {
     "name": "stderr",
     "output_type": "stream",
     "text": [
      "Metric Validation/Accuracy improved by 0.008 >= min_delta = 0.0. New best score: 0.905\n"
     ]
    },
    {
     "data": {
      "application/vnd.jupyter.widget-view+json": {
       "model_id": "c0248ae4ea7243b9a75d5229f4a6e71f",
       "version_major": 2,
       "version_minor": 0
      },
      "text/plain": [
       "Validation: |          | 0/? [00:00<?, ?it/s]"
      ]
     },
     "metadata": {},
     "output_type": "display_data"
    },
    {
     "name": "stdout",
     "output_type": "stream",
     "text": [
      "Epoch end: Validation, epoch number: 28\n",
      "ValidationEpoch/CM\n",
      " tensor([[30727,    24,  2940,  4739,    61,    28,   484,    37,     0],\n",
      "        [    0, 40653,     0,     0,     0,    34,     0,     0,   282],\n",
      "        [   20,    27, 46540,    26,   132,   348,  1217,   201,     2],\n",
      "        [ 3557,    17,  3500, 31950,   432,    16,   934,    30,     0],\n",
      "        [    0,    39,   936,     0, 39003,     3,   459,     3,     0],\n",
      "        [    0,   228,   262,     0,    89, 38875,   328,   630,     0],\n",
      "        [ 2383,     6, 25973,  5990,    56,    66,  5987,   119,     0],\n",
      "        [    0,   198,     0,     0,     0,    87,     0, 39853,   264],\n",
      "        [    2,   246,     0,     0,     0,     0,   316,     0, 40025]])\n",
      "Epoch end: Train, epoch number: 27\n",
      "TrainEpoch/CM\n",
      " tensor([[30727,    24,  2940,  4739,    61,    28,   484,    37,     0],\n",
      "        [    0, 40653,     0,     0,     0,    34,     0,     0,   282],\n",
      "        [   20,    27, 46540,    26,   132,   348,  1217,   201,     2],\n",
      "        [ 3557,    17,  3500, 31950,   432,    16,   934,    30,     0],\n",
      "        [    0,    39,   936,     0, 39003,     3,   459,     3,     0],\n",
      "        [    0,   228,   262,     0,    89, 38875,   328,   630,     0],\n",
      "        [ 2383,     6, 25973,  5990,    56,    66,  5987,   119,     0],\n",
      "        [    0,   198,     0,     0,     0,    87,     0, 39853,   264],\n",
      "        [    2,   246,     0,     0,     0,     0,   316,     0, 40025]])\n"
     ]
    },
    {
     "data": {
      "application/vnd.jupyter.widget-view+json": {
       "model_id": "95b3bb2d93b44b4cb46bcbcacfd46695",
       "version_major": 2,
       "version_minor": 0
      },
      "text/plain": [
       "Validation: |          | 0/? [00:00<?, ?it/s]"
      ]
     },
     "metadata": {},
     "output_type": "display_data"
    },
    {
     "name": "stdout",
     "output_type": "stream",
     "text": [
      "Epoch end: Validation, epoch number: 29\n",
      "ValidationEpoch/CM\n",
      " tensor([[32081,    24,  2940,  4775,    61,    28,   484,    37,     0],\n",
      "        [    0, 42113,     0,     0,     0,    34,     0,     0,   282],\n",
      "        [   20,    27, 48201,    26,   132,   360,  1272,   201,     2],\n",
      "        [ 3707,    17,  3505, 33197,   441,    16,   963,    30,     0],\n",
      "        [    0,    39,   936,     0, 40443,     3,   459,     3,     0],\n",
      "        [    0,   233,   262,     0,    89, 40310,   328,   630,     0],\n",
      "        [ 2452,     6, 26684,  6215,    56,    66,  6427,   119,     0],\n",
      "        [    0,   198,     0,     0,     0,    87,     0, 41293,   264],\n",
      "        [    2,   246,     0,     0,     0,     0,   316,     0, 41470]])\n",
      "Epoch end: Train, epoch number: 28\n",
      "TrainEpoch/CM\n",
      " tensor([[32081,    24,  2940,  4775,    61,    28,   484,    37,     0],\n",
      "        [    0, 42113,     0,     0,     0,    34,     0,     0,   282],\n",
      "        [   20,    27, 48201,    26,   132,   360,  1272,   201,     2],\n",
      "        [ 3707,    17,  3505, 33197,   441,    16,   963,    30,     0],\n",
      "        [    0,    39,   936,     0, 40443,     3,   459,     3,     0],\n",
      "        [    0,   233,   262,     0,    89, 40310,   328,   630,     0],\n",
      "        [ 2452,     6, 26684,  6215,    56,    66,  6427,   119,     0],\n",
      "        [    0,   198,     0,     0,     0,    87,     0, 41293,   264],\n",
      "        [    2,   246,     0,     0,     0,     0,   316,     0, 41470]])\n"
     ]
    },
    {
     "name": "stderr",
     "output_type": "stream",
     "text": [
      "Metric Validation/Accuracy improved by 0.004 >= min_delta = 0.0. New best score: 0.909\n"
     ]
    },
    {
     "data": {
      "application/vnd.jupyter.widget-view+json": {
       "model_id": "9821c25eb7d64302b3451fe1956ddd36",
       "version_major": 2,
       "version_minor": 0
      },
      "text/plain": [
       "Validation: |          | 0/? [00:00<?, ?it/s]"
      ]
     },
     "metadata": {},
     "output_type": "display_data"
    },
    {
     "name": "stdout",
     "output_type": "stream",
     "text": [
      "Epoch end: Validation, epoch number: 30\n",
      "ValidationEpoch/CM\n",
      " tensor([[33429,    24,  2940,  4817,    61,    28,   484,    37,     0],\n",
      "        [    0, 43573,     0,     0,     0,    34,     0,     0,   282],\n",
      "        [   20,    27, 49849,    26,   132,   372,  1340,   201,     2],\n",
      "        [ 3836,    17,  3510, 34456,   446,    16,  1005,    30,     0],\n",
      "        [    0,    39,   936,     0, 41883,     3,   459,     3,     0],\n",
      "        [    0,   238,   262,     0,    89, 41745,   328,   630,     0],\n",
      "        [ 2508,     6, 27334,  6426,    56,    66,  6955,   119,     0],\n",
      "        [    0,   198,     0,     0,     0,    87,     0, 42733,   264],\n",
      "        [    2,   246,     0,     0,     0,     0,   316,     0, 42915]])\n",
      "Epoch end: Train, epoch number: 29\n",
      "TrainEpoch/CM\n",
      " tensor([[33429,    24,  2940,  4817,    61,    28,   484,    37,     0],\n",
      "        [    0, 43573,     0,     0,     0,    34,     0,     0,   282],\n",
      "        [   20,    27, 49849,    26,   132,   372,  1340,   201,     2],\n",
      "        [ 3836,    17,  3510, 34456,   446,    16,  1005,    30,     0],\n",
      "        [    0,    39,   936,     0, 41883,     3,   459,     3,     0],\n",
      "        [    0,   238,   262,     0,    89, 41745,   328,   630,     0],\n",
      "        [ 2508,     6, 27334,  6426,    56,    66,  6955,   119,     0],\n",
      "        [    0,   198,     0,     0,     0,    87,     0, 42733,   264],\n",
      "        [    2,   246,     0,     0,     0,     0,   316,     0, 42915]])\n"
     ]
    },
    {
     "data": {
      "application/vnd.jupyter.widget-view+json": {
       "model_id": "26bfde38dcf049ad9f9c9d284c0ba14b",
       "version_major": 2,
       "version_minor": 0
      },
      "text/plain": [
       "Validation: |          | 0/? [00:00<?, ?it/s]"
      ]
     },
     "metadata": {},
     "output_type": "display_data"
    },
    {
     "name": "stdout",
     "output_type": "stream",
     "text": [
      "Epoch end: Validation, epoch number: 31\n",
      "ValidationEpoch/CM\n",
      " tensor([[34801,    24,  2940,  4835,    61,    28,   484,    37,     0],\n",
      "        [    0, 45033,     0,     0,     0,    34,     0,     0,   282],\n",
      "        [   20,    27, 51494,    26,   132,   384,  1411,   201,     2],\n",
      "        [ 3993,    17,  3515, 35682,   451,    16,  1052,    30,     0],\n",
      "        [    0,    39,   936,     0, 43323,     3,   459,     3,     0],\n",
      "        [    0,   243,   262,     0,    89, 43180,   328,   630,     0],\n",
      "        [ 2567,     6, 27963,  6620,    56,    66,  7518,   119,     0],\n",
      "        [    0,   198,     0,     0,     0,    87,     0, 44173,   264],\n",
      "        [    2,   246,     0,     0,     0,     0,   316,     0, 44360]])\n",
      "Epoch end: Train, epoch number: 30\n",
      "TrainEpoch/CM\n",
      " tensor([[34801,    24,  2940,  4835,    61,    28,   484,    37,     0],\n",
      "        [    0, 45033,     0,     0,     0,    34,     0,     0,   282],\n",
      "        [   20,    27, 51494,    26,   132,   384,  1411,   201,     2],\n",
      "        [ 3993,    17,  3515, 35682,   451,    16,  1052,    30,     0],\n",
      "        [    0,    39,   936,     0, 43323,     3,   459,     3,     0],\n",
      "        [    0,   243,   262,     0,    89, 43180,   328,   630,     0],\n",
      "        [ 2567,     6, 27963,  6620,    56,    66,  7518,   119,     0],\n",
      "        [    0,   198,     0,     0,     0,    87,     0, 44173,   264],\n",
      "        [    2,   246,     0,     0,     0,     0,   316,     0, 44360]])\n"
     ]
    },
    {
     "data": {
      "application/vnd.jupyter.widget-view+json": {
       "model_id": "bd212632c24446b59b9f780569f25933",
       "version_major": 2,
       "version_minor": 0
      },
      "text/plain": [
       "Validation: |          | 0/? [00:00<?, ?it/s]"
      ]
     },
     "metadata": {},
     "output_type": "display_data"
    },
    {
     "name": "stdout",
     "output_type": "stream",
     "text": [
      "Epoch end: Validation, epoch number: 32\n",
      "ValidationEpoch/CM\n",
      " tensor([[36165,    24,  2940,  4861,    61,    28,   484,    37,     0],\n",
      "        [    0, 46493,     0,     0,     0,    34,     0,     0,   282],\n",
      "        [   20,    27, 53155,    26,   132,   396,  1466,   201,     2],\n",
      "        [ 4138,    17,  3520, 36940,   456,    16,  1079,    30,     0],\n",
      "        [    0,    39,   936,     0, 44763,     3,   459,     3,     0],\n",
      "        [    0,   248,   262,     0,    89, 44615,   328,   630,     0],\n",
      "        [ 2638,     6, 28630,  6843,    56,    66,  8002,   119,     0],\n",
      "        [    0,   198,     0,     0,     0,    87,     0, 45613,   264],\n",
      "        [    2,   246,     0,     0,     0,     0,   316,     0, 45805]])\n"
     ]
    },
    {
     "name": "stderr",
     "output_type": "stream",
     "text": [
      "Metric Validation/Accuracy improved by 0.001 >= min_delta = 0.0. New best score: 0.910\n"
     ]
    },
    {
     "name": "stdout",
     "output_type": "stream",
     "text": [
      "Epoch end: Train, epoch number: 31\n",
      "TrainEpoch/CM\n",
      " tensor([[36165,    24,  2940,  4861,    61,    28,   484,    37,     0],\n",
      "        [    0, 46493,     0,     0,     0,    34,     0,     0,   282],\n",
      "        [   20,    27, 53155,    26,   132,   396,  1466,   201,     2],\n",
      "        [ 4138,    17,  3520, 36940,   456,    16,  1079,    30,     0],\n",
      "        [    0,    39,   936,     0, 44763,     3,   459,     3,     0],\n",
      "        [    0,   248,   262,     0,    89, 44615,   328,   630,     0],\n",
      "        [ 2638,     6, 28630,  6843,    56,    66,  8002,   119,     0],\n",
      "        [    0,   198,     0,     0,     0,    87,     0, 45613,   264],\n",
      "        [    2,   246,     0,     0,     0,     0,   316,     0, 45805]])\n"
     ]
    },
    {
     "data": {
      "application/vnd.jupyter.widget-view+json": {
       "model_id": "30e0a9e41bc74a439816ed7dbc50d93c",
       "version_major": 2,
       "version_minor": 0
      },
      "text/plain": [
       "Validation: |          | 0/? [00:00<?, ?it/s]"
      ]
     },
     "metadata": {},
     "output_type": "display_data"
    },
    {
     "name": "stdout",
     "output_type": "stream",
     "text": [
      "Epoch end: Validation, epoch number: 33\n",
      "ValidationEpoch/CM\n",
      " tensor([[37535,    24,  2940,  4881,    61,    28,   484,    37,     0],\n",
      "        [    0, 47953,     0,     0,     0,    34,     0,     0,   282],\n",
      "        [   20,    27, 54794,    26,   132,   408,  1543,   201,     2],\n",
      "        [ 4287,    17,  3525, 38171,   461,    16,  1129,    30,     0],\n",
      "        [    0,    39,   936,     0, 46203,     3,   459,     3,     0],\n",
      "        [    0,   253,   262,     0,    89, 46050,   328,   630,     0],\n",
      "        [ 2688,     6, 29246,  7019,    56,    66,  8605,   119,     0],\n",
      "        [    0,   198,     0,     0,     0,    87,     0, 47053,   264],\n",
      "        [    2,   246,     0,     0,     0,     0,   316,     0, 47250]])\n",
      "Epoch end: Train, epoch number: 32\n"
     ]
    },
    {
     "name": "stderr",
     "output_type": "stream",
     "text": [
      "Metric Validation/Accuracy improved by 0.003 >= min_delta = 0.0. New best score: 0.913\n"
     ]
    },
    {
     "name": "stdout",
     "output_type": "stream",
     "text": [
      "TrainEpoch/CM\n",
      " tensor([[37535,    24,  2940,  4881,    61,    28,   484,    37,     0],\n",
      "        [    0, 47953,     0,     0,     0,    34,     0,     0,   282],\n",
      "        [   20,    27, 54794,    26,   132,   408,  1543,   201,     2],\n",
      "        [ 4287,    17,  3525, 38171,   461,    16,  1129,    30,     0],\n",
      "        [    0,    39,   936,     0, 46203,     3,   459,     3,     0],\n",
      "        [    0,   253,   262,     0,    89, 46050,   328,   630,     0],\n",
      "        [ 2688,     6, 29246,  7019,    56,    66,  8605,   119,     0],\n",
      "        [    0,   198,     0,     0,     0,    87,     0, 47053,   264],\n",
      "        [    2,   246,     0,     0,     0,     0,   316,     0, 47250]])\n"
     ]
    },
    {
     "data": {
      "application/vnd.jupyter.widget-view+json": {
       "model_id": "f4f4ce53e51f4145a9ccdac8f2c80e31",
       "version_major": 2,
       "version_minor": 0
      },
      "text/plain": [
       "Validation: |          | 0/? [00:00<?, ?it/s]"
      ]
     },
     "metadata": {},
     "output_type": "display_data"
    },
    {
     "name": "stdout",
     "output_type": "stream",
     "text": [
      "Epoch end: Validation, epoch number: 34\n",
      "ValidationEpoch/CM\n",
      " tensor([[38890,    24,  2940,  4916,    61,    28,   484,    37,     0],\n",
      "        [    0, 49413,     0,     0,     0,    34,     0,     0,   282],\n",
      "        [   20,    27, 56432,    26,   132,   420,  1621,   201,     2],\n",
      "        [ 4419,    17,  3530, 39428,   466,    16,  1170,    30,     0],\n",
      "        [    0,    39,   936,     0, 47643,     3,   459,     3,     0],\n",
      "        [    0,   258,   262,     0,    89, 47485,   328,   630,     0],\n",
      "        [ 2739,     6, 29864,  7224,    56,    66,  9176,   119,     0],\n",
      "        [    0,   198,     0,     0,     0,    87,     0, 48493,   264],\n",
      "        [    2,   246,     0,     0,     0,     0,   316,     0, 48695]])\n",
      "Epoch end: Train, epoch number: 33\n",
      "TrainEpoch/CM\n",
      " tensor([[38890,    24,  2940,  4916,    61,    28,   484,    37,     0],\n",
      "        [    0, 49413,     0,     0,     0,    34,     0,     0,   282],\n",
      "        [   20,    27, 56432,    26,   132,   420,  1621,   201,     2],\n",
      "        [ 4419,    17,  3530, 39428,   466,    16,  1170,    30,     0],\n",
      "        [    0,    39,   936,     0, 47643,     3,   459,     3,     0],\n",
      "        [    0,   258,   262,     0,    89, 47485,   328,   630,     0],\n",
      "        [ 2739,     6, 29864,  7224,    56,    66,  9176,   119,     0],\n",
      "        [    0,   198,     0,     0,     0,    87,     0, 48493,   264],\n",
      "        [    2,   246,     0,     0,     0,     0,   316,     0, 48695]])\n"
     ]
    },
    {
     "data": {
      "application/vnd.jupyter.widget-view+json": {
       "model_id": "a510140951604c4c98653772c8e361c7",
       "version_major": 2,
       "version_minor": 0
      },
      "text/plain": [
       "Validation: |          | 0/? [00:00<?, ?it/s]"
      ]
     },
     "metadata": {},
     "output_type": "display_data"
    },
    {
     "name": "stdout",
     "output_type": "stream",
     "text": [
      "Epoch end: Validation, epoch number: 35\n",
      "ValidationEpoch/CM\n",
      " tensor([[40260,    24,  2940,  4936,    61,    28,   484,    37,     0],\n",
      "        [    0, 50873,     0,     0,     0,    34,     0,     0,   282],\n",
      "        [   20,    27, 58066,    26,   132,   432,  1703,   201,     2],\n",
      "        [ 4548,    17,  3535, 40675,   471,    16,  1224,    30,     0],\n",
      "        [    0,    39,   936,     0, 49083,     3,   459,     3,     0],\n",
      "        [    0,   263,   262,     0,    89, 48920,   328,   630,     0],\n",
      "        [ 2788,     6, 30442,  7390,    56,    66,  9828,   119,     0],\n",
      "        [    0,   198,     0,     0,     0,    87,     0, 49933,   264],\n",
      "        [    2,   246,     0,     0,     0,     0,   316,     0, 50140]])\n",
      "Epoch end: Train, epoch number: 34\n",
      "TrainEpoch/CM\n",
      " tensor([[40260,    24,  2940,  4936,    61,    28,   484,    37,     0],\n",
      "        [    0, 50873,     0,     0,     0,    34,     0,     0,   282],\n",
      "        [   20,    27, 58066,    26,   132,   432,  1703,   201,     2],\n",
      "        [ 4548,    17,  3535, 40675,   471,    16,  1224,    30,     0],\n",
      "        [    0,    39,   936,     0, 49083,     3,   459,     3,     0],\n",
      "        [    0,   263,   262,     0,    89, 48920,   328,   630,     0],\n",
      "        [ 2788,     6, 30442,  7390,    56,    66,  9828,   119,     0],\n",
      "        [    0,   198,     0,     0,     0,    87,     0, 49933,   264],\n",
      "        [    2,   246,     0,     0,     0,     0,   316,     0, 50140]])\n"
     ]
    },
    {
     "name": "stderr",
     "output_type": "stream",
     "text": [
      "Metric Validation/Accuracy improved by 0.002 >= min_delta = 0.0. New best score: 0.915\n"
     ]
    },
    {
     "data": {
      "application/vnd.jupyter.widget-view+json": {
       "model_id": "3073740e03494d61b3ac2170ad54e968",
       "version_major": 2,
       "version_minor": 0
      },
      "text/plain": [
       "Validation: |          | 0/? [00:00<?, ?it/s]"
      ]
     },
     "metadata": {},
     "output_type": "display_data"
    },
    {
     "name": "stdout",
     "output_type": "stream",
     "text": [
      "Epoch end: Validation, epoch number: 36\n",
      "ValidationEpoch/CM\n",
      " tensor([[41625,    24,  2940,  4961,    61,    28,   484,    37,     0],\n",
      "        [    0, 52333,     0,     0,     0,    34,     0,     0,   282],\n",
      "        [   20,    27, 59718,    26,   132,   444,  1767,   201,     2],\n",
      "        [ 4670,    17,  3540, 41934,   476,    16,  1273,    30,     0],\n",
      "        [    0,    39,   936,     0, 50523,     3,   459,     3,     0],\n",
      "        [    0,   268,   262,     0,    89, 50355,   328,   630,     0],\n",
      "        [ 2838,     6, 31048,  7584,    56,    66, 10423,   119,     0],\n",
      "        [    0,   198,     0,     0,     0,    87,     0, 51373,   264],\n",
      "        [    2,   246,     0,     0,     0,     0,   316,     0, 51585]])\n",
      "Epoch end: Train, epoch number: 35\n",
      "TrainEpoch/CM\n",
      " tensor([[41625,    24,  2940,  4961,    61,    28,   484,    37,     0],\n",
      "        [    0, 52333,     0,     0,     0,    34,     0,     0,   282],\n",
      "        [   20,    27, 59718,    26,   132,   444,  1767,   201,     2],\n",
      "        [ 4670,    17,  3540, 41934,   476,    16,  1273,    30,     0],\n",
      "        [    0,    39,   936,     0, 50523,     3,   459,     3,     0],\n",
      "        [    0,   268,   262,     0,    89, 50355,   328,   630,     0],\n",
      "        [ 2838,     6, 31048,  7584,    56,    66, 10423,   119,     0],\n",
      "        [    0,   198,     0,     0,     0,    87,     0, 51373,   264],\n",
      "        [    2,   246,     0,     0,     0,     0,   316,     0, 51585]])\n"
     ]
    },
    {
     "name": "stderr",
     "output_type": "stream",
     "text": [
      "Metric Validation/Accuracy improved by 0.005 >= min_delta = 0.0. New best score: 0.920\n"
     ]
    },
    {
     "data": {
      "application/vnd.jupyter.widget-view+json": {
       "model_id": "a3d9cdb3923940be979b32757dc16a88",
       "version_major": 2,
       "version_minor": 0
      },
      "text/plain": [
       "Validation: |          | 0/? [00:00<?, ?it/s]"
      ]
     },
     "metadata": {},
     "output_type": "display_data"
    },
    {
     "name": "stdout",
     "output_type": "stream",
     "text": [
      "Epoch end: Validation, epoch number: 37\n",
      "ValidationEpoch/CM\n",
      " tensor([[42995,    24,  2940,  4981,    61,    28,   484,    37,     0],\n",
      "        [    0, 53793,     0,     0,     0,    34,     0,     0,   282],\n",
      "        [   20,    27, 61351,    26,   132,   456,  1850,   201,     2],\n",
      "        [ 4797,    17,  3545, 43188,   481,    16,  1322,    30,     0],\n",
      "        [    0,    39,   936,     0, 51963,     3,   459,     3,     0],\n",
      "        [    0,   273,   262,     0,    89, 51790,   328,   630,     0],\n",
      "        [ 2886,     6, 31613,  7756,    56,    66, 11083,   119,     0],\n",
      "        [    0,   198,     0,     0,     0,    87,     0, 52813,   264],\n",
      "        [    2,   246,     0,     0,     0,     0,   316,     0, 53030]])\n",
      "Epoch end: Train, epoch number: 36\n",
      "TrainEpoch/CM\n",
      " tensor([[42995,    24,  2940,  4981,    61,    28,   484,    37,     0],\n",
      "        [    0, 53793,     0,     0,     0,    34,     0,     0,   282],\n",
      "        [   20,    27, 61351,    26,   132,   456,  1850,   201,     2],\n",
      "        [ 4797,    17,  3545, 43188,   481,    16,  1322,    30,     0],\n",
      "        [    0,    39,   936,     0, 51963,     3,   459,     3,     0],\n",
      "        [    0,   273,   262,     0,    89, 51790,   328,   630,     0],\n",
      "        [ 2886,     6, 31613,  7756,    56,    66, 11083,   119,     0],\n",
      "        [    0,   198,     0,     0,     0,    87,     0, 52813,   264],\n",
      "        [    2,   246,     0,     0,     0,     0,   316,     0, 53030]])\n"
     ]
    },
    {
     "name": "stderr",
     "output_type": "stream",
     "text": [
      "Metric Validation/Accuracy improved by 0.002 >= min_delta = 0.0. New best score: 0.921\n"
     ]
    },
    {
     "data": {
      "application/vnd.jupyter.widget-view+json": {
       "model_id": "5a2b4195114a4af2b3fb52650d8214c9",
       "version_major": 2,
       "version_minor": 0
      },
      "text/plain": [
       "Validation: |          | 0/? [00:00<?, ?it/s]"
      ]
     },
     "metadata": {},
     "output_type": "display_data"
    },
    {
     "name": "stdout",
     "output_type": "stream",
     "text": [
      "Epoch end: Validation, epoch number: 38\n",
      "ValidationEpoch/CM\n",
      " tensor([[44368,    24,  2940,  4998,    61,    28,   484,    37,     0],\n",
      "        [    0, 55253,     0,     0,     0,    34,     0,     0,   282],\n",
      "        [   20,    27, 62999,    26,   132,   468,  1918,   201,     2],\n",
      "        [ 4921,    17,  3550, 44440,   486,    16,  1376,    30,     0],\n",
      "        [    0,    39,   936,     0, 53403,     3,   459,     3,     0],\n",
      "        [    0,   278,   262,     0,    89, 53225,   328,   630,     0],\n",
      "        [ 2932,     6, 32195,  7922,    56,    66, 11734,   119,     0],\n",
      "        [    0,   198,     0,     0,     0,    87,     0, 54253,   264],\n",
      "        [    2,   246,     0,     0,     0,     0,   316,     0, 54475]])\n",
      "Epoch end: Train, epoch number: 37\n",
      "TrainEpoch/CM\n",
      " tensor([[44368,    24,  2940,  4998,    61,    28,   484,    37,     0],\n",
      "        [    0, 55253,     0,     0,     0,    34,     0,     0,   282],\n",
      "        [   20,    27, 62999,    26,   132,   468,  1918,   201,     2],\n",
      "        [ 4921,    17,  3550, 44440,   486,    16,  1376,    30,     0],\n",
      "        [    0,    39,   936,     0, 53403,     3,   459,     3,     0],\n",
      "        [    0,   278,   262,     0,    89, 53225,   328,   630,     0],\n",
      "        [ 2932,     6, 32195,  7922,    56,    66, 11734,   119,     0],\n",
      "        [    0,   198,     0,     0,     0,    87,     0, 54253,   264],\n",
      "        [    2,   246,     0,     0,     0,     0,   316,     0, 54475]])\n"
     ]
    },
    {
     "data": {
      "application/vnd.jupyter.widget-view+json": {
       "model_id": "a24b57f803bc44fbba7b64c365e6f8e8",
       "version_major": 2,
       "version_minor": 0
      },
      "text/plain": [
       "Validation: |          | 0/? [00:00<?, ?it/s]"
      ]
     },
     "metadata": {},
     "output_type": "display_data"
    },
    {
     "name": "stdout",
     "output_type": "stream",
     "text": [
      "Epoch end: Validation, epoch number: 39\n",
      "ValidationEpoch/CM\n",
      " tensor([[45743,    24,  2940,  5013,    61,    28,   484,    37,     0],\n",
      "        [    0, 56713,     0,     0,     0,    34,     0,     0,   282],\n",
      "        [   20,    27, 64646,    26,   132,   480,  1987,   201,     2],\n",
      "        [ 5050,    17,  3555, 45699,   491,    16,  1418,    30,     0],\n",
      "        [    0,    39,   936,     0, 54843,     3,   459,     3,     0],\n",
      "        [    0,   283,   262,     0,    89, 54660,   328,   630,     0],\n",
      "        [ 2980,     6, 32760,  8106,    56,    66, 12382,   119,     0],\n",
      "        [    0,   198,     0,     0,     0,    87,     0, 55693,   264],\n",
      "        [    2,   246,     0,     0,     0,     0,   316,     0, 55920]])\n",
      "Epoch end: Train, epoch number: 38\n",
      "TrainEpoch/CM\n",
      " tensor([[45743,    24,  2940,  5013,    61,    28,   484,    37,     0],\n",
      "        [    0, 56713,     0,     0,     0,    34,     0,     0,   282],\n",
      "        [   20,    27, 64646,    26,   132,   480,  1987,   201,     2],\n",
      "        [ 5050,    17,  3555, 45699,   491,    16,  1418,    30,     0],\n",
      "        [    0,    39,   936,     0, 54843,     3,   459,     3,     0],\n",
      "        [    0,   283,   262,     0,    89, 54660,   328,   630,     0],\n",
      "        [ 2980,     6, 32760,  8106,    56,    66, 12382,   119,     0],\n",
      "        [    0,   198,     0,     0,     0,    87,     0, 55693,   264],\n",
      "        [    2,   246,     0,     0,     0,     0,   316,     0, 55920]])\n"
     ]
    },
    {
     "name": "stderr",
     "output_type": "stream",
     "text": [
      "Metric Validation/Accuracy improved by 0.002 >= min_delta = 0.0. New best score: 0.924\n"
     ]
    },
    {
     "data": {
      "application/vnd.jupyter.widget-view+json": {
       "model_id": "c01ee68d4afe45169b0eef79eea9c5c1",
       "version_major": 2,
       "version_minor": 0
      },
      "text/plain": [
       "Validation: |          | 0/? [00:00<?, ?it/s]"
      ]
     },
     "metadata": {},
     "output_type": "display_data"
    },
    {
     "name": "stdout",
     "output_type": "stream",
     "text": [
      "Epoch end: Validation, epoch number: 40\n",
      "ValidationEpoch/CM\n",
      " tensor([[47113,    24,  2940,  5033,    61,    28,   484,    37,     0],\n",
      "        [    0, 58173,     0,     0,     0,    34,     0,     0,   282],\n",
      "        [   20,    27, 66281,    26,   132,   492,  2068,   201,     2],\n",
      "        [ 5164,    17,  3560, 46964,   496,    16,  1469,    30,     0],\n",
      "        [    0,    39,   936,     0, 56283,     3,   459,     3,     0],\n",
      "        [    0,   288,   262,     0,    89, 56095,   328,   630,     0],\n",
      "        [ 3026,     6, 33292,  8274,    56,    66, 13081,   119,     0],\n",
      "        [    0,   198,     0,     0,     0,    87,     0, 57133,   264],\n",
      "        [    2,   246,     0,     0,     0,     0,   316,     0, 57365]])\n"
     ]
    },
    {
     "name": "stderr",
     "output_type": "stream",
     "text": [
      "Metric Validation/Accuracy improved by 0.002 >= min_delta = 0.0. New best score: 0.925\n"
     ]
    },
    {
     "name": "stdout",
     "output_type": "stream",
     "text": [
      "Epoch end: Train, epoch number: 39\n",
      "TrainEpoch/CM\n",
      " tensor([[47113,    24,  2940,  5033,    61,    28,   484,    37,     0],\n",
      "        [    0, 58173,     0,     0,     0,    34,     0,     0,   282],\n",
      "        [   20,    27, 66281,    26,   132,   492,  2068,   201,     2],\n",
      "        [ 5164,    17,  3560, 46964,   496,    16,  1469,    30,     0],\n",
      "        [    0,    39,   936,     0, 56283,     3,   459,     3,     0],\n",
      "        [    0,   288,   262,     0,    89, 56095,   328,   630,     0],\n",
      "        [ 3026,     6, 33292,  8274,    56,    66, 13081,   119,     0],\n",
      "        [    0,   198,     0,     0,     0,    87,     0, 57133,   264],\n",
      "        [    2,   246,     0,     0,     0,     0,   316,     0, 57365]])\n"
     ]
    },
    {
     "data": {
      "application/vnd.jupyter.widget-view+json": {
       "model_id": "c4215fb336f645a0a75fd1f66101e2cf",
       "version_major": 2,
       "version_minor": 0
      },
      "text/plain": [
       "Validation: |          | 0/? [00:00<?, ?it/s]"
      ]
     },
     "metadata": {},
     "output_type": "display_data"
    },
    {
     "name": "stdout",
     "output_type": "stream",
     "text": [
      "Epoch end: Validation, epoch number: 41\n",
      "ValidationEpoch/CM\n",
      " tensor([[48488,    24,  2940,  5048,    61,    28,   484,    37,     0],\n",
      "        [    0, 59633,     0,     0,     0,    34,     0,     0,   282],\n",
      "        [   20,    27, 67915,    26,   132,   504,  2150,   201,     2],\n",
      "        [ 5286,    17,  3565, 48217,   501,    16,  1524,    30,     0],\n",
      "        [    0,    39,   936,     0, 57723,     3,   459,     3,     0],\n",
      "        [    0,   293,   262,     0,    89, 57530,   328,   630,     0],\n",
      "        [ 3069,     6, 33808,  8438,    56,    66, 13803,   119,     0],\n",
      "        [    0,   198,     0,     0,     0,    87,     0, 58573,   264],\n",
      "        [    2,   246,     0,     0,     0,     0,   316,     0, 58810]])\n",
      "Epoch end: Train, epoch number: 40\n",
      "TrainEpoch/CM\n",
      " tensor([[48488,    24,  2940,  5048,    61,    28,   484,    37,     0],\n",
      "        [    0, 59633,     0,     0,     0,    34,     0,     0,   282],\n",
      "        [   20,    27, 67915,    26,   132,   504,  2150,   201,     2],\n",
      "        [ 5286,    17,  3565, 48217,   501,    16,  1524,    30,     0],\n",
      "        [    0,    39,   936,     0, 57723,     3,   459,     3,     0],\n",
      "        [    0,   293,   262,     0,    89, 57530,   328,   630,     0],\n",
      "        [ 3069,     6, 33808,  8438,    56,    66, 13803,   119,     0],\n",
      "        [    0,   198,     0,     0,     0,    87,     0, 58573,   264],\n",
      "        [    2,   246,     0,     0,     0,     0,   316,     0, 58810]])\n"
     ]
    },
    {
     "data": {
      "application/vnd.jupyter.widget-view+json": {
       "model_id": "1e99e50d91934f0a976d08108b2ba5ea",
       "version_major": 2,
       "version_minor": 0
      },
      "text/plain": [
       "Validation: |          | 0/? [00:00<?, ?it/s]"
      ]
     },
     "metadata": {},
     "output_type": "display_data"
    },
    {
     "name": "stdout",
     "output_type": "stream",
     "text": [
      "Epoch end: Validation, epoch number: 42\n",
      "ValidationEpoch/CM\n",
      " tensor([[49859,    24,  2940,  5067,    61,    28,   484,    37,     0],\n",
      "        [    0, 61093,     0,     0,     0,    34,     0,     0,   282],\n",
      "        [   20,    27, 69556,    26,   132,   516,  2225,   201,     2],\n",
      "        [ 5387,    17,  3570, 49500,   506,    16,  1570,    30,     0],\n",
      "        [    0,    39,   936,     0, 59163,     3,   459,     3,     0],\n",
      "        [    0,   298,   262,     0,    89, 58965,   328,   630,     0],\n",
      "        [ 3115,     6, 34350,  8620,    56,    66, 14478,   119,     0],\n",
      "        [    0,   198,     0,     0,     0,    87,     0, 60013,   264],\n",
      "        [    2,   246,     0,     0,     0,     0,   316,     0, 60255]])\n",
      "Epoch end: Train, epoch number: 41\n",
      "TrainEpoch/CM\n",
      " tensor([[49859,    24,  2940,  5067,    61,    28,   484,    37,     0],\n",
      "        [    0, 61093,     0,     0,     0,    34,     0,     0,   282],\n",
      "        [   20,    27, 69556,    26,   132,   516,  2225,   201,     2],\n",
      "        [ 5387,    17,  3570, 49500,   506,    16,  1570,    30,     0],\n",
      "        [    0,    39,   936,     0, 59163,     3,   459,     3,     0],\n",
      "        [    0,   298,   262,     0,    89, 58965,   328,   630,     0],\n",
      "        [ 3115,     6, 34350,  8620,    56,    66, 14478,   119,     0],\n",
      "        [    0,   198,     0,     0,     0,    87,     0, 60013,   264],\n",
      "        [    2,   246,     0,     0,     0,     0,   316,     0, 60255]])\n"
     ]
    },
    {
     "data": {
      "application/vnd.jupyter.widget-view+json": {
       "model_id": "0c379afece8644578e743c6f694afb51",
       "version_major": 2,
       "version_minor": 0
      },
      "text/plain": [
       "Validation: |          | 0/? [00:00<?, ?it/s]"
      ]
     },
     "metadata": {},
     "output_type": "display_data"
    },
    {
     "name": "stdout",
     "output_type": "stream",
     "text": [
      "Epoch end: Validation, epoch number: 43\n",
      "ValidationEpoch/CM\n",
      " tensor([[51231,    24,  2940,  5085,    61,    28,   484,    37,     0],\n",
      "        [    0, 62553,     0,     0,     0,    34,     0,     0,   282],\n",
      "        [   20,    27, 71189,    26,   132,   528,  2308,   201,     2],\n",
      "        [ 5488,    17,  3575, 50774,   511,    16,  1625,    30,     0],\n",
      "        [    0,    39,   936,     0, 60603,     3,   459,     3,     0],\n",
      "        [    0,   303,   262,     0,    89, 60400,   328,   630,     0],\n",
      "        [ 3152,     6, 34826,  8781,    56,    66, 15249,   119,     0],\n",
      "        [    0,   198,     0,     0,     0,    87,     0, 61453,   264],\n",
      "        [    2,   246,     0,     0,     0,     0,   316,     0, 61700]])\n",
      "Epoch end: Train, epoch number: 42\n",
      "TrainEpoch/CM\n",
      " tensor([[51231,    24,  2940,  5085,    61,    28,   484,    37,     0],\n",
      "        [    0, 62553,     0,     0,     0,    34,     0,     0,   282],\n",
      "        [   20,    27, 71189,    26,   132,   528,  2308,   201,     2],\n",
      "        [ 5488,    17,  3575, 50774,   511,    16,  1625,    30,     0],\n",
      "        [    0,    39,   936,     0, 60603,     3,   459,     3,     0],\n",
      "        [    0,   303,   262,     0,    89, 60400,   328,   630,     0],\n",
      "        [ 3152,     6, 34826,  8781,    56,    66, 15249,   119,     0],\n",
      "        [    0,   198,     0,     0,     0,    87,     0, 61453,   264],\n",
      "        [    2,   246,     0,     0,     0,     0,   316,     0, 61700]])\n"
     ]
    },
    {
     "data": {
      "application/vnd.jupyter.widget-view+json": {
       "model_id": "9261575f6988473085bebab1583ce342",
       "version_major": 2,
       "version_minor": 0
      },
      "text/plain": [
       "Validation: |          | 0/? [00:00<?, ?it/s]"
      ]
     },
     "metadata": {},
     "output_type": "display_data"
    },
    {
     "name": "stdout",
     "output_type": "stream",
     "text": [
      "Epoch end: Validation, epoch number: 44\n",
      "ValidationEpoch/CM\n",
      " tensor([[52613,    24,  2940,  5093,    61,    28,   484,    37,     0],\n",
      "        [    0, 64013,     0,     0,     0,    34,     0,     0,   282],\n",
      "        [   20,    27, 72834,    26,   132,   540,  2379,   201,     2],\n",
      "        [ 5607,    17,  3580, 52031,   516,    16,  1679,    30,     0],\n",
      "        [    0,    39,   936,     0, 62043,     3,   459,     3,     0],\n",
      "        [    0,   308,   262,     0,    89, 61835,   328,   630,     0],\n",
      "        [ 3197,     6, 35350,  8945,    56,    66, 15961,   119,     0],\n",
      "        [    0,   198,     0,     0,     0,    87,     0, 62893,   264],\n",
      "        [    2,   246,     0,     0,     0,     0,   316,     0, 63145]])\n"
     ]
    },
    {
     "name": "stderr",
     "output_type": "stream",
     "text": [
      "Metric Validation/Accuracy improved by 0.001 >= min_delta = 0.0. New best score: 0.926\n"
     ]
    },
    {
     "name": "stdout",
     "output_type": "stream",
     "text": [
      "Epoch end: Train, epoch number: 43\n",
      "TrainEpoch/CM\n",
      " tensor([[52613,    24,  2940,  5093,    61,    28,   484,    37,     0],\n",
      "        [    0, 64013,     0,     0,     0,    34,     0,     0,   282],\n",
      "        [   20,    27, 72834,    26,   132,   540,  2379,   201,     2],\n",
      "        [ 5607,    17,  3580, 52031,   516,    16,  1679,    30,     0],\n",
      "        [    0,    39,   936,     0, 62043,     3,   459,     3,     0],\n",
      "        [    0,   308,   262,     0,    89, 61835,   328,   630,     0],\n",
      "        [ 3197,     6, 35350,  8945,    56,    66, 15961,   119,     0],\n",
      "        [    0,   198,     0,     0,     0,    87,     0, 62893,   264],\n",
      "        [    2,   246,     0,     0,     0,     0,   316,     0, 63145]])\n"
     ]
    },
    {
     "data": {
      "application/vnd.jupyter.widget-view+json": {
       "model_id": "6382e71faac549358abbeeacb9f984b5",
       "version_major": 2,
       "version_minor": 0
      },
      "text/plain": [
       "Validation: |          | 0/? [00:00<?, ?it/s]"
      ]
     },
     "metadata": {},
     "output_type": "display_data"
    },
    {
     "name": "stdout",
     "output_type": "stream",
     "text": [
      "Epoch end: Validation, epoch number: 45\n",
      "ValidationEpoch/CM\n",
      " tensor([[53983,    24,  2940,  5113,    61,    28,   484,    37,     0],\n",
      "        [    0, 65473,     0,     0,     0,    34,     0,     0,   282],\n",
      "        [   20,    27, 74493,    26,   132,   552,  2436,   201,     2],\n",
      "        [ 5708,    17,  3585, 53314,   521,    16,  1725,    30,     0],\n",
      "        [    0,    39,   936,     0, 63483,     3,   459,     3,     0],\n",
      "        [    0,   313,   262,     0,    89, 63270,   328,   630,     0],\n",
      "        [ 3240,     6, 35899,  9118,    56,    66, 16641,   119,     0],\n",
      "        [    0,   198,     0,     0,     0,    87,     0, 64333,   264],\n",
      "        [    2,   246,     0,     0,     0,     0,   316,     0, 64590]])\n"
     ]
    },
    {
     "name": "stderr",
     "output_type": "stream",
     "text": [
      "Metric Validation/Accuracy improved by 0.011 >= min_delta = 0.0. New best score: 0.936\n"
     ]
    },
    {
     "name": "stdout",
     "output_type": "stream",
     "text": [
      "Epoch end: Train, epoch number: 44\n",
      "TrainEpoch/CM\n",
      " tensor([[53983,    24,  2940,  5113,    61,    28,   484,    37,     0],\n",
      "        [    0, 65473,     0,     0,     0,    34,     0,     0,   282],\n",
      "        [   20,    27, 74493,    26,   132,   552,  2436,   201,     2],\n",
      "        [ 5708,    17,  3585, 53314,   521,    16,  1725,    30,     0],\n",
      "        [    0,    39,   936,     0, 63483,     3,   459,     3,     0],\n",
      "        [    0,   313,   262,     0,    89, 63270,   328,   630,     0],\n",
      "        [ 3240,     6, 35899,  9118,    56,    66, 16641,   119,     0],\n",
      "        [    0,   198,     0,     0,     0,    87,     0, 64333,   264],\n",
      "        [    2,   246,     0,     0,     0,     0,   316,     0, 64590]])\n"
     ]
    },
    {
     "data": {
      "application/vnd.jupyter.widget-view+json": {
       "model_id": "a9af9e0c41b24e269193943571132d10",
       "version_major": 2,
       "version_minor": 0
      },
      "text/plain": [
       "Validation: |          | 0/? [00:00<?, ?it/s]"
      ]
     },
     "metadata": {},
     "output_type": "display_data"
    },
    {
     "name": "stdout",
     "output_type": "stream",
     "text": [
      "Epoch end: Validation, epoch number: 46\n",
      "ValidationEpoch/CM\n",
      " tensor([[55361,    24,  2940,  5125,    61,    28,   484,    37,     0],\n",
      "        [    0, 66933,     0,     0,     0,    34,     0,     0,   282],\n",
      "        [   20,    27, 76132,    26,   132,   564,  2513,   201,     2],\n",
      "        [ 5808,    17,  3590, 54592,   526,    16,  1777,    30,     0],\n",
      "        [    0,    39,   936,     0, 64923,     3,   459,     3,     0],\n",
      "        [    0,   318,   262,     0,    89, 64705,   328,   630,     0],\n",
      "        [ 3275,     6, 36341,  9281,    56,    66, 17446,   119,     0],\n",
      "        [    0,   198,     0,     0,     0,    87,     0, 65773,   264],\n",
      "        [    2,   246,     0,     0,     0,     0,   316,     0, 66035]])\n"
     ]
    },
    {
     "name": "stderr",
     "output_type": "stream",
     "text": [
      "Metric Validation/Accuracy improved by 0.001 >= min_delta = 0.0. New best score: 0.937\n"
     ]
    },
    {
     "name": "stdout",
     "output_type": "stream",
     "text": [
      "Epoch end: Train, epoch number: 45\n",
      "TrainEpoch/CM\n",
      " tensor([[55361,    24,  2940,  5125,    61,    28,   484,    37,     0],\n",
      "        [    0, 66933,     0,     0,     0,    34,     0,     0,   282],\n",
      "        [   20,    27, 76132,    26,   132,   564,  2513,   201,     2],\n",
      "        [ 5808,    17,  3590, 54592,   526,    16,  1777,    30,     0],\n",
      "        [    0,    39,   936,     0, 64923,     3,   459,     3,     0],\n",
      "        [    0,   318,   262,     0,    89, 64705,   328,   630,     0],\n",
      "        [ 3275,     6, 36341,  9281,    56,    66, 17446,   119,     0],\n",
      "        [    0,   198,     0,     0,     0,    87,     0, 65773,   264],\n",
      "        [    2,   246,     0,     0,     0,     0,   316,     0, 66035]])\n"
     ]
    },
    {
     "data": {
      "application/vnd.jupyter.widget-view+json": {
       "model_id": "1933f72fed124a2e98eba7017225a8cd",
       "version_major": 2,
       "version_minor": 0
      },
      "text/plain": [
       "Validation: |          | 0/? [00:00<?, ?it/s]"
      ]
     },
     "metadata": {},
     "output_type": "display_data"
    },
    {
     "name": "stdout",
     "output_type": "stream",
     "text": [
      "Epoch end: Validation, epoch number: 47\n",
      "ValidationEpoch/CM\n",
      " tensor([[56737,    24,  2940,  5139,    61,    28,   484,    37,     0],\n",
      "        [    0, 68393,     0,     0,     0,    34,     0,     0,   282],\n",
      "        [   20,    27, 77764,    26,   132,   576,  2597,   201,     2],\n",
      "        [ 5908,    17,  3595, 55870,   531,    16,  1829,    30,     0],\n",
      "        [    0,    39,   936,     0, 66363,     3,   459,     3,     0],\n",
      "        [    0,   323,   262,     0,    89, 66140,   328,   630,     0],\n",
      "        [ 3310,     6, 36761,  9445,    56,    66, 18272,   119,     0],\n",
      "        [    0,   198,     0,     0,     0,    87,     0, 67213,   264],\n",
      "        [    2,   246,     0,     0,     0,     0,   316,     0, 67480]])\n",
      "Epoch end: Train, epoch number: 46\n",
      "TrainEpoch/CM\n",
      " tensor([[56737,    24,  2940,  5139,    61,    28,   484,    37,     0],\n",
      "        [    0, 68393,     0,     0,     0,    34,     0,     0,   282],\n",
      "        [   20,    27, 77764,    26,   132,   576,  2597,   201,     2],\n",
      "        [ 5908,    17,  3595, 55870,   531,    16,  1829,    30,     0],\n",
      "        [    0,    39,   936,     0, 66363,     3,   459,     3,     0],\n",
      "        [    0,   323,   262,     0,    89, 66140,   328,   630,     0],\n",
      "        [ 3310,     6, 36761,  9445,    56,    66, 18272,   119,     0],\n",
      "        [    0,   198,     0,     0,     0,    87,     0, 67213,   264],\n",
      "        [    2,   246,     0,     0,     0,     0,   316,     0, 67480]])\n"
     ]
    },
    {
     "data": {
      "application/vnd.jupyter.widget-view+json": {
       "model_id": "a1c52b50ceb4433f9f926da726a3195e",
       "version_major": 2,
       "version_minor": 0
      },
      "text/plain": [
       "Validation: |          | 0/? [00:00<?, ?it/s]"
      ]
     },
     "metadata": {},
     "output_type": "display_data"
    },
    {
     "name": "stdout",
     "output_type": "stream",
     "text": [
      "Epoch end: Validation, epoch number: 48\n",
      "ValidationEpoch/CM\n",
      " tensor([[58119,    24,  2940,  5147,    61,    28,   484,    37,     0],\n",
      "        [    0, 69853,     0,     0,     0,    34,     0,     0,   282],\n",
      "        [   20,    27, 79410,    26,   132,   588,  2667,   201,     2],\n",
      "        [ 6013,    17,  3600, 57141,   536,    16,  1883,    30,     0],\n",
      "        [    0,    39,   936,     0, 67803,     3,   459,     3,     0],\n",
      "        [    0,   328,   262,     0,    89, 67575,   328,   630,     0],\n",
      "        [ 3345,     6, 37225,  9605,    56,    66, 19058,   119,     0],\n",
      "        [    0,   198,     0,     0,     0,    87,     0, 68653,   264],\n",
      "        [    2,   246,     0,     0,     0,     0,   316,     0, 68925]])\n",
      "Epoch end: Train, epoch number: 47\n",
      "TrainEpoch/CM\n",
      " tensor([[58119,    24,  2940,  5147,    61,    28,   484,    37,     0],\n",
      "        [    0, 69853,     0,     0,     0,    34,     0,     0,   282],\n",
      "        [   20,    27, 79410,    26,   132,   588,  2667,   201,     2],\n",
      "        [ 6013,    17,  3600, 57141,   536,    16,  1883,    30,     0],\n",
      "        [    0,    39,   936,     0, 67803,     3,   459,     3,     0],\n",
      "        [    0,   328,   262,     0,    89, 67575,   328,   630,     0],\n",
      "        [ 3345,     6, 37225,  9605,    56,    66, 19058,   119,     0],\n",
      "        [    0,   198,     0,     0,     0,    87,     0, 68653,   264],\n",
      "        [    2,   246,     0,     0,     0,     0,   316,     0, 68925]])\n"
     ]
    },
    {
     "data": {
      "application/vnd.jupyter.widget-view+json": {
       "model_id": "7373106fb07c40689267462e1dace444",
       "version_major": 2,
       "version_minor": 0
      },
      "text/plain": [
       "Validation: |          | 0/? [00:00<?, ?it/s]"
      ]
     },
     "metadata": {},
     "output_type": "display_data"
    },
    {
     "name": "stdout",
     "output_type": "stream",
     "text": [
      "Epoch end: Validation, epoch number: 49\n",
      "ValidationEpoch/CM\n",
      " tensor([[59501,    24,  2940,  5155,    61,    28,   484,    37,     0],\n",
      "        [    0, 71313,     0,     0,     0,    34,     0,     0,   282],\n",
      "        [   20,    27, 81034,    26,   132,   600,  2759,   201,     2],\n",
      "        [ 6114,    17,  3605, 58420,   541,    16,  1933,    30,     0],\n",
      "        [    0,    39,   936,     0, 69243,     3,   459,     3,     0],\n",
      "        [    0,   333,   262,     0,    89, 69010,   328,   630,     0],\n",
      "        [ 3380,     6, 37629,  9769,    56,    66, 19900,   119,     0],\n",
      "        [    0,   198,     0,     0,     0,    87,     0, 70093,   264],\n",
      "        [    2,   246,     0,     0,     0,     0,   316,     0, 70370]])\n",
      "Epoch end: Train, epoch number: 48\n",
      "TrainEpoch/CM\n",
      " tensor([[59501,    24,  2940,  5155,    61,    28,   484,    37,     0],\n",
      "        [    0, 71313,     0,     0,     0,    34,     0,     0,   282],\n",
      "        [   20,    27, 81034,    26,   132,   600,  2759,   201,     2],\n",
      "        [ 6114,    17,  3605, 58420,   541,    16,  1933,    30,     0],\n",
      "        [    0,    39,   936,     0, 69243,     3,   459,     3,     0],\n",
      "        [    0,   333,   262,     0,    89, 69010,   328,   630,     0],\n",
      "        [ 3380,     6, 37629,  9769,    56,    66, 19900,   119,     0],\n",
      "        [    0,   198,     0,     0,     0,    87,     0, 70093,   264],\n",
      "        [    2,   246,     0,     0,     0,     0,   316,     0, 70370]])\n"
     ]
    },
    {
     "data": {
      "application/vnd.jupyter.widget-view+json": {
       "model_id": "6a02d006477343258210ff0a1163901e",
       "version_major": 2,
       "version_minor": 0
      },
      "text/plain": [
       "Validation: |          | 0/? [00:00<?, ?it/s]"
      ]
     },
     "metadata": {},
     "output_type": "display_data"
    },
    {
     "name": "stdout",
     "output_type": "stream",
     "text": [
      "Epoch end: Validation, epoch number: 50\n",
      "ValidationEpoch/CM\n",
      " tensor([[60884,    24,  2940,  5162,    61,    28,   484,    37,     0],\n",
      "        [    0, 72773,     0,     0,     0,    34,     0,     0,   282],\n",
      "        [   20,    27, 82672,    26,   132,   612,  2837,   201,     2],\n",
      "        [ 6217,    17,  3610, 59695,   546,    16,  1985,    30,     0],\n",
      "        [    0,    39,   936,     0, 70683,     3,   459,     3,     0],\n",
      "        [    0,   338,   262,     0,    89, 70445,   328,   630,     0],\n",
      "        [ 3415,     6, 38054,  9925,    56,    66, 20729,   119,     0],\n",
      "        [    0,   198,     0,     0,     0,    87,     0, 71533,   264],\n",
      "        [    2,   246,     0,     0,     0,     0,   316,     0, 71815]])\n"
     ]
    },
    {
     "name": "stderr",
     "output_type": "stream",
     "text": [
      "Metric Validation/Accuracy improved by 0.003 >= min_delta = 0.0. New best score: 0.940\n"
     ]
    },
    {
     "name": "stdout",
     "output_type": "stream",
     "text": [
      "Epoch end: Train, epoch number: 49\n",
      "TrainEpoch/CM\n",
      " tensor([[60884,    24,  2940,  5162,    61,    28,   484,    37,     0],\n",
      "        [    0, 72773,     0,     0,     0,    34,     0,     0,   282],\n",
      "        [   20,    27, 82672,    26,   132,   612,  2837,   201,     2],\n",
      "        [ 6217,    17,  3610, 59695,   546,    16,  1985,    30,     0],\n",
      "        [    0,    39,   936,     0, 70683,     3,   459,     3,     0],\n",
      "        [    0,   338,   262,     0,    89, 70445,   328,   630,     0],\n",
      "        [ 3415,     6, 38054,  9925,    56,    66, 20729,   119,     0],\n",
      "        [    0,   198,     0,     0,     0,    87,     0, 71533,   264],\n",
      "        [    2,   246,     0,     0,     0,     0,   316,     0, 71815]])\n"
     ]
    },
    {
     "data": {
      "application/vnd.jupyter.widget-view+json": {
       "model_id": "0b29a876905b4b1e8f6ac00d1b164a57",
       "version_major": 2,
       "version_minor": 0
      },
      "text/plain": [
       "Validation: |          | 0/? [00:00<?, ?it/s]"
      ]
     },
     "metadata": {},
     "output_type": "display_data"
    },
    {
     "name": "stdout",
     "output_type": "stream",
     "text": [
      "Epoch end: Validation, epoch number: 51\n",
      "ValidationEpoch/CM\n",
      " tensor([[62265,    24,  2940,  5171,    61,    28,   484,    37,     0],\n",
      "        [    0, 74233,     0,     0,     0,    34,     0,     0,   282],\n",
      "        [   20,    27, 84301,    26,   132,   624,  2924,   201,     2],\n",
      "        [ 6317,    17,  3615, 60973,   551,    16,  2037,    30,     0],\n",
      "        [    0,    39,   936,     0, 72123,     3,   459,     3,     0],\n",
      "        [    0,   343,   262,     0,    89, 71880,   328,   630,     0],\n",
      "        [ 3450,     6, 38454, 10082,    56,    66, 21582,   119,     0],\n",
      "        [    0,   198,     0,     0,     0,    87,     0, 72973,   264],\n",
      "        [    2,   246,     0,     0,     0,     0,   316,     0, 73260]])\n",
      "Epoch end: Train, epoch number: 50\n",
      "TrainEpoch/CM\n",
      " tensor([[62265,    24,  2940,  5171,    61,    28,   484,    37,     0],\n",
      "        [    0, 74233,     0,     0,     0,    34,     0,     0,   282],\n",
      "        [   20,    27, 84301,    26,   132,   624,  2924,   201,     2],\n",
      "        [ 6317,    17,  3615, 60973,   551,    16,  2037,    30,     0],\n",
      "        [    0,    39,   936,     0, 72123,     3,   459,     3,     0],\n",
      "        [    0,   343,   262,     0,    89, 71880,   328,   630,     0],\n",
      "        [ 3450,     6, 38454, 10082,    56,    66, 21582,   119,     0],\n",
      "        [    0,   198,     0,     0,     0,    87,     0, 72973,   264],\n",
      "        [    2,   246,     0,     0,     0,     0,   316,     0, 73260]])\n"
     ]
    },
    {
     "data": {
      "application/vnd.jupyter.widget-view+json": {
       "model_id": "0546dd0dc7f1462aaba72a424b178846",
       "version_major": 2,
       "version_minor": 0
      },
      "text/plain": [
       "Validation: |          | 0/? [00:00<?, ?it/s]"
      ]
     },
     "metadata": {},
     "output_type": "display_data"
    },
    {
     "name": "stdout",
     "output_type": "stream",
     "text": [
      "Epoch end: Validation, epoch number: 52\n",
      "ValidationEpoch/CM\n",
      " tensor([[63650,    24,  2940,  5176,    61,    28,   484,    37,     0],\n",
      "        [    0, 75693,     0,     0,     0,    34,     0,     0,   282],\n",
      "        [   20,    27, 85957,    26,   132,   636,  2984,   201,     2],\n",
      "        [ 6415,    17,  3620, 62257,   556,    16,  2085,    30,     0],\n",
      "        [    0,    39,   936,     0, 73563,     3,   459,     3,     0],\n",
      "        [    0,   348,   262,     0,    89, 73315,   328,   630,     0],\n",
      "        [ 3485,     6, 38881, 10241,    56,    66, 22406,   119,     0],\n",
      "        [    0,   198,     0,     0,     0,    87,     0, 74413,   264],\n",
      "        [    2,   246,     0,     0,     0,     0,   316,     0, 74705]])\n",
      "Epoch end: Train, epoch number: 51\n",
      "TrainEpoch/CM\n",
      " tensor([[63650,    24,  2940,  5176,    61,    28,   484,    37,     0],\n",
      "        [    0, 75693,     0,     0,     0,    34,     0,     0,   282],\n",
      "        [   20,    27, 85957,    26,   132,   636,  2984,   201,     2],\n",
      "        [ 6415,    17,  3620, 62257,   556,    16,  2085,    30,     0],\n",
      "        [    0,    39,   936,     0, 73563,     3,   459,     3,     0],\n",
      "        [    0,   348,   262,     0,    89, 73315,   328,   630,     0],\n",
      "        [ 3485,     6, 38881, 10241,    56,    66, 22406,   119,     0],\n",
      "        [    0,   198,     0,     0,     0,    87,     0, 74413,   264],\n",
      "        [    2,   246,     0,     0,     0,     0,   316,     0, 74705]])\n"
     ]
    },
    {
     "name": "stderr",
     "output_type": "stream",
     "text": [
      "Metric Validation/Accuracy improved by 0.001 >= min_delta = 0.0. New best score: 0.941\n"
     ]
    },
    {
     "data": {
      "application/vnd.jupyter.widget-view+json": {
       "model_id": "61a46e5561d74377b83b5fe00c8fd415",
       "version_major": 2,
       "version_minor": 0
      },
      "text/plain": [
       "Validation: |          | 0/? [00:00<?, ?it/s]"
      ]
     },
     "metadata": {},
     "output_type": "display_data"
    },
    {
     "name": "stdout",
     "output_type": "stream",
     "text": [
      "Epoch end: Validation, epoch number: 53\n",
      "ValidationEpoch/CM\n",
      " tensor([[65035,    24,  2940,  5181,    61,    28,   484,    37,     0],\n",
      "        [    0, 77153,     0,     0,     0,    34,     0,     0,   282],\n",
      "        [   20,    27, 87607,    26,   132,   648,  3050,   201,     2],\n",
      "        [ 6519,    17,  3625, 63528,   561,    16,  2140,    30,     0],\n",
      "        [    0,    39,   936,     0, 75003,     3,   459,     3,     0],\n",
      "        [    0,   353,   262,     0,    89, 74750,   328,   630,     0],\n",
      "        [ 3519,     6, 39309, 10391,    56,    66, 23239,   119,     0],\n",
      "        [    0,   198,     0,     0,     0,    87,     0, 75853,   264],\n",
      "        [    2,   246,     0,     0,     0,     0,   316,     0, 76150]])\n"
     ]
    },
    {
     "name": "stderr",
     "output_type": "stream",
     "text": [
      "Metric Validation/Accuracy improved by 0.003 >= min_delta = 0.0. New best score: 0.944\n"
     ]
    },
    {
     "name": "stdout",
     "output_type": "stream",
     "text": [
      "Epoch end: Train, epoch number: 52\n",
      "TrainEpoch/CM\n",
      " tensor([[65035,    24,  2940,  5181,    61,    28,   484,    37,     0],\n",
      "        [    0, 77153,     0,     0,     0,    34,     0,     0,   282],\n",
      "        [   20,    27, 87607,    26,   132,   648,  3050,   201,     2],\n",
      "        [ 6519,    17,  3625, 63528,   561,    16,  2140,    30,     0],\n",
      "        [    0,    39,   936,     0, 75003,     3,   459,     3,     0],\n",
      "        [    0,   353,   262,     0,    89, 74750,   328,   630,     0],\n",
      "        [ 3519,     6, 39309, 10391,    56,    66, 23239,   119,     0],\n",
      "        [    0,   198,     0,     0,     0,    87,     0, 75853,   264],\n",
      "        [    2,   246,     0,     0,     0,     0,   316,     0, 76150]])\n"
     ]
    },
    {
     "data": {
      "application/vnd.jupyter.widget-view+json": {
       "model_id": "72f6cb4286734127a98bf40c19f735b6",
       "version_major": 2,
       "version_minor": 0
      },
      "text/plain": [
       "Validation: |          | 0/? [00:00<?, ?it/s]"
      ]
     },
     "metadata": {},
     "output_type": "display_data"
    },
    {
     "name": "stdout",
     "output_type": "stream",
     "text": [
      "Epoch end: Validation, epoch number: 54\n",
      "ValidationEpoch/CM\n",
      " tensor([[66420,    24,  2940,  5186,    61,    28,   484,    37,     0],\n",
      "        [    0, 78613,     0,     0,     0,    34,     0,     0,   282],\n",
      "        [   20,    27, 89234,    26,   132,   660,  3139,   201,     2],\n",
      "        [ 6614,    17,  3630, 64810,   566,    16,  2193,    30,     0],\n",
      "        [    0,    39,   936,     0, 76443,     3,   459,     3,     0],\n",
      "        [    0,   358,   262,     0,    89, 76185,   328,   630,     0],\n",
      "        [ 3553,     6, 39675, 10549,    56,    66, 24126,   119,     0],\n",
      "        [    0,   198,     0,     0,     0,    87,     0, 77293,   264],\n",
      "        [    2,   246,     0,     0,     0,     0,   316,     0, 77595]])\n",
      "Epoch end: Train, epoch number: 53\n",
      "TrainEpoch/CM\n",
      " tensor([[66420,    24,  2940,  5186,    61,    28,   484,    37,     0],\n",
      "        [    0, 78613,     0,     0,     0,    34,     0,     0,   282],\n",
      "        [   20,    27, 89234,    26,   132,   660,  3139,   201,     2],\n",
      "        [ 6614,    17,  3630, 64810,   566,    16,  2193,    30,     0],\n",
      "        [    0,    39,   936,     0, 76443,     3,   459,     3,     0],\n",
      "        [    0,   358,   262,     0,    89, 76185,   328,   630,     0],\n",
      "        [ 3553,     6, 39675, 10549,    56,    66, 24126,   119,     0],\n",
      "        [    0,   198,     0,     0,     0,    87,     0, 77293,   264],\n",
      "        [    2,   246,     0,     0,     0,     0,   316,     0, 77595]])\n"
     ]
    },
    {
     "data": {
      "application/vnd.jupyter.widget-view+json": {
       "model_id": "2e53db6815a24da4a7f71a8d42ea4861",
       "version_major": 2,
       "version_minor": 0
      },
      "text/plain": [
       "Validation: |          | 0/? [00:00<?, ?it/s]"
      ]
     },
     "metadata": {},
     "output_type": "display_data"
    },
    {
     "name": "stdout",
     "output_type": "stream",
     "text": [
      "Epoch end: Validation, epoch number: 55\n",
      "ValidationEpoch/CM\n",
      " tensor([[67805,    24,  2940,  5191,    61,    28,   484,    37,     0],\n",
      "        [    0, 80073,     0,     0,     0,    34,     0,     0,   282],\n",
      "        [   20,    27, 90872,    26,   132,   672,  3217,   201,     2],\n",
      "        [ 6711,    17,  3635, 66090,   571,    16,  2246,    30,     0],\n",
      "        [    0,    39,   936,     0, 77883,     3,   459,     3,     0],\n",
      "        [    0,   363,   262,     0,    89, 77620,   328,   630,     0],\n",
      "        [ 3585,     6, 40063, 10701,    56,    66, 24999,   119,     0],\n",
      "        [    0,   198,     0,     0,     0,    87,     0, 78733,   264],\n",
      "        [    2,   246,     0,     0,     0,     0,   316,     0, 79040]])\n",
      "Epoch end: Train, epoch number: 54\n",
      "TrainEpoch/CM\n",
      " tensor([[67805,    24,  2940,  5191,    61,    28,   484,    37,     0],\n",
      "        [    0, 80073,     0,     0,     0,    34,     0,     0,   282],\n",
      "        [   20,    27, 90872,    26,   132,   672,  3217,   201,     2],\n",
      "        [ 6711,    17,  3635, 66090,   571,    16,  2246,    30,     0],\n",
      "        [    0,    39,   936,     0, 77883,     3,   459,     3,     0],\n",
      "        [    0,   363,   262,     0,    89, 77620,   328,   630,     0],\n",
      "        [ 3585,     6, 40063, 10701,    56,    66, 24999,   119,     0],\n",
      "        [    0,   198,     0,     0,     0,    87,     0, 78733,   264],\n",
      "        [    2,   246,     0,     0,     0,     0,   316,     0, 79040]])\n"
     ]
    },
    {
     "data": {
      "application/vnd.jupyter.widget-view+json": {
       "model_id": "b8ba2962eeb14e4fa46388defdb4c493",
       "version_major": 2,
       "version_minor": 0
      },
      "text/plain": [
       "Validation: |          | 0/? [00:00<?, ?it/s]"
      ]
     },
     "metadata": {},
     "output_type": "display_data"
    },
    {
     "name": "stdout",
     "output_type": "stream",
     "text": [
      "Epoch end: Validation, epoch number: 56\n",
      "ValidationEpoch/CM\n",
      " tensor([[69190,    24,  2940,  5196,    61,    28,   484,    37,     0],\n",
      "        [    0, 81533,     0,     0,     0,    34,     0,     0,   282],\n",
      "        [   20,    27, 92526,    26,   132,   684,  3279,   201,     2],\n",
      "        [ 6813,    17,  3640, 67363,   576,    16,  2301,    30,     0],\n",
      "        [    0,    39,   936,     0, 79323,     3,   459,     3,     0],\n",
      "        [    0,   368,   262,     0,    89, 79055,   328,   630,     0],\n",
      "        [ 3617,     6, 40461, 10848,    56,    66, 25867,   119,     0],\n",
      "        [    0,   198,     0,     0,     0,    87,     0, 80173,   264],\n",
      "        [    2,   246,     0,     0,     0,     0,   316,     0, 80485]])\n",
      "Epoch end: Train, epoch number: 55\n",
      "TrainEpoch/CM\n",
      " tensor([[69190,    24,  2940,  5196,    61,    28,   484,    37,     0],\n",
      "        [    0, 81533,     0,     0,     0,    34,     0,     0,   282],\n",
      "        [   20,    27, 92526,    26,   132,   684,  3279,   201,     2],\n",
      "        [ 6813,    17,  3640, 67363,   576,    16,  2301,    30,     0],\n",
      "        [    0,    39,   936,     0, 79323,     3,   459,     3,     0],\n",
      "        [    0,   368,   262,     0,    89, 79055,   328,   630,     0],\n",
      "        [ 3617,     6, 40461, 10848,    56,    66, 25867,   119,     0],\n",
      "        [    0,   198,     0,     0,     0,    87,     0, 80173,   264],\n",
      "        [    2,   246,     0,     0,     0,     0,   316,     0, 80485]])\n"
     ]
    },
    {
     "data": {
      "application/vnd.jupyter.widget-view+json": {
       "model_id": "335a3805d12c457589b491eb0cf69ba2",
       "version_major": 2,
       "version_minor": 0
      },
      "text/plain": [
       "Validation: |          | 0/? [00:00<?, ?it/s]"
      ]
     },
     "metadata": {},
     "output_type": "display_data"
    },
    {
     "name": "stdout",
     "output_type": "stream",
     "text": [
      "Epoch end: Validation, epoch number: 57\n",
      "ValidationEpoch/CM\n",
      " tensor([[70571,    24,  2940,  5205,    61,    28,   484,    37,     0],\n",
      "        [    0, 82993,     0,     0,     0,    34,     0,     0,   282],\n",
      "        [   20,    27, 94167,    26,   132,   696,  3354,   201,     2],\n",
      "        [ 6908,    17,  3645, 68650,   581,    16,  2349,    30,     0],\n",
      "        [    0,    39,   936,     0, 80763,     3,   459,     3,     0],\n",
      "        [    0,   373,   262,     0,    89, 80490,   328,   630,     0],\n",
      "        [ 3647,     6, 40830, 11002,    56,    66, 26759,   119,     0],\n",
      "        [    0,   198,     0,     0,     0,    87,     0, 81613,   264],\n",
      "        [    2,   246,     0,     0,     0,     0,   316,     0, 81930]])\n",
      "Epoch end: Train, epoch number: 56\n",
      "TrainEpoch/CM\n",
      " tensor([[70571,    24,  2940,  5205,    61,    28,   484,    37,     0],\n",
      "        [    0, 82993,     0,     0,     0,    34,     0,     0,   282],\n",
      "        [   20,    27, 94167,    26,   132,   696,  3354,   201,     2],\n",
      "        [ 6908,    17,  3645, 68650,   581,    16,  2349,    30,     0],\n",
      "        [    0,    39,   936,     0, 80763,     3,   459,     3,     0],\n",
      "        [    0,   373,   262,     0,    89, 80490,   328,   630,     0],\n",
      "        [ 3647,     6, 40830, 11002,    56,    66, 26759,   119,     0],\n",
      "        [    0,   198,     0,     0,     0,    87,     0, 81613,   264],\n",
      "        [    2,   246,     0,     0,     0,     0,   316,     0, 81930]])\n"
     ]
    },
    {
     "name": "stderr",
     "output_type": "stream",
     "text": [
      "Metric Validation/Accuracy improved by 0.003 >= min_delta = 0.0. New best score: 0.948\n"
     ]
    },
    {
     "data": {
      "application/vnd.jupyter.widget-view+json": {
       "model_id": "2d2d4fdc98aa4da394f38ab90706d790",
       "version_major": 2,
       "version_minor": 0
      },
      "text/plain": [
       "Validation: |          | 0/? [00:00<?, ?it/s]"
      ]
     },
     "metadata": {},
     "output_type": "display_data"
    },
    {
     "name": "stdout",
     "output_type": "stream",
     "text": [
      "Epoch end: Validation, epoch number: 58\n",
      "ValidationEpoch/CM\n",
      " tensor([[71956,    24,  2940,  5210,    61,    28,   484,    37,     0],\n",
      "        [    0, 84453,     0,     0,     0,    34,     0,     0,   282],\n",
      "        [   20,    27, 95802,    26,   132,   708,  3435,   201,     2],\n",
      "        [ 7007,    17,  3650, 69926,   586,    16,  2404,    30,     0],\n",
      "        [    0,    39,   936,     0, 82203,     3,   459,     3,     0],\n",
      "        [    0,   378,   262,     0,    89, 81925,   328,   630,     0],\n",
      "        [ 3677,     6, 41188, 11146,    56,    66, 27672,   119,     0],\n",
      "        [    0,   198,     0,     0,     0,    87,     0, 83053,   264],\n",
      "        [    2,   246,     0,     0,     0,     0,   316,     0, 83375]])\n",
      "Epoch end: Train, epoch number: 57\n",
      "TrainEpoch/CM\n",
      " tensor([[71956,    24,  2940,  5210,    61,    28,   484,    37,     0],\n",
      "        [    0, 84453,     0,     0,     0,    34,     0,     0,   282],\n",
      "        [   20,    27, 95802,    26,   132,   708,  3435,   201,     2],\n",
      "        [ 7007,    17,  3650, 69926,   586,    16,  2404,    30,     0],\n",
      "        [    0,    39,   936,     0, 82203,     3,   459,     3,     0],\n",
      "        [    0,   378,   262,     0,    89, 81925,   328,   630,     0],\n",
      "        [ 3677,     6, 41188, 11146,    56,    66, 27672,   119,     0],\n",
      "        [    0,   198,     0,     0,     0,    87,     0, 83053,   264],\n",
      "        [    2,   246,     0,     0,     0,     0,   316,     0, 83375]])\n"
     ]
    },
    {
     "data": {
      "application/vnd.jupyter.widget-view+json": {
       "model_id": "2625d644207f48eaaf1ff38a8ec48b95",
       "version_major": 2,
       "version_minor": 0
      },
      "text/plain": [
       "Validation: |          | 0/? [00:00<?, ?it/s]"
      ]
     },
     "metadata": {},
     "output_type": "display_data"
    },
    {
     "name": "stdout",
     "output_type": "stream",
     "text": [
      "Epoch end: Validation, epoch number: 59\n",
      "ValidationEpoch/CM\n",
      " tensor([[73341,    24,  2940,  5215,    61,    28,   484,    37,     0],\n",
      "        [    0, 85913,     0,     0,     0,    34,     0,     0,   282],\n",
      "        [   20,    27, 97442,    26,   132,   720,  3511,   201,     2],\n",
      "        [ 7104,    17,  3655, 71208,   591,    16,  2455,    30,     0],\n",
      "        [    0,    39,   936,     0, 83643,     3,   459,     3,     0],\n",
      "        [    0,   383,   262,     0,    89, 83360,   328,   630,     0],\n",
      "        [ 3707,     6, 41526, 11292,    56,    66, 28603,   119,     0],\n",
      "        [    0,   198,     0,     0,     0,    87,     0, 84493,   264],\n",
      "        [    2,   246,     0,     0,     0,     0,   316,     0, 84820]])\n"
     ]
    },
    {
     "name": "stderr",
     "output_type": "stream",
     "text": [
      "Metric Validation/Accuracy improved by 0.000 >= min_delta = 0.0. New best score: 0.948\n"
     ]
    },
    {
     "name": "stdout",
     "output_type": "stream",
     "text": [
      "Epoch end: Train, epoch number: 58\n",
      "TrainEpoch/CM\n",
      " tensor([[73341,    24,  2940,  5215,    61,    28,   484,    37,     0],\n",
      "        [    0, 85913,     0,     0,     0,    34,     0,     0,   282],\n",
      "        [   20,    27, 97442,    26,   132,   720,  3511,   201,     2],\n",
      "        [ 7104,    17,  3655, 71208,   591,    16,  2455,    30,     0],\n",
      "        [    0,    39,   936,     0, 83643,     3,   459,     3,     0],\n",
      "        [    0,   383,   262,     0,    89, 83360,   328,   630,     0],\n",
      "        [ 3707,     6, 41526, 11292,    56,    66, 28603,   119,     0],\n",
      "        [    0,   198,     0,     0,     0,    87,     0, 84493,   264],\n",
      "        [    2,   246,     0,     0,     0,     0,   316,     0, 84820]])\n"
     ]
    },
    {
     "data": {
      "application/vnd.jupyter.widget-view+json": {
       "model_id": "3adc7baba65a406fbe3b6034c87032d5",
       "version_major": 2,
       "version_minor": 0
      },
      "text/plain": [
       "Validation: |          | 0/? [00:00<?, ?it/s]"
      ]
     },
     "metadata": {},
     "output_type": "display_data"
    },
    {
     "name": "stdout",
     "output_type": "stream",
     "text": [
      "Epoch end: Validation, epoch number: 60\n",
      "ValidationEpoch/CM\n",
      " tensor([[74726,    24,  2940,  5220,    61,    28,   484,    37,     0],\n",
      "        [    0, 87373,     0,     0,     0,    34,     0,     0,   282],\n",
      "        [   20,    27, 99108,    26,   132,   732,  3561,   201,     2],\n",
      "        [ 7198,    17,  3660, 72492,   596,    16,  2507,    30,     0],\n",
      "        [    0,    39,   936,     0, 85083,     3,   459,     3,     0],\n",
      "        [    0,   388,   262,     0,    89, 84795,   328,   630,     0],\n",
      "        [ 3737,     6, 41903, 11440,    56,    66, 29493,   119,     0],\n",
      "        [    0,   198,     0,     0,     0,    87,     0, 85933,   264],\n",
      "        [    2,   246,     0,     0,     0,     0,   316,     0, 86265]])\n",
      "Epoch end: Train, epoch number: 59\n",
      "TrainEpoch/CM\n",
      " tensor([[74726,    24,  2940,  5220,    61,    28,   484,    37,     0],\n",
      "        [    0, 87373,     0,     0,     0,    34,     0,     0,   282],\n",
      "        [   20,    27, 99108,    26,   132,   732,  3561,   201,     2],\n",
      "        [ 7198,    17,  3660, 72492,   596,    16,  2507,    30,     0],\n",
      "        [    0,    39,   936,     0, 85083,     3,   459,     3,     0],\n",
      "        [    0,   388,   262,     0,    89, 84795,   328,   630,     0],\n",
      "        [ 3737,     6, 41903, 11440,    56,    66, 29493,   119,     0],\n",
      "        [    0,   198,     0,     0,     0,    87,     0, 85933,   264],\n",
      "        [    2,   246,     0,     0,     0,     0,   316,     0, 86265]])\n"
     ]
    },
    {
     "data": {
      "application/vnd.jupyter.widget-view+json": {
       "model_id": "7bef36e52e5e402a9ff154c4f56ba09a",
       "version_major": 2,
       "version_minor": 0
      },
      "text/plain": [
       "Validation: |          | 0/? [00:00<?, ?it/s]"
      ]
     },
     "metadata": {},
     "output_type": "display_data"
    },
    {
     "name": "stdout",
     "output_type": "stream",
     "text": [
      "Epoch end: Validation, epoch number: 61\n",
      "ValidationEpoch/CM\n",
      " tensor([[ 76111,     24,   2940,   5225,     61,     28,    484,     37,      0],\n",
      "        [     0,  88833,      0,      0,      0,     34,      0,      0,    282],\n",
      "        [    20,     27, 100736,     26,    132,    744,   3649,    201,      2],\n",
      "        [  7291,     17,   3665,  73777,    601,     16,   2559,     30,      0],\n",
      "        [     0,     39,    936,      0,  86523,      3,    459,      3,      0],\n",
      "        [     0,    393,    262,      0,     89,  86230,    328,    630,      0],\n",
      "        [  3764,      6,  42233,  11582,     56,     66,  30439,    119,      0],\n",
      "        [     0,    198,      0,      0,      0,     87,      0,  87373,    264],\n",
      "        [     2,    246,      0,      0,      0,      0,    316,      0,  87710]])\n",
      "Epoch end: Train, epoch number: 60\n",
      "TrainEpoch/CM\n",
      " tensor([[ 76111,     24,   2940,   5225,     61,     28,    484,     37,      0],\n",
      "        [     0,  88833,      0,      0,      0,     34,      0,      0,    282],\n",
      "        [    20,     27, 100736,     26,    132,    744,   3649,    201,      2],\n",
      "        [  7291,     17,   3665,  73777,    601,     16,   2559,     30,      0],\n",
      "        [     0,     39,    936,      0,  86523,      3,    459,      3,      0],\n",
      "        [     0,    393,    262,      0,     89,  86230,    328,    630,      0],\n",
      "        [  3764,      6,  42233,  11582,     56,     66,  30439,    119,      0],\n",
      "        [     0,    198,      0,      0,      0,     87,      0,  87373,    264],\n",
      "        [     2,    246,      0,      0,      0,      0,    316,      0,  87710]])\n"
     ]
    },
    {
     "data": {
      "application/vnd.jupyter.widget-view+json": {
       "model_id": "200d6c9fa4994483b4e9527756cd9bfd",
       "version_major": 2,
       "version_minor": 0
      },
      "text/plain": [
       "Validation: |          | 0/? [00:00<?, ?it/s]"
      ]
     },
     "metadata": {},
     "output_type": "display_data"
    },
    {
     "name": "stdout",
     "output_type": "stream",
     "text": [
      "Epoch end: Validation, epoch number: 62\n",
      "ValidationEpoch/CM\n",
      " tensor([[ 77496,     24,   2940,   5230,     61,     28,    484,     37,      0],\n",
      "        [     0,  90293,      0,      0,      0,     34,      0,      0,    282],\n",
      "        [    20,     27, 102396,     26,    132,    756,   3705,    201,      2],\n",
      "        [  7387,     17,   3670,  75066,    606,     16,   2604,     30,      0],\n",
      "        [     0,     39,    936,      0,  87963,      3,    459,      3,      0],\n",
      "        [     0,    398,    262,      0,     89,  87665,    328,    630,      0],\n",
      "        [  3794,      6,  42584,  11732,     56,     66,  31353,    119,      0],\n",
      "        [     0,    198,      0,      0,      0,     87,      0,  88813,    264],\n",
      "        [     2,    246,      0,      0,      0,      0,    316,      0,  89155]])\n"
     ]
    },
    {
     "name": "stderr",
     "output_type": "stream",
     "text": [
      "Metric Validation/Accuracy improved by 0.002 >= min_delta = 0.0. New best score: 0.949\n"
     ]
    },
    {
     "name": "stdout",
     "output_type": "stream",
     "text": [
      "Epoch end: Train, epoch number: 61\n",
      "TrainEpoch/CM\n",
      " tensor([[ 77496,     24,   2940,   5230,     61,     28,    484,     37,      0],\n",
      "        [     0,  90293,      0,      0,      0,     34,      0,      0,    282],\n",
      "        [    20,     27, 102396,     26,    132,    756,   3705,    201,      2],\n",
      "        [  7387,     17,   3670,  75066,    606,     16,   2604,     30,      0],\n",
      "        [     0,     39,    936,      0,  87963,      3,    459,      3,      0],\n",
      "        [     0,    398,    262,      0,     89,  87665,    328,    630,      0],\n",
      "        [  3794,      6,  42584,  11732,     56,     66,  31353,    119,      0],\n",
      "        [     0,    198,      0,      0,      0,     87,      0,  88813,    264],\n",
      "        [     2,    246,      0,      0,      0,      0,    316,      0,  89155]])\n"
     ]
    },
    {
     "data": {
      "application/vnd.jupyter.widget-view+json": {
       "model_id": "ba033dbf9d9344f1b6221f09ac3787f9",
       "version_major": 2,
       "version_minor": 0
      },
      "text/plain": [
       "Validation: |          | 0/? [00:00<?, ?it/s]"
      ]
     },
     "metadata": {},
     "output_type": "display_data"
    },
    {
     "name": "stdout",
     "output_type": "stream",
     "text": [
      "Epoch end: Validation, epoch number: 63\n",
      "ValidationEpoch/CM\n",
      " tensor([[ 78881,     24,   2940,   5235,     61,     28,    484,     37,      0],\n",
      "        [     0,  91753,      0,      0,      0,     34,      0,      0,    282],\n",
      "        [    20,     27, 104049,     26,    132,    768,   3768,    201,      2],\n",
      "        [  7472,     17,   3675,  76354,    611,     16,   2661,     30,      0],\n",
      "        [     0,     39,    936,      0,  89403,      3,    459,      3,      0],\n",
      "        [     0,    403,    262,      0,     89,  89100,    328,    630,      0],\n",
      "        [  3822,      6,  42918,  11873,     56,     66,  32295,    119,      0],\n",
      "        [     0,    198,      0,      0,      0,     87,      0,  90253,    264],\n",
      "        [     2,    246,      0,      0,      0,      0,    316,      0,  90600]])\n",
      "Epoch end: Train, epoch number: 62\n",
      "TrainEpoch/CM\n",
      " tensor([[ 78881,     24,   2940,   5235,     61,     28,    484,     37,      0],\n",
      "        [     0,  91753,      0,      0,      0,     34,      0,      0,    282],\n",
      "        [    20,     27, 104049,     26,    132,    768,   3768,    201,      2],\n",
      "        [  7472,     17,   3675,  76354,    611,     16,   2661,     30,      0],\n",
      "        [     0,     39,    936,      0,  89403,      3,    459,      3,      0],\n",
      "        [     0,    403,    262,      0,     89,  89100,    328,    630,      0],\n",
      "        [  3822,      6,  42918,  11873,     56,     66,  32295,    119,      0],\n",
      "        [     0,    198,      0,      0,      0,     87,      0,  90253,    264],\n",
      "        [     2,    246,      0,      0,      0,      0,    316,      0,  90600]])\n"
     ]
    },
    {
     "data": {
      "application/vnd.jupyter.widget-view+json": {
       "model_id": "bbf69ae1e201477f9c6513cb37058e40",
       "version_major": 2,
       "version_minor": 0
      },
      "text/plain": [
       "Validation: |          | 0/? [00:00<?, ?it/s]"
      ]
     },
     "metadata": {},
     "output_type": "display_data"
    },
    {
     "name": "stdout",
     "output_type": "stream",
     "text": [
      "Epoch end: Validation, epoch number: 64\n",
      "ValidationEpoch/CM\n",
      " tensor([[ 80266,     24,   2940,   5240,     61,     28,    484,     37,      0],\n",
      "        [     0,  93213,      0,      0,      0,     34,      0,      0,    282],\n",
      "        [    20,     27, 105714,     26,    132,    780,   3819,    201,      2],\n",
      "        [  7567,     17,   3680,  77643,    616,     16,   2707,     30,      0],\n",
      "        [     0,     39,    936,      0,  90843,      3,    459,      3,      0],\n",
      "        [     0,    408,    262,      0,     89,  90535,    328,    630,      0],\n",
      "        [  3852,      6,  43249,  12018,     56,     66,  33234,    119,      0],\n",
      "        [     0,    198,      0,      0,      0,     87,      0,  91693,    264],\n",
      "        [     2,    246,      0,      0,      0,      0,    316,      0,  92045]])\n",
      "Epoch end: Train, epoch number: 63\n",
      "TrainEpoch/CM\n",
      " tensor([[ 80266,     24,   2940,   5240,     61,     28,    484,     37,      0],\n",
      "        [     0,  93213,      0,      0,      0,     34,      0,      0,    282],\n",
      "        [    20,     27, 105714,     26,    132,    780,   3819,    201,      2],\n",
      "        [  7567,     17,   3680,  77643,    616,     16,   2707,     30,      0],\n",
      "        [     0,     39,    936,      0,  90843,      3,    459,      3,      0],\n",
      "        [     0,    408,    262,      0,     89,  90535,    328,    630,      0],\n",
      "        [  3852,      6,  43249,  12018,     56,     66,  33234,    119,      0],\n",
      "        [     0,    198,      0,      0,      0,     87,      0,  91693,    264],\n",
      "        [     2,    246,      0,      0,      0,      0,    316,      0,  92045]])\n"
     ]
    },
    {
     "name": "stderr",
     "output_type": "stream",
     "text": [
      "Metric Validation/Accuracy improved by 0.001 >= min_delta = 0.0. New best score: 0.950\n"
     ]
    },
    {
     "data": {
      "application/vnd.jupyter.widget-view+json": {
       "model_id": "aa3a5fb589444551bebbe135e1511f63",
       "version_major": 2,
       "version_minor": 0
      },
      "text/plain": [
       "Validation: |          | 0/? [00:00<?, ?it/s]"
      ]
     },
     "metadata": {},
     "output_type": "display_data"
    },
    {
     "name": "stdout",
     "output_type": "stream",
     "text": [
      "Epoch end: Validation, epoch number: 65\n",
      "ValidationEpoch/CM\n",
      " tensor([[ 81651,     24,   2940,   5245,     61,     28,    484,     37,      0],\n",
      "        [     0,  94673,      0,      0,      0,     34,      0,      0,    282],\n",
      "        [    20,     27, 107382,     26,    132,    792,   3867,    201,      2],\n",
      "        [  7658,     17,   3685,  78927,    621,     16,   2762,     30,      0],\n",
      "        [     0,     39,    936,      0,  92283,      3,    459,      3,      0],\n",
      "        [     0,    413,    262,      0,     89,  91970,    328,    630,      0],\n",
      "        [  3881,      6,  43579,  12155,     56,     66,  34183,    119,      0],\n",
      "        [     0,    198,      0,      0,      0,     87,      0,  93133,    264],\n",
      "        [     2,    246,      0,      0,      0,      0,    316,      0,  93490]])\n",
      "Epoch end: Train, epoch number: 64\n",
      "TrainEpoch/CM\n",
      " tensor([[ 81651,     24,   2940,   5245,     61,     28,    484,     37,      0],\n",
      "        [     0,  94673,      0,      0,      0,     34,      0,      0,    282],\n",
      "        [    20,     27, 107382,     26,    132,    792,   3867,    201,      2],\n",
      "        [  7658,     17,   3685,  78927,    621,     16,   2762,     30,      0],\n",
      "        [     0,     39,    936,      0,  92283,      3,    459,      3,      0],\n",
      "        [     0,    413,    262,      0,     89,  91970,    328,    630,      0],\n",
      "        [  3881,      6,  43579,  12155,     56,     66,  34183,    119,      0],\n",
      "        [     0,    198,      0,      0,      0,     87,      0,  93133,    264],\n",
      "        [     2,    246,      0,      0,      0,      0,    316,      0,  93490]])\n"
     ]
    },
    {
     "name": "stderr",
     "output_type": "stream",
     "text": [
      "Metric Validation/Accuracy improved by 0.000 >= min_delta = 0.0. New best score: 0.950\n"
     ]
    },
    {
     "data": {
      "application/vnd.jupyter.widget-view+json": {
       "model_id": "a041f632aaab4f1d892cf9d766b05886",
       "version_major": 2,
       "version_minor": 0
      },
      "text/plain": [
       "Validation: |          | 0/? [00:00<?, ?it/s]"
      ]
     },
     "metadata": {},
     "output_type": "display_data"
    },
    {
     "name": "stdout",
     "output_type": "stream",
     "text": [
      "Epoch end: Validation, epoch number: 66\n",
      "ValidationEpoch/CM\n",
      " tensor([[ 83036,     24,   2940,   5250,     61,     28,    484,     37,      0],\n",
      "        [     0,  96133,      0,      0,      0,     34,      0,      0,    282],\n",
      "        [    20,     27, 109021,     26,    132,    804,   3944,    201,      2],\n",
      "        [  7748,     17,   3687,  80215,    626,     16,   2817,     30,      0],\n",
      "        [     0,     39,    936,      0,  93723,      3,    459,      3,      0],\n",
      "        [     0,    418,    262,      0,     89,  93405,    328,    630,      0],\n",
      "        [  3908,      6,  43866,  12291,     56,     66,  35178,    119,      0],\n",
      "        [     0,    198,      0,      0,      0,     87,      0,  94573,    264],\n",
      "        [     2,    246,      0,      0,      0,      0,    316,      0,  94935]])\n",
      "Epoch end: Train, epoch number: 65\n",
      "TrainEpoch/CM\n",
      " tensor([[ 83036,     24,   2940,   5250,     61,     28,    484,     37,      0],\n",
      "        [     0,  96133,      0,      0,      0,     34,      0,      0,    282],\n",
      "        [    20,     27, 109021,     26,    132,    804,   3944,    201,      2],\n",
      "        [  7748,     17,   3687,  80215,    626,     16,   2817,     30,      0],\n",
      "        [     0,     39,    936,      0,  93723,      3,    459,      3,      0],\n",
      "        [     0,    418,    262,      0,     89,  93405,    328,    630,      0],\n",
      "        [  3908,      6,  43866,  12291,     56,     66,  35178,    119,      0],\n",
      "        [     0,    198,      0,      0,      0,     87,      0,  94573,    264],\n",
      "        [     2,    246,      0,      0,      0,      0,    316,      0,  94935]])\n"
     ]
    },
    {
     "data": {
      "application/vnd.jupyter.widget-view+json": {
       "model_id": "5efc898b66e44fd7833e84c0b2e0bcc0",
       "version_major": 2,
       "version_minor": 0
      },
      "text/plain": [
       "Validation: |          | 0/? [00:00<?, ?it/s]"
      ]
     },
     "metadata": {},
     "output_type": "display_data"
    },
    {
     "name": "stdout",
     "output_type": "stream",
     "text": [
      "Epoch end: Validation, epoch number: 67\n",
      "ValidationEpoch/CM\n",
      " tensor([[ 84421,     24,   2940,   5255,     61,     28,    484,     37,      0],\n",
      "        [     0,  97593,      0,      0,      0,     34,      0,      0,    282],\n",
      "        [    20,     27, 110687,     26,    132,    816,   3994,    201,      2],\n",
      "        [  7837,     17,   3691,  81507,    631,     16,   2867,     30,      0],\n",
      "        [     0,     39,    936,      0,  95163,      3,    459,      3,      0],\n",
      "        [     0,    423,    262,      0,     89,  94840,    328,    630,      0],\n",
      "        [  3938,      6,  44183,  12431,     56,     66,  36136,    119,      0],\n",
      "        [     0,    198,      0,      0,      0,     87,      0,  96013,    264],\n",
      "        [     2,    246,      0,      0,      0,      0,    316,      0,  96380]])\n",
      "Epoch end: Train, epoch number: 66\n",
      "TrainEpoch/CM\n",
      " tensor([[ 84421,     24,   2940,   5255,     61,     28,    484,     37,      0],\n",
      "        [     0,  97593,      0,      0,      0,     34,      0,      0,    282],\n",
      "        [    20,     27, 110687,     26,    132,    816,   3994,    201,      2],\n",
      "        [  7837,     17,   3691,  81507,    631,     16,   2867,     30,      0],\n",
      "        [     0,     39,    936,      0,  95163,      3,    459,      3,      0],\n",
      "        [     0,    423,    262,      0,     89,  94840,    328,    630,      0],\n",
      "        [  3938,      6,  44183,  12431,     56,     66,  36136,    119,      0],\n",
      "        [     0,    198,      0,      0,      0,     87,      0,  96013,    264],\n",
      "        [     2,    246,      0,      0,      0,      0,    316,      0,  96380]])\n"
     ]
    },
    {
     "name": "stderr",
     "output_type": "stream",
     "text": [
      "Metric Validation/Accuracy improved by 0.001 >= min_delta = 0.0. New best score: 0.952\n"
     ]
    },
    {
     "data": {
      "application/vnd.jupyter.widget-view+json": {
       "model_id": "6eed90fc60544fcfb52730d6b51506fa",
       "version_major": 2,
       "version_minor": 0
      },
      "text/plain": [
       "Validation: |          | 0/? [00:00<?, ?it/s]"
      ]
     },
     "metadata": {},
     "output_type": "display_data"
    },
    {
     "name": "stdout",
     "output_type": "stream",
     "text": [
      "Epoch end: Validation, epoch number: 68\n",
      "ValidationEpoch/CM\n",
      " tensor([[ 85806,     24,   2940,   5260,     61,     28,    484,     37,      0],\n",
      "        [     0,  99053,      0,      0,      0,     34,      0,      0,    282],\n",
      "        [    20,     27, 112350,     26,    132,    828,   4047,    201,      2],\n",
      "        [  7923,     17,   3693,  82801,    636,     16,   2920,     30,      0],\n",
      "        [     0,     39,    936,      0,  96603,      3,    459,      3,      0],\n",
      "        [     0,    428,    262,      0,     89,  96275,    328,    630,      0],\n",
      "        [  3964,      6,  44490,  12571,     56,     66,  37108,    119,      0],\n",
      "        [     0,    198,      0,      0,      0,     87,      0,  97453,    264],\n",
      "        [     2,    246,      0,      0,      0,      0,    316,      0,  97825]])\n"
     ]
    },
    {
     "name": "stderr",
     "output_type": "stream",
     "text": [
      "Metric Validation/Accuracy improved by 0.000 >= min_delta = 0.0. New best score: 0.952\n"
     ]
    },
    {
     "name": "stdout",
     "output_type": "stream",
     "text": [
      "Epoch end: Train, epoch number: 67\n",
      "TrainEpoch/CM\n",
      " tensor([[ 85806,     24,   2940,   5260,     61,     28,    484,     37,      0],\n",
      "        [     0,  99053,      0,      0,      0,     34,      0,      0,    282],\n",
      "        [    20,     27, 112350,     26,    132,    828,   4047,    201,      2],\n",
      "        [  7923,     17,   3693,  82801,    636,     16,   2920,     30,      0],\n",
      "        [     0,     39,    936,      0,  96603,      3,    459,      3,      0],\n",
      "        [     0,    428,    262,      0,     89,  96275,    328,    630,      0],\n",
      "        [  3964,      6,  44490,  12571,     56,     66,  37108,    119,      0],\n",
      "        [     0,    198,      0,      0,      0,     87,      0,  97453,    264],\n",
      "        [     2,    246,      0,      0,      0,      0,    316,      0,  97825]])\n"
     ]
    },
    {
     "data": {
      "application/vnd.jupyter.widget-view+json": {
       "model_id": "140b315ba4d946efb995d04d73e2307a",
       "version_major": 2,
       "version_minor": 0
      },
      "text/plain": [
       "Validation: |          | 0/? [00:00<?, ?it/s]"
      ]
     },
     "metadata": {},
     "output_type": "display_data"
    },
    {
     "name": "stdout",
     "output_type": "stream",
     "text": [
      "Epoch end: Validation, epoch number: 69\n",
      "ValidationEpoch/CM\n",
      " tensor([[ 87191,     24,   2940,   5265,     61,     28,    484,     37,      0],\n",
      "        [     0, 100513,      0,      0,      0,     34,      0,      0,    282],\n",
      "        [    20,     27, 114014,     26,    132,    840,   4099,    201,      2],\n",
      "        [  8012,     17,   3695,  84090,    641,     16,   2975,     30,      0],\n",
      "        [     0,     39,    936,      0,  98043,      3,    459,      3,      0],\n",
      "        [     0,    433,    262,      0,     89,  97710,    328,    630,      0],\n",
      "        [  3991,      6,  44780,  12700,     56,     66,  38107,    119,      0],\n",
      "        [     0,    198,      0,      0,      0,     87,      0,  98893,    264],\n",
      "        [     2,    246,      0,      0,      0,      0,    316,      0,  99270]])\n",
      "Epoch end: Train, epoch number: 68\n",
      "TrainEpoch/CM\n",
      " tensor([[ 87191,     24,   2940,   5265,     61,     28,    484,     37,      0],\n",
      "        [     0, 100513,      0,      0,      0,     34,      0,      0,    282],\n",
      "        [    20,     27, 114014,     26,    132,    840,   4099,    201,      2],\n",
      "        [  8012,     17,   3695,  84090,    641,     16,   2975,     30,      0],\n",
      "        [     0,     39,    936,      0,  98043,      3,    459,      3,      0],\n",
      "        [     0,    433,    262,      0,     89,  97710,    328,    630,      0],\n",
      "        [  3991,      6,  44780,  12700,     56,     66,  38107,    119,      0],\n",
      "        [     0,    198,      0,      0,      0,     87,      0,  98893,    264],\n",
      "        [     2,    246,      0,      0,      0,      0,    316,      0,  99270]])\n"
     ]
    },
    {
     "name": "stderr",
     "output_type": "stream",
     "text": [
      "Metric Validation/Accuracy improved by 0.001 >= min_delta = 0.0. New best score: 0.953\n"
     ]
    },
    {
     "data": {
      "application/vnd.jupyter.widget-view+json": {
       "model_id": "82c41db75af8469892bba6482886af00",
       "version_major": 2,
       "version_minor": 0
      },
      "text/plain": [
       "Validation: |          | 0/? [00:00<?, ?it/s]"
      ]
     },
     "metadata": {},
     "output_type": "display_data"
    },
    {
     "name": "stdout",
     "output_type": "stream",
     "text": [
      "Epoch end: Validation, epoch number: 70\n",
      "ValidationEpoch/CM\n",
      " tensor([[ 88576,     24,   2940,   5270,     61,     28,    484,     37,      0],\n",
      "        [     0, 101973,      0,      0,      0,     34,      0,      0,    282],\n",
      "        [    20,     27, 115670,     26,    132,    852,   4159,    201,      2],\n",
      "        [  8098,     17,   3696,  85376,    646,     16,   3037,     30,      0],\n",
      "        [     0,     39,    936,      0,  99483,      3,    459,      3,      0],\n",
      "        [     0,    438,    262,      0,     89,  99145,    328,    630,      0],\n",
      "        [  4016,      6,  45057,  12821,     56,     66,  39129,    119,      0],\n",
      "        [     0,    198,      0,      0,      0,     87,      0, 100333,    264],\n",
      "        [     2,    246,      0,      0,      0,      0,    316,      0, 100715]])\n",
      "Epoch end: Train, epoch number: 69\n",
      "TrainEpoch/CM\n",
      " tensor([[ 88576,     24,   2940,   5270,     61,     28,    484,     37,      0],\n",
      "        [     0, 101973,      0,      0,      0,     34,      0,      0,    282],\n",
      "        [    20,     27, 115670,     26,    132,    852,   4159,    201,      2],\n",
      "        [  8098,     17,   3696,  85376,    646,     16,   3037,     30,      0],\n",
      "        [     0,     39,    936,      0,  99483,      3,    459,      3,      0],\n",
      "        [     0,    438,    262,      0,     89,  99145,    328,    630,      0],\n",
      "        [  4016,      6,  45057,  12821,     56,     66,  39129,    119,      0],\n",
      "        [     0,    198,      0,      0,      0,     87,      0, 100333,    264],\n",
      "        [     2,    246,      0,      0,      0,      0,    316,      0, 100715]])\n"
     ]
    },
    {
     "data": {
      "application/vnd.jupyter.widget-view+json": {
       "model_id": "b47cf515a24e42ef8a360e8426b55a41",
       "version_major": 2,
       "version_minor": 0
      },
      "text/plain": [
       "Validation: |          | 0/? [00:00<?, ?it/s]"
      ]
     },
     "metadata": {},
     "output_type": "display_data"
    },
    {
     "name": "stdout",
     "output_type": "stream",
     "text": [
      "Epoch end: Validation, epoch number: 71\n",
      "ValidationEpoch/CM\n",
      " tensor([[ 89961,     24,   2940,   5275,     61,     28,    484,     37,      0],\n",
      "        [     0, 103433,      0,      0,      0,     34,      0,      0,    282],\n",
      "        [    20,     27, 117331,     26,    132,    864,   4214,    201,      2],\n",
      "        [  8178,     17,   3698,  86672,    651,     16,   3094,     30,      0],\n",
      "        [     0,     39,    936,      0, 100923,      3,    459,      3,      0],\n",
      "        [     0,    440,    262,      0,     89, 100583,    328,    630,      0],\n",
      "        [  4041,      6,  45348,  12955,     56,     66,  40124,    119,      0],\n",
      "        [     0,    198,      0,      0,      0,     87,      0, 101773,    264],\n",
      "        [     2,    246,      0,      0,      0,      0,    316,      0, 102160]])\n",
      "Epoch end: Train, epoch number: 70\n",
      "TrainEpoch/CM\n",
      " tensor([[ 89961,     24,   2940,   5275,     61,     28,    484,     37,      0],\n",
      "        [     0, 103433,      0,      0,      0,     34,      0,      0,    282],\n",
      "        [    20,     27, 117331,     26,    132,    864,   4214,    201,      2],\n",
      "        [  8178,     17,   3698,  86672,    651,     16,   3094,     30,      0],\n",
      "        [     0,     39,    936,      0, 100923,      3,    459,      3,      0],\n",
      "        [     0,    440,    262,      0,     89, 100583,    328,    630,      0],\n",
      "        [  4041,      6,  45348,  12955,     56,     66,  40124,    119,      0],\n",
      "        [     0,    198,      0,      0,      0,     87,      0, 101773,    264],\n",
      "        [     2,    246,      0,      0,      0,      0,    316,      0, 102160]])\n"
     ]
    },
    {
     "name": "stderr",
     "output_type": "stream",
     "text": [
      "Metric Validation/Accuracy improved by 0.001 >= min_delta = 0.0. New best score: 0.954\n"
     ]
    },
    {
     "data": {
      "application/vnd.jupyter.widget-view+json": {
       "model_id": "89256f06dad54427b813f2b355d0cd4a",
       "version_major": 2,
       "version_minor": 0
      },
      "text/plain": [
       "Validation: |          | 0/? [00:00<?, ?it/s]"
      ]
     },
     "metadata": {},
     "output_type": "display_data"
    },
    {
     "name": "stdout",
     "output_type": "stream",
     "text": [
      "Epoch end: Validation, epoch number: 72\n",
      "ValidationEpoch/CM\n",
      " tensor([[ 91346,     24,   2940,   5280,     61,     28,    484,     37,      0],\n",
      "        [     0, 104893,      0,      0,      0,     34,      0,      0,    282],\n",
      "        [    20,     27, 118992,     26,    132,    876,   4269,    201,      2],\n",
      "        [  8263,     17,   3700,  87963,    656,     16,   3151,     30,      0],\n",
      "        [     0,     39,    936,      0, 102363,      3,    459,      3,      0],\n",
      "        [     0,    444,    262,      0,     89, 102019,    328,    630,      0],\n",
      "        [  4068,      6,  45636,  13081,     56,     66,  41128,    119,      0],\n",
      "        [     0,    198,      0,      0,      0,     87,      0, 103213,    264],\n",
      "        [     2,    246,      0,      0,      0,      0,    316,      0, 103605]])\n",
      "Epoch end: Train, epoch number: 71\n",
      "TrainEpoch/CM\n",
      " tensor([[ 91346,     24,   2940,   5280,     61,     28,    484,     37,      0],\n",
      "        [     0, 104893,      0,      0,      0,     34,      0,      0,    282],\n",
      "        [    20,     27, 118992,     26,    132,    876,   4269,    201,      2],\n",
      "        [  8263,     17,   3700,  87963,    656,     16,   3151,     30,      0],\n",
      "        [     0,     39,    936,      0, 102363,      3,    459,      3,      0],\n",
      "        [     0,    444,    262,      0,     89, 102019,    328,    630,      0],\n",
      "        [  4068,      6,  45636,  13081,     56,     66,  41128,    119,      0],\n",
      "        [     0,    198,      0,      0,      0,     87,      0, 103213,    264],\n",
      "        [     2,    246,      0,      0,      0,      0,    316,      0, 103605]])\n"
     ]
    },
    {
     "data": {
      "application/vnd.jupyter.widget-view+json": {
       "model_id": "ec5fe6398f3b489aab182fdfc45938d3",
       "version_major": 2,
       "version_minor": 0
      },
      "text/plain": [
       "Validation: |          | 0/? [00:00<?, ?it/s]"
      ]
     },
     "metadata": {},
     "output_type": "display_data"
    },
    {
     "name": "stdout",
     "output_type": "stream",
     "text": [
      "Epoch end: Validation, epoch number: 73\n",
      "ValidationEpoch/CM\n",
      " tensor([[ 92731,     24,   2940,   5285,     61,     28,    484,     37,      0],\n",
      "        [     0, 106353,      0,      0,      0,     34,      0,      0,    282],\n",
      "        [    20,     27, 120639,     26,    132,    888,   4338,    201,      2],\n",
      "        [  8338,     17,   3703,  89261,    661,     16,   3210,     30,      0],\n",
      "        [     0,     39,    936,      0, 103803,      3,    459,      3,      0],\n",
      "        [     0,    444,    262,      0,     89, 103459,    328,    630,      0],\n",
      "        [  4093,      6,  45891,  13205,     56,     66,  42169,    119,      0],\n",
      "        [     0,    198,      0,      0,      0,     87,      0, 104653,    264],\n",
      "        [     2,    246,      0,      0,      0,      0,    316,      0, 105050]])\n",
      "Epoch end: Train, epoch number: 72\n",
      "TrainEpoch/CM\n",
      " tensor([[ 92731,     24,   2940,   5285,     61,     28,    484,     37,      0],\n",
      "        [     0, 106353,      0,      0,      0,     34,      0,      0,    282],\n",
      "        [    20,     27, 120639,     26,    132,    888,   4338,    201,      2],\n",
      "        [  8338,     17,   3703,  89261,    661,     16,   3210,     30,      0],\n",
      "        [     0,     39,    936,      0, 103803,      3,    459,      3,      0],\n",
      "        [     0,    444,    262,      0,     89, 103459,    328,    630,      0],\n",
      "        [  4093,      6,  45891,  13205,     56,     66,  42169,    119,      0],\n",
      "        [     0,    198,      0,      0,      0,     87,      0, 104653,    264],\n",
      "        [     2,    246,      0,      0,      0,      0,    316,      0, 105050]])\n"
     ]
    },
    {
     "data": {
      "application/vnd.jupyter.widget-view+json": {
       "model_id": "474c63ccf14e470bbaf7791dceed0748",
       "version_major": 2,
       "version_minor": 0
      },
      "text/plain": [
       "Validation: |          | 0/? [00:00<?, ?it/s]"
      ]
     },
     "metadata": {},
     "output_type": "display_data"
    },
    {
     "name": "stdout",
     "output_type": "stream",
     "text": [
      "Epoch end: Validation, epoch number: 74\n",
      "ValidationEpoch/CM\n",
      " tensor([[ 94116,     24,   2940,   5290,     61,     28,    484,     37,      0],\n",
      "        [     0, 107813,      0,      0,      0,     34,      0,      0,    282],\n",
      "        [    20,     27, 122294,     26,    132,    900,   4399,    201,      2],\n",
      "        [  8418,     17,   3705,  90561,    664,     16,   3265,     30,      0],\n",
      "        [     0,     39,    936,      0, 105243,      3,    459,      3,      0],\n",
      "        [     0,    444,    262,      0,     89, 104899,    328,    630,      0],\n",
      "        [  4119,      6,  46209,  13331,     56,     66,  43144,    119,      0],\n",
      "        [     0,    198,      0,      0,      0,     87,      0, 106093,    264],\n",
      "        [     2,    246,      0,      0,      0,      0,    316,      0, 106495]])\n",
      "Epoch end: Train, epoch number: 73\n",
      "TrainEpoch/CM\n",
      " tensor([[ 94116,     24,   2940,   5290,     61,     28,    484,     37,      0],\n",
      "        [     0, 107813,      0,      0,      0,     34,      0,      0,    282],\n",
      "        [    20,     27, 122294,     26,    132,    900,   4399,    201,      2],\n",
      "        [  8418,     17,   3705,  90561,    664,     16,   3265,     30,      0],\n",
      "        [     0,     39,    936,      0, 105243,      3,    459,      3,      0],\n",
      "        [     0,    444,    262,      0,     89, 104899,    328,    630,      0],\n",
      "        [  4119,      6,  46209,  13331,     56,     66,  43144,    119,      0],\n",
      "        [     0,    198,      0,      0,      0,     87,      0, 106093,    264],\n",
      "        [     2,    246,      0,      0,      0,      0,    316,      0, 106495]])\n"
     ]
    },
    {
     "name": "stderr",
     "output_type": "stream",
     "text": [
      "Metric Validation/Accuracy improved by 0.004 >= min_delta = 0.0. New best score: 0.957\n"
     ]
    },
    {
     "data": {
      "application/vnd.jupyter.widget-view+json": {
       "model_id": "16cf8ede0d9a40c6a0eacbcc60740ad6",
       "version_major": 2,
       "version_minor": 0
      },
      "text/plain": [
       "Validation: |          | 0/? [00:00<?, ?it/s]"
      ]
     },
     "metadata": {},
     "output_type": "display_data"
    },
    {
     "name": "stdout",
     "output_type": "stream",
     "text": [
      "Epoch end: Validation, epoch number: 75\n",
      "ValidationEpoch/CM\n",
      " tensor([[ 95501,     24,   2940,   5295,     61,     28,    484,     37,      0],\n",
      "        [     0, 109273,      0,      0,      0,     34,      0,      0,    282],\n",
      "        [    20,     27, 123941,     26,    132,    912,   4468,    201,      2],\n",
      "        [  8494,     17,   3705,  91859,    668,     16,   3327,     30,      0],\n",
      "        [     0,     39,    936,      0, 106683,      3,    459,      3,      0],\n",
      "        [     0,    444,    262,      0,     89, 106339,    328,    630,      0],\n",
      "        [  4144,      6,  46456,  13451,     56,     66,  44197,    119,      0],\n",
      "        [     0,    198,      0,      0,      0,     87,      0, 107533,    264],\n",
      "        [     2,    246,      0,      0,      0,      0,    316,      0, 107940]])\n",
      "Epoch end: Train, epoch number: 74\n",
      "TrainEpoch/CM\n",
      " tensor([[ 95501,     24,   2940,   5295,     61,     28,    484,     37,      0],\n",
      "        [     0, 109273,      0,      0,      0,     34,      0,      0,    282],\n",
      "        [    20,     27, 123941,     26,    132,    912,   4468,    201,      2],\n",
      "        [  8494,     17,   3705,  91859,    668,     16,   3327,     30,      0],\n",
      "        [     0,     39,    936,      0, 106683,      3,    459,      3,      0],\n",
      "        [     0,    444,    262,      0,     89, 106339,    328,    630,      0],\n",
      "        [  4144,      6,  46456,  13451,     56,     66,  44197,    119,      0],\n",
      "        [     0,    198,      0,      0,      0,     87,      0, 107533,    264],\n",
      "        [     2,    246,      0,      0,      0,      0,    316,      0, 107940]])\n"
     ]
    },
    {
     "data": {
      "application/vnd.jupyter.widget-view+json": {
       "model_id": "045ca294a9374efc895467ab3bee4837",
       "version_major": 2,
       "version_minor": 0
      },
      "text/plain": [
       "Validation: |          | 0/? [00:00<?, ?it/s]"
      ]
     },
     "metadata": {},
     "output_type": "display_data"
    },
    {
     "name": "stdout",
     "output_type": "stream",
     "text": [
      "Epoch end: Validation, epoch number: 76\n",
      "ValidationEpoch/CM\n",
      " tensor([[ 96886,     24,   2940,   5300,     61,     28,    484,     37,      0],\n",
      "        [     0, 110733,      0,      0,      0,     34,      0,      0,    282],\n",
      "        [    20,     27, 125597,     26,    132,    924,   4528,    201,      2],\n",
      "        [  8568,     17,   3705,  93164,    670,     16,   3386,     30,      0],\n",
      "        [     0,     39,    936,      0, 108123,      3,    459,      3,      0],\n",
      "        [     0,    444,    262,      0,     89, 107779,    328,    630,      0],\n",
      "        [  4169,      6,  46723,  13572,     56,     66,  45229,    119,      0],\n",
      "        [     0,    198,      0,      0,      0,     87,      0, 108973,    264],\n",
      "        [     2,    246,      0,      0,      0,      0,    316,      0, 109385]])\n",
      "Epoch end: Train, epoch number: 75\n",
      "TrainEpoch/CM\n",
      " tensor([[ 96886,     24,   2940,   5300,     61,     28,    484,     37,      0],\n",
      "        [     0, 110733,      0,      0,      0,     34,      0,      0,    282],\n",
      "        [    20,     27, 125597,     26,    132,    924,   4528,    201,      2],\n",
      "        [  8568,     17,   3705,  93164,    670,     16,   3386,     30,      0],\n",
      "        [     0,     39,    936,      0, 108123,      3,    459,      3,      0],\n",
      "        [     0,    444,    262,      0,     89, 107779,    328,    630,      0],\n",
      "        [  4169,      6,  46723,  13572,     56,     66,  45229,    119,      0],\n",
      "        [     0,    198,      0,      0,      0,     87,      0, 108973,    264],\n",
      "        [     2,    246,      0,      0,      0,      0,    316,      0, 109385]])\n"
     ]
    },
    {
     "data": {
      "application/vnd.jupyter.widget-view+json": {
       "model_id": "08385f95062d400c81ba8839980128e6",
       "version_major": 2,
       "version_minor": 0
      },
      "text/plain": [
       "Validation: |          | 0/? [00:00<?, ?it/s]"
      ]
     },
     "metadata": {},
     "output_type": "display_data"
    },
    {
     "name": "stdout",
     "output_type": "stream",
     "text": [
      "Epoch end: Validation, epoch number: 77\n",
      "ValidationEpoch/CM\n",
      " tensor([[ 98271,     24,   2940,   5305,     61,     28,    484,     37,      0],\n",
      "        [     0, 112193,      0,      0,      0,     34,      0,      0,    282],\n",
      "        [    20,     27, 127253,     26,    132,    936,   4588,    201,      2],\n",
      "        [  8641,     17,   3705,  94467,    671,     16,   3449,     30,      0],\n",
      "        [     0,     39,    936,      0, 109563,      3,    459,      3,      0],\n",
      "        [     0,    444,    262,      0,     89, 109219,    328,    630,      0],\n",
      "        [  4194,      6,  46978,  13686,     56,     66,  46280,    119,      0],\n",
      "        [     0,    198,      0,      0,      0,     87,      0, 110413,    264],\n",
      "        [     2,    246,      0,      0,      0,      0,    316,      0, 110830]])\n",
      "Epoch end: Train, epoch number: 76\n",
      "TrainEpoch/CM\n",
      " tensor([[ 98271,     24,   2940,   5305,     61,     28,    484,     37,      0],\n",
      "        [     0, 112193,      0,      0,      0,     34,      0,      0,    282],\n",
      "        [    20,     27, 127253,     26,    132,    936,   4588,    201,      2],\n",
      "        [  8641,     17,   3705,  94467,    671,     16,   3449,     30,      0],\n",
      "        [     0,     39,    936,      0, 109563,      3,    459,      3,      0],\n",
      "        [     0,    444,    262,      0,     89, 109219,    328,    630,      0],\n",
      "        [  4194,      6,  46978,  13686,     56,     66,  46280,    119,      0],\n",
      "        [     0,    198,      0,      0,      0,     87,      0, 110413,    264],\n",
      "        [     2,    246,      0,      0,      0,      0,    316,      0, 110830]])\n"
     ]
    },
    {
     "data": {
      "application/vnd.jupyter.widget-view+json": {
       "model_id": "abf6ed2d346048ed85a0d1f782a1cdbe",
       "version_major": 2,
       "version_minor": 0
      },
      "text/plain": [
       "Validation: |          | 0/? [00:00<?, ?it/s]"
      ]
     },
     "metadata": {},
     "output_type": "display_data"
    },
    {
     "name": "stdout",
     "output_type": "stream",
     "text": [
      "Epoch end: Validation, epoch number: 78\n",
      "ValidationEpoch/CM\n",
      " tensor([[ 99656,     24,   2940,   5310,     61,     28,    484,     37,      0],\n",
      "        [     0, 113653,      0,      0,      0,     34,      0,      0,    282],\n",
      "        [    20,     27, 128907,     26,    132,    948,   4650,    201,      2],\n",
      "        [  8715,     17,   3705,  95766,    675,     16,   3512,     30,      0],\n",
      "        [     0,     39,    936,      0, 111003,      3,    459,      3,      0],\n",
      "        [     0,    444,    262,      0,     89, 110659,    328,    630,      0],\n",
      "        [  4219,      6,  47237,  13797,     56,     66,  47330,    119,      0],\n",
      "        [     0,    198,      0,      0,      0,     87,      0, 111853,    264],\n",
      "        [     2,    246,      0,      0,      0,      0,    316,      0, 112275]])\n",
      "Epoch end: Train, epoch number: 77\n",
      "TrainEpoch/CM\n",
      " tensor([[ 99656,     24,   2940,   5310,     61,     28,    484,     37,      0],\n",
      "        [     0, 113653,      0,      0,      0,     34,      0,      0,    282],\n",
      "        [    20,     27, 128907,     26,    132,    948,   4650,    201,      2],\n",
      "        [  8715,     17,   3705,  95766,    675,     16,   3512,     30,      0],\n",
      "        [     0,     39,    936,      0, 111003,      3,    459,      3,      0],\n",
      "        [     0,    444,    262,      0,     89, 110659,    328,    630,      0],\n",
      "        [  4219,      6,  47237,  13797,     56,     66,  47330,    119,      0],\n",
      "        [     0,    198,      0,      0,      0,     87,      0, 111853,    264],\n",
      "        [     2,    246,      0,      0,      0,      0,    316,      0, 112275]])\n"
     ]
    },
    {
     "data": {
      "application/vnd.jupyter.widget-view+json": {
       "model_id": "05b40be36f5a44ca8ed81085f523f290",
       "version_major": 2,
       "version_minor": 0
      },
      "text/plain": [
       "Validation: |          | 0/? [00:00<?, ?it/s]"
      ]
     },
     "metadata": {},
     "output_type": "display_data"
    },
    {
     "name": "stdout",
     "output_type": "stream",
     "text": [
      "Epoch end: Validation, epoch number: 79\n",
      "ValidationEpoch/CM\n",
      " tensor([[101041,     24,   2940,   5315,     61,     28,    484,     37,      0],\n",
      "        [     0, 115113,      0,      0,      0,     34,      0,      0,    282],\n",
      "        [    20,     27, 130567,     26,    132,    960,   4706,    201,      2],\n",
      "        [  8789,     17,   3707,  97078,    675,     16,   3564,     30,      0],\n",
      "        [     0,     39,    936,      0, 112443,      3,    459,      3,      0],\n",
      "        [     0,    444,    262,      0,     89, 112099,    328,    630,      0],\n",
      "        [  4244,      6,  47519,  13916,     56,     66,  48349,    119,      0],\n",
      "        [     0,    198,      0,      0,      0,     87,      0, 113293,    264],\n",
      "        [     2,    246,      0,      0,      0,      0,    316,      0, 113720]])\n",
      "Epoch end: Train, epoch number: 78\n",
      "TrainEpoch/CM\n",
      " tensor([[101041,     24,   2940,   5315,     61,     28,    484,     37,      0],\n",
      "        [     0, 115113,      0,      0,      0,     34,      0,      0,    282],\n",
      "        [    20,     27, 130567,     26,    132,    960,   4706,    201,      2],\n",
      "        [  8789,     17,   3707,  97078,    675,     16,   3564,     30,      0],\n",
      "        [     0,     39,    936,      0, 112443,      3,    459,      3,      0],\n",
      "        [     0,    444,    262,      0,     89, 112099,    328,    630,      0],\n",
      "        [  4244,      6,  47519,  13916,     56,     66,  48349,    119,      0],\n",
      "        [     0,    198,      0,      0,      0,     87,      0, 113293,    264],\n",
      "        [     2,    246,      0,      0,      0,      0,    316,      0, 113720]])\n"
     ]
    },
    {
     "name": "stderr",
     "output_type": "stream",
     "text": [
      "Metric Validation/Accuracy improved by 0.002 >= min_delta = 0.0. New best score: 0.959\n"
     ]
    },
    {
     "data": {
      "application/vnd.jupyter.widget-view+json": {
       "model_id": "6bb3c4b59ca44f1db8362ff41af36582",
       "version_major": 2,
       "version_minor": 0
      },
      "text/plain": [
       "Validation: |          | 0/? [00:00<?, ?it/s]"
      ]
     },
     "metadata": {},
     "output_type": "display_data"
    },
    {
     "name": "stdout",
     "output_type": "stream",
     "text": [
      "Epoch end: Validation, epoch number: 80\n",
      "ValidationEpoch/CM\n",
      " tensor([[102426,     24,   2940,   5320,     61,     28,    484,     37,      0],\n",
      "        [     0, 116573,      0,      0,      0,     34,      0,      0,    282],\n",
      "        [    20,     27, 132203,     26,    132,    972,   4786,    201,      2],\n",
      "        [  8864,     17,   3707,  98384,    675,     16,   3623,     30,      0],\n",
      "        [     0,     39,    936,      0, 113883,      3,    459,      3,      0],\n",
      "        [     0,    444,    262,      0,     89, 113539,    328,    630,      0],\n",
      "        [  4269,      6,  47746,  14025,     56,     66,  49433,    119,      0],\n",
      "        [     0,    198,      0,      0,      0,     87,      0, 114733,    264],\n",
      "        [     2,    246,      0,      0,      0,      0,    316,      0, 115165]])\n"
     ]
    },
    {
     "name": "stderr",
     "output_type": "stream",
     "text": [
      "Metric Validation/Accuracy improved by 0.001 >= min_delta = 0.0. New best score: 0.960\n"
     ]
    },
    {
     "name": "stdout",
     "output_type": "stream",
     "text": [
      "Epoch end: Train, epoch number: 79\n",
      "TrainEpoch/CM\n",
      " tensor([[102426,     24,   2940,   5320,     61,     28,    484,     37,      0],\n",
      "        [     0, 116573,      0,      0,      0,     34,      0,      0,    282],\n",
      "        [    20,     27, 132203,     26,    132,    972,   4786,    201,      2],\n",
      "        [  8864,     17,   3707,  98384,    675,     16,   3623,     30,      0],\n",
      "        [     0,     39,    936,      0, 113883,      3,    459,      3,      0],\n",
      "        [     0,    444,    262,      0,     89, 113539,    328,    630,      0],\n",
      "        [  4269,      6,  47746,  14025,     56,     66,  49433,    119,      0],\n",
      "        [     0,    198,      0,      0,      0,     87,      0, 114733,    264],\n",
      "        [     2,    246,      0,      0,      0,      0,    316,      0, 115165]])\n"
     ]
    },
    {
     "data": {
      "application/vnd.jupyter.widget-view+json": {
       "model_id": "d6f7ffdf541246218f08bc87b88c750a",
       "version_major": 2,
       "version_minor": 0
      },
      "text/plain": [
       "Validation: |          | 0/? [00:00<?, ?it/s]"
      ]
     },
     "metadata": {},
     "output_type": "display_data"
    },
    {
     "name": "stdout",
     "output_type": "stream",
     "text": [
      "Epoch end: Validation, epoch number: 81\n",
      "ValidationEpoch/CM\n",
      " tensor([[103811,     24,   2940,   5325,     61,     28,    484,     37,      0],\n",
      "        [     0, 118033,      0,      0,      0,     34,      0,      0,    282],\n",
      "        [    20,     27, 133824,     26,    132,    984,   4881,    201,      2],\n",
      "        [  8937,     17,   3707,  99688,    675,     16,   3686,     30,      0],\n",
      "        [     0,     39,    936,      0, 115323,      3,    459,      3,      0],\n",
      "        [     0,    444,    262,      0,     89, 114979,    328,    630,      0],\n",
      "        [  4294,      6,  47954,  14136,     56,     66,  50534,    119,      0],\n",
      "        [     0,    198,      0,      0,      0,     87,      0, 116173,    264],\n",
      "        [     2,    246,      0,      0,      0,      0,    316,      0, 116610]])\n",
      "Epoch end: Train, epoch number: 80\n",
      "TrainEpoch/CM\n",
      " tensor([[103811,     24,   2940,   5325,     61,     28,    484,     37,      0],\n",
      "        [     0, 118033,      0,      0,      0,     34,      0,      0,    282],\n",
      "        [    20,     27, 133824,     26,    132,    984,   4881,    201,      2],\n",
      "        [  8937,     17,   3707,  99688,    675,     16,   3686,     30,      0],\n",
      "        [     0,     39,    936,      0, 115323,      3,    459,      3,      0],\n",
      "        [     0,    444,    262,      0,     89, 114979,    328,    630,      0],\n",
      "        [  4294,      6,  47954,  14136,     56,     66,  50534,    119,      0],\n",
      "        [     0,    198,      0,      0,      0,     87,      0, 116173,    264],\n",
      "        [     2,    246,      0,      0,      0,      0,    316,      0, 116610]])\n"
     ]
    },
    {
     "data": {
      "application/vnd.jupyter.widget-view+json": {
       "model_id": "df15b150092b4185bb664f0e46ece81b",
       "version_major": 2,
       "version_minor": 0
      },
      "text/plain": [
       "Validation: |          | 0/? [00:00<?, ?it/s]"
      ]
     },
     "metadata": {},
     "output_type": "display_data"
    },
    {
     "name": "stdout",
     "output_type": "stream",
     "text": [
      "Epoch end: Validation, epoch number: 82\n",
      "ValidationEpoch/CM\n",
      " tensor([[105196,     24,   2940,   5330,     61,     28,    484,     37,      0],\n",
      "        [     0, 119493,      0,      0,      0,     34,      0,      0,    282],\n",
      "        [    20,     27, 135475,     26,    132,    996,   4946,    201,      2],\n",
      "        [  9008,     17,   3707, 101005,    675,     16,   3738,     30,      0],\n",
      "        [     0,     39,    936,      0, 116763,      3,    459,      3,      0],\n",
      "        [     0,    444,    262,      0,     89, 116419,    328,    630,      0],\n",
      "        [  4319,      6,  48192,  14253,     56,     66,  51599,    119,      0],\n",
      "        [     0,    198,      0,      0,      0,     87,      0, 117613,    264],\n",
      "        [     2,    246,      0,      0,      0,      0,    316,      0, 118055]])\n",
      "Epoch end: Train, epoch number: 81\n",
      "TrainEpoch/CM\n",
      " tensor([[105196,     24,   2940,   5330,     61,     28,    484,     37,      0],\n",
      "        [     0, 119493,      0,      0,      0,     34,      0,      0,    282],\n",
      "        [    20,     27, 135475,     26,    132,    996,   4946,    201,      2],\n",
      "        [  9008,     17,   3707, 101005,    675,     16,   3738,     30,      0],\n",
      "        [     0,     39,    936,      0, 116763,      3,    459,      3,      0],\n",
      "        [     0,    444,    262,      0,     89, 116419,    328,    630,      0],\n",
      "        [  4319,      6,  48192,  14253,     56,     66,  51599,    119,      0],\n",
      "        [     0,    198,      0,      0,      0,     87,      0, 117613,    264],\n",
      "        [     2,    246,      0,      0,      0,      0,    316,      0, 118055]])\n"
     ]
    },
    {
     "data": {
      "application/vnd.jupyter.widget-view+json": {
       "model_id": "f6f5e212bab64877a0e05b544d4e8bb5",
       "version_major": 2,
       "version_minor": 0
      },
      "text/plain": [
       "Validation: |          | 0/? [00:00<?, ?it/s]"
      ]
     },
     "metadata": {},
     "output_type": "display_data"
    },
    {
     "name": "stdout",
     "output_type": "stream",
     "text": [
      "Epoch end: Validation, epoch number: 83\n",
      "ValidationEpoch/CM\n",
      " tensor([[106581,     24,   2940,   5335,     61,     28,    484,     37,      0],\n",
      "        [     0, 120953,      0,      0,      0,     34,      0,      0,    282],\n",
      "        [    20,     27, 137123,     26,    132,   1008,   5014,    201,      2],\n",
      "        [  9078,     17,   3707, 102310,    675,     16,   3803,     30,      0],\n",
      "        [     0,     39,    936,      0, 118203,      3,    459,      3,      0],\n",
      "        [     0,    444,    262,      0,     89, 117859,    328,    630,      0],\n",
      "        [  4344,      6,  48423,  14355,     56,     66,  52686,    119,      0],\n",
      "        [     0,    198,      0,      0,      0,     87,      0, 119053,    264],\n",
      "        [     2,    246,      0,      0,      0,      0,    316,      0, 119500]])\n",
      "Epoch end: Train, epoch number: 82\n",
      "TrainEpoch/CM\n",
      " tensor([[106581,     24,   2940,   5335,     61,     28,    484,     37,      0],\n",
      "        [     0, 120953,      0,      0,      0,     34,      0,      0,    282],\n",
      "        [    20,     27, 137123,     26,    132,   1008,   5014,    201,      2],\n",
      "        [  9078,     17,   3707, 102310,    675,     16,   3803,     30,      0],\n",
      "        [     0,     39,    936,      0, 118203,      3,    459,      3,      0],\n",
      "        [     0,    444,    262,      0,     89, 117859,    328,    630,      0],\n",
      "        [  4344,      6,  48423,  14355,     56,     66,  52686,    119,      0],\n",
      "        [     0,    198,      0,      0,      0,     87,      0, 119053,    264],\n",
      "        [     2,    246,      0,      0,      0,      0,    316,      0, 119500]])\n"
     ]
    },
    {
     "data": {
      "application/vnd.jupyter.widget-view+json": {
       "model_id": "ebfd90f3ef6748979fafbd2d11cbe89d",
       "version_major": 2,
       "version_minor": 0
      },
      "text/plain": [
       "Validation: |          | 0/? [00:00<?, ?it/s]"
      ]
     },
     "metadata": {},
     "output_type": "display_data"
    },
    {
     "name": "stdout",
     "output_type": "stream",
     "text": [
      "Epoch end: Validation, epoch number: 84\n",
      "ValidationEpoch/CM\n",
      " tensor([[107966,     24,   2940,   5340,     61,     28,    484,     37,      0],\n",
      "        [     0, 122413,      0,      0,      0,     34,      0,      0,    282],\n",
      "        [    20,     27, 138779,     26,    132,   1020,   5074,    201,      2],\n",
      "        [  9141,     17,   3707, 103635,    675,     16,   3855,     30,      0],\n",
      "        [     0,     39,    936,      0, 119643,      3,    459,      3,      0],\n",
      "        [     0,    444,    262,      0,     89, 119299,    328,    630,      0],\n",
      "        [  4369,      6,  48658,  14470,     56,     66,  53756,    119,      0],\n",
      "        [     0,    198,      0,      0,      0,     87,      0, 120493,    264],\n",
      "        [     2,    246,      0,      0,      0,      0,    316,      0, 120945]])\n",
      "Epoch end: Train, epoch number: 83\n",
      "TrainEpoch/CM\n",
      " tensor([[107966,     24,   2940,   5340,     61,     28,    484,     37,      0],\n",
      "        [     0, 122413,      0,      0,      0,     34,      0,      0,    282],\n",
      "        [    20,     27, 138779,     26,    132,   1020,   5074,    201,      2],\n",
      "        [  9141,     17,   3707, 103635,    675,     16,   3855,     30,      0],\n",
      "        [     0,     39,    936,      0, 119643,      3,    459,      3,      0],\n",
      "        [     0,    444,    262,      0,     89, 119299,    328,    630,      0],\n",
      "        [  4369,      6,  48658,  14470,     56,     66,  53756,    119,      0],\n",
      "        [     0,    198,      0,      0,      0,     87,      0, 120493,    264],\n",
      "        [     2,    246,      0,      0,      0,      0,    316,      0, 120945]])\n"
     ]
    },
    {
     "name": "stderr",
     "output_type": "stream",
     "text": [
      "Metric Validation/Accuracy improved by 0.000 >= min_delta = 0.0. New best score: 0.960\n"
     ]
    },
    {
     "data": {
      "application/vnd.jupyter.widget-view+json": {
       "model_id": "a0becb675641438b93256f39ac8126d2",
       "version_major": 2,
       "version_minor": 0
      },
      "text/plain": [
       "Validation: |          | 0/? [00:00<?, ?it/s]"
      ]
     },
     "metadata": {},
     "output_type": "display_data"
    },
    {
     "name": "stdout",
     "output_type": "stream",
     "text": [
      "Epoch end: Validation, epoch number: 85\n",
      "ValidationEpoch/CM\n",
      " tensor([[109351,     24,   2940,   5345,     61,     28,    484,     37,      0],\n",
      "        [     0, 123873,      0,      0,      0,     34,      0,      0,    282],\n",
      "        [    20,     27, 140435,     26,    132,   1032,   5134,    201,      2],\n",
      "        [  9214,     17,   3707, 104939,    675,     16,   3918,     30,      0],\n",
      "        [     0,     39,    936,      0, 121083,      3,    459,      3,      0],\n",
      "        [     0,    444,    262,      0,     89, 120739,    328,    630,      0],\n",
      "        [  4394,      6,  48909,  14573,     56,     66,  54822,    119,      0],\n",
      "        [     0,    198,      0,      0,      0,     87,      0, 121933,    264],\n",
      "        [     2,    246,      0,      0,      0,      0,    316,      0, 122390]])\n",
      "Epoch end: Train, epoch number: 84\n",
      "TrainEpoch/CM\n",
      " tensor([[109351,     24,   2940,   5345,     61,     28,    484,     37,      0],\n",
      "        [     0, 123873,      0,      0,      0,     34,      0,      0,    282],\n",
      "        [    20,     27, 140435,     26,    132,   1032,   5134,    201,      2],\n",
      "        [  9214,     17,   3707, 104939,    675,     16,   3918,     30,      0],\n",
      "        [     0,     39,    936,      0, 121083,      3,    459,      3,      0],\n",
      "        [     0,    444,    262,      0,     89, 120739,    328,    630,      0],\n",
      "        [  4394,      6,  48909,  14573,     56,     66,  54822,    119,      0],\n",
      "        [     0,    198,      0,      0,      0,     87,      0, 121933,    264],\n",
      "        [     2,    246,      0,      0,      0,      0,    316,      0, 122390]])\n"
     ]
    },
    {
     "name": "stderr",
     "output_type": "stream",
     "text": [
      "Metric Validation/Accuracy improved by 0.001 >= min_delta = 0.0. New best score: 0.961\n"
     ]
    },
    {
     "data": {
      "application/vnd.jupyter.widget-view+json": {
       "model_id": "249349bbf8234464a96ac01f332337a0",
       "version_major": 2,
       "version_minor": 0
      },
      "text/plain": [
       "Validation: |          | 0/? [00:00<?, ?it/s]"
      ]
     },
     "metadata": {},
     "output_type": "display_data"
    },
    {
     "name": "stdout",
     "output_type": "stream",
     "text": [
      "Epoch end: Validation, epoch number: 86\n",
      "ValidationEpoch/CM\n",
      " tensor([[110736,     24,   2940,   5350,     61,     28,    484,     37,      0],\n",
      "        [     0, 125333,      0,      0,      0,     34,      0,      0,    282],\n",
      "        [    20,     27, 142091,     26,    132,   1044,   5194,    201,      2],\n",
      "        [  9282,     17,   3707, 106249,    675,     16,   3980,     30,      0],\n",
      "        [     0,     39,    936,      0, 122523,      3,    459,      3,      0],\n",
      "        [     0,    444,    262,      0,     89, 122179,    328,    630,      0],\n",
      "        [  4419,      6,  49140,  14678,     56,     66,  55906,    119,      0],\n",
      "        [     0,    198,      0,      0,      0,     87,      0, 123373,    264],\n",
      "        [     2,    246,      0,      0,      0,      0,    316,      0, 123835]])\n",
      "Epoch end: Train, epoch number: 85\n",
      "TrainEpoch/CM\n",
      " tensor([[110736,     24,   2940,   5350,     61,     28,    484,     37,      0],\n",
      "        [     0, 125333,      0,      0,      0,     34,      0,      0,    282],\n",
      "        [    20,     27, 142091,     26,    132,   1044,   5194,    201,      2],\n",
      "        [  9282,     17,   3707, 106249,    675,     16,   3980,     30,      0],\n",
      "        [     0,     39,    936,      0, 122523,      3,    459,      3,      0],\n",
      "        [     0,    444,    262,      0,     89, 122179,    328,    630,      0],\n",
      "        [  4419,      6,  49140,  14678,     56,     66,  55906,    119,      0],\n",
      "        [     0,    198,      0,      0,      0,     87,      0, 123373,    264],\n",
      "        [     2,    246,      0,      0,      0,      0,    316,      0, 123835]])\n"
     ]
    },
    {
     "name": "stderr",
     "output_type": "stream",
     "text": [
      "Metric Validation/Accuracy improved by 0.000 >= min_delta = 0.0. New best score: 0.961\n"
     ]
    },
    {
     "data": {
      "application/vnd.jupyter.widget-view+json": {
       "model_id": "13053b8d085b4a49b1839ddd6be2774b",
       "version_major": 2,
       "version_minor": 0
      },
      "text/plain": [
       "Validation: |          | 0/? [00:00<?, ?it/s]"
      ]
     },
     "metadata": {},
     "output_type": "display_data"
    },
    {
     "name": "stdout",
     "output_type": "stream",
     "text": [
      "Epoch end: Validation, epoch number: 87\n",
      "ValidationEpoch/CM\n",
      " tensor([[112121,     24,   2940,   5355,     61,     28,    484,     37,      0],\n",
      "        [     0, 126793,      0,      0,      0,     34,      0,      0,    282],\n",
      "        [    20,     27, 143747,     26,    132,   1056,   5254,    201,      2],\n",
      "        [  9353,     17,   3707, 107555,    675,     16,   4043,     30,      0],\n",
      "        [     0,     39,    936,      0, 123963,      3,    459,      3,      0],\n",
      "        [     0,    444,    262,      0,     89, 123619,    328,    630,      0],\n",
      "        [  4444,      6,  49326,  14778,     56,     66,  57040,    119,      0],\n",
      "        [     0,    198,      0,      0,      0,     87,      0, 124813,    264],\n",
      "        [     2,    246,      0,      0,      0,      0,    316,      0, 125280]])\n",
      "Epoch end: Train, epoch number: 86\n",
      "TrainEpoch/CM\n",
      " tensor([[112121,     24,   2940,   5355,     61,     28,    484,     37,      0],\n",
      "        [     0, 126793,      0,      0,      0,     34,      0,      0,    282],\n",
      "        [    20,     27, 143747,     26,    132,   1056,   5254,    201,      2],\n",
      "        [  9353,     17,   3707, 107555,    675,     16,   4043,     30,      0],\n",
      "        [     0,     39,    936,      0, 123963,      3,    459,      3,      0],\n",
      "        [     0,    444,    262,      0,     89, 123619,    328,    630,      0],\n",
      "        [  4444,      6,  49326,  14778,     56,     66,  57040,    119,      0],\n",
      "        [     0,    198,      0,      0,      0,     87,      0, 124813,    264],\n",
      "        [     2,    246,      0,      0,      0,      0,    316,      0, 125280]])\n"
     ]
    },
    {
     "data": {
      "application/vnd.jupyter.widget-view+json": {
       "model_id": "df6399a2c9d741bb8a669e99d5a464f0",
       "version_major": 2,
       "version_minor": 0
      },
      "text/plain": [
       "Validation: |          | 0/? [00:00<?, ?it/s]"
      ]
     },
     "metadata": {},
     "output_type": "display_data"
    },
    {
     "name": "stdout",
     "output_type": "stream",
     "text": [
      "Epoch end: Validation, epoch number: 88\n",
      "ValidationEpoch/CM\n",
      " tensor([[113506,     24,   2940,   5360,     61,     28,    484,     37,      0],\n",
      "        [     0, 128253,      0,      0,      0,     34,      0,      0,    282],\n",
      "        [    20,     27, 145403,     26,    132,   1068,   5314,    201,      2],\n",
      "        [  9411,     17,   3707, 108881,    675,     16,   4099,     30,      0],\n",
      "        [     0,     39,    936,      0, 125403,      3,    459,      3,      0],\n",
      "        [     0,    444,    262,      0,     89, 125059,    328,    630,      0],\n",
      "        [  4469,      6,  49564,  14889,     56,     66,  58111,    119,      0],\n",
      "        [     0,    198,      0,      0,      0,     87,      0, 126253,    264],\n",
      "        [     2,    246,      0,      0,      0,      0,    316,      0, 126725]])\n",
      "Epoch end: Train, epoch number: 87\n",
      "TrainEpoch/CM\n",
      " tensor([[113506,     24,   2940,   5360,     61,     28,    484,     37,      0],\n",
      "        [     0, 128253,      0,      0,      0,     34,      0,      0,    282],\n",
      "        [    20,     27, 145403,     26,    132,   1068,   5314,    201,      2],\n",
      "        [  9411,     17,   3707, 108881,    675,     16,   4099,     30,      0],\n",
      "        [     0,     39,    936,      0, 125403,      3,    459,      3,      0],\n",
      "        [     0,    444,    262,      0,     89, 125059,    328,    630,      0],\n",
      "        [  4469,      6,  49564,  14889,     56,     66,  58111,    119,      0],\n",
      "        [     0,    198,      0,      0,      0,     87,      0, 126253,    264],\n",
      "        [     2,    246,      0,      0,      0,      0,    316,      0, 126725]])\n"
     ]
    },
    {
     "data": {
      "application/vnd.jupyter.widget-view+json": {
       "model_id": "c2f488a63f30476ab6a4a6f4d4038c53",
       "version_major": 2,
       "version_minor": 0
      },
      "text/plain": [
       "Validation: |          | 0/? [00:00<?, ?it/s]"
      ]
     },
     "metadata": {},
     "output_type": "display_data"
    },
    {
     "name": "stdout",
     "output_type": "stream",
     "text": [
      "Epoch end: Validation, epoch number: 89\n",
      "ValidationEpoch/CM\n",
      " tensor([[114891,     24,   2940,   5365,     61,     28,    484,     37,      0],\n",
      "        [     0, 129713,      0,      0,      0,     34,      0,      0,    282],\n",
      "        [    20,     27, 147059,     26,    132,   1080,   5374,    201,      2],\n",
      "        [  9476,     17,   3707, 110200,    675,     16,   4155,     30,      0],\n",
      "        [     0,     39,    936,      0, 126843,      3,    459,      3,      0],\n",
      "        [     0,    444,    262,      0,     89, 126499,    328,    630,      0],\n",
      "        [  4494,      6,  49778,  14993,     56,     66,  59213,    119,      0],\n",
      "        [     0,    198,      0,      0,      0,     87,      0, 127693,    264],\n",
      "        [     2,    246,      0,      0,      0,      0,    316,      0, 128170]])\n",
      "Epoch end: Train, epoch number: 88\n",
      "TrainEpoch/CM\n",
      " tensor([[114891,     24,   2940,   5365,     61,     28,    484,     37,      0],\n",
      "        [     0, 129713,      0,      0,      0,     34,      0,      0,    282],\n",
      "        [    20,     27, 147059,     26,    132,   1080,   5374,    201,      2],\n",
      "        [  9476,     17,   3707, 110200,    675,     16,   4155,     30,      0],\n",
      "        [     0,     39,    936,      0, 126843,      3,    459,      3,      0],\n",
      "        [     0,    444,    262,      0,     89, 126499,    328,    630,      0],\n",
      "        [  4494,      6,  49778,  14993,     56,     66,  59213,    119,      0],\n",
      "        [     0,    198,      0,      0,      0,     87,      0, 127693,    264],\n",
      "        [     2,    246,      0,      0,      0,      0,    316,      0, 128170]])\n"
     ]
    },
    {
     "name": "stderr",
     "output_type": "stream",
     "text": [
      "Metric Validation/Accuracy improved by 0.001 >= min_delta = 0.0. New best score: 0.962\n"
     ]
    },
    {
     "data": {
      "application/vnd.jupyter.widget-view+json": {
       "model_id": "cc72eb8e15294dcdbbdebe3cb42e84ec",
       "version_major": 2,
       "version_minor": 0
      },
      "text/plain": [
       "Validation: |          | 0/? [00:00<?, ?it/s]"
      ]
     },
     "metadata": {},
     "output_type": "display_data"
    },
    {
     "name": "stdout",
     "output_type": "stream",
     "text": [
      "Epoch end: Validation, epoch number: 90\n",
      "ValidationEpoch/CM\n",
      " tensor([[116276,     24,   2940,   5370,     61,     28,    484,     37,      0],\n",
      "        [     0, 131173,      0,      0,      0,     34,      0,      0,    282],\n",
      "        [    20,     27, 148713,     26,    132,   1092,   5436,    201,      2],\n",
      "        [  9537,     17,   3707, 111514,    675,     16,   4220,     30,      0],\n",
      "        [     0,     39,    936,      0, 128283,      3,    459,      3,      0],\n",
      "        [     0,    444,    262,      0,     89, 127939,    328,    630,      0],\n",
      "        [  4519,      6,  49965,  15090,     56,     66,  60349,    119,      0],\n",
      "        [     0,    198,      0,      0,      0,     87,      0, 129133,    264],\n",
      "        [     2,    246,      0,      0,      0,      0,    316,      0, 129615]])\n",
      "Epoch end: Train, epoch number: 89\n",
      "TrainEpoch/CM\n",
      " tensor([[116276,     24,   2940,   5370,     61,     28,    484,     37,      0],\n",
      "        [     0, 131173,      0,      0,      0,     34,      0,      0,    282],\n",
      "        [    20,     27, 148713,     26,    132,   1092,   5436,    201,      2],\n",
      "        [  9537,     17,   3707, 111514,    675,     16,   4220,     30,      0],\n",
      "        [     0,     39,    936,      0, 128283,      3,    459,      3,      0],\n",
      "        [     0,    444,    262,      0,     89, 127939,    328,    630,      0],\n",
      "        [  4519,      6,  49965,  15090,     56,     66,  60349,    119,      0],\n",
      "        [     0,    198,      0,      0,      0,     87,      0, 129133,    264],\n",
      "        [     2,    246,      0,      0,      0,      0,    316,      0, 129615]])\n"
     ]
    },
    {
     "data": {
      "application/vnd.jupyter.widget-view+json": {
       "model_id": "e3b42db5bc374e329b7d4b1e6ad27b5b",
       "version_major": 2,
       "version_minor": 0
      },
      "text/plain": [
       "Validation: |          | 0/? [00:00<?, ?it/s]"
      ]
     },
     "metadata": {},
     "output_type": "display_data"
    },
    {
     "name": "stdout",
     "output_type": "stream",
     "text": [
      "Epoch end: Validation, epoch number: 91\n",
      "ValidationEpoch/CM\n",
      " tensor([[117661,     24,   2940,   5375,     61,     28,    484,     37,      0],\n",
      "        [     0, 132633,      0,      0,      0,     34,      0,      0,    282],\n",
      "        [    20,     27, 150369,     26,    132,   1104,   5496,    201,      2],\n",
      "        [  9594,     17,   3707, 112836,    675,     16,   4281,     30,      0],\n",
      "        [     0,     39,    936,      0, 129723,      3,    459,      3,      0],\n",
      "        [     0,    444,    262,      0,     89, 129379,    328,    630,      0],\n",
      "        [  4544,      6,  50165,  15190,     56,     66,  61469,    119,      0],\n",
      "        [     0,    198,      0,      0,      0,     87,      0, 130573,    264],\n",
      "        [     2,    246,      0,      0,      0,      0,    316,      0, 131060]])\n",
      "Epoch end: Train, epoch number: 90\n",
      "TrainEpoch/CM\n",
      " tensor([[117661,     24,   2940,   5375,     61,     28,    484,     37,      0],\n",
      "        [     0, 132633,      0,      0,      0,     34,      0,      0,    282],\n",
      "        [    20,     27, 150369,     26,    132,   1104,   5496,    201,      2],\n",
      "        [  9594,     17,   3707, 112836,    675,     16,   4281,     30,      0],\n",
      "        [     0,     39,    936,      0, 129723,      3,    459,      3,      0],\n",
      "        [     0,    444,    262,      0,     89, 129379,    328,    630,      0],\n",
      "        [  4544,      6,  50165,  15190,     56,     66,  61469,    119,      0],\n",
      "        [     0,    198,      0,      0,      0,     87,      0, 130573,    264],\n",
      "        [     2,    246,      0,      0,      0,      0,    316,      0, 131060]])\n"
     ]
    },
    {
     "name": "stderr",
     "output_type": "stream",
     "text": [
      "Metric Validation/Accuracy improved by 0.002 >= min_delta = 0.0. New best score: 0.964\n"
     ]
    },
    {
     "data": {
      "application/vnd.jupyter.widget-view+json": {
       "model_id": "1468d2ef367a423cae1517a162c7ee0a",
       "version_major": 2,
       "version_minor": 0
      },
      "text/plain": [
       "Validation: |          | 0/? [00:00<?, ?it/s]"
      ]
     },
     "metadata": {},
     "output_type": "display_data"
    },
    {
     "name": "stdout",
     "output_type": "stream",
     "text": [
      "Epoch end: Validation, epoch number: 92\n",
      "ValidationEpoch/CM\n",
      " tensor([[119046,     24,   2940,   5380,     61,     28,    484,     37,      0],\n",
      "        [     0, 134093,      0,      0,      0,     34,      0,      0,    282],\n",
      "        [    20,     27, 152025,     26,    132,   1116,   5556,    201,      2],\n",
      "        [  9653,     17,   3707, 114160,    675,     16,   4338,     30,      0],\n",
      "        [     0,     39,    936,      0, 131163,      3,    459,      3,      0],\n",
      "        [     0,    444,    262,      0,     89, 130819,    328,    630,      0],\n",
      "        [  4569,      6,  50369,  15289,     56,     66,  62586,    119,      0],\n",
      "        [     0,    198,      0,      0,      0,     87,      0, 132013,    264],\n",
      "        [     2,    246,      0,      0,      0,      0,    316,      0, 132505]])\n"
     ]
    },
    {
     "name": "stderr",
     "output_type": "stream",
     "text": [
      "Metric Validation/Accuracy improved by 0.001 >= min_delta = 0.0. New best score: 0.965\n"
     ]
    },
    {
     "name": "stdout",
     "output_type": "stream",
     "text": [
      "Epoch end: Train, epoch number: 91\n",
      "TrainEpoch/CM\n",
      " tensor([[119046,     24,   2940,   5380,     61,     28,    484,     37,      0],\n",
      "        [     0, 134093,      0,      0,      0,     34,      0,      0,    282],\n",
      "        [    20,     27, 152025,     26,    132,   1116,   5556,    201,      2],\n",
      "        [  9653,     17,   3707, 114160,    675,     16,   4338,     30,      0],\n",
      "        [     0,     39,    936,      0, 131163,      3,    459,      3,      0],\n",
      "        [     0,    444,    262,      0,     89, 130819,    328,    630,      0],\n",
      "        [  4569,      6,  50369,  15289,     56,     66,  62586,    119,      0],\n",
      "        [     0,    198,      0,      0,      0,     87,      0, 132013,    264],\n",
      "        [     2,    246,      0,      0,      0,      0,    316,      0, 132505]])\n"
     ]
    },
    {
     "data": {
      "application/vnd.jupyter.widget-view+json": {
       "model_id": "c3b9505e1eb540aca53bc7a949d04b59",
       "version_major": 2,
       "version_minor": 0
      },
      "text/plain": [
       "Validation: |          | 0/? [00:00<?, ?it/s]"
      ]
     },
     "metadata": {},
     "output_type": "display_data"
    },
    {
     "name": "stdout",
     "output_type": "stream",
     "text": [
      "Epoch end: Validation, epoch number: 93\n",
      "ValidationEpoch/CM\n",
      " tensor([[120431,     24,   2940,   5385,     61,     28,    484,     37,      0],\n",
      "        [     0, 135553,      0,      0,      0,     34,      0,      0,    282],\n",
      "        [    20,     27, 153666,     26,    132,   1128,   5631,    201,      2],\n",
      "        [  9707,     17,   3707, 115487,    675,     16,   4397,     30,      0],\n",
      "        [     0,     39,    936,      0, 132603,      3,    459,      3,      0],\n",
      "        [     0,    444,    262,      0,     89, 132259,    328,    630,      0],\n",
      "        [  4594,      6,  50556,  15390,     56,     66,  63718,    119,      0],\n",
      "        [     0,    198,      0,      0,      0,     87,      0, 133453,    264],\n",
      "        [     2,    246,      0,      0,      0,      0,    316,      0, 133950]])\n",
      "Epoch end: Train, epoch number: 92\n",
      "TrainEpoch/CM\n",
      " tensor([[120431,     24,   2940,   5385,     61,     28,    484,     37,      0],\n",
      "        [     0, 135553,      0,      0,      0,     34,      0,      0,    282],\n",
      "        [    20,     27, 153666,     26,    132,   1128,   5631,    201,      2],\n",
      "        [  9707,     17,   3707, 115487,    675,     16,   4397,     30,      0],\n",
      "        [     0,     39,    936,      0, 132603,      3,    459,      3,      0],\n",
      "        [     0,    444,    262,      0,     89, 132259,    328,    630,      0],\n",
      "        [  4594,      6,  50556,  15390,     56,     66,  63718,    119,      0],\n",
      "        [     0,    198,      0,      0,      0,     87,      0, 133453,    264],\n",
      "        [     2,    246,      0,      0,      0,      0,    316,      0, 133950]])\n"
     ]
    },
    {
     "data": {
      "application/vnd.jupyter.widget-view+json": {
       "model_id": "5cc56884504a47fb9c08f847578b5f29",
       "version_major": 2,
       "version_minor": 0
      },
      "text/plain": [
       "Validation: |          | 0/? [00:00<?, ?it/s]"
      ]
     },
     "metadata": {},
     "output_type": "display_data"
    },
    {
     "name": "stdout",
     "output_type": "stream",
     "text": [
      "Epoch end: Validation, epoch number: 94\n",
      "ValidationEpoch/CM\n",
      " tensor([[121816,     24,   2940,   5390,     61,     28,    484,     37,      0],\n",
      "        [     0, 137013,      0,      0,      0,     34,      0,      0,    282],\n",
      "        [    20,     27, 155313,     26,    132,   1140,   5700,    201,      2],\n",
      "        [  9765,     17,   3707, 116807,    675,     16,   4459,     30,      0],\n",
      "        [     0,     39,    936,      0, 134043,      3,    459,      3,      0],\n",
      "        [     0,    444,    262,      0,     89, 133699,    328,    630,      0],\n",
      "        [  4618,      6,  50740,  15485,     56,     66,  64860,    119,      0],\n",
      "        [     0,    198,      0,      0,      0,     87,      0, 134893,    264],\n",
      "        [     2,    246,      0,      0,      0,      0,    316,      0, 135395]])\n",
      "Epoch end: Train, epoch number: 93\n",
      "TrainEpoch/CM\n",
      " tensor([[121816,     24,   2940,   5390,     61,     28,    484,     37,      0],\n",
      "        [     0, 137013,      0,      0,      0,     34,      0,      0,    282],\n",
      "        [    20,     27, 155313,     26,    132,   1140,   5700,    201,      2],\n",
      "        [  9765,     17,   3707, 116807,    675,     16,   4459,     30,      0],\n",
      "        [     0,     39,    936,      0, 134043,      3,    459,      3,      0],\n",
      "        [     0,    444,    262,      0,     89, 133699,    328,    630,      0],\n",
      "        [  4618,      6,  50740,  15485,     56,     66,  64860,    119,      0],\n",
      "        [     0,    198,      0,      0,      0,     87,      0, 134893,    264],\n",
      "        [     2,    246,      0,      0,      0,      0,    316,      0, 135395]])\n"
     ]
    },
    {
     "name": "stderr",
     "output_type": "stream",
     "text": [
      "Metric Validation/Accuracy improved by 0.000 >= min_delta = 0.0. New best score: 0.965\n"
     ]
    },
    {
     "data": {
      "application/vnd.jupyter.widget-view+json": {
       "model_id": "e309e14c0a1148e19afa4ef1a9ba8811",
       "version_major": 2,
       "version_minor": 0
      },
      "text/plain": [
       "Validation: |          | 0/? [00:00<?, ?it/s]"
      ]
     },
     "metadata": {},
     "output_type": "display_data"
    },
    {
     "name": "stdout",
     "output_type": "stream",
     "text": [
      "Epoch end: Validation, epoch number: 95\n",
      "ValidationEpoch/CM\n",
      " tensor([[123201,     24,   2940,   5395,     61,     28,    484,     37,      0],\n",
      "        [     0, 138473,      0,      0,      0,     34,      0,      0,    282],\n",
      "        [    20,     27, 156966,     26,    132,   1152,   5763,    201,      2],\n",
      "        [  9816,     17,   3707, 118140,    675,     16,   4515,     30,      0],\n",
      "        [     0,     39,    936,      0, 135483,      3,    459,      3,      0],\n",
      "        [     0,    444,    262,      0,     89, 135139,    328,    630,      0],\n",
      "        [  4643,      6,  50915,  15583,     56,     66,  66007,    119,      0],\n",
      "        [     0,    198,      0,      0,      0,     87,      0, 136333,    264],\n",
      "        [     2,    246,      0,      0,      0,      0,    316,      0, 136840]])\n",
      "Epoch end: Train, epoch number: 94\n",
      "TrainEpoch/CM\n",
      " tensor([[123201,     24,   2940,   5395,     61,     28,    484,     37,      0],\n",
      "        [     0, 138473,      0,      0,      0,     34,      0,      0,    282],\n",
      "        [    20,     27, 156966,     26,    132,   1152,   5763,    201,      2],\n",
      "        [  9816,     17,   3707, 118140,    675,     16,   4515,     30,      0],\n",
      "        [     0,     39,    936,      0, 135483,      3,    459,      3,      0],\n",
      "        [     0,    444,    262,      0,     89, 135139,    328,    630,      0],\n",
      "        [  4643,      6,  50915,  15583,     56,     66,  66007,    119,      0],\n",
      "        [     0,    198,      0,      0,      0,     87,      0, 136333,    264],\n",
      "        [     2,    246,      0,      0,      0,      0,    316,      0, 136840]])\n"
     ]
    },
    {
     "name": "stderr",
     "output_type": "stream",
     "text": [
      "Metric Validation/Accuracy improved by 0.000 >= min_delta = 0.0. New best score: 0.966\n"
     ]
    },
    {
     "data": {
      "application/vnd.jupyter.widget-view+json": {
       "model_id": "26214086e9b240f7b164dadef63598eb",
       "version_major": 2,
       "version_minor": 0
      },
      "text/plain": [
       "Validation: |          | 0/? [00:00<?, ?it/s]"
      ]
     },
     "metadata": {},
     "output_type": "display_data"
    },
    {
     "name": "stdout",
     "output_type": "stream",
     "text": [
      "Epoch end: Validation, epoch number: 96\n",
      "ValidationEpoch/CM\n",
      " tensor([[124586,     24,   2940,   5400,     61,     28,    484,     37,      0],\n",
      "        [     0, 139933,      0,      0,      0,     34,      0,      0,    282],\n",
      "        [    20,     27, 158622,     26,    132,   1164,   5823,    201,      2],\n",
      "        [  9867,     17,   3707, 119469,    675,     16,   4575,     30,      0],\n",
      "        [     0,     39,    936,      0, 136923,      3,    459,      3,      0],\n",
      "        [     0,    444,    262,      0,     89, 136579,    328,    630,      0],\n",
      "        [  4667,      6,  51086,  15682,     56,     66,  67158,    119,      0],\n",
      "        [     0,    198,      0,      0,      0,     87,      0, 137773,    264],\n",
      "        [     2,    246,      0,      0,      0,      0,    316,      0, 138285]])\n",
      "Epoch end: Train, epoch number: 95\n",
      "TrainEpoch/CM\n",
      " tensor([[124586,     24,   2940,   5400,     61,     28,    484,     37,      0],\n",
      "        [     0, 139933,      0,      0,      0,     34,      0,      0,    282],\n",
      "        [    20,     27, 158622,     26,    132,   1164,   5823,    201,      2],\n",
      "        [  9867,     17,   3707, 119469,    675,     16,   4575,     30,      0],\n",
      "        [     0,     39,    936,      0, 136923,      3,    459,      3,      0],\n",
      "        [     0,    444,    262,      0,     89, 136579,    328,    630,      0],\n",
      "        [  4667,      6,  51086,  15682,     56,     66,  67158,    119,      0],\n",
      "        [     0,    198,      0,      0,      0,     87,      0, 137773,    264],\n",
      "        [     2,    246,      0,      0,      0,      0,    316,      0, 138285]])\n"
     ]
    },
    {
     "name": "stderr",
     "output_type": "stream",
     "text": [
      "Metric Validation/Accuracy improved by 0.001 >= min_delta = 0.0. New best score: 0.966\n"
     ]
    },
    {
     "data": {
      "application/vnd.jupyter.widget-view+json": {
       "model_id": "3d469bd771ca40d2a5c6c46df216dd44",
       "version_major": 2,
       "version_minor": 0
      },
      "text/plain": [
       "Validation: |          | 0/? [00:00<?, ?it/s]"
      ]
     },
     "metadata": {},
     "output_type": "display_data"
    },
    {
     "name": "stdout",
     "output_type": "stream",
     "text": [
      "Epoch end: Validation, epoch number: 97\n",
      "ValidationEpoch/CM\n",
      " tensor([[125971,     24,   2940,   5405,     61,     28,    484,     37,      0],\n",
      "        [     0, 141393,      0,      0,      0,     34,      0,      0,    282],\n",
      "        [    20,     27, 160278,     26,    132,   1176,   5883,    201,      2],\n",
      "        [  9915,     17,   3707, 120804,    675,     16,   4632,     30,      0],\n",
      "        [     0,     39,    936,      0, 138363,      3,    459,      3,      0],\n",
      "        [     0,    444,    262,      0,     89, 138019,    328,    630,      0],\n",
      "        [  4689,      6,  51261,  15779,     56,     66,  68309,    119,      0],\n",
      "        [     0,    198,      0,      0,      0,     87,      0, 139213,    264],\n",
      "        [     2,    246,      0,      0,      0,      0,    316,      0, 139730]])\n"
     ]
    },
    {
     "name": "stderr",
     "output_type": "stream",
     "text": [
      "Metric Validation/Accuracy improved by 0.000 >= min_delta = 0.0. New best score: 0.967\n"
     ]
    },
    {
     "name": "stdout",
     "output_type": "stream",
     "text": [
      "Epoch end: Train, epoch number: 96\n",
      "TrainEpoch/CM\n",
      " tensor([[125971,     24,   2940,   5405,     61,     28,    484,     37,      0],\n",
      "        [     0, 141393,      0,      0,      0,     34,      0,      0,    282],\n",
      "        [    20,     27, 160278,     26,    132,   1176,   5883,    201,      2],\n",
      "        [  9915,     17,   3707, 120804,    675,     16,   4632,     30,      0],\n",
      "        [     0,     39,    936,      0, 138363,      3,    459,      3,      0],\n",
      "        [     0,    444,    262,      0,     89, 138019,    328,    630,      0],\n",
      "        [  4689,      6,  51261,  15779,     56,     66,  68309,    119,      0],\n",
      "        [     0,    198,      0,      0,      0,     87,      0, 139213,    264],\n",
      "        [     2,    246,      0,      0,      0,      0,    316,      0, 139730]])\n"
     ]
    },
    {
     "data": {
      "application/vnd.jupyter.widget-view+json": {
       "model_id": "ef2a80ac72a14aa990d2ea41e9e0ec78",
       "version_major": 2,
       "version_minor": 0
      },
      "text/plain": [
       "Validation: |          | 0/? [00:00<?, ?it/s]"
      ]
     },
     "metadata": {},
     "output_type": "display_data"
    },
    {
     "name": "stdout",
     "output_type": "stream",
     "text": [
      "Epoch end: Validation, epoch number: 98\n",
      "ValidationEpoch/CM\n",
      " tensor([[127356,     24,   2940,   5410,     61,     28,    484,     37,      0],\n",
      "        [     0, 142853,      0,      0,      0,     34,      0,      0,    282],\n",
      "        [    20,     27, 161934,     26,    132,   1188,   5943,    201,      2],\n",
      "        [  9961,     17,   3707, 122146,    675,     16,   4684,     30,      0],\n",
      "        [     0,     39,    936,      0, 139803,      3,    459,      3,      0],\n",
      "        [     0,    444,    262,      0,     89, 139459,    328,    630,      0],\n",
      "        [  4713,      6,  51459,  15876,     56,     66,  69435,    119,      0],\n",
      "        [     0,    198,      0,      0,      0,     87,      0, 140653,    264],\n",
      "        [     2,    246,      0,      0,      0,      0,    316,      0, 141175]])\n",
      "Epoch end: Train, epoch number: 97\n",
      "TrainEpoch/CM\n",
      " tensor([[127356,     24,   2940,   5410,     61,     28,    484,     37,      0],\n",
      "        [     0, 142853,      0,      0,      0,     34,      0,      0,    282],\n",
      "        [    20,     27, 161934,     26,    132,   1188,   5943,    201,      2],\n",
      "        [  9961,     17,   3707, 122146,    675,     16,   4684,     30,      0],\n",
      "        [     0,     39,    936,      0, 139803,      3,    459,      3,      0],\n",
      "        [     0,    444,    262,      0,     89, 139459,    328,    630,      0],\n",
      "        [  4713,      6,  51459,  15876,     56,     66,  69435,    119,      0],\n",
      "        [     0,    198,      0,      0,      0,     87,      0, 140653,    264],\n",
      "        [     2,    246,      0,      0,      0,      0,    316,      0, 141175]])\n"
     ]
    },
    {
     "name": "stderr",
     "output_type": "stream",
     "text": [
      "Metric Validation/Accuracy improved by 0.003 >= min_delta = 0.0. New best score: 0.970\n"
     ]
    },
    {
     "data": {
      "application/vnd.jupyter.widget-view+json": {
       "model_id": "9d845136a4a5459da630e05acc62c9dc",
       "version_major": 2,
       "version_minor": 0
      },
      "text/plain": [
       "Validation: |          | 0/? [00:00<?, ?it/s]"
      ]
     },
     "metadata": {},
     "output_type": "display_data"
    },
    {
     "name": "stdout",
     "output_type": "stream",
     "text": [
      "Epoch end: Validation, epoch number: 99\n",
      "ValidationEpoch/CM\n",
      " tensor([[128741,     24,   2940,   5415,     61,     28,    484,     37,      0],\n",
      "        [     0, 144313,      0,      0,      0,     34,      0,      0,    282],\n",
      "        [    20,     27, 163590,     26,    132,   1200,   6003,    201,      2],\n",
      "        [ 10007,     17,   3707, 123484,    675,     16,   4740,     30,      0],\n",
      "        [     0,     39,    936,      0, 141243,      3,    459,      3,      0],\n",
      "        [     0,    444,    262,      0,     89, 140899,    328,    630,      0],\n",
      "        [  4734,      6,  51626,  15971,     56,     66,  70597,    119,      0],\n",
      "        [     0,    198,      0,      0,      0,     87,      0, 142093,    264],\n",
      "        [     2,    246,      0,      0,      0,      0,    316,      0, 142620]])\n",
      "Epoch end: Train, epoch number: 98\n",
      "TrainEpoch/CM\n",
      " tensor([[128741,     24,   2940,   5415,     61,     28,    484,     37,      0],\n",
      "        [     0, 144313,      0,      0,      0,     34,      0,      0,    282],\n",
      "        [    20,     27, 163590,     26,    132,   1200,   6003,    201,      2],\n",
      "        [ 10007,     17,   3707, 123484,    675,     16,   4740,     30,      0],\n",
      "        [     0,     39,    936,      0, 141243,      3,    459,      3,      0],\n",
      "        [     0,    444,    262,      0,     89, 140899,    328,    630,      0],\n",
      "        [  4734,      6,  51626,  15971,     56,     66,  70597,    119,      0],\n",
      "        [     0,    198,      0,      0,      0,     87,      0, 142093,    264],\n",
      "        [     2,    246,      0,      0,      0,      0,    316,      0, 142620]])\n"
     ]
    },
    {
     "data": {
      "application/vnd.jupyter.widget-view+json": {
       "model_id": "71bdb40ecfe4462f9314206d53b30b00",
       "version_major": 2,
       "version_minor": 0
      },
      "text/plain": [
       "Validation: |          | 0/? [00:00<?, ?it/s]"
      ]
     },
     "metadata": {},
     "output_type": "display_data"
    },
    {
     "name": "stdout",
     "output_type": "stream",
     "text": [
      "Epoch end: Validation, epoch number: 100\n",
      "ValidationEpoch/CM\n",
      " tensor([[130126,     24,   2940,   5420,     61,     28,    484,     37,      0],\n",
      "        [     0, 145773,      0,      0,      0,     34,      0,      0,    282],\n",
      "        [    20,     27, 165246,     26,    132,   1212,   6063,    201,      2],\n",
      "        [ 10053,     17,   3707, 124820,    675,     16,   4798,     30,      0],\n",
      "        [     0,     39,    936,      0, 142683,      3,    459,      3,      0],\n",
      "        [     0,    444,    262,      0,     89, 142339,    328,    630,      0],\n",
      "        [  4757,      6,  51800,  16068,     56,     66,  71748,    119,      0],\n",
      "        [     0,    198,      0,      0,      0,     87,      0, 143533,    264],\n",
      "        [     2,    246,      0,      0,      0,      0,    316,      0, 144065]])\n",
      "Epoch end: Train, epoch number: 99\n",
      "TrainEpoch/CM\n",
      " tensor([[130126,     24,   2940,   5420,     61,     28,    484,     37,      0],\n",
      "        [     0, 145773,      0,      0,      0,     34,      0,      0,    282],\n",
      "        [    20,     27, 165246,     26,    132,   1212,   6063,    201,      2],\n",
      "        [ 10053,     17,   3707, 124820,    675,     16,   4798,     30,      0],\n",
      "        [     0,     39,    936,      0, 142683,      3,    459,      3,      0],\n",
      "        [     0,    444,    262,      0,     89, 142339,    328,    630,      0],\n",
      "        [  4757,      6,  51800,  16068,     56,     66,  71748,    119,      0],\n",
      "        [     0,    198,      0,      0,      0,     87,      0, 143533,    264],\n",
      "        [     2,    246,      0,      0,      0,      0,    316,      0, 144065]])\n"
     ]
    },
    {
     "data": {
      "application/vnd.jupyter.widget-view+json": {
       "model_id": "680e58d6fba144b6b018e5f4bb234caf",
       "version_major": 2,
       "version_minor": 0
      },
      "text/plain": [
       "Validation: |          | 0/? [00:00<?, ?it/s]"
      ]
     },
     "metadata": {},
     "output_type": "display_data"
    },
    {
     "name": "stdout",
     "output_type": "stream",
     "text": [
      "Epoch end: Validation, epoch number: 101\n",
      "ValidationEpoch/CM\n",
      " tensor([[131511,     24,   2940,   5425,     61,     28,    484,     37,      0],\n",
      "        [     0, 147233,      0,      0,      0,     34,      0,      0,    282],\n",
      "        [    20,     27, 166902,     26,    132,   1224,   6123,    201,      2],\n",
      "        [ 10098,     17,   3707, 126161,    675,     16,   4852,     30,      0],\n",
      "        [     0,     39,    936,      0, 144123,      3,    459,      3,      0],\n",
      "        [     0,    444,    262,      0,     89, 143779,    328,    630,      0],\n",
      "        [  4777,      6,  51980,  16168,     56,     66,  72893,    119,      0],\n",
      "        [     0,    198,      0,      0,      0,     87,      0, 144973,    264],\n",
      "        [     2,    246,      0,      0,      0,      0,    316,      0, 145510]])\n",
      "Epoch end: Train, epoch number: 100\n",
      "TrainEpoch/CM\n",
      " tensor([[131511,     24,   2940,   5425,     61,     28,    484,     37,      0],\n",
      "        [     0, 147233,      0,      0,      0,     34,      0,      0,    282],\n",
      "        [    20,     27, 166902,     26,    132,   1224,   6123,    201,      2],\n",
      "        [ 10098,     17,   3707, 126161,    675,     16,   4852,     30,      0],\n",
      "        [     0,     39,    936,      0, 144123,      3,    459,      3,      0],\n",
      "        [     0,    444,    262,      0,     89, 143779,    328,    630,      0],\n",
      "        [  4777,      6,  51980,  16168,     56,     66,  72893,    119,      0],\n",
      "        [     0,    198,      0,      0,      0,     87,      0, 144973,    264],\n",
      "        [     2,    246,      0,      0,      0,      0,    316,      0, 145510]])\n"
     ]
    },
    {
     "name": "stderr",
     "output_type": "stream",
     "text": [
      "Metric Validation/Accuracy improved by 0.000 >= min_delta = 0.0. New best score: 0.970\n"
     ]
    },
    {
     "data": {
      "application/vnd.jupyter.widget-view+json": {
       "model_id": "340d5e8310ca4335bfc9b2236c01abf6",
       "version_major": 2,
       "version_minor": 0
      },
      "text/plain": [
       "Validation: |          | 0/? [00:00<?, ?it/s]"
      ]
     },
     "metadata": {},
     "output_type": "display_data"
    },
    {
     "name": "stdout",
     "output_type": "stream",
     "text": [
      "Epoch end: Validation, epoch number: 102\n",
      "ValidationEpoch/CM\n",
      " tensor([[132896,     24,   2940,   5430,     61,     28,    484,     37,      0],\n",
      "        [     0, 148693,      0,      0,      0,     34,      0,      0,    282],\n",
      "        [    20,     27, 168558,     26,    132,   1236,   6183,    201,      2],\n",
      "        [ 10143,     17,   3707, 127505,    675,     16,   4903,     30,      0],\n",
      "        [     0,     39,    936,      0, 145563,      3,    459,      3,      0],\n",
      "        [     0,    444,    262,      0,     89, 145219,    328,    630,      0],\n",
      "        [  4793,      6,  52145,  16269,     56,     66,  74056,    119,      0],\n",
      "        [     0,    198,      0,      0,      0,     87,      0, 146413,    264],\n",
      "        [     2,    246,      0,      0,      0,      0,    316,      0, 146955]])\n",
      "Epoch end: Train, epoch number: 101\n",
      "TrainEpoch/CM\n",
      " tensor([[132896,     24,   2940,   5430,     61,     28,    484,     37,      0],\n",
      "        [     0, 148693,      0,      0,      0,     34,      0,      0,    282],\n",
      "        [    20,     27, 168558,     26,    132,   1236,   6183,    201,      2],\n",
      "        [ 10143,     17,   3707, 127505,    675,     16,   4903,     30,      0],\n",
      "        [     0,     39,    936,      0, 145563,      3,    459,      3,      0],\n",
      "        [     0,    444,    262,      0,     89, 145219,    328,    630,      0],\n",
      "        [  4793,      6,  52145,  16269,     56,     66,  74056,    119,      0],\n",
      "        [     0,    198,      0,      0,      0,     87,      0, 146413,    264],\n",
      "        [     2,    246,      0,      0,      0,      0,    316,      0, 146955]])\n"
     ]
    },
    {
     "data": {
      "application/vnd.jupyter.widget-view+json": {
       "model_id": "d806a331542e423abd399d6b48259a3a",
       "version_major": 2,
       "version_minor": 0
      },
      "text/plain": [
       "Validation: |          | 0/? [00:00<?, ?it/s]"
      ]
     },
     "metadata": {},
     "output_type": "display_data"
    },
    {
     "name": "stdout",
     "output_type": "stream",
     "text": [
      "Epoch end: Validation, epoch number: 103\n",
      "ValidationEpoch/CM\n",
      " tensor([[134281,     24,   2940,   5435,     61,     28,    484,     37,      0],\n",
      "        [     0, 150153,      0,      0,      0,     34,      0,      0,    282],\n",
      "        [    20,     27, 170214,     26,    132,   1248,   6243,    201,      2],\n",
      "        [ 10188,     17,   3707, 128847,    675,     16,   4956,     30,      0],\n",
      "        [     0,     39,    936,      0, 147003,      3,    459,      3,      0],\n",
      "        [     0,    444,    262,      0,     89, 146659,    328,    630,      0],\n",
      "        [  4810,      6,  52311,  16367,     56,     66,  75220,    119,      0],\n",
      "        [     0,    198,      0,      0,      0,     87,      0, 147853,    264],\n",
      "        [     2,    246,      0,      0,      0,      0,    316,      0, 148400]])\n",
      "Epoch end: Train, epoch number: 102\n",
      "TrainEpoch/CM\n",
      " tensor([[134281,     24,   2940,   5435,     61,     28,    484,     37,      0],\n",
      "        [     0, 150153,      0,      0,      0,     34,      0,      0,    282],\n",
      "        [    20,     27, 170214,     26,    132,   1248,   6243,    201,      2],\n",
      "        [ 10188,     17,   3707, 128847,    675,     16,   4956,     30,      0],\n",
      "        [     0,     39,    936,      0, 147003,      3,    459,      3,      0],\n",
      "        [     0,    444,    262,      0,     89, 146659,    328,    630,      0],\n",
      "        [  4810,      6,  52311,  16367,     56,     66,  75220,    119,      0],\n",
      "        [     0,    198,      0,      0,      0,     87,      0, 147853,    264],\n",
      "        [     2,    246,      0,      0,      0,      0,    316,      0, 148400]])\n"
     ]
    },
    {
     "data": {
      "application/vnd.jupyter.widget-view+json": {
       "model_id": "e0db511c6a2940529870e646af1528a2",
       "version_major": 2,
       "version_minor": 0
      },
      "text/plain": [
       "Validation: |          | 0/? [00:00<?, ?it/s]"
      ]
     },
     "metadata": {},
     "output_type": "display_data"
    },
    {
     "name": "stdout",
     "output_type": "stream",
     "text": [
      "Epoch end: Validation, epoch number: 104\n",
      "ValidationEpoch/CM\n",
      " tensor([[135666,     24,   2940,   5440,     61,     28,    484,     37,      0],\n",
      "        [     0, 151613,      0,      0,      0,     34,      0,      0,    282],\n",
      "        [    20,     27, 171870,     26,    132,   1260,   6303,    201,      2],\n",
      "        [ 10233,     17,   3707, 130188,    675,     16,   5010,     30,      0],\n",
      "        [     0,     39,    936,      0, 148443,      3,    459,      3,      0],\n",
      "        [     0,    444,    262,      0,     89, 148099,    328,    630,      0],\n",
      "        [  4831,      6,  52512,  16463,     56,     66,  76347,    119,      0],\n",
      "        [     0,    198,      0,      0,      0,     87,      0, 149293,    264],\n",
      "        [     2,    246,      0,      0,      0,      0,    316,      0, 149845]])\n",
      "Epoch end: Train, epoch number: 103\n",
      "TrainEpoch/CM\n",
      " tensor([[135666,     24,   2940,   5440,     61,     28,    484,     37,      0],\n",
      "        [     0, 151613,      0,      0,      0,     34,      0,      0,    282],\n",
      "        [    20,     27, 171870,     26,    132,   1260,   6303,    201,      2],\n",
      "        [ 10233,     17,   3707, 130188,    675,     16,   5010,     30,      0],\n",
      "        [     0,     39,    936,      0, 148443,      3,    459,      3,      0],\n",
      "        [     0,    444,    262,      0,     89, 148099,    328,    630,      0],\n",
      "        [  4831,      6,  52512,  16463,     56,     66,  76347,    119,      0],\n",
      "        [     0,    198,      0,      0,      0,     87,      0, 149293,    264],\n",
      "        [     2,    246,      0,      0,      0,      0,    316,      0, 149845]])\n"
     ]
    },
    {
     "name": "stderr",
     "output_type": "stream",
     "text": [
      "Metric Validation/Accuracy improved by 0.000 >= min_delta = 0.0. New best score: 0.970\n"
     ]
    },
    {
     "data": {
      "application/vnd.jupyter.widget-view+json": {
       "model_id": "7a691d592f1741c791b62d9734cdfd0f",
       "version_major": 2,
       "version_minor": 0
      },
      "text/plain": [
       "Validation: |          | 0/? [00:00<?, ?it/s]"
      ]
     },
     "metadata": {},
     "output_type": "display_data"
    },
    {
     "name": "stdout",
     "output_type": "stream",
     "text": [
      "Epoch end: Validation, epoch number: 105\n",
      "ValidationEpoch/CM\n",
      " tensor([[137051,     24,   2940,   5445,     61,     28,    484,     37,      0],\n",
      "        [     0, 153073,      0,      0,      0,     34,      0,      0,    282],\n",
      "        [    20,     27, 173526,     26,    132,   1272,   6363,    201,      2],\n",
      "        [ 10278,     17,   3707, 131528,    675,     16,   5065,     30,      0],\n",
      "        [     0,     39,    936,      0, 149883,      3,    459,      3,      0],\n",
      "        [     0,    444,    262,      0,     89, 149539,    328,    630,      0],\n",
      "        [  4851,      6,  52695,  16561,     56,     66,  77491,    119,      0],\n",
      "        [     0,    198,      0,      0,      0,     87,      0, 150733,    264],\n",
      "        [     2,    246,      0,      0,      0,      0,    316,      0, 151290]])\n",
      "Epoch end: Train, epoch number: 104\n",
      "TrainEpoch/CM\n",
      " tensor([[137051,     24,   2940,   5445,     61,     28,    484,     37,      0],\n",
      "        [     0, 153073,      0,      0,      0,     34,      0,      0,    282],\n",
      "        [    20,     27, 173526,     26,    132,   1272,   6363,    201,      2],\n",
      "        [ 10278,     17,   3707, 131528,    675,     16,   5065,     30,      0],\n",
      "        [     0,     39,    936,      0, 149883,      3,    459,      3,      0],\n",
      "        [     0,    444,    262,      0,     89, 149539,    328,    630,      0],\n",
      "        [  4851,      6,  52695,  16561,     56,     66,  77491,    119,      0],\n",
      "        [     0,    198,      0,      0,      0,     87,      0, 150733,    264],\n",
      "        [     2,    246,      0,      0,      0,      0,    316,      0, 151290]])\n"
     ]
    },
    {
     "data": {
      "application/vnd.jupyter.widget-view+json": {
       "model_id": "3faf276ab115412c92196d934167620c",
       "version_major": 2,
       "version_minor": 0
      },
      "text/plain": [
       "Validation: |          | 0/? [00:00<?, ?it/s]"
      ]
     },
     "metadata": {},
     "output_type": "display_data"
    },
    {
     "name": "stdout",
     "output_type": "stream",
     "text": [
      "Epoch end: Validation, epoch number: 106\n",
      "ValidationEpoch/CM\n",
      " tensor([[138436,     24,   2940,   5450,     61,     28,    484,     37,      0],\n",
      "        [     0, 154533,      0,      0,      0,     34,      0,      0,    282],\n",
      "        [    20,     27, 175162,     26,    132,   1284,   6443,    201,      2],\n",
      "        [ 10323,     17,   3707, 132867,    675,     16,   5121,     30,      0],\n",
      "        [     0,     39,    936,      0, 151323,      3,    459,      3,      0],\n",
      "        [     0,    444,    262,      0,     89, 150979,    328,    630,      0],\n",
      "        [  4870,      6,  52842,  16658,     56,     66,  78673,    119,      0],\n",
      "        [     0,    198,      0,      0,      0,     87,      0, 152173,    264],\n",
      "        [     2,    246,      0,      0,      0,      0,    316,      0, 152735]])\n",
      "Epoch end: Train, epoch number: 105\n",
      "TrainEpoch/CM\n",
      " tensor([[138436,     24,   2940,   5450,     61,     28,    484,     37,      0],\n",
      "        [     0, 154533,      0,      0,      0,     34,      0,      0,    282],\n",
      "        [    20,     27, 175162,     26,    132,   1284,   6443,    201,      2],\n",
      "        [ 10323,     17,   3707, 132867,    675,     16,   5121,     30,      0],\n",
      "        [     0,     39,    936,      0, 151323,      3,    459,      3,      0],\n",
      "        [     0,    444,    262,      0,     89, 150979,    328,    630,      0],\n",
      "        [  4870,      6,  52842,  16658,     56,     66,  78673,    119,      0],\n",
      "        [     0,    198,      0,      0,      0,     87,      0, 152173,    264],\n",
      "        [     2,    246,      0,      0,      0,      0,    316,      0, 152735]])\n"
     ]
    },
    {
     "data": {
      "application/vnd.jupyter.widget-view+json": {
       "model_id": "2e517a380dd44edb839c0b8ea6b94562",
       "version_major": 2,
       "version_minor": 0
      },
      "text/plain": [
       "Validation: |          | 0/? [00:00<?, ?it/s]"
      ]
     },
     "metadata": {},
     "output_type": "display_data"
    },
    {
     "name": "stdout",
     "output_type": "stream",
     "text": [
      "Epoch end: Validation, epoch number: 107\n",
      "ValidationEpoch/CM\n",
      " tensor([[139821,     24,   2940,   5455,     61,     28,    484,     37,      0],\n",
      "        [     0, 155993,      0,      0,      0,     34,      0,      0,    282],\n",
      "        [    20,     27, 176818,     26,    132,   1296,   6503,    201,      2],\n",
      "        [ 10366,     17,   3707, 134216,    675,     16,   5169,     30,      0],\n",
      "        [     0,     39,    936,      0, 152763,      3,    459,      3,      0],\n",
      "        [     0,    444,    262,      0,     89, 152419,    328,    630,      0],\n",
      "        [  4885,      6,  53012,  16759,     56,     66,  79832,    119,      0],\n",
      "        [     0,    198,      0,      0,      0,     87,      0, 153613,    264],\n",
      "        [     2,    246,      0,      0,      0,      0,    316,      0, 154180]])\n"
     ]
    },
    {
     "name": "stderr",
     "output_type": "stream",
     "text": [
      "Metric Validation/Accuracy improved by 0.001 >= min_delta = 0.0. New best score: 0.971\n"
     ]
    },
    {
     "name": "stdout",
     "output_type": "stream",
     "text": [
      "Epoch end: Train, epoch number: 106\n",
      "TrainEpoch/CM\n",
      " tensor([[139821,     24,   2940,   5455,     61,     28,    484,     37,      0],\n",
      "        [     0, 155993,      0,      0,      0,     34,      0,      0,    282],\n",
      "        [    20,     27, 176818,     26,    132,   1296,   6503,    201,      2],\n",
      "        [ 10366,     17,   3707, 134216,    675,     16,   5169,     30,      0],\n",
      "        [     0,     39,    936,      0, 152763,      3,    459,      3,      0],\n",
      "        [     0,    444,    262,      0,     89, 152419,    328,    630,      0],\n",
      "        [  4885,      6,  53012,  16759,     56,     66,  79832,    119,      0],\n",
      "        [     0,    198,      0,      0,      0,     87,      0, 153613,    264],\n",
      "        [     2,    246,      0,      0,      0,      0,    316,      0, 154180]])\n"
     ]
    },
    {
     "data": {
      "application/vnd.jupyter.widget-view+json": {
       "model_id": "b868f8ec165c43a0b4e3c882a54d5727",
       "version_major": 2,
       "version_minor": 0
      },
      "text/plain": [
       "Validation: |          | 0/? [00:00<?, ?it/s]"
      ]
     },
     "metadata": {},
     "output_type": "display_data"
    },
    {
     "name": "stdout",
     "output_type": "stream",
     "text": [
      "Epoch end: Validation, epoch number: 108\n",
      "ValidationEpoch/CM\n",
      " tensor([[141206,     24,   2940,   5460,     61,     28,    484,     37,      0],\n",
      "        [     0, 157453,      0,      0,      0,     34,      0,      0,    282],\n",
      "        [    20,     27, 178467,     26,    132,   1308,   6570,    201,      2],\n",
      "        [ 10411,     17,   3707, 135555,    675,     16,   5225,     30,      0],\n",
      "        [     0,     39,    936,      0, 154203,      3,    459,      3,      0],\n",
      "        [     0,    444,    262,      0,     89, 153859,    328,    630,      0],\n",
      "        [  4902,      6,  53156,  16857,     56,     66,  81018,    119,      0],\n",
      "        [     0,    198,      0,      0,      0,     87,      0, 155053,    264],\n",
      "        [     2,    246,      0,      0,      0,      0,    316,      0, 155625]])\n",
      "Epoch end: Train, epoch number: 107\n",
      "TrainEpoch/CM\n",
      " tensor([[141206,     24,   2940,   5460,     61,     28,    484,     37,      0],\n",
      "        [     0, 157453,      0,      0,      0,     34,      0,      0,    282],\n",
      "        [    20,     27, 178467,     26,    132,   1308,   6570,    201,      2],\n",
      "        [ 10411,     17,   3707, 135555,    675,     16,   5225,     30,      0],\n",
      "        [     0,     39,    936,      0, 154203,      3,    459,      3,      0],\n",
      "        [     0,    444,    262,      0,     89, 153859,    328,    630,      0],\n",
      "        [  4902,      6,  53156,  16857,     56,     66,  81018,    119,      0],\n",
      "        [     0,    198,      0,      0,      0,     87,      0, 155053,    264],\n",
      "        [     2,    246,      0,      0,      0,      0,    316,      0, 155625]])\n"
     ]
    },
    {
     "data": {
      "application/vnd.jupyter.widget-view+json": {
       "model_id": "4ca98950c3b74e339af15d58962a61b8",
       "version_major": 2,
       "version_minor": 0
      },
      "text/plain": [
       "Validation: |          | 0/? [00:00<?, ?it/s]"
      ]
     },
     "metadata": {},
     "output_type": "display_data"
    },
    {
     "name": "stdout",
     "output_type": "stream",
     "text": [
      "Epoch end: Validation, epoch number: 109\n",
      "ValidationEpoch/CM\n",
      " tensor([[142591,     24,   2940,   5465,     61,     28,    484,     37,      0],\n",
      "        [     0, 158913,      0,      0,      0,     34,      0,      0,    282],\n",
      "        [    20,     27, 180123,     26,    132,   1320,   6630,    201,      2],\n",
      "        [ 10453,     17,   3707, 136904,    675,     16,   5274,     30,      0],\n",
      "        [     0,     39,    936,      0, 155643,      3,    459,      3,      0],\n",
      "        [     0,    444,    262,      0,     89, 155299,    328,    630,      0],\n",
      "        [  4917,      6,  53315,  16959,     56,     66,  82187,    119,      0],\n",
      "        [     0,    198,      0,      0,      0,     87,      0, 156493,    264],\n",
      "        [     2,    246,      0,      0,      0,      0,    316,      0, 157070]])\n",
      "Epoch end: Train, epoch number: 108\n",
      "TrainEpoch/CM\n",
      " tensor([[142591,     24,   2940,   5465,     61,     28,    484,     37,      0],\n",
      "        [     0, 158913,      0,      0,      0,     34,      0,      0,    282],\n",
      "        [    20,     27, 180123,     26,    132,   1320,   6630,    201,      2],\n",
      "        [ 10453,     17,   3707, 136904,    675,     16,   5274,     30,      0],\n",
      "        [     0,     39,    936,      0, 155643,      3,    459,      3,      0],\n",
      "        [     0,    444,    262,      0,     89, 155299,    328,    630,      0],\n",
      "        [  4917,      6,  53315,  16959,     56,     66,  82187,    119,      0],\n",
      "        [     0,    198,      0,      0,      0,     87,      0, 156493,    264],\n",
      "        [     2,    246,      0,      0,      0,      0,    316,      0, 157070]])\n"
     ]
    },
    {
     "data": {
      "application/vnd.jupyter.widget-view+json": {
       "model_id": "d2163b2772ec4216933819dae41009a1",
       "version_major": 2,
       "version_minor": 0
      },
      "text/plain": [
       "Validation: |          | 0/? [00:00<?, ?it/s]"
      ]
     },
     "metadata": {},
     "output_type": "display_data"
    },
    {
     "name": "stdout",
     "output_type": "stream",
     "text": [
      "Epoch end: Validation, epoch number: 110\n",
      "ValidationEpoch/CM\n",
      " tensor([[143979,     24,   2940,   5467,     61,     28,    484,     37,      0],\n",
      "        [     0, 160373,      0,      0,      0,     34,      0,      0,    282],\n",
      "        [    20,     27, 181779,     26,    132,   1332,   6690,    201,      2],\n",
      "        [ 10498,     17,   3707, 138242,    675,     16,   5331,     30,      0],\n",
      "        [     0,     39,    936,      0, 157083,      3,    459,      3,      0],\n",
      "        [     0,    444,    262,      0,     89, 156739,    328,    630,      0],\n",
      "        [  4936,      6,  53456,  17055,     56,     66,  83376,    119,      0],\n",
      "        [     0,    198,      0,      0,      0,     87,      0, 157933,    264],\n",
      "        [     2,    246,      0,      0,      0,      0,    316,      0, 158515]])\n",
      "Epoch end: Train, epoch number: 109\n",
      "TrainEpoch/CM\n",
      " tensor([[143979,     24,   2940,   5467,     61,     28,    484,     37,      0],\n",
      "        [     0, 160373,      0,      0,      0,     34,      0,      0,    282],\n",
      "        [    20,     27, 181779,     26,    132,   1332,   6690,    201,      2],\n",
      "        [ 10498,     17,   3707, 138242,    675,     16,   5331,     30,      0],\n",
      "        [     0,     39,    936,      0, 157083,      3,    459,      3,      0],\n",
      "        [     0,    444,    262,      0,     89, 156739,    328,    630,      0],\n",
      "        [  4936,      6,  53456,  17055,     56,     66,  83376,    119,      0],\n",
      "        [     0,    198,      0,      0,      0,     87,      0, 157933,    264],\n",
      "        [     2,    246,      0,      0,      0,      0,    316,      0, 158515]])\n"
     ]
    },
    {
     "data": {
      "application/vnd.jupyter.widget-view+json": {
       "model_id": "3e1bcea3a41542288b8f0a88dfc1fab8",
       "version_major": 2,
       "version_minor": 0
      },
      "text/plain": [
       "Validation: |          | 0/? [00:00<?, ?it/s]"
      ]
     },
     "metadata": {},
     "output_type": "display_data"
    },
    {
     "name": "stdout",
     "output_type": "stream",
     "text": [
      "Epoch end: Validation, epoch number: 111\n",
      "ValidationEpoch/CM\n",
      " tensor([[145364,     24,   2940,   5472,     61,     28,    484,     37,      0],\n",
      "        [     0, 161833,      0,      0,      0,     34,      0,      0,    282],\n",
      "        [    20,     27, 183435,     26,    132,   1344,   6750,    201,      2],\n",
      "        [ 10536,     17,   3707, 139591,    675,     16,   5384,     30,      0],\n",
      "        [     0,     39,    936,      0, 158523,      3,    459,      3,      0],\n",
      "        [     0,    444,    262,      0,     89, 158179,    328,    630,      0],\n",
      "        [  4951,      6,  53598,  17155,     56,     66,  84564,    119,      0],\n",
      "        [     0,    198,      0,      0,      0,     87,      0, 159373,    264],\n",
      "        [     2,    246,      0,      0,      0,      0,    316,      0, 159960]])\n",
      "Epoch end: Train, epoch number: 110\n",
      "TrainEpoch/CM\n",
      " tensor([[145364,     24,   2940,   5472,     61,     28,    484,     37,      0],\n",
      "        [     0, 161833,      0,      0,      0,     34,      0,      0,    282],\n",
      "        [    20,     27, 183435,     26,    132,   1344,   6750,    201,      2],\n",
      "        [ 10536,     17,   3707, 139591,    675,     16,   5384,     30,      0],\n",
      "        [     0,     39,    936,      0, 158523,      3,    459,      3,      0],\n",
      "        [     0,    444,    262,      0,     89, 158179,    328,    630,      0],\n",
      "        [  4951,      6,  53598,  17155,     56,     66,  84564,    119,      0],\n",
      "        [     0,    198,      0,      0,      0,     87,      0, 159373,    264],\n",
      "        [     2,    246,      0,      0,      0,      0,    316,      0, 159960]])\n"
     ]
    },
    {
     "data": {
      "application/vnd.jupyter.widget-view+json": {
       "model_id": "788cb36609d045339eef1a0afa47f554",
       "version_major": 2,
       "version_minor": 0
      },
      "text/plain": [
       "Validation: |          | 0/? [00:00<?, ?it/s]"
      ]
     },
     "metadata": {},
     "output_type": "display_data"
    },
    {
     "name": "stdout",
     "output_type": "stream",
     "text": [
      "Epoch end: Validation, epoch number: 112\n",
      "ValidationEpoch/CM\n",
      " tensor([[146749,     24,   2940,   5477,     61,     28,    484,     37,      0],\n",
      "        [     0, 163293,      0,      0,      0,     34,      0,      0,    282],\n",
      "        [    20,     27, 185091,     26,    132,   1356,   6810,    201,      2],\n",
      "        [ 10573,     17,   3707, 140940,    675,     16,   5438,     30,      0],\n",
      "        [     0,     39,    936,      0, 159963,      3,    459,      3,      0],\n",
      "        [     0,    444,    262,      0,     89, 159619,    328,    630,      0],\n",
      "        [  4966,      6,  53748,  17255,     56,     66,  85744,    119,      0],\n",
      "        [     0,    198,      0,      0,      0,     87,      0, 160813,    264],\n",
      "        [     2,    246,      0,      0,      0,      0,    316,      0, 161405]])\n"
     ]
    },
    {
     "name": "stderr",
     "output_type": "stream",
     "text": [
      "Monitored metric Validation/Accuracy did not improve in the last 5 records. Best score: 0.971. Signaling Trainer to stop.\n"
     ]
    },
    {
     "name": "stdout",
     "output_type": "stream",
     "text": [
      "Epoch end: Train, epoch number: 111\n",
      "TrainEpoch/CM\n",
      " tensor([[146749,     24,   2940,   5477,     61,     28,    484,     37,      0],\n",
      "        [     0, 163293,      0,      0,      0,     34,      0,      0,    282],\n",
      "        [    20,     27, 185091,     26,    132,   1356,   6810,    201,      2],\n",
      "        [ 10573,     17,   3707, 140940,    675,     16,   5438,     30,      0],\n",
      "        [     0,     39,    936,      0, 159963,      3,    459,      3,      0],\n",
      "        [     0,    444,    262,      0,     89, 159619,    328,    630,      0],\n",
      "        [  4966,      6,  53748,  17255,     56,     66,  85744,    119,      0],\n",
      "        [     0,    198,      0,      0,      0,     87,      0, 160813,    264],\n",
      "        [     2,    246,      0,      0,      0,      0,    316,      0, 161405]])\n"
     ]
    }
   ],
   "source": [
    "trainer.fit(model=model, train_dataloaders=train_dataloader, val_dataloaders=val_dataloader)"
   ]
  },
  {
   "cell_type": "code",
   "execution_count": 35,
   "metadata": {},
   "outputs": [
    {
     "name": "stderr",
     "output_type": "stream",
     "text": [
      "LOCAL_RANK: 0 - CUDA_VISIBLE_DEVICES: [0]\n"
     ]
    },
    {
     "name": "stdout",
     "output_type": "stream",
     "text": [
      "/home/<User>/repos/csg_is/training/official_logs/single-layer_30_from_weights_50s/version_0/checkpoints/epoch=106-step=2354.ckpt\n",
      "tensor(0.9711, device='cuda:0')\n"
     ]
    },
    {
     "data": {
      "application/vnd.jupyter.widget-view+json": {
       "model_id": "597f6aaeedef4ef7aaafb3c713b6b845",
       "version_major": 2,
       "version_minor": 0
      },
      "text/plain": [
       "Testing: |          | 0/? [00:00<?, ?it/s]"
      ]
     },
     "metadata": {},
     "output_type": "display_data"
    },
    {
     "name": "stdout",
     "output_type": "stream",
     "text": [
      "Epoch end: Test, epoch number: 0\n",
      "TestEpoch/CM\n",
      " tensor([[296,   0,   0,   1,   0,   0,   0,   0,   0],\n",
      "        [  0, 271,   0,   0,   0,   0,   0,   0,   0],\n",
      "        [  0,   0, 348,   0,   0,   2,  12,   0,   0],\n",
      "        [  9,   0,   0, 259,   0,   0,  11,   0,   0],\n",
      "        [  0,   0,   0,   0, 314,   0,   0,   0,   0],\n",
      "        [  0,   0,   0,   0,   0, 249,   0,   0,   0],\n",
      "        [  6,   0,  19,  17,   0,   0, 254,   0,   0],\n",
      "        [  0,   0,   0,   0,   0,   0,   0, 274,   0],\n",
      "        [  0,   0,   0,   0,   0,   0,   0,   0, 304]])\n",
      "────────────────────────────────────────────────────────────────────────────────────────────────────────────────────────\n",
      "       Test metric             DataLoader 0\n",
      "────────────────────────────────────────────────────────────────────────────────────────────────────────────────────────\n",
      "      Test/Accuracy         0.9711452722549438\n",
      "      Test/F1Score          0.9709637761116028\n",
      "        Test/Loss           0.2277367264032364\n",
      "     Test/Precision          0.971769392490387\n",
      "       Test/Recall          0.9711452722549438\n",
      "   TestEpoch/Accuracy       0.9715980887413025\n",
      "    TestEpoch/F1Score       0.9714037179946899\n",
      "   TestEpoch/Precision      0.9715571999549866\n",
      "    TestEpoch/Recall        0.9715980887413025\n",
      "────────────────────────────────────────────────────────────────────────────────────────────────────────────────────────\n"
     ]
    },
    {
     "data": {
      "text/plain": [
       "[{'Test/Loss': 0.2277367264032364,\n",
       "  'Test/Accuracy': 0.9711452722549438,\n",
       "  'Test/Precision': 0.971769392490387,\n",
       "  'Test/Recall': 0.9711452722549438,\n",
       "  'Test/F1Score': 0.9709637761116028,\n",
       "  'TestEpoch/Accuracy': 0.9715980887413025,\n",
       "  'TestEpoch/Precision': 0.9715571999549866,\n",
       "  'TestEpoch/Recall': 0.9715980887413025,\n",
       "  'TestEpoch/F1Score': 0.9714037179946899}]"
      ]
     },
     "execution_count": 35,
     "metadata": {},
     "output_type": "execute_result"
    }
   ],
   "source": [
    "print(checkpoint_callback.best_model_path)   # prints path to the best model's checkpoint\n",
    "print(checkpoint_callback.best_model_score) # and prints it score\n",
    "best_model = MalwaresModelLinearLayer.load_from_checkpoint(checkpoint_callback.best_model_path, input_size = subset.shape[1]-1, output_size = len(label_encoder.classes_))\n",
    "\n",
    "trainer.test(best_model, dataloaders=val_dataloader)"
   ]
  },
  {
   "cell_type": "code",
   "execution_count": 36,
   "metadata": {},
   "outputs": [],
   "source": [
    "sys.path.append(str(repo_base_path  / \"training\"))"
   ]
  },
  {
   "cell_type": "code",
   "execution_count": 37,
   "metadata": {},
   "outputs": [
    {
     "name": "stderr",
     "output_type": "stream",
     "text": [
      "GPU available: True (cuda), used: True\n",
      "TPU available: False, using: 0 TPU cores\n",
      "IPU available: False, using: 0 IPUs\n",
      "HPU available: False, using: 0 HPUs\n"
     ]
    }
   ],
   "source": [
    "# tensorboard = pl_loggers.TensorBoardLogger('./')\n",
    "\n",
    "from mlp import MalwaresModelMLP\n",
    "\n",
    "# split into train and val\n",
    "train, val = train_test_split(subset, test_size=0.2, random_state=SEED)\n",
    "\n",
    "train_dataset = CustomeDataset(train)\n",
    "train_dataloader = DataLoader(train_dataset, batch_size=500, shuffle=True, num_workers=7)\n",
    "\n",
    "val_dataset = CustomeDataset(val)\n",
    "val_dataloader = DataLoader(val_dataset, batch_size=500, shuffle=False, num_workers=7)\n",
    "\n",
    "# trainer = lightning.Trainer(fast_dev_run=100)\n",
    "monitor = \"Validation/Accuracy\"\n",
    "early_stop_callback = EarlyStopping(monitor=monitor, patience=5, verbose=True, mode=\"max\")\n",
    "checkpoint_callback = ModelCheckpoint(save_top_k=1, monitor=monitor, mode=\"max\")\n",
    "\n",
    "tensorboard = pl_loggers.TensorBoardLogger(save_dir=LOG_PATH, name=LOG_NAME_EXPERIMENT_3)\n",
    "trainer = lightning.Trainer(max_epochs=150, callbacks=[early_stop_callback, checkpoint_callback], enable_checkpointing=True, logger=tensorboard) #logger=None, \n",
    "\n",
    "\n",
    "model = MalwaresModelMLP(input_size = subset.shape[1]-1, output_size = len(label_encoder.classes_), seed=SEED)\n",
    "\n",
    "torch.manual_seed(SEED)\n",
    "torch.cuda.manual_seed_all(SEED)\n"
   ]
  },
  {
   "cell_type": "code",
   "execution_count": 38,
   "metadata": {},
   "outputs": [
    {
     "name": "stderr",
     "output_type": "stream",
     "text": [
      "LOCAL_RANK: 0 - CUDA_VISIBLE_DEVICES: [0]\n",
      "\n",
      "  | Name          | Type                      | Params\n",
      "------------------------------------------------------------\n",
      "0 | train_metrics | MetricCollection          | 0     \n",
      "1 | val_metrics   | MetricCollection          | 0     \n",
      "2 | test_metrics  | MetricCollection          | 0     \n",
      "3 | cm            | MulticlassConfusionMatrix | 0     \n",
      "4 | criterion     | CrossEntropyLoss          | 0     \n",
      "5 | l1            | Linear                    | 1.1 K \n",
      "6 | l2            | Linear                    | 930   \n",
      "7 | l3            | Linear                    | 279   \n",
      "------------------------------------------------------------\n",
      "2.3 K     Trainable params\n",
      "0         Non-trainable params\n",
      "2.3 K     Total params\n",
      "0.009     Total estimated model params size (MB)\n"
     ]
    },
    {
     "data": {
      "application/vnd.jupyter.widget-view+json": {
       "model_id": "e142a0a26b104890be76119697f423b2",
       "version_major": 2,
       "version_minor": 0
      },
      "text/plain": [
       "Sanity Checking: |          | 0/? [00:00<?, ?it/s]"
      ]
     },
     "metadata": {},
     "output_type": "display_data"
    },
    {
     "name": "stdout",
     "output_type": "stream",
     "text": [
      "Epoch end: Validation, epoch number: 0\n",
      "ValidationEpoch/CM\n",
      " tensor([[ 83,  21,   0,   0,   0,   0,   0,  16,   0],\n",
      "        [  0,   0,   0,  89,   0,   0,   0,   0,   0],\n",
      "        [128,   1,   0,   0,   0,   0,   0,   0,   0],\n",
      "        [105,   7,   0,   0,   0,   0,   0,   4,   0],\n",
      "        [120,   2,   0,   0,   0,   0,   0,   1,   0],\n",
      "        [ 92,   0,   0,   0,   0,   0,   0,   0,   0],\n",
      "        [116,   4,   0,   0,   0,   0,   0,   0,   0],\n",
      "        [ 81,   0,   0,   0,   0,   0,   0,   1,   0],\n",
      "        [  0,  99,   0,   0,   0,   0,   0,  30,   0]])\n"
     ]
    },
    {
     "name": "stderr",
     "output_type": "stream",
     "text": [
      "/home/<User>/repos/csg_is/.venv/lib/python3.10/site-packages/lightning/pytorch/loops/fit_loop.py:298: The number of training batches (22) is smaller than the logging interval Trainer(log_every_n_steps=50). Set a lower value for log_every_n_steps if you want to see logs for the training epoch.\n"
     ]
    },
    {
     "data": {
      "application/vnd.jupyter.widget-view+json": {
       "model_id": "fe7b15fafd7b4053945707af1c524e0e",
       "version_major": 2,
       "version_minor": 0
      },
      "text/plain": [
       "Training: |          | 0/? [00:00<?, ?it/s]"
      ]
     },
     "metadata": {},
     "output_type": "display_data"
    },
    {
     "data": {
      "application/vnd.jupyter.widget-view+json": {
       "model_id": "e80c7eca30314420a3a554deea7043f4",
       "version_major": 2,
       "version_minor": 0
      },
      "text/plain": [
       "Validation: |          | 0/? [00:00<?, ?it/s]"
      ]
     },
     "metadata": {},
     "output_type": "display_data"
    },
    {
     "name": "stdout",
     "output_type": "stream",
     "text": [
      "Epoch end: Validation, epoch number: 1\n",
      "ValidationEpoch/CM\n",
      " tensor([[ 119,   27,  758,  292,  188,    0,    0,  126,    0],\n",
      "        [   0, 1409,    0,  140,    0,    0,    0,    0,    0],\n",
      "        [ 206,    9, 1052,  231,  232,    5,    0,  122,    0],\n",
      "        [ 149,   11,  781,  248,  250,    1,    0,  116,    0],\n",
      "        [ 177,    4,  675,    0,  629,    4,    0,   74,    0],\n",
      "        [ 151,   12,  742,    1,   63,  453,    0,  110,    0],\n",
      "        [ 163,    4,  853,  242,  196,    0,    0,  107,    0],\n",
      "        [ 142,    4,    0,    0,    0,    0,    0, 1376,    0],\n",
      "        [   0,  145,    0,    0,    0,    0,    0,  214, 1215]])\n",
      "Epoch end: Train, epoch number: 0\n"
     ]
    },
    {
     "name": "stderr",
     "output_type": "stream",
     "text": [
      "Metric Validation/Accuracy improved. New best score: 0.693\n"
     ]
    },
    {
     "name": "stdout",
     "output_type": "stream",
     "text": [
      "TrainEpoch/CM\n",
      " tensor([[ 119,   27,  758,  292,  188,    0,    0,  126,    0],\n",
      "        [   0, 1409,    0,  140,    0,    0,    0,    0,    0],\n",
      "        [ 206,    9, 1052,  231,  232,    5,    0,  122,    0],\n",
      "        [ 149,   11,  781,  248,  250,    1,    0,  116,    0],\n",
      "        [ 177,    4,  675,    0,  629,    4,    0,   74,    0],\n",
      "        [ 151,   12,  742,    1,   63,  453,    0,  110,    0],\n",
      "        [ 163,    4,  853,  242,  196,    0,    0,  107,    0],\n",
      "        [ 142,    4,    0,    0,    0,    0,    0, 1376,    0],\n",
      "        [   0,  145,    0,    0,    0,    0,    0,  214, 1215]])\n"
     ]
    },
    {
     "data": {
      "application/vnd.jupyter.widget-view+json": {
       "model_id": "725d21da83604010bdf28777a9aaf312",
       "version_major": 2,
       "version_minor": 0
      },
      "text/plain": [
       "Validation: |          | 0/? [00:00<?, ?it/s]"
      ]
     },
     "metadata": {},
     "output_type": "display_data"
    },
    {
     "name": "stdout",
     "output_type": "stream",
     "text": [
      "Epoch end: Validation, epoch number: 2\n",
      "ValidationEpoch/CM\n",
      " tensor([[ 419,   27, 1041,  957,  256,    1,   73,  126,    0],\n",
      "        [   0, 2867,    0,  140,    0,    0,    0,    2,    0],\n",
      "        [ 260,    9, 2337,  498,  245,  111,    3,  122,    0],\n",
      "        [ 420,   11, 1103,  849,  419,    2,   76,  116,    0],\n",
      "        [ 187,    4,  685,   95, 1950,    5,    3,   74,    0],\n",
      "        [ 151,   14,  746,    3,   63, 1885,    0,  110,    0],\n",
      "        [ 266,    4, 1712,  612,  253,   21,   35,  107,    0],\n",
      "        [ 142,    4,    0,    0,    0,    0,    0, 2816,    0],\n",
      "        [   0,  145,    0,    0,    0,    0,    0,  214, 2660]])\n",
      "Epoch end: Train, epoch number: 1\n"
     ]
    },
    {
     "name": "stderr",
     "output_type": "stream",
     "text": [
      "Metric Validation/Accuracy improved by 0.062 >= min_delta = 0.0. New best score: 0.755\n"
     ]
    },
    {
     "name": "stdout",
     "output_type": "stream",
     "text": [
      "TrainEpoch/CM\n",
      " tensor([[ 419,   27, 1041,  957,  256,    1,   73,  126,    0],\n",
      "        [   0, 2867,    0,  140,    0,    0,    0,    2,    0],\n",
      "        [ 260,    9, 2337,  498,  245,  111,    3,  122,    0],\n",
      "        [ 420,   11, 1103,  849,  419,    2,   76,  116,    0],\n",
      "        [ 187,    4,  685,   95, 1950,    5,    3,   74,    0],\n",
      "        [ 151,   14,  746,    3,   63, 1885,    0,  110,    0],\n",
      "        [ 266,    4, 1712,  612,  253,   21,   35,  107,    0],\n",
      "        [ 142,    4,    0,    0,    0,    0,    0, 2816,    0],\n",
      "        [   0,  145,    0,    0,    0,    0,    0,  214, 2660]])\n"
     ]
    },
    {
     "data": {
      "application/vnd.jupyter.widget-view+json": {
       "model_id": "b36509665a264a78aa8325604abcba2b",
       "version_major": 2,
       "version_minor": 0
      },
      "text/plain": [
       "Validation: |          | 0/? [00:00<?, ?it/s]"
      ]
     },
     "metadata": {},
     "output_type": "display_data"
    },
    {
     "name": "stdout",
     "output_type": "stream",
     "text": [
      "Epoch end: Validation, epoch number: 3\n",
      "ValidationEpoch/CM\n",
      " tensor([[1211,   27, 1059, 1487,  257,    1,  122,  126,    0],\n",
      "        [   0, 4326,    0,  140,    0,    1,    0,    2,    0],\n",
      "        [ 261,    9, 3948,  508,  247,  118,  100,  122,    0],\n",
      "        [ 790,   11, 1132, 1766,  432,    2,  187,  116,    0],\n",
      "        [ 187,    4,  689,  111, 3369,    5,    4,   74,    0],\n",
      "        [ 151,   19,  751,    3,   63, 3315,    0,  110,    0],\n",
      "        [ 352,    4, 2474,  860,  253,   21,  384,  107,    0],\n",
      "        [ 142,    4,    0,    0,    0,    0,    0, 4256,    0],\n",
      "        [   0,  145,    0,    0,    0,    0,    0,  214, 4105]])\n",
      "Epoch end: Train, epoch number: 2\n"
     ]
    },
    {
     "name": "stderr",
     "output_type": "stream",
     "text": [
      "Metric Validation/Accuracy improved by 0.104 >= min_delta = 0.0. New best score: 0.860\n"
     ]
    },
    {
     "name": "stdout",
     "output_type": "stream",
     "text": [
      "TrainEpoch/CM\n",
      " tensor([[1211,   27, 1059, 1487,  257,    1,  122,  126,    0],\n",
      "        [   0, 4326,    0,  140,    0,    1,    0,    2,    0],\n",
      "        [ 261,    9, 3948,  508,  247,  118,  100,  122,    0],\n",
      "        [ 790,   11, 1132, 1766,  432,    2,  187,  116,    0],\n",
      "        [ 187,    4,  689,  111, 3369,    5,    4,   74,    0],\n",
      "        [ 151,   19,  751,    3,   63, 3315,    0,  110,    0],\n",
      "        [ 352,    4, 2474,  860,  253,   21,  384,  107,    0],\n",
      "        [ 142,    4,    0,    0,    0,    0,    0, 4256,    0],\n",
      "        [   0,  145,    0,    0,    0,    0,    0,  214, 4105]])\n"
     ]
    },
    {
     "data": {
      "application/vnd.jupyter.widget-view+json": {
       "model_id": "afd5b94186c141969c9f7f511d7cd1e5",
       "version_major": 2,
       "version_minor": 0
      },
      "text/plain": [
       "Validation: |          | 0/? [00:00<?, ?it/s]"
      ]
     },
     "metadata": {},
     "output_type": "display_data"
    },
    {
     "name": "stdout",
     "output_type": "stream",
     "text": [
      "Epoch end: Validation, epoch number: 4\n",
      "ValidationEpoch/CM\n",
      " tensor([[2361,   27, 1059, 1708,  257,    1,  141,  126,    0],\n",
      "        [   0, 5786,    0,  140,    0,    1,    0,    2,    0],\n",
      "        [ 261,    9, 5492,  508,  247,  118,  284,  122,    0],\n",
      "        [1199,   11, 1132, 2701,  437,    2,  278,  116,    0],\n",
      "        [ 187,    4,  689,  115, 4801,    5,    8,   74,    0],\n",
      "        [ 151,   24,  756,    3,   63, 4745,    0,  110,    0],\n",
      "        [ 394,    4, 2998, 1024,  253,   21, 1099,  107,    0],\n",
      "        [ 142,    4,    0,    0,    0,    0,    0, 5696,    0],\n",
      "        [   0,  145,    0,    0,    0,    0,    0,  214, 5550]])\n"
     ]
    },
    {
     "name": "stderr",
     "output_type": "stream",
     "text": [
      "Metric Validation/Accuracy improved by 0.019 >= min_delta = 0.0. New best score: 0.879\n"
     ]
    },
    {
     "name": "stdout",
     "output_type": "stream",
     "text": [
      "Epoch end: Train, epoch number: 3\n",
      "TrainEpoch/CM\n",
      " tensor([[2361,   27, 1059, 1708,  257,    1,  141,  126,    0],\n",
      "        [   0, 5786,    0,  140,    0,    1,    0,    2,    0],\n",
      "        [ 261,    9, 5492,  508,  247,  118,  284,  122,    0],\n",
      "        [1199,   11, 1132, 2701,  437,    2,  278,  116,    0],\n",
      "        [ 187,    4,  689,  115, 4801,    5,    8,   74,    0],\n",
      "        [ 151,   24,  756,    3,   63, 4745,    0,  110,    0],\n",
      "        [ 394,    4, 2998, 1024,  253,   21, 1099,  107,    0],\n",
      "        [ 142,    4,    0,    0,    0,    0,    0, 5696,    0],\n",
      "        [   0,  145,    0,    0,    0,    0,    0,  214, 5550]])\n"
     ]
    },
    {
     "data": {
      "application/vnd.jupyter.widget-view+json": {
       "model_id": "8456661382914ef4bd34e9d2eaa9bb94",
       "version_major": 2,
       "version_minor": 0
      },
      "text/plain": [
       "Validation: |          | 0/? [00:00<?, ?it/s]"
      ]
     },
     "metadata": {},
     "output_type": "display_data"
    },
    {
     "name": "stdout",
     "output_type": "stream",
     "text": [
      "Epoch end: Validation, epoch number: 5\n",
      "ValidationEpoch/CM\n",
      " tensor([[3590,   27, 1059, 1861,  257,    1,  149,  126,    0],\n",
      "        [   0, 7246,    0,  140,    0,    1,    0,    2,    0],\n",
      "        [ 261,    9, 7051,  508,  247,  118,  453,  122,    0],\n",
      "        [1441,   11, 1132, 3832,  442,    2,  340,  116,    0],\n",
      "        [ 187,    4,  689,  127, 6224,    5,   13,   74,    0],\n",
      "        [ 151,   28,  761,    3,   63, 6176,    0,  110,    0],\n",
      "        [ 412,    4, 3485, 1184,  253,   21, 1879,  107,    0],\n",
      "        [ 142,    4,    0,    0,    0,    0,    0, 7136,    0],\n",
      "        [   0,  145,    0,    0,    0,    0,    0,  214, 6995]])\n",
      "Epoch end: Train, epoch number: 4\n",
      "TrainEpoch/CM\n",
      " tensor([[3590,   27, 1059, 1861,  257,    1,  149,  126,    0],\n",
      "        [   0, 7246,    0,  140,    0,    1,    0,    2,    0],\n",
      "        [ 261,    9, 7051,  508,  247,  118,  453,  122,    0],\n",
      "        [1441,   11, 1132, 3832,  442,    2,  340,  116,    0],\n",
      "        [ 187,    4,  689,  127, 6224,    5,   13,   74,    0],\n",
      "        [ 151,   28,  761,    3,   63, 6176,    0,  110,    0],\n",
      "        [ 412,    4, 3485, 1184,  253,   21, 1879,  107,    0],\n",
      "        [ 142,    4,    0,    0,    0,    0,    0, 7136,    0],\n",
      "        [   0,  145,    0,    0,    0,    0,    0,  214, 6995]])\n"
     ]
    },
    {
     "name": "stderr",
     "output_type": "stream",
     "text": [
      "Metric Validation/Accuracy improved by 0.036 >= min_delta = 0.0. New best score: 0.915\n"
     ]
    },
    {
     "data": {
      "application/vnd.jupyter.widget-view+json": {
       "model_id": "c4d71e3176fc44ae80f5e6bbc2bd8f06",
       "version_major": 2,
       "version_minor": 0
      },
      "text/plain": [
       "Validation: |          | 0/? [00:00<?, ?it/s]"
      ]
     },
     "metadata": {},
     "output_type": "display_data"
    },
    {
     "name": "stdout",
     "output_type": "stream",
     "text": [
      "Epoch end: Validation, epoch number: 6\n",
      "ValidationEpoch/CM\n",
      " tensor([[4871,   27, 1059, 1970,  257,    1,  149,  126,    0],\n",
      "        [   0, 8706,    0,  140,    0,    1,    0,    2,    0],\n",
      "        [ 261,    9, 8592,  508,  247,  126,  632,  122,    0],\n",
      "        [1535,   11, 1132, 5117,  447,    2,  396,  116,    0],\n",
      "        [ 187,    4,  689,  134, 7657,    5,   13,   74,    0],\n",
      "        [ 151,   31,  766,    3,   64, 7607,    0,  110,    0],\n",
      "        [ 419,    4, 3926, 1348,  253,   21, 2712,  107,    0],\n",
      "        [ 142,    4,    0,    0,    0,    0,    0, 8576,    0],\n",
      "        [   0,  145,    0,    0,    0,    0,    0,  214, 8440]])\n"
     ]
    },
    {
     "name": "stderr",
     "output_type": "stream",
     "text": [
      "Metric Validation/Accuracy improved by 0.016 >= min_delta = 0.0. New best score: 0.931\n"
     ]
    },
    {
     "name": "stdout",
     "output_type": "stream",
     "text": [
      "Epoch end: Train, epoch number: 5\n",
      "TrainEpoch/CM\n",
      " tensor([[4871,   27, 1059, 1970,  257,    1,  149,  126,    0],\n",
      "        [   0, 8706,    0,  140,    0,    1,    0,    2,    0],\n",
      "        [ 261,    9, 8592,  508,  247,  126,  632,  122,    0],\n",
      "        [1535,   11, 1132, 5117,  447,    2,  396,  116,    0],\n",
      "        [ 187,    4,  689,  134, 7657,    5,   13,   74,    0],\n",
      "        [ 151,   31,  766,    3,   64, 7607,    0,  110,    0],\n",
      "        [ 419,    4, 3926, 1348,  253,   21, 2712,  107,    0],\n",
      "        [ 142,    4,    0,    0,    0,    0,    0, 8576,    0],\n",
      "        [   0,  145,    0,    0,    0,    0,    0,  214, 8440]])\n"
     ]
    },
    {
     "data": {
      "application/vnd.jupyter.widget-view+json": {
       "model_id": "b7db26424893471f9f5757c5cb82d9e0",
       "version_major": 2,
       "version_minor": 0
      },
      "text/plain": [
       "Validation: |          | 0/? [00:00<?, ?it/s]"
      ]
     },
     "metadata": {},
     "output_type": "display_data"
    },
    {
     "name": "stdout",
     "output_type": "stream",
     "text": [
      "Epoch end: Validation, epoch number: 7\n",
      "ValidationEpoch/CM\n",
      " tensor([[ 6231,    27,  1059,  2000,   257,     1,   149,   126,     0],\n",
      "        [    0, 10165,     0,   140,     1,     1,     0,     2,     0],\n",
      "        [  261,     9, 10163,   508,   247,   127,   788,   122,     0],\n",
      "        [ 1567,    11,  1132,  6481,   452,     2,   435,   116,     0],\n",
      "        [  187,     4,   689,   140,  9091,     5,    13,    74,     0],\n",
      "        [  151,    36,   772,     3,    64,  9036,     0,   110,     0],\n",
      "        [  424,     4,  4321,  1521,   253,    21,  3584,   107,     0],\n",
      "        [  142,     4,     0,     0,     0,     0,     0, 10016,     0],\n",
      "        [    0,   145,     0,     0,     0,     0,     0,   214,  9885]])\n"
     ]
    },
    {
     "name": "stderr",
     "output_type": "stream",
     "text": [
      "Metric Validation/Accuracy improved by 0.020 >= min_delta = 0.0. New best score: 0.951\n"
     ]
    },
    {
     "name": "stdout",
     "output_type": "stream",
     "text": [
      "Epoch end: Train, epoch number: 6\n",
      "TrainEpoch/CM\n",
      " tensor([[ 6231,    27,  1059,  2000,   257,     1,   149,   126,     0],\n",
      "        [    0, 10165,     0,   140,     1,     1,     0,     2,     0],\n",
      "        [  261,     9, 10163,   508,   247,   127,   788,   122,     0],\n",
      "        [ 1567,    11,  1132,  6481,   452,     2,   435,   116,     0],\n",
      "        [  187,     4,   689,   140,  9091,     5,    13,    74,     0],\n",
      "        [  151,    36,   772,     3,    64,  9036,     0,   110,     0],\n",
      "        [  424,     4,  4321,  1521,   253,    21,  3584,   107,     0],\n",
      "        [  142,     4,     0,     0,     0,     0,     0, 10016,     0],\n",
      "        [    0,   145,     0,     0,     0,     0,     0,   214,  9885]])\n"
     ]
    },
    {
     "data": {
      "application/vnd.jupyter.widget-view+json": {
       "model_id": "b7fdc3a385b449a9bc2a0fdab4d1db37",
       "version_major": 2,
       "version_minor": 0
      },
      "text/plain": [
       "Validation: |          | 0/? [00:00<?, ?it/s]"
      ]
     },
     "metadata": {},
     "output_type": "display_data"
    },
    {
     "name": "stdout",
     "output_type": "stream",
     "text": [
      "Epoch end: Validation, epoch number: 8\n",
      "ValidationEpoch/CM\n",
      " tensor([[ 7615,    27,  1059,  2006,   257,     1,   149,   126,     0],\n",
      "        [    0, 11625,     0,   140,     1,     1,     0,     2,     0],\n",
      "        [  261,     9, 11728,   508,   247,   127,   951,   122,     0],\n",
      "        [ 1586,    11,  1132,  7866,   457,     2,   466,   116,     0],\n",
      "        [  187,     4,   689,   145, 10526,     5,    13,    74,     0],\n",
      "        [  151,    38,   780,     3,    64, 10466,     0,   110,     0],\n",
      "        [  429,     4,  4638,  1662,   253,    21,  4566,   107,     0],\n",
      "        [  142,     4,     0,     0,     0,     0,     0, 11456,     0],\n",
      "        [    0,   145,     0,     0,     0,     0,     0,   214, 11330]])\n",
      "Epoch end: Train, epoch number: 7\n",
      "TrainEpoch/CM\n",
      " tensor([[ 7615,    27,  1059,  2006,   257,     1,   149,   126,     0],\n",
      "        [    0, 11625,     0,   140,     1,     1,     0,     2,     0],\n",
      "        [  261,     9, 11728,   508,   247,   127,   951,   122,     0],\n",
      "        [ 1586,    11,  1132,  7866,   457,     2,   466,   116,     0],\n",
      "        [  187,     4,   689,   145, 10526,     5,    13,    74,     0],\n",
      "        [  151,    38,   780,     3,    64, 10466,     0,   110,     0],\n",
      "        [  429,     4,  4638,  1662,   253,    21,  4566,   107,     0],\n",
      "        [  142,     4,     0,     0,     0,     0,     0, 11456,     0],\n",
      "        [    0,   145,     0,     0,     0,     0,     0,   214, 11330]])\n"
     ]
    },
    {
     "name": "stderr",
     "output_type": "stream",
     "text": [
      "Metric Validation/Accuracy improved by 0.000 >= min_delta = 0.0. New best score: 0.951\n"
     ]
    },
    {
     "data": {
      "application/vnd.jupyter.widget-view+json": {
       "model_id": "ee98fcfa7fd0478b91ece8aafb14a129",
       "version_major": 2,
       "version_minor": 0
      },
      "text/plain": [
       "Validation: |          | 0/? [00:00<?, ?it/s]"
      ]
     },
     "metadata": {},
     "output_type": "display_data"
    },
    {
     "name": "stdout",
     "output_type": "stream",
     "text": [
      "Epoch end: Validation, epoch number: 9\n",
      "ValidationEpoch/CM\n",
      " tensor([[ 9000,    27,  1059,  2011,   257,     1,   149,   126,     0],\n",
      "        [    0, 13085,     0,   140,     1,     1,     0,     2,     0],\n",
      "        [  261,     9, 13315,   508,   247,   127,  1092,   122,     0],\n",
      "        [ 1589,    11,  1132,  9265,   462,     2,   499,   116,     0],\n",
      "        [  187,     4,   689,   150, 11960,     5,    14,    74,     0],\n",
      "        [  151,    42,   786,     3,    64, 11896,     0,   110,     0],\n",
      "        [  431,     4,  4921,  1804,   253,    21,  5584,   107,     0],\n",
      "        [  142,     4,     0,     0,     0,     0,     0, 12896,     0],\n",
      "        [    0,   145,     0,     0,     0,     0,     0,   214, 12775]])\n"
     ]
    },
    {
     "name": "stderr",
     "output_type": "stream",
     "text": [
      "Metric Validation/Accuracy improved by 0.009 >= min_delta = 0.0. New best score: 0.960\n"
     ]
    },
    {
     "name": "stdout",
     "output_type": "stream",
     "text": [
      "Epoch end: Train, epoch number: 8\n",
      "TrainEpoch/CM\n",
      " tensor([[ 9000,    27,  1059,  2011,   257,     1,   149,   126,     0],\n",
      "        [    0, 13085,     0,   140,     1,     1,     0,     2,     0],\n",
      "        [  261,     9, 13315,   508,   247,   127,  1092,   122,     0],\n",
      "        [ 1589,    11,  1132,  9265,   462,     2,   499,   116,     0],\n",
      "        [  187,     4,   689,   150, 11960,     5,    14,    74,     0],\n",
      "        [  151,    42,   786,     3,    64, 11896,     0,   110,     0],\n",
      "        [  431,     4,  4921,  1804,   253,    21,  5584,   107,     0],\n",
      "        [  142,     4,     0,     0,     0,     0,     0, 12896,     0],\n",
      "        [    0,   145,     0,     0,     0,     0,     0,   214, 12775]])\n"
     ]
    },
    {
     "data": {
      "application/vnd.jupyter.widget-view+json": {
       "model_id": "da72d0a42edc4565bd3716c01ee0c858",
       "version_major": 2,
       "version_minor": 0
      },
      "text/plain": [
       "Validation: |          | 0/? [00:00<?, ?it/s]"
      ]
     },
     "metadata": {},
     "output_type": "display_data"
    },
    {
     "name": "stdout",
     "output_type": "stream",
     "text": [
      "Epoch end: Validation, epoch number: 10\n",
      "ValidationEpoch/CM\n",
      " tensor([[10388,    27,  1059,  2013,   257,     1,   149,   126,     0],\n",
      "        [    0, 14545,     0,   140,     1,     1,     0,     2,     0],\n",
      "        [  261,     9, 14906,   508,   247,   127,  1229,   122,     0],\n",
      "        [ 1589,    11,  1132, 10672,   467,     2,   527,   116,     0],\n",
      "        [  187,     4,   689,   155, 13395,     5,    14,    74,     0],\n",
      "        [  151,    43,   791,     3,    64, 13330,     0,   110,     0],\n",
      "        [  435,     4,  5162,  1934,   253,    21,  6654,   107,     0],\n",
      "        [  142,     4,     0,     0,     0,     0,     0, 14336,     0],\n",
      "        [    0,   145,     0,     0,     0,     0,     0,   214, 14220]])\n"
     ]
    },
    {
     "name": "stderr",
     "output_type": "stream",
     "text": [
      "Metric Validation/Accuracy improved by 0.003 >= min_delta = 0.0. New best score: 0.963\n"
     ]
    },
    {
     "name": "stdout",
     "output_type": "stream",
     "text": [
      "Epoch end: Train, epoch number: 9\n",
      "TrainEpoch/CM\n",
      " tensor([[10388,    27,  1059,  2013,   257,     1,   149,   126,     0],\n",
      "        [    0, 14545,     0,   140,     1,     1,     0,     2,     0],\n",
      "        [  261,     9, 14906,   508,   247,   127,  1229,   122,     0],\n",
      "        [ 1589,    11,  1132, 10672,   467,     2,   527,   116,     0],\n",
      "        [  187,     4,   689,   155, 13395,     5,    14,    74,     0],\n",
      "        [  151,    43,   791,     3,    64, 13330,     0,   110,     0],\n",
      "        [  435,     4,  5162,  1934,   253,    21,  6654,   107,     0],\n",
      "        [  142,     4,     0,     0,     0,     0,     0, 14336,     0],\n",
      "        [    0,   145,     0,     0,     0,     0,     0,   214, 14220]])\n"
     ]
    },
    {
     "data": {
      "application/vnd.jupyter.widget-view+json": {
       "model_id": "87e14044375543dfa22ceee1fe884578",
       "version_major": 2,
       "version_minor": 0
      },
      "text/plain": [
       "Validation: |          | 0/? [00:00<?, ?it/s]"
      ]
     },
     "metadata": {},
     "output_type": "display_data"
    },
    {
     "name": "stdout",
     "output_type": "stream",
     "text": [
      "Epoch end: Validation, epoch number: 11\n",
      "ValidationEpoch/CM\n",
      " tensor([[11771,    27,  1059,  2020,   257,     1,   149,   126,     0],\n",
      "        [    0, 16005,     0,   140,     1,     1,     0,     2,     0],\n",
      "        [  261,     9, 16494,   508,   247,   130,  1366,   122,     0],\n",
      "        [ 1590,    11,  1132, 12074,   472,     2,   559,   116,     0],\n",
      "        [  187,     4,   689,   158, 14831,     5,    15,    74,     0],\n",
      "        [  151,    43,   791,     3,    64, 14766,     4,   110,     0],\n",
      "        [  436,     4,  5363,  2064,   253,    21,  7767,   107,     0],\n",
      "        [  142,     4,     0,     0,     0,     0,     0, 15776,     0],\n",
      "        [    0,   145,     0,     0,     0,     0,     0,   214, 15665]])\n"
     ]
    },
    {
     "name": "stderr",
     "output_type": "stream",
     "text": [
      "Metric Validation/Accuracy improved by 0.002 >= min_delta = 0.0. New best score: 0.965\n"
     ]
    },
    {
     "name": "stdout",
     "output_type": "stream",
     "text": [
      "Epoch end: Train, epoch number: 10\n",
      "TrainEpoch/CM\n",
      " tensor([[11771,    27,  1059,  2020,   257,     1,   149,   126,     0],\n",
      "        [    0, 16005,     0,   140,     1,     1,     0,     2,     0],\n",
      "        [  261,     9, 16494,   508,   247,   130,  1366,   122,     0],\n",
      "        [ 1590,    11,  1132, 12074,   472,     2,   559,   116,     0],\n",
      "        [  187,     4,   689,   158, 14831,     5,    15,    74,     0],\n",
      "        [  151,    43,   791,     3,    64, 14766,     4,   110,     0],\n",
      "        [  436,     4,  5363,  2064,   253,    21,  7767,   107,     0],\n",
      "        [  142,     4,     0,     0,     0,     0,     0, 15776,     0],\n",
      "        [    0,   145,     0,     0,     0,     0,     0,   214, 15665]])\n"
     ]
    },
    {
     "data": {
      "application/vnd.jupyter.widget-view+json": {
       "model_id": "b93246ada0e74f7ba8d6dd072dab5e52",
       "version_major": 2,
       "version_minor": 0
      },
      "text/plain": [
       "Validation: |          | 0/? [00:00<?, ?it/s]"
      ]
     },
     "metadata": {},
     "output_type": "display_data"
    },
    {
     "name": "stdout",
     "output_type": "stream",
     "text": [
      "Epoch end: Validation, epoch number: 12\n",
      "ValidationEpoch/CM\n",
      " tensor([[13161,    27,  1059,  2020,   257,     1,   149,   126,     0],\n",
      "        [    0, 17465,     0,   140,     1,     1,     0,     2,     0],\n",
      "        [  261,     9, 18092,   508,   247,   130,  1496,   122,     0],\n",
      "        [ 1590,    11,  1132, 13485,   477,     2,   583,   116,     0],\n",
      "        [  187,     4,   689,   161, 16268,     5,    15,    74,     0],\n",
      "        [  151,    44,   793,     3,    64, 16200,     7,   110,     0],\n",
      "        [  440,     4,  5522,  2191,   253,    21,  8922,   107,     0],\n",
      "        [  142,     4,     0,     0,     0,     0,     0, 17216,     0],\n",
      "        [    0,   145,     0,     0,     0,     0,     0,   214, 17110]])\n"
     ]
    },
    {
     "name": "stderr",
     "output_type": "stream",
     "text": [
      "Metric Validation/Accuracy improved by 0.002 >= min_delta = 0.0. New best score: 0.967\n"
     ]
    },
    {
     "name": "stdout",
     "output_type": "stream",
     "text": [
      "Epoch end: Train, epoch number: 11\n",
      "TrainEpoch/CM\n",
      " tensor([[13161,    27,  1059,  2020,   257,     1,   149,   126,     0],\n",
      "        [    0, 17465,     0,   140,     1,     1,     0,     2,     0],\n",
      "        [  261,     9, 18092,   508,   247,   130,  1496,   122,     0],\n",
      "        [ 1590,    11,  1132, 13485,   477,     2,   583,   116,     0],\n",
      "        [  187,     4,   689,   161, 16268,     5,    15,    74,     0],\n",
      "        [  151,    44,   793,     3,    64, 16200,     7,   110,     0],\n",
      "        [  440,     4,  5522,  2191,   253,    21,  8922,   107,     0],\n",
      "        [  142,     4,     0,     0,     0,     0,     0, 17216,     0],\n",
      "        [    0,   145,     0,     0,     0,     0,     0,   214, 17110]])\n"
     ]
    },
    {
     "data": {
      "application/vnd.jupyter.widget-view+json": {
       "model_id": "4a2872f76eaa4c9d9fca64699a2bb623",
       "version_major": 2,
       "version_minor": 0
      },
      "text/plain": [
       "Validation: |          | 0/? [00:00<?, ?it/s]"
      ]
     },
     "metadata": {},
     "output_type": "display_data"
    },
    {
     "name": "stdout",
     "output_type": "stream",
     "text": [
      "Epoch end: Validation, epoch number: 13\n",
      "ValidationEpoch/CM\n",
      " tensor([[14551,    27,  1059,  2020,   257,     1,   149,   126,     0],\n",
      "        [    0, 18925,     0,   140,     1,     1,     0,     2,     0],\n",
      "        [  261,     9, 19704,   508,   247,   130,  1612,   122,     0],\n",
      "        [ 1590,    11,  1132, 14886,   482,     2,   617,   116,     0],\n",
      "        [  187,     4,   689,   164, 17705,     5,    15,    74,     0],\n",
      "        [  151,    45,   793,     3,    64, 17635,    11,   110,     0],\n",
      "        [  440,     4,  5635,  2296,   253,    21, 10149,   107,     0],\n",
      "        [  142,     4,     0,     0,     0,     0,     0, 18656,     0],\n",
      "        [    0,   145,     0,     0,     0,     0,     0,   214, 18555]])\n"
     ]
    },
    {
     "name": "stderr",
     "output_type": "stream",
     "text": [
      "Metric Validation/Accuracy improved by 0.006 >= min_delta = 0.0. New best score: 0.973\n"
     ]
    },
    {
     "name": "stdout",
     "output_type": "stream",
     "text": [
      "Epoch end: Train, epoch number: 12\n",
      "TrainEpoch/CM\n",
      " tensor([[14551,    27,  1059,  2020,   257,     1,   149,   126,     0],\n",
      "        [    0, 18925,     0,   140,     1,     1,     0,     2,     0],\n",
      "        [  261,     9, 19704,   508,   247,   130,  1612,   122,     0],\n",
      "        [ 1590,    11,  1132, 14886,   482,     2,   617,   116,     0],\n",
      "        [  187,     4,   689,   164, 17705,     5,    15,    74,     0],\n",
      "        [  151,    45,   793,     3,    64, 17635,    11,   110,     0],\n",
      "        [  440,     4,  5635,  2296,   253,    21, 10149,   107,     0],\n",
      "        [  142,     4,     0,     0,     0,     0,     0, 18656,     0],\n",
      "        [    0,   145,     0,     0,     0,     0,     0,   214, 18555]])\n"
     ]
    },
    {
     "data": {
      "application/vnd.jupyter.widget-view+json": {
       "model_id": "1be560d7d70f4edf94e097ec26cd9359",
       "version_major": 2,
       "version_minor": 0
      },
      "text/plain": [
       "Validation: |          | 0/? [00:00<?, ?it/s]"
      ]
     },
     "metadata": {},
     "output_type": "display_data"
    },
    {
     "name": "stdout",
     "output_type": "stream",
     "text": [
      "Epoch end: Validation, epoch number: 14\n",
      "ValidationEpoch/CM\n",
      " tensor([[15941,    27,  1059,  2020,   257,     1,   149,   126,     0],\n",
      "        [    0, 20385,     0,   140,     1,     1,     0,     2,     0],\n",
      "        [  261,     9, 21345,   508,   247,   130,  1699,   122,     0],\n",
      "        [ 1590,    11,  1132, 16297,   486,     2,   642,   116,     0],\n",
      "        [  187,     4,   689,   164, 19145,     5,    15,    74,     0],\n",
      "        [  151,    46,   793,     3,    64, 19074,    11,   110,     0],\n",
      "        [  440,     4,  5726,  2399,   253,    21, 11400,   107,     0],\n",
      "        [  142,     4,     0,     0,     0,     0,     0, 20096,     0],\n",
      "        [    0,   145,     0,     0,     0,     0,     0,   214, 20000]])\n"
     ]
    },
    {
     "name": "stderr",
     "output_type": "stream",
     "text": [
      "Metric Validation/Accuracy improved by 0.004 >= min_delta = 0.0. New best score: 0.977\n"
     ]
    },
    {
     "name": "stdout",
     "output_type": "stream",
     "text": [
      "Epoch end: Train, epoch number: 13\n",
      "TrainEpoch/CM\n",
      " tensor([[15941,    27,  1059,  2020,   257,     1,   149,   126,     0],\n",
      "        [    0, 20385,     0,   140,     1,     1,     0,     2,     0],\n",
      "        [  261,     9, 21345,   508,   247,   130,  1699,   122,     0],\n",
      "        [ 1590,    11,  1132, 16297,   486,     2,   642,   116,     0],\n",
      "        [  187,     4,   689,   164, 19145,     5,    15,    74,     0],\n",
      "        [  151,    46,   793,     3,    64, 19074,    11,   110,     0],\n",
      "        [  440,     4,  5726,  2399,   253,    21, 11400,   107,     0],\n",
      "        [  142,     4,     0,     0,     0,     0,     0, 20096,     0],\n",
      "        [    0,   145,     0,     0,     0,     0,     0,   214, 20000]])\n"
     ]
    },
    {
     "data": {
      "application/vnd.jupyter.widget-view+json": {
       "model_id": "86647eaf53e1439f88ac2cbe7f9f9978",
       "version_major": 2,
       "version_minor": 0
      },
      "text/plain": [
       "Validation: |          | 0/? [00:00<?, ?it/s]"
      ]
     },
     "metadata": {},
     "output_type": "display_data"
    },
    {
     "name": "stdout",
     "output_type": "stream",
     "text": [
      "Epoch end: Validation, epoch number: 15\n",
      "ValidationEpoch/CM\n",
      " tensor([[17331,    27,  1059,  2020,   257,     1,   149,   126,     0],\n",
      "        [    0, 21844,     0,   140,     1,     1,     1,     2,     0],\n",
      "        [  261,     9, 22993,   508,   247,   130,  1779,   122,     0],\n",
      "        [ 1590,    11,  1132, 17710,   490,     2,   665,   116,     0],\n",
      "        [  187,     4,   689,   164, 20585,     5,    15,    74,     0],\n",
      "        [  151,    48,   793,     3,    64, 20510,    13,   110,     0],\n",
      "        [  440,     4,  5798,  2500,   253,    21, 12672,   107,     0],\n",
      "        [  142,     4,     0,     0,     0,     0,     0, 21536,     0],\n",
      "        [    0,   145,     0,     0,     0,     0,     0,   214, 21445]])\n"
     ]
    },
    {
     "name": "stderr",
     "output_type": "stream",
     "text": [
      "Metric Validation/Accuracy improved by 0.004 >= min_delta = 0.0. New best score: 0.981\n"
     ]
    },
    {
     "name": "stdout",
     "output_type": "stream",
     "text": [
      "Epoch end: Train, epoch number: 14\n",
      "TrainEpoch/CM\n",
      " tensor([[17331,    27,  1059,  2020,   257,     1,   149,   126,     0],\n",
      "        [    0, 21844,     0,   140,     1,     1,     1,     2,     0],\n",
      "        [  261,     9, 22993,   508,   247,   130,  1779,   122,     0],\n",
      "        [ 1590,    11,  1132, 17710,   490,     2,   665,   116,     0],\n",
      "        [  187,     4,   689,   164, 20585,     5,    15,    74,     0],\n",
      "        [  151,    48,   793,     3,    64, 20510,    13,   110,     0],\n",
      "        [  440,     4,  5798,  2500,   253,    21, 12672,   107,     0],\n",
      "        [  142,     4,     0,     0,     0,     0,     0, 21536,     0],\n",
      "        [    0,   145,     0,     0,     0,     0,     0,   214, 21445]])\n"
     ]
    },
    {
     "data": {
      "application/vnd.jupyter.widget-view+json": {
       "model_id": "0e86f8079a5b46508e03fe98f3b5b2bb",
       "version_major": 2,
       "version_minor": 0
      },
      "text/plain": [
       "Validation: |          | 0/? [00:00<?, ?it/s]"
      ]
     },
     "metadata": {},
     "output_type": "display_data"
    },
    {
     "name": "stdout",
     "output_type": "stream",
     "text": [
      "Epoch end: Validation, epoch number: 16\n",
      "ValidationEpoch/CM\n",
      " tensor([[18721,    27,  1059,  2020,   257,     1,   149,   126,     0],\n",
      "        [    0, 23304,     0,   140,     1,     1,     1,     2,     0],\n",
      "        [  261,     9, 24650,   508,   247,   130,  1850,   122,     0],\n",
      "        [ 1590,    11,  1132, 19112,   493,     2,   700,   116,     0],\n",
      "        [  187,     4,   689,   164, 22025,     5,    15,    74,     0],\n",
      "        [  151,    48,   793,     3,    64, 21950,    13,   110,     0],\n",
      "        [  440,     4,  5839,  2600,   253,    21, 13976,   107,     0],\n",
      "        [  142,     4,     0,     0,     0,     0,     0, 22976,     0],\n",
      "        [    0,   145,     0,     0,     0,     0,     0,   214, 22890]])\n"
     ]
    },
    {
     "name": "stderr",
     "output_type": "stream",
     "text": [
      "Metric Validation/Accuracy improved by 0.002 >= min_delta = 0.0. New best score: 0.982\n"
     ]
    },
    {
     "name": "stdout",
     "output_type": "stream",
     "text": [
      "Epoch end: Train, epoch number: 15\n",
      "TrainEpoch/CM\n",
      " tensor([[18721,    27,  1059,  2020,   257,     1,   149,   126,     0],\n",
      "        [    0, 23304,     0,   140,     1,     1,     1,     2,     0],\n",
      "        [  261,     9, 24650,   508,   247,   130,  1850,   122,     0],\n",
      "        [ 1590,    11,  1132, 19112,   493,     2,   700,   116,     0],\n",
      "        [  187,     4,   689,   164, 22025,     5,    15,    74,     0],\n",
      "        [  151,    48,   793,     3,    64, 21950,    13,   110,     0],\n",
      "        [  440,     4,  5839,  2600,   253,    21, 13976,   107,     0],\n",
      "        [  142,     4,     0,     0,     0,     0,     0, 22976,     0],\n",
      "        [    0,   145,     0,     0,     0,     0,     0,   214, 22890]])\n"
     ]
    },
    {
     "data": {
      "application/vnd.jupyter.widget-view+json": {
       "model_id": "e4e0e2959af743bfa9e06f21854038c2",
       "version_major": 2,
       "version_minor": 0
      },
      "text/plain": [
       "Validation: |          | 0/? [00:00<?, ?it/s]"
      ]
     },
     "metadata": {},
     "output_type": "display_data"
    },
    {
     "name": "stdout",
     "output_type": "stream",
     "text": [
      "Epoch end: Validation, epoch number: 17\n",
      "ValidationEpoch/CM\n",
      " tensor([[20111,    27,  1059,  2020,   257,     1,   149,   126,     0],\n",
      "        [    0, 24764,     0,   140,     1,     1,     1,     2,     0],\n",
      "        [  261,     9, 26325,   508,   247,   130,  1903,   122,     0],\n",
      "        [ 1590,    11,  1132, 20500,   493,     2,   752,   116,     0],\n",
      "        [  187,     4,   689,   164, 23465,     5,    15,    74,     0],\n",
      "        [  151,    48,   793,     3,    64, 23390,    13,   110,     0],\n",
      "        [  440,     4,  5876,  2680,   253,    21, 15304,   107,     0],\n",
      "        [  142,     4,     0,     0,     0,     0,     0, 24416,     0],\n",
      "        [    0,   145,     0,     0,     0,     0,     0,   214, 24335]])\n",
      "Epoch end: Train, epoch number: 16\n",
      "TrainEpoch/CM\n",
      " tensor([[20111,    27,  1059,  2020,   257,     1,   149,   126,     0],\n",
      "        [    0, 24764,     0,   140,     1,     1,     1,     2,     0],\n",
      "        [  261,     9, 26325,   508,   247,   130,  1903,   122,     0],\n",
      "        [ 1590,    11,  1132, 20500,   493,     2,   752,   116,     0],\n",
      "        [  187,     4,   689,   164, 23465,     5,    15,    74,     0],\n",
      "        [  151,    48,   793,     3,    64, 23390,    13,   110,     0],\n",
      "        [  440,     4,  5876,  2680,   253,    21, 15304,   107,     0],\n",
      "        [  142,     4,     0,     0,     0,     0,     0, 24416,     0],\n",
      "        [    0,   145,     0,     0,     0,     0,     0,   214, 24335]])\n"
     ]
    },
    {
     "data": {
      "application/vnd.jupyter.widget-view+json": {
       "model_id": "0be20818055c487fab655a26bbddf11d",
       "version_major": 2,
       "version_minor": 0
      },
      "text/plain": [
       "Validation: |          | 0/? [00:00<?, ?it/s]"
      ]
     },
     "metadata": {},
     "output_type": "display_data"
    },
    {
     "name": "stdout",
     "output_type": "stream",
     "text": [
      "Epoch end: Validation, epoch number: 18\n",
      "ValidationEpoch/CM\n",
      " tensor([[21501,    27,  1059,  2020,   257,     1,   149,   126,     0],\n",
      "        [    0, 26224,     0,   140,     1,     1,     1,     2,     0],\n",
      "        [  261,     9, 27993,   508,   247,   130,  1963,   122,     0],\n",
      "        [ 1590,    11,  1132, 21891,   493,     2,   801,   116,     0],\n",
      "        [  187,     4,   691,   164, 24903,     5,    15,    74,     0],\n",
      "        [  151,    48,   793,     3,    64, 24829,    14,   110,     0],\n",
      "        [  440,     4,  5907,  2758,   253,    21, 16640,   107,     0],\n",
      "        [  142,     4,     0,     0,     0,     0,     0, 25856,     0],\n",
      "        [    0,   145,     0,     0,     0,     0,     0,   214, 25780]])\n",
      "Epoch end: Train, epoch number: 17\n",
      "TrainEpoch/CM\n",
      " tensor([[21501,    27,  1059,  2020,   257,     1,   149,   126,     0],\n",
      "        [    0, 26224,     0,   140,     1,     1,     1,     2,     0],\n",
      "        [  261,     9, 27993,   508,   247,   130,  1963,   122,     0],\n",
      "        [ 1590,    11,  1132, 21891,   493,     2,   801,   116,     0],\n",
      "        [  187,     4,   691,   164, 24903,     5,    15,    74,     0],\n",
      "        [  151,    48,   793,     3,    64, 24829,    14,   110,     0],\n",
      "        [  440,     4,  5907,  2758,   253,    21, 16640,   107,     0],\n",
      "        [  142,     4,     0,     0,     0,     0,     0, 25856,     0],\n",
      "        [    0,   145,     0,     0,     0,     0,     0,   214, 25780]])\n"
     ]
    },
    {
     "data": {
      "application/vnd.jupyter.widget-view+json": {
       "model_id": "0d7df0cbd9be4ca0aadd9bfc6f69d4d0",
       "version_major": 2,
       "version_minor": 0
      },
      "text/plain": [
       "Validation: |          | 0/? [00:00<?, ?it/s]"
      ]
     },
     "metadata": {},
     "output_type": "display_data"
    },
    {
     "name": "stdout",
     "output_type": "stream",
     "text": [
      "Epoch end: Validation, epoch number: 19\n",
      "ValidationEpoch/CM\n",
      " tensor([[22891,    27,  1059,  2020,   257,     1,   149,   126,     0],\n",
      "        [    0, 27684,     0,   140,     1,     1,     1,     2,     0],\n",
      "        [  261,     9, 29656,   508,   247,   130,  2028,   122,     0],\n",
      "        [ 1590,    11,  1132, 23295,   493,     2,   837,   116,     0],\n",
      "        [  187,     4,   692,   164, 26342,     5,    15,    74,     0],\n",
      "        [  151,    48,   793,     3,    64, 26269,    14,   110,     0],\n",
      "        [  440,     4,  5924,  2837,   253,    21, 17989,   107,     0],\n",
      "        [  142,     4,     0,     0,     0,     0,     0, 27296,     0],\n",
      "        [    0,   145,     0,     0,     0,     0,     0,   214, 27225]])\n"
     ]
    },
    {
     "name": "stderr",
     "output_type": "stream",
     "text": [
      "Metric Validation/Accuracy improved by 0.002 >= min_delta = 0.0. New best score: 0.984\n"
     ]
    },
    {
     "name": "stdout",
     "output_type": "stream",
     "text": [
      "Epoch end: Train, epoch number: 18\n",
      "TrainEpoch/CM\n",
      " tensor([[22891,    27,  1059,  2020,   257,     1,   149,   126,     0],\n",
      "        [    0, 27684,     0,   140,     1,     1,     1,     2,     0],\n",
      "        [  261,     9, 29656,   508,   247,   130,  2028,   122,     0],\n",
      "        [ 1590,    11,  1132, 23295,   493,     2,   837,   116,     0],\n",
      "        [  187,     4,   692,   164, 26342,     5,    15,    74,     0],\n",
      "        [  151,    48,   793,     3,    64, 26269,    14,   110,     0],\n",
      "        [  440,     4,  5924,  2837,   253,    21, 17989,   107,     0],\n",
      "        [  142,     4,     0,     0,     0,     0,     0, 27296,     0],\n",
      "        [    0,   145,     0,     0,     0,     0,     0,   214, 27225]])\n"
     ]
    },
    {
     "data": {
      "application/vnd.jupyter.widget-view+json": {
       "model_id": "a22846a58f474cd89e8b63a4b838cfd6",
       "version_major": 2,
       "version_minor": 0
      },
      "text/plain": [
       "Validation: |          | 0/? [00:00<?, ?it/s]"
      ]
     },
     "metadata": {},
     "output_type": "display_data"
    },
    {
     "name": "stdout",
     "output_type": "stream",
     "text": [
      "Epoch end: Validation, epoch number: 20\n",
      "ValidationEpoch/CM\n",
      " tensor([[24281,    27,  1059,  2020,   257,     1,   149,   126,     0],\n",
      "        [    0, 29144,     0,   140,     1,     1,     1,     2,     0],\n",
      "        [  261,     9, 31338,   508,   247,   130,  2074,   122,     0],\n",
      "        [ 1590,    11,  1132, 24711,   493,     2,   861,   116,     0],\n",
      "        [  187,     4,   692,   164, 27782,     5,    15,    74,     0],\n",
      "        [  151,    48,   793,     3,    64, 27709,    14,   110,     0],\n",
      "        [  440,     4,  5977,  2933,   253,    21, 19285,   107,     0],\n",
      "        [  142,     4,     0,     0,     0,     0,     0, 28736,     0],\n",
      "        [    0,   145,     0,     0,     0,     0,     0,   214, 28670]])\n",
      "Epoch end: Train, epoch number: 19\n",
      "TrainEpoch/CM\n",
      " tensor([[24281,    27,  1059,  2020,   257,     1,   149,   126,     0],\n",
      "        [    0, 29144,     0,   140,     1,     1,     1,     2,     0],\n",
      "        [  261,     9, 31338,   508,   247,   130,  2074,   122,     0],\n",
      "        [ 1590,    11,  1132, 24711,   493,     2,   861,   116,     0],\n",
      "        [  187,     4,   692,   164, 27782,     5,    15,    74,     0],\n",
      "        [  151,    48,   793,     3,    64, 27709,    14,   110,     0],\n",
      "        [  440,     4,  5977,  2933,   253,    21, 19285,   107,     0],\n",
      "        [  142,     4,     0,     0,     0,     0,     0, 28736,     0],\n",
      "        [    0,   145,     0,     0,     0,     0,     0,   214, 28670]])\n"
     ]
    },
    {
     "data": {
      "application/vnd.jupyter.widget-view+json": {
       "model_id": "ea9daf6f06474930bce8973984934fec",
       "version_major": 2,
       "version_minor": 0
      },
      "text/plain": [
       "Validation: |          | 0/? [00:00<?, ?it/s]"
      ]
     },
     "metadata": {},
     "output_type": "display_data"
    },
    {
     "name": "stdout",
     "output_type": "stream",
     "text": [
      "Epoch end: Validation, epoch number: 21\n",
      "ValidationEpoch/CM\n",
      " tensor([[25671,    27,  1059,  2020,   257,     1,   149,   126,     0],\n",
      "        [    0, 30604,     0,   140,     1,     1,     1,     2,     0],\n",
      "        [  261,     9, 33010,   508,   247,   130,  2130,   122,     0],\n",
      "        [ 1591,    11,  1132, 26128,   493,     2,   883,   116,     0],\n",
      "        [  187,     4,   692,   164, 29222,     5,    15,    74,     0],\n",
      "        [  151,    48,   793,     3,    64, 29149,    14,   110,     0],\n",
      "        [  440,     4,  6005,  3014,   253,    21, 20621,   107,     0],\n",
      "        [  142,     4,     0,     0,     0,     0,     0, 30176,     0],\n",
      "        [    0,   145,     0,     0,     0,     0,     0,   214, 30115]])\n"
     ]
    },
    {
     "name": "stderr",
     "output_type": "stream",
     "text": [
      "Metric Validation/Accuracy improved by 0.003 >= min_delta = 0.0. New best score: 0.987\n"
     ]
    },
    {
     "name": "stdout",
     "output_type": "stream",
     "text": [
      "Epoch end: Train, epoch number: 20\n",
      "TrainEpoch/CM\n",
      " tensor([[25671,    27,  1059,  2020,   257,     1,   149,   126,     0],\n",
      "        [    0, 30604,     0,   140,     1,     1,     1,     2,     0],\n",
      "        [  261,     9, 33010,   508,   247,   130,  2130,   122,     0],\n",
      "        [ 1591,    11,  1132, 26128,   493,     2,   883,   116,     0],\n",
      "        [  187,     4,   692,   164, 29222,     5,    15,    74,     0],\n",
      "        [  151,    48,   793,     3,    64, 29149,    14,   110,     0],\n",
      "        [  440,     4,  6005,  3014,   253,    21, 20621,   107,     0],\n",
      "        [  142,     4,     0,     0,     0,     0,     0, 30176,     0],\n",
      "        [    0,   145,     0,     0,     0,     0,     0,   214, 30115]])\n"
     ]
    },
    {
     "data": {
      "application/vnd.jupyter.widget-view+json": {
       "model_id": "bf10d8aaafc34e36b6fff7a761727425",
       "version_major": 2,
       "version_minor": 0
      },
      "text/plain": [
       "Validation: |          | 0/? [00:00<?, ?it/s]"
      ]
     },
     "metadata": {},
     "output_type": "display_data"
    },
    {
     "name": "stdout",
     "output_type": "stream",
     "text": [
      "Epoch end: Validation, epoch number: 22\n",
      "ValidationEpoch/CM\n",
      " tensor([[27061,    27,  1059,  2020,   257,     1,   149,   126,     0],\n",
      "        [    0, 32064,     0,   140,     1,     1,     1,     2,     0],\n",
      "        [  261,     9, 34685,   508,   247,   130,  2183,   122,     0],\n",
      "        [ 1591,    11,  1132, 27543,   493,     2,   908,   116,     0],\n",
      "        [  187,     4,   692,   164, 30662,     5,    15,    74,     0],\n",
      "        [  151,    48,   793,     3,    64, 30589,    14,   110,     0],\n",
      "        [  440,     4,  6027,  3096,   253,    21, 21962,   107,     0],\n",
      "        [  142,     4,     0,     0,     0,     0,     0, 31616,     0],\n",
      "        [    0,   145,     0,     0,     0,     0,     0,   214, 31560]])\n",
      "Epoch end: Train, epoch number: 21\n",
      "TrainEpoch/CM\n",
      " tensor([[27061,    27,  1059,  2020,   257,     1,   149,   126,     0],\n",
      "        [    0, 32064,     0,   140,     1,     1,     1,     2,     0],\n",
      "        [  261,     9, 34685,   508,   247,   130,  2183,   122,     0],\n",
      "        [ 1591,    11,  1132, 27543,   493,     2,   908,   116,     0],\n",
      "        [  187,     4,   692,   164, 30662,     5,    15,    74,     0],\n",
      "        [  151,    48,   793,     3,    64, 30589,    14,   110,     0],\n",
      "        [  440,     4,  6027,  3096,   253,    21, 21962,   107,     0],\n",
      "        [  142,     4,     0,     0,     0,     0,     0, 31616,     0],\n",
      "        [    0,   145,     0,     0,     0,     0,     0,   214, 31560]])\n"
     ]
    },
    {
     "data": {
      "application/vnd.jupyter.widget-view+json": {
       "model_id": "5813f35ad2ef47ccb4ef7a069f0d35f6",
       "version_major": 2,
       "version_minor": 0
      },
      "text/plain": [
       "Validation: |          | 0/? [00:00<?, ?it/s]"
      ]
     },
     "metadata": {},
     "output_type": "display_data"
    },
    {
     "name": "stdout",
     "output_type": "stream",
     "text": [
      "Epoch end: Validation, epoch number: 23\n",
      "ValidationEpoch/CM\n",
      " tensor([[28451,    27,  1059,  2020,   257,     1,   149,   126,     0],\n",
      "        [    0, 33524,     0,   140,     1,     1,     1,     2,     0],\n",
      "        [  261,     9, 36369,   508,   247,   130,  2227,   122,     0],\n",
      "        [ 1591,    11,  1132, 28968,   494,     2,   922,   116,     0],\n",
      "        [  187,     4,   692,   164, 32102,     5,    15,    74,     0],\n",
      "        [  151,    48,   793,     3,    64, 32029,    14,   110,     0],\n",
      "        [  440,     4,  6051,  3171,   253,    21, 23308,   107,     0],\n",
      "        [  142,     4,     0,     0,     0,     0,     0, 33056,     0],\n",
      "        [    0,   145,     0,     0,     0,     0,     0,   214, 33005]])\n",
      "Epoch end: Train, epoch number: 22\n",
      "TrainEpoch/CM\n",
      " tensor([[28451,    27,  1059,  2020,   257,     1,   149,   126,     0],\n",
      "        [    0, 33524,     0,   140,     1,     1,     1,     2,     0],\n",
      "        [  261,     9, 36369,   508,   247,   130,  2227,   122,     0],\n",
      "        [ 1591,    11,  1132, 28968,   494,     2,   922,   116,     0],\n",
      "        [  187,     4,   692,   164, 32102,     5,    15,    74,     0],\n",
      "        [  151,    48,   793,     3,    64, 32029,    14,   110,     0],\n",
      "        [  440,     4,  6051,  3171,   253,    21, 23308,   107,     0],\n",
      "        [  142,     4,     0,     0,     0,     0,     0, 33056,     0],\n",
      "        [    0,   145,     0,     0,     0,     0,     0,   214, 33005]])\n"
     ]
    },
    {
     "data": {
      "application/vnd.jupyter.widget-view+json": {
       "model_id": "3ba17763feba40938b51d35812a2ab61",
       "version_major": 2,
       "version_minor": 0
      },
      "text/plain": [
       "Validation: |          | 0/? [00:00<?, ?it/s]"
      ]
     },
     "metadata": {},
     "output_type": "display_data"
    },
    {
     "name": "stdout",
     "output_type": "stream",
     "text": [
      "Epoch end: Validation, epoch number: 24\n",
      "ValidationEpoch/CM\n",
      " tensor([[29841,    27,  1059,  2020,   257,     1,   149,   126,     0],\n",
      "        [    0, 34984,     0,   140,     1,     1,     1,     2,     0],\n",
      "        [  261,     9, 38059,   508,   247,   130,  2265,   122,     0],\n",
      "        [ 1591,    11,  1132, 30377,   494,     2,   953,   116,     0],\n",
      "        [  187,     4,   692,   164, 33542,     5,    15,    74,     0],\n",
      "        [  151,    48,   793,     3,    64, 33469,    14,   110,     0],\n",
      "        [  440,     4,  6072,  3229,   253,    21, 24674,   107,     0],\n",
      "        [  142,     4,     0,     0,     0,     0,     0, 34496,     0],\n",
      "        [    0,   145,     0,     0,     0,     0,     0,   214, 34450]])\n",
      "Epoch end: Train, epoch number: 23\n",
      "TrainEpoch/CM\n",
      " tensor([[29841,    27,  1059,  2020,   257,     1,   149,   126,     0],\n",
      "        [    0, 34984,     0,   140,     1,     1,     1,     2,     0],\n",
      "        [  261,     9, 38059,   508,   247,   130,  2265,   122,     0],\n",
      "        [ 1591,    11,  1132, 30377,   494,     2,   953,   116,     0],\n",
      "        [  187,     4,   692,   164, 33542,     5,    15,    74,     0],\n",
      "        [  151,    48,   793,     3,    64, 33469,    14,   110,     0],\n",
      "        [  440,     4,  6072,  3229,   253,    21, 24674,   107,     0],\n",
      "        [  142,     4,     0,     0,     0,     0,     0, 34496,     0],\n",
      "        [    0,   145,     0,     0,     0,     0,     0,   214, 34450]])\n"
     ]
    },
    {
     "data": {
      "application/vnd.jupyter.widget-view+json": {
       "model_id": "15c96d2665944dd1ac1ee0c16ea58001",
       "version_major": 2,
       "version_minor": 0
      },
      "text/plain": [
       "Validation: |          | 0/? [00:00<?, ?it/s]"
      ]
     },
     "metadata": {},
     "output_type": "display_data"
    },
    {
     "name": "stdout",
     "output_type": "stream",
     "text": [
      "Epoch end: Validation, epoch number: 25\n",
      "ValidationEpoch/CM\n",
      " tensor([[31231,    27,  1059,  2020,   257,     1,   149,   126,     0],\n",
      "        [    0, 36444,     0,   140,     1,     1,     1,     2,     0],\n",
      "        [  261,     9, 39751,   508,   247,   130,  2301,   122,     0],\n",
      "        [ 1591,    11,  1132, 31792,   494,     2,   978,   116,     0],\n",
      "        [  187,     4,   692,   164, 34982,     5,    15,    74,     0],\n",
      "        [  151,    48,   793,     3,    64, 34909,    14,   110,     0],\n",
      "        [  440,     4,  6106,  3293,   253,    21, 26021,   107,     0],\n",
      "        [  142,     4,     0,     0,     0,     0,     0, 35936,     0],\n",
      "        [    0,   145,     0,     0,     0,     0,     0,   214, 35895]])\n",
      "Epoch end: Train, epoch number: 24\n",
      "TrainEpoch/CM\n",
      " tensor([[31231,    27,  1059,  2020,   257,     1,   149,   126,     0],\n",
      "        [    0, 36444,     0,   140,     1,     1,     1,     2,     0],\n",
      "        [  261,     9, 39751,   508,   247,   130,  2301,   122,     0],\n",
      "        [ 1591,    11,  1132, 31792,   494,     2,   978,   116,     0],\n",
      "        [  187,     4,   692,   164, 34982,     5,    15,    74,     0],\n",
      "        [  151,    48,   793,     3,    64, 34909,    14,   110,     0],\n",
      "        [  440,     4,  6106,  3293,   253,    21, 26021,   107,     0],\n",
      "        [  142,     4,     0,     0,     0,     0,     0, 35936,     0],\n",
      "        [    0,   145,     0,     0,     0,     0,     0,   214, 35895]])\n"
     ]
    },
    {
     "data": {
      "application/vnd.jupyter.widget-view+json": {
       "model_id": "38b005f471744bc483394dfb9301e813",
       "version_major": 2,
       "version_minor": 0
      },
      "text/plain": [
       "Validation: |          | 0/? [00:00<?, ?it/s]"
      ]
     },
     "metadata": {},
     "output_type": "display_data"
    },
    {
     "name": "stdout",
     "output_type": "stream",
     "text": [
      "Epoch end: Validation, epoch number: 26\n",
      "ValidationEpoch/CM\n",
      " tensor([[32621,    27,  1059,  2020,   257,     1,   149,   126,     0],\n",
      "        [    0, 37904,     0,   140,     1,     1,     1,     2,     0],\n",
      "        [  261,     9, 41443,   508,   247,   130,  2337,   122,     0],\n",
      "        [ 1591,    11,  1132, 33203,   494,     2,  1007,   116,     0],\n",
      "        [  187,     4,   692,   164, 36422,     5,    15,    74,     0],\n",
      "        [  151,    48,   793,     3,    64, 36349,    14,   110,     0],\n",
      "        [  440,     4,  6136,  3346,   253,    21, 27383,   107,     0],\n",
      "        [  142,     4,     0,     0,     0,     0,     0, 37376,     0],\n",
      "        [    0,   145,     0,     0,     0,     0,     0,   214, 37340]])\n"
     ]
    },
    {
     "name": "stderr",
     "output_type": "stream",
     "text": [
      "Metric Validation/Accuracy improved by 0.002 >= min_delta = 0.0. New best score: 0.990\n"
     ]
    },
    {
     "name": "stdout",
     "output_type": "stream",
     "text": [
      "Epoch end: Train, epoch number: 25\n",
      "TrainEpoch/CM\n",
      " tensor([[32621,    27,  1059,  2020,   257,     1,   149,   126,     0],\n",
      "        [    0, 37904,     0,   140,     1,     1,     1,     2,     0],\n",
      "        [  261,     9, 41443,   508,   247,   130,  2337,   122,     0],\n",
      "        [ 1591,    11,  1132, 33203,   494,     2,  1007,   116,     0],\n",
      "        [  187,     4,   692,   164, 36422,     5,    15,    74,     0],\n",
      "        [  151,    48,   793,     3,    64, 36349,    14,   110,     0],\n",
      "        [  440,     4,  6136,  3346,   253,    21, 27383,   107,     0],\n",
      "        [  142,     4,     0,     0,     0,     0,     0, 37376,     0],\n",
      "        [    0,   145,     0,     0,     0,     0,     0,   214, 37340]])\n"
     ]
    },
    {
     "data": {
      "application/vnd.jupyter.widget-view+json": {
       "model_id": "6d69cc3a80af4ae6b720fd8b98bb2fae",
       "version_major": 2,
       "version_minor": 0
      },
      "text/plain": [
       "Validation: |          | 0/? [00:00<?, ?it/s]"
      ]
     },
     "metadata": {},
     "output_type": "display_data"
    },
    {
     "name": "stdout",
     "output_type": "stream",
     "text": [
      "Epoch end: Validation, epoch number: 27\n",
      "ValidationEpoch/CM\n",
      " tensor([[34011,    27,  1059,  2020,   257,     1,   149,   126,     0],\n",
      "        [    0, 39364,     0,   140,     1,     1,     1,     2,     0],\n",
      "        [  261,     9, 43134,   508,   247,   130,  2374,   122,     0],\n",
      "        [ 1591,    11,  1132, 34619,   494,     2,  1031,   116,     0],\n",
      "        [  187,     4,   692,   164, 37862,     5,    15,    74,     0],\n",
      "        [  151,    48,   793,     3,    64, 37789,    14,   110,     0],\n",
      "        [  440,     4,  6165,  3401,   253,    21, 28744,   107,     0],\n",
      "        [  142,     4,     0,     0,     0,     0,     0, 38816,     0],\n",
      "        [    0,   145,     0,     0,     0,     0,     0,   214, 38785]])\n"
     ]
    },
    {
     "name": "stderr",
     "output_type": "stream",
     "text": [
      "Metric Validation/Accuracy improved by 0.001 >= min_delta = 0.0. New best score: 0.991\n"
     ]
    },
    {
     "name": "stdout",
     "output_type": "stream",
     "text": [
      "Epoch end: Train, epoch number: 26\n",
      "TrainEpoch/CM\n",
      " tensor([[34011,    27,  1059,  2020,   257,     1,   149,   126,     0],\n",
      "        [    0, 39364,     0,   140,     1,     1,     1,     2,     0],\n",
      "        [  261,     9, 43134,   508,   247,   130,  2374,   122,     0],\n",
      "        [ 1591,    11,  1132, 34619,   494,     2,  1031,   116,     0],\n",
      "        [  187,     4,   692,   164, 37862,     5,    15,    74,     0],\n",
      "        [  151,    48,   793,     3,    64, 37789,    14,   110,     0],\n",
      "        [  440,     4,  6165,  3401,   253,    21, 28744,   107,     0],\n",
      "        [  142,     4,     0,     0,     0,     0,     0, 38816,     0],\n",
      "        [    0,   145,     0,     0,     0,     0,     0,   214, 38785]])\n"
     ]
    },
    {
     "data": {
      "application/vnd.jupyter.widget-view+json": {
       "model_id": "7bd9930db4f848e7b6f8d67f3bbc7787",
       "version_major": 2,
       "version_minor": 0
      },
      "text/plain": [
       "Validation: |          | 0/? [00:00<?, ?it/s]"
      ]
     },
     "metadata": {},
     "output_type": "display_data"
    },
    {
     "name": "stdout",
     "output_type": "stream",
     "text": [
      "Epoch end: Validation, epoch number: 28\n",
      "ValidationEpoch/CM\n",
      " tensor([[35401,    27,  1059,  2020,   257,     1,   149,   126,     0],\n",
      "        [    0, 40824,     0,   140,     1,     1,     1,     2,     0],\n",
      "        [  261,     9, 44827,   508,   247,   130,  2409,   122,     0],\n",
      "        [ 1591,    11,  1132, 36022,   494,     2,  1068,   116,     0],\n",
      "        [  187,     4,   692,   164, 39302,     5,    15,    74,     0],\n",
      "        [  151,    48,   793,     3,    64, 39229,    14,   110,     0],\n",
      "        [  440,     4,  6175,  3446,   253,    21, 30134,   107,     0],\n",
      "        [  142,     4,     0,     0,     0,     0,     0, 40256,     0],\n",
      "        [    0,   145,     0,     0,     0,     0,     0,   214, 40230]])\n",
      "Epoch end: Train, epoch number: 27\n",
      "TrainEpoch/CM\n",
      " tensor([[35401,    27,  1059,  2020,   257,     1,   149,   126,     0],\n",
      "        [    0, 40824,     0,   140,     1,     1,     1,     2,     0],\n",
      "        [  261,     9, 44827,   508,   247,   130,  2409,   122,     0],\n",
      "        [ 1591,    11,  1132, 36022,   494,     2,  1068,   116,     0],\n",
      "        [  187,     4,   692,   164, 39302,     5,    15,    74,     0],\n",
      "        [  151,    48,   793,     3,    64, 39229,    14,   110,     0],\n",
      "        [  440,     4,  6175,  3446,   253,    21, 30134,   107,     0],\n",
      "        [  142,     4,     0,     0,     0,     0,     0, 40256,     0],\n",
      "        [    0,   145,     0,     0,     0,     0,     0,   214, 40230]])\n"
     ]
    },
    {
     "data": {
      "application/vnd.jupyter.widget-view+json": {
       "model_id": "4ab6ea7e780e4017b9f8edf57890a750",
       "version_major": 2,
       "version_minor": 0
      },
      "text/plain": [
       "Validation: |          | 0/? [00:00<?, ?it/s]"
      ]
     },
     "metadata": {},
     "output_type": "display_data"
    },
    {
     "name": "stdout",
     "output_type": "stream",
     "text": [
      "Epoch end: Validation, epoch number: 29\n",
      "ValidationEpoch/CM\n",
      " tensor([[36791,    27,  1059,  2020,   257,     1,   149,   126,     0],\n",
      "        [    0, 42284,     0,   140,     1,     1,     1,     2,     0],\n",
      "        [  261,     9, 46521,   508,   247,   130,  2443,   122,     0],\n",
      "        [ 1591,    11,  1132, 37443,   494,     2,  1087,   116,     0],\n",
      "        [  187,     4,   692,   164, 40742,     5,    15,    74,     0],\n",
      "        [  151,    48,   793,     3,    64, 40669,    14,   110,     0],\n",
      "        [  440,     4,  6187,  3492,   253,    21, 31521,   107,     0],\n",
      "        [  142,     4,     0,     0,     0,     0,     0, 41696,     0],\n",
      "        [    0,   145,     0,     0,     0,     0,     0,   214, 41675]])\n"
     ]
    },
    {
     "name": "stderr",
     "output_type": "stream",
     "text": [
      "Metric Validation/Accuracy improved by 0.002 >= min_delta = 0.0. New best score: 0.993\n"
     ]
    },
    {
     "name": "stdout",
     "output_type": "stream",
     "text": [
      "Epoch end: Train, epoch number: 28\n",
      "TrainEpoch/CM\n",
      " tensor([[36791,    27,  1059,  2020,   257,     1,   149,   126,     0],\n",
      "        [    0, 42284,     0,   140,     1,     1,     1,     2,     0],\n",
      "        [  261,     9, 46521,   508,   247,   130,  2443,   122,     0],\n",
      "        [ 1591,    11,  1132, 37443,   494,     2,  1087,   116,     0],\n",
      "        [  187,     4,   692,   164, 40742,     5,    15,    74,     0],\n",
      "        [  151,    48,   793,     3,    64, 40669,    14,   110,     0],\n",
      "        [  440,     4,  6187,  3492,   253,    21, 31521,   107,     0],\n",
      "        [  142,     4,     0,     0,     0,     0,     0, 41696,     0],\n",
      "        [    0,   145,     0,     0,     0,     0,     0,   214, 41675]])\n"
     ]
    },
    {
     "data": {
      "application/vnd.jupyter.widget-view+json": {
       "model_id": "6f7e40df1f414eb6af2aebc73b452ed7",
       "version_major": 2,
       "version_minor": 0
      },
      "text/plain": [
       "Validation: |          | 0/? [00:00<?, ?it/s]"
      ]
     },
     "metadata": {},
     "output_type": "display_data"
    },
    {
     "name": "stdout",
     "output_type": "stream",
     "text": [
      "Epoch end: Validation, epoch number: 30\n",
      "ValidationEpoch/CM\n",
      " tensor([[38181,    27,  1059,  2020,   257,     1,   149,   126,     0],\n",
      "        [    0, 43744,     0,   140,     1,     1,     1,     2,     0],\n",
      "        [  261,     9, 48212,   508,   247,   130,  2480,   122,     0],\n",
      "        [ 1591,    11,  1132, 38846,   494,     2,  1124,   116,     0],\n",
      "        [  187,     4,   692,   164, 42182,     5,    15,    74,     0],\n",
      "        [  151,    48,   793,     3,    64, 42109,    14,   110,     0],\n",
      "        [  440,     4,  6201,  3530,   253,    21, 32914,   107,     0],\n",
      "        [  142,     4,     0,     0,     0,     0,     0, 43136,     0],\n",
      "        [    0,   145,     0,     0,     0,     0,     0,   214, 43120]])\n",
      "Epoch end: Train, epoch number: 29\n",
      "TrainEpoch/CM\n",
      " tensor([[38181,    27,  1059,  2020,   257,     1,   149,   126,     0],\n",
      "        [    0, 43744,     0,   140,     1,     1,     1,     2,     0],\n",
      "        [  261,     9, 48212,   508,   247,   130,  2480,   122,     0],\n",
      "        [ 1591,    11,  1132, 38846,   494,     2,  1124,   116,     0],\n",
      "        [  187,     4,   692,   164, 42182,     5,    15,    74,     0],\n",
      "        [  151,    48,   793,     3,    64, 42109,    14,   110,     0],\n",
      "        [  440,     4,  6201,  3530,   253,    21, 32914,   107,     0],\n",
      "        [  142,     4,     0,     0,     0,     0,     0, 43136,     0],\n",
      "        [    0,   145,     0,     0,     0,     0,     0,   214, 43120]])\n"
     ]
    },
    {
     "data": {
      "application/vnd.jupyter.widget-view+json": {
       "model_id": "4e190ac7dafc4c128fd35b93d346d9fb",
       "version_major": 2,
       "version_minor": 0
      },
      "text/plain": [
       "Validation: |          | 0/? [00:00<?, ?it/s]"
      ]
     },
     "metadata": {},
     "output_type": "display_data"
    },
    {
     "name": "stdout",
     "output_type": "stream",
     "text": [
      "Epoch end: Validation, epoch number: 31\n",
      "ValidationEpoch/CM\n",
      " tensor([[39571,    27,  1059,  2020,   257,     1,   149,   126,     0],\n",
      "        [    0, 45204,     0,   140,     1,     1,     1,     2,     0],\n",
      "        [  261,     9, 49897,   508,   247,   130,  2523,   122,     0],\n",
      "        [ 1591,    11,  1132, 40258,   494,     2,  1152,   116,     0],\n",
      "        [  187,     4,   692,   164, 43622,     5,    15,    74,     0],\n",
      "        [  151,    48,   793,     3,    64, 43549,    14,   110,     0],\n",
      "        [  440,     4,  6223,  3580,   253,    21, 34287,   107,     0],\n",
      "        [  142,     4,     0,     0,     0,     0,     0, 44576,     0],\n",
      "        [    0,   145,     0,     0,     0,     0,     0,   214, 44565]])\n",
      "Epoch end: Train, epoch number: 30\n",
      "TrainEpoch/CM\n",
      " tensor([[39571,    27,  1059,  2020,   257,     1,   149,   126,     0],\n",
      "        [    0, 45204,     0,   140,     1,     1,     1,     2,     0],\n",
      "        [  261,     9, 49897,   508,   247,   130,  2523,   122,     0],\n",
      "        [ 1591,    11,  1132, 40258,   494,     2,  1152,   116,     0],\n",
      "        [  187,     4,   692,   164, 43622,     5,    15,    74,     0],\n",
      "        [  151,    48,   793,     3,    64, 43549,    14,   110,     0],\n",
      "        [  440,     4,  6223,  3580,   253,    21, 34287,   107,     0],\n",
      "        [  142,     4,     0,     0,     0,     0,     0, 44576,     0],\n",
      "        [    0,   145,     0,     0,     0,     0,     0,   214, 44565]])\n"
     ]
    },
    {
     "data": {
      "application/vnd.jupyter.widget-view+json": {
       "model_id": "6f2beb5d3ede4952849ede2ff87a2b0b",
       "version_major": 2,
       "version_minor": 0
      },
      "text/plain": [
       "Validation: |          | 0/? [00:00<?, ?it/s]"
      ]
     },
     "metadata": {},
     "output_type": "display_data"
    },
    {
     "name": "stdout",
     "output_type": "stream",
     "text": [
      "Epoch end: Validation, epoch number: 32\n",
      "ValidationEpoch/CM\n",
      " tensor([[40961,    27,  1059,  2020,   257,     1,   149,   126,     0],\n",
      "        [    0, 46664,     0,   140,     1,     1,     1,     2,     0],\n",
      "        [  261,     9, 51595,   508,   247,   130,  2553,   122,     0],\n",
      "        [ 1591,    11,  1132, 41682,   494,     2,  1168,   116,     0],\n",
      "        [  187,     4,   692,   164, 45062,     5,    15,    74,     0],\n",
      "        [  151,    48,   793,     3,    64, 44989,    14,   110,     0],\n",
      "        [  440,     4,  6242,  3630,   253,    21, 35663,   107,     0],\n",
      "        [  142,     4,     0,     0,     0,     0,     0, 46016,     0],\n",
      "        [    0,   145,     0,     0,     0,     0,     0,   214, 46010]])\n",
      "Epoch end: Train, epoch number: 31\n",
      "TrainEpoch/CM\n",
      " tensor([[40961,    27,  1059,  2020,   257,     1,   149,   126,     0],\n",
      "        [    0, 46664,     0,   140,     1,     1,     1,     2,     0],\n",
      "        [  261,     9, 51595,   508,   247,   130,  2553,   122,     0],\n",
      "        [ 1591,    11,  1132, 41682,   494,     2,  1168,   116,     0],\n",
      "        [  187,     4,   692,   164, 45062,     5,    15,    74,     0],\n",
      "        [  151,    48,   793,     3,    64, 44989,    14,   110,     0],\n",
      "        [  440,     4,  6242,  3630,   253,    21, 35663,   107,     0],\n",
      "        [  142,     4,     0,     0,     0,     0,     0, 46016,     0],\n",
      "        [    0,   145,     0,     0,     0,     0,     0,   214, 46010]])\n"
     ]
    },
    {
     "data": {
      "application/vnd.jupyter.widget-view+json": {
       "model_id": "419bb2416bc043268931ddda82b9d181",
       "version_major": 2,
       "version_minor": 0
      },
      "text/plain": [
       "Validation: |          | 0/? [00:00<?, ?it/s]"
      ]
     },
     "metadata": {},
     "output_type": "display_data"
    },
    {
     "name": "stdout",
     "output_type": "stream",
     "text": [
      "Epoch end: Validation, epoch number: 33\n",
      "ValidationEpoch/CM\n",
      " tensor([[42351,    27,  1059,  2020,   257,     1,   149,   126,     0],\n",
      "        [    0, 48124,     0,   140,     1,     1,     1,     2,     0],\n",
      "        [  261,     9, 53291,   508,   247,   130,  2585,   122,     0],\n",
      "        [ 1591,    11,  1132, 43107,   494,     2,  1183,   116,     0],\n",
      "        [  187,     4,   692,   164, 46502,     5,    15,    74,     0],\n",
      "        [  151,    48,   793,     3,    64, 46429,    14,   110,     0],\n",
      "        [  440,     4,  6259,  3669,   253,    21, 37052,   107,     0],\n",
      "        [  142,     4,     0,     0,     0,     0,     0, 47456,     0],\n",
      "        [    0,   145,     0,     0,     0,     0,     0,   214, 47455]])\n",
      "Epoch end: Train, epoch number: 32\n",
      "TrainEpoch/CM\n",
      " tensor([[42351,    27,  1059,  2020,   257,     1,   149,   126,     0],\n",
      "        [    0, 48124,     0,   140,     1,     1,     1,     2,     0],\n",
      "        [  261,     9, 53291,   508,   247,   130,  2585,   122,     0],\n",
      "        [ 1591,    11,  1132, 43107,   494,     2,  1183,   116,     0],\n",
      "        [  187,     4,   692,   164, 46502,     5,    15,    74,     0],\n",
      "        [  151,    48,   793,     3,    64, 46429,    14,   110,     0],\n",
      "        [  440,     4,  6259,  3669,   253,    21, 37052,   107,     0],\n",
      "        [  142,     4,     0,     0,     0,     0,     0, 47456,     0],\n",
      "        [    0,   145,     0,     0,     0,     0,     0,   214, 47455]])\n"
     ]
    },
    {
     "name": "stderr",
     "output_type": "stream",
     "text": [
      "Metric Validation/Accuracy improved by 0.002 >= min_delta = 0.0. New best score: 0.995\n"
     ]
    },
    {
     "data": {
      "application/vnd.jupyter.widget-view+json": {
       "model_id": "dce556c7ba7b4a1b8856a7da38eb7d7c",
       "version_major": 2,
       "version_minor": 0
      },
      "text/plain": [
       "Validation: |          | 0/? [00:00<?, ?it/s]"
      ]
     },
     "metadata": {},
     "output_type": "display_data"
    },
    {
     "name": "stdout",
     "output_type": "stream",
     "text": [
      "Epoch end: Validation, epoch number: 34\n",
      "ValidationEpoch/CM\n",
      " tensor([[43741,    27,  1059,  2020,   257,     1,   149,   126,     0],\n",
      "        [    0, 49584,     0,   140,     1,     1,     1,     2,     0],\n",
      "        [  261,     9, 54945,   508,   247,   130,  2659,   122,     0],\n",
      "        [ 1591,    11,  1132, 44490,   494,     2,  1240,   116,     0],\n",
      "        [  187,     4,   692,   164, 47942,     5,    15,    74,     0],\n",
      "        [  151,    48,   793,     3,    64, 47869,    14,   110,     0],\n",
      "        [  440,     4,  6283,  3713,   253,    21, 38429,   107,     0],\n",
      "        [  142,     4,     0,     0,     0,     0,     0, 48896,     0],\n",
      "        [    0,   145,     0,     0,     0,     0,     0,   214, 48900]])\n",
      "Epoch end: Train, epoch number: 33\n",
      "TrainEpoch/CM\n",
      " tensor([[43741,    27,  1059,  2020,   257,     1,   149,   126,     0],\n",
      "        [    0, 49584,     0,   140,     1,     1,     1,     2,     0],\n",
      "        [  261,     9, 54945,   508,   247,   130,  2659,   122,     0],\n",
      "        [ 1591,    11,  1132, 44490,   494,     2,  1240,   116,     0],\n",
      "        [  187,     4,   692,   164, 47942,     5,    15,    74,     0],\n",
      "        [  151,    48,   793,     3,    64, 47869,    14,   110,     0],\n",
      "        [  440,     4,  6283,  3713,   253,    21, 38429,   107,     0],\n",
      "        [  142,     4,     0,     0,     0,     0,     0, 48896,     0],\n",
      "        [    0,   145,     0,     0,     0,     0,     0,   214, 48900]])\n"
     ]
    },
    {
     "data": {
      "application/vnd.jupyter.widget-view+json": {
       "model_id": "3d5323a7e8564103a859e0282d4270d2",
       "version_major": 2,
       "version_minor": 0
      },
      "text/plain": [
       "Validation: |          | 0/? [00:00<?, ?it/s]"
      ]
     },
     "metadata": {},
     "output_type": "display_data"
    },
    {
     "name": "stdout",
     "output_type": "stream",
     "text": [
      "Epoch end: Validation, epoch number: 35\n",
      "ValidationEpoch/CM\n",
      " tensor([[45131,    27,  1059,  2020,   257,     1,   149,   126,     0],\n",
      "        [    0, 51044,     0,   140,     1,     1,     1,     2,     0],\n",
      "        [  261,     9, 56622,   508,   247,   130,  2710,   122,     0],\n",
      "        [ 1591,    11,  1132, 45905,   494,     2,  1265,   116,     0],\n",
      "        [  187,     4,   692,   164, 49382,     5,    15,    74,     0],\n",
      "        [  151,    48,   793,     3,    64, 49309,    14,   110,     0],\n",
      "        [  440,     4,  6322,  3765,   253,    21, 39783,   107,     0],\n",
      "        [  142,     4,     0,     0,     0,     0,     0, 50336,     0],\n",
      "        [    0,   145,     0,     0,     0,     0,     0,   214, 50345]])\n",
      "Epoch end: Train, epoch number: 34\n",
      "TrainEpoch/CM\n",
      " tensor([[45131,    27,  1059,  2020,   257,     1,   149,   126,     0],\n",
      "        [    0, 51044,     0,   140,     1,     1,     1,     2,     0],\n",
      "        [  261,     9, 56622,   508,   247,   130,  2710,   122,     0],\n",
      "        [ 1591,    11,  1132, 45905,   494,     2,  1265,   116,     0],\n",
      "        [  187,     4,   692,   164, 49382,     5,    15,    74,     0],\n",
      "        [  151,    48,   793,     3,    64, 49309,    14,   110,     0],\n",
      "        [  440,     4,  6322,  3765,   253,    21, 39783,   107,     0],\n",
      "        [  142,     4,     0,     0,     0,     0,     0, 50336,     0],\n",
      "        [    0,   145,     0,     0,     0,     0,     0,   214, 50345]])\n"
     ]
    },
    {
     "data": {
      "application/vnd.jupyter.widget-view+json": {
       "model_id": "88160e5ee0664ecfab1813033681a704",
       "version_major": 2,
       "version_minor": 0
      },
      "text/plain": [
       "Validation: |          | 0/? [00:00<?, ?it/s]"
      ]
     },
     "metadata": {},
     "output_type": "display_data"
    },
    {
     "name": "stdout",
     "output_type": "stream",
     "text": [
      "Epoch end: Validation, epoch number: 36\n",
      "ValidationEpoch/CM\n",
      " tensor([[46521,    27,  1059,  2020,   257,     1,   149,   126,     0],\n",
      "        [    0, 52504,     0,   140,     1,     1,     1,     2,     0],\n",
      "        [  261,     9, 58318,   508,   247,   130,  2742,   122,     0],\n",
      "        [ 1591,    11,  1132, 47329,   494,     2,  1281,   116,     0],\n",
      "        [  187,     4,   692,   164, 50822,     5,    15,    74,     0],\n",
      "        [  151,    48,   793,     3,    64, 50749,    14,   110,     0],\n",
      "        [  440,     4,  6335,  3804,   253,    21, 41176,   107,     0],\n",
      "        [  142,     4,     0,     0,     0,     0,     0, 51776,     0],\n",
      "        [    0,   145,     0,     0,     0,     0,     0,   214, 51790]])\n",
      "Epoch end: Train, epoch number: 35\n",
      "TrainEpoch/CM\n",
      " tensor([[46521,    27,  1059,  2020,   257,     1,   149,   126,     0],\n",
      "        [    0, 52504,     0,   140,     1,     1,     1,     2,     0],\n",
      "        [  261,     9, 58318,   508,   247,   130,  2742,   122,     0],\n",
      "        [ 1591,    11,  1132, 47329,   494,     2,  1281,   116,     0],\n",
      "        [  187,     4,   692,   164, 50822,     5,    15,    74,     0],\n",
      "        [  151,    48,   793,     3,    64, 50749,    14,   110,     0],\n",
      "        [  440,     4,  6335,  3804,   253,    21, 41176,   107,     0],\n",
      "        [  142,     4,     0,     0,     0,     0,     0, 51776,     0],\n",
      "        [    0,   145,     0,     0,     0,     0,     0,   214, 51790]])\n"
     ]
    },
    {
     "data": {
      "application/vnd.jupyter.widget-view+json": {
       "model_id": "f0c2bf2be05f4b0d84c27d77ee32a691",
       "version_major": 2,
       "version_minor": 0
      },
      "text/plain": [
       "Validation: |          | 0/? [00:00<?, ?it/s]"
      ]
     },
     "metadata": {},
     "output_type": "display_data"
    },
    {
     "name": "stdout",
     "output_type": "stream",
     "text": [
      "Epoch end: Validation, epoch number: 37\n",
      "ValidationEpoch/CM\n",
      " tensor([[47911,    27,  1059,  2020,   257,     1,   149,   126,     0],\n",
      "        [    0, 53964,     0,   140,     1,     1,     1,     2,     0],\n",
      "        [  261,     9, 60017,   508,   247,   130,  2771,   122,     0],\n",
      "        [ 1591,    11,  1132, 48754,   494,     2,  1296,   116,     0],\n",
      "        [  187,     4,   692,   164, 52262,     5,    15,    74,     0],\n",
      "        [  151,    48,   793,     3,    64, 52189,    14,   110,     0],\n",
      "        [  440,     4,  6347,  3835,   253,    21, 42578,   107,     0],\n",
      "        [  142,     4,     0,     0,     0,     0,     0, 53216,     0],\n",
      "        [    0,   145,     0,     0,     0,     0,     0,   214, 53235]])\n",
      "Epoch end: Train, epoch number: 36\n",
      "TrainEpoch/CM\n",
      " tensor([[47911,    27,  1059,  2020,   257,     1,   149,   126,     0],\n",
      "        [    0, 53964,     0,   140,     1,     1,     1,     2,     0],\n",
      "        [  261,     9, 60017,   508,   247,   130,  2771,   122,     0],\n",
      "        [ 1591,    11,  1132, 48754,   494,     2,  1296,   116,     0],\n",
      "        [  187,     4,   692,   164, 52262,     5,    15,    74,     0],\n",
      "        [  151,    48,   793,     3,    64, 52189,    14,   110,     0],\n",
      "        [  440,     4,  6347,  3835,   253,    21, 42578,   107,     0],\n",
      "        [  142,     4,     0,     0,     0,     0,     0, 53216,     0],\n",
      "        [    0,   145,     0,     0,     0,     0,     0,   214, 53235]])\n"
     ]
    },
    {
     "data": {
      "application/vnd.jupyter.widget-view+json": {
       "model_id": "51363f5998c243a3af339a5254bdb0de",
       "version_major": 2,
       "version_minor": 0
      },
      "text/plain": [
       "Validation: |          | 0/? [00:00<?, ?it/s]"
      ]
     },
     "metadata": {},
     "output_type": "display_data"
    },
    {
     "name": "stdout",
     "output_type": "stream",
     "text": [
      "Epoch end: Validation, epoch number: 38\n",
      "ValidationEpoch/CM\n",
      " tensor([[49301,    27,  1059,  2020,   257,     1,   149,   126,     0],\n",
      "        [    0, 55424,     0,   140,     1,     1,     1,     2,     0],\n",
      "        [  261,     9, 61716,   508,   247,   130,  2800,   122,     0],\n",
      "        [ 1591,    11,  1132, 50180,   494,     2,  1310,   116,     0],\n",
      "        [  187,     4,   692,   164, 53702,     5,    15,    74,     0],\n",
      "        [  151,    48,   793,     3,    64, 53629,    14,   110,     0],\n",
      "        [  440,     4,  6359,  3867,   253,    21, 43979,   107,     0],\n",
      "        [  142,     4,     0,     0,     0,     0,     0, 54656,     0],\n",
      "        [    0,   145,     0,     0,     0,     0,     0,   214, 54680]])\n"
     ]
    },
    {
     "name": "stderr",
     "output_type": "stream",
     "text": [
      "Monitored metric Validation/Accuracy did not improve in the last 5 records. Best score: 0.995. Signaling Trainer to stop.\n"
     ]
    },
    {
     "name": "stdout",
     "output_type": "stream",
     "text": [
      "Epoch end: Train, epoch number: 37\n",
      "TrainEpoch/CM\n",
      " tensor([[49301,    27,  1059,  2020,   257,     1,   149,   126,     0],\n",
      "        [    0, 55424,     0,   140,     1,     1,     1,     2,     0],\n",
      "        [  261,     9, 61716,   508,   247,   130,  2800,   122,     0],\n",
      "        [ 1591,    11,  1132, 50180,   494,     2,  1310,   116,     0],\n",
      "        [  187,     4,   692,   164, 53702,     5,    15,    74,     0],\n",
      "        [  151,    48,   793,     3,    64, 53629,    14,   110,     0],\n",
      "        [  440,     4,  6359,  3867,   253,    21, 43979,   107,     0],\n",
      "        [  142,     4,     0,     0,     0,     0,     0, 54656,     0],\n",
      "        [    0,   145,     0,     0,     0,     0,     0,   214, 54680]])\n"
     ]
    }
   ],
   "source": [
    "\n",
    "trainer.fit(model=model, train_dataloaders=train_dataloader, val_dataloaders=val_dataloader)\n"
   ]
  },
  {
   "cell_type": "code",
   "execution_count": 39,
   "metadata": {},
   "outputs": [
    {
     "name": "stderr",
     "output_type": "stream",
     "text": [
      "LOCAL_RANK: 0 - CUDA_VISIBLE_DEVICES: [0]\n"
     ]
    },
    {
     "name": "stdout",
     "output_type": "stream",
     "text": [
      "/home/<User>/repos/csg_is/training/official_logs/multi-layer_30_from_weights_50s/version_0/checkpoints/epoch=32-step=726.ckpt\n",
      "tensor(0.9952, device='cuda:0')\n"
     ]
    },
    {
     "data": {
      "application/vnd.jupyter.widget-view+json": {
       "model_id": "adc29d8958314e41894eb7533f2988d7",
       "version_major": 2,
       "version_minor": 0
      },
      "text/plain": [
       "Testing: |          | 0/? [00:00<?, ?it/s]"
      ]
     },
     "metadata": {},
     "output_type": "display_data"
    },
    {
     "name": "stdout",
     "output_type": "stream",
     "text": [
      "Epoch end: Test, epoch number: 0\n",
      "TestEpoch/CM\n",
      " tensor([[297,   0,   0,   0,   0,   0,   0,   0,   0],\n",
      "        [  0, 271,   0,   0,   0,   0,   0,   0,   0],\n",
      "        [  0,   0, 356,   0,   0,   0,   6,   0,   0],\n",
      "        [  0,   0,   0, 277,   0,   0,   2,   0,   0],\n",
      "        [  0,   0,   0,   0, 314,   0,   0,   0,   0],\n",
      "        [  0,   0,   0,   0,   0, 249,   0,   0,   0],\n",
      "        [  0,   0,   1,   5,   0,   0, 290,   0,   0],\n",
      "        [  0,   0,   0,   0,   0,   0,   0, 274,   0],\n",
      "        [  0,   0,   0,   0,   0,   0,   0,   0, 304]])\n",
      "────────────────────────────────────────────────────────────────────────────────────────────────────────────────────────\n",
      "       Test metric             DataLoader 0\n",
      "────────────────────────────────────────────────────────────────────────────────────────────────────────────────────────\n",
      "      Test/Accuracy         0.9951998591423035\n",
      "      Test/F1Score          0.9948402047157288\n",
      "        Test/Loss          0.022838648408651352\n",
      "     Test/Precision         0.9945777654647827\n",
      "       Test/Recall          0.9951998591423035\n",
      "   TestEpoch/Accuracy       0.9951096773147583\n",
      "    TestEpoch/F1Score       0.9949131011962891\n",
      "   TestEpoch/Precision      0.9947358965873718\n",
      "    TestEpoch/Recall        0.9951096773147583\n",
      "────────────────────────────────────────────────────────────────────────────────────────────────────────────────────────\n"
     ]
    },
    {
     "data": {
      "text/plain": [
       "[{'Test/Loss': 0.022838648408651352,\n",
       "  'Test/Accuracy': 0.9951998591423035,\n",
       "  'Test/Precision': 0.9945777654647827,\n",
       "  'Test/Recall': 0.9951998591423035,\n",
       "  'Test/F1Score': 0.9948402047157288,\n",
       "  'TestEpoch/Accuracy': 0.9951096773147583,\n",
       "  'TestEpoch/Precision': 0.9947358965873718,\n",
       "  'TestEpoch/Recall': 0.9951096773147583,\n",
       "  'TestEpoch/F1Score': 0.9949131011962891}]"
      ]
     },
     "execution_count": 39,
     "metadata": {},
     "output_type": "execute_result"
    }
   ],
   "source": [
    "\n",
    "print(checkpoint_callback.best_model_path)   # prints path to the best model's checkpoint\n",
    "print(checkpoint_callback.best_model_score) # and prints it score\n",
    "best_model = MalwaresModelMLP.load_from_checkpoint(checkpoint_callback.best_model_path, input_size = subset.shape[1]-1, output_size = len(label_encoder.classes_))\n",
    "\n",
    "trainer.test(best_model, dataloaders=val_dataloader)"
   ]
  },
  {
   "cell_type": "code",
   "execution_count": 40,
   "metadata": {},
   "outputs": [],
   "source": [
    "subset.columns.to_frame().to_csv(f\"weight_selected_{TIME_WINDOW}.csv\", index=False)"
   ]
  }
 ],
 "metadata": {
  "kernelspec": {
   "display_name": ".venv",
   "language": "python",
   "name": "python3"
  },
  "language_info": {
   "codemirror_mode": {
    "name": "ipython",
    "version": 3
   },
   "file_extension": ".py",
   "mimetype": "text/x-python",
   "name": "python",
   "nbconvert_exporter": "python",
   "pygments_lexer": "ipython3",
   "version": "3.10.12"
  }
 },
 "nbformat": 4,
 "nbformat_minor": 2
}
