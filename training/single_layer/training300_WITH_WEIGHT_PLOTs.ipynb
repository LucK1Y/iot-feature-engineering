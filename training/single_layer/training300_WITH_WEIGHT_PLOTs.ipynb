{
 "cells": [
  {
   "cell_type": "markdown",
   "metadata": {},
   "source": [
    "# Idea\n",
    "Do some training"
   ]
  },
  {
   "cell_type": "code",
   "execution_count": 1,
   "metadata": {},
   "outputs": [],
   "source": [
    "SEED = 133"
   ]
  },
  {
   "cell_type": "code",
   "execution_count": 2,
   "metadata": {},
   "outputs": [],
   "source": [
    "from pathlib import Path\n",
    "\n",
    "import numpy as np\n",
    "import pandas as pd\n",
    "import pickle"
   ]
  },
  {
   "cell_type": "code",
   "execution_count": 3,
   "metadata": {},
   "outputs": [],
   "source": [
    "import sys\n",
    "repo_base_path = Path(\"./../../\").resolve()\n",
    "assert str(repo_base_path).endswith(\"csg_is\"), f\"{repo_base_path} is not a valid path to the CSG_IS repository\" \n",
    "\n",
    "sys.path.append(str(repo_base_path))\n",
    "\n",
    "# from py_dataset import get_all_files_df\n",
    "# from py_dataset import read_in_files\n",
    "from py_dataset import feature_plotting\n",
    "# from py_dataset import feature_selection\n",
    "# from py_dataset import net_feature_engineering\n",
    "# from py_dataset import entropy_feature_engineering\n",
    "# from py_dataset.classes import DataSource\n",
    "from py_dataset import sys_func\n",
    "\n",
    "from py_dataset.classes import DataSource\n",
    "\n"
   ]
  },
  {
   "cell_type": "code",
   "execution_count": 4,
   "metadata": {},
   "outputs": [],
   "source": [
    "LOG_PATH = (repo_base_path / \"training\" / \"official_logs\")\n",
    "LOG_NAME = \"single-layer_300\"\n",
    "LOG_NAME_EXPERIMENT_2 = \"single-layer_30_from_weights\"\n",
    "LOG_NAME_EXPERIMENT_3 = \"multi-layer_30_from_weights\""
   ]
  },
  {
   "cell_type": "code",
   "execution_count": 5,
   "metadata": {},
   "outputs": [],
   "source": [
    "df = pd.read_csv('../data/all_df.csv')\n",
    "df.set_index(\"timestamp\", inplace=True)"
   ]
  },
  {
   "cell_type": "code",
   "execution_count": 6,
   "metadata": {},
   "outputs": [
    {
     "data": {
      "text/plain": [
       "array(['1_normal', nan, '2_ransomware', '3_thetick', '4_bashlite',\n",
       "       '5_httpbackdoor', '6_beurk', '7_backdoor', '8_bdvl', '9_xmrig'],\n",
       "      dtype=object)"
      ]
     },
     "execution_count": 6,
     "metadata": {},
     "output_type": "execute_result"
    }
   ],
   "source": [
    "df[\"label\"].unique()"
   ]
  },
  {
   "cell_type": "markdown",
   "metadata": {},
   "source": [
    "### Preprocessings\n",
    "- remove Null values\n",
    "- drop timestamp\n",
    "- labelEncode\n",
    "- normalize"
   ]
  },
  {
   "cell_type": "code",
   "execution_count": 7,
   "metadata": {},
   "outputs": [
    {
     "name": "stdout",
     "output_type": "stream",
     "text": [
      "(43248, 306)\n",
      "(25770, 306)\n"
     ]
    }
   ],
   "source": [
    "print(df.shape)\n",
    "old_df = df.copy()\n",
    "df.dropna(axis=0, how='any', inplace=True)\n",
    "\n",
    "print(df.shape)"
   ]
  },
  {
   "cell_type": "code",
   "execution_count": 8,
   "metadata": {},
   "outputs": [],
   "source": [
    "df.reset_index(inplace=True, drop=True)"
   ]
  },
  {
   "cell_type": "code",
   "execution_count": 9,
   "metadata": {},
   "outputs": [],
   "source": [
    "label_encoder = sys_func.create_label_encoder_for_labels()\n",
    "df['label'] = label_encoder.transform(df['label'])"
   ]
  },
  {
   "cell_type": "code",
   "execution_count": 10,
   "metadata": {},
   "outputs": [],
   "source": [
    "df = feature_plotting.test_transform_all_to_numeric_columns(df)"
   ]
  },
  {
   "cell_type": "code",
   "execution_count": 11,
   "metadata": {},
   "outputs": [],
   "source": [
    "cols_to_exclude_from_scaling = [\"label\"]\n",
    "vectors = feature_plotting.minmax_scale_features(df,remove_outliers_iqr_all_columns=False,\n",
    "                                                        cols_to_exclude_from_scaling=cols_to_exclude_from_scaling)\n",
    "# print(vectors.shape)\n",
    "# print(\" with dropped null: \", vectors.dropna(axis=0, how='any', inplace=False).shape)"
   ]
  },
  {
   "cell_type": "code",
   "execution_count": 12,
   "metadata": {},
   "outputs": [
    {
     "data": {
      "text/plain": [
       "(array([0, 1, 2, 3, 4, 5, 6, 7, 8]), array([0, 1, 2, 3, 4, 5, 6, 7, 8]))"
      ]
     },
     "execution_count": 12,
     "metadata": {},
     "output_type": "execute_result"
    }
   ],
   "source": [
    "df[\"label\"].unique(), vectors[\"label\"].unique()"
   ]
  },
  {
   "cell_type": "markdown",
   "metadata": {},
   "source": [
    "### Setup"
   ]
  },
  {
   "cell_type": "code",
   "execution_count": 13,
   "metadata": {},
   "outputs": [],
   "source": [
    "from torch.utils.data import Dataset, DataLoader\n",
    "import torch\n",
    "\n",
    "class CustomeDataset(Dataset):\n",
    "    def __init__(self, some_df:pd.DataFrame):\n",
    "        \n",
    "        self.x = torch.tensor(some_df.drop(columns=[\"label\"], inplace=False).values, dtype=torch.float32)\n",
    "        self.labels = torch.tensor(some_df[\"label\"].values, dtype=torch.uint8)\n",
    "\n",
    "    def __len__(self):\n",
    "        return len(self.x)\n",
    "\n",
    "    def __getitem__(self, idx):\n",
    "        # if torch.is_tensor(idx):\n",
    "        #     idx = idx.tolist()\n",
    "        # print(self.x[idx], self.labels[idx])\n",
    "        return self.x[idx], self.labels[idx]"
   ]
  },
  {
   "cell_type": "code",
   "execution_count": null,
   "metadata": {},
   "outputs": [],
   "source": []
  },
  {
   "cell_type": "code",
   "execution_count": 14,
   "metadata": {},
   "outputs": [
    {
     "name": "stderr",
     "output_type": "stream",
     "text": [
      "GPU available: True (cuda), used: True\n",
      "TPU available: False, using: 0 TPU cores\n",
      "IPU available: False, using: 0 IPUs\n",
      "HPU available: False, using: 0 HPUs\n"
     ]
    }
   ],
   "source": [
    "from mlp_single_layer import MalwaresModelLinearLayer\n",
    "from torch.utils.data import DataLoader\n",
    "import lightning\n",
    "from sklearn.model_selection import train_test_split\n",
    "from lightning import loggers as pl_loggers\n",
    "from lightning.pytorch.callbacks.early_stopping import EarlyStopping\n",
    "from lightning.pytorch.callbacks.model_checkpoint import ModelCheckpoint\n",
    "\n",
    "tensorboard = pl_loggers.TensorBoardLogger(save_dir=LOG_PATH, name=LOG_NAME)\n",
    "\n",
    "# split into train and val\n",
    "train, val = train_test_split(vectors, test_size=0.2, random_state=SEED)\n",
    "\n",
    "train_dataset = CustomeDataset(train)\n",
    "train_dataloader = DataLoader(train_dataset, batch_size=500, shuffle=True, num_workers=7)\n",
    "\n",
    "val_dataset = CustomeDataset(val)\n",
    "val_dataloader = DataLoader(val_dataset, batch_size=500, shuffle=False, num_workers=7)\n",
    "\n",
    "# trainer = lightning.Trainer(fast_dev_run=100)\n",
    "monitor = \"Validation/Accuracy\"\n",
    "early_stop_callback = EarlyStopping(monitor=monitor, patience=5, verbose=True, mode=\"max\")\n",
    "checkpoint_callback = ModelCheckpoint(save_top_k=1, monitor=monitor, mode=\"max\")\n",
    "\n",
    "trainer = lightning.Trainer(max_epochs=150, callbacks=[early_stop_callback, checkpoint_callback], enable_checkpointing=True, logger=tensorboard) #logger=None, \n",
    "\n",
    "\n",
    "model = MalwaresModelLinearLayer(input_size = vectors.shape[1]-1, output_size = len(label_encoder.classes_), seed=SEED)\n",
    "\n",
    "torch.manual_seed(SEED)\n",
    "torch.cuda.manual_seed_all(SEED)\n"
   ]
  },
  {
   "cell_type": "code",
   "execution_count": 21,
   "metadata": {},
   "outputs": [
    {
     "name": "stderr",
     "output_type": "stream",
     "text": [
      "LOCAL_RANK: 0 - CUDA_VISIBLE_DEVICES: [0]\n",
      "\n",
      "  | Name          | Type                      | Params\n",
      "------------------------------------------------------------\n",
      "0 | train_metrics | MetricCollection          | 0     \n",
      "1 | val_metrics   | MetricCollection          | 0     \n",
      "2 | test_metrics  | MetricCollection          | 0     \n",
      "3 | cm            | MulticlassConfusionMatrix | 0     \n",
      "4 | criterion     | CrossEntropyLoss          | 0     \n",
      "5 | l1            | Linear                    | 2.8 K \n",
      "------------------------------------------------------------\n",
      "2.8 K     Trainable params\n",
      "0         Non-trainable params\n",
      "2.8 K     Total params\n",
      "0.011     Total estimated model params size (MB)\n"
     ]
    },
    {
     "data": {
      "application/vnd.jupyter.widget-view+json": {
       "model_id": "046ae6a96d8048f6b8a4068703d30030",
       "version_major": 2,
       "version_minor": 0
      },
      "text/plain": [
       "Sanity Checking: |          | 0/? [00:00<?, ?it/s]"
      ]
     },
     "metadata": {},
     "output_type": "display_data"
    },
    {
     "name": "stdout",
     "output_type": "stream",
     "text": [
      "Epoch end: Validation, epoch number: 0\n",
      "ValidationEpoch/CM\n",
      " tensor([[ 91,   0,   0,   0,   0,   6,   0,   3,   4],\n",
      "        [  0,   0,  15,   0,   7,   2,   0,  94,   0],\n",
      "        [116,   0,   0,   0,   0,   4,   0,   4,   1],\n",
      "        [105,   0,   0,   0,   0,   7,   0,   0,   2],\n",
      "        [101,   0,   0,   0,   0,   0,   0,   0,   3],\n",
      "        [115,   0,   0,   0,   0,   0,   0,   0,   0],\n",
      "        [109,   0,   0,   0,   0,   4,   0,   3,   0],\n",
      "        [ 61,   0,   0,   0,   0,   0,   0,  29,   0],\n",
      "        [114,   0,   0,   0,   0,   0,   0,   0,   0]])\n"
     ]
    },
    {
     "name": "stderr",
     "output_type": "stream",
     "text": [
      "/home/<User>/repos/csg_is/.venv/lib/python3.10/site-packages/lightning/pytorch/loops/fit_loop.py:298: The number of training batches (42) is smaller than the logging interval Trainer(log_every_n_steps=50). Set a lower value for log_every_n_steps if you want to see logs for the training epoch.\n"
     ]
    },
    {
     "data": {
      "application/vnd.jupyter.widget-view+json": {
       "model_id": "8855424038e94bd48d674994b40c00e5",
       "version_major": 2,
       "version_minor": 0
      },
      "text/plain": [
       "Training: |          | 0/? [00:00<?, ?it/s]"
      ]
     },
     "metadata": {},
     "output_type": "display_data"
    },
    {
     "data": {
      "application/vnd.jupyter.widget-view+json": {
       "model_id": "d85d4c67bf95484c89ee6a9145165650",
       "version_major": 2,
       "version_minor": 0
      },
      "text/plain": [
       "Validation: |          | 0/? [00:00<?, ?it/s]"
      ]
     },
     "metadata": {},
     "output_type": "display_data"
    },
    {
     "name": "stdout",
     "output_type": "stream",
     "text": [
      "Epoch end: Validation, epoch number: 1\n",
      "ValidationEpoch/CM\n",
      " tensor([[ 680,   11,  398,  702,  498,   87,  271,    3,    4],\n",
      "        [   0, 3213,   24,    0,   13,    3,    0,  145,    0],\n",
      "        [ 330,   81, 1634,  273,  343,  371,  268,    4,    1],\n",
      "        [ 503,    9,  461,  913,  504,   71,  297,    0,    6],\n",
      "        [ 360,   12,  303,  492, 1298,   56,  292,    0,    6],\n",
      "        [ 184,  179,   28,    3,    2, 2531,    8,    0,    0],\n",
      "        [ 401,   61, 1016,  343,  341,  240,  361,    3,    0],\n",
      "        [  94,   21,    0,    0,    0,    0,    0, 2620,    0],\n",
      "        [ 178,   15,    0,    0,   49,    0,   57,    0, 3095]])\n"
     ]
    },
    {
     "name": "stderr",
     "output_type": "stream",
     "text": [
      "Metric Validation/Accuracy improved. New best score: 0.700\n"
     ]
    },
    {
     "name": "stdout",
     "output_type": "stream",
     "text": [
      "Epoch end: Train, epoch number: 0\n",
      "TrainEpoch/CM\n",
      " tensor([[ 680,   11,  398,  702,  498,   87,  271,    3,    4],\n",
      "        [   0, 3213,   24,    0,   13,    3,    0,  145,    0],\n",
      "        [ 330,   81, 1634,  273,  343,  371,  268,    4,    1],\n",
      "        [ 503,    9,  461,  913,  504,   71,  297,    0,    6],\n",
      "        [ 360,   12,  303,  492, 1298,   56,  292,    0,    6],\n",
      "        [ 184,  179,   28,    3,    2, 2531,    8,    0,    0],\n",
      "        [ 401,   61, 1016,  343,  341,  240,  361,    3,    0],\n",
      "        [  94,   21,    0,    0,    0,    0,    0, 2620,    0],\n",
      "        [ 178,   15,    0,    0,   49,    0,   57,    0, 3095]])\n"
     ]
    },
    {
     "data": {
      "application/vnd.jupyter.widget-view+json": {
       "model_id": "a598cb1ad0f3471784679312d0fc1194",
       "version_major": 2,
       "version_minor": 0
      },
      "text/plain": [
       "Validation: |          | 0/? [00:00<?, ?it/s]"
      ]
     },
     "metadata": {},
     "output_type": "display_data"
    },
    {
     "name": "stdout",
     "output_type": "stream",
     "text": [
      "Epoch end: Validation, epoch number: 2\n",
      "ValidationEpoch/CM\n",
      " tensor([[1772,   11,  556, 1438,  777,   87,  556,    3,    4],\n",
      "        [   0, 6493,   24,    0,   13,    3,    0,  145,    0],\n",
      "        [ 507,   81, 3791,  488,  620,  516,  477,    4,    1],\n",
      "        [1005,    9,  729, 2195,  817,   71,  582,    0,    6],\n",
      "        [ 477,   12,  476,  735, 3242,   72,  514,    0,    6],\n",
      "        [ 186,  179,   56,    4,    8, 5313,    9,    0,    0],\n",
      "        [ 647,   61, 2066,  660,  699,  340,  940,    3,    0],\n",
      "        [  94,   21,    0,    0,    0,    0,    0, 5265,    0],\n",
      "        [ 178,   15,    0,    0,   49,    0,   57,    0, 6375]])\n",
      "Epoch end: Train, epoch number: 1\n",
      "TrainEpoch/CM\n",
      " tensor([[1772,   11,  556, 1438,  777,   87,  556,    3,    4],\n",
      "        [   0, 6493,   24,    0,   13,    3,    0,  145,    0],\n",
      "        [ 507,   81, 3791,  488,  620,  516,  477,    4,    1],\n",
      "        [1005,    9,  729, 2195,  817,   71,  582,    0,    6],\n",
      "        [ 477,   12,  476,  735, 3242,   72,  514,    0,    6],\n",
      "        [ 186,  179,   56,    4,    8, 5313,    9,    0,    0],\n",
      "        [ 647,   61, 2066,  660,  699,  340,  940,    3,    0],\n",
      "        [  94,   21,    0,    0,    0,    0,    0, 5265,    0],\n",
      "        [ 178,   15,    0,    0,   49,    0,   57,    0, 6375]])\n"
     ]
    },
    {
     "name": "stderr",
     "output_type": "stream",
     "text": [
      "Metric Validation/Accuracy improved by 0.070 >= min_delta = 0.0. New best score: 0.770\n"
     ]
    },
    {
     "data": {
      "application/vnd.jupyter.widget-view+json": {
       "model_id": "cb031ba0a3934fa59c25b447af9af1c9",
       "version_major": 2,
       "version_minor": 0
      },
      "text/plain": [
       "Validation: |          | 0/? [00:00<?, ?it/s]"
      ]
     },
     "metadata": {},
     "output_type": "display_data"
    },
    {
     "name": "stdout",
     "output_type": "stream",
     "text": [
      "Epoch end: Validation, epoch number: 3\n",
      "ValidationEpoch/CM\n",
      " tensor([[3232,   11,  621, 2154,  851,   87,  791,    3,    4],\n",
      "        [   0, 9773,   24,    0,   13,    3,    0,  145,    0],\n",
      "        [ 679,   81, 6049,  652,  743,  628,  828,    4,    1],\n",
      "        [1604,   10,  874, 3750,  882,   71,  867,    0,    6],\n",
      "        [ 589,   12,  550,  838, 5468,   87,  699,    0,    6],\n",
      "        [ 190,  183,   75,    4,    8, 8104,   11,    0,    0],\n",
      "        [ 920,   61, 2965,  975,  897,  421, 1824,    3,    0],\n",
      "        [  94,   21,    0,    0,    0,    0,    0, 7910,    0],\n",
      "        [ 178,   15,    0,    0,   49,    0,   57,    0, 9655]])\n",
      "Epoch end: Train, epoch number: 2\n",
      "TrainEpoch/CM\n",
      " tensor([[3232,   11,  621, 2154,  851,   87,  791,    3,    4],\n",
      "        [   0, 9773,   24,    0,   13,    3,    0,  145,    0],\n",
      "        [ 679,   81, 6049,  652,  743,  628,  828,    4,    1],\n",
      "        [1604,   10,  874, 3750,  882,   71,  867,    0,    6],\n",
      "        [ 589,   12,  550,  838, 5468,   87,  699,    0,    6],\n",
      "        [ 190,  183,   75,    4,    8, 8104,   11,    0,    0],\n",
      "        [ 920,   61, 2965,  975,  897,  421, 1824,    3,    0],\n",
      "        [  94,   21,    0,    0,    0,    0,    0, 7910,    0],\n",
      "        [ 178,   15,    0,    0,   49,    0,   57,    0, 9655]])\n"
     ]
    },
    {
     "name": "stderr",
     "output_type": "stream",
     "text": [
      "Metric Validation/Accuracy improved by 0.030 >= min_delta = 0.0. New best score: 0.800\n"
     ]
    },
    {
     "data": {
      "application/vnd.jupyter.widget-view+json": {
       "model_id": "af3e17de4a2c486e8fd6be876c96bca5",
       "version_major": 2,
       "version_minor": 0
      },
      "text/plain": [
       "Validation: |          | 0/? [00:00<?, ?it/s]"
      ]
     },
     "metadata": {},
     "output_type": "display_data"
    },
    {
     "name": "stdout",
     "output_type": "stream",
     "text": [
      "Epoch end: Validation, epoch number: 4\n",
      "ValidationEpoch/CM\n",
      " tensor([[ 4889,    11,   654,  2806,   873,    87,   977,     3,     4],\n",
      "        [    0, 13053,    24,     0,    13,     3,     0,   145,     0],\n",
      "        [  832,    81,  8421,   818,   802,   713,  1173,     4,     1],\n",
      "        [ 2240,    13,   965,  5407,   908,    71,  1104,     0,     6],\n",
      "        [  649,    12,   590,   928,  7857,   102,   820,     0,     6],\n",
      "        [  190,   188,    95,     4,     8, 10899,    11,     0,     0],\n",
      "        [ 1191,    61,  3858,  1314,  1005,   489,  2795,     3,     0],\n",
      "        [   94,    21,     0,     0,     0,     0,     0, 10555,     0],\n",
      "        [  178,    15,     0,     0,    49,     0,    57,     0, 12935]])\n",
      "Epoch end: Train, epoch number: 3\n",
      "TrainEpoch/CM\n",
      " tensor([[ 4889,    11,   654,  2806,   873,    87,   977,     3,     4],\n",
      "        [    0, 13053,    24,     0,    13,     3,     0,   145,     0],\n",
      "        [  832,    81,  8421,   818,   802,   713,  1173,     4,     1],\n",
      "        [ 2240,    13,   965,  5407,   908,    71,  1104,     0,     6],\n",
      "        [  649,    12,   590,   928,  7857,   102,   820,     0,     6],\n",
      "        [  190,   188,    95,     4,     8, 10899,    11,     0,     0],\n",
      "        [ 1191,    61,  3858,  1314,  1005,   489,  2795,     3,     0],\n",
      "        [   94,    21,     0,     0,     0,     0,     0, 10555,     0],\n",
      "        [  178,    15,     0,     0,    49,     0,    57,     0, 12935]])\n"
     ]
    },
    {
     "name": "stderr",
     "output_type": "stream",
     "text": [
      "Metric Validation/Accuracy improved by 0.030 >= min_delta = 0.0. New best score: 0.830\n"
     ]
    },
    {
     "data": {
      "application/vnd.jupyter.widget-view+json": {
       "model_id": "11ef4cf28ee94efa8b998e994f8e9370",
       "version_major": 2,
       "version_minor": 0
      },
      "text/plain": [
       "Validation: |          | 0/? [00:00<?, ?it/s]"
      ]
     },
     "metadata": {},
     "output_type": "display_data"
    },
    {
     "name": "stdout",
     "output_type": "stream",
     "text": [
      "Epoch end: Validation, epoch number: 5\n",
      "ValidationEpoch/CM\n",
      " tensor([[ 6626,    11,   688,  3412,   883,    87,  1140,     3,     4],\n",
      "        [    0, 16333,    24,     0,    13,     3,     0,   145,     0],\n",
      "        [  989,    81, 10916,   931,   832,   770,  1501,     4,     1],\n",
      "        [ 3031,    14,  1054,  6946,   923,    71,  1319,     0,     6],\n",
      "        [  727,    12,   616,   993, 10312,   117,   896,     0,     6],\n",
      "        [  190,   192,   113,     4,     8, 13696,    12,     0,     0],\n",
      "        [ 1532,    61,  4797,  1590,  1070,   538,  3775,     3,     0],\n",
      "        [   94,    21,     0,     0,     0,     0,     0, 13200,     0],\n",
      "        [  178,    15,     0,     0,    49,     0,    57,     0, 16215]])\n",
      "Epoch end: Train, epoch number: 4\n",
      "TrainEpoch/CM\n",
      " tensor([[ 6626,    11,   688,  3412,   883,    87,  1140,     3,     4],\n",
      "        [    0, 16333,    24,     0,    13,     3,     0,   145,     0],\n",
      "        [  989,    81, 10916,   931,   832,   770,  1501,     4,     1],\n",
      "        [ 3031,    14,  1054,  6946,   923,    71,  1319,     0,     6],\n",
      "        [  727,    12,   616,   993, 10312,   117,   896,     0,     6],\n",
      "        [  190,   192,   113,     4,     8, 13696,    12,     0,     0],\n",
      "        [ 1532,    61,  4797,  1590,  1070,   538,  3775,     3,     0],\n",
      "        [   94,    21,     0,     0,     0,     0,     0, 13200,     0],\n",
      "        [  178,    15,     0,     0,    49,     0,    57,     0, 16215]])\n"
     ]
    },
    {
     "data": {
      "application/vnd.jupyter.widget-view+json": {
       "model_id": "a279b0db23a44abfb7c543e2599c148a",
       "version_major": 2,
       "version_minor": 0
      },
      "text/plain": [
       "Validation: |          | 0/? [00:00<?, ?it/s]"
      ]
     },
     "metadata": {},
     "output_type": "display_data"
    },
    {
     "name": "stdout",
     "output_type": "stream",
     "text": [
      "Epoch end: Validation, epoch number: 6\n",
      "ValidationEpoch/CM\n",
      " tensor([[ 8222,    11,   716,  4164,   911,    87,  1286,     3,     4],\n",
      "        [    0, 19613,    24,     0,    13,     3,     0,   145,     0],\n",
      "        [ 1068,    81, 13409,  1078,   864,   824,  1876,     4,     1],\n",
      "        [ 3498,    14,  1121,  8858,   947,    71,  1499,     0,     6],\n",
      "        [  790,    12,   635,  1054, 12804,   132,   961,     0,     6],\n",
      "        [  190,   197,   125,     4,     8, 16499,    12,     0,     0],\n",
      "        [ 1705,    61,  5649,  1988,  1138,   575,  4897,     3,     0],\n",
      "        [   94,    21,     0,     0,     0,     0,     0, 15845,     0],\n",
      "        [  178,    15,     0,     0,    49,     0,    57,     0, 19495]])\n"
     ]
    },
    {
     "name": "stderr",
     "output_type": "stream",
     "text": [
      "Metric Validation/Accuracy improved by 0.002 >= min_delta = 0.0. New best score: 0.832\n"
     ]
    },
    {
     "name": "stdout",
     "output_type": "stream",
     "text": [
      "Epoch end: Train, epoch number: 5\n",
      "TrainEpoch/CM\n",
      " tensor([[ 8222,    11,   716,  4164,   911,    87,  1286,     3,     4],\n",
      "        [    0, 19613,    24,     0,    13,     3,     0,   145,     0],\n",
      "        [ 1068,    81, 13409,  1078,   864,   824,  1876,     4,     1],\n",
      "        [ 3498,    14,  1121,  8858,   947,    71,  1499,     0,     6],\n",
      "        [  790,    12,   635,  1054, 12804,   132,   961,     0,     6],\n",
      "        [  190,   197,   125,     4,     8, 16499,    12,     0,     0],\n",
      "        [ 1705,    61,  5649,  1988,  1138,   575,  4897,     3,     0],\n",
      "        [   94,    21,     0,     0,     0,     0,     0, 15845,     0],\n",
      "        [  178,    15,     0,     0,    49,     0,    57,     0, 19495]])\n"
     ]
    },
    {
     "data": {
      "application/vnd.jupyter.widget-view+json": {
       "model_id": "7c796457f0a54509af004fca75515f63",
       "version_major": 2,
       "version_minor": 0
      },
      "text/plain": [
       "Validation: |          | 0/? [00:00<?, ?it/s]"
      ]
     },
     "metadata": {},
     "output_type": "display_data"
    },
    {
     "name": "stdout",
     "output_type": "stream",
     "text": [
      "Epoch end: Validation, epoch number: 7\n",
      "ValidationEpoch/CM\n",
      " tensor([[10102,    11,   739,  4601,   937,    87,  1470,     3,     4],\n",
      "        [    0, 22893,    24,     0,    13,     3,     0,   145,     0],\n",
      "        [ 1154,    81, 15953,  1161,   878,   866,  2287,     4,     1],\n",
      "        [ 3897,    14,  1187, 10783,   969,    71,  1737,     0,     6],\n",
      "        [  844,    12,   652,  1108, 15331,   145,  1011,     0,     6],\n",
      "        [  190,   202,   138,     4,     8, 19301,    12,     0,     0],\n",
      "        [ 1870,    61,  6478,  2290,  1183,   601,  6180,     3,     0],\n",
      "        [   94,    21,     0,     0,     0,     0,     0, 18490,     0],\n",
      "        [  178,    15,     0,     0,    49,     0,    57,     0, 22775]])\n",
      "Epoch end: Train, epoch number: 6\n",
      "TrainEpoch/CM\n",
      " tensor([[10102,    11,   739,  4601,   937,    87,  1470,     3,     4],\n",
      "        [    0, 22893,    24,     0,    13,     3,     0,   145,     0],\n",
      "        [ 1154,    81, 15953,  1161,   878,   866,  2287,     4,     1],\n",
      "        [ 3897,    14,  1187, 10783,   969,    71,  1737,     0,     6],\n",
      "        [  844,    12,   652,  1108, 15331,   145,  1011,     0,     6],\n",
      "        [  190,   202,   138,     4,     8, 19301,    12,     0,     0],\n",
      "        [ 1870,    61,  6478,  2290,  1183,   601,  6180,     3,     0],\n",
      "        [   94,    21,     0,     0,     0,     0,     0, 18490,     0],\n",
      "        [  178,    15,     0,     0,    49,     0,    57,     0, 22775]])\n"
     ]
    },
    {
     "name": "stderr",
     "output_type": "stream",
     "text": [
      "Metric Validation/Accuracy improved by 0.025 >= min_delta = 0.0. New best score: 0.856\n"
     ]
    },
    {
     "data": {
      "application/vnd.jupyter.widget-view+json": {
       "model_id": "e7daad9931c34649a4f09ba242cb003d",
       "version_major": 2,
       "version_minor": 0
      },
      "text/plain": [
       "Validation: |          | 0/? [00:00<?, ?it/s]"
      ]
     },
     "metadata": {},
     "output_type": "display_data"
    },
    {
     "name": "stdout",
     "output_type": "stream",
     "text": [
      "Epoch end: Validation, epoch number: 8\n",
      "ValidationEpoch/CM\n",
      " tensor([[11966,    11,   756,  5094,   938,    87,  1645,     3,     4],\n",
      "        [    0, 26173,    24,     0,    13,     3,     0,   145,     0],\n",
      "        [ 1227,    81, 18514,  1267,   879,   901,  2691,     4,     1],\n",
      "        [ 4268,    14,  1226, 12801,   978,    71,  1950,     0,     6],\n",
      "        [  870,    12,   660,  1182, 17880,   159,  1055,     0,     6],\n",
      "        [  190,   207,   147,     4,     8, 22107,    12,     0,     0],\n",
      "        [ 2027,    61,  7237,  2651,  1194,   619,  7524,     3,     0],\n",
      "        [   94,    21,     0,     0,     0,     0,     0, 21135,     0],\n",
      "        [  178,    15,     0,     0,    49,     0,    57,     0, 26055]])\n",
      "Epoch end: Train, epoch number: 7\n",
      "TrainEpoch/CM\n",
      " tensor([[11966,    11,   756,  5094,   938,    87,  1645,     3,     4],\n",
      "        [    0, 26173,    24,     0,    13,     3,     0,   145,     0],\n",
      "        [ 1227,    81, 18514,  1267,   879,   901,  2691,     4,     1],\n",
      "        [ 4268,    14,  1226, 12801,   978,    71,  1950,     0,     6],\n",
      "        [  870,    12,   660,  1182, 17880,   159,  1055,     0,     6],\n",
      "        [  190,   207,   147,     4,     8, 22107,    12,     0,     0],\n",
      "        [ 2027,    61,  7237,  2651,  1194,   619,  7524,     3,     0],\n",
      "        [   94,    21,     0,     0,     0,     0,     0, 21135,     0],\n",
      "        [  178,    15,     0,     0,    49,     0,    57,     0, 26055]])\n"
     ]
    },
    {
     "data": {
      "application/vnd.jupyter.widget-view+json": {
       "model_id": "a6fd8b4036204ea99826cb278e52270b",
       "version_major": 2,
       "version_minor": 0
      },
      "text/plain": [
       "Validation: |          | 0/? [00:00<?, ?it/s]"
      ]
     },
     "metadata": {},
     "output_type": "display_data"
    },
    {
     "name": "stdout",
     "output_type": "stream",
     "text": [
      "Epoch end: Validation, epoch number: 9\n",
      "ValidationEpoch/CM\n",
      " tensor([[13898,    11,   772,  5566,   940,    87,  1773,     3,     4],\n",
      "        [    0, 29453,    24,     0,    13,     3,     0,   145,     0],\n",
      "        [ 1301,    81, 21092,  1366,   879,   930,  3091,     4,     1],\n",
      "        [ 4623,    14,  1263, 14893,   978,    71,  2116,     0,     6],\n",
      "        [  901,    12,   671,  1237, 20457,   169,  1086,     0,     6],\n",
      "        [  190,   212,   155,     4,     8, 24914,    12,     0,     0],\n",
      "        [ 2182,    61,  7981,  2988,  1206,   636,  8909,     3,     0],\n",
      "        [   94,    21,     0,     0,     0,     0,     0, 23780,     0],\n",
      "        [  178,    15,     0,     0,    49,     0,    57,     0, 29335]])\n",
      "Epoch end: Train, epoch number: 8\n",
      "TrainEpoch/CM\n",
      " tensor([[13898,    11,   772,  5566,   940,    87,  1773,     3,     4],\n",
      "        [    0, 29453,    24,     0,    13,     3,     0,   145,     0],\n",
      "        [ 1301,    81, 21092,  1366,   879,   930,  3091,     4,     1],\n",
      "        [ 4623,    14,  1263, 14893,   978,    71,  2116,     0,     6],\n",
      "        [  901,    12,   671,  1237, 20457,   169,  1086,     0,     6],\n",
      "        [  190,   212,   155,     4,     8, 24914,    12,     0,     0],\n",
      "        [ 2182,    61,  7981,  2988,  1206,   636,  8909,     3,     0],\n",
      "        [   94,    21,     0,     0,     0,     0,     0, 23780,     0],\n",
      "        [  178,    15,     0,     0,    49,     0,    57,     0, 29335]])\n"
     ]
    },
    {
     "name": "stderr",
     "output_type": "stream",
     "text": [
      "Metric Validation/Accuracy improved by 0.010 >= min_delta = 0.0. New best score: 0.867\n"
     ]
    },
    {
     "data": {
      "application/vnd.jupyter.widget-view+json": {
       "model_id": "216c65ca28264c87a81621194ad60e73",
       "version_major": 2,
       "version_minor": 0
      },
      "text/plain": [
       "Validation: |          | 0/? [00:00<?, ?it/s]"
      ]
     },
     "metadata": {},
     "output_type": "display_data"
    },
    {
     "name": "stdout",
     "output_type": "stream",
     "text": [
      "Epoch end: Validation, epoch number: 10\n",
      "ValidationEpoch/CM\n",
      " tensor([[15990,    11,   779,  5908,   940,    87,  1882,     3,     4],\n",
      "        [    0, 32733,    24,     0,    13,     3,     0,   145,     0],\n",
      "        [ 1375,    81, 23706,  1422,   879,   959,  3498,     4,     1],\n",
      "        [ 5036,    14,  1302, 16929,   978,    71,  2278,     0,     6],\n",
      "        [  932,    12,   679,  1276, 23053,   178,  1118,     0,     6],\n",
      "        [  190,   217,   161,     4,     8, 27723,    12,     0,     0],\n",
      "        [ 2347,    61,  8688,  3301,  1213,   650, 10353,     3,     0],\n",
      "        [   94,    21,     0,     0,     0,     0,     0, 26425,     0],\n",
      "        [  178,    15,     0,     0,    49,     0,    57,     0, 32615]])\n"
     ]
    },
    {
     "name": "stderr",
     "output_type": "stream",
     "text": [
      "Metric Validation/Accuracy improved by 0.019 >= min_delta = 0.0. New best score: 0.885\n"
     ]
    },
    {
     "name": "stdout",
     "output_type": "stream",
     "text": [
      "Epoch end: Train, epoch number: 9\n",
      "TrainEpoch/CM\n",
      " tensor([[15990,    11,   779,  5908,   940,    87,  1882,     3,     4],\n",
      "        [    0, 32733,    24,     0,    13,     3,     0,   145,     0],\n",
      "        [ 1375,    81, 23706,  1422,   879,   959,  3498,     4,     1],\n",
      "        [ 5036,    14,  1302, 16929,   978,    71,  2278,     0,     6],\n",
      "        [  932,    12,   679,  1276, 23053,   178,  1118,     0,     6],\n",
      "        [  190,   217,   161,     4,     8, 27723,    12,     0,     0],\n",
      "        [ 2347,    61,  8688,  3301,  1213,   650, 10353,     3,     0],\n",
      "        [   94,    21,     0,     0,     0,     0,     0, 26425,     0],\n",
      "        [  178,    15,     0,     0,    49,     0,    57,     0, 32615]])\n"
     ]
    },
    {
     "data": {
      "application/vnd.jupyter.widget-view+json": {
       "model_id": "b1e2a347a2074604bba168ec5b794451",
       "version_major": 2,
       "version_minor": 0
      },
      "text/plain": [
       "Validation: |          | 0/? [00:00<?, ?it/s]"
      ]
     },
     "metadata": {},
     "output_type": "display_data"
    },
    {
     "name": "stdout",
     "output_type": "stream",
     "text": [
      "Epoch end: Validation, epoch number: 11\n",
      "ValidationEpoch/CM\n",
      " tensor([[18113,    11,   785,  6244,   940,    87,  1967,     3,     4],\n",
      "        [    0, 36013,    24,     0,    13,     3,     0,   145,     0],\n",
      "        [ 1446,    81, 26397,  1470,   879,   978,  3849,     4,     1],\n",
      "        [ 5433,    14,  1345, 19011,   978,    71,  2406,     0,     6],\n",
      "        [  965,    12,   685,  1312, 25664,   183,  1142,     0,     6],\n",
      "        [  190,   222,   163,     4,     8, 30536,    12,     0,     0],\n",
      "        [ 2524,    61,  9479,  3613,  1222,   661, 11703,     3,     0],\n",
      "        [   94,    21,     0,     0,     0,     0,     0, 29070,     0],\n",
      "        [  178,    15,     0,     0,    49,     0,    57,     0, 35895]])\n",
      "Epoch end: Train, epoch number: 10\n",
      "TrainEpoch/CM\n",
      " tensor([[18113,    11,   785,  6244,   940,    87,  1967,     3,     4],\n",
      "        [    0, 36013,    24,     0,    13,     3,     0,   145,     0],\n",
      "        [ 1446,    81, 26397,  1470,   879,   978,  3849,     4,     1],\n",
      "        [ 5433,    14,  1345, 19011,   978,    71,  2406,     0,     6],\n",
      "        [  965,    12,   685,  1312, 25664,   183,  1142,     0,     6],\n",
      "        [  190,   222,   163,     4,     8, 30536,    12,     0,     0],\n",
      "        [ 2524,    61,  9479,  3613,  1222,   661, 11703,     3,     0],\n",
      "        [   94,    21,     0,     0,     0,     0,     0, 29070,     0],\n",
      "        [  178,    15,     0,     0,    49,     0,    57,     0, 35895]])\n"
     ]
    },
    {
     "data": {
      "application/vnd.jupyter.widget-view+json": {
       "model_id": "cd531e76bd434ada890d247dcc10e6f0",
       "version_major": 2,
       "version_minor": 0
      },
      "text/plain": [
       "Validation: |          | 0/? [00:00<?, ?it/s]"
      ]
     },
     "metadata": {},
     "output_type": "display_data"
    },
    {
     "name": "stdout",
     "output_type": "stream",
     "text": [
      "Epoch end: Validation, epoch number: 12\n",
      "ValidationEpoch/CM\n",
      " tensor([[20357,    11,   796,  6472,   941,    87,  2033,     3,     4],\n",
      "        [    0, 39293,    24,     0,    13,     3,     0,   145,     0],\n",
      "        [ 1520,    81, 29102,  1504,   879,   994,  4200,     4,     1],\n",
      "        [ 5918,    14,  1379, 21019,   978,    71,  2529,     0,     6],\n",
      "        [ 1000,    12,   688,  1336, 28292,   188,  1162,     0,     6],\n",
      "        [  190,   227,   167,     4,     8, 33347,    12,     0,     0],\n",
      "        [ 2725,    61, 10288,  3895,  1229,   672, 13043,     3,     0],\n",
      "        [   94,    21,     0,     0,     0,     0,     0, 31715,     0],\n",
      "        [  178,    15,     0,     0,    49,     0,    57,     0, 39175]])\n",
      "Epoch end: Train, epoch number: 11\n",
      "TrainEpoch/CM\n",
      " tensor([[20357,    11,   796,  6472,   941,    87,  2033,     3,     4],\n",
      "        [    0, 39293,    24,     0,    13,     3,     0,   145,     0],\n",
      "        [ 1520,    81, 29102,  1504,   879,   994,  4200,     4,     1],\n",
      "        [ 5918,    14,  1379, 21019,   978,    71,  2529,     0,     6],\n",
      "        [ 1000,    12,   688,  1336, 28292,   188,  1162,     0,     6],\n",
      "        [  190,   227,   167,     4,     8, 33347,    12,     0,     0],\n",
      "        [ 2725,    61, 10288,  3895,  1229,   672, 13043,     3,     0],\n",
      "        [   94,    21,     0,     0,     0,     0,     0, 31715,     0],\n",
      "        [  178,    15,     0,     0,    49,     0,    57,     0, 39175]])\n"
     ]
    },
    {
     "data": {
      "application/vnd.jupyter.widget-view+json": {
       "model_id": "64879ef4e7794ae48bfa404ab9c230fd",
       "version_major": 2,
       "version_minor": 0
      },
      "text/plain": [
       "Validation: |          | 0/? [00:00<?, ?it/s]"
      ]
     },
     "metadata": {},
     "output_type": "display_data"
    },
    {
     "name": "stdout",
     "output_type": "stream",
     "text": [
      "Epoch end: Validation, epoch number: 13\n",
      "ValidationEpoch/CM\n",
      " tensor([[22522,    11,   802,  6772,   941,    87,  2112,     3,     4],\n",
      "        [    0, 42573,    24,     0,    13,     3,     0,   145,     0],\n",
      "        [ 1579,    81, 31768,  1550,   879,  1008,  4595,     4,     1],\n",
      "        [ 6312,    14,  1410, 23079,   978,    71,  2694,     0,     6],\n",
      "        [ 1025,    12,   692,  1374, 30917,   193,  1180,     0,     6],\n",
      "        [  190,   231,   169,     4,     8, 36161,    12,     0,     0],\n",
      "        [ 2863,    61, 10996,  4194,  1236,   686, 14527,     3,     0],\n",
      "        [   94,    21,     0,     0,     0,     0,     0, 34360,     0],\n",
      "        [  178,    15,     0,     0,    49,     0,    57,     0, 42455]])\n",
      "Epoch end: Train, epoch number: 12\n"
     ]
    },
    {
     "name": "stderr",
     "output_type": "stream",
     "text": [
      "Metric Validation/Accuracy improved by 0.014 >= min_delta = 0.0. New best score: 0.900\n"
     ]
    },
    {
     "name": "stdout",
     "output_type": "stream",
     "text": [
      "TrainEpoch/CM\n",
      " tensor([[22522,    11,   802,  6772,   941,    87,  2112,     3,     4],\n",
      "        [    0, 42573,    24,     0,    13,     3,     0,   145,     0],\n",
      "        [ 1579,    81, 31768,  1550,   879,  1008,  4595,     4,     1],\n",
      "        [ 6312,    14,  1410, 23079,   978,    71,  2694,     0,     6],\n",
      "        [ 1025,    12,   692,  1374, 30917,   193,  1180,     0,     6],\n",
      "        [  190,   231,   169,     4,     8, 36161,    12,     0,     0],\n",
      "        [ 2863,    61, 10996,  4194,  1236,   686, 14527,     3,     0],\n",
      "        [   94,    21,     0,     0,     0,     0,     0, 34360,     0],\n",
      "        [  178,    15,     0,     0,    49,     0,    57,     0, 42455]])\n"
     ]
    },
    {
     "data": {
      "application/vnd.jupyter.widget-view+json": {
       "model_id": "b09caa643ec84db8b5ee7cdfde470d23",
       "version_major": 2,
       "version_minor": 0
      },
      "text/plain": [
       "Validation: |          | 0/? [00:00<?, ?it/s]"
      ]
     },
     "metadata": {},
     "output_type": "display_data"
    },
    {
     "name": "stdout",
     "output_type": "stream",
     "text": [
      "Epoch end: Validation, epoch number: 14\n",
      "ValidationEpoch/CM\n",
      " tensor([[24681,    11,   809,  7093,   942,    87,  2174,     3,     4],\n",
      "        [    0, 45853,    24,     0,    13,     3,     0,   145,     0],\n",
      "        [ 1636,    81, 34479,  1591,   879,  1016,  4958,     4,     1],\n",
      "        [ 6651,    14,  1435, 25242,   978,    71,  2817,     0,     6],\n",
      "        [ 1043,    12,   697,  1408, 33557,   198,  1193,     0,     6],\n",
      "        [  190,   235,   172,     4,     8, 38974,    12,     0,     0],\n",
      "        [ 3001,    61, 11668,  4487,  1242,   698, 16056,     3,     0],\n",
      "        [   94,    21,     0,     0,     0,     0,     0, 37005,     0],\n",
      "        [  178,    15,     0,     0,    49,     0,    57,     0, 45735]])\n",
      "Epoch end: Train, epoch number: 13\n",
      "TrainEpoch/CM\n",
      " tensor([[24681,    11,   809,  7093,   942,    87,  2174,     3,     4],\n",
      "        [    0, 45853,    24,     0,    13,     3,     0,   145,     0],\n",
      "        [ 1636,    81, 34479,  1591,   879,  1016,  4958,     4,     1],\n",
      "        [ 6651,    14,  1435, 25242,   978,    71,  2817,     0,     6],\n",
      "        [ 1043,    12,   697,  1408, 33557,   198,  1193,     0,     6],\n",
      "        [  190,   235,   172,     4,     8, 38974,    12,     0,     0],\n",
      "        [ 3001,    61, 11668,  4487,  1242,   698, 16056,     3,     0],\n",
      "        [   94,    21,     0,     0,     0,     0,     0, 37005,     0],\n",
      "        [  178,    15,     0,     0,    49,     0,    57,     0, 45735]])\n"
     ]
    },
    {
     "name": "stderr",
     "output_type": "stream",
     "text": [
      "Metric Validation/Accuracy improved by 0.005 >= min_delta = 0.0. New best score: 0.905\n"
     ]
    },
    {
     "data": {
      "application/vnd.jupyter.widget-view+json": {
       "model_id": "1298c69bb6d541c2b7c66455b3b4fc5d",
       "version_major": 2,
       "version_minor": 0
      },
      "text/plain": [
       "Validation: |          | 0/? [00:00<?, ?it/s]"
      ]
     },
     "metadata": {},
     "output_type": "display_data"
    },
    {
     "name": "stdout",
     "output_type": "stream",
     "text": [
      "Epoch end: Validation, epoch number: 15\n",
      "ValidationEpoch/CM\n",
      " tensor([[26951,    11,   816,  7320,   942,    87,  2220,     3,     4],\n",
      "        [    0, 49133,    24,     0,    13,     3,     0,   145,     0],\n",
      "        [ 1693,    81, 37208,  1625,   879,  1024,  5310,     4,     1],\n",
      "        [ 7012,    14,  1461, 27403,   978,    71,  2919,     0,     6],\n",
      "        [ 1065,    12,   701,  1437, 36200,   203,  1205,     0,     6],\n",
      "        [  190,   237,   175,     4,     8, 41789,    12,     0,     0],\n",
      "        [ 3152,    61, 12348,  4773,  1248,   710, 17571,     3,     0],\n",
      "        [   94,    21,     0,     0,     0,     0,     0, 39650,     0],\n",
      "        [  178,    15,     0,     0,    49,     0,    57,     0, 49015]])\n",
      "Epoch end: Train, epoch number: 14\n",
      "TrainEpoch/CM\n",
      " tensor([[26951,    11,   816,  7320,   942,    87,  2220,     3,     4],\n",
      "        [    0, 49133,    24,     0,    13,     3,     0,   145,     0],\n",
      "        [ 1693,    81, 37208,  1625,   879,  1024,  5310,     4,     1],\n",
      "        [ 7012,    14,  1461, 27403,   978,    71,  2919,     0,     6],\n",
      "        [ 1065,    12,   701,  1437, 36200,   203,  1205,     0,     6],\n",
      "        [  190,   237,   175,     4,     8, 41789,    12,     0,     0],\n",
      "        [ 3152,    61, 12348,  4773,  1248,   710, 17571,     3,     0],\n",
      "        [   94,    21,     0,     0,     0,     0,     0, 39650,     0],\n",
      "        [  178,    15,     0,     0,    49,     0,    57,     0, 49015]])\n"
     ]
    },
    {
     "data": {
      "application/vnd.jupyter.widget-view+json": {
       "model_id": "58e5feaeac53492dbba936c9576f1f17",
       "version_major": 2,
       "version_minor": 0
      },
      "text/plain": [
       "Validation: |          | 0/? [00:00<?, ?it/s]"
      ]
     },
     "metadata": {},
     "output_type": "display_data"
    },
    {
     "name": "stdout",
     "output_type": "stream",
     "text": [
      "Epoch end: Validation, epoch number: 16\n",
      "ValidationEpoch/CM\n",
      " tensor([[29306,    11,   821,  7462,   943,    87,  2267,     3,     4],\n",
      "        [    0, 52413,    24,     0,    13,     3,     0,   145,     0],\n",
      "        [ 1737,    81, 39931,  1659,   879,  1030,  5683,     4,     1],\n",
      "        [ 7398,    14,  1492, 29506,   978,    71,  3049,     0,     6],\n",
      "        [ 1087,    12,   706,  1462, 38848,   208,  1215,     0,     6],\n",
      "        [  190,   238,   180,     4,     8, 44603,    12,     0,     0],\n",
      "        [ 3284,    61, 12975,  5034,  1253,   718, 19188,     3,     0],\n",
      "        [   94,    21,     0,     0,     0,     0,     0, 42295,     0],\n",
      "        [  178,    15,     0,     0,    49,     0,    57,     0, 52295]])\n",
      "Epoch end: Train, epoch number: 15\n",
      "TrainEpoch/CM\n",
      " tensor([[29306,    11,   821,  7462,   943,    87,  2267,     3,     4],\n",
      "        [    0, 52413,    24,     0,    13,     3,     0,   145,     0],\n",
      "        [ 1737,    81, 39931,  1659,   879,  1030,  5683,     4,     1],\n",
      "        [ 7398,    14,  1492, 29506,   978,    71,  3049,     0,     6],\n",
      "        [ 1087,    12,   706,  1462, 38848,   208,  1215,     0,     6],\n",
      "        [  190,   238,   180,     4,     8, 44603,    12,     0,     0],\n",
      "        [ 3284,    61, 12975,  5034,  1253,   718, 19188,     3,     0],\n",
      "        [   94,    21,     0,     0,     0,     0,     0, 42295,     0],\n",
      "        [  178,    15,     0,     0,    49,     0,    57,     0, 52295]])\n"
     ]
    },
    {
     "data": {
      "application/vnd.jupyter.widget-view+json": {
       "model_id": "d4ca78ae12da415e998568b0dace5f53",
       "version_major": 2,
       "version_minor": 0
      },
      "text/plain": [
       "Validation: |          | 0/? [00:00<?, ?it/s]"
      ]
     },
     "metadata": {},
     "output_type": "display_data"
    },
    {
     "name": "stdout",
     "output_type": "stream",
     "text": [
      "Epoch end: Validation, epoch number: 17\n",
      "ValidationEpoch/CM\n",
      " tensor([[31545,    11,   826,  7721,   945,    87,  2312,     3,     4],\n",
      "        [    0, 55693,    24,     0,    13,     3,     0,   145,     0],\n",
      "        [ 1781,    81, 42648,  1691,   879,  1037,  6063,     4,     1],\n",
      "        [ 7726,    14,  1518, 31701,   978,    71,  3150,     0,     6],\n",
      "        [ 1104,    12,   710,  1495, 41492,   213,  1227,     0,     6],\n",
      "        [  190,   240,   182,     4,     8, 47419,    12,     0,     0],\n",
      "        [ 3407,    61, 13627,  5329,  1258,   730, 20751,     3,     0],\n",
      "        [   94,    21,     0,     0,     0,     0,     0, 44940,     0],\n",
      "        [  178,    15,     0,     0,    49,     0,    57,     0, 55575]])\n",
      "Epoch end: Train, epoch number: 16\n",
      "TrainEpoch/CM\n",
      " tensor([[31545,    11,   826,  7721,   945,    87,  2312,     3,     4],\n",
      "        [    0, 55693,    24,     0,    13,     3,     0,   145,     0],\n",
      "        [ 1781,    81, 42648,  1691,   879,  1037,  6063,     4,     1],\n",
      "        [ 7726,    14,  1518, 31701,   978,    71,  3150,     0,     6],\n",
      "        [ 1104,    12,   710,  1495, 41492,   213,  1227,     0,     6],\n",
      "        [  190,   240,   182,     4,     8, 47419,    12,     0,     0],\n",
      "        [ 3407,    61, 13627,  5329,  1258,   730, 20751,     3,     0],\n",
      "        [   94,    21,     0,     0,     0,     0,     0, 44940,     0],\n",
      "        [  178,    15,     0,     0,    49,     0,    57,     0, 55575]])\n"
     ]
    },
    {
     "data": {
      "application/vnd.jupyter.widget-view+json": {
       "model_id": "ce1e81ee785d4fd2a1db9fee032ae85a",
       "version_major": 2,
       "version_minor": 0
      },
      "text/plain": [
       "Validation: |          | 0/? [00:00<?, ?it/s]"
      ]
     },
     "metadata": {},
     "output_type": "display_data"
    },
    {
     "name": "stdout",
     "output_type": "stream",
     "text": [
      "Epoch end: Validation, epoch number: 18\n",
      "ValidationEpoch/CM\n",
      " tensor([[33857,    11,   832,  7915,   945,    87,  2350,     3,     4],\n",
      "        [    0, 58973,    24,     0,    13,     3,     0,   145,     0],\n",
      "        [ 1821,    81, 45322,  1731,   879,  1038,  6488,     4,     1],\n",
      "        [ 8043,    14,  1537, 33892,   978,    71,  3273,     0,     6],\n",
      "        [ 1114,    12,   714,  1526, 44149,   218,  1235,     0,     6],\n",
      "        [  190,   240,   184,     4,     8, 50237,    12,     0,     0],\n",
      "        [ 3531,    61, 14203,  5603,  1263,   740, 22412,     3,     0],\n",
      "        [   94,    21,     0,     0,     0,     0,     0, 47585,     0],\n",
      "        [  178,    15,     0,     0,    49,     0,    57,     0, 58855]])\n",
      "Epoch end: Train, epoch number: 17\n",
      "TrainEpoch/CM\n",
      " tensor([[33857,    11,   832,  7915,   945,    87,  2350,     3,     4],\n",
      "        [    0, 58973,    24,     0,    13,     3,     0,   145,     0],\n",
      "        [ 1821,    81, 45322,  1731,   879,  1038,  6488,     4,     1],\n",
      "        [ 8043,    14,  1537, 33892,   978,    71,  3273,     0,     6],\n",
      "        [ 1114,    12,   714,  1526, 44149,   218,  1235,     0,     6],\n",
      "        [  190,   240,   184,     4,     8, 50237,    12,     0,     0],\n",
      "        [ 3531,    61, 14203,  5603,  1263,   740, 22412,     3,     0],\n",
      "        [   94,    21,     0,     0,     0,     0,     0, 47585,     0],\n",
      "        [  178,    15,     0,     0,    49,     0,    57,     0, 58855]])\n"
     ]
    },
    {
     "name": "stderr",
     "output_type": "stream",
     "text": [
      "Metric Validation/Accuracy improved by 0.010 >= min_delta = 0.0. New best score: 0.915\n"
     ]
    },
    {
     "data": {
      "application/vnd.jupyter.widget-view+json": {
       "model_id": "71fad63df13c49eba97c084f3707741c",
       "version_major": 2,
       "version_minor": 0
      },
      "text/plain": [
       "Validation: |          | 0/? [00:00<?, ?it/s]"
      ]
     },
     "metadata": {},
     "output_type": "display_data"
    },
    {
     "name": "stdout",
     "output_type": "stream",
     "text": [
      "Epoch end: Validation, epoch number: 19\n",
      "ValidationEpoch/CM\n",
      " tensor([[36176,    11,   835,  8107,   945,    87,  2386,     3,     4],\n",
      "        [    0, 62253,    24,     0,    13,     3,     0,   145,     0],\n",
      "        [ 1863,    81, 48078,  1767,   879,  1039,  6833,     4,     1],\n",
      "        [ 8311,    14,  1554, 36163,   978,    71,  3367,     0,     6],\n",
      "        [ 1126,    12,   717,  1562, 46802,   221,  1243,     0,     6],\n",
      "        [  190,   240,   184,     4,     8, 53057,    12,     0,     0],\n",
      "        [ 3637,    61, 14786,  5895,  1268,   746, 24070,     3,     0],\n",
      "        [   94,    21,     0,     0,     0,     0,     0, 50230,     0],\n",
      "        [  178,    15,     0,     0,    49,     0,    57,     0, 62135]])\n",
      "Epoch end: Train, epoch number: 18\n"
     ]
    },
    {
     "name": "stderr",
     "output_type": "stream",
     "text": [
      "Metric Validation/Accuracy improved by 0.001 >= min_delta = 0.0. New best score: 0.916\n"
     ]
    },
    {
     "name": "stdout",
     "output_type": "stream",
     "text": [
      "TrainEpoch/CM\n",
      " tensor([[36176,    11,   835,  8107,   945,    87,  2386,     3,     4],\n",
      "        [    0, 62253,    24,     0,    13,     3,     0,   145,     0],\n",
      "        [ 1863,    81, 48078,  1767,   879,  1039,  6833,     4,     1],\n",
      "        [ 8311,    14,  1554, 36163,   978,    71,  3367,     0,     6],\n",
      "        [ 1126,    12,   717,  1562, 46802,   221,  1243,     0,     6],\n",
      "        [  190,   240,   184,     4,     8, 53057,    12,     0,     0],\n",
      "        [ 3637,    61, 14786,  5895,  1268,   746, 24070,     3,     0],\n",
      "        [   94,    21,     0,     0,     0,     0,     0, 50230,     0],\n",
      "        [  178,    15,     0,     0,    49,     0,    57,     0, 62135]])\n"
     ]
    },
    {
     "data": {
      "application/vnd.jupyter.widget-view+json": {
       "model_id": "de0c06b141da45918f3cdcd9b98d84c9",
       "version_major": 2,
       "version_minor": 0
      },
      "text/plain": [
       "Validation: |          | 0/? [00:00<?, ?it/s]"
      ]
     },
     "metadata": {},
     "output_type": "display_data"
    },
    {
     "name": "stdout",
     "output_type": "stream",
     "text": [
      "Epoch end: Validation, epoch number: 20\n",
      "ValidationEpoch/CM\n",
      " tensor([[38542,    11,   837,  8248,   945,    87,  2427,     3,     4],\n",
      "        [    0, 65533,    24,     0,    13,     3,     0,   145,     0],\n",
      "        [ 1898,    81, 50815,  1800,   879,  1041,  7206,     4,     1],\n",
      "        [ 8567,    14,  1578, 38445,   978,    71,  3455,     0,     6],\n",
      "        [ 1129,    12,   722,  1595, 49469,   222,  1249,     0,     6],\n",
      "        [  190,   240,   185,     4,     8, 55876,    12,     0,     0],\n",
      "        [ 3747,    61, 15355,  6160,  1273,   753, 25764,     3,     0],\n",
      "        [   94,    21,     0,     0,     0,     0,     0, 52875,     0],\n",
      "        [  178,    15,     0,     0,    49,     0,    57,     0, 65415]])\n"
     ]
    },
    {
     "name": "stderr",
     "output_type": "stream",
     "text": [
      "Metric Validation/Accuracy improved by 0.006 >= min_delta = 0.0. New best score: 0.922\n"
     ]
    },
    {
     "name": "stdout",
     "output_type": "stream",
     "text": [
      "Epoch end: Train, epoch number: 19\n",
      "TrainEpoch/CM\n",
      " tensor([[38542,    11,   837,  8248,   945,    87,  2427,     3,     4],\n",
      "        [    0, 65533,    24,     0,    13,     3,     0,   145,     0],\n",
      "        [ 1898,    81, 50815,  1800,   879,  1041,  7206,     4,     1],\n",
      "        [ 8567,    14,  1578, 38445,   978,    71,  3455,     0,     6],\n",
      "        [ 1129,    12,   722,  1595, 49469,   222,  1249,     0,     6],\n",
      "        [  190,   240,   185,     4,     8, 55876,    12,     0,     0],\n",
      "        [ 3747,    61, 15355,  6160,  1273,   753, 25764,     3,     0],\n",
      "        [   94,    21,     0,     0,     0,     0,     0, 52875,     0],\n",
      "        [  178,    15,     0,     0,    49,     0,    57,     0, 65415]])\n"
     ]
    },
    {
     "data": {
      "application/vnd.jupyter.widget-view+json": {
       "model_id": "4cbbd70249b04930bc1327040216b255",
       "version_major": 2,
       "version_minor": 0
      },
      "text/plain": [
       "Validation: |          | 0/? [00:00<?, ?it/s]"
      ]
     },
     "metadata": {},
     "output_type": "display_data"
    },
    {
     "name": "stdout",
     "output_type": "stream",
     "text": [
      "Epoch end: Validation, epoch number: 21\n",
      "ValidationEpoch/CM\n",
      " tensor([[40905,    11,   838,  8394,   945,    87,  2467,     3,     4],\n",
      "        [    0, 68813,    24,     0,    13,     3,     0,   145,     0],\n",
      "        [ 1932,    81, 53539,  1837,   879,  1042,  7590,     4,     1],\n",
      "        [ 8840,    14,  1597, 40715,   978,    71,  3543,     0,     6],\n",
      "        [ 1137,    12,   725,  1620, 52140,   222,  1257,     0,     6],\n",
      "        [  190,   240,   186,     4,     8, 58695,    12,     0,     0],\n",
      "        [ 3855,    61, 15895,  6413,  1278,   761, 27500,     3,     0],\n",
      "        [   94,    21,     0,     0,     0,     0,     0, 55520,     0],\n",
      "        [  178,    15,     0,     0,    49,     0,    57,     0, 68695]])\n",
      "Epoch end: Train, epoch number: 20\n"
     ]
    },
    {
     "name": "stderr",
     "output_type": "stream",
     "text": [
      "Metric Validation/Accuracy improved by 0.007 >= min_delta = 0.0. New best score: 0.929\n"
     ]
    },
    {
     "name": "stdout",
     "output_type": "stream",
     "text": [
      "TrainEpoch/CM\n",
      " tensor([[40905,    11,   838,  8394,   945,    87,  2467,     3,     4],\n",
      "        [    0, 68813,    24,     0,    13,     3,     0,   145,     0],\n",
      "        [ 1932,    81, 53539,  1837,   879,  1042,  7590,     4,     1],\n",
      "        [ 8840,    14,  1597, 40715,   978,    71,  3543,     0,     6],\n",
      "        [ 1137,    12,   725,  1620, 52140,   222,  1257,     0,     6],\n",
      "        [  190,   240,   186,     4,     8, 58695,    12,     0,     0],\n",
      "        [ 3855,    61, 15895,  6413,  1278,   761, 27500,     3,     0],\n",
      "        [   94,    21,     0,     0,     0,     0,     0, 55520,     0],\n",
      "        [  178,    15,     0,     0,    49,     0,    57,     0, 68695]])\n"
     ]
    },
    {
     "data": {
      "application/vnd.jupyter.widget-view+json": {
       "model_id": "f95bc684fcde42b1b139ca919f193b25",
       "version_major": 2,
       "version_minor": 0
      },
      "text/plain": [
       "Validation: |          | 0/? [00:00<?, ?it/s]"
      ]
     },
     "metadata": {},
     "output_type": "display_data"
    },
    {
     "name": "stdout",
     "output_type": "stream",
     "text": [
      "Epoch end: Validation, epoch number: 22\n",
      "ValidationEpoch/CM\n",
      " tensor([[43329,    11,   838,  8493,   945,    87,  2494,     3,     4],\n",
      "        [    0, 72093,    24,     0,    13,     3,     0,   145,     0],\n",
      "        [ 1970,    81, 56310,  1868,   879,  1042,  7930,     4,     1],\n",
      "        [ 9151,    14,  1616, 42942,   978,    71,  3636,     0,     6],\n",
      "        [ 1140,    12,   730,  1635, 54828,   222,  1261,     0,     6],\n",
      "        [  190,   240,   186,     4,     8, 61515,    12,     0,     0],\n",
      "        [ 3964,    61, 16448,  6656,  1283,   768, 29233,     3,     0],\n",
      "        [   94,    21,     0,     0,     0,     0,     0, 58165,     0],\n",
      "        [  178,    15,     0,     0,    49,     0,    57,     0, 71975]])\n",
      "Epoch end: Train, epoch number: 21\n",
      "TrainEpoch/CM\n",
      " tensor([[43329,    11,   838,  8493,   945,    87,  2494,     3,     4],\n",
      "        [    0, 72093,    24,     0,    13,     3,     0,   145,     0],\n",
      "        [ 1970,    81, 56310,  1868,   879,  1042,  7930,     4,     1],\n",
      "        [ 9151,    14,  1616, 42942,   978,    71,  3636,     0,     6],\n",
      "        [ 1140,    12,   730,  1635, 54828,   222,  1261,     0,     6],\n",
      "        [  190,   240,   186,     4,     8, 61515,    12,     0,     0],\n",
      "        [ 3964,    61, 16448,  6656,  1283,   768, 29233,     3,     0],\n",
      "        [   94,    21,     0,     0,     0,     0,     0, 58165,     0],\n",
      "        [  178,    15,     0,     0,    49,     0,    57,     0, 71975]])\n"
     ]
    },
    {
     "data": {
      "application/vnd.jupyter.widget-view+json": {
       "model_id": "8cdca83d9e814138bea71a23ed5528be",
       "version_major": 2,
       "version_minor": 0
      },
      "text/plain": [
       "Validation: |          | 0/? [00:00<?, ?it/s]"
      ]
     },
     "metadata": {},
     "output_type": "display_data"
    },
    {
     "name": "stdout",
     "output_type": "stream",
     "text": [
      "Epoch end: Validation, epoch number: 23\n",
      "ValidationEpoch/CM\n",
      " tensor([[45728,    11,   838,  8614,   946,    87,  2523,     3,     4],\n",
      "        [    0, 75373,    24,     0,    13,     3,     0,   145,     0],\n",
      "        [ 2000,    81, 59014,  1902,   879,  1042,  8342,     4,     1],\n",
      "        [ 9405,    14,  1633, 45210,   978,    71,  3747,     0,     6],\n",
      "        [ 1141,    12,   732,  1654, 57513,   222,  1269,     0,     6],\n",
      "        [  190,   240,   186,     4,     8, 64335,    12,     0,     0],\n",
      "        [ 4061,    61, 16930,  6901,  1288,   776, 31046,     3,     0],\n",
      "        [   94,    21,     0,     0,     0,     0,     0, 60810,     0],\n",
      "        [  178,    15,     0,     0,    49,     0,    57,     0, 75255]])\n",
      "Epoch end: Train, epoch number: 22\n",
      "TrainEpoch/CM\n",
      " tensor([[45728,    11,   838,  8614,   946,    87,  2523,     3,     4],\n",
      "        [    0, 75373,    24,     0,    13,     3,     0,   145,     0],\n",
      "        [ 2000,    81, 59014,  1902,   879,  1042,  8342,     4,     1],\n",
      "        [ 9405,    14,  1633, 45210,   978,    71,  3747,     0,     6],\n",
      "        [ 1141,    12,   732,  1654, 57513,   222,  1269,     0,     6],\n",
      "        [  190,   240,   186,     4,     8, 64335,    12,     0,     0],\n",
      "        [ 4061,    61, 16930,  6901,  1288,   776, 31046,     3,     0],\n",
      "        [   94,    21,     0,     0,     0,     0,     0, 60810,     0],\n",
      "        [  178,    15,     0,     0,    49,     0,    57,     0, 75255]])\n"
     ]
    },
    {
     "data": {
      "application/vnd.jupyter.widget-view+json": {
       "model_id": "ba9f599700594e31a8b1b1bf8b37e5e2",
       "version_major": 2,
       "version_minor": 0
      },
      "text/plain": [
       "Validation: |          | 0/? [00:00<?, ?it/s]"
      ]
     },
     "metadata": {},
     "output_type": "display_data"
    },
    {
     "name": "stdout",
     "output_type": "stream",
     "text": [
      "Epoch end: Validation, epoch number: 24\n",
      "ValidationEpoch/CM\n",
      " tensor([[48107,    11,   838,  8753,   946,    87,  2555,     3,     4],\n",
      "        [    0, 78653,    24,     0,    13,     3,     0,   145,     0],\n",
      "        [ 2025,    81, 61749,  1935,   879,  1042,  8729,     4,     1],\n",
      "        [ 9606,    14,  1650, 47559,   978,    71,  3830,     0,     6],\n",
      "        [ 1142,    12,   736,  1674, 60196,   222,  1276,     0,     6],\n",
      "        [  190,   240,   186,     4,     8, 67155,    12,     0,     0],\n",
      "        [ 4159,    61, 17459,  7158,  1293,   781, 32802,     3,     0],\n",
      "        [   94,    21,     0,     0,     0,     0,     0, 63455,     0],\n",
      "        [  178,    15,     0,     0,    49,     0,    57,     0, 78535]])\n",
      "Epoch end: Train, epoch number: 23\n",
      "TrainEpoch/CM\n",
      " tensor([[48107,    11,   838,  8753,   946,    87,  2555,     3,     4],\n",
      "        [    0, 78653,    24,     0,    13,     3,     0,   145,     0],\n",
      "        [ 2025,    81, 61749,  1935,   879,  1042,  8729,     4,     1],\n",
      "        [ 9606,    14,  1650, 47559,   978,    71,  3830,     0,     6],\n",
      "        [ 1142,    12,   736,  1674, 60196,   222,  1276,     0,     6],\n",
      "        [  190,   240,   186,     4,     8, 67155,    12,     0,     0],\n",
      "        [ 4159,    61, 17459,  7158,  1293,   781, 32802,     3,     0],\n",
      "        [   94,    21,     0,     0,     0,     0,     0, 63455,     0],\n",
      "        [  178,    15,     0,     0,    49,     0,    57,     0, 78535]])\n"
     ]
    },
    {
     "data": {
      "application/vnd.jupyter.widget-view+json": {
       "model_id": "534ff7df7c7a4eb8803be5b3086faee9",
       "version_major": 2,
       "version_minor": 0
      },
      "text/plain": [
       "Validation: |          | 0/? [00:00<?, ?it/s]"
      ]
     },
     "metadata": {},
     "output_type": "display_data"
    },
    {
     "name": "stdout",
     "output_type": "stream",
     "text": [
      "Epoch end: Validation, epoch number: 25\n",
      "ValidationEpoch/CM\n",
      " tensor([[50511,    11,   838,  8859,   948,    87,  2593,     3,     4],\n",
      "        [    0, 81933,    24,     0,    13,     3,     0,   145,     0],\n",
      "        [ 2049,    81, 64503,  1970,   879,  1042,  9096,     4,     1],\n",
      "        [ 9810,    14,  1667, 49895,   978,    71,  3923,     0,     6],\n",
      "        [ 1147,    12,   740,  1692, 62880,   222,  1280,     0,     6],\n",
      "        [  190,   240,   186,     4,     8, 69975,    12,     0,     0],\n",
      "        [ 4248,    61, 17925,  7412,  1298,   787, 34632,     3,     0],\n",
      "        [   94,    21,     0,     0,     0,     0,     0, 66100,     0],\n",
      "        [  178,    15,     0,     0,    49,     0,    57,     0, 81815]])\n",
      "Epoch end: Train, epoch number: 24\n"
     ]
    },
    {
     "name": "stderr",
     "output_type": "stream",
     "text": [
      "Metric Validation/Accuracy improved by 0.003 >= min_delta = 0.0. New best score: 0.933\n"
     ]
    },
    {
     "name": "stdout",
     "output_type": "stream",
     "text": [
      "TrainEpoch/CM\n",
      " tensor([[50511,    11,   838,  8859,   948,    87,  2593,     3,     4],\n",
      "        [    0, 81933,    24,     0,    13,     3,     0,   145,     0],\n",
      "        [ 2049,    81, 64503,  1970,   879,  1042,  9096,     4,     1],\n",
      "        [ 9810,    14,  1667, 49895,   978,    71,  3923,     0,     6],\n",
      "        [ 1147,    12,   740,  1692, 62880,   222,  1280,     0,     6],\n",
      "        [  190,   240,   186,     4,     8, 69975,    12,     0,     0],\n",
      "        [ 4248,    61, 17925,  7412,  1298,   787, 34632,     3,     0],\n",
      "        [   94,    21,     0,     0,     0,     0,     0, 66100,     0],\n",
      "        [  178,    15,     0,     0,    49,     0,    57,     0, 81815]])\n"
     ]
    },
    {
     "data": {
      "application/vnd.jupyter.widget-view+json": {
       "model_id": "ecf4ebabc0844191b81899fa233b1166",
       "version_major": 2,
       "version_minor": 0
      },
      "text/plain": [
       "Validation: |          | 0/? [00:00<?, ?it/s]"
      ]
     },
     "metadata": {},
     "output_type": "display_data"
    },
    {
     "name": "stdout",
     "output_type": "stream",
     "text": [
      "Epoch end: Validation, epoch number: 26\n",
      "ValidationEpoch/CM\n",
      " tensor([[52944,    11,   838,  8952,   948,    87,  2617,     3,     4],\n",
      "        [    0, 85213,    24,     0,    13,     3,     0,   145,     0],\n",
      "        [ 2076,    81, 67282,  2004,   879,  1042,  9436,     4,     1],\n",
      "        [10000,    14,  1682, 52252,   978,    71,  4011,     0,     6],\n",
      "        [ 1148,    12,   745,  1707, 65571,   222,  1283,     0,     6],\n",
      "        [  190,   240,   186,     4,     8, 72795,    12,     0,     0],\n",
      "        [ 4329,    61, 18419,  7660,  1303,   792, 36449,     3,     0],\n",
      "        [   94,    21,     0,     0,     0,     0,     0, 68745,     0],\n",
      "        [  178,    15,     0,     0,    49,     0,    57,     0, 85095]])\n",
      "Epoch end: Train, epoch number: 25\n",
      "TrainEpoch/CM\n",
      " "
     ]
    },
    {
     "name": "stderr",
     "output_type": "stream",
     "text": [
      "Metric Validation/Accuracy improved by 0.004 >= min_delta = 0.0. New best score: 0.937\n"
     ]
    },
    {
     "name": "stdout",
     "output_type": "stream",
     "text": [
      "tensor([[52944,    11,   838,  8952,   948,    87,  2617,     3,     4],\n",
      "        [    0, 85213,    24,     0,    13,     3,     0,   145,     0],\n",
      "        [ 2076,    81, 67282,  2004,   879,  1042,  9436,     4,     1],\n",
      "        [10000,    14,  1682, 52252,   978,    71,  4011,     0,     6],\n",
      "        [ 1148,    12,   745,  1707, 65571,   222,  1283,     0,     6],\n",
      "        [  190,   240,   186,     4,     8, 72795,    12,     0,     0],\n",
      "        [ 4329,    61, 18419,  7660,  1303,   792, 36449,     3,     0],\n",
      "        [   94,    21,     0,     0,     0,     0,     0, 68745,     0],\n",
      "        [  178,    15,     0,     0,    49,     0,    57,     0, 85095]])\n"
     ]
    },
    {
     "data": {
      "application/vnd.jupyter.widget-view+json": {
       "model_id": "0af0548fc7034dc3ae3e0474a5499028",
       "version_major": 2,
       "version_minor": 0
      },
      "text/plain": [
       "Validation: |          | 0/? [00:00<?, ?it/s]"
      ]
     },
     "metadata": {},
     "output_type": "display_data"
    },
    {
     "name": "stdout",
     "output_type": "stream",
     "text": [
      "Epoch end: Validation, epoch number: 27\n",
      "ValidationEpoch/CM\n",
      " tensor([[55345,    11,   838,  9073,   948,    87,  2645,     3,     4],\n",
      "        [    0, 88493,    24,     0,    13,     3,     0,   145,     0],\n",
      "        [ 2095,    81, 70066,  2036,   879,  1042,  9781,     4,     1],\n",
      "        [10157,    14,  1700, 54650,   978,    71,  4088,     0,     6],\n",
      "        [ 1148,    12,   749,  1722, 68263,   222,  1287,     0,     6],\n",
      "        [  190,   240,   186,     4,     8, 75615,    12,     0,     0],\n",
      "        [ 4401,    61, 18896,  7910,  1308,   797, 38290,     3,     0],\n",
      "        [   94,    21,     0,     0,     0,     0,     0, 71390,     0],\n",
      "        [  178,    15,     0,     0,    49,     0,    57,     0, 88375]])\n",
      "Epoch end: Train, epoch number: 26\n",
      "TrainEpoch/CM\n",
      " tensor([[55345,    11,   838,  9073,   948,    87,  2645,     3,     4],\n",
      "        [    0, 88493,    24,     0,    13,     3,     0,   145,     0],\n",
      "        [ 2095,    81, 70066,  2036,   879,  1042,  9781,     4,     1],\n",
      "        [10157,    14,  1700, 54650,   978,    71,  4088,     0,     6],\n",
      "        [ 1148,    12,   749,  1722, 68263,   222,  1287,     0,     6],\n",
      "        [  190,   240,   186,     4,     8, 75615,    12,     0,     0],\n",
      "        [ 4401,    61, 18896,  7910,  1308,   797, 38290,     3,     0],\n",
      "        [   94,    21,     0,     0,     0,     0,     0, 71390,     0],\n",
      "        [  178,    15,     0,     0,    49,     0,    57,     0, 88375]])\n"
     ]
    },
    {
     "data": {
      "application/vnd.jupyter.widget-view+json": {
       "model_id": "f5ad036030fc4818974b4c0f5cdbc729",
       "version_major": 2,
       "version_minor": 0
      },
      "text/plain": [
       "Validation: |          | 0/? [00:00<?, ?it/s]"
      ]
     },
     "metadata": {},
     "output_type": "display_data"
    },
    {
     "name": "stdout",
     "output_type": "stream",
     "text": [
      "Epoch end: Validation, epoch number: 28\n",
      "ValidationEpoch/CM\n",
      " tensor([[57780,    11,   838,  9165,   948,    87,  2668,     3,     4],\n",
      "        [    0, 91773,    24,     0,    13,     3,     0,   145,     0],\n",
      "        [ 2125,    81, 72888,  2066,   879,  1042, 10079,     4,     1],\n",
      "        [10447,    14,  1715, 56922,   978,    71,  4161,     0,     6],\n",
      "        [ 1153,    12,   753,  1734, 70955,   222,  1289,     0,     6],\n",
      "        [  190,   240,   186,     4,     8, 78435,    12,     0,     0],\n",
      "        [ 4494,    61, 19423,  8135,  1313,   802, 40085,     3,     0],\n",
      "        [   94,    21,     0,     0,     0,     0,     0, 74035,     0],\n",
      "        [  178,    15,     0,     0,    49,     0,    57,     0, 91655]])\n",
      "Epoch end: Train, epoch number: 27\n",
      "TrainEpoch/CM\n",
      " tensor([[57780,    11,   838,  9165,   948,    87,  2668,     3,     4],\n",
      "        [    0, 91773,    24,     0,    13,     3,     0,   145,     0],\n",
      "        [ 2125,    81, 72888,  2066,   879,  1042, 10079,     4,     1],\n",
      "        [10447,    14,  1715, 56922,   978,    71,  4161,     0,     6],\n",
      "        [ 1153,    12,   753,  1734, 70955,   222,  1289,     0,     6],\n",
      "        [  190,   240,   186,     4,     8, 78435,    12,     0,     0],\n",
      "        [ 4494,    61, 19423,  8135,  1313,   802, 40085,     3,     0],\n",
      "        [   94,    21,     0,     0,     0,     0,     0, 74035,     0],\n",
      "        [  178,    15,     0,     0,    49,     0,    57,     0, 91655]])\n"
     ]
    },
    {
     "data": {
      "application/vnd.jupyter.widget-view+json": {
       "model_id": "a5f0788e8c4341c0b741ffad2c64dabc",
       "version_major": 2,
       "version_minor": 0
      },
      "text/plain": [
       "Validation: |          | 0/? [00:00<?, ?it/s]"
      ]
     },
     "metadata": {},
     "output_type": "display_data"
    },
    {
     "name": "stdout",
     "output_type": "stream",
     "text": [
      "Epoch end: Validation, epoch number: 29\n",
      "ValidationEpoch/CM\n",
      " tensor([[60201,    11,   838,  9278,   948,    87,  2684,     3,     4],\n",
      "        [    0, 95053,    24,     0,    13,     3,     0,   145,     0],\n",
      "        [ 2145,    81, 75713,  2096,   879,  1042, 10384,     4,     1],\n",
      "        [10642,    14,  1727, 59297,   978,    71,  4229,     0,     6],\n",
      "        [ 1153,    12,   754,  1747, 73653,   222,  1292,     0,     6],\n",
      "        [  190,   240,   186,     4,     8, 81255,    12,     0,     0],\n",
      "        [ 4578,    61, 19887,  8366,  1317,   807, 41947,     3,     0],\n",
      "        [   94,    21,     0,     0,     0,     0,     0, 76680,     0],\n",
      "        [  178,    15,     0,     0,    49,     0,    57,     0, 94935]])\n",
      "Epoch end: Train, epoch number: 28\n",
      "TrainEpoch/CM\n",
      " tensor([[60201,    11,   838,  9278,   948,    87,  2684,     3,     4],\n",
      "        [    0, 95053,    24,     0,    13,     3,     0,   145,     0],\n",
      "        [ 2145,    81, 75713,  2096,   879,  1042, 10384,     4,     1],\n",
      "        [10642,    14,  1727, 59297,   978,    71,  4229,     0,     6],\n",
      "        [ 1153,    12,   754,  1747, 73653,   222,  1292,     0,     6],\n",
      "        [  190,   240,   186,     4,     8, 81255,    12,     0,     0],\n",
      "        [ 4578,    61, 19887,  8366,  1317,   807, 41947,     3,     0],\n",
      "        [   94,    21,     0,     0,     0,     0,     0, 76680,     0],\n",
      "        [  178,    15,     0,     0,    49,     0,    57,     0, 94935]])\n"
     ]
    },
    {
     "name": "stderr",
     "output_type": "stream",
     "text": [
      "Metric Validation/Accuracy improved by 0.003 >= min_delta = 0.0. New best score: 0.940\n"
     ]
    },
    {
     "data": {
      "application/vnd.jupyter.widget-view+json": {
       "model_id": "547d9a3f6d5c42a8af78b8d0550d9723",
       "version_major": 2,
       "version_minor": 0
      },
      "text/plain": [
       "Validation: |          | 0/? [00:00<?, ?it/s]"
      ]
     },
     "metadata": {},
     "output_type": "display_data"
    },
    {
     "name": "stdout",
     "output_type": "stream",
     "text": [
      "Epoch end: Validation, epoch number: 30\n",
      "ValidationEpoch/CM\n",
      " tensor([[62664,    11,   838,  9349,   948,    87,  2700,     3,     4],\n",
      "        [    0, 98333,    24,     0,    13,     3,     0,   145,     0],\n",
      "        [ 2158,    81, 78503,  2127,   879,  1042, 10730,     4,     1],\n",
      "        [10812,    14,  1739, 61700,   978,    71,  4294,     0,     6],\n",
      "        [ 1153,    12,   756,  1765, 76347,   222,  1293,     0,     6],\n",
      "        [  190,   240,   186,     4,     8, 84075,    12,     0,     0],\n",
      "        [ 4654,    61, 20338,  8598,  1322,   812, 43828,     3,     0],\n",
      "        [   94,    21,     0,     0,     0,     0,     0, 79325,     0],\n",
      "        [  178,    15,     0,     0,    49,     0,    57,     0, 98215]])\n",
      "Epoch end: Train, epoch number: 29\n",
      "TrainEpoch/CM\n",
      " tensor([[62664,    11,   838,  9349,   948,    87,  2700,     3,     4],\n",
      "        [    0, 98333,    24,     0,    13,     3,     0,   145,     0],\n",
      "        [ 2158,    81, 78503,  2127,   879,  1042, 10730,     4,     1],\n",
      "        [10812,    14,  1739, 61700,   978,    71,  4294,     0,     6],\n",
      "        [ 1153,    12,   756,  1765, 76347,   222,  1293,     0,     6],\n",
      "        [  190,   240,   186,     4,     8, 84075,    12,     0,     0],\n",
      "        [ 4654,    61, 20338,  8598,  1322,   812, 43828,     3,     0],\n",
      "        [   94,    21,     0,     0,     0,     0,     0, 79325,     0],\n",
      "        [  178,    15,     0,     0,    49,     0,    57,     0, 98215]])\n"
     ]
    },
    {
     "name": "stderr",
     "output_type": "stream",
     "text": [
      "Metric Validation/Accuracy improved by 0.002 >= min_delta = 0.0. New best score: 0.941\n"
     ]
    },
    {
     "data": {
      "application/vnd.jupyter.widget-view+json": {
       "model_id": "4367f4c93cd04cbb91bc7f05861dc590",
       "version_major": 2,
       "version_minor": 0
      },
      "text/plain": [
       "Validation: |          | 0/? [00:00<?, ?it/s]"
      ]
     },
     "metadata": {},
     "output_type": "display_data"
    },
    {
     "name": "stdout",
     "output_type": "stream",
     "text": [
      "Epoch end: Validation, epoch number: 31\n",
      "ValidationEpoch/CM\n",
      " tensor([[ 65142,     11,    838,   9405,    948,     87,   2716,      3,      4],\n",
      "        [     0, 101613,     24,      0,     13,      3,      0,    145,      0],\n",
      "        [  2182,     81,  81356,   2151,    879,   1042,  11009,      4,      1],\n",
      "        [ 11003,     14,   1755,  64077,    978,     71,   4360,      0,      6],\n",
      "        [  1156,     12,    758,   1778,  79043,    222,   1294,      0,      6],\n",
      "        [   190,    240,    186,      4,      8,  86895,     12,      0,      0],\n",
      "        [  4742,     61,  20866,   8834,   1325,    818,  45617,      3,      0],\n",
      "        [    94,     21,      0,      0,      0,      0,      0,  81970,      0],\n",
      "        [   178,     15,      0,      0,     49,      0,     57,      0, 101495]])\n",
      "Epoch end: Train, epoch number: 30\n",
      "TrainEpoch/CM\n",
      " tensor([[ 65142,     11,    838,   9405,    948,     87,   2716,      3,      4],\n",
      "        [     0, 101613,     24,      0,     13,      3,      0,    145,      0],\n",
      "        [  2182,     81,  81356,   2151,    879,   1042,  11009,      4,      1],\n",
      "        [ 11003,     14,   1755,  64077,    978,     71,   4360,      0,      6],\n",
      "        [  1156,     12,    758,   1778,  79043,    222,   1294,      0,      6],\n",
      "        [   190,    240,    186,      4,      8,  86895,     12,      0,      0],\n",
      "        [  4742,     61,  20866,   8834,   1325,    818,  45617,      3,      0],\n",
      "        [    94,     21,      0,      0,      0,      0,      0,  81970,      0],\n",
      "        [   178,     15,      0,      0,     49,      0,     57,      0, 101495]])\n"
     ]
    },
    {
     "data": {
      "application/vnd.jupyter.widget-view+json": {
       "model_id": "c3293aa0e1bf4852b39a0433029343b1",
       "version_major": 2,
       "version_minor": 0
      },
      "text/plain": [
       "Validation: |          | 0/? [00:00<?, ?it/s]"
      ]
     },
     "metadata": {},
     "output_type": "display_data"
    },
    {
     "name": "stdout",
     "output_type": "stream",
     "text": [
      "Epoch end: Validation, epoch number: 32\n",
      "ValidationEpoch/CM\n",
      " tensor([[ 67614,     11,    838,   9465,    948,     87,   2734,      3,      4],\n",
      "        [     0, 104893,     24,      0,     13,      3,      0,    145,      0],\n",
      "        [  2201,     81,  84155,   2172,    879,   1042,  11350,      4,      1],\n",
      "        [ 11168,     14,   1767,  66463,    978,     71,   4447,      0,      6],\n",
      "        [  1156,     12,    760,   1793,  81740,    222,   1295,      0,      6],\n",
      "        [   190,    240,    186,      4,      8,  89715,     12,      0,      0],\n",
      "        [  4810,     61,  21365,   9069,   1329,    824,  47455,      3,      0],\n",
      "        [    94,     21,      0,      0,      0,      0,      0,  84615,      0],\n",
      "        [   178,     15,      0,      0,     49,      0,     57,      0, 104775]])\n",
      "Epoch end: Train, epoch number: 31\n",
      "TrainEpoch/CM\n",
      " tensor([[ 67614,     11,    838,   9465,    948,     87,   2734,      3,      4],\n",
      "        [     0, 104893,     24,      0,     13,      3,      0,    145,      0],\n",
      "        [  2201,     81,  84155,   2172,    879,   1042,  11350,      4,      1],\n",
      "        [ 11168,     14,   1767,  66463,    978,     71,   4447,      0,      6],\n",
      "        [  1156,     12,    760,   1793,  81740,    222,   1295,      0,      6],\n",
      "        [   190,    240,    186,      4,      8,  89715,     12,      0,      0],\n",
      "        [  4810,     61,  21365,   9069,   1329,    824,  47455,      3,      0],\n",
      "        [    94,     21,      0,      0,      0,      0,      0,  84615,      0],\n",
      "        [   178,     15,      0,      0,     49,      0,     57,      0, 104775]])\n"
     ]
    },
    {
     "name": "stderr",
     "output_type": "stream",
     "text": [
      "Metric Validation/Accuracy improved by 0.003 >= min_delta = 0.0. New best score: 0.944\n"
     ]
    },
    {
     "data": {
      "application/vnd.jupyter.widget-view+json": {
       "model_id": "ededa6d3892048a68ec23492b5a6134b",
       "version_major": 2,
       "version_minor": 0
      },
      "text/plain": [
       "Validation: |          | 0/? [00:00<?, ?it/s]"
      ]
     },
     "metadata": {},
     "output_type": "display_data"
    },
    {
     "name": "stdout",
     "output_type": "stream",
     "text": [
      "Epoch end: Validation, epoch number: 33\n",
      "ValidationEpoch/CM\n",
      " tensor([[ 70084,     11,    838,   9531,    948,     87,   2748,      3,      4],\n",
      "        [     0, 108173,     24,      0,     13,      3,      0,    145,      0],\n",
      "        [  2214,     81,  86985,   2200,    879,   1042,  11659,      4,      1],\n",
      "        [ 11304,     14,   1779,  68901,    978,     71,   4511,      0,      6],\n",
      "        [  1156,     12,    762,   1805,  84438,    222,   1298,      0,      6],\n",
      "        [   190,    240,    186,      4,      8,  92535,     12,      0,      0],\n",
      "        [  4871,     61,  21811,   9312,   1334,    830,  49344,      3,      0],\n",
      "        [    94,     21,      0,      0,      0,      0,      0,  87260,      0],\n",
      "        [   178,     15,      0,      0,     49,      0,     57,      0, 108055]])\n",
      "Epoch end: Train, epoch number: 32\n",
      "TrainEpoch/CM\n",
      " tensor([[ 70084,     11,    838,   9531,    948,     87,   2748,      3,      4],\n",
      "        [     0, 108173,     24,      0,     13,      3,      0,    145,      0],\n",
      "        [  2214,     81,  86985,   2200,    879,   1042,  11659,      4,      1],\n",
      "        [ 11304,     14,   1779,  68901,    978,     71,   4511,      0,      6],\n",
      "        [  1156,     12,    762,   1805,  84438,    222,   1298,      0,      6],\n",
      "        [   190,    240,    186,      4,      8,  92535,     12,      0,      0],\n",
      "        [  4871,     61,  21811,   9312,   1334,    830,  49344,      3,      0],\n",
      "        [    94,     21,      0,      0,      0,      0,      0,  87260,      0],\n",
      "        [   178,     15,      0,      0,     49,      0,     57,      0, 108055]])\n"
     ]
    },
    {
     "data": {
      "application/vnd.jupyter.widget-view+json": {
       "model_id": "7fc0e723356b44f49027e6543323ba80",
       "version_major": 2,
       "version_minor": 0
      },
      "text/plain": [
       "Validation: |          | 0/? [00:00<?, ?it/s]"
      ]
     },
     "metadata": {},
     "output_type": "display_data"
    },
    {
     "name": "stdout",
     "output_type": "stream",
     "text": [
      "Epoch end: Validation, epoch number: 34\n",
      "ValidationEpoch/CM\n",
      " tensor([[ 72552,     11,    838,   9603,    948,     87,   2758,      3,      4],\n",
      "        [     0, 111453,     24,      0,     13,      3,      0,    145,      0],\n",
      "        [  2228,     81,  89817,   2218,    879,   1042,  11975,      4,      1],\n",
      "        [ 11443,     14,   1788,  71352,    978,     71,   4562,      0,      6],\n",
      "        [  1156,     12,    762,   1818,  87138,    222,   1300,      0,      6],\n",
      "        [   190,    240,    186,      4,      8,  95355,     12,      0,      0],\n",
      "        [  4927,     61,  22278,   9559,   1335,    835,  51218,      3,      0],\n",
      "        [    94,     21,      0,      0,      0,      0,      0,  89905,      0],\n",
      "        [   178,     15,      0,      0,     49,      0,     57,      0, 111335]])\n",
      "Epoch end: Train, epoch number: 33\n",
      "TrainEpoch/CM\n",
      " tensor([[ 72552,     11,    838,   9603,    948,     87,   2758,      3,      4],\n",
      "        [     0, 111453,     24,      0,     13,      3,      0,    145,      0],\n",
      "        [  2228,     81,  89817,   2218,    879,   1042,  11975,      4,      1],\n",
      "        [ 11443,     14,   1788,  71352,    978,     71,   4562,      0,      6],\n",
      "        [  1156,     12,    762,   1818,  87138,    222,   1300,      0,      6],\n",
      "        [   190,    240,    186,      4,      8,  95355,     12,      0,      0],\n",
      "        [  4927,     61,  22278,   9559,   1335,    835,  51218,      3,      0],\n",
      "        [    94,     21,      0,      0,      0,      0,      0,  89905,      0],\n",
      "        [   178,     15,      0,      0,     49,      0,     57,      0, 111335]])\n"
     ]
    },
    {
     "name": "stderr",
     "output_type": "stream",
     "text": [
      "Metric Validation/Accuracy improved by 0.001 >= min_delta = 0.0. New best score: 0.945\n"
     ]
    },
    {
     "data": {
      "application/vnd.jupyter.widget-view+json": {
       "model_id": "d4353896a65d4c69bd334a4f7b3d475e",
       "version_major": 2,
       "version_minor": 0
      },
      "text/plain": [
       "Validation: |          | 0/? [00:00<?, ?it/s]"
      ]
     },
     "metadata": {},
     "output_type": "display_data"
    },
    {
     "name": "stdout",
     "output_type": "stream",
     "text": [
      "Epoch end: Validation, epoch number: 35\n",
      "ValidationEpoch/CM\n",
      " tensor([[ 75044,     11,    838,   9650,    948,     87,   2769,      3,      4],\n",
      "        [     0, 114733,     24,      0,     13,      3,      0,    145,      0],\n",
      "        [  2240,     81,  92624,   2233,    879,   1042,  12321,      4,      1],\n",
      "        [ 11589,     14,   1795,  73779,    978,     71,   4632,      0,      6],\n",
      "        [  1156,     12,    763,   1830,  89839,    222,   1301,      0,      6],\n",
      "        [   190,    240,    186,      4,      8,  98175,     12,      0,      0],\n",
      "        [  4991,     61,  22689,   9778,   1338,    840,  53166,      3,      0],\n",
      "        [    94,     21,      0,      0,      0,      0,      0,  92550,      0],\n",
      "        [   178,     15,      0,      0,     49,      0,     57,      0, 114615]])\n",
      "Epoch end: Train, epoch number: 34\n",
      "TrainEpoch/CM\n",
      " tensor([[ 75044,     11,    838,   9650,    948,     87,   2769,      3,      4],\n",
      "        [     0, 114733,     24,      0,     13,      3,      0,    145,      0],\n",
      "        [  2240,     81,  92624,   2233,    879,   1042,  12321,      4,      1],\n",
      "        [ 11589,     14,   1795,  73779,    978,     71,   4632,      0,      6],\n",
      "        [  1156,     12,    763,   1830,  89839,    222,   1301,      0,      6],\n",
      "        [   190,    240,    186,      4,      8,  98175,     12,      0,      0],\n",
      "        [  4991,     61,  22689,   9778,   1338,    840,  53166,      3,      0],\n",
      "        [    94,     21,      0,      0,      0,      0,      0,  92550,      0],\n",
      "        [   178,     15,      0,      0,     49,      0,     57,      0, 114615]])\n"
     ]
    },
    {
     "name": "stderr",
     "output_type": "stream",
     "text": [
      "Metric Validation/Accuracy improved by 0.001 >= min_delta = 0.0. New best score: 0.946\n"
     ]
    },
    {
     "data": {
      "application/vnd.jupyter.widget-view+json": {
       "model_id": "f61b37675641410cb8c65ddd33841c0a",
       "version_major": 2,
       "version_minor": 0
      },
      "text/plain": [
       "Validation: |          | 0/? [00:00<?, ?it/s]"
      ]
     },
     "metadata": {},
     "output_type": "display_data"
    },
    {
     "name": "stdout",
     "output_type": "stream",
     "text": [
      "Epoch end: Validation, epoch number: 36\n",
      "ValidationEpoch/CM\n",
      " tensor([[ 77536,     11,    838,   9700,    948,     87,   2777,      3,      4],\n",
      "        [     0, 118013,     24,      0,     13,      3,      0,    145,      0],\n",
      "        [  2254,     81,  95506,   2247,    879,   1042,  12591,      4,      1],\n",
      "        [ 11722,     14,   1802,  76220,    978,     71,   4701,      0,      6],\n",
      "        [  1156,     12,    763,   1840,  92544,    222,   1301,      0,      6],\n",
      "        [   190,    240,    186,      4,      8, 100995,     12,      0,      0],\n",
      "        [  5044,     61,  23146,  10013,   1338,    845,  55066,      3,      0],\n",
      "        [    94,     21,      0,      0,      0,      0,      0,  95195,      0],\n",
      "        [   178,     15,      0,      0,     49,      0,     57,      0, 117895]])\n",
      "Epoch end: Train, epoch number: 35\n",
      "TrainEpoch/CM\n",
      " tensor([[ 77536,     11,    838,   9700,    948,     87,   2777,      3,      4],\n",
      "        [     0, 118013,     24,      0,     13,      3,      0,    145,      0],\n",
      "        [  2254,     81,  95506,   2247,    879,   1042,  12591,      4,      1],\n",
      "        [ 11722,     14,   1802,  76220,    978,     71,   4701,      0,      6],\n",
      "        [  1156,     12,    763,   1840,  92544,    222,   1301,      0,      6],\n",
      "        [   190,    240,    186,      4,      8, 100995,     12,      0,      0],\n",
      "        [  5044,     61,  23146,  10013,   1338,    845,  55066,      3,      0],\n",
      "        [    94,     21,      0,      0,      0,      0,      0,  95195,      0],\n",
      "        [   178,     15,      0,      0,     49,      0,     57,      0, 117895]])\n"
     ]
    },
    {
     "name": "stderr",
     "output_type": "stream",
     "text": [
      "Metric Validation/Accuracy improved by 0.004 >= min_delta = 0.0. New best score: 0.950\n"
     ]
    },
    {
     "data": {
      "application/vnd.jupyter.widget-view+json": {
       "model_id": "0635cc4ee8414bcd9dfea775fd617b40",
       "version_major": 2,
       "version_minor": 0
      },
      "text/plain": [
       "Validation: |          | 0/? [00:00<?, ?it/s]"
      ]
     },
     "metadata": {},
     "output_type": "display_data"
    },
    {
     "name": "stdout",
     "output_type": "stream",
     "text": [
      "Epoch end: Validation, epoch number: 37\n",
      "ValidationEpoch/CM\n",
      " tensor([[ 80030,     11,    838,   9750,    948,     87,   2783,      3,      4],\n",
      "        [     0, 121293,     24,      0,     13,      3,      0,    145,      0],\n",
      "        [  2266,     81,  98382,   2265,    879,   1042,  12865,      4,      1],\n",
      "        [ 11841,     14,   1811,  78687,    978,     71,   4756,      0,      6],\n",
      "        [  1156,     12,    763,   1850,  95249,    222,   1301,      0,      6],\n",
      "        [   190,    240,    186,      4,      8, 103815,     12,      0,      0],\n",
      "        [  5090,     61,  23590,  10243,   1339,    850,  56990,      3,      0],\n",
      "        [    94,     21,      0,      0,      0,      0,      0,  97840,      0],\n",
      "        [   178,     15,      0,      0,     49,      0,     57,      0, 121175]])\n",
      "Epoch end: Train, epoch number: 36\n",
      "TrainEpoch/CM\n",
      " tensor([[ 80030,     11,    838,   9750,    948,     87,   2783,      3,      4],\n",
      "        [     0, 121293,     24,      0,     13,      3,      0,    145,      0],\n",
      "        [  2266,     81,  98382,   2265,    879,   1042,  12865,      4,      1],\n",
      "        [ 11841,     14,   1811,  78687,    978,     71,   4756,      0,      6],\n",
      "        [  1156,     12,    763,   1850,  95249,    222,   1301,      0,      6],\n",
      "        [   190,    240,    186,      4,      8, 103815,     12,      0,      0],\n",
      "        [  5090,     61,  23590,  10243,   1339,    850,  56990,      3,      0],\n",
      "        [    94,     21,      0,      0,      0,      0,      0,  97840,      0],\n",
      "        [   178,     15,      0,      0,     49,      0,     57,      0, 121175]])\n"
     ]
    },
    {
     "name": "stderr",
     "output_type": "stream",
     "text": [
      "Metric Validation/Accuracy improved by 0.001 >= min_delta = 0.0. New best score: 0.951\n"
     ]
    },
    {
     "data": {
      "application/vnd.jupyter.widget-view+json": {
       "model_id": "69a2c1cecf4b4d5bb68cf4d56f64c9c9",
       "version_major": 2,
       "version_minor": 0
      },
      "text/plain": [
       "Validation: |          | 0/? [00:00<?, ?it/s]"
      ]
     },
     "metadata": {},
     "output_type": "display_data"
    },
    {
     "name": "stdout",
     "output_type": "stream",
     "text": [
      "Epoch end: Validation, epoch number: 38\n",
      "ValidationEpoch/CM\n",
      " tensor([[ 82527,     11,    838,   9793,    948,     87,   2793,      3,      4],\n",
      "        [     0, 124573,     24,      0,     13,      3,      0,    145,      0],\n",
      "        [  2280,     81, 101224,   2276,    879,   1042,  13178,      4,      1],\n",
      "        [ 11957,     14,   1820,  81144,    978,     71,   4824,      0,      6],\n",
      "        [  1156,     12,    763,   1860,  97951,    222,   1304,      0,      6],\n",
      "        [   190,    240,    186,      4,      8, 106635,     12,      0,      0],\n",
      "        [  5130,     61,  23980,  10465,   1339,    855,  58983,      3,      0],\n",
      "        [    94,     21,      0,      0,      0,      0,      0, 100485,      0],\n",
      "        [   178,     15,      0,      0,     49,      0,     57,      0, 124455]])\n",
      "Epoch end: Train, epoch number: 37\n",
      "TrainEpoch/CM\n",
      " tensor([[ 82527,     11,    838,   9793,    948,     87,   2793,      3,      4],\n",
      "        [     0, 124573,     24,      0,     13,      3,      0,    145,      0],\n",
      "        [  2280,     81, 101224,   2276,    879,   1042,  13178,      4,      1],\n",
      "        [ 11957,     14,   1820,  81144,    978,     71,   4824,      0,      6],\n",
      "        [  1156,     12,    763,   1860,  97951,    222,   1304,      0,      6],\n",
      "        [   190,    240,    186,      4,      8, 106635,     12,      0,      0],\n",
      "        [  5130,     61,  23980,  10465,   1339,    855,  58983,      3,      0],\n",
      "        [    94,     21,      0,      0,      0,      0,      0, 100485,      0],\n",
      "        [   178,     15,      0,      0,     49,      0,     57,      0, 124455]])\n"
     ]
    },
    {
     "data": {
      "application/vnd.jupyter.widget-view+json": {
       "model_id": "e7c57f9f62ff4615a00fbed32bbd52fe",
       "version_major": 2,
       "version_minor": 0
      },
      "text/plain": [
       "Validation: |          | 0/? [00:00<?, ?it/s]"
      ]
     },
     "metadata": {},
     "output_type": "display_data"
    },
    {
     "name": "stdout",
     "output_type": "stream",
     "text": [
      "Epoch end: Validation, epoch number: 39\n",
      "ValidationEpoch/CM\n",
      " tensor([[ 85017,     11,    838,   9843,    948,     87,   2803,      3,      4],\n",
      "        [     0, 127853,     24,      0,     13,      3,      0,    145,      0],\n",
      "        [  2292,     81, 104043,   2289,    879,   1042,  13514,      4,      1],\n",
      "        [ 12078,     14,   1829,  83600,    978,     71,   4888,      0,      6],\n",
      "        [  1156,     12,    763,   1869, 100657,    222,   1304,      0,      6],\n",
      "        [   190,    240,    186,      4,      8, 109455,     12,      0,      0],\n",
      "        [  5172,     61,  24365,  10683,   1339,    860,  60983,      3,      0],\n",
      "        [    94,     21,      0,      0,      0,      0,      0, 103130,      0],\n",
      "        [   178,     15,      0,      0,     49,      0,     57,      0, 127735]])\n"
     ]
    },
    {
     "name": "stderr",
     "output_type": "stream",
     "text": [
      "Metric Validation/Accuracy improved by 0.001 >= min_delta = 0.0. New best score: 0.951\n"
     ]
    },
    {
     "name": "stdout",
     "output_type": "stream",
     "text": [
      "Epoch end: Train, epoch number: 38\n",
      "TrainEpoch/CM\n",
      " tensor([[ 85017,     11,    838,   9843,    948,     87,   2803,      3,      4],\n",
      "        [     0, 127853,     24,      0,     13,      3,      0,    145,      0],\n",
      "        [  2292,     81, 104043,   2289,    879,   1042,  13514,      4,      1],\n",
      "        [ 12078,     14,   1829,  83600,    978,     71,   4888,      0,      6],\n",
      "        [  1156,     12,    763,   1869, 100657,    222,   1304,      0,      6],\n",
      "        [   190,    240,    186,      4,      8, 109455,     12,      0,      0],\n",
      "        [  5172,     61,  24365,  10683,   1339,    860,  60983,      3,      0],\n",
      "        [    94,     21,      0,      0,      0,      0,      0, 103130,      0],\n",
      "        [   178,     15,      0,      0,     49,      0,     57,      0, 127735]])\n"
     ]
    },
    {
     "data": {
      "application/vnd.jupyter.widget-view+json": {
       "model_id": "d8992e8ade8640e4b1959823e5755432",
       "version_major": 2,
       "version_minor": 0
      },
      "text/plain": [
       "Validation: |          | 0/? [00:00<?, ?it/s]"
      ]
     },
     "metadata": {},
     "output_type": "display_data"
    },
    {
     "name": "stdout",
     "output_type": "stream",
     "text": [
      "Epoch end: Validation, epoch number: 40\n",
      "ValidationEpoch/CM\n",
      " tensor([[ 87507,     11,    838,   9893,    948,     87,   2813,      3,      4],\n",
      "        [     0, 131133,     24,      0,     13,      3,      0,    145,      0],\n",
      "        [  2304,     81, 106874,   2302,    879,   1042,  13838,      4,      1],\n",
      "        [ 12167,     14,   1839,  86091,    978,     71,   4948,      0,      6],\n",
      "        [  1156,     12,    763,   1878, 103362,    222,   1305,      0,      6],\n",
      "        [   190,    240,    186,      4,      8, 112275,     12,      0,      0],\n",
      "        [  5206,     61,  24742,  10912,   1339,    865,  62988,      3,      0],\n",
      "        [    94,     21,      0,      0,      0,      0,      0, 105775,      0],\n",
      "        [   178,     15,      0,      0,     49,      0,     57,      0, 131015]])\n"
     ]
    },
    {
     "name": "stderr",
     "output_type": "stream",
     "text": [
      "Metric Validation/Accuracy improved by 0.002 >= min_delta = 0.0. New best score: 0.953\n"
     ]
    },
    {
     "name": "stdout",
     "output_type": "stream",
     "text": [
      "Epoch end: Train, epoch number: 39\n",
      "TrainEpoch/CM\n",
      " tensor([[ 87507,     11,    838,   9893,    948,     87,   2813,      3,      4],\n",
      "        [     0, 131133,     24,      0,     13,      3,      0,    145,      0],\n",
      "        [  2304,     81, 106874,   2302,    879,   1042,  13838,      4,      1],\n",
      "        [ 12167,     14,   1839,  86091,    978,     71,   4948,      0,      6],\n",
      "        [  1156,     12,    763,   1878, 103362,    222,   1305,      0,      6],\n",
      "        [   190,    240,    186,      4,      8, 112275,     12,      0,      0],\n",
      "        [  5206,     61,  24742,  10912,   1339,    865,  62988,      3,      0],\n",
      "        [    94,     21,      0,      0,      0,      0,      0, 105775,      0],\n",
      "        [   178,     15,      0,      0,     49,      0,     57,      0, 131015]])\n"
     ]
    },
    {
     "data": {
      "application/vnd.jupyter.widget-view+json": {
       "model_id": "40d6edcebc8842feb229f25207535686",
       "version_major": 2,
       "version_minor": 0
      },
      "text/plain": [
       "Validation: |          | 0/? [00:00<?, ?it/s]"
      ]
     },
     "metadata": {},
     "output_type": "display_data"
    },
    {
     "name": "stdout",
     "output_type": "stream",
     "text": [
      "Epoch end: Validation, epoch number: 41\n",
      "ValidationEpoch/CM\n",
      " tensor([[ 89996,     11,    838,   9945,    948,     87,   2822,      3,      4],\n",
      "        [     0, 134413,     24,      0,     13,      3,      0,    145,      0],\n",
      "        [  2316,     81, 109772,   2310,    879,   1042,  14100,      4,      1],\n",
      "        [ 12305,     14,   1847,  88535,    978,     71,   5008,      0,      6],\n",
      "        [  1156,     12,    763,   1886, 106069,    222,   1305,      0,      6],\n",
      "        [   190,    240,    186,      4,      8, 115095,     12,      0,      0],\n",
      "        [  5255,     61,  25157,  11129,   1339,    870,  64952,      3,      0],\n",
      "        [    94,     21,      0,      0,      0,      0,      0, 108420,      0],\n",
      "        [   178,     15,      0,      0,     49,      0,     57,      0, 134295]])\n",
      "Epoch end: Train, epoch number: 40\n",
      "TrainEpoch/CM\n",
      " tensor([[ 89996,     11,    838,   9945,    948,     87,   2822,      3,      4],\n",
      "        [     0, 134413,     24,      0,     13,      3,      0,    145,      0],\n",
      "        [  2316,     81, 109772,   2310,    879,   1042,  14100,      4,      1],\n",
      "        [ 12305,     14,   1847,  88535,    978,     71,   5008,      0,      6],\n",
      "        [  1156,     12,    763,   1886, 106069,    222,   1305,      0,      6],\n",
      "        [   190,    240,    186,      4,      8, 115095,     12,      0,      0],\n",
      "        [  5255,     61,  25157,  11129,   1339,    870,  64952,      3,      0],\n",
      "        [    94,     21,      0,      0,      0,      0,      0, 108420,      0],\n",
      "        [   178,     15,      0,      0,     49,      0,     57,      0, 134295]])\n"
     ]
    },
    {
     "data": {
      "application/vnd.jupyter.widget-view+json": {
       "model_id": "095fa6dbb9fc4941b35494461a976c58",
       "version_major": 2,
       "version_minor": 0
      },
      "text/plain": [
       "Validation: |          | 0/? [00:00<?, ?it/s]"
      ]
     },
     "metadata": {},
     "output_type": "display_data"
    },
    {
     "name": "stdout",
     "output_type": "stream",
     "text": [
      "Epoch end: Validation, epoch number: 42\n",
      "ValidationEpoch/CM\n",
      " tensor([[ 92511,     11,    838,   9975,    948,     87,   2827,      3,      4],\n",
      "        [     0, 137693,     24,      0,     13,      3,      0,    145,      0],\n",
      "        [  2328,     81, 112657,   2310,    879,   1042,  14383,      4,      1],\n",
      "        [ 12435,     14,   1855,  90988,    978,     71,   5067,      0,      6],\n",
      "        [  1156,     12,    763,   1893, 108777,    222,   1305,      0,      6],\n",
      "        [   190,    240,    186,      4,      8, 117915,     12,      0,      0],\n",
      "        [  5301,     61,  25540,  11345,   1339,    875,  66952,      3,      0],\n",
      "        [    94,     21,      0,      0,      0,      0,      0, 111065,      0],\n",
      "        [   178,     15,      0,      0,     49,      0,     57,      0, 137575]])\n",
      "Epoch end: Train, epoch number: 41\n",
      "TrainEpoch/CM\n",
      " tensor([[ 92511,     11,    838,   9975,    948,     87,   2827,      3,      4],\n",
      "        [     0, 137693,     24,      0,     13,      3,      0,    145,      0],\n",
      "        [  2328,     81, 112657,   2310,    879,   1042,  14383,      4,      1],\n",
      "        [ 12435,     14,   1855,  90988,    978,     71,   5067,      0,      6],\n",
      "        [  1156,     12,    763,   1893, 108777,    222,   1305,      0,      6],\n",
      "        [   190,    240,    186,      4,      8, 117915,     12,      0,      0],\n",
      "        [  5301,     61,  25540,  11345,   1339,    875,  66952,      3,      0],\n",
      "        [    94,     21,      0,      0,      0,      0,      0, 111065,      0],\n",
      "        [   178,     15,      0,      0,     49,      0,     57,      0, 137575]])\n"
     ]
    },
    {
     "data": {
      "application/vnd.jupyter.widget-view+json": {
       "model_id": "3dbd54bf2b1548b7bafa79c46e93ebf6",
       "version_major": 2,
       "version_minor": 0
      },
      "text/plain": [
       "Validation: |          | 0/? [00:00<?, ?it/s]"
      ]
     },
     "metadata": {},
     "output_type": "display_data"
    },
    {
     "name": "stdout",
     "output_type": "stream",
     "text": [
      "Epoch end: Validation, epoch number: 43\n",
      "ValidationEpoch/CM\n",
      " tensor([[ 95009,     11,    838,  10023,    948,     87,   2831,      3,      4],\n",
      "        [     0, 140973,     24,      0,     13,      3,      0,    145,      0],\n",
      "        [  2340,     81, 115584,   2311,    879,   1042,  14623,      4,      1],\n",
      "        [ 12523,     14,   1864,  93485,    978,     71,   5123,      0,      6],\n",
      "        [  1156,     12,    763,   1900, 111485,    222,   1305,      0,      6],\n",
      "        [   190,    240,    186,      4,      8, 120735,     12,      0,      0],\n",
      "        [  5331,     61,  25945,  11571,   1339,    880,  68936,      3,      0],\n",
      "        [    94,     21,      0,      0,      0,      0,      0, 113710,      0],\n",
      "        [   178,     15,      0,      0,     49,      0,     57,      0, 140855]])\n"
     ]
    },
    {
     "name": "stderr",
     "output_type": "stream",
     "text": [
      "Metric Validation/Accuracy improved by 0.004 >= min_delta = 0.0. New best score: 0.957\n"
     ]
    },
    {
     "name": "stdout",
     "output_type": "stream",
     "text": [
      "Epoch end: Train, epoch number: 42\n",
      "TrainEpoch/CM\n",
      " tensor([[ 95009,     11,    838,  10023,    948,     87,   2831,      3,      4],\n",
      "        [     0, 140973,     24,      0,     13,      3,      0,    145,      0],\n",
      "        [  2340,     81, 115584,   2311,    879,   1042,  14623,      4,      1],\n",
      "        [ 12523,     14,   1864,  93485,    978,     71,   5123,      0,      6],\n",
      "        [  1156,     12,    763,   1900, 111485,    222,   1305,      0,      6],\n",
      "        [   190,    240,    186,      4,      8, 120735,     12,      0,      0],\n",
      "        [  5331,     61,  25945,  11571,   1339,    880,  68936,      3,      0],\n",
      "        [    94,     21,      0,      0,      0,      0,      0, 113710,      0],\n",
      "        [   178,     15,      0,      0,     49,      0,     57,      0, 140855]])\n"
     ]
    },
    {
     "data": {
      "application/vnd.jupyter.widget-view+json": {
       "model_id": "117f14c1fb644dc192e40d3cc67a9310",
       "version_major": 2,
       "version_minor": 0
      },
      "text/plain": [
       "Validation: |          | 0/? [00:00<?, ?it/s]"
      ]
     },
     "metadata": {},
     "output_type": "display_data"
    },
    {
     "name": "stdout",
     "output_type": "stream",
     "text": [
      "Epoch end: Validation, epoch number: 44\n",
      "ValidationEpoch/CM\n",
      " tensor([[ 97493,     11,    838,  10081,    948,     87,   2839,      3,      4],\n",
      "        [     0, 144253,     24,      0,     13,      3,      0,    145,      0],\n",
      "        [  2352,     81, 118482,   2318,    879,   1042,  14886,      4,      1],\n",
      "        [ 12593,     14,   1872,  96004,    978,     71,   5176,      0,      6],\n",
      "        [  1156,     12,    763,   1904, 114196,    222,   1305,      0,      6],\n",
      "        [   190,    240,    186,      4,      8, 123555,     12,      0,      0],\n",
      "        [  5359,     61,  26310,  11797,   1339,    885,  70962,      3,      0],\n",
      "        [    94,     21,      0,      0,      0,      0,      0, 116355,      0],\n",
      "        [   178,     15,      0,      0,     49,      0,     57,      0, 144135]])\n",
      "Epoch end: Train, epoch number: 43\n",
      "TrainEpoch/CM\n",
      " tensor([[ 97493,     11,    838,  10081,    948,     87,   2839,      3,      4],\n",
      "        [     0, 144253,     24,      0,     13,      3,      0,    145,      0],\n",
      "        [  2352,     81, 118482,   2318,    879,   1042,  14886,      4,      1],\n",
      "        [ 12593,     14,   1872,  96004,    978,     71,   5176,      0,      6],\n",
      "        [  1156,     12,    763,   1904, 114196,    222,   1305,      0,      6],\n",
      "        [   190,    240,    186,      4,      8, 123555,     12,      0,      0],\n",
      "        [  5359,     61,  26310,  11797,   1339,    885,  70962,      3,      0],\n",
      "        [    94,     21,      0,      0,      0,      0,      0, 116355,      0],\n",
      "        [   178,     15,      0,      0,     49,      0,     57,      0, 144135]])\n"
     ]
    },
    {
     "data": {
      "application/vnd.jupyter.widget-view+json": {
       "model_id": "f183aee5ba09493dab618abe20091696",
       "version_major": 2,
       "version_minor": 0
      },
      "text/plain": [
       "Validation: |          | 0/? [00:00<?, ?it/s]"
      ]
     },
     "metadata": {},
     "output_type": "display_data"
    },
    {
     "name": "stdout",
     "output_type": "stream",
     "text": [
      "Epoch end: Validation, epoch number: 45\n",
      "ValidationEpoch/CM\n",
      " tensor([[ 99991,     11,    838,  10129,    948,     87,   2843,      3,      4],\n",
      "        [     0, 147533,     24,      0,     13,      3,      0,    145,      0],\n",
      "        [  2364,     81, 121410,   2324,    879,   1042,  15120,      4,      1],\n",
      "        [ 12668,     14,   1880,  98521,    978,     71,   5226,      0,      6],\n",
      "        [  1156,     12,    763,   1908, 116907,    222,   1305,      0,      6],\n",
      "        [   190,    240,    186,      4,      8, 126375,     12,      0,      0],\n",
      "        [  5391,     61,  26721,  12019,   1339,    890,  72942,      3,      0],\n",
      "        [    94,     21,      0,      0,      0,      0,      0, 119000,      0],\n",
      "        [   178,     15,      0,      0,     49,      0,     57,      0, 147415]])\n",
      "Epoch end: Train, epoch number: 44\n"
     ]
    },
    {
     "name": "stderr",
     "output_type": "stream",
     "text": [
      "Metric Validation/Accuracy improved by 0.000 >= min_delta = 0.0. New best score: 0.957\n"
     ]
    },
    {
     "name": "stdout",
     "output_type": "stream",
     "text": [
      "TrainEpoch/CM\n",
      " tensor([[ 99991,     11,    838,  10129,    948,     87,   2843,      3,      4],\n",
      "        [     0, 147533,     24,      0,     13,      3,      0,    145,      0],\n",
      "        [  2364,     81, 121410,   2324,    879,   1042,  15120,      4,      1],\n",
      "        [ 12668,     14,   1880,  98521,    978,     71,   5226,      0,      6],\n",
      "        [  1156,     12,    763,   1908, 116907,    222,   1305,      0,      6],\n",
      "        [   190,    240,    186,      4,      8, 126375,     12,      0,      0],\n",
      "        [  5391,     61,  26721,  12019,   1339,    890,  72942,      3,      0],\n",
      "        [    94,     21,      0,      0,      0,      0,      0, 119000,      0],\n",
      "        [   178,     15,      0,      0,     49,      0,     57,      0, 147415]])\n"
     ]
    },
    {
     "data": {
      "application/vnd.jupyter.widget-view+json": {
       "model_id": "57f06216ff2d48aebd60d11df8ff8bac",
       "version_major": 2,
       "version_minor": 0
      },
      "text/plain": [
       "Validation: |          | 0/? [00:00<?, ?it/s]"
      ]
     },
     "metadata": {},
     "output_type": "display_data"
    },
    {
     "name": "stdout",
     "output_type": "stream",
     "text": [
      "Epoch end: Validation, epoch number: 46\n",
      "ValidationEpoch/CM\n",
      " tensor([[102511,     11,    838,  10155,    948,     87,   2847,      3,      4],\n",
      "        [     0, 150813,     24,      0,     13,      3,      0,    145,      0],\n",
      "        [  2376,     81, 124300,   2324,    879,   1042,  15398,      4,      1],\n",
      "        [ 12731,     14,   1887, 101044,    978,     71,   5283,      0,      6],\n",
      "        [  1156,     12,    763,   1910, 119620,    222,   1305,      0,      6],\n",
      "        [   190,    240,    186,      4,      8, 129195,     12,      0,      0],\n",
      "        [  5422,     61,  27079,  12237,   1339,    895,  74980,      3,      0],\n",
      "        [    94,     21,      0,      0,      0,      0,      0, 121645,      0],\n",
      "        [   178,     15,      0,      0,     49,      0,     57,      0, 150695]])\n"
     ]
    },
    {
     "name": "stderr",
     "output_type": "stream",
     "text": [
      "Metric Validation/Accuracy improved by 0.002 >= min_delta = 0.0. New best score: 0.959\n"
     ]
    },
    {
     "name": "stdout",
     "output_type": "stream",
     "text": [
      "Epoch end: Train, epoch number: 45\n",
      "TrainEpoch/CM\n",
      " tensor([[102511,     11,    838,  10155,    948,     87,   2847,      3,      4],\n",
      "        [     0, 150813,     24,      0,     13,      3,      0,    145,      0],\n",
      "        [  2376,     81, 124300,   2324,    879,   1042,  15398,      4,      1],\n",
      "        [ 12731,     14,   1887, 101044,    978,     71,   5283,      0,      6],\n",
      "        [  1156,     12,    763,   1910, 119620,    222,   1305,      0,      6],\n",
      "        [   190,    240,    186,      4,      8, 129195,     12,      0,      0],\n",
      "        [  5422,     61,  27079,  12237,   1339,    895,  74980,      3,      0],\n",
      "        [    94,     21,      0,      0,      0,      0,      0, 121645,      0],\n",
      "        [   178,     15,      0,      0,     49,      0,     57,      0, 150695]])\n"
     ]
    },
    {
     "data": {
      "application/vnd.jupyter.widget-view+json": {
       "model_id": "152107acf042416e91b81e0bc0969e58",
       "version_major": 2,
       "version_minor": 0
      },
      "text/plain": [
       "Validation: |          | 0/? [00:00<?, ?it/s]"
      ]
     },
     "metadata": {},
     "output_type": "display_data"
    },
    {
     "name": "stdout",
     "output_type": "stream",
     "text": [
      "Epoch end: Validation, epoch number: 47\n",
      "ValidationEpoch/CM\n",
      " tensor([[105031,     11,    838,  10182,    948,     87,   2850,      3,      4],\n",
      "        [     0, 154093,     24,      0,     13,      3,      0,    145,      0],\n",
      "        [  2388,     81, 127216,   2324,    879,   1042,  15650,      4,      1],\n",
      "        [ 12800,     14,   1892, 103569,    978,     71,   5334,      0,      6],\n",
      "        [  1156,     12,    763,   1916, 122329,    222,   1305,      0,      6],\n",
      "        [   190,    240,    186,      4,      8, 132015,     12,      0,      0],\n",
      "        [  5452,     61,  27452,  12467,   1339,    900,  76992,      3,      0],\n",
      "        [    94,     21,      0,      0,      0,      0,      0, 124290,      0],\n",
      "        [   178,     15,      0,      0,     49,      0,     57,      0, 153975]])\n",
      "Epoch end: Train, epoch number: 46\n",
      "TrainEpoch/CM\n",
      " tensor([[105031,     11,    838,  10182,    948,     87,   2850,      3,      4],\n",
      "        [     0, 154093,     24,      0,     13,      3,      0,    145,      0],\n",
      "        [  2388,     81, 127216,   2324,    879,   1042,  15650,      4,      1],\n",
      "        [ 12800,     14,   1892, 103569,    978,     71,   5334,      0,      6],\n",
      "        [  1156,     12,    763,   1916, 122329,    222,   1305,      0,      6],\n",
      "        [   190,    240,    186,      4,      8, 132015,     12,      0,      0],\n",
      "        [  5452,     61,  27452,  12467,   1339,    900,  76992,      3,      0],\n",
      "        [    94,     21,      0,      0,      0,      0,      0, 124290,      0],\n",
      "        [   178,     15,      0,      0,     49,      0,     57,      0, 153975]])\n"
     ]
    },
    {
     "data": {
      "application/vnd.jupyter.widget-view+json": {
       "model_id": "b713431db7544c10a829f893462fe363",
       "version_major": 2,
       "version_minor": 0
      },
      "text/plain": [
       "Validation: |          | 0/? [00:00<?, ?it/s]"
      ]
     },
     "metadata": {},
     "output_type": "display_data"
    },
    {
     "name": "stdout",
     "output_type": "stream",
     "text": [
      "Epoch end: Validation, epoch number: 48\n",
      "ValidationEpoch/CM\n",
      " tensor([[107550,     11,    838,  10209,    948,     87,   2854,      3,      4],\n",
      "        [     0, 157373,     24,      0,     13,      3,      0,    145,      0],\n",
      "        [  2400,     81, 130142,   2326,    879,   1042,  15890,      4,      1],\n",
      "        [ 12864,     14,   1899, 106093,    978,     71,   5389,      0,      6],\n",
      "        [  1156,     12,    763,   1919, 125041,    222,   1305,      0,      6],\n",
      "        [   190,    240,    186,      4,      8, 134835,     12,      0,      0],\n",
      "        [  5485,     61,  27810,  12681,   1339,    905,  79032,      3,      0],\n",
      "        [    94,     21,      0,      0,      0,      0,      0, 126935,      0],\n",
      "        [   178,     15,      0,      0,     49,      0,     57,      0, 157255]])\n",
      "Epoch end: Train, epoch number: 47\n",
      "TrainEpoch/CM\n",
      " tensor([[107550,     11,    838,  10209,    948,     87,   2854,      3,      4],\n",
      "        [     0, 157373,     24,      0,     13,      3,      0,    145,      0],\n",
      "        [  2400,     81, 130142,   2326,    879,   1042,  15890,      4,      1],\n",
      "        [ 12864,     14,   1899, 106093,    978,     71,   5389,      0,      6],\n",
      "        [  1156,     12,    763,   1919, 125041,    222,   1305,      0,      6],\n",
      "        [   190,    240,    186,      4,      8, 134835,     12,      0,      0],\n",
      "        [  5485,     61,  27810,  12681,   1339,    905,  79032,      3,      0],\n",
      "        [    94,     21,      0,      0,      0,      0,      0, 126935,      0],\n",
      "        [   178,     15,      0,      0,     49,      0,     57,      0, 157255]])\n"
     ]
    },
    {
     "data": {
      "application/vnd.jupyter.widget-view+json": {
       "model_id": "703da4eaf78a4c4da3170f0a67e08ca1",
       "version_major": 2,
       "version_minor": 0
      },
      "text/plain": [
       "Validation: |          | 0/? [00:00<?, ?it/s]"
      ]
     },
     "metadata": {},
     "output_type": "display_data"
    },
    {
     "name": "stdout",
     "output_type": "stream",
     "text": [
      "Epoch end: Validation, epoch number: 49\n",
      "ValidationEpoch/CM\n",
      " tensor([[110070,     11,    838,  10235,    948,     87,   2858,      3,      4],\n",
      "        [     0, 160653,     24,      0,     13,      3,      0,    145,      0],\n",
      "        [  2412,     81, 133068,   2326,    879,   1042,  16132,      4,      1],\n",
      "        [ 12912,     14,   1906, 108634,    978,     71,   5443,      0,      6],\n",
      "        [  1156,     12,    763,   1923, 127752,    222,   1305,      0,      6],\n",
      "        [   190,    240,    186,      4,      8, 137655,     12,      0,      0],\n",
      "        [  5513,     61,  28153,  12902,   1339,    910,  81085,      3,      0],\n",
      "        [    94,     21,      0,      0,      0,      0,      0, 129580,      0],\n",
      "        [   178,     15,      0,      0,     49,      0,     57,      0, 160535]])\n"
     ]
    },
    {
     "name": "stderr",
     "output_type": "stream",
     "text": [
      "Metric Validation/Accuracy improved by 0.004 >= min_delta = 0.0. New best score: 0.963\n"
     ]
    },
    {
     "name": "stdout",
     "output_type": "stream",
     "text": [
      "Epoch end: Train, epoch number: 48\n",
      "TrainEpoch/CM\n",
      " tensor([[110070,     11,    838,  10235,    948,     87,   2858,      3,      4],\n",
      "        [     0, 160653,     24,      0,     13,      3,      0,    145,      0],\n",
      "        [  2412,     81, 133068,   2326,    879,   1042,  16132,      4,      1],\n",
      "        [ 12912,     14,   1906, 108634,    978,     71,   5443,      0,      6],\n",
      "        [  1156,     12,    763,   1923, 127752,    222,   1305,      0,      6],\n",
      "        [   190,    240,    186,      4,      8, 137655,     12,      0,      0],\n",
      "        [  5513,     61,  28153,  12902,   1339,    910,  81085,      3,      0],\n",
      "        [    94,     21,      0,      0,      0,      0,      0, 129580,      0],\n",
      "        [   178,     15,      0,      0,     49,      0,     57,      0, 160535]])\n"
     ]
    },
    {
     "data": {
      "application/vnd.jupyter.widget-view+json": {
       "model_id": "37d3d6b66a4e484fa449bb64c6d5fbea",
       "version_major": 2,
       "version_minor": 0
      },
      "text/plain": [
       "Validation: |          | 0/? [00:00<?, ?it/s]"
      ]
     },
     "metadata": {},
     "output_type": "display_data"
    },
    {
     "name": "stdout",
     "output_type": "stream",
     "text": [
      "Epoch end: Validation, epoch number: 50\n",
      "ValidationEpoch/CM\n",
      " tensor([[112587,     11,    838,  10264,    948,     87,   2862,      3,      4],\n",
      "        [     0, 163933,     24,      0,     13,      3,      0,    145,      0],\n",
      "        [  2424,     81, 135960,   2327,    879,   1042,  16407,      4,      1],\n",
      "        [ 12965,     14,   1911, 111163,    978,     71,   5506,      0,      6],\n",
      "        [  1156,     12,    763,   1927, 130463,    222,   1305,      0,      6],\n",
      "        [   190,    240,    186,      4,      8, 140475,     12,      0,      0],\n",
      "        [  5540,     61,  28461,  13101,   1339,    915,  83196,      3,      0],\n",
      "        [    94,     21,      0,      0,      0,      0,      0, 132225,      0],\n",
      "        [   178,     15,      0,      0,     49,      0,     57,      0, 163815]])\n",
      "Epoch end: Train, epoch number: 49\n",
      "TrainEpoch/CM\n",
      " tensor([[112587,     11,    838,  10264,    948,     87,   2862,      3,      4],\n",
      "        [     0, 163933,     24,      0,     13,      3,      0,    145,      0],\n",
      "        [  2424,     81, 135960,   2327,    879,   1042,  16407,      4,      1],\n",
      "        [ 12965,     14,   1911, 111163,    978,     71,   5506,      0,      6],\n",
      "        [  1156,     12,    763,   1927, 130463,    222,   1305,      0,      6],\n",
      "        [   190,    240,    186,      4,      8, 140475,     12,      0,      0],\n",
      "        [  5540,     61,  28461,  13101,   1339,    915,  83196,      3,      0],\n",
      "        [    94,     21,      0,      0,      0,      0,      0, 132225,      0],\n",
      "        [   178,     15,      0,      0,     49,      0,     57,      0, 163815]])\n"
     ]
    },
    {
     "data": {
      "application/vnd.jupyter.widget-view+json": {
       "model_id": "f4f4641b82d94ee4a5f39ffd570bd2b9",
       "version_major": 2,
       "version_minor": 0
      },
      "text/plain": [
       "Validation: |          | 0/? [00:00<?, ?it/s]"
      ]
     },
     "metadata": {},
     "output_type": "display_data"
    },
    {
     "name": "stdout",
     "output_type": "stream",
     "text": [
      "Epoch end: Validation, epoch number: 51\n",
      "ValidationEpoch/CM\n",
      " tensor([[115111,     11,    838,  10287,    948,     87,   2865,      3,      4],\n",
      "        [     0, 167213,     24,      0,     13,      3,      0,    145,      0],\n",
      "        [  2436,     81, 138888,   2327,    879,   1042,  16647,      4,      1],\n",
      "        [ 13015,     14,   1919, 113704,    978,     71,   5557,      0,      6],\n",
      "        [  1156,     12,    763,   1927, 133178,    222,   1305,      0,      6],\n",
      "        [   190,    240,    186,      4,      8, 143295,     12,      0,      0],\n",
      "        [  5566,     61,  28807,  13316,   1339,    920,  85254,      3,      0],\n",
      "        [    94,     21,      0,      0,      0,      0,      0, 134870,      0],\n",
      "        [   178,     15,      0,      0,     49,      0,     57,      0, 167095]])\n"
     ]
    },
    {
     "name": "stderr",
     "output_type": "stream",
     "text": [
      "Metric Validation/Accuracy improved by 0.001 >= min_delta = 0.0. New best score: 0.964\n"
     ]
    },
    {
     "name": "stdout",
     "output_type": "stream",
     "text": [
      "Epoch end: Train, epoch number: 50\n",
      "TrainEpoch/CM\n",
      " tensor([[115111,     11,    838,  10287,    948,     87,   2865,      3,      4],\n",
      "        [     0, 167213,     24,      0,     13,      3,      0,    145,      0],\n",
      "        [  2436,     81, 138888,   2327,    879,   1042,  16647,      4,      1],\n",
      "        [ 13015,     14,   1919, 113704,    978,     71,   5557,      0,      6],\n",
      "        [  1156,     12,    763,   1927, 133178,    222,   1305,      0,      6],\n",
      "        [   190,    240,    186,      4,      8, 143295,     12,      0,      0],\n",
      "        [  5566,     61,  28807,  13316,   1339,    920,  85254,      3,      0],\n",
      "        [    94,     21,      0,      0,      0,      0,      0, 134870,      0],\n",
      "        [   178,     15,      0,      0,     49,      0,     57,      0, 167095]])\n"
     ]
    },
    {
     "data": {
      "application/vnd.jupyter.widget-view+json": {
       "model_id": "ff6b575daf5c49eda9e51e28222c0eba",
       "version_major": 2,
       "version_minor": 0
      },
      "text/plain": [
       "Validation: |          | 0/? [00:00<?, ?it/s]"
      ]
     },
     "metadata": {},
     "output_type": "display_data"
    },
    {
     "name": "stdout",
     "output_type": "stream",
     "text": [
      "Epoch end: Validation, epoch number: 52\n",
      "ValidationEpoch/CM\n",
      " tensor([[117636,     11,    838,  10309,    948,     87,   2868,      3,      4],\n",
      "        [     0, 170493,     24,      0,     13,      3,      0,    145,      0],\n",
      "        [  2448,     81, 141830,   2327,    879,   1042,  16873,      4,      1],\n",
      "        [ 13069,     14,   1927, 116240,    978,     71,   5609,      0,      6],\n",
      "        [  1156,     12,    763,   1929, 135891,    222,   1305,      0,      6],\n",
      "        [   190,    240,    186,      4,      8, 146115,     12,      0,      0],\n",
      "        [  5596,     61,  29190,  13536,   1339,    925,  87266,      3,      0],\n",
      "        [    94,     21,      0,      0,      0,      0,      0, 137515,      0],\n",
      "        [   178,     15,      0,      0,     49,      0,     57,      0, 170375]])\n",
      "Epoch end: Train, epoch number: 51\n",
      "TrainEpoch/CM\n",
      " tensor([[117636,     11,    838,  10309,    948,     87,   2868,      3,      4],\n",
      "        [     0, 170493,     24,      0,     13,      3,      0,    145,      0],\n",
      "        [  2448,     81, 141830,   2327,    879,   1042,  16873,      4,      1],\n",
      "        [ 13069,     14,   1927, 116240,    978,     71,   5609,      0,      6],\n",
      "        [  1156,     12,    763,   1929, 135891,    222,   1305,      0,      6],\n",
      "        [   190,    240,    186,      4,      8, 146115,     12,      0,      0],\n",
      "        [  5596,     61,  29190,  13536,   1339,    925,  87266,      3,      0],\n",
      "        [    94,     21,      0,      0,      0,      0,      0, 137515,      0],\n",
      "        [   178,     15,      0,      0,     49,      0,     57,      0, 170375]])\n"
     ]
    },
    {
     "data": {
      "application/vnd.jupyter.widget-view+json": {
       "model_id": "d63750bc242045d991d53ad534d434f5",
       "version_major": 2,
       "version_minor": 0
      },
      "text/plain": [
       "Validation: |          | 0/? [00:00<?, ?it/s]"
      ]
     },
     "metadata": {},
     "output_type": "display_data"
    },
    {
     "name": "stdout",
     "output_type": "stream",
     "text": [
      "Epoch end: Validation, epoch number: 53\n",
      "ValidationEpoch/CM\n",
      " tensor([[120163,     11,    838,  10330,    948,     87,   2870,      3,      4],\n",
      "        [     0, 173773,     24,      0,     13,      3,      0,    145,      0],\n",
      "        [  2460,     81, 144763,   2327,    879,   1042,  17108,      4,      1],\n",
      "        [ 13116,     14,   1932, 118779,    978,     71,   5668,      0,      6],\n",
      "        [  1156,     12,    763,   1929, 138606,    222,   1305,      0,      6],\n",
      "        [   190,    240,    186,      4,      8, 148935,     12,      0,      0],\n",
      "        [  5620,     61,  29519,  13743,   1339,    930,  89351,      3,      0],\n",
      "        [    94,     21,      0,      0,      0,      0,      0, 140160,      0],\n",
      "        [   178,     15,      0,      0,     49,      0,     57,      0, 173655]])\n"
     ]
    },
    {
     "name": "stderr",
     "output_type": "stream",
     "text": [
      "Metric Validation/Accuracy improved by 0.002 >= min_delta = 0.0. New best score: 0.966\n"
     ]
    },
    {
     "name": "stdout",
     "output_type": "stream",
     "text": [
      "Epoch end: Train, epoch number: 52\n",
      "TrainEpoch/CM\n",
      " tensor([[120163,     11,    838,  10330,    948,     87,   2870,      3,      4],\n",
      "        [     0, 173773,     24,      0,     13,      3,      0,    145,      0],\n",
      "        [  2460,     81, 144763,   2327,    879,   1042,  17108,      4,      1],\n",
      "        [ 13116,     14,   1932, 118779,    978,     71,   5668,      0,      6],\n",
      "        [  1156,     12,    763,   1929, 138606,    222,   1305,      0,      6],\n",
      "        [   190,    240,    186,      4,      8, 148935,     12,      0,      0],\n",
      "        [  5620,     61,  29519,  13743,   1339,    930,  89351,      3,      0],\n",
      "        [    94,     21,      0,      0,      0,      0,      0, 140160,      0],\n",
      "        [   178,     15,      0,      0,     49,      0,     57,      0, 173655]])\n"
     ]
    },
    {
     "data": {
      "application/vnd.jupyter.widget-view+json": {
       "model_id": "92256a861fef4520a95481a71e67237e",
       "version_major": 2,
       "version_minor": 0
      },
      "text/plain": [
       "Validation: |          | 0/? [00:00<?, ?it/s]"
      ]
     },
     "metadata": {},
     "output_type": "display_data"
    },
    {
     "name": "stdout",
     "output_type": "stream",
     "text": [
      "Epoch end: Validation, epoch number: 54\n",
      "ValidationEpoch/CM\n",
      " tensor([[122694,     11,    838,  10348,    948,     87,   2871,      3,      4],\n",
      "        [     0, 177053,     24,      0,     13,      3,      0,    145,      0],\n",
      "        [  2472,     81, 147705,   2327,    879,   1042,  17334,      4,      1],\n",
      "        [ 13169,     14,   1942, 121316,    978,     71,   5718,      0,      6],\n",
      "        [  1156,     12,    763,   1930, 141320,    222,   1305,      0,      6],\n",
      "        [   190,    240,    186,      4,      8, 151755,     12,      0,      0],\n",
      "        [  5651,     61,  29826,  13945,   1339,    935,  91456,      3,      0],\n",
      "        [    94,     21,      0,      0,      0,      0,      0, 142805,      0],\n",
      "        [   178,     15,      0,      0,     49,      0,     57,      0, 176935]])\n",
      "Epoch end: Train, epoch number: 53\n",
      "TrainEpoch/CM\n",
      " tensor([[122694,     11,    838,  10348,    948,     87,   2871,      3,      4],\n",
      "        [     0, 177053,     24,      0,     13,      3,      0,    145,      0],\n",
      "        [  2472,     81, 147705,   2327,    879,   1042,  17334,      4,      1],\n",
      "        [ 13169,     14,   1942, 121316,    978,     71,   5718,      0,      6],\n",
      "        [  1156,     12,    763,   1930, 141320,    222,   1305,      0,      6],\n",
      "        [   190,    240,    186,      4,      8, 151755,     12,      0,      0],\n",
      "        [  5651,     61,  29826,  13945,   1339,    935,  91456,      3,      0],\n",
      "        [    94,     21,      0,      0,      0,      0,      0, 142805,      0],\n",
      "        [   178,     15,      0,      0,     49,      0,     57,      0, 176935]])\n"
     ]
    },
    {
     "data": {
      "application/vnd.jupyter.widget-view+json": {
       "model_id": "c6c18333948340f9ad4262611d07dfc8",
       "version_major": 2,
       "version_minor": 0
      },
      "text/plain": [
       "Validation: |          | 0/? [00:00<?, ?it/s]"
      ]
     },
     "metadata": {},
     "output_type": "display_data"
    },
    {
     "name": "stdout",
     "output_type": "stream",
     "text": [
      "Epoch end: Validation, epoch number: 55\n",
      "ValidationEpoch/CM\n",
      " tensor([[125226,     11,    838,  10366,    948,     87,   2871,      3,      4],\n",
      "        [     0, 180333,     24,      0,     13,      3,      0,    145,      0],\n",
      "        [  2484,     81, 150661,   2327,    879,   1042,  17546,      4,      1],\n",
      "        [ 13213,     14,   1947, 123878,    978,     71,   5757,      0,      6],\n",
      "        [  1156,     12,    763,   1931, 144034,    222,   1305,      0,      6],\n",
      "        [   190,    240,    186,      4,      8, 154575,     12,      0,      0],\n",
      "        [  5679,     61,  30152,  14162,   1339,    940,  93530,      3,      0],\n",
      "        [    94,     21,      0,      0,      0,      0,      0, 145450,      0],\n",
      "        [   178,     15,      0,      0,     49,      0,     57,      0, 180215]])\n",
      "Epoch end: Train, epoch number: 54\n",
      "TrainEpoch/CM\n",
      " tensor([[125226,     11,    838,  10366,    948,     87,   2871,      3,      4],\n",
      "        [     0, 180333,     24,      0,     13,      3,      0,    145,      0],\n",
      "        [  2484,     81, 150661,   2327,    879,   1042,  17546,      4,      1],\n",
      "        [ 13213,     14,   1947, 123878,    978,     71,   5757,      0,      6],\n",
      "        [  1156,     12,    763,   1931, 144034,    222,   1305,      0,      6],\n",
      "        [   190,    240,    186,      4,      8, 154575,     12,      0,      0],\n",
      "        [  5679,     61,  30152,  14162,   1339,    940,  93530,      3,      0],\n",
      "        [    94,     21,      0,      0,      0,      0,      0, 145450,      0],\n",
      "        [   178,     15,      0,      0,     49,      0,     57,      0, 180215]])\n"
     ]
    },
    {
     "data": {
      "application/vnd.jupyter.widget-view+json": {
       "model_id": "c60f9f08118947b6b69da8f2b8e23482",
       "version_major": 2,
       "version_minor": 0
      },
      "text/plain": [
       "Validation: |          | 0/? [00:00<?, ?it/s]"
      ]
     },
     "metadata": {},
     "output_type": "display_data"
    },
    {
     "name": "stdout",
     "output_type": "stream",
     "text": [
      "Epoch end: Validation, epoch number: 56\n",
      "ValidationEpoch/CM\n",
      " tensor([[127755,     11,    838,  10387,    948,     87,   2871,      3,      4],\n",
      "        [     0, 183613,     24,      0,     13,      3,      0,    145,      0],\n",
      "        [  2496,     81, 153628,   2327,    879,   1042,  17747,      4,      1],\n",
      "        [ 13266,     14,   1955, 126422,    978,     71,   5802,      0,      6],\n",
      "        [  1156,     12,    763,   1931, 146749,    222,   1305,      0,      6],\n",
      "        [   190,    240,    186,      4,      8, 157395,     12,      0,      0],\n",
      "        [  5705,     61,  30483,  14369,   1339,    945,  95611,      3,      0],\n",
      "        [    94,     21,      0,      0,      0,      0,      0, 148095,      0],\n",
      "        [   178,     15,      0,      0,     49,      0,     57,      0, 183495]])\n",
      "Epoch end: Train, epoch number: 55\n",
      "TrainEpoch/CM\n",
      " tensor([[127755,     11,    838,  10387,    948,     87,   2871,      3,      4],\n",
      "        [     0, 183613,     24,      0,     13,      3,      0,    145,      0],\n",
      "        [  2496,     81, 153628,   2327,    879,   1042,  17747,      4,      1],\n",
      "        [ 13266,     14,   1955, 126422,    978,     71,   5802,      0,      6],\n",
      "        [  1156,     12,    763,   1931, 146749,    222,   1305,      0,      6],\n",
      "        [   190,    240,    186,      4,      8, 157395,     12,      0,      0],\n",
      "        [  5705,     61,  30483,  14369,   1339,    945,  95611,      3,      0],\n",
      "        [    94,     21,      0,      0,      0,      0,      0, 148095,      0],\n",
      "        [   178,     15,      0,      0,     49,      0,     57,      0, 183495]])\n"
     ]
    },
    {
     "data": {
      "application/vnd.jupyter.widget-view+json": {
       "model_id": "686021c0ad93437c97653909083a905c",
       "version_major": 2,
       "version_minor": 0
      },
      "text/plain": [
       "Validation: |          | 0/? [00:00<?, ?it/s]"
      ]
     },
     "metadata": {},
     "output_type": "display_data"
    },
    {
     "name": "stdout",
     "output_type": "stream",
     "text": [
      "Epoch end: Validation, epoch number: 57\n",
      "ValidationEpoch/CM\n",
      " tensor([[130279,     11,    838,  10412,    948,     87,   2872,      3,      4],\n",
      "        [     0, 186893,     24,      0,     13,      3,      0,    145,      0],\n",
      "        [  2506,     81, 156516,   2327,    879,   1042,  18029,      4,      1],\n",
      "        [ 13336,     14,   1962, 128929,    978,     71,   5868,      0,      6],\n",
      "        [  1156,     12,    763,   1931, 149464,    222,   1305,      0,      6],\n",
      "        [   190,    240,    186,      4,      8, 160215,     12,      0,      0],\n",
      "        [  5731,     61,  30771,  14558,   1339,    950,  97753,      3,      0],\n",
      "        [    94,     21,      0,      0,      0,      0,      0, 150740,      0],\n",
      "        [   178,     15,      0,      0,     49,      0,     57,      0, 186775]])\n",
      "Epoch end: Train, epoch number: 56\n",
      "TrainEpoch/CM\n",
      " tensor([[130279,     11,    838,  10412,    948,     87,   2872,      3,      4],\n",
      "        [     0, 186893,     24,      0,     13,      3,      0,    145,      0],\n",
      "        [  2506,     81, 156516,   2327,    879,   1042,  18029,      4,      1],\n",
      "        [ 13336,     14,   1962, 128929,    978,     71,   5868,      0,      6],\n",
      "        [  1156,     12,    763,   1931, 149464,    222,   1305,      0,      6],\n",
      "        [   190,    240,    186,      4,      8, 160215,     12,      0,      0],\n",
      "        [  5731,     61,  30771,  14558,   1339,    950,  97753,      3,      0],\n",
      "        [    94,     21,      0,      0,      0,      0,      0, 150740,      0],\n",
      "        [   178,     15,      0,      0,     49,      0,     57,      0, 186775]])\n"
     ]
    },
    {
     "data": {
      "application/vnd.jupyter.widget-view+json": {
       "model_id": "093fcc6e7da048698655ee29bc3b5924",
       "version_major": 2,
       "version_minor": 0
      },
      "text/plain": [
       "Validation: |          | 0/? [00:00<?, ?it/s]"
      ]
     },
     "metadata": {},
     "output_type": "display_data"
    },
    {
     "name": "stdout",
     "output_type": "stream",
     "text": [
      "Epoch end: Validation, epoch number: 58\n",
      "ValidationEpoch/CM\n",
      " tensor([[132800,     11,    838,  10439,    948,     87,   2874,      3,      4],\n",
      "        [     0, 190173,     24,      0,     13,      3,      0,    145,      0],\n",
      "        [  2518,     81, 159474,   2327,    879,   1042,  18239,      4,      1],\n",
      "        [ 13373,     14,   1968, 131486,    978,     71,   5918,      0,      6],\n",
      "        [  1156,     12,    763,   1931, 152179,    222,   1305,      0,      6],\n",
      "        [   190,    240,    186,      4,      8, 163035,     12,      0,      0],\n",
      "        [  5756,     61,  31078,  14771,   1339,    955,  99853,      3,      0],\n",
      "        [    94,     21,      0,      0,      0,      0,      0, 153385,      0],\n",
      "        [   178,     15,      0,      0,     49,      0,     57,      0, 190055]])\n",
      "Epoch end: Train, epoch number: 57\n"
     ]
    },
    {
     "name": "stderr",
     "output_type": "stream",
     "text": [
      "Monitored metric Validation/Accuracy did not improve in the last 5 records. Best score: 0.966. Signaling Trainer to stop.\n"
     ]
    },
    {
     "name": "stdout",
     "output_type": "stream",
     "text": [
      "TrainEpoch/CM\n",
      " tensor([[132800,     11,    838,  10439,    948,     87,   2874,      3,      4],\n",
      "        [     0, 190173,     24,      0,     13,      3,      0,    145,      0],\n",
      "        [  2518,     81, 159474,   2327,    879,   1042,  18239,      4,      1],\n",
      "        [ 13373,     14,   1968, 131486,    978,     71,   5918,      0,      6],\n",
      "        [  1156,     12,    763,   1931, 152179,    222,   1305,      0,      6],\n",
      "        [   190,    240,    186,      4,      8, 163035,     12,      0,      0],\n",
      "        [  5756,     61,  31078,  14771,   1339,    955,  99853,      3,      0],\n",
      "        [    94,     21,      0,      0,      0,      0,      0, 153385,      0],\n",
      "        [   178,     15,      0,      0,     49,      0,     57,      0, 190055]])\n"
     ]
    }
   ],
   "source": [
    "trainer.fit(model=model, train_dataloaders=train_dataloader, val_dataloaders=val_dataloader)"
   ]
  },
  {
   "cell_type": "code",
   "execution_count": 15,
   "metadata": {},
   "outputs": [
    {
     "data": {
      "text/plain": [
       "MalwaresModelLinearLayer(\n",
       "  (train_metrics): MetricCollection(\n",
       "    (MulticlassAccuracy): MulticlassAccuracy()\n",
       "    (MulticlassPrecision): MulticlassPrecision()\n",
       "    (MulticlassRecall): MulticlassRecall()\n",
       "    (MulticlassF1Score): MulticlassF1Score(),\n",
       "    prefix=Train/\n",
       "  )\n",
       "  (val_metrics): MetricCollection(\n",
       "    (MulticlassAccuracy): MulticlassAccuracy()\n",
       "    (MulticlassPrecision): MulticlassPrecision()\n",
       "    (MulticlassRecall): MulticlassRecall()\n",
       "    (MulticlassF1Score): MulticlassF1Score(),\n",
       "    prefix=Validation/\n",
       "  )\n",
       "  (test_metrics): MetricCollection(\n",
       "    (MulticlassAccuracy): MulticlassAccuracy()\n",
       "    (MulticlassPrecision): MulticlassPrecision()\n",
       "    (MulticlassRecall): MulticlassRecall()\n",
       "    (MulticlassF1Score): MulticlassF1Score(),\n",
       "    prefix=Test/\n",
       "  )\n",
       "  (cm): MulticlassConfusionMatrix()\n",
       "  (criterion): CrossEntropyLoss()\n",
       "  (l1): Linear(in_features=305, out_features=9, bias=True)\n",
       ")"
      ]
     },
     "execution_count": 15,
     "metadata": {},
     "output_type": "execute_result"
    }
   ],
   "source": [
    "model.eval()"
   ]
  },
  {
   "cell_type": "code",
   "execution_count": 16,
   "metadata": {},
   "outputs": [
    {
     "name": "stdout",
     "output_type": "stream",
     "text": [
      "\n",
      "None\n"
     ]
    },
    {
     "ename": "IsADirectoryError",
     "evalue": "[Errno 21] Is a directory: '/home/<User>/repos/csg_is/training/single_layer/'",
     "output_type": "error",
     "traceback": [
      "\u001b[0;31m---------------------------------------------------------------------------\u001b[0m",
      "\u001b[0;31mIsADirectoryError\u001b[0m                         Traceback (most recent call last)",
      "Cell \u001b[0;32mIn[16], line 3\u001b[0m\n\u001b[1;32m      1\u001b[0m \u001b[38;5;28mprint\u001b[39m(checkpoint_callback\u001b[38;5;241m.\u001b[39mbest_model_path)   \u001b[38;5;66;03m# prints path to the best model's checkpoint\u001b[39;00m\n\u001b[1;32m      2\u001b[0m \u001b[38;5;28mprint\u001b[39m(checkpoint_callback\u001b[38;5;241m.\u001b[39mbest_model_score) \u001b[38;5;66;03m# and prints it score\u001b[39;00m\n\u001b[0;32m----> 3\u001b[0m best_model \u001b[38;5;241m=\u001b[39m \u001b[43mMalwaresModelLinearLayer\u001b[49m\u001b[38;5;241;43m.\u001b[39;49m\u001b[43mload_from_checkpoint\u001b[49m\u001b[43m(\u001b[49m\u001b[43mcheckpoint_callback\u001b[49m\u001b[38;5;241;43m.\u001b[39;49m\u001b[43mbest_model_path\u001b[49m\u001b[43m,\u001b[49m\u001b[43m \u001b[49m\u001b[43minput_size\u001b[49m\u001b[43m \u001b[49m\u001b[38;5;241;43m=\u001b[39;49m\u001b[43m \u001b[49m\u001b[43mvectors\u001b[49m\u001b[38;5;241;43m.\u001b[39;49m\u001b[43mshape\u001b[49m\u001b[43m[\u001b[49m\u001b[38;5;241;43m1\u001b[39;49m\u001b[43m]\u001b[49m\u001b[38;5;241;43m-\u001b[39;49m\u001b[38;5;241;43m1\u001b[39;49m\u001b[43m,\u001b[49m\u001b[43m \u001b[49m\u001b[43moutput_size\u001b[49m\u001b[43m \u001b[49m\u001b[38;5;241;43m=\u001b[39;49m\u001b[43m \u001b[49m\u001b[38;5;28;43mlen\u001b[39;49m\u001b[43m(\u001b[49m\u001b[43mlabel_encoder\u001b[49m\u001b[38;5;241;43m.\u001b[39;49m\u001b[43mclasses_\u001b[49m\u001b[43m)\u001b[49m\u001b[43m)\u001b[49m\n\u001b[1;32m      5\u001b[0m trainer\u001b[38;5;241m.\u001b[39mtest(best_model, dataloaders\u001b[38;5;241m=\u001b[39mval_dataloader)\n",
      "File \u001b[0;32m~/repos/csg_is/.venv/lib/python3.10/site-packages/lightning/pytorch/utilities/model_helpers.py:125\u001b[0m, in \u001b[0;36m_restricted_classmethod_impl.__get__.<locals>.wrapper\u001b[0;34m(*args, **kwargs)\u001b[0m\n\u001b[1;32m    120\u001b[0m \u001b[38;5;28;01mif\u001b[39;00m instance \u001b[38;5;129;01mis\u001b[39;00m \u001b[38;5;129;01mnot\u001b[39;00m \u001b[38;5;28;01mNone\u001b[39;00m \u001b[38;5;129;01mand\u001b[39;00m \u001b[38;5;129;01mnot\u001b[39;00m is_scripting:\n\u001b[1;32m    121\u001b[0m     \u001b[38;5;28;01mraise\u001b[39;00m \u001b[38;5;167;01mTypeError\u001b[39;00m(\n\u001b[1;32m    122\u001b[0m         \u001b[38;5;124mf\u001b[39m\u001b[38;5;124m\"\u001b[39m\u001b[38;5;124mThe classmethod `\u001b[39m\u001b[38;5;132;01m{\u001b[39;00m\u001b[38;5;28mcls\u001b[39m\u001b[38;5;241m.\u001b[39m\u001b[38;5;18m__name__\u001b[39m\u001b[38;5;132;01m}\u001b[39;00m\u001b[38;5;124m.\u001b[39m\u001b[38;5;132;01m{\u001b[39;00m\u001b[38;5;28mself\u001b[39m\u001b[38;5;241m.\u001b[39mmethod\u001b[38;5;241m.\u001b[39m\u001b[38;5;18m__name__\u001b[39m\u001b[38;5;132;01m}\u001b[39;00m\u001b[38;5;124m` cannot be called on an instance.\u001b[39m\u001b[38;5;124m\"\u001b[39m\n\u001b[1;32m    123\u001b[0m         \u001b[38;5;124m\"\u001b[39m\u001b[38;5;124m Please call it on the class type and make sure the return value is used.\u001b[39m\u001b[38;5;124m\"\u001b[39m\n\u001b[1;32m    124\u001b[0m     )\n\u001b[0;32m--> 125\u001b[0m \u001b[38;5;28;01mreturn\u001b[39;00m \u001b[38;5;28;43mself\u001b[39;49m\u001b[38;5;241;43m.\u001b[39;49m\u001b[43mmethod\u001b[49m\u001b[43m(\u001b[49m\u001b[38;5;28;43mcls\u001b[39;49m\u001b[43m,\u001b[49m\u001b[43m \u001b[49m\u001b[38;5;241;43m*\u001b[39;49m\u001b[43margs\u001b[49m\u001b[43m,\u001b[49m\u001b[43m \u001b[49m\u001b[38;5;241;43m*\u001b[39;49m\u001b[38;5;241;43m*\u001b[39;49m\u001b[43mkwargs\u001b[49m\u001b[43m)\u001b[49m\n",
      "File \u001b[0;32m~/repos/csg_is/.venv/lib/python3.10/site-packages/lightning/pytorch/core/module.py:1581\u001b[0m, in \u001b[0;36mLightningModule.load_from_checkpoint\u001b[0;34m(cls, checkpoint_path, map_location, hparams_file, strict, **kwargs)\u001b[0m\n\u001b[1;32m   1492\u001b[0m \u001b[38;5;129m@_restricted_classmethod\u001b[39m\n\u001b[1;32m   1493\u001b[0m \u001b[38;5;28;01mdef\u001b[39;00m \u001b[38;5;21mload_from_checkpoint\u001b[39m(\n\u001b[1;32m   1494\u001b[0m     \u001b[38;5;28mcls\u001b[39m,\n\u001b[0;32m   (...)\u001b[0m\n\u001b[1;32m   1499\u001b[0m     \u001b[38;5;241m*\u001b[39m\u001b[38;5;241m*\u001b[39mkwargs: Any,\n\u001b[1;32m   1500\u001b[0m ) \u001b[38;5;241m-\u001b[39m\u001b[38;5;241m>\u001b[39m Self:\n\u001b[1;32m   1501\u001b[0m \u001b[38;5;250m    \u001b[39m\u001b[38;5;124mr\u001b[39m\u001b[38;5;124;03m\"\"\"Primary way of loading a model from a checkpoint. When Lightning saves a checkpoint it stores the arguments\u001b[39;00m\n\u001b[1;32m   1502\u001b[0m \u001b[38;5;124;03m    passed to ``__init__``  in the checkpoint under ``\"hyper_parameters\"``.\u001b[39;00m\n\u001b[1;32m   1503\u001b[0m \n\u001b[0;32m   (...)\u001b[0m\n\u001b[1;32m   1579\u001b[0m \n\u001b[1;32m   1580\u001b[0m \u001b[38;5;124;03m    \"\"\"\u001b[39;00m\n\u001b[0;32m-> 1581\u001b[0m     loaded \u001b[38;5;241m=\u001b[39m \u001b[43m_load_from_checkpoint\u001b[49m\u001b[43m(\u001b[49m\n\u001b[1;32m   1582\u001b[0m \u001b[43m        \u001b[49m\u001b[38;5;28;43mcls\u001b[39;49m\u001b[43m,\u001b[49m\u001b[43m  \u001b[49m\u001b[38;5;66;43;03m# type: ignore[arg-type]\u001b[39;49;00m\n\u001b[1;32m   1583\u001b[0m \u001b[43m        \u001b[49m\u001b[43mcheckpoint_path\u001b[49m\u001b[43m,\u001b[49m\n\u001b[1;32m   1584\u001b[0m \u001b[43m        \u001b[49m\u001b[43mmap_location\u001b[49m\u001b[43m,\u001b[49m\n\u001b[1;32m   1585\u001b[0m \u001b[43m        \u001b[49m\u001b[43mhparams_file\u001b[49m\u001b[43m,\u001b[49m\n\u001b[1;32m   1586\u001b[0m \u001b[43m        \u001b[49m\u001b[43mstrict\u001b[49m\u001b[43m,\u001b[49m\n\u001b[1;32m   1587\u001b[0m \u001b[43m        \u001b[49m\u001b[38;5;241;43m*\u001b[39;49m\u001b[38;5;241;43m*\u001b[39;49m\u001b[43mkwargs\u001b[49m\u001b[43m,\u001b[49m\n\u001b[1;32m   1588\u001b[0m \u001b[43m    \u001b[49m\u001b[43m)\u001b[49m\n\u001b[1;32m   1589\u001b[0m     \u001b[38;5;28;01mreturn\u001b[39;00m cast(Self, loaded)\n",
      "File \u001b[0;32m~/repos/csg_is/.venv/lib/python3.10/site-packages/lightning/pytorch/core/saving.py:63\u001b[0m, in \u001b[0;36m_load_from_checkpoint\u001b[0;34m(cls, checkpoint_path, map_location, hparams_file, strict, **kwargs)\u001b[0m\n\u001b[1;32m     61\u001b[0m map_location \u001b[38;5;241m=\u001b[39m map_location \u001b[38;5;129;01mor\u001b[39;00m _default_map_location\n\u001b[1;32m     62\u001b[0m \u001b[38;5;28;01mwith\u001b[39;00m pl_legacy_patch():\n\u001b[0;32m---> 63\u001b[0m     checkpoint \u001b[38;5;241m=\u001b[39m \u001b[43mpl_load\u001b[49m\u001b[43m(\u001b[49m\u001b[43mcheckpoint_path\u001b[49m\u001b[43m,\u001b[49m\u001b[43m \u001b[49m\u001b[43mmap_location\u001b[49m\u001b[38;5;241;43m=\u001b[39;49m\u001b[43mmap_location\u001b[49m\u001b[43m)\u001b[49m\n\u001b[1;32m     65\u001b[0m \u001b[38;5;66;03m# convert legacy checkpoints to the new format\u001b[39;00m\n\u001b[1;32m     66\u001b[0m checkpoint \u001b[38;5;241m=\u001b[39m _pl_migrate_checkpoint(\n\u001b[1;32m     67\u001b[0m     checkpoint, checkpoint_path\u001b[38;5;241m=\u001b[39m(checkpoint_path \u001b[38;5;28;01mif\u001b[39;00m \u001b[38;5;28misinstance\u001b[39m(checkpoint_path, (\u001b[38;5;28mstr\u001b[39m, Path)) \u001b[38;5;28;01melse\u001b[39;00m \u001b[38;5;28;01mNone\u001b[39;00m)\n\u001b[1;32m     68\u001b[0m )\n",
      "File \u001b[0;32m~/repos/csg_is/.venv/lib/python3.10/site-packages/lightning/fabric/utilities/cloud_io.py:56\u001b[0m, in \u001b[0;36m_load\u001b[0;34m(path_or_url, map_location)\u001b[0m\n\u001b[1;32m     51\u001b[0m     \u001b[38;5;28;01mreturn\u001b[39;00m torch\u001b[38;5;241m.\u001b[39mhub\u001b[38;5;241m.\u001b[39mload_state_dict_from_url(\n\u001b[1;32m     52\u001b[0m         \u001b[38;5;28mstr\u001b[39m(path_or_url),\n\u001b[1;32m     53\u001b[0m         map_location\u001b[38;5;241m=\u001b[39mmap_location,  \u001b[38;5;66;03m# type: ignore[arg-type]\u001b[39;00m\n\u001b[1;32m     54\u001b[0m     )\n\u001b[1;32m     55\u001b[0m fs \u001b[38;5;241m=\u001b[39m get_filesystem(path_or_url)\n\u001b[0;32m---> 56\u001b[0m \u001b[38;5;28;01mwith\u001b[39;00m \u001b[43mfs\u001b[49m\u001b[38;5;241;43m.\u001b[39;49m\u001b[43mopen\u001b[49m\u001b[43m(\u001b[49m\u001b[43mpath_or_url\u001b[49m\u001b[43m,\u001b[49m\u001b[43m \u001b[49m\u001b[38;5;124;43m\"\u001b[39;49m\u001b[38;5;124;43mrb\u001b[39;49m\u001b[38;5;124;43m\"\u001b[39;49m\u001b[43m)\u001b[49m \u001b[38;5;28;01mas\u001b[39;00m f:\n\u001b[1;32m     57\u001b[0m     \u001b[38;5;28;01mreturn\u001b[39;00m torch\u001b[38;5;241m.\u001b[39mload(f, map_location\u001b[38;5;241m=\u001b[39mmap_location)\n",
      "File \u001b[0;32m~/repos/csg_is/.venv/lib/python3.10/site-packages/fsspec/spec.py:1293\u001b[0m, in \u001b[0;36mAbstractFileSystem.open\u001b[0;34m(self, path, mode, block_size, cache_options, compression, **kwargs)\u001b[0m\n\u001b[1;32m   1291\u001b[0m \u001b[38;5;28;01melse\u001b[39;00m:\n\u001b[1;32m   1292\u001b[0m     ac \u001b[38;5;241m=\u001b[39m kwargs\u001b[38;5;241m.\u001b[39mpop(\u001b[38;5;124m\"\u001b[39m\u001b[38;5;124mautocommit\u001b[39m\u001b[38;5;124m\"\u001b[39m, \u001b[38;5;129;01mnot\u001b[39;00m \u001b[38;5;28mself\u001b[39m\u001b[38;5;241m.\u001b[39m_intrans)\n\u001b[0;32m-> 1293\u001b[0m     f \u001b[38;5;241m=\u001b[39m \u001b[38;5;28;43mself\u001b[39;49m\u001b[38;5;241;43m.\u001b[39;49m\u001b[43m_open\u001b[49m\u001b[43m(\u001b[49m\n\u001b[1;32m   1294\u001b[0m \u001b[43m        \u001b[49m\u001b[43mpath\u001b[49m\u001b[43m,\u001b[49m\n\u001b[1;32m   1295\u001b[0m \u001b[43m        \u001b[49m\u001b[43mmode\u001b[49m\u001b[38;5;241;43m=\u001b[39;49m\u001b[43mmode\u001b[49m\u001b[43m,\u001b[49m\n\u001b[1;32m   1296\u001b[0m \u001b[43m        \u001b[49m\u001b[43mblock_size\u001b[49m\u001b[38;5;241;43m=\u001b[39;49m\u001b[43mblock_size\u001b[49m\u001b[43m,\u001b[49m\n\u001b[1;32m   1297\u001b[0m \u001b[43m        \u001b[49m\u001b[43mautocommit\u001b[49m\u001b[38;5;241;43m=\u001b[39;49m\u001b[43mac\u001b[49m\u001b[43m,\u001b[49m\n\u001b[1;32m   1298\u001b[0m \u001b[43m        \u001b[49m\u001b[43mcache_options\u001b[49m\u001b[38;5;241;43m=\u001b[39;49m\u001b[43mcache_options\u001b[49m\u001b[43m,\u001b[49m\n\u001b[1;32m   1299\u001b[0m \u001b[43m        \u001b[49m\u001b[38;5;241;43m*\u001b[39;49m\u001b[38;5;241;43m*\u001b[39;49m\u001b[43mkwargs\u001b[49m\u001b[43m,\u001b[49m\n\u001b[1;32m   1300\u001b[0m \u001b[43m    \u001b[49m\u001b[43m)\u001b[49m\n\u001b[1;32m   1301\u001b[0m     \u001b[38;5;28;01mif\u001b[39;00m compression \u001b[38;5;129;01mis\u001b[39;00m \u001b[38;5;129;01mnot\u001b[39;00m \u001b[38;5;28;01mNone\u001b[39;00m:\n\u001b[1;32m   1302\u001b[0m         \u001b[38;5;28;01mfrom\u001b[39;00m \u001b[38;5;21;01mfsspec\u001b[39;00m\u001b[38;5;21;01m.\u001b[39;00m\u001b[38;5;21;01mcompression\u001b[39;00m \u001b[38;5;28;01mimport\u001b[39;00m compr\n",
      "File \u001b[0;32m~/repos/csg_is/.venv/lib/python3.10/site-packages/fsspec/implementations/local.py:197\u001b[0m, in \u001b[0;36mLocalFileSystem._open\u001b[0;34m(self, path, mode, block_size, **kwargs)\u001b[0m\n\u001b[1;32m    195\u001b[0m \u001b[38;5;28;01mif\u001b[39;00m \u001b[38;5;28mself\u001b[39m\u001b[38;5;241m.\u001b[39mauto_mkdir \u001b[38;5;129;01mand\u001b[39;00m \u001b[38;5;124m\"\u001b[39m\u001b[38;5;124mw\u001b[39m\u001b[38;5;124m\"\u001b[39m \u001b[38;5;129;01min\u001b[39;00m mode:\n\u001b[1;32m    196\u001b[0m     \u001b[38;5;28mself\u001b[39m\u001b[38;5;241m.\u001b[39mmakedirs(\u001b[38;5;28mself\u001b[39m\u001b[38;5;241m.\u001b[39m_parent(path), exist_ok\u001b[38;5;241m=\u001b[39m\u001b[38;5;28;01mTrue\u001b[39;00m)\n\u001b[0;32m--> 197\u001b[0m \u001b[38;5;28;01mreturn\u001b[39;00m \u001b[43mLocalFileOpener\u001b[49m\u001b[43m(\u001b[49m\u001b[43mpath\u001b[49m\u001b[43m,\u001b[49m\u001b[43m \u001b[49m\u001b[43mmode\u001b[49m\u001b[43m,\u001b[49m\u001b[43m \u001b[49m\u001b[43mfs\u001b[49m\u001b[38;5;241;43m=\u001b[39;49m\u001b[38;5;28;43mself\u001b[39;49m\u001b[43m,\u001b[49m\u001b[43m \u001b[49m\u001b[38;5;241;43m*\u001b[39;49m\u001b[38;5;241;43m*\u001b[39;49m\u001b[43mkwargs\u001b[49m\u001b[43m)\u001b[49m\n",
      "File \u001b[0;32m~/repos/csg_is/.venv/lib/python3.10/site-packages/fsspec/implementations/local.py:322\u001b[0m, in \u001b[0;36mLocalFileOpener.__init__\u001b[0;34m(self, path, mode, autocommit, fs, compression, **kwargs)\u001b[0m\n\u001b[1;32m    320\u001b[0m \u001b[38;5;28mself\u001b[39m\u001b[38;5;241m.\u001b[39mcompression \u001b[38;5;241m=\u001b[39m get_compression(path, compression)\n\u001b[1;32m    321\u001b[0m \u001b[38;5;28mself\u001b[39m\u001b[38;5;241m.\u001b[39mblocksize \u001b[38;5;241m=\u001b[39m io\u001b[38;5;241m.\u001b[39mDEFAULT_BUFFER_SIZE\n\u001b[0;32m--> 322\u001b[0m \u001b[38;5;28;43mself\u001b[39;49m\u001b[38;5;241;43m.\u001b[39;49m\u001b[43m_open\u001b[49m\u001b[43m(\u001b[49m\u001b[43m)\u001b[49m\n",
      "File \u001b[0;32m~/repos/csg_is/.venv/lib/python3.10/site-packages/fsspec/implementations/local.py:327\u001b[0m, in \u001b[0;36mLocalFileOpener._open\u001b[0;34m(self)\u001b[0m\n\u001b[1;32m    325\u001b[0m \u001b[38;5;28;01mif\u001b[39;00m \u001b[38;5;28mself\u001b[39m\u001b[38;5;241m.\u001b[39mf \u001b[38;5;129;01mis\u001b[39;00m \u001b[38;5;28;01mNone\u001b[39;00m \u001b[38;5;129;01mor\u001b[39;00m \u001b[38;5;28mself\u001b[39m\u001b[38;5;241m.\u001b[39mf\u001b[38;5;241m.\u001b[39mclosed:\n\u001b[1;32m    326\u001b[0m     \u001b[38;5;28;01mif\u001b[39;00m \u001b[38;5;28mself\u001b[39m\u001b[38;5;241m.\u001b[39mautocommit \u001b[38;5;129;01mor\u001b[39;00m \u001b[38;5;124m\"\u001b[39m\u001b[38;5;124mw\u001b[39m\u001b[38;5;124m\"\u001b[39m \u001b[38;5;129;01mnot\u001b[39;00m \u001b[38;5;129;01min\u001b[39;00m \u001b[38;5;28mself\u001b[39m\u001b[38;5;241m.\u001b[39mmode:\n\u001b[0;32m--> 327\u001b[0m         \u001b[38;5;28mself\u001b[39m\u001b[38;5;241m.\u001b[39mf \u001b[38;5;241m=\u001b[39m \u001b[38;5;28;43mopen\u001b[39;49m\u001b[43m(\u001b[49m\u001b[38;5;28;43mself\u001b[39;49m\u001b[38;5;241;43m.\u001b[39;49m\u001b[43mpath\u001b[49m\u001b[43m,\u001b[49m\u001b[43m \u001b[49m\u001b[43mmode\u001b[49m\u001b[38;5;241;43m=\u001b[39;49m\u001b[38;5;28;43mself\u001b[39;49m\u001b[38;5;241;43m.\u001b[39;49m\u001b[43mmode\u001b[49m\u001b[43m)\u001b[49m\n\u001b[1;32m    328\u001b[0m         \u001b[38;5;28;01mif\u001b[39;00m \u001b[38;5;28mself\u001b[39m\u001b[38;5;241m.\u001b[39mcompression:\n\u001b[1;32m    329\u001b[0m             compress \u001b[38;5;241m=\u001b[39m compr[\u001b[38;5;28mself\u001b[39m\u001b[38;5;241m.\u001b[39mcompression]\n",
      "\u001b[0;31mIsADirectoryError\u001b[0m: [Errno 21] Is a directory: '/home/<User>/repos/csg_is/training/single_layer/'"
     ]
    }
   ],
   "source": [
    "print(checkpoint_callback.best_model_path)   # prints path to the best model's checkpoint\n",
    "print(checkpoint_callback.best_model_score) # and prints it score\n",
    "best_model = MalwaresModelLinearLayer.load_from_checkpoint(checkpoint_callback.best_model_path, input_size = vectors.shape[1]-1, output_size = len(label_encoder.classes_))\n",
    "\n",
    "trainer.test(best_model, dataloaders=val_dataloader)"
   ]
  },
  {
   "cell_type": "code",
   "execution_count": 35,
   "metadata": {},
   "outputs": [
    {
     "data": {
      "text/plain": [
       "[PosixPath('/home/<User>/repos/csg_is/training/official_logs/single-layer_300/version_0/checkpoints/epoch=52-step=2226.ckpt')]"
      ]
     },
     "execution_count": 35,
     "metadata": {},
     "output_type": "execute_result"
    }
   ],
   "source": [
    "model_paths = list((Path(tensorboard.save_dir) / LOG_NAME).glob(\"version_*/checkpoints/*\"))\n",
    "model_paths"
   ]
  },
  {
   "cell_type": "code",
   "execution_count": 38,
   "metadata": {},
   "outputs": [],
   "source": [
    "best_model = MalwaresModelLinearLayer.load_from_checkpoint(model_paths[0], input_size = vectors.shape[1]-1, output_size = len(label_encoder.classes_)).to(\"cpu\")\n"
   ]
  },
  {
   "cell_type": "code",
   "execution_count": 39,
   "metadata": {},
   "outputs": [
    {
     "name": "stdout",
     "output_type": "stream",
     "text": [
      "Feature importance based on weights:\n",
      "Rank 1: Feature 265setitimer with weight -1.351823329925537\n",
      "Rank 2: Feature 108tcp:tcp_probe_KERN_data with weight 0.8926255106925964\n",
      "Rank 3: Feature 46writeback:writeback_mark_inode_dirty_FLS_data with weight 0.19103260338306427\n",
      "Rank 4: Feature 166bus-cycles with weight 0.43985697627067566\n",
      "Rank 5: Feature 84writeback:writeback_dirty_inode_KERN_data with weight 0.15934059023857117\n",
      "Rank 6: Feature 85random:get_random_bytes with weight -1.6918402910232544\n",
      "Rank 7: Feature 192timer:timer_start_RES_data with weight 0.06329680234193802\n",
      "Rank 8: Feature 73sched:sched_process_exec_KERN_data with weight -1.7634965181350708\n",
      "Rank 9: Feature 304inotify_add_watch with weight -0.32898470759391785\n",
      "Rank 10: Feature 94sched:sched_process_free with weight -0.5740658640861511\n",
      "Rank 11: Feature 128tcp:tcp_probe_RES_data with weight 0.8756291270256042\n",
      "Rank 12: Feature 268sysinfo with weight 0.5321615934371948\n",
      "Rank 13: Feature 244execve with weight -0.7573317885398865\n",
      "Rank 14: Feature 292setsid with weight 1.4551880359649658\n",
      "Rank 15: Feature 204label with weight -0.7323247194290161\n",
      "Rank 16: Feature 97writeback:writeback_mark_inode_dirty_KERN_data with weight 0.09945198148488998\n",
      "Rank 17: Feature 103task:task_newtask_KERN_data with weight -0.6145329475402832\n",
      "Rank 18: Feature 23writeback:global_dirty_state_FLS_data with weight 0.6164597272872925\n",
      "Rank 19: Feature 159armv7_cortex_a15/br_pred/ with weight 1.0321890115737915\n",
      "Rank 20: Feature 271newselect with weight -2.50651478767395\n",
      "Rank 21: Feature 76writeback:global_dirty_state_KERN_data with weight -0.05377225577831268\n",
      "Rank 22: Feature 183L1-dcache-load-misses with weight -1.7609046697616577\n",
      "Rank 23: Feature 165branch-loads with weight 0.9759587049484253\n",
      "Rank 24: Feature 195branch-instructions with weight 0.7934107184410095\n",
      "Rank 25: Feature 254geteuid32 with weight -0.3629503548145294\n",
      "Rank 26: Feature 269faccessat with weight -0.3881855905056\n",
      "Rank 27: Feature 47ext4:ext4_unlink_exit with weight -2.033801794052124\n",
      "Rank 28: Feature 226clock_gettime with weight -0.5648272037506104\n",
      "Rank 29: Feature 132cpu-cycles with weight 0.6353466510772705\n",
      "Rank 30: Feature 35writeback:writeback_dirty_inode_FLS_data with weight 0.22694416344165802\n",
      "Rank 31: Feature 126LLC-stores with weight -1.2400885820388794\n",
      "Rank 32: Feature 149timer:timer_cancel with weight 0.2092289924621582\n",
      "Rank 33: Feature 48ext4:ext4_da_reserve_space with weight -0.05962509289383888\n",
      "Rank 34: Feature 82timer:timer_start_KERN_data with weight -0.24913442134857178\n",
      "Rank 35: Feature 21writeback:writeback_dirty_inode_start with weight 0.12467468529939651\n",
      "Rank 36: Feature 117sched:sched_process_exec_RES_data with weight -1.7094484567642212\n",
      "Rank 37: Feature 18ext4:ext4_free_inode_FLS_data with weight -2.921666383743286\n",
      "Rank 38: Feature 164writeback:global_dirty_state_RES_data with weight 1.375083088874817\n",
      "Rank 39: Feature 241ftruncate64 with weight -0.13694866001605988\n",
      "Rank 40: Feature 177armv7_cortex_a15/bus_cycles/.1 with weight 0.3813912868499756\n",
      "Rank 41: Feature 0ext4:ext4_da_write_begin with weight -0.12722565233707428\n",
      "Rank 42: Feature 121armv7_cortex_a15/l1d_cache_refill/ with weight -1.736620545387268\n",
      "Rank 43: Feature 31block:block_touch_buffer_FLS_data with weight 1.2858517169952393\n",
      "Rank 44: Feature 141armv7_cortex_a15/bus_cycles/ with weight 0.3526495695114136\n",
      "Rank 45: Feature 274openat with weight -0.065617136657238\n",
      "Rank 46: Feature 253rt_sigprocmask with weight -0.6424983739852905\n",
      "Rank 47: Feature 25jbd2:jbd2_checkpoint_stats_FLS_data with weight -0.04423832148313522\n",
      "Rank 48: Feature 80block:block_touch_buffer_KERN_data with weight 1.2297205924987793\n",
      "Rank 49: Feature 294readlink with weight -0.1784510761499405\n",
      "Rank 50: Feature 16ext4:ext4_begin_ordered_truncate with weight 0.11015909165143967\n",
      "Rank 51: Feature 173filemap:mm_filemap_add_to_page_cache_RES_data with weight 0.13079343736171722\n",
      "Rank 52: Feature 68irq:softirq_entry with weight 0.013677540235221386\n",
      "Rank 53: Feature 7writeback:writeback_dirty_page_FLS_data with weight -0.2769370973110199\n",
      "Rank 54: Feature 43ext4:ext4_invalidatepage with weight -0.09404107928276062\n",
      "Rank 55: Feature 202(OLD) AverageLength with weight 0.731002151966095\n",
      "Rank 56: Feature 24jbd2:jbd2_run_stats with weight -0.0075685190968215466\n",
      "Rank 57: Feature 175jbd2:jbd2_handle_stats_RES_data with weight 0.02529614046216011\n",
      "Rank 58: Feature 115armv7_cortex_a15/l1i_cache_refill/ with weight -0.12446281313896179\n",
      "Rank 59: Feature 198cache-misses with weight -1.819158673286438\n",
      "Rank 60: Feature 54writeback:sb_clear_inode_writeback_KERN_data with weight -2.2940831184387207\n",
      "Rank 61: Feature 2writeback:sb_clear_inode_writeback_FLS_data with weight -0.6271270513534546\n",
      "Rank 62: Feature 1jbd2:jbd2_drop_transaction with weight -0.32128992676734924\n",
      "Rank 63: Feature 296sendto with weight 0.3375680446624756\n",
      "Rank 64: Feature 150armv7_cortex_a15/cpu_cycles/ with weight 0.5546541810035706\n",
      "Rank 65: Feature 44jbd2:jbd2_handle_stats_FLS_data with weight -0.2358013540506363\n",
      "Rank 66: Feature 33block:block_bio_backmerge_FLS_data with weight -2.606365203857422\n",
      "Rank 67: Feature 133napi:napi_poll with weight 0.25727659463882446\n",
      "Rank 68: Feature 167block:block_dirty_buffer_RES_data with weight -0.46439823508262634\n",
      "Rank 69: Feature 17ext4:ext4_journal_start_FLS_data with weight -0.14591723680496216\n",
      "Rank 70: Feature 261sigreturn with weight -3.6108407974243164\n",
      "Rank 71: Feature 119timer:timer_init with weight -0.6948713064193726\n",
      "Rank 72: Feature 12ext4:ext4_es_insert_delayed_block with weight -0.06809131801128387\n",
      "Rank 73: Feature 39block:block_unplug_FLS_data with weight -0.760810375213623\n",
      "Rank 74: Feature 147task:task_newtask_RES_data with weight -0.564696729183197\n",
      "Rank 75: Feature 281getcwd with weight -1.039488673210144\n",
      "Rank 76: Feature 78block:block_dirty_buffer_KERN_data with weight -0.38211777806282043\n",
      "Rank 77: Feature 37ext4:ext4_writepages_result_FLS_data with weight 0.08129405230283737\n",
      "Rank 78: Feature 58sched:sched_process_wait with weight -0.49985745549201965\n",
      "Rank 79: Feature 225getrandom with weight 0.619659960269928\n",
      "Rank 80: Feature 8jbd2:jbd2_handle_start_FLS_data with weight -0.21209672093391418\n",
      "Rank 81: Feature 11ext4:ext4_unlink_enter_FLS_data with weight -2.045304775238037\n",
      "Rank 82: Feature 15jbd2:jbd2_commit_logging with weight -0.1021745428442955\n",
      "Rank 83: Feature 237setuid32 with weight 0.6924958229064941\n",
      "Rank 84: Feature 193ext4:ext4_releasepage_RES_data with weight -0.04079832136631012\n",
      "Rank 85: Feature 231umask with weight -0.41146376729011536\n",
      "Rank 86: Feature 95qdisc:qdisc_dequeue.1 with weight -0.07696183770895004\n",
      "Rank 87: Feature 280fstat64 with weight -0.3052802085876465\n",
      "Rank 88: Feature 124irq:softirq_exit with weight 0.0012125245993956923\n",
      "Rank 89: Feature 26ext4:ext4_da_write_end with weight -0.10694599151611328\n",
      "Rank 90: Feature 49jbd2:jbd2_start_commit_FLS_data with weight 0.018177669495344162\n",
      "Rank 91: Feature 29block:block_dirty_buffer_FLS_data with weight -0.19454340636730194\n",
      "Rank 92: Feature 19ext4:ext4_truncate_enter with weight -0.2303122729063034\n",
      "Rank 93: Feature 75preemptirq:irq_enable with weight 0.547110378742218\n",
      "Rank 94: Feature 134ext4:ext4_journal_start_RES_data with weight 0.18538956344127655\n",
      "Rank 95: Feature 62jbd2:jbd2_handle_start_KERN_data with weight -0.37897226214408875\n",
      "Rank 96: Feature 50ext4:ext4_mark_inode_dirty with weight -0.28466445207595825\n",
      "Rank 97: Feature 138LLC-load-misses with weight 0.12994690239429474\n",
      "Rank 98: Feature 216timerfd_settime with weight 0.08254390209913254\n",
      "Rank 99: Feature 32jbd2:jbd2_commit_flushing with weight -0.07796372473239899\n",
      "Rank 100: Feature 60writeback:writeback_dirty_page_KERN_data with weight -0.3804916739463806\n",
      "Rank 101: Feature 38filemap:mm_filemap_add_to_page_cache_FLS_data with weight 0.19724150002002716\n",
      "Rank 102: Feature 36ext4:ext4_da_update_reserve_space_FLS_data with weight 0.1506376564502716\n",
      "Rank 103: Feature 4ext4:ext4_truncate_exit with weight -0.3208642303943634\n",
      "Rank 104: Feature 120L1-icache-load-misses with weight -0.5579022169113159\n",
      "Rank 105: Feature 106signal:signal_generate with weight -0.5014833807945251\n",
      "Rank 106: Feature 9block:block_bio_queue with weight -2.8100273609161377\n",
      "Rank 107: Feature 30jbd2:jbd2_commit_locking with weight -0.01726176030933857\n",
      "Rank 108: Feature 235writev with weight -1.9353551864624023\n",
      "Rank 109: Feature 87filemap:mm_filemap_add_to_page_cache_KERN_data with weight -0.025917019695043564\n",
      "Rank 110: Feature 28jbd2:jbd2_end_commit with weight -0.05765347182750702\n",
      "Rank 111: Feature 293getdents64 with weight -0.1765296906232834\n",
      "Rank 112: Feature 201write_ops with weight -0.6098452806472778\n",
      "Rank 113: Feature 290setxattr with weight 16.743440628051758\n",
      "Rank 114: Feature 272send with weight -0.4892491102218628\n",
      "Rank 115: Feature 168block:block_touch_buffer_RES_data with weight 0.32808229327201843\n",
      "Rank 116: Feature 92skb:skb_copy_datagram_iovec with weight 0.3314867615699768\n",
      "Rank 117: Feature 239dup with weight -1.5144355297088623\n",
      "Rank 118: Feature 207connect with weight -2.4910755157470703\n",
      "Rank 119: Feature 88block:block_unplug_KERN_data with weight -2.161875009536743\n",
      "Rank 120: Feature 142net_in with weight 0.2165016531944275\n",
      "Rank 121: Feature 181iobusytime with weight -2.2970705032348633\n",
      "Rank 122: Feature 154rpm:rpm_return_int with weight -0.8539692163467407\n",
      "Rank 123: Feature 53block:block_rq_complete with weight -2.807093858718872\n",
      "Rank 124: Feature 136iowritebytes with weight -0.9899817109107971\n",
      "Rank 125: Feature 10ext4:ext4_ext_rm_leaf with weight -0.27406567335128784\n",
      "Rank 126: Feature 22ext4:ext4_ext_remove_space_done with weight -0.330707848072052\n",
      "Rank 127: Feature 61qdisc:qdisc_dequeue with weight -0.12237625569105148\n",
      "Rank 128: Feature 123ext4:ext4_da_update_reserve_space_RES_data with weight 3.3229291439056396\n",
      "Rank 129: Feature 45ext4:ext4_ext_remove_space with weight -0.3710279166698456\n",
      "Rank 130: Feature 144ext4:ext4_writepages_result_RES_data with weight 3.3939454555511475\n",
      "Rank 131: Feature 252sendmsg with weight 0.23163095116615295\n",
      "Rank 132: Feature 6block:block_rq_issue with weight -2.8814280033111572\n",
      "Rank 133: Feature 267mremap with weight -0.1494949609041214\n",
      "Rank 134: Feature 34block:block_bio_remap_FLS_data with weight -2.822011709213257\n",
      "Rank 135: Feature 264setresgid32 with weight -5.621001720428467\n",
      "Rank 136: Feature 260exit_group with weight -1.6832200288772583\n",
      "Rank 137: Feature 238llseek with weight -0.006350248120725155\n",
      "Rank 138: Feature 179instructions with weight 0.6629433035850525\n",
      "Rank 139: Feature 180writeback:sb_clear_inode_writeback_RES_data with weight -0.16671152412891388\n",
      "Rank 140: Feature 67net:net_dev_xmit with weight -0.004943833686411381\n",
      "Rank 141: Feature 107gpio:gpio_value_KERN_data with weight -4.146949291229248\n",
      "Rank 142: Feature 259shutdown with weight -2.028519630432129\n",
      "Rank 143: Feature 286exit with weight 0.6758207678794861\n",
      "Rank 144: Feature 3jbd2:jbd2_handle_extend with weight 0.27465346455574036\n",
      "Rank 145: Feature 236munmap with weight 2.9422576427459717\n",
      "Rank 146: Feature 110fib:fib_table_lookup_RES_data with weight -1.0637450218200684\n",
      "Rank 147: Feature 151gpio:gpio_value_RES_data with weight -4.757684707641602\n",
      "Rank 148: Feature 302getxattr with weight 0.34910276532173157\n",
      "Rank 149: Feature 57net:net_dev_queue with weight -0.10171213746070862\n",
      "Rank 150: Feature 42block:block_rq_insert with weight -2.8943278789520264\n",
      "Rank 151: Feature 209read with weight -0.0662391409277916\n",
      "Rank 152: Feature 55signal:signal_deliver with weight -0.4953267276287079\n",
      "Rank 153: Feature 157iowritetime with weight -8.302915573120117\n",
      "Rank 154: Feature 71block:block_getrq_KERN_data with weight -4.425793647766113\n",
      "Rank 155: Feature 111LLC-loads with weight -0.7179244756698608\n",
      "Rank 156: Feature 20block:block_getrq_FLS_data with weight -2.878248929977417\n",
      "Rank 157: Feature 287getsockname with weight -1.4657292366027832\n",
      "Rank 158: Feature 56fib:fib_table_lookup_KERN_data with weight -1.2310346364974976\n",
      "Rank 159: Feature 208uname with weight 0.4630706310272217\n",
      "Rank 160: Feature 248getsockopt with weight -8.417383193969727\n",
      "Rank 161: Feature 52ext4:ext4_es_lookup_extent_exit with weight -1.3849457502365112\n",
      "Rank 162: Feature 79kmem:kmem_cache_free with weight -0.5120386481285095\n",
      "Rank 163: Feature 109skb:consume_skb.1 with weight -0.07569651305675507\n",
      "Rank 164: Feature 203(OLD) VarianceLength with weight -0.4694690406322479\n",
      "Rank 165: Feature 188armv7_cortex_a15/l2d_cache/ with weight -0.9551101922988892\n",
      "Rank 166: Feature 300fstatat64 with weight -1.2348417043685913\n",
      "Rank 167: Feature 278gettimeofday with weight -0.7210437059402466\n",
      "Rank 168: Feature 257setsockopt with weight -9.742242813110352\n",
      "Rank 169: Feature 83block:block_bio_remap_KERN_data with weight -4.253670692443848\n",
      "Rank 170: Feature 174iowrite with weight -5.302243709564209\n",
      "Rank 171: Feature 273epoll_ctl with weight -0.75039142370224\n",
      "Rank 172: Feature 81block:block_bio_backmerge_KERN_data with weight -3.8500454425811768\n",
      "Rank 173: Feature 171block:block_bio_remap_RES_data with weight -5.7112298011779785\n",
      "Rank 174: Feature 186jbd2:jbd2_checkpoint_stats_RES_data with weight -1.9985051155090332\n",
      "Rank 175: Feature 145kmem:kmem_cache_alloc_RES_data with weight -1.2313082218170166\n",
      "Rank 176: Feature 86skb:consume_skb with weight -0.06396953016519547\n",
      "Rank 177: Feature 40ext4:ext4_releasepage_FLS_data with weight -0.2304425984621048\n",
      "Rank 178: Feature 125ext4:ext4_es_lookup_extent_enter_RES_data with weight -0.6366578936576843\n",
      "Rank 179: Feature 98kmem:kmem_cache_alloc_KERN_data with weight -0.38380366563796997\n",
      "Rank 180: Feature 242timerfd_create with weight -0.7547911405563354\n",
      "Rank 181: Feature 41ext4:ext4_es_lookup_extent_enter_FLS_data with weight -1.4263330698013306\n",
      "Rank 182: Feature 189pkt_in with weight 0.7342583537101746\n",
      "Rank 183: Feature 270lstat64 with weight 0.37967124581336975\n",
      "Rank 184: Feature 213getpgrp with weight -3.5164263248443604\n",
      "Rank 185: Feature 279dup2 with weight 0.37718772888183594\n",
      "Rank 186: Feature 276capget with weight 0.29035916924476624\n",
      "Rank 187: Feature 112ext4:ext4_unlink_enter_RES_data with weight -3.8096811771392822\n",
      "Rank 188: Feature 105jbd2:jbd2_start_commit_KERN_data with weight -2.267425775527954\n",
      "Rank 189: Feature 163ext4:ext4_free_inode_RES_data with weight -5.051671981811523\n",
      "Rank 190: Feature 118armv7_cortex_a15/exc_taken/ with weight 0.2307596057653427\n",
      "Rank 191: Feature 200write_kbs with weight -5.9165778160095215\n",
      "Rank 192: Feature 74random:urandom_read with weight 0.5459531545639038\n",
      "Rank 193: Feature 96page-faults_KERN_data with weight 0.7507755756378174\n",
      "Rank 194: Feature 27filemap:mm_filemap_delete_from_page_cache_FLS_data with weight 0.008365260437130928\n",
      "Rank 195: Feature 89workqueue:workqueue_activate_work with weight -1.400757074356079\n",
      "Rank 196: Feature 113write_merge with weight -7.5566911697387695\n",
      "Rank 197: Feature 196page-faults_RES_data with weight -0.29345205426216125\n",
      "Rank 198: Feature 230capset with weight -1.7566125392913818\n",
      "Rank 199: Feature 153L1-icache-loads with weight 0.6503582000732422\n",
      "Rank 200: Feature 199util with weight 3.194584369659424\n",
      "Rank 201: Feature 224rename with weight 0.4455054998397827\n",
      "Rank 202: Feature 130armv7_cortex_a15/l2d_cache_wb/ with weight 1.1094030141830444\n",
      "Rank 203: Feature 256open with weight 0.4587947726249695\n",
      "Rank 204: Feature 77kmem:kfree_KERN_data with weight -0.7602318525314331\n",
      "Rank 205: Feature 229clone with weight 2.675668478012085\n",
      "Rank 206: Feature 232set_tid_address with weight 0.400850385427475\n",
      "Rank 207: Feature 243getegid32 with weight -1.7115416526794434\n",
      "Rank 208: Feature 63kmem:mm_page_free_KERN_data with weight 1.0339088439941406\n",
      "Rank 209: Feature 206getpeername with weight -2.4798948764801025\n",
      "Rank 210: Feature 185kmem:kfree_RES_data with weight -1.2919974327087402\n",
      "Rank 211: Feature 14ext4:ext4_discard_preallocations with weight -0.5830671787261963\n",
      "Rank 212: Feature 217sigaltstack with weight -1.04225754737854\n",
      "Rank 213: Feature 176cpu with weight 0.3944387435913086\n",
      "Rank 214: Feature 51ext4:ext4_readpage with weight -4.238456726074219\n",
      "Rank 215: Feature 285kcmp with weight 0.6560111045837402\n",
      "Rank 216: Feature 122minor-faults with weight -0.2726587951183319\n",
      "Rank 217: Feature 282set_robust_list with weight -6.698792457580566\n",
      "Rank 218: Feature 297unlink with weight -0.8049551248550415\n",
      "Rank 219: Feature 246setresuid32 with weight 0.4235454499721527\n",
      "Rank 220: Feature 233dup3 with weight 0.21502798795700073\n",
      "Rank 221: Feature 156L1-dcache-loads with weight 0.6015125513076782\n",
      "Rank 222: Feature 247write with weight 0.28451332449913025\n",
      "Rank 223: Feature 249statfs64 with weight -1.425613522529602\n",
      "Rank 224: Feature 228ioctl with weight -1.5722507238388062\n",
      "Rank 225: Feature 140filemap:mm_filemap_delete_from_page_cache_RES_data with weight 0.11501578986644745\n",
      "Rank 226: Feature 129pkt_out with weight 0.12223901599645615\n",
      "Rank 227: Feature 283lgetxattr with weight -2.2805588245391846\n",
      "Rank 228: Feature 295chown32 with weight -0.555192768573761\n",
      "Rank 229: Feature 160kmem:mm_page_free_RES_data with weight -0.11617764085531235\n",
      "Rank 230: Feature 137armv7_cortex_a15/l1i_cache/ with weight 0.8549045324325562\n",
      "Rank 231: Feature 255getgid32 with weight -0.9266985058784485\n",
      "Rank 232: Feature 70kmem:kmalloc with weight -0.4903293251991272\n",
      "Rank 233: Feature 100kmem:mm_page_pcpu_drain with weight 0.673670768737793\n",
      "Rank 234: Feature 114sched:sched_stat_runtime with weight -1.3649137020111084\n",
      "Rank 235: Feature 277pipe with weight 0.2817659080028534\n",
      "Rank 236: Feature 258recv with weight -6.219310760498047\n",
      "Rank 237: Feature 212poll with weight -0.842421293258667\n",
      "Rank 238: Feature 91sched:sched_switch with weight -0.7847611308097839\n",
      "Rank 239: Feature 143LLC-store-misses with weight 1.365919589996338\n",
      "Rank 240: Feature 234getpid with weight -2.262676477432251\n",
      "Rank 241: Feature 66irq:irq_handler_entry with weight -0.6628377437591553\n",
      "Rank 242: Feature 170armv7_cortex_a15/l1d_cache/ with weight 0.8063521385192871\n",
      "Rank 243: Feature 102cs with weight -0.6730308532714844\n",
      "Rank 244: Feature 223mkdir with weight -3.0285863876342773\n",
      "Rank 245: Feature 245rt_sigaction with weight -1.4976413249969482\n",
      "Rank 246: Feature 222epoll_wait with weight 15.262592315673828\n",
      "Rank 247: Feature 205mprotect with weight 0.36749333143234253\n",
      "Rank 248: Feature 219fchmod with weight 0.01142922043800354\n",
      "Rank 249: Feature 191memory with weight -1.5538268089294434\n",
      "Rank 250: Feature 227access with weight 0.4121010899543762\n",
      "Rank 251: Feature 158cache-references with weight 0.5748167634010315\n",
      "Rank 252: Feature 298sched_yield with weight -0.5794309377670288\n",
      "Rank 253: Feature 299recvfrom with weight -0.8270267248153687\n",
      "Rank 254: Feature 59seconds_KERN_data with weight 0.18999013304710388\n",
      "Rank 255: Feature 169armv7_cortex_a15/br_mis_pred/ with weight 0.7584362626075745\n",
      "Rank 256: Feature 194cpu-migrations_RES_data with weight 0.6673840284347534\n",
      "Rank 257: Feature 291setgroups32 with weight -2.001528263092041\n",
      "Rank 258: Feature 64writeback:writeback_dirty_inode_enqueue_KERN_data with weight -1.3370674848556519\n",
      "Rank 259: Feature 5seconds_FLS_data with weight -0.9216350317001343\n",
      "Rank 260: Feature 190context-switches with weight -0.9870012998580933\n",
      "Rank 261: Feature 284socket with weight -1.3198659420013428\n",
      "Rank 262: Feature 263prlimit64 with weight -1.5145809650421143\n",
      "Rank 263: Feature 214getppid with weight -1.3158388137817383\n",
      "Rank 264: Feature 104sched:sched_wakeup with weight -0.8783366680145264\n",
      "Rank 265: Feature 215chdir with weight -0.9801170229911804\n",
      "Rank 266: Feature 178armv7_cortex_a15/mem_access/ with weight 1.0850707292556763\n",
      "Rank 267: Feature 72skb:kfree_skb.1 with weight 0.6855854392051697\n",
      "Rank 268: Feature 161sched:sched_waking with weight -1.067492961883545\n",
      "Rank 269: Feature 251prctl with weight 0.2342919260263443\n",
      "Rank 270: Feature 210stat64 with weight -0.9178429245948792\n",
      "Rank 271: Feature 90pagemap:mm_lru_insertion with weight 0.9329256415367126\n",
      "Rank 272: Feature 93cpu-migrations_KERN_data with weight 1.0348892211914062\n",
      "Rank 273: Feature 65timer:hrtimer_start with weight -0.9181619882583618\n",
      "Rank 274: Feature 172L1-dcache-stores with weight 0.4825945198535919\n",
      "Rank 275: Feature 289pipe2 with weight -1.1513378620147705\n",
      "Rank 276: Feature 139branch-load-misses with weight 0.9149242043495178\n",
      "Rank 277: Feature 211rmdir with weight 0.3292565643787384\n",
      "Rank 278: Feature 182branch-misses with weight 1.1008647680282593\n",
      "Rank 279: Feature 131seconds_RES_data with weight -3.217236280441284\n",
      "Rank 280: Feature 220madvise with weight 0.5179923176765442\n",
      "Rank 281: Feature 187armv7_cortex_a15/l1d_tlb_refill/ with weight 1.7750695943832397\n",
      "Rank 282: Feature 99kmem:mm_page_alloc with weight 0.7584613561630249\n",
      "Rank 283: Feature 101kmem:mm_page_alloc_zone_locked_KERN_data with weight 0.07234614342451096\n",
      "Rank 284: Feature 184dTLB-store-misses with weight -1.8078210353851318\n",
      "Rank 285: Feature 155workqueue:workqueue_execute_start with weight 0.49752840399742126\n",
      "Rank 286: Feature 301close with weight -2.699974298477173\n",
      "Rank 287: Feature 197armv7_cortex_a15/l1i_tlb_refill/ with weight 0.2440192699432373\n",
      "Rank 288: Feature 146iTLB-load-misses with weight -0.7022125720977783\n",
      "Rank 289: Feature 288wait4 with weight -4.561580657958984\n",
      "Rank 290: Feature 262accept4 with weight 0.6888918280601501\n",
      "Rank 291: Feature 152pagemap:mm_lru_activate with weight -0.539097785949707\n",
      "Rank 292: Feature 13writeback:writeback_dirty_inode_enqueue_FLS_data with weight -0.652370274066925\n",
      "Rank 293: Feature 250waitid with weight -0.27107366919517517\n",
      "Rank 294: Feature 148net_out with weight 1.190111517906189\n",
      "Rank 295: Feature 266mmap2 with weight -0.7502055168151855\n",
      "Rank 296: Feature 221readlinkat with weight -0.5616982579231262\n",
      "Rank 297: Feature 127kmem:mm_page_alloc_zone_locked_RES_data with weight -1.4213494062423706\n",
      "Rank 298: Feature 69skb:kfree_skb with weight 0.6708922982215881\n",
      "Rank 299: Feature 240brk with weight 0.31152623891830444\n",
      "Rank 300: Feature 135armv7_cortex_a15/exc_return/ with weight 0.28516751527786255\n",
      "Rank 301: Feature 116dTLB-load-misses with weight 1.3110913038253784\n",
      "Rank 302: Feature 218ugetrlimit with weight -0.707097589969635\n",
      "Rank 303: Feature 162timer:tick_stop with weight 1.280575156211853\n",
      "Rank 304: Feature 275epoll_create1 with weight 1.26361083984375\n",
      "Rank 305: Feature 303pause with weight 1.1060298681259155\n"
     ]
    }
   ],
   "source": [
    "# Extract the weights from the linear layer\n",
    "weights = best_model.l1.weight.data\n",
    "\n",
    "# Convert to numpy array for easier manipulation\n",
    "weights_np = weights.numpy()\n",
    "\n",
    "# Calculate the absolute values of the weights\n",
    "abs_weights = abs(weights_np)\n",
    "\n",
    "# Get the indices of the top features based on weight magnitude\n",
    "top_features = abs_weights.argsort()[::-1]\n",
    "\n",
    "# Print the top features\n",
    "print(\"Feature importance based on weights:\")\n",
    "for i, feature_idx in enumerate(top_features[0]):\n",
    "    feature_name = df.columns[feature_idx]\n",
    "    print(f\"Rank {i+1}: Feature {feature_idx}{feature_name} with weight {weights_np[0][feature_idx]}\")\n"
   ]
  },
  {
   "cell_type": "code",
   "execution_count": 40,
   "metadata": {},
   "outputs": [
    {
     "data": {
      "image/png": "[encoded data removed]",
      "text/plain": [
       "<Figure size 1000x600 with 1 Axes>"
      ]
     },
     "metadata": {},
     "output_type": "display_data"
    }
   ],
   "source": [
    "import matplotlib.pyplot as plt\n",
    "\n",
    "# Convert to numpy array for easier manipulation\n",
    "weights_np = weights.numpy().flatten()  # Flatten to 1D array\n",
    "\n",
    "# Calculate the absolute values of the weights\n",
    "abs_weights = np.abs(weights_np)\n",
    "\n",
    "# Get the indices of the top features based on weight magnitude\n",
    "top_features = abs_weights.argsort()[::-1]\n",
    "\n",
    "# Plotting\n",
    "plt.figure(figsize=(10, 6))\n",
    "plt.bar(range(len(weights_np)), abs_weights[top_features])\n",
    "plt.xlabel('Feature Index')\n",
    "plt.ylabel('Absolute Weight')\n",
    "plt.title('Feature Importance Based on Linear Layer Weights')\n",
    "plt.xticks(range(len(weights_np)), top_features, rotation=90)\n",
    "plt.show()"
   ]
  },
  {
   "cell_type": "code",
   "execution_count": 105,
   "metadata": {},
   "outputs": [
    {
     "data": {
      "text/plain": [
       "(torch.Size([9, 305]), '=>', 2745, '==', (305,), 76)"
      ]
     },
     "execution_count": 105,
     "metadata": {},
     "output_type": "execute_result"
    }
   ],
   "source": [
    "best_model.l1.weight.shape, \"=>\",9 * 305, \"==\",weights_np.shape, 305 //4"
   ]
  },
  {
   "cell_type": "markdown",
   "metadata": {},
   "source": [
    "# Weight selected plots"
   ]
  },
  {
   "cell_type": "code",
   "execution_count": 177,
   "metadata": {},
   "outputs": [
    {
     "data": {
      "image/png": "[encoded data removed]",
      "text/plain": [
       "<Figure size 2000x1800 with 9 Axes>"
      ]
     },
     "metadata": {},
     "output_type": "display_data"
    }
   ],
   "source": [
    "import matplotlib.pyplot as plt\n",
    "import numpy as np\n",
    "\n",
    "figcount_x = 3\n",
    "figcount_y = 3\n",
    "fig, axs = plt.subplots(figcount_y, figcount_x, figsize=(20, figcount_y * 6))\n",
    "\n",
    "axs = axs.flatten()\n",
    "for i in range(9):\n",
    "\n",
    "    SELECTED_CLASS = i\n",
    "    label = label_encoder.inverse_transform([SELECTED_CLASS])[0]\n",
    "\n",
    "    # Convert to numpy array for easier manipulation\n",
    "    weights_np = weights.numpy()[SELECTED_CLASS].flatten()\n",
    "    abs_weights = np.abs(weights_np)\n",
    "    abs_weights.sort()\n",
    "\n",
    "    bins = np.linspace(abs_weights.min(), abs_weights.max(), 30)\n",
    "\n",
    "    # Plot the histogram\n",
    "    # plt.figure(figsize=(10, 6))\n",
    "    axs[i].hist(abs_weights, bins=bins, edgecolor='black')\n",
    "\n",
    "    # Get the bin edges and heights\n",
    "    bin_edges = plt.xticks()[0]\n",
    "    idx = np.argmin(np.abs(bins - abs_weights[-4])) -1\n",
    "    threshold_bin_edge = bins[idx]\n",
    "\n",
    "    # bin_heights, _,_ = plt.hist(abs_weights, bins=bins)\n",
    "\n",
    "    # Find the x-coordinate of the 4th highest bin\n",
    "    # top_4_bin_edges = np.sort(bin_edges)[-5:-1]\n",
    "    # x_coord = top_4_bin_edges[-1]\n",
    "    # x_coord = bins[-3]\n",
    "    x_coord = threshold_bin_edge\n",
    "\n",
    "    # Plot a red vertical line\n",
    "    axs[i].axvline(x=x_coord, color='red', linestyle='--', linewidth=2)\n",
    "\n",
    "    axs[i].set_xlabel('Absolute Weight')\n",
    "    axs[i].set_ylabel('Frequency')\n",
    "    # plt.yscale(\"log\")\n",
    "    axs[i].set_title(f'Class \"{label}\"')\n",
    "plt.show()"
   ]
  },
  {
   "cell_type": "code",
   "execution_count": 76,
   "metadata": {},
   "outputs": [
    {
     "data": {
      "text/plain": [
       "(305,)"
      ]
     },
     "execution_count": 76,
     "metadata": {},
     "output_type": "execute_result"
    }
   ],
   "source": [
    "weights.numpy()[0].shape"
   ]
  },
  {
   "cell_type": "code",
   "execution_count": 87,
   "metadata": {},
   "outputs": [
    {
     "data": {
      "image/png": "[encoded data removed]",
      "text/plain": [
       "<Figure size 1000x600 with 1 Axes>"
      ]
     },
     "metadata": {},
     "output_type": "display_data"
    }
   ],
   "source": [
    "import matplotlib.pyplot as plt\n",
    "import numpy as np\n",
    "\n",
    "# Convert to numpy array for easier manipulation\n",
    "weights_np = weights.numpy().flatten()  # Flatten to 1D array\n",
    "\n",
    "# Calculate the absolute values of the weights\n",
    "abs_weights = np.abs(weights_np)\n",
    "\n",
    "# Create 20 bins for the histogram\n",
    "bins = np.linspace(abs_weights.min(), abs_weights.max(), 32)\n",
    "\n",
    "# Plot the histogram\n",
    "plt.figure(figsize=(10, 6))\n",
    "plt.hist(abs_weights, bins=bins, edgecolor='black')\n",
    "plt.xlabel('Absolute Weight')\n",
    "plt.ylabel('Frequency')\n",
    "# plt.yscale(\"log\")\n",
    "plt.title('Feature Importance Based on Linear Layer Weights')\n",
    "plt.show()"
   ]
  },
  {
   "cell_type": "code",
   "execution_count": 26,
   "metadata": {},
   "outputs": [],
   "source": [
    "weights = best_model.l1.weight.data.numpy()\n",
    "abs_weights = np.abs(weights.flatten())"
   ]
  },
  {
   "cell_type": "code",
   "execution_count": 27,
   "metadata": {},
   "outputs": [
    {
     "data": {
      "image/png": "[encoded data removed]",
      "text/plain": [
       "<Figure size 1500x2500 with 9 Axes>"
      ]
     },
     "metadata": {},
     "output_type": "display_data"
    }
   ],
   "source": [
    "nrows = weights.shape[0]\n",
    "xrows = weights.shape[1]\n",
    "\n",
    "fig, axes = plt.subplots(nrows=nrows, ncols=1, figsize=(15, 25), sharex=True)\n",
    "\n",
    "for i in range(nrows):\n",
    "    axes[i].bar(range(xrows), abs_weights[i*xrows:(i+1)*xrows])\n",
    "    axes[i].set_title(f'Feature Importance for Class {i}')\n",
    "    axes[i].set_ylabel('Absolute Weight')\n",
    "\n",
    "plt.xlabel('Feature Index')\n",
    "plt.show()"
   ]
  },
  {
   "cell_type": "markdown",
   "metadata": {},
   "source": [
    "### Plotting Mean over Classes"
   ]
  },
  {
   "cell_type": "code",
   "execution_count": 28,
   "metadata": {},
   "outputs": [],
   "source": [
    "from sklearn.preprocessing import minmax_scale\n",
    "\n",
    "scaled_weights = minmax_scale(weights, axis=0)\n",
    "weights_mean = np.abs(scaled_weights).mean(axis=0)"
   ]
  },
  {
   "cell_type": "code",
   "execution_count": 29,
   "metadata": {},
   "outputs": [],
   "source": [
    "sorted_idx = weights_mean.argsort()[::-1]"
   ]
  },
  {
   "cell_type": "code",
   "execution_count": 30,
   "metadata": {},
   "outputs": [
    {
     "data": {
      "image/png": "[encoded data removed]",
      "text/plain": [
       "<Figure size 1000x600 with 1 Axes>"
      ]
     },
     "metadata": {},
     "output_type": "display_data"
    }
   ],
   "source": [
    "plt.figure(figsize=(10, 6))\n",
    "plt.bar(range(len(weights_mean[sorted_idx])), weights_mean[sorted_idx])\n",
    "plt.xlabel('Feature Index')\n",
    "plt.ylabel('Absolute Weight')\n",
    "plt.title('Feature Importance Based on Linear Layer Weights')\n",
    "# plt.xticks(sorted_idx, sorted_idx, rotation=90)\n",
    "plt.show()"
   ]
  },
  {
   "cell_type": "code",
   "execution_count": 31,
   "metadata": {},
   "outputs": [
    {
     "data": {
      "image/png": "[encoded data removed]",
      "text/plain": [
       "<Figure size 1000x600 with 1 Axes>"
      ]
     },
     "metadata": {},
     "output_type": "display_data"
    }
   ],
   "source": [
    "top_k = 50\n",
    "\n",
    "plt.figure(figsize=(10, 6))\n",
    "plt.bar(range(len(weights_mean[sorted_idx[:top_k]])), weights_mean[sorted_idx[:top_k]])\n",
    "plt.xlabel('Feature Index')\n",
    "plt.ylabel('Absolute Weight')\n",
    "plt.title('Feature Importance Based on Linear Layer Weights')\n",
    "# plt.xticks(sorted_idx[:20], sorted_idx[:20], rotation=90)\n",
    "plt.show()"
   ]
  },
  {
   "cell_type": "markdown",
   "metadata": {},
   "source": [
    "### Plotting top k per class"
   ]
  },
  {
   "cell_type": "code",
   "execution_count": 32,
   "metadata": {},
   "outputs": [],
   "source": [
    "topk = 4"
   ]
  },
  {
   "cell_type": "code",
   "execution_count": 33,
   "metadata": {},
   "outputs": [
    {
     "data": {
      "text/plain": [
       "(9, 4)"
      ]
     },
     "execution_count": 33,
     "metadata": {},
     "output_type": "execute_result"
    }
   ],
   "source": [
    "topk_indices = weights.argpartition( -topk, axis=1)[:, -topk:]\n",
    "topk_indices.shape"
   ]
  },
  {
   "cell_type": "code",
   "execution_count": 34,
   "metadata": {},
   "outputs": [
    {
     "data": {
      "text/plain": [
       "(9, 4)"
      ]
     },
     "execution_count": 34,
     "metadata": {},
     "output_type": "execute_result"
    }
   ],
   "source": [
    "topk_indices_sorted = np.take_along_axis(topk_indices, np.argsort(-weights[np.arange(weights.shape[0])[:, None], topk_indices]), axis=1)\n",
    "topk_indices_sorted.shape"
   ]
  },
  {
   "cell_type": "code",
   "execution_count": 35,
   "metadata": {},
   "outputs": [
    {
     "data": {
      "text/plain": [
       "(32,)"
      ]
     },
     "execution_count": 35,
     "metadata": {},
     "output_type": "execute_result"
    }
   ],
   "source": [
    "selected_features = np.array(list(set(topk_indices_sorted.flatten())))\n",
    "selected_features.shape"
   ]
  },
  {
   "cell_type": "code",
   "execution_count": 36,
   "metadata": {},
   "outputs": [
    {
     "data": {
      "image/png": "[encoded data removed]",
      "text/plain": [
       "<Figure size 1000x600 with 1 Axes>"
      ]
     },
     "metadata": {},
     "output_type": "display_data"
    }
   ],
   "source": [
    "plt.figure(figsize=(10, 6))\n",
    "plt.bar(range(len(weights_mean[selected_features])), weights_mean[selected_features])\n",
    "plt.xlabel('Feature Index')\n",
    "plt.ylabel('Absolute Weight')\n",
    "plt.title('Feature Importance Based on Linear Layer Weights')\n",
    "# plt.xticks(sorted_idx[:20], sorted_idx[:20], rotation=90)\n",
    "plt.show()"
   ]
  },
  {
   "cell_type": "markdown",
   "metadata": {},
   "source": [
    "### Train again"
   ]
  },
  {
   "cell_type": "code",
   "execution_count": 37,
   "metadata": {},
   "outputs": [
    {
     "data": {
      "text/plain": [
       "(25770, 32)"
      ]
     },
     "execution_count": 37,
     "metadata": {},
     "output_type": "execute_result"
    }
   ],
   "source": [
    "vectors.iloc[:,selected_features].shape"
   ]
  },
  {
   "cell_type": "code",
   "execution_count": 38,
   "metadata": {},
   "outputs": [
    {
     "name": "stderr",
     "output_type": "stream",
     "text": [
      "/tmp/ipykernel_7613/650136668.py:2: SettingWithCopyWarning: \n",
      "A value is trying to be set on a copy of a slice from a DataFrame.\n",
      "Try using .loc[row_indexer,col_indexer] = value instead\n",
      "\n",
      "See the caveats in the documentation: https://pandas.pydata.org/pandas-docs/stable/user_guide/indexing.html#returning-a-view-versus-a-copy\n",
      "  subset[\"label\"] = df[\"label\"]\n"
     ]
    }
   ],
   "source": [
    "subset = vectors.iloc[:,selected_features]\n",
    "subset[\"label\"] = df[\"label\"]"
   ]
  },
  {
   "cell_type": "code",
   "execution_count": 40,
   "metadata": {},
   "outputs": [
    {
     "name": "stderr",
     "output_type": "stream",
     "text": [
      "GPU available: True (cuda), used: True\n",
      "TPU available: False, using: 0 TPU cores\n",
      "IPU available: False, using: 0 IPUs\n",
      "HPU available: False, using: 0 HPUs\n"
     ]
    }
   ],
   "source": [
    "# split into train and val\n",
    "train, val = train_test_split(subset, test_size=0.2, random_state=SEED)\n",
    "\n",
    "train_dataset = CustomeDataset(train)\n",
    "train_dataloader = DataLoader(train_dataset, batch_size=500, shuffle=True, num_workers=7)\n",
    "\n",
    "val_dataset = CustomeDataset(val)\n",
    "val_dataloader = DataLoader(val_dataset, batch_size=500, shuffle=False, num_workers=7)\n",
    "\n",
    "# trainer = lightning.Trainer(fast_dev_run=100)\n",
    "monitor = \"Validation/Accuracy\"\n",
    "early_stop_callback = EarlyStopping(monitor=monitor, patience=5, verbose=True, mode=\"max\")\n",
    "checkpoint_callback = ModelCheckpoint(save_top_k=1, monitor=monitor, mode=\"max\")\n",
    "\n",
    "tensorboard = pl_loggers.TensorBoardLogger(save_dir=LOG_PATH, name=LOG_NAME_EXPERIMENT_2)\n",
    "trainer = lightning.Trainer(max_epochs=150, callbacks=[early_stop_callback, checkpoint_callback], enable_checkpointing=True, logger=tensorboard) #logger=None, \n",
    "\n",
    "\n",
    "model = MalwaresModelLinearLayer(input_size = subset.shape[1]-1, output_size = len(label_encoder.classes_), seed=SEED)\n",
    "\n",
    "torch.manual_seed(SEED)\n",
    "torch.cuda.manual_seed_all(SEED)\n"
   ]
  },
  {
   "cell_type": "code",
   "execution_count": 41,
   "metadata": {},
   "outputs": [
    {
     "name": "stderr",
     "output_type": "stream",
     "text": [
      "LOCAL_RANK: 0 - CUDA_VISIBLE_DEVICES: [0]\n",
      "\n",
      "  | Name          | Type                      | Params\n",
      "------------------------------------------------------------\n",
      "0 | train_metrics | MetricCollection          | 0     \n",
      "1 | val_metrics   | MetricCollection          | 0     \n",
      "2 | test_metrics  | MetricCollection          | 0     \n",
      "3 | cm            | MulticlassConfusionMatrix | 0     \n",
      "4 | criterion     | CrossEntropyLoss          | 0     \n",
      "5 | l1            | Linear                    | 297   \n",
      "------------------------------------------------------------\n",
      "297       Trainable params\n",
      "0         Non-trainable params\n",
      "297       Total params\n",
      "0.001     Total estimated model params size (MB)\n"
     ]
    },
    {
     "data": {
      "application/vnd.jupyter.widget-view+json": {
       "model_id": "503a4672f0d9440a831ba6dcc9de3b3f",
       "version_major": 2,
       "version_minor": 0
      },
      "text/plain": [
       "Sanity Checking: |          | 0/? [00:00<?, ?it/s]"
      ]
     },
     "metadata": {},
     "output_type": "display_data"
    },
    {
     "name": "stdout",
     "output_type": "stream",
     "text": [
      "Epoch end: Validation, epoch number: 0\n",
      "ValidationEpoch/CM\n",
      " tensor([[  0, 100,   4,   0,   0,   0,   0,   0,   0],\n",
      "        [ 34,   0,  32,   0,   0,   0,  52,   0,   0],\n",
      "        [  0,  99,  26,   0,   0,   0,   0,   0,   0],\n",
      "        [  0, 107,   7,   0,   0,   0,   0,   0,   0],\n",
      "        [  0,  83,  21,   0,   0,   0,   0,   0,   0],\n",
      "        [  0,  50,  65,   0,   0,   0,   0,   0,   0],\n",
      "        [  0,  92,  24,   0,   0,   0,   0,   0,   0],\n",
      "        [  0,   1,  17,   0,  27,   0,  45,   0,   0],\n",
      "        [  0, 111,   0,   0,   0,   3,   0,   0,   0]])\n"
     ]
    },
    {
     "name": "stderr",
     "output_type": "stream",
     "text": [
      "/home/<User>/repos/csg_is/.venv/lib/python3.10/site-packages/lightning/pytorch/loops/fit_loop.py:298: The number of training batches (42) is smaller than the logging interval Trainer(log_every_n_steps=50). Set a lower value for log_every_n_steps if you want to see logs for the training epoch.\n"
     ]
    },
    {
     "data": {
      "application/vnd.jupyter.widget-view+json": {
       "model_id": "a3ee345fc5a448c28c9a3f5bb65cf603",
       "version_major": 2,
       "version_minor": 0
      },
      "text/plain": [
       "Training: |          | 0/? [00:00<?, ?it/s]"
      ]
     },
     "metadata": {},
     "output_type": "display_data"
    },
    {
     "data": {
      "application/vnd.jupyter.widget-view+json": {
       "model_id": "533628f3616e42cfb062d15473c5810f",
       "version_major": 2,
       "version_minor": 0
      },
      "text/plain": [
       "Validation: |          | 0/? [00:00<?, ?it/s]"
      ]
     },
     "metadata": {},
     "output_type": "display_data"
    },
    {
     "name": "stdout",
     "output_type": "stream",
     "text": [
      "Epoch end: Validation, epoch number: 1\n",
      "ValidationEpoch/CM\n",
      " tensor([[   0, 1003,   32,    0,    0,    4,    0,    0, 1615],\n",
      "        [  53, 3155,   54,    0,    0,    0,  136,    0,    0],\n",
      "        [   0, 1700,  870,    0,    0,   58,    0,    0,  677],\n",
      "        [   0, 1020,   55,    0,    0,    7,    0,    0, 1682],\n",
      "        [   0, 1084,  102,    0,    0,    7,    0,    0, 1626],\n",
      "        [   0, 1779,  119,    0,    0, 1018,    0,   19,    0],\n",
      "        [   0, 1294,  437,    0,    0,   38,    0,    0,  997],\n",
      "        [   0,  916,   34,    0,   65,    0,  107, 1613,    0],\n",
      "        [   0,  551,    0,    0,    0,    6,    0,    0, 2837]])\n",
      "Epoch end: Train, epoch number: 0\n",
      "TrainEpoch/CM\n",
      " tensor([[   0, 1003,   32,    0,    0,    4,    0,    0, 1615],\n",
      "        [  53, 3155,   54,    0,    0,    0,  136,    0,    0],\n",
      "        [   0, 1700,  870,    0,    0,   58,    0,    0,  677],\n",
      "        [   0, 1020,   55,    0,    0,    7,    0,    0, 1682],\n",
      "        [   0, 1084,  102,    0,    0,    7,    0,    0, 1626],\n",
      "        [   0, 1779,  119,    0,    0, 1018,    0,   19,    0],\n",
      "        [   0, 1294,  437,    0,    0,   38,    0,    0,  997],\n",
      "        [   0,  916,   34,    0,   65,    0,  107, 1613,    0],\n",
      "        [   0,  551,    0,    0,    0,    6,    0,    0, 2837]])\n"
     ]
    },
    {
     "name": "stderr",
     "output_type": "stream",
     "text": [
      "Metric Validation/Accuracy improved. New best score: 0.518\n"
     ]
    },
    {
     "data": {
      "application/vnd.jupyter.widget-view+json": {
       "model_id": "2e9203df1ed24c588347c88af91843f3",
       "version_major": 2,
       "version_minor": 0
      },
      "text/plain": [
       "Validation: |          | 0/? [00:00<?, ?it/s]"
      ]
     },
     "metadata": {},
     "output_type": "display_data"
    },
    {
     "name": "stdout",
     "output_type": "stream",
     "text": [
      "Epoch end: Validation, epoch number: 2\n",
      "ValidationEpoch/CM\n",
      " tensor([[   1, 1004, 1083,    5,    8,   30,    0,    0, 3073],\n",
      "        [  53, 6435,   54,    0,    0,    0,  136,    0,    0],\n",
      "        [   0, 1700, 3822,    0,    5,   95,    0,    0,  863],\n",
      "        [   0, 1021, 1001,   17,   30,   32,    0,    0, 3313],\n",
      "        [   0, 1084,  645,    0,  845,   51,    0,    0, 2909],\n",
      "        [   0, 1787,  405,    0,    0, 3531,    0,   32,    0],\n",
      "        [   0, 1294, 2464,    0,    7,  104,    0,    0, 1547],\n",
      "        [   0,  916,   34,    0,   65,    0,  107, 4258,    0],\n",
      "        [   0,  551,    4,    0,    0,    6,    0,    0, 6113]])\n",
      "Epoch end: Train, epoch number: 1\n",
      "TrainEpoch/CM\n",
      " tensor([[   1, 1004, 1083,    5,    8,   30,    0,    0, 3073],\n",
      "        [  53, 6435,   54,    0,    0,    0,  136,    0,    0],\n",
      "        [   0, 1700, 3822,    0,    5,   95,    0,    0,  863],\n",
      "        [   0, 1021, 1001,   17,   30,   32,    0,    0, 3313],\n",
      "        [   0, 1084,  645,    0,  845,   51,    0,    0, 2909],\n",
      "        [   0, 1787,  405,    0,    0, 3531,    0,   32,    0],\n",
      "        [   0, 1294, 2464,    0,    7,  104,    0,    0, 1547],\n",
      "        [   0,  916,   34,    0,   65,    0,  107, 4258,    0],\n",
      "        [   0,  551,    4,    0,    0,    6,    0,    0, 6113]])\n"
     ]
    },
    {
     "name": "stderr",
     "output_type": "stream",
     "text": [
      "Metric Validation/Accuracy improved by 0.105 >= min_delta = 0.0. New best score: 0.624\n"
     ]
    },
    {
     "data": {
      "application/vnd.jupyter.widget-view+json": {
       "model_id": "7902ee528687486d9dab5ef5eaab2147",
       "version_major": 2,
       "version_minor": 0
      },
      "text/plain": [
       "Validation: |          | 0/? [00:00<?, ?it/s]"
      ]
     },
     "metadata": {},
     "output_type": "display_data"
    },
    {
     "name": "stdout",
     "output_type": "stream",
     "text": [
      "Epoch end: Validation, epoch number: 3\n",
      "ValidationEpoch/CM\n",
      " tensor([[ 563, 1004, 2058,  468,   53,   65,    0,    0, 3543],\n",
      "        [  53, 9710,   54,    0,    0,    5,  136,    0,    0],\n",
      "        [   0, 1700, 6945,    0,   17,  119,    0,    0,  884],\n",
      "        [   4, 1021, 2137,  753,  149,   57,    0,    0, 3943],\n",
      "        [   1, 1084,  883,    6, 3095,  102,    0,    0, 3078],\n",
      "        [   0, 1788,  744,    0,    0, 6008,    0,   35,    0],\n",
      "        [   4, 1294, 4794,   59,   57,  169,    0,    0, 1689],\n",
      "        [   0,  916,   34,    0,   65,    0,  107, 6903,    0],\n",
      "        [   0,  551,    8,    1,    0,    6,    0,    0, 9388]])\n"
     ]
    },
    {
     "name": "stderr",
     "output_type": "stream",
     "text": [
      "Metric Validation/Accuracy improved by 0.066 >= min_delta = 0.0. New best score: 0.690\n"
     ]
    },
    {
     "name": "stdout",
     "output_type": "stream",
     "text": [
      "Epoch end: Train, epoch number: 2\n",
      "TrainEpoch/CM\n",
      " tensor([[ 563, 1004, 2058,  468,   53,   65,    0,    0, 3543],\n",
      "        [  53, 9710,   54,    0,    0,    5,  136,    0,    0],\n",
      "        [   0, 1700, 6945,    0,   17,  119,    0,    0,  884],\n",
      "        [   4, 1021, 2137,  753,  149,   57,    0,    0, 3943],\n",
      "        [   1, 1084,  883,    6, 3095,  102,    0,    0, 3078],\n",
      "        [   0, 1788,  744,    0,    0, 6008,    0,   35,    0],\n",
      "        [   4, 1294, 4794,   59,   57,  169,    0,    0, 1689],\n",
      "        [   0,  916,   34,    0,   65,    0,  107, 6903,    0],\n",
      "        [   0,  551,    8,    1,    0,    6,    0,    0, 9388]])\n"
     ]
    },
    {
     "data": {
      "application/vnd.jupyter.widget-view+json": {
       "model_id": "260330f14f5b46b193fd698cd4e3599e",
       "version_major": 2,
       "version_minor": 0
      },
      "text/plain": [
       "Validation: |          | 0/? [00:00<?, ?it/s]"
      ]
     },
     "metadata": {},
     "output_type": "display_data"
    },
    {
     "name": "stdout",
     "output_type": "stream",
     "text": [
      "Epoch end: Validation, epoch number: 4\n",
      "ValidationEpoch/CM\n",
      " tensor([[ 1320,  1004,  2424,  1612,   187,   100,     0,     0,  3657],\n",
      "        [   53, 12985,    54,     0,     0,    10,   136,     0,     0],\n",
      "        [    0,  1700, 10067,     9,    41,   143,     0,     0,   885],\n",
      "        [    9,  1021,  2641,  2449,   465,    82,     0,     0,  4047],\n",
      "        [    5,  1084,   944,    19,  5673,   156,     0,     0,  3083],\n",
      "        [    0,  1788,  1204,     0,     0,  8368,     0,    35,     0],\n",
      "        [    4,  1294,  6913,   284,   261,   234,     4,     0,  1722],\n",
      "        [    0,   916,    34,     0,    65,     0,   107,  9548,     0],\n",
      "        [    0,   551,     8,     6,     0,     6,     0,     0, 12663]])\n",
      "Epoch end: Train, epoch number: 3\n",
      "TrainEpoch/CM\n",
      " tensor([[ 1320,  1004,  2424,  1612,   187,   100,     0,     0,  3657],\n",
      "        [   53, 12985,    54,     0,     0,    10,   136,     0,     0],\n",
      "        [    0,  1700, 10067,     9,    41,   143,     0,     0,   885],\n",
      "        [    9,  1021,  2641,  2449,   465,    82,     0,     0,  4047],\n",
      "        [    5,  1084,   944,    19,  5673,   156,     0,     0,  3083],\n",
      "        [    0,  1788,  1204,     0,     0,  8368,     0,    35,     0],\n",
      "        [    4,  1294,  6913,   284,   261,   234,     4,     0,  1722],\n",
      "        [    0,   916,    34,     0,    65,     0,   107,  9548,     0],\n",
      "        [    0,   551,     8,     6,     0,     6,     0,     0, 12663]])\n"
     ]
    },
    {
     "name": "stderr",
     "output_type": "stream",
     "text": [
      "Metric Validation/Accuracy improved by 0.093 >= min_delta = 0.0. New best score: 0.782\n"
     ]
    },
    {
     "data": {
      "application/vnd.jupyter.widget-view+json": {
       "model_id": "8caab9b0349d4a4bb5700da8f2df1aa0",
       "version_major": 2,
       "version_minor": 0
      },
      "text/plain": [
       "Validation: |          | 0/? [00:00<?, ?it/s]"
      ]
     },
     "metadata": {},
     "output_type": "display_data"
    },
    {
     "name": "stdout",
     "output_type": "stream",
     "text": [
      "Epoch end: Validation, epoch number: 5\n",
      "ValidationEpoch/CM\n",
      " tensor([[ 2802,  1004,  2502,  2519,   199,   135,     0,     0,  3693],\n",
      "        [   53, 16260,    54,     0,     0,    15,   136,     0,     0],\n",
      "        [    0,  1700, 13156,    46,    71,   167,     0,     0,   885],\n",
      "        [   40,  1021,  2812,  4637,   682,   107,     0,     0,  4065],\n",
      "        [   10,  1084,   974,    50,  8269,   209,     0,     0,  3083],\n",
      "        [    0,  1788,  1687,     0,     0, 10705,     0,    35,     0],\n",
      "        [    5,  1294,  8782,   762,   478,   301,     7,     0,  1737],\n",
      "        [    0,   916,    34,     0,    65,     5,   107, 12188,     0],\n",
      "        [    0,   551,     8,    14,     0,     6,     0,     0, 15935]])\n"
     ]
    },
    {
     "name": "stderr",
     "output_type": "stream",
     "text": [
      "Metric Validation/Accuracy improved by 0.000 >= min_delta = 0.0. New best score: 0.783\n"
     ]
    },
    {
     "name": "stdout",
     "output_type": "stream",
     "text": [
      "Epoch end: Train, epoch number: 4\n",
      "TrainEpoch/CM\n",
      " tensor([[ 2802,  1004,  2502,  2519,   199,   135,     0,     0,  3693],\n",
      "        [   53, 16260,    54,     0,     0,    15,   136,     0,     0],\n",
      "        [    0,  1700, 13156,    46,    71,   167,     0,     0,   885],\n",
      "        [   40,  1021,  2812,  4637,   682,   107,     0,     0,  4065],\n",
      "        [   10,  1084,   974,    50,  8269,   209,     0,     0,  3083],\n",
      "        [    0,  1788,  1687,     0,     0, 10705,     0,    35,     0],\n",
      "        [    5,  1294,  8782,   762,   478,   301,     7,     0,  1737],\n",
      "        [    0,   916,    34,     0,    65,     5,   107, 12188,     0],\n",
      "        [    0,   551,     8,    14,     0,     6,     0,     0, 15935]])\n"
     ]
    },
    {
     "data": {
      "application/vnd.jupyter.widget-view+json": {
       "model_id": "cba2cbb403634ba9b52fe0fd7307ec39",
       "version_major": 2,
       "version_minor": 0
      },
      "text/plain": [
       "Validation: |          | 0/? [00:00<?, ?it/s]"
      ]
     },
     "metadata": {},
     "output_type": "display_data"
    },
    {
     "name": "stdout",
     "output_type": "stream",
     "text": [
      "Epoch end: Validation, epoch number: 6\n",
      "ValidationEpoch/CM\n",
      " tensor([[ 4591,  1004,  2550,  3155,   215,   170,     1,     0,  3718],\n",
      "        [   53, 19535,    54,     0,     0,    20,   136,     0,     0],\n",
      "        [    0,  1700, 16232,    78,   119,   191,     0,     0,   885],\n",
      "        [   91,  1021,  2939,  6734,  1013,   132,    12,     0,  4072],\n",
      "        [   15,  1084,   993,    61, 10908,   250,     0,     0,  3083],\n",
      "        [    0,  1788,  2265,     0,     0, 12947,     0,    35,     0],\n",
      "        [   11,  1294, 10605,  1200,   776,   366,    23,     0,  1741],\n",
      "        [    0,   916,    34,     0,    65,    11,   107, 14827,     0],\n",
      "        [    0,   551,     8,    23,     0,     6,     0,     0, 19206]])\n"
     ]
    },
    {
     "name": "stderr",
     "output_type": "stream",
     "text": [
      "Metric Validation/Accuracy improved by 0.021 >= min_delta = 0.0. New best score: 0.804\n"
     ]
    },
    {
     "name": "stdout",
     "output_type": "stream",
     "text": [
      "Epoch end: Train, epoch number: 5\n",
      "TrainEpoch/CM\n",
      " tensor([[ 4591,  1004,  2550,  3155,   215,   170,     1,     0,  3718],\n",
      "        [   53, 19535,    54,     0,     0,    20,   136,     0,     0],\n",
      "        [    0,  1700, 16232,    78,   119,   191,     0,     0,   885],\n",
      "        [   91,  1021,  2939,  6734,  1013,   132,    12,     0,  4072],\n",
      "        [   15,  1084,   993,    61, 10908,   250,     0,     0,  3083],\n",
      "        [    0,  1788,  2265,     0,     0, 12947,     0,    35,     0],\n",
      "        [   11,  1294, 10605,  1200,   776,   366,    23,     0,  1741],\n",
      "        [    0,   916,    34,     0,    65,    11,   107, 14827,     0],\n",
      "        [    0,   551,     8,    23,     0,     6,     0,     0, 19206]])\n"
     ]
    },
    {
     "data": {
      "application/vnd.jupyter.widget-view+json": {
       "model_id": "73e141fb166f4128b4ed568320d8ed7d",
       "version_major": 2,
       "version_minor": 0
      },
      "text/plain": [
       "Validation: |          | 0/? [00:00<?, ?it/s]"
      ]
     },
     "metadata": {},
     "output_type": "display_data"
    },
    {
     "name": "stdout",
     "output_type": "stream",
     "text": [
      "Epoch end: Validation, epoch number: 7\n",
      "ValidationEpoch/CM\n",
      " tensor([[ 6496,  1004,  2571,  3724,   225,   205,     1,     0,  3728],\n",
      "        [   53, 22810,    54,     0,     0,    25,   136,     0,     0],\n",
      "        [    0,  1700, 19290,   140,   155,   215,     0,     0,   885],\n",
      "        [  179,  1021,  3013,  9009,  1200,   157,    12,     0,  4073],\n",
      "        [   20,  1084,  1008,    89, 13540,   285,     0,     0,  3083],\n",
      "        [    0,  1788,  2763,     0,     0, 15269,     0,    35,     0],\n",
      "        [   26,  1294, 12308,  1806,  1027,   431,    33,     0,  1741],\n",
      "        [    0,   916,    34,     0,    65,    16,   107, 17467,     0],\n",
      "        [    0,   551,     8,    33,     0,     6,     0,     0, 22476]])\n",
      "Epoch end: Train, epoch number: 6\n",
      "TrainEpoch/CM\n",
      " tensor([[ 6496,  1004,  2571,  3724,   225,   205,     1,     0,  3728],\n",
      "        [   53, 22810,    54,     0,     0,    25,   136,     0,     0],\n",
      "        [    0,  1700, 19290,   140,   155,   215,     0,     0,   885],\n",
      "        [  179,  1021,  3013,  9009,  1200,   157,    12,     0,  4073],\n",
      "        [   20,  1084,  1008,    89, 13540,   285,     0,     0,  3083],\n",
      "        [    0,  1788,  2763,     0,     0, 15269,     0,    35,     0],\n",
      "        [   26,  1294, 12308,  1806,  1027,   431,    33,     0,  1741],\n",
      "        [    0,   916,    34,     0,    65,    16,   107, 17467,     0],\n",
      "        [    0,   551,     8,    33,     0,     6,     0,     0, 22476]])\n"
     ]
    },
    {
     "name": "stderr",
     "output_type": "stream",
     "text": [
      "Metric Validation/Accuracy improved by 0.018 >= min_delta = 0.0. New best score: 0.822\n"
     ]
    },
    {
     "data": {
      "application/vnd.jupyter.widget-view+json": {
       "model_id": "76917c735b954cb68f2b77dbc23fe4f0",
       "version_major": 2,
       "version_minor": 0
      },
      "text/plain": [
       "Validation: |          | 0/? [00:00<?, ?it/s]"
      ]
     },
     "metadata": {},
     "output_type": "display_data"
    },
    {
     "name": "stdout",
     "output_type": "stream",
     "text": [
      "Epoch end: Validation, epoch number: 8\n",
      "ValidationEpoch/CM\n",
      " tensor([[ 8634,  1004,  2595,  4059,   236,   240,     1,     0,  3735],\n",
      "        [   53, 26085,    54,     0,     0,    30,   136,     0,     0],\n",
      "        [    0,  1700, 22360,   175,   206,   239,     0,     0,   885],\n",
      "        [  333,  1021,  3104, 11096,  1485,   182,    20,     0,  4073],\n",
      "        [   25,  1084,  1018,    94, 16213,   307,     0,     0,  3083],\n",
      "        [    0,  1788,  3281,     0,     0, 17571,     0,    35,     0],\n",
      "        [   54,  1294, 14042,  2267,  1345,   496,    77,     0,  1741],\n",
      "        [    0,   916,    34,     0,    65,    21,   107, 20107,     0],\n",
      "        [    0,   551,     8,    43,     0,     6,     0,     0, 25746]])\n",
      "Epoch end: Train, epoch number: 7\n",
      "TrainEpoch/CM\n",
      " tensor([[ 8634,  1004,  2595,  4059,   236,   240,     1,     0,  3735],\n",
      "        [   53, 26085,    54,     0,     0,    30,   136,     0,     0],\n",
      "        [    0,  1700, 22360,   175,   206,   239,     0,     0,   885],\n",
      "        [  333,  1021,  3104, 11096,  1485,   182,    20,     0,  4073],\n",
      "        [   25,  1084,  1018,    94, 16213,   307,     0,     0,  3083],\n",
      "        [    0,  1788,  3281,     0,     0, 17571,     0,    35,     0],\n",
      "        [   54,  1294, 14042,  2267,  1345,   496,    77,     0,  1741],\n",
      "        [    0,   916,    34,     0,    65,    21,   107, 20107,     0],\n",
      "        [    0,   551,     8,    43,     0,     6,     0,     0, 25746]])\n"
     ]
    },
    {
     "data": {
      "application/vnd.jupyter.widget-view+json": {
       "model_id": "c7a8ca6f4fef4d0ba51168b0d9c6bf48",
       "version_major": 2,
       "version_minor": 0
      },
      "text/plain": [
       "Validation: |          | 0/? [00:00<?, ?it/s]"
      ]
     },
     "metadata": {},
     "output_type": "display_data"
    },
    {
     "name": "stdout",
     "output_type": "stream",
     "text": [
      "Epoch end: Validation, epoch number: 9\n",
      "ValidationEpoch/CM\n",
      " tensor([[10702,  1004,  2611,  4476,   246,   274,     1,     0,  3740],\n",
      "        [   53, 29360,    54,     0,     0,    35,   136,     0,     0],\n",
      "        [    4,  1700, 25404,   237,   252,   263,     0,     0,   885],\n",
      "        [  485,  1021,  3155, 13321,  1667,   207,    35,     0,  4073],\n",
      "        [   32,  1084,  1030,   119, 18864,   327,     0,     0,  3083],\n",
      "        [    0,  1788,  3810,     0,     0, 19862,     0,    35,     0],\n",
      "        [   86,  1294, 15649,  2871,  1600,   562,   163,     0,  1741],\n",
      "        [    0,   916,    34,     0,    65,    26,   107, 22747,     0],\n",
      "        [    0,   551,     8,    53,     0,     6,     0,     0, 29016]])\n",
      "Epoch end: Train, epoch number: 8\n",
      "TrainEpoch/CM\n",
      " tensor([[10702,  1004,  2611,  4476,   246,   274,     1,     0,  3740],\n",
      "        [   53, 29360,    54,     0,     0,    35,   136,     0,     0],\n",
      "        [    4,  1700, 25404,   237,   252,   263,     0,     0,   885],\n",
      "        [  485,  1021,  3155, 13321,  1667,   207,    35,     0,  4073],\n",
      "        [   32,  1084,  1030,   119, 18864,   327,     0,     0,  3083],\n",
      "        [    0,  1788,  3810,     0,     0, 19862,     0,    35,     0],\n",
      "        [   86,  1294, 15649,  2871,  1600,   562,   163,     0,  1741],\n",
      "        [    0,   916,    34,     0,    65,    26,   107, 22747,     0],\n",
      "        [    0,   551,     8,    53,     0,     6,     0,     0, 29016]])\n"
     ]
    },
    {
     "name": "stderr",
     "output_type": "stream",
     "text": [
      "Metric Validation/Accuracy improved by 0.018 >= min_delta = 0.0. New best score: 0.840\n"
     ]
    },
    {
     "data": {
      "application/vnd.jupyter.widget-view+json": {
       "model_id": "d8229082c2d649c695acfcb900b01fc2",
       "version_major": 2,
       "version_minor": 0
      },
      "text/plain": [
       "Validation: |          | 0/? [00:00<?, ?it/s]"
      ]
     },
     "metadata": {},
     "output_type": "display_data"
    },
    {
     "name": "stdout",
     "output_type": "stream",
     "text": [
      "Epoch end: Validation, epoch number: 10\n",
      "ValidationEpoch/CM\n",
      " tensor([[12860,  1004,  2611,  4823,   256,   304,     1,     0,  3745],\n",
      "        [   53, 32635,    54,     0,     0,    40,   136,     0,     0],\n",
      "        [    4,  1700, 28427,   317,   305,   287,     0,     0,   885],\n",
      "        [  685,  1021,  3173, 15570,  1804,   229,    59,     0,  4073],\n",
      "        [   38,  1084,  1040,   142, 21521,   346,     0,     0,  3083],\n",
      "        [    0,  1788,  4231,     0,     0, 22261,     0,    35,     0],\n",
      "        [  140,  1294, 17140,  3519,  1847,   627,   308,     0,  1741],\n",
      "        [    0,   916,    34,     0,    65,    30,   107, 25388,     0],\n",
      "        [    0,   551,     8,    63,     0,     6,     0,     0, 32286]])\n",
      "Epoch end: Train, epoch number: 9\n",
      "TrainEpoch/CM\n",
      " tensor([[12860,  1004,  2611,  4823,   256,   304,     1,     0,  3745],\n",
      "        [   53, 32635,    54,     0,     0,    40,   136,     0,     0],\n",
      "        [    4,  1700, 28427,   317,   305,   287,     0,     0,   885],\n",
      "        [  685,  1021,  3173, 15570,  1804,   229,    59,     0,  4073],\n",
      "        [   38,  1084,  1040,   142, 21521,   346,     0,     0,  3083],\n",
      "        [    0,  1788,  4231,     0,     0, 22261,     0,    35,     0],\n",
      "        [  140,  1294, 17140,  3519,  1847,   627,   308,     0,  1741],\n",
      "        [    0,   916,    34,     0,    65,    30,   107, 25388,     0],\n",
      "        [    0,   551,     8,    63,     0,     6,     0,     0, 32286]])\n"
     ]
    },
    {
     "name": "stderr",
     "output_type": "stream",
     "text": [
      "Metric Validation/Accuracy improved by 0.003 >= min_delta = 0.0. New best score: 0.843\n"
     ]
    },
    {
     "data": {
      "application/vnd.jupyter.widget-view+json": {
       "model_id": "a59db10225bb439aad00bd58cc1f15f8",
       "version_major": 2,
       "version_minor": 0
      },
      "text/plain": [
       "Validation: |          | 0/? [00:00<?, ?it/s]"
      ]
     },
     "metadata": {},
     "output_type": "display_data"
    },
    {
     "name": "stdout",
     "output_type": "stream",
     "text": [
      "Epoch end: Validation, epoch number: 11\n",
      "ValidationEpoch/CM\n",
      " tensor([[15095,  1004,  2611,  5094,   268,   328,     4,     0,  3750],\n",
      "        [   53, 35910,    54,     0,     0,    45,   136,     0,     0],\n",
      "        [    7,  1700, 31469,   380,   353,   311,     0,     0,   885],\n",
      "        [  930,  1021,  3193, 17758,  1943,   249,    97,     0,  4073],\n",
      "        [   44,  1084,  1050,   155, 24192,   361,     0,     0,  3083],\n",
      "        [    0,  1788,  4618,     0,     0, 24694,     0,    35,     0],\n",
      "        [  204,  1294, 18596,  4105,  2104,   692,   530,     0,  1741],\n",
      "        [    0,   916,    34,     0,    65,    30,   107, 28033,     0],\n",
      "        [    0,   551,     8,    73,     0,     6,     0,     0, 35556]])\n",
      "Epoch end: Train, epoch number: 10\n"
     ]
    },
    {
     "name": "stderr",
     "output_type": "stream",
     "text": [
      "Metric Validation/Accuracy improved by 0.003 >= min_delta = 0.0. New best score: 0.847\n"
     ]
    },
    {
     "name": "stdout",
     "output_type": "stream",
     "text": [
      "TrainEpoch/CM\n",
      " tensor([[15095,  1004,  2611,  5094,   268,   328,     4,     0,  3750],\n",
      "        [   53, 35910,    54,     0,     0,    45,   136,     0,     0],\n",
      "        [    7,  1700, 31469,   380,   353,   311,     0,     0,   885],\n",
      "        [  930,  1021,  3193, 17758,  1943,   249,    97,     0,  4073],\n",
      "        [   44,  1084,  1050,   155, 24192,   361,     0,     0,  3083],\n",
      "        [    0,  1788,  4618,     0,     0, 24694,     0,    35,     0],\n",
      "        [  204,  1294, 18596,  4105,  2104,   692,   530,     0,  1741],\n",
      "        [    0,   916,    34,     0,    65,    30,   107, 28033,     0],\n",
      "        [    0,   551,     8,    73,     0,     6,     0,     0, 35556]])\n"
     ]
    },
    {
     "data": {
      "application/vnd.jupyter.widget-view+json": {
       "model_id": "338ebe630ad04962a79732d769f6c147",
       "version_major": 2,
       "version_minor": 0
      },
      "text/plain": [
       "Validation: |          | 0/? [00:00<?, ?it/s]"
      ]
     },
     "metadata": {},
     "output_type": "display_data"
    },
    {
     "name": "stdout",
     "output_type": "stream",
     "text": [
      "Epoch end: Validation, epoch number: 12\n",
      "ValidationEpoch/CM\n",
      " tensor([[17367,  1004,  2611,  5341,   283,   339,     4,     0,  3755],\n",
      "        [   53, 39185,    54,     0,     0,    50,   136,     0,     0],\n",
      "        [   14,  1700, 34479,   463,   398,   335,    11,     0,   885],\n",
      "        [ 1174,  1021,  3205, 19967,  2072,   269,   133,     0,  4073],\n",
      "        [   49,  1084,  1058,   178, 26866,   366,     0,     0,  3083],\n",
      "        [    0,  1788,  4989,     0,     0, 27143,     0,    35,     0],\n",
      "        [  271,  1294, 20020,  4722,  2347,   757,   764,     0,  1741],\n",
      "        [    0,   916,    34,     0,    65,    30,   107, 30678,     0],\n",
      "        [    0,   551,     8,    83,     0,     6,     0,     0, 38826]])\n",
      "Epoch end: Train, epoch number: 11\n"
     ]
    },
    {
     "name": "stderr",
     "output_type": "stream",
     "text": [
      "Metric Validation/Accuracy improved by 0.004 >= min_delta = 0.0. New best score: 0.850\n"
     ]
    },
    {
     "name": "stdout",
     "output_type": "stream",
     "text": [
      "TrainEpoch/CM\n",
      " tensor([[17367,  1004,  2611,  5341,   283,   339,     4,     0,  3755],\n",
      "        [   53, 39185,    54,     0,     0,    50,   136,     0,     0],\n",
      "        [   14,  1700, 34479,   463,   398,   335,    11,     0,   885],\n",
      "        [ 1174,  1021,  3205, 19967,  2072,   269,   133,     0,  4073],\n",
      "        [   49,  1084,  1058,   178, 26866,   366,     0,     0,  3083],\n",
      "        [    0,  1788,  4989,     0,     0, 27143,     0,    35,     0],\n",
      "        [  271,  1294, 20020,  4722,  2347,   757,   764,     0,  1741],\n",
      "        [    0,   916,    34,     0,    65,    30,   107, 30678,     0],\n",
      "        [    0,   551,     8,    83,     0,     6,     0,     0, 38826]])\n"
     ]
    },
    {
     "data": {
      "application/vnd.jupyter.widget-view+json": {
       "model_id": "0b80d7fc0001465fb0098b2c797ef5b5",
       "version_major": 2,
       "version_minor": 0
      },
      "text/plain": [
       "Validation: |          | 0/? [00:00<?, ?it/s]"
      ]
     },
     "metadata": {},
     "output_type": "display_data"
    },
    {
     "name": "stdout",
     "output_type": "stream",
     "text": [
      "Epoch end: Validation, epoch number: 13\n",
      "ValidationEpoch/CM\n",
      " tensor([[19637,  1004,  2611,  5584,   298,   349,    11,     0,  3760],\n",
      "        [   53, 42460,    54,     0,     0,    55,   136,     0,     0],\n",
      "        [   22,  1700, 37463,   543,   438,   359,    55,     0,   885],\n",
      "        [ 1400,  1021,  3218, 22183,  2195,   289,   185,     0,  4073],\n",
      "        [   54,  1084,  1066,   200, 29541,   371,     0,     0,  3083],\n",
      "        [    0,  1788,  5300,     0,     0, 29652,     0,    35,     0],\n",
      "        [  343,  1294, 21420,  5340,  2575,   822,  1031,     0,  1741],\n",
      "        [    0,   916,    34,     0,    65,    30,   107, 33323,     0],\n",
      "        [    0,   551,     8,    93,     0,     6,     0,     0, 42096]])\n",
      "Epoch end: Train, epoch number: 12\n",
      "TrainEpoch/CM\n",
      " tensor([[19637,  1004,  2611,  5584,   298,   349,    11,     0,  3760],\n",
      "        [   53, 42460,    54,     0,     0,    55,   136,     0,     0],\n",
      "        [   22,  1700, 37463,   543,   438,   359,    55,     0,   885],\n",
      "        [ 1400,  1021,  3218, 22183,  2195,   289,   185,     0,  4073],\n",
      "        [   54,  1084,  1066,   200, 29541,   371,     0,     0,  3083],\n",
      "        [    0,  1788,  5300,     0,     0, 29652,     0,    35,     0],\n",
      "        [  343,  1294, 21420,  5340,  2575,   822,  1031,     0,  1741],\n",
      "        [    0,   916,    34,     0,    65,    30,   107, 33323,     0],\n",
      "        [    0,   551,     8,    93,     0,     6,     0,     0, 42096]])\n"
     ]
    },
    {
     "name": "stderr",
     "output_type": "stream",
     "text": [
      "Metric Validation/Accuracy improved by 0.004 >= min_delta = 0.0. New best score: 0.854\n"
     ]
    },
    {
     "data": {
      "application/vnd.jupyter.widget-view+json": {
       "model_id": "62172e4d795f42318a0ed6b2914619e9",
       "version_major": 2,
       "version_minor": 0
      },
      "text/plain": [
       "Validation: |          | 0/? [00:00<?, ?it/s]"
      ]
     },
     "metadata": {},
     "output_type": "display_data"
    },
    {
     "name": "stdout",
     "output_type": "stream",
     "text": [
      "Epoch end: Validation, epoch number: 14\n",
      "ValidationEpoch/CM\n",
      " tensor([[21974,  1004,  2611,  5769,   310,   359,    12,     0,  3765],\n",
      "        [   53, 45735,    54,     0,     0,    60,   136,     0,     0],\n",
      "        [   31,  1700, 40465,   624,   470,   383,    87,     0,   885],\n",
      "        [ 1679,  1021,  3232, 24345,  2322,   309,   233,     0,  4073],\n",
      "        [   60,  1084,  1076,   219, 32216,   376,     0,     0,  3083],\n",
      "        [    0,  1788,  5555,     0,     0, 32217,     0,    35,     0],\n",
      "        [  430,  1294, 22786,  5917,  2800,   887,  1361,     0,  1741],\n",
      "        [    0,   916,    34,     0,    65,    30,   107, 35968,     0],\n",
      "        [    0,   551,     8,   103,     0,     6,     0,     0, 45366]])\n",
      "Epoch end: Train, epoch number: 13\n",
      "TrainEpoch/CM\n",
      " tensor([[21974,  1004,  2611,  5769,   310,   359,    12,     0,  3765],\n",
      "        [   53, 45735,    54,     0,     0,    60,   136,     0,     0],\n",
      "        [   31,  1700, 40465,   624,   470,   383,    87,     0,   885],\n",
      "        [ 1679,  1021,  3232, 24345,  2322,   309,   233,     0,  4073],\n",
      "        [   60,  1084,  1076,   219, 32216,   376,     0,     0,  3083],\n",
      "        [    0,  1788,  5555,     0,     0, 32217,     0,    35,     0],\n",
      "        [  430,  1294, 22786,  5917,  2800,   887,  1361,     0,  1741],\n",
      "        [    0,   916,    34,     0,    65,    30,   107, 35968,     0],\n",
      "        [    0,   551,     8,   103,     0,     6,     0,     0, 45366]])\n"
     ]
    },
    {
     "name": "stderr",
     "output_type": "stream",
     "text": [
      "Metric Validation/Accuracy improved by 0.003 >= min_delta = 0.0. New best score: 0.858\n"
     ]
    },
    {
     "data": {
      "application/vnd.jupyter.widget-view+json": {
       "model_id": "c1625fd073ea4fbfb038fee91c376952",
       "version_major": 2,
       "version_minor": 0
      },
      "text/plain": [
       "Validation: |          | 0/? [00:00<?, ?it/s]"
      ]
     },
     "metadata": {},
     "output_type": "display_data"
    },
    {
     "name": "stdout",
     "output_type": "stream",
     "text": [
      "Epoch end: Validation, epoch number: 15\n",
      "ValidationEpoch/CM\n",
      " tensor([[24295,  1004,  2611,  5970,   322,   369,    13,     0,  3770],\n",
      "        [   53, 49010,    54,     0,     0,    65,   136,     0,     0],\n",
      "        [   38,  1700, 43425,   712,   503,   407,   155,     0,   885],\n",
      "        [ 1955,  1021,  3242, 26528,  2436,   326,   283,     0,  4073],\n",
      "        [   66,  1084,  1085,   245, 34885,   381,     0,     0,  3083],\n",
      "        [    0,  1788,  5765,     0,     0, 34827,     0,    35,     0],\n",
      "        [  513,  1294, 24073,  6525,  3015,   954,  1751,     0,  1741],\n",
      "        [    0,   916,    34,     0,    65,    30,   107, 38613,     0],\n",
      "        [    0,   551,     8,   113,     0,     6,     0,     0, 48636]])\n",
      "Epoch end: Train, epoch number: 14\n",
      "TrainEpoch/CM\n",
      " tensor([[24295,  1004,  2611,  5970,   322,   369,    13,     0,  3770],\n",
      "        [   53, 49010,    54,     0,     0,    65,   136,     0,     0],\n",
      "        [   38,  1700, 43425,   712,   503,   407,   155,     0,   885],\n",
      "        [ 1955,  1021,  3242, 26528,  2436,   326,   283,     0,  4073],\n",
      "        [   66,  1084,  1085,   245, 34885,   381,     0,     0,  3083],\n",
      "        [    0,  1788,  5765,     0,     0, 34827,     0,    35,     0],\n",
      "        [  513,  1294, 24073,  6525,  3015,   954,  1751,     0,  1741],\n",
      "        [    0,   916,    34,     0,    65,    30,   107, 38613,     0],\n",
      "        [    0,   551,     8,   113,     0,     6,     0,     0, 48636]])\n"
     ]
    },
    {
     "data": {
      "application/vnd.jupyter.widget-view+json": {
       "model_id": "009e9ae9da974910b46f5f10fa26bc0d",
       "version_major": 2,
       "version_minor": 0
      },
      "text/plain": [
       "Validation: |          | 0/? [00:00<?, ?it/s]"
      ]
     },
     "metadata": {},
     "output_type": "display_data"
    },
    {
     "name": "stdout",
     "output_type": "stream",
     "text": [
      "Epoch end: Validation, epoch number: 16\n",
      "ValidationEpoch/CM\n",
      " tensor([[26643,  1004,  2611,  6147,   335,   379,    15,     0,  3770],\n",
      "        [   53, 52285,    54,     0,     0,    70,   136,     0,     0],\n",
      "        [   47,  1700, 46409,   788,   535,   431,   210,     0,   885],\n",
      "        [ 2237,  1021,  3256, 28703,  2545,   345,   334,     0,  4073],\n",
      "        [   71,  1084,  1095,   270, 37555,   386,     0,     0,  3083],\n",
      "        [    0,  1788,  5987,     0,     0, 37425,     0,    35,     0],\n",
      "        [  603,  1294, 25404,  7116,  3225,  1021,  2112,     0,  1741],\n",
      "        [    0,   916,    34,     0,    65,    30,   107, 41258,     0],\n",
      "        [    0,   551,     8,   123,     0,     6,     0,     0, 51906]])\n"
     ]
    },
    {
     "name": "stderr",
     "output_type": "stream",
     "text": [
      "Metric Validation/Accuracy improved by 0.006 >= min_delta = 0.0. New best score: 0.864\n"
     ]
    },
    {
     "name": "stdout",
     "output_type": "stream",
     "text": [
      "Epoch end: Train, epoch number: 15\n",
      "TrainEpoch/CM\n",
      " tensor([[26643,  1004,  2611,  6147,   335,   379,    15,     0,  3770],\n",
      "        [   53, 52285,    54,     0,     0,    70,   136,     0,     0],\n",
      "        [   47,  1700, 46409,   788,   535,   431,   210,     0,   885],\n",
      "        [ 2237,  1021,  3256, 28703,  2545,   345,   334,     0,  4073],\n",
      "        [   71,  1084,  1095,   270, 37555,   386,     0,     0,  3083],\n",
      "        [    0,  1788,  5987,     0,     0, 37425,     0,    35,     0],\n",
      "        [  603,  1294, 25404,  7116,  3225,  1021,  2112,     0,  1741],\n",
      "        [    0,   916,    34,     0,    65,    30,   107, 41258,     0],\n",
      "        [    0,   551,     8,   123,     0,     6,     0,     0, 51906]])\n"
     ]
    },
    {
     "data": {
      "application/vnd.jupyter.widget-view+json": {
       "model_id": "14b43befe62b4a7985a9c2bfcadae77b",
       "version_major": 2,
       "version_minor": 0
      },
      "text/plain": [
       "Validation: |          | 0/? [00:00<?, ?it/s]"
      ]
     },
     "metadata": {},
     "output_type": "display_data"
    },
    {
     "name": "stdout",
     "output_type": "stream",
     "text": [
      "Epoch end: Validation, epoch number: 17\n",
      "ValidationEpoch/CM\n",
      " tensor([[29029,  1004,  2611,  6301,   339,   385,    15,     0,  3770],\n",
      "        [   53, 55560,    54,     0,     0,    75,   136,     0,     0],\n",
      "        [   54,  1700, 49369,   871,   564,   455,   287,     0,   885],\n",
      "        [ 2532,  1021,  3266, 30860,  2656,   359,   397,     0,  4073],\n",
      "        [   77,  1084,  1105,   296, 40223,   391,     0,     0,  3083],\n",
      "        [    0,  1788,  6181,     0,     0, 40051,     0,    35,     0],\n",
      "        [  706,  1294, 26658,  7697,  3418,  1088,  2564,     0,  1741],\n",
      "        [    0,   916,    34,     0,    65,    30,   107, 43903,     0],\n",
      "        [    0,   551,     8,   133,     0,     6,     0,     0, 55176]])\n"
     ]
    },
    {
     "name": "stderr",
     "output_type": "stream",
     "text": [
      "Metric Validation/Accuracy improved by 0.007 >= min_delta = 0.0. New best score: 0.871\n"
     ]
    },
    {
     "name": "stdout",
     "output_type": "stream",
     "text": [
      "Epoch end: Train, epoch number: 16\n",
      "TrainEpoch/CM\n",
      " tensor([[29029,  1004,  2611,  6301,   339,   385,    15,     0,  3770],\n",
      "        [   53, 55560,    54,     0,     0,    75,   136,     0,     0],\n",
      "        [   54,  1700, 49369,   871,   564,   455,   287,     0,   885],\n",
      "        [ 2532,  1021,  3266, 30860,  2656,   359,   397,     0,  4073],\n",
      "        [   77,  1084,  1105,   296, 40223,   391,     0,     0,  3083],\n",
      "        [    0,  1788,  6181,     0,     0, 40051,     0,    35,     0],\n",
      "        [  706,  1294, 26658,  7697,  3418,  1088,  2564,     0,  1741],\n",
      "        [    0,   916,    34,     0,    65,    30,   107, 43903,     0],\n",
      "        [    0,   551,     8,   133,     0,     6,     0,     0, 55176]])\n"
     ]
    },
    {
     "data": {
      "application/vnd.jupyter.widget-view+json": {
       "model_id": "fd92395197e14c2e99d2a71a76bf2218",
       "version_major": 2,
       "version_minor": 0
      },
      "text/plain": [
       "Validation: |          | 0/? [00:00<?, ?it/s]"
      ]
     },
     "metadata": {},
     "output_type": "display_data"
    },
    {
     "name": "stdout",
     "output_type": "stream",
     "text": [
      "Epoch end: Validation, epoch number: 18\n",
      "ValidationEpoch/CM\n",
      " tensor([[31392,  1004,  2611,  6473,   347,   390,    17,     0,  3770],\n",
      "        [   53, 58835,    54,     0,     0,    80,   136,     0,     0],\n",
      "        [   65,  1700, 52298,   955,   593,   479,   390,     0,   885],\n",
      "        [ 2781,  1021,  3273, 33071,  2770,   369,   456,     0,  4073],\n",
      "        [   82,  1084,  1115,   323, 42891,   396,     0,     0,  3083],\n",
      "        [    0,  1788,  6340,     0,     0, 42712,     0,    35,     0],\n",
      "        [  787,  1294, 27877,  8295,  3620,  1158,  3044,     0,  1741],\n",
      "        [    0,   916,    34,     0,    65,    30,   107, 46548,     0],\n",
      "        [    0,   551,     8,   143,     0,     6,     0,     0, 58446]])\n",
      "Epoch end: Train, epoch number: 17\n",
      "TrainEpoch/CM\n",
      " tensor([[31392,  1004,  2611,  6473,   347,   390,    17,     0,  3770],\n",
      "        [   53, 58835,    54,     0,     0,    80,   136,     0,     0],\n",
      "        [   65,  1700, 52298,   955,   593,   479,   390,     0,   885],\n",
      "        [ 2781,  1021,  3273, 33071,  2770,   369,   456,     0,  4073],\n",
      "        [   82,  1084,  1115,   323, 42891,   396,     0,     0,  3083],\n",
      "        [    0,  1788,  6340,     0,     0, 42712,     0,    35,     0],\n",
      "        [  787,  1294, 27877,  8295,  3620,  1158,  3044,     0,  1741],\n",
      "        [    0,   916,    34,     0,    65,    30,   107, 46548,     0],\n",
      "        [    0,   551,     8,   143,     0,     6,     0,     0, 58446]])\n"
     ]
    },
    {
     "data": {
      "application/vnd.jupyter.widget-view+json": {
       "model_id": "e0e6012a31b0464c9448fae8c0669ede",
       "version_major": 2,
       "version_minor": 0
      },
      "text/plain": [
       "Validation: |          | 0/? [00:00<?, ?it/s]"
      ]
     },
     "metadata": {},
     "output_type": "display_data"
    },
    {
     "name": "stdout",
     "output_type": "stream",
     "text": [
      "Epoch end: Validation, epoch number: 19\n",
      "ValidationEpoch/CM\n",
      " tensor([[33814,  1004,  2611,  6595,   347,   395,    18,     0,  3770],\n",
      "        [   53, 62110,    54,     0,     0,    85,   136,     0,     0],\n",
      "        [   74,  1700, 55226,  1036,   620,   503,   501,     0,   885],\n",
      "        [ 3088,  1021,  3283, 35223,  2876,   379,   521,     0,  4073],\n",
      "        [   87,  1084,  1125,   347, 45562,   401,     0,     0,  3083],\n",
      "        [    0,  1788,  6497,     0,     0, 45375,     0,    35,     0],\n",
      "        [  902,  1294, 29072,  8848,  3799,  1228,  3582,     0,  1741],\n",
      "        [    0,   916,    34,     0,    65,    30,   107, 49193,     0],\n",
      "        [    0,   551,     8,   153,     0,     6,     0,     0, 61716]])\n",
      "Epoch end: Train, epoch number: 18\n",
      "TrainEpoch/CM\n",
      " tensor([[33814,  1004,  2611,  6595,   347,   395,    18,     0,  3770],\n",
      "        [   53, 62110,    54,     0,     0,    85,   136,     0,     0],\n",
      "        [   74,  1700, 55226,  1036,   620,   503,   501,     0,   885],\n",
      "        [ 3088,  1021,  3283, 35223,  2876,   379,   521,     0,  4073],\n",
      "        [   87,  1084,  1125,   347, 45562,   401,     0,     0,  3083],\n",
      "        [    0,  1788,  6497,     0,     0, 45375,     0,    35,     0],\n",
      "        [  902,  1294, 29072,  8848,  3799,  1228,  3582,     0,  1741],\n",
      "        [    0,   916,    34,     0,    65,    30,   107, 49193,     0],\n",
      "        [    0,   551,     8,   153,     0,     6,     0,     0, 61716]])\n"
     ]
    },
    {
     "name": "stderr",
     "output_type": "stream",
     "text": [
      "Metric Validation/Accuracy improved by 0.002 >= min_delta = 0.0. New best score: 0.873\n"
     ]
    },
    {
     "data": {
      "application/vnd.jupyter.widget-view+json": {
       "model_id": "a69bf82d8c5141278c1caa57fac110b6",
       "version_major": 2,
       "version_minor": 0
      },
      "text/plain": [
       "Validation: |          | 0/? [00:00<?, ?it/s]"
      ]
     },
     "metadata": {},
     "output_type": "display_data"
    },
    {
     "name": "stdout",
     "output_type": "stream",
     "text": [
      "Epoch end: Validation, epoch number: 20\n",
      "ValidationEpoch/CM\n",
      " tensor([[36240,  1004,  2611,  6712,   348,   400,    19,     0,  3770],\n",
      "        [   53, 65385,    54,     0,     0,    90,   136,     0,     0],\n",
      "        [   86,  1700, 58147,  1116,   648,   527,   616,     0,   885],\n",
      "        [ 3412,  1021,  3293, 37355,  2984,   384,   592,     0,  4073],\n",
      "        [   92,  1084,  1135,   370, 48234,   406,     0,     0,  3083],\n",
      "        [    0,  1788,  6646,     0,     0, 48046,     0,    35,     0],\n",
      "        [ 1021,  1294, 30251,  9382,  3991,  1298,  4138,     0,  1741],\n",
      "        [    0,   916,    34,     0,    65,    30,   107, 51838,     0],\n",
      "        [    0,   551,     8,   163,     0,     6,     0,     0, 64986]])\n",
      "Epoch end: Train, epoch number: 19\n",
      "TrainEpoch/CM\n",
      " tensor([[36240,  1004,  2611,  6712,   348,   400,    19,     0,  3770],\n",
      "        [   53, 65385,    54,     0,     0,    90,   136,     0,     0],\n",
      "        [   86,  1700, 58147,  1116,   648,   527,   616,     0,   885],\n",
      "        [ 3412,  1021,  3293, 37355,  2984,   384,   592,     0,  4073],\n",
      "        [   92,  1084,  1135,   370, 48234,   406,     0,     0,  3083],\n",
      "        [    0,  1788,  6646,     0,     0, 48046,     0,    35,     0],\n",
      "        [ 1021,  1294, 30251,  9382,  3991,  1298,  4138,     0,  1741],\n",
      "        [    0,   916,    34,     0,    65,    30,   107, 51838,     0],\n",
      "        [    0,   551,     8,   163,     0,     6,     0,     0, 64986]])\n"
     ]
    },
    {
     "data": {
      "application/vnd.jupyter.widget-view+json": {
       "model_id": "9b590d731e3e486b9904849930214ff7",
       "version_major": 2,
       "version_minor": 0
      },
      "text/plain": [
       "Validation: |          | 0/? [00:00<?, ?it/s]"
      ]
     },
     "metadata": {},
     "output_type": "display_data"
    },
    {
     "name": "stdout",
     "output_type": "stream",
     "text": [
      "Epoch end: Validation, epoch number: 21\n",
      "ValidationEpoch/CM\n",
      " tensor([[38664,  1004,  2611,  6833,   348,   405,    19,     0,  3770],\n",
      "        [   53, 68660,    54,     0,     0,    95,   136,     0,     0],\n",
      "        [   98,  1700, 61067,  1200,   672,   551,   732,     0,   885],\n",
      "        [ 3726,  1021,  3303, 39508,  3084,   389,   660,     0,  4073],\n",
      "        [   97,  1084,  1147,   397, 50900,   411,     0,     0,  3083],\n",
      "        [    0,  1788,  6798,     0,     0, 50714,     0,    35,     0],\n",
      "        [ 1142,  1294, 31428,  9939,  4165,  1368,  4689,     0,  1741],\n",
      "        [    0,   916,    34,     0,    65,    30,   107, 54483,     0],\n",
      "        [    0,   551,     8,   173,     0,     6,     0,     0, 68256]])\n",
      "Epoch end: Train, epoch number: 20\n",
      "TrainEpoch/CM\n",
      " tensor([[38664,  1004,  2611,  6833,   348,   405,    19,     0,  3770],\n",
      "        [   53, 68660,    54,     0,     0,    95,   136,     0,     0],\n",
      "        [   98,  1700, 61067,  1200,   672,   551,   732,     0,   885],\n",
      "        [ 3726,  1021,  3303, 39508,  3084,   389,   660,     0,  4073],\n",
      "        [   97,  1084,  1147,   397, 50900,   411,     0,     0,  3083],\n",
      "        [    0,  1788,  6798,     0,     0, 50714,     0,    35,     0],\n",
      "        [ 1142,  1294, 31428,  9939,  4165,  1368,  4689,     0,  1741],\n",
      "        [    0,   916,    34,     0,    65,    30,   107, 54483,     0],\n",
      "        [    0,   551,     8,   173,     0,     6,     0,     0, 68256]])\n"
     ]
    },
    {
     "data": {
      "application/vnd.jupyter.widget-view+json": {
       "model_id": "7a65ff69321b43f8bf275b81b20526ba",
       "version_major": 2,
       "version_minor": 0
      },
      "text/plain": [
       "Validation: |          | 0/? [00:00<?, ?it/s]"
      ]
     },
     "metadata": {},
     "output_type": "display_data"
    },
    {
     "name": "stdout",
     "output_type": "stream",
     "text": [
      "Epoch end: Validation, epoch number: 22\n",
      "ValidationEpoch/CM\n",
      " tensor([[41080,  1004,  2611,  6962,   348,   410,    19,     0,  3770],\n",
      "        [   53, 71935,    54,     0,     0,   100,   136,     0,     0],\n",
      "        [  109,  1700, 63973,  1289,   696,   572,   861,     0,   885],\n",
      "        [ 3999,  1021,  3312, 41695,  3186,   394,   734,     0,  4073],\n",
      "        [  102,  1084,  1161,   424, 53564,   416,     0,     0,  3083],\n",
      "        [    0,  1788,  6924,     0,     0, 53408,     0,    35,     0],\n",
      "        [ 1239,  1294, 32550, 10518,  4331,  1436,  5307,     0,  1741],\n",
      "        [    0,   916,    34,     0,    65,    30,   107, 57128,     0],\n",
      "        [    0,   551,     8,   182,     0,     6,     1,     0, 71526]])\n",
      "Epoch end: Train, epoch number: 21\n",
      "TrainEpoch/CM\n",
      " tensor([[41080,  1004,  2611,  6962,   348,   410,    19,     0,  3770],\n",
      "        [   53, 71935,    54,     0,     0,   100,   136,     0,     0],\n",
      "        [  109,  1700, 63973,  1289,   696,   572,   861,     0,   885],\n",
      "        [ 3999,  1021,  3312, 41695,  3186,   394,   734,     0,  4073],\n",
      "        [  102,  1084,  1161,   424, 53564,   416,     0,     0,  3083],\n",
      "        [    0,  1788,  6924,     0,     0, 53408,     0,    35,     0],\n",
      "        [ 1239,  1294, 32550, 10518,  4331,  1436,  5307,     0,  1741],\n",
      "        [    0,   916,    34,     0,    65,    30,   107, 57128,     0],\n",
      "        [    0,   551,     8,   182,     0,     6,     1,     0, 71526]])\n"
     ]
    },
    {
     "data": {
      "application/vnd.jupyter.widget-view+json": {
       "model_id": "faffbf615c244bb48085763e85791eb4",
       "version_major": 2,
       "version_minor": 0
      },
      "text/plain": [
       "Validation: |          | 0/? [00:00<?, ?it/s]"
      ]
     },
     "metadata": {},
     "output_type": "display_data"
    },
    {
     "name": "stdout",
     "output_type": "stream",
     "text": [
      "Epoch end: Validation, epoch number: 23\n",
      "ValidationEpoch/CM\n",
      " tensor([[43512,  1004,  2611,  7075,   348,   415,    19,     0,  3770],\n",
      "        [   53, 75210,    54,     0,     0,   105,   136,     0,     0],\n",
      "        [  121,  1700, 66898,  1370,   723,   588,   980,     0,   885],\n",
      "        [ 4292,  1021,  3322, 43873,  3279,   399,   805,     0,  4073],\n",
      "        [  107,  1084,  1172,   451, 56231,   421,     0,     0,  3083],\n",
      "        [    0,  1788,  7060,     0,     0, 56092,     0,    35,     0],\n",
      "        [ 1354,  1294, 33711, 11067,  4503,  1501,  5895,     0,  1741],\n",
      "        [    0,   916,    34,     0,    65,    30,   107, 59773,     0],\n",
      "        [    0,   551,     8,   192,     0,     6,     1,     0, 74796]])\n",
      "Epoch end: Train, epoch number: 22\n"
     ]
    },
    {
     "name": "stderr",
     "output_type": "stream",
     "text": [
      "Metric Validation/Accuracy improved by 0.007 >= min_delta = 0.0. New best score: 0.880\n"
     ]
    },
    {
     "name": "stdout",
     "output_type": "stream",
     "text": [
      "TrainEpoch/CM\n",
      " tensor([[43512,  1004,  2611,  7075,   348,   415,    19,     0,  3770],\n",
      "        [   53, 75210,    54,     0,     0,   105,   136,     0,     0],\n",
      "        [  121,  1700, 66898,  1370,   723,   588,   980,     0,   885],\n",
      "        [ 4292,  1021,  3322, 43873,  3279,   399,   805,     0,  4073],\n",
      "        [  107,  1084,  1172,   451, 56231,   421,     0,     0,  3083],\n",
      "        [    0,  1788,  7060,     0,     0, 56092,     0,    35,     0],\n",
      "        [ 1354,  1294, 33711, 11067,  4503,  1501,  5895,     0,  1741],\n",
      "        [    0,   916,    34,     0,    65,    30,   107, 59773,     0],\n",
      "        [    0,   551,     8,   192,     0,     6,     1,     0, 74796]])\n"
     ]
    },
    {
     "data": {
      "application/vnd.jupyter.widget-view+json": {
       "model_id": "72b7a8d3175c4182b4e01cfa1f80ee77",
       "version_major": 2,
       "version_minor": 0
      },
      "text/plain": [
       "Validation: |          | 0/? [00:00<?, ?it/s]"
      ]
     },
     "metadata": {},
     "output_type": "display_data"
    },
    {
     "name": "stdout",
     "output_type": "stream",
     "text": [
      "Epoch end: Validation, epoch number: 24\n",
      "ValidationEpoch/CM\n",
      " tensor([[45956,  1004,  2611,  7176,   348,   420,    19,     0,  3770],\n",
      "        [   53, 78485,    54,     0,     0,   110,   136,     0,     0],\n",
      "        [  130,  1700, 69785,  1454,   747,   600,  1144,     0,   885],\n",
      "        [ 4598,  1021,  3332, 46021,  3371,   404,   894,     0,  4073],\n",
      "        [  112,  1084,  1186,   473, 58900,   426,     0,     0,  3083],\n",
      "        [    0,  1788,  7168,     0,     0, 58804,     0,    35,     0],\n",
      "        [ 1465,  1294, 34781, 11581,  4663,  1566,  6625,     0,  1741],\n",
      "        [    0,   916,    34,     0,    65,    30,   107, 62418,     0],\n",
      "        [    0,   551,     8,   198,     0,     6,     5,     0, 78066]])\n",
      "Epoch end: Train, epoch number: 23\n",
      "TrainEpoch/CM\n",
      " tensor([[45956,  1004,  2611,  7176,   348,   420,    19,     0,  3770],\n",
      "        [   53, 78485,    54,     0,     0,   110,   136,     0,     0],\n",
      "        [  130,  1700, 69785,  1454,   747,   600,  1144,     0,   885],\n",
      "        [ 4598,  1021,  3332, 46021,  3371,   404,   894,     0,  4073],\n",
      "        [  112,  1084,  1186,   473, 58900,   426,     0,     0,  3083],\n",
      "        [    0,  1788,  7168,     0,     0, 58804,     0,    35,     0],\n",
      "        [ 1465,  1294, 34781, 11581,  4663,  1566,  6625,     0,  1741],\n",
      "        [    0,   916,    34,     0,    65,    30,   107, 62418,     0],\n",
      "        [    0,   551,     8,   198,     0,     6,     5,     0, 78066]])\n"
     ]
    },
    {
     "data": {
      "application/vnd.jupyter.widget-view+json": {
       "model_id": "e088d820bc664922b55dba1e143e7bb4",
       "version_major": 2,
       "version_minor": 0
      },
      "text/plain": [
       "Validation: |          | 0/? [00:00<?, ?it/s]"
      ]
     },
     "metadata": {},
     "output_type": "display_data"
    },
    {
     "name": "stdout",
     "output_type": "stream",
     "text": [
      "Epoch end: Validation, epoch number: 25\n",
      "ValidationEpoch/CM\n",
      " tensor([[48378,  1004,  2611,  7299,   348,   425,    19,     0,  3770],\n",
      "        [   53, 81760,    54,     0,     0,   115,   136,     0,     0],\n",
      "        [  142,  1700, 72691,  1541,   771,   612,  1283,     0,   885],\n",
      "        [ 4866,  1021,  3340, 48240,  3457,   406,   961,     0,  4073],\n",
      "        [  117,  1084,  1198,   504, 61562,   431,     0,     0,  3083],\n",
      "        [    0,  1788,  7278,     0,     0, 61514,     0,    35,     0],\n",
      "        [ 1554,  1294, 35894, 12167,  4816,  1631,  7269,     0,  1741],\n",
      "        [    0,   916,    34,     0,    65,    30,   107, 65063,     0],\n",
      "        [    0,   551,     8,   208,     0,     6,     5,     0, 81336]])\n",
      "Epoch end: Train, epoch number: 24\n",
      "TrainEpoch/CM\n",
      " tensor([[48378,  1004,  2611,  7299,   348,   425,    19,     0,  3770],\n",
      "        [   53, 81760,    54,     0,     0,   115,   136,     0,     0],\n",
      "        [  142,  1700, 72691,  1541,   771,   612,  1283,     0,   885],\n",
      "        [ 4866,  1021,  3340, 48240,  3457,   406,   961,     0,  4073],\n",
      "        [  117,  1084,  1198,   504, 61562,   431,     0,     0,  3083],\n",
      "        [    0,  1788,  7278,     0,     0, 61514,     0,    35,     0],\n",
      "        [ 1554,  1294, 35894, 12167,  4816,  1631,  7269,     0,  1741],\n",
      "        [    0,   916,    34,     0,    65,    30,   107, 65063,     0],\n",
      "        [    0,   551,     8,   208,     0,     6,     5,     0, 81336]])\n"
     ]
    },
    {
     "data": {
      "application/vnd.jupyter.widget-view+json": {
       "model_id": "8ac428cc468644a98a496c94e9aebd12",
       "version_major": 2,
       "version_minor": 0
      },
      "text/plain": [
       "Validation: |          | 0/? [00:00<?, ?it/s]"
      ]
     },
     "metadata": {},
     "output_type": "display_data"
    },
    {
     "name": "stdout",
     "output_type": "stream",
     "text": [
      "Epoch end: Validation, epoch number: 26\n",
      "ValidationEpoch/CM\n",
      " tensor([[50816,  1004,  2611,  7406,   348,   430,    19,     0,  3770],\n",
      "        [   53, 85035,    54,     0,     0,   120,   136,     0,     0],\n",
      "        [  151,  1700, 75578,  1625,   795,   624,  1447,     0,   885],\n",
      "        [ 5135,  1021,  3348, 50435,  3546,   406,  1050,     0,  4073],\n",
      "        [  122,  1084,  1213,   527, 64229,   436,     0,     0,  3083],\n",
      "        [    0,  1788,  7381,     0,     0, 64231,     0,    35,     0],\n",
      "        [ 1648,  1294, 36975, 12711,  4968,  1690,  7989,     0,  1741],\n",
      "        [    0,   916,    34,     0,    65,    30,   107, 67708,     0],\n",
      "        [    0,   551,     8,   216,     0,     6,     7,     0, 84606]])\n",
      "Epoch end: Train, epoch number: 25\n",
      "TrainEpoch/CM\n",
      " tensor([[50816,  1004,  2611,  7406,   348,   430,    19,     0,  3770],\n",
      "        [   53, 85035,    54,     0,     0,   120,   136,     0,     0],\n",
      "        [  151,  1700, 75578,  1625,   795,   624,  1447,     0,   885],\n",
      "        [ 5135,  1021,  3348, 50435,  3546,   406,  1050,     0,  4073],\n",
      "        [  122,  1084,  1213,   527, 64229,   436,     0,     0,  3083],\n",
      "        [    0,  1788,  7381,     0,     0, 64231,     0,    35,     0],\n",
      "        [ 1648,  1294, 36975, 12711,  4968,  1690,  7989,     0,  1741],\n",
      "        [    0,   916,    34,     0,    65,    30,   107, 67708,     0],\n",
      "        [    0,   551,     8,   216,     0,     6,     7,     0, 84606]])\n"
     ]
    },
    {
     "data": {
      "application/vnd.jupyter.widget-view+json": {
       "model_id": "8e5e688c54d84cc29f58e0a2d684142e",
       "version_major": 2,
       "version_minor": 0
      },
      "text/plain": [
       "Validation: |          | 0/? [00:00<?, ?it/s]"
      ]
     },
     "metadata": {},
     "output_type": "display_data"
    },
    {
     "name": "stdout",
     "output_type": "stream",
     "text": [
      "Epoch end: Validation, epoch number: 27\n",
      "ValidationEpoch/CM\n",
      " tensor([[53258,  1004,  2611,  7511,   348,   432,    20,     0,  3770],\n",
      "        [   53, 88310,    54,     0,     0,   125,   136,     0,     0],\n",
      "        [  162,  1700, 78465,  1709,   819,   636,  1609,     0,   885],\n",
      "        [ 5415,  1021,  3356, 52617,  3632,   406,  1144,     0,  4073],\n",
      "        [  127,  1084,  1228,   552, 66894,   441,     0,     0,  3083],\n",
      "        [    0,  1788,  7479,     0,     0, 66953,     0,    35,     0],\n",
      "        [ 1746,  1294, 38028, 13228,  5117,  1740,  8772,     0,  1741],\n",
      "        [    0,   916,    34,     0,    65,    30,   107, 70353,     0],\n",
      "        [    0,   551,     8,   224,     0,     6,     9,     0, 87876]])\n",
      "Epoch end: Train, epoch number: 26\n"
     ]
    },
    {
     "name": "stderr",
     "output_type": "stream",
     "text": [
      "Metric Validation/Accuracy improved by 0.001 >= min_delta = 0.0. New best score: 0.882\n"
     ]
    },
    {
     "name": "stdout",
     "output_type": "stream",
     "text": [
      "TrainEpoch/CM\n",
      " tensor([[53258,  1004,  2611,  7511,   348,   432,    20,     0,  3770],\n",
      "        [   53, 88310,    54,     0,     0,   125,   136,     0,     0],\n",
      "        [  162,  1700, 78465,  1709,   819,   636,  1609,     0,   885],\n",
      "        [ 5415,  1021,  3356, 52617,  3632,   406,  1144,     0,  4073],\n",
      "        [  127,  1084,  1228,   552, 66894,   441,     0,     0,  3083],\n",
      "        [    0,  1788,  7479,     0,     0, 66953,     0,    35,     0],\n",
      "        [ 1746,  1294, 38028, 13228,  5117,  1740,  8772,     0,  1741],\n",
      "        [    0,   916,    34,     0,    65,    30,   107, 70353,     0],\n",
      "        [    0,   551,     8,   224,     0,     6,     9,     0, 87876]])\n"
     ]
    },
    {
     "data": {
      "application/vnd.jupyter.widget-view+json": {
       "model_id": "d6799b14df1b42d1a3b943b352eebdf9",
       "version_major": 2,
       "version_minor": 0
      },
      "text/plain": [
       "Validation: |          | 0/? [00:00<?, ?it/s]"
      ]
     },
     "metadata": {},
     "output_type": "display_data"
    },
    {
     "name": "stdout",
     "output_type": "stream",
     "text": [
      "Epoch end: Validation, epoch number: 28\n",
      "ValidationEpoch/CM\n",
      " tensor([[55700,  1004,  2611,  7619,   348,   432,    20,     0,  3770],\n",
      "        [   53, 91585,    54,     0,     0,   130,   136,     0,     0],\n",
      "        [  172,  1700, 81351,  1793,   843,   649,  1772,     0,   885],\n",
      "        [ 5656,  1021,  3363, 54839,  3714,   406,  1242,     0,  4073],\n",
      "        [  132,  1084,  1244,   583, 69552,   446,     0,     0,  3083],\n",
      "        [    0,  1788,  7570,     0,     0, 69682,     0,    35,     0],\n",
      "        [ 1832,  1294, 39091, 13785,  5263,  1786,  9524,     0,  1741],\n",
      "        [    0,   916,    34,     0,    65,    30,   107, 72998,     0],\n",
      "        [    0,   551,     8,   229,     0,     6,    14,     0, 91146]])\n",
      "Epoch end: Train, epoch number: 27\n",
      "TrainEpoch/CM\n",
      " tensor([[55700,  1004,  2611,  7619,   348,   432,    20,     0,  3770],\n",
      "        [   53, 91585,    54,     0,     0,   130,   136,     0,     0],\n",
      "        [  172,  1700, 81351,  1793,   843,   649,  1772,     0,   885],\n",
      "        [ 5656,  1021,  3363, 54839,  3714,   406,  1242,     0,  4073],\n",
      "        [  132,  1084,  1244,   583, 69552,   446,     0,     0,  3083],\n",
      "        [    0,  1788,  7570,     0,     0, 69682,     0,    35,     0],\n",
      "        [ 1832,  1294, 39091, 13785,  5263,  1786,  9524,     0,  1741],\n",
      "        [    0,   916,    34,     0,    65,    30,   107, 72998,     0],\n",
      "        [    0,   551,     8,   229,     0,     6,    14,     0, 91146]])\n"
     ]
    },
    {
     "data": {
      "application/vnd.jupyter.widget-view+json": {
       "model_id": "5c67f8cf969b4a0686cf15cc7572f15f",
       "version_major": 2,
       "version_minor": 0
      },
      "text/plain": [
       "Validation: |          | 0/? [00:00<?, ?it/s]"
      ]
     },
     "metadata": {},
     "output_type": "display_data"
    },
    {
     "name": "stdout",
     "output_type": "stream",
     "text": [
      "Epoch end: Validation, epoch number: 29\n",
      "ValidationEpoch/CM\n",
      " tensor([[58149,  1004,  2611,  7720,   348,   432,    20,     0,  3770],\n",
      "        [   53, 94860,    54,     0,     0,   135,   136,     0,     0],\n",
      "        [  184,  1700, 84240,  1877,   867,   663,  1929,     0,   885],\n",
      "        [ 5908,  1021,  3371, 57054,  3789,   406,  1342,     0,  4073],\n",
      "        [  137,  1084,  1259,   608, 72217,   451,     0,     0,  3083],\n",
      "        [    0,  1788,  7648,     0,     0, 72424,     0,    35,     0],\n",
      "        [ 1928,  1294, 40137, 14312,  5408,  1831, 10315,     0,  1741],\n",
      "        [    0,   916,    34,     0,    65,    30,   107, 75643,     0],\n",
      "        [    0,   551,     8,   235,     0,     6,    18,     0, 94416]])\n",
      "Epoch end: Train, epoch number: 28\n",
      "TrainEpoch/CM\n",
      " tensor([[58149,  1004,  2611,  7720,   348,   432,    20,     0,  3770],\n",
      "        [   53, 94860,    54,     0,     0,   135,   136,     0,     0],\n",
      "        [  184,  1700, 84240,  1877,   867,   663,  1929,     0,   885],\n",
      "        [ 5908,  1021,  3371, 57054,  3789,   406,  1342,     0,  4073],\n",
      "        [  137,  1084,  1259,   608, 72217,   451,     0,     0,  3083],\n",
      "        [    0,  1788,  7648,     0,     0, 72424,     0,    35,     0],\n",
      "        [ 1928,  1294, 40137, 14312,  5408,  1831, 10315,     0,  1741],\n",
      "        [    0,   916,    34,     0,    65,    30,   107, 75643,     0],\n",
      "        [    0,   551,     8,   235,     0,     6,    18,     0, 94416]])\n"
     ]
    },
    {
     "name": "stderr",
     "output_type": "stream",
     "text": [
      "Metric Validation/Accuracy improved by 0.002 >= min_delta = 0.0. New best score: 0.884\n"
     ]
    },
    {
     "data": {
      "application/vnd.jupyter.widget-view+json": {
       "model_id": "b2855e02069f4060af1e82a76ae16dff",
       "version_major": 2,
       "version_minor": 0
      },
      "text/plain": [
       "Validation: |          | 0/? [00:00<?, ?it/s]"
      ]
     },
     "metadata": {},
     "output_type": "display_data"
    },
    {
     "name": "stdout",
     "output_type": "stream",
     "text": [
      "Epoch end: Validation, epoch number: 30\n",
      "ValidationEpoch/CM\n",
      " tensor([[60608,  1004,  2611,  7811,   348,   432,    20,     0,  3770],\n",
      "        [   53, 98135,    54,     0,     0,   140,   136,     0,     0],\n",
      "        [  193,  1700, 87126,  1961,   887,   675,  2098,     0,   885],\n",
      "        [ 6158,  1021,  3381, 59249,  3862,   406,  1464,     0,  4073],\n",
      "        [  142,  1084,  1274,   632, 74883,   456,     0,     0,  3083],\n",
      "        [    0,  1788,  7736,     0,     0, 75155,     1,    35,     0],\n",
      "        [ 2024,  1294, 41167, 14813,  5546,  1871, 11160,     0,  1741],\n",
      "        [    0,   916,    34,     0,    65,    30,   107, 78288,     0],\n",
      "        [    0,   551,     8,   240,     0,     6,    23,     0, 97686]])\n",
      "Epoch end: Train, epoch number: 29\n",
      "TrainEpoch/CM\n",
      " tensor([[60608,  1004,  2611,  7811,   348,   432,    20,     0,  3770],\n",
      "        [   53, 98135,    54,     0,     0,   140,   136,     0,     0],\n",
      "        [  193,  1700, 87126,  1961,   887,   675,  2098,     0,   885],\n",
      "        [ 6158,  1021,  3381, 59249,  3862,   406,  1464,     0,  4073],\n",
      "        [  142,  1084,  1274,   632, 74883,   456,     0,     0,  3083],\n",
      "        [    0,  1788,  7736,     0,     0, 75155,     1,    35,     0],\n",
      "        [ 2024,  1294, 41167, 14813,  5546,  1871, 11160,     0,  1741],\n",
      "        [    0,   916,    34,     0,    65,    30,   107, 78288,     0],\n",
      "        [    0,   551,     8,   240,     0,     6,    23,     0, 97686]])\n"
     ]
    },
    {
     "name": "stderr",
     "output_type": "stream",
     "text": [
      "Metric Validation/Accuracy improved by 0.002 >= min_delta = 0.0. New best score: 0.886\n"
     ]
    },
    {
     "data": {
      "application/vnd.jupyter.widget-view+json": {
       "model_id": "d2080d391d014198be755fcf1053075f",
       "version_major": 2,
       "version_minor": 0
      },
      "text/plain": [
       "Validation: |          | 0/? [00:00<?, ?it/s]"
      ]
     },
     "metadata": {},
     "output_type": "display_data"
    },
    {
     "name": "stdout",
     "output_type": "stream",
     "text": [
      "Epoch end: Validation, epoch number: 31\n",
      "ValidationEpoch/CM\n",
      " tensor([[ 63055,   1004,   2611,   7914,    348,    432,     20,      0,   3770],\n",
      "        [    53, 101410,     54,      0,      0,    145,    136,      0,      0],\n",
      "        [   195,   1700,  89975,   2045,    910,    692,   2303,      0,    885],\n",
      "        [  6368,   1021,   3388,  61478,   3933,    406,   1597,      0,   4073],\n",
      "        [   147,   1084,   1289,    662,  77543,    461,      0,      0,   3083],\n",
      "        [     0,   1788,   7807,      0,      0,  77900,      5,     35,      0],\n",
      "        [  2099,   1294,  42163,  15327,   5673,   1908,  12061,      0,   1741],\n",
      "        [     0,    916,     34,      0,     65,     30,    107,  80933,      0],\n",
      "        [     0,    551,      8,    245,      0,      6,     28,      0, 100956]])\n",
      "Epoch end: Train, epoch number: 30\n",
      "TrainEpoch/CM\n",
      " tensor([[ 63055,   1004,   2611,   7914,    348,    432,     20,      0,   3770],\n",
      "        [    53, 101410,     54,      0,      0,    145,    136,      0,      0],\n",
      "        [   195,   1700,  89975,   2045,    910,    692,   2303,      0,    885],\n",
      "        [  6368,   1021,   3388,  61478,   3933,    406,   1597,      0,   4073],\n",
      "        [   147,   1084,   1289,    662,  77543,    461,      0,      0,   3083],\n",
      "        [     0,   1788,   7807,      0,      0,  77900,      5,     35,      0],\n",
      "        [  2099,   1294,  42163,  15327,   5673,   1908,  12061,      0,   1741],\n",
      "        [     0,    916,     34,      0,     65,     30,    107,  80933,      0],\n",
      "        [     0,    551,      8,    245,      0,      6,     28,      0, 100956]])\n"
     ]
    },
    {
     "data": {
      "application/vnd.jupyter.widget-view+json": {
       "model_id": "4648142be382415b81acc8bf951c3b5a",
       "version_major": 2,
       "version_minor": 0
      },
      "text/plain": [
       "Validation: |          | 0/? [00:00<?, ?it/s]"
      ]
     },
     "metadata": {},
     "output_type": "display_data"
    },
    {
     "name": "stdout",
     "output_type": "stream",
     "text": [
      "Epoch end: Validation, epoch number: 32\n",
      "ValidationEpoch/CM\n",
      " tensor([[ 65527,   1004,   2611,   7992,    348,    432,     20,      0,   3770],\n",
      "        [    53, 104685,     54,      0,      0,    150,    136,      0,      0],\n",
      "        [   205,   1700,  92853,   2128,    928,    710,   2476,      0,    885],\n",
      "        [  6640,   1021,   3396,  63669,   4005,    406,   1704,      0,   4073],\n",
      "        [   152,   1084,   1304,    686,  80209,    466,      0,      0,   3083],\n",
      "        [     0,   1788,   7880,      0,      0,  80643,      9,     35,      0],\n",
      "        [  2204,   1294,  43174,  15828,   5800,   1943,  12932,      0,   1741],\n",
      "        [     0,    916,     34,      0,     65,     30,    107,  83578,      0],\n",
      "        [     0,    551,      8,    249,      0,      6,     32,      0, 104228]])\n",
      "Epoch end: Train, epoch number: 31\n",
      "TrainEpoch/CM\n",
      " tensor([[ 65527,   1004,   2611,   7992,    348,    432,     20,      0,   3770],\n",
      "        [    53, 104685,     54,      0,      0,    150,    136,      0,      0],\n",
      "        [   205,   1700,  92853,   2128,    928,    710,   2476,      0,    885],\n",
      "        [  6640,   1021,   3396,  63669,   4005,    406,   1704,      0,   4073],\n",
      "        [   152,   1084,   1304,    686,  80209,    466,      0,      0,   3083],\n",
      "        [     0,   1788,   7880,      0,      0,  80643,      9,     35,      0],\n",
      "        [  2204,   1294,  43174,  15828,   5800,   1943,  12932,      0,   1741],\n",
      "        [     0,    916,     34,      0,     65,     30,    107,  83578,      0],\n",
      "        [     0,    551,      8,    249,      0,      6,     32,      0, 104228]])\n"
     ]
    },
    {
     "name": "stderr",
     "output_type": "stream",
     "text": [
      "Metric Validation/Accuracy improved by 0.001 >= min_delta = 0.0. New best score: 0.887\n"
     ]
    },
    {
     "data": {
      "application/vnd.jupyter.widget-view+json": {
       "model_id": "05401c993a904e67adafc72fa817a3a1",
       "version_major": 2,
       "version_minor": 0
      },
      "text/plain": [
       "Validation: |          | 0/? [00:00<?, ?it/s]"
      ]
     },
     "metadata": {},
     "output_type": "display_data"
    },
    {
     "name": "stdout",
     "output_type": "stream",
     "text": [
      "Epoch end: Validation, epoch number: 33\n",
      "ValidationEpoch/CM\n",
      " tensor([[ 67987,   1004,   2611,   8080,    348,    432,     22,      0,   3770],\n",
      "        [    53, 107960,     54,      0,      0,    155,    136,      0,      0],\n",
      "        [   207,   1700,  95711,   2205,    946,    729,   2682,      0,    885],\n",
      "        [  6866,   1021,   3406,  65868,   4081,    406,   1843,      0,   4073],\n",
      "        [   157,   1084,   1319,    713,  82872,    471,      0,      0,   3083],\n",
      "        [     0,   1788,   7942,      0,      0,  83398,     12,     35,      0],\n",
      "        [  2273,   1294,  44143,  16333,   5922,   1978,  13882,      0,   1741],\n",
      "        [     0,    916,     34,      0,     65,     30,    107,  86223,      0],\n",
      "        [     0,    551,      8,    252,      0,      6,     35,      0, 107502]])\n",
      "Epoch end: Train, epoch number: 32\n",
      "TrainEpoch/CM\n",
      " tensor([[ 67987,   1004,   2611,   8080,    348,    432,     22,      0,   3770],\n",
      "        [    53, 107960,     54,      0,      0,    155,    136,      0,      0],\n",
      "        [   207,   1700,  95711,   2205,    946,    729,   2682,      0,    885],\n",
      "        [  6866,   1021,   3406,  65868,   4081,    406,   1843,      0,   4073],\n",
      "        [   157,   1084,   1319,    713,  82872,    471,      0,      0,   3083],\n",
      "        [     0,   1788,   7942,      0,      0,  83398,     12,     35,      0],\n",
      "        [  2273,   1294,  44143,  16333,   5922,   1978,  13882,      0,   1741],\n",
      "        [     0,    916,     34,      0,     65,     30,    107,  86223,      0],\n",
      "        [     0,    551,      8,    252,      0,      6,     35,      0, 107502]])\n"
     ]
    },
    {
     "name": "stderr",
     "output_type": "stream",
     "text": [
      "Metric Validation/Accuracy improved by 0.002 >= min_delta = 0.0. New best score: 0.889\n"
     ]
    },
    {
     "data": {
      "application/vnd.jupyter.widget-view+json": {
       "model_id": "21e4962068ef4a13b95acfde725806f1",
       "version_major": 2,
       "version_minor": 0
      },
      "text/plain": [
       "Validation: |          | 0/? [00:00<?, ?it/s]"
      ]
     },
     "metadata": {},
     "output_type": "display_data"
    },
    {
     "name": "stdout",
     "output_type": "stream",
     "text": [
      "Epoch end: Validation, epoch number: 34\n",
      "ValidationEpoch/CM\n",
      " tensor([[ 70440,   1004,   2611,   8177,    348,    432,     22,      0,   3770],\n",
      "        [    53, 111235,     54,      0,      0,    160,    136,      0,      0],\n",
      "        [   209,   1700,  98569,   2285,    964,    745,   2888,      0,    885],\n",
      "        [  7070,   1021,   3414,  68090,   4150,    406,   1990,      0,   4073],\n",
      "        [   162,   1084,   1335,    742,  85532,    476,      0,      0,   3083],\n",
      "        [     0,   1788,   7998,      0,      0,  86159,     15,     35,      0],\n",
      "        [  2347,   1294,  45109,  16845,   6036,   2013,  14831,      0,   1741],\n",
      "        [     0,    916,     34,      0,     65,     30,    107,  88868,      0],\n",
      "        [     0,    551,      8,    255,      0,      6,     39,      0, 110775]])\n",
      "Epoch end: Train, epoch number: 33\n"
     ]
    },
    {
     "name": "stderr",
     "output_type": "stream",
     "text": [
      "Metric Validation/Accuracy improved by 0.007 >= min_delta = 0.0. New best score: 0.896\n"
     ]
    },
    {
     "name": "stdout",
     "output_type": "stream",
     "text": [
      "TrainEpoch/CM\n",
      " tensor([[ 70440,   1004,   2611,   8177,    348,    432,     22,      0,   3770],\n",
      "        [    53, 111235,     54,      0,      0,    160,    136,      0,      0],\n",
      "        [   209,   1700,  98569,   2285,    964,    745,   2888,      0,    885],\n",
      "        [  7070,   1021,   3414,  68090,   4150,    406,   1990,      0,   4073],\n",
      "        [   162,   1084,   1335,    742,  85532,    476,      0,      0,   3083],\n",
      "        [     0,   1788,   7998,      0,      0,  86159,     15,     35,      0],\n",
      "        [  2347,   1294,  45109,  16845,   6036,   2013,  14831,      0,   1741],\n",
      "        [     0,    916,     34,      0,     65,     30,    107,  88868,      0],\n",
      "        [     0,    551,      8,    255,      0,      6,     39,      0, 110775]])\n"
     ]
    },
    {
     "data": {
      "application/vnd.jupyter.widget-view+json": {
       "model_id": "d7dc090866534407b2cabd4f2f5a9cda",
       "version_major": 2,
       "version_minor": 0
      },
      "text/plain": [
       "Validation: |          | 0/? [00:00<?, ?it/s]"
      ]
     },
     "metadata": {},
     "output_type": "display_data"
    },
    {
     "name": "stdout",
     "output_type": "stream",
     "text": [
      "Epoch end: Validation, epoch number: 35\n",
      "ValidationEpoch/CM\n",
      " tensor([[ 72889,   1004,   2611,   8275,    348,    432,     25,      0,   3770],\n",
      "        [    53, 114510,     54,      0,      0,    165,    136,      0,      0],\n",
      "        [   214,   1700, 101417,   2365,    976,    757,   3111,      0,    885],\n",
      "        [  7282,   1021,   3422,  70306,   4216,    406,   2138,      0,   4073],\n",
      "        [   167,   1084,   1350,    770,  88194,    481,      0,      0,   3083],\n",
      "        [     0,   1788,   8062,      0,      0,  88910,     20,     35,      0],\n",
      "        [  2417,   1294,  46057,  17339,   6143,   2048,  15827,      0,   1741],\n",
      "        [     0,    916,     34,      0,     65,     30,    107,  91513,      0],\n",
      "        [     0,    551,      8,    259,      0,      6,     40,      0, 114050]])\n",
      "Epoch end: Train, epoch number: 34\n",
      "TrainEpoch/CM\n",
      " tensor([[ 72889,   1004,   2611,   8275,    348,    432,     25,      0,   3770],\n",
      "        [    53, 114510,     54,      0,      0,    165,    136,      0,      0],\n",
      "        [   214,   1700, 101417,   2365,    976,    757,   3111,      0,    885],\n",
      "        [  7282,   1021,   3422,  70306,   4216,    406,   2138,      0,   4073],\n",
      "        [   167,   1084,   1350,    770,  88194,    481,      0,      0,   3083],\n",
      "        [     0,   1788,   8062,      0,      0,  88910,     20,     35,      0],\n",
      "        [  2417,   1294,  46057,  17339,   6143,   2048,  15827,      0,   1741],\n",
      "        [     0,    916,     34,      0,     65,     30,    107,  91513,      0],\n",
      "        [     0,    551,      8,    259,      0,      6,     40,      0, 114050]])\n"
     ]
    },
    {
     "data": {
      "application/vnd.jupyter.widget-view+json": {
       "model_id": "acb4febd7fbc4db19568cffa64da0879",
       "version_major": 2,
       "version_minor": 0
      },
      "text/plain": [
       "Validation: |          | 0/? [00:00<?, ?it/s]"
      ]
     },
     "metadata": {},
     "output_type": "display_data"
    },
    {
     "name": "stdout",
     "output_type": "stream",
     "text": [
      "Epoch end: Validation, epoch number: 36\n",
      "ValidationEpoch/CM\n",
      " tensor([[ 75355,   1004,   2611,   8359,    348,    432,     25,      0,   3770],\n",
      "        [    53, 117785,     54,      0,      0,    170,    136,      0,      0],\n",
      "        [   218,   1700, 104269,   2442,    988,    780,   3323,      0,    885],\n",
      "        [  7495,   1021,   3430,  72520,   4279,    406,   2290,      0,   4073],\n",
      "        [   172,   1084,   1365,    797,  90857,    486,      0,      0,   3083],\n",
      "        [     0,   1788,   8112,      0,      0,  91675,     25,     35,      0],\n",
      "        [  2494,   1294,  47003,  17827,   6252,   2083,  16822,      0,   1741],\n",
      "        [     0,    916,     34,      0,     65,     30,    107,  94158,      0],\n",
      "        [     0,    551,      8,    259,      0,      6,     45,      0, 117325]])\n",
      "Epoch end: Train, epoch number: 35\n",
      "TrainEpoch/CM\n",
      " tensor([[ 75355,   1004,   2611,   8359,    348,    432,     25,      0,   3770],\n",
      "        [    53, 117785,     54,      0,      0,    170,    136,      0,      0],\n",
      "        [   218,   1700, 104269,   2442,    988,    780,   3323,      0,    885],\n",
      "        [  7495,   1021,   3430,  72520,   4279,    406,   2290,      0,   4073],\n",
      "        [   172,   1084,   1365,    797,  90857,    486,      0,      0,   3083],\n",
      "        [     0,   1788,   8112,      0,      0,  91675,     25,     35,      0],\n",
      "        [  2494,   1294,  47003,  17827,   6252,   2083,  16822,      0,   1741],\n",
      "        [     0,    916,     34,      0,     65,     30,    107,  94158,      0],\n",
      "        [     0,    551,      8,    259,      0,      6,     45,      0, 117325]])\n"
     ]
    },
    {
     "data": {
      "application/vnd.jupyter.widget-view+json": {
       "model_id": "eb5423e2e26f4d49b79d7cf5596733af",
       "version_major": 2,
       "version_minor": 0
      },
      "text/plain": [
       "Validation: |          | 0/? [00:00<?, ?it/s]"
      ]
     },
     "metadata": {},
     "output_type": "display_data"
    },
    {
     "name": "stdout",
     "output_type": "stream",
     "text": [
      "Epoch end: Validation, epoch number: 37\n",
      "ValidationEpoch/CM\n",
      " tensor([[ 77812,   1004,   2611,   8447,    348,    432,     30,      0,   3770],\n",
      "        [    53, 121060,     54,      0,      0,    175,    136,      0,      0],\n",
      "        [   220,   1700, 107107,   2517,   1000,    797,   3559,      0,    885],\n",
      "        [  7702,   1021,   3439,  74732,   4339,    406,   2452,      0,   4073],\n",
      "        [   177,   1084,   1380,    825,  93519,    487,      0,      4,   3083],\n",
      "        [     0,   1788,   8168,      0,      0,  94434,     30,     35,      0],\n",
      "        [  2555,   1294,  47928,  18312,   6352,   2113,  17871,      0,   1741],\n",
      "        [     0,    916,     34,      0,     65,     30,    107,  96803,      0],\n",
      "        [     0,    551,      8,    259,      0,      6,     50,      0, 120600]])\n",
      "Epoch end: Train, epoch number: 36\n",
      "TrainEpoch/CM\n",
      " tensor([[ 77812,   1004,   2611,   8447,    348,    432,     30,      0,   3770],\n",
      "        [    53, 121060,     54,      0,      0,    175,    136,      0,      0],\n",
      "        [   220,   1700, 107107,   2517,   1000,    797,   3559,      0,    885],\n",
      "        [  7702,   1021,   3439,  74732,   4339,    406,   2452,      0,   4073],\n",
      "        [   177,   1084,   1380,    825,  93519,    487,      0,      4,   3083],\n",
      "        [     0,   1788,   8168,      0,      0,  94434,     30,     35,      0],\n",
      "        [  2555,   1294,  47928,  18312,   6352,   2113,  17871,      0,   1741],\n",
      "        [     0,    916,     34,      0,     65,     30,    107,  96803,      0],\n",
      "        [     0,    551,      8,    259,      0,      6,     50,      0, 120600]])\n"
     ]
    },
    {
     "data": {
      "application/vnd.jupyter.widget-view+json": {
       "model_id": "1fd19e81b30a4ad3a1db19336345dcd3",
       "version_major": 2,
       "version_minor": 0
      },
      "text/plain": [
       "Validation: |          | 0/? [00:00<?, ?it/s]"
      ]
     },
     "metadata": {},
     "output_type": "display_data"
    },
    {
     "name": "stdout",
     "output_type": "stream",
     "text": [
      "Epoch end: Validation, epoch number: 38\n",
      "ValidationEpoch/CM\n",
      " tensor([[ 80276,   1004,   2611,   8531,    348,    432,     32,      0,   3770],\n",
      "        [    53, 124335,     54,      0,      0,    180,    136,      0,      0],\n",
      "        [   227,   1700, 109965,   2588,   1012,    817,   3771,      0,    885],\n",
      "        [  7897,   1021,   3446,  76972,   4405,    406,   2594,      0,   4073],\n",
      "        [   182,   1084,   1395,    855,  96179,    491,      0,      5,   3083],\n",
      "        [     0,   1788,   8209,      0,      0,  97213,     30,     35,      0],\n",
      "        [  2628,   1294,  48873,  18810,   6456,   2147,  18867,      0,   1741],\n",
      "        [     0,    916,     34,      0,     65,     30,    107,  99448,      0],\n",
      "        [     0,    551,      8,    260,      0,      6,     54,      0, 123875]])\n",
      "Epoch end: Train, epoch number: 37\n",
      "TrainEpoch/CM\n",
      " tensor([[ 80276,   1004,   2611,   8531,    348,    432,     32,      0,   3770],\n",
      "        [    53, 124335,     54,      0,      0,    180,    136,      0,      0],\n",
      "        [   227,   1700, 109965,   2588,   1012,    817,   3771,      0,    885],\n",
      "        [  7897,   1021,   3446,  76972,   4405,    406,   2594,      0,   4073],\n",
      "        [   182,   1084,   1395,    855,  96179,    491,      0,      5,   3083],\n",
      "        [     0,   1788,   8209,      0,      0,  97213,     30,     35,      0],\n",
      "        [  2628,   1294,  48873,  18810,   6456,   2147,  18867,      0,   1741],\n",
      "        [     0,    916,     34,      0,     65,     30,    107,  99448,      0],\n",
      "        [     0,    551,      8,    260,      0,      6,     54,      0, 123875]])\n"
     ]
    },
    {
     "data": {
      "application/vnd.jupyter.widget-view+json": {
       "model_id": "475f17736b344e32acdeccbf9c4cc4fa",
       "version_major": 2,
       "version_minor": 0
      },
      "text/plain": [
       "Validation: |          | 0/? [00:00<?, ?it/s]"
      ]
     },
     "metadata": {},
     "output_type": "display_data"
    },
    {
     "name": "stdout",
     "output_type": "stream",
     "text": [
      "Epoch end: Validation, epoch number: 39\n",
      "ValidationEpoch/CM\n",
      " tensor([[ 82741,   1004,   2611,   8612,    348,    432,     36,      0,   3770],\n",
      "        [    53, 127610,     54,      0,      0,    185,    136,      0,      0],\n",
      "        [   230,   1700, 112807,   2653,   1024,    830,   4016,      0,    885],\n",
      "        [  8085,   1021,   3452,  79208,   4467,    406,   2752,      0,   4073],\n",
      "        [   187,   1084,   1410,    886,  98838,    492,      0,      9,   3083],\n",
      "        [     0,   1788,   8258,      0,      0,  99979,     35,     35,      0],\n",
      "        [  2689,   1294,  49779,  19282,   6557,   2177,  19947,      0,   1741],\n",
      "        [     0,    916,     34,      0,     65,     30,    107, 102093,      0],\n",
      "        [     0,    551,      8,    260,      0,      6,     59,      0, 127150]])\n"
     ]
    },
    {
     "name": "stderr",
     "output_type": "stream",
     "text": [
      "Metric Validation/Accuracy improved by 0.002 >= min_delta = 0.0. New best score: 0.898\n"
     ]
    },
    {
     "name": "stdout",
     "output_type": "stream",
     "text": [
      "Epoch end: Train, epoch number: 38\n",
      "TrainEpoch/CM\n",
      " tensor([[ 82741,   1004,   2611,   8612,    348,    432,     36,      0,   3770],\n",
      "        [    53, 127610,     54,      0,      0,    185,    136,      0,      0],\n",
      "        [   230,   1700, 112807,   2653,   1024,    830,   4016,      0,    885],\n",
      "        [  8085,   1021,   3452,  79208,   4467,    406,   2752,      0,   4073],\n",
      "        [   187,   1084,   1410,    886,  98838,    492,      0,      9,   3083],\n",
      "        [     0,   1788,   8258,      0,      0,  99979,     35,     35,      0],\n",
      "        [  2689,   1294,  49779,  19282,   6557,   2177,  19947,      0,   1741],\n",
      "        [     0,    916,     34,      0,     65,     30,    107, 102093,      0],\n",
      "        [     0,    551,      8,    260,      0,      6,     59,      0, 127150]])\n"
     ]
    },
    {
     "data": {
      "application/vnd.jupyter.widget-view+json": {
       "model_id": "90e35c96f7204963be7b9fa306ba1bba",
       "version_major": 2,
       "version_minor": 0
      },
      "text/plain": [
       "Validation: |          | 0/? [00:00<?, ?it/s]"
      ]
     },
     "metadata": {},
     "output_type": "display_data"
    },
    {
     "name": "stdout",
     "output_type": "stream",
     "text": [
      "Epoch end: Validation, epoch number: 40\n",
      "ValidationEpoch/CM\n",
      " tensor([[ 85212,   1004,   2611,   8687,    348,    432,     40,      0,   3770],\n",
      "        [    53, 130885,     54,      0,      0,    190,    136,      0,      0],\n",
      "        [   232,   1700, 115636,   2719,   1036,    844,   4273,      0,    885],\n",
      "        [  8270,   1021,   3461,  81442,   4522,    406,   2919,      0,   4073],\n",
      "        [   192,   1084,   1425,    915, 101499,    494,      0,     12,   3083],\n",
      "        [     0,   1788,   8301,      0,      0, 102751,     40,     35,      0],\n",
      "        [  2746,   1294,  50644,  19759,   6659,   2207,  21066,      0,   1741],\n",
      "        [     0,    916,     34,      0,     65,     30,    107, 104738,      0],\n",
      "        [     0,    551,      8,    260,      0,      6,     64,      0, 130425]])\n",
      "Epoch end: Train, epoch number: 39\n",
      "TrainEpoch/CM\n",
      " tensor([[ 85212,   1004,   2611,   8687,    348,    432,     40,      0,   3770],\n",
      "        [    53, 130885,     54,      0,      0,    190,    136,      0,      0],\n",
      "        [   232,   1700, 115636,   2719,   1036,    844,   4273,      0,    885],\n",
      "        [  8270,   1021,   3461,  81442,   4522,    406,   2919,      0,   4073],\n",
      "        [   192,   1084,   1425,    915, 101499,    494,      0,     12,   3083],\n",
      "        [     0,   1788,   8301,      0,      0, 102751,     40,     35,      0],\n",
      "        [  2746,   1294,  50644,  19759,   6659,   2207,  21066,      0,   1741],\n",
      "        [     0,    916,     34,      0,     65,     30,    107, 104738,      0],\n",
      "        [     0,    551,      8,    260,      0,      6,     64,      0, 130425]])\n"
     ]
    },
    {
     "data": {
      "application/vnd.jupyter.widget-view+json": {
       "model_id": "96fca28264fa46fc893fed4c640a52cc",
       "version_major": 2,
       "version_minor": 0
      },
      "text/plain": [
       "Validation: |          | 0/? [00:00<?, ?it/s]"
      ]
     },
     "metadata": {},
     "output_type": "display_data"
    },
    {
     "name": "stdout",
     "output_type": "stream",
     "text": [
      "Epoch end: Validation, epoch number: 41\n",
      "ValidationEpoch/CM\n",
      " tensor([[ 87670,   1004,   2611,   8774,    348,    432,     45,      0,   3770],\n",
      "        [    53, 134160,     54,      0,      0,    195,    136,      0,      0],\n",
      "        [   232,   1700, 118455,   2787,   1048,    859,   4539,      0,    885],\n",
      "        [  8434,   1021,   3468,  83696,   4577,    406,   3089,      0,   4073],\n",
      "        [   196,   1084,   1440,    946, 104159,    494,      0,     17,   3083],\n",
      "        [     0,   1788,   8334,      0,      0, 105533,     45,     35,      0],\n",
      "        [  2800,   1294,  51523,  20233,   6756,   2237,  22182,      0,   1741],\n",
      "        [     0,    916,     34,      0,     65,     30,    107, 107383,      0],\n",
      "        [     0,    551,      8,    260,      0,      6,     69,      0, 133700]])\n",
      "Epoch end: Train, epoch number: 40\n",
      "TrainEpoch/CM\n",
      " tensor([[ 87670,   1004,   2611,   8774,    348,    432,     45,      0,   3770],\n",
      "        [    53, 134160,     54,      0,      0,    195,    136,      0,      0],\n",
      "        [   232,   1700, 118455,   2787,   1048,    859,   4539,      0,    885],\n",
      "        [  8434,   1021,   3468,  83696,   4577,    406,   3089,      0,   4073],\n",
      "        [   196,   1084,   1440,    946, 104159,    494,      0,     17,   3083],\n",
      "        [     0,   1788,   8334,      0,      0, 105533,     45,     35,      0],\n",
      "        [  2800,   1294,  51523,  20233,   6756,   2237,  22182,      0,   1741],\n",
      "        [     0,    916,     34,      0,     65,     30,    107, 107383,      0],\n",
      "        [     0,    551,      8,    260,      0,      6,     69,      0, 133700]])\n"
     ]
    },
    {
     "data": {
      "application/vnd.jupyter.widget-view+json": {
       "model_id": "f5af4be38b184420a1773855a642c4a6",
       "version_major": 2,
       "version_minor": 0
      },
      "text/plain": [
       "Validation: |          | 0/? [00:00<?, ?it/s]"
      ]
     },
     "metadata": {},
     "output_type": "display_data"
    },
    {
     "name": "stdout",
     "output_type": "stream",
     "text": [
      "Epoch end: Validation, epoch number: 42\n",
      "ValidationEpoch/CM\n",
      " tensor([[ 90133,   1004,   2611,   8857,    348,    432,     49,      0,   3770],\n",
      "        [    53, 137435,     54,      0,      0,    200,    136,      0,      0],\n",
      "        [   232,   1700, 121284,   2851,   1060,    867,   4806,      0,    885],\n",
      "        [  8605,   1021,   3474,  85964,   4636,    406,   3235,      0,   4073],\n",
      "        [   201,   1084,   1455,    976, 106819,    494,      0,     22,   3083],\n",
      "        [     0,   1788,   8370,      0,      0, 108312,     50,     35,      0],\n",
      "        [  2850,   1294,  52410,  20720,   6856,   2267,  23278,      0,   1741],\n",
      "        [     0,    916,     34,      0,     65,     30,    107, 110028,      0],\n",
      "        [     0,    551,      8,    260,      0,      6,     74,      0, 136975]])\n"
     ]
    },
    {
     "name": "stderr",
     "output_type": "stream",
     "text": [
      "Metric Validation/Accuracy improved by 0.003 >= min_delta = 0.0. New best score: 0.901\n"
     ]
    },
    {
     "name": "stdout",
     "output_type": "stream",
     "text": [
      "Epoch end: Train, epoch number: 41\n",
      "TrainEpoch/CM\n",
      " tensor([[ 90133,   1004,   2611,   8857,    348,    432,     49,      0,   3770],\n",
      "        [    53, 137435,     54,      0,      0,    200,    136,      0,      0],\n",
      "        [   232,   1700, 121284,   2851,   1060,    867,   4806,      0,    885],\n",
      "        [  8605,   1021,   3474,  85964,   4636,    406,   3235,      0,   4073],\n",
      "        [   201,   1084,   1455,    976, 106819,    494,      0,     22,   3083],\n",
      "        [     0,   1788,   8370,      0,      0, 108312,     50,     35,      0],\n",
      "        [  2850,   1294,  52410,  20720,   6856,   2267,  23278,      0,   1741],\n",
      "        [     0,    916,     34,      0,     65,     30,    107, 110028,      0],\n",
      "        [     0,    551,      8,    260,      0,      6,     74,      0, 136975]])\n"
     ]
    },
    {
     "data": {
      "application/vnd.jupyter.widget-view+json": {
       "model_id": "1301842cb95543dba496905c52936972",
       "version_major": 2,
       "version_minor": 0
      },
      "text/plain": [
       "Validation: |          | 0/? [00:00<?, ?it/s]"
      ]
     },
     "metadata": {},
     "output_type": "display_data"
    },
    {
     "name": "stdout",
     "output_type": "stream",
     "text": [
      "Epoch end: Validation, epoch number: 43\n",
      "ValidationEpoch/CM\n",
      " tensor([[ 92606,   1004,   2611,   8934,    348,    432,     49,      0,   3770],\n",
      "        [    53, 140710,     54,      0,      0,    205,    136,      0,      0],\n",
      "        [   232,   1700, 124117,   2915,   1072,    878,   5066,      0,    885],\n",
      "        [  8774,   1021,   3481,  88222,   4688,    406,   3399,      0,   4073],\n",
      "        [   206,   1084,   1470,   1009, 109476,    494,      0,     27,   3083],\n",
      "        [     0,   1788,   8403,      0,      0, 111094,     55,     35,      0],\n",
      "        [  2906,   1294,  53291,  21208,   6950,   2297,  24379,      0,   1741],\n",
      "        [     0,    916,     34,      0,     65,     30,    107, 112673,      0],\n",
      "        [     0,    551,      8,    261,      0,      6,     78,      0, 140250]])\n",
      "Epoch end: Train, epoch number: 42\n",
      "TrainEpoch/CM\n",
      " tensor([[ 92606,   1004,   2611,   8934,    348,    432,     49,      0,   3770],\n",
      "        [    53, 140710,     54,      0,      0,    205,    136,      0,      0],\n",
      "        [   232,   1700, 124117,   2915,   1072,    878,   5066,      0,    885],\n",
      "        [  8774,   1021,   3481,  88222,   4688,    406,   3399,      0,   4073],\n",
      "        [   206,   1084,   1470,   1009, 109476,    494,      0,     27,   3083],\n",
      "        [     0,   1788,   8403,      0,      0, 111094,     55,     35,      0],\n",
      "        [  2906,   1294,  53291,  21208,   6950,   2297,  24379,      0,   1741],\n",
      "        [     0,    916,     34,      0,     65,     30,    107, 112673,      0],\n",
      "        [     0,    551,      8,    261,      0,      6,     78,      0, 140250]])\n"
     ]
    },
    {
     "data": {
      "application/vnd.jupyter.widget-view+json": {
       "model_id": "5cb9a0e8717d4e208d2be2c851452b67",
       "version_major": 2,
       "version_minor": 0
      },
      "text/plain": [
       "Validation: |          | 0/? [00:00<?, ?it/s]"
      ]
     },
     "metadata": {},
     "output_type": "display_data"
    },
    {
     "name": "stdout",
     "output_type": "stream",
     "text": [
      "Epoch end: Validation, epoch number: 44\n",
      "ValidationEpoch/CM\n",
      " tensor([[ 95078,   1004,   2611,   9011,    348,    432,     50,      0,   3770],\n",
      "        [    53, 143985,     54,      0,      0,    210,    136,      0,      0],\n",
      "        [   232,   1700, 126935,   2981,   1084,    883,   5345,      0,    885],\n",
      "        [  8939,   1021,   3484,  90492,   4740,    406,   3559,      0,   4073],\n",
      "        [   208,   1084,   1485,   1038, 112140,    494,      0,     32,   3083],\n",
      "        [     0,   1788,   8434,      0,      0, 113878,     60,     35,      0],\n",
      "        [  2959,   1294,  54144,  21673,   7043,   2327,  25535,      0,   1741],\n",
      "        [     0,    916,     34,      0,     65,     30,    107, 115318,      0],\n",
      "        [     0,    551,      8,    262,      0,      6,     82,      0, 143525]])\n",
      "Epoch end: Train, epoch number: 43\n",
      "TrainEpoch/CM\n",
      " tensor([[ 95078,   1004,   2611,   9011,    348,    432,     50,      0,   3770],\n",
      "        [    53, 143985,     54,      0,      0,    210,    136,      0,      0],\n",
      "        [   232,   1700, 126935,   2981,   1084,    883,   5345,      0,    885],\n",
      "        [  8939,   1021,   3484,  90492,   4740,    406,   3559,      0,   4073],\n",
      "        [   208,   1084,   1485,   1038, 112140,    494,      0,     32,   3083],\n",
      "        [     0,   1788,   8434,      0,      0, 113878,     60,     35,      0],\n",
      "        [  2959,   1294,  54144,  21673,   7043,   2327,  25535,      0,   1741],\n",
      "        [     0,    916,     34,      0,     65,     30,    107, 115318,      0],\n",
      "        [     0,    551,      8,    262,      0,      6,     82,      0, 143525]])\n"
     ]
    },
    {
     "data": {
      "application/vnd.jupyter.widget-view+json": {
       "model_id": "2b030f2fe8fb41e1877de6a3df2bd66b",
       "version_major": 2,
       "version_minor": 0
      },
      "text/plain": [
       "Validation: |          | 0/? [00:00<?, ?it/s]"
      ]
     },
     "metadata": {},
     "output_type": "display_data"
    },
    {
     "name": "stdout",
     "output_type": "stream",
     "text": [
      "Epoch end: Validation, epoch number: 45\n",
      "ValidationEpoch/CM\n",
      " tensor([[ 97557,   1004,   2611,   9080,    348,    432,     52,      0,   3770],\n",
      "        [    53, 147260,     54,      0,      0,    215,    136,      0,      0],\n",
      "        [   232,   1700, 129759,   3042,   1096,    891,   5620,      0,    885],\n",
      "        [  9103,   1021,   3491,  92747,   4795,    406,   3728,      0,   4073],\n",
      "        [   212,   1084,   1500,   1064, 114805,    494,      0,     37,   3083],\n",
      "        [     0,   1788,   8469,      0,      0, 116658,     65,     35,      0],\n",
      "        [  3003,   1294,  55008,  22148,   7138,   2357,  26677,      0,   1741],\n",
      "        [     0,    916,     34,      0,     65,     30,    107, 117963,      0],\n",
      "        [     0,    551,      8,    262,      0,      6,     87,      0, 146800]])\n",
      "Epoch end: Train, epoch number: 44\n",
      "TrainEpoch/CM\n",
      " tensor([[ 97557,   1004,   2611,   9080,    348,    432,     52,      0,   3770],\n",
      "        [    53, 147260,     54,      0,      0,    215,    136,      0,      0],\n",
      "        [   232,   1700, 129759,   3042,   1096,    891,   5620,      0,    885],\n",
      "        [  9103,   1021,   3491,  92747,   4795,    406,   3728,      0,   4073],\n",
      "        [   212,   1084,   1500,   1064, 114805,    494,      0,     37,   3083],\n",
      "        [     0,   1788,   8469,      0,      0, 116658,     65,     35,      0],\n",
      "        [  3003,   1294,  55008,  22148,   7138,   2357,  26677,      0,   1741],\n",
      "        [     0,    916,     34,      0,     65,     30,    107, 117963,      0],\n",
      "        [     0,    551,      8,    262,      0,      6,     87,      0, 146800]])\n"
     ]
    },
    {
     "data": {
      "application/vnd.jupyter.widget-view+json": {
       "model_id": "90e4386676bd4d009f5c69f5a0024950",
       "version_major": 2,
       "version_minor": 0
      },
      "text/plain": [
       "Validation: |          | 0/? [00:00<?, ?it/s]"
      ]
     },
     "metadata": {},
     "output_type": "display_data"
    },
    {
     "name": "stdout",
     "output_type": "stream",
     "text": [
      "Epoch end: Validation, epoch number: 46\n",
      "ValidationEpoch/CM\n",
      " tensor([[100033,   1004,   2611,   9152,    348,    432,     54,      0,   3770],\n",
      "        [    53, 150535,     54,      0,      0,    220,    136,      0,      0],\n",
      "        [   232,   1700, 132571,   3099,   1108,    895,   5915,      0,    885],\n",
      "        [  9260,   1021,   3500,  95012,   4842,    406,   3900,      0,   4073],\n",
      "        [   216,   1084,   1515,   1097, 117463,    494,      0,     42,   3083],\n",
      "        [     0,   1788,   8501,      0,      0, 119441,     70,     35,      0],\n",
      "        [  3053,   1294,  55847,  22620,   7229,   2387,  27845,      0,   1741],\n",
      "        [     0,    916,     34,      0,     65,     30,    107, 120608,      0],\n",
      "        [     0,    551,      8,    262,      0,      6,     92,      0, 150075]])\n",
      "Epoch end: Train, epoch number: 45\n",
      "TrainEpoch/CM\n",
      " tensor([[100033,   1004,   2611,   9152,    348,    432,     54,      0,   3770],\n",
      "        [    53, 150535,     54,      0,      0,    220,    136,      0,      0],\n",
      "        [   232,   1700, 132571,   3099,   1108,    895,   5915,      0,    885],\n",
      "        [  9260,   1021,   3500,  95012,   4842,    406,   3900,      0,   4073],\n",
      "        [   216,   1084,   1515,   1097, 117463,    494,      0,     42,   3083],\n",
      "        [     0,   1788,   8501,      0,      0, 119441,     70,     35,      0],\n",
      "        [  3053,   1294,  55847,  22620,   7229,   2387,  27845,      0,   1741],\n",
      "        [     0,    916,     34,      0,     65,     30,    107, 120608,      0],\n",
      "        [     0,    551,      8,    262,      0,      6,     92,      0, 150075]])\n"
     ]
    },
    {
     "data": {
      "application/vnd.jupyter.widget-view+json": {
       "model_id": "3cb6f485bc444da7a2e552f130590e5d",
       "version_major": 2,
       "version_minor": 0
      },
      "text/plain": [
       "Validation: |          | 0/? [00:00<?, ?it/s]"
      ]
     },
     "metadata": {},
     "output_type": "display_data"
    },
    {
     "name": "stdout",
     "output_type": "stream",
     "text": [
      "Epoch end: Validation, epoch number: 47\n",
      "ValidationEpoch/CM\n",
      " tensor([[102517,   1004,   2611,   9216,    348,    432,     56,      0,   3770],\n",
      "        [    53, 153810,     54,      0,      0,    225,    136,      0,      0],\n",
      "        [   232,   1700, 135378,   3159,   1120,    907,   6204,      0,    885],\n",
      "        [  9415,   1021,   3506,  97283,   4891,    406,   4069,      0,   4073],\n",
      "        [   218,   1084,   1530,   1120, 120133,    494,      0,     47,   3083],\n",
      "        [     0,   1788,   8531,      0,      0, 122226,     75,     35,      0],\n",
      "        [  3104,   1294,  56688,  23075,   7324,   2417,  29023,      0,   1741],\n",
      "        [     0,    916,     34,      0,     65,     30,    107, 123253,      0],\n",
      "        [     0,    551,      8,    262,      0,      6,     97,      0, 153350]])\n",
      "Epoch end: Train, epoch number: 46\n",
      "TrainEpoch/CM\n",
      " "
     ]
    },
    {
     "name": "stderr",
     "output_type": "stream",
     "text": [
      "Metric Validation/Accuracy improved by 0.001 >= min_delta = 0.0. New best score: 0.902\n"
     ]
    },
    {
     "name": "stdout",
     "output_type": "stream",
     "text": [
      "tensor([[102517,   1004,   2611,   9216,    348,    432,     56,      0,   3770],\n",
      "        [    53, 153810,     54,      0,      0,    225,    136,      0,      0],\n",
      "        [   232,   1700, 135378,   3159,   1120,    907,   6204,      0,    885],\n",
      "        [  9415,   1021,   3506,  97283,   4891,    406,   4069,      0,   4073],\n",
      "        [   218,   1084,   1530,   1120, 120133,    494,      0,     47,   3083],\n",
      "        [     0,   1788,   8531,      0,      0, 122226,     75,     35,      0],\n",
      "        [  3104,   1294,  56688,  23075,   7324,   2417,  29023,      0,   1741],\n",
      "        [     0,    916,     34,      0,     65,     30,    107, 123253,      0],\n",
      "        [     0,    551,      8,    262,      0,      6,     97,      0, 153350]])\n"
     ]
    },
    {
     "data": {
      "application/vnd.jupyter.widget-view+json": {
       "model_id": "50d7b46f881649bcbee89adcc34cae98",
       "version_major": 2,
       "version_minor": 0
      },
      "text/plain": [
       "Validation: |          | 0/? [00:00<?, ?it/s]"
      ]
     },
     "metadata": {},
     "output_type": "display_data"
    },
    {
     "name": "stdout",
     "output_type": "stream",
     "text": [
      "Epoch end: Validation, epoch number: 48\n",
      "ValidationEpoch/CM\n",
      " tensor([[104983,   1004,   2611,   9299,    348,    432,     57,      0,   3770],\n",
      "        [    53, 157085,     54,      0,      0,    230,    136,      0,      0],\n",
      "        [   232,   1700, 138193,   3219,   1132,    909,   6495,      0,    885],\n",
      "        [  9554,   1021,   3513,  99579,   4928,    406,   4240,      0,   4073],\n",
      "        [   220,   1084,   1545,   1153, 122793,    494,      0,     52,   3083],\n",
      "        [     0,   1788,   8566,      0,      0, 125006,     80,     35,      0],\n",
      "        [  3146,   1294,  57511,  23550,   7413,   2447,  30214,      0,   1741],\n",
      "        [     0,    916,     34,      0,     65,     30,    107, 125898,      0],\n",
      "        [     0,    551,      8,    262,      0,      6,    102,      0, 156625]])\n",
      "Epoch end: Train, epoch number: 47\n",
      "TrainEpoch/CM\n",
      " tensor([[104983,   1004,   2611,   9299,    348,    432,     57,      0,   3770],\n",
      "        [    53, 157085,     54,      0,      0,    230,    136,      0,      0],\n",
      "        [   232,   1700, 138193,   3219,   1132,    909,   6495,      0,    885],\n",
      "        [  9554,   1021,   3513,  99579,   4928,    406,   4240,      0,   4073],\n",
      "        [   220,   1084,   1545,   1153, 122793,    494,      0,     52,   3083],\n",
      "        [     0,   1788,   8566,      0,      0, 125006,     80,     35,      0],\n",
      "        [  3146,   1294,  57511,  23550,   7413,   2447,  30214,      0,   1741],\n",
      "        [     0,    916,     34,      0,     65,     30,    107, 125898,      0],\n",
      "        [     0,    551,      8,    262,      0,      6,    102,      0, 156625]])\n"
     ]
    },
    {
     "data": {
      "application/vnd.jupyter.widget-view+json": {
       "model_id": "0d455438c1134756982a2c07d7a1f0db",
       "version_major": 2,
       "version_minor": 0
      },
      "text/plain": [
       "Validation: |          | 0/? [00:00<?, ?it/s]"
      ]
     },
     "metadata": {},
     "output_type": "display_data"
    },
    {
     "name": "stdout",
     "output_type": "stream",
     "text": [
      "Epoch end: Validation, epoch number: 49\n",
      "ValidationEpoch/CM\n",
      " tensor([[107464,   1004,   2611,   9364,    348,    432,     61,      0,   3770],\n",
      "        [    53, 160360,     54,      0,      0,    235,    136,      0,      0],\n",
      "        [   232,   1700, 141010,   3273,   1144,    915,   6786,      0,    885],\n",
      "        [  9687,   1021,   3518, 101869,   4968,    406,   4422,      0,   4073],\n",
      "        [   220,   1084,   1560,   1181, 125460,    494,      0,     57,   3083],\n",
      "        [     0,   1788,   8593,      0,      0, 127794,     85,     35,      0],\n",
      "        [  3189,   1294,  58341,  23986,   7502,   2477,  31436,      0,   1741],\n",
      "        [     0,    916,     34,      0,     65,     30,    107, 128543,      0],\n",
      "        [     0,    551,      8,    262,      0,      6,    107,      0, 159900]])\n"
     ]
    },
    {
     "name": "stderr",
     "output_type": "stream",
     "text": [
      "Metric Validation/Accuracy improved by 0.001 >= min_delta = 0.0. New best score: 0.903\n"
     ]
    },
    {
     "name": "stdout",
     "output_type": "stream",
     "text": [
      "Epoch end: Train, epoch number: 48\n",
      "TrainEpoch/CM\n",
      " tensor([[107464,   1004,   2611,   9364,    348,    432,     61,      0,   3770],\n",
      "        [    53, 160360,     54,      0,      0,    235,    136,      0,      0],\n",
      "        [   232,   1700, 141010,   3273,   1144,    915,   6786,      0,    885],\n",
      "        [  9687,   1021,   3518, 101869,   4968,    406,   4422,      0,   4073],\n",
      "        [   220,   1084,   1560,   1181, 125460,    494,      0,     57,   3083],\n",
      "        [     0,   1788,   8593,      0,      0, 127794,     85,     35,      0],\n",
      "        [  3189,   1294,  58341,  23986,   7502,   2477,  31436,      0,   1741],\n",
      "        [     0,    916,     34,      0,     65,     30,    107, 128543,      0],\n",
      "        [     0,    551,      8,    262,      0,      6,    107,      0, 159900]])\n"
     ]
    },
    {
     "data": {
      "application/vnd.jupyter.widget-view+json": {
       "model_id": "11f0396cf53147dcb5b91b6f8510ae9f",
       "version_major": 2,
       "version_minor": 0
      },
      "text/plain": [
       "Validation: |          | 0/? [00:00<?, ?it/s]"
      ]
     },
     "metadata": {},
     "output_type": "display_data"
    },
    {
     "name": "stdout",
     "output_type": "stream",
     "text": [
      "Epoch end: Validation, epoch number: 50\n",
      "ValidationEpoch/CM\n",
      " tensor([[109949,   1004,   2611,   9429,    348,    432,     61,      0,   3770],\n",
      "        [    53, 163635,     54,      0,      0,    240,    136,      0,      0],\n",
      "        [   232,   1700, 143840,   3336,   1156,    917,   7059,      0,    885],\n",
      "        [  9822,   1021,   3522, 104169,   5011,    406,   4590,      0,   4073],\n",
      "        [   220,   1084,   1575,   1208, 128128,    494,      0,     62,   3083],\n",
      "        [     0,   1788,   8621,      0,      0, 130581,     90,     35,      0],\n",
      "        [  3233,   1294,  59171,  24442,   7593,   2505,  32637,      0,   1741],\n",
      "        [     0,    916,     34,      0,     65,     30,    107, 131188,      0],\n",
      "        [     0,    551,      8,    262,      0,      6,    112,      0, 163175]])\n",
      "Epoch end: Train, epoch number: 49\n",
      "TrainEpoch/CM\n",
      " tensor([[109949,   1004,   2611,   9429,    348,    432,     61,      0,   3770],\n",
      "        [    53, 163635,     54,      0,      0,    240,    136,      0,      0],\n",
      "        [   232,   1700, 143840,   3336,   1156,    917,   7059,      0,    885],\n",
      "        [  9822,   1021,   3522, 104169,   5011,    406,   4590,      0,   4073],\n",
      "        [   220,   1084,   1575,   1208, 128128,    494,      0,     62,   3083],\n",
      "        [     0,   1788,   8621,      0,      0, 130581,     90,     35,      0],\n",
      "        [  3233,   1294,  59171,  24442,   7593,   2505,  32637,      0,   1741],\n",
      "        [     0,    916,     34,      0,     65,     30,    107, 131188,      0],\n",
      "        [     0,    551,      8,    262,      0,      6,    112,      0, 163175]])\n"
     ]
    },
    {
     "data": {
      "application/vnd.jupyter.widget-view+json": {
       "model_id": "3340588166974a569a6692f29d52ece4",
       "version_major": 2,
       "version_minor": 0
      },
      "text/plain": [
       "Validation: |          | 0/? [00:00<?, ?it/s]"
      ]
     },
     "metadata": {},
     "output_type": "display_data"
    },
    {
     "name": "stdout",
     "output_type": "stream",
     "text": [
      "Epoch end: Validation, epoch number: 51\n",
      "ValidationEpoch/CM\n",
      " tensor([[112427,   1004,   2611,   9497,    348,    432,     65,      0,   3770],\n",
      "        [    53, 166910,     54,      0,      0,    245,    136,      0,      0],\n",
      "        [   232,   1700, 146627,   3392,   1168,    921,   7380,      0,    885],\n",
      "        [  9940,   1021,   3525, 106479,   5039,    406,   4781,      0,   4073],\n",
      "        [   220,   1084,   1590,   1237, 130794,    494,      0,     67,   3083],\n",
      "        [     0,   1788,   8650,      0,      0, 133367,     95,     35,      0],\n",
      "        [  3273,   1294,  59969,  24883,   7675,   2534,  33897,      0,   1741],\n",
      "        [     0,    916,     34,      0,     65,     30,    107, 133833,      0],\n",
      "        [     0,    551,      8,    262,      0,      6,    117,      0, 166450]])\n",
      "Epoch end: Train, epoch number: 50\n"
     ]
    },
    {
     "name": "stderr",
     "output_type": "stream",
     "text": [
      "Metric Validation/Accuracy improved by 0.003 >= min_delta = 0.0. New best score: 0.907\n"
     ]
    },
    {
     "name": "stdout",
     "output_type": "stream",
     "text": [
      "TrainEpoch/CM\n",
      " tensor([[112427,   1004,   2611,   9497,    348,    432,     65,      0,   3770],\n",
      "        [    53, 166910,     54,      0,      0,    245,    136,      0,      0],\n",
      "        [   232,   1700, 146627,   3392,   1168,    921,   7380,      0,    885],\n",
      "        [  9940,   1021,   3525, 106479,   5039,    406,   4781,      0,   4073],\n",
      "        [   220,   1084,   1590,   1237, 130794,    494,      0,     67,   3083],\n",
      "        [     0,   1788,   8650,      0,      0, 133367,     95,     35,      0],\n",
      "        [  3273,   1294,  59969,  24883,   7675,   2534,  33897,      0,   1741],\n",
      "        [     0,    916,     34,      0,     65,     30,    107, 133833,      0],\n",
      "        [     0,    551,      8,    262,      0,      6,    117,      0, 166450]])\n"
     ]
    },
    {
     "data": {
      "application/vnd.jupyter.widget-view+json": {
       "model_id": "e503c71793b9446489dcde568f3fb31d",
       "version_major": 2,
       "version_minor": 0
      },
      "text/plain": [
       "Validation: |          | 0/? [00:00<?, ?it/s]"
      ]
     },
     "metadata": {},
     "output_type": "display_data"
    },
    {
     "name": "stdout",
     "output_type": "stream",
     "text": [
      "Epoch end: Validation, epoch number: 52\n",
      "ValidationEpoch/CM\n",
      " tensor([[114908,   1004,   2611,   9564,    348,    432,     67,      0,   3770],\n",
      "        [    53, 170185,     54,      0,      0,    250,    136,      0,      0],\n",
      "        [   232,   1700, 149421,   3442,   1180,    925,   7700,      0,    885],\n",
      "        [ 10045,   1021,   3527, 108790,   5075,    406,   4977,      0,   4073],\n",
      "        [   220,   1084,   1605,   1264, 133462,    494,      0,     72,   3083],\n",
      "        [     0,   1788,   8678,      0,      0, 136154,    100,     35,      0],\n",
      "        [  3314,   1294,  60763,  25294,   7761,   2554,  35195,      0,   1741],\n",
      "        [     0,    916,     34,      0,     65,     30,    107, 136478,      0],\n",
      "        [     0,    551,      8,    262,      0,      6,    122,      0, 169725]])\n"
     ]
    },
    {
     "name": "stderr",
     "output_type": "stream",
     "text": [
      "Metric Validation/Accuracy improved by 0.002 >= min_delta = 0.0. New best score: 0.909\n"
     ]
    },
    {
     "name": "stdout",
     "output_type": "stream",
     "text": [
      "Epoch end: Train, epoch number: 51\n",
      "TrainEpoch/CM\n",
      " tensor([[114908,   1004,   2611,   9564,    348,    432,     67,      0,   3770],\n",
      "        [    53, 170185,     54,      0,      0,    250,    136,      0,      0],\n",
      "        [   232,   1700, 149421,   3442,   1180,    925,   7700,      0,    885],\n",
      "        [ 10045,   1021,   3527, 108790,   5075,    406,   4977,      0,   4073],\n",
      "        [   220,   1084,   1605,   1264, 133462,    494,      0,     72,   3083],\n",
      "        [     0,   1788,   8678,      0,      0, 136154,    100,     35,      0],\n",
      "        [  3314,   1294,  60763,  25294,   7761,   2554,  35195,      0,   1741],\n",
      "        [     0,    916,     34,      0,     65,     30,    107, 136478,      0],\n",
      "        [     0,    551,      8,    262,      0,      6,    122,      0, 169725]])\n"
     ]
    },
    {
     "data": {
      "application/vnd.jupyter.widget-view+json": {
       "model_id": "f0a45d0141004245a28ecef22915de0b",
       "version_major": 2,
       "version_minor": 0
      },
      "text/plain": [
       "Validation: |          | 0/? [00:00<?, ?it/s]"
      ]
     },
     "metadata": {},
     "output_type": "display_data"
    },
    {
     "name": "stdout",
     "output_type": "stream",
     "text": [
      "Epoch end: Validation, epoch number: 53\n",
      "ValidationEpoch/CM\n",
      " tensor([[117399,   1004,   2611,   9620,    348,    432,     70,      0,   3770],\n",
      "        [    53, 173460,     54,      0,      0,    255,    136,      0,      0],\n",
      "        [   232,   1700, 152206,   3496,   1192,    935,   8019,      0,    885],\n",
      "        [ 10164,   1021,   3530, 111102,   5106,    406,   5162,      0,   4073],\n",
      "        [   222,   1084,   1620,   1292, 136127,    494,      0,     77,   3083],\n",
      "        [     0,   1788,   8700,      0,      0, 138947,    105,     35,      0],\n",
      "        [  3363,   1294,  61558,  25712,   7844,   2574,  36480,      0,   1741],\n",
      "        [     0,    916,     34,      0,     65,     30,    107, 139123,      0],\n",
      "        [     0,    551,      8,    262,      0,      6,    127,      0, 173000]])\n",
      "Epoch end: Train, epoch number: 52\n",
      "TrainEpoch/CM\n",
      " tensor([[117399,   1004,   2611,   9620,    348,    432,     70,      0,   3770],\n",
      "        [    53, 173460,     54,      0,      0,    255,    136,      0,      0],\n",
      "        [   232,   1700, 152206,   3496,   1192,    935,   8019,      0,    885],\n",
      "        [ 10164,   1021,   3530, 111102,   5106,    406,   5162,      0,   4073],\n",
      "        [   222,   1084,   1620,   1292, 136127,    494,      0,     77,   3083],\n",
      "        [     0,   1788,   8700,      0,      0, 138947,    105,     35,      0],\n",
      "        [  3363,   1294,  61558,  25712,   7844,   2574,  36480,      0,   1741],\n",
      "        [     0,    916,     34,      0,     65,     30,    107, 139123,      0],\n",
      "        [     0,    551,      8,    262,      0,      6,    127,      0, 173000]])\n"
     ]
    },
    {
     "data": {
      "application/vnd.jupyter.widget-view+json": {
       "model_id": "00e91ef66f114b149103881fddae41a5",
       "version_major": 2,
       "version_minor": 0
      },
      "text/plain": [
       "Validation: |          | 0/? [00:00<?, ?it/s]"
      ]
     },
     "metadata": {},
     "output_type": "display_data"
    },
    {
     "name": "stdout",
     "output_type": "stream",
     "text": [
      "Epoch end: Validation, epoch number: 54\n",
      "ValidationEpoch/CM\n",
      " tensor([[119880,   1004,   2611,   9686,    348,    432,     73,      0,   3770],\n",
      "        [    53, 176735,     54,      0,      0,    260,    136,      0,      0],\n",
      "        [   232,   1700, 155012,   3551,   1204,    939,   8322,      0,    885],\n",
      "        [ 10262,   1021,   3532, 113431,   5140,    406,   5349,      0,   4073],\n",
      "        [   222,   1084,   1635,   1316, 138798,    494,      0,     82,   3083],\n",
      "        [     0,   1788,   8729,      0,      0, 141733,    110,     35,      0],\n",
      "        [  3402,   1294,  62361,  26136,   7933,   2594,  37755,      0,   1741],\n",
      "        [     0,    916,     34,      0,     65,     30,    107, 141768,      0],\n",
      "        [     0,    551,      8,    262,      0,      6,    132,      0, 176275]])\n",
      "Epoch end: Train, epoch number: 53\n",
      "TrainEpoch/CM\n",
      " tensor([[119880,   1004,   2611,   9686,    348,    432,     73,      0,   3770],\n",
      "        [    53, 176735,     54,      0,      0,    260,    136,      0,      0],\n",
      "        [   232,   1700, 155012,   3551,   1204,    939,   8322,      0,    885],\n",
      "        [ 10262,   1021,   3532, 113431,   5140,    406,   5349,      0,   4073],\n",
      "        [   222,   1084,   1635,   1316, 138798,    494,      0,     82,   3083],\n",
      "        [     0,   1788,   8729,      0,      0, 141733,    110,     35,      0],\n",
      "        [  3402,   1294,  62361,  26136,   7933,   2594,  37755,      0,   1741],\n",
      "        [     0,    916,     34,      0,     65,     30,    107, 141768,      0],\n",
      "        [     0,    551,      8,    262,      0,      6,    132,      0, 176275]])\n"
     ]
    },
    {
     "data": {
      "application/vnd.jupyter.widget-view+json": {
       "model_id": "1a703c9b79474e398df99ffb69d71b37",
       "version_major": 2,
       "version_minor": 0
      },
      "text/plain": [
       "Validation: |          | 0/? [00:00<?, ?it/s]"
      ]
     },
     "metadata": {},
     "output_type": "display_data"
    },
    {
     "name": "stdout",
     "output_type": "stream",
     "text": [
      "Epoch end: Validation, epoch number: 55\n",
      "ValidationEpoch/CM\n",
      " tensor([[122372,   1004,   2611,   9742,    348,    432,     75,      0,   3770],\n",
      "        [    53, 180010,     54,      0,      0,    265,    136,      0,      0],\n",
      "        [   232,   1700, 157806,   3599,   1216,    943,   8644,      0,    885],\n",
      "        [ 10366,   1021,   3536, 115752,   5170,    406,   5540,      0,   4073],\n",
      "        [   222,   1084,   1650,   1342, 141467,    494,      0,     87,   3083],\n",
      "        [     0,   1788,   8755,      0,      0, 144522,    115,     35,      0],\n",
      "        [  3443,   1294,  63161,  26531,   8014,   2614,  39068,      0,   1741],\n",
      "        [     0,    916,     34,      0,     65,     30,    107, 144413,      0],\n",
      "        [     0,    551,      8,    262,      0,      6,    137,      0, 179550]])\n",
      "Epoch end: Train, epoch number: 54\n",
      "TrainEpoch/CM\n",
      " tensor([[122372,   1004,   2611,   9742,    348,    432,     75,      0,   3770],\n",
      "        [    53, 180010,     54,      0,      0,    265,    136,      0,      0],\n",
      "        [   232,   1700, 157806,   3599,   1216,    943,   8644,      0,    885],\n",
      "        [ 10366,   1021,   3536, 115752,   5170,    406,   5540,      0,   4073],\n",
      "        [   222,   1084,   1650,   1342, 141467,    494,      0,     87,   3083],\n",
      "        [     0,   1788,   8755,      0,      0, 144522,    115,     35,      0],\n",
      "        [  3443,   1294,  63161,  26531,   8014,   2614,  39068,      0,   1741],\n",
      "        [     0,    916,     34,      0,     65,     30,    107, 144413,      0],\n",
      "        [     0,    551,      8,    262,      0,      6,    137,      0, 179550]])\n"
     ]
    },
    {
     "data": {
      "application/vnd.jupyter.widget-view+json": {
       "model_id": "78cb1c0097194e9e960b60aff342b09d",
       "version_major": 2,
       "version_minor": 0
      },
      "text/plain": [
       "Validation: |          | 0/? [00:00<?, ?it/s]"
      ]
     },
     "metadata": {},
     "output_type": "display_data"
    },
    {
     "name": "stdout",
     "output_type": "stream",
     "text": [
      "Epoch end: Validation, epoch number: 56\n",
      "ValidationEpoch/CM\n",
      " tensor([[124855,   1004,   2611,   9806,    348,    432,     78,      0,   3770],\n",
      "        [    53, 183285,     54,      0,      0,    270,    136,      0,      0],\n",
      "        [   232,   1700, 160589,   3651,   1228,    948,   8972,      0,    885],\n",
      "        [ 10453,   1021,   3538, 118096,   5196,    406,   5731,      0,   4073],\n",
      "        [   225,   1084,   1665,   1373, 144128,    494,      0,     92,   3083],\n",
      "        [     0,   1788,   8778,      0,      0, 147314,    120,     35,      0],\n",
      "        [  3485,   1294,  63948,  26952,   8090,   2634,  40372,      0,   1741],\n",
      "        [     0,    916,     34,      0,     65,     30,    107, 147058,      0],\n",
      "        [     0,    551,      8,    262,      0,      6,    142,      0, 182825]])\n",
      "Epoch end: Train, epoch number: 55\n"
     ]
    },
    {
     "name": "stderr",
     "output_type": "stream",
     "text": [
      "Metric Validation/Accuracy improved by 0.000 >= min_delta = 0.0. New best score: 0.909\n"
     ]
    },
    {
     "name": "stdout",
     "output_type": "stream",
     "text": [
      "TrainEpoch/CM\n",
      " tensor([[124855,   1004,   2611,   9806,    348,    432,     78,      0,   3770],\n",
      "        [    53, 183285,     54,      0,      0,    270,    136,      0,      0],\n",
      "        [   232,   1700, 160589,   3651,   1228,    948,   8972,      0,    885],\n",
      "        [ 10453,   1021,   3538, 118096,   5196,    406,   5731,      0,   4073],\n",
      "        [   225,   1084,   1665,   1373, 144128,    494,      0,     92,   3083],\n",
      "        [     0,   1788,   8778,      0,      0, 147314,    120,     35,      0],\n",
      "        [  3485,   1294,  63948,  26952,   8090,   2634,  40372,      0,   1741],\n",
      "        [     0,    916,     34,      0,     65,     30,    107, 147058,      0],\n",
      "        [     0,    551,      8,    262,      0,      6,    142,      0, 182825]])\n"
     ]
    },
    {
     "data": {
      "application/vnd.jupyter.widget-view+json": {
       "model_id": "430bbfada7e34fe6b03af3d2d6efc4bb",
       "version_major": 2,
       "version_minor": 0
      },
      "text/plain": [
       "Validation: |          | 0/? [00:00<?, ?it/s]"
      ]
     },
     "metadata": {},
     "output_type": "display_data"
    },
    {
     "name": "stdout",
     "output_type": "stream",
     "text": [
      "Epoch end: Validation, epoch number: 57\n",
      "ValidationEpoch/CM\n",
      " tensor([[127340,   1004,   2611,   9866,    348,    432,     83,      0,   3770],\n",
      "        [    53, 186560,     54,      0,      0,    275,    136,      0,      0],\n",
      "        [   232,   1700, 163351,   3704,   1240,    951,   9322,      0,    885],\n",
      "        [ 10528,   1021,   3538, 120451,   5225,    406,   5922,      0,   4073],\n",
      "        [   225,   1084,   1680,   1397, 146799,    494,      0,     97,   3083],\n",
      "        [     0,   1788,   8796,      0,      0, 150111,    125,     35,      0],\n",
      "        [  3521,   1294,  64705,  27357,   8172,   2654,  41722,      0,   1741],\n",
      "        [     0,    916,     34,      0,     65,     30,    107, 149703,      0],\n",
      "        [     0,    551,      8,    262,      0,      6,    147,      0, 186100]])\n"
     ]
    },
    {
     "name": "stderr",
     "output_type": "stream",
     "text": [
      "Metric Validation/Accuracy improved by 0.000 >= min_delta = 0.0. New best score: 0.909\n"
     ]
    },
    {
     "name": "stdout",
     "output_type": "stream",
     "text": [
      "Epoch end: Train, epoch number: 56\n",
      "TrainEpoch/CM\n",
      " tensor([[127340,   1004,   2611,   9866,    348,    432,     83,      0,   3770],\n",
      "        [    53, 186560,     54,      0,      0,    275,    136,      0,      0],\n",
      "        [   232,   1700, 163351,   3704,   1240,    951,   9322,      0,    885],\n",
      "        [ 10528,   1021,   3538, 120451,   5225,    406,   5922,      0,   4073],\n",
      "        [   225,   1084,   1680,   1397, 146799,    494,      0,     97,   3083],\n",
      "        [     0,   1788,   8796,      0,      0, 150111,    125,     35,      0],\n",
      "        [  3521,   1294,  64705,  27357,   8172,   2654,  41722,      0,   1741],\n",
      "        [     0,    916,     34,      0,     65,     30,    107, 149703,      0],\n",
      "        [     0,    551,      8,    262,      0,      6,    147,      0, 186100]])\n"
     ]
    },
    {
     "data": {
      "application/vnd.jupyter.widget-view+json": {
       "model_id": "9cf3d41c3a2c40a1a4776cc4c301ee08",
       "version_major": 2,
       "version_minor": 0
      },
      "text/plain": [
       "Validation: |          | 0/? [00:00<?, ?it/s]"
      ]
     },
     "metadata": {},
     "output_type": "display_data"
    },
    {
     "name": "stdout",
     "output_type": "stream",
     "text": [
      "Epoch end: Validation, epoch number: 58\n",
      "ValidationEpoch/CM\n",
      " tensor([[129826,   1004,   2611,   9926,    348,    432,     87,      0,   3770],\n",
      "        [    53, 189835,     54,      0,      0,    280,    136,      0,      0],\n",
      "        [   232,   1700, 166114,   3754,   1252,    951,   9677,      0,    885],\n",
      "        [ 10605,   1021,   3539, 122805,   5252,    406,   6113,      0,   4073],\n",
      "        [   226,   1084,   1695,   1425, 149465,    494,      0,    102,   3083],\n",
      "        [     0,   1788,   8817,      0,      0, 152905,    130,     35,      0],\n",
      "        [  3558,   1294,  65449,  27750,   8247,   2674,  43103,      0,   1741],\n",
      "        [     0,    916,     34,      0,     65,     30,    107, 152348,      0],\n",
      "        [     0,    551,      8,    262,      0,      6,    152,      0, 189375]])\n"
     ]
    },
    {
     "name": "stderr",
     "output_type": "stream",
     "text": [
      "Metric Validation/Accuracy improved by 0.001 >= min_delta = 0.0. New best score: 0.910\n"
     ]
    },
    {
     "name": "stdout",
     "output_type": "stream",
     "text": [
      "Epoch end: Train, epoch number: 57\n",
      "TrainEpoch/CM\n",
      " tensor([[129826,   1004,   2611,   9926,    348,    432,     87,      0,   3770],\n",
      "        [    53, 189835,     54,      0,      0,    280,    136,      0,      0],\n",
      "        [   232,   1700, 166114,   3754,   1252,    951,   9677,      0,    885],\n",
      "        [ 10605,   1021,   3539, 122805,   5252,    406,   6113,      0,   4073],\n",
      "        [   226,   1084,   1695,   1425, 149465,    494,      0,    102,   3083],\n",
      "        [     0,   1788,   8817,      0,      0, 152905,    130,     35,      0],\n",
      "        [  3558,   1294,  65449,  27750,   8247,   2674,  43103,      0,   1741],\n",
      "        [     0,    916,     34,      0,     65,     30,    107, 152348,      0],\n",
      "        [     0,    551,      8,    262,      0,      6,    152,      0, 189375]])\n"
     ]
    },
    {
     "data": {
      "application/vnd.jupyter.widget-view+json": {
       "model_id": "abe203ba41ae486690a68786ae6c4020",
       "version_major": 2,
       "version_minor": 0
      },
      "text/plain": [
       "Validation: |          | 0/? [00:00<?, ?it/s]"
      ]
     },
     "metadata": {},
     "output_type": "display_data"
    },
    {
     "name": "stdout",
     "output_type": "stream",
     "text": [
      "Epoch end: Validation, epoch number: 59\n",
      "ValidationEpoch/CM\n",
      " tensor([[132315,   1004,   2611,   9983,    348,    432,     91,      0,   3770],\n",
      "        [    53, 193110,     54,      0,      0,    285,    136,      0,      0],\n",
      "        [   232,   1700, 168914,   3802,   1264,    951,   9997,      0,    885],\n",
      "        [ 10682,   1021,   3539, 125161,   5282,    406,   6300,      0,   4073],\n",
      "        [   228,   1084,   1710,   1454, 152129,    494,      0,    107,   3083],\n",
      "        [     0,   1788,   8834,      0,      0, 155703,    135,     35,      0],\n",
      "        [  3593,   1294,  66212,  28143,   8321,   2694,  44468,      0,   1741],\n",
      "        [     0,    916,     34,      0,     65,     30,    107, 154993,      0],\n",
      "        [     0,    551,      8,    262,      0,      6,    157,      0, 192650]])\n"
     ]
    },
    {
     "name": "stderr",
     "output_type": "stream",
     "text": [
      "Metric Validation/Accuracy improved by 0.003 >= min_delta = 0.0. New best score: 0.913\n"
     ]
    },
    {
     "name": "stdout",
     "output_type": "stream",
     "text": [
      "Epoch end: Train, epoch number: 58\n",
      "TrainEpoch/CM\n",
      " tensor([[132315,   1004,   2611,   9983,    348,    432,     91,      0,   3770],\n",
      "        [    53, 193110,     54,      0,      0,    285,    136,      0,      0],\n",
      "        [   232,   1700, 168914,   3802,   1264,    951,   9997,      0,    885],\n",
      "        [ 10682,   1021,   3539, 125161,   5282,    406,   6300,      0,   4073],\n",
      "        [   228,   1084,   1710,   1454, 152129,    494,      0,    107,   3083],\n",
      "        [     0,   1788,   8834,      0,      0, 155703,    135,     35,      0],\n",
      "        [  3593,   1294,  66212,  28143,   8321,   2694,  44468,      0,   1741],\n",
      "        [     0,    916,     34,      0,     65,     30,    107, 154993,      0],\n",
      "        [     0,    551,      8,    262,      0,      6,    157,      0, 192650]])\n"
     ]
    },
    {
     "data": {
      "application/vnd.jupyter.widget-view+json": {
       "model_id": "c895aa0d66214b839ec3bb89c0a4d7dc",
       "version_major": 2,
       "version_minor": 0
      },
      "text/plain": [
       "Validation: |          | 0/? [00:00<?, ?it/s]"
      ]
     },
     "metadata": {},
     "output_type": "display_data"
    },
    {
     "name": "stdout",
     "output_type": "stream",
     "text": [
      "Epoch end: Validation, epoch number: 60\n",
      "ValidationEpoch/CM\n",
      " tensor([[134802,   1004,   2611,  10044,    348,    432,     93,      0,   3770],\n",
      "        [    53, 196385,     54,      0,      0,    290,    136,      0,      0],\n",
      "        [   232,   1700, 171679,   3850,   1276,    951,  10352,      0,    885],\n",
      "        [ 10750,   1021,   3539, 127524,   5310,    406,   6491,      0,   4073],\n",
      "        [   230,   1084,   1725,   1480, 154796,    494,      0,    112,   3083],\n",
      "        [     0,   1788,   8849,      0,      0, 158503,    140,     35,      0],\n",
      "        [  3629,   1294,  66929,  28521,   8393,   2714,  45895,      0,   1741],\n",
      "        [     0,    916,     34,      0,     65,     30,    107, 157638,      0],\n",
      "        [     0,    551,      8,    262,      0,      6,    162,      0, 195925]])\n"
     ]
    },
    {
     "name": "stderr",
     "output_type": "stream",
     "text": [
      "Metric Validation/Accuracy improved by 0.001 >= min_delta = 0.0. New best score: 0.914\n"
     ]
    },
    {
     "name": "stdout",
     "output_type": "stream",
     "text": [
      "Epoch end: Train, epoch number: 59\n",
      "TrainEpoch/CM\n",
      " tensor([[134802,   1004,   2611,  10044,    348,    432,     93,      0,   3770],\n",
      "        [    53, 196385,     54,      0,      0,    290,    136,      0,      0],\n",
      "        [   232,   1700, 171679,   3850,   1276,    951,  10352,      0,    885],\n",
      "        [ 10750,   1021,   3539, 127524,   5310,    406,   6491,      0,   4073],\n",
      "        [   230,   1084,   1725,   1480, 154796,    494,      0,    112,   3083],\n",
      "        [     0,   1788,   8849,      0,      0, 158503,    140,     35,      0],\n",
      "        [  3629,   1294,  66929,  28521,   8393,   2714,  45895,      0,   1741],\n",
      "        [     0,    916,     34,      0,     65,     30,    107, 157638,      0],\n",
      "        [     0,    551,      8,    262,      0,      6,    162,      0, 195925]])\n"
     ]
    },
    {
     "data": {
      "application/vnd.jupyter.widget-view+json": {
       "model_id": "b030e1162fae4d86925dd17888872a0b",
       "version_major": 2,
       "version_minor": 0
      },
      "text/plain": [
       "Validation: |          | 0/? [00:00<?, ?it/s]"
      ]
     },
     "metadata": {},
     "output_type": "display_data"
    },
    {
     "name": "stdout",
     "output_type": "stream",
     "text": [
      "Epoch end: Validation, epoch number: 61\n",
      "ValidationEpoch/CM\n",
      " tensor([[137293,   1004,   2611,  10100,    348,    432,     96,      0,   3770],\n",
      "        [    53, 199660,     54,      0,      0,    295,    136,      0,      0],\n",
      "        [   232,   1700, 174466,   3898,   1288,    953,  10683,      0,    885],\n",
      "        [ 10818,   1021,   3540, 129893,   5334,    406,   6679,      0,   4073],\n",
      "        [   232,   1084,   1740,   1505, 157464,    494,      0,    117,   3083],\n",
      "        [     0,   1788,   8863,      0,      0, 161304,    145,     35,      0],\n",
      "        [  3668,   1294,  67676,  28918,   8467,   2734,  47268,      0,   1741],\n",
      "        [     0,    916,     34,      0,     65,     30,    107, 160283,      0],\n",
      "        [     0,    551,      8,    262,      0,      6,    167,      0, 199200]])\n",
      "Epoch end: Train, epoch number: 60\n",
      "TrainEpoch/CM\n",
      " tensor([[137293,   1004,   2611,  10100,    348,    432,     96,      0,   3770],\n",
      "        [    53, 199660,     54,      0,      0,    295,    136,      0,      0],\n",
      "        [   232,   1700, 174466,   3898,   1288,    953,  10683,      0,    885],\n",
      "        [ 10818,   1021,   3540, 129893,   5334,    406,   6679,      0,   4073],\n",
      "        [   232,   1084,   1740,   1505, 157464,    494,      0,    117,   3083],\n",
      "        [     0,   1788,   8863,      0,      0, 161304,    145,     35,      0],\n",
      "        [  3668,   1294,  67676,  28918,   8467,   2734,  47268,      0,   1741],\n",
      "        [     0,    916,     34,      0,     65,     30,    107, 160283,      0],\n",
      "        [     0,    551,      8,    262,      0,      6,    167,      0, 199200]])\n"
     ]
    },
    {
     "data": {
      "application/vnd.jupyter.widget-view+json": {
       "model_id": "ca3cc49ee19f4348b75cf6ba101796b4",
       "version_major": 2,
       "version_minor": 0
      },
      "text/plain": [
       "Validation: |          | 0/? [00:00<?, ?it/s]"
      ]
     },
     "metadata": {},
     "output_type": "display_data"
    },
    {
     "name": "stdout",
     "output_type": "stream",
     "text": [
      "Epoch end: Validation, epoch number: 62\n",
      "ValidationEpoch/CM\n",
      " tensor([[139785,   1004,   2611,  10154,    348,    432,    100,      0,   3770],\n",
      "        [    53, 202935,     54,      0,      0,    300,    136,      0,      0],\n",
      "        [   232,   1700, 177236,   3949,   1300,    958,  11025,      0,    885],\n",
      "        [ 10884,   1021,   3542, 132275,   5360,    406,   6853,      0,   4073],\n",
      "        [   236,   1084,   1755,   1533, 160127,    494,      0,    122,   3083],\n",
      "        [     0,   1788,   8874,      0,      0, 164108,    150,     35,      0],\n",
      "        [  3701,   1294,  68417,  29311,   8536,   2754,  48662,      0,   1741],\n",
      "        [     0,    916,     34,      0,     65,     30,    107, 162928,      0],\n",
      "        [     0,    551,      8,    262,      0,      6,    172,      0, 202475]])\n",
      "Epoch end: Train, epoch number: 61\n",
      "TrainEpoch/CM\n",
      " tensor([[139785,   1004,   2611,  10154,    348,    432,    100,      0,   3770],\n",
      "        [    53, 202935,     54,      0,      0,    300,    136,      0,      0],\n",
      "        [   232,   1700, 177236,   3949,   1300,    958,  11025,      0,    885],\n",
      "        [ 10884,   1021,   3542, 132275,   5360,    406,   6853,      0,   4073],\n",
      "        [   236,   1084,   1755,   1533, 160127,    494,      0,    122,   3083],\n",
      "        [     0,   1788,   8874,      0,      0, 164108,    150,     35,      0],\n",
      "        [  3701,   1294,  68417,  29311,   8536,   2754,  48662,      0,   1741],\n",
      "        [     0,    916,     34,      0,     65,     30,    107, 162928,      0],\n",
      "        [     0,    551,      8,    262,      0,      6,    172,      0, 202475]])\n"
     ]
    },
    {
     "data": {
      "application/vnd.jupyter.widget-view+json": {
       "model_id": "44aa1a334dd54c7dbb1df2f8c18c4206",
       "version_major": 2,
       "version_minor": 0
      },
      "text/plain": [
       "Validation: |          | 0/? [00:00<?, ?it/s]"
      ]
     },
     "metadata": {},
     "output_type": "display_data"
    },
    {
     "name": "stdout",
     "output_type": "stream",
     "text": [
      "Epoch end: Validation, epoch number: 63\n",
      "ValidationEpoch/CM\n",
      " tensor([[142283,   1004,   2611,  10202,    348,    432,    104,      0,   3770],\n",
      "        [    53, 206210,     54,      0,      0,    305,    136,      0,      0],\n",
      "        [   232,   1700, 180021,   3999,   1312,    959,  11357,      0,    885],\n",
      "        [ 10953,   1021,   3545, 134651,   5383,    406,   7032,      0,   4073],\n",
      "        [   239,   1084,   1770,   1559, 162793,    494,      0,    127,   3083],\n",
      "        [     0,   1788,   8884,      0,      0, 166913,    155,     35,      0],\n",
      "        [  3737,   1294,  69165,  29684,   8607,   2774,  50064,      0,   1741],\n",
      "        [     0,    916,     34,      0,     65,     30,    107, 165573,      0],\n",
      "        [     0,    551,      8,    262,      0,      6,    177,      0, 205750]])\n"
     ]
    },
    {
     "name": "stderr",
     "output_type": "stream",
     "text": [
      "Metric Validation/Accuracy improved by 0.000 >= min_delta = 0.0. New best score: 0.915\n"
     ]
    },
    {
     "name": "stdout",
     "output_type": "stream",
     "text": [
      "Epoch end: Train, epoch number: 62\n",
      "TrainEpoch/CM\n",
      " tensor([[142283,   1004,   2611,  10202,    348,    432,    104,      0,   3770],\n",
      "        [    53, 206210,     54,      0,      0,    305,    136,      0,      0],\n",
      "        [   232,   1700, 180021,   3999,   1312,    959,  11357,      0,    885],\n",
      "        [ 10953,   1021,   3545, 134651,   5383,    406,   7032,      0,   4073],\n",
      "        [   239,   1084,   1770,   1559, 162793,    494,      0,    127,   3083],\n",
      "        [     0,   1788,   8884,      0,      0, 166913,    155,     35,      0],\n",
      "        [  3737,   1294,  69165,  29684,   8607,   2774,  50064,      0,   1741],\n",
      "        [     0,    916,     34,      0,     65,     30,    107, 165573,      0],\n",
      "        [     0,    551,      8,    262,      0,      6,    177,      0, 205750]])\n"
     ]
    },
    {
     "data": {
      "application/vnd.jupyter.widget-view+json": {
       "model_id": "5eb04eb8642d40b5a2e595e919e8d924",
       "version_major": 2,
       "version_minor": 0
      },
      "text/plain": [
       "Validation: |          | 0/? [00:00<?, ?it/s]"
      ]
     },
     "metadata": {},
     "output_type": "display_data"
    },
    {
     "name": "stdout",
     "output_type": "stream",
     "text": [
      "Epoch end: Validation, epoch number: 64\n",
      "ValidationEpoch/CM\n",
      " tensor([[144778,   1004,   2611,  10253,    348,    432,    108,      0,   3770],\n",
      "        [    53, 209485,     54,      0,      0,    310,    136,      0,      0],\n",
      "        [   232,   1700, 182799,   4043,   1324,    962,  11700,      0,    885],\n",
      "        [ 11012,   1021,   3545, 137033,   5405,    406,   7219,      0,   4073],\n",
      "        [   243,   1084,   1785,   1582, 165461,    494,      0,    132,   3083],\n",
      "        [     0,   1788,   8899,      0,      0, 169713,    160,     35,      0],\n",
      "        [  3772,   1294,  69890,  30051,   8670,   2794,  51504,      0,   1741],\n",
      "        [     0,    916,     34,      0,     65,     30,    107, 168218,      0],\n",
      "        [     0,    551,      8,    262,      0,      6,    182,      0, 209025]])\n"
     ]
    },
    {
     "name": "stderr",
     "output_type": "stream",
     "text": [
      "Metric Validation/Accuracy improved by 0.001 >= min_delta = 0.0. New best score: 0.916\n"
     ]
    },
    {
     "name": "stdout",
     "output_type": "stream",
     "text": [
      "Epoch end: Train, epoch number: 63\n",
      "TrainEpoch/CM\n",
      " tensor([[144778,   1004,   2611,  10253,    348,    432,    108,      0,   3770],\n",
      "        [    53, 209485,     54,      0,      0,    310,    136,      0,      0],\n",
      "        [   232,   1700, 182799,   4043,   1324,    962,  11700,      0,    885],\n",
      "        [ 11012,   1021,   3545, 137033,   5405,    406,   7219,      0,   4073],\n",
      "        [   243,   1084,   1785,   1582, 165461,    494,      0,    132,   3083],\n",
      "        [     0,   1788,   8899,      0,      0, 169713,    160,     35,      0],\n",
      "        [  3772,   1294,  69890,  30051,   8670,   2794,  51504,      0,   1741],\n",
      "        [     0,    916,     34,      0,     65,     30,    107, 168218,      0],\n",
      "        [     0,    551,      8,    262,      0,      6,    182,      0, 209025]])\n"
     ]
    },
    {
     "data": {
      "application/vnd.jupyter.widget-view+json": {
       "model_id": "52c3d116f49f4ba39fe2878fed28d55d",
       "version_major": 2,
       "version_minor": 0
      },
      "text/plain": [
       "Validation: |          | 0/? [00:00<?, ?it/s]"
      ]
     },
     "metadata": {},
     "output_type": "display_data"
    },
    {
     "name": "stdout",
     "output_type": "stream",
     "text": [
      "Epoch end: Validation, epoch number: 65\n",
      "ValidationEpoch/CM\n",
      " tensor([[147276,   1004,   2611,  10301,    348,    432,    112,      0,   3770],\n",
      "        [    53, 212760,     54,      0,      0,    315,    136,      0,      0],\n",
      "        [   232,   1700, 185567,   4086,   1336,    966,  12053,      0,    885],\n",
      "        [ 11065,   1021,   3545, 139418,   5429,    406,   7407,      0,   4073],\n",
      "        [   248,   1084,   1800,   1607, 168126,    494,      0,    137,   3083],\n",
      "        [     0,   1788,   8914,      0,      0, 172513,    165,     35,      0],\n",
      "        [  3808,   1294,  70607,  30411,   8735,   2814,  52956,      0,   1741],\n",
      "        [     0,    916,     34,      0,     65,     30,    107, 170863,      0],\n",
      "        [     0,    551,      8,    262,      0,      6,    187,      0, 212300]])\n"
     ]
    },
    {
     "name": "stderr",
     "output_type": "stream",
     "text": [
      "Metric Validation/Accuracy improved by 0.000 >= min_delta = 0.0. New best score: 0.916\n"
     ]
    },
    {
     "name": "stdout",
     "output_type": "stream",
     "text": [
      "Epoch end: Train, epoch number: 64\n",
      "TrainEpoch/CM\n",
      " tensor([[147276,   1004,   2611,  10301,    348,    432,    112,      0,   3770],\n",
      "        [    53, 212760,     54,      0,      0,    315,    136,      0,      0],\n",
      "        [   232,   1700, 185567,   4086,   1336,    966,  12053,      0,    885],\n",
      "        [ 11065,   1021,   3545, 139418,   5429,    406,   7407,      0,   4073],\n",
      "        [   248,   1084,   1800,   1607, 168126,    494,      0,    137,   3083],\n",
      "        [     0,   1788,   8914,      0,      0, 172513,    165,     35,      0],\n",
      "        [  3808,   1294,  70607,  30411,   8735,   2814,  52956,      0,   1741],\n",
      "        [     0,    916,     34,      0,     65,     30,    107, 170863,      0],\n",
      "        [     0,    551,      8,    262,      0,      6,    187,      0, 212300]])\n"
     ]
    },
    {
     "data": {
      "application/vnd.jupyter.widget-view+json": {
       "model_id": "7ce11816d71c4db7ad97a5df1a59c91c",
       "version_major": 2,
       "version_minor": 0
      },
      "text/plain": [
       "Validation: |          | 0/? [00:00<?, ?it/s]"
      ]
     },
     "metadata": {},
     "output_type": "display_data"
    },
    {
     "name": "stdout",
     "output_type": "stream",
     "text": [
      "Epoch end: Validation, epoch number: 66\n",
      "ValidationEpoch/CM\n",
      " tensor([[149777,   1004,   2611,  10346,    348,    432,    116,      0,   3770],\n",
      "        [    53, 216035,     54,      0,      0,    320,    136,      0,      0],\n",
      "        [   232,   1700, 188329,   4124,   1348,    966,  12421,      0,    885],\n",
      "        [ 11117,   1021,   3545, 141808,   5449,    406,   7595,      0,   4073],\n",
      "        [   251,   1084,   1815,   1631, 170794,    494,      0,    142,   3083],\n",
      "        [     0,   1788,   8925,      0,      0, 175317,    170,     35,      0],\n",
      "        [  3839,   1294,  71315,  30764,   8796,   2834,  54433,      0,   1741],\n",
      "        [     0,    916,     34,      0,     65,     30,    107, 173508,      0],\n",
      "        [     0,    551,      8,    262,      0,      6,    192,      0, 215575]])\n"
     ]
    },
    {
     "name": "stderr",
     "output_type": "stream",
     "text": [
      "Metric Validation/Accuracy improved by 0.001 >= min_delta = 0.0. New best score: 0.916\n"
     ]
    },
    {
     "name": "stdout",
     "output_type": "stream",
     "text": [
      "Epoch end: Train, epoch number: 65\n",
      "TrainEpoch/CM\n",
      " tensor([[149777,   1004,   2611,  10346,    348,    432,    116,      0,   3770],\n",
      "        [    53, 216035,     54,      0,      0,    320,    136,      0,      0],\n",
      "        [   232,   1700, 188329,   4124,   1348,    966,  12421,      0,    885],\n",
      "        [ 11117,   1021,   3545, 141808,   5449,    406,   7595,      0,   4073],\n",
      "        [   251,   1084,   1815,   1631, 170794,    494,      0,    142,   3083],\n",
      "        [     0,   1788,   8925,      0,      0, 175317,    170,     35,      0],\n",
      "        [  3839,   1294,  71315,  30764,   8796,   2834,  54433,      0,   1741],\n",
      "        [     0,    916,     34,      0,     65,     30,    107, 173508,      0],\n",
      "        [     0,    551,      8,    262,      0,      6,    192,      0, 215575]])\n"
     ]
    },
    {
     "data": {
      "application/vnd.jupyter.widget-view+json": {
       "model_id": "d9804e8bb48a4859a5dc0a95069494bb",
       "version_major": 2,
       "version_minor": 0
      },
      "text/plain": [
       "Validation: |          | 0/? [00:00<?, ?it/s]"
      ]
     },
     "metadata": {},
     "output_type": "display_data"
    },
    {
     "name": "stdout",
     "output_type": "stream",
     "text": [
      "Epoch end: Validation, epoch number: 67\n",
      "ValidationEpoch/CM\n",
      " tensor([[152274,   1004,   2611,  10396,    348,    432,    119,      0,   3770],\n",
      "        [    53, 219310,     54,      0,      0,    325,    136,      0,      0],\n",
      "        [   232,   1700, 191105,   4166,   1360,    966,  12771,      0,    885],\n",
      "        [ 11160,   1021,   3546, 144213,   5469,    406,   7776,      0,   4073],\n",
      "        [   256,   1084,   1830,   1655, 173460,    494,      0,    147,   3083],\n",
      "        [     0,   1788,   8935,      0,      0, 178122,    175,     35,      0],\n",
      "        [  3873,   1294,  72029,  31127,   8860,   2854,  55888,      0,   1741],\n",
      "        [     0,    916,     34,      0,     65,     30,    107, 176153,      0],\n",
      "        [     0,    551,      8,    262,      0,      6,    197,      0, 218850]])\n"
     ]
    },
    {
     "name": "stderr",
     "output_type": "stream",
     "text": [
      "Metric Validation/Accuracy improved by 0.000 >= min_delta = 0.0. New best score: 0.917\n"
     ]
    },
    {
     "name": "stdout",
     "output_type": "stream",
     "text": [
      "Epoch end: Train, epoch number: 66\n",
      "TrainEpoch/CM\n",
      " tensor([[152274,   1004,   2611,  10396,    348,    432,    119,      0,   3770],\n",
      "        [    53, 219310,     54,      0,      0,    325,    136,      0,      0],\n",
      "        [   232,   1700, 191105,   4166,   1360,    966,  12771,      0,    885],\n",
      "        [ 11160,   1021,   3546, 144213,   5469,    406,   7776,      0,   4073],\n",
      "        [   256,   1084,   1830,   1655, 173460,    494,      0,    147,   3083],\n",
      "        [     0,   1788,   8935,      0,      0, 178122,    175,     35,      0],\n",
      "        [  3873,   1294,  72029,  31127,   8860,   2854,  55888,      0,   1741],\n",
      "        [     0,    916,     34,      0,     65,     30,    107, 176153,      0],\n",
      "        [     0,    551,      8,    262,      0,      6,    197,      0, 218850]])\n"
     ]
    },
    {
     "data": {
      "application/vnd.jupyter.widget-view+json": {
       "model_id": "7a2a1cabb0f946f5a43da7355ead8fe8",
       "version_major": 2,
       "version_minor": 0
      },
      "text/plain": [
       "Validation: |          | 0/? [00:00<?, ?it/s]"
      ]
     },
     "metadata": {},
     "output_type": "display_data"
    },
    {
     "name": "stdout",
     "output_type": "stream",
     "text": [
      "Epoch end: Validation, epoch number: 68\n",
      "ValidationEpoch/CM\n",
      " tensor([[154773,   1004,   2611,  10445,    348,    432,    121,      0,   3770],\n",
      "        [    53, 222585,     54,      0,      0,    330,    136,      0,      0],\n",
      "        [   232,   1700, 193881,   4204,   1372,    966,  13125,      0,    885],\n",
      "        [ 11206,   1021,   3548, 146621,   5489,    406,   7950,      0,   4073],\n",
      "        [   259,   1084,   1845,   1681, 176126,    494,      0,    152,   3083],\n",
      "        [     0,   1788,   8948,      0,      0, 180924,    180,     35,      0],\n",
      "        [  3904,   1294,  72751,  31489,   8921,   2874,  57342,      0,   1741],\n",
      "        [     0,    916,     34,      0,     65,     30,    107, 178798,      0],\n",
      "        [     0,    551,      8,    262,      0,      6,    202,      0, 222125]])\n",
      "Epoch end: Train, epoch number: 67\n",
      "TrainEpoch/CM\n",
      " "
     ]
    },
    {
     "name": "stderr",
     "output_type": "stream",
     "text": [
      "Metric Validation/Accuracy improved by 0.002 >= min_delta = 0.0. New best score: 0.919\n"
     ]
    },
    {
     "name": "stdout",
     "output_type": "stream",
     "text": [
      "tensor([[154773,   1004,   2611,  10445,    348,    432,    121,      0,   3770],\n",
      "        [    53, 222585,     54,      0,      0,    330,    136,      0,      0],\n",
      "        [   232,   1700, 193881,   4204,   1372,    966,  13125,      0,    885],\n",
      "        [ 11206,   1021,   3548, 146621,   5489,    406,   7950,      0,   4073],\n",
      "        [   259,   1084,   1845,   1681, 176126,    494,      0,    152,   3083],\n",
      "        [     0,   1788,   8948,      0,      0, 180924,    180,     35,      0],\n",
      "        [  3904,   1294,  72751,  31489,   8921,   2874,  57342,      0,   1741],\n",
      "        [     0,    916,     34,      0,     65,     30,    107, 178798,      0],\n",
      "        [     0,    551,      8,    262,      0,      6,    202,      0, 222125]])\n"
     ]
    },
    {
     "data": {
      "application/vnd.jupyter.widget-view+json": {
       "model_id": "2b13d70cf1a64711985987109df88991",
       "version_major": 2,
       "version_minor": 0
      },
      "text/plain": [
       "Validation: |          | 0/? [00:00<?, ?it/s]"
      ]
     },
     "metadata": {},
     "output_type": "display_data"
    },
    {
     "name": "stdout",
     "output_type": "stream",
     "text": [
      "Epoch end: Validation, epoch number: 69\n",
      "ValidationEpoch/CM\n",
      " tensor([[157271,   1004,   2611,  10494,    348,    432,    124,      0,   3770],\n",
      "        [    53, 225860,     54,      0,      0,    335,    136,      0,      0],\n",
      "        [   232,   1700, 196653,   4244,   1384,    966,  13481,      0,    885],\n",
      "        [ 11247,   1021,   3548, 149040,   5509,    406,   8120,      0,   4073],\n",
      "        [   263,   1084,   1860,   1704, 178799,    494,      0,    152,   3083],\n",
      "        [     0,   1788,   8958,      0,      0, 183729,    185,     35,      0],\n",
      "        [  3934,   1294,  73446,  31852,   8983,   2894,  58822,      0,   1741],\n",
      "        [     0,    916,     34,      0,     65,     30,    107, 181443,      0],\n",
      "        [     0,    551,      8,    262,      0,      6,    207,      0, 225400]])\n",
      "Epoch end: Train, epoch number: 68\n",
      "TrainEpoch/CM\n",
      " tensor([[157271,   1004,   2611,  10494,    348,    432,    124,      0,   3770],\n",
      "        [    53, 225860,     54,      0,      0,    335,    136,      0,      0],\n",
      "        [   232,   1700, 196653,   4244,   1384,    966,  13481,      0,    885],\n",
      "        [ 11247,   1021,   3548, 149040,   5509,    406,   8120,      0,   4073],\n",
      "        [   263,   1084,   1860,   1704, 178799,    494,      0,    152,   3083],\n",
      "        [     0,   1788,   8958,      0,      0, 183729,    185,     35,      0],\n",
      "        [  3934,   1294,  73446,  31852,   8983,   2894,  58822,      0,   1741],\n",
      "        [     0,    916,     34,      0,     65,     30,    107, 181443,      0],\n",
      "        [     0,    551,      8,    262,      0,      6,    207,      0, 225400]])\n"
     ]
    },
    {
     "name": "stderr",
     "output_type": "stream",
     "text": [
      "Metric Validation/Accuracy improved by 0.003 >= min_delta = 0.0. New best score: 0.922\n"
     ]
    },
    {
     "data": {
      "application/vnd.jupyter.widget-view+json": {
       "model_id": "758056f315304e4481710709f78254c8",
       "version_major": 2,
       "version_minor": 0
      },
      "text/plain": [
       "Validation: |          | 0/? [00:00<?, ?it/s]"
      ]
     },
     "metadata": {},
     "output_type": "display_data"
    },
    {
     "name": "stdout",
     "output_type": "stream",
     "text": [
      "Epoch end: Validation, epoch number: 70\n",
      "ValidationEpoch/CM\n",
      " tensor([[159768,   1004,   2611,  10543,    348,    432,    128,      0,   3770],\n",
      "        [    53, 229135,     54,      0,      0,    340,    136,      0,      0],\n",
      "        [   232,   1700, 199406,   4281,   1396,    966,  13859,      0,    885],\n",
      "        [ 11280,   1021,   3548, 151458,   5529,    406,   8299,      0,   4073],\n",
      "        [   268,   1084,   1875,   1729, 181469,    494,      0,    152,   3083],\n",
      "        [     0,   1788,   8968,      0,      0, 186534,    190,     35,      0],\n",
      "        [  3957,   1294,  74115,  32197,   9040,   2914,  60358,      0,   1741],\n",
      "        [     0,    916,     34,      0,     65,     30,    107, 184088,      0],\n",
      "        [     0,    551,      8,    262,      0,      6,    212,      0, 228675]])\n",
      "Epoch end: Train, epoch number: 69\n",
      "TrainEpoch/CM\n",
      " tensor([[159768,   1004,   2611,  10543,    348,    432,    128,      0,   3770],\n",
      "        [    53, 229135,     54,      0,      0,    340,    136,      0,      0],\n",
      "        [   232,   1700, 199406,   4281,   1396,    966,  13859,      0,    885],\n",
      "        [ 11280,   1021,   3548, 151458,   5529,    406,   8299,      0,   4073],\n",
      "        [   268,   1084,   1875,   1729, 181469,    494,      0,    152,   3083],\n",
      "        [     0,   1788,   8968,      0,      0, 186534,    190,     35,      0],\n",
      "        [  3957,   1294,  74115,  32197,   9040,   2914,  60358,      0,   1741],\n",
      "        [     0,    916,     34,      0,     65,     30,    107, 184088,      0],\n",
      "        [     0,    551,      8,    262,      0,      6,    212,      0, 228675]])\n"
     ]
    },
    {
     "name": "stderr",
     "output_type": "stream",
     "text": [
      "Metric Validation/Accuracy improved by 0.000 >= min_delta = 0.0. New best score: 0.922\n"
     ]
    },
    {
     "data": {
      "application/vnd.jupyter.widget-view+json": {
       "model_id": "fe87ae2fb693493d85a93d6042c72358",
       "version_major": 2,
       "version_minor": 0
      },
      "text/plain": [
       "Validation: |          | 0/? [00:00<?, ?it/s]"
      ]
     },
     "metadata": {},
     "output_type": "display_data"
    },
    {
     "name": "stdout",
     "output_type": "stream",
     "text": [
      "Epoch end: Validation, epoch number: 71\n",
      "ValidationEpoch/CM\n",
      " tensor([[162268,   1004,   2611,  10589,    348,    432,    132,      0,   3770],\n",
      "        [    53, 232410,     54,      0,      0,    345,    136,      0,      0],\n",
      "        [   232,   1700, 202151,   4317,   1408,    966,  14246,      0,    885],\n",
      "        [ 11317,   1021,   3548, 153881,   5549,    406,   8469,      0,   4073],\n",
      "        [   273,   1084,   1890,   1755, 184138,    494,      0,    152,   3083],\n",
      "        [     0,   1788,   8978,      0,      0, 189339,    195,     35,      0],\n",
      "        [  3982,   1294,  74780,  32545,   9098,   2934,  61892,      0,   1741],\n",
      "        [     0,    916,     34,      0,     65,     30,    107, 186733,      0],\n",
      "        [     0,    551,      8,    262,      0,      6,    217,      0, 231950]])\n",
      "Epoch end: Train, epoch number: 70\n",
      "TrainEpoch/CM\n",
      " tensor([[162268,   1004,   2611,  10589,    348,    432,    132,      0,   3770],\n",
      "        [    53, 232410,     54,      0,      0,    345,    136,      0,      0],\n",
      "        [   232,   1700, 202151,   4317,   1408,    966,  14246,      0,    885],\n",
      "        [ 11317,   1021,   3548, 153881,   5549,    406,   8469,      0,   4073],\n",
      "        [   273,   1084,   1890,   1755, 184138,    494,      0,    152,   3083],\n",
      "        [     0,   1788,   8978,      0,      0, 189339,    195,     35,      0],\n",
      "        [  3982,   1294,  74780,  32545,   9098,   2934,  61892,      0,   1741],\n",
      "        [     0,    916,     34,      0,     65,     30,    107, 186733,      0],\n",
      "        [     0,    551,      8,    262,      0,      6,    217,      0, 231950]])\n"
     ]
    },
    {
     "data": {
      "application/vnd.jupyter.widget-view+json": {
       "model_id": "7889c1a26ccd4385aca5f5ce22fd2033",
       "version_major": 2,
       "version_minor": 0
      },
      "text/plain": [
       "Validation: |          | 0/? [00:00<?, ?it/s]"
      ]
     },
     "metadata": {},
     "output_type": "display_data"
    },
    {
     "name": "stdout",
     "output_type": "stream",
     "text": [
      "Epoch end: Validation, epoch number: 72\n",
      "ValidationEpoch/CM\n",
      " tensor([[164777,   1004,   2611,  10627,    348,    432,    135,      0,   3770],\n",
      "        [    53, 235685,     54,      0,      0,    350,    136,      0,      0],\n",
      "        [   232,   1700, 204914,   4353,   1420,    966,  14615,      0,    885],\n",
      "        [ 11351,   1021,   3548, 156311,   5569,    406,   8635,      0,   4073],\n",
      "        [   278,   1084,   1905,   1777, 186811,    494,      0,    152,   3083],\n",
      "        [     0,   1788,   8988,      0,      0, 192144,    200,     35,      0],\n",
      "        [  4007,   1294,  75459,  32891,   9158,   2954,  63412,      0,   1741],\n",
      "        [     0,    916,     34,      0,     65,     30,    107, 189378,      0],\n",
      "        [     0,    551,      8,    262,      0,      6,    222,      0, 235225]])\n",
      "Epoch end: Train, epoch number: 71\n",
      "TrainEpoch/CM\n",
      " tensor([[164777,   1004,   2611,  10627,    348,    432,    135,      0,   3770],\n",
      "        [    53, 235685,     54,      0,      0,    350,    136,      0,      0],\n",
      "        [   232,   1700, 204914,   4353,   1420,    966,  14615,      0,    885],\n",
      "        [ 11351,   1021,   3548, 156311,   5569,    406,   8635,      0,   4073],\n",
      "        [   278,   1084,   1905,   1777, 186811,    494,      0,    152,   3083],\n",
      "        [     0,   1788,   8988,      0,      0, 192144,    200,     35,      0],\n",
      "        [  4007,   1294,  75459,  32891,   9158,   2954,  63412,      0,   1741],\n",
      "        [     0,    916,     34,      0,     65,     30,    107, 189378,      0],\n",
      "        [     0,    551,      8,    262,      0,      6,    222,      0, 235225]])\n"
     ]
    },
    {
     "data": {
      "application/vnd.jupyter.widget-view+json": {
       "model_id": "4435b759468d4f0fa52ca0674ff01d6b",
       "version_major": 2,
       "version_minor": 0
      },
      "text/plain": [
       "Validation: |          | 0/? [00:00<?, ?it/s]"
      ]
     },
     "metadata": {},
     "output_type": "display_data"
    },
    {
     "name": "stdout",
     "output_type": "stream",
     "text": [
      "Epoch end: Validation, epoch number: 73\n",
      "ValidationEpoch/CM\n",
      " tensor([[167280,   1004,   2611,  10670,    348,    432,    139,      0,   3770],\n",
      "        [    53, 238960,     54,      0,      0,    355,    136,      0,      0],\n",
      "        [   232,   1700, 207677,   4390,   1432,    966,  14983,      0,    885],\n",
      "        [ 11387,   1021,   3548, 158732,   5589,    406,   8808,      0,   4073],\n",
      "        [   283,   1084,   1920,   1801, 189482,    494,      0,    152,   3083],\n",
      "        [     0,   1788,   8998,      0,      0, 194949,    205,     35,      0],\n",
      "        [  4030,   1294,  76133,  33233,   9209,   2974,  64952,      0,   1741],\n",
      "        [     0,    916,     34,      0,     65,     30,    107, 192023,      0],\n",
      "        [     0,    551,      8,    262,      0,      6,    227,      0, 238500]])\n",
      "Epoch end: Train, epoch number: 72\n",
      "TrainEpoch/CM\n",
      " tensor([[167280,   1004,   2611,  10670,    348,    432,    139,      0,   3770],\n",
      "        [    53, 238960,     54,      0,      0,    355,    136,      0,      0],\n",
      "        [   232,   1700, 207677,   4390,   1432,    966,  14983,      0,    885],\n",
      "        [ 11387,   1021,   3548, 158732,   5589,    406,   8808,      0,   4073],\n",
      "        [   283,   1084,   1920,   1801, 189482,    494,      0,    152,   3083],\n",
      "        [     0,   1788,   8998,      0,      0, 194949,    205,     35,      0],\n",
      "        [  4030,   1294,  76133,  33233,   9209,   2974,  64952,      0,   1741],\n",
      "        [     0,    916,     34,      0,     65,     30,    107, 192023,      0],\n",
      "        [     0,    551,      8,    262,      0,      6,    227,      0, 238500]])\n"
     ]
    },
    {
     "data": {
      "application/vnd.jupyter.widget-view+json": {
       "model_id": "f7ccc173dc1d44669411f06024f3c940",
       "version_major": 2,
       "version_minor": 0
      },
      "text/plain": [
       "Validation: |          | 0/? [00:00<?, ?it/s]"
      ]
     },
     "metadata": {},
     "output_type": "display_data"
    },
    {
     "name": "stdout",
     "output_type": "stream",
     "text": [
      "Epoch end: Validation, epoch number: 74\n",
      "ValidationEpoch/CM\n",
      " tensor([[169781,   1004,   2611,  10715,    348,    432,    143,      0,   3770],\n",
      "        [    53, 242235,     54,      0,      0,    360,    136,      0,      0],\n",
      "        [   232,   1700, 210450,   4426,   1444,    966,  15342,      0,    885],\n",
      "        [ 11417,   1021,   3548, 161174,   5609,    406,   8966,      0,   4073],\n",
      "        [   288,   1084,   1935,   1823, 192155,    494,      0,    152,   3083],\n",
      "        [     0,   1788,   9008,      0,      0, 197754,    210,     35,      0],\n",
      "        [  4051,   1294,  76811,  33584,   9266,   2994,  66475,      0,   1741],\n",
      "        [     0,    916,     34,      0,     65,     30,    107, 194668,      0],\n",
      "        [     0,    551,      8,    262,      0,      6,    232,      0, 241775]])\n"
     ]
    },
    {
     "name": "stderr",
     "output_type": "stream",
     "text": [
      "Metric Validation/Accuracy improved by 0.000 >= min_delta = 0.0. New best score: 0.922\n"
     ]
    },
    {
     "name": "stdout",
     "output_type": "stream",
     "text": [
      "Epoch end: Train, epoch number: 73\n",
      "TrainEpoch/CM\n",
      " tensor([[169781,   1004,   2611,  10715,    348,    432,    143,      0,   3770],\n",
      "        [    53, 242235,     54,      0,      0,    360,    136,      0,      0],\n",
      "        [   232,   1700, 210450,   4426,   1444,    966,  15342,      0,    885],\n",
      "        [ 11417,   1021,   3548, 161174,   5609,    406,   8966,      0,   4073],\n",
      "        [   288,   1084,   1935,   1823, 192155,    494,      0,    152,   3083],\n",
      "        [     0,   1788,   9008,      0,      0, 197754,    210,     35,      0],\n",
      "        [  4051,   1294,  76811,  33584,   9266,   2994,  66475,      0,   1741],\n",
      "        [     0,    916,     34,      0,     65,     30,    107, 194668,      0],\n",
      "        [     0,    551,      8,    262,      0,      6,    232,      0, 241775]])\n"
     ]
    },
    {
     "data": {
      "application/vnd.jupyter.widget-view+json": {
       "model_id": "085dd7ef850f49a89ce9665e38409796",
       "version_major": 2,
       "version_minor": 0
      },
      "text/plain": [
       "Validation: |          | 0/? [00:00<?, ?it/s]"
      ]
     },
     "metadata": {},
     "output_type": "display_data"
    },
    {
     "name": "stdout",
     "output_type": "stream",
     "text": [
      "Epoch end: Validation, epoch number: 75\n",
      "ValidationEpoch/CM\n",
      " tensor([[172284,   1004,   2611,  10759,    348,    432,    146,      0,   3770],\n",
      "        [    53, 245510,     54,      0,      0,    365,    136,      0,      0],\n",
      "        [   232,   1700, 213210,   4462,   1456,    966,  15714,      0,    885],\n",
      "        [ 11449,   1021,   3548, 163605,   5629,    406,   9133,      0,   4073],\n",
      "        [   293,   1084,   1950,   1845, 194828,    494,      0,    152,   3083],\n",
      "        [     0,   1788,   9018,      0,      0, 200559,    215,     35,      0],\n",
      "        [  4073,   1294,  77478,  33919,   9322,   3014,  68025,      0,   1741],\n",
      "        [     0,    916,     34,      0,     65,     30,    107, 197313,      0],\n",
      "        [     0,    551,      8,    262,      0,      6,    237,      0, 245050]])\n",
      "Epoch end: Train, epoch number: 74\n"
     ]
    },
    {
     "name": "stderr",
     "output_type": "stream",
     "text": [
      "Metric Validation/Accuracy improved by 0.001 >= min_delta = 0.0. New best score: 0.923\n"
     ]
    },
    {
     "name": "stdout",
     "output_type": "stream",
     "text": [
      "TrainEpoch/CM\n",
      " tensor([[172284,   1004,   2611,  10759,    348,    432,    146,      0,   3770],\n",
      "        [    53, 245510,     54,      0,      0,    365,    136,      0,      0],\n",
      "        [   232,   1700, 213210,   4462,   1456,    966,  15714,      0,    885],\n",
      "        [ 11449,   1021,   3548, 163605,   5629,    406,   9133,      0,   4073],\n",
      "        [   293,   1084,   1950,   1845, 194828,    494,      0,    152,   3083],\n",
      "        [     0,   1788,   9018,      0,      0, 200559,    215,     35,      0],\n",
      "        [  4073,   1294,  77478,  33919,   9322,   3014,  68025,      0,   1741],\n",
      "        [     0,    916,     34,      0,     65,     30,    107, 197313,      0],\n",
      "        [     0,    551,      8,    262,      0,      6,    237,      0, 245050]])\n"
     ]
    },
    {
     "data": {
      "application/vnd.jupyter.widget-view+json": {
       "model_id": "9f5a8d3fdf824ef793c9dce6ef24c43d",
       "version_major": 2,
       "version_minor": 0
      },
      "text/plain": [
       "Validation: |          | 0/? [00:00<?, ?it/s]"
      ]
     },
     "metadata": {},
     "output_type": "display_data"
    },
    {
     "name": "stdout",
     "output_type": "stream",
     "text": [
      "Epoch end: Validation, epoch number: 76\n",
      "ValidationEpoch/CM\n",
      " tensor([[174791,   1004,   2611,  10797,    348,    432,    151,      0,   3770],\n",
      "        [    53, 248785,     54,      0,      0,    370,    136,      0,      0],\n",
      "        [   232,   1700, 215969,   4498,   1468,    966,  16087,      0,    885],\n",
      "        [ 11479,   1021,   3548, 166037,   5649,    406,   9301,      0,   4073],\n",
      "        [   298,   1084,   1965,   1867, 197501,    494,      0,    152,   3083],\n",
      "        [     0,   1788,   9028,      0,      0, 203364,    220,     35,      0],\n",
      "        [  4091,   1294,  78127,  34251,   9368,   3034,  69610,      0,   1741],\n",
      "        [     0,    916,     34,      0,     65,     30,    107, 199958,      0],\n",
      "        [     0,    551,      8,    262,      0,      6,    242,      0, 248325]])\n",
      "Epoch end: Train, epoch number: 75\n",
      "TrainEpoch/CM\n",
      " tensor([[174791,   1004,   2611,  10797,    348,    432,    151,      0,   3770],\n",
      "        [    53, 248785,     54,      0,      0,    370,    136,      0,      0],\n",
      "        [   232,   1700, 215969,   4498,   1468,    966,  16087,      0,    885],\n",
      "        [ 11479,   1021,   3548, 166037,   5649,    406,   9301,      0,   4073],\n",
      "        [   298,   1084,   1965,   1867, 197501,    494,      0,    152,   3083],\n",
      "        [     0,   1788,   9028,      0,      0, 203364,    220,     35,      0],\n",
      "        [  4091,   1294,  78127,  34251,   9368,   3034,  69610,      0,   1741],\n",
      "        [     0,    916,     34,      0,     65,     30,    107, 199958,      0],\n",
      "        [     0,    551,      8,    262,      0,      6,    242,      0, 248325]])\n"
     ]
    },
    {
     "data": {
      "application/vnd.jupyter.widget-view+json": {
       "model_id": "6f7e2532abae4069b417af036e2c2d8e",
       "version_major": 2,
       "version_minor": 0
      },
      "text/plain": [
       "Validation: |          | 0/? [00:00<?, ?it/s]"
      ]
     },
     "metadata": {},
     "output_type": "display_data"
    },
    {
     "name": "stdout",
     "output_type": "stream",
     "text": [
      "Epoch end: Validation, epoch number: 77\n",
      "ValidationEpoch/CM\n",
      " tensor([[177302,   1004,   2611,  10832,    348,    432,    155,      0,   3770],\n",
      "        [    53, 252060,     54,      0,      0,    375,    136,      0,      0],\n",
      "        [   232,   1700, 218731,   4534,   1480,    966,  16457,      0,    885],\n",
      "        [ 11514,   1021,   3548, 168471,   5669,    406,   9462,      0,   4073],\n",
      "        [   303,   1084,   1980,   1890, 200173,    494,      0,    152,   3083],\n",
      "        [     0,   1788,   9038,      0,      0, 206169,    225,     35,      0],\n",
      "        [  4105,   1294,  78782,  34586,   9421,   3054,  71183,      0,   1741],\n",
      "        [     0,    916,     34,      0,     65,     30,    107, 202603,      0],\n",
      "        [     0,    551,      8,    262,      0,      6,    247,      0, 251600]])\n",
      "Epoch end: Train, epoch number: 76\n"
     ]
    },
    {
     "name": "stderr",
     "output_type": "stream",
     "text": [
      "Metric Validation/Accuracy improved by 0.000 >= min_delta = 0.0. New best score: 0.924\n"
     ]
    },
    {
     "name": "stdout",
     "output_type": "stream",
     "text": [
      "TrainEpoch/CM\n",
      " tensor([[177302,   1004,   2611,  10832,    348,    432,    155,      0,   3770],\n",
      "        [    53, 252060,     54,      0,      0,    375,    136,      0,      0],\n",
      "        [   232,   1700, 218731,   4534,   1480,    966,  16457,      0,    885],\n",
      "        [ 11514,   1021,   3548, 168471,   5669,    406,   9462,      0,   4073],\n",
      "        [   303,   1084,   1980,   1890, 200173,    494,      0,    152,   3083],\n",
      "        [     0,   1788,   9038,      0,      0, 206169,    225,     35,      0],\n",
      "        [  4105,   1294,  78782,  34586,   9421,   3054,  71183,      0,   1741],\n",
      "        [     0,    916,     34,      0,     65,     30,    107, 202603,      0],\n",
      "        [     0,    551,      8,    262,      0,      6,    247,      0, 251600]])\n"
     ]
    },
    {
     "data": {
      "application/vnd.jupyter.widget-view+json": {
       "model_id": "9e7d0467f3a34610a610d527614eb631",
       "version_major": 2,
       "version_minor": 0
      },
      "text/plain": [
       "Validation: |          | 0/? [00:00<?, ?it/s]"
      ]
     },
     "metadata": {},
     "output_type": "display_data"
    },
    {
     "name": "stdout",
     "output_type": "stream",
     "text": [
      "Epoch end: Validation, epoch number: 78\n",
      "ValidationEpoch/CM\n",
      " tensor([[179818,   1004,   2611,  10865,    348,    432,    156,      0,   3770],\n",
      "        [    53, 255335,     54,      0,      0,    380,    136,      0,      0],\n",
      "        [   232,   1700, 221500,   4570,   1492,    966,  16820,      0,    885],\n",
      "        [ 11547,   1021,   3548, 170898,   5689,    406,   9632,      0,   4073],\n",
      "        [   308,   1084,   1995,   1914, 202844,    494,      0,    152,   3083],\n",
      "        [     0,   1788,   9048,      0,      0, 208974,    230,     35,      0],\n",
      "        [  4123,   1294,  79450,  34914,   9468,   3074,  72752,      0,   1741],\n",
      "        [     0,    916,     34,      0,     65,     30,    107, 205248,      0],\n",
      "        [     0,    551,      8,    262,      0,      6,    252,      0, 254875]])\n",
      "Epoch end: Train, epoch number: 77\n",
      "TrainEpoch/CM\n",
      " tensor([[179818,   1004,   2611,  10865,    348,    432,    156,      0,   3770],\n",
      "        [    53, 255335,     54,      0,      0,    380,    136,      0,      0],\n",
      "        [   232,   1700, 221500,   4570,   1492,    966,  16820,      0,    885],\n",
      "        [ 11547,   1021,   3548, 170898,   5689,    406,   9632,      0,   4073],\n",
      "        [   308,   1084,   1995,   1914, 202844,    494,      0,    152,   3083],\n",
      "        [     0,   1788,   9048,      0,      0, 208974,    230,     35,      0],\n",
      "        [  4123,   1294,  79450,  34914,   9468,   3074,  72752,      0,   1741],\n",
      "        [     0,    916,     34,      0,     65,     30,    107, 205248,      0],\n",
      "        [     0,    551,      8,    262,      0,      6,    252,      0, 254875]])\n"
     ]
    },
    {
     "data": {
      "application/vnd.jupyter.widget-view+json": {
       "model_id": "16d5b180de9249418390599bb738e84a",
       "version_major": 2,
       "version_minor": 0
      },
      "text/plain": [
       "Validation: |          | 0/? [00:00<?, ?it/s]"
      ]
     },
     "metadata": {},
     "output_type": "display_data"
    },
    {
     "name": "stdout",
     "output_type": "stream",
     "text": [
      "Epoch end: Validation, epoch number: 79\n",
      "ValidationEpoch/CM\n",
      " tensor([[182328,   1004,   2611,  10902,    348,    432,    159,      0,   3770],\n",
      "        [    53, 258610,     54,      0,      0,    385,    136,      0,      0],\n",
      "        [   232,   1700, 224258,   4606,   1504,    966,  17194,      0,    885],\n",
      "        [ 11577,   1021,   3548, 173346,   5707,    406,   9786,      0,   4073],\n",
      "        [   313,   1084,   2010,   1936, 205517,    494,      0,    152,   3083],\n",
      "        [     0,   1788,   9058,      0,      0, 211779,    235,     35,      0],\n",
      "        [  4138,   1294,  80094,  35252,   9519,   3094,  74334,      0,   1741],\n",
      "        [     0,    916,     34,      0,     65,     30,    107, 207893,      0],\n",
      "        [     0,    551,      8,    262,      0,      6,    257,      0, 258150]])\n",
      "Epoch end: Train, epoch number: 78\n",
      "TrainEpoch/CM\n",
      " tensor([[182328,   1004,   2611,  10902,    348,    432,    159,      0,   3770],\n",
      "        [    53, 258610,     54,      0,      0,    385,    136,      0,      0],\n",
      "        [   232,   1700, 224258,   4606,   1504,    966,  17194,      0,    885],\n",
      "        [ 11577,   1021,   3548, 173346,   5707,    406,   9786,      0,   4073],\n",
      "        [   313,   1084,   2010,   1936, 205517,    494,      0,    152,   3083],\n",
      "        [     0,   1788,   9058,      0,      0, 211779,    235,     35,      0],\n",
      "        [  4138,   1294,  80094,  35252,   9519,   3094,  74334,      0,   1741],\n",
      "        [     0,    916,     34,      0,     65,     30,    107, 207893,      0],\n",
      "        [     0,    551,      8,    262,      0,      6,    257,      0, 258150]])\n"
     ]
    },
    {
     "data": {
      "application/vnd.jupyter.widget-view+json": {
       "model_id": "debe4983631f4542bfeabcfcc10ff08a",
       "version_major": 2,
       "version_minor": 0
      },
      "text/plain": [
       "Validation: |          | 0/? [00:00<?, ?it/s]"
      ]
     },
     "metadata": {},
     "output_type": "display_data"
    },
    {
     "name": "stdout",
     "output_type": "stream",
     "text": [
      "Epoch end: Validation, epoch number: 80\n",
      "ValidationEpoch/CM\n",
      " tensor([[184841,   1004,   2611,  10937,    348,    432,    161,      0,   3770],\n",
      "        [    53, 261885,     54,      0,      0,    390,    136,      0,      0],\n",
      "        [   232,   1700, 227003,   4642,   1516,    966,  17581,      0,    885],\n",
      "        [ 11607,   1021,   3548, 175799,   5722,    406,   9938,      0,   4073],\n",
      "        [   318,   1084,   2025,   1956, 208192,    494,      0,    152,   3083],\n",
      "        [     0,   1788,   9068,      0,      0, 214584,    240,     35,      0],\n",
      "        [  4151,   1294,  80709,  35587,   9564,   3114,  75956,      0,   1741],\n",
      "        [     0,    916,     34,      0,     65,     30,    107, 210538,      0],\n",
      "        [     0,    551,      8,    262,      0,      6,    262,      0, 261425]])\n",
      "Epoch end: Train, epoch number: 79\n",
      "TrainEpoch/CM\n",
      " tensor([[184841,   1004,   2611,  10937,    348,    432,    161,      0,   3770],\n",
      "        [    53, 261885,     54,      0,      0,    390,    136,      0,      0],\n",
      "        [   232,   1700, 227003,   4642,   1516,    966,  17581,      0,    885],\n",
      "        [ 11607,   1021,   3548, 175799,   5722,    406,   9938,      0,   4073],\n",
      "        [   318,   1084,   2025,   1956, 208192,    494,      0,    152,   3083],\n",
      "        [     0,   1788,   9068,      0,      0, 214584,    240,     35,      0],\n",
      "        [  4151,   1294,  80709,  35587,   9564,   3114,  75956,      0,   1741],\n",
      "        [     0,    916,     34,      0,     65,     30,    107, 210538,      0],\n",
      "        [     0,    551,      8,    262,      0,      6,    262,      0, 261425]])\n"
     ]
    },
    {
     "name": "stderr",
     "output_type": "stream",
     "text": [
      "Metric Validation/Accuracy improved by 0.003 >= min_delta = 0.0. New best score: 0.927\n"
     ]
    },
    {
     "data": {
      "application/vnd.jupyter.widget-view+json": {
       "model_id": "a3959bbc79864f4fbe1608da6aa3c99d",
       "version_major": 2,
       "version_minor": 0
      },
      "text/plain": [
       "Validation: |          | 0/? [00:00<?, ?it/s]"
      ]
     },
     "metadata": {},
     "output_type": "display_data"
    },
    {
     "name": "stdout",
     "output_type": "stream",
     "text": [
      "Epoch end: Validation, epoch number: 81\n",
      "ValidationEpoch/CM\n",
      " tensor([[187356,   1004,   2611,  10969,    348,    432,    164,      0,   3770],\n",
      "        [    53, 265160,     54,      0,      0,    395,    136,      0,      0],\n",
      "        [   232,   1700, 229763,   4678,   1528,    966,  17953,      0,    885],\n",
      "        [ 11637,   1021,   3548, 178245,   5742,    406,  10092,      0,   4073],\n",
      "        [   323,   1084,   2040,   1977, 210866,    494,      0,    152,   3083],\n",
      "        [     0,   1788,   9078,      0,      0, 217389,    245,     35,      0],\n",
      "        [  4165,   1294,  81356,  35915,   9609,   3134,  77552,      0,   1741],\n",
      "        [     0,    916,     34,      0,     65,     30,    107, 213183,      0],\n",
      "        [     0,    551,      8,    262,      0,      6,    267,      0, 264700]])\n",
      "Epoch end: Train, epoch number: 80\n",
      "TrainEpoch/CM\n",
      " tensor([[187356,   1004,   2611,  10969,    348,    432,    164,      0,   3770],\n",
      "        [    53, 265160,     54,      0,      0,    395,    136,      0,      0],\n",
      "        [   232,   1700, 229763,   4678,   1528,    966,  17953,      0,    885],\n",
      "        [ 11637,   1021,   3548, 178245,   5742,    406,  10092,      0,   4073],\n",
      "        [   323,   1084,   2040,   1977, 210866,    494,      0,    152,   3083],\n",
      "        [     0,   1788,   9078,      0,      0, 217389,    245,     35,      0],\n",
      "        [  4165,   1294,  81356,  35915,   9609,   3134,  77552,      0,   1741],\n",
      "        [     0,    916,     34,      0,     65,     30,    107, 213183,      0],\n",
      "        [     0,    551,      8,    262,      0,      6,    267,      0, 264700]])\n"
     ]
    },
    {
     "data": {
      "application/vnd.jupyter.widget-view+json": {
       "model_id": "8ef380bc1d5f48a28336abcf3195cec2",
       "version_major": 2,
       "version_minor": 0
      },
      "text/plain": [
       "Validation: |          | 0/? [00:00<?, ?it/s]"
      ]
     },
     "metadata": {},
     "output_type": "display_data"
    },
    {
     "name": "stdout",
     "output_type": "stream",
     "text": [
      "Epoch end: Validation, epoch number: 82\n",
      "ValidationEpoch/CM\n",
      " tensor([[189869,   1004,   2611,  11003,    348,    432,    167,      0,   3770],\n",
      "        [    53, 268435,     54,      0,      0,    400,    136,      0,      0],\n",
      "        [   232,   1700, 232525,   4714,   1540,    966,  18323,      0,    885],\n",
      "        [ 11664,   1021,   3548, 180699,   5761,    406,  10242,      0,   4073],\n",
      "        [   328,   1084,   2055,   2000, 213538,    494,      0,    152,   3083],\n",
      "        [     0,   1788,   9088,      0,      0, 220194,    250,     35,      0],\n",
      "        [  4181,   1294,  82001,  36254,   9660,   3154,  79131,      0,   1741],\n",
      "        [     0,    916,     34,      0,     65,     30,    107, 215828,      0],\n",
      "        [     0,    551,      8,    262,      0,      6,    272,      0, 267975]])\n",
      "Epoch end: Train, epoch number: 81\n",
      "TrainEpoch/CM\n",
      " tensor([[189869,   1004,   2611,  11003,    348,    432,    167,      0,   3770],\n",
      "        [    53, 268435,     54,      0,      0,    400,    136,      0,      0],\n",
      "        [   232,   1700, 232525,   4714,   1540,    966,  18323,      0,    885],\n",
      "        [ 11664,   1021,   3548, 180699,   5761,    406,  10242,      0,   4073],\n",
      "        [   328,   1084,   2055,   2000, 213538,    494,      0,    152,   3083],\n",
      "        [     0,   1788,   9088,      0,      0, 220194,    250,     35,      0],\n",
      "        [  4181,   1294,  82001,  36254,   9660,   3154,  79131,      0,   1741],\n",
      "        [     0,    916,     34,      0,     65,     30,    107, 215828,      0],\n",
      "        [     0,    551,      8,    262,      0,      6,    272,      0, 267975]])\n"
     ]
    },
    {
     "data": {
      "application/vnd.jupyter.widget-view+json": {
       "model_id": "3b02f5b281894d0b8988b6673558c557",
       "version_major": 2,
       "version_minor": 0
      },
      "text/plain": [
       "Validation: |          | 0/? [00:00<?, ?it/s]"
      ]
     },
     "metadata": {},
     "output_type": "display_data"
    },
    {
     "name": "stdout",
     "output_type": "stream",
     "text": [
      "Epoch end: Validation, epoch number: 83\n",
      "ValidationEpoch/CM\n",
      " tensor([[192377,   1004,   2611,  11040,    348,    432,    172,      0,   3770],\n",
      "        [    53, 271712,     54,      0,      0,    403,    136,      0,      0],\n",
      "        [   232,   1700, 235272,   4750,   1552,    966,  18708,      0,    885],\n",
      "        [ 11693,   1021,   3548, 183160,   5776,    406,  10387,      0,   4073],\n",
      "        [   333,   1084,   2070,   2022, 216211,    494,      0,    152,   3083],\n",
      "        [     0,   1788,   9098,      0,      0, 222999,    255,     35,      0],\n",
      "        [  4191,   1294,  82645,  36580,   9702,   3174,  80739,      0,   1741],\n",
      "        [     0,    916,     34,      0,     65,     30,    107, 218473,      0],\n",
      "        [     0,    551,      8,    262,      0,      6,    277,      0, 271250]])\n",
      "Epoch end: Train, epoch number: 82\n",
      "TrainEpoch/CM\n",
      " tensor([[192377,   1004,   2611,  11040,    348,    432,    172,      0,   3770],\n",
      "        [    53, 271712,     54,      0,      0,    403,    136,      0,      0],\n",
      "        [   232,   1700, 235272,   4750,   1552,    966,  18708,      0,    885],\n",
      "        [ 11693,   1021,   3548, 183160,   5776,    406,  10387,      0,   4073],\n",
      "        [   333,   1084,   2070,   2022, 216211,    494,      0,    152,   3083],\n",
      "        [     0,   1788,   9098,      0,      0, 222999,    255,     35,      0],\n",
      "        [  4191,   1294,  82645,  36580,   9702,   3174,  80739,      0,   1741],\n",
      "        [     0,    916,     34,      0,     65,     30,    107, 218473,      0],\n",
      "        [     0,    551,      8,    262,      0,      6,    277,      0, 271250]])\n"
     ]
    },
    {
     "data": {
      "application/vnd.jupyter.widget-view+json": {
       "model_id": "b14aa4ea68dd48e08904ba66f58371af",
       "version_major": 2,
       "version_minor": 0
      },
      "text/plain": [
       "Validation: |          | 0/? [00:00<?, ?it/s]"
      ]
     },
     "metadata": {},
     "output_type": "display_data"
    },
    {
     "name": "stdout",
     "output_type": "stream",
     "text": [
      "Epoch end: Validation, epoch number: 84\n",
      "ValidationEpoch/CM\n",
      " tensor([[194893,   1004,   2611,  11070,    348,    432,    176,      0,   3770],\n",
      "        [    53, 274988,     54,      0,      0,    407,    136,      0,      0],\n",
      "        [   232,   1700, 238034,   4786,   1564,    966,  19078,      0,    885],\n",
      "        [ 11720,   1021,   3548, 185609,   5793,    406,  10544,      0,   4073],\n",
      "        [   338,   1084,   2087,   2045, 218881,    494,      0,    152,   3083],\n",
      "        [     0,   1788,   9108,      0,      0, 225804,    260,     35,      0],\n",
      "        [  4202,   1294,  83267,  36907,   9749,   3194,  82362,      0,   1741],\n",
      "        [     0,    916,     34,      0,     65,     30,    107, 221118,      0],\n",
      "        [     0,    551,      8,    262,      0,      6,    282,      0, 274525]])\n",
      "Epoch end: Train, epoch number: 83\n",
      "TrainEpoch/CM\n",
      " tensor([[194893,   1004,   2611,  11070,    348,    432,    176,      0,   3770],\n",
      "        [    53, 274988,     54,      0,      0,    407,    136,      0,      0],\n",
      "        [   232,   1700, 238034,   4786,   1564,    966,  19078,      0,    885],\n",
      "        [ 11720,   1021,   3548, 185609,   5793,    406,  10544,      0,   4073],\n",
      "        [   338,   1084,   2087,   2045, 218881,    494,      0,    152,   3083],\n",
      "        [     0,   1788,   9108,      0,      0, 225804,    260,     35,      0],\n",
      "        [  4202,   1294,  83267,  36907,   9749,   3194,  82362,      0,   1741],\n",
      "        [     0,    916,     34,      0,     65,     30,    107, 221118,      0],\n",
      "        [     0,    551,      8,    262,      0,      6,    282,      0, 274525]])\n"
     ]
    },
    {
     "data": {
      "application/vnd.jupyter.widget-view+json": {
       "model_id": "65716eea2d15401b8cf9b2623c3ea4e9",
       "version_major": 2,
       "version_minor": 0
      },
      "text/plain": [
       "Validation: |          | 0/? [00:00<?, ?it/s]"
      ]
     },
     "metadata": {},
     "output_type": "display_data"
    },
    {
     "name": "stdout",
     "output_type": "stream",
     "text": [
      "Epoch end: Validation, epoch number: 85\n",
      "ValidationEpoch/CM\n",
      " tensor([[197406,   1004,   2611,  11104,    348,    432,    179,      0,   3770],\n",
      "        [    53, 278267,     54,      0,      0,    408,    136,      0,      0],\n",
      "        [   232,   1700, 240812,   4822,   1576,    966,  19432,      0,    885],\n",
      "        [ 11745,   1021,   3548, 188070,   5810,    406,  10691,      0,   4073],\n",
      "        [   343,   1084,   2102,   2066, 221555,    494,      0,    152,   3083],\n",
      "        [     0,   1788,   9118,      0,      0, 228609,    265,     35,      0],\n",
      "        [  4213,   1294,  83913,  37233,   9792,   3214,  83966,      0,   1741],\n",
      "        [     0,    916,     34,      0,     65,     30,    107, 223763,      0],\n",
      "        [     0,    551,      8,    262,      0,      6,    287,      0, 277800]])\n"
     ]
    },
    {
     "name": "stderr",
     "output_type": "stream",
     "text": [
      "Monitored metric Validation/Accuracy did not improve in the last 5 records. Best score: 0.927. Signaling Trainer to stop.\n"
     ]
    },
    {
     "name": "stdout",
     "output_type": "stream",
     "text": [
      "Epoch end: Train, epoch number: 84\n",
      "TrainEpoch/CM\n",
      " tensor([[197406,   1004,   2611,  11104,    348,    432,    179,      0,   3770],\n",
      "        [    53, 278267,     54,      0,      0,    408,    136,      0,      0],\n",
      "        [   232,   1700, 240812,   4822,   1576,    966,  19432,      0,    885],\n",
      "        [ 11745,   1021,   3548, 188070,   5810,    406,  10691,      0,   4073],\n",
      "        [   343,   1084,   2102,   2066, 221555,    494,      0,    152,   3083],\n",
      "        [     0,   1788,   9118,      0,      0, 228609,    265,     35,      0],\n",
      "        [  4213,   1294,  83913,  37233,   9792,   3214,  83966,      0,   1741],\n",
      "        [     0,    916,     34,      0,     65,     30,    107, 223763,      0],\n",
      "        [     0,    551,      8,    262,      0,      6,    287,      0, 277800]])\n"
     ]
    }
   ],
   "source": [
    "trainer.fit(model=model, train_dataloaders=train_dataloader, val_dataloaders=val_dataloader)"
   ]
  },
  {
   "cell_type": "code",
   "execution_count": 42,
   "metadata": {},
   "outputs": [
    {
     "name": "stderr",
     "output_type": "stream",
     "text": [
      "LOCAL_RANK: 0 - CUDA_VISIBLE_DEVICES: [0]\n"
     ]
    },
    {
     "name": "stdout",
     "output_type": "stream",
     "text": [
      "/home/<User>/repos/csg_is/training/official_logs/single-layer_30_from_weights/version_0/checkpoints/epoch=79-step=3360.ckpt\n",
      "tensor(0.9266, device='cuda:0')\n"
     ]
    },
    {
     "data": {
      "application/vnd.jupyter.widget-view+json": {
       "model_id": "8db2a1a3dfa14245907039e11361106c",
       "version_major": 2,
       "version_minor": 0
      },
      "text/plain": [
       "Testing: |          | 0/? [00:00<?, ?it/s]"
      ]
     },
     "metadata": {},
     "output_type": "display_data"
    },
    {
     "name": "stdout",
     "output_type": "stream",
     "text": [
      "Epoch end: Test, epoch number: 0\n",
      "TestEpoch/CM\n",
      " tensor([[526,   0,   0,   9,   0,   0,   1,   0,   0],\n",
      "        [  0, 638,   0,   0,   0,   1,   0,   0,   0],\n",
      "        [  0,   0, 554,   2,   4,   0,  82,   0,   0],\n",
      "        [ 10,   0,   0, 476,   0,   0,  43,   0,   0],\n",
      "        [  2,   0,   5,   6, 566,   0,   0,   0,   0],\n",
      "        [  0,   0,   3,   0,   0, 565,   0,   0,   0],\n",
      "        [  1,   0, 128,  60,   8,   5, 335,   0,   0],\n",
      "        [  0,   0,   0,   0,   0,   0,   0, 514,   0],\n",
      "        [  0,   0,   0,   0,   0,   0,   0,   0, 610]])\n",
      "────────────────────────────────────────────────────────────────────────────────────────────────────────────────────────\n",
      "       Test metric             DataLoader 0\n",
      "────────────────────────────────────────────────────────────────────────────────────────────────────────────────────────\n",
      "      Test/Accuracy         0.9265533685684204\n",
      "      Test/F1Score          0.9252428412437439\n",
      "        Test/Loss           0.2960248291492462\n",
      "     Test/Precision          0.925728976726532\n",
      "       Test/Recall          0.9265533685684204\n",
      "   TestEpoch/Accuracy       0.9265133142471313\n",
      "    TestEpoch/F1Score       0.9257043600082397\n",
      "   TestEpoch/Precision      0.9261057376861572\n",
      "    TestEpoch/Recall        0.9265133142471313\n",
      "────────────────────────────────────────────────────────────────────────────────────────────────────────────────────────\n"
     ]
    },
    {
     "data": {
      "text/plain": [
       "[{'Test/Loss': 0.2960248291492462,\n",
       "  'Test/Accuracy': 0.9265533685684204,\n",
       "  'Test/Precision': 0.925728976726532,\n",
       "  'Test/Recall': 0.9265533685684204,\n",
       "  'Test/F1Score': 0.9252428412437439,\n",
       "  'TestEpoch/Accuracy': 0.9265133142471313,\n",
       "  'TestEpoch/Precision': 0.9261057376861572,\n",
       "  'TestEpoch/Recall': 0.9265133142471313,\n",
       "  'TestEpoch/F1Score': 0.9257043600082397}]"
      ]
     },
     "execution_count": 42,
     "metadata": {},
     "output_type": "execute_result"
    }
   ],
   "source": [
    "print(checkpoint_callback.best_model_path)   # prints path to the best model's checkpoint\n",
    "print(checkpoint_callback.best_model_score) # and prints it score\n",
    "best_model = MalwaresModelLinearLayer.load_from_checkpoint(checkpoint_callback.best_model_path, input_size = subset.shape[1]-1, output_size = len(label_encoder.classes_))\n",
    "\n",
    "trainer.test(best_model, dataloaders=val_dataloader)"
   ]
  },
  {
   "cell_type": "code",
   "execution_count": 43,
   "metadata": {},
   "outputs": [],
   "source": [
    "sys.path.append(str(repo_base_path  / \"training\"))"
   ]
  },
  {
   "cell_type": "code",
   "execution_count": 45,
   "metadata": {},
   "outputs": [
    {
     "name": "stderr",
     "output_type": "stream",
     "text": [
      "GPU available: True (cuda), used: True\n",
      "TPU available: False, using: 0 TPU cores\n",
      "IPU available: False, using: 0 IPUs\n",
      "HPU available: False, using: 0 HPUs\n"
     ]
    }
   ],
   "source": [
    "# tensorboard = pl_loggers.TensorBoardLogger('./')\n",
    "\n",
    "from mlp import MalwaresModelMLP\n",
    "\n",
    "# split into train and val\n",
    "train, val = train_test_split(subset, test_size=0.2, random_state=SEED)\n",
    "\n",
    "train_dataset = CustomeDataset(train)\n",
    "train_dataloader = DataLoader(train_dataset, batch_size=500, shuffle=True, num_workers=7)\n",
    "\n",
    "val_dataset = CustomeDataset(val)\n",
    "val_dataloader = DataLoader(val_dataset, batch_size=500, shuffle=False, num_workers=7)\n",
    "\n",
    "# trainer = lightning.Trainer(fast_dev_run=100)\n",
    "monitor = \"Validation/Accuracy\"\n",
    "early_stop_callback = EarlyStopping(monitor=monitor, patience=5, verbose=True, mode=\"max\")\n",
    "checkpoint_callback = ModelCheckpoint(save_top_k=1, monitor=monitor, mode=\"max\")\n",
    "\n",
    "tensorboard = pl_loggers.TensorBoardLogger(save_dir=LOG_PATH, name=LOG_NAME_EXPERIMENT_3)\n",
    "trainer = lightning.Trainer(max_epochs=150, callbacks=[early_stop_callback, checkpoint_callback], enable_checkpointing=True, logger=tensorboard) #logger=None, \n",
    "\n",
    "\n",
    "model = MalwaresModelMLP(input_size = subset.shape[1]-1, output_size = len(label_encoder.classes_), seed=SEED)\n",
    "\n",
    "torch.manual_seed(SEED)\n",
    "torch.cuda.manual_seed_all(SEED)\n"
   ]
  },
  {
   "cell_type": "code",
   "execution_count": 46,
   "metadata": {},
   "outputs": [
    {
     "name": "stderr",
     "output_type": "stream",
     "text": [
      "LOCAL_RANK: 0 - CUDA_VISIBLE_DEVICES: [0]\n",
      "\n",
      "  | Name          | Type                      | Params\n",
      "------------------------------------------------------------\n",
      "0 | train_metrics | MetricCollection          | 0     \n",
      "1 | val_metrics   | MetricCollection          | 0     \n",
      "2 | test_metrics  | MetricCollection          | 0     \n",
      "3 | cm            | MulticlassConfusionMatrix | 0     \n",
      "4 | criterion     | CrossEntropyLoss          | 0     \n",
      "5 | l1            | Linear                    | 990   \n",
      "6 | l2            | Linear                    | 930   \n",
      "7 | l3            | Linear                    | 279   \n",
      "------------------------------------------------------------\n",
      "2.2 K     Trainable params\n",
      "0         Non-trainable params\n",
      "2.2 K     Total params\n",
      "0.009     Total estimated model params size (MB)\n"
     ]
    },
    {
     "data": {
      "application/vnd.jupyter.widget-view+json": {
       "model_id": "987ad9b09153494fa275bdaeafae5fe1",
       "version_major": 2,
       "version_minor": 0
      },
      "text/plain": [
       "Sanity Checking: |          | 0/? [00:00<?, ?it/s]"
      ]
     },
     "metadata": {},
     "output_type": "display_data"
    },
    {
     "name": "stdout",
     "output_type": "stream",
     "text": [
      "Epoch end: Validation, epoch number: 0\n",
      "ValidationEpoch/CM\n",
      " tensor([[  0,   0,   0,   0,   0,   0, 104,   0,   0],\n",
      "        [  0,   0,   0,   0,   0,   0, 118,   0,   0],\n",
      "        [  0,   0,   0,   0,   0,   0, 125,   0,   0],\n",
      "        [  0,   0,   0,   0,   0,   0, 114,   0,   0],\n",
      "        [  0,   0,   0,   0,   0,   0, 104,   0,   0],\n",
      "        [  0,   0,   0,   0,   0,   0, 115,   0,   0],\n",
      "        [  0,   0,   0,   0,   0,   0, 116,   0,   0],\n",
      "        [  0,   0,   0,   0,   0,   0,  90,   0,   0],\n",
      "        [  0,   0,   0,   0,   0,   0, 114,   0,   0]])\n"
     ]
    },
    {
     "name": "stderr",
     "output_type": "stream",
     "text": [
      "/home/<User>/repos/csg_is/.venv/lib/python3.10/site-packages/lightning/pytorch/loops/fit_loop.py:298: The number of training batches (42) is smaller than the logging interval Trainer(log_every_n_steps=50). Set a lower value for log_every_n_steps if you want to see logs for the training epoch.\n"
     ]
    },
    {
     "data": {
      "application/vnd.jupyter.widget-view+json": {
       "model_id": "0853ba4b9dd148a182be249e85f7c36d",
       "version_major": 2,
       "version_minor": 0
      },
      "text/plain": [
       "Training: |          | 0/? [00:00<?, ?it/s]"
      ]
     },
     "metadata": {},
     "output_type": "display_data"
    },
    {
     "data": {
      "application/vnd.jupyter.widget-view+json": {
       "model_id": "c1d07b0166d844e8a3ccd85b415448c0",
       "version_major": 2,
       "version_minor": 0
      },
      "text/plain": [
       "Validation: |          | 0/? [00:00<?, ?it/s]"
      ]
     },
     "metadata": {},
     "output_type": "display_data"
    },
    {
     "name": "stdout",
     "output_type": "stream",
     "text": [
      "Epoch end: Validation, epoch number: 1\n",
      "ValidationEpoch/CM\n",
      " tensor([[   0,    0,  342,  751,  150,    3,  257,    5, 1146],\n",
      "        [   0, 2838,    0,    0,    0,    1,  247,    1,  311],\n",
      "        [   0,    0, 1897,   57,    7,   13,  332,   73,  926],\n",
      "        [   0,    0,  309,  744,  257,    3,  260,    7, 1184],\n",
      "        [   0,    0,  228,  491,  494,    6,  280,    4, 1316],\n",
      "        [   0,  103,   24,    0,    0, 1142,  343, 1008,  315],\n",
      "        [   0,    2, 1170,  250,   50,   19,  302,   40,  933],\n",
      "        [   0,   59,    0,    0,    0,    0,  308, 2255,  113],\n",
      "        [   0,    0,    1,    1,    0,    0,  221,    0, 3171]])\n",
      "Epoch end: Train, epoch number: 0\n",
      "TrainEpoch/CM\n",
      " tensor([[   0,    0,  342,  751,  150,    3,  257,    5, 1146],\n",
      "        [   0, 2838,    0,    0,    0,    1,  247,    1,  311],\n",
      "        [   0,    0, 1897,   57,    7,   13,  332,   73,  926],\n",
      "        [   0,    0,  309,  744,  257,    3,  260,    7, 1184],\n",
      "        [   0,    0,  228,  491,  494,    6,  280,    4, 1316],\n",
      "        [   0,  103,   24,    0,    0, 1142,  343, 1008,  315],\n",
      "        [   0,    2, 1170,  250,   50,   19,  302,   40,  933],\n",
      "        [   0,   59,    0,    0,    0,    0,  308, 2255,  113],\n",
      "        [   0,    0,    1,    1,    0,    0,  221,    0, 3171]])\n"
     ]
    },
    {
     "name": "stderr",
     "output_type": "stream",
     "text": [
      "Metric Validation/Accuracy improved. New best score: 0.675\n"
     ]
    },
    {
     "data": {
      "application/vnd.jupyter.widget-view+json": {
       "model_id": "b1d032797b894aeab49597d5b43a4859",
       "version_major": 2,
       "version_minor": 0
      },
      "text/plain": [
       "Validation: |          | 0/? [00:00<?, ?it/s]"
      ]
     },
     "metadata": {},
     "output_type": "display_data"
    },
    {
     "name": "stdout",
     "output_type": "stream",
     "text": [
      "Epoch end: Validation, epoch number: 2\n",
      "ValidationEpoch/CM\n",
      " tensor([[1014,    0,  425, 1552,  614,    3,  445,    5, 1146],\n",
      "        [   0, 6111,    0,    0,    0,    6,  247,    2,  312],\n",
      "        [  38,    0, 4527,  113,   25,   20,  763,   73,  926],\n",
      "        [ 895,    0,  371, 1656,  815,    3,  483,    7, 1184],\n",
      "        [ 128,    0,  274,  918, 2537,   11,  346,    4, 1316],\n",
      "        [   0,  103,   55,    0,    0, 3931,  343, 1008,  315],\n",
      "        [ 263,    2, 2445,  613,  136,   29,  955,   40,  933],\n",
      "        [   0,   59,    0,    0,    0,    0,  308, 4900,  113],\n",
      "        [   0,    0,    1,    1,    9,    0,  221,    0, 6442]])\n",
      "Epoch end: Train, epoch number: 1\n",
      "TrainEpoch/CM\n",
      " tensor([[1014,    0,  425, 1552,  614,    3,  445,    5, 1146],\n",
      "        [   0, 6111,    0,    0,    0,    6,  247,    2,  312],\n",
      "        [  38,    0, 4527,  113,   25,   20,  763,   73,  926],\n",
      "        [ 895,    0,  371, 1656,  815,    3,  483,    7, 1184],\n",
      "        [ 128,    0,  274,  918, 2537,   11,  346,    4, 1316],\n",
      "        [   0,  103,   55,    0,    0, 3931,  343, 1008,  315],\n",
      "        [ 263,    2, 2445,  613,  136,   29,  955,   40,  933],\n",
      "        [   0,   59,    0,    0,    0,    0,  308, 4900,  113],\n",
      "        [   0,    0,    1,    1,    9,    0,  221,    0, 6442]])\n"
     ]
    },
    {
     "name": "stderr",
     "output_type": "stream",
     "text": [
      "Metric Validation/Accuracy improved by 0.097 >= min_delta = 0.0. New best score: 0.772\n"
     ]
    },
    {
     "data": {
      "application/vnd.jupyter.widget-view+json": {
       "model_id": "af55ffa5e99b4925a49be0485cd3ffee",
       "version_major": 2,
       "version_minor": 0
      },
      "text/plain": [
       "Validation: |          | 0/? [00:00<?, ?it/s]"
      ]
     },
     "metadata": {},
     "output_type": "display_data"
    },
    {
     "name": "stdout",
     "output_type": "stream",
     "text": [
      "Epoch end: Validation, epoch number: 3\n",
      "ValidationEpoch/CM\n",
      " tensor([[2614,    0,  434, 2231,  696,    3,  625,    5, 1146],\n",
      "        [   0, 9388,    0,    0,    0,    9,  247,    2,  312],\n",
      "        [  39,    0, 7151,  155,   37,   22, 1262,   73,  926],\n",
      "        [1912,    0,  374, 2798,  959,    3,  827,    7, 1184],\n",
      "        [ 162,    3,  275, 1066, 5033,   12,  378,    4, 1316],\n",
      "        [   0,  106,   79,    0,    0, 6724,  343, 1008,  315],\n",
      "        [ 464,    2, 3597,  937,  163,   35, 1895,   40,  933],\n",
      "        [   0,   59,    0,    0,    0,    0,  308, 7545,  113],\n",
      "        [   0,    0,    1,    1,   14,    0,  221,    0, 9717]])\n",
      "Epoch end: Train, epoch number: 2\n",
      "TrainEpoch/CM\n",
      " tensor([[2614,    0,  434, 2231,  696,    3,  625,    5, 1146],\n",
      "        [   0, 9388,    0,    0,    0,    9,  247,    2,  312],\n",
      "        [  39,    0, 7151,  155,   37,   22, 1262,   73,  926],\n",
      "        [1912,    0,  374, 2798,  959,    3,  827,    7, 1184],\n",
      "        [ 162,    3,  275, 1066, 5033,   12,  378,    4, 1316],\n",
      "        [   0,  106,   79,    0,    0, 6724,  343, 1008,  315],\n",
      "        [ 464,    2, 3597,  937,  163,   35, 1895,   40,  933],\n",
      "        [   0,   59,    0,    0,    0,    0,  308, 7545,  113],\n",
      "        [   0,    0,    1,    1,   14,    0,  221,    0, 9717]])\n"
     ]
    },
    {
     "name": "stderr",
     "output_type": "stream",
     "text": [
      "Metric Validation/Accuracy improved by 0.048 >= min_delta = 0.0. New best score: 0.820\n"
     ]
    },
    {
     "data": {
      "application/vnd.jupyter.widget-view+json": {
       "model_id": "02341e3b0f5741afbadd45a03fb2d2e5",
       "version_major": 2,
       "version_minor": 0
      },
      "text/plain": [
       "Validation: |          | 0/? [00:00<?, ?it/s]"
      ]
     },
     "metadata": {},
     "output_type": "display_data"
    },
    {
     "name": "stdout",
     "output_type": "stream",
     "text": [
      "Epoch end: Validation, epoch number: 4\n",
      "ValidationEpoch/CM\n",
      " tensor([[ 4664,     0,   434,  2633,   702,     3,   716,     5,  1147],\n",
      "        [    0, 12663,     0,     0,     0,    14,   247,     2,   312],\n",
      "        [   39,     0,  9842,   174,    49,    26,  1716,    73,   926],\n",
      "        [ 2660,     0,   374,  4400,  1008,     3,  1078,     7,  1184],\n",
      "        [  162,     3,   278,  1100,  7695,    12,   394,     4,  1316],\n",
      "        [    0,   107,   100,     0,     0,  9522,   343,  1008,   315],\n",
      "        [  594,     2,  4671,  1306,   181,    41,  2948,    40,   933],\n",
      "        [    0,    59,     0,     0,     0,     0,   308, 10190,   113],\n",
      "        [    0,     0,     1,     1,    15,     0,   221,     0, 12996]])\n",
      "Epoch end: Train, epoch number: 3\n",
      "TrainEpoch/CM\n",
      " tensor([[ 4664,     0,   434,  2633,   702,     3,   716,     5,  1147],\n",
      "        [    0, 12663,     0,     0,     0,    14,   247,     2,   312],\n",
      "        [   39,     0,  9842,   174,    49,    26,  1716,    73,   926],\n",
      "        [ 2660,     0,   374,  4400,  1008,     3,  1078,     7,  1184],\n",
      "        [  162,     3,   278,  1100,  7695,    12,   394,     4,  1316],\n",
      "        [    0,   107,   100,     0,     0,  9522,   343,  1008,   315],\n",
      "        [  594,     2,  4671,  1306,   181,    41,  2948,    40,   933],\n",
      "        [    0,    59,     0,     0,     0,     0,   308, 10190,   113],\n",
      "        [    0,     0,     1,     1,    15,     0,   221,     0, 12996]])\n"
     ]
    },
    {
     "name": "stderr",
     "output_type": "stream",
     "text": [
      "Metric Validation/Accuracy improved by 0.051 >= min_delta = 0.0. New best score: 0.872\n"
     ]
    },
    {
     "data": {
      "application/vnd.jupyter.widget-view+json": {
       "model_id": "0e92049236ad474aa8466ca8e283fecf",
       "version_major": 2,
       "version_minor": 0
      },
      "text/plain": [
       "Validation: |          | 0/? [00:00<?, ?it/s]"
      ]
     },
     "metadata": {},
     "output_type": "display_data"
    },
    {
     "name": "stdout",
     "output_type": "stream",
     "text": [
      "Epoch end: Validation, epoch number: 5\n",
      "ValidationEpoch/CM\n",
      " tensor([[ 7043,     0,   434,  2758,   702,     3,   762,     5,  1147],\n",
      "        [    0, 15937,     0,     0,     0,    18,   247,     2,   314],\n",
      "        [   39,     0, 12609,   182,    61,    27,  2108,    73,   926],\n",
      "        [ 2857,     0,   374,  6616,  1034,     3,  1289,     7,  1184],\n",
      "        [  166,     3,   293,  1112, 10376,    12,   397,     4,  1316],\n",
      "        [    0,   108,   121,     0,     0, 12320,   343,  1008,   315],\n",
      "        [  640,     2,  5734,  1730,   189,    45,  4053,    40,   933],\n",
      "        [    0,    59,     0,     0,     0,     0,   308, 12835,   113],\n",
      "        [    0,     0,     1,     1,    15,     0,   221,     0, 16276]])\n",
      "Epoch end: Train, epoch number: 4\n",
      "TrainEpoch/CM\n",
      " tensor([[ 7043,     0,   434,  2758,   702,     3,   762,     5,  1147],\n",
      "        [    0, 15937,     0,     0,     0,    18,   247,     2,   314],\n",
      "        [   39,     0, 12609,   182,    61,    27,  2108,    73,   926],\n",
      "        [ 2857,     0,   374,  6616,  1034,     3,  1289,     7,  1184],\n",
      "        [  166,     3,   293,  1112, 10376,    12,   397,     4,  1316],\n",
      "        [    0,   108,   121,     0,     0, 12320,   343,  1008,   315],\n",
      "        [  640,     2,  5734,  1730,   189,    45,  4053,    40,   933],\n",
      "        [    0,    59,     0,     0,     0,     0,   308, 12835,   113],\n",
      "        [    0,     0,     1,     1,    15,     0,   221,     0, 16276]])\n"
     ]
    },
    {
     "name": "stderr",
     "output_type": "stream",
     "text": [
      "Metric Validation/Accuracy improved by 0.031 >= min_delta = 0.0. New best score: 0.903\n"
     ]
    },
    {
     "data": {
      "application/vnd.jupyter.widget-view+json": {
       "model_id": "6c038a9dbb4f439d84f39bf1e73174c9",
       "version_major": 2,
       "version_minor": 0
      },
      "text/plain": [
       "Validation: |          | 0/? [00:00<?, ?it/s]"
      ]
     },
     "metadata": {},
     "output_type": "display_data"
    },
    {
     "name": "stdout",
     "output_type": "stream",
     "text": [
      "Epoch end: Validation, epoch number: 6\n",
      "ValidationEpoch/CM\n",
      " tensor([[ 9530,     0,   434,  2803,   702,     3,   780,     5,  1147],\n",
      "        [    0, 19211,     0,     0,     0,    21,   247,     3,   316],\n",
      "        [   39,     0, 15308,   197,    74,    32,  2556,    73,   926],\n",
      "        [ 2907,     0,   374,  8958,  1049,     3,  1532,     7,  1184],\n",
      "        [  171,     3,   310,  1120, 13061,    12,   397,     4,  1316],\n",
      "        [    0,   113,   138,     0,     0, 15118,   343,  1008,   315],\n",
      "        [  648,     2,  6685,  2141,   190,    50,  5327,    40,   933],\n",
      "        [    0,    61,     0,     0,     0,     0,   308, 15478,   113],\n",
      "        [    0,     3,     1,     1,    15,     0,   221,     0, 19553]])\n"
     ]
    },
    {
     "name": "stderr",
     "output_type": "stream",
     "text": [
      "Metric Validation/Accuracy improved by 0.009 >= min_delta = 0.0. New best score: 0.912\n"
     ]
    },
    {
     "name": "stdout",
     "output_type": "stream",
     "text": [
      "Epoch end: Train, epoch number: 5\n",
      "TrainEpoch/CM\n",
      " tensor([[ 9530,     0,   434,  2803,   702,     3,   780,     5,  1147],\n",
      "        [    0, 19211,     0,     0,     0,    21,   247,     3,   316],\n",
      "        [   39,     0, 15308,   197,    74,    32,  2556,    73,   926],\n",
      "        [ 2907,     0,   374,  8958,  1049,     3,  1532,     7,  1184],\n",
      "        [  171,     3,   310,  1120, 13061,    12,   397,     4,  1316],\n",
      "        [    0,   113,   138,     0,     0, 15118,   343,  1008,   315],\n",
      "        [  648,     2,  6685,  2141,   190,    50,  5327,    40,   933],\n",
      "        [    0,    61,     0,     0,     0,     0,   308, 15478,   113],\n",
      "        [    0,     3,     1,     1,    15,     0,   221,     0, 19553]])\n"
     ]
    },
    {
     "data": {
      "application/vnd.jupyter.widget-view+json": {
       "model_id": "9fdea4ff31804df1a51c616908d1cef6",
       "version_major": 2,
       "version_minor": 0
      },
      "text/plain": [
       "Validation: |          | 0/? [00:00<?, ?it/s]"
      ]
     },
     "metadata": {},
     "output_type": "display_data"
    },
    {
     "name": "stdout",
     "output_type": "stream",
     "text": [
      "Epoch end: Validation, epoch number: 7\n",
      "ValidationEpoch/CM\n",
      " tensor([[12041,     0,   434,  2826,   702,     3,   796,     5,  1147],\n",
      "        [    0, 22489,     0,     0,     0,    22,   247,     4,   316],\n",
      "        [   39,     0, 18030,   213,    88,    32,  2984,    73,   926],\n",
      "        [ 2931,     0,   374, 11343,  1060,     3,  1762,     7,  1184],\n",
      "        [  176,     3,   324,  1127, 15750,    12,   397,     4,  1316],\n",
      "        [    0,   113,   144,     0,     0, 17932,   343,  1008,   315],\n",
      "        [  654,     2,  7530,  2529,   191,    54,  6733,    40,   933],\n",
      "        [    0,    62,     0,     0,     0,     0,   308, 18122,   113],\n",
      "        [    0,     3,     1,     1,    15,     0,   221,     0, 22833]])\n",
      "Epoch end: Train, epoch number: 6\n",
      "TrainEpoch/CM\n",
      " tensor([[12041,     0,   434,  2826,   702,     3,   796,     5,  1147],\n",
      "        [    0, 22489,     0,     0,     0,    22,   247,     4,   316],\n",
      "        [   39,     0, 18030,   213,    88,    32,  2984,    73,   926],\n",
      "        [ 2931,     0,   374, 11343,  1060,     3,  1762,     7,  1184],\n",
      "        [  176,     3,   324,  1127, 15750,    12,   397,     4,  1316],\n",
      "        [    0,   113,   144,     0,     0, 17932,   343,  1008,   315],\n",
      "        [  654,     2,  7530,  2529,   191,    54,  6733,    40,   933],\n",
      "        [    0,    62,     0,     0,     0,     0,   308, 18122,   113],\n",
      "        [    0,     3,     1,     1,    15,     0,   221,     0, 22833]])\n"
     ]
    },
    {
     "name": "stderr",
     "output_type": "stream",
     "text": [
      "Metric Validation/Accuracy improved by 0.004 >= min_delta = 0.0. New best score: 0.916\n"
     ]
    },
    {
     "data": {
      "application/vnd.jupyter.widget-view+json": {
       "model_id": "cf21c1896e7f42c2a575cdc84f3e33dd",
       "version_major": 2,
       "version_minor": 0
      },
      "text/plain": [
       "Validation: |          | 0/? [00:00<?, ?it/s]"
      ]
     },
     "metadata": {},
     "output_type": "display_data"
    },
    {
     "name": "stdout",
     "output_type": "stream",
     "text": [
      "Epoch end: Validation, epoch number: 8\n",
      "ValidationEpoch/CM\n",
      " tensor([[14537,     0,   434,  2865,   702,     3,   811,     5,  1147],\n",
      "        [    1, 25767,     0,     0,     0,    22,   247,     5,   316],\n",
      "        [   39,     0, 20777,   232,   106,    32,  3380,    73,   926],\n",
      "        [ 2948,     0,   374, 13801,  1072,     3,  1925,     7,  1184],\n",
      "        [  178,     3,   341,  1139, 18434,    12,   397,     4,  1316],\n",
      "        [    0,   113,   149,     0,     0, 20747,   343,  1008,   315],\n",
      "        [  655,     2,  8334,  2905,   191,    57,  8199,    40,   933],\n",
      "        [    0,    65,     0,     0,     0,     0,   308, 20764,   113],\n",
      "        [    0,     3,     1,     1,    15,     0,   221,     0, 26113]])\n",
      "Epoch end: Train, epoch number: 7\n",
      "TrainEpoch/CM\n",
      " tensor([[14537,     0,   434,  2865,   702,     3,   811,     5,  1147],\n",
      "        [    1, 25767,     0,     0,     0,    22,   247,     5,   316],\n",
      "        [   39,     0, 20777,   232,   106,    32,  3380,    73,   926],\n",
      "        [ 2948,     0,   374, 13801,  1072,     3,  1925,     7,  1184],\n",
      "        [  178,     3,   341,  1139, 18434,    12,   397,     4,  1316],\n",
      "        [    0,   113,   149,     0,     0, 20747,   343,  1008,   315],\n",
      "        [  655,     2,  8334,  2905,   191,    57,  8199,    40,   933],\n",
      "        [    0,    65,     0,     0,     0,     0,   308, 20764,   113],\n",
      "        [    0,     3,     1,     1,    15,     0,   221,     0, 26113]])\n"
     ]
    },
    {
     "name": "stderr",
     "output_type": "stream",
     "text": [
      "Metric Validation/Accuracy improved by 0.005 >= min_delta = 0.0. New best score: 0.921\n"
     ]
    },
    {
     "data": {
      "application/vnd.jupyter.widget-view+json": {
       "model_id": "83dcca3922604e97aceb308a9fa2b4bb",
       "version_major": 2,
       "version_minor": 0
      },
      "text/plain": [
       "Validation: |          | 0/? [00:00<?, ?it/s]"
      ]
     },
     "metadata": {},
     "output_type": "display_data"
    },
    {
     "name": "stdout",
     "output_type": "stream",
     "text": [
      "Epoch end: Validation, epoch number: 9\n",
      "ValidationEpoch/CM\n",
      " tensor([[17037,     0,   434,  2898,   702,     3,   828,     5,  1147],\n",
      "        [    1, 29045,     0,     0,     0,    22,   247,     7,   316],\n",
      "        [   39,     0, 23528,   250,   119,    32,  3778,    73,   926],\n",
      "        [ 2959,     0,   375, 16224,  1087,     3,  2125,     7,  1184],\n",
      "        [  181,     3,   357,  1148, 21121,    12,   397,     4,  1316],\n",
      "        [    0,   113,   154,     0,     0, 23562,   343,  1008,   315],\n",
      "        [  656,     2,  9077,  3231,   192,    61,  9774,    40,   933],\n",
      "        [    1,    65,     0,     0,     0,     0,   308, 23408,   113],\n",
      "        [    0,     3,     1,     1,    15,     0,   221,     0, 29393]])\n",
      "Epoch end: Train, epoch number: 8\n",
      "TrainEpoch/CM\n",
      " tensor([[17037,     0,   434,  2898,   702,     3,   828,     5,  1147],\n",
      "        [    1, 29045,     0,     0,     0,    22,   247,     7,   316],\n",
      "        [   39,     0, 23528,   250,   119,    32,  3778,    73,   926],\n",
      "        [ 2959,     0,   375, 16224,  1087,     3,  2125,     7,  1184],\n",
      "        [  181,     3,   357,  1148, 21121,    12,   397,     4,  1316],\n",
      "        [    0,   113,   154,     0,     0, 23562,   343,  1008,   315],\n",
      "        [  656,     2,  9077,  3231,   192,    61,  9774,    40,   933],\n",
      "        [    1,    65,     0,     0,     0,     0,   308, 23408,   113],\n",
      "        [    0,     3,     1,     1,    15,     0,   221,     0, 29393]])\n"
     ]
    },
    {
     "data": {
      "application/vnd.jupyter.widget-view+json": {
       "model_id": "e8c318e379ee467b9c13e8f19afbe878",
       "version_major": 2,
       "version_minor": 0
      },
      "text/plain": [
       "Validation: |          | 0/? [00:00<?, ?it/s]"
      ]
     },
     "metadata": {},
     "output_type": "display_data"
    },
    {
     "name": "stdout",
     "output_type": "stream",
     "text": [
      "Epoch end: Validation, epoch number: 10\n",
      "ValidationEpoch/CM\n",
      " tensor([[19541,     0,   434,  2927,   702,     3,   845,     5,  1147],\n",
      "        [    1, 32324,     0,     0,     0,    22,   247,     8,   316],\n",
      "        [   39,     0, 26277,   265,   128,    32,  4185,    73,   926],\n",
      "        [ 2973,     0,   375, 18623,  1106,     3,  2343,     7,  1184],\n",
      "        [  184,     3,   371,  1161, 23806,    12,   397,     4,  1316],\n",
      "        [    0,   113,   160,     0,     0, 26376,   343,  1008,   315],\n",
      "        [  663,     2,  9760,  3532,   193,    66, 11427,    40,   933],\n",
      "        [    2,    66,     0,     0,     0,     0,   308, 26051,   113],\n",
      "        [    0,     3,     1,     1,    15,     0,   221,     0, 32673]])\n",
      "Epoch end: Train, epoch number: 9\n",
      "TrainEpoch/CM\n",
      " tensor([[19541,     0,   434,  2927,   702,     3,   845,     5,  1147],\n",
      "        [    1, 32324,     0,     0,     0,    22,   247,     8,   316],\n",
      "        [   39,     0, 26277,   265,   128,    32,  4185,    73,   926],\n",
      "        [ 2973,     0,   375, 18623,  1106,     3,  2343,     7,  1184],\n",
      "        [  184,     3,   371,  1161, 23806,    12,   397,     4,  1316],\n",
      "        [    0,   113,   160,     0,     0, 26376,   343,  1008,   315],\n",
      "        [  663,     2,  9760,  3532,   193,    66, 11427,    40,   933],\n",
      "        [    2,    66,     0,     0,     0,     0,   308, 26051,   113],\n",
      "        [    0,     3,     1,     1,    15,     0,   221,     0, 32673]])\n"
     ]
    },
    {
     "name": "stderr",
     "output_type": "stream",
     "text": [
      "Metric Validation/Accuracy improved by 0.001 >= min_delta = 0.0. New best score: 0.921\n"
     ]
    },
    {
     "data": {
      "application/vnd.jupyter.widget-view+json": {
       "model_id": "f82995191e8f44fe893b99025b0dab74",
       "version_major": 2,
       "version_minor": 0
      },
      "text/plain": [
       "Validation: |          | 0/? [00:00<?, ?it/s]"
      ]
     },
     "metadata": {},
     "output_type": "display_data"
    },
    {
     "name": "stdout",
     "output_type": "stream",
     "text": [
      "Epoch end: Validation, epoch number: 11\n",
      "ValidationEpoch/CM\n",
      " tensor([[22050,     0,   434,  2953,   702,     3,   860,     5,  1147],\n",
      "        [    1, 35601,     0,     0,     0,    22,   247,    11,   316],\n",
      "        [   39,     0, 29020,   287,   137,    32,  4591,    73,   926],\n",
      "        [ 2983,     0,   375, 21067,  1127,     3,  2518,     7,  1184],\n",
      "        [  185,     3,   383,  1179, 26490,    12,   397,     4,  1316],\n",
      "        [    0,   113,   166,     0,     0, 29190,   343,  1008,   315],\n",
      "        [  671,     2, 10414,  3820,   193,    69, 13124,    40,   933],\n",
      "        [    2,    66,     0,     0,     0,     0,   308, 28696,   113],\n",
      "        [    0,     3,     1,     1,    15,     0,   221,     0, 35953]])\n",
      "Epoch end: Train, epoch number: 10\n",
      "TrainEpoch/CM\n",
      " tensor([[22050,     0,   434,  2953,   702,     3,   860,     5,  1147],\n",
      "        [    1, 35601,     0,     0,     0,    22,   247,    11,   316],\n",
      "        [   39,     0, 29020,   287,   137,    32,  4591,    73,   926],\n",
      "        [ 2983,     0,   375, 21067,  1127,     3,  2518,     7,  1184],\n",
      "        [  185,     3,   383,  1179, 26490,    12,   397,     4,  1316],\n",
      "        [    0,   113,   166,     0,     0, 29190,   343,  1008,   315],\n",
      "        [  671,     2, 10414,  3820,   193,    69, 13124,    40,   933],\n",
      "        [    2,    66,     0,     0,     0,     0,   308, 28696,   113],\n",
      "        [    0,     3,     1,     1,    15,     0,   221,     0, 35953]])\n"
     ]
    },
    {
     "name": "stderr",
     "output_type": "stream",
     "text": [
      "Metric Validation/Accuracy improved by 0.007 >= min_delta = 0.0. New best score: 0.928\n"
     ]
    },
    {
     "data": {
      "application/vnd.jupyter.widget-view+json": {
       "model_id": "3febc8ac8bee4d97b1b0b04f96553008",
       "version_major": 2,
       "version_minor": 0
      },
      "text/plain": [
       "Validation: |          | 0/? [00:00<?, ?it/s]"
      ]
     },
     "metadata": {},
     "output_type": "display_data"
    },
    {
     "name": "stdout",
     "output_type": "stream",
     "text": [
      "Epoch end: Validation, epoch number: 12\n",
      "ValidationEpoch/CM\n",
      " tensor([[24563,     0,   434,  2973,   702,     3,   877,     5,  1147],\n",
      "        [    1, 38880,     0,     0,     0,    22,   247,    12,   316],\n",
      "        [   39,     0, 31786,   306,   148,    32,  4975,    73,   926],\n",
      "        [ 2996,     0,   375, 23507,  1148,     3,  2694,     7,  1184],\n",
      "        [  186,     3,   392,  1199, 29175,    12,   397,     4,  1316],\n",
      "        [    0,   113,   173,     0,     0, 32003,   343,  1008,   315],\n",
      "        [  679,     2, 11029,  4077,   193,    74, 14889,    40,   933],\n",
      "        [    2,    66,     0,     0,     0,     0,   308, 31341,   113],\n",
      "        [    0,     3,     1,     1,    15,     0,   221,     0, 39233]])\n",
      "Epoch end: Train, epoch number: 11\n",
      "TrainEpoch/CM\n",
      " tensor([[24563,     0,   434,  2973,   702,     3,   877,     5,  1147],\n",
      "        [    1, 38880,     0,     0,     0,    22,   247,    12,   316],\n",
      "        [   39,     0, 31786,   306,   148,    32,  4975,    73,   926],\n",
      "        [ 2996,     0,   375, 23507,  1148,     3,  2694,     7,  1184],\n",
      "        [  186,     3,   392,  1199, 29175,    12,   397,     4,  1316],\n",
      "        [    0,   113,   173,     0,     0, 32003,   343,  1008,   315],\n",
      "        [  679,     2, 11029,  4077,   193,    74, 14889,    40,   933],\n",
      "        [    2,    66,     0,     0,     0,     0,   308, 31341,   113],\n",
      "        [    0,     3,     1,     1,    15,     0,   221,     0, 39233]])\n"
     ]
    },
    {
     "name": "stderr",
     "output_type": "stream",
     "text": [
      "Metric Validation/Accuracy improved by 0.004 >= min_delta = 0.0. New best score: 0.932\n"
     ]
    },
    {
     "data": {
      "application/vnd.jupyter.widget-view+json": {
       "model_id": "e00234e1d6ef4a6fa4611e15c6449c74",
       "version_major": 2,
       "version_minor": 0
      },
      "text/plain": [
       "Validation: |          | 0/? [00:00<?, ?it/s]"
      ]
     },
     "metadata": {},
     "output_type": "display_data"
    },
    {
     "name": "stdout",
     "output_type": "stream",
     "text": [
      "Epoch end: Validation, epoch number: 13\n",
      "ValidationEpoch/CM\n",
      " tensor([[27077,     0,   434,  2998,   702,     3,   888,     5,  1147],\n",
      "        [    1, 42160,     0,     0,     0,    22,   247,    12,   316],\n",
      "        [   39,     0, 34532,   331,   157,    32,  5375,    73,   926],\n",
      "        [ 3008,     0,   375, 25961,  1170,     3,  2856,     7,  1184],\n",
      "        [  186,     3,   395,  1213, 31873,    12,   397,     4,  1316],\n",
      "        [    0,   113,   178,     0,     0, 34818,   343,  1008,   315],\n",
      "        [  685,     2, 11604,  4339,   193,    80, 16690,    40,   933],\n",
      "        [    3,    66,     0,     0,     0,     0,   308, 33985,   113],\n",
      "        [    0,     3,     1,     1,    15,     0,   221,     0, 42513]])\n"
     ]
    },
    {
     "name": "stderr",
     "output_type": "stream",
     "text": [
      "Metric Validation/Accuracy improved by 0.006 >= min_delta = 0.0. New best score: 0.938\n"
     ]
    },
    {
     "name": "stdout",
     "output_type": "stream",
     "text": [
      "Epoch end: Train, epoch number: 12\n",
      "TrainEpoch/CM\n",
      " tensor([[27077,     0,   434,  2998,   702,     3,   888,     5,  1147],\n",
      "        [    1, 42160,     0,     0,     0,    22,   247,    12,   316],\n",
      "        [   39,     0, 34532,   331,   157,    32,  5375,    73,   926],\n",
      "        [ 3008,     0,   375, 25961,  1170,     3,  2856,     7,  1184],\n",
      "        [  186,     3,   395,  1213, 31873,    12,   397,     4,  1316],\n",
      "        [    0,   113,   178,     0,     0, 34818,   343,  1008,   315],\n",
      "        [  685,     2, 11604,  4339,   193,    80, 16690,    40,   933],\n",
      "        [    3,    66,     0,     0,     0,     0,   308, 33985,   113],\n",
      "        [    0,     3,     1,     1,    15,     0,   221,     0, 42513]])\n"
     ]
    },
    {
     "data": {
      "application/vnd.jupyter.widget-view+json": {
       "model_id": "0995a87b4bb44fd1912b8837adb08786",
       "version_major": 2,
       "version_minor": 0
      },
      "text/plain": [
       "Validation: |          | 0/? [00:00<?, ?it/s]"
      ]
     },
     "metadata": {},
     "output_type": "display_data"
    },
    {
     "name": "stdout",
     "output_type": "stream",
     "text": [
      "Epoch end: Validation, epoch number: 14\n",
      "ValidationEpoch/CM\n",
      " tensor([[29593,     0,   434,  3021,   702,     3,   899,     5,  1147],\n",
      "        [    1, 45439,     0,     0,     0,    22,   247,    13,   316],\n",
      "        [   39,     0, 37204,   357,   164,    33,  5849,    73,   926],\n",
      "        [ 3023,     0,   377, 28423,  1186,     3,  3011,     7,  1184],\n",
      "        [  189,     3,   398,  1229, 34566,    12,   397,     4,  1316],\n",
      "        [    0,   113,   183,     0,     0, 37633,   343,  1008,   315],\n",
      "        [  705,     2, 12180,  4577,   196,    85, 18498,    40,   933],\n",
      "        [    3,    66,     0,     0,     0,     0,   308, 36630,   113],\n",
      "        [    0,     3,     1,     1,    15,     0,   221,     0, 45793]])\n",
      "Epoch end: Train, epoch number: 13\n",
      "TrainEpoch/CM\n",
      " tensor([[29593,     0,   434,  3021,   702,     3,   899,     5,  1147],\n",
      "        [    1, 45439,     0,     0,     0,    22,   247,    13,   316],\n",
      "        [   39,     0, 37204,   357,   164,    33,  5849,    73,   926],\n",
      "        [ 3023,     0,   377, 28423,  1186,     3,  3011,     7,  1184],\n",
      "        [  189,     3,   398,  1229, 34566,    12,   397,     4,  1316],\n",
      "        [    0,   113,   183,     0,     0, 37633,   343,  1008,   315],\n",
      "        [  705,     2, 12180,  4577,   196,    85, 18498,    40,   933],\n",
      "        [    3,    66,     0,     0,     0,     0,   308, 36630,   113],\n",
      "        [    0,     3,     1,     1,    15,     0,   221,     0, 45793]])\n"
     ]
    },
    {
     "data": {
      "application/vnd.jupyter.widget-view+json": {
       "model_id": "d4c9f2e5e30c4032975cdb94432d9310",
       "version_major": 2,
       "version_minor": 0
      },
      "text/plain": [
       "Validation: |          | 0/? [00:00<?, ?it/s]"
      ]
     },
     "metadata": {},
     "output_type": "display_data"
    },
    {
     "name": "stdout",
     "output_type": "stream",
     "text": [
      "Epoch end: Validation, epoch number: 15\n",
      "ValidationEpoch/CM\n",
      " tensor([[32111,     0,   434,  3040,   702,     3,   912,     5,  1147],\n",
      "        [    1, 48719,     0,     0,     0,    22,   247,    13,   316],\n",
      "        [   39,     0, 39953,   383,   168,    34,  6249,    73,   926],\n",
      "        [ 3034,     0,   377, 30841,  1203,     3,  3215,     7,  1184],\n",
      "        [  189,     3,   400,  1244, 37264,    12,   397,     4,  1316],\n",
      "        [    0,   113,   190,     0,     0, 40446,   343,  1008,   315],\n",
      "        [  714,     2, 12721,  4801,   197,    90, 20368,    40,   933],\n",
      "        [    3,    66,     0,     0,     0,     0,   308, 39275,   113],\n",
      "        [    0,     3,     1,     1,    15,     0,   221,     0, 49073]])\n",
      "Epoch end: Train, epoch number: 14\n",
      "TrainEpoch/CM\n",
      " tensor([[32111,     0,   434,  3040,   702,     3,   912,     5,  1147],\n",
      "        [    1, 48719,     0,     0,     0,    22,   247,    13,   316],\n",
      "        [   39,     0, 39953,   383,   168,    34,  6249,    73,   926],\n",
      "        [ 3034,     0,   377, 30841,  1203,     3,  3215,     7,  1184],\n",
      "        [  189,     3,   400,  1244, 37264,    12,   397,     4,  1316],\n",
      "        [    0,   113,   190,     0,     0, 40446,   343,  1008,   315],\n",
      "        [  714,     2, 12721,  4801,   197,    90, 20368,    40,   933],\n",
      "        [    3,    66,     0,     0,     0,     0,   308, 39275,   113],\n",
      "        [    0,     3,     1,     1,    15,     0,   221,     0, 49073]])\n"
     ]
    },
    {
     "data": {
      "application/vnd.jupyter.widget-view+json": {
       "model_id": "7d70c236d0594dafad5fc86f6e11d395",
       "version_major": 2,
       "version_minor": 0
      },
      "text/plain": [
       "Validation: |          | 0/? [00:00<?, ?it/s]"
      ]
     },
     "metadata": {},
     "output_type": "display_data"
    },
    {
     "name": "stdout",
     "output_type": "stream",
     "text": [
      "Epoch end: Validation, epoch number: 16\n",
      "ValidationEpoch/CM\n",
      " tensor([[34627,     0,   434,  3063,   702,     3,   923,     5,  1147],\n",
      "        [    1, 51999,     0,     0,     0,    22,   247,    13,   316],\n",
      "        [   39,     0, 42740,   404,   171,    34,  6618,    73,   926],\n",
      "        [ 3044,     0,   377, 33338,  1220,     3,  3341,     7,  1184],\n",
      "        [  190,     3,   401,  1255, 39966,    12,   397,     4,  1316],\n",
      "        [    0,   113,   195,     0,     0, 43261,   343,  1008,   315],\n",
      "        [  722,     2, 13309,  5044,   201,    95, 22170,    40,   933],\n",
      "        [    3,    66,     0,     0,     0,     0,   308, 41920,   113],\n",
      "        [    0,     3,     1,     1,    15,     0,   221,     0, 52353]])\n",
      "Epoch end: Train, epoch number: 15\n",
      "TrainEpoch/CM\n",
      " tensor([[34627,     0,   434,  3063,   702,     3,   923,     5,  1147],\n",
      "        [    1, 51999,     0,     0,     0,    22,   247,    13,   316],\n",
      "        [   39,     0, 42740,   404,   171,    34,  6618,    73,   926],\n",
      "        [ 3044,     0,   377, 33338,  1220,     3,  3341,     7,  1184],\n",
      "        [  190,     3,   401,  1255, 39966,    12,   397,     4,  1316],\n",
      "        [    0,   113,   195,     0,     0, 43261,   343,  1008,   315],\n",
      "        [  722,     2, 13309,  5044,   201,    95, 22170,    40,   933],\n",
      "        [    3,    66,     0,     0,     0,     0,   308, 41920,   113],\n",
      "        [    0,     3,     1,     1,    15,     0,   221,     0, 52353]])\n"
     ]
    },
    {
     "name": "stderr",
     "output_type": "stream",
     "text": [
      "Metric Validation/Accuracy improved by 0.002 >= min_delta = 0.0. New best score: 0.940\n"
     ]
    },
    {
     "data": {
      "application/vnd.jupyter.widget-view+json": {
       "model_id": "9a497fcbdc0f407ba0263ad0473d8caa",
       "version_major": 2,
       "version_minor": 0
      },
      "text/plain": [
       "Validation: |          | 0/? [00:00<?, ?it/s]"
      ]
     },
     "metadata": {},
     "output_type": "display_data"
    },
    {
     "name": "stdout",
     "output_type": "stream",
     "text": [
      "Epoch end: Validation, epoch number: 17\n",
      "ValidationEpoch/CM\n",
      " tensor([[37144,     0,   434,  3084,   702,     3,   935,     5,  1147],\n",
      "        [    1, 55279,     0,     0,     0,    22,   247,    13,   316],\n",
      "        [   39,     0, 45470,   429,   173,    35,  7040,    73,   926],\n",
      "        [ 3055,     0,   377, 35851,  1235,     3,  3452,     7,  1184],\n",
      "        [  190,     3,   401,  1266, 42668,    12,   399,     4,  1316],\n",
      "        [    0,   113,   200,     0,     0, 46076,   343,  1008,   315],\n",
      "        [  729,     2, 13840,  5288,   205,   102, 24027,    40,   933],\n",
      "        [    3,    66,     0,     0,     0,     0,   308, 44565,   113],\n",
      "        [    0,     3,     1,     1,    15,     0,   221,     0, 55633]])\n",
      "Epoch end: Train, epoch number: 16\n",
      "TrainEpoch/CM\n",
      " tensor([[37144,     0,   434,  3084,   702,     3,   935,     5,  1147],\n",
      "        [    1, 55279,     0,     0,     0,    22,   247,    13,   316],\n",
      "        [   39,     0, 45470,   429,   173,    35,  7040,    73,   926],\n",
      "        [ 3055,     0,   377, 35851,  1235,     3,  3452,     7,  1184],\n",
      "        [  190,     3,   401,  1266, 42668,    12,   399,     4,  1316],\n",
      "        [    0,   113,   200,     0,     0, 46076,   343,  1008,   315],\n",
      "        [  729,     2, 13840,  5288,   205,   102, 24027,    40,   933],\n",
      "        [    3,    66,     0,     0,     0,     0,   308, 44565,   113],\n",
      "        [    0,     3,     1,     1,    15,     0,   221,     0, 55633]])\n"
     ]
    },
    {
     "name": "stderr",
     "output_type": "stream",
     "text": [
      "Metric Validation/Accuracy improved by 0.005 >= min_delta = 0.0. New best score: 0.945\n"
     ]
    },
    {
     "data": {
      "application/vnd.jupyter.widget-view+json": {
       "model_id": "d28e8e2b78204e0c818677a2003320f8",
       "version_major": 2,
       "version_minor": 0
      },
      "text/plain": [
       "Validation: |          | 0/? [00:00<?, ?it/s]"
      ]
     },
     "metadata": {},
     "output_type": "display_data"
    },
    {
     "name": "stdout",
     "output_type": "stream",
     "text": [
      "Epoch end: Validation, epoch number: 18\n",
      "ValidationEpoch/CM\n",
      " tensor([[39654,     0,   434,  3112,   702,     3,   947,     5,  1147],\n",
      "        [    1, 58559,     0,     0,     0,    22,   247,    13,   316],\n",
      "        [   39,     0, 48291,   456,   177,    36,  7367,    73,   926],\n",
      "        [ 3065,     0,   379, 38351,  1247,     3,  3578,     7,  1184],\n",
      "        [  193,     3,   405,  1273, 45369,    12,   399,     4,  1316],\n",
      "        [    0,   113,   205,     0,     0, 48891,   343,  1008,   315],\n",
      "        [  744,     2, 14497,  5497,   208,   107, 25788,    40,   933],\n",
      "        [    3,    66,     0,     0,     0,     0,   308, 47210,   113],\n",
      "        [    0,     3,     1,     1,    15,     0,   221,     0, 58913]])\n",
      "Epoch end: Train, epoch number: 17\n",
      "TrainEpoch/CM\n",
      " tensor([[39654,     0,   434,  3112,   702,     3,   947,     5,  1147],\n",
      "        [    1, 58559,     0,     0,     0,    22,   247,    13,   316],\n",
      "        [   39,     0, 48291,   456,   177,    36,  7367,    73,   926],\n",
      "        [ 3065,     0,   379, 38351,  1247,     3,  3578,     7,  1184],\n",
      "        [  193,     3,   405,  1273, 45369,    12,   399,     4,  1316],\n",
      "        [    0,   113,   205,     0,     0, 48891,   343,  1008,   315],\n",
      "        [  744,     2, 14497,  5497,   208,   107, 25788,    40,   933],\n",
      "        [    3,    66,     0,     0,     0,     0,   308, 47210,   113],\n",
      "        [    0,     3,     1,     1,    15,     0,   221,     0, 58913]])\n"
     ]
    },
    {
     "data": {
      "application/vnd.jupyter.widget-view+json": {
       "model_id": "56d4c6785cda4b4e8eca3f387d28bfc3",
       "version_major": 2,
       "version_minor": 0
      },
      "text/plain": [
       "Validation: |          | 0/? [00:00<?, ?it/s]"
      ]
     },
     "metadata": {},
     "output_type": "display_data"
    },
    {
     "name": "stdout",
     "output_type": "stream",
     "text": [
      "Epoch end: Validation, epoch number: 19\n",
      "ValidationEpoch/CM\n",
      " tensor([[42170,     0,   434,  3128,   702,     3,   965,     5,  1147],\n",
      "        [    1, 61839,     0,     0,     0,    22,   247,    13,   316],\n",
      "        [   39,     0, 51113,   477,   179,    36,  7702,    73,   926],\n",
      "        [ 3077,     0,   387, 40797,  1258,     3,  3751,     7,  1184],\n",
      "        [  193,     3,   408,  1281, 48073,    12,   399,     4,  1316],\n",
      "        [    0,   113,   210,     0,     0, 51706,   343,  1008,   315],\n",
      "        [  749,     2, 15079,  5683,   208,   112, 27660,    40,   933],\n",
      "        [    3,    66,     0,     0,     0,     0,   308, 49855,   113],\n",
      "        [    0,     3,     1,     1,    15,     0,   221,     0, 62193]])\n",
      "Epoch end: Train, epoch number: 18\n",
      "TrainEpoch/CM\n",
      " tensor([[42170,     0,   434,  3128,   702,     3,   965,     5,  1147],\n",
      "        [    1, 61839,     0,     0,     0,    22,   247,    13,   316],\n",
      "        [   39,     0, 51113,   477,   179,    36,  7702,    73,   926],\n",
      "        [ 3077,     0,   387, 40797,  1258,     3,  3751,     7,  1184],\n",
      "        [  193,     3,   408,  1281, 48073,    12,   399,     4,  1316],\n",
      "        [    0,   113,   210,     0,     0, 51706,   343,  1008,   315],\n",
      "        [  749,     2, 15079,  5683,   208,   112, 27660,    40,   933],\n",
      "        [    3,    66,     0,     0,     0,     0,   308, 49855,   113],\n",
      "        [    0,     3,     1,     1,    15,     0,   221,     0, 62193]])\n"
     ]
    },
    {
     "data": {
      "application/vnd.jupyter.widget-view+json": {
       "model_id": "b3247adf14ea40eca9f97a20779916b5",
       "version_major": 2,
       "version_minor": 0
      },
      "text/plain": [
       "Validation: |          | 0/? [00:00<?, ?it/s]"
      ]
     },
     "metadata": {},
     "output_type": "display_data"
    },
    {
     "name": "stdout",
     "output_type": "stream",
     "text": [
      "Epoch end: Validation, epoch number: 20\n",
      "ValidationEpoch/CM\n",
      " tensor([[44692,     0,   434,  3146,   702,     3,   975,     5,  1147],\n",
      "        [    1, 65119,     0,     0,     0,    22,   247,    13,   316],\n",
      "        [   39,     0, 53830,   502,   180,    36,  8139,    73,   926],\n",
      "        [ 3090,     0,   387, 43287,  1266,     3,  3890,     7,  1184],\n",
      "        [  193,     3,   412,  1289, 50775,    12,   400,     4,  1316],\n",
      "        [    0,   113,   215,     0,     0, 54521,   343,  1008,   315],\n",
      "        [  754,     2, 15547,  5858,   213,   117, 29652,    40,   933],\n",
      "        [    3,    66,     0,     0,     0,     0,   308, 52500,   113],\n",
      "        [    0,     3,     1,     1,    15,     0,   221,     0, 65473]])\n",
      "Epoch end: Train, epoch number: 19\n",
      "TrainEpoch/CM\n",
      " tensor([[44692,     0,   434,  3146,   702,     3,   975,     5,  1147],\n",
      "        [    1, 65119,     0,     0,     0,    22,   247,    13,   316],\n",
      "        [   39,     0, 53830,   502,   180,    36,  8139,    73,   926],\n",
      "        [ 3090,     0,   387, 43287,  1266,     3,  3890,     7,  1184],\n",
      "        [  193,     3,   412,  1289, 50775,    12,   400,     4,  1316],\n",
      "        [    0,   113,   215,     0,     0, 54521,   343,  1008,   315],\n",
      "        [  754,     2, 15547,  5858,   213,   117, 29652,    40,   933],\n",
      "        [    3,    66,     0,     0,     0,     0,   308, 52500,   113],\n",
      "        [    0,     3,     1,     1,    15,     0,   221,     0, 65473]])\n"
     ]
    },
    {
     "name": "stderr",
     "output_type": "stream",
     "text": [
      "Metric Validation/Accuracy improved by 0.000 >= min_delta = 0.0. New best score: 0.945\n"
     ]
    },
    {
     "data": {
      "application/vnd.jupyter.widget-view+json": {
       "model_id": "6508808a23cc4bda93d40ace8196dbe9",
       "version_major": 2,
       "version_minor": 0
      },
      "text/plain": [
       "Validation: |          | 0/? [00:00<?, ?it/s]"
      ]
     },
     "metadata": {},
     "output_type": "display_data"
    },
    {
     "name": "stdout",
     "output_type": "stream",
     "text": [
      "Epoch end: Validation, epoch number: 21\n",
      "ValidationEpoch/CM\n",
      " tensor([[47214,     0,   434,  3163,   702,     3,   986,     5,  1147],\n",
      "        [    1, 68399,     0,     0,     0,    22,   247,    13,   316],\n",
      "        [   39,     0, 56602,   528,   180,    36,  8521,    73,   926],\n",
      "        [ 3100,     0,   388, 45794,  1273,     3,  4015,     7,  1184],\n",
      "        [  193,     3,   412,  1295, 53484,    12,   400,     4,  1316],\n",
      "        [    0,   113,   220,     0,     0, 57336,   343,  1008,   315],\n",
      "        [  761,     2, 16025,  6041,   215,   122, 31627,    40,   933],\n",
      "        [    3,    66,     0,     0,     0,     0,   308, 55145,   113],\n",
      "        [    0,     3,     1,     1,    15,     0,   221,     0, 68753]])\n",
      "Epoch end: Train, epoch number: 20\n",
      "TrainEpoch/CM\n",
      " tensor([[47214,     0,   434,  3163,   702,     3,   986,     5,  1147],\n",
      "        [    1, 68399,     0,     0,     0,    22,   247,    13,   316],\n",
      "        [   39,     0, 56602,   528,   180,    36,  8521,    73,   926],\n",
      "        [ 3100,     0,   388, 45794,  1273,     3,  4015,     7,  1184],\n",
      "        [  193,     3,   412,  1295, 53484,    12,   400,     4,  1316],\n",
      "        [    0,   113,   220,     0,     0, 57336,   343,  1008,   315],\n",
      "        [  761,     2, 16025,  6041,   215,   122, 31627,    40,   933],\n",
      "        [    3,    66,     0,     0,     0,     0,   308, 55145,   113],\n",
      "        [    0,     3,     1,     1,    15,     0,   221,     0, 68753]])\n"
     ]
    },
    {
     "name": "stderr",
     "output_type": "stream",
     "text": [
      "Metric Validation/Accuracy improved by 0.004 >= min_delta = 0.0. New best score: 0.949\n"
     ]
    },
    {
     "data": {
      "application/vnd.jupyter.widget-view+json": {
       "model_id": "80c96a7f11cf4656be80724d403b8817",
       "version_major": 2,
       "version_minor": 0
      },
      "text/plain": [
       "Validation: |          | 0/? [00:00<?, ?it/s]"
      ]
     },
     "metadata": {},
     "output_type": "display_data"
    },
    {
     "name": "stdout",
     "output_type": "stream",
     "text": [
      "Epoch end: Validation, epoch number: 22\n",
      "ValidationEpoch/CM\n",
      " tensor([[49741,     0,   434,  3176,   702,     3,   996,     5,  1147],\n",
      "        [    1, 71679,     0,     0,     0,    22,   247,    13,   316],\n",
      "        [   39,     0, 59289,   555,   180,    36,  8987,    73,   926],\n",
      "        [ 3110,     0,   388, 48298,  1279,     3,  4145,     7,  1184],\n",
      "        [  193,     3,   412,  1299, 56192,    12,   403,     4,  1316],\n",
      "        [    0,   113,   225,     0,     0, 60151,   343,  1008,   315],\n",
      "        [  764,     2, 16447,  6187,   217,   126, 33700,    40,   933],\n",
      "        [    3,    66,     0,     0,     0,     0,   308, 57790,   113],\n",
      "        [    0,     3,     1,     1,    15,     0,   221,     0, 72033]])\n",
      "Epoch end: Train, epoch number: 21\n",
      "TrainEpoch/CM\n",
      " tensor([[49741,     0,   434,  3176,   702,     3,   996,     5,  1147],\n",
      "        [    1, 71679,     0,     0,     0,    22,   247,    13,   316],\n",
      "        [   39,     0, 59289,   555,   180,    36,  8987,    73,   926],\n",
      "        [ 3110,     0,   388, 48298,  1279,     3,  4145,     7,  1184],\n",
      "        [  193,     3,   412,  1299, 56192,    12,   403,     4,  1316],\n",
      "        [    0,   113,   225,     0,     0, 60151,   343,  1008,   315],\n",
      "        [  764,     2, 16447,  6187,   217,   126, 33700,    40,   933],\n",
      "        [    3,    66,     0,     0,     0,     0,   308, 57790,   113],\n",
      "        [    0,     3,     1,     1,    15,     0,   221,     0, 72033]])\n"
     ]
    },
    {
     "data": {
      "application/vnd.jupyter.widget-view+json": {
       "model_id": "88da4b92a0244b4f9ac98780e36c2513",
       "version_major": 2,
       "version_minor": 0
      },
      "text/plain": [
       "Validation: |          | 0/? [00:00<?, ?it/s]"
      ]
     },
     "metadata": {},
     "output_type": "display_data"
    },
    {
     "name": "stdout",
     "output_type": "stream",
     "text": [
      "Epoch end: Validation, epoch number: 23\n",
      "ValidationEpoch/CM\n",
      " tensor([[52269,     0,   434,  3188,   702,     3,  1006,     5,  1147],\n",
      "        [    1, 74959,     0,     0,     0,    22,   247,    13,   316],\n",
      "        [   39,     0, 62017,   581,   180,    39,  9410,    73,   926],\n",
      "        [ 3121,     0,   388, 50806,  1284,     3,  4271,     7,  1184],\n",
      "        [  193,     3,   413,  1303, 58901,    12,   404,     4,  1316],\n",
      "        [    0,   113,   230,     0,     0, 62966,   343,  1008,   315],\n",
      "        [  768,     2, 16889,  6353,   219,   135, 35727,    40,   933],\n",
      "        [    3,    66,     0,     0,     0,     0,   308, 60435,   113],\n",
      "        [    0,     3,     1,     1,    15,     0,   221,     0, 75313]])\n",
      "Epoch end: Train, epoch number: 22\n",
      "TrainEpoch/CM\n",
      " tensor([[52269,     0,   434,  3188,   702,     3,  1006,     5,  1147],\n",
      "        [    1, 74959,     0,     0,     0,    22,   247,    13,   316],\n",
      "        [   39,     0, 62017,   581,   180,    39,  9410,    73,   926],\n",
      "        [ 3121,     0,   388, 50806,  1284,     3,  4271,     7,  1184],\n",
      "        [  193,     3,   413,  1303, 58901,    12,   404,     4,  1316],\n",
      "        [    0,   113,   230,     0,     0, 62966,   343,  1008,   315],\n",
      "        [  768,     2, 16889,  6353,   219,   135, 35727,    40,   933],\n",
      "        [    3,    66,     0,     0,     0,     0,   308, 60435,   113],\n",
      "        [    0,     3,     1,     1,    15,     0,   221,     0, 75313]])\n"
     ]
    },
    {
     "name": "stderr",
     "output_type": "stream",
     "text": [
      "Metric Validation/Accuracy improved by 0.003 >= min_delta = 0.0. New best score: 0.952\n"
     ]
    },
    {
     "data": {
      "application/vnd.jupyter.widget-view+json": {
       "model_id": "7de34a75f76d4c678edfd7a50a55f5b6",
       "version_major": 2,
       "version_minor": 0
      },
      "text/plain": [
       "Validation: |          | 0/? [00:00<?, ?it/s]"
      ]
     },
     "metadata": {},
     "output_type": "display_data"
    },
    {
     "name": "stdout",
     "output_type": "stream",
     "text": [
      "Epoch end: Validation, epoch number: 24\n",
      "ValidationEpoch/CM\n",
      " tensor([[54795,     0,   434,  3202,   702,     3,  1016,     5,  1147],\n",
      "        [    1, 78239,     0,     0,     0,    22,   247,    13,   316],\n",
      "        [   39,     0, 64724,   609,   180,    39,  9855,    73,   926],\n",
      "        [ 3132,     0,   388, 53320,  1286,     3,  4394,     7,  1184],\n",
      "        [  193,     3,   413,  1307, 61612,    12,   404,     4,  1316],\n",
      "        [    0,   113,   235,     0,     0, 65781,   343,  1008,   315],\n",
      "        [  774,     2, 17319,  6506,   225,   138, 37779,    40,   933],\n",
      "        [    3,    66,     0,     0,     0,     0,   308, 63080,   113],\n",
      "        [    0,     3,     1,     1,    15,     0,   221,     0, 78593]])\n",
      "Epoch end: Train, epoch number: 23\n",
      "TrainEpoch/CM\n",
      " tensor([[54795,     0,   434,  3202,   702,     3,  1016,     5,  1147],\n",
      "        [    1, 78239,     0,     0,     0,    22,   247,    13,   316],\n",
      "        [   39,     0, 64724,   609,   180,    39,  9855,    73,   926],\n",
      "        [ 3132,     0,   388, 53320,  1286,     3,  4394,     7,  1184],\n",
      "        [  193,     3,   413,  1307, 61612,    12,   404,     4,  1316],\n",
      "        [    0,   113,   235,     0,     0, 65781,   343,  1008,   315],\n",
      "        [  774,     2, 17319,  6506,   225,   138, 37779,    40,   933],\n",
      "        [    3,    66,     0,     0,     0,     0,   308, 63080,   113],\n",
      "        [    0,     3,     1,     1,    15,     0,   221,     0, 78593]])\n"
     ]
    },
    {
     "data": {
      "application/vnd.jupyter.widget-view+json": {
       "model_id": "8af6adddf2cb4e768d181aa02aed120a",
       "version_major": 2,
       "version_minor": 0
      },
      "text/plain": [
       "Validation: |          | 0/? [00:00<?, ?it/s]"
      ]
     },
     "metadata": {},
     "output_type": "display_data"
    },
    {
     "name": "stdout",
     "output_type": "stream",
     "text": [
      "Epoch end: Validation, epoch number: 25\n",
      "ValidationEpoch/CM\n",
      " tensor([[57316,     0,   434,  3221,   702,     3,  1026,     5,  1147],\n",
      "        [    1, 81519,     0,     0,     0,    22,   247,    13,   316],\n",
      "        [   39,     0, 67519,   635,   180,    47, 10206,    73,   926],\n",
      "        [ 3142,     0,   389, 55853,  1291,     3,  4495,     7,  1184],\n",
      "        [  193,     3,   417,  1311, 64317,    12,   406,     4,  1316],\n",
      "        [    0,   113,   240,     0,     0, 68595,   344,  1008,   315],\n",
      "        [  782,     2, 17871,  6663,   231,   146, 39698,    40,   933],\n",
      "        [    3,    66,     0,     0,     0,     0,   308, 65725,   113],\n",
      "        [    0,     3,     1,     1,    15,     0,   221,     0, 81873]])\n",
      "Epoch end: Train, epoch number: 24\n",
      "TrainEpoch/CM\n",
      " tensor([[57316,     0,   434,  3221,   702,     3,  1026,     5,  1147],\n",
      "        [    1, 81519,     0,     0,     0,    22,   247,    13,   316],\n",
      "        [   39,     0, 67519,   635,   180,    47, 10206,    73,   926],\n",
      "        [ 3142,     0,   389, 55853,  1291,     3,  4495,     7,  1184],\n",
      "        [  193,     3,   417,  1311, 64317,    12,   406,     4,  1316],\n",
      "        [    0,   113,   240,     0,     0, 68595,   344,  1008,   315],\n",
      "        [  782,     2, 17871,  6663,   231,   146, 39698,    40,   933],\n",
      "        [    3,    66,     0,     0,     0,     0,   308, 65725,   113],\n",
      "        [    0,     3,     1,     1,    15,     0,   221,     0, 81873]])\n"
     ]
    },
    {
     "data": {
      "application/vnd.jupyter.widget-view+json": {
       "model_id": "f11f5d2745e245f9b24ae6f7ef5181b8",
       "version_major": 2,
       "version_minor": 0
      },
      "text/plain": [
       "Validation: |          | 0/? [00:00<?, ?it/s]"
      ]
     },
     "metadata": {},
     "output_type": "display_data"
    },
    {
     "name": "stdout",
     "output_type": "stream",
     "text": [
      "Epoch end: Validation, epoch number: 26\n",
      "ValidationEpoch/CM\n",
      " tensor([[59841,     0,   434,  3237,   702,     3,  1035,     5,  1147],\n",
      "        [    1, 84799,     0,     0,     0,    22,   247,    13,   316],\n",
      "        [   39,     0, 70366,   657,   180,    48, 10516,    73,   926],\n",
      "        [ 3152,     0,   391, 58380,  1292,     3,  4605,     7,  1184],\n",
      "        [  193,     3,   417,  1314, 67027,    12,   408,     4,  1316],\n",
      "        [    0,   113,   245,     0,     0, 71410,   344,  1008,   315],\n",
      "        [  784,     2, 18347,  6819,   239,   152, 41700,    40,   933],\n",
      "        [    3,    66,     0,     0,     0,     0,   308, 68370,   113],\n",
      "        [    0,     3,     1,     1,    15,     0,   221,     0, 85153]])\n"
     ]
    },
    {
     "name": "stderr",
     "output_type": "stream",
     "text": [
      "Metric Validation/Accuracy improved by 0.002 >= min_delta = 0.0. New best score: 0.954\n"
     ]
    },
    {
     "name": "stdout",
     "output_type": "stream",
     "text": [
      "Epoch end: Train, epoch number: 25\n",
      "TrainEpoch/CM\n",
      " tensor([[59841,     0,   434,  3237,   702,     3,  1035,     5,  1147],\n",
      "        [    1, 84799,     0,     0,     0,    22,   247,    13,   316],\n",
      "        [   39,     0, 70366,   657,   180,    48, 10516,    73,   926],\n",
      "        [ 3152,     0,   391, 58380,  1292,     3,  4605,     7,  1184],\n",
      "        [  193,     3,   417,  1314, 67027,    12,   408,     4,  1316],\n",
      "        [    0,   113,   245,     0,     0, 71410,   344,  1008,   315],\n",
      "        [  784,     2, 18347,  6819,   239,   152, 41700,    40,   933],\n",
      "        [    3,    66,     0,     0,     0,     0,   308, 68370,   113],\n",
      "        [    0,     3,     1,     1,    15,     0,   221,     0, 85153]])\n"
     ]
    },
    {
     "data": {
      "application/vnd.jupyter.widget-view+json": {
       "model_id": "3479380860fa4cd989e5e4faa9fe8436",
       "version_major": 2,
       "version_minor": 0
      },
      "text/plain": [
       "Validation: |          | 0/? [00:00<?, ?it/s]"
      ]
     },
     "metadata": {},
     "output_type": "display_data"
    },
    {
     "name": "stdout",
     "output_type": "stream",
     "text": [
      "Epoch end: Validation, epoch number: 27\n",
      "ValidationEpoch/CM\n",
      " tensor([[62377,     0,   434,  3245,   702,     3,  1041,     5,  1147],\n",
      "        [    1, 88079,     0,     0,     0,    22,   247,    13,   316],\n",
      "        [   39,     0, 73196,   683,   180,    48, 10840,    73,   926],\n",
      "        [ 3164,     0,   394, 60914,  1296,     3,  4702,     7,  1184],\n",
      "        [  193,     3,   420,  1318, 69730,    12,   413,     4,  1316],\n",
      "        [    0,   113,   250,     0,     0, 74225,   344,  1008,   315],\n",
      "        [  786,     2, 18767,  6963,   248,   156, 43771,    40,   933],\n",
      "        [    3,    66,     0,     0,     0,     0,   308, 71015,   113],\n",
      "        [    0,     3,     1,     1,    15,     0,   221,     0, 88433]])\n",
      "Epoch end: Train, epoch number: 26\n",
      "TrainEpoch/CM\n",
      " tensor([[62377,     0,   434,  3245,   702,     3,  1041,     5,  1147],\n",
      "        [    1, 88079,     0,     0,     0,    22,   247,    13,   316],\n",
      "        [   39,     0, 73196,   683,   180,    48, 10840,    73,   926],\n",
      "        [ 3164,     0,   394, 60914,  1296,     3,  4702,     7,  1184],\n",
      "        [  193,     3,   420,  1318, 69730,    12,   413,     4,  1316],\n",
      "        [    0,   113,   250,     0,     0, 74225,   344,  1008,   315],\n",
      "        [  786,     2, 18767,  6963,   248,   156, 43771,    40,   933],\n",
      "        [    3,    66,     0,     0,     0,     0,   308, 71015,   113],\n",
      "        [    0,     3,     1,     1,    15,     0,   221,     0, 88433]])\n"
     ]
    },
    {
     "name": "stderr",
     "output_type": "stream",
     "text": [
      "Metric Validation/Accuracy improved by 0.003 >= min_delta = 0.0. New best score: 0.958\n"
     ]
    },
    {
     "data": {
      "application/vnd.jupyter.widget-view+json": {
       "model_id": "742c288ef5de43139ecc453ce3ed2afa",
       "version_major": 2,
       "version_minor": 0
      },
      "text/plain": [
       "Validation: |          | 0/? [00:00<?, ?it/s]"
      ]
     },
     "metadata": {},
     "output_type": "display_data"
    },
    {
     "name": "stdout",
     "output_type": "stream",
     "text": [
      "Epoch end: Validation, epoch number: 28\n",
      "ValidationEpoch/CM\n",
      " tensor([[64906,     0,   434,  3255,   702,     3,  1052,     5,  1147],\n",
      "        [    1, 91359,     0,     0,     0,    22,   247,    13,   316],\n",
      "        [   39,     0, 76052,   708,   180,    48, 11139,    73,   926],\n",
      "        [ 3171,     0,   403, 63417,  1298,     3,  4831,     7,  1184],\n",
      "        [  193,     3,   421,  1319, 72440,    12,   416,     4,  1316],\n",
      "        [    0,   113,   255,     0,     0, 77040,   344,  1008,   315],\n",
      "        [  788,     2, 19226,  7089,   254,   159, 45825,    40,   933],\n",
      "        [    3,    66,     0,     0,     0,     0,   308, 73660,   113],\n",
      "        [    0,     3,     1,     1,    15,     0,   221,     0, 91713]])\n",
      "Epoch end: Train, epoch number: 27\n",
      "TrainEpoch/CM\n",
      " tensor([[64906,     0,   434,  3255,   702,     3,  1052,     5,  1147],\n",
      "        [    1, 91359,     0,     0,     0,    22,   247,    13,   316],\n",
      "        [   39,     0, 76052,   708,   180,    48, 11139,    73,   926],\n",
      "        [ 3171,     0,   403, 63417,  1298,     3,  4831,     7,  1184],\n",
      "        [  193,     3,   421,  1319, 72440,    12,   416,     4,  1316],\n",
      "        [    0,   113,   255,     0,     0, 77040,   344,  1008,   315],\n",
      "        [  788,     2, 19226,  7089,   254,   159, 45825,    40,   933],\n",
      "        [    3,    66,     0,     0,     0,     0,   308, 73660,   113],\n",
      "        [    0,     3,     1,     1,    15,     0,   221,     0, 91713]])\n"
     ]
    },
    {
     "data": {
      "application/vnd.jupyter.widget-view+json": {
       "model_id": "893c5ade1bde4f4a99240d815e11de22",
       "version_major": 2,
       "version_minor": 0
      },
      "text/plain": [
       "Validation: |          | 0/? [00:00<?, ?it/s]"
      ]
     },
     "metadata": {},
     "output_type": "display_data"
    },
    {
     "name": "stdout",
     "output_type": "stream",
     "text": [
      "Epoch end: Validation, epoch number: 29\n",
      "ValidationEpoch/CM\n",
      " tensor([[67433,     0,   434,  3267,   702,     3,  1063,     5,  1147],\n",
      "        [    1, 94639,     0,     0,     0,    22,   247,    13,   316],\n",
      "        [   39,     0, 78914,   726,   180,    48, 11439,    73,   926],\n",
      "        [ 3179,     0,   421, 65918,  1300,     3,  4952,     7,  1184],\n",
      "        [  193,     3,   421,  1321, 75151,    12,   418,     4,  1316],\n",
      "        [    0,   113,   260,     0,     0, 79855,   344,  1008,   315],\n",
      "        [  790,     2, 19746,  7219,   260,   160, 47816,    40,   933],\n",
      "        [    3,    66,     0,     0,     0,     0,   308, 76305,   113],\n",
      "        [    0,     3,     1,     1,    15,     0,   221,     0, 94993]])\n",
      "Epoch end: Train, epoch number: 28\n",
      "TrainEpoch/CM\n",
      " tensor([[67433,     0,   434,  3267,   702,     3,  1063,     5,  1147],\n",
      "        [    1, 94639,     0,     0,     0,    22,   247,    13,   316],\n",
      "        [   39,     0, 78914,   726,   180,    48, 11439,    73,   926],\n",
      "        [ 3179,     0,   421, 65918,  1300,     3,  4952,     7,  1184],\n",
      "        [  193,     3,   421,  1321, 75151,    12,   418,     4,  1316],\n",
      "        [    0,   113,   260,     0,     0, 79855,   344,  1008,   315],\n",
      "        [  790,     2, 19746,  7219,   260,   160, 47816,    40,   933],\n",
      "        [    3,    66,     0,     0,     0,     0,   308, 76305,   113],\n",
      "        [    0,     3,     1,     1,    15,     0,   221,     0, 94993]])\n"
     ]
    },
    {
     "data": {
      "application/vnd.jupyter.widget-view+json": {
       "model_id": "2de6030d6ec5435e814904afba546efb",
       "version_major": 2,
       "version_minor": 0
      },
      "text/plain": [
       "Validation: |          | 0/? [00:00<?, ?it/s]"
      ]
     },
     "metadata": {},
     "output_type": "display_data"
    },
    {
     "name": "stdout",
     "output_type": "stream",
     "text": [
      "Epoch end: Validation, epoch number: 30\n",
      "ValidationEpoch/CM\n",
      " tensor([[69959,     0,   434,  3281,   702,     3,  1073,     5,  1147],\n",
      "        [    1, 97919,     0,     0,     0,    22,   247,    13,   316],\n",
      "        [   39,     0, 81802,   750,   180,    48, 11707,    73,   926],\n",
      "        [ 3184,     0,   425, 68465,  1304,     3,  5042,     7,  1184],\n",
      "        [  193,     3,   425,  1324, 77856,    12,   421,     4,  1316],\n",
      "        [    0,   113,   265,     0,     0, 82670,   344,  1008,   315],\n",
      "        [  792,     2, 20213,  7355,   265,   163, 49853,    40,   933],\n",
      "        [    3,    66,     0,     0,     0,     0,   308, 78950,   113],\n",
      "        [    0,     3,     1,     1,    15,     0,   221,     0, 98273]])\n",
      "Epoch end: Train, epoch number: 29\n",
      "TrainEpoch/CM\n",
      " tensor([[69959,     0,   434,  3281,   702,     3,  1073,     5,  1147],\n",
      "        [    1, 97919,     0,     0,     0,    22,   247,    13,   316],\n",
      "        [   39,     0, 81802,   750,   180,    48, 11707,    73,   926],\n",
      "        [ 3184,     0,   425, 68465,  1304,     3,  5042,     7,  1184],\n",
      "        [  193,     3,   425,  1324, 77856,    12,   421,     4,  1316],\n",
      "        [    0,   113,   265,     0,     0, 82670,   344,  1008,   315],\n",
      "        [  792,     2, 20213,  7355,   265,   163, 49853,    40,   933],\n",
      "        [    3,    66,     0,     0,     0,     0,   308, 78950,   113],\n",
      "        [    0,     3,     1,     1,    15,     0,   221,     0, 98273]])\n"
     ]
    },
    {
     "data": {
      "application/vnd.jupyter.widget-view+json": {
       "model_id": "1f5cb812d9554d8aa89360a791f0b778",
       "version_major": 2,
       "version_minor": 0
      },
      "text/plain": [
       "Validation: |          | 0/? [00:00<?, ?it/s]"
      ]
     },
     "metadata": {},
     "output_type": "display_data"
    },
    {
     "name": "stdout",
     "output_type": "stream",
     "text": [
      "Epoch end: Validation, epoch number: 31\n",
      "ValidationEpoch/CM\n",
      " tensor([[ 72487,      0,    434,   3294,    702,      3,   1082,      5,   1147],\n",
      "        [     1, 101199,      0,      0,      0,     22,    247,     13,    316],\n",
      "        [    39,      0,  84713,    772,    180,     48,  11954,     73,    926],\n",
      "        [  3191,      0,    431,  70995,   1311,      3,   5142,      7,   1184],\n",
      "        [   193,      3,    425,   1326,  80567,     12,    423,      4,   1316],\n",
      "        [     0,    113,    270,      0,      0,  85485,    344,   1008,    315],\n",
      "        [   793,      2,  20679,   7490,    275,    166,  51888,     40,    933],\n",
      "        [     3,     66,      0,      0,      0,      0,    308,  81595,    113],\n",
      "        [     0,      3,      1,      1,     15,      0,    221,      0, 101553]])\n",
      "Epoch end: Train, epoch number: 30\n",
      "TrainEpoch/CM\n",
      " tensor([[ 72487,      0,    434,   3294,    702,      3,   1082,      5,   1147],\n",
      "        [     1, 101199,      0,      0,      0,     22,    247,     13,    316],\n",
      "        [    39,      0,  84713,    772,    180,     48,  11954,     73,    926],\n",
      "        [  3191,      0,    431,  70995,   1311,      3,   5142,      7,   1184],\n",
      "        [   193,      3,    425,   1326,  80567,     12,    423,      4,   1316],\n",
      "        [     0,    113,    270,      0,      0,  85485,    344,   1008,    315],\n",
      "        [   793,      2,  20679,   7490,    275,    166,  51888,     40,    933],\n",
      "        [     3,     66,      0,      0,      0,      0,    308,  81595,    113],\n",
      "        [     0,      3,      1,      1,     15,      0,    221,      0, 101553]])\n"
     ]
    },
    {
     "data": {
      "application/vnd.jupyter.widget-view+json": {
       "model_id": "87bc3486317246ca975d359570f9a39f",
       "version_major": 2,
       "version_minor": 0
      },
      "text/plain": [
       "Validation: |          | 0/? [00:00<?, ?it/s]"
      ]
     },
     "metadata": {},
     "output_type": "display_data"
    },
    {
     "name": "stdout",
     "output_type": "stream",
     "text": [
      "Epoch end: Validation, epoch number: 32\n",
      "ValidationEpoch/CM\n",
      " tensor([[ 75020,      0,    434,   3305,    702,      3,   1088,      5,   1147],\n",
      "        [     1, 104479,      0,      0,      0,     22,    247,     13,    316],\n",
      "        [    39,      0,  87577,    793,    180,     48,  12249,     73,    926],\n",
      "        [  3198,      0,    439,  73510,   1312,      3,   5261,      7,   1184],\n",
      "        [   193,      3,    425,   1326,  83277,     12,    428,      4,   1316],\n",
      "        [     0,    113,    275,      0,      0,  88300,    344,   1008,    315],\n",
      "        [   793,      2,  21083,   7622,    283,    168,  53992,     40,    933],\n",
      "        [     3,     66,      0,      0,      0,      0,    308,  84240,    113],\n",
      "        [     0,      3,      1,      1,     15,      0,    221,      0, 104833]])\n",
      "Epoch end: Train, epoch number: 31\n",
      "TrainEpoch/CM\n",
      " tensor([[ 75020,      0,    434,   3305,    702,      3,   1088,      5,   1147],\n",
      "        [     1, 104479,      0,      0,      0,     22,    247,     13,    316],\n",
      "        [    39,      0,  87577,    793,    180,     48,  12249,     73,    926],\n",
      "        [  3198,      0,    439,  73510,   1312,      3,   5261,      7,   1184],\n",
      "        [   193,      3,    425,   1326,  83277,     12,    428,      4,   1316],\n",
      "        [     0,    113,    275,      0,      0,  88300,    344,   1008,    315],\n",
      "        [   793,      2,  21083,   7622,    283,    168,  53992,     40,    933],\n",
      "        [     3,     66,      0,      0,      0,      0,    308,  84240,    113],\n",
      "        [     0,      3,      1,      1,     15,      0,    221,      0, 104833]])\n"
     ]
    },
    {
     "name": "stderr",
     "output_type": "stream",
     "text": [
      "Metric Validation/Accuracy improved by 0.003 >= min_delta = 0.0. New best score: 0.961\n"
     ]
    },
    {
     "data": {
      "application/vnd.jupyter.widget-view+json": {
       "model_id": "b414bafe457740b09cf695aea4fb1ecd",
       "version_major": 2,
       "version_minor": 0
      },
      "text/plain": [
       "Validation: |          | 0/? [00:00<?, ?it/s]"
      ]
     },
     "metadata": {},
     "output_type": "display_data"
    },
    {
     "name": "stdout",
     "output_type": "stream",
     "text": [
      "Epoch end: Validation, epoch number: 33\n",
      "ValidationEpoch/CM\n",
      " tensor([[ 77559,      0,    434,   3311,    702,      3,   1093,      5,   1147],\n",
      "        [     1, 107759,      0,      0,      0,     22,    247,     13,    316],\n",
      "        [    39,      0,  90481,    817,    180,     48,  12501,     73,    926],\n",
      "        [  3206,      0,    444,  76040,   1312,      3,   5368,      7,   1184],\n",
      "        [   193,      3,    429,   1326,  85985,     12,    431,      4,   1316],\n",
      "        [     0,    113,    280,      0,      0,  91115,    344,   1008,    315],\n",
      "        [   794,      2,  21563,   7749,    292,    170,  56023,     40,    933],\n",
      "        [     3,     66,      0,      0,      0,      0,    308,  86885,    113],\n",
      "        [     0,      3,      1,      1,     15,      0,    221,      0, 108113]])\n",
      "Epoch end: Train, epoch number: 32\n",
      "TrainEpoch/CM\n",
      " tensor([[ 77559,      0,    434,   3311,    702,      3,   1093,      5,   1147],\n",
      "        [     1, 107759,      0,      0,      0,     22,    247,     13,    316],\n",
      "        [    39,      0,  90481,    817,    180,     48,  12501,     73,    926],\n",
      "        [  3206,      0,    444,  76040,   1312,      3,   5368,      7,   1184],\n",
      "        [   193,      3,    429,   1326,  85985,     12,    431,      4,   1316],\n",
      "        [     0,    113,    280,      0,      0,  91115,    344,   1008,    315],\n",
      "        [   794,      2,  21563,   7749,    292,    170,  56023,     40,    933],\n",
      "        [     3,     66,      0,      0,      0,      0,    308,  86885,    113],\n",
      "        [     0,      3,      1,      1,     15,      0,    221,      0, 108113]])\n"
     ]
    },
    {
     "data": {
      "application/vnd.jupyter.widget-view+json": {
       "model_id": "cd1056f34150409ba24e127d5e7dd008",
       "version_major": 2,
       "version_minor": 0
      },
      "text/plain": [
       "Validation: |          | 0/? [00:00<?, ?it/s]"
      ]
     },
     "metadata": {},
     "output_type": "display_data"
    },
    {
     "name": "stdout",
     "output_type": "stream",
     "text": [
      "Epoch end: Validation, epoch number: 34\n",
      "ValidationEpoch/CM\n",
      " tensor([[ 80098,      0,    434,   3318,    702,      3,   1097,      5,   1147],\n",
      "        [     1, 111039,      0,      0,      0,     22,    247,     13,    316],\n",
      "        [    39,      0,  93310,    835,    180,     48,  12834,     73,    926],\n",
      "        [  3211,      0,    446,  78563,   1313,      3,   5487,      7,   1184],\n",
      "        [   193,      3,    433,   1326,  88690,     12,    437,      4,   1316],\n",
      "        [     0,    113,    285,      0,      0,  93930,    344,   1008,    315],\n",
      "        [   794,      2,  21922,   7857,    299,    173,  58196,     40,    933],\n",
      "        [     3,     66,      0,      0,      0,      0,    308,  89530,    113],\n",
      "        [     0,      3,      1,      1,     15,      0,    221,      0, 111393]])\n",
      "Epoch end: Train, epoch number: 33\n",
      "TrainEpoch/CM\n",
      " tensor([[ 80098,      0,    434,   3318,    702,      3,   1097,      5,   1147],\n",
      "        [     1, 111039,      0,      0,      0,     22,    247,     13,    316],\n",
      "        [    39,      0,  93310,    835,    180,     48,  12834,     73,    926],\n",
      "        [  3211,      0,    446,  78563,   1313,      3,   5487,      7,   1184],\n",
      "        [   193,      3,    433,   1326,  88690,     12,    437,      4,   1316],\n",
      "        [     0,    113,    285,      0,      0,  93930,    344,   1008,    315],\n",
      "        [   794,      2,  21922,   7857,    299,    173,  58196,     40,    933],\n",
      "        [     3,     66,      0,      0,      0,      0,    308,  89530,    113],\n",
      "        [     0,      3,      1,      1,     15,      0,    221,      0, 111393]])\n"
     ]
    },
    {
     "data": {
      "application/vnd.jupyter.widget-view+json": {
       "model_id": "1d9c91b90901439b89a04bc2f5f401c0",
       "version_major": 2,
       "version_minor": 0
      },
      "text/plain": [
       "Validation: |          | 0/? [00:00<?, ?it/s]"
      ]
     },
     "metadata": {},
     "output_type": "display_data"
    },
    {
     "name": "stdout",
     "output_type": "stream",
     "text": [
      "Epoch end: Validation, epoch number: 35\n",
      "ValidationEpoch/CM\n",
      " tensor([[ 82639,      0,    434,   3323,    702,      3,   1101,      5,   1147],\n",
      "        [     1, 114319,      0,      0,      0,     22,    247,     13,    316],\n",
      "        [    39,      0,  96212,    855,    180,     48,  13092,     73,    926],\n",
      "        [  3214,      0,    450,  81101,   1313,      3,   5592,      7,   1184],\n",
      "        [   193,      3,    433,   1326,  91400,     12,    442,      4,   1316],\n",
      "        [     0,    113,    290,      0,      0,  96745,    344,   1008,    315],\n",
      "        [   794,      2,  22348,   7968,    305,    174,  60302,     40,    933],\n",
      "        [     3,     66,      0,      0,      0,      0,    308,  92175,    113],\n",
      "        [     0,      3,      1,      1,     15,      0,    221,      0, 114673]])\n",
      "Epoch end: Train, epoch number: 34\n",
      "TrainEpoch/CM\n",
      " tensor([[ 82639,      0,    434,   3323,    702,      3,   1101,      5,   1147],\n",
      "        [     1, 114319,      0,      0,      0,     22,    247,     13,    316],\n",
      "        [    39,      0,  96212,    855,    180,     48,  13092,     73,    926],\n",
      "        [  3214,      0,    450,  81101,   1313,      3,   5592,      7,   1184],\n",
      "        [   193,      3,    433,   1326,  91400,     12,    442,      4,   1316],\n",
      "        [     0,    113,    290,      0,      0,  96745,    344,   1008,    315],\n",
      "        [   794,      2,  22348,   7968,    305,    174,  60302,     40,    933],\n",
      "        [     3,     66,      0,      0,      0,      0,    308,  92175,    113],\n",
      "        [     0,      3,      1,      1,     15,      0,    221,      0, 114673]])\n"
     ]
    },
    {
     "data": {
      "application/vnd.jupyter.widget-view+json": {
       "model_id": "f2b907bacbe04ca3b2e85ee597126abc",
       "version_major": 2,
       "version_minor": 0
      },
      "text/plain": [
       "Validation: |          | 0/? [00:00<?, ?it/s]"
      ]
     },
     "metadata": {},
     "output_type": "display_data"
    },
    {
     "name": "stdout",
     "output_type": "stream",
     "text": [
      "Epoch end: Validation, epoch number: 36\n",
      "ValidationEpoch/CM\n",
      " tensor([[ 85179,      0,    434,   3330,    702,      3,   1104,      5,   1147],\n",
      "        [     1, 117599,      0,      0,      0,     22,    247,     13,    316],\n",
      "        [    39,      0,  99114,    871,    180,     48,  13354,     73,    926],\n",
      "        [  3218,      0,    454,  83628,   1316,      3,   5704,      7,   1184],\n",
      "        [   193,      3,    434,   1326,  94108,     12,    448,      4,   1316],\n",
      "        [     0,    113,    295,      0,      0,  99560,    344,   1008,    315],\n",
      "        [   794,      2,  22732,   8084,    313,    176,  62442,     40,    933],\n",
      "        [     3,     66,      0,      0,      0,      0,    308,  94820,    113],\n",
      "        [     0,      3,      1,      1,     15,      0,    221,      0, 117953]])\n",
      "Epoch end: Train, epoch number: 35\n",
      "TrainEpoch/CM\n",
      " tensor([[ 85179,      0,    434,   3330,    702,      3,   1104,      5,   1147],\n",
      "        [     1, 117599,      0,      0,      0,     22,    247,     13,    316],\n",
      "        [    39,      0,  99114,    871,    180,     48,  13354,     73,    926],\n",
      "        [  3218,      0,    454,  83628,   1316,      3,   5704,      7,   1184],\n",
      "        [   193,      3,    434,   1326,  94108,     12,    448,      4,   1316],\n",
      "        [     0,    113,    295,      0,      0,  99560,    344,   1008,    315],\n",
      "        [   794,      2,  22732,   8084,    313,    176,  62442,     40,    933],\n",
      "        [     3,     66,      0,      0,      0,      0,    308,  94820,    113],\n",
      "        [     0,      3,      1,      1,     15,      0,    221,      0, 117953]])\n"
     ]
    },
    {
     "data": {
      "application/vnd.jupyter.widget-view+json": {
       "model_id": "4eb9ed3fa2e1416b8fa4808cf4cd7947",
       "version_major": 2,
       "version_minor": 0
      },
      "text/plain": [
       "Validation: |          | 0/? [00:00<?, ?it/s]"
      ]
     },
     "metadata": {},
     "output_type": "display_data"
    },
    {
     "name": "stdout",
     "output_type": "stream",
     "text": [
      "Epoch end: Validation, epoch number: 37\n",
      "ValidationEpoch/CM\n",
      " tensor([[ 87718,      0,    434,   3337,    702,      3,   1108,      5,   1147],\n",
      "        [     1, 120879,      0,      0,      0,     22,    247,     13,    316],\n",
      "        [    39,      0, 102029,    894,    180,     48,  13596,     73,    926],\n",
      "        [  3219,      0,    455,  86176,   1318,      3,   5802,      7,   1184],\n",
      "        [   193,      3,    434,   1326,  96815,     12,    456,      4,   1316],\n",
      "        [     0,    113,    300,      0,      0, 102375,    344,   1008,    315],\n",
      "        [   794,      2,  23153,   8197,    320,    176,  64551,     40,    933],\n",
      "        [     3,     66,      0,      0,      0,      0,    308,  97465,    113],\n",
      "        [     0,      3,      1,      1,     15,      0,    221,      0, 121233]])\n",
      "Epoch end: Train, epoch number: 36\n",
      "TrainEpoch/CM\n",
      " tensor([[ 87718,      0,    434,   3337,    702,      3,   1108,      5,   1147],\n",
      "        [     1, 120879,      0,      0,      0,     22,    247,     13,    316],\n",
      "        [    39,      0, 102029,    894,    180,     48,  13596,     73,    926],\n",
      "        [  3219,      0,    455,  86176,   1318,      3,   5802,      7,   1184],\n",
      "        [   193,      3,    434,   1326,  96815,     12,    456,      4,   1316],\n",
      "        [     0,    113,    300,      0,      0, 102375,    344,   1008,    315],\n",
      "        [   794,      2,  23153,   8197,    320,    176,  64551,     40,    933],\n",
      "        [     3,     66,      0,      0,      0,      0,    308,  97465,    113],\n",
      "        [     0,      3,      1,      1,     15,      0,    221,      0, 121233]])\n"
     ]
    },
    {
     "name": "stderr",
     "output_type": "stream",
     "text": [
      "Monitored metric Validation/Accuracy did not improve in the last 5 records. Best score: 0.961. Signaling Trainer to stop.\n"
     ]
    }
   ],
   "source": [
    "\n",
    "trainer.fit(model=model, train_dataloaders=train_dataloader, val_dataloaders=val_dataloader)\n"
   ]
  },
  {
   "cell_type": "code",
   "execution_count": 47,
   "metadata": {},
   "outputs": [
    {
     "name": "stderr",
     "output_type": "stream",
     "text": [
      "LOCAL_RANK: 0 - CUDA_VISIBLE_DEVICES: [0]\n"
     ]
    },
    {
     "name": "stdout",
     "output_type": "stream",
     "text": [
      "/home/<User>/repos/csg_is/training/official_logs/multi-layer_30_from_weights/version_0/checkpoints/epoch=31-step=1344.ckpt\n",
      "tensor(0.9605, device='cuda:0')\n"
     ]
    },
    {
     "data": {
      "application/vnd.jupyter.widget-view+json": {
       "model_id": "5b888069da314bcabe6c8c172d8898fe",
       "version_major": 2,
       "version_minor": 0
      },
      "text/plain": [
       "Testing: |          | 0/? [00:00<?, ?it/s]"
      ]
     },
     "metadata": {},
     "output_type": "display_data"
    },
    {
     "name": "stdout",
     "output_type": "stream",
     "text": [
      "Epoch end: Test, epoch number: 0\n",
      "TestEpoch/CM\n",
      " tensor([[533,   0,   0,   2,   0,   0,   1,   0,   0],\n",
      "        [  0, 639,   0,   0,   0,   0,   0,   0,   0],\n",
      "        [  0,   0, 600,   0,   0,   0,  42,   0,   0],\n",
      "        [  3,   0,   4, 487,   0,   0,  35,   0,   0],\n",
      "        [  0,   0,   0,   0, 578,   0,   1,   0,   0],\n",
      "        [  0,   0,   3,   0,   0, 565,   0,   0,   0],\n",
      "        [  0,   0,  93,  14,   2,   0, 428,   0,   0],\n",
      "        [  0,   0,   0,   0,   0,   0,   0, 514,   0],\n",
      "        [  0,   0,   0,   0,   0,   0,   0,   0, 610]])\n",
      "────────────────────────────────────────────────────────────────────────────────────────────────────────────────────────\n",
      "       Test metric             DataLoader 0\n",
      "────────────────────────────────────────────────────────────────────────────────────────────────────────────────────────\n",
      "      Test/Accuracy         0.9605077505111694\n",
      "      Test/F1Score          0.9604318141937256\n",
      "        Test/Loss           0.09429043531417847\n",
      "     Test/Precision         0.9618934988975525\n",
      "       Test/Recall          0.9605077505111694\n",
      "   TestEpoch/Accuracy       0.9599554538726807\n",
      "    TestEpoch/F1Score       0.9607862234115601\n",
      "   TestEpoch/Precision       0.962274432182312\n",
      "    TestEpoch/Recall        0.9599554538726807\n",
      "────────────────────────────────────────────────────────────────────────────────────────────────────────────────────────\n"
     ]
    },
    {
     "data": {
      "text/plain": [
       "[{'Test/Loss': 0.09429043531417847,\n",
       "  'Test/Accuracy': 0.9605077505111694,\n",
       "  'Test/Precision': 0.9618934988975525,\n",
       "  'Test/Recall': 0.9605077505111694,\n",
       "  'Test/F1Score': 0.9604318141937256,\n",
       "  'TestEpoch/Accuracy': 0.9599554538726807,\n",
       "  'TestEpoch/Precision': 0.962274432182312,\n",
       "  'TestEpoch/Recall': 0.9599554538726807,\n",
       "  'TestEpoch/F1Score': 0.9607862234115601}]"
      ]
     },
     "execution_count": 47,
     "metadata": {},
     "output_type": "execute_result"
    }
   ],
   "source": [
    "\n",
    "print(checkpoint_callback.best_model_path)   # prints path to the best model's checkpoint\n",
    "print(checkpoint_callback.best_model_score) # and prints it score\n",
    "best_model = MalwaresModelMLP.load_from_checkpoint(checkpoint_callback.best_model_path, input_size = subset.shape[1]-1, output_size = len(label_encoder.classes_))\n",
    "\n",
    "trainer.test(best_model, dataloaders=val_dataloader)"
   ]
  },
  {
   "cell_type": "code",
   "execution_count": 53,
   "metadata": {},
   "outputs": [],
   "source": [
    "subset.columns.to_frame().to_csv(\"weight_selected.csv\", index=False)"
   ]
  }
 ],
 "metadata": {
  "kernelspec": {
   "display_name": ".venv",
   "language": "python",
   "name": "python3"
  },
  "language_info": {
   "codemirror_mode": {
    "name": "ipython",
    "version": 3
   },
   "file_extension": ".py",
   "mimetype": "text/x-python",
   "name": "python",
   "nbconvert_exporter": "python",
   "pygments_lexer": "ipython3",
   "version": "3.10.12"
  }
 },
 "nbformat": 4,
 "nbformat_minor": 2
}
