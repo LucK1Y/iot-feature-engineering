{
 "cells": [
  {
   "cell_type": "markdown",
   "metadata": {},
   "source": [
    "# Idea\n",
    "Do some training"
   ]
  },
  {
   "cell_type": "code",
   "execution_count": 52,
   "metadata": {},
   "outputs": [],
   "source": [
    "SEED = 133\n",
    "TIME_WINDOW = \"30s\"\n",
    "DATA_FILE = '../../data/all_df_30s_Xi_sensor_1.csv'\n",
    "\n",
    "COLUMNS_SELECTION_FILE_FROM_RP4 = \"../other_time_windows/weight_selected_30s.csv\""
   ]
  },
  {
   "cell_type": "code",
   "execution_count": 53,
   "metadata": {},
   "outputs": [],
   "source": [
    "from pathlib import Path\n",
    "\n",
    "import numpy as np\n",
    "import pandas as pd\n",
    "import pickle\n",
    "\n",
    "assert Path(DATA_FILE).exists()"
   ]
  },
  {
   "cell_type": "code",
   "execution_count": 54,
   "metadata": {},
   "outputs": [],
   "source": [
    "import sys\n",
    "repo_base_path = Path(\"./../../../\").resolve()\n",
    "assert str(repo_base_path).endswith(\"csg_is\"), f\"{repo_base_path} is not a valid path to the CSG_IS repository\" \n",
    "\n",
    "sys.path.append(str(repo_base_path))\n",
    "sys.path.append(\"..\")\n",
    "\n",
    "# from py_dataset import get_all_files_df\n",
    "# from py_dataset import read_in_files\n",
    "from py_dataset import feature_plotting\n",
    "# from py_dataset import feature_selection\n",
    "# from py_dataset import net_feature_engineering\n",
    "# from py_dataset import entropy_feature_engineering\n",
    "# from py_dataset.classes import DataSource\n",
    "from py_dataset import sys_func\n",
    "\n",
    "from py_dataset.classes import DataSource\n",
    "\n"
   ]
  },
  {
   "cell_type": "code",
   "execution_count": 55,
   "metadata": {},
   "outputs": [
    {
     "ename": "AssertionError",
     "evalue": "are you sure to run this again?",
     "output_type": "error",
     "traceback": [
      "\u001b[0;31m---------------------------------------------------------------------------\u001b[0m",
      "\u001b[0;31mAssertionError\u001b[0m                            Traceback (most recent call last)",
      "Cell \u001b[0;32mIn[55], line 7\u001b[0m\n\u001b[1;32m      4\u001b[0m LOG_NAME_EXPERIMENT_3 \u001b[38;5;241m=\u001b[39m \u001b[38;5;124mf\u001b[39m\u001b[38;5;124m\"\u001b[39m\u001b[38;5;124mmulti-layer_30_from_rp4_weights_\u001b[39m\u001b[38;5;132;01m{\u001b[39;00mTIME_WINDOW\u001b[38;5;132;01m}\u001b[39;00m\u001b[38;5;124m_Xi_sensor_1_rp3\u001b[39m\u001b[38;5;124m\"\u001b[39m\n\u001b[1;32m      6\u001b[0m \u001b[38;5;28;01massert\u001b[39;00m LOG_PATH\u001b[38;5;241m.\u001b[39mexists()\n\u001b[0;32m----> 7\u001b[0m \u001b[38;5;28;01massert\u001b[39;00m \u001b[38;5;129;01mnot\u001b[39;00m (LOG_PATH \u001b[38;5;241m/\u001b[39m LOG_NAME)\u001b[38;5;241m.\u001b[39mexists(), \u001b[38;5;124m\"\u001b[39m\u001b[38;5;124mare you sure to run this again?\u001b[39m\u001b[38;5;124m\"\u001b[39m\n\u001b[1;32m      8\u001b[0m \u001b[38;5;28;01massert\u001b[39;00m \u001b[38;5;129;01mnot\u001b[39;00m (LOG_PATH \u001b[38;5;241m/\u001b[39m LOG_NAME_EXPERIMENT_2)\u001b[38;5;241m.\u001b[39mexists(), \u001b[38;5;124m\"\u001b[39m\u001b[38;5;124mare you sure to run this again?\u001b[39m\u001b[38;5;124m\"\u001b[39m\n\u001b[1;32m      9\u001b[0m \u001b[38;5;28;01massert\u001b[39;00m \u001b[38;5;129;01mnot\u001b[39;00m (LOG_PATH \u001b[38;5;241m/\u001b[39m LOG_NAME_EXPERIMENT_3)\u001b[38;5;241m.\u001b[39mexists(), \u001b[38;5;124m\"\u001b[39m\u001b[38;5;124mare you sure to run this again?\u001b[39m\u001b[38;5;124m\"\u001b[39m\n",
      "\u001b[0;31mAssertionError\u001b[0m: are you sure to run this again?"
     ]
    }
   ],
   "source": [
    "LOG_PATH = (repo_base_path / \"training\" / \"official_logs\")\n",
    "LOG_NAME = f\"single-layer_300_{TIME_WINDOW}_Xi_sensor_1_rp3\"\n",
    "LOG_NAME_EXPERIMENT_2 = f\"single-layer_30_from_rp4_weights_{TIME_WINDOW}_Xi_sensor_1_rp3\"\n",
    "LOG_NAME_EXPERIMENT_3 = f\"multi-layer_30_from_rp4_weights_{TIME_WINDOW}_Xi_sensor_1_rp3\"\n",
    "\n",
    "assert LOG_PATH.exists()\n",
    "assert not (LOG_PATH / LOG_NAME).exists(), \"are you sure to run this again?\"\n",
    "assert not (LOG_PATH / LOG_NAME_EXPERIMENT_2).exists(), \"are you sure to run this again?\"\n",
    "assert not (LOG_PATH / LOG_NAME_EXPERIMENT_3).exists(), \"are you sure to run this again?\""
   ]
  },
  {
   "cell_type": "code",
   "execution_count": null,
   "metadata": {},
   "outputs": [
    {
     "name": "stderr",
     "output_type": "stream",
     "text": [
      "/tmp/ipykernel_239875/1931635172.py:1: DtypeWarning: Columns (189) have mixed types. Specify dtype option on import or set low_memory=False.\n",
      "  df = pd.read_csv(DATA_FILE)\n"
     ]
    }
   ],
   "source": [
    "df = pd.read_csv(DATA_FILE)\n",
    "df.set_index(\"timestamp\", inplace=True)"
   ]
  },
  {
   "cell_type": "code",
   "execution_count": null,
   "metadata": {},
   "outputs": [],
   "source": [
    "assert df[\"label\"].unique().shape == (10,)"
   ]
  },
  {
   "cell_type": "code",
   "execution_count": null,
   "metadata": {},
   "outputs": [],
   "source": [
    "selected_columns = pd.read_csv(COLUMNS_SELECTION_FILE_FROM_RP4)[\"0\"].values"
   ]
  },
  {
   "cell_type": "markdown",
   "metadata": {},
   "source": [
    "### Preprocessings\n",
    "- remove Null values\n",
    "- drop timestamp\n",
    "- labelEncode\n",
    "- normalize"
   ]
  },
  {
   "cell_type": "code",
   "execution_count": null,
   "metadata": {},
   "outputs": [
    {
     "name": "stdout",
     "output_type": "stream",
     "text": [
      "(38686, 288)\n",
      "(21550, 288)\n"
     ]
    }
   ],
   "source": [
    "print(df.shape)\n",
    "old_df = df.copy()\n",
    "df.dropna(axis=0, how='any', inplace=True)\n",
    "\n",
    "print(df.shape)"
   ]
  },
  {
   "cell_type": "code",
   "execution_count": null,
   "metadata": {},
   "outputs": [],
   "source": [
    "df.reset_index(inplace=True, drop=True)"
   ]
  },
  {
   "cell_type": "code",
   "execution_count": null,
   "metadata": {},
   "outputs": [],
   "source": [
    "label_encoder = sys_func.create_label_encoder_for_labels()\n",
    "df['label'] = label_encoder.transform(df['label'])"
   ]
  },
  {
   "cell_type": "code",
   "execution_count": null,
   "metadata": {},
   "outputs": [],
   "source": [
    "df = feature_plotting.test_transform_all_to_numeric_columns(df)"
   ]
  },
  {
   "cell_type": "code",
   "execution_count": null,
   "metadata": {},
   "outputs": [],
   "source": [
    "cols_to_exclude_from_scaling = [\"label\"]\n",
    "vectors = feature_plotting.minmax_scale_features(df,remove_outliers_iqr_all_columns=False,\n",
    "                                                        cols_to_exclude_from_scaling=cols_to_exclude_from_scaling)\n",
    "# print(vectors.shape)\n",
    "# print(\" with dropped null: \", vectors.dropna(axis=0, how='any', inplace=False).shape)"
   ]
  },
  {
   "cell_type": "code",
   "execution_count": null,
   "metadata": {},
   "outputs": [
    {
     "data": {
      "text/plain": [
       "(array([0, 8, 4, 1, 5, 2, 7, 6, 3]), array([0, 8, 4, 1, 5, 2, 7, 6, 3]))"
      ]
     },
     "execution_count": 26,
     "metadata": {},
     "output_type": "execute_result"
    }
   ],
   "source": [
    "df[\"label\"].unique(), vectors[\"label\"].unique()"
   ]
  },
  {
   "cell_type": "markdown",
   "metadata": {},
   "source": [
    "### Setup"
   ]
  },
  {
   "cell_type": "code",
   "execution_count": null,
   "metadata": {},
   "outputs": [],
   "source": [
    "from torch.utils.data import Dataset, DataLoader\n",
    "import torch\n",
    "\n",
    "class CustomeDataset(Dataset):\n",
    "    def __init__(self, some_df:pd.DataFrame):\n",
    "        \n",
    "        self.x = torch.tensor(some_df.drop(columns=[\"label\"], inplace=False).values, dtype=torch.float32)\n",
    "        self.labels = torch.tensor(some_df[\"label\"].values, dtype=torch.uint8)\n",
    "\n",
    "    def __len__(self):\n",
    "        return len(self.x)\n",
    "\n",
    "    def __getitem__(self, idx):\n",
    "        # if torch.is_tensor(idx):\n",
    "        #     idx = idx.tolist()\n",
    "        # print(self.x[idx], self.labels[idx])\n",
    "        return self.x[idx], self.labels[idx]"
   ]
  },
  {
   "cell_type": "code",
   "execution_count": null,
   "metadata": {},
   "outputs": [
    {
     "name": "stderr",
     "output_type": "stream",
     "text": [
      "GPU available: True (cuda), used: True\n",
      "TPU available: False, using: 0 TPU cores\n",
      "IPU available: False, using: 0 IPUs\n",
      "HPU available: False, using: 0 HPUs\n"
     ]
    }
   ],
   "source": [
    "from mlp_single_layer import MalwaresModelLinearLayer\n",
    "from torch.utils.data import DataLoader\n",
    "import lightning\n",
    "from sklearn.model_selection import train_test_split\n",
    "from lightning import loggers as pl_loggers\n",
    "from lightning.pytorch.callbacks.early_stopping import EarlyStopping\n",
    "from lightning.pytorch.callbacks.model_checkpoint import ModelCheckpoint\n",
    "\n",
    "tensorboard = pl_loggers.TensorBoardLogger(save_dir=LOG_PATH, name=LOG_NAME)\n",
    "\n",
    "# split into train and val\n",
    "train, val = train_test_split(vectors, test_size=0.2, random_state=SEED)\n",
    "\n",
    "train_dataset = CustomeDataset(train)\n",
    "train_dataloader = DataLoader(train_dataset, batch_size=500, shuffle=True, num_workers=7)\n",
    "\n",
    "val_dataset = CustomeDataset(val)\n",
    "val_dataloader = DataLoader(val_dataset, batch_size=500, shuffle=False, num_workers=7)\n",
    "\n",
    "# trainer = lightning.Trainer(fast_dev_run=100)\n",
    "monitor = \"Validation/Accuracy\"\n",
    "early_stop_callback = EarlyStopping(monitor=monitor, patience=5, verbose=True, mode=\"max\")\n",
    "checkpoint_callback = ModelCheckpoint(save_top_k=1, monitor=monitor, mode=\"max\")\n",
    "\n",
    "trainer = lightning.Trainer(max_epochs=150, callbacks=[early_stop_callback, checkpoint_callback], enable_checkpointing=True, logger=tensorboard) #logger=None, \n",
    "\n",
    "\n",
    "model = MalwaresModelLinearLayer(input_size = vectors.shape[1]-1, output_size = len(label_encoder.classes_), seed=SEED)\n",
    "\n",
    "torch.manual_seed(SEED)\n",
    "torch.cuda.manual_seed_all(SEED)\n"
   ]
  },
  {
   "cell_type": "code",
   "execution_count": null,
   "metadata": {},
   "outputs": [
    {
     "name": "stderr",
     "output_type": "stream",
     "text": [
      "LOCAL_RANK: 0 - CUDA_VISIBLE_DEVICES: [0]\n",
      "\n",
      "  | Name          | Type                      | Params\n",
      "------------------------------------------------------------\n",
      "0 | train_metrics | MetricCollection          | 0     \n",
      "1 | val_metrics   | MetricCollection          | 0     \n",
      "2 | test_metrics  | MetricCollection          | 0     \n",
      "3 | cm            | MulticlassConfusionMatrix | 0     \n",
      "4 | criterion     | CrossEntropyLoss          | 0     \n",
      "5 | l1            | Linear                    | 2.6 K \n",
      "------------------------------------------------------------\n",
      "2.6 K     Trainable params\n",
      "0         Non-trainable params\n",
      "2.6 K     Total params\n",
      "0.010     Total estimated model params size (MB)\n"
     ]
    },
    {
     "data": {
      "application/vnd.jupyter.widget-view+json": {
       "model_id": "74e60e539f91426080c7f6710979bf17",
       "version_major": 2,
       "version_minor": 0
      },
      "text/plain": [
       "Sanity Checking: |          | 0/? [00:00<?, ?it/s]"
      ]
     },
     "metadata": {},
     "output_type": "display_data"
    },
    {
     "name": "stdout",
     "output_type": "stream",
     "text": [
      "Epoch end: Validation, epoch number: 0\n",
      "ValidationEpoch/CM\n",
      " tensor([[  0,   0,   0,   0,   1, 105,   0,   0,   0],\n",
      "        [  0,   0,   0,   0,   5, 102,   0,   0,   0],\n",
      "        [  0,   0,   0,   0,   0,  93,   0,   0,   0],\n",
      "        [ 11,   0,   0,   0,   0, 106,   1,   0,   0],\n",
      "        [  0,   0,   0,   0,   0,  98,   0,   0,   0],\n",
      "        [  0,   0,   0,   0,   0, 115,   0,   0,   0],\n",
      "        [ 15,   0,   0,   0,  12, 100,   0,   0,   0],\n",
      "        [  9,   0,   0,   0,   2,  99,   0,   0,   0],\n",
      "        [  0,  12,   0,   0,   0, 114,   0,   0,   0]])\n"
     ]
    },
    {
     "name": "stderr",
     "output_type": "stream",
     "text": [
      "/home/<User>/repos/csg_is/.venv/lib/python3.10/site-packages/lightning/pytorch/loops/fit_loop.py:298: The number of training batches (35) is smaller than the logging interval Trainer(log_every_n_steps=50). Set a lower value for log_every_n_steps if you want to see logs for the training epoch.\n"
     ]
    },
    {
     "data": {
      "application/vnd.jupyter.widget-view+json": {
       "model_id": "b512ef0f36cc412bbe766d640d44a168",
       "version_major": 2,
       "version_minor": 0
      },
      "text/plain": [
       "Training: |          | 0/? [00:00<?, ?it/s]"
      ]
     },
     "metadata": {},
     "output_type": "display_data"
    },
    {
     "data": {
      "application/vnd.jupyter.widget-view+json": {
       "model_id": "99356b2752194d3da55e87839acf064e",
       "version_major": 2,
       "version_minor": 0
      },
      "text/plain": [
       "Validation: |          | 0/? [00:00<?, ?it/s]"
      ]
     },
     "metadata": {},
     "output_type": "display_data"
    },
    {
     "name": "stdout",
     "output_type": "stream",
     "text": [
      "Epoch end: Validation, epoch number: 1\n",
      "ValidationEpoch/CM\n",
      " tensor([[1709,    0,  214,    0,  419,  153,    0,    0,   11],\n",
      "        [   0, 2346,    0,    0,    8,  158,    0,    0,    0],\n",
      "        [ 246,    3, 1907,    0,  112,  230,    0,    0,    0],\n",
      "        [  15,    8,    0, 2274,    0,  159,   57,    0,    0],\n",
      "        [ 159,    0,  129,    0, 2051,  159,    0,    0,    0],\n",
      "        [   3,   45,  126,    0,    0, 2341,    0,    0,    0],\n",
      "        [  23,    0,    0,    0,   14,  143, 2096,  206,    0],\n",
      "        [  11,    0,    0,    0,    4,  149,  239, 2107,    0],\n",
      "        [   0,   55,   55,    0,    0,  167,    0,    0, 2239]])\n",
      "Epoch end: Train, epoch number: 0\n",
      "TrainEpoch/CM\n",
      " tensor([[1709,    0,  214,    0,  419,  153,    0,    0,   11],\n",
      "        [   0, 2346,    0,    0,    8,  158,    0,    0,    0],\n",
      "        [ 246,    3, 1907,    0,  112,  230,    0,    0,    0],\n",
      "        [  15,    8,    0, 2274,    0,  159,   57,    0,    0],\n",
      "        [ 159,    0,  129,    0, 2051,  159,    0,    0,    0],\n",
      "        [   3,   45,  126,    0,    0, 2341,    0,    0,    0],\n",
      "        [  23,    0,    0,    0,   14,  143, 2096,  206,    0],\n",
      "        [  11,    0,    0,    0,    4,  149,  239, 2107,    0],\n",
      "        [   0,   55,   55,    0,    0,  167,    0,    0, 2239]])\n"
     ]
    },
    {
     "name": "stderr",
     "output_type": "stream",
     "text": [
      "Metric Validation/Accuracy improved. New best score: 0.993\n"
     ]
    },
    {
     "data": {
      "application/vnd.jupyter.widget-view+json": {
       "model_id": "552fbb327ec14156b80e11d817cc36e8",
       "version_major": 2,
       "version_minor": 0
      },
      "text/plain": [
       "Validation: |          | 0/? [00:00<?, ?it/s]"
      ]
     },
     "metadata": {},
     "output_type": "display_data"
    },
    {
     "name": "stdout",
     "output_type": "stream",
     "text": [
      "Epoch end: Validation, epoch number: 2\n",
      "ValidationEpoch/CM\n",
      " tensor([[4105,    0,  218,    0,  419,  153,    0,    0,   11],\n",
      "        [   0, 4751,    0,    0,    8,  158,    0,    0,    0],\n",
      "        [ 417,    3, 4141,    0,  112,  230,    0,    0,    0],\n",
      "        [  15,    8,    5, 4664,    0,  159,   57,    0,    0],\n",
      "        [ 159,    0,  129,    0, 4451,  159,    0,    0,    0],\n",
      "        [   3,   45,  126,    0,    0, 4741,    0,    0,    0],\n",
      "        [  23,    0,    0,    0,   14,  143, 4443,  214,    0],\n",
      "        [  11,    0,    0,    0,    4,  149,  244, 4502,    0],\n",
      "        [   0,   55,   55,    0,    0,  167,    0,    0, 4629]])\n"
     ]
    },
    {
     "name": "stderr",
     "output_type": "stream",
     "text": [
      "Metric Validation/Accuracy improved by 0.000 >= min_delta = 0.0. New best score: 0.994\n"
     ]
    },
    {
     "name": "stdout",
     "output_type": "stream",
     "text": [
      "Epoch end: Train, epoch number: 1\n",
      "TrainEpoch/CM\n",
      " tensor([[4105,    0,  218,    0,  419,  153,    0,    0,   11],\n",
      "        [   0, 4751,    0,    0,    8,  158,    0,    0,    0],\n",
      "        [ 417,    3, 4141,    0,  112,  230,    0,    0,    0],\n",
      "        [  15,    8,    5, 4664,    0,  159,   57,    0,    0],\n",
      "        [ 159,    0,  129,    0, 4451,  159,    0,    0,    0],\n",
      "        [   3,   45,  126,    0,    0, 4741,    0,    0,    0],\n",
      "        [  23,    0,    0,    0,   14,  143, 4443,  214,    0],\n",
      "        [  11,    0,    0,    0,    4,  149,  244, 4502,    0],\n",
      "        [   0,   55,   55,    0,    0,  167,    0,    0, 4629]])\n"
     ]
    },
    {
     "data": {
      "application/vnd.jupyter.widget-view+json": {
       "model_id": "8ab8f3fbd73148ce9375d8153a02bd9c",
       "version_major": 2,
       "version_minor": 0
      },
      "text/plain": [
       "Validation: |          | 0/? [00:00<?, ?it/s]"
      ]
     },
     "metadata": {},
     "output_type": "display_data"
    },
    {
     "name": "stdout",
     "output_type": "stream",
     "text": [
      "Epoch end: Validation, epoch number: 3\n",
      "ValidationEpoch/CM\n",
      " tensor([[6503,    0,  220,    0,  419,  153,    0,    0,   11],\n",
      "        [   0, 7156,    0,    0,    8,  158,    0,    0,    0],\n",
      "        [ 540,    3, 6423,    0,  112,  230,    0,    0,    0],\n",
      "        [  15,    8,   10, 7054,    0,  159,   57,    0,    0],\n",
      "        [ 159,    0,  129,    0, 6851,  159,    0,    0,    0],\n",
      "        [   3,   45,  126,    0,    0, 7141,    0,    0,    0],\n",
      "        [  23,    0,    0,    0,   14,  143, 6798,  214,    0],\n",
      "        [  11,    0,    0,    0,    4,  149,  249, 6897,    0],\n",
      "        [   0,   55,   55,    0,    0,  167,    0,    0, 7019]])\n",
      "Epoch end: Train, epoch number: 2\n",
      "TrainEpoch/CM\n",
      " tensor([[6503,    0,  220,    0,  419,  153,    0,    0,   11],\n",
      "        [   0, 7156,    0,    0,    8,  158,    0,    0,    0],\n",
      "        [ 540,    3, 6423,    0,  112,  230,    0,    0,    0],\n",
      "        [  15,    8,   10, 7054,    0,  159,   57,    0,    0],\n",
      "        [ 159,    0,  129,    0, 6851,  159,    0,    0,    0],\n",
      "        [   3,   45,  126,    0,    0, 7141,    0,    0,    0],\n",
      "        [  23,    0,    0,    0,   14,  143, 6798,  214,    0],\n",
      "        [  11,    0,    0,    0,    4,  149,  249, 6897,    0],\n",
      "        [   0,   55,   55,    0,    0,  167,    0,    0, 7019]])\n"
     ]
    },
    {
     "name": "stderr",
     "output_type": "stream",
     "text": [
      "Metric Validation/Accuracy improved by 0.001 >= min_delta = 0.0. New best score: 0.995\n"
     ]
    },
    {
     "data": {
      "application/vnd.jupyter.widget-view+json": {
       "model_id": "472f46e13d624f87a0ef14b6adc46ccf",
       "version_major": 2,
       "version_minor": 0
      },
      "text/plain": [
       "Validation: |          | 0/? [00:00<?, ?it/s]"
      ]
     },
     "metadata": {},
     "output_type": "display_data"
    },
    {
     "name": "stdout",
     "output_type": "stream",
     "text": [
      "Epoch end: Validation, epoch number: 4\n",
      "ValidationEpoch/CM\n",
      " tensor([[8902,    0,  221,    0,  419,  153,    0,    0,   11],\n",
      "        [   0, 9561,    0,    0,    8,  158,    0,    0,    0],\n",
      "        [ 630,    3, 8738,    0,  112,  230,    0,    0,    0],\n",
      "        [  15,    8,   15, 9444,    0,  159,   57,    0,    0],\n",
      "        [ 159,    0,  129,    0, 9251,  159,    0,    0,    0],\n",
      "        [   3,   45,  126,    0,    0, 9541,    0,    0,    0],\n",
      "        [  23,    0,    0,    0,   14,  143, 9153,  214,    0],\n",
      "        [  11,    0,    0,    0,    4,  149,  254, 9292,    0],\n",
      "        [   0,   55,   55,    0,    0,  167,    0,    0, 9409]])\n"
     ]
    },
    {
     "name": "stderr",
     "output_type": "stream",
     "text": [
      "Metric Validation/Accuracy improved by 0.001 >= min_delta = 0.0. New best score: 0.996\n"
     ]
    },
    {
     "name": "stdout",
     "output_type": "stream",
     "text": [
      "Epoch end: Train, epoch number: 3\n",
      "TrainEpoch/CM\n",
      " tensor([[8902,    0,  221,    0,  419,  153,    0,    0,   11],\n",
      "        [   0, 9561,    0,    0,    8,  158,    0,    0,    0],\n",
      "        [ 630,    3, 8738,    0,  112,  230,    0,    0,    0],\n",
      "        [  15,    8,   15, 9444,    0,  159,   57,    0,    0],\n",
      "        [ 159,    0,  129,    0, 9251,  159,    0,    0,    0],\n",
      "        [   3,   45,  126,    0,    0, 9541,    0,    0,    0],\n",
      "        [  23,    0,    0,    0,   14,  143, 9153,  214,    0],\n",
      "        [  11,    0,    0,    0,    4,  149,  254, 9292,    0],\n",
      "        [   0,   55,   55,    0,    0,  167,    0,    0, 9409]])\n"
     ]
    },
    {
     "data": {
      "application/vnd.jupyter.widget-view+json": {
       "model_id": "35100c1f296f4da0ba6316e675148c28",
       "version_major": 2,
       "version_minor": 0
      },
      "text/plain": [
       "Validation: |          | 0/? [00:00<?, ?it/s]"
      ]
     },
     "metadata": {},
     "output_type": "display_data"
    },
    {
     "name": "stdout",
     "output_type": "stream",
     "text": [
      "Epoch end: Validation, epoch number: 5\n",
      "ValidationEpoch/CM\n",
      " tensor([[11302,     0,   221,     0,   419,   153,     0,     0,    11],\n",
      "        [    0, 11966,     0,     0,     8,   158,     0,     0,     0],\n",
      "        [  693,     3, 11080,     0,   112,   230,     0,     0,     0],\n",
      "        [   15,     8,    18, 11836,     0,   159,    57,     0,     0],\n",
      "        [  159,     0,   129,     0, 11651,   159,     0,     0,     0],\n",
      "        [    3,    45,   126,     0,     0, 11941,     0,     0,     0],\n",
      "        [   23,     0,     0,     0,    14,   143, 11508,   214,     0],\n",
      "        [   11,     0,     0,     0,     4,   149,   259, 11687,     0],\n",
      "        [    0,    55,    55,     0,     0,   167,     0,     0, 11799]])\n",
      "Epoch end: Train, epoch number: 4\n",
      "TrainEpoch/CM\n",
      " tensor([[11302,     0,   221,     0,   419,   153,     0,     0,    11],\n",
      "        [    0, 11966,     0,     0,     8,   158,     0,     0,     0],\n",
      "        [  693,     3, 11080,     0,   112,   230,     0,     0,     0],\n",
      "        [   15,     8,    18, 11836,     0,   159,    57,     0,     0],\n",
      "        [  159,     0,   129,     0, 11651,   159,     0,     0,     0],\n",
      "        [    3,    45,   126,     0,     0, 11941,     0,     0,     0],\n",
      "        [   23,     0,     0,     0,    14,   143, 11508,   214,     0],\n",
      "        [   11,     0,     0,     0,     4,   149,   259, 11687,     0],\n",
      "        [    0,    55,    55,     0,     0,   167,     0,     0, 11799]])\n"
     ]
    },
    {
     "name": "stderr",
     "output_type": "stream",
     "text": [
      "Metric Validation/Accuracy improved by 0.002 >= min_delta = 0.0. New best score: 0.998\n"
     ]
    },
    {
     "data": {
      "application/vnd.jupyter.widget-view+json": {
       "model_id": "dacdc028b7ee4cbfb2c6f550ad7aed3a",
       "version_major": 2,
       "version_minor": 0
      },
      "text/plain": [
       "Validation: |          | 0/? [00:00<?, ?it/s]"
      ]
     },
     "metadata": {},
     "output_type": "display_data"
    },
    {
     "name": "stdout",
     "output_type": "stream",
     "text": [
      "Epoch end: Validation, epoch number: 6\n",
      "ValidationEpoch/CM\n",
      " tensor([[13702,     0,   221,     0,   419,   153,     0,     0,    11],\n",
      "        [    0, 14371,     0,     0,     8,   158,     0,     0,     0],\n",
      "        [  738,     3, 13440,     0,   112,   230,     0,     0,     0],\n",
      "        [   15,     8,    18, 14231,     0,   159,    57,     0,     0],\n",
      "        [  159,     0,   129,     0, 14051,   159,     0,     0,     0],\n",
      "        [    3,    45,   126,     0,     0, 14341,     0,     0,     0],\n",
      "        [   23,     0,     0,     0,    14,   143, 13863,   214,     0],\n",
      "        [   11,     0,     0,     0,     4,   149,   264, 14082,     0],\n",
      "        [    0,    55,    55,     0,     0,   167,     0,     0, 14189]])\n",
      "Epoch end: Train, epoch number: 5\n",
      "TrainEpoch/CM\n",
      " tensor([[13702,     0,   221,     0,   419,   153,     0,     0,    11],\n",
      "        [    0, 14371,     0,     0,     8,   158,     0,     0,     0],\n",
      "        [  738,     3, 13440,     0,   112,   230,     0,     0,     0],\n",
      "        [   15,     8,    18, 14231,     0,   159,    57,     0,     0],\n",
      "        [  159,     0,   129,     0, 14051,   159,     0,     0,     0],\n",
      "        [    3,    45,   126,     0,     0, 14341,     0,     0,     0],\n",
      "        [   23,     0,     0,     0,    14,   143, 13863,   214,     0],\n",
      "        [   11,     0,     0,     0,     4,   149,   264, 14082,     0],\n",
      "        [    0,    55,    55,     0,     0,   167,     0,     0, 14189]])\n"
     ]
    },
    {
     "name": "stderr",
     "output_type": "stream",
     "text": [
      "Metric Validation/Accuracy improved by 0.000 >= min_delta = 0.0. New best score: 0.998\n"
     ]
    },
    {
     "data": {
      "application/vnd.jupyter.widget-view+json": {
       "model_id": "c5d68077d42844e181df9903f76e9b94",
       "version_major": 2,
       "version_minor": 0
      },
      "text/plain": [
       "Validation: |          | 0/? [00:00<?, ?it/s]"
      ]
     },
     "metadata": {},
     "output_type": "display_data"
    },
    {
     "name": "stdout",
     "output_type": "stream",
     "text": [
      "Epoch end: Validation, epoch number: 7\n",
      "ValidationEpoch/CM\n",
      " tensor([[16102,     0,   221,     0,   419,   153,     0,     0,    11],\n",
      "        [    0, 16776,     0,     0,     8,   158,     0,     0,     0],\n",
      "        [  765,     3, 15818,     0,   112,   230,     0,     0,     0],\n",
      "        [   15,     8,    18, 16626,     0,   159,    57,     0,     0],\n",
      "        [  159,     0,   129,     0, 16451,   159,     0,     0,     0],\n",
      "        [    3,    45,   126,     0,     0, 16741,     0,     0,     0],\n",
      "        [   23,     0,     0,     0,    14,   143, 16218,   214,     0],\n",
      "        [   11,     0,     0,     0,     4,   149,   269, 16477,     0],\n",
      "        [    0,    55,    55,     0,     0,   167,     0,     0, 16579]])\n"
     ]
    },
    {
     "name": "stderr",
     "output_type": "stream",
     "text": [
      "Metric Validation/Accuracy improved by 0.001 >= min_delta = 0.0. New best score: 1.000\n"
     ]
    },
    {
     "name": "stdout",
     "output_type": "stream",
     "text": [
      "Epoch end: Train, epoch number: 6\n",
      "TrainEpoch/CM\n",
      " tensor([[16102,     0,   221,     0,   419,   153,     0,     0,    11],\n",
      "        [    0, 16776,     0,     0,     8,   158,     0,     0,     0],\n",
      "        [  765,     3, 15818,     0,   112,   230,     0,     0,     0],\n",
      "        [   15,     8,    18, 16626,     0,   159,    57,     0,     0],\n",
      "        [  159,     0,   129,     0, 16451,   159,     0,     0,     0],\n",
      "        [    3,    45,   126,     0,     0, 16741,     0,     0,     0],\n",
      "        [   23,     0,     0,     0,    14,   143, 16218,   214,     0],\n",
      "        [   11,     0,     0,     0,     4,   149,   269, 16477,     0],\n",
      "        [    0,    55,    55,     0,     0,   167,     0,     0, 16579]])\n"
     ]
    },
    {
     "data": {
      "application/vnd.jupyter.widget-view+json": {
       "model_id": "420eb0db88484a4fbdf16502298de3c5",
       "version_major": 2,
       "version_minor": 0
      },
      "text/plain": [
       "Validation: |          | 0/? [00:00<?, ?it/s]"
      ]
     },
     "metadata": {},
     "output_type": "display_data"
    },
    {
     "name": "stdout",
     "output_type": "stream",
     "text": [
      "Epoch end: Validation, epoch number: 8\n",
      "ValidationEpoch/CM\n",
      " tensor([[18502,     0,   221,     0,   419,   153,     0,     0,    11],\n",
      "        [    0, 19181,     0,     0,     8,   158,     0,     0,     0],\n",
      "        [  783,     3, 18205,     0,   112,   230,     0,     0,     0],\n",
      "        [   15,     8,    18, 19021,     0,   159,    57,     0,     0],\n",
      "        [  159,     0,   129,     0, 18851,   159,     0,     0,     0],\n",
      "        [    3,    45,   126,     0,     0, 19141,     0,     0,     0],\n",
      "        [   23,     0,     0,     0,    14,   143, 18573,   214,     0],\n",
      "        [   11,     0,     0,     0,     4,   149,   274, 18872,     0],\n",
      "        [    0,    55,    55,     0,     0,   167,     0,     0, 18969]])\n",
      "Epoch end: Train, epoch number: 7\n",
      "TrainEpoch/CM\n",
      " tensor([[18502,     0,   221,     0,   419,   153,     0,     0,    11],\n",
      "        [    0, 19181,     0,     0,     8,   158,     0,     0,     0],\n",
      "        [  783,     3, 18205,     0,   112,   230,     0,     0,     0],\n",
      "        [   15,     8,    18, 19021,     0,   159,    57,     0,     0],\n",
      "        [  159,     0,   129,     0, 18851,   159,     0,     0,     0],\n",
      "        [    3,    45,   126,     0,     0, 19141,     0,     0,     0],\n",
      "        [   23,     0,     0,     0,    14,   143, 18573,   214,     0],\n",
      "        [   11,     0,     0,     0,     4,   149,   274, 18872,     0],\n",
      "        [    0,    55,    55,     0,     0,   167,     0,     0, 18969]])\n"
     ]
    },
    {
     "data": {
      "application/vnd.jupyter.widget-view+json": {
       "model_id": "e47ac1cfc7a041f28c04843b9e9de80e",
       "version_major": 2,
       "version_minor": 0
      },
      "text/plain": [
       "Validation: |          | 0/? [00:00<?, ?it/s]"
      ]
     },
     "metadata": {},
     "output_type": "display_data"
    },
    {
     "name": "stdout",
     "output_type": "stream",
     "text": [
      "Epoch end: Validation, epoch number: 9\n",
      "ValidationEpoch/CM\n",
      " tensor([[20902,     0,   221,     0,   419,   153,     0,     0,    11],\n",
      "        [    0, 21586,     0,     0,     8,   158,     0,     0,     0],\n",
      "        [  798,     3, 20595,     0,   112,   230,     0,     0,     0],\n",
      "        [   15,     8,    18, 21416,     0,   159,    57,     0,     0],\n",
      "        [  159,     0,   129,     0, 21251,   159,     0,     0,     0],\n",
      "        [    3,    45,   126,     0,     0, 21541,     0,     0,     0],\n",
      "        [   23,     0,     0,     0,    14,   143, 20928,   214,     0],\n",
      "        [   11,     0,     0,     0,     4,   149,   279, 21267,     0],\n",
      "        [    0,    55,    55,     0,     0,   167,     0,     0, 21359]])\n",
      "Epoch end: Train, epoch number: 8\n",
      "TrainEpoch/CM\n",
      " tensor([[20902,     0,   221,     0,   419,   153,     0,     0,    11],\n",
      "        [    0, 21586,     0,     0,     8,   158,     0,     0,     0],\n",
      "        [  798,     3, 20595,     0,   112,   230,     0,     0,     0],\n",
      "        [   15,     8,    18, 21416,     0,   159,    57,     0,     0],\n",
      "        [  159,     0,   129,     0, 21251,   159,     0,     0,     0],\n",
      "        [    3,    45,   126,     0,     0, 21541,     0,     0,     0],\n",
      "        [   23,     0,     0,     0,    14,   143, 20928,   214,     0],\n",
      "        [   11,     0,     0,     0,     4,   149,   279, 21267,     0],\n",
      "        [    0,    55,    55,     0,     0,   167,     0,     0, 21359]])\n"
     ]
    },
    {
     "data": {
      "application/vnd.jupyter.widget-view+json": {
       "model_id": "184c9179a2ee45b69e5a9512e708aa48",
       "version_major": 2,
       "version_minor": 0
      },
      "text/plain": [
       "Validation: |          | 0/? [00:00<?, ?it/s]"
      ]
     },
     "metadata": {},
     "output_type": "display_data"
    },
    {
     "name": "stdout",
     "output_type": "stream",
     "text": [
      "Epoch end: Validation, epoch number: 10\n",
      "ValidationEpoch/CM\n",
      " tensor([[23302,     0,   221,     0,   419,   153,     0,     0,    11],\n",
      "        [    0, 23991,     0,     0,     8,   158,     0,     0,     0],\n",
      "        [  812,     3, 22986,     0,   112,   230,     0,     0,     0],\n",
      "        [   15,     8,    18, 23811,     0,   159,    57,     0,     0],\n",
      "        [  159,     0,   129,     0, 23651,   159,     0,     0,     0],\n",
      "        [    3,    45,   126,     0,     0, 23941,     0,     0,     0],\n",
      "        [   23,     0,     0,     0,    14,   143, 23283,   214,     0],\n",
      "        [   11,     0,     0,     0,     4,   149,   281, 23665,     0],\n",
      "        [    0,    55,    55,     0,     0,   167,     0,     0, 23749]])\n",
      "Epoch end: Train, epoch number: 9\n",
      "TrainEpoch/CM\n",
      " tensor([[23302,     0,   221,     0,   419,   153,     0,     0,    11],\n",
      "        [    0, 23991,     0,     0,     8,   158,     0,     0,     0],\n",
      "        [  812,     3, 22986,     0,   112,   230,     0,     0,     0],\n",
      "        [   15,     8,    18, 23811,     0,   159,    57,     0,     0],\n",
      "        [  159,     0,   129,     0, 23651,   159,     0,     0,     0],\n",
      "        [    3,    45,   126,     0,     0, 23941,     0,     0,     0],\n",
      "        [   23,     0,     0,     0,    14,   143, 23283,   214,     0],\n",
      "        [   11,     0,     0,     0,     4,   149,   281, 23665,     0],\n",
      "        [    0,    55,    55,     0,     0,   167,     0,     0, 23749]])\n"
     ]
    },
    {
     "name": "stderr",
     "output_type": "stream",
     "text": [
      "Metric Validation/Accuracy improved by 0.000 >= min_delta = 0.0. New best score: 1.000\n"
     ]
    },
    {
     "data": {
      "application/vnd.jupyter.widget-view+json": {
       "model_id": "c9b3622843254e158424294db8bf47c3",
       "version_major": 2,
       "version_minor": 0
      },
      "text/plain": [
       "Validation: |          | 0/? [00:00<?, ?it/s]"
      ]
     },
     "metadata": {},
     "output_type": "display_data"
    },
    {
     "name": "stdout",
     "output_type": "stream",
     "text": [
      "Epoch end: Validation, epoch number: 11\n",
      "ValidationEpoch/CM\n",
      " tensor([[25702,     0,   221,     0,   419,   153,     0,     0,    11],\n",
      "        [    0, 26396,     0,     0,     8,   158,     0,     0,     0],\n",
      "        [  826,     3, 25377,     0,   112,   230,     0,     0,     0],\n",
      "        [   15,     8,    18, 26206,     0,   159,    57,     0,     0],\n",
      "        [  159,     0,   129,     0, 26051,   159,     0,     0,     0],\n",
      "        [    3,    45,   126,     0,     0, 26341,     0,     0,     0],\n",
      "        [   23,     0,     0,     0,    14,   143, 25638,   214,     0],\n",
      "        [   11,     0,     0,     0,     4,   149,   282, 26064,     0],\n",
      "        [    0,    55,    55,     0,     0,   167,     0,     0, 26139]])\n",
      "Epoch end: Train, epoch number: 10\n",
      "TrainEpoch/CM\n",
      " tensor([[25702,     0,   221,     0,   419,   153,     0,     0,    11],\n",
      "        [    0, 26396,     0,     0,     8,   158,     0,     0,     0],\n",
      "        [  826,     3, 25377,     0,   112,   230,     0,     0,     0],\n",
      "        [   15,     8,    18, 26206,     0,   159,    57,     0,     0],\n",
      "        [  159,     0,   129,     0, 26051,   159,     0,     0,     0],\n",
      "        [    3,    45,   126,     0,     0, 26341,     0,     0,     0],\n",
      "        [   23,     0,     0,     0,    14,   143, 25638,   214,     0],\n",
      "        [   11,     0,     0,     0,     4,   149,   282, 26064,     0],\n",
      "        [    0,    55,    55,     0,     0,   167,     0,     0, 26139]])\n"
     ]
    },
    {
     "data": {
      "application/vnd.jupyter.widget-view+json": {
       "model_id": "0d7044e86c1c4a4db7dcc1df8d00a621",
       "version_major": 2,
       "version_minor": 0
      },
      "text/plain": [
       "Validation: |          | 0/? [00:00<?, ?it/s]"
      ]
     },
     "metadata": {},
     "output_type": "display_data"
    },
    {
     "name": "stdout",
     "output_type": "stream",
     "text": [
      "Epoch end: Validation, epoch number: 12\n",
      "ValidationEpoch/CM\n",
      " tensor([[28102,     0,   221,     0,   419,   153,     0,     0,    11],\n",
      "        [    0, 28801,     0,     0,     8,   158,     0,     0,     0],\n",
      "        [  840,     3, 27768,     0,   112,   230,     0,     0,     0],\n",
      "        [   15,     8,    18, 28601,     0,   159,    57,     0,     0],\n",
      "        [  159,     0,   129,     0, 28451,   159,     0,     0,     0],\n",
      "        [    3,    45,   126,     0,     0, 28741,     0,     0,     0],\n",
      "        [   23,     0,     0,     0,    14,   143, 27993,   214,     0],\n",
      "        [   11,     0,     0,     0,     4,   149,   282, 28464,     0],\n",
      "        [    0,    55,    55,     0,     0,   167,     0,     0, 28529]])\n",
      "Epoch end: Train, epoch number: 11\n",
      "TrainEpoch/CM\n",
      " tensor([[28102,     0,   221,     0,   419,   153,     0,     0,    11],\n",
      "        [    0, 28801,     0,     0,     8,   158,     0,     0,     0],\n",
      "        [  840,     3, 27768,     0,   112,   230,     0,     0,     0],\n",
      "        [   15,     8,    18, 28601,     0,   159,    57,     0,     0],\n",
      "        [  159,     0,   129,     0, 28451,   159,     0,     0,     0],\n",
      "        [    3,    45,   126,     0,     0, 28741,     0,     0,     0],\n",
      "        [   23,     0,     0,     0,    14,   143, 27993,   214,     0],\n",
      "        [   11,     0,     0,     0,     4,   149,   282, 28464,     0],\n",
      "        [    0,    55,    55,     0,     0,   167,     0,     0, 28529]])\n"
     ]
    },
    {
     "data": {
      "application/vnd.jupyter.widget-view+json": {
       "model_id": "0c8e0c0ab0d34f54bea3f5eda7feb7d9",
       "version_major": 2,
       "version_minor": 0
      },
      "text/plain": [
       "Validation: |          | 0/? [00:00<?, ?it/s]"
      ]
     },
     "metadata": {},
     "output_type": "display_data"
    },
    {
     "name": "stdout",
     "output_type": "stream",
     "text": [
      "Epoch end: Validation, epoch number: 13\n",
      "ValidationEpoch/CM\n",
      " tensor([[30502,     0,   221,     0,   419,   153,     0,     0,    11],\n",
      "        [    0, 31206,     0,     0,     8,   158,     0,     0,     0],\n",
      "        [  853,     3, 30160,     0,   112,   230,     0,     0,     0],\n",
      "        [   15,     8,    18, 30996,     0,   159,    57,     0,     0],\n",
      "        [  159,     0,   129,     0, 30851,   159,     0,     0,     0],\n",
      "        [    3,    45,   126,     0,     0, 31141,     0,     0,     0],\n",
      "        [   23,     0,     0,     0,    14,   143, 30348,   214,     0],\n",
      "        [   11,     0,     0,     0,     4,   149,   282, 30864,     0],\n",
      "        [    0,    55,    55,     0,     0,   167,     0,     0, 30919]])\n",
      "Epoch end: Train, epoch number: 12\n",
      "TrainEpoch/CM\n",
      " tensor([[30502,     0,   221,     0,   419,   153,     0,     0,    11],\n",
      "        [    0, 31206,     0,     0,     8,   158,     0,     0,     0],\n",
      "        [  853,     3, 30160,     0,   112,   230,     0,     0,     0],\n",
      "        [   15,     8,    18, 30996,     0,   159,    57,     0,     0],\n",
      "        [  159,     0,   129,     0, 30851,   159,     0,     0,     0],\n",
      "        [    3,    45,   126,     0,     0, 31141,     0,     0,     0],\n",
      "        [   23,     0,     0,     0,    14,   143, 30348,   214,     0],\n",
      "        [   11,     0,     0,     0,     4,   149,   282, 30864,     0],\n",
      "        [    0,    55,    55,     0,     0,   167,     0,     0, 30919]])\n"
     ]
    },
    {
     "data": {
      "application/vnd.jupyter.widget-view+json": {
       "model_id": "256f62ad4ac64b4fbf2196c7c30e7f83",
       "version_major": 2,
       "version_minor": 0
      },
      "text/plain": [
       "Validation: |          | 0/? [00:00<?, ?it/s]"
      ]
     },
     "metadata": {},
     "output_type": "display_data"
    },
    {
     "name": "stdout",
     "output_type": "stream",
     "text": [
      "Epoch end: Validation, epoch number: 14\n",
      "ValidationEpoch/CM\n",
      " tensor([[32902,     0,   221,     0,   419,   153,     0,     0,    11],\n",
      "        [    0, 33611,     0,     0,     8,   158,     0,     0,     0],\n",
      "        [  865,     3, 32553,     0,   112,   230,     0,     0,     0],\n",
      "        [   15,     8,    18, 33391,     0,   159,    57,     0,     0],\n",
      "        [  159,     0,   129,     0, 33251,   159,     0,     0,     0],\n",
      "        [    3,    45,   126,     0,     0, 33541,     0,     0,     0],\n",
      "        [   23,     0,     0,     0,    14,   143, 32703,   214,     0],\n",
      "        [   11,     0,     0,     0,     4,   149,   282, 33264,     0],\n",
      "        [    0,    55,    55,     0,     0,   167,     0,     0, 33309]])\n",
      "Epoch end: Train, epoch number: 13\n",
      "TrainEpoch/CM\n",
      " tensor([[32902,     0,   221,     0,   419,   153,     0,     0,    11],\n",
      "        [    0, 33611,     0,     0,     8,   158,     0,     0,     0],\n",
      "        [  865,     3, 32553,     0,   112,   230,     0,     0,     0],\n",
      "        [   15,     8,    18, 33391,     0,   159,    57,     0,     0],\n",
      "        [  159,     0,   129,     0, 33251,   159,     0,     0,     0],\n",
      "        [    3,    45,   126,     0,     0, 33541,     0,     0,     0],\n",
      "        [   23,     0,     0,     0,    14,   143, 32703,   214,     0],\n",
      "        [   11,     0,     0,     0,     4,   149,   282, 33264,     0],\n",
      "        [    0,    55,    55,     0,     0,   167,     0,     0, 33309]])\n"
     ]
    },
    {
     "data": {
      "application/vnd.jupyter.widget-view+json": {
       "model_id": "7c872de29f8c48a7bcd9dce4f7b33255",
       "version_major": 2,
       "version_minor": 0
      },
      "text/plain": [
       "Validation: |          | 0/? [00:00<?, ?it/s]"
      ]
     },
     "metadata": {},
     "output_type": "display_data"
    },
    {
     "name": "stdout",
     "output_type": "stream",
     "text": [
      "Epoch end: Validation, epoch number: 15\n",
      "ValidationEpoch/CM\n",
      " tensor([[35302,     0,   221,     0,   419,   153,     0,     0,    11],\n",
      "        [    0, 36016,     0,     0,     8,   158,     0,     0,     0],\n",
      "        [  875,     3, 34948,     0,   112,   230,     0,     0,     0],\n",
      "        [   15,     8,    18, 35786,     0,   159,    57,     0,     0],\n",
      "        [  159,     0,   129,     0, 35651,   159,     0,     0,     0],\n",
      "        [    3,    45,   126,     0,     0, 35941,     0,     0,     0],\n",
      "        [   23,     0,     0,     0,    14,   143, 35058,   214,     0],\n",
      "        [   11,     0,     0,     0,     4,   149,   282, 35664,     0],\n",
      "        [    0,    55,    55,     0,     0,   167,     0,     0, 35699]])\n",
      "Epoch end: Train, epoch number: 14\n",
      "TrainEpoch/CM\n",
      " tensor([[35302,     0,   221,     0,   419,   153,     0,     0,    11],\n",
      "        [    0, 36016,     0,     0,     8,   158,     0,     0,     0],\n",
      "        [  875,     3, 34948,     0,   112,   230,     0,     0,     0],\n",
      "        [   15,     8,    18, 35786,     0,   159,    57,     0,     0],\n",
      "        [  159,     0,   129,     0, 35651,   159,     0,     0,     0],\n",
      "        [    3,    45,   126,     0,     0, 35941,     0,     0,     0],\n",
      "        [   23,     0,     0,     0,    14,   143, 35058,   214,     0],\n",
      "        [   11,     0,     0,     0,     4,   149,   282, 35664,     0],\n",
      "        [    0,    55,    55,     0,     0,   167,     0,     0, 35699]])\n"
     ]
    },
    {
     "name": "stderr",
     "output_type": "stream",
     "text": [
      "Monitored metric Validation/Accuracy did not improve in the last 5 records. Best score: 1.000. Signaling Trainer to stop.\n"
     ]
    }
   ],
   "source": [
    "trainer.fit(model=model, train_dataloaders=train_dataloader, val_dataloaders=val_dataloader)"
   ]
  },
  {
   "cell_type": "code",
   "execution_count": null,
   "metadata": {},
   "outputs": [
    {
     "data": {
      "text/plain": [
       "MalwaresModelLinearLayer(\n",
       "  (train_metrics): MetricCollection(\n",
       "    (MulticlassAccuracy): MulticlassAccuracy()\n",
       "    (MulticlassPrecision): MulticlassPrecision()\n",
       "    (MulticlassRecall): MulticlassRecall()\n",
       "    (MulticlassF1Score): MulticlassF1Score(),\n",
       "    prefix=Train/\n",
       "  )\n",
       "  (val_metrics): MetricCollection(\n",
       "    (MulticlassAccuracy): MulticlassAccuracy()\n",
       "    (MulticlassPrecision): MulticlassPrecision()\n",
       "    (MulticlassRecall): MulticlassRecall()\n",
       "    (MulticlassF1Score): MulticlassF1Score(),\n",
       "    prefix=Validation/\n",
       "  )\n",
       "  (test_metrics): MetricCollection(\n",
       "    (MulticlassAccuracy): MulticlassAccuracy()\n",
       "    (MulticlassPrecision): MulticlassPrecision()\n",
       "    (MulticlassRecall): MulticlassRecall()\n",
       "    (MulticlassF1Score): MulticlassF1Score(),\n",
       "    prefix=Test/\n",
       "  )\n",
       "  (cm): MulticlassConfusionMatrix()\n",
       "  (criterion): CrossEntropyLoss()\n",
       "  (l1): Linear(in_features=287, out_features=9, bias=True)\n",
       ")"
      ]
     },
     "execution_count": 30,
     "metadata": {},
     "output_type": "execute_result"
    }
   ],
   "source": [
    "model.eval()"
   ]
  },
  {
   "cell_type": "code",
   "execution_count": null,
   "metadata": {},
   "outputs": [
    {
     "name": "stderr",
     "output_type": "stream",
     "text": [
      "LOCAL_RANK: 0 - CUDA_VISIBLE_DEVICES: [0]\n"
     ]
    },
    {
     "name": "stdout",
     "output_type": "stream",
     "text": [
      "/home/<User>/repos/csg_is/training/official_logs/single-layer_300_30s_Xi_sensor_1_rp3/version_0/checkpoints/epoch=9-step=350.ckpt\n",
      "tensor(1., device='cuda:0')\n"
     ]
    },
    {
     "data": {
      "application/vnd.jupyter.widget-view+json": {
       "model_id": "4b192161ae3c4d928234e32fda5496e6",
       "version_major": 2,
       "version_minor": 0
      },
      "text/plain": [
       "Testing: |          | 0/? [00:00<?, ?it/s]"
      ]
     },
     "metadata": {},
     "output_type": "display_data"
    },
    {
     "name": "stdout",
     "output_type": "stream",
     "text": [
      "Epoch end: Test, epoch number: 0\n",
      "TestEpoch/CM\n",
      " tensor([[480,   0,   0,   0,   0,   0,   0,   0,   0],\n",
      "        [  0, 474,   0,   0,   0,   0,   0,   0,   0],\n",
      "        [  0,   0, 479,   0,   0,   0,   0,   0,   0],\n",
      "        [  0,   0,   0, 462,   0,   0,   0,   0,   0],\n",
      "        [  0,   0,   0,   0, 485,   0,   0,   0,   0],\n",
      "        [  0,   0,   0,   0,   0, 478,   0,   0,   0],\n",
      "        [  0,   0,   0,   0,   0,   0, 482,   0,   0],\n",
      "        [  0,   0,   0,   0,   0,   0,   0, 485,   0],\n",
      "        [  0,   0,   0,   0,   0,   0,   0,   0, 485]])\n",
      "────────────────────────────────────────────────────────────────────────────────────────────────────────────────────────\n",
      "       Test metric             DataLoader 0\n",
      "────────────────────────────────────────────────────────────────────────────────────────────────────────────────────────\n",
      "      Test/Accuracy                 1.0\n",
      "      Test/F1Score                  1.0\n",
      "        Test/Loss          0.024981120601296425\n",
      "     Test/Precision                 1.0\n",
      "       Test/Recall                  1.0\n",
      "   TestEpoch/Accuracy               1.0\n",
      "    TestEpoch/F1Score               1.0\n",
      "   TestEpoch/Precision              1.0\n",
      "    TestEpoch/Recall                1.0\n",
      "────────────────────────────────────────────────────────────────────────────────────────────────────────────────────────\n"
     ]
    },
    {
     "data": {
      "text/plain": [
       "[{'Test/Loss': 0.024981120601296425,\n",
       "  'Test/Accuracy': 1.0,\n",
       "  'Test/Precision': 1.0,\n",
       "  'Test/Recall': 1.0,\n",
       "  'Test/F1Score': 1.0,\n",
       "  'TestEpoch/Accuracy': 1.0,\n",
       "  'TestEpoch/Precision': 1.0,\n",
       "  'TestEpoch/Recall': 1.0,\n",
       "  'TestEpoch/F1Score': 1.0}]"
      ]
     },
     "execution_count": 31,
     "metadata": {},
     "output_type": "execute_result"
    }
   ],
   "source": [
    "print(checkpoint_callback.best_model_path)   # prints path to the best model's checkpoint\n",
    "print(checkpoint_callback.best_model_score) # and prints it score\n",
    "best_model = MalwaresModelLinearLayer.load_from_checkpoint(checkpoint_callback.best_model_path, input_size = vectors.shape[1]-1, output_size = len(label_encoder.classes_))\n",
    "\n",
    "trainer.test(best_model, dataloaders=val_dataloader)"
   ]
  },
  {
   "cell_type": "markdown",
   "metadata": {},
   "source": [
    "### Train again"
   ]
  },
  {
   "cell_type": "code",
   "execution_count": null,
   "metadata": {},
   "outputs": [
    {
     "name": "stdout",
     "output_type": "stream",
     "text": [
      "going to remove columns:  {'armv7_cortex_a15/br_mis_pred/'}\n"
     ]
    }
   ],
   "source": [
    "print (\"going to remove columns: \", set(selected_columns) - set(vectors.columns))\n",
    "selected_columns_that_are_in_rp3_dataset = list(set(selected_columns) & set(vectors.columns))"
   ]
  },
  {
   "cell_type": "code",
   "execution_count": 56,
   "metadata": {},
   "outputs": [
    {
     "data": {
      "text/plain": [
       "(21550, 32)"
      ]
     },
     "execution_count": 56,
     "metadata": {},
     "output_type": "execute_result"
    }
   ],
   "source": [
    "vectors[selected_columns_that_are_in_rp3_dataset].shape"
   ]
  },
  {
   "cell_type": "code",
   "execution_count": 57,
   "metadata": {},
   "outputs": [
    {
     "name": "stderr",
     "output_type": "stream",
     "text": [
      "/tmp/ipykernel_239875/468855836.py:2: SettingWithCopyWarning: \n",
      "A value is trying to be set on a copy of a slice from a DataFrame.\n",
      "Try using .loc[row_indexer,col_indexer] = value instead\n",
      "\n",
      "See the caveats in the documentation: https://pandas.pydata.org/pandas-docs/stable/user_guide/indexing.html#returning-a-view-versus-a-copy\n",
      "  subset[\"label\"] = df[\"label\"]\n"
     ]
    }
   ],
   "source": [
    "subset = vectors[selected_columns_that_are_in_rp3_dataset]\n",
    "subset[\"label\"] = df[\"label\"]"
   ]
  },
  {
   "cell_type": "code",
   "execution_count": 58,
   "metadata": {},
   "outputs": [
    {
     "name": "stderr",
     "output_type": "stream",
     "text": [
      "GPU available: True (cuda), used: True\n",
      "TPU available: False, using: 0 TPU cores\n",
      "IPU available: False, using: 0 IPUs\n",
      "HPU available: False, using: 0 HPUs\n"
     ]
    }
   ],
   "source": [
    "# split into train and val\n",
    "train, val = train_test_split(subset, test_size=0.2, random_state=SEED)\n",
    "\n",
    "train_dataset = CustomeDataset(train)\n",
    "train_dataloader = DataLoader(train_dataset, batch_size=500, shuffle=True, num_workers=7)\n",
    "\n",
    "val_dataset = CustomeDataset(val)\n",
    "val_dataloader = DataLoader(val_dataset, batch_size=500, shuffle=False, num_workers=7)\n",
    "\n",
    "# trainer = lightning.Trainer(fast_dev_run=100)\n",
    "monitor = \"Validation/Accuracy\"\n",
    "early_stop_callback = EarlyStopping(monitor=monitor, patience=5, verbose=True, mode=\"max\")\n",
    "checkpoint_callback = ModelCheckpoint(save_top_k=1, monitor=monitor, mode=\"max\")\n",
    "\n",
    "tensorboard = pl_loggers.TensorBoardLogger(save_dir=LOG_PATH, name=LOG_NAME_EXPERIMENT_2)\n",
    "trainer = lightning.Trainer(max_epochs=150, callbacks=[early_stop_callback, checkpoint_callback], enable_checkpointing=True, logger=tensorboard) #logger=None, \n",
    "\n",
    "\n",
    "model = MalwaresModelLinearLayer(input_size = subset.shape[1]-1, output_size = len(label_encoder.classes_), seed=SEED)\n",
    "\n",
    "torch.manual_seed(SEED)\n",
    "torch.cuda.manual_seed_all(SEED)\n"
   ]
  },
  {
   "cell_type": "code",
   "execution_count": 59,
   "metadata": {},
   "outputs": [
    {
     "name": "stderr",
     "output_type": "stream",
     "text": [
      "LOCAL_RANK: 0 - CUDA_VISIBLE_DEVICES: [0]\n",
      "\n",
      "  | Name          | Type                      | Params\n",
      "------------------------------------------------------------\n",
      "0 | train_metrics | MetricCollection          | 0     \n",
      "1 | val_metrics   | MetricCollection          | 0     \n",
      "2 | test_metrics  | MetricCollection          | 0     \n",
      "3 | cm            | MulticlassConfusionMatrix | 0     \n",
      "4 | criterion     | CrossEntropyLoss          | 0     \n",
      "5 | l1            | Linear                    | 288   \n",
      "------------------------------------------------------------\n",
      "288       Trainable params\n",
      "0         Non-trainable params\n",
      "288       Total params\n",
      "0.001     Total estimated model params size (MB)\n"
     ]
    },
    {
     "data": {
      "application/vnd.jupyter.widget-view+json": {
       "model_id": "cb6b2479f4344e9a89e6c6a562dbfd27",
       "version_major": 2,
       "version_minor": 0
      },
      "text/plain": [
       "Sanity Checking: |          | 0/? [00:00<?, ?it/s]"
      ]
     },
     "metadata": {},
     "output_type": "display_data"
    },
    {
     "name": "stdout",
     "output_type": "stream",
     "text": [
      "Epoch end: Validation, epoch number: 0\n",
      "ValidationEpoch/CM\n",
      " tensor([[  0,   0, 106,   0,   0,   0,   0,   0,   0],\n",
      "        [ 27,   0,  80,   0,   0,   0,   0,   0,   0],\n",
      "        [  0,   0,  82,   0,  11,   0,   0,   0,   0],\n",
      "        [  0,   0,   0,   0,   0,   0,   0,   0, 118],\n",
      "        [  0,   0,  70,   0,   0,   0,  27,   1,   0],\n",
      "        [  0,   0,  98,   0,  17,   0,   0,   0,   0],\n",
      "        [  5,   0,  13,   0,  56,   0,   0,   0,  53],\n",
      "        [  1,   0,  30,   0,  32,   0,   0,   0,  47],\n",
      "        [  0,   0, 125,   0,   1,   0,   0,   0,   0]])\n"
     ]
    },
    {
     "name": "stderr",
     "output_type": "stream",
     "text": [
      "/home/<User>/repos/csg_is/.venv/lib/python3.10/site-packages/lightning/pytorch/loops/fit_loop.py:298: The number of training batches (35) is smaller than the logging interval Trainer(log_every_n_steps=50). Set a lower value for log_every_n_steps if you want to see logs for the training epoch.\n"
     ]
    },
    {
     "data": {
      "application/vnd.jupyter.widget-view+json": {
       "model_id": "495be6fed65e4dca865505e3126c0266",
       "version_major": 2,
       "version_minor": 0
      },
      "text/plain": [
       "Training: |          | 0/? [00:00<?, ?it/s]"
      ]
     },
     "metadata": {},
     "output_type": "display_data"
    },
    {
     "data": {
      "application/vnd.jupyter.widget-view+json": {
       "model_id": "0ca5cef4da2d4278ab5f7a9b4dea0e97",
       "version_major": 2,
       "version_minor": 0
      },
      "text/plain": [
       "Validation: |          | 0/? [00:00<?, ?it/s]"
      ]
     },
     "metadata": {},
     "output_type": "display_data"
    },
    {
     "name": "stdout",
     "output_type": "stream",
     "text": [
      "Epoch end: Validation, epoch number: 1\n",
      "ValidationEpoch/CM\n",
      " tensor([[ 664,    0,  931,    0,  875,   19,    0,    0,   17],\n",
      "        [  76, 2027,  230,    0,    8,  170,    1,    0,    0],\n",
      "        [ 326,    0,  657,    0, 1431,   77,    0,    0,    7],\n",
      "        [   0,    2,    1,    9,    0,    0, 1675,    3,  823],\n",
      "        [  35,    0,  584,    0, 1758,   18,   45,    2,   56],\n",
      "        [   0,    2,  185,    0,  473, 1855,    0,    0,    0],\n",
      "        [  10,   14,   22,    0,  176,    0, 1122,  960,  178],\n",
      "        [   3,   85,   54,    0,   95,    1, 1036, 1063,  173],\n",
      "        [ 154,    0,  725,    0,  322,  110,    1,    0, 1204]])\n",
      "Epoch end: Train, epoch number: 0\n",
      "TrainEpoch/CM\n",
      " tensor([[ 664,    0,  931,    0,  875,   19,    0,    0,   17],\n",
      "        [  76, 2027,  230,    0,    8,  170,    1,    0,    0],\n",
      "        [ 326,    0,  657,    0, 1431,   77,    0,    0,    7],\n",
      "        [   0,    2,    1,    9,    0,    0, 1675,    3,  823],\n",
      "        [  35,    0,  584,    0, 1758,   18,   45,    2,   56],\n",
      "        [   0,    2,  185,    0,  473, 1855,    0,    0,    0],\n",
      "        [  10,   14,   22,    0,  176,    0, 1122,  960,  178],\n",
      "        [   3,   85,   54,    0,   95,    1, 1036, 1063,  173],\n",
      "        [ 154,    0,  725,    0,  322,  110,    1,    0, 1204]])\n"
     ]
    },
    {
     "name": "stderr",
     "output_type": "stream",
     "text": [
      "Metric Validation/Accuracy improved. New best score: 0.669\n"
     ]
    },
    {
     "data": {
      "application/vnd.jupyter.widget-view+json": {
       "model_id": "e5c16eff7aea4a35829e1568b9925764",
       "version_major": 2,
       "version_minor": 0
      },
      "text/plain": [
       "Validation: |          | 0/? [00:00<?, ?it/s]"
      ]
     },
     "metadata": {},
     "output_type": "display_data"
    },
    {
     "name": "stdout",
     "output_type": "stream",
     "text": [
      "Epoch end: Validation, epoch number: 2\n",
      "ValidationEpoch/CM\n",
      " tensor([[2479,    0, 1300,    0, 1012,   19,    0,    0,   96],\n",
      "        [  76, 4432,  230,    0,    8,  170,    1,    0,    0],\n",
      "        [1082,    0, 2049,    0, 1673,   79,    0,    0,   20],\n",
      "        [   0,    2,    1, 1481,    0,    0, 2586,   15,  823],\n",
      "        [  35,    0,  584,    0, 4148,   18,   45,    2,   66],\n",
      "        [   0,    3,  185,    0,  473, 4254,    0,    0,    0],\n",
      "        [  10,   14,   22,    0,  176,    0, 1880, 2557,  178],\n",
      "        [   3,   85,   54,    0,   95,    1, 1250, 3249,  173],\n",
      "        [ 307,    0,  729,    0,  324,  110,    1,    0, 3435]])\n"
     ]
    },
    {
     "name": "stderr",
     "output_type": "stream",
     "text": [
      "Metric Validation/Accuracy improved by 0.225 >= min_delta = 0.0. New best score: 0.894\n"
     ]
    },
    {
     "name": "stdout",
     "output_type": "stream",
     "text": [
      "Epoch end: Train, epoch number: 1\n",
      "TrainEpoch/CM\n",
      " tensor([[2479,    0, 1300,    0, 1012,   19,    0,    0,   96],\n",
      "        [  76, 4432,  230,    0,    8,  170,    1,    0,    0],\n",
      "        [1082,    0, 2049,    0, 1673,   79,    0,    0,   20],\n",
      "        [   0,    2,    1, 1481,    0,    0, 2586,   15,  823],\n",
      "        [  35,    0,  584,    0, 4148,   18,   45,    2,   66],\n",
      "        [   0,    3,  185,    0,  473, 4254,    0,    0,    0],\n",
      "        [  10,   14,   22,    0,  176,    0, 1880, 2557,  178],\n",
      "        [   3,   85,   54,    0,   95,    1, 1250, 3249,  173],\n",
      "        [ 307,    0,  729,    0,  324,  110,    1,    0, 3435]])\n"
     ]
    },
    {
     "data": {
      "application/vnd.jupyter.widget-view+json": {
       "model_id": "329ff884614c44018796793376badb07",
       "version_major": 2,
       "version_minor": 0
      },
      "text/plain": [
       "Validation: |          | 0/? [00:00<?, ?it/s]"
      ]
     },
     "metadata": {},
     "output_type": "display_data"
    },
    {
     "name": "stdout",
     "output_type": "stream",
     "text": [
      "Epoch end: Validation, epoch number: 3\n",
      "ValidationEpoch/CM\n",
      " tensor([[4415,    0, 1618,    0, 1020,   19,    0,    0,  234],\n",
      "        [  76, 6837,  230,    0,    8,  170,    1,    0,    0],\n",
      "        [1517,    0, 3988,    0, 1684,   79,    0,    0,   40],\n",
      "        [   0,    2,    1, 3861,    0,    0, 2601,   15,  823],\n",
      "        [  35,    0,  584,    0, 6539,   18,   45,    2,   75],\n",
      "        [   0,    3,  185,    0,  473, 6654,    0,    0,    0],\n",
      "        [  10,   14,   22,    0,  176,    0, 3169, 3623,  178],\n",
      "        [   3,   85,   54,    0,   95,    1, 1482, 5417,  173],\n",
      "        [ 389,    0,  730,    0,  324,  110,    1,    0, 5742]])\n"
     ]
    },
    {
     "name": "stderr",
     "output_type": "stream",
     "text": [
      "Metric Validation/Accuracy improved by 0.037 >= min_delta = 0.0. New best score: 0.931\n"
     ]
    },
    {
     "name": "stdout",
     "output_type": "stream",
     "text": [
      "Epoch end: Train, epoch number: 2\n",
      "TrainEpoch/CM\n",
      " tensor([[4415,    0, 1618,    0, 1020,   19,    0,    0,  234],\n",
      "        [  76, 6837,  230,    0,    8,  170,    1,    0,    0],\n",
      "        [1517,    0, 3988,    0, 1684,   79,    0,    0,   40],\n",
      "        [   0,    2,    1, 3861,    0,    0, 2601,   15,  823],\n",
      "        [  35,    0,  584,    0, 6539,   18,   45,    2,   75],\n",
      "        [   0,    3,  185,    0,  473, 6654,    0,    0,    0],\n",
      "        [  10,   14,   22,    0,  176,    0, 3169, 3623,  178],\n",
      "        [   3,   85,   54,    0,   95,    1, 1482, 5417,  173],\n",
      "        [ 389,    0,  730,    0,  324,  110,    1,    0, 5742]])\n"
     ]
    },
    {
     "data": {
      "application/vnd.jupyter.widget-view+json": {
       "model_id": "a41873199042490c8192ba0c60678566",
       "version_major": 2,
       "version_minor": 0
      },
      "text/plain": [
       "Validation: |          | 0/? [00:00<?, ?it/s]"
      ]
     },
     "metadata": {},
     "output_type": "display_data"
    },
    {
     "name": "stdout",
     "output_type": "stream",
     "text": [
      "Epoch end: Validation, epoch number: 4\n",
      "ValidationEpoch/CM\n",
      " tensor([[6607,    0, 1699,    0, 1020,   19,    0,    0,  361],\n",
      "        [  76, 9242,  230,    0,    8,  170,    1,    0,    0],\n",
      "        [1973,    0, 5911,    0, 1686,   79,    0,    0,   64],\n",
      "        [   0,    2,    1, 6256,    0,    0, 2601,   15,  823],\n",
      "        [  35,    0,  584,    0, 8932,   18,   45,    2,   82],\n",
      "        [   0,    3,  185,    0,  473, 9054,    0,    0,    0],\n",
      "        [  10,   14,   22,    0,  176,    0, 4964, 4183,  178],\n",
      "        [   3,   85,   54,    0,   95,    1, 1901, 7398,  173],\n",
      "        [ 473,    0,  730,    0,  324,  110,    1,    0, 8048]])\n",
      "Epoch end: Train, epoch number: 3\n",
      "TrainEpoch/CM\n",
      " tensor([[6607,    0, 1699,    0, 1020,   19,    0,    0,  361],\n",
      "        [  76, 9242,  230,    0,    8,  170,    1,    0,    0],\n",
      "        [1973,    0, 5911,    0, 1686,   79,    0,    0,   64],\n",
      "        [   0,    2,    1, 6256,    0,    0, 2601,   15,  823],\n",
      "        [  35,    0,  584,    0, 8932,   18,   45,    2,   82],\n",
      "        [   0,    3,  185,    0,  473, 9054,    0,    0,    0],\n",
      "        [  10,   14,   22,    0,  176,    0, 4964, 4183,  178],\n",
      "        [   3,   85,   54,    0,   95,    1, 1901, 7398,  173],\n",
      "        [ 473,    0,  730,    0,  324,  110,    1,    0, 8048]])\n"
     ]
    },
    {
     "data": {
      "application/vnd.jupyter.widget-view+json": {
       "model_id": "0250e14b2d2e4e7daa147a8ccd401bc5",
       "version_major": 2,
       "version_minor": 0
      },
      "text/plain": [
       "Validation: |          | 0/? [00:00<?, ?it/s]"
      ]
     },
     "metadata": {},
     "output_type": "display_data"
    },
    {
     "name": "stdout",
     "output_type": "stream",
     "text": [
      "Epoch end: Validation, epoch number: 5\n",
      "ValidationEpoch/CM\n",
      " tensor([[ 8844,     0,  1725,     0,  1020,    19,     0,     0,   498],\n",
      "        [   76, 11647,   230,     0,     8,   170,     1,     0,     0],\n",
      "        [ 2287,     0,  7978,     0,  1686,    79,     0,     0,    88],\n",
      "        [    0,     2,     1,  8651,     0,     0,  2601,    15,   823],\n",
      "        [   35,     0,   584,     0, 11327,    18,    45,     2,    87],\n",
      "        [    0,     3,   185,     0,   473, 11454,     0,     0,     0],\n",
      "        [   10,    14,    22,     0,   176,     0,  6798,  4704,   178],\n",
      "        [    3,    85,    54,     0,    95,     1,  2322,  9377,   173],\n",
      "        [  553,     0,   730,     0,   324,   110,     1,     0, 10358]])\n",
      "Epoch end: Train, epoch number: 4\n",
      "TrainEpoch/CM\n",
      " tensor([[ 8844,     0,  1725,     0,  1020,    19,     0,     0,   498],\n",
      "        [   76, 11647,   230,     0,     8,   170,     1,     0,     0],\n",
      "        [ 2287,     0,  7978,     0,  1686,    79,     0,     0,    88],\n",
      "        [    0,     2,     1,  8651,     0,     0,  2601,    15,   823],\n",
      "        [   35,     0,   584,     0, 11327,    18,    45,     2,    87],\n",
      "        [    0,     3,   185,     0,   473, 11454,     0,     0,     0],\n",
      "        [   10,    14,    22,     0,   176,     0,  6798,  4704,   178],\n",
      "        [    3,    85,    54,     0,    95,     1,  2322,  9377,   173],\n",
      "        [  553,     0,   730,     0,   324,   110,     1,     0, 10358]])\n"
     ]
    },
    {
     "data": {
      "application/vnd.jupyter.widget-view+json": {
       "model_id": "ab5cbbcf3cab497ea0cd6a1343d634e5",
       "version_major": 2,
       "version_minor": 0
      },
      "text/plain": [
       "Validation: |          | 0/? [00:00<?, ?it/s]"
      ]
     },
     "metadata": {},
     "output_type": "display_data"
    },
    {
     "name": "stdout",
     "output_type": "stream",
     "text": [
      "Epoch end: Validation, epoch number: 6\n",
      "ValidationEpoch/CM\n",
      " tensor([[11102,     0,  1739,     0,  1020,    19,     0,     0,   626],\n",
      "        [   76, 14052,   230,     0,     8,   170,     1,     0,     0],\n",
      "        [ 2569,     0, 10075,     0,  1686,    79,     0,     0,   114],\n",
      "        [    0,     2,     1, 11046,     0,     0,  2601,    15,   823],\n",
      "        [   35,     0,   584,     0, 13722,    18,    45,     2,    92],\n",
      "        [    0,     3,   185,     0,   473, 13854,     0,     0,     0],\n",
      "        [   10,    14,    22,     0,   176,     0,  8696,  5161,   178],\n",
      "        [    3,    85,    54,     0,    95,     1,  2786, 11313,   173],\n",
      "        [  636,     0,   730,     0,   324,   110,     1,     0, 12665]])\n",
      "Epoch end: Train, epoch number: 5\n",
      "TrainEpoch/CM\n",
      " tensor([[11102,     0,  1739,     0,  1020,    19,     0,     0,   626],\n",
      "        [   76, 14052,   230,     0,     8,   170,     1,     0,     0],\n",
      "        [ 2569,     0, 10075,     0,  1686,    79,     0,     0,   114],\n",
      "        [    0,     2,     1, 11046,     0,     0,  2601,    15,   823],\n",
      "        [   35,     0,   584,     0, 13722,    18,    45,     2,    92],\n",
      "        [    0,     3,   185,     0,   473, 13854,     0,     0,     0],\n",
      "        [   10,    14,    22,     0,   176,     0,  8696,  5161,   178],\n",
      "        [    3,    85,    54,     0,    95,     1,  2786, 11313,   173],\n",
      "        [  636,     0,   730,     0,   324,   110,     1,     0, 12665]])\n"
     ]
    },
    {
     "name": "stderr",
     "output_type": "stream",
     "text": [
      "Metric Validation/Accuracy improved by 0.004 >= min_delta = 0.0. New best score: 0.935\n"
     ]
    },
    {
     "data": {
      "application/vnd.jupyter.widget-view+json": {
       "model_id": "4eb2c4999ca34850ad4e5002fa1a76fe",
       "version_major": 2,
       "version_minor": 0
      },
      "text/plain": [
       "Validation: |          | 0/? [00:00<?, ?it/s]"
      ]
     },
     "metadata": {},
     "output_type": "display_data"
    },
    {
     "name": "stdout",
     "output_type": "stream",
     "text": [
      "Epoch end: Validation, epoch number: 7\n",
      "ValidationEpoch/CM\n",
      " tensor([[13361,     0,  1753,     0,  1020,    19,     0,     0,   753],\n",
      "        [   76, 16457,   230,     0,     8,   170,     1,     0,     0],\n",
      "        [ 2808,     0, 12216,     0,  1686,    79,     0,     0,   139],\n",
      "        [    0,     2,     1, 13441,     0,     0,  2601,    15,   823],\n",
      "        [   35,     0,   584,     0, 16117,    18,    45,     2,    97],\n",
      "        [    0,     3,   185,     0,   473, 16254,     0,     0,     0],\n",
      "        [   10,    14,    22,     0,   176,     0, 10584,  5628,   178],\n",
      "        [    3,    85,    54,     0,    95,     1,  3256, 13243,   173],\n",
      "        [  718,     0,   730,     0,   324,   110,     1,     0, 14973]])\n",
      "Epoch end: Train, epoch number: 6\n",
      "TrainEpoch/CM\n",
      " tensor([[13361,     0,  1753,     0,  1020,    19,     0,     0,   753],\n",
      "        [   76, 16457,   230,     0,     8,   170,     1,     0,     0],\n",
      "        [ 2808,     0, 12216,     0,  1686,    79,     0,     0,   139],\n",
      "        [    0,     2,     1, 13441,     0,     0,  2601,    15,   823],\n",
      "        [   35,     0,   584,     0, 16117,    18,    45,     2,    97],\n",
      "        [    0,     3,   185,     0,   473, 16254,     0,     0,     0],\n",
      "        [   10,    14,    22,     0,   176,     0, 10584,  5628,   178],\n",
      "        [    3,    85,    54,     0,    95,     1,  3256, 13243,   173],\n",
      "        [  718,     0,   730,     0,   324,   110,     1,     0, 14973]])\n"
     ]
    },
    {
     "data": {
      "application/vnd.jupyter.widget-view+json": {
       "model_id": "f1948ed9b7e04e88830b9f72f829874e",
       "version_major": 2,
       "version_minor": 0
      },
      "text/plain": [
       "Validation: |          | 0/? [00:00<?, ?it/s]"
      ]
     },
     "metadata": {},
     "output_type": "display_data"
    },
    {
     "name": "stdout",
     "output_type": "stream",
     "text": [
      "Epoch end: Validation, epoch number: 8\n",
      "ValidationEpoch/CM\n",
      " tensor([[15621,     0,  1763,     0,  1020,    19,     0,     0,   883],\n",
      "        [   76, 18862,   230,     0,     8,   170,     1,     0,     0],\n",
      "        [ 3040,     0, 14369,     0,  1686,    79,     0,     0,   159],\n",
      "        [    0,     2,     1, 15836,     0,     0,  2601,    15,   823],\n",
      "        [   35,     0,   584,     0, 18513,    18,    45,     2,   101],\n",
      "        [    0,     3,   185,     0,   473, 18654,     0,     0,     0],\n",
      "        [   10,    14,    22,     0,   176,     0, 12470,  6097,   178],\n",
      "        [    3,    85,    54,     0,    95,     1,  3735, 15164,   173],\n",
      "        [  801,     0,   730,     0,   324,   110,     1,     0, 17280]])\n",
      "Epoch end: Train, epoch number: 7\n",
      "TrainEpoch/CM\n",
      " tensor([[15621,     0,  1763,     0,  1020,    19,     0,     0,   883],\n",
      "        [   76, 18862,   230,     0,     8,   170,     1,     0,     0],\n",
      "        [ 3040,     0, 14369,     0,  1686,    79,     0,     0,   159],\n",
      "        [    0,     2,     1, 15836,     0,     0,  2601,    15,   823],\n",
      "        [   35,     0,   584,     0, 18513,    18,    45,     2,   101],\n",
      "        [    0,     3,   185,     0,   473, 18654,     0,     0,     0],\n",
      "        [   10,    14,    22,     0,   176,     0, 12470,  6097,   178],\n",
      "        [    3,    85,    54,     0,    95,     1,  3735, 15164,   173],\n",
      "        [  801,     0,   730,     0,   324,   110,     1,     0, 17280]])\n"
     ]
    },
    {
     "data": {
      "application/vnd.jupyter.widget-view+json": {
       "model_id": "0445be3bd3e448388cd9edb0fb2b9231",
       "version_major": 2,
       "version_minor": 0
      },
      "text/plain": [
       "Validation: |          | 0/? [00:00<?, ?it/s]"
      ]
     },
     "metadata": {},
     "output_type": "display_data"
    },
    {
     "name": "stdout",
     "output_type": "stream",
     "text": [
      "Epoch end: Validation, epoch number: 9\n",
      "ValidationEpoch/CM\n",
      " tensor([[17889,     0,  1773,     0,  1020,    19,     0,     0,  1005],\n",
      "        [   76, 21267,   230,     0,     8,   170,     1,     0,     0],\n",
      "        [ 3245,     0, 16547,     0,  1686,    79,     0,     0,   181],\n",
      "        [    0,     2,     1, 18231,     0,     0,  2601,    15,   823],\n",
      "        [   35,     0,   584,     0, 20910,    18,    45,     2,   104],\n",
      "        [    0,     3,   185,     0,   473, 21054,     0,     0,     0],\n",
      "        [   10,    14,    22,     0,   176,     0, 14416,  6506,   178],\n",
      "        [    3,    85,    54,     0,    95,     1,  4232, 17067,   173],\n",
      "        [  883,     0,   730,     0,   324,   110,     1,     0, 19588]])\n",
      "Epoch end: Train, epoch number: 8\n",
      "TrainEpoch/CM\n",
      " tensor([[17889,     0,  1773,     0,  1020,    19,     0,     0,  1005],\n",
      "        [   76, 21267,   230,     0,     8,   170,     1,     0,     0],\n",
      "        [ 3245,     0, 16547,     0,  1686,    79,     0,     0,   181],\n",
      "        [    0,     2,     1, 18231,     0,     0,  2601,    15,   823],\n",
      "        [   35,     0,   584,     0, 20910,    18,    45,     2,   104],\n",
      "        [    0,     3,   185,     0,   473, 21054,     0,     0,     0],\n",
      "        [   10,    14,    22,     0,   176,     0, 14416,  6506,   178],\n",
      "        [    3,    85,    54,     0,    95,     1,  4232, 17067,   173],\n",
      "        [  883,     0,   730,     0,   324,   110,     1,     0, 19588]])\n"
     ]
    },
    {
     "data": {
      "application/vnd.jupyter.widget-view+json": {
       "model_id": "e3fae97891e549ceb872d7f6d02b0c47",
       "version_major": 2,
       "version_minor": 0
      },
      "text/plain": [
       "Validation: |          | 0/? [00:00<?, ?it/s]"
      ]
     },
     "metadata": {},
     "output_type": "display_data"
    },
    {
     "name": "stdout",
     "output_type": "stream",
     "text": [
      "Epoch end: Validation, epoch number: 10\n",
      "ValidationEpoch/CM\n",
      " tensor([[20156,     0,  1783,     0,  1020,    19,     0,     0,  1128],\n",
      "        [   76, 23672,   230,     0,     8,   170,     1,     0,     0],\n",
      "        [ 3442,     0, 18730,     0,  1686,    79,     0,     0,   206],\n",
      "        [    0,     2,     1, 20626,     0,     0,  2601,    15,   823],\n",
      "        [   35,     0,   584,     0, 23310,    18,    45,     2,   104],\n",
      "        [    0,     3,   185,     0,   473, 23454,     0,     0,     0],\n",
      "        [   10,    14,    22,     0,   176,     0, 16349,  6928,   178],\n",
      "        [    3,    85,    54,     0,    95,     1,  4712, 18987,   173],\n",
      "        [  966,     0,   730,     0,   324,   110,     1,     0, 21895]])\n",
      "Epoch end: Train, epoch number: 9\n",
      "TrainEpoch/CM\n",
      " tensor([[20156,     0,  1783,     0,  1020,    19,     0,     0,  1128],\n",
      "        [   76, 23672,   230,     0,     8,   170,     1,     0,     0],\n",
      "        [ 3442,     0, 18730,     0,  1686,    79,     0,     0,   206],\n",
      "        [    0,     2,     1, 20626,     0,     0,  2601,    15,   823],\n",
      "        [   35,     0,   584,     0, 23310,    18,    45,     2,   104],\n",
      "        [    0,     3,   185,     0,   473, 23454,     0,     0,     0],\n",
      "        [   10,    14,    22,     0,   176,     0, 16349,  6928,   178],\n",
      "        [    3,    85,    54,     0,    95,     1,  4712, 18987,   173],\n",
      "        [  966,     0,   730,     0,   324,   110,     1,     0, 21895]])\n"
     ]
    },
    {
     "name": "stderr",
     "output_type": "stream",
     "text": [
      "Metric Validation/Accuracy improved by 0.002 >= min_delta = 0.0. New best score: 0.937\n"
     ]
    },
    {
     "data": {
      "application/vnd.jupyter.widget-view+json": {
       "model_id": "8e9aa4bff24f4d699e63154948fda68c",
       "version_major": 2,
       "version_minor": 0
      },
      "text/plain": [
       "Validation: |          | 0/? [00:00<?, ?it/s]"
      ]
     },
     "metadata": {},
     "output_type": "display_data"
    },
    {
     "name": "stdout",
     "output_type": "stream",
     "text": [
      "Epoch end: Validation, epoch number: 11\n",
      "ValidationEpoch/CM\n",
      " tensor([[22422,     0,  1793,     0,  1020,    19,     0,     0,  1252],\n",
      "        [   76, 26077,   230,     0,     8,   170,     1,     0,     0],\n",
      "        [ 3610,     0, 20943,     0,  1686,    79,     0,     0,   230],\n",
      "        [    0,     2,     1, 23021,     0,     0,  2601,    15,   823],\n",
      "        [   35,     0,   584,     0, 25709,    18,    45,     2,   105],\n",
      "        [    0,     3,   185,     0,   473, 25854,     0,     0,     0],\n",
      "        [   10,    14,    22,     0,   176,     0, 18312,  7320,   178],\n",
      "        [    3,    85,    54,     0,    95,     1,  5213, 20886,   173],\n",
      "        [ 1048,     0,   730,     0,   324,   110,     1,     0, 24203]])\n",
      "Epoch end: Train, epoch number: 10\n",
      "TrainEpoch/CM\n",
      " tensor([[22422,     0,  1793,     0,  1020,    19,     0,     0,  1252],\n",
      "        [   76, 26077,   230,     0,     8,   170,     1,     0,     0],\n",
      "        [ 3610,     0, 20943,     0,  1686,    79,     0,     0,   230],\n",
      "        [    0,     2,     1, 23021,     0,     0,  2601,    15,   823],\n",
      "        [   35,     0,   584,     0, 25709,    18,    45,     2,   105],\n",
      "        [    0,     3,   185,     0,   473, 25854,     0,     0,     0],\n",
      "        [   10,    14,    22,     0,   176,     0, 18312,  7320,   178],\n",
      "        [    3,    85,    54,     0,    95,     1,  5213, 20886,   173],\n",
      "        [ 1048,     0,   730,     0,   324,   110,     1,     0, 24203]])\n"
     ]
    },
    {
     "data": {
      "application/vnd.jupyter.widget-view+json": {
       "model_id": "299702bf671d4cfa91f49ad94a8b22f4",
       "version_major": 2,
       "version_minor": 0
      },
      "text/plain": [
       "Validation: |          | 0/? [00:00<?, ?it/s]"
      ]
     },
     "metadata": {},
     "output_type": "display_data"
    },
    {
     "name": "stdout",
     "output_type": "stream",
     "text": [
      "Epoch end: Validation, epoch number: 12\n",
      "ValidationEpoch/CM\n",
      " tensor([[24692,     0,  1803,     0,  1020,    19,     0,     0,  1372],\n",
      "        [   76, 28482,   230,     0,     8,   170,     1,     0,     0],\n",
      "        [ 3763,     0, 23173,     0,  1686,    79,     0,     0,   252],\n",
      "        [    0,     2,     1, 25416,     0,     0,  2601,    15,   823],\n",
      "        [   35,     0,   584,     0, 28109,    18,    45,     2,   105],\n",
      "        [    0,     3,   185,     0,   473, 28254,     0,     0,     0],\n",
      "        [   10,    14,    22,     0,   176,     0, 20272,  7715,   178],\n",
      "        [    3,    85,    54,     0,    95,     1,  5685, 22814,   173],\n",
      "        [ 1132,     0,   730,     0,   324,   110,     1,     0, 26509]])\n",
      "Epoch end: Train, epoch number: 11\n",
      "TrainEpoch/CM\n",
      " tensor([[24692,     0,  1803,     0,  1020,    19,     0,     0,  1372],\n",
      "        [   76, 28482,   230,     0,     8,   170,     1,     0,     0],\n",
      "        [ 3763,     0, 23173,     0,  1686,    79,     0,     0,   252],\n",
      "        [    0,     2,     1, 25416,     0,     0,  2601,    15,   823],\n",
      "        [   35,     0,   584,     0, 28109,    18,    45,     2,   105],\n",
      "        [    0,     3,   185,     0,   473, 28254,     0,     0,     0],\n",
      "        [   10,    14,    22,     0,   176,     0, 20272,  7715,   178],\n",
      "        [    3,    85,    54,     0,    95,     1,  5685, 22814,   173],\n",
      "        [ 1132,     0,   730,     0,   324,   110,     1,     0, 26509]])\n"
     ]
    },
    {
     "name": "stderr",
     "output_type": "stream",
     "text": [
      "Metric Validation/Accuracy improved by 0.000 >= min_delta = 0.0. New best score: 0.938\n"
     ]
    },
    {
     "data": {
      "application/vnd.jupyter.widget-view+json": {
       "model_id": "43969e2eb52d4052bdf3ecaa4c246737",
       "version_major": 2,
       "version_minor": 0
      },
      "text/plain": [
       "Validation: |          | 0/? [00:00<?, ?it/s]"
      ]
     },
     "metadata": {},
     "output_type": "display_data"
    },
    {
     "name": "stdout",
     "output_type": "stream",
     "text": [
      "Epoch end: Validation, epoch number: 13\n",
      "ValidationEpoch/CM\n",
      " tensor([[26962,     0,  1813,     0,  1020,    19,     0,     0,  1492],\n",
      "        [   76, 30887,   230,     0,     8,   170,     1,     0,     0],\n",
      "        [ 3899,     0, 25420,     0,  1686,    79,     0,     0,   274],\n",
      "        [    0,     2,     1, 27811,     0,     0,  2601,    15,   823],\n",
      "        [   35,     0,   584,     0, 30509,    18,    45,     2,   105],\n",
      "        [    0,     3,   185,     0,   473, 30654,     0,     0,     0],\n",
      "        [   10,    14,    22,     0,   176,     0, 22273,  8069,   178],\n",
      "        [    3,    85,    54,     0,    95,     1,  6172, 24727,   173],\n",
      "        [ 1215,     0,   730,     0,   324,   110,     1,     0, 28816]])\n",
      "Epoch end: Train, epoch number: 12\n",
      "TrainEpoch/CM\n",
      " tensor([[26962,     0,  1813,     0,  1020,    19,     0,     0,  1492],\n",
      "        [   76, 30887,   230,     0,     8,   170,     1,     0,     0],\n",
      "        [ 3899,     0, 25420,     0,  1686,    79,     0,     0,   274],\n",
      "        [    0,     2,     1, 27811,     0,     0,  2601,    15,   823],\n",
      "        [   35,     0,   584,     0, 30509,    18,    45,     2,   105],\n",
      "        [    0,     3,   185,     0,   473, 30654,     0,     0,     0],\n",
      "        [   10,    14,    22,     0,   176,     0, 22273,  8069,   178],\n",
      "        [    3,    85,    54,     0,    95,     1,  6172, 24727,   173],\n",
      "        [ 1215,     0,   730,     0,   324,   110,     1,     0, 28816]])\n"
     ]
    },
    {
     "name": "stderr",
     "output_type": "stream",
     "text": [
      "Metric Validation/Accuracy improved by 0.006 >= min_delta = 0.0. New best score: 0.944\n"
     ]
    },
    {
     "data": {
      "application/vnd.jupyter.widget-view+json": {
       "model_id": "2f2c052b8a8d4a9ea6d1ef5749abd03b",
       "version_major": 2,
       "version_minor": 0
      },
      "text/plain": [
       "Validation: |          | 0/? [00:00<?, ?it/s]"
      ]
     },
     "metadata": {},
     "output_type": "display_data"
    },
    {
     "name": "stdout",
     "output_type": "stream",
     "text": [
      "Epoch end: Validation, epoch number: 14\n",
      "ValidationEpoch/CM\n",
      " tensor([[29233,     0,  1823,     0,  1020,    19,     0,     0,  1611],\n",
      "        [   76, 33292,   230,     0,     8,   170,     1,     0,     0],\n",
      "        [ 4024,     0, 27682,     0,  1686,    79,     0,     0,   292],\n",
      "        [    0,     2,     1, 30206,     0,     0,  2601,    15,   823],\n",
      "        [   35,     0,   584,     0, 32909,    18,    45,     2,   105],\n",
      "        [    0,     3,   185,     0,   473, 33054,     0,     0,     0],\n",
      "        [   10,    14,    22,     0,   176,     0, 24282,  8415,   178],\n",
      "        [    3,    85,    54,     0,    95,     1,  6655, 26644,   173],\n",
      "        [ 1295,     0,   730,     0,   324,   110,     1,     0, 31126]])\n",
      "Epoch end: Train, epoch number: 13\n",
      "TrainEpoch/CM\n",
      " tensor([[29233,     0,  1823,     0,  1020,    19,     0,     0,  1611],\n",
      "        [   76, 33292,   230,     0,     8,   170,     1,     0,     0],\n",
      "        [ 4024,     0, 27682,     0,  1686,    79,     0,     0,   292],\n",
      "        [    0,     2,     1, 30206,     0,     0,  2601,    15,   823],\n",
      "        [   35,     0,   584,     0, 32909,    18,    45,     2,   105],\n",
      "        [    0,     3,   185,     0,   473, 33054,     0,     0,     0],\n",
      "        [   10,    14,    22,     0,   176,     0, 24282,  8415,   178],\n",
      "        [    3,    85,    54,     0,    95,     1,  6655, 26644,   173],\n",
      "        [ 1295,     0,   730,     0,   324,   110,     1,     0, 31126]])\n"
     ]
    },
    {
     "name": "stderr",
     "output_type": "stream",
     "text": [
      "Metric Validation/Accuracy improved by 0.003 >= min_delta = 0.0. New best score: 0.947\n"
     ]
    },
    {
     "data": {
      "application/vnd.jupyter.widget-view+json": {
       "model_id": "beb22148ff9b43dea8a2cbb8fd5e18c5",
       "version_major": 2,
       "version_minor": 0
      },
      "text/plain": [
       "Validation: |          | 0/? [00:00<?, ?it/s]"
      ]
     },
     "metadata": {},
     "output_type": "display_data"
    },
    {
     "name": "stdout",
     "output_type": "stream",
     "text": [
      "Epoch end: Validation, epoch number: 15\n",
      "ValidationEpoch/CM\n",
      " tensor([[31507,     0,  1833,     0,  1020,    19,     0,     0,  1727],\n",
      "        [   76, 35697,   230,     0,     8,   170,     1,     0,     0],\n",
      "        [ 4152,     0, 29941,     0,  1686,    79,     0,     0,   310],\n",
      "        [    0,     2,     1, 32601,     0,     0,  2601,    15,   823],\n",
      "        [   35,     0,   584,     0, 35309,    18,    45,     2,   105],\n",
      "        [    0,     3,   185,     0,   473, 35454,     0,     0,     0],\n",
      "        [   10,    14,    22,     0,   176,     0, 26291,  8761,   178],\n",
      "        [    3,    85,    54,     0,    95,     1,  7133, 28566,   173],\n",
      "        [ 1378,     0,   730,     0,   324,   110,     1,     0, 33433]])\n",
      "Epoch end: Train, epoch number: 14\n",
      "TrainEpoch/CM\n",
      " tensor([[31507,     0,  1833,     0,  1020,    19,     0,     0,  1727],\n",
      "        [   76, 35697,   230,     0,     8,   170,     1,     0,     0],\n",
      "        [ 4152,     0, 29941,     0,  1686,    79,     0,     0,   310],\n",
      "        [    0,     2,     1, 32601,     0,     0,  2601,    15,   823],\n",
      "        [   35,     0,   584,     0, 35309,    18,    45,     2,   105],\n",
      "        [    0,     3,   185,     0,   473, 35454,     0,     0,     0],\n",
      "        [   10,    14,    22,     0,   176,     0, 26291,  8761,   178],\n",
      "        [    3,    85,    54,     0,    95,     1,  7133, 28566,   173],\n",
      "        [ 1378,     0,   730,     0,   324,   110,     1,     0, 33433]])\n"
     ]
    },
    {
     "data": {
      "application/vnd.jupyter.widget-view+json": {
       "model_id": "f401f5c49d7046abb4075a3a9c77532a",
       "version_major": 2,
       "version_minor": 0
      },
      "text/plain": [
       "Validation: |          | 0/? [00:00<?, ?it/s]"
      ]
     },
     "metadata": {},
     "output_type": "display_data"
    },
    {
     "name": "stdout",
     "output_type": "stream",
     "text": [
      "Epoch end: Validation, epoch number: 16\n",
      "ValidationEpoch/CM\n",
      " tensor([[33783,     0,  1843,     0,  1020,    19,     0,     0,  1841],\n",
      "        [   76, 38102,   230,     0,     8,   170,     1,     0,     0],\n",
      "        [ 4271,     0, 32209,     0,  1686,    79,     0,     0,   328],\n",
      "        [    0,     2,     1, 34996,     0,     0,  2601,    15,   823],\n",
      "        [   35,     0,   584,     0, 37709,    18,    45,     2,   105],\n",
      "        [    0,     3,   185,     0,   473, 37854,     0,     0,     0],\n",
      "        [   10,    14,    22,     0,   176,     0, 28311,  9096,   178],\n",
      "        [    3,    85,    54,     0,    95,     1,  7610, 30489,   173],\n",
      "        [ 1459,     0,   730,     0,   324,   110,     1,     0, 35742]])\n",
      "Epoch end: Train, epoch number: 15\n",
      "TrainEpoch/CM\n",
      " tensor([[33783,     0,  1843,     0,  1020,    19,     0,     0,  1841],\n",
      "        [   76, 38102,   230,     0,     8,   170,     1,     0,     0],\n",
      "        [ 4271,     0, 32209,     0,  1686,    79,     0,     0,   328],\n",
      "        [    0,     2,     1, 34996,     0,     0,  2601,    15,   823],\n",
      "        [   35,     0,   584,     0, 37709,    18,    45,     2,   105],\n",
      "        [    0,     3,   185,     0,   473, 37854,     0,     0,     0],\n",
      "        [   10,    14,    22,     0,   176,     0, 28311,  9096,   178],\n",
      "        [    3,    85,    54,     0,    95,     1,  7610, 30489,   173],\n",
      "        [ 1459,     0,   730,     0,   324,   110,     1,     0, 35742]])\n"
     ]
    },
    {
     "data": {
      "application/vnd.jupyter.widget-view+json": {
       "model_id": "2e038a9ae7ee469eb54ece55edf42ba3",
       "version_major": 2,
       "version_minor": 0
      },
      "text/plain": [
       "Validation: |          | 0/? [00:00<?, ?it/s]"
      ]
     },
     "metadata": {},
     "output_type": "display_data"
    },
    {
     "name": "stdout",
     "output_type": "stream",
     "text": [
      "Epoch end: Validation, epoch number: 17\n",
      "ValidationEpoch/CM\n",
      " tensor([[36064,     0,  1853,     0,  1020,    19,     0,     0,  1950],\n",
      "        [   76, 40507,   230,     0,     8,   170,     1,     0,     0],\n",
      "        [ 4405,     0, 34467,     0,  1686,    79,     0,     0,   341],\n",
      "        [    0,     2,     1, 37391,     0,     0,  2601,    15,   823],\n",
      "        [   35,     0,   584,     0, 40109,    18,    45,     2,   105],\n",
      "        [    0,     3,   185,     0,   473, 40254,     0,     0,     0],\n",
      "        [   10,    14,    22,     0,   176,     0, 30333,  9429,   178],\n",
      "        [    3,    85,    54,     0,    95,     1,  8098, 32401,   173],\n",
      "        [ 1544,     0,   730,     0,   324,   110,     1,     0, 38047]])\n",
      "Epoch end: Train, epoch number: 16\n",
      "TrainEpoch/CM\n",
      " tensor([[36064,     0,  1853,     0,  1020,    19,     0,     0,  1950],\n",
      "        [   76, 40507,   230,     0,     8,   170,     1,     0,     0],\n",
      "        [ 4405,     0, 34467,     0,  1686,    79,     0,     0,   341],\n",
      "        [    0,     2,     1, 37391,     0,     0,  2601,    15,   823],\n",
      "        [   35,     0,   584,     0, 40109,    18,    45,     2,   105],\n",
      "        [    0,     3,   185,     0,   473, 40254,     0,     0,     0],\n",
      "        [   10,    14,    22,     0,   176,     0, 30333,  9429,   178],\n",
      "        [    3,    85,    54,     0,    95,     1,  8098, 32401,   173],\n",
      "        [ 1544,     0,   730,     0,   324,   110,     1,     0, 38047]])\n"
     ]
    },
    {
     "data": {
      "application/vnd.jupyter.widget-view+json": {
       "model_id": "d92107b5a65c421a8964bf1ee3fdd061",
       "version_major": 2,
       "version_minor": 0
      },
      "text/plain": [
       "Validation: |          | 0/? [00:00<?, ?it/s]"
      ]
     },
     "metadata": {},
     "output_type": "display_data"
    },
    {
     "name": "stdout",
     "output_type": "stream",
     "text": [
      "Epoch end: Validation, epoch number: 18\n",
      "ValidationEpoch/CM\n",
      " tensor([[38353,     0,  1863,     0,  1020,    19,     0,     0,  2051],\n",
      "        [   76, 42912,   230,     0,     8,   170,     1,     0,     0],\n",
      "        [ 4533,     0, 36732,     0,  1686,    79,     0,     0,   353],\n",
      "        [    0,     2,     1, 39786,     0,     0,  2601,    15,   823],\n",
      "        [   35,     0,   584,     0, 42509,    18,    45,     2,   105],\n",
      "        [    0,     3,   185,     0,   473, 42654,     0,     0,     0],\n",
      "        [   10,    14,    22,     0,   176,     0, 32364,  9753,   178],\n",
      "        [    3,    85,    54,     0,    95,     1,  8554, 34345,   173],\n",
      "        [ 1629,     0,   730,     0,   324,   110,     1,     0, 40352]])\n",
      "Epoch end: Train, epoch number: 17\n",
      "TrainEpoch/CM\n",
      " tensor([[38353,     0,  1863,     0,  1020,    19,     0,     0,  2051],\n",
      "        [   76, 42912,   230,     0,     8,   170,     1,     0,     0],\n",
      "        [ 4533,     0, 36732,     0,  1686,    79,     0,     0,   353],\n",
      "        [    0,     2,     1, 39786,     0,     0,  2601,    15,   823],\n",
      "        [   35,     0,   584,     0, 42509,    18,    45,     2,   105],\n",
      "        [    0,     3,   185,     0,   473, 42654,     0,     0,     0],\n",
      "        [   10,    14,    22,     0,   176,     0, 32364,  9753,   178],\n",
      "        [    3,    85,    54,     0,    95,     1,  8554, 34345,   173],\n",
      "        [ 1629,     0,   730,     0,   324,   110,     1,     0, 40352]])\n"
     ]
    },
    {
     "data": {
      "application/vnd.jupyter.widget-view+json": {
       "model_id": "61fd888fa1fe471891d915916006f312",
       "version_major": 2,
       "version_minor": 0
      },
      "text/plain": [
       "Validation: |          | 0/? [00:00<?, ?it/s]"
      ]
     },
     "metadata": {},
     "output_type": "display_data"
    },
    {
     "name": "stdout",
     "output_type": "stream",
     "text": [
      "Epoch end: Validation, epoch number: 19\n",
      "ValidationEpoch/CM\n",
      " tensor([[40636,     0,  1873,     0,  1020,    19,     0,     0,  2158],\n",
      "        [   76, 45317,   230,     0,     8,   170,     1,     0,     0],\n",
      "        [ 4641,     0, 39019,     0,  1686,    79,     0,     0,   363],\n",
      "        [    0,     2,     1, 42181,     0,     0,  2601,    15,   823],\n",
      "        [   35,     0,   584,     0, 44909,    18,    45,     2,   105],\n",
      "        [    0,     3,   185,     0,   473, 45054,     0,     0,     0],\n",
      "        [   10,    14,    22,     0,   176,     0, 34380, 10092,   178],\n",
      "        [    3,    85,    54,     0,    95,     1,  9005, 36294,   173],\n",
      "        [ 1714,     0,   730,     0,   324,   110,     1,     0, 42657]])\n"
     ]
    },
    {
     "name": "stderr",
     "output_type": "stream",
     "text": [
      "Monitored metric Validation/Accuracy did not improve in the last 5 records. Best score: 0.947. Signaling Trainer to stop.\n"
     ]
    },
    {
     "name": "stdout",
     "output_type": "stream",
     "text": [
      "Epoch end: Train, epoch number: 18\n",
      "TrainEpoch/CM\n",
      " tensor([[40636,     0,  1873,     0,  1020,    19,     0,     0,  2158],\n",
      "        [   76, 45317,   230,     0,     8,   170,     1,     0,     0],\n",
      "        [ 4641,     0, 39019,     0,  1686,    79,     0,     0,   363],\n",
      "        [    0,     2,     1, 42181,     0,     0,  2601,    15,   823],\n",
      "        [   35,     0,   584,     0, 44909,    18,    45,     2,   105],\n",
      "        [    0,     3,   185,     0,   473, 45054,     0,     0,     0],\n",
      "        [   10,    14,    22,     0,   176,     0, 34380, 10092,   178],\n",
      "        [    3,    85,    54,     0,    95,     1,  9005, 36294,   173],\n",
      "        [ 1714,     0,   730,     0,   324,   110,     1,     0, 42657]])\n"
     ]
    }
   ],
   "source": [
    "trainer.fit(model=model, train_dataloaders=train_dataloader, val_dataloaders=val_dataloader)"
   ]
  },
  {
   "cell_type": "code",
   "execution_count": 60,
   "metadata": {},
   "outputs": [
    {
     "name": "stderr",
     "output_type": "stream",
     "text": [
      "LOCAL_RANK: 0 - CUDA_VISIBLE_DEVICES: [0]\n"
     ]
    },
    {
     "name": "stdout",
     "output_type": "stream",
     "text": [
      "/home/<User>/repos/csg_is/training/official_logs/single-layer_30_from_rp4_weights_30s_Xi_sensor_1_rp3/version_0/checkpoints/epoch=13-step=490.ckpt\n",
      "tensor(0.9466, device='cuda:0')\n"
     ]
    },
    {
     "data": {
      "application/vnd.jupyter.widget-view+json": {
       "model_id": "c3b09de455ca44bd9d19af1e75c83914",
       "version_major": 2,
       "version_minor": 0
      },
      "text/plain": [
       "Testing: |          | 0/? [00:00<?, ?it/s]"
      ]
     },
     "metadata": {},
     "output_type": "display_data"
    },
    {
     "name": "stdout",
     "output_type": "stream",
     "text": [
      "Epoch end: Test, epoch number: 0\n",
      "TestEpoch/CM\n",
      " tensor([[452,   0,   4,   0,   0,   0,   0,   0,  24],\n",
      "        [  0, 474,   0,   0,   0,   0,   0,   0,   0],\n",
      "        [ 18,   0, 460,   0,   0,   0,   0,   0,   1],\n",
      "        [  0,   0,   0, 462,   0,   0,   0,   0,   0],\n",
      "        [  0,   0,   0,   0, 485,   0,   0,   0,   0],\n",
      "        [  0,   0,   0,   0,   0, 478,   0,   0,   0],\n",
      "        [  0,   0,   0,   0,   0,   0, 415,  67,   0],\n",
      "        [  0,   0,   0,   0,   0,   0,  97, 388,   0],\n",
      "        [ 22,   0,   0,   0,   0,   0,   0,   0, 463]])\n",
      "────────────────────────────────────────────────────────────────────────────────────────────────────────────────────────\n",
      "       Test metric             DataLoader 0\n",
      "────────────────────────────────────────────────────────────────────────────────────────────────────────────────────────\n",
      "      Test/Accuracy         0.9466128349304199\n",
      "      Test/F1Score          0.9464346170425415\n",
      "        Test/Loss            0.304229736328125\n",
      "     Test/Precision         0.9474481344223022\n",
      "       Test/Recall          0.9466128349304199\n",
      "   TestEpoch/Accuracy        0.946403980255127\n",
      "    TestEpoch/F1Score       0.9464320540428162\n",
      "   TestEpoch/Precision      0.9469047784805298\n",
      "    TestEpoch/Recall         0.946403980255127\n",
      "────────────────────────────────────────────────────────────────────────────────────────────────────────────────────────\n"
     ]
    },
    {
     "data": {
      "text/plain": [
       "[{'Test/Loss': 0.304229736328125,\n",
       "  'Test/Accuracy': 0.9466128349304199,\n",
       "  'Test/Precision': 0.9474481344223022,\n",
       "  'Test/Recall': 0.9466128349304199,\n",
       "  'Test/F1Score': 0.9464346170425415,\n",
       "  'TestEpoch/Accuracy': 0.946403980255127,\n",
       "  'TestEpoch/Precision': 0.9469047784805298,\n",
       "  'TestEpoch/Recall': 0.946403980255127,\n",
       "  'TestEpoch/F1Score': 0.9464320540428162}]"
      ]
     },
     "execution_count": 60,
     "metadata": {},
     "output_type": "execute_result"
    }
   ],
   "source": [
    "print(checkpoint_callback.best_model_path)   # prints path to the best model's checkpoint\n",
    "print(checkpoint_callback.best_model_score) # and prints it score\n",
    "best_model = MalwaresModelLinearLayer.load_from_checkpoint(checkpoint_callback.best_model_path, input_size = subset.shape[1]-1, output_size = len(label_encoder.classes_))\n",
    "\n",
    "trainer.test(best_model, dataloaders=val_dataloader)"
   ]
  },
  {
   "cell_type": "code",
   "execution_count": 61,
   "metadata": {},
   "outputs": [],
   "source": [
    "sys.path.append(str(repo_base_path  / \"training\"))"
   ]
  },
  {
   "cell_type": "code",
   "execution_count": 62,
   "metadata": {},
   "outputs": [
    {
     "name": "stderr",
     "output_type": "stream",
     "text": [
      "GPU available: True (cuda), used: True\n",
      "TPU available: False, using: 0 TPU cores\n",
      "IPU available: False, using: 0 IPUs\n",
      "HPU available: False, using: 0 HPUs\n"
     ]
    }
   ],
   "source": [
    "# tensorboard = pl_loggers.TensorBoardLogger('./')\n",
    "\n",
    "from mlp import MalwaresModelMLP\n",
    "\n",
    "# split into train and val\n",
    "train, val = train_test_split(subset, test_size=0.2, random_state=SEED)\n",
    "\n",
    "train_dataset = CustomeDataset(train)\n",
    "train_dataloader = DataLoader(train_dataset, batch_size=500, shuffle=True, num_workers=7)\n",
    "\n",
    "val_dataset = CustomeDataset(val)\n",
    "val_dataloader = DataLoader(val_dataset, batch_size=500, shuffle=False, num_workers=7)\n",
    "\n",
    "# trainer = lightning.Trainer(fast_dev_run=100)\n",
    "monitor = \"Validation/Accuracy\"\n",
    "early_stop_callback = EarlyStopping(monitor=monitor, patience=5, verbose=True, mode=\"max\")\n",
    "checkpoint_callback = ModelCheckpoint(save_top_k=1, monitor=monitor, mode=\"max\")\n",
    "\n",
    "tensorboard = pl_loggers.TensorBoardLogger(save_dir=LOG_PATH, name=LOG_NAME_EXPERIMENT_3)\n",
    "trainer = lightning.Trainer(max_epochs=150, callbacks=[early_stop_callback, checkpoint_callback], enable_checkpointing=True, logger=tensorboard) #logger=None, \n",
    "\n",
    "\n",
    "model = MalwaresModelMLP(input_size = subset.shape[1]-1, output_size = len(label_encoder.classes_), seed=SEED)\n",
    "\n",
    "torch.manual_seed(SEED)\n",
    "torch.cuda.manual_seed_all(SEED)\n"
   ]
  },
  {
   "cell_type": "code",
   "execution_count": 63,
   "metadata": {},
   "outputs": [
    {
     "name": "stderr",
     "output_type": "stream",
     "text": [
      "LOCAL_RANK: 0 - CUDA_VISIBLE_DEVICES: [0]\n",
      "\n",
      "  | Name          | Type                      | Params\n",
      "------------------------------------------------------------\n",
      "0 | train_metrics | MetricCollection          | 0     \n",
      "1 | val_metrics   | MetricCollection          | 0     \n",
      "2 | test_metrics  | MetricCollection          | 0     \n",
      "3 | cm            | MulticlassConfusionMatrix | 0     \n",
      "4 | criterion     | CrossEntropyLoss          | 0     \n",
      "5 | l1            | Linear                    | 960   \n",
      "6 | l2            | Linear                    | 930   \n",
      "7 | l3            | Linear                    | 279   \n",
      "------------------------------------------------------------\n",
      "2.2 K     Trainable params\n",
      "0         Non-trainable params\n",
      "2.2 K     Total params\n",
      "0.009     Total estimated model params size (MB)\n"
     ]
    },
    {
     "data": {
      "application/vnd.jupyter.widget-view+json": {
       "model_id": "a6617ef67778466b9aa8d98f0497569f",
       "version_major": 2,
       "version_minor": 0
      },
      "text/plain": [
       "Sanity Checking: |          | 0/? [00:00<?, ?it/s]"
      ]
     },
     "metadata": {},
     "output_type": "display_data"
    },
    {
     "name": "stdout",
     "output_type": "stream",
     "text": [
      "Epoch end: Validation, epoch number: 0\n",
      "ValidationEpoch/CM\n",
      " tensor([[  0,   0, 106,   0,   0,   0,   0,   0,   0],\n",
      "        [  0,   0,  96,   0,   0,   0,  11,   0,   0],\n",
      "        [  0,   0,  91,   0,   0,   0,   2,   0,   0],\n",
      "        [  0,   0, 118,   0,   0,   0,   0,   0,   0],\n",
      "        [  0,   0,  98,   0,   0,   0,   0,   0,   0],\n",
      "        [  0,   0, 106,   0,   0,   0,   9,   0,   0],\n",
      "        [  0,   0,  80,   0,   0,   0,  47,   0,   0],\n",
      "        [  0,   0,  92,   0,   0,   0,  18,   0,   0],\n",
      "        [  0,   0, 126,   0,   0,   0,   0,   0,   0]])\n"
     ]
    },
    {
     "name": "stderr",
     "output_type": "stream",
     "text": [
      "/home/<User>/repos/csg_is/.venv/lib/python3.10/site-packages/lightning/pytorch/loops/fit_loop.py:298: The number of training batches (35) is smaller than the logging interval Trainer(log_every_n_steps=50). Set a lower value for log_every_n_steps if you want to see logs for the training epoch.\n"
     ]
    },
    {
     "data": {
      "application/vnd.jupyter.widget-view+json": {
       "model_id": "958731a2fa2a42e4b41f8213e8d5330d",
       "version_major": 2,
       "version_minor": 0
      },
      "text/plain": [
       "Training: |          | 0/? [00:00<?, ?it/s]"
      ]
     },
     "metadata": {},
     "output_type": "display_data"
    },
    {
     "data": {
      "application/vnd.jupyter.widget-view+json": {
       "model_id": "3276c73d6b894729a70301f5c725876c",
       "version_major": 2,
       "version_minor": 0
      },
      "text/plain": [
       "Validation: |          | 0/? [00:00<?, ?it/s]"
      ]
     },
     "metadata": {},
     "output_type": "display_data"
    },
    {
     "name": "stdout",
     "output_type": "stream",
     "text": [
      "Epoch end: Validation, epoch number: 1\n",
      "ValidationEpoch/CM\n",
      " tensor([[ 313,    0,  911,    0, 1178,    0,    0,    0,  104],\n",
      "        [   0, 2229,  210,    0,    0,    0,   73,    0,    0],\n",
      "        [ 157,    0, 1012,    0, 1233,    6,    4,    0,   86],\n",
      "        [   0,    0,  340, 1234,    0,    0,  426,  513,    0],\n",
      "        [  26,    0,  671,    0, 1799,    0,    0,    0,    2],\n",
      "        [   0,  178,  270,    0,  322, 1631,  110,    0,    4],\n",
      "        [   0,    0,  114,    0,    0,    0, 1049, 1319,    0],\n",
      "        [   0,    0,  135,    0,    0,    0,  944, 1431,    0],\n",
      "        [  45,    0,  333,    0,  734,   61,    0,    0, 1343]])\n",
      "Epoch end: Train, epoch number: 0\n",
      "TrainEpoch/CM\n",
      " tensor([[ 313,    0,  911,    0, 1178,    0,    0,    0,  104],\n",
      "        [   0, 2229,  210,    0,    0,    0,   73,    0,    0],\n",
      "        [ 157,    0, 1012,    0, 1233,    6,    4,    0,   86],\n",
      "        [   0,    0,  340, 1234,    0,    0,  426,  513,    0],\n",
      "        [  26,    0,  671,    0, 1799,    0,    0,    0,    2],\n",
      "        [   0,  178,  270,    0,  322, 1631,  110,    0,    4],\n",
      "        [   0,    0,  114,    0,    0,    0, 1049, 1319,    0],\n",
      "        [   0,    0,  135,    0,    0,    0,  944, 1431,    0],\n",
      "        [  45,    0,  333,    0,  734,   61,    0,    0, 1343]])\n"
     ]
    },
    {
     "name": "stderr",
     "output_type": "stream",
     "text": [
      "Metric Validation/Accuracy improved. New best score: 0.723\n"
     ]
    },
    {
     "data": {
      "application/vnd.jupyter.widget-view+json": {
       "model_id": "09315658bce74cc29763d100aa3c803f",
       "version_major": 2,
       "version_minor": 0
      },
      "text/plain": [
       "Validation: |          | 0/? [00:00<?, ?it/s]"
      ]
     },
     "metadata": {},
     "output_type": "display_data"
    },
    {
     "name": "stdout",
     "output_type": "stream",
     "text": [
      "Epoch end: Validation, epoch number: 2\n",
      "ValidationEpoch/CM\n",
      " tensor([[2334,    0, 1015,    0, 1297,    0,    0,    0,  260],\n",
      "        [   0, 4634,  210,    0,    0,    0,   73,    0,    0],\n",
      "        [ 254,    0, 3084,    0, 1409,    8,    4,    0,  144],\n",
      "        [   0,    0,  340, 3629,    0,    0,  426,  513,    0],\n",
      "        [  32,    0,  731,    0, 4133,    0,    0,    0,    2],\n",
      "        [   0,  178,  270,    0,  322, 4031,  110,    0,    4],\n",
      "        [   0,    0,  114,    0,    0,    0, 2402, 2321,    0],\n",
      "        [   0,    0,  135,    0,    0,    0, 1459, 3316,    0],\n",
      "        [ 138,    0,  342,    0,  734,   61,    0,    0, 3631]])\n",
      "Epoch end: Train, epoch number: 1\n",
      "TrainEpoch/CM\n",
      " tensor([[2334,    0, 1015,    0, 1297,    0,    0,    0,  260],\n",
      "        [   0, 4634,  210,    0,    0,    0,   73,    0,    0],\n",
      "        [ 254,    0, 3084,    0, 1409,    8,    4,    0,  144],\n",
      "        [   0,    0,  340, 3629,    0,    0,  426,  513,    0],\n",
      "        [  32,    0,  731,    0, 4133,    0,    0,    0,    2],\n",
      "        [   0,  178,  270,    0,  322, 4031,  110,    0,    4],\n",
      "        [   0,    0,  114,    0,    0,    0, 2402, 2321,    0],\n",
      "        [   0,    0,  135,    0,    0,    0, 1459, 3316,    0],\n",
      "        [ 138,    0,  342,    0,  734,   61,    0,    0, 3631]])\n"
     ]
    },
    {
     "name": "stderr",
     "output_type": "stream",
     "text": [
      "Metric Validation/Accuracy improved by 0.213 >= min_delta = 0.0. New best score: 0.937\n"
     ]
    },
    {
     "data": {
      "application/vnd.jupyter.widget-view+json": {
       "model_id": "baa499fca6314a5b88da778da9b7d809",
       "version_major": 2,
       "version_minor": 0
      },
      "text/plain": [
       "Validation: |          | 0/? [00:00<?, ?it/s]"
      ]
     },
     "metadata": {},
     "output_type": "display_data"
    },
    {
     "name": "stdout",
     "output_type": "stream",
     "text": [
      "Epoch end: Validation, epoch number: 3\n",
      "ValidationEpoch/CM\n",
      " tensor([[4650,    0, 1021,    0, 1299,    0,    0,    0,  336],\n",
      "        [   0, 7039,  210,    0,    0,    0,   73,    0,    0],\n",
      "        [ 278,    0, 5447,    0, 1415,   11,    4,    0,  153],\n",
      "        [   0,    0,  340, 6024,    0,    0,  426,  513,    0],\n",
      "        [  37,    0,  737,    0, 6522,    0,    0,    0,    2],\n",
      "        [   0,  178,  270,    0,  322, 6431,  110,    0,    4],\n",
      "        [   0,    0,  114,    0,    0,    0, 4376, 2702,    0],\n",
      "        [   0,    0,  135,    0,    0,    0, 1835, 5340,    0],\n",
      "        [ 227,    0,  352,    0,  734,   61,    0,    0, 5922]])\n",
      "Epoch end: Train, epoch number: 2\n",
      "TrainEpoch/CM\n",
      " tensor([[4650,    0, 1021,    0, 1299,    0,    0,    0,  336],\n",
      "        [   0, 7039,  210,    0,    0,    0,   73,    0,    0],\n",
      "        [ 278,    0, 5447,    0, 1415,   11,    4,    0,  153],\n",
      "        [   0,    0,  340, 6024,    0,    0,  426,  513,    0],\n",
      "        [  37,    0,  737,    0, 6522,    0,    0,    0,    2],\n",
      "        [   0,  178,  270,    0,  322, 6431,  110,    0,    4],\n",
      "        [   0,    0,  114,    0,    0,    0, 4376, 2702,    0],\n",
      "        [   0,    0,  135,    0,    0,    0, 1835, 5340,    0],\n",
      "        [ 227,    0,  352,    0,  734,   61,    0,    0, 5922]])\n"
     ]
    },
    {
     "name": "stderr",
     "output_type": "stream",
     "text": [
      "Metric Validation/Accuracy improved by 0.021 >= min_delta = 0.0. New best score: 0.958\n"
     ]
    },
    {
     "data": {
      "application/vnd.jupyter.widget-view+json": {
       "model_id": "c999e87827954ccf8424b985c3012152",
       "version_major": 2,
       "version_minor": 0
      },
      "text/plain": [
       "Validation: |          | 0/? [00:00<?, ?it/s]"
      ]
     },
     "metadata": {},
     "output_type": "display_data"
    },
    {
     "name": "stdout",
     "output_type": "stream",
     "text": [
      "Epoch end: Validation, epoch number: 4\n",
      "ValidationEpoch/CM\n",
      " tensor([[6977,    0, 1027,    0, 1299,    0,    0,    0,  403],\n",
      "        [   0, 9444,  210,    0,    0,    0,   73,    0,    0],\n",
      "        [ 296,    0, 7826,    0, 1418,   11,    4,    0,  158],\n",
      "        [   0,    0,  340, 8419,    0,    0,  426,  513,    0],\n",
      "        [  38,    0,  738,    0, 8920,    0,    0,    0,    2],\n",
      "        [   0,  178,  270,    0,  322, 8831,  110,    0,    4],\n",
      "        [   0,    0,  114,    0,    0,    0, 6464, 2969,    0],\n",
      "        [   0,    0,  135,    0,    0,    0, 2146, 7429,    0],\n",
      "        [ 289,    0,  361,    0,  734,   61,    0,    0, 8241]])\n",
      "Epoch end: Train, epoch number: 3\n",
      "TrainEpoch/CM\n",
      " tensor([[6977,    0, 1027,    0, 1299,    0,    0,    0,  403],\n",
      "        [   0, 9444,  210,    0,    0,    0,   73,    0,    0],\n",
      "        [ 296,    0, 7826,    0, 1418,   11,    4,    0,  158],\n",
      "        [   0,    0,  340, 8419,    0,    0,  426,  513,    0],\n",
      "        [  38,    0,  738,    0, 8920,    0,    0,    0,    2],\n",
      "        [   0,  178,  270,    0,  322, 8831,  110,    0,    4],\n",
      "        [   0,    0,  114,    0,    0,    0, 6464, 2969,    0],\n",
      "        [   0,    0,  135,    0,    0,    0, 2146, 7429,    0],\n",
      "        [ 289,    0,  361,    0,  734,   61,    0,    0, 8241]])\n"
     ]
    },
    {
     "name": "stderr",
     "output_type": "stream",
     "text": [
      "Metric Validation/Accuracy improved by 0.007 >= min_delta = 0.0. New best score: 0.965\n"
     ]
    },
    {
     "data": {
      "application/vnd.jupyter.widget-view+json": {
       "model_id": "c1f687f3e0c94f32a4892d222b39971c",
       "version_major": 2,
       "version_minor": 0
      },
      "text/plain": [
       "Validation: |          | 0/? [00:00<?, ?it/s]"
      ]
     },
     "metadata": {},
     "output_type": "display_data"
    },
    {
     "name": "stdout",
     "output_type": "stream",
     "text": [
      "Epoch end: Validation, epoch number: 5\n",
      "ValidationEpoch/CM\n",
      " tensor([[ 9317,     0,  1033,     0,  1299,     0,     0,     0,   457],\n",
      "        [    0, 11849,   210,     0,     0,     0,    73,     0,     0],\n",
      "        [  307,     0, 10217,     0,  1419,    12,     4,     0,   159],\n",
      "        [    0,     0,   340, 10814,     0,     0,   426,   513,     0],\n",
      "        [   38,     0,   738,     0, 11320,     0,     0,     0,     2],\n",
      "        [    0,   178,   270,     0,   322, 11231,   110,     0,     4],\n",
      "        [    0,     0,   114,     0,     0,     0,  8571,  3217,     0],\n",
      "        [    0,     0,   135,     0,     0,     0,  2448,  9527,     0],\n",
      "        [  335,     0,   370,     0,   734,    61,     0,     0, 10576]])\n"
     ]
    },
    {
     "name": "stderr",
     "output_type": "stream",
     "text": [
      "Metric Validation/Accuracy improved by 0.005 >= min_delta = 0.0. New best score: 0.970\n"
     ]
    },
    {
     "name": "stdout",
     "output_type": "stream",
     "text": [
      "Epoch end: Train, epoch number: 4\n",
      "TrainEpoch/CM\n",
      " tensor([[ 9317,     0,  1033,     0,  1299,     0,     0,     0,   457],\n",
      "        [    0, 11849,   210,     0,     0,     0,    73,     0,     0],\n",
      "        [  307,     0, 10217,     0,  1419,    12,     4,     0,   159],\n",
      "        [    0,     0,   340, 10814,     0,     0,   426,   513,     0],\n",
      "        [   38,     0,   738,     0, 11320,     0,     0,     0,     2],\n",
      "        [    0,   178,   270,     0,   322, 11231,   110,     0,     4],\n",
      "        [    0,     0,   114,     0,     0,     0,  8571,  3217,     0],\n",
      "        [    0,     0,   135,     0,     0,     0,  2448,  9527,     0],\n",
      "        [  335,     0,   370,     0,   734,    61,     0,     0, 10576]])\n"
     ]
    },
    {
     "data": {
      "application/vnd.jupyter.widget-view+json": {
       "model_id": "280c524e01794fb892256da69cf8e90b",
       "version_major": 2,
       "version_minor": 0
      },
      "text/plain": [
       "Validation: |          | 0/? [00:00<?, ?it/s]"
      ]
     },
     "metadata": {},
     "output_type": "display_data"
    },
    {
     "name": "stdout",
     "output_type": "stream",
     "text": [
      "Epoch end: Validation, epoch number: 6\n",
      "ValidationEpoch/CM\n",
      " tensor([[11639,     0,  1043,     0,  1299,     0,     0,     0,   525],\n",
      "        [    0, 14254,   210,     0,     0,     0,    73,     0,     0],\n",
      "        [  324,     0, 12599,     0,  1420,    12,     4,     0,   164],\n",
      "        [    0,     0,   340, 13209,     0,     0,   426,   513,     0],\n",
      "        [   38,     0,   738,     0, 13720,     0,     0,     0,     2],\n",
      "        [    0,   178,   270,     0,   322, 13631,   110,     0,     4],\n",
      "        [    0,     0,   114,     0,     0,     0, 10655,  3488,     0],\n",
      "        [    0,     0,   135,     0,     0,     0,  2613, 11762,     0],\n",
      "        [  378,     0,   380,     0,   734,    61,     0,     0, 12913]])\n",
      "Epoch end: Train, epoch number: 5\n",
      "TrainEpoch/CM\n",
      " tensor([[11639,     0,  1043,     0,  1299,     0,     0,     0,   525],\n",
      "        [    0, 14254,   210,     0,     0,     0,    73,     0,     0],\n",
      "        [  324,     0, 12599,     0,  1420,    12,     4,     0,   164],\n",
      "        [    0,     0,   340, 13209,     0,     0,   426,   513,     0],\n",
      "        [   38,     0,   738,     0, 13720,     0,     0,     0,     2],\n",
      "        [    0,   178,   270,     0,   322, 13631,   110,     0,     4],\n",
      "        [    0,     0,   114,     0,     0,     0, 10655,  3488,     0],\n",
      "        [    0,     0,   135,     0,     0,     0,  2613, 11762,     0],\n",
      "        [  378,     0,   380,     0,   734,    61,     0,     0, 12913]])\n"
     ]
    },
    {
     "data": {
      "application/vnd.jupyter.widget-view+json": {
       "model_id": "b340bac64d1c422ab5d2d947ad73e6d7",
       "version_major": 2,
       "version_minor": 0
      },
      "text/plain": [
       "Validation: |          | 0/? [00:00<?, ?it/s]"
      ]
     },
     "metadata": {},
     "output_type": "display_data"
    },
    {
     "name": "stdout",
     "output_type": "stream",
     "text": [
      "Epoch end: Validation, epoch number: 7\n",
      "ValidationEpoch/CM\n",
      " tensor([[13977,     0,  1048,     0,  1299,     0,     0,     0,   582],\n",
      "        [    0, 16659,   210,     0,     0,     0,    73,     0,     0],\n",
      "        [  345,     0, 14979,     0,  1420,    12,     4,     0,   168],\n",
      "        [    0,     0,   340, 15604,     0,     0,   426,   513,     0],\n",
      "        [   42,     0,   738,     0, 16116,     0,     0,     0,     2],\n",
      "        [    0,   178,   270,     0,   322, 16031,   110,     0,     4],\n",
      "        [    0,     0,   114,     0,     0,     0, 12800,  3698,     0],\n",
      "        [    0,     0,   135,     0,     0,     0,  2777, 13998,     0],\n",
      "        [  428,     0,   383,     0,   734,    61,     0,     0, 15250]])\n"
     ]
    },
    {
     "name": "stderr",
     "output_type": "stream",
     "text": [
      "Metric Validation/Accuracy improved by 0.006 >= min_delta = 0.0. New best score: 0.976\n"
     ]
    },
    {
     "name": "stdout",
     "output_type": "stream",
     "text": [
      "Epoch end: Train, epoch number: 6\n",
      "TrainEpoch/CM\n",
      " tensor([[13977,     0,  1048,     0,  1299,     0,     0,     0,   582],\n",
      "        [    0, 16659,   210,     0,     0,     0,    73,     0,     0],\n",
      "        [  345,     0, 14979,     0,  1420,    12,     4,     0,   168],\n",
      "        [    0,     0,   340, 15604,     0,     0,   426,   513,     0],\n",
      "        [   42,     0,   738,     0, 16116,     0,     0,     0,     2],\n",
      "        [    0,   178,   270,     0,   322, 16031,   110,     0,     4],\n",
      "        [    0,     0,   114,     0,     0,     0, 12800,  3698,     0],\n",
      "        [    0,     0,   135,     0,     0,     0,  2777, 13998,     0],\n",
      "        [  428,     0,   383,     0,   734,    61,     0,     0, 15250]])\n"
     ]
    },
    {
     "data": {
      "application/vnd.jupyter.widget-view+json": {
       "model_id": "ea5c940e4cea4c33937aef2a27b1eea5",
       "version_major": 2,
       "version_minor": 0
      },
      "text/plain": [
       "Validation: |          | 0/? [00:00<?, ?it/s]"
      ]
     },
     "metadata": {},
     "output_type": "display_data"
    },
    {
     "name": "stdout",
     "output_type": "stream",
     "text": [
      "Epoch end: Validation, epoch number: 8\n",
      "ValidationEpoch/CM\n",
      " tensor([[16309,     0,  1054,     0,  1299,     0,     0,     0,   644],\n",
      "        [    0, 19064,   210,     0,     0,     0,    73,     0,     0],\n",
      "        [  361,     0, 17362,     0,  1422,    12,     4,     0,   172],\n",
      "        [    0,     0,   340, 17999,     0,     0,   426,   513,     0],\n",
      "        [   43,     0,   738,     0, 18515,     0,     0,     0,     2],\n",
      "        [    0,   178,   270,     0,   322, 18431,   110,     0,     4],\n",
      "        [    0,     0,   114,     0,     0,     0, 14996,  3857,     0],\n",
      "        [    0,     0,   135,     0,     0,     0,  2886, 16289,     0],\n",
      "        [  470,     0,   386,     0,   734,    61,     0,     0, 17595]])\n",
      "Epoch end: Train, epoch number: 7\n",
      "TrainEpoch/CM\n",
      " tensor([[16309,     0,  1054,     0,  1299,     0,     0,     0,   644],\n",
      "        [    0, 19064,   210,     0,     0,     0,    73,     0,     0],\n",
      "        [  361,     0, 17362,     0,  1422,    12,     4,     0,   172],\n",
      "        [    0,     0,   340, 17999,     0,     0,   426,   513,     0],\n",
      "        [   43,     0,   738,     0, 18515,     0,     0,     0,     2],\n",
      "        [    0,   178,   270,     0,   322, 18431,   110,     0,     4],\n",
      "        [    0,     0,   114,     0,     0,     0, 14996,  3857,     0],\n",
      "        [    0,     0,   135,     0,     0,     0,  2886, 16289,     0],\n",
      "        [  470,     0,   386,     0,   734,    61,     0,     0, 17595]])\n"
     ]
    },
    {
     "data": {
      "application/vnd.jupyter.widget-view+json": {
       "model_id": "043db317a68f42f7abb12027c4b23140",
       "version_major": 2,
       "version_minor": 0
      },
      "text/plain": [
       "Validation: |          | 0/? [00:00<?, ?it/s]"
      ]
     },
     "metadata": {},
     "output_type": "display_data"
    },
    {
     "name": "stdout",
     "output_type": "stream",
     "text": [
      "Epoch end: Validation, epoch number: 9\n",
      "ValidationEpoch/CM\n",
      " tensor([[18652,     0,  1060,     0,  1299,     0,     0,     0,   695],\n",
      "        [    0, 21469,   210,     0,     0,     0,    73,     0,     0],\n",
      "        [  377,     0, 19749,     0,  1422,    12,     4,     0,   174],\n",
      "        [    0,     0,   340, 20394,     0,     0,   426,   513,     0],\n",
      "        [   43,     0,   738,     0, 20915,     0,     0,     0,     2],\n",
      "        [    0,   178,   270,     0,   322, 20831,   110,     0,     4],\n",
      "        [    0,     0,   114,     0,     0,     0, 17202,  4006,     0],\n",
      "        [    0,     0,   135,     0,     0,     0,  3047, 18528,     0],\n",
      "        [  511,     0,   388,     0,   734,    61,     0,     0, 19942]])\n"
     ]
    },
    {
     "name": "stderr",
     "output_type": "stream",
     "text": [
      "Metric Validation/Accuracy improved by 0.006 >= min_delta = 0.0. New best score: 0.982\n"
     ]
    },
    {
     "name": "stdout",
     "output_type": "stream",
     "text": [
      "Epoch end: Train, epoch number: 8\n",
      "TrainEpoch/CM\n",
      " tensor([[18652,     0,  1060,     0,  1299,     0,     0,     0,   695],\n",
      "        [    0, 21469,   210,     0,     0,     0,    73,     0,     0],\n",
      "        [  377,     0, 19749,     0,  1422,    12,     4,     0,   174],\n",
      "        [    0,     0,   340, 20394,     0,     0,   426,   513,     0],\n",
      "        [   43,     0,   738,     0, 20915,     0,     0,     0,     2],\n",
      "        [    0,   178,   270,     0,   322, 20831,   110,     0,     4],\n",
      "        [    0,     0,   114,     0,     0,     0, 17202,  4006,     0],\n",
      "        [    0,     0,   135,     0,     0,     0,  3047, 18528,     0],\n",
      "        [  511,     0,   388,     0,   734,    61,     0,     0, 19942]])\n"
     ]
    },
    {
     "data": {
      "application/vnd.jupyter.widget-view+json": {
       "model_id": "f3f2024894b8403cb5a894fe279345d1",
       "version_major": 2,
       "version_minor": 0
      },
      "text/plain": [
       "Validation: |          | 0/? [00:00<?, ?it/s]"
      ]
     },
     "metadata": {},
     "output_type": "display_data"
    },
    {
     "name": "stdout",
     "output_type": "stream",
     "text": [
      "Epoch end: Validation, epoch number: 10\n",
      "ValidationEpoch/CM\n",
      " tensor([[20997,     0,  1068,     0,  1299,     0,     0,     0,   742],\n",
      "        [    0, 23874,   210,     0,     0,     0,    73,     0,     0],\n",
      "        [  388,     0, 22142,     0,  1423,    12,     4,     0,   174],\n",
      "        [    0,     0,   340, 22789,     0,     0,   426,   513,     0],\n",
      "        [   43,     0,   738,     0, 23315,     0,     0,     0,     2],\n",
      "        [    0,   178,   270,     0,   322, 23231,   110,     0,     4],\n",
      "        [    0,     0,   114,     0,     0,     0, 19443,  4120,     0],\n",
      "        [    0,     0,   135,     0,     0,     0,  3168, 20807,     0],\n",
      "        [  542,     0,   393,     0,   734,    61,     0,     0, 22296]])\n",
      "Epoch end: Train, epoch number: 9\n",
      "TrainEpoch/CM\n",
      " tensor([[20997,     0,  1068,     0,  1299,     0,     0,     0,   742],\n",
      "        [    0, 23874,   210,     0,     0,     0,    73,     0,     0],\n",
      "        [  388,     0, 22142,     0,  1423,    12,     4,     0,   174],\n",
      "        [    0,     0,   340, 22789,     0,     0,   426,   513,     0],\n",
      "        [   43,     0,   738,     0, 23315,     0,     0,     0,     2],\n",
      "        [    0,   178,   270,     0,   322, 23231,   110,     0,     4],\n",
      "        [    0,     0,   114,     0,     0,     0, 19443,  4120,     0],\n",
      "        [    0,     0,   135,     0,     0,     0,  3168, 20807,     0],\n",
      "        [  542,     0,   393,     0,   734,    61,     0,     0, 22296]])\n"
     ]
    },
    {
     "data": {
      "application/vnd.jupyter.widget-view+json": {
       "model_id": "8ef447105b824ae08b60295665b3130c",
       "version_major": 2,
       "version_minor": 0
      },
      "text/plain": [
       "Validation: |          | 0/? [00:00<?, ?it/s]"
      ]
     },
     "metadata": {},
     "output_type": "display_data"
    },
    {
     "name": "stdout",
     "output_type": "stream",
     "text": [
      "Epoch end: Validation, epoch number: 11\n",
      "ValidationEpoch/CM\n",
      " tensor([[23352,     0,  1074,     0,  1299,     0,     0,     0,   781],\n",
      "        [    0, 26279,   210,     0,     0,     0,    73,     0,     0],\n",
      "        [  399,     0, 24534,     0,  1423,    12,     4,     0,   176],\n",
      "        [    0,     0,   340, 25184,     0,     0,   426,   513,     0],\n",
      "        [   43,     0,   738,     0, 25715,     0,     0,     0,     2],\n",
      "        [    0,   178,   270,     0,   322, 25631,   110,     0,     4],\n",
      "        [    0,     0,   114,     0,     0,     0, 21674,  4244,     0],\n",
      "        [    0,     0,   135,     0,     0,     0,  3278, 23097,     0],\n",
      "        [  576,     0,   397,     0,   734,    61,     0,     0, 24648]])\n"
     ]
    },
    {
     "name": "stderr",
     "output_type": "stream",
     "text": [
      "Metric Validation/Accuracy improved by 0.002 >= min_delta = 0.0. New best score: 0.984\n"
     ]
    },
    {
     "name": "stdout",
     "output_type": "stream",
     "text": [
      "Epoch end: Train, epoch number: 10\n",
      "TrainEpoch/CM\n",
      " tensor([[23352,     0,  1074,     0,  1299,     0,     0,     0,   781],\n",
      "        [    0, 26279,   210,     0,     0,     0,    73,     0,     0],\n",
      "        [  399,     0, 24534,     0,  1423,    12,     4,     0,   176],\n",
      "        [    0,     0,   340, 25184,     0,     0,   426,   513,     0],\n",
      "        [   43,     0,   738,     0, 25715,     0,     0,     0,     2],\n",
      "        [    0,   178,   270,     0,   322, 25631,   110,     0,     4],\n",
      "        [    0,     0,   114,     0,     0,     0, 21674,  4244,     0],\n",
      "        [    0,     0,   135,     0,     0,     0,  3278, 23097,     0],\n",
      "        [  576,     0,   397,     0,   734,    61,     0,     0, 24648]])\n"
     ]
    },
    {
     "data": {
      "application/vnd.jupyter.widget-view+json": {
       "model_id": "b2ac13826c5e4321915bfb1811fe0803",
       "version_major": 2,
       "version_minor": 0
      },
      "text/plain": [
       "Validation: |          | 0/? [00:00<?, ?it/s]"
      ]
     },
     "metadata": {},
     "output_type": "display_data"
    },
    {
     "name": "stdout",
     "output_type": "stream",
     "text": [
      "Epoch end: Validation, epoch number: 12\n",
      "ValidationEpoch/CM\n",
      " tensor([[25692,     0,  1080,     0,  1299,     0,     0,     0,   835],\n",
      "        [    0, 28684,   210,     0,     0,     0,    73,     0,     0],\n",
      "        [  408,     0, 26929,     0,  1423,    12,     4,     0,   177],\n",
      "        [    0,     0,   340, 27579,     0,     0,   426,   513,     0],\n",
      "        [   43,     0,   738,     0, 28115,     0,     0,     0,     2],\n",
      "        [    0,   178,   270,     0,   322, 28031,   110,     0,     4],\n",
      "        [    0,     0,   114,     0,     0,     0, 23934,  4339,     0],\n",
      "        [    0,     0,   135,     0,     0,     0,  3364, 25411,     0],\n",
      "        [  601,     0,   399,     0,   734,    61,     0,     0, 27011]])\n",
      "Epoch end: Train, epoch number: 11\n",
      "TrainEpoch/CM\n",
      " tensor([[25692,     0,  1080,     0,  1299,     0,     0,     0,   835],\n",
      "        [    0, 28684,   210,     0,     0,     0,    73,     0,     0],\n",
      "        [  408,     0, 26929,     0,  1423,    12,     4,     0,   177],\n",
      "        [    0,     0,   340, 27579,     0,     0,   426,   513,     0],\n",
      "        [   43,     0,   738,     0, 28115,     0,     0,     0,     2],\n",
      "        [    0,   178,   270,     0,   322, 28031,   110,     0,     4],\n",
      "        [    0,     0,   114,     0,     0,     0, 23934,  4339,     0],\n",
      "        [    0,     0,   135,     0,     0,     0,  3364, 25411,     0],\n",
      "        [  601,     0,   399,     0,   734,    61,     0,     0, 27011]])\n"
     ]
    },
    {
     "data": {
      "application/vnd.jupyter.widget-view+json": {
       "model_id": "b5b3c5bd99054378ae383e9445f305a6",
       "version_major": 2,
       "version_minor": 0
      },
      "text/plain": [
       "Validation: |          | 0/? [00:00<?, ?it/s]"
      ]
     },
     "metadata": {},
     "output_type": "display_data"
    },
    {
     "name": "stdout",
     "output_type": "stream",
     "text": [
      "Epoch end: Validation, epoch number: 13\n",
      "ValidationEpoch/CM\n",
      " tensor([[28026,     0,  1092,     0,  1299,     0,     0,     0,   889],\n",
      "        [    0, 31089,   210,     0,     0,     0,    73,     0,     0],\n",
      "        [  432,     0, 29301,     0,  1425,    12,     4,     0,   184],\n",
      "        [    0,     0,   340, 29974,     0,     0,   426,   513,     0],\n",
      "        [   43,     0,   738,     0, 30515,     0,     0,     0,     2],\n",
      "        [    0,   178,   270,     0,   322, 30431,   110,     0,     4],\n",
      "        [    0,     0,   114,     0,     0,     0, 26211,  4417,     0],\n",
      "        [    0,     0,   135,     0,     0,     0,  3444, 27731,     0],\n",
      "        [  642,     0,   403,     0,   734,    61,     0,     0, 29356]])\n"
     ]
    },
    {
     "name": "stderr",
     "output_type": "stream",
     "text": [
      "Metric Validation/Accuracy improved by 0.002 >= min_delta = 0.0. New best score: 0.986\n"
     ]
    },
    {
     "name": "stdout",
     "output_type": "stream",
     "text": [
      "Epoch end: Train, epoch number: 12\n",
      "TrainEpoch/CM\n",
      " tensor([[28026,     0,  1092,     0,  1299,     0,     0,     0,   889],\n",
      "        [    0, 31089,   210,     0,     0,     0,    73,     0,     0],\n",
      "        [  432,     0, 29301,     0,  1425,    12,     4,     0,   184],\n",
      "        [    0,     0,   340, 29974,     0,     0,   426,   513,     0],\n",
      "        [   43,     0,   738,     0, 30515,     0,     0,     0,     2],\n",
      "        [    0,   178,   270,     0,   322, 30431,   110,     0,     4],\n",
      "        [    0,     0,   114,     0,     0,     0, 26211,  4417,     0],\n",
      "        [    0,     0,   135,     0,     0,     0,  3444, 27731,     0],\n",
      "        [  642,     0,   403,     0,   734,    61,     0,     0, 29356]])\n"
     ]
    },
    {
     "data": {
      "application/vnd.jupyter.widget-view+json": {
       "model_id": "5b847b65327b4f3783fd172a40994e74",
       "version_major": 2,
       "version_minor": 0
      },
      "text/plain": [
       "Validation: |          | 0/? [00:00<?, ?it/s]"
      ]
     },
     "metadata": {},
     "output_type": "display_data"
    },
    {
     "name": "stdout",
     "output_type": "stream",
     "text": [
      "Epoch end: Validation, epoch number: 14\n",
      "ValidationEpoch/CM\n",
      " tensor([[30383,     0,  1097,     0,  1299,     0,     0,     0,   927],\n",
      "        [    0, 33494,   210,     0,     0,     0,    73,     0,     0],\n",
      "        [  442,     0, 31696,     0,  1425,    12,     4,     0,   184],\n",
      "        [    0,     0,   340, 32369,     0,     0,   426,   513,     0],\n",
      "        [   43,     0,   738,     0, 32915,     0,     0,     0,     2],\n",
      "        [    0,   178,   270,     0,   322, 32831,   110,     0,     4],\n",
      "        [    0,     0,   114,     0,     0,     0, 28477,  4506,     0],\n",
      "        [    0,     0,   135,     0,     0,     0,  3542, 30033,     0],\n",
      "        [  671,     0,   405,     0,   734,    61,     0,     0, 31715]])\n",
      "Epoch end: Train, epoch number: 13\n",
      "TrainEpoch/CM\n",
      " tensor([[30383,     0,  1097,     0,  1299,     0,     0,     0,   927],\n",
      "        [    0, 33494,   210,     0,     0,     0,    73,     0,     0],\n",
      "        [  442,     0, 31696,     0,  1425,    12,     4,     0,   184],\n",
      "        [    0,     0,   340, 32369,     0,     0,   426,   513,     0],\n",
      "        [   43,     0,   738,     0, 32915,     0,     0,     0,     2],\n",
      "        [    0,   178,   270,     0,   322, 32831,   110,     0,     4],\n",
      "        [    0,     0,   114,     0,     0,     0, 28477,  4506,     0],\n",
      "        [    0,     0,   135,     0,     0,     0,  3542, 30033,     0],\n",
      "        [  671,     0,   405,     0,   734,    61,     0,     0, 31715]])\n"
     ]
    },
    {
     "data": {
      "application/vnd.jupyter.widget-view+json": {
       "model_id": "d1857fd0da2b485ba8e38631be4359d4",
       "version_major": 2,
       "version_minor": 0
      },
      "text/plain": [
       "Validation: |          | 0/? [00:00<?, ?it/s]"
      ]
     },
     "metadata": {},
     "output_type": "display_data"
    },
    {
     "name": "stdout",
     "output_type": "stream",
     "text": [
      "Epoch end: Validation, epoch number: 15\n",
      "ValidationEpoch/CM\n",
      " tensor([[32739,     0,  1104,     0,  1299,     0,     0,     0,   964],\n",
      "        [    0, 35899,   210,     0,     0,     0,    73,     0,     0],\n",
      "        [  454,     0, 34089,     0,  1425,    12,     4,     0,   184],\n",
      "        [    0,     0,   340, 34764,     0,     0,   426,   513,     0],\n",
      "        [   43,     0,   738,     0, 35315,     0,     0,     0,     2],\n",
      "        [    0,   178,   270,     0,   322, 35231,   110,     0,     4],\n",
      "        [    0,     0,   114,     0,     0,     0, 30745,  4593,     0],\n",
      "        [    0,     0,   135,     0,     0,     0,  3634, 32341,     0],\n",
      "        [  705,     0,   408,     0,   734,    61,     0,     0, 34068]])\n",
      "Epoch end: Train, epoch number: 14\n",
      "TrainEpoch/CM\n",
      " tensor([[32739,     0,  1104,     0,  1299,     0,     0,     0,   964],\n",
      "        [    0, 35899,   210,     0,     0,     0,    73,     0,     0],\n",
      "        [  454,     0, 34089,     0,  1425,    12,     4,     0,   184],\n",
      "        [    0,     0,   340, 34764,     0,     0,   426,   513,     0],\n",
      "        [   43,     0,   738,     0, 35315,     0,     0,     0,     2],\n",
      "        [    0,   178,   270,     0,   322, 35231,   110,     0,     4],\n",
      "        [    0,     0,   114,     0,     0,     0, 30745,  4593,     0],\n",
      "        [    0,     0,   135,     0,     0,     0,  3634, 32341,     0],\n",
      "        [  705,     0,   408,     0,   734,    61,     0,     0, 34068]])\n"
     ]
    },
    {
     "data": {
      "application/vnd.jupyter.widget-view+json": {
       "model_id": "0201e61fdec340c599c9576839d7c070",
       "version_major": 2,
       "version_minor": 0
      },
      "text/plain": [
       "Validation: |          | 0/? [00:00<?, ?it/s]"
      ]
     },
     "metadata": {},
     "output_type": "display_data"
    },
    {
     "name": "stdout",
     "output_type": "stream",
     "text": [
      "Epoch end: Validation, epoch number: 16\n",
      "ValidationEpoch/CM\n",
      " tensor([[35112,     0,  1109,     0,  1299,     0,     0,     0,   986],\n",
      "        [    0, 38304,   210,     0,     0,     0,    73,     0,     0],\n",
      "        [  464,     0, 36484,     0,  1425,    12,     4,     0,   184],\n",
      "        [    0,     0,   340, 37159,     0,     0,   426,   513,     0],\n",
      "        [   43,     0,   738,     0, 37715,     0,     0,     0,     2],\n",
      "        [    0,   178,   270,     0,   322, 37631,   110,     0,     4],\n",
      "        [    0,     0,   114,     0,     0,     0, 33012,  4681,     0],\n",
      "        [    0,     0,   135,     0,     0,     0,  3722, 34653,     0],\n",
      "        [  742,     0,   411,     0,   734,    61,     0,     0, 36418]])\n",
      "Epoch end: Train, epoch number: 15\n",
      "TrainEpoch/CM\n",
      " tensor([[35112,     0,  1109,     0,  1299,     0,     0,     0,   986],\n",
      "        [    0, 38304,   210,     0,     0,     0,    73,     0,     0],\n",
      "        [  464,     0, 36484,     0,  1425,    12,     4,     0,   184],\n",
      "        [    0,     0,   340, 37159,     0,     0,   426,   513,     0],\n",
      "        [   43,     0,   738,     0, 37715,     0,     0,     0,     2],\n",
      "        [    0,   178,   270,     0,   322, 37631,   110,     0,     4],\n",
      "        [    0,     0,   114,     0,     0,     0, 33012,  4681,     0],\n",
      "        [    0,     0,   135,     0,     0,     0,  3722, 34653,     0],\n",
      "        [  742,     0,   411,     0,   734,    61,     0,     0, 36418]])\n"
     ]
    },
    {
     "data": {
      "application/vnd.jupyter.widget-view+json": {
       "model_id": "39cf63bb1e2a4d3b8f800be606238e6d",
       "version_major": 2,
       "version_minor": 0
      },
      "text/plain": [
       "Validation: |          | 0/? [00:00<?, ?it/s]"
      ]
     },
     "metadata": {},
     "output_type": "display_data"
    },
    {
     "name": "stdout",
     "output_type": "stream",
     "text": [
      "Epoch end: Validation, epoch number: 17\n",
      "ValidationEpoch/CM\n",
      " tensor([[37476,     0,  1112,     0,  1301,     0,     0,     0,  1017],\n",
      "        [    0, 40709,   210,     0,     0,     0,    73,     0,     0],\n",
      "        [  477,     0, 38876,     0,  1425,    12,     4,     0,   184],\n",
      "        [    0,     0,   340, 39554,     0,     0,   426,   513,     0],\n",
      "        [   43,     0,   738,     0, 40115,     0,     0,     0,     2],\n",
      "        [    0,   178,   270,     0,   322, 40031,   110,     0,     4],\n",
      "        [    0,     0,   114,     0,     0,     0, 35261,  4787,     0],\n",
      "        [    0,     0,   135,     0,     0,     0,  3792, 36983,     0],\n",
      "        [  771,     0,   411,     0,   734,    61,     0,     0, 38779]])\n",
      "Epoch end: Train, epoch number: 16\n",
      "TrainEpoch/CM\n",
      " tensor([[37476,     0,  1112,     0,  1301,     0,     0,     0,  1017],\n",
      "        [    0, 40709,   210,     0,     0,     0,    73,     0,     0],\n",
      "        [  477,     0, 38876,     0,  1425,    12,     4,     0,   184],\n",
      "        [    0,     0,   340, 39554,     0,     0,   426,   513,     0],\n",
      "        [   43,     0,   738,     0, 40115,     0,     0,     0,     2],\n",
      "        [    0,   178,   270,     0,   322, 40031,   110,     0,     4],\n",
      "        [    0,     0,   114,     0,     0,     0, 35261,  4787,     0],\n",
      "        [    0,     0,   135,     0,     0,     0,  3792, 36983,     0],\n",
      "        [  771,     0,   411,     0,   734,    61,     0,     0, 38779]])\n"
     ]
    },
    {
     "data": {
      "application/vnd.jupyter.widget-view+json": {
       "model_id": "ca801196fbe143e982ed3433d661de00",
       "version_major": 2,
       "version_minor": 0
      },
      "text/plain": [
       "Validation: |          | 0/? [00:00<?, ?it/s]"
      ]
     },
     "metadata": {},
     "output_type": "display_data"
    },
    {
     "name": "stdout",
     "output_type": "stream",
     "text": [
      "Epoch end: Validation, epoch number: 18\n",
      "ValidationEpoch/CM\n",
      " tensor([[39834,     0,  1120,     0,  1301,     0,     0,     0,  1051],\n",
      "        [    0, 43114,   210,     0,     0,     0,    73,     0,     0],\n",
      "        [  487,     0, 41271,     0,  1425,    12,     4,     0,   184],\n",
      "        [    0,     0,   340, 41949,     0,     0,   426,   513,     0],\n",
      "        [   43,     0,   738,     0, 42515,     0,     0,     0,     2],\n",
      "        [    0,   178,   270,     0,   322, 42431,   110,     0,     4],\n",
      "        [    0,     0,   114,     0,     0,     0, 37536,  4867,     0],\n",
      "        [    0,     0,   135,     0,     0,     0,  3867, 39308,     0],\n",
      "        [  796,     0,   414,     0,   734,    61,     0,     0, 41141]])\n",
      "Epoch end: Train, epoch number: 17\n",
      "TrainEpoch/CM\n",
      " tensor([[39834,     0,  1120,     0,  1301,     0,     0,     0,  1051],\n",
      "        [    0, 43114,   210,     0,     0,     0,    73,     0,     0],\n",
      "        [  487,     0, 41271,     0,  1425,    12,     4,     0,   184],\n",
      "        [    0,     0,   340, 41949,     0,     0,   426,   513,     0],\n",
      "        [   43,     0,   738,     0, 42515,     0,     0,     0,     2],\n",
      "        [    0,   178,   270,     0,   322, 42431,   110,     0,     4],\n",
      "        [    0,     0,   114,     0,     0,     0, 37536,  4867,     0],\n",
      "        [    0,     0,   135,     0,     0,     0,  3867, 39308,     0],\n",
      "        [  796,     0,   414,     0,   734,    61,     0,     0, 41141]])\n"
     ]
    },
    {
     "name": "stderr",
     "output_type": "stream",
     "text": [
      "Monitored metric Validation/Accuracy did not improve in the last 5 records. Best score: 0.986. Signaling Trainer to stop.\n"
     ]
    }
   ],
   "source": [
    "\n",
    "trainer.fit(model=model, train_dataloaders=train_dataloader, val_dataloaders=val_dataloader)\n"
   ]
  },
  {
   "cell_type": "code",
   "execution_count": 64,
   "metadata": {},
   "outputs": [
    {
     "name": "stderr",
     "output_type": "stream",
     "text": [
      "LOCAL_RANK: 0 - CUDA_VISIBLE_DEVICES: [0]\n"
     ]
    },
    {
     "name": "stdout",
     "output_type": "stream",
     "text": [
      "/home/<User>/repos/csg_is/training/official_logs/multi-layer_30_from_rp4_weights_30s_Xi_sensor_1_rp3/version_0/checkpoints/epoch=12-step=455.ckpt\n",
      "tensor(0.9859, device='cuda:0')\n"
     ]
    },
    {
     "data": {
      "application/vnd.jupyter.widget-view+json": {
       "model_id": "2c8fdea621d94acd91df32387dc317eb",
       "version_major": 2,
       "version_minor": 0
      },
      "text/plain": [
       "Testing: |          | 0/? [00:00<?, ?it/s]"
      ]
     },
     "metadata": {},
     "output_type": "display_data"
    },
    {
     "name": "stdout",
     "output_type": "stream",
     "text": [
      "Epoch end: Test, epoch number: 0\n",
      "TestEpoch/CM\n",
      " tensor([[469,   0,   3,   0,   0,   0,   0,   0,   8],\n",
      "        [  0, 474,   0,   0,   0,   0,   0,   0,   0],\n",
      "        [  1,   0, 478,   0,   0,   0,   0,   0,   0],\n",
      "        [  0,   0,   0, 462,   0,   0,   0,   0,   0],\n",
      "        [  0,   0,   0,   0, 485,   0,   0,   0,   0],\n",
      "        [  0,   0,   0,   0,   0, 478,   0,   0,   0],\n",
      "        [  0,   0,   0,   0,   0,   0, 465,  17,   0],\n",
      "        [  0,   0,   0,   0,   0,   0,  23, 462,   0],\n",
      "        [  8,   0,   0,   0,   0,   0,   0,   0, 477]])\n",
      "────────────────────────────────────────────────────────────────────────────────────────────────────────────────────────\n",
      "       Test metric             DataLoader 0\n",
      "────────────────────────────────────────────────────────────────────────────────────────────────────────────────────────\n",
      "      Test/Accuracy         0.9858713150024414\n",
      "      Test/F1Score          0.9861435890197754\n",
      "        Test/Loss          0.038981132209300995\n",
      "     Test/Precision         0.9867787957191467\n",
      "       Test/Recall          0.9858713150024414\n",
      "   TestEpoch/Accuracy       0.9862009286880493\n",
      "    TestEpoch/F1Score       0.9861922860145569\n",
      "   TestEpoch/Precision      0.9862020015716553\n",
      "    TestEpoch/Recall        0.9862009286880493\n",
      "────────────────────────────────────────────────────────────────────────────────────────────────────────────────────────\n"
     ]
    },
    {
     "data": {
      "text/plain": [
       "[{'Test/Loss': 0.038981132209300995,\n",
       "  'Test/Accuracy': 0.9858713150024414,\n",
       "  'Test/Precision': 0.9867787957191467,\n",
       "  'Test/Recall': 0.9858713150024414,\n",
       "  'Test/F1Score': 0.9861435890197754,\n",
       "  'TestEpoch/Accuracy': 0.9862009286880493,\n",
       "  'TestEpoch/Precision': 0.9862020015716553,\n",
       "  'TestEpoch/Recall': 0.9862009286880493,\n",
       "  'TestEpoch/F1Score': 0.9861922860145569}]"
      ]
     },
     "execution_count": 64,
     "metadata": {},
     "output_type": "execute_result"
    }
   ],
   "source": [
    "\n",
    "print(checkpoint_callback.best_model_path)   # prints path to the best model's checkpoint\n",
    "print(checkpoint_callback.best_model_score) # and prints it score\n",
    "best_model = MalwaresModelMLP.load_from_checkpoint(checkpoint_callback.best_model_path, input_size = subset.shape[1]-1, output_size = len(label_encoder.classes_))\n",
    "\n",
    "trainer.test(best_model, dataloaders=val_dataloader)"
   ]
  },
  {
   "cell_type": "code",
   "execution_count": 65,
   "metadata": {},
   "outputs": [],
   "source": [
    "subset.columns.to_frame().to_csv(f\"weight_selected_{TIME_WINDOW}.csv\", index=False)"
   ]
  }
 ],
 "metadata": {
  "kernelspec": {
   "display_name": ".venv",
   "language": "python",
   "name": "python3"
  },
  "language_info": {
   "codemirror_mode": {
    "name": "ipython",
    "version": 3
   },
   "file_extension": ".py",
   "mimetype": "text/x-python",
   "name": "python",
   "nbconvert_exporter": "python",
   "pygments_lexer": "ipython3",
   "version": "3.10.12"
  }
 },
 "nbformat": 4,
 "nbformat_minor": 2
}
