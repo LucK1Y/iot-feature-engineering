{
 "cells": [
  {
   "cell_type": "markdown",
   "metadata": {},
   "source": [
    "# Idea\n",
    "Do some training"
   ]
  },
  {
   "cell_type": "code",
   "execution_count": 1,
   "metadata": {},
   "outputs": [],
   "source": [
    "from pathlib import Path\n",
    "\n",
    "import numpy as np\n",
    "import pandas as pd\n",
    "import pickle"
   ]
  },
  {
   "cell_type": "code",
   "execution_count": 2,
   "metadata": {},
   "outputs": [],
   "source": [
    "import sys\n",
    "repo_base_path = Path(\"./../../\").resolve()\n",
    "assert str(repo_base_path).endswith(\"csg_is\"), f\"{repo_base_path} is not a valid path to the CSG_IS repository\" \n",
    "\n",
    "sys.path.append(str(repo_base_path))\n",
    "\n",
    "# from py_dataset import get_all_files_df\n",
    "# from py_dataset import read_in_files\n",
    "from py_dataset import feature_plotting\n",
    "# from py_dataset import feature_selection\n",
    "# from py_dataset import net_feature_engineering\n",
    "# from py_dataset import entropy_feature_engineering\n",
    "# from py_dataset.classes import DataSource\n",
    "from py_dataset import sys_func\n",
    "\n"
   ]
  },
  {
   "cell_type": "code",
   "execution_count": 4,
   "metadata": {},
   "outputs": [],
   "source": [
    "df = pd.read_csv('../data/all_df.csv')\n",
    "df.set_index(\"timestamp\", inplace=True)"
   ]
  },
  {
   "cell_type": "code",
   "execution_count": 7,
   "metadata": {},
   "outputs": [
    {
     "data": {
      "text/plain": [
       "array(['1_normal', nan, '2_ransomware', '3_thetick', '4_bashlite',\n",
       "       '5_httpbackdoor', '6_beurk', '7_backdoor', '8_bdvl', '9_xmrig'],\n",
       "      dtype=object)"
      ]
     },
     "execution_count": 7,
     "metadata": {},
     "output_type": "execute_result"
    }
   ],
   "source": [
    "df[\"label\"].unique()"
   ]
  },
  {
   "cell_type": "code",
   "execution_count": 1,
   "metadata": {},
   "outputs": [
    {
     "data": {
      "text/plain": [
       "\"'ext4:ext4_da_update_reserve_space_FLS_data','signal:signal_deliver','net:net_dev_xmit','sched:sched_process_exec_KERN_data','jbd2:jbd2_start_commit_KERN_data','tcp:tcp_probe_KERN_data','ext4:ext4_unlink_enter_RES_data','write_merge','sched:sched_stat_runtime','pkt_out','cache-references','ext4:ext4_free_inode_RES_data','armv7_cortex_a15/br_mis_pred/','iowrite','pkt_in','memory','write_kbs','connect','getppid','mkdir','getegid32','statfs64','geteuid32','recv','setitimer','fstat64','lgetxattr','pipe2','setgroups32','getuid32','label'\""
      ]
     },
     "execution_count": 1,
     "metadata": {},
     "output_type": "execute_result"
    }
   ],
   "source": [
    "with open(\"rfe_selected_columns.npy\",\"r\") as f:\n",
    "    col_str= f.read()\n",
    "col_str"
   ]
  },
  {
   "cell_type": "code",
   "execution_count": 2,
   "metadata": {},
   "outputs": [
    {
     "data": {
      "text/plain": [
       "['ext4:ext4_da_update_reserve_space_FLS_data',\n",
       " 'signal:signal_deliver',\n",
       " 'net:net_dev_xmit',\n",
       " 'sched:sched_process_exec_KERN_data',\n",
       " 'jbd2:jbd2_start_commit_KERN_data',\n",
       " 'tcp:tcp_probe_KERN_data',\n",
       " 'ext4:ext4_unlink_enter_RES_data',\n",
       " 'write_merge',\n",
       " 'sched:sched_stat_runtime',\n",
       " 'pkt_out',\n",
       " 'cache-references',\n",
       " 'ext4:ext4_free_inode_RES_data',\n",
       " 'armv7_cortex_a15/br_mis_pred/',\n",
       " 'iowrite',\n",
       " 'pkt_in',\n",
       " 'memory',\n",
       " 'write_kbs',\n",
       " 'connect',\n",
       " 'getppid',\n",
       " 'mkdir',\n",
       " 'getegid32',\n",
       " 'statfs64',\n",
       " 'geteuid32',\n",
       " 'recv',\n",
       " 'setitimer',\n",
       " 'fstat64',\n",
       " 'lgetxattr',\n",
       " 'pipe2',\n",
       " 'setgroups32',\n",
       " 'getuid32',\n",
       " 'label']"
      ]
     },
     "execution_count": 2,
     "metadata": {},
     "output_type": "execute_result"
    }
   ],
   "source": [
    "cols = col_str.replace(\"'\",\"\").split(\",\")\n",
    "cols"
   ]
  },
  {
   "cell_type": "code",
   "execution_count": 10,
   "metadata": {},
   "outputs": [],
   "source": [
    "df = df[cols]"
   ]
  },
  {
   "cell_type": "markdown",
   "metadata": {},
   "source": [
    "### Preprocessings\n",
    "- remove Null values\n",
    "- drop timestamp\n",
    "- labelEncode\n",
    "- normalize"
   ]
  },
  {
   "cell_type": "code",
   "execution_count": 11,
   "metadata": {},
   "outputs": [
    {
     "name": "stdout",
     "output_type": "stream",
     "text": [
      "(43248, 31)\n",
      "(26842, 31)\n"
     ]
    },
    {
     "name": "stderr",
     "output_type": "stream",
     "text": [
      "/tmp/ipykernel_136981/708996582.py:3: SettingWithCopyWarning: \n",
      "A value is trying to be set on a copy of a slice from a DataFrame\n",
      "\n",
      "See the caveats in the documentation: https://pandas.pydata.org/pandas-docs/stable/user_guide/indexing.html#returning-a-view-versus-a-copy\n",
      "  df.dropna(axis=0, how='any', inplace=True)\n"
     ]
    }
   ],
   "source": [
    "print(df.shape)\n",
    "old_df = df.copy()\n",
    "df.dropna(axis=0, how='any', inplace=True)\n",
    "\n",
    "print(df.shape)"
   ]
  },
  {
   "cell_type": "code",
   "execution_count": 12,
   "metadata": {},
   "outputs": [],
   "source": [
    "df.reset_index(inplace=True, drop=True)"
   ]
  },
  {
   "cell_type": "code",
   "execution_count": 13,
   "metadata": {},
   "outputs": [
    {
     "name": "stderr",
     "output_type": "stream",
     "text": [
      "/tmp/ipykernel_136981/3852457944.py:2: SettingWithCopyWarning: \n",
      "A value is trying to be set on a copy of a slice from a DataFrame.\n",
      "Try using .loc[row_indexer,col_indexer] = value instead\n",
      "\n",
      "See the caveats in the documentation: https://pandas.pydata.org/pandas-docs/stable/user_guide/indexing.html#returning-a-view-versus-a-copy\n",
      "  df['label'] = label_encoder.transform(df['label'])\n"
     ]
    }
   ],
   "source": [
    "label_encoder = sys_func.create_label_encoder_for_labels()\n",
    "df['label'] = label_encoder.transform(df['label'])"
   ]
  },
  {
   "cell_type": "code",
   "execution_count": 14,
   "metadata": {},
   "outputs": [],
   "source": [
    "df = feature_plotting.test_transform_all_to_numeric_columns(df)"
   ]
  },
  {
   "cell_type": "code",
   "execution_count": 15,
   "metadata": {},
   "outputs": [],
   "source": [
    "cols_to_exclude_from_scaling = [\"label\"]\n",
    "vectors = feature_plotting.minmax_scale_features(df,remove_outliers_iqr_all_columns=False,\n",
    "                                                        cols_to_exclude_from_scaling=cols_to_exclude_from_scaling)\n",
    "# print(vectors.shape)\n",
    "# print(\" with dropped null: \", vectors.dropna(axis=0, how='any', inplace=False).shape)"
   ]
  },
  {
   "cell_type": "code",
   "execution_count": 16,
   "metadata": {},
   "outputs": [
    {
     "data": {
      "text/plain": [
       "(array([0, 1, 2, 3, 4, 5, 6, 7, 8]), array([0, 1, 2, 3, 4, 5, 6, 7, 8]))"
      ]
     },
     "execution_count": 16,
     "metadata": {},
     "output_type": "execute_result"
    }
   ],
   "source": [
    "df[\"label\"].unique(), vectors[\"label\"].unique()"
   ]
  },
  {
   "cell_type": "markdown",
   "metadata": {},
   "source": [
    "### Setup"
   ]
  },
  {
   "cell_type": "code",
   "execution_count": 17,
   "metadata": {},
   "outputs": [],
   "source": [
    "from torch.utils.data import Dataset, DataLoader\n",
    "import torch\n",
    "\n",
    "class CustomeDataset(Dataset):\n",
    "    def __init__(self, some_df:pd.DataFrame):\n",
    "        \n",
    "        self.x = torch.tensor(some_df.drop(columns=[\"label\"], inplace=False).values, dtype=torch.float32)\n",
    "        self.labels = torch.tensor(some_df[\"label\"].values, dtype=torch.uint8)\n",
    "\n",
    "    def __len__(self):\n",
    "        return len(self.x)\n",
    "\n",
    "    def __getitem__(self, idx):\n",
    "        # if torch.is_tensor(idx):\n",
    "        #     idx = idx.tolist()\n",
    "        # print(self.x[idx], self.labels[idx])\n",
    "        return self.x[idx], self.labels[idx]"
   ]
  },
  {
   "cell_type": "code",
   "execution_count": 21,
   "metadata": {},
   "outputs": [],
   "source": [
    "sys.path.append(str(repo_base_path  / \"training\"))"
   ]
  },
  {
   "cell_type": "code",
   "execution_count": 22,
   "metadata": {},
   "outputs": [
    {
     "name": "stderr",
     "output_type": "stream",
     "text": [
      "GPU available: True (cuda), used: True\n",
      "TPU available: False, using: 0 TPU cores\n",
      "IPU available: False, using: 0 IPUs\n",
      "HPU available: False, using: 0 HPUs\n"
     ]
    }
   ],
   "source": [
    "from mlp import MalwaresModelMLP\n",
    "from torch.utils.data import DataLoader\n",
    "import lightning\n",
    "from sklearn.model_selection import train_test_split\n",
    "from lightning import loggers as pl_loggers\n",
    "from lightning.pytorch.callbacks.early_stopping import EarlyStopping\n",
    "from lightning.pytorch.callbacks.model_checkpoint import ModelCheckpoint\n",
    "\n",
    "# tensorboard = pl_loggers.TensorBoardLogger('./')\n",
    "\n",
    "# split into train and val\n",
    "train, val = train_test_split(vectors, test_size=0.2)\n",
    "\n",
    "train_dataset = CustomeDataset(train)\n",
    "train_dataloader = DataLoader(train_dataset, batch_size=500, shuffle=True, num_workers=7)\n",
    "\n",
    "val_dataset = CustomeDataset(val)\n",
    "val_dataloader = DataLoader(val_dataset, batch_size=500, shuffle=False, num_workers=7)\n",
    "\n",
    "# trainer = lightning.Trainer(fast_dev_run=100)\n",
    "monitor = \"Validation/Accuracy\"\n",
    "early_stop_callback = EarlyStopping(monitor=monitor, patience=5, verbose=True, mode=\"max\")\n",
    "checkpoint_callback = ModelCheckpoint(save_top_k=1, monitor=monitor, mode=\"max\")\n",
    "\n",
    "trainer = lightning.Trainer(max_epochs=150, callbacks=[early_stop_callback, checkpoint_callback], enable_checkpointing=True) #logger=None, \n",
    "\n",
    "\n",
    "model = MalwaresModelMLP(input_size = vectors.shape[1]-1, output_size = len(label_encoder.classes_))"
   ]
  },
  {
   "cell_type": "code",
   "execution_count": 23,
   "metadata": {},
   "outputs": [
    {
     "name": "stderr",
     "output_type": "stream",
     "text": [
      "LOCAL_RANK: 0 - CUDA_VISIBLE_DEVICES: [0]\n",
      "\n",
      "  | Name          | Type                      | Params\n",
      "------------------------------------------------------------\n",
      "0 | train_metrics | MetricCollection          | 0     \n",
      "1 | val_metrics   | MetricCollection          | 0     \n",
      "2 | test_metrics  | MetricCollection          | 0     \n",
      "3 | cm            | MulticlassConfusionMatrix | 0     \n",
      "4 | criterion     | CrossEntropyLoss          | 0     \n",
      "5 | l1            | Linear                    | 930   \n",
      "6 | l2            | Linear                    | 930   \n",
      "7 | l3            | Linear                    | 279   \n",
      "------------------------------------------------------------\n",
      "2.1 K     Trainable params\n",
      "0         Non-trainable params\n",
      "2.1 K     Total params\n",
      "0.009     Total estimated model params size (MB)\n"
     ]
    },
    {
     "data": {
      "application/vnd.jupyter.widget-view+json": {
       "model_id": "f2c351f5d22542bd959773524f97ef41",
       "version_major": 2,
       "version_minor": 0
      },
      "text/plain": [
       "Sanity Checking: |          | 0/? [00:00<?, ?it/s]"
      ]
     },
     "metadata": {},
     "output_type": "display_data"
    },
    {
     "name": "stdout",
     "output_type": "stream",
     "text": [
      "Epoch end: Validation, epoch number: 0\n",
      "ValidationEpoch/CM\n",
      " tensor([[ 90,   0,   0,   0,   0,   0,   0,   0,   0],\n",
      "        [  6,   0,   0,   0,   0, 130,   0,   0,   0],\n",
      "        [149,   0,   0,   0,   0,   3,   0,   0,   0],\n",
      "        [ 97,   0,   0,   0,   0,   0,   0,   0,   0],\n",
      "        [104,   0,   0,   0,   0,   0,   0,   0,   0],\n",
      "        [ 97,   0,   0,   0,   0,   0,   0,   0,   0],\n",
      "        [106,   0,   0,   0,   0,   1,   0,   0,   0],\n",
      "        [102,   0,   0,   0,   0,   0,   0,   0,   0],\n",
      "        [115,   0,   0,   0,   0,   0,   0,   0,   0]])\n"
     ]
    },
    {
     "name": "stderr",
     "output_type": "stream",
     "text": [
      "/home/<User>/repos/csg_is/.venv/lib/python3.10/site-packages/lightning/pytorch/loops/fit_loop.py:298: The number of training batches (43) is smaller than the logging interval Trainer(log_every_n_steps=50). Set a lower value for log_every_n_steps if you want to see logs for the training epoch.\n"
     ]
    },
    {
     "data": {
      "application/vnd.jupyter.widget-view+json": {
       "model_id": "eb9c4aa8f76542d4aae47623241218b6",
       "version_major": 2,
       "version_minor": 0
      },
      "text/plain": [
       "Training: |          | 0/? [00:00<?, ?it/s]"
      ]
     },
     "metadata": {},
     "output_type": "display_data"
    },
    {
     "data": {
      "application/vnd.jupyter.widget-view+json": {
       "model_id": "7ae1d94171234cdfbde82c41a4f0ed81",
       "version_major": 2,
       "version_minor": 0
      },
      "text/plain": [
       "Validation: |          | 0/? [00:00<?, ?it/s]"
      ]
     },
     "metadata": {},
     "output_type": "display_data"
    },
    {
     "name": "stdout",
     "output_type": "stream",
     "text": [
      "Epoch end: Validation, epoch number: 1\n",
      "ValidationEpoch/CM\n",
      " tensor([[ 536,    0, 1304,  490,  296,    0,   14,    0,    0],\n",
      "        [   7, 3223,    0,    0,    0,  186,    0,    0,    0],\n",
      "        [ 280,    1, 3986,   26,   49,   42,   15,    0,    1],\n",
      "        [ 535,    1, 1389,  457,  332,    0,   29,    0,    4],\n",
      "        [ 570,    0, 1203,  215,  809,    6,   14,    0,    2],\n",
      "        [ 142,   38, 1073,    0,    0, 1623,    0,   45,    0],\n",
      "        [ 316,    0, 2132,  119,  136,   17,   37,    0,    0],\n",
      "        [ 162,  588,   62,    0,    0,    0,    0, 1935,    0],\n",
      "        [ 225,   84,  298,    0,    0,    1,    0,    0, 2787]])\n",
      "Epoch end: Train, epoch number: 0\n",
      "TrainEpoch/CM\n",
      " tensor([[ 536,    0, 1304,  490,  296,    0,   14,    0,    0],\n",
      "        [   7, 3223,    0,    0,    0,  186,    0,    0,    0],\n",
      "        [ 280,    1, 3986,   26,   49,   42,   15,    0,    1],\n",
      "        [ 535,    1, 1389,  457,  332,    0,   29,    0,    4],\n",
      "        [ 570,    0, 1203,  215,  809,    6,   14,    0,    2],\n",
      "        [ 142,   38, 1073,    0,    0, 1623,    0,   45,    0],\n",
      "        [ 316,    0, 2132,  119,  136,   17,   37,    0,    0],\n",
      "        [ 162,  588,   62,    0,    0,    0,    0, 1935,    0],\n",
      "        [ 225,   84,  298,    0,    0,    1,    0,    0, 2787]])\n"
     ]
    },
    {
     "name": "stderr",
     "output_type": "stream",
     "text": [
      "Metric Validation/Accuracy improved. New best score: 0.703\n"
     ]
    },
    {
     "data": {
      "application/vnd.jupyter.widget-view+json": {
       "model_id": "29d190bfd1ec46a0a141f17568feaaf4",
       "version_major": 2,
       "version_minor": 0
      },
      "text/plain": [
       "Validation: |          | 0/? [00:00<?, ?it/s]"
      ]
     },
     "metadata": {},
     "output_type": "display_data"
    },
    {
     "name": "stdout",
     "output_type": "stream",
     "text": [
      "Epoch end: Validation, epoch number: 2\n",
      "ValidationEpoch/CM\n",
      " tensor([[1626,    0, 1363, 1488,  567,    0,  146,    0,    0],\n",
      "        [   7, 6503,    0,    0,    0,  186,    0,    0,    0],\n",
      "        [ 312,    1, 7749,   71,   64,   72,  378,    0,    1],\n",
      "        [1390,    1, 1463, 1570,  734,    0,  230,    0,    9],\n",
      "        [ 718,    0, 1227,  409, 3101,   13,   64,    0,    2],\n",
      "        [ 142,   41, 1084,    0,    0, 4433,    0,   45,    0],\n",
      "        [ 525,    0, 3625,  447,  240,   30,  540,    0,    0],\n",
      "        [ 162,  588,   62,    0,    0,    0,    0, 4580,    0],\n",
      "        [ 225,   84,  298,    0,    0,    1,    0,    0, 6067]])\n"
     ]
    },
    {
     "name": "stderr",
     "output_type": "stream",
     "text": [
      "Metric Validation/Accuracy improved by 0.084 >= min_delta = 0.0. New best score: 0.787\n"
     ]
    },
    {
     "name": "stdout",
     "output_type": "stream",
     "text": [
      "Epoch end: Train, epoch number: 1\n",
      "TrainEpoch/CM\n",
      " tensor([[1626,    0, 1363, 1488,  567,    0,  146,    0,    0],\n",
      "        [   7, 6503,    0,    0,    0,  186,    0,    0,    0],\n",
      "        [ 312,    1, 7749,   71,   64,   72,  378,    0,    1],\n",
      "        [1390,    1, 1463, 1570,  734,    0,  230,    0,    9],\n",
      "        [ 718,    0, 1227,  409, 3101,   13,   64,    0,    2],\n",
      "        [ 142,   41, 1084,    0,    0, 4433,    0,   45,    0],\n",
      "        [ 525,    0, 3625,  447,  240,   30,  540,    0,    0],\n",
      "        [ 162,  588,   62,    0,    0,    0,    0, 4580,    0],\n",
      "        [ 225,   84,  298,    0,    0,    1,    0,    0, 6067]])\n"
     ]
    },
    {
     "data": {
      "application/vnd.jupyter.widget-view+json": {
       "model_id": "e495bda408a24c09ac182b44e16eb18c",
       "version_major": 2,
       "version_minor": 0
      },
      "text/plain": [
       "Validation: |          | 0/? [00:00<?, ?it/s]"
      ]
     },
     "metadata": {},
     "output_type": "display_data"
    },
    {
     "name": "stdout",
     "output_type": "stream",
     "text": [
      "Epoch end: Validation, epoch number: 3\n",
      "ValidationEpoch/CM\n",
      " tensor([[ 3248,     0,  1369,  2272,   599,     0,   252,     0,     0],\n",
      "        [    7,  9782,     0,     0,     0,   186,     0,     0,     1],\n",
      "        [  319,     1, 11531,   101,    65,    96,   782,     0,     1],\n",
      "        [ 2318,     1,  1466,  2936,   811,     0,   501,     0,    14],\n",
      "        [  799,     0,  1232,   504,  5612,    14,    86,     0,     2],\n",
      "        [  142,    46,  1089,     0,     0,  7247,     0,    45,     0],\n",
      "        [  667,     0,  4957,   790,   246,    36,  1360,     0,     1],\n",
      "        [  162,   588,    62,     0,     0,     0,     0,  7225,     0],\n",
      "        [  225,    84,   298,     0,     0,     1,     0,     0,  9347]])\n"
     ]
    },
    {
     "name": "stderr",
     "output_type": "stream",
     "text": [
      "Metric Validation/Accuracy improved by 0.037 >= min_delta = 0.0. New best score: 0.824\n"
     ]
    },
    {
     "name": "stdout",
     "output_type": "stream",
     "text": [
      "Epoch end: Train, epoch number: 2\n",
      "TrainEpoch/CM\n",
      " tensor([[ 3248,     0,  1369,  2272,   599,     0,   252,     0,     0],\n",
      "        [    7,  9782,     0,     0,     0,   186,     0,     0,     1],\n",
      "        [  319,     1, 11531,   101,    65,    96,   782,     0,     1],\n",
      "        [ 2318,     1,  1466,  2936,   811,     0,   501,     0,    14],\n",
      "        [  799,     0,  1232,   504,  5612,    14,    86,     0,     2],\n",
      "        [  142,    46,  1089,     0,     0,  7247,     0,    45,     0],\n",
      "        [  667,     0,  4957,   790,   246,    36,  1360,     0,     1],\n",
      "        [  162,   588,    62,     0,     0,     0,     0,  7225,     0],\n",
      "        [  225,    84,   298,     0,     0,     1,     0,     0,  9347]])\n"
     ]
    },
    {
     "data": {
      "application/vnd.jupyter.widget-view+json": {
       "model_id": "6478c30d70f5402bb1ae27b9f93582ea",
       "version_major": 2,
       "version_minor": 0
      },
      "text/plain": [
       "Validation: |          | 0/? [00:00<?, ?it/s]"
      ]
     },
     "metadata": {},
     "output_type": "display_data"
    },
    {
     "name": "stdout",
     "output_type": "stream",
     "text": [
      "Epoch end: Validation, epoch number: 4\n",
      "ValidationEpoch/CM\n",
      " tensor([[ 5205,     0,  1369,  2786,   613,     0,   317,     0,     0],\n",
      "        [    7, 13059,     0,     0,     2,   187,     0,     0,     1],\n",
      "        [  322,     1, 15326,   122,    69,   111,  1192,     0,     1],\n",
      "        [ 3190,     1,  1466,  4462,   832,     0,   727,     0,    19],\n",
      "        [  837,     0,  1237,   590,  8182,    14,   102,     0,     2],\n",
      "        [  142,    51,  1103,     0,     0, 10052,     0,    45,     0],\n",
      "        [  784,     3,  6170,  1134,   249,    38,  2327,     0,     2],\n",
      "        [  162,   588,    62,     0,     0,     0,     0,  9870,     0],\n",
      "        [  225,    84,   298,     0,     0,     1,     0,     0, 12627]])\n"
     ]
    },
    {
     "name": "stderr",
     "output_type": "stream",
     "text": [
      "Metric Validation/Accuracy improved by 0.021 >= min_delta = 0.0. New best score: 0.845\n"
     ]
    },
    {
     "name": "stdout",
     "output_type": "stream",
     "text": [
      "Epoch end: Train, epoch number: 3\n",
      "TrainEpoch/CM\n",
      " tensor([[ 5205,     0,  1369,  2786,   613,     0,   317,     0,     0],\n",
      "        [    7, 13059,     0,     0,     2,   187,     0,     0,     1],\n",
      "        [  322,     1, 15326,   122,    69,   111,  1192,     0,     1],\n",
      "        [ 3190,     1,  1466,  4462,   832,     0,   727,     0,    19],\n",
      "        [  837,     0,  1237,   590,  8182,    14,   102,     0,     2],\n",
      "        [  142,    51,  1103,     0,     0, 10052,     0,    45,     0],\n",
      "        [  784,     3,  6170,  1134,   249,    38,  2327,     0,     2],\n",
      "        [  162,   588,    62,     0,     0,     0,     0,  9870,     0],\n",
      "        [  225,    84,   298,     0,     0,     1,     0,     0, 12627]])\n"
     ]
    },
    {
     "data": {
      "application/vnd.jupyter.widget-view+json": {
       "model_id": "06813671e7914af8a4e18df5407cc578",
       "version_major": 2,
       "version_minor": 0
      },
      "text/plain": [
       "Validation: |          | 0/? [00:00<?, ?it/s]"
      ]
     },
     "metadata": {},
     "output_type": "display_data"
    },
    {
     "name": "stdout",
     "output_type": "stream",
     "text": [
      "Epoch end: Validation, epoch number: 5\n",
      "ValidationEpoch/CM\n",
      " tensor([[ 7398,     0,  1369,  3080,   622,     0,   371,     0,     0],\n",
      "        [    7, 16335,     0,     0,     4,   189,     0,     0,     1],\n",
      "        [  322,     1, 19173,   136,    72,   132,  1555,     0,     1],\n",
      "        [ 3664,     1,  1466,  6413,   841,     0,   938,     0,    24],\n",
      "        [  854,     0,  1242,   662, 10789,    14,   116,     0,     2],\n",
      "        [  142,    56,  1115,     0,     0, 12859,     0,    45,     0],\n",
      "        [  847,     6,  7366,  1529,   254,    42,  3311,     0,     2],\n",
      "        [  162,   588,    62,     0,     0,     0,     0, 12515,     0],\n",
      "        [  225,    84,   298,     0,     0,     1,     0,     0, 15907]])\n"
     ]
    },
    {
     "name": "stderr",
     "output_type": "stream",
     "text": [
      "Metric Validation/Accuracy improved by 0.037 >= min_delta = 0.0. New best score: 0.882\n"
     ]
    },
    {
     "name": "stdout",
     "output_type": "stream",
     "text": [
      "Epoch end: Train, epoch number: 4\n",
      "TrainEpoch/CM\n",
      " tensor([[ 7398,     0,  1369,  3080,   622,     0,   371,     0,     0],\n",
      "        [    7, 16335,     0,     0,     4,   189,     0,     0,     1],\n",
      "        [  322,     1, 19173,   136,    72,   132,  1555,     0,     1],\n",
      "        [ 3664,     1,  1466,  6413,   841,     0,   938,     0,    24],\n",
      "        [  854,     0,  1242,   662, 10789,    14,   116,     0,     2],\n",
      "        [  142,    56,  1115,     0,     0, 12859,     0,    45,     0],\n",
      "        [  847,     6,  7366,  1529,   254,    42,  3311,     0,     2],\n",
      "        [  162,   588,    62,     0,     0,     0,     0, 12515,     0],\n",
      "        [  225,    84,   298,     0,     0,     1,     0,     0, 15907]])\n"
     ]
    },
    {
     "data": {
      "application/vnd.jupyter.widget-view+json": {
       "model_id": "ad3e664dec1f44a9847f2a729fe7740a",
       "version_major": 2,
       "version_minor": 0
      },
      "text/plain": [
       "Validation: |          | 0/? [00:00<?, ?it/s]"
      ]
     },
     "metadata": {},
     "output_type": "display_data"
    },
    {
     "name": "stdout",
     "output_type": "stream",
     "text": [
      "Epoch end: Validation, epoch number: 6\n",
      "ValidationEpoch/CM\n",
      " tensor([[ 9753,     0,  1369,  3229,   628,     0,   411,     0,     0],\n",
      "        [    7, 19610,     0,     0,     5,   193,     0,     0,     1],\n",
      "        [  322,     1, 22981,   147,    72,   149,  1967,     0,     1],\n",
      "        [ 3871,     1,  1466,  8689,   848,     0,  1094,     0,    28],\n",
      "        [  859,     0,  1247,   706, 13435,    14,   131,     0,     2],\n",
      "        [  142,    63,  1130,     0,     0, 15661,     0,    45,     0],\n",
      "        [  902,     7,  8509,  1946,   259,    49,  4333,     0,     2],\n",
      "        [  162,   588,    62,     0,     0,     0,     0, 15160,     0],\n",
      "        [  225,    85,   298,     0,     0,     1,     0,     0, 19186]])\n"
     ]
    },
    {
     "name": "stderr",
     "output_type": "stream",
     "text": [
      "Metric Validation/Accuracy improved by 0.023 >= min_delta = 0.0. New best score: 0.904\n"
     ]
    },
    {
     "name": "stdout",
     "output_type": "stream",
     "text": [
      "Epoch end: Train, epoch number: 5\n",
      "TrainEpoch/CM\n",
      " tensor([[ 9753,     0,  1369,  3229,   628,     0,   411,     0,     0],\n",
      "        [    7, 19610,     0,     0,     5,   193,     0,     0,     1],\n",
      "        [  322,     1, 22981,   147,    72,   149,  1967,     0,     1],\n",
      "        [ 3871,     1,  1466,  8689,   848,     0,  1094,     0,    28],\n",
      "        [  859,     0,  1247,   706, 13435,    14,   131,     0,     2],\n",
      "        [  142,    63,  1130,     0,     0, 15661,     0,    45,     0],\n",
      "        [  902,     7,  8509,  1946,   259,    49,  4333,     0,     2],\n",
      "        [  162,   588,    62,     0,     0,     0,     0, 15160,     0],\n",
      "        [  225,    85,   298,     0,     0,     1,     0,     0, 19186]])\n"
     ]
    },
    {
     "data": {
      "application/vnd.jupyter.widget-view+json": {
       "model_id": "60251664b1b04c3397cd9a5e8a40f0c3",
       "version_major": 2,
       "version_minor": 0
      },
      "text/plain": [
       "Validation: |          | 0/? [00:00<?, ?it/s]"
      ]
     },
     "metadata": {},
     "output_type": "display_data"
    },
    {
     "name": "stdout",
     "output_type": "stream",
     "text": [
      "Epoch end: Validation, epoch number: 7\n",
      "ValidationEpoch/CM\n",
      " tensor([[12149,     0,  1369,  3347,   631,     0,   444,     0,     0],\n",
      "        [    7, 22890,     0,     0,     5,   193,     0,     0,     1],\n",
      "        [  322,     1, 26782,   151,    76,   164,  2391,     0,     1],\n",
      "        [ 3977,     1,  1466, 11080,   852,     0,  1238,     0,    33],\n",
      "        [  862,     0,  1249,   732, 16108,    14,   142,     0,     2],\n",
      "        [  142,    68,  1143,     0,     0, 18467,     0,    45,     0],\n",
      "        [  946,     7,  9650,  2330,   266,    55,  5401,     0,     2],\n",
      "        [  162,   588,    62,     0,     0,     0,     0, 17805,     0],\n",
      "        [  225,    85,   298,     0,     5,     1,     0,     0, 22461]])\n",
      "Epoch end: Train, epoch number: 6\n",
      "TrainEpoch/CM\n",
      " tensor([[12149,     0,  1369,  3347,   631,     0,   444,     0,     0],\n",
      "        [    7, 22890,     0,     0,     5,   193,     0,     0,     1],\n",
      "        [  322,     1, 26782,   151,    76,   164,  2391,     0,     1],\n",
      "        [ 3977,     1,  1466, 11080,   852,     0,  1238,     0,    33],\n",
      "        [  862,     0,  1249,   732, 16108,    14,   142,     0,     2],\n",
      "        [  142,    68,  1143,     0,     0, 18467,     0,    45,     0],\n",
      "        [  946,     7,  9650,  2330,   266,    55,  5401,     0,     2],\n",
      "        [  162,   588,    62,     0,     0,     0,     0, 17805,     0],\n",
      "        [  225,    85,   298,     0,     5,     1,     0,     0, 22461]])\n"
     ]
    },
    {
     "name": "stderr",
     "output_type": "stream",
     "text": [
      "Metric Validation/Accuracy improved by 0.004 >= min_delta = 0.0. New best score: 0.909\n"
     ]
    },
    {
     "data": {
      "application/vnd.jupyter.widget-view+json": {
       "model_id": "e2d7d325799d4721a1e5c64cdca5792f",
       "version_major": 2,
       "version_minor": 0
      },
      "text/plain": [
       "Validation: |          | 0/? [00:00<?, ?it/s]"
      ]
     },
     "metadata": {},
     "output_type": "display_data"
    },
    {
     "name": "stdout",
     "output_type": "stream",
     "text": [
      "Epoch end: Validation, epoch number: 8\n",
      "ValidationEpoch/CM\n",
      " tensor([[14595,     0,  1369,  3421,   634,     0,   471,     0,     0],\n",
      "        [    7, 26169,     1,     0,     5,   193,     0,     0,     1],\n",
      "        [  322,     1, 30560,   151,    78,   171,  2852,     0,     1],\n",
      "        [ 4044,     1,  1466, 13521,   854,     0,  1373,     0,    38],\n",
      "        [  862,     0,  1250,   745, 18798,    14,   153,     0,     2],\n",
      "        [  142,    71,  1155,     0,     0, 21276,     0,    45,     0],\n",
      "        [  990,     7, 10715,  2687,   267,    61,  6578,     0,     2],\n",
      "        [  162,   588,    62,     0,     0,     0,     0, 20450,     0],\n",
      "        [  225,    85,   298,     0,    10,     1,     0,     0, 25736]])\n",
      "Epoch end: Train, epoch number: 7\n",
      "TrainEpoch/CM\n",
      " tensor([[14595,     0,  1369,  3421,   634,     0,   471,     0,     0],\n",
      "        [    7, 26169,     1,     0,     5,   193,     0,     0,     1],\n",
      "        [  322,     1, 30560,   151,    78,   171,  2852,     0,     1],\n",
      "        [ 4044,     1,  1466, 13521,   854,     0,  1373,     0,    38],\n",
      "        [  862,     0,  1250,   745, 18798,    14,   153,     0,     2],\n",
      "        [  142,    71,  1155,     0,     0, 21276,     0,    45,     0],\n",
      "        [  990,     7, 10715,  2687,   267,    61,  6578,     0,     2],\n",
      "        [  162,   588,    62,     0,     0,     0,     0, 20450,     0],\n",
      "        [  225,    85,   298,     0,    10,     1,     0,     0, 25736]])\n"
     ]
    },
    {
     "name": "stderr",
     "output_type": "stream",
     "text": [
      "Metric Validation/Accuracy improved by 0.011 >= min_delta = 0.0. New best score: 0.920\n"
     ]
    },
    {
     "data": {
      "application/vnd.jupyter.widget-view+json": {
       "model_id": "ce356e1109484d94a10c9e9850f73aa1",
       "version_major": 2,
       "version_minor": 0
      },
      "text/plain": [
       "Validation: |          | 0/? [00:00<?, ?it/s]"
      ]
     },
     "metadata": {},
     "output_type": "display_data"
    },
    {
     "name": "stdout",
     "output_type": "stream",
     "text": [
      "Epoch end: Validation, epoch number: 9\n",
      "ValidationEpoch/CM\n",
      " tensor([[17066,     0,  1369,  3482,   634,     0,   489,     0,     0],\n",
      "        [    7, 29449,     1,     0,     5,   193,     0,     0,     1],\n",
      "        [  322,     1, 34371,   151,    78,   181,  3279,     0,     1],\n",
      "        [ 4081,     1,  1466, 15988,   858,     0,  1510,     0,    43],\n",
      "        [  862,     0,  1252,   746, 21501,    14,   162,     0,     2],\n",
      "        [  142,    71,  1167,     0,     0, 24088,     0,    45,     0],\n",
      "        [ 1020,     7, 11769,  3031,   267,    66,  7795,     0,     2],\n",
      "        [  162,   588,    62,     0,     0,     0,     0, 23095,     0],\n",
      "        [  225,    85,   298,     0,    12,     1,     0,     0, 29014]])\n",
      "Epoch end: Train, epoch number: 8\n",
      "TrainEpoch/CM\n",
      " tensor([[17066,     0,  1369,  3482,   634,     0,   489,     0,     0],\n",
      "        [    7, 29449,     1,     0,     5,   193,     0,     0,     1],\n",
      "        [  322,     1, 34371,   151,    78,   181,  3279,     0,     1],\n",
      "        [ 4081,     1,  1466, 15988,   858,     0,  1510,     0,    43],\n",
      "        [  862,     0,  1252,   746, 21501,    14,   162,     0,     2],\n",
      "        [  142,    71,  1167,     0,     0, 24088,     0,    45,     0],\n",
      "        [ 1020,     7, 11769,  3031,   267,    66,  7795,     0,     2],\n",
      "        [  162,   588,    62,     0,     0,     0,     0, 23095,     0],\n",
      "        [  225,    85,   298,     0,    12,     1,     0,     0, 29014]])\n"
     ]
    },
    {
     "data": {
      "application/vnd.jupyter.widget-view+json": {
       "model_id": "3d66bbac53e641e08375ad8810fa193e",
       "version_major": 2,
       "version_minor": 0
      },
      "text/plain": [
       "Validation: |          | 0/? [00:00<?, ?it/s]"
      ]
     },
     "metadata": {},
     "output_type": "display_data"
    },
    {
     "name": "stdout",
     "output_type": "stream",
     "text": [
      "Epoch end: Validation, epoch number: 10\n",
      "ValidationEpoch/CM\n",
      " tensor([[19556,     0,  1369,  3521,   634,     0,   510,     0,     0],\n",
      "        [    7, 32729,     1,     0,     5,   193,     0,     0,     1],\n",
      "        [  322,     1, 38185,   151,    81,   186,  3705,     0,     1],\n",
      "        [ 4097,     1,  1466, 18484,   859,     0,  1642,     0,    48],\n",
      "        [  862,     0,  1254,   751, 24200,    14,   171,     0,     2],\n",
      "        [  142,    71,  1176,     0,     0, 26901,     2,    45,     0],\n",
      "        [ 1051,     7, 12745,  3345,   267,    69,  9121,     0,     2],\n",
      "        [  162,   588,    62,     0,     0,     0,     0, 25740,     0],\n",
      "        [  225,    85,   298,     0,    12,     1,     0,     0, 32294]])\n"
     ]
    },
    {
     "name": "stderr",
     "output_type": "stream",
     "text": [
      "Metric Validation/Accuracy improved by 0.007 >= min_delta = 0.0. New best score: 0.927\n"
     ]
    },
    {
     "name": "stdout",
     "output_type": "stream",
     "text": [
      "Epoch end: Train, epoch number: 9\n",
      "TrainEpoch/CM\n",
      " tensor([[19556,     0,  1369,  3521,   634,     0,   510,     0,     0],\n",
      "        [    7, 32729,     1,     0,     5,   193,     0,     0,     1],\n",
      "        [  322,     1, 38185,   151,    81,   186,  3705,     0,     1],\n",
      "        [ 4097,     1,  1466, 18484,   859,     0,  1642,     0,    48],\n",
      "        [  862,     0,  1254,   751, 24200,    14,   171,     0,     2],\n",
      "        [  142,    71,  1176,     0,     0, 26901,     2,    45,     0],\n",
      "        [ 1051,     7, 12745,  3345,   267,    69,  9121,     0,     2],\n",
      "        [  162,   588,    62,     0,     0,     0,     0, 25740,     0],\n",
      "        [  225,    85,   298,     0,    12,     1,     0,     0, 32294]])\n"
     ]
    },
    {
     "data": {
      "application/vnd.jupyter.widget-view+json": {
       "model_id": "007d83e0276145179f0b9de12c378e80",
       "version_major": 2,
       "version_minor": 0
      },
      "text/plain": [
       "Validation: |          | 0/? [00:00<?, ?it/s]"
      ]
     },
     "metadata": {},
     "output_type": "display_data"
    },
    {
     "name": "stdout",
     "output_type": "stream",
     "text": [
      "Epoch end: Validation, epoch number: 11\n",
      "ValidationEpoch/CM\n",
      " tensor([[22051,     0,  1369,  3558,   634,     0,   528,     0,     0],\n",
      "        [    7, 36009,     1,     0,     5,   193,     0,     0,     1],\n",
      "        [  322,     1, 41971,   151,    84,   190,  4160,     0,     1],\n",
      "        [ 4109,     1,  1466, 21016,   860,     0,  1742,     0,    53],\n",
      "        [  862,     0,  1256,   758, 26902,    14,   175,     0,     2],\n",
      "        [  142,    71,  1179,     0,     0, 29720,     4,    45,     0],\n",
      "        [ 1069,     7, 13590,  3688,   268,    77, 10556,     0,     2],\n",
      "        [  162,   588,    62,     0,     0,     0,     0, 28385,     0],\n",
      "        [  225,    85,   298,     0,    14,     1,     0,     0, 35572]])\n"
     ]
    },
    {
     "name": "stderr",
     "output_type": "stream",
     "text": [
      "Metric Validation/Accuracy improved by 0.008 >= min_delta = 0.0. New best score: 0.935\n"
     ]
    },
    {
     "name": "stdout",
     "output_type": "stream",
     "text": [
      "Epoch end: Train, epoch number: 10\n",
      "TrainEpoch/CM\n",
      " tensor([[22051,     0,  1369,  3558,   634,     0,   528,     0,     0],\n",
      "        [    7, 36009,     1,     0,     5,   193,     0,     0,     1],\n",
      "        [  322,     1, 41971,   151,    84,   190,  4160,     0,     1],\n",
      "        [ 4109,     1,  1466, 21016,   860,     0,  1742,     0,    53],\n",
      "        [  862,     0,  1256,   758, 26902,    14,   175,     0,     2],\n",
      "        [  142,    71,  1179,     0,     0, 29720,     4,    45,     0],\n",
      "        [ 1069,     7, 13590,  3688,   268,    77, 10556,     0,     2],\n",
      "        [  162,   588,    62,     0,     0,     0,     0, 28385,     0],\n",
      "        [  225,    85,   298,     0,    14,     1,     0,     0, 35572]])\n"
     ]
    },
    {
     "data": {
      "application/vnd.jupyter.widget-view+json": {
       "model_id": "1ab98ecb937744a5b238a822e05ee00c",
       "version_major": 2,
       "version_minor": 0
      },
      "text/plain": [
       "Validation: |          | 0/? [00:00<?, ?it/s]"
      ]
     },
     "metadata": {},
     "output_type": "display_data"
    },
    {
     "name": "stdout",
     "output_type": "stream",
     "text": [
      "Epoch end: Validation, epoch number: 12\n",
      "ValidationEpoch/CM\n",
      " tensor([[24561,     0,  1369,  3580,   634,     0,   546,     0,     0],\n",
      "        [    8, 39288,     1,     0,     5,   193,     0,     0,     1],\n",
      "        [  322,     1, 45458,   151,    86,   191,  4918,     0,     1],\n",
      "        [ 4116,     1,  1466, 23541,   863,     0,  1852,     0,    58],\n",
      "        [  862,     0,  1256,   768, 29604,    14,   178,     0,     2],\n",
      "        [  142,    71,  1179,     0,     0, 32538,    10,    45,     0],\n",
      "        [ 1087,     7, 14258,  3968,   268,    84, 12233,     0,     2],\n",
      "        [  162,   588,    62,     0,     0,     0,     0, 31030,     0],\n",
      "        [  225,    85,   298,     1,    14,     1,     0,     0, 38851]])\n",
      "Epoch end: Train, epoch number: 11\n",
      "TrainEpoch/CM\n",
      " tensor([[24561,     0,  1369,  3580,   634,     0,   546,     0,     0],\n",
      "        [    8, 39288,     1,     0,     5,   193,     0,     0,     1],\n",
      "        [  322,     1, 45458,   151,    86,   191,  4918,     0,     1],\n",
      "        [ 4116,     1,  1466, 23541,   863,     0,  1852,     0,    58],\n",
      "        [  862,     0,  1256,   768, 29604,    14,   178,     0,     2],\n",
      "        [  142,    71,  1179,     0,     0, 32538,    10,    45,     0],\n",
      "        [ 1087,     7, 14258,  3968,   268,    84, 12233,     0,     2],\n",
      "        [  162,   588,    62,     0,     0,     0,     0, 31030,     0],\n",
      "        [  225,    85,   298,     1,    14,     1,     0,     0, 38851]])\n"
     ]
    },
    {
     "data": {
      "application/vnd.jupyter.widget-view+json": {
       "model_id": "4f31545a31e04aa28e7ebc60deeb312e",
       "version_major": 2,
       "version_minor": 0
      },
      "text/plain": [
       "Validation: |          | 0/? [00:00<?, ?it/s]"
      ]
     },
     "metadata": {},
     "output_type": "display_data"
    },
    {
     "name": "stdout",
     "output_type": "stream",
     "text": [
      "Epoch end: Validation, epoch number: 13\n",
      "ValidationEpoch/CM\n",
      " tensor([[27067,     0,  1369,  3607,   634,     0,   563,     0,     0],\n",
      "        [    8, 42568,     1,     0,     5,   193,     0,     0,     1],\n",
      "        [  322,     1, 49288,   151,    86,   195,  5332,     0,     1],\n",
      "        [ 4145,     1,  1466, 26003,   863,     0,  2006,     0,    63],\n",
      "        [  862,     0,  1256,   773, 32313,    14,   179,     0,     2],\n",
      "        [  142,    71,  1179,     0,     0, 35361,    11,    45,     0],\n",
      "        [ 1109,     7, 15059,  4220,   268,    90, 13802,     0,     2],\n",
      "        [  162,   588,    62,     0,     0,     0,     0, 33675,     0],\n",
      "        [  225,    85,   298,     4,    17,     1,     0,     0, 42125]])\n",
      "Epoch end: Train, epoch number: 12\n",
      "TrainEpoch/CM\n",
      " tensor([[27067,     0,  1369,  3607,   634,     0,   563,     0,     0],\n",
      "        [    8, 42568,     1,     0,     5,   193,     0,     0,     1],\n",
      "        [  322,     1, 49288,   151,    86,   195,  5332,     0,     1],\n",
      "        [ 4145,     1,  1466, 26003,   863,     0,  2006,     0,    63],\n",
      "        [  862,     0,  1256,   773, 32313,    14,   179,     0,     2],\n",
      "        [  142,    71,  1179,     0,     0, 35361,    11,    45,     0],\n",
      "        [ 1109,     7, 15059,  4220,   268,    90, 13802,     0,     2],\n",
      "        [  162,   588,    62,     0,     0,     0,     0, 33675,     0],\n",
      "        [  225,    85,   298,     4,    17,     1,     0,     0, 42125]])\n"
     ]
    },
    {
     "data": {
      "application/vnd.jupyter.widget-view+json": {
       "model_id": "9b4abd405709451db60ac7504b051d59",
       "version_major": 2,
       "version_minor": 0
      },
      "text/plain": [
       "Validation: |          | 0/? [00:00<?, ?it/s]"
      ]
     },
     "metadata": {},
     "output_type": "display_data"
    },
    {
     "name": "stdout",
     "output_type": "stream",
     "text": [
      "Epoch end: Validation, epoch number: 14\n",
      "ValidationEpoch/CM\n",
      " tensor([[29579,     0,  1369,  3631,   634,     0,   577,     0,     0],\n",
      "        [    8, 45848,     1,     0,     5,   193,     0,     0,     1],\n",
      "        [  322,     1, 53132,   151,    86,   196,  5735,     0,     1],\n",
      "        [ 4147,     1,  1466, 28560,   863,     0,  2092,     0,    68],\n",
      "        [  862,     0,  1256,   775, 35026,    14,   179,     0,     2],\n",
      "        [  142,    71,  1179,     0,     0, 38183,    13,    45,     0],\n",
      "        [ 1117,     7, 15737,  4464,   268,    96, 15516,     0,     2],\n",
      "        [  162,   588,    62,     0,     0,     0,     0, 36320,     0],\n",
      "        [  225,    85,   298,     6,    17,     1,     0,     0, 45403]])\n"
     ]
    },
    {
     "name": "stderr",
     "output_type": "stream",
     "text": [
      "Metric Validation/Accuracy improved by 0.018 >= min_delta = 0.0. New best score: 0.953\n"
     ]
    },
    {
     "name": "stdout",
     "output_type": "stream",
     "text": [
      "Epoch end: Train, epoch number: 13\n",
      "TrainEpoch/CM\n",
      " tensor([[29579,     0,  1369,  3631,   634,     0,   577,     0,     0],\n",
      "        [    8, 45848,     1,     0,     5,   193,     0,     0,     1],\n",
      "        [  322,     1, 53132,   151,    86,   196,  5735,     0,     1],\n",
      "        [ 4147,     1,  1466, 28560,   863,     0,  2092,     0,    68],\n",
      "        [  862,     0,  1256,   775, 35026,    14,   179,     0,     2],\n",
      "        [  142,    71,  1179,     0,     0, 38183,    13,    45,     0],\n",
      "        [ 1117,     7, 15737,  4464,   268,    96, 15516,     0,     2],\n",
      "        [  162,   588,    62,     0,     0,     0,     0, 36320,     0],\n",
      "        [  225,    85,   298,     6,    17,     1,     0,     0, 45403]])\n"
     ]
    },
    {
     "data": {
      "application/vnd.jupyter.widget-view+json": {
       "model_id": "2da5b68a111241f9bddbdecb58a3aa86",
       "version_major": 2,
       "version_minor": 0
      },
      "text/plain": [
       "Validation: |          | 0/? [00:00<?, ?it/s]"
      ]
     },
     "metadata": {},
     "output_type": "display_data"
    },
    {
     "name": "stdout",
     "output_type": "stream",
     "text": [
      "Epoch end: Validation, epoch number: 15\n",
      "ValidationEpoch/CM\n",
      " tensor([[32097,     0,  1369,  3648,   634,     0,   592,     0,     0],\n",
      "        [    8, 49128,     1,     0,     5,   193,     0,     0,     1],\n",
      "        [  322,     1, 57034,   151,    86,   196,  6081,     0,     1],\n",
      "        [ 4150,     1,  1466, 31124,   863,     0,  2170,     0,    73],\n",
      "        [  862,     0,  1256,   776, 37739,    14,   180,     0,     2],\n",
      "        [  142,    72,  1179,     0,     0, 41001,    18,    45,     0],\n",
      "        [ 1127,     7, 16352,  4705,   268,   101, 17295,     0,     2],\n",
      "        [  162,   588,    62,     0,     0,     0,     0, 38965,     0],\n",
      "        [  225,    85,   298,     7,    17,     1,     2,     0, 48680]])\n",
      "Epoch end: Train, epoch number: 14\n",
      "TrainEpoch/CM\n",
      " tensor([[32097,     0,  1369,  3648,   634,     0,   592,     0,     0],\n",
      "        [    8, 49128,     1,     0,     5,   193,     0,     0,     1],\n",
      "        [  322,     1, 57034,   151,    86,   196,  6081,     0,     1],\n",
      "        [ 4150,     1,  1466, 31124,   863,     0,  2170,     0,    73],\n",
      "        [  862,     0,  1256,   776, 37739,    14,   180,     0,     2],\n",
      "        [  142,    72,  1179,     0,     0, 41001,    18,    45,     0],\n",
      "        [ 1127,     7, 16352,  4705,   268,   101, 17295,     0,     2],\n",
      "        [  162,   588,    62,     0,     0,     0,     0, 38965,     0],\n",
      "        [  225,    85,   298,     7,    17,     1,     2,     0, 48680]])\n"
     ]
    },
    {
     "data": {
      "application/vnd.jupyter.widget-view+json": {
       "model_id": "5c1c254f6c0a416f88b29a256e46cf0f",
       "version_major": 2,
       "version_minor": 0
      },
      "text/plain": [
       "Validation: |          | 0/? [00:00<?, ?it/s]"
      ]
     },
     "metadata": {},
     "output_type": "display_data"
    },
    {
     "name": "stdout",
     "output_type": "stream",
     "text": [
      "Epoch end: Validation, epoch number: 16\n",
      "ValidationEpoch/CM\n",
      " tensor([[34616,     0,  1369,  3665,   634,     0,   606,     0,     0],\n",
      "        [    9, 52407,     1,     0,     5,   193,     0,     0,     1],\n",
      "        [  322,     1, 60964,   151,    86,   197,  6398,     0,     1],\n",
      "        [ 4157,     1,  1466, 33674,   867,     0,  2258,     0,    74],\n",
      "        [  862,     0,  1256,   780, 40450,    14,   180,     0,     2],\n",
      "        [  142,    72,  1179,     0,     0, 43819,    24,    45,     0],\n",
      "        [ 1142,     7, 16903,  4919,   268,   107, 19159,     0,     2],\n",
      "        [  162,   588,    62,     0,     0,     0,     0, 41610,     0],\n",
      "        [  225,    85,   298,     7,    17,     1,     2,     0, 51960]])\n"
     ]
    },
    {
     "name": "stderr",
     "output_type": "stream",
     "text": [
      "Metric Validation/Accuracy improved by 0.005 >= min_delta = 0.0. New best score: 0.959\n"
     ]
    },
    {
     "name": "stdout",
     "output_type": "stream",
     "text": [
      "Epoch end: Train, epoch number: 15\n",
      "TrainEpoch/CM\n",
      " tensor([[34616,     0,  1369,  3665,   634,     0,   606,     0,     0],\n",
      "        [    9, 52407,     1,     0,     5,   193,     0,     0,     1],\n",
      "        [  322,     1, 60964,   151,    86,   197,  6398,     0,     1],\n",
      "        [ 4157,     1,  1466, 33674,   867,     0,  2258,     0,    74],\n",
      "        [  862,     0,  1256,   780, 40450,    14,   180,     0,     2],\n",
      "        [  142,    72,  1179,     0,     0, 43819,    24,    45,     0],\n",
      "        [ 1142,     7, 16903,  4919,   268,   107, 19159,     0,     2],\n",
      "        [  162,   588,    62,     0,     0,     0,     0, 41610,     0],\n",
      "        [  225,    85,   298,     7,    17,     1,     2,     0, 51960]])\n"
     ]
    },
    {
     "data": {
      "application/vnd.jupyter.widget-view+json": {
       "model_id": "0158d12708444a5090f7105d6eb3daa3",
       "version_major": 2,
       "version_minor": 0
      },
      "text/plain": [
       "Validation: |          | 0/? [00:00<?, ?it/s]"
      ]
     },
     "metadata": {},
     "output_type": "display_data"
    },
    {
     "name": "stdout",
     "output_type": "stream",
     "text": [
      "Epoch end: Validation, epoch number: 17\n",
      "ValidationEpoch/CM\n",
      " tensor([[37134,     0,  1369,  3683,   634,     0,   620,     0,     0],\n",
      "        [    9, 55687,     1,     0,     5,   193,     0,     0,     1],\n",
      "        [  322,     1, 64930,   151,    86,   198,  6679,     0,     1],\n",
      "        [ 4166,     1,  1466, 36229,   871,     0,  2339,     0,    75],\n",
      "        [  862,     0,  1256,   782, 43160,    14,   183,     0,     2],\n",
      "        [  142,    76,  1179,     0,     0, 46631,    32,    45,     0],\n",
      "        [ 1159,     7, 17492,  5129,   268,   114, 20986,     0,     2],\n",
      "        [  162,   588,    62,     0,     0,     0,     0, 44255,     0],\n",
      "        [  225,    85,   298,     7,    17,     1,     2,     0, 55240]])\n",
      "Epoch end: Train, epoch number: 16\n",
      "TrainEpoch/CM\n",
      " tensor([[37134,     0,  1369,  3683,   634,     0,   620,     0,     0],\n",
      "        [    9, 55687,     1,     0,     5,   193,     0,     0,     1],\n",
      "        [  322,     1, 64930,   151,    86,   198,  6679,     0,     1],\n",
      "        [ 4166,     1,  1466, 36229,   871,     0,  2339,     0,    75],\n",
      "        [  862,     0,  1256,   782, 43160,    14,   183,     0,     2],\n",
      "        [  142,    76,  1179,     0,     0, 46631,    32,    45,     0],\n",
      "        [ 1159,     7, 17492,  5129,   268,   114, 20986,     0,     2],\n",
      "        [  162,   588,    62,     0,     0,     0,     0, 44255,     0],\n",
      "        [  225,    85,   298,     7,    17,     1,     2,     0, 55240]])\n"
     ]
    },
    {
     "data": {
      "application/vnd.jupyter.widget-view+json": {
       "model_id": "eb2c36479b184553b66bf283937b829f",
       "version_major": 2,
       "version_minor": 0
      },
      "text/plain": [
       "Validation: |          | 0/? [00:00<?, ?it/s]"
      ]
     },
     "metadata": {},
     "output_type": "display_data"
    },
    {
     "name": "stdout",
     "output_type": "stream",
     "text": [
      "Epoch end: Validation, epoch number: 18\n",
      "ValidationEpoch/CM\n",
      " tensor([[39645,     0,  1369,  3704,   634,     0,   638,     0,     0],\n",
      "        [    9, 58966,     1,     0,     5,   194,     0,     0,     1],\n",
      "        [  322,     1, 68856,   154,    86,   201,  6995,     0,     1],\n",
      "        [ 4172,     1,  1466, 38793,   878,     0,  2412,     0,    75],\n",
      "        [  862,     0,  1256,   788, 45869,    14,   183,     0,     2],\n",
      "        [  142,    76,  1179,     0,     0, 49454,    33,    45,     0],\n",
      "        [ 1170,     7, 18109,  5337,   268,   119, 22795,     0,     2],\n",
      "        [  162,   588,    62,     0,     0,     0,     0, 46900,     0],\n",
      "        [  225,    85,   298,     7,    17,     1,     2,     0, 58520]])\n",
      "Epoch end: Train, epoch number: 17\n",
      "TrainEpoch/CM\n",
      " tensor([[39645,     0,  1369,  3704,   634,     0,   638,     0,     0],\n",
      "        [    9, 58966,     1,     0,     5,   194,     0,     0,     1],\n",
      "        [  322,     1, 68856,   154,    86,   201,  6995,     0,     1],\n",
      "        [ 4172,     1,  1466, 38793,   878,     0,  2412,     0,    75],\n",
      "        [  862,     0,  1256,   788, 45869,    14,   183,     0,     2],\n",
      "        [  142,    76,  1179,     0,     0, 49454,    33,    45,     0],\n",
      "        [ 1170,     7, 18109,  5337,   268,   119, 22795,     0,     2],\n",
      "        [  162,   588,    62,     0,     0,     0,     0, 46900,     0],\n",
      "        [  225,    85,   298,     7,    17,     1,     2,     0, 58520]])\n"
     ]
    },
    {
     "data": {
      "application/vnd.jupyter.widget-view+json": {
       "model_id": "336624bda0c745579832e60dcc50ab7c",
       "version_major": 2,
       "version_minor": 0
      },
      "text/plain": [
       "Validation: |          | 0/? [00:00<?, ?it/s]"
      ]
     },
     "metadata": {},
     "output_type": "display_data"
    },
    {
     "name": "stdout",
     "output_type": "stream",
     "text": [
      "Epoch end: Validation, epoch number: 19\n",
      "ValidationEpoch/CM\n",
      " tensor([[42164,     0,  1369,  3723,   634,     0,   650,     0,     0],\n",
      "        [    9, 62246,     1,     0,     5,   194,     0,     0,     1],\n",
      "        [  322,     1, 72801,   154,    88,   203,  7294,     0,     1],\n",
      "        [ 4175,     1,  1466, 41348,   883,     0,  2499,     0,    75],\n",
      "        [  862,     0,  1257,   788, 48582,    14,   184,     0,     2],\n",
      "        [  142,    76,  1179,     0,     0, 52274,    37,    45,     0],\n",
      "        [ 1181,     7, 18543,  5516,   268,   126, 24814,     0,     2],\n",
      "        [  162,   588,    62,     0,     0,     0,     0, 49545,     0],\n",
      "        [  225,    85,   298,     7,    17,     1,     2,     0, 61800]])\n",
      "Epoch end: Train, epoch number: 18\n",
      "TrainEpoch/CM\n",
      " tensor([[42164,     0,  1369,  3723,   634,     0,   650,     0,     0],\n",
      "        [    9, 62246,     1,     0,     5,   194,     0,     0,     1],\n",
      "        [  322,     1, 72801,   154,    88,   203,  7294,     0,     1],\n",
      "        [ 4175,     1,  1466, 41348,   883,     0,  2499,     0,    75],\n",
      "        [  862,     0,  1257,   788, 48582,    14,   184,     0,     2],\n",
      "        [  142,    76,  1179,     0,     0, 52274,    37,    45,     0],\n",
      "        [ 1181,     7, 18543,  5516,   268,   126, 24814,     0,     2],\n",
      "        [  162,   588,    62,     0,     0,     0,     0, 49545,     0],\n",
      "        [  225,    85,   298,     7,    17,     1,     2,     0, 61800]])\n"
     ]
    },
    {
     "name": "stderr",
     "output_type": "stream",
     "text": [
      "Metric Validation/Accuracy improved by 0.006 >= min_delta = 0.0. New best score: 0.965\n"
     ]
    },
    {
     "data": {
      "application/vnd.jupyter.widget-view+json": {
       "model_id": "ff2f92bdf33b44e99f29c57737fb7394",
       "version_major": 2,
       "version_minor": 0
      },
      "text/plain": [
       "Validation: |          | 0/? [00:00<?, ?it/s]"
      ]
     },
     "metadata": {},
     "output_type": "display_data"
    },
    {
     "name": "stdout",
     "output_type": "stream",
     "text": [
      "Epoch end: Validation, epoch number: 20\n",
      "ValidationEpoch/CM\n",
      " tensor([[44683,     0,  1369,  3742,   634,     0,   662,     0,     0],\n",
      "        [    9, 65526,     1,     0,     5,   194,     0,     0,     1],\n",
      "        [  322,     1, 76768,   154,    90,   203,  7573,     0,     1],\n",
      "        [ 4180,     1,  1466, 43902,   888,     0,  2585,     0,    75],\n",
      "        [  862,     0,  1258,   788, 51295,    14,   185,     0,     2],\n",
      "        [  142,    76,  1179,     0,     0, 55098,    37,    45,     0],\n",
      "        [ 1196,     7, 18992,  5693,   268,   134, 26815,     0,     2],\n",
      "        [  162,   588,    62,     0,     0,     0,     0, 52190,     0],\n",
      "        [  225,    85,   298,     7,    17,     1,     2,     0, 65080]])\n",
      "Epoch end: Train, epoch number: 19\n",
      "TrainEpoch/CM\n",
      " tensor([[44683,     0,  1369,  3742,   634,     0,   662,     0,     0],\n",
      "        [    9, 65526,     1,     0,     5,   194,     0,     0,     1],\n",
      "        [  322,     1, 76768,   154,    90,   203,  7573,     0,     1],\n",
      "        [ 4180,     1,  1466, 43902,   888,     0,  2585,     0,    75],\n",
      "        [  862,     0,  1258,   788, 51295,    14,   185,     0,     2],\n",
      "        [  142,    76,  1179,     0,     0, 55098,    37,    45,     0],\n",
      "        [ 1196,     7, 18992,  5693,   268,   134, 26815,     0,     2],\n",
      "        [  162,   588,    62,     0,     0,     0,     0, 52190,     0],\n",
      "        [  225,    85,   298,     7,    17,     1,     2,     0, 65080]])\n"
     ]
    },
    {
     "data": {
      "application/vnd.jupyter.widget-view+json": {
       "model_id": "c1c6cbee8d4b4846bced293309243c4f",
       "version_major": 2,
       "version_minor": 0
      },
      "text/plain": [
       "Validation: |          | 0/? [00:00<?, ?it/s]"
      ]
     },
     "metadata": {},
     "output_type": "display_data"
    },
    {
     "name": "stdout",
     "output_type": "stream",
     "text": [
      "Epoch end: Validation, epoch number: 21\n",
      "ValidationEpoch/CM\n",
      " tensor([[47210,     0,  1369,  3757,   634,     0,   670,     0,     0],\n",
      "        [    9, 68806,     1,     0,     5,   194,     0,     0,     1],\n",
      "        [  322,     1, 80744,   157,    90,   204,  7841,     0,     1],\n",
      "        [ 4182,     1,  1469, 46479,   896,     0,  2645,     0,    75],\n",
      "        [  862,     0,  1259,   788, 54008,    14,   186,     0,     2],\n",
      "        [  142,    76,  1179,     0,     0, 57919,    40,    45,     0],\n",
      "        [ 1209,     7, 19386,  5871,   268,   138, 28876,     0,     2],\n",
      "        [  162,   588,    62,     0,     0,     0,     0, 54835,     0],\n",
      "        [  225,    85,   298,     7,    17,     1,     2,     0, 68360]])\n",
      "Epoch end: Train, epoch number: 20\n",
      "TrainEpoch/CM\n",
      " tensor([[47210,     0,  1369,  3757,   634,     0,   670,     0,     0],\n",
      "        [    9, 68806,     1,     0,     5,   194,     0,     0,     1],\n",
      "        [  322,     1, 80744,   157,    90,   204,  7841,     0,     1],\n",
      "        [ 4182,     1,  1469, 46479,   896,     0,  2645,     0,    75],\n",
      "        [  862,     0,  1259,   788, 54008,    14,   186,     0,     2],\n",
      "        [  142,    76,  1179,     0,     0, 57919,    40,    45,     0],\n",
      "        [ 1209,     7, 19386,  5871,   268,   138, 28876,     0,     2],\n",
      "        [  162,   588,    62,     0,     0,     0,     0, 54835,     0],\n",
      "        [  225,    85,   298,     7,    17,     1,     2,     0, 68360]])\n"
     ]
    },
    {
     "data": {
      "application/vnd.jupyter.widget-view+json": {
       "model_id": "4962892d0c2b440f8ff657ce338014bd",
       "version_major": 2,
       "version_minor": 0
      },
      "text/plain": [
       "Validation: |          | 0/? [00:00<?, ?it/s]"
      ]
     },
     "metadata": {},
     "output_type": "display_data"
    },
    {
     "name": "stdout",
     "output_type": "stream",
     "text": [
      "Epoch end: Validation, epoch number: 22\n",
      "ValidationEpoch/CM\n",
      " tensor([[49736,     0,  1369,  3774,   634,     0,   677,     0,     0],\n",
      "        [    9, 72085,     1,     0,     5,   194,     0,     1,     1],\n",
      "        [  322,     1, 84722,   158,    90,   204,  8110,     0,     1],\n",
      "        [ 4186,     1,  1470, 49049,   901,     0,  2715,     0,    75],\n",
      "        [  862,     0,  1262,   788, 56720,    14,   186,     0,     2],\n",
      "        [  142,    78,  1179,     0,     0, 60737,    44,    45,     0],\n",
      "        [ 1220,     7, 19757,  6041,   268,   142, 30970,     0,     2],\n",
      "        [  162,   588,    62,     0,     0,     0,     0, 57480,     0],\n",
      "        [  225,    85,   298,     7,    17,     1,     2,     0, 71640]])\n"
     ]
    },
    {
     "name": "stderr",
     "output_type": "stream",
     "text": [
      "Metric Validation/Accuracy improved by 0.001 >= min_delta = 0.0. New best score: 0.965\n"
     ]
    },
    {
     "name": "stdout",
     "output_type": "stream",
     "text": [
      "Epoch end: Train, epoch number: 21\n",
      "TrainEpoch/CM\n",
      " tensor([[49736,     0,  1369,  3774,   634,     0,   677,     0,     0],\n",
      "        [    9, 72085,     1,     0,     5,   194,     0,     1,     1],\n",
      "        [  322,     1, 84722,   158,    90,   204,  8110,     0,     1],\n",
      "        [ 4186,     1,  1470, 49049,   901,     0,  2715,     0,    75],\n",
      "        [  862,     0,  1262,   788, 56720,    14,   186,     0,     2],\n",
      "        [  142,    78,  1179,     0,     0, 60737,    44,    45,     0],\n",
      "        [ 1220,     7, 19757,  6041,   268,   142, 30970,     0,     2],\n",
      "        [  162,   588,    62,     0,     0,     0,     0, 57480,     0],\n",
      "        [  225,    85,   298,     7,    17,     1,     2,     0, 71640]])\n"
     ]
    },
    {
     "data": {
      "application/vnd.jupyter.widget-view+json": {
       "model_id": "0a0a1522805e44708d06a79431323a3a",
       "version_major": 2,
       "version_minor": 0
      },
      "text/plain": [
       "Validation: |          | 0/? [00:00<?, ?it/s]"
      ]
     },
     "metadata": {},
     "output_type": "display_data"
    },
    {
     "name": "stdout",
     "output_type": "stream",
     "text": [
      "Epoch end: Validation, epoch number: 23\n",
      "ValidationEpoch/CM\n",
      " tensor([[52260,     0,  1369,  3790,   634,     0,   687,     0,     0],\n",
      "        [    9, 75364,     1,     0,     5,   194,     0,     2,     1],\n",
      "        [  322,     1, 88728,   160,    91,   204,  8349,     0,     1],\n",
      "        [ 4186,     1,  1472, 51621,   906,     0,  2786,     0,    75],\n",
      "        [  862,     0,  1265,   789, 59431,    14,   186,     0,     2],\n",
      "        [  142,    78,  1179,     0,     0, 63560,    45,    45,     0],\n",
      "        [ 1231,     7, 20134,  6188,   268,   145, 33082,     0,     2],\n",
      "        [  162,   588,    62,     0,     0,     0,     0, 60125,     0],\n",
      "        [  225,    85,   298,     7,    17,     1,     2,     0, 74920]])\n",
      "Epoch end: Train, epoch number: 22\n",
      "TrainEpoch/CM\n",
      " tensor([[52260,     0,  1369,  3790,   634,     0,   687,     0,     0],\n",
      "        [    9, 75364,     1,     0,     5,   194,     0,     2,     1],\n",
      "        [  322,     1, 88728,   160,    91,   204,  8349,     0,     1],\n",
      "        [ 4186,     1,  1472, 51621,   906,     0,  2786,     0,    75],\n",
      "        [  862,     0,  1265,   789, 59431,    14,   186,     0,     2],\n",
      "        [  142,    78,  1179,     0,     0, 63560,    45,    45,     0],\n",
      "        [ 1231,     7, 20134,  6188,   268,   145, 33082,     0,     2],\n",
      "        [  162,   588,    62,     0,     0,     0,     0, 60125,     0],\n",
      "        [  225,    85,   298,     7,    17,     1,     2,     0, 74920]])\n"
     ]
    },
    {
     "data": {
      "application/vnd.jupyter.widget-view+json": {
       "model_id": "eed52a3cb31f4aa5a393156e776bc190",
       "version_major": 2,
       "version_minor": 0
      },
      "text/plain": [
       "Validation: |          | 0/? [00:00<?, ?it/s]"
      ]
     },
     "metadata": {},
     "output_type": "display_data"
    },
    {
     "name": "stdout",
     "output_type": "stream",
     "text": [
      "Epoch end: Validation, epoch number: 24\n",
      "ValidationEpoch/CM\n",
      " tensor([[54787,     0,  1369,  3806,   634,     0,   694,     0,     0],\n",
      "        [    9, 78644,     1,     0,     5,   194,     0,     2,     1],\n",
      "        [  322,     1, 92742,   165,    91,   205,  8577,     0,     1],\n",
      "        [ 4196,     1,  1474, 54145,   913,     0,  2893,     0,    75],\n",
      "        [  862,     0,  1267,   791, 62142,    14,   186,     0,     2],\n",
      "        [  142,    78,  1179,     0,     0, 66382,    47,    45,     0],\n",
      "        [ 1248,     7, 20533,  6322,   268,   148, 35179,     0,     2],\n",
      "        [  162,   588,    62,     0,     0,     0,     0, 62770,     0],\n",
      "        [  225,    85,   298,     7,    17,     1,     2,     0, 78200]])\n",
      "Epoch end: Train, epoch number: 23\n",
      "TrainEpoch/CM\n",
      " tensor([[54787,     0,  1369,  3806,   634,     0,   694,     0,     0],\n",
      "        [    9, 78644,     1,     0,     5,   194,     0,     2,     1],\n",
      "        [  322,     1, 92742,   165,    91,   205,  8577,     0,     1],\n",
      "        [ 4196,     1,  1474, 54145,   913,     0,  2893,     0,    75],\n",
      "        [  862,     0,  1267,   791, 62142,    14,   186,     0,     2],\n",
      "        [  142,    78,  1179,     0,     0, 66382,    47,    45,     0],\n",
      "        [ 1248,     7, 20533,  6322,   268,   148, 35179,     0,     2],\n",
      "        [  162,   588,    62,     0,     0,     0,     0, 62770,     0],\n",
      "        [  225,    85,   298,     7,    17,     1,     2,     0, 78200]])\n"
     ]
    },
    {
     "data": {
      "application/vnd.jupyter.widget-view+json": {
       "model_id": "0832cdbde6dd4cb199b6f5173af31cda",
       "version_major": 2,
       "version_minor": 0
      },
      "text/plain": [
       "Validation: |          | 0/? [00:00<?, ?it/s]"
      ]
     },
     "metadata": {},
     "output_type": "display_data"
    },
    {
     "name": "stdout",
     "output_type": "stream",
     "text": [
      "Epoch end: Validation, epoch number: 25\n",
      "ValidationEpoch/CM\n",
      " tensor([[57310,     0,  1369,  3821,   634,     0,   704,     0,     2],\n",
      "        [    9, 81924,     1,     0,     5,   194,     0,     2,     1],\n",
      "        [  322,     1, 96747,   167,    91,   205,  8818,     0,     1],\n",
      "        [ 4200,     1,  1478, 56642,   919,     0,  3032,     0,    75],\n",
      "        [  862,     0,  1268,   793, 64853,    14,   187,     0,     2],\n",
      "        [  142,    78,  1179,     0,     0, 69206,    47,    45,     0],\n",
      "        [ 1260,     7, 20897,  6451,   268,   149, 37323,     0,     2],\n",
      "        [  162,   588,    62,     0,     0,     0,     0, 65415,     0],\n",
      "        [  225,    85,   298,     7,    17,     1,     2,     0, 81480]])\n",
      "Epoch end: Train, epoch number: 24\n",
      "TrainEpoch/CM\n",
      " tensor([[57310,     0,  1369,  3821,   634,     0,   704,     0,     2],\n",
      "        [    9, 81924,     1,     0,     5,   194,     0,     2,     1],\n",
      "        [  322,     1, 96747,   167,    91,   205,  8818,     0,     1],\n",
      "        [ 4200,     1,  1478, 56642,   919,     0,  3032,     0,    75],\n",
      "        [  862,     0,  1268,   793, 64853,    14,   187,     0,     2],\n",
      "        [  142,    78,  1179,     0,     0, 69206,    47,    45,     0],\n",
      "        [ 1260,     7, 20897,  6451,   268,   149, 37323,     0,     2],\n",
      "        [  162,   588,    62,     0,     0,     0,     0, 65415,     0],\n",
      "        [  225,    85,   298,     7,    17,     1,     2,     0, 81480]])\n"
     ]
    },
    {
     "data": {
      "application/vnd.jupyter.widget-view+json": {
       "model_id": "7229700e5a124a22ad6c558d129022d6",
       "version_major": 2,
       "version_minor": 0
      },
      "text/plain": [
       "Validation: |          | 0/? [00:00<?, ?it/s]"
      ]
     },
     "metadata": {},
     "output_type": "display_data"
    },
    {
     "name": "stdout",
     "output_type": "stream",
     "text": [
      "Epoch end: Validation, epoch number: 26\n",
      "ValidationEpoch/CM\n",
      " tensor([[ 59838,      0,   1369,   3837,    634,      0,    710,      0,      2],\n",
      "        [     9,  85204,      1,      0,      5,    194,      0,      2,      1],\n",
      "        [   322,      1, 100770,    171,     91,    207,   9037,      0,      1],\n",
      "        [  4207,      1,   1479,  59184,    924,      0,   3127,      0,     75],\n",
      "        [   862,      0,   1270,    793,  67565,     14,    188,      0,      2],\n",
      "        [   142,     78,   1179,      0,      0,  72029,     48,     45,      0],\n",
      "        [  1273,      7,  21293,   6585,    268,    153,  39426,      0,      2],\n",
      "        [   162,    588,     62,      0,      0,      0,      0,  68060,      0],\n",
      "        [   225,     85,    298,      7,     17,      1,      2,      0,  84760]])\n",
      "Epoch end: Train, epoch number: 25\n",
      "TrainEpoch/CM\n",
      " tensor([[ 59838,      0,   1369,   3837,    634,      0,    710,      0,      2],\n",
      "        [     9,  85204,      1,      0,      5,    194,      0,      2,      1],\n",
      "        [   322,      1, 100770,    171,     91,    207,   9037,      0,      1],\n",
      "        [  4207,      1,   1479,  59184,    924,      0,   3127,      0,     75],\n",
      "        [   862,      0,   1270,    793,  67565,     14,    188,      0,      2],\n",
      "        [   142,     78,   1179,      0,      0,  72029,     48,     45,      0],\n",
      "        [  1273,      7,  21293,   6585,    268,    153,  39426,      0,      2],\n",
      "        [   162,    588,     62,      0,      0,      0,      0,  68060,      0],\n",
      "        [   225,     85,    298,      7,     17,      1,      2,      0,  84760]])\n"
     ]
    },
    {
     "data": {
      "application/vnd.jupyter.widget-view+json": {
       "model_id": "f785b950e7fc47d09e3f83cdefd05b45",
       "version_major": 2,
       "version_minor": 0
      },
      "text/plain": [
       "Validation: |          | 0/? [00:00<?, ?it/s]"
      ]
     },
     "metadata": {},
     "output_type": "display_data"
    },
    {
     "name": "stdout",
     "output_type": "stream",
     "text": [
      "Epoch end: Validation, epoch number: 27\n",
      "ValidationEpoch/CM\n",
      " tensor([[ 62366,      0,   1369,   3854,    634,      0,    715,      0,      2],\n",
      "        [     9,  88484,      1,      0,      5,    194,      0,      2,      1],\n",
      "        [   322,      1, 104729,    175,     91,    207,   9322,      0,      1],\n",
      "        [  4210,      1,   1484,  61731,    925,      0,   3221,      0,     75],\n",
      "        [   862,      0,   1274,    794,  70272,     14,    191,      0,      2],\n",
      "        [   142,     78,   1179,      0,      0,  74852,     49,     45,      0],\n",
      "        [  1280,      7,  21623,   6703,    268,    155,  41619,      0,      2],\n",
      "        [   162,    588,     62,      0,      0,      0,      0,  70705,      0],\n",
      "        [   225,     85,    298,      7,     17,      1,      2,      0,  88040]])\n",
      "Epoch end: Train, epoch number: 26\n",
      "TrainEpoch/CM\n",
      " tensor([[ 62366,      0,   1369,   3854,    634,      0,    715,      0,      2],\n",
      "        [     9,  88484,      1,      0,      5,    194,      0,      2,      1],\n",
      "        [   322,      1, 104729,    175,     91,    207,   9322,      0,      1],\n",
      "        [  4210,      1,   1484,  61731,    925,      0,   3221,      0,     75],\n",
      "        [   862,      0,   1274,    794,  70272,     14,    191,      0,      2],\n",
      "        [   142,     78,   1179,      0,      0,  74852,     49,     45,      0],\n",
      "        [  1280,      7,  21623,   6703,    268,    155,  41619,      0,      2],\n",
      "        [   162,    588,     62,      0,      0,      0,      0,  70705,      0],\n",
      "        [   225,     85,    298,      7,     17,      1,      2,      0,  88040]])\n"
     ]
    },
    {
     "name": "stderr",
     "output_type": "stream",
     "text": [
      "Metric Validation/Accuracy improved by 0.007 >= min_delta = 0.0. New best score: 0.973\n"
     ]
    },
    {
     "data": {
      "application/vnd.jupyter.widget-view+json": {
       "model_id": "78cfe7ab195c4ac690869dc1e9a6e80a",
       "version_major": 2,
       "version_minor": 0
      },
      "text/plain": [
       "Validation: |          | 0/? [00:00<?, ?it/s]"
      ]
     },
     "metadata": {},
     "output_type": "display_data"
    },
    {
     "name": "stdout",
     "output_type": "stream",
     "text": [
      "Epoch end: Validation, epoch number: 28\n",
      "ValidationEpoch/CM\n",
      " tensor([[ 64893,      0,   1369,   3871,    634,      0,    721,      0,      2],\n",
      "        [     9,  91764,      1,      0,      5,    194,      0,      2,      1],\n",
      "        [   322,      1, 108721,    178,     93,    207,   9573,      0,      1],\n",
      "        [  4214,      1,   1486,  64302,    926,      0,   3293,      0,     75],\n",
      "        [   862,      0,   1276,    794,  72985,     14,    191,      0,      2],\n",
      "        [   142,     78,   1179,      0,      0,  77676,     49,     45,      0],\n",
      "        [  1293,      7,  21912,   6832,    268,    158,  43835,      0,      2],\n",
      "        [   162,    588,     62,      0,      0,      0,      0,  73350,      0],\n",
      "        [   225,     85,    298,      7,     17,      1,      2,      0,  91320]])\n",
      "Epoch end: Train, epoch number: 27\n",
      "TrainEpoch/CM\n",
      " tensor([[ 64893,      0,   1369,   3871,    634,      0,    721,      0,      2],\n",
      "        [     9,  91764,      1,      0,      5,    194,      0,      2,      1],\n",
      "        [   322,      1, 108721,    178,     93,    207,   9573,      0,      1],\n",
      "        [  4214,      1,   1486,  64302,    926,      0,   3293,      0,     75],\n",
      "        [   862,      0,   1276,    794,  72985,     14,    191,      0,      2],\n",
      "        [   142,     78,   1179,      0,      0,  77676,     49,     45,      0],\n",
      "        [  1293,      7,  21912,   6832,    268,    158,  43835,      0,      2],\n",
      "        [   162,    588,     62,      0,      0,      0,      0,  73350,      0],\n",
      "        [   225,     85,    298,      7,     17,      1,      2,      0,  91320]])\n"
     ]
    },
    {
     "data": {
      "application/vnd.jupyter.widget-view+json": {
       "model_id": "0d34f1d9efc04dd982a8ba85f4a57ea2",
       "version_major": 2,
       "version_minor": 0
      },
      "text/plain": [
       "Validation: |          | 0/? [00:00<?, ?it/s]"
      ]
     },
     "metadata": {},
     "output_type": "display_data"
    },
    {
     "name": "stdout",
     "output_type": "stream",
     "text": [
      "Epoch end: Validation, epoch number: 29\n",
      "ValidationEpoch/CM\n",
      " tensor([[ 67429,      0,   1369,   3885,    634,      0,    721,      0,      2],\n",
      "        [     9,  95044,      1,      0,      5,    194,      0,      2,      1],\n",
      "        [   322,      1, 112755,    180,     93,    207,   9785,      0,      1],\n",
      "        [  4218,      1,   1492,  66863,    926,      0,   3372,      0,     75],\n",
      "        [   862,      0,   1278,    794,  75697,     14,    192,      0,      2],\n",
      "        [   142,     78,   1179,      0,      0,  80500,     49,     45,      0],\n",
      "        [  1303,      7,  22211,   6937,    268,    158,  46071,      0,      2],\n",
      "        [   162,    588,     62,      0,      0,      0,      0,  75995,      0],\n",
      "        [   225,     85,    298,      7,     17,      1,      2,      0,  94600]])\n"
     ]
    },
    {
     "name": "stderr",
     "output_type": "stream",
     "text": [
      "Metric Validation/Accuracy improved by 0.004 >= min_delta = 0.0. New best score: 0.977\n"
     ]
    },
    {
     "name": "stdout",
     "output_type": "stream",
     "text": [
      "Epoch end: Train, epoch number: 28\n",
      "TrainEpoch/CM\n",
      " tensor([[ 67429,      0,   1369,   3885,    634,      0,    721,      0,      2],\n",
      "        [     9,  95044,      1,      0,      5,    194,      0,      2,      1],\n",
      "        [   322,      1, 112755,    180,     93,    207,   9785,      0,      1],\n",
      "        [  4218,      1,   1492,  66863,    926,      0,   3372,      0,     75],\n",
      "        [   862,      0,   1278,    794,  75697,     14,    192,      0,      2],\n",
      "        [   142,     78,   1179,      0,      0,  80500,     49,     45,      0],\n",
      "        [  1303,      7,  22211,   6937,    268,    158,  46071,      0,      2],\n",
      "        [   162,    588,     62,      0,      0,      0,      0,  75995,      0],\n",
      "        [   225,     85,    298,      7,     17,      1,      2,      0,  94600]])\n"
     ]
    },
    {
     "data": {
      "application/vnd.jupyter.widget-view+json": {
       "model_id": "79a63f4338884e4d889e8b195ff8c65e",
       "version_major": 2,
       "version_minor": 0
      },
      "text/plain": [
       "Validation: |          | 0/? [00:00<?, ?it/s]"
      ]
     },
     "metadata": {},
     "output_type": "display_data"
    },
    {
     "name": "stdout",
     "output_type": "stream",
     "text": [
      "Epoch end: Validation, epoch number: 30\n",
      "ValidationEpoch/CM\n",
      " tensor([[ 69963,      0,   1369,   3899,    634,      0,    723,      0,      2],\n",
      "        [     9,  98324,      1,      0,      5,    194,      0,      2,      1],\n",
      "        [   322,      1, 116780,    182,     93,    208,  10005,      0,      1],\n",
      "        [  4219,      1,   1495,  69417,    926,      0,   3464,      0,     75],\n",
      "        [   862,      0,   1280,    795,  78409,     14,    192,      0,      2],\n",
      "        [   142,     78,   1179,      0,      0,  83324,     49,     45,      0],\n",
      "        [  1310,      7,  22500,   7041,    268,    158,  48321,      0,      2],\n",
      "        [   162,    588,     62,      0,      0,      0,      0,  78640,      0],\n",
      "        [   225,     85,    298,      7,     17,      1,      2,      0,  97880]])\n",
      "Epoch end: Train, epoch number: 29\n",
      "TrainEpoch/CM\n",
      " tensor([[ 69963,      0,   1369,   3899,    634,      0,    723,      0,      2],\n",
      "        [     9,  98324,      1,      0,      5,    194,      0,      2,      1],\n",
      "        [   322,      1, 116780,    182,     93,    208,  10005,      0,      1],\n",
      "        [  4219,      1,   1495,  69417,    926,      0,   3464,      0,     75],\n",
      "        [   862,      0,   1280,    795,  78409,     14,    192,      0,      2],\n",
      "        [   142,     78,   1179,      0,      0,  83324,     49,     45,      0],\n",
      "        [  1310,      7,  22500,   7041,    268,    158,  48321,      0,      2],\n",
      "        [   162,    588,     62,      0,      0,      0,      0,  78640,      0],\n",
      "        [   225,     85,    298,      7,     17,      1,      2,      0,  97880]])\n"
     ]
    },
    {
     "data": {
      "application/vnd.jupyter.widget-view+json": {
       "model_id": "636326e0d1634cdaaa2e872caa0a893b",
       "version_major": 2,
       "version_minor": 0
      },
      "text/plain": [
       "Validation: |          | 0/? [00:00<?, ?it/s]"
      ]
     },
     "metadata": {},
     "output_type": "display_data"
    },
    {
     "name": "stdout",
     "output_type": "stream",
     "text": [
      "Epoch end: Validation, epoch number: 31\n",
      "ValidationEpoch/CM\n",
      " tensor([[ 72497,      0,   1369,   3911,    634,      0,    727,      0,      2],\n",
      "        [     9, 101604,      1,      0,      5,    194,      0,      2,      1],\n",
      "        [   322,      1, 120822,    184,     93,    208,  10209,      0,      1],\n",
      "        [  4224,      1,   1497,  71979,    927,      0,   3544,      0,     75],\n",
      "        [   862,      0,   1283,    795,  81121,     14,    192,      0,      2],\n",
      "        [   142,     78,   1179,      0,      0,  86148,     49,     45,      0],\n",
      "        [  1318,      7,  22776,   7156,    268,    159,  50571,      0,      2],\n",
      "        [   162,    588,     62,      0,      0,      0,      0,  81285,      0],\n",
      "        [   225,     85,    298,      7,     17,      1,      2,      0, 101160]])\n",
      "Epoch end: Train, epoch number: 30\n",
      "TrainEpoch/CM\n",
      " tensor([[ 72497,      0,   1369,   3911,    634,      0,    727,      0,      2],\n",
      "        [     9, 101604,      1,      0,      5,    194,      0,      2,      1],\n",
      "        [   322,      1, 120822,    184,     93,    208,  10209,      0,      1],\n",
      "        [  4224,      1,   1497,  71979,    927,      0,   3544,      0,     75],\n",
      "        [   862,      0,   1283,    795,  81121,     14,    192,      0,      2],\n",
      "        [   142,     78,   1179,      0,      0,  86148,     49,     45,      0],\n",
      "        [  1318,      7,  22776,   7156,    268,    159,  50571,      0,      2],\n",
      "        [   162,    588,     62,      0,      0,      0,      0,  81285,      0],\n",
      "        [   225,     85,    298,      7,     17,      1,      2,      0, 101160]])\n"
     ]
    },
    {
     "data": {
      "application/vnd.jupyter.widget-view+json": {
       "model_id": "40a2f573b0444f368a20264cffbf9368",
       "version_major": 2,
       "version_minor": 0
      },
      "text/plain": [
       "Validation: |          | 0/? [00:00<?, ?it/s]"
      ]
     },
     "metadata": {},
     "output_type": "display_data"
    },
    {
     "name": "stdout",
     "output_type": "stream",
     "text": [
      "Epoch end: Validation, epoch number: 32\n",
      "ValidationEpoch/CM\n",
      " tensor([[ 75023,      0,   1369,   3929,    634,      0,    733,      0,      2],\n",
      "        [     9, 104884,      1,      0,      5,    194,      0,      2,      1],\n",
      "        [   322,      1, 124802,    187,     93,    208,  10474,      0,      1],\n",
      "        [  4232,      1,   1501,  74541,    927,      0,   3620,      0,     75],\n",
      "        [   862,      0,   1284,    796,  83833,     14,    193,      0,      2],\n",
      "        [   142,     78,   1179,      0,      0,  88972,     49,     45,      0],\n",
      "        [  1332,      7,  23047,   7291,    268,    160,  52800,      0,      2],\n",
      "        [   162,    588,     62,      0,      0,      0,      0,  83930,      0],\n",
      "        [   225,     85,    298,      7,     17,      1,      2,      0, 104440]])\n",
      "Epoch end: Train, epoch number: 31\n",
      "TrainEpoch/CM\n",
      " tensor([[ 75023,      0,   1369,   3929,    634,      0,    733,      0,      2],\n",
      "        [     9, 104884,      1,      0,      5,    194,      0,      2,      1],\n",
      "        [   322,      1, 124802,    187,     93,    208,  10474,      0,      1],\n",
      "        [  4232,      1,   1501,  74541,    927,      0,   3620,      0,     75],\n",
      "        [   862,      0,   1284,    796,  83833,     14,    193,      0,      2],\n",
      "        [   142,     78,   1179,      0,      0,  88972,     49,     45,      0],\n",
      "        [  1332,      7,  23047,   7291,    268,    160,  52800,      0,      2],\n",
      "        [   162,    588,     62,      0,      0,      0,      0,  83930,      0],\n",
      "        [   225,     85,    298,      7,     17,      1,      2,      0, 104440]])\n"
     ]
    },
    {
     "data": {
      "application/vnd.jupyter.widget-view+json": {
       "model_id": "060f11fb44d34320ad42877c74059cdc",
       "version_major": 2,
       "version_minor": 0
      },
      "text/plain": [
       "Validation: |          | 0/? [00:00<?, ?it/s]"
      ]
     },
     "metadata": {},
     "output_type": "display_data"
    },
    {
     "name": "stdout",
     "output_type": "stream",
     "text": [
      "Epoch end: Validation, epoch number: 33\n",
      "ValidationEpoch/CM\n",
      " tensor([[ 77557,      0,   1369,   3943,    634,      0,    735,      0,      2],\n",
      "        [     9, 108164,      1,      0,      5,    194,      0,      2,      1],\n",
      "        [   322,      1, 128820,    189,     93,    208,  10702,      0,      1],\n",
      "        [  4236,      1,   1504,  77108,    927,      0,   3696,      0,     75],\n",
      "        [   862,      0,   1288,    797,  86542,     14,    194,      0,      2],\n",
      "        [   142,     78,   1179,      0,      0,  91796,     49,     45,      0],\n",
      "        [  1340,      7,  23297,   7402,    268,    161,  55080,      0,      2],\n",
      "        [   162,    588,     62,      0,      0,      0,      0,  86575,      0],\n",
      "        [   225,     85,    298,      7,     17,      1,      2,      0, 107720]])\n",
      "Epoch end: Train, epoch number: 32\n",
      "TrainEpoch/CM\n",
      " tensor([[ 77557,      0,   1369,   3943,    634,      0,    735,      0,      2],\n",
      "        [     9, 108164,      1,      0,      5,    194,      0,      2,      1],\n",
      "        [   322,      1, 128820,    189,     93,    208,  10702,      0,      1],\n",
      "        [  4236,      1,   1504,  77108,    927,      0,   3696,      0,     75],\n",
      "        [   862,      0,   1288,    797,  86542,     14,    194,      0,      2],\n",
      "        [   142,     78,   1179,      0,      0,  91796,     49,     45,      0],\n",
      "        [  1340,      7,  23297,   7402,    268,    161,  55080,      0,      2],\n",
      "        [   162,    588,     62,      0,      0,      0,      0,  86575,      0],\n",
      "        [   225,     85,    298,      7,     17,      1,      2,      0, 107720]])\n"
     ]
    },
    {
     "data": {
      "application/vnd.jupyter.widget-view+json": {
       "model_id": "b876a588e1534c0ab351430b1c5bb4ec",
       "version_major": 2,
       "version_minor": 0
      },
      "text/plain": [
       "Validation: |          | 0/? [00:00<?, ?it/s]"
      ]
     },
     "metadata": {},
     "output_type": "display_data"
    },
    {
     "name": "stdout",
     "output_type": "stream",
     "text": [
      "Epoch end: Validation, epoch number: 34\n",
      "ValidationEpoch/CM\n",
      " tensor([[ 80085,      0,   1369,   3955,    634,      0,    745,      0,      2],\n",
      "        [     9, 111444,      1,      0,      5,    194,      0,      2,      1],\n",
      "        [   322,      1, 132886,    190,     94,    208,  10882,      0,      1],\n",
      "        [  4241,      1,   1510,  79660,    927,      0,   3783,      0,     75],\n",
      "        [   862,      0,   1290,    797,  89255,     14,    194,      0,      2],\n",
      "        [   142,     78,   1179,      0,      0,  94620,     49,     45,      0],\n",
      "        [  1350,      7,  23572,   7500,    268,    162,  57346,      0,      2],\n",
      "        [   162,    588,     62,      0,      0,      0,      0,  89220,      0],\n",
      "        [   225,     85,    298,      7,     17,      1,      2,      0, 111000]])\n"
     ]
    },
    {
     "name": "stderr",
     "output_type": "stream",
     "text": [
      "Monitored metric Validation/Accuracy did not improve in the last 5 records. Best score: 0.977. Signaling Trainer to stop.\n"
     ]
    },
    {
     "name": "stdout",
     "output_type": "stream",
     "text": [
      "Epoch end: Train, epoch number: 33\n",
      "TrainEpoch/CM\n",
      " tensor([[ 80085,      0,   1369,   3955,    634,      0,    745,      0,      2],\n",
      "        [     9, 111444,      1,      0,      5,    194,      0,      2,      1],\n",
      "        [   322,      1, 132886,    190,     94,    208,  10882,      0,      1],\n",
      "        [  4241,      1,   1510,  79660,    927,      0,   3783,      0,     75],\n",
      "        [   862,      0,   1290,    797,  89255,     14,    194,      0,      2],\n",
      "        [   142,     78,   1179,      0,      0,  94620,     49,     45,      0],\n",
      "        [  1350,      7,  23572,   7500,    268,    162,  57346,      0,      2],\n",
      "        [   162,    588,     62,      0,      0,      0,      0,  89220,      0],\n",
      "        [   225,     85,    298,      7,     17,      1,      2,      0, 111000]])\n"
     ]
    }
   ],
   "source": [
    "trainer.fit(model=model, train_dataloaders=train_dataloader, val_dataloaders=val_dataloader)"
   ]
  },
  {
   "cell_type": "code",
   "execution_count": 24,
   "metadata": {},
   "outputs": [
    {
     "data": {
      "text/plain": [
       "MalwaresModelMLP(\n",
       "  (train_metrics): MetricCollection(\n",
       "    (MulticlassAccuracy): MulticlassAccuracy()\n",
       "    (MulticlassPrecision): MulticlassPrecision()\n",
       "    (MulticlassRecall): MulticlassRecall()\n",
       "    (MulticlassF1Score): MulticlassF1Score(),\n",
       "    prefix=Train/\n",
       "  )\n",
       "  (val_metrics): MetricCollection(\n",
       "    (MulticlassAccuracy): MulticlassAccuracy()\n",
       "    (MulticlassPrecision): MulticlassPrecision()\n",
       "    (MulticlassRecall): MulticlassRecall()\n",
       "    (MulticlassF1Score): MulticlassF1Score(),\n",
       "    prefix=Validation/\n",
       "  )\n",
       "  (test_metrics): MetricCollection(\n",
       "    (MulticlassAccuracy): MulticlassAccuracy()\n",
       "    (MulticlassPrecision): MulticlassPrecision()\n",
       "    (MulticlassRecall): MulticlassRecall()\n",
       "    (MulticlassF1Score): MulticlassF1Score(),\n",
       "    prefix=Test/\n",
       "  )\n",
       "  (cm): MulticlassConfusionMatrix()\n",
       "  (criterion): CrossEntropyLoss()\n",
       "  (l1): Linear(in_features=30, out_features=30, bias=True)\n",
       "  (l2): Linear(in_features=30, out_features=30, bias=True)\n",
       "  (l3): Linear(in_features=30, out_features=9, bias=True)\n",
       ")"
      ]
     },
     "execution_count": 24,
     "metadata": {},
     "output_type": "execute_result"
    }
   ],
   "source": [
    "model.eval()"
   ]
  },
  {
   "cell_type": "code",
   "execution_count": 25,
   "metadata": {},
   "outputs": [
    {
     "name": "stderr",
     "output_type": "stream",
     "text": [
      "LOCAL_RANK: 0 - CUDA_VISIBLE_DEVICES: [0]\n"
     ]
    },
    {
     "name": "stdout",
     "output_type": "stream",
     "text": [
      "/home/<User>/repos/csg_is/training/sklearn_linear/lightning_logs/version_5/checkpoints/epoch=28-step=1247.ckpt\n",
      "tensor(0.9767, device='cuda:0')\n"
     ]
    },
    {
     "data": {
      "application/vnd.jupyter.widget-view+json": {
       "model_id": "4d16af4a1e7d4ce9b235c4e1ac0d46c9",
       "version_major": 2,
       "version_minor": 0
      },
      "text/plain": [
       "Testing: |          | 0/? [00:00<?, ?it/s]"
      ]
     },
     "metadata": {},
     "output_type": "display_data"
    },
    {
     "name": "stdout",
     "output_type": "stream",
     "text": [
      "Epoch end: Test, epoch number: 0\n",
      "TestEpoch/CM\n",
      " tensor([[513,   0,   0,   5,   0,   0,   0,   0,   0],\n",
      "        [  0, 646,   0,   0,   0,   0,   0,   0,   0],\n",
      "        [  0,   0, 802,   0,   0,   0,  43,   0,   0],\n",
      "        [  0,   0,   0, 497,   0,   0,  23,   0,   0],\n",
      "        [  0,   0,   0,   0, 523,   0,   0,   0,   0],\n",
      "        [  0,   0,   0,   0,   0, 571,   0,   0,   0],\n",
      "        [  3,   0,  41,  15,   0,   0, 495,   0,   0],\n",
      "        [  0,   0,   0,   0,   0,   0,   0, 556,   0],\n",
      "        [  0,   0,   0,   0,   0,   0,   0,   0, 636]])\n",
      "────────────────────────────────────────────────────────────────────────────────────────────────────────────────────────\n",
      "       Test metric             DataLoader 0\n",
      "────────────────────────────────────────────────────────────────────────────────────────────────────────────────────────\n",
      "      Test/Accuracy         0.9766867160797119\n",
      "      Test/F1Score          0.9764164686203003\n",
      "        Test/Loss           0.07035357505083084\n",
      "     Test/Precision         0.9762660264968872\n",
      "       Test/Recall          0.9766867160797119\n",
      "   TestEpoch/Accuracy       0.9765256643295288\n",
      "    TestEpoch/F1Score       0.9765474200248718\n",
      "   TestEpoch/Precision      0.9765797853469849\n",
      "    TestEpoch/Recall        0.9765256643295288\n",
      "────────────────────────────────────────────────────────────────────────────────────────────────────────────────────────\n"
     ]
    },
    {
     "data": {
      "text/plain": [
       "[{'Test/Loss': 0.07035357505083084,\n",
       "  'Test/Accuracy': 0.9766867160797119,\n",
       "  'Test/Precision': 0.9762660264968872,\n",
       "  'Test/Recall': 0.9766867160797119,\n",
       "  'Test/F1Score': 0.9764164686203003,\n",
       "  'TestEpoch/Accuracy': 0.9765256643295288,\n",
       "  'TestEpoch/Precision': 0.9765797853469849,\n",
       "  'TestEpoch/Recall': 0.9765256643295288,\n",
       "  'TestEpoch/F1Score': 0.9765474200248718}]"
      ]
     },
     "execution_count": 25,
     "metadata": {},
     "output_type": "execute_result"
    }
   ],
   "source": [
    "print(checkpoint_callback.best_model_path)   # prints path to the best model's checkpoint\n",
    "print(checkpoint_callback.best_model_score) # and prints it score\n",
    "best_model = MalwaresModelMLP.load_from_checkpoint(checkpoint_callback.best_model_path, input_size = vectors.shape[1]-1, output_size = len(label_encoder.classes_))\n",
    "\n",
    "trainer.test(best_model, dataloaders=val_dataloader)"
   ]
  },
  {
   "cell_type": "code",
   "execution_count": 26,
   "metadata": {},
   "outputs": [
    {
     "name": "stderr",
     "output_type": "stream",
     "text": [
      "LOCAL_RANK: 0 - CUDA_VISIBLE_DEVICES: [0]\n"
     ]
    },
    {
     "name": "stdout",
     "output_type": "stream",
     "text": [
      "/home/<User>/repos/csg_is/training/sklearn_linear/lightning_logs/version_5/checkpoints/epoch=28-step=1247.ckpt\n",
      "tensor(0.9767, device='cuda:0')\n"
     ]
    },
    {
     "data": {
      "application/vnd.jupyter.widget-view+json": {
       "model_id": "dc8ef7a39e9e49cdb397444dd897e718",
       "version_major": 2,
       "version_minor": 0
      },
      "text/plain": [
       "Testing: |          | 0/? [00:00<?, ?it/s]"
      ]
     },
     "metadata": {},
     "output_type": "display_data"
    },
    {
     "name": "stdout",
     "output_type": "stream",
     "text": [
      "Epoch end: Test, epoch number: 0\n",
      "TestEpoch/CM\n",
      " tensor([[518,   0,   0,   0,   0,   0,   0,   0,   0],\n",
      "        [  0, 646,   0,   0,   0,   0,   0,   0,   0],\n",
      "        [  0,   0, 811,   0,   0,   0,  34,   0,   0],\n",
      "        [  0,   0,   0, 496,   0,   0,  24,   0,   0],\n",
      "        [  0,   0,   0,   0, 523,   0,   0,   0,   0],\n",
      "        [  0,   0,   0,   0,   0, 571,   0,   0,   0],\n",
      "        [  0,   0,   1,   8,   0,   0, 545,   0,   0],\n",
      "        [  0,   0,   0,   0,   0,   0,   0, 556,   0],\n",
      "        [  0,   0,   0,   0,   0,   0,   0,   0, 636]])\n",
      "────────────────────────────────────────────────────────────────────────────────────────────────────────────────────────\n",
      "       Test metric             DataLoader 0\n",
      "────────────────────────────────────────────────────────────────────────────────────────────────────────────────────────\n",
      "      Test/Accuracy         0.9888604879379272\n",
      "      Test/F1Score          0.9878873825073242\n",
      "        Test/Loss           0.04431302472949028\n",
      "     Test/Precision         0.9875195622444153\n",
      "       Test/Recall          0.9888604879379272\n",
      "   TestEpoch/Accuracy       0.9885960221290588\n",
      "    TestEpoch/F1Score       0.9877465963363647\n",
      "   TestEpoch/Precision       0.98741215467453\n",
      "    TestEpoch/Recall        0.9885960221290588\n",
      "────────────────────────────────────────────────────────────────────────────────────────────────────────────────────────\n"
     ]
    },
    {
     "data": {
      "text/plain": [
       "[{'Test/Loss': 0.04431302472949028,\n",
       "  'Test/Accuracy': 0.9888604879379272,\n",
       "  'Test/Precision': 0.9875195622444153,\n",
       "  'Test/Recall': 0.9888604879379272,\n",
       "  'Test/F1Score': 0.9878873825073242,\n",
       "  'TestEpoch/Accuracy': 0.9885960221290588,\n",
       "  'TestEpoch/Precision': 0.98741215467453,\n",
       "  'TestEpoch/Recall': 0.9885960221290588,\n",
       "  'TestEpoch/F1Score': 0.9877465963363647}]"
      ]
     },
     "execution_count": 26,
     "metadata": {},
     "output_type": "execute_result"
    }
   ],
   "source": [
    "print(checkpoint_callback.best_model_path)   # prints path to the best model's checkpoint\n",
    "print(checkpoint_callback.best_model_score) # and prints it score\n",
    "best_model = MalwaresModelMLP.load_from_checkpoint(\"/home/<User>/repos/csg_is/training/sklearn_linear/lightning_logs/version_4/checkpoints/epoch=97-step=4116.ckpt\", input_size = vectors.shape[1]-1, output_size = len(label_encoder.classes_))\n",
    "\n",
    "trainer.test(best_model, dataloaders=val_dataloader)"
   ]
  }
 ],
 "metadata": {
  "kernelspec": {
   "display_name": ".venv",
   "language": "python",
   "name": "python3"
  },
  "language_info": {
   "codemirror_mode": {
    "name": "ipython",
    "version": 3
   },
   "file_extension": ".py",
   "mimetype": "text/x-python",
   "name": "python",
   "nbconvert_exporter": "python",
   "pygments_lexer": "ipython3",
   "version": "3.10.12"
  }
 },
 "nbformat": 4,
 "nbformat_minor": 2
}
