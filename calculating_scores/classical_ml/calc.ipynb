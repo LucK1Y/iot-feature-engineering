{
 "cells": [
  {
   "cell_type": "code",
   "execution_count": 2,
   "metadata": {},
   "outputs": [
    {
     "name": "stdout",
     "output_type": "stream",
     "text": [
      "   step     value                     timestamp         tag\n",
      "0    49  1.411568 2024-07-19 10:09:11.759959552  Train/Loss\n",
      "1    99  1.133371 2024-07-19 10:09:12.169078272  Train/Loss\n",
      "2   149  0.997314 2024-07-19 10:09:12.568946176  Train/Loss\n",
      "3   199  1.021909 2024-07-19 10:09:12.959544576  Train/Loss\n",
      "4   249  0.680294 2024-07-19 10:09:13.346163200  Train/Loss\n"
     ]
    }
   ],
   "source": [
    "import os\n",
    "import pandas as pd\n",
    "from datetime import datetime\n",
    "\n",
    "# import tensorflow as tf\n",
    "from tensorboard.backend.event_processing.event_accumulator import EventAccumulator\n",
    "\n",
    "\n",
    "def extract_scalars_from_event_file(event_file):\n",
    "    event_acc = EventAccumulator(event_file)\n",
    "    event_acc.Reload()\n",
    "    \n",
    "\n",
    "    tags = event_acc.Tags()[\"scalars\"]\n",
    "\n",
    "    all_scalars = {}\n",
    "    for tag in tags:\n",
    "        events = event_acc.Scalars(tag)\n",
    "        values = [event.value for event in events]\n",
    "        steps = [event.step for event in events]\n",
    "\n",
    "        timestamps = [pd.to_datetime(event.wall_time, unit='s') for event in events]\n",
    "        all_scalars[tag] = pd.DataFrame({\"step\": steps, \"value\": values, \"timestamp\": timestamps})\n",
    "\n",
    "    return all_scalars\n",
    "\n",
    "\n",
    "files_t = []\n",
    "def event_files_to_dataframe(directory):\n",
    "    all_scalars_dfs = []\n",
    "    for root, _, files in os.walk(directory):\n",
    "        for file in files:\n",
    "            if file.startswith(\"events.out.tfevents\"):\n",
    "                event_file = os.path.join(root, file)\n",
    "\n",
    "                file_from = pd.to_datetime(file.split(\".\")[3], unit='s')\n",
    "                files_t.append(file_from)\n",
    "\n",
    "                # print(file_from)\n",
    "                # if file_from < date_obj:\n",
    "                #     continue\n",
    "\n",
    "                scalars = extract_scalars_from_event_file(event_file)\n",
    "                for tag, df in scalars.items():\n",
    "                    df[\"tag\"] = tag\n",
    "                    all_scalars_dfs.append(df)\n",
    "\n",
    "    all_scalars_df = pd.concat(all_scalars_dfs, ignore_index=True)\n",
    "    return all_scalars_df\n",
    "\n",
    "# df_all = []\n",
    "# for i in range(15):\n",
    "    # Directory containing your event files\n",
    "log_dir = f\"/home/<User>/repos/csg_is/calculating_scores/classical_ml/version_9\"\n",
    "# date_str = \"02/07/2024 10:22:20\" # minus two hours for timezone\n",
    "\n",
    "# date_obj = datetime.strptime(date_str, \"%d/%m/%Y %H:%M:%S\")\n",
    "\n",
    "df = event_files_to_dataframe(log_dir)\n",
    "print(df.head())\n",
    "\n",
    "# df.sort_values(by=\"timestamp\", inplace=True)\n",
    "\n",
    "# files_t.sort(reverse=True)\n",
    "# print(files_t[0], files_t[-1])\n",
    "\n",
    "# df[df[\"tag\"]=='Test/Loss'][\"timestamp\"].max()\n",
    "\n",
    "# test_df = df[df[\"tag\"].str.startswith(\"Test/\")].groupby(\"tag\").last().copy()\n",
    "# print(test_df)\n",
    "# test_df[\"participant\"] = f\"participant_{i}\"\n",
    "# df_all.append(test_df)"
   ]
  },
  {
   "cell_type": "code",
   "execution_count": 6,
   "metadata": {},
   "outputs": [],
   "source": [
    "concat_df = df"
   ]
  },
  {
   "cell_type": "code",
   "execution_count": 16,
   "metadata": {},
   "outputs": [
    {
     "data": {
      "text/plain": [
       "array([   49,    99,   149, ..., 69272, 76969, 76970])"
      ]
     },
     "execution_count": 16,
     "metadata": {},
     "output_type": "execute_result"
    }
   ],
   "source": [
    "# concat_df[\"step\"] > 5400  "
   ]
  },
  {
   "cell_type": "code",
   "execution_count": 11,
   "metadata": {},
   "outputs": [
    {
     "name": "stderr",
     "output_type": "stream",
     "text": [
      "/tmp/ipykernel_25273/1227319542.py:1: FutureWarning: The default value of numeric_only in DataFrameGroupBy.mean is deprecated. In a future version, numeric_only will default to False. Either specify numeric_only or select only columns which should be valid for the function.\n",
      "  test_results = concat_df.groupby(\"tag\").mean().round(4)\n"
     ]
    },
    {
     "data": {
      "text/html": [
       "<div>\n",
       "<style scoped>\n",
       "    .dataframe tbody tr th:only-of-type {\n",
       "        vertical-align: middle;\n",
       "    }\n",
       "\n",
       "    .dataframe tbody tr th {\n",
       "        vertical-align: top;\n",
       "    }\n",
       "\n",
       "    .dataframe thead th {\n",
       "        text-align: right;\n",
       "    }\n",
       "</style>\n",
       "<table border=\"1\" class=\"dataframe\">\n",
       "  <thead>\n",
       "    <tr style=\"text-align: right;\">\n",
       "      <th></th>\n",
       "      <th>step</th>\n",
       "      <th>value</th>\n",
       "    </tr>\n",
       "    <tr>\n",
       "      <th>tag</th>\n",
       "      <th></th>\n",
       "      <th></th>\n",
       "    </tr>\n",
       "  </thead>\n",
       "  <tbody>\n",
       "    <tr>\n",
       "      <th>Test/Accuracy</th>\n",
       "      <td>76970.0</td>\n",
       "      <td>0.9447</td>\n",
       "    </tr>\n",
       "    <tr>\n",
       "      <th>Test/F1Score</th>\n",
       "      <td>76970.0</td>\n",
       "      <td>0.9369</td>\n",
       "    </tr>\n",
       "    <tr>\n",
       "      <th>Test/Loss</th>\n",
       "      <td>76970.0</td>\n",
       "      <td>0.1273</td>\n",
       "    </tr>\n",
       "    <tr>\n",
       "      <th>Test/Precision</th>\n",
       "      <td>76970.0</td>\n",
       "      <td>0.9475</td>\n",
       "    </tr>\n",
       "    <tr>\n",
       "      <th>Test/Recall</th>\n",
       "      <td>76970.0</td>\n",
       "      <td>0.9447</td>\n",
       "    </tr>\n",
       "  </tbody>\n",
       "</table>\n",
       "</div>"
      ],
      "text/plain": [
       "                   step   value\n",
       "tag                            \n",
       "Test/Accuracy   76970.0  0.9447\n",
       "Test/F1Score    76970.0  0.9369\n",
       "Test/Loss       76970.0  0.1273\n",
       "Test/Precision  76970.0  0.9475\n",
       "Test/Recall     76970.0  0.9447"
      ]
     },
     "execution_count": 11,
     "metadata": {},
     "output_type": "execute_result"
    }
   ],
   "source": [
    "test_results = concat_df.groupby(\"tag\").mean().round(4)\n",
    "test_results[test_results.index.str.startswith(\"Test/\")]"
   ]
  },
  {
   "cell_type": "code",
   "execution_count": 8,
   "metadata": {},
   "outputs": [],
   "source": [
    "concat_df.to_csv(\"results_csvs/dfl_15_star.csv\")"
   ]
  }
 ],
 "metadata": {
  "kernelspec": {
   "display_name": "Python 3 (ipykernel)",
   "language": "python",
   "name": "python3"
  },
  "language_info": {
   "codemirror_mode": {
    "name": "ipython",
    "version": 3
   },
   "file_extension": ".py",
   "mimetype": "text/x-python",
   "name": "python",
   "nbconvert_exporter": "python",
   "pygments_lexer": "ipython3",
   "version": "3.10.12"
  }
 },
 "nbformat": 4,
 "nbformat_minor": 2
}
